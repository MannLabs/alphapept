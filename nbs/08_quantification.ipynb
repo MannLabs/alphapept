{
 "cells": [
  {
   "cell_type": "code",
   "execution_count": null,
   "metadata": {},
   "outputs": [],
   "source": [
    "# default_exp quantification"
   ]
  },
  {
   "cell_type": "markdown",
   "metadata": {},
   "source": [
    "# Quantification\n",
    "\n",
    "> Functions related to quantification"
   ]
  },
  {
   "cell_type": "markdown",
   "metadata": {},
   "source": [
    "This notebook contains everything to perform quantification\n",
    "\n",
    "Current ToDo here:\n",
    "\n",
    "- Most of the functions are not very well described yet\n",
    "- Introductory text to give an overview / relevant papers would be nice."
   ]
  },
  {
   "cell_type": "code",
   "execution_count": null,
   "metadata": {},
   "outputs": [],
   "source": [
    "#hide\n",
    "from nbdev.showdoc import *"
   ]
  },
  {
   "cell_type": "markdown",
   "metadata": {},
   "source": [
    "## LFQ\n",
    "\n",
    "Algorithms related to label-free quantifications are motivated by the [MaxLFQ paper](https://doi.org/10.1074/mcp.m113.031591).\n",
    "\n",
    "\n",
    "TODO: Include weighing?\n",
    "TODO: Check boundaries"
   ]
  },
  {
   "cell_type": "markdown",
   "metadata": {},
   "source": [
    "## In Silico Test data\n",
    "\n",
    "To test the performance of different approaches we resort to simulating peptide intensities and adjusting them with a simulated normalization. We can then use different approaches to recover the normalization."
   ]
  },
  {
   "cell_type": "code",
   "execution_count": null,
   "metadata": {},
   "outputs": [],
   "source": [
    "#export\n",
    "import random\n",
    "import numpy as np\n",
    "\n",
    "def gaussian(mu, sigma, grid):\n",
    "    norm = 0.3989422804014327 / sigma\n",
    "    return norm * np.exp(-0.5 * ((grid - mu) / sigma) ** 2)\n",
    "\n",
    "\n",
    "def return_elution_profile(timepoint, sigma, n_runs):\n",
    "    \"\"\"\n",
    "    Simulation of a Gaussian Elution Profile\n",
    "    \"\"\"\n",
    "    return gaussian(timepoint, sigma, np.arange(0, n_runs))\n",
    "\n",
    "\n",
    "def simulate_sample_profiles(n_peptides, n_runs, n_samples, threshold=0.2, use_noise=True):\n",
    "    \"\"\"\n",
    "    Generate random profiles to serve as test data\n",
    "\n",
    "    \"\"\"\n",
    "    abundances = np.random.rand(n_peptides)*10e7\n",
    "    true_normalization = np.random.normal(loc=1, scale=0.1, size=(n_runs, n_samples))\n",
    "    \n",
    "    true_normalization[true_normalization<0] = 0\n",
    "    \n",
    "    true_normalization = true_normalization/np.max(true_normalization)\n",
    "\n",
    "    maxvals = np.max(true_normalization, axis=1)\n",
    "\n",
    "    elution_timepoints = random.choices(list(range(n_runs)), k=n_peptides)\n",
    "\n",
    "    profiles = np.empty((n_runs, n_samples, n_peptides))\n",
    "    profiles[:] = np.nan\n",
    "\n",
    "    for i in range(n_peptides):\n",
    "\n",
    "        elution_timepoint = elution_timepoints[i]\n",
    "        abundance = abundances[i]\n",
    "\n",
    "        profile = return_elution_profile(elution_timepoint, 1, n_runs)\n",
    "        profile = profile/np.max(profile)\n",
    "        profile = profile * abundance\n",
    "        elution_profiles = np.tile(profile, (n_samples, 1)).T\n",
    "\n",
    "        # Some gaussian noise\n",
    "        if use_noise:\n",
    "            noise = np.random.normal(1, 0.2, elution_profiles.shape)\n",
    "            noisy_profile = noise * elution_profiles\n",
    "        else:\n",
    "            noisy_profile = elution_profiles\n",
    "            \n",
    "        #print(noisy_profile)\n",
    "\n",
    "        normalized_profile = noisy_profile * true_normalization\n",
    "\n",
    "        normalized_profile[normalized_profile < threshold] = 0\n",
    "        normalized_profile[normalized_profile == 0] = np.nan\n",
    "        \n",
    "\n",
    "        profiles[:,:,i] = normalized_profile\n",
    "\n",
    "    return profiles, true_normalization"
   ]
  },
  {
   "cell_type": "markdown",
   "metadata": {},
   "source": [
    "## Delayed Normalization"
   ]
  },
  {
   "cell_type": "code",
   "execution_count": null,
   "metadata": {},
   "outputs": [],
   "source": [
    "#export\n",
    "from numba import njit, prange\n",
    "\n",
    "@njit  \n",
    "def get_peptide_error(profile, normalization): \n",
    "    \n",
    "    pep_ints = np.zeros(profile.shape[1])\n",
    "\n",
    "    normalized_profile = profile*normalization\n",
    "\n",
    "    for i in range(len(pep_ints)):\n",
    "        pep_ints[i] = np.nansum(normalized_profile[:,i])\n",
    "\n",
    "    pep_ints = pep_ints[pep_ints>0]\n",
    "\n",
    "    # Loop through all combinations\n",
    "    n = len(pep_ints)\n",
    "\n",
    "    error = 0\n",
    "    for i in range(n):\n",
    "        for j in range(i+1,n):\n",
    "            error += np.abs(np.log(pep_ints[i]/pep_ints[j]))**2\n",
    "            \n",
    "    return error\n",
    "\n",
    "\n",
    "@njit(parallel=True)\n",
    "def get_total_error_parallel(normalization, profiles):\n",
    "    \n",
    "    normalization = normalization.reshape(profiles.shape[:2])\n",
    "    \n",
    "    total_error = 0\n",
    "    \n",
    "    for index in prange(profiles.shape[2]):\n",
    "        total_error += get_peptide_error(profiles[:,:, index], normalization)\n",
    "    \n",
    "    return total_error\n",
    "\n",
    "\n",
    "def get_total_error(normalization, profiles):\n",
    "    \n",
    "    normalization = normalization.reshape(profiles.shape[:2])\n",
    "    \n",
    "    total_error = 0\n",
    "    \n",
    "    for index in range(profiles.shape[2]):\n",
    "        total_error += get_peptide_error(profiles[:,:, index], normalization)\n",
    "    \n",
    "    return total_error"
   ]
  },
  {
   "cell_type": "markdown",
   "metadata": {},
   "source": [
    "## Benchmarking different optimiziers"
   ]
  },
  {
   "cell_type": "code",
   "execution_count": null,
   "metadata": {},
   "outputs": [
    {
     "data": {
      "text/html": [
       "<div>\n",
       "<style scoped>\n",
       "    .dataframe tbody tr th:only-of-type {\n",
       "        vertical-align: middle;\n",
       "    }\n",
       "\n",
       "    .dataframe tbody tr th {\n",
       "        vertical-align: top;\n",
       "    }\n",
       "\n",
       "    .dataframe thead th {\n",
       "        text-align: right;\n",
       "    }\n",
       "</style>\n",
       "<table border=\"1\" class=\"dataframe\">\n",
       "  <thead>\n",
       "    <tr style=\"text-align: right;\">\n",
       "      <th></th>\n",
       "      <th>Method</th>\n",
       "      <th>Time Elapsed (min)</th>\n",
       "      <th>Error / Baseline Error</th>\n",
       "      <th>Error / Ground Truth</th>\n",
       "    </tr>\n",
       "  </thead>\n",
       "  <tbody>\n",
       "    <tr>\n",
       "      <th>0</th>\n",
       "      <td>L-BFGS-B</td>\n",
       "      <td>0.087500</td>\n",
       "      <td>0.636459</td>\n",
       "      <td>0.444292</td>\n",
       "    </tr>\n",
       "    <tr>\n",
       "      <th>1</th>\n",
       "      <td>TNC</td>\n",
       "      <td>0.106746</td>\n",
       "      <td>0.781960</td>\n",
       "      <td>0.545861</td>\n",
       "    </tr>\n",
       "    <tr>\n",
       "      <th>2</th>\n",
       "      <td>SLSQP</td>\n",
       "      <td>0.011716</td>\n",
       "      <td>0.636459</td>\n",
       "      <td>0.444292</td>\n",
       "    </tr>\n",
       "    <tr>\n",
       "      <th>3</th>\n",
       "      <td>trf</td>\n",
       "      <td>0.570578</td>\n",
       "      <td>0.636463</td>\n",
       "      <td>0.444294</td>\n",
       "    </tr>\n",
       "  </tbody>\n",
       "</table>\n",
       "</div>"
      ],
      "text/plain": [
       "     Method  Time Elapsed (min)  Error / Baseline Error  Error / Ground Truth\n",
       "0  L-BFGS-B            0.087500                0.636459              0.444292\n",
       "1       TNC            0.106746                0.781960              0.545861\n",
       "2     SLSQP            0.011716                0.636459              0.444292\n",
       "3       trf            0.570578                0.636463              0.444294"
      ]
     },
     "execution_count": null,
     "metadata": {},
     "output_type": "execute_result"
    }
   ],
   "source": [
    "from scipy.optimize import minimize\n",
    "from time import time\n",
    "from scipy.optimize import least_squares\n",
    "import pandas as pd\n",
    "\n",
    "\n",
    "n_peptides = 100\n",
    "n_runs = 10\n",
    "n_samples = 3\n",
    "\n",
    "profiles, true_normalization = simulate_sample_profiles(n_peptides, n_runs, n_samples)\n",
    "\n",
    "methods = ['L-BFGS-B', 'TNC', 'SLSQP','trf']\n",
    "\n",
    "results = []\n",
    "\n",
    "for method in methods:\n",
    "    \n",
    "    start = time()\n",
    "    \n",
    "    if method in ['trf']:\n",
    "        x0 = np.ones(profiles.shape[0] * profiles.shape[1])\n",
    "        bounds = (x0*0.1, x0)\n",
    "        res = least_squares(get_total_error, args = [profiles], bounds = bounds, x0 = x0, verbose=0, method = method)\n",
    "\n",
    "    else:\n",
    "        x0 = np.ones(profiles.shape[0] * profiles.shape[1])\n",
    "        bounds = [(0.1, 1) for _ in x0]\n",
    "        res = minimize(get_total_error, args = profiles , x0 = x0, bounds=bounds, method=method)\n",
    "\n",
    "    solution = res.x/np.max(res.x)\n",
    "    solution = solution.reshape(profiles.shape[:2])\n",
    "    \n",
    "    end = time()\n",
    "    \n",
    "    time_elapsed_min = (end-start)/60\n",
    "\n",
    "    optimality = get_total_error(solution, profiles) /get_total_error(x0, profiles)\n",
    "    optimality_ = get_total_error(solution, profiles) / get_total_error(true_normalization, profiles)\n",
    "    \n",
    "    results.append((method, time_elapsed_min, optimality, optimality_))\n",
    "    \n",
    "pd.DataFrame(results, columns=['Method', 'Time Elapsed (min)','Error / Baseline Error','Error / Ground Truth'])"
   ]
  },
  {
   "cell_type": "markdown",
   "metadata": {},
   "source": [
    "## Implementation"
   ]
  },
  {
   "cell_type": "code",
   "execution_count": null,
   "metadata": {},
   "outputs": [],
   "source": [
    "#export\n",
    "from scipy.optimize import minimize\n",
    "import pandas as pd\n",
    "import numpy as np\n",
    "\n",
    "minimum_occurence = 10\n",
    "\n",
    "def normalize_experiment_SLSQP(profiles):\n",
    "    \"\"\"\n",
    "    Calculate normalization with SLSQP approach\n",
    "    \"\"\"\n",
    "    x0 = np.ones(profiles.shape[0] * profiles.shape[1])\n",
    "    bounds = [(0.1, 1) for _ in x0]\n",
    "    res = minimize(get_total_error, args = profiles , x0 = x0, bounds=bounds, method='SLSQP', options={'disp': False} )\n",
    "\n",
    "    solution = res.x/np.max(res.x)\n",
    "    solution = solution.reshape(profiles.shape[:2])\n",
    "    \n",
    "    return solution\n",
    "\n",
    "def delayed_normalization(df, field='int_sum', minimum_occurence=None):\n",
    "    \"\"\"\n",
    "    Returns normalization for given peptide intensities \n",
    "    \"\"\"\n",
    "    experiments = np.sort(df['experiment'].unique()).tolist()\n",
    "    fractions = np.sort(df['fraction'].unique()).tolist()\n",
    "\n",
    "    n_fractions = len(fractions)\n",
    "    n_experiments = len(experiments)\n",
    "\n",
    "    df_max = df.groupby(['precursor','fraction','experiment'])[field].max() #Maximum per fraction\n",
    "\n",
    "    prec_count = df_max.index.get_level_values('precursor').value_counts()\n",
    "    \n",
    "    if not minimum_occurence:\n",
    "        minimum_occurence = np.percentile(prec_count[prec_count>1], 75) #Take the 25% best datapoints\n",
    "    \n",
    "    shared_precs = prec_count[prec_count >= minimum_occurence]\n",
    "    precs = prec_count[prec_count > minimum_occurence].index.tolist()\n",
    "\n",
    "    n_profiles = len(precs)\n",
    "\n",
    "    selected_precs = df_max.loc[precs]\n",
    "    selected_precs = selected_precs.reset_index()\n",
    "\n",
    "    profiles = np.empty((n_fractions, n_experiments, n_profiles))\n",
    "    profiles[:] = np.nan\n",
    "\n",
    "    #get dictionaries\n",
    "    fraction_dict = {_:i for i,_ in enumerate(fractions)}\n",
    "    experiment_dict = {_:i for i,_ in enumerate(experiments)}\n",
    "    precursor_dict = {_:i for i,_ in enumerate(precs)}\n",
    "\n",
    "    prec_id = [precursor_dict[_] for _ in selected_precs['precursor']]\n",
    "    frac_id = [fraction_dict[_] for _ in selected_precs['fraction']]\n",
    "    ex_id = [experiment_dict[_] for _ in selected_precs['experiment']]\n",
    "\n",
    "    profiles[frac_id,ex_id, prec_id] = selected_precs[field]\n",
    "    \n",
    "    normalization = normalize_experiment_SLSQP(profiles)\n",
    "    \n",
    "    df[field+'_dn'] = df[field]*normalization[[fraction_dict[_] for _ in df['fraction']], [experiment_dict[_] for _ in df['experiment']]]\n",
    "    \n",
    "    return df, normalization"
   ]
  },
  {
   "cell_type": "markdown",
   "metadata": {},
   "source": [
    "## Constructing protein intensity profiles"
   ]
  },
  {
   "cell_type": "markdown",
   "metadata": {},
   "source": [
    "## Test Data"
   ]
  },
  {
   "cell_type": "code",
   "execution_count": null,
   "metadata": {},
   "outputs": [],
   "source": [
    "import numpy as np\n",
    "import string\n",
    "from time import time\n",
    "import pandas as pd\n",
    "\n",
    "def generate_dummy_data(n_sequences, n_samples, noise=True, remove = True, peptide_ratio = True, abundance=True, signal_level=100, noise_divider=10, keep=0.8):\n",
    "\n",
    "    species = ['P'+str(_) for _ in range(1,n_sequences+1)]\n",
    "    sample = [string.ascii_uppercase[_] for _ in range(n_samples)]\n",
    "    \n",
    "    if peptide_ratio:\n",
    "        peptide_ratio = np.random.rand(n_sequences)\n",
    "        peptide_ratio = peptide_ratio/np.sum(peptide_ratio)\n",
    "    else:\n",
    "        peptide_ratio = np.ones(n_sequences)\n",
    "\n",
    "    if abundance:\n",
    "        abundance_profile = np.random.rand(n_samples,1)\n",
    "    else:\n",
    "        abundance_profile = np.ones((n_samples,1))\n",
    "\n",
    "    original_signal = np.ones((n_samples, n_sequences))\n",
    "\n",
    "    noise_sim = (np.random.rand(n_samples, n_sequences)-0.5)/noise_divider\n",
    "\n",
    "    if noise:\n",
    "        noisy_signal = original_signal+noise_sim\n",
    "        noisy_signal = noisy_signal*signal_level*peptide_ratio*abundance_profile\n",
    "    else:\n",
    "        noisy_signal = original_signal*signal_level*peptide_ratio*abundance_profile\n",
    "\n",
    "    if remove:\n",
    "        #Remove points\n",
    "        keep_probability = keep #keep 60% of the points \n",
    "        to_remove = np.random.rand(n_samples, n_sequences)\n",
    "        to_remove = to_remove>=keep_probability\n",
    "\n",
    "        dummy_data = noisy_signal.copy()\n",
    "\n",
    "        dummy_data[to_remove] = 0\n",
    "\n",
    "    else:\n",
    "        dummy_data = noisy_signal\n",
    "\n",
    "            \n",
    "    dummy_data = pd.DataFrame(dummy_data, index = sample, columns = species).T\n",
    "    \n",
    "    ground_truth = abundance_profile.flatten()\n",
    "    ground_truth = ground_truth/np.max(ground_truth)\n",
    "        \n",
    "    return dummy_data, sample, ground_truth"
   ]
  },
  {
   "cell_type": "markdown",
   "metadata": {},
   "source": [
    "## Determine pair-wise intenisty ratios\n",
    "\n"
   ]
  },
  {
   "cell_type": "code",
   "execution_count": null,
   "metadata": {},
   "outputs": [],
   "source": [
    "from numba import njit\n",
    "\n",
    "@njit\n",
    "def get_protein_ratios(signal, column_combinations, minimum_ratios = 2):\n",
    "    n_samples = signal.shape[1]\n",
    "    ratios = np.empty((n_samples, n_samples))\n",
    "    ratios[:] = np.nan\n",
    "\n",
    "    for element in column_combinations:\n",
    "        i = element[0]\n",
    "        j = element[1]\n",
    "\n",
    "        ratio = signal[:,j] / signal[:,i]\n",
    "        \n",
    "        non_nan = np.sum(~np.isnan(ratio))\n",
    "\n",
    "        if non_nan >= minimum_ratios:\n",
    "            ratio_median = np.nanmedian(ratio)\n",
    "        else:\n",
    "            ratio_median = np.nan\n",
    "\n",
    "        ratios[j,i] = ratio_median\n",
    "    \n",
    "    return ratios "
   ]
  },
  {
   "cell_type": "markdown",
   "metadata": {},
   "source": [
    "## Error Function"
   ]
  },
  {
   "cell_type": "code",
   "execution_count": null,
   "metadata": {},
   "outputs": [],
   "source": [
    "@njit\n",
    "def triangle_error(normalization, ratios):\n",
    "    int_matrix = np.repeat(normalization, len(normalization)).reshape((len(normalization), len(normalization))).transpose()\n",
    "    x = (np.log(ratios) - np.log(int_matrix.T) + np.log(int_matrix))**2\n",
    "    \n",
    "    return np.nansum(x)"
   ]
  },
  {
   "cell_type": "markdown",
   "metadata": {},
   "source": [
    "## Different ways to solve"
   ]
  },
  {
   "cell_type": "code",
   "execution_count": null,
   "metadata": {},
   "outputs": [],
   "source": [
    "## L-BFGS-B\n",
    "\n",
    "from scipy.optimize import minimize\n",
    "\n",
    "# LFBGSB\n",
    "\n",
    "def solve_profile_LFBGSB(ratios):\n",
    "    x0 = np.ones(ratios.shape[1])\n",
    "    bounds = [(x0[0]*0+0.01, x0[0]-0.01) for _ in x0]\n",
    "    res_wrapped = minimize(triangle_error, args = ratios , x0 = x0, bounds=bounds, method = 'L-BFGS-B')\n",
    "    solution = res_wrapped.x\n",
    "    solution = solution/np.max(solution)\n",
    "    return solution, res_wrapped.success\n",
    "\n",
    "\n",
    "def solve_profile_SLSQP(ratios):\n",
    "    x0 = np.ones(ratios.shape[1])\n",
    "    bounds = [(x0[0]*0+0.01, x0[0]-0.01) for _ in x0]\n",
    "    res_wrapped = minimize(triangle_error, args = ratios , x0 = x0, bounds=bounds, method = 'SLSQP', options={'maxiter':10000})\n",
    "    solution = res_wrapped.x\n",
    "    solution = solution/np.max(solution)\n",
    "    return solution, res_wrapped.success\n",
    "\n",
    "\n",
    "# TRF\n",
    "def solve_profile_trf(ratios):\n",
    "    x0 = np.ones(ratios.shape[1])\n",
    "    bounds = (x0*0+0.01, x0-0.01)\n",
    "    res_wrapped = least_squares(triangle_error, args = [ratios] , x0 = x0, bounds=bounds, verbose=0, method = 'trf')\n",
    "    solution = res_wrapped.x\n",
    "    solution = solution/np.max(solution)\n",
    "    return solution, res_wrapped.success\n"
   ]
  },
  {
   "cell_type": "markdown",
   "metadata": {},
   "source": [
    "## Benchmarking different Optimizers"
   ]
  },
  {
   "cell_type": "code",
   "execution_count": null,
   "metadata": {},
   "outputs": [
    {
     "name": "stderr",
     "output_type": "stream",
     "text": [
      "C:\\ProgramData\\Anaconda3\\envs\\alphap\\lib\\site-packages\\scipy\\optimize\\slsqp.py:63: RuntimeWarning: invalid value encountered in subtract\n",
      "  jac[i] = (func(*((x0+dx,)+args)) - f0)/epsilon\n"
     ]
    },
    {
     "data": {
      "text/html": [
       "<div>\n",
       "<style scoped>\n",
       "    .dataframe tbody tr th:only-of-type {\n",
       "        vertical-align: middle;\n",
       "    }\n",
       "\n",
       "    .dataframe tbody tr th {\n",
       "        vertical-align: top;\n",
       "    }\n",
       "\n",
       "    .dataframe thead th {\n",
       "        text-align: right;\n",
       "    }\n",
       "</style>\n",
       "<table border=\"1\" class=\"dataframe\">\n",
       "  <thead>\n",
       "    <tr style=\"text-align: right;\">\n",
       "      <th></th>\n",
       "      <th>Time Elapsed (s)</th>\n",
       "      <th>Mean absolute percentage error</th>\n",
       "      <th>Errors</th>\n",
       "      <th>Success</th>\n",
       "    </tr>\n",
       "    <tr>\n",
       "      <th>Method</th>\n",
       "      <th></th>\n",
       "      <th></th>\n",
       "      <th></th>\n",
       "      <th></th>\n",
       "    </tr>\n",
       "  </thead>\n",
       "  <tbody>\n",
       "    <tr>\n",
       "      <th>L-FBGS-B</th>\n",
       "      <td>0.002457</td>\n",
       "      <td>0.084485</td>\n",
       "      <td>0.0</td>\n",
       "      <td>0.95</td>\n",
       "    </tr>\n",
       "    <tr>\n",
       "      <th>SLSQP</th>\n",
       "      <td>0.005117</td>\n",
       "      <td>0.024116</td>\n",
       "      <td>0.0</td>\n",
       "      <td>1.00</td>\n",
       "    </tr>\n",
       "    <tr>\n",
       "      <th>trf</th>\n",
       "      <td>0.000000</td>\n",
       "      <td>NaN</td>\n",
       "      <td>1.0</td>\n",
       "      <td>1.00</td>\n",
       "    </tr>\n",
       "  </tbody>\n",
       "</table>\n",
       "</div>"
      ],
      "text/plain": [
       "          Time Elapsed (s)  Mean absolute percentage error  Errors  Success\n",
       "Method                                                                     \n",
       "L-FBGS-B          0.002457                        0.084485     0.0     0.95\n",
       "SLSQP             0.005117                        0.024116     0.0     1.00\n",
       "trf               0.000000                             NaN     1.0     1.00"
      ]
     },
     "execution_count": null,
     "metadata": {},
     "output_type": "execute_result"
    }
   ],
   "source": [
    "\n",
    "from itertools import combinations\n",
    "from numba.typed import List\n",
    "\n",
    "n_samples = signal.shape[1]\n",
    "\n",
    "column_combinations = List()\n",
    "[column_combinations.append(_) for _ in combinations(range(n_samples), 2)]\n",
    "\n",
    "\n",
    "methods = {'L-FBGS-B':solve_profile_LFBGSB, 'SLSQP':solve_profile_SLSQP, 'trf':solve_profile_trf}\n",
    "results = []\n",
    "\n",
    "for run in range(20):\n",
    "    signal, sample, ground_truth = generate_dummy_data(10,6)\n",
    "    ratios = get_protein_ratios(signal.values, column_combinations)\n",
    "\n",
    "    for method in methods.keys():\n",
    "        error = False\n",
    "        start = time()\n",
    "        try:\n",
    "            solution, success = methods[method](ratios)\n",
    "            mape = np.mean(np.abs((solution-ground_truth)/ground_truth))\n",
    "        except:\n",
    "            error = True\n",
    "            mape = np.nan\n",
    "            \n",
    "        \n",
    "        end = time()\n",
    "\n",
    "        time_elapsed_s = (end-start)\n",
    "\n",
    "        results.append((method, time_elapsed_s, mape, error, success))\n",
    "    \n",
    "result_df = pd.DataFrame(results, columns=['Method', 'Time Elapsed (s)', 'Mean absolute percentage error', 'Errors', 'Success'])\n",
    "\n",
    "result_df.groupby('Method').mean()"
   ]
  },
  {
   "cell_type": "markdown",
   "metadata": {},
   "source": [
    "> SLSQP seems to be a robust and fast choice"
   ]
  },
  {
   "cell_type": "markdown",
   "metadata": {},
   "source": [
    "## Wrapper function"
   ]
  },
  {
   "cell_type": "code",
   "execution_count": null,
   "metadata": {},
   "outputs": [],
   "source": [
    "from numba.typed import List\n",
    "from itertools import combinations\n",
    "\n",
    "def get_protein_table(df, field = 'int_sum', callback = None):\n",
    "    unique_proteins = df['protein'].unique()\n",
    "    experiments = df['experiment'].unique().tolist()\n",
    "    experiments.sort()\n",
    "    \n",
    "    column_combinations = List()\n",
    "    [column_combinations.append(_) for _ in combinations(range(len(experiments)), 2)]\n",
    "        \n",
    "    columnes_ext = [_+'_LFQ' for _ in experiments]\n",
    "    protein_table = pd.DataFrame(index=unique_proteins, columns=columnes_ext + experiments)\n",
    "\n",
    "    if field+'_dn' in df.columns:\n",
    "        field_ = field+'_dn'\n",
    "    else:\n",
    "        field_ = field\n",
    "\n",
    "    for idx, protein in enumerate(unique_proteins):\n",
    "        subset = df[df['protein'] == protein].copy()\n",
    "        per_protein = subset.groupby(['experiment','precursor'])[field_].sum().unstack().T\n",
    "        ratios = get_protein_ratios(per_protein.values, column_combinations)\n",
    "        experiment_ids = per_protein.columns.tolist()\n",
    "        solution, success= solve_profile_SLSQP(ratios)\n",
    "\n",
    "        pre_lfq = per_protein.sum().values\n",
    "\n",
    "        if not success or np.sum(~np.isnan(ratios)) == 0: # or np.sum(solution) == len(pre_lfq):\n",
    "            profile = pre_lfq\n",
    "        else:\n",
    "            total_int = subset[field_].sum()\n",
    "            total_int_ = np.sum(solution)\n",
    "            profile = total_int/total_int_*solution\n",
    "\n",
    "        protein_table.loc[protein, [_+'_LFQ' for _ in experiment_ids]] = profile\n",
    "        protein_table.loc[protein, experiment_ids] = pre_lfq\n",
    "        \n",
    "        if callback:\n",
    "            callback((idx+1)/len(unique_proteins))\n",
    "        \n",
    "    protein_table = protein_table.astype('float')\n",
    "\n",
    "    return protein_table"
   ]
  },
  {
   "cell_type": "code",
   "execution_count": null,
   "metadata": {},
   "outputs": [],
   "source": [
    "df = pd.read_hdf('../protein_export.hdf5')"
   ]
  },
  {
   "cell_type": "code",
   "execution_count": null,
   "metadata": {},
   "outputs": [],
   "source": [
    "protein_table = get_protein_table(df)"
   ]
  },
  {
   "cell_type": "code",
   "execution_count": null,
   "metadata": {},
   "outputs": [
    {
     "data": {
      "text/html": [
       "<div>\n",
       "<style scoped>\n",
       "    .dataframe tbody tr th:only-of-type {\n",
       "        vertical-align: middle;\n",
       "    }\n",
       "\n",
       "    .dataframe tbody tr th {\n",
       "        vertical-align: top;\n",
       "    }\n",
       "\n",
       "    .dataframe thead th {\n",
       "        text-align: right;\n",
       "    }\n",
       "</style>\n",
       "<table border=\"1\" class=\"dataframe\">\n",
       "  <thead>\n",
       "    <tr style=\"text-align: right;\">\n",
       "      <th></th>\n",
       "      <th>H1_LFQ</th>\n",
       "      <th>H2_LFQ</th>\n",
       "      <th>H3_LFQ</th>\n",
       "      <th>L1_LFQ</th>\n",
       "      <th>L2_LFQ</th>\n",
       "      <th>L3_LFQ</th>\n",
       "      <th>H1</th>\n",
       "      <th>H2</th>\n",
       "      <th>H3</th>\n",
       "      <th>L1</th>\n",
       "      <th>L2</th>\n",
       "      <th>L3</th>\n",
       "    </tr>\n",
       "  </thead>\n",
       "  <tbody>\n",
       "    <tr>\n",
       "      <th>sp|P04075|ALDOA_HUMAN</th>\n",
       "      <td>2.916626e+08</td>\n",
       "      <td>2.909984e+08</td>\n",
       "      <td>4.516589e+08</td>\n",
       "      <td>1.111302e+09</td>\n",
       "      <td>7.662443e+08</td>\n",
       "      <td>9.440061e+08</td>\n",
       "      <td>3.212569e+08</td>\n",
       "      <td>6.161433e+08</td>\n",
       "      <td>3.677183e+08</td>\n",
       "      <td>1.278509e+09</td>\n",
       "      <td>5.362939e+08</td>\n",
       "      <td>7.359515e+08</td>\n",
       "    </tr>\n",
       "    <tr>\n",
       "      <th>sp|P31948|STIP1_HUMAN</th>\n",
       "      <td>1.714980e+08</td>\n",
       "      <td>2.714961e+08</td>\n",
       "      <td>1.958472e+08</td>\n",
       "      <td>3.665722e+08</td>\n",
       "      <td>3.405037e+08</td>\n",
       "      <td>1.879640e+08</td>\n",
       "      <td>1.185026e+08</td>\n",
       "      <td>1.729139e+08</td>\n",
       "      <td>1.479079e+08</td>\n",
       "      <td>4.875966e+08</td>\n",
       "      <td>4.491561e+08</td>\n",
       "      <td>1.578040e+08</td>\n",
       "    </tr>\n",
       "    <tr>\n",
       "      <th>sp|P26639|SYTC_HUMAN</th>\n",
       "      <td>6.743886e+07</td>\n",
       "      <td>7.891265e+07</td>\n",
       "      <td>3.387771e+07</td>\n",
       "      <td>1.462028e+08</td>\n",
       "      <td>1.103586e+08</td>\n",
       "      <td>1.140973e+08</td>\n",
       "      <td>5.772160e+07</td>\n",
       "      <td>1.342937e+08</td>\n",
       "      <td>6.157710e+07</td>\n",
       "      <td>1.019365e+08</td>\n",
       "      <td>9.696970e+07</td>\n",
       "      <td>9.838927e+07</td>\n",
       "    </tr>\n",
       "    <tr>\n",
       "      <th>sp|O43684|BUB3_HUMAN</th>\n",
       "      <td>1.993779e+07</td>\n",
       "      <td>8.310716e+07</td>\n",
       "      <td>5.170905e+07</td>\n",
       "      <td>7.254796e+07</td>\n",
       "      <td>5.877639e+07</td>\n",
       "      <td>1.330190e+08</td>\n",
       "      <td>2.540570e+07</td>\n",
       "      <td>6.671159e+07</td>\n",
       "      <td>4.339218e+07</td>\n",
       "      <td>8.325319e+07</td>\n",
       "      <td>4.989373e+07</td>\n",
       "      <td>1.504410e+08</td>\n",
       "    </tr>\n",
       "    <tr>\n",
       "      <th>sp|P06748|NPM_HUMAN</th>\n",
       "      <td>1.409211e+09</td>\n",
       "      <td>1.782132e+09</td>\n",
       "      <td>1.683457e+09</td>\n",
       "      <td>2.532160e+09</td>\n",
       "      <td>2.361906e+09</td>\n",
       "      <td>3.189431e+09</td>\n",
       "      <td>1.289095e+09</td>\n",
       "      <td>2.642319e+09</td>\n",
       "      <td>1.648315e+09</td>\n",
       "      <td>3.162360e+09</td>\n",
       "      <td>1.543506e+09</td>\n",
       "      <td>2.672701e+09</td>\n",
       "    </tr>\n",
       "    <tr>\n",
       "      <th>...</th>\n",
       "      <td>...</td>\n",
       "      <td>...</td>\n",
       "      <td>...</td>\n",
       "      <td>...</td>\n",
       "      <td>...</td>\n",
       "      <td>...</td>\n",
       "      <td>...</td>\n",
       "      <td>...</td>\n",
       "      <td>...</td>\n",
       "      <td>...</td>\n",
       "      <td>...</td>\n",
       "      <td>...</td>\n",
       "    </tr>\n",
       "    <tr>\n",
       "      <th>sp|P77374|YNFE_ECOLI</th>\n",
       "      <td>NaN</td>\n",
       "      <td>1.470491e+05</td>\n",
       "      <td>NaN</td>\n",
       "      <td>NaN</td>\n",
       "      <td>NaN</td>\n",
       "      <td>NaN</td>\n",
       "      <td>NaN</td>\n",
       "      <td>1.470491e+05</td>\n",
       "      <td>NaN</td>\n",
       "      <td>NaN</td>\n",
       "      <td>NaN</td>\n",
       "      <td>NaN</td>\n",
       "    </tr>\n",
       "    <tr>\n",
       "      <th>sp|P37767|YFHH_ECOLI</th>\n",
       "      <td>2.296468e+05</td>\n",
       "      <td>2.554903e+05</td>\n",
       "      <td>NaN</td>\n",
       "      <td>NaN</td>\n",
       "      <td>NaN</td>\n",
       "      <td>NaN</td>\n",
       "      <td>2.296468e+05</td>\n",
       "      <td>2.554903e+05</td>\n",
       "      <td>NaN</td>\n",
       "      <td>NaN</td>\n",
       "      <td>NaN</td>\n",
       "      <td>NaN</td>\n",
       "    </tr>\n",
       "    <tr>\n",
       "      <th>sp|B7L542|YAII_ECO55</th>\n",
       "      <td>1.574675e+06</td>\n",
       "      <td>NaN</td>\n",
       "      <td>NaN</td>\n",
       "      <td>NaN</td>\n",
       "      <td>NaN</td>\n",
       "      <td>NaN</td>\n",
       "      <td>1.574675e+06</td>\n",
       "      <td>NaN</td>\n",
       "      <td>NaN</td>\n",
       "      <td>NaN</td>\n",
       "      <td>NaN</td>\n",
       "      <td>NaN</td>\n",
       "    </tr>\n",
       "    <tr>\n",
       "      <th>sp|Q8N983|RM43_HUMAN</th>\n",
       "      <td>2.907433e+05</td>\n",
       "      <td>NaN</td>\n",
       "      <td>NaN</td>\n",
       "      <td>NaN</td>\n",
       "      <td>NaN</td>\n",
       "      <td>NaN</td>\n",
       "      <td>2.907433e+05</td>\n",
       "      <td>NaN</td>\n",
       "      <td>NaN</td>\n",
       "      <td>NaN</td>\n",
       "      <td>NaN</td>\n",
       "      <td>NaN</td>\n",
       "    </tr>\n",
       "    <tr>\n",
       "      <th>sp|Q13835|PKP1_HUMAN</th>\n",
       "      <td>1.108425e+05</td>\n",
       "      <td>NaN</td>\n",
       "      <td>NaN</td>\n",
       "      <td>NaN</td>\n",
       "      <td>NaN</td>\n",
       "      <td>NaN</td>\n",
       "      <td>1.108425e+05</td>\n",
       "      <td>NaN</td>\n",
       "      <td>NaN</td>\n",
       "      <td>NaN</td>\n",
       "      <td>NaN</td>\n",
       "      <td>NaN</td>\n",
       "    </tr>\n",
       "  </tbody>\n",
       "</table>\n",
       "<p>3403 rows × 12 columns</p>\n",
       "</div>"
      ],
      "text/plain": [
       "                             H1_LFQ        H2_LFQ        H3_LFQ        L1_LFQ  \\\n",
       "sp|P04075|ALDOA_HUMAN  2.916626e+08  2.909984e+08  4.516589e+08  1.111302e+09   \n",
       "sp|P31948|STIP1_HUMAN  1.714980e+08  2.714961e+08  1.958472e+08  3.665722e+08   \n",
       "sp|P26639|SYTC_HUMAN   6.743886e+07  7.891265e+07  3.387771e+07  1.462028e+08   \n",
       "sp|O43684|BUB3_HUMAN   1.993779e+07  8.310716e+07  5.170905e+07  7.254796e+07   \n",
       "sp|P06748|NPM_HUMAN    1.409211e+09  1.782132e+09  1.683457e+09  2.532160e+09   \n",
       "...                             ...           ...           ...           ...   \n",
       "sp|P77374|YNFE_ECOLI            NaN  1.470491e+05           NaN           NaN   \n",
       "sp|P37767|YFHH_ECOLI   2.296468e+05  2.554903e+05           NaN           NaN   \n",
       "sp|B7L542|YAII_ECO55   1.574675e+06           NaN           NaN           NaN   \n",
       "sp|Q8N983|RM43_HUMAN   2.907433e+05           NaN           NaN           NaN   \n",
       "sp|Q13835|PKP1_HUMAN   1.108425e+05           NaN           NaN           NaN   \n",
       "\n",
       "                             L2_LFQ        L3_LFQ            H1            H2  \\\n",
       "sp|P04075|ALDOA_HUMAN  7.662443e+08  9.440061e+08  3.212569e+08  6.161433e+08   \n",
       "sp|P31948|STIP1_HUMAN  3.405037e+08  1.879640e+08  1.185026e+08  1.729139e+08   \n",
       "sp|P26639|SYTC_HUMAN   1.103586e+08  1.140973e+08  5.772160e+07  1.342937e+08   \n",
       "sp|O43684|BUB3_HUMAN   5.877639e+07  1.330190e+08  2.540570e+07  6.671159e+07   \n",
       "sp|P06748|NPM_HUMAN    2.361906e+09  3.189431e+09  1.289095e+09  2.642319e+09   \n",
       "...                             ...           ...           ...           ...   \n",
       "sp|P77374|YNFE_ECOLI            NaN           NaN           NaN  1.470491e+05   \n",
       "sp|P37767|YFHH_ECOLI            NaN           NaN  2.296468e+05  2.554903e+05   \n",
       "sp|B7L542|YAII_ECO55            NaN           NaN  1.574675e+06           NaN   \n",
       "sp|Q8N983|RM43_HUMAN            NaN           NaN  2.907433e+05           NaN   \n",
       "sp|Q13835|PKP1_HUMAN            NaN           NaN  1.108425e+05           NaN   \n",
       "\n",
       "                                 H3            L1            L2            L3  \n",
       "sp|P04075|ALDOA_HUMAN  3.677183e+08  1.278509e+09  5.362939e+08  7.359515e+08  \n",
       "sp|P31948|STIP1_HUMAN  1.479079e+08  4.875966e+08  4.491561e+08  1.578040e+08  \n",
       "sp|P26639|SYTC_HUMAN   6.157710e+07  1.019365e+08  9.696970e+07  9.838927e+07  \n",
       "sp|O43684|BUB3_HUMAN   4.339218e+07  8.325319e+07  4.989373e+07  1.504410e+08  \n",
       "sp|P06748|NPM_HUMAN    1.648315e+09  3.162360e+09  1.543506e+09  2.672701e+09  \n",
       "...                             ...           ...           ...           ...  \n",
       "sp|P77374|YNFE_ECOLI            NaN           NaN           NaN           NaN  \n",
       "sp|P37767|YFHH_ECOLI            NaN           NaN           NaN           NaN  \n",
       "sp|B7L542|YAII_ECO55            NaN           NaN           NaN           NaN  \n",
       "sp|Q8N983|RM43_HUMAN            NaN           NaN           NaN           NaN  \n",
       "sp|Q13835|PKP1_HUMAN            NaN           NaN           NaN           NaN  \n",
       "\n",
       "[3403 rows x 12 columns]"
      ]
     },
     "execution_count": null,
     "metadata": {},
     "output_type": "execute_result"
    }
   ],
   "source": [
    "protein_table"
   ]
  },
  {
   "cell_type": "code",
   "execution_count": null,
   "metadata": {},
   "outputs": [],
   "source": [
    "protein_table = protein_table.apply(np.log10)\n",
    "\n",
    "protein_table['human'] = protein_table.index.str.contains('HUMAN')\n",
    "protein_table['eco'] = protein_table.index.str.contains('ECO')\n",
    "\n",
    "protein_table['H_LFQ'] = protein_table[['H1_LFQ','H2_LFQ','H3_LFQ']].mean(axis=1)\n",
    "protein_table['L_LFQ'] = protein_table[['L1_LFQ','L2_LFQ','L3_LFQ']].mean(axis=1)\n",
    "\n",
    "protein_table['LFQ_ratio'] = protein_table['H_LFQ'] / protein_table['L_LFQ']\n",
    "protein_table['LFQ_sum'] = protein_table['H_LFQ'] + protein_table['L_LFQ']\n",
    "\n",
    "protein_table['H'] = protein_table[['H1','H2','H3']].mean(axis=1)\n",
    "protein_table['L'] = protein_table[['L1','L2','L3']].mean(axis=1)\n",
    "\n",
    "protein_table['_ratio'] = protein_table['H'] / protein_table['L']\n",
    "protein_table['_sum'] = protein_table['H'] + protein_table['L']\n",
    "\n",
    "\n",
    "protein_table['H_count'] = protein_table[['H1_LFQ','H2_LFQ','H3_LFQ']].count(axis=1)\n",
    "protein_table['L_count'] = protein_table[['L1_LFQ','L2_LFQ','L3_LFQ']].count(axis=1)"
   ]
  },
  {
   "cell_type": "code",
   "execution_count": null,
   "metadata": {},
   "outputs": [],
   "source": [
    "sub = protein_table.query('H_count >= 2 and L_count >=2')"
   ]
  },
  {
   "cell_type": "code",
   "execution_count": null,
   "metadata": {},
   "outputs": [
    {
     "name": "stderr",
     "output_type": "stream",
     "text": [
      "<ipython-input-480-ffedb50b7f2e>:5: UserWarning: Boolean Series key will be reindexed to match DataFrame index.\n",
      "  eco = sub[protein_table['eco']]\n"
     ]
    },
    {
     "data": {
      "text/plain": [
       "[<matplotlib.lines.Line2D at 0x170bedc86a0>]"
      ]
     },
     "execution_count": null,
     "metadata": {},
     "output_type": "execute_result"
    },
    {
     "data": {
      "image/png": "[encoded data removed]",
      "text/plain": [
       "<Figure size 720x720 with 1 Axes>"
      ]
     },
     "metadata": {
      "needs_background": "light"
     },
     "output_type": "display_data"
    },
    {
     "data": {
      "image/png": "[encoded data removed]",
      "text/plain": [
       "<Figure size 720x720 with 1 Axes>"
      ]
     },
     "metadata": {
      "needs_background": "light"
     },
     "output_type": "display_data"
    }
   ],
   "source": [
    "import matplotlib.pyplot as plt\n",
    "plt.figure(figsize=(10,10))\n",
    "\n",
    "human = sub[sub['human']]\n",
    "eco = sub[protein_table['eco']]\n",
    "plt.plot(human['_ratio'], human['_sum'],'.', alpha=0.5)\n",
    "plt.plot(eco['_ratio'], eco['_sum'],'.', alpha=0.5)\n",
    "\n",
    "\n",
    "plt.figure(figsize=(10,10))\n",
    "\n",
    "plt.plot(human['LFQ_ratio'], human['LFQ_sum'],'.', alpha=0.5)\n",
    "plt.plot(eco['LFQ_ratio'], eco['LFQ_sum'],'.', alpha=0.5)"
   ]
  },
  {
   "cell_type": "code",
   "execution_count": null,
   "metadata": {},
   "outputs": [
    {
     "data": {
      "image/png": "[encoded data removed]",
      "text/plain": [
       "<Figure size 432x288 with 1 Axes>"
      ]
     },
     "metadata": {
      "needs_background": "light"
     },
     "output_type": "display_data"
    }
   ],
   "source": [
    "bins = np.linspace(0.9,1.1,100)\n",
    "\n",
    "plt.hist(eco['LFQ_ratio'],bins=bins, alpha=0.5)\n",
    "plt.hist(human['LFQ_ratio'],bins=bins, alpha=0.5)\n",
    "plt.show()"
   ]
  },
  {
   "cell_type": "code",
   "execution_count": null,
   "metadata": {},
   "outputs": [
    {
     "data": {
      "image/png": "[encoded data removed]",
      "text/plain": [
       "<Figure size 432x288 with 1 Axes>"
      ]
     },
     "metadata": {
      "needs_background": "light"
     },
     "output_type": "display_data"
    }
   ],
   "source": [
    "bins = np.linspace(0.9,1.1,100)\n",
    "\n",
    "plt.hist(eco['_ratio'],bins=bins, alpha=0.5)\n",
    "plt.hist(human['_ratio'],bins=bins, alpha=0.5)\n",
    "plt.show()"
   ]
  },
  {
   "cell_type": "code",
   "execution_count": null,
   "metadata": {},
   "outputs": [
    {
     "data": {
      "text/html": [
       "<div>\n",
       "<style scoped>\n",
       "    .dataframe tbody tr th:only-of-type {\n",
       "        vertical-align: middle;\n",
       "    }\n",
       "\n",
       "    .dataframe tbody tr th {\n",
       "        vertical-align: top;\n",
       "    }\n",
       "\n",
       "    .dataframe thead th {\n",
       "        text-align: right;\n",
       "    }\n",
       "</style>\n",
       "<table border=\"1\" class=\"dataframe\">\n",
       "  <thead>\n",
       "    <tr style=\"text-align: right;\">\n",
       "      <th></th>\n",
       "      <th>H1_LFQ</th>\n",
       "      <th>H2_LFQ</th>\n",
       "      <th>H3_LFQ</th>\n",
       "      <th>L1_LFQ</th>\n",
       "      <th>L2_LFQ</th>\n",
       "      <th>L3_LFQ</th>\n",
       "      <th>H1</th>\n",
       "      <th>H2</th>\n",
       "      <th>H3</th>\n",
       "      <th>L1</th>\n",
       "      <th>...</th>\n",
       "      <th>H_LFQ</th>\n",
       "      <th>L_LFQ</th>\n",
       "      <th>LFQ_ratio</th>\n",
       "      <th>LFQ_sum</th>\n",
       "      <th>H</th>\n",
       "      <th>L</th>\n",
       "      <th>_ratio</th>\n",
       "      <th>_sum</th>\n",
       "      <th>H_count</th>\n",
       "      <th>L_count</th>\n",
       "    </tr>\n",
       "  </thead>\n",
       "  <tbody>\n",
       "  </tbody>\n",
       "</table>\n",
       "<p>0 rows × 24 columns</p>\n",
       "</div>"
      ],
      "text/plain": [
       "Empty DataFrame\n",
       "Columns: [H1_LFQ, H2_LFQ, H3_LFQ, L1_LFQ, L2_LFQ, L3_LFQ, H1, H2, H3, L1, L2, L3, human, eco, H_LFQ, L_LFQ, LFQ_ratio, LFQ_sum, H, L, _ratio, _sum, H_count, L_count]\n",
       "Index: []\n",
       "\n",
       "[0 rows x 24 columns]"
      ]
     },
     "execution_count": null,
     "metadata": {},
     "output_type": "execute_result"
    }
   ],
   "source": [
    "protein_table[protein_table['LFQ_ratio'] == 1.0]"
   ]
  },
  {
   "cell_type": "code",
   "execution_count": null,
   "metadata": {},
   "outputs": [],
   "source": [
    "subset = df[df['protein'] == 'sp|Q9BTE6|AASD1_HUMAN'].copy()\n",
    "per_protein = subset.groupby(['experiment','precursor'])[field_].sum().unstack().T\n",
    "ratios = get_protein_ratios(per_protein.values, column_combinations)\n",
    "experiment_ids = per_protein.columns.tolist()\n",
    "solution, success= solve_profile_SLSQP(ratios)"
   ]
  },
  {
   "cell_type": "code",
   "execution_count": null,
   "metadata": {},
   "outputs": [
    {
     "data": {
      "text/html": [
       "<div>\n",
       "<style scoped>\n",
       "    .dataframe tbody tr th:only-of-type {\n",
       "        vertical-align: middle;\n",
       "    }\n",
       "\n",
       "    .dataframe tbody tr th {\n",
       "        vertical-align: top;\n",
       "    }\n",
       "\n",
       "    .dataframe thead th {\n",
       "        text-align: right;\n",
       "    }\n",
       "</style>\n",
       "<table border=\"1\" class=\"dataframe\">\n",
       "  <thead>\n",
       "    <tr style=\"text-align: right;\">\n",
       "      <th>experiment</th>\n",
       "      <th>H1</th>\n",
       "      <th>H2</th>\n",
       "      <th>L1</th>\n",
       "      <th>L2</th>\n",
       "      <th>L3</th>\n",
       "    </tr>\n",
       "    <tr>\n",
       "      <th>precursor</th>\n",
       "      <th></th>\n",
       "      <th></th>\n",
       "      <th></th>\n",
       "      <th></th>\n",
       "      <th></th>\n",
       "    </tr>\n",
       "  </thead>\n",
       "  <tbody>\n",
       "    <tr>\n",
       "      <th>GGGLFLLAGPPASVETLGPR_2</th>\n",
       "      <td>NaN</td>\n",
       "      <td>1.057695e+06</td>\n",
       "      <td>958407.980261</td>\n",
       "      <td>2.565359e+06</td>\n",
       "      <td>1.305568e+06</td>\n",
       "    </tr>\n",
       "    <tr>\n",
       "      <th>TNLIFLSGNR_2</th>\n",
       "      <td>248488.36212</td>\n",
       "      <td>NaN</td>\n",
       "      <td>NaN</td>\n",
       "      <td>NaN</td>\n",
       "      <td>NaN</td>\n",
       "    </tr>\n",
       "  </tbody>\n",
       "</table>\n",
       "</div>"
      ],
      "text/plain": [
       "experiment                        H1            H2             L1  \\\n",
       "precursor                                                           \n",
       "GGGLFLLAGPPASVETLGPR_2           NaN  1.057695e+06  958407.980261   \n",
       "TNLIFLSGNR_2            248488.36212           NaN            NaN   \n",
       "\n",
       "experiment                        L2            L3  \n",
       "precursor                                           \n",
       "GGGLFLLAGPPASVETLGPR_2  2.565359e+06  1.305568e+06  \n",
       "TNLIFLSGNR_2                     NaN           NaN  "
      ]
     },
     "execution_count": null,
     "metadata": {},
     "output_type": "execute_result"
    }
   ],
   "source": [
    "per_protein"
   ]
  },
  {
   "cell_type": "code",
   "execution_count": null,
   "metadata": {},
   "outputs": [],
   "source": [
    "subset = df[df['protein'] == 'sp|Q9UBM7|DHCR7_HUMAN'].copy()\n",
    "per_protein = subset.groupby(['experiment','precursor'])[field_].sum().unstack().T\n",
    "ratios = get_protein_ratios(per_protein.values, column_combinations)\n",
    "experiment_ids = per_protein.columns.tolist()\n",
    "solution, success= solve_profile_SLSQP(ratios)"
   ]
  },
  {
   "cell_type": "code",
   "execution_count": null,
   "metadata": {},
   "outputs": [
    {
     "data": {
      "text/html": [
       "<div>\n",
       "<style scoped>\n",
       "    .dataframe tbody tr th:only-of-type {\n",
       "        vertical-align: middle;\n",
       "    }\n",
       "\n",
       "    .dataframe tbody tr th {\n",
       "        vertical-align: top;\n",
       "    }\n",
       "\n",
       "    .dataframe thead th {\n",
       "        text-align: right;\n",
       "    }\n",
       "</style>\n",
       "<table border=\"1\" class=\"dataframe\">\n",
       "  <thead>\n",
       "    <tr style=\"text-align: right;\">\n",
       "      <th>experiment</th>\n",
       "      <th>H1</th>\n",
       "      <th>H2</th>\n",
       "      <th>L1</th>\n",
       "      <th>L2</th>\n",
       "      <th>L3</th>\n",
       "    </tr>\n",
       "    <tr>\n",
       "      <th>precursor</th>\n",
       "      <th></th>\n",
       "      <th></th>\n",
       "      <th></th>\n",
       "      <th></th>\n",
       "      <th></th>\n",
       "    </tr>\n",
       "  </thead>\n",
       "  <tbody>\n",
       "    <tr>\n",
       "      <th>FLPGYVGGIQEGAVTPAGVVNK_2</th>\n",
       "      <td>2.784715e+06</td>\n",
       "      <td>NaN</td>\n",
       "      <td>7.328927e+06</td>\n",
       "      <td>6.589543e+06</td>\n",
       "      <td>1.477845e+06</td>\n",
       "    </tr>\n",
       "    <tr>\n",
       "      <th>LLVSGFWGVAR_2</th>\n",
       "      <td>NaN</td>\n",
       "      <td>375629.779993</td>\n",
       "      <td>NaN</td>\n",
       "      <td>NaN</td>\n",
       "      <td>NaN</td>\n",
       "    </tr>\n",
       "  </tbody>\n",
       "</table>\n",
       "</div>"
      ],
      "text/plain": [
       "experiment                          H1             H2            L1  \\\n",
       "precursor                                                             \n",
       "FLPGYVGGIQEGAVTPAGVVNK_2  2.784715e+06            NaN  7.328927e+06   \n",
       "LLVSGFWGVAR_2                      NaN  375629.779993           NaN   \n",
       "\n",
       "experiment                          L2            L3  \n",
       "precursor                                             \n",
       "FLPGYVGGIQEGAVTPAGVVNK_2  6.589543e+06  1.477845e+06  \n",
       "LLVSGFWGVAR_2                      NaN           NaN  "
      ]
     },
     "execution_count": null,
     "metadata": {},
     "output_type": "execute_result"
    }
   ],
   "source": [
    "per_protein"
   ]
  },
  {
   "cell_type": "code",
   "execution_count": null,
   "metadata": {},
   "outputs": [
    {
     "data": {
      "text/plain": [
       "0"
      ]
     },
     "execution_count": null,
     "metadata": {},
     "output_type": "execute_result"
    }
   ],
   "source": [
    "np.sum(~np.isnan(ratios))"
   ]
  },
  {
   "cell_type": "code",
   "execution_count": null,
   "metadata": {},
   "outputs": [
    {
     "data": {
      "text/plain": [
       "array([1., 1., 1., 1., 1.])"
      ]
     },
     "execution_count": null,
     "metadata": {},
     "output_type": "execute_result"
    }
   ],
   "source": [
    "solution"
   ]
  },
  {
   "cell_type": "code",
   "execution_count": null,
   "metadata": {},
   "outputs": [
    {
     "data": {
      "text/plain": [
       "188932    1033425\n",
       "Name: int_sum, dtype: int64"
      ]
     },
     "execution_count": null,
     "metadata": {},
     "output_type": "execute_result"
    }
   ],
   "source": [
    "df[df['protein'] == 'sp|Q13835|PKP1_HUMAN']['int_sum']"
   ]
  },
  {
   "cell_type": "code",
   "execution_count": null,
   "metadata": {},
   "outputs": [
    {
     "data": {
      "text/plain": [
       "experiment  precursor         \n",
       "H1          AAPQPLNLVSSVTLSK_2    3447931\n",
       "dtype: int64"
      ]
     },
     "execution_count": null,
     "metadata": {},
     "output_type": "execute_result"
    }
   ],
   "source": [
    "per_protein.unstack()"
   ]
  },
  {
   "cell_type": "code",
   "execution_count": null,
   "metadata": {},
   "outputs": [
    {
     "data": {
      "text/plain": [
       "3.053215672524739"
      ]
     },
     "execution_count": null,
     "metadata": {},
     "output_type": "execute_result"
    }
   ],
   "source": [
    "total_int_"
   ]
  },
  {
   "cell_type": "code",
   "execution_count": null,
   "metadata": {},
   "outputs": [
    {
     "data": {
      "text/plain": [
       "array([0.2945468 , 0.27662017, 1.        , 0.43717327, 0.57789989,\n",
       "       0.46697555])"
      ]
     },
     "execution_count": null,
     "metadata": {},
     "output_type": "execute_result"
    }
   ],
   "source": [
    "solve_profile_SLSQP(ratios)"
   ]
  },
  {
   "cell_type": "code",
   "execution_count": null,
   "metadata": {},
   "outputs": [
    {
     "data": {
      "text/plain": [
       "14038144238"
      ]
     },
     "execution_count": null,
     "metadata": {},
     "output_type": "execute_result"
    }
   ],
   "source": [
    "subset['int_sum'].sum()"
   ]
  },
  {
   "cell_type": "code",
   "execution_count": null,
   "metadata": {},
   "outputs": [],
   "source": [
    "#hide\n",
    "from nbdev.export import *\n",
    "notebook2script()"
   ]
  }
 ],
 "metadata": {
  "kernelspec": {
   "display_name": "Python 3",
   "language": "python",
   "name": "python3"
  }
 },
 "nbformat": 4,
 "nbformat_minor": 2
}
