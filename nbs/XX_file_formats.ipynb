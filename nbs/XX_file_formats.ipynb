{
 "cells": [
  {
   "cell_type": "markdown",
   "id": "937c8adc",
   "metadata": {},
   "source": [
    "# AlphaPept workflow and files\n",
    "\n",
    "## Core\n",
    "The core function of Alphapept is `interface.run_complete_workflow()`. This function requires a settings file (a dictionary containing the settings and file paths). Filewise, we store settings files as `*.yaml` file. When calling the core function, it will run a complete workflow based on the settings given.\n",
    "\n",
    "<img src=\"images/workflow/core.png\" align=\"center\" style=\"width:600px\"/>\n",
    "\n",
    "\n",
    "## GUI\n",
    "\n",
    "When starting the AlphaPept GUI via the shortcut that the one-click installer created or via python (`python -m alphapept gui`), the AlphaPept server will be started. It can be accessed via a browser and provides a graphical user interface (GUI) to the AlphaPept functionality. The server extends the core function to a processing framework.\n",
    "The server is centered around three folders, `Queue`, `Failed`, and `Finished,` which will be created in the `.alphapept`-folder in the user's home directory.  Whenever a new `*.yaml`-file is found in the `Queue`-folder, the server will start handing this over to the core function and start processing. There are three ways to add files to the `Queue`-folder:\n",
    "1. Via the `New experiment`-tab in the GUI\n",
    "2. Manually copying a `*.yaml`-file into the `Queue`-folder\n",
    "3. Automatically via the `File watcher.`\n",
    "\n",
    "The `File watcher` can be set up to monitor a folder; whenever a new file matching pre-defined settings is copied to the folder, it will create a `*.yaml`-file and add it to the `Queue`-folder.\n",
    "\n",
    "Whenever an experiment succeeds, the `*.yaml`-file will be appended by summary information of the experiment and moved to the `Finished`-folder. As the `*.yaml`-file is only very small in size (~kB), it is intended to serve as a history of processed files.\n",
    "\n",
    "Whenever an experiment fails, the `*.yaml`-file will be moved to the `Failed`-folder. It can be moved from there to the `Queue`-folder for reprocessing.\n",
    "\n",
    "\n",
    "### History and Results\n",
    "\n",
    "AlphaPept screens all `*.yaml`-files in the finished folder and plots a run history based on the summary information. This is especially useful for QC or comparison purposes. Additionally, the `*.yaml`-files can be used to investigate the results of a run.\n",
    "\n",
    "<img src=\"images/workflow/gui.png\" align=\"center\" style=\"width:600px\"/>"
   ]
  },
  {
   "cell_type": "markdown",
   "id": "94028a26",
   "metadata": {},
   "source": [
    "## Output Files\n",
    "\n",
    "For each run, AlphaPept creates several output files:\n",
    "- For each raw file, there will a `.ms_data.hdf`-file with raw-specific data, such as `feature_table`, `first_search`, `second_search` and `peptide_fdr`.\n",
    "- For the entire experiment, there will be a `results.hdf` (name can be defined in the settings), which contains experiment-specific data, such as `protein_fdr` and the `protein_table` (containing quantified proteins over all files).\n",
    "- Additionally to the `results.hdf`, there will be a `*.yaml`-file which contains the run settings and summary information of the run. This `*.yaml` can be used to serve as a template to rerun other files with the same settings.\n",
    "- If a database is created from `FASTA`-files there will be a `database.hdf` (name can be defined in the settings). This contains theoretical spectra and can be reused for other experiments (and speedup total analysis time)\n",
    "\n",
    "The `ms_data.hdf`, `results.hdf` and database containers can be accessed via the `alphapept.io` library. The GUI also allows to explore these files. Additionally, the `results.hdf` can be directly loaded via the pandas-package (e.g. `pd.read_hdf('results.hdf', 'protein_table')`.\n",
    "\n",
    "For easier access, AlphaPept directly exports the most relevant tables as `*.csv`:\n",
    "- `results.csv`: The search results after protein_fdr\n",
    "- `results_proteins.csv`: The quantified proteins per file."
   ]
  },
  {
   "cell_type": "markdown",
   "id": "e49afb7a",
   "metadata": {},
   "source": [
    "## Column headers"
   ]
  },
  {
   "cell_type": "code",
   "execution_count": null,
   "id": "571a61e2",
   "metadata": {},
   "outputs": [],
   "source": []
  }
 ],
 "metadata": {
  "kernelspec": {
   "display_name": "Python [conda env:.conda-alphapept] *",
   "language": "python",
   "name": "conda-env-.conda-alphapept-py"
  },
  "language_info": {
   "codemirror_mode": {
    "name": "ipython",
    "version": 3
   },
   "file_extension": ".py",
   "mimetype": "text/x-python",
   "name": "python",
   "nbconvert_exporter": "python",
   "pygments_lexer": "ipython3",
   "version": "3.8.8"
  },
  "toc": {
   "base_numbering": 1,
   "nav_menu": {},
   "number_sections": true,
   "sideBar": true,
   "skip_h1_title": false,
   "title_cell": "Table of Contents",
   "title_sidebar": "Contents",
   "toc_cell": false,
   "toc_position": {},
   "toc_section_display": true,
   "toc_window_display": false
  }
 },
 "nbformat": 4,
 "nbformat_minor": 5
}
