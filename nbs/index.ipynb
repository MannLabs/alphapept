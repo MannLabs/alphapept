{
 "cells": [
  {
   "cell_type": "markdown",
   "metadata": {},
   "source": [
    "![CI](https://github.com/MannLabs/alphapept/workflows/CI/badge.svg)\n",
    "![Sample File Test](https://github.com/MannLabs/alphapept/workflows/Sample%20File%20Test/badge.svg)\n",
    "![Windows Installer](https://github.com/MannLabs/alphapept/workflows/Windows%20Installer/badge.svg)\n",
    "\n",
    "# AlphaPept\n",
    "<img src=\"images/alphapept_logo.png\" align=\"center\"/>\n",
    "> A modular, python-based framework to analyze mass spectrometry data. Powered by nbdev. Supercharged with numba.\n"
   ]
  },
  {
   "cell_type": "markdown",
   "metadata": {},
   "source": [
    "## Documentation\n",
    "\n",
    "The documentation is automatically built based on the jupyter notebooks and can be found [here](https://mannlabs.github.io/alphapept/):"
   ]
  },
  {
   "cell_type": "markdown",
   "metadata": {},
   "source": [
    "## Installation Instructions\n",
    "\n",
    "> To access Thermo files, we rely on [pymsfilereader](https://github.com/frallain/pymsfilereader), which requires to have the `MSFileReader` installed. You can find installation instructions in the GitHub repository.\n",
    "\n",
    "> To access Bruker files, we rely on the `timsdata`-library. Currently, only Windows is supported. For feature finding, we use the Bruker Feature Finder, which can be found in the `ext` folder of this repository.\n",
    "\n",
    "### Standalone Windows Installer\n",
    "To use AlphaPept as a stand-alone program for end-users, it can be installed on Windows machines via a one-click installer. Download the latest version [here](http://alphapept.org).\n",
    "\n",
    "\n",
    "### Python\n",
    "\n",
    "We highly recommend the [Anaconda](https://www.anaconda.com) or [Miniconda](https://docs.conda.io/en/latest/miniconda.html) Python distribution which comes with a powerful package manager.\n",
    "\n",
    "It is strongly recommended to install AlphaPept in its own environment.\n",
    "1. Open the console and create a new conda environment: `conda create --name alphapept python`\n",
    "2. Activate the environment: `source activate alphapept` for Linux / Mac Os X or `activate alphapept` for Windows\n",
    "2. Redirect to the folder of choice and clone the repository: `git clone https://github.com/MannLabs/alphapept.git`\n",
    "3. Install the packages with `pip install -r requirements.txt`\n",
    "4. Install the package with `python setup.py install`\n",
    "5. Install pytables with `conda install pytables`\n",
    "\n",
    "> Note: If you would like to use alphapept in your jupyter notebook environment, additionally install nb_conda: `conda install nb_conda`. This also installs the juper notebook extensions. They can be called from a running jupyter instance like so: `http://localhost:8888/nbextensions`. For navigating the notebooks, the exension `collapsible headings` and `toc2` are very beneficial. For developing with the notebooks see the `nbev` section below.\n",
    "\n",
    "If AlphaPept is installed correctly, you should be able to import Alphapept as a package within the environment; see below."
   ]
  },
  {
   "cell_type": "markdown",
   "metadata": {},
   "source": [
    "## How to use\n",
    "\n",
    "AlphaPept is meant to be a framework to implement and test new ideas quickly but also to serve as a performant processing pipeline. In principle, there are three use-cases:\n",
    "\n",
    "* GUI: Use the graphical user interface to select settings and process files manually.\n",
    "* CMD: Use the command-line interface to process files. Useful when building automatic pipelines.\n",
    "* Python: Use python modules to build individual workflows. Useful when building customized pipelines and using Python as a scripting language or when implementing new ideas. \n",
    "\n",
    "### Windows Installation\n",
    "\n",
    "For the windows installation, simply click on the shortcut after installation. The windows installation also installs the command-line tool so that you can call alphapept via `alphapept` in the command line.\n",
    "\n",
    "### Python Package\n",
    "\n",
    "Once AlphaPept is correctly installed, you can use it like any other python module."
   ]
  },
  {
   "cell_type": "code",
   "execution_count": null,
   "metadata": {},
   "outputs": [
    {
     "data": {
      "text/plain": [
       "{'b1': 98.06004032687,\n",
       " 'b2': 227.10263342686997,\n",
       " 'b3': 324.15539728686997,\n",
       " 'y1': 120.06551965033,\n",
       " 'y2': 217.11828351033,\n",
       " 'y3': 346.16087661033}"
      ]
     },
     "execution_count": null,
     "metadata": {},
     "output_type": "execute_result"
    }
   ],
   "source": [
    "from alphapept.fasta import get_frag_dict, parse\n",
    "from alphapept import constants\n",
    "\n",
    "peptide = 'PEPT'\n",
    "\n",
    "get_frag_dict(parse(peptide), constants.mass_dict)"
   ]
  },
  {
   "cell_type": "markdown",
   "metadata": {},
   "source": [
    "### Using as a tool\n",
    "\n",
    "To launch the command line interface use:\n",
    "* `python alphapept`\n",
    "\n",
    "This allows us to select different modules. To start the GUI use:\n",
    "* `python alphapept gui`\n",
    "\n",
    "Likewise, to start the watcher use:\n",
    "* `python alphapept watcher`\n",
    "\n",
    "Note that when working on the GitHub repository, you might want to launch the codebase you are working on and not the installed version. Here, call AlphaPept as a module: `python -m alphapept`, `python -m alphapept gui` and `python -m alphapept watcher`"
   ]
  },
  {
   "cell_type": "markdown",
   "metadata": {},
   "source": [
    "### Watcher\n",
    "AlphaPept has a watcher module that continuously monitors a target folder and automatically performs file conversion and feature finding on new files.\n",
    "\n",
    "### Processing experiments\n",
    "\n",
    "AlphaPept is centered around settings-files. Here you can specify the settings and then use `run_alphapept` function to perform processing."
   ]
  },
  {
   "cell_type": "markdown",
   "metadata": {},
   "source": [
    "## Analyzing an experiment\n",
    "This describes the minimal steps to analyze an experiment.\n",
    "\n",
    "### GUI\n",
    "\n",
    "1. Open the GUI. Drag and drop experimental files and at least one fasta in the `Experiment` tab. \n",
    "2. Default settings are loaded and can be changed or saved in the `Settings` tab\n",
    "3. Navigate to the Run panel and click `Start`\n",
    "\n",
    "### Investigating the result files\n",
    "The experimental results will be stored in the corresponding *.hdf-files and loaded with pandas. \n",
    "\n",
    "### CMD / Python\n",
    "1. Create a settings-file. This can be done by changing the `default_settings.yaml` in the repository or using the GUI.\n",
    "2. Run the analysis with the new settings file. `python -m alphapept run new_settings.yaml`\n",
    "\n",
    "Within Python (i.e., Jupyter notebook) the following code would be required)\n",
    "```\n",
    "from alphapept.settings import load_settings\n",
    "from alphapept.runner import run_alphapept\n",
    "settings = load_settings('new_settings.yaml')\n",
    "r = run_alphapept(settings)\n",
    "```"
   ]
  },
  {
   "cell_type": "markdown",
   "metadata": {},
   "source": [
    "## Contributing\n",
    "If you have a feature request or a bug report, please post it as an issue on the GitHub issue tracker. If you want to contribute, put a PR for it. You can find more guidelines for contributing and how to get started [here](https://github.com/MannLabs/alphapept/blob/master/CONTRIBUTING.md). I will gladly guide you through the codebase and credit you accordingly. Additionally, you can check out the Projects-page on GitHub. You can also contact me via opensource@alphapept.com."
   ]
  },
  {
   "cell_type": "code",
   "execution_count": null,
   "metadata": {},
   "outputs": [
    {
     "name": "stdout",
     "output_type": "stream",
     "text": [
      "Converted 00_settings.ipynb.\n",
      "Converted 01_chem.ipynb.\n",
      "Converted 02_io.ipynb.\n",
      "Converted 03_fasta.ipynb.\n",
      "Converted 04_feature_finding.ipynb.\n",
      "Converted 05_search.ipynb.\n",
      "Converted 06_score.ipynb.\n",
      "Converted 07_recalibration.ipynb.\n",
      "Converted 08_quantification.ipynb.\n",
      "Converted 09_matching.ipynb.\n",
      "Converted 10_constants.ipynb.\n",
      "Converted index.ipynb.\n",
      "Converted Untitled.ipynb.\n"
     ]
    }
   ],
   "source": [
    "#hide\n",
    "from nbdev.export import *\n",
    "notebook2script()"
   ]
  }
 ],
 "metadata": {
  "kernelspec": {
   "display_name": "Python 3",
   "language": "python",
   "name": "python3"
  }
 },
 "nbformat": 4,
 "nbformat_minor": 2
}
