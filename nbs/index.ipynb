{
 "cells": [
  {
   "cell_type": "markdown",
   "metadata": {},
   "source": [
    "# AlphaPept\n",
    "\n",
    "> A modular, python-based framework for mass spectrometry. Powered by nbdev. Supercharged with numba."
   ]
  },
  {
   "cell_type": "markdown",
   "metadata": {},
   "source": [
    "![alphapept](../img/alphapept_logo.png)"
   ]
  },
  {
   "cell_type": "markdown",
   "metadata": {},
   "source": [
    "## Current ToDo here:\n",
    "\n",
    "- Compile Standalone Installer / Gui and update Installation Instructions\n",
    "- Write brief introduction on how to use the modules\n",
    "- Write how to report bugs / contribute\n"
   ]
  },
  {
   "cell_type": "markdown",
   "metadata": {},
   "source": [
    "## Documentation\n",
    "\n",
    "The documentation is automatically build based the jupyter notebooks and can be found [here](https://mannlabs.github.io/alphapept/):"
   ]
  },
  {
   "cell_type": "markdown",
   "metadata": {},
   "source": [
    "## Installation Instructions\n",
    "\n",
    "### Conda\n",
    "It is strongly recommended to install AlphaPept in its own environment.\n",
    "1. Open the console and create a new conda environment: conda create --name alphapept python\n",
    "2. Activate the environment: `source activate alphapept` for Linux / Mac Os X or `activate alphapept` for Windows\n",
    "2. Redirect to the folder of choice and clone the repository: `git clone https://github.com/MannLabs/alphapept.git`\n",
    "3. Install the package with `python setup.py install`\n",
    "\n",
    "    Note: If you would like to use alphapept in your jupyter notebook environment, additionally install nb_conda: `conda install nb_conda`\n",
    "\n",
    "If AlphaPept is installed correctly, you should be able to import Alphapept as a package within the environment, see below.\n",
    "\n",
    "### Standalone Installation\n",
    "\n",
    "* TBD"
   ]
  },
  {
   "cell_type": "markdown",
   "metadata": {},
   "source": [
    "## Watcher:\n",
    "\n",
    "`python -m alphapept.watcher`"
   ]
  },
  {
   "cell_type": "markdown",
   "metadata": {},
   "source": [
    "## How to use\n",
    "\n",
    "### GUI\n",
    "\n",
    "* TBD\n",
    "\n",
    "### Command-Line\n",
    "\n",
    "* TBD\n"
   ]
  },
  {
   "cell_type": "markdown",
   "metadata": {},
   "source": [
    "### As a Python Package\n",
    "Once AlphaPept is correctly installed you can use it like any other python module."
   ]
  },
  {
   "cell_type": "code",
   "execution_count": null,
   "metadata": {},
   "outputs": [
    {
     "data": {
      "text/plain": [
       "{'b1': 98.06004032687,\n",
       " 'b2': 227.10263342686997,\n",
       " 'b3': 324.15539728686997,\n",
       " 'y1': 120.06551965033,\n",
       " 'y2': 217.11828351033,\n",
       " 'y3': 346.16087661033}"
      ]
     },
     "execution_count": null,
     "metadata": {},
     "output_type": "execute_result"
    }
   ],
   "source": [
    "from alphapept.fasta import get_frag_dict, parse\n",
    "from alphapept import constants\n",
    "\n",
    "peptide = 'PEPT'\n",
    "\n",
    "get_frag_dict(parse(peptide), constants.mass_dict)"
   ]
  },
  {
   "cell_type": "markdown",
   "metadata": {},
   "source": [
    "## Notes for Programmers\n",
    "\n",
    "### Literal Programming\n",
    "A key feature is the use of [nbdev](https://github.com/fastai/nbdev). We like to keep the entrance barrier low to attract new coders to contribute to the AlphaPept package. For this, we see nbedv as an ideal tool to document and modify code.\n",
    "\n",
    "### Testing\n",
    "\n",
    "In order to make AlphaPept a sustainable package, it is imperative that all functions have tests. This is not only to ensure the proper execution of the function but also for the long run when wanting to keep up-to-date with package updates. For tracking package updates, we rely on [dependabot](https://dependabot.com). For continuous integration, we use GitHub Actions.\n",
    "\n",
    "### Numba - first\n",
    "\n",
    "We heavily rely on the [Numba](http://numba.pydata.org) package for efficient computation. As writing classes in numba with `@jitclass` requires type specification, in most cases, we prefer functional programming over\n",
    "Object-oriented programming for simplicity. Here, adding the decorator `@njit` is mostly enough.\n",
    "\n",
    "### Parallelization strategies\n",
    "\n",
    "Python has some powerful parallelization tools, such as the `multiprocessing` library. `Numba` allows loops to be executed in parallel when flagging with `prange`, which is, from a syntactic point of view, a very elegant solution to parallel processing. It comes with the downside that we cannot easily track the progress of parallel functions that use `prange`. We, therefore, chunk data where possible to be able to have a progress bar. Additionally, currently, it is not possible to set the number of cores that should be used.\n",
    "\n",
    "From a data analysis point of view, there are several considerations to be taken into account: When processing multiple files in parallel, it would be suitable to launch several processes in parallel, where the multiprocessing library would come in handy. On the other hand, when only wanting to investigate a single file, having the individual functions parallelized would be beneficial.\n",
    "\n",
    "Hence, the core idea is to write fast single-core functions and also have parallelized versions where applicable. For multi-file processing, we will rely on the `multiprocessing`.\n",
    "\n",
    "### Callbacks\n",
    "\n",
    "As AlphaPept is intended to be the backend of a tool with GUI, we ideally want to be able to get a progress bar out of the major functions. For this, we can pass a `callback`-argument to the major functions. If the argument is passed, it will return the current progress in the range from 0 to 1.\n",
    "\n",
    "### Constants \n",
    "\n",
    "One good way to handle constants would be to use globals. However, numba is not able to use typed dictionaries/classes as globals. We therefore pass them as variables (such as the mass_dict), which in some cases leads to functions with a lot of arguments. Note that `numba` is not able to handle `kwargs` and `args` at this point."
   ]
  },
  {
   "cell_type": "code",
   "execution_count": null,
   "metadata": {},
   "outputs": [
    {
     "name": "stdout",
     "output_type": "stream",
     "text": [
      "Converted # Search Modes.ipynb.\n",
      "Converted 01_chem.ipynb.\n",
      "Converted 02_io.ipynb.\n",
      "Converted 03_fasta.ipynb.\n",
      "Converted 04_feature_finding.ipynb.\n",
      "Converted 05_search.ipynb.\n",
      "Converted 06_score.ipynb.\n",
      "Converted 07_recalibration.ipynb.\n",
      "Converted 08_quantification.ipynb.\n",
      "Converted 09_matching.ipynb.\n",
      "Converted 10_constants.ipynb.\n",
      "Converted 11_settings.ipynb.\n",
      "Converted 12_runner.ipynb.\n",
      "Converted 13_parallel.ipynb.\n",
      "Converted FF_parallel.ipynb.\n",
      "Converted index.ipynb.\n",
      "Converted Large fasta Search.ipynb.\n",
      "Converted OTF, revised.ipynb.\n",
      "Converted parallel_revision.ipynb.\n",
      "Converted Untitled.ipynb.\n",
      "Converted Untitled1.ipynb.\n",
      "Converted Untitled2.ipynb.\n"
     ]
    }
   ],
   "source": [
    "#hide\n",
    "from nbdev.export import *\n",
    "notebook2script()"
   ]
  }
 ],
 "metadata": {
  "kernelspec": {
   "display_name": "Python 3",
   "language": "python",
   "name": "python3"
  }
 },
 "nbformat": 4,
 "nbformat_minor": 2
}
