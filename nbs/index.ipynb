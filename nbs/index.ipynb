{
 "cells": [
  {
   "cell_type": "markdown",
   "metadata": {},
   "source": [
    "![CI](https://github.com/MannLabs/alphapept/workflows/CI/badge.svg)\n",
    "![Quick Test](https://github.com/MannLabs/alphapept/workflows/Quick%20Test/badge.svg)\n",
    "![Performance test](https://github.com/MannLabs/alphapept/workflows/Performance%20test/badge.svg)\n",
    "![Windows Installer](https://github.com/MannLabs/alphapept/workflows/Windows%20Installer/badge.svg)\n",
    "\n",
    "[![DOI:10.1101/2021.07.23.453379](http://img.shields.io/badge/DOI-10.1101/2021.07.23.453379-B31B1B.svg)](https://www.biorxiv.org/content/10.1101/2021.07.23.453379v1)\n",
    "\n",
    "# AlphaPept\n",
    "![](https://i.imgur.com/xkFtDff.jpg)\n",
    " > A modular, python-based framework to analyze mass spectrometry data. Powered by nbdev. Supercharged with numba.\n"
   ]
  },
  {
   "cell_type": "markdown",
   "metadata": {},
   "source": [
    "## Preprint\n",
    "\n",
    "Our preprint **AlphaPept, a modern and open framework for MS-based proteomics** is now available [here.](https://www.biorxiv.org/content/10.1101/2021.07.23.453379v1)"
   ]
  },
  {
   "cell_type": "markdown",
   "metadata": {},
   "source": [
    "## Documentation\n",
    "\n",
    "The documentation is automatically built based on the jupyter notebooks (nbs/index.ipynb) and can be found [here](https://mannlabs.github.io/alphapept/):"
   ]
  },
  {
   "cell_type": "markdown",
   "metadata": {},
   "source": [
    "## Windows Quickstart\n",
    "![](https://i.imgur.com/UO64YPx.jpg)\n",
    "\n",
    "1. Download the latest installer [here](https://github.com/MannLabs/alphapept/releases/latest), install and click the shortcut on the desktop. A browser window with the AlphaPept interface should open. In case Windows Firewall asks for network access for AlphaPept, please allow.\n",
    "2. In the `New Experiment` select a folder with raw files and FASTA files.\n",
    "3. Specify additional settings such as modifications with `Settings`.\n",
    "4. Click `Start` and run the analysis. \n",
    "\n",
    "See also below for more detailed instructions.\n",
    "\n",
    "## Current functionality\n",
    "\n",
    "| Feature         \t| Implemented    \t|\n",
    "|-----------------\t|----------------\t|\n",
    "| Type            \t| DDA            \t|\n",
    "| Filetypes       \t| Bruker, Thermo \t|\n",
    "| Quantification  \t| LFQ            \t|\n",
    "| Isobaric labels \t| None           \t|\n",
    "| Platform        \t| Windows        \t|\n",
    "\n",
    "\n",
    "## Installation Instructions\n",
    "\n",
    "\n",
    "### Python\n",
    "\n",
    "We highly recommend the [Anaconda](https://www.anaconda.com) or [Miniconda](https://docs.conda.io/en/latest/miniconda.html) Python distribution, which comes with a powerful package manager. See below for additional instructions for Linux and Mac as they require additional installation of Mono to use the RawFileReader.\n",
    "\n",
    "It is strongly recommended to install AlphaPept in its own environment.\n",
    "1. Open the console and create a new conda environment: `conda create --name alphapept python=3.8`\n",
    "2. Activate the environment: `conda activate alphapept`\n",
    "3. Redirect to the folder of choice and clone the repository: `git clone https://github.com/MannLabs/alphapept.git`\n",
    "4. Navigate to the alphapept folder with `cd alphapept` and install the package with `pip install .` (default users) or with `pip install -e .` to enable developers mode.\n",
    "5. To ensure compatibility, install strict requirements with `pip install -r requirements.txt`.\n",
    "\n",
    "If AlphaPept is installed correctly, you should be able to import Alphapept as a package within the environment; see below.\n",
    "\n",
    "#### GPU Support\n",
    "To enable usage of a GPU, additional packages need to be installed. The following instructions are targeted at a more experienced audience.\n",
    "\n",
    "1. Make sure to have a working [CUDA toolkit](https://developer.nvidia.com/cuda-toolkit) installation that is compatible with cupy. To check type `nvcc --version` in your terminal.\n",
    "2. Install [cupy](https://cupy.dev). Make sure to install the cupy version matching your CUDA toolkit (e.g. `pip install cupy-cuda110` for CUDA toolkit 11.0.\n",
    "\n",
    "\n",
    "#### Notes\n",
    "* If you would like to use alphapept in your jupyter notebook environment, additionally install nb_conda: `conda install nb_conda`, which also installs the jupyter notebook extensions. They can be called from a running jupyter instance like so: `http://localhost:8888/nbextensions`. \n",
    "* For navigating the notebooks, the exension `collapsible headings` and `toc2` are very beneficial.\n",
    "* For developing with the notebooks, see the `nbev` section below.\n",
    "\n",
    "\n",
    "#### Linux\n",
    "\n",
    "1. Install the build-essentials: `sudo apt-get install build-essential`.\n",
    "2. Install Mono from mono-project website [Mono Linux](https://www.mono-project.com/download/stable/#download-lin). NOTE, the installed mono version should be at least 6.10, which requires you to add the ppa to your trusted sources!\n",
    "3. Navigate to the alphapept folder and install the package with `pip install .` (default users) or with `pip install -e .` to enable developers mode.\n",
    "4. Install libgomp.1 with `sudo apt-get install libgomp1`.\n",
    "5. Copy-paste the Bruker library for feature finding to your /usr/lib folder with `sudo cp alphapept/ext/bruker/FF/linux64/alphapeptlibtbb.so.2 /usr/lib/libtbb.so.2`.\n",
    "\n",
    "\n",
    "#### Mac\n",
    "\n",
    "1. Install [brew](https://brew.sh) and pkg-config: `brew install pkg-config`\n",
    "2. Intall Mono from mono-project website [Mono Mac](https://www.mono-project.com/download/stable/)\n",
    "3. Register the Mono-Path to your system:\n",
    "For macOS Catalina, open the configuration of zsh via the terminal:\n",
    "* Type in `cd` to navigate to the home directory.\n",
    "* Type `nano ~/.zshrc` to open the configuration of the terminal\n",
    "* Add the path to your mono installation: `export PKG_CONFIG_PATH=/usr/local/lib/pkgconfig:/usr/lib/pkgconfig:/Library/Frameworks/Mono.framework/Versions/6.12.0/lib/pkgconfig:$PKG_CONFIG_PATH`. Make sure that the Path matches to your version (Here 6.12.0)\n",
    "* Save everything and execute `. ~/.zshrc` \n",
    "4. Navigate to the alphapept folder and install the package with `pip install .` (default users) or with `pip install -e .` to enable developers mode.\n",
    "\n",
    "\n",
    "### Standalone Windows Installer\n",
    "To use AlphaPept as a stand-alone program for end-users, it can be installed on Windows machines via a one-click installer. Download the latest version [here](https://github.com/MannLabs/alphapept/releases/latest).\n",
    "\n",
    "\n",
    "### Additional Notes\n",
    "\n",
    " > To access Thermo files, we have integrated [RawFileReader](https://planetorbitrap.com/rawfilereader) into AlphaPept. We rely on [Mono](https://www.mono-project.com/) for Linux/Mac systems.\n",
    "\n",
    "\n",
    " > To access Bruker files, we rely on the `timsdata`-library. Currently, only Windows is supported. For feature finding, we use the Bruker Feature Finder, which can be found in the `ext` folder of this repository."
   ]
  },
  {
   "cell_type": "markdown",
   "metadata": {},
   "source": [
    "## Version Performance\n",
    "An overview on the performance of different versions can be found [here](https://charts.mongodb.com/charts-alphapept-itfxv/public/dashboards/5f671dcf-bcd6-4d90-8494-8c7f724b727b)."
   ]
  },
  {
   "cell_type": "markdown",
   "metadata": {},
   "source": [
    "## How to use\n",
    "\n",
    "AlphaPept is meant to be a framework to implement and test new ideas quickly but also to serve as a performant processing pipeline. In principle, there are three use-cases:\n",
    "\n",
    "* GUI: Use the graphical user interface to select settings and process files manually.\n",
    "* CMD: Use the command-line interface to process files. Useful when building automatic pipelines.\n",
    "* Python: Use python modules to build individual workflows. Useful when building customized pipelines and using Python as a scripting language or when implementing new ideas. \n",
    "\n",
    "### Windows Standalone Installation\n",
    "\n",
    "For the [windows installation](https://github.com/MannLabs/alphapept/releases/latest), simply click on the shortcut after installation. The windows installation also installs the command-line tool so that you can call alphapept via `alphapept` in the command line.\n",
    "\n",
    "![](https://i.imgur.com/SQikLHQ.jpg)\n",
    "\n",
    "### Python Package\n",
    "\n",
    "Once AlphaPept is correctly installed, you can use it like any other python module."
   ]
  },
  {
   "cell_type": "code",
   "execution_count": null,
   "metadata": {},
   "outputs": [
    {
     "data": {
      "text/plain": [
       "{'b1': 98.06004032687,\n",
       " 'b2': 227.10263342687,\n",
       " 'b3': 324.15539728686997,\n",
       " 'y1': 120.06551965033,\n",
       " 'y2': 217.11828351033,\n",
       " 'y3': 346.16087661033}"
      ]
     },
     "execution_count": null,
     "metadata": {},
     "output_type": "execute_result"
    }
   ],
   "source": [
    "from alphapept.fasta import get_frag_dict, parse\n",
    "from alphapept import constants\n",
    "\n",
    "peptide = 'PEPT'\n",
    "\n",
    "get_frag_dict(parse(peptide), constants.mass_dict)"
   ]
  },
  {
   "cell_type": "markdown",
   "metadata": {},
   "source": [
    "### Using as a tool\n",
    "\n",
    "If alphapept is installed an a conda or virtual environment, launch this environment first.\n",
    "\n",
    "To launch the command line interface use:\n",
    "* `alphapept`\n",
    "\n",
    "This allows us to select different modules. To start the GUI use:\n",
    "* `alphapept gui`\n",
    "\n",
    "To run a workflow, use:\n",
    "* `alphapept workflow your_own_workflow.yaml`\n",
    "An example workflow is easily generated by running the GUI once and saving the settings which an be modified on a per-project basis."
   ]
  },
  {
   "cell_type": "markdown",
   "metadata": {},
   "source": [
    "### CMD / Python\n",
    "1. Create a settings-file. This can be done by changing the `default_settings.yaml` in the repository or using the GUI.\n",
    "2. Run the analysis with the new settings file. `alphapept run new_settings.yaml`\n",
    "\n",
    "Within Python (i.e., Jupyter notebook) the following code would be required)\n",
    "```\n",
    "from alphapept.settings import load_settings\n",
    "import alphapept.interface\n",
    "settings = load_settings('new_settings.yaml')\n",
    "r = alphapept.interface.run_complete_workflow(settings)\n",
    "```"
   ]
  },
  {
   "cell_type": "markdown",
   "metadata": {},
   "source": [
    "## Dockerization\n",
    "\n",
    "We provide a dockerfile to show how to run AlphaPept in a containerized environment. This allows building powerful pipelines e.g. with AWS Batch. The dockerfile will launch the browser-based GUI. \n",
    "\n",
    "1. Install docker\n",
    "2. Build the dockerfile with `docker build -t docker-alphapept:latest .` This took approximately ~10 minutes on a 2019 MacBookPro)\n",
    "3. Run the container `docker run -p 8501:8501 -v /Users/mstrauss/Desktop/docker:/home/alphapept/ docker-alphapept:latest alphapept gui`\n",
    "\n",
    "Notes: \n",
    "`-p 8501:8501` forwards the streamlit port to the same port on your machine. You can access AlphaPept via `localhost:8501`\n",
    "`-v /Users/mstrauss/Desktop/docker:/shared_folder/` mounts the volume to your docker container. E.g., in this case, the local `docker`-folder on the Desktop can be accessed via `/shared_folder/`."
   ]
  },
  {
   "cell_type": "markdown",
   "metadata": {},
   "source": [
    "## Notebooks\n",
    "\n",
    "Within the notebooks, we try to cover most aspects of a proteomics workflow:\n",
    "\n",
    "* Settings: General settings to define a workflow\n",
    "* Chem: Chemistry related functions, e.g., for calculating isotope distributions\n",
    "* IO: Everything related to importing and exporting and the file formats used\n",
    "* FASTA: Generating theoretical databases from FASTA files\n",
    "* Feature Finding: How to extract MS1 features for quantification\n",
    "* Search: Comparing theoretical databases to experimental spectra and getting Peptide-Spectrum-Matches (PSMs)\n",
    "* Score: Scoring PSMs\n",
    "* Recalibration: Recalibration of data based on identified peptides\n",
    "* Quantification: Functions for quantification, e.g., LFQ\n",
    "* Matching: Functions for Match-between-runs\n",
    "* Constants: A collection of constants\n",
    "* Interface: Code that generates the command-line-interface (CLI)\n",
    "* Performance: Helper functions to speed up code with CPU / GPU"
   ]
  },
  {
   "cell_type": "markdown",
   "metadata": {},
   "source": [
    "## Contributing\n",
    "If you have a feature request or a bug report, please post it as an issue on the GitHub issue tracker. If you want to contribute, put a PR for it. You can find more guidelines for contributing and how to get started [here](https://mannlabs.github.io/alphapept/contributing.html). We will gladly guide you through the codebase and credit you accordingly. Additionally, you can check out the Projects-page on GitHub. You can also contact us via opensource@alphapept.com."
   ]
  },
  {
   "cell_type": "markdown",
   "metadata": {},
   "source": [
    "## Cite us\n",
    "\n",
    "```\n",
    "@article {Strauss2021.07.23.453379,\n",
    "\tauthor = {Strauss, Maximilian T and Bludau, Isabell and Zeng, Wen-Feng and Voytik, Eugenia and Ammar, Constantin and Schessner, Julia and Ilango, Rajesh and Gill, Michelle and Meier, Florian and Willems, Sander and Mann, Matthias},\n",
    "\ttitle = {AlphaPept, a modern and open framework for MS-based proteomics},\n",
    "\telocation-id = {2021.07.23.453379},\n",
    "\tyear = {2021},\n",
    "\tdoi = {10.1101/2021.07.23.453379},\n",
    "\tpublisher = {Cold Spring Harbor Laboratory},\n",
    "\tURL = {https://www.biorxiv.org/content/early/2021/07/26/2021.07.23.453379},\n",
    "\teprint = {https://www.biorxiv.org/content/early/2021/07/26/2021.07.23.453379.full.pdf},\n",
    "\tjournal = {bioRxiv}\n",
    "}\n",
    "```"
   ]
  },
  {
   "cell_type": "code",
   "execution_count": null,
   "metadata": {},
   "outputs": [
    {
     "name": "stdout",
     "output_type": "stream",
     "text": [
      "Converted 00_settings.ipynb.\n",
      "Converted 01_chem.ipynb.\n",
      "Converted 02_io.ipynb.\n",
      "Converted 03_fasta.ipynb.\n",
      "Converted 04_feature_finding.ipynb.\n",
      "Converted 05_search.ipynb.\n",
      "Converted 06_score.ipynb.\n",
      "Converted 07_recalibration.ipynb.\n",
      "Converted 08_quantification.ipynb.\n",
      "Converted 09_matching.ipynb.\n",
      "Converted 10_constants.ipynb.\n",
      "Converted 11_interface.ipynb.\n",
      "Converted 12_speed.ipynb.\n",
      "Converted 13_export.ipynb.\n",
      "Converted 13_performance.ipynb.\n",
      "Converted additional_code.ipynb.\n",
      "Converted contributing.ipynb.\n",
      "Converted file_formats.ipynb.\n",
      "Converted index.ipynb.\n"
     ]
    }
   ],
   "source": [
    "#hide\n",
    "from nbdev.export import *\n",
    "notebook2script()"
   ]
  }
 ],
 "metadata": {
  "kernelspec": {
   "display_name": "Python [conda env:.conda-alphapept] *",
   "language": "python",
   "name": "conda-env-.conda-alphapept-py"
  }
 },
 "nbformat": 4,
 "nbformat_minor": 2
}
