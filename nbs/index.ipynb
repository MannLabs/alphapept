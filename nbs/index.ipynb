{
 "cells": [
  {
   "cell_type": "markdown",
   "metadata": {},
   "source": [
    "![CI](https://github.com/MannLabs/alphapept/workflows/CI/badge.svg)\n",
    "![Quick Test](https://github.com/MannLabs/alphapept/workflows/Quick%20Test/badge.svg)\n",
    "![Performance test](https://github.com/MannLabs/alphapept/actions/workflows/performance_test_installer.yml/badge.svg)\n",
    "![Windows Installer](https://github.com/MannLabs/alphapept/workflows/Windows%20Installer/badge.svg)\n",
    "[![launch - renku](https://renkulab.io/renku-badge.svg)](https://renkulab.io/projects/renku-stories/alphapept-gui-streamlit)\n",
    "\n",
    "[![DOI:10.1101/2021.07.23.453379](http://img.shields.io/badge/DOI-10.1101/2021.07.23.453379-B31B1B.svg)](https://www.biorxiv.org/content/10.1101/2021.07.23.453379v1)"
   ]
  },
  {
   "cell_type": "markdown",
   "metadata": {},
   "source": [
    "# AlphaPept\n",
    "![](https://i.imgur.com/xkFtDff.jpg)\n",
    " > A modular, python-based framework to analyze mass spectrometry data. Powered by nbdev. Supercharged with numba."
   ]
  },
  {
   "cell_type": "markdown",
   "metadata": {},
   "source": [
    "## Preprint\n",
    "\n",
    "Our preprint **AlphaPept, a modern and open framework for MS-based proteomics** is now available [here.](https://www.biorxiv.org/content/10.1101/2021.07.23.453379v1)\n",
    "\n",
    "Be sure to check out other packages of our ecosystem:\n",
    "- [alphatims](https://github.com/MannLabs/alphatims): Fast access to TimsTOF data.\n",
    "- [alphamap](https://github.com/MannLabs/alphamap): Peptide level MS data exploration.\n",
    "- [alphapeptdeep](https://github.com/MannLabs/alphapeptdeep): Predicting properties from peptides.\n",
    "- [alphaviz](https://github.com/MannLabs/alphaviz): Vizualization of MS data."
   ]
  },
  {
   "cell_type": "markdown",
   "metadata": {},
   "source": [
    "## Windows Quickstart\n",
    "![](https://i.imgur.com/UO64YPx.jpg)\n",
    "\n",
    "1. Download the latest installer [here](https://github.com/MannLabs/alphapept/releases/latest), install and click the shortcut on the desktop. A browser window with the AlphaPept interface should open. In the case of Windows Firewall asking for network access for AlphaPept, please allow.\n",
    "2. In the `New Experiment`, select a folder with raw files and FASTA files.\n",
    "3. Specify additional settings such as modifications with `Settings`.\n",
    "4. Click `Start` and run the analysis. \n",
    "\n",
    "See also below for more detailed instructions."
   ]
  },
  {
   "cell_type": "markdown",
   "metadata": {},
   "source": [
    "## Current functionality\n",
    "\n",
    "| Feature         \t| Implemented    \t|\n",
    "|-----------------\t|----------------\t|\n",
    "| Type            \t| DDA            \t|\n",
    "| Filetypes       \t| Bruker, Thermo \t|\n",
    "| Quantification  \t| LFQ            \t|\n",
    "| Isobaric labels \t| None           \t|\n",
    "| Platform        \t| Windows        \t|\n",
    "\n",
    "Linux and macOS should, in principle, work but are not heavily tested and might require additional work to set up (see detailed instructions below). To read Thermo files, we use Mono, which can be used on Mac and Linux. For Bruker files, we can use Linux but not yet macOS."
   ]
  },
  {
   "cell_type": "markdown",
   "metadata": {},
   "source": [
    "## Python Installation Instructions\n",
    "\n",
    "### Requirements\n",
    "\n",
    "We highly recommend the [Anaconda](https://www.anaconda.com) or [Miniconda](https://docs.conda.io/en/latest/miniconda.html) Python distribution, which comes with a powerful package manager. See below for additional instructions for Linux and Mac as they require additional installation of Mono to use the RawFileReader.\n",
    "\n",
    "AlphaPept can be used as an application as a whole or as a Python Package where individual modules are called. Depending on the use case, AlphaPept will need different requirements, and you might not want to install all of them.\n",
    "\n",
    "Currently, we have the default `requirements.txt`, additional requirements to run the GUI `gui` and packages used for developing `develop`. \n",
    "\n",
    "Therefore, you can install AlphaPept in multiple ways:\n",
    "\n",
    "- The default `alphapept`\n",
    "- With GUI-packages `alphapept[gui]`\n",
    "- With pacakges for development `alphapept[develop]` (`alphapept[develop,gui]`) respectively\n",
    "\n",
    "The requirements typically contain pinned versions and will be automatically upgraded and tested with `dependabot`. This `stable` version allows having a reproducible workflow. However, in order to avoid conflicts with package versions that are too strict, the requirements are not pinned when being installed. To use the strict version use the `-stable`-flag, e.g. `alphapept[stable]`.\n",
    "\n",
    "For end-users that want to set up a processing environment in Python, the `\"alphapept[stable,gui-stable]\"` is the `batteries-included`-version that you want to use.\n",
    "\n",
    "### Python\n",
    "\n",
    "It is strongly recommended to install AlphaPept in its own environment.\n",
    "1. Open the console and create a new conda environment: `conda create --name alphapept python=3.8`\n",
    "2. Activate the environment: `conda activate alphapept`\n",
    "3. Install AlphaPept via pip: `pip install \"alphapept[stable,gui-stable]\"`. If you want to use AlphaPept as a package without the GUI dependencies and without strict version dependencies, use `pip install alphapept`.\n",
    "\n",
    "If AlphaPept is installed correctly, you should be able to import AlphaPept as a package within the environment; see below.\n",
    "\n",
    "* * *\n",
    "#### Linux\n",
    "1. Install the build-essentials: `sudo apt-get install build-essential`.\n",
    "2. Install AlphaPept via pip: `pip install \"alphapept[stable,gui-stable]\"`. If you want to use AlphaPept as a package withouth the GUI dependencies and strict version dependencies use `pip install alphapept`.\n",
    "3. Install libgomp.1 with `sudo apt-get install libgomp1`.\n",
    "\n",
    "##### Bruker Support\n",
    "4. Copy-paste the Bruker library for feature finding to your /usr/lib folder with `sudo cp alphapept/ext/bruker/FF/linux64/alphapeptlibtbb.so.2 /usr/lib/libtbb.so.2`.\n",
    "\n",
    "##### Thermo Support\n",
    "5. Install Mono from mono-project website [Mono Linux](https://www.mono-project.com/download/stable/#download-lin). NOTE, the installed mono version should be at least 6.10, which requires you to add the ppa to your trusted sources!\n",
    "6. Install pythonnet with `pip install pythonnet==2.5.2`\n",
    "\n",
    "* * *\n",
    "#### Mac\n",
    "\n",
    "1. Install AlphaPept via pip: `pip install \"alphapept[stable,gui-stable]\"`. If you want to use AlphaPept as a package withouth the GUI dependencies and strict version dependencies use `pip install alphapept`.\n",
    "\n",
    "##### Bruker Support\n",
    "> Only supported for preprocessed files.\n",
    "\n",
    "##### Thermo Support\n",
    "2. Install [brew](https://brew.sh) and pkg-config: `brew install pkg-config` \n",
    "3. Install Mono from mono-project website [Mono Mac](https://www.mono-project.com/download/stable/)\n",
    "4. Register the Mono-Path to your system:\n",
    "For macOS Catalina, open the configuration of zsh via the terminal:\n",
    "* Type in `cd` to navigate to the home directory.\n",
    "* Type `nano ~/.zshrc` to open the configuration of the terminal\n",
    "* Add the path to your mono installation: `export PKG_CONFIG_PATH=/usr/local/lib/pkgconfig:/usr/lib/pkgconfig:/Library/Frameworks/Mono.framework/Versions/Current/lib/pkgconfig:$PKG_CONFIG_PATH`. Make sure that the Path matches to your version (Here 6.12.0)\n",
    "* Save everything and execute `. ~/.zshrc` \n",
    "4. Install pythonnet with `pip install pythonnet==2.5.2`\n",
    "\n",
    "* * *\n",
    "#### Developer\n",
    "1. Redirect to the folder of choice and clone the repository: `git clone https://github.com/MannLabs/alphapept.git`\n",
    "2. Navigate to the alphapept folder with `cd alphapept` and install the package with `pip install .` (default users) or with `pip install -e .` to enable developers mode. Note that you can use the different requirements here aswell (e.g. `pip install \".[gui-stable]\"`)\n",
    "\n",
    "#### GPU Support\n",
    "Some functionality of AlphaPept is GPU optimized that uses Nvidia's CUDA. To enable this, additional packages need to be installed. \n",
    "\n",
    "1. Make sure to have a working [CUDA toolkit](https://developer.nvidia.com/cuda-toolkit) installation that is compatible with CuPy. To check type `nvcc --version` in your terminal.\n",
    "2. Install [cupy](https://cupy.dev). Make sure to install the cupy version matching your CUDA toolkit (e.g. `pip install cupy-cuda110` for CUDA toolkit 11.0.\n",
    "\n",
    "### Additional Notes\n",
    " > To access Thermo files, we have integrated [RawFileReader](https://planetorbitrap.com/rawfilereader) into AlphaPept. We rely on [Mono](https://www.mono-project.com/) for Linux/Mac systems.\n",
    "\n",
    " > To access Bruker files, we rely on the `timsdata`-library. Currently, only Windows is supported. For feature finding, we use the Bruker Feature Finder, which can be found in the `ext` folder of this repository.\n",
    " \n",
    "#### Notes for NBDEV\n",
    "\n",
    "* For developing with the notebooks, install the nbdev package (see the development requirements)\n",
    "* To facilitate navigating the notebooks, use jupyter notebook extensions. They can be called from a running jupyter instance like so: `http://localhost:8888/nbextensions`. The extensions `collapsible headings` and `toc2` are very beneficial.\n",
    "\n",
    "## Standalone Windows Installer\n",
    "To use AlphaPept as a stand-alone program for end-users, it can be installed on Windows machines via a one-click installer. Download the latest version [here](https://github.com/MannLabs/alphapept/releases/latest)."
   ]
  },
  {
   "cell_type": "markdown",
   "metadata": {},
   "source": [
    "## Additional Documentation\n",
    "\n",
    "The documentation is automatically built based on the jupyter notebooks (nbs/index.ipynb) and can be found [here](https://mannlabs.github.io/alphapept/):"
   ]
  },
  {
   "cell_type": "markdown",
   "metadata": {},
   "source": [
    "## Version Performance\n",
    "An overview of the performance of different versions can be found [here](https://charts.mongodb.com/charts-alphapept-itfxv/public/dashboards/5f671dcf-bcd6-4d90-8494-8c7f724b727b).\n",
    "We re-run multiple tests on datasets for different versions so that users can assess what changes from version to version. Feel free to [suggest](https://github.com/MannLabs/alphapept/discussions) a test set in case."
   ]
  },
  {
   "cell_type": "markdown",
   "metadata": {},
   "source": [
    "## How to use\n",
    "\n",
    "AlphaPept is meant to be a framework to implement and test new ideas quickly but also to serve as a performant processing pipeline. In principle, there are three use-cases:\n",
    "\n",
    "* GUI: Use the graphical user interface to select settings and process files manually.\n",
    "* CMD: Use the command-line interface to process files. Useful when building automatic pipelines.\n",
    "* Python: Use python modules to build individual workflows. Useful when building customized pipelines and using Python as a scripting language or when implementing new ideas. \n",
    "\n",
    "### Windows Standalone Installation\n",
    "\n",
    "For the [windows installation](https://github.com/MannLabs/alphapept/releases/latest), simply click on the shortcut after installation. The windows installation also installs the command-line tool so that you can call alphapept via `alphapept` in the command line.\n",
    "\n",
    "![](https://i.imgur.com/SQikLHQ.jpg)\n",
    "\n",
    "### Python Package\n",
    "\n",
    "Once AlphaPept is correctly installed, you can use it like any other python module."
   ]
  },
  {
   "cell_type": "code",
   "execution_count": null,
   "metadata": {},
   "outputs": [
    {
     "data": {
      "text/plain": [
       "{'b1': 98.06004032687,\n",
       " 'b2': 227.10263342687,\n",
       " 'b3': 324.15539728686997,\n",
       " 'y1': 120.06551965033,\n",
       " 'y2': 217.11828351033,\n",
       " 'y3': 346.16087661033}"
      ]
     },
     "execution_count": null,
     "metadata": {},
     "output_type": "execute_result"
    }
   ],
   "source": [
    "from alphapept.fasta import get_frag_dict, parse\n",
    "from alphapept import constants\n",
    "\n",
    "peptide = 'PEPT'\n",
    "\n",
    "get_frag_dict(parse(peptide), constants.mass_dict)"
   ]
  },
  {
   "cell_type": "markdown",
   "metadata": {},
   "source": [
    "### Using as a tool\n",
    "\n",
    "If alphapept is installed an a conda or virtual environment, launch this environment first.\n",
    "\n",
    "To launch the command line interface use:\n",
    "* `alphapept`\n",
    "\n",
    "This allows us to select different modules. To start the GUI use:\n",
    "* `alphapept gui`\n",
    "\n",
    "To run a workflow, use:\n",
    "* `alphapept workflow your_own_workflow.yaml`\n",
    "An example workflow is easily generated by running the GUI once and saving the settings which can be modified on a per-project basis."
   ]
  },
  {
   "cell_type": "markdown",
   "metadata": {},
   "source": [
    "### CMD / Python\n",
    "1. Create a settings-file. This can be done by changing the `default_settings.yaml` in the repository or using the GUI.\n",
    "2. Run the analysis with the new settings file. `alphapept run new_settings.yaml`\n",
    "\n",
    "Within Python (i.e., Jupyter notebook) the following code would be required)\n",
    "```\n",
    "from alphapept.settings import load_settings\n",
    "import alphapept.interface\n",
    "settings = load_settings('new_settings.yaml')\n",
    "r = alphapept.interface.run_complete_workflow(settings)\n",
    "```\n",
    "\n",
    "This also allows you to break the workflow down in indiviudal steps, e.g.:\n",
    "\n",
    "```\n",
    "settings = alphapept.interface.import_raw_data(settings)\n",
    "settings = alphapept.interface.feature_finding(settings)\n",
    "```"
   ]
  },
  {
   "cell_type": "markdown",
   "metadata": {},
   "source": [
    "## Notebooks\n",
    "\n",
    "Within the notebooks, we try to cover most aspects of a proteomics workflow:\n",
    "\n",
    "* Settings: General settings to define a workflow\n",
    "* Chem: Chemistry related functions, e.g., for calculating isotope distributions\n",
    "* Input / Output: Everything related to importing and exporting and the file formats used\n",
    "* FASTA: Generating theoretical databases from FASTA files\n",
    "* Feature Finding: How to extract MS1 features for quantification\n",
    "* Search: Comparing theoretical databases to experimental spectra and getting Peptide-Spectrum-Matches (PSMs)\n",
    "* Score: Scoring PSMs\n",
    "* Recalibration: Recalibration of data based on identified peptides\n",
    "* Quantification: Functions for quantification, e.g., LFQ\n",
    "* Matching: Functions for Match-between-runs\n",
    "* Constants: A collection of constants\n",
    "* Interface: Code that generates the command-line-interface (CLI) and makes workflow steps callable\n",
    "* Performance: Helper functions to speed up code with CPU / GPU\n",
    "* Export: Helper functions to make exports compatbile to other Software tools\n",
    "* Label: Code for support isobaric label search\n",
    "* Display: Code related to displaying in the streamlit gui\n",
    "* Additional code: Overview of additional code not covered by the notebooks\n",
    "* How to contribute: Contribution guidelines\n",
    "* AlphaPept workflow and files: Overview of the worfklow, files and column names"
   ]
  },
  {
   "cell_type": "markdown",
   "metadata": {},
   "source": [
    "## Contributing\n",
    "If you have a feature request or a bug report, please post it either as an idea in the [discussions](https://github.com/MannLabs/alphapept/discussions) or as an issue on the [GitHub issue tracker](https://github.com/MannLabs/alphapept/issues). Upvoting features in the discussions page will help to prioritize what to implement next. If you want to contribute, put a PR for it. You can find more guidelines for contributing and how to get started [here](https://mannlabs.github.io/alphapept/contributing.html). We will gladly guide you through the codebase and credit you accordingly. Additionally, you can check out the Projects page on GitHub. You can also contact us via opensource@alphapept.com.\n",
    "\n",
    "If you like the project, consider starring it!"
   ]
  },
  {
   "cell_type": "markdown",
   "metadata": {},
   "source": [
    "## Cite us\n",
    "\n",
    "```\n",
    "@article {Strauss2021.07.23.453379,\n",
    "\tauthor = {Strauss, Maximilian T and Bludau, Isabell and Zeng, Wen-Feng and Voytik, Eugenia and Ammar, Constantin and Schessner, Julia and Ilango, Rajesh and Gill, Michelle and Meier, Florian and Willems, Sander and Mann, Matthias},\n",
    "\ttitle = {AlphaPept, a modern and open framework for MS-based proteomics},\n",
    "\telocation-id = {2021.07.23.453379},\n",
    "\tyear = {2021},\n",
    "\tdoi = {10.1101/2021.07.23.453379},\n",
    "\tpublisher = {Cold Spring Harbor Laboratory},\n",
    "\tURL = {https://www.biorxiv.org/content/early/2021/07/26/2021.07.23.453379},\n",
    "\teprint = {https://www.biorxiv.org/content/early/2021/07/26/2021.07.23.453379.full.pdf},\n",
    "\tjournal = {bioRxiv}\n",
    "}\n",
    "```"
   ]
  },
  {
   "cell_type": "code",
   "execution_count": null,
   "metadata": {},
   "outputs": [
    {
     "name": "stdout",
     "output_type": "stream",
     "text": [
      "Converted 00_settings.ipynb.\n",
      "Converted 01_chem.ipynb.\n",
      "Converted 02_io.ipynb.\n",
      "Converted 03_fasta.ipynb.\n",
      "Converted 04_feature_finding.ipynb.\n",
      "Converted 05_search.ipynb.\n",
      "Converted 06_score.ipynb.\n",
      "Converted 07_recalibration.ipynb.\n",
      "Converted 08_quantification.ipynb.\n",
      "Converted 09_matching.ipynb.\n",
      "Converted 10_constants.ipynb.\n",
      "Converted 11_interface.ipynb.\n",
      "Converted 12_performance.ipynb.\n",
      "Converted 13_export.ipynb.\n",
      "Converted 14_display.ipynb.\n",
      "Converted 15_label.ipynb.\n",
      "Converted additional_code.ipynb.\n",
      "Converted contributing.ipynb.\n",
      "Converted file_formats.ipynb.\n",
      "Converted index.ipynb.\n"
     ]
    }
   ],
   "source": [
    "#| hide\n",
    "from nbdev.export import *\n",
    "nbdev_export()"
   ]
  }
 ],
 "metadata": {
  "kernelspec": {
   "display_name": "Python 3 (ipykernel)",
   "language": "python",
   "name": "python3"
  }
 },
 "nbformat": 4,
 "nbformat_minor": 2
}
