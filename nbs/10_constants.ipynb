{
 "cells": [
  {
   "cell_type": "code",
   "execution_count": 1,
   "metadata": {},
   "outputs": [],
   "source": [
    "#| default_exp constants"
   ]
  },
  {
   "cell_type": "markdown",
   "metadata": {},
   "source": [
    "# Constants\n",
    "\n",
    "> Where all constats are stored"
   ]
  },
  {
   "cell_type": "markdown",
   "metadata": {},
   "source": [
    "This notebook stores all constants."
   ]
  },
  {
   "cell_type": "code",
   "execution_count": 2,
   "metadata": {},
   "outputs": [],
   "source": [
    "#| hide\n",
    "from nbdev.showdoc import *"
   ]
  },
  {
   "cell_type": "markdown",
   "metadata": {},
   "source": [
    "## Amino Acids\n",
    "A set of valid amino acids."
   ]
  },
  {
   "cell_type": "code",
   "execution_count": 3,
   "metadata": {},
   "outputs": [],
   "source": [
    "#| export\n",
    "AAs = set('ACDEFGHIKLMNPQRSTUVWY')"
   ]
  },
  {
   "cell_type": "code",
   "execution_count": 4,
   "metadata": {},
   "outputs": [
    {
     "name": "stdout",
     "output_type": "stream",
     "text": [
      "{'U', 'R', 'S', 'M', 'P', 'I', 'E', 'H', 'L', 'N', 'C', 'G', 'D', 'W', 'K', 'F', 'T', 'V', 'A', 'Q', 'Y'}\n"
     ]
    }
   ],
   "source": [
    "print(AAs)"
   ]
  },
  {
   "cell_type": "markdown",
   "metadata": {},
   "source": [
    "## Mass dict\n",
    "A numba compatible mass dict dictionary. This is created from the `modifications.tsv`. Change to allow custom modifications."
   ]
  },
  {
   "cell_type": "code",
   "execution_count": 5,
   "metadata": {},
   "outputs": [],
   "source": [
    "#| export\n",
    "\n",
    "from numba import types\n",
    "from numba.typed import Dict\n",
    "import os\n",
    "\n",
    "#generates the mass dictionary from table\n",
    "def get_mass_dict(modfile:str, aasfile: str, verbose:bool=True):\n",
    "    \"\"\"\n",
    "    Function to create a mass dict based on tsv files. \n",
    "    This is used to create the hardcoded dict in the constants notebook.\n",
    "    The dict needs to be hardcoded because of importing restrictions when using numba.\n",
    "    More specifically, a global needs to be typed at runtime.\n",
    "\n",
    "    Args:\n",
    "        modfile (str): Filename of modifications file.\n",
    "        aasfile (str): Filename of AAs file.\n",
    "        verbose (bool, optional): Flag to print dict.\n",
    "\n",
    "    Returns:\n",
    "        Returns a numba compatible dictionary with masses.\n",
    "\n",
    "    Raises:\n",
    "        FileNotFoundError: If files are not found.\n",
    "        \n",
    "    \"\"\"\n",
    "    import pandas as pd\n",
    "\n",
    "    mods = pd.read_csv(modfile, delimiter=\"\\t\")\n",
    "    aas = pd.read_csv(aasfile, delimiter=\"\\t\")\n",
    "    \n",
    "    mass_dict = Dict.empty(key_type=types.unicode_type, value_type=types.float64)\n",
    "\n",
    "    for identifier, mass in aas[[\"Identifier\", \"Monoisotopic Mass (Da)\"]].values:\n",
    "        mass_dict[identifier] = float(mass)\n",
    "\n",
    "    for identifier, aar, mass in mods[\n",
    "        [\"Identifier\", \"Amino Acid Residue\", \"Monoisotopic Mass Shift (Da)\"]\n",
    "    ].values:\n",
    "        #print(identifier, aar, mass)\n",
    "\n",
    "        if (\"<\" in identifier) or (\">\" in identifier):\n",
    "            for aa_identifier, aa_mass in aas[[\"Identifier\", \"Monoisotopic Mass (Da)\"]].values:\n",
    "                if '^' in identifier:\n",
    "                    new_identifier = identifier[:-2] + aa_identifier\n",
    "                    mass_dict[new_identifier] = float(mass) + mass_dict[aa_identifier]\n",
    "                elif aar == aa_identifier:\n",
    "                    new_identifier = identifier[:-2] + aa_identifier\n",
    "                    mass_dict[new_identifier] = float(mass) + mass_dict[aa_identifier]\n",
    "                else:\n",
    "                    pass\n",
    "        else:\n",
    "            mass_dict[identifier] = float(mass) + mass_dict[aar]\n",
    "\n",
    "    # Manually add other masses\n",
    "    mass_dict[\n",
    "        \"Electron\"\n",
    "    ] = (\n",
    "        0.000548579909070\n",
    "    )  # electron mass, half a millimass error if not taken into account\n",
    "    mass_dict[\"Proton\"] = 1.00727646687  # proton mass\n",
    "    mass_dict[\"Hydrogen\"] = 1.00782503223  # hydrogen mass\n",
    "    mass_dict[\"C13\"] = 13.003354835  # C13 mass\n",
    "    mass_dict[\"Oxygen\"] = 15.994914619  # oxygen mass\n",
    "    mass_dict[\"OH\"] = mass_dict[\"Oxygen\"] + mass_dict[\"Hydrogen\"]  # OH mass\n",
    "    mass_dict[\"H2O\"] = mass_dict[\"Oxygen\"] + 2 * mass_dict[\"Hydrogen\"]  # H2O mass\n",
    "    \n",
    "    mass_dict[\"NH3\"] = 17.02654910112\n",
    "    mass_dict[\"delta_M\"] = 1.00286864\n",
    "    mass_dict[\"delta_S\"] = 0.0109135\n",
    "    \n",
    "    if verbose:\n",
    "        \n",
    "        for element in mass_dict:\n",
    "            print('mass_dict[\"{}\"] = {}'.format(element, mass_dict[element]))\n",
    "\n",
    "    return mass_dict\n",
    "\n",
    "try:\n",
    "    base = os.path.dirname(os.path.abspath(__file__)) #Cant do this in notebook\n",
    "except NameError:\n",
    "    base = os.path.join(os.pardir, 'alphapept')\n",
    "\n",
    "if not os.path.isfile(os.path.join(base, \"modifications.tsv\")):\n",
    "    #Calling nbdev build_docs from parent dir\n",
    "    base = os.path.join(base, 'alphapept')\n",
    "      \n",
    "modfile_path = os.path.join(base, \"modifications.tsv\")  \n",
    "aafile_path = os.path.join(base, \"amino_acids.tsv\")  \n",
    "\n",
    "mass_dict = get_mass_dict(modfile=modfile_path, aasfile=aafile_path, verbose=False)"
   ]
  },
  {
   "cell_type": "code",
   "execution_count": 6,
   "metadata": {},
   "outputs": [
    {
     "name": "stdout",
     "output_type": "stream",
     "text": [
      "A:          71.0371138\n",
      "C:          103.0091845\n",
      "D:          115.0269431\n",
      "E:          129.0425931\n",
      "F:          147.0684139\n",
      "G:          57.02146373\n",
      "H:          137.0589119\n",
      "I:          113.084064\n",
      "K:          128.094963\n",
      "L:          113.084064\n",
      "M:          131.0404846\n",
      "N:          114.0429275\n",
      "P:          97.05276386\n",
      "Q:          128.0585775\n",
      "R:          156.101111\n",
      "S:          87.03202843\n",
      "T:          101.0476785\n",
      "U:          150.9536333957\n",
      "V:          99.06841392\n",
      "W:          186.079313\n",
      "Y:          163.0633286\n",
      "cC:         160.03064823\n",
      "oxM:        147.03539923000002\n",
      "aA:         113.04767849000001\n",
      "aC:         145.01974919\n",
      "aD:         157.03750779\n",
      "aE:         171.05315779\n",
      "aF:         189.07897859\n",
      "aG:         99.03202842\n",
      "aH:         179.06947659\n",
      "aI:         155.09462869\n",
      "aK:         170.10552769\n",
      "aL:         155.09462869\n",
      "aM:         173.05104929\n",
      "aN:         156.05349219000001\n",
      "aP:         139.06332855\n",
      "aQ:         170.06914219\n",
      "aR:         198.11167569\n",
      "aS:         129.04259312\n",
      "aT:         143.05824319\n",
      "aU:         192.9641980857\n",
      "aV:         141.07897861\n",
      "aW:         228.08987769\n",
      "aY:         205.07389329\n",
      "amA:        70.053098207\n",
      "amC:        102.02516890700001\n",
      "amD:        114.042927507\n",
      "amE:        128.058577507\n",
      "amF:        146.084398307\n",
      "amG:        56.037448137\n",
      "amH:        136.074896307\n",
      "amI:        112.100048407\n",
      "amK:        127.11094740700001\n",
      "amL:        112.100048407\n",
      "amM:        130.056469007\n",
      "amN:        113.05891190700001\n",
      "amP:        96.068748267\n",
      "amQ:        127.07456190700002\n",
      "amR:        155.117095407\n",
      "amS:        86.048012837\n",
      "amT:        100.06366290700001\n",
      "amU:        149.9696178027\n",
      "amV:        98.084398327\n",
      "amW:        185.095297407\n",
      "amY:        162.079313007\n",
      "pS:         166.99835935\n",
      "pT:         181.01400942\n",
      "pY:         243.02965952\n",
      "deamN:      115.026943093\n",
      "deamQ:      129.04259309300002\n",
      "cmC:        85.9826354\n",
      "pgE:        111.03202841000001\n",
      "pgQ:        111.03202840000002\n",
      "tmt0A:      295.1895917\n",
      "tmt0C:      327.1616624\n",
      "tmt0D:      339.179421\n",
      "tmt0E:      353.195071\n",
      "tmt0F:      371.2208918\n",
      "tmt0G:      281.17394163\n",
      "tmt0H:      361.2113898\n",
      "tmt0I:      337.2365419\n",
      "tmt0K:      352.2474409\n",
      "tmt0L:      337.2365419\n",
      "tmt0M:      355.1929625\n",
      "tmt0N:      338.1954054\n",
      "tmt0P:      321.20524176000004\n",
      "tmt0Q:      352.2110554\n",
      "tmt0R:      380.2535889\n",
      "tmt0S:      311.18450633\n",
      "tmt0T:      325.2001564\n",
      "tmt0U:      375.1061112957\n",
      "tmt0V:      323.22089182\n",
      "tmt0W:      410.2317909\n",
      "tmt0Y:      387.2158065\n",
      "tmt2A:      296.1929466\n",
      "tmt2C:      328.16501730000004\n",
      "tmt2D:      340.1827759\n",
      "tmt2E:      354.1984259\n",
      "tmt2F:      372.2242467\n",
      "tmt2G:      282.17729653000004\n",
      "tmt2H:      362.2147447\n",
      "tmt2I:      338.2398968\n",
      "tmt2K:      353.2507958\n",
      "tmt2L:      338.2398968\n",
      "tmt2M:      356.1963174\n",
      "tmt2N:      339.1987603\n",
      "tmt2P:      322.20859666\n",
      "tmt2Q:      353.21441030000005\n",
      "tmt2R:      381.25694380000004\n",
      "tmt2S:      312.18786123\n",
      "tmt2T:      326.2035113\n",
      "tmt2U:      376.1094661957\n",
      "tmt2V:      324.22424672\n",
      "tmt2W:      411.23514580000005\n",
      "tmt2Y:      388.2191614\n",
      "tmt6A:      300.200046\n",
      "tmt6C:      332.1721167\n",
      "tmt6D:      344.1898753\n",
      "tmt6E:      358.2055253\n",
      "tmt6F:      376.2313461\n",
      "tmt6G:      286.18439593\n",
      "tmt6H:      366.2218441\n",
      "tmt6I:      342.2469962\n",
      "tmt6K:      357.2578952\n",
      "tmt6L:      342.2469962\n",
      "tmt6M:      360.2034168\n",
      "tmt6N:      343.2058597\n",
      "tmt6P:      326.21569606\n",
      "tmt6Q:      357.2215097\n",
      "tmt6R:      385.2640432\n",
      "tmt6S:      316.19496062999997\n",
      "tmt6T:      330.2106107\n",
      "tmt6U:      380.11656559569997\n",
      "tmt6V:      328.23134612\n",
      "tmt6W:      415.2422452\n",
      "tmt6Y:      392.2262608\n",
      "itraq4KA:   215.13952419999998\n",
      "itraq4KC:   247.1115949\n",
      "itraq4KD:   259.1293535\n",
      "itraq4KE:   273.14500350000003\n",
      "itraq4KF:   291.1708243\n",
      "itraq4KG:   201.12387413\n",
      "itraq4KH:   281.1613223\n",
      "itraq4KI:   257.1864744\n",
      "itraq4KK:   272.1973734\n",
      "itraq4KL:   257.1864744\n",
      "itraq4KM:   275.142895\n",
      "itraq4KN:   258.1453379\n",
      "itraq4KP:   241.15517426\n",
      "itraq4KQ:   272.1609879\n",
      "itraq4KR:   300.2035214\n",
      "itraq4KS:   231.13443883\n",
      "itraq4KT:   245.15008890000001\n",
      "itraq4KU:   295.0560437957\n",
      "itraq4KV:   243.17082432\n",
      "itraq4KW:   330.1817234\n",
      "itraq4KY:   307.16573900000003\n",
      "itraq4K:    272.1973734\n",
      "itraq4Y:    307.16573900000003\n",
      "itraq8KA:   375.2393133\n",
      "itraq8KC:   407.211384\n",
      "itraq8KD:   419.2291426\n",
      "itraq8KE:   433.2447926\n",
      "itraq8KF:   451.2706134\n",
      "itraq8KG:   361.22366323\n",
      "itraq8KH:   441.2611114\n",
      "itraq8KI:   417.2862635\n",
      "itraq8KK:   432.2971625\n",
      "itraq8KL:   417.2862635\n",
      "itraq8KM:   435.2426841\n",
      "itraq8KN:   418.245127\n",
      "itraq8KP:   401.25496336000003\n",
      "itraq8KQ:   432.260777\n",
      "itraq8KR:   460.3033105\n",
      "itraq8KS:   391.23422793\n",
      "itraq8KT:   405.249878\n",
      "itraq8KU:   455.1558328957\n",
      "itraq8KV:   403.27061342\n",
      "itraq8KW:   490.2815125\n",
      "itraq8KY:   467.2655281\n",
      "itraq8K:    432.2971625\n",
      "itraq8Y:    467.2655281\n",
      "eA:         337.1209813\n",
      "eC:         369.093052\n",
      "eD:         381.1108106\n",
      "eE:         395.1264606\n",
      "eF:         413.1522814\n",
      "eG:         323.10533123\n",
      "eH:         403.1427794\n",
      "eI:         379.1679315\n",
      "eK:         394.1788305\n",
      "eL:         379.1679315\n",
      "eM:         397.1243521\n",
      "eN:         380.126795\n",
      "eP:         363.13663136\n",
      "eQ:         394.142445\n",
      "eR:         422.1849785\n",
      "eS:         353.11589592999997\n",
      "eT:         367.131546\n",
      "eU:         417.03750089569996\n",
      "eV:         365.15228142\n",
      "eW:         452.1631805\n",
      "eY:         429.1471961\n",
      "arg10R:     166.10938057776002\n",
      "arg6R:      162.121241\n",
      "lys8K:      136.10916278888\n",
      "Electron:   0.00054857990907\n",
      "Proton:     1.00727646687\n",
      "Hydrogen:   1.00782503223\n",
      "C13:        13.003354835\n",
      "Oxygen:     15.994914619\n",
      "OH:         17.002739651229998\n",
      "H2O:        18.01056468346\n",
      "NH3:        17.02654910112\n",
      "delta_M:    1.00286864\n",
      "delta_S:    0.0109135\n"
     ]
    }
   ],
   "source": [
    "for _ in mass_dict:\n",
    "    print(f\"{_+':': <12}{mass_dict[_]}\")"
   ]
  },
  {
   "cell_type": "code",
   "execution_count": 7,
   "metadata": {},
   "outputs": [
    {
     "name": "stdout",
     "output_type": "stream",
     "text": [
      "71.0371138\n",
      "128.094963\n"
     ]
    }
   ],
   "source": [
    "# Test that there is an entry for each AA\n",
    "for _ in AAs:\n",
    "    assert _ in mass_dict.keys()\n",
    "    \n",
    "print(mass_dict['A'])\n",
    "print(mass_dict['K'])"
   ]
  },
  {
   "cell_type": "code",
   "execution_count": 8,
   "metadata": {},
   "outputs": [],
   "source": [
    "#| hide\n",
    "def test_get_mass_dict():\n",
    "    m_dict = mass_dict\n",
    "    assert m_dict[\"Electron\"] == 0.000548579909070\n",
    "\n",
    "test_get_mass_dict()"
   ]
  },
  {
   "cell_type": "code",
   "execution_count": 9,
   "metadata": {},
   "outputs": [],
   "source": [
    "#| hide\n",
    "def test_get_mass_dict():\n",
    "    m_dict = get_mass_dict(modfile=modfile_path, aasfile=aafile_path, verbose=False)\n",
    "    assert m_dict == mass_dict\n",
    "    \n",
    "test_get_mass_dict()"
   ]
  },
  {
   "cell_type": "markdown",
   "metadata": {},
   "source": [
    "## Isotopes\n",
    "\n",
    "We define a `jitclass` that stores the base mass, the number of isotopes, and their abundances. We create the typed dictionary `isotopes` that stores different default isotopes. "
   ]
  },
  {
   "cell_type": "code",
   "execution_count": 10,
   "metadata": {},
   "outputs": [],
   "source": [
    "#| export\n",
    "import numpy as np\n",
    "from numba import int32, float32, float64, njit, types\n",
    "from numba.experimental import jitclass\n",
    "from numba.typed import Dict\n",
    "\n",
    "spec = [\n",
    "    ('m0', float32),\n",
    "    ('dm', int32),\n",
    "    ('intensities', float32[:]),\n",
    "]\n",
    "\n",
    "@jitclass(spec)\n",
    "class Isotope:\n",
    "    \"\"\"\n",
    "    Jit-compatible class to store isotopes\n",
    "\n",
    "    Attributes:\n",
    "        m0 (int): Mass of pattern\n",
    "        dm0 (int): dm of pattern (number of isotopes)\n",
    "        int0 (np.float32[:]): Intensities of pattern\n",
    "    \"\"\"\n",
    "    def __init__(self, m0:int, dm:int, intensities:np.ndarray):\n",
    "        self.m0 = m0\n",
    "        self.dm = dm\n",
    "        self.intensities = intensities\n",
    "\n",
    "isotopes = Dict.empty(key_type=types.unicode_type, value_type=Isotope.class_type.instance_type)\n",
    "\n",
    "isotopes[\"C\"] = Isotope(12, 3, np.array([0.9893, 0.0107, 0.0], dtype=np.float32))\n",
    "isotopes[\"H\"] = Isotope(1.007940, 3,  np.array([0.999885, 0.000115, 0.0], dtype=np.float32))\n",
    "isotopes[\"O\"] = Isotope(15.9949146221, 3,  np.array([0.99757, 0.00038, 0.00205], dtype=np.float32))\n",
    "isotopes[\"N\"] = Isotope(14.0030740052, 2,  np.array([0.99636, 0.00364], dtype=np.float32))\n",
    "isotopes[\"S\"] = Isotope(31.97207069, 4,  np.array([0.9499, 0.0075, 0.0425, 0.0001], dtype=np.float32))\n",
    "\n",
    "isotopes[\"I\"] = Isotope(126.904473, 1,  np.array([1], dtype=np.float32))\n",
    "isotopes[\"K\"] = Isotope(38.9637069, 3,  np.array([0.932581, 0.000117, 0.067302], dtype=np.float32))"
   ]
  },
  {
   "cell_type": "code",
   "execution_count": 11,
   "metadata": {},
   "outputs": [],
   "source": [
    "#| hide\n",
    "def test_isotope():\n",
    "    assert isotopes[\"C\"].m0 == 12\n",
    "    assert isotopes[\"C\"].dm == 3\n",
    "    assert np.allclose(isotopes[\"C\"].intensities[0], 0.9893)\n",
    "    assert np.allclose(isotopes[\"C\"].intensities[1], 0.0107)\n",
    "    assert np.allclose(isotopes[\"C\"].intensities[2], 0)\n",
    "    \n",
    "test_isotope()"
   ]
  },
  {
   "cell_type": "code",
   "execution_count": 12,
   "metadata": {},
   "outputs": [
    {
     "name": "stdout",
     "output_type": "stream",
     "text": [
      "Element C: base mass 12.0                 intensities [0.9893 0.0107 0.    ]\n",
      "Element H: base mass 1.0079400539398193   intensities [9.99885e-01 1.15000e-04 0.00000e+00]\n",
      "Element O: base mass 15.994915008544922   intensities [9.9757e-01 3.8000e-04 2.0500e-03]\n",
      "Element N: base mass 14.003073692321777   intensities [0.99636 0.00364]\n",
      "Element S: base mass 31.972070693969727   intensities [9.499e-01 7.500e-03 4.250e-02 1.000e-04]\n",
      "Element I: base mass 126.90447235107422   intensities [1.]\n",
      "Element K: base mass 38.963706970214844   intensities [9.32581e-01 1.17000e-04 6.73020e-02]\n"
     ]
    }
   ],
   "source": [
    "for _ in isotopes:\n",
    "    print(f'Element {_}: base mass {isotopes[_].m0:<20} intensities {isotopes[_].intensities}')\n",
    "    "
   ]
  },
  {
   "cell_type": "markdown",
   "metadata": {},
   "source": [
    "## Averagine Model"
   ]
  },
  {
   "cell_type": "code",
   "execution_count": 13,
   "metadata": {},
   "outputs": [],
   "source": [
    "#| export\n",
    "averagine_aa = Dict.empty(key_type=types.unicode_type, value_type=types.float64)\n",
    "\n",
    "averagine_aa[\"C\"] = 4.9384\n",
    "averagine_aa[\"H\"] = 7.7583\n",
    "averagine_aa[\"N\"] = 1.3577\n",
    "averagine_aa[\"O\"] = 1.4773\n",
    "averagine_aa[\"S\"] = 0.0417\n",
    "\n",
    "averagine_avg = 111.1254"
   ]
  },
  {
   "cell_type": "code",
   "execution_count": 14,
   "metadata": {},
   "outputs": [
    {
     "name": "stdout",
     "output_type": "stream",
     "text": [
      "C 4.9384\n",
      "H 7.7583\n",
      "N 1.3577\n",
      "O 1.4773\n",
      "S 0.0417\n"
     ]
    }
   ],
   "source": [
    "#Masses of the averagine model\n",
    "for _ in averagine_aa:\n",
    "    print(f\"{_} {averagine_aa[_]}\")"
   ]
  },
  {
   "cell_type": "markdown",
   "metadata": {},
   "source": [
    "## Protease dict\n",
    "\n",
    "A numba compatible dictionary that stores different regular expressions needed for digestion. The dictionary was largely taken from the [Pyteomics](https://pyteomics.readthedocs.io/en/latest/_modules/pyteomics/parser.html) website which in turn derived the rules are from [expasy](https://web.expasy.org/peptide_cutter/peptidecutter_enzymes.html). Some entries (Lys-C/ Lys-N) were updated according to [OpenMS](https://github.com/OpenMS/OpenMS/blob/develop/share/OpenMS/CHEMISTRY/Enzymes.xml).\n",
    "A useful resource for testing Regex can be found [here](https://regex101.com/)."
   ]
  },
  {
   "cell_type": "code",
   "execution_count": 15,
   "metadata": {},
   "outputs": [],
   "source": [
    "#| export\n",
    "protease_dict = Dict.empty(key_type=types.unicode_type, value_type=types.unicode_type)\n",
    "\n",
    "protease_dict[\"arg-c\"] = \"R\"\n",
    "protease_dict[\"asp-n\"] = \"\\w(?=D)\"\n",
    "protease_dict[\"bnps-skatole\"] = \"W\"\n",
    "protease_dict[\"caspase 1\"] = \"(?<=[FWYL]\\w[HAT])D(?=[^PEDQKR])\"\n",
    "protease_dict[\"caspase 2\"] = \"(?<=DVA)D(?=[^PEDQKR])\"\n",
    "protease_dict[\"caspase 3\"] = \"(?<=DMQ)D(?=[^PEDQKR])\"\n",
    "protease_dict[\"caspase 4\"] = \"(?<=LEV)D(?=[^PEDQKR])\"\n",
    "protease_dict[\"caspase 5\"] = \"(?<=[LW]EH)D\"\n",
    "protease_dict[\"caspase 6\"] = \"(?<=VE[HI])D(?=[^PEDQKR])\"\n",
    "protease_dict[\"caspase 7\"] = \"(?<=DEV)D(?=[^PEDQKR])\"\n",
    "protease_dict[\"caspase 8\"] = \"(?<=[IL]ET)D(?=[^PEDQKR])\"\n",
    "protease_dict[\"caspase 9\"] = \"(?<=LEH)D\"\n",
    "protease_dict[\"caspase 10\"] = \"(?<=IEA)D\"\n",
    "protease_dict[\"chymotrypsin high specificity\"] = \"([FY](?=[^P]))|(W(?=[^MP]))\"\n",
    "protease_dict[\"chymotrypsin low specificity\"] = \"([FLY](?=[^P]))|(W(?=[^MP]))|(M(?=[^PY]))|(H(?=[^DMPW]))\"\n",
    "protease_dict[\"clostripain\"] = \"R\"\n",
    "protease_dict[\"cnbr\"] = \"M\"\n",
    "protease_dict[\"enterokinase\"] = \"(?<=[DE]{3})K\"\n",
    "protease_dict[\"factor xa\"] = \"(?<=[AFGILTVM][DE]G)R\"\n",
    "protease_dict[\"formic acid\"] = \"D\"\n",
    "protease_dict[\"glutamyl endopeptidase\"] = \"E\"\n",
    "protease_dict[\"granzyme b\"] = \"(?<=IEP)D\"\n",
    "protease_dict[\"hydroxylamine\"] = \"N(?=G)\"\n",
    "protease_dict[\"iodosobenzoic acid\"] = \"W\"\n",
    "protease_dict[\"lys_c\"] = \"K(?!P)\" #Lys-C cuts after K if not followed by P.\n",
    "protease_dict[\"lys_c/p\"] = \"K\" #Lys-C cuts after every K\n",
    "protease_dict[\"lys_n\"] = \".K\"  #Lys-N cuts before K.\n",
    "protease_dict[\"ntcb\"] = \"\\w(?=C)\"\n",
    "protease_dict[\"pepsin ph1.3\"] = \"((?<=[^HKR][^P])[^R](?=[FL][^P]))|((?<=[^HKR][^P])[FL](?=\\w[^P]))\"\n",
    "protease_dict[\"pepsin ph2.0\"] = \"((?<=[^HKR][^P])[^R](?=[FLWY][^P]))|((?<=[^HKR][^P])[FLWY](?=\\w[^P]))\"\n",
    "protease_dict[\"proline endopeptidase\"] = \"(?<=[HKR])P(?=[^P])\"\n",
    "protease_dict[\"proteinase k\"] = \"[AEFILTVWY]\"\n",
    "protease_dict[\"staphylococcal peptidase i\"] = \"(?<=[^E])E\"\n",
    "protease_dict[\"thermolysin\"] = \"[^DE](?=[AFILMV])\"\n",
    "protease_dict[\"thrombin\"] = \"((?<=G)R(?=G))|((?<=[AFGILTVM][AFGILTVWA]P)R(?=[^DE][^DE]))\"\n",
    "protease_dict[\"trypsin_full\"] = \"([KR](?=[^P]))|((?<=W)K(?=P))|((?<=M)R(?=P))\"\n",
    "protease_dict[\"trypsin_exception\"] = \"((?<=[CD])K(?=D))|((?<=C)K(?=[HY]))|((?<=C)R(?=K))|((?<=R)R(?=[HR]))\"\n",
    "protease_dict[\"non-specific\"] = \"()\"\n",
    "protease_dict[\"trypsin\"] = \"([KR](?=[^P]))\""
   ]
  },
  {
   "cell_type": "code",
   "execution_count": 16,
   "metadata": {},
   "outputs": [
    {
     "name": "stdout",
     "output_type": "stream",
     "text": [
      "arg-c                               R\n",
      "asp-n                               \\w(?=D)\n",
      "bnps-skatole                        W\n",
      "caspase 1                           (?<=[FWYL]\\w[HAT])D(?=[^PEDQKR])\n",
      "caspase 2                           (?<=DVA)D(?=[^PEDQKR])\n",
      "caspase 3                           (?<=DMQ)D(?=[^PEDQKR])\n",
      "caspase 4                           (?<=LEV)D(?=[^PEDQKR])\n",
      "caspase 5                           (?<=[LW]EH)D\n",
      "caspase 6                           (?<=VE[HI])D(?=[^PEDQKR])\n",
      "caspase 7                           (?<=DEV)D(?=[^PEDQKR])\n",
      "caspase 8                           (?<=[IL]ET)D(?=[^PEDQKR])\n",
      "caspase 9                           (?<=LEH)D\n",
      "caspase 10                          (?<=IEA)D\n",
      "chymotrypsin high specificity       ([FY](?=[^P]))|(W(?=[^MP]))\n",
      "chymotrypsin low specificity        ([FLY](?=[^P]))|(W(?=[^MP]))|(M(?=[^PY]))|(H(?=[^DMPW]))\n",
      "clostripain                         R\n",
      "cnbr                                M\n",
      "enterokinase                        (?<=[DE]{3})K\n",
      "factor xa                           (?<=[AFGILTVM][DE]G)R\n",
      "formic acid                         D\n",
      "glutamyl endopeptidase              E\n",
      "granzyme b                          (?<=IEP)D\n",
      "hydroxylamine                       N(?=G)\n",
      "iodosobenzoic acid                  W\n",
      "lys_c                               K(?!P)\n",
      "lys_c/p                             K\n",
      "lys_n                               .K\n",
      "ntcb                                \\w(?=C)\n",
      "pepsin ph1.3                        ((?<=[^HKR][^P])[^R](?=[FL][^P]))|((?<=[^HKR][^P])[FL](?=\\w[^P]))\n",
      "pepsin ph2.0                        ((?<=[^HKR][^P])[^R](?=[FLWY][^P]))|((?<=[^HKR][^P])[FLWY](?=\\w[^P]))\n",
      "proline endopeptidase               (?<=[HKR])P(?=[^P])\n",
      "proteinase k                        [AEFILTVWY]\n",
      "staphylococcal peptidase i          (?<=[^E])E\n",
      "thermolysin                         [^DE](?=[AFILMV])\n",
      "thrombin                            ((?<=G)R(?=G))|((?<=[AFGILTVM][AFGILTVWA]P)R(?=[^DE][^DE]))\n",
      "trypsin_full                        ([KR](?=[^P]))|((?<=W)K(?=P))|((?<=M)R(?=P))\n",
      "trypsin_exception                   ((?<=[CD])K(?=D))|((?<=C)K(?=[HY]))|((?<=C)R(?=K))|((?<=R)R(?=[HR]))\n",
      "non-specific                        ()\n",
      "trypsin                             ([KR](?=[^P]))\n"
     ]
    }
   ],
   "source": [
    "#Entries in the protease_dict:\n",
    "for _ in protease_dict:\n",
    "    print(f\"{_:<35} {protease_dict[_]}\")"
   ]
  },
  {
   "cell_type": "code",
   "execution_count": 17,
   "metadata": {},
   "outputs": [],
   "source": [
    "#| hide\n",
    "def test_get_protease_dict():\n",
    "    p_dict = protease_dict\n",
    "    assert p_dict[\"trypsin\"] == \"([KR](?=[^P]))\"\n",
    "    \n",
    "test_get_protease_dict()"
   ]
  },
  {
   "cell_type": "markdown",
   "metadata": {},
   "source": [
    "## Losses"
   ]
  },
  {
   "cell_type": "code",
   "execution_count": 18,
   "metadata": {},
   "outputs": [],
   "source": [
    "#| export\n",
    "from numba.typed import Dict\n",
    "loss_dict = Dict()\n",
    "loss_dict[''] = 0.0\n",
    "loss_dict['-H2O'] = 18.01056468346\n",
    "loss_dict['-NH3'] = 17.03052"
   ]
  },
  {
   "cell_type": "code",
   "execution_count": 19,
   "metadata": {},
   "outputs": [
    {
     "name": "stdout",
     "output_type": "stream",
     "text": [
      "      0.0\n",
      "-H2O  18.01056468346\n",
      "-NH3  17.03052\n"
     ]
    }
   ],
   "source": [
    "#Entries in the loss_dict:\n",
    "for _ in loss_dict:\n",
    "    print(f\"{_:<5} {loss_dict[_]}\")"
   ]
  },
  {
   "cell_type": "markdown",
   "metadata": {},
   "source": [
    "## Labels"
   ]
  },
  {
   "cell_type": "code",
   "execution_count": 20,
   "metadata": {},
   "outputs": [],
   "source": [
    "#| export\n",
    "from collections import namedtuple\n",
    "import numpy as np\n",
    "LABEL = namedtuple('label', ['mod_name', 'channels', 'masses', 'reference_channel','mods_fixed_terminal','mods_variable'])\n",
    "\n",
    "label_dict = {}\n",
    "\n",
    "label_dict['TMT10plex'] = LABEL('tmt6',\n",
    "    ['tmt10-126',\n",
    " 'tmt10-127N',\n",
    " 'tmt10-127C',\n",
    " 'tmt10-128N',\n",
    " 'tmt10-128C',\n",
    " 'tmt10-129N',\n",
    " 'tmt10-129C',\n",
    " 'tmt10-130N',\n",
    " 'tmt10-130C',\n",
    " 'tmt10-131',\n",
    " 'tmt10-131C'],\n",
    "np.array([126.127726,\n",
    " 127.124761,\n",
    " 127.131081,\n",
    " 128.128116,\n",
    " 128.134436,\n",
    " 129.131471,\n",
    " 129.13779,\n",
    " 130.134825,\n",
    " 130.141145,\n",
    " 131.13818,\n",
    " 131.144499]),\n",
    "'tmt10-126',\n",
    "['tmt6<^'],\n",
    "['tmt6Y','tmt6K'],\n",
    "   )"
   ]
  },
  {
   "cell_type": "code",
   "execution_count": 21,
   "metadata": {},
   "outputs": [
    {
     "name": "stdout",
     "output_type": "stream",
     "text": [
      "label(mod_name='tmt6', channels=['tmt10-126', 'tmt10-127N', 'tmt10-127C', 'tmt10-128N', 'tmt10-128C', 'tmt10-129N', 'tmt10-129C', 'tmt10-130N', 'tmt10-130C', 'tmt10-131', 'tmt10-131C'], masses=array([126.127726, 127.124761, 127.131081, 128.128116, 128.134436,\n",
      "       129.131471, 129.13779 , 130.134825, 130.141145, 131.13818 ,\n",
      "       131.144499]), reference_channel='tmt10-126', mods_fixed_terminal=['tmt6<^'], mods_variable=['tmt6Y', 'tmt6K'])\n"
     ]
    }
   ],
   "source": [
    "for label in label_dict:\n",
    "    print(label_dict[label])"
   ]
  },
  {
   "cell_type": "code",
   "execution_count": 22,
   "metadata": {},
   "outputs": [
    {
     "name": "stdout",
     "output_type": "stream",
     "text": [
      "Converted 00_settings.ipynb.\n",
      "Converted 01_chem.ipynb.\n",
      "Converted 02_io.ipynb.\n",
      "Converted 03_fasta.ipynb.\n",
      "Converted 04_feature_finding.ipynb.\n",
      "Converted 05_search.ipynb.\n",
      "Converted 06_score.ipynb.\n",
      "Converted 07_recalibration.ipynb.\n",
      "Converted 08_quantification.ipynb.\n",
      "Converted 09_matching.ipynb.\n",
      "Converted 10_constants.ipynb.\n",
      "Converted 11_interface.ipynb.\n",
      "Converted 12_performance.ipynb.\n",
      "Converted 13_export.ipynb.\n",
      "Converted 14_display.ipynb.\n",
      "Converted 15_label.ipynb.\n",
      "Converted additional_code.ipynb.\n",
      "Converted contributing.ipynb.\n",
      "Converted file_formats.ipynb.\n",
      "Converted index.ipynb.\n"
     ]
    }
   ],
   "source": [
    "#|hide\n",
    "import nbdev; nbdev.nbdev_export()"
   ]
  }
 ],
 "metadata": {
  "kernelspec": {
   "display_name": "Python 3 (ipykernel)",
   "language": "python",
   "name": "python3"
  },
  "language_info": {
   "codemirror_mode": {
    "name": "ipython",
    "version": 3
   },
   "file_extension": ".py",
   "mimetype": "text/x-python",
   "name": "python",
   "nbconvert_exporter": "python",
   "pygments_lexer": "ipython3",
   "version": "3.8.11"
  }
 },
 "nbformat": 4,
 "nbformat_minor": 2
}
