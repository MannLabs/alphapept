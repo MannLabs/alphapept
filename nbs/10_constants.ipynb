{
 "cells": [
  {
   "cell_type": "code",
   "execution_count": null,
   "metadata": {},
   "outputs": [],
   "source": [
    "# default_exp constants"
   ]
  },
  {
   "cell_type": "markdown",
   "metadata": {},
   "source": [
    "# Constants\n",
    "\n",
    "> Where all constats are stored"
   ]
  },
  {
   "cell_type": "markdown",
   "metadata": {},
   "source": [
    "This notebook stores all constants."
   ]
  },
  {
   "cell_type": "code",
   "execution_count": null,
   "metadata": {},
   "outputs": [],
   "source": [
    "#hide\n",
    "from nbdev.showdoc import *"
   ]
  },
  {
   "cell_type": "markdown",
   "metadata": {},
   "source": [
    "## Amino Acids\n",
    "A set of valid amino acids."
   ]
  },
  {
   "cell_type": "code",
   "execution_count": null,
   "metadata": {},
   "outputs": [],
   "source": [
    "#export\n",
    "AAs = set('ACDEFGHIKLMNPQRSTUVWY')"
   ]
  },
  {
   "cell_type": "code",
   "execution_count": null,
   "metadata": {},
   "outputs": [
    {
     "name": "stdout",
     "output_type": "stream",
     "text": [
      "{'U', 'C', 'V', 'T', 'R', 'P', 'F', 'S', 'L', 'G', 'D', 'A', 'M', 'I', 'W', 'K', 'E', 'N', 'Y', 'H', 'Q'}\n"
     ]
    }
   ],
   "source": [
    "print(AAs)"
   ]
  },
  {
   "cell_type": "markdown",
   "metadata": {},
   "source": [
    "## Mass dict\n",
    "A numba compatible mass dict dictionary"
   ]
  },
  {
   "cell_type": "code",
   "execution_count": null,
   "metadata": {},
   "outputs": [],
   "source": [
    "#export\n",
    "from numba import types\n",
    "from numba.typed import Dict\n",
    "\n",
    "mass_dict = Dict.empty(key_type=types.unicode_type, value_type=types.float64)\n",
    "\n",
    "mass_dict[\"A\"] = 71.03711379999999\n",
    "mass_dict[\"C\"] = 103.0091845\n",
    "mass_dict[\"D\"] = 115.02694309999998\n",
    "mass_dict[\"E\"] = 129.04259309999998\n",
    "mass_dict[\"F\"] = 147.0684139\n",
    "mass_dict[\"G\"] = 57.02146373\n",
    "mass_dict[\"H\"] = 137.0589119\n",
    "mass_dict[\"I\"] = 113.08406399999998\n",
    "mass_dict[\"K\"] = 128.09496299999998\n",
    "mass_dict[\"L\"] = 113.08406399999998\n",
    "mass_dict[\"M\"] = 131.04048459999998\n",
    "mass_dict[\"N\"] = 114.04292749999999\n",
    "mass_dict[\"P\"] = 97.05276386\n",
    "mass_dict[\"Q\"] = 128.05857749999998\n",
    "mass_dict[\"R\"] = 156.101111\n",
    "mass_dict[\"S\"] = 87.03202843\n",
    "mass_dict[\"T\"] = 101.0476785\n",
    "mass_dict[\"U\"] = 150.9536333957\n",
    "mass_dict[\"V\"] = 99.06841392\n",
    "mass_dict[\"W\"] = 186.07931299999998\n",
    "mass_dict[\"Y\"] = 163.06332859999998\n",
    "mass_dict[\"cC\"] = 160.03064823\n",
    "mass_dict[\"oxM\"] = 147.03539923\n",
    "mass_dict[\"aA\"] = 113.04767848999998\n",
    "mass_dict[\"aC\"] = 145.01974919\n",
    "mass_dict[\"aD\"] = 157.03750778999998\n",
    "mass_dict[\"aE\"] = 171.05315778999997\n",
    "mass_dict[\"aF\"] = 189.07897859\n",
    "mass_dict[\"aG\"] = 99.03202842\n",
    "mass_dict[\"aH\"] = 179.06947659\n",
    "mass_dict[\"aI\"] = 155.09462868999998\n",
    "mass_dict[\"aK\"] = 170.10552768999997\n",
    "mass_dict[\"aL\"] = 155.09462868999998\n",
    "mass_dict[\"aM\"] = 173.05104928999998\n",
    "mass_dict[\"aN\"] = 156.05349219\n",
    "mass_dict[\"aP\"] = 139.06332855\n",
    "mass_dict[\"aQ\"] = 170.06914218999998\n",
    "mass_dict[\"aR\"] = 198.11167569\n",
    "mass_dict[\"aS\"] = 129.04259312\n",
    "mass_dict[\"aT\"] = 143.05824319\n",
    "mass_dict[\"aU\"] = 192.9641980857\n",
    "mass_dict[\"aV\"] = 141.07897861\n",
    "mass_dict[\"aW\"] = 228.08987768999998\n",
    "mass_dict[\"aY\"] = 205.07389328999997\n",
    "mass_dict[\"amA\"] = 70.05309820699999\n",
    "mass_dict[\"amC\"] = 102.02516890700001\n",
    "mass_dict[\"amD\"] = 114.04292750699999\n",
    "mass_dict[\"amE\"] = 128.05857750699997\n",
    "mass_dict[\"amF\"] = 146.084398307\n",
    "mass_dict[\"amG\"] = 56.037448137\n",
    "mass_dict[\"amH\"] = 136.074896307\n",
    "mass_dict[\"amI\"] = 112.10004840699999\n",
    "mass_dict[\"amK\"] = 127.11094740699998\n",
    "mass_dict[\"amL\"] = 112.10004840699999\n",
    "mass_dict[\"amM\"] = 130.05646900699998\n",
    "mass_dict[\"amN\"] = 113.058911907\n",
    "mass_dict[\"amP\"] = 96.068748267\n",
    "mass_dict[\"amQ\"] = 127.07456190699999\n",
    "mass_dict[\"amR\"] = 155.117095407\n",
    "mass_dict[\"amS\"] = 86.048012837\n",
    "mass_dict[\"amT\"] = 100.06366290700001\n",
    "mass_dict[\"amU\"] = 149.9696178027\n",
    "mass_dict[\"amV\"] = 98.084398327\n",
    "mass_dict[\"amW\"] = 185.09529740699998\n",
    "mass_dict[\"amY\"] = 162.07931300699997\n",
    "mass_dict[\"pS\"] = 166.99835935\n",
    "mass_dict[\"pT\"] = 181.01400942\n",
    "mass_dict[\"pY\"] = 243.02965952\n",
    "mass_dict[\"deamN\"] = 115.02694309299999\n",
    "mass_dict[\"deamNQ\"] = 129.042593093\n",
    "mass_dict[\"n\"] = 467.2655281\n",
    "mass_dict[\"pgE\"] = 111.03202840999998\n",
    "mass_dict[\"pgQ\"] = 111.03202839999999\n",
    "mass_dict[\"eA\"] = 337.1209813\n",
    "mass_dict[\"eC\"] = 369.093052\n",
    "mass_dict[\"eD\"] = 381.1108106\n",
    "mass_dict[\"eE\"] = 395.1264606\n",
    "mass_dict[\"eF\"] = 413.1522814\n",
    "mass_dict[\"eG\"] = 323.10533123\n",
    "mass_dict[\"eH\"] = 403.1427794\n",
    "mass_dict[\"eI\"] = 379.1679315\n",
    "mass_dict[\"eK\"] = 394.1788305\n",
    "mass_dict[\"eL\"] = 379.1679315\n",
    "mass_dict[\"eM\"] = 397.1243521\n",
    "mass_dict[\"eN\"] = 380.126795\n",
    "mass_dict[\"eP\"] = 363.13663136\n",
    "mass_dict[\"eQ\"] = 394.14244499999995\n",
    "mass_dict[\"eR\"] = 422.1849785\n",
    "mass_dict[\"eS\"] = 353.11589592999997\n",
    "mass_dict[\"eT\"] = 367.131546\n",
    "mass_dict[\"eU\"] = 417.03750089569996\n",
    "mass_dict[\"eV\"] = 365.15228142\n",
    "mass_dict[\"eW\"] = 452.16318049999995\n",
    "mass_dict[\"eY\"] = 429.1471961\n",
    "mass_dict[\"amoxM\"] = 146.05138359999998\n",
    "mass_dict[\"aoxM\"] = 189.0459646\n",
    "mass_dict[\"camC\"] = 159.04663250000002\n",
    "mass_dict[\"acC\"] = 202.0412135\n",
    "\n",
    "mass_dict[\"Electron\"] = 0.00054857990907\n",
    "mass_dict[\"Proton\"] = 1.00727646687\n",
    "mass_dict[\"Hydrogen\"] = 1.00782503223\n",
    "mass_dict[\"C13\"] = 13.003354835\n",
    "mass_dict[\"Oxygen\"] = 15.994914619\n",
    "mass_dict[\"OH\"] = 17.002739651229998\n",
    "mass_dict[\"H2O\"] = 18.01056468346\n",
    "\n",
    "mass_dict[\"delta_M\"] = 1.00286864\n",
    "mass_dict[\"delta_S\"] = 0.0109135"
   ]
  },
  {
   "cell_type": "code",
   "execution_count": null,
   "metadata": {},
   "outputs": [
    {
     "name": "stdout",
     "output_type": "stream",
     "text": [
      "71.03711379999999\n",
      "128.09496299999998\n"
     ]
    }
   ],
   "source": [
    "# Test that there is an entry for each AA\n",
    "for _ in AAs:\n",
    "    assert _ in mass_dict.keys()\n",
    "    \n",
    "print(mass_dict['A'])\n",
    "print(mass_dict['K'])"
   ]
  },
  {
   "cell_type": "code",
   "execution_count": null,
   "metadata": {},
   "outputs": [],
   "source": [
    "#hide\n",
    "def test_get_mass_dict():\n",
    "    m_dict = mass_dict\n",
    "    assert m_dict[\"Electron\"] == 0.000548579909070\n",
    "\n",
    "test_get_mass_dict()"
   ]
  },
  {
   "cell_type": "code",
   "execution_count": null,
   "metadata": {},
   "outputs": [],
   "source": [
    "### mass dict from table"
   ]
  },
  {
   "cell_type": "code",
   "execution_count": null,
   "metadata": {},
   "outputs": [],
   "source": [
    "#export\n",
    "def get_mass_dict(modfile=\"modifications.tsv\", aasfile=\"amino_acids.tsv\"):\n",
    "    \"\"\"\n",
    "    Creates a mass_dict based on tsv files\n",
    "\n",
    "    Args:\n",
    "        modfile: Filename of modifications file\n",
    "        aasfile: Filename of AAs file\n",
    "\n",
    "    Returns:\n",
    "        Returns a numba compatible dictionary with masses\n",
    "\n",
    "    Raises:\n",
    "        FileNotFoundError: If files are not found\n",
    "    \"\"\"\n",
    "\n",
    "    for file in [modfile, aasfile]:\n",
    "        if not check_file(file):\n",
    "            raise FileNotFoundError(\"File {} not found.\".format(file))\n",
    "\n",
    "    mods = pd.read_csv(modfile, delimiter=\"\\t\")\n",
    "    aas = pd.read_csv(aasfile, delimiter=\"\\t\")\n",
    "\n",
    "    mass_dict = Dict.empty(key_type=types.unicode_type, value_type=types.float64)\n",
    "\n",
    "    for identifier, mass in aas[[\"Identifier\", \"Monoisotopic Mass (Da)\"]].values:\n",
    "        mass_dict[identifier] = float(mass)\n",
    "\n",
    "    for identifier, aar, mass in mods[\n",
    "        [\"Identifier\", \"Amino Acid Residue\", \"Monoisotopic Mass Shift (Da)\"]\n",
    "    ].values:\n",
    "        print(identifier, aar, mass)\n",
    "\n",
    "        if (\"<\" in identifier) or (\">\" in identifier):\n",
    "            for aa_identifier, aa_mass in aas[\n",
    "                [\"Identifier\", \"Monoisotopic Mass (Da)\"]\n",
    "            ].values:\n",
    "                new_identifier = identifier[:-1] + aa_identifier\n",
    "                mass_dict[new_identifier] = float(mass) + mass_dict[aa_identifier]\n",
    "        else:\n",
    "            mass_dict[identifier] = float(mass) + mass_dict[aar]\n",
    "\n",
    "    # Manually add some other masses\n",
    "    # TODO: Move to file\n",
    "    mass_dict[\n",
    "        \"Electron\"\n",
    "    ] = (\n",
    "        0.000548579909070\n",
    "    )  # electron mass, half a millimass error if not taken into account\n",
    "    mass_dict[\"Proton\"] = 1.00727646687  # proton mass\n",
    "    mass_dict[\"Hydrogen\"] = 1.00782503223  # hydrogen mass\n",
    "    mass_dict[\"C13\"] = 13.003354835  # C13 mass\n",
    "    mass_dict[\"Oxygen\"] = 15.994914619  # oxygen mass\n",
    "    mass_dict[\"OH\"] = mass_dict[\"Oxygen\"] + mass_dict[\"Hydrogen\"]  # OH mass\n",
    "    mass_dict[\"H2O\"] = mass_dict[\"Oxygen\"] + 2 * mass_dict[\"Hydrogen\"]  # H2O mass\n",
    "\n",
    "    for element in mass_dict:\n",
    "        print('mass_dict[\"{}\"] = {}'.format(element, mass_dict[element]))\n",
    "\n",
    "    return mass_dict"
   ]
  },
  {
   "cell_type": "markdown",
   "metadata": {},
   "source": [
    "## Isotopes\n",
    "\n",
    "We define a `jitclass` that stores the base mass, the number of isotopes, and their abundances. We create the typed dictionary `isotopes` that stores different default isotopes. "
   ]
  },
  {
   "cell_type": "code",
   "execution_count": null,
   "metadata": {},
   "outputs": [],
   "source": [
    "#export\n",
    "import numpy as np\n",
    "from numba import int32, float32, float64, jitclass, njit, types\n",
    "from numba.typed import Dict\n",
    "\n",
    "spec = [\n",
    "    ('m0', float32),\n",
    "    ('dm', int32),\n",
    "    ('intensities', float32[:]),\n",
    "]\n",
    "\n",
    "@jitclass(spec)\n",
    "class Isotope:\n",
    "    def __init__(self, m0, dm, intensities):\n",
    "        self.m0 = m0\n",
    "        self.dm = dm\n",
    "        self.intensities = intensities\n",
    "\n",
    "isotopes = Dict.empty(key_type=types.unicode_type, value_type=Isotope.class_type.instance_type)\n",
    "\n",
    "isotopes[\"C\"] = Isotope(12, 3, np.array([0.9893, 0.0107, 0.0], dtype=np.float32))\n",
    "isotopes[\"H\"] = Isotope(1.007940, 3,  np.array([0.999885, 0.000115, 0.0], dtype=np.float32))\n",
    "isotopes[\"O\"] = Isotope(15.9949146221, 3,  np.array([0.99757, 0.00038, 0.00205], dtype=np.float32))\n",
    "isotopes[\"N\"] = Isotope(14.0030740052, 2,  np.array([0.99636, 0.00364], dtype=np.float32))\n",
    "isotopes[\"S\"] = Isotope(31.97207069, 4,  np.array([0.9499, 0.0075, 0.0425, 0.0001], dtype=np.float32))\n",
    "\n",
    "isotopes[\"I\"] = Isotope(126.904473, 1,  np.array([1], dtype=np.float32))\n",
    "isotopes[\"K\"] = Isotope(38.9637069, 3,  np.array([0.932581, 0.000117, 0.067302], dtype=np.float32))"
   ]
  },
  {
   "cell_type": "code",
   "execution_count": null,
   "metadata": {},
   "outputs": [],
   "source": [
    "#hide\n",
    "def test_isotope():\n",
    "    assert isotopes[\"C\"].m0 == 12\n",
    "    assert isotopes[\"C\"].dm == 3\n",
    "    assert np.allclose(isotopes[\"C\"].intensities[0], 0.9893)\n",
    "    assert np.allclose(isotopes[\"C\"].intensities[1], 0.0107)\n",
    "    assert np.allclose(isotopes[\"C\"].intensities[2], 0)\n",
    "    \n",
    "test_isotope()"
   ]
  },
  {
   "cell_type": "markdown",
   "metadata": {},
   "source": [
    "## Averagine Model"
   ]
  },
  {
   "cell_type": "code",
   "execution_count": null,
   "metadata": {},
   "outputs": [],
   "source": [
    "#export\n",
    "averagine_aa = Dict.empty(key_type=types.unicode_type, value_type=types.float64)\n",
    "\n",
    "averagine_aa[\"C\"] = 4.9384\n",
    "averagine_aa[\"H\"] = 7.7583\n",
    "averagine_aa[\"N\"] = 1.3577\n",
    "averagine_aa[\"O\"] = 1.4773\n",
    "averagine_aa[\"S\"] = 0.0417\n",
    "\n",
    "averagine_avg = 111.1254"
   ]
  },
  {
   "cell_type": "markdown",
   "metadata": {},
   "source": [
    "## Protease dict\n",
    "\n",
    "A numba compatible dictionary that stores different regular expressions neeeded for digestion. The dictionary was largely taken from the [Pyteomics](https://pyteomics.readthedocs.io/en/latest/_modules/pyteomics/parser.html) website which in turn derived the rules are from [expasy](https://web.expasy.org/peptide_cutter/peptidecutter_enzymes.html)."
   ]
  },
  {
   "cell_type": "code",
   "execution_count": null,
   "metadata": {},
   "outputs": [],
   "source": [
    "#export\n",
    "protease_dict = Dict.empty(key_type=types.unicode_type, value_type=types.unicode_type)\n",
    "\n",
    "protease_dict[\"arg-c\"] = \"R\"\n",
    "protease_dict[\"asp-n\"] = \"\\w(?=D)\"\n",
    "protease_dict[\"bnps-skatole\"] = \"W\"\n",
    "protease_dict[\"caspase 1\"] = \"(?<=[FWYL]\\w[HAT])D(?=[^PEDQKR])\"\n",
    "protease_dict[\"caspase 2\"] = \"(?<=DVA)D(?=[^PEDQKR])\"\n",
    "protease_dict[\"caspase 3\"] = \"(?<=DMQ)D(?=[^PEDQKR])\"\n",
    "protease_dict[\"caspase 4\"] = \"(?<=LEV)D(?=[^PEDQKR])\"\n",
    "protease_dict[\"caspase 5\"] = \"(?<=[LW]EH)D\"\n",
    "protease_dict[\"caspase 6\"] = \"(?<=VE[HI])D(?=[^PEDQKR])\"\n",
    "protease_dict[\"caspase 7\"] = \"(?<=DEV)D(?=[^PEDQKR])\"\n",
    "protease_dict[\"caspase 8\"] = \"(?<=[IL]ET)D(?=[^PEDQKR])\"\n",
    "protease_dict[\"caspase 9\"] = \"(?<=LEH)D\"\n",
    "protease_dict[\"caspase 10\"] = \"(?<=IEA)D\"\n",
    "protease_dict[\"chymotrypsin high specificity\"] = \"([FY](?=[^P]))|(W(?=[^MP]))\"\n",
    "protease_dict[\"chymotrypsin low specificity\"] = \"([FLY](?=[^P]))|(W(?=[^MP]))|(M(?=[^PY]))|(H(?=[^DMPW]))\"\n",
    "protease_dict[\"clostripain\"] = \"R\"\n",
    "protease_dict[\"cnbr\"] = \"M\"\n",
    "protease_dict[\"enterokinase\"] = \"(?<=[DE]{3})K\"\n",
    "protease_dict[\"factor xa\"] = \"(?<=[AFGILTVM][DE]G)R\"\n",
    "protease_dict[\"formic acid\"] = \"D\"\n",
    "protease_dict[\"glutamyl endopeptidase\"] = \"E\"\n",
    "protease_dict[\"granzyme b\"] = \"(?<=IEP)D\"\n",
    "protease_dict[\"hydroxylamine\"] = \"N(?=G)\"\n",
    "protease_dict[\"iodosobenzoic acid\"] = \"W\"\n",
    "protease_dict[\"lysc\"] = \"K\"\n",
    "protease_dict[\"ntcb\"] = \"\\w(?=C)\"\n",
    "protease_dict[\"pepsin ph1.3\"] = \"((?<=[^HKR][^P])[^R](?=[FL][^P]))|((?<=[^HKR][^P])[FL](?=\\w[^P]))\"\n",
    "protease_dict[\"pepsin ph2.0\"] = \"((?<=[^HKR][^P])[^R](?=[FLWY][^P]))|((?<=[^HKR][^P])[FLWY](?=\\w[^P]))\"\n",
    "protease_dict[\"proline endopeptidase\"] = \"(?<=[HKR])P(?=[^P])\"\n",
    "protease_dict[\"proteinase k\"] = \"[AEFILTVWY]\"\n",
    "protease_dict[\"staphylococcal peptidase i\"] = \"(?<=[^E])E\"\n",
    "protease_dict[\"thermolysin\"] = \"[^DE](?=[AFILMV])\"\n",
    "protease_dict[\"thrombin\"] = \"((?<=G)R(?=G))|((?<=[AFGILTVM][AFGILTVWA]P)R(?=[^DE][^DE]))\"\n",
    "protease_dict[\"trypsin_full\"] = \"([KR](?=[^P]))|((?<=W)K(?=P))|((?<=M)R(?=P))\"\n",
    "protease_dict[\"trypsin_exception\"] = \"((?<=[CD])K(?=D))|((?<=C)K(?=[HY]))|((?<=C)R(?=K))|((?<=R)R(?=[HR]))\"\n",
    "protease_dict[\"non-specific\"] = \"()\"\n",
    "protease_dict[\"trypsin\"] = \"([KR](?=[^P]))\""
   ]
  },
  {
   "cell_type": "code",
   "execution_count": null,
   "metadata": {},
   "outputs": [
    {
     "data": {
      "text/plain": [
       "'([KR](?=[^P]))'"
      ]
     },
     "execution_count": null,
     "metadata": {},
     "output_type": "execute_result"
    }
   ],
   "source": [
    "protease_dict[\"trypsin\"]"
   ]
  },
  {
   "cell_type": "code",
   "execution_count": null,
   "metadata": {},
   "outputs": [],
   "source": [
    "#hide\n",
    "def test_get_protease_dict():\n",
    "    p_dict = protease_dict\n",
    "    assert p_dict[\"trypsin\"] == \"([KR](?=[^P]))\"\n",
    "    \n",
    "test_get_protease_dict()"
   ]
  },
  {
   "cell_type": "code",
   "execution_count": null,
   "metadata": {},
   "outputs": [
    {
     "name": "stdout",
     "output_type": "stream",
     "text": [
      "Converted 01_chem.ipynb.\n",
      "Converted 02_io.ipynb.\n",
      "Converted 03_fasta.ipynb.\n",
      "Converted 04_feature_finding.ipynb.\n",
      "Converted 05_search.ipynb.\n",
      "Converted 06_score.ipynb.\n",
      "Converted 07_recalibration.ipynb.\n",
      "Converted 08_quantification.ipynb.\n",
      "Converted 09_matching.ipynb.\n",
      "Converted 10_constants.ipynb.\n",
      "Converted 11_settings.ipynb.\n",
      "Converted 12_settings_template.ipynb.\n",
      "Converted index.ipynb.\n"
     ]
    }
   ],
   "source": [
    "#hide\n",
    "from nbdev.export import *\n",
    "notebook2script()"
   ]
  }
 ],
 "metadata": {
  "kernelspec": {
   "display_name": "Python 3",
   "language": "python",
   "name": "python3"
  }
 },
 "nbformat": 4,
 "nbformat_minor": 2
}
