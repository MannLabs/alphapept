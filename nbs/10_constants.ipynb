{
 "cells": [
  {
   "cell_type": "code",
   "execution_count": null,
   "metadata": {},
   "outputs": [],
   "source": [
    "# default_exp constants"
   ]
  },
  {
   "cell_type": "markdown",
   "metadata": {},
   "source": [
    "# Constants\n",
    "\n",
    "> Where all constats are stored"
   ]
  },
  {
   "cell_type": "markdown",
   "metadata": {},
   "source": [
    "This notebook stores all constants."
   ]
  },
  {
   "cell_type": "code",
   "execution_count": null,
   "metadata": {},
   "outputs": [],
   "source": [
    "#hide\n",
    "from nbdev.showdoc import *"
   ]
  },
  {
   "cell_type": "markdown",
   "metadata": {},
   "source": [
    "## Amino Acids\n",
    "A set of valid amino acids."
   ]
  },
  {
   "cell_type": "code",
   "execution_count": null,
   "metadata": {},
   "outputs": [],
   "source": [
    "#export\n",
    "AAs = set('ACDEFGHIKLMNPQRSTUVWY')"
   ]
  },
  {
   "cell_type": "code",
   "execution_count": null,
   "metadata": {},
   "outputs": [
    {
     "name": "stdout",
     "output_type": "stream",
     "text": [
      "{'G', 'D', 'V', 'K', 'A', 'N', 'P', 'E', 'Q', 'T', 'C', 'M', 'H', 'I', 'W', 'R', 'F', 'U', 'Y', 'S', 'L'}\n"
     ]
    }
   ],
   "source": [
    "print(AAs)"
   ]
  },
  {
   "cell_type": "markdown",
   "metadata": {},
   "source": [
    "## Mass dict\n",
    "A numba compatible mass dict dictionary"
   ]
  },
  {
   "cell_type": "code",
   "execution_count": null,
   "metadata": {},
   "outputs": [],
   "source": [
    "#export\n",
    "from numba import types\n",
    "from numba.typed import Dict\n",
    "\n",
    "mass_dict = Dict.empty(key_type=types.unicode_type, value_type=types.float64)\n",
    "\n",
    "mass_dict[\"A\"] = 71.03711379999999\n",
    "mass_dict[\"C\"] = 103.0091845\n",
    "mass_dict[\"D\"] = 115.02694309999998\n",
    "mass_dict[\"E\"] = 129.04259309999998\n",
    "mass_dict[\"F\"] = 147.0684139\n",
    "mass_dict[\"G\"] = 57.02146373\n",
    "mass_dict[\"H\"] = 137.0589119\n",
    "mass_dict[\"I\"] = 113.08406399999998\n",
    "mass_dict[\"K\"] = 128.09496299999998\n",
    "mass_dict[\"L\"] = 113.08406399999998\n",
    "mass_dict[\"M\"] = 131.04048459999998\n",
    "mass_dict[\"N\"] = 114.04292749999999\n",
    "mass_dict[\"P\"] = 97.05276386\n",
    "mass_dict[\"Q\"] = 128.05857749999998\n",
    "mass_dict[\"R\"] = 156.101111\n",
    "mass_dict[\"S\"] = 87.03202843\n",
    "mass_dict[\"T\"] = 101.0476785\n",
    "mass_dict[\"U\"] = 150.9536333957\n",
    "mass_dict[\"V\"] = 99.06841392\n",
    "mass_dict[\"W\"] = 186.07931299999998\n",
    "mass_dict[\"Y\"] = 163.06332859999998\n",
    "mass_dict[\"cC\"] = 160.03064823\n",
    "mass_dict[\"oxM\"] = 147.03539923\n",
    "mass_dict[\"aN\"] = 156.05349219\n",
    "mass_dict[\"amN\"] = 113.058911907\n",
    "mass_dict[\"aK\"] = 170.10552768999997\n",
    "mass_dict[\"pS\"] = 166.99835935\n",
    "mass_dict[\"pT\"] = 181.01400942\n",
    "mass_dict[\"pY\"] = 243.02965952\n",
    "mass_dict[\"deamN\"] = 115.02694309299999\n",
    "mass_dict[\"deamNQ\"] = 129.042593093\n",
    "mass_dict[\"cmC\"] = 85.9826354\n",
    "mass_dict[\"pgE\"] = 111.03202840999998\n",
    "mass_dict[\"pgQ\"] = 111.03202839999999\n",
    "mass_dict[\"tmt0N\"] = 338.1954054\n",
    "mass_dict[\"tmt0K\"] = 352.2474409\n",
    "mass_dict[\"tmt0Y\"] = 387.2158065\n",
    "mass_dict[\"tmt2N\"] = 339.1987603\n",
    "mass_dict[\"tmt2K\"] = 353.2507958\n",
    "mass_dict[\"tmt2Y\"] = 388.21916139999996\n",
    "mass_dict[\"tmt6N\"] = 343.20585969999996\n",
    "mass_dict[\"tmt6K\"] = 357.25789519999995\n",
    "mass_dict[\"tmt6Y\"] = 392.2262608\n",
    "mass_dict[\"itraq4KN\"] = 258.14533789999996\n",
    "mass_dict[\"itraq4K\"] = 272.19737339999995\n",
    "mass_dict[\"itraq4Y\"] = 307.165739\n",
    "mass_dict[\"itraq8KN\"] = 418.245127\n",
    "mass_dict[\"itraq8K\"] = 432.2971625\n",
    "mass_dict[\"itraq8Y\"] = 467.2655281\n",
    "mass_dict[\"eK\"] = 394.1788305\n",
    "mass_dict[\"arg10R\"] = 166.10938057776002\n",
    "mass_dict[\"arg6R\"] = 162.121241\n",
    "mass_dict[\"lys8K\"] = 136.10916278887998\n",
    "\n",
    "mass_dict[\"Electron\"] = 0.00054857990907\n",
    "mass_dict[\"Proton\"] = 1.00727646687\n",
    "mass_dict[\"Hydrogen\"] = 1.00782503223\n",
    "mass_dict[\"C13\"] = 13.003354835\n",
    "mass_dict[\"Oxygen\"] = 15.994914619\n",
    "mass_dict[\"OH\"] = 17.002739651229998\n",
    "mass_dict[\"H2O\"] = 18.01056468346\n",
    "mass_dict[\"NH3\"] = 17.03052\n",
    "\n",
    "mass_dict[\"delta_M\"] = 1.00286864\n",
    "mass_dict[\"delta_S\"] = 0.0109135"
   ]
  },
  {
   "cell_type": "code",
   "execution_count": null,
   "metadata": {},
   "outputs": [
    {
     "name": "stdout",
     "output_type": "stream",
     "text": [
      "71.03711379999999\n",
      "128.09496299999998\n"
     ]
    }
   ],
   "source": [
    "# Test that there is an entry for each AA\n",
    "for _ in AAs:\n",
    "    assert _ in mass_dict.keys()\n",
    "    \n",
    "print(mass_dict['A'])\n",
    "print(mass_dict['K'])"
   ]
  },
  {
   "cell_type": "code",
   "execution_count": null,
   "metadata": {},
   "outputs": [],
   "source": [
    "#hide\n",
    "def test_get_mass_dict():\n",
    "    m_dict = mass_dict\n",
    "    assert m_dict[\"Electron\"] == 0.000548579909070\n",
    "\n",
    "test_get_mass_dict()"
   ]
  },
  {
   "cell_type": "code",
   "execution_count": null,
   "metadata": {},
   "outputs": [],
   "source": [
    "#export\n",
    "\n",
    "#generates the mass dictionary from table\n",
    "def get_mass_dict(modfile=\"../modifications.tsv\", aasfile=\"../amino_acids.tsv\"):\n",
    "    \"\"\"\n",
    "    Creates a mass_dict based on tsv files\n",
    "\n",
    "    Args:\n",
    "        modfile: Filename of modifications file\n",
    "        aasfile: Filename of AAs file\n",
    "\n",
    "    Returns:\n",
    "        Returns a numba compatible dictionary with masses\n",
    "\n",
    "    Raises:\n",
    "        FileNotFoundError: If files are not found\n",
    "    \"\"\"\n",
    "    import pandas as pd\n",
    "\n",
    "    #for file in [modfile, aasfile]:\n",
    "        #if not check_file(file):\n",
    "        #    raise FileNotFoundError(\"File {} not found.\".format(file))\n",
    "\n",
    "    mods = pd.read_csv(modfile, delimiter=\"\\t\")\n",
    "    aas = pd.read_csv(aasfile, delimiter=\"\\t\")\n",
    "\n",
    "    mass_dict = Dict.empty(key_type=types.unicode_type, value_type=types.float64)\n",
    "\n",
    "    for identifier, mass in aas[[\"Identifier\", \"Monoisotopic Mass (Da)\"]].values:\n",
    "        mass_dict[identifier] = float(mass)\n",
    "\n",
    "    for identifier, aar, mass in mods[\n",
    "        [\"Identifier\", \"Amino Acid Residue\", \"Monoisotopic Mass Shift (Da)\"]\n",
    "    ].values:\n",
    "        #print(identifier, aar, mass)\n",
    "\n",
    "        if (\"<\" in identifier) or (\">\" in identifier):\n",
    "            for aa_identifier, aa_mass in aas[[\"Identifier\", \"Monoisotopic Mass (Da)\"]].values:\n",
    "                if '^' in aa_identifier:\n",
    "                    new_identifier = identifier[:-1] + aa_identifier\n",
    "                    mass_dict[new_identifier] = float(mass) + mass_dict[aa_identifier]\n",
    "                elif aar == aa_identifier:\n",
    "                    new_identifier = identifier[:-2] + aa_identifier\n",
    "                    mass_dict[new_identifier] = float(mass) + mass_dict[aa_identifier]\n",
    "                else:\n",
    "                    pass\n",
    "        else:\n",
    "            mass_dict[identifier] = float(mass) + mass_dict[aar]\n",
    "\n",
    "    # Manually add some other masses\n",
    "    # TODO: Move to file\n",
    "    mass_dict[\n",
    "        \"Electron\"\n",
    "    ] = (\n",
    "        0.000548579909070\n",
    "    )  # electron mass, half a millimass error if not taken into account\n",
    "    mass_dict[\"Proton\"] = 1.00727646687  # proton mass\n",
    "    mass_dict[\"Hydrogen\"] = 1.00782503223  # hydrogen mass\n",
    "    mass_dict[\"C13\"] = 13.003354835  # C13 mass\n",
    "    mass_dict[\"Oxygen\"] = 15.994914619  # oxygen mass\n",
    "    mass_dict[\"OH\"] = mass_dict[\"Oxygen\"] + mass_dict[\"Hydrogen\"]  # OH mass\n",
    "    mass_dict[\"H2O\"] = mass_dict[\"Oxygen\"] + 2 * mass_dict[\"Hydrogen\"]  # H2O mass\n",
    "\n",
    "    for element in mass_dict:\n",
    "        print('mass_dict[\"{}\"] = {}'.format(element, mass_dict[element]))\n",
    "\n",
    "    return mass_dict"
   ]
  },
  {
   "cell_type": "code",
   "execution_count": null,
   "metadata": {},
   "outputs": [],
   "source": [
    "import pandas as pd\n",
    "## Read modifications from modifications file\n",
    "mod_db = pd.read_csv('../modifications.tsv', sep='\\t')\n",
    "\n",
    "mods = {}\n",
    "mods_terminal = {}\n",
    "mods_protein = {}\n",
    "\n",
    "for i in range(len(mod_db)):\n",
    "    mod = mod_db.iloc[i]\n",
    "    #print(mod)\n",
    "    if 'terminus' in mod['Type']:\n",
    "        if 'peptide' in mod['Type']:\n",
    "            mods_terminal[mod['Identifier']] = mod['Description']\n",
    "        elif 'protein' in mod['Type']:\n",
    "            mods_protein[mod['Identifier']] = mod['Description']\n",
    "        else:\n",
    "            print('Not understood')\n",
    "            print(mod['Type'])\n",
    "            raise\n",
    "    else:\n",
    "        mods[mod['Identifier']] = mod['Description']"
   ]
  },
  {
   "cell_type": "markdown",
   "metadata": {},
   "source": [
    "## Isotopes\n",
    "\n",
    "We define a `jitclass` that stores the base mass, the number of isotopes, and their abundances. We create the typed dictionary `isotopes` that stores different default isotopes. "
   ]
  },
  {
   "cell_type": "code",
   "execution_count": null,
   "metadata": {},
   "outputs": [],
   "source": [
    "#export\n",
    "import numpy as np\n",
    "from numba import int32, float32, float64, njit, types\n",
    "from numba.experimental import jitclass\n",
    "from numba.typed import Dict\n",
    "\n",
    "spec = [\n",
    "    ('m0', float32),\n",
    "    ('dm', int32),\n",
    "    ('intensities', float32[:]),\n",
    "]\n",
    "\n",
    "@jitclass(spec)\n",
    "class Isotope:\n",
    "    def __init__(self, m0, dm, intensities):\n",
    "        self.m0 = m0\n",
    "        self.dm = dm\n",
    "        self.intensities = intensities\n",
    "\n",
    "isotopes = Dict.empty(key_type=types.unicode_type, value_type=Isotope.class_type.instance_type)\n",
    "\n",
    "isotopes[\"C\"] = Isotope(12, 3, np.array([0.9893, 0.0107, 0.0], dtype=np.float32))\n",
    "isotopes[\"H\"] = Isotope(1.007940, 3,  np.array([0.999885, 0.000115, 0.0], dtype=np.float32))\n",
    "isotopes[\"O\"] = Isotope(15.9949146221, 3,  np.array([0.99757, 0.00038, 0.00205], dtype=np.float32))\n",
    "isotopes[\"N\"] = Isotope(14.0030740052, 2,  np.array([0.99636, 0.00364], dtype=np.float32))\n",
    "isotopes[\"S\"] = Isotope(31.97207069, 4,  np.array([0.9499, 0.0075, 0.0425, 0.0001], dtype=np.float32))\n",
    "\n",
    "isotopes[\"I\"] = Isotope(126.904473, 1,  np.array([1], dtype=np.float32))\n",
    "isotopes[\"K\"] = Isotope(38.9637069, 3,  np.array([0.932581, 0.000117, 0.067302], dtype=np.float32))"
   ]
  },
  {
   "cell_type": "code",
   "execution_count": null,
   "metadata": {},
   "outputs": [],
   "source": [
    "#hide\n",
    "def test_isotope():\n",
    "    assert isotopes[\"C\"].m0 == 12\n",
    "    assert isotopes[\"C\"].dm == 3\n",
    "    assert np.allclose(isotopes[\"C\"].intensities[0], 0.9893)\n",
    "    assert np.allclose(isotopes[\"C\"].intensities[1], 0.0107)\n",
    "    assert np.allclose(isotopes[\"C\"].intensities[2], 0)\n",
    "    \n",
    "test_isotope()"
   ]
  },
  {
   "cell_type": "markdown",
   "metadata": {},
   "source": [
    "## Averagine Model"
   ]
  },
  {
   "cell_type": "code",
   "execution_count": null,
   "metadata": {},
   "outputs": [],
   "source": [
    "#export\n",
    "averagine_aa = Dict.empty(key_type=types.unicode_type, value_type=types.float64)\n",
    "\n",
    "averagine_aa[\"C\"] = 4.9384\n",
    "averagine_aa[\"H\"] = 7.7583\n",
    "averagine_aa[\"N\"] = 1.3577\n",
    "averagine_aa[\"O\"] = 1.4773\n",
    "averagine_aa[\"S\"] = 0.0417\n",
    "\n",
    "averagine_avg = 111.1254"
   ]
  },
  {
   "cell_type": "markdown",
   "metadata": {},
   "source": [
    "## Protease dict\n",
    "\n",
    "A numba compatible dictionary that stores different regular expressions neeeded for digestion. The dictionary was largely taken from the [Pyteomics](https://pyteomics.readthedocs.io/en/latest/_modules/pyteomics/parser.html) website which in turn derived the rules are from [expasy](https://web.expasy.org/peptide_cutter/peptidecutter_enzymes.html)."
   ]
  },
  {
   "cell_type": "code",
   "execution_count": null,
   "metadata": {},
   "outputs": [],
   "source": [
    "#export\n",
    "protease_dict = Dict.empty(key_type=types.unicode_type, value_type=types.unicode_type)\n",
    "\n",
    "protease_dict[\"arg-c\"] = \"R\"\n",
    "protease_dict[\"asp-n\"] = \"\\w(?=D)\"\n",
    "protease_dict[\"bnps-skatole\"] = \"W\"\n",
    "protease_dict[\"caspase 1\"] = \"(?<=[FWYL]\\w[HAT])D(?=[^PEDQKR])\"\n",
    "protease_dict[\"caspase 2\"] = \"(?<=DVA)D(?=[^PEDQKR])\"\n",
    "protease_dict[\"caspase 3\"] = \"(?<=DMQ)D(?=[^PEDQKR])\"\n",
    "protease_dict[\"caspase 4\"] = \"(?<=LEV)D(?=[^PEDQKR])\"\n",
    "protease_dict[\"caspase 5\"] = \"(?<=[LW]EH)D\"\n",
    "protease_dict[\"caspase 6\"] = \"(?<=VE[HI])D(?=[^PEDQKR])\"\n",
    "protease_dict[\"caspase 7\"] = \"(?<=DEV)D(?=[^PEDQKR])\"\n",
    "protease_dict[\"caspase 8\"] = \"(?<=[IL]ET)D(?=[^PEDQKR])\"\n",
    "protease_dict[\"caspase 9\"] = \"(?<=LEH)D\"\n",
    "protease_dict[\"caspase 10\"] = \"(?<=IEA)D\"\n",
    "protease_dict[\"chymotrypsin high specificity\"] = \"([FY](?=[^P]))|(W(?=[^MP]))\"\n",
    "protease_dict[\"chymotrypsin low specificity\"] = \"([FLY](?=[^P]))|(W(?=[^MP]))|(M(?=[^PY]))|(H(?=[^DMPW]))\"\n",
    "protease_dict[\"clostripain\"] = \"R\"\n",
    "protease_dict[\"cnbr\"] = \"M\"\n",
    "protease_dict[\"enterokinase\"] = \"(?<=[DE]{3})K\"\n",
    "protease_dict[\"factor xa\"] = \"(?<=[AFGILTVM][DE]G)R\"\n",
    "protease_dict[\"formic acid\"] = \"D\"\n",
    "protease_dict[\"glutamyl endopeptidase\"] = \"E\"\n",
    "protease_dict[\"granzyme b\"] = \"(?<=IEP)D\"\n",
    "protease_dict[\"hydroxylamine\"] = \"N(?=G)\"\n",
    "protease_dict[\"iodosobenzoic acid\"] = \"W\"\n",
    "protease_dict[\"lysc\"] = \"K\"\n",
    "protease_dict[\"ntcb\"] = \"\\w(?=C)\"\n",
    "protease_dict[\"pepsin ph1.3\"] = \"((?<=[^HKR][^P])[^R](?=[FL][^P]))|((?<=[^HKR][^P])[FL](?=\\w[^P]))\"\n",
    "protease_dict[\"pepsin ph2.0\"] = \"((?<=[^HKR][^P])[^R](?=[FLWY][^P]))|((?<=[^HKR][^P])[FLWY](?=\\w[^P]))\"\n",
    "protease_dict[\"proline endopeptidase\"] = \"(?<=[HKR])P(?=[^P])\"\n",
    "protease_dict[\"proteinase k\"] = \"[AEFILTVWY]\"\n",
    "protease_dict[\"staphylococcal peptidase i\"] = \"(?<=[^E])E\"\n",
    "protease_dict[\"thermolysin\"] = \"[^DE](?=[AFILMV])\"\n",
    "protease_dict[\"thrombin\"] = \"((?<=G)R(?=G))|((?<=[AFGILTVM][AFGILTVWA]P)R(?=[^DE][^DE]))\"\n",
    "protease_dict[\"trypsin_full\"] = \"([KR](?=[^P]))|((?<=W)K(?=P))|((?<=M)R(?=P))\"\n",
    "protease_dict[\"trypsin_exception\"] = \"((?<=[CD])K(?=D))|((?<=C)K(?=[HY]))|((?<=C)R(?=K))|((?<=R)R(?=[HR]))\"\n",
    "protease_dict[\"non-specific\"] = \"()\"\n",
    "protease_dict[\"trypsin\"] = \"([KR](?=[^P]))\""
   ]
  },
  {
   "cell_type": "code",
   "execution_count": null,
   "metadata": {},
   "outputs": [
    {
     "data": {
      "text/plain": [
       "'([KR](?=[^P]))'"
      ]
     },
     "execution_count": null,
     "metadata": {},
     "output_type": "execute_result"
    }
   ],
   "source": [
    "protease_dict[\"trypsin\"]"
   ]
  },
  {
   "cell_type": "code",
   "execution_count": null,
   "metadata": {},
   "outputs": [],
   "source": [
    "#hide\n",
    "def test_get_protease_dict():\n",
    "    p_dict = protease_dict\n",
    "    assert p_dict[\"trypsin\"] == \"([KR](?=[^P]))\"\n",
    "    \n",
    "test_get_protease_dict()"
   ]
  },
  {
   "cell_type": "code",
   "execution_count": null,
   "metadata": {},
   "outputs": [
    {
     "name": "stdout",
     "output_type": "stream",
     "text": [
      "Converted 00_settings.ipynb.\n",
      "Converted 01_chem.ipynb.\n",
      "Converted 02_io.ipynb.\n",
      "Converted 03_fasta.ipynb.\n",
      "Converted 04_feature_finding.ipynb.\n",
      "Converted 05_search.ipynb.\n",
      "Converted 06_score.ipynb.\n",
      "Converted 07_recalibration.ipynb.\n",
      "Converted 08_quantification.ipynb.\n",
      "Converted 09_matching.ipynb.\n",
      "Converted 10_constants.ipynb.\n",
      "Converted 11_interface.ipynb.\n",
      "Converted 12_speed.ipynb.\n",
      "Converted index.ipynb.\n"
     ]
    }
   ],
   "source": [
    "#hide\n",
    "from nbdev.export import *\n",
    "notebook2script()"
   ]
  }
 ],
 "metadata": {
  "kernelspec": {
   "display_name": "Python 3",
   "language": "python",
   "name": "python3"
  }
 },
 "nbformat": 4,
 "nbformat_minor": 2
}
