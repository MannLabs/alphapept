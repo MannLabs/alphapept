{
 "cells": [
  {
   "cell_type": "code",
   "execution_count": null,
   "metadata": {},
   "outputs": [],
   "source": [
    "# default_exp chem"
   ]
  },
  {
   "cell_type": "markdown",
   "metadata": {},
   "source": [
    "# Chem\n",
    "\n",
    "> Chemistry related functions\n"
   ]
  },
  {
   "cell_type": "markdown",
   "metadata": {},
   "source": [
    "This notebook contains all chemistry-related functionality.  Here, a major part is functionality to generate isotope patterns and the averagine model. This is required for feature finding, where an isotope pattern is validated by being compared to its averagine model. We use the data structure `Isotopes` from constants to handle Isotopes. Next, we define the class `IsotopeDistribution` to calculate isotope distributions for a given Isotope. The core of the calculation is the function `fast_add` which allows the fast estimation of isotope distributions. <br>\n",
    "To calculate the isotope distribution for the averagine model, we define the function `get_average_formula` which calculates the amino acid composition of the averagine molecule for the given mass.\n",
    "\n",
    "*Implementation note: Ideally, we would like to have constants such as isotopes as global variables to not overload functions with parameters. However, currently, numba is not able to handle typed dictionaries or jitclasses as globals. We, therefore, pass them as arguments.*"
   ]
  },
  {
   "cell_type": "code",
   "execution_count": null,
   "metadata": {},
   "outputs": [],
   "source": [
    "#hide\n",
    "from nbdev.showdoc import *"
   ]
  },
  {
   "cell_type": "markdown",
   "metadata": {},
   "source": [
    "## IsotopeDistributions\n",
    "\n",
    "The calculation of isotope distributions is based on the algorithm introduced in the paper _Calculation of isotope distributions in mass spectrometry. A trivial solution for a non-trivial problem_ by _Hugo Kubinyi_. \n",
    "The algorithm itself can be found in the <a href=\"https://doi.org/10.1016/1044-0305(95)00017-8\">paper</a>.\n",
    "\n",
    "In brief,  the approach avoids expanding polynomial expressions by combining precalculated patterns of hypothetical atom clusters and pruning low-intensity peaks. <br>\n",
    "To calculate the isotope distribution for a given isotope, we define the function `dict_to_dist,` which accepts a dictionary of amino acids and returns the isotope distribution."
   ]
  },
  {
   "cell_type": "code",
   "execution_count": null,
   "metadata": {},
   "outputs": [],
   "source": [
    "#export\n",
    "\n",
    "import numpy as np\n",
    "from numba import int32, float32, float64, njit, types\n",
    "from numba.experimental import jitclass\n",
    "from numba.typed import Dict\n",
    "\n",
    "spec = [\n",
    "    ('m0', float32),\n",
    "    ('dm', int32),\n",
    "    ('intensities', float64[:]),\n",
    "]\n",
    "\n",
    "@jitclass(spec)\n",
    "class IsotopeDistribution:\n",
    "    \"\"\"\n",
    "    Class to calculate Isotope Distributions.\n",
    "    \"\"\"\n",
    "    def __init__(self):\n",
    "\n",
    "        self.m0 = 0\n",
    "        self.dm = 1\n",
    "        self.intensities = np.array([1.0])\n",
    "\n",
    "    def add(self, x):\n",
    "        self.m0, self.dm, self.intensities = fast_add(\n",
    "            self.m0, self.dm, self.intensities, x.m0, x.dm, x.intensities\n",
    "        )\n",
    "\n",
    "    def add_from_dict(self, x):\n",
    "        self.m0, self.dm, self.intensities = fast_add(\n",
    "            self.m0, self.dm, self.intensities, x[0], np.int(x[1]), x[2:]\n",
    "        )\n",
    "\n",
    "    def copy(self):\n",
    "        i = IsotopeDistribution()\n",
    "        i.m0 = self.m0\n",
    "        i.dm = self.dm\n",
    "        i.intensities = self.intensities\n",
    "\n",
    "        return i\n",
    "\n",
    "    def mult(self, n):\n",
    "        binary = numba_bin(n)\n",
    "\n",
    "        if n == 1:\n",
    "            return self.copy()\n",
    "        else:\n",
    "            i = IsotopeDistribution()\n",
    "\n",
    "            multiples = self.copy()\n",
    "\n",
    "            for count in binary[::-1]:\n",
    "                if count == 1:\n",
    "                    i.add(multiples)\n",
    "                multiples.add(multiples)\n",
    "\n",
    "            return i\n",
    "\n",
    "\n",
    "@njit\n",
    "def fast_add(m0, dm0, int0, m1, dm1, int1, PRUNE_LEVEL=0.000001):\n",
    "    \"\"\"\n",
    "    Function for fast estimation of masses\n",
    "    \"\"\"\n",
    "\n",
    "    m0 += m1\n",
    "\n",
    "    ni = np.zeros(dm0 + dm1 - 1)\n",
    "    for i in range(dm0):\n",
    "        for j in range(dm1):\n",
    "            ni[i + j] += int0[i] * int1[j]\n",
    "\n",
    "    dm0 += dm1 - 1\n",
    "\n",
    "    int0 = ni / np.max(ni)\n",
    "\n",
    "    while ni[dm0 - 1] < PRUNE_LEVEL:\n",
    "        dm0 -= 1\n",
    "\n",
    "    return m0, dm0, int0\n",
    "\n",
    "@njit\n",
    "def numba_bin(decimal):\n",
    "    \"\"\"\n",
    "    Numba compatibale function to convert decimal to binary as list\n",
    "    \"\"\"\n",
    "\n",
    "    binary = []\n",
    "\n",
    "    while decimal != 0:\n",
    "        bit = int(decimal % 2)\n",
    "        binary.insert(0,bit)\n",
    "        decimal = int(decimal/2)\n",
    "\n",
    "    return binary\n",
    "\n",
    "@njit\n",
    "def dict_to_dist(counted_AA, isotopes):\n",
    "    \"\"\"\n",
    "    Function to convert a dictionary with numbers of amino acids to a isotope distribution.\n",
    "    \"\"\"\n",
    "    dist = IsotopeDistribution()\n",
    "    for AA in counted_AA.keys():\n",
    "\n",
    "        x = IsotopeDistribution()\n",
    "        x.add(isotopes[AA])\n",
    "        x = x.mult(counted_AA[AA])\n",
    "\n",
    "        dist.add(x)\n",
    "\n",
    "    return dist"
   ]
  },
  {
   "cell_type": "markdown",
   "metadata": {},
   "source": [
    "One can compare the implementation to the algorithm with plotting values from the paper against the own results. Example $K_{23}I_{22}$ is Table 2 from the paper."
   ]
  },
  {
   "cell_type": "code",
   "execution_count": null,
   "metadata": {},
   "outputs": [
    {
     "name": "stderr",
     "output_type": "stream",
     "text": [
      "f:\\projects\\alphapept\\alphapept\\constants.py:197: NumbaDeprecationWarning: \u001b[1mThe 'numba.jitclass' decorator has moved to 'numba.experimental.jitclass' to better reflect the experimental nature of the functionality. Please update your imports to accommodate this change and see https://numba.pydata.org/numba-doc/latest/reference/deprecation.html#change-of-jitclass-location for the time frame.\u001b[0m\n",
      "  @jitclass(spec)\n",
      "C:\\Users\\admin\\.conda\\envs\\alphapept\\lib\\site-packages\\numba\\typed\\typeddict.py:34: NumbaTypeSafetyWarning: \u001b[1m\u001b[1m\u001b[1munsafe cast from int64 to int32. Precision may be lost.\u001b[0m\u001b[0m\u001b[0m\n",
      "  d[key] = value\n"
     ]
    },
    {
     "data": {
      "image/png": "[encoded data removed]",
      "text/plain": [
       "<Figure size 432x288 with 1 Axes>"
      ]
     },
     "metadata": {
      "needs_background": "light"
     },
     "output_type": "display_data"
    }
   ],
   "source": [
    "import matplotlib.pyplot as plt\n",
    "%matplotlib inline \n",
    "from alphapept.constants import isotopes\n",
    "import numpy as np\n",
    "from numba.typed import Dict\n",
    "from numba import types\n",
    "\n",
    "# Example from paper:\n",
    "mass = 3688.1\n",
    "abundances = np.array([58.83,0.18,100,0.29,81.29,0.22,42.05,0.11,15.54,0.04,4.36,0.01,0.97,0.17,0.03])/100\n",
    "masses = [mass + i for i in range(len(abundances))]\n",
    "\n",
    "# Calculation with own function\n",
    "counted_AA = Dict.empty(key_type=types.unicode_type, value_type=types.int32)\n",
    "counted_AA[\"K\"] = 23\n",
    "counted_AA[\"I\"] = 22\n",
    "dist = dict_to_dist(counted_AA, isotopes)\n",
    "masses_ = [dist.m0 + i for i in range(len(dist.intensities))]\n",
    "\n",
    "# Plot \n",
    "masses = [mass + i for i in range(len(abundances))]\n",
    "plt.bar(masses, abundances*100, alpha=0.5, label='Paper')\n",
    "plt.bar(masses_, dist.intensities*100, alpha=0.5, label='Implementation')\n",
    "plt.xlabel('Mass')\n",
    "plt.ylabel('Relative Intensity (%)')\n",
    "plt.legend()\n",
    "plt.show()"
   ]
  },
  {
   "cell_type": "code",
   "execution_count": null,
   "metadata": {},
   "outputs": [],
   "source": [
    "#hide\n",
    "def test_dict_to_dist():    \n",
    "\n",
    "    abundances = np.array([58.83,0.18,100,0.29,81.29,0.22,42.05,0.11,15.54,0.04,4.36,0.01,0.97,0.17,0.03])/100\n",
    "\n",
    "    counted_AA = Dict.empty(key_type=types.unicode_type, value_type=types.int32)\n",
    "    counted_AA[\"K\"] = 23\n",
    "    counted_AA[\"I\"] = 22\n",
    "    dist = dict_to_dist(counted_AA, isotopes)    \n",
    "    \n",
    "    rmse = np.mean(np.sqrt((dist.intensities[: len(abundances)] - abundances) ** 2))\n",
    "    \n",
    "    assert rmse < 0.05\n",
    "    \n",
    "test_dict_to_dist()"
   ]
  },
  {
   "cell_type": "markdown",
   "metadata": {},
   "source": [
    "## Averagine\n",
    "\n",
    "The averagine model is based on [Senko et al.](https://www.sciencedirect.com/science/article/pii/1044030595000178). We define the function `get_average_formula` to calculate a dictionary with averagine masses."
   ]
  },
  {
   "cell_type": "code",
   "execution_count": null,
   "metadata": {},
   "outputs": [],
   "source": [
    "#export\n",
    "from numba.typed import Dict\n",
    "from numba import types, njit\n",
    "from alphapept.constants import averagine_avg\n",
    "\n",
    "@njit\n",
    "def get_average_formula(molecule_mass, averagine_aa, isotopes, sulphur=True):\n",
    "    \"\"\"\n",
    "    Function to calculate the averagine formula for a molecule mass.\n",
    "    \"\"\"\n",
    "\n",
    "    if sulphur:\n",
    "        averagine_units = molecule_mass / averagine_avg\n",
    "    else:\n",
    "        raise NotImplementedError(\"Mode w/o sulphur is not implemented yet\")\n",
    "\n",
    "    counted_AA = Dict.empty(key_type=types.unicode_type, value_type=types.int64)\n",
    "\n",
    "    final_mass = 0\n",
    "\n",
    "    # Calculate integral mnumbers of atoms\n",
    "    for AA in averagine_aa.keys():\n",
    "        counted_AA[AA] = int(np.round(averagine_units * averagine_aa[AA]))\n",
    "        final_mass += counted_AA[AA] * isotopes[AA].m0\n",
    "\n",
    "    # Correct with H atoms\n",
    "    h_correction = int(np.round((molecule_mass - final_mass) / isotopes[\"H\"].m0))\n",
    "    counted_AA[\"H\"] += h_correction\n",
    "\n",
    "    return counted_AA"
   ]
  },
  {
   "cell_type": "code",
   "execution_count": null,
   "metadata": {},
   "outputs": [
    {
     "name": "stdout",
     "output_type": "stream",
     "text": [
      "{C: 13, H: 24, N: 4, O: 4, S: 0}\n"
     ]
    }
   ],
   "source": [
    "from alphapept.constants import averagine_aa, averagine_avg\n",
    "molecule_mass = 300\n",
    "print(get_average_formula(molecule_mass, averagine_aa, isotopes, sulphur=True))"
   ]
  },
  {
   "cell_type": "code",
   "execution_count": null,
   "metadata": {},
   "outputs": [],
   "source": [
    "#hide\n",
    "def test_get_average_formula():\n",
    "    for molecule_mass in [100, 200, 300, 400, 500]:\n",
    "        average_formula = get_average_formula(\n",
    "            molecule_mass, averagine_aa, isotopes, sulphur=True\n",
    "        )\n",
    "        mass = np.sum(\n",
    "            [average_formula[AA] * isotopes[AA].m0 for AA in average_formula.keys()]\n",
    "        )\n",
    "        assert np.abs(mass - molecule_mass) < isotopes[\"H\"].m0\n",
    "        \n",
    "test_get_average_formula()"
   ]
  },
  {
   "cell_type": "markdown",
   "metadata": {},
   "source": [
    "To directly calculate the isotope distribution of a molecule mass based on the averagine model, we define the wrapper function `mass_to_dist`."
   ]
  },
  {
   "cell_type": "code",
   "execution_count": null,
   "metadata": {},
   "outputs": [],
   "source": [
    "#export\n",
    "@njit\n",
    "def mass_to_dist(molecule_mass, averagine_aa, isotopes):\n",
    "    \"\"\"\n",
    "    Function to calculate an isotope distribution from a molecule mass using the averagine model.\n",
    "    \"\"\"\n",
    "    counted_AA = get_average_formula(molecule_mass, averagine_aa, isotopes)\n",
    "\n",
    "    dist = dict_to_dist(counted_AA, isotopes)\n",
    "\n",
    "    masses = np.array([dist.m0 + i for i in range(len(dist.intensities))])\n",
    "    ints = dist.intensities\n",
    "\n",
    "    return masses, ints"
   ]
  },
  {
   "cell_type": "code",
   "execution_count": null,
   "metadata": {},
   "outputs": [
    {
     "name": "stdout",
     "output_type": "stream",
     "text": [
      "(array([300.18252563, 301.18252563, 302.18252563, 303.18252563,\n",
      "       304.18252563, 305.18252563]), array([1.00000000e+00, 1.59501684e-01, 2.01508986e-02, 1.86370995e-03,\n",
      "       1.39934810e-04, 8.55900106e-06]))\n"
     ]
    }
   ],
   "source": [
    "print(mass_to_dist(300, averagine_aa, isotopes))"
   ]
  },
  {
   "cell_type": "markdown",
   "metadata": {},
   "source": [
    "We can use this to plot isotope distributions for a given mass."
   ]
  },
  {
   "cell_type": "code",
   "execution_count": null,
   "metadata": {},
   "outputs": [
    {
     "data": {
      "image/png": "[encoded data removed]",
      "text/plain": [
       "<Figure size 432x288 with 1 Axes>"
      ]
     },
     "metadata": {
      "needs_background": "light"
     },
     "output_type": "display_data"
    },
    {
     "data": {
      "image/png": "[encoded data removed]",
      "text/plain": [
       "<Figure size 432x288 with 1 Axes>"
      ]
     },
     "metadata": {
      "needs_background": "light"
     },
     "output_type": "display_data"
    }
   ],
   "source": [
    "def plot_averagine(mass, averagine_aa, isotopes):\n",
    "\n",
    "    masses, intensity = mass_to_dist(mass, averagine_aa, isotopes)\n",
    "    plt.title(\"Averagine Isotopic Distribution for Mass {}\".format(mass))\n",
    "    plt.stem(masses, intensity*100, use_line_collection=True)\n",
    "    plt.ylabel(\"Relative Intensity (%)\")\n",
    "    plt.xlabel(\"Molecular Weight\")\n",
    "    plt.show()\n",
    "\n",
    "plot_averagine(500, averagine_aa, isotopes)\n",
    "plot_averagine(1000, averagine_aa, isotopes)"
   ]
  },
  {
   "cell_type": "markdown",
   "metadata": {},
   "source": [
    "## Mass Calculations\n",
    "`calculate_mass`: This function allows to calculate the precursor mass from the monoisotopic m/z and the charge."
   ]
  },
  {
   "cell_type": "code",
   "execution_count": null,
   "metadata": {},
   "outputs": [],
   "source": [
    "#export\n",
    "from alphapept.constants import mass_dict\n",
    "\n",
    "M_PROTON = mass_dict['Proton']\n",
    "\n",
    "@njit\n",
    "def calculate_mass(mono_mz, charge):\n",
    "    \"\"\"\n",
    "    Calculate the precursor mass from mono mz and charge\n",
    "    \"\"\"\n",
    "    prec_mass = mono_mz * abs(charge) - charge * M_PROTON\n",
    "\n",
    "    return prec_mass"
   ]
  },
  {
   "cell_type": "code",
   "execution_count": null,
   "metadata": {},
   "outputs": [
    {
     "name": "stdout",
     "output_type": "stream",
     "text": [
      "597.98544706626\n"
     ]
    }
   ],
   "source": [
    "mz = 300\n",
    "charge = 2\n",
    "\n",
    "print(calculate_mass(mz, charge))"
   ]
  },
  {
   "cell_type": "code",
   "execution_count": null,
   "metadata": {},
   "outputs": [
    {
     "name": "stdout",
     "output_type": "stream",
     "text": [
      "Converted 00_settings.ipynb.\n",
      "Converted 01_chem.ipynb.\n",
      "Converted 02_io.ipynb.\n",
      "Converted 03_fasta.ipynb.\n",
      "Converted 04_feature_finding.ipynb.\n",
      "Converted 05_search.ipynb.\n",
      "Converted 06_score.ipynb.\n",
      "Converted 07_recalibration.ipynb.\n",
      "Converted 08_quantification.ipynb.\n",
      "Converted 09_matching.ipynb.\n",
      "Converted 10_constants.ipynb.\n",
      "Converted delete_me.ipynb.\n",
      "Converted index.ipynb.\n"
     ]
    }
   ],
   "source": [
    "#hide\n",
    "from nbdev.export import *\n",
    "notebook2script()"
   ]
  }
 ],
 "metadata": {
  "kernelspec": {
   "display_name": "Python 3",
   "language": "python",
   "name": "python3"
  }
 },
 "nbformat": 4,
 "nbformat_minor": 2
}
