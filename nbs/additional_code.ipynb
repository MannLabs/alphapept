{
 "cells": [
  {
   "cell_type": "code",
   "execution_count": null,
   "id": "2ce03533",
   "metadata": {},
   "outputs": [],
   "source": [
    "#| default_exp additional_code"
   ]
  },
  {
   "cell_type": "code",
   "execution_count": null,
   "id": "980dd63a",
   "metadata": {},
   "outputs": [],
   "source": [
    "#| hide\n",
    "from nbdev.showdoc import *"
   ]
  },
  {
   "cell_type": "markdown",
   "id": "2952ffd3",
   "metadata": {},
   "source": [
    "# Additional code\n",
    "\n",
    "This notebook contains additonal documentation about code that is not covered by notebooks."
   ]
  },
  {
   "cell_type": "markdown",
   "id": "64ae9411",
   "metadata": {},
   "source": [
    "## GUI\n",
    "\n",
    "![](https://i.imgur.com/UO64YPx.jpg)\n",
    "\n",
    "The GUI code in `alphapept/gui` is not covered by notebooks. The reason for this is that a key feature of `streamlit` is that code changes can be directly displayed in the browser application. `streamlit` watches the `*.py`-files and automatically updates accordingly. Having an intermediate notebook that first needs to be run before the code changes are propagated would limit the coding experience with having live feedback of code changes.\n",
    "\n",
    "Regardless of that, complex algorithmic code that requires more documentation should always reside in the notebooks.\n",
    "\n",
    "### Adding pages\n",
    "\n",
    "The central entry point of the GUI is `webui.py`. When the AlphaPept webpage launches, the user can choose from a list of options in the sidebar (e.g. Start, Status and New experiment).\n",
    "\n",
    "The options that are displayed are all elements in the sidebar dictionary in `webui.py`. In order to add a new page, simply import your page as a module and add it to the dictionary."
   ]
  },
  {
   "cell_type": "markdown",
   "id": "0ebcecf6",
   "metadata": {},
   "source": [
    "## CI test\n",
    "\n",
    "The files `test_ci.py` and `test_gpu_.py` are part of the continous integration pipeline. As indicated in the `contributing`-page they can be run on a local machines.\n",
    "\n",
    ":::{.callout-note}\n",
    "\n",
    "Unless you are a core developer, there should not be the need to add integration tests. Feel free to create a PR in case.\n",
    "\n",
    ":::"
   ]
  },
  {
   "cell_type": "markdown",
   "id": "0fc59e80",
   "metadata": {},
   "source": [
    "## Sandbox\n",
    "\n",
    "The sandbox folder contains multiple sample notebooks that show how AlphaPept can be interfaced. Furthermore, the underlying notebooks for the paper figures are present.\n",
    "\n",
    "The folder `/figures` contains the output of the figure notebooks, which are indicated with a `P`. These rely on a helper file named `test_files.py`.\n",
    "The folder `/timings` contains timing documents from different machines. They were created running `timing_test.py.`\n",
    "\n",
    "Some notebooks create/download files, which are stored in `/temp`\n",
    "\n",
    "\n",
    "### Misc Notebooks\n",
    "\n",
    "* **Test_Run**: Notebook that runs a small thermo_IRT-file. It shows how the pipeline can be run from within a notebook, how the data can be accessed and how spectra can be plotted\n",
    "* **ParameterScreen**: The settings of AlphaPept are defined in the `settings_template.yaml`. This can be used to screen to parameters and check their influence on performance.\n",
    "* **Systems_check**: This notebooks contains all larger tests from the continuous integration. It is meant to have more in-depth access to the data of the test runs. This notebook relies on the `test_helper.py` file."
   ]
  },
  {
   "cell_type": "markdown",
   "id": "44e75ae3",
   "metadata": {},
   "source": [
    "## Installer\n",
    "\n",
    "The installer-folder has contains a batch script to freeze the current installation and create a one-click installer. In order to create the installer, we use the tool [Inno Setup](https://jrsoftware.org/isinfo.php)."
   ]
  },
  {
   "cell_type": "code",
   "execution_count": null,
   "id": "435cf649",
   "metadata": {},
   "outputs": [
    {
     "name": "stdout",
     "output_type": "stream",
     "text": [
      "Converted 00_settings.ipynb.\n",
      "Converted 01_chem.ipynb.\n",
      "Converted 02_io.ipynb.\n",
      "Converted 03_fasta.ipynb.\n",
      "Converted 04_feature_finding.ipynb.\n",
      "Converted 05_search.ipynb.\n",
      "Converted 06_score.ipynb.\n",
      "Converted 07_recalibration.ipynb.\n",
      "Converted 08_quantification.ipynb.\n",
      "Converted 09_matching.ipynb.\n",
      "Converted 10_constants.ipynb.\n",
      "Converted 11_interface.ipynb.\n",
      "Converted 12_speed.ipynb.\n",
      "Converted 13_export.ipynb.\n",
      "Converted 13_performance.ipynb.\n",
      "Converted additional_code.ipynb.\n",
      "Converted contributing.ipynb.\n",
      "Converted file_formats.ipynb.\n",
      "Converted index.ipynb.\n"
     ]
    }
   ],
   "source": [
    "#| hide\n",
    "from nbdev.export import *\n",
    "nbdev_export()"
   ]
  }
 ],
 "metadata": {
  "kernelspec": {
   "display_name": "python3",
   "language": "python",
   "name": "python3"
  }
 },
 "nbformat": 4,
 "nbformat_minor": 5
}
