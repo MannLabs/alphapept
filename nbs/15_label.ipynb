{
 "cells": [
  {
   "cell_type": "code",
   "execution_count": null,
   "id": "dd65c3c1-7119-4740-9e19-7354eb68118b",
   "metadata": {},
   "outputs": [],
   "source": [
    "# default_exp label"
   ]
  },
  {
   "cell_type": "markdown",
   "id": "9d1960d0-a701-4bb4-925b-bf3c044908e7",
   "metadata": {},
   "source": [
    "# Display\n",
    "\n",
    "> A collection of functions to do label-based quantification"
   ]
  },
  {
   "cell_type": "code",
   "execution_count": null,
   "id": "d86fc945-2ecc-41f4-8791-1be3b3cd14be",
   "metadata": {},
   "outputs": [],
   "source": [
    "#hide\n",
    "from nbdev.showdoc import *"
   ]
  },
  {
   "cell_type": "markdown",
   "id": "9a5df6c2",
   "metadata": {},
   "source": [
    "## Tag Search\n",
    "\n",
    "The tag search is implemented based on the compare_frags from the search. \n",
    "As the number of reporter channels is known, we\n",
    "\n",
    "\n",
    "Additional resources: https://abibuilder.informatik.uni-tuebingen.de/archive/openms/Documentation/nightly/html/TOPP_IsobaricAnalyzer.html\n",
    "\n",
    "https://assets.thermofisher.com/TFS-Assets/CMD/Reference-Materials/PP-TMT-Multiplexed-Protein-Quantification-HUPO2015-EN.pdf\n",
    "\n",
    "\n",
    "https://assets.thermofisher.com/TFS-Assets/CMD/Reference-Materials/PP-TMT-Multiplexed-Protein-Quantification-HUPO2015-EN.pdf"
   ]
  },
  {
   "cell_type": "code",
   "execution_count": null,
   "id": "1d188bcd",
   "metadata": {},
   "outputs": [],
   "source": [
    "#export\n",
    "from numba import njit\n",
    "from alphapept.search import compare_frags\n",
    "import numpy as np\n",
    "\n",
    "@njit\n",
    "def search_for_tag(query_frag, query_int, tag, reporter_frag_tolerance, ppm):\n",
    "        \n",
    "    report = np.zeros(len(tag))\n",
    "    off_mass = np.zeros_like(tag)\n",
    "    \n",
    "    hits = compare_frags(query_frag, tag, reporter_frag_tolerance, ppm)\n",
    "    for idx, _ in enumerate(hits):\n",
    "        if _ > 0:\n",
    "            report[idx] = query_int[_-1]\n",
    "            off_mass[idx] = query_frag[_-1] - tag[idx]\n",
    "\n",
    "            if ppm:\n",
    "                off_mass[idx] = off_mass[idx] / (query_frag[_-1] + tag[idx]) *2 * 1e6\n",
    "                    \n",
    "    return report, off_mass"
   ]
  },
  {
   "cell_type": "code",
   "execution_count": null,
   "id": "84339045",
   "metadata": {},
   "outputs": [],
   "source": [
    "def test_search_fort_tag():\n",
    "    query_frag = np.array([1,2,3,4,5])\n",
    "    query_int = np.array([1,2,3,4,5])\n",
    "    tag = np.array([1,2,3,4,5])\n",
    "    frag_tolerance = 0.1\n",
    "    ppm= False\n",
    "\n",
    "    assert (search_for_tag(query_frag, query_int, tag, frag_tolerance, ppm)[0] == query_int).all()\n",
    "\n",
    "    query_frag = np.array([1,2,3,4,6])\n",
    "    query_int = np.array([1,2,3,4,5])\n",
    "\n",
    "    assert (search_for_tag(query_frag, query_int, tag, frag_tolerance, ppm)[0] == np.array([1,2,3,4,0])).all()\n",
    "    \n",
    "    query_frag = np.array([1,2,3,4,6])\n",
    "    query_int = np.array([5,4,3,2,1])\n",
    "\n",
    "    assert (search_for_tag(query_frag, query_int, tag, frag_tolerance, ppm)[0] == np.array([5,4,3,2,0])).all()\n",
    "    \n",
    "    \n",
    "test_search_fort_tag()"
   ]
  },
  {
   "cell_type": "markdown",
   "id": "b7b3ceee-86c1-4e35-a5cd-8df42cb259e4",
   "metadata": {},
   "source": [
    "## MS2 Search"
   ]
  },
  {
   "cell_type": "code",
   "execution_count": null,
   "id": "d3d692a6",
   "metadata": {},
   "outputs": [],
   "source": [
    "#export \n",
    "import alphapept.io\n",
    "\n",
    "def search_tags_on_ms_file(file_name, tag, reporter_frag_tolerance, ppm):\n",
    "\n",
    "    ms_file = alphapept.io.MS_Data_File(file_name, is_read_only = False)\n",
    "    \n",
    "    df = ms_file.read(dataset_name='peptide_fdr')\n",
    "    tag_intensities = np.zeros((len(df), len(tag.channels)))\n",
    "    tagged = df['sequence'].str.startswith(tag.mod_name).values\n",
    "    query_data = ms_file.read_DDA_query_data()\n",
    "\n",
    "    query_indices = query_data[\"indices_ms2\"]\n",
    "    query_frags = query_data['mass_list_ms2']\n",
    "    query_ints = query_data['int_list_ms2']\n",
    "\n",
    "    for idx, query_idx in enumerate(df['raw_idx']):\n",
    "\n",
    "        query_idx_start = query_indices[query_idx]\n",
    "        query_idx_end = query_indices[query_idx + 1]\n",
    "        query_frag = query_frags[query_idx_start:query_idx_end]\n",
    "        query_int = query_ints[query_idx_start:query_idx_end]\n",
    "\n",
    "        query_frag_idx = query_frag < tag.masses[-1]+1\n",
    "        query_frag = query_frag[query_frag_idx]\n",
    "        query_int = query_int[query_frag_idx]\n",
    "\n",
    "        if tagged[idx]:\n",
    "            tag_int, off_mass = search_for_tag(query_frag, query_int, tag.masses, reporter_frag_tolerance, ppm)\n",
    "            tag_intensities[idx, :] = tag_int\n",
    "\n",
    "    df[tag.channels] = tag_intensities\n",
    "    df[[_+'_off_ppm' for _ in tag.channels]] = off_mass\n",
    "    \n",
    "    ms_file.write(df, dataset_name=\"peptide_fdr\", overwrite=True) #Overwrite dataframe with tag information\n"
   ]
  },
  {
   "cell_type": "code",
   "execution_count": null,
   "id": "65a099dc",
   "metadata": {},
   "outputs": [],
   "source": [
    "#export\n",
    "import logging\n",
    "import os\n",
    "\n",
    "from alphapept.constants import label_dict\n",
    "\n",
    "def find_tags(\n",
    "    to_process: dict,\n",
    "    callback: callable = None,\n",
    "    parallel:bool = False\n",
    ") -> bool:\n",
    "    \"\"\"Wrapper function to convert raw to ms_data_file hdf.\n",
    "\n",
    "    Args:\n",
    "        to_process (dict): A dictionary with settings indicating which files are to be processed and how.\n",
    "        callback (callable): A function that accepts a float between 0 and 1 as progress. Defaults to None.\n",
    "        parallel (bool): If True, process multiple files in parallel.\n",
    "            This is not implemented yet!\n",
    "            Defaults to False.\n",
    "\n",
    "    Returns:\n",
    "        bool: True if and only if the tag finding was succesful.\n",
    "\n",
    "    \"\"\"\n",
    "    index, settings = to_process\n",
    "    raw_file = settings['experiment']['file_paths'][index]\n",
    "    try:\n",
    "        base, ext = os.path.splitext(raw_file)\n",
    "        file_name = base+'.ms_data.hdf'\n",
    "        tag = label_dict[settings['isobaric_label']['label']]\n",
    "        \n",
    "        reporter_frag_tolerance = settings['isobaric_label']['reporter_frag_tolerance']\n",
    "        ppm = settings['isobaric_label']['reporter_frag_tolerance_ppm']\n",
    "        \n",
    "        search_tags_on_ms_file(file_name, tag, reporter_frag_tolerance, ppm)\n",
    "        \n",
    "        logging.info(f'Tag finding of file {file_name} complete.')\n",
    "        return True\n",
    "    except Exception as e:\n",
    "        logging.error(f'Tag finding of file {file_name} failed. Exception {e}')\n",
    "        return f\"{e}\" #Can't return exception object, cast as string\n",
    "    return True"
   ]
  },
  {
   "cell_type": "code",
   "execution_count": null,
   "id": "314c0e52-44f0-4038-91fb-f13869e62144",
   "metadata": {},
   "outputs": [
    {
     "name": "stdout",
     "output_type": "stream",
     "text": [
      "Converted 00_settings.ipynb.\n",
      "Converted 01_chem.ipynb.\n",
      "Converted 02_io.ipynb.\n",
      "Converted 03_fasta.ipynb.\n",
      "Converted 04_feature_finding.ipynb.\n",
      "Converted 05_search.ipynb.\n",
      "Converted 06_score.ipynb.\n",
      "Converted 07_recalibration.ipynb.\n",
      "Converted 08_quantification.ipynb.\n",
      "Converted 09_matching.ipynb.\n",
      "Converted 10_constants.ipynb.\n",
      "Converted 11_interface.ipynb.\n",
      "Converted 12_performance.ipynb.\n",
      "Converted 13_export.ipynb.\n",
      "Converted 14_display.ipynb.\n",
      "Converted 15_label.ipynb.\n",
      "Converted additional_code.ipynb.\n",
      "Converted contributing.ipynb.\n",
      "Converted file_formats.ipynb.\n",
      "Converted index.ipynb.\n",
      "Converted Untitled.ipynb.\n",
      "Converted Untitled1.ipynb.\n",
      "Converted Untitled2.ipynb.\n",
      "Converted Untitled3.ipynb.\n",
      "Converted Untitled4.ipynb.\n",
      "Converted Untitled5.ipynb.\n"
     ]
    }
   ],
   "source": [
    "#hide\n",
    "from nbdev.export import *\n",
    "notebook2script()"
   ]
  }
 ],
 "metadata": {
  "kernelspec": {
   "display_name": "Python 3 (ipykernel)",
   "language": "python",
   "name": "python3"
  }
 },
 "nbformat": 4,
 "nbformat_minor": 5
}
