{
 "cells": [
  {
   "cell_type": "code",
   "execution_count": null,
   "id": "2ce03533",
   "metadata": {},
   "outputs": [],
   "source": [
    "#| default_exp contributing"
   ]
  },
  {
   "cell_type": "code",
   "execution_count": null,
   "id": "980dd63a",
   "metadata": {},
   "outputs": [],
   "source": [
    "#| hide\n",
    "from nbdev.showdoc import *"
   ]
  },
  {
   "cell_type": "markdown",
   "id": "2952ffd3",
   "metadata": {},
   "source": [
    "# How to contribute\n",
    "Last change: 12-July-2021 MTS\n",
    "\n",
    "This notebook describes how you can contribute code. See the `Notes for Programmers` for docstring and test conventions.\n",
    "\n",
    "Contributions are welcome, and they are greatly appreciated! Every little bit helps, and credit will always be given.\n",
    "\n",
    "You can contribute in many ways:"
   ]
  },
  {
   "cell_type": "markdown",
   "id": "a892d13c",
   "metadata": {},
   "source": [
    "## Report Bugs\n",
    "\n",
    "Report bugs at https://github.com/MannLabs/alphapept/issues.\n",
    "\n",
    "If you are reporting a bug, please include:\n",
    "\n",
    "* Your operating system name and version.\n",
    "* Any details about your local setup that might be helpful in troubleshooting.\n",
    "* Detailed steps to reproduce the bug.\n",
    "\n",
    "## Fix Bugs\n",
    "\n",
    "Look through the GitHub issues for bugs. Anything tagged with \"bug\"\n",
    "and \"help wanted\" is open to whoever wants to implement it.\n",
    "\n",
    "## Implement Features\n",
    "\n",
    "Look through the GitHub issues for features. Anything tagged with \"enhancement\"\n",
    "and \"help wanted\" is open to whoever wants to implement it.\n",
    "\n",
    "## Write Documentation\n",
    "\n",
    "AlphaPept could always use more documentation, whether as part of the\n",
    "official AlphaPept documentation, in docstrings, or even on the web in blog posts,\n",
    "articles, and such. See below for our docstring convention."
   ]
  },
  {
   "cell_type": "markdown",
   "id": "5d20436a",
   "metadata": {},
   "source": [
    "## Submit Feedback\n",
    "\n",
    "The best way to send feedback is to file an issue at https://github.com/MannLabs/alphapept/issues.\n",
    "\n",
    "If you are proposing a feature:\n",
    "\n",
    "* Explain in detail how it would work.\n",
    "* Keep the scope as narrow as possible, to make it easier to implement.\n",
    "* Remember that this is a volunteer-driven project, and that contributions\n",
    "  are welcome :)\n",
    "\n",
    "## Get Started!\n",
    "\n",
    "Ready to contribute? Here's how to set up `alphapept` for local development.\n",
    "\n",
    "1. Fork the `alphapept` repo on GitHub.\n",
    "2. Clone your fork locally:\n",
    "\n",
    "    ```\n",
    "    git clone git@github.com:your_name_here/alphapept.git\n",
    "    ```\n",
    "\n",
    "3. Follow the installation instructions in the readme to install a alphapept environment.\n",
    "\n",
    "4. Create a branch for local development::\n",
    "\n",
    "    ```\n",
    "    git checkout -b name-of-your-bugfix-or-feature\n",
    "    ```\n",
    "\n",
    "   Now you can make your changes locally.\n",
    "\n",
    "5. See below in the Notes for Programmers about how to use the nbdev environment.\n",
    "\n",
    "6. Commit your changes and push your branch to GitHub::\n",
    "\n",
    "    ```\n",
    "    git add .\n",
    "    git commit -m \"Your detailed description of your changes.\"\n",
    "    git push origin name-of-your-bugfix-or-feature\n",
    "    ```\n",
    "\n",
    "7. Submit a pull request through the GitHub website."
   ]
  },
  {
   "cell_type": "markdown",
   "id": "faae7cf9",
   "metadata": {},
   "source": [
    "## PR submission guidelines\n",
    "\n",
    "* Keep each PR focused. While it's more convenient, do not combine several unrelated fixes together. Create as many branches as needed to keep each PR focused.\n",
    "* Do not mix style changes/fixes with \"functional\" changes. It's very difficult to review such PRs, and it most likely gets rejected.\n",
    "* Do not turn an already submitted PR into your development playground. If after you submitted PR, you discovered that more work is needed - close the PR, do the required work and then submit a new PR. Otherwise, each of your commits requires attention from maintainers of the project.\n",
    "* If, however, you submitted a PR and received a request for changes, you should proceed with commits inside that PR, so that the maintainer can see the incremental fixes and won't need to review the whole PR again. In the exceptional case where you realize it'll take many many commits to complete the requests, then it's probably best to close the PR, do the work and then submit it again. Again, use common sense where you'd choose one way over another."
   ]
  },
  {
   "cell_type": "markdown",
   "id": "2eb448ef",
   "metadata": {},
   "source": [
    "## Notes for Programmers\n",
    "\n",
    "### Literal Programming\n",
    "A key feature is the use of [nbdev](https://github.com/fastai/nbdev). We like to keep the entrance barrier low to attract new coders to contribute to the AlphaPept package. For this, we see nbedv as an ideal tool to document and modify code. To install nbdev use `pip install nbdev` and then install the git hooks in the folder where your GitHub repository is cloned (`nbdev_install_git_hooks`). The key commands for nbdev are:\n",
    "\n",
    "* `nbdev_build_lib`: build the library from the notebooks\n",
    "* `nbdev_test_nbs`: test all notebooks\n",
    "* `nbdev_clean_nbs`: clean the notebooks (strip from unnecessary metadata)"
   ]
  },
  {
   "cell_type": "markdown",
   "id": "df47acc3",
   "metadata": {},
   "source": [
    "### Docstring convention\n",
    "\n",
    "The docstring convention we adhere to is from the [Google stylegyuide](https://google.github.io/styleguide/pyguide.html).\n",
    "\n",
    "Below a sample docstring (Note the empty space after Args/Returns/Raises):\n",
    "```\n",
    "def sample_function(a_string: str, a_int: int, a_flag: bool) -> str:\n",
    "    \"\"\"Sample function that performs a sample calculation.\n",
    "\n",
    "    Args:\n",
    "        a_string (str): A string.\n",
    "        a_int (int): An integer.\n",
    "        a_flag (bool): A flag.\n",
    "\n",
    "    Returns:\n",
    "        str: A string based on the input\n",
    "    \"\"\"    \n",
    "    \n",
    "```\n",
    "\n",
    "#### Examples:\n",
    "* pandas dataframes: `df: pd.DataFrame`\n",
    "* numpy arrays: `x:np.ndarray`. You can further specify the dimension (e.g. of numpy arrays) in the docstring. \n",
    "* args and kwargs: list and dict. It is generally not needed to type-hint these but state in the Args what they are and what can be done with them.\n",
    "* callbacks: typing.Callable, e.g. Callable[[Arg1Type, Arg2Type], ReturnType]\n",
    "\n",
    "\n",
    "#### Useful tricks:\n",
    "* When using Visual Studio Code, you can use the `Python Docstring Generator` to automatically generate the docstrings with this format.\n",
    "* When changing the docstrings in the code, you can propagate the changes back to the notebooks with `nbdev_update_lib [filename]`.\n",
    "\n",
    ":::{.callout-note}\n\nType hints are highly recommended but not mandatory (see also [PEP484](https://www.python.org/dev/peps/pep-0484/)). As the Legacy codebase had no type hints, we are slowly moving towards more type hinting coverage.\n\n:::\n",
    "\n",
    ":::{.callout-note}\n\nAdding additional elements (e.g lines like -------) to the docstring could break how the documentation is displayed. Below is the function from above but exported to show how it would appear in the documentation.\n\n:::"
   ]
  },
  {
   "cell_type": "code",
   "execution_count": null,
   "id": "c5b9a8f6",
   "metadata": {},
   "outputs": [],
   "source": [
    "#| export\n",
    "def sample_function(a_string: str, a_int: int, a_flag: bool) -> str:\n",
    "    \"\"\"Sample function that performs a sample calculation.\n",
    "\n",
    "    Args:\n",
    "        a_string (str): A string.\n",
    "        a_int (int): An integer.\n",
    "        a_flag (bool): A flag.\n",
    "\n",
    "    Returns:\n",
    "        str: A string based on the input\n",
    "    \"\"\"   "
   ]
  },
  {
   "cell_type": "markdown",
   "id": "c6a94188",
   "metadata": {},
   "source": [
    "## Tests\n",
    "\n",
    "In order to make AlphaPept a sustainable package, it is imperative that all functions have tests. This is not only to ensure the proper execution of the function but also for the long run when wanting to keep up-to-date with package updates. For tracking package updates, we rely on [dependabot](https://dependabot.com). For continuous integration, we use GitHub Actions."
   ]
  },
  {
   "cell_type": "markdown",
   "id": "d3d8ff35",
   "metadata": {},
   "source": [
    "### Unit Tests\n",
    "\n",
    "Within the nbdev notebooks, we try to write small tests for each function. They should be lightweight so that running (and hence testing) the notebooks should not take too long. You define your code in a cell with the `#export`-flag and you can write a text in the following cell. To prevent the cell from showing up in the documentation, you can add a `#hide`-flag. To be flexible and maybe migrate from the notebook tests to `pytest` we write the tests with leading `test_` and the function name and execute it in the cell.\n",
    "\n",
    "#### Example\n",
    "\n",
    "Cell that defines the code:\n",
    "\n",
    "```\n",
    "#export\n",
    "\n",
    "def function_a():\n",
    "    return 5\n",
    "```\n",
    "\n",
    "Next cell with the test function and calling the test.\n",
    "```\n",
    "def test_function_a():\n",
    "    assert function_a() == 5\n",
    "\n",
    "test_function_a()\n",
    "```\n",
    "\n",
    ":::{.callout-note}\n\nAlphaPept contains a testfolder `testfiles` with testfiles which are used for some functions to perform tests on files.\n\n:::"
   ]
  },
  {
   "cell_type": "markdown",
   "id": "e67cd341",
   "metadata": {},
   "source": [
    "### GitHub Actions\n",
    "\n",
    "We use GitHub Actions as part of the continuous integration framework.\n",
    "\n",
    "Within the repository, the actions are defined as yml files in `./.github/workflows/`. \n",
    "\n",
    "Currently, the following actions are present:\n",
    "\n",
    "* cla_assistant: Action that runs a check if a contributor has signed the CLA\n",
    "* gpu_test: Helper to run GPU tests. This is not part of the automated pipeline\n",
    "* main: Main CI/CD from nbdev. This installs the library and runs all notebooks\n",
    "* performance_test: This action freezes the environment and runs multiple test cases specified in `test_ci.py`. Used to benchmark new versions.\n",
    "* quick_test: This action runs the whole AlphaPept pipeline on small test files\n",
    "* release: This action triggers the installer compilation and creates a release draft\n",
    "\n",
    "The `quick_test` and `performance_test` are hooked to the MongoDB, so results are reported here.\n",
    "\n",
    "Some actions are executed on each push (e.g. `quick_test`, others need to be triggered manually (e.g. `release`).\n",
    "\n",
    "### Adding an integration test\n",
    "\n",
    ":::{.callout-note}\n\nUnless you are a core developer, there should not be the need to add integration tests. Feel free to create a PR in case.\n\n:::\n",
    "\n",
    "The best way to add an integration test is by specifying a new test in `test_ci.py` and then adding a job to the `performance_test` action. `test_ci.py` contains a file dictionary with links to files. The idea here is as follows: On the local machine, there should be a `BASE_DIR` that contains all files used for running the test cases. If the files are not present, the script will download them with the URL from the file dictionary. To define a test case, one needs to initiate a `TestRun`-class and provide the files to be used. Running a test will always take the current `default_settings.yaml` and modifying the respective files. You can add subsequent analysis (e.g., such as calculating the false discovery FDR for a mixed species experiment by adding a function to the test class.\n",
    "\n",
    "To test an integration test locally, simply call the `test_ci.py` with the respective test (e.g. thermo_irt) like so: `python test_ci.py thermo_irt`.\n",
    "\n",
    "\n",
    "### Integrating Actions\n",
    "\n",
    ":::{.callout-note}\n\nUnless you are a core developer, there should not be the need to add GitHub Actions. Feel free to create a PR in case.\n\n:::\n",
    "\n",
    "New actions can be added by creating a `.yml` file and placing it in the workflows folder.\n",
    "We can distinguish local actions, which run on our self-hosted [runners](https://docs.github.com/en/actions/hosting-your-own-runners/about-self-hosted-runners)  and cloud actions that run on GitHub servers.\n",
    "\n",
    "The local runners are meant to run computationally intensive tasks such as the `performance_test` and the `quick_test`, whereas the cloud actions are meant for unit tests.\n",
    "\n",
    ":::{.callout-note}\n\nIf you fork the repository, you will not be able to execute tests on the local runners. They are restricted to the `MannLabs` repository.\n\n:::\n",
    "\n"
   ]
  },
  {
   "cell_type": "markdown",
   "id": "1b4b8343",
   "metadata": {},
   "source": [
    "## Test Coverage\n",
    "\n",
    "Ideally, we would like to track test coverage. However, this isn't easy when having numba-compiled functions. Any solutions to this are greatly appreciated."
   ]
  },
  {
   "cell_type": "markdown",
   "id": "97177e24",
   "metadata": {},
   "source": [
    "## Linting\n",
    "\n",
    "It is planned to include a GitHub action that automatically runs a linter on the code."
   ]
  },
  {
   "cell_type": "markdown",
   "id": "ea362281",
   "metadata": {},
   "source": [
    "### Callbacks\n",
    "\n",
    "As AlphaPept is intended to be the backend of a tool with GUI, we ideally want to be able to get a progress bar out of the major functions. For this, we can pass a `callback`-argument to the major functions. If the argument is passed, it will return the current progress in the range from 0 to 1.\n",
    "\n",
    "### Version bumping\n",
    "\n",
    "We are using the python package [`bump2version`](https://github.com/c4urself/bump2version). You can use this to bump the version number (install via `pip install bump2version`). Currently specified is: `bump2version`: (`major`, `minor`, `patch`):\n",
    "\n",
    "* e.g.: `bump2version patch` for a patch"
   ]
  },
  {
   "cell_type": "code",
   "execution_count": null,
   "id": "435cf649",
   "metadata": {},
   "outputs": [
    {
     "name": "stdout",
     "output_type": "stream",
     "text": [
      "Converted 00_settings.ipynb.\n",
      "Converted 01_chem.ipynb.\n",
      "Converted 02_io.ipynb.\n",
      "Converted 03_fasta.ipynb.\n",
      "Converted 05_search.ipynb.\n",
      "Converted 06_score.ipynb.\n",
      "Converted 07_recalibration.ipynb.\n",
      "Converted 08_quantification.ipynb.\n",
      "Converted 09_matching.ipynb.\n",
      "Converted 10_constants.ipynb.\n",
      "Converted 11_interface.ipynb.\n",
      "Converted 12_performance.ipynb.\n",
      "Converted 13_export.ipynb.\n",
      "Converted 14_display.ipynb.\n",
      "Converted 15_label.ipynb.\n",
      "Converted additional_code.ipynb.\n",
      "Converted contributing.ipynb.\n",
      "Converted file_formats.ipynb.\n",
      "Converted index.ipynb.\n"
     ]
    }
   ],
   "source": [
    "#| hide\n",
    "from nbdev.export import *\n",
    "nbdev_export()"
   ]
  }
 ],
 "metadata": {
  "kernelspec": {
   "display_name": "Python 3 (ipykernel)",
   "language": "python",
   "name": "python3"
  }
 },
 "nbformat": 4,
 "nbformat_minor": 5
}
