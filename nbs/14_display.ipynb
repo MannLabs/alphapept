{
 "cells": [
  {
   "cell_type": "code",
   "execution_count": null,
   "id": "dd65c3c1-7119-4740-9e19-7354eb68118b",
   "metadata": {},
   "outputs": [],
   "source": [
    "# default_exp display"
   ]
  },
  {
   "cell_type": "markdown",
   "id": "9d1960d0-a701-4bb4-925b-bf3c044908e7",
   "metadata": {},
   "source": [
    "# Display\n",
    "\n",
    "> A collection of functions primarily GUI operations"
   ]
  },
  {
   "cell_type": "code",
   "execution_count": null,
   "id": "d86fc945-2ecc-41f4-8791-1be3b3cd14be",
   "metadata": {},
   "outputs": [],
   "source": [
    "#hide\n",
    "from nbdev.showdoc import *"
   ]
  },
  {
   "cell_type": "markdown",
   "id": "b7b3ceee-86c1-4e35-a5cd-8df42cb259e4",
   "metadata": {},
   "source": [
    "## Sequence coverage"
   ]
  },
  {
   "cell_type": "markdown",
   "id": "2fe8f1a5-dcaf-4532-9582-809711cee649",
   "metadata": {},
   "source": [
    "Calculate the coverage of a target protein sequence by peptides in a given list"
   ]
  },
  {
   "cell_type": "code",
   "execution_count": null,
   "id": "a94889a7-2720-4e3b-b707-30af1bcea521",
   "metadata": {},
   "outputs": [],
   "source": [
    "#export\n",
    "\n",
    "import re\n",
    "\n",
    "def calculate_sequence_coverage(target_sequence:str, peptide_list:list)->(int, int, float, list):\n",
    "    \"\"\"\n",
    "    Calculate the percentage of a target protein covered by a list of peptides.\n",
    "    Args:\n",
    "        target_sequence (str): the protein sequence against which the peptide_list should be compared.\n",
    "        peptide_list (List[str]): the list of peptides (str) to be compared against the target_sequence.\n",
    "    return:\n",
    "        int: number of residues in target_sequence.\n",
    "        int: number of residues in target_sequence covered by peptides in peptide_list.\n",
    "        float: percentage of residues in target_sequence covered by peptides in peptide_list.\n",
    "        list (dict{str:bool}): list of dicts where keys are residue one-letter codes and values are bool (covered = True, not-covered = False). \n",
    "    \"\"\"   \n",
    "    residues = [\n",
    "        {'res': res, 'covered': False} for res in target_sequence\n",
    "    ]\n",
    "    for peptide in peptide_list:\n",
    "        # remove lowercase PTM markers if present\n",
    "        peptide = ''.join(_ for _ in peptide if not _.islower() and _.isalpha())\n",
    "        matches = [m.start() for m in re.finditer('(?=%s)' %peptide, target_sequence)]\n",
    "        for m in matches:\n",
    "            for index in range(m, m+len(peptide)):\n",
    "                residues[index]['covered'] = True\n",
    "\n",
    "    total = len(residues)\n",
    "    total_covered = len([r for r in residues if r['covered'] == True])\n",
    "    coverage_percent = total_covered / total * 100\n",
    "    \n",
    "    return total, total_covered, coverage_percent, residues\n",
    "    "
   ]
  },
  {
   "cell_type": "code",
   "execution_count": null,
   "id": "dfbac771-08e2-40e9-9ab6-8b8a3758bbde",
   "metadata": {},
   "outputs": [],
   "source": [
    "#hide\n",
    "\n",
    "import numpy as np\n",
    "\n",
    "def test_calculate_sequence_coverage():\n",
    "    \n",
    "    test_target_protein     = 'TESTTARGETSEQ'\n",
    "    \n",
    "    tests = [\n",
    "        ['++++------+++', ['TEST', 'SEQ']],\n",
    "        ['----------+++', ['TESST', 'SEQ']],\n",
    "        ['----------+++', ['', 'SEQ']],\n",
    "        ['-------------', ['RANDEMPEP']],\n",
    "        ['++++------+++', ['TEpST', 'pSEQ']],\n",
    "        ['++++------+++', ['modificationTEST', 'SEQ']],\n",
    "        ['++++------+++', ['e<^TEST', 'SEQ']],\n",
    "        ['----------+++', ['SEQ', 'SEQ']],\n",
    "        ['-------------', []],\n",
    "    ]\n",
    "    \n",
    "    # TODO: iTRAQ 4/8-plex on peptide N-term will make this fail\n",
    "    # -- looks like an inconsistency in naming of PTM identifier in modifications.tsv though\n",
    "    # -- eg itraq4K<^  should this be   itraq4<^  as with TMT mods?\n",
    "    \n",
    "    for test_target_covered_map, test_peptide_list in tests:\n",
    "\n",
    "        test_total = len(test_target_protein)\n",
    "        test_total_covered = test_target_covered_map.count('+')\n",
    "        test_coverage_percent = test_total_covered / test_total * 100\n",
    "        test_residue_list = [\n",
    "            {\n",
    "                'res': test_target_protein[i],\n",
    "                'covered': True if test_target_covered_map[i] == '+' else False\n",
    "            } for i in range(len(test_target_protein))\n",
    "        ]\n",
    "\n",
    "        total, total_covered, coverage_percent, residue_list = calculate_sequence_coverage(\n",
    "            test_target_protein, test_peptide_list\n",
    "        )\n",
    "\n",
    "        assert total == len(test_target_protein)\n",
    "        assert total_covered == test_total_covered\n",
    "        assert total_covered == len([_ for _ in test_residue_list if _['covered'] == True])\n",
    "        assert np.isclose(test_coverage_percent, coverage_percent) == True\n",
    "\n",
    "        for i in range(len(test_target_protein)):\n",
    "            assert test_target_protein[i] == residue_list[i]['res']\n",
    "\n",
    "test_calculate_sequence_coverage()"
   ]
  },
  {
   "cell_type": "code",
   "execution_count": 1,
   "id": "314c0e52-44f0-4038-91fb-f13869e62144",
   "metadata": {},
   "outputs": [
    {
     "name": "stdout",
     "output_type": "stream",
     "text": [
      "Converted 00_settings.ipynb.\n",
      "Converted 01_chem.ipynb.\n",
      "Converted 02_io.ipynb.\n",
      "Converted 03_fasta.ipynb.\n",
      "Converted 04_feature_finding.ipynb.\n",
      "Converted 05_search.ipynb.\n",
      "Converted 06_score.ipynb.\n",
      "Converted 07_recalibration.ipynb.\n",
      "Converted 08_quantification.ipynb.\n",
      "Converted 09_matching.ipynb.\n",
      "Converted 10_constants.ipynb.\n",
      "Converted 11_interface.ipynb.\n",
      "Converted 12_performance.ipynb.\n",
      "Converted 13_export.ipynb.\n",
      "Converted 14_display.ipynb.\n",
      "Converted additional_code.ipynb.\n",
      "Converted contributing.ipynb.\n",
      "Converted file_formats.ipynb.\n",
      "Converted index.ipynb.\n"
     ]
    }
   ],
   "source": [
    "#hide\n",
    "from nbdev.export import *\n",
    "notebook2script()"
   ]
  }
 ],
 "metadata": {
  "kernelspec": {
   "display_name": "venv",
   "language": "python",
   "name": "venv"
  },
  "language_info": {
   "codemirror_mode": {
    "name": "ipython",
    "version": 3
   },
   "file_extension": ".py",
   "mimetype": "text/x-python",
   "name": "python",
   "nbconvert_exporter": "python",
   "pygments_lexer": "ipython3",
   "version": "3.8.9"
  }
 },
 "nbformat": 4,
 "nbformat_minor": 5
}
