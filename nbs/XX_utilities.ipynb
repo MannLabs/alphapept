{
 "cells": [
  {
   "cell_type": "code",
   "execution_count": null,
   "metadata": {},
   "outputs": [],
   "source": [
    "# default_exp utils"
   ]
  },
  {
   "cell_type": "markdown",
   "metadata": {},
   "source": [
    "# Utilities\n",
    "\n",
    "> Utilities that make the live easier"
   ]
  },
  {
   "cell_type": "code",
   "execution_count": null,
   "metadata": {},
   "outputs": [],
   "source": [
    "#hide\n",
    "from nbdev.showdoc import *"
   ]
  },
  {
   "cell_type": "markdown",
   "metadata": {},
   "source": [
    "## Logging"
   ]
  },
  {
   "cell_type": "code",
   "execution_count": null,
   "metadata": {},
   "outputs": [],
   "source": [
    "#export\n",
    "import logging\n",
    "#import logging\n",
    "def log_me(given_function):\n",
    "    \"\"\"\n",
    "    Decorator to track function execution\n",
    "    \"\"\"\n",
    "    def wrapper(*args, **kwargs):\n",
    "        logging.debug(\"FUNCTION `{}` EXECUTED\".format(given_function.__name__))\n",
    "        result = given_function(*args, **kwargs)\n",
    "        logging.debug(\"FUNCTION `{}` FINISHED\".format(given_function.__name__))\n",
    "        return result\n",
    "    return wrapper"
   ]
  },
  {
   "cell_type": "markdown",
   "metadata": {},
   "source": [
    "## System Check"
   ]
  },
  {
   "cell_type": "code",
   "execution_count": null,
   "metadata": {},
   "outputs": [],
   "source": [
    "#export\n",
    "import sys\n",
    "\n",
    "def check_hardware():\n",
    "    import psutil\n",
    "    memory_available = psutil.virtual_memory().available/1024**3\n",
    "\n",
    "    logging.info('Currently {:.2f} GB of memory available.'.format(memory_available))\n",
    "\n",
    "    if memory_available < 16:\n",
    "        raise MemoryError('Only {:.2f} GB memory available. Make sure that at least 16 GB are available.'.format(memory_available))\n",
    "    import platform\n",
    "    sysinfo = platform.uname()\n",
    "    \n",
    "    logging.info('System information: {}'.format(sysinfo))\n",
    "    \n",
    "def check_python_env():\n",
    "    import numba \n",
    "    logging.info('Python version {}'.format(sys.version))\n",
    "    logging.info('Numba version {}'.format(numba.__version__))\n",
    "    if float('.'.join(numba.__version__.split('.')[0:2])) < 0.46:\n",
    "        raise RuntimeError('Numba version {} not sufficient'.format(numba.__version__))"
   ]
  },
  {
   "cell_type": "code",
   "execution_count": null,
   "metadata": {},
   "outputs": [],
   "source": [
    "check_hardware()\n",
    "check_python_env()"
   ]
  },
  {
   "cell_type": "markdown",
   "metadata": {},
   "source": [
    "## Settings Check"
   ]
  },
  {
   "cell_type": "code",
   "execution_count": null,
   "metadata": {},
   "outputs": [],
   "source": [
    "#export\n",
    "\n",
    "def check_settings(settings):\n",
    "    import multiprocessing\n",
    "    logging.info('Check for settings not completely implemented yet.')\n",
    "    \n",
    "    n_set = settings['general']['n_processes']\n",
    "    n_actual = multiprocessing.cpu_count()\n",
    "    \n",
    "    if n_set > n_actual:\n",
    "        settings['general']['n_processes'] = n_actual\n",
    "        logging.info('Setting number of processes to {}.'.format(n_actual))\n",
    "    \n",
    "    return settings"
   ]
  },
  {
   "cell_type": "markdown",
   "metadata": {},
   "source": [
    "## Assembling dataframes"
   ]
  },
  {
   "cell_type": "code",
   "execution_count": null,
   "metadata": {},
   "outputs": [],
   "source": [
    "#export\n",
    "import pandas as pd\n",
    "import os\n",
    "\n",
    "def assemble_df(settings, callback = None):\n",
    "    \"\"\"\n",
    "    Todo we could save this to disk\n",
    "    include callback\n",
    "    \"\"\"\n",
    "    files_npz = settings['experiment']['files_npz']\n",
    "\n",
    "    paths = [os.path.splitext(_)[0]+'.hdf' for _ in files_npz]\n",
    "\n",
    "    all_dfs = []\n",
    "    for idx, _ in enumerate(paths):\n",
    "\n",
    "        df = pd.read_hdf(_,'protein_fdr')\n",
    "        df['filename'] = _\n",
    "\n",
    "        if 'fraction' in settings['experiment'].keys():\n",
    "            if settings['experiment']['fraction'] != []:\n",
    "                df['fraction'] = settings['experiment']['fraction'][idx]\n",
    "        if 'experiment' in settings['experiment'].keys():\n",
    "            if settings['experiment']['experiment'] != []:\n",
    "                df['experiment'] = settings['experiment']['experiment'][idx]\n",
    "\n",
    "        all_dfs.append(df)\n",
    "\n",
    "        if callback:\n",
    "            callback((idx+1)/len(paths))\n",
    "\n",
    "    xx = pd.concat(all_dfs)\n",
    "\n",
    "    # Here we could save things\n",
    "\n",
    "    xx.to_hdf(settings['experiment']['evidence'], 'combined_protein_fdr')\n",
    "\n",
    "    return xx"
   ]
  },
  {
   "cell_type": "code",
   "execution_count": null,
   "metadata": {},
   "outputs": [
    {
     "name": "stdout",
     "output_type": "stream",
     "text": [
      "Converted 00_settings.ipynb.\n",
      "Converted 01_chem.ipynb.\n",
      "Converted 02_io.ipynb.\n",
      "Converted 03_fasta.ipynb.\n",
      "Converted 04_feature_finding.ipynb.\n",
      "Converted 05_search.ipynb.\n",
      "Converted 06_score.ipynb.\n",
      "Converted 07_recalibration.ipynb.\n",
      "Converted 08_quantification.ipynb.\n",
      "Converted 09_matching.ipynb.\n",
      "Converted 10_constants.ipynb.\n",
      "Converted index.ipynb.\n",
      "Converted XX_utilities.ipynb.\n"
     ]
    }
   ],
   "source": [
    "#hide\n",
    "from nbdev.export import *\n",
    "notebook2script()"
   ]
  }
 ],
 "metadata": {
  "kernelspec": {
   "display_name": "Python 3",
   "language": "python",
   "name": "python3"
  }
 },
 "nbformat": 4,
 "nbformat_minor": 2
}
