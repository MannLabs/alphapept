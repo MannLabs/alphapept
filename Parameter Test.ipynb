{
 "cells": [
  {
   "cell_type": "markdown",
   "metadata": {},
   "source": [
    "# Parameter Test\n",
    "\n",
    "Calls AlphaPept for a parameter range and checks performance."
   ]
  },
  {
   "cell_type": "code",
   "execution_count": 1,
   "metadata": {},
   "outputs": [],
   "source": [
    "from time import time\n",
    "%load_ext autoreload\n",
    "%autoreload 2"
   ]
  },
  {
   "cell_type": "markdown",
   "metadata": {},
   "source": [
    "## Logger"
   ]
  },
  {
   "cell_type": "code",
   "execution_count": 2,
   "metadata": {},
   "outputs": [],
   "source": [
    "import sys\n",
    "import logging\n",
    "# Create logger\n",
    "logger = logging.getLogger()\n",
    "logger.setLevel(logging.INFO)\n",
    "\n",
    "# Create STDERR handler\n",
    "handler = logging.StreamHandler(sys.stderr)\n",
    "# ch.setLevel(logging.DEBUG)\n",
    "\n",
    "# Create formatter and add it to the handler\n",
    "formatter = logging.Formatter('%(asctime)s %(levelname)-s - %(message)s', \"%Y-%m-%d %H:%M:%S\")\n",
    "handler.setFormatter(formatter)\n",
    "\n",
    "# Set STDERR handler as the only handler \n",
    "logger.handlers = [handler]"
   ]
  },
  {
   "cell_type": "markdown",
   "metadata": {},
   "source": [
    "## Parameter Test"
   ]
  },
  {
   "cell_type": "code",
   "execution_count": 3,
   "metadata": {},
   "outputs": [
    {
     "name": "stdout",
     "output_type": "stream",
     "text": [
      "File not recognized: 20190402_QX1_SeVW_MA_HeLa_500ng_LC11.npz\n",
      "Found thermo file: 20190402_QX1_SeVW_MA_HeLa_500ng_LC11.raw\n",
      "File not recognized: 20190402_QX1_SeVW_MA_HeLa_500ng_LC11_ap.csv\n",
      "File not recognized: 20190402_QX1_SeVW_MA_HeLa_500ng_LC11_ap.yaml\n",
      "Found bruker file: 20191209_TIMS05_QC_ADB_AfterSRIGUpgrade_200ng_03_A1_1_1428.d\n",
      "File not recognized: 20191209_TIMS05_QC_ADB_AfterSRIGUpgrade_200ng_03_A1_1_1428.npz\n",
      "File not recognized: 20191209_TIMS05_QC_ADB_AfterSRIGUpgrade_200ng_03_A1_1_1428_ap.csv\n",
      "File not recognized: 20191209_TIMS05_QC_ADB_AfterSRIGUpgrade_200ng_03_A1_1_1428_ap.yaml\n",
      "Found fasta file: F:\\projects\\alphapept\\integration_test\\uniprot_Human_reviewed_March_2019_manual.fasta\n",
      "File not recognized: uniprot_Human_reviewed_March_2019_manual.npz\n"
     ]
    }
   ],
   "source": [
    "import os\n",
    "\n",
    "test_dir = './integration_test/'\n",
    "\n",
    "files = os.listdir('./integration_test/')\n",
    "\n",
    "raw_files = None\n",
    "fasta_file = None\n",
    "\n",
    "for file in files:\n",
    "    base, ext = os.path.splitext(file)\n",
    "    \n",
    "    if ext == '.fasta':\n",
    "        fasta_file = os.path.abspath(os.path.join(test_dir, file))\n",
    "        print('Found fasta file: {}'.format(fasta_file))\n",
    "    elif ext == '.raw':\n",
    "        if not raw_files:\n",
    "            raw_files = []\n",
    "            raw_files.append(os.path.abspath(os.path.join(test_dir, file)))\n",
    "        else:\n",
    "            raw_files.append(os.path.abspath(os.path.join(test_dir, file)))\n",
    "        print('Found thermo file: {}'.format(file))\n",
    "    elif ext == '.d':\n",
    "        if not raw_files:\n",
    "            raw_files = []\n",
    "            raw_files.append(os.path.abspath(os.path.join(test_dir, file)))\n",
    "        else:\n",
    "            raw_files.append(os.path.abspath(os.path.join(test_dir, file)))\n",
    "        print('Found bruker file: {}'.format(file))\n",
    "    else:\n",
    "        print('File not recognized: {}'.format(file))\n",
    "        \n",
    "        \n",
    "#Todo: Later combine files that might belong together (i.e. in folder, or of same type)"
   ]
  },
  {
   "cell_type": "code",
   "execution_count": 5,
   "metadata": {},
   "outputs": [],
   "source": [
    "from alphapept.settings import load_settings\n",
    "\n",
    "settings_template = load_settings('settings_template.yaml')\n"
   ]
  },
  {
   "cell_type": "code",
   "execution_count": 6,
   "metadata": {},
   "outputs": [],
   "source": [
    "param_group = 'search'\n",
    "param_key = 'm_tol'\n",
    "\n",
    "minval = settings_template[param_group][param_key]['min']\n",
    "maxval = settings_template[param_group][param_key]['max']"
   ]
  },
  {
   "cell_type": "code",
   "execution_count": 7,
   "metadata": {},
   "outputs": [],
   "source": [
    "from alphapept.settings import load_settings\n",
    "\n",
    "default_settings = load_settings('default_settings.yaml')\n",
    "\n",
    "# Deactivate maxlfq and match between runs in the default case as they are not implemented\n",
    "# Also deactivete library creation\n",
    "# Otherwise: Activate all functions and deactivate to test\n",
    "\n",
    "default_settings['quantification']['max_lfq'] = False\n",
    "default_settings['misc']['match_between_runs'] = False\n",
    "default_settings['general']['create_library'] = False\n",
    "default_settings['general']['find_features'] = False\n",
    "default_settings['raw']['convert_raw'] = False\n",
    "\n",
    "#Fill with paths from above \n",
    "default_settings['fasta']['fasta_path'] = 'F:/projects/alphapept/integration_test/uniprot_Human_reviewed_March_2019_manual.fasta'\n",
    "default_settings['fasta']['contaminants_path'] = 'F:/projects/alphapept/contaminants.fasta'\n",
    "default_settings['fasta']['library_path'] =  'F:/projects/alphapept/integration_test/uniprot_Human_reviewed_March_2019_manual.npz'\n"
   ]
  },
  {
   "cell_type": "code",
   "execution_count": 11,
   "metadata": {},
   "outputs": [],
   "source": [
    "import copy \n",
    "from tqdm.notebook import tqdm as tqdm\n",
    "import numpy as np\n",
    "\n",
    "n_checks = 30\n",
    "\n",
    "test_cases = []\n",
    "\n",
    "for point in np.linspace(10, maxval, n_checks): #todo: Change minval to get 0 psms\n",
    "    for file in raw_files:        \n",
    "        test_case = copy.deepcopy(default_settings)\n",
    "\n",
    "        test_case['raw']['raw_path'] = file\n",
    "        base, ext = os.path.splitext(file)\n",
    "        test_case['raw']['raw_path_npz'] = base + '.npz'\n",
    "        test_case[param_group][param_key] = point\n",
    "\n",
    "        test_cases.append(test_case)"
   ]
  },
  {
   "cell_type": "code",
   "execution_count": 12,
   "metadata": {},
   "outputs": [],
   "source": [
    "from time import time\n",
    "import numpy as np\n",
    "from alphapept.runner import alpha_runner\n",
    "\n",
    "def run_test(settings):\n",
    "    \"\"\"\n",
    "    Run a test with certain settings\n",
    "    \"\"\"\n",
    "\n",
    "    \n",
    "    def dummy(input):\n",
    "        pass\n",
    "    \n",
    "    with tqdm(total=100, desc='Current Progress', unit='%') as current_pbar:\n",
    "        with tqdm(total=100, desc='Overall Progress', unit='%') as overall_pbar:\n",
    "\n",
    "            def current_progress(current):\n",
    "                to_update = np.round(current*100-current_pbar.n, 2)\n",
    "                current_pbar.update(to_update)\n",
    "\n",
    "            def overall_progress(current):\n",
    "                to_update = np.round(current-overall_pbar.n, 2)\n",
    "                overall_pbar.update(to_update)\n",
    "                \n",
    "                \n",
    "            start = time()\n",
    "            df, features = alpha_runner(settings, overall_progress = overall_progress, current_progress = current_progress, CURRENT_TASK = dummy)\n",
    "            try:\n",
    "                df, features = alpha_runner(settings, overall_progress = overall_progress, current_progress = current_progress, CURRENT_TASK = dummy)\n",
    "                error = False\n",
    "            except Exception as e:\n",
    "                print('Experienced the following exception:')\n",
    "                print('-'*100)\n",
    "                print(e)\n",
    "                print('-'*100)\n",
    "                df = None\n",
    "                error = True\n",
    "                \n",
    "            end = time()\n",
    "            \n",
    "            \n",
    "    if df is not None:\n",
    "        n_proteins = len(set(df['protein']))\n",
    "        n_sequences = len(set(df['sequence']))\n",
    "        n_sequence_charges = len(set(df['sequence'] + df['charge'].astype('int').astype('str')))\n",
    "    else:\n",
    "        n_proteins = np.nan\n",
    "        n_sequences = np.nan\n",
    "        n_sequence_charges = np.nan      \n",
    "    \n",
    "    time_minutes = (end-start)/60\n",
    "    \n",
    "    return (n_proteins, n_sequences, n_sequence_charges, time_minutes, error)"
   ]
  },
  {
   "cell_type": "code",
   "execution_count": 13,
   "metadata": {
    "scrolled": false
   },
   "outputs": [
    {
     "data": {
      "application/vnd.jupyter.widget-view+json": {
       "model_id": "212d2cf33a0d49f2ab2bfd2929720fed",
       "version_major": 2,
       "version_minor": 0
      },
      "text/plain": [
       "HBox(children=(FloatProgress(value=0.0, max=60.0), HTML(value='')))"
      ]
     },
     "metadata": {},
     "output_type": "display_data"
    },
    {
     "data": {
      "application/vnd.jupyter.widget-view+json": {
       "model_id": "e14afefb5b1649b3b8b4afaec0e72b37",
       "version_major": 2,
       "version_minor": 0
      },
      "text/plain": [
       "HBox(children=(FloatProgress(value=0.0, description='Current Progress', style=ProgressStyle(description_width=…"
      ]
     },
     "metadata": {},
     "output_type": "display_data"
    },
    {
     "data": {
      "application/vnd.jupyter.widget-view+json": {
       "model_id": "dd3e24476f5f4118876868410e2386e7",
       "version_major": 2,
       "version_minor": 0
      },
      "text/plain": [
       "HBox(children=(FloatProgress(value=0.0, description='Overall Progress', style=ProgressStyle(description_width=…"
      ]
     },
     "metadata": {},
     "output_type": "display_data"
    },
    {
     "name": "stderr",
     "output_type": "stream",
     "text": [
      "2020-05-08 00:39:41 INFO - Checking raw path F:\\projects\\alphapept\\integration_test\\20190402_QX1_SeVW_MA_HeLa_500ng_LC11.raw.\n",
      "2020-05-08 00:39:41 INFO - NPZ for raw file present. Skipping conversion step.\n",
      "2020-05-08 00:39:41 INFO - Raw path okay.\n",
      "2020-05-08 00:39:41 INFO - Checking library path.\n",
      "2020-05-08 00:39:41 INFO - NPZ for library file present.\n",
      "2020-05-08 00:39:41 INFO - Library path okay.\n",
      "2020-05-08 00:39:41 INFO - Using Features from raw data\n",
      "2020-05-08 00:39:59 INFO - First search complete. Compared 30,099,867 spectra and found 95,293 psms.\n",
      "2020-05-08 00:40:10 INFO - Extracted columns for 95,293 psms.\n",
      "2020-05-08 00:40:10 INFO - Scoring complete. For 0.01 FDR found 64,653 targets and 646 decoys.\n",
      "2020-05-08 00:40:10 INFO - Precursor Offset (PPM) is -0.25 (mean), 2.51 (std)\n",
      "2020-05-08 00:41:04 INFO - Calibration complete. Precursor Offset (PPM) is 0.00 (mean), 0.79 (std)\n",
      "2020-05-08 00:41:04 INFO - Adjusting search bound to 2.38 ppm.\n",
      "2020-05-08 00:41:11 INFO - Second search complete. Compared 7,963,809 spectra and found 78,601 psms.\n",
      "2020-05-08 00:41:22 INFO - Extracted columns for 78,601 psms.\n",
      "2020-05-08 00:41:22 INFO - Scoring peptides complete. For 0.01 FDR found 60,604 targets and 351 decoys.\n",
      "2020-05-08 00:42:01 INFO - Scoring proteins complete. For 0.01 FDR found 58,554 targets and 64 decoys. A total of 5,642 proteins found.\n",
      "2020-05-08 00:42:02 INFO - Saved to F:\\projects\\alphapept\\integration_test\\20190402_QX1_SeVW_MA_HeLa_500ng_LC11_ap.csv\n",
      "2020-05-08 00:42:02 INFO - Settings saved to F:\\projects\\alphapept\\integration_test\\20190402_QX1_SeVW_MA_HeLa_500ng_LC11_ap.yaml\n",
      "2020-05-08 00:42:02 INFO - Checking raw path F:\\projects\\alphapept\\integration_test\\20190402_QX1_SeVW_MA_HeLa_500ng_LC11.raw.\n",
      "2020-05-08 00:42:02 INFO - NPZ for raw file present. Skipping conversion step.\n",
      "2020-05-08 00:42:02 INFO - Raw path okay.\n",
      "2020-05-08 00:42:02 INFO - Checking library path.\n",
      "2020-05-08 00:42:02 INFO - NPZ for library file present.\n",
      "2020-05-08 00:42:02 INFO - Library path okay.\n",
      "2020-05-08 00:42:02 INFO - Using Features from raw data\n",
      "2020-05-08 00:42:09 INFO - First search complete. Compared 7,971,584 spectra and found 66,973 psms.\n",
      "2020-05-08 00:42:19 INFO - Extracted columns for 66,973 psms.\n",
      "2020-05-08 00:42:19 INFO - Scoring complete. For 0.01 FDR found 51,304 targets and 345 decoys.\n",
      "2020-05-08 00:42:19 INFO - Precursor Offset (PPM) is -0.19 (mean), 1.07 (std)\n",
      "2020-05-08 00:42:46 INFO - Calibration complete. Precursor Offset (PPM) is 0.00 (mean), 0.49 (std)\n",
      "2020-05-08 00:42:46 INFO - Adjusting search bound to 1.48 ppm.\n",
      "2020-05-08 00:42:52 INFO - Second search complete. Compared 5,463,371 spectra and found 64,575 psms.\n",
      "2020-05-08 00:43:02 INFO - Extracted columns for 64,575 psms.\n",
      "2020-05-08 00:43:02 INFO - Scoring peptides complete. For 0.01 FDR found 50,241 targets and 281 decoys.\n",
      "2020-05-08 00:43:34 INFO - Scoring proteins complete. For 0.01 FDR found 48,591 targets and 65 decoys. A total of 5,573 proteins found.\n",
      "2020-05-08 00:43:36 INFO - Saved to F:\\projects\\alphapept\\integration_test\\20190402_QX1_SeVW_MA_HeLa_500ng_LC11_ap.csv\n",
      "2020-05-08 00:43:36 INFO - Settings saved to F:\\projects\\alphapept\\integration_test\\20190402_QX1_SeVW_MA_HeLa_500ng_LC11_ap.yaml\n"
     ]
    },
    {
     "name": "stdout",
     "output_type": "stream",
     "text": [
      "\n",
      "\n"
     ]
    },
    {
     "data": {
      "application/vnd.jupyter.widget-view+json": {
       "model_id": "5305adee11de40d988bb5bfb9581a047",
       "version_major": 2,
       "version_minor": 0
      },
      "text/plain": [
       "HBox(children=(FloatProgress(value=0.0, description='Current Progress', style=ProgressStyle(description_width=…"
      ]
     },
     "metadata": {},
     "output_type": "display_data"
    },
    {
     "data": {
      "application/vnd.jupyter.widget-view+json": {
       "model_id": "dc1ab0d5dd304fd382ba3e9ec88b1ea0",
       "version_major": 2,
       "version_minor": 0
      },
      "text/plain": [
       "HBox(children=(FloatProgress(value=0.0, description='Overall Progress', style=ProgressStyle(description_width=…"
      ]
     },
     "metadata": {},
     "output_type": "display_data"
    },
    {
     "name": "stderr",
     "output_type": "stream",
     "text": [
      "2020-05-08 00:43:36 INFO - Checking raw path F:\\projects\\alphapept\\integration_test\\20191209_TIMS05_QC_ADB_AfterSRIGUpgrade_200ng_03_A1_1_1428.d.\n",
      "2020-05-08 00:43:36 INFO - NPZ for raw file present. Skipping conversion step.\n",
      "2020-05-08 00:43:36 INFO - Raw path okay.\n",
      "2020-05-08 00:43:36 INFO - Checking library path.\n",
      "2020-05-08 00:43:36 INFO - NPZ for library file present.\n",
      "2020-05-08 00:43:36 INFO - Library path okay.\n",
      "2020-05-08 00:43:36 INFO - Using Features from raw data\n",
      "2020-05-08 00:44:10 INFO - First search complete. Compared 61,364,862 spectra and found 256 psms.\n",
      "2020-05-08 00:44:17 INFO - Extracted columns for 256 psms.\n",
      "2020-05-08 00:44:17 INFO - Scoring complete. For 0.01 FDR found 0 targets and 1 decoys.\n",
      "2020-05-08 00:44:17 INFO - Precursor Offset (PPM) is 4.39 (mean), nan (std)\n"
     ]
    },
    {
     "name": "stdout",
     "output_type": "stream",
     "text": [
      "\n",
      "\n"
     ]
    },
    {
     "name": "stderr",
     "output_type": "stream",
     "text": [
      "C:\\ProgramData\\Anaconda3\\envs\\alphap\\lib\\site-packages\\numpy\\core\\fromnumeric.py:3334: RuntimeWarning: Mean of empty slice.\n",
      "  return _methods._mean(a, axis=axis, dtype=dtype,\n",
      "C:\\ProgramData\\Anaconda3\\envs\\alphap\\lib\\site-packages\\numpy\\core\\_methods.py:161: RuntimeWarning: invalid value encountered in double_scalars\n",
      "  ret = ret.dtype.type(ret / rcount)\n"
     ]
    },
    {
     "ename": "ValueError",
     "evalue": "arange: cannot compute length",
     "output_type": "error",
     "traceback": [
      "\u001b[1;31m---------------------------------------------------------------------------\u001b[0m",
      "\u001b[1;31mValueError\u001b[0m                                Traceback (most recent call last)",
      "\u001b[1;32m<ipython-input-13-97d29b8cbc89>\u001b[0m in \u001b[0;36m<module>\u001b[1;34m\u001b[0m\n\u001b[0;32m      6\u001b[0m \u001b[1;32mfor\u001b[0m \u001b[0mtest_case\u001b[0m \u001b[1;32min\u001b[0m \u001b[0mtqdm\u001b[0m\u001b[1;33m(\u001b[0m\u001b[0mtest_cases\u001b[0m\u001b[1;33m)\u001b[0m\u001b[1;33m:\u001b[0m\u001b[1;33m\u001b[0m\u001b[1;33m\u001b[0m\u001b[0m\n\u001b[0;32m      7\u001b[0m \u001b[1;33m\u001b[0m\u001b[0m\n\u001b[1;32m----> 8\u001b[1;33m     \u001b[0mreport\u001b[0m\u001b[1;33m.\u001b[0m\u001b[0mappend\u001b[0m\u001b[1;33m(\u001b[0m\u001b[0mtuple\u001b[0m\u001b[1;33m(\u001b[0m\u001b[1;33m[\u001b[0m\u001b[0mtest_case\u001b[0m\u001b[1;33m[\u001b[0m\u001b[1;34m\"raw\"\u001b[0m\u001b[1;33m]\u001b[0m\u001b[1;33m[\u001b[0m\u001b[1;34m\"raw_path_npz\"\u001b[0m\u001b[1;33m]\u001b[0m\u001b[1;33m,\u001b[0m \u001b[0mtest_case\u001b[0m\u001b[1;33m[\u001b[0m\u001b[0mparam_group\u001b[0m\u001b[1;33m]\u001b[0m\u001b[1;33m[\u001b[0m\u001b[0mparam_key\u001b[0m\u001b[1;33m]\u001b[0m\u001b[1;33m]\u001b[0m\u001b[1;33m)\u001b[0m \u001b[1;33m+\u001b[0m \u001b[0mrun_test\u001b[0m\u001b[1;33m(\u001b[0m\u001b[0mtest_case\u001b[0m\u001b[1;33m)\u001b[0m\u001b[1;33m)\u001b[0m\u001b[1;33m\u001b[0m\u001b[1;33m\u001b[0m\u001b[0m\n\u001b[0m\u001b[0;32m      9\u001b[0m \u001b[1;33m\u001b[0m\u001b[0m\n\u001b[0;32m     10\u001b[0m \u001b[0mend\u001b[0m \u001b[1;33m=\u001b[0m \u001b[0mtime\u001b[0m\u001b[1;33m(\u001b[0m\u001b[1;33m)\u001b[0m\u001b[1;33m\u001b[0m\u001b[1;33m\u001b[0m\u001b[0m\n",
      "\u001b[1;32m<ipython-input-12-c361e74c6bb4>\u001b[0m in \u001b[0;36mrun_test\u001b[1;34m(settings)\u001b[0m\n\u001b[0;32m     25\u001b[0m \u001b[1;33m\u001b[0m\u001b[0m\n\u001b[0;32m     26\u001b[0m             \u001b[0mstart\u001b[0m \u001b[1;33m=\u001b[0m \u001b[0mtime\u001b[0m\u001b[1;33m(\u001b[0m\u001b[1;33m)\u001b[0m\u001b[1;33m\u001b[0m\u001b[1;33m\u001b[0m\u001b[0m\n\u001b[1;32m---> 27\u001b[1;33m             \u001b[0mdf\u001b[0m\u001b[1;33m,\u001b[0m \u001b[0mfeatures\u001b[0m \u001b[1;33m=\u001b[0m \u001b[0malpha_runner\u001b[0m\u001b[1;33m(\u001b[0m\u001b[0msettings\u001b[0m\u001b[1;33m,\u001b[0m \u001b[0moverall_progress\u001b[0m \u001b[1;33m=\u001b[0m \u001b[0moverall_progress\u001b[0m\u001b[1;33m,\u001b[0m \u001b[0mcurrent_progress\u001b[0m \u001b[1;33m=\u001b[0m \u001b[0mcurrent_progress\u001b[0m\u001b[1;33m,\u001b[0m \u001b[0mCURRENT_TASK\u001b[0m \u001b[1;33m=\u001b[0m \u001b[0mdummy\u001b[0m\u001b[1;33m)\u001b[0m\u001b[1;33m\u001b[0m\u001b[1;33m\u001b[0m\u001b[0m\n\u001b[0m\u001b[0;32m     28\u001b[0m             \u001b[1;32mtry\u001b[0m\u001b[1;33m:\u001b[0m\u001b[1;33m\u001b[0m\u001b[1;33m\u001b[0m\u001b[0m\n\u001b[0;32m     29\u001b[0m                 \u001b[0mdf\u001b[0m\u001b[1;33m,\u001b[0m \u001b[0mfeatures\u001b[0m \u001b[1;33m=\u001b[0m \u001b[0malpha_runner\u001b[0m\u001b[1;33m(\u001b[0m\u001b[0msettings\u001b[0m\u001b[1;33m,\u001b[0m \u001b[0moverall_progress\u001b[0m \u001b[1;33m=\u001b[0m \u001b[0moverall_progress\u001b[0m\u001b[1;33m,\u001b[0m \u001b[0mcurrent_progress\u001b[0m \u001b[1;33m=\u001b[0m \u001b[0mcurrent_progress\u001b[0m\u001b[1;33m,\u001b[0m \u001b[0mCURRENT_TASK\u001b[0m \u001b[1;33m=\u001b[0m \u001b[0mdummy\u001b[0m\u001b[1;33m)\u001b[0m\u001b[1;33m\u001b[0m\u001b[1;33m\u001b[0m\u001b[0m\n",
      "\u001b[1;32mF:\\projects\\alphapept\\alphapept\\runner.py\u001b[0m in \u001b[0;36malpha_runner\u001b[1;34m(settings, overall_progress, current_progress, CURRENT_TASK)\u001b[0m\n\u001b[0;32m    287\u001b[0m         \u001b[0mlogging\u001b[0m\u001b[1;33m.\u001b[0m\u001b[0minfo\u001b[0m\u001b[1;33m(\u001b[0m\u001b[1;34m'Precursor Offset (PPM) is {:.2f} (mean), {:.2f} (std)'\u001b[0m\u001b[1;33m.\u001b[0m\u001b[0mformat\u001b[0m\u001b[1;33m(\u001b[0m\u001b[0mdf\u001b[0m\u001b[1;33m[\u001b[0m\u001b[1;34m'o_mass_ppm'\u001b[0m\u001b[1;33m]\u001b[0m\u001b[1;33m.\u001b[0m\u001b[0mmean\u001b[0m\u001b[1;33m(\u001b[0m\u001b[1;33m)\u001b[0m\u001b[1;33m,\u001b[0m \u001b[0mdf\u001b[0m\u001b[1;33m[\u001b[0m\u001b[1;34m'o_mass_ppm'\u001b[0m\u001b[1;33m]\u001b[0m\u001b[1;33m.\u001b[0m\u001b[0mstd\u001b[0m\u001b[1;33m(\u001b[0m\u001b[1;33m)\u001b[0m\u001b[1;33m)\u001b[0m\u001b[1;33m)\u001b[0m\u001b[1;33m\u001b[0m\u001b[1;33m\u001b[0m\u001b[0m\n\u001b[0;32m    288\u001b[0m         \u001b[1;34m'Calibrating MS1 spectra'\u001b[0m\u001b[1;33m\u001b[0m\u001b[1;33m\u001b[0m\u001b[0m\n\u001b[1;32m--> 289\u001b[1;33m         \u001b[0mfeatures_calib\u001b[0m\u001b[1;33m,\u001b[0m \u001b[0mdf_sub\u001b[0m \u001b[1;33m=\u001b[0m \u001b[0mget_calibration\u001b[0m\u001b[1;33m(\u001b[0m\u001b[0mdf\u001b[0m\u001b[1;33m,\u001b[0m \u001b[0mfeatures\u001b[0m\u001b[1;33m,\u001b[0m \u001b[1;33m**\u001b[0m\u001b[0msettings\u001b[0m\u001b[1;33m[\u001b[0m\u001b[1;34m\"calibration\"\u001b[0m\u001b[1;33m]\u001b[0m\u001b[1;33m)\u001b[0m\u001b[1;33m\u001b[0m\u001b[1;33m\u001b[0m\u001b[0m\n\u001b[0m\u001b[0;32m    290\u001b[0m \u001b[1;33m\u001b[0m\u001b[0m\n\u001b[0;32m    291\u001b[0m         \u001b[0mo_mass_ppm_mean\u001b[0m \u001b[1;33m=\u001b[0m \u001b[0mdf_sub\u001b[0m\u001b[1;33m[\u001b[0m\u001b[1;34m'o_mass_ppm_calib'\u001b[0m\u001b[1;33m]\u001b[0m\u001b[1;33m.\u001b[0m\u001b[0mmean\u001b[0m\u001b[1;33m(\u001b[0m\u001b[1;33m)\u001b[0m\u001b[1;33m\u001b[0m\u001b[1;33m\u001b[0m\u001b[0m\n",
      "\u001b[1;32mF:\\projects\\alphapept\\alphapept\\recalibration.py\u001b[0m in \u001b[0;36mget_calibration\u001b[1;34m(df, features, minimum_score, outlier_std, method, min_mz_step, min_rt_step, callback, **kwargs)\u001b[0m\n\u001b[0;32m     63\u001b[0m     \u001b[0mstep_y\u001b[0m \u001b[1;33m=\u001b[0m \u001b[0mrt_step\u001b[0m\u001b[1;33m\u001b[0m\u001b[1;33m\u001b[0m\u001b[0m\n\u001b[0;32m     64\u001b[0m \u001b[1;33m\u001b[0m\u001b[0m\n\u001b[1;32m---> 65\u001b[1;33m     \u001b[0mtx\u001b[0m \u001b[1;33m=\u001b[0m \u001b[0mnp\u001b[0m\u001b[1;33m.\u001b[0m\u001b[0marange\u001b[0m\u001b[1;33m(\u001b[0m\u001b[0mmin_x\u001b[0m\u001b[1;33m,\u001b[0m \u001b[0mmax_x\u001b[0m\u001b[1;33m,\u001b[0m \u001b[0mstep_x\u001b[0m\u001b[1;33m)\u001b[0m \u001b[1;31m#mz\u001b[0m\u001b[1;33m\u001b[0m\u001b[1;33m\u001b[0m\u001b[0m\n\u001b[0m\u001b[0;32m     66\u001b[0m     \u001b[0mty\u001b[0m \u001b[1;33m=\u001b[0m \u001b[0mnp\u001b[0m\u001b[1;33m.\u001b[0m\u001b[0marange\u001b[0m\u001b[1;33m(\u001b[0m\u001b[0mmin_y\u001b[0m\u001b[1;33m,\u001b[0m \u001b[0mmax_y\u001b[0m\u001b[1;33m,\u001b[0m \u001b[0mstep_y\u001b[0m\u001b[1;33m)\u001b[0m \u001b[1;31m#rt\u001b[0m\u001b[1;33m\u001b[0m\u001b[1;33m\u001b[0m\u001b[0m\n\u001b[0;32m     67\u001b[0m \u001b[1;33m\u001b[0m\u001b[0m\n",
      "\u001b[1;31mValueError\u001b[0m: arange: cannot compute length"
     ]
    }
   ],
   "source": [
    "if False:\n",
    "    import pandas as pd\n",
    "    from tqdm.notebook import tqdm as tqdm\n",
    "\n",
    "    report = []\n",
    "    start = time()\n",
    "    for test_case in tqdm(test_cases):\n",
    "\n",
    "        report.append(tuple([test_case[\"raw\"][\"raw_path_npz\"], test_case[param_group][param_key]]) + run_test(test_case))\n",
    "\n",
    "    end = time()\n",
    "\n",
    "    import pandas as pd\n",
    "\n",
    "    print('Integration test complete. Time elapsed {:.2f} hours'.format((end-start)/60/60))\n",
    "\n",
    "    columns = [_[1] for _ in return_bool_settings(test_case)]\n",
    "    columns.extend(['n_proteins', 'n_sequences', 'n_sequence_charges', 'time_minutes', 'error'])\n",
    "\n",
    "    pd.DataFrame(report, columns = columns)\n",
    "\n",
    "    print('Complete')"
   ]
  },
  {
   "cell_type": "code",
   "execution_count": null,
   "metadata": {},
   "outputs": [],
   "source": []
  }
 ],
 "metadata": {
  "kernelspec": {
   "display_name": "Python [conda env:alphap] *",
   "language": "python",
   "name": "conda-env-alphap-py"
  },
  "language_info": {
   "codemirror_mode": {
    "name": "ipython",
    "version": 3
   },
   "file_extension": ".py",
   "mimetype": "text/x-python",
   "name": "python",
   "nbconvert_exporter": "python",
   "pygments_lexer": "ipython3",
   "version": "3.8.1"
  }
 },
 "nbformat": 4,
 "nbformat_minor": 4
}
