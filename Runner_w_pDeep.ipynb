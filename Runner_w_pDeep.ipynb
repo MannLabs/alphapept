{
 "cells": [
  {
   "cell_type": "markdown",
   "metadata": {},
   "source": [
    "# Runner w. Machine Learning\n",
    "\n",
    "This notebook shows how to perform a AlphaPept run with Machine Learning, using pDeep 3:\n",
    "\n",
    "* Make sure the pdeep github repository is within the alphapept folder (https://github.com/pFindStudio/pDeep3)\n",
    "* alphapept\\pDeep3"
   ]
  },
  {
   "cell_type": "code",
   "execution_count": null,
   "metadata": {},
   "outputs": [],
   "source": [
    "from time import time\n",
    "%load_ext autoreload\n",
    "%autoreload 2"
   ]
  },
  {
   "cell_type": "code",
   "execution_count": null,
   "metadata": {},
   "outputs": [
    {
     "name": "stderr",
     "output_type": "stream",
     "text": [
      "C:\\Users\\admin\\.conda\\envs\\alphapept_pdeep\\lib\\site-packages\\tensorflow\\python\\framework\\dtypes.py:526: FutureWarning: Passing (type, 1) or '1type' as a synonym of type is deprecated; in a future version of numpy, it will be understood as (type, (1,)) / '(1,)type'.\n",
      "  _np_qint8 = np.dtype([(\"qint8\", np.int8, 1)])\n",
      "C:\\Users\\admin\\.conda\\envs\\alphapept_pdeep\\lib\\site-packages\\tensorflow\\python\\framework\\dtypes.py:527: FutureWarning: Passing (type, 1) or '1type' as a synonym of type is deprecated; in a future version of numpy, it will be understood as (type, (1,)) / '(1,)type'.\n",
      "  _np_quint8 = np.dtype([(\"quint8\", np.uint8, 1)])\n",
      "C:\\Users\\admin\\.conda\\envs\\alphapept_pdeep\\lib\\site-packages\\tensorflow\\python\\framework\\dtypes.py:528: FutureWarning: Passing (type, 1) or '1type' as a synonym of type is deprecated; in a future version of numpy, it will be understood as (type, (1,)) / '(1,)type'.\n",
      "  _np_qint16 = np.dtype([(\"qint16\", np.int16, 1)])\n",
      "C:\\Users\\admin\\.conda\\envs\\alphapept_pdeep\\lib\\site-packages\\tensorflow\\python\\framework\\dtypes.py:529: FutureWarning: Passing (type, 1) or '1type' as a synonym of type is deprecated; in a future version of numpy, it will be understood as (type, (1,)) / '(1,)type'.\n",
      "  _np_quint16 = np.dtype([(\"quint16\", np.uint16, 1)])\n",
      "C:\\Users\\admin\\.conda\\envs\\alphapept_pdeep\\lib\\site-packages\\tensorflow\\python\\framework\\dtypes.py:530: FutureWarning: Passing (type, 1) or '1type' as a synonym of type is deprecated; in a future version of numpy, it will be understood as (type, (1,)) / '(1,)type'.\n",
      "  _np_qint32 = np.dtype([(\"qint32\", np.int32, 1)])\n",
      "C:\\Users\\admin\\.conda\\envs\\alphapept_pdeep\\lib\\site-packages\\tensorflow\\python\\framework\\dtypes.py:535: FutureWarning: Passing (type, 1) or '1type' as a synonym of type is deprecated; in a future version of numpy, it will be understood as (type, (1,)) / '(1,)type'.\n",
      "  np_resource = np.dtype([(\"resource\", np.ubyte, 1)])\n"
     ]
    },
    {
     "name": "stdout",
     "output_type": "stream",
     "text": [
      "tensorflow version = 1.13.1\n"
     ]
    }
   ],
   "source": [
    "try:\n",
    "    from pDeep3.pDeep.cmd.tune_and_predict import get_prediction  \n",
    "except:\n",
    "    raise ModuleNotFoundError('pdeeep not correctly installed')"
   ]
  },
  {
   "cell_type": "markdown",
   "metadata": {},
   "source": [
    "## Logger"
   ]
  },
  {
   "cell_type": "code",
   "execution_count": null,
   "metadata": {},
   "outputs": [],
   "source": [
    "import sys\n",
    "import logging\n",
    "# Create logger\n",
    "logger = logging.getLogger()\n",
    "logger.setLevel(logging.INFO)\n",
    "\n",
    "# Create STDERR handler\n",
    "handler = logging.StreamHandler(sys.stderr)\n",
    "# ch.setLevel(logging.DEBUG)\n",
    "\n",
    "# Create formatter and add it to the handler\n",
    "formatter = logging.Formatter('%(asctime)s %(levelname)-s - %(message)s', \"%Y-%m-%d %H:%M:%S\")\n",
    "handler.setFormatter(formatter)\n",
    "\n",
    "# Set STDERR handler as the only handler \n",
    "logger.handlers = [handler]"
   ]
  },
  {
   "cell_type": "code",
   "execution_count": null,
   "metadata": {},
   "outputs": [],
   "source": [
    "#export\n",
    "import logging\n",
    "\n",
    "def check_enviroment():\n",
    "    import numba \n",
    "    if float('.'.join(numba.__version__.split('.')[0:2])) < 0.46:\n",
    "        raise RuntimeError('Numba version {} not sufficient'.format(numba.__version__))\n",
    "\n",
    "def check_settings(settings):\n",
    "\n",
    "    \"\"\"\n",
    "    Consistency check for settings.\n",
    "\n",
    "    \"\"\"\n",
    "    check_enviroment()\n",
    "    \n",
    "    logging.info('Checking raw path {}.'.format(settings[\"raw\"][\"raw_path\"]))\n",
    "\n",
    "    #Check if a valid raw file is provided. If a npz file is also provided do not convert\n",
    "    \n",
    "    if os.path.isfile(settings[\"raw\"][\"raw_path_npz\"]):\n",
    "        logging.info('NPZ for raw file present. Skipping conversion step.')\n",
    "        \n",
    "        datatype = 'npz'\n",
    "    else:\n",
    "        if os.path.isfile(settings[\"raw\"][\"raw_path\"]):\n",
    "            logging.info('Found raw but no NPZ present. Performing conversion step.')\n",
    "        elif os.path.isdir(settings[\"raw\"][\"raw_path\"]):\n",
    "            logging.info('Found raw but no NPZ present. Performing conversion step.')\n",
    "        else:\n",
    "            raise FileNotFoundError('Raw file {} and npz file {} not found'.format(settings['raw']['raw_path'], settings['raw']['raw_path_npz']))\n",
    "            \n",
    "            \n",
    "    #check filetype -> todo what if we have an npz but no irignal file\n",
    "    base, ext = os.path.splitext(settings[\"raw\"][\"raw_path\"])\n",
    "    \n",
    "    if ext == '.raw':\n",
    "        datatype='thermo'\n",
    "        settings['search']['m_offset'] = 20\n",
    "        settings['search']['m_tol'] = 20\n",
    "    elif ext == '.d':\n",
    "        datatype='bruker'\n",
    "        settings['search']['m_offset'] = 50\n",
    "        settings['search']['m_tol'] = 50\n",
    "    else:\n",
    "        raise NotImplementedError('File extension {} not understood.'.format(ext))\n",
    "\n",
    "    logging.info('Raw path okay.')\n",
    "\n",
    "    #Check library file\n",
    "    logging.info('Checking library path.')\n",
    "\n",
    "    if os.path.isfile(settings[\"fasta\"][\"library_path\"]):\n",
    "        logging.info('NPZ for library file present.')\n",
    "        \n",
    "        if settings[\"general\"][\"create_library\"]:\n",
    "            logging.info('Create_library set to True. Creating library from FASTA.')\n",
    "    else:\n",
    "        logging.info('No NPZ for library present. Creating library from FASTA.')\n",
    "        settings[\"general\"][\"create_library\"] = True\n",
    "        \n",
    "\n",
    "    logging.info('Library path okay.')\n",
    "    \n",
    "    \n",
    "    settings['general']['type'] = datatype\n",
    "\n",
    "    return settings"
   ]
  },
  {
   "cell_type": "code",
   "execution_count": null,
   "metadata": {},
   "outputs": [],
   "source": [
    "from time import time\n",
    "import numpy as np\n",
    "from alphapept.runner import alpha_runner\n",
    "from tqdm.notebook import tqdm as tqdm\n",
    "\n",
    "from alphapept.settings import load_settings\n",
    "\n",
    "settings = load_settings('default_settings.yaml')\n",
    "\n",
    "settings['fasta']['library_path'] = 'F:/rawdata/zz.database/uniprot_Human_reviewed_March_2019_manual.npz'\n",
    "settings['fasta']['fasta_path'] = 'F:/rawdata/zz.database/uniprot_Human_reviewed_March_2019_manual.fasta'\n",
    "settings['fasta']['contaminants_path'] = 'F:/projects/alphapept/contaminants.fasta'\n",
    "\n",
    "settings['raw']['raw_path_npz'] = 'F:/rawdata/04_hela_testrun/20190402_QX1_SeVW_MA_HeLa_500ng_LC11.npz'\n",
    "settings['raw']['raw_path'] = 'F:/rawdata/04_hela_testrun/20190402_QX1_SeVW_MA_HeLa_500ng_LC11.raw'\n",
    "\n",
    "settings['quantification']['max_lfq'] = False\n",
    "settings['misc']['match_between_runs'] = False\n",
    "settings['general']['find_features'] = False\n",
    "settings['general']['create_library'] = False\n",
    "settings['general']['convert_raw'] = False\n",
    "\n",
    "settings['search']['calibrate'] = False\n",
    "\n",
    "settings['general']['score'] = 'random_forest'\n"
   ]
  },
  {
   "cell_type": "code",
   "execution_count": null,
   "metadata": {},
   "outputs": [
    {
     "name": "stderr",
     "output_type": "stream",
     "text": [
      "F:\\projects\\alphapept\\alphapept\\constants.py:230: DeprecationWarning: invalid escape sequence \\w\n",
      "  protease_dict[\"asp-n\"] = \"\\w(?=D)\"\n",
      "F:\\projects\\alphapept\\alphapept\\constants.py:232: DeprecationWarning: invalid escape sequence \\w\n",
      "  protease_dict[\"caspase 1\"] = \"(?<=[FWYL]\\w[HAT])D(?=[^PEDQKR])\"\n",
      "F:\\projects\\alphapept\\alphapept\\constants.py:254: DeprecationWarning: invalid escape sequence \\w\n",
      "  protease_dict[\"ntcb\"] = \"\\w(?=C)\"\n",
      "F:\\projects\\alphapept\\alphapept\\constants.py:255: DeprecationWarning: invalid escape sequence \\w\n",
      "  protease_dict[\"pepsin ph1.3\"] = \"((?<=[^HKR][^P])[^R](?=[FL][^P]))|((?<=[^HKR][^P])[FL](?=\\w[^P]))\"\n",
      "F:\\projects\\alphapept\\alphapept\\constants.py:256: DeprecationWarning: invalid escape sequence \\w\n",
      "  protease_dict[\"pepsin ph2.0\"] = \"((?<=[^HKR][^P])[^R](?=[FLWY][^P]))|((?<=[^HKR][^P])[FLWY](?=\\w[^P]))\"\n",
      "2020-06-26 10:45:50 INFO - Checking raw path F:/rawdata/04_hela_testrun/20190402_QX1_SeVW_MA_HeLa_500ng_LC11.raw.\n",
      "2020-06-26 10:45:50 INFO - NPZ for raw file present. Skipping conversion step.\n",
      "2020-06-26 10:45:50 INFO - Raw path okay.\n",
      "2020-06-26 10:45:50 INFO - Checking library path.\n",
      "2020-06-26 10:45:50 INFO - NPZ for library file present.\n",
      "2020-06-26 10:45:50 INFO - Library path okay.\n",
      "2020-06-26 10:45:50 INFO - Using Features from raw data\n"
     ]
    },
    {
     "name": "stdout",
     "output_type": "stream",
     "text": [
      "Checking Settings\n"
     ]
    },
    {
     "name": "stderr",
     "output_type": "stream",
     "text": [
      "C:\\Users\\admin\\.conda\\envs\\alphapept_pdeep\\lib\\site-packages\\biopython-1.76-py3.7-win-amd64.egg\\Bio\\Alphabet\\__init__.py:26: PendingDeprecationWarning: We intend to remove or replace Bio.Alphabet in 2020, ideally avoid using it explicitly in your code. Please get in touch if you will be adversely affected by this. https://github.com/biopython/biopython/issues/2046\n",
      "  PendingDeprecationWarning)\n",
      "C:\\Users\\admin\\.conda\\envs\\alphapept_pdeep\\lib\\importlib\\_bootstrap.py:219: RuntimeWarning: numpy.ufunc size changed, may indicate binary incompatibility. Expected 192 from C header, got 216 from PyObject\n",
      "  return f(*args, **kwds)\n",
      "C:\\Users\\admin\\.conda\\envs\\alphapept_pdeep\\lib\\importlib\\_bootstrap.py:219: RuntimeWarning: numpy.ufunc size changed, may indicate binary incompatibility. Expected 192 from C header, got 216 from PyObject\n",
      "  return f(*args, **kwds)\n",
      "C:\\Users\\admin\\.conda\\envs\\alphapept_pdeep\\lib\\importlib\\_bootstrap.py:219: RuntimeWarning: numpy.ufunc size changed, may indicate binary incompatibility. Expected 192 from C header, got 216 from PyObject\n",
      "  return f(*args, **kwds)\n",
      "C:\\Users\\admin\\.conda\\envs\\alphapept_pdeep\\lib\\importlib\\_bootstrap.py:219: RuntimeWarning: numpy.ufunc size changed, may indicate binary incompatibility. Expected 192 from C header, got 216 from PyObject\n",
      "  return f(*args, **kwds)\n",
      "C:\\Users\\admin\\.conda\\envs\\alphapept_pdeep\\lib\\importlib\\_bootstrap.py:219: RuntimeWarning: numpy.ufunc size changed, may indicate binary incompatibility. Expected 192 from C header, got 216 from PyObject\n",
      "  return f(*args, **kwds)\n"
     ]
    },
    {
     "name": "stdout",
     "output_type": "stream",
     "text": [
      "Running first search.\n"
     ]
    },
    {
     "name": "stderr",
     "output_type": "stream",
     "text": [
      "2020-06-26 10:46:29 INFO - First search complete. Compared 59,901,139 spectra and found 257,566 psms.\n"
     ]
    },
    {
     "name": "stdout",
     "output_type": "stream",
     "text": [
      "Extracting columns for scoring.\n"
     ]
    },
    {
     "name": "stderr",
     "output_type": "stream",
     "text": [
      "2020-06-26 10:47:24 INFO - Extracted columns for 257,566 psms.\n"
     ]
    },
    {
     "name": "stdout",
     "output_type": "stream",
     "text": [
      "Complete\n"
     ]
    }
   ],
   "source": [
    "\"\"\"\n",
    "A wrapper function to run alphapept\n",
    "\"\"\"\n",
    "CURRENT_TASK = print\n",
    "overall_progress = None\n",
    "current_progress = None\n",
    "import os\n",
    "\n",
    "from functools import partial\n",
    "import pandas as pd\n",
    "\n",
    "#from alphapept.settings import check_settings\n",
    "\n",
    "#assumes the dict is ordered \n",
    "\n",
    "time_dict = {}\n",
    "\n",
    "timings = [10,15,20,20,20,15]\n",
    "total_time = 0\n",
    "for idx, element in enumerate(['library_generation', 'file_conversion', 'feature_finding', 'search', 'combining_files', 'reporting']):\n",
    "    time_dict[element] = {}\n",
    "    time_dict[element]['step'] = timings[idx]\n",
    "\n",
    "    total_time += timings[idx]\n",
    "    time_dict[element]['total'] = total_time\n",
    "\n",
    "\n",
    "def check_time_dict(time_dict):\n",
    "    \"\"\"\n",
    "    Function to check the validity of a time dict\n",
    "    \"\"\"\n",
    "\n",
    "    total_time = 0\n",
    "\n",
    "    for key in time_dict.keys():\n",
    "        total_time += time_dict[key]['step']\n",
    "\n",
    "    assert total_time == 100\n",
    "\n",
    "check_time_dict(time_dict)\n",
    "\n",
    "progress = 0\n",
    "\n",
    "def progress_wrapper(current, delta=1):\n",
    "    \"\"\"\n",
    "    Wrapper function to change the overall progress with the current progress\n",
    "    \"\"\"\n",
    "    global progress\n",
    "\n",
    "    if current_progress:\n",
    "        current_progress(current)\n",
    "\n",
    "    overall = progress + current*delta\n",
    "\n",
    "    if overall_progress:\n",
    "        overall_progress(overall)\n",
    "\n",
    "    if current == 1.0:\n",
    "        progress += delta\n",
    "\n",
    "def set_progress(overall):\n",
    "    global progress\n",
    "\n",
    "    if overall_progress:\n",
    "        overall_progress(overall)\n",
    "\n",
    "    progress = overall\n",
    "\n",
    "\n",
    "from alphapept.constants import mass_dict\n",
    "\n",
    "CURRENT_TASK('Checking Settings')\n",
    "settings = check_settings(settings)\n",
    "\n",
    "\n",
    "### Library Generation ###\n",
    "\n",
    "if settings[\"general\"][\"create_library\"]:\n",
    "    from alphapept.fasta import generate_library, generate_spectra, save_library\n",
    "\n",
    "    te = time_dict['library_generation']['step']\n",
    "    n_steps = 2\n",
    "\n",
    "    CURRENT_TASK('Digesting FASTA')\n",
    "    to_add, pept_dict, fasta_dict = generate_library(mass_dict, callback = partial(progress_wrapper, delta=1/n_steps*te), **settings['fasta'])\n",
    "    logging.info('Digested {:,} proteins and generated {:,} peptides'.format(len(fasta_dict), len(to_add)))\n",
    "\n",
    "    CURRENT_TASK('Generating Spectra')\n",
    "    spectra = generate_spectra(to_add, mass_dict, callback = partial(progress_wrapper, delta=1/n_steps*te))\n",
    "    logging.info('Generated {:,} spectra'.format(len(spectra)))\n",
    "\n",
    "    CURRENT_TASK('Saving library')\n",
    "\n",
    "    if settings['fasta']['library_path'] == '...':\n",
    "        logging.info('Library path not set. Trying to create library path from fasta files.')\n",
    "\n",
    "        if type(settings['fasta']['fasta_path']) is list:    \n",
    "            base_names = [os.path.splitext(os.path.split(_)[1])[0] for _ in settings['fasta']['fasta_path']]\n",
    "            base_path = os.path.split(settings['fasta']['fasta_path'][0])[0]\n",
    "            #TODO: build in error check for too long paths\n",
    "            settings['fasta']['library_path'] = os.path.join(base_path, '_'.join(base_names)+'.npz')\n",
    "\n",
    "        else:\n",
    "            base, ext = os.path.splitext(settings['fasta']['fasta_path'])\n",
    "            settings['fasta']['library_path'] = base + '.npz'\n",
    "\n",
    "        logging.info('Database path set to {}'.format(settings['fasta']['library_path']))\n",
    "\n",
    "    library_path = save_library(spectra, pept_dict, fasta_dict, **settings['fasta'])             \n",
    "    logging.info('Database saved to {}. Filesize {:.2f} Gb'.format(library_path, os.stat(library_path).st_size/(1024**3)))\n",
    "\n",
    "set_progress(time_dict['library_generation']['total'])\n",
    "### File Conversion ###\n",
    "\n",
    "if settings[\"general\"][\"convert_raw\"]:\n",
    "    te = time_dict['file_conversion']['step']\n",
    "\n",
    "    from alphapept.io import raw_to_npz\n",
    "\n",
    "    CURRENT_TASK('Converting raw files')\n",
    "    out_path = raw_to_npz(settings[\"raw\"], callback=partial(progress_wrapper, delta=te))\n",
    "    settings[\"raw\"][\"query_path\"] = out_path[0]\n",
    "    logging.info('Raw file(s) saved to {}'.format(out_path))\n",
    "else:\n",
    "    settings[\"raw\"][\"query_path\"] = settings[\"raw\"][\"raw_path_npz\"]\n",
    "\n",
    "db_data = np.load(settings[\"fasta\"][\"library_path\"], allow_pickle=True)\n",
    "query_data = np.load(settings[\"raw\"][\"query_path\"], allow_pickle=True)\n",
    "\n",
    "\n",
    "set_progress(time_dict['file_conversion']['total'])\n",
    "\n",
    "if settings[\"general\"][\"find_features\"]:\n",
    "\n",
    "    te = time_dict['feature_finding']['step']\n",
    "\n",
    "    # === Parallelization of Fature Finding\n",
    "\n",
    "    logging.info('Finding Features')\n",
    "\n",
    "    if settings[\"general\"]['type'] == 'thermo':\n",
    "\n",
    "        n_steps = 8\n",
    "\n",
    "        logging.info('Fature Finding for Thermo')\n",
    "        #Feature Finding Part\n",
    "\n",
    "        from alphapept.feature_finding import raw_to_centroid, get_hills, split_hills, filter_hills, get_hill_data, get_edges, get_isotope_patterns, feature_finder_report\n",
    "        from alphapept.constants import averagine_aa, isotopes\n",
    "\n",
    "\n",
    "        CURRENT_TASK('Converting centroids')\n",
    "        centroids = raw_to_centroid(query_data, callback=partial(progress_wrapper, delta=te*1/n_steps))\n",
    "        logging.info('Loaded {:,} centroids.'.format(len(centroids)))\n",
    "\n",
    "        CURRENT_TASK('Exctracting hills')\n",
    "        completed_hills = get_hills(centroids, callback=partial(progress_wrapper, delta=te*1/n_steps))\n",
    "        logging.info('A total of {:,} hills extracted. Average hill length {:.2f}'.format(len(completed_hills), np.mean([len(_) for _ in completed_hills])))\n",
    "\n",
    "        CURRENT_TASK('Splitting hills')\n",
    "        splitted_hills = split_hills(completed_hills, centroids, smoothing=1, callback=partial(progress_wrapper, delta=te*1/n_steps))\n",
    "        logging.info('Split {:,} hills into {:,} hills'.format(len(completed_hills), len(splitted_hills)))\n",
    "\n",
    "        CURRENT_TASK('Refining hills')\n",
    "        filtered_hills = filter_hills(splitted_hills, centroids, callback=partial(progress_wrapper, delta=te*1/n_steps))\n",
    "        logging.info('Filtered {:,} hills. Remaining {:,} hills'.format(len(splitted_hills), len(filtered_hills)))\n",
    "\n",
    "        CURRENT_TASK('Calculating hill statistics')\n",
    "        sorted_hills, sorted_stats, sorted_data = get_hill_data(filtered_hills, centroids, callback=partial(progress_wrapper, delta=te*1/n_steps))\n",
    "        logging.info('Extracting hill stats complete')\n",
    "\n",
    "        CURRENT_TASK('Connecting pre isotope patterns')\n",
    "        pre_isotope_patterns = get_edges(sorted_stats, sorted_data, callback=partial(progress_wrapper, delta=te*1/n_steps))\n",
    "        logging.info('Found {} pre isotope patterns.'.format(len(pre_isotope_patterns)))\n",
    "\n",
    "        CURRENT_TASK('Deisotope patterns')\n",
    "        isotope_patterns, isotope_charges = get_isotope_patterns(pre_isotope_patterns, sorted_stats, sorted_data, averagine_aa, isotopes, callback=partial(progress_wrapper, delta=te*1/n_steps))\n",
    "        logging.info('Extracted {} isotope patterns.'.format(len(isotope_patterns)))\n",
    "\n",
    "        CURRENT_TASK('Calculating feature statistics')\n",
    "        feature_table = feature_finder_report(isotope_patterns, isotope_charges, sorted_stats, sorted_data, sorted_hills, query_data, callback=partial(progress_wrapper, delta=te*1/n_steps))\n",
    "        logging.info('Report complete.')\n",
    "\n",
    "    elif settings[\"general\"]['type'] == 'bruker':\n",
    "\n",
    "        logging.info('Fature Finding for Bruker')\n",
    "        from alphapept.feature_finding import extract_bruker, convert_bruker\n",
    "\n",
    "        feature_path = extract_bruker(settings['raw']['raw_path'])\n",
    "        feature_table = convert_bruker(feature_path)\n",
    "\n",
    "        logging.info('Extracted {:,} features.'.format(len(feature_table)))\n",
    "\n",
    "    else:\n",
    "        raise NotImplementedError('Filetype {} not understood.'.format(settings[\"general\"][\"type\"]))\n",
    "\n",
    "    from alphapept.feature_finding import map_ms2\n",
    "    features = map_ms2(feature_table, query_data)\n",
    "\n",
    "else:\n",
    "    logging.info('Using Features from raw data')\n",
    "    from alphapept.search import query_data_to_features\n",
    "    features = query_data_to_features(query_data)\n",
    "\n",
    "\n",
    "set_progress(time_dict['feature_finding']['total'])\n",
    "\n",
    "### Search part ###\n",
    "\n",
    "## The search is parallelized -> we can run this one after another.\n",
    "\n",
    "# ==== Start looping through files\n",
    "\n",
    "te = time_dict['search']['step']\n",
    "n_steps = 2\n",
    "\n",
    "from alphapept.search import get_psms, get_score_columns\n",
    "from alphapept.score import score_x_tandem\n",
    "\n",
    "CURRENT_TASK('Running first search.')\n",
    "psms, num_specs_compared = get_psms(query_data, db_data, features, callback=partial(progress_wrapper, delta=te*1/n_steps), **settings[\"search\"])\n",
    "logging.info('First search complete. Compared {:,} spectra and found {:,} psms.'.format(num_specs_compared, len(psms)))\n",
    "\n",
    "CURRENT_TASK('Extracting columns for scoring.')\n",
    "psms, num_specs_scored = get_score_columns(psms, query_data, db_data, features, **settings[\"search\"])\n",
    "logging.info('Extracted columns for {:,} psms.'.format(num_specs_scored))\n",
    "\n",
    "\n",
    "if settings['search']['calibrate']:\n",
    "    CURRENT_TASK('Calibrating features.')\n",
    "\n",
    "    CURRENT_TASK('Scoring psms.')\n",
    "    df = score_x_tandem(pd.DataFrame(psms), plot=False, verbose=False, **settings[\"search\"])\n",
    "    logging.info('Scoring complete. For {} FDR found {:,} targets and {:,} decoys.'.format(settings[\"search\"][\"peptide_fdr\"], df['target'].sum(), df['decoy'].sum()) )\n",
    "\n",
    "    from alphapept.recalibration import get_calibration\n",
    "\n",
    "    logging.info('Precursor Offset (PPM) is {:.2f} (mean), {:.2f} (std)'.format(df['o_mass_ppm'].mean(), df['o_mass_ppm'].std()))\n",
    "    'Calibrating MS1 spectra'\n",
    "    features_calib, df_sub = get_calibration(df, features, **settings[\"calibration\"])\n",
    "\n",
    "    o_mass_ppm_mean = df_sub['o_mass_ppm_calib'].mean()\n",
    "    o_mass_ppm_std = df_sub['o_mass_ppm_calib'].std()\n",
    "\n",
    "    logging.info('Calibration complete. Precursor Offset (PPM) is {:.2f} (mean), {:.2f} (std)'.format(o_mass_ppm_mean, o_mass_ppm_std))\n",
    "\n",
    "    logging.info('Adjusting search bound to {:.2f} ppm.'.format(3*o_mass_ppm_std))\n",
    "\n",
    "    settings[\"search\"][\"m_offset_calibrated\"] = float(3*o_mass_ppm_std)\n",
    "\n",
    "    CURRENT_TASK('Running second search.')\n",
    "    psms, num_specs_compared = get_psms(query_data, db_data, features_calib, callback=partial(progress_wrapper, delta=te*1/n_steps), **settings[\"search\"])\n",
    "    logging.info('Second search complete. Compared {:,} spectra and found {:,} psms.'.format(num_specs_compared, len(psms)))\n",
    "\n",
    "    CURRENT_TASK('Extracting columns for scoring.')\n",
    "    psms, num_specs_scored = get_score_columns(psms, query_data, db_data, features_calib, **settings[\"search\"])\n",
    "    logging.info('Extracted columns for {:,} psms.'.format(num_specs_scored))\n",
    "\n",
    "\n",
    "## Protein Groups and FDR control\n",
    "\n",
    "\n",
    "set_progress(time_dict['search']['total'])\n",
    "\n",
    "set_progress(time_dict['combining_files']['total'])\n",
    "\n",
    "print('Complete')"
   ]
  },
  {
   "cell_type": "markdown",
   "metadata": {},
   "source": [
    "## Prediction Part\n",
    "* Use sequences and charges from psms\n",
    "* modifications are not considered yet"
   ]
  },
  {
   "cell_type": "code",
   "execution_count": null,
   "metadata": {},
   "outputs": [
    {
     "name": "stderr",
     "output_type": "stream",
     "text": [
      "2020-06-26 10:47:25 INFO - Note: NumExpr detected 24 cores but \"NUMEXPR_MAX_THREADS\" not set, so enforcing safe limit of 8.\n",
      "2020-06-26 10:47:25 INFO - NumExpr defaulting to 8 threads.\n"
     ]
    },
    {
     "name": "stdout",
     "output_type": "stream",
     "text": [
      "WARNING:tensorflow:From C:\\Users\\admin\\.conda\\envs\\alphapept_pdeep\\lib\\site-packages\\tensorflow\\python\\training\\saver.py:1266: checkpoint_exists (from tensorflow.python.training.checkpoint_management) is deprecated and will be removed in a future version.\n",
      "Instructions for updating:\n",
      "Use standard file APIs to check for files with this prefix.\n"
     ]
    },
    {
     "name": "stderr",
     "output_type": "stream",
     "text": [
      "2020-06-26 10:47:31 WARNING - From C:\\Users\\admin\\.conda\\envs\\alphapept_pdeep\\lib\\site-packages\\tensorflow\\python\\training\\saver.py:1266: checkpoint_exists (from tensorflow.python.training.checkpoint_management) is deprecated and will be removed in a future version.\n",
      "Instructions for updating:\n",
      "Use standard file APIs to check for files with this prefix.\n"
     ]
    },
    {
     "name": "stdout",
     "output_type": "stream",
     "text": [
      "INFO:tensorflow:Restoring parameters from F:/projects/alphapept/pDeep3/tmp/model/pretrain-180921-modloss-mod8D.ckpt\n"
     ]
    },
    {
     "name": "stderr",
     "output_type": "stream",
     "text": [
      "2020-06-26 10:47:31 INFO - Restoring parameters from F:/projects/alphapept/pDeep3/tmp/model/pretrain-180921-modloss-mod8D.ckpt\n"
     ]
    },
    {
     "name": "stdout",
     "output_type": "stream",
     "text": [
      "INFO:tensorflow:Restoring parameters from F:/projects/alphapept/pDeep3/tmp/model/RT-model.ckpt\n"
     ]
    },
    {
     "name": "stderr",
     "output_type": "stream",
     "text": [
      "2020-06-26 10:47:31 INFO - Restoring parameters from F:/projects/alphapept/pDeep3/tmp/model/RT-model.ckpt\n"
     ]
    },
    {
     "name": "stdout",
     "output_type": "stream",
     "text": [
      "[pDeep Info] loading peptides ...\n",
      "[pDeep Info] predicting ...\n",
      "[pDeep Info] predicted 212499 peptide precursors using 203.267 seconds\n",
      "[pDeep Info] predicting time = 203.269s\n",
      "[pDeep Info] predicting RT ...\n",
      "[pDeep Info] predicted 212499 peptide precursors (RT) using 63.415 seconds\n",
      "[pDeep Info] predicting time = 63.417s\n"
     ]
    }
   ],
   "source": [
    "from pDeep3.pDeep.cmd.tune_and_predict import get_prediction\n",
    "df = pd.DataFrame(psms)\n",
    "from alphapept.score import get_ML_features\n",
    "df = get_ML_features(df, **settings['fasta'])\n",
    "\n",
    "seqs = df['naked_sequence'].values\n",
    "charges = df['charge'].values.astype('int')\n",
    "mods = ['' for _ in range(len(charges))]\n",
    "\n",
    "tuple_list = list(zip(seqs, mods, charges))\n",
    "\n",
    "input_peptides = tuple_list\n",
    "ion_types = ['b','y']\n",
    "prediction = get_prediction(input_peptides) # no fine-tuning\n",
    "ion_indices, used_ion_types = prediction.GetIonTypeIndices(ion_types)"
   ]
  },
  {
   "cell_type": "markdown",
   "metadata": {},
   "source": [
    "## CCS prediction part\n",
    "\n",
    "* one way would be to look up the sequence and then add the predicted ccs values"
   ]
  },
  {
   "cell_type": "markdown",
   "metadata": {},
   "source": [
    "## Changes to db data\n",
    "\n",
    "* create a list with db_intensities that can be used in search.py\n",
    "* in search.py, we use the function intensity_product\n",
    "* the funtioin intensity_product uses the following formula: matched_intensity = np.sum(matched_query_int*matched_db_int)\n",
    "* this is potentially not beneficial as high intensity ions will dominate, maybe the log of the ratios would be better"
   ]
  },
  {
   "cell_type": "code",
   "execution_count": null,
   "metadata": {},
   "outputs": [
    {
     "name": "stderr",
     "output_type": "stream",
     "text": [
      "100%|███████████████████████████████████████████████████████████████████████| 257566/257566 [00:18<00:00, 13881.70it/s]\n"
     ]
    }
   ],
   "source": [
    "db_data_old = db_data\n",
    "\n",
    "db_data = {}\n",
    "\n",
    "for _ in db_data_old.files:\n",
    "    \n",
    "    db_data[_] = db_data_old[_]\n",
    "    \n",
    "from alphapept.fasta import get_fragmass, parse\n",
    "from alphapept.constants import mass_dict\n",
    "\n",
    "db_data = {}\n",
    "\n",
    "for _ in db_data_old.files:\n",
    "    \n",
    "    db_data[_] = db_data_old[_]\n",
    "    \n",
    "    \n",
    "from tqdm import tqdm as tqdm\n",
    "db_ints = []\n",
    "\n",
    "for _ in tqdm(input_peptides):\n",
    "    \n",
    "    fragmasses, fragtypes = get_fragmass(parse(_[0]), mass_dict)\n",
    "    sortindex = np.argsort(fragmasses) #b then y\n",
    "    \n",
    "    n_idx = int(len(fragmasses)/2)\n",
    "    \n",
    "    b_ = np.zeros(n_idx)\n",
    "    y_ = np.zeros(n_idx)\n",
    "    \n",
    "    pred = prediction.GetIntensitiesByIndices(*_, ion_indices)\n",
    "    \n",
    "    b_[:len(pred[:,0])] = pred[:,0]\n",
    "    y_[:len(pred[:,2])] = pred[:,2]\n",
    "    \n",
    "    db_ints.append(np.array([b_,y_]).flatten()[sortindex])\n",
    "    \n",
    "db_data['db_ints'] = db_ints"
   ]
  },
  {
   "cell_type": "code",
   "execution_count": null,
   "metadata": {},
   "outputs": [
    {
     "name": "stdout",
     "output_type": "stream",
     "text": [
      "Extracting columns for scoring.\n"
     ]
    },
    {
     "name": "stderr",
     "output_type": "stream",
     "text": [
      "C:\\Users\\admin\\.conda\\envs\\alphapept_pdeep\\lib\\site-packages\\numba-0.48.0-py3.7-win-amd64.egg\\numba\\ir_utils.py:2041: NumbaPendingDeprecationWarning: \u001b[1m\n",
      "Encountered the use of a type that is scheduled for deprecation: type 'reflected list' found for argument 'db_ints' of function 'score_parallel'.\n",
      "\n",
      "For more information visit http://numba.pydata.org/numba-doc/latest/reference/deprecation.html#deprecation-of-reflection-for-list-and-set-types\n",
      "\u001b[1m\n",
      "File \"alphapept\\search.py\", line 474:\u001b[0m\n",
      "\u001b[1m@njit(parallel=True)\n",
      "\u001b[1mdef score_parallel(\n",
      "\u001b[0m\u001b[1m^\u001b[0m\u001b[0m\n",
      "\u001b[0m\n",
      "  warnings.warn(NumbaPendingDeprecationWarning(msg, loc=loc))\n",
      "C:\\Users\\admin\\.conda\\envs\\alphapept_pdeep\\lib\\site-packages\\numba-0.48.0-py3.7-win-amd64.egg\\numba\\ir_utils.py:2041: NumbaPendingDeprecationWarning: \u001b[1m\n",
      "Encountered the use of a type that is scheduled for deprecation: type 'reflected list' found for argument 'db__ints' of function '__numba_parfor_gufunc_0x1b20eedafc8'.\n",
      "\n",
      "For more information visit http://numba.pydata.org/numba-doc/latest/reference/deprecation.html#deprecation-of-reflection-for-list-and-set-types\n",
      "\u001b[1m\n",
      "File \"<string>\", line 1:\u001b[0m\n",
      "\u001b[1m<source missing, REPL/exec in use?>\u001b[0m\n",
      "\u001b[0m\n",
      "  warnings.warn(NumbaPendingDeprecationWarning(msg, loc=loc))\n",
      "2020-06-26 10:53:51 INFO - Extracted columns for 257,566 psms.\n"
     ]
    }
   ],
   "source": [
    "CURRENT_TASK('Extracting columns for scoring.')\n",
    "psms, num_specs_scored = get_score_columns(psms, query_data, db_data, features, **settings[\"search\"])\n",
    "logging.info('Extracted columns for {:,} psms.'.format(num_specs_scored))"
   ]
  },
  {
   "cell_type": "code",
   "execution_count": null,
   "metadata": {},
   "outputs": [
    {
     "name": "stdout",
     "output_type": "stream",
     "text": [
      "Scoring\n"
     ]
    },
    {
     "name": "stderr",
     "output_type": "stream",
     "text": [
      "F:\\projects\\alphapept\\alphapept\\score.py:197: RuntimeWarning: divide by zero encountered in log\n",
      "  x_tandem = np.log(b.astype('float')*y.astype('float')*df['matched_int'].values)\n"
     ]
    },
    {
     "name": "stdout",
     "output_type": "stream",
     "text": [
      "57,609 target (576 decoy) of 74953 PSM. fdr 0.009998 for a cutoff of 19.64 \n"
     ]
    },
    {
     "data": {
      "image/png": "[encoded data removed]",
      "text/plain": [
       "<Figure size 720x360 with 1 Axes>"
      ]
     },
     "metadata": {
      "needs_background": "light"
     },
     "output_type": "display_data"
    },
    {
     "data": {
      "image/png": "[encoded data removed]",
      "text/plain": [
       "<Figure size 720x360 with 1 Axes>"
      ]
     },
     "metadata": {
      "needs_background": "light"
     },
     "output_type": "display_data"
    },
    {
     "name": "stderr",
     "output_type": "stream",
     "text": [
      "2020-06-26 10:53:58 INFO - First FDR Cut Scoring peptides complete. For 0.01 FDR found 57,609 targets and 576 decoys.\n"
     ]
    },
    {
     "name": "stdout",
     "output_type": "stream",
     "text": [
      "FDR control on peptides\n",
      "49,163 target (491 decoy) of 50627 PSM. fdr 0.009987 for a cutoff of 19.89 \n"
     ]
    },
    {
     "data": {
      "image/png": "[encoded data removed]",
      "text/plain": [
       "<Figure size 720x360 with 1 Axes>"
      ]
     },
     "metadata": {
      "needs_background": "light"
     },
     "output_type": "display_data"
    },
    {
     "data": {
      "image/png": "[encoded data removed]",
      "text/plain": [
       "<Figure size 720x360 with 1 Axes>"
      ]
     },
     "metadata": {
      "needs_background": "light"
     },
     "output_type": "display_data"
    },
    {
     "name": "stderr",
     "output_type": "stream",
     "text": [
      "2020-06-26 10:53:59 INFO - Scoring peptides complete. For 0.01 FDR found 56,717 targets and 493 decoys.\n"
     ]
    },
    {
     "name": "stdout",
     "output_type": "stream",
     "text": [
      "Perform protein grouping\n",
      "6,025 target (60 decoy) of 7846 PSM. fdr 0.009959 for a cutoff of 22.76 \n"
     ]
    },
    {
     "data": {
      "image/png": "[encoded data removed]",
      "text/plain": [
       "<Figure size 720x360 with 1 Axes>"
      ]
     },
     "metadata": {
      "needs_background": "light"
     },
     "output_type": "display_data"
    },
    {
     "data": {
      "image/png": "[encoded data removed]",
      "text/plain": [
       "<Figure size 720x360 with 1 Axes>"
      ]
     },
     "metadata": {
      "needs_background": "light"
     },
     "output_type": "display_data"
    },
    {
     "name": "stderr",
     "output_type": "stream",
     "text": [
      "2020-06-26 10:54:27 INFO - Scoring proteins complete. For 0.01 FDR found 55,177 targets and 68 decoys. A total of 6,062 proteins found.\n"
     ]
    },
    {
     "name": "stdout",
     "output_type": "stream",
     "text": [
      "Saving.\n"
     ]
    },
    {
     "name": "stderr",
     "output_type": "stream",
     "text": [
      "2020-06-26 10:54:29 INFO - Saved to F:/rawdata/04_hela_testrun/20190402_QX1_SeVW_MA_HeLa_500ng_LC11_ap.csv\n",
      "2020-06-26 10:54:29 INFO - Settings saved to F:/rawdata/04_hela_testrun/20190402_QX1_SeVW_MA_HeLa_500ng_LC11_ap_ml.yaml\n"
     ]
    },
    {
     "name": "stdout",
     "output_type": "stream",
     "text": [
      "Complete.\n"
     ]
    }
   ],
   "source": [
    "import matplotlib\n",
    "%matplotlib inline\n",
    "\n",
    "from alphapept.score import cut_global_fdr, perform_protein_grouping, cut_global_fdr, get_x_tandem_score, filter_score, cut_fdr\n",
    "\n",
    "CURRENT_TASK('Scoring')\n",
    "\n",
    "settings[\"general\"][\"score\"] = 'x_tandem'\n",
    "df = pd.DataFrame(psms)\n",
    "\n",
    "from alphapept.score import get_ML_features\n",
    "\n",
    "df = get_ML_features(df, **settings['fasta'])\n",
    "\n",
    "if settings[\"general\"][\"score\"] == 'random_forest':\n",
    "    from alphapept.score import train_RF, score_ML\n",
    "    cv = train_RF(df)\n",
    "    df = score_ML(df, cv)\n",
    "elif settings[\"general\"][\"score\"] == 'x_tandem':\n",
    "    from alphapept.score import score_x_tandem\n",
    "    df = score_x_tandem(df)\n",
    "else:\n",
    "    raise NotImplementedError('Scoring method {} not implemented.'.format(settings[\"general\"][\"score\"]))\n",
    "#df = cut_fdr(df, fdr_level=0.01, plot=False, verbose=False)\n",
    "logging.info('First FDR Cut Scoring peptides complete. For {} FDR found {:,} targets and {:,} decoys.'.format(settings[\"search\"][\"peptide_fdr\"], df['target'].sum(), df['decoy'].sum()) )\n",
    "\n",
    "\n",
    "# ==== End looping through files and collection of dataframes\n",
    "CURRENT_TASK('FDR control on peptides')\n",
    "df = cut_global_fdr(df, analyte_level='sequence',  plot=True, verbose=True)\n",
    "logging.info('Scoring peptides complete. For {} FDR found {:,} targets and {:,} decoys.'.format(settings[\"search\"][\"peptide_fdr\"], df['target'].sum(), df['decoy'].sum()) )\n",
    "\n",
    "CURRENT_TASK('Perform protein grouping')\n",
    "df = perform_protein_grouping(df, db_data['pept_dict'].item(), db_data['fasta_dict'].item())\n",
    "df = cut_global_fdr(df, analyte_level='protein',  plot=True, verbose=True)\n",
    "logging.info('Scoring proteins complete. For {} FDR found {:,} targets and {:,} decoys. A total of {:,} proteins found.'.format(settings[\"search\"][\"protein_fdr\"], df['target'].sum(), df['decoy'].sum(), len(set(df['protein']))))\n",
    "\n",
    "## Quantification\n",
    "if settings[\"quantification\"][\"max_lfq\"]:\n",
    "    raise NotImplementedError(\"MaxLFQ not implemented yet.\")\n",
    "\n",
    "## Misc\n",
    "if settings[\"misc\"][\"match_between_runs\"]:\n",
    "    raise NotImplementedError(\"Match beween runs not implemented yet.\")\n",
    "\n",
    "CURRENT_TASK('Saving.')\n",
    "\n",
    "base, ext = os.path.splitext(settings['raw']['query_path'])\n",
    "out_path = base+'_ap.csv'\n",
    "df.to_csv(out_path, index = False)\n",
    "logging.info('Saved to {}'.format(out_path))\n",
    "\n",
    "import yaml\n",
    "\n",
    "out_path_settings = base+'_ap_ml.yaml'\n",
    "\n",
    "with open(out_path_settings, 'w') as file:\n",
    "    yaml.dump(settings, file)\n",
    "\n",
    "logging.info('Settings saved to {}'.format(out_path_settings))\n",
    "\n",
    "set_progress(time_dict['reporting']['total'])\n",
    "\n",
    "CURRENT_TASK('Complete.')"
   ]
  }
 ],
 "metadata": {
  "kernelspec": {
   "display_name": "Python [conda env:.conda-alphapept_pdeep]",
   "language": "python",
   "name": "conda-env-.conda-alphapept_pdeep-py"
  }
 },
 "nbformat": 4,
 "nbformat_minor": 2
}
