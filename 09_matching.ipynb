{
 "cells": [
  {
   "cell_type": "code",
   "execution_count": null,
   "metadata": {},
   "outputs": [],
   "source": [
    "# default_exp matching"
   ]
  },
  {
   "cell_type": "markdown",
   "metadata": {},
   "source": [
    "# Matching\n",
    "\n",
    "> Functions related to matching"
   ]
  },
  {
   "cell_type": "markdown",
   "metadata": {},
   "source": [
    "This notebook contains all functions related to matching.\n",
    "\n",
    "Current ToDo here:\n",
    "\n",
    "- Move the current Code to here"
   ]
  },
  {
   "cell_type": "markdown",
   "metadata": {},
   "source": [
    "## Matching MS1 to MS2\n",
    "\n",
    "Matching MS1 features to MS2 spectra"
   ]
  },
  {
   "cell_type": "code",
   "execution_count": 6,
   "metadata": {},
   "outputs": [],
   "source": [
    "#export\n",
    "\n",
    "from sklearn.neighbors import KDTree\n",
    "import pandas as pd\n",
    "import numpy as np\n",
    "\n",
    "\n",
    "def match_ms2(feature_table, query_data, ppm_range = 20, rt_range = 0.5, n_neighbors=3):\n",
    "    \"\"\"\n",
    "    Match MS1 features to MS2 based on rt and mz\n",
    "    \"\"\"\n",
    "    tree_points = feature_table[['mz','rt_apex']].values\n",
    "\n",
    "    tree_points[:,0] = np.log(tree_points[:,0])*1e6/ppm_range #m/z -> log transform, this is in ppm then\n",
    "    tree_points[:,1] = tree_points[:,1]/rt_range # -> this is in minutes\n",
    "\n",
    "    matching_tree = KDTree(tree_points, metric=\"minkowski\")\n",
    "\n",
    "    query_mz = np.log(query_data['mono_mzs2'])*1e6/ppm_range  \n",
    "    query_rt = query_data['rt_list_ms2'] / rt_range\n",
    "\n",
    "    ref_points = np.array([query_mz, query_rt]).T\n",
    "\n",
    "    ref_points[ref_points == -np.inf] = 0\n",
    "    ref_points[ref_points == np.inf] = 0\n",
    "\n",
    "    dist, idx = matching_tree.query(ref_points, k=n_neighbors)    \n",
    "\n",
    "    all_df = []\n",
    "    for neighbor in range(n_neighbors):\n",
    "        ref_df = pd.DataFrame(np.array([query_data['rt_list_ms2'], query_data['prec_mass_list2'], query_data['mono_mzs2'], query_data['charge2']]).T, columns=['rt', 'mass', 'mz', 'charge'])\n",
    "\n",
    "        ref_df['mass_matched'] = feature_table.iloc[idx[:,neighbor]]['mass'].values\n",
    "        ref_df['mass_offset'] = ref_df['mass_matched'] - ref_df['mass']\n",
    "\n",
    "        ref_df['rt_matched'] = feature_table.iloc[idx[:,neighbor]]['rt_apex'].values\n",
    "        ref_df['rt_offset'] = ref_df['rt_matched'] - ref_df['rt']\n",
    "        \n",
    "        ref_df['mz_matched'] = feature_table.iloc[idx[:,neighbor]]['mz'].values\n",
    "        ref_df['mz_offset'] = ref_df['mz_matched'] - ref_df['mz']\n",
    "\n",
    "        ref_df['charge_matched'] = feature_table.iloc[idx[:,neighbor]]['charge'].values\n",
    "\n",
    "        ref_df['query_idx'] = ref_df.index\n",
    "        ref_df['feature_idx'] = idx[:,neighbor]\n",
    "\n",
    "        ref_df['int_apex'] = feature_table.iloc[idx[:,neighbor]]['int_apex'].values\n",
    "        ref_df['int_sum'] = feature_table.iloc[idx[:,neighbor]]['int_sum'].values\n",
    "\n",
    "        ref_df['dist'] = dist[:,neighbor]\n",
    "\n",
    "        ref_df = ref_df[ref_df['dist']<1]\n",
    "\n",
    "        all_df.append(ref_df)\n",
    "\n",
    "    features = pd.concat(all_df)\n",
    "    \n",
    "    features = features.sort_values('mass_matched', ascending=True)\n",
    "    features = features.reset_index(drop=True)\n",
    "    \n",
    "    return features"
   ]
  },
  {
   "cell_type": "code",
   "execution_count": null,
   "metadata": {},
   "outputs": [],
   "source": [
    "#hide\n",
    "from nbdev.showdoc import *"
   ]
  },
  {
   "cell_type": "code",
   "execution_count": null,
   "metadata": {},
   "outputs": [
    {
     "name": "stdout",
     "output_type": "stream",
     "text": [
      "Converted 01_chem.ipynb.\n",
      "Converted 02_io.ipynb.\n",
      "Converted 03_fasta.ipynb.\n",
      "Converted 04_feature_finding.ipynb.\n",
      "Converted 05_search.ipynb.\n",
      "Converted 06_score.ipynb.\n",
      "Converted 07_recalibration.ipynb.\n",
      "Converted 08_quantification.ipynb.\n",
      "Converted 09_matching.ipynb.\n",
      "Converted 10_constants.ipynb.\n",
      "Converted 11_settings.ipynb.\n",
      "Converted 12_settings_template.ipynb.\n",
      "Converted index.ipynb.\n",
      "Converted MaxQuant Comparison.ipynb.\n",
      "Converted MaxQuant Comparison_v2.ipynb.\n",
      "Converted Runner.ipynb.\n"
     ]
    }
   ],
   "source": [
    "#hide\n",
    "from nbdev.export import *\n",
    "notebook2script()"
   ]
  }
 ],
 "metadata": {
  "kernelspec": {
   "display_name": "Python 3",
   "language": "python",
   "name": "python3"
  },
  "language_info": {
   "codemirror_mode": {
    "name": "ipython",
    "version": 3
   },
   "file_extension": ".py",
   "mimetype": "text/x-python",
   "name": "python",
   "nbconvert_exporter": "python",
   "pygments_lexer": "ipython3",
   "version": "3.7.3"
  }
 },
 "nbformat": 4,
 "nbformat_minor": 2
}
