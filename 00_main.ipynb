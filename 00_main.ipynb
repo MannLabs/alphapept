{
 "cells": [
  {
   "cell_type": "code",
   "execution_count": 1,
   "metadata": {},
   "outputs": [],
   "source": [
    "# default_exp main"
   ]
  },
  {
   "cell_type": "markdown",
   "metadata": {},
   "source": [
    "# Main\n",
    "\n",
    "> This module defines the command line of AlphaPept"
   ]
  },
  {
   "cell_type": "markdown",
   "metadata": {},
   "source": [
    "Current ToDo here:\n",
    "\n",
    "- Finish AlphaPept Notebook and build CLI with argparse\n",
    "- Think of distinction betwwen core and main - as this is an interface should it be at the end?"
   ]
  },
  {
   "cell_type": "code",
   "execution_count": 2,
   "metadata": {},
   "outputs": [],
   "source": [
    "#hide\n",
    "from nbdev.showdoc import *"
   ]
  },
  {
   "cell_type": "markdown",
   "metadata": {},
   "source": [
    "## Argparse\n",
    "\n",
    "We define an argparse cmd interface to have arguments to pass to the AlphaPept Runner."
   ]
  },
  {
   "cell_type": "code",
   "execution_count": 3,
   "metadata": {},
   "outputs": [
    {
     "name": "stdout",
     "output_type": "stream",
     "text": [
      "\n",
      "\n",
      "     ___    __      __          ____             __ \n",
      "    /   |  / /___  / /_  ____ _/ __ \\___  ____  / /_\n",
      "   / /| | / / __ \\/ __ \\/ __ \\/ /_/ / _ \\/ __ \\/ __/\n",
      "  / ___ |/ / /_/ / / / / /_/ / ____/  __/ /_/ / /_  \n",
      " /_/  |_/_/ .___/_/ /_/\\__,_/_/    \\___/ .___/\\__/  \n",
      "         /_/                          /_/           \n",
      "\n",
      "\n",
      "AlphaPept 0.0.1\n",
      "Mann Labs\n",
      "\n",
      "\n"
     ]
    },
    {
     "name": "stderr",
     "output_type": "stream",
     "text": [
      "usage: alphapept [-h] {gui,sampledb} ...\n",
      "alphapept: error: argument command: invalid choice: '/Users/mstrauss/Library/Jupyter/runtime/kernel-4703bfe9-40b3-4b4e-8848-2e56061316e6.json' (choose from 'gui', 'sampledb')\n"
     ]
    },
    {
     "ename": "SystemExit",
     "evalue": "2",
     "output_type": "error",
     "traceback": [
      "An exception has occurred, use %tb to see the full traceback.\n",
      "\u001b[0;31mSystemExit\u001b[0m\u001b[0;31m:\u001b[0m 2\n"
     ]
    },
    {
     "name": "stderr",
     "output_type": "stream",
     "text": [
      "/Users/mstrauss/anaconda3/lib/python3.7/site-packages/IPython/core/interactiveshell.py:3334: UserWarning: To exit: use 'exit', 'quit', or Ctrl-D.\n",
      "  warn(\"To exit: use 'exit', 'quit', or Ctrl-D.\", stacklevel=1)\n"
     ]
    }
   ],
   "source": [
    "#export\n",
    "version = \"0.0.1\"\n",
    "\n",
    "def alphapept_screen(version):\n",
    "    \"\"\"\n",
    "    Prints an Ascii-Art logo and version number\n",
    "    \"\"\"\n",
    "    project_name = \"AlphaPept\" + \" \" + version\n",
    "    \n",
    "    print(\"\\n\")\n",
    "    print(r\"     ___    __      __          ____             __ \")\n",
    "    print(r\"    /   |  / /___  / /_  ____ _/ __ \\___  ____  / /_\")\n",
    "    print(r\"   / /| | / / __ \\/ __ \\/ __ \\/ /_/ / _ \\/ __ \\/ __/\")\n",
    "    print(r\"  / ___ |/ / /_/ / / / / /_/ / ____/  __/ /_/ / /_  \")\n",
    "    print(r\" /_/  |_/_/ .___/_/ /_/\\__,_/_/    \\___/ .___/\\__/  \")\n",
    "    print(r\"         /_/                          /_/           \")\n",
    "    print(\"\\n\")\n",
    "    print(project_name)\n",
    "    print('Mann Labs')\n",
    "    print(\"\\n\")\n",
    "    \n",
    "    \n",
    "    \n",
    "def main():\n",
    "\n",
    "    import argparse\n",
    "\n",
    "    # Main parser\n",
    "    parser = argparse.ArgumentParser(\"alphapept\")\n",
    "    subparsers = parser.add_subparsers(dest=\"command\")\n",
    "\n",
    "    gui_parser = subparsers.add_parser(\"gui\", help=\"Open the AlphaPept GUI\")\n",
    "\n",
    "    # link parser\n",
    "    sampledb_parser = subparsers.add_parser(\n",
    "        \"sampledb\", help=\"Create a sample-specific database\"\n",
    "    )\n",
    "    sampledb_parser.add_argument(\"rawfile\", help=(\"Path to rawfile\"))\n",
    "    sampledb_parser.add_argument(\"fasta\", help=(\"Path to fastafile\"))\n",
    "    sampledb_parser.add_argument(\n",
    "        \"-s\",\n",
    "        \"--score\",\n",
    "        type=int,\n",
    "        default=10,\n",
    "        help=(\n",
    "            \"Minimum score to keep entry in fasta file. The Score is sum of the number of peptide hits (Default = 10) \"\n",
    "        ),\n",
    "    )\n",
    "    \n",
    "    alphapept_screen(version)\n",
    "\n",
    "\n",
    "    args = parser.parse_args()\n",
    "    if args.command:\n",
    "        if args.command == \"gui\":\n",
    "            print(\"gui\")\n",
    "            from .gui import search\n",
    "\n",
    "            search.main()\n",
    "\n",
    "        if args.command == \"sampledb\":\n",
    "            print(sampledb)\n",
    "\n",
    "    else:\n",
    "        parser.print_help()\n",
    "\n",
    "\n",
    "if __name__ == \"__main__\":\n",
    "    main()\n"
   ]
  },
  {
   "cell_type": "code",
   "execution_count": null,
   "metadata": {},
   "outputs": [],
   "source": [
    "#hide\n",
    "from nbdev.export import *\n",
    "notebook2script()"
   ]
  }
 ],
 "metadata": {
  "kernelspec": {
   "display_name": "Python 3",
   "language": "python",
   "name": "python3"
  },
  "language_info": {
   "codemirror_mode": {
    "name": "ipython",
    "version": 3
   },
   "file_extension": ".py",
   "mimetype": "text/x-python",
   "name": "python",
   "nbconvert_exporter": "python",
   "pygments_lexer": "ipython3",
   "version": "3.7.4"
  }
 },
 "nbformat": 4,
 "nbformat_minor": 2
}
