{
 "cells": [
  {
   "cell_type": "code",
   "execution_count": null,
   "metadata": {},
   "outputs": [],
   "source": [
    "# default_exp settings"
   ]
  },
  {
   "cell_type": "markdown",
   "metadata": {},
   "source": [
    "# Settings\n",
    "\n",
    "> Default settings to run alphapept."
   ]
  },
  {
   "cell_type": "markdown",
   "metadata": {},
   "source": [
    "Current ToDo:\n",
    "    - Write more about the Settings Structure\n",
    "    - These are some default values\n",
    "    - Can we auto-generate this from the settings template?"
   ]
  },
  {
   "cell_type": "code",
   "execution_count": null,
   "metadata": {},
   "outputs": [],
   "source": [
    "#hide\n",
    "from nbdev.showdoc import *"
   ]
  },
  {
   "cell_type": "markdown",
   "metadata": {},
   "source": [
    "## Settings"
   ]
  },
  {
   "cell_type": "code",
   "execution_count": null,
   "metadata": {},
   "outputs": [],
   "source": [
    "#export\n",
    "settings = {}\n",
    "\n",
    "raw = {}\n",
    "raw[\"most_abundant\"] = 400\n",
    "raw[\"raw_path\"] = ''\n",
    "raw[\"raw_path_npz\"] = ''\n",
    "raw[\"raw_folder\"] = ''\n",
    "\n",
    "fasta = {}\n",
    "\n",
    "fasta[\"protease\"] = \"trypsin\"\n",
    "fasta[\"num_missed_cleavages\"] = 2\n",
    "fasta[\"min_length\"] = 6\n",
    "fasta[\"max_length\"] = 27\n",
    "fasta[\"mods_variable\"] = [\"oxM\"]\n",
    "fasta[\"mods_variable_terminal\"] = []\n",
    "fasta[\"mods_fixed\"] = [\"cC\"]\n",
    "fasta[\"mods_fixed_terminal\"] = []\n",
    "fasta[\"mods_fixed_terminal_prot\"] = []\n",
    "fasta[\"mods_variable_terminal_prot\"]  = []\n",
    "fasta[\"max_isoforms\"] = 1024\n",
    "fasta[\"fasta_path\"] = \"\"\n",
    "fasta[\"library_path\"] = \"\"\n",
    "fasta[\"fasta_folder\"] = \"\"\n",
    "\n",
    "search = {}\n",
    "\n",
    "search[\"m_offset\"] = 20\n",
    "search[\"m_tol\"] = 20\n",
    "search[\"min_frag_hits\"] = 7\n",
    "search[\"ppm\"] = True\n",
    "search[\"parallel\"] = True\n",
    "search[\"calibrate\"] = True\n",
    "search[\"calibration_std\"] = 3\n",
    "search[\"peptide_fdr\"] = 0.01\n",
    "search[\"protein_fdr\"] = 0.01\n",
    "\n",
    "features = {}\n",
    "\n",
    "features[\"min_hill_length\"] = 3\n",
    "features[\"max_gap\"] = 2\n",
    "features[\"ppm_tol\"] = 8\n",
    "features[\"smoothing\"] = 1\n",
    "\n",
    "features[\"max_neighbors\"] = 4\n",
    "features[\"max_distance\"] = 0.2\n",
    "features[\"mass_importance\"] = 100\n",
    "\n",
    "general = {}\n",
    "\n",
    "general[\"settings_path\"] = \"\"\n",
    "general[\"parallel\"] = True\n",
    "general[\"ppm\"] = True\n",
    "general[\"create_library\"] = True\n",
    "general[\"convert_raw\"] = True\n",
    "\n",
    "calibration = {}\n",
    "\n",
    "calibration[\"min_mz_step\"] = 80\n",
    "calibration[\"min_rt_step\"] = 50\n",
    "calibration[\"minimum_score\"] = 20\n",
    "calibration[\"outlier_std\"] = 3\n",
    "calibration[\"method\"] = 'linear'\n",
    "\n",
    "settings['raw'] = raw\n",
    "settings['fasta'] = fasta\n",
    "settings['search'] = search\n",
    "settings['features'] = features\n",
    "settings['general'] = general\n",
    "settings['calibration']  = calibration\n",
    "\n",
    "def print_settings(settings):\n",
    "    \"\"\"\n",
    "    Print settings\n",
    "    \"\"\"\n",
    "    import yaml\n",
    "    print(yaml.dump(settings, default_flow_style=False))"
   ]
  },
  {
   "cell_type": "code",
   "execution_count": null,
   "metadata": {},
   "outputs": [
    {
     "name": "stdout",
     "output_type": "stream",
     "text": [
      "Converted 00_main.ipynb.\n",
      "Converted 01_chem.ipynb.\n",
      "Converted 02_io.ipynb.\n",
      "Converted 03_fasta.ipynb.\n",
      "Converted 04_feature_finding.ipynb.\n",
      "Converted 05_search.ipynb.\n",
      "Converted 06_score.ipynb.\n",
      "Converted 07_recalibration.ipynb.\n",
      "Converted 08_quantification.ipynb.\n",
      "Converted 09_matching.ipynb.\n",
      "Converted 10_constants.ipynb.\n",
      "Converted 11_settings.ipynb.\n",
      "Converted 13_settings_template.ipynb.\n",
      "This cell doesn't have an export destination and was ignored:\n",
      "e\n",
      "Converted Runner.ipynb.\n",
      "Converted WebTest.ipynb.\n",
      "Converted index.ipynb.\n"
     ]
    }
   ],
   "source": [
    "#hide\n",
    "from nbdev.export import *\n",
    "notebook2script()"
   ]
  }
 ],
 "metadata": {
  "kernelspec": {
   "display_name": "Python 3",
   "language": "python",
   "name": "python3"
  }
 },
 "nbformat": 4,
 "nbformat_minor": 2
}
