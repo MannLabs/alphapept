{
 "cells": [
  {
   "cell_type": "markdown",
   "id": "4d1bcb4c",
   "metadata": {},
   "source": [
    "# Paper Figure 6: Quantification\n",
    "\n"
   ]
  },
  {
   "cell_type": "code",
   "execution_count": 1,
   "id": "fca27d35",
   "metadata": {},
   "outputs": [],
   "source": [
    "import os\n",
    "from test_files import get_files, prepare_test\n",
    "\n",
    "tmp_folder = os.path.join(os.getcwd(),'temp/')\n",
    "test_folder = 'fig6'"
   ]
  },
  {
   "cell_type": "code",
   "execution_count": 2,
   "id": "ba5e2883",
   "metadata": {},
   "outputs": [
    {
     "name": "stdout",
     "output_type": "stream",
     "text": [
      "Downloading F:\\alphapept\\sandbox\\temp/test_files\\PXD006109_ref.txt.\n",
      "100% [..........................................................................] 7481516 / 7481516Downloading F:\\alphapept\\sandbox\\temp/test_files\\PXD006109_ref_evd.txt.\n",
      "100% [......................................................................] 129073445 / 129073445Creating dir F:\\alphapept\\sandbox\\temp/fig6.\n"
     ]
    }
   ],
   "source": [
    "files = ['PXD006109_ref.txt', 'PXD006109_ref_evd.txt']\n",
    "get_files(tmp_folder, files)\n",
    "prepare_test(files, tmp_folder, test_folder)"
   ]
  },
  {
   "cell_type": "code",
   "execution_count": 7,
   "id": "bb1f5700",
   "metadata": {},
   "outputs": [],
   "source": [
    "evidence_path = os.path.join(tmp_folder, test_folder, files[1])\n",
    "protein_group_path = os.path.join(tmp_folder, test_folder, files[0])"
   ]
  },
  {
   "cell_type": "code",
   "execution_count": 8,
   "id": "5886da4f",
   "metadata": {},
   "outputs": [
    {
     "name": "stderr",
     "output_type": "stream",
     "text": [
      "C:\\Users\\admin\\.conda\\envs\\alphapept\\lib\\site-packages\\scipy\\optimize\\optimize.py:282: RuntimeWarning: Values in x were outside bounds during a minimize step, clipping to bounds\n",
      "  warnings.warn(\"Values in x were outside bounds during a \"\n"
     ]
    }
   ],
   "source": [
    "from alphapept.quantification import protein_profile_parallel_mq\n",
    "import test_helper\n",
    "import pandas as pd\n",
    "import numpy as np\n",
    "\n",
    "pt = protein_profile_parallel_mq(evidence_path, protein_group_path)\n"
   ]
  },
  {
   "cell_type": "code",
   "execution_count": 58,
   "id": "daa7d3bc",
   "metadata": {},
   "outputs": [],
   "source": [
    "ref = pd.read_csv(protein_group_path, sep='\\t')\n",
    "\n",
    "ref = ref.replace(0, np.nan)"
   ]
  },
  {
   "cell_type": "code",
   "execution_count": 59,
   "id": "b46a1173",
   "metadata": {},
   "outputs": [],
   "source": [
    "species = []\n",
    "for _ in ref['Protein IDs']:\n",
    "    \n",
    "    if 'HUM' in _:\n",
    "        species.append('Homo sapiens')\n",
    "        \n",
    "    elif 'ECO' in _:\n",
    "        species.append('Escherichia coli')\n",
    "        \n",
    "    else:\n",
    "        species.append('X')\n",
    "        \n",
    "ref['Species'] = species"
   ]
  },
  {
   "cell_type": "code",
   "execution_count": 60,
   "id": "61d54833",
   "metadata": {},
   "outputs": [],
   "source": [
    "df_= ref.copy()\n",
    "ds = [_ for _ in df_.columns if 'LFQ intensity' in _]\n",
    "base_columns = [_ for _ in ds if '02' in _]\n",
    "ratio_columns = [_ for _ in ds if '12' in _]\n",
    "to_plot = pd.DataFrame()\n",
    "to_plot['Species'] = df_['Species']\n",
    "to_plot['base'] = df_[base_columns].median(axis=1)\n",
    "to_plot['ratio'] = df_[ratio_columns].median(axis=1)\n",
    "to_plot['base_cnt'] = df_[base_columns].notna().sum(axis=1)\n",
    "to_plot['ratio_cnt'] = df_[ratio_columns].notna().sum(axis=1)\n",
    "to_plot['ratio_'] = np.log2(to_plot['base'] / to_plot['ratio'])\n",
    "to_plot['sum_'] = np.log2(to_plot['ratio'])\n",
    "valid_mq = to_plot.query(f'ratio_cnt >= 2 and base_cnt >=2')"
   ]
  },
  {
   "cell_type": "code",
   "execution_count": 61,
   "id": "ffe83aa0",
   "metadata": {},
   "outputs": [],
   "source": [
    "lookup_dict = dict(zip(ref['Protein IDs'].values, ref['Species'].values))"
   ]
  },
  {
   "cell_type": "code",
   "execution_count": 62,
   "id": "8ba647cd",
   "metadata": {},
   "outputs": [],
   "source": [
    "import numpy as np\n",
    "df_ = pt.copy()\n",
    "df_['Species'] = [lookup_dict[_] for _ in df_.index]\n",
    "\n",
    "ds = [_ for _ in df_.columns if 'LFQ' in _]\n",
    "base_columns = [_ for _ in ds if 'HeLa2' in _]\n",
    "ratio_columns = [_ for _ in ds if 'HeLa12' in _]   \n",
    "to_plot = pd.DataFrame()\n",
    "to_plot['Species'] = df_['Species']\n",
    "to_plot['base'] = df_[base_columns].median(axis=1)\n",
    "to_plot['ratio'] = df_[ratio_columns].median(axis=1)\n",
    "to_plot['base_cnt'] = df_[base_columns].notna().sum(axis=1)\n",
    "to_plot['ratio_cnt'] = df_[ratio_columns].notna().sum(axis=1)\n",
    "to_plot['ratio_'] = np.log2(to_plot['base'] / to_plot['ratio'])\n",
    "to_plot['sum_'] = np.log2(to_plot['ratio'])\n",
    "valid_ap = to_plot.query(f'ratio_cnt >= 2 and base_cnt >=2')"
   ]
  },
  {
   "cell_type": "code",
   "execution_count": 63,
   "id": "c4241d93",
   "metadata": {},
   "outputs": [],
   "source": [
    "def get_species(valid):\n",
    "\n",
    "    homo = valid[valid['Species'] == 'Homo sapiens']\n",
    "    e_coli = valid[valid['Species'] == 'Escherichia coli']\n",
    "    \n",
    "    return homo, e_coli"
   ]
  },
  {
   "cell_type": "code",
   "execution_count": 64,
   "id": "b27b5aa9",
   "metadata": {},
   "outputs": [],
   "source": [
    "homo_mq, e_coli_mq = get_species(valid_mq)\n",
    "homo_ap, e_coli_ap = get_species(valid_ap)"
   ]
  },
  {
   "cell_type": "code",
   "execution_count": 66,
   "id": "44b21939",
   "metadata": {},
   "outputs": [
    {
     "name": "stdout",
     "output_type": "stream",
     "text": [
      "Homo 0.36\n",
      "Ecoli 1.07\n"
     ]
    },
    {
     "data": {
      "image/png": "[encoded data removed]",
      "text/plain": [
       "<Figure size 170.136x170.136 with 1 Axes>"
      ]
     },
     "metadata": {
      "needs_background": "light"
     },
     "output_type": "display_data"
    }
   ],
   "source": [
    "from matplotlib.ticker import FormatStrFormatter\n",
    "import matplotlib.pyplot as plt\n",
    "\n",
    "hfont = {'fontname':'Arial', 'size':10}\n",
    "\n",
    "dark_blue = '#17212b'\n",
    "light_blue = '#3dc5ef'\n",
    "teal= '#42dee1'\n",
    "green = '#6eecb9'\n",
    "yellow = '#eef5b3'\n",
    "\n",
    "plt.figure(figsize=(2.363,2.363)) #60x60\n",
    "plt.plot(homo_mq['ratio_'], homo_mq['sum_'], '.', alpha=0.5, color = light_blue, markersize=1)\n",
    "plt.plot(e_coli_mq['ratio_'], e_coli_mq['sum_'], '.', alpha=0.5, color = dark_blue, markersize=1)\n",
    "\n",
    "mean_ = homo_mq['ratio_'].mean()\n",
    "std_ = homo_mq['ratio_'].std()\n",
    "plt.axvline(mean_, color = 'k', linewidth=0.5)\n",
    "plt.axvline(mean_+std_, linestyle=':', color='k', linewidth=0.5)\n",
    "plt.axvline(mean_-std_,  linestyle=':', color='k', linewidth=0.5)\n",
    "\n",
    "print(f'Homo {std_:.2f}')\n",
    "plt.text(-2.5, 32, f'Homo \\n{len(homo_mq):,}\\nStd \\n{std_:.2f}', **hfont)\n",
    "\n",
    "mean_ = e_coli_mq['ratio_'].mean()\n",
    "std_ = e_coli_mq['ratio_'].std()\n",
    "plt.axvline(mean_, color = 'k', linewidth=0.5)\n",
    "plt.axvline(mean_+std_, linestyle=':', color='k', linewidth=0.5)\n",
    "plt.axvline(mean_-std_,  linestyle=':', color='k', linewidth=0.5)\n",
    "\n",
    "print(f'Ecoli {std_:.2f}')\n",
    "\n",
    "plt.text(2.5, 32, f'E. coli\\n{len(e_coli_mq):,} \\nStd \\n{std_:.2f}', **hfont)\n",
    "\n",
    "plt.xlim([-3, 5])\n",
    "plt.ylim([20, 40])\n",
    "ax = plt.gca()\n",
    "\n",
    "ax.yaxis.set_major_formatter(FormatStrFormatter('%.0f'))\n",
    "plt.xlabel('Ratio', **hfont)\n",
    "plt.ylabel('Sum', **hfont)\n",
    "plt.title('MaxQuant LFQ', **hfont)\n",
    "plt.tight_layout()\n",
    "plt.xticks([-3,-2,-1,0,1,2,3,4,5])\n",
    "plt.savefig('figures/06_mq.pdf')\n",
    "plt.show()"
   ]
  },
  {
   "cell_type": "code",
   "execution_count": 67,
   "id": "19180f82",
   "metadata": {},
   "outputs": [
    {
     "name": "stdout",
     "output_type": "stream",
     "text": [
      "Std 0.31\n",
      "Ecoli 0.55\n"
     ]
    },
    {
     "data": {
      "image/png": "[encoded data removed]",
      "text/plain": [
       "<Figure size 170.136x170.136 with 1 Axes>"
      ]
     },
     "metadata": {
      "needs_background": "light"
     },
     "output_type": "display_data"
    }
   ],
   "source": [
    "plt.figure(figsize=(2.363,2.363)) #60x60\n",
    "plt.plot(homo_ap['ratio_'], homo_ap['sum_'], '.', alpha=0.5, color = light_blue, markersize=1)\n",
    "plt.plot(e_coli_ap['ratio_'], e_coli_ap['sum_'], '.', alpha=0.5, color = dark_blue, markersize=1)\n",
    "\n",
    "mean_ = homo_ap['ratio_'].mean()\n",
    "std_ = homo_ap['ratio_'].std()\n",
    "plt.axvline(mean_, color = 'k', linewidth=0.5)\n",
    "plt.axvline(mean_+std_, linestyle=':', color='k', linewidth=0.5)\n",
    "plt.axvline(mean_-std_,  linestyle=':', color='k', linewidth=0.5)\n",
    "\n",
    "plt.text(-2.5, 32, f'Homo \\n{len(homo_mq):,}\\nStd \\n{std_:.2f}', **hfont)\n",
    "\n",
    "print(f'Std {std_:.2f}')\n",
    "\n",
    "mean_ = e_coli_ap['ratio_'].mean()\n",
    "std_ = e_coli_ap['ratio_'].std()\n",
    "plt.axvline(mean_, color = 'k', linewidth=0.5)\n",
    "plt.axvline(mean_+std_, linestyle=':', color='k', linewidth=0.5)\n",
    "plt.axvline(mean_-std_,  linestyle=':', color='k', linewidth=0.5)\n",
    "\n",
    "print(f'Ecoli {std_:.2f}')\n",
    "\n",
    "plt.text(2.5, 32, f'E. coli\\n{len(e_coli_mq):,} \\nStd \\n{std_:.2f}', **hfont)\n",
    "\n",
    "\n",
    "plt.xlim([-3, 5])\n",
    "plt.ylim([20, 40])\n",
    "ax = plt.gca()\n",
    "\n",
    "ax.yaxis.set_major_formatter(FormatStrFormatter('%.0f'))\n",
    "plt.xlabel('Ratio', **hfont)\n",
    "plt.ylabel('Sum', **hfont)\n",
    "plt.title('AlphaPept LFQ on MQ', **hfont)\n",
    "plt.tight_layout()\n",
    "plt.xticks([-3,-2,-1,0,1,2,3,4,5])\n",
    "plt.savefig('figures/06_ap.pdf')\n",
    "plt.show()"
   ]
  },
  {
   "cell_type": "code",
   "execution_count": 68,
   "id": "206f5b7d",
   "metadata": {},
   "outputs": [],
   "source": [
    "ref = pd.read_hdf('E:/benchmark/PXD006109/Shotgun/results.hdf', 'protein_table')\n",
    "species = []\n",
    "for _ in ref.index:\n",
    "    \n",
    "    if 'HUM' in _:\n",
    "        species.append('Homo sapiens')\n",
    "        \n",
    "    elif 'ECO' in _:\n",
    "        species.append('Escherichia coli')\n",
    "        \n",
    "    else:\n",
    "        species.append('X')"
   ]
  },
  {
   "cell_type": "code",
   "execution_count": 69,
   "id": "a12f4b05",
   "metadata": {},
   "outputs": [],
   "source": [
    "import numpy as np\n",
    "ref['Species'] = species\n",
    "df_= ref.copy()\n",
    "ds = [_ for _ in df_.columns if '_LFQ' in _]\n",
    "base_columns = [_ for _ in ds if 'HeLa2' in _]\n",
    "ratio_columns = [_ for _ in ds if 'HeLa12' in _]\n",
    "to_plot = pd.DataFrame()\n",
    "to_plot['Species'] = df_['Species']\n",
    "to_plot['base'] = df_[base_columns].median(axis=1)\n",
    "to_plot['ratio'] = df_[ratio_columns].median(axis=1)\n",
    "to_plot['base_cnt'] = df_[base_columns].notna().sum(axis=1)\n",
    "to_plot['ratio_cnt'] = df_[ratio_columns].notna().sum(axis=1)\n",
    "to_plot['ratio_'] = np.log2(to_plot['base'] / to_plot['ratio'])\n",
    "to_plot['sum_'] = np.log2(to_plot['ratio'])\n",
    "valid_ap = to_plot.query(f'ratio_cnt >= 2 and base_cnt >=2')"
   ]
  },
  {
   "cell_type": "code",
   "execution_count": 70,
   "id": "63eda3e8",
   "metadata": {},
   "outputs": [],
   "source": [
    "homo_mq, e_coli_mq = get_species(valid_ap)"
   ]
  },
  {
   "cell_type": "code",
   "execution_count": 71,
   "id": "dca405af",
   "metadata": {},
   "outputs": [
    {
     "name": "stdout",
     "output_type": "stream",
     "text": [
      "Homo 0.27\n",
      "Ecoli 0.46\n"
     ]
    },
    {
     "data": {
      "image/png": "[encoded data removed]",
      "text/plain": [
       "<Figure size 170.136x170.136 with 1 Axes>"
      ]
     },
     "metadata": {
      "needs_background": "light"
     },
     "output_type": "display_data"
    }
   ],
   "source": [
    "from matplotlib.ticker import FormatStrFormatter\n",
    "import matplotlib.pyplot as plt\n",
    "\n",
    "hfont = {'fontname':'Arial', 'size':10}\n",
    "\n",
    "dark_blue = '#17212b'\n",
    "light_blue = '#3dc5ef'\n",
    "teal= '#42dee1'\n",
    "green = '#6eecb9'\n",
    "yellow = '#eef5b3'\n",
    "\n",
    "plt.figure(figsize=(2.363,2.363)) #60x60\n",
    "plt.plot(homo_mq['ratio_'], homo_mq['sum_'], '.', alpha=0.5, color = light_blue, markersize=1)\n",
    "plt.plot(e_coli_mq['ratio_'], e_coli_mq['sum_'], '.', alpha=0.5, color = dark_blue, markersize=1)\n",
    "\n",
    "mean_ = homo_mq['ratio_'].mean()\n",
    "std_ = homo_mq['ratio_'].std()\n",
    "plt.axvline(mean_, color = 'k', linewidth=0.5)\n",
    "plt.axvline(mean_+std_, linestyle=':', color='k', linewidth=0.5)\n",
    "plt.axvline(mean_-std_,  linestyle=':', color='k', linewidth=0.5)\n",
    "\n",
    "print(f'Homo {std_:.2f}')\n",
    "plt.text(-2.5, 34, f'Homo \\n{len(homo_mq):,}\\nStd \\n{std_:.2f}', **hfont)\n",
    "\n",
    "mean_ = e_coli_mq['ratio_'].mean()\n",
    "std_ = e_coli_mq['ratio_'].std()\n",
    "plt.axvline(mean_, color = 'k', linewidth=0.5)\n",
    "plt.axvline(mean_+std_, linestyle=':', color='k', linewidth=0.5)\n",
    "plt.axvline(mean_-std_,  linestyle=':', color='k', linewidth=0.5)\n",
    "\n",
    "print(f'Ecoli {std_:.2f}')\n",
    "\n",
    "plt.text(2.5, 34, f'E. coli\\n{len(e_coli_mq):,} \\nStd \\n{std_:.2f}', **hfont)\n",
    "\n",
    "plt.xlim([-3, 5])\n",
    "plt.ylim([25, 40])\n",
    "ax = plt.gca()\n",
    "\n",
    "ax.yaxis.set_major_formatter(FormatStrFormatter('%.0f'))\n",
    "plt.xlabel('Ratio', **hfont)\n",
    "plt.ylabel('Sum', **hfont)\n",
    "plt.title('AlphaPept LFQ', **hfont)\n",
    "plt.tight_layout()\n",
    "plt.xticks([-3,-2,-1,0,1,2,3,4,5])\n",
    "plt.savefig('figures/06_ap_full.pdf')\n",
    "plt.show()"
   ]
  },
  {
   "cell_type": "code",
   "execution_count": 72,
   "id": "decf4ed9",
   "metadata": {},
   "outputs": [
    {
     "name": "stderr",
     "output_type": "stream",
     "text": [
      "  0%|                                                                                          | 0/200 [00:00<?, ?it/s]C:\\Users\\admin\\.conda\\envs\\alphapept\\lib\\site-packages\\scipy\\optimize\\_numdiff.py:557: RuntimeWarning: invalid value encountered in subtract\n",
      "  df = fun(x) - f0\n",
      "C:\\Users\\admin\\.conda\\envs\\alphapept\\lib\\site-packages\\scipy\\optimize\\optimize.py:2970: RuntimeWarning: invalid value encountered in subtract\n",
      "  if (fx2 - fval) > delta:\n",
      "C:\\Users\\admin\\.conda\\envs\\alphapept\\lib\\site-packages\\scipy\\optimize\\optimize.py:2979: RuntimeWarning: invalid value encountered in subtract\n",
      "  if 2.0 * (fx - fval) <= bnd:\n"
     ]
    },
    {
     "name": "stdout",
     "output_type": "stream",
     "text": [
      "Residuals are not finite in the initial point.\n",
      "Residuals are not finite in the initial point.\n",
      "Residuals are not finite in the initial point.\n",
      "Residuals are not finite in the initial point.\n",
      "Residuals are not finite in the initial point.\n",
      "Residuals are not finite in the initial point.\n",
      "Residuals are not finite in the initial point.\n",
      "Residuals are not finite in the initial point.\n",
      "Residuals are not finite in the initial point.\n"
     ]
    },
    {
     "name": "stderr",
     "output_type": "stream",
     "text": [
      "C:\\Users\\admin\\.conda\\envs\\alphapept\\lib\\site-packages\\scipy\\optimize\\optimize.py:282: RuntimeWarning: Values in x were outside bounds during a minimize step, clipping to bounds\n",
      "  warnings.warn(\"Values in x were outside bounds during a \"\n",
      "  0%|▍                                                                                 | 1/200 [00:16<54:04, 16.30s/it]"
     ]
    },
    {
     "name": "stdout",
     "output_type": "stream",
     "text": [
      "Residuals are not finite in the initial point.\n",
      "Residuals are not finite in the initial point.\n",
      "Residuals are not finite in the initial point.\n",
      "Residuals are not finite in the initial point.\n",
      "Residuals are not finite in the initial point.\n",
      "Residuals are not finite in the initial point.\n",
      "Residuals are not finite in the initial point.\n"
     ]
    },
    {
     "name": "stderr",
     "output_type": "stream",
     "text": [
      "\r",
      "  1%|▊                                                                                 | 2/200 [00:28<46:10, 13.99s/it]"
     ]
    },
    {
     "name": "stdout",
     "output_type": "stream",
     "text": [
      "Residuals are not finite in the initial point.\n",
      "Residuals are not finite in the initial point.\n",
      "Residuals are not finite in the initial point.\n",
      "Residuals are not finite in the initial point.\n",
      "Residuals are not finite in the initial point.\n",
      "Residuals are not finite in the initial point.\n",
      "Residuals are not finite in the initial point.\n",
      "Residuals are not finite in the initial point.\n"
     ]
    },
    {
     "name": "stderr",
     "output_type": "stream",
     "text": [
      "\r",
      "  2%|█▏                                                                                | 3/200 [00:40<43:02, 13.11s/it]"
     ]
    },
    {
     "name": "stdout",
     "output_type": "stream",
     "text": [
      "Residuals are not finite in the initial point.\n",
      "Residuals are not finite in the initial point.\n",
      "Residuals are not finite in the initial point.\n",
      "Residuals are not finite in the initial point.\n",
      "Residuals are not finite in the initial point.\n"
     ]
    },
    {
     "name": "stderr",
     "output_type": "stream",
     "text": [
      "\r",
      "  2%|█▋                                                                                | 4/200 [00:54<43:42, 13.38s/it]"
     ]
    },
    {
     "name": "stdout",
     "output_type": "stream",
     "text": [
      "Residuals are not finite in the initial point.\n",
      "Residuals are not finite in the initial point.\n",
      "Residuals are not finite in the initial point.\n",
      "Residuals are not finite in the initial point.\n",
      "Residuals are not finite in the initial point.\n"
     ]
    },
    {
     "name": "stderr",
     "output_type": "stream",
     "text": [
      "\r",
      "  2%|██                                                                                | 5/200 [01:07<42:36, 13.11s/it]"
     ]
    },
    {
     "name": "stdout",
     "output_type": "stream",
     "text": [
      "Residuals are not finite in the initial point.\n",
      "Residuals are not finite in the initial point.\n",
      "Residuals are not finite in the initial point.\n",
      "Residuals are not finite in the initial point.\n",
      "Residuals are not finite in the initial point.\n",
      "Residuals are not finite in the initial point.\n",
      "Residuals are not finite in the initial point.\n"
     ]
    },
    {
     "name": "stderr",
     "output_type": "stream",
     "text": [
      "\r",
      "  3%|██▍                                                                               | 6/200 [01:19<41:31, 12.84s/it]"
     ]
    },
    {
     "name": "stdout",
     "output_type": "stream",
     "text": [
      "Residuals are not finite in the initial point.\n",
      "Residuals are not finite in the initial point.\n",
      "Residuals are not finite in the initial point.\n",
      "Residuals are not finite in the initial point.\n",
      "Residuals are not finite in the initial point.\n",
      "Residuals are not finite in the initial point.\n"
     ]
    },
    {
     "name": "stderr",
     "output_type": "stream",
     "text": [
      "\r",
      "  4%|██▊                                                                               | 7/200 [01:31<40:29, 12.59s/it]"
     ]
    },
    {
     "name": "stdout",
     "output_type": "stream",
     "text": [
      "Residuals are not finite in the initial point.\n",
      "Residuals are not finite in the initial point.\n",
      "Residuals are not finite in the initial point.\n",
      "Residuals are not finite in the initial point.\n",
      "Residuals are not finite in the initial point.\n"
     ]
    },
    {
     "name": "stderr",
     "output_type": "stream",
     "text": [
      "\r",
      "  4%|███▎                                                                              | 8/200 [01:43<39:51, 12.46s/it]"
     ]
    },
    {
     "name": "stdout",
     "output_type": "stream",
     "text": [
      "Residuals are not finite in the initial point.\n",
      "Residuals are not finite in the initial point.\n",
      "Residuals are not finite in the initial point.\n",
      "Residuals are not finite in the initial point.\n",
      "Residuals are not finite in the initial point.\n",
      "Residuals are not finite in the initial point.\n",
      "Residuals are not finite in the initial point.\n",
      "Residuals are not finite in the initial point.\n"
     ]
    },
    {
     "name": "stderr",
     "output_type": "stream",
     "text": [
      "\r",
      "  4%|███▋                                                                              | 9/200 [01:57<40:44, 12.80s/it]"
     ]
    },
    {
     "name": "stdout",
     "output_type": "stream",
     "text": [
      "Residuals are not finite in the initial point.\n",
      "Residuals are not finite in the initial point.\n",
      "Residuals are not finite in the initial point.\n",
      "Residuals are not finite in the initial point.\n",
      "Residuals are not finite in the initial point.\n",
      "Residuals are not finite in the initial point.\n",
      "Residuals are not finite in the initial point.\n"
     ]
    },
    {
     "name": "stderr",
     "output_type": "stream",
     "text": [
      "\r",
      "  5%|████                                                                             | 10/200 [02:10<40:28, 12.78s/it]"
     ]
    },
    {
     "name": "stdout",
     "output_type": "stream",
     "text": [
      "Residuals are not finite in the initial point.\n",
      "Residuals are not finite in the initial point.\n",
      "Residuals are not finite in the initial point.\n",
      "Residuals are not finite in the initial point.\n",
      "Residuals are not finite in the initial point.\n",
      "Residuals are not finite in the initial point.\n",
      "Residuals are not finite in the initial point.\n"
     ]
    },
    {
     "name": "stderr",
     "output_type": "stream",
     "text": [
      "\r",
      "  6%|████▍                                                                            | 11/200 [02:23<41:08, 13.06s/it]"
     ]
    },
    {
     "name": "stdout",
     "output_type": "stream",
     "text": [
      "Residuals are not finite in the initial point.\n",
      "Residuals are not finite in the initial point.\n",
      "Residuals are not finite in the initial point.\n",
      "Residuals are not finite in the initial point.\n",
      "Residuals are not finite in the initial point.\n",
      "Residuals are not finite in the initial point.\n",
      "Residuals are not finite in the initial point.\n",
      "Residuals are not finite in the initial point.\n",
      "Residuals are not finite in the initial point.\n"
     ]
    },
    {
     "name": "stderr",
     "output_type": "stream",
     "text": [
      "\r",
      "  6%|████▊                                                                            | 12/200 [02:35<40:02, 12.78s/it]"
     ]
    },
    {
     "name": "stdout",
     "output_type": "stream",
     "text": [
      "Residuals are not finite in the initial point.\n",
      "Residuals are not finite in the initial point.\n",
      "Residuals are not finite in the initial point.\n",
      "Residuals are not finite in the initial point.\n",
      "Residuals are not finite in the initial point.\n"
     ]
    },
    {
     "name": "stderr",
     "output_type": "stream",
     "text": [
      "\r",
      "  6%|█████▎                                                                           | 13/200 [02:47<38:49, 12.46s/it]"
     ]
    },
    {
     "name": "stdout",
     "output_type": "stream",
     "text": [
      "Residuals are not finite in the initial point.\n",
      "Residuals are not finite in the initial point.\n",
      "Residuals are not finite in the initial point.\n",
      "Residuals are not finite in the initial point.\n",
      "Residuals are not finite in the initial point.\n",
      "Residuals are not finite in the initial point.\n",
      "Residuals are not finite in the initial point.\n",
      "Residuals are not finite in the initial point.\n",
      "Residuals are not finite in the initial point.\n"
     ]
    },
    {
     "name": "stderr",
     "output_type": "stream",
     "text": [
      "\r",
      "  7%|█████▋                                                                           | 14/200 [03:00<39:26, 12.72s/it]"
     ]
    },
    {
     "name": "stdout",
     "output_type": "stream",
     "text": [
      "Residuals are not finite in the initial point.\n",
      "Residuals are not finite in the initial point.\n",
      "Residuals are not finite in the initial point.\n",
      "Residuals are not finite in the initial point.\n",
      "Residuals are not finite in the initial point.\n",
      "Residuals are not finite in the initial point.\n",
      "Residuals are not finite in the initial point.\n",
      "Residuals are not finite in the initial point.\n",
      "Residuals are not finite in the initial point.\n"
     ]
    },
    {
     "name": "stderr",
     "output_type": "stream",
     "text": [
      "\r",
      "  8%|██████                                                                           | 15/200 [03:12<38:16, 12.41s/it]"
     ]
    },
    {
     "name": "stdout",
     "output_type": "stream",
     "text": [
      "Residuals are not finite in the initial point.\n",
      "Residuals are not finite in the initial point.\n",
      "Residuals are not finite in the initial point.\n",
      "Residuals are not finite in the initial point.\n",
      "Residuals are not finite in the initial point.\n",
      "Residuals are not finite in the initial point.\n"
     ]
    },
    {
     "name": "stderr",
     "output_type": "stream",
     "text": [
      "\r",
      "  8%|██████▍                                                                          | 16/200 [03:25<38:39, 12.60s/it]"
     ]
    },
    {
     "name": "stdout",
     "output_type": "stream",
     "text": [
      "Residuals are not finite in the initial point.\n",
      "Residuals are not finite in the initial point.\n",
      "Residuals are not finite in the initial point.\n",
      "Residuals are not finite in the initial point.\n",
      "Residuals are not finite in the initial point.\n",
      "Residuals are not finite in the initial point.\n",
      "Residuals are not finite in the initial point.\n",
      "Residuals are not finite in the initial point.\n"
     ]
    },
    {
     "name": "stderr",
     "output_type": "stream",
     "text": [
      "\r",
      "  8%|██████▉                                                                          | 17/200 [03:38<38:35, 12.65s/it]"
     ]
    },
    {
     "name": "stdout",
     "output_type": "stream",
     "text": [
      "Residuals are not finite in the initial point.\n",
      "Residuals are not finite in the initial point.\n",
      "Residuals are not finite in the initial point.\n",
      "Residuals are not finite in the initial point.\n"
     ]
    },
    {
     "name": "stderr",
     "output_type": "stream",
     "text": [
      "\r",
      "  9%|███████▎                                                                         | 18/200 [03:50<37:47, 12.46s/it]"
     ]
    },
    {
     "name": "stdout",
     "output_type": "stream",
     "text": [
      "Residuals are not finite in the initial point.\n",
      "Residuals are not finite in the initial point.\n",
      "Residuals are not finite in the initial point.\n",
      "Residuals are not finite in the initial point.\n",
      "Residuals are not finite in the initial point.\n",
      "Residuals are not finite in the initial point.\n",
      "Residuals are not finite in the initial point.\n",
      "Residuals are not finite in the initial point.\n",
      "Residuals are not finite in the initial point.\n",
      "Residuals are not finite in the initial point.\n"
     ]
    },
    {
     "name": "stderr",
     "output_type": "stream",
     "text": [
      "\r",
      " 10%|███████▋                                                                         | 19/200 [04:04<38:36, 12.80s/it]"
     ]
    },
    {
     "name": "stdout",
     "output_type": "stream",
     "text": [
      "Residuals are not finite in the initial point.\n",
      "Residuals are not finite in the initial point.\n",
      "Residuals are not finite in the initial point.\n",
      "Residuals are not finite in the initial point.\n",
      "Residuals are not finite in the initial point.\n",
      "Residuals are not finite in the initial point.\n",
      "Residuals are not finite in the initial point.\n",
      "Residuals are not finite in the initial point.\n",
      "Residuals are not finite in the initial point.\n"
     ]
    },
    {
     "name": "stderr",
     "output_type": "stream",
     "text": [
      "\r",
      " 10%|████████                                                                         | 20/200 [04:17<38:43, 12.91s/it]"
     ]
    },
    {
     "name": "stdout",
     "output_type": "stream",
     "text": [
      "Residuals are not finite in the initial point.\n",
      "Residuals are not finite in the initial point.\n",
      "Residuals are not finite in the initial point.\n",
      "Residuals are not finite in the initial point.\n",
      "Residuals are not finite in the initial point.\n"
     ]
    },
    {
     "name": "stderr",
     "output_type": "stream",
     "text": [
      "\r",
      " 10%|████████▌                                                                        | 21/200 [04:29<38:01, 12.74s/it]"
     ]
    },
    {
     "name": "stdout",
     "output_type": "stream",
     "text": [
      "Residuals are not finite in the initial point.\n",
      "Residuals are not finite in the initial point.\n",
      "Residuals are not finite in the initial point.\n",
      "Residuals are not finite in the initial point.\n",
      "Residuals are not finite in the initial point.\n",
      "Residuals are not finite in the initial point.\n",
      "Residuals are not finite in the initial point.\n"
     ]
    },
    {
     "name": "stderr",
     "output_type": "stream",
     "text": [
      "\r",
      " 11%|████████▉                                                                        | 22/200 [04:43<39:04, 13.17s/it]"
     ]
    },
    {
     "name": "stdout",
     "output_type": "stream",
     "text": [
      "Residuals are not finite in the initial point.\n",
      "Residuals are not finite in the initial point.\n",
      "Residuals are not finite in the initial point.\n",
      "Residuals are not finite in the initial point.\n",
      "Residuals are not finite in the initial point.\n",
      "Residuals are not finite in the initial point.\n",
      "Residuals are not finite in the initial point.\n",
      "Residuals are not finite in the initial point.\n"
     ]
    },
    {
     "name": "stderr",
     "output_type": "stream",
     "text": [
      "\r",
      " 12%|█████████▎                                                                       | 23/200 [04:56<38:51, 13.17s/it]"
     ]
    },
    {
     "name": "stdout",
     "output_type": "stream",
     "text": [
      "Residuals are not finite in the initial point.\n",
      "Residuals are not finite in the initial point.\n",
      "Residuals are not finite in the initial point.\n",
      "Residuals are not finite in the initial point.\n",
      "Residuals are not finite in the initial point.\n",
      "Residuals are not finite in the initial point.\n",
      "Residuals are not finite in the initial point.\n"
     ]
    },
    {
     "name": "stderr",
     "output_type": "stream",
     "text": [
      "\r",
      " 12%|█████████▋                                                                       | 24/200 [05:09<38:16, 13.05s/it]"
     ]
    },
    {
     "name": "stdout",
     "output_type": "stream",
     "text": [
      "Residuals are not finite in the initial point.\n",
      "Residuals are not finite in the initial point.\n",
      "Residuals are not finite in the initial point.\n",
      "Residuals are not finite in the initial point.\n",
      "Residuals are not finite in the initial point.\n",
      "Residuals are not finite in the initial point.\n",
      "Residuals are not finite in the initial point.\n"
     ]
    },
    {
     "name": "stderr",
     "output_type": "stream",
     "text": [
      "\r",
      " 12%|██████████▏                                                                      | 25/200 [05:23<38:50, 13.31s/it]"
     ]
    },
    {
     "name": "stdout",
     "output_type": "stream",
     "text": [
      "Residuals are not finite in the initial point.\n",
      "Residuals are not finite in the initial point.\n",
      "Residuals are not finite in the initial point.\n",
      "Residuals are not finite in the initial point.\n",
      "Residuals are not finite in the initial point.\n",
      "Residuals are not finite in the initial point.\n",
      "Residuals are not finite in the initial point.\n",
      "Residuals are not finite in the initial point.\n"
     ]
    },
    {
     "name": "stderr",
     "output_type": "stream",
     "text": [
      "\r",
      " 13%|██████████▌                                                                      | 26/200 [05:36<38:27, 13.26s/it]"
     ]
    },
    {
     "name": "stdout",
     "output_type": "stream",
     "text": [
      "Residuals are not finite in the initial point.\n",
      "Residuals are not finite in the initial point.\n",
      "Residuals are not finite in the initial point.\n",
      "Residuals are not finite in the initial point.\n",
      "Residuals are not finite in the initial point.\n",
      "Residuals are not finite in the initial point.\n"
     ]
    },
    {
     "name": "stderr",
     "output_type": "stream",
     "text": [
      "\r",
      " 14%|██████████▉                                                                      | 27/200 [05:49<38:00, 13.18s/it]"
     ]
    },
    {
     "name": "stdout",
     "output_type": "stream",
     "text": [
      "Residuals are not finite in the initial point.\n",
      "Residuals are not finite in the initial point.\n",
      "Residuals are not finite in the initial point.\n",
      "Residuals are not finite in the initial point.\n",
      "Residuals are not finite in the initial point.\n",
      "Residuals are not finite in the initial point.\n",
      "Residuals are not finite in the initial point.\n"
     ]
    },
    {
     "name": "stderr",
     "output_type": "stream",
     "text": [
      "\r",
      " 14%|███████████▎                                                                     | 28/200 [06:03<37:54, 13.22s/it]"
     ]
    },
    {
     "name": "stdout",
     "output_type": "stream",
     "text": [
      "Residuals are not finite in the initial point.\n",
      "Residuals are not finite in the initial point.\n",
      "Residuals are not finite in the initial point.\n",
      "Residuals are not finite in the initial point.\n",
      "Residuals are not finite in the initial point.\n",
      "Residuals are not finite in the initial point.\n"
     ]
    },
    {
     "name": "stderr",
     "output_type": "stream",
     "text": [
      "\r",
      " 14%|███████████▋                                                                     | 29/200 [06:16<37:59, 13.33s/it]"
     ]
    },
    {
     "name": "stdout",
     "output_type": "stream",
     "text": [
      "Residuals are not finite in the initial point.\n",
      "Residuals are not finite in the initial point.\n",
      "Residuals are not finite in the initial point.\n",
      "Residuals are not finite in the initial point.\n",
      "Residuals are not finite in the initial point.\n",
      "Residuals are not finite in the initial point.\n",
      "Residuals are not finite in the initial point.\n"
     ]
    },
    {
     "name": "stderr",
     "output_type": "stream",
     "text": [
      "\r",
      " 15%|████████████▏                                                                    | 30/200 [06:30<37:50, 13.36s/it]"
     ]
    },
    {
     "name": "stdout",
     "output_type": "stream",
     "text": [
      "Residuals are not finite in the initial point.\n",
      "Residuals are not finite in the initial point.\n",
      "Residuals are not finite in the initial point.\n",
      "Residuals are not finite in the initial point.\n",
      "Residuals are not finite in the initial point.\n",
      "Residuals are not finite in the initial point.\n",
      "Residuals are not finite in the initial point.\n",
      "Residuals are not finite in the initial point.\n"
     ]
    },
    {
     "name": "stderr",
     "output_type": "stream",
     "text": [
      "\r",
      " 16%|████████████▌                                                                    | 31/200 [06:43<37:19, 13.25s/it]"
     ]
    },
    {
     "name": "stdout",
     "output_type": "stream",
     "text": [
      "Residuals are not finite in the initial point.\n",
      "Residuals are not finite in the initial point.\n",
      "Residuals are not finite in the initial point.\n",
      "Residuals are not finite in the initial point.\n",
      "Residuals are not finite in the initial point.\n",
      "Residuals are not finite in the initial point.\n",
      "Residuals are not finite in the initial point.\n",
      "Residuals are not finite in the initial point.\n"
     ]
    },
    {
     "name": "stderr",
     "output_type": "stream",
     "text": [
      "\r",
      " 16%|████████████▉                                                                    | 32/200 [06:55<36:38, 13.09s/it]"
     ]
    },
    {
     "name": "stdout",
     "output_type": "stream",
     "text": [
      "Residuals are not finite in the initial point.\n",
      "Residuals are not finite in the initial point.\n",
      "Residuals are not finite in the initial point.\n",
      "Residuals are not finite in the initial point.\n",
      "Residuals are not finite in the initial point.\n",
      "Residuals are not finite in the initial point.\n",
      "Residuals are not finite in the initial point.\n"
     ]
    },
    {
     "name": "stderr",
     "output_type": "stream",
     "text": [
      "\r",
      " 16%|█████████████▎                                                                   | 33/200 [07:09<36:40, 13.18s/it]"
     ]
    },
    {
     "name": "stdout",
     "output_type": "stream",
     "text": [
      "Residuals are not finite in the initial point.\n",
      "Residuals are not finite in the initial point.\n",
      "Residuals are not finite in the initial point.\n",
      "Residuals are not finite in the initial point.\n",
      "Residuals are not finite in the initial point.\n",
      "Residuals are not finite in the initial point.\n",
      "Residuals are not finite in the initial point.\n"
     ]
    },
    {
     "name": "stderr",
     "output_type": "stream",
     "text": [
      "\r",
      " 17%|█████████████▊                                                                   | 34/200 [07:21<35:39, 12.89s/it]"
     ]
    },
    {
     "name": "stdout",
     "output_type": "stream",
     "text": [
      "Residuals are not finite in the initial point.\n",
      "Residuals are not finite in the initial point.\n",
      "Residuals are not finite in the initial point.\n"
     ]
    },
    {
     "name": "stderr",
     "output_type": "stream",
     "text": [
      "\r",
      " 18%|██████████████▏                                                                  | 35/200 [07:33<34:47, 12.65s/it]"
     ]
    },
    {
     "name": "stdout",
     "output_type": "stream",
     "text": [
      "Residuals are not finite in the initial point.\n",
      "Residuals are not finite in the initial point.\n",
      "Residuals are not finite in the initial point.\n",
      "Residuals are not finite in the initial point.\n",
      "Residuals are not finite in the initial point.\n",
      "Residuals are not finite in the initial point.\n"
     ]
    },
    {
     "name": "stderr",
     "output_type": "stream",
     "text": [
      "\r",
      " 18%|██████████████▌                                                                  | 36/200 [07:46<34:32, 12.63s/it]"
     ]
    },
    {
     "name": "stdout",
     "output_type": "stream",
     "text": [
      "Residuals are not finite in the initial point.\n",
      "Residuals are not finite in the initial point.\n",
      "Residuals are not finite in the initial point.\n",
      "Residuals are not finite in the initial point.\n",
      "Residuals are not finite in the initial point.\n",
      "Residuals are not finite in the initial point.\n",
      "Residuals are not finite in the initial point.\n",
      "Residuals are not finite in the initial point.\n",
      "Residuals are not finite in the initial point.\n"
     ]
    },
    {
     "name": "stderr",
     "output_type": "stream",
     "text": [
      "\r",
      " 18%|██████████████▉                                                                  | 37/200 [07:59<35:02, 12.90s/it]"
     ]
    },
    {
     "name": "stdout",
     "output_type": "stream",
     "text": [
      "Residuals are not finite in the initial point.\n",
      "Residuals are not finite in the initial point.\n",
      "Residuals are not finite in the initial point.\n",
      "Residuals are not finite in the initial point.\n",
      "Residuals are not finite in the initial point.\n",
      "Residuals are not finite in the initial point.\n"
     ]
    },
    {
     "name": "stderr",
     "output_type": "stream",
     "text": [
      "\r",
      " 19%|███████████████▍                                                                 | 38/200 [08:12<34:35, 12.81s/it]"
     ]
    },
    {
     "name": "stdout",
     "output_type": "stream",
     "text": [
      "Residuals are not finite in the initial point.\n",
      "Residuals are not finite in the initial point.\n",
      "Residuals are not finite in the initial point.\n",
      "Residuals are not finite in the initial point.\n",
      "Residuals are not finite in the initial point.\n",
      "Residuals are not finite in the initial point.\n",
      "Residuals are not finite in the initial point.\n",
      "Residuals are not finite in the initial point.\n"
     ]
    },
    {
     "name": "stderr",
     "output_type": "stream",
     "text": [
      "\r",
      " 20%|███████████████▊                                                                 | 39/200 [08:24<33:50, 12.61s/it]"
     ]
    },
    {
     "name": "stdout",
     "output_type": "stream",
     "text": [
      "Residuals are not finite in the initial point.\n",
      "Residuals are not finite in the initial point.\n",
      "Residuals are not finite in the initial point.\n",
      "Residuals are not finite in the initial point.\n",
      "Residuals are not finite in the initial point.\n",
      "Residuals are not finite in the initial point.\n",
      "Residuals are not finite in the initial point.\n"
     ]
    },
    {
     "name": "stderr",
     "output_type": "stream",
     "text": [
      "\r",
      " 20%|████████████████▏                                                                | 40/200 [08:36<33:24, 12.53s/it]"
     ]
    },
    {
     "name": "stdout",
     "output_type": "stream",
     "text": [
      "Residuals are not finite in the initial point.\n",
      "Residuals are not finite in the initial point.\n",
      "Residuals are not finite in the initial point.\n",
      "Residuals are not finite in the initial point.\n",
      "Residuals are not finite in the initial point.\n",
      "Residuals are not finite in the initial point.\n",
      "Residuals are not finite in the initial point.\n"
     ]
    },
    {
     "name": "stderr",
     "output_type": "stream",
     "text": [
      "\r",
      " 20%|████████████████▌                                                                | 41/200 [08:49<33:44, 12.73s/it]"
     ]
    },
    {
     "name": "stdout",
     "output_type": "stream",
     "text": [
      "Residuals are not finite in the initial point.\n",
      "Residuals are not finite in the initial point.\n",
      "Residuals are not finite in the initial point.\n",
      "Residuals are not finite in the initial point.\n",
      "Residuals are not finite in the initial point.\n",
      "Residuals are not finite in the initial point.\n"
     ]
    },
    {
     "name": "stderr",
     "output_type": "stream",
     "text": [
      "\r",
      " 21%|█████████████████                                                                | 42/200 [09:02<33:18, 12.65s/it]"
     ]
    },
    {
     "name": "stdout",
     "output_type": "stream",
     "text": [
      "Residuals are not finite in the initial point.\n",
      "Residuals are not finite in the initial point.\n",
      "Residuals are not finite in the initial point.\n",
      "Residuals are not finite in the initial point.\n",
      "Residuals are not finite in the initial point.\n",
      "Residuals are not finite in the initial point.\n",
      "Residuals are not finite in the initial point.\n",
      "Residuals are not finite in the initial point.\n",
      "Residuals are not finite in the initial point.\n"
     ]
    },
    {
     "name": "stderr",
     "output_type": "stream",
     "text": [
      "\r",
      " 22%|█████████████████▍                                                               | 43/200 [09:14<33:00, 12.61s/it]"
     ]
    },
    {
     "name": "stdout",
     "output_type": "stream",
     "text": [
      "Residuals are not finite in the initial point.\n",
      "Residuals are not finite in the initial point.\n",
      "Residuals are not finite in the initial point.\n",
      "Residuals are not finite in the initial point.\n",
      "Residuals are not finite in the initial point.\n",
      "Residuals are not finite in the initial point.\n"
     ]
    },
    {
     "name": "stderr",
     "output_type": "stream",
     "text": [
      "\r",
      " 22%|█████████████████▊                                                               | 44/200 [09:27<32:34, 12.53s/it]"
     ]
    },
    {
     "name": "stdout",
     "output_type": "stream",
     "text": [
      "Residuals are not finite in the initial point.\n",
      "Residuals are not finite in the initial point.\n",
      "Residuals are not finite in the initial point.\n",
      "Residuals are not finite in the initial point.\n",
      "Residuals are not finite in the initial point.\n",
      "Residuals are not finite in the initial point.\n",
      "Residuals are not finite in the initial point.\n",
      "Residuals are not finite in the initial point.\n",
      "Residuals are not finite in the initial point.\n",
      "Residuals are not finite in the initial point.\n"
     ]
    },
    {
     "name": "stderr",
     "output_type": "stream",
     "text": [
      "\r",
      " 22%|██████████████████▏                                                              | 45/200 [09:40<32:52, 12.73s/it]"
     ]
    },
    {
     "name": "stdout",
     "output_type": "stream",
     "text": [
      "Residuals are not finite in the initial point.\n",
      "Residuals are not finite in the initial point.\n",
      "Residuals are not finite in the initial point.\n",
      "Residuals are not finite in the initial point.\n",
      "Residuals are not finite in the initial point.\n",
      "Residuals are not finite in the initial point.\n",
      "Residuals are not finite in the initial point.\n",
      "Residuals are not finite in the initial point.\n",
      "Residuals are not finite in the initial point.\n"
     ]
    },
    {
     "name": "stderr",
     "output_type": "stream",
     "text": [
      "\r",
      " 23%|██████████████████▋                                                              | 46/200 [09:52<31:55, 12.44s/it]"
     ]
    },
    {
     "name": "stdout",
     "output_type": "stream",
     "text": [
      "Residuals are not finite in the initial point.\n",
      "Residuals are not finite in the initial point.\n",
      "Residuals are not finite in the initial point.\n",
      "Residuals are not finite in the initial point.\n",
      "Residuals are not finite in the initial point.\n",
      "Residuals are not finite in the initial point.\n",
      "Residuals are not finite in the initial point.\n",
      "Residuals are not finite in the initial point.\n",
      "Residuals are not finite in the initial point.\n"
     ]
    },
    {
     "name": "stderr",
     "output_type": "stream",
     "text": [
      "\r",
      " 24%|███████████████████                                                              | 47/200 [10:05<32:07, 12.60s/it]"
     ]
    },
    {
     "name": "stdout",
     "output_type": "stream",
     "text": [
      "Residuals are not finite in the initial point.\n",
      "Residuals are not finite in the initial point.\n",
      "Residuals are not finite in the initial point.\n",
      "Residuals are not finite in the initial point.\n",
      "Residuals are not finite in the initial point.\n",
      "Residuals are not finite in the initial point.\n",
      "Residuals are not finite in the initial point.\n",
      "Residuals are not finite in the initial point.\n"
     ]
    },
    {
     "name": "stderr",
     "output_type": "stream",
     "text": [
      "\r",
      " 24%|███████████████████▍                                                             | 48/200 [10:20<33:54, 13.38s/it]"
     ]
    },
    {
     "name": "stdout",
     "output_type": "stream",
     "text": [
      "Residuals are not finite in the initial point.\n",
      "Residuals are not finite in the initial point.\n",
      "Residuals are not finite in the initial point.\n",
      "Residuals are not finite in the initial point.\n",
      "Residuals are not finite in the initial point.\n"
     ]
    },
    {
     "name": "stderr",
     "output_type": "stream",
     "text": [
      "\r",
      " 24%|███████████████████▊                                                             | 49/200 [10:34<34:08, 13.56s/it]"
     ]
    },
    {
     "name": "stdout",
     "output_type": "stream",
     "text": [
      "Residuals are not finite in the initial point.\n",
      "Residuals are not finite in the initial point.\n",
      "Residuals are not finite in the initial point.\n",
      "Residuals are not finite in the initial point.\n",
      "Residuals are not finite in the initial point.\n",
      "Residuals are not finite in the initial point.\n",
      "Residuals are not finite in the initial point.\n",
      "Residuals are not finite in the initial point.\n",
      "Residuals are not finite in the initial point.\n",
      "Residuals are not finite in the initial point.\n",
      "Residuals are not finite in the initial point.\n",
      "Residuals are not finite in the initial point.\n"
     ]
    },
    {
     "name": "stderr",
     "output_type": "stream",
     "text": [
      "\r",
      " 25%|████████████████████▎                                                            | 50/200 [10:46<33:10, 13.27s/it]"
     ]
    },
    {
     "name": "stdout",
     "output_type": "stream",
     "text": [
      "Residuals are not finite in the initial point.\n",
      "Residuals are not finite in the initial point.\n",
      "Residuals are not finite in the initial point.\n",
      "Residuals are not finite in the initial point.\n",
      "Residuals are not finite in the initial point.\n",
      "Residuals are not finite in the initial point.\n",
      "Residuals are not finite in the initial point.\n",
      "Residuals are not finite in the initial point.\n",
      "Residuals are not finite in the initial point.\n"
     ]
    },
    {
     "name": "stderr",
     "output_type": "stream",
     "text": [
      "\r",
      " 26%|████████████████████▋                                                            | 51/200 [10:58<31:57, 12.87s/it]"
     ]
    },
    {
     "name": "stdout",
     "output_type": "stream",
     "text": [
      "Residuals are not finite in the initial point.\n",
      "Residuals are not finite in the initial point.\n",
      "Residuals are not finite in the initial point.\n",
      "Residuals are not finite in the initial point.\n",
      "Residuals are not finite in the initial point.\n",
      "Residuals are not finite in the initial point.\n",
      "Residuals are not finite in the initial point.\n",
      "Residuals are not finite in the initial point.\n"
     ]
    },
    {
     "name": "stderr",
     "output_type": "stream",
     "text": [
      "\r",
      " 26%|█████████████████████                                                            | 52/200 [11:12<32:36, 13.22s/it]"
     ]
    },
    {
     "name": "stdout",
     "output_type": "stream",
     "text": [
      "Residuals are not finite in the initial point.\n",
      "Residuals are not finite in the initial point.\n",
      "Residuals are not finite in the initial point.\n",
      "Residuals are not finite in the initial point.\n",
      "Residuals are not finite in the initial point.\n",
      "Residuals are not finite in the initial point.\n",
      "Residuals are not finite in the initial point.\n",
      "Residuals are not finite in the initial point.\n"
     ]
    },
    {
     "name": "stderr",
     "output_type": "stream",
     "text": [
      "\r",
      " 26%|█████████████████████▍                                                           | 53/200 [11:26<32:34, 13.29s/it]"
     ]
    },
    {
     "name": "stdout",
     "output_type": "stream",
     "text": [
      "Residuals are not finite in the initial point.\n",
      "Residuals are not finite in the initial point.\n",
      "Residuals are not finite in the initial point.\n",
      "Residuals are not finite in the initial point.\n",
      "Residuals are not finite in the initial point.\n",
      "Residuals are not finite in the initial point.\n",
      "Residuals are not finite in the initial point.\n",
      "Residuals are not finite in the initial point.\n"
     ]
    },
    {
     "name": "stderr",
     "output_type": "stream",
     "text": [
      "\r",
      " 27%|█████████████████████▊                                                           | 54/200 [11:39<32:10, 13.22s/it]"
     ]
    },
    {
     "name": "stdout",
     "output_type": "stream",
     "text": [
      "Residuals are not finite in the initial point.\n",
      "Residuals are not finite in the initial point.\n",
      "Residuals are not finite in the initial point.\n",
      "Residuals are not finite in the initial point.\n",
      "Residuals are not finite in the initial point.\n",
      "Residuals are not finite in the initial point.\n",
      "Residuals are not finite in the initial point.\n",
      "Residuals are not finite in the initial point.\n"
     ]
    },
    {
     "name": "stderr",
     "output_type": "stream",
     "text": [
      "\r",
      " 28%|██████████████████████▎                                                          | 55/200 [11:52<31:32, 13.05s/it]"
     ]
    },
    {
     "name": "stdout",
     "output_type": "stream",
     "text": [
      "Residuals are not finite in the initial point.\n",
      "Residuals are not finite in the initial point.\n",
      "Residuals are not finite in the initial point.\n",
      "Residuals are not finite in the initial point.\n",
      "Residuals are not finite in the initial point.\n",
      "Residuals are not finite in the initial point.\n"
     ]
    },
    {
     "name": "stderr",
     "output_type": "stream",
     "text": [
      "\r",
      " 28%|██████████████████████▋                                                          | 56/200 [12:04<30:56, 12.89s/it]"
     ]
    },
    {
     "name": "stdout",
     "output_type": "stream",
     "text": [
      "Residuals are not finite in the initial point.\n",
      "Residuals are not finite in the initial point.\n",
      "Residuals are not finite in the initial point.\n",
      "Residuals are not finite in the initial point.\n",
      "Residuals are not finite in the initial point.\n",
      "Residuals are not finite in the initial point.\n",
      "Residuals are not finite in the initial point.\n",
      "Residuals are not finite in the initial point.\n",
      "Residuals are not finite in the initial point.\n",
      "Residuals are not finite in the initial point.\n"
     ]
    },
    {
     "name": "stderr",
     "output_type": "stream",
     "text": [
      "\r",
      " 28%|███████████████████████                                                          | 57/200 [12:17<30:43, 12.89s/it]"
     ]
    },
    {
     "name": "stdout",
     "output_type": "stream",
     "text": [
      "Residuals are not finite in the initial point.\n",
      "Residuals are not finite in the initial point.\n",
      "Residuals are not finite in the initial point.\n",
      "Residuals are not finite in the initial point.\n",
      "Residuals are not finite in the initial point.\n",
      "Residuals are not finite in the initial point.\n",
      "Residuals are not finite in the initial point.\n",
      "Residuals are not finite in the initial point.\n",
      "Residuals are not finite in the initial point.\n"
     ]
    },
    {
     "name": "stderr",
     "output_type": "stream",
     "text": [
      "\r",
      " 29%|███████████████████████▍                                                         | 58/200 [12:29<30:07, 12.73s/it]"
     ]
    },
    {
     "name": "stdout",
     "output_type": "stream",
     "text": [
      "Residuals are not finite in the initial point.\n",
      "Residuals are not finite in the initial point.\n",
      "Residuals are not finite in the initial point.\n",
      "Residuals are not finite in the initial point.\n",
      "Residuals are not finite in the initial point.\n",
      "Residuals are not finite in the initial point.\n",
      "Residuals are not finite in the initial point.\n"
     ]
    },
    {
     "name": "stderr",
     "output_type": "stream",
     "text": [
      "\r",
      " 30%|███████████████████████▉                                                         | 59/200 [12:42<30:03, 12.79s/it]"
     ]
    },
    {
     "name": "stdout",
     "output_type": "stream",
     "text": [
      "Residuals are not finite in the initial point.\n",
      "Residuals are not finite in the initial point.\n",
      "Residuals are not finite in the initial point.\n",
      "Residuals are not finite in the initial point.\n",
      "Residuals are not finite in the initial point.\n",
      "Residuals are not finite in the initial point.\n"
     ]
    },
    {
     "name": "stderr",
     "output_type": "stream",
     "text": [
      "\r",
      " 30%|████████████████████████▎                                                        | 60/200 [12:55<29:46, 12.76s/it]"
     ]
    },
    {
     "name": "stdout",
     "output_type": "stream",
     "text": [
      "Residuals are not finite in the initial point.\n",
      "Residuals are not finite in the initial point.\n",
      "Residuals are not finite in the initial point.\n",
      "Residuals are not finite in the initial point.\n",
      "Residuals are not finite in the initial point.\n",
      "Residuals are not finite in the initial point.\n",
      "Residuals are not finite in the initial point.\n",
      "Residuals are not finite in the initial point.\n",
      "Residuals are not finite in the initial point.\n"
     ]
    },
    {
     "name": "stderr",
     "output_type": "stream",
     "text": [
      "\r",
      " 30%|████████████████████████▋                                                        | 61/200 [13:08<29:44, 12.84s/it]"
     ]
    },
    {
     "name": "stdout",
     "output_type": "stream",
     "text": [
      "Residuals are not finite in the initial point.\n",
      "Residuals are not finite in the initial point.\n",
      "Residuals are not finite in the initial point.\n",
      "Residuals are not finite in the initial point.\n",
      "Residuals are not finite in the initial point.\n",
      "Residuals are not finite in the initial point.\n",
      "Residuals are not finite in the initial point.\n",
      "Residuals are not finite in the initial point.\n",
      "Residuals are not finite in the initial point.\n"
     ]
    },
    {
     "name": "stderr",
     "output_type": "stream",
     "text": [
      "\r",
      " 31%|█████████████████████████                                                        | 62/200 [13:21<29:41, 12.91s/it]"
     ]
    },
    {
     "name": "stdout",
     "output_type": "stream",
     "text": [
      "Residuals are not finite in the initial point.\n",
      "Residuals are not finite in the initial point.\n",
      "Residuals are not finite in the initial point.\n",
      "Residuals are not finite in the initial point.\n",
      "Residuals are not finite in the initial point.\n",
      "Residuals are not finite in the initial point.\n"
     ]
    },
    {
     "name": "stderr",
     "output_type": "stream",
     "text": [
      "\r",
      " 32%|█████████████████████████▌                                                       | 63/200 [13:34<29:33, 12.94s/it]"
     ]
    },
    {
     "name": "stdout",
     "output_type": "stream",
     "text": [
      "Residuals are not finite in the initial point.\n",
      "Residuals are not finite in the initial point.\n",
      "Residuals are not finite in the initial point.\n",
      "Residuals are not finite in the initial point.\n",
      "Residuals are not finite in the initial point.\n",
      "Residuals are not finite in the initial point.\n",
      "Residuals are not finite in the initial point.\n",
      "Residuals are not finite in the initial point.\n"
     ]
    },
    {
     "name": "stderr",
     "output_type": "stream",
     "text": [
      "\r",
      " 32%|█████████████████████████▉                                                       | 64/200 [13:47<29:24, 12.98s/it]"
     ]
    },
    {
     "name": "stdout",
     "output_type": "stream",
     "text": [
      "Residuals are not finite in the initial point.\n",
      "Residuals are not finite in the initial point.\n",
      "Residuals are not finite in the initial point.\n",
      "Residuals are not finite in the initial point.\n",
      "Residuals are not finite in the initial point.\n",
      "Residuals are not finite in the initial point.\n",
      "Residuals are not finite in the initial point.\n",
      "Residuals are not finite in the initial point.\n"
     ]
    },
    {
     "name": "stderr",
     "output_type": "stream",
     "text": [
      "\r",
      " 32%|██████████████████████████▎                                                      | 65/200 [14:02<30:42, 13.65s/it]"
     ]
    },
    {
     "name": "stdout",
     "output_type": "stream",
     "text": [
      "Residuals are not finite in the initial point.\n",
      "Residuals are not finite in the initial point.\n",
      "Residuals are not finite in the initial point.\n",
      "Residuals are not finite in the initial point.\n",
      "Residuals are not finite in the initial point.\n",
      "Residuals are not finite in the initial point.\n",
      "Residuals are not finite in the initial point.\n",
      "Residuals are not finite in the initial point.\n",
      "Residuals are not finite in the initial point.\n"
     ]
    },
    {
     "name": "stderr",
     "output_type": "stream",
     "text": [
      "\r",
      " 33%|██████████████████████████▋                                                      | 66/200 [14:30<39:58, 17.90s/it]"
     ]
    },
    {
     "name": "stdout",
     "output_type": "stream",
     "text": [
      "Residuals are not finite in the initial point.\n",
      "Residuals are not finite in the initial point.\n",
      "Residuals are not finite in the initial point.\n",
      "Residuals are not finite in the initial point.\n",
      "Residuals are not finite in the initial point.\n",
      "Residuals are not finite in the initial point.\n"
     ]
    },
    {
     "name": "stderr",
     "output_type": "stream",
     "text": [
      "\r",
      " 34%|███████████████████████████▏                                                     | 67/200 [15:05<50:54, 22.97s/it]"
     ]
    },
    {
     "name": "stdout",
     "output_type": "stream",
     "text": [
      "Residuals are not finite in the initial point.\n",
      "Residuals are not finite in the initial point.\n",
      "Residuals are not finite in the initial point.\n",
      "Residuals are not finite in the initial point.\n",
      "Residuals are not finite in the initial point.\n",
      "Residuals are not finite in the initial point.\n",
      "Residuals are not finite in the initial point.\n"
     ]
    },
    {
     "name": "stderr",
     "output_type": "stream",
     "text": [
      "\r",
      " 34%|███████████████████████████▌                                                     | 68/200 [15:32<53:02, 24.11s/it]"
     ]
    },
    {
     "name": "stdout",
     "output_type": "stream",
     "text": [
      "Residuals are not finite in the initial point.\n",
      "Residuals are not finite in the initial point.\n",
      "Residuals are not finite in the initial point.\n",
      "Residuals are not finite in the initial point.\n",
      "Residuals are not finite in the initial point.\n",
      "Residuals are not finite in the initial point.\n",
      "Residuals are not finite in the initial point.\n",
      "Residuals are not finite in the initial point.\n"
     ]
    },
    {
     "name": "stderr",
     "output_type": "stream",
     "text": [
      "\r",
      " 34%|███████████████████████████▉                                                     | 69/200 [16:02<56:36, 25.93s/it]"
     ]
    },
    {
     "name": "stdout",
     "output_type": "stream",
     "text": [
      "Residuals are not finite in the initial point.\n",
      "Residuals are not finite in the initial point.\n",
      "Residuals are not finite in the initial point.\n",
      "Residuals are not finite in the initial point.\n",
      "Residuals are not finite in the initial point.\n",
      "Residuals are not finite in the initial point.\n",
      "Residuals are not finite in the initial point.\n"
     ]
    },
    {
     "name": "stderr",
     "output_type": "stream",
     "text": [
      "\r",
      " 35%|████████████████████████████▎                                                    | 70/200 [16:26<54:56, 25.36s/it]"
     ]
    },
    {
     "name": "stdout",
     "output_type": "stream",
     "text": [
      "Residuals are not finite in the initial point.\n",
      "Residuals are not finite in the initial point.\n",
      "Residuals are not finite in the initial point.\n",
      "Residuals are not finite in the initial point.\n",
      "Residuals are not finite in the initial point.\n",
      "Residuals are not finite in the initial point.\n"
     ]
    },
    {
     "name": "stderr",
     "output_type": "stream",
     "text": [
      "\r",
      " 36%|████████████████████████████▊                                                    | 71/200 [16:53<55:22, 25.76s/it]"
     ]
    },
    {
     "name": "stdout",
     "output_type": "stream",
     "text": [
      "Residuals are not finite in the initial point.\n",
      "Residuals are not finite in the initial point.\n",
      "Residuals are not finite in the initial point.\n",
      "Residuals are not finite in the initial point.\n",
      "Residuals are not finite in the initial point.\n",
      "Residuals are not finite in the initial point.\n"
     ]
    },
    {
     "name": "stderr",
     "output_type": "stream",
     "text": [
      "\r",
      " 36%|█████████████████████████████▏                                                   | 72/200 [17:16<53:37, 25.14s/it]"
     ]
    },
    {
     "name": "stdout",
     "output_type": "stream",
     "text": [
      "Residuals are not finite in the initial point.\n",
      "Residuals are not finite in the initial point.\n",
      "Residuals are not finite in the initial point.\n",
      "Residuals are not finite in the initial point.\n",
      "Residuals are not finite in the initial point.\n",
      "Residuals are not finite in the initial point.\n",
      "Residuals are not finite in the initial point.\n"
     ]
    },
    {
     "name": "stderr",
     "output_type": "stream",
     "text": [
      "\r",
      " 36%|█████████████████████████████▌                                                   | 73/200 [17:29<45:19, 21.41s/it]"
     ]
    },
    {
     "name": "stdout",
     "output_type": "stream",
     "text": [
      "Residuals are not finite in the initial point.\n",
      "Residuals are not finite in the initial point.\n",
      "Residuals are not finite in the initial point.\n",
      "Residuals are not finite in the initial point.\n",
      "Residuals are not finite in the initial point.\n",
      "Residuals are not finite in the initial point.\n",
      "Residuals are not finite in the initial point.\n",
      "Residuals are not finite in the initial point.\n",
      "Residuals are not finite in the initial point.\n",
      "Residuals are not finite in the initial point.\n",
      "Residuals are not finite in the initial point.\n"
     ]
    },
    {
     "name": "stderr",
     "output_type": "stream",
     "text": [
      "\r",
      " 37%|█████████████████████████████▉                                                   | 74/200 [17:42<39:41, 18.90s/it]"
     ]
    },
    {
     "name": "stdout",
     "output_type": "stream",
     "text": [
      "Residuals are not finite in the initial point.\n",
      "Residuals are not finite in the initial point.\n",
      "Residuals are not finite in the initial point.\n",
      "Residuals are not finite in the initial point.\n",
      "Residuals are not finite in the initial point.\n",
      "Residuals are not finite in the initial point.\n"
     ]
    },
    {
     "name": "stderr",
     "output_type": "stream",
     "text": [
      "\r",
      " 38%|██████████████████████████████▍                                                  | 75/200 [17:55<35:40, 17.12s/it]"
     ]
    },
    {
     "name": "stdout",
     "output_type": "stream",
     "text": [
      "Residuals are not finite in the initial point.\n",
      "Residuals are not finite in the initial point.\n",
      "Residuals are not finite in the initial point.\n",
      "Residuals are not finite in the initial point.\n",
      "Residuals are not finite in the initial point.\n",
      "Residuals are not finite in the initial point.\n",
      "Residuals are not finite in the initial point.\n",
      "Residuals are not finite in the initial point.\n"
     ]
    },
    {
     "name": "stderr",
     "output_type": "stream",
     "text": [
      "\r",
      " 38%|██████████████████████████████▊                                                  | 76/200 [18:07<32:25, 15.69s/it]"
     ]
    },
    {
     "name": "stdout",
     "output_type": "stream",
     "text": [
      "Residuals are not finite in the initial point.\n",
      "Residuals are not finite in the initial point.\n",
      "Residuals are not finite in the initial point.\n",
      "Residuals are not finite in the initial point.\n",
      "Residuals are not finite in the initial point.\n",
      "Residuals are not finite in the initial point.\n",
      "Residuals are not finite in the initial point.\n"
     ]
    },
    {
     "name": "stderr",
     "output_type": "stream",
     "text": [
      "\r",
      " 38%|███████████████████████████████▏                                                 | 77/200 [18:20<30:22, 14.82s/it]"
     ]
    },
    {
     "name": "stdout",
     "output_type": "stream",
     "text": [
      "Residuals are not finite in the initial point.\n",
      "Residuals are not finite in the initial point.\n",
      "Residuals are not finite in the initial point.\n",
      "Residuals are not finite in the initial point.\n",
      "Residuals are not finite in the initial point.\n",
      "Residuals are not finite in the initial point.\n",
      "Residuals are not finite in the initial point.\n",
      "Residuals are not finite in the initial point.\n",
      "Residuals are not finite in the initial point.\n",
      "Residuals are not finite in the initial point.\n",
      "Residuals are not finite in the initial point.\n"
     ]
    },
    {
     "name": "stderr",
     "output_type": "stream",
     "text": [
      "\r",
      " 39%|███████████████████████████████▌                                                 | 78/200 [18:33<28:52, 14.20s/it]"
     ]
    },
    {
     "name": "stdout",
     "output_type": "stream",
     "text": [
      "Residuals are not finite in the initial point.\n",
      "Residuals are not finite in the initial point.\n",
      "Residuals are not finite in the initial point.\n",
      "Residuals are not finite in the initial point.\n",
      "Residuals are not finite in the initial point.\n",
      "Residuals are not finite in the initial point.\n",
      "Residuals are not finite in the initial point.\n",
      "Residuals are not finite in the initial point.\n"
     ]
    },
    {
     "name": "stderr",
     "output_type": "stream",
     "text": [
      "\r",
      " 40%|███████████████████████████████▉                                                 | 79/200 [18:47<28:41, 14.23s/it]"
     ]
    },
    {
     "name": "stdout",
     "output_type": "stream",
     "text": [
      "Residuals are not finite in the initial point.\n",
      "Residuals are not finite in the initial point.\n",
      "Residuals are not finite in the initial point.\n",
      "Residuals are not finite in the initial point.\n",
      "Residuals are not finite in the initial point.\n",
      "Residuals are not finite in the initial point.\n",
      "Residuals are not finite in the initial point.\n"
     ]
    },
    {
     "name": "stderr",
     "output_type": "stream",
     "text": [
      "\r",
      " 40%|████████████████████████████████▍                                                | 80/200 [19:01<28:10, 14.08s/it]"
     ]
    },
    {
     "name": "stdout",
     "output_type": "stream",
     "text": [
      "Residuals are not finite in the initial point.\n",
      "Residuals are not finite in the initial point.\n",
      "Residuals are not finite in the initial point.\n",
      "Residuals are not finite in the initial point.\n",
      "Residuals are not finite in the initial point.\n",
      "Residuals are not finite in the initial point.\n",
      "Residuals are not finite in the initial point.\n",
      "Residuals are not finite in the initial point.\n",
      "Residuals are not finite in the initial point.\n"
     ]
    },
    {
     "name": "stderr",
     "output_type": "stream",
     "text": [
      "\r",
      " 40%|████████████████████████████████▊                                                | 81/200 [19:15<27:42, 13.97s/it]"
     ]
    },
    {
     "name": "stdout",
     "output_type": "stream",
     "text": [
      "Residuals are not finite in the initial point.\n",
      "Residuals are not finite in the initial point.\n",
      "Residuals are not finite in the initial point.\n",
      "Residuals are not finite in the initial point.\n",
      "Residuals are not finite in the initial point.\n",
      "Residuals are not finite in the initial point.\n",
      "Residuals are not finite in the initial point.\n"
     ]
    },
    {
     "name": "stderr",
     "output_type": "stream",
     "text": [
      "\r",
      " 41%|█████████████████████████████████▏                                               | 82/200 [19:28<26:58, 13.71s/it]"
     ]
    },
    {
     "name": "stdout",
     "output_type": "stream",
     "text": [
      "Residuals are not finite in the initial point.\n",
      "Residuals are not finite in the initial point.\n",
      "Residuals are not finite in the initial point.\n",
      "Residuals are not finite in the initial point.\n",
      "Residuals are not finite in the initial point.\n",
      "Residuals are not finite in the initial point.\n",
      "Residuals are not finite in the initial point.\n",
      "Residuals are not finite in the initial point.\n",
      "Residuals are not finite in the initial point.\n"
     ]
    },
    {
     "name": "stderr",
     "output_type": "stream",
     "text": [
      "\r",
      " 42%|█████████████████████████████████▌                                               | 83/200 [19:41<26:29, 13.59s/it]"
     ]
    },
    {
     "name": "stdout",
     "output_type": "stream",
     "text": [
      "Residuals are not finite in the initial point.\n",
      "Residuals are not finite in the initial point.\n",
      "Residuals are not finite in the initial point.\n",
      "Residuals are not finite in the initial point.\n",
      "Residuals are not finite in the initial point.\n",
      "Residuals are not finite in the initial point.\n",
      "Residuals are not finite in the initial point.\n"
     ]
    },
    {
     "name": "stderr",
     "output_type": "stream",
     "text": [
      "\r",
      " 42%|██████████████████████████████████                                               | 84/200 [19:56<27:01, 13.98s/it]"
     ]
    },
    {
     "name": "stdout",
     "output_type": "stream",
     "text": [
      "Residuals are not finite in the initial point.\n",
      "Residuals are not finite in the initial point.\n",
      "Residuals are not finite in the initial point.\n",
      "Residuals are not finite in the initial point.\n",
      "Residuals are not finite in the initial point.\n",
      "Residuals are not finite in the initial point.\n",
      "Residuals are not finite in the initial point.\n",
      "Residuals are not finite in the initial point.\n",
      "Residuals are not finite in the initial point.\n",
      "Residuals are not finite in the initial point.\n"
     ]
    },
    {
     "name": "stderr",
     "output_type": "stream",
     "text": [
      "\r",
      " 42%|██████████████████████████████████▍                                              | 85/200 [20:15<29:35, 15.44s/it]"
     ]
    },
    {
     "name": "stdout",
     "output_type": "stream",
     "text": [
      "Residuals are not finite in the initial point.\n",
      "Residuals are not finite in the initial point.\n",
      "Residuals are not finite in the initial point.\n",
      "Residuals are not finite in the initial point.\n",
      "Residuals are not finite in the initial point.\n"
     ]
    },
    {
     "name": "stderr",
     "output_type": "stream",
     "text": [
      "\r",
      " 43%|██████████████████████████████████▊                                              | 86/200 [20:29<28:41, 15.10s/it]"
     ]
    },
    {
     "name": "stdout",
     "output_type": "stream",
     "text": [
      "Residuals are not finite in the initial point.\n",
      "Residuals are not finite in the initial point.\n",
      "Residuals are not finite in the initial point.\n",
      "Residuals are not finite in the initial point.\n",
      "Residuals are not finite in the initial point.\n",
      "Residuals are not finite in the initial point.\n",
      "Residuals are not finite in the initial point.\n",
      "Residuals are not finite in the initial point.\n",
      "Residuals are not finite in the initial point.\n",
      "Residuals are not finite in the initial point.\n"
     ]
    },
    {
     "name": "stderr",
     "output_type": "stream",
     "text": [
      "\r",
      " 44%|███████████████████████████████████▏                                             | 87/200 [20:42<27:15, 14.47s/it]"
     ]
    },
    {
     "name": "stdout",
     "output_type": "stream",
     "text": [
      "Residuals are not finite in the initial point.\n",
      "Residuals are not finite in the initial point.\n",
      "Residuals are not finite in the initial point.\n",
      "Residuals are not finite in the initial point.\n",
      "Residuals are not finite in the initial point.\n",
      "Residuals are not finite in the initial point.\n",
      "Residuals are not finite in the initial point.\n",
      "Residuals are not finite in the initial point.\n",
      "Residuals are not finite in the initial point.\n"
     ]
    },
    {
     "name": "stderr",
     "output_type": "stream",
     "text": [
      "\r",
      " 44%|███████████████████████████████████▋                                             | 88/200 [20:55<26:16, 14.08s/it]"
     ]
    },
    {
     "name": "stdout",
     "output_type": "stream",
     "text": [
      "Residuals are not finite in the initial point.\n",
      "Residuals are not finite in the initial point.\n",
      "Residuals are not finite in the initial point.\n",
      "Residuals are not finite in the initial point.\n",
      "Residuals are not finite in the initial point.\n",
      "Residuals are not finite in the initial point.\n"
     ]
    },
    {
     "name": "stderr",
     "output_type": "stream",
     "text": [
      "\r",
      " 44%|████████████████████████████████████                                             | 89/200 [21:10<26:16, 14.21s/it]"
     ]
    },
    {
     "name": "stdout",
     "output_type": "stream",
     "text": [
      "Residuals are not finite in the initial point.\n",
      "Residuals are not finite in the initial point.\n",
      "Residuals are not finite in the initial point.\n",
      "Residuals are not finite in the initial point.\n",
      "Residuals are not finite in the initial point.\n",
      "Residuals are not finite in the initial point.\n",
      "Residuals are not finite in the initial point.\n",
      "Residuals are not finite in the initial point.\n",
      "Residuals are not finite in the initial point.\n",
      "Residuals are not finite in the initial point.\n"
     ]
    },
    {
     "name": "stderr",
     "output_type": "stream",
     "text": [
      "\r",
      " 45%|████████████████████████████████████▍                                            | 90/200 [21:23<25:32, 13.93s/it]"
     ]
    },
    {
     "name": "stdout",
     "output_type": "stream",
     "text": [
      "Residuals are not finite in the initial point.\n",
      "Residuals are not finite in the initial point.\n",
      "Residuals are not finite in the initial point.\n",
      "Residuals are not finite in the initial point.\n",
      "Residuals are not finite in the initial point.\n",
      "Residuals are not finite in the initial point.\n",
      "Residuals are not finite in the initial point.\n",
      "Residuals are not finite in the initial point.\n",
      "Residuals are not finite in the initial point.\n"
     ]
    },
    {
     "name": "stderr",
     "output_type": "stream",
     "text": [
      "\r",
      " 46%|████████████████████████████████████▊                                            | 91/200 [21:37<25:07, 13.83s/it]"
     ]
    },
    {
     "name": "stdout",
     "output_type": "stream",
     "text": [
      "Residuals are not finite in the initial point.\n",
      "Residuals are not finite in the initial point.\n",
      "Residuals are not finite in the initial point.\n",
      "Residuals are not finite in the initial point.\n",
      "Residuals are not finite in the initial point.\n",
      "Residuals are not finite in the initial point.\n",
      "Residuals are not finite in the initial point.\n",
      "Residuals are not finite in the initial point.\n",
      "Residuals are not finite in the initial point.\n"
     ]
    },
    {
     "name": "stderr",
     "output_type": "stream",
     "text": [
      "\r",
      " 46%|█████████████████████████████████████▎                                           | 92/200 [21:50<24:23, 13.55s/it]"
     ]
    },
    {
     "name": "stdout",
     "output_type": "stream",
     "text": [
      "Residuals are not finite in the initial point.\n",
      "Residuals are not finite in the initial point.\n",
      "Residuals are not finite in the initial point.\n",
      "Residuals are not finite in the initial point.\n",
      "Residuals are not finite in the initial point.\n",
      "Residuals are not finite in the initial point.\n",
      "Residuals are not finite in the initial point.\n",
      "Residuals are not finite in the initial point.\n",
      "Residuals are not finite in the initial point.\n"
     ]
    },
    {
     "name": "stderr",
     "output_type": "stream",
     "text": [
      "\r",
      " 46%|█████████████████████████████████████▋                                           | 93/200 [22:02<23:40, 13.28s/it]"
     ]
    },
    {
     "name": "stdout",
     "output_type": "stream",
     "text": [
      "Residuals are not finite in the initial point.\n",
      "Residuals are not finite in the initial point.\n",
      "Residuals are not finite in the initial point.\n",
      "Residuals are not finite in the initial point.\n",
      "Residuals are not finite in the initial point.\n",
      "Residuals are not finite in the initial point.\n",
      "Residuals are not finite in the initial point.\n",
      "Residuals are not finite in the initial point.\n",
      "Residuals are not finite in the initial point.\n"
     ]
    },
    {
     "name": "stderr",
     "output_type": "stream",
     "text": [
      "\r",
      " 47%|██████████████████████████████████████                                           | 94/200 [22:17<24:18, 13.76s/it]"
     ]
    },
    {
     "name": "stdout",
     "output_type": "stream",
     "text": [
      "Residuals are not finite in the initial point.\n",
      "Residuals are not finite in the initial point.\n",
      "Residuals are not finite in the initial point.\n",
      "Residuals are not finite in the initial point.\n",
      "Residuals are not finite in the initial point.\n",
      "Residuals are not finite in the initial point.\n",
      "Residuals are not finite in the initial point.\n"
     ]
    },
    {
     "name": "stderr",
     "output_type": "stream",
     "text": [
      "\r",
      " 48%|██████████████████████████████████████▍                                          | 95/200 [22:29<23:21, 13.35s/it]"
     ]
    },
    {
     "name": "stdout",
     "output_type": "stream",
     "text": [
      "Residuals are not finite in the initial point.\n",
      "Residuals are not finite in the initial point.\n",
      "Residuals are not finite in the initial point.\n",
      "Residuals are not finite in the initial point.\n",
      "Residuals are not finite in the initial point.\n",
      "Residuals are not finite in the initial point.\n",
      "Residuals are not finite in the initial point.\n"
     ]
    },
    {
     "name": "stderr",
     "output_type": "stream",
     "text": [
      "\r",
      " 48%|██████████████████████████████████████▉                                          | 96/200 [22:43<23:04, 13.31s/it]"
     ]
    },
    {
     "name": "stdout",
     "output_type": "stream",
     "text": [
      "Residuals are not finite in the initial point.\n",
      "Residuals are not finite in the initial point.\n",
      "Residuals are not finite in the initial point.\n",
      "Residuals are not finite in the initial point.\n",
      "Residuals are not finite in the initial point.\n",
      "Residuals are not finite in the initial point.\n",
      "Residuals are not finite in the initial point.\n"
     ]
    },
    {
     "name": "stderr",
     "output_type": "stream",
     "text": [
      "\r",
      " 48%|███████████████████████████████████████▎                                         | 97/200 [22:57<23:17, 13.57s/it]"
     ]
    },
    {
     "name": "stdout",
     "output_type": "stream",
     "text": [
      "Residuals are not finite in the initial point.\n",
      "Residuals are not finite in the initial point.\n",
      "Residuals are not finite in the initial point.\n",
      "Residuals are not finite in the initial point.\n",
      "Residuals are not finite in the initial point.\n",
      "Residuals are not finite in the initial point.\n",
      "Residuals are not finite in the initial point.\n",
      "Residuals are not finite in the initial point.\n",
      "Residuals are not finite in the initial point.\n"
     ]
    },
    {
     "name": "stderr",
     "output_type": "stream",
     "text": [
      "\r",
      " 49%|███████████████████████████████████████▋                                         | 98/200 [23:10<22:59, 13.52s/it]"
     ]
    },
    {
     "name": "stdout",
     "output_type": "stream",
     "text": [
      "Residuals are not finite in the initial point.\n",
      "Residuals are not finite in the initial point.\n",
      "Residuals are not finite in the initial point.\n",
      "Residuals are not finite in the initial point.\n",
      "Residuals are not finite in the initial point.\n",
      "Residuals are not finite in the initial point.\n",
      "Residuals are not finite in the initial point.\n",
      "Residuals are not finite in the initial point.\n"
     ]
    },
    {
     "name": "stderr",
     "output_type": "stream",
     "text": [
      "\r",
      " 50%|████████████████████████████████████████                                         | 99/200 [23:24<22:45, 13.52s/it]"
     ]
    },
    {
     "name": "stdout",
     "output_type": "stream",
     "text": [
      "Residuals are not finite in the initial point.\n",
      "Residuals are not finite in the initial point.\n",
      "Residuals are not finite in the initial point.\n",
      "Residuals are not finite in the initial point.\n",
      "Residuals are not finite in the initial point.\n",
      "Residuals are not finite in the initial point.\n",
      "Residuals are not finite in the initial point.\n"
     ]
    },
    {
     "name": "stderr",
     "output_type": "stream",
     "text": [
      "\r",
      " 50%|████████████████████████████████████████                                        | 100/200 [23:38<22:48, 13.69s/it]"
     ]
    },
    {
     "name": "stdout",
     "output_type": "stream",
     "text": [
      "Residuals are not finite in the initial point.\n",
      "Residuals are not finite in the initial point.\n",
      "Residuals are not finite in the initial point.\n",
      "Residuals are not finite in the initial point.\n",
      "Residuals are not finite in the initial point.\n",
      "Residuals are not finite in the initial point.\n"
     ]
    },
    {
     "name": "stderr",
     "output_type": "stream",
     "text": [
      "\r",
      " 50%|████████████████████████████████████████▍                                       | 101/200 [23:50<21:50, 13.24s/it]"
     ]
    },
    {
     "name": "stdout",
     "output_type": "stream",
     "text": [
      "Residuals are not finite in the initial point.\n",
      "Residuals are not finite in the initial point.\n",
      "Residuals are not finite in the initial point.\n",
      "Residuals are not finite in the initial point.\n",
      "Residuals are not finite in the initial point.\n",
      "Residuals are not finite in the initial point.\n"
     ]
    },
    {
     "name": "stderr",
     "output_type": "stream",
     "text": [
      "\r",
      " 51%|████████████████████████████████████████▊                                       | 102/200 [24:04<22:09, 13.56s/it]"
     ]
    },
    {
     "name": "stdout",
     "output_type": "stream",
     "text": [
      "Residuals are not finite in the initial point.\n",
      "Residuals are not finite in the initial point.\n",
      "Residuals are not finite in the initial point.\n",
      "Residuals are not finite in the initial point.\n",
      "Residuals are not finite in the initial point.\n",
      "Residuals are not finite in the initial point.\n"
     ]
    },
    {
     "name": "stderr",
     "output_type": "stream",
     "text": [
      "\r",
      " 52%|█████████████████████████████████████████▏                                      | 103/200 [24:18<21:54, 13.56s/it]"
     ]
    },
    {
     "name": "stdout",
     "output_type": "stream",
     "text": [
      "Residuals are not finite in the initial point.\n",
      "Residuals are not finite in the initial point.\n",
      "Residuals are not finite in the initial point.\n",
      "Residuals are not finite in the initial point.\n",
      "Residuals are not finite in the initial point.\n",
      "Residuals are not finite in the initial point.\n",
      "Residuals are not finite in the initial point.\n",
      "Residuals are not finite in the initial point.\n"
     ]
    },
    {
     "name": "stderr",
     "output_type": "stream",
     "text": [
      "\r",
      " 52%|█████████████████████████████████████████▌                                      | 104/200 [24:31<21:27, 13.41s/it]"
     ]
    },
    {
     "name": "stdout",
     "output_type": "stream",
     "text": [
      "Residuals are not finite in the initial point.\n",
      "Residuals are not finite in the initial point.\n",
      "Residuals are not finite in the initial point.\n",
      "Residuals are not finite in the initial point.\n",
      "Residuals are not finite in the initial point.\n",
      "Residuals are not finite in the initial point.\n",
      "Residuals are not finite in the initial point.\n",
      "Residuals are not finite in the initial point.\n",
      "Residuals are not finite in the initial point.\n"
     ]
    },
    {
     "name": "stderr",
     "output_type": "stream",
     "text": [
      "\r",
      " 52%|██████████████████████████████████████████                                      | 105/200 [24:44<20:56, 13.23s/it]"
     ]
    },
    {
     "name": "stdout",
     "output_type": "stream",
     "text": [
      "Residuals are not finite in the initial point.\n",
      "Residuals are not finite in the initial point.\n",
      "Residuals are not finite in the initial point.\n",
      "Residuals are not finite in the initial point.\n",
      "Residuals are not finite in the initial point.\n",
      "Residuals are not finite in the initial point.\n",
      "Residuals are not finite in the initial point.\n",
      "Residuals are not finite in the initial point.\n",
      "Residuals are not finite in the initial point.\n",
      "Residuals are not finite in the initial point.\n"
     ]
    },
    {
     "name": "stderr",
     "output_type": "stream",
     "text": [
      "\r",
      " 53%|██████████████████████████████████████████▍                                     | 106/200 [24:58<21:15, 13.56s/it]"
     ]
    },
    {
     "name": "stdout",
     "output_type": "stream",
     "text": [
      "Residuals are not finite in the initial point.\n",
      "Residuals are not finite in the initial point.\n",
      "Residuals are not finite in the initial point.\n",
      "Residuals are not finite in the initial point.\n",
      "Residuals are not finite in the initial point.\n",
      "Residuals are not finite in the initial point.\n",
      "Residuals are not finite in the initial point.\n",
      "Residuals are not finite in the initial point.\n"
     ]
    },
    {
     "name": "stderr",
     "output_type": "stream",
     "text": [
      "\r",
      " 54%|██████████████████████████████████████████▊                                     | 107/200 [25:12<21:09, 13.65s/it]"
     ]
    },
    {
     "name": "stdout",
     "output_type": "stream",
     "text": [
      "Residuals are not finite in the initial point.\n",
      "Residuals are not finite in the initial point.\n",
      "Residuals are not finite in the initial point.\n",
      "Residuals are not finite in the initial point.\n",
      "Residuals are not finite in the initial point.\n",
      "Residuals are not finite in the initial point.\n",
      "Residuals are not finite in the initial point.\n"
     ]
    },
    {
     "name": "stderr",
     "output_type": "stream",
     "text": [
      "\r",
      " 54%|███████████████████████████████████████████▏                                    | 108/200 [25:25<20:31, 13.39s/it]"
     ]
    },
    {
     "name": "stdout",
     "output_type": "stream",
     "text": [
      "Residuals are not finite in the initial point.\n",
      "Residuals are not finite in the initial point.\n",
      "Residuals are not finite in the initial point.\n",
      "Residuals are not finite in the initial point.\n",
      "Residuals are not finite in the initial point.\n",
      "Residuals are not finite in the initial point.\n",
      "Residuals are not finite in the initial point.\n",
      "Residuals are not finite in the initial point.\n",
      "Residuals are not finite in the initial point.\n"
     ]
    },
    {
     "name": "stderr",
     "output_type": "stream",
     "text": [
      "\r",
      " 55%|███████████████████████████████████████████▌                                    | 109/200 [25:37<19:53, 13.11s/it]"
     ]
    },
    {
     "name": "stdout",
     "output_type": "stream",
     "text": [
      "Residuals are not finite in the initial point.\n",
      "Residuals are not finite in the initial point.\n",
      "Residuals are not finite in the initial point.\n",
      "Residuals are not finite in the initial point.\n",
      "Residuals are not finite in the initial point.\n",
      "Residuals are not finite in the initial point.\n",
      "Residuals are not finite in the initial point.\n"
     ]
    },
    {
     "name": "stderr",
     "output_type": "stream",
     "text": [
      "\r",
      " 55%|████████████████████████████████████████████                                    | 110/200 [25:50<19:18, 12.87s/it]"
     ]
    },
    {
     "name": "stdout",
     "output_type": "stream",
     "text": [
      "Residuals are not finite in the initial point.\n",
      "Residuals are not finite in the initial point.\n",
      "Residuals are not finite in the initial point.\n",
      "Residuals are not finite in the initial point.\n",
      "Residuals are not finite in the initial point.\n",
      "Residuals are not finite in the initial point.\n",
      "Residuals are not finite in the initial point.\n",
      "Residuals are not finite in the initial point.\n",
      "Residuals are not finite in the initial point.\n"
     ]
    },
    {
     "name": "stderr",
     "output_type": "stream",
     "text": [
      "\r",
      " 56%|████████████████████████████████████████████▍                                   | 111/200 [26:03<19:19, 13.02s/it]"
     ]
    },
    {
     "name": "stdout",
     "output_type": "stream",
     "text": [
      "Residuals are not finite in the initial point.\n",
      "Residuals are not finite in the initial point.\n",
      "Residuals are not finite in the initial point.\n",
      "Residuals are not finite in the initial point.\n",
      "Residuals are not finite in the initial point.\n",
      "Residuals are not finite in the initial point.\n"
     ]
    },
    {
     "name": "stderr",
     "output_type": "stream",
     "text": [
      "\r",
      " 56%|████████████████████████████████████████████▊                                   | 112/200 [26:17<19:34, 13.35s/it]"
     ]
    },
    {
     "name": "stdout",
     "output_type": "stream",
     "text": [
      "Residuals are not finite in the initial point.\n",
      "Residuals are not finite in the initial point.\n",
      "Residuals are not finite in the initial point.\n",
      "Residuals are not finite in the initial point.\n",
      "Residuals are not finite in the initial point.\n",
      "Residuals are not finite in the initial point.\n",
      "Residuals are not finite in the initial point.\n"
     ]
    },
    {
     "name": "stderr",
     "output_type": "stream",
     "text": [
      "\r",
      " 56%|█████████████████████████████████████████████▏                                  | 113/200 [26:31<19:33, 13.49s/it]"
     ]
    },
    {
     "name": "stdout",
     "output_type": "stream",
     "text": [
      "Residuals are not finite in the initial point.\n",
      "Residuals are not finite in the initial point.\n",
      "Residuals are not finite in the initial point.\n",
      "Residuals are not finite in the initial point.\n",
      "Residuals are not finite in the initial point.\n",
      "Residuals are not finite in the initial point.\n",
      "Residuals are not finite in the initial point.\n",
      "Residuals are not finite in the initial point.\n",
      "Residuals are not finite in the initial point.\n",
      "Residuals are not finite in the initial point.\n"
     ]
    },
    {
     "name": "stderr",
     "output_type": "stream",
     "text": [
      "\r",
      " 57%|█████████████████████████████████████████████▌                                  | 114/200 [26:45<19:47, 13.81s/it]"
     ]
    },
    {
     "name": "stdout",
     "output_type": "stream",
     "text": [
      "Residuals are not finite in the initial point.\n",
      "Residuals are not finite in the initial point.\n",
      "Residuals are not finite in the initial point.\n",
      "Residuals are not finite in the initial point.\n",
      "Residuals are not finite in the initial point.\n",
      "Residuals are not finite in the initial point.\n",
      "Residuals are not finite in the initial point.\n",
      "Residuals are not finite in the initial point.\n"
     ]
    },
    {
     "name": "stderr",
     "output_type": "stream",
     "text": [
      "\r",
      " 57%|██████████████████████████████████████████████                                  | 115/200 [26:59<19:31, 13.78s/it]"
     ]
    },
    {
     "name": "stdout",
     "output_type": "stream",
     "text": [
      "Residuals are not finite in the initial point.\n",
      "Residuals are not finite in the initial point.\n",
      "Residuals are not finite in the initial point.\n",
      "Residuals are not finite in the initial point.\n",
      "Residuals are not finite in the initial point.\n",
      "Residuals are not finite in the initial point.\n",
      "Residuals are not finite in the initial point.\n",
      "Residuals are not finite in the initial point.\n"
     ]
    },
    {
     "name": "stderr",
     "output_type": "stream",
     "text": [
      "\r",
      " 58%|██████████████████████████████████████████████▍                                 | 116/200 [27:12<19:02, 13.60s/it]"
     ]
    },
    {
     "name": "stdout",
     "output_type": "stream",
     "text": [
      "Residuals are not finite in the initial point.\n",
      "Residuals are not finite in the initial point.\n",
      "Residuals are not finite in the initial point.\n",
      "Residuals are not finite in the initial point.\n",
      "Residuals are not finite in the initial point.\n",
      "Residuals are not finite in the initial point.\n",
      "Residuals are not finite in the initial point.\n"
     ]
    },
    {
     "name": "stderr",
     "output_type": "stream",
     "text": [
      "\r",
      " 58%|██████████████████████████████████████████████▊                                 | 117/200 [27:26<18:53, 13.65s/it]"
     ]
    },
    {
     "name": "stdout",
     "output_type": "stream",
     "text": [
      "Residuals are not finite in the initial point.\n",
      "Residuals are not finite in the initial point.\n",
      "Residuals are not finite in the initial point.\n",
      "Residuals are not finite in the initial point.\n",
      "Residuals are not finite in the initial point.\n",
      "Residuals are not finite in the initial point.\n",
      "Residuals are not finite in the initial point.\n",
      "Residuals are not finite in the initial point.\n"
     ]
    },
    {
     "name": "stderr",
     "output_type": "stream",
     "text": [
      "\r",
      " 59%|███████████████████████████████████████████████▏                                | 118/200 [27:40<18:45, 13.73s/it]"
     ]
    },
    {
     "name": "stdout",
     "output_type": "stream",
     "text": [
      "Residuals are not finite in the initial point.\n",
      "Residuals are not finite in the initial point.\n",
      "Residuals are not finite in the initial point.\n",
      "Residuals are not finite in the initial point.\n",
      "Residuals are not finite in the initial point.\n",
      "Residuals are not finite in the initial point.\n",
      "Residuals are not finite in the initial point.\n",
      "Residuals are not finite in the initial point.\n",
      "Residuals are not finite in the initial point.\n",
      "Residuals are not finite in the initial point.\n",
      "Residuals are not finite in the initial point.\n"
     ]
    },
    {
     "name": "stderr",
     "output_type": "stream",
     "text": [
      "\r",
      " 60%|███████████████████████████████████████████████▌                                | 119/200 [27:53<18:13, 13.50s/it]"
     ]
    },
    {
     "name": "stdout",
     "output_type": "stream",
     "text": [
      "Residuals are not finite in the initial point.\n",
      "Residuals are not finite in the initial point.\n",
      "Residuals are not finite in the initial point.\n",
      "Residuals are not finite in the initial point.\n",
      "Residuals are not finite in the initial point.\n",
      "Residuals are not finite in the initial point.\n",
      "Residuals are not finite in the initial point.\n",
      "Residuals are not finite in the initial point.\n"
     ]
    },
    {
     "name": "stderr",
     "output_type": "stream",
     "text": [
      "\r",
      " 60%|████████████████████████████████████████████████                                | 120/200 [28:07<18:06, 13.58s/it]"
     ]
    },
    {
     "name": "stdout",
     "output_type": "stream",
     "text": [
      "Residuals are not finite in the initial point.\n",
      "Residuals are not finite in the initial point.\n",
      "Residuals are not finite in the initial point.\n",
      "Residuals are not finite in the initial point.\n",
      "Residuals are not finite in the initial point.\n",
      "Residuals are not finite in the initial point.\n",
      "Residuals are not finite in the initial point.\n",
      "Residuals are not finite in the initial point.\n",
      "Residuals are not finite in the initial point.\n"
     ]
    },
    {
     "name": "stderr",
     "output_type": "stream",
     "text": [
      "\r",
      " 60%|████████████████████████████████████████████████▍                               | 121/200 [28:21<18:13, 13.85s/it]"
     ]
    },
    {
     "name": "stdout",
     "output_type": "stream",
     "text": [
      "Residuals are not finite in the initial point.\n",
      "Residuals are not finite in the initial point.\n",
      "Residuals are not finite in the initial point.\n",
      "Residuals are not finite in the initial point.\n",
      "Residuals are not finite in the initial point.\n",
      "Residuals are not finite in the initial point.\n",
      "Residuals are not finite in the initial point.\n",
      "Residuals are not finite in the initial point.\n"
     ]
    },
    {
     "name": "stderr",
     "output_type": "stream",
     "text": [
      "\r",
      " 61%|████████████████████████████████████████████████▊                               | 122/200 [28:34<17:40, 13.60s/it]"
     ]
    },
    {
     "name": "stdout",
     "output_type": "stream",
     "text": [
      "Residuals are not finite in the initial point.\n",
      "Residuals are not finite in the initial point.\n",
      "Residuals are not finite in the initial point.\n",
      "Residuals are not finite in the initial point.\n",
      "Residuals are not finite in the initial point.\n",
      "Residuals are not finite in the initial point.\n",
      "Residuals are not finite in the initial point.\n",
      "Residuals are not finite in the initial point.\n",
      "Residuals are not finite in the initial point.\n",
      "Residuals are not finite in the initial point.\n",
      "Residuals are not finite in the initial point.\n"
     ]
    },
    {
     "name": "stderr",
     "output_type": "stream",
     "text": [
      "\r",
      " 62%|█████████████████████████████████████████████████▏                              | 123/200 [28:48<17:39, 13.76s/it]"
     ]
    },
    {
     "name": "stdout",
     "output_type": "stream",
     "text": [
      "Residuals are not finite in the initial point.\n",
      "Residuals are not finite in the initial point.\n",
      "Residuals are not finite in the initial point.\n",
      "Residuals are not finite in the initial point.\n",
      "Residuals are not finite in the initial point.\n",
      "Residuals are not finite in the initial point.\n",
      "Residuals are not finite in the initial point.\n"
     ]
    },
    {
     "name": "stderr",
     "output_type": "stream",
     "text": [
      "\r",
      " 62%|█████████████████████████████████████████████████▌                              | 124/200 [29:03<17:53, 14.13s/it]"
     ]
    },
    {
     "name": "stdout",
     "output_type": "stream",
     "text": [
      "Residuals are not finite in the initial point.\n",
      "Residuals are not finite in the initial point.\n",
      "Residuals are not finite in the initial point.\n",
      "Residuals are not finite in the initial point.\n",
      "Residuals are not finite in the initial point.\n",
      "Residuals are not finite in the initial point.\n",
      "Residuals are not finite in the initial point.\n"
     ]
    },
    {
     "name": "stderr",
     "output_type": "stream",
     "text": [
      "\r",
      " 62%|██████████████████████████████████████████████████                              | 125/200 [29:17<17:33, 14.05s/it]"
     ]
    },
    {
     "name": "stdout",
     "output_type": "stream",
     "text": [
      "Residuals are not finite in the initial point.\n",
      "Residuals are not finite in the initial point.\n",
      "Residuals are not finite in the initial point.\n",
      "Residuals are not finite in the initial point.\n",
      "Residuals are not finite in the initial point.\n",
      "Residuals are not finite in the initial point.\n",
      "Residuals are not finite in the initial point.\n"
     ]
    },
    {
     "name": "stderr",
     "output_type": "stream",
     "text": [
      "\r",
      " 63%|██████████████████████████████████████████████████▍                             | 126/200 [29:30<16:44, 13.57s/it]"
     ]
    },
    {
     "name": "stdout",
     "output_type": "stream",
     "text": [
      "Residuals are not finite in the initial point.\n",
      "Residuals are not finite in the initial point.\n",
      "Residuals are not finite in the initial point.\n",
      "Residuals are not finite in the initial point.\n",
      "Residuals are not finite in the initial point.\n",
      "Residuals are not finite in the initial point.\n",
      "Residuals are not finite in the initial point.\n"
     ]
    },
    {
     "name": "stderr",
     "output_type": "stream",
     "text": [
      "\r",
      " 64%|██████████████████████████████████████████████████▊                             | 127/200 [29:43<16:35, 13.63s/it]"
     ]
    },
    {
     "name": "stdout",
     "output_type": "stream",
     "text": [
      "Residuals are not finite in the initial point.\n",
      "Residuals are not finite in the initial point.\n",
      "Residuals are not finite in the initial point.\n",
      "Residuals are not finite in the initial point.\n",
      "Residuals are not finite in the initial point.\n",
      "Residuals are not finite in the initial point.\n",
      "Residuals are not finite in the initial point.\n"
     ]
    },
    {
     "name": "stderr",
     "output_type": "stream",
     "text": [
      "\r",
      " 64%|███████████████████████████████████████████████████▏                            | 128/200 [29:58<16:34, 13.82s/it]"
     ]
    },
    {
     "name": "stdout",
     "output_type": "stream",
     "text": [
      "Residuals are not finite in the initial point.\n",
      "Residuals are not finite in the initial point.\n",
      "Residuals are not finite in the initial point.\n",
      "Residuals are not finite in the initial point.\n",
      "Residuals are not finite in the initial point.\n",
      "Residuals are not finite in the initial point.\n",
      "Residuals are not finite in the initial point.\n"
     ]
    },
    {
     "name": "stderr",
     "output_type": "stream",
     "text": [
      "\r",
      " 64%|███████████████████████████████████████████████████▌                            | 129/200 [30:12<16:42, 14.12s/it]"
     ]
    },
    {
     "name": "stdout",
     "output_type": "stream",
     "text": [
      "Residuals are not finite in the initial point.\n",
      "Residuals are not finite in the initial point.\n",
      "Residuals are not finite in the initial point.\n",
      "Residuals are not finite in the initial point.\n",
      "Residuals are not finite in the initial point.\n",
      "Residuals are not finite in the initial point.\n",
      "Residuals are not finite in the initial point.\n",
      "Residuals are not finite in the initial point.\n",
      "Residuals are not finite in the initial point.\n",
      "Residuals are not finite in the initial point.\n"
     ]
    },
    {
     "name": "stderr",
     "output_type": "stream",
     "text": [
      "\r",
      " 65%|████████████████████████████████████████████████████                            | 130/200 [30:26<16:20, 14.01s/it]"
     ]
    },
    {
     "name": "stdout",
     "output_type": "stream",
     "text": [
      "Residuals are not finite in the initial point.\n",
      "Residuals are not finite in the initial point.\n",
      "Residuals are not finite in the initial point.\n",
      "Residuals are not finite in the initial point.\n",
      "Residuals are not finite in the initial point.\n",
      "Residuals are not finite in the initial point.\n",
      "Residuals are not finite in the initial point.\n",
      "Residuals are not finite in the initial point.\n",
      "Residuals are not finite in the initial point.\n"
     ]
    },
    {
     "name": "stderr",
     "output_type": "stream",
     "text": [
      "\r",
      " 66%|████████████████████████████████████████████████████▍                           | 131/200 [30:38<15:26, 13.43s/it]"
     ]
    },
    {
     "name": "stdout",
     "output_type": "stream",
     "text": [
      "Residuals are not finite in the initial point.\n",
      "Residuals are not finite in the initial point.\n",
      "Residuals are not finite in the initial point.\n",
      "Residuals are not finite in the initial point.\n",
      "Residuals are not finite in the initial point.\n",
      "Residuals are not finite in the initial point.\n",
      "Residuals are not finite in the initial point.\n",
      "Residuals are not finite in the initial point.\n"
     ]
    },
    {
     "name": "stderr",
     "output_type": "stream",
     "text": [
      "\r",
      " 66%|████████████████████████████████████████████████████▊                           | 132/200 [30:52<15:26, 13.62s/it]"
     ]
    },
    {
     "name": "stdout",
     "output_type": "stream",
     "text": [
      "Residuals are not finite in the initial point.\n",
      "Residuals are not finite in the initial point.\n",
      "Residuals are not finite in the initial point.\n",
      "Residuals are not finite in the initial point.\n",
      "Residuals are not finite in the initial point.\n",
      "Residuals are not finite in the initial point.\n",
      "Residuals are not finite in the initial point.\n",
      "Residuals are not finite in the initial point.\n",
      "Residuals are not finite in the initial point.\n"
     ]
    },
    {
     "name": "stderr",
     "output_type": "stream",
     "text": [
      "\r",
      " 66%|█████████████████████████████████████████████████████▏                          | 133/200 [31:07<15:23, 13.78s/it]"
     ]
    },
    {
     "name": "stdout",
     "output_type": "stream",
     "text": [
      "Residuals are not finite in the initial point.\n",
      "Residuals are not finite in the initial point.\n",
      "Residuals are not finite in the initial point.\n",
      "Residuals are not finite in the initial point.\n",
      "Residuals are not finite in the initial point.\n",
      "Residuals are not finite in the initial point.\n",
      "Residuals are not finite in the initial point.\n"
     ]
    },
    {
     "name": "stderr",
     "output_type": "stream",
     "text": [
      "\r",
      " 67%|█████████████████████████████████████████████████████▌                          | 134/200 [31:20<15:03, 13.69s/it]"
     ]
    },
    {
     "name": "stdout",
     "output_type": "stream",
     "text": [
      "Residuals are not finite in the initial point.\n",
      "Residuals are not finite in the initial point.\n",
      "Residuals are not finite in the initial point.\n",
      "Residuals are not finite in the initial point.\n"
     ]
    },
    {
     "name": "stderr",
     "output_type": "stream",
     "text": [
      "\r",
      " 68%|██████████████████████████████████████████████████████                          | 135/200 [31:33<14:31, 13.40s/it]"
     ]
    },
    {
     "name": "stdout",
     "output_type": "stream",
     "text": [
      "Residuals are not finite in the initial point.\n",
      "Residuals are not finite in the initial point.\n",
      "Residuals are not finite in the initial point.\n",
      "Residuals are not finite in the initial point.\n",
      "Residuals are not finite in the initial point.\n",
      "Residuals are not finite in the initial point.\n",
      "Residuals are not finite in the initial point.\n",
      "Residuals are not finite in the initial point.\n",
      "Residuals are not finite in the initial point.\n"
     ]
    },
    {
     "name": "stderr",
     "output_type": "stream",
     "text": [
      "\r",
      " 68%|██████████████████████████████████████████████████████▍                         | 136/200 [31:46<14:12, 13.32s/it]"
     ]
    },
    {
     "name": "stdout",
     "output_type": "stream",
     "text": [
      "Residuals are not finite in the initial point.\n",
      "Residuals are not finite in the initial point.\n",
      "Residuals are not finite in the initial point.\n",
      "Residuals are not finite in the initial point.\n",
      "Residuals are not finite in the initial point.\n"
     ]
    },
    {
     "name": "stderr",
     "output_type": "stream",
     "text": [
      "\r",
      " 68%|██████████████████████████████████████████████████████▊                         | 137/200 [32:00<14:18, 13.62s/it]"
     ]
    },
    {
     "name": "stdout",
     "output_type": "stream",
     "text": [
      "Residuals are not finite in the initial point.\n",
      "Residuals are not finite in the initial point.\n",
      "Residuals are not finite in the initial point.\n",
      "Residuals are not finite in the initial point.\n",
      "Residuals are not finite in the initial point.\n",
      "Residuals are not finite in the initial point.\n",
      "Residuals are not finite in the initial point.\n"
     ]
    },
    {
     "name": "stderr",
     "output_type": "stream",
     "text": [
      "\r",
      " 69%|███████████████████████████████████████████████████████▏                        | 138/200 [32:13<13:53, 13.44s/it]"
     ]
    },
    {
     "name": "stdout",
     "output_type": "stream",
     "text": [
      "Residuals are not finite in the initial point.\n",
      "Residuals are not finite in the initial point.\n",
      "Residuals are not finite in the initial point.\n",
      "Residuals are not finite in the initial point.\n",
      "Residuals are not finite in the initial point.\n",
      "Residuals are not finite in the initial point.\n",
      "Residuals are not finite in the initial point.\n",
      "Residuals are not finite in the initial point.\n"
     ]
    },
    {
     "name": "stderr",
     "output_type": "stream",
     "text": [
      "\r",
      " 70%|███████████████████████████████████████████████████████▌                        | 139/200 [32:27<13:44, 13.51s/it]"
     ]
    },
    {
     "name": "stdout",
     "output_type": "stream",
     "text": [
      "Residuals are not finite in the initial point.\n",
      "Residuals are not finite in the initial point.\n",
      "Residuals are not finite in the initial point.\n",
      "Residuals are not finite in the initial point.\n",
      "Residuals are not finite in the initial point.\n",
      "Residuals are not finite in the initial point.\n",
      "Residuals are not finite in the initial point.\n",
      "Residuals are not finite in the initial point.\n",
      "Residuals are not finite in the initial point.\n"
     ]
    },
    {
     "name": "stderr",
     "output_type": "stream",
     "text": [
      "\r",
      " 70%|████████████████████████████████████████████████████████                        | 140/200 [32:42<13:51, 13.86s/it]"
     ]
    },
    {
     "name": "stdout",
     "output_type": "stream",
     "text": [
      "Residuals are not finite in the initial point.\n",
      "Residuals are not finite in the initial point.\n",
      "Residuals are not finite in the initial point.\n",
      "Residuals are not finite in the initial point.\n",
      "Residuals are not finite in the initial point.\n",
      "Residuals are not finite in the initial point.\n",
      "Residuals are not finite in the initial point.\n"
     ]
    },
    {
     "name": "stderr",
     "output_type": "stream",
     "text": [
      "\r",
      " 70%|████████████████████████████████████████████████████████▍                       | 141/200 [32:56<13:41, 13.92s/it]"
     ]
    },
    {
     "name": "stdout",
     "output_type": "stream",
     "text": [
      "Residuals are not finite in the initial point.\n",
      "Residuals are not finite in the initial point.\n",
      "Residuals are not finite in the initial point.\n",
      "Residuals are not finite in the initial point.\n",
      "Residuals are not finite in the initial point.\n",
      "Residuals are not finite in the initial point.\n",
      "Residuals are not finite in the initial point.\n",
      "Residuals are not finite in the initial point.\n",
      "Residuals are not finite in the initial point.\n"
     ]
    },
    {
     "name": "stderr",
     "output_type": "stream",
     "text": [
      "\r",
      " 71%|████████████████████████████████████████████████████████▊                       | 142/200 [33:09<13:17, 13.75s/it]"
     ]
    },
    {
     "name": "stdout",
     "output_type": "stream",
     "text": [
      "Residuals are not finite in the initial point.\n",
      "Residuals are not finite in the initial point.\n",
      "Residuals are not finite in the initial point.\n",
      "Residuals are not finite in the initial point.\n",
      "Residuals are not finite in the initial point.\n",
      "Residuals are not finite in the initial point.\n",
      "Residuals are not finite in the initial point.\n",
      "Residuals are not finite in the initial point.\n"
     ]
    },
    {
     "name": "stderr",
     "output_type": "stream",
     "text": [
      "\r",
      " 72%|█████████████████████████████████████████████████████████▏                      | 143/200 [33:23<13:05, 13.79s/it]"
     ]
    },
    {
     "name": "stdout",
     "output_type": "stream",
     "text": [
      "Residuals are not finite in the initial point.\n",
      "Residuals are not finite in the initial point.\n",
      "Residuals are not finite in the initial point.\n",
      "Residuals are not finite in the initial point.\n",
      "Residuals are not finite in the initial point.\n",
      "Residuals are not finite in the initial point.\n",
      "Residuals are not finite in the initial point.\n"
     ]
    },
    {
     "name": "stderr",
     "output_type": "stream",
     "text": [
      "\r",
      " 72%|█████████████████████████████████████████████████████████▌                      | 144/200 [33:36<12:36, 13.51s/it]"
     ]
    },
    {
     "name": "stdout",
     "output_type": "stream",
     "text": [
      "Residuals are not finite in the initial point.\n",
      "Residuals are not finite in the initial point.\n",
      "Residuals are not finite in the initial point.\n",
      "Residuals are not finite in the initial point.\n",
      "Residuals are not finite in the initial point.\n",
      "Residuals are not finite in the initial point.\n",
      "Residuals are not finite in the initial point.\n",
      "Residuals are not finite in the initial point.\n",
      "Residuals are not finite in the initial point.\n",
      "Residuals are not finite in the initial point.\n",
      "Residuals are not finite in the initial point.\n"
     ]
    },
    {
     "name": "stderr",
     "output_type": "stream",
     "text": [
      "\r",
      " 72%|██████████████████████████████████████████████████████████                      | 145/200 [33:51<12:43, 13.89s/it]"
     ]
    },
    {
     "name": "stdout",
     "output_type": "stream",
     "text": [
      "Residuals are not finite in the initial point.\n",
      "Residuals are not finite in the initial point.\n",
      "Residuals are not finite in the initial point.\n",
      "Residuals are not finite in the initial point.\n",
      "Residuals are not finite in the initial point.\n",
      "Residuals are not finite in the initial point.\n",
      "Residuals are not finite in the initial point.\n",
      "Residuals are not finite in the initial point.\n"
     ]
    },
    {
     "name": "stderr",
     "output_type": "stream",
     "text": [
      "\r",
      " 73%|██████████████████████████████████████████████████████████▍                     | 146/200 [34:05<12:32, 13.94s/it]"
     ]
    },
    {
     "name": "stdout",
     "output_type": "stream",
     "text": [
      "Residuals are not finite in the initial point.\n",
      "Residuals are not finite in the initial point.\n",
      "Residuals are not finite in the initial point.\n",
      "Residuals are not finite in the initial point.\n",
      "Residuals are not finite in the initial point.\n",
      "Residuals are not finite in the initial point.\n",
      "Residuals are not finite in the initial point.\n",
      "Residuals are not finite in the initial point.\n"
     ]
    },
    {
     "name": "stderr",
     "output_type": "stream",
     "text": [
      "\r",
      " 74%|██████████████████████████████████████████████████████████▊                     | 147/200 [34:19<12:18, 13.94s/it]"
     ]
    },
    {
     "name": "stdout",
     "output_type": "stream",
     "text": [
      "Residuals are not finite in the initial point.\n",
      "Residuals are not finite in the initial point.\n",
      "Residuals are not finite in the initial point.\n",
      "Residuals are not finite in the initial point.\n",
      "Residuals are not finite in the initial point.\n",
      "Residuals are not finite in the initial point.\n"
     ]
    },
    {
     "name": "stderr",
     "output_type": "stream",
     "text": [
      "\r",
      " 74%|███████████████████████████████████████████████████████████▏                    | 148/200 [34:31<11:42, 13.51s/it]"
     ]
    },
    {
     "name": "stdout",
     "output_type": "stream",
     "text": [
      "Residuals are not finite in the initial point.\n",
      "Residuals are not finite in the initial point.\n",
      "Residuals are not finite in the initial point.\n",
      "Residuals are not finite in the initial point.\n",
      "Residuals are not finite in the initial point.\n",
      "Residuals are not finite in the initial point.\n",
      "Residuals are not finite in the initial point.\n",
      "Residuals are not finite in the initial point.\n"
     ]
    },
    {
     "name": "stderr",
     "output_type": "stream",
     "text": [
      "\r",
      " 74%|███████████████████████████████████████████████████████████▌                    | 149/200 [34:46<11:56, 14.05s/it]"
     ]
    },
    {
     "name": "stdout",
     "output_type": "stream",
     "text": [
      "Residuals are not finite in the initial point.\n",
      "Residuals are not finite in the initial point.\n",
      "Residuals are not finite in the initial point.\n",
      "Residuals are not finite in the initial point.\n",
      "Residuals are not finite in the initial point.\n",
      "Residuals are not finite in the initial point.\n",
      "Residuals are not finite in the initial point.\n",
      "Residuals are not finite in the initial point.\n",
      "Residuals are not finite in the initial point.\n",
      "Residuals are not finite in the initial point.\n"
     ]
    },
    {
     "name": "stderr",
     "output_type": "stream",
     "text": [
      "\r",
      " 75%|████████████████████████████████████████████████████████████                    | 150/200 [35:01<11:44, 14.10s/it]"
     ]
    },
    {
     "name": "stdout",
     "output_type": "stream",
     "text": [
      "Residuals are not finite in the initial point.\n",
      "Residuals are not finite in the initial point.\n",
      "Residuals are not finite in the initial point.\n",
      "Residuals are not finite in the initial point.\n",
      "Residuals are not finite in the initial point.\n",
      "Residuals are not finite in the initial point.\n",
      "Residuals are not finite in the initial point.\n"
     ]
    },
    {
     "name": "stderr",
     "output_type": "stream",
     "text": [
      "\r",
      " 76%|████████████████████████████████████████████████████████████▍                   | 151/200 [35:14<11:25, 14.00s/it]"
     ]
    },
    {
     "name": "stdout",
     "output_type": "stream",
     "text": [
      "Residuals are not finite in the initial point.\n",
      "Residuals are not finite in the initial point.\n",
      "Residuals are not finite in the initial point.\n",
      "Residuals are not finite in the initial point.\n",
      "Residuals are not finite in the initial point.\n",
      "Residuals are not finite in the initial point.\n",
      "Residuals are not finite in the initial point.\n",
      "Residuals are not finite in the initial point.\n"
     ]
    },
    {
     "name": "stderr",
     "output_type": "stream",
     "text": [
      "\r",
      " 76%|████████████████████████████████████████████████████████████▊                   | 152/200 [35:28<11:13, 14.03s/it]"
     ]
    },
    {
     "name": "stdout",
     "output_type": "stream",
     "text": [
      "Residuals are not finite in the initial point.\n",
      "Residuals are not finite in the initial point.\n",
      "Residuals are not finite in the initial point.\n",
      "Residuals are not finite in the initial point.\n",
      "Residuals are not finite in the initial point.\n",
      "Residuals are not finite in the initial point.\n"
     ]
    },
    {
     "name": "stderr",
     "output_type": "stream",
     "text": [
      "\r",
      " 76%|█████████████████████████████████████████████████████████████▏                  | 153/200 [35:43<11:06, 14.18s/it]"
     ]
    },
    {
     "name": "stdout",
     "output_type": "stream",
     "text": [
      "Residuals are not finite in the initial point.\n",
      "Residuals are not finite in the initial point.\n",
      "Residuals are not finite in the initial point.\n",
      "Residuals are not finite in the initial point.\n",
      "Residuals are not finite in the initial point.\n"
     ]
    },
    {
     "name": "stderr",
     "output_type": "stream",
     "text": [
      "\r",
      " 77%|█████████████████████████████████████████████████████████████▌                  | 154/200 [35:58<11:02, 14.41s/it]"
     ]
    },
    {
     "name": "stdout",
     "output_type": "stream",
     "text": [
      "Residuals are not finite in the initial point.\n",
      "Residuals are not finite in the initial point.\n",
      "Residuals are not finite in the initial point.\n",
      "Residuals are not finite in the initial point.\n",
      "Residuals are not finite in the initial point.\n",
      "Residuals are not finite in the initial point.\n",
      "Residuals are not finite in the initial point.\n",
      "Residuals are not finite in the initial point.\n",
      "Residuals are not finite in the initial point.\n"
     ]
    },
    {
     "name": "stderr",
     "output_type": "stream",
     "text": [
      "\r",
      " 78%|██████████████████████████████████████████████████████████████                  | 155/200 [36:12<10:41, 14.26s/it]"
     ]
    },
    {
     "name": "stdout",
     "output_type": "stream",
     "text": [
      "Residuals are not finite in the initial point.\n",
      "Residuals are not finite in the initial point.\n",
      "Residuals are not finite in the initial point.\n",
      "Residuals are not finite in the initial point.\n",
      "Residuals are not finite in the initial point.\n",
      "Residuals are not finite in the initial point.\n",
      "Residuals are not finite in the initial point.\n"
     ]
    },
    {
     "name": "stderr",
     "output_type": "stream",
     "text": [
      "\r",
      " 78%|██████████████████████████████████████████████████████████████▍                 | 156/200 [36:27<10:39, 14.53s/it]"
     ]
    },
    {
     "name": "stdout",
     "output_type": "stream",
     "text": [
      "Residuals are not finite in the initial point.\n",
      "Residuals are not finite in the initial point.\n",
      "Residuals are not finite in the initial point.\n",
      "Residuals are not finite in the initial point.\n",
      "Residuals are not finite in the initial point.\n",
      "Residuals are not finite in the initial point.\n",
      "Residuals are not finite in the initial point.\n"
     ]
    },
    {
     "name": "stderr",
     "output_type": "stream",
     "text": [
      "\r",
      " 78%|██████████████████████████████████████████████████████████████▊                 | 157/200 [36:39<09:55, 13.85s/it]"
     ]
    },
    {
     "name": "stdout",
     "output_type": "stream",
     "text": [
      "Residuals are not finite in the initial point.\n",
      "Residuals are not finite in the initial point.\n",
      "Residuals are not finite in the initial point.\n",
      "Residuals are not finite in the initial point.\n",
      "Residuals are not finite in the initial point.\n",
      "Residuals are not finite in the initial point.\n",
      "Residuals are not finite in the initial point.\n"
     ]
    },
    {
     "name": "stderr",
     "output_type": "stream",
     "text": [
      "\r",
      " 79%|███████████████████████████████████████████████████████████████▏                | 158/200 [36:53<09:44, 13.91s/it]"
     ]
    },
    {
     "name": "stdout",
     "output_type": "stream",
     "text": [
      "Residuals are not finite in the initial point.\n",
      "Residuals are not finite in the initial point.\n",
      "Residuals are not finite in the initial point.\n",
      "Residuals are not finite in the initial point.\n",
      "Residuals are not finite in the initial point.\n",
      "Residuals are not finite in the initial point.\n",
      "Residuals are not finite in the initial point.\n",
      "Residuals are not finite in the initial point.\n"
     ]
    },
    {
     "name": "stderr",
     "output_type": "stream",
     "text": [
      "\r",
      " 80%|███████████████████████████████████████████████████████████████▌                | 159/200 [37:07<09:30, 13.90s/it]"
     ]
    },
    {
     "name": "stdout",
     "output_type": "stream",
     "text": [
      "Residuals are not finite in the initial point.\n",
      "Residuals are not finite in the initial point.\n",
      "Residuals are not finite in the initial point.\n",
      "Residuals are not finite in the initial point.\n",
      "Residuals are not finite in the initial point.\n",
      "Residuals are not finite in the initial point.\n",
      "Residuals are not finite in the initial point.\n",
      "Residuals are not finite in the initial point.\n"
     ]
    },
    {
     "name": "stderr",
     "output_type": "stream",
     "text": [
      "\r",
      " 80%|████████████████████████████████████████████████████████████████                | 160/200 [37:22<09:24, 14.11s/it]"
     ]
    },
    {
     "name": "stdout",
     "output_type": "stream",
     "text": [
      "Residuals are not finite in the initial point.\n",
      "Residuals are not finite in the initial point.\n",
      "Residuals are not finite in the initial point.\n",
      "Residuals are not finite in the initial point.\n",
      "Residuals are not finite in the initial point.\n"
     ]
    },
    {
     "name": "stderr",
     "output_type": "stream",
     "text": [
      "\r",
      " 80%|████████████████████████████████████████████████████████████████▍               | 161/200 [37:36<09:13, 14.19s/it]"
     ]
    },
    {
     "name": "stdout",
     "output_type": "stream",
     "text": [
      "Residuals are not finite in the initial point.\n",
      "Residuals are not finite in the initial point.\n",
      "Residuals are not finite in the initial point.\n",
      "Residuals are not finite in the initial point.\n",
      "Residuals are not finite in the initial point.\n"
     ]
    },
    {
     "name": "stderr",
     "output_type": "stream",
     "text": [
      "\r",
      " 81%|████████████████████████████████████████████████████████████████▊               | 162/200 [37:49<08:49, 13.94s/it]"
     ]
    },
    {
     "name": "stdout",
     "output_type": "stream",
     "text": [
      "Residuals are not finite in the initial point.\n",
      "Residuals are not finite in the initial point.\n",
      "Residuals are not finite in the initial point.\n"
     ]
    },
    {
     "name": "stderr",
     "output_type": "stream",
     "text": [
      "\r",
      " 82%|█████████████████████████████████████████████████████████████████▏              | 163/200 [38:03<08:28, 13.75s/it]"
     ]
    },
    {
     "name": "stdout",
     "output_type": "stream",
     "text": [
      "Residuals are not finite in the initial point.\n",
      "Residuals are not finite in the initial point.\n",
      "Residuals are not finite in the initial point.\n",
      "Residuals are not finite in the initial point.\n",
      "Residuals are not finite in the initial point.\n",
      "Residuals are not finite in the initial point.\n",
      "Residuals are not finite in the initial point.\n"
     ]
    },
    {
     "name": "stderr",
     "output_type": "stream",
     "text": [
      "\r",
      " 82%|█████████████████████████████████████████████████████████████████▌              | 164/200 [38:17<08:18, 13.85s/it]"
     ]
    },
    {
     "name": "stdout",
     "output_type": "stream",
     "text": [
      "Residuals are not finite in the initial point.\n",
      "Residuals are not finite in the initial point.\n",
      "Residuals are not finite in the initial point.\n",
      "Residuals are not finite in the initial point.\n",
      "Residuals are not finite in the initial point.\n",
      "Residuals are not finite in the initial point.\n"
     ]
    },
    {
     "name": "stderr",
     "output_type": "stream",
     "text": [
      "\r",
      " 82%|██████████████████████████████████████████████████████████████████              | 165/200 [38:33<08:33, 14.68s/it]"
     ]
    },
    {
     "name": "stdout",
     "output_type": "stream",
     "text": [
      "Residuals are not finite in the initial point.\n",
      "Residuals are not finite in the initial point.\n",
      "Residuals are not finite in the initial point.\n",
      "Residuals are not finite in the initial point.\n",
      "Residuals are not finite in the initial point.\n",
      "Residuals are not finite in the initial point.\n",
      "Residuals are not finite in the initial point.\n",
      "Residuals are not finite in the initial point.\n"
     ]
    },
    {
     "name": "stderr",
     "output_type": "stream",
     "text": [
      "\r",
      " 83%|██████████████████████████████████████████████████████████████████▍             | 166/200 [38:47<08:09, 14.38s/it]"
     ]
    },
    {
     "name": "stdout",
     "output_type": "stream",
     "text": [
      "Residuals are not finite in the initial point.\n",
      "Residuals are not finite in the initial point.\n",
      "Residuals are not finite in the initial point.\n",
      "Residuals are not finite in the initial point.\n",
      "Residuals are not finite in the initial point.\n",
      "Residuals are not finite in the initial point.\n",
      "Residuals are not finite in the initial point.\n"
     ]
    },
    {
     "name": "stderr",
     "output_type": "stream",
     "text": [
      "\r",
      " 84%|██████████████████████████████████████████████████████████████████▊             | 167/200 [39:01<07:49, 14.22s/it]"
     ]
    },
    {
     "name": "stdout",
     "output_type": "stream",
     "text": [
      "Residuals are not finite in the initial point.\n",
      "Residuals are not finite in the initial point.\n",
      "Residuals are not finite in the initial point.\n",
      "Residuals are not finite in the initial point.\n",
      "Residuals are not finite in the initial point.\n",
      "Residuals are not finite in the initial point.\n",
      "Residuals are not finite in the initial point.\n"
     ]
    },
    {
     "name": "stderr",
     "output_type": "stream",
     "text": [
      "\r",
      " 84%|███████████████████████████████████████████████████████████████████▏            | 168/200 [39:15<07:34, 14.21s/it]"
     ]
    },
    {
     "name": "stdout",
     "output_type": "stream",
     "text": [
      "Residuals are not finite in the initial point.\n",
      "Residuals are not finite in the initial point.\n",
      "Residuals are not finite in the initial point.\n",
      "Residuals are not finite in the initial point.\n",
      "Residuals are not finite in the initial point.\n",
      "Residuals are not finite in the initial point.\n",
      "Residuals are not finite in the initial point.\n",
      "Residuals are not finite in the initial point.\n"
     ]
    },
    {
     "name": "stderr",
     "output_type": "stream",
     "text": [
      "\r",
      " 84%|███████████████████████████████████████████████████████████████████▌            | 169/200 [39:29<07:16, 14.08s/it]"
     ]
    },
    {
     "name": "stdout",
     "output_type": "stream",
     "text": [
      "Residuals are not finite in the initial point.\n",
      "Residuals are not finite in the initial point.\n",
      "Residuals are not finite in the initial point.\n",
      "Residuals are not finite in the initial point.\n",
      "Residuals are not finite in the initial point.\n",
      "Residuals are not finite in the initial point.\n",
      "Residuals are not finite in the initial point.\n"
     ]
    },
    {
     "name": "stderr",
     "output_type": "stream",
     "text": [
      "\r",
      " 85%|████████████████████████████████████████████████████████████████████            | 170/200 [39:43<06:59, 13.97s/it]"
     ]
    },
    {
     "name": "stdout",
     "output_type": "stream",
     "text": [
      "Residuals are not finite in the initial point.\n",
      "Residuals are not finite in the initial point.\n",
      "Residuals are not finite in the initial point.\n",
      "Residuals are not finite in the initial point.\n",
      "Residuals are not finite in the initial point.\n",
      "Residuals are not finite in the initial point.\n",
      "Residuals are not finite in the initial point.\n",
      "Residuals are not finite in the initial point.\n",
      "Residuals are not finite in the initial point.\n",
      "Residuals are not finite in the initial point.\n"
     ]
    },
    {
     "name": "stderr",
     "output_type": "stream",
     "text": [
      "\r",
      " 86%|████████████████████████████████████████████████████████████████████▍           | 171/200 [39:57<06:48, 14.09s/it]"
     ]
    },
    {
     "name": "stdout",
     "output_type": "stream",
     "text": [
      "Residuals are not finite in the initial point.\n",
      "Residuals are not finite in the initial point.\n",
      "Residuals are not finite in the initial point.\n",
      "Residuals are not finite in the initial point.\n",
      "Residuals are not finite in the initial point.\n",
      "Residuals are not finite in the initial point.\n",
      "Residuals are not finite in the initial point.\n"
     ]
    },
    {
     "name": "stderr",
     "output_type": "stream",
     "text": [
      "\r",
      " 86%|████████████████████████████████████████████████████████████████████▊           | 172/200 [40:11<06:30, 13.95s/it]"
     ]
    },
    {
     "name": "stdout",
     "output_type": "stream",
     "text": [
      "Residuals are not finite in the initial point.\n",
      "Residuals are not finite in the initial point.\n",
      "Residuals are not finite in the initial point.\n",
      "Residuals are not finite in the initial point.\n",
      "Residuals are not finite in the initial point.\n",
      "Residuals are not finite in the initial point.\n",
      "Residuals are not finite in the initial point.\n",
      "Residuals are not finite in the initial point.\n"
     ]
    },
    {
     "name": "stderr",
     "output_type": "stream",
     "text": [
      "\r",
      " 86%|█████████████████████████████████████████████████████████████████████▏          | 173/200 [40:24<06:15, 13.90s/it]"
     ]
    },
    {
     "name": "stdout",
     "output_type": "stream",
     "text": [
      "Residuals are not finite in the initial point.\n",
      "Residuals are not finite in the initial point.\n",
      "Residuals are not finite in the initial point.\n",
      "Residuals are not finite in the initial point.\n",
      "Residuals are not finite in the initial point.\n",
      "Residuals are not finite in the initial point.\n",
      "Residuals are not finite in the initial point.\n",
      "Residuals are not finite in the initial point.\n",
      "Residuals are not finite in the initial point.\n",
      "Residuals are not finite in the initial point.\n"
     ]
    },
    {
     "name": "stderr",
     "output_type": "stream",
     "text": [
      "\r",
      " 87%|█████████████████████████████████████████████████████████████████████▌          | 174/200 [40:39<06:02, 13.95s/it]"
     ]
    },
    {
     "name": "stdout",
     "output_type": "stream",
     "text": [
      "Residuals are not finite in the initial point.\n",
      "Residuals are not finite in the initial point.\n",
      "Residuals are not finite in the initial point.\n",
      "Residuals are not finite in the initial point.\n",
      "Residuals are not finite in the initial point.\n",
      "Residuals are not finite in the initial point.\n"
     ]
    },
    {
     "name": "stderr",
     "output_type": "stream",
     "text": [
      "\r",
      " 88%|██████████████████████████████████████████████████████████████████████          | 175/200 [40:52<05:42, 13.69s/it]"
     ]
    },
    {
     "name": "stdout",
     "output_type": "stream",
     "text": [
      "Residuals are not finite in the initial point.\n",
      "Residuals are not finite in the initial point.\n",
      "Residuals are not finite in the initial point.\n",
      "Residuals are not finite in the initial point.\n",
      "Residuals are not finite in the initial point.\n",
      "Residuals are not finite in the initial point.\n",
      "Residuals are not finite in the initial point.\n",
      "Residuals are not finite in the initial point.\n",
      "Residuals are not finite in the initial point.\n"
     ]
    },
    {
     "name": "stderr",
     "output_type": "stream",
     "text": [
      "\r",
      " 88%|██████████████████████████████████████████████████████████████████████▍         | 176/200 [41:06<05:30, 13.77s/it]"
     ]
    },
    {
     "name": "stdout",
     "output_type": "stream",
     "text": [
      "Residuals are not finite in the initial point.\n",
      "Residuals are not finite in the initial point.\n",
      "Residuals are not finite in the initial point.\n",
      "Residuals are not finite in the initial point.\n",
      "Residuals are not finite in the initial point.\n",
      "Residuals are not finite in the initial point.\n",
      "Residuals are not finite in the initial point.\n",
      "Residuals are not finite in the initial point.\n",
      "Residuals are not finite in the initial point.\n"
     ]
    },
    {
     "name": "stderr",
     "output_type": "stream",
     "text": [
      "\r",
      " 88%|██████████████████████████████████████████████████████████████████████▊         | 177/200 [41:19<05:16, 13.74s/it]"
     ]
    },
    {
     "name": "stdout",
     "output_type": "stream",
     "text": [
      "Residuals are not finite in the initial point.\n",
      "Residuals are not finite in the initial point.\n",
      "Residuals are not finite in the initial point.\n",
      "Residuals are not finite in the initial point.\n",
      "Residuals are not finite in the initial point.\n",
      "Residuals are not finite in the initial point.\n"
     ]
    },
    {
     "name": "stderr",
     "output_type": "stream",
     "text": [
      "\r",
      " 89%|███████████████████████████████████████████████████████████████████████▏        | 178/200 [41:33<05:05, 13.87s/it]"
     ]
    },
    {
     "name": "stdout",
     "output_type": "stream",
     "text": [
      "Residuals are not finite in the initial point.\n",
      "Residuals are not finite in the initial point.\n",
      "Residuals are not finite in the initial point.\n"
     ]
    },
    {
     "name": "stderr",
     "output_type": "stream",
     "text": [
      "\r",
      " 90%|███████████████████████████████████████████████████████████████████████▌        | 179/200 [41:46<04:46, 13.63s/it]"
     ]
    },
    {
     "name": "stdout",
     "output_type": "stream",
     "text": [
      "Residuals are not finite in the initial point.\n",
      "Residuals are not finite in the initial point.\n",
      "Residuals are not finite in the initial point.\n",
      "Residuals are not finite in the initial point.\n",
      "Residuals are not finite in the initial point.\n",
      "Residuals are not finite in the initial point.\n",
      "Residuals are not finite in the initial point.\n"
     ]
    },
    {
     "name": "stderr",
     "output_type": "stream",
     "text": [
      "\r",
      " 90%|████████████████████████████████████████████████████████████████████████        | 180/200 [42:00<04:32, 13.63s/it]"
     ]
    },
    {
     "name": "stdout",
     "output_type": "stream",
     "text": [
      "Residuals are not finite in the initial point.\n",
      "Residuals are not finite in the initial point.\n",
      "Residuals are not finite in the initial point.\n",
      "Residuals are not finite in the initial point.\n",
      "Residuals are not finite in the initial point.\n",
      "Residuals are not finite in the initial point.\n",
      "Residuals are not finite in the initial point.\n",
      "Residuals are not finite in the initial point.\n"
     ]
    },
    {
     "name": "stderr",
     "output_type": "stream",
     "text": [
      "\r",
      " 90%|████████████████████████████████████████████████████████████████████████▍       | 181/200 [42:13<04:13, 13.35s/it]"
     ]
    },
    {
     "name": "stdout",
     "output_type": "stream",
     "text": [
      "Residuals are not finite in the initial point.\n",
      "Residuals are not finite in the initial point.\n",
      "Residuals are not finite in the initial point.\n",
      "Residuals are not finite in the initial point.\n",
      "Residuals are not finite in the initial point.\n",
      "Residuals are not finite in the initial point.\n",
      "Residuals are not finite in the initial point.\n",
      "Residuals are not finite in the initial point.\n"
     ]
    },
    {
     "name": "stderr",
     "output_type": "stream",
     "text": [
      "\r",
      " 91%|████████████████████████████████████████████████████████████████████████▊       | 182/200 [42:27<04:03, 13.55s/it]"
     ]
    },
    {
     "name": "stdout",
     "output_type": "stream",
     "text": [
      "Residuals are not finite in the initial point.\n",
      "Residuals are not finite in the initial point.\n",
      "Residuals are not finite in the initial point.\n",
      "Residuals are not finite in the initial point.\n",
      "Residuals are not finite in the initial point.\n",
      "Residuals are not finite in the initial point.\n"
     ]
    },
    {
     "name": "stderr",
     "output_type": "stream",
     "text": [
      "\r",
      " 92%|█████████████████████████████████████████████████████████████████████████▏      | 183/200 [42:41<03:53, 13.72s/it]"
     ]
    },
    {
     "name": "stdout",
     "output_type": "stream",
     "text": [
      "Residuals are not finite in the initial point.\n",
      "Residuals are not finite in the initial point.\n",
      "Residuals are not finite in the initial point.\n",
      "Residuals are not finite in the initial point.\n",
      "Residuals are not finite in the initial point.\n",
      "Residuals are not finite in the initial point.\n",
      "Residuals are not finite in the initial point.\n"
     ]
    },
    {
     "name": "stderr",
     "output_type": "stream",
     "text": [
      "\r",
      " 92%|█████████████████████████████████████████████████████████████████████████▌      | 184/200 [42:55<03:40, 13.75s/it]"
     ]
    },
    {
     "name": "stdout",
     "output_type": "stream",
     "text": [
      "Residuals are not finite in the initial point.\n",
      "Residuals are not finite in the initial point.\n",
      "Residuals are not finite in the initial point.\n",
      "Residuals are not finite in the initial point.\n",
      "Residuals are not finite in the initial point.\n"
     ]
    },
    {
     "name": "stderr",
     "output_type": "stream",
     "text": [
      "\r",
      " 92%|██████████████████████████████████████████████████████████████████████████      | 185/200 [43:09<03:29, 14.00s/it]"
     ]
    },
    {
     "name": "stdout",
     "output_type": "stream",
     "text": [
      "Residuals are not finite in the initial point.\n",
      "Residuals are not finite in the initial point.\n",
      "Residuals are not finite in the initial point.\n",
      "Residuals are not finite in the initial point.\n",
      "Residuals are not finite in the initial point.\n",
      "Residuals are not finite in the initial point.\n"
     ]
    },
    {
     "name": "stderr",
     "output_type": "stream",
     "text": [
      "\r",
      " 93%|██████████████████████████████████████████████████████████████████████████▍     | 186/200 [43:22<03:10, 13.59s/it]"
     ]
    },
    {
     "name": "stdout",
     "output_type": "stream",
     "text": [
      "Residuals are not finite in the initial point.\n",
      "Residuals are not finite in the initial point.\n",
      "Residuals are not finite in the initial point.\n",
      "Residuals are not finite in the initial point.\n",
      "Residuals are not finite in the initial point.\n",
      "Residuals are not finite in the initial point.\n",
      "Residuals are not finite in the initial point.\n",
      "Residuals are not finite in the initial point.\n",
      "Residuals are not finite in the initial point.\n"
     ]
    },
    {
     "name": "stderr",
     "output_type": "stream",
     "text": [
      "\r",
      " 94%|██████████████████████████████████████████████████████████████████████████▊     | 187/200 [43:35<02:55, 13.52s/it]"
     ]
    },
    {
     "name": "stdout",
     "output_type": "stream",
     "text": [
      "Residuals are not finite in the initial point.\n",
      "Residuals are not finite in the initial point.\n",
      "Residuals are not finite in the initial point.\n",
      "Residuals are not finite in the initial point.\n",
      "Residuals are not finite in the initial point.\n",
      "Residuals are not finite in the initial point.\n"
     ]
    },
    {
     "name": "stderr",
     "output_type": "stream",
     "text": [
      "\r",
      " 94%|███████████████████████████████████████████████████████████████████████████▏    | 188/200 [43:49<02:42, 13.55s/it]"
     ]
    },
    {
     "name": "stdout",
     "output_type": "stream",
     "text": [
      "Residuals are not finite in the initial point.\n",
      "Residuals are not finite in the initial point.\n",
      "Residuals are not finite in the initial point.\n",
      "Residuals are not finite in the initial point.\n",
      "Residuals are not finite in the initial point.\n",
      "Residuals are not finite in the initial point.\n",
      "Residuals are not finite in the initial point.\n",
      "Residuals are not finite in the initial point.\n",
      "Residuals are not finite in the initial point.\n",
      "Residuals are not finite in the initial point.\n"
     ]
    },
    {
     "name": "stderr",
     "output_type": "stream",
     "text": [
      "\r",
      " 94%|███████████████████████████████████████████████████████████████████████████▌    | 189/200 [44:02<02:27, 13.38s/it]"
     ]
    },
    {
     "name": "stdout",
     "output_type": "stream",
     "text": [
      "Residuals are not finite in the initial point.\n",
      "Residuals are not finite in the initial point.\n",
      "Residuals are not finite in the initial point.\n",
      "Residuals are not finite in the initial point.\n",
      "Residuals are not finite in the initial point.\n",
      "Residuals are not finite in the initial point.\n",
      "Residuals are not finite in the initial point.\n",
      "Residuals are not finite in the initial point.\n"
     ]
    },
    {
     "name": "stderr",
     "output_type": "stream",
     "text": [
      "\r",
      " 95%|████████████████████████████████████████████████████████████████████████████    | 190/200 [44:17<02:17, 13.78s/it]"
     ]
    },
    {
     "name": "stdout",
     "output_type": "stream",
     "text": [
      "Residuals are not finite in the initial point.\n",
      "Residuals are not finite in the initial point.\n",
      "Residuals are not finite in the initial point.\n",
      "Residuals are not finite in the initial point.\n",
      "Residuals are not finite in the initial point.\n",
      "Residuals are not finite in the initial point.\n",
      "Residuals are not finite in the initial point.\n",
      "Residuals are not finite in the initial point.\n"
     ]
    },
    {
     "name": "stderr",
     "output_type": "stream",
     "text": [
      "\r",
      " 96%|████████████████████████████████████████████████████████████████████████████▍   | 191/200 [44:32<02:07, 14.18s/it]"
     ]
    },
    {
     "name": "stdout",
     "output_type": "stream",
     "text": [
      "Residuals are not finite in the initial point.\n",
      "Residuals are not finite in the initial point.\n",
      "Residuals are not finite in the initial point.\n",
      "Residuals are not finite in the initial point.\n",
      "Residuals are not finite in the initial point.\n",
      "Residuals are not finite in the initial point.\n",
      "Residuals are not finite in the initial point.\n",
      "Residuals are not finite in the initial point.\n",
      "Residuals are not finite in the initial point.\n",
      "Residuals are not finite in the initial point.\n"
     ]
    },
    {
     "name": "stderr",
     "output_type": "stream",
     "text": [
      "\r",
      " 96%|████████████████████████████████████████████████████████████████████████████▊   | 192/200 [44:45<01:50, 13.86s/it]"
     ]
    },
    {
     "name": "stdout",
     "output_type": "stream",
     "text": [
      "Residuals are not finite in the initial point.\n",
      "Residuals are not finite in the initial point.\n",
      "Residuals are not finite in the initial point.\n",
      "Residuals are not finite in the initial point.\n",
      "Residuals are not finite in the initial point.\n",
      "Residuals are not finite in the initial point.\n",
      "Residuals are not finite in the initial point.\n",
      "Residuals are not finite in the initial point.\n"
     ]
    },
    {
     "name": "stderr",
     "output_type": "stream",
     "text": [
      "\r",
      " 96%|█████████████████████████████████████████████████████████████████████████████▏  | 193/200 [44:59<01:37, 13.95s/it]"
     ]
    },
    {
     "name": "stdout",
     "output_type": "stream",
     "text": [
      "Residuals are not finite in the initial point.\n",
      "Residuals are not finite in the initial point.\n",
      "Residuals are not finite in the initial point.\n",
      "Residuals are not finite in the initial point.\n",
      "Residuals are not finite in the initial point.\n",
      "Residuals are not finite in the initial point.\n"
     ]
    },
    {
     "name": "stderr",
     "output_type": "stream",
     "text": [
      "\r",
      " 97%|█████████████████████████████████████████████████████████████████████████████▌  | 194/200 [45:12<01:22, 13.71s/it]"
     ]
    },
    {
     "name": "stdout",
     "output_type": "stream",
     "text": [
      "Residuals are not finite in the initial point.\n",
      "Residuals are not finite in the initial point.\n",
      "Residuals are not finite in the initial point.\n",
      "Residuals are not finite in the initial point.\n",
      "Residuals are not finite in the initial point.\n",
      "Residuals are not finite in the initial point.\n",
      "Residuals are not finite in the initial point.\n",
      "Residuals are not finite in the initial point.\n"
     ]
    },
    {
     "name": "stderr",
     "output_type": "stream",
     "text": [
      "\r",
      " 98%|██████████████████████████████████████████████████████████████████████████████  | 195/200 [45:25<01:07, 13.48s/it]"
     ]
    },
    {
     "name": "stdout",
     "output_type": "stream",
     "text": [
      "Residuals are not finite in the initial point.\n",
      "Residuals are not finite in the initial point.\n",
      "Residuals are not finite in the initial point.\n",
      "Residuals are not finite in the initial point.\n",
      "Residuals are not finite in the initial point.\n",
      "Residuals are not finite in the initial point.\n",
      "Residuals are not finite in the initial point.\n",
      "Residuals are not finite in the initial point.\n"
     ]
    },
    {
     "name": "stderr",
     "output_type": "stream",
     "text": [
      "\r",
      " 98%|██████████████████████████████████████████████████████████████████████████████▍ | 196/200 [45:38<00:53, 13.40s/it]"
     ]
    },
    {
     "name": "stdout",
     "output_type": "stream",
     "text": [
      "Residuals are not finite in the initial point.\n",
      "Residuals are not finite in the initial point.\n",
      "Residuals are not finite in the initial point.\n",
      "Residuals are not finite in the initial point.\n",
      "Residuals are not finite in the initial point.\n",
      "Residuals are not finite in the initial point.\n",
      "Residuals are not finite in the initial point.\n",
      "Residuals are not finite in the initial point.\n",
      "Residuals are not finite in the initial point.\n",
      "Residuals are not finite in the initial point.\n",
      "Residuals are not finite in the initial point.\n"
     ]
    },
    {
     "name": "stderr",
     "output_type": "stream",
     "text": [
      "\r",
      " 98%|██████████████████████████████████████████████████████████████████████████████▊ | 197/200 [45:53<00:41, 13.80s/it]"
     ]
    },
    {
     "name": "stdout",
     "output_type": "stream",
     "text": [
      "Residuals are not finite in the initial point.\n",
      "Residuals are not finite in the initial point.\n",
      "Residuals are not finite in the initial point.\n",
      "Residuals are not finite in the initial point.\n",
      "Residuals are not finite in the initial point.\n",
      "Residuals are not finite in the initial point.\n",
      "Residuals are not finite in the initial point.\n",
      "Residuals are not finite in the initial point.\n"
     ]
    },
    {
     "name": "stderr",
     "output_type": "stream",
     "text": [
      "\r",
      " 99%|███████████████████████████████████████████████████████████████████████████████▏| 198/200 [46:07<00:27, 13.74s/it]"
     ]
    },
    {
     "name": "stdout",
     "output_type": "stream",
     "text": [
      "Residuals are not finite in the initial point.\n",
      "Residuals are not finite in the initial point.\n",
      "Residuals are not finite in the initial point.\n",
      "Residuals are not finite in the initial point.\n",
      "Residuals are not finite in the initial point.\n",
      "Residuals are not finite in the initial point.\n",
      "Residuals are not finite in the initial point.\n",
      "Residuals are not finite in the initial point.\n",
      "Residuals are not finite in the initial point.\n"
     ]
    },
    {
     "name": "stderr",
     "output_type": "stream",
     "text": [
      "\r",
      "100%|███████████████████████████████████████████████████████████████████████████████▌| 199/200 [46:21<00:13, 13.80s/it]"
     ]
    },
    {
     "name": "stdout",
     "output_type": "stream",
     "text": [
      "Residuals are not finite in the initial point.\n",
      "Residuals are not finite in the initial point.\n",
      "Residuals are not finite in the initial point.\n",
      "Residuals are not finite in the initial point.\n",
      "Residuals are not finite in the initial point.\n",
      "Residuals are not finite in the initial point.\n",
      "Residuals are not finite in the initial point.\n",
      "Residuals are not finite in the initial point.\n",
      "Residuals are not finite in the initial point.\n"
     ]
    },
    {
     "name": "stderr",
     "output_type": "stream",
     "text": [
      "100%|████████████████████████████████████████████████████████████████████████████████| 200/200 [46:35<00:00, 13.98s/it]\n"
     ]
    }
   ],
   "source": [
    "import alphapept.quantification\n",
    "from tqdm import tqdm as tqdm\n",
    "import numpy as np\n",
    "import pandas as pd\n",
    "\n",
    "from itertools import combinations\n",
    "from numba.typed import List\n",
    "from time import time\n",
    "from tqdm import tqdm\n",
    "\n",
    "import alphapept.quantification\n",
    "\n",
    "n_samples = 20\n",
    "\n",
    "column_combinations = List()\n",
    "[column_combinations.append(_) for _ in combinations(range(n_samples), 2)]\n",
    "\n",
    "\n",
    "\n",
    "results = []\n",
    "for run in tqdm(range(200)):\n",
    "    for n_sequences in range(2,20):\n",
    "    \n",
    "        signal, sample, ground_truth = alphapept.quantification.generate_dummy_data(n_sequences, n_samples)\n",
    "        ratios = alphapept.quantification.get_protein_ratios(signal.values, column_combinations)\n",
    "\n",
    "        for method in ['L-BFGS-B', 'SLSQP', 'Powell','trf']:\n",
    "            error = False\n",
    "            start = time()\n",
    "            \n",
    "            try:\n",
    "                solution, success = alphapept.quantification.solve_profile(ratios, method)\n",
    "                \n",
    "                if not success:\n",
    "                    solution = np.zeros(ratios.shape[0])\n",
    "            except Exception as e:\n",
    "                print(e)\n",
    "                error = True\n",
    "                solution = np.zeros(ratios.shape[0])\n",
    "               \n",
    "            mape = np.mean(np.abs((solution-ground_truth)/ground_truth))\n",
    "                    \n",
    "            end = time()\n",
    "\n",
    "            time_elapsed_s = (end-start)\n",
    "\n",
    "            results.append((method, time_elapsed_s, mape, error, success, n_sequences, run))\n",
    "    \n",
    "result_df = pd.DataFrame(results, columns=['Method', 'Time Elapsed (s)', 'Mean absolute percentage error', 'Errors', 'Success', 'Sequences', 'Run'])\n"
   ]
  },
  {
   "cell_type": "code",
   "execution_count": 73,
   "id": "ffc03aeb",
   "metadata": {},
   "outputs": [],
   "source": [
    "result_df['Error relative to mean'] = result_df['Mean absolute percentage error'] / result_df.groupby(['Sequences','Run'])['Mean absolute percentage error'].transform(np.mean)\n",
    "result_df_ = result_df[result_df[\"Success\"]]\n",
    "\n",
    "grouped_mean = result_df_.groupby(['Method']).mean().reset_index()\n",
    "\n",
    "grouped_std = result_df_.groupby(['Method']).std().reset_index()\n",
    "grouped_cnt = result_df_.groupby(['Method']).count().reset_index()"
   ]
  },
  {
   "cell_type": "code",
   "execution_count": 74,
   "id": "3825e1f7",
   "metadata": {
    "scrolled": true
   },
   "outputs": [
    {
     "data": {
      "text/plain": [
       "<Figure size 170.136x170.136 with 0 Axes>"
      ]
     },
     "metadata": {},
     "output_type": "display_data"
    },
    {
     "data": {
      "image/png": "[encoded data removed]",
      "text/plain": [
       "<Figure size 510.408x170.136 with 3 Axes>"
      ]
     },
     "metadata": {
      "needs_background": "light"
     },
     "output_type": "display_data"
    }
   ],
   "source": [
    "dark_blue = '#17212b'\n",
    "light_blue = '#3dc5ef'\n",
    "teal= '#42dee1'\n",
    "green = '#6eecb9'\n",
    "yellow = '#eef5b3'\n",
    "\n",
    "colors = [light_blue, teal, green, yellow]\n",
    "\n",
    "hfont = {'fontname':'Arial', 'size':10}\n",
    "plt.figure(figsize=(2.363,2.363)) #60x60\n",
    "\n",
    "fig, (ax1, ax2, ax3) = plt.subplots(1, 3, figsize=(2.363*3,2.363))\n",
    "\n",
    "ax1.barh(grouped_mean['Method'], grouped_mean['Time Elapsed (s)'], color = colors)\n",
    "\n",
    "ax1.set_xlabel('Time (s)', **hfont)\n",
    "\n",
    "ax2.barh(grouped_mean['Method'], grouped_mean['Error relative to mean'], xerr = grouped_std['Error relative to mean'].values, color = colors)\n",
    "\n",
    "ax2.set_xlabel('Error to mean', **hfont)\n",
    "\n",
    "ax3.barh(grouped_mean['Method'], grouped_cnt['Success']/max(grouped_cnt['Success']), color = colors)\n",
    "\n",
    "ax3.set_xlabel('Success', **hfont)\n",
    "\n",
    "ax2.set_yticks([])\n",
    "ax3.set_yticks([])\n",
    "#plt.suptitle('Optimizer comparison', **hfont)\n",
    "\n",
    "plt.tight_layout()\n",
    "plt.savefig('figures/06_comparsion.pdf')\n",
    "plt.show()\n"
   ]
  },
  {
   "cell_type": "code",
   "execution_count": 75,
   "id": "a0b52029",
   "metadata": {},
   "outputs": [
    {
     "data": {
      "text/plain": [
       "15.96069967477948"
      ]
     },
     "execution_count": 75,
     "metadata": {},
     "output_type": "execute_result"
    }
   ],
   "source": [
    "grouped_mean.iloc[3]['Time Elapsed (s)'] / grouped_mean.iloc[2]['Time Elapsed (s)']"
   ]
  },
  {
   "cell_type": "code",
   "execution_count": 76,
   "id": "f5ac5b32",
   "metadata": {},
   "outputs": [
    {
     "data": {
      "text/plain": [
       "0    0.958654\n",
       "1    1.000000\n",
       "2    1.000000\n",
       "3    0.997596\n",
       "Name: Success, dtype: float64"
      ]
     },
     "execution_count": 76,
     "metadata": {},
     "output_type": "execute_result"
    }
   ],
   "source": [
    "grouped_cnt['Success']/max(grouped_cnt['Success'])"
   ]
  },
  {
   "cell_type": "code",
   "execution_count": 77,
   "id": "ab066f62",
   "metadata": {},
   "outputs": [
    {
     "data": {
      "text/html": [
       "<div>\n",
       "<style scoped>\n",
       "    .dataframe tbody tr th:only-of-type {\n",
       "        vertical-align: middle;\n",
       "    }\n",
       "\n",
       "    .dataframe tbody tr th {\n",
       "        vertical-align: top;\n",
       "    }\n",
       "\n",
       "    .dataframe thead th {\n",
       "        text-align: right;\n",
       "    }\n",
       "</style>\n",
       "<table border=\"1\" class=\"dataframe\">\n",
       "  <thead>\n",
       "    <tr style=\"text-align: right;\">\n",
       "      <th></th>\n",
       "      <th>Method</th>\n",
       "      <th>Time Elapsed (s)</th>\n",
       "      <th>Mean absolute percentage error</th>\n",
       "      <th>Errors</th>\n",
       "      <th>Success</th>\n",
       "      <th>Sequences</th>\n",
       "      <th>Run</th>\n",
       "      <th>Error relative to mean</th>\n",
       "    </tr>\n",
       "  </thead>\n",
       "  <tbody>\n",
       "    <tr>\n",
       "      <th>0</th>\n",
       "      <td>L-BFGS-B</td>\n",
       "      <td>0.089736</td>\n",
       "      <td>0.016038</td>\n",
       "      <td>False</td>\n",
       "      <td>True</td>\n",
       "      <td>13.351053</td>\n",
       "      <td>98.736710</td>\n",
       "      <td>0.901502</td>\n",
       "    </tr>\n",
       "    <tr>\n",
       "      <th>1</th>\n",
       "      <td>Powell</td>\n",
       "      <td>0.193490</td>\n",
       "      <td>0.015420</td>\n",
       "      <td>False</td>\n",
       "      <td>True</td>\n",
       "      <td>13.352885</td>\n",
       "      <td>98.901442</td>\n",
       "      <td>0.868291</td>\n",
       "    </tr>\n",
       "    <tr>\n",
       "      <th>2</th>\n",
       "      <td>SLSQP</td>\n",
       "      <td>0.027572</td>\n",
       "      <td>0.125041</td>\n",
       "      <td>False</td>\n",
       "      <td>True</td>\n",
       "      <td>13.352885</td>\n",
       "      <td>98.901442</td>\n",
       "      <td>0.929419</td>\n",
       "    </tr>\n",
       "    <tr>\n",
       "      <th>3</th>\n",
       "      <td>trf</td>\n",
       "      <td>0.440073</td>\n",
       "      <td>0.094304</td>\n",
       "      <td>False</td>\n",
       "      <td>True</td>\n",
       "      <td>13.350843</td>\n",
       "      <td>98.864096</td>\n",
       "      <td>1.265867</td>\n",
       "    </tr>\n",
       "  </tbody>\n",
       "</table>\n",
       "</div>"
      ],
      "text/plain": [
       "     Method  Time Elapsed (s)  Mean absolute percentage error  Errors  \\\n",
       "0  L-BFGS-B          0.089736                        0.016038   False   \n",
       "1    Powell          0.193490                        0.015420   False   \n",
       "2     SLSQP          0.027572                        0.125041   False   \n",
       "3       trf          0.440073                        0.094304   False   \n",
       "\n",
       "   Success  Sequences        Run  Error relative to mean  \n",
       "0     True  13.351053  98.736710                0.901502  \n",
       "1     True  13.352885  98.901442                0.868291  \n",
       "2     True  13.352885  98.901442                0.929419  \n",
       "3     True  13.350843  98.864096                1.265867  "
      ]
     },
     "execution_count": 77,
     "metadata": {},
     "output_type": "execute_result"
    }
   ],
   "source": [
    "grouped_mean"
   ]
  }
 ],
 "metadata": {
  "kernelspec": {
   "display_name": "Python [conda env:.conda-alphapept] *",
   "language": "python",
   "name": "conda-env-.conda-alphapept-py"
  },
  "language_info": {
   "codemirror_mode": {
    "name": "ipython",
    "version": 3
   },
   "file_extension": ".py",
   "mimetype": "text/x-python",
   "name": "python",
   "nbconvert_exporter": "python",
   "pygments_lexer": "ipython3",
   "version": "3.8.8"
  },
  "toc": {
   "base_numbering": 1,
   "nav_menu": {},
   "number_sections": true,
   "sideBar": true,
   "skip_h1_title": false,
   "title_cell": "Table of Contents",
   "title_sidebar": "Contents",
   "toc_cell": false,
   "toc_position": {},
   "toc_section_display": true,
   "toc_window_display": false
  }
 },
 "nbformat": 4,
 "nbformat_minor": 5
}
