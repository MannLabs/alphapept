{
 "cells": [
  {
   "cell_type": "markdown",
   "id": "2b16473f",
   "metadata": {},
   "source": [
    "# Doctest\n",
    "\n",
    "This is a test notebook for the documentation. Sometimes the creation of the automatic documentation fails as there are non-utf-8 characters."
   ]
  },
  {
   "cell_type": "code",
   "execution_count": 1,
   "id": "aa031397",
   "metadata": {},
   "outputs": [],
   "source": [
    "import os"
   ]
  },
  {
   "cell_type": "code",
   "execution_count": 2,
   "id": "05c54aa9",
   "metadata": {},
   "outputs": [],
   "source": [
    "ipynb_path = os.path.dirname(os.path.realpath(\"__file__\"))\n",
    "doc_path = os.path.join(ipynb_path, os.pardir, 'docs')\n",
    "\n",
    "html_files = [_ for _ in os.listdir(doc_path) if _.endswith('.html')]"
   ]
  },
  {
   "cell_type": "code",
   "execution_count": 3,
   "id": "97e2a0bc",
   "metadata": {},
   "outputs": [],
   "source": [
    "def utf8encode(file_path):\n",
    "    \"\"\"\n",
    "    Forces utf-8 encoding of file\n",
    "    \n",
    "    \"\"\"\n",
    "    with open(file_path, 'r+', encoding='utf-8', errors = 'replace') as file:\n",
    "        file.write(file.read())\n",
    "        file.truncate()\n",
    "\n",
    "    print(f'Converted {file_path} to utf-8 decodable')\n",
    "    \n",
    "    return\n"
   ]
  },
  {
   "cell_type": "code",
   "execution_count": 5,
   "id": "9a624992",
   "metadata": {},
   "outputs": [
    {
     "name": "stdout",
     "output_type": "stream",
     "text": [
      "Exception in file file_formats.html. After line 125: <td>dist</td>\n",
      "\n",
      "Converted F:\\projects\\alphapept\\sandbox\\..\\docs\\file_formats.html to utf-8 decodable\n",
      "Exception in file score.html. After line 792: <p>Args:\n",
      "\n",
      "Converted F:\\projects\\alphapept\\sandbox\\..\\docs\\score.html to utf-8 decodable\n"
     ]
    }
   ],
   "source": [
    "for file in html_files:\n",
    "    \n",
    "    myfile = open(os.path.join(doc_path, file), encoding='utf-8')\n",
    "    \n",
    "    try:\n",
    "        for idx, l in enumerate(myfile):\n",
    "            pass\n",
    "        \n",
    "    except:\n",
    "        print(f'Exception in file {file}. After line {idx}: {l}')\n",
    "        \n",
    "        utf8encode(os.path.join(doc_path, file))\n",
    "        "
   ]
  }
 ],
 "metadata": {
  "kernelspec": {
   "display_name": "Python 3 (ipykernel)",
   "language": "python",
   "name": "python3"
  },
  "language_info": {
   "codemirror_mode": {
    "name": "ipython",
    "version": 3
   },
   "file_extension": ".py",
   "mimetype": "text/x-python",
   "name": "python",
   "nbconvert_exporter": "python",
   "pygments_lexer": "ipython3",
   "version": "3.8.12"
  }
 },
 "nbformat": 4,
 "nbformat_minor": 5
}
