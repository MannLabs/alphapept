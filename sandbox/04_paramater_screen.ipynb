{
 "cells": [
  {
   "cell_type": "markdown",
   "id": "clean-conducting",
   "metadata": {},
   "source": [
    "# Parameter Screen\n",
    "\n",
    "This notebooks how a parameter screen can be done on AlphaPept to find optimal values."
   ]
  },
  {
   "cell_type": "code",
   "execution_count": 1,
   "id": "divided-christopher",
   "metadata": {
    "scrolled": true
   },
   "outputs": [],
   "source": [
    "from alphapept.paths import SETTINGS_TEMPLATE_PATH, DEFAULT_SETTINGS_PATH\n",
    "import numpy as np\n",
    "import alphapept.interface\n",
    "from alphapept.settings import load_settings_as_template \n",
    "\n",
    "SETTINGS_TEMPLATE = load_settings_as_template(SETTINGS_TEMPLATE_PATH)"
   ]
  },
  {
   "cell_type": "code",
   "execution_count": 2,
   "id": "recovered-priority",
   "metadata": {
    "scrolled": false
   },
   "outputs": [
    {
     "name": "stdout",
     "output_type": "stream",
     "text": [
      "dict_keys(['max_gap', 'centroid_tol', 'hill_length_min', 'hill_split_level', 'iso_split_level', 'hill_smoothing', 'hill_check_large', 'iso_charge_min', 'iso_charge_max', 'iso_n_seeds', 'hill_nboot_max', 'hill_nboot', 'iso_mass_range', 'iso_corr_min', 'map_mz_range', 'map_rt_range', 'map_mob_range', 'map_n_neighbors', 'search_unidentified'])\n",
      "features centroid_tol 1.0\n",
      "2023-07-17 16:07:02> Logging to C:\\Users\\admin\\alphapept\\logs\\log_20230717160702.txt.\n",
      "2023-07-17 16:07:02> Code location f:\\projects\\alphapept\\alphapept\n",
      "2023-07-17 16:07:02> Python location C:\\ProgramData\\Miniconda3\\envs\\alphapept\\python.exe\n",
      "2023-07-17 16:07:02> Platform information:\n",
      "2023-07-17 16:07:02> system     - Windows\n",
      "2023-07-17 16:07:02> release    - 10\n",
      "2023-07-17 16:07:02> version    - 10.0.19044\n",
      "2023-07-17 16:07:02> machine    - AMD64\n",
      "2023-07-17 16:07:02> processor  - Intel64 Family 6 Model 85 Stepping 4, GenuineIntel\n",
      "2023-07-17 16:07:02> cpu count  - 24\n",
      "2023-07-17 16:07:02> ram memory - 112.3/127.7 Gb (available/total)\n",
      "2023-07-17 16:07:02> processor  - Intel64 Family 6 Model 85 Stepping 4, GenuineIntel\n",
      "2023-07-17 16:07:02> Python information:\n",
      "2023-07-17 16:07:02> SQLAlchemy                    - 1.4.39\n",
      "2023-07-17 16:07:02> alphapept                     - 0.5.0\n",
      "2023-07-17 16:07:02> alpharaw                      - 0.1.0\n",
      "2023-07-17 16:07:02> alphatims                     - 1.0.7\n",
      "2023-07-17 16:07:02> biopython                     - 1.79\n",
      "2023-07-17 16:07:02> bumpversion                   - 0.6.0\n",
      "2023-07-17 16:07:02> bumpversion>                  - \n",
      "2023-07-17 16:07:02> click                         - 8.1.3\n",
      "2023-07-17 16:07:02> click>                        - \n",
      "2023-07-17 16:07:02> fastcore                      - 1.5.29\n",
      "2023-07-17 16:07:02> h5py                          - 3.7.0\n",
      "2023-07-17 16:07:02> jupyter                       - 1.0.0\n",
      "2023-07-17 16:07:02> jupyter>                      - \n",
      "2023-07-17 16:07:02> jupyter_contrib_nbextensions  - \n",
      "2023-07-17 16:07:02> jupyter_contrib_nbextensions> - \n",
      "2023-07-17 16:07:02> matplotlib                    - 3.7.1\n",
      "2023-07-17 16:07:02> nbdev                         - 2.3.12\n",
      "2023-07-17 16:07:02> nbdev>                        - \n",
      "2023-07-17 16:07:02> networkx                      - 2.8.6\n",
      "2023-07-17 16:07:02> numba                         - 0.55.2\n",
      "2023-07-17 16:07:02> numpy                         - 1.20.3\n",
      "2023-07-17 16:07:02> pandas                        - 1.4.3\n",
      "2023-07-17 16:07:02> plotly_express                - 0.4.1\n",
      "2023-07-17 16:07:02> psutil                        - 5.9.0\n",
      "2023-07-17 16:07:02> pyinstaller                   - \n",
      "2023-07-17 16:07:02> pyteomics                     - 4.5.5\n",
      "2023-07-17 16:07:02> python                        - 3.8.16\n",
      "2023-07-17 16:07:02> pythonnet>                    - \n",
      "2023-07-17 16:07:02> pywin32>                      - \n",
      "2023-07-17 16:07:02> pyyaml                        - 6.0\n",
      "2023-07-17 16:07:02> scikit-learn                  - 1.1.2\n",
      "2023-07-17 16:07:02> scipy                         - 1.8.1\n",
      "2023-07-17 16:07:02> streamlit                     - 1.20.0\n",
      "2023-07-17 16:07:02> streamlit>                    - \n",
      "2023-07-17 16:07:02> tables                        - 3.6.1\n",
      "2023-07-17 16:07:02> tqdm                          - 4.64.0\n",
      "2023-07-17 16:07:02> twine                         - \n",
      "2023-07-17 16:07:02> twine>                        - \n",
      "2023-07-17 16:07:02> watchdog                      - 2.3.0\n",
      "2023-07-17 16:07:02> wget                          - 3.2\n",
      "2023-07-17 16:07:02> \n",
      "2023-07-17 16:07:02> Check for settings not completely implemented yet.\n",
      "2023-07-17 16:07:02> Size check:\n",
      "2023-07-17 16:07:02> Size of job (raw files) 0.07 Gb\n",
      "2023-07-17 16:07:02> Required disk space for F: - 0.07 Gb, Available 391.06 Gb OK.\n",
      "2023-07-17 16:07:02> \n",
      "2023-07-17 16:07:02> Workflow Settings:\n",
      "2023-07-17 16:07:02> align              - False\n",
      "2023-07-17 16:07:02> continue_runs      - False\n",
      "2023-07-17 16:07:02> create_database    - True\n",
      "2023-07-17 16:07:02> find_features      - True\n",
      "2023-07-17 16:07:02> import_raw_data    - True\n",
      "2023-07-17 16:07:02> lfq_quantification - True\n",
      "2023-07-17 16:07:02> match              - False\n",
      "2023-07-17 16:07:02> recalibrate_data   - True\n",
      "2023-07-17 16:07:02> search_data        - True\n",
      "2023-07-17 16:07:02> \n",
      "2023-07-17 16:07:02> Checking if files exist.\n",
      "2023-07-17 16:07:02> FASTA Files have a total size of 0.000 Mb\n",
      "2023-07-17 16:07:02> Results path was not set. Setting to F:\\temp_test_run\\results.hdf\n",
      "2023-07-17 16:07:02> Shortnames not set. Setting to filename.\n",
      "2023-07-17 16:07:02> Sample group not set. Setting to shortname.\n",
      "2023-07-17 16:07:02> Fraction not set. Setting to 1.\n",
      "2023-07-17 16:07:02> No database path set and save_db option checked. Using default path F:\\temp_test_run\\database.hdf\n",
      "2023-07-17 16:07:02> Deleted F:/temp_test_run/thermo_IRT.ms_data.hdf\n",
      "2023-07-17 16:07:02> Workflow has 11 steps\n",
      "2023-07-17 16:07:02> ==== create_database ====\n",
      "2023-07-17 16:07:02> Database path set and exists. Using F:\\temp_test_run\\database.hdf as database.\n",
      "2023-07-17 16:07:02> ==== import_raw_data ====\n"
     ]
    },
    {
     "name": "stderr",
     "output_type": "stream",
     "text": [
      "\r",
      "  0%|                                                                                                                                                                | 0/1 [00:00<?, ?it/s]"
     ]
    },
    {
     "name": "stdout",
     "output_type": "stream",
     "text": [
      "2023-07-17 16:07:02> Processing 1 files for step raw_conversion\n",
      "2023-07-17 16:07:02> File F:/temp_test_run/thermo_IRT has extension .raw - converting from Thermo.\n",
      "2023-07-17 16:07:06> File conversion complete. Extracted 2,603 precursors.\n",
      "2023-07-17 16:07:07> File conversion of file F:/temp_test_run/thermo_IRT.raw complete.\n"
     ]
    },
    {
     "name": "stderr",
     "output_type": "stream",
     "text": [
      "\r",
      "  0%|                                                                                                                                                                | 0/1 [00:04<?, ?it/s]"
     ]
    },
    {
     "name": "stdout",
     "output_type": "stream",
     "text": [
      "2023-07-17 16:07:07> ==== feature_finding ====\n"
     ]
    },
    {
     "name": "stderr",
     "output_type": "stream",
     "text": [
      "\n",
      "  0%|                                                                                                                                                                | 0/1 [00:00<?, ?it/s]"
     ]
    },
    {
     "name": "stdout",
     "output_type": "stream",
     "text": [
      "2023-07-17 16:07:09> Processing 1 files for step find_features\n",
      "2023-07-17 16:07:09> No *.hdf file with features found for F:/temp_test_run/thermo_IRT.ms_data.hdf. Adding to feature finding list.\n",
      "2023-07-17 16:07:09> Feature finding on F:/temp_test_run/thermo_IRT.raw\n",
      "2023-07-17 16:07:09> Hill extraction with centroid_tol 1 and max_gap 2\n",
      "2023-07-17 16:07:13> Number of hills 103,133, len = 10.84\n",
      "2023-07-17 16:07:13> Repeating hill extraction with centroid_tol 1.27\n",
      "2023-07-17 16:07:14> Number of hills 102,643, len = 13.00\n",
      "2023-07-17 16:07:16> After duplicate removal of hills 62,161\n",
      "2023-07-17 16:07:23> After split hill_ptrs 68,278\n",
      "2023-07-17 16:07:25> After filter hill_ptrs 67,518\n",
      "2023-07-17 16:07:38> Extracting hill stats complete\n",
      "2023-07-17 16:07:41> Found 4,869 pre isotope patterns.\n",
      "2023-07-17 16:07:59> Extracted 4,262 isotope patterns.\n",
      "2023-07-17 16:08:08> Report complete.\n",
      "2023-07-17 16:08:08> Matching features to query data.\n",
      "2023-07-17 16:08:09> Saving feature table.\n",
      "2023-07-17 16:08:09> Feature table saved to F:/temp_test_run/thermo_IRT.ms_data.hdf\n",
      "2023-07-17 16:08:09> Saving features.\n",
      "2023-07-17 16:08:09> Feature finding of file F:/temp_test_run/thermo_IRT.raw complete.\n"
     ]
    },
    {
     "name": "stderr",
     "output_type": "stream",
     "text": [
      "\r",
      "  0%|                                                                                                                                                                | 0/1 [00:59<?, ?it/s]"
     ]
    },
    {
     "name": "stdout",
     "output_type": "stream",
     "text": [
      "2023-07-17 16:08:09> ==== search_data ====\n"
     ]
    },
    {
     "name": "stderr",
     "output_type": "stream",
     "text": [
      "\n",
      "  0%|                                                                                                                                                                | 0/1 [00:00<?, ?it/s]"
     ]
    },
    {
     "name": "stdout",
     "output_type": "stream",
     "text": [
      "2023-07-17 16:08:09> Starting first search.\n",
      "2023-07-17 16:08:09> Processing 1 files for step search_db\n",
      "2023-07-17 16:08:09> Calibrating fragments\n",
      "2023-07-17 16:08:14> Performing search on 2,039 query and 5,045,760 db entries with frag_tol = 50.00 and prec_tol = 20.00.\n",
      "2023-07-17 16:08:16> Found 74 psms.\n",
      "2023-07-17 16:08:16> Extracting columns for scoring.\n",
      "2023-07-17 16:08:27> Extracted columns from 74 spectra.\n",
      "2023-07-17 16:08:27> Saving first_search results to F:/temp_test_run/thermo_IRT.ms_data.hdf\n",
      "2023-07-17 16:08:27> Search of file F:/temp_test_run/thermo_IRT.raw complete.\n",
      "2023-07-17 16:08:44> First search complete.\n"
     ]
    },
    {
     "name": "stderr",
     "output_type": "stream",
     "text": [
      "\r",
      "  0%|                                                                                                                                                                | 0/1 [00:35<?, ?it/s]"
     ]
    },
    {
     "name": "stdout",
     "output_type": "stream",
     "text": [
      "2023-07-17 16:08:44> ==== recalibrate_data ====\n"
     ]
    },
    {
     "name": "stderr",
     "output_type": "stream",
     "text": [
      "\n",
      "  0%|                                                                                                                                                                | 0/1 [00:00<?, ?it/s]"
     ]
    },
    {
     "name": "stdout",
     "output_type": "stream",
     "text": [
      "2023-07-17 16:08:44> Processing 1 files for step calibrate_hdf\n",
      "2023-07-17 16:08:44> Recalibrating file F:/temp_test_run/thermo_IRT.raw.\n",
      "2023-07-17 16:08:44> Scoring using generic score\n",
      "2023-07-17 16:08:44> 4 target (0 decoy) of 38 PSMs. FDR 0.000000 for a cutoff of 13.01 (set FDR was 0.01).\n",
      "2023-07-17 16:08:44> Precursor mass calibration for file F:/temp_test_run/thermo_IRT.raw.\n",
      "2023-07-17 16:08:45> Not enough data points present. Skipping recalibration.\n",
      "2023-07-17 16:08:45> Precursor calibration of file F:/temp_test_run/thermo_IRT.ms_data.hdf complete.\n",
      "2023-07-17 16:08:45> Starting fragment calibration.\n",
      "2023-07-17 16:08:45> Calibrating fragments with neighbors\n",
      "2023-07-17 16:08:45> Scoring using generic score\n",
      "2023-07-17 16:08:45> 4 target (0 decoy) of 38 PSMs. FDR 0.000000 for a cutoff of 13.01 (set FDR was 0.01).\n",
      "2023-07-17 16:08:45> Minimum hits for fragments before score 7.03.\n",
      "2023-07-17 16:08:45> Minimum hits for fragments after score 8.64.\n",
      "2023-07-17 16:08:45> Not enough datapoints 40 for fragment calibration. Minimum is set to 400. Skipping fragment calibration.\n",
      "2023-07-17 16:08:45> Fragment calibration of file F:/temp_test_run/thermo_IRT.ms_data.hdf complete.\n"
     ]
    },
    {
     "name": "stderr",
     "output_type": "stream",
     "text": [
      "\r",
      "  0%|                                                                                                                                                                | 0/1 [00:00<?, ?it/s]"
     ]
    },
    {
     "name": "stdout",
     "output_type": "stream",
     "text": [
      "2023-07-17 16:08:45> ==== search_data ====\n"
     ]
    },
    {
     "name": "stderr",
     "output_type": "stream",
     "text": [
      "\n",
      "  0%|                                                                                                                                                                | 0/1 [00:00<?, ?it/s]"
     ]
    },
    {
     "name": "stdout",
     "output_type": "stream",
     "text": [
      "2023-07-17 16:08:45> Starting second search with DB.\n",
      "2023-07-17 16:08:45> Processing 1 files for step search_db\n",
      "2023-07-17 16:08:45> Found calibrated prec_tol with value 9.59\n",
      "2023-07-17 16:08:45> 'Dataset estimated_max_fragment_ppm does not exist for group / of <HDF_File F:\\\\temp_test_run\\\\thermo_IRT.ms_data.hdf>.'\n",
      "2023-07-17 16:08:45> Performing search on 2,039 query and 5,045,760 db entries with frag_tol = 50.00 and prec_tol = 9.59.\n",
      "2023-07-17 16:08:45> Found 36 psms.\n",
      "2023-07-17 16:08:45> Extracting columns for scoring.\n",
      "2023-07-17 16:08:49> Extracted columns from 36 spectra.\n",
      "2023-07-17 16:08:49> Saving second_search results to F:/temp_test_run/thermo_IRT.ms_data.hdf\n",
      "2023-07-17 16:08:49> Search of file F:/temp_test_run/thermo_IRT.raw complete.\n",
      "2023-07-17 16:09:04> Second search complete.\n"
     ]
    },
    {
     "name": "stderr",
     "output_type": "stream",
     "text": [
      "\r",
      "  0%|                                                                                                                                                                | 0/1 [00:18<?, ?it/s]"
     ]
    },
    {
     "name": "stdout",
     "output_type": "stream",
     "text": [
      "2023-07-17 16:09:04> ==== score ====\n"
     ]
    },
    {
     "name": "stderr",
     "output_type": "stream",
     "text": [
      "\n",
      "  0%|                                                                                                                                                                | 0/1 [00:00<?, ?it/s]"
     ]
    },
    {
     "name": "stdout",
     "output_type": "stream",
     "text": [
      "2023-07-17 16:09:04> Processing 1 files for step score_hdf\n",
      "2023-07-17 16:09:04> Calling score_hdf\n",
      "2023-07-17 16:09:04> Found second search psms for scoring.\n",
      "2023-07-17 16:09:04> 4 target (0 decoy) of 21 PSMs. FDR 0.000000 for a cutoff of 13.01 (set FDR was 0.1).\n",
      "2023-07-17 16:09:04> ML failed. Defaulting to morpheus score\n",
      "2023-07-17 16:09:04> There are fewer high scoring targets or decoys than required by 'min_train'.\n",
      "2023-07-17 16:09:04> Converting morpheus score to probabilities\n",
      "2023-07-17 16:09:04> First q_value 1.300 of dataset is larger than fdr_level 0.010\n",
      "2023-07-17 16:09:04> 0 target (1 decoy) of 23 PSMs. FDR inf for a cutoff of 1.00 (set FDR was 0.01).\n",
      "2023-07-17 16:09:04> Saving identifications to ms_data file.\n",
      "2023-07-17 16:09:05> Saving identifications to ms_data file complete.\n",
      "2023-07-17 16:09:05> Saving identifications to csv file complete.\n",
      "2023-07-17 16:09:05> Filter df with custom score\n",
      "2023-07-17 16:09:05> Global FDR on precursor\n",
      "2023-07-17 16:09:05> First q_value 1.333 of dataset is larger than fdr_level 0.010\n",
      "2023-07-17 16:09:05> 0 target (1 decoy) of 21 PSMs. FDR inf for a cutoff of 1.00 (set FDR was 0.01).\n",
      "2023-07-17 16:09:05> Global FDR cutoff at 1.000.\n",
      "2023-07-17 16:09:05> FDR on peptides complete. For 0.01 FDR found 3 targets and 1 decoys.\n",
      "2023-07-17 16:09:05> Extracting fragment_ions\n",
      "2023-07-17 16:09:05> Extracting fragment_ions complete.\n",
      "2023-07-17 16:09:05> Exporting peptide_fdr on F:/temp_test_run/thermo_IRT.raw.\n",
      "2023-07-17 16:09:05> Scoring of files F:/temp_test_run/thermo_IRT.raw complete.\n"
     ]
    },
    {
     "name": "stderr",
     "output_type": "stream",
     "text": [
      "\r",
      "  0%|                                                                                                                                                                | 0/1 [00:01<?, ?it/s]"
     ]
    },
    {
     "name": "stdout",
     "output_type": "stream",
     "text": [
      "2023-07-17 16:09:05> ==== isobaric_labeling ====\n",
      "2023-07-17 16:09:05> ==== protein_grouping ====\n"
     ]
    },
    {
     "name": "stderr",
     "output_type": "stream",
     "text": [
      "\n",
      "  0%|                                                                                                                                                                | 0/1 [00:00<?, ?it/s]"
     ]
    },
    {
     "name": "stdout",
     "output_type": "stream",
     "text": [
      "2023-07-17 16:09:05> Fasta dict with length 20,365, Pept dict with length 5,045,764\n",
      "2023-07-17 16:09:05> Extracting protein groups.\n"
     ]
    },
    {
     "name": "stderr",
     "output_type": "stream",
     "text": [
      "\n",
      "  0%|                                                                                                                                                                | 0/1 [00:00<?, ?it/s]\u001b[A"
     ]
    },
    {
     "name": "stdout",
     "output_type": "stream",
     "text": [
      "2023-07-17 16:09:05> A total of 3 unique and 0 shared peptides.\n",
      "2023-07-17 16:09:05> A total of 0 ambigious proteins\n",
      "2023-07-17 16:09:05> A total of 1 unique and 0 shared peptides.\n",
      "2023-07-17 16:09:05> A total of 0 ambigious proteins\n",
      "2023-07-17 16:09:05> Global FDR on protein_group\n"
     ]
    },
    {
     "name": "stderr",
     "output_type": "stream",
     "text": [
      "\n"
     ]
    },
    {
     "name": "stdout",
     "output_type": "stream",
     "text": [
      "2023-07-17 16:09:05> First q_value 0.333 of dataset is larger than fdr_level 0.010\n",
      "2023-07-17 16:09:05> 0 target (1 decoy) of 4 PSMs. FDR inf for a cutoff of 1.00 (set FDR was 0.01).\n",
      "2023-07-17 16:09:05> Global FDR cutoff at 1.000.\n",
      "2023-07-17 16:09:05> FDR on proteins complete. For 0.01 FDR found 3 targets and 1 decoys. A total of 4 proteins found.\n",
      "2023-07-17 16:09:05> Saving complete.\n",
      "2023-07-17 16:09:05> Protein groups complete.\n"
     ]
    },
    {
     "name": "stderr",
     "output_type": "stream",
     "text": [
      "\r",
      "  0%|                                                                                                                                                                | 0/1 [00:00<?, ?it/s]"
     ]
    },
    {
     "name": "stdout",
     "output_type": "stream",
     "text": [
      "2023-07-17 16:09:05> ==== quantification ====\n",
      "2023-07-17 16:09:05> Reading protein_fdr for quantification.\n",
      "2023-07-17 16:09:05> Saving protein_groups after delayed normalization to combined_protein_fdr_dn\n",
      "2023-07-17 16:09:05> Complete.\n",
      "2023-07-17 16:09:05> Starting profile extraction.\n"
     ]
    },
    {
     "name": "stderr",
     "output_type": "stream",
     "text": [
      "\n",
      "  0%|                                                                                                                                                                | 0/1 [00:00<?, ?it/s]"
     ]
    },
    {
     "name": "stdout",
     "output_type": "stream",
     "text": [
      "2023-07-17 16:09:05> LFQ complete.\n",
      "2023-07-17 16:09:05> Extracting protein_summary\n",
      "2023-07-17 16:09:05> Saved protein_summary of length 4 saved to F:\\temp_test_run\\results_protein_summary.csv\n",
      "2023-07-17 16:09:05> Updating protein_fdr.\n",
      "2023-07-17 16:09:05> Exporting as csv.\n",
      "2023-07-17 16:09:05> Saved df of length 4 saved to F:\\temp_test_run\\results\n"
     ]
    },
    {
     "name": "stderr",
     "output_type": "stream",
     "text": [
      "\r",
      "100%|████████████████████████████████████████████████████████████████████████████████████████████████████████████████████████████████████████████████████████| 1/1 [00:00<00:00, 10.66it/s]"
     ]
    },
    {
     "name": "stdout",
     "output_type": "stream",
     "text": [
      "2023-07-17 16:09:05> ==== export ====\n"
     ]
    },
    {
     "name": "stderr",
     "output_type": "stream",
     "text": [
      "\n"
     ]
    },
    {
     "name": "stdout",
     "output_type": "stream",
     "text": [
      "2023-07-17 16:09:06> Settings saved to F:\\temp_test_run\\results.yaml\n",
      "2023-07-17 16:09:06> Analysis complete.\n",
      "features centroid_tol 7.0\n",
      "2023-07-17 16:09:06> Logging to C:\\Users\\admin\\alphapept\\logs\\log_20230717160906.txt.\n",
      "2023-07-17 16:09:06> Code location f:\\projects\\alphapept\\alphapept\n",
      "2023-07-17 16:09:06> Python location C:\\ProgramData\\Miniconda3\\envs\\alphapept\\python.exe\n",
      "2023-07-17 16:09:06> Platform information:\n",
      "2023-07-17 16:09:06> system     - Windows\n",
      "2023-07-17 16:09:06> release    - 10\n",
      "2023-07-17 16:09:06> version    - 10.0.19044\n",
      "2023-07-17 16:09:06> machine    - AMD64\n",
      "2023-07-17 16:09:06> processor  - Intel64 Family 6 Model 85 Stepping 4, GenuineIntel\n",
      "2023-07-17 16:09:06> cpu count  - 24\n",
      "2023-07-17 16:09:06> ram memory - 111.9/127.7 Gb (available/total)\n",
      "2023-07-17 16:09:06> processor  - Intel64 Family 6 Model 85 Stepping 4, GenuineIntel\n",
      "2023-07-17 16:09:06> Python information:\n",
      "2023-07-17 16:09:06> SQLAlchemy                    - 1.4.39\n",
      "2023-07-17 16:09:06> alphapept                     - 0.5.0\n",
      "2023-07-17 16:09:06> alpharaw                      - 0.1.0\n",
      "2023-07-17 16:09:06> alphatims                     - 1.0.7\n",
      "2023-07-17 16:09:06> biopython                     - 1.79\n",
      "2023-07-17 16:09:06> bumpversion                   - 0.6.0\n",
      "2023-07-17 16:09:06> bumpversion>                  - \n",
      "2023-07-17 16:09:06> click                         - 8.1.3\n",
      "2023-07-17 16:09:06> click>                        - \n",
      "2023-07-17 16:09:06> fastcore                      - 1.5.29\n",
      "2023-07-17 16:09:06> h5py                          - 3.7.0\n",
      "2023-07-17 16:09:06> jupyter                       - 1.0.0\n",
      "2023-07-17 16:09:06> jupyter>                      - \n",
      "2023-07-17 16:09:06> jupyter_contrib_nbextensions  - \n",
      "2023-07-17 16:09:06> jupyter_contrib_nbextensions> - \n",
      "2023-07-17 16:09:06> matplotlib                    - 3.7.1\n",
      "2023-07-17 16:09:06> nbdev                         - 2.3.12\n",
      "2023-07-17 16:09:06> nbdev>                        - \n",
      "2023-07-17 16:09:06> networkx                      - 2.8.6\n",
      "2023-07-17 16:09:06> numba                         - 0.55.2\n",
      "2023-07-17 16:09:06> numpy                         - 1.20.3\n",
      "2023-07-17 16:09:06> pandas                        - 1.4.3\n",
      "2023-07-17 16:09:06> plotly_express                - 0.4.1\n",
      "2023-07-17 16:09:06> psutil                        - 5.9.0\n",
      "2023-07-17 16:09:06> pyinstaller                   - \n",
      "2023-07-17 16:09:06> pyteomics                     - 4.5.5\n",
      "2023-07-17 16:09:06> python                        - 3.8.16\n",
      "2023-07-17 16:09:06> pythonnet>                    - \n",
      "2023-07-17 16:09:06> pywin32>                      - \n",
      "2023-07-17 16:09:06> pyyaml                        - 6.0\n",
      "2023-07-17 16:09:06> scikit-learn                  - 1.1.2\n",
      "2023-07-17 16:09:06> scipy                         - 1.8.1\n",
      "2023-07-17 16:09:06> streamlit                     - 1.20.0\n",
      "2023-07-17 16:09:06> streamlit>                    - \n",
      "2023-07-17 16:09:06> tables                        - 3.6.1\n",
      "2023-07-17 16:09:06> tqdm                          - 4.64.0\n",
      "2023-07-17 16:09:06> twine                         - \n",
      "2023-07-17 16:09:06> twine>                        - \n",
      "2023-07-17 16:09:06> watchdog                      - 2.3.0\n",
      "2023-07-17 16:09:06> wget                          - 3.2\n",
      "2023-07-17 16:09:06> \n",
      "2023-07-17 16:09:06> Check for settings not completely implemented yet.\n",
      "2023-07-17 16:09:06> Size check:\n",
      "2023-07-17 16:09:06> Size of job (raw files) 0.07 Gb\n",
      "2023-07-17 16:09:06> Required disk space for F: - 0.07 Gb, Available 391.05 Gb OK.\n",
      "2023-07-17 16:09:06> \n",
      "2023-07-17 16:09:06> Workflow Settings:\n",
      "2023-07-17 16:09:06> align              - False\n",
      "2023-07-17 16:09:06> continue_runs      - False\n",
      "2023-07-17 16:09:06> create_database    - True\n",
      "2023-07-17 16:09:06> find_features      - True\n",
      "2023-07-17 16:09:06> import_raw_data    - True\n",
      "2023-07-17 16:09:06> lfq_quantification - True\n",
      "2023-07-17 16:09:06> match              - False\n",
      "2023-07-17 16:09:06> recalibrate_data   - True\n",
      "2023-07-17 16:09:06> search_data        - True\n",
      "2023-07-17 16:09:06> \n",
      "2023-07-17 16:09:06> Checking if files exist.\n",
      "2023-07-17 16:09:06> FASTA Files have a total size of 0.000 Mb\n",
      "2023-07-17 16:09:06> Results path was not set. Setting to F:\\temp_test_run\\results.hdf\n",
      "2023-07-17 16:09:06> Shortnames not set. Setting to filename.\n",
      "2023-07-17 16:09:06> Sample group not set. Setting to shortname.\n",
      "2023-07-17 16:09:06> Fraction not set. Setting to 1.\n",
      "2023-07-17 16:09:06> No database path set and save_db option checked. Using default path F:\\temp_test_run\\database.hdf\n",
      "2023-07-17 16:09:06> Deleted F:/temp_test_run/thermo_IRT.ms_data.hdf\n",
      "2023-07-17 16:09:06> Workflow has 11 steps\n",
      "2023-07-17 16:09:06> ==== create_database ====\n",
      "2023-07-17 16:09:06> Database path set and exists. Using F:\\temp_test_run\\database.hdf as database.\n",
      "2023-07-17 16:09:06> ==== import_raw_data ====\n"
     ]
    },
    {
     "name": "stderr",
     "output_type": "stream",
     "text": [
      "\r",
      "  0%|                                                                                                                                                                | 0/1 [00:00<?, ?it/s]"
     ]
    },
    {
     "name": "stdout",
     "output_type": "stream",
     "text": [
      "2023-07-17 16:09:06> Processing 1 files for step raw_conversion\n",
      "2023-07-17 16:09:06> File F:/temp_test_run/thermo_IRT has extension .raw - converting from Thermo.\n",
      "2023-07-17 16:09:10> File conversion complete. Extracted 2,603 precursors.\n",
      "2023-07-17 16:09:10> File conversion of file F:/temp_test_run/thermo_IRT.raw complete.\n"
     ]
    },
    {
     "name": "stderr",
     "output_type": "stream",
     "text": [
      "\r",
      "  0%|                                                                                                                                                                | 0/1 [00:03<?, ?it/s]"
     ]
    },
    {
     "name": "stdout",
     "output_type": "stream",
     "text": [
      "2023-07-17 16:09:10> ==== feature_finding ====\n"
     ]
    },
    {
     "name": "stderr",
     "output_type": "stream",
     "text": [
      "\n",
      "  0%|                                                                                                                                                                | 0/1 [00:00<?, ?it/s]"
     ]
    },
    {
     "name": "stdout",
     "output_type": "stream",
     "text": [
      "2023-07-17 16:09:10> Processing 1 files for step find_features\n",
      "2023-07-17 16:09:10> No *.hdf file with features found for F:/temp_test_run/thermo_IRT.ms_data.hdf. Adding to feature finding list.\n",
      "2023-07-17 16:09:10> Feature finding on F:/temp_test_run/thermo_IRT.raw\n",
      "2023-07-17 16:09:10> Hill extraction with centroid_tol 7 and max_gap 2\n",
      "2023-07-17 16:09:10> Number of hills 46,900, len = 20.43\n",
      "2023-07-17 16:09:10> Repeating hill extraction with centroid_tol 4.88\n",
      "2023-07-17 16:09:10> Number of hills 54,163, len = 21.57\n",
      "2023-07-17 16:09:10> After duplicate removal of hills 44,125\n",
      "2023-07-17 16:09:11> After split hill_ptrs 61,710\n",
      "2023-07-17 16:09:11> After filter hill_ptrs 60,197\n",
      "2023-07-17 16:09:17> Extracting hill stats complete\n",
      "2023-07-17 16:09:17> Found 6,999 pre isotope patterns.\n",
      "2023-07-17 16:09:18> Extracted 6,405 isotope patterns.\n",
      "2023-07-17 16:09:18> Report complete.\n",
      "2023-07-17 16:09:18> Matching features to query data.\n",
      "2023-07-17 16:09:18> Saving feature table.\n",
      "2023-07-17 16:09:18> Feature table saved to F:/temp_test_run/thermo_IRT.ms_data.hdf\n",
      "2023-07-17 16:09:18> Saving features.\n",
      "2023-07-17 16:09:18> Feature finding of file F:/temp_test_run/thermo_IRT.raw complete.\n"
     ]
    },
    {
     "name": "stderr",
     "output_type": "stream",
     "text": [
      "\r",
      "  0%|                                                                                                                                                                | 0/1 [00:08<?, ?it/s]"
     ]
    },
    {
     "name": "stdout",
     "output_type": "stream",
     "text": [
      "2023-07-17 16:09:18> ==== search_data ====\n"
     ]
    },
    {
     "name": "stderr",
     "output_type": "stream",
     "text": [
      "\n",
      "  0%|                                                                                                                                                                | 0/1 [00:00<?, ?it/s]"
     ]
    },
    {
     "name": "stdout",
     "output_type": "stream",
     "text": [
      "2023-07-17 16:09:18> Starting first search.\n",
      "2023-07-17 16:09:18> Processing 1 files for step search_db\n",
      "2023-07-17 16:09:18> Calibrating fragments\n",
      "2023-07-17 16:09:23> Performing search on 2,959 query and 5,045,760 db entries with frag_tol = 50.00 and prec_tol = 20.00.\n",
      "2023-07-17 16:09:23> Found 123 psms.\n",
      "2023-07-17 16:09:23> Extracting columns for scoring.\n",
      "2023-07-17 16:09:27> Extracted columns from 123 spectra.\n",
      "2023-07-17 16:09:27> Saving first_search results to F:/temp_test_run/thermo_IRT.ms_data.hdf\n",
      "2023-07-17 16:09:27> Search of file F:/temp_test_run/thermo_IRT.raw complete.\n",
      "2023-07-17 16:09:41> First search complete.\n"
     ]
    },
    {
     "name": "stderr",
     "output_type": "stream",
     "text": [
      "\r",
      "  0%|                                                                                                                                                                | 0/1 [00:22<?, ?it/s]"
     ]
    },
    {
     "name": "stdout",
     "output_type": "stream",
     "text": [
      "2023-07-17 16:09:41> ==== recalibrate_data ====\n"
     ]
    },
    {
     "name": "stderr",
     "output_type": "stream",
     "text": [
      "\n",
      "  0%|                                                                                                                                                                | 0/1 [00:00<?, ?it/s]"
     ]
    },
    {
     "name": "stdout",
     "output_type": "stream",
     "text": [
      "2023-07-17 16:09:41> Processing 1 files for step calibrate_hdf\n",
      "2023-07-17 16:09:41> Recalibrating file F:/temp_test_run/thermo_IRT.raw.\n",
      "2023-07-17 16:09:41> Scoring using generic score\n",
      "2023-07-17 16:09:41> 8 target (0 decoy) of 54 PSMs. FDR 0.000000 for a cutoff of 10.81 (set FDR was 0.01).\n",
      "2023-07-17 16:09:41> Precursor mass calibration for file F:/temp_test_run/thermo_IRT.raw.\n",
      "2023-07-17 16:09:41> Not enough data points present. Skipping recalibration.\n",
      "2023-07-17 16:09:41> Precursor calibration of file F:/temp_test_run/thermo_IRT.ms_data.hdf complete.\n",
      "2023-07-17 16:09:41> Starting fragment calibration.\n",
      "2023-07-17 16:09:41> Calibrating fragments with neighbors\n",
      "2023-07-17 16:09:41> Scoring using generic score\n",
      "2023-07-17 16:09:41> 8 target (0 decoy) of 54 PSMs. FDR 0.000000 for a cutoff of 10.81 (set FDR was 0.01).\n",
      "2023-07-17 16:09:41> Minimum hits for fragments before score 7.01.\n",
      "2023-07-17 16:09:41> Minimum hits for fragments after score 7.31.\n",
      "2023-07-17 16:09:41> Not enough datapoints 75 for fragment calibration. Minimum is set to 400. Skipping fragment calibration.\n",
      "2023-07-17 16:09:41> Fragment calibration of file F:/temp_test_run/thermo_IRT.ms_data.hdf complete.\n"
     ]
    },
    {
     "name": "stderr",
     "output_type": "stream",
     "text": [
      "\r",
      "  0%|                                                                                                                                                                | 0/1 [00:00<?, ?it/s]"
     ]
    },
    {
     "name": "stdout",
     "output_type": "stream",
     "text": [
      "2023-07-17 16:09:41> ==== search_data ====\n"
     ]
    },
    {
     "name": "stderr",
     "output_type": "stream",
     "text": [
      "\n",
      "  0%|                                                                                                                                                                | 0/1 [00:00<?, ?it/s]"
     ]
    },
    {
     "name": "stdout",
     "output_type": "stream",
     "text": [
      "2023-07-17 16:09:41> Starting second search with DB.\n",
      "2023-07-17 16:09:41> Processing 1 files for step search_db\n",
      "2023-07-17 16:09:41> Found calibrated prec_tol with value 8.21\n",
      "2023-07-17 16:09:41> 'Dataset estimated_max_fragment_ppm does not exist for group / of <HDF_File F:\\\\temp_test_run\\\\thermo_IRT.ms_data.hdf>.'\n",
      "2023-07-17 16:09:41> Performing search on 2,959 query and 5,045,760 db entries with frag_tol = 50.00 and prec_tol = 8.21.\n",
      "2023-07-17 16:09:41> Found 56 psms.\n",
      "2023-07-17 16:09:41> Extracting columns for scoring.\n",
      "2023-07-17 16:09:45> Extracted columns from 56 spectra.\n",
      "2023-07-17 16:09:45> Saving second_search results to F:/temp_test_run/thermo_IRT.ms_data.hdf\n",
      "2023-07-17 16:09:45> Search of file F:/temp_test_run/thermo_IRT.raw complete.\n",
      "2023-07-17 16:09:59> Second search complete.\n"
     ]
    },
    {
     "name": "stderr",
     "output_type": "stream",
     "text": [
      "\r",
      "  0%|                                                                                                                                                                | 0/1 [00:18<?, ?it/s]"
     ]
    },
    {
     "name": "stdout",
     "output_type": "stream",
     "text": [
      "2023-07-17 16:10:00> ==== score ====\n"
     ]
    },
    {
     "name": "stderr",
     "output_type": "stream",
     "text": [
      "\n",
      "  0%|                                                                                                                                                                | 0/1 [00:00<?, ?it/s]"
     ]
    },
    {
     "name": "stdout",
     "output_type": "stream",
     "text": [
      "2023-07-17 16:10:00> Processing 1 files for step score_hdf\n",
      "2023-07-17 16:10:00> Calling score_hdf\n",
      "2023-07-17 16:10:00> Found second search psms for scoring.\n",
      "2023-07-17 16:10:00> 8 target (0 decoy) of 31 PSMs. FDR 0.000000 for a cutoff of 10.81 (set FDR was 0.1).\n",
      "2023-07-17 16:10:00> ML failed. Defaulting to morpheus score\n",
      "2023-07-17 16:10:00> There are fewer high scoring targets or decoys than required by 'min_train'.\n",
      "2023-07-17 16:10:00> Converting morpheus score to probabilities\n",
      "2023-07-17 16:10:00> First q_value 0.789 of dataset is larger than fdr_level 0.010\n",
      "2023-07-17 16:10:00> 0 target (1 decoy) of 34 PSMs. FDR inf for a cutoff of 1.00 (set FDR was 0.01).\n",
      "2023-07-17 16:10:00> Saving identifications to ms_data file.\n",
      "2023-07-17 16:10:00> Saving identifications to ms_data file complete.\n",
      "2023-07-17 16:10:00> Saving identifications to csv file complete.\n",
      "2023-07-17 16:10:00> Filter df with custom score\n",
      "2023-07-17 16:10:00> Global FDR on precursor\n",
      "2023-07-17 16:10:00> First q_value 0.778 of dataset is larger than fdr_level 0.010\n",
      "2023-07-17 16:10:00> 0 target (1 decoy) of 32 PSMs. FDR inf for a cutoff of 1.00 (set FDR was 0.01).\n",
      "2023-07-17 16:10:00> Global FDR cutoff at 1.000.\n",
      "2023-07-17 16:10:00> FDR on peptides complete. For 0.01 FDR found 6 targets and 1 decoys.\n",
      "2023-07-17 16:10:00> Extracting fragment_ions\n",
      "2023-07-17 16:10:00> Extracting fragment_ions complete.\n",
      "2023-07-17 16:10:00> Exporting peptide_fdr on F:/temp_test_run/thermo_IRT.raw.\n",
      "2023-07-17 16:10:01> Scoring of files F:/temp_test_run/thermo_IRT.raw complete.\n"
     ]
    },
    {
     "name": "stderr",
     "output_type": "stream",
     "text": [
      "\r",
      "  0%|                                                                                                                                                                | 0/1 [00:00<?, ?it/s]"
     ]
    },
    {
     "name": "stdout",
     "output_type": "stream",
     "text": [
      "2023-07-17 16:10:01> ==== isobaric_labeling ====\n",
      "2023-07-17 16:10:01> ==== protein_grouping ====\n"
     ]
    },
    {
     "name": "stderr",
     "output_type": "stream",
     "text": [
      "\n",
      "  0%|                                                                                                                                                                | 0/1 [00:00<?, ?it/s]"
     ]
    },
    {
     "name": "stdout",
     "output_type": "stream",
     "text": [
      "2023-07-17 16:10:01> Fasta dict with length 20,365, Pept dict with length 5,045,764\n",
      "2023-07-17 16:10:01> Extracting protein groups.\n"
     ]
    },
    {
     "name": "stderr",
     "output_type": "stream",
     "text": [
      "\n",
      "  0%|                                                                                                                                                                | 0/1 [00:00<?, ?it/s]\u001b[A"
     ]
    },
    {
     "name": "stdout",
     "output_type": "stream",
     "text": [
      "2023-07-17 16:10:01> A total of 6 unique and 0 shared peptides.\n",
      "2023-07-17 16:10:01> A total of 0 ambigious proteins\n",
      "2023-07-17 16:10:01> A total of 1 unique and 0 shared peptides.\n",
      "2023-07-17 16:10:01> A total of 0 ambigious proteins\n",
      "2023-07-17 16:10:01> Global FDR on protein_group\n",
      "2023-07-17 16:10:01> First q_value 0.250 of dataset is larger than fdr_level 0.010\n",
      "2023-07-17 16:10:01> 0 target (1 decoy) of 5 PSMs. FDR inf for a cutoff of 1.00 (set FDR was 0.01).\n",
      "2023-07-17 16:10:01> Global FDR cutoff at 1.000.\n",
      "2023-07-17 16:10:01> FDR on proteins complete. For 0.01 FDR found 6 targets and 1 decoys. A total of 5 proteins found.\n",
      "2023-07-17 16:10:01> Saving complete.\n",
      "2023-07-17 16:10:01> Protein groups complete.\n"
     ]
    },
    {
     "name": "stderr",
     "output_type": "stream",
     "text": [
      "\n",
      "\r",
      "  0%|                                                                                                                                                                | 0/1 [00:00<?, ?it/s]"
     ]
    },
    {
     "name": "stdout",
     "output_type": "stream",
     "text": [
      "2023-07-17 16:10:01> ==== quantification ====\n",
      "2023-07-17 16:10:01> Reading protein_fdr for quantification.\n"
     ]
    },
    {
     "name": "stderr",
     "output_type": "stream",
     "text": [
      "\n"
     ]
    },
    {
     "name": "stdout",
     "output_type": "stream",
     "text": [
      "2023-07-17 16:10:01> Saving protein_groups after delayed normalization to combined_protein_fdr_dn\n",
      "2023-07-17 16:10:01> Complete.\n",
      "2023-07-17 16:10:01> Starting profile extraction.\n"
     ]
    },
    {
     "name": "stderr",
     "output_type": "stream",
     "text": [
      "\r",
      "  0%|                                                                                                                                                                | 0/1 [00:00<?, ?it/s]"
     ]
    },
    {
     "name": "stdout",
     "output_type": "stream",
     "text": [
      "2023-07-17 16:10:01> LFQ complete.\n",
      "2023-07-17 16:10:01> Extracting protein_summary\n",
      "2023-07-17 16:10:01> Saved protein_summary of length 5 saved to F:\\temp_test_run\\results_protein_summary.csv\n",
      "2023-07-17 16:10:01> Updating protein_fdr.\n",
      "2023-07-17 16:10:01> Exporting as csv.\n",
      "2023-07-17 16:10:01> Saved df of length 7 saved to F:\\temp_test_run\\results\n"
     ]
    },
    {
     "name": "stderr",
     "output_type": "stream",
     "text": [
      "\r",
      "100%|████████████████████████████████████████████████████████████████████████████████████████████████████████████████████████████████████████████████████████| 1/1 [00:00<00:00, 11.80it/s]"
     ]
    },
    {
     "name": "stdout",
     "output_type": "stream",
     "text": [
      "2023-07-17 16:10:01> ==== export ====\n"
     ]
    },
    {
     "name": "stderr",
     "output_type": "stream",
     "text": [
      "\n"
     ]
    },
    {
     "name": "stdout",
     "output_type": "stream",
     "text": [
      "2023-07-17 16:10:01> Settings saved to F:\\temp_test_run\\results.yaml\n",
      "2023-07-17 16:10:01> Analysis complete.\n",
      "features centroid_tol 13.0\n",
      "2023-07-17 16:10:01> Logging to C:\\Users\\admin\\alphapept\\logs\\log_20230717161001.txt.\n",
      "2023-07-17 16:10:01> Code location f:\\projects\\alphapept\\alphapept\n",
      "2023-07-17 16:10:01> Python location C:\\ProgramData\\Miniconda3\\envs\\alphapept\\python.exe\n",
      "2023-07-17 16:10:01> Platform information:\n",
      "2023-07-17 16:10:01> system     - Windows\n",
      "2023-07-17 16:10:01> release    - 10\n",
      "2023-07-17 16:10:01> version    - 10.0.19044\n",
      "2023-07-17 16:10:01> machine    - AMD64\n",
      "2023-07-17 16:10:01> processor  - Intel64 Family 6 Model 85 Stepping 4, GenuineIntel\n",
      "2023-07-17 16:10:01> cpu count  - 24\n",
      "2023-07-17 16:10:01> ram memory - 111.7/127.7 Gb (available/total)\n",
      "2023-07-17 16:10:01> processor  - Intel64 Family 6 Model 85 Stepping 4, GenuineIntel\n",
      "2023-07-17 16:10:02> Python information:\n",
      "2023-07-17 16:10:02> SQLAlchemy                    - 1.4.39\n",
      "2023-07-17 16:10:02> alphapept                     - 0.5.0\n",
      "2023-07-17 16:10:02> alpharaw                      - 0.1.0\n",
      "2023-07-17 16:10:02> alphatims                     - 1.0.7\n",
      "2023-07-17 16:10:02> biopython                     - 1.79\n",
      "2023-07-17 16:10:02> bumpversion                   - 0.6.0\n",
      "2023-07-17 16:10:02> bumpversion>                  - \n",
      "2023-07-17 16:10:02> click                         - 8.1.3\n",
      "2023-07-17 16:10:02> click>                        - \n",
      "2023-07-17 16:10:02> fastcore                      - 1.5.29\n",
      "2023-07-17 16:10:02> h5py                          - 3.7.0\n",
      "2023-07-17 16:10:02> jupyter                       - 1.0.0\n",
      "2023-07-17 16:10:02> jupyter>                      - \n",
      "2023-07-17 16:10:02> jupyter_contrib_nbextensions  - \n",
      "2023-07-17 16:10:02> jupyter_contrib_nbextensions> - \n",
      "2023-07-17 16:10:02> matplotlib                    - 3.7.1\n",
      "2023-07-17 16:10:02> nbdev                         - 2.3.12\n",
      "2023-07-17 16:10:02> nbdev>                        - \n",
      "2023-07-17 16:10:02> networkx                      - 2.8.6\n",
      "2023-07-17 16:10:02> numba                         - 0.55.2\n",
      "2023-07-17 16:10:02> numpy                         - 1.20.3\n",
      "2023-07-17 16:10:02> pandas                        - 1.4.3\n",
      "2023-07-17 16:10:02> plotly_express                - 0.4.1\n",
      "2023-07-17 16:10:02> psutil                        - 5.9.0\n",
      "2023-07-17 16:10:02> pyinstaller                   - \n",
      "2023-07-17 16:10:02> pyteomics                     - 4.5.5\n",
      "2023-07-17 16:10:02> python                        - 3.8.16\n",
      "2023-07-17 16:10:02> pythonnet>                    - \n",
      "2023-07-17 16:10:02> pywin32>                      - \n",
      "2023-07-17 16:10:02> pyyaml                        - 6.0\n",
      "2023-07-17 16:10:02> scikit-learn                  - 1.1.2\n",
      "2023-07-17 16:10:02> scipy                         - 1.8.1\n",
      "2023-07-17 16:10:02> streamlit                     - 1.20.0\n",
      "2023-07-17 16:10:02> streamlit>                    - \n",
      "2023-07-17 16:10:02> tables                        - 3.6.1\n",
      "2023-07-17 16:10:02> tqdm                          - 4.64.0\n",
      "2023-07-17 16:10:02> twine                         - \n",
      "2023-07-17 16:10:02> twine>                        - \n",
      "2023-07-17 16:10:02> watchdog                      - 2.3.0\n",
      "2023-07-17 16:10:02> wget                          - 3.2\n",
      "2023-07-17 16:10:02> \n",
      "2023-07-17 16:10:02> Check for settings not completely implemented yet.\n",
      "2023-07-17 16:10:02> Size check:\n",
      "2023-07-17 16:10:02> Size of job (raw files) 0.07 Gb\n",
      "2023-07-17 16:10:02> Required disk space for F: - 0.07 Gb, Available 391.05 Gb OK.\n",
      "2023-07-17 16:10:02> \n",
      "2023-07-17 16:10:02> Workflow Settings:\n",
      "2023-07-17 16:10:02> align              - False\n",
      "2023-07-17 16:10:02> continue_runs      - False\n",
      "2023-07-17 16:10:02> create_database    - True\n",
      "2023-07-17 16:10:02> find_features      - True\n",
      "2023-07-17 16:10:02> import_raw_data    - True\n",
      "2023-07-17 16:10:02> lfq_quantification - True\n",
      "2023-07-17 16:10:02> match              - False\n",
      "2023-07-17 16:10:02> recalibrate_data   - True\n",
      "2023-07-17 16:10:02> search_data        - True\n",
      "2023-07-17 16:10:02> \n",
      "2023-07-17 16:10:02> Checking if files exist.\n",
      "2023-07-17 16:10:02> FASTA Files have a total size of 0.000 Mb\n",
      "2023-07-17 16:10:02> Results path was not set. Setting to F:\\temp_test_run\\results.hdf\n",
      "2023-07-17 16:10:02> Shortnames not set. Setting to filename.\n",
      "2023-07-17 16:10:02> Sample group not set. Setting to shortname.\n",
      "2023-07-17 16:10:02> Fraction not set. Setting to 1.\n",
      "2023-07-17 16:10:02> No database path set and save_db option checked. Using default path F:\\temp_test_run\\database.hdf\n",
      "2023-07-17 16:10:02> Deleted F:/temp_test_run/thermo_IRT.ms_data.hdf\n",
      "2023-07-17 16:10:02> Workflow has 11 steps\n",
      "2023-07-17 16:10:02> ==== create_database ====\n",
      "2023-07-17 16:10:02> Database path set and exists. Using F:\\temp_test_run\\database.hdf as database.\n",
      "2023-07-17 16:10:02> ==== import_raw_data ====\n"
     ]
    },
    {
     "name": "stderr",
     "output_type": "stream",
     "text": [
      "\r",
      "  0%|                                                                                                                                                                | 0/1 [00:00<?, ?it/s]"
     ]
    },
    {
     "name": "stdout",
     "output_type": "stream",
     "text": [
      "2023-07-17 16:10:02> Processing 1 files for step raw_conversion\n",
      "2023-07-17 16:10:02> File F:/temp_test_run/thermo_IRT has extension .raw - converting from Thermo.\n",
      "2023-07-17 16:10:05> File conversion complete. Extracted 2,603 precursors.\n",
      "2023-07-17 16:10:05> File conversion of file F:/temp_test_run/thermo_IRT.raw complete.\n"
     ]
    },
    {
     "name": "stderr",
     "output_type": "stream",
     "text": [
      "\r",
      "  0%|                                                                                                                                                                | 0/1 [00:03<?, ?it/s]"
     ]
    },
    {
     "name": "stdout",
     "output_type": "stream",
     "text": [
      "2023-07-17 16:10:05> ==== feature_finding ====\n"
     ]
    },
    {
     "name": "stderr",
     "output_type": "stream",
     "text": [
      "\n",
      "  0%|                                                                                                                                                                | 0/1 [00:00<?, ?it/s]"
     ]
    },
    {
     "name": "stdout",
     "output_type": "stream",
     "text": [
      "2023-07-17 16:10:05> Processing 1 files for step find_features\n",
      "2023-07-17 16:10:05> No *.hdf file with features found for F:/temp_test_run/thermo_IRT.ms_data.hdf. Adding to feature finding list.\n",
      "2023-07-17 16:10:05> Feature finding on F:/temp_test_run/thermo_IRT.raw\n",
      "2023-07-17 16:10:05> Hill extraction with centroid_tol 13 and max_gap 2\n",
      "2023-07-17 16:10:05> Number of hills 43,539, len = 20.02\n",
      "2023-07-17 16:10:05> Repeating hill extraction with centroid_tol 5.76\n",
      "2023-07-17 16:10:06> Number of hills 50,081, len = 20.92\n",
      "2023-07-17 16:10:06> After duplicate removal of hills 43,612\n",
      "2023-07-17 16:10:06> After split hill_ptrs 61,765\n",
      "2023-07-17 16:10:06> After filter hill_ptrs 60,228\n",
      "2023-07-17 16:10:12> Extracting hill stats complete\n",
      "2023-07-17 16:10:12> Found 7,120 pre isotope patterns.\n",
      "2023-07-17 16:10:13> Extracted 6,507 isotope patterns.\n",
      "2023-07-17 16:10:13> Report complete.\n",
      "2023-07-17 16:10:13> Matching features to query data.\n",
      "2023-07-17 16:10:13> Saving feature table.\n",
      "2023-07-17 16:10:13> Feature table saved to F:/temp_test_run/thermo_IRT.ms_data.hdf\n",
      "2023-07-17 16:10:13> Saving features.\n",
      "2023-07-17 16:10:13> Feature finding of file F:/temp_test_run/thermo_IRT.raw complete.\n"
     ]
    },
    {
     "name": "stderr",
     "output_type": "stream",
     "text": [
      "\r",
      "  0%|                                                                                                                                                                | 0/1 [00:08<?, ?it/s]"
     ]
    },
    {
     "name": "stdout",
     "output_type": "stream",
     "text": [
      "2023-07-17 16:10:13> ==== search_data ====\n"
     ]
    },
    {
     "name": "stderr",
     "output_type": "stream",
     "text": [
      "\n",
      "  0%|                                                                                                                                                                | 0/1 [00:00<?, ?it/s]"
     ]
    },
    {
     "name": "stdout",
     "output_type": "stream",
     "text": [
      "2023-07-17 16:10:13> Starting first search.\n",
      "2023-07-17 16:10:13> Processing 1 files for step search_db\n",
      "2023-07-17 16:10:13> Calibrating fragments\n",
      "2023-07-17 16:10:18> Performing search on 3,022 query and 5,045,760 db entries with frag_tol = 50.00 and prec_tol = 20.00.\n",
      "2023-07-17 16:10:18> Found 109 psms.\n",
      "2023-07-17 16:10:18> Extracting columns for scoring.\n",
      "2023-07-17 16:10:22> Extracted columns from 109 spectra.\n",
      "2023-07-17 16:10:22> Saving first_search results to F:/temp_test_run/thermo_IRT.ms_data.hdf\n",
      "2023-07-17 16:10:22> Search of file F:/temp_test_run/thermo_IRT.raw complete.\n",
      "2023-07-17 16:10:37> First search complete.\n"
     ]
    },
    {
     "name": "stderr",
     "output_type": "stream",
     "text": [
      "\r",
      "  0%|                                                                                                                                                                | 0/1 [00:23<?, ?it/s]"
     ]
    },
    {
     "name": "stdout",
     "output_type": "stream",
     "text": [
      "2023-07-17 16:10:37> ==== recalibrate_data ====\n"
     ]
    },
    {
     "name": "stderr",
     "output_type": "stream",
     "text": [
      "\n",
      "  0%|                                                                                                                                                                | 0/1 [00:00<?, ?it/s]"
     ]
    },
    {
     "name": "stdout",
     "output_type": "stream",
     "text": [
      "2023-07-17 16:10:37> Processing 1 files for step calibrate_hdf\n",
      "2023-07-17 16:10:37> Recalibrating file F:/temp_test_run/thermo_IRT.raw.\n",
      "2023-07-17 16:10:37> Scoring using generic score\n",
      "2023-07-17 16:10:37> 8 target (0 decoy) of 54 PSMs. FDR 0.000000 for a cutoff of 10.81 (set FDR was 0.01).\n",
      "2023-07-17 16:10:37> Precursor mass calibration for file F:/temp_test_run/thermo_IRT.raw.\n",
      "2023-07-17 16:10:37> Not enough data points present. Skipping recalibration.\n",
      "2023-07-17 16:10:37> Precursor calibration of file F:/temp_test_run/thermo_IRT.ms_data.hdf complete.\n",
      "2023-07-17 16:10:37> Starting fragment calibration.\n",
      "2023-07-17 16:10:37> Calibrating fragments with neighbors\n",
      "2023-07-17 16:10:37> Scoring using generic score\n",
      "2023-07-17 16:10:37> 8 target (0 decoy) of 54 PSMs. FDR 0.000000 for a cutoff of 10.81 (set FDR was 0.01).\n",
      "2023-07-17 16:10:37> Minimum hits for fragments before score 7.01.\n",
      "2023-07-17 16:10:37> Minimum hits for fragments after score 7.31.\n",
      "2023-07-17 16:10:37> Not enough datapoints 75 for fragment calibration. Minimum is set to 400. Skipping fragment calibration.\n",
      "2023-07-17 16:10:37> Fragment calibration of file F:/temp_test_run/thermo_IRT.ms_data.hdf complete.\n"
     ]
    },
    {
     "name": "stderr",
     "output_type": "stream",
     "text": [
      "\r",
      "  0%|                                                                                                                                                                | 0/1 [00:00<?, ?it/s]"
     ]
    },
    {
     "name": "stdout",
     "output_type": "stream",
     "text": [
      "2023-07-17 16:10:37> ==== search_data ====\n"
     ]
    },
    {
     "name": "stderr",
     "output_type": "stream",
     "text": [
      "\n",
      "  0%|                                                                                                                                                                | 0/1 [00:00<?, ?it/s]"
     ]
    },
    {
     "name": "stdout",
     "output_type": "stream",
     "text": [
      "2023-07-17 16:10:37> Starting second search with DB.\n",
      "2023-07-17 16:10:37> Processing 1 files for step search_db\n",
      "2023-07-17 16:10:37> Found calibrated prec_tol with value 8.19\n",
      "2023-07-17 16:10:37> 'Dataset estimated_max_fragment_ppm does not exist for group / of <HDF_File F:\\\\temp_test_run\\\\thermo_IRT.ms_data.hdf>.'\n",
      "2023-07-17 16:10:38> Performing search on 3,022 query and 5,045,760 db entries with frag_tol = 50.00 and prec_tol = 8.19.\n",
      "2023-07-17 16:10:38> Found 46 psms.\n",
      "2023-07-17 16:10:38> Extracting columns for scoring.\n",
      "2023-07-17 16:10:41> Extracted columns from 46 spectra.\n",
      "2023-07-17 16:10:41> Saving second_search results to F:/temp_test_run/thermo_IRT.ms_data.hdf\n",
      "2023-07-17 16:10:41> Search of file F:/temp_test_run/thermo_IRT.raw complete.\n",
      "2023-07-17 16:10:56> Second search complete.\n"
     ]
    },
    {
     "name": "stderr",
     "output_type": "stream",
     "text": [
      "\r",
      "  0%|                                                                                                                                                                | 0/1 [00:18<?, ?it/s]"
     ]
    },
    {
     "name": "stdout",
     "output_type": "stream",
     "text": [
      "2023-07-17 16:10:56> ==== score ====\n"
     ]
    },
    {
     "name": "stderr",
     "output_type": "stream",
     "text": [
      "\n",
      "  0%|                                                                                                                                                                | 0/1 [00:00<?, ?it/s]"
     ]
    },
    {
     "name": "stdout",
     "output_type": "stream",
     "text": [
      "2023-07-17 16:10:56> Processing 1 files for step score_hdf\n",
      "2023-07-17 16:10:56> Calling score_hdf\n",
      "2023-07-17 16:10:56> Found second search psms for scoring.\n",
      "2023-07-17 16:10:56> 8 target (0 decoy) of 30 PSMs. FDR 0.000000 for a cutoff of 10.81 (set FDR was 0.1).\n",
      "2023-07-17 16:10:56> ML failed. Defaulting to morpheus score\n",
      "2023-07-17 16:10:56> There are fewer high scoring targets or decoys than required by 'min_train'.\n",
      "2023-07-17 16:10:56> Converting morpheus score to probabilities\n",
      "2023-07-17 16:10:56> First q_value 0.938 of dataset is larger than fdr_level 0.010\n",
      "2023-07-17 16:10:56> 0 target (1 decoy) of 31 PSMs. FDR inf for a cutoff of 1.00 (set FDR was 0.01).\n",
      "2023-07-17 16:10:56> Saving identifications to ms_data file.\n",
      "2023-07-17 16:10:56> Saving identifications to ms_data file complete.\n",
      "2023-07-17 16:10:56> Saving identifications to csv file complete.\n",
      "2023-07-17 16:10:56> Filter df with custom score\n",
      "2023-07-17 16:10:56> Global FDR on precursor\n",
      "2023-07-17 16:10:56> First q_value 0.875 of dataset is larger than fdr_level 0.010\n",
      "2023-07-17 16:10:56> 0 target (1 decoy) of 30 PSMs. FDR inf for a cutoff of 1.00 (set FDR was 0.01).\n",
      "2023-07-17 16:10:56> Global FDR cutoff at 1.000.\n",
      "2023-07-17 16:10:56> FDR on peptides complete. For 0.01 FDR found 5 targets and 1 decoys.\n",
      "2023-07-17 16:10:56> Extracting fragment_ions\n",
      "2023-07-17 16:10:56> Extracting fragment_ions complete.\n",
      "2023-07-17 16:10:56> Exporting peptide_fdr on F:/temp_test_run/thermo_IRT.raw.\n",
      "2023-07-17 16:10:57> Scoring of files F:/temp_test_run/thermo_IRT.raw complete.\n"
     ]
    },
    {
     "name": "stderr",
     "output_type": "stream",
     "text": [
      "\r",
      "  0%|                                                                                                                                                                | 0/1 [00:00<?, ?it/s]"
     ]
    },
    {
     "name": "stdout",
     "output_type": "stream",
     "text": [
      "2023-07-17 16:10:57> ==== isobaric_labeling ====\n",
      "2023-07-17 16:10:57> ==== protein_grouping ====\n"
     ]
    },
    {
     "name": "stderr",
     "output_type": "stream",
     "text": [
      "\n",
      "  0%|                                                                                                                                                                | 0/1 [00:00<?, ?it/s]"
     ]
    },
    {
     "name": "stdout",
     "output_type": "stream",
     "text": [
      "2023-07-17 16:10:57> Fasta dict with length 20,365, Pept dict with length 5,045,764\n",
      "2023-07-17 16:10:57> Extracting protein groups.\n"
     ]
    },
    {
     "name": "stderr",
     "output_type": "stream",
     "text": [
      "\n",
      "  0%|                                                                                                                                                                | 0/1 [00:00<?, ?it/s]\u001b[A"
     ]
    },
    {
     "name": "stdout",
     "output_type": "stream",
     "text": [
      "2023-07-17 16:10:57> A total of 5 unique and 0 shared peptides.\n",
      "2023-07-17 16:10:57> A total of 0 ambigious proteins\n",
      "2023-07-17 16:10:57> A total of 1 unique and 0 shared peptides.\n",
      "2023-07-17 16:10:57> A total of 0 ambigious proteins\n",
      "2023-07-17 16:10:57> Global FDR on protein_group\n",
      "2023-07-17 16:10:57> First q_value 0.333 of dataset is larger than fdr_level 0.010\n",
      "2023-07-17 16:10:57> 0 target (1 decoy) of 4 PSMs. FDR inf for a cutoff of 1.00 (set FDR was 0.01).\n",
      "2023-07-17 16:10:57> Global FDR cutoff at 1.000.\n",
      "2023-07-17 16:10:57> FDR on proteins complete. For 0.01 FDR found 5 targets and 1 decoys. A total of 4 proteins found.\n"
     ]
    },
    {
     "name": "stderr",
     "output_type": "stream",
     "text": [
      "\n"
     ]
    },
    {
     "name": "stdout",
     "output_type": "stream",
     "text": [
      "2023-07-17 16:10:57> Saving complete.\n",
      "2023-07-17 16:10:57> Protein groups complete.\n"
     ]
    },
    {
     "name": "stderr",
     "output_type": "stream",
     "text": [
      "\r",
      "  0%|                                                                                                                                                                | 0/1 [00:00<?, ?it/s]"
     ]
    },
    {
     "name": "stdout",
     "output_type": "stream",
     "text": [
      "2023-07-17 16:10:57> ==== quantification ====\n",
      "2023-07-17 16:10:57> Reading protein_fdr for quantification.\n",
      "2023-07-17 16:10:57> Saving protein_groups after delayed normalization to combined_protein_fdr_dn\n",
      "2023-07-17 16:10:57> Complete.\n",
      "2023-07-17 16:10:57> Starting profile extraction.\n"
     ]
    },
    {
     "name": "stderr",
     "output_type": "stream",
     "text": [
      "\n",
      "  0%|                                                                                                                                                                | 0/1 [00:00<?, ?it/s]"
     ]
    },
    {
     "name": "stdout",
     "output_type": "stream",
     "text": [
      "2023-07-17 16:10:57> LFQ complete.\n",
      "2023-07-17 16:10:57> Extracting protein_summary\n",
      "2023-07-17 16:10:57> Saved protein_summary of length 4 saved to F:\\temp_test_run\\results_protein_summary.csv\n",
      "2023-07-17 16:10:57> Updating protein_fdr.\n",
      "2023-07-17 16:10:57> Exporting as csv.\n",
      "2023-07-17 16:10:57> Saved df of length 6 saved to F:\\temp_test_run\\results\n"
     ]
    },
    {
     "name": "stderr",
     "output_type": "stream",
     "text": [
      "\r",
      "100%|████████████████████████████████████████████████████████████████████████████████████████████████████████████████████████████████████████████████████████| 1/1 [00:00<00:00,  9.14it/s]"
     ]
    },
    {
     "name": "stdout",
     "output_type": "stream",
     "text": [
      "2023-07-17 16:10:57> ==== export ====\n"
     ]
    },
    {
     "name": "stderr",
     "output_type": "stream",
     "text": [
      "\n"
     ]
    },
    {
     "name": "stdout",
     "output_type": "stream",
     "text": [
      "2023-07-17 16:10:57> Settings saved to F:\\temp_test_run\\results.yaml\n",
      "2023-07-17 16:10:57> Analysis complete.\n",
      "features centroid_tol 19.0\n",
      "2023-07-17 16:10:58> Logging to C:\\Users\\admin\\alphapept\\logs\\log_20230717161058.txt.\n",
      "2023-07-17 16:10:58> Code location f:\\projects\\alphapept\\alphapept\n",
      "2023-07-17 16:10:58> Python location C:\\ProgramData\\Miniconda3\\envs\\alphapept\\python.exe\n",
      "2023-07-17 16:10:58> Platform information:\n",
      "2023-07-17 16:10:58> system     - Windows\n",
      "2023-07-17 16:10:58> release    - 10\n",
      "2023-07-17 16:10:58> version    - 10.0.19044\n",
      "2023-07-17 16:10:58> machine    - AMD64\n",
      "2023-07-17 16:10:58> processor  - Intel64 Family 6 Model 85 Stepping 4, GenuineIntel\n",
      "2023-07-17 16:10:58> cpu count  - 24\n",
      "2023-07-17 16:10:58> ram memory - 111.7/127.7 Gb (available/total)\n",
      "2023-07-17 16:10:58> processor  - Intel64 Family 6 Model 85 Stepping 4, GenuineIntel\n",
      "2023-07-17 16:10:58> Python information:\n",
      "2023-07-17 16:10:58> SQLAlchemy                    - 1.4.39\n",
      "2023-07-17 16:10:58> alphapept                     - 0.5.0\n",
      "2023-07-17 16:10:58> alpharaw                      - 0.1.0\n",
      "2023-07-17 16:10:58> alphatims                     - 1.0.7\n",
      "2023-07-17 16:10:58> biopython                     - 1.79\n",
      "2023-07-17 16:10:58> bumpversion                   - 0.6.0\n",
      "2023-07-17 16:10:58> bumpversion>                  - \n",
      "2023-07-17 16:10:58> click                         - 8.1.3\n",
      "2023-07-17 16:10:58> click>                        - \n",
      "2023-07-17 16:10:58> fastcore                      - 1.5.29\n",
      "2023-07-17 16:10:58> h5py                          - 3.7.0\n",
      "2023-07-17 16:10:58> jupyter                       - 1.0.0\n",
      "2023-07-17 16:10:58> jupyter>                      - \n",
      "2023-07-17 16:10:58> jupyter_contrib_nbextensions  - \n",
      "2023-07-17 16:10:58> jupyter_contrib_nbextensions> - \n",
      "2023-07-17 16:10:58> matplotlib                    - 3.7.1\n",
      "2023-07-17 16:10:58> nbdev                         - 2.3.12\n",
      "2023-07-17 16:10:58> nbdev>                        - \n",
      "2023-07-17 16:10:58> networkx                      - 2.8.6\n",
      "2023-07-17 16:10:58> numba                         - 0.55.2\n",
      "2023-07-17 16:10:58> numpy                         - 1.20.3\n",
      "2023-07-17 16:10:58> pandas                        - 1.4.3\n",
      "2023-07-17 16:10:58> plotly_express                - 0.4.1\n",
      "2023-07-17 16:10:58> psutil                        - 5.9.0\n",
      "2023-07-17 16:10:58> pyinstaller                   - \n",
      "2023-07-17 16:10:58> pyteomics                     - 4.5.5\n",
      "2023-07-17 16:10:58> python                        - 3.8.16\n",
      "2023-07-17 16:10:58> pythonnet>                    - \n",
      "2023-07-17 16:10:58> pywin32>                      - \n",
      "2023-07-17 16:10:58> pyyaml                        - 6.0\n",
      "2023-07-17 16:10:58> scikit-learn                  - 1.1.2\n",
      "2023-07-17 16:10:58> scipy                         - 1.8.1\n",
      "2023-07-17 16:10:58> streamlit                     - 1.20.0\n",
      "2023-07-17 16:10:58> streamlit>                    - \n",
      "2023-07-17 16:10:58> tables                        - 3.6.1\n",
      "2023-07-17 16:10:58> tqdm                          - 4.64.0\n",
      "2023-07-17 16:10:58> twine                         - \n",
      "2023-07-17 16:10:58> twine>                        - \n",
      "2023-07-17 16:10:58> watchdog                      - 2.3.0\n",
      "2023-07-17 16:10:58> wget                          - 3.2\n",
      "2023-07-17 16:10:58> \n",
      "2023-07-17 16:10:58> Check for settings not completely implemented yet.\n",
      "2023-07-17 16:10:58> Size check:\n",
      "2023-07-17 16:10:58> Size of job (raw files) 0.07 Gb\n",
      "2023-07-17 16:10:58> Required disk space for F: - 0.07 Gb, Available 391.04 Gb OK.\n",
      "2023-07-17 16:10:58> \n",
      "2023-07-17 16:10:58> Workflow Settings:\n",
      "2023-07-17 16:10:58> align              - False\n",
      "2023-07-17 16:10:58> continue_runs      - False\n",
      "2023-07-17 16:10:58> create_database    - True\n",
      "2023-07-17 16:10:58> find_features      - True\n",
      "2023-07-17 16:10:58> import_raw_data    - True\n",
      "2023-07-17 16:10:58> lfq_quantification - True\n",
      "2023-07-17 16:10:58> match              - False\n",
      "2023-07-17 16:10:58> recalibrate_data   - True\n",
      "2023-07-17 16:10:58> search_data        - True\n",
      "2023-07-17 16:10:58> \n",
      "2023-07-17 16:10:58> Checking if files exist.\n",
      "2023-07-17 16:10:58> FASTA Files have a total size of 0.000 Mb\n",
      "2023-07-17 16:10:58> Results path was not set. Setting to F:\\temp_test_run\\results.hdf\n",
      "2023-07-17 16:10:58> Shortnames not set. Setting to filename.\n",
      "2023-07-17 16:10:58> Sample group not set. Setting to shortname.\n",
      "2023-07-17 16:10:58> Fraction not set. Setting to 1.\n",
      "2023-07-17 16:10:58> No database path set and save_db option checked. Using default path F:\\temp_test_run\\database.hdf\n",
      "2023-07-17 16:10:58> Deleted F:/temp_test_run/thermo_IRT.ms_data.hdf\n",
      "2023-07-17 16:10:58> Workflow has 11 steps\n",
      "2023-07-17 16:10:58> ==== create_database ====\n",
      "2023-07-17 16:10:58> Database path set and exists. Using F:\\temp_test_run\\database.hdf as database.\n",
      "2023-07-17 16:10:58> ==== import_raw_data ====\n"
     ]
    },
    {
     "name": "stderr",
     "output_type": "stream",
     "text": [
      "\r",
      "  0%|                                                                                                                                                                | 0/1 [00:00<?, ?it/s]"
     ]
    },
    {
     "name": "stdout",
     "output_type": "stream",
     "text": [
      "2023-07-17 16:10:58> Processing 1 files for step raw_conversion\n",
      "2023-07-17 16:10:58> File F:/temp_test_run/thermo_IRT has extension .raw - converting from Thermo.\n",
      "2023-07-17 16:11:01> File conversion complete. Extracted 2,603 precursors.\n",
      "2023-07-17 16:11:01> File conversion of file F:/temp_test_run/thermo_IRT.raw complete.\n"
     ]
    },
    {
     "name": "stderr",
     "output_type": "stream",
     "text": [
      "\r",
      "  0%|                                                                                                                                                                | 0/1 [00:03<?, ?it/s]"
     ]
    },
    {
     "name": "stdout",
     "output_type": "stream",
     "text": [
      "2023-07-17 16:11:01> ==== feature_finding ====\n"
     ]
    },
    {
     "name": "stderr",
     "output_type": "stream",
     "text": [
      "\n",
      "  0%|                                                                                                                                                                | 0/1 [00:00<?, ?it/s]"
     ]
    },
    {
     "name": "stdout",
     "output_type": "stream",
     "text": [
      "2023-07-17 16:11:01> Processing 1 files for step find_features\n",
      "2023-07-17 16:11:01> No *.hdf file with features found for F:/temp_test_run/thermo_IRT.ms_data.hdf. Adding to feature finding list.\n",
      "2023-07-17 16:11:01> Feature finding on F:/temp_test_run/thermo_IRT.raw\n",
      "2023-07-17 16:11:01> Hill extraction with centroid_tol 19 and max_gap 2\n",
      "2023-07-17 16:11:02> Number of hills 43,293, len = 20.15\n",
      "2023-07-17 16:11:02> Repeating hill extraction with centroid_tol 6.30\n",
      "2023-07-17 16:11:02> Number of hills 48,455, len = 20.72\n",
      "2023-07-17 16:11:02> After duplicate removal of hills 43,439\n",
      "2023-07-17 16:11:02> After split hill_ptrs 61,843\n",
      "2023-07-17 16:11:03> After filter hill_ptrs 60,296\n",
      "2023-07-17 16:11:08> Extracting hill stats complete\n",
      "2023-07-17 16:11:08> Found 7,180 pre isotope patterns.\n",
      "2023-07-17 16:11:09> Extracted 6,576 isotope patterns.\n",
      "2023-07-17 16:11:10> Report complete.\n",
      "2023-07-17 16:11:10> Matching features to query data.\n",
      "2023-07-17 16:11:10> Saving feature table.\n",
      "2023-07-17 16:11:10> Feature table saved to F:/temp_test_run/thermo_IRT.ms_data.hdf\n",
      "2023-07-17 16:11:10> Saving features.\n",
      "2023-07-17 16:11:10> Feature finding of file F:/temp_test_run/thermo_IRT.raw complete.\n"
     ]
    },
    {
     "name": "stderr",
     "output_type": "stream",
     "text": [
      "\r",
      "  0%|                                                                                                                                                                | 0/1 [00:08<?, ?it/s]"
     ]
    },
    {
     "name": "stdout",
     "output_type": "stream",
     "text": [
      "2023-07-17 16:11:10> ==== search_data ====\n"
     ]
    },
    {
     "name": "stderr",
     "output_type": "stream",
     "text": [
      "\n",
      "  0%|                                                                                                                                                                | 0/1 [00:00<?, ?it/s]"
     ]
    },
    {
     "name": "stdout",
     "output_type": "stream",
     "text": [
      "2023-07-17 16:11:10> Starting first search.\n",
      "2023-07-17 16:11:10> Processing 1 files for step search_db\n",
      "2023-07-17 16:11:10> Calibrating fragments\n",
      "2023-07-17 16:11:15> Performing search on 3,031 query and 5,045,760 db entries with frag_tol = 50.00 and prec_tol = 20.00.\n",
      "2023-07-17 16:11:15> Found 119 psms.\n",
      "2023-07-17 16:11:15> Extracting columns for scoring.\n",
      "2023-07-17 16:11:18> Extracted columns from 119 spectra.\n",
      "2023-07-17 16:11:18> Saving first_search results to F:/temp_test_run/thermo_IRT.ms_data.hdf\n",
      "2023-07-17 16:11:19> Search of file F:/temp_test_run/thermo_IRT.raw complete.\n",
      "2023-07-17 16:11:32> First search complete.\n"
     ]
    },
    {
     "name": "stderr",
     "output_type": "stream",
     "text": [
      "\r",
      "  0%|                                                                                                                                                                | 0/1 [00:22<?, ?it/s]"
     ]
    },
    {
     "name": "stdout",
     "output_type": "stream",
     "text": [
      "2023-07-17 16:11:32> ==== recalibrate_data ====\n"
     ]
    },
    {
     "name": "stderr",
     "output_type": "stream",
     "text": [
      "\n",
      "  0%|                                                                                                                                                                | 0/1 [00:00<?, ?it/s]"
     ]
    },
    {
     "name": "stdout",
     "output_type": "stream",
     "text": [
      "2023-07-17 16:11:32> Processing 1 files for step calibrate_hdf\n",
      "2023-07-17 16:11:32> Recalibrating file F:/temp_test_run/thermo_IRT.raw.\n",
      "2023-07-17 16:11:32> Scoring using generic score\n",
      "2023-07-17 16:11:32> 8 target (0 decoy) of 56 PSMs. FDR 0.000000 for a cutoff of 10.81 (set FDR was 0.01).\n",
      "2023-07-17 16:11:32> Precursor mass calibration for file F:/temp_test_run/thermo_IRT.raw.\n",
      "2023-07-17 16:11:32> Not enough data points present. Skipping recalibration.\n",
      "2023-07-17 16:11:32> Precursor calibration of file F:/temp_test_run/thermo_IRT.ms_data.hdf complete.\n",
      "2023-07-17 16:11:32> Starting fragment calibration.\n",
      "2023-07-17 16:11:32> Calibrating fragments with neighbors\n",
      "2023-07-17 16:11:32> Scoring using generic score\n",
      "2023-07-17 16:11:32> 8 target (0 decoy) of 56 PSMs. FDR 0.000000 for a cutoff of 10.81 (set FDR was 0.01).\n",
      "2023-07-17 16:11:32> Minimum hits for fragments before score 7.01.\n",
      "2023-07-17 16:11:32> Minimum hits for fragments after score 7.31.\n",
      "2023-07-17 16:11:32> Not enough datapoints 75 for fragment calibration. Minimum is set to 400. Skipping fragment calibration.\n",
      "2023-07-17 16:11:32> Fragment calibration of file F:/temp_test_run/thermo_IRT.ms_data.hdf complete.\n"
     ]
    },
    {
     "name": "stderr",
     "output_type": "stream",
     "text": [
      "\r",
      "  0%|                                                                                                                                                                | 0/1 [00:00<?, ?it/s]"
     ]
    },
    {
     "name": "stdout",
     "output_type": "stream",
     "text": [
      "2023-07-17 16:11:32> ==== search_data ====\n"
     ]
    },
    {
     "name": "stderr",
     "output_type": "stream",
     "text": [
      "\n",
      "  0%|                                                                                                                                                                | 0/1 [00:00<?, ?it/s]"
     ]
    },
    {
     "name": "stdout",
     "output_type": "stream",
     "text": [
      "2023-07-17 16:11:32> Starting second search with DB.\n",
      "2023-07-17 16:11:32> Processing 1 files for step search_db\n",
      "2023-07-17 16:11:32> Found calibrated prec_tol with value 8.19\n",
      "2023-07-17 16:11:32> 'Dataset estimated_max_fragment_ppm does not exist for group / of <HDF_File F:\\\\temp_test_run\\\\thermo_IRT.ms_data.hdf>.'\n",
      "2023-07-17 16:11:33> Performing search on 3,031 query and 5,045,760 db entries with frag_tol = 50.00 and prec_tol = 8.19.\n",
      "2023-07-17 16:11:33> Found 52 psms.\n",
      "2023-07-17 16:11:33> Extracting columns for scoring.\n",
      "2023-07-17 16:11:36> Extracted columns from 52 spectra.\n",
      "2023-07-17 16:11:36> Saving second_search results to F:/temp_test_run/thermo_IRT.ms_data.hdf\n",
      "2023-07-17 16:11:36> Search of file F:/temp_test_run/thermo_IRT.raw complete.\n",
      "2023-07-17 16:11:49> Second search complete.\n"
     ]
    },
    {
     "name": "stderr",
     "output_type": "stream",
     "text": [
      "  0%|                                                                                                                                                                | 0/1 [00:16<?, ?it/s]\n"
     ]
    },
    {
     "name": "stdout",
     "output_type": "stream",
     "text": [
      "2023-07-17 16:11:49> ==== score ====\n"
     ]
    },
    {
     "name": "stderr",
     "output_type": "stream",
     "text": [
      "\r",
      "  0%|                                                                                                                                                                | 0/1 [00:00<?, ?it/s]"
     ]
    },
    {
     "name": "stdout",
     "output_type": "stream",
     "text": [
      "2023-07-17 16:11:49> Processing 1 files for step score_hdf\n",
      "2023-07-17 16:11:49> Calling score_hdf\n",
      "2023-07-17 16:11:49> Found second search psms for scoring.\n",
      "2023-07-17 16:11:50> 8 target (0 decoy) of 31 PSMs. FDR 0.000000 for a cutoff of 10.81 (set FDR was 0.1).\n",
      "2023-07-17 16:11:50> ML failed. Defaulting to morpheus score\n",
      "2023-07-17 16:11:50> There are fewer high scoring targets or decoys than required by 'min_train'.\n",
      "2023-07-17 16:11:50> Converting morpheus score to probabilities\n",
      "2023-07-17 16:11:50> First q_value 0.833 of dataset is larger than fdr_level 0.010\n",
      "2023-07-17 16:11:50> 0 target (1 decoy) of 33 PSMs. FDR inf for a cutoff of 1.00 (set FDR was 0.01).\n",
      "2023-07-17 16:11:50> Saving identifications to ms_data file.\n",
      "2023-07-17 16:11:50> Saving identifications to ms_data file complete.\n",
      "2023-07-17 16:11:50> Saving identifications to csv file complete.\n",
      "2023-07-17 16:11:50> Filter df with custom score\n",
      "2023-07-17 16:11:50> Global FDR on precursor\n",
      "2023-07-17 16:11:50> First q_value 0.778 of dataset is larger than fdr_level 0.010\n",
      "2023-07-17 16:11:50> 0 target (1 decoy) of 32 PSMs. FDR inf for a cutoff of 1.00 (set FDR was 0.01).\n",
      "2023-07-17 16:11:50> Global FDR cutoff at 1.000.\n",
      "2023-07-17 16:11:50> FDR on peptides complete. For 0.01 FDR found 7 targets and 1 decoys.\n",
      "2023-07-17 16:11:50> Extracting fragment_ions\n",
      "2023-07-17 16:11:50> Extracting fragment_ions complete.\n",
      "2023-07-17 16:11:50> Exporting peptide_fdr on F:/temp_test_run/thermo_IRT.raw.\n",
      "2023-07-17 16:11:50> Scoring of files F:/temp_test_run/thermo_IRT.raw complete.\n"
     ]
    },
    {
     "name": "stderr",
     "output_type": "stream",
     "text": [
      "\r",
      "  0%|                                                                                                                                                                | 0/1 [00:00<?, ?it/s]"
     ]
    },
    {
     "name": "stdout",
     "output_type": "stream",
     "text": [
      "2023-07-17 16:11:50> ==== isobaric_labeling ====\n",
      "2023-07-17 16:11:50> ==== protein_grouping ====\n"
     ]
    },
    {
     "name": "stderr",
     "output_type": "stream",
     "text": [
      "\n",
      "  0%|                                                                                                                                                                | 0/1 [00:00<?, ?it/s]"
     ]
    },
    {
     "name": "stdout",
     "output_type": "stream",
     "text": [
      "2023-07-17 16:11:50> Fasta dict with length 20,365, Pept dict with length 5,045,764\n",
      "2023-07-17 16:11:50> Extracting protein groups.\n"
     ]
    },
    {
     "name": "stderr",
     "output_type": "stream",
     "text": [
      "\n",
      "  0%|                                                                                                                                                                | 0/1 [00:00<?, ?it/s]\u001b[A"
     ]
    },
    {
     "name": "stdout",
     "output_type": "stream",
     "text": [
      "2023-07-17 16:11:50> A total of 7 unique and 0 shared peptides.\n",
      "2023-07-17 16:11:50> A total of 0 ambigious proteins\n",
      "2023-07-17 16:11:50> A total of 1 unique and 0 shared peptides.\n",
      "2023-07-17 16:11:50> A total of 0 ambigious proteins\n",
      "2023-07-17 16:11:50> Global FDR on protein_group\n",
      "2023-07-17 16:11:50> First q_value 0.200 of dataset is larger than fdr_level 0.010\n",
      "2023-07-17 16:11:50> 0 target (1 decoy) of 6 PSMs. FDR inf for a cutoff of 1.00 (set FDR was 0.01).\n",
      "2023-07-17 16:11:50> Global FDR cutoff at 1.000.\n",
      "2023-07-17 16:11:50> FDR on proteins complete. For 0.01 FDR found 7 targets and 1 decoys. A total of 6 proteins found.\n",
      "2023-07-17 16:11:50> Saving complete.\n",
      "2023-07-17 16:11:50> Protein groups complete.\n"
     ]
    },
    {
     "name": "stderr",
     "output_type": "stream",
     "text": [
      "\n",
      "\r",
      "  0%|                                                                                                                                                                | 0/1 [00:00<?, ?it/s]"
     ]
    },
    {
     "name": "stdout",
     "output_type": "stream",
     "text": [
      "2023-07-17 16:11:50> ==== quantification ====\n",
      "2023-07-17 16:11:50> Reading protein_fdr for quantification.\n",
      "2023-07-17 16:11:50> Saving protein_groups after delayed normalization to combined_protein_fdr_dn\n"
     ]
    },
    {
     "name": "stderr",
     "output_type": "stream",
     "text": [
      "\n"
     ]
    },
    {
     "name": "stdout",
     "output_type": "stream",
     "text": [
      "2023-07-17 16:11:50> Complete.\n",
      "2023-07-17 16:11:50> Starting profile extraction.\n"
     ]
    },
    {
     "name": "stderr",
     "output_type": "stream",
     "text": [
      "\r",
      "  0%|                                                                                                                                                                | 0/1 [00:00<?, ?it/s]"
     ]
    },
    {
     "name": "stdout",
     "output_type": "stream",
     "text": [
      "2023-07-17 16:11:50> LFQ complete.\n",
      "2023-07-17 16:11:50> Extracting protein_summary\n",
      "2023-07-17 16:11:50> Saved protein_summary of length 6 saved to F:\\temp_test_run\\results_protein_summary.csv\n",
      "2023-07-17 16:11:50> Updating protein_fdr.\n",
      "2023-07-17 16:11:51> Exporting as csv.\n",
      "2023-07-17 16:11:51> Saved df of length 8 saved to F:\\temp_test_run\\results\n"
     ]
    },
    {
     "name": "stderr",
     "output_type": "stream",
     "text": [
      "\r",
      "100%|████████████████████████████████████████████████████████████████████████████████████████████████████████████████████████████████████████████████████████| 1/1 [00:00<00:00, 11.81it/s]"
     ]
    },
    {
     "name": "stdout",
     "output_type": "stream",
     "text": [
      "2023-07-17 16:11:51> ==== export ====\n"
     ]
    },
    {
     "name": "stderr",
     "output_type": "stream",
     "text": [
      "\n"
     ]
    },
    {
     "name": "stdout",
     "output_type": "stream",
     "text": [
      "2023-07-17 16:11:51> Settings saved to F:\\temp_test_run\\results.yaml\n",
      "2023-07-17 16:11:51> Analysis complete.\n",
      "features centroid_tol 25.0\n",
      "2023-07-17 16:11:51> Logging to C:\\Users\\admin\\alphapept\\logs\\log_20230717161151.txt.\n",
      "2023-07-17 16:11:51> Code location f:\\projects\\alphapept\\alphapept\n",
      "2023-07-17 16:11:51> Python location C:\\ProgramData\\Miniconda3\\envs\\alphapept\\python.exe\n",
      "2023-07-17 16:11:51> Platform information:\n",
      "2023-07-17 16:11:51> system     - Windows\n",
      "2023-07-17 16:11:51> release    - 10\n",
      "2023-07-17 16:11:51> version    - 10.0.19044\n",
      "2023-07-17 16:11:51> machine    - AMD64\n",
      "2023-07-17 16:11:51> processor  - Intel64 Family 6 Model 85 Stepping 4, GenuineIntel\n",
      "2023-07-17 16:11:51> cpu count  - 24\n",
      "2023-07-17 16:11:51> ram memory - 111.6/127.7 Gb (available/total)\n",
      "2023-07-17 16:11:51> processor  - Intel64 Family 6 Model 85 Stepping 4, GenuineIntel\n",
      "2023-07-17 16:11:51> Python information:\n",
      "2023-07-17 16:11:51> SQLAlchemy                    - 1.4.39\n",
      "2023-07-17 16:11:51> alphapept                     - 0.5.0\n",
      "2023-07-17 16:11:51> alpharaw                      - 0.1.0\n",
      "2023-07-17 16:11:51> alphatims                     - 1.0.7\n",
      "2023-07-17 16:11:51> biopython                     - 1.79\n",
      "2023-07-17 16:11:51> bumpversion                   - 0.6.0\n",
      "2023-07-17 16:11:51> bumpversion>                  - \n",
      "2023-07-17 16:11:51> click                         - 8.1.3\n",
      "2023-07-17 16:11:51> click>                        - \n",
      "2023-07-17 16:11:51> fastcore                      - 1.5.29\n",
      "2023-07-17 16:11:51> h5py                          - 3.7.0\n",
      "2023-07-17 16:11:51> jupyter                       - 1.0.0\n",
      "2023-07-17 16:11:51> jupyter>                      - \n",
      "2023-07-17 16:11:51> jupyter_contrib_nbextensions  - \n",
      "2023-07-17 16:11:51> jupyter_contrib_nbextensions> - \n",
      "2023-07-17 16:11:51> matplotlib                    - 3.7.1\n",
      "2023-07-17 16:11:51> nbdev                         - 2.3.12\n",
      "2023-07-17 16:11:51> nbdev>                        - \n",
      "2023-07-17 16:11:51> networkx                      - 2.8.6\n",
      "2023-07-17 16:11:51> numba                         - 0.55.2\n",
      "2023-07-17 16:11:51> numpy                         - 1.20.3\n",
      "2023-07-17 16:11:51> pandas                        - 1.4.3\n",
      "2023-07-17 16:11:51> plotly_express                - 0.4.1\n",
      "2023-07-17 16:11:51> psutil                        - 5.9.0\n",
      "2023-07-17 16:11:51> pyinstaller                   - \n",
      "2023-07-17 16:11:51> pyteomics                     - 4.5.5\n",
      "2023-07-17 16:11:51> python                        - 3.8.16\n",
      "2023-07-17 16:11:51> pythonnet>                    - \n",
      "2023-07-17 16:11:51> pywin32>                      - \n",
      "2023-07-17 16:11:51> pyyaml                        - 6.0\n",
      "2023-07-17 16:11:51> scikit-learn                  - 1.1.2\n",
      "2023-07-17 16:11:51> scipy                         - 1.8.1\n",
      "2023-07-17 16:11:51> streamlit                     - 1.20.0\n",
      "2023-07-17 16:11:51> streamlit>                    - \n",
      "2023-07-17 16:11:51> tables                        - 3.6.1\n",
      "2023-07-17 16:11:51> tqdm                          - 4.64.0\n",
      "2023-07-17 16:11:51> twine                         - \n",
      "2023-07-17 16:11:51> twine>                        - \n",
      "2023-07-17 16:11:51> watchdog                      - 2.3.0\n",
      "2023-07-17 16:11:51> wget                          - 3.2\n",
      "2023-07-17 16:11:51> \n",
      "2023-07-17 16:11:51> Check for settings not completely implemented yet.\n",
      "2023-07-17 16:11:51> Size check:\n",
      "2023-07-17 16:11:51> Size of job (raw files) 0.07 Gb\n",
      "2023-07-17 16:11:51> Required disk space for F: - 0.07 Gb, Available 391.04 Gb OK.\n",
      "2023-07-17 16:11:51> \n",
      "2023-07-17 16:11:51> Workflow Settings:\n",
      "2023-07-17 16:11:51> align              - False\n",
      "2023-07-17 16:11:51> continue_runs      - False\n",
      "2023-07-17 16:11:51> create_database    - True\n",
      "2023-07-17 16:11:51> find_features      - True\n",
      "2023-07-17 16:11:51> import_raw_data    - True\n",
      "2023-07-17 16:11:51> lfq_quantification - True\n",
      "2023-07-17 16:11:51> match              - False\n",
      "2023-07-17 16:11:51> recalibrate_data   - True\n",
      "2023-07-17 16:11:51> search_data        - True\n",
      "2023-07-17 16:11:51> \n",
      "2023-07-17 16:11:51> Checking if files exist.\n",
      "2023-07-17 16:11:51> FASTA Files have a total size of 0.000 Mb\n",
      "2023-07-17 16:11:51> Results path was not set. Setting to F:\\temp_test_run\\results.hdf\n",
      "2023-07-17 16:11:51> Shortnames not set. Setting to filename.\n",
      "2023-07-17 16:11:51> Sample group not set. Setting to shortname.\n",
      "2023-07-17 16:11:51> Fraction not set. Setting to 1.\n",
      "2023-07-17 16:11:51> No database path set and save_db option checked. Using default path F:\\temp_test_run\\database.hdf\n",
      "2023-07-17 16:11:51> Deleted F:/temp_test_run/thermo_IRT.ms_data.hdf\n",
      "2023-07-17 16:11:51> Workflow has 11 steps\n",
      "2023-07-17 16:11:51> ==== create_database ====\n",
      "2023-07-17 16:11:51> Database path set and exists. Using F:\\temp_test_run\\database.hdf as database.\n",
      "2023-07-17 16:11:51> ==== import_raw_data ====\n"
     ]
    },
    {
     "name": "stderr",
     "output_type": "stream",
     "text": [
      "\r",
      "  0%|                                                                                                                                                                | 0/1 [00:00<?, ?it/s]"
     ]
    },
    {
     "name": "stdout",
     "output_type": "stream",
     "text": [
      "2023-07-17 16:11:51> Processing 1 files for step raw_conversion\n",
      "2023-07-17 16:11:51> File F:/temp_test_run/thermo_IRT has extension .raw - converting from Thermo.\n",
      "2023-07-17 16:11:54> File conversion complete. Extracted 2,603 precursors.\n",
      "2023-07-17 16:11:55> File conversion of file F:/temp_test_run/thermo_IRT.raw complete.\n"
     ]
    },
    {
     "name": "stderr",
     "output_type": "stream",
     "text": [
      "\r",
      "  0%|                                                                                                                                                                | 0/1 [00:03<?, ?it/s]"
     ]
    },
    {
     "name": "stdout",
     "output_type": "stream",
     "text": [
      "2023-07-17 16:11:55> ==== feature_finding ====\n"
     ]
    },
    {
     "name": "stderr",
     "output_type": "stream",
     "text": [
      "\n",
      "  0%|                                                                                                                                                                | 0/1 [00:00<?, ?it/s]"
     ]
    },
    {
     "name": "stdout",
     "output_type": "stream",
     "text": [
      "2023-07-17 16:11:55> Processing 1 files for step find_features\n",
      "2023-07-17 16:11:55> No *.hdf file with features found for F:/temp_test_run/thermo_IRT.ms_data.hdf. Adding to feature finding list.\n",
      "2023-07-17 16:11:55> Feature finding on F:/temp_test_run/thermo_IRT.raw\n",
      "2023-07-17 16:11:55> Hill extraction with centroid_tol 25 and max_gap 2\n",
      "2023-07-17 16:11:55> Number of hills 43,449, len = 20.36\n",
      "2023-07-17 16:11:55> Repeating hill extraction with centroid_tol 6.94\n",
      "2023-07-17 16:11:56> Number of hills 47,026, len = 20.46\n",
      "2023-07-17 16:11:56> After duplicate removal of hills 43,198\n",
      "2023-07-17 16:11:56> After split hill_ptrs 61,840\n",
      "2023-07-17 16:11:56> After filter hill_ptrs 60,287\n",
      "2023-07-17 16:12:02> Extracting hill stats complete\n",
      "2023-07-17 16:12:02> Found 7,219 pre isotope patterns.\n",
      "2023-07-17 16:12:03> Extracted 6,602 isotope patterns.\n",
      "2023-07-17 16:12:03> Report complete.\n",
      "2023-07-17 16:12:03> Matching features to query data.\n",
      "2023-07-17 16:12:03> Saving feature table.\n",
      "2023-07-17 16:12:03> Feature table saved to F:/temp_test_run/thermo_IRT.ms_data.hdf\n",
      "2023-07-17 16:12:03> Saving features.\n",
      "2023-07-17 16:12:04> Feature finding of file F:/temp_test_run/thermo_IRT.raw complete.\n"
     ]
    },
    {
     "name": "stderr",
     "output_type": "stream",
     "text": [
      "\r",
      "  0%|                                                                                                                                                                | 0/1 [00:08<?, ?it/s]"
     ]
    },
    {
     "name": "stdout",
     "output_type": "stream",
     "text": [
      "2023-07-17 16:12:04> ==== search_data ====\n"
     ]
    },
    {
     "name": "stderr",
     "output_type": "stream",
     "text": [
      "\n",
      "  0%|                                                                                                                                                                | 0/1 [00:00<?, ?it/s]"
     ]
    },
    {
     "name": "stdout",
     "output_type": "stream",
     "text": [
      "2023-07-17 16:12:04> Starting first search.\n",
      "2023-07-17 16:12:04> Processing 1 files for step search_db\n",
      "2023-07-17 16:12:04> Calibrating fragments\n",
      "2023-07-17 16:12:08> Performing search on 3,067 query and 5,045,760 db entries with frag_tol = 50.00 and prec_tol = 20.00.\n",
      "2023-07-17 16:12:08> Found 124 psms.\n",
      "2023-07-17 16:12:08> Extracting columns for scoring.\n",
      "2023-07-17 16:12:12> Extracted columns from 124 spectra.\n",
      "2023-07-17 16:12:12> Saving first_search results to F:/temp_test_run/thermo_IRT.ms_data.hdf\n",
      "2023-07-17 16:12:12> Search of file F:/temp_test_run/thermo_IRT.raw complete.\n",
      "2023-07-17 16:12:27> First search complete.\n"
     ]
    },
    {
     "name": "stderr",
     "output_type": "stream",
     "text": [
      "\r",
      "  0%|                                                                                                                                                                | 0/1 [00:23<?, ?it/s]"
     ]
    },
    {
     "name": "stdout",
     "output_type": "stream",
     "text": [
      "2023-07-17 16:12:27> ==== recalibrate_data ====\n"
     ]
    },
    {
     "name": "stderr",
     "output_type": "stream",
     "text": [
      "\n",
      "  0%|                                                                                                                                                                | 0/1 [00:00<?, ?it/s]"
     ]
    },
    {
     "name": "stdout",
     "output_type": "stream",
     "text": [
      "2023-07-17 16:12:27> Processing 1 files for step calibrate_hdf\n",
      "2023-07-17 16:12:27> Recalibrating file F:/temp_test_run/thermo_IRT.raw.\n",
      "2023-07-17 16:12:27> Scoring using generic score\n",
      "2023-07-17 16:12:27> 8 target (0 decoy) of 56 PSMs. FDR 0.000000 for a cutoff of 10.81 (set FDR was 0.01).\n",
      "2023-07-17 16:12:27> Precursor mass calibration for file F:/temp_test_run/thermo_IRT.raw.\n",
      "2023-07-17 16:12:27> Not enough data points present. Skipping recalibration.\n",
      "2023-07-17 16:12:27> Precursor calibration of file F:/temp_test_run/thermo_IRT.ms_data.hdf complete.\n",
      "2023-07-17 16:12:27> Starting fragment calibration.\n",
      "2023-07-17 16:12:27> Calibrating fragments with neighbors\n",
      "2023-07-17 16:12:27> Scoring using generic score\n",
      "2023-07-17 16:12:27> 8 target (0 decoy) of 56 PSMs. FDR 0.000000 for a cutoff of 10.81 (set FDR was 0.01).\n",
      "2023-07-17 16:12:27> Minimum hits for fragments before score 7.01.\n",
      "2023-07-17 16:12:27> Minimum hits for fragments after score 7.31.\n",
      "2023-07-17 16:12:27> Not enough datapoints 75 for fragment calibration. Minimum is set to 400. Skipping fragment calibration.\n",
      "2023-07-17 16:12:27> Fragment calibration of file F:/temp_test_run/thermo_IRT.ms_data.hdf complete.\n"
     ]
    },
    {
     "name": "stderr",
     "output_type": "stream",
     "text": [
      "\r",
      "  0%|                                                                                                                                                                | 0/1 [00:00<?, ?it/s]"
     ]
    },
    {
     "name": "stdout",
     "output_type": "stream",
     "text": [
      "2023-07-17 16:12:27> ==== search_data ====\n"
     ]
    },
    {
     "name": "stderr",
     "output_type": "stream",
     "text": [
      "\n",
      "  0%|                                                                                                                                                                | 0/1 [00:00<?, ?it/s]"
     ]
    },
    {
     "name": "stdout",
     "output_type": "stream",
     "text": [
      "2023-07-17 16:12:27> Starting second search with DB.\n",
      "2023-07-17 16:12:27> Processing 1 files for step search_db\n",
      "2023-07-17 16:12:27> Found calibrated prec_tol with value 8.18\n",
      "2023-07-17 16:12:27> 'Dataset estimated_max_fragment_ppm does not exist for group / of <HDF_File F:\\\\temp_test_run\\\\thermo_IRT.ms_data.hdf>.'\n",
      "2023-07-17 16:12:28> Performing search on 3,067 query and 5,045,760 db entries with frag_tol = 50.00 and prec_tol = 8.18.\n",
      "2023-07-17 16:12:28> Found 53 psms.\n",
      "2023-07-17 16:12:28> Extracting columns for scoring.\n",
      "2023-07-17 16:12:31> Extracted columns from 53 spectra.\n",
      "2023-07-17 16:12:31> Saving second_search results to F:/temp_test_run/thermo_IRT.ms_data.hdf\n",
      "2023-07-17 16:12:32> Search of file F:/temp_test_run/thermo_IRT.raw complete.\n",
      "2023-07-17 16:12:46> Second search complete.\n"
     ]
    },
    {
     "name": "stderr",
     "output_type": "stream",
     "text": [
      "\r",
      "  0%|                                                                                                                                                                | 0/1 [00:18<?, ?it/s]"
     ]
    },
    {
     "name": "stdout",
     "output_type": "stream",
     "text": [
      "2023-07-17 16:12:46> ==== score ====\n"
     ]
    },
    {
     "name": "stderr",
     "output_type": "stream",
     "text": [
      "\n",
      "  0%|                                                                                                                                                                | 0/1 [00:00<?, ?it/s]"
     ]
    },
    {
     "name": "stdout",
     "output_type": "stream",
     "text": [
      "2023-07-17 16:12:46> Processing 1 files for step score_hdf\n",
      "2023-07-17 16:12:46> Calling score_hdf\n",
      "2023-07-17 16:12:46> Found second search psms for scoring.\n",
      "2023-07-17 16:12:46> 8 target (0 decoy) of 31 PSMs. FDR 0.000000 for a cutoff of 10.81 (set FDR was 0.1).\n",
      "2023-07-17 16:12:46> ML failed. Defaulting to morpheus score\n",
      "2023-07-17 16:12:46> There are fewer high scoring targets or decoys than required by 'min_train'.\n",
      "2023-07-17 16:12:46> Converting morpheus score to probabilities\n",
      "2023-07-17 16:12:46> First q_value 0.941 of dataset is larger than fdr_level 0.010\n",
      "2023-07-17 16:12:46> 0 target (1 decoy) of 33 PSMs. FDR inf for a cutoff of 1.00 (set FDR was 0.01).\n",
      "2023-07-17 16:12:46> Saving identifications to ms_data file.\n",
      "2023-07-17 16:12:47> Saving identifications to ms_data file complete.\n",
      "2023-07-17 16:12:47> Saving identifications to csv file complete.\n",
      "2023-07-17 16:12:47> Filter df with custom score\n",
      "2023-07-17 16:12:47> Global FDR on precursor\n",
      "2023-07-17 16:12:47> First q_value 0.882 of dataset is larger than fdr_level 0.010\n",
      "2023-07-17 16:12:47> 0 target (1 decoy) of 32 PSMs. FDR inf for a cutoff of 1.00 (set FDR was 0.01).\n",
      "2023-07-17 16:12:47> Global FDR cutoff at 1.000.\n",
      "2023-07-17 16:12:47> FDR on peptides complete. For 0.01 FDR found 6 targets and 1 decoys.\n",
      "2023-07-17 16:12:47> Extracting fragment_ions\n",
      "2023-07-17 16:12:47> Extracting fragment_ions complete.\n",
      "2023-07-17 16:12:47> Exporting peptide_fdr on F:/temp_test_run/thermo_IRT.raw.\n",
      "2023-07-17 16:12:47> Scoring of files F:/temp_test_run/thermo_IRT.raw complete.\n"
     ]
    },
    {
     "name": "stderr",
     "output_type": "stream",
     "text": [
      "\r",
      "  0%|                                                                                                                                                                | 0/1 [00:00<?, ?it/s]"
     ]
    },
    {
     "name": "stdout",
     "output_type": "stream",
     "text": [
      "2023-07-17 16:12:47> ==== isobaric_labeling ====\n",
      "2023-07-17 16:12:47> ==== protein_grouping ====\n"
     ]
    },
    {
     "name": "stderr",
     "output_type": "stream",
     "text": [
      "\n",
      "  0%|                                                                                                                                                                | 0/1 [00:00<?, ?it/s]"
     ]
    },
    {
     "name": "stdout",
     "output_type": "stream",
     "text": [
      "2023-07-17 16:12:47> Fasta dict with length 20,365, Pept dict with length 5,045,764\n",
      "2023-07-17 16:12:47> Extracting protein groups.\n"
     ]
    },
    {
     "name": "stderr",
     "output_type": "stream",
     "text": [
      "\n",
      "  0%|                                                                                                                                                                | 0/1 [00:00<?, ?it/s]\u001b[A"
     ]
    },
    {
     "name": "stdout",
     "output_type": "stream",
     "text": [
      "2023-07-17 16:12:47> A total of 6 unique and 0 shared peptides.\n",
      "2023-07-17 16:12:47> A total of 0 ambigious proteins\n",
      "2023-07-17 16:12:47> A total of 1 unique and 0 shared peptides.\n",
      "2023-07-17 16:12:47> A total of 0 ambigious proteins\n",
      "2023-07-17 16:12:47> Global FDR on protein_group\n",
      "2023-07-17 16:12:47> First q_value 0.250 of dataset is larger than fdr_level 0.010\n",
      "2023-07-17 16:12:47> 0 target (1 decoy) of 5 PSMs. FDR inf for a cutoff of 1.00 (set FDR was 0.01).\n",
      "2023-07-17 16:12:47> Global FDR cutoff at 1.000.\n",
      "2023-07-17 16:12:47> FDR on proteins complete. For 0.01 FDR found 6 targets and 1 decoys. A total of 5 proteins found.\n",
      "2023-07-17 16:12:47> Saving complete.\n",
      "2023-07-17 16:12:47> Protein groups complete.\n"
     ]
    },
    {
     "name": "stderr",
     "output_type": "stream",
     "text": [
      "\n",
      "\r",
      "  0%|                                                                                                                                                                | 0/1 [00:00<?, ?it/s]"
     ]
    },
    {
     "name": "stdout",
     "output_type": "stream",
     "text": [
      "2023-07-17 16:12:47> ==== quantification ====\n",
      "2023-07-17 16:12:47> Reading protein_fdr for quantification.\n"
     ]
    },
    {
     "name": "stderr",
     "output_type": "stream",
     "text": [
      "\n"
     ]
    },
    {
     "name": "stdout",
     "output_type": "stream",
     "text": [
      "2023-07-17 16:12:47> Saving protein_groups after delayed normalization to combined_protein_fdr_dn\n",
      "2023-07-17 16:12:47> Complete.\n",
      "2023-07-17 16:12:47> Starting profile extraction.\n"
     ]
    },
    {
     "name": "stderr",
     "output_type": "stream",
     "text": [
      "\r",
      "  0%|                                                                                                                                                                | 0/1 [00:00<?, ?it/s]"
     ]
    },
    {
     "name": "stdout",
     "output_type": "stream",
     "text": [
      "2023-07-17 16:12:47> LFQ complete.\n",
      "2023-07-17 16:12:47> Extracting protein_summary\n",
      "2023-07-17 16:12:47> Saved protein_summary of length 5 saved to F:\\temp_test_run\\results_protein_summary.csv\n",
      "2023-07-17 16:12:47> Updating protein_fdr.\n",
      "2023-07-17 16:12:47> Exporting as csv.\n",
      "2023-07-17 16:12:47> Saved df of length 7 saved to F:\\temp_test_run\\results\n"
     ]
    },
    {
     "name": "stderr",
     "output_type": "stream",
     "text": [
      "\r",
      "100%|████████████████████████████████████████████████████████████████████████████████████████████████████████████████████████████████████████████████████████| 1/1 [00:00<00:00, 15.98it/s]"
     ]
    },
    {
     "name": "stdout",
     "output_type": "stream",
     "text": [
      "2023-07-17 16:12:47> ==== export ====\n"
     ]
    },
    {
     "name": "stderr",
     "output_type": "stream",
     "text": [
      "\n"
     ]
    },
    {
     "name": "stdout",
     "output_type": "stream",
     "text": [
      "2023-07-17 16:12:48> Settings saved to F:\\temp_test_run\\results.yaml\n",
      "2023-07-17 16:12:48> Analysis complete.\n"
     ]
    }
   ],
   "source": [
    "results = []\n",
    "n_sample = 5\n",
    "\n",
    "group = 'features'\n",
    "\n",
    "print(SETTINGS_TEMPLATE[group].keys())\n",
    "\n",
    "for param in ['centroid_tol']: #Test 1 parameter for now\n",
    "    for selector in np.linspace(SETTINGS_TEMPLATE[group][param]['min'], SETTINGS_TEMPLATE[group][param]['max'], n_sample):\n",
    "        print(group, param, selector)\n",
    "        \n",
    "        if SETTINGS_TEMPLATE[group][param]['type'] == 'spinbox':\n",
    "            selector = int(selector)\n",
    "            \n",
    "        settings = load_settings_as_template(DEFAULT_SETTINGS_PATH)\n",
    "\n",
    "        settings['experiment']['file_paths'] =  ['F:/temp_test_run/thermo_IRT.raw']\n",
    "        settings['fasta']['fasta_paths'] = ['F:/temp_test_run/human.fasta', 'F:/temp_test_run/arabidopsis.fasta', 'F:/temp_test_run/contaminants.fasta']\n",
    "\n",
    "        settings[group][param] = selector\n",
    "\n",
    "        try:\n",
    "            settings_ = alphapept.interface.run_complete_workflow(settings)\n",
    "            try:\n",
    "                n_features = settings_['summary']['thermo_IRT']['feature_table (n in table)']\n",
    "            except KeyError as e:\n",
    "                raise\n",
    "                n_proteins = 0\n",
    "            time = settings_['summary']['timing']['total (min)']\n",
    "            results.append((group, param, selector, n_features, time))\n",
    "\n",
    "        except Exception as e:\n",
    "            print(e)\n",
    "            raise"
   ]
  },
  {
   "cell_type": "code",
   "execution_count": 3,
   "id": "912ecd6a",
   "metadata": {},
   "outputs": [],
   "source": [
    "import matplotlib.pyplot as plt\n",
    "import pandas as pd"
   ]
  },
  {
   "cell_type": "code",
   "execution_count": 4,
   "id": "reduced-cylinder",
   "metadata": {},
   "outputs": [],
   "source": [
    "df = pd.DataFrame(results, columns = ['group','parameter','value','n_features','timing'])"
   ]
  },
  {
   "cell_type": "code",
   "execution_count": 5,
   "id": "92f92239",
   "metadata": {},
   "outputs": [
    {
     "data": {
      "image/png": "[encoded data removed]",
      "text/plain": [
       "<Figure size 500x500 with 1 Axes>"
      ]
     },
     "metadata": {},
     "output_type": "display_data"
    },
    {
     "data": {
      "image/png": "[encoded data removed]",
      "text/plain": [
       "<Figure size 500x500 with 1 Axes>"
      ]
     },
     "metadata": {},
     "output_type": "display_data"
    }
   ],
   "source": [
    "plt.figure(figsize=(5,5))\n",
    "plt.plot(df['value'], df['n_features'], 'o')\n",
    "plt.plot(df['value'], df['n_features'])\n",
    "plt.xlabel('Value')\n",
    "plt.ylabel('Number of features')\n",
    "plt.show()\n",
    "\n",
    "plt.figure(figsize=(5,5))\n",
    "plt.plot(df['value'], df['timing'], 'o')\n",
    "plt.plot(df['value'], df['timing'])\n",
    "plt.xlabel('Value')\n",
    "plt.ylabel('Time elapsed')\n",
    "plt.show()"
   ]
  }
 ],
 "metadata": {
  "kernelspec": {
   "display_name": "Python 3 (ipykernel)",
   "language": "python",
   "name": "python3"
  },
  "language_info": {
   "codemirror_mode": {
    "name": "ipython",
    "version": 3
   },
   "file_extension": ".py",
   "mimetype": "text/x-python",
   "name": "python",
   "nbconvert_exporter": "python",
   "pygments_lexer": "ipython3",
   "version": "3.8.16"
  },
  "toc": {
   "base_numbering": 1,
   "nav_menu": {},
   "number_sections": true,
   "sideBar": true,
   "skip_h1_title": false,
   "title_cell": "Table of Contents",
   "title_sidebar": "Contents",
   "toc_cell": false,
   "toc_position": {},
   "toc_section_display": true,
   "toc_window_display": false
  }
 },
 "nbformat": 4,
 "nbformat_minor": 5
}
