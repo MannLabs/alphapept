{
 "cells": [
  {
   "cell_type": "markdown",
   "id": "clean-conducting",
   "metadata": {},
   "source": [
    "# Parameter Screen\n",
    "\n",
    "This notebooks how a parameter screen can be done on AlphaPept to find optimal values."
   ]
  },
  {
   "cell_type": "code",
   "execution_count": 1,
   "id": "divided-christopher",
   "metadata": {
    "scrolled": true
   },
   "outputs": [],
   "source": [
    "from alphapept.paths import SETTINGS_TEMPLATE_PATH, DEFAULT_SETTINGS_PATH\n",
    "import numpy as np\n",
    "import alphapept.interface\n",
    "from alphapept.settings import load_settings_as_template \n",
    "\n",
    "SETTINGS_TEMPLATE = load_settings_as_template(SETTINGS_TEMPLATE_PATH)"
   ]
  },
  {
   "cell_type": "code",
   "execution_count": 2,
   "id": "recovered-priority",
   "metadata": {
    "scrolled": false
   },
   "outputs": [
    {
     "name": "stdout",
     "output_type": "stream",
     "text": [
      "dict_keys(['max_gap', 'centroid_tol', 'hill_length_min', 'hill_split_level', 'iso_split_level', 'hill_smoothing', 'hill_check_large', 'iso_charge_min', 'iso_charge_max', 'iso_n_seeds', 'hill_nboot_max', 'hill_nboot', 'iso_mass_range', 'iso_corr_min', 'map_mz_range', 'map_rt_range', 'map_mob_range', 'map_n_neighbors', 'search_unidentified'])\n",
      "features centroid_tol 1.0\n",
      "2022-10-25 11:08:09> Logging to C:\\Users\\admin\\alphapept\\logs\\log_20221025110809.txt.\n",
      "2022-10-25 11:08:09> Code location f:\\projects\\alphapept\\alphapept\n",
      "2022-10-25 11:08:09> Python location C:\\Users\\admin\\.conda\\envs\\alphapept_stable\\python.exe\n",
      "2022-10-25 11:08:09> Platform information:\n",
      "2022-10-25 11:08:09> system     - Windows\n",
      "2022-10-25 11:08:09> release    - 10\n",
      "2022-10-25 11:08:09> version    - 10.0.19044\n",
      "2022-10-25 11:08:09> machine    - AMD64\n",
      "2022-10-25 11:08:09> processor  - Intel64 Family 6 Model 85 Stepping 4, GenuineIntel\n",
      "2022-10-25 11:08:09> cpu count  - 24\n",
      "2022-10-25 11:08:09> ram memory - 119.0/127.7 Gb (available/total)\n",
      "2022-10-25 11:08:09> processor  - Intel64 Family 6 Model 85 Stepping 4, GenuineIntel\n",
      "2022-10-25 11:08:09> Python information:\n",
      "2022-10-25 11:08:09> SQLAlchemy                    - 1.4.39\n",
      "2022-10-25 11:08:09> alphapept                     - 0.4.9\n",
      "2022-10-25 11:08:09> biopython                     - 1.79\n",
      "2022-10-25 11:08:09> bumpversion                   - \n",
      "2022-10-25 11:08:09> bumpversion>                  - \n",
      "2022-10-25 11:08:09> click                         - 8.1.3\n",
      "2022-10-25 11:08:09> click>                        - \n",
      "2022-10-25 11:08:09> fastcore                      - 1.5.26\n",
      "2022-10-25 11:08:09> h5py                          - 3.7.0\n",
      "2022-10-25 11:08:09> jupyter                       - \n",
      "2022-10-25 11:08:09> jupyter>                      - \n",
      "2022-10-25 11:08:09> jupyter_contrib_nbextensions  - \n",
      "2022-10-25 11:08:09> jupyter_contrib_nbextensions> - \n",
      "2022-10-25 11:08:09> matplotlib                    - 3.6.0\n",
      "2022-10-25 11:08:09> nbdev                         - \n",
      "2022-10-25 11:08:09> nbdev>                        - \n",
      "2022-10-25 11:08:09> networkx                      - 2.8.6\n",
      "2022-10-25 11:08:09> numba                         - 0.55.2\n",
      "2022-10-25 11:08:09> numpy                         - 1.20.3\n",
      "2022-10-25 11:08:09> pandas                        - 1.4.3\n",
      "2022-10-25 11:08:09> plotly_express                - 0.4.1\n",
      "2022-10-25 11:08:09> psutil                        - 5.9.1\n",
      "2022-10-25 11:08:09> pyinstaller                   - \n",
      "2022-10-25 11:08:09> pyteomics                     - 4.5.5\n",
      "2022-10-25 11:08:09> python                        - 3.8.13\n",
      "2022-10-25 11:08:09> pythonnet                     - 2.5.2\n",
      "2022-10-25 11:08:09> pywin32                       - 225\n",
      "2022-10-25 11:08:09> pyyaml                        - 6.0\n",
      "2022-10-25 11:08:09> scikit-learn                  - 1.1.2\n",
      "2022-10-25 11:08:09> scipy                         - 1.8.1\n",
      "2022-10-25 11:08:09> streamlit                     - 1.13.0\n",
      "2022-10-25 11:08:09> streamlit-aggrid              - 0.2.3.post2\n",
      "2022-10-25 11:08:09> streamlit>                    - \n",
      "2022-10-25 11:08:09> tables                        - 3.6.1\n",
      "2022-10-25 11:08:09> tqdm                          - 4.64.0\n",
      "2022-10-25 11:08:09> twine                         - \n",
      "2022-10-25 11:08:09> twine>                        - \n",
      "2022-10-25 11:08:09> watchdog                      - 2.1.9\n",
      "2022-10-25 11:08:09> wget                          - 3.2\n",
      "2022-10-25 11:08:09> \n",
      "2022-10-25 11:08:09> Check for settings not completely implemented yet.\n",
      "2022-10-25 11:08:09> Size check:\n",
      "2022-10-25 11:08:09> Size of job (raw files) 0.07 Gb\n",
      "2022-10-25 11:08:09> Required disk space for F: - 0.07 Gb, Available 369.11 Gb OK.\n",
      "2022-10-25 11:08:09> \n",
      "2022-10-25 11:08:09> Workflow Settings:\n",
      "2022-10-25 11:08:09> align              - False\n",
      "2022-10-25 11:08:09> continue_runs      - False\n",
      "2022-10-25 11:08:09> create_database    - True\n",
      "2022-10-25 11:08:09> find_features      - True\n",
      "2022-10-25 11:08:09> import_raw_data    - True\n",
      "2022-10-25 11:08:09> lfq_quantification - True\n",
      "2022-10-25 11:08:09> match              - False\n",
      "2022-10-25 11:08:09> recalibrate_data   - True\n",
      "2022-10-25 11:08:09> search_data        - True\n",
      "2022-10-25 11:08:09> \n",
      "2022-10-25 11:08:09> Checking if files exist.\n",
      "2022-10-25 11:08:09> FASTA Files have a total size of 0.000 Mb\n",
      "2022-10-25 11:08:09> Results path was not set. Setting to F:\\temp_test_run\\results.hdf\n",
      "2022-10-25 11:08:09> Shortnames not set. Setting to filename.\n",
      "2022-10-25 11:08:09> Sample group not set. Setting to shortname.\n",
      "2022-10-25 11:08:09> Fraction not set. Setting to 1.\n",
      "2022-10-25 11:08:09> No database path set and save_db option checked. Using default path F:\\temp_test_run\\database.hdf\n",
      "2022-10-25 11:08:09> Deleted F:/temp_test_run/thermo_IRT.ms_data.hdf\n",
      "2022-10-25 11:08:09> Workflow has 11 steps\n",
      "2022-10-25 11:08:09> ==== create_database ====\n",
      "2022-10-25 11:08:09> Database path set and exists. Using F:\\temp_test_run\\database.hdf as database.\n",
      "2022-10-25 11:08:09> ==== import_raw_data ====\n"
     ]
    },
    {
     "name": "stderr",
     "output_type": "stream",
     "text": [
      "\r",
      "  0%|                                                                                            | 0/1 [00:00<?, ?it/s]"
     ]
    },
    {
     "name": "stdout",
     "output_type": "stream",
     "text": [
      "2022-10-25 11:08:09> Processing 1 files for step raw_conversion\n",
      "2022-10-25 11:08:09> File F:/temp_test_run/thermo_IRT has extension .raw - converting from Thermo.\n",
      "2022-10-25 11:08:14> File conversion complete. Extracted 2,603 precursors.\n",
      "2022-10-25 11:08:15> File conversion of file F:/temp_test_run/thermo_IRT.raw complete.\n"
     ]
    },
    {
     "name": "stderr",
     "output_type": "stream",
     "text": [
      "\r",
      "  0%|                                                                                            | 0/1 [00:05<?, ?it/s]"
     ]
    },
    {
     "name": "stdout",
     "output_type": "stream",
     "text": [
      "2022-10-25 11:08:15> ==== feature_finding ====\n"
     ]
    },
    {
     "name": "stderr",
     "output_type": "stream",
     "text": [
      "\n",
      "  0%|                                                                                            | 0/1 [00:00<?, ?it/s]"
     ]
    },
    {
     "name": "stdout",
     "output_type": "stream",
     "text": [
      "2022-10-25 11:08:19> Processing 1 files for step find_features\n",
      "2022-10-25 11:08:19> No *.hdf file with features found for F:/temp_test_run/thermo_IRT.ms_data.hdf. Adding to feature finding list.\n",
      "2022-10-25 11:08:19> Feature finding on F:/temp_test_run/thermo_IRT.raw\n",
      "2022-10-25 11:08:19> Hill extraction with centroid_tol 1 and max_gap 2\n",
      "2022-10-25 11:08:23> Number of hills 103,133, len = 10.84\n",
      "2022-10-25 11:08:23> Repeating hill extraction with centroid_tol 1.27\n",
      "2022-10-25 11:08:24> Number of hills 102,643, len = 13.00\n",
      "2022-10-25 11:08:26> After duplicate removal of hills 62,161\n",
      "2022-10-25 11:08:33> After split hill_ptrs 68,278\n",
      "2022-10-25 11:08:34> After filter hill_ptrs 67,518\n",
      "2022-10-25 11:08:46> Extracting hill stats complete\n",
      "2022-10-25 11:08:49> Found 4,869 pre isotope patterns.\n",
      "2022-10-25 11:09:06> Extracted 4,262 isotope patterns.\n",
      "2022-10-25 11:09:15> Report complete.\n",
      "2022-10-25 11:09:15> Matching features to query data.\n",
      "2022-10-25 11:09:15> Saving feature table.\n",
      "2022-10-25 11:09:16> Feature table saved to F:/temp_test_run/thermo_IRT.ms_data.hdf\n",
      "2022-10-25 11:09:16> Saving features.\n",
      "2022-10-25 11:09:16> Feature finding of file F:/temp_test_run/thermo_IRT.raw complete.\n"
     ]
    },
    {
     "name": "stderr",
     "output_type": "stream",
     "text": [
      "\r",
      "  0%|                                                                                            | 0/1 [00:56<?, ?it/s]"
     ]
    },
    {
     "name": "stdout",
     "output_type": "stream",
     "text": [
      "2022-10-25 11:09:16> ==== search_data ====\n"
     ]
    },
    {
     "name": "stderr",
     "output_type": "stream",
     "text": [
      "\n",
      "  0%|                                                                                            | 0/1 [00:00<?, ?it/s]"
     ]
    },
    {
     "name": "stdout",
     "output_type": "stream",
     "text": [
      "2022-10-25 11:09:16> Starting first search.\n",
      "2022-10-25 11:09:16> Processing 1 files for step search_db\n",
      "2022-10-25 11:09:16> Calibrating fragments\n",
      "2022-10-25 11:09:21> Performing search on 2,039 query and 5,045,760 db entries with frag_tol = 50.00 and prec_tol = 20.00.\n",
      "2022-10-25 11:09:23> Found 67 psms.\n",
      "2022-10-25 11:09:23> Extracting columns for scoring.\n",
      "2022-10-25 11:09:33> Extracted columns from 67 spectra.\n",
      "2022-10-25 11:09:33> Saving first_search results to F:/temp_test_run/thermo_IRT.ms_data.hdf\n",
      "2022-10-25 11:09:33> Search of file F:/temp_test_run/thermo_IRT.raw complete.\n",
      "2022-10-25 11:09:50> First search complete.\n"
     ]
    },
    {
     "name": "stderr",
     "output_type": "stream",
     "text": [
      "\r",
      "  0%|                                                                                            | 0/1 [00:33<?, ?it/s]"
     ]
    },
    {
     "name": "stdout",
     "output_type": "stream",
     "text": [
      "2022-10-25 11:09:50> ==== recalibrate_data ====\n"
     ]
    },
    {
     "name": "stderr",
     "output_type": "stream",
     "text": [
      "\n",
      "  0%|                                                                                            | 0/1 [00:00<?, ?it/s]"
     ]
    },
    {
     "name": "stdout",
     "output_type": "stream",
     "text": [
      "2022-10-25 11:09:50> Processing 1 files for step calibrate_hdf\n",
      "2022-10-25 11:09:50> Recalibrating file F:/temp_test_run/thermo_IRT.raw.\n",
      "2022-10-25 11:09:50> Scoring using generic score\n",
      "2022-10-25 11:09:50> 4 target (0 decoy) of 38 PSMs. FDR 0.000000 for a cutoff of 13.01 (set FDR was 0.01).\n",
      "2022-10-25 11:09:50> Precursor mass calibration for file F:/temp_test_run/thermo_IRT.raw.\n",
      "2022-10-25 11:09:50> Not enough data points present. Skipping recalibration.\n",
      "2022-10-25 11:09:50> Precursor calibration of file F:/temp_test_run/thermo_IRT.ms_data.hdf complete.\n",
      "2022-10-25 11:09:50> Starting fragment calibration.\n",
      "2022-10-25 11:09:50> Calibrating fragments with neighbors\n",
      "2022-10-25 11:09:50> Scoring using generic score\n",
      "2022-10-25 11:09:50> 4 target (0 decoy) of 38 PSMs. FDR 0.000000 for a cutoff of 13.01 (set FDR was 0.01).\n",
      "2022-10-25 11:09:50> Minimum hits for fragments before score 7.03.\n",
      "2022-10-25 11:09:50> Minimum hits for fragments after score 8.64.\n",
      "2022-10-25 11:09:50> Not enough datapoints 40 for fragment calibration. Minimum is set to 400. Skipping fragment calibration.\n",
      "2022-10-25 11:09:50> Fragment calibration of file F:/temp_test_run/thermo_IRT.ms_data.hdf complete.\n"
     ]
    },
    {
     "name": "stderr",
     "output_type": "stream",
     "text": [
      "\r",
      "  0%|                                                                                            | 0/1 [00:00<?, ?it/s]"
     ]
    },
    {
     "name": "stdout",
     "output_type": "stream",
     "text": [
      "2022-10-25 11:09:50> ==== search_data ====\n"
     ]
    },
    {
     "name": "stderr",
     "output_type": "stream",
     "text": [
      "\n",
      "  0%|                                                                                            | 0/1 [00:00<?, ?it/s]"
     ]
    },
    {
     "name": "stdout",
     "output_type": "stream",
     "text": [
      "2022-10-25 11:09:50> Starting second search with DB.\n",
      "2022-10-25 11:09:50> Processing 1 files for step search_db\n",
      "2022-10-25 11:09:50> Found calibrated prec_tol with value 9.59\n",
      "2022-10-25 11:09:50> 'Dataset estimated_max_fragment_ppm does not exist for group / of <HDF_File F:\\\\temp_test_run\\\\thermo_IRT.ms_data.hdf>.'\n",
      "2022-10-25 11:09:51> Performing search on 2,039 query and 5,045,760 db entries with frag_tol = 50.00 and prec_tol = 9.59.\n",
      "2022-10-25 11:09:51> Found 34 psms.\n",
      "2022-10-25 11:09:51> Extracting columns for scoring.\n",
      "2022-10-25 11:09:54> Extracted columns from 34 spectra.\n",
      "2022-10-25 11:09:54> Saving second_search results to F:/temp_test_run/thermo_IRT.ms_data.hdf\n",
      "2022-10-25 11:09:54> Search of file F:/temp_test_run/thermo_IRT.raw complete.\n",
      "2022-10-25 11:10:07> Second search complete.\n"
     ]
    },
    {
     "name": "stderr",
     "output_type": "stream",
     "text": [
      "  0%|                                                                                            | 0/1 [00:17<?, ?it/s]\n"
     ]
    },
    {
     "name": "stdout",
     "output_type": "stream",
     "text": [
      "2022-10-25 11:10:08> ==== score ====\n"
     ]
    },
    {
     "name": "stderr",
     "output_type": "stream",
     "text": [
      "\r",
      "  0%|                                                                                            | 0/1 [00:00<?, ?it/s]"
     ]
    },
    {
     "name": "stdout",
     "output_type": "stream",
     "text": [
      "2022-10-25 11:10:08> Processing 1 files for step score_hdf\n",
      "2022-10-25 11:10:08> Calling score_hdf\n",
      "2022-10-25 11:10:08> Found second search psms for scoring.\n",
      "2022-10-25 11:10:08> 1 target (0 decoy) of 21 PSMs. FDR 0.000000 for a cutoff of 29.85 (set FDR was 0.1).\n",
      "2022-10-25 11:10:08> ML failed. Defaulting to x_tandem score\n",
      "2022-10-25 11:10:08> There are fewer high scoring targets or decoys than required by 'min_train'.\n",
      "2022-10-25 11:10:08> Converting x_tandem score to probabilities\n",
      "2022-10-25 11:10:08> 1 target (0 decoy) of 23 PSMs. FDR 0.000000 for a cutoff of 1.00 (set FDR was 0.01).\n",
      "2022-10-25 11:10:08> Saving identifications to ms_data file.\n",
      "2022-10-25 11:10:09> Saving identifications to ms_data file complete.\n",
      "2022-10-25 11:10:09> Saving identifications to csv file complete.\n",
      "2022-10-25 11:10:09> Filter df with custom score\n",
      "2022-10-25 11:10:09> Global FDR on precursor\n",
      "2022-10-25 11:10:09> 1 target (0 decoy) of 21 PSMs. FDR 0.000000 for a cutoff of 1.00 (set FDR was 0.01).\n",
      "2022-10-25 11:10:09> Global FDR cutoff at 1.000.\n",
      "2022-10-25 11:10:09> FDR on peptides complete. For 0.01 FDR found 1 targets and 0 decoys.\n",
      "2022-10-25 11:10:09> Extracting fragment_ions\n",
      "2022-10-25 11:10:09> Extracting fragment_ions complete.\n",
      "2022-10-25 11:10:09> Exporting peptide_fdr on F:/temp_test_run/thermo_IRT.raw.\n",
      "2022-10-25 11:10:09> Scoring of files F:/temp_test_run/thermo_IRT.raw complete.\n"
     ]
    },
    {
     "name": "stderr",
     "output_type": "stream",
     "text": [
      "\r",
      "  0%|                                                                                            | 0/1 [00:01<?, ?it/s]"
     ]
    },
    {
     "name": "stdout",
     "output_type": "stream",
     "text": [
      "2022-10-25 11:10:09> ==== isobaric_labeling ====\n",
      "2022-10-25 11:10:09> ==== protein_grouping ====\n"
     ]
    },
    {
     "name": "stderr",
     "output_type": "stream",
     "text": [
      "\n",
      "  0%|                                                                                            | 0/1 [00:00<?, ?it/s]"
     ]
    },
    {
     "name": "stdout",
     "output_type": "stream",
     "text": [
      "2022-10-25 11:10:09> Fasta dict with length 20,365, Pept dict with length 5,045,764\n",
      "2022-10-25 11:10:09> Extracting protein groups.\n"
     ]
    },
    {
     "name": "stderr",
     "output_type": "stream",
     "text": [
      "\n",
      "  0%|                                                                                            | 0/1 [00:00<?, ?it/s]\u001b[A\n"
     ]
    },
    {
     "name": "stdout",
     "output_type": "stream",
     "text": [
      "2022-10-25 11:10:10> A total of 1 unique and 0 shared peptides.\n",
      "2022-10-25 11:10:10> A total of 0 ambigious proteins\n",
      "2022-10-25 11:10:10> A total of 0 unique and 0 shared peptides.\n",
      "2022-10-25 11:10:10> A total of 0 ambigious proteins\n",
      "2022-10-25 11:10:10> Global FDR on protein_group\n",
      "2022-10-25 11:10:10> Last q_value 0.000 of dataset is smaller than fdr_level 0.010\n",
      "2022-10-25 11:10:10> 1 target (0 decoy) of 1 PSMs. FDR 0.000000 for a cutoff of 1.00 (set FDR was 0.01).\n",
      "2022-10-25 11:10:10> Global FDR cutoff at 1.000.\n",
      "2022-10-25 11:10:10> FDR on proteins complete. For 0.01 FDR found 1 targets and 0 decoys. A total of 1 proteins found.\n",
      "2022-10-25 11:10:10> Saving complete.\n",
      "2022-10-25 11:10:10> Protein groups complete.\n"
     ]
    },
    {
     "name": "stderr",
     "output_type": "stream",
     "text": [
      "\r",
      "  0%|                                                                                            | 0/1 [00:00<?, ?it/s]"
     ]
    },
    {
     "name": "stdout",
     "output_type": "stream",
     "text": [
      "2022-10-25 11:10:10> ==== quantification ====\n",
      "2022-10-25 11:10:10> Reading protein_fdr for quantification.\n",
      "2022-10-25 11:10:10> Saving protein_groups after delayed normalization to combined_protein_fdr_dn\n",
      "2022-10-25 11:10:10> Complete.\n",
      "2022-10-25 11:10:10> Starting profile extraction.\n"
     ]
    },
    {
     "name": "stderr",
     "output_type": "stream",
     "text": [
      "\n",
      "  0%|                                                                                            | 0/1 [00:00<?, ?it/s]"
     ]
    },
    {
     "name": "stdout",
     "output_type": "stream",
     "text": [
      "2022-10-25 11:10:10> LFQ complete.\n",
      "2022-10-25 11:10:10> Extracting protein_summary\n",
      "2022-10-25 11:10:10> Saved protein_summary of length 1 saved to F:\\temp_test_run\\results_protein_summary.csv\n",
      "2022-10-25 11:10:10> Updating protein_fdr.\n",
      "2022-10-25 11:10:10> Exporting as csv.\n",
      "2022-10-25 11:10:10> Saved df of length 1 saved to F:\\temp_test_run\\results\n"
     ]
    },
    {
     "name": "stderr",
     "output_type": "stream",
     "text": [
      "\r",
      "100%|████████████████████████████████████████████████████████████████████████████████████| 1/1 [00:00<00:00, 10.66it/s]"
     ]
    },
    {
     "name": "stdout",
     "output_type": "stream",
     "text": [
      "2022-10-25 11:10:10> ==== export ====\n"
     ]
    },
    {
     "name": "stderr",
     "output_type": "stream",
     "text": [
      "\n"
     ]
    },
    {
     "name": "stdout",
     "output_type": "stream",
     "text": [
      "2022-10-25 11:10:10> Settings saved to F:\\temp_test_run\\results.yaml\n",
      "2022-10-25 11:10:10> Analysis complete.\n",
      "features centroid_tol 7.0\n",
      "2022-10-25 11:10:10> Logging to C:\\Users\\admin\\alphapept\\logs\\log_20221025111010.txt.\n",
      "2022-10-25 11:10:10> Code location f:\\projects\\alphapept\\alphapept\n",
      "2022-10-25 11:10:10> Python location C:\\Users\\admin\\.conda\\envs\\alphapept_stable\\python.exe\n",
      "2022-10-25 11:10:10> Platform information:\n",
      "2022-10-25 11:10:10> system     - Windows\n",
      "2022-10-25 11:10:10> release    - 10\n",
      "2022-10-25 11:10:10> version    - 10.0.19044\n",
      "2022-10-25 11:10:10> machine    - AMD64\n",
      "2022-10-25 11:10:10> processor  - Intel64 Family 6 Model 85 Stepping 4, GenuineIntel\n",
      "2022-10-25 11:10:10> cpu count  - 24\n",
      "2022-10-25 11:10:10> ram memory - 118.7/127.7 Gb (available/total)\n",
      "2022-10-25 11:10:10> processor  - Intel64 Family 6 Model 85 Stepping 4, GenuineIntel\n",
      "2022-10-25 11:10:10> Python information:\n",
      "2022-10-25 11:10:10> SQLAlchemy                    - 1.4.39\n",
      "2022-10-25 11:10:10> alphapept                     - 0.4.9\n",
      "2022-10-25 11:10:10> biopython                     - 1.79\n",
      "2022-10-25 11:10:10> bumpversion                   - \n",
      "2022-10-25 11:10:10> bumpversion>                  - \n",
      "2022-10-25 11:10:10> click                         - 8.1.3\n",
      "2022-10-25 11:10:10> click>                        - \n",
      "2022-10-25 11:10:10> fastcore                      - 1.5.26\n",
      "2022-10-25 11:10:10> h5py                          - 3.7.0\n",
      "2022-10-25 11:10:10> jupyter                       - \n",
      "2022-10-25 11:10:10> jupyter>                      - \n",
      "2022-10-25 11:10:10> jupyter_contrib_nbextensions  - \n",
      "2022-10-25 11:10:10> jupyter_contrib_nbextensions> - \n",
      "2022-10-25 11:10:10> matplotlib                    - 3.6.0\n",
      "2022-10-25 11:10:10> nbdev                         - \n",
      "2022-10-25 11:10:10> nbdev>                        - \n",
      "2022-10-25 11:10:10> networkx                      - 2.8.6\n",
      "2022-10-25 11:10:10> numba                         - 0.55.2\n",
      "2022-10-25 11:10:10> numpy                         - 1.20.3\n",
      "2022-10-25 11:10:10> pandas                        - 1.4.3\n",
      "2022-10-25 11:10:10> plotly_express                - 0.4.1\n",
      "2022-10-25 11:10:10> psutil                        - 5.9.1\n",
      "2022-10-25 11:10:10> pyinstaller                   - \n",
      "2022-10-25 11:10:10> pyteomics                     - 4.5.5\n",
      "2022-10-25 11:10:10> python                        - 3.8.13\n",
      "2022-10-25 11:10:10> pythonnet                     - 2.5.2\n",
      "2022-10-25 11:10:10> pywin32                       - 225\n",
      "2022-10-25 11:10:10> pyyaml                        - 6.0\n",
      "2022-10-25 11:10:10> scikit-learn                  - 1.1.2\n",
      "2022-10-25 11:10:10> scipy                         - 1.8.1\n",
      "2022-10-25 11:10:10> streamlit                     - 1.13.0\n",
      "2022-10-25 11:10:10> streamlit-aggrid              - 0.2.3.post2\n",
      "2022-10-25 11:10:10> streamlit>                    - \n",
      "2022-10-25 11:10:10> tables                        - 3.6.1\n",
      "2022-10-25 11:10:10> tqdm                          - 4.64.0\n",
      "2022-10-25 11:10:10> twine                         - \n",
      "2022-10-25 11:10:10> twine>                        - \n",
      "2022-10-25 11:10:10> watchdog                      - 2.1.9\n",
      "2022-10-25 11:10:10> wget                          - 3.2\n",
      "2022-10-25 11:10:10> \n",
      "2022-10-25 11:10:10> Check for settings not completely implemented yet.\n",
      "2022-10-25 11:10:10> Size check:\n",
      "2022-10-25 11:10:10> Size of job (raw files) 0.07 Gb\n",
      "2022-10-25 11:10:10> Required disk space for F: - 0.07 Gb, Available 369.11 Gb OK.\n",
      "2022-10-25 11:10:10> \n",
      "2022-10-25 11:10:10> Workflow Settings:\n",
      "2022-10-25 11:10:10> align              - False\n",
      "2022-10-25 11:10:10> continue_runs      - False\n",
      "2022-10-25 11:10:10> create_database    - True\n",
      "2022-10-25 11:10:10> find_features      - True\n",
      "2022-10-25 11:10:10> import_raw_data    - True\n",
      "2022-10-25 11:10:10> lfq_quantification - True\n",
      "2022-10-25 11:10:10> match              - False\n",
      "2022-10-25 11:10:10> recalibrate_data   - True\n",
      "2022-10-25 11:10:10> search_data        - True\n",
      "2022-10-25 11:10:10> \n",
      "2022-10-25 11:10:10> Checking if files exist.\n",
      "2022-10-25 11:10:10> FASTA Files have a total size of 0.000 Mb\n",
      "2022-10-25 11:10:10> Results path was not set. Setting to F:\\temp_test_run\\results.hdf\n",
      "2022-10-25 11:10:10> Shortnames not set. Setting to filename.\n",
      "2022-10-25 11:10:10> Sample group not set. Setting to shortname.\n",
      "2022-10-25 11:10:10> Fraction not set. Setting to 1.\n",
      "2022-10-25 11:10:10> No database path set and save_db option checked. Using default path F:\\temp_test_run\\database.hdf\n",
      "2022-10-25 11:10:10> Deleted F:/temp_test_run/thermo_IRT.ms_data.hdf\n",
      "2022-10-25 11:10:10> Workflow has 11 steps\n",
      "2022-10-25 11:10:10> ==== create_database ====\n",
      "2022-10-25 11:10:10> Database path set and exists. Using F:\\temp_test_run\\database.hdf as database.\n",
      "2022-10-25 11:10:10> ==== import_raw_data ====\n"
     ]
    },
    {
     "name": "stderr",
     "output_type": "stream",
     "text": [
      "\r",
      "  0%|                                                                                            | 0/1 [00:00<?, ?it/s]"
     ]
    },
    {
     "name": "stdout",
     "output_type": "stream",
     "text": [
      "2022-10-25 11:10:10> Processing 1 files for step raw_conversion\n",
      "2022-10-25 11:10:11> File F:/temp_test_run/thermo_IRT has extension .raw - converting from Thermo.\n",
      "2022-10-25 11:10:13> File conversion complete. Extracted 2,603 precursors.\n",
      "2022-10-25 11:10:14> File conversion of file F:/temp_test_run/thermo_IRT.raw complete.\n"
     ]
    },
    {
     "name": "stderr",
     "output_type": "stream",
     "text": [
      "\r",
      "  0%|                                                                                            | 0/1 [00:03<?, ?it/s]"
     ]
    },
    {
     "name": "stdout",
     "output_type": "stream",
     "text": [
      "2022-10-25 11:10:14> ==== feature_finding ====\n"
     ]
    },
    {
     "name": "stderr",
     "output_type": "stream",
     "text": [
      "\n",
      "  0%|                                                                                            | 0/1 [00:00<?, ?it/s]"
     ]
    },
    {
     "name": "stdout",
     "output_type": "stream",
     "text": [
      "2022-10-25 11:10:14> Processing 1 files for step find_features\n",
      "2022-10-25 11:10:14> No *.hdf file with features found for F:/temp_test_run/thermo_IRT.ms_data.hdf. Adding to feature finding list.\n",
      "2022-10-25 11:10:14> Feature finding on F:/temp_test_run/thermo_IRT.raw\n",
      "2022-10-25 11:10:14> Hill extraction with centroid_tol 7 and max_gap 2\n",
      "2022-10-25 11:10:14> Number of hills 46,900, len = 20.43\n",
      "2022-10-25 11:10:14> Repeating hill extraction with centroid_tol 4.88\n",
      "2022-10-25 11:10:15> Number of hills 54,163, len = 21.57\n",
      "2022-10-25 11:10:15> After duplicate removal of hills 44,125\n",
      "2022-10-25 11:10:15> After split hill_ptrs 61,710\n",
      "2022-10-25 11:10:15> After filter hill_ptrs 60,197\n",
      "2022-10-25 11:10:21> Extracting hill stats complete\n",
      "2022-10-25 11:10:21> Found 6,999 pre isotope patterns.\n",
      "2022-10-25 11:10:22> Extracted 6,405 isotope patterns.\n",
      "2022-10-25 11:10:22> Report complete.\n",
      "2022-10-25 11:10:22> Matching features to query data.\n",
      "2022-10-25 11:10:22> Saving feature table.\n",
      "2022-10-25 11:10:22> Feature table saved to F:/temp_test_run/thermo_IRT.ms_data.hdf\n",
      "2022-10-25 11:10:22> Saving features.\n",
      "2022-10-25 11:10:22> Feature finding of file F:/temp_test_run/thermo_IRT.raw complete.\n"
     ]
    },
    {
     "name": "stderr",
     "output_type": "stream",
     "text": [
      "\r",
      "  0%|                                                                                            | 0/1 [00:08<?, ?it/s]"
     ]
    },
    {
     "name": "stdout",
     "output_type": "stream",
     "text": [
      "2022-10-25 11:10:22> ==== search_data ====\n"
     ]
    },
    {
     "name": "stderr",
     "output_type": "stream",
     "text": [
      "\n",
      "  0%|                                                                                            | 0/1 [00:00<?, ?it/s]"
     ]
    },
    {
     "name": "stdout",
     "output_type": "stream",
     "text": [
      "2022-10-25 11:10:22> Starting first search.\n",
      "2022-10-25 11:10:22> Processing 1 files for step search_db\n",
      "2022-10-25 11:10:22> Calibrating fragments\n",
      "2022-10-25 11:10:27> Performing search on 2,959 query and 5,045,760 db entries with frag_tol = 50.00 and prec_tol = 20.00.\n",
      "2022-10-25 11:10:27> Found 106 psms.\n",
      "2022-10-25 11:10:27> Extracting columns for scoring.\n",
      "2022-10-25 11:10:30> Extracted columns from 106 spectra.\n",
      "2022-10-25 11:10:30> Saving first_search results to F:/temp_test_run/thermo_IRT.ms_data.hdf\n",
      "2022-10-25 11:10:31> Search of file F:/temp_test_run/thermo_IRT.raw complete.\n",
      "2022-10-25 11:10:46> First search complete.\n"
     ]
    },
    {
     "name": "stderr",
     "output_type": "stream",
     "text": [
      "\r",
      "  0%|                                                                                            | 0/1 [00:23<?, ?it/s]"
     ]
    },
    {
     "name": "stdout",
     "output_type": "stream",
     "text": [
      "2022-10-25 11:10:46> ==== recalibrate_data ====\n"
     ]
    },
    {
     "name": "stderr",
     "output_type": "stream",
     "text": [
      "\n",
      "  0%|                                                                                            | 0/1 [00:00<?, ?it/s]"
     ]
    },
    {
     "name": "stdout",
     "output_type": "stream",
     "text": [
      "2022-10-25 11:10:46> Processing 1 files for step calibrate_hdf\n",
      "2022-10-25 11:10:46> Recalibrating file F:/temp_test_run/thermo_IRT.raw.\n",
      "2022-10-25 11:10:46> Scoring using generic score\n",
      "2022-10-25 11:10:46> 8 target (0 decoy) of 54 PSMs. FDR 0.000000 for a cutoff of 10.81 (set FDR was 0.01).\n",
      "2022-10-25 11:10:46> Precursor mass calibration for file F:/temp_test_run/thermo_IRT.raw.\n",
      "2022-10-25 11:10:46> Not enough data points present. Skipping recalibration.\n",
      "2022-10-25 11:10:46> Precursor calibration of file F:/temp_test_run/thermo_IRT.ms_data.hdf complete.\n",
      "2022-10-25 11:10:46> Starting fragment calibration.\n",
      "2022-10-25 11:10:46> Calibrating fragments with neighbors\n",
      "2022-10-25 11:10:46> Scoring using generic score\n",
      "2022-10-25 11:10:46> 8 target (0 decoy) of 54 PSMs. FDR 0.000000 for a cutoff of 10.81 (set FDR was 0.01).\n",
      "2022-10-25 11:10:46> Minimum hits for fragments before score 7.01.\n",
      "2022-10-25 11:10:46> Minimum hits for fragments after score 7.31.\n",
      "2022-10-25 11:10:46> Not enough datapoints 75 for fragment calibration. Minimum is set to 400. Skipping fragment calibration.\n",
      "2022-10-25 11:10:46> Fragment calibration of file F:/temp_test_run/thermo_IRT.ms_data.hdf complete.\n"
     ]
    },
    {
     "name": "stderr",
     "output_type": "stream",
     "text": [
      "\r",
      "  0%|                                                                                            | 0/1 [00:00<?, ?it/s]"
     ]
    },
    {
     "name": "stdout",
     "output_type": "stream",
     "text": [
      "2022-10-25 11:10:46> ==== search_data ====\n"
     ]
    },
    {
     "name": "stderr",
     "output_type": "stream",
     "text": [
      "\n",
      "  0%|                                                                                            | 0/1 [00:00<?, ?it/s]"
     ]
    },
    {
     "name": "stdout",
     "output_type": "stream",
     "text": [
      "2022-10-25 11:10:46> Starting second search with DB.\n",
      "2022-10-25 11:10:46> Processing 1 files for step search_db\n",
      "2022-10-25 11:10:46> Found calibrated prec_tol with value 8.21\n",
      "2022-10-25 11:10:46> 'Dataset estimated_max_fragment_ppm does not exist for group / of <HDF_File F:\\\\temp_test_run\\\\thermo_IRT.ms_data.hdf>.'\n",
      "2022-10-25 11:10:46> Performing search on 2,959 query and 5,045,760 db entries with frag_tol = 50.00 and prec_tol = 8.21.\n",
      "2022-10-25 11:10:46> Found 51 psms.\n",
      "2022-10-25 11:10:46> Extracting columns for scoring.\n",
      "2022-10-25 11:10:50> Extracted columns from 51 spectra.\n",
      "2022-10-25 11:10:50> Saving second_search results to F:/temp_test_run/thermo_IRT.ms_data.hdf\n",
      "2022-10-25 11:10:50> Search of file F:/temp_test_run/thermo_IRT.raw complete.\n",
      "2022-10-25 11:11:04> Second search complete.\n"
     ]
    },
    {
     "name": "stderr",
     "output_type": "stream",
     "text": [
      "  0%|                                                                                            | 0/1 [00:18<?, ?it/s]\n"
     ]
    },
    {
     "name": "stdout",
     "output_type": "stream",
     "text": [
      "2022-10-25 11:11:04> ==== score ====\n"
     ]
    },
    {
     "name": "stderr",
     "output_type": "stream",
     "text": [
      "\r",
      "  0%|                                                                                            | 0/1 [00:00<?, ?it/s]"
     ]
    },
    {
     "name": "stdout",
     "output_type": "stream",
     "text": [
      "2022-10-25 11:11:04> Processing 1 files for step score_hdf\n",
      "2022-10-25 11:11:04> Calling score_hdf\n",
      "2022-10-25 11:11:04> Found second search psms for scoring.\n",
      "2022-10-25 11:11:04> 5 target (0 decoy) of 32 PSMs. FDR 0.000000 for a cutoff of 23.74 (set FDR was 0.1).\n",
      "2022-10-25 11:11:04> ML failed. Defaulting to x_tandem score\n",
      "2022-10-25 11:11:04> There are fewer high scoring targets or decoys than required by 'min_train'.\n",
      "2022-10-25 11:11:04> Converting x_tandem score to probabilities\n",
      "2022-10-25 11:11:04> 5 target (0 decoy) of 34 PSMs. FDR 0.000000 for a cutoff of 0.90 (set FDR was 0.01).\n",
      "2022-10-25 11:11:04> Saving identifications to ms_data file.\n",
      "2022-10-25 11:11:05> Saving identifications to ms_data file complete.\n",
      "2022-10-25 11:11:05> Saving identifications to csv file complete.\n",
      "2022-10-25 11:11:05> Filter df with custom score\n",
      "2022-10-25 11:11:05> Global FDR on precursor\n",
      "2022-10-25 11:11:05> 5 target (0 decoy) of 32 PSMs. FDR 0.000000 for a cutoff of 0.90 (set FDR was 0.01).\n",
      "2022-10-25 11:11:05> Global FDR cutoff at 0.902.\n",
      "2022-10-25 11:11:05> FDR on peptides complete. For 0.01 FDR found 5 targets and 0 decoys.\n",
      "2022-10-25 11:11:05> Extracting fragment_ions\n",
      "2022-10-25 11:11:05> Extracting fragment_ions complete.\n",
      "2022-10-25 11:11:05> Exporting peptide_fdr on F:/temp_test_run/thermo_IRT.raw.\n",
      "2022-10-25 11:11:05> Scoring of files F:/temp_test_run/thermo_IRT.raw complete.\n"
     ]
    },
    {
     "name": "stderr",
     "output_type": "stream",
     "text": [
      "\r",
      "  0%|                                                                                            | 0/1 [00:00<?, ?it/s]"
     ]
    },
    {
     "name": "stdout",
     "output_type": "stream",
     "text": [
      "2022-10-25 11:11:05> ==== isobaric_labeling ====\n",
      "2022-10-25 11:11:05> ==== protein_grouping ====\n"
     ]
    },
    {
     "name": "stderr",
     "output_type": "stream",
     "text": [
      "\n",
      "  0%|                                                                                            | 0/1 [00:00<?, ?it/s]"
     ]
    },
    {
     "name": "stdout",
     "output_type": "stream",
     "text": [
      "2022-10-25 11:11:05> Fasta dict with length 20,365, Pept dict with length 5,045,764\n",
      "2022-10-25 11:11:05> Extracting protein groups.\n"
     ]
    },
    {
     "name": "stderr",
     "output_type": "stream",
     "text": [
      "\n",
      "  0%|                                                                                            | 0/1 [00:00<?, ?it/s]\u001b[A"
     ]
    },
    {
     "name": "stdout",
     "output_type": "stream",
     "text": [
      "2022-10-25 11:11:05> A total of 5 unique and 0 shared peptides.\n",
      "2022-10-25 11:11:05> A total of 0 ambigious proteins\n",
      "2022-10-25 11:11:05> A total of 0 unique and 0 shared peptides.\n",
      "2022-10-25 11:11:05> A total of 0 ambigious proteins\n",
      "2022-10-25 11:11:05> Global FDR on protein_group\n",
      "2022-10-25 11:11:05> Last q_value 0.000 of dataset is smaller than fdr_level 0.010\n",
      "2022-10-25 11:11:05> 4 target (0 decoy) of 4 PSMs. FDR 0.000000 for a cutoff of 0.90 (set FDR was 0.01).\n",
      "2022-10-25 11:11:05> Global FDR cutoff at 0.902.\n",
      "2022-10-25 11:11:05> FDR on proteins complete. For 0.01 FDR found 5 targets and 0 decoys. A total of 4 proteins found.\n",
      "2022-10-25 11:11:06> Saving complete.\n",
      "2022-10-25 11:11:06> Protein groups complete.\n"
     ]
    },
    {
     "name": "stderr",
     "output_type": "stream",
     "text": [
      "\n",
      "  0%|                                                                                            | 0/1 [00:00<?, ?it/s]"
     ]
    },
    {
     "name": "stdout",
     "output_type": "stream",
     "text": [
      "2022-10-25 11:11:06> ==== quantification ====\n",
      "2022-10-25 11:11:06> Reading protein_fdr for quantification.\n",
      "2022-10-25 11:11:06> Saving protein_groups after delayed normalization to combined_protein_fdr_dn\n"
     ]
    },
    {
     "name": "stderr",
     "output_type": "stream",
     "text": [
      "\n"
     ]
    },
    {
     "name": "stdout",
     "output_type": "stream",
     "text": [
      "2022-10-25 11:11:06> Complete.\n",
      "2022-10-25 11:11:06> Starting profile extraction.\n"
     ]
    },
    {
     "name": "stderr",
     "output_type": "stream",
     "text": [
      "\r",
      "  0%|                                                                                            | 0/1 [00:00<?, ?it/s]"
     ]
    },
    {
     "name": "stdout",
     "output_type": "stream",
     "text": [
      "2022-10-25 11:11:06> LFQ complete.\n",
      "2022-10-25 11:11:06> Extracting protein_summary\n",
      "2022-10-25 11:11:06> Saved protein_summary of length 4 saved to F:\\temp_test_run\\results_protein_summary.csv\n",
      "2022-10-25 11:11:06> Updating protein_fdr.\n",
      "2022-10-25 11:11:06> Exporting as csv.\n",
      "2022-10-25 11:11:06> Saved df of length 5 saved to F:\\temp_test_run\\results\n"
     ]
    },
    {
     "name": "stderr",
     "output_type": "stream",
     "text": [
      "\r",
      "100%|████████████████████████████████████████████████████████████████████████████████████| 1/1 [00:00<00:00, 11.20it/s]"
     ]
    },
    {
     "name": "stdout",
     "output_type": "stream",
     "text": [
      "2022-10-25 11:11:06> ==== export ====\n"
     ]
    },
    {
     "name": "stderr",
     "output_type": "stream",
     "text": [
      "\n"
     ]
    },
    {
     "name": "stdout",
     "output_type": "stream",
     "text": [
      "2022-10-25 11:11:06> Settings saved to F:\\temp_test_run\\results.yaml\n",
      "2022-10-25 11:11:06> Analysis complete.\n",
      "features centroid_tol 13.0\n",
      "2022-10-25 11:11:06> Logging to C:\\Users\\admin\\alphapept\\logs\\log_20221025111106.txt.\n",
      "2022-10-25 11:11:06> Code location f:\\projects\\alphapept\\alphapept\n",
      "2022-10-25 11:11:06> Python location C:\\Users\\admin\\.conda\\envs\\alphapept_stable\\python.exe\n",
      "2022-10-25 11:11:06> Platform information:\n",
      "2022-10-25 11:11:06> system     - Windows\n",
      "2022-10-25 11:11:06> release    - 10\n",
      "2022-10-25 11:11:06> version    - 10.0.19044\n",
      "2022-10-25 11:11:06> machine    - AMD64\n",
      "2022-10-25 11:11:06> processor  - Intel64 Family 6 Model 85 Stepping 4, GenuineIntel\n",
      "2022-10-25 11:11:06> cpu count  - 24\n",
      "2022-10-25 11:11:06> ram memory - 118.7/127.7 Gb (available/total)\n",
      "2022-10-25 11:11:06> processor  - Intel64 Family 6 Model 85 Stepping 4, GenuineIntel\n",
      "2022-10-25 11:11:06> Python information:\n",
      "2022-10-25 11:11:06> SQLAlchemy                    - 1.4.39\n",
      "2022-10-25 11:11:06> alphapept                     - 0.4.9\n",
      "2022-10-25 11:11:06> biopython                     - 1.79\n",
      "2022-10-25 11:11:06> bumpversion                   - \n",
      "2022-10-25 11:11:06> bumpversion>                  - \n",
      "2022-10-25 11:11:06> click                         - 8.1.3\n",
      "2022-10-25 11:11:06> click>                        - \n",
      "2022-10-25 11:11:06> fastcore                      - 1.5.26\n",
      "2022-10-25 11:11:06> h5py                          - 3.7.0\n",
      "2022-10-25 11:11:06> jupyter                       - \n",
      "2022-10-25 11:11:06> jupyter>                      - \n",
      "2022-10-25 11:11:06> jupyter_contrib_nbextensions  - \n",
      "2022-10-25 11:11:06> jupyter_contrib_nbextensions> - \n",
      "2022-10-25 11:11:06> matplotlib                    - 3.6.0\n",
      "2022-10-25 11:11:06> nbdev                         - \n",
      "2022-10-25 11:11:06> nbdev>                        - \n",
      "2022-10-25 11:11:06> networkx                      - 2.8.6\n",
      "2022-10-25 11:11:06> numba                         - 0.55.2\n",
      "2022-10-25 11:11:06> numpy                         - 1.20.3\n",
      "2022-10-25 11:11:06> pandas                        - 1.4.3\n",
      "2022-10-25 11:11:06> plotly_express                - 0.4.1\n",
      "2022-10-25 11:11:06> psutil                        - 5.9.1\n",
      "2022-10-25 11:11:06> pyinstaller                   - \n",
      "2022-10-25 11:11:06> pyteomics                     - 4.5.5\n",
      "2022-10-25 11:11:06> python                        - 3.8.13\n",
      "2022-10-25 11:11:06> pythonnet                     - 2.5.2\n",
      "2022-10-25 11:11:06> pywin32                       - 225\n",
      "2022-10-25 11:11:06> pyyaml                        - 6.0\n",
      "2022-10-25 11:11:06> scikit-learn                  - 1.1.2\n",
      "2022-10-25 11:11:06> scipy                         - 1.8.1\n",
      "2022-10-25 11:11:06> streamlit                     - 1.13.0\n",
      "2022-10-25 11:11:06> streamlit-aggrid              - 0.2.3.post2\n",
      "2022-10-25 11:11:06> streamlit>                    - \n",
      "2022-10-25 11:11:06> tables                        - 3.6.1\n",
      "2022-10-25 11:11:06> tqdm                          - 4.64.0\n",
      "2022-10-25 11:11:06> twine                         - \n",
      "2022-10-25 11:11:06> twine>                        - \n",
      "2022-10-25 11:11:06> watchdog                      - 2.1.9\n",
      "2022-10-25 11:11:06> wget                          - 3.2\n",
      "2022-10-25 11:11:06> \n",
      "2022-10-25 11:11:06> Check for settings not completely implemented yet.\n",
      "2022-10-25 11:11:06> Size check:\n",
      "2022-10-25 11:11:06> Size of job (raw files) 0.07 Gb\n",
      "2022-10-25 11:11:06> Required disk space for F: - 0.07 Gb, Available 369.10 Gb OK.\n",
      "2022-10-25 11:11:06> \n",
      "2022-10-25 11:11:06> Workflow Settings:\n",
      "2022-10-25 11:11:06> align              - False\n",
      "2022-10-25 11:11:06> continue_runs      - False\n",
      "2022-10-25 11:11:06> create_database    - True\n",
      "2022-10-25 11:11:06> find_features      - True\n",
      "2022-10-25 11:11:06> import_raw_data    - True\n",
      "2022-10-25 11:11:06> lfq_quantification - True\n",
      "2022-10-25 11:11:06> match              - False\n",
      "2022-10-25 11:11:06> recalibrate_data   - True\n",
      "2022-10-25 11:11:06> search_data        - True\n",
      "2022-10-25 11:11:06> \n",
      "2022-10-25 11:11:06> Checking if files exist.\n",
      "2022-10-25 11:11:06> FASTA Files have a total size of 0.000 Mb\n",
      "2022-10-25 11:11:06> Results path was not set. Setting to F:\\temp_test_run\\results.hdf\n",
      "2022-10-25 11:11:06> Shortnames not set. Setting to filename.\n",
      "2022-10-25 11:11:06> Sample group not set. Setting to shortname.\n",
      "2022-10-25 11:11:06> Fraction not set. Setting to 1.\n",
      "2022-10-25 11:11:06> No database path set and save_db option checked. Using default path F:\\temp_test_run\\database.hdf\n",
      "2022-10-25 11:11:06> Deleted F:/temp_test_run/thermo_IRT.ms_data.hdf\n",
      "2022-10-25 11:11:06> Workflow has 11 steps\n",
      "2022-10-25 11:11:06> ==== create_database ====\n",
      "2022-10-25 11:11:06> Database path set and exists. Using F:\\temp_test_run\\database.hdf as database.\n",
      "2022-10-25 11:11:06> ==== import_raw_data ====\n"
     ]
    },
    {
     "name": "stderr",
     "output_type": "stream",
     "text": [
      "\r",
      "  0%|                                                                                            | 0/1 [00:00<?, ?it/s]"
     ]
    },
    {
     "name": "stdout",
     "output_type": "stream",
     "text": [
      "2022-10-25 11:11:06> Processing 1 files for step raw_conversion\n",
      "2022-10-25 11:11:06> File F:/temp_test_run/thermo_IRT has extension .raw - converting from Thermo.\n",
      "2022-10-25 11:11:09> File conversion complete. Extracted 2,603 precursors.\n",
      "2022-10-25 11:11:10> File conversion of file F:/temp_test_run/thermo_IRT.raw complete.\n"
     ]
    },
    {
     "name": "stderr",
     "output_type": "stream",
     "text": [
      "\r",
      "  0%|                                                                                            | 0/1 [00:03<?, ?it/s]"
     ]
    },
    {
     "name": "stdout",
     "output_type": "stream",
     "text": [
      "2022-10-25 11:11:10> ==== feature_finding ====\n"
     ]
    },
    {
     "name": "stderr",
     "output_type": "stream",
     "text": [
      "\n",
      "  0%|                                                                                            | 0/1 [00:00<?, ?it/s]"
     ]
    },
    {
     "name": "stdout",
     "output_type": "stream",
     "text": [
      "2022-10-25 11:11:10> Processing 1 files for step find_features\n",
      "2022-10-25 11:11:10> No *.hdf file with features found for F:/temp_test_run/thermo_IRT.ms_data.hdf. Adding to feature finding list.\n",
      "2022-10-25 11:11:10> Feature finding on F:/temp_test_run/thermo_IRT.raw\n",
      "2022-10-25 11:11:10> Hill extraction with centroid_tol 13 and max_gap 2\n",
      "2022-10-25 11:11:10> Number of hills 43,539, len = 20.02\n",
      "2022-10-25 11:11:10> Repeating hill extraction with centroid_tol 5.76\n",
      "2022-10-25 11:11:11> Number of hills 50,081, len = 20.92\n",
      "2022-10-25 11:11:11> After duplicate removal of hills 43,612\n",
      "2022-10-25 11:11:11> After split hill_ptrs 61,765\n",
      "2022-10-25 11:11:11> After filter hill_ptrs 60,228\n",
      "2022-10-25 11:11:17> Extracting hill stats complete\n",
      "2022-10-25 11:11:17> Found 7,120 pre isotope patterns.\n",
      "2022-10-25 11:11:18> Extracted 6,507 isotope patterns.\n",
      "2022-10-25 11:11:18> Report complete.\n",
      "2022-10-25 11:11:18> Matching features to query data.\n",
      "2022-10-25 11:11:18> Saving feature table.\n",
      "2022-10-25 11:11:18> Feature table saved to F:/temp_test_run/thermo_IRT.ms_data.hdf\n",
      "2022-10-25 11:11:18> Saving features.\n",
      "2022-10-25 11:11:19> Feature finding of file F:/temp_test_run/thermo_IRT.raw complete.\n"
     ]
    },
    {
     "name": "stderr",
     "output_type": "stream",
     "text": [
      "\r",
      "  0%|                                                                                            | 0/1 [00:09<?, ?it/s]"
     ]
    },
    {
     "name": "stdout",
     "output_type": "stream",
     "text": [
      "2022-10-25 11:11:19> ==== search_data ====\n"
     ]
    },
    {
     "name": "stderr",
     "output_type": "stream",
     "text": [
      "\n",
      "  0%|                                                                                            | 0/1 [00:00<?, ?it/s]"
     ]
    },
    {
     "name": "stdout",
     "output_type": "stream",
     "text": [
      "2022-10-25 11:11:19> Starting first search.\n",
      "2022-10-25 11:11:19> Processing 1 files for step search_db\n",
      "2022-10-25 11:11:19> Calibrating fragments\n",
      "2022-10-25 11:11:23> Performing search on 3,022 query and 5,045,760 db entries with frag_tol = 50.00 and prec_tol = 20.00.\n",
      "2022-10-25 11:11:23> Found 97 psms.\n",
      "2022-10-25 11:11:23> Extracting columns for scoring.\n",
      "2022-10-25 11:11:27> Extracted columns from 97 spectra.\n",
      "2022-10-25 11:11:27> Saving first_search results to F:/temp_test_run/thermo_IRT.ms_data.hdf\n",
      "2022-10-25 11:11:27> Search of file F:/temp_test_run/thermo_IRT.raw complete.\n",
      "2022-10-25 11:11:40> First search complete.\n"
     ]
    },
    {
     "name": "stderr",
     "output_type": "stream",
     "text": [
      "\r",
      "  0%|                                                                                            | 0/1 [00:21<?, ?it/s]"
     ]
    },
    {
     "name": "stdout",
     "output_type": "stream",
     "text": [
      "2022-10-25 11:11:40> ==== recalibrate_data ====\n"
     ]
    },
    {
     "name": "stderr",
     "output_type": "stream",
     "text": [
      "\n",
      "  0%|                                                                                            | 0/1 [00:00<?, ?it/s]"
     ]
    },
    {
     "name": "stdout",
     "output_type": "stream",
     "text": [
      "2022-10-25 11:11:40> Processing 1 files for step calibrate_hdf\n",
      "2022-10-25 11:11:40> Recalibrating file F:/temp_test_run/thermo_IRT.raw.\n",
      "2022-10-25 11:11:40> Scoring using generic score\n",
      "2022-10-25 11:11:40> 8 target (0 decoy) of 54 PSMs. FDR 0.000000 for a cutoff of 10.81 (set FDR was 0.01).\n",
      "2022-10-25 11:11:40> Precursor mass calibration for file F:/temp_test_run/thermo_IRT.raw.\n",
      "2022-10-25 11:11:40> Not enough data points present. Skipping recalibration.\n",
      "2022-10-25 11:11:40> Precursor calibration of file F:/temp_test_run/thermo_IRT.ms_data.hdf complete.\n",
      "2022-10-25 11:11:40> Starting fragment calibration.\n",
      "2022-10-25 11:11:40> Calibrating fragments with neighbors\n",
      "2022-10-25 11:11:40> Scoring using generic score\n",
      "2022-10-25 11:11:40> 8 target (0 decoy) of 54 PSMs. FDR 0.000000 for a cutoff of 10.81 (set FDR was 0.01).\n",
      "2022-10-25 11:11:40> Minimum hits for fragments before score 7.01.\n",
      "2022-10-25 11:11:40> Minimum hits for fragments after score 7.31.\n",
      "2022-10-25 11:11:40> Not enough datapoints 74 for fragment calibration. Minimum is set to 400. Skipping fragment calibration.\n",
      "2022-10-25 11:11:40> Fragment calibration of file F:/temp_test_run/thermo_IRT.ms_data.hdf complete.\n"
     ]
    },
    {
     "name": "stderr",
     "output_type": "stream",
     "text": [
      "\r",
      "  0%|                                                                                            | 0/1 [00:00<?, ?it/s]"
     ]
    },
    {
     "name": "stdout",
     "output_type": "stream",
     "text": [
      "2022-10-25 11:11:40> ==== search_data ====\n"
     ]
    },
    {
     "name": "stderr",
     "output_type": "stream",
     "text": [
      "\n",
      "  0%|                                                                                            | 0/1 [00:00<?, ?it/s]"
     ]
    },
    {
     "name": "stdout",
     "output_type": "stream",
     "text": [
      "2022-10-25 11:11:40> Starting second search with DB.\n",
      "2022-10-25 11:11:40> Processing 1 files for step search_db\n",
      "2022-10-25 11:11:40> Found calibrated prec_tol with value 8.19\n",
      "2022-10-25 11:11:40> 'Dataset estimated_max_fragment_ppm does not exist for group / of <HDF_File F:\\\\temp_test_run\\\\thermo_IRT.ms_data.hdf>.'\n",
      "2022-10-25 11:11:40> Performing search on 3,022 query and 5,045,760 db entries with frag_tol = 50.00 and prec_tol = 8.19.\n",
      "2022-10-25 11:11:41> Found 41 psms.\n",
      "2022-10-25 11:11:41> Extracting columns for scoring.\n",
      "2022-10-25 11:11:44> Extracted columns from 41 spectra.\n",
      "2022-10-25 11:11:44> Saving second_search results to F:/temp_test_run/thermo_IRT.ms_data.hdf\n",
      "2022-10-25 11:11:44> Search of file F:/temp_test_run/thermo_IRT.raw complete.\n",
      "2022-10-25 11:11:58> Second search complete.\n"
     ]
    },
    {
     "name": "stderr",
     "output_type": "stream",
     "text": [
      "\r",
      "  0%|                                                                                            | 0/1 [00:17<?, ?it/s]"
     ]
    },
    {
     "name": "stdout",
     "output_type": "stream",
     "text": [
      "2022-10-25 11:11:58> ==== score ====\n"
     ]
    },
    {
     "name": "stderr",
     "output_type": "stream",
     "text": [
      "\n",
      "  0%|                                                                                            | 0/1 [00:00<?, ?it/s]"
     ]
    },
    {
     "name": "stdout",
     "output_type": "stream",
     "text": [
      "2022-10-25 11:11:58> Processing 1 files for step score_hdf\n",
      "2022-10-25 11:11:58> Calling score_hdf\n",
      "2022-10-25 11:11:58> Found second search psms for scoring.\n",
      "2022-10-25 11:11:58> 4 target (0 decoy) of 30 PSMs. FDR 0.000000 for a cutoff of 23.74 (set FDR was 0.1).\n",
      "2022-10-25 11:11:58> ML failed. Defaulting to x_tandem score\n",
      "2022-10-25 11:11:58> There are fewer high scoring targets or decoys than required by 'min_train'.\n",
      "2022-10-25 11:11:58> Converting x_tandem score to probabilities\n",
      "2022-10-25 11:11:58> 4 target (0 decoy) of 31 PSMs. FDR 0.000000 for a cutoff of 0.93 (set FDR was 0.01).\n",
      "2022-10-25 11:11:58> Saving identifications to ms_data file.\n",
      "2022-10-25 11:11:59> Saving identifications to ms_data file complete.\n",
      "2022-10-25 11:11:59> Saving identifications to csv file complete.\n",
      "2022-10-25 11:11:59> Filter df with custom score\n",
      "2022-10-25 11:11:59> Global FDR on precursor\n",
      "2022-10-25 11:11:59> 4 target (0 decoy) of 30 PSMs. FDR 0.000000 for a cutoff of 0.93 (set FDR was 0.01).\n",
      "2022-10-25 11:11:59> Global FDR cutoff at 0.927.\n",
      "2022-10-25 11:11:59> FDR on peptides complete. For 0.01 FDR found 4 targets and 0 decoys.\n",
      "2022-10-25 11:11:59> Extracting fragment_ions\n",
      "2022-10-25 11:11:59> Extracting fragment_ions complete.\n",
      "2022-10-25 11:11:59> Exporting peptide_fdr on F:/temp_test_run/thermo_IRT.raw.\n",
      "2022-10-25 11:11:59> Scoring of files F:/temp_test_run/thermo_IRT.raw complete.\n"
     ]
    },
    {
     "name": "stderr",
     "output_type": "stream",
     "text": [
      "\r",
      "  0%|                                                                                            | 0/1 [00:00<?, ?it/s]"
     ]
    },
    {
     "name": "stdout",
     "output_type": "stream",
     "text": [
      "2022-10-25 11:11:59> ==== isobaric_labeling ====\n",
      "2022-10-25 11:11:59> ==== protein_grouping ====\n"
     ]
    },
    {
     "name": "stderr",
     "output_type": "stream",
     "text": [
      "\n",
      "  0%|                                                                                            | 0/1 [00:00<?, ?it/s]"
     ]
    },
    {
     "name": "stdout",
     "output_type": "stream",
     "text": [
      "2022-10-25 11:11:59> Fasta dict with length 20,365, Pept dict with length 5,045,764\n",
      "2022-10-25 11:11:59> Extracting protein groups.\n"
     ]
    },
    {
     "name": "stderr",
     "output_type": "stream",
     "text": [
      "\n",
      "  0%|                                                                                            | 0/1 [00:00<?, ?it/s]\u001b[A"
     ]
    },
    {
     "name": "stdout",
     "output_type": "stream",
     "text": [
      "2022-10-25 11:11:59> A total of 4 unique and 0 shared peptides.\n",
      "2022-10-25 11:11:59> A total of 0 ambigious proteins\n",
      "2022-10-25 11:11:59> A total of 0 unique and 0 shared peptides.\n",
      "2022-10-25 11:11:59> A total of 0 ambigious proteins\n",
      "2022-10-25 11:11:59> Global FDR on protein_group\n",
      "2022-10-25 11:11:59> Last q_value 0.000 of dataset is smaller than fdr_level 0.010\n",
      "2022-10-25 11:11:59> 3 target (0 decoy) of 3 PSMs. FDR 0.000000 for a cutoff of 0.93 (set FDR was 0.01).\n",
      "2022-10-25 11:11:59> Global FDR cutoff at 0.927.\n",
      "2022-10-25 11:11:59> FDR on proteins complete. For 0.01 FDR found 4 targets and 0 decoys. A total of 3 proteins found.\n",
      "2022-10-25 11:11:59> Saving complete.\n"
     ]
    },
    {
     "name": "stderr",
     "output_type": "stream",
     "text": [
      "\n"
     ]
    },
    {
     "name": "stdout",
     "output_type": "stream",
     "text": [
      "2022-10-25 11:11:59> Protein groups complete.\n"
     ]
    },
    {
     "name": "stderr",
     "output_type": "stream",
     "text": [
      "\r",
      "  0%|                                                                                            | 0/1 [00:00<?, ?it/s]"
     ]
    },
    {
     "name": "stdout",
     "output_type": "stream",
     "text": [
      "2022-10-25 11:11:59> ==== quantification ====\n",
      "2022-10-25 11:11:59> Reading protein_fdr for quantification.\n",
      "2022-10-25 11:11:59> Saving protein_groups after delayed normalization to combined_protein_fdr_dn\n",
      "2022-10-25 11:11:59> Complete.\n",
      "2022-10-25 11:11:59> Starting profile extraction.\n"
     ]
    },
    {
     "name": "stderr",
     "output_type": "stream",
     "text": [
      "\n",
      "  0%|                                                                                            | 0/1 [00:00<?, ?it/s]"
     ]
    },
    {
     "name": "stdout",
     "output_type": "stream",
     "text": [
      "2022-10-25 11:11:59> LFQ complete.\n",
      "2022-10-25 11:11:59> Extracting protein_summary\n",
      "2022-10-25 11:11:59> Saved protein_summary of length 3 saved to F:\\temp_test_run\\results_protein_summary.csv\n",
      "2022-10-25 11:11:59> Updating protein_fdr.\n",
      "2022-10-25 11:12:00> Exporting as csv.\n",
      "2022-10-25 11:12:00> Saved df of length 4 saved to F:\\temp_test_run\\results\n"
     ]
    },
    {
     "name": "stderr",
     "output_type": "stream",
     "text": [
      "\r",
      "100%|████████████████████████████████████████████████████████████████████████████████████| 1/1 [00:00<00:00, 10.66it/s]"
     ]
    },
    {
     "name": "stdout",
     "output_type": "stream",
     "text": [
      "2022-10-25 11:12:00> ==== export ====\n"
     ]
    },
    {
     "name": "stderr",
     "output_type": "stream",
     "text": [
      "\n"
     ]
    },
    {
     "name": "stdout",
     "output_type": "stream",
     "text": [
      "2022-10-25 11:12:00> Settings saved to F:\\temp_test_run\\results.yaml\n",
      "2022-10-25 11:12:00> Analysis complete.\n",
      "features centroid_tol 19.0\n",
      "2022-10-25 11:12:00> Logging to C:\\Users\\admin\\alphapept\\logs\\log_20221025111200.txt.\n",
      "2022-10-25 11:12:00> Code location f:\\projects\\alphapept\\alphapept\n",
      "2022-10-25 11:12:00> Python location C:\\Users\\admin\\.conda\\envs\\alphapept_stable\\python.exe\n",
      "2022-10-25 11:12:00> Platform information:\n",
      "2022-10-25 11:12:00> system     - Windows\n",
      "2022-10-25 11:12:00> release    - 10\n",
      "2022-10-25 11:12:00> version    - 10.0.19044\n",
      "2022-10-25 11:12:00> machine    - AMD64\n",
      "2022-10-25 11:12:00> processor  - Intel64 Family 6 Model 85 Stepping 4, GenuineIntel\n",
      "2022-10-25 11:12:00> cpu count  - 24\n",
      "2022-10-25 11:12:00> ram memory - 118.7/127.7 Gb (available/total)\n",
      "2022-10-25 11:12:00> processor  - Intel64 Family 6 Model 85 Stepping 4, GenuineIntel\n",
      "2022-10-25 11:12:00> Python information:\n",
      "2022-10-25 11:12:00> SQLAlchemy                    - 1.4.39\n",
      "2022-10-25 11:12:00> alphapept                     - 0.4.9\n",
      "2022-10-25 11:12:00> biopython                     - 1.79\n",
      "2022-10-25 11:12:00> bumpversion                   - \n",
      "2022-10-25 11:12:00> bumpversion>                  - \n",
      "2022-10-25 11:12:00> click                         - 8.1.3\n",
      "2022-10-25 11:12:00> click>                        - \n",
      "2022-10-25 11:12:00> fastcore                      - 1.5.26\n",
      "2022-10-25 11:12:00> h5py                          - 3.7.0\n",
      "2022-10-25 11:12:00> jupyter                       - \n",
      "2022-10-25 11:12:00> jupyter>                      - \n",
      "2022-10-25 11:12:00> jupyter_contrib_nbextensions  - \n",
      "2022-10-25 11:12:00> jupyter_contrib_nbextensions> - \n",
      "2022-10-25 11:12:00> matplotlib                    - 3.6.0\n",
      "2022-10-25 11:12:00> nbdev                         - \n",
      "2022-10-25 11:12:00> nbdev>                        - \n",
      "2022-10-25 11:12:00> networkx                      - 2.8.6\n",
      "2022-10-25 11:12:00> numba                         - 0.55.2\n",
      "2022-10-25 11:12:00> numpy                         - 1.20.3\n",
      "2022-10-25 11:12:00> pandas                        - 1.4.3\n",
      "2022-10-25 11:12:00> plotly_express                - 0.4.1\n",
      "2022-10-25 11:12:00> psutil                        - 5.9.1\n",
      "2022-10-25 11:12:00> pyinstaller                   - \n",
      "2022-10-25 11:12:00> pyteomics                     - 4.5.5\n",
      "2022-10-25 11:12:00> python                        - 3.8.13\n",
      "2022-10-25 11:12:00> pythonnet                     - 2.5.2\n",
      "2022-10-25 11:12:00> pywin32                       - 225\n",
      "2022-10-25 11:12:00> pyyaml                        - 6.0\n",
      "2022-10-25 11:12:00> scikit-learn                  - 1.1.2\n",
      "2022-10-25 11:12:00> scipy                         - 1.8.1\n",
      "2022-10-25 11:12:00> streamlit                     - 1.13.0\n",
      "2022-10-25 11:12:00> streamlit-aggrid              - 0.2.3.post2\n",
      "2022-10-25 11:12:00> streamlit>                    - \n",
      "2022-10-25 11:12:00> tables                        - 3.6.1\n",
      "2022-10-25 11:12:00> tqdm                          - 4.64.0\n",
      "2022-10-25 11:12:00> twine                         - \n",
      "2022-10-25 11:12:00> twine>                        - \n",
      "2022-10-25 11:12:00> watchdog                      - 2.1.9\n",
      "2022-10-25 11:12:00> wget                          - 3.2\n",
      "2022-10-25 11:12:00> \n",
      "2022-10-25 11:12:00> Check for settings not completely implemented yet.\n",
      "2022-10-25 11:12:00> Size check:\n",
      "2022-10-25 11:12:00> Size of job (raw files) 0.07 Gb\n",
      "2022-10-25 11:12:00> Required disk space for F: - 0.07 Gb, Available 369.10 Gb OK.\n",
      "2022-10-25 11:12:00> \n",
      "2022-10-25 11:12:00> Workflow Settings:\n",
      "2022-10-25 11:12:00> align              - False\n",
      "2022-10-25 11:12:00> continue_runs      - False\n",
      "2022-10-25 11:12:00> create_database    - True\n",
      "2022-10-25 11:12:00> find_features      - True\n",
      "2022-10-25 11:12:00> import_raw_data    - True\n",
      "2022-10-25 11:12:00> lfq_quantification - True\n",
      "2022-10-25 11:12:00> match              - False\n",
      "2022-10-25 11:12:00> recalibrate_data   - True\n",
      "2022-10-25 11:12:00> search_data        - True\n",
      "2022-10-25 11:12:00> \n",
      "2022-10-25 11:12:00> Checking if files exist.\n",
      "2022-10-25 11:12:00> FASTA Files have a total size of 0.000 Mb\n",
      "2022-10-25 11:12:00> Results path was not set. Setting to F:\\temp_test_run\\results.hdf\n",
      "2022-10-25 11:12:00> Shortnames not set. Setting to filename.\n",
      "2022-10-25 11:12:00> Sample group not set. Setting to shortname.\n",
      "2022-10-25 11:12:00> Fraction not set. Setting to 1.\n",
      "2022-10-25 11:12:00> No database path set and save_db option checked. Using default path F:\\temp_test_run\\database.hdf\n",
      "2022-10-25 11:12:00> Deleted F:/temp_test_run/thermo_IRT.ms_data.hdf\n",
      "2022-10-25 11:12:00> Workflow has 11 steps\n",
      "2022-10-25 11:12:00> ==== create_database ====\n",
      "2022-10-25 11:12:00> Database path set and exists. Using F:\\temp_test_run\\database.hdf as database.\n",
      "2022-10-25 11:12:00> ==== import_raw_data ====\n"
     ]
    },
    {
     "name": "stderr",
     "output_type": "stream",
     "text": [
      "\r",
      "  0%|                                                                                            | 0/1 [00:00<?, ?it/s]"
     ]
    },
    {
     "name": "stdout",
     "output_type": "stream",
     "text": [
      "2022-10-25 11:12:00> Processing 1 files for step raw_conversion\n",
      "2022-10-25 11:12:00> File F:/temp_test_run/thermo_IRT has extension .raw - converting from Thermo.\n",
      "2022-10-25 11:12:03> File conversion complete. Extracted 2,603 precursors.\n",
      "2022-10-25 11:12:04> File conversion of file F:/temp_test_run/thermo_IRT.raw complete.\n"
     ]
    },
    {
     "name": "stderr",
     "output_type": "stream",
     "text": [
      "\r",
      "  0%|                                                                                            | 0/1 [00:03<?, ?it/s]"
     ]
    },
    {
     "name": "stdout",
     "output_type": "stream",
     "text": [
      "2022-10-25 11:12:04> ==== feature_finding ====\n"
     ]
    },
    {
     "name": "stderr",
     "output_type": "stream",
     "text": [
      "\n",
      "  0%|                                                                                            | 0/1 [00:00<?, ?it/s]"
     ]
    },
    {
     "name": "stdout",
     "output_type": "stream",
     "text": [
      "2022-10-25 11:12:04> Processing 1 files for step find_features\n",
      "2022-10-25 11:12:04> No *.hdf file with features found for F:/temp_test_run/thermo_IRT.ms_data.hdf. Adding to feature finding list.\n",
      "2022-10-25 11:12:04> Feature finding on F:/temp_test_run/thermo_IRT.raw\n",
      "2022-10-25 11:12:04> Hill extraction with centroid_tol 19 and max_gap 2\n",
      "2022-10-25 11:12:04> Number of hills 43,293, len = 20.15\n",
      "2022-10-25 11:12:04> Repeating hill extraction with centroid_tol 6.30\n",
      "2022-10-25 11:12:05> Number of hills 48,455, len = 20.72\n",
      "2022-10-25 11:12:05> After duplicate removal of hills 43,439\n",
      "2022-10-25 11:12:05> After split hill_ptrs 61,843\n",
      "2022-10-25 11:12:05> After filter hill_ptrs 60,296\n",
      "2022-10-25 11:12:11> Extracting hill stats complete\n",
      "2022-10-25 11:12:11> Found 7,180 pre isotope patterns.\n",
      "2022-10-25 11:12:12> Extracted 6,576 isotope patterns.\n",
      "2022-10-25 11:12:12> Report complete.\n",
      "2022-10-25 11:12:12> Matching features to query data.\n",
      "2022-10-25 11:12:12> Saving feature table.\n",
      "2022-10-25 11:12:12> Feature table saved to F:/temp_test_run/thermo_IRT.ms_data.hdf\n",
      "2022-10-25 11:12:12> Saving features.\n",
      "2022-10-25 11:12:13> Feature finding of file F:/temp_test_run/thermo_IRT.raw complete.\n"
     ]
    },
    {
     "name": "stderr",
     "output_type": "stream",
     "text": [
      "\r",
      "  0%|                                                                                            | 0/1 [00:09<?, ?it/s]"
     ]
    },
    {
     "name": "stdout",
     "output_type": "stream",
     "text": [
      "2022-10-25 11:12:13> ==== search_data ====\n"
     ]
    },
    {
     "name": "stderr",
     "output_type": "stream",
     "text": [
      "\n",
      "  0%|                                                                                            | 0/1 [00:00<?, ?it/s]"
     ]
    },
    {
     "name": "stdout",
     "output_type": "stream",
     "text": [
      "2022-10-25 11:12:13> Starting first search.\n",
      "2022-10-25 11:12:13> Processing 1 files for step search_db\n",
      "2022-10-25 11:12:13> Calibrating fragments\n",
      "2022-10-25 11:12:17> Performing search on 3,031 query and 5,045,760 db entries with frag_tol = 50.00 and prec_tol = 20.00.\n",
      "2022-10-25 11:12:17> Found 102 psms.\n",
      "2022-10-25 11:12:17> Extracting columns for scoring.\n",
      "2022-10-25 11:12:21> Extracted columns from 102 spectra.\n",
      "2022-10-25 11:12:21> Saving first_search results to F:/temp_test_run/thermo_IRT.ms_data.hdf\n",
      "2022-10-25 11:12:21> Search of file F:/temp_test_run/thermo_IRT.raw complete.\n",
      "2022-10-25 11:12:35> First search complete.\n"
     ]
    },
    {
     "name": "stderr",
     "output_type": "stream",
     "text": [
      "\r",
      "  0%|                                                                                            | 0/1 [00:22<?, ?it/s]"
     ]
    },
    {
     "name": "stdout",
     "output_type": "stream",
     "text": [
      "2022-10-25 11:12:35> ==== recalibrate_data ====\n"
     ]
    },
    {
     "name": "stderr",
     "output_type": "stream",
     "text": [
      "\n",
      "  0%|                                                                                            | 0/1 [00:00<?, ?it/s]"
     ]
    },
    {
     "name": "stdout",
     "output_type": "stream",
     "text": [
      "2022-10-25 11:12:35> Processing 1 files for step calibrate_hdf\n",
      "2022-10-25 11:12:35> Recalibrating file F:/temp_test_run/thermo_IRT.raw.\n",
      "2022-10-25 11:12:35> Scoring using generic score\n",
      "2022-10-25 11:12:35> 8 target (0 decoy) of 56 PSMs. FDR 0.000000 for a cutoff of 10.81 (set FDR was 0.01).\n",
      "2022-10-25 11:12:35> Precursor mass calibration for file F:/temp_test_run/thermo_IRT.raw.\n",
      "2022-10-25 11:12:35> Not enough data points present. Skipping recalibration.\n",
      "2022-10-25 11:12:35> Precursor calibration of file F:/temp_test_run/thermo_IRT.ms_data.hdf complete.\n",
      "2022-10-25 11:12:35> Starting fragment calibration.\n",
      "2022-10-25 11:12:35> Calibrating fragments with neighbors\n",
      "2022-10-25 11:12:35> Scoring using generic score\n",
      "2022-10-25 11:12:35> 8 target (0 decoy) of 56 PSMs. FDR 0.000000 for a cutoff of 10.81 (set FDR was 0.01).\n",
      "2022-10-25 11:12:35> Minimum hits for fragments before score 7.01.\n",
      "2022-10-25 11:12:35> Minimum hits for fragments after score 7.31.\n",
      "2022-10-25 11:12:35> Not enough datapoints 75 for fragment calibration. Minimum is set to 400. Skipping fragment calibration.\n",
      "2022-10-25 11:12:35> Fragment calibration of file F:/temp_test_run/thermo_IRT.ms_data.hdf complete.\n"
     ]
    },
    {
     "name": "stderr",
     "output_type": "stream",
     "text": [
      "\r",
      "  0%|                                                                                            | 0/1 [00:00<?, ?it/s]"
     ]
    },
    {
     "name": "stdout",
     "output_type": "stream",
     "text": [
      "2022-10-25 11:12:35> ==== search_data ====\n"
     ]
    },
    {
     "name": "stderr",
     "output_type": "stream",
     "text": [
      "\n",
      "  0%|                                                                                            | 0/1 [00:00<?, ?it/s]"
     ]
    },
    {
     "name": "stdout",
     "output_type": "stream",
     "text": [
      "2022-10-25 11:12:35> Starting second search with DB.\n",
      "2022-10-25 11:12:35> Processing 1 files for step search_db\n",
      "2022-10-25 11:12:35> Found calibrated prec_tol with value 8.19\n",
      "2022-10-25 11:12:35> 'Dataset estimated_max_fragment_ppm does not exist for group / of <HDF_File F:\\\\temp_test_run\\\\thermo_IRT.ms_data.hdf>.'\n",
      "2022-10-25 11:12:36> Performing search on 3,031 query and 5,045,760 db entries with frag_tol = 50.00 and prec_tol = 8.19.\n",
      "2022-10-25 11:12:36> Found 47 psms.\n",
      "2022-10-25 11:12:36> Extracting columns for scoring.\n",
      "2022-10-25 11:12:39> Extracted columns from 47 spectra.\n",
      "2022-10-25 11:12:39> Saving second_search results to F:/temp_test_run/thermo_IRT.ms_data.hdf\n",
      "2022-10-25 11:12:39> Search of file F:/temp_test_run/thermo_IRT.raw complete.\n",
      "2022-10-25 11:12:53> Second search complete.\n"
     ]
    },
    {
     "name": "stderr",
     "output_type": "stream",
     "text": [
      "  0%|                                                                                            | 0/1 [00:17<?, ?it/s]\n"
     ]
    },
    {
     "name": "stdout",
     "output_type": "stream",
     "text": [
      "2022-10-25 11:12:53> ==== score ====\n"
     ]
    },
    {
     "name": "stderr",
     "output_type": "stream",
     "text": [
      "\r",
      "  0%|                                                                                            | 0/1 [00:00<?, ?it/s]"
     ]
    },
    {
     "name": "stdout",
     "output_type": "stream",
     "text": [
      "2022-10-25 11:12:53> Processing 1 files for step score_hdf\n",
      "2022-10-25 11:12:54> Calling score_hdf\n",
      "2022-10-25 11:12:54> Found second search psms for scoring.\n",
      "2022-10-25 11:12:54> 5 target (0 decoy) of 32 PSMs. FDR 0.000000 for a cutoff of 23.74 (set FDR was 0.1).\n",
      "2022-10-25 11:12:54> ML failed. Defaulting to x_tandem score\n",
      "2022-10-25 11:12:54> There are fewer high scoring targets or decoys than required by 'min_train'.\n",
      "2022-10-25 11:12:54> Converting x_tandem score to probabilities\n",
      "2022-10-25 11:12:54> 5 target (0 decoy) of 33 PSMs. FDR 0.000000 for a cutoff of 0.89 (set FDR was 0.01).\n",
      "2022-10-25 11:12:54> Saving identifications to ms_data file.\n",
      "2022-10-25 11:12:54> Saving identifications to ms_data file complete.\n",
      "2022-10-25 11:12:54> Saving identifications to csv file complete.\n",
      "2022-10-25 11:12:54> Filter df with custom score\n",
      "2022-10-25 11:12:54> Global FDR on precursor\n",
      "2022-10-25 11:12:54> 5 target (0 decoy) of 32 PSMs. FDR 0.000000 for a cutoff of 0.89 (set FDR was 0.01).\n",
      "2022-10-25 11:12:54> Global FDR cutoff at 0.894.\n",
      "2022-10-25 11:12:54> FDR on peptides complete. For 0.01 FDR found 5 targets and 0 decoys.\n",
      "2022-10-25 11:12:54> Extracting fragment_ions\n",
      "2022-10-25 11:12:54> Extracting fragment_ions complete.\n",
      "2022-10-25 11:12:54> Exporting peptide_fdr on F:/temp_test_run/thermo_IRT.raw.\n",
      "2022-10-25 11:12:54> Scoring of files F:/temp_test_run/thermo_IRT.raw complete.\n"
     ]
    },
    {
     "name": "stderr",
     "output_type": "stream",
     "text": [
      "\r",
      "  0%|                                                                                            | 0/1 [00:00<?, ?it/s]"
     ]
    },
    {
     "name": "stdout",
     "output_type": "stream",
     "text": [
      "2022-10-25 11:12:54> ==== isobaric_labeling ====\n",
      "2022-10-25 11:12:54> ==== protein_grouping ====\n"
     ]
    },
    {
     "name": "stderr",
     "output_type": "stream",
     "text": [
      "\n",
      "  0%|                                                                                            | 0/1 [00:00<?, ?it/s]"
     ]
    },
    {
     "name": "stdout",
     "output_type": "stream",
     "text": [
      "2022-10-25 11:12:54> Fasta dict with length 20,365, Pept dict with length 5,045,764\n",
      "2022-10-25 11:12:54> Extracting protein groups.\n"
     ]
    },
    {
     "name": "stderr",
     "output_type": "stream",
     "text": [
      "\n",
      "  0%|                                                                                            | 0/1 [00:00<?, ?it/s]\u001b[A"
     ]
    },
    {
     "name": "stdout",
     "output_type": "stream",
     "text": [
      "2022-10-25 11:12:55> A total of 5 unique and 0 shared peptides.\n",
      "2022-10-25 11:12:55> A total of 0 ambigious proteins\n",
      "2022-10-25 11:12:55> A total of 0 unique and 0 shared peptides.\n",
      "2022-10-25 11:12:55> A total of 0 ambigious proteins\n",
      "2022-10-25 11:12:55> Global FDR on protein_group\n",
      "2022-10-25 11:12:55> Last q_value 0.000 of dataset is smaller than fdr_level 0.010\n",
      "2022-10-25 11:12:55> 4 target (0 decoy) of 4 PSMs. FDR 0.000000 for a cutoff of 0.89 (set FDR was 0.01).\n",
      "2022-10-25 11:12:55> Global FDR cutoff at 0.894.\n",
      "2022-10-25 11:12:55> FDR on proteins complete. For 0.01 FDR found 5 targets and 0 decoys. A total of 4 proteins found.\n"
     ]
    },
    {
     "name": "stderr",
     "output_type": "stream",
     "text": [
      "\n"
     ]
    },
    {
     "name": "stdout",
     "output_type": "stream",
     "text": [
      "2022-10-25 11:12:55> Saving complete.\n",
      "2022-10-25 11:12:55> Protein groups complete.\n"
     ]
    },
    {
     "name": "stderr",
     "output_type": "stream",
     "text": [
      "\r",
      "  0%|                                                                                            | 0/1 [00:00<?, ?it/s]"
     ]
    },
    {
     "name": "stdout",
     "output_type": "stream",
     "text": [
      "2022-10-25 11:12:55> ==== quantification ====\n",
      "2022-10-25 11:12:55> Reading protein_fdr for quantification.\n"
     ]
    },
    {
     "name": "stderr",
     "output_type": "stream",
     "text": [
      "\n"
     ]
    },
    {
     "name": "stdout",
     "output_type": "stream",
     "text": [
      "2022-10-25 11:12:55> Saving protein_groups after delayed normalization to combined_protein_fdr_dn\n",
      "2022-10-25 11:12:55> Complete.\n",
      "2022-10-25 11:12:55> Starting profile extraction.\n"
     ]
    },
    {
     "name": "stderr",
     "output_type": "stream",
     "text": [
      "\r",
      "  0%|                                                                                            | 0/1 [00:00<?, ?it/s]"
     ]
    },
    {
     "name": "stdout",
     "output_type": "stream",
     "text": [
      "2022-10-25 11:12:55> LFQ complete.\n",
      "2022-10-25 11:12:55> Extracting protein_summary\n",
      "2022-10-25 11:12:55> Saved protein_summary of length 4 saved to F:\\temp_test_run\\results_protein_summary.csv\n",
      "2022-10-25 11:12:55> Updating protein_fdr.\n",
      "2022-10-25 11:12:55> Exporting as csv.\n",
      "2022-10-25 11:12:55> Saved df of length 5 saved to F:\\temp_test_run\\results\n"
     ]
    },
    {
     "name": "stderr",
     "output_type": "stream",
     "text": [
      "\r",
      "100%|████████████████████████████████████████████████████████████████████████████████████| 1/1 [00:00<00:00, 16.00it/s]"
     ]
    },
    {
     "name": "stdout",
     "output_type": "stream",
     "text": [
      "2022-10-25 11:12:55> ==== export ====\n"
     ]
    },
    {
     "name": "stderr",
     "output_type": "stream",
     "text": [
      "\n"
     ]
    },
    {
     "name": "stdout",
     "output_type": "stream",
     "text": [
      "2022-10-25 11:12:55> Settings saved to F:\\temp_test_run\\results.yaml\n",
      "2022-10-25 11:12:55> Analysis complete.\n",
      "features centroid_tol 25.0\n",
      "2022-10-25 11:12:55> Logging to C:\\Users\\admin\\alphapept\\logs\\log_20221025111255.txt.\n",
      "2022-10-25 11:12:55> Code location f:\\projects\\alphapept\\alphapept\n",
      "2022-10-25 11:12:55> Python location C:\\Users\\admin\\.conda\\envs\\alphapept_stable\\python.exe\n",
      "2022-10-25 11:12:55> Platform information:\n",
      "2022-10-25 11:12:55> system     - Windows\n",
      "2022-10-25 11:12:55> release    - 10\n",
      "2022-10-25 11:12:55> version    - 10.0.19044\n",
      "2022-10-25 11:12:55> machine    - AMD64\n",
      "2022-10-25 11:12:55> processor  - Intel64 Family 6 Model 85 Stepping 4, GenuineIntel\n",
      "2022-10-25 11:12:55> cpu count  - 24\n",
      "2022-10-25 11:12:55> ram memory - 118.7/127.7 Gb (available/total)\n",
      "2022-10-25 11:12:55> processor  - Intel64 Family 6 Model 85 Stepping 4, GenuineIntel\n",
      "2022-10-25 11:12:55> Python information:\n",
      "2022-10-25 11:12:55> SQLAlchemy                    - 1.4.39\n",
      "2022-10-25 11:12:55> alphapept                     - 0.4.9\n",
      "2022-10-25 11:12:55> biopython                     - 1.79\n",
      "2022-10-25 11:12:55> bumpversion                   - \n",
      "2022-10-25 11:12:55> bumpversion>                  - \n",
      "2022-10-25 11:12:55> click                         - 8.1.3\n",
      "2022-10-25 11:12:55> click>                        - \n",
      "2022-10-25 11:12:55> fastcore                      - 1.5.26\n",
      "2022-10-25 11:12:55> h5py                          - 3.7.0\n",
      "2022-10-25 11:12:55> jupyter                       - \n",
      "2022-10-25 11:12:55> jupyter>                      - \n",
      "2022-10-25 11:12:55> jupyter_contrib_nbextensions  - \n",
      "2022-10-25 11:12:55> jupyter_contrib_nbextensions> - \n",
      "2022-10-25 11:12:55> matplotlib                    - 3.6.0\n",
      "2022-10-25 11:12:55> nbdev                         - \n",
      "2022-10-25 11:12:55> nbdev>                        - \n",
      "2022-10-25 11:12:55> networkx                      - 2.8.6\n",
      "2022-10-25 11:12:55> numba                         - 0.55.2\n",
      "2022-10-25 11:12:55> numpy                         - 1.20.3\n",
      "2022-10-25 11:12:55> pandas                        - 1.4.3\n",
      "2022-10-25 11:12:55> plotly_express                - 0.4.1\n",
      "2022-10-25 11:12:55> psutil                        - 5.9.1\n",
      "2022-10-25 11:12:55> pyinstaller                   - \n",
      "2022-10-25 11:12:55> pyteomics                     - 4.5.5\n",
      "2022-10-25 11:12:55> python                        - 3.8.13\n",
      "2022-10-25 11:12:55> pythonnet                     - 2.5.2\n",
      "2022-10-25 11:12:55> pywin32                       - 225\n",
      "2022-10-25 11:12:55> pyyaml                        - 6.0\n",
      "2022-10-25 11:12:55> scikit-learn                  - 1.1.2\n",
      "2022-10-25 11:12:55> scipy                         - 1.8.1\n",
      "2022-10-25 11:12:55> streamlit                     - 1.13.0\n",
      "2022-10-25 11:12:55> streamlit-aggrid              - 0.2.3.post2\n",
      "2022-10-25 11:12:55> streamlit>                    - \n",
      "2022-10-25 11:12:55> tables                        - 3.6.1\n",
      "2022-10-25 11:12:55> tqdm                          - 4.64.0\n",
      "2022-10-25 11:12:55> twine                         - \n",
      "2022-10-25 11:12:55> twine>                        - \n",
      "2022-10-25 11:12:55> watchdog                      - 2.1.9\n",
      "2022-10-25 11:12:55> wget                          - 3.2\n",
      "2022-10-25 11:12:55> \n",
      "2022-10-25 11:12:55> Check for settings not completely implemented yet.\n",
      "2022-10-25 11:12:55> Size check:\n",
      "2022-10-25 11:12:55> Size of job (raw files) 0.07 Gb\n",
      "2022-10-25 11:12:55> Required disk space for F: - 0.07 Gb, Available 369.09 Gb OK.\n",
      "2022-10-25 11:12:55> \n",
      "2022-10-25 11:12:56> Workflow Settings:\n",
      "2022-10-25 11:12:56> align              - False\n",
      "2022-10-25 11:12:56> continue_runs      - False\n",
      "2022-10-25 11:12:56> create_database    - True\n",
      "2022-10-25 11:12:56> find_features      - True\n",
      "2022-10-25 11:12:56> import_raw_data    - True\n",
      "2022-10-25 11:12:56> lfq_quantification - True\n",
      "2022-10-25 11:12:56> match              - False\n",
      "2022-10-25 11:12:56> recalibrate_data   - True\n",
      "2022-10-25 11:12:56> search_data        - True\n",
      "2022-10-25 11:12:56> \n",
      "2022-10-25 11:12:56> Checking if files exist.\n",
      "2022-10-25 11:12:56> FASTA Files have a total size of 0.000 Mb\n",
      "2022-10-25 11:12:56> Results path was not set. Setting to F:\\temp_test_run\\results.hdf\n",
      "2022-10-25 11:12:56> Shortnames not set. Setting to filename.\n",
      "2022-10-25 11:12:56> Sample group not set. Setting to shortname.\n",
      "2022-10-25 11:12:56> Fraction not set. Setting to 1.\n",
      "2022-10-25 11:12:56> No database path set and save_db option checked. Using default path F:\\temp_test_run\\database.hdf\n",
      "2022-10-25 11:12:56> Deleted F:/temp_test_run/thermo_IRT.ms_data.hdf\n",
      "2022-10-25 11:12:56> Workflow has 11 steps\n",
      "2022-10-25 11:12:56> ==== create_database ====\n",
      "2022-10-25 11:12:56> Database path set and exists. Using F:\\temp_test_run\\database.hdf as database.\n",
      "2022-10-25 11:12:56> ==== import_raw_data ====\n"
     ]
    },
    {
     "name": "stderr",
     "output_type": "stream",
     "text": [
      "\r",
      "  0%|                                                                                            | 0/1 [00:00<?, ?it/s]"
     ]
    },
    {
     "name": "stdout",
     "output_type": "stream",
     "text": [
      "2022-10-25 11:12:56> Processing 1 files for step raw_conversion\n",
      "2022-10-25 11:12:56> File F:/temp_test_run/thermo_IRT has extension .raw - converting from Thermo.\n",
      "2022-10-25 11:12:59> File conversion complete. Extracted 2,603 precursors.\n",
      "2022-10-25 11:12:59> File conversion of file F:/temp_test_run/thermo_IRT.raw complete.\n"
     ]
    },
    {
     "name": "stderr",
     "output_type": "stream",
     "text": [
      "\r",
      "  0%|                                                                                            | 0/1 [00:03<?, ?it/s]"
     ]
    },
    {
     "name": "stdout",
     "output_type": "stream",
     "text": [
      "2022-10-25 11:12:59> ==== feature_finding ====\n"
     ]
    },
    {
     "name": "stderr",
     "output_type": "stream",
     "text": [
      "\n",
      "  0%|                                                                                            | 0/1 [00:00<?, ?it/s]"
     ]
    },
    {
     "name": "stdout",
     "output_type": "stream",
     "text": [
      "2022-10-25 11:12:59> Processing 1 files for step find_features\n",
      "2022-10-25 11:12:59> No *.hdf file with features found for F:/temp_test_run/thermo_IRT.ms_data.hdf. Adding to feature finding list.\n",
      "2022-10-25 11:12:59> Feature finding on F:/temp_test_run/thermo_IRT.raw\n",
      "2022-10-25 11:12:59> Hill extraction with centroid_tol 25 and max_gap 2\n",
      "2022-10-25 11:12:59> Number of hills 43,449, len = 20.36\n",
      "2022-10-25 11:12:59> Repeating hill extraction with centroid_tol 6.94\n",
      "2022-10-25 11:13:00> Number of hills 47,026, len = 20.46\n",
      "2022-10-25 11:13:00> After duplicate removal of hills 43,198\n",
      "2022-10-25 11:13:00> After split hill_ptrs 61,840\n",
      "2022-10-25 11:13:00> After filter hill_ptrs 60,287\n",
      "2022-10-25 11:13:06> Extracting hill stats complete\n",
      "2022-10-25 11:13:06> Found 7,219 pre isotope patterns.\n",
      "2022-10-25 11:13:07> Extracted 6,602 isotope patterns.\n",
      "2022-10-25 11:13:08> Report complete.\n",
      "2022-10-25 11:13:08> Matching features to query data.\n",
      "2022-10-25 11:13:08> Saving feature table.\n",
      "2022-10-25 11:13:08> Feature table saved to F:/temp_test_run/thermo_IRT.ms_data.hdf\n",
      "2022-10-25 11:13:08> Saving features.\n",
      "2022-10-25 11:13:08> Feature finding of file F:/temp_test_run/thermo_IRT.raw complete.\n"
     ]
    },
    {
     "name": "stderr",
     "output_type": "stream",
     "text": [
      "\r",
      "  0%|                                                                                            | 0/1 [00:09<?, ?it/s]"
     ]
    },
    {
     "name": "stdout",
     "output_type": "stream",
     "text": [
      "2022-10-25 11:13:08> ==== search_data ====\n"
     ]
    },
    {
     "name": "stderr",
     "output_type": "stream",
     "text": [
      "\n",
      "  0%|                                                                                            | 0/1 [00:00<?, ?it/s]"
     ]
    },
    {
     "name": "stdout",
     "output_type": "stream",
     "text": [
      "2022-10-25 11:13:08> Starting first search.\n",
      "2022-10-25 11:13:08> Processing 1 files for step search_db\n",
      "2022-10-25 11:13:08> Calibrating fragments\n",
      "2022-10-25 11:13:13> Performing search on 3,067 query and 5,045,760 db entries with frag_tol = 50.00 and prec_tol = 20.00.\n",
      "2022-10-25 11:13:13> Found 107 psms.\n",
      "2022-10-25 11:13:13> Extracting columns for scoring.\n",
      "2022-10-25 11:13:16> Extracted columns from 107 spectra.\n",
      "2022-10-25 11:13:16> Saving first_search results to F:/temp_test_run/thermo_IRT.ms_data.hdf\n",
      "2022-10-25 11:13:16> Search of file F:/temp_test_run/thermo_IRT.raw complete.\n",
      "2022-10-25 11:13:30> First search complete.\n"
     ]
    },
    {
     "name": "stderr",
     "output_type": "stream",
     "text": [
      "\r",
      "  0%|                                                                                            | 0/1 [00:22<?, ?it/s]"
     ]
    },
    {
     "name": "stdout",
     "output_type": "stream",
     "text": [
      "2022-10-25 11:13:31> ==== recalibrate_data ====\n"
     ]
    },
    {
     "name": "stderr",
     "output_type": "stream",
     "text": [
      "\n",
      "  0%|                                                                                            | 0/1 [00:00<?, ?it/s]"
     ]
    },
    {
     "name": "stdout",
     "output_type": "stream",
     "text": [
      "2022-10-25 11:13:31> Processing 1 files for step calibrate_hdf\n",
      "2022-10-25 11:13:31> Recalibrating file F:/temp_test_run/thermo_IRT.raw.\n",
      "2022-10-25 11:13:31> Scoring using generic score\n",
      "2022-10-25 11:13:31> 8 target (0 decoy) of 56 PSMs. FDR 0.000000 for a cutoff of 10.81 (set FDR was 0.01).\n",
      "2022-10-25 11:13:31> Precursor mass calibration for file F:/temp_test_run/thermo_IRT.raw.\n",
      "2022-10-25 11:13:31> Not enough data points present. Skipping recalibration.\n",
      "2022-10-25 11:13:31> Precursor calibration of file F:/temp_test_run/thermo_IRT.ms_data.hdf complete.\n",
      "2022-10-25 11:13:31> Starting fragment calibration.\n",
      "2022-10-25 11:13:31> Calibrating fragments with neighbors\n",
      "2022-10-25 11:13:31> Scoring using generic score\n",
      "2022-10-25 11:13:31> 8 target (0 decoy) of 56 PSMs. FDR 0.000000 for a cutoff of 10.81 (set FDR was 0.01).\n",
      "2022-10-25 11:13:31> Minimum hits for fragments before score 7.01.\n",
      "2022-10-25 11:13:31> Minimum hits for fragments after score 7.31.\n",
      "2022-10-25 11:13:31> Not enough datapoints 75 for fragment calibration. Minimum is set to 400. Skipping fragment calibration.\n",
      "2022-10-25 11:13:31> Fragment calibration of file F:/temp_test_run/thermo_IRT.ms_data.hdf complete.\n"
     ]
    },
    {
     "name": "stderr",
     "output_type": "stream",
     "text": [
      "\r",
      "  0%|                                                                                            | 0/1 [00:00<?, ?it/s]"
     ]
    },
    {
     "name": "stdout",
     "output_type": "stream",
     "text": [
      "2022-10-25 11:13:31> ==== search_data ====\n"
     ]
    },
    {
     "name": "stderr",
     "output_type": "stream",
     "text": [
      "\n",
      "  0%|                                                                                            | 0/1 [00:00<?, ?it/s]"
     ]
    },
    {
     "name": "stdout",
     "output_type": "stream",
     "text": [
      "2022-10-25 11:13:31> Starting second search with DB.\n",
      "2022-10-25 11:13:31> Processing 1 files for step search_db\n",
      "2022-10-25 11:13:31> Found calibrated prec_tol with value 8.18\n",
      "2022-10-25 11:13:31> 'Dataset estimated_max_fragment_ppm does not exist for group / of <HDF_File F:\\\\temp_test_run\\\\thermo_IRT.ms_data.hdf>.'\n",
      "2022-10-25 11:13:31> Performing search on 3,067 query and 5,045,760 db entries with frag_tol = 50.00 and prec_tol = 8.18.\n",
      "2022-10-25 11:13:31> Found 48 psms.\n",
      "2022-10-25 11:13:31> Extracting columns for scoring.\n",
      "2022-10-25 11:13:34> Extracted columns from 48 spectra.\n",
      "2022-10-25 11:13:35> Saving second_search results to F:/temp_test_run/thermo_IRT.ms_data.hdf\n",
      "2022-10-25 11:13:35> Search of file F:/temp_test_run/thermo_IRT.raw complete.\n",
      "2022-10-25 11:13:49> Second search complete.\n"
     ]
    },
    {
     "name": "stderr",
     "output_type": "stream",
     "text": [
      "\r",
      "  0%|                                                                                            | 0/1 [00:17<?, ?it/s]"
     ]
    },
    {
     "name": "stdout",
     "output_type": "stream",
     "text": [
      "2022-10-25 11:13:49> ==== score ====\n"
     ]
    },
    {
     "name": "stderr",
     "output_type": "stream",
     "text": [
      "\n",
      "  0%|                                                                                            | 0/1 [00:00<?, ?it/s]"
     ]
    },
    {
     "name": "stdout",
     "output_type": "stream",
     "text": [
      "2022-10-25 11:13:49> Processing 1 files for step score_hdf\n",
      "2022-10-25 11:13:49> Calling score_hdf\n",
      "2022-10-25 11:13:49> Found second search psms for scoring.\n",
      "2022-10-25 11:13:49> 5 target (0 decoy) of 32 PSMs. FDR 0.000000 for a cutoff of 23.74 (set FDR was 0.1).\n",
      "2022-10-25 11:13:49> ML failed. Defaulting to x_tandem score\n",
      "2022-10-25 11:13:49> There are fewer high scoring targets or decoys than required by 'min_train'.\n",
      "2022-10-25 11:13:49> Converting x_tandem score to probabilities\n",
      "2022-10-25 11:13:49> 5 target (0 decoy) of 33 PSMs. FDR 0.000000 for a cutoff of 0.90 (set FDR was 0.01).\n",
      "2022-10-25 11:13:49> Saving identifications to ms_data file.\n",
      "2022-10-25 11:13:49> Saving identifications to ms_data file complete.\n",
      "2022-10-25 11:13:49> Saving identifications to csv file complete.\n",
      "2022-10-25 11:13:49> Filter df with custom score\n",
      "2022-10-25 11:13:49> Global FDR on precursor\n",
      "2022-10-25 11:13:49> 5 target (0 decoy) of 32 PSMs. FDR 0.000000 for a cutoff of 0.90 (set FDR was 0.01).\n",
      "2022-10-25 11:13:49> Global FDR cutoff at 0.896.\n",
      "2022-10-25 11:13:49> FDR on peptides complete. For 0.01 FDR found 5 targets and 0 decoys.\n",
      "2022-10-25 11:13:49> Extracting fragment_ions\n",
      "2022-10-25 11:13:49> Extracting fragment_ions complete.\n",
      "2022-10-25 11:13:49> Exporting peptide_fdr on F:/temp_test_run/thermo_IRT.raw.\n",
      "2022-10-25 11:13:50> Scoring of files F:/temp_test_run/thermo_IRT.raw complete.\n"
     ]
    },
    {
     "name": "stderr",
     "output_type": "stream",
     "text": [
      "\r",
      "  0%|                                                                                            | 0/1 [00:00<?, ?it/s]"
     ]
    },
    {
     "name": "stdout",
     "output_type": "stream",
     "text": [
      "2022-10-25 11:13:50> ==== isobaric_labeling ====\n",
      "2022-10-25 11:13:50> ==== protein_grouping ====\n"
     ]
    },
    {
     "name": "stderr",
     "output_type": "stream",
     "text": [
      "\n",
      "  0%|                                                                                            | 0/1 [00:00<?, ?it/s]"
     ]
    },
    {
     "name": "stdout",
     "output_type": "stream",
     "text": [
      "2022-10-25 11:13:50> Fasta dict with length 20,365, Pept dict with length 5,045,764\n",
      "2022-10-25 11:13:50> Extracting protein groups.\n"
     ]
    },
    {
     "name": "stderr",
     "output_type": "stream",
     "text": [
      "\n",
      "  0%|                                                                                            | 0/1 [00:00<?, ?it/s]\u001b[A"
     ]
    },
    {
     "name": "stdout",
     "output_type": "stream",
     "text": [
      "2022-10-25 11:13:50> A total of 5 unique and 0 shared peptides.\n",
      "2022-10-25 11:13:50> A total of 0 ambigious proteins\n",
      "2022-10-25 11:13:50> A total of 0 unique and 0 shared peptides.\n",
      "2022-10-25 11:13:50> A total of 0 ambigious proteins\n",
      "2022-10-25 11:13:50> Global FDR on protein_group\n",
      "2022-10-25 11:13:50> Last q_value 0.000 of dataset is smaller than fdr_level 0.010\n",
      "2022-10-25 11:13:50> 4 target (0 decoy) of 4 PSMs. FDR 0.000000 for a cutoff of 0.90 (set FDR was 0.01).\n",
      "2022-10-25 11:13:50> Global FDR cutoff at 0.896.\n",
      "2022-10-25 11:13:50> FDR on proteins complete. For 0.01 FDR found 5 targets and 0 decoys. A total of 4 proteins found.\n",
      "2022-10-25 11:13:50> Saving complete.\n",
      "2022-10-25 11:13:50> Protein groups complete.\n"
     ]
    },
    {
     "name": "stderr",
     "output_type": "stream",
     "text": [
      "\n",
      "  0%|                                                                                            | 0/1 [00:00<?, ?it/s]"
     ]
    },
    {
     "name": "stdout",
     "output_type": "stream",
     "text": [
      "2022-10-25 11:13:50> ==== quantification ====\n",
      "2022-10-25 11:13:50> Reading protein_fdr for quantification.\n"
     ]
    },
    {
     "name": "stderr",
     "output_type": "stream",
     "text": [
      "\n"
     ]
    },
    {
     "name": "stdout",
     "output_type": "stream",
     "text": [
      "2022-10-25 11:13:50> Saving protein_groups after delayed normalization to combined_protein_fdr_dn\n",
      "2022-10-25 11:13:50> Complete.\n",
      "2022-10-25 11:13:50> Starting profile extraction.\n"
     ]
    },
    {
     "name": "stderr",
     "output_type": "stream",
     "text": [
      "\r",
      "  0%|                                                                                            | 0/1 [00:00<?, ?it/s]"
     ]
    },
    {
     "name": "stdout",
     "output_type": "stream",
     "text": [
      "2022-10-25 11:13:50> LFQ complete.\n",
      "2022-10-25 11:13:50> Extracting protein_summary\n",
      "2022-10-25 11:13:50> Saved protein_summary of length 4 saved to F:\\temp_test_run\\results_protein_summary.csv\n",
      "2022-10-25 11:13:50> Updating protein_fdr.\n",
      "2022-10-25 11:13:50> Exporting as csv.\n",
      "2022-10-25 11:13:50> Saved df of length 5 saved to F:\\temp_test_run\\results\n"
     ]
    },
    {
     "name": "stderr",
     "output_type": "stream",
     "text": [
      "\r",
      "100%|████████████████████████████████████████████████████████████████████████████████████| 1/1 [00:00<00:00,  8.00it/s]"
     ]
    },
    {
     "name": "stdout",
     "output_type": "stream",
     "text": [
      "2022-10-25 11:13:50> ==== export ====\n"
     ]
    },
    {
     "name": "stderr",
     "output_type": "stream",
     "text": [
      "\n"
     ]
    },
    {
     "name": "stdout",
     "output_type": "stream",
     "text": [
      "2022-10-25 11:13:50> Settings saved to F:\\temp_test_run\\results.yaml\n",
      "2022-10-25 11:13:50> Analysis complete.\n"
     ]
    }
   ],
   "source": [
    "results = []\n",
    "n_sample = 5\n",
    "\n",
    "group = 'features'\n",
    "\n",
    "print(SETTINGS_TEMPLATE[group].keys())\n",
    "\n",
    "for param in ['centroid_tol']: #Test 1 parameter for now\n",
    "    for selector in np.linspace(SETTINGS_TEMPLATE[group][param]['min'], SETTINGS_TEMPLATE[group][param]['max'], n_sample):\n",
    "        print(group, param, selector)\n",
    "        \n",
    "        if SETTINGS_TEMPLATE[group][param]['type'] == 'spinbox':\n",
    "            selector = int(selector)\n",
    "            \n",
    "        settings = load_settings_as_template(DEFAULT_SETTINGS_PATH)\n",
    "\n",
    "        settings['experiment']['file_paths'] =  ['F:/temp_test_run/thermo_IRT.raw']\n",
    "        settings['fasta']['fasta_paths'] = ['F:/temp_test_run/human.fasta', 'F:/temp_test_run/arabidopsis.fasta', 'F:/temp_test_run/contaminants.fasta']\n",
    "\n",
    "        settings[group][param] = selector\n",
    "\n",
    "        try:\n",
    "            settings_ = alphapept.interface.run_complete_workflow(settings)\n",
    "            try:\n",
    "                n_features = settings_['summary']['thermo_IRT']['feature_table (n in table)']\n",
    "            except KeyError as e:\n",
    "                raise\n",
    "                n_proteins = 0\n",
    "            time = settings_['summary']['timing']['total (min)']\n",
    "            results.append((group, param, selector, n_features, time))\n",
    "\n",
    "        except Exception as e:\n",
    "            print(e)\n",
    "            raise"
   ]
  },
  {
   "cell_type": "code",
   "execution_count": 3,
   "id": "912ecd6a",
   "metadata": {},
   "outputs": [],
   "source": [
    "import matplotlib.pyplot as plt\n",
    "import pandas as pd"
   ]
  },
  {
   "cell_type": "code",
   "execution_count": 4,
   "id": "reduced-cylinder",
   "metadata": {},
   "outputs": [],
   "source": [
    "df = pd.DataFrame(results, columns = ['group','parameter','value','n_features','timing'])"
   ]
  },
  {
   "cell_type": "code",
   "execution_count": 5,
   "id": "92f92239",
   "metadata": {},
   "outputs": [
    {
     "data": {
      "image/png": "[encoded data removed]",
      "text/plain": [
       "<Figure size 500x500 with 1 Axes>"
      ]
     },
     "metadata": {},
     "output_type": "display_data"
    },
    {
     "data": {
      "image/png": "[encoded data removed]",
      "text/plain": [
       "<Figure size 500x500 with 1 Axes>"
      ]
     },
     "metadata": {},
     "output_type": "display_data"
    }
   ],
   "source": [
    "plt.figure(figsize=(5,5))\n",
    "plt.plot(df['value'], df['n_features'], 'o')\n",
    "plt.plot(df['value'], df['n_features'])\n",
    "plt.xlabel('Value')\n",
    "plt.ylabel('Number of features')\n",
    "plt.show()\n",
    "\n",
    "plt.figure(figsize=(5,5))\n",
    "plt.plot(df['value'], df['timing'], 'o')\n",
    "plt.plot(df['value'], df['timing'])\n",
    "plt.xlabel('Value')\n",
    "plt.ylabel('Time elapsed')\n",
    "plt.show()"
   ]
  }
 ],
 "metadata": {
  "kernelspec": {
   "display_name": "Python 3 (ipykernel)",
   "language": "python",
   "name": "python3"
  },
  "language_info": {
   "codemirror_mode": {
    "name": "ipython",
    "version": 3
   },
   "file_extension": ".py",
   "mimetype": "text/x-python",
   "name": "python",
   "nbconvert_exporter": "python",
   "pygments_lexer": "ipython3",
   "version": "3.8.13"
  },
  "toc": {
   "base_numbering": 1,
   "nav_menu": {},
   "number_sections": true,
   "sideBar": true,
   "skip_h1_title": false,
   "title_cell": "Table of Contents",
   "title_sidebar": "Contents",
   "toc_cell": false,
   "toc_position": {},
   "toc_section_display": true,
   "toc_window_display": false
  }
 },
 "nbformat": 4,
 "nbformat_minor": 5
}
