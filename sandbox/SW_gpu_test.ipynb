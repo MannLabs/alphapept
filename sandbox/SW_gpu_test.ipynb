{
 "cells": [
  {
   "cell_type": "code",
   "execution_count": 1,
   "id": "c8ed5615",
   "metadata": {},
   "outputs": [],
   "source": [
    "# !pip install cupy-cuda111"
   ]
  },
  {
   "cell_type": "code",
   "execution_count": 2,
   "id": "11a337da",
   "metadata": {},
   "outputs": [],
   "source": [
    "import alphapept.performance\n",
    "import os\n",
    "from time import time\n",
    "import wget\n",
    "from alphapept.settings import load_settings\n",
    "from alphapept.paths import DEFAULT_SETTINGS_PATH\n",
    "import alphapept.interface\n",
    "import sys\n",
    "import shutil\n",
    "import logging\n",
    "import importlib\n",
    "import alphapept.feature_finding\n",
    "\n",
    "FILE_DICT = {}\n",
    "FILE_DICT['thermo_IRT.raw'] = \"D:/willems/data/raw/20200911_EXPL0_IgPa_6min_DDA_2.raw\"\n",
    "FILE_DICT['IRT_fasta.fasta'] = \"D:/willems/data/fasta/irtfusion.fasta\"\n",
    "\n",
    "\n",
    "tmp_folder = 'D:\\willems\\data\\irt'\n",
    "\n",
    "def delete_folder(dir_name):\n",
    "    if os.path.exists(dir_name):\n",
    "        shutil.rmtree(dir_name)\n",
    "\n",
    "\n",
    "def create_folder(dir_name):\n",
    "    if not os.path.exists(dir_name):\n",
    "        logging.info(f'Creating dir {dir_name}.')\n",
    "        os.makedirs(dir_name)\n",
    "\n",
    "def main(mode, worker_count=0):\n",
    "    alphapept.performance.set_compilation_mode(mode)\n",
    "    alphapept.performance.set_worker_count(worker_count)\n",
    "    importlib.reload(alphapept.feature_finding)\n",
    "    print(f\"Testing with mode {mode}\")\n",
    "    delete_folder(tmp_folder)\n",
    "    create_folder(tmp_folder)\n",
    "\n",
    "    for file, file_path in FILE_DICT.items():\n",
    "        shutil.copy(file_path, tmp_folder)\n",
    "    settings = load_settings(DEFAULT_SETTINGS_PATH)\n",
    "    settings['experiment']['file_paths'] =  [os.path.join(tmp_folder, '20200911_EXPL0_IgPa_6min_DDA_2.raw')]\n",
    "    settings['experiment']['fasta_paths'] = [os.path.join(tmp_folder, 'irtfusion.fasta')]\n",
    "\n",
    "    settings_ = alphapept.interface.import_raw_data(settings)\n",
    "    print(\"\\n\"*3)\n",
    "    start = time()\n",
    "    settings_ = alphapept.interface.feature_finding(settings)\n",
    "    end = time()\n",
    "\n",
    "    te = end-start\n",
    "\n",
    "    print(f'Time elapsed {te}')\n",
    "\n"
   ]
  },
  {
   "cell_type": "code",
   "execution_count": 3,
   "id": "0881ba0a",
   "metadata": {
    "scrolled": true
   },
   "outputs": [
    {
     "name": "stdout",
     "output_type": "stream",
     "text": [
      "Testing with mode numba-multithread\n",
      "2021-05-28 18:03:13> Logging to C:\\Users\\admin\\alphapept\\logs\\log_20210528180313.txt.\n",
      "2021-05-28 18:03:13> Platform information:\n",
      "2021-05-28 18:03:13> system     - Windows\n",
      "2021-05-28 18:03:13> release    - 10\n",
      "2021-05-28 18:03:13> version    - 10.0.19041\n",
      "2021-05-28 18:03:13> machine    - AMD64\n",
      "2021-05-28 18:03:13> processor  - Intel64 Family 6 Model 85 Stepping 4, GenuineIntel\n",
      "2021-05-28 18:03:13> cpu count  - 24\n",
      "2021-05-28 18:03:13> ram memory - 115.6/127.7 Gb (available/total)\n",
      "2021-05-28 18:03:13> \n",
      "2021-05-28 18:03:13> Python information:\n",
      "2021-05-28 18:03:13> SQLAlchemy     - 1.3.22\n",
      "2021-05-28 18:03:13> alphapept      - 0.3.21\n",
      "2021-05-28 18:03:13> biopython      - 1.78\n",
      "2021-05-28 18:03:13> click          - 7.1.2\n",
      "2021-05-28 18:03:13> comtypes       - 1.1.7\n",
      "2021-05-28 18:03:13> fastcore       - 1.3.5\n",
      "2021-05-28 18:03:13> h5py           - 3.1.0\n",
      "2021-05-28 18:03:13> lxml           - 4.6.2\n",
      "2021-05-28 18:03:13> matplotlib     - 3.3.3\n",
      "2021-05-28 18:03:13> nbdev          - 1.1.4\n",
      "2021-05-28 18:03:13> networkx       - 2.5\n",
      "2021-05-28 18:03:13> numba          - 0.52.0\n",
      "2021-05-28 18:03:13> numpy          - 1.19.4\n",
      "2021-05-28 18:03:13> pandas         - 1.2.1\n",
      "2021-05-28 18:03:13> plotly_express - 0.4.0\n",
      "2021-05-28 18:03:13> psutil         - 5.8.0\n",
      "2021-05-28 18:03:13> python         - 3.8.8\n",
      "2021-05-28 18:03:13> pythonnet      - 2.5.1\n",
      "2021-05-28 18:03:13> pyyaml         - 5.3.1\n",
      "2021-05-28 18:03:13> scikit-learn   - 0.23.2\n",
      "2021-05-28 18:03:13> scipy          - 1.6.0\n",
      "2021-05-28 18:03:13> seaborn        - 0.11.1\n",
      "2021-05-28 18:03:13> streamlit      - 0.80.0\n",
      "2021-05-28 18:03:13> tables         - 3.6.1\n",
      "2021-05-28 18:03:13> tqdm           - 4.56.0\n",
      "2021-05-28 18:03:13> watchdog       - 2.1.0\n",
      "2021-05-28 18:03:13> wget           - 3.2\n",
      "2021-05-28 18:03:13> \n",
      "2021-05-28 18:03:13> Check for settings not completely implemented yet.\n",
      "2021-05-28 18:03:13> Checking if files exist.\n",
      "2021-05-28 18:03:13> Results path was not set. Setting to D:\\willems\\data\\irt\\results.hdf\n",
      "2021-05-28 18:03:13> Shortnames not set. Setting to filename.\n",
      "2021-05-28 18:03:13> No database path set and save_db option checked. Using default path D:\\willems\\data\\irt\\database.hdf\n"
     ]
    },
    {
     "name": "stderr",
     "output_type": "stream",
     "text": [
      "\r",
      "  0%|                                                                                            | 0/1 [00:00<?, ?it/s]"
     ]
    },
    {
     "name": "stdout",
     "output_type": "stream",
     "text": [
      "2021-05-28 18:03:13> Processing 1 files for step raw_conversion\n",
      "2021-05-28 18:03:13> File D:\\willems\\data\\irt\\20200911_EXPL0_IgPa_6min_DDA_2 has extension .raw - converting from Thermo.\n",
      "2021-05-28 18:03:21> File conversion complete. Extracted 2,603 precursors.\n",
      "2021-05-28 18:03:21> File conversion of file D:\\willems\\data\\irt\\20200911_EXPL0_IgPa_6min_DDA_2.raw complete.\n",
      "\n",
      "\n",
      "\n",
      "\n",
      "2021-05-28 18:03:21> Logging to C:\\Users\\admin\\alphapept\\logs\\log_20210528180321.txt.\n",
      "2021-05-28 18:03:21> Platform information:\n",
      "2021-05-28 18:03:21> system     - Windows\n",
      "2021-05-28 18:03:21> release    - 10\n",
      "2021-05-28 18:03:21> version    - 10.0.19041\n",
      "2021-05-28 18:03:21> machine    - AMD64\n",
      "2021-05-28 18:03:21> processor  - Intel64 Family 6 Model 85 Stepping 4, GenuineIntel\n",
      "2021-05-28 18:03:21> cpu count  - 24\n",
      "2021-05-28 18:03:21> ram memory - 115.5/127.7 Gb (available/total)\n",
      "2021-05-28 18:03:21> \n",
      "2021-05-28 18:03:22> Python information:\n",
      "2021-05-28 18:03:22> SQLAlchemy     - 1.3.22\n",
      "2021-05-28 18:03:22> alphapept      - 0.3.21\n",
      "2021-05-28 18:03:22> biopython      - 1.78\n",
      "2021-05-28 18:03:22> click          - 7.1.2\n",
      "2021-05-28 18:03:22> comtypes       - 1.1.7\n",
      "2021-05-28 18:03:22> fastcore       - 1.3.5\n",
      "2021-05-28 18:03:22> h5py           - 3.1.0\n",
      "2021-05-28 18:03:22> lxml           - 4.6.2\n",
      "2021-05-28 18:03:22> matplotlib     - 3.3.3\n",
      "2021-05-28 18:03:22> nbdev          - 1.1.4\n",
      "2021-05-28 18:03:22> networkx       - 2.5\n",
      "2021-05-28 18:03:22> numba          - 0.52.0\n",
      "2021-05-28 18:03:22> numpy          - 1.19.4\n",
      "2021-05-28 18:03:22> pandas         - 1.2.1\n",
      "2021-05-28 18:03:22> plotly_express - 0.4.0\n",
      "2021-05-28 18:03:22> psutil         - 5.8.0\n",
      "2021-05-28 18:03:22> python         - 3.8.8\n",
      "2021-05-28 18:03:22> pythonnet      - 2.5.1\n",
      "2021-05-28 18:03:22> pyyaml         - 5.3.1\n",
      "2021-05-28 18:03:22> scikit-learn   - 0.23.2\n",
      "2021-05-28 18:03:22> scipy          - 1.6.0\n",
      "2021-05-28 18:03:22> seaborn        - 0.11.1\n",
      "2021-05-28 18:03:22> streamlit      - 0.80.0\n",
      "2021-05-28 18:03:22> tables         - 3.6.1\n",
      "2021-05-28 18:03:22> tqdm           - 4.56.0\n",
      "2021-05-28 18:03:22> watchdog       - 2.1.0\n",
      "2021-05-28 18:03:22> wget           - 3.2\n",
      "2021-05-28 18:03:22> \n",
      "2021-05-28 18:03:22> Check for settings not completely implemented yet.\n",
      "2021-05-28 18:03:22> Checking if files exist.\n"
     ]
    },
    {
     "name": "stderr",
     "output_type": "stream",
     "text": [
      "\n",
      "  0%|                                                                                            | 0/1 [00:00<?, ?it/s]\u001b[A"
     ]
    },
    {
     "name": "stdout",
     "output_type": "stream",
     "text": [
      "2021-05-28 18:03:22> Processing 1 files for step find_features\n",
      "2021-05-28 18:03:22> No *.hdf file with features found for D:\\willems\\data\\irt\\20200911_EXPL0_IgPa_6min_DDA_2.ms_data.hdf. Adding to feature finding list.\n",
      "2021-05-28 18:03:22> Feature finding on D:\\willems\\data\\irt\\20200911_EXPL0_IgPa_6min_DDA_2.raw\n",
      "2021-05-28 18:03:22> Hill extraction with ppm_tol 8 and max_gap 2\n"
     ]
    },
    {
     "name": "stderr",
     "output_type": "stream",
     "text": [
      "  0%|                                                                                            | 0/1 [00:23<?, ?it/s]\n"
     ]
    },
    {
     "name": "stdout",
     "output_type": "stream",
     "text": [
      "2021-05-28 18:03:44> Number of hills 45,516, len = 20.18\n",
      "2021-05-28 18:03:44> Repeating hill extraction with ppm_tol 5.10\n",
      "2021-05-28 18:03:54> Number of hills 52,919, len = 21.29\n",
      "2021-05-28 18:04:56> After split hill_ptrs 79,545\n",
      "2021-05-28 18:05:07> After filter hill_ptrs 77,220\n",
      "2021-05-28 18:05:54> Extracting hill stats complete\n",
      "2021-05-28 18:06:14> Found 7,527 pre isotope patterns.\n",
      "2021-05-28 18:08:14> Extracted 7,578 isotope patterns.\n",
      "2021-05-28 18:08:28> Report complete.\n",
      "2021-05-28 18:08:28> Matching features to query data.\n",
      "2021-05-28 18:08:28> Note: NumExpr detected 24 cores but \"NUMEXPR_MAX_THREADS\" not set, so enforcing safe limit of 8.\n",
      "2021-05-28 18:08:28> NumExpr defaulting to 8 threads.\n",
      "2021-05-28 18:08:28> Saving feature table.\n",
      "2021-05-28 18:08:28> Feature table saved to D:\\willems\\data\\irt\\20200911_EXPL0_IgPa_6min_DDA_2.ms_data.hdf\n",
      "2021-05-28 18:08:28> Saving features.\n",
      "2021-05-28 18:08:28> Feature finding of file D:\\willems\\data\\irt\\20200911_EXPL0_IgPa_6min_DDA_2.raw complete.\n",
      "Time elapsed 306.7508282661438\n"
     ]
    }
   ],
   "source": [
    "main(\"numba-multithread\")"
   ]
  },
  {
   "cell_type": "code",
   "execution_count": 4,
   "id": "9184df05",
   "metadata": {},
   "outputs": [],
   "source": [
    "#main(\"python\")"
   ]
  },
  {
   "cell_type": "code",
   "execution_count": 5,
   "id": "7599972f",
   "metadata": {},
   "outputs": [],
   "source": [
    "# main(\"cuda\")"
   ]
  },
  {
   "cell_type": "code",
   "execution_count": 6,
   "id": "0a8b0ed4",
   "metadata": {},
   "outputs": [],
   "source": [
    "import alphapept.performance\n",
    "import alphapept.feature_finding"
   ]
  },
  {
   "cell_type": "code",
   "execution_count": 7,
   "id": "ae147797",
   "metadata": {},
   "outputs": [
    {
     "name": "stdout",
     "output_type": "stream",
     "text": [
      "<class 'function'>\n",
      "<class 'numba.core.registry.CPUDispatcher'>\n",
      "<class 'numba.core.registry.CPUDispatcher'>\n"
     ]
    }
   ],
   "source": [
    "import importlib\n",
    "alphapept.performance.set_compilation_mode(\"python\")\n",
    "importlib.reload(alphapept.feature_finding)\n",
    "print(type(alphapept.feature_finding.fast_minima))\n",
    "alphapept.performance.set_compilation_mode(\"numba\")\n",
    "importlib.reload(alphapept.feature_finding)\n",
    "print(type(alphapept.feature_finding.fast_minima))\n",
    "alphapept.performance.set_compilation_mode(\"cuda\")\n",
    "importlib.reload(alphapept.feature_finding)\n",
    "print(type(alphapept.feature_finding.fast_minima))\n",
    "alphapept.performance.set_compilation_mode(\"numba\")"
   ]
  },
  {
   "cell_type": "code",
   "execution_count": 8,
   "id": "de57e333",
   "metadata": {},
   "outputs": [
    {
     "name": "stdout",
     "output_type": "stream",
     "text": [
      "<class 'numba.core.registry.CPUDispatcher'>\n"
     ]
    }
   ],
   "source": [
    "print(type(alphapept.interface.alphapept.feature_finding.fast_minima))"
   ]
  },
  {
   "cell_type": "code",
   "execution_count": 9,
   "id": "9a7eaab6",
   "metadata": {},
   "outputs": [
    {
     "name": "stdout",
     "output_type": "stream",
     "text": [
      "<class 'function'>\n",
      "<class 'numba.core.registry.CPUDispatcher'>\n",
      "<class 'numba.core.registry.CPUDispatcher'>\n"
     ]
    }
   ],
   "source": [
    "import importlib\n",
    "alphapept.performance.set_compilation_mode(\"python\")\n",
    "importlib.reload(alphapept.interface.alphapept.feature_finding)\n",
    "print(type(alphapept.interface.alphapept.feature_finding.fast_minima))\n",
    "import importlib\n",
    "alphapept.performance.set_compilation_mode(\"numba\")\n",
    "importlib.reload(alphapept.interface.alphapept.feature_finding)\n",
    "print(type(alphapept.interface.alphapept.feature_finding.fast_minima))\n",
    "import importlib\n",
    "alphapept.performance.set_compilation_mode(\"cuda\")\n",
    "importlib.reload(alphapept.interface.alphapept.feature_finding)\n",
    "print(type(alphapept.interface.alphapept.feature_finding.fast_minima))\n",
    "alphapept.performance.set_compilation_mode(\"numba\")"
   ]
  },
  {
   "cell_type": "code",
   "execution_count": 10,
   "id": "92c46b79",
   "metadata": {},
   "outputs": [
    {
     "name": "stdout",
     "output_type": "stream",
     "text": [
      "range(0, 5, 8)\n",
      "range(1, 5, 8)\n",
      "range(2, 5, 8)\n",
      "range(3, 5, 8)\n",
      "range(4, 5, 8)\n",
      "range(5, 5, 8)\n",
      "range(5, 5, 8)\n",
      "range(5, 5, 8)\n"
     ]
    }
   ],
   "source": [
    "x=range(5)\n",
    "maxi=8\n",
    "for i in range(maxi):\n",
    "    print(x[i::maxi])"
   ]
  },
  {
   "cell_type": "code",
   "execution_count": 11,
   "id": "9601bd5d",
   "metadata": {},
   "outputs": [
    {
     "name": "stdout",
     "output_type": "stream",
     "text": [
      "1\n"
     ]
    }
   ],
   "source": [
    "for i in range(1,2,8):\n",
    "    print(i)"
   ]
  },
  {
   "cell_type": "code",
   "execution_count": 12,
   "id": "82219e78",
   "metadata": {},
   "outputs": [
    {
     "name": "stdout",
     "output_type": "stream",
     "text": [
      "int32\n"
     ]
    }
   ],
   "source": [
    "import numpy as np\n",
    "x = np.arange(5)\n",
    "print(x.dtype)"
   ]
  },
  {
   "cell_type": "code",
   "execution_count": null,
   "id": "e0025d5a",
   "metadata": {},
   "outputs": [],
   "source": []
  }
 ],
 "metadata": {
  "kernelspec": {
   "display_name": "Python 3",
   "language": "python",
   "name": "python3"
  },
  "language_info": {
   "codemirror_mode": {
    "name": "ipython",
    "version": 3
   },
   "file_extension": ".py",
   "mimetype": "text/x-python",
   "name": "python",
   "nbconvert_exporter": "python",
   "pygments_lexer": "ipython3",
   "version": "3.8.8"
  }
 },
 "nbformat": 4,
 "nbformat_minor": 5
}
