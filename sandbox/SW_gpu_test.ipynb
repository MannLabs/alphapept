{
 "cells": [
  {
   "cell_type": "code",
   "execution_count": null,
   "id": "c8ed5615",
   "metadata": {},
   "outputs": [],
   "source": [
    "# !pip install cupy-cuda111"
   ]
  },
  {
   "cell_type": "code",
   "execution_count": 1,
   "id": "11a337da",
   "metadata": {},
   "outputs": [],
   "source": [
    "import alphapept.performance\n",
    "import os\n",
    "from time import time\n",
    "import wget\n",
    "from alphapept.settings import load_settings\n",
    "from alphapept.paths import DEFAULT_SETTINGS_PATH\n",
    "import alphapept.interface\n",
    "import sys\n",
    "import shutil\n",
    "import logging\n",
    "import importlib\n",
    "import alphapept.feature_finding\n",
    "\n",
    "FILE_DICT = {}\n",
    "FILE_DICT['thermo_IRT.raw'] = \"D:/willems/data/raw/20200911_EXPL0_IgPa_6min_DDA_2.raw\"\n",
    "FILE_DICT['IRT_fasta.fasta'] = \"D:/willems/data/fasta/irtfusion.fasta\"\n",
    "\n",
    "\n",
    "tmp_folder = 'D:\\willems\\data\\irt'\n",
    "\n",
    "def delete_folder(dir_name):\n",
    "    if os.path.exists(dir_name):\n",
    "        shutil.rmtree(dir_name)\n",
    "\n",
    "\n",
    "def create_folder(dir_name):\n",
    "    if not os.path.exists(dir_name):\n",
    "        logging.info(f'Creating dir {dir_name}.')\n",
    "        os.makedirs(dir_name)\n",
    "\n",
    "def main(mode, worker_count=0):\n",
    "    alphapept.performance.set_compilation_mode(mode)\n",
    "    alphapept.performance.set_worker_count(worker_count)\n",
    "    importlib.reload(alphapept.feature_finding)\n",
    "    print(f\"Testing with mode {mode}\")\n",
    "    delete_folder(tmp_folder)\n",
    "    create_folder(tmp_folder)\n",
    "\n",
    "    for file, file_path in FILE_DICT.items():\n",
    "        shutil.copy(file_path, tmp_folder)\n",
    "    settings = load_settings(DEFAULT_SETTINGS_PATH)\n",
    "    settings['experiment']['file_paths'] =  [os.path.join(tmp_folder, '20200911_EXPL0_IgPa_6min_DDA_2.raw')]\n",
    "    settings['experiment']['fasta_paths'] = [os.path.join(tmp_folder, 'irtfusion.fasta')]\n",
    "\n",
    "    settings_ = alphapept.interface.import_raw_data(settings)\n",
    "    print(\"\\n\"*3)\n",
    "    start = time()\n",
    "    settings_ = alphapept.interface.feature_finding(settings)\n",
    "    end = time()\n",
    "\n",
    "    te = end-start\n",
    "\n",
    "    print(f'Time elapsed {te}')\n",
    "\n"
   ]
  },
  {
   "cell_type": "code",
   "execution_count": 2,
   "id": "0881ba0a",
   "metadata": {
    "scrolled": true
   },
   "outputs": [
    {
     "name": "stdout",
     "output_type": "stream",
     "text": [
      "Testing with mode numba-multithread\n",
      "2021-06-04 09:44:33> Logging to C:\\Users\\admin\\alphapept\\logs\\log_20210604094433.txt.\n",
      "2021-06-04 09:44:33> Platform information:\n",
      "2021-06-04 09:44:33> system     - Windows\n",
      "2021-06-04 09:44:33> release    - 10\n",
      "2021-06-04 09:44:33> version    - 10.0.19041\n",
      "2021-06-04 09:44:33> machine    - AMD64\n",
      "2021-06-04 09:44:33> processor  - Intel64 Family 6 Model 85 Stepping 4, GenuineIntel\n",
      "2021-06-04 09:44:33> cpu count  - 24\n",
      "2021-06-04 09:44:33> ram memory - 119.4/127.7 Gb (available/total)\n",
      "2021-06-04 09:44:33> \n",
      "2021-06-04 09:44:33> Python information:\n",
      "2021-06-04 09:44:33> SQLAlchemy     - 1.3.22\n",
      "2021-06-04 09:44:33> alphapept      - 0.3.21\n",
      "2021-06-04 09:44:33> biopython      - 1.78\n",
      "2021-06-04 09:44:33> click          - 7.1.2\n",
      "2021-06-04 09:44:33> comtypes       - 1.1.7\n",
      "2021-06-04 09:44:33> fastcore       - 1.3.5\n",
      "2021-06-04 09:44:33> h5py           - 3.1.0\n",
      "2021-06-04 09:44:33> lxml           - 4.6.2\n",
      "2021-06-04 09:44:33> matplotlib     - 3.3.3\n",
      "2021-06-04 09:44:33> nbdev          - 1.1.4\n",
      "2021-06-04 09:44:33> networkx       - 2.5\n",
      "2021-06-04 09:44:33> numba          - 0.52.0\n",
      "2021-06-04 09:44:33> numpy          - 1.19.4\n",
      "2021-06-04 09:44:33> pandas         - 1.2.1\n",
      "2021-06-04 09:44:33> plotly_express - 0.4.0\n",
      "2021-06-04 09:44:33> psutil         - 5.8.0\n",
      "2021-06-04 09:44:33> python         - 3.8.8\n",
      "2021-06-04 09:44:33> pythonnet      - 2.5.1\n",
      "2021-06-04 09:44:33> pyyaml         - 5.3.1\n",
      "2021-06-04 09:44:33> scikit-learn   - 0.23.2\n",
      "2021-06-04 09:44:33> scipy          - 1.6.0\n",
      "2021-06-04 09:44:33> seaborn        - 0.11.1\n",
      "2021-06-04 09:44:33> streamlit      - 0.80.0\n",
      "2021-06-04 09:44:33> tables         - 3.6.1\n",
      "2021-06-04 09:44:33> tqdm           - 4.56.0\n",
      "2021-06-04 09:44:33> watchdog       - 2.1.0\n",
      "2021-06-04 09:44:33> wget           - 3.2\n",
      "2021-06-04 09:44:33> \n",
      "2021-06-04 09:44:33> Check for settings not completely implemented yet.\n",
      "2021-06-04 09:44:33> Checking if files exist.\n",
      "2021-06-04 09:44:33> Results path was not set. Setting to D:\\willems\\data\\irt\\results.hdf\n",
      "2021-06-04 09:44:33> Shortnames not set. Setting to filename.\n",
      "2021-06-04 09:44:33> No database path set and save_db option checked. Using default path D:\\willems\\data\\irt\\database.hdf\n"
     ]
    },
    {
     "name": "stderr",
     "output_type": "stream",
     "text": [
      "\r",
      "  0%|                                                                                            | 0/1 [00:00<?, ?it/s]"
     ]
    },
    {
     "name": "stdout",
     "output_type": "stream",
     "text": [
      "2021-06-04 09:44:33> Processing 1 files for step raw_conversion\n",
      "2021-06-04 09:44:33> File D:\\willems\\data\\irt\\20200911_EXPL0_IgPa_6min_DDA_2 has extension .raw - converting from Thermo.\n",
      "2021-06-04 09:44:38> File conversion complete. Extracted 2,603 precursors.\n",
      "2021-06-04 09:44:38> File conversion of file D:\\willems\\data\\irt\\20200911_EXPL0_IgPa_6min_DDA_2.raw complete.\n",
      "\n",
      "\n",
      "\n",
      "\n",
      "2021-06-04 09:44:38> Logging to C:\\Users\\admin\\alphapept\\logs\\log_20210604094438.txt.\n",
      "2021-06-04 09:44:38> Platform information:\n",
      "2021-06-04 09:44:38> system     - Windows\n",
      "2021-06-04 09:44:38> release    - 10\n",
      "2021-06-04 09:44:38> version    - 10.0.19041\n",
      "2021-06-04 09:44:38> machine    - AMD64\n",
      "2021-06-04 09:44:38> processor  - Intel64 Family 6 Model 85 Stepping 4, GenuineIntel\n",
      "2021-06-04 09:44:38> cpu count  - 24\n",
      "2021-06-04 09:44:38> ram memory - 119.3/127.7 Gb (available/total)\n",
      "2021-06-04 09:44:38> \n",
      "2021-06-04 09:44:38> Python information:\n",
      "2021-06-04 09:44:38> SQLAlchemy     - 1.3.22\n",
      "2021-06-04 09:44:38> alphapept      - 0.3.21\n",
      "2021-06-04 09:44:38> biopython      - 1.78\n",
      "2021-06-04 09:44:38> click          - 7.1.2\n",
      "2021-06-04 09:44:38> comtypes       - 1.1.7\n",
      "2021-06-04 09:44:38> fastcore       - 1.3.5\n",
      "2021-06-04 09:44:38> h5py           - 3.1.0\n",
      "2021-06-04 09:44:38> lxml           - 4.6.2\n",
      "2021-06-04 09:44:38> matplotlib     - 3.3.3\n",
      "2021-06-04 09:44:38> nbdev          - 1.1.4\n",
      "2021-06-04 09:44:38> networkx       - 2.5\n",
      "2021-06-04 09:44:38> numba          - 0.52.0\n",
      "2021-06-04 09:44:38> numpy          - 1.19.4\n",
      "2021-06-04 09:44:38> pandas         - 1.2.1\n",
      "2021-06-04 09:44:38> plotly_express - 0.4.0\n",
      "2021-06-04 09:44:38> psutil         - 5.8.0\n",
      "2021-06-04 09:44:38> python         - 3.8.8\n",
      "2021-06-04 09:44:38> pythonnet      - 2.5.1\n",
      "2021-06-04 09:44:38> pyyaml         - 5.3.1\n",
      "2021-06-04 09:44:38> scikit-learn   - 0.23.2\n",
      "2021-06-04 09:44:38> scipy          - 1.6.0\n",
      "2021-06-04 09:44:38> seaborn        - 0.11.1\n",
      "2021-06-04 09:44:38> streamlit      - 0.80.0\n",
      "2021-06-04 09:44:38> tables         - 3.6.1\n",
      "2021-06-04 09:44:38> tqdm           - 4.56.0\n",
      "2021-06-04 09:44:38> watchdog       - 2.1.0\n",
      "2021-06-04 09:44:38> wget           - 3.2\n",
      "2021-06-04 09:44:38> \n",
      "2021-06-04 09:44:38> Check for settings not completely implemented yet.\n",
      "2021-06-04 09:44:38> Checking if files exist.\n"
     ]
    },
    {
     "name": "stderr",
     "output_type": "stream",
     "text": [
      "\n",
      "  0%|                                                                                            | 0/1 [00:00<?, ?it/s]\u001b[A"
     ]
    },
    {
     "name": "stdout",
     "output_type": "stream",
     "text": [
      "2021-06-04 09:44:38> Processing 1 files for step find_features\n",
      "2021-06-04 09:44:38> No *.hdf file with features found for D:\\willems\\data\\irt\\20200911_EXPL0_IgPa_6min_DDA_2.ms_data.hdf. Adding to feature finding list.\n",
      "2021-06-04 09:44:38> Feature finding on D:\\willems\\data\\irt\\20200911_EXPL0_IgPa_6min_DDA_2.raw\n",
      "2021-06-04 09:44:38> Hill extraction with ppm_tol 8 and max_gap 2\n"
     ]
    },
    {
     "name": "stderr",
     "output_type": "stream",
     "text": [
      "  0%|                                                                                            | 0/1 [00:06<?, ?it/s]\n"
     ]
    },
    {
     "name": "stdout",
     "output_type": "stream",
     "text": [
      "2021-06-04 09:44:41> Number of hills 45,516, len = 20.18\n",
      "2021-06-04 09:44:41> Repeating hill extraction with ppm_tol 5.10\n",
      "2021-06-04 09:44:42> Number of hills 52,919, len = 21.29\n",
      "2021-06-04 09:44:49> After split hill_ptrs 79,545\n",
      "2021-06-04 09:44:50> After filter hill_ptrs 77,220\n",
      "2021-06-04 09:45:04> Extracting hill stats complete\n",
      "2021-06-04 09:45:06> Found 7,527 pre isotope patterns.\n",
      "2021-06-04 09:45:23> Extracted 7,578 isotope patterns.\n",
      "2021-06-04 09:45:31> Report complete.\n",
      "2021-06-04 09:45:31> Matching features to query data.\n",
      "2021-06-04 09:45:31> Note: NumExpr detected 24 cores but \"NUMEXPR_MAX_THREADS\" not set, so enforcing safe limit of 8.\n",
      "2021-06-04 09:45:31> NumExpr defaulting to 8 threads.\n",
      "2021-06-04 09:45:31> Saving feature table.\n",
      "2021-06-04 09:45:31> Feature table saved to D:\\willems\\data\\irt\\20200911_EXPL0_IgPa_6min_DDA_2.ms_data.hdf\n",
      "2021-06-04 09:45:31> Saving features.\n",
      "2021-06-04 09:45:31> Feature finding of file D:\\willems\\data\\irt\\20200911_EXPL0_IgPa_6min_DDA_2.raw complete.\n",
      "Time elapsed 53.12916135787964\n"
     ]
    }
   ],
   "source": [
    "main(\"numba-multithread\")"
   ]
  },
  {
   "cell_type": "code",
   "execution_count": null,
   "id": "9184df05",
   "metadata": {},
   "outputs": [],
   "source": [
    "#main(\"python\")"
   ]
  },
  {
   "cell_type": "code",
   "execution_count": null,
   "id": "7599972f",
   "metadata": {},
   "outputs": [],
   "source": [
    "# main(\"cuda\")"
   ]
  },
  {
   "cell_type": "code",
   "execution_count": null,
   "id": "0a8b0ed4",
   "metadata": {},
   "outputs": [],
   "source": [
    "import alphapept.performance\n",
    "import alphapept.feature_finding"
   ]
  },
  {
   "cell_type": "code",
   "execution_count": null,
   "id": "ae147797",
   "metadata": {},
   "outputs": [],
   "source": [
    "import importlib\n",
    "alphapept.performance.set_compilation_mode(\"python\")\n",
    "importlib.reload(alphapept.feature_finding)\n",
    "print(type(alphapept.feature_finding.fast_minima))\n",
    "alphapept.performance.set_compilation_mode(\"numba\")\n",
    "importlib.reload(alphapept.feature_finding)\n",
    "print(type(alphapept.feature_finding.fast_minima))\n",
    "alphapept.performance.set_compilation_mode(\"cuda\")\n",
    "importlib.reload(alphapept.feature_finding)\n",
    "print(type(alphapept.feature_finding.fast_minima))\n",
    "alphapept.performance.set_compilation_mode(\"numba\")"
   ]
  },
  {
   "cell_type": "code",
   "execution_count": null,
   "id": "de57e333",
   "metadata": {},
   "outputs": [],
   "source": [
    "print(type(alphapept.interface.alphapept.feature_finding.fast_minima))"
   ]
  },
  {
   "cell_type": "code",
   "execution_count": null,
   "id": "9a7eaab6",
   "metadata": {},
   "outputs": [],
   "source": [
    "import importlib\n",
    "alphapept.performance.set_compilation_mode(\"python\")\n",
    "importlib.reload(alphapept.interface.alphapept.feature_finding)\n",
    "print(type(alphapept.interface.alphapept.feature_finding.fast_minima))\n",
    "import importlib\n",
    "alphapept.performance.set_compilation_mode(\"numba\")\n",
    "importlib.reload(alphapept.interface.alphapept.feature_finding)\n",
    "print(type(alphapept.interface.alphapept.feature_finding.fast_minima))\n",
    "import importlib\n",
    "alphapept.performance.set_compilation_mode(\"cuda\")\n",
    "importlib.reload(alphapept.interface.alphapept.feature_finding)\n",
    "print(type(alphapept.interface.alphapept.feature_finding.fast_minima))\n",
    "alphapept.performance.set_compilation_mode(\"numba\")"
   ]
  },
  {
   "cell_type": "code",
   "execution_count": null,
   "id": "92c46b79",
   "metadata": {},
   "outputs": [],
   "source": [
    "x=range(5)\n",
    "maxi=8\n",
    "for i in range(maxi):\n",
    "    print(x[i::maxi])"
   ]
  },
  {
   "cell_type": "code",
   "execution_count": null,
   "id": "9601bd5d",
   "metadata": {},
   "outputs": [],
   "source": [
    "for i in range(1,2,8):\n",
    "    print(i)"
   ]
  },
  {
   "cell_type": "code",
   "execution_count": null,
   "id": "82219e78",
   "metadata": {},
   "outputs": [],
   "source": [
    "import numpy as np\n",
    "x = np.arange(5)\n",
    "print(x.dtype)"
   ]
  },
  {
   "cell_type": "code",
   "execution_count": null,
   "id": "e0025d5a",
   "metadata": {},
   "outputs": [],
   "source": []
  }
 ],
 "metadata": {
  "kernelspec": {
   "display_name": "Python 3",
   "language": "python",
   "name": "python3"
  },
  "language_info": {
   "codemirror_mode": {
    "name": "ipython",
    "version": 3
   },
   "file_extension": ".py",
   "mimetype": "text/x-python",
   "name": "python",
   "nbconvert_exporter": "python",
   "pygments_lexer": "ipython3",
   "version": "3.8.8"
  }
 },
 "nbformat": 4,
 "nbformat_minor": 5
}
