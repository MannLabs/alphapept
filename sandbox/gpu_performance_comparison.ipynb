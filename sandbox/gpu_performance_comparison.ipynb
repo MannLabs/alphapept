{
 "cells": [
  {
   "cell_type": "code",
   "execution_count": 1,
   "id": "c8ed5615",
   "metadata": {},
   "outputs": [],
   "source": [
    "# !pip install cupy-cuda111"
   ]
  },
  {
   "cell_type": "code",
   "execution_count": 2,
   "id": "11a337da",
   "metadata": {},
   "outputs": [
    {
     "name": "stdout",
     "output_type": "stream",
     "text": [
      "2021-06-04 13:46:44> Logging to C:\\Users\\admin\\alphapept\\logs\\log_20210604134644.txt.\n",
      "2021-06-04 13:46:44> Platform information:\n",
      "2021-06-04 13:46:44> system     - Windows\n",
      "2021-06-04 13:46:44> release    - 10\n",
      "2021-06-04 13:46:44> version    - 10.0.19041\n",
      "2021-06-04 13:46:44> machine    - AMD64\n",
      "2021-06-04 13:46:44> processor  - Intel64 Family 6 Model 85 Stepping 4, GenuineIntel\n",
      "2021-06-04 13:46:44> cpu count  - 24\n",
      "2021-06-04 13:46:44> ram memory - 115.3/127.7 Gb (available/total)\n",
      "2021-06-04 13:46:44> \n",
      "2021-06-04 13:46:44> Python information:\n",
      "2021-06-04 13:46:44> SQLAlchemy     - 1.3.22\n",
      "2021-06-04 13:46:44> alphapept      - 0.3.21\n",
      "2021-06-04 13:46:44> biopython      - 1.78\n",
      "2021-06-04 13:46:44> click          - 7.1.2\n",
      "2021-06-04 13:46:44> comtypes       - 1.1.7\n",
      "2021-06-04 13:46:44> fastcore       - 1.3.5\n",
      "2021-06-04 13:46:44> h5py           - 3.1.0\n",
      "2021-06-04 13:46:44> lxml           - 4.6.2\n",
      "2021-06-04 13:46:44> matplotlib     - 3.3.3\n",
      "2021-06-04 13:46:44> nbdev          - 1.1.4\n",
      "2021-06-04 13:46:44> networkx       - 2.5\n",
      "2021-06-04 13:46:44> numba          - 0.52.0\n",
      "2021-06-04 13:46:44> numpy          - 1.19.4\n",
      "2021-06-04 13:46:44> pandas         - 1.2.1\n",
      "2021-06-04 13:46:44> plotly_express - 0.4.0\n",
      "2021-06-04 13:46:44> psutil         - 5.8.0\n",
      "2021-06-04 13:46:44> python         - 3.8.8\n",
      "2021-06-04 13:46:44> pythonnet      - 2.5.1\n",
      "2021-06-04 13:46:44> pyyaml         - 5.3.1\n",
      "2021-06-04 13:46:44> scikit-learn   - 0.23.2\n",
      "2021-06-04 13:46:44> scipy          - 1.6.0\n",
      "2021-06-04 13:46:44> seaborn        - 0.11.1\n",
      "2021-06-04 13:46:44> streamlit      - 0.80.0\n",
      "2021-06-04 13:46:44> tables         - 3.6.1\n",
      "2021-06-04 13:46:44> tqdm           - 4.56.0\n",
      "2021-06-04 13:46:44> watchdog       - 2.1.0\n",
      "2021-06-04 13:46:44> wget           - 3.2\n",
      "2021-06-04 13:46:44> \n",
      "2021-06-04 13:46:44> Check for settings not completely implemented yet.\n",
      "2021-06-04 13:46:44> Checking if files exist.\n",
      "2021-06-04 13:46:44> Results path was not set. Setting to D:\\willems\\data\\gpu_cpu_performance_comparison\\results.hdf\n",
      "2021-06-04 13:46:44> Shortnames not set. Setting to filename.\n",
      "2021-06-04 13:46:44> No database path set and save_db option checked. Using default path D:\\willems\\data\\gpu_cpu_performance_comparison\\database.hdf\n"
     ]
    },
    {
     "name": "stderr",
     "output_type": "stream",
     "text": [
      "\r",
      "  0%|                                                                                            | 0/1 [00:00<?, ?it/s]"
     ]
    },
    {
     "name": "stdout",
     "output_type": "stream",
     "text": [
      "2021-06-04 13:46:44> Processing 1 files for step raw_conversion\n",
      "2021-06-04 13:46:44> File D:\\willems\\data\\gpu_cpu_performance_comparison\\HeLa_500ng has extension .raw - converting from Thermo.\n",
      "2021-06-04 13:48:58> File conversion complete. Extracted 120,226 precursors.\n",
      "2021-06-04 13:49:04> File conversion of file D:\\willems\\data\\gpu_cpu_performance_comparison\\HeLa_500ng.raw complete.\n"
     ]
    }
   ],
   "source": [
    "import alphapept.performance\n",
    "import os\n",
    "import time\n",
    "import alphapept.settings\n",
    "import alphapept.paths\n",
    "import alphapept.interface\n",
    "import sys\n",
    "import shutil\n",
    "import logging\n",
    "import importlib\n",
    "import alphapept.feature_finding\n",
    "import numpy as np\n",
    "\n",
    "sample = \"HeLa_500ng.raw\"\n",
    "original_file = f\"D:/willems/data/raw/{sample}\"\n",
    "tmp_folder = 'D:\\willems\\data\\gpu_cpu_performance_comparison'\n",
    "\n",
    "if os.path.exists(tmp_folder):\n",
    "    shutil.rmtree(tmp_folder)\n",
    "\n",
    "os.makedirs(tmp_folder)\n",
    "shutil.copy(original_file, tmp_folder)\n",
    "\n",
    "file_name = os.path.join(tmp_folder, sample)\n",
    "settings = alphapept.settings.load_settings(alphapept.paths.DEFAULT_SETTINGS_PATH)\n",
    "settings['experiment']['file_paths'] = [file_name]\n",
    "settings_ = alphapept.interface.import_raw_data(settings)\n",
    "base, ext = os.path.splitext(file_name)\n",
    "ms_file = alphapept.io.MS_Data_File(f\"{base}.ms_data.hdf\", is_read_only=True)\n",
    "query_data = ms_file.read_DDA_query_data()\n",
    "int_data = np.array(query_data['int_list_ms1'])\n",
    "f_settings = settings['features']\n",
    "max_gap = f_settings['max_gap']\n",
    "ppm_tol = f_settings['ppm_tol']\n",
    "split_level = f_settings['split_level']\n",
    "window = f_settings['smoothing_window']\n",
    "large_peak = f_settings['large_peak']\n",
    "\n",
    "min_charge = f_settings['min_charge']\n",
    "max_charge = f_settings['max_charge']\n",
    "seed_masses = f_settings['seed_masses']\n",
    "\n",
    "hill_nboot_max = f_settings['hill_nboot_max']\n",
    "hill_nboot = f_settings['hill_nboot']\n",
    "\n",
    "mass_range = f_settings['mass_range']\n",
    "\n",
    "min_correlation = f_settings['min_correlation']"
   ]
  },
  {
   "cell_type": "code",
   "execution_count": 3,
   "id": "01ab0b3c",
   "metadata": {},
   "outputs": [],
   "source": [
    "import timeit\n",
    "import time\n",
    "\n",
    "def timing_decorator(func, timings_dict, repeats=3, loops_per_repeat=1):\n",
    "    def wrapper(*args, **kwargs):\n",
    "        if func.__name__ not in timings_dict:\n",
    "            timings_dict[func.__name__] = {}\n",
    "        if alphapept.performance.COMPILATION_MODE in timings_dict[func.__name__]:\n",
    "            logging.warning(\n",
    "                f\"{func.__name__} is already timed for {alphapept.performance.COMPILATION_MODE}\"\n",
    "            )\n",
    "#         timings_dict[func.__name__][alphapept.performance.COMPILATION_MODE] = timeit.repeat(\n",
    "#             lambda: func(*args, **kwargs),\n",
    "#             number=loops_per_repeat,\n",
    "#             repeat=repeats\n",
    "#         )\n",
    "#         return func(*args, **kwargs)\n",
    "        start = time.time()\n",
    "        results = func(*args, **kwargs)\n",
    "        timings_dict[func.__name__][alphapept.performance.COMPILATION_MODE] = time.time() - start\n",
    "        return results\n",
    "    return wrapper"
   ]
  },
  {
   "cell_type": "code",
   "execution_count": 4,
   "id": "1a9db362",
   "metadata": {},
   "outputs": [],
   "source": [
    "def time_feature_finding_functions(\n",
    "    compilation_mode,\n",
    "    timings_dict,\n",
    "    repeats=3,\n",
    "    loops_per_repeat=1\n",
    "):\n",
    "    print(f\"Running feature finding functions with compilation mode '{compilation_mode}'\")\n",
    "    alphapept.performance.set_compilation_mode(compilation_mode)\n",
    "    importlib.reload(alphapept.feature_finding)\n",
    "    alphapept.feature_finding.connect_centroids_unidirection = timing_decorator(\n",
    "        alphapept.feature_finding.connect_centroids_unidirection,\n",
    "        timings_dict,\n",
    "        repeats=3,\n",
    "        loops_per_repeat=1\n",
    "    )\n",
    "    alphapept.feature_finding.convert_connections_to_array = timing_decorator(\n",
    "        alphapept.feature_finding.convert_connections_to_array,\n",
    "        timings_dict,\n",
    "        repeats=3,\n",
    "        loops_per_repeat=1\n",
    "    )\n",
    "    alphapept.feature_finding.eliminate_overarching_vertex = timing_decorator(\n",
    "        alphapept.feature_finding.eliminate_overarching_vertex,\n",
    "        timings_dict,\n",
    "        repeats=3,\n",
    "        loops_per_repeat=1\n",
    "    )\n",
    "    alphapept.feature_finding.path_finder = timing_decorator(\n",
    "        alphapept.feature_finding.path_finder,\n",
    "        timings_dict,\n",
    "        repeats=3,\n",
    "        loops_per_repeat=1\n",
    "    )\n",
    "    alphapept.feature_finding.find_path_start = timing_decorator(\n",
    "        alphapept.feature_finding.find_path_start,\n",
    "        timings_dict,\n",
    "        repeats=3,\n",
    "        loops_per_repeat=1\n",
    "    )\n",
    "    alphapept.feature_finding.find_path_length = timing_decorator(\n",
    "        alphapept.feature_finding.find_path_length,\n",
    "        timings_dict,\n",
    "        repeats=3,\n",
    "        loops_per_repeat=1\n",
    "    )\n",
    "    alphapept.feature_finding.fill_path_matrix = timing_decorator(\n",
    "        alphapept.feature_finding.fill_path_matrix,\n",
    "        timings_dict,\n",
    "        repeats=3,\n",
    "        loops_per_repeat=1\n",
    "    )\n",
    "        \n",
    "    logging.info(f'Hill extraction with ppm_tol {ppm_tol} and max_gap {max_gap}')\n",
    "    hill_ptrs, hill_data, path_node_cnt, score_median, score_std = alphapept.feature_finding.extract_hills(query_data, max_gap, ppm_tol)\n",
    "    logging.info(f'Number of hills {len(hill_ptrs):,}, len = {np.mean(path_node_cnt):.2f}')"
   ]
  },
  {
   "cell_type": "code",
   "execution_count": 5,
   "id": "6d57310b",
   "metadata": {},
   "outputs": [
    {
     "name": "stdout",
     "output_type": "stream",
     "text": [
      "Running feature finding functions with compilation mode 'cuda'\n",
      "2021-06-04 13:49:04> Hill extraction with ppm_tol 8 and max_gap 2\n",
      "2021-06-04 13:49:07> Number of hills 1,105,353, len = 17.35\n",
      "Running feature finding functions with compilation mode 'numba-multithread'\n",
      "2021-06-04 13:49:07> Hill extraction with ppm_tol 8 and max_gap 2\n"
     ]
    },
    {
     "name": "stderr",
     "output_type": "stream",
     "text": [
      "  0%|                                                                                            | 0/1 [02:23<?, ?it/s]\n"
     ]
    },
    {
     "name": "stdout",
     "output_type": "stream",
     "text": [
      "2021-06-04 13:49:13> Number of hills 1,105,353, len = 17.35\n",
      "Running feature finding functions with compilation mode 'numba'\n",
      "2021-06-04 13:49:13> Hill extraction with ppm_tol 8 and max_gap 2\n",
      "2021-06-04 13:49:21> Number of hills 1,105,353, len = 17.35\n",
      "Running feature finding functions with compilation mode 'python'\n",
      "2021-06-04 13:49:21> Hill extraction with ppm_tol 8 and max_gap 2\n",
      "2021-06-04 13:55:00> Number of hills 1,105,353, len = 17.35\n"
     ]
    }
   ],
   "source": [
    "timings_dict = {}\n",
    "\n",
    "time_feature_finding_functions(\"cuda\", timings_dict)\n",
    "time_feature_finding_functions(\"numba-multithread\", timings_dict)\n",
    "time_feature_finding_functions(\"numba\", timings_dict)\n",
    "time_feature_finding_functions(\"python\", timings_dict)"
   ]
  },
  {
   "cell_type": "code",
   "execution_count": 6,
   "id": "93d157ef",
   "metadata": {},
   "outputs": [
    {
     "data": {
      "image/png": "[encoded data removed]",
      "text/plain": [
       "<Figure size 432x288 with 1 Axes>"
      ]
     },
     "metadata": {
      "needs_background": "light"
     },
     "output_type": "display_data"
    },
    {
     "data": {
      "image/png": "[encoded data removed]",
      "text/plain": [
       "<Figure size 432x288 with 1 Axes>"
      ]
     },
     "metadata": {
      "needs_background": "light"
     },
     "output_type": "display_data"
    },
    {
     "data": {
      "image/png": "[encoded data removed]",
      "text/plain": [
       "<Figure size 432x288 with 1 Axes>"
      ]
     },
     "metadata": {
      "needs_background": "light"
     },
     "output_type": "display_data"
    },
    {
     "data": {
      "image/png": "[encoded data removed]",
      "text/plain": [
       "<Figure size 432x288 with 1 Axes>"
      ]
     },
     "metadata": {
      "needs_background": "light"
     },
     "output_type": "display_data"
    },
    {
     "data": {
      "image/png": "[encoded data removed]",
      "text/plain": [
       "<Figure size 432x288 with 1 Axes>"
      ]
     },
     "metadata": {
      "needs_background": "light"
     },
     "output_type": "display_data"
    },
    {
     "data": {
      "image/png": "[encoded data removed]",
      "text/plain": [
       "<Figure size 432x288 with 1 Axes>"
      ]
     },
     "metadata": {
      "needs_background": "light"
     },
     "output_type": "display_data"
    },
    {
     "data": {
      "image/png": "[encoded data removed]",
      "text/plain": [
       "<Figure size 432x288 with 1 Axes>"
      ]
     },
     "metadata": {
      "needs_background": "light"
     },
     "output_type": "display_data"
    }
   ],
   "source": [
    "from matplotlib import pyplot as plt\n",
    "include_python = False\n",
    "for func in timings_dict:\n",
    "    if not include_python:\n",
    "        plt.bar(list(timings_dict[func].keys())[:-1], list(timings_dict[func].values())[:-1])\n",
    "    else:\n",
    "        plt.bar(list(timings_dict[func].keys()), list(timings_dict[func].values()))\n",
    "    plt.title(func)\n",
    "    plt.show()"
   ]
  },
  {
   "cell_type": "code",
   "execution_count": null,
   "id": "c01c4a73",
   "metadata": {},
   "outputs": [],
   "source": []
  }
 ],
 "metadata": {
  "kernelspec": {
   "display_name": "Python 3",
   "language": "python",
   "name": "python3"
  },
  "language_info": {
   "codemirror_mode": {
    "name": "ipython",
    "version": 3
   },
   "file_extension": ".py",
   "mimetype": "text/x-python",
   "name": "python",
   "nbconvert_exporter": "python",
   "pygments_lexer": "ipython3",
   "version": "3.8.8"
  }
 },
 "nbformat": 4,
 "nbformat_minor": 5
}
