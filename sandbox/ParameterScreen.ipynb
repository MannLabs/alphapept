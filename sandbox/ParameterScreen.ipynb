{
 "cells": [
  {
   "cell_type": "markdown",
   "id": "clean-conducting",
   "metadata": {},
   "source": [
    "# Parameter Screen"
   ]
  },
  {
   "cell_type": "code",
   "execution_count": 1,
   "id": "divided-christopher",
   "metadata": {
    "scrolled": true
   },
   "outputs": [],
   "source": [
    "from alphapept.paths import SETTINGS_TEMPLATE_PATH, DEFAULT_SETTINGS_PATH\n",
    "import numpy as np\n",
    "import alphapept.interface\n",
    "from alphapept.settings import load_settings_as_template \n",
    "\n",
    "SETTINGS_TEMPLATE = load_settings_as_template(SETTINGS_TEMPLATE_PATH)"
   ]
  },
  {
   "cell_type": "code",
   "execution_count": 2,
   "id": "recovered-priority",
   "metadata": {
    "scrolled": false
   },
   "outputs": [
    {
     "name": "stdout",
     "output_type": "stream",
     "text": [
      "dict_keys(['max_gap', 'centroid_tol', 'hill_length_min', 'hill_split_level', 'iso_split_level', 'hill_smoothing', 'hill_check_large', 'iso_charge_min', 'iso_charge_max', 'iso_n_seeds', 'hill_nboot_max', 'hill_nboot', 'iso_mass_range', 'iso_corr_min', 'map_mz_range', 'map_rt_range', 'map_mob_range', 'map_n_neighbors', 'search_unidentified'])\n",
      "features centroid_tol 1.0\n",
      "2022-03-11 10:27:06> Logging to C:\\Users\\admin\\alphapept\\logs\\log_20220311102706.txt.\n",
      "2022-03-11 10:27:06> Platform information:\n",
      "2022-03-11 10:27:06> system     - Windows\n",
      "2022-03-11 10:27:06> release    - 10\n",
      "2022-03-11 10:27:06> version    - 10.0.19044\n",
      "2022-03-11 10:27:06> machine    - AMD64\n",
      "2022-03-11 10:27:06> processor  - Intel64 Family 6 Model 85 Stepping 4, GenuineIntel\n",
      "2022-03-11 10:27:06> cpu count  - 24\n",
      "2022-03-11 10:27:06> ram memory - 118.2/127.7 Gb (available/total)\n",
      "2022-03-11 10:27:06> \n",
      "2022-03-11 10:27:06> Python information:\n",
      "2022-03-11 10:27:06> SQLAlchemy                    - 1.4.23\n",
      "2022-03-11 10:27:06> alphapept                     - 0.4.0\n",
      "2022-03-11 10:27:06> biopython                     - 1.78\n",
      "2022-03-11 10:27:06> bumpversion                   - \n",
      "2022-03-11 10:27:06> bumpversion>                  - \n",
      "2022-03-11 10:27:06> click                         - 7.1.2\n",
      "2022-03-11 10:27:06> click>                        - \n",
      "2022-03-11 10:27:06> fastcore                      - 1.3.21\n",
      "2022-03-11 10:27:06> h5py                          - 3.4.0\n",
      "2022-03-11 10:27:06> jupyter                       - 1.0.0\n",
      "2022-03-11 10:27:06> jupyter>                      - \n",
      "2022-03-11 10:27:06> jupyter_contrib_nbextensions  - \n",
      "2022-03-11 10:27:06> jupyter_contrib_nbextensions> - \n",
      "2022-03-11 10:27:06> matplotlib                    - 3.3.3\n",
      "2022-03-11 10:27:06> nbdev                         - 1.1.23\n",
      "2022-03-11 10:27:06> nbdev>                        - \n",
      "2022-03-11 10:27:06> networkx                      - 2.6.3\n",
      "2022-03-11 10:27:06> numba                         - 0.54.0\n",
      "2022-03-11 10:27:06> numpy                         - 1.20.3\n",
      "2022-03-11 10:27:06> pandas                        - 1.3.4\n",
      "2022-03-11 10:27:06> plotly_express                - 0.4.1\n",
      "2022-03-11 10:27:06> psutil                        - 5.8.0\n",
      "2022-03-11 10:27:06> pyinstaller                   - \n",
      "2022-03-11 10:27:06> pyteomics                     - 4.4.2\n",
      "2022-03-11 10:27:06> python                        - 3.8.12\n",
      "2022-03-11 10:27:06> pythonnet                     - 2.5.2\n",
      "2022-03-11 10:27:06> pywin32                       - 225\n",
      "2022-03-11 10:27:06> pyyaml                        - 5.4.1\n",
      "2022-03-11 10:27:06> scikit-learn                  - 0.24.2\n",
      "2022-03-11 10:27:06> scipy                         - 1.7.1\n",
      "2022-03-11 10:27:06> streamlit                     - 1.2.0\n",
      "2022-03-11 10:27:06> streamlit-aggrid              - 0.2.2.post4\n",
      "2022-03-11 10:27:06> streamlit>                    - \n",
      "2022-03-11 10:27:06> tables                        - 3.6.1\n",
      "2022-03-11 10:27:06> tqdm                          - 4.56.0\n",
      "2022-03-11 10:27:06> twine                         - \n",
      "2022-03-11 10:27:06> twine>                        - \n",
      "2022-03-11 10:27:06> watchdog                      - 2.1.5\n",
      "2022-03-11 10:27:06> wget                          - 3.2\n",
      "2022-03-11 10:27:06> \n",
      "2022-03-11 10:27:06> Check for settings not completely implemented yet.\n",
      "2022-03-11 10:27:06> Checking if files exist.\n",
      "2022-03-11 10:27:06> FASTA Files have a total size of 0.00 Mb\n",
      "2022-03-11 10:27:06> Results path was not set. Setting to F:\\temp_test_run\\results.hdf\n",
      "2022-03-11 10:27:06> Shortnames not set. Setting to filename.\n",
      "2022-03-11 10:27:06> No database path set and save_db option checked. Using default path F:\\temp_test_run\\database.hdf\n",
      "2022-03-11 10:27:06> Deleted F:/temp_test_run/thermo_IRT.ms_data.hdf\n",
      "2022-03-11 10:27:06> Workflow has 11 steps\n",
      "2022-03-11 10:27:06> ==== create_database ====\n",
      "2022-03-11 10:27:06> Database path set and exists. Using F:\\temp_test_run\\database.hdf as database.\n",
      "2022-03-11 10:27:06> ==== import_raw_data ====\n"
     ]
    },
    {
     "name": "stderr",
     "output_type": "stream",
     "text": [
      "\r",
      "  0%|                                                                                            | 0/1 [00:00<?, ?it/s]"
     ]
    },
    {
     "name": "stdout",
     "output_type": "stream",
     "text": [
      "2022-03-11 10:27:06> Processing 1 files for step raw_conversion\n",
      "2022-03-11 10:27:06> File F:/temp_test_run/thermo_IRT has extension .raw - converting from Thermo.\n",
      "2022-03-11 10:27:10> File conversion complete. Extracted 2,603 precursors.\n",
      "2022-03-11 10:27:10> File conversion of file F:/temp_test_run/thermo_IRT.raw complete.\n",
      "2022-03-11 10:27:10> ==== feature_finding ====\n"
     ]
    },
    {
     "name": "stderr",
     "output_type": "stream",
     "text": [
      "  0%|                                                                                            | 0/1 [00:03<?, ?it/s]\n",
      "  0%|                                                                                            | 0/1 [00:00<?, ?it/s]"
     ]
    },
    {
     "name": "stdout",
     "output_type": "stream",
     "text": [
      "2022-03-11 10:27:11> Processing 1 files for step find_features\n",
      "2022-03-11 10:27:11> No *.hdf file with features found for F:/temp_test_run/thermo_IRT.ms_data.hdf. Adding to feature finding list.\n",
      "2022-03-11 10:27:11> Feature finding on F:/temp_test_run/thermo_IRT.raw\n",
      "2022-03-11 10:27:11> Hill extraction with centroid_tol 1 and max_gap 2\n",
      "2022-03-11 10:27:14> Number of hills 103,133, len = 10.84\n",
      "2022-03-11 10:27:14> Repeating hill extraction with centroid_tol 1.27\n",
      "2022-03-11 10:27:15> Number of hills 102,643, len = 13.00\n",
      "2022-03-11 10:27:18> After duplicate removal of hills 62,161\n",
      "2022-03-11 10:27:24> After split hill_ptrs 68,278\n",
      "2022-03-11 10:27:25> After filter hill_ptrs 67,518\n",
      "2022-03-11 10:27:37> Extracting hill stats complete\n",
      "2022-03-11 10:27:40> Found 4,869 pre isotope patterns.\n",
      "2022-03-11 10:27:57> Extracted 4,294 isotope patterns.\n",
      "2022-03-11 10:28:06> Report complete.\n",
      "2022-03-11 10:28:06> Matching features to query data.\n",
      "2022-03-11 10:28:06> Saving feature table.\n",
      "2022-03-11 10:28:06> Feature table saved to F:/temp_test_run/thermo_IRT.ms_data.hdf\n",
      "2022-03-11 10:28:06> Saving features.\n",
      "2022-03-11 10:28:06> Feature finding of file F:/temp_test_run/thermo_IRT.raw complete.\n",
      "2022-03-11 10:28:06> ==== search_data ====\n"
     ]
    },
    {
     "name": "stderr",
     "output_type": "stream",
     "text": [
      "\n",
      "  0%|                                                                                            | 0/1 [00:00<?, ?it/s]\u001b[A"
     ]
    },
    {
     "name": "stdout",
     "output_type": "stream",
     "text": [
      "2022-03-11 10:28:06> Starting first search.\n",
      "2022-03-11 10:28:06> Processing 1 files for step search_db\n",
      "2022-03-11 10:28:06> Calibrating fragments\n",
      "2022-03-11 10:28:12> Performing search on 2,044 query and 5,045,760 db entries with frag_tol = 30.00 and prec_tol = 30.00.\n"
     ]
    },
    {
     "name": "stderr",
     "output_type": "stream",
     "text": [
      "  0%|                                                                                            | 0/1 [01:01<?, ?it/s]\n"
     ]
    },
    {
     "name": "stdout",
     "output_type": "stream",
     "text": [
      "2022-03-11 10:28:13> Found 39 psms.\n",
      "2022-03-11 10:28:13> Extracting columns for scoring.\n",
      "2022-03-11 10:28:24> Extracted columns from 39 spectra.\n",
      "2022-03-11 10:28:24> Saving first_search results to F:/temp_test_run/thermo_IRT.ms_data.hdf\n",
      "2022-03-11 10:28:24> Search of file F:/temp_test_run/thermo_IRT.raw complete.\n",
      "2022-03-11 10:28:41> First search complete.\n",
      "2022-03-11 10:28:41> ==== recalibrate_data ====\n"
     ]
    },
    {
     "name": "stderr",
     "output_type": "stream",
     "text": [
      "\r",
      "  0%|                                                                                            | 0/1 [00:00<?, ?it/s]"
     ]
    },
    {
     "name": "stdout",
     "output_type": "stream",
     "text": [
      "2022-03-11 10:28:41> Processing 1 files for step calibrate_hdf\n",
      "2022-03-11 10:28:41> Recalibrating file F:/temp_test_run/thermo_IRT.raw.\n",
      "2022-03-11 10:28:41> Scoring using X-Tandem\n",
      "2022-03-11 10:28:42> 3 target (0 decoy) of 25 PSMs. fdr 0.000000 for a cutoff of 22.76 (set fdr was 0.01)\n",
      "2022-03-11 10:28:42> Precursor mass calibration for file F:/temp_test_run/thermo_IRT.raw.\n",
      "2022-03-11 10:28:42> Not enough data points present. Skipping recalibration.\n",
      "2022-03-11 10:28:42> Precursor calibration of file F:/temp_test_run/thermo_IRT.ms_data.hdf complete.\n",
      "2022-03-11 10:28:42> Starting fragment calibration.\n",
      "2022-03-11 10:28:42> Calibrating fragments with neighbors\n",
      "2022-03-11 10:28:42> Scoring using X-Tandem\n",
      "2022-03-11 10:28:42> 3 target (0 decoy) of 25 PSMs. fdr 0.000000 for a cutoff of 22.76 (set fdr was 0.01)\n",
      "2022-03-11 10:28:42> Minimum hits for fragments before score 7.04.\n",
      "2022-03-11 10:28:42> Minimum hits for fragments after score 7.23.\n",
      "2022-03-11 10:28:42> Not enough datapoints 41 for fragment calibration. Minimum is set to 400. Skipping fragment calibration.\n",
      "2022-03-11 10:28:42> Fragment calibration of file F:/temp_test_run/thermo_IRT.ms_data.hdf complete.\n",
      "2022-03-11 10:28:42> ==== search_data ====\n"
     ]
    },
    {
     "name": "stderr",
     "output_type": "stream",
     "text": [
      "\n",
      "\n",
      "  0%|                                                                                            | 0/1 [00:00<?, ?it/s]\u001b[A\u001b[A"
     ]
    },
    {
     "name": "stdout",
     "output_type": "stream",
     "text": [
      "2022-03-11 10:28:42> Starting second search with DB.\n",
      "2022-03-11 10:28:42> Processing 1 files for step search_db\n",
      "2022-03-11 10:28:42> Found calibrated prec_tol with value 41.61\n",
      "2022-03-11 10:28:42> 'Dataset estimated_max_fragment_ppm does not exist for group / of <HDF_File F:\\\\temp_test_run\\\\thermo_IRT.ms_data.hdf>.'\n",
      "2022-03-11 10:28:42> Performing search on 2,044 query and 5,045,760 db entries with frag_tol = 30.00 and prec_tol = 41.61.\n",
      "2022-03-11 10:28:42> Found 43 psms.\n",
      "2022-03-11 10:28:42> Extracting columns for scoring.\n",
      "2022-03-11 10:28:46> Extracted columns from 43 spectra.\n",
      "2022-03-11 10:28:46> Saving second_search results to F:/temp_test_run/thermo_IRT.ms_data.hdf\n",
      "2022-03-11 10:28:46> Search of file F:/temp_test_run/thermo_IRT.raw complete.\n"
     ]
    },
    {
     "name": "stderr",
     "output_type": "stream",
     "text": [
      "  0%|                                                                                            | 0/1 [00:48<?, ?it/s]\n",
      "  0%|                                                                                            | 0/1 [00:13<?, ?it/s]\n"
     ]
    },
    {
     "name": "stdout",
     "output_type": "stream",
     "text": [
      "2022-03-11 10:29:02> Second search complete.\n",
      "2022-03-11 10:29:03> ==== score ====\n"
     ]
    },
    {
     "name": "stderr",
     "output_type": "stream",
     "text": [
      "\r",
      "  0%|                                                                                            | 0/1 [00:00<?, ?it/s]"
     ]
    },
    {
     "name": "stdout",
     "output_type": "stream",
     "text": [
      "2022-03-11 10:29:03> Processing 1 files for step score_hdf\n",
      "2022-03-11 10:29:03> Calling score_hdf\n",
      "2022-03-11 10:29:03> Found second search psms for scoring.\n",
      "2022-03-11 10:29:03> 3 target (0 decoy) of 27 PSMs. fdr 0.000000 for a cutoff of 22.84 (set fdr was 0.1)\n",
      "2022-03-11 10:29:03> ML failed. Defaulting to x_tandem score\n",
      "2022-03-11 10:29:03> There are fewer high scoring targets or decoys than required by 'min_train'.\n",
      "2022-03-11 10:29:03> Converting x_tandem score to probabilities\n",
      "2022-03-11 10:29:03> 3 target (0 decoy) of 31 PSMs. fdr 0.000000 for a cutoff of 0.95 (set fdr was 0.01)\n",
      "2022-03-11 10:29:03> Saving identifications to ms_data file.\n",
      "2022-03-11 10:29:03> Saving identifications to ms_data file complete.\n",
      "2022-03-11 10:29:03> Saving identifications to csv file complete.\n",
      "2022-03-11 10:29:03> Filter df with custom score\n",
      "2022-03-11 10:29:03> Global FDR on precursor\n",
      "2022-03-11 10:29:03> 3 target (0 decoy) of 27 PSMs. fdr 0.000000 for a cutoff of 0.95 (set fdr was 0.01)\n",
      "2022-03-11 10:29:03> Global FDR cutoff at 0.9534883720930233.\n",
      "2022-03-11 10:29:03> FDR on peptides complete. For 0.01 FDR found 3 targets and 0 decoys.\n",
      "2022-03-11 10:29:03> Extracting fragment_ions\n",
      "2022-03-11 10:29:03> Extracting fragment_ions complete.\n",
      "2022-03-11 10:29:04> Scoring of files [<HDF_File F:\\temp_test_run\\thermo_IRT.ms_data.hdf>] complete.\n",
      "2022-03-11 10:29:04> ==== isobaric_labeling ====\n",
      "2022-03-11 10:29:04> ==== protein_grouping ====\n"
     ]
    },
    {
     "name": "stderr",
     "output_type": "stream",
     "text": [
      "\n",
      "  0%|                                                                                            | 0/1 [00:00<?, ?it/s]\u001b[A"
     ]
    },
    {
     "name": "stdout",
     "output_type": "stream",
     "text": [
      "2022-03-11 10:29:04> Fasta dict with length 20,365, Pept dict with length 5,045,764\n",
      "2022-03-11 10:29:04> Extracting protein groups.\n"
     ]
    },
    {
     "name": "stderr",
     "output_type": "stream",
     "text": [
      "\n",
      "\n",
      "\n",
      "  0%|                                                                                            | 0/1 [00:00<?, ?it/s]\u001b[A\u001b[A\u001b[A"
     ]
    },
    {
     "name": "stdout",
     "output_type": "stream",
     "text": [
      "2022-03-11 10:29:04> A total of 3 unique and 0 shared peptides.\n",
      "2022-03-11 10:29:04> A total of 0 ambigious proteins\n",
      "2022-03-11 10:29:04> A total of 0 unique and 0 shared peptides.\n",
      "2022-03-11 10:29:04> A total of 0 ambigious proteins\n",
      "2022-03-11 10:29:04> Global FDR on protein_group\n",
      "2022-03-11 10:29:04> Last q_value 0.000 of dataset is smaller than fdr_level 0.010\n",
      "2022-03-11 10:29:04> 3 target (0 decoy) of 3 PSMs. fdr 0.000000 for a cutoff of 0.95 (set fdr was 0.01)\n",
      "2022-03-11 10:29:04> Global FDR cutoff at 0.9534883720930233.\n"
     ]
    },
    {
     "name": "stderr",
     "output_type": "stream",
     "text": [
      "\n"
     ]
    },
    {
     "name": "stdout",
     "output_type": "stream",
     "text": [
      "2022-03-11 10:29:04> FDR on proteins complete. For 0.01 FDR found 3 targets and 0 decoys. A total of 3 proteins found.\n",
      "2022-03-11 10:29:04> Saving complete.\n",
      "2022-03-11 10:29:04> Protein groups complete.\n",
      "2022-03-11 10:29:04> ==== quantification ====\n",
      "2022-03-11 10:29:04> Reading protein_fdr for quantification.\n",
      "2022-03-11 10:29:04> Saving protein_groups after delayed normalization to combined_protein_fdr_dn\n"
     ]
    },
    {
     "name": "stderr",
     "output_type": "stream",
     "text": [
      "C:\\Users\\admin\\.conda\\envs\\alphapept\\lib\\site-packages\\pandas\\core\\generic.py:2703: PerformanceWarning: \n",
      "your performance may suffer as PyTables will pickle object types that it cannot\n",
      "map directly to c-types [inferred_type->mixed-integer,key->block5_values] [items->Index(['fragment_ion_int', 'fragment_ion_type', 'precursor', 'sequence',\n",
      "       'sequence_naked', 'filename', 'shortname', 'protein', 'protein_group',\n",
      "       'razor', 'protein_idx', 'n_possible_proteins'],\n",
      "      dtype='object')]\n",
      "\n",
      "  pytables.to_hdf(\n"
     ]
    },
    {
     "name": "stdout",
     "output_type": "stream",
     "text": [
      "2022-03-11 10:29:04> Complete.\n",
      "2022-03-11 10:29:04> Starting profile extraction.\n"
     ]
    },
    {
     "name": "stderr",
     "output_type": "stream",
     "text": [
      "\n",
      "  0%|                                                                                            | 0/1 [00:00<?, ?it/s]\u001b[A"
     ]
    },
    {
     "name": "stdout",
     "output_type": "stream",
     "text": [
      "2022-03-11 10:29:04> LFQ complete.\n",
      "2022-03-11 10:29:04> Extracting protein_summary\n",
      "2022-03-11 10:29:04> Saved protein_summary of length 3 saved to F:\\temp_test_run\\results_protein_summary.csv\n"
     ]
    },
    {
     "name": "stderr",
     "output_type": "stream",
     "text": [
      "\r",
      "  0%|                                                                                            | 0/1 [00:00<?, ?it/s]"
     ]
    },
    {
     "name": "stdout",
     "output_type": "stream",
     "text": [
      "2022-03-11 10:29:04> Updating protein_fdr.\n",
      "2022-03-11 10:29:04> Exporting as csv.\n",
      "2022-03-11 10:29:04> Saved df of length 3 saved to F:\\temp_test_run\\results\n",
      "2022-03-11 10:29:04> ==== export ====\n"
     ]
    },
    {
     "name": "stderr",
     "output_type": "stream",
     "text": [
      "\n"
     ]
    },
    {
     "name": "stdout",
     "output_type": "stream",
     "text": [
      "2022-03-11 10:29:04> Settings saved to F:\\temp_test_run\\results.yaml\n",
      "2022-03-11 10:29:04> Analysis complete.\n",
      "features centroid_tol 7.0\n",
      "2022-03-11 10:29:05> Logging to C:\\Users\\admin\\alphapept\\logs\\log_20220311102905.txt.\n",
      "2022-03-11 10:29:05> Platform information:\n",
      "2022-03-11 10:29:05> system     - Windows\n",
      "2022-03-11 10:29:05> release    - 10\n",
      "2022-03-11 10:29:05> version    - 10.0.19044\n",
      "2022-03-11 10:29:05> machine    - AMD64\n",
      "2022-03-11 10:29:05> processor  - Intel64 Family 6 Model 85 Stepping 4, GenuineIntel\n",
      "2022-03-11 10:29:05> cpu count  - 24\n",
      "2022-03-11 10:29:05> ram memory - 117.8/127.7 Gb (available/total)\n",
      "2022-03-11 10:29:05> \n",
      "2022-03-11 10:29:05> Python information:\n",
      "2022-03-11 10:29:05> SQLAlchemy                    - 1.4.23\n",
      "2022-03-11 10:29:05> alphapept                     - 0.4.0\n",
      "2022-03-11 10:29:05> biopython                     - 1.78\n",
      "2022-03-11 10:29:05> bumpversion                   - \n",
      "2022-03-11 10:29:05> bumpversion>                  - \n",
      "2022-03-11 10:29:05> click                         - 7.1.2\n",
      "2022-03-11 10:29:05> click>                        - \n",
      "2022-03-11 10:29:05> fastcore                      - 1.3.21\n",
      "2022-03-11 10:29:05> h5py                          - 3.4.0\n",
      "2022-03-11 10:29:05> jupyter                       - 1.0.0\n",
      "2022-03-11 10:29:05> jupyter>                      - \n",
      "2022-03-11 10:29:05> jupyter_contrib_nbextensions  - \n",
      "2022-03-11 10:29:05> jupyter_contrib_nbextensions> - \n",
      "2022-03-11 10:29:05> matplotlib                    - 3.3.3\n",
      "2022-03-11 10:29:05> nbdev                         - 1.1.23\n",
      "2022-03-11 10:29:05> nbdev>                        - \n",
      "2022-03-11 10:29:05> networkx                      - 2.6.3\n",
      "2022-03-11 10:29:05> numba                         - 0.54.0\n",
      "2022-03-11 10:29:05> numpy                         - 1.20.3\n",
      "2022-03-11 10:29:05> pandas                        - 1.3.4\n",
      "2022-03-11 10:29:05> plotly_express                - 0.4.1\n",
      "2022-03-11 10:29:05> psutil                        - 5.8.0\n",
      "2022-03-11 10:29:05> pyinstaller                   - \n",
      "2022-03-11 10:29:05> pyteomics                     - 4.4.2\n",
      "2022-03-11 10:29:05> python                        - 3.8.12\n",
      "2022-03-11 10:29:05> pythonnet                     - 2.5.2\n",
      "2022-03-11 10:29:05> pywin32                       - 225\n",
      "2022-03-11 10:29:05> pyyaml                        - 5.4.1\n",
      "2022-03-11 10:29:05> scikit-learn                  - 0.24.2\n",
      "2022-03-11 10:29:05> scipy                         - 1.7.1\n",
      "2022-03-11 10:29:05> streamlit                     - 1.2.0\n",
      "2022-03-11 10:29:05> streamlit-aggrid              - 0.2.2.post4\n",
      "2022-03-11 10:29:05> streamlit>                    - \n",
      "2022-03-11 10:29:05> tables                        - 3.6.1\n",
      "2022-03-11 10:29:05> tqdm                          - 4.56.0\n",
      "2022-03-11 10:29:05> twine                         - \n",
      "2022-03-11 10:29:05> twine>                        - \n",
      "2022-03-11 10:29:05> watchdog                      - 2.1.5\n",
      "2022-03-11 10:29:05> wget                          - 3.2\n",
      "2022-03-11 10:29:05> \n",
      "2022-03-11 10:29:05> Check for settings not completely implemented yet.\n",
      "2022-03-11 10:29:05> Checking if files exist.\n",
      "2022-03-11 10:29:05> FASTA Files have a total size of 0.00 Mb\n",
      "2022-03-11 10:29:05> Results path was not set. Setting to F:\\temp_test_run\\results.hdf\n",
      "2022-03-11 10:29:05> Shortnames not set. Setting to filename.\n",
      "2022-03-11 10:29:05> No database path set and save_db option checked. Using default path F:\\temp_test_run\\database.hdf\n",
      "2022-03-11 10:29:05> Deleted F:/temp_test_run/thermo_IRT.ms_data.hdf\n",
      "2022-03-11 10:29:05> Workflow has 11 steps\n",
      "2022-03-11 10:29:05> ==== create_database ====\n",
      "2022-03-11 10:29:05> Database path set and exists. Using F:\\temp_test_run\\database.hdf as database.\n",
      "2022-03-11 10:29:05> ==== import_raw_data ====\n"
     ]
    },
    {
     "name": "stderr",
     "output_type": "stream",
     "text": [
      "\n",
      "\n",
      "\n",
      "  0%|                                                                                            | 0/1 [00:00<?, ?it/s]\u001b[A\u001b[A\u001b[A"
     ]
    },
    {
     "name": "stdout",
     "output_type": "stream",
     "text": [
      "2022-03-11 10:29:05> Processing 1 files for step raw_conversion\n",
      "2022-03-11 10:29:05> File F:/temp_test_run/thermo_IRT has extension .raw - converting from Thermo.\n",
      "2022-03-11 10:29:08> File conversion complete. Extracted 2,603 precursors.\n",
      "2022-03-11 10:29:09> File conversion of file F:/temp_test_run/thermo_IRT.raw complete.\n",
      "2022-03-11 10:29:09> ==== feature_finding ====\n"
     ]
    },
    {
     "name": "stderr",
     "output_type": "stream",
     "text": [
      "\n",
      "\n",
      "\n",
      "\n",
      "  0%|                                                                                            | 0/1 [00:00<?, ?it/s]\u001b[A\u001b[A\u001b[A\u001b[A"
     ]
    },
    {
     "name": "stdout",
     "output_type": "stream",
     "text": [
      "2022-03-11 10:29:09> Processing 1 files for step find_features\n",
      "2022-03-11 10:29:09> No *.hdf file with features found for F:/temp_test_run/thermo_IRT.ms_data.hdf. Adding to feature finding list.\n",
      "2022-03-11 10:29:09> Feature finding on F:/temp_test_run/thermo_IRT.raw\n",
      "2022-03-11 10:29:09> Hill extraction with centroid_tol 7 and max_gap 2\n",
      "2022-03-11 10:29:09> Number of hills 46,900, len = 20.43\n",
      "2022-03-11 10:29:09> Repeating hill extraction with centroid_tol 4.88\n",
      "2022-03-11 10:29:09> Number of hills 54,163, len = 21.57\n",
      "2022-03-11 10:29:09> After duplicate removal of hills 44,125\n"
     ]
    },
    {
     "name": "stderr",
     "output_type": "stream",
     "text": [
      "  0%|                                                                                            | 0/1 [00:04<?, ?it/s]\n"
     ]
    },
    {
     "name": "stdout",
     "output_type": "stream",
     "text": [
      "2022-03-11 10:29:10> After split hill_ptrs 61,710\n",
      "2022-03-11 10:29:10> After filter hill_ptrs 60,197\n",
      "2022-03-11 10:29:17> Extracting hill stats complete\n",
      "2022-03-11 10:29:17> Found 6,999 pre isotope patterns.\n",
      "2022-03-11 10:29:18> Extracted 6,421 isotope patterns.\n",
      "2022-03-11 10:29:18> Report complete.\n",
      "2022-03-11 10:29:18> Matching features to query data.\n",
      "2022-03-11 10:29:18> Saving feature table.\n",
      "2022-03-11 10:29:18> Feature table saved to F:/temp_test_run/thermo_IRT.ms_data.hdf\n",
      "2022-03-11 10:29:18> Saving features.\n",
      "2022-03-11 10:29:19> Feature finding of file F:/temp_test_run/thermo_IRT.raw complete.\n",
      "2022-03-11 10:29:19> ==== search_data ====\n"
     ]
    },
    {
     "name": "stderr",
     "output_type": "stream",
     "text": [
      "\n",
      "\n",
      "\n",
      "  0%|                                                                                            | 0/1 [00:00<?, ?it/s]\u001b[A\u001b[A\u001b[A"
     ]
    },
    {
     "name": "stdout",
     "output_type": "stream",
     "text": [
      "2022-03-11 10:29:19> Starting first search.\n",
      "2022-03-11 10:29:19> Processing 1 files for step search_db\n",
      "2022-03-11 10:29:19> Calibrating fragments\n",
      "2022-03-11 10:29:24> Performing search on 2,977 query and 5,045,760 db entries with frag_tol = 30.00 and prec_tol = 30.00.\n",
      "2022-03-11 10:29:24> Found 61 psms.\n",
      "2022-03-11 10:29:24> Extracting columns for scoring.\n",
      "2022-03-11 10:29:27> Extracted columns from 61 spectra.\n",
      "2022-03-11 10:29:27> Saving first_search results to F:/temp_test_run/thermo_IRT.ms_data.hdf\n",
      "2022-03-11 10:29:28> Search of file F:/temp_test_run/thermo_IRT.raw complete.\n"
     ]
    },
    {
     "name": "stderr",
     "output_type": "stream",
     "text": [
      "  0%|                                                                                            | 0/1 [00:55<?, ?it/s]\n",
      "  0%|                                                                                            | 0/1 [00:34<?, ?it/s]\n",
      "100%|████████████████████████████████████████████████████████████████████████████████████| 1/1 [00:32<00:00, 32.73s/it]\n",
      "  0%|                                                                                            | 0/1 [00:28<?, ?it/s]\n"
     ]
    },
    {
     "name": "stdout",
     "output_type": "stream",
     "text": [
      "2022-03-11 10:29:43> First search complete.\n",
      "2022-03-11 10:29:43> ==== recalibrate_data ====\n"
     ]
    },
    {
     "name": "stderr",
     "output_type": "stream",
     "text": [
      "\r",
      "  0%|                                                                                            | 0/1 [00:00<?, ?it/s]"
     ]
    },
    {
     "name": "stdout",
     "output_type": "stream",
     "text": [
      "2022-03-11 10:29:43> Processing 1 files for step calibrate_hdf\n",
      "2022-03-11 10:29:43> Recalibrating file F:/temp_test_run/thermo_IRT.raw.\n",
      "2022-03-11 10:29:43> Scoring using X-Tandem\n",
      "2022-03-11 10:29:43> 3 target (0 decoy) of 40 PSMs. fdr 0.000000 for a cutoff of 22.36 (set fdr was 0.01)\n",
      "2022-03-11 10:29:43> Precursor mass calibration for file F:/temp_test_run/thermo_IRT.raw.\n",
      "2022-03-11 10:29:43> Not enough data points present. Skipping recalibration.\n",
      "2022-03-11 10:29:43> Precursor calibration of file F:/temp_test_run/thermo_IRT.ms_data.hdf complete.\n",
      "2022-03-11 10:29:43> Starting fragment calibration.\n",
      "2022-03-11 10:29:43> Calibrating fragments with neighbors\n",
      "2022-03-11 10:29:43> Scoring using X-Tandem\n",
      "2022-03-11 10:29:43> 3 target (0 decoy) of 40 PSMs. fdr 0.000000 for a cutoff of 22.36 (set fdr was 0.01)\n",
      "2022-03-11 10:29:43> Minimum hits for fragments before score 7.04.\n",
      "2022-03-11 10:29:43> Minimum hits for fragments after score 10.37.\n",
      "2022-03-11 10:29:43> Not enough datapoints 36 for fragment calibration. Minimum is set to 400. Skipping fragment calibration.\n",
      "2022-03-11 10:29:43> Fragment calibration of file F:/temp_test_run/thermo_IRT.ms_data.hdf complete.\n",
      "2022-03-11 10:29:43> ==== search_data ====\n"
     ]
    },
    {
     "name": "stderr",
     "output_type": "stream",
     "text": [
      "\n",
      "  0%|                                                                                            | 0/1 [00:00<?, ?it/s]\u001b[A"
     ]
    },
    {
     "name": "stdout",
     "output_type": "stream",
     "text": [
      "2022-03-11 10:29:43> Starting second search with DB.\n",
      "2022-03-11 10:29:43> Processing 1 files for step search_db\n",
      "2022-03-11 10:29:43> Found calibrated prec_tol with value 7.87\n",
      "2022-03-11 10:29:43> 'Dataset estimated_max_fragment_ppm does not exist for group / of <HDF_File F:\\\\temp_test_run\\\\thermo_IRT.ms_data.hdf>.'\n",
      "2022-03-11 10:29:44> Performing search on 2,977 query and 5,045,760 db entries with frag_tol = 30.00 and prec_tol = 7.87.\n",
      "2022-03-11 10:29:44> Found 18 psms.\n",
      "2022-03-11 10:29:44> Extracting columns for scoring.\n",
      "2022-03-11 10:29:48> Extracted columns from 18 spectra.\n",
      "2022-03-11 10:29:48> Saving second_search results to F:/temp_test_run/thermo_IRT.ms_data.hdf\n",
      "2022-03-11 10:29:48> Search of file F:/temp_test_run/thermo_IRT.raw complete.\n"
     ]
    },
    {
     "name": "stderr",
     "output_type": "stream",
     "text": [
      "  0%|                                                                                            | 0/1 [00:08<?, ?it/s]\n",
      "  0%|                                                                                            | 0/1 [00:38<?, ?it/s]\n"
     ]
    },
    {
     "name": "stdout",
     "output_type": "stream",
     "text": [
      "2022-03-11 10:30:04> Second search complete.\n",
      "2022-03-11 10:30:04> ==== score ====\n"
     ]
    },
    {
     "name": "stderr",
     "output_type": "stream",
     "text": [
      "\r",
      "  0%|                                                                                            | 0/1 [00:00<?, ?it/s]"
     ]
    },
    {
     "name": "stdout",
     "output_type": "stream",
     "text": [
      "2022-03-11 10:30:04> Processing 1 files for step score_hdf\n",
      "2022-03-11 10:30:04> Calling score_hdf\n",
      "2022-03-11 10:30:04> Found second search psms for scoring.\n",
      "2022-03-11 10:30:04> 5 target (0 decoy) of 16 PSMs. fdr 0.000000 for a cutoff of 20.22 (set fdr was 0.1)\n",
      "2022-03-11 10:30:04> ML failed. Defaulting to x_tandem score\n",
      "2022-03-11 10:30:04> There are fewer high scoring targets or decoys than required by 'min_train'.\n",
      "2022-03-11 10:30:04> Converting x_tandem score to probabilities\n",
      "2022-03-11 10:30:04> 5 target (0 decoy) of 17 PSMs. fdr 0.000000 for a cutoff of 0.78 (set fdr was 0.01)\n",
      "2022-03-11 10:30:04> Saving identifications to ms_data file.\n",
      "2022-03-11 10:30:05> Saving identifications to ms_data file complete.\n",
      "2022-03-11 10:30:05> Saving identifications to csv file complete.\n",
      "2022-03-11 10:30:05> Filter df with custom score\n",
      "2022-03-11 10:30:05> Global FDR on precursor\n",
      "2022-03-11 10:30:05> 5 target (0 decoy) of 16 PSMs. fdr 0.000000 for a cutoff of 0.78 (set fdr was 0.01)\n",
      "2022-03-11 10:30:05> Global FDR cutoff at 0.7777777777777778.\n",
      "2022-03-11 10:30:05> FDR on peptides complete. For 0.01 FDR found 5 targets and 0 decoys.\n",
      "2022-03-11 10:30:05> Extracting fragment_ions\n",
      "2022-03-11 10:30:05> Extracting fragment_ions complete.\n",
      "2022-03-11 10:30:05> Scoring of files [<HDF_File F:\\temp_test_run\\thermo_IRT.ms_data.hdf>] complete.\n",
      "2022-03-11 10:30:05> ==== isobaric_labeling ====\n",
      "2022-03-11 10:30:05> ==== protein_grouping ====\n"
     ]
    },
    {
     "name": "stderr",
     "output_type": "stream",
     "text": [
      "\n",
      "\n",
      "  0%|                                                                                            | 0/1 [00:00<?, ?it/s]\u001b[A\u001b[A"
     ]
    },
    {
     "name": "stdout",
     "output_type": "stream",
     "text": [
      "2022-03-11 10:30:05> Fasta dict with length 20,365, Pept dict with length 5,045,764\n",
      "2022-03-11 10:30:05> Extracting protein groups.\n"
     ]
    },
    {
     "name": "stderr",
     "output_type": "stream",
     "text": [
      "\n",
      "\n",
      "\n",
      "  0%|                                                                                            | 0/1 [00:00<?, ?it/s]\u001b[A\u001b[A\u001b[A"
     ]
    },
    {
     "name": "stdout",
     "output_type": "stream",
     "text": [
      "2022-03-11 10:30:05> A total of 4 unique and 1 shared peptides.\n",
      "2022-03-11 10:30:05> A total of 1 ambigious proteins\n",
      "2022-03-11 10:30:05> A total of 0 unique and 0 shared peptides.\n",
      "2022-03-11 10:30:05> A total of 0 ambigious proteins\n"
     ]
    },
    {
     "name": "stderr",
     "output_type": "stream",
     "text": [
      "\r",
      "  0%|                                                                                            | 0/1 [00:00<?, ?it/s]"
     ]
    },
    {
     "name": "stdout",
     "output_type": "stream",
     "text": [
      "2022-03-11 10:30:05> Global FDR on protein_group\n",
      "2022-03-11 10:30:05> Last q_value 0.000 of dataset is smaller than fdr_level 0.010\n",
      "2022-03-11 10:30:05> 5 target (0 decoy) of 5 PSMs. fdr 0.000000 for a cutoff of 0.78 (set fdr was 0.01)\n",
      "2022-03-11 10:30:05> Global FDR cutoff at 0.7777777777777778.\n",
      "2022-03-11 10:30:05> FDR on proteins complete. For 0.01 FDR found 5 targets and 0 decoys. A total of 5 proteins found.\n"
     ]
    },
    {
     "name": "stderr",
     "output_type": "stream",
     "text": [
      "\n",
      "C:\\Users\\admin\\.conda\\envs\\alphapept\\lib\\site-packages\\pandas\\core\\generic.py:2703: PerformanceWarning: \n",
      "your performance may suffer as PyTables will pickle object types that it cannot\n",
      "map directly to c-types [inferred_type->mixed-integer,key->block5_values] [items->Index(['fragment_ion_int', 'fragment_ion_type', 'precursor', 'sequence',\n",
      "       'sequence_naked', 'filename', 'shortname', 'protein', 'protein_group',\n",
      "       'razor', 'protein_idx', 'n_possible_proteins'],\n",
      "      dtype='object')]\n",
      "\n",
      "  pytables.to_hdf(\n"
     ]
    },
    {
     "name": "stdout",
     "output_type": "stream",
     "text": [
      "2022-03-11 10:30:05> Saving complete.\n",
      "2022-03-11 10:30:05> Protein groups complete.\n",
      "2022-03-11 10:30:05> ==== quantification ====\n",
      "2022-03-11 10:30:05> Reading protein_fdr for quantification.\n",
      "2022-03-11 10:30:06> Saving protein_groups after delayed normalization to combined_protein_fdr_dn\n",
      "2022-03-11 10:30:06> Complete.\n",
      "2022-03-11 10:30:06> Starting profile extraction.\n"
     ]
    },
    {
     "name": "stderr",
     "output_type": "stream",
     "text": [
      "\n",
      "\n",
      "  0%|                                                                                            | 0/1 [00:00<?, ?it/s]\u001b[A\u001b[A"
     ]
    },
    {
     "name": "stdout",
     "output_type": "stream",
     "text": [
      "2022-03-11 10:30:06> LFQ complete.\n",
      "2022-03-11 10:30:06> Extracting protein_summary\n",
      "2022-03-11 10:30:06> Saved protein_summary of length 5 saved to F:\\temp_test_run\\results_protein_summary.csv\n",
      "2022-03-11 10:30:06> Updating protein_fdr.\n",
      "2022-03-11 10:30:06> Exporting as csv.\n",
      "2022-03-11 10:30:06> Saved df of length 5 saved to F:\\temp_test_run\\results\n",
      "2022-03-11 10:30:06> ==== export ====\n",
      "2022-03-11 10:30:06> Settings saved to F:\\temp_test_run\\results.yaml\n",
      "2022-03-11 10:30:06> Analysis complete.\n",
      "features centroid_tol 13.0\n",
      "2022-03-11 10:30:06> Logging to C:\\Users\\admin\\alphapept\\logs\\log_20220311103006.txt.\n",
      "2022-03-11 10:30:06> Platform information:\n",
      "2022-03-11 10:30:06> system     - Windows\n",
      "2022-03-11 10:30:06> release    - 10\n",
      "2022-03-11 10:30:06> version    - 10.0.19044\n",
      "2022-03-11 10:30:06> machine    - AMD64\n",
      "2022-03-11 10:30:06> processor  - Intel64 Family 6 Model 85 Stepping 4, GenuineIntel\n",
      "2022-03-11 10:30:06> cpu count  - 24\n",
      "2022-03-11 10:30:06> ram memory - 117.8/127.7 Gb (available/total)\n",
      "2022-03-11 10:30:06> \n",
      "2022-03-11 10:30:07> Python information:\n",
      "2022-03-11 10:30:07> SQLAlchemy                    - 1.4.23\n",
      "2022-03-11 10:30:07> alphapept                     - 0.4.0\n",
      "2022-03-11 10:30:07> biopython                     - 1.78\n",
      "2022-03-11 10:30:07> bumpversion                   - \n",
      "2022-03-11 10:30:07> bumpversion>                  - \n",
      "2022-03-11 10:30:07> click                         - 7.1.2\n",
      "2022-03-11 10:30:07> click>                        - \n",
      "2022-03-11 10:30:07> fastcore                      - 1.3.21\n",
      "2022-03-11 10:30:07> h5py                          - 3.4.0\n",
      "2022-03-11 10:30:07> jupyter                       - 1.0.0\n",
      "2022-03-11 10:30:07> jupyter>                      - \n",
      "2022-03-11 10:30:07> jupyter_contrib_nbextensions  - \n",
      "2022-03-11 10:30:07> jupyter_contrib_nbextensions> - \n",
      "2022-03-11 10:30:07> matplotlib                    - 3.3.3\n",
      "2022-03-11 10:30:07> nbdev                         - 1.1.23\n",
      "2022-03-11 10:30:07> nbdev>                        - \n",
      "2022-03-11 10:30:07> networkx                      - 2.6.3\n",
      "2022-03-11 10:30:07> numba                         - 0.54.0\n",
      "2022-03-11 10:30:07> numpy                         - 1.20.3\n",
      "2022-03-11 10:30:07> pandas                        - 1.3.4\n",
      "2022-03-11 10:30:07> plotly_express                - 0.4.1\n",
      "2022-03-11 10:30:07> psutil                        - 5.8.0\n",
      "2022-03-11 10:30:07> pyinstaller                   - \n",
      "2022-03-11 10:30:07> pyteomics                     - 4.4.2\n",
      "2022-03-11 10:30:07> python                        - 3.8.12\n",
      "2022-03-11 10:30:07> pythonnet                     - 2.5.2\n",
      "2022-03-11 10:30:07> pywin32                       - 225\n",
      "2022-03-11 10:30:07> pyyaml                        - 5.4.1\n",
      "2022-03-11 10:30:07> scikit-learn                  - 0.24.2\n",
      "2022-03-11 10:30:07> scipy                         - 1.7.1\n",
      "2022-03-11 10:30:07> streamlit                     - 1.2.0\n",
      "2022-03-11 10:30:07> streamlit-aggrid              - 0.2.2.post4\n",
      "2022-03-11 10:30:07> streamlit>                    - \n",
      "2022-03-11 10:30:07> tables                        - 3.6.1\n",
      "2022-03-11 10:30:07> tqdm                          - 4.56.0\n",
      "2022-03-11 10:30:07> twine                         - \n",
      "2022-03-11 10:30:07> twine>                        - \n",
      "2022-03-11 10:30:07> watchdog                      - 2.1.5\n",
      "2022-03-11 10:30:07> wget                          - 3.2\n",
      "2022-03-11 10:30:07> \n",
      "2022-03-11 10:30:07> Check for settings not completely implemented yet.\n",
      "2022-03-11 10:30:07> Checking if files exist.\n",
      "2022-03-11 10:30:07> FASTA Files have a total size of 0.00 Mb\n",
      "2022-03-11 10:30:07> Results path was not set. Setting to F:\\temp_test_run\\results.hdf\n",
      "2022-03-11 10:30:07> Shortnames not set. Setting to filename.\n",
      "2022-03-11 10:30:07> No database path set and save_db option checked. Using default path F:\\temp_test_run\\database.hdf\n",
      "2022-03-11 10:30:07> Deleted F:/temp_test_run/thermo_IRT.ms_data.hdf\n",
      "2022-03-11 10:30:07> Workflow has 11 steps\n",
      "2022-03-11 10:30:07> ==== create_database ====\n",
      "2022-03-11 10:30:07> Database path set and exists. Using F:\\temp_test_run\\database.hdf as database.\n",
      "2022-03-11 10:30:07> ==== import_raw_data ====\n"
     ]
    },
    {
     "name": "stderr",
     "output_type": "stream",
     "text": [
      "\n",
      "\n",
      "\n",
      "\n",
      "  0%|                                                                                            | 0/1 [00:00<?, ?it/s]\u001b[A\u001b[A\u001b[A\u001b[A"
     ]
    },
    {
     "name": "stdout",
     "output_type": "stream",
     "text": [
      "2022-03-11 10:30:07> Processing 1 files for step raw_conversion\n",
      "2022-03-11 10:30:07> File F:/temp_test_run/thermo_IRT has extension .raw - converting from Thermo.\n",
      "2022-03-11 10:30:10> File conversion complete. Extracted 2,603 precursors.\n",
      "2022-03-11 10:30:10> File conversion of file F:/temp_test_run/thermo_IRT.raw complete.\n",
      "2022-03-11 10:30:10> ==== feature_finding ====\n"
     ]
    },
    {
     "name": "stderr",
     "output_type": "stream",
     "text": [
      "\n",
      "\n",
      "\n",
      "\n",
      "\n",
      "  0%|                                                                                            | 0/1 [00:00<?, ?it/s]\u001b[A\u001b[A\u001b[A\u001b[A\u001b[A"
     ]
    },
    {
     "name": "stdout",
     "output_type": "stream",
     "text": [
      "2022-03-11 10:30:10> Processing 1 files for step find_features\n",
      "2022-03-11 10:30:10> No *.hdf file with features found for F:/temp_test_run/thermo_IRT.ms_data.hdf. Adding to feature finding list.\n",
      "2022-03-11 10:30:10> Feature finding on F:/temp_test_run/thermo_IRT.raw\n",
      "2022-03-11 10:30:10> Hill extraction with centroid_tol 13 and max_gap 2\n",
      "2022-03-11 10:30:11> Number of hills 43,539, len = 20.02\n",
      "2022-03-11 10:30:11> Repeating hill extraction with centroid_tol 5.76\n",
      "2022-03-11 10:30:11> Number of hills 50,081, len = 20.92\n",
      "2022-03-11 10:30:11> After duplicate removal of hills 43,612\n",
      "2022-03-11 10:30:12> After split hill_ptrs 61,765\n"
     ]
    },
    {
     "name": "stderr",
     "output_type": "stream",
     "text": [
      "\r",
      "  0%|                                                                                            | 0/1 [00:05<?, ?it/s]"
     ]
    },
    {
     "name": "stdout",
     "output_type": "stream",
     "text": [
      "2022-03-11 10:30:12> After filter hill_ptrs 60,228\n"
     ]
    },
    {
     "name": "stderr",
     "output_type": "stream",
     "text": [
      "\n"
     ]
    },
    {
     "name": "stdout",
     "output_type": "stream",
     "text": [
      "2022-03-11 10:30:18> Extracting hill stats complete\n"
     ]
    },
    {
     "name": "stderr",
     "output_type": "stream",
     "text": [
      "  0%|                                                                                            | 0/1 [00:13<?, ?it/s]\n",
      "100%|████████████████████████████████████████████████████████████████████████████████████| 1/1 [00:12<00:00, 12.91s/it]\n"
     ]
    },
    {
     "name": "stdout",
     "output_type": "stream",
     "text": [
      "2022-03-11 10:30:19> Found 7,120 pre isotope patterns.\n",
      "2022-03-11 10:30:20> Extracted 6,536 isotope patterns.\n",
      "2022-03-11 10:30:20> Report complete.\n",
      "2022-03-11 10:30:20> Matching features to query data.\n",
      "2022-03-11 10:30:20> Saving feature table.\n",
      "2022-03-11 10:30:20> Feature table saved to F:/temp_test_run/thermo_IRT.ms_data.hdf\n",
      "2022-03-11 10:30:20> Saving features.\n",
      "2022-03-11 10:30:20> Feature finding of file F:/temp_test_run/thermo_IRT.raw complete.\n",
      "2022-03-11 10:30:20> ==== search_data ====\n"
     ]
    },
    {
     "name": "stderr",
     "output_type": "stream",
     "text": [
      "\n",
      "\n",
      "  0%|                                                                                            | 0/1 [00:00<?, ?it/s]\u001b[A\u001b[A"
     ]
    },
    {
     "name": "stdout",
     "output_type": "stream",
     "text": [
      "2022-03-11 10:30:20> Starting first search.\n",
      "2022-03-11 10:30:20> Processing 1 files for step search_db\n",
      "2022-03-11 10:30:21> Calibrating fragments\n",
      "2022-03-11 10:30:26> Performing search on 3,033 query and 5,045,760 db entries with frag_tol = 30.00 and prec_tol = 30.00.\n",
      "2022-03-11 10:30:26> Found 59 psms.\n",
      "2022-03-11 10:30:26> Extracting columns for scoring.\n",
      "2022-03-11 10:30:30> Extracted columns from 59 spectra.\n",
      "2022-03-11 10:30:30> Saving first_search results to F:/temp_test_run/thermo_IRT.ms_data.hdf\n",
      "2022-03-11 10:30:30> Search of file F:/temp_test_run/thermo_IRT.raw complete.\n"
     ]
    },
    {
     "name": "stderr",
     "output_type": "stream",
     "text": [
      "  0%|                                                                                            | 0/1 [00:56<?, ?it/s]\n",
      "  0%|                                                                                            | 0/1 [00:35<?, ?it/s]\n",
      "  0%|                                                                                            | 0/1 [00:29<?, ?it/s]\n"
     ]
    },
    {
     "name": "stdout",
     "output_type": "stream",
     "text": [
      "2022-03-11 10:30:45> First search complete.\n",
      "2022-03-11 10:30:45> ==== recalibrate_data ====\n"
     ]
    },
    {
     "name": "stderr",
     "output_type": "stream",
     "text": [
      "\r",
      "  0%|                                                                                            | 0/1 [00:00<?, ?it/s]"
     ]
    },
    {
     "name": "stdout",
     "output_type": "stream",
     "text": [
      "2022-03-11 10:30:45> Processing 1 files for step calibrate_hdf\n",
      "2022-03-11 10:30:45> Recalibrating file F:/temp_test_run/thermo_IRT.raw.\n",
      "2022-03-11 10:30:45> Scoring using X-Tandem\n",
      "2022-03-11 10:30:45> 2 target (0 decoy) of 38 PSMs. fdr 0.000000 for a cutoff of 23.74 (set fdr was 0.01)\n",
      "2022-03-11 10:30:45> Precursor mass calibration for file F:/temp_test_run/thermo_IRT.raw.\n",
      "2022-03-11 10:30:45> Not enough data points present. Skipping recalibration.\n",
      "2022-03-11 10:30:46> Precursor calibration of file F:/temp_test_run/thermo_IRT.ms_data.hdf complete.\n",
      "2022-03-11 10:30:46> Starting fragment calibration.\n",
      "2022-03-11 10:30:46> Calibrating fragments with neighbors\n",
      "2022-03-11 10:30:46> Scoring using X-Tandem\n",
      "2022-03-11 10:30:46> 2 target (0 decoy) of 38 PSMs. fdr 0.000000 for a cutoff of 23.74 (set fdr was 0.01)\n",
      "2022-03-11 10:30:46> Minimum hits for fragments before score 7.04.\n",
      "2022-03-11 10:30:46> Minimum hits for fragments after score 10.45.\n",
      "2022-03-11 10:30:46> Not enough datapoints 26 for fragment calibration. Minimum is set to 400. Skipping fragment calibration.\n",
      "2022-03-11 10:30:46> Fragment calibration of file F:/temp_test_run/thermo_IRT.ms_data.hdf complete.\n",
      "2022-03-11 10:30:46> ==== search_data ====\n"
     ]
    },
    {
     "name": "stderr",
     "output_type": "stream",
     "text": [
      "\n",
      "  0%|                                                                                            | 0/1 [00:00<?, ?it/s]\u001b[A"
     ]
    },
    {
     "name": "stdout",
     "output_type": "stream",
     "text": [
      "2022-03-11 10:30:46> Starting second search with DB.\n",
      "2022-03-11 10:30:46> Processing 1 files for step search_db\n",
      "2022-03-11 10:30:46> Found calibrated prec_tol with value 4.25\n",
      "2022-03-11 10:30:46> 'Dataset estimated_max_fragment_ppm does not exist for group / of <HDF_File F:\\\\temp_test_run\\\\thermo_IRT.ms_data.hdf>.'\n",
      "2022-03-11 10:30:46> Performing search on 3,033 query and 5,045,760 db entries with frag_tol = 30.00 and prec_tol = 4.25.\n",
      "2022-03-11 10:30:46> Found 12 psms.\n",
      "2022-03-11 10:30:46> Extracting columns for scoring.\n",
      "2022-03-11 10:30:50> Extracted columns from 12 spectra.\n",
      "2022-03-11 10:30:50> Saving second_search results to F:/temp_test_run/thermo_IRT.ms_data.hdf\n",
      "2022-03-11 10:30:50> Search of file F:/temp_test_run/thermo_IRT.raw complete.\n"
     ]
    },
    {
     "name": "stderr",
     "output_type": "stream",
     "text": [
      "  0%|                                                                                            | 0/1 [00:08<?, ?it/s]\n",
      "  0%|                                                                                            | 0/1 [00:38<?, ?it/s]\n"
     ]
    },
    {
     "name": "stdout",
     "output_type": "stream",
     "text": [
      "2022-03-11 10:31:05> Second search complete.\n",
      "2022-03-11 10:31:05> ==== score ====\n"
     ]
    },
    {
     "name": "stderr",
     "output_type": "stream",
     "text": [
      "\r",
      "  0%|                                                                                            | 0/1 [00:00<?, ?it/s]"
     ]
    },
    {
     "name": "stdout",
     "output_type": "stream",
     "text": [
      "2022-03-11 10:31:05> Processing 1 files for step score_hdf\n",
      "2022-03-11 10:31:05> Calling score_hdf\n",
      "2022-03-11 10:31:05> Found second search psms for scoring.\n",
      "2022-03-11 10:31:05> 4 target (0 decoy) of 11 PSMs. fdr 0.000000 for a cutoff of 20.22 (set fdr was 0.1)\n",
      "2022-03-11 10:31:05> ML failed. Defaulting to x_tandem score\n",
      "2022-03-11 10:31:05> There are fewer high scoring targets or decoys than required by 'min_train'.\n",
      "2022-03-11 10:31:05> Converting x_tandem score to probabilities\n",
      "2022-03-11 10:31:05> 4 target (0 decoy) of 12 PSMs. fdr 0.000000 for a cutoff of 0.75 (set fdr was 0.01)\n",
      "2022-03-11 10:31:05> Saving identifications to ms_data file.\n",
      "2022-03-11 10:31:06> Saving identifications to ms_data file complete.\n",
      "2022-03-11 10:31:06> Saving identifications to csv file complete.\n",
      "2022-03-11 10:31:06> Filter df with custom score\n",
      "2022-03-11 10:31:06> Global FDR on precursor\n",
      "2022-03-11 10:31:06> 4 target (0 decoy) of 11 PSMs. fdr 0.000000 for a cutoff of 0.75 (set fdr was 0.01)\n",
      "2022-03-11 10:31:06> Global FDR cutoff at 0.75.\n",
      "2022-03-11 10:31:06> FDR on peptides complete. For 0.01 FDR found 4 targets and 0 decoys.\n",
      "2022-03-11 10:31:06> Extracting fragment_ions\n",
      "2022-03-11 10:31:06> Extracting fragment_ions complete.\n",
      "2022-03-11 10:31:06> Scoring of files [<HDF_File F:\\temp_test_run\\thermo_IRT.ms_data.hdf>] complete.\n",
      "2022-03-11 10:31:06> ==== isobaric_labeling ====\n",
      "2022-03-11 10:31:06> ==== protein_grouping ====\n"
     ]
    },
    {
     "name": "stderr",
     "output_type": "stream",
     "text": [
      "\n",
      "\n",
      "  0%|                                                                                            | 0/1 [00:00<?, ?it/s]\u001b[A\u001b[A"
     ]
    },
    {
     "name": "stdout",
     "output_type": "stream",
     "text": [
      "2022-03-11 10:31:06> Fasta dict with length 20,365, Pept dict with length 5,045,764\n",
      "2022-03-11 10:31:06> Extracting protein groups.\n"
     ]
    },
    {
     "name": "stderr",
     "output_type": "stream",
     "text": [
      "\n",
      "\n",
      "\n",
      "  0%|                                                                                            | 0/1 [00:00<?, ?it/s]\u001b[A\u001b[A\u001b[A"
     ]
    },
    {
     "name": "stdout",
     "output_type": "stream",
     "text": [
      "2022-03-11 10:31:06> A total of 3 unique and 1 shared peptides.\n",
      "2022-03-11 10:31:06> A total of 1 ambigious proteins\n",
      "2022-03-11 10:31:06> A total of 0 unique and 0 shared peptides.\n",
      "2022-03-11 10:31:06> A total of 0 ambigious proteins\n"
     ]
    },
    {
     "name": "stderr",
     "output_type": "stream",
     "text": [
      "\r",
      "  0%|                                                                                            | 0/1 [00:00<?, ?it/s]"
     ]
    },
    {
     "name": "stdout",
     "output_type": "stream",
     "text": [
      "2022-03-11 10:31:06> Global FDR on protein_group\n",
      "2022-03-11 10:31:06> Last q_value 0.000 of dataset is smaller than fdr_level 0.010\n",
      "2022-03-11 10:31:06> 4 target (0 decoy) of 4 PSMs. fdr 0.000000 for a cutoff of 0.75 (set fdr was 0.01)\n",
      "2022-03-11 10:31:06> Global FDR cutoff at 0.75.\n",
      "2022-03-11 10:31:06> FDR on proteins complete. For 0.01 FDR found 4 targets and 0 decoys. A total of 4 proteins found.\n",
      "2022-03-11 10:31:06> Saving complete.\n",
      "2022-03-11 10:31:06> Protein groups complete.\n",
      "2022-03-11 10:31:06> ==== quantification ====\n",
      "2022-03-11 10:31:06> Reading protein_fdr for quantification.\n",
      "2022-03-11 10:31:06> Saving protein_groups after delayed normalization to combined_protein_fdr_dn\n"
     ]
    },
    {
     "name": "stderr",
     "output_type": "stream",
     "text": [
      "\n",
      "C:\\Users\\admin\\.conda\\envs\\alphapept\\lib\\site-packages\\pandas\\core\\generic.py:2703: PerformanceWarning: \n",
      "your performance may suffer as PyTables will pickle object types that it cannot\n",
      "map directly to c-types [inferred_type->mixed-integer,key->block5_values] [items->Index(['fragment_ion_int', 'fragment_ion_type', 'precursor', 'sequence',\n",
      "       'sequence_naked', 'filename', 'shortname', 'protein', 'protein_group',\n",
      "       'razor', 'protein_idx', 'n_possible_proteins'],\n",
      "      dtype='object')]\n",
      "\n",
      "  pytables.to_hdf(\n"
     ]
    },
    {
     "name": "stdout",
     "output_type": "stream",
     "text": [
      "2022-03-11 10:31:06> Complete.\n",
      "2022-03-11 10:31:06> Starting profile extraction.\n"
     ]
    },
    {
     "name": "stderr",
     "output_type": "stream",
     "text": [
      "\n",
      "\n",
      "  0%|                                                                                            | 0/1 [00:00<?, ?it/s]\u001b[A\u001b[A"
     ]
    },
    {
     "name": "stdout",
     "output_type": "stream",
     "text": [
      "2022-03-11 10:31:06> LFQ complete.\n",
      "2022-03-11 10:31:06> Extracting protein_summary\n",
      "2022-03-11 10:31:06> Saved protein_summary of length 4 saved to F:\\temp_test_run\\results_protein_summary.csv\n",
      "2022-03-11 10:31:06> Updating protein_fdr.\n",
      "2022-03-11 10:31:06> Exporting as csv.\n",
      "2022-03-11 10:31:06> Saved df of length 4 saved to F:\\temp_test_run\\results\n",
      "2022-03-11 10:31:06> ==== export ====\n",
      "2022-03-11 10:31:06> Settings saved to F:\\temp_test_run\\results.yaml\n",
      "2022-03-11 10:31:06> Analysis complete.\n",
      "features centroid_tol 19.0\n",
      "2022-03-11 10:31:07> Logging to C:\\Users\\admin\\alphapept\\logs\\log_20220311103107.txt.\n",
      "2022-03-11 10:31:07> Platform information:\n",
      "2022-03-11 10:31:07> system     - Windows\n",
      "2022-03-11 10:31:07> release    - 10\n",
      "2022-03-11 10:31:07> version    - 10.0.19044\n",
      "2022-03-11 10:31:07> machine    - AMD64\n",
      "2022-03-11 10:31:07> processor  - Intel64 Family 6 Model 85 Stepping 4, GenuineIntel\n",
      "2022-03-11 10:31:07> cpu count  - 24\n",
      "2022-03-11 10:31:07> ram memory - 117.8/127.7 Gb (available/total)\n",
      "2022-03-11 10:31:07> \n",
      "2022-03-11 10:31:07> Python information:\n",
      "2022-03-11 10:31:07> SQLAlchemy                    - 1.4.23\n",
      "2022-03-11 10:31:07> alphapept                     - 0.4.0\n",
      "2022-03-11 10:31:07> biopython                     - 1.78\n",
      "2022-03-11 10:31:07> bumpversion                   - \n",
      "2022-03-11 10:31:07> bumpversion>                  - \n",
      "2022-03-11 10:31:07> click                         - 7.1.2\n",
      "2022-03-11 10:31:07> click>                        - \n",
      "2022-03-11 10:31:07> fastcore                      - 1.3.21\n",
      "2022-03-11 10:31:07> h5py                          - 3.4.0\n",
      "2022-03-11 10:31:07> jupyter                       - 1.0.0\n",
      "2022-03-11 10:31:07> jupyter>                      - \n",
      "2022-03-11 10:31:07> jupyter_contrib_nbextensions  - \n",
      "2022-03-11 10:31:07> jupyter_contrib_nbextensions> - \n",
      "2022-03-11 10:31:07> matplotlib                    - 3.3.3\n",
      "2022-03-11 10:31:07> nbdev                         - 1.1.23\n",
      "2022-03-11 10:31:07> nbdev>                        - \n",
      "2022-03-11 10:31:07> networkx                      - 2.6.3\n",
      "2022-03-11 10:31:07> numba                         - 0.54.0\n",
      "2022-03-11 10:31:07> numpy                         - 1.20.3\n",
      "2022-03-11 10:31:07> pandas                        - 1.3.4\n",
      "2022-03-11 10:31:07> plotly_express                - 0.4.1\n",
      "2022-03-11 10:31:07> psutil                        - 5.8.0\n",
      "2022-03-11 10:31:07> pyinstaller                   - \n",
      "2022-03-11 10:31:07> pyteomics                     - 4.4.2\n",
      "2022-03-11 10:31:07> python                        - 3.8.12\n",
      "2022-03-11 10:31:07> pythonnet                     - 2.5.2\n",
      "2022-03-11 10:31:07> pywin32                       - 225\n",
      "2022-03-11 10:31:07> pyyaml                        - 5.4.1\n",
      "2022-03-11 10:31:07> scikit-learn                  - 0.24.2\n",
      "2022-03-11 10:31:07> scipy                         - 1.7.1\n",
      "2022-03-11 10:31:07> streamlit                     - 1.2.0\n",
      "2022-03-11 10:31:07> streamlit-aggrid              - 0.2.2.post4\n",
      "2022-03-11 10:31:07> streamlit>                    - \n",
      "2022-03-11 10:31:07> tables                        - 3.6.1\n",
      "2022-03-11 10:31:07> tqdm                          - 4.56.0\n",
      "2022-03-11 10:31:07> twine                         - \n",
      "2022-03-11 10:31:07> twine>                        - \n",
      "2022-03-11 10:31:07> watchdog                      - 2.1.5\n",
      "2022-03-11 10:31:07> wget                          - 3.2\n",
      "2022-03-11 10:31:07> \n",
      "2022-03-11 10:31:07> Check for settings not completely implemented yet.\n",
      "2022-03-11 10:31:07> Checking if files exist.\n",
      "2022-03-11 10:31:07> FASTA Files have a total size of 0.00 Mb\n",
      "2022-03-11 10:31:07> Results path was not set. Setting to F:\\temp_test_run\\results.hdf\n",
      "2022-03-11 10:31:07> Shortnames not set. Setting to filename.\n",
      "2022-03-11 10:31:07> No database path set and save_db option checked. Using default path F:\\temp_test_run\\database.hdf\n",
      "2022-03-11 10:31:07> Deleted F:/temp_test_run/thermo_IRT.ms_data.hdf\n",
      "2022-03-11 10:31:07> Workflow has 11 steps\n",
      "2022-03-11 10:31:07> ==== create_database ====\n",
      "2022-03-11 10:31:07> Database path set and exists. Using F:\\temp_test_run\\database.hdf as database.\n",
      "2022-03-11 10:31:07> ==== import_raw_data ====\n"
     ]
    },
    {
     "name": "stderr",
     "output_type": "stream",
     "text": [
      "\n",
      "\n",
      "\n",
      "\n",
      "  0%|                                                                                            | 0/1 [00:00<?, ?it/s]\u001b[A\u001b[A\u001b[A\u001b[A"
     ]
    },
    {
     "name": "stdout",
     "output_type": "stream",
     "text": [
      "2022-03-11 10:31:07> Processing 1 files for step raw_conversion\n",
      "2022-03-11 10:31:07> File F:/temp_test_run/thermo_IRT has extension .raw - converting from Thermo.\n",
      "2022-03-11 10:31:11> File conversion complete. Extracted 2,603 precursors.\n",
      "2022-03-11 10:31:11> File conversion of file F:/temp_test_run/thermo_IRT.raw complete.\n",
      "2022-03-11 10:31:11> ==== feature_finding ====\n"
     ]
    },
    {
     "name": "stderr",
     "output_type": "stream",
     "text": [
      "\n",
      "\n",
      "\n",
      "\n",
      "\n",
      "  0%|                                                                                            | 0/1 [00:00<?, ?it/s]\u001b[A\u001b[A\u001b[A\u001b[A\u001b[A"
     ]
    },
    {
     "name": "stdout",
     "output_type": "stream",
     "text": [
      "2022-03-11 10:31:11> Processing 1 files for step find_features\n",
      "2022-03-11 10:31:11> No *.hdf file with features found for F:/temp_test_run/thermo_IRT.ms_data.hdf. Adding to feature finding list.\n",
      "2022-03-11 10:31:11> Feature finding on F:/temp_test_run/thermo_IRT.raw\n",
      "2022-03-11 10:31:11> Hill extraction with centroid_tol 19 and max_gap 2\n",
      "2022-03-11 10:31:11> Number of hills 43,293, len = 20.15\n",
      "2022-03-11 10:31:11> Repeating hill extraction with centroid_tol 6.30\n",
      "2022-03-11 10:31:12> Number of hills 48,455, len = 20.72\n",
      "2022-03-11 10:31:12> After duplicate removal of hills 43,439\n",
      "2022-03-11 10:31:12> After split hill_ptrs 61,843\n",
      "2022-03-11 10:31:12> After filter hill_ptrs 60,296\n"
     ]
    },
    {
     "name": "stderr",
     "output_type": "stream",
     "text": [
      "  0%|                                                                                            | 0/1 [00:05<?, ?it/s]\n"
     ]
    },
    {
     "name": "stdout",
     "output_type": "stream",
     "text": [
      "2022-03-11 10:31:19> Extracting hill stats complete\n"
     ]
    },
    {
     "name": "stderr",
     "output_type": "stream",
     "text": [
      "  0%|                                                                                            | 0/1 [00:13<?, ?it/s]\n",
      "  0%|                                                                                            | 0/1 [00:12<?, ?it/s]\n",
      "100%|████████████████████████████████████████████████████████████████████████████████████| 1/1 [00:12<00:00, 12.77s/it]\n"
     ]
    },
    {
     "name": "stdout",
     "output_type": "stream",
     "text": [
      "2022-03-11 10:31:19> Found 7,180 pre isotope patterns.\n",
      "2022-03-11 10:31:20> Extracted 6,599 isotope patterns.\n",
      "2022-03-11 10:31:21> Report complete.\n",
      "2022-03-11 10:31:21> Matching features to query data.\n",
      "2022-03-11 10:31:21> Saving feature table.\n",
      "2022-03-11 10:31:21> Feature table saved to F:/temp_test_run/thermo_IRT.ms_data.hdf\n",
      "2022-03-11 10:31:21> Saving features.\n",
      "2022-03-11 10:31:21> Feature finding of file F:/temp_test_run/thermo_IRT.raw complete.\n",
      "2022-03-11 10:31:21> ==== search_data ====\n"
     ]
    },
    {
     "name": "stderr",
     "output_type": "stream",
     "text": [
      "\r",
      "  0%|                                                                                            | 0/1 [00:00<?, ?it/s]"
     ]
    },
    {
     "name": "stdout",
     "output_type": "stream",
     "text": [
      "2022-03-11 10:31:21> Starting first search.\n",
      "2022-03-11 10:31:21> Processing 1 files for step search_db\n",
      "2022-03-11 10:31:21> Calibrating fragments\n",
      "2022-03-11 10:31:26> Performing search on 3,042 query and 5,045,760 db entries with frag_tol = 30.00 and prec_tol = 30.00.\n",
      "2022-03-11 10:31:26> Found 59 psms.\n",
      "2022-03-11 10:31:26> Extracting columns for scoring.\n",
      "2022-03-11 10:31:30> Extracted columns from 59 spectra.\n",
      "2022-03-11 10:31:30> Saving first_search results to F:/temp_test_run/thermo_IRT.ms_data.hdf\n",
      "2022-03-11 10:31:30> Search of file F:/temp_test_run/thermo_IRT.raw complete.\n"
     ]
    },
    {
     "name": "stderr",
     "output_type": "stream",
     "text": [
      "  0%|                                                                                            | 0/1 [00:48<?, ?it/s]\n",
      "  0%|                                                                                            | 0/1 [00:22<?, ?it/s]\n"
     ]
    },
    {
     "name": "stdout",
     "output_type": "stream",
     "text": [
      "2022-03-11 10:31:47> First search complete.\n",
      "2022-03-11 10:31:47> ==== recalibrate_data ====\n"
     ]
    },
    {
     "name": "stderr",
     "output_type": "stream",
     "text": [
      "\n",
      "  0%|                                                                                            | 0/1 [00:00<?, ?it/s]\u001b[A"
     ]
    },
    {
     "name": "stdout",
     "output_type": "stream",
     "text": [
      "2022-03-11 10:31:47> Processing 1 files for step calibrate_hdf\n",
      "2022-03-11 10:31:47> Recalibrating file F:/temp_test_run/thermo_IRT.raw.\n",
      "2022-03-11 10:31:47> Scoring using X-Tandem\n",
      "2022-03-11 10:31:47> 3 target (0 decoy) of 38 PSMs. fdr 0.000000 for a cutoff of 23.25 (set fdr was 0.01)\n",
      "2022-03-11 10:31:47> Precursor mass calibration for file F:/temp_test_run/thermo_IRT.raw.\n",
      "2022-03-11 10:31:47> Not enough data points present. Skipping recalibration.\n",
      "2022-03-11 10:31:47> Precursor calibration of file F:/temp_test_run/thermo_IRT.ms_data.hdf complete.\n",
      "2022-03-11 10:31:47> Starting fragment calibration.\n",
      "2022-03-11 10:31:47> Calibrating fragments with neighbors\n",
      "2022-03-11 10:31:47> Scoring using X-Tandem\n",
      "2022-03-11 10:31:47> 3 target (0 decoy) of 38 PSMs. fdr 0.000000 for a cutoff of 23.25 (set fdr was 0.01)\n",
      "2022-03-11 10:31:47> Minimum hits for fragments before score 7.04.\n",
      "2022-03-11 10:31:47> Minimum hits for fragments after score 9.13.\n",
      "2022-03-11 10:31:47> Not enough datapoints 43 for fragment calibration. Minimum is set to 400. Skipping fragment calibration.\n",
      "2022-03-11 10:31:47> Fragment calibration of file F:/temp_test_run/thermo_IRT.ms_data.hdf complete.\n",
      "2022-03-11 10:31:47> ==== search_data ====\n"
     ]
    },
    {
     "name": "stderr",
     "output_type": "stream",
     "text": [
      "\n",
      "\n",
      "  0%|                                                                                            | 0/1 [00:00<?, ?it/s]\u001b[A\u001b[A"
     ]
    },
    {
     "name": "stdout",
     "output_type": "stream",
     "text": [
      "2022-03-11 10:31:47> Starting second search with DB.\n",
      "2022-03-11 10:31:47> Processing 1 files for step search_db\n",
      "2022-03-11 10:31:47> Found calibrated prec_tol with value 8.25\n",
      "2022-03-11 10:31:47> 'Dataset estimated_max_fragment_ppm does not exist for group / of <HDF_File F:\\\\temp_test_run\\\\thermo_IRT.ms_data.hdf>.'\n",
      "2022-03-11 10:31:48> Performing search on 3,042 query and 5,045,760 db entries with frag_tol = 30.00 and prec_tol = 8.25.\n",
      "2022-03-11 10:31:48> Found 18 psms.\n",
      "2022-03-11 10:31:48> Extracting columns for scoring.\n",
      "2022-03-11 10:31:52> Extracted columns from 18 spectra.\n",
      "2022-03-11 10:31:52> Saving second_search results to F:/temp_test_run/thermo_IRT.ms_data.hdf\n",
      "2022-03-11 10:31:52> Search of file F:/temp_test_run/thermo_IRT.raw complete.\n"
     ]
    },
    {
     "name": "stderr",
     "output_type": "stream",
     "text": [
      "  0%|                                                                                            | 0/1 [00:38<?, ?it/s]\n",
      "  0%|                                                                                            | 0/1 [00:12<?, ?it/s]\n"
     ]
    },
    {
     "name": "stdout",
     "output_type": "stream",
     "text": [
      "2022-03-11 10:32:07> Second search complete.\n",
      "2022-03-11 10:32:08> ==== score ====\n"
     ]
    },
    {
     "name": "stderr",
     "output_type": "stream",
     "text": [
      "\r",
      "  0%|                                                                                            | 0/1 [00:00<?, ?it/s]"
     ]
    },
    {
     "name": "stdout",
     "output_type": "stream",
     "text": [
      "2022-03-11 10:32:08> Processing 1 files for step score_hdf\n",
      "2022-03-11 10:32:08> Calling score_hdf\n",
      "2022-03-11 10:32:08> Found second search psms for scoring.\n",
      "2022-03-11 10:32:08> 6 target (0 decoy) of 16 PSMs. fdr 0.000000 for a cutoff of 20.22 (set fdr was 0.1)\n",
      "2022-03-11 10:32:08> ML failed. Defaulting to x_tandem score\n",
      "2022-03-11 10:32:08> There are fewer high scoring targets or decoys than required by 'min_train'.\n",
      "2022-03-11 10:32:08> Converting x_tandem score to probabilities\n",
      "2022-03-11 10:32:08> 6 target (0 decoy) of 17 PSMs. fdr 0.000000 for a cutoff of 0.72 (set fdr was 0.01)\n",
      "2022-03-11 10:32:08> Saving identifications to ms_data file.\n",
      "2022-03-11 10:32:08> Saving identifications to ms_data file complete.\n",
      "2022-03-11 10:32:08> Saving identifications to csv file complete.\n",
      "2022-03-11 10:32:08> Filter df with custom score\n",
      "2022-03-11 10:32:08> Global FDR on precursor\n",
      "2022-03-11 10:32:08> 6 target (0 decoy) of 16 PSMs. fdr 0.000000 for a cutoff of 0.72 (set fdr was 0.01)\n",
      "2022-03-11 10:32:08> Global FDR cutoff at 0.7222222222222222.\n",
      "2022-03-11 10:32:08> FDR on peptides complete. For 0.01 FDR found 6 targets and 0 decoys.\n",
      "2022-03-11 10:32:08> Extracting fragment_ions\n",
      "2022-03-11 10:32:08> Extracting fragment_ions complete.\n",
      "2022-03-11 10:32:09> Scoring of files [<HDF_File F:\\temp_test_run\\thermo_IRT.ms_data.hdf>] complete.\n",
      "2022-03-11 10:32:09> ==== isobaric_labeling ====\n",
      "2022-03-11 10:32:09> ==== protein_grouping ====\n"
     ]
    },
    {
     "name": "stderr",
     "output_type": "stream",
     "text": [
      "\n",
      "  0%|                                                                                            | 0/1 [00:00<?, ?it/s]\u001b[A"
     ]
    },
    {
     "name": "stdout",
     "output_type": "stream",
     "text": [
      "2022-03-11 10:32:09> Fasta dict with length 20,365, Pept dict with length 5,045,764\n",
      "2022-03-11 10:32:09> Extracting protein groups.\n"
     ]
    },
    {
     "name": "stderr",
     "output_type": "stream",
     "text": [
      "\n",
      "\n",
      "\n",
      "  0%|                                                                                            | 0/1 [00:00<?, ?it/s]\u001b[A\u001b[A\u001b[A"
     ]
    },
    {
     "name": "stdout",
     "output_type": "stream",
     "text": [
      "2022-03-11 10:32:09> A total of 5 unique and 1 shared peptides.\n",
      "2022-03-11 10:32:09> A total of 1 ambigious proteins\n",
      "2022-03-11 10:32:09> A total of 0 unique and 0 shared peptides.\n",
      "2022-03-11 10:32:09> A total of 0 ambigious proteins\n"
     ]
    },
    {
     "name": "stderr",
     "output_type": "stream",
     "text": [
      "\r",
      "  0%|                                                                                            | 0/1 [00:00<?, ?it/s]"
     ]
    },
    {
     "name": "stdout",
     "output_type": "stream",
     "text": [
      "2022-03-11 10:32:09> Global FDR on protein_group\n",
      "2022-03-11 10:32:09> Last q_value 0.000 of dataset is smaller than fdr_level 0.010\n",
      "2022-03-11 10:32:09> 6 target (0 decoy) of 6 PSMs. fdr 0.000000 for a cutoff of 0.72 (set fdr was 0.01)\n",
      "2022-03-11 10:32:09> Global FDR cutoff at 0.7222222222222222.\n",
      "2022-03-11 10:32:09> FDR on proteins complete. For 0.01 FDR found 6 targets and 0 decoys. A total of 6 proteins found.\n",
      "2022-03-11 10:32:09> Saving complete.\n",
      "2022-03-11 10:32:09> Protein groups complete.\n",
      "2022-03-11 10:32:09> ==== quantification ====\n",
      "2022-03-11 10:32:09> Reading protein_fdr for quantification.\n"
     ]
    },
    {
     "name": "stderr",
     "output_type": "stream",
     "text": [
      "\n",
      "C:\\Users\\admin\\.conda\\envs\\alphapept\\lib\\site-packages\\pandas\\core\\generic.py:2703: PerformanceWarning: \n",
      "your performance may suffer as PyTables will pickle object types that it cannot\n",
      "map directly to c-types [inferred_type->mixed-integer,key->block5_values] [items->Index(['fragment_ion_int', 'fragment_ion_type', 'precursor', 'sequence',\n",
      "       'sequence_naked', 'filename', 'shortname', 'protein', 'protein_group',\n",
      "       'razor', 'protein_idx', 'n_possible_proteins'],\n",
      "      dtype='object')]\n",
      "\n",
      "  pytables.to_hdf(\n"
     ]
    },
    {
     "name": "stdout",
     "output_type": "stream",
     "text": [
      "2022-03-11 10:32:09> Saving protein_groups after delayed normalization to combined_protein_fdr_dn\n",
      "2022-03-11 10:32:09> Complete.\n",
      "2022-03-11 10:32:09> Starting profile extraction.\n"
     ]
    },
    {
     "name": "stderr",
     "output_type": "stream",
     "text": [
      "\n",
      "  0%|                                                                                            | 0/1 [00:00<?, ?it/s]\u001b[A"
     ]
    },
    {
     "name": "stdout",
     "output_type": "stream",
     "text": [
      "2022-03-11 10:32:09> LFQ complete.\n",
      "2022-03-11 10:32:09> Extracting protein_summary\n",
      "2022-03-11 10:32:09> Saved protein_summary of length 6 saved to F:\\temp_test_run\\results_protein_summary.csv\n",
      "2022-03-11 10:32:09> Updating protein_fdr.\n",
      "2022-03-11 10:32:09> Exporting as csv.\n",
      "2022-03-11 10:32:09> Saved df of length 6 saved to F:\\temp_test_run\\results\n",
      "2022-03-11 10:32:09> ==== export ====\n"
     ]
    },
    {
     "name": "stderr",
     "output_type": "stream",
     "text": [
      "  0%|                                                                                            | 0/1 [00:01<?, ?it/s]\n",
      "  0%|                                                                                            | 0/1 [00:00<?, ?it/s]\n",
      "100%|████████████████████████████████████████████████████████████████████████████████████| 1/1 [00:00<00:00,  7.71it/s]\n"
     ]
    },
    {
     "name": "stdout",
     "output_type": "stream",
     "text": [
      "2022-03-11 10:32:09> Settings saved to F:\\temp_test_run\\results.yaml\n",
      "2022-03-11 10:32:09> Analysis complete.\n",
      "features centroid_tol 25.0\n",
      "2022-03-11 10:32:10> Logging to C:\\Users\\admin\\alphapept\\logs\\log_20220311103210.txt.\n",
      "2022-03-11 10:32:10> Platform information:\n",
      "2022-03-11 10:32:10> system     - Windows\n",
      "2022-03-11 10:32:10> release    - 10\n",
      "2022-03-11 10:32:10> version    - 10.0.19044\n",
      "2022-03-11 10:32:10> machine    - AMD64\n",
      "2022-03-11 10:32:10> processor  - Intel64 Family 6 Model 85 Stepping 4, GenuineIntel\n",
      "2022-03-11 10:32:10> cpu count  - 24\n",
      "2022-03-11 10:32:10> ram memory - 117.8/127.7 Gb (available/total)\n",
      "2022-03-11 10:32:10> \n",
      "2022-03-11 10:32:10> Python information:\n",
      "2022-03-11 10:32:10> SQLAlchemy                    - 1.4.23\n",
      "2022-03-11 10:32:10> alphapept                     - 0.4.0\n",
      "2022-03-11 10:32:10> biopython                     - 1.78\n",
      "2022-03-11 10:32:10> bumpversion                   - \n",
      "2022-03-11 10:32:10> bumpversion>                  - \n",
      "2022-03-11 10:32:10> click                         - 7.1.2\n",
      "2022-03-11 10:32:10> click>                        - \n",
      "2022-03-11 10:32:10> fastcore                      - 1.3.21\n",
      "2022-03-11 10:32:10> h5py                          - 3.4.0\n",
      "2022-03-11 10:32:10> jupyter                       - 1.0.0\n",
      "2022-03-11 10:32:10> jupyter>                      - \n",
      "2022-03-11 10:32:10> jupyter_contrib_nbextensions  - \n",
      "2022-03-11 10:32:10> jupyter_contrib_nbextensions> - \n",
      "2022-03-11 10:32:10> matplotlib                    - 3.3.3\n",
      "2022-03-11 10:32:10> nbdev                         - 1.1.23\n",
      "2022-03-11 10:32:10> nbdev>                        - \n",
      "2022-03-11 10:32:10> networkx                      - 2.6.3\n",
      "2022-03-11 10:32:10> numba                         - 0.54.0\n",
      "2022-03-11 10:32:10> numpy                         - 1.20.3\n",
      "2022-03-11 10:32:10> pandas                        - 1.3.4\n",
      "2022-03-11 10:32:10> plotly_express                - 0.4.1\n",
      "2022-03-11 10:32:10> psutil                        - 5.8.0\n",
      "2022-03-11 10:32:10> pyinstaller                   - \n",
      "2022-03-11 10:32:10> pyteomics                     - 4.4.2\n",
      "2022-03-11 10:32:10> python                        - 3.8.12\n",
      "2022-03-11 10:32:10> pythonnet                     - 2.5.2\n",
      "2022-03-11 10:32:10> pywin32                       - 225\n",
      "2022-03-11 10:32:10> pyyaml                        - 5.4.1\n",
      "2022-03-11 10:32:10> scikit-learn                  - 0.24.2\n",
      "2022-03-11 10:32:10> scipy                         - 1.7.1\n",
      "2022-03-11 10:32:10> streamlit                     - 1.2.0\n",
      "2022-03-11 10:32:10> streamlit-aggrid              - 0.2.2.post4\n",
      "2022-03-11 10:32:10> streamlit>                    - \n",
      "2022-03-11 10:32:10> tables                        - 3.6.1\n",
      "2022-03-11 10:32:10> tqdm                          - 4.56.0\n",
      "2022-03-11 10:32:10> twine                         - \n",
      "2022-03-11 10:32:10> twine>                        - \n",
      "2022-03-11 10:32:10> watchdog                      - 2.1.5\n",
      "2022-03-11 10:32:10> wget                          - 3.2\n",
      "2022-03-11 10:32:10> \n",
      "2022-03-11 10:32:10> Check for settings not completely implemented yet.\n",
      "2022-03-11 10:32:10> Checking if files exist.\n",
      "2022-03-11 10:32:10> FASTA Files have a total size of 0.00 Mb\n",
      "2022-03-11 10:32:10> Results path was not set. Setting to F:\\temp_test_run\\results.hdf\n",
      "2022-03-11 10:32:10> Shortnames not set. Setting to filename.\n",
      "2022-03-11 10:32:10> No database path set and save_db option checked. Using default path F:\\temp_test_run\\database.hdf\n",
      "2022-03-11 10:32:10> Deleted F:/temp_test_run/thermo_IRT.ms_data.hdf\n",
      "2022-03-11 10:32:10> Workflow has 11 steps\n",
      "2022-03-11 10:32:10> ==== create_database ====\n",
      "2022-03-11 10:32:10> Database path set and exists. Using F:\\temp_test_run\\database.hdf as database.\n",
      "2022-03-11 10:32:10> ==== import_raw_data ====\n"
     ]
    },
    {
     "name": "stderr",
     "output_type": "stream",
     "text": [
      "\r",
      "  0%|                                                                                            | 0/1 [00:00<?, ?it/s]"
     ]
    },
    {
     "name": "stdout",
     "output_type": "stream",
     "text": [
      "2022-03-11 10:32:10> Processing 1 files for step raw_conversion\n",
      "2022-03-11 10:32:10> File F:/temp_test_run/thermo_IRT has extension .raw - converting from Thermo.\n",
      "2022-03-11 10:32:13> File conversion complete. Extracted 2,603 precursors.\n",
      "2022-03-11 10:32:13> File conversion of file F:/temp_test_run/thermo_IRT.raw complete.\n",
      "2022-03-11 10:32:13> ==== feature_finding ====\n"
     ]
    },
    {
     "name": "stderr",
     "output_type": "stream",
     "text": [
      "\n",
      "  0%|                                                                                            | 0/1 [00:00<?, ?it/s]\u001b[A"
     ]
    },
    {
     "name": "stdout",
     "output_type": "stream",
     "text": [
      "2022-03-11 10:32:13> Processing 1 files for step find_features\n",
      "2022-03-11 10:32:14> No *.hdf file with features found for F:/temp_test_run/thermo_IRT.ms_data.hdf. Adding to feature finding list.\n",
      "2022-03-11 10:32:14> Feature finding on F:/temp_test_run/thermo_IRT.raw\n",
      "2022-03-11 10:32:14> Hill extraction with centroid_tol 25 and max_gap 2\n",
      "2022-03-11 10:32:14> Number of hills 43,449, len = 20.36\n",
      "2022-03-11 10:32:14> Repeating hill extraction with centroid_tol 6.94\n",
      "2022-03-11 10:32:14> Number of hills 47,026, len = 20.46\n",
      "2022-03-11 10:32:14> After duplicate removal of hills 43,198\n",
      "2022-03-11 10:32:15> After split hill_ptrs 61,840\n",
      "2022-03-11 10:32:15> After filter hill_ptrs 60,287\n"
     ]
    },
    {
     "name": "stderr",
     "output_type": "stream",
     "text": [
      "  0%|                                                                                            | 0/1 [00:05<?, ?it/s]\n"
     ]
    },
    {
     "name": "stdout",
     "output_type": "stream",
     "text": [
      "2022-03-11 10:32:22> Extracting hill stats complete\n",
      "2022-03-11 10:32:22> Found 7,219 pre isotope patterns.\n",
      "2022-03-11 10:32:23> Extracted 6,622 isotope patterns.\n",
      "2022-03-11 10:32:23> Report complete.\n",
      "2022-03-11 10:32:23> Matching features to query data.\n",
      "2022-03-11 10:32:23> Saving feature table.\n",
      "2022-03-11 10:32:24> Feature table saved to F:/temp_test_run/thermo_IRT.ms_data.hdf\n",
      "2022-03-11 10:32:24> Saving features.\n",
      "2022-03-11 10:32:24> Feature finding of file F:/temp_test_run/thermo_IRT.raw complete.\n",
      "2022-03-11 10:32:24> ==== search_data ====\n"
     ]
    },
    {
     "name": "stderr",
     "output_type": "stream",
     "text": [
      "\r",
      "  0%|                                                                                            | 0/1 [00:00<?, ?it/s]"
     ]
    },
    {
     "name": "stdout",
     "output_type": "stream",
     "text": [
      "2022-03-11 10:32:24> Starting first search.\n",
      "2022-03-11 10:32:24> Processing 1 files for step search_db\n",
      "2022-03-11 10:32:24> Calibrating fragments\n",
      "2022-03-11 10:32:29> Performing search on 3,077 query and 5,045,760 db entries with frag_tol = 30.00 and prec_tol = 30.00.\n",
      "2022-03-11 10:32:29> Found 61 psms.\n",
      "2022-03-11 10:32:29> Extracting columns for scoring.\n",
      "2022-03-11 10:32:33> Extracted columns from 61 spectra.\n",
      "2022-03-11 10:32:33> Saving first_search results to F:/temp_test_run/thermo_IRT.ms_data.hdf\n",
      "2022-03-11 10:32:33> Search of file F:/temp_test_run/thermo_IRT.raw complete.\n"
     ]
    },
    {
     "name": "stderr",
     "output_type": "stream",
     "text": [
      "  0%|                                                                                            | 0/1 [00:55<?, ?it/s]\n",
      "  0%|                                                                                            | 0/1 [00:29<?, ?it/s]\n"
     ]
    },
    {
     "name": "stdout",
     "output_type": "stream",
     "text": [
      "2022-03-11 10:32:50> First search complete.\n",
      "2022-03-11 10:32:50> ==== recalibrate_data ====\n"
     ]
    },
    {
     "name": "stderr",
     "output_type": "stream",
     "text": [
      "\n",
      "  0%|                                                                                            | 0/1 [00:00<?, ?it/s]\u001b[A"
     ]
    },
    {
     "name": "stdout",
     "output_type": "stream",
     "text": [
      "2022-03-11 10:32:50> Processing 1 files for step calibrate_hdf\n",
      "2022-03-11 10:32:50> Recalibrating file F:/temp_test_run/thermo_IRT.raw.\n",
      "2022-03-11 10:32:51> Scoring using X-Tandem\n",
      "2022-03-11 10:32:51> 3 target (0 decoy) of 39 PSMs. fdr 0.000000 for a cutoff of 22.36 (set fdr was 0.01)\n",
      "2022-03-11 10:32:51> Precursor mass calibration for file F:/temp_test_run/thermo_IRT.raw.\n",
      "2022-03-11 10:32:51> Not enough data points present. Skipping recalibration.\n",
      "2022-03-11 10:32:51> Precursor calibration of file F:/temp_test_run/thermo_IRT.ms_data.hdf complete.\n",
      "2022-03-11 10:32:51> Starting fragment calibration.\n",
      "2022-03-11 10:32:51> Calibrating fragments with neighbors\n",
      "2022-03-11 10:32:51> Scoring using X-Tandem\n",
      "2022-03-11 10:32:51> 3 target (0 decoy) of 39 PSMs. fdr 0.000000 for a cutoff of 22.36 (set fdr was 0.01)\n",
      "2022-03-11 10:32:51> Minimum hits for fragments before score 7.04.\n",
      "2022-03-11 10:32:51> Minimum hits for fragments after score 10.37.\n",
      "2022-03-11 10:32:51> Not enough datapoints 36 for fragment calibration. Minimum is set to 400. Skipping fragment calibration.\n",
      "2022-03-11 10:32:51> Fragment calibration of file F:/temp_test_run/thermo_IRT.ms_data.hdf complete.\n",
      "2022-03-11 10:32:51> ==== search_data ====\n"
     ]
    },
    {
     "name": "stderr",
     "output_type": "stream",
     "text": [
      "\n",
      "\n",
      "  0%|                                                                                            | 0/1 [00:00<?, ?it/s]\u001b[A\u001b[A"
     ]
    },
    {
     "name": "stdout",
     "output_type": "stream",
     "text": [
      "2022-03-11 10:32:51> Starting second search with DB.\n",
      "2022-03-11 10:32:51> Processing 1 files for step search_db\n",
      "2022-03-11 10:32:51> Found calibrated prec_tol with value 7.91\n",
      "2022-03-11 10:32:51> 'Dataset estimated_max_fragment_ppm does not exist for group / of <HDF_File F:\\\\temp_test_run\\\\thermo_IRT.ms_data.hdf>.'\n",
      "2022-03-11 10:32:51> Performing search on 3,077 query and 5,045,760 db entries with frag_tol = 30.00 and prec_tol = 7.91.\n",
      "2022-03-11 10:32:51> Found 19 psms.\n",
      "2022-03-11 10:32:51> Extracting columns for scoring.\n",
      "2022-03-11 10:32:54> Extracted columns from 19 spectra.\n",
      "2022-03-11 10:32:54> Saving second_search results to F:/temp_test_run/thermo_IRT.ms_data.hdf\n",
      "2022-03-11 10:32:55> Search of file F:/temp_test_run/thermo_IRT.raw complete.\n"
     ]
    },
    {
     "name": "stderr",
     "output_type": "stream",
     "text": [
      "  0%|                                                                                            | 0/1 [00:07<?, ?it/s]\n",
      "  0%|                                                                                            | 0/1 [00:37<?, ?it/s]\n"
     ]
    },
    {
     "name": "stdout",
     "output_type": "stream",
     "text": [
      "2022-03-11 10:33:09> Second search complete.\n",
      "2022-03-11 10:33:09> ==== score ====\n"
     ]
    },
    {
     "name": "stderr",
     "output_type": "stream",
     "text": [
      "\r",
      "  0%|                                                                                            | 0/1 [00:00<?, ?it/s]"
     ]
    },
    {
     "name": "stdout",
     "output_type": "stream",
     "text": [
      "2022-03-11 10:33:09> Processing 1 files for step score_hdf\n",
      "2022-03-11 10:33:09> Calling score_hdf\n",
      "2022-03-11 10:33:09> Found second search psms for scoring.\n",
      "2022-03-11 10:33:09> 5 target (0 decoy) of 17 PSMs. fdr 0.000000 for a cutoff of 20.22 (set fdr was 0.1)\n",
      "2022-03-11 10:33:09> ML failed. Defaulting to x_tandem score\n",
      "2022-03-11 10:33:09> There are fewer high scoring targets or decoys than required by 'min_train'.\n",
      "2022-03-11 10:33:09> Converting x_tandem score to probabilities\n",
      "2022-03-11 10:33:09> 5 target (0 decoy) of 18 PSMs. fdr 0.000000 for a cutoff of 0.79 (set fdr was 0.01)\n",
      "2022-03-11 10:33:09> Saving identifications to ms_data file.\n",
      "2022-03-11 10:33:09> Saving identifications to ms_data file complete.\n",
      "2022-03-11 10:33:09> Saving identifications to csv file complete.\n",
      "2022-03-11 10:33:09> Filter df with custom score\n",
      "2022-03-11 10:33:09> Global FDR on precursor\n",
      "2022-03-11 10:33:09> 5 target (0 decoy) of 17 PSMs. fdr 0.000000 for a cutoff of 0.79 (set fdr was 0.01)\n",
      "2022-03-11 10:33:09> Global FDR cutoff at 0.7894736842105263.\n",
      "2022-03-11 10:33:09> FDR on peptides complete. For 0.01 FDR found 5 targets and 0 decoys.\n",
      "2022-03-11 10:33:09> Extracting fragment_ions\n",
      "2022-03-11 10:33:09> Extracting fragment_ions complete.\n",
      "2022-03-11 10:33:10> Scoring of files [<HDF_File F:\\temp_test_run\\thermo_IRT.ms_data.hdf>] complete.\n",
      "2022-03-11 10:33:10> ==== isobaric_labeling ====\n",
      "2022-03-11 10:33:10> ==== protein_grouping ====\n"
     ]
    },
    {
     "name": "stderr",
     "output_type": "stream",
     "text": [
      "\n",
      "  0%|                                                                                            | 0/1 [00:00<?, ?it/s]\u001b[A"
     ]
    },
    {
     "name": "stdout",
     "output_type": "stream",
     "text": [
      "2022-03-11 10:33:10> Fasta dict with length 20,365, Pept dict with length 5,045,764\n",
      "2022-03-11 10:33:10> Extracting protein groups.\n"
     ]
    },
    {
     "name": "stderr",
     "output_type": "stream",
     "text": [
      "\n",
      "\n",
      "\n",
      "  0%|                                                                                            | 0/1 [00:00<?, ?it/s]\u001b[A\u001b[A\u001b[A"
     ]
    },
    {
     "name": "stdout",
     "output_type": "stream",
     "text": [
      "2022-03-11 10:33:10> A total of 4 unique and 1 shared peptides.\n",
      "2022-03-11 10:33:10> A total of 1 ambigious proteins\n",
      "2022-03-11 10:33:10> A total of 0 unique and 0 shared peptides.\n",
      "2022-03-11 10:33:10> A total of 0 ambigious proteins\n"
     ]
    },
    {
     "name": "stderr",
     "output_type": "stream",
     "text": [
      "\r",
      "  0%|                                                                                            | 0/1 [00:00<?, ?it/s]"
     ]
    },
    {
     "name": "stdout",
     "output_type": "stream",
     "text": [
      "2022-03-11 10:33:10> Global FDR on protein_group\n",
      "2022-03-11 10:33:10> Last q_value 0.000 of dataset is smaller than fdr_level 0.010\n",
      "2022-03-11 10:33:10> 5 target (0 decoy) of 5 PSMs. fdr 0.000000 for a cutoff of 0.79 (set fdr was 0.01)\n",
      "2022-03-11 10:33:10> Global FDR cutoff at 0.7894736842105263.\n",
      "2022-03-11 10:33:10> FDR on proteins complete. For 0.01 FDR found 5 targets and 0 decoys. A total of 5 proteins found.\n",
      "2022-03-11 10:33:10> Saving complete.\n",
      "2022-03-11 10:33:10> Protein groups complete.\n",
      "2022-03-11 10:33:10> ==== quantification ====\n",
      "2022-03-11 10:33:10> Reading protein_fdr for quantification.\n"
     ]
    },
    {
     "name": "stderr",
     "output_type": "stream",
     "text": [
      "\n",
      "C:\\Users\\admin\\.conda\\envs\\alphapept\\lib\\site-packages\\pandas\\core\\generic.py:2703: PerformanceWarning: \n",
      "your performance may suffer as PyTables will pickle object types that it cannot\n",
      "map directly to c-types [inferred_type->mixed-integer,key->block5_values] [items->Index(['fragment_ion_int', 'fragment_ion_type', 'precursor', 'sequence',\n",
      "       'sequence_naked', 'filename', 'shortname', 'protein', 'protein_group',\n",
      "       'razor', 'protein_idx', 'n_possible_proteins'],\n",
      "      dtype='object')]\n",
      "\n",
      "  pytables.to_hdf(\n"
     ]
    },
    {
     "name": "stdout",
     "output_type": "stream",
     "text": [
      "2022-03-11 10:33:10> Saving protein_groups after delayed normalization to combined_protein_fdr_dn\n",
      "2022-03-11 10:33:10> Complete.\n",
      "2022-03-11 10:33:10> Starting profile extraction.\n"
     ]
    },
    {
     "name": "stderr",
     "output_type": "stream",
     "text": [
      "\n",
      "  0%|                                                                                            | 0/1 [00:00<?, ?it/s]\u001b[A"
     ]
    },
    {
     "name": "stdout",
     "output_type": "stream",
     "text": [
      "2022-03-11 10:33:10> LFQ complete.\n",
      "2022-03-11 10:33:10> Extracting protein_summary\n",
      "2022-03-11 10:33:10> Saved protein_summary of length 5 saved to F:\\temp_test_run\\results_protein_summary.csv\n",
      "2022-03-11 10:33:10> Updating protein_fdr.\n",
      "2022-03-11 10:33:10> Exporting as csv.\n",
      "2022-03-11 10:33:10> Saved df of length 5 saved to F:\\temp_test_run\\results\n",
      "2022-03-11 10:33:10> ==== export ====\n",
      "2022-03-11 10:33:10> Settings saved to F:\\temp_test_run\\results.yaml\n",
      "2022-03-11 10:33:10> Analysis complete.\n"
     ]
    }
   ],
   "source": [
    "results = []\n",
    "n_sample = 5\n",
    "\n",
    "group = 'features'\n",
    "\n",
    "print(SETTINGS_TEMPLATE[group].keys())\n",
    "\n",
    "for param in ['centroid_tol']: #Test 1 parameter for now\n",
    "    for selector in np.linspace(SETTINGS_TEMPLATE[group][param]['min'], SETTINGS_TEMPLATE[group][param]['max'], n_sample):\n",
    "        print(group, param, selector)\n",
    "        \n",
    "        if SETTINGS_TEMPLATE[group][param]['type'] == 'spinbox':\n",
    "            selector = int(selector)\n",
    "            \n",
    "        settings = load_settings_as_template(DEFAULT_SETTINGS_PATH)\n",
    "\n",
    "        settings['experiment']['file_paths'] =  ['F:/temp_test_run/thermo_IRT.raw']\n",
    "        settings['fasta']['fasta_paths'] = ['F:/temp_test_run/human.fasta', 'E:/temp_test_run/arabidopsis.fasta', 'E:/temp_test_run/contaminants.fasta']\n",
    "\n",
    "        settings[group][param] = selector\n",
    "\n",
    "        try:\n",
    "            settings_ = alphapept.interface.run_complete_workflow(settings)\n",
    "            try:\n",
    "                n_features = settings_['summary']['thermo_IRT']['feature_table (n in table)']\n",
    "            except KeyError as e:\n",
    "                raise\n",
    "                n_proteins = 0\n",
    "            time = settings_['summary']['timing']['total (min)']\n",
    "            results.append((group, param, selector, n_features, time))\n",
    "\n",
    "        except Exception as e:\n",
    "            print(e)\n",
    "            raise"
   ]
  },
  {
   "cell_type": "code",
   "execution_count": 23,
   "id": "912ecd6a",
   "metadata": {},
   "outputs": [],
   "source": [
    "import matplotlib.pyplot as plt\n",
    "import pandas as pd"
   ]
  },
  {
   "cell_type": "code",
   "execution_count": 24,
   "id": "reduced-cylinder",
   "metadata": {},
   "outputs": [],
   "source": [
    "df = pd.DataFrame(results, columns = ['group','parameter','value','n_features','timing'])"
   ]
  },
  {
   "cell_type": "code",
   "execution_count": 25,
   "id": "92f92239",
   "metadata": {},
   "outputs": [
    {
     "data": {
      "image/png": "[encoded data removed]",
      "text/plain": [
       "<Figure size 360x360 with 1 Axes>"
      ]
     },
     "metadata": {
      "needs_background": "light"
     },
     "output_type": "display_data"
    },
    {
     "data": {
      "image/png": "[encoded data removed]",
      "text/plain": [
       "<Figure size 360x360 with 1 Axes>"
      ]
     },
     "metadata": {
      "needs_background": "light"
     },
     "output_type": "display_data"
    }
   ],
   "source": [
    "plt.figure(figsize=(5,5))\n",
    "plt.plot(df['value'], df['n_features'], 'o')\n",
    "plt.plot(df['value'], df['n_features'])\n",
    "plt.xlabel('Value')\n",
    "plt.ylabel('Number of features')\n",
    "plt.show()\n",
    "\n",
    "plt.figure(figsize=(5,5))\n",
    "plt.plot(df['value'], df['timing'], 'o')\n",
    "plt.plot(df['value'], df['timing'])\n",
    "plt.xlabel('Value')\n",
    "plt.ylabel('Time elapsed')\n",
    "plt.show()"
   ]
  }
 ],
 "metadata": {
  "kernelspec": {
   "display_name": "Python 3 (ipykernel)",
   "language": "python",
   "name": "python3"
  },
  "language_info": {
   "codemirror_mode": {
    "name": "ipython",
    "version": 3
   },
   "file_extension": ".py",
   "mimetype": "text/x-python",
   "name": "python",
   "nbconvert_exporter": "python",
   "pygments_lexer": "ipython3",
   "version": "3.8.12"
  },
  "toc": {
   "base_numbering": 1,
   "nav_menu": {},
   "number_sections": true,
   "sideBar": true,
   "skip_h1_title": false,
   "title_cell": "Table of Contents",
   "title_sidebar": "Contents",
   "toc_cell": false,
   "toc_position": {},
   "toc_section_display": true,
   "toc_window_display": false
  }
 },
 "nbformat": 4,
 "nbformat_minor": 5
}
