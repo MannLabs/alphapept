{
 "cells": [
  {
   "cell_type": "markdown",
   "id": "4d1bcb4c",
   "metadata": {},
   "source": [
    "# Paper Figure 2: IO\n",
    "Raw file accession times and pyRawFileReader interface\n",
    "\n",
    "This notebook converts raw files and shows accesion times."
   ]
  },
  {
   "cell_type": "code",
   "execution_count": 1,
   "id": "bbc3d32e",
   "metadata": {},
   "outputs": [],
   "source": [
    "import os\n",
    "from test_files import get_files, prepare_test\n",
    "\n",
    "multiple_file_test = ['PXD006109_HeLa12_1.raw','PXD006109_HeLa12_2.raw','PXD006109_HeLa12_3.raw','PXD006109_HeLa2_1.raw','PXD006109_HeLa2_2.raw','PXD006109_HeLa2_3.raw']"
   ]
  },
  {
   "cell_type": "code",
   "execution_count": 2,
   "id": "77c5fc8d",
   "metadata": {},
   "outputs": [],
   "source": [
    "tmp_folder = os.path.join(os.getcwd(),'temp/')\n",
    "test_folder = 'fig2'"
   ]
  },
  {
   "cell_type": "code",
   "execution_count": 3,
   "id": "b1c48110",
   "metadata": {},
   "outputs": [
    {
     "name": "stdout",
     "output_type": "stream",
     "text": [
      "Windows-10-10.0.18362-SP0\n",
      "Intel64 Family 6 Model 85 Stepping 4, GenuineIntel\n"
     ]
    }
   ],
   "source": [
    "import platform\n",
    "\n",
    "print(platform.platform())\n",
    "print(platform.processor())\n"
   ]
  },
  {
   "cell_type": "code",
   "execution_count": 4,
   "id": "2daa33ee",
   "metadata": {},
   "outputs": [
    {
     "name": "stdout",
     "output_type": "stream",
     "text": [
      "Creating dir F:\\alphapept\\sandbox\\temp/fig2.\n"
     ]
    }
   ],
   "source": [
    "get_files(tmp_folder, multiple_file_test)\n",
    "prepare_test(multiple_file_test, tmp_folder, test_folder)"
   ]
  },
  {
   "cell_type": "code",
   "execution_count": 5,
   "id": "f73e8eca",
   "metadata": {},
   "outputs": [
    {
     "name": "stdout",
     "output_type": "stream",
     "text": [
      "File size of 'F:\\alphapept\\sandbox\\temp/fig2\\PXD006109_HeLa12_1.raw' = 1.567 GB\n"
     ]
    }
   ],
   "source": [
    "raw_path = os.path.join(os.path.join(tmp_folder, test_folder, multiple_file_test[0]))\n",
    "print(f\"File size of '{raw_path}' = {os.path.getsize(raw_path)/1024/1024/1024:.3f} GB\")"
   ]
  },
  {
   "cell_type": "markdown",
   "id": "98639075",
   "metadata": {},
   "source": [
    "## Interfacing files with pyRawFileReader"
   ]
  },
  {
   "cell_type": "code",
   "execution_count": 6,
   "id": "959082fb",
   "metadata": {},
   "outputs": [],
   "source": [
    "from alphapept.pyrawfilereader import RawFileReader\n",
    "rawFile = RawFileReader(raw_path)"
   ]
  },
  {
   "cell_type": "markdown",
   "id": "8504cd47",
   "metadata": {},
   "source": [
    "### Metadata"
   ]
  },
  {
   "cell_type": "code",
   "execution_count": 7,
   "id": "c2f9f5ad",
   "metadata": {
    "scrolled": false
   },
   "outputs": [
    {
     "name": "stdout",
     "output_type": "stream",
     "text": [
      "First scan: 1\n",
      "Last scan: 92650\n",
      "Total spectra: 92650\n",
      "Start time: 0.0032707386\n",
      "End time: 100.00126\n",
      "GetFileName:  F:\\alphapept\\sandbox\\temp\\fig2\\PXD006109_HeLa12_1.raw\n",
      "GetCreatorID:  thermo\n",
      "                            Method of Q Exactive HF\r\n",
      "\r\n",
      "OVERALL METHOD SETTINGS\r\n",
      "\r\n",
      "Global Settings\r\n",
      "Use lock masses                                                          off \r\n",
      "Lock mass injection                                                        ― \r\n",
      "Chrom. peak width (FWHM)                                                  15 s\r\n",
      "Time\r\n",
      "Method duration                                                       100.00 min\r\n",
      "Customized Tolerances (+/-)\r\n",
      "Lock Masses                                                                ― \r\n",
      "Inclusion                                                                  ― \r\n",
      "Exclusion                                                                  ― \r\n",
      "Neutral Loss                                                               ― \r\n",
      "Mass Tags                                                                  ― \r\n",
      "Dynamic Exclusion                                                          ― \r\n",
      "\r\n",
      "\r\n",
      "                                   Experiment\r\n",
      "\r\n",
      "FULL MS / DD-MS² (TOPN)\r\n",
      "General\r\n",
      "Runtime                                                             0 to 100 min\r\n",
      "Polarity                                                            Positive \r\n",
      "In-source CID                                                            0.0 eV\r\n",
      "Default charge state                                                       2 \r\n",
      "Inclusion                                                                  ― \r\n",
      "Exclusion                                                                  ― \r\n",
      "Tags                                                                       ― \r\n",
      "Full MS\r\n",
      "Microscans                                                                 1 \r\n",
      "Resolution                                                            60,000 \r\n",
      "AGC target                                                               3e6 \r\n",
      "Maximum IT                                                                25 ms\r\n",
      "Number of scan ranges                                                      1 \r\n",
      "Scan range                                                       300 to 1650 m/z\r\n",
      "Spectrum data type                                                   Profile \r\n",
      "dd-MS² / dd-SIM\r\n",
      "Microscans                                                                 1 \r\n",
      "Resolution                                                            15,000 \r\n",
      "AGC target                                                               1e5 \r\n",
      "Maximum IT                                                                25 ms\r\n",
      "Loop count                                                                15 \r\n",
      "MSX count                                                                  1 \r\n",
      "TopN                                                                      15 \r\n",
      "Isolation window                                                         1.4 m/z\r\n",
      "Isolation offset                                                         0.0 m/z\r\n",
      "Scan range                                                       200 to 2000 m/z\r\n",
      "Fixed first mass                                                           ― \r\n",
      "(N)CE / stepped (N)CE                                                nce: 27 \r\n",
      "Spectrum data type                                                   Profile \r\n",
      "dd Settings\r\n",
      "Minimum AGC target                                                    1.00e3 \r\n",
      "Intensity threshold                                                    4.0e4 \r\n",
      "Apex trigger                                                               ― \r\n",
      "Charge exclusion                                    unassigned, 1, 6 - 8, >8 \r\n",
      "Peptide match                                                      Preferred \r\n",
      "Exclude isotopes                                                          on \r\n",
      "Dynamic exclusion                                                       30.0 s\r\n",
      "If idle ..                                                do not pick others \r\n",
      "\r\n",
      "                                     Setup\r\n",
      "\r\n",
      "TUNEFILES\r\n",
      "General\r\n",
      "Switch Count  0\r\n",
      "Base Tunefile C:\\Xcalibur\\methods\\20170503_nESI.mstune\r\n",
      "\r\n",
      "CONTACT CLOSURE\r\n",
      "General\r\n",
      "Used            False \r\n",
      "Start in Closed  True \r\n",
      "Switch Count        0 \r\n",
      "\r\n",
      "SYRINGE\r\n",
      "General\r\n",
      "Used                  False \r\n",
      "Start in OFF           True \r\n",
      "Stop at end of run    False \r\n",
      "Switch Count              0 \r\n",
      "Pump setup\r\n",
      "Syringe type       Hamilton \r\n",
      "Flow rate             3.000 µL/min\r\n",
      "Inner diameter        2.303 mm\r\n",
      "Volume                  250 µL\r\n",
      "\r\n",
      "DIVERT VALVE A\r\n",
      "General\r\n",
      "Used         False \r\n",
      "Start in 1-2  True \r\n",
      "Switch Count     0 \r\n",
      "\r\n",
      "DIVERT VALVE B\r\n",
      "General\r\n",
      "Used         False \r\n",
      "Start in 1-2  True \r\n",
      "Switch Count     0 \r\n",
      "\r\n",
      "LOCK MASSES\r\n",
      "   (no entries)\r\n",
      "\r\n",
      "INCLUSION LIST\r\n",
      "   (no entries)\r\n",
      "\r\n",
      "EXCLUSION LIST\r\n",
      "   (no entries)\r\n",
      "\r\n",
      "NEUTRAL LOSSES\r\n",
      "   (no entries)\r\n",
      "\r\n",
      "MASS TAGS\r\n",
      "   (no entries)\r\n",
      "\n"
     ]
    }
   ],
   "source": [
    "print(f\"First scan: {rawFile.FirstSpectrumNumber}\")\n",
    "print(f\"Last scan: {rawFile.LastSpectrumNumber}\")\n",
    "print(f\"Total spectra: {rawFile.NumSpectra}\")\n",
    "print(f\"Start time: {rawFile.StartTime}\")\n",
    "print(f\"End time: {rawFile.EndTime}\")\n",
    "\n",
    "print(\"GetFileName: \", rawFile.GetFileName())\n",
    "print(\"GetCreatorID: \", rawFile.GetCreatorID())\n",
    "\n",
    "try:\n",
    "    print(rawFile.source.GetInstrumentMethod(1)) # Error on MacOS\n",
    "except:\n",
    "    print(\"Count not access instrument method on macOS\")"
   ]
  },
  {
   "cell_type": "markdown",
   "id": "84c4d48d",
   "metadata": {},
   "source": [
    "### Accessing a single scan"
   ]
  },
  {
   "cell_type": "code",
   "execution_count": 8,
   "id": "7526a2f7",
   "metadata": {},
   "outputs": [
    {
     "name": "stdout",
     "output_type": "stream",
     "text": [
      "GetMSOrderForScanNum:  2\n",
      "GetScanEventForScanNum:  FTMS + p NSI d Full ms2 650.2769@hcd27.00 [89.6667-1345.0000]\n",
      "GetNumberOfSourceFragmentsFromScanNum:  1\n",
      "GetSourceFragmentValueFromScanNum:  0.0\n",
      "GetIsolationWidthForScanNum:  1.399999976158142\n",
      "GetCollisionEnergyForScanNum:  27.0\n",
      "GetActivationTypeForScanNum:  HCD\n",
      "GetPrecursorMassForScanNum:  650.2769165039062\n",
      "GetPrecursorRangeForScanNum:  (0.0, 0.0)\n",
      "GetMassAnalyzerTypeForScanNum:  None\n",
      "GetNumberOfMassCalibratorsFromScanNum:  5\n",
      "GetMassCalibrationValueFromScanNum:  0.0\n",
      "GetFirstSpectrumNumber:  1\n",
      "GetLastSpectrumNumber:  92650\n",
      "IsProfileScanForScanNum:  True\n",
      "IsCentroidScanForScanNum:  False\n",
      "RTFromScanNum:  14.874491\n",
      "ScanNumFromRT:  23811\n",
      "RTInSecondsFromScanNum:  892.46946\n",
      "ScanNumFromRTInSeconds:  209\n",
      "GetNumberOfMSOrdersFromScanNum:  1\n",
      "GetBasePeakForScanNum:  (650.3439919, 242916.78)\n"
     ]
    }
   ],
   "source": [
    "scanNumber = 10000\n",
    "print(\"GetMSOrderForScanNum: \", rawFile.GetMSOrderForScanNum(scanNumber))\n",
    "print(\"GetScanEventForScanNum: \", rawFile.GetScanEventStringForScanNum(scanNumber))\n",
    "print(\"GetNumberOfSourceFragmentsFromScanNum: \", rawFile.GetNumberOfSourceFragmentsFromScanNum(scanNumber))\n",
    "if rawFile.GetNumberOfSourceFragmentsFromScanNum(scanNumber) > 0:\n",
    "    print(\"GetSourceFragmentValueFromScanNum: \", rawFile.GetSourceFragmentValueFromScanNum(scanNumber, 0))\n",
    "if rawFile.GetMSOrderForScanNum(scanNumber) > 1:\n",
    "    print(\"GetIsolationWidthForScanNum: \", rawFile.GetIsolationWidthForScanNum(scanNumber))\n",
    "    print(\"GetCollisionEnergyForScanNum: \", rawFile.GetCollisionEnergyForScanNum(scanNumber))\n",
    "    print(\"GetActivationTypeForScanNum: \", rawFile.GetActivationTypeForScanNum(scanNumber))\n",
    "    print(\"GetPrecursorMassForScanNum: \", rawFile.GetPrecursorMassForScanNum(scanNumber))\n",
    "    print(\"GetPrecursorRangeForScanNum: \", rawFile.GetPrecursorRangeForScanNum(scanNumber))\n",
    "print(\"GetMassAnalyzerTypeForScanNum: \", rawFile.GetMassAnalyzerTypeForScanNum(scanNumber))\n",
    "print(\"GetNumberOfMassCalibratorsFromScanNum: \", rawFile.GetNumberOfMassCalibratorsFromScanNum(scanNumber))\n",
    "print(\"GetMassCalibrationValueFromScanNum: \", rawFile.GetMassCalibrationValueFromScanNum(scanNumber, 0))\n",
    "print(\"GetFirstSpectrumNumber: \", rawFile.GetFirstSpectrumNumber())\n",
    "print(\"GetLastSpectrumNumber: \", rawFile.GetLastSpectrumNumber())\n",
    "print(\"IsProfileScanForScanNum: \", rawFile.IsProfileScanForScanNum(scanNumber))\n",
    "print(\"IsCentroidScanForScanNum: \", rawFile.IsCentroidScanForScanNum(scanNumber))\n",
    "\n",
    "print(\"RTFromScanNum: \", rawFile.RTFromScanNum(scanNumber))\n",
    "print(\"ScanNumFromRT: \", rawFile.ScanNumFromRT(30))\n",
    "print(\"RTInSecondsFromScanNum: \", rawFile.RTInSecondsFromScanNum(scanNumber))\n",
    "print(\"ScanNumFromRTInSeconds: \", rawFile.ScanNumFromRTInSeconds(30))\n",
    "\n",
    "print(\"GetNumberOfMSOrdersFromScanNum: \", rawFile.GetNumberOfMSOrdersFromScanNum(scanNumber))\n",
    "print(\"GetBasePeakForScanNum: \", rawFile.GetBasePeakForScanNum(scanNumber))"
   ]
  },
  {
   "cell_type": "code",
   "execution_count": 9,
   "id": "274ebbd7",
   "metadata": {},
   "outputs": [
    {
     "name": "stdout",
     "output_type": "stream",
     "text": [
      "GetTrailerExtraForScanNum:  {'Multiple Injection:': 'h ', 'Multi Inject Info:': 'IT=25 ', 'AGC:': 'On', 'Micro Scan Count:': '1', 'Scan Segment:': '1', 'Scan Event:': '2', 'Master Index:': '1', 'Charge State:': '2', 'Monoisotopic M/Z:': '0.0000', 'Ion Injection Time (ms):': '25.000', 'Max. Ion Time (ms):': '25.00', 'FT Resolution:': '15000', 'MS2 Isolation Width:': '1.40', 'MS2 Isolation Offset:': '0.00', 'AGC Target:': '100000', 'HCD Energy:': '27.00', 'Analyzer Temperature:': '25.57', '=== Mass Calibration: ===:': '', 'Conversion Parameter B:': '211751921.7967', 'Conversion Parameter C:': '-52128889.3883', 'Temperature Comp. (ppm):': '-0.65', 'RF Comp. (ppm):': '0.00', 'Space Charge Comp. (ppm):': '-0.02', 'Resolution Comp. (ppm):': '0.04', 'Number of Lock Masses:': '0', 'Lock Mass #1 (m/z):': '0.0000', 'Lock Mass #2 (m/z):': '0.0000', 'Lock Mass #3 (m/z):': '0.0000', 'LM Search Window (ppm):': '0.0', 'LM Search Window (mmu):': '0.0', 'Number of LM Found:': '0', 'Last Locking (sec):': '0.0', 'LM m/z-Correction (ppm):': '0.00', '=== Ion Optics Settings: ===:': '', 'S-Lens RF Level:': '60.00', 'S-Lens Voltage (V):': '21.00', 'Skimmer Voltage (V):': '15.00', 'Inject Flatapole Offset (V):': '5.00', 'Bent Flatapole DC (V):': '2.00', 'MP2 and MP3 RF (V):': '487.00', 'Gate Lens Voltage (V):': '1.63', 'C-Trap RF (V):': '900.0', '====  Diagnostic Data:  ====:': '', 'Intens Comp Factor:': '0.5737', 'Res. Dep. Intens:': '1.520', 'CTCD NumF:': '0', 'CTCD Comp:': '1.150', 'CTCD ScScr:': '0.000', 'RawOvFtT:': '42848.5', 'PhiSDM State:': 'Off', 'PhiSDM Windows:': '', 'PhiSDM Iterations:': '50', 'PhiSDM Fidelity:': '1.00', 'LC FWHM parameter:': '15.0', 'Rod:': '0', 'PS Inj. Time (ms):': '0.160', 'AGC PS Mode:': '-7', 'AGC PS Diag:': '0', 'HCD Energy eV:': '31.603', 'AGC Fill:': '0.27', 'Injection t0:': '0.000', 't0 FLP:': '0.00', 'Access Id:': '0', 'Analog Input 1 (V):': '0.000', 'Analog Input 2 (V):': '0.000', 'Custom V1.20170327 for QuadClean:': ''}\n"
     ]
    }
   ],
   "source": [
    "print(\"GetTrailerExtraForScanNum: \", rawFile.GetTrailerExtraForScanNum(scanNumber))"
   ]
  },
  {
   "cell_type": "code",
   "execution_count": 10,
   "id": "ffa2fccf",
   "metadata": {},
   "outputs": [
    {
     "name": "stdout",
     "output_type": "stream",
     "text": [
      "masses [ 101.07131958  106.05017853  106.28302765  110.07151031  129.10220337\n",
      "  136.07565308  147.11235046  156.07362366  169.09700012  187.10772705\n",
      "  193.97605896  204.1350708   207.01774597  215.10255432  219.13264465\n",
      "  230.07609558  266.12301636  272.17062378  273.1736145   323.42163086\n",
      "  329.14291382  343.15542603  345.10177612  365.19311523  390.13040161\n",
      "  392.23382568  395.16445923  444.16860962  474.1545105   484.24813843\n",
      "  509.20657349  583.75164795  613.29223633  622.28826904  632.30969238\n",
      "  638.24108887  649.81646729  650.34399414  651.30206299  727.33856201\n",
      "  753.27416992  838.36077881  854.28295898  856.37255859  866.37121582\n",
      "  867.32226562  953.36047363  954.36053467  971.39764404  982.33898926\n",
      " 1068.40710449 1085.43310547 1086.44177246 1095.43969727 1183.45373535\n",
      " 1200.46228027 1201.4708252 ]\n",
      "intensities [  9817.5234375   20783.8203125    5325.89306641  26432.38085938\n",
      "  12011.63378906   6990.6484375   21516.33398438   4777.22949219\n",
      "  30521.54882812  53889.47265625   4654.40478516   6607.00585938\n",
      "   9254.515625    72776.7421875    7564.57373047  18845.546875\n",
      "   6431.42724609  27104.33789062   7464.96044922   5389.84570312\n",
      "   5572.21142578   5476.63525391   5597.46337891   6571.93408203\n",
      "   9228.83203125   5640.94042969   6412.34667969   5985.51953125\n",
      "   5881.46533203  27507.0078125   10499.47167969   5387.63427734\n",
      "   6458.88378906   5390.37890625  27279.05664062   6193.71337891\n",
      "  54275.44140625 242916.78125      5127.47607422  10713.08984375\n",
      "   5443.06005859   5285.78320312   5130.95507812  10652.89746094\n",
      "   6234.07568359  24037.16992188   6024.48583984   5788.38085938\n",
      "  20914.16992188  20802.88671875   8172.31787109  26426.18554688\n",
      "  10036.21972656   8012.46630859   9885.30078125  30333.58789062\n",
      "   9747.12792969]\n"
     ]
    },
    {
     "data": {
      "image/png": "[encoded data removed]",
      "text/plain": [
       "<Figure size 720x360 with 1 Axes>"
      ]
     },
     "metadata": {
      "needs_background": "light"
     },
     "output_type": "display_data"
    }
   ],
   "source": [
    "import matplotlib.pyplot as plt\n",
    "\n",
    "masses, intens = rawFile.GetCentroidMassListFromScanNum(scanNumber)\n",
    "\n",
    "print(f'masses {masses}')\n",
    "print(f'intensities {intens}')\n",
    "\n",
    "plt.figure(figsize=(10,5))\n",
    "plt.vlines(masses, intens, 0)\n",
    "plt.title(f'scanNumber {scanNumber}')\n",
    "plt.show()"
   ]
  },
  {
   "cell_type": "markdown",
   "id": "9ccf92d0",
   "metadata": {},
   "source": [
    "### Loading file to RAM"
   ]
  },
  {
   "cell_type": "code",
   "execution_count": 11,
   "id": "0a498121",
   "metadata": {},
   "outputs": [],
   "source": [
    "import time\n",
    "\n",
    "from alphapept.io import load_thermo_raw\n",
    "from alphapept.interface import import_raw_data\n",
    "\n",
    "time_list = []\n",
    "\n",
    "\n",
    "def ram_test():\n",
    "    start_time = time.perf_counter()\n",
    "    _ = load_thermo_raw(raw_path, n_most_abundant = 1000)\n",
    "    end_time = time.perf_counter()\n",
    "    _size = os.path.getsize(raw_path)/1024/1024/1024\n",
    "    _time = end_time-start_time\n",
    "    time_list.append([f'RAW to RAM (N=1, {_size:.1f}GB)', _time])\n",
    "    print(f\"Converting all raw files into HDF takes {end_time-start_time:.3f} seconds ({(end_time-start_time)/60:.3f} minutes)\")"
   ]
  },
  {
   "cell_type": "markdown",
   "id": "d9475f2d",
   "metadata": {},
   "source": [
    "### Loading using AlphaPept"
   ]
  },
  {
   "cell_type": "code",
   "execution_count": 12,
   "id": "742bf4e2",
   "metadata": {},
   "outputs": [],
   "source": [
    "def print_data_info(settings):\n",
    "    total_size = 0\n",
    "    print(f\"{len(settings['experiment']['file_paths'])} raw files\")\n",
    "    for raw_path in settings['experiment']['file_paths']:\n",
    "        _size = os.path.getsize(raw_path)/1024/1024/1024\n",
    "        total_size += _size\n",
    "        print(f\"File size of '{raw_path}' = {_size:.3f} GB\")\n",
    "    print(f'Total size = {total_size:.3f} GB')\n",
    "    return total_size\n"
   ]
  },
  {
   "cell_type": "code",
   "execution_count": 13,
   "id": "8442e2fb",
   "metadata": {},
   "outputs": [],
   "source": [
    "def load_alphapept():\n",
    "    settings = {}\n",
    "    settings['experiment'] = {}\n",
    "    settings['experiment']['file_paths'] = []\n",
    "    settings['general'] = {}\n",
    "    settings['general']['n_processes'] = 1\n",
    "    settings['raw'] = {}\n",
    "    settings['raw']['n_most_abundant'] = 1000\n",
    "\n",
    "    settings['experiment']['file_paths'] = []\n",
    "    settings['experiment']['file_paths'].append(raw_path)\n",
    "\n",
    "    try:\n",
    "        os.remove(raw_path[:-3]+'ms_data.hdf')\n",
    "    except:\n",
    "        pass\n",
    "\n",
    "    start_time = time.perf_counter()\n",
    "    import_raw_data(settings, settings_parsed=True)\n",
    "    end_time = time.perf_counter()\n",
    "    _size = print_data_info(settings)\n",
    "    _time = end_time-start_time\n",
    "    time_list.append([f'RAW to HDF (N=1, {_size:.1f}GB)', _time])\n",
    "    print(f\"Converting all raw files into HDF takes {end_time-start_time:.3f} seconds ({(end_time-start_time)/60:.3f} minutes)\")"
   ]
  },
  {
   "cell_type": "code",
   "execution_count": 14,
   "id": "c9665c88",
   "metadata": {},
   "outputs": [],
   "source": [
    "import alphapept.io\n",
    "\n",
    "def load_hdf(hdf_file):\n",
    "    start_time = time.perf_counter()\n",
    "    _reader = alphapept.io.MS_Data_File(hdf_file)\n",
    "    query_data = _reader.read_DDA_query_data()\n",
    "    end_time = time.perf_counter()\n",
    "    _size = os.path.getsize(hdf_file[:-len('ms_data.hdf')]+'raw')/1024/1024/1024\n",
    "    _time = end_time-start_time\n",
    "    time_list.append([f'HDF to RAM (N=1, {_size:.1f}GB)', _time])\n",
    "    print(f\"Loading {hdf_file} takes {end_time-start_time:.3f} seconds ({(end_time-start_time)/60:.3f} minutes)\")\n",
    "    return query_data\n",
    "\n",
    "\n",
    "def test_load_hdf():\n",
    "    _ = load_hdf(raw_path[:-3]+'ms_data.hdf')"
   ]
  },
  {
   "cell_type": "markdown",
   "id": "31259d9c",
   "metadata": {},
   "source": [
    "### Parallelized version"
   ]
  },
  {
   "cell_type": "markdown",
   "id": "6ca2eb50",
   "metadata": {},
   "source": [
    "#### Single Core"
   ]
  },
  {
   "cell_type": "code",
   "execution_count": 15,
   "id": "f66e6928",
   "metadata": {},
   "outputs": [],
   "source": [
    "def test_single_core():\n",
    "    settings = {}\n",
    "    settings['experiment'] = {}\n",
    "    settings['experiment']['file_paths'] = []\n",
    "    settings['general'] = {}\n",
    "    settings['general']['n_processes'] = 1\n",
    "    settings['raw'] = {}\n",
    "    settings['raw']['n_most_abundant'] = 1000\n",
    "\n",
    "    settings['experiment']['file_paths'] = []\n",
    "    for raw in multiple_file_test:\n",
    "        settings['experiment']['file_paths'].append(os.path.join(os.path.join(tmp_folder, test_folder, raw)))\n",
    "\n",
    "    cpu = 1\n",
    "    settings['general']['n_processes'] = cpu\n",
    "    for raw in settings['experiment']['file_paths']:\n",
    "        try:\n",
    "            os.remove(raw[:-4]+'.ms_data.hdf')\n",
    "        except:\n",
    "            pass\n",
    "\n",
    "\n",
    "    start_time = time.perf_counter()\n",
    "    import_raw_data(settings, settings_parsed=True)\n",
    "    end_time = time.perf_counter()\n",
    "    _size = print_data_info(settings)\n",
    "    _time = end_time-start_time\n",
    "    N = len(settings['experiment']['file_paths'])\n",
    "    time_list.append([f'RAW to HDF (N={N}, {_size:.1f}GB, CPU={cpu})', _time])\n",
    "    print(f\"Converting all raw files into HDF takes {end_time-start_time:.3f} seconds ({(end_time-start_time)/60:.3f} minutes)\")"
   ]
  },
  {
   "cell_type": "markdown",
   "id": "b6811d08",
   "metadata": {},
   "source": [
    "#### Multicore"
   ]
  },
  {
   "cell_type": "code",
   "execution_count": 16,
   "id": "71b96066",
   "metadata": {},
   "outputs": [],
   "source": [
    "def test_multicore():\n",
    "    settings = {}\n",
    "    settings['experiment'] = {}\n",
    "    settings['experiment']['file_paths'] = []\n",
    "    settings['general'] = {}\n",
    "    settings['general']['n_processes'] = 1\n",
    "    settings['raw'] = {}\n",
    "    settings['raw']['n_most_abundant'] = 1000\n",
    "\n",
    "    settings['experiment']['file_paths'] = []\n",
    "    for raw in multiple_file_test:\n",
    "        settings['experiment']['file_paths'].append(os.path.join(os.path.join(tmp_folder, test_folder, raw)))\n",
    "\n",
    "    \n",
    "    cpu = 6\n",
    "    settings['general']['n_processes'] = cpu\n",
    "    for raw in settings['experiment']['file_paths']:\n",
    "        try:\n",
    "            os.remove(raw[:-4]+'.ms_data.hdf')\n",
    "        except:\n",
    "            pass\n",
    "\n",
    "    start_time = time.perf_counter()\n",
    "    import_raw_data(settings, settings_parsed=True)\n",
    "    end_time = time.perf_counter()\n",
    "    _size = print_data_info(settings)\n",
    "    _time = end_time-start_time\n",
    "    N = len(settings['experiment']['file_paths'])\n",
    "    time_list.append([f'RAW to HDF (N={N}, {_size:.1f}GB, CPU={cpu})', _time])\n",
    "    print(f\"Converting all raw files into HDF takes {end_time-start_time:.3f} seconds ({(end_time-start_time)/60:.3f} minutes)\")"
   ]
  },
  {
   "cell_type": "code",
   "execution_count": 17,
   "id": "fd7e4542",
   "metadata": {},
   "outputs": [
    {
     "name": "stdout",
     "output_type": "stream",
     "text": [
      "Converting all raw files into HDF takes 72.451 seconds (1.208 minutes)\n",
      "2021-06-05 14:53:56> Logging to C:\\Users\\admin\\alphapept\\logs\\log_20210605145356.txt.\n"
     ]
    },
    {
     "name": "stderr",
     "output_type": "stream",
     "text": [
      "\r",
      "  0%|                                                                                            | 0/1 [00:00<?, ?it/s]"
     ]
    },
    {
     "name": "stdout",
     "output_type": "stream",
     "text": [
      "2021-06-05 14:53:56> Processing 1 files for step raw_conversion\n",
      "2021-06-05 14:53:56> File F:\\alphapept\\sandbox\\temp/fig2\\PXD006109_HeLa12_1 has extension .raw - converting from Thermo.\n",
      "2021-06-05 14:55:00> File conversion complete. Extracted 82,848 precursors.\n",
      "2021-06-05 14:55:01> File conversion of file F:\\alphapept\\sandbox\\temp/fig2\\PXD006109_HeLa12_1.raw complete.\n",
      "1 raw files\n",
      "File size of 'F:\\alphapept\\sandbox\\temp/fig2\\PXD006109_HeLa12_1.raw' = 1.567 GB\n",
      "Total size = 1.567 GB\n",
      "Converting all raw files into HDF takes 65.197 seconds (1.087 minutes)\n",
      "Loading F:\\alphapept\\sandbox\\temp/fig2\\PXD006109_HeLa12_1.ms_data.hdf takes 0.208 seconds (0.003 minutes)\n",
      "2021-06-05 14:55:01> Logging to C:\\Users\\admin\\alphapept\\logs\\log_20210605145501.txt.\n"
     ]
    },
    {
     "name": "stderr",
     "output_type": "stream",
     "text": [
      "\n",
      "  0%|                                                                                            | 0/1 [00:00<?, ?it/s]\u001b[A"
     ]
    },
    {
     "name": "stdout",
     "output_type": "stream",
     "text": [
      "2021-06-05 14:55:01> Processing 6 files for step raw_conversion\n",
      "2021-06-05 14:55:01> AlphaPool was set to 1 processes. Setting max to 1.\n"
     ]
    },
    {
     "name": "stderr",
     "output_type": "stream",
     "text": [
      "\n",
      " 17%|██████████▊                                                      | 0.16666666666666666/1 [01:12<06:01, 433.91s/it]\u001b[A\n",
      " 33%|██████████████████████                                            | 0.3333333333333333/1 [02:15<04:28, 402.71s/it]\u001b[A\n",
      " 50%|████████████████████████████████████████▌                                        | 0.5/1 [03:19<03:16, 393.61s/it]\u001b[A\n",
      " 67%|████████████████████████████████████████████                      | 0.6666666666666666/1 [04:22<02:09, 387.87s/it]\u001b[A\n",
      " 83%|███████████████████████████████████████████████████████           | 0.8333333333333334/1 [05:23<01:03, 380.04s/it]\u001b[A\n",
      "100%|█████████████████████████████████████████████████████████████████████████████████| 1.0/1 [06:23<00:00, 372.45s/it]\u001b[A"
     ]
    },
    {
     "name": "stdout",
     "output_type": "stream",
     "text": [
      "6 raw files\n",
      "File size of 'F:\\alphapept\\sandbox\\temp/fig2\\PXD006109_HeLa12_1.raw' = 1.567 GB\n",
      "File size of 'F:\\alphapept\\sandbox\\temp/fig2\\PXD006109_HeLa12_2.raw' = 1.503 GB\n",
      "File size of 'F:\\alphapept\\sandbox\\temp/fig2\\PXD006109_HeLa12_3.raw' = 1.511 GB\n",
      "File size of 'F:\\alphapept\\sandbox\\temp/fig2\\PXD006109_HeLa2_1.raw' = 1.608 GB\n",
      "File size of 'F:\\alphapept\\sandbox\\temp/fig2\\PXD006109_HeLa2_2.raw' = 1.510 GB\n",
      "File size of 'F:\\alphapept\\sandbox\\temp/fig2\\PXD006109_HeLa2_3.raw' = 1.515 GB\n",
      "Total size = 9.214 GB\n",
      "Converting all raw files into HDF takes 383.587 seconds (6.393 minutes)\n",
      "2021-06-05 15:01:25> Logging to C:\\Users\\admin\\alphapept\\logs\\log_20210605150125.txt.\n"
     ]
    },
    {
     "name": "stderr",
     "output_type": "stream",
     "text": [
      "\n",
      "\n",
      "  0%|                                                                                            | 0/1 [00:00<?, ?it/s]\u001b[A\u001b[A"
     ]
    },
    {
     "name": "stdout",
     "output_type": "stream",
     "text": [
      "2021-06-05 15:01:25> Processing 6 files for step raw_conversion\n",
      "2021-06-05 15:01:25> AlphaPool was set to 6 processes. Setting max to 6.\n"
     ]
    },
    {
     "name": "stderr",
     "output_type": "stream",
     "text": [
      "\n",
      "\n",
      " 17%|██████████▊                                                      | 0.16666666666666666/1 [01:19<06:37, 476.95s/it]\u001b[A\u001b[A"
     ]
    },
    {
     "name": "stdout",
     "output_type": "stream",
     "text": [
      "6 raw files\n",
      "File size of 'F:\\alphapept\\sandbox\\temp/fig2\\PXD006109_HeLa12_1.raw' = 1.567 GB\n",
      "File size of 'F:\\alphapept\\sandbox\\temp/fig2\\PXD006109_HeLa12_2.raw' = 1.503 GB\n",
      "File size of 'F:\\alphapept\\sandbox\\temp/fig2\\PXD006109_HeLa12_3.raw' = 1.511 GB\n",
      "File size of 'F:\\alphapept\\sandbox\\temp/fig2\\PXD006109_HeLa2_1.raw' = 1.608 GB\n",
      "File size of 'F:\\alphapept\\sandbox\\temp/fig2\\PXD006109_HeLa2_2.raw' = 1.510 GB\n",
      "File size of 'F:\\alphapept\\sandbox\\temp/fig2\\PXD006109_HeLa2_3.raw' = 1.515 GB\n",
      "Total size = 9.214 GB\n",
      "Converting all raw files into HDF takes 79.727 seconds (1.329 minutes)\n",
      "Converting all raw files into HDF takes 71.408 seconds (1.190 minutes)\n",
      "2021-06-05 15:03:57> Logging to C:\\Users\\admin\\alphapept\\logs\\log_20210605150357.txt.\n"
     ]
    },
    {
     "name": "stderr",
     "output_type": "stream",
     "text": [
      "\n",
      "\n",
      "\n",
      "  0%|                                                                                            | 0/1 [00:00<?, ?it/s]\u001b[A\u001b[A\u001b[A"
     ]
    },
    {
     "name": "stdout",
     "output_type": "stream",
     "text": [
      "2021-06-05 15:03:57> Processing 1 files for step raw_conversion\n",
      "2021-06-05 15:03:57> File F:\\alphapept\\sandbox\\temp/fig2\\PXD006109_HeLa12_1 has extension .raw - converting from Thermo.\n",
      "2021-06-05 15:04:59> File conversion complete. Extracted 82,848 precursors.\n",
      "2021-06-05 15:05:00> File conversion of file F:\\alphapept\\sandbox\\temp/fig2\\PXD006109_HeLa12_1.raw complete.\n",
      "1 raw files\n",
      "File size of 'F:\\alphapept\\sandbox\\temp/fig2\\PXD006109_HeLa12_1.raw' = 1.567 GB\n",
      "Total size = 1.567 GB\n",
      "Converting all raw files into HDF takes 63.528 seconds (1.059 minutes)\n",
      "Loading F:\\alphapept\\sandbox\\temp/fig2\\PXD006109_HeLa12_1.ms_data.hdf takes 0.198 seconds (0.003 minutes)\n",
      "2021-06-05 15:05:01> Logging to C:\\Users\\admin\\alphapept\\logs\\log_20210605150501.txt.\n"
     ]
    },
    {
     "name": "stderr",
     "output_type": "stream",
     "text": [
      "\n",
      "\n",
      "\n",
      "\n",
      "  0%|                                                                                            | 0/1 [00:00<?, ?it/s]\u001b[A\u001b[A\u001b[A\u001b[A"
     ]
    },
    {
     "name": "stdout",
     "output_type": "stream",
     "text": [
      "2021-06-05 15:05:01> Processing 6 files for step raw_conversion\n",
      "2021-06-05 15:05:01> AlphaPool was set to 1 processes. Setting max to 1.\n"
     ]
    },
    {
     "name": "stderr",
     "output_type": "stream",
     "text": [
      "\n",
      "\n",
      "\n",
      "\n",
      " 17%|██████████▊                                                      | 0.16666666666666666/1 [01:11<05:59, 431.26s/it]\u001b[A\u001b[A\u001b[A\u001b[A\n",
      "\n",
      "\n",
      "\n",
      " 33%|██████████████████████                                            | 0.3333333333333333/1 [02:12<04:20, 390.90s/it]\u001b[A\u001b[A\u001b[A\u001b[A\n",
      "\n",
      "\n",
      "\n",
      " 50%|████████████████████████████████████████▌                                        | 0.5/1 [03:14<03:10, 381.86s/it]\u001b[A\u001b[A\u001b[A\u001b[A\n",
      "\n",
      "\n",
      "\n",
      " 67%|████████████████████████████████████████████                      | 0.6666666666666666/1 [04:25<02:13, 400.38s/it]\u001b[A\u001b[A\u001b[A\u001b[A\n",
      "\n",
      "\n",
      "\n",
      " 83%|███████████████████████████████████████████████████████           | 0.8333333333333334/1 [05:25<01:04, 384.60s/it]\u001b[A\u001b[A\u001b[A\u001b[A\n",
      "\n",
      "\n",
      "\n",
      "100%|█████████████████████████████████████████████████████████████████████████████████| 1.0/1 [06:25<00:00, 377.14s/it]\u001b[A\u001b[A\u001b[A\u001b[A"
     ]
    },
    {
     "name": "stdout",
     "output_type": "stream",
     "text": [
      "6 raw files\n",
      "File size of 'F:\\alphapept\\sandbox\\temp/fig2\\PXD006109_HeLa12_1.raw' = 1.567 GB\n",
      "File size of 'F:\\alphapept\\sandbox\\temp/fig2\\PXD006109_HeLa12_2.raw' = 1.503 GB\n",
      "File size of 'F:\\alphapept\\sandbox\\temp/fig2\\PXD006109_HeLa12_3.raw' = 1.511 GB\n",
      "File size of 'F:\\alphapept\\sandbox\\temp/fig2\\PXD006109_HeLa2_1.raw' = 1.608 GB\n",
      "File size of 'F:\\alphapept\\sandbox\\temp/fig2\\PXD006109_HeLa2_2.raw' = 1.510 GB\n",
      "File size of 'F:\\alphapept\\sandbox\\temp/fig2\\PXD006109_HeLa2_3.raw' = 1.515 GB\n",
      "Total size = 9.214 GB\n",
      "Converting all raw files into HDF takes 385.664 seconds (6.428 minutes)\n",
      "2021-06-05 15:11:27> Logging to C:\\Users\\admin\\alphapept\\logs\\log_20210605151127.txt.\n"
     ]
    },
    {
     "name": "stderr",
     "output_type": "stream",
     "text": [
      "\n",
      "\n",
      "\n",
      "\n",
      "\n",
      "  0%|                                                                                            | 0/1 [00:00<?, ?it/s]\u001b[A\u001b[A\u001b[A\u001b[A\u001b[A"
     ]
    },
    {
     "name": "stdout",
     "output_type": "stream",
     "text": [
      "2021-06-05 15:11:27> Processing 6 files for step raw_conversion\n",
      "2021-06-05 15:11:27> AlphaPool was set to 6 processes. Setting max to 6.\n"
     ]
    },
    {
     "name": "stderr",
     "output_type": "stream",
     "text": [
      "\n",
      "\n",
      "\n",
      "\n",
      "\n",
      " 17%|██████████▊                                                      | 0.16666666666666666/1 [01:17<06:25, 462.09s/it]\u001b[A\u001b[A\u001b[A\u001b[A\u001b[A\n",
      "\n",
      "\n",
      "\n",
      "\n",
      " 67%|████████████████████████████████████████████▋                      | 0.6666666666666666/1 [01:18<00:30, 90.48s/it]\u001b[A\u001b[A\u001b[A\u001b[A\u001b[A"
     ]
    },
    {
     "name": "stdout",
     "output_type": "stream",
     "text": [
      "6 raw files\n",
      "File size of 'F:\\alphapept\\sandbox\\temp/fig2\\PXD006109_HeLa12_1.raw' = 1.567 GB\n",
      "File size of 'F:\\alphapept\\sandbox\\temp/fig2\\PXD006109_HeLa12_2.raw' = 1.503 GB\n",
      "File size of 'F:\\alphapept\\sandbox\\temp/fig2\\PXD006109_HeLa12_3.raw' = 1.511 GB\n",
      "File size of 'F:\\alphapept\\sandbox\\temp/fig2\\PXD006109_HeLa2_1.raw' = 1.608 GB\n",
      "File size of 'F:\\alphapept\\sandbox\\temp/fig2\\PXD006109_HeLa2_2.raw' = 1.510 GB\n",
      "File size of 'F:\\alphapept\\sandbox\\temp/fig2\\PXD006109_HeLa2_3.raw' = 1.515 GB\n",
      "Total size = 9.214 GB\n",
      "Converting all raw files into HDF takes 79.165 seconds (1.319 minutes)\n",
      "Converting all raw files into HDF takes 65.303 seconds (1.088 minutes)\n",
      "2021-06-05 15:13:51> Logging to C:\\Users\\admin\\alphapept\\logs\\log_20210605151351.txt.\n"
     ]
    },
    {
     "name": "stderr",
     "output_type": "stream",
     "text": [
      "\n",
      "\n",
      "\n",
      "\n",
      "\n",
      "\n",
      "  0%|                                                                                            | 0/1 [00:00<?, ?it/s]\u001b[A\u001b[A\u001b[A\u001b[A\u001b[A\u001b[A"
     ]
    },
    {
     "name": "stdout",
     "output_type": "stream",
     "text": [
      "2021-06-05 15:13:51> Processing 1 files for step raw_conversion\n",
      "2021-06-05 15:13:51> File F:\\alphapept\\sandbox\\temp/fig2\\PXD006109_HeLa12_1 has extension .raw - converting from Thermo.\n",
      "2021-06-05 15:14:59> File conversion complete. Extracted 82,848 precursors.\n",
      "2021-06-05 15:14:59> File conversion of file F:\\alphapept\\sandbox\\temp/fig2\\PXD006109_HeLa12_1.raw complete.\n",
      "1 raw files\n",
      "File size of 'F:\\alphapept\\sandbox\\temp/fig2\\PXD006109_HeLa12_1.raw' = 1.567 GB\n",
      "Total size = 1.567 GB\n",
      "Converting all raw files into HDF takes 68.146 seconds (1.136 minutes)\n",
      "Loading F:\\alphapept\\sandbox\\temp/fig2\\PXD006109_HeLa12_1.ms_data.hdf takes 0.198 seconds (0.003 minutes)\n",
      "2021-06-05 15:15:00> Logging to C:\\Users\\admin\\alphapept\\logs\\log_20210605151500.txt.\n"
     ]
    },
    {
     "name": "stderr",
     "output_type": "stream",
     "text": [
      "\n",
      "\n",
      "\n",
      "\n",
      "\n",
      "\n",
      "\n",
      "  0%|                                                                                            | 0/1 [00:00<?, ?it/s]\u001b[A\u001b[A\u001b[A\u001b[A\u001b[A\u001b[A\u001b[A"
     ]
    },
    {
     "name": "stdout",
     "output_type": "stream",
     "text": [
      "2021-06-05 15:15:00> Processing 6 files for step raw_conversion\n",
      "2021-06-05 15:15:00> AlphaPool was set to 1 processes. Setting max to 1.\n"
     ]
    },
    {
     "name": "stderr",
     "output_type": "stream",
     "text": [
      "\n",
      "\n",
      "\n",
      "\n",
      "\n",
      "\n",
      "\n",
      " 17%|██████████▊                                                      | 0.16666666666666666/1 [01:19<06:36, 475.33s/it]\u001b[A\u001b[A\u001b[A\u001b[A\u001b[A\u001b[A\u001b[A\n",
      "\n",
      "\n",
      "\n",
      "\n",
      "\n",
      "\n",
      " 33%|██████████████████████                                            | 0.3333333333333333/1 [02:27<04:52, 438.20s/it]\u001b[A\u001b[A\u001b[A\u001b[A\u001b[A\u001b[A\u001b[A\n",
      "\n",
      "\n",
      "\n",
      "\n",
      "\n",
      "\n",
      " 50%|████████████████████████████████████████▌                                        | 0.5/1 [03:28<03:22, 404.06s/it]\u001b[A\u001b[A\u001b[A\u001b[A\u001b[A\u001b[A\u001b[A\n",
      "\n",
      "\n",
      "\n",
      "\n",
      "\n",
      "\n",
      " 67%|████████████████████████████████████████████                      | 0.6666666666666666/1 [04:31<02:11, 393.82s/it]\u001b[A\u001b[A\u001b[A\u001b[A\u001b[A\u001b[A\u001b[A\n",
      "\n",
      "\n",
      "\n",
      "\n",
      "\n",
      "\n",
      " 83%|███████████████████████████████████████████████████████           | 0.8333333333333334/1 [05:33<01:04, 385.89s/it]\u001b[A\u001b[A\u001b[A\u001b[A\u001b[A\u001b[A\u001b[A\n",
      "\n",
      "\n",
      "\n",
      "\n",
      "\n",
      "\n",
      "100%|█████████████████████████████████████████████████████████████████████████████████| 1.0/1 [06:36<00:00, 382.61s/it]\u001b[A\u001b[A\u001b[A\u001b[A\u001b[A\u001b[A\u001b[A"
     ]
    },
    {
     "name": "stdout",
     "output_type": "stream",
     "text": [
      "6 raw files\n",
      "File size of 'F:\\alphapept\\sandbox\\temp/fig2\\PXD006109_HeLa12_1.raw' = 1.567 GB\n",
      "File size of 'F:\\alphapept\\sandbox\\temp/fig2\\PXD006109_HeLa12_2.raw' = 1.503 GB\n",
      "File size of 'F:\\alphapept\\sandbox\\temp/fig2\\PXD006109_HeLa12_3.raw' = 1.511 GB\n",
      "File size of 'F:\\alphapept\\sandbox\\temp/fig2\\PXD006109_HeLa2_1.raw' = 1.608 GB\n",
      "File size of 'F:\\alphapept\\sandbox\\temp/fig2\\PXD006109_HeLa2_2.raw' = 1.510 GB\n",
      "File size of 'F:\\alphapept\\sandbox\\temp/fig2\\PXD006109_HeLa2_3.raw' = 1.515 GB\n",
      "Total size = 9.214 GB\n",
      "Converting all raw files into HDF takes 396.357 seconds (6.606 minutes)\n",
      "2021-06-05 15:21:37> Logging to C:\\Users\\admin\\alphapept\\logs\\log_20210605152137.txt.\n"
     ]
    },
    {
     "name": "stderr",
     "output_type": "stream",
     "text": [
      "\n",
      "\n",
      "\n",
      "\n",
      "\n",
      "\n",
      "\n",
      "\n",
      "  0%|                                                                                            | 0/1 [00:00<?, ?it/s]\u001b[A\u001b[A\u001b[A\u001b[A\u001b[A\u001b[A\u001b[A\u001b[A"
     ]
    },
    {
     "name": "stdout",
     "output_type": "stream",
     "text": [
      "2021-06-05 15:21:37> Processing 6 files for step raw_conversion\n",
      "2021-06-05 15:21:37> AlphaPool was set to 6 processes. Setting max to 6.\n"
     ]
    },
    {
     "name": "stderr",
     "output_type": "stream",
     "text": [
      "\n",
      "\n",
      "\n",
      "\n",
      "\n",
      "\n",
      "\n",
      "\n",
      " 17%|██████████▊                                                      | 0.16666666666666666/1 [01:18<06:34, 473.75s/it]\u001b[A\u001b[A\u001b[A\u001b[A\u001b[A\u001b[A\u001b[A\u001b[A"
     ]
    },
    {
     "name": "stdout",
     "output_type": "stream",
     "text": [
      "6 raw files\n",
      "File size of 'F:\\alphapept\\sandbox\\temp/fig2\\PXD006109_HeLa12_1.raw' = 1.567 GB\n",
      "File size of 'F:\\alphapept\\sandbox\\temp/fig2\\PXD006109_HeLa12_2.raw' = 1.503 GB\n",
      "File size of 'F:\\alphapept\\sandbox\\temp/fig2\\PXD006109_HeLa12_3.raw' = 1.511 GB\n",
      "File size of 'F:\\alphapept\\sandbox\\temp/fig2\\PXD006109_HeLa2_1.raw' = 1.608 GB\n",
      "File size of 'F:\\alphapept\\sandbox\\temp/fig2\\PXD006109_HeLa2_2.raw' = 1.510 GB\n",
      "File size of 'F:\\alphapept\\sandbox\\temp/fig2\\PXD006109_HeLa2_3.raw' = 1.515 GB\n",
      "Total size = 9.214 GB\n",
      "Converting all raw files into HDF takes 79.210 seconds (1.320 minutes)\n"
     ]
    }
   ],
   "source": [
    "## Test multiple times\n",
    "time_list = []\n",
    "\n",
    "for i in range(3):\n",
    "    ram_test()\n",
    "    load_alphapept()\n",
    "    test_load_hdf()\n",
    "    test_single_core()\n",
    "    test_multicore()\n",
    "    \n",
    "    \n",
    "    "
   ]
  },
  {
   "cell_type": "code",
   "execution_count": 18,
   "id": "b41a31e2",
   "metadata": {},
   "outputs": [
    {
     "data": {
      "text/plain": [
       "[['RAW to RAM (N=1, 1.6GB)', 72.4506861],\n",
       " ['RAW to HDF (N=1, 1.6GB)', 65.19746529999999],\n",
       " ['HDF to RAM (N=1, 1.6GB)', 0.2080152000000055],\n",
       " ['RAW to HDF (N=6, 9.2GB, CPU=1)', 383.58677950000003],\n",
       " ['RAW to HDF (N=6, 9.2GB, CPU=6)', 79.72680560000003],\n",
       " ['RAW to RAM (N=1, 1.6GB)', 71.40767430000005],\n",
       " ['RAW to HDF (N=1, 1.6GB)', 63.52785979999999],\n",
       " ['HDF to RAM (N=1, 1.6GB)', 0.19820630000003803],\n",
       " ['RAW to HDF (N=6, 9.2GB, CPU=1)', 385.6643276000001],\n",
       " ['RAW to HDF (N=6, 9.2GB, CPU=6)', 79.1649683999999],\n",
       " ['RAW to RAM (N=1, 1.6GB)', 65.30321720000006],\n",
       " ['RAW to HDF (N=1, 1.6GB)', 68.14629279999986],\n",
       " ['HDF to RAM (N=1, 1.6GB)', 0.1978962999999112],\n",
       " ['RAW to HDF (N=6, 9.2GB, CPU=1)', 396.3572497],\n",
       " ['RAW to HDF (N=6, 9.2GB, CPU=6)', 79.2100131000002]]"
      ]
     },
     "execution_count": 18,
     "metadata": {},
     "output_type": "execute_result"
    }
   ],
   "source": [
    "time_list"
   ]
  },
  {
   "cell_type": "code",
   "execution_count": 22,
   "id": "278b9e6e",
   "metadata": {},
   "outputs": [],
   "source": [
    "import pandas as pd\n",
    "df = pd.DataFrame(time_list)"
   ]
  },
  {
   "cell_type": "code",
   "execution_count": 38,
   "id": "5bc0dbe0",
   "metadata": {},
   "outputs": [],
   "source": [
    "mean_ = df.groupby(0).mean()\n",
    "std_ = df.groupby(0).std()\n",
    "\n",
    "mean_ = mean_.loc[[_[0] for _ in time_list[:5]]]\n",
    "std_ = std_.loc[[_[0] for _ in time_list[:5]]]"
   ]
  },
  {
   "cell_type": "code",
   "execution_count": 45,
   "id": "0a473868",
   "metadata": {
    "scrolled": false
   },
   "outputs": [
    {
     "name": "stderr",
     "output_type": "stream",
     "text": [
      "<ipython-input-45-6e35976b77de>:32: UserWarning: Attempted to set non-positive left xlim on a log-scaled axis.\n",
      "Invalid limit will be ignored.\n",
      "  plt.xlim([0, 0.5*1e4])\n"
     ]
    },
    {
     "data": {
      "image/png": "[encoded data removed]",
      "text/plain": [
       "<Figure size 360x360 with 1 Axes>"
      ]
     },
     "metadata": {
      "needs_background": "light"
     },
     "output_type": "display_data"
    }
   ],
   "source": [
    "import matplotlib.pyplot as plt\n",
    "import numpy as np\n",
    "\n",
    "dark_blue = '#17212b'\n",
    "light_blue = '#3dc5ef'\n",
    "teal= '#42dee1'\n",
    "green = '#6eecb9'\n",
    "yellow = '#eef5b3'\n",
    "\n",
    "\n",
    "time_used = mean_.values.flatten()\n",
    "time_std = std_.values.flatten()\n",
    "\n",
    "labels = mean_.index.tolist()\n",
    "\n",
    "hfont = {'fontname':'Arial', 'size':14}\n",
    "plt.figure(figsize=(5,5))\n",
    "height=0.5\n",
    "ind = list(range(len(labels)))[::-1]\n",
    "\n",
    "for i, t in zip(ind, time_used):\n",
    "    plt.text(t*1.1, i, f'{t:.1f}', **hfont, va='center')\n",
    "\n",
    "plt.barh(ind[:3], time_used[:3], height, color =light_blue, xerr = time_std[:3])\n",
    "plt.barh(ind[3], time_used[3], height, color =teal, xerr = time_std[3])\n",
    "plt.barh(ind[4], time_used[4], height, color =green, xerr = time_std[4])\n",
    "\n",
    "plt.yticks(ind, labels, **hfont)\n",
    "plt.xticks(**hfont)\n",
    "\n",
    "plt.xscale('log')\n",
    "plt.xlim([0, 0.5*1e4])\n",
    "plt.xlabel('Time (seconds)', **hfont)\n",
    "\n",
    "plt.savefig('p_02_io.pdf')  \n",
    "plt.show()"
   ]
  },
  {
   "cell_type": "code",
   "execution_count": 48,
   "id": "9d0071e3",
   "metadata": {},
   "outputs": [
    {
     "data": {
      "text/html": [
       "<div>\n",
       "<style scoped>\n",
       "    .dataframe tbody tr th:only-of-type {\n",
       "        vertical-align: middle;\n",
       "    }\n",
       "\n",
       "    .dataframe tbody tr th {\n",
       "        vertical-align: top;\n",
       "    }\n",
       "\n",
       "    .dataframe thead th {\n",
       "        text-align: right;\n",
       "    }\n",
       "</style>\n",
       "<table border=\"1\" class=\"dataframe\">\n",
       "  <thead>\n",
       "    <tr style=\"text-align: right;\">\n",
       "      <th></th>\n",
       "      <th>1</th>\n",
       "    </tr>\n",
       "    <tr>\n",
       "      <th>0</th>\n",
       "      <th></th>\n",
       "    </tr>\n",
       "  </thead>\n",
       "  <tbody>\n",
       "    <tr>\n",
       "      <th>RAW to RAM (N=1, 1.6GB)</th>\n",
       "      <td>3.860885</td>\n",
       "    </tr>\n",
       "    <tr>\n",
       "      <th>RAW to HDF (N=1, 1.6GB)</th>\n",
       "      <td>2.338557</td>\n",
       "    </tr>\n",
       "    <tr>\n",
       "      <th>HDF to RAM (N=1, 1.6GB)</th>\n",
       "      <td>0.005755</td>\n",
       "    </tr>\n",
       "    <tr>\n",
       "      <th>RAW to HDF (N=6, 9.2GB, CPU=1)</th>\n",
       "      <td>6.852490</td>\n",
       "    </tr>\n",
       "    <tr>\n",
       "      <th>RAW to HDF (N=6, 9.2GB, CPU=6)</th>\n",
       "      <td>0.312187</td>\n",
       "    </tr>\n",
       "  </tbody>\n",
       "</table>\n",
       "</div>"
      ],
      "text/plain": [
       "                                       1\n",
       "0                                       \n",
       "RAW to RAM (N=1, 1.6GB)         3.860885\n",
       "RAW to HDF (N=1, 1.6GB)         2.338557\n",
       "HDF to RAM (N=1, 1.6GB)         0.005755\n",
       "RAW to HDF (N=6, 9.2GB, CPU=1)  6.852490\n",
       "RAW to HDF (N=6, 9.2GB, CPU=6)  0.312187"
      ]
     },
     "metadata": {},
     "output_type": "display_data"
    },
    {
     "data": {
      "text/html": [
       "<div>\n",
       "<style scoped>\n",
       "    .dataframe tbody tr th:only-of-type {\n",
       "        vertical-align: middle;\n",
       "    }\n",
       "\n",
       "    .dataframe tbody tr th {\n",
       "        vertical-align: top;\n",
       "    }\n",
       "\n",
       "    .dataframe thead th {\n",
       "        text-align: right;\n",
       "    }\n",
       "</style>\n",
       "<table border=\"1\" class=\"dataframe\">\n",
       "  <thead>\n",
       "    <tr style=\"text-align: right;\">\n",
       "      <th></th>\n",
       "      <th>1</th>\n",
       "    </tr>\n",
       "    <tr>\n",
       "      <th>0</th>\n",
       "      <th></th>\n",
       "    </tr>\n",
       "  </thead>\n",
       "  <tbody>\n",
       "    <tr>\n",
       "      <th>RAW to RAM (N=1, 1.6GB)</th>\n",
       "      <td>69.720526</td>\n",
       "    </tr>\n",
       "    <tr>\n",
       "      <th>RAW to HDF (N=1, 1.6GB)</th>\n",
       "      <td>65.623873</td>\n",
       "    </tr>\n",
       "    <tr>\n",
       "      <th>HDF to RAM (N=1, 1.6GB)</th>\n",
       "      <td>0.201373</td>\n",
       "    </tr>\n",
       "    <tr>\n",
       "      <th>RAW to HDF (N=6, 9.2GB, CPU=1)</th>\n",
       "      <td>388.536119</td>\n",
       "    </tr>\n",
       "    <tr>\n",
       "      <th>RAW to HDF (N=6, 9.2GB, CPU=6)</th>\n",
       "      <td>79.367262</td>\n",
       "    </tr>\n",
       "  </tbody>\n",
       "</table>\n",
       "</div>"
      ],
      "text/plain": [
       "                                         1\n",
       "0                                         \n",
       "RAW to RAM (N=1, 1.6GB)          69.720526\n",
       "RAW to HDF (N=1, 1.6GB)          65.623873\n",
       "HDF to RAM (N=1, 1.6GB)           0.201373\n",
       "RAW to HDF (N=6, 9.2GB, CPU=1)  388.536119\n",
       "RAW to HDF (N=6, 9.2GB, CPU=6)   79.367262"
      ]
     },
     "metadata": {},
     "output_type": "display_data"
    }
   ],
   "source": [
    "display(std_)\n",
    "display(mean_)"
   ]
  }
 ],
 "metadata": {
  "kernelspec": {
   "display_name": "Python [conda env:.conda-alphapept] *",
   "language": "python",
   "name": "conda-env-.conda-alphapept-py"
  },
  "language_info": {
   "codemirror_mode": {
    "name": "ipython",
    "version": 3
   },
   "file_extension": ".py",
   "mimetype": "text/x-python",
   "name": "python",
   "nbconvert_exporter": "python",
   "pygments_lexer": "ipython3",
   "version": "3.8.8"
  },
  "toc": {
   "base_numbering": 1,
   "nav_menu": {},
   "number_sections": true,
   "sideBar": true,
   "skip_h1_title": false,
   "title_cell": "Table of Contents",
   "title_sidebar": "Contents",
   "toc_cell": false,
   "toc_position": {},
   "toc_section_display": true,
   "toc_window_display": false
  }
 },
 "nbformat": 4,
 "nbformat_minor": 5
}
