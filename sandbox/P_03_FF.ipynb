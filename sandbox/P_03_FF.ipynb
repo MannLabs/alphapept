{
 "cells": [
  {
   "cell_type": "markdown",
   "id": "4d1bcb4c",
   "metadata": {},
   "source": [
    "# Paper Figure 3: Feature Finder\n",
    "\n",
    "This notebook uses GPU, so please run in an environment with CUDA installed.\n"
   ]
  },
  {
   "cell_type": "code",
   "execution_count": 1,
   "id": "0517e216",
   "metadata": {},
   "outputs": [],
   "source": [
    "import os\n",
    "from test_files import get_files, prepare_test\n",
    "\n",
    "files = ['thermo_HeLa.raw']"
   ]
  },
  {
   "cell_type": "code",
   "execution_count": 2,
   "id": "bccea5d2",
   "metadata": {},
   "outputs": [
    {
     "name": "stdout",
     "output_type": "stream",
     "text": [
      "nvcc: NVIDIA (R) Cuda compiler driver\n",
      "Copyright (c) 2005-2020 NVIDIA Corporation\n",
      "Built on Thu_Jun_11_22:26:48_Pacific_Daylight_Time_2020\n",
      "Cuda compilation tools, release 11.0, V11.0.194\n",
      "Build cuda_11.0_bu.relgpu_drvr445TC445_37.28540450_0\n"
     ]
    }
   ],
   "source": [
    "!nvcc --version"
   ]
  },
  {
   "cell_type": "code",
   "execution_count": 3,
   "id": "f4c07291",
   "metadata": {},
   "outputs": [
    {
     "name": "stdout",
     "output_type": "stream",
     "text": [
      "Creating dir F:\\alphapept\\sandbox\\temp/fig3.\n"
     ]
    }
   ],
   "source": [
    "tmp_folder = os.path.join(os.getcwd(),'temp/')\n",
    "test_folder = 'fig3'\n",
    "\n",
    "get_files(tmp_folder, files)\n",
    "prepare_test(files, tmp_folder, test_folder)"
   ]
  },
  {
   "cell_type": "markdown",
   "id": "d623f43e",
   "metadata": {},
   "source": [
    "## Convert raw file"
   ]
  },
  {
   "cell_type": "code",
   "execution_count": 4,
   "id": "28ff559c",
   "metadata": {},
   "outputs": [
    {
     "name": "stdout",
     "output_type": "stream",
     "text": [
      "2021-06-05 18:49:23> Logging to C:\\Users\\admin\\alphapept\\logs\\log_20210605184923.txt.\n",
      "2021-06-05 18:49:23> Platform information:\n",
      "2021-06-05 18:49:23> system     - Windows\n",
      "2021-06-05 18:49:23> release    - 10\n",
      "2021-06-05 18:49:23> version    - 10.0.18363\n",
      "2021-06-05 18:49:23> machine    - AMD64\n",
      "2021-06-05 18:49:23> processor  - Intel64 Family 6 Model 85 Stepping 4, GenuineIntel\n",
      "2021-06-05 18:49:23> cpu count  - 24\n",
      "2021-06-05 18:49:23> ram memory - 105.0/127.7 Gb (available/total)\n",
      "2021-06-05 18:49:23> \n",
      "2021-06-05 18:49:23> Python information:\n",
      "2021-06-05 18:49:23> SQLAlchemy     - 1.3.22\n",
      "2021-06-05 18:49:23> alphapept      - 0.3.26\n",
      "2021-06-05 18:49:23> biopython      - 1.78\n",
      "2021-06-05 18:49:23> click          - 7.1.2\n",
      "2021-06-05 18:49:23> comtypes       - 1.1.7\n",
      "2021-06-05 18:49:23> fastcore       - 1.3.5\n",
      "2021-06-05 18:49:23> h5py           - 3.1.0\n",
      "2021-06-05 18:49:23> lxml           - 4.6.2\n",
      "2021-06-05 18:49:23> matplotlib     - 3.3.3\n",
      "2021-06-05 18:49:23> nbdev          - 1.1.4\n",
      "2021-06-05 18:49:23> networkx       - 2.5\n",
      "2021-06-05 18:49:23> numba          - 0.52.0\n",
      "2021-06-05 18:49:23> numpy          - 1.19.4\n",
      "2021-06-05 18:49:23> pandas         - 1.2.1\n",
      "2021-06-05 18:49:23> plotly_express - 0.4.0\n",
      "2021-06-05 18:49:23> psutil         - 5.8.0\n",
      "2021-06-05 18:49:23> pyteomics      - 4.4.2\n",
      "2021-06-05 18:49:23> python         - 3.8.10\n",
      "2021-06-05 18:49:23> pythonnet      - 2.5.1\n",
      "2021-06-05 18:49:23> pywin32        - 225\n",
      "2021-06-05 18:49:23> pyyaml         - 5.3.1\n",
      "2021-06-05 18:49:23> scikit-learn   - 0.23.2\n",
      "2021-06-05 18:49:23> scipy          - 1.6.0\n",
      "2021-06-05 18:49:23> seaborn        - 0.11.1\n",
      "2021-06-05 18:49:23> streamlit      - 0.80.0\n",
      "2021-06-05 18:49:23> tables         - 3.6.1\n",
      "2021-06-05 18:49:23> tqdm           - 4.56.0\n",
      "2021-06-05 18:49:23> watchdog       - 2.1.0\n",
      "2021-06-05 18:49:23> wget           - 3.2\n",
      "2021-06-05 18:49:23> \n",
      "2021-06-05 18:49:23> Check for settings not completely implemented yet.\n",
      "2021-06-05 18:49:23> Checking if files exist.\n",
      "2021-06-05 18:49:23> Results path was not set. Setting to F:\\alphapept\\sandbox\\temp\\fig3\\results.hdf\n",
      "2021-06-05 18:49:23> Shortnames not set. Setting to filename.\n",
      "2021-06-05 18:49:23> No database path set and save_db option checked. Using default path F:\\alphapept\\sandbox\\temp\\fig3\\database.hdf\n"
     ]
    },
    {
     "name": "stderr",
     "output_type": "stream",
     "text": [
      "\r",
      "  0%|                                                                                            | 0/1 [00:00<?, ?it/s]"
     ]
    },
    {
     "name": "stdout",
     "output_type": "stream",
     "text": [
      "2021-06-05 18:49:23> Processing 1 files for step raw_conversion\n",
      "2021-06-05 18:49:23> File F:\\alphapept\\sandbox\\temp/fig3\\thermo_HeLa has extension .raw - converting from Thermo.\n",
      "2021-06-05 18:51:32> File conversion complete. Extracted 120,226 precursors.\n",
      "2021-06-05 18:51:34> File conversion of file F:\\alphapept\\sandbox\\temp/fig3\\thermo_HeLa.raw complete.\n"
     ]
    }
   ],
   "source": [
    "import alphapept.settings\n",
    "import alphapept.paths\n",
    "import alphapept.interface\n",
    "\n",
    "test_folder = os.path.join(tmp_folder, test_folder)\n",
    "\n",
    "file_name = os.path.join(test_folder, files[0])\n",
    "settings = alphapept.settings.load_settings(alphapept.paths.DEFAULT_SETTINGS_PATH)\n",
    "settings['experiment']['file_paths'] = [file_name]\n",
    "settings_ = alphapept.interface.import_raw_data(settings)\n",
    "base, ext = os.path.splitext(file_name)"
   ]
  },
  {
   "cell_type": "markdown",
   "id": "1996cef1",
   "metadata": {},
   "source": [
    "## Prepare settings for Feature Finder"
   ]
  },
  {
   "cell_type": "code",
   "execution_count": 5,
   "id": "4aa8c34b",
   "metadata": {},
   "outputs": [],
   "source": [
    "import numpy as np\n",
    "\n",
    "ms_file = alphapept.io.MS_Data_File(f\"{base}.ms_data.hdf\", is_read_only=True)\n",
    "query_data = ms_file.read_DDA_query_data()\n",
    "int_data = np.array(query_data['int_list_ms1'])\n",
    "\n",
    "f_settings = settings['features']\n",
    "max_gap = f_settings['max_gap']\n",
    "centroid_tol = f_settings['centroid_tol']\n",
    "hill_split_level = f_settings['hill_split_level']\n",
    "hill_smoothing = f_settings['hill_smoothing']\n",
    "hill_check_large = f_settings['hill_check_large']\n",
    "\n",
    "iso_charge_min = f_settings['iso_charge_min']\n",
    "iso_charge_max = f_settings['iso_charge_max']\n",
    "iso_n_seeds = f_settings['iso_n_seeds']\n",
    "\n",
    "hill_nboot_max = f_settings['hill_nboot_max']\n",
    "hill_nboot = f_settings['hill_nboot']\n",
    "iso_mass_range = f_settings['iso_mass_range']\n",
    "\n",
    "iso_corr_min = f_settings['iso_corr_min']"
   ]
  },
  {
   "cell_type": "code",
   "execution_count": 6,
   "id": "94e67c59",
   "metadata": {},
   "outputs": [
    {
     "name": "stdout",
     "output_type": "stream",
     "text": [
      "2021-06-05 18:51:34> init\n"
     ]
    },
    {
     "name": "stderr",
     "output_type": "stream",
     "text": [
      "  0%|                                                                                            | 0/1 [02:11<?, ?it/s]\n"
     ]
    }
   ],
   "source": [
    "import timeit\n",
    "import time\n",
    "import alphapept.performance\n",
    "import alphapept.feature_finding\n",
    "import importlib\n",
    "import logging\n",
    "\n",
    "def timing_decorator(func, timings_dict, repeats=3, loops_per_repeat=1):\n",
    "    def wrapper(*args, **kwargs):\n",
    "        if func.__name__ not in timings_dict:\n",
    "            timings_dict[func.__name__] = {}\n",
    "        if alphapept.performance.COMPILATION_MODE in timings_dict[func.__name__]:\n",
    "            logging.warning(\n",
    "                f\"{func.__name__} is already timed for {alphapept.performance.COMPILATION_MODE}\"\n",
    "            )\n",
    "        start = time.time()\n",
    "        results = func(*args, **kwargs)\n",
    "        timings_dict[func.__name__][alphapept.performance.COMPILATION_MODE] = time.time() - start\n",
    "        return results\n",
    "    return wrapper"
   ]
  },
  {
   "cell_type": "code",
   "execution_count": 7,
   "id": "0f417dcd",
   "metadata": {},
   "outputs": [],
   "source": [
    "def time_feature_finding_functions(\n",
    "    compilation_mode,\n",
    "    timings_dict,\n",
    "    repeats=3,\n",
    "    loops_per_repeat=1\n",
    "):\n",
    "    print(f\"Running feature finding functions with compilation mode '{compilation_mode}'\")\n",
    "    alphapept.performance.set_compilation_mode(compilation_mode)\n",
    "    importlib.reload(alphapept.feature_finding)\n",
    "    alphapept.feature_finding.connect_centroids_unidirection = timing_decorator(\n",
    "        alphapept.feature_finding.connect_centroids_unidirection,\n",
    "        timings_dict,\n",
    "        repeats=3,\n",
    "        loops_per_repeat=1\n",
    "    )\n",
    "    alphapept.feature_finding.convert_connections_to_array = timing_decorator(\n",
    "        alphapept.feature_finding.convert_connections_to_array,\n",
    "        timings_dict,\n",
    "        repeats=3,\n",
    "        loops_per_repeat=1\n",
    "    )\n",
    "    alphapept.feature_finding.eliminate_overarching_vertex = timing_decorator(\n",
    "        alphapept.feature_finding.eliminate_overarching_vertex,\n",
    "        timings_dict,\n",
    "        repeats=3,\n",
    "        loops_per_repeat=1\n",
    "    )\n",
    "    alphapept.feature_finding.path_finder = timing_decorator(\n",
    "        alphapept.feature_finding.path_finder,\n",
    "        timings_dict,\n",
    "        repeats=3,\n",
    "        loops_per_repeat=1\n",
    "    )\n",
    "    alphapept.feature_finding.find_path_start = timing_decorator(\n",
    "        alphapept.feature_finding.find_path_start,\n",
    "        timings_dict,\n",
    "        repeats=3,\n",
    "        loops_per_repeat=1\n",
    "    )\n",
    "    alphapept.feature_finding.find_path_length = timing_decorator(\n",
    "        alphapept.feature_finding.find_path_length,\n",
    "        timings_dict,\n",
    "        repeats=3,\n",
    "        loops_per_repeat=1\n",
    "    )\n",
    "    alphapept.feature_finding.fill_path_matrix = timing_decorator(\n",
    "        alphapept.feature_finding.fill_path_matrix,\n",
    "        timings_dict,\n",
    "        repeats=3,\n",
    "        loops_per_repeat=1\n",
    "    )\n",
    "        \n",
    "    logging.info(f'Hill extraction with centroid_tol {centroid_tol} and max_gap {max_gap}')\n",
    "    hill_ptrs, hill_data, path_node_cnt, score_median, score_std = alphapept.feature_finding.extract_hills(query_data, max_gap, centroid_tol)\n",
    "    logging.info(f'Number of hills {len(hill_ptrs):,}, len = {np.mean(path_node_cnt):.2f}')"
   ]
  },
  {
   "cell_type": "code",
   "execution_count": 8,
   "id": "33265e2a",
   "metadata": {},
   "outputs": [
    {
     "name": "stdout",
     "output_type": "stream",
     "text": [
      "Running feature finding functions with compilation mode 'cuda'\n",
      "2021-06-05 18:51:36> Hill extraction with centroid_tol 8 and max_gap 2\n",
      "2021-06-05 18:51:39> Number of hills 1,105,353, len = 17.35\n",
      "Running feature finding functions with compilation mode 'numba-multithread'\n",
      "2021-06-05 18:51:39> Hill extraction with centroid_tol 8 and max_gap 2\n",
      "2021-06-05 18:51:47> Number of hills 1,105,353, len = 17.35\n",
      "Running feature finding functions with compilation mode 'numba'\n",
      "2021-06-05 18:51:47> Hill extraction with centroid_tol 8 and max_gap 2\n",
      "2021-06-05 18:51:56> Number of hills 1,105,353, len = 17.35\n",
      "Running feature finding functions with compilation mode 'python'\n",
      "2021-06-05 18:51:56> Hill extraction with centroid_tol 8 and max_gap 2\n",
      "2021-06-05 18:57:22> Number of hills 1,105,353, len = 17.35\n"
     ]
    }
   ],
   "source": [
    "timings_dict = {}\n",
    "\n",
    "modes = [\"cuda\", \"numba-multithread\", \"numba\", \"python\"]\n",
    "\n",
    "for mode in modes:\n",
    "    time_feature_finding_functions(mode, timings_dict)\n"
   ]
  },
  {
   "cell_type": "code",
   "execution_count": 9,
   "id": "43def184",
   "metadata": {
    "scrolled": false
   },
   "outputs": [
    {
     "data": {
      "image/png": "[encoded data removed]",
      "text/plain": [
       "<Figure size 432x288 with 1 Axes>"
      ]
     },
     "metadata": {
      "needs_background": "light"
     },
     "output_type": "display_data"
    },
    {
     "data": {
      "image/png": "[encoded data removed]",
      "text/plain": [
       "<Figure size 432x288 with 1 Axes>"
      ]
     },
     "metadata": {
      "needs_background": "light"
     },
     "output_type": "display_data"
    },
    {
     "data": {
      "image/png": "[encoded data removed]",
      "text/plain": [
       "<Figure size 432x288 with 1 Axes>"
      ]
     },
     "metadata": {
      "needs_background": "light"
     },
     "output_type": "display_data"
    },
    {
     "data": {
      "image/png": "[encoded data removed]",
      "text/plain": [
       "<Figure size 432x288 with 1 Axes>"
      ]
     },
     "metadata": {
      "needs_background": "light"
     },
     "output_type": "display_data"
    },
    {
     "data": {
      "image/png": "[encoded data removed]",
      "text/plain": [
       "<Figure size 432x288 with 1 Axes>"
      ]
     },
     "metadata": {
      "needs_background": "light"
     },
     "output_type": "display_data"
    },
    {
     "data": {
      "image/png": "[encoded data removed]",
      "text/plain": [
       "<Figure size 432x288 with 1 Axes>"
      ]
     },
     "metadata": {
      "needs_background": "light"
     },
     "output_type": "display_data"
    },
    {
     "data": {
      "image/png": "[encoded data removed]",
      "text/plain": [
       "<Figure size 432x288 with 1 Axes>"
      ]
     },
     "metadata": {
      "needs_background": "light"
     },
     "output_type": "display_data"
    }
   ],
   "source": [
    "from matplotlib import pyplot as plt\n",
    "include_python = True\n",
    "for func in timings_dict:\n",
    "    if not include_python:\n",
    "        plt.bar(list(timings_dict[func].keys())[:-1], list(timings_dict[func].values())[:-1])\n",
    "    else:\n",
    "        plt.bar(list(timings_dict[func].keys()), list(timings_dict[func].values()))\n",
    "    plt.yscale('log')\n",
    "    plt.title(func)\n",
    "    plt.show()"
   ]
  },
  {
   "cell_type": "markdown",
   "id": "c0072c24",
   "metadata": {},
   "source": [
    "## Get summary timing"
   ]
  },
  {
   "cell_type": "code",
   "execution_count": 18,
   "id": "00f047e6",
   "metadata": {},
   "outputs": [
    {
     "name": "stderr",
     "output_type": "stream",
     "text": [
      "<ipython-input-18-c98abfbcce4d>:28: UserWarning: Attempted to set non-positive left xlim on a log-scaled axis.\n",
      "Invalid limit will be ignored.\n",
      "  plt.xlim([0, 1000])\n"
     ]
    },
    {
     "data": {
      "image/png": "[encoded data removed]",
      "text/plain": [
       "<Figure size 360x360 with 1 Axes>"
      ]
     },
     "metadata": {
      "needs_background": "light"
     },
     "output_type": "display_data"
    }
   ],
   "source": [
    "import matplotlib.pyplot as plt\n",
    "import numpy as np\n",
    "import pandas as pd\n",
    "\n",
    "dark_blue = '#17212b'\n",
    "light_blue = '#3dc5ef'\n",
    "teal= '#42dee1'\n",
    "green = '#6eecb9'\n",
    "yellow = '#eef5b3'\n",
    "\n",
    "colors = [light_blue, teal, green, yellow]\n",
    "data = pd.DataFrame.from_dict(timings_dict).sum(axis=1).iloc[::-1]\n",
    "\n",
    "hfont = {'fontname':'Arial', 'size':14}\n",
    "plt.figure(figsize=(5,5))\n",
    "\n",
    "height=0.5\n",
    "\n",
    "for i in range(len(data)): \n",
    "    t = data[i]\n",
    "    plt.barh(i, t, height, color = colors[i])\n",
    "    plt.text(t*1.1, i, f'{t:.1f}', **hfont, va='center')\n",
    "\n",
    "plt.yticks(range(len(data)), data.index, **hfont)\n",
    "plt.xticks(**hfont)\n",
    "\n",
    "plt.xscale('log')\n",
    "plt.xlim([0, 1000])\n",
    "plt.xlabel('Time (seconds)', **hfont)\n",
    "\n",
    "plt.savefig('p_03_ff.pdf')  \n",
    "plt.show()"
   ]
  }
 ],
 "metadata": {
  "kernelspec": {
   "display_name": "Python [conda env:.conda-alphapept_gpu]",
   "language": "python",
   "name": "conda-env-.conda-alphapept_gpu-py"
  },
  "language_info": {
   "codemirror_mode": {
    "name": "ipython",
    "version": 3
   },
   "file_extension": ".py",
   "mimetype": "text/x-python",
   "name": "python",
   "nbconvert_exporter": "python",
   "pygments_lexer": "ipython3",
   "version": "3.8.10"
  },
  "toc": {
   "base_numbering": 1,
   "nav_menu": {},
   "number_sections": true,
   "sideBar": true,
   "skip_h1_title": false,
   "title_cell": "Table of Contents",
   "title_sidebar": "Contents",
   "toc_cell": false,
   "toc_position": {},
   "toc_section_display": true,
   "toc_window_display": false
  }
 },
 "nbformat": 4,
 "nbformat_minor": 5
}
