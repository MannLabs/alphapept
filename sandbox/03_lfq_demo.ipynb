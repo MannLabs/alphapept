{
 "cells": [
  {
   "cell_type": "markdown",
   "id": "4abe9f07",
   "metadata": {},
   "source": [
    "# AlphaPept API\n",
    "\n",
    "Calling the AlphaPept LFQ implementation on MaxQuant output files.\n",
    "\n",
    "\n",
    "## Installation\n",
    "\n",
    "When installing AlphaPept we can use `pip install alphapept`. Note that this will install just the package and not the GUI-version etc.. Raw data import will only work for Windows unless you have Mono installed for Mac. See the GitHub page for more [information](https://github.com/MannLabs/alphapept) about the different modes for installation.\n",
    "\n",
    "For this notebook one will need `wget` to download the external files.\n",
    "\n",
    "\n",
    "## Example file\n",
    "\n",
    "The example file is from PXD006109 and was run with MaxQuant 2.0.3.1. For LFQ the minimum ratio was set to two.\n",
    "\n",
    "\n",
    "## Requirements\n",
    "\n",
    "To run this notebook, install `wget` to download the example files. Additionally required is `pandas`, `matplotlib`."
   ]
  },
  {
   "cell_type": "code",
   "execution_count": 1,
   "id": "e78d0fb3",
   "metadata": {},
   "outputs": [],
   "source": [
    "import os \n",
    "import wget\n",
    "import pandas as pd\n",
    "\n",
    "external_files = {}\n",
    "\n",
    "external_files['evidence.txt'] = 'https://datashare.biochem.mpg.de/s/KAbRdiHX7rWlTAB/download'\n",
    "external_files['proteinGroups.txt'] = 'https://datashare.biochem.mpg.de/s/XNbraDaneZlztzg/download'\n",
    "\n",
    "for file in external_files:\n",
    "    target = os.path.join('.', file)\n",
    "    if not os.path.isfile(target):\n",
    "        print(f'Downloading {file} to {target}')\n",
    "        wget.download(external_files[file], target)"
   ]
  },
  {
   "cell_type": "code",
   "execution_count": 2,
   "id": "d18bee95",
   "metadata": {},
   "outputs": [
    {
     "name": "stdout",
     "output_type": "stream",
     "text": [
      "0.3.33\n"
     ]
    }
   ],
   "source": [
    "import alphapept\n",
    "\n",
    "print(alphapept.__version__)"
   ]
  },
  {
   "cell_type": "code",
   "execution_count": 3,
   "id": "1881ac60",
   "metadata": {},
   "outputs": [],
   "source": [
    "from alphapept.quantification import protein_profile_parallel_mq"
   ]
  },
  {
   "cell_type": "markdown",
   "id": "ad82dd23",
   "metadata": {},
   "source": [
    "## Inspecting function header\n",
    "We have two relevant parameters: `minimum_ratios` for the second step of LFQ (extracting optimal protein ratios) and `minimum_occurence` for the delayed normalization step (first step).\n",
    "\n",
    "When calling the function we set the `minimum_ratios` to two to better compare to the MaxQuant output. Note that the default value for AlphaPept is 1. This typically leads to less proteins being thrown overboard."
   ]
  },
  {
   "cell_type": "code",
   "execution_count": 4,
   "id": "05f8cd73",
   "metadata": {},
   "outputs": [
    {
     "name": "stdout",
     "output_type": "stream",
     "text": [
      "Help on function protein_profile_parallel_mq in module alphapept.quantification:\n",
      "\n",
      "protein_profile_parallel_mq(evidence_path: str, protein_groups_path: str, minimum_ratios: int = 1, minimum_occurence: bool = None, delayed: bool = True, callback=None) -> pandas.core.frame.DataFrame\n",
      "    Derives protein LFQ intensities from Maxquant quantified features.\n",
      "    \n",
      "    Args:\n",
      "        evidence_path (str): path to the Maxquant standard output table evidence.txt.\n",
      "        protein_groups_path (str): path to the Maxquant standard output table proteinGroups.txt.\n",
      "        minimum_ratios (int): minimum ratios (LFQ parameter)\n",
      "        minimum_occurence (int): minimum occurence (LFQ parameter)\n",
      "        delayed (bool): toggle for delayed normalization (on/off)\n",
      "        callback ([type], optional): [description]. Defaults to None.\n",
      "    \n",
      "    Raises:\n",
      "        FileNotFoundError: if Maxquant files cannot be found.\n",
      "    \n",
      "    Returns:\n",
      "        pd.DataFrame: table containing the LFQ intensities of each protein in each sample.\n",
      "\n"
     ]
    }
   ],
   "source": [
    "help(protein_profile_parallel_mq)"
   ]
  },
  {
   "cell_type": "code",
   "execution_count": 5,
   "id": "4ebe1298",
   "metadata": {},
   "outputs": [
    {
     "name": "stdout",
     "output_type": "stream",
     "text": [
      "CPU times: total: 2min 30s\n",
      "Wall time: 2min 36s\n"
     ]
    }
   ],
   "source": [
    "%%time \n",
    "\n",
    "#This may take a while, one could use the callback to display progress\n",
    "\n",
    "evidence_path = 'evidence.txt'\n",
    "protein_group_path = 'proteinGroups.txt'\n",
    "\n",
    "pt = protein_profile_parallel_mq(evidence_path, protein_group_path, minimum_ratios =2)"
   ]
  },
  {
   "cell_type": "code",
   "execution_count": 6,
   "id": "fed7d97f",
   "metadata": {},
   "outputs": [
    {
     "data": {
      "text/html": [
       "<div>\n",
       "<style scoped>\n",
       "    .dataframe tbody tr th:only-of-type {\n",
       "        vertical-align: middle;\n",
       "    }\n",
       "\n",
       "    .dataframe tbody tr th {\n",
       "        vertical-align: top;\n",
       "    }\n",
       "\n",
       "    .dataframe thead th {\n",
       "        text-align: right;\n",
       "    }\n",
       "</style>\n",
       "<table border=\"1\" class=\"dataframe\">\n",
       "  <thead>\n",
       "    <tr style=\"text-align: right;\">\n",
       "      <th></th>\n",
       "      <th>PXD006109_HeLa12_1_LFQ</th>\n",
       "      <th>PXD006109_HeLa12_2_LFQ</th>\n",
       "      <th>PXD006109_HeLa12_3_LFQ</th>\n",
       "      <th>PXD006109_HeLa2_1_LFQ</th>\n",
       "      <th>PXD006109_HeLa2_2_LFQ</th>\n",
       "      <th>PXD006109_HeLa2_3_LFQ</th>\n",
       "      <th>PXD006109_HeLa12_1</th>\n",
       "      <th>PXD006109_HeLa12_2</th>\n",
       "      <th>PXD006109_HeLa12_3</th>\n",
       "      <th>PXD006109_HeLa2_1</th>\n",
       "      <th>PXD006109_HeLa2_2</th>\n",
       "      <th>PXD006109_HeLa2_3</th>\n",
       "    </tr>\n",
       "  </thead>\n",
       "  <tbody>\n",
       "    <tr>\n",
       "      <th>sp|Q9H4B7|TBB1_HUMAN;CON__ENSEMBL:ENSBTAP00000025008</th>\n",
       "      <td>1.029732e+10</td>\n",
       "      <td>8.755959e+09</td>\n",
       "      <td>9.573093e+09</td>\n",
       "      <td>8.310881e+09</td>\n",
       "      <td>8.201077e+09</td>\n",
       "      <td>6.337594e+09</td>\n",
       "      <td>1.112542e+10</td>\n",
       "      <td>1.054613e+10</td>\n",
       "      <td>1.114396e+10</td>\n",
       "      <td>8.445702e+09</td>\n",
       "      <td>9.438297e+09</td>\n",
       "      <td>7.764095e+08</td>\n",
       "    </tr>\n",
       "    <tr>\n",
       "      <th>CON__ENSEMBL:ENSBTAP00000032840</th>\n",
       "      <td>7.040224e+08</td>\n",
       "      <td>6.781671e+08</td>\n",
       "      <td>7.535610e+08</td>\n",
       "      <td>6.333453e+08</td>\n",
       "      <td>6.516681e+08</td>\n",
       "      <td>7.258761e+08</td>\n",
       "      <td>5.938500e+08</td>\n",
       "      <td>9.562062e+08</td>\n",
       "      <td>9.172285e+08</td>\n",
       "      <td>4.973786e+08</td>\n",
       "      <td>5.003692e+08</td>\n",
       "      <td>6.816074e+08</td>\n",
       "    </tr>\n",
       "    <tr>\n",
       "      <th>CON__ENSEMBL:ENSBTAP00000034412</th>\n",
       "      <td>NaN</td>\n",
       "      <td>NaN</td>\n",
       "      <td>NaN</td>\n",
       "      <td>NaN</td>\n",
       "      <td>NaN</td>\n",
       "      <td>NaN</td>\n",
       "      <td>2.864177e+07</td>\n",
       "      <td>NaN</td>\n",
       "      <td>NaN</td>\n",
       "      <td>1.751218e+07</td>\n",
       "      <td>NaN</td>\n",
       "      <td>NaN</td>\n",
       "    </tr>\n",
       "    <tr>\n",
       "      <th>CON__P00735;sp|P00734|THRB_HUMAN</th>\n",
       "      <td>NaN</td>\n",
       "      <td>NaN</td>\n",
       "      <td>2.329190e+08</td>\n",
       "      <td>1.139405e+08</td>\n",
       "      <td>NaN</td>\n",
       "      <td>NaN</td>\n",
       "      <td>5.338931e+07</td>\n",
       "      <td>NaN</td>\n",
       "      <td>1.230555e+08</td>\n",
       "      <td>5.238931e+07</td>\n",
       "      <td>4.842652e+07</td>\n",
       "      <td>6.959884e+07</td>\n",
       "    </tr>\n",
       "    <tr>\n",
       "      <th>CON__P00761</th>\n",
       "      <td>5.228187e+09</td>\n",
       "      <td>4.487467e+09</td>\n",
       "      <td>5.430237e+09</td>\n",
       "      <td>5.067627e+09</td>\n",
       "      <td>3.972439e+09</td>\n",
       "      <td>3.820147e+09</td>\n",
       "      <td>5.622731e+09</td>\n",
       "      <td>3.262194e+09</td>\n",
       "      <td>8.321847e+08</td>\n",
       "      <td>7.111309e+09</td>\n",
       "      <td>7.952877e+09</td>\n",
       "      <td>3.224808e+09</td>\n",
       "    </tr>\n",
       "  </tbody>\n",
       "</table>\n",
       "</div>"
      ],
      "text/plain": [
       "                                                    PXD006109_HeLa12_1_LFQ  \\\n",
       "sp|Q9H4B7|TBB1_HUMAN;CON__ENSEMBL:ENSBTAP000000...            1.029732e+10   \n",
       "CON__ENSEMBL:ENSBTAP00000032840                               7.040224e+08   \n",
       "CON__ENSEMBL:ENSBTAP00000034412                                        NaN   \n",
       "CON__P00735;sp|P00734|THRB_HUMAN                                       NaN   \n",
       "CON__P00761                                                   5.228187e+09   \n",
       "\n",
       "                                                    PXD006109_HeLa12_2_LFQ  \\\n",
       "sp|Q9H4B7|TBB1_HUMAN;CON__ENSEMBL:ENSBTAP000000...            8.755959e+09   \n",
       "CON__ENSEMBL:ENSBTAP00000032840                               6.781671e+08   \n",
       "CON__ENSEMBL:ENSBTAP00000034412                                        NaN   \n",
       "CON__P00735;sp|P00734|THRB_HUMAN                                       NaN   \n",
       "CON__P00761                                                   4.487467e+09   \n",
       "\n",
       "                                                    PXD006109_HeLa12_3_LFQ  \\\n",
       "sp|Q9H4B7|TBB1_HUMAN;CON__ENSEMBL:ENSBTAP000000...            9.573093e+09   \n",
       "CON__ENSEMBL:ENSBTAP00000032840                               7.535610e+08   \n",
       "CON__ENSEMBL:ENSBTAP00000034412                                        NaN   \n",
       "CON__P00735;sp|P00734|THRB_HUMAN                              2.329190e+08   \n",
       "CON__P00761                                                   5.430237e+09   \n",
       "\n",
       "                                                    PXD006109_HeLa2_1_LFQ  \\\n",
       "sp|Q9H4B7|TBB1_HUMAN;CON__ENSEMBL:ENSBTAP000000...           8.310881e+09   \n",
       "CON__ENSEMBL:ENSBTAP00000032840                              6.333453e+08   \n",
       "CON__ENSEMBL:ENSBTAP00000034412                                       NaN   \n",
       "CON__P00735;sp|P00734|THRB_HUMAN                             1.139405e+08   \n",
       "CON__P00761                                                  5.067627e+09   \n",
       "\n",
       "                                                    PXD006109_HeLa2_2_LFQ  \\\n",
       "sp|Q9H4B7|TBB1_HUMAN;CON__ENSEMBL:ENSBTAP000000...           8.201077e+09   \n",
       "CON__ENSEMBL:ENSBTAP00000032840                              6.516681e+08   \n",
       "CON__ENSEMBL:ENSBTAP00000034412                                       NaN   \n",
       "CON__P00735;sp|P00734|THRB_HUMAN                                      NaN   \n",
       "CON__P00761                                                  3.972439e+09   \n",
       "\n",
       "                                                    PXD006109_HeLa2_3_LFQ  \\\n",
       "sp|Q9H4B7|TBB1_HUMAN;CON__ENSEMBL:ENSBTAP000000...           6.337594e+09   \n",
       "CON__ENSEMBL:ENSBTAP00000032840                              7.258761e+08   \n",
       "CON__ENSEMBL:ENSBTAP00000034412                                       NaN   \n",
       "CON__P00735;sp|P00734|THRB_HUMAN                                      NaN   \n",
       "CON__P00761                                                  3.820147e+09   \n",
       "\n",
       "                                                    PXD006109_HeLa12_1  \\\n",
       "sp|Q9H4B7|TBB1_HUMAN;CON__ENSEMBL:ENSBTAP000000...        1.112542e+10   \n",
       "CON__ENSEMBL:ENSBTAP00000032840                           5.938500e+08   \n",
       "CON__ENSEMBL:ENSBTAP00000034412                           2.864177e+07   \n",
       "CON__P00735;sp|P00734|THRB_HUMAN                          5.338931e+07   \n",
       "CON__P00761                                               5.622731e+09   \n",
       "\n",
       "                                                    PXD006109_HeLa12_2  \\\n",
       "sp|Q9H4B7|TBB1_HUMAN;CON__ENSEMBL:ENSBTAP000000...        1.054613e+10   \n",
       "CON__ENSEMBL:ENSBTAP00000032840                           9.562062e+08   \n",
       "CON__ENSEMBL:ENSBTAP00000034412                                    NaN   \n",
       "CON__P00735;sp|P00734|THRB_HUMAN                                   NaN   \n",
       "CON__P00761                                               3.262194e+09   \n",
       "\n",
       "                                                    PXD006109_HeLa12_3  \\\n",
       "sp|Q9H4B7|TBB1_HUMAN;CON__ENSEMBL:ENSBTAP000000...        1.114396e+10   \n",
       "CON__ENSEMBL:ENSBTAP00000032840                           9.172285e+08   \n",
       "CON__ENSEMBL:ENSBTAP00000034412                                    NaN   \n",
       "CON__P00735;sp|P00734|THRB_HUMAN                          1.230555e+08   \n",
       "CON__P00761                                               8.321847e+08   \n",
       "\n",
       "                                                    PXD006109_HeLa2_1  \\\n",
       "sp|Q9H4B7|TBB1_HUMAN;CON__ENSEMBL:ENSBTAP000000...       8.445702e+09   \n",
       "CON__ENSEMBL:ENSBTAP00000032840                          4.973786e+08   \n",
       "CON__ENSEMBL:ENSBTAP00000034412                          1.751218e+07   \n",
       "CON__P00735;sp|P00734|THRB_HUMAN                         5.238931e+07   \n",
       "CON__P00761                                              7.111309e+09   \n",
       "\n",
       "                                                    PXD006109_HeLa2_2  \\\n",
       "sp|Q9H4B7|TBB1_HUMAN;CON__ENSEMBL:ENSBTAP000000...       9.438297e+09   \n",
       "CON__ENSEMBL:ENSBTAP00000032840                          5.003692e+08   \n",
       "CON__ENSEMBL:ENSBTAP00000034412                                   NaN   \n",
       "CON__P00735;sp|P00734|THRB_HUMAN                         4.842652e+07   \n",
       "CON__P00761                                              7.952877e+09   \n",
       "\n",
       "                                                    PXD006109_HeLa2_3  \n",
       "sp|Q9H4B7|TBB1_HUMAN;CON__ENSEMBL:ENSBTAP000000...       7.764095e+08  \n",
       "CON__ENSEMBL:ENSBTAP00000032840                          6.816074e+08  \n",
       "CON__ENSEMBL:ENSBTAP00000034412                                   NaN  \n",
       "CON__P00735;sp|P00734|THRB_HUMAN                         6.959884e+07  \n",
       "CON__P00761                                              3.224808e+09  "
      ]
     },
     "metadata": {},
     "output_type": "display_data"
    }
   ],
   "source": [
    "display(pt.head())"
   ]
  },
  {
   "cell_type": "markdown",
   "id": "62f939aa",
   "metadata": {},
   "source": [
    "## Comparing MaxQuant LFQ to AlphaPept LFQ\n",
    "\n",
    "The sample file consists of 6 files of two different conditions (HeLa12_1, HeLa12_2, HeLa12_3) and (HeLa2_1, HeLa2_2, HeLa2_3).\n",
    "We have intensities w/ and w/o the LFQ.\n",
    "\n",
    "For comparison, we plot the distribution of the CV before LFQ and after LFQ, for the MaxQuant output and the AlphaPeptLFQ for one condition."
   ]
  },
  {
   "cell_type": "code",
   "execution_count": 7,
   "id": "5d601428",
   "metadata": {},
   "outputs": [],
   "source": [
    "import matplotlib.pyplot as plt\n",
    "import numpy as np"
   ]
  },
  {
   "cell_type": "code",
   "execution_count": 8,
   "id": "f92ac02a",
   "metadata": {},
   "outputs": [],
   "source": [
    "columns = ['PXD006109_HeLa2_1','PXD006109_HeLa2_2', 'PXD006109_HeLa2_3']"
   ]
  },
  {
   "cell_type": "code",
   "execution_count": 9,
   "id": "9b1fc89b",
   "metadata": {},
   "outputs": [],
   "source": [
    "bins = np.linspace(0, 100, 100)\n",
    "\n",
    "df = pd.read_csv('proteinGroups.txt', sep='\\t')\n",
    "df = df.replace(0, np.nan)"
   ]
  },
  {
   "cell_type": "code",
   "execution_count": 10,
   "id": "9ff70039",
   "metadata": {},
   "outputs": [
    {
     "name": "stdout",
     "output_type": "stream",
     "text": [
      "Mean CV for AlphaPept on MaxQuant w/o LFQ 35.04 % - n: 5,521\n",
      "Mean CV for AlphaPept on MaxQuant w/ LFQ 11.13 % - n: 3,973\n",
      "Mean CV for MaxQuant w/o LFQ 37.41 % - n: 5,447\n",
      "Mean CV for MaxQuant w/ LFQ 12.18 % - n: 3,801\n"
     ]
    },
    {
     "data": {
      "image/png": "[encoded data removed]",
      "text/plain": [
       "<Figure size 720x360 with 1 Axes>"
      ]
     },
     "metadata": {
      "needs_background": "light"
     },
     "output_type": "display_data"
    }
   ],
   "source": [
    "plt.figure(figsize=(10,5))\n",
    "\n",
    "case = 'AlphaPept on MaxQuant w/o LFQ'\n",
    "cv =  pt[columns].std(axis=1) / pt[columns].mean(axis=1) * 100\n",
    "plt.hist(cv, bins=bins, alpha=0.5, label=case)\n",
    "print(f'Mean CV for {case} {np.mean(cv):.2f} % - n: {(~cv.isna()).sum():,}')\n",
    "\n",
    "case = 'AlphaPept on MaxQuant w/ LFQ'\n",
    "lfq_columns = [_+'_LFQ' for _ in columns]\n",
    "cv =  pt[lfq_columns].std(axis=1) / pt[lfq_columns].mean(axis=1) * 100\n",
    "plt.hist(cv, bins=bins, alpha=0.5, label=case)\n",
    "print(f'Mean CV for {case} {np.mean(cv):.2f} % - n: {(~cv.isna()).sum():,}')\n",
    "\n",
    "columns_mq = ['Intensity Shotgun_02-01_1', 'Intensity Shotgun_02-01_2','Intensity Shotgun_02-01_3']\n",
    "\n",
    "\n",
    "case = 'MaxQuant w/o LFQ'\n",
    "cv =  df[columns_mq].std(axis=1) / df[columns_mq].mean(axis=1) * 100\n",
    "plt.hist(cv, bins=bins, alpha=0.5, label=case)\n",
    "print(f'Mean CV for {case} {np.mean(cv):.2f} % - n: {(~cv.isna()).sum():,}')\n",
    "\n",
    "case = 'MaxQuant w/ LFQ'\n",
    "lfq_columns_mq = ['LFQ i'+_[1:] for _ in columns_mq]\n",
    "cv =  df[lfq_columns_mq].std(axis=1) / df[lfq_columns_mq].mean(axis=1) * 100\n",
    "plt.hist(cv, bins=bins, alpha=0.5, label=case)\n",
    "print(f'Mean CV for {case} {np.mean(cv):.2f} % - n: {(~cv.isna()).sum():,}')\n",
    "\n",
    "plt.legend()\n",
    "plt.show()"
   ]
  },
  {
   "cell_type": "markdown",
   "id": "2400e917",
   "metadata": {},
   "source": [
    "Observation: The CV decreases when applying the LFQ optimization. \n",
    "For the LFQ optimization, the mean CV for AlphaPept is slightly better (11.13% vs 12.18%) with a slightly more proteins (3,973 vs 3,801)."
   ]
  }
 ],
 "metadata": {
  "kernelspec": {
   "display_name": "Python 3 (ipykernel)",
   "language": "python",
   "name": "python3"
  },
  "language_info": {
   "codemirror_mode": {
    "name": "ipython",
    "version": 3
   },
   "file_extension": ".py",
   "mimetype": "text/x-python",
   "name": "python",
   "nbconvert_exporter": "python",
   "pygments_lexer": "ipython3",
   "version": "3.8.12"
  }
 },
 "nbformat": 4,
 "nbformat_minor": 5
}
