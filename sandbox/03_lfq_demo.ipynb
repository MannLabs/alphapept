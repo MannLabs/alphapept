{
 "cells": [
  {
   "cell_type": "markdown",
   "id": "4abe9f07",
   "metadata": {},
   "source": [
    "# AlphaPept API\n",
    "\n",
    "Calling the AlphaPept LFQ implementation on MaxQuant output files.\n",
    "\n",
    "\n",
    "## Installation\n",
    "\n",
    "When installing AlphaPept we can use `pip install alphapept`. Note that this will install just the package and not the GUI-version etc.. Raw data import will only work for Windows unless you have Mono installed for Mac. See the GitHub page for more [information](https://github.com/MannLabs/alphapept) about the different modes for installation.\n",
    "\n",
    "For this notebook one will need `wget` to download the external files.\n",
    "\n",
    "\n",
    "## Example file\n",
    "\n",
    "The example file is from PXD006109 and was run with MaxQuant 2.0.3.1. For LFQ the minimum ratio was set to two.\n",
    "\n",
    "\n",
    "## Requirements\n",
    "\n",
    "To run this notebook, install `wget` to download the example files. Additionally required is `pandas`, `matplotlib`."
   ]
  },
  {
   "cell_type": "code",
   "execution_count": 1,
   "id": "e78d0fb3",
   "metadata": {},
   "outputs": [],
   "source": [
    "import os \n",
    "import wget\n",
    "import pandas as pd\n",
    "\n",
    "external_files = {}\n",
    "\n",
    "external_files['evidence.txt'] = 'https://datashare.biochem.mpg.de/s/KAbRdiHX7rWlTAB/download'\n",
    "external_files['proteinGroups.txt'] = 'https://datashare.biochem.mpg.de/s/XNbraDaneZlztzg/download'\n",
    "\n",
    "TEMP_DIR = './lfq_demo/'\n",
    "\n",
    "for file in external_files:\n",
    "    target = os.path.join(TEMP_DIR, file)\n",
    "    os.makedirs(TEMP_DIR, exist_ok=True)\n",
    "    if not os.path.isfile(target):\n",
    "        print(f'Downloading {file} to {target}')\n",
    "        wget.download(external_files[file], target)"
   ]
  },
  {
   "cell_type": "code",
   "execution_count": 2,
   "id": "d18bee95",
   "metadata": {},
   "outputs": [
    {
     "name": "stdout",
     "output_type": "stream",
     "text": [
      "0.4.9\n"
     ]
    }
   ],
   "source": [
    "import alphapept\n",
    "\n",
    "print(alphapept.__version__)"
   ]
  },
  {
   "cell_type": "code",
   "execution_count": 3,
   "id": "1881ac60",
   "metadata": {},
   "outputs": [],
   "source": [
    "from alphapept.quantification import protein_profile_parallel_mq"
   ]
  },
  {
   "cell_type": "markdown",
   "id": "ad82dd23",
   "metadata": {},
   "source": [
    "## Inspecting function header\n",
    "We have two relevant parameters: `minimum_ratios` for the second step of LFQ (extracting optimal protein ratios) and `minimum_occurence` for the delayed normalization step (first step).\n",
    "\n",
    "When calling the function we set the `minimum_ratios` to two to better compare to the MaxQuant output. Note that the default value for AlphaPept is 1. This typically leads to less proteins being thrown overboard."
   ]
  },
  {
   "cell_type": "code",
   "execution_count": 4,
   "id": "05f8cd73",
   "metadata": {},
   "outputs": [
    {
     "name": "stdout",
     "output_type": "stream",
     "text": [
      "Help on function protein_profile_parallel_mq in module alphapept.quantification:\n",
      "\n",
      "protein_profile_parallel_mq(evidence_path: str, protein_groups_path: str, minimum_ratios: int = 1, minimum_occurence: bool = None, delayed: bool = True, callback=None) -> pandas.core.frame.DataFrame\n",
      "    Derives protein LFQ intensities from Maxquant quantified features.\n",
      "    \n",
      "    Args:\n",
      "        evidence_path (str): path to the Maxquant standard output table evidence.txt.\n",
      "        protein_groups_path (str): path to the Maxquant standard output table proteinGroups.txt.\n",
      "        minimum_ratios (int): minimum ratios (LFQ parameter)\n",
      "        minimum_occurence (int): minimum occurence (LFQ parameter)\n",
      "        delayed (bool): toggle for delayed normalization (on/off)\n",
      "        callback ([type], optional): [description]. Defaults to None.\n",
      "    \n",
      "    Raises:\n",
      "        FileNotFoundError: if Maxquant files cannot be found.\n",
      "    \n",
      "    Returns:\n",
      "        pd.DataFrame: table containing the LFQ intensities of each protein in each sample.\n",
      "\n"
     ]
    }
   ],
   "source": [
    "help(protein_profile_parallel_mq)"
   ]
  },
  {
   "cell_type": "code",
   "execution_count": null,
   "id": "4ebe1298",
   "metadata": {},
   "outputs": [],
   "source": [
    "%%time \n",
    "\n",
    "#This may take a while, one could use the callback to display progress\n",
    "\n",
    "evidence_path = os.path.join(TEMP_DIR, 'evidence.txt')\n",
    "protein_group_path = os.path.join(TEMP_DIR, 'proteinGroups.txt')\n",
    "\n",
    "pt = protein_profile_parallel_mq(evidence_path, protein_group_path, minimum_ratios =2)"
   ]
  },
  {
   "cell_type": "code",
   "execution_count": null,
   "id": "fed7d97f",
   "metadata": {},
   "outputs": [],
   "source": [
    "display(pt.head())"
   ]
  },
  {
   "cell_type": "markdown",
   "id": "62f939aa",
   "metadata": {},
   "source": [
    "## Comparing MaxQuant LFQ to AlphaPept LFQ\n",
    "\n",
    "The sample file consists of 6 files of two different conditions (Shotgun_02-01_1, Shotgun_02-01_2, Shotgun_02-01_3) and (Shotgun_12-01_1, Shotgun_12-01_2, Shotgun_12-01_3).\n",
    "We have intensities w/ and w/o the LFQ.\n",
    "\n",
    "For comparison, we plot the distribution of the CV before LFQ and after LFQ, for the MaxQuant output and the AlphaPeptLFQ for one condition."
   ]
  },
  {
   "cell_type": "code",
   "execution_count": null,
   "id": "5d601428",
   "metadata": {},
   "outputs": [],
   "source": [
    "import matplotlib.pyplot as plt\n",
    "import numpy as np"
   ]
  },
  {
   "cell_type": "code",
   "execution_count": null,
   "id": "f92ac02a",
   "metadata": {},
   "outputs": [],
   "source": [
    "columns = ['Shotgun_02-01_1','Shotgun_02-01_2', 'Shotgun_02-01_3']"
   ]
  },
  {
   "cell_type": "code",
   "execution_count": null,
   "id": "9b1fc89b",
   "metadata": {},
   "outputs": [],
   "source": [
    "bins = np.linspace(0, 100, 100)\n",
    "\n",
    "df = pd.read_csv('proteinGroups.txt', sep='\\t')\n",
    "df = df.replace(0, np.nan)"
   ]
  },
  {
   "cell_type": "code",
   "execution_count": null,
   "id": "a9c9dd75",
   "metadata": {},
   "outputs": [],
   "source": [
    "pt"
   ]
  },
  {
   "cell_type": "code",
   "execution_count": null,
   "id": "9ff70039",
   "metadata": {},
   "outputs": [],
   "source": [
    "plt.figure(figsize=(10,5))\n",
    "\n",
    "case = 'AlphaPept on MaxQuant w/o LFQ'\n",
    "cv =  pt[columns].std(axis=1) / pt[columns].mean(axis=1) * 100\n",
    "plt.hist(cv, bins=bins, alpha=0.5, label=case)\n",
    "print(f'Mean CV for {case} {np.mean(cv):.2f} % - n: {(~cv.isna()).sum():,}')\n",
    "\n",
    "case = 'AlphaPept on MaxQuant w/ LFQ'\n",
    "lfq_columns = [_+'_LFQ' for _ in columns]\n",
    "cv =  pt[lfq_columns].std(axis=1) / pt[lfq_columns].mean(axis=1) * 100\n",
    "plt.hist(cv, bins=bins, alpha=0.5, label=case)\n",
    "print(f'Mean CV for {case} {np.mean(cv):.2f} % - n: {(~cv.isna()).sum():,}')\n",
    "\n",
    "columns_mq = ['Intensity Shotgun_02-01_1', 'Intensity Shotgun_02-01_2','Intensity Shotgun_02-01_3']\n",
    "\n",
    "\n",
    "case = 'MaxQuant w/o LFQ'\n",
    "cv =  df[columns_mq].std(axis=1) / df[columns_mq].mean(axis=1) * 100\n",
    "plt.hist(cv, bins=bins, alpha=0.5, label=case)\n",
    "print(f'Mean CV for {case} {np.mean(cv):.2f} % - n: {(~cv.isna()).sum():,}')\n",
    "\n",
    "case = 'MaxQuant w/ LFQ'\n",
    "lfq_columns_mq = ['LFQ i'+_[1:] for _ in columns_mq]\n",
    "cv =  df[lfq_columns_mq].std(axis=1) / df[lfq_columns_mq].mean(axis=1) * 100\n",
    "plt.hist(cv, bins=bins, alpha=0.5, label=case)\n",
    "print(f'Mean CV for {case} {np.mean(cv):.2f} % - n: {(~cv.isna()).sum():,}')\n",
    "\n",
    "plt.legend()\n",
    "plt.show()"
   ]
  },
  {
   "cell_type": "markdown",
   "id": "2400e917",
   "metadata": {},
   "source": [
    "Observation: The CV decreases when applying the LFQ optimization. \n",
    "For the LFQ optimization, the mean CV for AlphaPept is slightly better (11.25% vs 12.18%) with a slightly more proteins (3,973 vs 3,801)."
   ]
  }
 ],
 "metadata": {
  "kernelspec": {
   "display_name": "Python 3 (ipykernel)",
   "language": "python",
   "name": "python3"
  },
  "language_info": {
   "codemirror_mode": {
    "name": "ipython",
    "version": 3
   },
   "file_extension": ".py",
   "mimetype": "text/x-python",
   "name": "python",
   "nbconvert_exporter": "python",
   "pygments_lexer": "ipython3",
   "version": "3.8.13"
  }
 },
 "nbformat": 4,
 "nbformat_minor": 5
}
