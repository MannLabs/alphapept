{
 "cells": [
  {
   "cell_type": "markdown",
   "id": "4d1bcb4c",
   "metadata": {},
   "source": [
    "# Paper Figure 6: Quantification\n",
    "\n"
   ]
  },
  {
   "cell_type": "code",
   "execution_count": 1,
   "id": "fca27d35",
   "metadata": {},
   "outputs": [],
   "source": [
    "import os\n",
    "from test_files import get_files, prepare_test\n",
    "from alphapept.quantification import protein_profile_parallel_mq\n",
    "import pandas as pd\n",
    "import numpy as np\n",
    "from matplotlib.ticker import FormatStrFormatter\n",
    "import matplotlib.pyplot as plt\n",
    "\n",
    "def get_species(valid):\n",
    "\n",
    "    homo = valid[valid['Species'] == 'Homo sapiens']\n",
    "    e_coli = valid[valid['Species'] == 'Escherichia coli']\n",
    "    \n",
    "    return homo, e_coli"
   ]
  },
  {
   "cell_type": "code",
   "execution_count": 2,
   "id": "ba5e2883",
   "metadata": {},
   "outputs": [
    {
     "name": "stdout",
     "output_type": "stream",
     "text": [
      "Creating dir F:/projects/alphapept/sandbox/temp\\fig6.\n"
     ]
    }
   ],
   "source": [
    "#MaxQuant 2.1.4.0\n",
    "\n",
    "tmp_folder = 'F:/projects/alphapept/sandbox/temp'\n",
    "test_folder = 'fig6'\n",
    "\n",
    "\n",
    "files = ['PXD006109_MQ_2_1_4_0_PG.txt', 'PXD006109_MQ_2_1_4_0_EV.txt']\n",
    "\n",
    "get_files(tmp_folder, files)\n",
    "prepare_test(files, tmp_folder, test_folder)\n",
    "\n",
    "evidence_path = os.path.join(tmp_folder, test_folder, files[1])\n",
    "protein_group_path = os.path.join(tmp_folder, test_folder, files[0])"
   ]
  },
  {
   "cell_type": "code",
   "execution_count": null,
   "id": "b4a19fb7",
   "metadata": {},
   "outputs": [],
   "source": [
    "%%time\n",
    "\n",
    "pt = protein_profile_parallel_mq(evidence_path, protein_group_path)"
   ]
  },
  {
   "cell_type": "code",
   "execution_count": null,
   "id": "daa7d3bc",
   "metadata": {},
   "outputs": [],
   "source": [
    "ref = pd.read_csv(protein_group_path, sep='\\t')\n",
    "ref = ref.replace(0, np.nan)\n",
    "\n",
    "species = []\n",
    "for _ in ref['Protein IDs']:\n",
    "    \n",
    "    if 'HUM' in _:\n",
    "        species.append('Homo sapiens')\n",
    "        \n",
    "    elif 'ECO' in _:\n",
    "        species.append('Escherichia coli')\n",
    "        \n",
    "    else:\n",
    "        species.append('X')\n",
    "        \n",
    "ref['Species'] = species"
   ]
  },
  {
   "cell_type": "markdown",
   "id": "9f53b94b",
   "metadata": {},
   "source": [
    "## MaxQuant w/o LFQ"
   ]
  },
  {
   "cell_type": "code",
   "execution_count": null,
   "id": "483053b9",
   "metadata": {},
   "outputs": [],
   "source": [
    "df_= ref.copy()\n",
    "ds = [_ for _ in df_.columns if 'Intensity' in _]\n",
    "base_columns = [_ for _ in ds if 'HeLa2' in _]\n",
    "ratio_columns = [_ for _ in ds if 'HeLa12' in _]\n",
    "to_plot = pd.DataFrame()\n",
    "to_plot['Species'] = df_['Species']\n",
    "to_plot['base'] = df_[base_columns].median(axis=1)\n",
    "to_plot['ratio'] = df_[ratio_columns].median(axis=1)\n",
    "to_plot['base_cnt'] = df_[base_columns].notna().sum(axis=1)\n",
    "to_plot['ratio_cnt'] = df_[ratio_columns].notna().sum(axis=1)\n",
    "to_plot['ratio_'] = np.log2(to_plot['base'] / to_plot['ratio'])\n",
    "to_plot['sum_'] = np.log2(to_plot['ratio'])\n",
    "valid_mq_nolfq = to_plot.query(f'ratio_cnt >= 2 and base_cnt >=2')\n",
    "\n",
    "mean_cv_base = (df_[base_columns].std(axis=1)/df_[base_columns].mean(axis=1)).mean()\n",
    "print(f\"Mean CV {mean_cv_base:.2f}\")"
   ]
  },
  {
   "cell_type": "markdown",
   "id": "60eb98f9",
   "metadata": {},
   "source": [
    "## MaxQuant w/ LFQ"
   ]
  },
  {
   "cell_type": "code",
   "execution_count": null,
   "id": "61d54833",
   "metadata": {},
   "outputs": [],
   "source": [
    "df_= ref.copy()\n",
    "ds = [_ for _ in df_.columns if 'LFQ intensity' in _]\n",
    "base_columns = [_ for _ in ds if 'HeLa2' in _]\n",
    "ratio_columns = [_ for _ in ds if 'HeLa12' in _]\n",
    "to_plot = pd.DataFrame()\n",
    "to_plot['Species'] = df_['Species']\n",
    "to_plot['base'] = df_[base_columns].median(axis=1)\n",
    "to_plot['ratio'] = df_[ratio_columns].median(axis=1)\n",
    "to_plot['base_cnt'] = df_[base_columns].notna().sum(axis=1)\n",
    "to_plot['ratio_cnt'] = df_[ratio_columns].notna().sum(axis=1)\n",
    "to_plot['ratio_'] = np.log2(to_plot['base'] / to_plot['ratio'])\n",
    "to_plot['sum_'] = np.log2(to_plot['ratio'])\n",
    "valid_mq = to_plot.query(f'ratio_cnt >= 2 and base_cnt >=2')\n",
    "\n",
    "mean_cv_base = (df_[base_columns].std(axis=1)/df_[base_columns].mean(axis=1)).mean()\n",
    "print(f\"Mean CV {mean_cv_base:.2f}\")"
   ]
  },
  {
   "cell_type": "markdown",
   "id": "b227134e",
   "metadata": {},
   "source": [
    "## AlphaPept on MQ"
   ]
  },
  {
   "cell_type": "code",
   "execution_count": null,
   "id": "ffe83aa0",
   "metadata": {},
   "outputs": [],
   "source": [
    "lookup_dict = dict(zip(ref['Protein IDs'].values, ref['Species'].values))"
   ]
  },
  {
   "cell_type": "code",
   "execution_count": null,
   "id": "8ba647cd",
   "metadata": {},
   "outputs": [],
   "source": [
    "import numpy as npa\n",
    "df_ = pt.copy()\n",
    "df_['Species'] = [lookup_dict[_] for _ in df_.index]\n",
    "\n",
    "ds = [_ for _ in df_.columns if 'LFQ' in _]\n",
    "base_columns = [_ for _ in ds if 'HeLa2' in _]\n",
    "ratio_columns = [_ for _ in ds if 'HeLa12' in _]   \n",
    "to_plot = pd.DataFrame()\n",
    "to_plot['Species'] = df_['Species']\n",
    "to_plot['base'] = df_[base_columns].median(axis=1)\n",
    "to_plot['ratio'] = df_[ratio_columns].median(axis=1)\n",
    "to_plot['base_cnt'] = df_[base_columns].notna().sum(axis=1)\n",
    "to_plot['ratio_cnt'] = df_[ratio_columns].notna().sum(axis=1)\n",
    "to_plot['ratio_'] = np.log2(to_plot['base'] / to_plot['ratio'])\n",
    "to_plot['sum_'] = np.log2(to_plot['ratio'])\n",
    "valid_ap = to_plot.query(f'ratio_cnt >= 2 and base_cnt >=2')\n",
    "\n",
    "mean_cv_base = (df_[base_columns].std(axis=1)/df_[base_columns].mean(axis=1)).mean()\n",
    "print(f\"Mean CV {mean_cv_base:.2f}\")"
   ]
  },
  {
   "cell_type": "code",
   "execution_count": null,
   "id": "b27b5aa9",
   "metadata": {},
   "outputs": [],
   "source": [
    "homo_mq, e_coli_mq = get_species(valid_mq)\n",
    "homo_mq, e_coli_mq_nolfq = get_species(valid_mq_nolfq)\n",
    "homo_ap, e_coli_ap = get_species(valid_ap)"
   ]
  },
  {
   "cell_type": "code",
   "execution_count": null,
   "id": "c17350f6",
   "metadata": {},
   "outputs": [],
   "source": [
    "hfont = {'fontname':'Arial', 'size':10}\n",
    "\n",
    "dark_blue = '#17212b'\n",
    "light_blue = '#3dc5ef'\n",
    "teal= '#42dee1'\n",
    "green = '#6eecb9'\n",
    "yellow = '#eef5b3'\n",
    "\n",
    "figsize= (2.363,2.363)"
   ]
  },
  {
   "cell_type": "code",
   "execution_count": null,
   "id": "f02bd5bf",
   "metadata": {},
   "outputs": [],
   "source": [
    "len(valid_mq_nolfq), len(valid_mq), len(valid_ap)"
   ]
  },
  {
   "cell_type": "code",
   "execution_count": null,
   "id": "44b21939",
   "metadata": {},
   "outputs": [],
   "source": [
    "for _ in [(valid_mq, 'MaxQuant LFQ', 'mq'), (valid_mq_nolfq, 'MaxQuant no LFQ', 'mq_nolfq') , (valid_ap, 'AlphaPept LFQ on MQ', 'ap_lfq')]:\n",
    "    \n",
    "    valid, title, filename = _\n",
    "    \n",
    "    homo_, e_coli_ = get_species(valid)\n",
    "\n",
    "    plt.figure(figsize=figsize) #60x60\n",
    "    plt.plot(homo_['ratio_'], homo_['sum_'], '.', alpha=0.5, color = light_blue, markersize=1)\n",
    "    plt.plot(e_coli_['ratio_'], e_coli_['sum_'], '.', alpha=0.5, color = dark_blue, markersize=1)\n",
    "\n",
    "    mean_ = homo_['ratio_'].mean()\n",
    "    std_ = homo_['ratio_'].std()\n",
    "    plt.axvline(mean_, color = 'k', linewidth=0.5)\n",
    "    plt.axvline(mean_+std_, linestyle=':', color='k', linewidth=0.5)\n",
    "    plt.axvline(mean_-std_,  linestyle=':', color='k', linewidth=0.5)\n",
    "\n",
    "    print(f'Homo {std_:.2f}')\n",
    "    plt.text(-2.5, 32, f'Homo \\n{len(homo_):,}\\nStd \\n{std_:.2f}', **hfont)\n",
    "\n",
    "    mean_ = e_coli_['ratio_'].mean()\n",
    "    std_ = e_coli_['ratio_'].std()\n",
    "    plt.axvline(mean_, color = 'k', linewidth=0.5)\n",
    "    plt.axvline(mean_+std_, linestyle=':', color='k', linewidth=0.5)\n",
    "    plt.axvline(mean_-std_,  linestyle=':', color='k', linewidth=0.5)\n",
    "\n",
    "    print(f'Ecoli {std_:.2f}')\n",
    "\n",
    "    plt.text(2.5, 32, f'E. coli\\n{len(e_coli_):,} \\nStd \\n{std_:.2f}', **hfont)\n",
    "\n",
    "    plt.xlim([-3, 5])\n",
    "    plt.ylim([22, 40])\n",
    "    ax = plt.gca()\n",
    "\n",
    "    ax.yaxis.set_major_formatter(FormatStrFormatter('%.0f'))\n",
    "    plt.xlabel('Ratio', **hfont)\n",
    "    plt.ylabel('Sum', **hfont)\n",
    "    plt.title(title, **hfont)\n",
    "    plt.tight_layout()\n",
    "    plt.xticks([-3,-2,-1,0,1,2,3,4,5])\n",
    "    plt.savefig(f'figures/06_{filename}.pdf')\n",
    "    plt.show()"
   ]
  }
 ],
 "metadata": {
  "kernelspec": {
   "display_name": "Python 3 (ipykernel)",
   "language": "python",
   "name": "python3"
  },
  "language_info": {
   "codemirror_mode": {
    "name": "ipython",
    "version": 3
   },
   "file_extension": ".py",
   "mimetype": "text/x-python",
   "name": "python",
   "nbconvert_exporter": "python",
   "pygments_lexer": "ipython3",
   "version": "3.8.16"
  },
  "toc": {
   "base_numbering": 1,
   "nav_menu": {},
   "number_sections": true,
   "sideBar": true,
   "skip_h1_title": false,
   "title_cell": "Table of Contents",
   "title_sidebar": "Contents",
   "toc_cell": false,
   "toc_position": {},
   "toc_section_display": true,
   "toc_window_display": false
  }
 },
 "nbformat": 4,
 "nbformat_minor": 5
}
