{
 "cells": [
  {
   "cell_type": "markdown",
   "id": "5aeb07ff",
   "metadata": {},
   "source": [
    "# 200 HeLa Proteomes\n",
    "\n",
    "AlphaPept 0.5.0\n"
   ]
  },
  {
   "cell_type": "code",
   "execution_count": 1,
   "id": "c0a5d747",
   "metadata": {},
   "outputs": [],
   "source": [
    "file_path = 'F:/AP_Paper_Benchmark/PXD015087_Thermo'"
   ]
  },
  {
   "cell_type": "code",
   "execution_count": 2,
   "id": "b5eda65a",
   "metadata": {},
   "outputs": [],
   "source": [
    "import os\n",
    "\n",
    "files = os.listdir(file_path)\n",
    "raw_files = [os.path.join(file_path, _) for _ in files if _.endswith('.raw')]\n",
    "fasta_files = [os.path.join(file_path, _) for _ in files if _.endswith('.fasta')]"
   ]
  },
  {
   "cell_type": "code",
   "execution_count": 3,
   "id": "6ad59065",
   "metadata": {},
   "outputs": [
    {
     "data": {
      "text/plain": [
       "(200, 3)"
      ]
     },
     "execution_count": 3,
     "metadata": {},
     "output_type": "execute_result"
    }
   ],
   "source": [
    "len(raw_files), len(fasta_files)"
   ]
  },
  {
   "cell_type": "code",
   "execution_count": 4,
   "id": "342183a7",
   "metadata": {},
   "outputs": [
    {
     "name": "stdout",
     "output_type": "stream",
     "text": [
      "2023-07-03 15:33:12> Logging to C:\\Users\\admin\\alphapept\\logs\\log_20230703153312.txt.\n",
      "2023-07-03 15:33:12> Code location f:\\projects\\alphapept\\alphapept\n",
      "2023-07-03 15:33:12> Python location C:\\ProgramData\\Miniconda3\\envs\\alphapept\\python.exe\n",
      "2023-07-03 15:33:12> Platform information:\n",
      "2023-07-03 15:33:12> system     - Windows\n",
      "2023-07-03 15:33:12> release    - 10\n",
      "2023-07-03 15:33:12> version    - 10.0.19044\n",
      "2023-07-03 15:33:12> machine    - AMD64\n",
      "2023-07-03 15:33:12> processor  - Intel64 Family 6 Model 85 Stepping 4, GenuineIntel\n",
      "2023-07-03 15:33:12> cpu count  - 24\n",
      "2023-07-03 15:33:12> ram memory - 121.6/127.7 Gb (available/total)\n",
      "2023-07-03 15:33:12> processor  - Intel64 Family 6 Model 85 Stepping 4, GenuineIntel\n",
      "2023-07-03 15:33:12> Python information:\n",
      "2023-07-03 15:33:12> SQLAlchemy                    - 1.4.39\n",
      "2023-07-03 15:33:12> alphapept                     - 0.5.0\n",
      "2023-07-03 15:33:12> alpharaw                      - 0.1.0\n",
      "2023-07-03 15:33:12> alphatims                     - 1.0.7\n",
      "2023-07-03 15:33:12> biopython                     - 1.79\n",
      "2023-07-03 15:33:12> bumpversion                   - \n",
      "2023-07-03 15:33:12> bumpversion>                  - \n",
      "2023-07-03 15:33:12> click                         - 8.1.3\n",
      "2023-07-03 15:33:12> click>                        - \n",
      "2023-07-03 15:33:12> fastcore                      - 1.5.29\n",
      "2023-07-03 15:33:12> h5py                          - 3.7.0\n",
      "2023-07-03 15:33:12> jupyter                       - 1.0.0\n",
      "2023-07-03 15:33:12> jupyter>                      - \n",
      "2023-07-03 15:33:12> jupyter_contrib_nbextensions  - \n",
      "2023-07-03 15:33:12> jupyter_contrib_nbextensions> - \n",
      "2023-07-03 15:33:12> matplotlib                    - 3.7.1\n",
      "2023-07-03 15:33:12> nbdev                         - 2.3.12\n",
      "2023-07-03 15:33:12> nbdev>                        - \n",
      "2023-07-03 15:33:12> networkx                      - 2.8.6\n",
      "2023-07-03 15:33:12> numba                         - 0.55.2\n",
      "2023-07-03 15:33:12> numpy                         - 1.20.3\n",
      "2023-07-03 15:33:12> pandas                        - 1.4.3\n",
      "2023-07-03 15:33:12> plotly_express                - 0.4.1\n",
      "2023-07-03 15:33:12> psutil                        - 5.9.0\n",
      "2023-07-03 15:33:12> pyinstaller                   - \n",
      "2023-07-03 15:33:12> pyteomics                     - 4.5.5\n",
      "2023-07-03 15:33:12> python                        - 3.8.16\n",
      "2023-07-03 15:33:12> pythonnet>                    - \n",
      "2023-07-03 15:33:12> pywin32>                      - \n",
      "2023-07-03 15:33:12> pyyaml                        - 6.0\n",
      "2023-07-03 15:33:12> scikit-learn                  - 1.1.2\n",
      "2023-07-03 15:33:12> scipy                         - 1.8.1\n",
      "2023-07-03 15:33:12> streamlit                     - 1.20.0\n",
      "2023-07-03 15:33:12> streamlit>                    - \n",
      "2023-07-03 15:33:12> tables                        - 3.6.1\n",
      "2023-07-03 15:33:12> tqdm                          - 4.64.0\n",
      "2023-07-03 15:33:12> twine                         - \n",
      "2023-07-03 15:33:12> twine>                        - \n",
      "2023-07-03 15:33:12> watchdog                      - 2.3.0\n",
      "2023-07-03 15:33:12> wget                          - 3.2\n",
      "2023-07-03 15:33:12> \n",
      "2023-07-03 15:33:12> Check for settings not completely implemented yet.\n",
      "2023-07-03 15:33:12> Size check:\n",
      "2023-07-03 15:33:12> Size of job (raw files) 181.48 Gb\n",
      "2023-07-03 15:33:12> Required disk space for F: - 181.48 Gb, Available 239.34 Gb OK.\n",
      "2023-07-03 15:33:12> \n",
      "2023-07-03 15:33:12> Workflow Settings:\n",
      "2023-07-03 15:33:12> align              - False\n",
      "2023-07-03 15:33:12> continue_runs      - False\n",
      "2023-07-03 15:33:12> create_database    - True\n",
      "2023-07-03 15:33:12> find_features      - True\n",
      "2023-07-03 15:33:12> import_raw_data    - True\n",
      "2023-07-03 15:33:12> lfq_quantification - True\n",
      "2023-07-03 15:33:12> match              - True\n",
      "2023-07-03 15:33:12> recalibrate_data   - True\n",
      "2023-07-03 15:33:12> search_data        - True\n",
      "2023-07-03 15:33:12> \n",
      "2023-07-03 15:33:12> Checking if files exist.\n",
      "2023-07-03 15:33:12> FASTA Files have a total size of 44.528 Mb\n",
      "2023-07-03 15:33:12> Results path was not set. Setting to F:\\AP_Paper_Benchmark\\PXD015087_Thermo\\results.hdf\n",
      "2023-07-03 15:33:12> Shortnames not set. Setting to filename.\n",
      "2023-07-03 15:33:12> Sample group not set. Setting to shortname.\n",
      "2023-07-03 15:33:12> Fraction not set. Setting to 1.\n",
      "2023-07-03 15:33:12> No database path set and save_db option checked. Using default path F:\\AP_Paper_Benchmark\\PXD015087_Thermo\\database.hdf\n",
      "2023-07-03 15:33:12> Workflow has 13 steps\n",
      "2023-07-03 15:33:12> ==== create_database ====\n",
      "2023-07-03 15:33:12> Database path F:\\AP_Paper_Benchmark\\PXD015087_Thermo\\database.hdf is not a file.\n",
      "2023-07-03 15:33:12> Found FASTA file F:/AP_Paper_Benchmark/PXD015087_Thermo\\009606_UniProtKB_Reference_Proteome_Isoform_PFAM_v22.07.13.fasta with size 44.38 Mb.\n",
      "2023-07-03 15:33:12> Found FASTA file F:/AP_Paper_Benchmark/PXD015087_Thermo\\contaminants.fasta with size 0.15 Mb.\n",
      "2023-07-03 15:33:12> Found FASTA file F:/AP_Paper_Benchmark/PXD015087_Thermo\\JPT_Retention_Time_Kit.fasta with size 0.00 Mb.\n",
      "2023-07-03 15:33:12> Creating a new database from FASTA.\n"
     ]
    },
    {
     "name": "stderr",
     "output_type": "stream",
     "text": [
      "\r",
      "  0%|                                                                                            | 0/1 [00:00<?, ?it/s]"
     ]
    },
    {
     "name": "stdout",
     "output_type": "stream",
     "text": [
      "2023-07-03 15:33:15> FASTA contains 88,601 entries.\n"
     ]
    },
    {
     "name": "stderr",
     "output_type": "stream",
     "text": [
      "100%|█████████████████████████████████████████████████████████████████████████████████| 1.0/1 [03:39<00:00, 253.75s/it]"
     ]
    },
    {
     "name": "stdout",
     "output_type": "stream",
     "text": [
      "2023-07-03 15:37:28> Digested 88,601 proteins and generated 6,075,504 spectra\n",
      "2023-07-03 15:38:26> Database saved to F:\\AP_Paper_Benchmark\\PXD015087_Thermo\\database.hdf. Filesize of database is 2.41 GB\n"
     ]
    },
    {
     "name": "stderr",
     "output_type": "stream",
     "text": [
      "\r",
      "100%|█████████████████████████████████████████████████████████████████████████████████| 1.0/1 [05:14<00:00, 314.14s/it]"
     ]
    },
    {
     "name": "stdout",
     "output_type": "stream",
     "text": [
      "2023-07-03 15:38:40> ==== import_raw_data ====\n"
     ]
    },
    {
     "name": "stderr",
     "output_type": "stream",
     "text": [
      "\n",
      "  0%|                                                                                            | 0/1 [00:00<?, ?it/s]"
     ]
    },
    {
     "name": "stdout",
     "output_type": "stream",
     "text": [
      "2023-07-03 15:38:40> Processing 200 files for step raw_conversion\n",
      "2023-07-03 15:38:40> AlphaPool was set to 24 processes. Setting max to 24.\n",
      "2023-07-03 15:40:15> Processing of F:/AP_Paper_Benchmark/PXD015087_Thermo\\Hela_P035210_BA1_S00_A00_R1.raw for step raw_conversion succeeded. 0.50 %\n"
     ]
    },
    {
     "name": "stderr",
     "output_type": "stream",
     "text": [
      "\r",
      "  0%|▍                                                                          | 0.005/1 [01:34<5:13:45, 18920.59s/it]"
     ]
    },
    {
     "name": "stdout",
     "output_type": "stream",
     "text": [
      "2023-07-03 15:40:15> Processing of F:/AP_Paper_Benchmark/PXD015087_Thermo\\Hela_P035210_BA1_S00_A00_R10.raw for step raw_conversion succeeded. 1.00 %\n",
      "2023-07-03 15:40:15> Processing of F:/AP_Paper_Benchmark/PXD015087_Thermo\\Hela_P035210_BA1_S00_A00_R11.raw for step raw_conversion succeeded. 1.50 %\n",
      "2023-07-03 15:40:15> Processing of F:/AP_Paper_Benchmark/PXD015087_Thermo\\Hela_P035210_BA1_S00_A00_R12.raw for step raw_conversion succeeded. 2.00 %\n"
     ]
    },
    {
     "name": "stderr",
     "output_type": "stream",
     "text": [
      "\r",
      "  2%|█▌                                                                             | 0.02/1 [01:35<58:52, 3604.74s/it]"
     ]
    },
    {
     "name": "stdout",
     "output_type": "stream",
     "text": [
      "2023-07-03 15:40:15> Processing of F:/AP_Paper_Benchmark/PXD015087_Thermo\\Hela_P035210_BA1_S00_A00_R13.raw for step raw_conversion succeeded. 2.50 %\n",
      "2023-07-03 15:40:15> Processing of F:/AP_Paper_Benchmark/PXD015087_Thermo\\Hela_P035210_BA1_S00_A00_R14.raw for step raw_conversion succeeded. 3.00 %\n",
      "2023-07-03 15:40:15> Processing of F:/AP_Paper_Benchmark/PXD015087_Thermo\\Hela_P035210_BA1_S00_A00_R15.raw for step raw_conversion succeeded. 3.50 %\n",
      "2023-07-03 15:40:17> Processing of F:/AP_Paper_Benchmark/PXD015087_Thermo\\Hela_P035210_BA1_S00_A00_R16.raw for step raw_conversion succeeded. 4.00 %\n"
     ]
    },
    {
     "name": "stderr",
     "output_type": "stream",
     "text": [
      "\r",
      "  4%|███▏                                                                           | 0.04/1 [01:36<23:36, 1475.22s/it]"
     ]
    },
    {
     "name": "stdout",
     "output_type": "stream",
     "text": [
      "2023-07-03 15:40:17> Processing of F:/AP_Paper_Benchmark/PXD015087_Thermo\\Hela_P035210_BA1_S00_A00_R17.raw for step raw_conversion succeeded. 4.50 %\n",
      "2023-07-03 15:40:17> Processing of F:/AP_Paper_Benchmark/PXD015087_Thermo\\Hela_P035210_BA1_S00_A00_R18.raw for step raw_conversion succeeded. 5.00 %\n",
      "2023-07-03 15:40:17> Processing of F:/AP_Paper_Benchmark/PXD015087_Thermo\\Hela_P035210_BA1_S00_A00_R19.raw for step raw_conversion succeeded. 5.50 %\n",
      "2023-07-03 15:40:17> Processing of F:/AP_Paper_Benchmark/PXD015087_Thermo\\Hela_P035210_BA1_S00_A00_R2.raw for step raw_conversion succeeded. 6.00 %\n",
      "2023-07-03 15:40:17> Processing of F:/AP_Paper_Benchmark/PXD015087_Thermo\\Hela_P035210_BA1_S00_A00_R20.raw for step raw_conversion succeeded. 6.50 %\n",
      "2023-07-03 15:40:17> Processing of F:/AP_Paper_Benchmark/PXD015087_Thermo\\Hela_P035210_BA1_S00_A00_R3.raw for step raw_conversion succeeded. 7.00 %\n",
      "2023-07-03 15:40:17> Processing of F:/AP_Paper_Benchmark/PXD015087_Thermo\\Hela_P035210_BA1_S00_A00_R4.raw for step raw_conversion succeeded. 7.50 %\n",
      "2023-07-03 15:40:17> Processing of F:/AP_Paper_Benchmark/PXD015087_Thermo\\Hela_P035210_BA1_S00_A00_R5.raw for step raw_conversion succeeded. 8.00 %\n",
      "2023-07-03 15:40:17> Processing of F:/AP_Paper_Benchmark/PXD015087_Thermo\\Hela_P035210_BA1_S00_A00_R6.raw for step raw_conversion succeeded. 8.50 %\n",
      "2023-07-03 15:40:17> Processing of F:/AP_Paper_Benchmark/PXD015087_Thermo\\Hela_P035210_BA1_S00_A00_R7.raw for step raw_conversion succeeded. 9.00 %\n",
      "2023-07-03 15:40:17> Processing of F:/AP_Paper_Benchmark/PXD015087_Thermo\\Hela_P035210_BA1_S00_A00_R8.raw for step raw_conversion succeeded. 9.50 %\n",
      "2023-07-03 15:40:17> Processing of F:/AP_Paper_Benchmark/PXD015087_Thermo\\Hela_P035210_BA1_S00_A00_R9.raw for step raw_conversion succeeded. 10.00 %\n",
      "2023-07-03 15:40:21> Processing of F:/AP_Paper_Benchmark/PXD015087_Thermo\\Hela_P035211_BA1_S00_A00_R1.raw for step raw_conversion succeeded. 10.50 %\n"
     ]
    },
    {
     "name": "stderr",
     "output_type": "stream",
     "text": [
      "\r",
      " 10%|████████▎                                                                      | 0.105/1 [01:40<06:25, 430.34s/it]"
     ]
    },
    {
     "name": "stdout",
     "output_type": "stream",
     "text": [
      "2023-07-03 15:40:21> Processing of F:/AP_Paper_Benchmark/PXD015087_Thermo\\Hela_P035211_BA1_S00_A00_R10.raw for step raw_conversion succeeded. 11.00 %\n",
      "2023-07-03 15:40:21> Processing of F:/AP_Paper_Benchmark/PXD015087_Thermo\\Hela_P035211_BA1_S00_A00_R11.raw for step raw_conversion succeeded. 11.50 %\n",
      "2023-07-03 15:40:21> Processing of F:/AP_Paper_Benchmark/PXD015087_Thermo\\Hela_P035211_BA1_S00_A00_R12.raw for step raw_conversion succeeded. 12.00 %\n",
      "2023-07-03 15:41:32> Processing of F:/AP_Paper_Benchmark/PXD015087_Thermo\\Hela_P035211_BA1_S00_A00_R13.raw for step raw_conversion succeeded. 12.50 %\n"
     ]
    },
    {
     "name": "stderr",
     "output_type": "stream",
     "text": [
      "\r",
      " 12%|█████████▊                                                                    | 0.125/1 [02:51<17:18, 1186.74s/it]"
     ]
    },
    {
     "name": "stdout",
     "output_type": "stream",
     "text": [
      "2023-07-03 15:41:33> Processing of F:/AP_Paper_Benchmark/PXD015087_Thermo\\Hela_P035211_BA1_S00_A00_R14.raw for step raw_conversion succeeded. 13.00 %\n"
     ]
    },
    {
     "name": "stderr",
     "output_type": "stream",
     "text": [
      "\r",
      " 13%|██████████▎                                                                    | 0.13/1 [02:52<16:12, 1117.89s/it]"
     ]
    },
    {
     "name": "stdout",
     "output_type": "stream",
     "text": [
      "2023-07-03 15:41:34> Processing of F:/AP_Paper_Benchmark/PXD015087_Thermo\\Hela_P035211_BA1_S00_A00_R15.raw for step raw_conversion succeeded. 13.50 %\n"
     ]
    },
    {
     "name": "stderr",
     "output_type": "stream",
     "text": [
      "\r",
      " 14%|██████████▌                                                                   | 0.135/1 [02:53<14:35, 1012.00s/it]"
     ]
    },
    {
     "name": "stdout",
     "output_type": "stream",
     "text": [
      "2023-07-03 15:41:35> Processing of F:/AP_Paper_Benchmark/PXD015087_Thermo\\Hela_P035211_BA1_S00_A00_R16.raw for step raw_conversion succeeded. 14.00 %\n"
     ]
    },
    {
     "name": "stderr",
     "output_type": "stream",
     "text": [
      "\r",
      " 14%|███████████▏                                                                    | 0.14/1 [02:54<13:06, 914.94s/it]"
     ]
    },
    {
     "name": "stdout",
     "output_type": "stream",
     "text": [
      "2023-07-03 15:41:35> Processing of F:/AP_Paper_Benchmark/PXD015087_Thermo\\Hela_P035211_BA1_S00_A00_R17.raw for step raw_conversion succeeded. 14.50 %\n",
      "2023-07-03 15:41:35> Processing of F:/AP_Paper_Benchmark/PXD015087_Thermo\\Hela_P035211_BA1_S00_A00_R18.raw for step raw_conversion succeeded. 15.00 %\n",
      "2023-07-03 15:41:35> Processing of F:/AP_Paper_Benchmark/PXD015087_Thermo\\Hela_P035211_BA1_S00_A00_R19.raw for step raw_conversion succeeded. 15.50 %\n",
      "2023-07-03 15:41:35> Processing of F:/AP_Paper_Benchmark/PXD015087_Thermo\\Hela_P035211_BA1_S00_A00_R2.raw for step raw_conversion succeeded. 16.00 %\n",
      "2023-07-03 15:41:35> Processing of F:/AP_Paper_Benchmark/PXD015087_Thermo\\Hela_P035211_BA1_S00_A00_R20.raw for step raw_conversion succeeded. 16.50 %\n",
      "2023-07-03 15:41:35> Processing of F:/AP_Paper_Benchmark/PXD015087_Thermo\\Hela_P035211_BA1_S00_A00_R3.raw for step raw_conversion succeeded. 17.00 %\n"
     ]
    },
    {
     "name": "stderr",
     "output_type": "stream",
     "text": [
      "\r",
      " 17%|█████████████▌                                                                  | 0.17/1 [02:54<06:06, 441.59s/it]"
     ]
    },
    {
     "name": "stdout",
     "output_type": "stream",
     "text": [
      "2023-07-03 15:41:36> Processing of F:/AP_Paper_Benchmark/PXD015087_Thermo\\Hela_P035211_BA1_S00_A00_R4.raw for step raw_conversion succeeded. 17.50 %\n"
     ]
    },
    {
     "name": "stderr",
     "output_type": "stream",
     "text": [
      "\r",
      " 18%|█████████████▊                                                                 | 0.175/1 [02:55<05:35, 406.75s/it]"
     ]
    },
    {
     "name": "stdout",
     "output_type": "stream",
     "text": [
      "2023-07-03 15:41:36> Processing of F:/AP_Paper_Benchmark/PXD015087_Thermo\\Hela_P035211_BA1_S00_A00_R5.raw for step raw_conversion succeeded. 18.00 %\n",
      "2023-07-03 15:41:38> Processing of F:/AP_Paper_Benchmark/PXD015087_Thermo\\Hela_P035211_BA1_S00_A00_R6.raw for step raw_conversion succeeded. 18.50 %\n"
     ]
    },
    {
     "name": "stderr",
     "output_type": "stream",
     "text": [
      "\r",
      " 18%|██████████████▌                                                                | 0.185/1 [02:57<04:49, 354.70s/it]"
     ]
    },
    {
     "name": "stdout",
     "output_type": "stream",
     "text": [
      "2023-07-03 15:41:38> Processing of F:/AP_Paper_Benchmark/PXD015087_Thermo\\Hela_P035211_BA1_S00_A00_R7.raw for step raw_conversion succeeded. 19.00 %\n",
      "2023-07-03 15:41:38> Processing of F:/AP_Paper_Benchmark/PXD015087_Thermo\\Hela_P035211_BA1_S00_A00_R8.raw for step raw_conversion succeeded. 19.50 %\n",
      "2023-07-03 15:41:38> Processing of F:/AP_Paper_Benchmark/PXD015087_Thermo\\Hela_P035211_BA1_S00_A00_R9.raw for step raw_conversion succeeded. 20.00 %\n",
      "2023-07-03 15:41:38> Processing of F:/AP_Paper_Benchmark/PXD015087_Thermo\\Hela_P035213_BA1_S00_A00_R1.raw for step raw_conversion succeeded. 20.50 %\n",
      "2023-07-03 15:41:38> Processing of F:/AP_Paper_Benchmark/PXD015087_Thermo\\Hela_P035213_BA1_S00_A00_R10.raw for step raw_conversion succeeded. 21.00 %\n",
      "2023-07-03 15:41:38> Processing of F:/AP_Paper_Benchmark/PXD015087_Thermo\\Hela_P035213_BA1_S00_A00_R11.raw for step raw_conversion succeeded. 21.50 %\n"
     ]
    },
    {
     "name": "stderr",
     "output_type": "stream",
     "text": [
      "\r",
      " 22%|████████████████▉                                                              | 0.215/1 [02:58<02:24, 184.34s/it]"
     ]
    },
    {
     "name": "stdout",
     "output_type": "stream",
     "text": [
      "2023-07-03 15:41:52> Processing of F:/AP_Paper_Benchmark/PXD015087_Thermo\\Hela_P035213_BA1_S00_A00_R12.raw for step raw_conversion succeeded. 22.00 %\n"
     ]
    },
    {
     "name": "stderr",
     "output_type": "stream",
     "text": [
      "\r",
      " 22%|█████████████████▌                                                              | 0.22/1 [03:11<05:58, 459.02s/it]"
     ]
    },
    {
     "name": "stdout",
     "output_type": "stream",
     "text": [
      "2023-07-03 15:41:52> Processing of F:/AP_Paper_Benchmark/PXD015087_Thermo\\Hela_P035213_BA1_S00_A00_R13.raw for step raw_conversion succeeded. 22.50 %\n",
      "2023-07-03 15:41:53> Processing of F:/AP_Paper_Benchmark/PXD015087_Thermo\\Hela_P035213_BA1_S00_A00_R14.raw for step raw_conversion succeeded. 23.00 %\n"
     ]
    },
    {
     "name": "stderr",
     "output_type": "stream",
     "text": [
      "\r",
      " 23%|██████████████████▍                                                             | 0.23/1 [03:12<04:44, 369.64s/it]"
     ]
    },
    {
     "name": "stdout",
     "output_type": "stream",
     "text": [
      "2023-07-03 15:41:58> Processing of F:/AP_Paper_Benchmark/PXD015087_Thermo\\Hela_P035213_BA1_S00_A00_R15.raw for step raw_conversion succeeded. 23.50 %\n"
     ]
    },
    {
     "name": "stderr",
     "output_type": "stream",
     "text": [
      "\r",
      " 24%|██████████████████▌                                                            | 0.235/1 [03:17<05:51, 458.85s/it]"
     ]
    },
    {
     "name": "stdout",
     "output_type": "stream",
     "text": [
      "2023-07-03 15:41:58> Processing of F:/AP_Paper_Benchmark/PXD015087_Thermo\\Hela_P035213_BA1_S00_A00_R16.raw for step raw_conversion succeeded. 24.00 %\n",
      "2023-07-03 15:42:59> Processing of F:/AP_Paper_Benchmark/PXD015087_Thermo\\Hela_P035213_BA1_S00_A00_R17.raw for step raw_conversion succeeded. 24.50 %\n"
     ]
    },
    {
     "name": "stderr",
     "output_type": "stream",
     "text": [
      "\r",
      " 24%|███████████████████                                                           | 0.245/1 [04:19<26:39, 2119.14s/it]"
     ]
    },
    {
     "name": "stdout",
     "output_type": "stream",
     "text": [
      "2023-07-03 15:42:59> Processing of F:/AP_Paper_Benchmark/PXD015087_Thermo\\Hela_P035213_BA1_S00_A00_R18.raw for step raw_conversion succeeded. 25.00 %\n",
      "2023-07-03 15:42:59> Processing of F:/AP_Paper_Benchmark/PXD015087_Thermo\\Hela_P035213_BA1_S00_A00_R19.raw for step raw_conversion succeeded. 25.50 %\n",
      "2023-07-03 15:42:59> Processing of F:/AP_Paper_Benchmark/PXD015087_Thermo\\Hela_P035213_BA1_S00_A00_R2.raw for step raw_conversion succeeded. 26.00 %\n",
      "2023-07-03 15:42:59> Processing of F:/AP_Paper_Benchmark/PXD015087_Thermo\\Hela_P035213_BA1_S00_A00_R20.raw for step raw_conversion succeeded. 26.50 %\n",
      "2023-07-03 15:43:00> Processing of F:/AP_Paper_Benchmark/PXD015087_Thermo\\Hela_P035213_BA1_S00_A00_R3.raw for step raw_conversion succeeded. 27.00 %\n"
     ]
    },
    {
     "name": "stderr",
     "output_type": "stream",
     "text": [
      "\r",
      " 27%|█████████████████████▎                                                         | 0.27/1 [04:19<12:42, 1044.96s/it]"
     ]
    },
    {
     "name": "stdout",
     "output_type": "stream",
     "text": [
      "2023-07-03 15:43:00> Processing of F:/AP_Paper_Benchmark/PXD015087_Thermo\\Hela_P035213_BA1_S00_A00_R4.raw for step raw_conversion succeeded. 27.50 %\n",
      "2023-07-03 15:43:00> Processing of F:/AP_Paper_Benchmark/PXD015087_Thermo\\Hela_P035213_BA1_S00_A00_R5.raw for step raw_conversion succeeded. 28.00 %\n",
      "2023-07-03 15:43:00> Processing of F:/AP_Paper_Benchmark/PXD015087_Thermo\\Hela_P035213_BA1_S00_A00_R6.raw for step raw_conversion succeeded. 28.50 %\n"
     ]
    },
    {
     "name": "stderr",
     "output_type": "stream",
     "text": [
      "\r",
      " 28%|██████████████████████▌                                                        | 0.285/1 [04:20<08:51, 743.06s/it]"
     ]
    },
    {
     "name": "stdout",
     "output_type": "stream",
     "text": [
      "2023-07-03 15:43:00> Processing of F:/AP_Paper_Benchmark/PXD015087_Thermo\\Hela_P035213_BA1_S00_A00_R7.raw for step raw_conversion succeeded. 29.00 %\n",
      "2023-07-03 15:43:00> Processing of F:/AP_Paper_Benchmark/PXD015087_Thermo\\Hela_P035213_BA1_S00_A00_R8.raw for step raw_conversion succeeded. 29.50 %\n",
      "2023-07-03 15:43:01> Processing of F:/AP_Paper_Benchmark/PXD015087_Thermo\\Hela_P035213_BA1_S00_A00_R9.raw for step raw_conversion succeeded. 30.00 %\n"
     ]
    },
    {
     "name": "stderr",
     "output_type": "stream",
     "text": [
      "\r",
      " 30%|████████████████████████▎                                                        | 0.3/1 [04:20<06:08, 526.71s/it]"
     ]
    },
    {
     "name": "stdout",
     "output_type": "stream",
     "text": [
      "2023-07-03 15:43:03> Processing of F:/AP_Paper_Benchmark/PXD015087_Thermo\\Hela_P035214_BA1_S00_A00_R1.raw for step raw_conversion succeeded. 30.50 %\n"
     ]
    },
    {
     "name": "stderr",
     "output_type": "stream",
     "text": [
      "\r",
      " 30%|████████████████████████                                                       | 0.305/1 [04:22<05:53, 508.06s/it]"
     ]
    },
    {
     "name": "stdout",
     "output_type": "stream",
     "text": [
      "2023-07-03 15:43:03> Processing of F:/AP_Paper_Benchmark/PXD015087_Thermo\\Hela_P035214_BA1_S00_A00_R10.raw for step raw_conversion succeeded. 31.00 %\n",
      "2023-07-03 15:43:03> Processing of F:/AP_Paper_Benchmark/PXD015087_Thermo\\Hela_P035214_BA1_S00_A00_R11.raw for step raw_conversion succeeded. 31.50 %\n",
      "2023-07-03 15:43:03> Processing of F:/AP_Paper_Benchmark/PXD015087_Thermo\\Hela_P035214_BA1_S00_A00_R12.raw for step raw_conversion succeeded. 32.00 %\n",
      "2023-07-03 15:43:03> Processing of F:/AP_Paper_Benchmark/PXD015087_Thermo\\Hela_P035214_BA1_S00_A00_R13.raw for step raw_conversion succeeded. 32.50 %\n",
      "2023-07-03 15:43:03> Processing of F:/AP_Paper_Benchmark/PXD015087_Thermo\\Hela_P035214_BA1_S00_A00_R14.raw for step raw_conversion succeeded. 33.00 %\n",
      "2023-07-03 15:43:03> Processing of F:/AP_Paper_Benchmark/PXD015087_Thermo\\Hela_P035214_BA1_S00_A00_R15.raw for step raw_conversion succeeded. 33.50 %\n",
      "2023-07-03 15:43:15> Processing of F:/AP_Paper_Benchmark/PXD015087_Thermo\\Hela_P035214_BA1_S00_A00_R16.raw for step raw_conversion succeeded. 34.00 %\n"
     ]
    },
    {
     "name": "stderr",
     "output_type": "stream",
     "text": [
      "\r",
      " 34%|███████████████████████████▏                                                    | 0.34/1 [04:35<04:40, 425.48s/it]"
     ]
    },
    {
     "name": "stdout",
     "output_type": "stream",
     "text": [
      "2023-07-03 15:43:15> Processing of F:/AP_Paper_Benchmark/PXD015087_Thermo\\Hela_P035214_BA1_S00_A00_R17.raw for step raw_conversion succeeded. 34.50 %\n",
      "2023-07-03 15:43:15> Processing of F:/AP_Paper_Benchmark/PXD015087_Thermo\\Hela_P035214_BA1_S00_A00_R18.raw for step raw_conversion succeeded. 35.00 %\n",
      "2023-07-03 15:43:20> Processing of F:/AP_Paper_Benchmark/PXD015087_Thermo\\Hela_P035214_BA1_S00_A00_R19.raw for step raw_conversion succeeded. 35.50 %\n"
     ]
    },
    {
     "name": "stderr",
     "output_type": "stream",
     "text": [
      "\r",
      " 36%|████████████████████████████                                                   | 0.355/1 [04:39<04:10, 387.94s/it]"
     ]
    },
    {
     "name": "stdout",
     "output_type": "stream",
     "text": [
      "2023-07-03 15:43:20> Processing of F:/AP_Paper_Benchmark/PXD015087_Thermo\\Hela_P035214_BA1_S00_A00_R2.raw for step raw_conversion succeeded. 36.00 %\n"
     ]
    },
    {
     "name": "stderr",
     "output_type": "stream",
     "text": [
      "\r",
      " 36%|████████████████████████████▊                                                   | 0.36/1 [04:39<03:43, 349.49s/it]"
     ]
    },
    {
     "name": "stdout",
     "output_type": "stream",
     "text": [
      "2023-07-03 15:44:24> Processing of F:/AP_Paper_Benchmark/PXD015087_Thermo\\Hela_P035214_BA1_S00_A00_R20.raw for step raw_conversion succeeded. 36.50 %\n"
     ]
    },
    {
     "name": "stderr",
     "output_type": "stream",
     "text": [
      "\r",
      " 36%|████████████████████████████▍                                                 | 0.365/1 [05:43<21:21, 2017.74s/it]"
     ]
    },
    {
     "name": "stdout",
     "output_type": "stream",
     "text": [
      "2023-07-03 15:44:24> Processing of F:/AP_Paper_Benchmark/PXD015087_Thermo\\Hela_P035214_BA1_S00_A00_R3.raw for step raw_conversion succeeded. 37.00 %\n",
      "2023-07-03 15:44:24> Processing of F:/AP_Paper_Benchmark/PXD015087_Thermo\\Hela_P035214_BA1_S00_A00_R4.raw for step raw_conversion succeeded. 37.50 %\n",
      "2023-07-03 15:44:24> Processing of F:/AP_Paper_Benchmark/PXD015087_Thermo\\Hela_P035214_BA1_S00_A00_R5.raw for step raw_conversion succeeded. 38.00 %\n",
      "2023-07-03 15:44:24> Processing of F:/AP_Paper_Benchmark/PXD015087_Thermo\\Hela_P035214_BA1_S00_A00_R6.raw for step raw_conversion succeeded. 38.50 %\n",
      "2023-07-03 15:44:26> Processing of F:/AP_Paper_Benchmark/PXD015087_Thermo\\Hela_P035214_BA1_S00_A00_R7.raw for step raw_conversion succeeded. 39.00 %\n"
     ]
    },
    {
     "name": "stderr",
     "output_type": "stream",
     "text": [
      "\r",
      " 39%|██████████████████████████████▊                                                | 0.39/1 [05:45<10:51, 1067.51s/it]"
     ]
    },
    {
     "name": "stdout",
     "output_type": "stream",
     "text": [
      "2023-07-03 15:44:26> Processing of F:/AP_Paper_Benchmark/PXD015087_Thermo\\Hela_P035214_BA1_S00_A00_R8.raw for step raw_conversion succeeded. 39.50 %\n",
      "2023-07-03 15:44:26> Processing of F:/AP_Paper_Benchmark/PXD015087_Thermo\\Hela_P035214_BA1_S00_A00_R9.raw for step raw_conversion succeeded. 40.00 %\n",
      "2023-07-03 15:44:26> Processing of F:/AP_Paper_Benchmark/PXD015087_Thermo\\Hela_P035215_BA1_S00_A00_R1.raw for step raw_conversion succeeded. 40.50 %\n",
      "2023-07-03 15:44:26> Processing of F:/AP_Paper_Benchmark/PXD015087_Thermo\\Hela_P035215_BA1_S00_A00_R10.raw for step raw_conversion succeeded. 41.00 %\n",
      "2023-07-03 15:44:26> Processing of F:/AP_Paper_Benchmark/PXD015087_Thermo\\Hela_P035215_BA1_S00_A00_R11.raw for step raw_conversion succeeded. 41.50 %\n",
      "2023-07-03 15:44:26> Processing of F:/AP_Paper_Benchmark/PXD015087_Thermo\\Hela_P035215_BA1_S00_A00_R12.raw for step raw_conversion succeeded. 42.00 %\n",
      "2023-07-03 15:44:26> Processing of F:/AP_Paper_Benchmark/PXD015087_Thermo\\Hela_P035215_BA1_S00_A00_R13.raw for step raw_conversion succeeded. 42.50 %\n",
      "2023-07-03 15:44:26> Processing of F:/AP_Paper_Benchmark/PXD015087_Thermo\\Hela_P035215_BA1_S00_A00_R14.raw for step raw_conversion succeeded. 43.00 %\n",
      "2023-07-03 15:44:26> Processing of F:/AP_Paper_Benchmark/PXD015087_Thermo\\Hela_P035215_BA1_S00_A00_R15.raw for step raw_conversion succeeded. 43.50 %\n",
      "2023-07-03 15:44:26> Processing of F:/AP_Paper_Benchmark/PXD015087_Thermo\\Hela_P035215_BA1_S00_A00_R16.raw for step raw_conversion succeeded. 44.00 %\n"
     ]
    },
    {
     "name": "stderr",
     "output_type": "stream",
     "text": [
      "\r",
      " 44%|███████████████████████████████████▏                                            | 0.44/1 [05:45<04:12, 451.75s/it]"
     ]
    },
    {
     "name": "stdout",
     "output_type": "stream",
     "text": [
      "2023-07-03 15:44:26> Processing of F:/AP_Paper_Benchmark/PXD015087_Thermo\\Hela_P035215_BA1_S00_A00_R17.raw for step raw_conversion succeeded. 44.50 %\n",
      "2023-07-03 15:44:26> Processing of F:/AP_Paper_Benchmark/PXD015087_Thermo\\Hela_P035215_BA1_S00_A00_R18.raw for step raw_conversion succeeded. 45.00 %\n",
      "2023-07-03 15:44:28> Processing of F:/AP_Paper_Benchmark/PXD015087_Thermo\\Hela_P035215_BA1_S00_A00_R19.raw for step raw_conversion succeeded. 45.50 %\n"
     ]
    },
    {
     "name": "stderr",
     "output_type": "stream",
     "text": [
      "\r",
      " 46%|███████████████████████████████████▉                                           | 0.455/1 [05:47<03:27, 381.61s/it]"
     ]
    },
    {
     "name": "stdout",
     "output_type": "stream",
     "text": [
      "2023-07-03 15:44:39> Processing of F:/AP_Paper_Benchmark/PXD015087_Thermo\\Hela_P035215_BA1_S00_A00_R2.raw for step raw_conversion succeeded. 46.00 %\n"
     ]
    },
    {
     "name": "stderr",
     "output_type": "stream",
     "text": [
      "\r",
      " 46%|████████████████████████████████████▊                                           | 0.46/1 [05:58<04:53, 542.88s/it]"
     ]
    },
    {
     "name": "stdout",
     "output_type": "stream",
     "text": [
      "2023-07-03 15:44:40> Processing of F:/AP_Paper_Benchmark/PXD015087_Thermo\\Hela_P035215_BA1_S00_A00_R20.raw for step raw_conversion succeeded. 46.50 %\n"
     ]
    },
    {
     "name": "stderr",
     "output_type": "stream",
     "text": [
      "\r",
      " 46%|████████████████████████████████████▋                                          | 0.465/1 [05:59<04:33, 511.86s/it]"
     ]
    },
    {
     "name": "stdout",
     "output_type": "stream",
     "text": [
      "2023-07-03 15:44:40> Processing of F:/AP_Paper_Benchmark/PXD015087_Thermo\\Hela_P035215_BA1_S00_A00_R3.raw for step raw_conversion succeeded. 47.00 %\n",
      "2023-07-03 15:44:42> Processing of F:/AP_Paper_Benchmark/PXD015087_Thermo\\Hela_P035215_BA1_S00_A00_R4.raw for step raw_conversion succeeded. 47.50 %\n"
     ]
    },
    {
     "name": "stderr",
     "output_type": "stream",
     "text": [
      "\r",
      " 48%|█████████████████████████████████████▌                                         | 0.475/1 [06:01<03:49, 437.66s/it]"
     ]
    },
    {
     "name": "stdout",
     "output_type": "stream",
     "text": [
      "2023-07-03 15:44:45> Processing of F:/AP_Paper_Benchmark/PXD015087_Thermo\\Hela_P035215_BA1_S00_A00_R5.raw for step raw_conversion succeeded. 48.00 %\n"
     ]
    },
    {
     "name": "stderr",
     "output_type": "stream",
     "text": [
      "\r",
      " 48%|██████████████████████████████████████▍                                         | 0.48/1 [06:04<03:56, 454.97s/it]"
     ]
    },
    {
     "name": "stdout",
     "output_type": "stream",
     "text": [
      "2023-07-03 15:45:45> Processing of F:/AP_Paper_Benchmark/PXD015087_Thermo\\Hela_P035215_BA1_S00_A00_R6.raw for step raw_conversion succeeded. 48.50 %\n"
     ]
    },
    {
     "name": "stderr",
     "output_type": "stream",
     "text": [
      "\r",
      " 48%|█████████████████████████████████████▊                                        | 0.485/1 [07:04<21:04, 2455.45s/it]"
     ]
    },
    {
     "name": "stdout",
     "output_type": "stream",
     "text": [
      "2023-07-03 15:45:45> Processing of F:/AP_Paper_Benchmark/PXD015087_Thermo\\Hela_P035215_BA1_S00_A00_R7.raw for step raw_conversion succeeded. 49.00 %\n",
      "2023-07-03 15:45:45> Processing of F:/AP_Paper_Benchmark/PXD015087_Thermo\\Hela_P035215_BA1_S00_A00_R8.raw for step raw_conversion succeeded. 49.50 %\n",
      "2023-07-03 15:45:45> Processing of F:/AP_Paper_Benchmark/PXD015087_Thermo\\Hela_P035215_BA1_S00_A00_R9.raw for step raw_conversion succeeded. 50.00 %\n",
      "2023-07-03 15:45:45> Processing of F:/AP_Paper_Benchmark/PXD015087_Thermo\\Hela_P035216_BA1_S00_A00_R1.raw for step raw_conversion succeeded. 50.50 %\n",
      "2023-07-03 15:45:47> Processing of F:/AP_Paper_Benchmark/PXD015087_Thermo\\Hela_P035216_BA1_S00_A00_R10.raw for step raw_conversion succeeded. 51.00 %\n"
     ]
    },
    {
     "name": "stderr",
     "output_type": "stream",
     "text": [
      "\r",
      " 51%|████████████████████████████████████████▎                                      | 0.51/1 [07:06<09:17, 1138.33s/it]"
     ]
    },
    {
     "name": "stdout",
     "output_type": "stream",
     "text": [
      "2023-07-03 15:45:47> Processing of F:/AP_Paper_Benchmark/PXD015087_Thermo\\Hela_P035216_BA1_S00_A00_R11.raw for step raw_conversion succeeded. 51.50 %\n",
      "2023-07-03 15:45:47> Processing of F:/AP_Paper_Benchmark/PXD015087_Thermo\\Hela_P035216_BA1_S00_A00_R12.raw for step raw_conversion succeeded. 52.00 %\n",
      "2023-07-03 15:45:47> Processing of F:/AP_Paper_Benchmark/PXD015087_Thermo\\Hela_P035216_BA1_S00_A00_R13.raw for step raw_conversion succeeded. 52.50 %\n",
      "2023-07-03 15:45:50> Processing of F:/AP_Paper_Benchmark/PXD015087_Thermo\\Hela_P035216_BA1_S00_A00_R14.raw for step raw_conversion succeeded. 53.00 %\n"
     ]
    },
    {
     "name": "stderr",
     "output_type": "stream",
     "text": [
      "\r",
      " 53%|██████████████████████████████████████████▍                                     | 0.53/1 [07:09<05:57, 761.70s/it]"
     ]
    },
    {
     "name": "stdout",
     "output_type": "stream",
     "text": [
      "2023-07-03 15:45:50> Processing of F:/AP_Paper_Benchmark/PXD015087_Thermo\\Hela_P035216_BA1_S00_A00_R15.raw for step raw_conversion succeeded. 53.50 %\n",
      "2023-07-03 15:45:52> Processing of F:/AP_Paper_Benchmark/PXD015087_Thermo\\Hela_P035216_BA1_S00_A00_R16.raw for step raw_conversion succeeded. 54.00 %\n"
     ]
    },
    {
     "name": "stderr",
     "output_type": "stream",
     "text": [
      "\r",
      " 54%|███████████████████████████████████████████▏                                    | 0.54/1 [07:11<04:50, 631.86s/it]"
     ]
    },
    {
     "name": "stdout",
     "output_type": "stream",
     "text": [
      "2023-07-03 15:45:52> Processing of F:/AP_Paper_Benchmark/PXD015087_Thermo\\Hela_P035216_BA1_S00_A00_R17.raw for step raw_conversion succeeded. 54.50 %\n",
      "2023-07-03 15:45:52> Processing of F:/AP_Paper_Benchmark/PXD015087_Thermo\\Hela_P035216_BA1_S00_A00_R18.raw for step raw_conversion succeeded. 55.00 %\n",
      "2023-07-03 15:45:52> Processing of F:/AP_Paper_Benchmark/PXD015087_Thermo\\Hela_P035216_BA1_S00_A00_R19.raw for step raw_conversion succeeded. 55.50 %\n",
      "2023-07-03 15:45:52> Processing of F:/AP_Paper_Benchmark/PXD015087_Thermo\\Hela_P035216_BA1_S00_A00_R2.raw for step raw_conversion succeeded. 56.00 %\n",
      "2023-07-03 15:45:52> Processing of F:/AP_Paper_Benchmark/PXD015087_Thermo\\Hela_P035216_BA1_S00_A00_R20.raw for step raw_conversion succeeded. 56.50 %\n",
      "2023-07-03 15:45:52> Processing of F:/AP_Paper_Benchmark/PXD015087_Thermo\\Hela_P035216_BA1_S00_A00_R3.raw for step raw_conversion succeeded. 57.00 %\n",
      "2023-07-03 15:45:56> Processing of F:/AP_Paper_Benchmark/PXD015087_Thermo\\Hela_P035216_BA1_S00_A00_R4.raw for step raw_conversion succeeded. 57.50 %\n"
     ]
    },
    {
     "name": "stderr",
     "output_type": "stream",
     "text": [
      "\r",
      " 57%|█████████████████████████████████████████████▍                                 | 0.575/1 [07:15<02:33, 361.41s/it]"
     ]
    },
    {
     "name": "stdout",
     "output_type": "stream",
     "text": [
      "2023-07-03 15:46:06> Processing of F:/AP_Paper_Benchmark/PXD015087_Thermo\\Hela_P035216_BA1_S00_A00_R5.raw for step raw_conversion succeeded. 58.00 %\n"
     ]
    },
    {
     "name": "stderr",
     "output_type": "stream",
     "text": [
      "\r",
      " 58%|██████████████████████████████████████████████▍                                 | 0.58/1 [07:25<03:35, 513.39s/it]"
     ]
    },
    {
     "name": "stdout",
     "output_type": "stream",
     "text": [
      "2023-07-03 15:46:06> Processing of F:/AP_Paper_Benchmark/PXD015087_Thermo\\Hela_P035216_BA1_S00_A00_R6.raw for step raw_conversion succeeded. 58.50 %\n",
      "2023-07-03 15:46:06> Processing of F:/AP_Paper_Benchmark/PXD015087_Thermo\\Hela_P035216_BA1_S00_A00_R7.raw for step raw_conversion succeeded. 59.00 %\n",
      "2023-07-03 15:46:07> Processing of F:/AP_Paper_Benchmark/PXD015087_Thermo\\Hela_P035216_BA1_S00_A00_R8.raw for step raw_conversion succeeded. 59.50 %\n"
     ]
    },
    {
     "name": "stderr",
     "output_type": "stream",
     "text": [
      "\r",
      " 60%|███████████████████████████████████████████████                                | 0.595/1 [07:26<02:36, 387.10s/it]"
     ]
    },
    {
     "name": "stdout",
     "output_type": "stream",
     "text": [
      "2023-07-03 15:46:12> Processing of F:/AP_Paper_Benchmark/PXD015087_Thermo\\Hela_P035216_BA1_S00_A00_R9.raw for step raw_conversion succeeded. 60.00 %\n"
     ]
    },
    {
     "name": "stderr",
     "output_type": "stream",
     "text": [
      "\r",
      " 60%|████████████████████████████████████████████████▌                                | 0.6/1 [07:31<03:08, 471.24s/it]"
     ]
    },
    {
     "name": "stdout",
     "output_type": "stream",
     "text": [
      "2023-07-03 15:47:11> Processing of F:/AP_Paper_Benchmark/PXD015087_Thermo\\Hela_P035217_BA1_S00_A00_R1.raw for step raw_conversion succeeded. 60.50 %\n"
     ]
    },
    {
     "name": "stderr",
     "output_type": "stream",
     "text": [
      "\r",
      " 60%|███████████████████████████████████████████████▏                              | 0.605/1 [08:30<14:05, 2139.40s/it]"
     ]
    },
    {
     "name": "stdout",
     "output_type": "stream",
     "text": [
      "2023-07-03 15:47:11> Processing of F:/AP_Paper_Benchmark/PXD015087_Thermo\\Hela_P035217_BA1_S00_A00_R10.raw for step raw_conversion succeeded. 61.00 %\n",
      "2023-07-03 15:47:11> Processing of F:/AP_Paper_Benchmark/PXD015087_Thermo\\Hela_P035217_BA1_S00_A00_R11.raw for step raw_conversion succeeded. 61.50 %\n",
      "2023-07-03 15:47:11> Processing of F:/AP_Paper_Benchmark/PXD015087_Thermo\\Hela_P035217_BA1_S00_A00_R12.raw for step raw_conversion succeeded. 62.00 %\n",
      "2023-07-03 15:47:12> Processing of F:/AP_Paper_Benchmark/PXD015087_Thermo\\Hela_P035217_BA1_S00_A00_R13.raw for step raw_conversion succeeded. 62.50 %\n"
     ]
    },
    {
     "name": "stderr",
     "output_type": "stream",
     "text": [
      "\r",
      " 62%|████████████████████████████████████████████████▊                             | 0.625/1 [08:31<07:24, 1185.05s/it]"
     ]
    },
    {
     "name": "stdout",
     "output_type": "stream",
     "text": [
      "2023-07-03 15:47:13> Processing of F:/AP_Paper_Benchmark/PXD015087_Thermo\\Hela_P035217_BA1_S00_A00_R14.raw for step raw_conversion succeeded. 63.00 %\n"
     ]
    },
    {
     "name": "stderr",
     "output_type": "stream",
     "text": [
      "\r",
      " 63%|█████████████████████████████████████████████████▊                             | 0.63/1 [08:32<06:24, 1039.89s/it]"
     ]
    },
    {
     "name": "stdout",
     "output_type": "stream",
     "text": [
      "2023-07-03 15:47:13> Processing of F:/AP_Paper_Benchmark/PXD015087_Thermo\\Hela_P035217_BA1_S00_A00_R15.raw for step raw_conversion succeeded. 63.50 %\n"
     ]
    },
    {
     "name": "stderr",
     "output_type": "stream",
     "text": [
      "\r",
      " 64%|██████████████████████████████████████████████████▏                            | 0.635/1 [08:32<05:17, 870.53s/it]"
     ]
    },
    {
     "name": "stdout",
     "output_type": "stream",
     "text": [
      "2023-07-03 15:47:13> Processing of F:/AP_Paper_Benchmark/PXD015087_Thermo\\Hela_P035217_BA1_S00_A00_R16.raw for step raw_conversion succeeded. 64.00 %\n",
      "2023-07-03 15:47:13> Processing of F:/AP_Paper_Benchmark/PXD015087_Thermo\\Hela_P035217_BA1_S00_A00_R17.raw for step raw_conversion succeeded. 64.50 %\n",
      "2023-07-03 15:47:13> Processing of F:/AP_Paper_Benchmark/PXD015087_Thermo\\Hela_P035217_BA1_S00_A00_R18.raw for step raw_conversion succeeded. 65.00 %\n"
     ]
    },
    {
     "name": "stderr",
     "output_type": "stream",
     "text": [
      "\r",
      " 65%|████████████████████████████████████████████████████                            | 0.65/1 [08:32<03:01, 517.54s/it]"
     ]
    },
    {
     "name": "stdout",
     "output_type": "stream",
     "text": [
      "2023-07-03 15:47:13> Processing of F:/AP_Paper_Benchmark/PXD015087_Thermo\\Hela_P035217_BA1_S00_A00_R19.raw for step raw_conversion succeeded. 65.50 %\n",
      "2023-07-03 15:47:14> Processing of F:/AP_Paper_Benchmark/PXD015087_Thermo\\Hela_P035217_BA1_S00_A00_R2.raw for step raw_conversion succeeded. 66.00 %\n"
     ]
    },
    {
     "name": "stderr",
     "output_type": "stream",
     "text": [
      "\r",
      " 66%|████████████████████████████████████████████████████▊                           | 0.66/1 [08:33<02:13, 391.75s/it]"
     ]
    },
    {
     "name": "stdout",
     "output_type": "stream",
     "text": [
      "2023-07-03 15:47:14> Processing of F:/AP_Paper_Benchmark/PXD015087_Thermo\\Hela_P035217_BA1_S00_A00_R20.raw for step raw_conversion succeeded. 66.50 %\n",
      "2023-07-03 15:47:14> Processing of F:/AP_Paper_Benchmark/PXD015087_Thermo\\Hela_P035217_BA1_S00_A00_R21.raw for step raw_conversion succeeded. 67.00 %\n",
      "2023-07-03 15:47:15> Processing of F:/AP_Paper_Benchmark/PXD015087_Thermo\\Hela_P035217_BA1_S00_A00_R3.raw for step raw_conversion succeeded. 67.50 %\n"
     ]
    },
    {
     "name": "stderr",
     "output_type": "stream",
     "text": [
      "\r",
      " 68%|█████████████████████████████████████████████████████▎                         | 0.675/1 [08:34<01:28, 272.09s/it]"
     ]
    },
    {
     "name": "stdout",
     "output_type": "stream",
     "text": [
      "2023-07-03 15:47:15> Processing of F:/AP_Paper_Benchmark/PXD015087_Thermo\\Hela_P035217_BA1_S00_A00_R5.raw for step raw_conversion succeeded. 68.00 %\n",
      "2023-07-03 15:47:16> Processing of F:/AP_Paper_Benchmark/PXD015087_Thermo\\Hela_P035217_BA1_S00_A00_R6.raw for step raw_conversion succeeded. 68.50 %\n"
     ]
    },
    {
     "name": "stderr",
     "output_type": "stream",
     "text": [
      "\r",
      " 68%|██████████████████████████████████████████████████████                         | 0.685/1 [08:35<01:09, 220.53s/it]"
     ]
    },
    {
     "name": "stdout",
     "output_type": "stream",
     "text": [
      "2023-07-03 15:47:17> Processing of F:/AP_Paper_Benchmark/PXD015087_Thermo\\Hela_P035217_BA1_S00_A00_R7.raw for step raw_conversion succeeded. 69.00 %\n"
     ]
    },
    {
     "name": "stderr",
     "output_type": "stream",
     "text": [
      "\r",
      " 69%|███████████████████████████████████████████████████████▏                        | 0.69/1 [08:36<01:10, 225.83s/it]"
     ]
    },
    {
     "name": "stdout",
     "output_type": "stream",
     "text": [
      "2023-07-03 15:47:21> Processing of F:/AP_Paper_Benchmark/PXD015087_Thermo\\Hela_P035217_BA1_S00_A00_R8.raw for step raw_conversion succeeded. 69.50 %\n"
     ]
    },
    {
     "name": "stderr",
     "output_type": "stream",
     "text": [
      "\r",
      " 70%|██████████████████████████████████████████████████████▉                        | 0.695/1 [08:40<01:40, 330.67s/it]"
     ]
    },
    {
     "name": "stdout",
     "output_type": "stream",
     "text": [
      "2023-07-03 15:47:27> Processing of F:/AP_Paper_Benchmark/PXD015087_Thermo\\Hela_P035217_BA1_S00_A00_R9.raw for step raw_conversion succeeded. 70.00 %\n"
     ]
    },
    {
     "name": "stderr",
     "output_type": "stream",
     "text": [
      "\r",
      " 70%|████████████████████████████████████████████████████████▋                        | 0.7/1 [08:46<02:30, 500.45s/it]"
     ]
    },
    {
     "name": "stdout",
     "output_type": "stream",
     "text": [
      "2023-07-03 15:47:27> Processing of F:/AP_Paper_Benchmark/PXD015087_Thermo\\Hela_P035218_BA1_S00_A00_R1.raw for step raw_conversion succeeded. 70.50 %\n",
      "2023-07-03 15:47:30> Processing of F:/AP_Paper_Benchmark/PXD015087_Thermo\\Hela_P035218_BA1_S00_A00_R10.raw for step raw_conversion succeeded. 71.00 %\n"
     ]
    },
    {
     "name": "stderr",
     "output_type": "stream",
     "text": [
      "\r",
      " 71%|████████████████████████████████████████████████████████▊                       | 0.71/1 [08:49<02:03, 427.44s/it]"
     ]
    },
    {
     "name": "stdout",
     "output_type": "stream",
     "text": [
      "2023-07-03 15:47:30> Processing of F:/AP_Paper_Benchmark/PXD015087_Thermo\\Hela_P035218_BA1_S00_A00_R11.raw for step raw_conversion succeeded. 71.50 %\n",
      "2023-07-03 15:47:36> Processing of F:/AP_Paper_Benchmark/PXD015087_Thermo\\Hela_P035218_BA1_S00_A00_R12.raw for step raw_conversion succeeded. 72.00 %\n"
     ]
    },
    {
     "name": "stderr",
     "output_type": "stream",
     "text": [
      "\r",
      " 72%|█████████████████████████████████████████████████████████▌                      | 0.72/1 [08:55<02:16, 489.06s/it]"
     ]
    },
    {
     "name": "stdout",
     "output_type": "stream",
     "text": [
      "2023-07-03 15:48:28> Processing of F:/AP_Paper_Benchmark/PXD015087_Thermo\\Hela_P035218_BA1_S00_A00_R13.raw for step raw_conversion succeeded. 72.50 %\n"
     ]
    },
    {
     "name": "stderr",
     "output_type": "stream",
     "text": [
      "\r",
      " 72%|████████████████████████████████████████████████████████▌                     | 0.725/1 [09:47<11:18, 2466.99s/it]"
     ]
    },
    {
     "name": "stdout",
     "output_type": "stream",
     "text": [
      "2023-07-03 15:48:30> Processing of F:/AP_Paper_Benchmark/PXD015087_Thermo\\Hela_P035218_BA1_S00_A00_R14.raw for step raw_conversion succeeded. 73.00 %\n"
     ]
    },
    {
     "name": "stderr",
     "output_type": "stream",
     "text": [
      "\r",
      " 73%|█████████████████████████████████████████████████████████▋                     | 0.73/1 [09:49<09:01, 2005.59s/it]"
     ]
    },
    {
     "name": "stdout",
     "output_type": "stream",
     "text": [
      "2023-07-03 15:48:35> Processing of F:/AP_Paper_Benchmark/PXD015087_Thermo\\Hela_P035218_BA1_S00_A00_R15.raw for step raw_conversion succeeded. 73.50 %\n"
     ]
    },
    {
     "name": "stderr",
     "output_type": "stream",
     "text": [
      "\r",
      " 74%|█████████████████████████████████████████████████████████▎                    | 0.735/1 [09:54<07:43, 1748.00s/it]"
     ]
    },
    {
     "name": "stdout",
     "output_type": "stream",
     "text": [
      "2023-07-03 15:48:35> Processing of F:/AP_Paper_Benchmark/PXD015087_Thermo\\Hela_P035218_BA1_S00_A00_R16.raw for step raw_conversion succeeded. 74.00 %\n",
      "2023-07-03 15:48:35> Processing of F:/AP_Paper_Benchmark/PXD015087_Thermo\\Hela_P035218_BA1_S00_A00_R17.raw for step raw_conversion succeeded. 74.50 %\n",
      "2023-07-03 15:48:36> Processing of F:/AP_Paper_Benchmark/PXD015087_Thermo\\Hela_P035218_BA1_S00_A00_R18.raw for step raw_conversion succeeded. 75.00 %\n"
     ]
    },
    {
     "name": "stderr",
     "output_type": "stream",
     "text": [
      "\r",
      " 75%|████████████████████████████████████████████████████████████                    | 0.75/1 [09:55<03:49, 918.13s/it]"
     ]
    },
    {
     "name": "stdout",
     "output_type": "stream",
     "text": [
      "2023-07-03 15:48:36> Processing of F:/AP_Paper_Benchmark/PXD015087_Thermo\\Hela_P035218_BA1_S00_A00_R19.raw for step raw_conversion succeeded. 75.50 %\n",
      "2023-07-03 15:48:36> Processing of F:/AP_Paper_Benchmark/PXD015087_Thermo\\Hela_P035218_BA1_S00_A00_R2.raw for step raw_conversion succeeded. 76.00 %\n",
      "2023-07-03 15:48:36> Processing of F:/AP_Paper_Benchmark/PXD015087_Thermo\\Hela_P035218_BA1_S00_A00_R20.raw for step raw_conversion succeeded. 76.50 %\n",
      "2023-07-03 15:48:37> Processing of F:/AP_Paper_Benchmark/PXD015087_Thermo\\Hela_P035218_BA1_S00_A00_R3.raw for step raw_conversion succeeded. 77.00 %\n"
     ]
    },
    {
     "name": "stderr",
     "output_type": "stream",
     "text": [
      "\r",
      " 77%|█████████████████████████████████████████████████████████████▌                  | 0.77/1 [09:56<01:49, 476.05s/it]"
     ]
    },
    {
     "name": "stdout",
     "output_type": "stream",
     "text": [
      "2023-07-03 15:48:37> Processing of F:/AP_Paper_Benchmark/PXD015087_Thermo\\Hela_P035218_BA1_S00_A00_R4.raw for step raw_conversion succeeded. 77.50 %\n",
      "2023-07-03 15:48:37> Processing of F:/AP_Paper_Benchmark/PXD015087_Thermo\\Hela_P035218_BA1_S00_A00_R5.raw for step raw_conversion succeeded. 78.00 %\n",
      "2023-07-03 15:48:39> Processing of F:/AP_Paper_Benchmark/PXD015087_Thermo\\Hela_P035218_BA1_S00_A00_R6.raw for step raw_conversion succeeded. 78.50 %\n"
     ]
    },
    {
     "name": "stderr",
     "output_type": "stream",
     "text": [
      "\r",
      " 78%|██████████████████████████████████████████████████████████████                 | 0.785/1 [09:58<01:17, 360.95s/it]"
     ]
    },
    {
     "name": "stdout",
     "output_type": "stream",
     "text": [
      "2023-07-03 15:48:39> Processing of F:/AP_Paper_Benchmark/PXD015087_Thermo\\Hela_P035218_BA1_S00_A00_R7.raw for step raw_conversion succeeded. 79.00 %\n",
      "2023-07-03 15:48:41> Processing of F:/AP_Paper_Benchmark/PXD015087_Thermo\\Hela_P035218_BA1_S00_A00_R8.raw for step raw_conversion succeeded. 79.50 %\n"
     ]
    },
    {
     "name": "stderr",
     "output_type": "stream",
     "text": [
      "\r",
      " 80%|██████████████████████████████████████████████████████████████▊                | 0.795/1 [10:00<01:06, 323.25s/it]"
     ]
    },
    {
     "name": "stdout",
     "output_type": "stream",
     "text": [
      "2023-07-03 15:48:41> Processing of F:/AP_Paper_Benchmark/PXD015087_Thermo\\Hela_P035218_BA1_S00_A00_R9.raw for step raw_conversion succeeded. 80.00 %\n",
      "2023-07-03 15:48:41> Processing of F:/AP_Paper_Benchmark/PXD015087_Thermo\\Hela_P035219_BA1_S00_A00_R1.raw for step raw_conversion succeeded. 80.50 %\n",
      "2023-07-03 15:48:43> Processing of F:/AP_Paper_Benchmark/PXD015087_Thermo\\Hela_P035219_BA1_S00_A00_R10.raw for step raw_conversion succeeded. 81.00 %\n"
     ]
    },
    {
     "name": "stderr",
     "output_type": "stream",
     "text": [
      "\r",
      " 81%|████████████████████████████████████████████████████████████████▊               | 0.81/1 [10:02<00:48, 256.63s/it]"
     ]
    },
    {
     "name": "stdout",
     "output_type": "stream",
     "text": [
      "2023-07-03 15:48:43> Processing of F:/AP_Paper_Benchmark/PXD015087_Thermo\\Hela_P035219_BA1_S00_A00_R11.raw for step raw_conversion succeeded. 81.50 %\n",
      "2023-07-03 15:48:52> Processing of F:/AP_Paper_Benchmark/PXD015087_Thermo\\Hela_P035219_BA1_S00_A00_R12.raw for step raw_conversion succeeded. 82.00 %\n"
     ]
    },
    {
     "name": "stderr",
     "output_type": "stream",
     "text": [
      "\r",
      " 82%|█████████████████████████████████████████████████████████████████▌              | 0.82/1 [10:12<01:17, 432.55s/it]"
     ]
    },
    {
     "name": "stdout",
     "output_type": "stream",
     "text": [
      "2023-07-03 15:48:52> Processing of F:/AP_Paper_Benchmark/PXD015087_Thermo\\Hela_P035219_BA1_S00_A00_R13.raw for step raw_conversion succeeded. 82.50 %\n",
      "2023-07-03 15:48:52> Processing of F:/AP_Paper_Benchmark/PXD015087_Thermo\\Hela_P035219_BA1_S00_A00_R14.raw for step raw_conversion succeeded. 83.00 %\n",
      "2023-07-03 15:48:55> Processing of F:/AP_Paper_Benchmark/PXD015087_Thermo\\Hela_P035219_BA1_S00_A00_R15.raw for step raw_conversion succeeded. 83.50 %\n"
     ]
    },
    {
     "name": "stderr",
     "output_type": "stream",
     "text": [
      "\r",
      " 84%|█████████████████████████████████████████████████████████████████▉             | 0.835/1 [10:14<00:54, 329.51s/it]"
     ]
    },
    {
     "name": "stdout",
     "output_type": "stream",
     "text": [
      "2023-07-03 15:49:01> Processing of F:/AP_Paper_Benchmark/PXD015087_Thermo\\Hela_P035219_BA1_S00_A00_R16.raw for step raw_conversion succeeded. 84.00 %\n"
     ]
    },
    {
     "name": "stderr",
     "output_type": "stream",
     "text": [
      "\r",
      " 84%|███████████████████████████████████████████████████████████████████▏            | 0.84/1 [10:20<01:12, 455.63s/it]"
     ]
    },
    {
     "name": "stdout",
     "output_type": "stream",
     "text": [
      "2023-07-03 15:49:52> Processing of F:/AP_Paper_Benchmark/PXD015087_Thermo\\Hela_P035219_BA1_S00_A00_R17.raw for step raw_conversion succeeded. 84.50 %\n"
     ]
    },
    {
     "name": "stderr",
     "output_type": "stream",
     "text": [
      "\r",
      " 84%|█████████████████████████████████████████████████████████████████▉            | 0.845/1 [11:11<05:25, 2103.10s/it]"
     ]
    },
    {
     "name": "stdout",
     "output_type": "stream",
     "text": [
      "2023-07-03 15:49:52> Processing of F:/AP_Paper_Benchmark/PXD015087_Thermo\\Hela_P035219_BA1_S00_A00_R18.raw for step raw_conversion succeeded. 85.00 %\n",
      "2023-07-03 15:49:54> Processing of F:/AP_Paper_Benchmark/PXD015087_Thermo\\Hela_P035219_BA1_S00_A00_R19.raw for step raw_conversion succeeded. 85.50 %\n"
     ]
    },
    {
     "name": "stderr",
     "output_type": "stream",
     "text": [
      "\r",
      " 86%|██████████████████████████████████████████████████████████████████▋           | 0.855/1 [11:13<03:34, 1481.24s/it]"
     ]
    },
    {
     "name": "stdout",
     "output_type": "stream",
     "text": [
      "2023-07-03 15:50:00> Processing of F:/AP_Paper_Benchmark/PXD015087_Thermo\\Hela_P035219_BA1_S00_A00_R2.raw for step raw_conversion succeeded. 86.00 %\n"
     ]
    },
    {
     "name": "stderr",
     "output_type": "stream",
     "text": [
      "\r",
      " 86%|███████████████████████████████████████████████████████████████████▉           | 0.86/1 [11:19<03:22, 1443.16s/it]"
     ]
    },
    {
     "name": "stdout",
     "output_type": "stream",
     "text": [
      "2023-07-03 15:50:00> Processing of F:/AP_Paper_Benchmark/PXD015087_Thermo\\Hela_P035219_BA1_S00_A00_R20.raw for step raw_conversion succeeded. 86.50 %\n",
      "2023-07-03 15:50:00> Processing of F:/AP_Paper_Benchmark/PXD015087_Thermo\\Hela_P035219_BA1_S00_A00_R3.raw for step raw_conversion succeeded. 87.00 %\n",
      "2023-07-03 15:50:00> Processing of F:/AP_Paper_Benchmark/PXD015087_Thermo\\Hela_P035219_BA1_S00_A00_R4.raw for step raw_conversion succeeded. 87.50 %\n",
      "2023-07-03 15:50:00> Processing of F:/AP_Paper_Benchmark/PXD015087_Thermo\\Hela_P035219_BA1_S00_A00_R5.raw for step raw_conversion succeeded. 88.00 %\n",
      "2023-07-03 15:50:00> Processing of F:/AP_Paper_Benchmark/PXD015087_Thermo\\Hela_P035219_BA1_S00_A00_R6.raw for step raw_conversion succeeded. 88.50 %\n",
      "2023-07-03 15:50:00> Processing of F:/AP_Paper_Benchmark/PXD015087_Thermo\\Hela_P035219_BA1_S00_A00_R7.raw for step raw_conversion succeeded. 89.00 %\n",
      "2023-07-03 15:50:00> Processing of F:/AP_Paper_Benchmark/PXD015087_Thermo\\Hela_P035219_BA1_S00_A00_R8.raw for step raw_conversion succeeded. 89.50 %\n",
      "2023-07-03 15:50:00> Processing of F:/AP_Paper_Benchmark/PXD015087_Thermo\\Hela_P035219_BA1_S00_A00_R9.raw for step raw_conversion succeeded. 90.00 %\n",
      "2023-07-03 15:50:02> Processing of F:/AP_Paper_Benchmark/PXD015087_Thermo\\March_Hela_P035212_BA1_S00_A00_R1.raw for step raw_conversion succeeded. 90.50 %\n"
     ]
    },
    {
     "name": "stderr",
     "output_type": "stream",
     "text": [
      "\r",
      " 90%|███████████████████████████████████████████████████████████████████████▍       | 0.905/1 [11:21<00:42, 451.51s/it]"
     ]
    },
    {
     "name": "stdout",
     "output_type": "stream",
     "text": [
      "2023-07-03 15:50:02> Processing of F:/AP_Paper_Benchmark/PXD015087_Thermo\\March_Hela_P035212_BA1_S00_A00_R10.raw for step raw_conversion succeeded. 91.00 %\n",
      "2023-07-03 15:50:04> Processing of F:/AP_Paper_Benchmark/PXD015087_Thermo\\March_Hela_P035212_BA1_S00_A00_R11.raw for step raw_conversion succeeded. 91.50 %\n"
     ]
    },
    {
     "name": "stderr",
     "output_type": "stream",
     "text": [
      "\r",
      " 92%|████████████████████████████████████████████████████████████████████████▎      | 0.915/1 [11:23<00:34, 401.34s/it]"
     ]
    },
    {
     "name": "stdout",
     "output_type": "stream",
     "text": [
      "2023-07-03 15:50:04> Processing of F:/AP_Paper_Benchmark/PXD015087_Thermo\\March_Hela_P035212_BA1_S00_A00_R12.raw for step raw_conversion succeeded. 92.00 %\n",
      "2023-07-03 15:50:04> Processing of F:/AP_Paper_Benchmark/PXD015087_Thermo\\March_Hela_P035212_BA1_S00_A00_R13.raw for step raw_conversion succeeded. 92.50 %\n",
      "2023-07-03 15:50:04> Processing of F:/AP_Paper_Benchmark/PXD015087_Thermo\\March_Hela_P035212_BA1_S00_A00_R14.raw for step raw_conversion succeeded. 93.00 %\n"
     ]
    },
    {
     "name": "stderr",
     "output_type": "stream",
     "text": [
      "\r",
      " 93%|██████████████████████████████████████████████████████████████████████████▍     | 0.93/1 [11:24<00:21, 301.96s/it]"
     ]
    },
    {
     "name": "stdout",
     "output_type": "stream",
     "text": [
      "2023-07-03 15:50:05> Processing of F:/AP_Paper_Benchmark/PXD015087_Thermo\\March_Hela_P035212_BA1_S00_A00_R15.raw for step raw_conversion succeeded. 93.50 %\n",
      "2023-07-03 15:50:11> Processing of F:/AP_Paper_Benchmark/PXD015087_Thermo\\March_Hela_P035212_BA1_S00_A00_R16.raw for step raw_conversion succeeded. 94.00 %\n"
     ]
    },
    {
     "name": "stderr",
     "output_type": "stream",
     "text": [
      "\r",
      " 94%|███████████████████████████████████████████████████████████████████████████▏    | 0.94/1 [11:30<00:22, 383.01s/it]"
     ]
    },
    {
     "name": "stdout",
     "output_type": "stream",
     "text": [
      "2023-07-03 15:50:12> Processing of F:/AP_Paper_Benchmark/PXD015087_Thermo\\March_Hela_P035212_BA1_S00_A00_R17.raw for step raw_conversion succeeded. 94.50 %\n"
     ]
    },
    {
     "name": "stderr",
     "output_type": "stream",
     "text": [
      "\r",
      " 94%|██████████████████████████████████████████████████████████████████████████▋    | 0.945/1 [11:31<00:19, 350.67s/it]"
     ]
    },
    {
     "name": "stdout",
     "output_type": "stream",
     "text": [
      "2023-07-03 15:50:12> Processing of F:/AP_Paper_Benchmark/PXD015087_Thermo\\March_Hela_P035212_BA1_S00_A00_R18.raw for step raw_conversion succeeded. 95.00 %\n",
      "2023-07-03 15:50:13> Processing of F:/AP_Paper_Benchmark/PXD015087_Thermo\\March_Hela_P035212_BA1_S00_A00_R19.raw for step raw_conversion succeeded. 95.50 %\n"
     ]
    },
    {
     "name": "stderr",
     "output_type": "stream",
     "text": [
      "\r",
      " 96%|███████████████████████████████████████████████████████████████████████████▍   | 0.955/1 [11:32<00:12, 273.63s/it]"
     ]
    },
    {
     "name": "stdout",
     "output_type": "stream",
     "text": [
      "2023-07-03 15:50:18> Processing of F:/AP_Paper_Benchmark/PXD015087_Thermo\\March_Hela_P035212_BA1_S00_A00_R2.raw for step raw_conversion succeeded. 96.00 %\n"
     ]
    },
    {
     "name": "stderr",
     "output_type": "stream",
     "text": [
      "\r",
      " 96%|████████████████████████████████████████████████████████████████████████████▊   | 0.96/1 [11:38<00:16, 418.34s/it]"
     ]
    },
    {
     "name": "stdout",
     "output_type": "stream",
     "text": [
      "2023-07-03 15:50:51> Processing of F:/AP_Paper_Benchmark/PXD015087_Thermo\\March_Hela_P035212_BA1_S00_A00_R20.raw for step raw_conversion succeeded. 96.50 %\n"
     ]
    },
    {
     "name": "stderr",
     "output_type": "stream",
     "text": [
      "\r",
      " 96%|███████████████████████████████████████████████████████████████████████████▎  | 0.965/1 [12:10<00:54, 1553.95s/it]"
     ]
    },
    {
     "name": "stdout",
     "output_type": "stream",
     "text": [
      "2023-07-03 15:50:52> Processing of F:/AP_Paper_Benchmark/PXD015087_Thermo\\March_Hela_P035212_BA1_S00_A00_R3.raw for step raw_conversion succeeded. 97.00 %\n"
     ]
    },
    {
     "name": "stderr",
     "output_type": "stream",
     "text": [
      "\r",
      " 97%|████████████████████████████████████████████████████████████████████████████▋  | 0.97/1 [12:11<00:38, 1293.12s/it]"
     ]
    },
    {
     "name": "stdout",
     "output_type": "stream",
     "text": [
      "2023-07-03 15:50:54> Processing of F:/AP_Paper_Benchmark/PXD015087_Thermo\\March_Hela_P035212_BA1_S00_A00_R4.raw for step raw_conversion succeeded. 97.50 %\n"
     ]
    },
    {
     "name": "stderr",
     "output_type": "stream",
     "text": [
      "\r",
      " 98%|████████████████████████████████████████████████████████████████████████████  | 0.975/1 [12:13<00:26, 1066.35s/it]"
     ]
    },
    {
     "name": "stdout",
     "output_type": "stream",
     "text": [
      "2023-07-03 15:50:55> Processing of F:/AP_Paper_Benchmark/PXD015087_Thermo\\March_Hela_P035212_BA1_S00_A00_R5.raw for step raw_conversion succeeded. 98.00 %\n"
     ]
    },
    {
     "name": "stderr",
     "output_type": "stream",
     "text": [
      "\r",
      " 98%|██████████████████████████████████████████████████████████████████████████████▍ | 0.98/1 [12:14<00:16, 834.44s/it]"
     ]
    },
    {
     "name": "stdout",
     "output_type": "stream",
     "text": [
      "2023-07-03 15:50:55> Processing of F:/AP_Paper_Benchmark/PXD015087_Thermo\\March_Hela_P035212_BA1_S00_A00_R6.raw for step raw_conversion succeeded. 98.50 %\n",
      "2023-07-03 15:50:55> Processing of F:/AP_Paper_Benchmark/PXD015087_Thermo\\March_Hela_P035212_BA1_S00_A00_R7.raw for step raw_conversion succeeded. 99.00 %\n",
      "2023-07-03 15:50:55> Processing of F:/AP_Paper_Benchmark/PXD015087_Thermo\\March_Hela_P035212_BA1_S00_A00_R8.raw for step raw_conversion succeeded. 99.50 %\n",
      "2023-07-03 15:50:55> Processing of F:/AP_Paper_Benchmark/PXD015087_Thermo\\March_Hela_P035212_BA1_S00_A00_R9.raw for step raw_conversion succeeded. 100.00 %\n"
     ]
    },
    {
     "name": "stderr",
     "output_type": "stream",
     "text": [
      "\r",
      "100%|█████████████████████████████████████████████████████████████████████████████████| 1.0/1 [12:14<00:00, 734.77s/it]"
     ]
    },
    {
     "name": "stdout",
     "output_type": "stream",
     "text": [
      "2023-07-03 15:50:55> ==== feature_finding ====\n"
     ]
    },
    {
     "name": "stderr",
     "output_type": "stream",
     "text": [
      "\n",
      "  0%|                                                                                            | 0/1 [00:00<?, ?it/s]"
     ]
    },
    {
     "name": "stdout",
     "output_type": "stream",
     "text": [
      "2023-07-03 15:50:59> Processing 200 files for step find_features\n",
      "2023-07-03 15:50:59> Setting Process limit to 15\n",
      "2023-07-03 15:50:59> AlphaPool was set to 15 processes. Setting max to 15.\n",
      "2023-07-03 15:57:53> Processing of F:/AP_Paper_Benchmark/PXD015087_Thermo\\Hela_P035210_BA1_S00_A00_R1.raw for step find_features succeeded. 0.50 %\n"
     ]
    },
    {
     "name": "stderr",
     "output_type": "stream",
     "text": [
      "\r",
      "  0%|▎                                                                         | 0.005/1 [06:53<22:53:02, 82796.61s/it]"
     ]
    },
    {
     "name": "stdout",
     "output_type": "stream",
     "text": [
      "2023-07-03 15:57:53> Processing of F:/AP_Paper_Benchmark/PXD015087_Thermo\\Hela_P035210_BA1_S00_A00_R10.raw for step find_features succeeded. 1.00 %\n",
      "2023-07-03 15:57:53> Processing of F:/AP_Paper_Benchmark/PXD015087_Thermo\\Hela_P035210_BA1_S00_A00_R11.raw for step find_features succeeded. 1.50 %\n",
      "2023-07-03 15:57:53> Processing of F:/AP_Paper_Benchmark/PXD015087_Thermo\\Hela_P035210_BA1_S00_A00_R12.raw for step find_features succeeded. 2.00 %\n"
     ]
    },
    {
     "name": "stderr",
     "output_type": "stream",
     "text": [
      "\r",
      "  2%|█▌                                                                          | 0.02/1 [06:54<4:16:16, 15690.36s/it]"
     ]
    },
    {
     "name": "stdout",
     "output_type": "stream",
     "text": [
      "2023-07-03 15:57:53> Processing of F:/AP_Paper_Benchmark/PXD015087_Thermo\\Hela_P035210_BA1_S00_A00_R13.raw for step find_features succeeded. 2.50 %\n",
      "2023-07-03 15:57:53> Processing of F:/AP_Paper_Benchmark/PXD015087_Thermo\\Hela_P035210_BA1_S00_A00_R14.raw for step find_features succeeded. 3.00 %\n",
      "2023-07-03 15:57:53> Processing of F:/AP_Paper_Benchmark/PXD015087_Thermo\\Hela_P035210_BA1_S00_A00_R15.raw for step find_features succeeded. 3.50 %\n",
      "2023-07-03 15:57:53> Processing of F:/AP_Paper_Benchmark/PXD015087_Thermo\\Hela_P035210_BA1_S00_A00_R16.raw for step find_features succeeded. 4.00 %\n",
      "2023-07-03 15:57:53> Processing of F:/AP_Paper_Benchmark/PXD015087_Thermo\\Hela_P035210_BA1_S00_A00_R17.raw for step find_features succeeded. 4.50 %\n",
      "2023-07-03 15:57:53> Processing of F:/AP_Paper_Benchmark/PXD015087_Thermo\\Hela_P035210_BA1_S00_A00_R18.raw for step find_features succeeded. 5.00 %\n",
      "2023-07-03 15:57:53> Processing of F:/AP_Paper_Benchmark/PXD015087_Thermo\\Hela_P035210_BA1_S00_A00_R19.raw for step find_features succeeded. 5.50 %\n",
      "2023-07-03 15:57:53> Processing of F:/AP_Paper_Benchmark/PXD015087_Thermo\\Hela_P035210_BA1_S00_A00_R2.raw for step find_features succeeded. 6.00 %\n",
      "2023-07-03 15:57:53> Processing of F:/AP_Paper_Benchmark/PXD015087_Thermo\\Hela_P035210_BA1_S00_A00_R20.raw for step find_features succeeded. 6.50 %\n",
      "2023-07-03 15:57:53> Processing of F:/AP_Paper_Benchmark/PXD015087_Thermo\\Hela_P035210_BA1_S00_A00_R3.raw for step find_features succeeded. 7.00 %\n",
      "2023-07-03 15:57:53> Processing of F:/AP_Paper_Benchmark/PXD015087_Thermo\\Hela_P035210_BA1_S00_A00_R4.raw for step find_features succeeded. 7.50 %\n",
      "2023-07-03 16:06:25> Processing of F:/AP_Paper_Benchmark/PXD015087_Thermo\\Hela_P035210_BA1_S00_A00_R5.raw for step find_features succeeded. 8.00 %\n"
     ]
    },
    {
     "name": "stderr",
     "output_type": "stream",
     "text": [
      "\r",
      "  8%|██████▏                                                                      | 0.08/1 [15:26<2:30:14, 9798.33s/it]"
     ]
    },
    {
     "name": "stdout",
     "output_type": "stream",
     "text": [
      "2023-07-03 16:06:35> Processing of F:/AP_Paper_Benchmark/PXD015087_Thermo\\Hela_P035210_BA1_S00_A00_R6.raw for step find_features succeeded. 8.50 %\n"
     ]
    },
    {
     "name": "stderr",
     "output_type": "stream",
     "text": [
      "\r",
      "  8%|██████▍                                                                     | 0.085/1 [15:36<2:18:59, 9114.64s/it]"
     ]
    },
    {
     "name": "stdout",
     "output_type": "stream",
     "text": [
      "2023-07-03 16:06:35> Processing of F:/AP_Paper_Benchmark/PXD015087_Thermo\\Hela_P035210_BA1_S00_A00_R7.raw for step find_features succeeded. 9.00 %\n",
      "2023-07-03 16:06:48> Processing of F:/AP_Paper_Benchmark/PXD015087_Thermo\\Hela_P035210_BA1_S00_A00_R8.raw for step find_features succeeded. 9.50 %\n"
     ]
    },
    {
     "name": "stderr",
     "output_type": "stream",
     "text": [
      "\r",
      " 10%|███████▏                                                                    | 0.095/1 [15:49<1:53:25, 7519.65s/it]"
     ]
    },
    {
     "name": "stdout",
     "output_type": "stream",
     "text": [
      "2023-07-03 16:06:48> Processing of F:/AP_Paper_Benchmark/PXD015087_Thermo\\Hela_P035210_BA1_S00_A00_R9.raw for step find_features succeeded. 10.00 %\n",
      "2023-07-03 16:06:48> Processing of F:/AP_Paper_Benchmark/PXD015087_Thermo\\Hela_P035211_BA1_S00_A00_R1.raw for step find_features succeeded. 10.50 %\n",
      "2023-07-03 16:06:48> Processing of F:/AP_Paper_Benchmark/PXD015087_Thermo\\Hela_P035211_BA1_S00_A00_R10.raw for step find_features succeeded. 11.00 %\n",
      "2023-07-03 16:07:02> Processing of F:/AP_Paper_Benchmark/PXD015087_Thermo\\Hela_P035211_BA1_S00_A00_R11.raw for step find_features succeeded. 11.50 %\n"
     ]
    },
    {
     "name": "stderr",
     "output_type": "stream",
     "text": [
      "\r",
      " 12%|████████▋                                                                   | 0.115/1 [16:02<1:13:53, 5009.55s/it]"
     ]
    },
    {
     "name": "stdout",
     "output_type": "stream",
     "text": [
      "2023-07-03 16:07:02> Processing of F:/AP_Paper_Benchmark/PXD015087_Thermo\\Hela_P035211_BA1_S00_A00_R12.raw for step find_features succeeded. 12.00 %\n",
      "2023-07-03 16:07:23> Processing of F:/AP_Paper_Benchmark/PXD015087_Thermo\\Hela_P035211_BA1_S00_A00_R13.raw for step find_features succeeded. 12.50 %\n"
     ]
    },
    {
     "name": "stderr",
     "output_type": "stream",
     "text": [
      "\r",
      " 12%|█████████▌                                                                  | 0.125/1 [16:24<1:04:21, 4413.47s/it]"
     ]
    },
    {
     "name": "stdout",
     "output_type": "stream",
     "text": [
      "2023-07-03 16:07:23> Processing of F:/AP_Paper_Benchmark/PXD015087_Thermo\\Hela_P035211_BA1_S00_A00_R14.raw for step find_features succeeded. 13.00 %\n",
      "2023-07-03 16:07:34> Processing of F:/AP_Paper_Benchmark/PXD015087_Thermo\\Hela_P035211_BA1_S00_A00_R15.raw for step find_features succeeded. 13.50 %\n"
     ]
    },
    {
     "name": "stderr",
     "output_type": "stream",
     "text": [
      "\r",
      " 14%|██████████▌                                                                   | 0.135/1 [16:35<52:38, 3651.56s/it]"
     ]
    },
    {
     "name": "stdout",
     "output_type": "stream",
     "text": [
      "2023-07-03 16:07:47> Processing of F:/AP_Paper_Benchmark/PXD015087_Thermo\\Hela_P035211_BA1_S00_A00_R16.raw for step find_features succeeded. 14.00 %\n"
     ]
    },
    {
     "name": "stderr",
     "output_type": "stream",
     "text": [
      "\r",
      " 14%|███████████                                                                    | 0.14/1 [16:48<50:18, 3510.28s/it]"
     ]
    },
    {
     "name": "stdout",
     "output_type": "stream",
     "text": [
      "2023-07-03 16:08:21> Processing of F:/AP_Paper_Benchmark/PXD015087_Thermo\\Hela_P035211_BA1_S00_A00_R17.raw for step find_features succeeded. 14.50 %\n"
     ]
    },
    {
     "name": "stderr",
     "output_type": "stream",
     "text": [
      "\r",
      " 14%|███████████▎                                                                  | 0.145/1 [17:22<57:43, 4050.58s/it]"
     ]
    },
    {
     "name": "stdout",
     "output_type": "stream",
     "text": [
      "2023-07-03 16:08:21> Processing of F:/AP_Paper_Benchmark/PXD015087_Thermo\\Hela_P035211_BA1_S00_A00_R18.raw for step find_features succeeded. 15.00 %\n",
      "2023-07-03 16:16:15> Processing of F:/AP_Paper_Benchmark/PXD015087_Thermo\\Hela_P035211_BA1_S00_A00_R19.raw for step find_features succeeded. 15.50 %\n"
     ]
    },
    {
     "name": "stderr",
     "output_type": "stream",
     "text": [
      "\r",
      " 16%|███████████▋                                                               | 0.155/1 [25:16<4:14:34, 18076.73s/it]"
     ]
    },
    {
     "name": "stdout",
     "output_type": "stream",
     "text": [
      "2023-07-03 16:16:42> Processing of F:/AP_Paper_Benchmark/PXD015087_Thermo\\Hela_P035211_BA1_S00_A00_R2.raw for step find_features succeeded. 16.00 %\n"
     ]
    },
    {
     "name": "stderr",
     "output_type": "stream",
     "text": [
      "\r",
      " 16%|████████████▏                                                               | 0.16/1 [25:43<3:39:50, 15702.80s/it]"
     ]
    },
    {
     "name": "stdout",
     "output_type": "stream",
     "text": [
      "2023-07-03 16:16:54> Processing of F:/AP_Paper_Benchmark/PXD015087_Thermo\\Hela_P035211_BA1_S00_A00_R20.raw for step find_features succeeded. 16.50 %\n"
     ]
    },
    {
     "name": "stderr",
     "output_type": "stream",
     "text": [
      "\r",
      " 16%|████████████▍                                                              | 0.165/1 [25:55<2:59:12, 12877.35s/it]"
     ]
    },
    {
     "name": "stdout",
     "output_type": "stream",
     "text": [
      "2023-07-03 16:16:54> Processing of F:/AP_Paper_Benchmark/PXD015087_Thermo\\Hela_P035211_BA1_S00_A00_R3.raw for step find_features succeeded. 17.00 %\n",
      "2023-07-03 16:17:03> Processing of F:/AP_Paper_Benchmark/PXD015087_Thermo\\Hela_P035211_BA1_S00_A00_R4.raw for step find_features succeeded. 17.50 %\n"
     ]
    },
    {
     "name": "stderr",
     "output_type": "stream",
     "text": [
      "\r",
      " 18%|█████████████▎                                                              | 0.175/1 [26:04<1:54:59, 8362.68s/it]"
     ]
    },
    {
     "name": "stdout",
     "output_type": "stream",
     "text": [
      "2023-07-03 16:17:22> Processing of F:/AP_Paper_Benchmark/PXD015087_Thermo\\Hela_P035211_BA1_S00_A00_R5.raw for step find_features succeeded. 18.00 %\n"
     ]
    },
    {
     "name": "stderr",
     "output_type": "stream",
     "text": [
      "\r",
      " 18%|█████████████▊                                                               | 0.18/1 [26:23<1:41:17, 7411.05s/it]"
     ]
    },
    {
     "name": "stdout",
     "output_type": "stream",
     "text": [
      "2023-07-03 16:17:22> Processing of F:/AP_Paper_Benchmark/PXD015087_Thermo\\Hela_P035211_BA1_S00_A00_R6.raw for step find_features succeeded. 18.50 %\n",
      "2023-07-03 16:17:40> Processing of F:/AP_Paper_Benchmark/PXD015087_Thermo\\Hela_P035211_BA1_S00_A00_R7.raw for step find_features succeeded. 19.00 %\n"
     ]
    },
    {
     "name": "stderr",
     "output_type": "stream",
     "text": [
      "\r",
      " 19%|██████████████▋                                                              | 0.19/1 [26:40<1:11:10, 5271.93s/it]"
     ]
    },
    {
     "name": "stdout",
     "output_type": "stream",
     "text": [
      "2023-07-03 16:17:40> Processing of F:/AP_Paper_Benchmark/PXD015087_Thermo\\Hela_P035211_BA1_S00_A00_R8.raw for step find_features succeeded. 19.50 %\n",
      "2023-07-03 16:17:55> Processing of F:/AP_Paper_Benchmark/PXD015087_Thermo\\Hela_P035211_BA1_S00_A00_R9.raw for step find_features succeeded. 20.00 %\n"
     ]
    },
    {
     "name": "stderr",
     "output_type": "stream",
     "text": [
      "\r",
      " 20%|████████████████                                                                | 0.2/1 [26:56<53:08, 3985.28s/it]"
     ]
    },
    {
     "name": "stdout",
     "output_type": "stream",
     "text": [
      "2023-07-03 16:17:55> Processing of F:/AP_Paper_Benchmark/PXD015087_Thermo\\Hela_P035213_BA1_S00_A00_R1.raw for step find_features succeeded. 20.50 %\n",
      "2023-07-03 16:17:55> Processing of F:/AP_Paper_Benchmark/PXD015087_Thermo\\Hela_P035213_BA1_S00_A00_R10.raw for step find_features succeeded. 21.00 %\n",
      "2023-07-03 16:18:04> Processing of F:/AP_Paper_Benchmark/PXD015087_Thermo\\Hela_P035213_BA1_S00_A00_R11.raw for step find_features succeeded. 21.50 %\n"
     ]
    },
    {
     "name": "stderr",
     "output_type": "stream",
     "text": [
      "\r",
      " 22%|████████████████▊                                                             | 0.215/1 [27:05<32:48, 2507.37s/it]"
     ]
    },
    {
     "name": "stdout",
     "output_type": "stream",
     "text": [
      "2023-07-03 16:18:04> Processing of F:/AP_Paper_Benchmark/PXD015087_Thermo\\Hela_P035213_BA1_S00_A00_R12.raw for step find_features succeeded. 22.00 %\n",
      "2023-07-03 16:20:37> Processing of F:/AP_Paper_Benchmark/PXD015087_Thermo\\Hela_P035213_BA1_S00_A00_R13.raw for step find_features succeeded. 22.50 %\n"
     ]
    },
    {
     "name": "stderr",
     "output_type": "stream",
     "text": [
      "\r",
      " 22%|█████████████████                                                           | 0.225/1 [29:38<1:20:24, 6225.30s/it]"
     ]
    },
    {
     "name": "stdout",
     "output_type": "stream",
     "text": [
      "2023-07-03 16:25:09> Processing of F:/AP_Paper_Benchmark/PXD015087_Thermo\\Hela_P035213_BA1_S00_A00_R14.raw for step find_features succeeded. 23.00 %\n"
     ]
    },
    {
     "name": "stderr",
     "output_type": "stream",
     "text": [
      "\r",
      " 23%|█████████████████▍                                                          | 0.23/1 [34:10<3:05:49, 14480.23s/it]"
     ]
    },
    {
     "name": "stdout",
     "output_type": "stream",
     "text": [
      "2023-07-03 16:26:30> Processing of F:/AP_Paper_Benchmark/PXD015087_Thermo\\Hela_P035213_BA1_S00_A00_R15.raw for step find_features succeeded. 23.50 %\n"
     ]
    },
    {
     "name": "stderr",
     "output_type": "stream",
     "text": [
      "\r",
      " 24%|█████████████████▋                                                         | 0.235/1 [35:31<3:09:14, 14842.67s/it]"
     ]
    },
    {
     "name": "stdout",
     "output_type": "stream",
     "text": [
      "2023-07-03 16:26:30> Processing of F:/AP_Paper_Benchmark/PXD015087_Thermo\\Hela_P035213_BA1_S00_A00_R16.raw for step find_features succeeded. 24.00 %\n",
      "2023-07-03 16:26:33> Processing of F:/AP_Paper_Benchmark/PXD015087_Thermo\\Hela_P035213_BA1_S00_A00_R17.raw for step find_features succeeded. 24.50 %\n"
     ]
    },
    {
     "name": "stderr",
     "output_type": "stream",
     "text": [
      "\r",
      " 24%|██████████████████▌                                                         | 0.245/1 [35:34<2:00:59, 9615.08s/it]"
     ]
    },
    {
     "name": "stdout",
     "output_type": "stream",
     "text": [
      "2023-07-03 16:26:49> Processing of F:/AP_Paper_Benchmark/PXD015087_Thermo\\Hela_P035213_BA1_S00_A00_R18.raw for step find_features succeeded. 25.00 %\n"
     ]
    },
    {
     "name": "stderr",
     "output_type": "stream",
     "text": [
      "\r",
      " 25%|███████████████████▎                                                         | 0.25/1 [35:50<1:43:49, 8305.85s/it]"
     ]
    },
    {
     "name": "stdout",
     "output_type": "stream",
     "text": [
      "2023-07-03 16:26:49> Processing of F:/AP_Paper_Benchmark/PXD015087_Thermo\\Hela_P035213_BA1_S00_A00_R19.raw for step find_features succeeded. 25.50 %\n",
      "2023-07-03 16:26:54> Processing of F:/AP_Paper_Benchmark/PXD015087_Thermo\\Hela_P035213_BA1_S00_A00_R2.raw for step find_features succeeded. 26.00 %\n"
     ]
    },
    {
     "name": "stderr",
     "output_type": "stream",
     "text": [
      "\r",
      " 26%|████████████████████                                                         | 0.26/1 [35:55<1:06:41, 5407.39s/it]"
     ]
    },
    {
     "name": "stdout",
     "output_type": "stream",
     "text": [
      "2023-07-03 16:27:13> Processing of F:/AP_Paper_Benchmark/PXD015087_Thermo\\Hela_P035213_BA1_S00_A00_R20.raw for step find_features succeeded. 26.50 %\n"
     ]
    },
    {
     "name": "stderr",
     "output_type": "stream",
     "text": [
      "\r",
      " 26%|████████████████████▏                                                       | 0.265/1 [36:14<1:02:01, 5063.91s/it]"
     ]
    },
    {
     "name": "stdout",
     "output_type": "stream",
     "text": [
      "2023-07-03 16:27:13> Processing of F:/AP_Paper_Benchmark/PXD015087_Thermo\\Hela_P035213_BA1_S00_A00_R3.raw for step find_features succeeded. 27.00 %\n",
      "2023-07-03 16:27:35> Processing of F:/AP_Paper_Benchmark/PXD015087_Thermo\\Hela_P035213_BA1_S00_A00_R4.raw for step find_features succeeded. 27.50 %\n"
     ]
    },
    {
     "name": "stderr",
     "output_type": "stream",
     "text": [
      "\r",
      " 28%|█████████████████████▍                                                        | 0.275/1 [36:36<48:17, 3996.31s/it]"
     ]
    },
    {
     "name": "stdout",
     "output_type": "stream",
     "text": [
      "2023-07-03 16:27:35> Processing of F:/AP_Paper_Benchmark/PXD015087_Thermo\\Hela_P035213_BA1_S00_A00_R5.raw for step find_features succeeded. 28.00 %\n",
      "2023-07-03 16:29:39> Processing of F:/AP_Paper_Benchmark/PXD015087_Thermo\\Hela_P035213_BA1_S00_A00_R6.raw for step find_features succeeded. 28.50 %\n"
     ]
    },
    {
     "name": "stderr",
     "output_type": "stream",
     "text": [
      "\r",
      " 28%|█████████████████████▋                                                      | 0.285/1 [38:40<1:22:23, 6913.97s/it]"
     ]
    },
    {
     "name": "stdout",
     "output_type": "stream",
     "text": [
      "2023-07-03 16:29:39> Processing of F:/AP_Paper_Benchmark/PXD015087_Thermo\\Hela_P035213_BA1_S00_A00_R7.raw for step find_features succeeded. 29.00 %\n",
      "2023-07-03 16:29:39> Processing of F:/AP_Paper_Benchmark/PXD015087_Thermo\\Hela_P035213_BA1_S00_A00_R8.raw for step find_features succeeded. 29.50 %\n",
      "2023-07-03 16:32:42> Processing of F:/AP_Paper_Benchmark/PXD015087_Thermo\\Hela_P035213_BA1_S00_A00_R9.raw for step find_features succeeded. 30.00 %\n"
     ]
    },
    {
     "name": "stderr",
     "output_type": "stream",
     "text": [
      "\r",
      " 30%|███████████████████████▍                                                      | 0.3/1 [41:42<1:46:57, 9168.07s/it]"
     ]
    },
    {
     "name": "stdout",
     "output_type": "stream",
     "text": [
      "2023-07-03 16:35:32> Processing of F:/AP_Paper_Benchmark/PXD015087_Thermo\\Hela_P035214_BA1_S00_A00_R1.raw for step find_features succeeded. 30.50 %\n"
     ]
    },
    {
     "name": "stderr",
     "output_type": "stream",
     "text": [
      "\r",
      " 30%|██████████████████████▉                                                    | 0.305/1 [44:33<2:35:00, 13382.13s/it]"
     ]
    },
    {
     "name": "stdout",
     "output_type": "stream",
     "text": [
      "2023-07-03 16:36:37> Processing of F:/AP_Paper_Benchmark/PXD015087_Thermo\\Hela_P035214_BA1_S00_A00_R10.raw for step find_features succeeded. 31.00 %\n"
     ]
    },
    {
     "name": "stderr",
     "output_type": "stream",
     "text": [
      "\r",
      " 31%|███████████████████████▌                                                    | 0.31/1 [45:38<2:33:01, 13306.97s/it]"
     ]
    },
    {
     "name": "stdout",
     "output_type": "stream",
     "text": [
      "2023-07-03 16:36:41> Processing of F:/AP_Paper_Benchmark/PXD015087_Thermo\\Hela_P035214_BA1_S00_A00_R11.raw for step find_features succeeded. 31.50 %\n"
     ]
    },
    {
     "name": "stderr",
     "output_type": "stream",
     "text": [
      "\r",
      " 32%|███████████████████████▋                                                   | 0.315/1 [45:42<2:00:38, 10567.82s/it]"
     ]
    },
    {
     "name": "stdout",
     "output_type": "stream",
     "text": [
      "2023-07-03 16:36:42> Processing of F:/AP_Paper_Benchmark/PXD015087_Thermo\\Hela_P035214_BA1_S00_A00_R12.raw for step find_features succeeded. 32.00 %\n"
     ]
    },
    {
     "name": "stderr",
     "output_type": "stream",
     "text": [
      "\r",
      " 32%|████████████████████████▋                                                    | 0.32/1 [45:43<1:32:10, 8133.29s/it]"
     ]
    },
    {
     "name": "stdout",
     "output_type": "stream",
     "text": [
      "2023-07-03 16:37:19> Processing of F:/AP_Paper_Benchmark/PXD015087_Thermo\\Hela_P035214_BA1_S00_A00_R13.raw for step find_features succeeded. 32.50 %\n"
     ]
    },
    {
     "name": "stderr",
     "output_type": "stream",
     "text": [
      "\r",
      " 32%|████████████████████████▋                                                   | 0.325/1 [46:20<1:29:32, 7958.77s/it]"
     ]
    },
    {
     "name": "stdout",
     "output_type": "stream",
     "text": [
      "2023-07-03 16:37:19> Processing of F:/AP_Paper_Benchmark/PXD015087_Thermo\\Hela_P035214_BA1_S00_A00_R14.raw for step find_features succeeded. 33.00 %\n",
      "2023-07-03 16:37:19> Processing of F:/AP_Paper_Benchmark/PXD015087_Thermo\\Hela_P035214_BA1_S00_A00_R15.raw for step find_features succeeded. 33.50 %\n",
      "2023-07-03 16:37:44> Processing of F:/AP_Paper_Benchmark/PXD015087_Thermo\\Hela_P035214_BA1_S00_A00_R16.raw for step find_features succeeded. 34.00 %\n"
     ]
    },
    {
     "name": "stderr",
     "output_type": "stream",
     "text": [
      "\r",
      " 34%|██████████████████████████▊                                                    | 0.34/1 [46:45<51:18, 4663.94s/it]"
     ]
    },
    {
     "name": "stdout",
     "output_type": "stream",
     "text": [
      "2023-07-03 16:37:44> Processing of F:/AP_Paper_Benchmark/PXD015087_Thermo\\Hela_P035214_BA1_S00_A00_R17.raw for step find_features succeeded. 34.50 %\n",
      "2023-07-03 16:38:18> Processing of F:/AP_Paper_Benchmark/PXD015087_Thermo\\Hela_P035214_BA1_S00_A00_R18.raw for step find_features succeeded. 35.00 %\n"
     ]
    },
    {
     "name": "stderr",
     "output_type": "stream",
     "text": [
      "\r",
      " 35%|███████████████████████████▋                                                   | 0.35/1 [47:19<46:09, 4260.75s/it]"
     ]
    },
    {
     "name": "stdout",
     "output_type": "stream",
     "text": [
      "2023-07-03 16:38:48> Processing of F:/AP_Paper_Benchmark/PXD015087_Thermo\\Hela_P035214_BA1_S00_A00_R19.raw for step find_features succeeded. 35.50 %\n"
     ]
    },
    {
     "name": "stderr",
     "output_type": "stream",
     "text": [
      "\r",
      " 36%|███████████████████████████▋                                                  | 0.355/1 [47:49<49:12, 4578.17s/it]"
     ]
    },
    {
     "name": "stdout",
     "output_type": "stream",
     "text": [
      "2023-07-03 16:39:45> Processing of F:/AP_Paper_Benchmark/PXD015087_Thermo\\Hela_P035214_BA1_S00_A00_R2.raw for step find_features succeeded. 36.00 %\n"
     ]
    },
    {
     "name": "stderr",
     "output_type": "stream",
     "text": [
      "\r",
      " 36%|███████████████████████████▋                                                 | 0.36/1 [48:46<1:04:26, 6041.25s/it]"
     ]
    },
    {
     "name": "stdout",
     "output_type": "stream",
     "text": [
      "2023-07-03 16:39:54> Processing of F:/AP_Paper_Benchmark/PXD015087_Thermo\\Hela_P035214_BA1_S00_A00_R20.raw for step find_features succeeded. 36.50 %\n"
     ]
    },
    {
     "name": "stderr",
     "output_type": "stream",
     "text": [
      "\r",
      " 36%|████████████████████████████▍                                                 | 0.365/1 [48:55<53:48, 5083.53s/it]"
     ]
    },
    {
     "name": "stdout",
     "output_type": "stream",
     "text": [
      "2023-07-03 16:42:31> Processing of F:/AP_Paper_Benchmark/PXD015087_Thermo\\Hela_P035214_BA1_S00_A00_R3.raw for step find_features succeeded. 37.00 %\n"
     ]
    },
    {
     "name": "stderr",
     "output_type": "stream",
     "text": [
      "\r",
      " 37%|████████████████████████████                                                | 0.37/1 [51:32<2:02:39, 11681.07s/it]"
     ]
    },
    {
     "name": "stdout",
     "output_type": "stream",
     "text": [
      "2023-07-03 16:44:58> Processing of F:/AP_Paper_Benchmark/PXD015087_Thermo\\Hela_P035214_BA1_S00_A00_R4.raw for step find_features succeeded. 37.50 %\n"
     ]
    },
    {
     "name": "stderr",
     "output_type": "stream",
     "text": [
      "\r",
      " 38%|████████████████████████████▏                                              | 0.375/1 [53:59<2:50:23, 16358.16s/it]"
     ]
    },
    {
     "name": "stdout",
     "output_type": "stream",
     "text": [
      "2023-07-03 16:46:09> Processing of F:/AP_Paper_Benchmark/PXD015087_Thermo\\Hela_P035214_BA1_S00_A00_R5.raw for step find_features succeeded. 38.00 %\n"
     ]
    },
    {
     "name": "stderr",
     "output_type": "stream",
     "text": [
      "\r",
      " 38%|████████████████████████████▉                                               | 0.38/1 [55:10<2:42:43, 15747.54s/it]"
     ]
    },
    {
     "name": "stdout",
     "output_type": "stream",
     "text": [
      "2023-07-03 16:46:24> Processing of F:/AP_Paper_Benchmark/PXD015087_Thermo\\Hela_P035214_BA1_S00_A00_R6.raw for step find_features succeeded. 38.50 %\n"
     ]
    },
    {
     "name": "stderr",
     "output_type": "stream",
     "text": [
      "\r",
      " 38%|████████████████████████████▉                                              | 0.385/1 [55:25<2:04:32, 12150.71s/it]"
     ]
    },
    {
     "name": "stdout",
     "output_type": "stream",
     "text": [
      "2023-07-03 16:46:39> Processing of F:/AP_Paper_Benchmark/PXD015087_Thermo\\Hela_P035214_BA1_S00_A00_R7.raw for step find_features succeeded. 39.00 %\n"
     ]
    },
    {
     "name": "stderr",
     "output_type": "stream",
     "text": [
      "\r",
      " 39%|██████████████████████████████                                               | 0.39/1 [55:40<1:36:55, 9533.75s/it]"
     ]
    },
    {
     "name": "stdout",
     "output_type": "stream",
     "text": [
      "2023-07-03 16:46:41> Processing of F:/AP_Paper_Benchmark/PXD015087_Thermo\\Hela_P035214_BA1_S00_A00_R8.raw for step find_features succeeded. 39.50 %\n"
     ]
    },
    {
     "name": "stderr",
     "output_type": "stream",
     "text": [
      "\r",
      " 40%|██████████████████████████████                                              | 0.395/1 [55:42<1:09:37, 6905.61s/it]"
     ]
    },
    {
     "name": "stdout",
     "output_type": "stream",
     "text": [
      "2023-07-03 16:46:41> Processing of F:/AP_Paper_Benchmark/PXD015087_Thermo\\Hela_P035214_BA1_S00_A00_R9.raw for step find_features succeeded. 40.00 %\n",
      "2023-07-03 16:46:57> Processing of F:/AP_Paper_Benchmark/PXD015087_Thermo\\Hela_P035215_BA1_S00_A00_R1.raw for step find_features succeeded. 40.50 %\n"
     ]
    },
    {
     "name": "stderr",
     "output_type": "stream",
     "text": [
      "\r",
      " 40%|███████████████████████████████▌                                              | 0.405/1 [55:58<44:40, 4504.96s/it]"
     ]
    },
    {
     "name": "stdout",
     "output_type": "stream",
     "text": [
      "2023-07-03 16:47:24> Processing of F:/AP_Paper_Benchmark/PXD015087_Thermo\\Hela_P035215_BA1_S00_A00_R10.raw for step find_features succeeded. 41.00 %\n"
     ]
    },
    {
     "name": "stderr",
     "output_type": "stream",
     "text": [
      "\r",
      " 41%|████████████████████████████████▍                                              | 0.41/1 [56:25<46:27, 4725.35s/it]"
     ]
    },
    {
     "name": "stdout",
     "output_type": "stream",
     "text": [
      "2023-07-03 16:47:24> Processing of F:/AP_Paper_Benchmark/PXD015087_Thermo\\Hela_P035215_BA1_S00_A00_R11.raw for step find_features succeeded. 41.50 %\n",
      "2023-07-03 16:48:00> Processing of F:/AP_Paper_Benchmark/PXD015087_Thermo\\Hela_P035215_BA1_S00_A00_R12.raw for step find_features succeeded. 42.00 %\n"
     ]
    },
    {
     "name": "stderr",
     "output_type": "stream",
     "text": [
      "\r",
      " 42%|█████████████████████████████████▏                                             | 0.42/1 [57:01<40:55, 4234.24s/it]"
     ]
    },
    {
     "name": "stdout",
     "output_type": "stream",
     "text": [
      "2023-07-03 16:48:00> Processing of F:/AP_Paper_Benchmark/PXD015087_Thermo\\Hela_P035215_BA1_S00_A00_R13.raw for step find_features succeeded. 42.50 %\n",
      "2023-07-03 16:50:38> Processing of F:/AP_Paper_Benchmark/PXD015087_Thermo\\Hela_P035215_BA1_S00_A00_R14.raw for step find_features succeeded. 43.00 %\n"
     ]
    },
    {
     "name": "stderr",
     "output_type": "stream",
     "text": [
      "\r",
      " 43%|█████████████████████████████████                                            | 0.43/1 [59:39<1:21:06, 8537.94s/it]"
     ]
    },
    {
     "name": "stdout",
     "output_type": "stream",
     "text": [
      "2023-07-03 16:50:38> Processing of F:/AP_Paper_Benchmark/PXD015087_Thermo\\Hela_P035215_BA1_S00_A00_R15.raw for step find_features succeeded. 43.50 %\n",
      "2023-07-03 16:50:59> Processing of F:/AP_Paper_Benchmark/PXD015087_Thermo\\Hela_P035215_BA1_S00_A00_R16.raw for step find_features succeeded. 44.00 %\n"
     ]
    },
    {
     "name": "stderr",
     "output_type": "stream",
     "text": [
      "\r",
      " 44%|█████████████████████████████████▉                                           | 0.44/1 [1:00:00<58:57, 6316.58s/it]"
     ]
    },
    {
     "name": "stdout",
     "output_type": "stream",
     "text": [
      "2023-07-03 16:54:36> Processing of F:/AP_Paper_Benchmark/PXD015087_Thermo\\Hela_P035215_BA1_S00_A00_R17.raw for step find_features succeeded. 44.50 %\n"
     ]
    },
    {
     "name": "stderr",
     "output_type": "stream",
     "text": [
      "\r",
      " 44%|████████████████████████████████▍                                        | 0.445/1 [1:03:37<2:06:07, 13634.59s/it]"
     ]
    },
    {
     "name": "stdout",
     "output_type": "stream",
     "text": [
      "2023-07-03 16:56:23> Processing of F:/AP_Paper_Benchmark/PXD015087_Thermo\\Hela_P035215_BA1_S00_A00_R18.raw for step find_features succeeded. 45.00 %\n"
     ]
    },
    {
     "name": "stderr",
     "output_type": "stream",
     "text": [
      "\r",
      " 45%|█████████████████████████████████▎                                        | 0.45/1 [1:05:24<2:20:53, 15370.47s/it]"
     ]
    },
    {
     "name": "stdout",
     "output_type": "stream",
     "text": [
      "2023-07-03 16:56:44> Processing of F:/AP_Paper_Benchmark/PXD015087_Thermo\\Hela_P035215_BA1_S00_A00_R19.raw for step find_features succeeded. 45.50 %\n"
     ]
    },
    {
     "name": "stderr",
     "output_type": "stream",
     "text": [
      "\r",
      " 46%|█████████████████████████████████▏                                       | 0.455/1 [1:05:45<1:55:13, 12685.76s/it]"
     ]
    },
    {
     "name": "stdout",
     "output_type": "stream",
     "text": [
      "2023-07-03 16:56:44> Processing of F:/AP_Paper_Benchmark/PXD015087_Thermo\\Hela_P035215_BA1_S00_A00_R2.raw for step find_features succeeded. 46.00 %\n",
      "2023-07-03 16:57:02> Processing of F:/AP_Paper_Benchmark/PXD015087_Thermo\\Hela_P035215_BA1_S00_A00_R20.raw for step find_features succeeded. 46.50 %\n"
     ]
    },
    {
     "name": "stderr",
     "output_type": "stream",
     "text": [
      "\r",
      " 46%|██████████████████████████████████▍                                       | 0.465/1 [1:06:03<1:13:40, 8263.42s/it]"
     ]
    },
    {
     "name": "stdout",
     "output_type": "stream",
     "text": [
      "2023-07-03 16:57:28> Processing of F:/AP_Paper_Benchmark/PXD015087_Thermo\\Hela_P035215_BA1_S00_A00_R3.raw for step find_features succeeded. 47.00 %\n"
     ]
    },
    {
     "name": "stderr",
     "output_type": "stream",
     "text": [
      "\r",
      " 47%|███████████████████████████████████▎                                       | 0.47/1 [1:06:29<1:06:57, 7580.66s/it]"
     ]
    },
    {
     "name": "stdout",
     "output_type": "stream",
     "text": [
      "2023-07-03 16:57:28> Processing of F:/AP_Paper_Benchmark/PXD015087_Thermo\\Hela_P035215_BA1_S00_A00_R4.raw for step find_features succeeded. 47.50 %\n",
      "2023-07-03 16:57:52> Processing of F:/AP_Paper_Benchmark/PXD015087_Thermo\\Hela_P035215_BA1_S00_A00_R5.raw for step find_features succeeded. 48.00 %\n"
     ]
    },
    {
     "name": "stderr",
     "output_type": "stream",
     "text": [
      "\r",
      " 48%|████████████████████████████████████▉                                        | 0.48/1 [1:06:53<47:59, 5537.96s/it]"
     ]
    },
    {
     "name": "stdout",
     "output_type": "stream",
     "text": [
      "2023-07-03 16:57:52> Processing of F:/AP_Paper_Benchmark/PXD015087_Thermo\\Hela_P035215_BA1_S00_A00_R6.raw for step find_features succeeded. 48.50 %\n",
      "2023-07-03 16:57:52> Processing of F:/AP_Paper_Benchmark/PXD015087_Thermo\\Hela_P035215_BA1_S00_A00_R7.raw for step find_features succeeded. 49.00 %\n",
      "2023-07-03 16:57:52> Processing of F:/AP_Paper_Benchmark/PXD015087_Thermo\\Hela_P035215_BA1_S00_A00_R8.raw for step find_features succeeded. 49.50 %\n",
      "2023-07-03 16:58:58> Processing of F:/AP_Paper_Benchmark/PXD015087_Thermo\\Hela_P035215_BA1_S00_A00_R9.raw for step find_features succeeded. 50.00 %\n"
     ]
    },
    {
     "name": "stderr",
     "output_type": "stream",
     "text": [
      "\r",
      " 50%|███████████████████████████████████████                                       | 0.5/1 [1:07:59<36:17, 4354.48s/it]"
     ]
    },
    {
     "name": "stdout",
     "output_type": "stream",
     "text": [
      "2023-07-03 16:58:58> Processing of F:/AP_Paper_Benchmark/PXD015087_Thermo\\Hela_P035216_BA1_S00_A00_R1.raw for step find_features succeeded. 50.50 %\n",
      "2023-07-03 17:00:02> Processing of F:/AP_Paper_Benchmark/PXD015087_Thermo\\Hela_P035216_BA1_S00_A00_R10.raw for step find_features succeeded. 51.00 %\n"
     ]
    },
    {
     "name": "stderr",
     "output_type": "stream",
     "text": [
      "\r",
      " 51%|███████████████████████████████████████▎                                     | 0.51/1 [1:09:03<40:12, 4924.48s/it]"
     ]
    },
    {
     "name": "stdout",
     "output_type": "stream",
     "text": [
      "2023-07-03 17:01:07> Processing of F:/AP_Paper_Benchmark/PXD015087_Thermo\\Hela_P035216_BA1_S00_A00_R11.raw for step find_features succeeded. 51.50 %\n"
     ]
    },
    {
     "name": "stderr",
     "output_type": "stream",
     "text": [
      "\r",
      " 52%|███████████████████████████████████████▏                                    | 0.515/1 [1:10:08<50:29, 6247.23s/it]"
     ]
    },
    {
     "name": "stdout",
     "output_type": "stream",
     "text": [
      "2023-07-03 17:06:03> Processing of F:/AP_Paper_Benchmark/PXD015087_Thermo\\Hela_P035216_BA1_S00_A00_R12.raw for step find_features succeeded. 52.00 %\n"
     ]
    },
    {
     "name": "stderr",
     "output_type": "stream",
     "text": [
      "\r",
      " 52%|██████████████████████████████████████▍                                   | 0.52/1 [1:15:04<2:10:09, 16270.69s/it]"
     ]
    },
    {
     "name": "stdout",
     "output_type": "stream",
     "text": [
      "2023-07-03 17:07:10> Processing of F:/AP_Paper_Benchmark/PXD015087_Thermo\\Hela_P035216_BA1_S00_A00_R13.raw for step find_features succeeded. 52.50 %\n"
     ]
    },
    {
     "name": "stderr",
     "output_type": "stream",
     "text": [
      "\r",
      " 52%|██████████████████████████████████████▎                                  | 0.525/1 [1:16:11<2:04:05, 15674.32s/it]"
     ]
    },
    {
     "name": "stdout",
     "output_type": "stream",
     "text": [
      "2023-07-03 17:07:15> Processing of F:/AP_Paper_Benchmark/PXD015087_Thermo\\Hela_P035216_BA1_S00_A00_R14.raw for step find_features succeeded. 53.00 %\n"
     ]
    },
    {
     "name": "stderr",
     "output_type": "stream",
     "text": [
      "\r",
      " 53%|███████████████████████████████████████▏                                  | 0.53/1 [1:16:16<1:35:44, 12221.29s/it]"
     ]
    },
    {
     "name": "stdout",
     "output_type": "stream",
     "text": [
      "2023-07-03 17:07:15> Processing of F:/AP_Paper_Benchmark/PXD015087_Thermo\\Hela_P035216_BA1_S00_A00_R15.raw for step find_features succeeded. 53.50 %\n",
      "2023-07-03 17:07:15> Processing of F:/AP_Paper_Benchmark/PXD015087_Thermo\\Hela_P035216_BA1_S00_A00_R16.raw for step find_features succeeded. 54.00 %\n",
      "2023-07-03 17:08:02> Processing of F:/AP_Paper_Benchmark/PXD015087_Thermo\\Hela_P035216_BA1_S00_A00_R17.raw for step find_features succeeded. 54.50 %\n"
     ]
    },
    {
     "name": "stderr",
     "output_type": "stream",
     "text": [
      "\r",
      " 55%|█████████████████████████████████████████▍                                  | 0.545/1 [1:17:03<58:21, 7696.51s/it]"
     ]
    },
    {
     "name": "stdout",
     "output_type": "stream",
     "text": [
      "2023-07-03 17:08:08> Processing of F:/AP_Paper_Benchmark/PXD015087_Thermo\\Hela_P035216_BA1_S00_A00_R18.raw for step find_features succeeded. 55.00 %\n"
     ]
    },
    {
     "name": "stderr",
     "output_type": "stream",
     "text": [
      "\r",
      " 55%|██████████████████████████████████████████▎                                  | 0.55/1 [1:17:09<48:08, 6419.95s/it]"
     ]
    },
    {
     "name": "stdout",
     "output_type": "stream",
     "text": [
      "2023-07-03 17:08:08> Processing of F:/AP_Paper_Benchmark/PXD015087_Thermo\\Hela_P035216_BA1_S00_A00_R19.raw for step find_features succeeded. 55.50 %\n",
      "2023-07-03 17:08:33> Processing of F:/AP_Paper_Benchmark/PXD015087_Thermo\\Hela_P035216_BA1_S00_A00_R2.raw for step find_features succeeded. 56.00 %\n"
     ]
    },
    {
     "name": "stderr",
     "output_type": "stream",
     "text": [
      "\r",
      " 56%|███████████████████████████████████████████                                  | 0.56/1 [1:17:34<36:53, 5031.65s/it]"
     ]
    },
    {
     "name": "stdout",
     "output_type": "stream",
     "text": [
      "2023-07-03 17:08:33> Processing of F:/AP_Paper_Benchmark/PXD015087_Thermo\\Hela_P035216_BA1_S00_A00_R20.raw for step find_features succeeded. 56.50 %\n",
      "2023-07-03 17:08:33> Processing of F:/AP_Paper_Benchmark/PXD015087_Thermo\\Hela_P035216_BA1_S00_A00_R3.raw for step find_features succeeded. 57.00 %\n",
      "2023-07-03 17:10:23> Processing of F:/AP_Paper_Benchmark/PXD015087_Thermo\\Hela_P035216_BA1_S00_A00_R4.raw for step find_features succeeded. 57.50 %\n"
     ]
    },
    {
     "name": "stderr",
     "output_type": "stream",
     "text": [
      "\r",
      " 57%|███████████████████████████████████████████▋                                | 0.575/1 [1:19:24<42:51, 6050.39s/it]"
     ]
    },
    {
     "name": "stdout",
     "output_type": "stream",
     "text": [
      "2023-07-03 17:10:23> Processing of F:/AP_Paper_Benchmark/PXD015087_Thermo\\Hela_P035216_BA1_S00_A00_R5.raw for step find_features succeeded. 58.00 %\n",
      "2023-07-03 17:10:23> Processing of F:/AP_Paper_Benchmark/PXD015087_Thermo\\Hela_P035216_BA1_S00_A00_R6.raw for step find_features succeeded. 58.50 %\n",
      "2023-07-03 17:11:54> Processing of F:/AP_Paper_Benchmark/PXD015087_Thermo\\Hela_P035216_BA1_S00_A00_R7.raw for step find_features succeeded. 59.00 %\n"
     ]
    },
    {
     "name": "stderr",
     "output_type": "stream",
     "text": [
      "\r",
      " 59%|█████████████████████████████████████████████▍                               | 0.59/1 [1:20:55<41:23, 6057.20s/it]"
     ]
    },
    {
     "name": "stdout",
     "output_type": "stream",
     "text": [
      "2023-07-03 17:16:54> Processing of F:/AP_Paper_Benchmark/PXD015087_Thermo\\Hela_P035216_BA1_S00_A00_R8.raw for step find_features succeeded. 59.50 %\n"
     ]
    },
    {
     "name": "stderr",
     "output_type": "stream",
     "text": [
      "\r",
      " 60%|███████████████████████████████████████████▍                             | 0.595/1 [1:25:55<1:36:45, 14333.87s/it]"
     ]
    },
    {
     "name": "stdout",
     "output_type": "stream",
     "text": [
      "2023-07-03 17:17:45> Processing of F:/AP_Paper_Benchmark/PXD015087_Thermo\\Hela_P035216_BA1_S00_A00_R9.raw for step find_features succeeded. 60.00 %\n"
     ]
    },
    {
     "name": "stderr",
     "output_type": "stream",
     "text": [
      "\r",
      " 60%|█████████████████████████████████████████████                              | 0.6/1 [1:26:46<1:30:43, 13608.91s/it]"
     ]
    },
    {
     "name": "stdout",
     "output_type": "stream",
     "text": [
      "2023-07-03 17:18:04> Processing of F:/AP_Paper_Benchmark/PXD015087_Thermo\\Hela_P035217_BA1_S00_A00_R1.raw for step find_features succeeded. 60.50 %\n"
     ]
    },
    {
     "name": "stderr",
     "output_type": "stream",
     "text": [
      "\r",
      " 60%|████████████████████████████████████████████▏                            | 0.605/1 [1:27:05<1:16:13, 11578.06s/it]"
     ]
    },
    {
     "name": "stdout",
     "output_type": "stream",
     "text": [
      "2023-07-03 17:18:13> Processing of F:/AP_Paper_Benchmark/PXD015087_Thermo\\Hela_P035217_BA1_S00_A00_R10.raw for step find_features succeeded. 61.00 %\n"
     ]
    },
    {
     "name": "stderr",
     "output_type": "stream",
     "text": [
      "\r",
      " 61%|█████████████████████████████████████████████▊                             | 0.61/1 [1:27:14<1:00:56, 9375.14s/it]"
     ]
    },
    {
     "name": "stdout",
     "output_type": "stream",
     "text": [
      "2023-07-03 17:18:13> Processing of F:/AP_Paper_Benchmark/PXD015087_Thermo\\Hela_P035217_BA1_S00_A00_R11.raw for step find_features succeeded. 61.50 %\n",
      "2023-07-03 17:18:53> Processing of F:/AP_Paper_Benchmark/PXD015087_Thermo\\Hela_P035217_BA1_S00_A00_R12.raw for step find_features succeeded. 62.00 %\n"
     ]
    },
    {
     "name": "stderr",
     "output_type": "stream",
     "text": [
      "\r",
      " 62%|███████████████████████████████████████████████▋                             | 0.62/1 [1:27:54<46:00, 7264.67s/it]"
     ]
    },
    {
     "name": "stdout",
     "output_type": "stream",
     "text": [
      "2023-07-03 17:19:34> Processing of F:/AP_Paper_Benchmark/PXD015087_Thermo\\Hela_P035217_BA1_S00_A00_R13.raw for step find_features succeeded. 62.50 %\n"
     ]
    },
    {
     "name": "stderr",
     "output_type": "stream",
     "text": [
      "\r",
      " 62%|███████████████████████████████████████████████▌                            | 0.625/1 [1:28:35<46:36, 7457.82s/it]"
     ]
    },
    {
     "name": "stdout",
     "output_type": "stream",
     "text": [
      "2023-07-03 17:19:34> Processing of F:/AP_Paper_Benchmark/PXD015087_Thermo\\Hela_P035217_BA1_S00_A00_R14.raw for step find_features succeeded. 63.00 %\n",
      "2023-07-03 17:19:34> Processing of F:/AP_Paper_Benchmark/PXD015087_Thermo\\Hela_P035217_BA1_S00_A00_R15.raw for step find_features succeeded. 63.50 %\n",
      "2023-07-03 17:20:42> Processing of F:/AP_Paper_Benchmark/PXD015087_Thermo\\Hela_P035217_BA1_S00_A00_R16.raw for step find_features succeeded. 64.00 %\n"
     ]
    },
    {
     "name": "stderr",
     "output_type": "stream",
     "text": [
      "\r",
      " 64%|█████████████████████████████████████████████████▎                           | 0.64/1 [1:29:43<36:16, 6047.04s/it]"
     ]
    },
    {
     "name": "stdout",
     "output_type": "stream",
     "text": [
      "2023-07-03 17:20:42> Processing of F:/AP_Paper_Benchmark/PXD015087_Thermo\\Hela_P035217_BA1_S00_A00_R17.raw for step find_features succeeded. 64.50 %\n",
      "2023-07-03 17:20:42> Processing of F:/AP_Paper_Benchmark/PXD015087_Thermo\\Hela_P035217_BA1_S00_A00_R18.raw for step find_features succeeded. 65.00 %\n",
      "2023-07-03 17:21:23> Processing of F:/AP_Paper_Benchmark/PXD015087_Thermo\\Hela_P035217_BA1_S00_A00_R19.raw for step find_features succeeded. 65.50 %\n"
     ]
    },
    {
     "name": "stderr",
     "output_type": "stream",
     "text": [
      "\r",
      " 66%|█████████████████████████████████████████████████▊                          | 0.655/1 [1:30:24<26:56, 4685.24s/it]"
     ]
    },
    {
     "name": "stdout",
     "output_type": "stream",
     "text": [
      "2023-07-03 17:21:23> Processing of F:/AP_Paper_Benchmark/PXD015087_Thermo\\Hela_P035217_BA1_S00_A00_R2.raw for step find_features succeeded. 66.00 %\n",
      "2023-07-03 17:24:37> Processing of F:/AP_Paper_Benchmark/PXD015087_Thermo\\Hela_P035217_BA1_S00_A00_R20.raw for step find_features succeeded. 66.50 %\n"
     ]
    },
    {
     "name": "stderr",
     "output_type": "stream",
     "text": [
      "\r",
      " 66%|██████████████████████████████████████████████████▌                         | 0.665/1 [1:33:38<49:13, 8817.15s/it]"
     ]
    },
    {
     "name": "stdout",
     "output_type": "stream",
     "text": [
      "2023-07-03 17:27:38> Processing of F:/AP_Paper_Benchmark/PXD015087_Thermo\\Hela_P035217_BA1_S00_A00_R21.raw for step find_features succeeded. 67.00 %\n"
     ]
    },
    {
     "name": "stderr",
     "output_type": "stream",
     "text": [
      "\r",
      " 67%|█████████████████████████████████████████████████▌                        | 0.67/1 [1:36:39<1:13:40, 13395.01s/it]"
     ]
    },
    {
     "name": "stdout",
     "output_type": "stream",
     "text": [
      "2023-07-03 17:28:09> Processing of F:/AP_Paper_Benchmark/PXD015087_Thermo\\Hela_P035217_BA1_S00_A00_R3.raw for step find_features succeeded. 67.50 %\n"
     ]
    },
    {
     "name": "stderr",
     "output_type": "stream",
     "text": [
      "\r",
      " 68%|█████████████████████████████████████████████████▎                       | 0.675/1 [1:37:10<1:04:53, 11981.39s/it]"
     ]
    },
    {
     "name": "stdout",
     "output_type": "stream",
     "text": [
      "2023-07-03 17:28:25> Processing of F:/AP_Paper_Benchmark/PXD015087_Thermo\\Hela_P035217_BA1_S00_A00_R5.raw for step find_features succeeded. 68.00 %\n"
     ]
    },
    {
     "name": "stderr",
     "output_type": "stream",
     "text": [
      "\r",
      " 68%|███████████████████████████████████████████████████▋                        | 0.68/1 [1:37:25<53:47, 10085.24s/it]"
     ]
    },
    {
     "name": "stdout",
     "output_type": "stream",
     "text": [
      "2023-07-03 17:28:58> Processing of F:/AP_Paper_Benchmark/PXD015087_Thermo\\Hela_P035217_BA1_S00_A00_R6.raw for step find_features succeeded. 68.50 %\n"
     ]
    },
    {
     "name": "stderr",
     "output_type": "stream",
     "text": [
      "\r",
      " 68%|████████████████████████████████████████████████████                        | 0.685/1 [1:37:59<48:41, 9275.78s/it]"
     ]
    },
    {
     "name": "stdout",
     "output_type": "stream",
     "text": [
      "2023-07-03 17:28:58> Processing of F:/AP_Paper_Benchmark/PXD015087_Thermo\\Hela_P035217_BA1_S00_A00_R7.raw for step find_features succeeded. 69.00 %\n",
      "2023-07-03 17:29:41> Processing of F:/AP_Paper_Benchmark/PXD015087_Thermo\\Hela_P035217_BA1_S00_A00_R8.raw for step find_features succeeded. 69.50 %\n"
     ]
    },
    {
     "name": "stderr",
     "output_type": "stream",
     "text": [
      "\r",
      " 70%|████████████████████████████████████████████████████▊                       | 0.695/1 [1:38:42<37:00, 7281.23s/it]"
     ]
    },
    {
     "name": "stdout",
     "output_type": "stream",
     "text": [
      "2023-07-03 17:29:41> Processing of F:/AP_Paper_Benchmark/PXD015087_Thermo\\Hela_P035217_BA1_S00_A00_R9.raw for step find_features succeeded. 70.00 %\n",
      "2023-07-03 17:29:41> Processing of F:/AP_Paper_Benchmark/PXD015087_Thermo\\Hela_P035218_BA1_S00_A00_R1.raw for step find_features succeeded. 70.50 %\n",
      "2023-07-03 17:29:41> Processing of F:/AP_Paper_Benchmark/PXD015087_Thermo\\Hela_P035218_BA1_S00_A00_R10.raw for step find_features succeeded. 71.00 %\n",
      "2023-07-03 17:29:41> Processing of F:/AP_Paper_Benchmark/PXD015087_Thermo\\Hela_P035218_BA1_S00_A00_R11.raw for step find_features succeeded. 71.50 %\n",
      "2023-07-03 17:31:19> Processing of F:/AP_Paper_Benchmark/PXD015087_Thermo\\Hela_P035218_BA1_S00_A00_R12.raw for step find_features succeeded. 72.00 %\n"
     ]
    },
    {
     "name": "stderr",
     "output_type": "stream",
     "text": [
      "\r",
      " 72%|███████████████████████████████████████████████████████▍                     | 0.72/1 [1:40:20<24:46, 5310.55s/it]"
     ]
    },
    {
     "name": "stdout",
     "output_type": "stream",
     "text": [
      "2023-07-03 17:31:19> Processing of F:/AP_Paper_Benchmark/PXD015087_Thermo\\Hela_P035218_BA1_S00_A00_R13.raw for step find_features succeeded. 72.50 %\n",
      "2023-07-03 17:31:19> Processing of F:/AP_Paper_Benchmark/PXD015087_Thermo\\Hela_P035218_BA1_S00_A00_R14.raw for step find_features succeeded. 73.00 %\n",
      "2023-07-03 17:32:19> Processing of F:/AP_Paper_Benchmark/PXD015087_Thermo\\Hela_P035218_BA1_S00_A00_R15.raw for step find_features succeeded. 73.50 %\n"
     ]
    },
    {
     "name": "stderr",
     "output_type": "stream",
     "text": [
      "\r",
      " 74%|███████████████████████████████████████████████████████▊                    | 0.735/1 [1:41:20<21:29, 4867.28s/it]"
     ]
    },
    {
     "name": "stdout",
     "output_type": "stream",
     "text": [
      "2023-07-03 17:35:59> Processing of F:/AP_Paper_Benchmark/PXD015087_Thermo\\Hela_P035218_BA1_S00_A00_R16.raw for step find_features succeeded. 74.00 %\n"
     ]
    },
    {
     "name": "stderr",
     "output_type": "stream",
     "text": [
      "\r",
      " 74%|████████████████████████████████████████████████████████▏                   | 0.74/1 [1:45:00<44:23, 10245.21s/it]"
     ]
    },
    {
     "name": "stdout",
     "output_type": "stream",
     "text": [
      "2023-07-03 17:38:41> Processing of F:/AP_Paper_Benchmark/PXD015087_Thermo\\Hela_P035218_BA1_S00_A00_R17.raw for step find_features succeeded. 74.50 %\n"
     ]
    },
    {
     "name": "stderr",
     "output_type": "stream",
     "text": [
      "\r",
      " 74%|███████████████████████████████████████████████████████▉                   | 0.745/1 [1:47:42<59:07, 13913.70s/it]"
     ]
    },
    {
     "name": "stdout",
     "output_type": "stream",
     "text": [
      "2023-07-03 17:38:41> Processing of F:/AP_Paper_Benchmark/PXD015087_Thermo\\Hela_P035218_BA1_S00_A00_R18.raw for step find_features succeeded. 75.00 %\n",
      "2023-07-03 17:39:00> Processing of F:/AP_Paper_Benchmark/PXD015087_Thermo\\Hela_P035218_BA1_S00_A00_R19.raw for step find_features succeeded. 75.50 %\n"
     ]
    },
    {
     "name": "stderr",
     "output_type": "stream",
     "text": [
      "\r",
      " 76%|████████████████████████████████████████████████████████▋                  | 0.755/1 [1:48:01<41:01, 10045.68s/it]"
     ]
    },
    {
     "name": "stdout",
     "output_type": "stream",
     "text": [
      "2023-07-03 17:39:10> Processing of F:/AP_Paper_Benchmark/PXD015087_Thermo\\Hela_P035218_BA1_S00_A00_R2.raw for step find_features succeeded. 76.00 %\n"
     ]
    },
    {
     "name": "stderr",
     "output_type": "stream",
     "text": [
      "\r",
      " 76%|██████████████████████████████████████████████████████████▌                  | 0.76/1 [1:48:11<34:14, 8559.94s/it]"
     ]
    },
    {
     "name": "stdout",
     "output_type": "stream",
     "text": [
      "2023-07-03 17:39:44> Processing of F:/AP_Paper_Benchmark/PXD015087_Thermo\\Hela_P035218_BA1_S00_A00_R20.raw for step find_features succeeded. 76.50 %\n"
     ]
    },
    {
     "name": "stderr",
     "output_type": "stream",
     "text": [
      "\r",
      " 76%|██████████████████████████████████████████████████████████▏                 | 0.765/1 [1:48:44<32:01, 8177.65s/it]"
     ]
    },
    {
     "name": "stdout",
     "output_type": "stream",
     "text": [
      "2023-07-03 17:39:44> Processing of F:/AP_Paper_Benchmark/PXD015087_Thermo\\Hela_P035218_BA1_S00_A00_R3.raw for step find_features succeeded. 77.00 %\n",
      "2023-07-03 17:39:44> Processing of F:/AP_Paper_Benchmark/PXD015087_Thermo\\Hela_P035218_BA1_S00_A00_R4.raw for step find_features succeeded. 77.50 %\n",
      "2023-07-03 17:39:44> Processing of F:/AP_Paper_Benchmark/PXD015087_Thermo\\Hela_P035218_BA1_S00_A00_R5.raw for step find_features succeeded. 78.00 %\n",
      "2023-07-03 17:39:50> Processing of F:/AP_Paper_Benchmark/PXD015087_Thermo\\Hela_P035218_BA1_S00_A00_R6.raw for step find_features succeeded. 78.50 %\n"
     ]
    },
    {
     "name": "stderr",
     "output_type": "stream",
     "text": [
      "\r",
      " 78%|███████████████████████████████████████████████████████████▋                | 0.785/1 [1:48:51<13:56, 3892.89s/it]"
     ]
    },
    {
     "name": "stdout",
     "output_type": "stream",
     "text": [
      "2023-07-03 17:40:43> Processing of F:/AP_Paper_Benchmark/PXD015087_Thermo\\Hela_P035218_BA1_S00_A00_R7.raw for step find_features succeeded. 79.00 %\n"
     ]
    },
    {
     "name": "stderr",
     "output_type": "stream",
     "text": [
      "\r",
      " 79%|████████████████████████████████████████████████████████████▊                | 0.79/1 [1:49:43<17:24, 4973.37s/it]"
     ]
    },
    {
     "name": "stdout",
     "output_type": "stream",
     "text": [
      "2023-07-03 17:41:11> Processing of F:/AP_Paper_Benchmark/PXD015087_Thermo\\Hela_P035218_BA1_S00_A00_R8.raw for step find_features succeeded. 79.50 %\n"
     ]
    },
    {
     "name": "stderr",
     "output_type": "stream",
     "text": [
      "\r",
      " 80%|████████████████████████████████████████████████████████████▍               | 0.795/1 [1:50:12<17:27, 5108.39s/it]"
     ]
    },
    {
     "name": "stdout",
     "output_type": "stream",
     "text": [
      "2023-07-03 17:41:11> Processing of F:/AP_Paper_Benchmark/PXD015087_Thermo\\Hela_P035218_BA1_S00_A00_R9.raw for step find_features succeeded. 80.00 %\n",
      "2023-07-03 17:41:11> Processing of F:/AP_Paper_Benchmark/PXD015087_Thermo\\Hela_P035219_BA1_S00_A00_R1.raw for step find_features succeeded. 80.50 %\n",
      "2023-07-03 17:41:46> Processing of F:/AP_Paper_Benchmark/PXD015087_Thermo\\Hela_P035219_BA1_S00_A00_R10.raw for step find_features succeeded. 81.00 %\n"
     ]
    },
    {
     "name": "stderr",
     "output_type": "stream",
     "text": [
      "\r",
      " 81%|██████████████████████████████████████████████████████████████▎              | 0.81/1 [1:50:47<12:15, 3873.07s/it]"
     ]
    },
    {
     "name": "stdout",
     "output_type": "stream",
     "text": [
      "2023-07-03 17:46:30> Processing of F:/AP_Paper_Benchmark/PXD015087_Thermo\\Hela_P035219_BA1_S00_A00_R11.raw for step find_features succeeded. 81.50 %\n"
     ]
    },
    {
     "name": "stderr",
     "output_type": "stream",
     "text": [
      "\r",
      " 82%|█████████████████████████████████████████████████████████████              | 0.815/1 [1:55:31<40:33, 13155.53s/it]"
     ]
    },
    {
     "name": "stdout",
     "output_type": "stream",
     "text": [
      "2023-07-03 17:47:54> Processing of F:/AP_Paper_Benchmark/PXD015087_Thermo\\Hela_P035219_BA1_S00_A00_R12.raw for step find_features succeeded. 82.00 %\n"
     ]
    },
    {
     "name": "stderr",
     "output_type": "stream",
     "text": [
      "\r",
      " 82%|██████████████████████████████████████████████████████████████▎             | 0.82/1 [1:56:55<41:44, 13913.62s/it]"
     ]
    },
    {
     "name": "stdout",
     "output_type": "stream",
     "text": [
      "2023-07-03 17:48:45> Processing of F:/AP_Paper_Benchmark/PXD015087_Thermo\\Hela_P035219_BA1_S00_A00_R13.raw for step find_features succeeded. 82.50 %\n"
     ]
    },
    {
     "name": "stderr",
     "output_type": "stream",
     "text": [
      "\r",
      " 82%|█████████████████████████████████████████████████████████████▉             | 0.825/1 [1:57:46<38:09, 13083.17s/it]"
     ]
    },
    {
     "name": "stdout",
     "output_type": "stream",
     "text": [
      "2023-07-03 17:48:51> Processing of F:/AP_Paper_Benchmark/PXD015087_Thermo\\Hela_P035219_BA1_S00_A00_R14.raw for step find_features succeeded. 83.00 %\n"
     ]
    },
    {
     "name": "stderr",
     "output_type": "stream",
     "text": [
      "\r",
      " 83%|███████████████████████████████████████████████████████████████             | 0.83/1 [1:57:52<28:49, 10175.82s/it]"
     ]
    },
    {
     "name": "stdout",
     "output_type": "stream",
     "text": [
      "2023-07-03 17:49:47> Processing of F:/AP_Paper_Benchmark/PXD015087_Thermo\\Hela_P035219_BA1_S00_A00_R15.raw for step find_features succeeded. 83.50 %\n"
     ]
    },
    {
     "name": "stderr",
     "output_type": "stream",
     "text": [
      "\r",
      " 84%|██████████████████████████████████████████████████████████████▋            | 0.835/1 [1:58:48<28:48, 10473.65s/it]"
     ]
    },
    {
     "name": "stdout",
     "output_type": "stream",
     "text": [
      "2023-07-03 17:49:47> Processing of F:/AP_Paper_Benchmark/PXD015087_Thermo\\Hela_P035219_BA1_S00_A00_R16.raw for step find_features succeeded. 84.00 %\n",
      "2023-07-03 17:50:24> Processing of F:/AP_Paper_Benchmark/PXD015087_Thermo\\Hela_P035219_BA1_S00_A00_R17.raw for step find_features succeeded. 84.50 %\n"
     ]
    },
    {
     "name": "stderr",
     "output_type": "stream",
     "text": [
      "\r",
      " 84%|████████████████████████████████████████████████████████████████▏           | 0.845/1 [1:59:25<19:37, 7594.15s/it]"
     ]
    },
    {
     "name": "stdout",
     "output_type": "stream",
     "text": [
      "2023-07-03 17:50:24> Processing of F:/AP_Paper_Benchmark/PXD015087_Thermo\\Hela_P035219_BA1_S00_A00_R18.raw for step find_features succeeded. 85.00 %\n",
      "2023-07-03 17:50:24> Processing of F:/AP_Paper_Benchmark/PXD015087_Thermo\\Hela_P035219_BA1_S00_A00_R19.raw for step find_features succeeded. 85.50 %\n",
      "2023-07-03 17:50:24> Processing of F:/AP_Paper_Benchmark/PXD015087_Thermo\\Hela_P035219_BA1_S00_A00_R2.raw for step find_features succeeded. 86.00 %\n",
      "2023-07-03 17:51:36> Processing of F:/AP_Paper_Benchmark/PXD015087_Thermo\\Hela_P035219_BA1_S00_A00_R20.raw for step find_features succeeded. 86.50 %\n"
     ]
    },
    {
     "name": "stderr",
     "output_type": "stream",
     "text": [
      "\r",
      " 86%|█████████████████████████████████████████████████████████████████▋          | 0.865/1 [2:00:37<12:09, 5404.67s/it]"
     ]
    },
    {
     "name": "stdout",
     "output_type": "stream",
     "text": [
      "2023-07-03 17:51:48> Processing of F:/AP_Paper_Benchmark/PXD015087_Thermo\\Hela_P035219_BA1_S00_A00_R3.raw for step find_features succeeded. 87.00 %\n"
     ]
    },
    {
     "name": "stderr",
     "output_type": "stream",
     "text": [
      "\r",
      " 87%|██████████████████████████████████████████████████████████████████▉          | 0.87/1 [2:00:49<10:40, 4927.17s/it]"
     ]
    },
    {
     "name": "stdout",
     "output_type": "stream",
     "text": [
      "2023-07-03 17:51:48> Processing of F:/AP_Paper_Benchmark/PXD015087_Thermo\\Hela_P035219_BA1_S00_A00_R4.raw for step find_features succeeded. 87.50 %\n",
      "2023-07-03 17:52:34> Processing of F:/AP_Paper_Benchmark/PXD015087_Thermo\\Hela_P035219_BA1_S00_A00_R5.raw for step find_features succeeded. 88.00 %\n"
     ]
    },
    {
     "name": "stderr",
     "output_type": "stream",
     "text": [
      "\r",
      " 88%|███████████████████████████████████████████████████████████████████▊         | 0.88/1 [2:01:35<09:39, 4825.29s/it]"
     ]
    },
    {
     "name": "stdout",
     "output_type": "stream",
     "text": [
      "2023-07-03 17:52:57> Processing of F:/AP_Paper_Benchmark/PXD015087_Thermo\\Hela_P035219_BA1_S00_A00_R6.raw for step find_features succeeded. 88.50 %\n"
     ]
    },
    {
     "name": "stderr",
     "output_type": "stream",
     "text": [
      "\r",
      " 88%|███████████████████████████████████████████████████████████████████▎        | 0.885/1 [2:01:58<09:09, 4779.10s/it]"
     ]
    },
    {
     "name": "stdout",
     "output_type": "stream",
     "text": [
      "2023-07-03 17:55:09> Processing of F:/AP_Paper_Benchmark/PXD015087_Thermo\\Hela_P035219_BA1_S00_A00_R7.raw for step find_features succeeded. 89.00 %\n"
     ]
    },
    {
     "name": "stderr",
     "output_type": "stream",
     "text": [
      "\r",
      " 89%|████████████████████████████████████████████████████████████████████▌        | 0.89/1 [2:04:10<17:04, 9312.12s/it]"
     ]
    },
    {
     "name": "stdout",
     "output_type": "stream",
     "text": [
      "2023-07-03 17:55:55> Processing of F:/AP_Paper_Benchmark/PXD015087_Thermo\\Hela_P035219_BA1_S00_A00_R8.raw for step find_features succeeded. 89.50 %\n"
     ]
    },
    {
     "name": "stderr",
     "output_type": "stream",
     "text": [
      "\r",
      " 90%|████████████████████████████████████████████████████████████████████        | 0.895/1 [2:04:56<16:14, 9284.62s/it]"
     ]
    },
    {
     "name": "stdout",
     "output_type": "stream",
     "text": [
      "2023-07-03 17:58:21> Processing of F:/AP_Paper_Benchmark/PXD015087_Thermo\\Hela_P035219_BA1_S00_A00_R9.raw for step find_features succeeded. 90.00 %\n"
     ]
    },
    {
     "name": "stderr",
     "output_type": "stream",
     "text": [
      "\r",
      " 90%|█████████████████████████████████████████████████████████████████████▎       | 0.9/1 [2:07:22<23:39, 14194.03s/it]"
     ]
    },
    {
     "name": "stdout",
     "output_type": "stream",
     "text": [
      "2023-07-03 17:58:21> Processing of F:/AP_Paper_Benchmark/PXD015087_Thermo\\March_Hela_P035212_BA1_S00_A00_R1.raw for step find_features succeeded. 90.50 %\n",
      "2023-07-03 17:58:21> Processing of F:/AP_Paper_Benchmark/PXD015087_Thermo\\March_Hela_P035212_BA1_S00_A00_R10.raw for step find_features succeeded. 91.00 %\n",
      "2023-07-03 17:58:37> Processing of F:/AP_Paper_Benchmark/PXD015087_Thermo\\March_Hela_P035212_BA1_S00_A00_R11.raw for step find_features succeeded. 91.50 %\n"
     ]
    },
    {
     "name": "stderr",
     "output_type": "stream",
     "text": [
      "\r",
      " 92%|█████████████████████████████████████████████████████████████████████▌      | 0.915/1 [2:07:38<10:32, 7436.76s/it]"
     ]
    },
    {
     "name": "stdout",
     "output_type": "stream",
     "text": [
      "2023-07-03 17:59:00> Processing of F:/AP_Paper_Benchmark/PXD015087_Thermo\\March_Hela_P035212_BA1_S00_A00_R12.raw for step find_features succeeded. 92.00 %\n"
     ]
    },
    {
     "name": "stderr",
     "output_type": "stream",
     "text": [
      "\r",
      " 92%|██████████████████████████████████████████████████████████████████████▊      | 0.92/1 [2:08:00<09:09, 6863.80s/it]"
     ]
    },
    {
     "name": "stdout",
     "output_type": "stream",
     "text": [
      "2023-07-03 17:59:00> Processing of F:/AP_Paper_Benchmark/PXD015087_Thermo\\March_Hela_P035212_BA1_S00_A00_R13.raw for step find_features succeeded. 92.50 %\n",
      "2023-07-03 17:59:00> Processing of F:/AP_Paper_Benchmark/PXD015087_Thermo\\March_Hela_P035212_BA1_S00_A00_R14.raw for step find_features succeeded. 93.00 %\n",
      "2023-07-03 17:59:00> Processing of F:/AP_Paper_Benchmark/PXD015087_Thermo\\March_Hela_P035212_BA1_S00_A00_R15.raw for step find_features succeeded. 93.50 %\n",
      "2023-07-03 17:59:50> Processing of F:/AP_Paper_Benchmark/PXD015087_Thermo\\March_Hela_P035212_BA1_S00_A00_R16.raw for step find_features succeeded. 94.00 %\n"
     ]
    },
    {
     "name": "stderr",
     "output_type": "stream",
     "text": [
      "\r",
      " 94%|████████████████████████████████████████████████████████████████████████▍    | 0.94/1 [2:08:51<04:34, 4570.77s/it]"
     ]
    },
    {
     "name": "stdout",
     "output_type": "stream",
     "text": [
      "2023-07-03 18:00:54> Processing of F:/AP_Paper_Benchmark/PXD015087_Thermo\\March_Hela_P035212_BA1_S00_A00_R17.raw for step find_features succeeded. 94.50 %\n"
     ]
    },
    {
     "name": "stderr",
     "output_type": "stream",
     "text": [
      "\r",
      " 94%|███████████████████████████████████████████████████████████████████████▊    | 0.945/1 [2:09:55<05:23, 5889.36s/it]"
     ]
    },
    {
     "name": "stdout",
     "output_type": "stream",
     "text": [
      "2023-07-03 18:02:20> Processing of F:/AP_Paper_Benchmark/PXD015087_Thermo\\March_Hela_P035212_BA1_S00_A00_R18.raw for step find_features succeeded. 95.00 %\n"
     ]
    },
    {
     "name": "stderr",
     "output_type": "stream",
     "text": [
      "\r",
      " 95%|█████████████████████████████████████████████████████████████████████████▏   | 0.95/1 [2:11:21<06:38, 7966.23s/it]"
     ]
    },
    {
     "name": "stdout",
     "output_type": "stream",
     "text": [
      "2023-07-03 18:03:37> Processing of F:/AP_Paper_Benchmark/PXD015087_Thermo\\March_Hela_P035212_BA1_S00_A00_R19.raw for step find_features succeeded. 95.50 %\n"
     ]
    },
    {
     "name": "stderr",
     "output_type": "stream",
     "text": [
      "\r",
      " 96%|████████████████████████████████████████████████████████████████████████▌   | 0.955/1 [2:12:38<07:08, 9525.71s/it]"
     ]
    },
    {
     "name": "stdout",
     "output_type": "stream",
     "text": [
      "2023-07-03 18:04:01> Processing of F:/AP_Paper_Benchmark/PXD015087_Thermo\\March_Hela_P035212_BA1_S00_A00_R2.raw for step find_features succeeded. 96.00 %\n"
     ]
    },
    {
     "name": "stderr",
     "output_type": "stream",
     "text": [
      "\r",
      " 96%|█████████████████████████████████████████████████████████████████████████▉   | 0.96/1 [2:13:02<05:37, 8437.64s/it]"
     ]
    },
    {
     "name": "stdout",
     "output_type": "stream",
     "text": [
      "2023-07-03 18:04:26> Processing of F:/AP_Paper_Benchmark/PXD015087_Thermo\\March_Hela_P035212_BA1_S00_A00_R20.raw for step find_features succeeded. 96.50 %\n"
     ]
    },
    {
     "name": "stderr",
     "output_type": "stream",
     "text": [
      "\r",
      " 96%|█████████████████████████████████████████████████████████████████████████▎  | 0.965/1 [2:13:27<04:24, 7560.54s/it]"
     ]
    },
    {
     "name": "stdout",
     "output_type": "stream",
     "text": [
      "2023-07-03 18:04:29> Processing of F:/AP_Paper_Benchmark/PXD015087_Thermo\\March_Hela_P035212_BA1_S00_A00_R3.raw for step find_features succeeded. 97.00 %\n"
     ]
    },
    {
     "name": "stderr",
     "output_type": "stream",
     "text": [
      "\r",
      " 97%|██████████████████████████████████████████████████████████████████████████▋  | 0.97/1 [2:13:30<02:52, 5749.34s/it]"
     ]
    },
    {
     "name": "stdout",
     "output_type": "stream",
     "text": [
      "2023-07-03 18:04:42> Processing of F:/AP_Paper_Benchmark/PXD015087_Thermo\\March_Hela_P035212_BA1_S00_A00_R4.raw for step find_features succeeded. 97.50 %\n"
     ]
    },
    {
     "name": "stderr",
     "output_type": "stream",
     "text": [
      "\r",
      " 98%|██████████████████████████████████████████████████████████████████████████  | 0.975/1 [2:13:43<02:02, 4892.01s/it]"
     ]
    },
    {
     "name": "stdout",
     "output_type": "stream",
     "text": [
      "2023-07-03 18:04:47> Processing of F:/AP_Paper_Benchmark/PXD015087_Thermo\\March_Hela_P035212_BA1_S00_A00_R5.raw for step find_features succeeded. 98.00 %\n"
     ]
    },
    {
     "name": "stderr",
     "output_type": "stream",
     "text": [
      "\r",
      " 98%|███████████████████████████████████████████████████████████████████████████▍ | 0.98/1 [2:13:48<01:16, 3830.02s/it]"
     ]
    },
    {
     "name": "stdout",
     "output_type": "stream",
     "text": [
      "2023-07-03 18:04:52> Processing of F:/AP_Paper_Benchmark/PXD015087_Thermo\\March_Hela_P035212_BA1_S00_A00_R6.raw for step find_features succeeded. 98.50 %\n"
     ]
    },
    {
     "name": "stderr",
     "output_type": "stream",
     "text": [
      "\r",
      " 98%|██████████████████████████████████████████████████████████████████████████▊ | 0.985/1 [2:13:53<00:44, 2999.96s/it]"
     ]
    },
    {
     "name": "stdout",
     "output_type": "stream",
     "text": [
      "2023-07-03 18:04:58> Processing of F:/AP_Paper_Benchmark/PXD015087_Thermo\\March_Hela_P035212_BA1_S00_A00_R7.raw for step find_features succeeded. 99.00 %\n"
     ]
    },
    {
     "name": "stderr",
     "output_type": "stream",
     "text": [
      "\r",
      " 99%|████████████████████████████████████████████████████████████████████████████▏| 0.99/1 [2:13:59<00:24, 2481.35s/it]"
     ]
    },
    {
     "name": "stdout",
     "output_type": "stream",
     "text": [
      "2023-07-03 18:05:10> Processing of F:/AP_Paper_Benchmark/PXD015087_Thermo\\March_Hela_P035212_BA1_S00_A00_R8.raw for step find_features succeeded. 99.50 %\n"
     ]
    },
    {
     "name": "stderr",
     "output_type": "stream",
     "text": [
      "\r",
      "100%|███████████████████████████████████████████████████████████████████████████▌| 0.995/1 [2:14:11<00:12, 2488.77s/it]"
     ]
    },
    {
     "name": "stdout",
     "output_type": "stream",
     "text": [
      "2023-07-03 18:05:10> Processing of F:/AP_Paper_Benchmark/PXD015087_Thermo\\March_Hela_P035212_BA1_S00_A00_R9.raw for step find_features succeeded. 100.00 %\n"
     ]
    },
    {
     "name": "stderr",
     "output_type": "stream",
     "text": [
      "\r",
      "100%|██████████████████████████████████████████████████████████████████████████████| 1.0/1 [2:14:11<00:00, 8051.98s/it]"
     ]
    },
    {
     "name": "stdout",
     "output_type": "stream",
     "text": [
      "2023-07-03 18:05:11> ==== search_data ====\n"
     ]
    },
    {
     "name": "stderr",
     "output_type": "stream",
     "text": [
      "\n",
      "  0%|                                                                                            | 0/1 [00:00<?, ?it/s]"
     ]
    },
    {
     "name": "stdout",
     "output_type": "stream",
     "text": [
      "2023-07-03 18:05:11> Starting first search.\n",
      "2023-07-03 18:05:11> Processing 200 files for step search_db\n",
      "2023-07-03 18:05:11> Searching. Setting Process limit to 15.\n",
      "2023-07-03 18:05:11> AlphaPool was set to 15 processes. Setting max to 15.\n",
      "2023-07-03 18:06:36> Processing of F:/AP_Paper_Benchmark/PXD015087_Thermo\\Hela_P035210_BA1_S00_A00_R1.raw for step search_db succeeded. 0.50 %\n"
     ]
    },
    {
     "name": "stderr",
     "output_type": "stream",
     "text": [
      "\r",
      "  0%|▍                                                                          | 0.005/1 [01:25<4:43:45, 17111.31s/it]"
     ]
    },
    {
     "name": "stdout",
     "output_type": "stream",
     "text": [
      "2023-07-03 18:06:36> Processing of F:/AP_Paper_Benchmark/PXD015087_Thermo\\Hela_P035210_BA1_S00_A00_R10.raw for step search_db succeeded. 1.00 %\n",
      "2023-07-03 18:06:37> Processing of F:/AP_Paper_Benchmark/PXD015087_Thermo\\Hela_P035210_BA1_S00_A00_R11.raw for step search_db succeeded. 1.50 %\n"
     ]
    },
    {
     "name": "stderr",
     "output_type": "stream",
     "text": [
      "\r",
      "  2%|█▏                                                                          | 0.015/1 [01:26<1:13:53, 4501.41s/it]"
     ]
    },
    {
     "name": "stdout",
     "output_type": "stream",
     "text": [
      "2023-07-03 18:06:37> Processing of F:/AP_Paper_Benchmark/PXD015087_Thermo\\Hela_P035210_BA1_S00_A00_R12.raw for step search_db succeeded. 2.00 %\n",
      "2023-07-03 18:06:37> Processing of F:/AP_Paper_Benchmark/PXD015087_Thermo\\Hela_P035210_BA1_S00_A00_R13.raw for step search_db succeeded. 2.50 %\n",
      "2023-07-03 18:06:37> Processing of F:/AP_Paper_Benchmark/PXD015087_Thermo\\Hela_P035210_BA1_S00_A00_R14.raw for step search_db succeeded. 3.00 %\n",
      "2023-07-03 18:06:37> Processing of F:/AP_Paper_Benchmark/PXD015087_Thermo\\Hela_P035210_BA1_S00_A00_R15.raw for step search_db succeeded. 3.50 %\n",
      "2023-07-03 18:06:37> Processing of F:/AP_Paper_Benchmark/PXD015087_Thermo\\Hela_P035210_BA1_S00_A00_R16.raw for step search_db succeeded. 4.00 %\n",
      "2023-07-03 18:06:37> Processing of F:/AP_Paper_Benchmark/PXD015087_Thermo\\Hela_P035210_BA1_S00_A00_R17.raw for step search_db succeeded. 4.50 %\n"
     ]
    },
    {
     "name": "stderr",
     "output_type": "stream",
     "text": [
      "\r",
      "  4%|███▌                                                                          | 0.045/1 [01:26<17:15, 1084.17s/it]"
     ]
    },
    {
     "name": "stdout",
     "output_type": "stream",
     "text": [
      "2023-07-03 18:06:37> Processing of F:/AP_Paper_Benchmark/PXD015087_Thermo\\Hela_P035210_BA1_S00_A00_R18.raw for step search_db succeeded. 5.00 %\n",
      "2023-07-03 18:06:37> Processing of F:/AP_Paper_Benchmark/PXD015087_Thermo\\Hela_P035210_BA1_S00_A00_R19.raw for step search_db succeeded. 5.50 %\n",
      "2023-07-03 18:06:37> Processing of F:/AP_Paper_Benchmark/PXD015087_Thermo\\Hela_P035210_BA1_S00_A00_R2.raw for step search_db succeeded. 6.00 %\n",
      "2023-07-03 18:06:37> Processing of F:/AP_Paper_Benchmark/PXD015087_Thermo\\Hela_P035210_BA1_S00_A00_R20.raw for step search_db succeeded. 6.50 %\n",
      "2023-07-03 18:06:37> Processing of F:/AP_Paper_Benchmark/PXD015087_Thermo\\Hela_P035210_BA1_S00_A00_R3.raw for step search_db succeeded. 7.00 %\n",
      "2023-07-03 18:06:37> Processing of F:/AP_Paper_Benchmark/PXD015087_Thermo\\Hela_P035210_BA1_S00_A00_R4.raw for step search_db succeeded. 7.50 %\n",
      "2023-07-03 18:07:27> Processing of F:/AP_Paper_Benchmark/PXD015087_Thermo\\Hela_P035210_BA1_S00_A00_R5.raw for step search_db succeeded. 8.00 %\n"
     ]
    },
    {
     "name": "stderr",
     "output_type": "stream",
     "text": [
      "\r",
      "  8%|██████▎                                                                        | 0.08/1 [02:16<19:26, 1267.94s/it]"
     ]
    },
    {
     "name": "stdout",
     "output_type": "stream",
     "text": [
      "2023-07-03 18:07:31> Processing of F:/AP_Paper_Benchmark/PXD015087_Thermo\\Hela_P035210_BA1_S00_A00_R6.raw for step search_db succeeded. 8.50 %\n"
     ]
    },
    {
     "name": "stderr",
     "output_type": "stream",
     "text": [
      "\r",
      "  8%|██████▋                                                                       | 0.085/1 [02:20<18:38, 1221.95s/it]"
     ]
    },
    {
     "name": "stdout",
     "output_type": "stream",
     "text": [
      "2023-07-03 18:07:31> Processing of F:/AP_Paper_Benchmark/PXD015087_Thermo\\Hela_P035210_BA1_S00_A00_R7.raw for step search_db succeeded. 9.00 %\n"
     ]
    },
    {
     "name": "stderr",
     "output_type": "stream",
     "text": [
      "\r",
      "  9%|███████                                                                        | 0.09/1 [02:20<16:25, 1083.31s/it]"
     ]
    },
    {
     "name": "stdout",
     "output_type": "stream",
     "text": [
      "2023-07-03 18:07:31> Processing of F:/AP_Paper_Benchmark/PXD015087_Thermo\\Hela_P035210_BA1_S00_A00_R8.raw for step search_db succeeded. 9.50 %\n",
      "2023-07-03 18:07:35> Processing of F:/AP_Paper_Benchmark/PXD015087_Thermo\\Hela_P035210_BA1_S00_A00_R9.raw for step search_db succeeded. 10.00 %\n"
     ]
    },
    {
     "name": "stderr",
     "output_type": "stream",
     "text": [
      "\r",
      " 10%|████████                                                                         | 0.1/1 [02:24<13:17, 886.12s/it]"
     ]
    },
    {
     "name": "stdout",
     "output_type": "stream",
     "text": [
      "2023-07-03 18:07:36> Processing of F:/AP_Paper_Benchmark/PXD015087_Thermo\\Hela_P035211_BA1_S00_A00_R1.raw for step search_db succeeded. 10.50 %\n"
     ]
    },
    {
     "name": "stderr",
     "output_type": "stream",
     "text": [
      "\r",
      " 10%|████████▎                                                                      | 0.105/1 [02:25<11:27, 768.35s/it]"
     ]
    },
    {
     "name": "stdout",
     "output_type": "stream",
     "text": [
      "2023-07-03 18:07:36> Processing of F:/AP_Paper_Benchmark/PXD015087_Thermo\\Hela_P035211_BA1_S00_A00_R10.raw for step search_db succeeded. 11.00 %\n",
      "2023-07-03 18:07:36> Processing of F:/AP_Paper_Benchmark/PXD015087_Thermo\\Hela_P035211_BA1_S00_A00_R11.raw for step search_db succeeded. 11.50 %\n",
      "2023-07-03 18:07:36> Processing of F:/AP_Paper_Benchmark/PXD015087_Thermo\\Hela_P035211_BA1_S00_A00_R12.raw for step search_db succeeded. 12.00 %\n",
      "2023-07-03 18:07:37> Processing of F:/AP_Paper_Benchmark/PXD015087_Thermo\\Hela_P035211_BA1_S00_A00_R13.raw for step search_db succeeded. 12.50 %\n"
     ]
    },
    {
     "name": "stderr",
     "output_type": "stream",
     "text": [
      "\r",
      " 12%|█████████▉                                                                     | 0.125/1 [02:26<06:29, 444.97s/it]"
     ]
    },
    {
     "name": "stdout",
     "output_type": "stream",
     "text": [
      "2023-07-03 18:07:37> Processing of F:/AP_Paper_Benchmark/PXD015087_Thermo\\Hela_P035211_BA1_S00_A00_R14.raw for step search_db succeeded. 13.00 %\n",
      "2023-07-03 18:07:37> Processing of F:/AP_Paper_Benchmark/PXD015087_Thermo\\Hela_P035211_BA1_S00_A00_R15.raw for step search_db succeeded. 13.50 %\n",
      "2023-07-03 18:07:37> Processing of F:/AP_Paper_Benchmark/PXD015087_Thermo\\Hela_P035211_BA1_S00_A00_R16.raw for step search_db succeeded. 14.00 %\n",
      "2023-07-03 18:07:37> Processing of F:/AP_Paper_Benchmark/PXD015087_Thermo\\Hela_P035211_BA1_S00_A00_R17.raw for step search_db succeeded. 14.50 %\n",
      "2023-07-03 18:07:37> Processing of F:/AP_Paper_Benchmark/PXD015087_Thermo\\Hela_P035211_BA1_S00_A00_R18.raw for step search_db succeeded. 15.00 %\n",
      "2023-07-03 18:08:23> Processing of F:/AP_Paper_Benchmark/PXD015087_Thermo\\Hela_P035211_BA1_S00_A00_R19.raw for step search_db succeeded. 15.50 %\n"
     ]
    },
    {
     "name": "stderr",
     "output_type": "stream",
     "text": [
      "\r",
      " 16%|████████████▏                                                                  | 0.155/1 [03:12<13:53, 986.95s/it]"
     ]
    },
    {
     "name": "stdout",
     "output_type": "stream",
     "text": [
      "2023-07-03 18:08:29> Processing of F:/AP_Paper_Benchmark/PXD015087_Thermo\\Hela_P035211_BA1_S00_A00_R2.raw for step search_db succeeded. 16.00 %\n"
     ]
    },
    {
     "name": "stderr",
     "output_type": "stream",
     "text": [
      "\r",
      " 16%|████████████▋                                                                  | 0.16/1 [03:18<14:02, 1003.52s/it]"
     ]
    },
    {
     "name": "stdout",
     "output_type": "stream",
     "text": [
      "2023-07-03 18:08:29> Processing of F:/AP_Paper_Benchmark/PXD015087_Thermo\\Hela_P035211_BA1_S00_A00_R20.raw for step search_db succeeded. 16.50 %\n",
      "2023-07-03 18:08:30> Processing of F:/AP_Paper_Benchmark/PXD015087_Thermo\\Hela_P035211_BA1_S00_A00_R3.raw for step search_db succeeded. 17.00 %\n"
     ]
    },
    {
     "name": "stderr",
     "output_type": "stream",
     "text": [
      "\r",
      " 17%|█████████████▌                                                                  | 0.17/1 [03:19<10:59, 794.53s/it]"
     ]
    },
    {
     "name": "stdout",
     "output_type": "stream",
     "text": [
      "2023-07-03 18:08:30> Processing of F:/AP_Paper_Benchmark/PXD015087_Thermo\\Hela_P035211_BA1_S00_A00_R4.raw for step search_db succeeded. 17.50 %\n",
      "2023-07-03 18:08:30> Processing of F:/AP_Paper_Benchmark/PXD015087_Thermo\\Hela_P035211_BA1_S00_A00_R5.raw for step search_db succeeded. 18.00 %\n"
     ]
    },
    {
     "name": "stderr",
     "output_type": "stream",
     "text": [
      "\r",
      " 18%|██████████████▍                                                                 | 0.18/1 [03:19<08:10, 597.62s/it]"
     ]
    },
    {
     "name": "stdout",
     "output_type": "stream",
     "text": [
      "2023-07-03 18:08:30> Processing of F:/AP_Paper_Benchmark/PXD015087_Thermo\\Hela_P035211_BA1_S00_A00_R6.raw for step search_db succeeded. 18.50 %\n"
     ]
    },
    {
     "name": "stderr",
     "output_type": "stream",
     "text": [
      "\r",
      " 18%|██████████████▌                                                                | 0.185/1 [03:19<06:57, 512.86s/it]"
     ]
    },
    {
     "name": "stdout",
     "output_type": "stream",
     "text": [
      "2023-07-03 18:08:35> Processing of F:/AP_Paper_Benchmark/PXD015087_Thermo\\Hela_P035211_BA1_S00_A00_R7.raw for step search_db succeeded. 19.00 %\n"
     ]
    },
    {
     "name": "stderr",
     "output_type": "stream",
     "text": [
      "\r",
      " 19%|███████████████▏                                                                | 0.19/1 [03:24<08:06, 600.80s/it]"
     ]
    },
    {
     "name": "stdout",
     "output_type": "stream",
     "text": [
      "2023-07-03 18:08:35> Processing of F:/AP_Paper_Benchmark/PXD015087_Thermo\\Hela_P035211_BA1_S00_A00_R8.raw for step search_db succeeded. 19.50 %\n",
      "2023-07-03 18:08:35> Processing of F:/AP_Paper_Benchmark/PXD015087_Thermo\\Hela_P035211_BA1_S00_A00_R9.raw for step search_db succeeded. 20.00 %\n",
      "2023-07-03 18:08:35> Processing of F:/AP_Paper_Benchmark/PXD015087_Thermo\\Hela_P035213_BA1_S00_A00_R1.raw for step search_db succeeded. 20.50 %\n",
      "2023-07-03 18:08:35> Processing of F:/AP_Paper_Benchmark/PXD015087_Thermo\\Hela_P035213_BA1_S00_A00_R10.raw for step search_db succeeded. 21.00 %\n",
      "2023-07-03 18:08:35> Processing of F:/AP_Paper_Benchmark/PXD015087_Thermo\\Hela_P035213_BA1_S00_A00_R11.raw for step search_db succeeded. 21.50 %\n",
      "2023-07-03 18:08:35> Processing of F:/AP_Paper_Benchmark/PXD015087_Thermo\\Hela_P035213_BA1_S00_A00_R12.raw for step search_db succeeded. 22.00 %\n",
      "2023-07-03 18:08:35> Processing of F:/AP_Paper_Benchmark/PXD015087_Thermo\\Hela_P035213_BA1_S00_A00_R13.raw for step search_db succeeded. 22.50 %\n",
      "2023-07-03 18:09:18> Processing of F:/AP_Paper_Benchmark/PXD015087_Thermo\\Hela_P035213_BA1_S00_A00_R14.raw for step search_db succeeded. 23.00 %\n"
     ]
    },
    {
     "name": "stderr",
     "output_type": "stream",
     "text": [
      "\r",
      " 23%|██████████████████▍                                                             | 0.23/1 [04:07<11:51, 924.19s/it]"
     ]
    },
    {
     "name": "stdout",
     "output_type": "stream",
     "text": [
      "2023-07-03 18:09:18> Processing of F:/AP_Paper_Benchmark/PXD015087_Thermo\\Hela_P035213_BA1_S00_A00_R15.raw for step search_db succeeded. 23.50 %\n",
      "2023-07-03 18:09:19> Processing of F:/AP_Paper_Benchmark/PXD015087_Thermo\\Hela_P035213_BA1_S00_A00_R16.raw for step search_db succeeded. 24.00 %\n"
     ]
    },
    {
     "name": "stderr",
     "output_type": "stream",
     "text": [
      "\r",
      " 24%|███████████████████▏                                                            | 0.24/1 [04:08<09:38, 761.12s/it]"
     ]
    },
    {
     "name": "stdout",
     "output_type": "stream",
     "text": [
      "2023-07-03 18:09:25> Processing of F:/AP_Paper_Benchmark/PXD015087_Thermo\\Hela_P035213_BA1_S00_A00_R17.raw for step search_db succeeded. 24.50 %\n"
     ]
    },
    {
     "name": "stderr",
     "output_type": "stream",
     "text": [
      "\r",
      " 24%|███████████████████▎                                                           | 0.245/1 [04:14<10:08, 806.48s/it]"
     ]
    },
    {
     "name": "stdout",
     "output_type": "stream",
     "text": [
      "2023-07-03 18:09:25> Processing of F:/AP_Paper_Benchmark/PXD015087_Thermo\\Hela_P035213_BA1_S00_A00_R18.raw for step search_db succeeded. 25.00 %\n"
     ]
    },
    {
     "name": "stderr",
     "output_type": "stream",
     "text": [
      "\r",
      " 25%|████████████████████                                                            | 0.25/1 [04:14<08:39, 692.10s/it]"
     ]
    },
    {
     "name": "stdout",
     "output_type": "stream",
     "text": [
      "2023-07-03 18:09:25> Processing of F:/AP_Paper_Benchmark/PXD015087_Thermo\\Hela_P035213_BA1_S00_A00_R19.raw for step search_db succeeded. 25.50 %\n",
      "2023-07-03 18:09:25> Processing of F:/AP_Paper_Benchmark/PXD015087_Thermo\\Hela_P035213_BA1_S00_A00_R2.raw for step search_db succeeded. 26.00 %\n",
      "2023-07-03 18:09:25> Processing of F:/AP_Paper_Benchmark/PXD015087_Thermo\\Hela_P035213_BA1_S00_A00_R20.raw for step search_db succeeded. 26.50 %\n",
      "2023-07-03 18:09:27> Processing of F:/AP_Paper_Benchmark/PXD015087_Thermo\\Hela_P035213_BA1_S00_A00_R3.raw for step search_db succeeded. 27.00 %\n"
     ]
    },
    {
     "name": "stderr",
     "output_type": "stream",
     "text": [
      "\r",
      " 27%|█████████████████████▌                                                          | 0.27/1 [04:16<05:04, 417.31s/it]"
     ]
    },
    {
     "name": "stdout",
     "output_type": "stream",
     "text": [
      "2023-07-03 18:09:29> Processing of F:/AP_Paper_Benchmark/PXD015087_Thermo\\Hela_P035213_BA1_S00_A00_R4.raw for step search_db succeeded. 27.50 %\n"
     ]
    },
    {
     "name": "stderr",
     "output_type": "stream",
     "text": [
      "\r",
      " 28%|█████████████████████▋                                                         | 0.275/1 [04:18<04:57, 410.38s/it]"
     ]
    },
    {
     "name": "stdout",
     "output_type": "stream",
     "text": [
      "2023-07-03 18:09:29> Processing of F:/AP_Paper_Benchmark/PXD015087_Thermo\\Hela_P035213_BA1_S00_A00_R5.raw for step search_db succeeded. 28.00 %\n",
      "2023-07-03 18:09:29> Processing of F:/AP_Paper_Benchmark/PXD015087_Thermo\\Hela_P035213_BA1_S00_A00_R6.raw for step search_db succeeded. 28.50 %\n",
      "2023-07-03 18:09:29> Processing of F:/AP_Paper_Benchmark/PXD015087_Thermo\\Hela_P035213_BA1_S00_A00_R7.raw for step search_db succeeded. 29.00 %\n"
     ]
    },
    {
     "name": "stderr",
     "output_type": "stream",
     "text": [
      "\r",
      " 29%|███████████████████████▏                                                        | 0.29/1 [04:18<03:14, 273.84s/it]"
     ]
    },
    {
     "name": "stdout",
     "output_type": "stream",
     "text": [
      "2023-07-03 18:09:29> Processing of F:/AP_Paper_Benchmark/PXD015087_Thermo\\Hela_P035213_BA1_S00_A00_R8.raw for step search_db succeeded. 29.50 %\n",
      "2023-07-03 18:09:30> Processing of F:/AP_Paper_Benchmark/PXD015087_Thermo\\Hela_P035213_BA1_S00_A00_R9.raw for step search_db succeeded. 30.00 %\n"
     ]
    },
    {
     "name": "stderr",
     "output_type": "stream",
     "text": [
      "\r",
      " 30%|████████████████████████▎                                                        | 0.3/1 [04:19<02:34, 220.81s/it]"
     ]
    },
    {
     "name": "stdout",
     "output_type": "stream",
     "text": [
      "2023-07-03 18:10:15> Processing of F:/AP_Paper_Benchmark/PXD015087_Thermo\\Hela_P035214_BA1_S00_A00_R1.raw for step search_db succeeded. 30.50 %\n"
     ]
    },
    {
     "name": "stderr",
     "output_type": "stream",
     "text": [
      "\r",
      " 30%|███████████████████████▊                                                      | 0.305/1 [05:04<18:41, 1613.86s/it]"
     ]
    },
    {
     "name": "stdout",
     "output_type": "stream",
     "text": [
      "2023-07-03 18:10:16> Processing of F:/AP_Paper_Benchmark/PXD015087_Thermo\\Hela_P035214_BA1_S00_A00_R10.raw for step search_db succeeded. 31.00 %\n"
     ]
    },
    {
     "name": "stderr",
     "output_type": "stream",
     "text": [
      "\r",
      " 31%|████████████████████████▍                                                      | 0.31/1 [05:05<15:33, 1353.62s/it]"
     ]
    },
    {
     "name": "stdout",
     "output_type": "stream",
     "text": [
      "2023-07-03 18:10:16> Processing of F:/AP_Paper_Benchmark/PXD015087_Thermo\\Hela_P035214_BA1_S00_A00_R11.raw for step search_db succeeded. 31.50 %\n",
      "2023-07-03 18:10:19> Processing of F:/AP_Paper_Benchmark/PXD015087_Thermo\\Hela_P035214_BA1_S00_A00_R12.raw for step search_db succeeded. 32.00 %\n"
     ]
    },
    {
     "name": "stderr",
     "output_type": "stream",
     "text": [
      "\r",
      " 32%|█████████████████████████▌                                                      | 0.32/1 [05:07<10:55, 963.62s/it]"
     ]
    },
    {
     "name": "stdout",
     "output_type": "stream",
     "text": [
      "2023-07-03 18:10:19> Processing of F:/AP_Paper_Benchmark/PXD015087_Thermo\\Hela_P035214_BA1_S00_A00_R13.raw for step search_db succeeded. 32.50 %\n"
     ]
    },
    {
     "name": "stderr",
     "output_type": "stream",
     "text": [
      "\r",
      " 32%|█████████████████████████▋                                                     | 0.325/1 [05:08<09:03, 804.63s/it]"
     ]
    },
    {
     "name": "stdout",
     "output_type": "stream",
     "text": [
      "2023-07-03 18:10:23> Processing of F:/AP_Paper_Benchmark/PXD015087_Thermo\\Hela_P035214_BA1_S00_A00_R14.raw for step search_db succeeded. 33.00 %\n"
     ]
    },
    {
     "name": "stderr",
     "output_type": "stream",
     "text": [
      "\r",
      " 33%|██████████████████████████▍                                                     | 0.33/1 [05:12<08:38, 773.14s/it]"
     ]
    },
    {
     "name": "stdout",
     "output_type": "stream",
     "text": [
      "2023-07-03 18:10:23> Processing of F:/AP_Paper_Benchmark/PXD015087_Thermo\\Hela_P035214_BA1_S00_A00_R15.raw for step search_db succeeded. 33.50 %\n",
      "2023-07-03 18:10:23> Processing of F:/AP_Paper_Benchmark/PXD015087_Thermo\\Hela_P035214_BA1_S00_A00_R16.raw for step search_db succeeded. 34.00 %\n"
     ]
    },
    {
     "name": "stderr",
     "output_type": "stream",
     "text": [
      "\r",
      " 34%|███████████████████████████▏                                                    | 0.34/1 [05:12<05:32, 504.50s/it]"
     ]
    },
    {
     "name": "stdout",
     "output_type": "stream",
     "text": [
      "2023-07-03 18:10:23> Processing of F:/AP_Paper_Benchmark/PXD015087_Thermo\\Hela_P035214_BA1_S00_A00_R17.raw for step search_db succeeded. 34.50 %\n",
      "2023-07-03 18:10:23> Processing of F:/AP_Paper_Benchmark/PXD015087_Thermo\\Hela_P035214_BA1_S00_A00_R18.raw for step search_db succeeded. 35.00 %\n",
      "2023-07-03 18:10:25> Processing of F:/AP_Paper_Benchmark/PXD015087_Thermo\\Hela_P035214_BA1_S00_A00_R19.raw for step search_db succeeded. 35.50 %\n"
     ]
    },
    {
     "name": "stderr",
     "output_type": "stream",
     "text": [
      "\r",
      " 36%|████████████████████████████                                                   | 0.355/1 [05:14<03:36, 336.13s/it]"
     ]
    },
    {
     "name": "stdout",
     "output_type": "stream",
     "text": [
      "2023-07-03 18:10:26> Processing of F:/AP_Paper_Benchmark/PXD015087_Thermo\\Hela_P035214_BA1_S00_A00_R2.raw for step search_db succeeded. 36.00 %\n"
     ]
    },
    {
     "name": "stderr",
     "output_type": "stream",
     "text": [
      "\r",
      " 36%|████████████████████████████▊                                                   | 0.36/1 [05:15<03:07, 293.37s/it]"
     ]
    },
    {
     "name": "stdout",
     "output_type": "stream",
     "text": [
      "2023-07-03 18:10:26> Processing of F:/AP_Paper_Benchmark/PXD015087_Thermo\\Hela_P035214_BA1_S00_A00_R20.raw for step search_db succeeded. 36.50 %\n",
      "2023-07-03 18:10:26> Processing of F:/AP_Paper_Benchmark/PXD015087_Thermo\\Hela_P035214_BA1_S00_A00_R3.raw for step search_db succeeded. 37.00 %\n"
     ]
    },
    {
     "name": "stderr",
     "output_type": "stream",
     "text": [
      "\r",
      " 37%|█████████████████████████████▌                                                  | 0.37/1 [05:15<02:08, 204.21s/it]"
     ]
    },
    {
     "name": "stdout",
     "output_type": "stream",
     "text": [
      "2023-07-03 18:10:26> Processing of F:/AP_Paper_Benchmark/PXD015087_Thermo\\Hela_P035214_BA1_S00_A00_R4.raw for step search_db succeeded. 37.50 %\n"
     ]
    },
    {
     "name": "stderr",
     "output_type": "stream",
     "text": [
      "\r",
      " 38%|█████████████████████████████▋                                                 | 0.375/1 [05:15<01:47, 171.31s/it]"
     ]
    },
    {
     "name": "stdout",
     "output_type": "stream",
     "text": [
      "2023-07-03 18:11:09> Processing of F:/AP_Paper_Benchmark/PXD015087_Thermo\\Hela_P035214_BA1_S00_A00_R5.raw for step search_db succeeded. 38.00 %\n"
     ]
    },
    {
     "name": "stderr",
     "output_type": "stream",
     "text": [
      "\r",
      " 38%|██████████████████████████████                                                 | 0.38/1 [05:58<20:29, 1982.38s/it]"
     ]
    },
    {
     "name": "stdout",
     "output_type": "stream",
     "text": [
      "2023-07-03 18:11:09> Processing of F:/AP_Paper_Benchmark/PXD015087_Thermo\\Hela_P035214_BA1_S00_A00_R6.raw for step search_db succeeded. 38.50 %\n",
      "2023-07-03 18:11:09> Processing of F:/AP_Paper_Benchmark/PXD015087_Thermo\\Hela_P035214_BA1_S00_A00_R7.raw for step search_db succeeded. 39.00 %\n"
     ]
    },
    {
     "name": "stderr",
     "output_type": "stream",
     "text": [
      "\r",
      " 39%|██████████████████████████████▊                                                | 0.39/1 [05:58<12:31, 1231.17s/it]"
     ]
    },
    {
     "name": "stdout",
     "output_type": "stream",
     "text": [
      "2023-07-03 18:11:10> Processing of F:/AP_Paper_Benchmark/PXD015087_Thermo\\Hela_P035214_BA1_S00_A00_R8.raw for step search_db succeeded. 39.50 %\n"
     ]
    },
    {
     "name": "stderr",
     "output_type": "stream",
     "text": [
      "\r",
      " 40%|███████████████████████████████▏                                               | 0.395/1 [05:59<10:00, 993.29s/it]"
     ]
    },
    {
     "name": "stdout",
     "output_type": "stream",
     "text": [
      "2023-07-03 18:11:12> Processing of F:/AP_Paper_Benchmark/PXD015087_Thermo\\Hela_P035214_BA1_S00_A00_R9.raw for step search_db succeeded. 40.00 %\n"
     ]
    },
    {
     "name": "stderr",
     "output_type": "stream",
     "text": [
      "\r",
      " 40%|████████████████████████████████▍                                                | 0.4/1 [06:01<08:42, 871.12s/it]"
     ]
    },
    {
     "name": "stdout",
     "output_type": "stream",
     "text": [
      "2023-07-03 18:11:12> Processing of F:/AP_Paper_Benchmark/PXD015087_Thermo\\Hela_P035215_BA1_S00_A00_R1.raw for step search_db succeeded. 40.50 %\n",
      "2023-07-03 18:11:12> Processing of F:/AP_Paper_Benchmark/PXD015087_Thermo\\Hela_P035215_BA1_S00_A00_R10.raw for step search_db succeeded. 41.00 %\n",
      "2023-07-03 18:11:12> Processing of F:/AP_Paper_Benchmark/PXD015087_Thermo\\Hela_P035215_BA1_S00_A00_R11.raw for step search_db succeeded. 41.50 %\n",
      "2023-07-03 18:11:12> Processing of F:/AP_Paper_Benchmark/PXD015087_Thermo\\Hela_P035215_BA1_S00_A00_R12.raw for step search_db succeeded. 42.00 %\n",
      "2023-07-03 18:11:12> Processing of F:/AP_Paper_Benchmark/PXD015087_Thermo\\Hela_P035215_BA1_S00_A00_R13.raw for step search_db succeeded. 42.50 %\n",
      "2023-07-03 18:11:14> Processing of F:/AP_Paper_Benchmark/PXD015087_Thermo\\Hela_P035215_BA1_S00_A00_R14.raw for step search_db succeeded. 43.00 %\n"
     ]
    },
    {
     "name": "stderr",
     "output_type": "stream",
     "text": [
      "\r",
      " 43%|██████████████████████████████████▍                                             | 0.43/1 [06:03<03:11, 335.63s/it]"
     ]
    },
    {
     "name": "stdout",
     "output_type": "stream",
     "text": [
      "2023-07-03 18:11:15> Processing of F:/AP_Paper_Benchmark/PXD015087_Thermo\\Hela_P035215_BA1_S00_A00_R15.raw for step search_db succeeded. 43.50 %\n"
     ]
    },
    {
     "name": "stderr",
     "output_type": "stream",
     "text": [
      "\r",
      " 44%|██████████████████████████████████▎                                            | 0.435/1 [06:04<02:58, 315.73s/it]"
     ]
    },
    {
     "name": "stdout",
     "output_type": "stream",
     "text": [
      "2023-07-03 18:11:16> Processing of F:/AP_Paper_Benchmark/PXD015087_Thermo\\Hela_P035215_BA1_S00_A00_R16.raw for step search_db succeeded. 44.00 %\n"
     ]
    },
    {
     "name": "stderr",
     "output_type": "stream",
     "text": [
      "\r",
      " 44%|███████████████████████████████████▏                                            | 0.44/1 [06:05<02:39, 285.14s/it]"
     ]
    },
    {
     "name": "stdout",
     "output_type": "stream",
     "text": [
      "2023-07-03 18:11:16> Processing of F:/AP_Paper_Benchmark/PXD015087_Thermo\\Hela_P035215_BA1_S00_A00_R17.raw for step search_db succeeded. 44.50 %\n",
      "2023-07-03 18:11:16> Processing of F:/AP_Paper_Benchmark/PXD015087_Thermo\\Hela_P035215_BA1_S00_A00_R18.raw for step search_db succeeded. 45.00 %\n",
      "2023-07-03 18:11:59> Processing of F:/AP_Paper_Benchmark/PXD015087_Thermo\\Hela_P035215_BA1_S00_A00_R19.raw for step search_db succeeded. 45.50 %\n"
     ]
    },
    {
     "name": "stderr",
     "output_type": "stream",
     "text": [
      "\r",
      " 46%|███████████████████████████████████▍                                          | 0.455/1 [06:48<12:13, 1346.21s/it]"
     ]
    },
    {
     "name": "stdout",
     "output_type": "stream",
     "text": [
      "2023-07-03 18:12:00> Processing of F:/AP_Paper_Benchmark/PXD015087_Thermo\\Hela_P035215_BA1_S00_A00_R2.raw for step search_db succeeded. 46.00 %\n"
     ]
    },
    {
     "name": "stderr",
     "output_type": "stream",
     "text": [
      "\r",
      " 46%|████████████████████████████████████▎                                          | 0.46/1 [06:49<10:31, 1169.94s/it]"
     ]
    },
    {
     "name": "stdout",
     "output_type": "stream",
     "text": [
      "2023-07-03 18:12:00> Processing of F:/AP_Paper_Benchmark/PXD015087_Thermo\\Hela_P035215_BA1_S00_A00_R20.raw for step search_db succeeded. 46.50 %\n",
      "2023-07-03 18:12:00> Processing of F:/AP_Paper_Benchmark/PXD015087_Thermo\\Hela_P035215_BA1_S00_A00_R3.raw for step search_db succeeded. 47.00 %\n",
      "2023-07-03 18:12:04> Processing of F:/AP_Paper_Benchmark/PXD015087_Thermo\\Hela_P035215_BA1_S00_A00_R4.raw for step search_db succeeded. 47.50 %\n"
     ]
    },
    {
     "name": "stderr",
     "output_type": "stream",
     "text": [
      "\r",
      " 48%|█████████████████████████████████████▌                                         | 0.475/1 [06:53<06:53, 787.49s/it]"
     ]
    },
    {
     "name": "stdout",
     "output_type": "stream",
     "text": [
      "2023-07-03 18:12:04> Processing of F:/AP_Paper_Benchmark/PXD015087_Thermo\\Hela_P035215_BA1_S00_A00_R5.raw for step search_db succeeded. 48.00 %\n",
      "2023-07-03 18:12:04> Processing of F:/AP_Paper_Benchmark/PXD015087_Thermo\\Hela_P035215_BA1_S00_A00_R6.raw for step search_db succeeded. 48.50 %\n",
      "2023-07-03 18:12:04> Processing of F:/AP_Paper_Benchmark/PXD015087_Thermo\\Hela_P035215_BA1_S00_A00_R7.raw for step search_db succeeded. 49.00 %\n",
      "2023-07-03 18:12:04> Processing of F:/AP_Paper_Benchmark/PXD015087_Thermo\\Hela_P035215_BA1_S00_A00_R8.raw for step search_db succeeded. 49.50 %\n",
      "2023-07-03 18:12:04> Processing of F:/AP_Paper_Benchmark/PXD015087_Thermo\\Hela_P035215_BA1_S00_A00_R9.raw for step search_db succeeded. 50.00 %\n",
      "2023-07-03 18:12:04> Processing of F:/AP_Paper_Benchmark/PXD015087_Thermo\\Hela_P035216_BA1_S00_A00_R1.raw for step search_db succeeded. 50.50 %\n"
     ]
    },
    {
     "name": "stderr",
     "output_type": "stream",
     "text": [
      "\r",
      " 50%|███████████████████████████████████████▉                                       | 0.505/1 [06:53<03:01, 366.53s/it]"
     ]
    },
    {
     "name": "stdout",
     "output_type": "stream",
     "text": [
      "2023-07-03 18:12:09> Processing of F:/AP_Paper_Benchmark/PXD015087_Thermo\\Hela_P035216_BA1_S00_A00_R10.raw for step search_db succeeded. 51.00 %\n"
     ]
    },
    {
     "name": "stderr",
     "output_type": "stream",
     "text": [
      "\r",
      " 51%|████████████████████████████████████████▊                                       | 0.51/1 [06:58<03:32, 433.97s/it]"
     ]
    },
    {
     "name": "stdout",
     "output_type": "stream",
     "text": [
      "2023-07-03 18:12:09> Processing of F:/AP_Paper_Benchmark/PXD015087_Thermo\\Hela_P035216_BA1_S00_A00_R11.raw for step search_db succeeded. 51.50 %\n",
      "2023-07-03 18:12:09> Processing of F:/AP_Paper_Benchmark/PXD015087_Thermo\\Hela_P035216_BA1_S00_A00_R12.raw for step search_db succeeded. 52.00 %\n",
      "2023-07-03 18:12:09> Processing of F:/AP_Paper_Benchmark/PXD015087_Thermo\\Hela_P035216_BA1_S00_A00_R13.raw for step search_db succeeded. 52.50 %\n",
      "2023-07-03 18:12:51> Processing of F:/AP_Paper_Benchmark/PXD015087_Thermo\\Hela_P035216_BA1_S00_A00_R14.raw for step search_db succeeded. 53.00 %\n"
     ]
    },
    {
     "name": "stderr",
     "output_type": "stream",
     "text": [
      "\r",
      " 53%|█████████████████████████████████████████▊                                     | 0.53/1 [07:40<08:31, 1087.53s/it]"
     ]
    },
    {
     "name": "stdout",
     "output_type": "stream",
     "text": [
      "2023-07-03 18:12:52> Processing of F:/AP_Paper_Benchmark/PXD015087_Thermo\\Hela_P035216_BA1_S00_A00_R15.raw for step search_db succeeded. 53.50 %\n"
     ]
    },
    {
     "name": "stderr",
     "output_type": "stream",
     "text": [
      "\r",
      " 54%|██████████████████████████████████████████▎                                    | 0.535/1 [07:41<07:40, 991.05s/it]"
     ]
    },
    {
     "name": "stdout",
     "output_type": "stream",
     "text": [
      "2023-07-03 18:12:52> Processing of F:/AP_Paper_Benchmark/PXD015087_Thermo\\Hela_P035216_BA1_S00_A00_R16.raw for step search_db succeeded. 54.00 %\n",
      "2023-07-03 18:12:53> Processing of F:/AP_Paper_Benchmark/PXD015087_Thermo\\Hela_P035216_BA1_S00_A00_R17.raw for step search_db succeeded. 54.50 %\n"
     ]
    },
    {
     "name": "stderr",
     "output_type": "stream",
     "text": [
      "\r",
      " 55%|███████████████████████████████████████████                                    | 0.545/1 [07:42<05:49, 768.24s/it]"
     ]
    },
    {
     "name": "stdout",
     "output_type": "stream",
     "text": [
      "2023-07-03 18:12:53> Processing of F:/AP_Paper_Benchmark/PXD015087_Thermo\\Hela_P035216_BA1_S00_A00_R18.raw for step search_db succeeded. 55.00 %\n",
      "2023-07-03 18:12:56> Processing of F:/AP_Paper_Benchmark/PXD015087_Thermo\\Hela_P035216_BA1_S00_A00_R19.raw for step search_db succeeded. 55.50 %\n"
     ]
    },
    {
     "name": "stderr",
     "output_type": "stream",
     "text": [
      "\r",
      " 56%|███████████████████████████████████████████▊                                   | 0.555/1 [07:45<04:34, 616.12s/it]"
     ]
    },
    {
     "name": "stdout",
     "output_type": "stream",
     "text": [
      "2023-07-03 18:12:56> Processing of F:/AP_Paper_Benchmark/PXD015087_Thermo\\Hela_P035216_BA1_S00_A00_R2.raw for step search_db succeeded. 56.00 %\n"
     ]
    },
    {
     "name": "stderr",
     "output_type": "stream",
     "text": [
      "\r",
      " 56%|████████████████████████████████████████████▊                                   | 0.56/1 [07:45<03:57, 540.65s/it]"
     ]
    },
    {
     "name": "stdout",
     "output_type": "stream",
     "text": [
      "2023-07-03 18:12:56> Processing of F:/AP_Paper_Benchmark/PXD015087_Thermo\\Hela_P035216_BA1_S00_A00_R20.raw for step search_db succeeded. 56.50 %\n",
      "2023-07-03 18:12:57> Processing of F:/AP_Paper_Benchmark/PXD015087_Thermo\\Hela_P035216_BA1_S00_A00_R3.raw for step search_db succeeded. 57.00 %\n"
     ]
    },
    {
     "name": "stderr",
     "output_type": "stream",
     "text": [
      "\r",
      " 57%|█████████████████████████████████████████████▌                                  | 0.57/1 [07:46<02:53, 403.15s/it]"
     ]
    },
    {
     "name": "stdout",
     "output_type": "stream",
     "text": [
      "2023-07-03 18:12:57> Processing of F:/AP_Paper_Benchmark/PXD015087_Thermo\\Hela_P035216_BA1_S00_A00_R4.raw for step search_db succeeded. 57.50 %\n",
      "2023-07-03 18:12:57> Processing of F:/AP_Paper_Benchmark/PXD015087_Thermo\\Hela_P035216_BA1_S00_A00_R5.raw for step search_db succeeded. 58.00 %\n",
      "2023-07-03 18:12:57> Processing of F:/AP_Paper_Benchmark/PXD015087_Thermo\\Hela_P035216_BA1_S00_A00_R6.raw for step search_db succeeded. 58.50 %\n",
      "2023-07-03 18:12:58> Processing of F:/AP_Paper_Benchmark/PXD015087_Thermo\\Hela_P035216_BA1_S00_A00_R7.raw for step search_db succeeded. 59.00 %\n"
     ]
    },
    {
     "name": "stderr",
     "output_type": "stream",
     "text": [
      "\r",
      " 59%|███████████████████████████████████████████████▏                                | 0.59/1 [07:47<01:30, 220.17s/it]"
     ]
    },
    {
     "name": "stdout",
     "output_type": "stream",
     "text": [
      "2023-07-03 18:12:58> Processing of F:/AP_Paper_Benchmark/PXD015087_Thermo\\Hela_P035216_BA1_S00_A00_R8.raw for step search_db succeeded. 59.50 %\n",
      "2023-07-03 18:12:58> Processing of F:/AP_Paper_Benchmark/PXD015087_Thermo\\Hela_P035216_BA1_S00_A00_R9.raw for step search_db succeeded. 60.00 %\n",
      "2023-07-03 18:13:41> Processing of F:/AP_Paper_Benchmark/PXD015087_Thermo\\Hela_P035217_BA1_S00_A00_R1.raw for step search_db succeeded. 60.50 %\n"
     ]
    },
    {
     "name": "stderr",
     "output_type": "stream",
     "text": [
      "\r",
      " 60%|███████████████████████████████████████████████▏                              | 0.605/1 [08:30<07:21, 1116.46s/it]"
     ]
    },
    {
     "name": "stdout",
     "output_type": "stream",
     "text": [
      "2023-07-03 18:13:41> Processing of F:/AP_Paper_Benchmark/PXD015087_Thermo\\Hela_P035217_BA1_S00_A00_R10.raw for step search_db succeeded. 61.00 %\n"
     ]
    },
    {
     "name": "stderr",
     "output_type": "stream",
     "text": [
      "\r",
      " 61%|████████████████████████████████████████████████▊                               | 0.61/1 [08:30<06:18, 969.45s/it]"
     ]
    },
    {
     "name": "stdout",
     "output_type": "stream",
     "text": [
      "2023-07-03 18:13:41> Processing of F:/AP_Paper_Benchmark/PXD015087_Thermo\\Hela_P035217_BA1_S00_A00_R11.raw for step search_db succeeded. 61.50 %\n",
      "2023-07-03 18:13:43> Processing of F:/AP_Paper_Benchmark/PXD015087_Thermo\\Hela_P035217_BA1_S00_A00_R12.raw for step search_db succeeded. 62.00 %\n"
     ]
    },
    {
     "name": "stderr",
     "output_type": "stream",
     "text": [
      "\r",
      " 62%|█████████████████████████████████████████████████▌                              | 0.62/1 [08:32<04:42, 743.32s/it]"
     ]
    },
    {
     "name": "stdout",
     "output_type": "stream",
     "text": [
      "2023-07-03 18:13:43> Processing of F:/AP_Paper_Benchmark/PXD015087_Thermo\\Hela_P035217_BA1_S00_A00_R13.raw for step search_db succeeded. 62.50 %\n",
      "2023-07-03 18:13:43> Processing of F:/AP_Paper_Benchmark/PXD015087_Thermo\\Hela_P035217_BA1_S00_A00_R14.raw for step search_db succeeded. 63.00 %\n",
      "2023-07-03 18:13:46> Processing of F:/AP_Paper_Benchmark/PXD015087_Thermo\\Hela_P035217_BA1_S00_A00_R15.raw for step search_db succeeded. 63.50 %\n"
     ]
    },
    {
     "name": "stderr",
     "output_type": "stream",
     "text": [
      "\r",
      " 64%|██████████████████████████████████████████████████▏                            | 0.635/1 [08:35<03:22, 553.81s/it]"
     ]
    },
    {
     "name": "stdout",
     "output_type": "stream",
     "text": [
      "2023-07-03 18:13:46> Processing of F:/AP_Paper_Benchmark/PXD015087_Thermo\\Hela_P035217_BA1_S00_A00_R16.raw for step search_db succeeded. 64.00 %\n",
      "2023-07-03 18:13:46> Processing of F:/AP_Paper_Benchmark/PXD015087_Thermo\\Hela_P035217_BA1_S00_A00_R17.raw for step search_db succeeded. 64.50 %\n",
      "2023-07-03 18:13:46> Processing of F:/AP_Paper_Benchmark/PXD015087_Thermo\\Hela_P035217_BA1_S00_A00_R18.raw for step search_db succeeded. 65.00 %\n",
      "2023-07-03 18:13:47> Processing of F:/AP_Paper_Benchmark/PXD015087_Thermo\\Hela_P035217_BA1_S00_A00_R19.raw for step search_db succeeded. 65.50 %\n"
     ]
    },
    {
     "name": "stderr",
     "output_type": "stream",
     "text": [
      "\r",
      " 66%|███████████████████████████████████████████████████▋                           | 0.655/1 [08:36<01:56, 338.51s/it]"
     ]
    },
    {
     "name": "stdout",
     "output_type": "stream",
     "text": [
      "2023-07-03 18:13:47> Processing of F:/AP_Paper_Benchmark/PXD015087_Thermo\\Hela_P035217_BA1_S00_A00_R2.raw for step search_db succeeded. 66.00 %\n",
      "2023-07-03 18:13:47> Processing of F:/AP_Paper_Benchmark/PXD015087_Thermo\\Hela_P035217_BA1_S00_A00_R20.raw for step search_db succeeded. 66.50 %\n",
      "2023-07-03 18:13:47> Processing of F:/AP_Paper_Benchmark/PXD015087_Thermo\\Hela_P035217_BA1_S00_A00_R21.raw for step search_db succeeded. 67.00 %\n",
      "2023-07-03 18:13:49> Processing of F:/AP_Paper_Benchmark/PXD015087_Thermo\\Hela_P035217_BA1_S00_A00_R3.raw for step search_db succeeded. 67.50 %\n"
     ]
    },
    {
     "name": "stderr",
     "output_type": "stream",
     "text": [
      "\r",
      " 68%|█████████████████████████████████████████████████████▎                         | 0.675/1 [08:38<01:17, 238.49s/it]"
     ]
    },
    {
     "name": "stdout",
     "output_type": "stream",
     "text": [
      "2023-07-03 18:14:29> Processing of F:/AP_Paper_Benchmark/PXD015087_Thermo\\Hela_P035217_BA1_S00_A00_R5.raw for step search_db succeeded. 68.00 %\n"
     ]
    },
    {
     "name": "stderr",
     "output_type": "stream",
     "text": [
      "\r",
      " 68%|█████████████████████████████████████████████████████▋                         | 0.68/1 [09:18<06:12, 1164.66s/it]"
     ]
    },
    {
     "name": "stdout",
     "output_type": "stream",
     "text": [
      "2023-07-03 18:14:32> Processing of F:/AP_Paper_Benchmark/PXD015087_Thermo\\Hela_P035217_BA1_S00_A00_R6.raw for step search_db succeeded. 68.50 %\n"
     ]
    },
    {
     "name": "stderr",
     "output_type": "stream",
     "text": [
      "\r",
      " 68%|█████████████████████████████████████████████████████▍                        | 0.685/1 [09:21<05:38, 1073.90s/it]"
     ]
    },
    {
     "name": "stdout",
     "output_type": "stream",
     "text": [
      "2023-07-03 18:14:32> Processing of F:/AP_Paper_Benchmark/PXD015087_Thermo\\Hela_P035217_BA1_S00_A00_R7.raw for step search_db succeeded. 69.00 %\n",
      "2023-07-03 18:14:32> Processing of F:/AP_Paper_Benchmark/PXD015087_Thermo\\Hela_P035217_BA1_S00_A00_R8.raw for step search_db succeeded. 69.50 %\n",
      "2023-07-03 18:14:35> Processing of F:/AP_Paper_Benchmark/PXD015087_Thermo\\Hela_P035217_BA1_S00_A00_R9.raw for step search_db succeeded. 70.00 %\n"
     ]
    },
    {
     "name": "stderr",
     "output_type": "stream",
     "text": [
      "\r",
      " 70%|████████████████████████████████████████████████████████▋                        | 0.7/1 [09:24<03:40, 736.15s/it]"
     ]
    },
    {
     "name": "stdout",
     "output_type": "stream",
     "text": [
      "2023-07-03 18:14:35> Processing of F:/AP_Paper_Benchmark/PXD015087_Thermo\\Hela_P035218_BA1_S00_A00_R1.raw for step search_db succeeded. 70.50 %\n",
      "2023-07-03 18:14:35> Processing of F:/AP_Paper_Benchmark/PXD015087_Thermo\\Hela_P035218_BA1_S00_A00_R10.raw for step search_db succeeded. 71.00 %\n",
      "2023-07-03 18:14:35> Processing of F:/AP_Paper_Benchmark/PXD015087_Thermo\\Hela_P035218_BA1_S00_A00_R11.raw for step search_db succeeded. 71.50 %\n",
      "2023-07-03 18:14:35> Processing of F:/AP_Paper_Benchmark/PXD015087_Thermo\\Hela_P035218_BA1_S00_A00_R12.raw for step search_db succeeded. 72.00 %\n",
      "2023-07-03 18:14:37> Processing of F:/AP_Paper_Benchmark/PXD015087_Thermo\\Hela_P035218_BA1_S00_A00_R13.raw for step search_db succeeded. 72.50 %\n"
     ]
    },
    {
     "name": "stderr",
     "output_type": "stream",
     "text": [
      "\r",
      " 72%|█████████████████████████████████████████████████████████▎                     | 0.725/1 [09:26<01:56, 424.53s/it]"
     ]
    },
    {
     "name": "stdout",
     "output_type": "stream",
     "text": [
      "2023-07-03 18:14:37> Processing of F:/AP_Paper_Benchmark/PXD015087_Thermo\\Hela_P035218_BA1_S00_A00_R14.raw for step search_db succeeded. 73.00 %\n"
     ]
    },
    {
     "name": "stderr",
     "output_type": "stream",
     "text": [
      "\r",
      " 73%|██████████████████████████████████████████████████████████▍                     | 0.73/1 [09:26<01:43, 382.41s/it]"
     ]
    },
    {
     "name": "stdout",
     "output_type": "stream",
     "text": [
      "2023-07-03 18:14:38> Processing of F:/AP_Paper_Benchmark/PXD015087_Thermo\\Hela_P035218_BA1_S00_A00_R15.raw for step search_db succeeded. 73.50 %\n"
     ]
    },
    {
     "name": "stderr",
     "output_type": "stream",
     "text": [
      "\r",
      " 74%|██████████████████████████████████████████████████████████                     | 0.735/1 [09:27<01:36, 362.66s/it]"
     ]
    },
    {
     "name": "stdout",
     "output_type": "stream",
     "text": [
      "2023-07-03 18:14:38> Processing of F:/AP_Paper_Benchmark/PXD015087_Thermo\\Hela_P035218_BA1_S00_A00_R16.raw for step search_db succeeded. 74.00 %\n",
      "2023-07-03 18:14:38> Processing of F:/AP_Paper_Benchmark/PXD015087_Thermo\\Hela_P035218_BA1_S00_A00_R17.raw for step search_db succeeded. 74.50 %\n",
      "2023-07-03 18:14:38> Processing of F:/AP_Paper_Benchmark/PXD015087_Thermo\\Hela_P035218_BA1_S00_A00_R18.raw for step search_db succeeded. 75.00 %\n",
      "2023-07-03 18:15:20> Processing of F:/AP_Paper_Benchmark/PXD015087_Thermo\\Hela_P035218_BA1_S00_A00_R19.raw for step search_db succeeded. 75.50 %\n"
     ]
    },
    {
     "name": "stderr",
     "output_type": "stream",
     "text": [
      "\r",
      " 76%|██████████████████████████████████████████████████████████▉                   | 0.755/1 [10:09<04:39, 1138.92s/it]"
     ]
    },
    {
     "name": "stdout",
     "output_type": "stream",
     "text": [
      "2023-07-03 18:15:20> Processing of F:/AP_Paper_Benchmark/PXD015087_Thermo\\Hela_P035218_BA1_S00_A00_R2.raw for step search_db succeeded. 76.00 %\n",
      "2023-07-03 18:15:22> Processing of F:/AP_Paper_Benchmark/PXD015087_Thermo\\Hela_P035218_BA1_S00_A00_R20.raw for step search_db succeeded. 76.50 %\n"
     ]
    },
    {
     "name": "stderr",
     "output_type": "stream",
     "text": [
      "\r",
      " 76%|████████████████████████████████████████████████████████████▍                  | 0.765/1 [10:11<03:32, 906.37s/it]"
     ]
    },
    {
     "name": "stdout",
     "output_type": "stream",
     "text": [
      "2023-07-03 18:15:22> Processing of F:/AP_Paper_Benchmark/PXD015087_Thermo\\Hela_P035218_BA1_S00_A00_R3.raw for step search_db succeeded. 77.00 %\n",
      "2023-07-03 18:15:22> Processing of F:/AP_Paper_Benchmark/PXD015087_Thermo\\Hela_P035218_BA1_S00_A00_R4.raw for step search_db succeeded. 77.50 %\n",
      "2023-07-03 18:15:25> Processing of F:/AP_Paper_Benchmark/PXD015087_Thermo\\Hela_P035218_BA1_S00_A00_R5.raw for step search_db succeeded. 78.00 %\n"
     ]
    },
    {
     "name": "stderr",
     "output_type": "stream",
     "text": [
      "\r",
      " 78%|██████████████████████████████████████████████████████████████▍                 | 0.78/1 [10:14<02:29, 681.79s/it]"
     ]
    },
    {
     "name": "stdout",
     "output_type": "stream",
     "text": [
      "2023-07-03 18:15:25> Processing of F:/AP_Paper_Benchmark/PXD015087_Thermo\\Hela_P035218_BA1_S00_A00_R6.raw for step search_db succeeded. 78.50 %\n",
      "2023-07-03 18:15:25> Processing of F:/AP_Paper_Benchmark/PXD015087_Thermo\\Hela_P035218_BA1_S00_A00_R7.raw for step search_db succeeded. 79.00 %\n",
      "2023-07-03 18:15:25> Processing of F:/AP_Paper_Benchmark/PXD015087_Thermo\\Hela_P035218_BA1_S00_A00_R8.raw for step search_db succeeded. 79.50 %\n",
      "2023-07-03 18:15:25> Processing of F:/AP_Paper_Benchmark/PXD015087_Thermo\\Hela_P035218_BA1_S00_A00_R9.raw for step search_db succeeded. 80.00 %\n",
      "2023-07-03 18:15:25> Processing of F:/AP_Paper_Benchmark/PXD015087_Thermo\\Hela_P035219_BA1_S00_A00_R1.raw for step search_db succeeded. 80.50 %\n",
      "2023-07-03 18:15:25> Processing of F:/AP_Paper_Benchmark/PXD015087_Thermo\\Hela_P035219_BA1_S00_A00_R10.raw for step search_db succeeded. 81.00 %\n",
      "2023-07-03 18:15:26> Processing of F:/AP_Paper_Benchmark/PXD015087_Thermo\\Hela_P035219_BA1_S00_A00_R11.raw for step search_db succeeded. 81.50 %\n"
     ]
    },
    {
     "name": "stderr",
     "output_type": "stream",
     "text": [
      "\r",
      " 82%|████████████████████████████████████████████████████████████████▍              | 0.815/1 [10:15<00:59, 319.08s/it]"
     ]
    },
    {
     "name": "stdout",
     "output_type": "stream",
     "text": [
      "2023-07-03 18:15:26> Processing of F:/AP_Paper_Benchmark/PXD015087_Thermo\\Hela_P035219_BA1_S00_A00_R12.raw for step search_db succeeded. 82.00 %\n",
      "2023-07-03 18:15:26> Processing of F:/AP_Paper_Benchmark/PXD015087_Thermo\\Hela_P035219_BA1_S00_A00_R13.raw for step search_db succeeded. 82.50 %\n",
      "2023-07-03 18:16:06> Processing of F:/AP_Paper_Benchmark/PXD015087_Thermo\\Hela_P035219_BA1_S00_A00_R14.raw for step search_db succeeded. 83.00 %\n"
     ]
    },
    {
     "name": "stderr",
     "output_type": "stream",
     "text": [
      "\r",
      " 83%|██████████████████████████████████████████████████████████████████▍             | 0.83/1 [10:55<02:34, 906.20s/it]"
     ]
    },
    {
     "name": "stdout",
     "output_type": "stream",
     "text": [
      "2023-07-03 18:16:06> Processing of F:/AP_Paper_Benchmark/PXD015087_Thermo\\Hela_P035219_BA1_S00_A00_R15.raw for step search_db succeeded. 83.50 %\n",
      "2023-07-03 18:16:06> Processing of F:/AP_Paper_Benchmark/PXD015087_Thermo\\Hela_P035219_BA1_S00_A00_R16.raw for step search_db succeeded. 84.00 %\n",
      "2023-07-03 18:16:08> Processing of F:/AP_Paper_Benchmark/PXD015087_Thermo\\Hela_P035219_BA1_S00_A00_R17.raw for step search_db succeeded. 84.50 %\n"
     ]
    },
    {
     "name": "stderr",
     "output_type": "stream",
     "text": [
      "\r",
      " 84%|██████████████████████████████████████████████████████████████████▊            | 0.845/1 [10:57<01:49, 704.73s/it]"
     ]
    },
    {
     "name": "stdout",
     "output_type": "stream",
     "text": [
      "2023-07-03 18:16:08> Processing of F:/AP_Paper_Benchmark/PXD015087_Thermo\\Hela_P035219_BA1_S00_A00_R18.raw for step search_db succeeded. 85.00 %\n",
      "2023-07-03 18:16:08> Processing of F:/AP_Paper_Benchmark/PXD015087_Thermo\\Hela_P035219_BA1_S00_A00_R19.raw for step search_db succeeded. 85.50 %\n"
     ]
    },
    {
     "name": "stderr",
     "output_type": "stream",
     "text": [
      "\r",
      " 86%|███████████████████████████████████████████████████████████████████▌           | 0.855/1 [10:57<01:22, 570.68s/it]"
     ]
    },
    {
     "name": "stdout",
     "output_type": "stream",
     "text": [
      "2023-07-03 18:16:09> Processing of F:/AP_Paper_Benchmark/PXD015087_Thermo\\Hela_P035219_BA1_S00_A00_R2.raw for step search_db succeeded. 86.00 %\n",
      "2023-07-03 18:16:12> Processing of F:/AP_Paper_Benchmark/PXD015087_Thermo\\Hela_P035219_BA1_S00_A00_R20.raw for step search_db succeeded. 86.50 %\n"
     ]
    },
    {
     "name": "stderr",
     "output_type": "stream",
     "text": [
      "\r",
      " 86%|████████████████████████████████████████████████████████████████████▎          | 0.865/1 [11:01<01:11, 526.86s/it]"
     ]
    },
    {
     "name": "stdout",
     "output_type": "stream",
     "text": [
      "2023-07-03 18:16:14> Processing of F:/AP_Paper_Benchmark/PXD015087_Thermo\\Hela_P035219_BA1_S00_A00_R3.raw for step search_db succeeded. 87.00 %\n"
     ]
    },
    {
     "name": "stderr",
     "output_type": "stream",
     "text": [
      "\r",
      " 87%|█████████████████████████████████████████████████████████████████████▌          | 0.87/1 [11:03<01:04, 495.18s/it]"
     ]
    },
    {
     "name": "stdout",
     "output_type": "stream",
     "text": [
      "2023-07-03 18:16:14> Processing of F:/AP_Paper_Benchmark/PXD015087_Thermo\\Hela_P035219_BA1_S00_A00_R4.raw for step search_db succeeded. 87.50 %\n",
      "2023-07-03 18:16:14> Processing of F:/AP_Paper_Benchmark/PXD015087_Thermo\\Hela_P035219_BA1_S00_A00_R5.raw for step search_db succeeded. 88.00 %\n",
      "2023-07-03 18:16:14> Processing of F:/AP_Paper_Benchmark/PXD015087_Thermo\\Hela_P035219_BA1_S00_A00_R6.raw for step search_db succeeded. 88.50 %\n",
      "2023-07-03 18:16:14> Processing of F:/AP_Paper_Benchmark/PXD015087_Thermo\\Hela_P035219_BA1_S00_A00_R7.raw for step search_db succeeded. 89.00 %\n",
      "2023-07-03 18:16:14> Processing of F:/AP_Paper_Benchmark/PXD015087_Thermo\\Hela_P035219_BA1_S00_A00_R8.raw for step search_db succeeded. 89.50 %\n",
      "2023-07-03 18:16:14> Processing of F:/AP_Paper_Benchmark/PXD015087_Thermo\\Hela_P035219_BA1_S00_A00_R9.raw for step search_db succeeded. 90.00 %\n",
      "2023-07-03 18:16:47> Processing of F:/AP_Paper_Benchmark/PXD015087_Thermo\\March_Hela_P035212_BA1_S00_A00_R1.raw for step search_db succeeded. 90.50 %\n"
     ]
    },
    {
     "name": "stderr",
     "output_type": "stream",
     "text": [
      "\r",
      " 90%|███████████████████████████████████████████████████████████████████████▍       | 0.905/1 [11:36<01:11, 756.77s/it]"
     ]
    },
    {
     "name": "stdout",
     "output_type": "stream",
     "text": [
      "2023-07-03 18:16:47> Processing of F:/AP_Paper_Benchmark/PXD015087_Thermo\\March_Hela_P035212_BA1_S00_A00_R10.raw for step search_db succeeded. 91.00 %\n"
     ]
    },
    {
     "name": "stderr",
     "output_type": "stream",
     "text": [
      "\r",
      " 91%|████████████████████████████████████████████████████████████████████████▊       | 0.91/1 [11:36<01:01, 680.02s/it]"
     ]
    },
    {
     "name": "stdout",
     "output_type": "stream",
     "text": [
      "2023-07-03 18:16:48> Processing of F:/AP_Paper_Benchmark/PXD015087_Thermo\\March_Hela_P035212_BA1_S00_A00_R11.raw for step search_db succeeded. 91.50 %\n"
     ]
    },
    {
     "name": "stderr",
     "output_type": "stream",
     "text": [
      "\r",
      " 92%|████████████████████████████████████████████████████████████████████████▎      | 0.915/1 [11:36<00:51, 607.69s/it]"
     ]
    },
    {
     "name": "stdout",
     "output_type": "stream",
     "text": [
      "2023-07-03 18:16:48> Processing of F:/AP_Paper_Benchmark/PXD015087_Thermo\\March_Hela_P035212_BA1_S00_A00_R12.raw for step search_db succeeded. 92.00 %\n",
      "2023-07-03 18:16:48> Processing of F:/AP_Paper_Benchmark/PXD015087_Thermo\\March_Hela_P035212_BA1_S00_A00_R13.raw for step search_db succeeded. 92.50 %\n"
     ]
    },
    {
     "name": "stderr",
     "output_type": "stream",
     "text": [
      "\r",
      " 92%|█████████████████████████████████████████████████████████████████████████      | 0.925/1 [11:37<00:34, 455.00s/it]"
     ]
    },
    {
     "name": "stdout",
     "output_type": "stream",
     "text": [
      "2023-07-03 18:16:48> Processing of F:/AP_Paper_Benchmark/PXD015087_Thermo\\March_Hela_P035212_BA1_S00_A00_R14.raw for step search_db succeeded. 93.00 %\n"
     ]
    },
    {
     "name": "stderr",
     "output_type": "stream",
     "text": [
      "\r",
      " 93%|██████████████████████████████████████████████████████████████████████████▍     | 0.93/1 [11:37<00:27, 392.06s/it]"
     ]
    },
    {
     "name": "stdout",
     "output_type": "stream",
     "text": [
      "2023-07-03 18:16:48> Processing of F:/AP_Paper_Benchmark/PXD015087_Thermo\\March_Hela_P035212_BA1_S00_A00_R15.raw for step search_db succeeded. 93.50 %\n",
      "2023-07-03 18:16:48> Processing of F:/AP_Paper_Benchmark/PXD015087_Thermo\\March_Hela_P035212_BA1_S00_A00_R16.raw for step search_db succeeded. 94.00 %\n",
      "2023-07-03 18:16:48> Processing of F:/AP_Paper_Benchmark/PXD015087_Thermo\\March_Hela_P035212_BA1_S00_A00_R17.raw for step search_db succeeded. 94.50 %\n",
      "2023-07-03 18:16:48> Processing of F:/AP_Paper_Benchmark/PXD015087_Thermo\\March_Hela_P035212_BA1_S00_A00_R18.raw for step search_db succeeded. 95.00 %\n",
      "2023-07-03 18:16:51> Processing of F:/AP_Paper_Benchmark/PXD015087_Thermo\\March_Hela_P035212_BA1_S00_A00_R19.raw for step search_db succeeded. 95.50 %\n"
     ]
    },
    {
     "name": "stderr",
     "output_type": "stream",
     "text": [
      "\r",
      " 96%|███████████████████████████████████████████████████████████████████████████▍   | 0.955/1 [11:40<00:10, 239.21s/it]"
     ]
    },
    {
     "name": "stdout",
     "output_type": "stream",
     "text": [
      "2023-07-03 18:16:51> Processing of F:/AP_Paper_Benchmark/PXD015087_Thermo\\March_Hela_P035212_BA1_S00_A00_R2.raw for step search_db succeeded. 96.00 %\n",
      "2023-07-03 18:16:51> Processing of F:/AP_Paper_Benchmark/PXD015087_Thermo\\March_Hela_P035212_BA1_S00_A00_R20.raw for step search_db succeeded. 96.50 %\n",
      "2023-07-03 18:16:51> Processing of F:/AP_Paper_Benchmark/PXD015087_Thermo\\March_Hela_P035212_BA1_S00_A00_R3.raw for step search_db succeeded. 97.00 %\n",
      "2023-07-03 18:16:51> Processing of F:/AP_Paper_Benchmark/PXD015087_Thermo\\March_Hela_P035212_BA1_S00_A00_R4.raw for step search_db succeeded. 97.50 %\n",
      "2023-07-03 18:17:09> Processing of F:/AP_Paper_Benchmark/PXD015087_Thermo\\March_Hela_P035212_BA1_S00_A00_R5.raw for step search_db succeeded. 98.00 %\n"
     ]
    },
    {
     "name": "stderr",
     "output_type": "stream",
     "text": [
      "\r",
      " 98%|██████████████████████████████████████████████████████████████████████████████▍ | 0.98/1 [11:58<00:09, 456.49s/it]"
     ]
    },
    {
     "name": "stdout",
     "output_type": "stream",
     "text": [
      "2023-07-03 18:17:09> Processing of F:/AP_Paper_Benchmark/PXD015087_Thermo\\March_Hela_P035212_BA1_S00_A00_R6.raw for step search_db succeeded. 98.50 %\n",
      "2023-07-03 18:17:11> Processing of F:/AP_Paper_Benchmark/PXD015087_Thermo\\March_Hela_P035212_BA1_S00_A00_R7.raw for step search_db succeeded. 99.00 %\n"
     ]
    },
    {
     "name": "stderr",
     "output_type": "stream",
     "text": [
      "\r",
      " 99%|███████████████████████████████████████████████████████████████████████████████▏| 0.99/1 [12:00<00:03, 399.57s/it]"
     ]
    },
    {
     "name": "stdout",
     "output_type": "stream",
     "text": [
      "2023-07-03 18:17:11> Processing of F:/AP_Paper_Benchmark/PXD015087_Thermo\\March_Hela_P035212_BA1_S00_A00_R8.raw for step search_db succeeded. 99.50 %\n",
      "2023-07-03 18:17:11> Processing of F:/AP_Paper_Benchmark/PXD015087_Thermo\\March_Hela_P035212_BA1_S00_A00_R9.raw for step search_db succeeded. 100.00 %\n",
      "2023-07-03 18:17:32> First search complete.\n"
     ]
    },
    {
     "name": "stderr",
     "output_type": "stream",
     "text": [
      "\r",
      "100%|█████████████████████████████████████████████████████████████████████████████████| 1.0/1 [12:21<00:00, 741.47s/it]"
     ]
    },
    {
     "name": "stdout",
     "output_type": "stream",
     "text": [
      "2023-07-03 18:17:32> ==== recalibrate_data ====\n"
     ]
    },
    {
     "name": "stderr",
     "output_type": "stream",
     "text": [
      "\n",
      "  0%|                                                                                            | 0/1 [00:00<?, ?it/s]"
     ]
    },
    {
     "name": "stdout",
     "output_type": "stream",
     "text": [
      "2023-07-03 18:17:32> Processing 200 files for step calibrate_hdf\n",
      "2023-07-03 18:17:32> AlphaPool was set to 24 processes. Setting max to 24.\n",
      "2023-07-03 18:19:07> Processing of F:/AP_Paper_Benchmark/PXD015087_Thermo\\Hela_P035210_BA1_S00_A00_R1.raw for step calibrate_hdf succeeded. 0.50 %\n"
     ]
    },
    {
     "name": "stderr",
     "output_type": "stream",
     "text": [
      "\r",
      "  0%|▍                                                                          | 0.005/1 [01:34<5:13:38, 18912.65s/it]"
     ]
    },
    {
     "name": "stdout",
     "output_type": "stream",
     "text": [
      "2023-07-03 18:19:11> Processing of F:/AP_Paper_Benchmark/PXD015087_Thermo\\Hela_P035210_BA1_S00_A00_R10.raw for step calibrate_hdf succeeded. 1.00 %\n"
     ]
    },
    {
     "name": "stderr",
     "output_type": "stream",
     "text": [
      "\r",
      "  1%|▊                                                                            | 0.01/1 [01:38<2:16:14, 8257.00s/it]"
     ]
    },
    {
     "name": "stdout",
     "output_type": "stream",
     "text": [
      "2023-07-03 18:19:11> Processing of F:/AP_Paper_Benchmark/PXD015087_Thermo\\Hela_P035210_BA1_S00_A00_R11.raw for step calibrate_hdf succeeded. 1.50 %\n",
      "2023-07-03 18:19:11> Processing of F:/AP_Paper_Benchmark/PXD015087_Thermo\\Hela_P035210_BA1_S00_A00_R12.raw for step calibrate_hdf succeeded. 2.00 %\n",
      "2023-07-03 18:19:11> Processing of F:/AP_Paper_Benchmark/PXD015087_Thermo\\Hela_P035210_BA1_S00_A00_R13.raw for step calibrate_hdf succeeded. 2.50 %\n",
      "2023-07-03 18:19:11> Processing of F:/AP_Paper_Benchmark/PXD015087_Thermo\\Hela_P035210_BA1_S00_A00_R14.raw for step calibrate_hdf succeeded. 3.00 %\n",
      "2023-07-03 18:19:11> Processing of F:/AP_Paper_Benchmark/PXD015087_Thermo\\Hela_P035210_BA1_S00_A00_R15.raw for step calibrate_hdf succeeded. 3.50 %\n",
      "2023-07-03 18:19:11> Processing of F:/AP_Paper_Benchmark/PXD015087_Thermo\\Hela_P035210_BA1_S00_A00_R16.raw for step calibrate_hdf succeeded. 4.00 %\n",
      "2023-07-03 18:19:11> Processing of F:/AP_Paper_Benchmark/PXD015087_Thermo\\Hela_P035210_BA1_S00_A00_R17.raw for step calibrate_hdf succeeded. 4.50 %\n",
      "2023-07-03 18:19:11> Processing of F:/AP_Paper_Benchmark/PXD015087_Thermo\\Hela_P035210_BA1_S00_A00_R18.raw for step calibrate_hdf succeeded. 5.00 %\n",
      "2023-07-03 18:19:11> Processing of F:/AP_Paper_Benchmark/PXD015087_Thermo\\Hela_P035210_BA1_S00_A00_R19.raw for step calibrate_hdf succeeded. 5.50 %\n",
      "2023-07-03 18:19:11> Processing of F:/AP_Paper_Benchmark/PXD015087_Thermo\\Hela_P035210_BA1_S00_A00_R2.raw for step calibrate_hdf succeeded. 6.00 %\n",
      "2023-07-03 18:19:11> Processing of F:/AP_Paper_Benchmark/PXD015087_Thermo\\Hela_P035210_BA1_S00_A00_R20.raw for step calibrate_hdf succeeded. 6.50 %\n",
      "2023-07-03 18:19:11> Processing of F:/AP_Paper_Benchmark/PXD015087_Thermo\\Hela_P035210_BA1_S00_A00_R3.raw for step calibrate_hdf succeeded. 7.00 %\n",
      "2023-07-03 18:19:11> Processing of F:/AP_Paper_Benchmark/PXD015087_Thermo\\Hela_P035210_BA1_S00_A00_R4.raw for step calibrate_hdf succeeded. 7.50 %\n",
      "2023-07-03 18:19:11> Processing of F:/AP_Paper_Benchmark/PXD015087_Thermo\\Hela_P035210_BA1_S00_A00_R5.raw for step calibrate_hdf succeeded. 8.00 %\n",
      "2023-07-03 18:19:11> Processing of F:/AP_Paper_Benchmark/PXD015087_Thermo\\Hela_P035210_BA1_S00_A00_R6.raw for step calibrate_hdf succeeded. 8.50 %\n",
      "2023-07-03 18:19:11> Processing of F:/AP_Paper_Benchmark/PXD015087_Thermo\\Hela_P035210_BA1_S00_A00_R7.raw for step calibrate_hdf succeeded. 9.00 %\n",
      "2023-07-03 18:19:11> Processing of F:/AP_Paper_Benchmark/PXD015087_Thermo\\Hela_P035210_BA1_S00_A00_R8.raw for step calibrate_hdf succeeded. 9.50 %\n",
      "2023-07-03 18:19:11> Processing of F:/AP_Paper_Benchmark/PXD015087_Thermo\\Hela_P035210_BA1_S00_A00_R9.raw for step calibrate_hdf succeeded. 10.00 %\n",
      "2023-07-03 18:19:14> Processing of F:/AP_Paper_Benchmark/PXD015087_Thermo\\Hela_P035211_BA1_S00_A00_R1.raw for step calibrate_hdf succeeded. 10.50 %\n"
     ]
    },
    {
     "name": "stderr",
     "output_type": "stream",
     "text": [
      "\r",
      " 10%|████████▎                                                                      | 0.105/1 [01:42<07:47, 522.36s/it]"
     ]
    },
    {
     "name": "stdout",
     "output_type": "stream",
     "text": [
      "2023-07-03 18:19:14> Processing of F:/AP_Paper_Benchmark/PXD015087_Thermo\\Hela_P035211_BA1_S00_A00_R10.raw for step calibrate_hdf succeeded. 11.00 %\n",
      "2023-07-03 18:19:14> Processing of F:/AP_Paper_Benchmark/PXD015087_Thermo\\Hela_P035211_BA1_S00_A00_R11.raw for step calibrate_hdf succeeded. 11.50 %\n",
      "2023-07-03 18:19:14> Processing of F:/AP_Paper_Benchmark/PXD015087_Thermo\\Hela_P035211_BA1_S00_A00_R12.raw for step calibrate_hdf succeeded. 12.00 %\n",
      "2023-07-03 18:20:22> Processing of F:/AP_Paper_Benchmark/PXD015087_Thermo\\Hela_P035211_BA1_S00_A00_R13.raw for step calibrate_hdf succeeded. 12.50 %\n"
     ]
    },
    {
     "name": "stderr",
     "output_type": "stream",
     "text": [
      "\r",
      " 12%|█████████▊                                                                    | 0.125/1 [02:49<16:48, 1152.43s/it]"
     ]
    },
    {
     "name": "stdout",
     "output_type": "stream",
     "text": [
      "2023-07-03 18:20:23> Processing of F:/AP_Paper_Benchmark/PXD015087_Thermo\\Hela_P035211_BA1_S00_A00_R14.raw for step calibrate_hdf succeeded. 13.00 %\n"
     ]
    },
    {
     "name": "stderr",
     "output_type": "stream",
     "text": [
      "\r",
      " 13%|██████████▎                                                                    | 0.13/1 [02:50<15:44, 1086.02s/it]"
     ]
    },
    {
     "name": "stdout",
     "output_type": "stream",
     "text": [
      "2023-07-03 18:20:23> Processing of F:/AP_Paper_Benchmark/PXD015087_Thermo\\Hela_P035211_BA1_S00_A00_R15.raw for step calibrate_hdf succeeded. 13.50 %\n",
      "2023-07-03 18:20:23> Processing of F:/AP_Paper_Benchmark/PXD015087_Thermo\\Hela_P035211_BA1_S00_A00_R16.raw for step calibrate_hdf succeeded. 14.00 %\n",
      "2023-07-03 18:20:23> Processing of F:/AP_Paper_Benchmark/PXD015087_Thermo\\Hela_P035211_BA1_S00_A00_R17.raw for step calibrate_hdf succeeded. 14.50 %\n",
      "2023-07-03 18:20:23> Processing of F:/AP_Paper_Benchmark/PXD015087_Thermo\\Hela_P035211_BA1_S00_A00_R18.raw for step calibrate_hdf succeeded. 15.00 %\n",
      "2023-07-03 18:20:23> Processing of F:/AP_Paper_Benchmark/PXD015087_Thermo\\Hela_P035211_BA1_S00_A00_R19.raw for step calibrate_hdf succeeded. 15.50 %\n",
      "2023-07-03 18:20:31> Processing of F:/AP_Paper_Benchmark/PXD015087_Thermo\\Hela_P035211_BA1_S00_A00_R2.raw for step calibrate_hdf succeeded. 16.00 %\n"
     ]
    },
    {
     "name": "stderr",
     "output_type": "stream",
     "text": [
      "\r",
      " 16%|████████████▊                                                                   | 0.16/1 [02:58<10:43, 766.09s/it]"
     ]
    },
    {
     "name": "stdout",
     "output_type": "stream",
     "text": [
      "2023-07-03 18:20:31> Processing of F:/AP_Paper_Benchmark/PXD015087_Thermo\\Hela_P035211_BA1_S00_A00_R20.raw for step calibrate_hdf succeeded. 16.50 %\n",
      "2023-07-03 18:20:32> Processing of F:/AP_Paper_Benchmark/PXD015087_Thermo\\Hela_P035211_BA1_S00_A00_R3.raw for step calibrate_hdf succeeded. 17.00 %\n"
     ]
    },
    {
     "name": "stderr",
     "output_type": "stream",
     "text": [
      "\r",
      " 17%|█████████████▌                                                                  | 0.17/1 [02:59<09:06, 658.95s/it]"
     ]
    },
    {
     "name": "stdout",
     "output_type": "stream",
     "text": [
      "2023-07-03 18:20:32> Processing of F:/AP_Paper_Benchmark/PXD015087_Thermo\\Hela_P035211_BA1_S00_A00_R4.raw for step calibrate_hdf succeeded. 17.50 %\n",
      "2023-07-03 18:20:32> Processing of F:/AP_Paper_Benchmark/PXD015087_Thermo\\Hela_P035211_BA1_S00_A00_R5.raw for step calibrate_hdf succeeded. 18.00 %\n",
      "2023-07-03 18:20:32> Processing of F:/AP_Paper_Benchmark/PXD015087_Thermo\\Hela_P035211_BA1_S00_A00_R6.raw for step calibrate_hdf succeeded. 18.50 %\n"
     ]
    },
    {
     "name": "stderr",
     "output_type": "stream",
     "text": [
      "\r",
      " 18%|██████████████▌                                                                | 0.185/1 [03:00<06:53, 507.90s/it]"
     ]
    },
    {
     "name": "stdout",
     "output_type": "stream",
     "text": [
      "2023-07-03 18:20:33> Processing of F:/AP_Paper_Benchmark/PXD015087_Thermo\\Hela_P035211_BA1_S00_A00_R7.raw for step calibrate_hdf succeeded. 19.00 %\n"
     ]
    },
    {
     "name": "stderr",
     "output_type": "stream",
     "text": [
      "\r",
      " 19%|███████████████▏                                                                | 0.19/1 [03:00<06:13, 461.53s/it]"
     ]
    },
    {
     "name": "stdout",
     "output_type": "stream",
     "text": [
      "2023-07-03 18:20:33> Processing of F:/AP_Paper_Benchmark/PXD015087_Thermo\\Hela_P035211_BA1_S00_A00_R8.raw for step calibrate_hdf succeeded. 19.50 %\n"
     ]
    },
    {
     "name": "stderr",
     "output_type": "stream",
     "text": [
      "\r",
      " 20%|███████████████▍                                                               | 0.195/1 [03:01<05:35, 416.40s/it]"
     ]
    },
    {
     "name": "stdout",
     "output_type": "stream",
     "text": [
      "2023-07-03 18:20:33> Processing of F:/AP_Paper_Benchmark/PXD015087_Thermo\\Hela_P035211_BA1_S00_A00_R9.raw for step calibrate_hdf succeeded. 20.00 %\n",
      "2023-07-03 18:20:33> Processing of F:/AP_Paper_Benchmark/PXD015087_Thermo\\Hela_P035213_BA1_S00_A00_R1.raw for step calibrate_hdf succeeded. 20.50 %\n",
      "2023-07-03 18:20:33> Processing of F:/AP_Paper_Benchmark/PXD015087_Thermo\\Hela_P035213_BA1_S00_A00_R10.raw for step calibrate_hdf succeeded. 21.00 %\n",
      "2023-07-03 18:20:33> Processing of F:/AP_Paper_Benchmark/PXD015087_Thermo\\Hela_P035213_BA1_S00_A00_R11.raw for step calibrate_hdf succeeded. 21.50 %\n",
      "2023-07-03 18:20:33> Processing of F:/AP_Paper_Benchmark/PXD015087_Thermo\\Hela_P035213_BA1_S00_A00_R12.raw for step calibrate_hdf succeeded. 22.00 %\n",
      "2023-07-03 18:20:35> Processing of F:/AP_Paper_Benchmark/PXD015087_Thermo\\Hela_P035213_BA1_S00_A00_R13.raw for step calibrate_hdf succeeded. 22.50 %\n"
     ]
    },
    {
     "name": "stderr",
     "output_type": "stream",
     "text": [
      "\r",
      " 22%|█████████████████▊                                                             | 0.225/1 [03:02<02:46, 215.30s/it]"
     ]
    },
    {
     "name": "stdout",
     "output_type": "stream",
     "text": [
      "2023-07-03 18:20:35> Processing of F:/AP_Paper_Benchmark/PXD015087_Thermo\\Hela_P035213_BA1_S00_A00_R14.raw for step calibrate_hdf succeeded. 23.00 %\n",
      "2023-07-03 18:20:35> Processing of F:/AP_Paper_Benchmark/PXD015087_Thermo\\Hela_P035213_BA1_S00_A00_R15.raw for step calibrate_hdf succeeded. 23.50 %\n",
      "2023-07-03 18:20:35> Processing of F:/AP_Paper_Benchmark/PXD015087_Thermo\\Hela_P035213_BA1_S00_A00_R16.raw for step calibrate_hdf succeeded. 24.00 %\n",
      "2023-07-03 18:21:33> Processing of F:/AP_Paper_Benchmark/PXD015087_Thermo\\Hela_P035213_BA1_S00_A00_R17.raw for step calibrate_hdf succeeded. 24.50 %\n"
     ]
    },
    {
     "name": "stderr",
     "output_type": "stream",
     "text": [
      "\r",
      " 24%|███████████████████                                                           | 0.245/1 [04:00<14:06, 1121.39s/it]"
     ]
    },
    {
     "name": "stdout",
     "output_type": "stream",
     "text": [
      "2023-07-03 18:21:37> Processing of F:/AP_Paper_Benchmark/PXD015087_Thermo\\Hela_P035213_BA1_S00_A00_R18.raw for step calibrate_hdf succeeded. 25.00 %\n"
     ]
    },
    {
     "name": "stderr",
     "output_type": "stream",
     "text": [
      "\r",
      " 25%|███████████████████▊                                                           | 0.25/1 [04:05<13:43, 1098.52s/it]"
     ]
    },
    {
     "name": "stdout",
     "output_type": "stream",
     "text": [
      "2023-07-03 18:21:37> Processing of F:/AP_Paper_Benchmark/PXD015087_Thermo\\Hela_P035213_BA1_S00_A00_R19.raw for step calibrate_hdf succeeded. 25.50 %\n",
      "2023-07-03 18:21:41> Processing of F:/AP_Paper_Benchmark/PXD015087_Thermo\\Hela_P035213_BA1_S00_A00_R2.raw for step calibrate_hdf succeeded. 26.00 %\n"
     ]
    },
    {
     "name": "stderr",
     "output_type": "stream",
     "text": [
      "\r",
      " 26%|████████████████████▊                                                           | 0.26/1 [04:08<11:19, 918.45s/it]"
     ]
    },
    {
     "name": "stdout",
     "output_type": "stream",
     "text": [
      "2023-07-03 18:21:41> Processing of F:/AP_Paper_Benchmark/PXD015087_Thermo\\Hela_P035213_BA1_S00_A00_R20.raw for step calibrate_hdf succeeded. 26.50 %\n",
      "2023-07-03 18:21:41> Processing of F:/AP_Paper_Benchmark/PXD015087_Thermo\\Hela_P035213_BA1_S00_A00_R3.raw for step calibrate_hdf succeeded. 27.00 %\n"
     ]
    },
    {
     "name": "stderr",
     "output_type": "stream",
     "text": [
      "\r",
      " 27%|█████████████████████▌                                                          | 0.27/1 [04:09<08:35, 705.58s/it]"
     ]
    },
    {
     "name": "stdout",
     "output_type": "stream",
     "text": [
      "2023-07-03 18:21:41> Processing of F:/AP_Paper_Benchmark/PXD015087_Thermo\\Hela_P035213_BA1_S00_A00_R4.raw for step calibrate_hdf succeeded. 27.50 %\n",
      "2023-07-03 18:21:42> Processing of F:/AP_Paper_Benchmark/PXD015087_Thermo\\Hela_P035213_BA1_S00_A00_R5.raw for step calibrate_hdf succeeded. 28.00 %\n"
     ]
    },
    {
     "name": "stderr",
     "output_type": "stream",
     "text": [
      "\r",
      " 28%|██████████████████████▍                                                         | 0.28/1 [04:10<06:35, 549.31s/it]"
     ]
    },
    {
     "name": "stdout",
     "output_type": "stream",
     "text": [
      "2023-07-03 18:21:50> Processing of F:/AP_Paper_Benchmark/PXD015087_Thermo\\Hela_P035213_BA1_S00_A00_R6.raw for step calibrate_hdf succeeded. 28.50 %\n"
     ]
    },
    {
     "name": "stderr",
     "output_type": "stream",
     "text": [
      "\r",
      " 28%|██████████████████████▌                                                        | 0.285/1 [04:17<08:17, 696.07s/it]"
     ]
    },
    {
     "name": "stdout",
     "output_type": "stream",
     "text": [
      "2023-07-03 18:21:51> Processing of F:/AP_Paper_Benchmark/PXD015087_Thermo\\Hela_P035213_BA1_S00_A00_R7.raw for step calibrate_hdf succeeded. 29.00 %\n"
     ]
    },
    {
     "name": "stderr",
     "output_type": "stream",
     "text": [
      "\r",
      " 29%|███████████████████████▏                                                        | 0.29/1 [04:18<07:06, 601.38s/it]"
     ]
    },
    {
     "name": "stdout",
     "output_type": "stream",
     "text": [
      "2023-07-03 18:21:54> Processing of F:/AP_Paper_Benchmark/PXD015087_Thermo\\Hela_P035213_BA1_S00_A00_R8.raw for step calibrate_hdf succeeded. 29.50 %\n"
     ]
    },
    {
     "name": "stderr",
     "output_type": "stream",
     "text": [
      "\r",
      " 30%|███████████████████████▎                                                       | 0.295/1 [04:21<07:05, 604.10s/it]"
     ]
    },
    {
     "name": "stdout",
     "output_type": "stream",
     "text": [
      "2023-07-03 18:21:54> Processing of F:/AP_Paper_Benchmark/PXD015087_Thermo\\Hela_P035213_BA1_S00_A00_R9.raw for step calibrate_hdf succeeded. 30.00 %\n",
      "2023-07-03 18:21:54> Processing of F:/AP_Paper_Benchmark/PXD015087_Thermo\\Hela_P035214_BA1_S00_A00_R1.raw for step calibrate_hdf succeeded. 30.50 %\n",
      "2023-07-03 18:21:54> Processing of F:/AP_Paper_Benchmark/PXD015087_Thermo\\Hela_P035214_BA1_S00_A00_R10.raw for step calibrate_hdf succeeded. 31.00 %\n",
      "2023-07-03 18:21:54> Processing of F:/AP_Paper_Benchmark/PXD015087_Thermo\\Hela_P035214_BA1_S00_A00_R11.raw for step calibrate_hdf succeeded. 31.50 %\n",
      "2023-07-03 18:21:56> Processing of F:/AP_Paper_Benchmark/PXD015087_Thermo\\Hela_P035214_BA1_S00_A00_R12.raw for step calibrate_hdf succeeded. 32.00 %\n"
     ]
    },
    {
     "name": "stderr",
     "output_type": "stream",
     "text": [
      "\r",
      " 32%|█████████████████████████▌                                                      | 0.32/1 [04:23<03:11, 282.10s/it]"
     ]
    },
    {
     "name": "stdout",
     "output_type": "stream",
     "text": [
      "2023-07-03 18:21:56> Processing of F:/AP_Paper_Benchmark/PXD015087_Thermo\\Hela_P035214_BA1_S00_A00_R13.raw for step calibrate_hdf succeeded. 32.50 %\n",
      "2023-07-03 18:21:56> Processing of F:/AP_Paper_Benchmark/PXD015087_Thermo\\Hela_P035214_BA1_S00_A00_R14.raw for step calibrate_hdf succeeded. 33.00 %\n",
      "2023-07-03 18:21:56> Processing of F:/AP_Paper_Benchmark/PXD015087_Thermo\\Hela_P035214_BA1_S00_A00_R15.raw for step calibrate_hdf succeeded. 33.50 %\n",
      "2023-07-03 18:21:56> Processing of F:/AP_Paper_Benchmark/PXD015087_Thermo\\Hela_P035214_BA1_S00_A00_R16.raw for step calibrate_hdf succeeded. 34.00 %\n",
      "2023-07-03 18:21:56> Processing of F:/AP_Paper_Benchmark/PXD015087_Thermo\\Hela_P035214_BA1_S00_A00_R17.raw for step calibrate_hdf succeeded. 34.50 %\n",
      "2023-07-03 18:21:56> Processing of F:/AP_Paper_Benchmark/PXD015087_Thermo\\Hela_P035214_BA1_S00_A00_R18.raw for step calibrate_hdf succeeded. 35.00 %\n",
      "2023-07-03 18:21:56> Processing of F:/AP_Paper_Benchmark/PXD015087_Thermo\\Hela_P035214_BA1_S00_A00_R19.raw for step calibrate_hdf succeeded. 35.50 %\n",
      "2023-07-03 18:21:56> Processing of F:/AP_Paper_Benchmark/PXD015087_Thermo\\Hela_P035214_BA1_S00_A00_R2.raw for step calibrate_hdf succeeded. 36.00 %\n",
      "2023-07-03 18:22:43> Processing of F:/AP_Paper_Benchmark/PXD015087_Thermo\\Hela_P035214_BA1_S00_A00_R20.raw for step calibrate_hdf succeeded. 36.50 %\n"
     ]
    },
    {
     "name": "stderr",
     "output_type": "stream",
     "text": [
      "\r",
      " 36%|████████████████████████████▊                                                  | 0.365/1 [05:10<07:59, 754.74s/it]"
     ]
    },
    {
     "name": "stdout",
     "output_type": "stream",
     "text": [
      "2023-07-03 18:22:43> Processing of F:/AP_Paper_Benchmark/PXD015087_Thermo\\Hela_P035214_BA1_S00_A00_R3.raw for step calibrate_hdf succeeded. 37.00 %\n",
      "2023-07-03 18:22:43> Processing of F:/AP_Paper_Benchmark/PXD015087_Thermo\\Hela_P035214_BA1_S00_A00_R4.raw for step calibrate_hdf succeeded. 37.50 %\n",
      "2023-07-03 18:22:43> Processing of F:/AP_Paper_Benchmark/PXD015087_Thermo\\Hela_P035214_BA1_S00_A00_R5.raw for step calibrate_hdf succeeded. 38.00 %\n",
      "2023-07-03 18:22:47> Processing of F:/AP_Paper_Benchmark/PXD015087_Thermo\\Hela_P035214_BA1_S00_A00_R6.raw for step calibrate_hdf succeeded. 38.50 %\n"
     ]
    },
    {
     "name": "stderr",
     "output_type": "stream",
     "text": [
      "\r",
      " 38%|██████████████████████████████▍                                                | 0.385/1 [05:14<06:06, 595.19s/it]"
     ]
    },
    {
     "name": "stdout",
     "output_type": "stream",
     "text": [
      "2023-07-03 18:22:49> Processing of F:/AP_Paper_Benchmark/PXD015087_Thermo\\Hela_P035214_BA1_S00_A00_R7.raw for step calibrate_hdf succeeded. 39.00 %\n"
     ]
    },
    {
     "name": "stderr",
     "output_type": "stream",
     "text": [
      "\r",
      " 39%|███████████████████████████████▏                                                | 0.39/1 [05:17<05:58, 587.02s/it]"
     ]
    },
    {
     "name": "stdout",
     "output_type": "stream",
     "text": [
      "2023-07-03 18:22:58> Processing of F:/AP_Paper_Benchmark/PXD015087_Thermo\\Hela_P035214_BA1_S00_A00_R8.raw for step calibrate_hdf succeeded. 39.50 %\n"
     ]
    },
    {
     "name": "stderr",
     "output_type": "stream",
     "text": [
      "\r",
      " 40%|███████████████████████████████▏                                               | 0.395/1 [05:26<07:18, 724.83s/it]"
     ]
    },
    {
     "name": "stdout",
     "output_type": "stream",
     "text": [
      "2023-07-03 18:23:02> Processing of F:/AP_Paper_Benchmark/PXD015087_Thermo\\Hela_P035214_BA1_S00_A00_R9.raw for step calibrate_hdf succeeded. 40.00 %\n"
     ]
    },
    {
     "name": "stderr",
     "output_type": "stream",
     "text": [
      "\r",
      " 40%|████████████████████████████████▍                                                | 0.4/1 [05:29<07:12, 720.06s/it]"
     ]
    },
    {
     "name": "stdout",
     "output_type": "stream",
     "text": [
      "2023-07-03 18:23:02> Processing of F:/AP_Paper_Benchmark/PXD015087_Thermo\\Hela_P035215_BA1_S00_A00_R1.raw for step calibrate_hdf succeeded. 40.50 %\n",
      "2023-07-03 18:23:02> Processing of F:/AP_Paper_Benchmark/PXD015087_Thermo\\Hela_P035215_BA1_S00_A00_R10.raw for step calibrate_hdf succeeded. 41.00 %\n",
      "2023-07-03 18:23:02> Processing of F:/AP_Paper_Benchmark/PXD015087_Thermo\\Hela_P035215_BA1_S00_A00_R11.raw for step calibrate_hdf succeeded. 41.50 %\n",
      "2023-07-03 18:23:02> Processing of F:/AP_Paper_Benchmark/PXD015087_Thermo\\Hela_P035215_BA1_S00_A00_R12.raw for step calibrate_hdf succeeded. 42.00 %\n",
      "2023-07-03 18:23:02> Processing of F:/AP_Paper_Benchmark/PXD015087_Thermo\\Hela_P035215_BA1_S00_A00_R13.raw for step calibrate_hdf succeeded. 42.50 %\n",
      "2023-07-03 18:23:02> Processing of F:/AP_Paper_Benchmark/PXD015087_Thermo\\Hela_P035215_BA1_S00_A00_R14.raw for step calibrate_hdf succeeded. 43.00 %\n",
      "2023-07-03 18:23:02> Processing of F:/AP_Paper_Benchmark/PXD015087_Thermo\\Hela_P035215_BA1_S00_A00_R15.raw for step calibrate_hdf succeeded. 43.50 %\n",
      "2023-07-03 18:23:02> Processing of F:/AP_Paper_Benchmark/PXD015087_Thermo\\Hela_P035215_BA1_S00_A00_R16.raw for step calibrate_hdf succeeded. 44.00 %\n",
      "2023-07-03 18:23:02> Processing of F:/AP_Paper_Benchmark/PXD015087_Thermo\\Hela_P035215_BA1_S00_A00_R17.raw for step calibrate_hdf succeeded. 44.50 %\n",
      "2023-07-03 18:23:02> Processing of F:/AP_Paper_Benchmark/PXD015087_Thermo\\Hela_P035215_BA1_S00_A00_R18.raw for step calibrate_hdf succeeded. 45.00 %\n",
      "2023-07-03 18:23:02> Processing of F:/AP_Paper_Benchmark/PXD015087_Thermo\\Hela_P035215_BA1_S00_A00_R19.raw for step calibrate_hdf succeeded. 45.50 %\n",
      "2023-07-03 18:23:02> Processing of F:/AP_Paper_Benchmark/PXD015087_Thermo\\Hela_P035215_BA1_S00_A00_R2.raw for step calibrate_hdf succeeded. 46.00 %\n",
      "2023-07-03 18:23:02> Processing of F:/AP_Paper_Benchmark/PXD015087_Thermo\\Hela_P035215_BA1_S00_A00_R20.raw for step calibrate_hdf succeeded. 46.50 %\n",
      "2023-07-03 18:23:02> Processing of F:/AP_Paper_Benchmark/PXD015087_Thermo\\Hela_P035215_BA1_S00_A00_R3.raw for step calibrate_hdf succeeded. 47.00 %\n",
      "2023-07-03 18:23:02> Processing of F:/AP_Paper_Benchmark/PXD015087_Thermo\\Hela_P035215_BA1_S00_A00_R4.raw for step calibrate_hdf succeeded. 47.50 %\n",
      "2023-07-03 18:23:02> Processing of F:/AP_Paper_Benchmark/PXD015087_Thermo\\Hela_P035215_BA1_S00_A00_R5.raw for step calibrate_hdf succeeded. 48.00 %\n",
      "2023-07-03 18:23:35> Processing of F:/AP_Paper_Benchmark/PXD015087_Thermo\\Hela_P035215_BA1_S00_A00_R6.raw for step calibrate_hdf succeeded. 48.50 %\n"
     ]
    },
    {
     "name": "stderr",
     "output_type": "stream",
     "text": [
      "\r",
      " 48%|██████████████████████████████████████▎                                        | 0.485/1 [06:03<04:01, 468.41s/it]"
     ]
    },
    {
     "name": "stdout",
     "output_type": "stream",
     "text": [
      "2023-07-03 18:23:38> Processing of F:/AP_Paper_Benchmark/PXD015087_Thermo\\Hela_P035215_BA1_S00_A00_R7.raw for step calibrate_hdf succeeded. 49.00 %\n"
     ]
    },
    {
     "name": "stderr",
     "output_type": "stream",
     "text": [
      "\r",
      " 49%|███████████████████████████████████████▏                                        | 0.49/1 [06:05<03:57, 465.80s/it]"
     ]
    },
    {
     "name": "stdout",
     "output_type": "stream",
     "text": [
      "2023-07-03 18:23:39> Processing of F:/AP_Paper_Benchmark/PXD015087_Thermo\\Hela_P035215_BA1_S00_A00_R8.raw for step calibrate_hdf succeeded. 49.50 %\n"
     ]
    },
    {
     "name": "stderr",
     "output_type": "stream",
     "text": [
      "\r",
      " 50%|███████████████████████████████████████                                        | 0.495/1 [06:06<03:50, 456.33s/it]"
     ]
    },
    {
     "name": "stdout",
     "output_type": "stream",
     "text": [
      "2023-07-03 18:23:39> Processing of F:/AP_Paper_Benchmark/PXD015087_Thermo\\Hela_P035215_BA1_S00_A00_R9.raw for step calibrate_hdf succeeded. 50.00 %\n"
     ]
    },
    {
     "name": "stderr",
     "output_type": "stream",
     "text": [
      "\r",
      " 50%|████████████████████████████████████████▌                                        | 0.5/1 [06:07<03:26, 413.99s/it]"
     ]
    },
    {
     "name": "stdout",
     "output_type": "stream",
     "text": [
      "2023-07-03 18:23:39> Processing of F:/AP_Paper_Benchmark/PXD015087_Thermo\\Hela_P035216_BA1_S00_A00_R1.raw for step calibrate_hdf succeeded. 50.50 %\n",
      "2023-07-03 18:23:43> Processing of F:/AP_Paper_Benchmark/PXD015087_Thermo\\Hela_P035216_BA1_S00_A00_R10.raw for step calibrate_hdf succeeded. 51.00 %\n"
     ]
    },
    {
     "name": "stderr",
     "output_type": "stream",
     "text": [
      "\r",
      " 51%|████████████████████████████████████████▊                                       | 0.51/1 [06:11<03:21, 410.30s/it]"
     ]
    },
    {
     "name": "stdout",
     "output_type": "stream",
     "text": [
      "2023-07-03 18:23:51> Processing of F:/AP_Paper_Benchmark/PXD015087_Thermo\\Hela_P035216_BA1_S00_A00_R11.raw for step calibrate_hdf succeeded. 51.50 %\n"
     ]
    },
    {
     "name": "stderr",
     "output_type": "stream",
     "text": [
      "\r",
      " 52%|████████████████████████████████████████▋                                      | 0.515/1 [06:18<04:34, 566.39s/it]"
     ]
    },
    {
     "name": "stdout",
     "output_type": "stream",
     "text": [
      "2023-07-03 18:23:54> Processing of F:/AP_Paper_Benchmark/PXD015087_Thermo\\Hela_P035216_BA1_S00_A00_R12.raw for step calibrate_hdf succeeded. 52.00 %\n"
     ]
    },
    {
     "name": "stderr",
     "output_type": "stream",
     "text": [
      "\r",
      " 52%|█████████████████████████████████████████▌                                      | 0.52/1 [06:22<04:39, 582.81s/it]"
     ]
    },
    {
     "name": "stdout",
     "output_type": "stream",
     "text": [
      "2023-07-03 18:23:58> Processing of F:/AP_Paper_Benchmark/PXD015087_Thermo\\Hela_P035216_BA1_S00_A00_R13.raw for step calibrate_hdf succeeded. 52.50 %\n"
     ]
    },
    {
     "name": "stderr",
     "output_type": "stream",
     "text": [
      "\r",
      " 52%|█████████████████████████████████████████▍                                     | 0.525/1 [06:25<04:46, 603.00s/it]"
     ]
    },
    {
     "name": "stdout",
     "output_type": "stream",
     "text": [
      "2023-07-03 18:23:59> Processing of F:/AP_Paper_Benchmark/PXD015087_Thermo\\Hela_P035216_BA1_S00_A00_R14.raw for step calibrate_hdf succeeded. 53.00 %\n"
     ]
    },
    {
     "name": "stderr",
     "output_type": "stream",
     "text": [
      "\r",
      " 53%|██████████████████████████████████████████▍                                     | 0.53/1 [06:26<04:11, 534.26s/it]"
     ]
    },
    {
     "name": "stdout",
     "output_type": "stream",
     "text": [
      "2023-07-03 18:24:01> Processing of F:/AP_Paper_Benchmark/PXD015087_Thermo\\Hela_P035216_BA1_S00_A00_R15.raw for step calibrate_hdf succeeded. 53.50 %\n"
     ]
    },
    {
     "name": "stderr",
     "output_type": "stream",
     "text": [
      "\r",
      " 54%|██████████████████████████████████████████▎                                    | 0.535/1 [06:29<03:56, 508.45s/it]"
     ]
    },
    {
     "name": "stdout",
     "output_type": "stream",
     "text": [
      "2023-07-03 18:24:03> Processing of F:/AP_Paper_Benchmark/PXD015087_Thermo\\Hela_P035216_BA1_S00_A00_R16.raw for step calibrate_hdf succeeded. 54.00 %\n"
     ]
    },
    {
     "name": "stderr",
     "output_type": "stream",
     "text": [
      "\r",
      " 54%|███████████████████████████████████████████▏                                    | 0.54/1 [06:30<03:24, 444.83s/it]"
     ]
    },
    {
     "name": "stdout",
     "output_type": "stream",
     "text": [
      "2023-07-03 18:24:05> Processing of F:/AP_Paper_Benchmark/PXD015087_Thermo\\Hela_P035216_BA1_S00_A00_R17.raw for step calibrate_hdf succeeded. 54.50 %\n"
     ]
    },
    {
     "name": "stderr",
     "output_type": "stream",
     "text": [
      "\r",
      " 55%|███████████████████████████████████████████                                    | 0.545/1 [06:33<03:36, 475.97s/it]"
     ]
    },
    {
     "name": "stdout",
     "output_type": "stream",
     "text": [
      "2023-07-03 18:24:07> Processing of F:/AP_Paper_Benchmark/PXD015087_Thermo\\Hela_P035216_BA1_S00_A00_R18.raw for step calibrate_hdf succeeded. 55.00 %\n"
     ]
    },
    {
     "name": "stderr",
     "output_type": "stream",
     "text": [
      "\r",
      " 55%|████████████████████████████████████████████                                    | 0.55/1 [06:34<03:16, 436.95s/it]"
     ]
    },
    {
     "name": "stdout",
     "output_type": "stream",
     "text": [
      "2023-07-03 18:24:07> Processing of F:/AP_Paper_Benchmark/PXD015087_Thermo\\Hela_P035216_BA1_S00_A00_R19.raw for step calibrate_hdf succeeded. 55.50 %\n"
     ]
    },
    {
     "name": "stderr",
     "output_type": "stream",
     "text": [
      "\r",
      " 56%|███████████████████████████████████████████▊                                   | 0.555/1 [06:34<02:22, 320.24s/it]"
     ]
    },
    {
     "name": "stdout",
     "output_type": "stream",
     "text": [
      "2023-07-03 18:24:09> Processing of F:/AP_Paper_Benchmark/PXD015087_Thermo\\Hela_P035216_BA1_S00_A00_R2.raw for step calibrate_hdf succeeded. 56.00 %\n"
     ]
    },
    {
     "name": "stderr",
     "output_type": "stream",
     "text": [
      "\r",
      " 56%|████████████████████████████████████████████▊                                   | 0.56/1 [06:36<02:29, 339.11s/it]"
     ]
    },
    {
     "name": "stdout",
     "output_type": "stream",
     "text": [
      "2023-07-03 18:24:09> Processing of F:/AP_Paper_Benchmark/PXD015087_Thermo\\Hela_P035216_BA1_S00_A00_R20.raw for step calibrate_hdf succeeded. 56.50 %\n",
      "2023-07-03 18:24:13> Processing of F:/AP_Paper_Benchmark/PXD015087_Thermo\\Hela_P035216_BA1_S00_A00_R3.raw for step calibrate_hdf succeeded. 57.00 %\n"
     ]
    },
    {
     "name": "stderr",
     "output_type": "stream",
     "text": [
      "\r",
      " 57%|█████████████████████████████████████████████▌                                  | 0.57/1 [06:40<02:29, 346.81s/it]"
     ]
    },
    {
     "name": "stdout",
     "output_type": "stream",
     "text": [
      "2023-07-03 18:24:13> Processing of F:/AP_Paper_Benchmark/PXD015087_Thermo\\Hela_P035216_BA1_S00_A00_R4.raw for step calibrate_hdf succeeded. 57.50 %\n",
      "2023-07-03 18:24:13> Processing of F:/AP_Paper_Benchmark/PXD015087_Thermo\\Hela_P035216_BA1_S00_A00_R5.raw for step calibrate_hdf succeeded. 58.00 %\n",
      "2023-07-03 18:24:13> Processing of F:/AP_Paper_Benchmark/PXD015087_Thermo\\Hela_P035216_BA1_S00_A00_R6.raw for step calibrate_hdf succeeded. 58.50 %\n",
      "2023-07-03 18:24:13> Processing of F:/AP_Paper_Benchmark/PXD015087_Thermo\\Hela_P035216_BA1_S00_A00_R7.raw for step calibrate_hdf succeeded. 59.00 %\n",
      "2023-07-03 18:24:13> Processing of F:/AP_Paper_Benchmark/PXD015087_Thermo\\Hela_P035216_BA1_S00_A00_R8.raw for step calibrate_hdf succeeded. 59.50 %\n",
      "2023-07-03 18:24:13> Processing of F:/AP_Paper_Benchmark/PXD015087_Thermo\\Hela_P035216_BA1_S00_A00_R9.raw for step calibrate_hdf succeeded. 60.00 %\n",
      "2023-07-03 18:24:40> Processing of F:/AP_Paper_Benchmark/PXD015087_Thermo\\Hela_P035217_BA1_S00_A00_R1.raw for step calibrate_hdf succeeded. 60.50 %\n"
     ]
    },
    {
     "name": "stderr",
     "output_type": "stream",
     "text": [
      "\r",
      " 60%|███████████████████████████████████████████████▊                               | 0.605/1 [07:07<04:15, 646.69s/it]"
     ]
    },
    {
     "name": "stdout",
     "output_type": "stream",
     "text": [
      "2023-07-03 18:24:44> Processing of F:/AP_Paper_Benchmark/PXD015087_Thermo\\Hela_P035217_BA1_S00_A00_R10.raw for step calibrate_hdf succeeded. 61.00 %\n"
     ]
    },
    {
     "name": "stderr",
     "output_type": "stream",
     "text": [
      "\r",
      " 61%|████████████████████████████████████████████████▊                               | 0.61/1 [07:11<04:17, 660.41s/it]"
     ]
    },
    {
     "name": "stdout",
     "output_type": "stream",
     "text": [
      "2023-07-03 18:24:44> Processing of F:/AP_Paper_Benchmark/PXD015087_Thermo\\Hela_P035217_BA1_S00_A00_R11.raw for step calibrate_hdf succeeded. 61.50 %\n",
      "2023-07-03 18:24:44> Processing of F:/AP_Paper_Benchmark/PXD015087_Thermo\\Hela_P035217_BA1_S00_A00_R12.raw for step calibrate_hdf succeeded. 62.00 %\n",
      "2023-07-03 18:24:44> Processing of F:/AP_Paper_Benchmark/PXD015087_Thermo\\Hela_P035217_BA1_S00_A00_R13.raw for step calibrate_hdf succeeded. 62.50 %\n",
      "2023-07-03 18:24:44> Processing of F:/AP_Paper_Benchmark/PXD015087_Thermo\\Hela_P035217_BA1_S00_A00_R14.raw for step calibrate_hdf succeeded. 63.00 %\n",
      "2023-07-03 18:24:53> Processing of F:/AP_Paper_Benchmark/PXD015087_Thermo\\Hela_P035217_BA1_S00_A00_R15.raw for step calibrate_hdf succeeded. 63.50 %\n"
     ]
    },
    {
     "name": "stderr",
     "output_type": "stream",
     "text": [
      "\r",
      " 64%|██████████████████████████████████████████████████▏                            | 0.635/1 [07:20<03:10, 522.57s/it]"
     ]
    },
    {
     "name": "stdout",
     "output_type": "stream",
     "text": [
      "2023-07-03 18:24:54> Processing of F:/AP_Paper_Benchmark/PXD015087_Thermo\\Hela_P035217_BA1_S00_A00_R16.raw for step calibrate_hdf succeeded. 64.00 %\n"
     ]
    },
    {
     "name": "stderr",
     "output_type": "stream",
     "text": [
      "\r",
      " 64%|███████████████████████████████████████████████████▏                            | 0.64/1 [07:21<02:56, 490.08s/it]"
     ]
    },
    {
     "name": "stdout",
     "output_type": "stream",
     "text": [
      "2023-07-03 18:24:54> Processing of F:/AP_Paper_Benchmark/PXD015087_Thermo\\Hela_P035217_BA1_S00_A00_R17.raw for step calibrate_hdf succeeded. 64.50 %\n",
      "2023-07-03 18:24:54> Processing of F:/AP_Paper_Benchmark/PXD015087_Thermo\\Hela_P035217_BA1_S00_A00_R18.raw for step calibrate_hdf succeeded. 65.00 %\n",
      "2023-07-03 18:24:54> Processing of F:/AP_Paper_Benchmark/PXD015087_Thermo\\Hela_P035217_BA1_S00_A00_R19.raw for step calibrate_hdf succeeded. 65.50 %\n",
      "2023-07-03 18:25:10> Processing of F:/AP_Paper_Benchmark/PXD015087_Thermo\\Hela_P035217_BA1_S00_A00_R2.raw for step calibrate_hdf succeeded. 66.00 %\n"
     ]
    },
    {
     "name": "stderr",
     "output_type": "stream",
     "text": [
      "\r",
      " 66%|████████████████████████████████████████████████████▊                           | 0.66/1 [07:37<03:25, 605.80s/it]"
     ]
    },
    {
     "name": "stdout",
     "output_type": "stream",
     "text": [
      "2023-07-03 18:25:10> Processing of F:/AP_Paper_Benchmark/PXD015087_Thermo\\Hela_P035217_BA1_S00_A00_R20.raw for step calibrate_hdf succeeded. 66.50 %\n",
      "2023-07-03 18:25:10> Processing of F:/AP_Paper_Benchmark/PXD015087_Thermo\\Hela_P035217_BA1_S00_A00_R21.raw for step calibrate_hdf succeeded. 67.00 %\n",
      "2023-07-03 18:25:11> Processing of F:/AP_Paper_Benchmark/PXD015087_Thermo\\Hela_P035217_BA1_S00_A00_R3.raw for step calibrate_hdf succeeded. 67.50 %\n"
     ]
    },
    {
     "name": "stderr",
     "output_type": "stream",
     "text": [
      "\r",
      " 68%|█████████████████████████████████████████████████████▎                         | 0.675/1 [07:38<02:26, 451.81s/it]"
     ]
    },
    {
     "name": "stdout",
     "output_type": "stream",
     "text": [
      "2023-07-03 18:25:12> Processing of F:/AP_Paper_Benchmark/PXD015087_Thermo\\Hela_P035217_BA1_S00_A00_R5.raw for step calibrate_hdf succeeded. 68.00 %\n"
     ]
    },
    {
     "name": "stderr",
     "output_type": "stream",
     "text": [
      "\r",
      " 68%|██████████████████████████████████████████████████████▍                         | 0.68/1 [07:39<02:13, 416.01s/it]"
     ]
    },
    {
     "name": "stdout",
     "output_type": "stream",
     "text": [
      "2023-07-03 18:25:12> Processing of F:/AP_Paper_Benchmark/PXD015087_Thermo\\Hela_P035217_BA1_S00_A00_R6.raw for step calibrate_hdf succeeded. 68.50 %\n"
     ]
    },
    {
     "name": "stderr",
     "output_type": "stream",
     "text": [
      "\r",
      " 68%|██████████████████████████████████████████████████████                         | 0.685/1 [07:40<01:53, 361.59s/it]"
     ]
    },
    {
     "name": "stdout",
     "output_type": "stream",
     "text": [
      "2023-07-03 18:25:13> Processing of F:/AP_Paper_Benchmark/PXD015087_Thermo\\Hela_P035217_BA1_S00_A00_R7.raw for step calibrate_hdf succeeded. 69.00 %\n"
     ]
    },
    {
     "name": "stderr",
     "output_type": "stream",
     "text": [
      "\r",
      " 69%|███████████████████████████████████████████████████████▏                        | 0.69/1 [07:40<01:39, 321.82s/it]"
     ]
    },
    {
     "name": "stdout",
     "output_type": "stream",
     "text": [
      "2023-07-03 18:25:14> Processing of F:/AP_Paper_Benchmark/PXD015087_Thermo\\Hela_P035217_BA1_S00_A00_R8.raw for step calibrate_hdf succeeded. 69.50 %\n"
     ]
    },
    {
     "name": "stderr",
     "output_type": "stream",
     "text": [
      "\r",
      " 70%|██████████████████████████████████████████████████████▉                        | 0.695/1 [07:41<01:31, 300.59s/it]"
     ]
    },
    {
     "name": "stdout",
     "output_type": "stream",
     "text": [
      "2023-07-03 18:25:14> Processing of F:/AP_Paper_Benchmark/PXD015087_Thermo\\Hela_P035217_BA1_S00_A00_R9.raw for step calibrate_hdf succeeded. 70.00 %\n",
      "2023-07-03 18:25:14> Processing of F:/AP_Paper_Benchmark/PXD015087_Thermo\\Hela_P035218_BA1_S00_A00_R1.raw for step calibrate_hdf succeeded. 70.50 %\n",
      "2023-07-03 18:25:17> Processing of F:/AP_Paper_Benchmark/PXD015087_Thermo\\Hela_P035218_BA1_S00_A00_R10.raw for step calibrate_hdf succeeded. 71.00 %\n"
     ]
    },
    {
     "name": "stderr",
     "output_type": "stream",
     "text": [
      "\r",
      " 71%|████████████████████████████████████████████████████████▊                       | 0.71/1 [07:45<01:16, 263.96s/it]"
     ]
    },
    {
     "name": "stdout",
     "output_type": "stream",
     "text": [
      "2023-07-03 18:25:17> Processing of F:/AP_Paper_Benchmark/PXD015087_Thermo\\Hela_P035218_BA1_S00_A00_R11.raw for step calibrate_hdf succeeded. 71.50 %\n",
      "2023-07-03 18:25:17> Processing of F:/AP_Paper_Benchmark/PXD015087_Thermo\\Hela_P035218_BA1_S00_A00_R12.raw for step calibrate_hdf succeeded. 72.00 %\n",
      "2023-07-03 18:25:17> Processing of F:/AP_Paper_Benchmark/PXD015087_Thermo\\Hela_P035218_BA1_S00_A00_R13.raw for step calibrate_hdf succeeded. 72.50 %\n",
      "2023-07-03 18:25:17> Processing of F:/AP_Paper_Benchmark/PXD015087_Thermo\\Hela_P035218_BA1_S00_A00_R14.raw for step calibrate_hdf succeeded. 73.00 %\n",
      "2023-07-03 18:25:20> Processing of F:/AP_Paper_Benchmark/PXD015087_Thermo\\Hela_P035218_BA1_S00_A00_R15.raw for step calibrate_hdf succeeded. 73.50 %\n"
     ]
    },
    {
     "name": "stderr",
     "output_type": "stream",
     "text": [
      "\r",
      " 74%|██████████████████████████████████████████████████████████                     | 0.735/1 [07:47<00:45, 172.94s/it]"
     ]
    },
    {
     "name": "stdout",
     "output_type": "stream",
     "text": [
      "2023-07-03 18:25:29> Processing of F:/AP_Paper_Benchmark/PXD015087_Thermo\\Hela_P035218_BA1_S00_A00_R16.raw for step calibrate_hdf succeeded. 74.00 %\n"
     ]
    },
    {
     "name": "stderr",
     "output_type": "stream",
     "text": [
      "\r",
      " 74%|███████████████████████████████████████████████████████████▏                    | 0.74/1 [07:56<01:39, 383.79s/it]"
     ]
    },
    {
     "name": "stdout",
     "output_type": "stream",
     "text": [
      "2023-07-03 18:25:29> Processing of F:/AP_Paper_Benchmark/PXD015087_Thermo\\Hela_P035218_BA1_S00_A00_R17.raw for step calibrate_hdf succeeded. 74.50 %\n"
     ]
    },
    {
     "name": "stderr",
     "output_type": "stream",
     "text": [
      "\r",
      " 74%|██████████████████████████████████████████████████████████▊                    | 0.745/1 [07:57<01:28, 347.81s/it]"
     ]
    },
    {
     "name": "stdout",
     "output_type": "stream",
     "text": [
      "2023-07-03 18:25:39> Processing of F:/AP_Paper_Benchmark/PXD015087_Thermo\\Hela_P035218_BA1_S00_A00_R18.raw for step calibrate_hdf succeeded. 75.00 %\n"
     ]
    },
    {
     "name": "stderr",
     "output_type": "stream",
     "text": [
      "\r",
      " 75%|████████████████████████████████████████████████████████████                    | 0.75/1 [08:07<02:42, 650.42s/it]"
     ]
    },
    {
     "name": "stdout",
     "output_type": "stream",
     "text": [
      "2023-07-03 18:25:50> Processing of F:/AP_Paper_Benchmark/PXD015087_Thermo\\Hela_P035218_BA1_S00_A00_R19.raw for step calibrate_hdf succeeded. 75.50 %\n"
     ]
    },
    {
     "name": "stderr",
     "output_type": "stream",
     "text": [
      "\r",
      " 76%|███████████████████████████████████████████████████████████▋                   | 0.755/1 [08:17<03:53, 953.88s/it]"
     ]
    },
    {
     "name": "stdout",
     "output_type": "stream",
     "text": [
      "2023-07-03 18:25:50> Processing of F:/AP_Paper_Benchmark/PXD015087_Thermo\\Hela_P035218_BA1_S00_A00_R2.raw for step calibrate_hdf succeeded. 76.00 %\n",
      "2023-07-03 18:25:50> Processing of F:/AP_Paper_Benchmark/PXD015087_Thermo\\Hela_P035218_BA1_S00_A00_R20.raw for step calibrate_hdf succeeded. 76.50 %\n"
     ]
    },
    {
     "name": "stderr",
     "output_type": "stream",
     "text": [
      "\r",
      " 76%|████████████████████████████████████████████████████████████▍                  | 0.765/1 [08:17<02:23, 609.66s/it]"
     ]
    },
    {
     "name": "stdout",
     "output_type": "stream",
     "text": [
      "2023-07-03 18:25:50> Processing of F:/AP_Paper_Benchmark/PXD015087_Thermo\\Hela_P035218_BA1_S00_A00_R3.raw for step calibrate_hdf succeeded. 77.00 %\n",
      "2023-07-03 18:25:50> Processing of F:/AP_Paper_Benchmark/PXD015087_Thermo\\Hela_P035218_BA1_S00_A00_R4.raw for step calibrate_hdf succeeded. 77.50 %\n",
      "2023-07-03 18:25:57> Processing of F:/AP_Paper_Benchmark/PXD015087_Thermo\\Hela_P035218_BA1_S00_A00_R5.raw for step calibrate_hdf succeeded. 78.00 %\n"
     ]
    },
    {
     "name": "stderr",
     "output_type": "stream",
     "text": [
      "\r",
      " 78%|██████████████████████████████████████████████████████████████▍                 | 0.78/1 [08:24<01:57, 535.61s/it]"
     ]
    },
    {
     "name": "stdout",
     "output_type": "stream",
     "text": [
      "2023-07-03 18:25:57> Processing of F:/AP_Paper_Benchmark/PXD015087_Thermo\\Hela_P035218_BA1_S00_A00_R6.raw for step calibrate_hdf succeeded. 78.50 %\n",
      "2023-07-03 18:25:57> Processing of F:/AP_Paper_Benchmark/PXD015087_Thermo\\Hela_P035218_BA1_S00_A00_R7.raw for step calibrate_hdf succeeded. 79.00 %\n",
      "2023-07-03 18:26:02> Processing of F:/AP_Paper_Benchmark/PXD015087_Thermo\\Hela_P035218_BA1_S00_A00_R8.raw for step calibrate_hdf succeeded. 79.50 %\n"
     ]
    },
    {
     "name": "stderr",
     "output_type": "stream",
     "text": [
      "\r",
      " 80%|██████████████████████████████████████████████████████████████▊                | 0.795/1 [08:29<01:34, 461.65s/it]"
     ]
    },
    {
     "name": "stdout",
     "output_type": "stream",
     "text": [
      "2023-07-03 18:26:02> Processing of F:/AP_Paper_Benchmark/PXD015087_Thermo\\Hela_P035218_BA1_S00_A00_R9.raw for step calibrate_hdf succeeded. 80.00 %\n",
      "2023-07-03 18:26:02> Processing of F:/AP_Paper_Benchmark/PXD015087_Thermo\\Hela_P035219_BA1_S00_A00_R1.raw for step calibrate_hdf succeeded. 80.50 %\n",
      "2023-07-03 18:26:09> Processing of F:/AP_Paper_Benchmark/PXD015087_Thermo\\Hela_P035219_BA1_S00_A00_R10.raw for step calibrate_hdf succeeded. 81.00 %\n"
     ]
    },
    {
     "name": "stderr",
     "output_type": "stream",
     "text": [
      "\r",
      " 81%|████████████████████████████████████████████████████████████████▊               | 0.81/1 [08:36<01:27, 459.40s/it]"
     ]
    },
    {
     "name": "stdout",
     "output_type": "stream",
     "text": [
      "2023-07-03 18:26:09> Processing of F:/AP_Paper_Benchmark/PXD015087_Thermo\\Hela_P035219_BA1_S00_A00_R11.raw for step calibrate_hdf succeeded. 81.50 %\n",
      "2023-07-03 18:26:09> Processing of F:/AP_Paper_Benchmark/PXD015087_Thermo\\Hela_P035219_BA1_S00_A00_R12.raw for step calibrate_hdf succeeded. 82.00 %\n",
      "2023-07-03 18:26:09> Processing of F:/AP_Paper_Benchmark/PXD015087_Thermo\\Hela_P035219_BA1_S00_A00_R13.raw for step calibrate_hdf succeeded. 82.50 %\n",
      "2023-07-03 18:26:09> Processing of F:/AP_Paper_Benchmark/PXD015087_Thermo\\Hela_P035219_BA1_S00_A00_R14.raw for step calibrate_hdf succeeded. 83.00 %\n",
      "2023-07-03 18:26:09> Processing of F:/AP_Paper_Benchmark/PXD015087_Thermo\\Hela_P035219_BA1_S00_A00_R15.raw for step calibrate_hdf succeeded. 83.50 %\n",
      "2023-07-03 18:26:09> Processing of F:/AP_Paper_Benchmark/PXD015087_Thermo\\Hela_P035219_BA1_S00_A00_R16.raw for step calibrate_hdf succeeded. 84.00 %\n",
      "2023-07-03 18:26:09> Processing of F:/AP_Paper_Benchmark/PXD015087_Thermo\\Hela_P035219_BA1_S00_A00_R17.raw for step calibrate_hdf succeeded. 84.50 %\n",
      "2023-07-03 18:26:09> Processing of F:/AP_Paper_Benchmark/PXD015087_Thermo\\Hela_P035219_BA1_S00_A00_R18.raw for step calibrate_hdf succeeded. 85.00 %\n",
      "2023-07-03 18:26:09> Processing of F:/AP_Paper_Benchmark/PXD015087_Thermo\\Hela_P035219_BA1_S00_A00_R19.raw for step calibrate_hdf succeeded. 85.50 %\n",
      "2023-07-03 18:26:09> Processing of F:/AP_Paper_Benchmark/PXD015087_Thermo\\Hela_P035219_BA1_S00_A00_R2.raw for step calibrate_hdf succeeded. 86.00 %\n",
      "2023-07-03 18:26:09> Processing of F:/AP_Paper_Benchmark/PXD015087_Thermo\\Hela_P035219_BA1_S00_A00_R20.raw for step calibrate_hdf succeeded. 86.50 %\n",
      "2023-07-03 18:26:26> Processing of F:/AP_Paper_Benchmark/PXD015087_Thermo\\Hela_P035219_BA1_S00_A00_R3.raw for step calibrate_hdf succeeded. 87.00 %\n"
     ]
    },
    {
     "name": "stderr",
     "output_type": "stream",
     "text": [
      "\r",
      " 87%|█████████████████████████████████████████████████████████████████████▌          | 0.87/1 [08:53<00:44, 344.71s/it]"
     ]
    },
    {
     "name": "stdout",
     "output_type": "stream",
     "text": [
      "2023-07-03 18:26:34> Processing of F:/AP_Paper_Benchmark/PXD015087_Thermo\\Hela_P035219_BA1_S00_A00_R4.raw for step calibrate_hdf succeeded. 87.50 %\n"
     ]
    },
    {
     "name": "stderr",
     "output_type": "stream",
     "text": [
      "\r",
      " 88%|█████████████████████████████████████████████████████████████████████▏         | 0.875/1 [09:01<00:53, 427.23s/it]"
     ]
    },
    {
     "name": "stdout",
     "output_type": "stream",
     "text": [
      "2023-07-03 18:26:34> Processing of F:/AP_Paper_Benchmark/PXD015087_Thermo\\Hela_P035219_BA1_S00_A00_R5.raw for step calibrate_hdf succeeded. 88.00 %\n",
      "2023-07-03 18:26:34> Processing of F:/AP_Paper_Benchmark/PXD015087_Thermo\\Hela_P035219_BA1_S00_A00_R6.raw for step calibrate_hdf succeeded. 88.50 %\n",
      "2023-07-03 18:26:34> Processing of F:/AP_Paper_Benchmark/PXD015087_Thermo\\Hela_P035219_BA1_S00_A00_R7.raw for step calibrate_hdf succeeded. 89.00 %\n"
     ]
    },
    {
     "name": "stderr",
     "output_type": "stream",
     "text": [
      "\r",
      " 89%|███████████████████████████████████████████████████████████████████████▏        | 0.89/1 [09:01<00:36, 333.50s/it]"
     ]
    },
    {
     "name": "stdout",
     "output_type": "stream",
     "text": [
      "2023-07-03 18:26:34> Processing of F:/AP_Paper_Benchmark/PXD015087_Thermo\\Hela_P035219_BA1_S00_A00_R8.raw for step calibrate_hdf succeeded. 89.50 %\n",
      "2023-07-03 18:26:34> Processing of F:/AP_Paper_Benchmark/PXD015087_Thermo\\Hela_P035219_BA1_S00_A00_R9.raw for step calibrate_hdf succeeded. 90.00 %\n",
      "2023-07-03 18:26:34> Processing of F:/AP_Paper_Benchmark/PXD015087_Thermo\\March_Hela_P035212_BA1_S00_A00_R1.raw for step calibrate_hdf succeeded. 90.50 %\n",
      "2023-07-03 18:26:34> Processing of F:/AP_Paper_Benchmark/PXD015087_Thermo\\March_Hela_P035212_BA1_S00_A00_R10.raw for step calibrate_hdf succeeded. 91.00 %\n",
      "2023-07-03 18:26:34> Processing of F:/AP_Paper_Benchmark/PXD015087_Thermo\\March_Hela_P035212_BA1_S00_A00_R11.raw for step calibrate_hdf succeeded. 91.50 %\n",
      "2023-07-03 18:26:34> Processing of F:/AP_Paper_Benchmark/PXD015087_Thermo\\March_Hela_P035212_BA1_S00_A00_R12.raw for step calibrate_hdf succeeded. 92.00 %\n",
      "2023-07-03 18:26:34> Processing of F:/AP_Paper_Benchmark/PXD015087_Thermo\\March_Hela_P035212_BA1_S00_A00_R13.raw for step calibrate_hdf succeeded. 92.50 %\n",
      "2023-07-03 18:26:34> Processing of F:/AP_Paper_Benchmark/PXD015087_Thermo\\March_Hela_P035212_BA1_S00_A00_R14.raw for step calibrate_hdf succeeded. 93.00 %\n",
      "2023-07-03 18:26:34> Processing of F:/AP_Paper_Benchmark/PXD015087_Thermo\\March_Hela_P035212_BA1_S00_A00_R15.raw for step calibrate_hdf succeeded. 93.50 %\n",
      "2023-07-03 18:26:34> Processing of F:/AP_Paper_Benchmark/PXD015087_Thermo\\March_Hela_P035212_BA1_S00_A00_R16.raw for step calibrate_hdf succeeded. 94.00 %\n",
      "2023-07-03 18:26:34> Processing of F:/AP_Paper_Benchmark/PXD015087_Thermo\\March_Hela_P035212_BA1_S00_A00_R17.raw for step calibrate_hdf succeeded. 94.50 %\n",
      "2023-07-03 18:26:34> Processing of F:/AP_Paper_Benchmark/PXD015087_Thermo\\March_Hela_P035212_BA1_S00_A00_R18.raw for step calibrate_hdf succeeded. 95.00 %\n",
      "2023-07-03 18:26:34> Processing of F:/AP_Paper_Benchmark/PXD015087_Thermo\\March_Hela_P035212_BA1_S00_A00_R19.raw for step calibrate_hdf succeeded. 95.50 %\n",
      "2023-07-03 18:26:34> Processing of F:/AP_Paper_Benchmark/PXD015087_Thermo\\March_Hela_P035212_BA1_S00_A00_R2.raw for step calibrate_hdf succeeded. 96.00 %\n",
      "2023-07-03 18:26:34> Processing of F:/AP_Paper_Benchmark/PXD015087_Thermo\\March_Hela_P035212_BA1_S00_A00_R20.raw for step calibrate_hdf succeeded. 96.50 %\n",
      "2023-07-03 18:26:34> Processing of F:/AP_Paper_Benchmark/PXD015087_Thermo\\March_Hela_P035212_BA1_S00_A00_R3.raw for step calibrate_hdf succeeded. 97.00 %\n",
      "2023-07-03 18:26:34> Processing of F:/AP_Paper_Benchmark/PXD015087_Thermo\\March_Hela_P035212_BA1_S00_A00_R4.raw for step calibrate_hdf succeeded. 97.50 %\n",
      "2023-07-03 18:26:34> Processing of F:/AP_Paper_Benchmark/PXD015087_Thermo\\March_Hela_P035212_BA1_S00_A00_R5.raw for step calibrate_hdf succeeded. 98.00 %\n",
      "2023-07-03 18:26:34> Processing of F:/AP_Paper_Benchmark/PXD015087_Thermo\\March_Hela_P035212_BA1_S00_A00_R6.raw for step calibrate_hdf succeeded. 98.50 %\n",
      "2023-07-03 18:26:38> Processing of F:/AP_Paper_Benchmark/PXD015087_Thermo\\March_Hela_P035212_BA1_S00_A00_R7.raw for step calibrate_hdf succeeded. 99.00 %\n"
     ]
    },
    {
     "name": "stderr",
     "output_type": "stream",
     "text": [
      "\r",
      " 99%|███████████████████████████████████████████████████████████████████████████████▏| 0.99/1 [09:05<00:01, 126.05s/it]"
     ]
    },
    {
     "name": "stdout",
     "output_type": "stream",
     "text": [
      "2023-07-03 18:26:39> Processing of F:/AP_Paper_Benchmark/PXD015087_Thermo\\March_Hela_P035212_BA1_S00_A00_R8.raw for step calibrate_hdf succeeded. 99.50 %\n"
     ]
    },
    {
     "name": "stderr",
     "output_type": "stream",
     "text": [
      "\r",
      "100%|██████████████████████████████████████████████████████████████████████████████▌| 0.995/1 [09:06<00:00, 133.36s/it]"
     ]
    },
    {
     "name": "stdout",
     "output_type": "stream",
     "text": [
      "2023-07-03 18:26:39> Processing of F:/AP_Paper_Benchmark/PXD015087_Thermo\\March_Hela_P035212_BA1_S00_A00_R9.raw for step calibrate_hdf succeeded. 100.00 %\n"
     ]
    },
    {
     "name": "stderr",
     "output_type": "stream",
     "text": [
      "\r",
      "100%|█████████████████████████████████████████████████████████████████████████████████| 1.0/1 [09:07<00:00, 547.08s/it]"
     ]
    },
    {
     "name": "stdout",
     "output_type": "stream",
     "text": [
      "2023-07-03 18:26:39> ==== search_data ====\n"
     ]
    },
    {
     "name": "stderr",
     "output_type": "stream",
     "text": [
      "\n",
      "  0%|                                                                                            | 0/1 [00:00<?, ?it/s]"
     ]
    },
    {
     "name": "stdout",
     "output_type": "stream",
     "text": [
      "2023-07-03 18:26:39> Starting second search with DB.\n",
      "2023-07-03 18:26:39> Processing 200 files for step search_db\n",
      "2023-07-03 18:26:39> Searching. Setting Process limit to 14.\n",
      "2023-07-03 18:26:39> AlphaPool was set to 14 processes. Setting max to 14.\n",
      "2023-07-03 18:27:16> Processing of F:/AP_Paper_Benchmark/PXD015087_Thermo\\Hela_P035210_BA1_S00_A00_R1.raw for step search_db succeeded. 0.50 %\n"
     ]
    },
    {
     "name": "stderr",
     "output_type": "stream",
     "text": [
      "\r",
      "  0%|▍                                                                           | 0.005/1 [00:36<2:01:00, 7296.50s/it]"
     ]
    },
    {
     "name": "stdout",
     "output_type": "stream",
     "text": [
      "2023-07-03 18:27:16> Processing of F:/AP_Paper_Benchmark/PXD015087_Thermo\\Hela_P035210_BA1_S00_A00_R10.raw for step search_db succeeded. 1.00 %\n",
      "2023-07-03 18:27:16> Processing of F:/AP_Paper_Benchmark/PXD015087_Thermo\\Hela_P035210_BA1_S00_A00_R11.raw for step search_db succeeded. 1.50 %\n",
      "2023-07-03 18:27:16> Processing of F:/AP_Paper_Benchmark/PXD015087_Thermo\\Hela_P035210_BA1_S00_A00_R12.raw for step search_db succeeded. 2.00 %\n",
      "2023-07-03 18:27:16> Processing of F:/AP_Paper_Benchmark/PXD015087_Thermo\\Hela_P035210_BA1_S00_A00_R13.raw for step search_db succeeded. 2.50 %\n",
      "2023-07-03 18:27:16> Processing of F:/AP_Paper_Benchmark/PXD015087_Thermo\\Hela_P035210_BA1_S00_A00_R14.raw for step search_db succeeded. 3.00 %\n",
      "2023-07-03 18:27:16> Processing of F:/AP_Paper_Benchmark/PXD015087_Thermo\\Hela_P035210_BA1_S00_A00_R15.raw for step search_db succeeded. 3.50 %\n",
      "2023-07-03 18:27:16> Processing of F:/AP_Paper_Benchmark/PXD015087_Thermo\\Hela_P035210_BA1_S00_A00_R16.raw for step search_db succeeded. 4.00 %\n",
      "2023-07-03 18:27:16> Processing of F:/AP_Paper_Benchmark/PXD015087_Thermo\\Hela_P035210_BA1_S00_A00_R17.raw for step search_db succeeded. 4.50 %\n",
      "2023-07-03 18:27:16> Processing of F:/AP_Paper_Benchmark/PXD015087_Thermo\\Hela_P035210_BA1_S00_A00_R18.raw for step search_db succeeded. 5.00 %\n",
      "2023-07-03 18:27:16> Processing of F:/AP_Paper_Benchmark/PXD015087_Thermo\\Hela_P035210_BA1_S00_A00_R19.raw for step search_db succeeded. 5.50 %\n"
     ]
    },
    {
     "name": "stderr",
     "output_type": "stream",
     "text": [
      "\r",
      "  6%|████▎                                                                          | 0.055/1 [00:36<07:34, 480.62s/it]"
     ]
    },
    {
     "name": "stdout",
     "output_type": "stream",
     "text": [
      "2023-07-03 18:27:16> Processing of F:/AP_Paper_Benchmark/PXD015087_Thermo\\Hela_P035210_BA1_S00_A00_R2.raw for step search_db succeeded. 6.00 %\n",
      "2023-07-03 18:27:16> Processing of F:/AP_Paper_Benchmark/PXD015087_Thermo\\Hela_P035210_BA1_S00_A00_R20.raw for step search_db succeeded. 6.50 %\n",
      "2023-07-03 18:27:16> Processing of F:/AP_Paper_Benchmark/PXD015087_Thermo\\Hela_P035210_BA1_S00_A00_R3.raw for step search_db succeeded. 7.00 %\n",
      "2023-07-03 18:27:29> Processing of F:/AP_Paper_Benchmark/PXD015087_Thermo\\Hela_P035210_BA1_S00_A00_R4.raw for step search_db succeeded. 7.50 %\n",
      "2023-07-03 18:27:32> Processing of F:/AP_Paper_Benchmark/PXD015087_Thermo\\Hela_P035210_BA1_S00_A00_R5.raw for step search_db succeeded. 8.00 %\n",
      "2023-07-03 18:27:34> Processing of F:/AP_Paper_Benchmark/PXD015087_Thermo\\Hela_P035210_BA1_S00_A00_R6.raw for step search_db succeeded. 8.50 %\n"
     ]
    },
    {
     "name": "stderr",
     "output_type": "stream",
     "text": [
      "\r",
      "  8%|██████▋                                                                        | 0.085/1 [00:54<08:02, 527.75s/it]"
     ]
    },
    {
     "name": "stdout",
     "output_type": "stream",
     "text": [
      "2023-07-03 18:27:34> Processing of F:/AP_Paper_Benchmark/PXD015087_Thermo\\Hela_P035210_BA1_S00_A00_R7.raw for step search_db succeeded. 9.00 %\n",
      "2023-07-03 18:27:34> Processing of F:/AP_Paper_Benchmark/PXD015087_Thermo\\Hela_P035210_BA1_S00_A00_R8.raw for step search_db succeeded. 9.50 %\n",
      "2023-07-03 18:27:34> Processing of F:/AP_Paper_Benchmark/PXD015087_Thermo\\Hela_P035210_BA1_S00_A00_R9.raw for step search_db succeeded. 10.00 %\n",
      "2023-07-03 18:27:34> Processing of F:/AP_Paper_Benchmark/PXD015087_Thermo\\Hela_P035211_BA1_S00_A00_R1.raw for step search_db succeeded. 10.50 %\n"
     ]
    },
    {
     "name": "stderr",
     "output_type": "stream",
     "text": [
      "\r",
      " 10%|████████▎                                                                      | 0.105/1 [00:54<05:34, 374.11s/it]"
     ]
    },
    {
     "name": "stdout",
     "output_type": "stream",
     "text": [
      "2023-07-03 18:27:35> Processing of F:/AP_Paper_Benchmark/PXD015087_Thermo\\Hela_P035211_BA1_S00_A00_R10.raw for step search_db succeeded. 11.00 %\n",
      "2023-07-03 18:27:35> Processing of F:/AP_Paper_Benchmark/PXD015087_Thermo\\Hela_P035211_BA1_S00_A00_R11.raw for step search_db succeeded. 11.50 %\n",
      "2023-07-03 18:27:35> Processing of F:/AP_Paper_Benchmark/PXD015087_Thermo\\Hela_P035211_BA1_S00_A00_R12.raw for step search_db succeeded. 12.00 %\n",
      "2023-07-03 18:27:35> Processing of F:/AP_Paper_Benchmark/PXD015087_Thermo\\Hela_P035211_BA1_S00_A00_R13.raw for step search_db succeeded. 12.50 %\n"
     ]
    },
    {
     "name": "stderr",
     "output_type": "stream",
     "text": [
      "\r",
      " 12%|█████████▉                                                                     | 0.125/1 [00:55<04:08, 283.99s/it]"
     ]
    },
    {
     "name": "stdout",
     "output_type": "stream",
     "text": [
      "2023-07-03 18:27:35> Processing of F:/AP_Paper_Benchmark/PXD015087_Thermo\\Hela_P035211_BA1_S00_A00_R14.raw for step search_db succeeded. 13.00 %\n",
      "2023-07-03 18:27:35> Processing of F:/AP_Paper_Benchmark/PXD015087_Thermo\\Hela_P035211_BA1_S00_A00_R15.raw for step search_db succeeded. 13.50 %\n",
      "2023-07-03 18:27:35> Processing of F:/AP_Paper_Benchmark/PXD015087_Thermo\\Hela_P035211_BA1_S00_A00_R16.raw for step search_db succeeded. 14.00 %\n",
      "2023-07-03 18:27:48> Processing of F:/AP_Paper_Benchmark/PXD015087_Thermo\\Hela_P035211_BA1_S00_A00_R17.raw for step search_db succeeded. 14.50 %\n"
     ]
    },
    {
     "name": "stderr",
     "output_type": "stream",
     "text": [
      "\r",
      " 14%|███████████▍                                                                   | 0.145/1 [01:08<05:32, 389.38s/it]"
     ]
    },
    {
     "name": "stdout",
     "output_type": "stream",
     "text": [
      "2023-07-03 18:27:48> Processing of F:/AP_Paper_Benchmark/PXD015087_Thermo\\Hela_P035211_BA1_S00_A00_R18.raw for step search_db succeeded. 15.00 %\n",
      "2023-07-03 18:27:49> Processing of F:/AP_Paper_Benchmark/PXD015087_Thermo\\Hela_P035211_BA1_S00_A00_R19.raw for step search_db succeeded. 15.50 %\n"
     ]
    },
    {
     "name": "stderr",
     "output_type": "stream",
     "text": [
      "\r",
      " 16%|████████████▏                                                                  | 0.155/1 [01:09<04:42, 334.39s/it]"
     ]
    },
    {
     "name": "stdout",
     "output_type": "stream",
     "text": [
      "2023-07-03 18:27:52> Processing of F:/AP_Paper_Benchmark/PXD015087_Thermo\\Hela_P035211_BA1_S00_A00_R2.raw for step search_db succeeded. 16.00 %\n",
      "2023-07-03 18:27:52> Processing of F:/AP_Paper_Benchmark/PXD015087_Thermo\\Hela_P035211_BA1_S00_A00_R20.raw for step search_db succeeded. 16.50 %\n"
     ]
    },
    {
     "name": "stderr",
     "output_type": "stream",
     "text": [
      "\r",
      " 16%|█████████████                                                                  | 0.165/1 [01:12<04:33, 328.13s/it]"
     ]
    },
    {
     "name": "stdout",
     "output_type": "stream",
     "text": [
      "2023-07-03 18:27:52> Processing of F:/AP_Paper_Benchmark/PXD015087_Thermo\\Hela_P035211_BA1_S00_A00_R3.raw for step search_db succeeded. 17.00 %\n",
      "2023-07-03 18:27:52> Processing of F:/AP_Paper_Benchmark/PXD015087_Thermo\\Hela_P035211_BA1_S00_A00_R4.raw for step search_db succeeded. 17.50 %\n",
      "2023-07-03 18:27:54> Processing of F:/AP_Paper_Benchmark/PXD015087_Thermo\\Hela_P035211_BA1_S00_A00_R5.raw for step search_db succeeded. 18.00 %\n"
     ]
    },
    {
     "name": "stderr",
     "output_type": "stream",
     "text": [
      "\r",
      " 18%|██████████████▍                                                                 | 0.18/1 [01:14<03:40, 268.93s/it]"
     ]
    },
    {
     "name": "stdout",
     "output_type": "stream",
     "text": [
      "2023-07-03 18:27:54> Processing of F:/AP_Paper_Benchmark/PXD015087_Thermo\\Hela_P035211_BA1_S00_A00_R6.raw for step search_db succeeded. 18.50 %\n",
      "2023-07-03 18:27:54> Processing of F:/AP_Paper_Benchmark/PXD015087_Thermo\\Hela_P035211_BA1_S00_A00_R7.raw for step search_db succeeded. 19.00 %\n",
      "2023-07-03 18:27:54> Processing of F:/AP_Paper_Benchmark/PXD015087_Thermo\\Hela_P035211_BA1_S00_A00_R8.raw for step search_db succeeded. 19.50 %\n"
     ]
    },
    {
     "name": "stderr",
     "output_type": "stream",
     "text": [
      "\r",
      " 20%|███████████████▍                                                               | 0.195/1 [01:14<02:37, 195.96s/it]"
     ]
    },
    {
     "name": "stdout",
     "output_type": "stream",
     "text": [
      "2023-07-03 18:27:54> Processing of F:/AP_Paper_Benchmark/PXD015087_Thermo\\Hela_P035211_BA1_S00_A00_R9.raw for step search_db succeeded. 20.00 %\n",
      "2023-07-03 18:27:54> Processing of F:/AP_Paper_Benchmark/PXD015087_Thermo\\Hela_P035213_BA1_S00_A00_R1.raw for step search_db succeeded. 20.50 %\n",
      "2023-07-03 18:27:54> Processing of F:/AP_Paper_Benchmark/PXD015087_Thermo\\Hela_P035213_BA1_S00_A00_R10.raw for step search_db succeeded. 21.00 %\n",
      "2023-07-03 18:28:06> Processing of F:/AP_Paper_Benchmark/PXD015087_Thermo\\Hela_P035213_BA1_S00_A00_R11.raw for step search_db succeeded. 21.50 %\n"
     ]
    },
    {
     "name": "stderr",
     "output_type": "stream",
     "text": [
      "\r",
      " 22%|████████████████▉                                                              | 0.215/1 [01:26<04:19, 330.88s/it]"
     ]
    },
    {
     "name": "stdout",
     "output_type": "stream",
     "text": [
      "2023-07-03 18:28:06> Processing of F:/AP_Paper_Benchmark/PXD015087_Thermo\\Hela_P035213_BA1_S00_A00_R12.raw for step search_db succeeded. 22.00 %\n"
     ]
    },
    {
     "name": "stderr",
     "output_type": "stream",
     "text": [
      "\r",
      " 22%|█████████████████▌                                                              | 0.22/1 [01:26<04:00, 308.62s/it]"
     ]
    },
    {
     "name": "stdout",
     "output_type": "stream",
     "text": [
      "2023-07-03 18:28:06> Processing of F:/AP_Paper_Benchmark/PXD015087_Thermo\\Hela_P035213_BA1_S00_A00_R13.raw for step search_db succeeded. 22.50 %\n"
     ]
    },
    {
     "name": "stderr",
     "output_type": "stream",
     "text": [
      "\r",
      " 22%|█████████████████▊                                                             | 0.225/1 [01:26<03:27, 268.18s/it]"
     ]
    },
    {
     "name": "stdout",
     "output_type": "stream",
     "text": [
      "2023-07-03 18:28:08> Processing of F:/AP_Paper_Benchmark/PXD015087_Thermo\\Hela_P035213_BA1_S00_A00_R14.raw for step search_db succeeded. 23.00 %\n"
     ]
    },
    {
     "name": "stderr",
     "output_type": "stream",
     "text": [
      "\r",
      " 23%|██████████████████▍                                                             | 0.23/1 [01:28<03:35, 280.36s/it]"
     ]
    },
    {
     "name": "stdout",
     "output_type": "stream",
     "text": [
      "2023-07-03 18:28:09> Processing of F:/AP_Paper_Benchmark/PXD015087_Thermo\\Hela_P035213_BA1_S00_A00_R15.raw for step search_db succeeded. 23.50 %\n"
     ]
    },
    {
     "name": "stderr",
     "output_type": "stream",
     "text": [
      "\r",
      " 24%|██████████████████▌                                                            | 0.235/1 [01:29<03:14, 254.59s/it]"
     ]
    },
    {
     "name": "stdout",
     "output_type": "stream",
     "text": [
      "2023-07-03 18:28:09> Processing of F:/AP_Paper_Benchmark/PXD015087_Thermo\\Hela_P035213_BA1_S00_A00_R16.raw for step search_db succeeded. 24.00 %\n",
      "2023-07-03 18:28:10> Processing of F:/AP_Paper_Benchmark/PXD015087_Thermo\\Hela_P035213_BA1_S00_A00_R17.raw for step search_db succeeded. 24.50 %\n"
     ]
    },
    {
     "name": "stderr",
     "output_type": "stream",
     "text": [
      "\r",
      " 24%|███████████████████▎                                                           | 0.245/1 [01:30<02:32, 201.99s/it]"
     ]
    },
    {
     "name": "stdout",
     "output_type": "stream",
     "text": [
      "2023-07-03 18:28:10> Processing of F:/AP_Paper_Benchmark/PXD015087_Thermo\\Hela_P035213_BA1_S00_A00_R18.raw for step search_db succeeded. 25.00 %\n",
      "2023-07-03 18:28:11> Processing of F:/AP_Paper_Benchmark/PXD015087_Thermo\\Hela_P035213_BA1_S00_A00_R19.raw for step search_db succeeded. 25.50 %\n"
     ]
    },
    {
     "name": "stderr",
     "output_type": "stream",
     "text": [
      "\r",
      " 26%|████████████████████▏                                                          | 0.255/1 [01:31<02:13, 178.88s/it]"
     ]
    },
    {
     "name": "stdout",
     "output_type": "stream",
     "text": [
      "2023-07-03 18:28:12> Processing of F:/AP_Paper_Benchmark/PXD015087_Thermo\\Hela_P035213_BA1_S00_A00_R2.raw for step search_db succeeded. 26.00 %\n"
     ]
    },
    {
     "name": "stderr",
     "output_type": "stream",
     "text": [
      "\r",
      " 26%|████████████████████▊                                                           | 0.26/1 [01:32<02:01, 164.51s/it]"
     ]
    },
    {
     "name": "stdout",
     "output_type": "stream",
     "text": [
      "2023-07-03 18:28:12> Processing of F:/AP_Paper_Benchmark/PXD015087_Thermo\\Hela_P035213_BA1_S00_A00_R20.raw for step search_db succeeded. 26.50 %\n",
      "2023-07-03 18:28:12> Processing of F:/AP_Paper_Benchmark/PXD015087_Thermo\\Hela_P035213_BA1_S00_A00_R3.raw for step search_db succeeded. 27.00 %\n",
      "2023-07-03 18:28:12> Processing of F:/AP_Paper_Benchmark/PXD015087_Thermo\\Hela_P035213_BA1_S00_A00_R4.raw for step search_db succeeded. 27.50 %\n",
      "2023-07-03 18:28:12> Processing of F:/AP_Paper_Benchmark/PXD015087_Thermo\\Hela_P035213_BA1_S00_A00_R5.raw for step search_db succeeded. 28.00 %\n"
     ]
    },
    {
     "name": "stderr",
     "output_type": "stream",
     "text": [
      "\r",
      " 28%|██████████████████████▋                                                          | 0.28/1 [01:32<01:03, 88.54s/it]"
     ]
    },
    {
     "name": "stdout",
     "output_type": "stream",
     "text": [
      "2023-07-03 18:28:24> Processing of F:/AP_Paper_Benchmark/PXD015087_Thermo\\Hela_P035213_BA1_S00_A00_R6.raw for step search_db succeeded. 28.50 %\n"
     ]
    },
    {
     "name": "stderr",
     "output_type": "stream",
     "text": [
      "\r",
      " 28%|██████████████████████▌                                                        | 0.285/1 [01:44<05:18, 445.06s/it]"
     ]
    },
    {
     "name": "stdout",
     "output_type": "stream",
     "text": [
      "2023-07-03 18:28:24> Processing of F:/AP_Paper_Benchmark/PXD015087_Thermo\\Hela_P035213_BA1_S00_A00_R7.raw for step search_db succeeded. 29.00 %\n",
      "2023-07-03 18:28:24> Processing of F:/AP_Paper_Benchmark/PXD015087_Thermo\\Hela_P035213_BA1_S00_A00_R8.raw for step search_db succeeded. 29.50 %\n"
     ]
    },
    {
     "name": "stderr",
     "output_type": "stream",
     "text": [
      "\r",
      " 30%|███████████████████████▎                                                       | 0.295/1 [01:44<03:47, 322.27s/it]"
     ]
    },
    {
     "name": "stdout",
     "output_type": "stream",
     "text": [
      "2023-07-03 18:28:25> Processing of F:/AP_Paper_Benchmark/PXD015087_Thermo\\Hela_P035213_BA1_S00_A00_R9.raw for step search_db succeeded. 30.00 %\n"
     ]
    },
    {
     "name": "stderr",
     "output_type": "stream",
     "text": [
      "\r",
      " 30%|████████████████████████▎                                                        | 0.3/1 [01:45<03:23, 290.20s/it]"
     ]
    },
    {
     "name": "stdout",
     "output_type": "stream",
     "text": [
      "2023-07-03 18:28:25> Processing of F:/AP_Paper_Benchmark/PXD015087_Thermo\\Hela_P035214_BA1_S00_A00_R1.raw for step search_db succeeded. 30.50 %\n"
     ]
    },
    {
     "name": "stderr",
     "output_type": "stream",
     "text": [
      "\r",
      " 30%|████████████████████████                                                       | 0.305/1 [01:45<02:47, 240.37s/it]"
     ]
    },
    {
     "name": "stdout",
     "output_type": "stream",
     "text": [
      "2023-07-03 18:28:27> Processing of F:/AP_Paper_Benchmark/PXD015087_Thermo\\Hela_P035214_BA1_S00_A00_R10.raw for step search_db succeeded. 31.00 %\n"
     ]
    },
    {
     "name": "stderr",
     "output_type": "stream",
     "text": [
      "\r",
      " 31%|████████████████████████▊                                                       | 0.31/1 [01:47<02:52, 250.04s/it]"
     ]
    },
    {
     "name": "stdout",
     "output_type": "stream",
     "text": [
      "2023-07-03 18:28:27> Processing of F:/AP_Paper_Benchmark/PXD015087_Thermo\\Hela_P035214_BA1_S00_A00_R11.raw for step search_db succeeded. 31.50 %\n",
      "2023-07-03 18:28:27> Processing of F:/AP_Paper_Benchmark/PXD015087_Thermo\\Hela_P035214_BA1_S00_A00_R12.raw for step search_db succeeded. 32.00 %\n"
     ]
    },
    {
     "name": "stderr",
     "output_type": "stream",
     "text": [
      "\r",
      " 32%|█████████████████████████▌                                                      | 0.32/1 [01:47<01:46, 156.71s/it]"
     ]
    },
    {
     "name": "stdout",
     "output_type": "stream",
     "text": [
      "2023-07-03 18:28:28> Processing of F:/AP_Paper_Benchmark/PXD015087_Thermo\\Hela_P035214_BA1_S00_A00_R13.raw for step search_db succeeded. 32.50 %\n"
     ]
    },
    {
     "name": "stderr",
     "output_type": "stream",
     "text": [
      "\r",
      " 32%|█████████████████████████▋                                                     | 0.325/1 [01:48<02:04, 185.15s/it]"
     ]
    },
    {
     "name": "stdout",
     "output_type": "stream",
     "text": [
      "2023-07-03 18:28:28> Processing of F:/AP_Paper_Benchmark/PXD015087_Thermo\\Hela_P035214_BA1_S00_A00_R14.raw for step search_db succeeded. 33.00 %\n",
      "2023-07-03 18:28:30> Processing of F:/AP_Paper_Benchmark/PXD015087_Thermo\\Hela_P035214_BA1_S00_A00_R15.raw for step search_db succeeded. 33.50 %\n"
     ]
    },
    {
     "name": "stderr",
     "output_type": "stream",
     "text": [
      "\r",
      " 34%|██████████████████████████▍                                                    | 0.335/1 [01:50<01:49, 165.06s/it]"
     ]
    },
    {
     "name": "stdout",
     "output_type": "stream",
     "text": [
      "2023-07-03 18:28:30> Processing of F:/AP_Paper_Benchmark/PXD015087_Thermo\\Hela_P035214_BA1_S00_A00_R16.raw for step search_db succeeded. 34.00 %\n"
     ]
    },
    {
     "name": "stderr",
     "output_type": "stream",
     "text": [
      "\r",
      " 34%|███████████████████████████▏                                                    | 0.34/1 [01:50<01:29, 135.07s/it]"
     ]
    },
    {
     "name": "stdout",
     "output_type": "stream",
     "text": [
      "2023-07-03 18:28:30> Processing of F:/AP_Paper_Benchmark/PXD015087_Thermo\\Hela_P035214_BA1_S00_A00_R17.raw for step search_db succeeded. 34.50 %\n",
      "2023-07-03 18:28:30> Processing of F:/AP_Paper_Benchmark/PXD015087_Thermo\\Hela_P035214_BA1_S00_A00_R18.raw for step search_db succeeded. 35.00 %\n",
      "2023-07-03 18:28:42> Processing of F:/AP_Paper_Benchmark/PXD015087_Thermo\\Hela_P035214_BA1_S00_A00_R19.raw for step search_db succeeded. 35.50 %\n"
     ]
    },
    {
     "name": "stderr",
     "output_type": "stream",
     "text": [
      "\r",
      " 36%|████████████████████████████                                                   | 0.355/1 [02:02<04:50, 450.79s/it]"
     ]
    },
    {
     "name": "stdout",
     "output_type": "stream",
     "text": [
      "2023-07-03 18:28:42> Processing of F:/AP_Paper_Benchmark/PXD015087_Thermo\\Hela_P035214_BA1_S00_A00_R2.raw for step search_db succeeded. 36.00 %\n",
      "2023-07-03 18:28:42> Processing of F:/AP_Paper_Benchmark/PXD015087_Thermo\\Hela_P035214_BA1_S00_A00_R20.raw for step search_db succeeded. 36.50 %\n",
      "2023-07-03 18:28:43> Processing of F:/AP_Paper_Benchmark/PXD015087_Thermo\\Hela_P035214_BA1_S00_A00_R3.raw for step search_db succeeded. 37.00 %\n"
     ]
    },
    {
     "name": "stderr",
     "output_type": "stream",
     "text": [
      "\r",
      " 37%|█████████████████████████████▌                                                  | 0.37/1 [02:03<03:13, 307.80s/it]"
     ]
    },
    {
     "name": "stdout",
     "output_type": "stream",
     "text": [
      "2023-07-03 18:28:43> Processing of F:/AP_Paper_Benchmark/PXD015087_Thermo\\Hela_P035214_BA1_S00_A00_R4.raw for step search_db succeeded. 37.50 %\n",
      "2023-07-03 18:28:45> Processing of F:/AP_Paper_Benchmark/PXD015087_Thermo\\Hela_P035214_BA1_S00_A00_R5.raw for step search_db succeeded. 38.00 %\n"
     ]
    },
    {
     "name": "stderr",
     "output_type": "stream",
     "text": [
      "\r",
      " 38%|██████████████████████████████▍                                                 | 0.38/1 [02:05<02:46, 268.27s/it]"
     ]
    },
    {
     "name": "stdout",
     "output_type": "stream",
     "text": [
      "2023-07-03 18:28:45> Processing of F:/AP_Paper_Benchmark/PXD015087_Thermo\\Hela_P035214_BA1_S00_A00_R6.raw for step search_db succeeded. 38.50 %\n",
      "2023-07-03 18:28:45> Processing of F:/AP_Paper_Benchmark/PXD015087_Thermo\\Hela_P035214_BA1_S00_A00_R7.raw for step search_db succeeded. 39.00 %\n",
      "2023-07-03 18:28:45> Processing of F:/AP_Paper_Benchmark/PXD015087_Thermo\\Hela_P035214_BA1_S00_A00_R8.raw for step search_db succeeded. 39.50 %\n"
     ]
    },
    {
     "name": "stderr",
     "output_type": "stream",
     "text": [
      "\r",
      " 40%|███████████████████████████████▏                                               | 0.395/1 [02:06<01:51, 183.90s/it]"
     ]
    },
    {
     "name": "stdout",
     "output_type": "stream",
     "text": [
      "2023-07-03 18:28:45> Processing of F:/AP_Paper_Benchmark/PXD015087_Thermo\\Hela_P035214_BA1_S00_A00_R9.raw for step search_db succeeded. 40.00 %\n",
      "2023-07-03 18:28:45> Processing of F:/AP_Paper_Benchmark/PXD015087_Thermo\\Hela_P035215_BA1_S00_A00_R1.raw for step search_db succeeded. 40.50 %\n",
      "2023-07-03 18:28:45> Processing of F:/AP_Paper_Benchmark/PXD015087_Thermo\\Hela_P035215_BA1_S00_A00_R10.raw for step search_db succeeded. 41.00 %\n",
      "2023-07-03 18:28:46> Processing of F:/AP_Paper_Benchmark/PXD015087_Thermo\\Hela_P035215_BA1_S00_A00_R11.raw for step search_db succeeded. 41.50 %\n"
     ]
    },
    {
     "name": "stderr",
     "output_type": "stream",
     "text": [
      "\r",
      " 42%|████████████████████████████████▊                                              | 0.415/1 [02:06<01:07, 115.37s/it]"
     ]
    },
    {
     "name": "stdout",
     "output_type": "stream",
     "text": [
      "2023-07-03 18:28:46> Processing of F:/AP_Paper_Benchmark/PXD015087_Thermo\\Hela_P035215_BA1_S00_A00_R12.raw for step search_db succeeded. 42.00 %\n",
      "2023-07-03 18:28:57> Processing of F:/AP_Paper_Benchmark/PXD015087_Thermo\\Hela_P035215_BA1_S00_A00_R13.raw for step search_db succeeded. 42.50 %\n"
     ]
    },
    {
     "name": "stderr",
     "output_type": "stream",
     "text": [
      "\r",
      " 42%|█████████████████████████████████▌                                             | 0.425/1 [02:17<03:15, 340.15s/it]"
     ]
    },
    {
     "name": "stdout",
     "output_type": "stream",
     "text": [
      "2023-07-03 18:28:57> Processing of F:/AP_Paper_Benchmark/PXD015087_Thermo\\Hela_P035215_BA1_S00_A00_R14.raw for step search_db succeeded. 43.00 %\n"
     ]
    },
    {
     "name": "stderr",
     "output_type": "stream",
     "text": [
      "\r",
      " 43%|██████████████████████████████████▍                                             | 0.43/1 [02:17<02:55, 307.61s/it]"
     ]
    },
    {
     "name": "stdout",
     "output_type": "stream",
     "text": [
      "2023-07-03 18:28:58> Processing of F:/AP_Paper_Benchmark/PXD015087_Thermo\\Hela_P035215_BA1_S00_A00_R15.raw for step search_db succeeded. 43.50 %\n"
     ]
    },
    {
     "name": "stderr",
     "output_type": "stream",
     "text": [
      "\r",
      " 44%|██████████████████████████████████▎                                            | 0.435/1 [02:18<02:33, 270.97s/it]"
     ]
    },
    {
     "name": "stdout",
     "output_type": "stream",
     "text": [
      "2023-07-03 18:28:59> Processing of F:/AP_Paper_Benchmark/PXD015087_Thermo\\Hela_P035215_BA1_S00_A00_R16.raw for step search_db succeeded. 44.00 %\n"
     ]
    },
    {
     "name": "stderr",
     "output_type": "stream",
     "text": [
      "\r",
      " 44%|███████████████████████████████████▏                                            | 0.44/1 [02:19<02:22, 254.95s/it]"
     ]
    },
    {
     "name": "stdout",
     "output_type": "stream",
     "text": [
      "2023-07-03 18:28:59> Processing of F:/AP_Paper_Benchmark/PXD015087_Thermo\\Hela_P035215_BA1_S00_A00_R17.raw for step search_db succeeded. 44.50 %\n",
      "2023-07-03 18:29:00> Processing of F:/AP_Paper_Benchmark/PXD015087_Thermo\\Hela_P035215_BA1_S00_A00_R18.raw for step search_db succeeded. 45.00 %\n"
     ]
    },
    {
     "name": "stderr",
     "output_type": "stream",
     "text": [
      "\r",
      " 45%|████████████████████████████████████                                            | 0.45/1 [02:20<02:01, 221.12s/it]"
     ]
    },
    {
     "name": "stdout",
     "output_type": "stream",
     "text": [
      "2023-07-03 18:29:00> Processing of F:/AP_Paper_Benchmark/PXD015087_Thermo\\Hela_P035215_BA1_S00_A00_R19.raw for step search_db succeeded. 45.50 %\n",
      "2023-07-03 18:29:03> Processing of F:/AP_Paper_Benchmark/PXD015087_Thermo\\Hela_P035215_BA1_S00_A00_R2.raw for step search_db succeeded. 46.00 %\n"
     ]
    },
    {
     "name": "stderr",
     "output_type": "stream",
     "text": [
      "\r",
      " 46%|████████████████████████████████████▊                                           | 0.46/1 [02:23<01:59, 220.57s/it]"
     ]
    },
    {
     "name": "stdout",
     "output_type": "stream",
     "text": [
      "2023-07-03 18:29:03> Processing of F:/AP_Paper_Benchmark/PXD015087_Thermo\\Hela_P035215_BA1_S00_A00_R20.raw for step search_db succeeded. 46.50 %\n",
      "2023-07-03 18:29:03> Processing of F:/AP_Paper_Benchmark/PXD015087_Thermo\\Hela_P035215_BA1_S00_A00_R3.raw for step search_db succeeded. 47.00 %\n"
     ]
    },
    {
     "name": "stderr",
     "output_type": "stream",
     "text": [
      "\r",
      " 47%|█████████████████████████████████████▌                                          | 0.47/1 [02:23<01:28, 167.60s/it]"
     ]
    },
    {
     "name": "stdout",
     "output_type": "stream",
     "text": [
      "2023-07-03 18:29:03> Processing of F:/AP_Paper_Benchmark/PXD015087_Thermo\\Hela_P035215_BA1_S00_A00_R4.raw for step search_db succeeded. 47.50 %\n",
      "2023-07-03 18:29:03> Processing of F:/AP_Paper_Benchmark/PXD015087_Thermo\\Hela_P035215_BA1_S00_A00_R5.raw for step search_db succeeded. 48.00 %\n",
      "2023-07-03 18:29:03> Processing of F:/AP_Paper_Benchmark/PXD015087_Thermo\\Hela_P035215_BA1_S00_A00_R6.raw for step search_db succeeded. 48.50 %\n",
      "2023-07-03 18:29:03> Processing of F:/AP_Paper_Benchmark/PXD015087_Thermo\\Hela_P035215_BA1_S00_A00_R7.raw for step search_db succeeded. 49.00 %\n",
      "2023-07-03 18:29:13> Processing of F:/AP_Paper_Benchmark/PXD015087_Thermo\\Hela_P035215_BA1_S00_A00_R8.raw for step search_db succeeded. 49.50 %\n"
     ]
    },
    {
     "name": "stderr",
     "output_type": "stream",
     "text": [
      "\r",
      " 50%|███████████████████████████████████████                                        | 0.495/1 [02:33<02:31, 299.19s/it]"
     ]
    },
    {
     "name": "stdout",
     "output_type": "stream",
     "text": [
      "2023-07-03 18:29:14> Processing of F:/AP_Paper_Benchmark/PXD015087_Thermo\\Hela_P035215_BA1_S00_A00_R9.raw for step search_db succeeded. 50.00 %\n"
     ]
    },
    {
     "name": "stderr",
     "output_type": "stream",
     "text": [
      "\r",
      " 50%|████████████████████████████████████████▌                                        | 0.5/1 [02:34<02:21, 283.25s/it]"
     ]
    },
    {
     "name": "stdout",
     "output_type": "stream",
     "text": [
      "2023-07-03 18:29:15> Processing of F:/AP_Paper_Benchmark/PXD015087_Thermo\\Hela_P035216_BA1_S00_A00_R1.raw for step search_db succeeded. 50.50 %\n"
     ]
    },
    {
     "name": "stderr",
     "output_type": "stream",
     "text": [
      "\r",
      " 50%|███████████████████████████████████████▉                                       | 0.505/1 [02:35<02:14, 271.51s/it]"
     ]
    },
    {
     "name": "stdout",
     "output_type": "stream",
     "text": [
      "2023-07-03 18:29:15> Processing of F:/AP_Paper_Benchmark/PXD015087_Thermo\\Hela_P035216_BA1_S00_A00_R10.raw for step search_db succeeded. 51.00 %\n",
      "2023-07-03 18:29:15> Processing of F:/AP_Paper_Benchmark/PXD015087_Thermo\\Hela_P035216_BA1_S00_A00_R11.raw for step search_db succeeded. 51.50 %\n",
      "2023-07-03 18:29:16> Processing of F:/AP_Paper_Benchmark/PXD015087_Thermo\\Hela_P035216_BA1_S00_A00_R12.raw for step search_db succeeded. 52.00 %\n"
     ]
    },
    {
     "name": "stderr",
     "output_type": "stream",
     "text": [
      "\r",
      " 52%|█████████████████████████████████████████▌                                      | 0.52/1 [02:36<01:25, 177.47s/it]"
     ]
    },
    {
     "name": "stdout",
     "output_type": "stream",
     "text": [
      "2023-07-03 18:29:16> Processing of F:/AP_Paper_Benchmark/PXD015087_Thermo\\Hela_P035216_BA1_S00_A00_R13.raw for step search_db succeeded. 52.50 %\n"
     ]
    },
    {
     "name": "stderr",
     "output_type": "stream",
     "text": [
      "\r",
      " 52%|█████████████████████████████████████████▍                                     | 0.525/1 [02:36<01:15, 159.42s/it]"
     ]
    },
    {
     "name": "stdout",
     "output_type": "stream",
     "text": [
      "2023-07-03 18:29:17> Processing of F:/AP_Paper_Benchmark/PXD015087_Thermo\\Hela_P035216_BA1_S00_A00_R14.raw for step search_db succeeded. 53.00 %\n"
     ]
    },
    {
     "name": "stderr",
     "output_type": "stream",
     "text": [
      "\r",
      " 53%|██████████████████████████████████████████▍                                     | 0.53/1 [02:37<01:07, 142.77s/it]"
     ]
    },
    {
     "name": "stdout",
     "output_type": "stream",
     "text": [
      "2023-07-03 18:29:17> Processing of F:/AP_Paper_Benchmark/PXD015087_Thermo\\Hela_P035216_BA1_S00_A00_R15.raw for step search_db succeeded. 53.50 %\n"
     ]
    },
    {
     "name": "stderr",
     "output_type": "stream",
     "text": [
      "\r",
      " 54%|██████████████████████████████████████████▎                                    | 0.535/1 [02:37<01:00, 129.16s/it]"
     ]
    },
    {
     "name": "stdout",
     "output_type": "stream",
     "text": [
      "2023-07-03 18:29:19> Processing of F:/AP_Paper_Benchmark/PXD015087_Thermo\\Hela_P035216_BA1_S00_A00_R16.raw for step search_db succeeded. 54.00 %\n"
     ]
    },
    {
     "name": "stderr",
     "output_type": "stream",
     "text": [
      "\r",
      " 54%|███████████████████████████████████████████▏                                    | 0.54/1 [02:39<01:27, 191.26s/it]"
     ]
    },
    {
     "name": "stdout",
     "output_type": "stream",
     "text": [
      "2023-07-03 18:29:19> Processing of F:/AP_Paper_Benchmark/PXD015087_Thermo\\Hela_P035216_BA1_S00_A00_R17.raw for step search_db succeeded. 54.50 %\n"
     ]
    },
    {
     "name": "stderr",
     "output_type": "stream",
     "text": [
      "\r",
      " 55%|███████████████████████████████████████████                                    | 0.545/1 [02:39<01:07, 148.62s/it]"
     ]
    },
    {
     "name": "stdout",
     "output_type": "stream",
     "text": [
      "2023-07-03 18:29:20> Processing of F:/AP_Paper_Benchmark/PXD015087_Thermo\\Hela_P035216_BA1_S00_A00_R18.raw for step search_db succeeded. 55.00 %\n"
     ]
    },
    {
     "name": "stderr",
     "output_type": "stream",
     "text": [
      "\r",
      " 55%|████████████████████████████████████████████                                    | 0.55/1 [02:40<00:59, 132.93s/it]"
     ]
    },
    {
     "name": "stdout",
     "output_type": "stream",
     "text": [
      "2023-07-03 18:29:20> Processing of F:/AP_Paper_Benchmark/PXD015087_Thermo\\Hela_P035216_BA1_S00_A00_R19.raw for step search_db succeeded. 55.50 %\n"
     ]
    },
    {
     "name": "stderr",
     "output_type": "stream",
     "text": [
      "\r",
      " 56%|███████████████████████████████████████████▊                                   | 0.555/1 [02:40<00:47, 107.25s/it]"
     ]
    },
    {
     "name": "stdout",
     "output_type": "stream",
     "text": [
      "2023-07-03 18:29:20> Processing of F:/AP_Paper_Benchmark/PXD015087_Thermo\\Hela_P035216_BA1_S00_A00_R2.raw for step search_db succeeded. 56.00 %\n",
      "2023-07-03 18:29:30> Processing of F:/AP_Paper_Benchmark/PXD015087_Thermo\\Hela_P035216_BA1_S00_A00_R20.raw for step search_db succeeded. 56.50 %\n"
     ]
    },
    {
     "name": "stderr",
     "output_type": "stream",
     "text": [
      "\r",
      " 56%|████████████████████████████████████████████▋                                  | 0.565/1 [02:50<03:48, 525.45s/it]"
     ]
    },
    {
     "name": "stdout",
     "output_type": "stream",
     "text": [
      "2023-07-03 18:29:32> Processing of F:/AP_Paper_Benchmark/PXD015087_Thermo\\Hela_P035216_BA1_S00_A00_R3.raw for step search_db succeeded. 57.00 %\n"
     ]
    },
    {
     "name": "stderr",
     "output_type": "stream",
     "text": [
      "\r",
      " 57%|█████████████████████████████████████████████▌                                  | 0.57/1 [02:52<03:25, 478.18s/it]"
     ]
    },
    {
     "name": "stdout",
     "output_type": "stream",
     "text": [
      "2023-07-03 18:29:32> Processing of F:/AP_Paper_Benchmark/PXD015087_Thermo\\Hela_P035216_BA1_S00_A00_R4.raw for step search_db succeeded. 57.50 %\n",
      "2023-07-03 18:29:32> Processing of F:/AP_Paper_Benchmark/PXD015087_Thermo\\Hela_P035216_BA1_S00_A00_R5.raw for step search_db succeeded. 58.00 %\n",
      "2023-07-03 18:29:32> Processing of F:/AP_Paper_Benchmark/PXD015087_Thermo\\Hela_P035216_BA1_S00_A00_R6.raw for step search_db succeeded. 58.50 %\n"
     ]
    },
    {
     "name": "stderr",
     "output_type": "stream",
     "text": [
      "\r",
      " 58%|██████████████████████████████████████████████▏                                | 0.585/1 [02:52<01:41, 243.71s/it]"
     ]
    },
    {
     "name": "stdout",
     "output_type": "stream",
     "text": [
      "2023-07-03 18:29:33> Processing of F:/AP_Paper_Benchmark/PXD015087_Thermo\\Hela_P035216_BA1_S00_A00_R7.raw for step search_db succeeded. 59.00 %\n"
     ]
    },
    {
     "name": "stderr",
     "output_type": "stream",
     "text": [
      "\r",
      " 59%|███████████████████████████████████████████████▏                                | 0.59/1 [02:53<01:37, 237.43s/it]"
     ]
    },
    {
     "name": "stdout",
     "output_type": "stream",
     "text": [
      "2023-07-03 18:29:33> Processing of F:/AP_Paper_Benchmark/PXD015087_Thermo\\Hela_P035216_BA1_S00_A00_R8.raw for step search_db succeeded. 59.50 %\n",
      "2023-07-03 18:29:33> Processing of F:/AP_Paper_Benchmark/PXD015087_Thermo\\Hela_P035216_BA1_S00_A00_R9.raw for step search_db succeeded. 60.00 %\n",
      "2023-07-03 18:29:33> Processing of F:/AP_Paper_Benchmark/PXD015087_Thermo\\Hela_P035217_BA1_S00_A00_R1.raw for step search_db succeeded. 60.50 %\n"
     ]
    },
    {
     "name": "stderr",
     "output_type": "stream",
     "text": [
      "\r",
      " 60%|███████████████████████████████████████████████▊                               | 0.605/1 [02:54<00:53, 134.80s/it]"
     ]
    },
    {
     "name": "stdout",
     "output_type": "stream",
     "text": [
      "2023-07-03 18:29:34> Processing of F:/AP_Paper_Benchmark/PXD015087_Thermo\\Hela_P035217_BA1_S00_A00_R10.raw for step search_db succeeded. 61.00 %\n"
     ]
    },
    {
     "name": "stderr",
     "output_type": "stream",
     "text": [
      "\r",
      " 61%|████████████████████████████████████████████████▊                               | 0.61/1 [02:54<00:49, 127.78s/it]"
     ]
    },
    {
     "name": "stdout",
     "output_type": "stream",
     "text": [
      "2023-07-03 18:29:35> Processing of F:/AP_Paper_Benchmark/PXD015087_Thermo\\Hela_P035217_BA1_S00_A00_R11.raw for step search_db succeeded. 61.50 %\n"
     ]
    },
    {
     "name": "stderr",
     "output_type": "stream",
     "text": [
      "\r",
      " 62%|████████████████████████████████████████████████▌                              | 0.615/1 [02:55<00:51, 133.22s/it]"
     ]
    },
    {
     "name": "stdout",
     "output_type": "stream",
     "text": [
      "2023-07-03 18:29:35> Processing of F:/AP_Paper_Benchmark/PXD015087_Thermo\\Hela_P035217_BA1_S00_A00_R12.raw for step search_db succeeded. 62.00 %\n"
     ]
    },
    {
     "name": "stderr",
     "output_type": "stream",
     "text": [
      "\r",
      " 62%|█████████████████████████████████████████████████▌                              | 0.62/1 [02:55<00:41, 109.21s/it]"
     ]
    },
    {
     "name": "stdout",
     "output_type": "stream",
     "text": [
      "2023-07-03 18:29:35> Processing of F:/AP_Paper_Benchmark/PXD015087_Thermo\\Hela_P035217_BA1_S00_A00_R13.raw for step search_db succeeded. 62.50 %\n"
     ]
    },
    {
     "name": "stderr",
     "output_type": "stream",
     "text": [
      "\r",
      " 62%|█████████████████████████████████████████████████▍                             | 0.625/1 [02:55<00:40, 108.21s/it]"
     ]
    },
    {
     "name": "stdout",
     "output_type": "stream",
     "text": [
      "2023-07-03 18:29:35> Processing of F:/AP_Paper_Benchmark/PXD015087_Thermo\\Hela_P035217_BA1_S00_A00_R14.raw for step search_db succeeded. 63.00 %\n",
      "2023-07-03 18:29:47> Processing of F:/AP_Paper_Benchmark/PXD015087_Thermo\\Hela_P035217_BA1_S00_A00_R15.raw for step search_db succeeded. 63.50 %\n"
     ]
    },
    {
     "name": "stderr",
     "output_type": "stream",
     "text": [
      "\r",
      " 64%|██████████████████████████████████████████████████▏                            | 0.635/1 [03:07<03:21, 551.35s/it]"
     ]
    },
    {
     "name": "stdout",
     "output_type": "stream",
     "text": [
      "2023-07-03 18:29:48> Processing of F:/AP_Paper_Benchmark/PXD015087_Thermo\\Hela_P035217_BA1_S00_A00_R16.raw for step search_db succeeded. 64.00 %\n"
     ]
    },
    {
     "name": "stderr",
     "output_type": "stream",
     "text": [
      "\r",
      " 64%|███████████████████████████████████████████████████▏                            | 0.64/1 [03:08<02:40, 445.38s/it]"
     ]
    },
    {
     "name": "stdout",
     "output_type": "stream",
     "text": [
      "2023-07-03 18:29:48> Processing of F:/AP_Paper_Benchmark/PXD015087_Thermo\\Hela_P035217_BA1_S00_A00_R17.raw for step search_db succeeded. 64.50 %\n"
     ]
    },
    {
     "name": "stderr",
     "output_type": "stream",
     "text": [
      "\r",
      " 64%|██████████████████████████████████████████████████▉                            | 0.645/1 [03:08<02:02, 345.84s/it]"
     ]
    },
    {
     "name": "stdout",
     "output_type": "stream",
     "text": [
      "2023-07-03 18:29:48> Processing of F:/AP_Paper_Benchmark/PXD015087_Thermo\\Hela_P035217_BA1_S00_A00_R18.raw for step search_db succeeded. 65.00 %\n"
     ]
    },
    {
     "name": "stderr",
     "output_type": "stream",
     "text": [
      "\r",
      " 65%|████████████████████████████████████████████████████                            | 0.65/1 [03:08<01:36, 276.43s/it]"
     ]
    },
    {
     "name": "stdout",
     "output_type": "stream",
     "text": [
      "2023-07-03 18:29:48> Processing of F:/AP_Paper_Benchmark/PXD015087_Thermo\\Hela_P035217_BA1_S00_A00_R19.raw for step search_db succeeded. 65.50 %\n",
      "2023-07-03 18:29:49> Processing of F:/AP_Paper_Benchmark/PXD015087_Thermo\\Hela_P035217_BA1_S00_A00_R2.raw for step search_db succeeded. 66.00 %\n"
     ]
    },
    {
     "name": "stderr",
     "output_type": "stream",
     "text": [
      "\r",
      " 66%|████████████████████████████████████████████████████▊                           | 0.66/1 [03:09<01:01, 179.94s/it]"
     ]
    },
    {
     "name": "stdout",
     "output_type": "stream",
     "text": [
      "2023-07-03 18:29:50> Processing of F:/AP_Paper_Benchmark/PXD015087_Thermo\\Hela_P035217_BA1_S00_A00_R20.raw for step search_db succeeded. 66.50 %\n"
     ]
    },
    {
     "name": "stderr",
     "output_type": "stream",
     "text": [
      "\r",
      " 66%|████████████████████████████████████████████████████▌                          | 0.665/1 [03:10<01:02, 186.43s/it]"
     ]
    },
    {
     "name": "stdout",
     "output_type": "stream",
     "text": [
      "2023-07-03 18:29:50> Processing of F:/AP_Paper_Benchmark/PXD015087_Thermo\\Hela_P035217_BA1_S00_A00_R21.raw for step search_db succeeded. 67.00 %\n"
     ]
    },
    {
     "name": "stderr",
     "output_type": "stream",
     "text": [
      "\r",
      " 67%|█████████████████████████████████████████████████████▌                          | 0.67/1 [03:10<00:53, 163.06s/it]"
     ]
    },
    {
     "name": "stdout",
     "output_type": "stream",
     "text": [
      "2023-07-03 18:29:50> Processing of F:/AP_Paper_Benchmark/PXD015087_Thermo\\Hela_P035217_BA1_S00_A00_R3.raw for step search_db succeeded. 67.50 %\n",
      "2023-07-03 18:29:50> Processing of F:/AP_Paper_Benchmark/PXD015087_Thermo\\Hela_P035217_BA1_S00_A00_R5.raw for step search_db succeeded. 68.00 %\n",
      "2023-07-03 18:29:51> Processing of F:/AP_Paper_Benchmark/PXD015087_Thermo\\Hela_P035217_BA1_S00_A00_R6.raw for step search_db succeeded. 68.50 %\n"
     ]
    },
    {
     "name": "stderr",
     "output_type": "stream",
     "text": [
      "\r",
      " 68%|██████████████████████████████████████████████████████                         | 0.685/1 [03:11<00:32, 101.71s/it]"
     ]
    },
    {
     "name": "stdout",
     "output_type": "stream",
     "text": [
      "2023-07-03 18:29:51> Processing of F:/AP_Paper_Benchmark/PXD015087_Thermo\\Hela_P035217_BA1_S00_A00_R7.raw for step search_db succeeded. 69.00 %\n"
     ]
    },
    {
     "name": "stderr",
     "output_type": "stream",
     "text": [
      "\r",
      " 69%|███████████████████████████████████████████████████████▉                         | 0.69/1 [03:11<00:30, 96.77s/it]"
     ]
    },
    {
     "name": "stdout",
     "output_type": "stream",
     "text": [
      "2023-07-03 18:29:51> Processing of F:/AP_Paper_Benchmark/PXD015087_Thermo\\Hela_P035217_BA1_S00_A00_R8.raw for step search_db succeeded. 69.50 %\n",
      "2023-07-03 18:29:51> Processing of F:/AP_Paper_Benchmark/PXD015087_Thermo\\Hela_P035217_BA1_S00_A00_R9.raw for step search_db succeeded. 70.00 %\n",
      "2023-07-03 18:30:02> Processing of F:/AP_Paper_Benchmark/PXD015087_Thermo\\Hela_P035218_BA1_S00_A00_R1.raw for step search_db succeeded. 70.50 %\n"
     ]
    },
    {
     "name": "stderr",
     "output_type": "stream",
     "text": [
      "\r",
      " 70%|███████████████████████████████████████████████████████▋                       | 0.705/1 [03:22<01:53, 384.59s/it]"
     ]
    },
    {
     "name": "stdout",
     "output_type": "stream",
     "text": [
      "2023-07-03 18:30:03> Processing of F:/AP_Paper_Benchmark/PXD015087_Thermo\\Hela_P035218_BA1_S00_A00_R10.raw for step search_db succeeded. 71.00 %\n"
     ]
    },
    {
     "name": "stderr",
     "output_type": "stream",
     "text": [
      "\r",
      " 71%|████████████████████████████████████████████████████████▊                       | 0.71/1 [03:23<01:43, 355.92s/it]"
     ]
    },
    {
     "name": "stdout",
     "output_type": "stream",
     "text": [
      "2023-07-03 18:30:03> Processing of F:/AP_Paper_Benchmark/PXD015087_Thermo\\Hela_P035218_BA1_S00_A00_R11.raw for step search_db succeeded. 71.50 %\n",
      "2023-07-03 18:30:05> Processing of F:/AP_Paper_Benchmark/PXD015087_Thermo\\Hela_P035218_BA1_S00_A00_R12.raw for step search_db succeeded. 72.00 %\n"
     ]
    },
    {
     "name": "stderr",
     "output_type": "stream",
     "text": [
      "\r",
      " 72%|█████████████████████████████████████████████████████████▌                      | 0.72/1 [03:25<01:18, 279.18s/it]"
     ]
    },
    {
     "name": "stdout",
     "output_type": "stream",
     "text": [
      "2023-07-03 18:30:05> Processing of F:/AP_Paper_Benchmark/PXD015087_Thermo\\Hela_P035218_BA1_S00_A00_R13.raw for step search_db succeeded. 72.50 %\n",
      "2023-07-03 18:30:05> Processing of F:/AP_Paper_Benchmark/PXD015087_Thermo\\Hela_P035218_BA1_S00_A00_R14.raw for step search_db succeeded. 73.00 %\n",
      "2023-07-03 18:30:05> Processing of F:/AP_Paper_Benchmark/PXD015087_Thermo\\Hela_P035218_BA1_S00_A00_R15.raw for step search_db succeeded. 73.50 %\n"
     ]
    },
    {
     "name": "stderr",
     "output_type": "stream",
     "text": [
      "\r",
      " 74%|██████████████████████████████████████████████████████████                     | 0.735/1 [03:25<00:46, 174.50s/it]"
     ]
    },
    {
     "name": "stdout",
     "output_type": "stream",
     "text": [
      "2023-07-03 18:30:06> Processing of F:/AP_Paper_Benchmark/PXD015087_Thermo\\Hela_P035218_BA1_S00_A00_R16.raw for step search_db succeeded. 74.00 %\n"
     ]
    },
    {
     "name": "stderr",
     "output_type": "stream",
     "text": [
      "\r",
      " 74%|███████████████████████████████████████████████████████████▏                    | 0.74/1 [03:26<00:42, 163.88s/it]"
     ]
    },
    {
     "name": "stdout",
     "output_type": "stream",
     "text": [
      "2023-07-03 18:30:07> Processing of F:/AP_Paper_Benchmark/PXD015087_Thermo\\Hela_P035218_BA1_S00_A00_R17.raw for step search_db succeeded. 74.50 %\n"
     ]
    },
    {
     "name": "stderr",
     "output_type": "stream",
     "text": [
      "\r",
      " 74%|██████████████████████████████████████████████████████████▊                    | 0.745/1 [03:28<00:51, 203.35s/it]"
     ]
    },
    {
     "name": "stdout",
     "output_type": "stream",
     "text": [
      "2023-07-03 18:30:07> Processing of F:/AP_Paper_Benchmark/PXD015087_Thermo\\Hela_P035218_BA1_S00_A00_R18.raw for step search_db succeeded. 75.00 %\n",
      "2023-07-03 18:30:08> Processing of F:/AP_Paper_Benchmark/PXD015087_Thermo\\Hela_P035218_BA1_S00_A00_R19.raw for step search_db succeeded. 75.50 %\n"
     ]
    },
    {
     "name": "stderr",
     "output_type": "stream",
     "text": [
      "\r",
      " 76%|███████████████████████████████████████████████████████████▋                   | 0.755/1 [03:28<00:37, 151.56s/it]"
     ]
    },
    {
     "name": "stdout",
     "output_type": "stream",
     "text": [
      "2023-07-03 18:30:08> Processing of F:/AP_Paper_Benchmark/PXD015087_Thermo\\Hela_P035218_BA1_S00_A00_R2.raw for step search_db succeeded. 76.00 %\n",
      "2023-07-03 18:30:08> Processing of F:/AP_Paper_Benchmark/PXD015087_Thermo\\Hela_P035218_BA1_S00_A00_R20.raw for step search_db succeeded. 76.50 %\n",
      "2023-07-03 18:30:08> Processing of F:/AP_Paper_Benchmark/PXD015087_Thermo\\Hela_P035218_BA1_S00_A00_R3.raw for step search_db succeeded. 77.00 %\n",
      "2023-07-03 18:30:20> Processing of F:/AP_Paper_Benchmark/PXD015087_Thermo\\Hela_P035218_BA1_S00_A00_R4.raw for step search_db succeeded. 77.50 %\n"
     ]
    },
    {
     "name": "stderr",
     "output_type": "stream",
     "text": [
      "\r",
      " 78%|█████████████████████████████████████████████████████████████▏                 | 0.775/1 [03:40<01:26, 382.36s/it]"
     ]
    },
    {
     "name": "stdout",
     "output_type": "stream",
     "text": [
      "2023-07-03 18:30:20> Processing of F:/AP_Paper_Benchmark/PXD015087_Thermo\\Hela_P035218_BA1_S00_A00_R5.raw for step search_db succeeded. 78.00 %\n"
     ]
    },
    {
     "name": "stderr",
     "output_type": "stream",
     "text": [
      "\r",
      " 78%|██████████████████████████████████████████████████████████████▍                 | 0.78/1 [03:40<01:12, 329.01s/it]"
     ]
    },
    {
     "name": "stdout",
     "output_type": "stream",
     "text": [
      "2023-07-03 18:30:20> Processing of F:/AP_Paper_Benchmark/PXD015087_Thermo\\Hela_P035218_BA1_S00_A00_R6.raw for step search_db succeeded. 78.50 %\n",
      "2023-07-03 18:30:21> Processing of F:/AP_Paper_Benchmark/PXD015087_Thermo\\Hela_P035218_BA1_S00_A00_R7.raw for step search_db succeeded. 79.00 %\n"
     ]
    },
    {
     "name": "stderr",
     "output_type": "stream",
     "text": [
      "\r",
      " 79%|███████████████████████████████████████████████████████████████▏                | 0.79/1 [03:41<00:51, 246.08s/it]"
     ]
    },
    {
     "name": "stdout",
     "output_type": "stream",
     "text": [
      "2023-07-03 18:30:22> Processing of F:/AP_Paper_Benchmark/PXD015087_Thermo\\Hela_P035218_BA1_S00_A00_R8.raw for step search_db succeeded. 79.50 %\n"
     ]
    },
    {
     "name": "stderr",
     "output_type": "stream",
     "text": [
      "\r",
      " 80%|██████████████████████████████████████████████████████████████▊                | 0.795/1 [03:42<00:49, 242.59s/it]"
     ]
    },
    {
     "name": "stdout",
     "output_type": "stream",
     "text": [
      "2023-07-03 18:30:22> Processing of F:/AP_Paper_Benchmark/PXD015087_Thermo\\Hela_P035218_BA1_S00_A00_R9.raw for step search_db succeeded. 80.00 %\n",
      "2023-07-03 18:30:22> Processing of F:/AP_Paper_Benchmark/PXD015087_Thermo\\Hela_P035219_BA1_S00_A00_R1.raw for step search_db succeeded. 80.50 %\n",
      "2023-07-03 18:30:22> Processing of F:/AP_Paper_Benchmark/PXD015087_Thermo\\Hela_P035219_BA1_S00_A00_R10.raw for step search_db succeeded. 81.00 %\n",
      "2023-07-03 18:30:24> Processing of F:/AP_Paper_Benchmark/PXD015087_Thermo\\Hela_P035219_BA1_S00_A00_R11.raw for step search_db succeeded. 81.50 %\n"
     ]
    },
    {
     "name": "stderr",
     "output_type": "stream",
     "text": [
      "\r",
      " 82%|████████████████████████████████████████████████████████████████▍              | 0.815/1 [03:44<00:31, 168.07s/it]"
     ]
    },
    {
     "name": "stdout",
     "output_type": "stream",
     "text": [
      "2023-07-03 18:30:24> Processing of F:/AP_Paper_Benchmark/PXD015087_Thermo\\Hela_P035219_BA1_S00_A00_R12.raw for step search_db succeeded. 82.00 %\n",
      "2023-07-03 18:30:24> Processing of F:/AP_Paper_Benchmark/PXD015087_Thermo\\Hela_P035219_BA1_S00_A00_R13.raw for step search_db succeeded. 82.50 %\n",
      "2023-07-03 18:30:24> Processing of F:/AP_Paper_Benchmark/PXD015087_Thermo\\Hela_P035219_BA1_S00_A00_R14.raw for step search_db succeeded. 83.00 %\n",
      "2023-07-03 18:30:24> Processing of F:/AP_Paper_Benchmark/PXD015087_Thermo\\Hela_P035219_BA1_S00_A00_R15.raw for step search_db succeeded. 83.50 %\n",
      "2023-07-03 18:30:24> Processing of F:/AP_Paper_Benchmark/PXD015087_Thermo\\Hela_P035219_BA1_S00_A00_R16.raw for step search_db succeeded. 84.00 %\n",
      "2023-07-03 18:30:35> Processing of F:/AP_Paper_Benchmark/PXD015087_Thermo\\Hela_P035219_BA1_S00_A00_R17.raw for step search_db succeeded. 84.50 %\n"
     ]
    },
    {
     "name": "stderr",
     "output_type": "stream",
     "text": [
      "\r",
      " 84%|██████████████████████████████████████████████████████████████████▊            | 0.845/1 [03:55<00:41, 268.49s/it]"
     ]
    },
    {
     "name": "stdout",
     "output_type": "stream",
     "text": [
      "2023-07-03 18:30:35> Processing of F:/AP_Paper_Benchmark/PXD015087_Thermo\\Hela_P035219_BA1_S00_A00_R18.raw for step search_db succeeded. 85.00 %\n"
     ]
    },
    {
     "name": "stderr",
     "output_type": "stream",
     "text": [
      "\r",
      " 85%|████████████████████████████████████████████████████████████████████            | 0.85/1 [03:55<00:36, 246.31s/it]"
     ]
    },
    {
     "name": "stdout",
     "output_type": "stream",
     "text": [
      "2023-07-03 18:30:36> Processing of F:/AP_Paper_Benchmark/PXD015087_Thermo\\Hela_P035219_BA1_S00_A00_R19.raw for step search_db succeeded. 85.50 %\n"
     ]
    },
    {
     "name": "stderr",
     "output_type": "stream",
     "text": [
      "\r",
      " 86%|███████████████████████████████████████████████████████████████████▌           | 0.855/1 [03:57<00:36, 249.32s/it]"
     ]
    },
    {
     "name": "stdout",
     "output_type": "stream",
     "text": [
      "2023-07-03 18:30:36> Processing of F:/AP_Paper_Benchmark/PXD015087_Thermo\\Hela_P035219_BA1_S00_A00_R2.raw for step search_db succeeded. 86.00 %\n",
      "2023-07-03 18:30:36> Processing of F:/AP_Paper_Benchmark/PXD015087_Thermo\\Hela_P035219_BA1_S00_A00_R20.raw for step search_db succeeded. 86.50 %\n",
      "2023-07-03 18:30:37> Processing of F:/AP_Paper_Benchmark/PXD015087_Thermo\\Hela_P035219_BA1_S00_A00_R3.raw for step search_db succeeded. 87.00 %\n"
     ]
    },
    {
     "name": "stderr",
     "output_type": "stream",
     "text": [
      "\r",
      " 87%|█████████████████████████████████████████████████████████████████████▌          | 0.87/1 [03:57<00:21, 169.19s/it]"
     ]
    },
    {
     "name": "stdout",
     "output_type": "stream",
     "text": [
      "2023-07-03 18:30:37> Processing of F:/AP_Paper_Benchmark/PXD015087_Thermo\\Hela_P035219_BA1_S00_A00_R4.raw for step search_db succeeded. 87.50 %\n"
     ]
    },
    {
     "name": "stderr",
     "output_type": "stream",
     "text": [
      "\r",
      " 88%|█████████████████████████████████████████████████████████████████████▏         | 0.875/1 [03:57<00:19, 155.62s/it]"
     ]
    },
    {
     "name": "stdout",
     "output_type": "stream",
     "text": [
      "2023-07-03 18:30:38> Processing of F:/AP_Paper_Benchmark/PXD015087_Thermo\\Hela_P035219_BA1_S00_A00_R5.raw for step search_db succeeded. 88.00 %\n"
     ]
    },
    {
     "name": "stderr",
     "output_type": "stream",
     "text": [
      "\r",
      " 88%|██████████████████████████████████████████████████████████████████████▍         | 0.88/1 [03:58<00:16, 137.91s/it]"
     ]
    },
    {
     "name": "stdout",
     "output_type": "stream",
     "text": [
      "2023-07-03 18:30:38> Processing of F:/AP_Paper_Benchmark/PXD015087_Thermo\\Hela_P035219_BA1_S00_A00_R6.raw for step search_db succeeded. 88.50 %\n"
     ]
    },
    {
     "name": "stderr",
     "output_type": "stream",
     "text": [
      "\r",
      " 88%|█████████████████████████████████████████████████████████████████████▉         | 0.885/1 [03:58<00:14, 129.25s/it]"
     ]
    },
    {
     "name": "stdout",
     "output_type": "stream",
     "text": [
      "2023-07-03 18:30:39> Processing of F:/AP_Paper_Benchmark/PXD015087_Thermo\\Hela_P035219_BA1_S00_A00_R7.raw for step search_db succeeded. 89.00 %\n"
     ]
    },
    {
     "name": "stderr",
     "output_type": "stream",
     "text": [
      "\r",
      " 89%|███████████████████████████████████████████████████████████████████████▏        | 0.89/1 [03:59<00:16, 146.80s/it]"
     ]
    },
    {
     "name": "stdout",
     "output_type": "stream",
     "text": [
      "2023-07-03 18:30:39> Processing of F:/AP_Paper_Benchmark/PXD015087_Thermo\\Hela_P035219_BA1_S00_A00_R8.raw for step search_db succeeded. 89.50 %\n",
      "2023-07-03 18:30:39> Processing of F:/AP_Paper_Benchmark/PXD015087_Thermo\\Hela_P035219_BA1_S00_A00_R9.raw for step search_db succeeded. 90.00 %\n",
      "2023-07-03 18:30:39> Processing of F:/AP_Paper_Benchmark/PXD015087_Thermo\\March_Hela_P035212_BA1_S00_A00_R1.raw for step search_db succeeded. 90.50 %\n",
      "2023-07-03 18:30:39> Processing of F:/AP_Paper_Benchmark/PXD015087_Thermo\\March_Hela_P035212_BA1_S00_A00_R10.raw for step search_db succeeded. 91.00 %\n",
      "2023-07-03 18:30:48> Processing of F:/AP_Paper_Benchmark/PXD015087_Thermo\\March_Hela_P035212_BA1_S00_A00_R11.raw for step search_db succeeded. 91.50 %\n"
     ]
    },
    {
     "name": "stderr",
     "output_type": "stream",
     "text": [
      "\r",
      " 92%|████████████████████████████████████████████████████████████████████████▎      | 0.915/1 [04:08<00:22, 265.28s/it]"
     ]
    },
    {
     "name": "stdout",
     "output_type": "stream",
     "text": [
      "2023-07-03 18:30:48> Processing of F:/AP_Paper_Benchmark/PXD015087_Thermo\\March_Hela_P035212_BA1_S00_A00_R12.raw for step search_db succeeded. 92.00 %\n"
     ]
    },
    {
     "name": "stderr",
     "output_type": "stream",
     "text": [
      "\r",
      " 92%|█████████████████████████████████████████████████████████████████████████▌      | 0.92/1 [04:08<00:19, 249.23s/it]"
     ]
    },
    {
     "name": "stdout",
     "output_type": "stream",
     "text": [
      "2023-07-03 18:30:49> Processing of F:/AP_Paper_Benchmark/PXD015087_Thermo\\March_Hela_P035212_BA1_S00_A00_R13.raw for step search_db succeeded. 92.50 %\n"
     ]
    },
    {
     "name": "stderr",
     "output_type": "stream",
     "text": [
      "\r",
      " 92%|█████████████████████████████████████████████████████████████████████████      | 0.925/1 [04:09<00:17, 227.60s/it]"
     ]
    },
    {
     "name": "stdout",
     "output_type": "stream",
     "text": [
      "2023-07-03 18:30:49> Processing of F:/AP_Paper_Benchmark/PXD015087_Thermo\\March_Hela_P035212_BA1_S00_A00_R14.raw for step search_db succeeded. 93.00 %\n",
      "2023-07-03 18:30:49> Processing of F:/AP_Paper_Benchmark/PXD015087_Thermo\\March_Hela_P035212_BA1_S00_A00_R15.raw for step search_db succeeded. 93.50 %\n",
      "2023-07-03 18:30:49> Processing of F:/AP_Paper_Benchmark/PXD015087_Thermo\\March_Hela_P035212_BA1_S00_A00_R16.raw for step search_db succeeded. 94.00 %\n"
     ]
    },
    {
     "name": "stderr",
     "output_type": "stream",
     "text": [
      "\r",
      " 94%|███████████████████████████████████████████████████████████████████████████▏    | 0.94/1 [04:09<00:08, 133.51s/it]"
     ]
    },
    {
     "name": "stdout",
     "output_type": "stream",
     "text": [
      "2023-07-03 18:30:49> Processing of F:/AP_Paper_Benchmark/PXD015087_Thermo\\March_Hela_P035212_BA1_S00_A00_R17.raw for step search_db succeeded. 94.50 %\n",
      "2023-07-03 18:30:49> Processing of F:/AP_Paper_Benchmark/PXD015087_Thermo\\March_Hela_P035212_BA1_S00_A00_R18.raw for step search_db succeeded. 95.00 %\n"
     ]
    },
    {
     "name": "stderr",
     "output_type": "stream",
     "text": [
      "\r",
      " 95%|████████████████████████████████████████████████████████████████████████████    | 0.95/1 [04:10<00:05, 104.34s/it]"
     ]
    },
    {
     "name": "stdout",
     "output_type": "stream",
     "text": [
      "2023-07-03 18:30:50> Processing of F:/AP_Paper_Benchmark/PXD015087_Thermo\\March_Hela_P035212_BA1_S00_A00_R19.raw for step search_db succeeded. 95.50 %\n"
     ]
    },
    {
     "name": "stderr",
     "output_type": "stream",
     "text": [
      "\r",
      " 96%|████████████████████████████████████████████████████████████████████████████▍   | 0.955/1 [04:10<00:04, 99.60s/it]"
     ]
    },
    {
     "name": "stdout",
     "output_type": "stream",
     "text": [
      "2023-07-03 18:30:50> Processing of F:/AP_Paper_Benchmark/PXD015087_Thermo\\March_Hela_P035212_BA1_S00_A00_R2.raw for step search_db succeeded. 96.00 %\n",
      "2023-07-03 18:30:51> Processing of F:/AP_Paper_Benchmark/PXD015087_Thermo\\March_Hela_P035212_BA1_S00_A00_R20.raw for step search_db succeeded. 96.50 %\n"
     ]
    },
    {
     "name": "stderr",
     "output_type": "stream",
     "text": [
      "\r",
      " 96%|█████████████████████████████████████████████████████████████████████████████▏  | 0.965/1 [04:11<00:03, 90.43s/it]"
     ]
    },
    {
     "name": "stdout",
     "output_type": "stream",
     "text": [
      "2023-07-03 18:30:51> Processing of F:/AP_Paper_Benchmark/PXD015087_Thermo\\March_Hela_P035212_BA1_S00_A00_R3.raw for step search_db succeeded. 97.00 %\n",
      "2023-07-03 18:30:51> Processing of F:/AP_Paper_Benchmark/PXD015087_Thermo\\March_Hela_P035212_BA1_S00_A00_R4.raw for step search_db succeeded. 97.50 %\n",
      "2023-07-03 18:30:51> Processing of F:/AP_Paper_Benchmark/PXD015087_Thermo\\March_Hela_P035212_BA1_S00_A00_R5.raw for step search_db succeeded. 98.00 %\n",
      "2023-07-03 18:30:57> Processing of F:/AP_Paper_Benchmark/PXD015087_Thermo\\March_Hela_P035212_BA1_S00_A00_R6.raw for step search_db succeeded. 98.50 %\n"
     ]
    },
    {
     "name": "stderr",
     "output_type": "stream",
     "text": [
      "\r",
      " 98%|█████████████████████████████████████████████████████████████████████████████▊ | 0.985/1 [04:17<00:03, 209.17s/it]"
     ]
    },
    {
     "name": "stdout",
     "output_type": "stream",
     "text": [
      "2023-07-03 18:30:58> Processing of F:/AP_Paper_Benchmark/PXD015087_Thermo\\March_Hela_P035212_BA1_S00_A00_R7.raw for step search_db succeeded. 99.00 %\n"
     ]
    },
    {
     "name": "stderr",
     "output_type": "stream",
     "text": [
      "\r",
      " 99%|███████████████████████████████████████████████████████████████████████████████▏| 0.99/1 [04:18<00:01, 188.51s/it]"
     ]
    },
    {
     "name": "stdout",
     "output_type": "stream",
     "text": [
      "2023-07-03 18:30:58> Processing of F:/AP_Paper_Benchmark/PXD015087_Thermo\\March_Hela_P035212_BA1_S00_A00_R8.raw for step search_db succeeded. 99.50 %\n"
     ]
    },
    {
     "name": "stderr",
     "output_type": "stream",
     "text": [
      "\r",
      "100%|██████████████████████████████████████████████████████████████████████████████▌| 0.995/1 [04:19<00:00, 184.45s/it]"
     ]
    },
    {
     "name": "stdout",
     "output_type": "stream",
     "text": [
      "2023-07-03 18:30:58> Processing of F:/AP_Paper_Benchmark/PXD015087_Thermo\\March_Hela_P035212_BA1_S00_A00_R9.raw for step search_db succeeded. 100.00 %\n",
      "2023-07-03 18:31:19> Second search complete.\n"
     ]
    },
    {
     "name": "stderr",
     "output_type": "stream",
     "text": [
      "100%|█████████████████████████████████████████████████████████████████████████████████| 1.0/1 [04:39<00:00, 279.86s/it]\n"
     ]
    },
    {
     "name": "stdout",
     "output_type": "stream",
     "text": [
      "2023-07-03 18:31:20> ==== score ====\n"
     ]
    },
    {
     "name": "stderr",
     "output_type": "stream",
     "text": [
      "\r",
      "  0%|                                                                                            | 0/1 [00:00<?, ?it/s]"
     ]
    },
    {
     "name": "stdout",
     "output_type": "stream",
     "text": [
      "2023-07-03 18:31:20> Processing 200 files for step score_hdf\n",
      "2023-07-03 18:31:20> AlphaPool was set to 24 processes. Setting max to 24.\n",
      "2023-07-03 18:32:02> Processing of F:/AP_Paper_Benchmark/PXD015087_Thermo\\Hela_P035210_BA1_S00_A00_R1.raw for step score_hdf succeeded. 0.50 %\n"
     ]
    },
    {
     "name": "stderr",
     "output_type": "stream",
     "text": [
      "\r",
      "  0%|▍                                                                           | 0.005/1 [00:41<2:17:19, 8281.25s/it]"
     ]
    },
    {
     "name": "stdout",
     "output_type": "stream",
     "text": [
      "2023-07-03 18:32:02> Processing of F:/AP_Paper_Benchmark/PXD015087_Thermo\\Hela_P035210_BA1_S00_A00_R10.raw for step score_hdf succeeded. 1.00 %\n",
      "2023-07-03 18:32:03> Processing of F:/AP_Paper_Benchmark/PXD015087_Thermo\\Hela_P035210_BA1_S00_A00_R11.raw for step score_hdf succeeded. 1.50 %\n"
     ]
    },
    {
     "name": "stderr",
     "output_type": "stream",
     "text": [
      "\r",
      "  2%|█▏                                                                            | 0.015/1 [00:42<36:48, 2241.79s/it]"
     ]
    },
    {
     "name": "stdout",
     "output_type": "stream",
     "text": [
      "2023-07-03 18:32:03> Processing of F:/AP_Paper_Benchmark/PXD015087_Thermo\\Hela_P035210_BA1_S00_A00_R12.raw for step score_hdf succeeded. 2.00 %\n",
      "2023-07-03 18:32:03> Processing of F:/AP_Paper_Benchmark/PXD015087_Thermo\\Hela_P035210_BA1_S00_A00_R13.raw for step score_hdf succeeded. 2.50 %\n",
      "2023-07-03 18:32:03> Processing of F:/AP_Paper_Benchmark/PXD015087_Thermo\\Hela_P035210_BA1_S00_A00_R14.raw for step score_hdf succeeded. 3.00 %\n",
      "2023-07-03 18:32:03> Processing of F:/AP_Paper_Benchmark/PXD015087_Thermo\\Hela_P035210_BA1_S00_A00_R15.raw for step score_hdf succeeded. 3.50 %\n",
      "2023-07-03 18:32:03> Processing of F:/AP_Paper_Benchmark/PXD015087_Thermo\\Hela_P035210_BA1_S00_A00_R16.raw for step score_hdf succeeded. 4.00 %\n",
      "2023-07-03 18:32:03> Processing of F:/AP_Paper_Benchmark/PXD015087_Thermo\\Hela_P035210_BA1_S00_A00_R17.raw for step score_hdf succeeded. 4.50 %\n",
      "2023-07-03 18:32:03> Processing of F:/AP_Paper_Benchmark/PXD015087_Thermo\\Hela_P035210_BA1_S00_A00_R18.raw for step score_hdf succeeded. 5.00 %\n",
      "2023-07-03 18:32:20> Processing of F:/AP_Paper_Benchmark/PXD015087_Thermo\\Hela_P035210_BA1_S00_A00_R19.raw for step score_hdf succeeded. 5.50 %\n"
     ]
    },
    {
     "name": "stderr",
     "output_type": "stream",
     "text": [
      "\r",
      "  6%|████▎                                                                          | 0.055/1 [01:00<12:21, 784.96s/it]"
     ]
    },
    {
     "name": "stdout",
     "output_type": "stream",
     "text": [
      "2023-07-03 18:32:20> Processing of F:/AP_Paper_Benchmark/PXD015087_Thermo\\Hela_P035210_BA1_S00_A00_R2.raw for step score_hdf succeeded. 6.00 %\n",
      "2023-07-03 18:32:20> Processing of F:/AP_Paper_Benchmark/PXD015087_Thermo\\Hela_P035210_BA1_S00_A00_R20.raw for step score_hdf succeeded. 6.50 %\n",
      "2023-07-03 18:32:20> Processing of F:/AP_Paper_Benchmark/PXD015087_Thermo\\Hela_P035210_BA1_S00_A00_R3.raw for step score_hdf succeeded. 7.00 %\n",
      "2023-07-03 18:32:20> Processing of F:/AP_Paper_Benchmark/PXD015087_Thermo\\Hela_P035210_BA1_S00_A00_R4.raw for step score_hdf succeeded. 7.50 %\n",
      "2023-07-03 18:32:20> Processing of F:/AP_Paper_Benchmark/PXD015087_Thermo\\Hela_P035210_BA1_S00_A00_R5.raw for step score_hdf succeeded. 8.00 %\n",
      "2023-07-03 18:32:20> Processing of F:/AP_Paper_Benchmark/PXD015087_Thermo\\Hela_P035210_BA1_S00_A00_R6.raw for step score_hdf succeeded. 8.50 %\n",
      "2023-07-03 18:32:20> Processing of F:/AP_Paper_Benchmark/PXD015087_Thermo\\Hela_P035210_BA1_S00_A00_R7.raw for step score_hdf succeeded. 9.00 %\n",
      "2023-07-03 18:32:20> Processing of F:/AP_Paper_Benchmark/PXD015087_Thermo\\Hela_P035210_BA1_S00_A00_R8.raw for step score_hdf succeeded. 9.50 %\n",
      "2023-07-03 18:32:20> Processing of F:/AP_Paper_Benchmark/PXD015087_Thermo\\Hela_P035210_BA1_S00_A00_R9.raw for step score_hdf succeeded. 10.00 %\n",
      "2023-07-03 18:32:20> Processing of F:/AP_Paper_Benchmark/PXD015087_Thermo\\Hela_P035211_BA1_S00_A00_R1.raw for step score_hdf succeeded. 10.50 %\n",
      "2023-07-03 18:32:20> Processing of F:/AP_Paper_Benchmark/PXD015087_Thermo\\Hela_P035211_BA1_S00_A00_R10.raw for step score_hdf succeeded. 11.00 %\n",
      "2023-07-03 18:32:20> Processing of F:/AP_Paper_Benchmark/PXD015087_Thermo\\Hela_P035211_BA1_S00_A00_R11.raw for step score_hdf succeeded. 11.50 %\n",
      "2023-07-03 18:32:20> Processing of F:/AP_Paper_Benchmark/PXD015087_Thermo\\Hela_P035211_BA1_S00_A00_R12.raw for step score_hdf succeeded. 12.00 %\n",
      "2023-07-03 18:32:29> Processing of F:/AP_Paper_Benchmark/PXD015087_Thermo\\Hela_P035211_BA1_S00_A00_R13.raw for step score_hdf succeeded. 12.50 %\n"
     ]
    },
    {
     "name": "stderr",
     "output_type": "stream",
     "text": [
      "\r",
      " 12%|█████████▉                                                                     | 0.125/1 [01:08<04:59, 342.19s/it]"
     ]
    },
    {
     "name": "stdout",
     "output_type": "stream",
     "text": [
      "2023-07-03 18:32:30> Processing of F:/AP_Paper_Benchmark/PXD015087_Thermo\\Hela_P035211_BA1_S00_A00_R14.raw for step score_hdf succeeded. 13.00 %\n"
     ]
    },
    {
     "name": "stderr",
     "output_type": "stream",
     "text": [
      "\r",
      " 13%|██████████▍                                                                     | 0.13/1 [01:09<04:47, 330.87s/it]"
     ]
    },
    {
     "name": "stdout",
     "output_type": "stream",
     "text": [
      "2023-07-03 18:32:30> Processing of F:/AP_Paper_Benchmark/PXD015087_Thermo\\Hela_P035211_BA1_S00_A00_R15.raw for step score_hdf succeeded. 13.50 %\n",
      "2023-07-03 18:32:30> Processing of F:/AP_Paper_Benchmark/PXD015087_Thermo\\Hela_P035211_BA1_S00_A00_R16.raw for step score_hdf succeeded. 14.00 %\n",
      "2023-07-03 18:32:30> Processing of F:/AP_Paper_Benchmark/PXD015087_Thermo\\Hela_P035211_BA1_S00_A00_R17.raw for step score_hdf succeeded. 14.50 %\n",
      "2023-07-03 18:32:30> Processing of F:/AP_Paper_Benchmark/PXD015087_Thermo\\Hela_P035211_BA1_S00_A00_R18.raw for step score_hdf succeeded. 15.00 %\n",
      "2023-07-03 18:32:30> Processing of F:/AP_Paper_Benchmark/PXD015087_Thermo\\Hela_P035211_BA1_S00_A00_R19.raw for step score_hdf succeeded. 15.50 %\n",
      "2023-07-03 18:32:32> Processing of F:/AP_Paper_Benchmark/PXD015087_Thermo\\Hela_P035211_BA1_S00_A00_R2.raw for step score_hdf succeeded. 16.00 %\n"
     ]
    },
    {
     "name": "stderr",
     "output_type": "stream",
     "text": [
      "\r",
      " 16%|████████████▊                                                                   | 0.16/1 [01:11<03:19, 237.27s/it]"
     ]
    },
    {
     "name": "stdout",
     "output_type": "stream",
     "text": [
      "2023-07-03 18:32:32> Processing of F:/AP_Paper_Benchmark/PXD015087_Thermo\\Hela_P035211_BA1_S00_A00_R20.raw for step score_hdf succeeded. 16.50 %\n",
      "2023-07-03 18:32:32> Processing of F:/AP_Paper_Benchmark/PXD015087_Thermo\\Hela_P035211_BA1_S00_A00_R3.raw for step score_hdf succeeded. 17.00 %\n",
      "2023-07-03 18:32:33> Processing of F:/AP_Paper_Benchmark/PXD015087_Thermo\\Hela_P035211_BA1_S00_A00_R4.raw for step score_hdf succeeded. 17.50 %\n"
     ]
    },
    {
     "name": "stderr",
     "output_type": "stream",
     "text": [
      "\r",
      " 18%|█████████████▊                                                                 | 0.175/1 [01:12<02:43, 198.59s/it]"
     ]
    },
    {
     "name": "stdout",
     "output_type": "stream",
     "text": [
      "2023-07-03 18:32:33> Processing of F:/AP_Paper_Benchmark/PXD015087_Thermo\\Hela_P035211_BA1_S00_A00_R5.raw for step score_hdf succeeded. 18.00 %\n",
      "2023-07-03 18:32:33> Processing of F:/AP_Paper_Benchmark/PXD015087_Thermo\\Hela_P035211_BA1_S00_A00_R6.raw for step score_hdf succeeded. 18.50 %\n",
      "2023-07-03 18:32:34> Processing of F:/AP_Paper_Benchmark/PXD015087_Thermo\\Hela_P035211_BA1_S00_A00_R7.raw for step score_hdf succeeded. 19.00 %\n"
     ]
    },
    {
     "name": "stderr",
     "output_type": "stream",
     "text": [
      "\r",
      " 19%|███████████████▏                                                                | 0.19/1 [01:13<02:20, 172.92s/it]"
     ]
    },
    {
     "name": "stdout",
     "output_type": "stream",
     "text": [
      "2023-07-03 18:32:34> Processing of F:/AP_Paper_Benchmark/PXD015087_Thermo\\Hela_P035211_BA1_S00_A00_R8.raw for step score_hdf succeeded. 19.50 %\n",
      "2023-07-03 18:32:34> Processing of F:/AP_Paper_Benchmark/PXD015087_Thermo\\Hela_P035211_BA1_S00_A00_R9.raw for step score_hdf succeeded. 20.00 %\n",
      "2023-07-03 18:32:34> Processing of F:/AP_Paper_Benchmark/PXD015087_Thermo\\Hela_P035213_BA1_S00_A00_R1.raw for step score_hdf succeeded. 20.50 %\n",
      "2023-07-03 18:32:34> Processing of F:/AP_Paper_Benchmark/PXD015087_Thermo\\Hela_P035213_BA1_S00_A00_R10.raw for step score_hdf succeeded. 21.00 %\n",
      "2023-07-03 18:32:35> Processing of F:/AP_Paper_Benchmark/PXD015087_Thermo\\Hela_P035213_BA1_S00_A00_R11.raw for step score_hdf succeeded. 21.50 %\n"
     ]
    },
    {
     "name": "stderr",
     "output_type": "stream",
     "text": [
      "\r",
      " 22%|████████████████▉                                                              | 0.215/1 [01:15<01:43, 132.12s/it]"
     ]
    },
    {
     "name": "stdout",
     "output_type": "stream",
     "text": [
      "2023-07-03 18:32:35> Processing of F:/AP_Paper_Benchmark/PXD015087_Thermo\\Hela_P035213_BA1_S00_A00_R12.raw for step score_hdf succeeded. 22.00 %\n",
      "2023-07-03 18:32:35> Processing of F:/AP_Paper_Benchmark/PXD015087_Thermo\\Hela_P035213_BA1_S00_A00_R13.raw for step score_hdf succeeded. 22.50 %\n"
     ]
    },
    {
     "name": "stderr",
     "output_type": "stream",
     "text": [
      "\r",
      " 22%|█████████████████▊                                                             | 0.225/1 [01:15<01:27, 113.23s/it]"
     ]
    },
    {
     "name": "stdout",
     "output_type": "stream",
     "text": [
      "2023-07-03 18:32:36> Processing of F:/AP_Paper_Benchmark/PXD015087_Thermo\\Hela_P035213_BA1_S00_A00_R14.raw for step score_hdf succeeded. 23.00 %\n"
     ]
    },
    {
     "name": "stderr",
     "output_type": "stream",
     "text": [
      "\r",
      " 23%|██████████████████▍                                                             | 0.23/1 [01:15<01:28, 115.52s/it]"
     ]
    },
    {
     "name": "stdout",
     "output_type": "stream",
     "text": [
      "2023-07-03 18:32:36> Processing of F:/AP_Paper_Benchmark/PXD015087_Thermo\\Hela_P035213_BA1_S00_A00_R15.raw for step score_hdf succeeded. 23.50 %\n",
      "2023-07-03 18:32:51> Processing of F:/AP_Paper_Benchmark/PXD015087_Thermo\\Hela_P035213_BA1_S00_A00_R16.raw for step score_hdf succeeded. 24.00 %\n"
     ]
    },
    {
     "name": "stderr",
     "output_type": "stream",
     "text": [
      "\r",
      " 24%|███████████████████▏                                                            | 0.24/1 [01:30<05:27, 431.25s/it]"
     ]
    },
    {
     "name": "stdout",
     "output_type": "stream",
     "text": [
      "2023-07-03 18:32:56> Processing of F:/AP_Paper_Benchmark/PXD015087_Thermo\\Hela_P035213_BA1_S00_A00_R17.raw for step score_hdf succeeded. 24.50 %\n"
     ]
    },
    {
     "name": "stderr",
     "output_type": "stream",
     "text": [
      "\r",
      " 24%|███████████████████▎                                                           | 0.245/1 [01:36<06:35, 524.08s/it]"
     ]
    },
    {
     "name": "stdout",
     "output_type": "stream",
     "text": [
      "2023-07-03 18:32:58> Processing of F:/AP_Paper_Benchmark/PXD015087_Thermo\\Hela_P035213_BA1_S00_A00_R18.raw for step score_hdf succeeded. 25.00 %\n"
     ]
    },
    {
     "name": "stderr",
     "output_type": "stream",
     "text": [
      "\r",
      " 25%|████████████████████                                                            | 0.25/1 [01:38<06:20, 507.32s/it]"
     ]
    },
    {
     "name": "stdout",
     "output_type": "stream",
     "text": [
      "2023-07-03 18:32:58> Processing of F:/AP_Paper_Benchmark/PXD015087_Thermo\\Hela_P035213_BA1_S00_A00_R19.raw for step score_hdf succeeded. 25.50 %\n",
      "2023-07-03 18:32:58> Processing of F:/AP_Paper_Benchmark/PXD015087_Thermo\\Hela_P035213_BA1_S00_A00_R2.raw for step score_hdf succeeded. 26.00 %\n",
      "2023-07-03 18:32:58> Processing of F:/AP_Paper_Benchmark/PXD015087_Thermo\\Hela_P035213_BA1_S00_A00_R20.raw for step score_hdf succeeded. 26.50 %\n",
      "2023-07-03 18:32:59> Processing of F:/AP_Paper_Benchmark/PXD015087_Thermo\\Hela_P035213_BA1_S00_A00_R3.raw for step score_hdf succeeded. 27.00 %\n"
     ]
    },
    {
     "name": "stderr",
     "output_type": "stream",
     "text": [
      "\r",
      " 27%|█████████████████████▌                                                          | 0.27/1 [01:39<03:27, 283.61s/it]"
     ]
    },
    {
     "name": "stdout",
     "output_type": "stream",
     "text": [
      "2023-07-03 18:33:00> Processing of F:/AP_Paper_Benchmark/PXD015087_Thermo\\Hela_P035213_BA1_S00_A00_R4.raw for step score_hdf succeeded. 27.50 %\n"
     ]
    },
    {
     "name": "stderr",
     "output_type": "stream",
     "text": [
      "\r",
      " 28%|█████████████████████▋                                                         | 0.275/1 [01:40<03:14, 268.32s/it]"
     ]
    },
    {
     "name": "stdout",
     "output_type": "stream",
     "text": [
      "2023-07-03 18:33:00> Processing of F:/AP_Paper_Benchmark/PXD015087_Thermo\\Hela_P035213_BA1_S00_A00_R5.raw for step score_hdf succeeded. 28.00 %\n",
      "2023-07-03 18:33:00> Processing of F:/AP_Paper_Benchmark/PXD015087_Thermo\\Hela_P035213_BA1_S00_A00_R6.raw for step score_hdf succeeded. 28.50 %\n",
      "2023-07-03 18:33:00> Processing of F:/AP_Paper_Benchmark/PXD015087_Thermo\\Hela_P035213_BA1_S00_A00_R7.raw for step score_hdf succeeded. 29.00 %\n",
      "2023-07-03 18:33:02> Processing of F:/AP_Paper_Benchmark/PXD015087_Thermo\\Hela_P035213_BA1_S00_A00_R8.raw for step score_hdf succeeded. 29.50 %\n"
     ]
    },
    {
     "name": "stderr",
     "output_type": "stream",
     "text": [
      "\r",
      " 30%|███████████████████████▎                                                       | 0.295/1 [01:41<02:02, 173.96s/it]"
     ]
    },
    {
     "name": "stdout",
     "output_type": "stream",
     "text": [
      "2023-07-03 18:33:02> Processing of F:/AP_Paper_Benchmark/PXD015087_Thermo\\Hela_P035213_BA1_S00_A00_R9.raw for step score_hdf succeeded. 30.00 %\n",
      "2023-07-03 18:33:02> Processing of F:/AP_Paper_Benchmark/PXD015087_Thermo\\Hela_P035214_BA1_S00_A00_R1.raw for step score_hdf succeeded. 30.50 %\n",
      "2023-07-03 18:33:02> Processing of F:/AP_Paper_Benchmark/PXD015087_Thermo\\Hela_P035214_BA1_S00_A00_R10.raw for step score_hdf succeeded. 31.00 %\n",
      "2023-07-03 18:33:02> Processing of F:/AP_Paper_Benchmark/PXD015087_Thermo\\Hela_P035214_BA1_S00_A00_R11.raw for step score_hdf succeeded. 31.50 %\n",
      "2023-07-03 18:33:04> Processing of F:/AP_Paper_Benchmark/PXD015087_Thermo\\Hela_P035214_BA1_S00_A00_R12.raw for step score_hdf succeeded. 32.00 %\n"
     ]
    },
    {
     "name": "stderr",
     "output_type": "stream",
     "text": [
      "\r",
      " 32%|█████████████████████████▌                                                      | 0.32/1 [01:43<01:29, 131.65s/it]"
     ]
    },
    {
     "name": "stdout",
     "output_type": "stream",
     "text": [
      "2023-07-03 18:33:04> Processing of F:/AP_Paper_Benchmark/PXD015087_Thermo\\Hela_P035214_BA1_S00_A00_R13.raw for step score_hdf succeeded. 32.50 %\n",
      "2023-07-03 18:33:04> Processing of F:/AP_Paper_Benchmark/PXD015087_Thermo\\Hela_P035214_BA1_S00_A00_R14.raw for step score_hdf succeeded. 33.00 %\n",
      "2023-07-03 18:33:04> Processing of F:/AP_Paper_Benchmark/PXD015087_Thermo\\Hela_P035214_BA1_S00_A00_R15.raw for step score_hdf succeeded. 33.50 %\n",
      "2023-07-03 18:33:07> Processing of F:/AP_Paper_Benchmark/PXD015087_Thermo\\Hela_P035214_BA1_S00_A00_R16.raw for step score_hdf succeeded. 34.00 %\n"
     ]
    },
    {
     "name": "stderr",
     "output_type": "stream",
     "text": [
      "\r",
      " 34%|███████████████████████████▏                                                    | 0.34/1 [01:47<01:38, 149.84s/it]"
     ]
    },
    {
     "name": "stdout",
     "output_type": "stream",
     "text": [
      "2023-07-03 18:33:07> Processing of F:/AP_Paper_Benchmark/PXD015087_Thermo\\Hela_P035214_BA1_S00_A00_R17.raw for step score_hdf succeeded. 34.50 %\n",
      "2023-07-03 18:33:07> Processing of F:/AP_Paper_Benchmark/PXD015087_Thermo\\Hela_P035214_BA1_S00_A00_R18.raw for step score_hdf succeeded. 35.00 %\n",
      "2023-07-03 18:33:07> Processing of F:/AP_Paper_Benchmark/PXD015087_Thermo\\Hela_P035214_BA1_S00_A00_R19.raw for step score_hdf succeeded. 35.50 %\n",
      "2023-07-03 18:33:21> Processing of F:/AP_Paper_Benchmark/PXD015087_Thermo\\Hela_P035214_BA1_S00_A00_R2.raw for step score_hdf succeeded. 36.00 %\n"
     ]
    },
    {
     "name": "stderr",
     "output_type": "stream",
     "text": [
      "\r",
      " 36%|████████████████████████████▊                                                   | 0.36/1 [02:00<03:26, 322.47s/it]"
     ]
    },
    {
     "name": "stdout",
     "output_type": "stream",
     "text": [
      "2023-07-03 18:33:25> Processing of F:/AP_Paper_Benchmark/PXD015087_Thermo\\Hela_P035214_BA1_S00_A00_R20.raw for step score_hdf succeeded. 36.50 %\n"
     ]
    },
    {
     "name": "stderr",
     "output_type": "stream",
     "text": [
      "\r",
      " 36%|████████████████████████████▊                                                  | 0.365/1 [02:05<04:02, 382.12s/it]"
     ]
    },
    {
     "name": "stdout",
     "output_type": "stream",
     "text": [
      "2023-07-03 18:33:26> Processing of F:/AP_Paper_Benchmark/PXD015087_Thermo\\Hela_P035214_BA1_S00_A00_R3.raw for step score_hdf succeeded. 37.00 %\n"
     ]
    },
    {
     "name": "stderr",
     "output_type": "stream",
     "text": [
      "\r",
      " 37%|█████████████████████████████▌                                                  | 0.37/1 [02:06<03:43, 355.21s/it]"
     ]
    },
    {
     "name": "stdout",
     "output_type": "stream",
     "text": [
      "2023-07-03 18:33:26> Processing of F:/AP_Paper_Benchmark/PXD015087_Thermo\\Hela_P035214_BA1_S00_A00_R4.raw for step score_hdf succeeded. 37.50 %\n",
      "2023-07-03 18:33:27> Processing of F:/AP_Paper_Benchmark/PXD015087_Thermo\\Hela_P035214_BA1_S00_A00_R5.raw for step score_hdf succeeded. 38.00 %\n"
     ]
    },
    {
     "name": "stderr",
     "output_type": "stream",
     "text": [
      "\r",
      " 38%|██████████████████████████████▍                                                 | 0.38/1 [02:06<02:47, 269.91s/it]"
     ]
    },
    {
     "name": "stdout",
     "output_type": "stream",
     "text": [
      "2023-07-03 18:33:28> Processing of F:/AP_Paper_Benchmark/PXD015087_Thermo\\Hela_P035214_BA1_S00_A00_R6.raw for step score_hdf succeeded. 38.50 %\n"
     ]
    },
    {
     "name": "stderr",
     "output_type": "stream",
     "text": [
      "\r",
      " 38%|██████████████████████████████▍                                                | 0.385/1 [02:08<02:52, 281.24s/it]"
     ]
    },
    {
     "name": "stdout",
     "output_type": "stream",
     "text": [
      "2023-07-03 18:33:28> Processing of F:/AP_Paper_Benchmark/PXD015087_Thermo\\Hela_P035214_BA1_S00_A00_R7.raw for step score_hdf succeeded. 39.00 %\n",
      "2023-07-03 18:33:29> Processing of F:/AP_Paper_Benchmark/PXD015087_Thermo\\Hela_P035214_BA1_S00_A00_R8.raw for step score_hdf succeeded. 39.50 %\n"
     ]
    },
    {
     "name": "stderr",
     "output_type": "stream",
     "text": [
      "\r",
      " 40%|███████████████████████████████▏                                               | 0.395/1 [02:08<02:02, 202.16s/it]"
     ]
    },
    {
     "name": "stdout",
     "output_type": "stream",
     "text": [
      "2023-07-03 18:33:30> Processing of F:/AP_Paper_Benchmark/PXD015087_Thermo\\Hela_P035214_BA1_S00_A00_R9.raw for step score_hdf succeeded. 40.00 %\n"
     ]
    },
    {
     "name": "stderr",
     "output_type": "stream",
     "text": [
      "\r",
      " 40%|████████████████████████████████▍                                                | 0.4/1 [02:10<02:18, 231.30s/it]"
     ]
    },
    {
     "name": "stdout",
     "output_type": "stream",
     "text": [
      "2023-07-03 18:33:30> Processing of F:/AP_Paper_Benchmark/PXD015087_Thermo\\Hela_P035215_BA1_S00_A00_R1.raw for step score_hdf succeeded. 40.50 %\n",
      "2023-07-03 18:33:30> Processing of F:/AP_Paper_Benchmark/PXD015087_Thermo\\Hela_P035215_BA1_S00_A00_R10.raw for step score_hdf succeeded. 41.00 %\n",
      "2023-07-03 18:33:30> Processing of F:/AP_Paper_Benchmark/PXD015087_Thermo\\Hela_P035215_BA1_S00_A00_R11.raw for step score_hdf succeeded. 41.50 %\n",
      "2023-07-03 18:33:30> Processing of F:/AP_Paper_Benchmark/PXD015087_Thermo\\Hela_P035215_BA1_S00_A00_R12.raw for step score_hdf succeeded. 42.00 %\n",
      "2023-07-03 18:33:30> Processing of F:/AP_Paper_Benchmark/PXD015087_Thermo\\Hela_P035215_BA1_S00_A00_R13.raw for step score_hdf succeeded. 42.50 %\n",
      "2023-07-03 18:33:30> Processing of F:/AP_Paper_Benchmark/PXD015087_Thermo\\Hela_P035215_BA1_S00_A00_R14.raw for step score_hdf succeeded. 43.00 %\n",
      "2023-07-03 18:33:30> Processing of F:/AP_Paper_Benchmark/PXD015087_Thermo\\Hela_P035215_BA1_S00_A00_R15.raw for step score_hdf succeeded. 43.50 %\n",
      "2023-07-03 18:33:30> Processing of F:/AP_Paper_Benchmark/PXD015087_Thermo\\Hela_P035215_BA1_S00_A00_R16.raw for step score_hdf succeeded. 44.00 %\n",
      "2023-07-03 18:33:30> Processing of F:/AP_Paper_Benchmark/PXD015087_Thermo\\Hela_P035215_BA1_S00_A00_R17.raw for step score_hdf succeeded. 44.50 %\n",
      "2023-07-03 18:33:30> Processing of F:/AP_Paper_Benchmark/PXD015087_Thermo\\Hela_P035215_BA1_S00_A00_R18.raw for step score_hdf succeeded. 45.00 %\n",
      "2023-07-03 18:33:30> Processing of F:/AP_Paper_Benchmark/PXD015087_Thermo\\Hela_P035215_BA1_S00_A00_R19.raw for step score_hdf succeeded. 45.50 %\n",
      "2023-07-03 18:33:30> Processing of F:/AP_Paper_Benchmark/PXD015087_Thermo\\Hela_P035215_BA1_S00_A00_R2.raw for step score_hdf succeeded. 46.00 %\n",
      "2023-07-03 18:33:31> Processing of F:/AP_Paper_Benchmark/PXD015087_Thermo\\Hela_P035215_BA1_S00_A00_R20.raw for step score_hdf succeeded. 46.50 %\n"
     ]
    },
    {
     "name": "stderr",
     "output_type": "stream",
     "text": [
      "\r",
      " 46%|█████████████████████████████████████▏                                          | 0.465/1 [02:10<00:32, 60.16s/it]"
     ]
    },
    {
     "name": "stdout",
     "output_type": "stream",
     "text": [
      "2023-07-03 18:33:35> Processing of F:/AP_Paper_Benchmark/PXD015087_Thermo\\Hela_P035215_BA1_S00_A00_R3.raw for step score_hdf succeeded. 47.00 %\n"
     ]
    },
    {
     "name": "stderr",
     "output_type": "stream",
     "text": [
      "\r",
      " 47%|█████████████████████████████████████▌                                          | 0.47/1 [02:14<00:57, 109.40s/it]"
     ]
    },
    {
     "name": "stdout",
     "output_type": "stream",
     "text": [
      "2023-07-03 18:33:35> Processing of F:/AP_Paper_Benchmark/PXD015087_Thermo\\Hela_P035215_BA1_S00_A00_R4.raw for step score_hdf succeeded. 47.50 %\n",
      "2023-07-03 18:33:47> Processing of F:/AP_Paper_Benchmark/PXD015087_Thermo\\Hela_P035215_BA1_S00_A00_R5.raw for step score_hdf succeeded. 48.00 %\n"
     ]
    },
    {
     "name": "stderr",
     "output_type": "stream",
     "text": [
      "\r",
      " 48%|██████████████████████████████████████▍                                         | 0.48/1 [02:26<02:44, 316.78s/it]"
     ]
    },
    {
     "name": "stdout",
     "output_type": "stream",
     "text": [
      "2023-07-03 18:33:50> Processing of F:/AP_Paper_Benchmark/PXD015087_Thermo\\Hela_P035215_BA1_S00_A00_R6.raw for step score_hdf succeeded. 48.50 %\n"
     ]
    },
    {
     "name": "stderr",
     "output_type": "stream",
     "text": [
      "\r",
      " 48%|██████████████████████████████████████▎                                        | 0.485/1 [02:29<02:56, 342.25s/it]"
     ]
    },
    {
     "name": "stdout",
     "output_type": "stream",
     "text": [
      "2023-07-03 18:33:50> Processing of F:/AP_Paper_Benchmark/PXD015087_Thermo\\Hela_P035215_BA1_S00_A00_R7.raw for step score_hdf succeeded. 49.00 %\n",
      "2023-07-03 18:33:50> Processing of F:/AP_Paper_Benchmark/PXD015087_Thermo\\Hela_P035215_BA1_S00_A00_R8.raw for step score_hdf succeeded. 49.50 %\n",
      "2023-07-03 18:33:50> Processing of F:/AP_Paper_Benchmark/PXD015087_Thermo\\Hela_P035215_BA1_S00_A00_R9.raw for step score_hdf succeeded. 50.00 %\n",
      "2023-07-03 18:33:52> Processing of F:/AP_Paper_Benchmark/PXD015087_Thermo\\Hela_P035216_BA1_S00_A00_R1.raw for step score_hdf succeeded. 50.50 %\n"
     ]
    },
    {
     "name": "stderr",
     "output_type": "stream",
     "text": [
      "\r",
      " 50%|███████████████████████████████████████▉                                       | 0.505/1 [02:31<02:05, 253.68s/it]"
     ]
    },
    {
     "name": "stdout",
     "output_type": "stream",
     "text": [
      "2023-07-03 18:33:52> Processing of F:/AP_Paper_Benchmark/PXD015087_Thermo\\Hela_P035216_BA1_S00_A00_R10.raw for step score_hdf succeeded. 51.00 %\n"
     ]
    },
    {
     "name": "stderr",
     "output_type": "stream",
     "text": [
      "\r",
      " 51%|████████████████████████████████████████▊                                       | 0.51/1 [02:32<01:53, 232.37s/it]"
     ]
    },
    {
     "name": "stdout",
     "output_type": "stream",
     "text": [
      "2023-07-03 18:33:52> Processing of F:/AP_Paper_Benchmark/PXD015087_Thermo\\Hela_P035216_BA1_S00_A00_R11.raw for step score_hdf succeeded. 51.50 %\n",
      "2023-07-03 18:33:52> Processing of F:/AP_Paper_Benchmark/PXD015087_Thermo\\Hela_P035216_BA1_S00_A00_R12.raw for step score_hdf succeeded. 52.00 %\n",
      "2023-07-03 18:33:53> Processing of F:/AP_Paper_Benchmark/PXD015087_Thermo\\Hela_P035216_BA1_S00_A00_R13.raw for step score_hdf succeeded. 52.50 %\n"
     ]
    },
    {
     "name": "stderr",
     "output_type": "stream",
     "text": [
      "\r",
      " 52%|█████████████████████████████████████████▍                                     | 0.525/1 [02:33<01:21, 171.91s/it]"
     ]
    },
    {
     "name": "stdout",
     "output_type": "stream",
     "text": [
      "2023-07-03 18:33:53> Processing of F:/AP_Paper_Benchmark/PXD015087_Thermo\\Hela_P035216_BA1_S00_A00_R14.raw for step score_hdf succeeded. 53.00 %\n",
      "2023-07-03 18:33:53> Processing of F:/AP_Paper_Benchmark/PXD015087_Thermo\\Hela_P035216_BA1_S00_A00_R15.raw for step score_hdf succeeded. 53.50 %\n",
      "2023-07-03 18:33:53> Processing of F:/AP_Paper_Benchmark/PXD015087_Thermo\\Hela_P035216_BA1_S00_A00_R16.raw for step score_hdf succeeded. 54.00 %\n",
      "2023-07-03 18:33:54> Processing of F:/AP_Paper_Benchmark/PXD015087_Thermo\\Hela_P035216_BA1_S00_A00_R17.raw for step score_hdf succeeded. 54.50 %\n"
     ]
    },
    {
     "name": "stderr",
     "output_type": "stream",
     "text": [
      "\r",
      " 55%|███████████████████████████████████████████                                    | 0.545/1 [02:33<00:49, 108.42s/it]"
     ]
    },
    {
     "name": "stdout",
     "output_type": "stream",
     "text": [
      "2023-07-03 18:33:54> Processing of F:/AP_Paper_Benchmark/PXD015087_Thermo\\Hela_P035216_BA1_S00_A00_R18.raw for step score_hdf succeeded. 55.00 %\n"
     ]
    },
    {
     "name": "stderr",
     "output_type": "stream",
     "text": [
      "\r",
      " 55%|████████████████████████████████████████████                                    | 0.55/1 [02:34<00:50, 111.20s/it]"
     ]
    },
    {
     "name": "stdout",
     "output_type": "stream",
     "text": [
      "2023-07-03 18:33:54> Processing of F:/AP_Paper_Benchmark/PXD015087_Thermo\\Hela_P035216_BA1_S00_A00_R19.raw for step score_hdf succeeded. 55.50 %\n"
     ]
    },
    {
     "name": "stderr",
     "output_type": "stream",
     "text": [
      "\r",
      " 56%|███████████████████████████████████████████▊                                   | 0.555/1 [02:34<00:44, 100.48s/it]"
     ]
    },
    {
     "name": "stdout",
     "output_type": "stream",
     "text": [
      "2023-07-03 18:33:56> Processing of F:/AP_Paper_Benchmark/PXD015087_Thermo\\Hela_P035216_BA1_S00_A00_R2.raw for step score_hdf succeeded. 56.00 %\n"
     ]
    },
    {
     "name": "stderr",
     "output_type": "stream",
     "text": [
      "\r",
      " 56%|████████████████████████████████████████████▊                                   | 0.56/1 [02:36<01:06, 151.15s/it]"
     ]
    },
    {
     "name": "stdout",
     "output_type": "stream",
     "text": [
      "2023-07-03 18:33:56> Processing of F:/AP_Paper_Benchmark/PXD015087_Thermo\\Hela_P035216_BA1_S00_A00_R20.raw for step score_hdf succeeded. 56.50 %\n",
      "2023-07-03 18:33:56> Processing of F:/AP_Paper_Benchmark/PXD015087_Thermo\\Hela_P035216_BA1_S00_A00_R3.raw for step score_hdf succeeded. 57.00 %\n",
      "2023-07-03 18:33:56> Processing of F:/AP_Paper_Benchmark/PXD015087_Thermo\\Hela_P035216_BA1_S00_A00_R4.raw for step score_hdf succeeded. 57.50 %\n",
      "2023-07-03 18:33:57> Processing of F:/AP_Paper_Benchmark/PXD015087_Thermo\\Hela_P035216_BA1_S00_A00_R5.raw for step score_hdf succeeded. 58.00 %\n"
     ]
    },
    {
     "name": "stderr",
     "output_type": "stream",
     "text": [
      "\r",
      " 58%|██████████████████████████████████████████████▉                                  | 0.58/1 [02:36<00:37, 90.03s/it]"
     ]
    },
    {
     "name": "stdout",
     "output_type": "stream",
     "text": [
      "2023-07-03 18:34:00> Processing of F:/AP_Paper_Benchmark/PXD015087_Thermo\\Hela_P035216_BA1_S00_A00_R6.raw for step score_hdf succeeded. 58.50 %\n"
     ]
    },
    {
     "name": "stderr",
     "output_type": "stream",
     "text": [
      "\r",
      " 58%|██████████████████████████████████████████████▏                                | 0.585/1 [02:39<01:04, 155.36s/it]"
     ]
    },
    {
     "name": "stdout",
     "output_type": "stream",
     "text": [
      "2023-07-03 18:34:00> Processing of F:/AP_Paper_Benchmark/PXD015087_Thermo\\Hela_P035216_BA1_S00_A00_R7.raw for step score_hdf succeeded. 59.00 %\n"
     ]
    },
    {
     "name": "stderr",
     "output_type": "stream",
     "text": [
      "\r",
      " 59%|███████████████████████████████████████████████▏                                | 0.59/1 [02:40<01:05, 160.68s/it]"
     ]
    },
    {
     "name": "stdout",
     "output_type": "stream",
     "text": [
      "2023-07-03 18:34:04> Processing of F:/AP_Paper_Benchmark/PXD015087_Thermo\\Hela_P035216_BA1_S00_A00_R8.raw for step score_hdf succeeded. 59.50 %\n"
     ]
    },
    {
     "name": "stderr",
     "output_type": "stream",
     "text": [
      "\r",
      " 60%|███████████████████████████████████████████████                                | 0.595/1 [02:43<01:47, 264.83s/it]"
     ]
    },
    {
     "name": "stdout",
     "output_type": "stream",
     "text": [
      "2023-07-03 18:34:14> Processing of F:/AP_Paper_Benchmark/PXD015087_Thermo\\Hela_P035216_BA1_S00_A00_R9.raw for step score_hdf succeeded. 60.00 %\n"
     ]
    },
    {
     "name": "stderr",
     "output_type": "stream",
     "text": [
      "\r",
      " 60%|████████████████████████████████████████████████▌                                | 0.6/1 [02:53<04:18, 647.47s/it]"
     ]
    },
    {
     "name": "stdout",
     "output_type": "stream",
     "text": [
      "2023-07-03 18:34:14> Processing of F:/AP_Paper_Benchmark/PXD015087_Thermo\\Hela_P035217_BA1_S00_A00_R1.raw for step score_hdf succeeded. 60.50 %\n"
     ]
    },
    {
     "name": "stderr",
     "output_type": "stream",
     "text": [
      "\r",
      " 60%|███████████████████████████████████████████████▊                               | 0.605/1 [02:53<03:18, 503.58s/it]"
     ]
    },
    {
     "name": "stdout",
     "output_type": "stream",
     "text": [
      "2023-07-03 18:34:14> Processing of F:/AP_Paper_Benchmark/PXD015087_Thermo\\Hela_P035217_BA1_S00_A00_R10.raw for step score_hdf succeeded. 61.00 %\n",
      "2023-07-03 18:34:15> Processing of F:/AP_Paper_Benchmark/PXD015087_Thermo\\Hela_P035217_BA1_S00_A00_R11.raw for step score_hdf succeeded. 61.50 %\n"
     ]
    },
    {
     "name": "stderr",
     "output_type": "stream",
     "text": [
      "\r",
      " 62%|████████████████████████████████████████████████▌                              | 0.615/1 [02:54<02:08, 332.49s/it]"
     ]
    },
    {
     "name": "stdout",
     "output_type": "stream",
     "text": [
      "2023-07-03 18:34:15> Processing of F:/AP_Paper_Benchmark/PXD015087_Thermo\\Hela_P035217_BA1_S00_A00_R12.raw for step score_hdf succeeded. 62.00 %\n"
     ]
    },
    {
     "name": "stderr",
     "output_type": "stream",
     "text": [
      "\r",
      " 62%|█████████████████████████████████████████████████▌                              | 0.62/1 [02:54<01:43, 271.29s/it]"
     ]
    },
    {
     "name": "stdout",
     "output_type": "stream",
     "text": [
      "2023-07-03 18:34:15> Processing of F:/AP_Paper_Benchmark/PXD015087_Thermo\\Hela_P035217_BA1_S00_A00_R13.raw for step score_hdf succeeded. 62.50 %\n"
     ]
    },
    {
     "name": "stderr",
     "output_type": "stream",
     "text": [
      "\r",
      " 62%|█████████████████████████████████████████████████▍                             | 0.625/1 [02:55<01:21, 218.23s/it]"
     ]
    },
    {
     "name": "stdout",
     "output_type": "stream",
     "text": [
      "2023-07-03 18:34:16> Processing of F:/AP_Paper_Benchmark/PXD015087_Thermo\\Hela_P035217_BA1_S00_A00_R14.raw for step score_hdf succeeded. 63.00 %\n"
     ]
    },
    {
     "name": "stderr",
     "output_type": "stream",
     "text": [
      "\r",
      " 63%|██████████████████████████████████████████████████▍                             | 0.63/1 [02:55<01:11, 193.49s/it]"
     ]
    },
    {
     "name": "stdout",
     "output_type": "stream",
     "text": [
      "2023-07-03 18:34:17> Processing of F:/AP_Paper_Benchmark/PXD015087_Thermo\\Hela_P035217_BA1_S00_A00_R15.raw for step score_hdf succeeded. 63.50 %\n"
     ]
    },
    {
     "name": "stderr",
     "output_type": "stream",
     "text": [
      "\r",
      " 64%|██████████████████████████████████████████████████▏                            | 0.635/1 [02:56<01:07, 183.63s/it]"
     ]
    },
    {
     "name": "stdout",
     "output_type": "stream",
     "text": [
      "2023-07-03 18:34:17> Processing of F:/AP_Paper_Benchmark/PXD015087_Thermo\\Hela_P035217_BA1_S00_A00_R16.raw for step score_hdf succeeded. 64.00 %\n"
     ]
    },
    {
     "name": "stderr",
     "output_type": "stream",
     "text": [
      "\r",
      " 64%|███████████████████████████████████████████████████▏                            | 0.64/1 [02:56<00:51, 142.60s/it]"
     ]
    },
    {
     "name": "stdout",
     "output_type": "stream",
     "text": [
      "2023-07-03 18:34:18> Processing of F:/AP_Paper_Benchmark/PXD015087_Thermo\\Hela_P035217_BA1_S00_A00_R17.raw for step score_hdf succeeded. 64.50 %\n"
     ]
    },
    {
     "name": "stderr",
     "output_type": "stream",
     "text": [
      "\r",
      " 64%|██████████████████████████████████████████████████▉                            | 0.645/1 [02:58<01:05, 183.30s/it]"
     ]
    },
    {
     "name": "stdout",
     "output_type": "stream",
     "text": [
      "2023-07-03 18:34:18> Processing of F:/AP_Paper_Benchmark/PXD015087_Thermo\\Hela_P035217_BA1_S00_A00_R18.raw for step score_hdf succeeded. 65.00 %\n",
      "2023-07-03 18:34:18> Processing of F:/AP_Paper_Benchmark/PXD015087_Thermo\\Hela_P035217_BA1_S00_A00_R19.raw for step score_hdf succeeded. 65.50 %\n",
      "2023-07-03 18:34:18> Processing of F:/AP_Paper_Benchmark/PXD015087_Thermo\\Hela_P035217_BA1_S00_A00_R2.raw for step score_hdf succeeded. 66.00 %\n",
      "2023-07-03 18:34:18> Processing of F:/AP_Paper_Benchmark/PXD015087_Thermo\\Hela_P035217_BA1_S00_A00_R20.raw for step score_hdf succeeded. 66.50 %\n",
      "2023-07-03 18:34:18> Processing of F:/AP_Paper_Benchmark/PXD015087_Thermo\\Hela_P035217_BA1_S00_A00_R21.raw for step score_hdf succeeded. 67.00 %\n",
      "2023-07-03 18:34:19> Processing of F:/AP_Paper_Benchmark/PXD015087_Thermo\\Hela_P035217_BA1_S00_A00_R3.raw for step score_hdf succeeded. 67.50 %\n"
     ]
    },
    {
     "name": "stderr",
     "output_type": "stream",
     "text": [
      "\r",
      " 68%|██████████████████████████████████████████████████████                          | 0.675/1 [02:58<00:21, 65.67s/it]"
     ]
    },
    {
     "name": "stdout",
     "output_type": "stream",
     "text": [
      "2023-07-03 18:34:21> Processing of F:/AP_Paper_Benchmark/PXD015087_Thermo\\Hela_P035217_BA1_S00_A00_R5.raw for step score_hdf succeeded. 68.00 %\n"
     ]
    },
    {
     "name": "stderr",
     "output_type": "stream",
     "text": [
      "\r",
      " 68%|██████████████████████████████████████████████████████▍                         | 0.68/1 [03:00<00:37, 116.04s/it]"
     ]
    },
    {
     "name": "stdout",
     "output_type": "stream",
     "text": [
      "2023-07-03 18:34:22> Processing of F:/AP_Paper_Benchmark/PXD015087_Thermo\\Hela_P035217_BA1_S00_A00_R6.raw for step score_hdf succeeded. 68.50 %\n"
     ]
    },
    {
     "name": "stderr",
     "output_type": "stream",
     "text": [
      "\r",
      " 68%|██████████████████████████████████████████████████████                         | 0.685/1 [03:01<00:38, 122.00s/it]"
     ]
    },
    {
     "name": "stdout",
     "output_type": "stream",
     "text": [
      "2023-07-03 18:34:22> Processing of F:/AP_Paper_Benchmark/PXD015087_Thermo\\Hela_P035217_BA1_S00_A00_R7.raw for step score_hdf succeeded. 69.00 %\n",
      "2023-07-03 18:34:22> Processing of F:/AP_Paper_Benchmark/PXD015087_Thermo\\Hela_P035217_BA1_S00_A00_R8.raw for step score_hdf succeeded. 69.50 %\n",
      "2023-07-03 18:34:23> Processing of F:/AP_Paper_Benchmark/PXD015087_Thermo\\Hela_P035217_BA1_S00_A00_R9.raw for step score_hdf succeeded. 70.00 %\n"
     ]
    },
    {
     "name": "stderr",
     "output_type": "stream",
     "text": [
      "\r",
      " 70%|█████████████████████████████████████████████████████████▍                        | 0.7/1 [03:02<00:29, 99.05s/it]"
     ]
    },
    {
     "name": "stdout",
     "output_type": "stream",
     "text": [
      "2023-07-03 18:34:25> Processing of F:/AP_Paper_Benchmark/PXD015087_Thermo\\Hela_P035218_BA1_S00_A00_R1.raw for step score_hdf succeeded. 70.50 %\n"
     ]
    },
    {
     "name": "stderr",
     "output_type": "stream",
     "text": [
      "\r",
      " 70%|███████████████████████████████████████████████████████▋                       | 0.705/1 [03:04<00:44, 150.58s/it]"
     ]
    },
    {
     "name": "stdout",
     "output_type": "stream",
     "text": [
      "2023-07-03 18:34:25> Processing of F:/AP_Paper_Benchmark/PXD015087_Thermo\\Hela_P035218_BA1_S00_A00_R10.raw for step score_hdf succeeded. 71.00 %\n"
     ]
    },
    {
     "name": "stderr",
     "output_type": "stream",
     "text": [
      "\r",
      " 71%|████████████████████████████████████████████████████████▊                       | 0.71/1 [03:05<00:43, 148.71s/it]"
     ]
    },
    {
     "name": "stdout",
     "output_type": "stream",
     "text": [
      "2023-07-03 18:34:29> Processing of F:/AP_Paper_Benchmark/PXD015087_Thermo\\Hela_P035218_BA1_S00_A00_R11.raw for step score_hdf succeeded. 71.50 %\n"
     ]
    },
    {
     "name": "stderr",
     "output_type": "stream",
     "text": [
      "\r",
      " 72%|████████████████████████████████████████████████████████▍                      | 0.715/1 [03:09<01:20, 281.47s/it]"
     ]
    },
    {
     "name": "stdout",
     "output_type": "stream",
     "text": [
      "2023-07-03 18:34:39> Processing of F:/AP_Paper_Benchmark/PXD015087_Thermo\\Hela_P035218_BA1_S00_A00_R12.raw for step score_hdf succeeded. 72.00 %\n"
     ]
    },
    {
     "name": "stderr",
     "output_type": "stream",
     "text": [
      "\r",
      " 72%|█████████████████████████████████████████████████████████▌                      | 0.72/1 [03:18<03:05, 661.12s/it]"
     ]
    },
    {
     "name": "stdout",
     "output_type": "stream",
     "text": [
      "2023-07-03 18:34:39> Processing of F:/AP_Paper_Benchmark/PXD015087_Thermo\\Hela_P035218_BA1_S00_A00_R13.raw for step score_hdf succeeded. 72.50 %\n",
      "2023-07-03 18:34:40> Processing of F:/AP_Paper_Benchmark/PXD015087_Thermo\\Hela_P035218_BA1_S00_A00_R14.raw for step score_hdf succeeded. 73.00 %\n"
     ]
    },
    {
     "name": "stderr",
     "output_type": "stream",
     "text": [
      "\r",
      " 73%|██████████████████████████████████████████████████████████▍                     | 0.73/1 [03:19<01:55, 427.22s/it]"
     ]
    },
    {
     "name": "stdout",
     "output_type": "stream",
     "text": [
      "2023-07-03 18:34:40> Processing of F:/AP_Paper_Benchmark/PXD015087_Thermo\\Hela_P035218_BA1_S00_A00_R15.raw for step score_hdf succeeded. 73.50 %\n",
      "2023-07-03 18:34:40> Processing of F:/AP_Paper_Benchmark/PXD015087_Thermo\\Hela_P035218_BA1_S00_A00_R16.raw for step score_hdf succeeded. 74.00 %\n"
     ]
    },
    {
     "name": "stderr",
     "output_type": "stream",
     "text": [
      "\r",
      " 74%|███████████████████████████████████████████████████████████▏                    | 0.74/1 [03:19<01:15, 292.12s/it]"
     ]
    },
    {
     "name": "stdout",
     "output_type": "stream",
     "text": [
      "2023-07-03 18:34:40> Processing of F:/AP_Paper_Benchmark/PXD015087_Thermo\\Hela_P035218_BA1_S00_A00_R17.raw for step score_hdf succeeded. 74.50 %\n",
      "2023-07-03 18:34:41> Processing of F:/AP_Paper_Benchmark/PXD015087_Thermo\\Hela_P035218_BA1_S00_A00_R18.raw for step score_hdf succeeded. 75.00 %\n"
     ]
    },
    {
     "name": "stderr",
     "output_type": "stream",
     "text": [
      "\r",
      " 75%|████████████████████████████████████████████████████████████                    | 0.75/1 [03:20<00:54, 217.13s/it]"
     ]
    },
    {
     "name": "stdout",
     "output_type": "stream",
     "text": [
      "2023-07-03 18:34:42> Processing of F:/AP_Paper_Benchmark/PXD015087_Thermo\\Hela_P035218_BA1_S00_A00_R19.raw for step score_hdf succeeded. 75.50 %\n"
     ]
    },
    {
     "name": "stderr",
     "output_type": "stream",
     "text": [
      "\r",
      " 76%|███████████████████████████████████████████████████████████▋                   | 0.755/1 [03:21<00:55, 224.68s/it]"
     ]
    },
    {
     "name": "stdout",
     "output_type": "stream",
     "text": [
      "2023-07-03 18:34:42> Processing of F:/AP_Paper_Benchmark/PXD015087_Thermo\\Hela_P035218_BA1_S00_A00_R2.raw for step score_hdf succeeded. 76.00 %\n"
     ]
    },
    {
     "name": "stderr",
     "output_type": "stream",
     "text": [
      "\r",
      " 76%|████████████████████████████████████████████████████████████▊                   | 0.76/1 [03:22<00:43, 180.60s/it]"
     ]
    },
    {
     "name": "stdout",
     "output_type": "stream",
     "text": [
      "2023-07-03 18:34:42> Processing of F:/AP_Paper_Benchmark/PXD015087_Thermo\\Hela_P035218_BA1_S00_A00_R20.raw for step score_hdf succeeded. 76.50 %\n",
      "2023-07-03 18:34:42> Processing of F:/AP_Paper_Benchmark/PXD015087_Thermo\\Hela_P035218_BA1_S00_A00_R3.raw for step score_hdf succeeded. 77.00 %\n",
      "2023-07-03 18:34:43> Processing of F:/AP_Paper_Benchmark/PXD015087_Thermo\\Hela_P035218_BA1_S00_A00_R4.raw for step score_hdf succeeded. 77.50 %\n"
     ]
    },
    {
     "name": "stderr",
     "output_type": "stream",
     "text": [
      "\r",
      " 78%|█████████████████████████████████████████████████████████████▏                 | 0.775/1 [03:22<00:23, 106.48s/it]"
     ]
    },
    {
     "name": "stdout",
     "output_type": "stream",
     "text": [
      "2023-07-03 18:34:43> Processing of F:/AP_Paper_Benchmark/PXD015087_Thermo\\Hela_P035218_BA1_S00_A00_R5.raw for step score_hdf succeeded. 78.00 %\n",
      "2023-07-03 18:34:43> Processing of F:/AP_Paper_Benchmark/PXD015087_Thermo\\Hela_P035218_BA1_S00_A00_R6.raw for step score_hdf succeeded. 78.50 %\n"
     ]
    },
    {
     "name": "stderr",
     "output_type": "stream",
     "text": [
      "\r",
      " 78%|██████████████████████████████████████████████████████████████▊                 | 0.785/1 [03:22<00:16, 76.92s/it]"
     ]
    },
    {
     "name": "stdout",
     "output_type": "stream",
     "text": [
      "2023-07-03 18:34:43> Processing of F:/AP_Paper_Benchmark/PXD015087_Thermo\\Hela_P035218_BA1_S00_A00_R7.raw for step score_hdf succeeded. 79.00 %\n",
      "2023-07-03 18:34:44> Processing of F:/AP_Paper_Benchmark/PXD015087_Thermo\\Hela_P035218_BA1_S00_A00_R8.raw for step score_hdf succeeded. 79.50 %\n"
     ]
    },
    {
     "name": "stderr",
     "output_type": "stream",
     "text": [
      "\r",
      " 80%|███████████████████████████████████████████████████████████████▌                | 0.795/1 [03:23<00:17, 86.22s/it]"
     ]
    },
    {
     "name": "stdout",
     "output_type": "stream",
     "text": [
      "2023-07-03 18:34:46> Processing of F:/AP_Paper_Benchmark/PXD015087_Thermo\\Hela_P035218_BA1_S00_A00_R9.raw for step score_hdf succeeded. 80.00 %\n"
     ]
    },
    {
     "name": "stderr",
     "output_type": "stream",
     "text": [
      "\r",
      " 80%|████████████████████████████████████████████████████████████████▊                | 0.8/1 [03:25<00:28, 140.68s/it]"
     ]
    },
    {
     "name": "stdout",
     "output_type": "stream",
     "text": [
      "2023-07-03 18:34:46> Processing of F:/AP_Paper_Benchmark/PXD015087_Thermo\\Hela_P035219_BA1_S00_A00_R1.raw for step score_hdf succeeded. 80.50 %\n",
      "2023-07-03 18:34:46> Processing of F:/AP_Paper_Benchmark/PXD015087_Thermo\\Hela_P035219_BA1_S00_A00_R10.raw for step score_hdf succeeded. 81.00 %\n",
      "2023-07-03 18:34:46> Processing of F:/AP_Paper_Benchmark/PXD015087_Thermo\\Hela_P035219_BA1_S00_A00_R11.raw for step score_hdf succeeded. 81.50 %\n",
      "2023-07-03 18:34:46> Processing of F:/AP_Paper_Benchmark/PXD015087_Thermo\\Hela_P035219_BA1_S00_A00_R12.raw for step score_hdf succeeded. 82.00 %\n",
      "2023-07-03 18:34:46> Processing of F:/AP_Paper_Benchmark/PXD015087_Thermo\\Hela_P035219_BA1_S00_A00_R13.raw for step score_hdf succeeded. 82.50 %\n",
      "2023-07-03 18:34:46> Processing of F:/AP_Paper_Benchmark/PXD015087_Thermo\\Hela_P035219_BA1_S00_A00_R14.raw for step score_hdf succeeded. 83.00 %\n",
      "2023-07-03 18:34:51> Processing of F:/AP_Paper_Benchmark/PXD015087_Thermo\\Hela_P035219_BA1_S00_A00_R15.raw for step score_hdf succeeded. 83.50 %\n"
     ]
    },
    {
     "name": "stderr",
     "output_type": "stream",
     "text": [
      "\r",
      " 84%|█████████████████████████████████████████████████████████████████▉             | 0.835/1 [03:31<00:24, 151.20s/it]"
     ]
    },
    {
     "name": "stdout",
     "output_type": "stream",
     "text": [
      "2023-07-03 18:34:51> Processing of F:/AP_Paper_Benchmark/PXD015087_Thermo\\Hela_P035219_BA1_S00_A00_R16.raw for step score_hdf succeeded. 84.00 %\n",
      "2023-07-03 18:34:51> Processing of F:/AP_Paper_Benchmark/PXD015087_Thermo\\Hela_P035219_BA1_S00_A00_R17.raw for step score_hdf succeeded. 84.50 %\n",
      "2023-07-03 18:34:51> Processing of F:/AP_Paper_Benchmark/PXD015087_Thermo\\Hela_P035219_BA1_S00_A00_R18.raw for step score_hdf succeeded. 85.00 %\n",
      "2023-07-03 18:34:57> Processing of F:/AP_Paper_Benchmark/PXD015087_Thermo\\Hela_P035219_BA1_S00_A00_R19.raw for step score_hdf succeeded. 85.50 %\n"
     ]
    },
    {
     "name": "stderr",
     "output_type": "stream",
     "text": [
      "\r",
      " 86%|███████████████████████████████████████████████████████████████████▌           | 0.855/1 [03:37<00:29, 205.31s/it]"
     ]
    },
    {
     "name": "stdout",
     "output_type": "stream",
     "text": [
      "2023-07-03 18:34:57> Processing of F:/AP_Paper_Benchmark/PXD015087_Thermo\\Hela_P035219_BA1_S00_A00_R2.raw for step score_hdf succeeded. 86.00 %\n",
      "2023-07-03 18:34:57> Processing of F:/AP_Paper_Benchmark/PXD015087_Thermo\\Hela_P035219_BA1_S00_A00_R20.raw for step score_hdf succeeded. 86.50 %\n",
      "2023-07-03 18:34:59> Processing of F:/AP_Paper_Benchmark/PXD015087_Thermo\\Hela_P035219_BA1_S00_A00_R3.raw for step score_hdf succeeded. 87.00 %\n"
     ]
    },
    {
     "name": "stderr",
     "output_type": "stream",
     "text": [
      "\r",
      " 87%|█████████████████████████████████████████████████████████████████████▌          | 0.87/1 [03:38<00:22, 176.16s/it]"
     ]
    },
    {
     "name": "stdout",
     "output_type": "stream",
     "text": [
      "2023-07-03 18:34:59> Processing of F:/AP_Paper_Benchmark/PXD015087_Thermo\\Hela_P035219_BA1_S00_A00_R4.raw for step score_hdf succeeded. 87.50 %\n"
     ]
    },
    {
     "name": "stderr",
     "output_type": "stream",
     "text": [
      "\r",
      " 88%|█████████████████████████████████████████████████████████████████████▏         | 0.875/1 [03:38<00:19, 159.56s/it]"
     ]
    },
    {
     "name": "stdout",
     "output_type": "stream",
     "text": [
      "2023-07-03 18:34:59> Processing of F:/AP_Paper_Benchmark/PXD015087_Thermo\\Hela_P035219_BA1_S00_A00_R5.raw for step score_hdf succeeded. 88.00 %\n",
      "2023-07-03 18:34:59> Processing of F:/AP_Paper_Benchmark/PXD015087_Thermo\\Hela_P035219_BA1_S00_A00_R6.raw for step score_hdf succeeded. 88.50 %\n",
      "2023-07-03 18:34:59> Processing of F:/AP_Paper_Benchmark/PXD015087_Thermo\\Hela_P035219_BA1_S00_A00_R7.raw for step score_hdf succeeded. 89.00 %\n",
      "2023-07-03 18:34:59> Processing of F:/AP_Paper_Benchmark/PXD015087_Thermo\\Hela_P035219_BA1_S00_A00_R8.raw for step score_hdf succeeded. 89.50 %\n",
      "2023-07-03 18:35:00> Processing of F:/AP_Paper_Benchmark/PXD015087_Thermo\\Hela_P035219_BA1_S00_A00_R9.raw for step score_hdf succeeded. 90.00 %\n"
     ]
    },
    {
     "name": "stderr",
     "output_type": "stream",
     "text": [
      "\r",
      " 90%|████████████████████████████████████████████████████████████████████████▉        | 0.9/1 [03:39<00:10, 101.36s/it]"
     ]
    },
    {
     "name": "stdout",
     "output_type": "stream",
     "text": [
      "2023-07-03 18:35:00> Processing of F:/AP_Paper_Benchmark/PXD015087_Thermo\\March_Hela_P035212_BA1_S00_A00_R1.raw for step score_hdf succeeded. 90.50 %\n",
      "2023-07-03 18:35:00> Processing of F:/AP_Paper_Benchmark/PXD015087_Thermo\\March_Hela_P035212_BA1_S00_A00_R10.raw for step score_hdf succeeded. 91.00 %\n",
      "2023-07-03 18:35:00> Processing of F:/AP_Paper_Benchmark/PXD015087_Thermo\\March_Hela_P035212_BA1_S00_A00_R11.raw for step score_hdf succeeded. 91.50 %\n",
      "2023-07-03 18:35:00> Processing of F:/AP_Paper_Benchmark/PXD015087_Thermo\\March_Hela_P035212_BA1_S00_A00_R12.raw for step score_hdf succeeded. 92.00 %\n",
      "2023-07-03 18:35:00> Processing of F:/AP_Paper_Benchmark/PXD015087_Thermo\\March_Hela_P035212_BA1_S00_A00_R13.raw for step score_hdf succeeded. 92.50 %\n",
      "2023-07-03 18:35:00> Processing of F:/AP_Paper_Benchmark/PXD015087_Thermo\\March_Hela_P035212_BA1_S00_A00_R14.raw for step score_hdf succeeded. 93.00 %\n",
      "2023-07-03 18:35:00> Processing of F:/AP_Paper_Benchmark/PXD015087_Thermo\\March_Hela_P035212_BA1_S00_A00_R15.raw for step score_hdf succeeded. 93.50 %\n",
      "2023-07-03 18:35:00> Processing of F:/AP_Paper_Benchmark/PXD015087_Thermo\\March_Hela_P035212_BA1_S00_A00_R16.raw for step score_hdf succeeded. 94.00 %\n",
      "2023-07-03 18:35:00> Processing of F:/AP_Paper_Benchmark/PXD015087_Thermo\\March_Hela_P035212_BA1_S00_A00_R17.raw for step score_hdf succeeded. 94.50 %\n",
      "2023-07-03 18:35:00> Processing of F:/AP_Paper_Benchmark/PXD015087_Thermo\\March_Hela_P035212_BA1_S00_A00_R18.raw for step score_hdf succeeded. 95.00 %\n",
      "2023-07-03 18:35:00> Processing of F:/AP_Paper_Benchmark/PXD015087_Thermo\\March_Hela_P035212_BA1_S00_A00_R19.raw for step score_hdf succeeded. 95.50 %\n",
      "2023-07-03 18:35:00> Processing of F:/AP_Paper_Benchmark/PXD015087_Thermo\\March_Hela_P035212_BA1_S00_A00_R2.raw for step score_hdf succeeded. 96.00 %\n",
      "2023-07-03 18:35:00> Processing of F:/AP_Paper_Benchmark/PXD015087_Thermo\\March_Hela_P035212_BA1_S00_A00_R20.raw for step score_hdf succeeded. 96.50 %\n",
      "2023-07-03 18:35:00> Processing of F:/AP_Paper_Benchmark/PXD015087_Thermo\\March_Hela_P035212_BA1_S00_A00_R3.raw for step score_hdf succeeded. 97.00 %\n",
      "2023-07-03 18:35:00> Processing of F:/AP_Paper_Benchmark/PXD015087_Thermo\\March_Hela_P035212_BA1_S00_A00_R4.raw for step score_hdf succeeded. 97.50 %\n",
      "2023-07-03 18:35:00> Processing of F:/AP_Paper_Benchmark/PXD015087_Thermo\\March_Hela_P035212_BA1_S00_A00_R5.raw for step score_hdf succeeded. 98.00 %\n",
      "2023-07-03 18:35:00> Processing of F:/AP_Paper_Benchmark/PXD015087_Thermo\\March_Hela_P035212_BA1_S00_A00_R6.raw for step score_hdf succeeded. 98.50 %\n",
      "2023-07-03 18:35:00> Processing of F:/AP_Paper_Benchmark/PXD015087_Thermo\\March_Hela_P035212_BA1_S00_A00_R7.raw for step score_hdf succeeded. 99.00 %\n",
      "2023-07-03 18:35:00> Processing of F:/AP_Paper_Benchmark/PXD015087_Thermo\\March_Hela_P035212_BA1_S00_A00_R8.raw for step score_hdf succeeded. 99.50 %\n",
      "2023-07-03 18:35:00> Processing of F:/AP_Paper_Benchmark/PXD015087_Thermo\\March_Hela_P035212_BA1_S00_A00_R9.raw for step score_hdf succeeded. 100.00 %\n"
     ]
    },
    {
     "name": "stderr",
     "output_type": "stream",
     "text": [
      "\r",
      "100%|█████████████████████████████████████████████████████████████████████████████████| 1.0/1 [03:39<00:00, 219.82s/it]"
     ]
    },
    {
     "name": "stdout",
     "output_type": "stream",
     "text": [
      "2023-07-03 18:35:00> ==== align ====\n"
     ]
    },
    {
     "name": "stderr",
     "output_type": "stream",
     "text": [
      "\n"
     ]
    },
    {
     "name": "stdout",
     "output_type": "stream",
     "text": [
      "2023-07-03 18:35:00> cache info: iteration 0 items 1 size 2029.0 kB\n",
      "2023-07-03 18:35:00> cache info: iteration 0 items 2 size 4103.5 kB\n",
      "2023-07-03 18:35:17> cache info: iteration 100 items 102 size 209973.5 kB\n",
      "2023-07-03 18:42:35> Total deviation before calibration {'mz': 0.03058561323630251, 'rt': 1320.630251928788}\n",
      "2023-07-03 18:42:35> Mean deviation before calibration {'mz': 1.5369654892614326e-06, 'rt': 0.06636332924265267}\n",
      "2023-07-03 18:42:35> Solving equation system with 60 jobs.\n",
      "2023-07-03 18:42:36> Regression score is 0.9972742007583693\n",
      "2023-07-03 18:42:36> Solving equation system complete.\n",
      "2023-07-03 18:42:36> Applying offset\n",
      "2023-07-03 18:42:36> Saving F:/AP_Paper_Benchmark/PXD015087_Thermo\\Hela_P035210_BA1_S00_A00_R1.ms_data.hdf - peptide_fdr.\n",
      "2023-07-03 18:42:37> Saving F:/AP_Paper_Benchmark/PXD015087_Thermo\\Hela_P035210_BA1_S00_A00_R1.ms_data.hdf - feature_table.\n",
      "2023-07-03 18:42:37> Saving F:/AP_Paper_Benchmark/PXD015087_Thermo\\Hela_P035210_BA1_S00_A00_R10.ms_data.hdf - peptide_fdr.\n",
      "2023-07-03 18:42:38> Saving F:/AP_Paper_Benchmark/PXD015087_Thermo\\Hela_P035210_BA1_S00_A00_R10.ms_data.hdf - feature_table.\n",
      "2023-07-03 18:42:38> Saving F:/AP_Paper_Benchmark/PXD015087_Thermo\\Hela_P035210_BA1_S00_A00_R11.ms_data.hdf - peptide_fdr.\n",
      "2023-07-03 18:42:38> Saving F:/AP_Paper_Benchmark/PXD015087_Thermo\\Hela_P035210_BA1_S00_A00_R11.ms_data.hdf - feature_table.\n",
      "2023-07-03 18:42:39> Saving F:/AP_Paper_Benchmark/PXD015087_Thermo\\Hela_P035210_BA1_S00_A00_R12.ms_data.hdf - peptide_fdr.\n",
      "2023-07-03 18:42:39> Saving F:/AP_Paper_Benchmark/PXD015087_Thermo\\Hela_P035210_BA1_S00_A00_R12.ms_data.hdf - feature_table.\n",
      "2023-07-03 18:42:40> Saving F:/AP_Paper_Benchmark/PXD015087_Thermo\\Hela_P035210_BA1_S00_A00_R13.ms_data.hdf - peptide_fdr.\n",
      "2023-07-03 18:42:40> Saving F:/AP_Paper_Benchmark/PXD015087_Thermo\\Hela_P035210_BA1_S00_A00_R13.ms_data.hdf - feature_table.\n",
      "2023-07-03 18:42:41> Saving F:/AP_Paper_Benchmark/PXD015087_Thermo\\Hela_P035210_BA1_S00_A00_R14.ms_data.hdf - peptide_fdr.\n",
      "2023-07-03 18:42:41> Saving F:/AP_Paper_Benchmark/PXD015087_Thermo\\Hela_P035210_BA1_S00_A00_R14.ms_data.hdf - feature_table.\n",
      "2023-07-03 18:42:41> Saving F:/AP_Paper_Benchmark/PXD015087_Thermo\\Hela_P035210_BA1_S00_A00_R15.ms_data.hdf - peptide_fdr.\n",
      "2023-07-03 18:42:42> Saving F:/AP_Paper_Benchmark/PXD015087_Thermo\\Hela_P035210_BA1_S00_A00_R15.ms_data.hdf - feature_table.\n",
      "2023-07-03 18:42:42> Saving F:/AP_Paper_Benchmark/PXD015087_Thermo\\Hela_P035210_BA1_S00_A00_R16.ms_data.hdf - peptide_fdr.\n",
      "2023-07-03 18:42:43> Saving F:/AP_Paper_Benchmark/PXD015087_Thermo\\Hela_P035210_BA1_S00_A00_R16.ms_data.hdf - feature_table.\n",
      "2023-07-03 18:42:43> Saving F:/AP_Paper_Benchmark/PXD015087_Thermo\\Hela_P035210_BA1_S00_A00_R17.ms_data.hdf - peptide_fdr.\n",
      "2023-07-03 18:42:44> Saving F:/AP_Paper_Benchmark/PXD015087_Thermo\\Hela_P035210_BA1_S00_A00_R17.ms_data.hdf - feature_table.\n",
      "2023-07-03 18:42:44> Saving F:/AP_Paper_Benchmark/PXD015087_Thermo\\Hela_P035210_BA1_S00_A00_R18.ms_data.hdf - peptide_fdr.\n",
      "2023-07-03 18:42:45> Saving F:/AP_Paper_Benchmark/PXD015087_Thermo\\Hela_P035210_BA1_S00_A00_R18.ms_data.hdf - feature_table.\n",
      "2023-07-03 18:42:45> Saving F:/AP_Paper_Benchmark/PXD015087_Thermo\\Hela_P035210_BA1_S00_A00_R19.ms_data.hdf - peptide_fdr.\n",
      "2023-07-03 18:42:45> Saving F:/AP_Paper_Benchmark/PXD015087_Thermo\\Hela_P035210_BA1_S00_A00_R19.ms_data.hdf - feature_table.\n",
      "2023-07-03 18:42:46> Saving F:/AP_Paper_Benchmark/PXD015087_Thermo\\Hela_P035210_BA1_S00_A00_R2.ms_data.hdf - peptide_fdr.\n",
      "2023-07-03 18:42:46> Saving F:/AP_Paper_Benchmark/PXD015087_Thermo\\Hela_P035210_BA1_S00_A00_R2.ms_data.hdf - feature_table.\n",
      "2023-07-03 18:42:46> Saving F:/AP_Paper_Benchmark/PXD015087_Thermo\\Hela_P035210_BA1_S00_A00_R20.ms_data.hdf - peptide_fdr.\n",
      "2023-07-03 18:42:47> Saving F:/AP_Paper_Benchmark/PXD015087_Thermo\\Hela_P035210_BA1_S00_A00_R20.ms_data.hdf - feature_table.\n",
      "2023-07-03 18:42:47> Saving F:/AP_Paper_Benchmark/PXD015087_Thermo\\Hela_P035210_BA1_S00_A00_R3.ms_data.hdf - peptide_fdr.\n",
      "2023-07-03 18:42:48> Saving F:/AP_Paper_Benchmark/PXD015087_Thermo\\Hela_P035210_BA1_S00_A00_R3.ms_data.hdf - feature_table.\n",
      "2023-07-03 18:42:48> Saving F:/AP_Paper_Benchmark/PXD015087_Thermo\\Hela_P035210_BA1_S00_A00_R4.ms_data.hdf - peptide_fdr.\n",
      "2023-07-03 18:42:49> Saving F:/AP_Paper_Benchmark/PXD015087_Thermo\\Hela_P035210_BA1_S00_A00_R4.ms_data.hdf - feature_table.\n",
      "2023-07-03 18:42:49> Saving F:/AP_Paper_Benchmark/PXD015087_Thermo\\Hela_P035210_BA1_S00_A00_R5.ms_data.hdf - peptide_fdr.\n",
      "2023-07-03 18:42:50> Saving F:/AP_Paper_Benchmark/PXD015087_Thermo\\Hela_P035210_BA1_S00_A00_R5.ms_data.hdf - feature_table.\n",
      "2023-07-03 18:42:50> Saving F:/AP_Paper_Benchmark/PXD015087_Thermo\\Hela_P035210_BA1_S00_A00_R6.ms_data.hdf - peptide_fdr.\n",
      "2023-07-03 18:42:50> Saving F:/AP_Paper_Benchmark/PXD015087_Thermo\\Hela_P035210_BA1_S00_A00_R6.ms_data.hdf - feature_table.\n",
      "2023-07-03 18:42:51> Saving F:/AP_Paper_Benchmark/PXD015087_Thermo\\Hela_P035210_BA1_S00_A00_R7.ms_data.hdf - peptide_fdr.\n",
      "2023-07-03 18:42:51> Saving F:/AP_Paper_Benchmark/PXD015087_Thermo\\Hela_P035210_BA1_S00_A00_R7.ms_data.hdf - feature_table.\n",
      "2023-07-03 18:42:52> Saving F:/AP_Paper_Benchmark/PXD015087_Thermo\\Hela_P035210_BA1_S00_A00_R8.ms_data.hdf - peptide_fdr.\n",
      "2023-07-03 18:42:52> Saving F:/AP_Paper_Benchmark/PXD015087_Thermo\\Hela_P035210_BA1_S00_A00_R8.ms_data.hdf - feature_table.\n",
      "2023-07-03 18:42:52> Saving F:/AP_Paper_Benchmark/PXD015087_Thermo\\Hela_P035210_BA1_S00_A00_R9.ms_data.hdf - peptide_fdr.\n",
      "2023-07-03 18:42:53> Saving F:/AP_Paper_Benchmark/PXD015087_Thermo\\Hela_P035210_BA1_S00_A00_R9.ms_data.hdf - feature_table.\n",
      "2023-07-03 18:42:53> Saving F:/AP_Paper_Benchmark/PXD015087_Thermo\\Hela_P035211_BA1_S00_A00_R1.ms_data.hdf - peptide_fdr.\n",
      "2023-07-03 18:42:54> Saving F:/AP_Paper_Benchmark/PXD015087_Thermo\\Hela_P035211_BA1_S00_A00_R1.ms_data.hdf - feature_table.\n",
      "2023-07-03 18:42:54> Saving F:/AP_Paper_Benchmark/PXD015087_Thermo\\Hela_P035211_BA1_S00_A00_R10.ms_data.hdf - peptide_fdr.\n",
      "2023-07-03 18:42:55> Saving F:/AP_Paper_Benchmark/PXD015087_Thermo\\Hela_P035211_BA1_S00_A00_R10.ms_data.hdf - feature_table.\n",
      "2023-07-03 18:42:55> Saving F:/AP_Paper_Benchmark/PXD015087_Thermo\\Hela_P035211_BA1_S00_A00_R11.ms_data.hdf - peptide_fdr.\n",
      "2023-07-03 18:42:56> Saving F:/AP_Paper_Benchmark/PXD015087_Thermo\\Hela_P035211_BA1_S00_A00_R11.ms_data.hdf - feature_table.\n",
      "2023-07-03 18:42:56> Saving F:/AP_Paper_Benchmark/PXD015087_Thermo\\Hela_P035211_BA1_S00_A00_R12.ms_data.hdf - peptide_fdr.\n",
      "2023-07-03 18:42:57> Saving F:/AP_Paper_Benchmark/PXD015087_Thermo\\Hela_P035211_BA1_S00_A00_R12.ms_data.hdf - feature_table.\n",
      "2023-07-03 18:42:57> Saving F:/AP_Paper_Benchmark/PXD015087_Thermo\\Hela_P035211_BA1_S00_A00_R13.ms_data.hdf - peptide_fdr.\n",
      "2023-07-03 18:42:57> Saving F:/AP_Paper_Benchmark/PXD015087_Thermo\\Hela_P035211_BA1_S00_A00_R13.ms_data.hdf - feature_table.\n",
      "2023-07-03 18:42:58> Saving F:/AP_Paper_Benchmark/PXD015087_Thermo\\Hela_P035211_BA1_S00_A00_R14.ms_data.hdf - peptide_fdr.\n",
      "2023-07-03 18:42:58> Saving F:/AP_Paper_Benchmark/PXD015087_Thermo\\Hela_P035211_BA1_S00_A00_R14.ms_data.hdf - feature_table.\n",
      "2023-07-03 18:42:59> Saving F:/AP_Paper_Benchmark/PXD015087_Thermo\\Hela_P035211_BA1_S00_A00_R15.ms_data.hdf - peptide_fdr.\n",
      "2023-07-03 18:42:59> Saving F:/AP_Paper_Benchmark/PXD015087_Thermo\\Hela_P035211_BA1_S00_A00_R15.ms_data.hdf - feature_table.\n",
      "2023-07-03 18:42:59> Saving F:/AP_Paper_Benchmark/PXD015087_Thermo\\Hela_P035211_BA1_S00_A00_R16.ms_data.hdf - peptide_fdr.\n",
      "2023-07-03 18:43:00> Saving F:/AP_Paper_Benchmark/PXD015087_Thermo\\Hela_P035211_BA1_S00_A00_R16.ms_data.hdf - feature_table.\n",
      "2023-07-03 18:43:00> Saving F:/AP_Paper_Benchmark/PXD015087_Thermo\\Hela_P035211_BA1_S00_A00_R17.ms_data.hdf - peptide_fdr.\n",
      "2023-07-03 18:43:01> Saving F:/AP_Paper_Benchmark/PXD015087_Thermo\\Hela_P035211_BA1_S00_A00_R17.ms_data.hdf - feature_table.\n",
      "2023-07-03 18:43:01> Saving F:/AP_Paper_Benchmark/PXD015087_Thermo\\Hela_P035211_BA1_S00_A00_R18.ms_data.hdf - peptide_fdr.\n",
      "2023-07-03 18:43:02> Saving F:/AP_Paper_Benchmark/PXD015087_Thermo\\Hela_P035211_BA1_S00_A00_R18.ms_data.hdf - feature_table.\n",
      "2023-07-03 18:43:02> Saving F:/AP_Paper_Benchmark/PXD015087_Thermo\\Hela_P035211_BA1_S00_A00_R19.ms_data.hdf - peptide_fdr.\n",
      "2023-07-03 18:43:03> Saving F:/AP_Paper_Benchmark/PXD015087_Thermo\\Hela_P035211_BA1_S00_A00_R19.ms_data.hdf - feature_table.\n"
     ]
    },
    {
     "name": "stdout",
     "output_type": "stream",
     "text": [
      "2023-07-03 18:43:03> Saving F:/AP_Paper_Benchmark/PXD015087_Thermo\\Hela_P035211_BA1_S00_A00_R2.ms_data.hdf - peptide_fdr.\n",
      "2023-07-03 18:43:03> Saving F:/AP_Paper_Benchmark/PXD015087_Thermo\\Hela_P035211_BA1_S00_A00_R2.ms_data.hdf - feature_table.\n",
      "2023-07-03 18:43:04> Saving F:/AP_Paper_Benchmark/PXD015087_Thermo\\Hela_P035211_BA1_S00_A00_R20.ms_data.hdf - peptide_fdr.\n",
      "2023-07-03 18:43:04> Saving F:/AP_Paper_Benchmark/PXD015087_Thermo\\Hela_P035211_BA1_S00_A00_R20.ms_data.hdf - feature_table.\n",
      "2023-07-03 18:43:04> Saving F:/AP_Paper_Benchmark/PXD015087_Thermo\\Hela_P035211_BA1_S00_A00_R3.ms_data.hdf - peptide_fdr.\n",
      "2023-07-03 18:43:05> Saving F:/AP_Paper_Benchmark/PXD015087_Thermo\\Hela_P035211_BA1_S00_A00_R3.ms_data.hdf - feature_table.\n",
      "2023-07-03 18:43:05> Saving F:/AP_Paper_Benchmark/PXD015087_Thermo\\Hela_P035211_BA1_S00_A00_R4.ms_data.hdf - peptide_fdr.\n",
      "2023-07-03 18:43:06> Saving F:/AP_Paper_Benchmark/PXD015087_Thermo\\Hela_P035211_BA1_S00_A00_R4.ms_data.hdf - feature_table.\n",
      "2023-07-03 18:43:06> Saving F:/AP_Paper_Benchmark/PXD015087_Thermo\\Hela_P035211_BA1_S00_A00_R5.ms_data.hdf - peptide_fdr.\n",
      "2023-07-03 18:43:07> Saving F:/AP_Paper_Benchmark/PXD015087_Thermo\\Hela_P035211_BA1_S00_A00_R5.ms_data.hdf - feature_table.\n",
      "2023-07-03 18:43:07> Saving F:/AP_Paper_Benchmark/PXD015087_Thermo\\Hela_P035211_BA1_S00_A00_R6.ms_data.hdf - peptide_fdr.\n",
      "2023-07-03 18:43:08> Saving F:/AP_Paper_Benchmark/PXD015087_Thermo\\Hela_P035211_BA1_S00_A00_R6.ms_data.hdf - feature_table.\n",
      "2023-07-03 18:43:08> Saving F:/AP_Paper_Benchmark/PXD015087_Thermo\\Hela_P035211_BA1_S00_A00_R7.ms_data.hdf - peptide_fdr.\n",
      "2023-07-03 18:43:09> Saving F:/AP_Paper_Benchmark/PXD015087_Thermo\\Hela_P035211_BA1_S00_A00_R7.ms_data.hdf - feature_table.\n",
      "2023-07-03 18:43:09> Saving F:/AP_Paper_Benchmark/PXD015087_Thermo\\Hela_P035211_BA1_S00_A00_R8.ms_data.hdf - peptide_fdr.\n",
      "2023-07-03 18:43:10> Saving F:/AP_Paper_Benchmark/PXD015087_Thermo\\Hela_P035211_BA1_S00_A00_R8.ms_data.hdf - feature_table.\n",
      "2023-07-03 18:43:10> Saving F:/AP_Paper_Benchmark/PXD015087_Thermo\\Hela_P035211_BA1_S00_A00_R9.ms_data.hdf - peptide_fdr.\n",
      "2023-07-03 18:43:11> Saving F:/AP_Paper_Benchmark/PXD015087_Thermo\\Hela_P035211_BA1_S00_A00_R9.ms_data.hdf - feature_table.\n",
      "2023-07-03 18:43:11> Saving F:/AP_Paper_Benchmark/PXD015087_Thermo\\Hela_P035213_BA1_S00_A00_R1.ms_data.hdf - peptide_fdr.\n",
      "2023-07-03 18:43:12> Saving F:/AP_Paper_Benchmark/PXD015087_Thermo\\Hela_P035213_BA1_S00_A00_R1.ms_data.hdf - feature_table.\n",
      "2023-07-03 18:43:12> Saving F:/AP_Paper_Benchmark/PXD015087_Thermo\\Hela_P035213_BA1_S00_A00_R10.ms_data.hdf - peptide_fdr.\n",
      "2023-07-03 18:43:13> Saving F:/AP_Paper_Benchmark/PXD015087_Thermo\\Hela_P035213_BA1_S00_A00_R10.ms_data.hdf - feature_table.\n",
      "2023-07-03 18:43:13> Saving F:/AP_Paper_Benchmark/PXD015087_Thermo\\Hela_P035213_BA1_S00_A00_R11.ms_data.hdf - peptide_fdr.\n",
      "2023-07-03 18:43:14> Saving F:/AP_Paper_Benchmark/PXD015087_Thermo\\Hela_P035213_BA1_S00_A00_R11.ms_data.hdf - feature_table.\n",
      "2023-07-03 18:43:14> Saving F:/AP_Paper_Benchmark/PXD015087_Thermo\\Hela_P035213_BA1_S00_A00_R12.ms_data.hdf - peptide_fdr.\n",
      "2023-07-03 18:43:15> Saving F:/AP_Paper_Benchmark/PXD015087_Thermo\\Hela_P035213_BA1_S00_A00_R12.ms_data.hdf - feature_table.\n",
      "2023-07-03 18:43:15> Saving F:/AP_Paper_Benchmark/PXD015087_Thermo\\Hela_P035213_BA1_S00_A00_R13.ms_data.hdf - peptide_fdr.\n",
      "2023-07-03 18:43:16> Saving F:/AP_Paper_Benchmark/PXD015087_Thermo\\Hela_P035213_BA1_S00_A00_R13.ms_data.hdf - feature_table.\n",
      "2023-07-03 18:43:16> Saving F:/AP_Paper_Benchmark/PXD015087_Thermo\\Hela_P035213_BA1_S00_A00_R14.ms_data.hdf - peptide_fdr.\n",
      "2023-07-03 18:43:17> Saving F:/AP_Paper_Benchmark/PXD015087_Thermo\\Hela_P035213_BA1_S00_A00_R14.ms_data.hdf - feature_table.\n",
      "2023-07-03 18:43:17> Saving F:/AP_Paper_Benchmark/PXD015087_Thermo\\Hela_P035213_BA1_S00_A00_R15.ms_data.hdf - peptide_fdr.\n",
      "2023-07-03 18:43:18> Saving F:/AP_Paper_Benchmark/PXD015087_Thermo\\Hela_P035213_BA1_S00_A00_R15.ms_data.hdf - feature_table.\n",
      "2023-07-03 18:43:18> Saving F:/AP_Paper_Benchmark/PXD015087_Thermo\\Hela_P035213_BA1_S00_A00_R16.ms_data.hdf - peptide_fdr.\n",
      "2023-07-03 18:43:19> Saving F:/AP_Paper_Benchmark/PXD015087_Thermo\\Hela_P035213_BA1_S00_A00_R16.ms_data.hdf - feature_table.\n",
      "2023-07-03 18:43:19> Saving F:/AP_Paper_Benchmark/PXD015087_Thermo\\Hela_P035213_BA1_S00_A00_R17.ms_data.hdf - peptide_fdr.\n",
      "2023-07-03 18:43:20> Saving F:/AP_Paper_Benchmark/PXD015087_Thermo\\Hela_P035213_BA1_S00_A00_R17.ms_data.hdf - feature_table.\n",
      "2023-07-03 18:43:20> Saving F:/AP_Paper_Benchmark/PXD015087_Thermo\\Hela_P035213_BA1_S00_A00_R18.ms_data.hdf - peptide_fdr.\n",
      "2023-07-03 18:43:21> Saving F:/AP_Paper_Benchmark/PXD015087_Thermo\\Hela_P035213_BA1_S00_A00_R18.ms_data.hdf - feature_table.\n",
      "2023-07-03 18:43:21> Saving F:/AP_Paper_Benchmark/PXD015087_Thermo\\Hela_P035213_BA1_S00_A00_R19.ms_data.hdf - peptide_fdr.\n",
      "2023-07-03 18:43:22> Saving F:/AP_Paper_Benchmark/PXD015087_Thermo\\Hela_P035213_BA1_S00_A00_R19.ms_data.hdf - feature_table.\n",
      "2023-07-03 18:43:22> Saving F:/AP_Paper_Benchmark/PXD015087_Thermo\\Hela_P035213_BA1_S00_A00_R2.ms_data.hdf - peptide_fdr.\n",
      "2023-07-03 18:43:23> Saving F:/AP_Paper_Benchmark/PXD015087_Thermo\\Hela_P035213_BA1_S00_A00_R2.ms_data.hdf - feature_table.\n",
      "2023-07-03 18:43:23> Saving F:/AP_Paper_Benchmark/PXD015087_Thermo\\Hela_P035213_BA1_S00_A00_R20.ms_data.hdf - peptide_fdr.\n",
      "2023-07-03 18:43:23> Saving F:/AP_Paper_Benchmark/PXD015087_Thermo\\Hela_P035213_BA1_S00_A00_R20.ms_data.hdf - feature_table.\n",
      "2023-07-03 18:43:24> Saving F:/AP_Paper_Benchmark/PXD015087_Thermo\\Hela_P035213_BA1_S00_A00_R3.ms_data.hdf - peptide_fdr.\n",
      "2023-07-03 18:43:25> Saving F:/AP_Paper_Benchmark/PXD015087_Thermo\\Hela_P035213_BA1_S00_A00_R3.ms_data.hdf - feature_table.\n",
      "2023-07-03 18:43:25> Saving F:/AP_Paper_Benchmark/PXD015087_Thermo\\Hela_P035213_BA1_S00_A00_R4.ms_data.hdf - peptide_fdr.\n",
      "2023-07-03 18:43:26> Saving F:/AP_Paper_Benchmark/PXD015087_Thermo\\Hela_P035213_BA1_S00_A00_R4.ms_data.hdf - feature_table.\n",
      "2023-07-03 18:43:26> Saving F:/AP_Paper_Benchmark/PXD015087_Thermo\\Hela_P035213_BA1_S00_A00_R5.ms_data.hdf - peptide_fdr.\n",
      "2023-07-03 18:43:26> Saving F:/AP_Paper_Benchmark/PXD015087_Thermo\\Hela_P035213_BA1_S00_A00_R5.ms_data.hdf - feature_table.\n",
      "2023-07-03 18:43:27> Saving F:/AP_Paper_Benchmark/PXD015087_Thermo\\Hela_P035213_BA1_S00_A00_R6.ms_data.hdf - peptide_fdr.\n",
      "2023-07-03 18:43:27> Saving F:/AP_Paper_Benchmark/PXD015087_Thermo\\Hela_P035213_BA1_S00_A00_R6.ms_data.hdf - feature_table.\n",
      "2023-07-03 18:43:28> Saving F:/AP_Paper_Benchmark/PXD015087_Thermo\\Hela_P035213_BA1_S00_A00_R7.ms_data.hdf - peptide_fdr.\n",
      "2023-07-03 18:43:28> Saving F:/AP_Paper_Benchmark/PXD015087_Thermo\\Hela_P035213_BA1_S00_A00_R7.ms_data.hdf - feature_table.\n",
      "2023-07-03 18:43:29> Saving F:/AP_Paper_Benchmark/PXD015087_Thermo\\Hela_P035213_BA1_S00_A00_R8.ms_data.hdf - peptide_fdr.\n",
      "2023-07-03 18:43:29> Saving F:/AP_Paper_Benchmark/PXD015087_Thermo\\Hela_P035213_BA1_S00_A00_R8.ms_data.hdf - feature_table.\n",
      "2023-07-03 18:43:30> Saving F:/AP_Paper_Benchmark/PXD015087_Thermo\\Hela_P035213_BA1_S00_A00_R9.ms_data.hdf - peptide_fdr.\n",
      "2023-07-03 18:43:30> Saving F:/AP_Paper_Benchmark/PXD015087_Thermo\\Hela_P035213_BA1_S00_A00_R9.ms_data.hdf - feature_table.\n",
      "2023-07-03 18:43:31> Saving F:/AP_Paper_Benchmark/PXD015087_Thermo\\Hela_P035214_BA1_S00_A00_R1.ms_data.hdf - peptide_fdr.\n",
      "2023-07-03 18:43:31> Saving F:/AP_Paper_Benchmark/PXD015087_Thermo\\Hela_P035214_BA1_S00_A00_R1.ms_data.hdf - feature_table.\n",
      "2023-07-03 18:43:32> Saving F:/AP_Paper_Benchmark/PXD015087_Thermo\\Hela_P035214_BA1_S00_A00_R10.ms_data.hdf - peptide_fdr.\n",
      "2023-07-03 18:43:32> Saving F:/AP_Paper_Benchmark/PXD015087_Thermo\\Hela_P035214_BA1_S00_A00_R10.ms_data.hdf - feature_table.\n",
      "2023-07-03 18:43:32> Saving F:/AP_Paper_Benchmark/PXD015087_Thermo\\Hela_P035214_BA1_S00_A00_R11.ms_data.hdf - peptide_fdr.\n",
      "2023-07-03 18:43:33> Saving F:/AP_Paper_Benchmark/PXD015087_Thermo\\Hela_P035214_BA1_S00_A00_R11.ms_data.hdf - feature_table.\n",
      "2023-07-03 18:43:33> Saving F:/AP_Paper_Benchmark/PXD015087_Thermo\\Hela_P035214_BA1_S00_A00_R12.ms_data.hdf - peptide_fdr.\n",
      "2023-07-03 18:43:34> Saving F:/AP_Paper_Benchmark/PXD015087_Thermo\\Hela_P035214_BA1_S00_A00_R12.ms_data.hdf - feature_table.\n",
      "2023-07-03 18:43:34> Saving F:/AP_Paper_Benchmark/PXD015087_Thermo\\Hela_P035214_BA1_S00_A00_R13.ms_data.hdf - peptide_fdr.\n"
     ]
    },
    {
     "name": "stdout",
     "output_type": "stream",
     "text": [
      "2023-07-03 18:43:35> Saving F:/AP_Paper_Benchmark/PXD015087_Thermo\\Hela_P035214_BA1_S00_A00_R13.ms_data.hdf - feature_table.\n",
      "2023-07-03 18:43:35> Saving F:/AP_Paper_Benchmark/PXD015087_Thermo\\Hela_P035214_BA1_S00_A00_R14.ms_data.hdf - peptide_fdr.\n",
      "2023-07-03 18:43:36> Saving F:/AP_Paper_Benchmark/PXD015087_Thermo\\Hela_P035214_BA1_S00_A00_R14.ms_data.hdf - feature_table.\n",
      "2023-07-03 18:43:36> Saving F:/AP_Paper_Benchmark/PXD015087_Thermo\\Hela_P035214_BA1_S00_A00_R15.ms_data.hdf - peptide_fdr.\n",
      "2023-07-03 18:43:37> Saving F:/AP_Paper_Benchmark/PXD015087_Thermo\\Hela_P035214_BA1_S00_A00_R15.ms_data.hdf - feature_table.\n",
      "2023-07-03 18:43:37> Saving F:/AP_Paper_Benchmark/PXD015087_Thermo\\Hela_P035214_BA1_S00_A00_R16.ms_data.hdf - peptide_fdr.\n",
      "2023-07-03 18:43:38> Saving F:/AP_Paper_Benchmark/PXD015087_Thermo\\Hela_P035214_BA1_S00_A00_R16.ms_data.hdf - feature_table.\n",
      "2023-07-03 18:43:38> Saving F:/AP_Paper_Benchmark/PXD015087_Thermo\\Hela_P035214_BA1_S00_A00_R17.ms_data.hdf - peptide_fdr.\n",
      "2023-07-03 18:43:38> Saving F:/AP_Paper_Benchmark/PXD015087_Thermo\\Hela_P035214_BA1_S00_A00_R17.ms_data.hdf - feature_table.\n",
      "2023-07-03 18:43:39> Saving F:/AP_Paper_Benchmark/PXD015087_Thermo\\Hela_P035214_BA1_S00_A00_R18.ms_data.hdf - peptide_fdr.\n",
      "2023-07-03 18:43:39> Saving F:/AP_Paper_Benchmark/PXD015087_Thermo\\Hela_P035214_BA1_S00_A00_R18.ms_data.hdf - feature_table.\n",
      "2023-07-03 18:43:40> Saving F:/AP_Paper_Benchmark/PXD015087_Thermo\\Hela_P035214_BA1_S00_A00_R19.ms_data.hdf - peptide_fdr.\n",
      "2023-07-03 18:43:40> Saving F:/AP_Paper_Benchmark/PXD015087_Thermo\\Hela_P035214_BA1_S00_A00_R19.ms_data.hdf - feature_table.\n",
      "2023-07-03 18:43:40> Saving F:/AP_Paper_Benchmark/PXD015087_Thermo\\Hela_P035214_BA1_S00_A00_R2.ms_data.hdf - peptide_fdr.\n",
      "2023-07-03 18:43:41> Saving F:/AP_Paper_Benchmark/PXD015087_Thermo\\Hela_P035214_BA1_S00_A00_R2.ms_data.hdf - feature_table.\n",
      "2023-07-03 18:43:41> Saving F:/AP_Paper_Benchmark/PXD015087_Thermo\\Hela_P035214_BA1_S00_A00_R20.ms_data.hdf - peptide_fdr.\n",
      "2023-07-03 18:43:42> Saving F:/AP_Paper_Benchmark/PXD015087_Thermo\\Hela_P035214_BA1_S00_A00_R20.ms_data.hdf - feature_table.\n",
      "2023-07-03 18:43:42> Saving F:/AP_Paper_Benchmark/PXD015087_Thermo\\Hela_P035214_BA1_S00_A00_R3.ms_data.hdf - peptide_fdr.\n",
      "2023-07-03 18:43:43> Saving F:/AP_Paper_Benchmark/PXD015087_Thermo\\Hela_P035214_BA1_S00_A00_R3.ms_data.hdf - feature_table.\n",
      "2023-07-03 18:43:43> Saving F:/AP_Paper_Benchmark/PXD015087_Thermo\\Hela_P035214_BA1_S00_A00_R4.ms_data.hdf - peptide_fdr.\n",
      "2023-07-03 18:43:44> Saving F:/AP_Paper_Benchmark/PXD015087_Thermo\\Hela_P035214_BA1_S00_A00_R4.ms_data.hdf - feature_table.\n",
      "2023-07-03 18:43:44> Saving F:/AP_Paper_Benchmark/PXD015087_Thermo\\Hela_P035214_BA1_S00_A00_R5.ms_data.hdf - peptide_fdr.\n",
      "2023-07-03 18:43:45> Saving F:/AP_Paper_Benchmark/PXD015087_Thermo\\Hela_P035214_BA1_S00_A00_R5.ms_data.hdf - feature_table.\n",
      "2023-07-03 18:43:45> Saving F:/AP_Paper_Benchmark/PXD015087_Thermo\\Hela_P035214_BA1_S00_A00_R6.ms_data.hdf - peptide_fdr.\n",
      "2023-07-03 18:43:45> Saving F:/AP_Paper_Benchmark/PXD015087_Thermo\\Hela_P035214_BA1_S00_A00_R6.ms_data.hdf - feature_table.\n",
      "2023-07-03 18:43:46> Saving F:/AP_Paper_Benchmark/PXD015087_Thermo\\Hela_P035214_BA1_S00_A00_R7.ms_data.hdf - peptide_fdr.\n",
      "2023-07-03 18:43:46> Saving F:/AP_Paper_Benchmark/PXD015087_Thermo\\Hela_P035214_BA1_S00_A00_R7.ms_data.hdf - feature_table.\n",
      "2023-07-03 18:43:47> Saving F:/AP_Paper_Benchmark/PXD015087_Thermo\\Hela_P035214_BA1_S00_A00_R8.ms_data.hdf - peptide_fdr.\n",
      "2023-07-03 18:43:47> Saving F:/AP_Paper_Benchmark/PXD015087_Thermo\\Hela_P035214_BA1_S00_A00_R8.ms_data.hdf - feature_table.\n",
      "2023-07-03 18:43:47> Saving F:/AP_Paper_Benchmark/PXD015087_Thermo\\Hela_P035214_BA1_S00_A00_R9.ms_data.hdf - peptide_fdr.\n",
      "2023-07-03 18:43:48> Saving F:/AP_Paper_Benchmark/PXD015087_Thermo\\Hela_P035214_BA1_S00_A00_R9.ms_data.hdf - feature_table.\n",
      "2023-07-03 18:43:48> Saving F:/AP_Paper_Benchmark/PXD015087_Thermo\\Hela_P035215_BA1_S00_A00_R1.ms_data.hdf - peptide_fdr.\n",
      "2023-07-03 18:43:49> Saving F:/AP_Paper_Benchmark/PXD015087_Thermo\\Hela_P035215_BA1_S00_A00_R1.ms_data.hdf - feature_table.\n",
      "2023-07-03 18:43:49> Saving F:/AP_Paper_Benchmark/PXD015087_Thermo\\Hela_P035215_BA1_S00_A00_R10.ms_data.hdf - peptide_fdr.\n",
      "2023-07-03 18:43:50> Saving F:/AP_Paper_Benchmark/PXD015087_Thermo\\Hela_P035215_BA1_S00_A00_R10.ms_data.hdf - feature_table.\n",
      "2023-07-03 18:43:50> Saving F:/AP_Paper_Benchmark/PXD015087_Thermo\\Hela_P035215_BA1_S00_A00_R11.ms_data.hdf - peptide_fdr.\n",
      "2023-07-03 18:43:50> Saving F:/AP_Paper_Benchmark/PXD015087_Thermo\\Hela_P035215_BA1_S00_A00_R11.ms_data.hdf - feature_table.\n",
      "2023-07-03 18:43:51> Saving F:/AP_Paper_Benchmark/PXD015087_Thermo\\Hela_P035215_BA1_S00_A00_R12.ms_data.hdf - peptide_fdr.\n",
      "2023-07-03 18:43:51> Saving F:/AP_Paper_Benchmark/PXD015087_Thermo\\Hela_P035215_BA1_S00_A00_R12.ms_data.hdf - feature_table.\n",
      "2023-07-03 18:43:52> Saving F:/AP_Paper_Benchmark/PXD015087_Thermo\\Hela_P035215_BA1_S00_A00_R13.ms_data.hdf - peptide_fdr.\n",
      "2023-07-03 18:43:52> Saving F:/AP_Paper_Benchmark/PXD015087_Thermo\\Hela_P035215_BA1_S00_A00_R13.ms_data.hdf - feature_table.\n",
      "2023-07-03 18:43:52> Saving F:/AP_Paper_Benchmark/PXD015087_Thermo\\Hela_P035215_BA1_S00_A00_R14.ms_data.hdf - peptide_fdr.\n",
      "2023-07-03 18:43:53> Saving F:/AP_Paper_Benchmark/PXD015087_Thermo\\Hela_P035215_BA1_S00_A00_R14.ms_data.hdf - feature_table.\n",
      "2023-07-03 18:43:53> Saving F:/AP_Paper_Benchmark/PXD015087_Thermo\\Hela_P035215_BA1_S00_A00_R15.ms_data.hdf - peptide_fdr.\n",
      "2023-07-03 18:43:54> Saving F:/AP_Paper_Benchmark/PXD015087_Thermo\\Hela_P035215_BA1_S00_A00_R15.ms_data.hdf - feature_table.\n",
      "2023-07-03 18:43:54> Saving F:/AP_Paper_Benchmark/PXD015087_Thermo\\Hela_P035215_BA1_S00_A00_R16.ms_data.hdf - peptide_fdr.\n",
      "2023-07-03 18:43:55> Saving F:/AP_Paper_Benchmark/PXD015087_Thermo\\Hela_P035215_BA1_S00_A00_R16.ms_data.hdf - feature_table.\n",
      "2023-07-03 18:43:55> Saving F:/AP_Paper_Benchmark/PXD015087_Thermo\\Hela_P035215_BA1_S00_A00_R17.ms_data.hdf - peptide_fdr.\n",
      "2023-07-03 18:43:55> Saving F:/AP_Paper_Benchmark/PXD015087_Thermo\\Hela_P035215_BA1_S00_A00_R17.ms_data.hdf - feature_table.\n",
      "2023-07-03 18:43:56> Saving F:/AP_Paper_Benchmark/PXD015087_Thermo\\Hela_P035215_BA1_S00_A00_R18.ms_data.hdf - peptide_fdr.\n",
      "2023-07-03 18:43:56> Saving F:/AP_Paper_Benchmark/PXD015087_Thermo\\Hela_P035215_BA1_S00_A00_R18.ms_data.hdf - feature_table.\n",
      "2023-07-03 18:43:57> Saving F:/AP_Paper_Benchmark/PXD015087_Thermo\\Hela_P035215_BA1_S00_A00_R19.ms_data.hdf - peptide_fdr.\n",
      "2023-07-03 18:43:57> Saving F:/AP_Paper_Benchmark/PXD015087_Thermo\\Hela_P035215_BA1_S00_A00_R19.ms_data.hdf - feature_table.\n",
      "2023-07-03 18:43:57> Saving F:/AP_Paper_Benchmark/PXD015087_Thermo\\Hela_P035215_BA1_S00_A00_R2.ms_data.hdf - peptide_fdr.\n",
      "2023-07-03 18:43:58> Saving F:/AP_Paper_Benchmark/PXD015087_Thermo\\Hela_P035215_BA1_S00_A00_R2.ms_data.hdf - feature_table.\n",
      "2023-07-03 18:43:58> Saving F:/AP_Paper_Benchmark/PXD015087_Thermo\\Hela_P035215_BA1_S00_A00_R20.ms_data.hdf - peptide_fdr.\n",
      "2023-07-03 18:43:59> Saving F:/AP_Paper_Benchmark/PXD015087_Thermo\\Hela_P035215_BA1_S00_A00_R20.ms_data.hdf - feature_table.\n",
      "2023-07-03 18:43:59> Saving F:/AP_Paper_Benchmark/PXD015087_Thermo\\Hela_P035215_BA1_S00_A00_R3.ms_data.hdf - peptide_fdr.\n",
      "2023-07-03 18:44:00> Saving F:/AP_Paper_Benchmark/PXD015087_Thermo\\Hela_P035215_BA1_S00_A00_R3.ms_data.hdf - feature_table.\n",
      "2023-07-03 18:44:00> Saving F:/AP_Paper_Benchmark/PXD015087_Thermo\\Hela_P035215_BA1_S00_A00_R4.ms_data.hdf - peptide_fdr.\n",
      "2023-07-03 18:44:00> Saving F:/AP_Paper_Benchmark/PXD015087_Thermo\\Hela_P035215_BA1_S00_A00_R4.ms_data.hdf - feature_table.\n",
      "2023-07-03 18:44:01> Saving F:/AP_Paper_Benchmark/PXD015087_Thermo\\Hela_P035215_BA1_S00_A00_R5.ms_data.hdf - peptide_fdr.\n",
      "2023-07-03 18:44:01> Saving F:/AP_Paper_Benchmark/PXD015087_Thermo\\Hela_P035215_BA1_S00_A00_R5.ms_data.hdf - feature_table.\n",
      "2023-07-03 18:44:01> Saving F:/AP_Paper_Benchmark/PXD015087_Thermo\\Hela_P035215_BA1_S00_A00_R6.ms_data.hdf - peptide_fdr.\n",
      "2023-07-03 18:44:02> Saving F:/AP_Paper_Benchmark/PXD015087_Thermo\\Hela_P035215_BA1_S00_A00_R6.ms_data.hdf - feature_table.\n",
      "2023-07-03 18:44:02> Saving F:/AP_Paper_Benchmark/PXD015087_Thermo\\Hela_P035215_BA1_S00_A00_R7.ms_data.hdf - peptide_fdr.\n",
      "2023-07-03 18:44:03> Saving F:/AP_Paper_Benchmark/PXD015087_Thermo\\Hela_P035215_BA1_S00_A00_R7.ms_data.hdf - feature_table.\n"
     ]
    },
    {
     "name": "stdout",
     "output_type": "stream",
     "text": [
      "2023-07-03 18:44:03> Saving F:/AP_Paper_Benchmark/PXD015087_Thermo\\Hela_P035215_BA1_S00_A00_R8.ms_data.hdf - peptide_fdr.\n",
      "2023-07-03 18:44:04> Saving F:/AP_Paper_Benchmark/PXD015087_Thermo\\Hela_P035215_BA1_S00_A00_R8.ms_data.hdf - feature_table.\n",
      "2023-07-03 18:44:04> Saving F:/AP_Paper_Benchmark/PXD015087_Thermo\\Hela_P035215_BA1_S00_A00_R9.ms_data.hdf - peptide_fdr.\n",
      "2023-07-03 18:44:05> Saving F:/AP_Paper_Benchmark/PXD015087_Thermo\\Hela_P035215_BA1_S00_A00_R9.ms_data.hdf - feature_table.\n",
      "2023-07-03 18:44:05> Saving F:/AP_Paper_Benchmark/PXD015087_Thermo\\Hela_P035216_BA1_S00_A00_R1.ms_data.hdf - peptide_fdr.\n",
      "2023-07-03 18:44:05> Saving F:/AP_Paper_Benchmark/PXD015087_Thermo\\Hela_P035216_BA1_S00_A00_R1.ms_data.hdf - feature_table.\n",
      "2023-07-03 18:44:06> Saving F:/AP_Paper_Benchmark/PXD015087_Thermo\\Hela_P035216_BA1_S00_A00_R10.ms_data.hdf - peptide_fdr.\n",
      "2023-07-03 18:44:06> Saving F:/AP_Paper_Benchmark/PXD015087_Thermo\\Hela_P035216_BA1_S00_A00_R10.ms_data.hdf - feature_table.\n",
      "2023-07-03 18:44:07> Saving F:/AP_Paper_Benchmark/PXD015087_Thermo\\Hela_P035216_BA1_S00_A00_R11.ms_data.hdf - peptide_fdr.\n",
      "2023-07-03 18:44:07> Saving F:/AP_Paper_Benchmark/PXD015087_Thermo\\Hela_P035216_BA1_S00_A00_R11.ms_data.hdf - feature_table.\n",
      "2023-07-03 18:44:07> Saving F:/AP_Paper_Benchmark/PXD015087_Thermo\\Hela_P035216_BA1_S00_A00_R12.ms_data.hdf - peptide_fdr.\n",
      "2023-07-03 18:44:08> Saving F:/AP_Paper_Benchmark/PXD015087_Thermo\\Hela_P035216_BA1_S00_A00_R12.ms_data.hdf - feature_table.\n",
      "2023-07-03 18:44:08> Saving F:/AP_Paper_Benchmark/PXD015087_Thermo\\Hela_P035216_BA1_S00_A00_R13.ms_data.hdf - peptide_fdr.\n",
      "2023-07-03 18:44:09> Saving F:/AP_Paper_Benchmark/PXD015087_Thermo\\Hela_P035216_BA1_S00_A00_R13.ms_data.hdf - feature_table.\n",
      "2023-07-03 18:44:09> Saving F:/AP_Paper_Benchmark/PXD015087_Thermo\\Hela_P035216_BA1_S00_A00_R14.ms_data.hdf - peptide_fdr.\n",
      "2023-07-03 18:44:10> Saving F:/AP_Paper_Benchmark/PXD015087_Thermo\\Hela_P035216_BA1_S00_A00_R14.ms_data.hdf - feature_table.\n",
      "2023-07-03 18:44:10> Saving F:/AP_Paper_Benchmark/PXD015087_Thermo\\Hela_P035216_BA1_S00_A00_R15.ms_data.hdf - peptide_fdr.\n",
      "2023-07-03 18:44:11> Saving F:/AP_Paper_Benchmark/PXD015087_Thermo\\Hela_P035216_BA1_S00_A00_R15.ms_data.hdf - feature_table.\n",
      "2023-07-03 18:44:11> Saving F:/AP_Paper_Benchmark/PXD015087_Thermo\\Hela_P035216_BA1_S00_A00_R16.ms_data.hdf - peptide_fdr.\n",
      "2023-07-03 18:44:12> Saving F:/AP_Paper_Benchmark/PXD015087_Thermo\\Hela_P035216_BA1_S00_A00_R16.ms_data.hdf - feature_table.\n",
      "2023-07-03 18:44:12> Saving F:/AP_Paper_Benchmark/PXD015087_Thermo\\Hela_P035216_BA1_S00_A00_R17.ms_data.hdf - peptide_fdr.\n",
      "2023-07-03 18:44:13> Saving F:/AP_Paper_Benchmark/PXD015087_Thermo\\Hela_P035216_BA1_S00_A00_R17.ms_data.hdf - feature_table.\n",
      "2023-07-03 18:44:13> Saving F:/AP_Paper_Benchmark/PXD015087_Thermo\\Hela_P035216_BA1_S00_A00_R18.ms_data.hdf - peptide_fdr.\n",
      "2023-07-03 18:44:14> Saving F:/AP_Paper_Benchmark/PXD015087_Thermo\\Hela_P035216_BA1_S00_A00_R18.ms_data.hdf - feature_table.\n",
      "2023-07-03 18:44:14> Saving F:/AP_Paper_Benchmark/PXD015087_Thermo\\Hela_P035216_BA1_S00_A00_R19.ms_data.hdf - peptide_fdr.\n",
      "2023-07-03 18:44:15> Saving F:/AP_Paper_Benchmark/PXD015087_Thermo\\Hela_P035216_BA1_S00_A00_R19.ms_data.hdf - feature_table.\n",
      "2023-07-03 18:44:15> Saving F:/AP_Paper_Benchmark/PXD015087_Thermo\\Hela_P035216_BA1_S00_A00_R2.ms_data.hdf - peptide_fdr.\n",
      "2023-07-03 18:44:16> Saving F:/AP_Paper_Benchmark/PXD015087_Thermo\\Hela_P035216_BA1_S00_A00_R2.ms_data.hdf - feature_table.\n",
      "2023-07-03 18:44:16> Saving F:/AP_Paper_Benchmark/PXD015087_Thermo\\Hela_P035216_BA1_S00_A00_R20.ms_data.hdf - peptide_fdr.\n",
      "2023-07-03 18:44:16> Saving F:/AP_Paper_Benchmark/PXD015087_Thermo\\Hela_P035216_BA1_S00_A00_R20.ms_data.hdf - feature_table.\n",
      "2023-07-03 18:44:17> Saving F:/AP_Paper_Benchmark/PXD015087_Thermo\\Hela_P035216_BA1_S00_A00_R3.ms_data.hdf - peptide_fdr.\n",
      "2023-07-03 18:44:17> Saving F:/AP_Paper_Benchmark/PXD015087_Thermo\\Hela_P035216_BA1_S00_A00_R3.ms_data.hdf - feature_table.\n",
      "2023-07-03 18:44:17> Saving F:/AP_Paper_Benchmark/PXD015087_Thermo\\Hela_P035216_BA1_S00_A00_R4.ms_data.hdf - peptide_fdr.\n",
      "2023-07-03 18:44:18> Saving F:/AP_Paper_Benchmark/PXD015087_Thermo\\Hela_P035216_BA1_S00_A00_R4.ms_data.hdf - feature_table.\n",
      "2023-07-03 18:44:18> Saving F:/AP_Paper_Benchmark/PXD015087_Thermo\\Hela_P035216_BA1_S00_A00_R5.ms_data.hdf - peptide_fdr.\n",
      "2023-07-03 18:44:19> Saving F:/AP_Paper_Benchmark/PXD015087_Thermo\\Hela_P035216_BA1_S00_A00_R5.ms_data.hdf - feature_table.\n",
      "2023-07-03 18:44:19> Saving F:/AP_Paper_Benchmark/PXD015087_Thermo\\Hela_P035216_BA1_S00_A00_R6.ms_data.hdf - peptide_fdr.\n",
      "2023-07-03 18:44:20> Saving F:/AP_Paper_Benchmark/PXD015087_Thermo\\Hela_P035216_BA1_S00_A00_R6.ms_data.hdf - feature_table.\n",
      "2023-07-03 18:44:20> Saving F:/AP_Paper_Benchmark/PXD015087_Thermo\\Hela_P035216_BA1_S00_A00_R7.ms_data.hdf - peptide_fdr.\n",
      "2023-07-03 18:44:20> Saving F:/AP_Paper_Benchmark/PXD015087_Thermo\\Hela_P035216_BA1_S00_A00_R7.ms_data.hdf - feature_table.\n",
      "2023-07-03 18:44:21> Saving F:/AP_Paper_Benchmark/PXD015087_Thermo\\Hela_P035216_BA1_S00_A00_R8.ms_data.hdf - peptide_fdr.\n",
      "2023-07-03 18:44:21> Saving F:/AP_Paper_Benchmark/PXD015087_Thermo\\Hela_P035216_BA1_S00_A00_R8.ms_data.hdf - feature_table.\n",
      "2023-07-03 18:44:22> Saving F:/AP_Paper_Benchmark/PXD015087_Thermo\\Hela_P035216_BA1_S00_A00_R9.ms_data.hdf - peptide_fdr.\n",
      "2023-07-03 18:44:22> Saving F:/AP_Paper_Benchmark/PXD015087_Thermo\\Hela_P035216_BA1_S00_A00_R9.ms_data.hdf - feature_table.\n",
      "2023-07-03 18:44:22> Saving F:/AP_Paper_Benchmark/PXD015087_Thermo\\Hela_P035217_BA1_S00_A00_R1.ms_data.hdf - peptide_fdr.\n",
      "2023-07-03 18:44:23> Saving F:/AP_Paper_Benchmark/PXD015087_Thermo\\Hela_P035217_BA1_S00_A00_R1.ms_data.hdf - feature_table.\n",
      "2023-07-03 18:44:23> Saving F:/AP_Paper_Benchmark/PXD015087_Thermo\\Hela_P035217_BA1_S00_A00_R10.ms_data.hdf - peptide_fdr.\n",
      "2023-07-03 18:44:24> Saving F:/AP_Paper_Benchmark/PXD015087_Thermo\\Hela_P035217_BA1_S00_A00_R10.ms_data.hdf - feature_table.\n",
      "2023-07-03 18:44:24> Saving F:/AP_Paper_Benchmark/PXD015087_Thermo\\Hela_P035217_BA1_S00_A00_R11.ms_data.hdf - peptide_fdr.\n",
      "2023-07-03 18:44:25> Saving F:/AP_Paper_Benchmark/PXD015087_Thermo\\Hela_P035217_BA1_S00_A00_R11.ms_data.hdf - feature_table.\n",
      "2023-07-03 18:44:25> Saving F:/AP_Paper_Benchmark/PXD015087_Thermo\\Hela_P035217_BA1_S00_A00_R12.ms_data.hdf - peptide_fdr.\n",
      "2023-07-03 18:44:26> Saving F:/AP_Paper_Benchmark/PXD015087_Thermo\\Hela_P035217_BA1_S00_A00_R12.ms_data.hdf - feature_table.\n",
      "2023-07-03 18:44:26> Saving F:/AP_Paper_Benchmark/PXD015087_Thermo\\Hela_P035217_BA1_S00_A00_R13.ms_data.hdf - peptide_fdr.\n",
      "2023-07-03 18:44:27> Saving F:/AP_Paper_Benchmark/PXD015087_Thermo\\Hela_P035217_BA1_S00_A00_R13.ms_data.hdf - feature_table.\n",
      "2023-07-03 18:44:27> Saving F:/AP_Paper_Benchmark/PXD015087_Thermo\\Hela_P035217_BA1_S00_A00_R14.ms_data.hdf - peptide_fdr.\n",
      "2023-07-03 18:44:28> Saving F:/AP_Paper_Benchmark/PXD015087_Thermo\\Hela_P035217_BA1_S00_A00_R14.ms_data.hdf - feature_table.\n",
      "2023-07-03 18:44:28> Saving F:/AP_Paper_Benchmark/PXD015087_Thermo\\Hela_P035217_BA1_S00_A00_R15.ms_data.hdf - peptide_fdr.\n",
      "2023-07-03 18:44:29> Saving F:/AP_Paper_Benchmark/PXD015087_Thermo\\Hela_P035217_BA1_S00_A00_R15.ms_data.hdf - feature_table.\n",
      "2023-07-03 18:44:29> Saving F:/AP_Paper_Benchmark/PXD015087_Thermo\\Hela_P035217_BA1_S00_A00_R16.ms_data.hdf - peptide_fdr.\n",
      "2023-07-03 18:44:30> Saving F:/AP_Paper_Benchmark/PXD015087_Thermo\\Hela_P035217_BA1_S00_A00_R16.ms_data.hdf - feature_table.\n",
      "2023-07-03 18:44:30> Saving F:/AP_Paper_Benchmark/PXD015087_Thermo\\Hela_P035217_BA1_S00_A00_R17.ms_data.hdf - peptide_fdr.\n",
      "2023-07-03 18:44:30> Saving F:/AP_Paper_Benchmark/PXD015087_Thermo\\Hela_P035217_BA1_S00_A00_R17.ms_data.hdf - feature_table.\n",
      "2023-07-03 18:44:31> Saving F:/AP_Paper_Benchmark/PXD015087_Thermo\\Hela_P035217_BA1_S00_A00_R18.ms_data.hdf - peptide_fdr.\n",
      "2023-07-03 18:44:31> Saving F:/AP_Paper_Benchmark/PXD015087_Thermo\\Hela_P035217_BA1_S00_A00_R18.ms_data.hdf - feature_table.\n",
      "2023-07-03 18:44:32> Saving F:/AP_Paper_Benchmark/PXD015087_Thermo\\Hela_P035217_BA1_S00_A00_R19.ms_data.hdf - peptide_fdr.\n",
      "2023-07-03 18:44:32> Saving F:/AP_Paper_Benchmark/PXD015087_Thermo\\Hela_P035217_BA1_S00_A00_R19.ms_data.hdf - feature_table.\n",
      "2023-07-03 18:44:32> Saving F:/AP_Paper_Benchmark/PXD015087_Thermo\\Hela_P035217_BA1_S00_A00_R2.ms_data.hdf - peptide_fdr.\n"
     ]
    },
    {
     "name": "stdout",
     "output_type": "stream",
     "text": [
      "2023-07-03 18:44:33> Saving F:/AP_Paper_Benchmark/PXD015087_Thermo\\Hela_P035217_BA1_S00_A00_R2.ms_data.hdf - feature_table.\n",
      "2023-07-03 18:44:33> Saving F:/AP_Paper_Benchmark/PXD015087_Thermo\\Hela_P035217_BA1_S00_A00_R20.ms_data.hdf - peptide_fdr.\n",
      "2023-07-03 18:44:34> Saving F:/AP_Paper_Benchmark/PXD015087_Thermo\\Hela_P035217_BA1_S00_A00_R20.ms_data.hdf - feature_table.\n",
      "2023-07-03 18:44:34> Saving F:/AP_Paper_Benchmark/PXD015087_Thermo\\Hela_P035217_BA1_S00_A00_R21.ms_data.hdf - peptide_fdr.\n",
      "2023-07-03 18:44:35> Saving F:/AP_Paper_Benchmark/PXD015087_Thermo\\Hela_P035217_BA1_S00_A00_R21.ms_data.hdf - feature_table.\n",
      "2023-07-03 18:44:35> Saving F:/AP_Paper_Benchmark/PXD015087_Thermo\\Hela_P035217_BA1_S00_A00_R3.ms_data.hdf - peptide_fdr.\n",
      "2023-07-03 18:44:36> Saving F:/AP_Paper_Benchmark/PXD015087_Thermo\\Hela_P035217_BA1_S00_A00_R3.ms_data.hdf - feature_table.\n",
      "2023-07-03 18:44:36> Saving F:/AP_Paper_Benchmark/PXD015087_Thermo\\Hela_P035217_BA1_S00_A00_R5.ms_data.hdf - peptide_fdr.\n",
      "2023-07-03 18:44:37> Saving F:/AP_Paper_Benchmark/PXD015087_Thermo\\Hela_P035217_BA1_S00_A00_R5.ms_data.hdf - feature_table.\n",
      "2023-07-03 18:44:37> Saving F:/AP_Paper_Benchmark/PXD015087_Thermo\\Hela_P035217_BA1_S00_A00_R6.ms_data.hdf - peptide_fdr.\n",
      "2023-07-03 18:44:38> Saving F:/AP_Paper_Benchmark/PXD015087_Thermo\\Hela_P035217_BA1_S00_A00_R6.ms_data.hdf - feature_table.\n",
      "2023-07-03 18:44:38> Saving F:/AP_Paper_Benchmark/PXD015087_Thermo\\Hela_P035217_BA1_S00_A00_R7.ms_data.hdf - peptide_fdr.\n",
      "2023-07-03 18:44:39> Saving F:/AP_Paper_Benchmark/PXD015087_Thermo\\Hela_P035217_BA1_S00_A00_R7.ms_data.hdf - feature_table.\n",
      "2023-07-03 18:44:39> Saving F:/AP_Paper_Benchmark/PXD015087_Thermo\\Hela_P035217_BA1_S00_A00_R8.ms_data.hdf - peptide_fdr.\n",
      "2023-07-03 18:44:40> Saving F:/AP_Paper_Benchmark/PXD015087_Thermo\\Hela_P035217_BA1_S00_A00_R8.ms_data.hdf - feature_table.\n",
      "2023-07-03 18:44:40> Saving F:/AP_Paper_Benchmark/PXD015087_Thermo\\Hela_P035217_BA1_S00_A00_R9.ms_data.hdf - peptide_fdr.\n",
      "2023-07-03 18:44:41> Saving F:/AP_Paper_Benchmark/PXD015087_Thermo\\Hela_P035217_BA1_S00_A00_R9.ms_data.hdf - feature_table.\n",
      "2023-07-03 18:44:41> Saving F:/AP_Paper_Benchmark/PXD015087_Thermo\\Hela_P035218_BA1_S00_A00_R1.ms_data.hdf - peptide_fdr.\n",
      "2023-07-03 18:44:41> Saving F:/AP_Paper_Benchmark/PXD015087_Thermo\\Hela_P035218_BA1_S00_A00_R1.ms_data.hdf - feature_table.\n",
      "2023-07-03 18:44:42> Saving F:/AP_Paper_Benchmark/PXD015087_Thermo\\Hela_P035218_BA1_S00_A00_R10.ms_data.hdf - peptide_fdr.\n",
      "2023-07-03 18:44:42> Saving F:/AP_Paper_Benchmark/PXD015087_Thermo\\Hela_P035218_BA1_S00_A00_R10.ms_data.hdf - feature_table.\n",
      "2023-07-03 18:44:43> Saving F:/AP_Paper_Benchmark/PXD015087_Thermo\\Hela_P035218_BA1_S00_A00_R11.ms_data.hdf - peptide_fdr.\n",
      "2023-07-03 18:44:43> Saving F:/AP_Paper_Benchmark/PXD015087_Thermo\\Hela_P035218_BA1_S00_A00_R11.ms_data.hdf - feature_table.\n",
      "2023-07-03 18:44:44> Saving F:/AP_Paper_Benchmark/PXD015087_Thermo\\Hela_P035218_BA1_S00_A00_R12.ms_data.hdf - peptide_fdr.\n",
      "2023-07-03 18:44:44> Saving F:/AP_Paper_Benchmark/PXD015087_Thermo\\Hela_P035218_BA1_S00_A00_R12.ms_data.hdf - feature_table.\n",
      "2023-07-03 18:44:45> Saving F:/AP_Paper_Benchmark/PXD015087_Thermo\\Hela_P035218_BA1_S00_A00_R13.ms_data.hdf - peptide_fdr.\n",
      "2023-07-03 18:44:45> Saving F:/AP_Paper_Benchmark/PXD015087_Thermo\\Hela_P035218_BA1_S00_A00_R13.ms_data.hdf - feature_table.\n",
      "2023-07-03 18:44:45> Saving F:/AP_Paper_Benchmark/PXD015087_Thermo\\Hela_P035218_BA1_S00_A00_R14.ms_data.hdf - peptide_fdr.\n",
      "2023-07-03 18:44:46> Saving F:/AP_Paper_Benchmark/PXD015087_Thermo\\Hela_P035218_BA1_S00_A00_R14.ms_data.hdf - feature_table.\n",
      "2023-07-03 18:44:46> Saving F:/AP_Paper_Benchmark/PXD015087_Thermo\\Hela_P035218_BA1_S00_A00_R15.ms_data.hdf - peptide_fdr.\n",
      "2023-07-03 18:44:47> Saving F:/AP_Paper_Benchmark/PXD015087_Thermo\\Hela_P035218_BA1_S00_A00_R15.ms_data.hdf - feature_table.\n",
      "2023-07-03 18:44:47> Saving F:/AP_Paper_Benchmark/PXD015087_Thermo\\Hela_P035218_BA1_S00_A00_R16.ms_data.hdf - peptide_fdr.\n",
      "2023-07-03 18:44:48> Saving F:/AP_Paper_Benchmark/PXD015087_Thermo\\Hela_P035218_BA1_S00_A00_R16.ms_data.hdf - feature_table.\n",
      "2023-07-03 18:44:48> Saving F:/AP_Paper_Benchmark/PXD015087_Thermo\\Hela_P035218_BA1_S00_A00_R17.ms_data.hdf - peptide_fdr.\n",
      "2023-07-03 18:44:49> Saving F:/AP_Paper_Benchmark/PXD015087_Thermo\\Hela_P035218_BA1_S00_A00_R17.ms_data.hdf - feature_table.\n",
      "2023-07-03 18:44:49> Saving F:/AP_Paper_Benchmark/PXD015087_Thermo\\Hela_P035218_BA1_S00_A00_R18.ms_data.hdf - peptide_fdr.\n",
      "2023-07-03 18:44:50> Saving F:/AP_Paper_Benchmark/PXD015087_Thermo\\Hela_P035218_BA1_S00_A00_R18.ms_data.hdf - feature_table.\n",
      "2023-07-03 18:44:50> Saving F:/AP_Paper_Benchmark/PXD015087_Thermo\\Hela_P035218_BA1_S00_A00_R19.ms_data.hdf - peptide_fdr.\n",
      "2023-07-03 18:44:50> Saving F:/AP_Paper_Benchmark/PXD015087_Thermo\\Hela_P035218_BA1_S00_A00_R19.ms_data.hdf - feature_table.\n",
      "2023-07-03 18:44:51> Saving F:/AP_Paper_Benchmark/PXD015087_Thermo\\Hela_P035218_BA1_S00_A00_R2.ms_data.hdf - peptide_fdr.\n",
      "2023-07-03 18:44:51> Saving F:/AP_Paper_Benchmark/PXD015087_Thermo\\Hela_P035218_BA1_S00_A00_R2.ms_data.hdf - feature_table.\n",
      "2023-07-03 18:44:52> Saving F:/AP_Paper_Benchmark/PXD015087_Thermo\\Hela_P035218_BA1_S00_A00_R20.ms_data.hdf - peptide_fdr.\n",
      "2023-07-03 18:44:52> Saving F:/AP_Paper_Benchmark/PXD015087_Thermo\\Hela_P035218_BA1_S00_A00_R20.ms_data.hdf - feature_table.\n",
      "2023-07-03 18:44:52> Saving F:/AP_Paper_Benchmark/PXD015087_Thermo\\Hela_P035218_BA1_S00_A00_R3.ms_data.hdf - peptide_fdr.\n",
      "2023-07-03 18:44:53> Saving F:/AP_Paper_Benchmark/PXD015087_Thermo\\Hela_P035218_BA1_S00_A00_R3.ms_data.hdf - feature_table.\n",
      "2023-07-03 18:44:53> Saving F:/AP_Paper_Benchmark/PXD015087_Thermo\\Hela_P035218_BA1_S00_A00_R4.ms_data.hdf - peptide_fdr.\n",
      "2023-07-03 18:44:54> Saving F:/AP_Paper_Benchmark/PXD015087_Thermo\\Hela_P035218_BA1_S00_A00_R4.ms_data.hdf - feature_table.\n",
      "2023-07-03 18:44:54> Saving F:/AP_Paper_Benchmark/PXD015087_Thermo\\Hela_P035218_BA1_S00_A00_R5.ms_data.hdf - peptide_fdr.\n",
      "2023-07-03 18:44:55> Saving F:/AP_Paper_Benchmark/PXD015087_Thermo\\Hela_P035218_BA1_S00_A00_R5.ms_data.hdf - feature_table.\n",
      "2023-07-03 18:44:55> Saving F:/AP_Paper_Benchmark/PXD015087_Thermo\\Hela_P035218_BA1_S00_A00_R6.ms_data.hdf - peptide_fdr.\n",
      "2023-07-03 18:44:56> Saving F:/AP_Paper_Benchmark/PXD015087_Thermo\\Hela_P035218_BA1_S00_A00_R6.ms_data.hdf - feature_table.\n",
      "2023-07-03 18:44:56> Saving F:/AP_Paper_Benchmark/PXD015087_Thermo\\Hela_P035218_BA1_S00_A00_R7.ms_data.hdf - peptide_fdr.\n",
      "2023-07-03 18:44:57> Saving F:/AP_Paper_Benchmark/PXD015087_Thermo\\Hela_P035218_BA1_S00_A00_R7.ms_data.hdf - feature_table.\n",
      "2023-07-03 18:44:57> Saving F:/AP_Paper_Benchmark/PXD015087_Thermo\\Hela_P035218_BA1_S00_A00_R8.ms_data.hdf - peptide_fdr.\n",
      "2023-07-03 18:44:58> Saving F:/AP_Paper_Benchmark/PXD015087_Thermo\\Hela_P035218_BA1_S00_A00_R8.ms_data.hdf - feature_table.\n",
      "2023-07-03 18:44:58> Saving F:/AP_Paper_Benchmark/PXD015087_Thermo\\Hela_P035218_BA1_S00_A00_R9.ms_data.hdf - peptide_fdr.\n",
      "2023-07-03 18:44:59> Saving F:/AP_Paper_Benchmark/PXD015087_Thermo\\Hela_P035218_BA1_S00_A00_R9.ms_data.hdf - feature_table.\n",
      "2023-07-03 18:44:59> Saving F:/AP_Paper_Benchmark/PXD015087_Thermo\\Hela_P035219_BA1_S00_A00_R1.ms_data.hdf - peptide_fdr.\n",
      "2023-07-03 18:44:59> Saving F:/AP_Paper_Benchmark/PXD015087_Thermo\\Hela_P035219_BA1_S00_A00_R1.ms_data.hdf - feature_table.\n",
      "2023-07-03 18:45:00> Saving F:/AP_Paper_Benchmark/PXD015087_Thermo\\Hela_P035219_BA1_S00_A00_R10.ms_data.hdf - peptide_fdr.\n",
      "2023-07-03 18:45:00> Saving F:/AP_Paper_Benchmark/PXD015087_Thermo\\Hela_P035219_BA1_S00_A00_R10.ms_data.hdf - feature_table.\n",
      "2023-07-03 18:45:00> Saving F:/AP_Paper_Benchmark/PXD015087_Thermo\\Hela_P035219_BA1_S00_A00_R11.ms_data.hdf - peptide_fdr.\n",
      "2023-07-03 18:45:01> Saving F:/AP_Paper_Benchmark/PXD015087_Thermo\\Hela_P035219_BA1_S00_A00_R11.ms_data.hdf - feature_table.\n",
      "2023-07-03 18:45:01> Saving F:/AP_Paper_Benchmark/PXD015087_Thermo\\Hela_P035219_BA1_S00_A00_R12.ms_data.hdf - peptide_fdr.\n",
      "2023-07-03 18:45:02> Saving F:/AP_Paper_Benchmark/PXD015087_Thermo\\Hela_P035219_BA1_S00_A00_R12.ms_data.hdf - feature_table.\n",
      "2023-07-03 18:45:02> Saving F:/AP_Paper_Benchmark/PXD015087_Thermo\\Hela_P035219_BA1_S00_A00_R13.ms_data.hdf - peptide_fdr.\n",
      "2023-07-03 18:45:03> Saving F:/AP_Paper_Benchmark/PXD015087_Thermo\\Hela_P035219_BA1_S00_A00_R13.ms_data.hdf - feature_table.\n"
     ]
    },
    {
     "name": "stdout",
     "output_type": "stream",
     "text": [
      "2023-07-03 18:45:03> Saving F:/AP_Paper_Benchmark/PXD015087_Thermo\\Hela_P035219_BA1_S00_A00_R14.ms_data.hdf - peptide_fdr.\n",
      "2023-07-03 18:45:03> Saving F:/AP_Paper_Benchmark/PXD015087_Thermo\\Hela_P035219_BA1_S00_A00_R14.ms_data.hdf - feature_table.\n",
      "2023-07-03 18:45:04> Saving F:/AP_Paper_Benchmark/PXD015087_Thermo\\Hela_P035219_BA1_S00_A00_R15.ms_data.hdf - peptide_fdr.\n",
      "2023-07-03 18:45:04> Saving F:/AP_Paper_Benchmark/PXD015087_Thermo\\Hela_P035219_BA1_S00_A00_R15.ms_data.hdf - feature_table.\n",
      "2023-07-03 18:45:05> Saving F:/AP_Paper_Benchmark/PXD015087_Thermo\\Hela_P035219_BA1_S00_A00_R16.ms_data.hdf - peptide_fdr.\n",
      "2023-07-03 18:45:05> Saving F:/AP_Paper_Benchmark/PXD015087_Thermo\\Hela_P035219_BA1_S00_A00_R16.ms_data.hdf - feature_table.\n",
      "2023-07-03 18:45:05> Saving F:/AP_Paper_Benchmark/PXD015087_Thermo\\Hela_P035219_BA1_S00_A00_R17.ms_data.hdf - peptide_fdr.\n",
      "2023-07-03 18:45:06> Saving F:/AP_Paper_Benchmark/PXD015087_Thermo\\Hela_P035219_BA1_S00_A00_R17.ms_data.hdf - feature_table.\n",
      "2023-07-03 18:45:06> Saving F:/AP_Paper_Benchmark/PXD015087_Thermo\\Hela_P035219_BA1_S00_A00_R18.ms_data.hdf - peptide_fdr.\n",
      "2023-07-03 18:45:07> Saving F:/AP_Paper_Benchmark/PXD015087_Thermo\\Hela_P035219_BA1_S00_A00_R18.ms_data.hdf - feature_table.\n",
      "2023-07-03 18:45:07> Saving F:/AP_Paper_Benchmark/PXD015087_Thermo\\Hela_P035219_BA1_S00_A00_R19.ms_data.hdf - peptide_fdr.\n",
      "2023-07-03 18:45:08> Saving F:/AP_Paper_Benchmark/PXD015087_Thermo\\Hela_P035219_BA1_S00_A00_R19.ms_data.hdf - feature_table.\n",
      "2023-07-03 18:45:08> Saving F:/AP_Paper_Benchmark/PXD015087_Thermo\\Hela_P035219_BA1_S00_A00_R2.ms_data.hdf - peptide_fdr.\n",
      "2023-07-03 18:45:09> Saving F:/AP_Paper_Benchmark/PXD015087_Thermo\\Hela_P035219_BA1_S00_A00_R2.ms_data.hdf - feature_table.\n",
      "2023-07-03 18:45:09> Saving F:/AP_Paper_Benchmark/PXD015087_Thermo\\Hela_P035219_BA1_S00_A00_R20.ms_data.hdf - peptide_fdr.\n",
      "2023-07-03 18:45:10> Saving F:/AP_Paper_Benchmark/PXD015087_Thermo\\Hela_P035219_BA1_S00_A00_R20.ms_data.hdf - feature_table.\n",
      "2023-07-03 18:45:10> Saving F:/AP_Paper_Benchmark/PXD015087_Thermo\\Hela_P035219_BA1_S00_A00_R3.ms_data.hdf - peptide_fdr.\n",
      "2023-07-03 18:45:11> Saving F:/AP_Paper_Benchmark/PXD015087_Thermo\\Hela_P035219_BA1_S00_A00_R3.ms_data.hdf - feature_table.\n",
      "2023-07-03 18:45:11> Saving F:/AP_Paper_Benchmark/PXD015087_Thermo\\Hela_P035219_BA1_S00_A00_R4.ms_data.hdf - peptide_fdr.\n",
      "2023-07-03 18:45:11> Saving F:/AP_Paper_Benchmark/PXD015087_Thermo\\Hela_P035219_BA1_S00_A00_R4.ms_data.hdf - feature_table.\n",
      "2023-07-03 18:45:12> Saving F:/AP_Paper_Benchmark/PXD015087_Thermo\\Hela_P035219_BA1_S00_A00_R5.ms_data.hdf - peptide_fdr.\n",
      "2023-07-03 18:45:12> Saving F:/AP_Paper_Benchmark/PXD015087_Thermo\\Hela_P035219_BA1_S00_A00_R5.ms_data.hdf - feature_table.\n",
      "2023-07-03 18:45:13> Saving F:/AP_Paper_Benchmark/PXD015087_Thermo\\Hela_P035219_BA1_S00_A00_R6.ms_data.hdf - peptide_fdr.\n",
      "2023-07-03 18:45:13> Saving F:/AP_Paper_Benchmark/PXD015087_Thermo\\Hela_P035219_BA1_S00_A00_R6.ms_data.hdf - feature_table.\n",
      "2023-07-03 18:45:14> Saving F:/AP_Paper_Benchmark/PXD015087_Thermo\\Hela_P035219_BA1_S00_A00_R7.ms_data.hdf - peptide_fdr.\n",
      "2023-07-03 18:45:14> Saving F:/AP_Paper_Benchmark/PXD015087_Thermo\\Hela_P035219_BA1_S00_A00_R7.ms_data.hdf - feature_table.\n",
      "2023-07-03 18:45:15> Saving F:/AP_Paper_Benchmark/PXD015087_Thermo\\Hela_P035219_BA1_S00_A00_R8.ms_data.hdf - peptide_fdr.\n",
      "2023-07-03 18:45:15> Saving F:/AP_Paper_Benchmark/PXD015087_Thermo\\Hela_P035219_BA1_S00_A00_R8.ms_data.hdf - feature_table.\n",
      "2023-07-03 18:45:15> Saving F:/AP_Paper_Benchmark/PXD015087_Thermo\\Hela_P035219_BA1_S00_A00_R9.ms_data.hdf - peptide_fdr.\n",
      "2023-07-03 18:45:16> Saving F:/AP_Paper_Benchmark/PXD015087_Thermo\\Hela_P035219_BA1_S00_A00_R9.ms_data.hdf - feature_table.\n",
      "2023-07-03 18:45:16> Saving F:/AP_Paper_Benchmark/PXD015087_Thermo\\March_Hela_P035212_BA1_S00_A00_R1.ms_data.hdf - peptide_fdr.\n",
      "2023-07-03 18:45:17> Saving F:/AP_Paper_Benchmark/PXD015087_Thermo\\March_Hela_P035212_BA1_S00_A00_R1.ms_data.hdf - feature_table.\n",
      "2023-07-03 18:45:17> Saving F:/AP_Paper_Benchmark/PXD015087_Thermo\\March_Hela_P035212_BA1_S00_A00_R10.ms_data.hdf - peptide_fdr.\n",
      "2023-07-03 18:45:17> Saving F:/AP_Paper_Benchmark/PXD015087_Thermo\\March_Hela_P035212_BA1_S00_A00_R10.ms_data.hdf - feature_table.\n",
      "2023-07-03 18:45:17> Saving F:/AP_Paper_Benchmark/PXD015087_Thermo\\March_Hela_P035212_BA1_S00_A00_R11.ms_data.hdf - peptide_fdr.\n",
      "2023-07-03 18:45:18> Saving F:/AP_Paper_Benchmark/PXD015087_Thermo\\March_Hela_P035212_BA1_S00_A00_R11.ms_data.hdf - feature_table.\n",
      "2023-07-03 18:45:18> Saving F:/AP_Paper_Benchmark/PXD015087_Thermo\\March_Hela_P035212_BA1_S00_A00_R12.ms_data.hdf - peptide_fdr.\n",
      "2023-07-03 18:45:18> Saving F:/AP_Paper_Benchmark/PXD015087_Thermo\\March_Hela_P035212_BA1_S00_A00_R12.ms_data.hdf - feature_table.\n",
      "2023-07-03 18:45:19> Saving F:/AP_Paper_Benchmark/PXD015087_Thermo\\March_Hela_P035212_BA1_S00_A00_R13.ms_data.hdf - peptide_fdr.\n",
      "2023-07-03 18:45:19> Saving F:/AP_Paper_Benchmark/PXD015087_Thermo\\March_Hela_P035212_BA1_S00_A00_R13.ms_data.hdf - feature_table.\n",
      "2023-07-03 18:45:19> Saving F:/AP_Paper_Benchmark/PXD015087_Thermo\\March_Hela_P035212_BA1_S00_A00_R14.ms_data.hdf - peptide_fdr.\n",
      "2023-07-03 18:45:20> Saving F:/AP_Paper_Benchmark/PXD015087_Thermo\\March_Hela_P035212_BA1_S00_A00_R14.ms_data.hdf - feature_table.\n",
      "2023-07-03 18:45:20> Saving F:/AP_Paper_Benchmark/PXD015087_Thermo\\March_Hela_P035212_BA1_S00_A00_R15.ms_data.hdf - peptide_fdr.\n",
      "2023-07-03 18:45:20> Saving F:/AP_Paper_Benchmark/PXD015087_Thermo\\March_Hela_P035212_BA1_S00_A00_R15.ms_data.hdf - feature_table.\n",
      "2023-07-03 18:45:21> Saving F:/AP_Paper_Benchmark/PXD015087_Thermo\\March_Hela_P035212_BA1_S00_A00_R16.ms_data.hdf - peptide_fdr.\n",
      "2023-07-03 18:45:21> Saving F:/AP_Paper_Benchmark/PXD015087_Thermo\\March_Hela_P035212_BA1_S00_A00_R16.ms_data.hdf - feature_table.\n",
      "2023-07-03 18:45:21> Saving F:/AP_Paper_Benchmark/PXD015087_Thermo\\March_Hela_P035212_BA1_S00_A00_R17.ms_data.hdf - peptide_fdr.\n",
      "2023-07-03 18:45:22> Saving F:/AP_Paper_Benchmark/PXD015087_Thermo\\March_Hela_P035212_BA1_S00_A00_R17.ms_data.hdf - feature_table.\n",
      "2023-07-03 18:45:22> Saving F:/AP_Paper_Benchmark/PXD015087_Thermo\\March_Hela_P035212_BA1_S00_A00_R18.ms_data.hdf - peptide_fdr.\n",
      "2023-07-03 18:45:22> Saving F:/AP_Paper_Benchmark/PXD015087_Thermo\\March_Hela_P035212_BA1_S00_A00_R18.ms_data.hdf - feature_table.\n",
      "2023-07-03 18:45:22> Saving F:/AP_Paper_Benchmark/PXD015087_Thermo\\March_Hela_P035212_BA1_S00_A00_R19.ms_data.hdf - peptide_fdr.\n",
      "2023-07-03 18:45:23> Saving F:/AP_Paper_Benchmark/PXD015087_Thermo\\March_Hela_P035212_BA1_S00_A00_R19.ms_data.hdf - feature_table.\n",
      "2023-07-03 18:45:23> Saving F:/AP_Paper_Benchmark/PXD015087_Thermo\\March_Hela_P035212_BA1_S00_A00_R2.ms_data.hdf - peptide_fdr.\n",
      "2023-07-03 18:45:24> Saving F:/AP_Paper_Benchmark/PXD015087_Thermo\\March_Hela_P035212_BA1_S00_A00_R2.ms_data.hdf - feature_table.\n",
      "2023-07-03 18:45:24> Saving F:/AP_Paper_Benchmark/PXD015087_Thermo\\March_Hela_P035212_BA1_S00_A00_R20.ms_data.hdf - peptide_fdr.\n",
      "2023-07-03 18:45:24> Saving F:/AP_Paper_Benchmark/PXD015087_Thermo\\March_Hela_P035212_BA1_S00_A00_R20.ms_data.hdf - feature_table.\n",
      "2023-07-03 18:45:24> Saving F:/AP_Paper_Benchmark/PXD015087_Thermo\\March_Hela_P035212_BA1_S00_A00_R3.ms_data.hdf - peptide_fdr.\n",
      "2023-07-03 18:45:25> Saving F:/AP_Paper_Benchmark/PXD015087_Thermo\\March_Hela_P035212_BA1_S00_A00_R3.ms_data.hdf - feature_table.\n",
      "2023-07-03 18:45:25> Saving F:/AP_Paper_Benchmark/PXD015087_Thermo\\March_Hela_P035212_BA1_S00_A00_R4.ms_data.hdf - peptide_fdr.\n",
      "2023-07-03 18:45:25> Saving F:/AP_Paper_Benchmark/PXD015087_Thermo\\March_Hela_P035212_BA1_S00_A00_R4.ms_data.hdf - feature_table.\n",
      "2023-07-03 18:45:26> Saving F:/AP_Paper_Benchmark/PXD015087_Thermo\\March_Hela_P035212_BA1_S00_A00_R5.ms_data.hdf - peptide_fdr.\n",
      "2023-07-03 18:45:26> Saving F:/AP_Paper_Benchmark/PXD015087_Thermo\\March_Hela_P035212_BA1_S00_A00_R5.ms_data.hdf - feature_table.\n",
      "2023-07-03 18:45:26> Saving F:/AP_Paper_Benchmark/PXD015087_Thermo\\March_Hela_P035212_BA1_S00_A00_R6.ms_data.hdf - peptide_fdr.\n",
      "2023-07-03 18:45:27> Saving F:/AP_Paper_Benchmark/PXD015087_Thermo\\March_Hela_P035212_BA1_S00_A00_R6.ms_data.hdf - feature_table.\n",
      "2023-07-03 18:45:27> Saving F:/AP_Paper_Benchmark/PXD015087_Thermo\\March_Hela_P035212_BA1_S00_A00_R7.ms_data.hdf - peptide_fdr.\n"
     ]
    },
    {
     "name": "stdout",
     "output_type": "stream",
     "text": [
      "2023-07-03 18:45:27> Saving F:/AP_Paper_Benchmark/PXD015087_Thermo\\March_Hela_P035212_BA1_S00_A00_R7.ms_data.hdf - feature_table.\n",
      "2023-07-03 18:45:28> Saving F:/AP_Paper_Benchmark/PXD015087_Thermo\\March_Hela_P035212_BA1_S00_A00_R8.ms_data.hdf - peptide_fdr.\n",
      "2023-07-03 18:45:28> Saving F:/AP_Paper_Benchmark/PXD015087_Thermo\\March_Hela_P035212_BA1_S00_A00_R8.ms_data.hdf - feature_table.\n",
      "2023-07-03 18:45:28> Saving F:/AP_Paper_Benchmark/PXD015087_Thermo\\March_Hela_P035212_BA1_S00_A00_R9.ms_data.hdf - peptide_fdr.\n",
      "2023-07-03 18:45:29> Saving F:/AP_Paper_Benchmark/PXD015087_Thermo\\March_Hela_P035212_BA1_S00_A00_R9.ms_data.hdf - feature_table.\n",
      "2023-07-03 18:45:29> cache info: iteration 0 items 1 size 2029.0 kB\n",
      "2023-07-03 18:45:29> cache info: iteration 0 items 2 size 4103.5 kB\n",
      "2023-07-03 18:45:45> cache info: iteration 100 items 102 size 209973.5 kB\n",
      "2023-07-03 18:53:26> Total deviation after calibration {'mz': 0.029739647962441697, 'rt': 1312.3012763638808}\n",
      "2023-07-03 18:53:26> Mean deviation after calibration {'mz': 1.4944546714794823e-06, 'rt': 0.06594478775697893}\n",
      "2023-07-03 18:53:26> Change (after/before) total deviation {'mz': 0.9723410720156258, 'rt': 0.9936931813028341}\n",
      "2023-07-03 18:53:26> Change (after/before) mean deviation {'mz': 0.9723410720156259, 'rt': 0.993693181302834}\n",
      "2023-07-03 18:53:26> ==== match ====\n",
      "2023-07-03 18:53:26> Matching datasets.\n",
      "2023-07-03 18:53:26> A total of 1 matching groups set.\n",
      "2023-07-03 18:53:54> A total of 4,251,756 peptides for matching in peptide_fdr.\n",
      "2023-07-03 18:53:54> Matching group 0 with a tolerance of 0.\n",
      "2023-07-03 18:53:54> Matching from 200 files to 200 files.\n",
      "2023-07-03 18:53:54> Matching from ['Hela_P035210_BA1_S00_A00_R1', 'Hela_P035210_BA1_S00_A00_R10', 'Hela_P035210_BA1_S00_A00_R11', 'Hela_P035210_BA1_S00_A00_R12', 'Hela_P035210_BA1_S00_A00_R13', 'Hela_P035210_BA1_S00_A00_R14', 'Hela_P035210_BA1_S00_A00_R15', 'Hela_P035210_BA1_S00_A00_R16', 'Hela_P035210_BA1_S00_A00_R17', 'Hela_P035210_BA1_S00_A00_R18', 'Hela_P035210_BA1_S00_A00_R19', 'Hela_P035210_BA1_S00_A00_R2', 'Hela_P035210_BA1_S00_A00_R20', 'Hela_P035210_BA1_S00_A00_R3', 'Hela_P035210_BA1_S00_A00_R4', 'Hela_P035210_BA1_S00_A00_R5', 'Hela_P035210_BA1_S00_A00_R6', 'Hela_P035210_BA1_S00_A00_R7', 'Hela_P035210_BA1_S00_A00_R8', 'Hela_P035210_BA1_S00_A00_R9', 'Hela_P035211_BA1_S00_A00_R1', 'Hela_P035211_BA1_S00_A00_R10', 'Hela_P035211_BA1_S00_A00_R11', 'Hela_P035211_BA1_S00_A00_R12', 'Hela_P035211_BA1_S00_A00_R13', 'Hela_P035211_BA1_S00_A00_R14', 'Hela_P035211_BA1_S00_A00_R15', 'Hela_P035211_BA1_S00_A00_R16', 'Hela_P035211_BA1_S00_A00_R17', 'Hela_P035211_BA1_S00_A00_R18', 'Hela_P035211_BA1_S00_A00_R19', 'Hela_P035211_BA1_S00_A00_R2', 'Hela_P035211_BA1_S00_A00_R20', 'Hela_P035211_BA1_S00_A00_R3', 'Hela_P035211_BA1_S00_A00_R4', 'Hela_P035211_BA1_S00_A00_R5', 'Hela_P035211_BA1_S00_A00_R6', 'Hela_P035211_BA1_S00_A00_R7', 'Hela_P035211_BA1_S00_A00_R8', 'Hela_P035211_BA1_S00_A00_R9', 'Hela_P035213_BA1_S00_A00_R1', 'Hela_P035213_BA1_S00_A00_R10', 'Hela_P035213_BA1_S00_A00_R11', 'Hela_P035213_BA1_S00_A00_R12', 'Hela_P035213_BA1_S00_A00_R13', 'Hela_P035213_BA1_S00_A00_R14', 'Hela_P035213_BA1_S00_A00_R15', 'Hela_P035213_BA1_S00_A00_R16', 'Hela_P035213_BA1_S00_A00_R17', 'Hela_P035213_BA1_S00_A00_R18', 'Hela_P035213_BA1_S00_A00_R19', 'Hela_P035213_BA1_S00_A00_R2', 'Hela_P035213_BA1_S00_A00_R20', 'Hela_P035213_BA1_S00_A00_R3', 'Hela_P035213_BA1_S00_A00_R4', 'Hela_P035213_BA1_S00_A00_R5', 'Hela_P035213_BA1_S00_A00_R6', 'Hela_P035213_BA1_S00_A00_R7', 'Hela_P035213_BA1_S00_A00_R8', 'Hela_P035213_BA1_S00_A00_R9', 'Hela_P035214_BA1_S00_A00_R1', 'Hela_P035214_BA1_S00_A00_R10', 'Hela_P035214_BA1_S00_A00_R11', 'Hela_P035214_BA1_S00_A00_R12', 'Hela_P035214_BA1_S00_A00_R13', 'Hela_P035214_BA1_S00_A00_R14', 'Hela_P035214_BA1_S00_A00_R15', 'Hela_P035214_BA1_S00_A00_R16', 'Hela_P035214_BA1_S00_A00_R17', 'Hela_P035214_BA1_S00_A00_R18', 'Hela_P035214_BA1_S00_A00_R19', 'Hela_P035214_BA1_S00_A00_R2', 'Hela_P035214_BA1_S00_A00_R20', 'Hela_P035214_BA1_S00_A00_R3', 'Hela_P035214_BA1_S00_A00_R4', 'Hela_P035214_BA1_S00_A00_R5', 'Hela_P035214_BA1_S00_A00_R6', 'Hela_P035214_BA1_S00_A00_R7', 'Hela_P035214_BA1_S00_A00_R8', 'Hela_P035214_BA1_S00_A00_R9', 'Hela_P035215_BA1_S00_A00_R1', 'Hela_P035215_BA1_S00_A00_R10', 'Hela_P035215_BA1_S00_A00_R11', 'Hela_P035215_BA1_S00_A00_R12', 'Hela_P035215_BA1_S00_A00_R13', 'Hela_P035215_BA1_S00_A00_R14', 'Hela_P035215_BA1_S00_A00_R15', 'Hela_P035215_BA1_S00_A00_R16', 'Hela_P035215_BA1_S00_A00_R17', 'Hela_P035215_BA1_S00_A00_R18', 'Hela_P035215_BA1_S00_A00_R19', 'Hela_P035215_BA1_S00_A00_R2', 'Hela_P035215_BA1_S00_A00_R20', 'Hela_P035215_BA1_S00_A00_R3', 'Hela_P035215_BA1_S00_A00_R4', 'Hela_P035215_BA1_S00_A00_R5', 'Hela_P035215_BA1_S00_A00_R6', 'Hela_P035215_BA1_S00_A00_R7', 'Hela_P035215_BA1_S00_A00_R8', 'Hela_P035215_BA1_S00_A00_R9', 'Hela_P035216_BA1_S00_A00_R1', 'Hela_P035216_BA1_S00_A00_R10', 'Hela_P035216_BA1_S00_A00_R11', 'Hela_P035216_BA1_S00_A00_R12', 'Hela_P035216_BA1_S00_A00_R13', 'Hela_P035216_BA1_S00_A00_R14', 'Hela_P035216_BA1_S00_A00_R15', 'Hela_P035216_BA1_S00_A00_R16', 'Hela_P035216_BA1_S00_A00_R17', 'Hela_P035216_BA1_S00_A00_R18', 'Hela_P035216_BA1_S00_A00_R19', 'Hela_P035216_BA1_S00_A00_R2', 'Hela_P035216_BA1_S00_A00_R20', 'Hela_P035216_BA1_S00_A00_R3', 'Hela_P035216_BA1_S00_A00_R4', 'Hela_P035216_BA1_S00_A00_R5', 'Hela_P035216_BA1_S00_A00_R6', 'Hela_P035216_BA1_S00_A00_R7', 'Hela_P035216_BA1_S00_A00_R8', 'Hela_P035216_BA1_S00_A00_R9', 'Hela_P035217_BA1_S00_A00_R1', 'Hela_P035217_BA1_S00_A00_R10', 'Hela_P035217_BA1_S00_A00_R11', 'Hela_P035217_BA1_S00_A00_R12', 'Hela_P035217_BA1_S00_A00_R13', 'Hela_P035217_BA1_S00_A00_R14', 'Hela_P035217_BA1_S00_A00_R15', 'Hela_P035217_BA1_S00_A00_R16', 'Hela_P035217_BA1_S00_A00_R17', 'Hela_P035217_BA1_S00_A00_R18', 'Hela_P035217_BA1_S00_A00_R19', 'Hela_P035217_BA1_S00_A00_R2', 'Hela_P035217_BA1_S00_A00_R20', 'Hela_P035217_BA1_S00_A00_R21', 'Hela_P035217_BA1_S00_A00_R3', 'Hela_P035217_BA1_S00_A00_R5', 'Hela_P035217_BA1_S00_A00_R6', 'Hela_P035217_BA1_S00_A00_R7', 'Hela_P035217_BA1_S00_A00_R8', 'Hela_P035217_BA1_S00_A00_R9', 'Hela_P035218_BA1_S00_A00_R1', 'Hela_P035218_BA1_S00_A00_R10', 'Hela_P035218_BA1_S00_A00_R11', 'Hela_P035218_BA1_S00_A00_R12', 'Hela_P035218_BA1_S00_A00_R13', 'Hela_P035218_BA1_S00_A00_R14', 'Hela_P035218_BA1_S00_A00_R15', 'Hela_P035218_BA1_S00_A00_R16', 'Hela_P035218_BA1_S00_A00_R17', 'Hela_P035218_BA1_S00_A00_R18', 'Hela_P035218_BA1_S00_A00_R19', 'Hela_P035218_BA1_S00_A00_R2', 'Hela_P035218_BA1_S00_A00_R20', 'Hela_P035218_BA1_S00_A00_R3', 'Hela_P035218_BA1_S00_A00_R4', 'Hela_P035218_BA1_S00_A00_R5', 'Hela_P035218_BA1_S00_A00_R6', 'Hela_P035218_BA1_S00_A00_R7', 'Hela_P035218_BA1_S00_A00_R8', 'Hela_P035218_BA1_S00_A00_R9', 'Hela_P035219_BA1_S00_A00_R1', 'Hela_P035219_BA1_S00_A00_R10', 'Hela_P035219_BA1_S00_A00_R11', 'Hela_P035219_BA1_S00_A00_R12', 'Hela_P035219_BA1_S00_A00_R13', 'Hela_P035219_BA1_S00_A00_R14', 'Hela_P035219_BA1_S00_A00_R15', 'Hela_P035219_BA1_S00_A00_R16', 'Hela_P035219_BA1_S00_A00_R17', 'Hela_P035219_BA1_S00_A00_R18', 'Hela_P035219_BA1_S00_A00_R19', 'Hela_P035219_BA1_S00_A00_R2', 'Hela_P035219_BA1_S00_A00_R20', 'Hela_P035219_BA1_S00_A00_R3', 'Hela_P035219_BA1_S00_A00_R4', 'Hela_P035219_BA1_S00_A00_R5', 'Hela_P035219_BA1_S00_A00_R6', 'Hela_P035219_BA1_S00_A00_R7', 'Hela_P035219_BA1_S00_A00_R8', 'Hela_P035219_BA1_S00_A00_R9', 'March_Hela_P035212_BA1_S00_A00_R1', 'March_Hela_P035212_BA1_S00_A00_R10', 'March_Hela_P035212_BA1_S00_A00_R11', 'March_Hela_P035212_BA1_S00_A00_R12', 'March_Hela_P035212_BA1_S00_A00_R13', 'March_Hela_P035212_BA1_S00_A00_R14', 'March_Hela_P035212_BA1_S00_A00_R15', 'March_Hela_P035212_BA1_S00_A00_R16', 'March_Hela_P035212_BA1_S00_A00_R17', 'March_Hela_P035212_BA1_S00_A00_R18', 'March_Hela_P035212_BA1_S00_A00_R19', 'March_Hela_P035212_BA1_S00_A00_R2', 'March_Hela_P035212_BA1_S00_A00_R20', 'March_Hela_P035212_BA1_S00_A00_R3', 'March_Hela_P035212_BA1_S00_A00_R4', 'March_Hela_P035212_BA1_S00_A00_R5', 'March_Hela_P035212_BA1_S00_A00_R6', 'March_Hela_P035212_BA1_S00_A00_R7', 'March_Hela_P035212_BA1_S00_A00_R8', 'March_Hela_P035212_BA1_S00_A00_R9'] to ['Hela_P035210_BA1_S00_A00_R1', 'Hela_P035210_BA1_S00_A00_R10', 'Hela_P035210_BA1_S00_A00_R11', 'Hela_P035210_BA1_S00_A00_R12', 'Hela_P035210_BA1_S00_A00_R13', 'Hela_P035210_BA1_S00_A00_R14', 'Hela_P035210_BA1_S00_A00_R15', 'Hela_P035210_BA1_S00_A00_R16', 'Hela_P035210_BA1_S00_A00_R17', 'Hela_P035210_BA1_S00_A00_R18', 'Hela_P035210_BA1_S00_A00_R19', 'Hela_P035210_BA1_S00_A00_R2', 'Hela_P035210_BA1_S00_A00_R20', 'Hela_P035210_BA1_S00_A00_R3', 'Hela_P035210_BA1_S00_A00_R4', 'Hela_P035210_BA1_S00_A00_R5', 'Hela_P035210_BA1_S00_A00_R6', 'Hela_P035210_BA1_S00_A00_R7', 'Hela_P035210_BA1_S00_A00_R8', 'Hela_P035210_BA1_S00_A00_R9', 'Hela_P035211_BA1_S00_A00_R1', 'Hela_P035211_BA1_S00_A00_R10', 'Hela_P035211_BA1_S00_A00_R11', 'Hela_P035211_BA1_S00_A00_R12', 'Hela_P035211_BA1_S00_A00_R13', 'Hela_P035211_BA1_S00_A00_R14', 'Hela_P035211_BA1_S00_A00_R15', 'Hela_P035211_BA1_S00_A00_R16', 'Hela_P035211_BA1_S00_A00_R17', 'Hela_P035211_BA1_S00_A00_R18', 'Hela_P035211_BA1_S00_A00_R19', 'Hela_P035211_BA1_S00_A00_R2', 'Hela_P035211_BA1_S00_A00_R20', 'Hela_P035211_BA1_S00_A00_R3', 'Hela_P035211_BA1_S00_A00_R4', 'Hela_P035211_BA1_S00_A00_R5', 'Hela_P035211_BA1_S00_A00_R6', 'Hela_P035211_BA1_S00_A00_R7', 'Hela_P035211_BA1_S00_A00_R8', 'Hela_P035211_BA1_S00_A00_R9', 'Hela_P035213_BA1_S00_A00_R1', 'Hela_P035213_BA1_S00_A00_R10', 'Hela_P035213_BA1_S00_A00_R11', 'Hela_P035213_BA1_S00_A00_R12', 'Hela_P035213_BA1_S00_A00_R13', 'Hela_P035213_BA1_S00_A00_R14', 'Hela_P035213_BA1_S00_A00_R15', 'Hela_P035213_BA1_S00_A00_R16', 'Hela_P035213_BA1_S00_A00_R17', 'Hela_P035213_BA1_S00_A00_R18', 'Hela_P035213_BA1_S00_A00_R19', 'Hela_P035213_BA1_S00_A00_R2', 'Hela_P035213_BA1_S00_A00_R20', 'Hela_P035213_BA1_S00_A00_R3', 'Hela_P035213_BA1_S00_A00_R4', 'Hela_P035213_BA1_S00_A00_R5', 'Hela_P035213_BA1_S00_A00_R6', 'Hela_P035213_BA1_S00_A00_R7', 'Hela_P035213_BA1_S00_A00_R8', 'Hela_P035213_BA1_S00_A00_R9', 'Hela_P035214_BA1_S00_A00_R1', 'Hela_P035214_BA1_S00_A00_R10', 'Hela_P035214_BA1_S00_A00_R11', 'Hela_P035214_BA1_S00_A00_R12', 'Hela_P035214_BA1_S00_A00_R13', 'Hela_P035214_BA1_S00_A00_R14', 'Hela_P035214_BA1_S00_A00_R15', 'Hela_P035214_BA1_S00_A00_R16', 'Hela_P035214_BA1_S00_A00_R17', 'Hela_P035214_BA1_S00_A00_R18', 'Hela_P035214_BA1_S00_A00_R19', 'Hela_P035214_BA1_S00_A00_R2', 'Hela_P035214_BA1_S00_A00_R20', 'Hela_P035214_BA1_S00_A00_R3', 'Hela_P035214_BA1_S00_A00_R4', 'Hela_P035214_BA1_S00_A00_R5', 'Hela_P035214_BA1_S00_A00_R6', 'Hela_P035214_BA1_S00_A00_R7', 'Hela_P035214_BA1_S00_A00_R8', 'Hela_P035214_BA1_S00_A00_R9', 'Hela_P035215_BA1_S00_A00_R1', 'Hela_P035215_BA1_S00_A00_R10', 'Hela_P035215_BA1_S00_A00_R11', 'Hela_P035215_BA1_S00_A00_R12', 'Hela_P035215_BA1_S00_A00_R13', 'Hela_P035215_BA1_S00_A00_R14', 'Hela_P035215_BA1_S00_A00_R15', 'Hela_P035215_BA1_S00_A00_R16', 'Hela_P035215_BA1_S00_A00_R17', 'Hela_P035215_BA1_S00_A00_R18', 'Hela_P035215_BA1_S00_A00_R19', 'Hela_P035215_BA1_S00_A00_R2', 'Hela_P035215_BA1_S00_A00_R20', 'Hela_P035215_BA1_S00_A00_R3', 'Hela_P035215_BA1_S00_A00_R4', 'Hela_P035215_BA1_S00_A00_R5', 'Hela_P035215_BA1_S00_A00_R6', 'Hela_P035215_BA1_S00_A00_R7', 'Hela_P035215_BA1_S00_A00_R8', 'Hela_P035215_BA1_S00_A00_R9', 'Hela_P035216_BA1_S00_A00_R1', 'Hela_P035216_BA1_S00_A00_R10', 'Hela_P035216_BA1_S00_A00_R11', 'Hela_P035216_BA1_S00_A00_R12', 'Hela_P035216_BA1_S00_A00_R13', 'Hela_P035216_BA1_S00_A00_R14', 'Hela_P035216_BA1_S00_A00_R15', 'Hela_P035216_BA1_S00_A00_R16', 'Hela_P035216_BA1_S00_A00_R17', 'Hela_P035216_BA1_S00_A00_R18', 'Hela_P035216_BA1_S00_A00_R19', 'Hela_P035216_BA1_S00_A00_R2', 'Hela_P035216_BA1_S00_A00_R20', 'Hela_P035216_BA1_S00_A00_R3', 'Hela_P035216_BA1_S00_A00_R4', 'Hela_P035216_BA1_S00_A00_R5', 'Hela_P035216_BA1_S00_A00_R6', 'Hela_P035216_BA1_S00_A00_R7', 'Hela_P035216_BA1_S00_A00_R8', 'Hela_P035216_BA1_S00_A00_R9', 'Hela_P035217_BA1_S00_A00_R1', 'Hela_P035217_BA1_S00_A00_R10', 'Hela_P035217_BA1_S00_A00_R11', 'Hela_P035217_BA1_S00_A00_R12', 'Hela_P035217_BA1_S00_A00_R13', 'Hela_P035217_BA1_S00_A00_R14', 'Hela_P035217_BA1_S00_A00_R15', 'Hela_P035217_BA1_S00_A00_R16', 'Hela_P035217_BA1_S00_A00_R17', 'Hela_P035217_BA1_S00_A00_R18', 'Hela_P035217_BA1_S00_A00_R19', 'Hela_P035217_BA1_S00_A00_R2', 'Hela_P035217_BA1_S00_A00_R20', 'Hela_P035217_BA1_S00_A00_R21', 'Hela_P035217_BA1_S00_A00_R3', 'Hela_P035217_BA1_S00_A00_R5', 'Hela_P035217_BA1_S00_A00_R6', 'Hela_P035217_BA1_S00_A00_R7', 'Hela_P035217_BA1_S00_A00_R8', 'Hela_P035217_BA1_S00_A00_R9', 'Hela_P035218_BA1_S00_A00_R1', 'Hela_P035218_BA1_S00_A00_R10', 'Hela_P035218_BA1_S00_A00_R11', 'Hela_P035218_BA1_S00_A00_R12', 'Hela_P035218_BA1_S00_A00_R13', 'Hela_P035218_BA1_S00_A00_R14', 'Hela_P035218_BA1_S00_A00_R15', 'Hela_P035218_BA1_S00_A00_R16', 'Hela_P035218_BA1_S00_A00_R17', 'Hela_P035218_BA1_S00_A00_R18', 'Hela_P035218_BA1_S00_A00_R19', 'Hela_P035218_BA1_S00_A00_R2', 'Hela_P035218_BA1_S00_A00_R20', 'Hela_P035218_BA1_S00_A00_R3', 'Hela_P035218_BA1_S00_A00_R4', 'Hela_P035218_BA1_S00_A00_R5', 'Hela_P035218_BA1_S00_A00_R6', 'Hela_P035218_BA1_S00_A00_R7', 'Hela_P035218_BA1_S00_A00_R8', 'Hela_P035218_BA1_S00_A00_R9', 'Hela_P035219_BA1_S00_A00_R1', 'Hela_P035219_BA1_S00_A00_R10', 'Hela_P035219_BA1_S00_A00_R11', 'Hela_P035219_BA1_S00_A00_R12', 'Hela_P035219_BA1_S00_A00_R13', 'Hela_P035219_BA1_S00_A00_R14', 'Hela_P035219_BA1_S00_A00_R15', 'Hela_P035219_BA1_S00_A00_R16', 'Hela_P035219_BA1_S00_A00_R17', 'Hela_P035219_BA1_S00_A00_R18', 'Hela_P035219_BA1_S00_A00_R19', 'Hela_P035219_BA1_S00_A00_R2', 'Hela_P035219_BA1_S00_A00_R20', 'Hela_P035219_BA1_S00_A00_R3', 'Hela_P035219_BA1_S00_A00_R4', 'Hela_P035219_BA1_S00_A00_R5', 'Hela_P035219_BA1_S00_A00_R6', 'Hela_P035219_BA1_S00_A00_R7', 'Hela_P035219_BA1_S00_A00_R8', 'Hela_P035219_BA1_S00_A00_R9', 'March_Hela_P035212_BA1_S00_A00_R1', 'March_Hela_P035212_BA1_S00_A00_R10', 'March_Hela_P035212_BA1_S00_A00_R11', 'March_Hela_P035212_BA1_S00_A00_R12', 'March_Hela_P035212_BA1_S00_A00_R13', 'March_Hela_P035212_BA1_S00_A00_R14', 'March_Hela_P035212_BA1_S00_A00_R15', 'March_Hela_P035212_BA1_S00_A00_R16', 'March_Hela_P035212_BA1_S00_A00_R17', 'March_Hela_P035212_BA1_S00_A00_R18', 'March_Hela_P035212_BA1_S00_A00_R19', 'March_Hela_P035212_BA1_S00_A00_R2', 'March_Hela_P035212_BA1_S00_A00_R20', 'March_Hela_P035212_BA1_S00_A00_R3', 'March_Hela_P035212_BA1_S00_A00_R4', 'March_Hela_P035212_BA1_S00_A00_R5', 'March_Hela_P035212_BA1_S00_A00_R6', 'March_Hela_P035212_BA1_S00_A00_R7', 'March_Hela_P035212_BA1_S00_A00_R8', 'March_Hela_P035212_BA1_S00_A00_R9'].\n"
     ]
    },
    {
     "name": "stdout",
     "output_type": "stream",
     "text": [
      "2023-07-03 18:54:16> Trying to match file F:/AP_Paper_Benchmark/PXD015087_Thermo\\Hela_P035210_BA1_S00_A00_R1.ms_data.hdf with database of 43,049 unidentified candidates\n",
      "2023-07-03 18:54:16> 13,603 possible features for matching based on distance of 3\n",
      "2023-07-03 18:54:27> 6,326 possible features for matching based on probability of 0.05\n",
      "2023-07-03 18:54:27> Saving F:/AP_Paper_Benchmark/PXD015087_Thermo\\Hela_P035210_BA1_S00_A00_R1.ms_data.hdf - peptide_fdr.\n",
      "2023-07-03 18:54:28> Trying to match file F:/AP_Paper_Benchmark/PXD015087_Thermo\\Hela_P035210_BA1_S00_A00_R10.ms_data.hdf with database of 42,529 unidentified candidates\n",
      "2023-07-03 18:54:28> 13,807 possible features for matching based on distance of 3\n",
      "2023-07-03 18:54:40> 5,567 possible features for matching based on probability of 0.05\n",
      "2023-07-03 18:54:40> Saving F:/AP_Paper_Benchmark/PXD015087_Thermo\\Hela_P035210_BA1_S00_A00_R10.ms_data.hdf - peptide_fdr.\n",
      "2023-07-03 18:54:41> Trying to match file F:/AP_Paper_Benchmark/PXD015087_Thermo\\Hela_P035210_BA1_S00_A00_R11.ms_data.hdf with database of 42,683 unidentified candidates\n",
      "2023-07-03 18:54:41> 14,831 possible features for matching based on distance of 3\n",
      "2023-07-03 18:54:54> 6,875 possible features for matching based on probability of 0.05\n",
      "2023-07-03 18:54:54> Saving F:/AP_Paper_Benchmark/PXD015087_Thermo\\Hela_P035210_BA1_S00_A00_R11.ms_data.hdf - peptide_fdr.\n",
      "2023-07-03 18:54:54> Trying to match file F:/AP_Paper_Benchmark/PXD015087_Thermo\\Hela_P035210_BA1_S00_A00_R12.ms_data.hdf with database of 42,619 unidentified candidates\n",
      "2023-07-03 18:54:55> 15,369 possible features for matching based on distance of 3\n",
      "2023-07-03 18:55:10> 7,915 possible features for matching based on probability of 0.05\n",
      "2023-07-03 18:55:10> Saving F:/AP_Paper_Benchmark/PXD015087_Thermo\\Hela_P035210_BA1_S00_A00_R12.ms_data.hdf - peptide_fdr.\n",
      "2023-07-03 18:55:11> Trying to match file F:/AP_Paper_Benchmark/PXD015087_Thermo\\Hela_P035210_BA1_S00_A00_R13.ms_data.hdf with database of 42,126 unidentified candidates\n",
      "2023-07-03 18:55:11> 15,573 possible features for matching based on distance of 3\n",
      "2023-07-03 18:55:24> 8,231 possible features for matching based on probability of 0.05\n",
      "2023-07-03 18:55:24> Saving F:/AP_Paper_Benchmark/PXD015087_Thermo\\Hela_P035210_BA1_S00_A00_R13.ms_data.hdf - peptide_fdr.\n",
      "2023-07-03 18:55:25> Trying to match file F:/AP_Paper_Benchmark/PXD015087_Thermo\\Hela_P035210_BA1_S00_A00_R14.ms_data.hdf with database of 43,011 unidentified candidates\n",
      "2023-07-03 18:55:25> 15,561 possible features for matching based on distance of 3\n",
      "2023-07-03 18:55:38> 7,346 possible features for matching based on probability of 0.05\n",
      "2023-07-03 18:55:38> Saving F:/AP_Paper_Benchmark/PXD015087_Thermo\\Hela_P035210_BA1_S00_A00_R14.ms_data.hdf - peptide_fdr.\n",
      "2023-07-03 18:55:39> Trying to match file F:/AP_Paper_Benchmark/PXD015087_Thermo\\Hela_P035210_BA1_S00_A00_R15.ms_data.hdf with database of 42,689 unidentified candidates\n",
      "2023-07-03 18:55:39> 15,246 possible features for matching based on distance of 3\n",
      "2023-07-03 18:55:52> 7,217 possible features for matching based on probability of 0.05\n",
      "2023-07-03 18:55:52> Saving F:/AP_Paper_Benchmark/PXD015087_Thermo\\Hela_P035210_BA1_S00_A00_R15.ms_data.hdf - peptide_fdr.\n",
      "2023-07-03 18:55:53> Trying to match file F:/AP_Paper_Benchmark/PXD015087_Thermo\\Hela_P035210_BA1_S00_A00_R16.ms_data.hdf with database of 43,044 unidentified candidates\n",
      "2023-07-03 18:55:54> 17,577 possible features for matching based on distance of 3\n",
      "2023-07-03 18:56:08> 9,086 possible features for matching based on probability of 0.05\n",
      "2023-07-03 18:56:08> Saving F:/AP_Paper_Benchmark/PXD015087_Thermo\\Hela_P035210_BA1_S00_A00_R16.ms_data.hdf - peptide_fdr.\n",
      "2023-07-03 18:56:09> Trying to match file F:/AP_Paper_Benchmark/PXD015087_Thermo\\Hela_P035210_BA1_S00_A00_R17.ms_data.hdf with database of 42,863 unidentified candidates\n",
      "2023-07-03 18:56:10> 16,499 possible features for matching based on distance of 3\n",
      "2023-07-03 18:56:27> 8,354 possible features for matching based on probability of 0.05\n",
      "2023-07-03 18:56:27> Saving F:/AP_Paper_Benchmark/PXD015087_Thermo\\Hela_P035210_BA1_S00_A00_R17.ms_data.hdf - peptide_fdr.\n",
      "2023-07-03 18:56:28> Trying to match file F:/AP_Paper_Benchmark/PXD015087_Thermo\\Hela_P035210_BA1_S00_A00_R18.ms_data.hdf with database of 42,751 unidentified candidates\n",
      "2023-07-03 18:56:28> 13,622 possible features for matching based on distance of 3\n",
      "2023-07-03 18:56:40> 5,419 possible features for matching based on probability of 0.05\n",
      "2023-07-03 18:56:40> Saving F:/AP_Paper_Benchmark/PXD015087_Thermo\\Hela_P035210_BA1_S00_A00_R18.ms_data.hdf - peptide_fdr.\n",
      "2023-07-03 18:56:40> Trying to match file F:/AP_Paper_Benchmark/PXD015087_Thermo\\Hela_P035210_BA1_S00_A00_R19.ms_data.hdf with database of 42,905 unidentified candidates\n",
      "2023-07-03 18:56:41> 10,467 possible features for matching based on distance of 3\n",
      "2023-07-03 18:56:50> 2,454 possible features for matching based on probability of 0.05\n",
      "2023-07-03 18:56:50> Saving F:/AP_Paper_Benchmark/PXD015087_Thermo\\Hela_P035210_BA1_S00_A00_R19.ms_data.hdf - peptide_fdr.\n",
      "2023-07-03 18:56:51> Trying to match file F:/AP_Paper_Benchmark/PXD015087_Thermo\\Hela_P035210_BA1_S00_A00_R2.ms_data.hdf with database of 42,611 unidentified candidates\n",
      "2023-07-03 18:56:51> 13,598 possible features for matching based on distance of 3\n",
      "2023-07-03 18:57:02> 6,136 possible features for matching based on probability of 0.05\n",
      "2023-07-03 18:57:02> Saving F:/AP_Paper_Benchmark/PXD015087_Thermo\\Hela_P035210_BA1_S00_A00_R2.ms_data.hdf - peptide_fdr.\n",
      "2023-07-03 18:57:03> Trying to match file F:/AP_Paper_Benchmark/PXD015087_Thermo\\Hela_P035210_BA1_S00_A00_R20.ms_data.hdf with database of 43,171 unidentified candidates\n",
      "2023-07-03 18:57:04> 10,865 possible features for matching based on distance of 3\n",
      "2023-07-03 18:57:14> 2,132 possible features for matching based on probability of 0.05\n",
      "2023-07-03 18:57:14> Saving F:/AP_Paper_Benchmark/PXD015087_Thermo\\Hela_P035210_BA1_S00_A00_R20.ms_data.hdf - peptide_fdr.\n",
      "2023-07-03 18:57:15> Trying to match file F:/AP_Paper_Benchmark/PXD015087_Thermo\\Hela_P035210_BA1_S00_A00_R3.ms_data.hdf with database of 42,478 unidentified candidates\n",
      "2023-07-03 18:57:15> 12,673 possible features for matching based on distance of 3\n",
      "2023-07-03 18:57:26> 4,456 possible features for matching based on probability of 0.05\n",
      "2023-07-03 18:57:26> Saving F:/AP_Paper_Benchmark/PXD015087_Thermo\\Hela_P035210_BA1_S00_A00_R3.ms_data.hdf - peptide_fdr.\n",
      "2023-07-03 18:57:27> Trying to match file F:/AP_Paper_Benchmark/PXD015087_Thermo\\Hela_P035210_BA1_S00_A00_R4.ms_data.hdf with database of 42,812 unidentified candidates\n",
      "2023-07-03 18:57:27> 13,788 possible features for matching based on distance of 3\n",
      "2023-07-03 18:57:39> 4,932 possible features for matching based on probability of 0.05\n",
      "2023-07-03 18:57:39> Saving F:/AP_Paper_Benchmark/PXD015087_Thermo\\Hela_P035210_BA1_S00_A00_R4.ms_data.hdf - peptide_fdr.\n",
      "2023-07-03 18:57:39> Trying to match file F:/AP_Paper_Benchmark/PXD015087_Thermo\\Hela_P035210_BA1_S00_A00_R5.ms_data.hdf with database of 42,798 unidentified candidates\n",
      "2023-07-03 18:57:40> 14,424 possible features for matching based on distance of 3\n",
      "2023-07-03 18:57:52> 5,927 possible features for matching based on probability of 0.05\n",
      "2023-07-03 18:57:52> Saving F:/AP_Paper_Benchmark/PXD015087_Thermo\\Hela_P035210_BA1_S00_A00_R5.ms_data.hdf - peptide_fdr.\n",
      "2023-07-03 18:57:53> Trying to match file F:/AP_Paper_Benchmark/PXD015087_Thermo\\Hela_P035210_BA1_S00_A00_R6.ms_data.hdf with database of 42,546 unidentified candidates\n",
      "2023-07-03 18:57:53> 15,333 possible features for matching based on distance of 3\n",
      "2023-07-03 18:58:06> 6,850 possible features for matching based on probability of 0.05\n",
      "2023-07-03 18:58:06> Saving F:/AP_Paper_Benchmark/PXD015087_Thermo\\Hela_P035210_BA1_S00_A00_R6.ms_data.hdf - peptide_fdr.\n",
      "2023-07-03 18:58:07> Trying to match file F:/AP_Paper_Benchmark/PXD015087_Thermo\\Hela_P035210_BA1_S00_A00_R7.ms_data.hdf with database of 42,552 unidentified candidates\n",
      "2023-07-03 18:58:08> 14,342 possible features for matching based on distance of 3\n",
      "2023-07-03 18:58:20> 6,265 possible features for matching based on probability of 0.05\n",
      "2023-07-03 18:58:20> Saving F:/AP_Paper_Benchmark/PXD015087_Thermo\\Hela_P035210_BA1_S00_A00_R7.ms_data.hdf - peptide_fdr.\n"
     ]
    },
    {
     "name": "stdout",
     "output_type": "stream",
     "text": [
      "2023-07-03 18:58:21> Trying to match file F:/AP_Paper_Benchmark/PXD015087_Thermo\\Hela_P035210_BA1_S00_A00_R8.ms_data.hdf with database of 42,754 unidentified candidates\n",
      "2023-07-03 18:58:21> 13,519 possible features for matching based on distance of 3\n",
      "2023-07-03 18:58:32> 5,597 possible features for matching based on probability of 0.05\n",
      "2023-07-03 18:58:32> Saving F:/AP_Paper_Benchmark/PXD015087_Thermo\\Hela_P035210_BA1_S00_A00_R8.ms_data.hdf - peptide_fdr.\n",
      "2023-07-03 18:58:33> Trying to match file F:/AP_Paper_Benchmark/PXD015087_Thermo\\Hela_P035210_BA1_S00_A00_R9.ms_data.hdf with database of 42,657 unidentified candidates\n",
      "2023-07-03 18:58:33> 25,124 possible features for matching based on distance of 3\n",
      "2023-07-03 18:58:55> 6,753 possible features for matching based on probability of 0.05\n",
      "2023-07-03 18:58:55> Saving F:/AP_Paper_Benchmark/PXD015087_Thermo\\Hela_P035210_BA1_S00_A00_R9.ms_data.hdf - peptide_fdr.\n",
      "2023-07-03 18:58:56> Trying to match file F:/AP_Paper_Benchmark/PXD015087_Thermo\\Hela_P035211_BA1_S00_A00_R1.ms_data.hdf with database of 40,994 unidentified candidates\n",
      "2023-07-03 18:58:56> 23,323 possible features for matching based on distance of 3\n",
      "2023-07-03 18:59:17> 8,894 possible features for matching based on probability of 0.05\n",
      "2023-07-03 18:59:17> Saving F:/AP_Paper_Benchmark/PXD015087_Thermo\\Hela_P035211_BA1_S00_A00_R1.ms_data.hdf - peptide_fdr.\n",
      "2023-07-03 18:59:17> Trying to match file F:/AP_Paper_Benchmark/PXD015087_Thermo\\Hela_P035211_BA1_S00_A00_R10.ms_data.hdf with database of 41,455 unidentified candidates\n",
      "2023-07-03 18:59:18> 23,806 possible features for matching based on distance of 3\n",
      "2023-07-03 18:59:38> 9,882 possible features for matching based on probability of 0.05\n",
      "2023-07-03 18:59:38> Saving F:/AP_Paper_Benchmark/PXD015087_Thermo\\Hela_P035211_BA1_S00_A00_R10.ms_data.hdf - peptide_fdr.\n",
      "2023-07-03 18:59:39> Trying to match file F:/AP_Paper_Benchmark/PXD015087_Thermo\\Hela_P035211_BA1_S00_A00_R11.ms_data.hdf with database of 41,665 unidentified candidates\n",
      "2023-07-03 18:59:40> 24,388 possible features for matching based on distance of 3\n",
      "2023-07-03 19:00:02> 10,712 possible features for matching based on probability of 0.05\n",
      "2023-07-03 19:00:02> Saving F:/AP_Paper_Benchmark/PXD015087_Thermo\\Hela_P035211_BA1_S00_A00_R11.ms_data.hdf - peptide_fdr.\n",
      "2023-07-03 19:00:03> Trying to match file F:/AP_Paper_Benchmark/PXD015087_Thermo\\Hela_P035211_BA1_S00_A00_R12.ms_data.hdf with database of 41,839 unidentified candidates\n",
      "2023-07-03 19:00:03> 24,773 possible features for matching based on distance of 3\n",
      "2023-07-03 19:00:25> 11,513 possible features for matching based on probability of 0.05\n",
      "2023-07-03 19:00:25> Saving F:/AP_Paper_Benchmark/PXD015087_Thermo\\Hela_P035211_BA1_S00_A00_R12.ms_data.hdf - peptide_fdr.\n",
      "2023-07-03 19:00:26> Trying to match file F:/AP_Paper_Benchmark/PXD015087_Thermo\\Hela_P035211_BA1_S00_A00_R13.ms_data.hdf with database of 42,234 unidentified candidates\n",
      "2023-07-03 19:00:26> 25,476 possible features for matching based on distance of 3\n",
      "2023-07-03 19:00:48> 11,034 possible features for matching based on probability of 0.05\n",
      "2023-07-03 19:00:48> Saving F:/AP_Paper_Benchmark/PXD015087_Thermo\\Hela_P035211_BA1_S00_A00_R13.ms_data.hdf - peptide_fdr.\n",
      "2023-07-03 19:00:49> Trying to match file F:/AP_Paper_Benchmark/PXD015087_Thermo\\Hela_P035211_BA1_S00_A00_R14.ms_data.hdf with database of 42,725 unidentified candidates\n",
      "2023-07-03 19:00:50> 25,172 possible features for matching based on distance of 3\n",
      "2023-07-03 19:01:12> 10,967 possible features for matching based on probability of 0.05\n",
      "2023-07-03 19:01:12> Saving F:/AP_Paper_Benchmark/PXD015087_Thermo\\Hela_P035211_BA1_S00_A00_R14.ms_data.hdf - peptide_fdr.\n",
      "2023-07-03 19:01:13> Trying to match file F:/AP_Paper_Benchmark/PXD015087_Thermo\\Hela_P035211_BA1_S00_A00_R15.ms_data.hdf with database of 43,228 unidentified candidates\n",
      "2023-07-03 19:01:13> 25,544 possible features for matching based on distance of 3\n",
      "2023-07-03 19:01:35> 10,866 possible features for matching based on probability of 0.05\n",
      "2023-07-03 19:01:35> Saving F:/AP_Paper_Benchmark/PXD015087_Thermo\\Hela_P035211_BA1_S00_A00_R15.ms_data.hdf - peptide_fdr.\n",
      "2023-07-03 19:01:36> Trying to match file F:/AP_Paper_Benchmark/PXD015087_Thermo\\Hela_P035211_BA1_S00_A00_R16.ms_data.hdf with database of 42,956 unidentified candidates\n",
      "2023-07-03 19:01:37> 26,560 possible features for matching based on distance of 3\n",
      "2023-07-03 19:02:00> 11,981 possible features for matching based on probability of 0.05\n",
      "2023-07-03 19:02:00> Saving F:/AP_Paper_Benchmark/PXD015087_Thermo\\Hela_P035211_BA1_S00_A00_R16.ms_data.hdf - peptide_fdr.\n",
      "2023-07-03 19:02:01> Trying to match file F:/AP_Paper_Benchmark/PXD015087_Thermo\\Hela_P035211_BA1_S00_A00_R17.ms_data.hdf with database of 43,058 unidentified candidates\n",
      "2023-07-03 19:02:01> 27,527 possible features for matching based on distance of 3\n",
      "2023-07-03 19:02:25> 14,504 possible features for matching based on probability of 0.05\n",
      "2023-07-03 19:02:26> Saving F:/AP_Paper_Benchmark/PXD015087_Thermo\\Hela_P035211_BA1_S00_A00_R17.ms_data.hdf - peptide_fdr.\n",
      "2023-07-03 19:02:26> Trying to match file F:/AP_Paper_Benchmark/PXD015087_Thermo\\Hela_P035211_BA1_S00_A00_R18.ms_data.hdf with database of 43,301 unidentified candidates\n",
      "2023-07-03 19:02:27> 27,205 possible features for matching based on distance of 3\n",
      "2023-07-03 19:02:51> 13,601 possible features for matching based on probability of 0.05\n",
      "2023-07-03 19:02:51> Saving F:/AP_Paper_Benchmark/PXD015087_Thermo\\Hela_P035211_BA1_S00_A00_R18.ms_data.hdf - peptide_fdr.\n",
      "2023-07-03 19:02:52> Trying to match file F:/AP_Paper_Benchmark/PXD015087_Thermo\\Hela_P035211_BA1_S00_A00_R19.ms_data.hdf with database of 43,554 unidentified candidates\n",
      "2023-07-03 19:02:52> 25,632 possible features for matching based on distance of 3\n",
      "2023-07-03 19:03:15> 9,058 possible features for matching based on probability of 0.05\n",
      "2023-07-03 19:03:15> Saving F:/AP_Paper_Benchmark/PXD015087_Thermo\\Hela_P035211_BA1_S00_A00_R19.ms_data.hdf - peptide_fdr.\n",
      "2023-07-03 19:03:16> Trying to match file F:/AP_Paper_Benchmark/PXD015087_Thermo\\Hela_P035211_BA1_S00_A00_R2.ms_data.hdf with database of 40,985 unidentified candidates\n",
      "2023-07-03 19:03:16> 25,421 possible features for matching based on distance of 3\n",
      "2023-07-03 19:03:38> 13,381 possible features for matching based on probability of 0.05\n",
      "2023-07-03 19:03:39> Saving F:/AP_Paper_Benchmark/PXD015087_Thermo\\Hela_P035211_BA1_S00_A00_R2.ms_data.hdf - peptide_fdr.\n",
      "2023-07-03 19:03:39> Trying to match file F:/AP_Paper_Benchmark/PXD015087_Thermo\\Hela_P035211_BA1_S00_A00_R20.ms_data.hdf with database of 44,969 unidentified candidates\n",
      "2023-07-03 19:03:40> 25,083 possible features for matching based on distance of 3\n",
      "2023-07-03 19:04:02> 11,048 possible features for matching based on probability of 0.05\n",
      "2023-07-03 19:04:02> Saving F:/AP_Paper_Benchmark/PXD015087_Thermo\\Hela_P035211_BA1_S00_A00_R20.ms_data.hdf - peptide_fdr.\n",
      "2023-07-03 19:04:02> Trying to match file F:/AP_Paper_Benchmark/PXD015087_Thermo\\Hela_P035211_BA1_S00_A00_R3.ms_data.hdf with database of 41,032 unidentified candidates\n",
      "2023-07-03 19:04:03> 24,132 possible features for matching based on distance of 3\n",
      "2023-07-03 19:04:24> 10,460 possible features for matching based on probability of 0.05\n",
      "2023-07-03 19:04:24> Saving F:/AP_Paper_Benchmark/PXD015087_Thermo\\Hela_P035211_BA1_S00_A00_R3.ms_data.hdf - peptide_fdr.\n",
      "2023-07-03 19:04:25> Trying to match file F:/AP_Paper_Benchmark/PXD015087_Thermo\\Hela_P035211_BA1_S00_A00_R4.ms_data.hdf with database of 40,740 unidentified candidates\n",
      "2023-07-03 19:04:25> 23,607 possible features for matching based on distance of 3\n",
      "2023-07-03 19:04:46> 8,741 possible features for matching based on probability of 0.05\n",
      "2023-07-03 19:04:46> Saving F:/AP_Paper_Benchmark/PXD015087_Thermo\\Hela_P035211_BA1_S00_A00_R4.ms_data.hdf - peptide_fdr.\n",
      "2023-07-03 19:04:47> Trying to match file F:/AP_Paper_Benchmark/PXD015087_Thermo\\Hela_P035211_BA1_S00_A00_R5.ms_data.hdf with database of 40,969 unidentified candidates\n",
      "2023-07-03 19:04:47> 23,512 possible features for matching based on distance of 3\n",
      "2023-07-03 19:05:08> 9,341 possible features for matching based on probability of 0.05\n",
      "2023-07-03 19:05:08> Saving F:/AP_Paper_Benchmark/PXD015087_Thermo\\Hela_P035211_BA1_S00_A00_R5.ms_data.hdf - peptide_fdr.\n"
     ]
    },
    {
     "name": "stdout",
     "output_type": "stream",
     "text": [
      "2023-07-03 19:05:09> Trying to match file F:/AP_Paper_Benchmark/PXD015087_Thermo\\Hela_P035211_BA1_S00_A00_R6.ms_data.hdf with database of 40,870 unidentified candidates\n",
      "2023-07-03 19:05:09> 23,634 possible features for matching based on distance of 3\n",
      "2023-07-03 19:05:30> 10,431 possible features for matching based on probability of 0.05\n",
      "2023-07-03 19:05:30> Saving F:/AP_Paper_Benchmark/PXD015087_Thermo\\Hela_P035211_BA1_S00_A00_R6.ms_data.hdf - peptide_fdr.\n",
      "2023-07-03 19:05:31> Trying to match file F:/AP_Paper_Benchmark/PXD015087_Thermo\\Hela_P035211_BA1_S00_A00_R7.ms_data.hdf with database of 41,060 unidentified candidates\n",
      "2023-07-03 19:05:32> 24,058 possible features for matching based on distance of 3\n",
      "2023-07-03 19:05:53> 10,416 possible features for matching based on probability of 0.05\n",
      "2023-07-03 19:05:53> Saving F:/AP_Paper_Benchmark/PXD015087_Thermo\\Hela_P035211_BA1_S00_A00_R7.ms_data.hdf - peptide_fdr.\n",
      "2023-07-03 19:05:54> Trying to match file F:/AP_Paper_Benchmark/PXD015087_Thermo\\Hela_P035211_BA1_S00_A00_R8.ms_data.hdf with database of 41,273 unidentified candidates\n",
      "2023-07-03 19:05:54> 22,797 possible features for matching based on distance of 3\n",
      "2023-07-03 19:06:14> 9,773 possible features for matching based on probability of 0.05\n",
      "2023-07-03 19:06:14> Saving F:/AP_Paper_Benchmark/PXD015087_Thermo\\Hela_P035211_BA1_S00_A00_R8.ms_data.hdf - peptide_fdr.\n",
      "2023-07-03 19:06:15> Trying to match file F:/AP_Paper_Benchmark/PXD015087_Thermo\\Hela_P035211_BA1_S00_A00_R9.ms_data.hdf with database of 41,092 unidentified candidates\n",
      "2023-07-03 19:06:15> 25,467 possible features for matching based on distance of 3\n",
      "2023-07-03 19:06:37> 12,028 possible features for matching based on probability of 0.05\n",
      "2023-07-03 19:06:37> Saving F:/AP_Paper_Benchmark/PXD015087_Thermo\\Hela_P035211_BA1_S00_A00_R9.ms_data.hdf - peptide_fdr.\n",
      "2023-07-03 19:06:38> Trying to match file F:/AP_Paper_Benchmark/PXD015087_Thermo\\Hela_P035213_BA1_S00_A00_R1.ms_data.hdf with database of 41,875 unidentified candidates\n",
      "2023-07-03 19:06:38> 26,024 possible features for matching based on distance of 3\n",
      "2023-07-03 19:07:02> 16,072 possible features for matching based on probability of 0.05\n",
      "2023-07-03 19:07:02> Saving F:/AP_Paper_Benchmark/PXD015087_Thermo\\Hela_P035213_BA1_S00_A00_R1.ms_data.hdf - peptide_fdr.\n",
      "2023-07-03 19:07:03> Trying to match file F:/AP_Paper_Benchmark/PXD015087_Thermo\\Hela_P035213_BA1_S00_A00_R10.ms_data.hdf with database of 41,400 unidentified candidates\n",
      "2023-07-03 19:07:04> 25,976 possible features for matching based on distance of 3\n",
      "2023-07-03 19:07:29> 15,773 possible features for matching based on probability of 0.05\n",
      "2023-07-03 19:07:29> Saving F:/AP_Paper_Benchmark/PXD015087_Thermo\\Hela_P035213_BA1_S00_A00_R10.ms_data.hdf - peptide_fdr.\n",
      "2023-07-03 19:07:30> Trying to match file F:/AP_Paper_Benchmark/PXD015087_Thermo\\Hela_P035213_BA1_S00_A00_R11.ms_data.hdf with database of 41,433 unidentified candidates\n",
      "2023-07-03 19:07:30> 26,019 possible features for matching based on distance of 3\n",
      "2023-07-03 19:07:53> 15,656 possible features for matching based on probability of 0.05\n",
      "2023-07-03 19:07:53> Saving F:/AP_Paper_Benchmark/PXD015087_Thermo\\Hela_P035213_BA1_S00_A00_R11.ms_data.hdf - peptide_fdr.\n",
      "2023-07-03 19:07:54> Trying to match file F:/AP_Paper_Benchmark/PXD015087_Thermo\\Hela_P035213_BA1_S00_A00_R12.ms_data.hdf with database of 41,393 unidentified candidates\n",
      "2023-07-03 19:07:54> 25,740 possible features for matching based on distance of 3\n",
      "2023-07-03 19:08:19> 14,511 possible features for matching based on probability of 0.05\n",
      "2023-07-03 19:08:20> Saving F:/AP_Paper_Benchmark/PXD015087_Thermo\\Hela_P035213_BA1_S00_A00_R12.ms_data.hdf - peptide_fdr.\n",
      "2023-07-03 19:08:20> Trying to match file F:/AP_Paper_Benchmark/PXD015087_Thermo\\Hela_P035213_BA1_S00_A00_R13.ms_data.hdf with database of 41,612 unidentified candidates\n",
      "2023-07-03 19:08:21> 26,423 possible features for matching based on distance of 3\n",
      "2023-07-03 19:08:49> 17,219 possible features for matching based on probability of 0.05\n",
      "2023-07-03 19:08:49> Saving F:/AP_Paper_Benchmark/PXD015087_Thermo\\Hela_P035213_BA1_S00_A00_R13.ms_data.hdf - peptide_fdr.\n",
      "2023-07-03 19:08:50> Trying to match file F:/AP_Paper_Benchmark/PXD015087_Thermo\\Hela_P035213_BA1_S00_A00_R14.ms_data.hdf with database of 41,748 unidentified candidates\n",
      "2023-07-03 19:08:50> 26,613 possible features for matching based on distance of 3\n",
      "2023-07-03 19:09:14> 16,982 possible features for matching based on probability of 0.05\n",
      "2023-07-03 19:09:14> Saving F:/AP_Paper_Benchmark/PXD015087_Thermo\\Hela_P035213_BA1_S00_A00_R14.ms_data.hdf - peptide_fdr.\n",
      "2023-07-03 19:09:15> Trying to match file F:/AP_Paper_Benchmark/PXD015087_Thermo\\Hela_P035213_BA1_S00_A00_R15.ms_data.hdf with database of 41,702 unidentified candidates\n",
      "2023-07-03 19:09:15> 26,530 possible features for matching based on distance of 3\n",
      "2023-07-03 19:09:38> 16,307 possible features for matching based on probability of 0.05\n",
      "2023-07-03 19:09:38> Saving F:/AP_Paper_Benchmark/PXD015087_Thermo\\Hela_P035213_BA1_S00_A00_R15.ms_data.hdf - peptide_fdr.\n",
      "2023-07-03 19:09:39> Trying to match file F:/AP_Paper_Benchmark/PXD015087_Thermo\\Hela_P035213_BA1_S00_A00_R16.ms_data.hdf with database of 41,317 unidentified candidates\n",
      "2023-07-03 19:09:40> 26,185 possible features for matching based on distance of 3\n",
      "2023-07-03 19:10:03> 17,369 possible features for matching based on probability of 0.05\n",
      "2023-07-03 19:10:03> Saving F:/AP_Paper_Benchmark/PXD015087_Thermo\\Hela_P035213_BA1_S00_A00_R16.ms_data.hdf - peptide_fdr.\n",
      "2023-07-03 19:10:04> Trying to match file F:/AP_Paper_Benchmark/PXD015087_Thermo\\Hela_P035213_BA1_S00_A00_R17.ms_data.hdf with database of 41,863 unidentified candidates\n",
      "2023-07-03 19:10:04> 26,655 possible features for matching based on distance of 3\n",
      "2023-07-03 19:10:29> 16,837 possible features for matching based on probability of 0.05\n",
      "2023-07-03 19:10:29> Saving F:/AP_Paper_Benchmark/PXD015087_Thermo\\Hela_P035213_BA1_S00_A00_R17.ms_data.hdf - peptide_fdr.\n",
      "2023-07-03 19:10:30> Trying to match file F:/AP_Paper_Benchmark/PXD015087_Thermo\\Hela_P035213_BA1_S00_A00_R18.ms_data.hdf with database of 41,686 unidentified candidates\n",
      "2023-07-03 19:10:30> 26,154 possible features for matching based on distance of 3\n",
      "2023-07-03 19:10:53> 15,115 possible features for matching based on probability of 0.05\n",
      "2023-07-03 19:10:53> Saving F:/AP_Paper_Benchmark/PXD015087_Thermo\\Hela_P035213_BA1_S00_A00_R18.ms_data.hdf - peptide_fdr.\n",
      "2023-07-03 19:10:54> Trying to match file F:/AP_Paper_Benchmark/PXD015087_Thermo\\Hela_P035213_BA1_S00_A00_R19.ms_data.hdf with database of 41,743 unidentified candidates\n",
      "2023-07-03 19:10:54> 26,722 possible features for matching based on distance of 3\n",
      "2023-07-03 19:11:20> 17,128 possible features for matching based on probability of 0.05\n",
      "2023-07-03 19:11:20> Saving F:/AP_Paper_Benchmark/PXD015087_Thermo\\Hela_P035213_BA1_S00_A00_R19.ms_data.hdf - peptide_fdr.\n",
      "2023-07-03 19:11:21> Trying to match file F:/AP_Paper_Benchmark/PXD015087_Thermo\\Hela_P035213_BA1_S00_A00_R2.ms_data.hdf with database of 41,380 unidentified candidates\n",
      "2023-07-03 19:11:21> 26,054 possible features for matching based on distance of 3\n",
      "2023-07-03 19:11:44> 14,097 possible features for matching based on probability of 0.05\n",
      "2023-07-03 19:11:44> Saving F:/AP_Paper_Benchmark/PXD015087_Thermo\\Hela_P035213_BA1_S00_A00_R2.ms_data.hdf - peptide_fdr.\n",
      "2023-07-03 19:11:45> Trying to match file F:/AP_Paper_Benchmark/PXD015087_Thermo\\Hela_P035213_BA1_S00_A00_R20.ms_data.hdf with database of 42,192 unidentified candidates\n",
      "2023-07-03 19:11:45> 27,137 possible features for matching based on distance of 3\n",
      "2023-07-03 19:12:09> 16,397 possible features for matching based on probability of 0.05\n",
      "2023-07-03 19:12:09> Saving F:/AP_Paper_Benchmark/PXD015087_Thermo\\Hela_P035213_BA1_S00_A00_R20.ms_data.hdf - peptide_fdr.\n",
      "2023-07-03 19:12:10> Trying to match file F:/AP_Paper_Benchmark/PXD015087_Thermo\\Hela_P035213_BA1_S00_A00_R3.ms_data.hdf with database of 40,988 unidentified candidates\n",
      "2023-07-03 19:12:10> 26,070 possible features for matching based on distance of 3\n",
      "2023-07-03 19:12:33> 17,344 possible features for matching based on probability of 0.05\n"
     ]
    },
    {
     "name": "stdout",
     "output_type": "stream",
     "text": [
      "2023-07-03 19:12:33> Saving F:/AP_Paper_Benchmark/PXD015087_Thermo\\Hela_P035213_BA1_S00_A00_R3.ms_data.hdf - peptide_fdr.\n",
      "2023-07-03 19:12:34> Trying to match file F:/AP_Paper_Benchmark/PXD015087_Thermo\\Hela_P035213_BA1_S00_A00_R4.ms_data.hdf with database of 41,046 unidentified candidates\n",
      "2023-07-03 19:12:35> 25,752 possible features for matching based on distance of 3\n",
      "2023-07-03 19:12:57> 16,335 possible features for matching based on probability of 0.05\n",
      "2023-07-03 19:12:57> Saving F:/AP_Paper_Benchmark/PXD015087_Thermo\\Hela_P035213_BA1_S00_A00_R4.ms_data.hdf - peptide_fdr.\n",
      "2023-07-03 19:12:58> Trying to match file F:/AP_Paper_Benchmark/PXD015087_Thermo\\Hela_P035213_BA1_S00_A00_R5.ms_data.hdf with database of 41,378 unidentified candidates\n",
      "2023-07-03 19:12:59> 25,766 possible features for matching based on distance of 3\n",
      "2023-07-03 19:13:23> 14,051 possible features for matching based on probability of 0.05\n",
      "2023-07-03 19:13:23> Saving F:/AP_Paper_Benchmark/PXD015087_Thermo\\Hela_P035213_BA1_S00_A00_R5.ms_data.hdf - peptide_fdr.\n",
      "2023-07-03 19:13:23> Trying to match file F:/AP_Paper_Benchmark/PXD015087_Thermo\\Hela_P035213_BA1_S00_A00_R6.ms_data.hdf with database of 41,139 unidentified candidates\n",
      "2023-07-03 19:13:24> 25,513 possible features for matching based on distance of 3\n",
      "2023-07-03 19:13:47> 14,215 possible features for matching based on probability of 0.05\n",
      "2023-07-03 19:13:47> Saving F:/AP_Paper_Benchmark/PXD015087_Thermo\\Hela_P035213_BA1_S00_A00_R6.ms_data.hdf - peptide_fdr.\n",
      "2023-07-03 19:13:47> Trying to match file F:/AP_Paper_Benchmark/PXD015087_Thermo\\Hela_P035213_BA1_S00_A00_R7.ms_data.hdf with database of 41,333 unidentified candidates\n",
      "2023-07-03 19:13:48> 25,613 possible features for matching based on distance of 3\n",
      "2023-07-03 19:14:10> 14,082 possible features for matching based on probability of 0.05\n",
      "2023-07-03 19:14:11> Saving F:/AP_Paper_Benchmark/PXD015087_Thermo\\Hela_P035213_BA1_S00_A00_R7.ms_data.hdf - peptide_fdr.\n",
      "2023-07-03 19:14:11> Trying to match file F:/AP_Paper_Benchmark/PXD015087_Thermo\\Hela_P035213_BA1_S00_A00_R8.ms_data.hdf with database of 41,235 unidentified candidates\n",
      "2023-07-03 19:14:12> 25,838 possible features for matching based on distance of 3\n",
      "2023-07-03 19:14:34> 16,487 possible features for matching based on probability of 0.05\n",
      "2023-07-03 19:14:34> Saving F:/AP_Paper_Benchmark/PXD015087_Thermo\\Hela_P035213_BA1_S00_A00_R8.ms_data.hdf - peptide_fdr.\n",
      "2023-07-03 19:14:35> Trying to match file F:/AP_Paper_Benchmark/PXD015087_Thermo\\Hela_P035213_BA1_S00_A00_R9.ms_data.hdf with database of 41,345 unidentified candidates\n",
      "2023-07-03 19:14:36> 25,406 possible features for matching based on distance of 3\n",
      "2023-07-03 19:14:58> 17,044 possible features for matching based on probability of 0.05\n",
      "2023-07-03 19:14:58> Saving F:/AP_Paper_Benchmark/PXD015087_Thermo\\Hela_P035213_BA1_S00_A00_R9.ms_data.hdf - peptide_fdr.\n",
      "2023-07-03 19:14:59> Trying to match file F:/AP_Paper_Benchmark/PXD015087_Thermo\\Hela_P035214_BA1_S00_A00_R1.ms_data.hdf with database of 40,891 unidentified candidates\n",
      "2023-07-03 19:14:59> 24,536 possible features for matching based on distance of 3\n",
      "2023-07-03 19:15:21> 17,518 possible features for matching based on probability of 0.05\n",
      "2023-07-03 19:15:21> Saving F:/AP_Paper_Benchmark/PXD015087_Thermo\\Hela_P035214_BA1_S00_A00_R1.ms_data.hdf - peptide_fdr.\n",
      "2023-07-03 19:15:22> Trying to match file F:/AP_Paper_Benchmark/PXD015087_Thermo\\Hela_P035214_BA1_S00_A00_R10.ms_data.hdf with database of 40,985 unidentified candidates\n",
      "2023-07-03 19:15:22> 23,961 possible features for matching based on distance of 3\n",
      "2023-07-03 19:15:43> 15,760 possible features for matching based on probability of 0.05\n",
      "2023-07-03 19:15:43> Saving F:/AP_Paper_Benchmark/PXD015087_Thermo\\Hela_P035214_BA1_S00_A00_R10.ms_data.hdf - peptide_fdr.\n",
      "2023-07-03 19:15:44> Trying to match file F:/AP_Paper_Benchmark/PXD015087_Thermo\\Hela_P035214_BA1_S00_A00_R11.ms_data.hdf with database of 44,111 unidentified candidates\n",
      "2023-07-03 19:15:44> 18,639 possible features for matching based on distance of 3\n",
      "2023-07-03 19:16:01> 10,150 possible features for matching based on probability of 0.05\n",
      "2023-07-03 19:16:01> Saving F:/AP_Paper_Benchmark/PXD015087_Thermo\\Hela_P035214_BA1_S00_A00_R11.ms_data.hdf - peptide_fdr.\n",
      "2023-07-03 19:16:02> Trying to match file F:/AP_Paper_Benchmark/PXD015087_Thermo\\Hela_P035214_BA1_S00_A00_R12.ms_data.hdf with database of 41,120 unidentified candidates\n",
      "2023-07-03 19:16:02> 25,031 possible features for matching based on distance of 3\n",
      "2023-07-03 19:16:25> 18,015 possible features for matching based on probability of 0.05\n",
      "2023-07-03 19:16:25> Saving F:/AP_Paper_Benchmark/PXD015087_Thermo\\Hela_P035214_BA1_S00_A00_R12.ms_data.hdf - peptide_fdr.\n",
      "2023-07-03 19:16:26> Trying to match file F:/AP_Paper_Benchmark/PXD015087_Thermo\\Hela_P035214_BA1_S00_A00_R13.ms_data.hdf with database of 41,015 unidentified candidates\n",
      "2023-07-03 19:16:26> 25,336 possible features for matching based on distance of 3\n",
      "2023-07-03 19:16:49> 17,713 possible features for matching based on probability of 0.05\n",
      "2023-07-03 19:16:49> Saving F:/AP_Paper_Benchmark/PXD015087_Thermo\\Hela_P035214_BA1_S00_A00_R13.ms_data.hdf - peptide_fdr.\n",
      "2023-07-03 19:16:49> Trying to match file F:/AP_Paper_Benchmark/PXD015087_Thermo\\Hela_P035214_BA1_S00_A00_R14.ms_data.hdf with database of 41,288 unidentified candidates\n",
      "2023-07-03 19:16:50> 25,225 possible features for matching based on distance of 3\n",
      "2023-07-03 19:17:13> 17,676 possible features for matching based on probability of 0.05\n",
      "2023-07-03 19:17:13> Saving F:/AP_Paper_Benchmark/PXD015087_Thermo\\Hela_P035214_BA1_S00_A00_R14.ms_data.hdf - peptide_fdr.\n",
      "2023-07-03 19:17:14> Trying to match file F:/AP_Paper_Benchmark/PXD015087_Thermo\\Hela_P035214_BA1_S00_A00_R15.ms_data.hdf with database of 41,141 unidentified candidates\n",
      "2023-07-03 19:17:14> 24,698 possible features for matching based on distance of 3\n",
      "2023-07-03 19:17:36> 17,320 possible features for matching based on probability of 0.05\n",
      "2023-07-03 19:17:36> Saving F:/AP_Paper_Benchmark/PXD015087_Thermo\\Hela_P035214_BA1_S00_A00_R15.ms_data.hdf - peptide_fdr.\n",
      "2023-07-03 19:17:37> Trying to match file F:/AP_Paper_Benchmark/PXD015087_Thermo\\Hela_P035214_BA1_S00_A00_R16.ms_data.hdf with database of 41,360 unidentified candidates\n",
      "2023-07-03 19:17:37> 25,926 possible features for matching based on distance of 3\n",
      "2023-07-03 19:18:00> 18,361 possible features for matching based on probability of 0.05\n",
      "2023-07-03 19:18:00> Saving F:/AP_Paper_Benchmark/PXD015087_Thermo\\Hela_P035214_BA1_S00_A00_R16.ms_data.hdf - peptide_fdr.\n",
      "2023-07-03 19:18:01> Trying to match file F:/AP_Paper_Benchmark/PXD015087_Thermo\\Hela_P035214_BA1_S00_A00_R17.ms_data.hdf with database of 41,415 unidentified candidates\n",
      "2023-07-03 19:18:01> 25,540 possible features for matching based on distance of 3\n",
      "2023-07-03 19:18:24> 18,273 possible features for matching based on probability of 0.05\n",
      "2023-07-03 19:18:24> Saving F:/AP_Paper_Benchmark/PXD015087_Thermo\\Hela_P035214_BA1_S00_A00_R17.ms_data.hdf - peptide_fdr.\n",
      "2023-07-03 19:18:25> Trying to match file F:/AP_Paper_Benchmark/PXD015087_Thermo\\Hela_P035214_BA1_S00_A00_R18.ms_data.hdf with database of 41,572 unidentified candidates\n",
      "2023-07-03 19:18:25> 26,329 possible features for matching based on distance of 3\n",
      "2023-07-03 19:18:49> 18,764 possible features for matching based on probability of 0.05\n",
      "2023-07-03 19:18:49> Saving F:/AP_Paper_Benchmark/PXD015087_Thermo\\Hela_P035214_BA1_S00_A00_R18.ms_data.hdf - peptide_fdr.\n",
      "2023-07-03 19:18:50> Trying to match file F:/AP_Paper_Benchmark/PXD015087_Thermo\\Hela_P035214_BA1_S00_A00_R19.ms_data.hdf with database of 41,619 unidentified candidates\n",
      "2023-07-03 19:18:50> 26,132 possible features for matching based on distance of 3\n",
      "2023-07-03 19:19:14> 18,747 possible features for matching based on probability of 0.05\n",
      "2023-07-03 19:19:14> Saving F:/AP_Paper_Benchmark/PXD015087_Thermo\\Hela_P035214_BA1_S00_A00_R19.ms_data.hdf - peptide_fdr.\n",
      "2023-07-03 19:19:14> Trying to match file F:/AP_Paper_Benchmark/PXD015087_Thermo\\Hela_P035214_BA1_S00_A00_R2.ms_data.hdf with database of 40,966 unidentified candidates\n",
      "2023-07-03 19:19:15> 24,994 possible features for matching based on distance of 3\n"
     ]
    },
    {
     "name": "stdout",
     "output_type": "stream",
     "text": [
      "2023-07-03 19:19:37> 17,808 possible features for matching based on probability of 0.05\n",
      "2023-07-03 19:19:37> Saving F:/AP_Paper_Benchmark/PXD015087_Thermo\\Hela_P035214_BA1_S00_A00_R2.ms_data.hdf - peptide_fdr.\n",
      "2023-07-03 19:19:38> Trying to match file F:/AP_Paper_Benchmark/PXD015087_Thermo\\Hela_P035214_BA1_S00_A00_R20.ms_data.hdf with database of 41,948 unidentified candidates\n",
      "2023-07-03 19:19:38> 26,344 possible features for matching based on distance of 3\n",
      "2023-07-03 19:20:02> 18,891 possible features for matching based on probability of 0.05\n",
      "2023-07-03 19:20:02> Saving F:/AP_Paper_Benchmark/PXD015087_Thermo\\Hela_P035214_BA1_S00_A00_R20.ms_data.hdf - peptide_fdr.\n",
      "2023-07-03 19:20:03> Trying to match file F:/AP_Paper_Benchmark/PXD015087_Thermo\\Hela_P035214_BA1_S00_A00_R3.ms_data.hdf with database of 40,902 unidentified candidates\n",
      "2023-07-03 19:20:03> 25,133 possible features for matching based on distance of 3\n",
      "2023-07-03 19:20:25> 17,779 possible features for matching based on probability of 0.05\n",
      "2023-07-03 19:20:25> Saving F:/AP_Paper_Benchmark/PXD015087_Thermo\\Hela_P035214_BA1_S00_A00_R3.ms_data.hdf - peptide_fdr.\n",
      "2023-07-03 19:20:26> Trying to match file F:/AP_Paper_Benchmark/PXD015087_Thermo\\Hela_P035214_BA1_S00_A00_R4.ms_data.hdf with database of 40,994 unidentified candidates\n",
      "2023-07-03 19:20:27> 25,407 possible features for matching based on distance of 3\n",
      "2023-07-03 19:20:49> 18,057 possible features for matching based on probability of 0.05\n",
      "2023-07-03 19:20:49> Saving F:/AP_Paper_Benchmark/PXD015087_Thermo\\Hela_P035214_BA1_S00_A00_R4.ms_data.hdf - peptide_fdr.\n",
      "2023-07-03 19:20:50> Trying to match file F:/AP_Paper_Benchmark/PXD015087_Thermo\\Hela_P035214_BA1_S00_A00_R5.ms_data.hdf with database of 40,566 unidentified candidates\n",
      "2023-07-03 19:20:50> 25,055 possible features for matching based on distance of 3\n",
      "2023-07-03 19:21:13> 17,206 possible features for matching based on probability of 0.05\n",
      "2023-07-03 19:21:13> Saving F:/AP_Paper_Benchmark/PXD015087_Thermo\\Hela_P035214_BA1_S00_A00_R5.ms_data.hdf - peptide_fdr.\n",
      "2023-07-03 19:21:14> Trying to match file F:/AP_Paper_Benchmark/PXD015087_Thermo\\Hela_P035214_BA1_S00_A00_R6.ms_data.hdf with database of 41,050 unidentified candidates\n",
      "2023-07-03 19:21:14> 25,923 possible features for matching based on distance of 3\n",
      "2023-07-03 19:21:37> 18,095 possible features for matching based on probability of 0.05\n",
      "2023-07-03 19:21:37> Saving F:/AP_Paper_Benchmark/PXD015087_Thermo\\Hela_P035214_BA1_S00_A00_R6.ms_data.hdf - peptide_fdr.\n",
      "2023-07-03 19:21:38> Trying to match file F:/AP_Paper_Benchmark/PXD015087_Thermo\\Hela_P035214_BA1_S00_A00_R7.ms_data.hdf with database of 40,611 unidentified candidates\n",
      "2023-07-03 19:21:38> 25,282 possible features for matching based on distance of 3\n",
      "2023-07-03 19:22:01> 18,028 possible features for matching based on probability of 0.05\n",
      "2023-07-03 19:22:01> Saving F:/AP_Paper_Benchmark/PXD015087_Thermo\\Hela_P035214_BA1_S00_A00_R7.ms_data.hdf - peptide_fdr.\n",
      "2023-07-03 19:22:01> Trying to match file F:/AP_Paper_Benchmark/PXD015087_Thermo\\Hela_P035214_BA1_S00_A00_R8.ms_data.hdf with database of 40,972 unidentified candidates\n",
      "2023-07-03 19:22:02> 25,724 possible features for matching based on distance of 3\n",
      "2023-07-03 19:22:25> 18,412 possible features for matching based on probability of 0.05\n",
      "2023-07-03 19:22:25> Saving F:/AP_Paper_Benchmark/PXD015087_Thermo\\Hela_P035214_BA1_S00_A00_R8.ms_data.hdf - peptide_fdr.\n",
      "2023-07-03 19:22:26> Trying to match file F:/AP_Paper_Benchmark/PXD015087_Thermo\\Hela_P035214_BA1_S00_A00_R9.ms_data.hdf with database of 40,879 unidentified candidates\n",
      "2023-07-03 19:22:26> 26,599 possible features for matching based on distance of 3\n",
      "2023-07-03 19:22:50> 18,861 possible features for matching based on probability of 0.05\n",
      "2023-07-03 19:22:50> Saving F:/AP_Paper_Benchmark/PXD015087_Thermo\\Hela_P035214_BA1_S00_A00_R9.ms_data.hdf - peptide_fdr.\n",
      "2023-07-03 19:22:51> Trying to match file F:/AP_Paper_Benchmark/PXD015087_Thermo\\Hela_P035215_BA1_S00_A00_R1.ms_data.hdf with database of 45,364 unidentified candidates\n",
      "2023-07-03 19:22:51> 30,839 possible features for matching based on distance of 3\n",
      "2023-07-03 19:23:19> 21,834 possible features for matching based on probability of 0.05\n",
      "2023-07-03 19:23:20> Saving F:/AP_Paper_Benchmark/PXD015087_Thermo\\Hela_P035215_BA1_S00_A00_R1.ms_data.hdf - peptide_fdr.\n",
      "2023-07-03 19:23:20> Trying to match file F:/AP_Paper_Benchmark/PXD015087_Thermo\\Hela_P035215_BA1_S00_A00_R10.ms_data.hdf with database of 45,727 unidentified candidates\n",
      "2023-07-03 19:23:21> 31,149 possible features for matching based on distance of 3\n",
      "2023-07-03 19:23:49> 22,308 possible features for matching based on probability of 0.05\n",
      "2023-07-03 19:23:49> Saving F:/AP_Paper_Benchmark/PXD015087_Thermo\\Hela_P035215_BA1_S00_A00_R10.ms_data.hdf - peptide_fdr.\n",
      "2023-07-03 19:23:50> Trying to match file F:/AP_Paper_Benchmark/PXD015087_Thermo\\Hela_P035215_BA1_S00_A00_R11.ms_data.hdf with database of 46,339 unidentified candidates\n",
      "2023-07-03 19:23:50> 31,558 possible features for matching based on distance of 3\n",
      "2023-07-03 19:24:19> 22,533 possible features for matching based on probability of 0.05\n",
      "2023-07-03 19:24:19> Saving F:/AP_Paper_Benchmark/PXD015087_Thermo\\Hela_P035215_BA1_S00_A00_R11.ms_data.hdf - peptide_fdr.\n",
      "2023-07-03 19:24:20> Trying to match file F:/AP_Paper_Benchmark/PXD015087_Thermo\\Hela_P035215_BA1_S00_A00_R12.ms_data.hdf with database of 46,148 unidentified candidates\n",
      "2023-07-03 19:24:20> 31,848 possible features for matching based on distance of 3\n",
      "2023-07-03 19:24:49> 23,447 possible features for matching based on probability of 0.05\n",
      "2023-07-03 19:24:49> Saving F:/AP_Paper_Benchmark/PXD015087_Thermo\\Hela_P035215_BA1_S00_A00_R12.ms_data.hdf - peptide_fdr.\n",
      "2023-07-03 19:24:50> Trying to match file F:/AP_Paper_Benchmark/PXD015087_Thermo\\Hela_P035215_BA1_S00_A00_R13.ms_data.hdf with database of 46,008 unidentified candidates\n",
      "2023-07-03 19:24:50> 31,744 possible features for matching based on distance of 3\n",
      "2023-07-03 19:25:19> 23,384 possible features for matching based on probability of 0.05\n",
      "2023-07-03 19:25:19> Saving F:/AP_Paper_Benchmark/PXD015087_Thermo\\Hela_P035215_BA1_S00_A00_R13.ms_data.hdf - peptide_fdr.\n",
      "2023-07-03 19:25:20> Trying to match file F:/AP_Paper_Benchmark/PXD015087_Thermo\\Hela_P035215_BA1_S00_A00_R14.ms_data.hdf with database of 46,136 unidentified candidates\n",
      "2023-07-03 19:25:20> 31,888 possible features for matching based on distance of 3\n",
      "2023-07-03 19:25:49> 23,735 possible features for matching based on probability of 0.05\n",
      "2023-07-03 19:25:49> Saving F:/AP_Paper_Benchmark/PXD015087_Thermo\\Hela_P035215_BA1_S00_A00_R14.ms_data.hdf - peptide_fdr.\n",
      "2023-07-03 19:25:50> Trying to match file F:/AP_Paper_Benchmark/PXD015087_Thermo\\Hela_P035215_BA1_S00_A00_R15.ms_data.hdf with database of 46,097 unidentified candidates\n",
      "2023-07-03 19:25:51> 31,583 possible features for matching based on distance of 3\n",
      "2023-07-03 19:26:21> 22,810 possible features for matching based on probability of 0.05\n",
      "2023-07-03 19:26:21> Saving F:/AP_Paper_Benchmark/PXD015087_Thermo\\Hela_P035215_BA1_S00_A00_R15.ms_data.hdf - peptide_fdr.\n",
      "2023-07-03 19:26:22> Trying to match file F:/AP_Paper_Benchmark/PXD015087_Thermo\\Hela_P035215_BA1_S00_A00_R16.ms_data.hdf with database of 45,988 unidentified candidates\n",
      "2023-07-03 19:26:22> 31,831 possible features for matching based on distance of 3\n",
      "2023-07-03 19:26:50> 23,638 possible features for matching based on probability of 0.05\n",
      "2023-07-03 19:26:51> Saving F:/AP_Paper_Benchmark/PXD015087_Thermo\\Hela_P035215_BA1_S00_A00_R16.ms_data.hdf - peptide_fdr.\n",
      "2023-07-03 19:26:51> Trying to match file F:/AP_Paper_Benchmark/PXD015087_Thermo\\Hela_P035215_BA1_S00_A00_R17.ms_data.hdf with database of 46,141 unidentified candidates\n",
      "2023-07-03 19:26:52> 31,894 possible features for matching based on distance of 3\n",
      "2023-07-03 19:27:21> 23,383 possible features for matching based on probability of 0.05\n",
      "2023-07-03 19:27:21> Saving F:/AP_Paper_Benchmark/PXD015087_Thermo\\Hela_P035215_BA1_S00_A00_R17.ms_data.hdf - peptide_fdr.\n",
      "2023-07-03 19:27:21> Trying to match file F:/AP_Paper_Benchmark/PXD015087_Thermo\\Hela_P035215_BA1_S00_A00_R18.ms_data.hdf with database of 46,418 unidentified candidates\n"
     ]
    },
    {
     "name": "stdout",
     "output_type": "stream",
     "text": [
      "2023-07-03 19:27:22> 32,286 possible features for matching based on distance of 3\n",
      "2023-07-03 19:27:51> 24,055 possible features for matching based on probability of 0.05\n",
      "2023-07-03 19:27:51> Saving F:/AP_Paper_Benchmark/PXD015087_Thermo\\Hela_P035215_BA1_S00_A00_R18.ms_data.hdf - peptide_fdr.\n",
      "2023-07-03 19:27:52> Trying to match file F:/AP_Paper_Benchmark/PXD015087_Thermo\\Hela_P035215_BA1_S00_A00_R19.ms_data.hdf with database of 46,905 unidentified candidates\n",
      "2023-07-03 19:27:52> 32,755 possible features for matching based on distance of 3\n",
      "2023-07-03 19:28:22> 24,531 possible features for matching based on probability of 0.05\n",
      "2023-07-03 19:28:22> Saving F:/AP_Paper_Benchmark/PXD015087_Thermo\\Hela_P035215_BA1_S00_A00_R19.ms_data.hdf - peptide_fdr.\n",
      "2023-07-03 19:28:23> Trying to match file F:/AP_Paper_Benchmark/PXD015087_Thermo\\Hela_P035215_BA1_S00_A00_R2.ms_data.hdf with database of 45,855 unidentified candidates\n",
      "2023-07-03 19:28:24> 31,710 possible features for matching based on distance of 3\n",
      "2023-07-03 19:28:52> 23,417 possible features for matching based on probability of 0.05\n",
      "2023-07-03 19:28:52> Saving F:/AP_Paper_Benchmark/PXD015087_Thermo\\Hela_P035215_BA1_S00_A00_R2.ms_data.hdf - peptide_fdr.\n",
      "2023-07-03 19:28:53> Trying to match file F:/AP_Paper_Benchmark/PXD015087_Thermo\\Hela_P035215_BA1_S00_A00_R20.ms_data.hdf with database of 46,782 unidentified candidates\n",
      "2023-07-03 19:28:54> 32,285 possible features for matching based on distance of 3\n",
      "2023-07-03 19:29:23> 21,937 possible features for matching based on probability of 0.05\n",
      "2023-07-03 19:29:23> Saving F:/AP_Paper_Benchmark/PXD015087_Thermo\\Hela_P035215_BA1_S00_A00_R20.ms_data.hdf - peptide_fdr.\n",
      "2023-07-03 19:29:24> Trying to match file F:/AP_Paper_Benchmark/PXD015087_Thermo\\Hela_P035215_BA1_S00_A00_R3.ms_data.hdf with database of 45,817 unidentified candidates\n",
      "2023-07-03 19:29:24> 31,164 possible features for matching based on distance of 3\n",
      "2023-07-03 19:29:53> 21,050 possible features for matching based on probability of 0.05\n",
      "2023-07-03 19:29:53> Saving F:/AP_Paper_Benchmark/PXD015087_Thermo\\Hela_P035215_BA1_S00_A00_R3.ms_data.hdf - peptide_fdr.\n",
      "2023-07-03 19:29:53> Trying to match file F:/AP_Paper_Benchmark/PXD015087_Thermo\\Hela_P035215_BA1_S00_A00_R4.ms_data.hdf with database of 45,769 unidentified candidates\n",
      "2023-07-03 19:29:54> 30,465 possible features for matching based on distance of 3\n",
      "2023-07-03 19:30:21> 17,745 possible features for matching based on probability of 0.05\n",
      "2023-07-03 19:30:21> Saving F:/AP_Paper_Benchmark/PXD015087_Thermo\\Hela_P035215_BA1_S00_A00_R4.ms_data.hdf - peptide_fdr.\n",
      "2023-07-03 19:30:22> Trying to match file F:/AP_Paper_Benchmark/PXD015087_Thermo\\Hela_P035215_BA1_S00_A00_R5.ms_data.hdf with database of 45,890 unidentified candidates\n",
      "2023-07-03 19:30:23> 31,159 possible features for matching based on distance of 3\n",
      "2023-07-03 19:30:50> 20,302 possible features for matching based on probability of 0.05\n",
      "2023-07-03 19:30:51> Saving F:/AP_Paper_Benchmark/PXD015087_Thermo\\Hela_P035215_BA1_S00_A00_R5.ms_data.hdf - peptide_fdr.\n",
      "2023-07-03 19:30:51> Trying to match file F:/AP_Paper_Benchmark/PXD015087_Thermo\\Hela_P035215_BA1_S00_A00_R6.ms_data.hdf with database of 45,741 unidentified candidates\n",
      "2023-07-03 19:30:52> 30,855 possible features for matching based on distance of 3\n",
      "2023-07-03 19:31:20> 19,633 possible features for matching based on probability of 0.05\n",
      "2023-07-03 19:31:20> Saving F:/AP_Paper_Benchmark/PXD015087_Thermo\\Hela_P035215_BA1_S00_A00_R6.ms_data.hdf - peptide_fdr.\n",
      "2023-07-03 19:31:21> Trying to match file F:/AP_Paper_Benchmark/PXD015087_Thermo\\Hela_P035215_BA1_S00_A00_R7.ms_data.hdf with database of 45,770 unidentified candidates\n",
      "2023-07-03 19:31:21> 30,967 possible features for matching based on distance of 3\n",
      "2023-07-03 19:31:50> 19,997 possible features for matching based on probability of 0.05\n",
      "2023-07-03 19:31:50> Saving F:/AP_Paper_Benchmark/PXD015087_Thermo\\Hela_P035215_BA1_S00_A00_R7.ms_data.hdf - peptide_fdr.\n",
      "2023-07-03 19:31:51> Trying to match file F:/AP_Paper_Benchmark/PXD015087_Thermo\\Hela_P035215_BA1_S00_A00_R8.ms_data.hdf with database of 45,815 unidentified candidates\n",
      "2023-07-03 19:31:51> 31,344 possible features for matching based on distance of 3\n",
      "2023-07-03 19:32:21> 22,517 possible features for matching based on probability of 0.05\n",
      "2023-07-03 19:32:21> Saving F:/AP_Paper_Benchmark/PXD015087_Thermo\\Hela_P035215_BA1_S00_A00_R8.ms_data.hdf - peptide_fdr.\n",
      "2023-07-03 19:32:21> Trying to match file F:/AP_Paper_Benchmark/PXD015087_Thermo\\Hela_P035215_BA1_S00_A00_R9.ms_data.hdf with database of 46,007 unidentified candidates\n",
      "2023-07-03 19:32:22> 31,741 possible features for matching based on distance of 3\n",
      "2023-07-03 19:32:52> 12,639 possible features for matching based on probability of 0.05\n",
      "2023-07-03 19:32:52> Saving F:/AP_Paper_Benchmark/PXD015087_Thermo\\Hela_P035215_BA1_S00_A00_R9.ms_data.hdf - peptide_fdr.\n",
      "2023-07-03 19:32:53> Trying to match file F:/AP_Paper_Benchmark/PXD015087_Thermo\\Hela_P035216_BA1_S00_A00_R1.ms_data.hdf with database of 43,064 unidentified candidates\n",
      "2023-07-03 19:32:53> 28,679 possible features for matching based on distance of 3\n",
      "2023-07-03 19:33:20> 19,804 possible features for matching based on probability of 0.05\n",
      "2023-07-03 19:33:20> Saving F:/AP_Paper_Benchmark/PXD015087_Thermo\\Hela_P035216_BA1_S00_A00_R1.ms_data.hdf - peptide_fdr.\n",
      "2023-07-03 19:33:21> Trying to match file F:/AP_Paper_Benchmark/PXD015087_Thermo\\Hela_P035216_BA1_S00_A00_R10.ms_data.hdf with database of 42,939 unidentified candidates\n",
      "2023-07-03 19:33:21> 28,508 possible features for matching based on distance of 3\n",
      "2023-07-03 19:33:48> 20,224 possible features for matching based on probability of 0.05\n",
      "2023-07-03 19:33:48> Saving F:/AP_Paper_Benchmark/PXD015087_Thermo\\Hela_P035216_BA1_S00_A00_R10.ms_data.hdf - peptide_fdr.\n",
      "2023-07-03 19:33:49> Trying to match file F:/AP_Paper_Benchmark/PXD015087_Thermo\\Hela_P035216_BA1_S00_A00_R11.ms_data.hdf with database of 43,606 unidentified candidates\n",
      "2023-07-03 19:33:49> 29,111 possible features for matching based on distance of 3\n",
      "2023-07-03 19:34:16> 20,902 possible features for matching based on probability of 0.05\n",
      "2023-07-03 19:34:16> Saving F:/AP_Paper_Benchmark/PXD015087_Thermo\\Hela_P035216_BA1_S00_A00_R11.ms_data.hdf - peptide_fdr.\n",
      "2023-07-03 19:34:17> Trying to match file F:/AP_Paper_Benchmark/PXD015087_Thermo\\Hela_P035216_BA1_S00_A00_R12.ms_data.hdf with database of 43,358 unidentified candidates\n",
      "2023-07-03 19:34:17> 28,762 possible features for matching based on distance of 3\n",
      "2023-07-03 19:34:44> 20,585 possible features for matching based on probability of 0.05\n",
      "2023-07-03 19:34:44> Saving F:/AP_Paper_Benchmark/PXD015087_Thermo\\Hela_P035216_BA1_S00_A00_R12.ms_data.hdf - peptide_fdr.\n",
      "2023-07-03 19:34:45> Trying to match file F:/AP_Paper_Benchmark/PXD015087_Thermo\\Hela_P035216_BA1_S00_A00_R13.ms_data.hdf with database of 43,488 unidentified candidates\n",
      "2023-07-03 19:34:45> 28,762 possible features for matching based on distance of 3\n",
      "2023-07-03 19:35:12> 20,604 possible features for matching based on probability of 0.05\n",
      "2023-07-03 19:35:12> Saving F:/AP_Paper_Benchmark/PXD015087_Thermo\\Hela_P035216_BA1_S00_A00_R13.ms_data.hdf - peptide_fdr.\n",
      "2023-07-03 19:35:13> Trying to match file F:/AP_Paper_Benchmark/PXD015087_Thermo\\Hela_P035216_BA1_S00_A00_R14.ms_data.hdf with database of 43,387 unidentified candidates\n",
      "2023-07-03 19:35:13> 28,911 possible features for matching based on distance of 3\n",
      "2023-07-03 19:35:40> 20,771 possible features for matching based on probability of 0.05\n",
      "2023-07-03 19:35:40> Saving F:/AP_Paper_Benchmark/PXD015087_Thermo\\Hela_P035216_BA1_S00_A00_R14.ms_data.hdf - peptide_fdr.\n",
      "2023-07-03 19:35:41> Trying to match file F:/AP_Paper_Benchmark/PXD015087_Thermo\\Hela_P035216_BA1_S00_A00_R15.ms_data.hdf with database of 43,696 unidentified candidates\n",
      "2023-07-03 19:35:41> 29,261 possible features for matching based on distance of 3\n",
      "2023-07-03 19:36:09> 20,961 possible features for matching based on probability of 0.05\n",
      "2023-07-03 19:36:09> Saving F:/AP_Paper_Benchmark/PXD015087_Thermo\\Hela_P035216_BA1_S00_A00_R15.ms_data.hdf - peptide_fdr.\n",
      "2023-07-03 19:36:10> Trying to match file F:/AP_Paper_Benchmark/PXD015087_Thermo\\Hela_P035216_BA1_S00_A00_R16.ms_data.hdf with database of 43,557 unidentified candidates\n"
     ]
    },
    {
     "name": "stdout",
     "output_type": "stream",
     "text": [
      "2023-07-03 19:36:10> 29,001 possible features for matching based on distance of 3\n",
      "2023-07-03 19:36:37> 20,794 possible features for matching based on probability of 0.05\n",
      "2023-07-03 19:36:37> Saving F:/AP_Paper_Benchmark/PXD015087_Thermo\\Hela_P035216_BA1_S00_A00_R16.ms_data.hdf - peptide_fdr.\n",
      "2023-07-03 19:36:38> Trying to match file F:/AP_Paper_Benchmark/PXD015087_Thermo\\Hela_P035216_BA1_S00_A00_R17.ms_data.hdf with database of 43,652 unidentified candidates\n",
      "2023-07-03 19:36:38> 28,856 possible features for matching based on distance of 3\n",
      "2023-07-03 19:37:05> 20,453 possible features for matching based on probability of 0.05\n",
      "2023-07-03 19:37:05> Saving F:/AP_Paper_Benchmark/PXD015087_Thermo\\Hela_P035216_BA1_S00_A00_R17.ms_data.hdf - peptide_fdr.\n",
      "2023-07-03 19:37:06> Trying to match file F:/AP_Paper_Benchmark/PXD015087_Thermo\\Hela_P035216_BA1_S00_A00_R18.ms_data.hdf with database of 43,480 unidentified candidates\n",
      "2023-07-03 19:37:06> 28,877 possible features for matching based on distance of 3\n",
      "2023-07-03 19:37:33> 20,365 possible features for matching based on probability of 0.05\n",
      "2023-07-03 19:37:33> Saving F:/AP_Paper_Benchmark/PXD015087_Thermo\\Hela_P035216_BA1_S00_A00_R18.ms_data.hdf - peptide_fdr.\n",
      "2023-07-03 19:37:34> Trying to match file F:/AP_Paper_Benchmark/PXD015087_Thermo\\Hela_P035216_BA1_S00_A00_R19.ms_data.hdf with database of 43,887 unidentified candidates\n",
      "2023-07-03 19:37:35> 29,495 possible features for matching based on distance of 3\n",
      "2023-07-03 19:38:02> 17,960 possible features for matching based on probability of 0.05\n",
      "2023-07-03 19:38:02> Saving F:/AP_Paper_Benchmark/PXD015087_Thermo\\Hela_P035216_BA1_S00_A00_R19.ms_data.hdf - peptide_fdr.\n",
      "2023-07-03 19:38:03> Trying to match file F:/AP_Paper_Benchmark/PXD015087_Thermo\\Hela_P035216_BA1_S00_A00_R2.ms_data.hdf with database of 43,218 unidentified candidates\n",
      "2023-07-03 19:38:03> 29,063 possible features for matching based on distance of 3\n",
      "2023-07-03 19:38:30> 20,692 possible features for matching based on probability of 0.05\n",
      "2023-07-03 19:38:30> Saving F:/AP_Paper_Benchmark/PXD015087_Thermo\\Hela_P035216_BA1_S00_A00_R2.ms_data.hdf - peptide_fdr.\n",
      "2023-07-03 19:38:31> Trying to match file F:/AP_Paper_Benchmark/PXD015087_Thermo\\Hela_P035216_BA1_S00_A00_R20.ms_data.hdf with database of 43,835 unidentified candidates\n",
      "2023-07-03 19:38:32> 29,465 possible features for matching based on distance of 3\n",
      "2023-07-03 19:38:59> 19,604 possible features for matching based on probability of 0.05\n",
      "2023-07-03 19:38:59> Saving F:/AP_Paper_Benchmark/PXD015087_Thermo\\Hela_P035216_BA1_S00_A00_R20.ms_data.hdf - peptide_fdr.\n",
      "2023-07-03 19:39:00> Trying to match file F:/AP_Paper_Benchmark/PXD015087_Thermo\\Hela_P035216_BA1_S00_A00_R3.ms_data.hdf with database of 42,875 unidentified candidates\n",
      "2023-07-03 19:39:00> 27,403 possible features for matching based on distance of 3\n",
      "2023-07-03 19:39:26> 14,288 possible features for matching based on probability of 0.05\n",
      "2023-07-03 19:39:26> Saving F:/AP_Paper_Benchmark/PXD015087_Thermo\\Hela_P035216_BA1_S00_A00_R3.ms_data.hdf - peptide_fdr.\n",
      "2023-07-03 19:39:27> Trying to match file F:/AP_Paper_Benchmark/PXD015087_Thermo\\Hela_P035216_BA1_S00_A00_R4.ms_data.hdf with database of 43,447 unidentified candidates\n",
      "2023-07-03 19:39:27> 28,234 possible features for matching based on distance of 3\n",
      "2023-07-03 19:39:54> 19,293 possible features for matching based on probability of 0.05\n",
      "2023-07-03 19:39:54> Saving F:/AP_Paper_Benchmark/PXD015087_Thermo\\Hela_P035216_BA1_S00_A00_R4.ms_data.hdf - peptide_fdr.\n",
      "2023-07-03 19:39:55> Trying to match file F:/AP_Paper_Benchmark/PXD015087_Thermo\\Hela_P035216_BA1_S00_A00_R5.ms_data.hdf with database of 43,713 unidentified candidates\n",
      "2023-07-03 19:39:55> 28,667 possible features for matching based on distance of 3\n",
      "2023-07-03 19:40:22> 19,840 possible features for matching based on probability of 0.05\n",
      "2023-07-03 19:40:22> Saving F:/AP_Paper_Benchmark/PXD015087_Thermo\\Hela_P035216_BA1_S00_A00_R5.ms_data.hdf - peptide_fdr.\n",
      "2023-07-03 19:40:23> Trying to match file F:/AP_Paper_Benchmark/PXD015087_Thermo\\Hela_P035216_BA1_S00_A00_R6.ms_data.hdf with database of 43,107 unidentified candidates\n",
      "2023-07-03 19:40:23> 28,231 possible features for matching based on distance of 3\n",
      "2023-07-03 19:40:50> 19,862 possible features for matching based on probability of 0.05\n",
      "2023-07-03 19:40:50> Saving F:/AP_Paper_Benchmark/PXD015087_Thermo\\Hela_P035216_BA1_S00_A00_R6.ms_data.hdf - peptide_fdr.\n",
      "2023-07-03 19:40:51> Trying to match file F:/AP_Paper_Benchmark/PXD015087_Thermo\\Hela_P035216_BA1_S00_A00_R7.ms_data.hdf with database of 43,218 unidentified candidates\n",
      "2023-07-03 19:40:51> 28,335 possible features for matching based on distance of 3\n",
      "2023-07-03 19:41:18> 20,097 possible features for matching based on probability of 0.05\n",
      "2023-07-03 19:41:18> Saving F:/AP_Paper_Benchmark/PXD015087_Thermo\\Hela_P035216_BA1_S00_A00_R7.ms_data.hdf - peptide_fdr.\n",
      "2023-07-03 19:41:19> Trying to match file F:/AP_Paper_Benchmark/PXD015087_Thermo\\Hela_P035216_BA1_S00_A00_R8.ms_data.hdf with database of 43,162 unidentified candidates\n",
      "2023-07-03 19:41:19> 28,546 possible features for matching based on distance of 3\n",
      "2023-07-03 19:41:46> 20,406 possible features for matching based on probability of 0.05\n",
      "2023-07-03 19:41:46> Saving F:/AP_Paper_Benchmark/PXD015087_Thermo\\Hela_P035216_BA1_S00_A00_R8.ms_data.hdf - peptide_fdr.\n",
      "2023-07-03 19:41:46> Trying to match file F:/AP_Paper_Benchmark/PXD015087_Thermo\\Hela_P035216_BA1_S00_A00_R9.ms_data.hdf with database of 43,176 unidentified candidates\n",
      "2023-07-03 19:41:47> 28,988 possible features for matching based on distance of 3\n",
      "2023-07-03 19:42:14> 19,945 possible features for matching based on probability of 0.05\n",
      "2023-07-03 19:42:14> Saving F:/AP_Paper_Benchmark/PXD015087_Thermo\\Hela_P035216_BA1_S00_A00_R9.ms_data.hdf - peptide_fdr.\n",
      "2023-07-03 19:42:15> Trying to match file F:/AP_Paper_Benchmark/PXD015087_Thermo\\Hela_P035217_BA1_S00_A00_R1.ms_data.hdf with database of 46,220 unidentified candidates\n",
      "2023-07-03 19:42:15> 31,509 possible features for matching based on distance of 3\n",
      "2023-07-03 19:42:46> 19,923 possible features for matching based on probability of 0.05\n",
      "2023-07-03 19:42:46> Saving F:/AP_Paper_Benchmark/PXD015087_Thermo\\Hela_P035217_BA1_S00_A00_R1.ms_data.hdf - peptide_fdr.\n",
      "2023-07-03 19:42:47> Trying to match file F:/AP_Paper_Benchmark/PXD015087_Thermo\\Hela_P035217_BA1_S00_A00_R10.ms_data.hdf with database of 45,805 unidentified candidates\n",
      "2023-07-03 19:42:47> 30,804 possible features for matching based on distance of 3\n",
      "2023-07-03 19:43:16> 20,229 possible features for matching based on probability of 0.05\n",
      "2023-07-03 19:43:16> Saving F:/AP_Paper_Benchmark/PXD015087_Thermo\\Hela_P035217_BA1_S00_A00_R10.ms_data.hdf - peptide_fdr.\n",
      "2023-07-03 19:43:17> Trying to match file F:/AP_Paper_Benchmark/PXD015087_Thermo\\Hela_P035217_BA1_S00_A00_R11.ms_data.hdf with database of 45,973 unidentified candidates\n",
      "2023-07-03 19:43:17> 31,037 possible features for matching based on distance of 3\n",
      "2023-07-03 19:43:47> 21,525 possible features for matching based on probability of 0.05\n",
      "2023-07-03 19:43:47> Saving F:/AP_Paper_Benchmark/PXD015087_Thermo\\Hela_P035217_BA1_S00_A00_R11.ms_data.hdf - peptide_fdr.\n",
      "2023-07-03 19:43:48> Trying to match file F:/AP_Paper_Benchmark/PXD015087_Thermo\\Hela_P035217_BA1_S00_A00_R12.ms_data.hdf with database of 45,270 unidentified candidates\n",
      "2023-07-03 19:43:48> 30,763 possible features for matching based on distance of 3\n",
      "2023-07-03 19:44:17> 21,123 possible features for matching based on probability of 0.05\n",
      "2023-07-03 19:44:17> Saving F:/AP_Paper_Benchmark/PXD015087_Thermo\\Hela_P035217_BA1_S00_A00_R12.ms_data.hdf - peptide_fdr.\n",
      "2023-07-03 19:44:18> Trying to match file F:/AP_Paper_Benchmark/PXD015087_Thermo\\Hela_P035217_BA1_S00_A00_R13.ms_data.hdf with database of 45,973 unidentified candidates\n",
      "2023-07-03 19:44:18> 31,180 possible features for matching based on distance of 3\n",
      "2023-07-03 19:44:48> 21,236 possible features for matching based on probability of 0.05\n",
      "2023-07-03 19:44:48> Saving F:/AP_Paper_Benchmark/PXD015087_Thermo\\Hela_P035217_BA1_S00_A00_R13.ms_data.hdf - peptide_fdr.\n",
      "2023-07-03 19:44:49> Trying to match file F:/AP_Paper_Benchmark/PXD015087_Thermo\\Hela_P035217_BA1_S00_A00_R14.ms_data.hdf with database of 46,088 unidentified candidates\n"
     ]
    },
    {
     "name": "stdout",
     "output_type": "stream",
     "text": [
      "2023-07-03 19:44:49> 31,120 possible features for matching based on distance of 3\n",
      "2023-07-03 19:45:18> 20,017 possible features for matching based on probability of 0.05\n",
      "2023-07-03 19:45:18> Saving F:/AP_Paper_Benchmark/PXD015087_Thermo\\Hela_P035217_BA1_S00_A00_R14.ms_data.hdf - peptide_fdr.\n",
      "2023-07-03 19:45:19> Trying to match file F:/AP_Paper_Benchmark/PXD015087_Thermo\\Hela_P035217_BA1_S00_A00_R15.ms_data.hdf with database of 45,724 unidentified candidates\n",
      "2023-07-03 19:45:19> 30,963 possible features for matching based on distance of 3\n",
      "2023-07-03 19:45:48> 21,619 possible features for matching based on probability of 0.05\n",
      "2023-07-03 19:45:48> Saving F:/AP_Paper_Benchmark/PXD015087_Thermo\\Hela_P035217_BA1_S00_A00_R15.ms_data.hdf - peptide_fdr.\n",
      "2023-07-03 19:45:49> Trying to match file F:/AP_Paper_Benchmark/PXD015087_Thermo\\Hela_P035217_BA1_S00_A00_R16.ms_data.hdf with database of 45,896 unidentified candidates\n",
      "2023-07-03 19:45:50> 31,137 possible features for matching based on distance of 3\n",
      "2023-07-03 19:46:19> 21,158 possible features for matching based on probability of 0.05\n",
      "2023-07-03 19:46:19> Saving F:/AP_Paper_Benchmark/PXD015087_Thermo\\Hela_P035217_BA1_S00_A00_R16.ms_data.hdf - peptide_fdr.\n",
      "2023-07-03 19:46:20> Trying to match file F:/AP_Paper_Benchmark/PXD015087_Thermo\\Hela_P035217_BA1_S00_A00_R17.ms_data.hdf with database of 46,223 unidentified candidates\n",
      "2023-07-03 19:46:20> 31,655 possible features for matching based on distance of 3\n",
      "2023-07-03 19:46:50> 22,518 possible features for matching based on probability of 0.05\n",
      "2023-07-03 19:46:50> Saving F:/AP_Paper_Benchmark/PXD015087_Thermo\\Hela_P035217_BA1_S00_A00_R17.ms_data.hdf - peptide_fdr.\n",
      "2023-07-03 19:46:51> Trying to match file F:/AP_Paper_Benchmark/PXD015087_Thermo\\Hela_P035217_BA1_S00_A00_R18.ms_data.hdf with database of 46,204 unidentified candidates\n",
      "2023-07-03 19:46:52> 31,325 possible features for matching based on distance of 3\n",
      "2023-07-03 19:47:21> 20,534 possible features for matching based on probability of 0.05\n",
      "2023-07-03 19:47:21> Saving F:/AP_Paper_Benchmark/PXD015087_Thermo\\Hela_P035217_BA1_S00_A00_R18.ms_data.hdf - peptide_fdr.\n",
      "2023-07-03 19:47:22> Trying to match file F:/AP_Paper_Benchmark/PXD015087_Thermo\\Hela_P035217_BA1_S00_A00_R19.ms_data.hdf with database of 46,262 unidentified candidates\n",
      "2023-07-03 19:47:22> 31,832 possible features for matching based on distance of 3\n",
      "2023-07-03 19:47:53> 22,142 possible features for matching based on probability of 0.05\n",
      "2023-07-03 19:47:53> Saving F:/AP_Paper_Benchmark/PXD015087_Thermo\\Hela_P035217_BA1_S00_A00_R19.ms_data.hdf - peptide_fdr.\n",
      "2023-07-03 19:47:54> Trying to match file F:/AP_Paper_Benchmark/PXD015087_Thermo\\Hela_P035217_BA1_S00_A00_R2.ms_data.hdf with database of 45,639 unidentified candidates\n",
      "2023-07-03 19:47:54> 31,472 possible features for matching based on distance of 3\n",
      "2023-07-03 19:48:24> 20,695 possible features for matching based on probability of 0.05\n",
      "2023-07-03 19:48:24> Saving F:/AP_Paper_Benchmark/PXD015087_Thermo\\Hela_P035217_BA1_S00_A00_R2.ms_data.hdf - peptide_fdr.\n",
      "2023-07-03 19:48:25> Trying to match file F:/AP_Paper_Benchmark/PXD015087_Thermo\\Hela_P035217_BA1_S00_A00_R20.ms_data.hdf with database of 46,062 unidentified candidates\n",
      "2023-07-03 19:48:25> 31,239 possible features for matching based on distance of 3\n",
      "2023-07-03 19:48:55> 22,163 possible features for matching based on probability of 0.05\n",
      "2023-07-03 19:48:55> Saving F:/AP_Paper_Benchmark/PXD015087_Thermo\\Hela_P035217_BA1_S00_A00_R20.ms_data.hdf - peptide_fdr.\n",
      "2023-07-03 19:48:56> Trying to match file F:/AP_Paper_Benchmark/PXD015087_Thermo\\Hela_P035217_BA1_S00_A00_R21.ms_data.hdf with database of 46,072 unidentified candidates\n",
      "2023-07-03 19:48:56> 31,616 possible features for matching based on distance of 3\n",
      "2023-07-03 19:49:26> 20,212 possible features for matching based on probability of 0.05\n",
      "2023-07-03 19:49:26> Saving F:/AP_Paper_Benchmark/PXD015087_Thermo\\Hela_P035217_BA1_S00_A00_R21.ms_data.hdf - peptide_fdr.\n",
      "2023-07-03 19:49:27> Trying to match file F:/AP_Paper_Benchmark/PXD015087_Thermo\\Hela_P035217_BA1_S00_A00_R3.ms_data.hdf with database of 45,919 unidentified candidates\n",
      "2023-07-03 19:49:27> 31,931 possible features for matching based on distance of 3\n",
      "2023-07-03 19:49:57> 22,944 possible features for matching based on probability of 0.05\n",
      "2023-07-03 19:49:57> Saving F:/AP_Paper_Benchmark/PXD015087_Thermo\\Hela_P035217_BA1_S00_A00_R3.ms_data.hdf - peptide_fdr.\n",
      "2023-07-03 19:49:58> Trying to match file F:/AP_Paper_Benchmark/PXD015087_Thermo\\Hela_P035217_BA1_S00_A00_R5.ms_data.hdf with database of 45,516 unidentified candidates\n",
      "2023-07-03 19:49:58> 23,378 possible features for matching based on distance of 3\n",
      "2023-07-03 19:50:20> 1,380 possible features for matching based on probability of 0.05\n",
      "2023-07-03 19:50:20> Saving F:/AP_Paper_Benchmark/PXD015087_Thermo\\Hela_P035217_BA1_S00_A00_R5.ms_data.hdf - peptide_fdr.\n",
      "2023-07-03 19:50:21> Trying to match file F:/AP_Paper_Benchmark/PXD015087_Thermo\\Hela_P035217_BA1_S00_A00_R6.ms_data.hdf with database of 45,793 unidentified candidates\n",
      "2023-07-03 19:50:21> 27,868 possible features for matching based on distance of 3\n",
      "2023-07-03 19:50:48> 12,320 possible features for matching based on probability of 0.05\n",
      "2023-07-03 19:50:48> Saving F:/AP_Paper_Benchmark/PXD015087_Thermo\\Hela_P035217_BA1_S00_A00_R6.ms_data.hdf - peptide_fdr.\n",
      "2023-07-03 19:50:49> Trying to match file F:/AP_Paper_Benchmark/PXD015087_Thermo\\Hela_P035217_BA1_S00_A00_R7.ms_data.hdf with database of 45,769 unidentified candidates\n",
      "2023-07-03 19:50:49> 30,023 possible features for matching based on distance of 3\n",
      "2023-07-03 19:51:18> 18,457 possible features for matching based on probability of 0.05\n",
      "2023-07-03 19:51:18> Saving F:/AP_Paper_Benchmark/PXD015087_Thermo\\Hela_P035217_BA1_S00_A00_R7.ms_data.hdf - peptide_fdr.\n",
      "2023-07-03 19:51:18> Trying to match file F:/AP_Paper_Benchmark/PXD015087_Thermo\\Hela_P035217_BA1_S00_A00_R8.ms_data.hdf with database of 46,050 unidentified candidates\n",
      "2023-07-03 19:51:19> 30,392 possible features for matching based on distance of 3\n",
      "2023-07-03 19:51:48> 17,746 possible features for matching based on probability of 0.05\n",
      "2023-07-03 19:51:48> Saving F:/AP_Paper_Benchmark/PXD015087_Thermo\\Hela_P035217_BA1_S00_A00_R8.ms_data.hdf - peptide_fdr.\n",
      "2023-07-03 19:51:49> Trying to match file F:/AP_Paper_Benchmark/PXD015087_Thermo\\Hela_P035217_BA1_S00_A00_R9.ms_data.hdf with database of 45,806 unidentified candidates\n",
      "2023-07-03 19:51:49> 30,057 possible features for matching based on distance of 3\n",
      "2023-07-03 19:52:17> 17,637 possible features for matching based on probability of 0.05\n",
      "2023-07-03 19:52:17> Saving F:/AP_Paper_Benchmark/PXD015087_Thermo\\Hela_P035217_BA1_S00_A00_R9.ms_data.hdf - peptide_fdr.\n",
      "2023-07-03 19:52:18> Trying to match file F:/AP_Paper_Benchmark/PXD015087_Thermo\\Hela_P035218_BA1_S00_A00_R1.ms_data.hdf with database of 45,956 unidentified candidates\n",
      "2023-07-03 19:52:19> 29,652 possible features for matching based on distance of 3\n",
      "2023-07-03 19:52:47> 14,534 possible features for matching based on probability of 0.05\n",
      "2023-07-03 19:52:47> Saving F:/AP_Paper_Benchmark/PXD015087_Thermo\\Hela_P035218_BA1_S00_A00_R1.ms_data.hdf - peptide_fdr.\n",
      "2023-07-03 19:52:47> Trying to match file F:/AP_Paper_Benchmark/PXD015087_Thermo\\Hela_P035218_BA1_S00_A00_R10.ms_data.hdf with database of 45,392 unidentified candidates\n",
      "2023-07-03 19:52:48> 28,693 possible features for matching based on distance of 3\n",
      "2023-07-03 19:53:15> 12,119 possible features for matching based on probability of 0.05\n",
      "2023-07-03 19:53:15> Saving F:/AP_Paper_Benchmark/PXD015087_Thermo\\Hela_P035218_BA1_S00_A00_R10.ms_data.hdf - peptide_fdr.\n",
      "2023-07-03 19:53:16> Trying to match file F:/AP_Paper_Benchmark/PXD015087_Thermo\\Hela_P035218_BA1_S00_A00_R11.ms_data.hdf with database of 45,574 unidentified candidates\n",
      "2023-07-03 19:53:16> 28,728 possible features for matching based on distance of 3\n",
      "2023-07-03 19:53:43> 12,050 possible features for matching based on probability of 0.05\n",
      "2023-07-03 19:53:43> Saving F:/AP_Paper_Benchmark/PXD015087_Thermo\\Hela_P035218_BA1_S00_A00_R11.ms_data.hdf - peptide_fdr.\n",
      "2023-07-03 19:53:44> Trying to match file F:/AP_Paper_Benchmark/PXD015087_Thermo\\Hela_P035218_BA1_S00_A00_R12.ms_data.hdf with database of 45,583 unidentified candidates\n"
     ]
    },
    {
     "name": "stdout",
     "output_type": "stream",
     "text": [
      "2023-07-03 19:53:44> 27,800 possible features for matching based on distance of 3\n",
      "2023-07-03 19:54:10> 8,856 possible features for matching based on probability of 0.05\n",
      "2023-07-03 19:54:10> Saving F:/AP_Paper_Benchmark/PXD015087_Thermo\\Hela_P035218_BA1_S00_A00_R12.ms_data.hdf - peptide_fdr.\n",
      "2023-07-03 19:54:11> Trying to match file F:/AP_Paper_Benchmark/PXD015087_Thermo\\Hela_P035218_BA1_S00_A00_R13.ms_data.hdf with database of 45,608 unidentified candidates\n",
      "2023-07-03 19:54:11> 28,172 possible features for matching based on distance of 3\n",
      "2023-07-03 19:54:38> 10,571 possible features for matching based on probability of 0.05\n",
      "2023-07-03 19:54:38> Saving F:/AP_Paper_Benchmark/PXD015087_Thermo\\Hela_P035218_BA1_S00_A00_R13.ms_data.hdf - peptide_fdr.\n",
      "2023-07-03 19:54:39> Trying to match file F:/AP_Paper_Benchmark/PXD015087_Thermo\\Hela_P035218_BA1_S00_A00_R14.ms_data.hdf with database of 45,888 unidentified candidates\n",
      "2023-07-03 19:54:39> 29,177 possible features for matching based on distance of 3\n",
      "2023-07-03 19:55:07> 14,977 possible features for matching based on probability of 0.05\n",
      "2023-07-03 19:55:07> Saving F:/AP_Paper_Benchmark/PXD015087_Thermo\\Hela_P035218_BA1_S00_A00_R14.ms_data.hdf - peptide_fdr.\n",
      "2023-07-03 19:55:08> Trying to match file F:/AP_Paper_Benchmark/PXD015087_Thermo\\Hela_P035218_BA1_S00_A00_R15.ms_data.hdf with database of 45,615 unidentified candidates\n",
      "2023-07-03 19:55:08> 28,689 possible features for matching based on distance of 3\n",
      "2023-07-03 19:55:35> 13,078 possible features for matching based on probability of 0.05\n",
      "2023-07-03 19:55:35> Saving F:/AP_Paper_Benchmark/PXD015087_Thermo\\Hela_P035218_BA1_S00_A00_R15.ms_data.hdf - peptide_fdr.\n",
      "2023-07-03 19:55:36> Trying to match file F:/AP_Paper_Benchmark/PXD015087_Thermo\\Hela_P035218_BA1_S00_A00_R16.ms_data.hdf with database of 45,642 unidentified candidates\n",
      "2023-07-03 19:55:36> 28,351 possible features for matching based on distance of 3\n",
      "2023-07-03 19:56:03> 11,084 possible features for matching based on probability of 0.05\n",
      "2023-07-03 19:56:03> Saving F:/AP_Paper_Benchmark/PXD015087_Thermo\\Hela_P035218_BA1_S00_A00_R16.ms_data.hdf - peptide_fdr.\n",
      "2023-07-03 19:56:04> Trying to match file F:/AP_Paper_Benchmark/PXD015087_Thermo\\Hela_P035218_BA1_S00_A00_R17.ms_data.hdf with database of 45,578 unidentified candidates\n",
      "2023-07-03 19:56:04> 27,918 possible features for matching based on distance of 3\n",
      "2023-07-03 19:56:31> 10,262 possible features for matching based on probability of 0.05\n",
      "2023-07-03 19:56:31> Saving F:/AP_Paper_Benchmark/PXD015087_Thermo\\Hela_P035218_BA1_S00_A00_R17.ms_data.hdf - peptide_fdr.\n",
      "2023-07-03 19:56:31> Trying to match file F:/AP_Paper_Benchmark/PXD015087_Thermo\\Hela_P035218_BA1_S00_A00_R18.ms_data.hdf with database of 45,624 unidentified candidates\n",
      "2023-07-03 19:56:32> 29,480 possible features for matching based on distance of 3\n",
      "2023-07-03 19:57:00> 17,040 possible features for matching based on probability of 0.05\n",
      "2023-07-03 19:57:00> Saving F:/AP_Paper_Benchmark/PXD015087_Thermo\\Hela_P035218_BA1_S00_A00_R18.ms_data.hdf - peptide_fdr.\n",
      "2023-07-03 19:57:01> Trying to match file F:/AP_Paper_Benchmark/PXD015087_Thermo\\Hela_P035218_BA1_S00_A00_R19.ms_data.hdf with database of 45,177 unidentified candidates\n",
      "2023-07-03 19:57:01> 28,831 possible features for matching based on distance of 3\n",
      "2023-07-03 19:57:29> 14,552 possible features for matching based on probability of 0.05\n",
      "2023-07-03 19:57:29> Saving F:/AP_Paper_Benchmark/PXD015087_Thermo\\Hela_P035218_BA1_S00_A00_R19.ms_data.hdf - peptide_fdr.\n",
      "2023-07-03 19:57:29> Trying to match file F:/AP_Paper_Benchmark/PXD015087_Thermo\\Hela_P035218_BA1_S00_A00_R2.ms_data.hdf with database of 45,866 unidentified candidates\n",
      "2023-07-03 19:57:30> 29,307 possible features for matching based on distance of 3\n",
      "2023-07-03 19:57:58> 13,597 possible features for matching based on probability of 0.05\n",
      "2023-07-03 19:57:58> Saving F:/AP_Paper_Benchmark/PXD015087_Thermo\\Hela_P035218_BA1_S00_A00_R2.ms_data.hdf - peptide_fdr.\n",
      "2023-07-03 19:57:59> Trying to match file F:/AP_Paper_Benchmark/PXD015087_Thermo\\Hela_P035218_BA1_S00_A00_R20.ms_data.hdf with database of 45,727 unidentified candidates\n",
      "2023-07-03 19:57:59> 29,838 possible features for matching based on distance of 3\n",
      "2023-07-03 19:58:27> 18,521 possible features for matching based on probability of 0.05\n",
      "2023-07-03 19:58:27> Saving F:/AP_Paper_Benchmark/PXD015087_Thermo\\Hela_P035218_BA1_S00_A00_R20.ms_data.hdf - peptide_fdr.\n",
      "2023-07-03 19:58:28> Trying to match file F:/AP_Paper_Benchmark/PXD015087_Thermo\\Hela_P035218_BA1_S00_A00_R3.ms_data.hdf with database of 45,666 unidentified candidates\n",
      "2023-07-03 19:58:29> 29,628 possible features for matching based on distance of 3\n",
      "2023-07-03 19:58:57> 15,441 possible features for matching based on probability of 0.05\n",
      "2023-07-03 19:58:57> Saving F:/AP_Paper_Benchmark/PXD015087_Thermo\\Hela_P035218_BA1_S00_A00_R3.ms_data.hdf - peptide_fdr.\n",
      "2023-07-03 19:58:58> Trying to match file F:/AP_Paper_Benchmark/PXD015087_Thermo\\Hela_P035218_BA1_S00_A00_R4.ms_data.hdf with database of 45,319 unidentified candidates\n",
      "2023-07-03 19:58:58> 29,199 possible features for matching based on distance of 3\n",
      "2023-07-03 19:59:26> 15,920 possible features for matching based on probability of 0.05\n",
      "2023-07-03 19:59:26> Saving F:/AP_Paper_Benchmark/PXD015087_Thermo\\Hela_P035218_BA1_S00_A00_R4.ms_data.hdf - peptide_fdr.\n",
      "2023-07-03 19:59:27> Trying to match file F:/AP_Paper_Benchmark/PXD015087_Thermo\\Hela_P035218_BA1_S00_A00_R5.ms_data.hdf with database of 46,061 unidentified candidates\n",
      "2023-07-03 19:59:27> 30,063 possible features for matching based on distance of 3\n",
      "2023-07-03 19:59:56> 16,594 possible features for matching based on probability of 0.05\n",
      "2023-07-03 19:59:56> Saving F:/AP_Paper_Benchmark/PXD015087_Thermo\\Hela_P035218_BA1_S00_A00_R5.ms_data.hdf - peptide_fdr.\n",
      "2023-07-03 19:59:57> Trying to match file F:/AP_Paper_Benchmark/PXD015087_Thermo\\Hela_P035218_BA1_S00_A00_R6.ms_data.hdf with database of 45,547 unidentified candidates\n",
      "2023-07-03 19:59:57> 29,468 possible features for matching based on distance of 3\n",
      "2023-07-03 20:00:25> 15,052 possible features for matching based on probability of 0.05\n",
      "2023-07-03 20:00:25> Saving F:/AP_Paper_Benchmark/PXD015087_Thermo\\Hela_P035218_BA1_S00_A00_R6.ms_data.hdf - peptide_fdr.\n",
      "2023-07-03 20:00:25> Trying to match file F:/AP_Paper_Benchmark/PXD015087_Thermo\\Hela_P035218_BA1_S00_A00_R7.ms_data.hdf with database of 45,386 unidentified candidates\n",
      "2023-07-03 20:00:26> 28,973 possible features for matching based on distance of 3\n",
      "2023-07-03 20:00:53> 13,480 possible features for matching based on probability of 0.05\n",
      "2023-07-03 20:00:53> Saving F:/AP_Paper_Benchmark/PXD015087_Thermo\\Hela_P035218_BA1_S00_A00_R7.ms_data.hdf - peptide_fdr.\n",
      "2023-07-03 20:00:54> Trying to match file F:/AP_Paper_Benchmark/PXD015087_Thermo\\Hela_P035218_BA1_S00_A00_R8.ms_data.hdf with database of 45,608 unidentified candidates\n",
      "2023-07-03 20:00:54> 29,513 possible features for matching based on distance of 3\n",
      "2023-07-03 20:01:23> 16,825 possible features for matching based on probability of 0.05\n",
      "2023-07-03 20:01:23> Saving F:/AP_Paper_Benchmark/PXD015087_Thermo\\Hela_P035218_BA1_S00_A00_R8.ms_data.hdf - peptide_fdr.\n",
      "2023-07-03 20:01:24> Trying to match file F:/AP_Paper_Benchmark/PXD015087_Thermo\\Hela_P035218_BA1_S00_A00_R9.ms_data.hdf with database of 45,981 unidentified candidates\n",
      "2023-07-03 20:01:24> 30,044 possible features for matching based on distance of 3\n",
      "2023-07-03 20:01:52> 15,833 possible features for matching based on probability of 0.05\n",
      "2023-07-03 20:01:52> Saving F:/AP_Paper_Benchmark/PXD015087_Thermo\\Hela_P035218_BA1_S00_A00_R9.ms_data.hdf - peptide_fdr.\n",
      "2023-07-03 20:01:53> Trying to match file F:/AP_Paper_Benchmark/PXD015087_Thermo\\Hela_P035219_BA1_S00_A00_R1.ms_data.hdf with database of 48,417 unidentified candidates\n",
      "2023-07-03 20:01:54> 32,318 possible features for matching based on distance of 3\n",
      "2023-07-03 20:02:25> 14,771 possible features for matching based on probability of 0.05\n",
      "2023-07-03 20:02:25> Saving F:/AP_Paper_Benchmark/PXD015087_Thermo\\Hela_P035219_BA1_S00_A00_R1.ms_data.hdf - peptide_fdr.\n",
      "2023-07-03 20:02:25> Trying to match file F:/AP_Paper_Benchmark/PXD015087_Thermo\\Hela_P035219_BA1_S00_A00_R10.ms_data.hdf with database of 48,360 unidentified candidates\n"
     ]
    },
    {
     "name": "stdout",
     "output_type": "stream",
     "text": [
      "2023-07-03 20:02:26> 31,908 possible features for matching based on distance of 3\n",
      "2023-07-03 20:02:57> 14,635 possible features for matching based on probability of 0.05\n",
      "2023-07-03 20:02:57> Saving F:/AP_Paper_Benchmark/PXD015087_Thermo\\Hela_P035219_BA1_S00_A00_R10.ms_data.hdf - peptide_fdr.\n",
      "2023-07-03 20:02:57> Trying to match file F:/AP_Paper_Benchmark/PXD015087_Thermo\\Hela_P035219_BA1_S00_A00_R11.ms_data.hdf with database of 48,149 unidentified candidates\n",
      "2023-07-03 20:02:58> 31,431 possible features for matching based on distance of 3\n",
      "2023-07-03 20:03:28> 13,722 possible features for matching based on probability of 0.05\n",
      "2023-07-03 20:03:28> Saving F:/AP_Paper_Benchmark/PXD015087_Thermo\\Hela_P035219_BA1_S00_A00_R11.ms_data.hdf - peptide_fdr.\n",
      "2023-07-03 20:03:28> Trying to match file F:/AP_Paper_Benchmark/PXD015087_Thermo\\Hela_P035219_BA1_S00_A00_R12.ms_data.hdf with database of 48,559 unidentified candidates\n",
      "2023-07-03 20:03:29> 30,979 possible features for matching based on distance of 3\n",
      "2023-07-03 20:03:58> 10,086 possible features for matching based on probability of 0.05\n",
      "2023-07-03 20:03:58> Saving F:/AP_Paper_Benchmark/PXD015087_Thermo\\Hela_P035219_BA1_S00_A00_R12.ms_data.hdf - peptide_fdr.\n",
      "2023-07-03 20:03:59> Trying to match file F:/AP_Paper_Benchmark/PXD015087_Thermo\\Hela_P035219_BA1_S00_A00_R13.ms_data.hdf with database of 48,741 unidentified candidates\n",
      "2023-07-03 20:03:59> 31,329 possible features for matching based on distance of 3\n",
      "2023-07-03 20:04:29> 10,651 possible features for matching based on probability of 0.05\n",
      "2023-07-03 20:04:29> Saving F:/AP_Paper_Benchmark/PXD015087_Thermo\\Hela_P035219_BA1_S00_A00_R13.ms_data.hdf - peptide_fdr.\n",
      "2023-07-03 20:04:30> Trying to match file F:/AP_Paper_Benchmark/PXD015087_Thermo\\Hela_P035219_BA1_S00_A00_R14.ms_data.hdf with database of 48,605 unidentified candidates\n",
      "2023-07-03 20:04:30> 27,564 possible features for matching based on distance of 3\n",
      "2023-07-03 20:04:56> 4,087 possible features for matching based on probability of 0.05\n",
      "2023-07-03 20:04:56> Saving F:/AP_Paper_Benchmark/PXD015087_Thermo\\Hela_P035219_BA1_S00_A00_R14.ms_data.hdf - peptide_fdr.\n",
      "2023-07-03 20:04:57> Trying to match file F:/AP_Paper_Benchmark/PXD015087_Thermo\\Hela_P035219_BA1_S00_A00_R15.ms_data.hdf with database of 48,110 unidentified candidates\n",
      "2023-07-03 20:04:57> 30,117 possible features for matching based on distance of 3\n",
      "2023-07-03 20:05:26> 9,917 possible features for matching based on probability of 0.05\n",
      "2023-07-03 20:05:26> Saving F:/AP_Paper_Benchmark/PXD015087_Thermo\\Hela_P035219_BA1_S00_A00_R15.ms_data.hdf - peptide_fdr.\n",
      "2023-07-03 20:05:27> Trying to match file F:/AP_Paper_Benchmark/PXD015087_Thermo\\Hela_P035219_BA1_S00_A00_R16.ms_data.hdf with database of 48,499 unidentified candidates\n",
      "2023-07-03 20:05:27> 31,454 possible features for matching based on distance of 3\n",
      "2023-07-03 20:05:57> 11,549 possible features for matching based on probability of 0.05\n",
      "2023-07-03 20:05:57> Saving F:/AP_Paper_Benchmark/PXD015087_Thermo\\Hela_P035219_BA1_S00_A00_R16.ms_data.hdf - peptide_fdr.\n",
      "2023-07-03 20:05:58> Trying to match file F:/AP_Paper_Benchmark/PXD015087_Thermo\\Hela_P035219_BA1_S00_A00_R17.ms_data.hdf with database of 49,205 unidentified candidates\n",
      "2023-07-03 20:05:58> 31,573 possible features for matching based on distance of 3\n",
      "2023-07-03 20:06:28> 9,996 possible features for matching based on probability of 0.05\n",
      "2023-07-03 20:06:28> Saving F:/AP_Paper_Benchmark/PXD015087_Thermo\\Hela_P035219_BA1_S00_A00_R17.ms_data.hdf - peptide_fdr.\n",
      "2023-07-03 20:06:29> Trying to match file F:/AP_Paper_Benchmark/PXD015087_Thermo\\Hela_P035219_BA1_S00_A00_R18.ms_data.hdf with database of 48,638 unidentified candidates\n",
      "2023-07-03 20:06:29> 30,549 possible features for matching based on distance of 3\n",
      "2023-07-03 20:06:58> 8,606 possible features for matching based on probability of 0.05\n",
      "2023-07-03 20:06:58> Saving F:/AP_Paper_Benchmark/PXD015087_Thermo\\Hela_P035219_BA1_S00_A00_R18.ms_data.hdf - peptide_fdr.\n",
      "2023-07-03 20:06:59> Trying to match file F:/AP_Paper_Benchmark/PXD015087_Thermo\\Hela_P035219_BA1_S00_A00_R19.ms_data.hdf with database of 48,809 unidentified candidates\n",
      "2023-07-03 20:06:59> 32,784 possible features for matching based on distance of 3\n",
      "2023-07-03 20:07:31> 18,480 possible features for matching based on probability of 0.05\n",
      "2023-07-03 20:07:31> Saving F:/AP_Paper_Benchmark/PXD015087_Thermo\\Hela_P035219_BA1_S00_A00_R19.ms_data.hdf - peptide_fdr.\n",
      "2023-07-03 20:07:32> Trying to match file F:/AP_Paper_Benchmark/PXD015087_Thermo\\Hela_P035219_BA1_S00_A00_R2.ms_data.hdf with database of 48,339 unidentified candidates\n",
      "2023-07-03 20:07:32> 31,275 possible features for matching based on distance of 3\n",
      "2023-07-03 20:08:02> 8,395 possible features for matching based on probability of 0.05\n",
      "2023-07-03 20:08:02> Saving F:/AP_Paper_Benchmark/PXD015087_Thermo\\Hela_P035219_BA1_S00_A00_R2.ms_data.hdf - peptide_fdr.\n",
      "2023-07-03 20:08:03> Trying to match file F:/AP_Paper_Benchmark/PXD015087_Thermo\\Hela_P035219_BA1_S00_A00_R20.ms_data.hdf with database of 49,437 unidentified candidates\n",
      "2023-07-03 20:08:03> 33,360 possible features for matching based on distance of 3\n",
      "2023-07-03 20:08:35> 20,655 possible features for matching based on probability of 0.05\n",
      "2023-07-03 20:08:35> Saving F:/AP_Paper_Benchmark/PXD015087_Thermo\\Hela_P035219_BA1_S00_A00_R20.ms_data.hdf - peptide_fdr.\n",
      "2023-07-03 20:08:36> Trying to match file F:/AP_Paper_Benchmark/PXD015087_Thermo\\Hela_P035219_BA1_S00_A00_R3.ms_data.hdf with database of 48,038 unidentified candidates\n",
      "2023-07-03 20:08:36> 32,580 possible features for matching based on distance of 3\n",
      "2023-07-03 20:09:08> 21,123 possible features for matching based on probability of 0.05\n",
      "2023-07-03 20:09:08> Saving F:/AP_Paper_Benchmark/PXD015087_Thermo\\Hela_P035219_BA1_S00_A00_R3.ms_data.hdf - peptide_fdr.\n",
      "2023-07-03 20:09:09> Trying to match file F:/AP_Paper_Benchmark/PXD015087_Thermo\\Hela_P035219_BA1_S00_A00_R4.ms_data.hdf with database of 48,098 unidentified candidates\n",
      "2023-07-03 20:09:09> 31,734 possible features for matching based on distance of 3\n",
      "2023-07-03 20:09:39> 13,917 possible features for matching based on probability of 0.05\n",
      "2023-07-03 20:09:39> Saving F:/AP_Paper_Benchmark/PXD015087_Thermo\\Hela_P035219_BA1_S00_A00_R4.ms_data.hdf - peptide_fdr.\n",
      "2023-07-03 20:09:40> Trying to match file F:/AP_Paper_Benchmark/PXD015087_Thermo\\Hela_P035219_BA1_S00_A00_R5.ms_data.hdf with database of 48,198 unidentified candidates\n",
      "2023-07-03 20:09:40> 32,161 possible features for matching based on distance of 3\n",
      "2023-07-03 20:10:11> 16,693 possible features for matching based on probability of 0.05\n",
      "2023-07-03 20:10:11> Saving F:/AP_Paper_Benchmark/PXD015087_Thermo\\Hela_P035219_BA1_S00_A00_R5.ms_data.hdf - peptide_fdr.\n",
      "2023-07-03 20:10:12> Trying to match file F:/AP_Paper_Benchmark/PXD015087_Thermo\\Hela_P035219_BA1_S00_A00_R6.ms_data.hdf with database of 48,159 unidentified candidates\n",
      "2023-07-03 20:10:12> 32,153 possible features for matching based on distance of 3\n",
      "2023-07-03 20:10:43> 17,265 possible features for matching based on probability of 0.05\n",
      "2023-07-03 20:10:43> Saving F:/AP_Paper_Benchmark/PXD015087_Thermo\\Hela_P035219_BA1_S00_A00_R6.ms_data.hdf - peptide_fdr.\n",
      "2023-07-03 20:10:44> Trying to match file F:/AP_Paper_Benchmark/PXD015087_Thermo\\Hela_P035219_BA1_S00_A00_R7.ms_data.hdf with database of 48,508 unidentified candidates\n",
      "2023-07-03 20:10:44> 32,545 possible features for matching based on distance of 3\n",
      "2023-07-03 20:11:15> 18,051 possible features for matching based on probability of 0.05\n",
      "2023-07-03 20:11:15> Saving F:/AP_Paper_Benchmark/PXD015087_Thermo\\Hela_P035219_BA1_S00_A00_R7.ms_data.hdf - peptide_fdr.\n",
      "2023-07-03 20:11:16> Trying to match file F:/AP_Paper_Benchmark/PXD015087_Thermo\\Hela_P035219_BA1_S00_A00_R8.ms_data.hdf with database of 48,585 unidentified candidates\n",
      "2023-07-03 20:11:16> 31,893 possible features for matching based on distance of 3\n",
      "2023-07-03 20:11:46> 12,094 possible features for matching based on probability of 0.05\n",
      "2023-07-03 20:11:47> Saving F:/AP_Paper_Benchmark/PXD015087_Thermo\\Hela_P035219_BA1_S00_A00_R8.ms_data.hdf - peptide_fdr.\n",
      "2023-07-03 20:11:47> Trying to match file F:/AP_Paper_Benchmark/PXD015087_Thermo\\Hela_P035219_BA1_S00_A00_R9.ms_data.hdf with database of 48,905 unidentified candidates\n"
     ]
    },
    {
     "name": "stdout",
     "output_type": "stream",
     "text": [
      "2023-07-03 20:11:48> 33,475 possible features for matching based on distance of 3\n",
      "2023-07-03 20:12:20> 23,248 possible features for matching based on probability of 0.05\n",
      "2023-07-03 20:12:20> Saving F:/AP_Paper_Benchmark/PXD015087_Thermo\\Hela_P035219_BA1_S00_A00_R9.ms_data.hdf - peptide_fdr.\n",
      "2023-07-03 20:12:21> Trying to match file F:/AP_Paper_Benchmark/PXD015087_Thermo\\March_Hela_P035212_BA1_S00_A00_R1.ms_data.hdf with database of 58,448 unidentified candidates\n",
      "2023-07-03 20:12:21> 43,047 possible features for matching based on distance of 3\n",
      "2023-07-03 20:13:03> 32,348 possible features for matching based on probability of 0.05\n",
      "2023-07-03 20:13:03> Saving F:/AP_Paper_Benchmark/PXD015087_Thermo\\March_Hela_P035212_BA1_S00_A00_R1.ms_data.hdf - peptide_fdr.\n",
      "2023-07-03 20:13:04> Trying to match file F:/AP_Paper_Benchmark/PXD015087_Thermo\\March_Hela_P035212_BA1_S00_A00_R10.ms_data.hdf with database of 58,442 unidentified candidates\n",
      "2023-07-03 20:13:05> 42,665 possible features for matching based on distance of 3\n",
      "2023-07-03 20:13:46> 30,028 possible features for matching based on probability of 0.05\n",
      "2023-07-03 20:13:46> Saving F:/AP_Paper_Benchmark/PXD015087_Thermo\\March_Hela_P035212_BA1_S00_A00_R10.ms_data.hdf - peptide_fdr.\n",
      "2023-07-03 20:13:47> Trying to match file F:/AP_Paper_Benchmark/PXD015087_Thermo\\March_Hela_P035212_BA1_S00_A00_R11.ms_data.hdf with database of 58,316 unidentified candidates\n",
      "2023-07-03 20:13:48> 42,684 possible features for matching based on distance of 3\n",
      "2023-07-03 20:14:30> 31,724 possible features for matching based on probability of 0.05\n",
      "2023-07-03 20:14:30> Saving F:/AP_Paper_Benchmark/PXD015087_Thermo\\March_Hela_P035212_BA1_S00_A00_R11.ms_data.hdf - peptide_fdr.\n",
      "2023-07-03 20:14:30> Trying to match file F:/AP_Paper_Benchmark/PXD015087_Thermo\\March_Hela_P035212_BA1_S00_A00_R12.ms_data.hdf with database of 58,570 unidentified candidates\n",
      "2023-07-03 20:14:31> 42,636 possible features for matching based on distance of 3\n",
      "2023-07-03 20:15:13> 28,455 possible features for matching based on probability of 0.05\n",
      "2023-07-03 20:15:13> Saving F:/AP_Paper_Benchmark/PXD015087_Thermo\\March_Hela_P035212_BA1_S00_A00_R12.ms_data.hdf - peptide_fdr.\n",
      "2023-07-03 20:15:13> Trying to match file F:/AP_Paper_Benchmark/PXD015087_Thermo\\March_Hela_P035212_BA1_S00_A00_R13.ms_data.hdf with database of 58,743 unidentified candidates\n",
      "2023-07-03 20:15:14> 42,493 possible features for matching based on distance of 3\n",
      "2023-07-03 20:15:55> 27,964 possible features for matching based on probability of 0.05\n",
      "2023-07-03 20:15:55> Saving F:/AP_Paper_Benchmark/PXD015087_Thermo\\March_Hela_P035212_BA1_S00_A00_R13.ms_data.hdf - peptide_fdr.\n",
      "2023-07-03 20:15:56> Trying to match file F:/AP_Paper_Benchmark/PXD015087_Thermo\\March_Hela_P035212_BA1_S00_A00_R14.ms_data.hdf with database of 58,729 unidentified candidates\n",
      "2023-07-03 20:15:57> 41,922 possible features for matching based on distance of 3\n",
      "2023-07-03 20:16:38> 25,566 possible features for matching based on probability of 0.05\n",
      "2023-07-03 20:16:38> Saving F:/AP_Paper_Benchmark/PXD015087_Thermo\\March_Hela_P035212_BA1_S00_A00_R14.ms_data.hdf - peptide_fdr.\n",
      "2023-07-03 20:16:38> Trying to match file F:/AP_Paper_Benchmark/PXD015087_Thermo\\March_Hela_P035212_BA1_S00_A00_R15.ms_data.hdf with database of 58,521 unidentified candidates\n",
      "2023-07-03 20:16:39> 42,003 possible features for matching based on distance of 3\n",
      "2023-07-03 20:17:20> 27,164 possible features for matching based on probability of 0.05\n",
      "2023-07-03 20:17:20> Saving F:/AP_Paper_Benchmark/PXD015087_Thermo\\March_Hela_P035212_BA1_S00_A00_R15.ms_data.hdf - peptide_fdr.\n",
      "2023-07-03 20:17:21> Trying to match file F:/AP_Paper_Benchmark/PXD015087_Thermo\\March_Hela_P035212_BA1_S00_A00_R16.ms_data.hdf with database of 58,406 unidentified candidates\n",
      "2023-07-03 20:17:21> 41,722 possible features for matching based on distance of 3\n",
      "2023-07-03 20:18:02> 25,206 possible features for matching based on probability of 0.05\n",
      "2023-07-03 20:18:02> Saving F:/AP_Paper_Benchmark/PXD015087_Thermo\\March_Hela_P035212_BA1_S00_A00_R16.ms_data.hdf - peptide_fdr.\n",
      "2023-07-03 20:18:03> Trying to match file F:/AP_Paper_Benchmark/PXD015087_Thermo\\March_Hela_P035212_BA1_S00_A00_R17.ms_data.hdf with database of 58,618 unidentified candidates\n",
      "2023-07-03 20:18:03> 41,984 possible features for matching based on distance of 3\n",
      "2023-07-03 20:18:44> 26,328 possible features for matching based on probability of 0.05\n",
      "2023-07-03 20:18:44> Saving F:/AP_Paper_Benchmark/PXD015087_Thermo\\March_Hela_P035212_BA1_S00_A00_R17.ms_data.hdf - peptide_fdr.\n",
      "2023-07-03 20:18:45> Trying to match file F:/AP_Paper_Benchmark/PXD015087_Thermo\\March_Hela_P035212_BA1_S00_A00_R18.ms_data.hdf with database of 58,648 unidentified candidates\n",
      "2023-07-03 20:18:45> 42,162 possible features for matching based on distance of 3\n",
      "2023-07-03 20:19:26> 28,652 possible features for matching based on probability of 0.05\n",
      "2023-07-03 20:19:26> Saving F:/AP_Paper_Benchmark/PXD015087_Thermo\\March_Hela_P035212_BA1_S00_A00_R18.ms_data.hdf - peptide_fdr.\n",
      "2023-07-03 20:19:27> Trying to match file F:/AP_Paper_Benchmark/PXD015087_Thermo\\March_Hela_P035212_BA1_S00_A00_R19.ms_data.hdf with database of 58,510 unidentified candidates\n",
      "2023-07-03 20:19:28> 42,473 possible features for matching based on distance of 3\n",
      "2023-07-03 20:20:09> 30,975 possible features for matching based on probability of 0.05\n",
      "2023-07-03 20:20:09> Saving F:/AP_Paper_Benchmark/PXD015087_Thermo\\March_Hela_P035212_BA1_S00_A00_R19.ms_data.hdf - peptide_fdr.\n",
      "2023-07-03 20:20:10> Trying to match file F:/AP_Paper_Benchmark/PXD015087_Thermo\\March_Hela_P035212_BA1_S00_A00_R2.ms_data.hdf with database of 58,987 unidentified candidates\n",
      "2023-07-03 20:20:10> 42,651 possible features for matching based on distance of 3\n",
      "2023-07-03 20:20:52> 26,765 possible features for matching based on probability of 0.05\n",
      "2023-07-03 20:20:52> Saving F:/AP_Paper_Benchmark/PXD015087_Thermo\\March_Hela_P035212_BA1_S00_A00_R2.ms_data.hdf - peptide_fdr.\n",
      "2023-07-03 20:20:53> Trying to match file F:/AP_Paper_Benchmark/PXD015087_Thermo\\March_Hela_P035212_BA1_S00_A00_R20.ms_data.hdf with database of 58,846 unidentified candidates\n",
      "2023-07-03 20:20:54> 42,796 possible features for matching based on distance of 3\n",
      "2023-07-03 20:21:36> 31,877 possible features for matching based on probability of 0.05\n",
      "2023-07-03 20:21:36> Saving F:/AP_Paper_Benchmark/PXD015087_Thermo\\March_Hela_P035212_BA1_S00_A00_R20.ms_data.hdf - peptide_fdr.\n",
      "2023-07-03 20:21:36> Trying to match file F:/AP_Paper_Benchmark/PXD015087_Thermo\\March_Hela_P035212_BA1_S00_A00_R3.ms_data.hdf with database of 58,732 unidentified candidates\n",
      "2023-07-03 20:21:37> 43,039 possible features for matching based on distance of 3\n",
      "2023-07-03 20:22:19> 32,458 possible features for matching based on probability of 0.05\n",
      "2023-07-03 20:22:19> Saving F:/AP_Paper_Benchmark/PXD015087_Thermo\\March_Hela_P035212_BA1_S00_A00_R3.ms_data.hdf - peptide_fdr.\n",
      "2023-07-03 20:22:20> Trying to match file F:/AP_Paper_Benchmark/PXD015087_Thermo\\March_Hela_P035212_BA1_S00_A00_R4.ms_data.hdf with database of 58,321 unidentified candidates\n",
      "2023-07-03 20:22:21> 42,614 possible features for matching based on distance of 3\n",
      "2023-07-03 20:23:02> 31,754 possible features for matching based on probability of 0.05\n",
      "2023-07-03 20:23:02> Saving F:/AP_Paper_Benchmark/PXD015087_Thermo\\March_Hela_P035212_BA1_S00_A00_R4.ms_data.hdf - peptide_fdr.\n",
      "2023-07-03 20:23:03> Trying to match file F:/AP_Paper_Benchmark/PXD015087_Thermo\\March_Hela_P035212_BA1_S00_A00_R5.ms_data.hdf with database of 58,847 unidentified candidates\n",
      "2023-07-03 20:23:04> 42,788 possible features for matching based on distance of 3\n",
      "2023-07-03 20:23:46> 30,055 possible features for matching based on probability of 0.05\n",
      "2023-07-03 20:23:46> Saving F:/AP_Paper_Benchmark/PXD015087_Thermo\\March_Hela_P035212_BA1_S00_A00_R5.ms_data.hdf - peptide_fdr.\n",
      "2023-07-03 20:23:46> Trying to match file F:/AP_Paper_Benchmark/PXD015087_Thermo\\March_Hela_P035212_BA1_S00_A00_R6.ms_data.hdf with database of 58,655 unidentified candidates\n",
      "2023-07-03 20:23:47> 42,917 possible features for matching based on distance of 3\n",
      "2023-07-03 20:24:29> 31,474 possible features for matching based on probability of 0.05\n"
     ]
    },
    {
     "name": "stdout",
     "output_type": "stream",
     "text": [
      "2023-07-03 20:24:29> Saving F:/AP_Paper_Benchmark/PXD015087_Thermo\\March_Hela_P035212_BA1_S00_A00_R6.ms_data.hdf - peptide_fdr.\n",
      "2023-07-03 20:24:30> Trying to match file F:/AP_Paper_Benchmark/PXD015087_Thermo\\March_Hela_P035212_BA1_S00_A00_R7.ms_data.hdf with database of 58,483 unidentified candidates\n",
      "2023-07-03 20:24:30> 42,857 possible features for matching based on distance of 3\n",
      "2023-07-03 20:25:12> 32,915 possible features for matching based on probability of 0.05\n",
      "2023-07-03 20:25:13> Saving F:/AP_Paper_Benchmark/PXD015087_Thermo\\March_Hela_P035212_BA1_S00_A00_R7.ms_data.hdf - peptide_fdr.\n",
      "2023-07-03 20:25:13> Trying to match file F:/AP_Paper_Benchmark/PXD015087_Thermo\\March_Hela_P035212_BA1_S00_A00_R8.ms_data.hdf with database of 58,453 unidentified candidates\n",
      "2023-07-03 20:25:14> 42,625 possible features for matching based on distance of 3\n",
      "2023-07-03 20:25:56> 29,647 possible features for matching based on probability of 0.05\n",
      "2023-07-03 20:25:56> Saving F:/AP_Paper_Benchmark/PXD015087_Thermo\\March_Hela_P035212_BA1_S00_A00_R8.ms_data.hdf - peptide_fdr.\n",
      "2023-07-03 20:25:56> Trying to match file F:/AP_Paper_Benchmark/PXD015087_Thermo\\March_Hela_P035212_BA1_S00_A00_R9.ms_data.hdf with database of 58,709 unidentified candidates\n",
      "2023-07-03 20:25:57> 42,706 possible features for matching based on distance of 3\n",
      "2023-07-03 20:26:39> 30,441 possible features for matching based on probability of 0.05\n",
      "2023-07-03 20:26:39> Saving F:/AP_Paper_Benchmark/PXD015087_Thermo\\March_Hela_P035212_BA1_S00_A00_R9.ms_data.hdf - peptide_fdr.\n",
      "2023-07-03 20:26:40> Matching complete.\n",
      "2023-07-03 20:26:40> ==== isobaric_labeling ====\n",
      "2023-07-03 20:26:40> ==== protein_grouping ====\n"
     ]
    },
    {
     "name": "stderr",
     "output_type": "stream",
     "text": [
      "\r",
      "  0%|                                                                                            | 0/1 [00:00<?, ?it/s]"
     ]
    },
    {
     "name": "stdout",
     "output_type": "stream",
     "text": [
      "2023-07-03 20:26:40> Fasta dict with length 88,601, Pept dict with length 6,075,814\n",
      "2023-07-03 20:26:40> Extracting protein groups.\n"
     ]
    },
    {
     "name": "stderr",
     "output_type": "stream",
     "text": [
      "\n",
      "  0%|                                                                                            | 0/1 [00:00<?, ?it/s]\u001b[A\n"
     ]
    },
    {
     "name": "stdout",
     "output_type": "stream",
     "text": [
      "2023-07-03 20:27:49> A total of 12,510 unique and 40,367 shared peptides.\n",
      "2023-07-03 20:28:05> A total of 5374 ambigious proteins\n",
      "2023-07-03 20:28:07> A total of 1,955 unique and 3,787 shared peptides.\n",
      "2023-07-03 20:28:08> A total of 2900 ambigious proteins\n",
      "2023-07-03 20:29:19> Global FDR on protein_group\n",
      "2023-07-03 20:29:25> 4,232 target (42 decoy) of 12,393 PSMs. FDR 0.009924 for a cutoff of 0.96 (set FDR was 0.01).\n",
      "2023-07-03 20:29:26> Global FDR cutoff at 0.957.\n",
      "2023-07-03 20:30:07> FDR on proteins complete. For 0.01 FDR found 7,170,704 targets and 7,100 decoys. A total of 4,274 proteins found.\n",
      "2023-07-03 20:30:37> Saving complete.\n",
      "2023-07-03 20:30:41> Protein groups complete.\n"
     ]
    },
    {
     "name": "stderr",
     "output_type": "stream",
     "text": [
      "\r",
      "  0%|                                                                                            | 0/1 [04:00<?, ?it/s]"
     ]
    },
    {
     "name": "stdout",
     "output_type": "stream",
     "text": [
      "2023-07-03 20:30:41> ==== quantification ====\n",
      "2023-07-03 20:30:41> Reading protein_fdr for quantification.\n"
     ]
    },
    {
     "name": "stderr",
     "output_type": "stream",
     "text": [
      "\n"
     ]
    },
    {
     "name": "stdout",
     "output_type": "stream",
     "text": [
      "2023-07-03 20:30:58> Delayed Normalization.\n",
      "2023-07-03 20:31:02> Setting minimum occurence to 186.0\n",
      "2023-07-03 20:31:06> Delayed normalization with SLSQP on (1, 200, 13240)\n",
      "2023-07-03 21:51:44> Saving protein_groups after delayed normalization to combined_protein_fdr_dn\n",
      "2023-07-03 21:52:04> Complete.\n",
      "2023-07-03 21:52:04> Starting profile extraction.\n"
     ]
    },
    {
     "name": "stderr",
     "output_type": "stream",
     "text": [
      "\r",
      "  0%|                                                                                            | 0/1 [00:00<?, ?it/s]"
     ]
    },
    {
     "name": "stdout",
     "output_type": "stream",
     "text": [
      "2023-07-03 21:52:11> Preparing protein table for parallel processing.\n"
     ]
    },
    {
     "name": "stderr",
     "output_type": "stream",
     "text": [
      " 20%|█████████████▍                                                     | 0.199859616284511/1 [01:08<04:12, 316.00s/it]"
     ]
    },
    {
     "name": "stdout",
     "output_type": "stream",
     "text": [
      "2023-07-03 21:53:12> Starting protein extraction for 4274 proteins.\n",
      "2023-07-03 21:53:12> AlphaPool was set to 24 processes. Setting max to 24.\n"
     ]
    },
    {
     "name": "stderr",
     "output_type": "stream",
     "text": [
      " 87%|████████████████████████████████████████████████████████▎        | 0.8663547028544689/1 [23:53<02:48, 1262.44s/it]"
     ]
    },
    {
     "name": "stdout",
     "output_type": "stream",
     "text": [
      "2023-07-03 22:15:58> LFQ profile extraction for protein tr|M0QZM1|M0QZM1_HUMAN did not converge. Setting to zero.\n"
     ]
    },
    {
     "name": "stderr",
     "output_type": "stream",
     "text": [
      "100%|█████████████████████████████████████████████████████████████████▊| 0.9979410388394947/1 [27:16<00:01, 515.74s/it]"
     ]
    },
    {
     "name": "stdout",
     "output_type": "stream",
     "text": [
      "2023-07-03 22:19:20> LFQ profile extraction for protein sp|Q9H9C1|SPE39_HUMAN,sp|Q9H9C1-2|SPE39_HUMAN,tr|G3V4K3|G3V4K3_HUMAN did not converge. Setting to zero.\n"
     ]
    },
    {
     "name": "stderr",
     "output_type": "stream",
     "text": [
      "\r",
      "100%|████████████████████████████████████████████████████████████████▉| 0.9986897519887692/1 [27:19<00:02, 1527.32s/it]"
     ]
    },
    {
     "name": "stdout",
     "output_type": "stream",
     "text": [
      "2023-07-03 22:19:32> LFQ profile extraction for protein sp|P62877|RBX1_HUMAN did not converge. Setting to zero.\n",
      "2023-07-03 22:19:42> LFQ profile extraction for protein sp|Q9UHB6-2|LIMA1_HUMAN,sp|Q9UHB6-3|LIMA1_HUMAN,tr|F8VS07|F8VS07_HUMAN,tr|F8VRN8|F8VRN8_HUMAN,tr|F8VQE1|F8VQE1_HUMAN,sp|Q9UHB6|LIMA1_HUMAN did not converge. Setting to zero.\n"
     ]
    },
    {
     "name": "stderr",
     "output_type": "stream",
     "text": [
      "100%|████████████████████████████████████████████████████████████████▉| 0.9994384651380439/1 [27:41<00:05, 9338.38s/it]"
     ]
    },
    {
     "name": "stdout",
     "output_type": "stream",
     "text": [
      "2023-07-03 22:20:16> LFQ profile extraction for protein tr|F5H4Y5|F5H4Y5_HUMAN,sp|Q92879|CELF1_HUMAN,tr|E9PQK4|E9PQK4_HUMAN,tr|E9PSH0|E9PSH0_HUMAN,tr|E9PKA1|E9PKA1_HUMAN,sp|Q92879-2|CELF1_HUMAN,sp|Q92879-3|CELF1_HUMAN,sp|Q92879-6|CELF1_HUMAN did not converge. Setting to zero.\n",
      "2023-07-03 22:20:19> LFQ profile extraction for protein Q2KIS7 did not converge. Setting to zero.\n"
     ]
    },
    {
     "name": "stderr",
     "output_type": "stream",
     "text": [
      "\r",
      "100%|███████████████████████████████████████████████████████████████▉| 0.9998128217126814/1 [28:15<00:05, 26898.48s/it]"
     ]
    },
    {
     "name": "stdout",
     "output_type": "stream",
     "text": [
      "2023-07-03 22:20:29> LFQ profile extraction for protein sp|Q01955|CO4A3_HUMAN did not converge. Setting to zero.\n"
     ]
    },
    {
     "name": "stderr",
     "output_type": "stream",
     "text": [
      "\r",
      "100%|███████████████████████████████████████████████████████████████████████████████| 1.0/1 [28:25<00:00, 30569.08s/it]"
     ]
    },
    {
     "name": "stdout",
     "output_type": "stream",
     "text": [
      "2023-07-03 22:20:35> LFQ complete.\n",
      "2023-07-03 22:20:37> Extracting protein_summary\n",
      "2023-07-03 22:20:44> Saved protein_summary of length 4,274 saved to F:\\AP_Paper_Benchmark\\PXD015087_Thermo\\results_protein_summary.csv\n",
      "2023-07-03 22:20:44> Updating protein_fdr.\n",
      "2023-07-03 22:21:05> Exporting as csv.\n",
      "2023-07-03 22:26:19> Saved df of length 7,177,804 saved to F:\\AP_Paper_Benchmark\\PXD015087_Thermo\\results\n"
     ]
    },
    {
     "name": "stderr",
     "output_type": "stream",
     "text": [
      "\r",
      "100%|████████████████████████████████████████████████████████████████████████████████| 1.0/1 [34:16<00:00, 2056.35s/it]"
     ]
    },
    {
     "name": "stdout",
     "output_type": "stream",
     "text": [
      "2023-07-03 22:26:20> ==== export ====\n"
     ]
    },
    {
     "name": "stderr",
     "output_type": "stream",
     "text": [
      "\n"
     ]
    },
    {
     "name": "stdout",
     "output_type": "stream",
     "text": [
      "2023-07-03 22:29:53> Settings saved to F:\\AP_Paper_Benchmark\\PXD015087_Thermo\\results.yaml\n",
      "2023-07-03 22:29:53> Analysis complete.\n"
     ]
    }
   ],
   "source": [
    "from alphapept.settings import load_settings\n",
    "from alphapept.paths import DEFAULT_SETTINGS_PATH\n",
    "\n",
    "settings = load_settings(DEFAULT_SETTINGS_PATH)\n",
    "\n",
    "settings['experiment']['file_paths'] =  raw_files\n",
    "settings['experiment']['fasta_paths'] = fasta_files\n",
    "settings['workflow']['match'] = True\n",
    "    \n",
    "import alphapept.interface\n",
    "\n",
    "settings_ = alphapept.interface.run_complete_workflow(settings)"
   ]
  },
  {
   "cell_type": "code",
   "execution_count": 5,
   "id": "169ee767",
   "metadata": {},
   "outputs": [],
   "source": [
    "from alphapept.settings import load_settings\n",
    "import numpy as np\n",
    "import os\n",
    "\n",
    "dark_blue = '#17212b'\n",
    "light_blue = '#3dc5ef'\n",
    "teal= '#42dee1'\n",
    "green = '#6eecb9'\n",
    "yellow = '#eef5b3'\n",
    "hfont = {'fontname':'Arial', 'size':10}\n",
    "\n",
    "colors = [dark_blue, light_blue, teal, green, yellow]\n",
    "\n",
    "alpha = 1"
   ]
  },
  {
   "cell_type": "code",
   "execution_count": 6,
   "id": "2737f843",
   "metadata": {},
   "outputs": [],
   "source": [
    "settings_ = load_settings('F:/AP_Paper_Benchmark/PXD015087_Thermo/results.yaml')"
   ]
  },
  {
   "cell_type": "code",
   "execution_count": 7,
   "id": "f95fcc8d",
   "metadata": {},
   "outputs": [
    {
     "name": "stdout",
     "output_type": "stream",
     "text": [
      "Time per sample 2.07 min\n"
     ]
    }
   ],
   "source": [
    "time_per_sample = settings_['summary']['timing']['total (min)']/200\n",
    "print(f'Time per sample {time_per_sample:.2f} min')"
   ]
  },
  {
   "cell_type": "code",
   "execution_count": 28,
   "id": "6512ab0f",
   "metadata": {},
   "outputs": [],
   "source": [
    "import matplotlib.pyplot as plt"
   ]
  },
  {
   "cell_type": "code",
   "execution_count": 29,
   "id": "2a40331a",
   "metadata": {},
   "outputs": [],
   "source": [
    "timing_dict = {'align (min)': 18.43439761400223,\n",
    " 'create_database (min)': 5.469457550843557,\n",
    " 'feature_finding (min)': 134.25659487247466,\n",
    " 'import_raw_data (min)': 12.246336730321248,\n",
    " 'isobaric_labeling (min)': 0.0,\n",
    " 'match (min)': 93.23704312245052,\n",
    " 'protein_grouping (min)': 4.004417900244395,\n",
    " 'quantification (min)': 115.65717749198278,\n",
    " 'recalibrate_data (min)': 9.120089745521545,\n",
    " 'score (min)': 3.6638959725697835,\n",
    " 'search_data (min)': 12.36140175263087,\n",
    " 'search_data_2 (min)': 4.678736817836762,\n",
    " 'total (min)': 413.12995325724285}"
   ]
  },
  {
   "cell_type": "code",
   "execution_count": 30,
   "id": "5042d63d",
   "metadata": {},
   "outputs": [],
   "source": [
    "steps = [_ for _ in settings_['summary']['timing'] if _ != 'total (min)']\n",
    "\n",
    "steps = [_ for _ in steps if settings_['summary']['timing'][_]> 0]\n",
    "\n",
    "vals = [settings_['summary']['timing'][_] for _ in steps]\n",
    "\n",
    "steps_ = [_[:-6].replace('_', ' ') for _ in steps]"
   ]
  },
  {
   "cell_type": "code",
   "execution_count": 31,
   "id": "f3a1ce58",
   "metadata": {},
   "outputs": [
    {
     "data": {
      "image/png": "[encoded data removed]",
      "text/plain": [
       "<Figure size 236.3x236.3 with 1 Axes>"
      ]
     },
     "metadata": {},
     "output_type": "display_data"
    }
   ],
   "source": [
    "\n",
    "plt.figure(figsize=(2.363,2.363)) #60x60\n",
    "\n",
    "plt.plot(steps_, np.cumsum(vals), '+', color=colors[1])\n",
    "plt.plot(steps_, np.cumsum(vals), color=colors[1])\n",
    "plt.xticks(rotation = 90)\n",
    "\n",
    "plt.xticks(**hfont)\n",
    "plt.yticks(**hfont)\n",
    "#plt.xlabel('Step')\n",
    "plt.ylabel('Time (min)')\n",
    "plt.axhline(settings_['summary']['timing']['total (min)'], color='k', linestyle=\":\")\n",
    "\n",
    "plt.yticks([60,120,180,240,300,360,420])\n",
    "plt.tight_layout()\n",
    "plt.savefig('figures/07_200_Timing.pdf')  \n",
    "\n",
    "plt.show()"
   ]
  },
  {
   "cell_type": "code",
   "execution_count": 32,
   "id": "c7163ca7",
   "metadata": {},
   "outputs": [],
   "source": [
    "import pandas as pd\n",
    "import numpy as np"
   ]
  },
  {
   "cell_type": "code",
   "execution_count": 33,
   "id": "f4141f4a",
   "metadata": {},
   "outputs": [],
   "source": [
    "x = pd.read_hdf(settings_['experiment']['results_path'],'protein_table')"
   ]
  },
  {
   "cell_type": "code",
   "execution_count": 34,
   "id": "2d20cfd4",
   "metadata": {},
   "outputs": [],
   "source": [
    "x = x.loc[[_ for _ in x.index if 'REV' not in _]]\n",
    "\n",
    "lfq = [_ for _ in x.columns if _.endswith('LFQ')]\n",
    "no_lfq = [_ for _ in x.columns if not _.endswith('LFQ')]\n",
    "group = ['_'.join(os.path.split(_)[1][0:-16].split('_')[:-1]) for _ in lfq]\n",
    "lookup_dict = dict(zip(lfq, group))"
   ]
  },
  {
   "cell_type": "code",
   "execution_count": 35,
   "id": "3e7ce670",
   "metadata": {},
   "outputs": [],
   "source": [
    "transposed = x[lfq].T\n",
    "frame = transposed.unstack().to_frame().reset_index()\n",
    "frame.columns = ['protein_group','filename','intensity']\n",
    "frame['group'] = frame['filename'].apply(lambda x: lookup_dict[x])\n",
    "frame = frame[~frame['intensity'].isna()]\n",
    "grouped_ap = frame.groupby('group')['protein_group'].nunique()"
   ]
  },
  {
   "cell_type": "code",
   "execution_count": 36,
   "id": "d2c347af",
   "metadata": {},
   "outputs": [],
   "source": [
    "cv_ap = x[lfq].std(axis=1) / x[lfq].mean(axis=1)\n",
    "cv_ap = cv_ap.sort_values()\n",
    "cv_ap = cv_ap[~cv_ap.isna()]"
   ]
  },
  {
   "cell_type": "code",
   "execution_count": 37,
   "id": "c6e3f749",
   "metadata": {},
   "outputs": [],
   "source": [
    "cv_ap_no = x[no_lfq].std(axis=1) / x[no_lfq].mean(axis=1)\n",
    "cv_ap_no = cv_ap_no.sort_values()\n",
    "cv_ap_no = cv_ap_no[~cv_ap_no.isna()]"
   ]
  },
  {
   "cell_type": "code",
   "execution_count": 38,
   "id": "5cfa4693",
   "metadata": {},
   "outputs": [],
   "source": [
    "map_ = {}\n",
    "\n",
    "map_['Hela_P035210'] = 1\n",
    "map_['Hela_P035211'] = 2\n",
    "map_['Hela_P035213'] = 3\n",
    "map_['Hela_P035214'] = 4\n",
    "map_['Hela_P035215'] = 5\n",
    "map_['Hela_P035216'] = 6\n",
    "map_['Hela_P035217'] = 7\n",
    "map_['Hela_P035218'] = 8\n",
    "map_['Hela_P035219'] = 9\n",
    "map_['March_Hela_P035212'] = 10"
   ]
  },
  {
   "cell_type": "code",
   "execution_count": 39,
   "id": "d2380044",
   "metadata": {},
   "outputs": [
    {
     "data": {
      "image/png": "[encoded data removed]",
      "text/plain": [
       "<Figure size 236.3x236.3 with 1 Axes>"
      ]
     },
     "metadata": {},
     "output_type": "display_data"
    },
    {
     "name": "stdout",
     "output_type": "stream",
     "text": [
      "4126.0\n"
     ]
    }
   ],
   "source": [
    "import matplotlib.pyplot as plt\n",
    "dark_blue = '#17212b'\n",
    "light_blue = '#3dc5ef'\n",
    "teal= '#42dee1'\n",
    "green = '#6eecb9'\n",
    "yellow = '#eef5b3'\n",
    "hfont = {'fontname':'Arial', 'size':10}\n",
    "\n",
    "colors = [dark_blue, light_blue, teal, green, yellow]\n",
    "\n",
    "alpha = 1\n",
    "\n",
    "plt.figure(figsize=(2.363,2.363)) #60x60\n",
    "plt.bar([map_[_] for _ in grouped_ap.index], grouped_ap, alpha=alpha, color = colors[1], label = 'AlphaPept', edgecolor='black')\n",
    "\n",
    "plt.xticks(**hfont)\n",
    "plt.yticks(**hfont)\n",
    "plt.xlabel('Cycle')\n",
    "plt.ylabel('Unique Protein Groups')\n",
    "plt.tight_layout()\n",
    "#plt.legend(loc='lower left')\n",
    "plt.xticks([1,2,3,4,5,6,7,8,9,10])\n",
    "plt.savefig('figures/07_200_ProteinGroups.pdf')  \n",
    "\n",
    "plt.show()\n",
    "\n",
    "print(grouped_ap.mean())"
   ]
  },
  {
   "cell_type": "code",
   "execution_count": 40,
   "id": "09b69864",
   "metadata": {},
   "outputs": [
    {
     "name": "stdout",
     "output_type": "stream",
     "text": [
      "LFQ 0.2453471924411291 no LFQ 0.0760534294550949\n"
     ]
    },
    {
     "data": {
      "image/png": "[encoded data removed]",
      "text/plain": [
       "<Figure size 236.3x236.3 with 1 Axes>"
      ]
     },
     "metadata": {},
     "output_type": "display_data"
    }
   ],
   "source": [
    "plt.figure(figsize=(2.363,2.363)) #60x60\n",
    "\n",
    "plt.plot(cv_ap*100, np.arange(len(cv_ap)), label='LFQ', color = colors[1])\n",
    "plt.plot(cv_ap_no*100, np.arange(len(cv_ap_no)), label='noLFQ', color = colors[0])\n",
    "\n",
    "plt.xlabel('CV (%)')\n",
    "plt.ylabel('Protein Groups')\n",
    "plt.tight_layout()\n",
    "plt.legend(loc='lower right')\n",
    "plt.axvline(np.median(cv_ap_no)*100, color=colors[0], linestyle=\":\")\n",
    "plt.axvline(np.median(cv_ap)*100, color=colors[1], linestyle=\":\")\n",
    "plt.xlim([0,60])\n",
    "plt.xticks([0,20,40,60])\n",
    "\n",
    "plt.savefig('figures/07_200_ProteinGroups_CV.pdf')  \n",
    "\n",
    "print(f\"LFQ {np.median(cv_ap_no)} no LFQ {np.median(cv_ap)}\")\n",
    "\n",
    "plt.show()"
   ]
  },
  {
   "cell_type": "code",
   "execution_count": 41,
   "id": "1809a98e",
   "metadata": {},
   "outputs": [],
   "source": [
    "y = pd.read_hdf(settings_['experiment']['results_path'],'protein_fdr')"
   ]
  },
  {
   "cell_type": "code",
   "execution_count": 42,
   "id": "1d5f2792",
   "metadata": {},
   "outputs": [],
   "source": [
    "y = y[~y['sequence'].str.contains('_decoy')]\n",
    "y['group'] = y['filename'].apply(lambda x : '_'.join(os.path.split(x)[1][0:-16].split('_')[:-1]))\n",
    "grouped_peptides_ap = y.groupby(['group'])['precursor'].nunique()\n",
    "grouped_peptides_ap.index = [map_[_[:-8]] for _ in grouped_peptides_ap.index]\n",
    "\n",
    "y_no_match = y[y['type'] != 'matched']\n",
    "\n",
    "grouped_peptides_ap_no_match = y_no_match.groupby(['group'])['precursor'].nunique()\n",
    "grouped_peptides_ap_no_match.index = [map_[_[:-8]] for _ in grouped_peptides_ap_no_match.index]"
   ]
  },
  {
   "cell_type": "code",
   "execution_count": 43,
   "id": "f0181ed6",
   "metadata": {},
   "outputs": [
    {
     "data": {
      "image/png": "[encoded data removed]",
      "text/plain": [
       "<Figure size 236.3x236.3 with 1 Axes>"
      ]
     },
     "metadata": {},
     "output_type": "display_data"
    },
    {
     "name": "stdout",
     "output_type": "stream",
     "text": [
      "47082.4\n",
      "8716.1\n",
      "Match ratio 29.17 %\n"
     ]
    }
   ],
   "source": [
    "import matplotlib.pyplot as plt\n",
    "\n",
    "match_ap = grouped_peptides_ap-grouped_peptides_ap_no_match\n",
    "\n",
    "dark_blue = '#17212b'\n",
    "light_blue = '#3dc5ef'\n",
    "teal= '#42dee1'\n",
    "green = '#6eecb9'\n",
    "yellow = '#eef5b3'\n",
    "hfont = {'fontname':'Arial', 'size':10}\n",
    "\n",
    "colors = [dark_blue, light_blue, teal, green, yellow]\n",
    "\n",
    "alpha = 0.8\n",
    "\n",
    "plt.figure(figsize=(2.363,2.363)) #60x60\n",
    "\n",
    "plt.bar(match_ap.index, match_ap, bottom=grouped_peptides_ap_no_match,  alpha = 0.5*alpha, color = colors[1], label='Matched', edgecolor='black')\n",
    "plt.bar(grouped_peptides_ap_no_match.index, grouped_peptides_ap_no_match,  alpha=alpha, color = colors[1], edgecolor='black')\n",
    "\n",
    "plt.xticks(**hfont)\n",
    "plt.yticks(**hfont)\n",
    "plt.xticks([1,2,3,4,5,6,7,8,9,10])\n",
    "plt.xlabel('Cycle')\n",
    "plt.ylabel('Unique Precursors')\n",
    "plt.tight_layout()\n",
    "plt.legend(loc='lower left')\n",
    "plt.savefig('figures/07_200_Precursor.pdf')  \n",
    "\n",
    "plt.show()\n",
    "\n",
    "print(grouped_peptides_ap.mean())\n",
    "print((grouped_peptides_ap-grouped_peptides_ap_no_match).mean())\n",
    "match_ratio = ((grouped_peptides_ap/grouped_peptides_ap_no_match).mean())\n",
    "print(f\"Match ratio {(match_ratio-1)*100:.2f} %\")"
   ]
  },
  {
   "cell_type": "markdown",
   "id": "d439cfd0",
   "metadata": {},
   "source": [
    "# MaxQuant Comparison"
   ]
  },
  {
   "cell_type": "code",
   "execution_count": 44,
   "id": "05feffbf",
   "metadata": {},
   "outputs": [
    {
     "name": "stdout",
     "output_type": "stream",
     "text": [
      "Import complete\n"
     ]
    }
   ],
   "source": [
    "import pandas as pd\n",
    "pgs = pd.read_csv('E:/kuester/HeLa/LongTermStressTest_Hela_200injections_txt/proteinGroups.txt', sep='\\t', low_memory=False)\n",
    "evidence = pd.read_csv('E:/kuester/HeLa/LongTermStressTest_Hela_200injections_txt/evidence.txt', sep='\\t', low_memory=False)\n",
    "\n",
    "print('Import complete')"
   ]
  },
  {
   "cell_type": "code",
   "execution_count": 45,
   "id": "4066397e",
   "metadata": {},
   "outputs": [
    {
     "name": "stdout",
     "output_type": "stream",
     "text": [
      "3849.4\n"
     ]
    }
   ],
   "source": [
    "pgs = pgs[pgs['Reverse'] != '+']\n",
    "\n",
    "lfq = [_ for _ in pgs.columns if 'LFQ' in _]\n",
    "nolfq = [_ for _ in pgs.columns if 'Intensity ' in _]\n",
    "\n",
    "group =[int(_[19:].split('_')[0]) for _ in lfq]\n",
    "lookup_dict = dict(zip(lfq, group))\n",
    "\n",
    "pgs = pgs.replace(0,np.nan)\n",
    "\n",
    "transposed = pgs[lfq].T\n",
    "transposed.columns = pgs['Protein IDs']\n",
    "frame = transposed.unstack().to_frame()\n",
    "frame = frame.reset_index(drop=False)\n",
    "frame.columns = ['protein_group','filename','intensity']\n",
    "frame['group'] = frame['filename'].apply(lambda x: lookup_dict[x])\n",
    "frame = frame[~frame['intensity'].isna()]\n",
    "grouped_mq = frame.groupby('group')['protein_group'].nunique()\n",
    "\n",
    "cv_mq = (pgs[lfq].std(axis=1)) / (pgs[lfq].mean(axis=1))\n",
    "cv_mq = cv_mq.sort_values()\n",
    "cv_mq = cv_mq[~cv_mq.isna()]\n",
    "\n",
    "cv_mq_no = (pgs[nolfq].std(axis=1)) / (pgs[nolfq].mean(axis=1))\n",
    "cv_mq_no = cv_mq_no.sort_values()\n",
    "cv_mq_no = cv_mq_no[~cv_mq_no.isna()]\n",
    "\n",
    "print(grouped_mq.mean())\n"
   ]
  },
  {
   "cell_type": "code",
   "execution_count": 46,
   "id": "fdfef91e",
   "metadata": {},
   "outputs": [
    {
     "name": "stdout",
     "output_type": "stream",
     "text": [
      "55585.3\n",
      "43517.9\n",
      "12067.4\n",
      "Match ratio 31.46 %\n"
     ]
    }
   ],
   "source": [
    "evidence = evidence[evidence['Reverse'] != '+']\n",
    "evidence['group'] = evidence['Raw file'].apply(lambda x: map_['_'.join(x.split('_')[:-4])])\n",
    "evidence['precursor'] = evidence['Modified sequence'] + evidence['Charge'].astype('str')\n",
    "\n",
    "grouped_peptides_mq = evidence.groupby(['group'])['precursor'].nunique()\n",
    "evidence_no_match = evidence[evidence['Type'] != 'MULTI-MATCH']\n",
    "grouped_peptides_mq_no_match = evidence_no_match.groupby(['group'])['precursor'].nunique()\n",
    "\n",
    "print(grouped_peptides_mq.mean())\n",
    "print(grouped_peptides_mq_no_match.mean())\n",
    "print((grouped_peptides_mq-grouped_peptides_mq_no_match).mean())\n",
    "\n",
    "match_ratio = ((grouped_peptides_mq/grouped_peptides_mq_no_match).mean())\n",
    "print(f\"Match ratio {(match_ratio-1)*100:.2f} %\")"
   ]
  }
 ],
 "metadata": {
  "kernelspec": {
   "display_name": "Python 3 (ipykernel)",
   "language": "python",
   "name": "python3"
  },
  "language_info": {
   "codemirror_mode": {
    "name": "ipython",
    "version": 3
   },
   "file_extension": ".py",
   "mimetype": "text/x-python",
   "name": "python",
   "nbconvert_exporter": "python",
   "pygments_lexer": "ipython3",
   "version": "3.8.16"
  }
 },
 "nbformat": 4,
 "nbformat_minor": 5
}
