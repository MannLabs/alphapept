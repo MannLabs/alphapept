{
 "cells": [
  {
   "cell_type": "code",
   "execution_count": 1,
   "id": "c0a5d747",
   "metadata": {},
   "outputs": [],
   "source": [
    "file_path = 'F:/AP_Paper_Benchmark/PXD015087_Thermo'"
   ]
  },
  {
   "cell_type": "code",
   "execution_count": 2,
   "id": "b5eda65a",
   "metadata": {},
   "outputs": [],
   "source": [
    "import os\n",
    "\n",
    "files = os.listdir(file_path)\n",
    "raw_files = [os.path.join(file_path, _) for _ in files if _.endswith('.raw')]\n",
    "fasta_files = [os.path.join(file_path, _) for _ in files if _.endswith('.fasta')]"
   ]
  },
  {
   "cell_type": "code",
   "execution_count": 3,
   "id": "6ad59065",
   "metadata": {},
   "outputs": [
    {
     "data": {
      "text/plain": [
       "(200, 3)"
      ]
     },
     "execution_count": 3,
     "metadata": {},
     "output_type": "execute_result"
    }
   ],
   "source": [
    "len(raw_files), len(fasta_files)"
   ]
  },
  {
   "cell_type": "code",
   "execution_count": 7,
   "id": "342183a7",
   "metadata": {},
   "outputs": [
    {
     "name": "stdout",
     "output_type": "stream",
     "text": [
      "2022-12-03 17:27:56> Logging to C:\\Users\\admin\\alphapept\\logs\\log_20221203172756.txt.\n",
      "2022-12-03 17:27:56> Code location f:\\projects\\alphapept\\alphapept\n",
      "2022-12-03 17:27:56> Python location C:\\Users\\admin\\.conda\\envs\\alphapept\\python.exe\n",
      "2022-12-03 17:27:56> Platform information:\n",
      "2022-12-03 17:27:56> system     - Windows\n",
      "2022-12-03 17:27:56> release    - 10\n",
      "2022-12-03 17:27:56> version    - 10.0.19044\n",
      "2022-12-03 17:27:56> machine    - AMD64\n",
      "2022-12-03 17:27:56> processor  - Intel64 Family 6 Model 85 Stepping 4, GenuineIntel\n",
      "2022-12-03 17:27:56> cpu count  - 24\n",
      "2022-12-03 17:27:56> ram memory - 117.9/127.7 Gb (available/total)\n",
      "2022-12-03 17:27:56> processor  - Intel64 Family 6 Model 85 Stepping 4, GenuineIntel\n",
      "2022-12-03 17:27:57> Python information:\n",
      "2022-12-03 17:27:57> SQLAlchemy                    - 1.4.39\n",
      "2022-12-03 17:27:57> alphapept                     - 0.4.9\n",
      "2022-12-03 17:27:57> biopython                     - 1.79\n",
      "2022-12-03 17:27:57> bumpversion                   - \n",
      "2022-12-03 17:27:57> bumpversion>                  - \n",
      "2022-12-03 17:27:57> click                         - 8.1.3\n",
      "2022-12-03 17:27:57> click>                        - \n",
      "2022-12-03 17:27:57> fastcore                      - 1.5.27\n",
      "2022-12-03 17:27:57> h5py                          - 3.7.0\n",
      "2022-12-03 17:27:57> jupyter                       - \n",
      "2022-12-03 17:27:57> jupyter>                      - \n",
      "2022-12-03 17:27:57> jupyter_contrib_nbextensions  - \n",
      "2022-12-03 17:27:57> jupyter_contrib_nbextensions> - \n",
      "2022-12-03 17:27:57> matplotlib                    - 3.5.3\n",
      "2022-12-03 17:27:57> nbdev                         - 2.3.9\n",
      "2022-12-03 17:27:57> nbdev>                        - \n",
      "2022-12-03 17:27:57> networkx                      - 2.8.6\n",
      "2022-12-03 17:27:57> numba                         - 0.55.2\n",
      "2022-12-03 17:27:57> numpy                         - 1.20.3\n",
      "2022-12-03 17:27:57> pandas                        - 1.4.3\n",
      "2022-12-03 17:27:57> plotly_express                - 0.4.1\n",
      "2022-12-03 17:27:57> psutil                        - 5.9.1\n",
      "2022-12-03 17:27:57> pyinstaller                   - \n",
      "2022-12-03 17:27:57> pyteomics                     - 4.5.5\n",
      "2022-12-03 17:27:57> python                        - 3.8.13\n",
      "2022-12-03 17:27:57> pythonnet                     - 2.5.2\n",
      "2022-12-03 17:27:57> pywin32                       - 225\n",
      "2022-12-03 17:27:57> pyyaml                        - 6.0\n",
      "2022-12-03 17:27:57> scikit-learn                  - 1.1.2\n",
      "2022-12-03 17:27:57> scipy                         - 1.8.1\n",
      "2022-12-03 17:27:57> streamlit                     - 1.14.0\n",
      "2022-12-03 17:27:57> streamlit-aggrid              - 0.2.3.post2\n",
      "2022-12-03 17:27:57> streamlit>                    - \n",
      "2022-12-03 17:27:57> tables                        - 3.6.1\n",
      "2022-12-03 17:27:57> tqdm                          - 4.64.0\n",
      "2022-12-03 17:27:57> twine                         - \n",
      "2022-12-03 17:27:57> twine>                        - \n",
      "2022-12-03 17:27:57> watchdog                      - 2.1.9\n",
      "2022-12-03 17:27:57> wget                          - 3.2\n",
      "2022-12-03 17:27:57> \n",
      "2022-12-03 17:27:57> Check for settings not completely implemented yet.\n",
      "2022-12-03 17:27:57> Size check:\n",
      "2022-12-03 17:27:57> Size of job (raw files) 181.48 Gb\n",
      "2022-12-03 17:27:57> Required disk space for F: - 181.48 Gb, Available 402.50 Gb OK.\n",
      "2022-12-03 17:27:57> \n",
      "2022-12-03 17:27:57> Workflow Settings:\n",
      "2022-12-03 17:27:57> align              - False\n",
      "2022-12-03 17:27:57> continue_runs      - False\n",
      "2022-12-03 17:27:57> create_database    - True\n",
      "2022-12-03 17:27:57> find_features      - True\n",
      "2022-12-03 17:27:57> import_raw_data    - True\n",
      "2022-12-03 17:27:57> lfq_quantification - True\n",
      "2022-12-03 17:27:57> match              - True\n",
      "2022-12-03 17:27:57> recalibrate_data   - True\n",
      "2022-12-03 17:27:57> search_data        - True\n",
      "2022-12-03 17:27:57> \n",
      "2022-12-03 17:27:57> Checking if files exist.\n",
      "2022-12-03 17:27:57> FASTA Files have a total size of 44.528 Mb\n",
      "2022-12-03 17:27:57> Results path was not set. Setting to F:\\AP_Paper_Benchmark\\PXD015087_Thermo\\results.hdf\n",
      "2022-12-03 17:27:57> Shortnames not set. Setting to filename.\n",
      "2022-12-03 17:27:57> Sample group not set. Setting to shortname.\n",
      "2022-12-03 17:27:57> Fraction not set. Setting to 1.\n",
      "2022-12-03 17:27:57> No database path set and save_db option checked. Using default path F:\\AP_Paper_Benchmark\\PXD015087_Thermo\\database.hdf\n",
      "2022-12-03 17:27:57> Workflow has 13 steps\n",
      "2022-12-03 17:27:57> ==== create_database ====\n",
      "2022-12-03 17:27:57> Database path F:\\AP_Paper_Benchmark\\PXD015087_Thermo\\database.hdf is not a file.\n",
      "2022-12-03 17:27:57> Found FASTA file F:/AP_Paper_Benchmark/PXD015087_Thermo\\009606_UniProtKB_Reference_Proteome_Isoform_PFAM_v22.07.13.fasta with size 44.38 Mb.\n",
      "2022-12-03 17:27:57> Found FASTA file F:/AP_Paper_Benchmark/PXD015087_Thermo\\contaminants.fasta with size 0.15 Mb.\n",
      "2022-12-03 17:27:57> Found FASTA file F:/AP_Paper_Benchmark/PXD015087_Thermo\\JPT_Retention_Time_Kit.fasta with size 0.00 Mb.\n",
      "2022-12-03 17:27:57> Creating a new database from FASTA.\n"
     ]
    },
    {
     "name": "stderr",
     "output_type": "stream",
     "text": [
      "\r",
      "  0%|                                                                                            | 0/1 [00:00<?, ?it/s]"
     ]
    },
    {
     "name": "stdout",
     "output_type": "stream",
     "text": [
      "2022-12-03 17:27:59> FASTA contains 88,601 entries.\n"
     ]
    },
    {
     "name": "stderr",
     "output_type": "stream",
     "text": [
      "100%|█████████████████████████████████████████████████████████████████████████████████| 1.0/1 [03:32<00:00, 232.04s/it]"
     ]
    },
    {
     "name": "stdout",
     "output_type": "stream",
     "text": [
      "2022-12-03 17:32:06> Digested 88,601 proteins and generated 5,886,524 spectra\n",
      "2022-12-03 17:33:03> Database saved to F:\\AP_Paper_Benchmark\\PXD015087_Thermo\\database.hdf. Filesize of database is 2.34 GB\n"
     ]
    },
    {
     "name": "stderr",
     "output_type": "stream",
     "text": [
      "\r",
      "100%|█████████████████████████████████████████████████████████████████████████████████| 1.0/1 [05:06<00:00, 306.15s/it]"
     ]
    },
    {
     "name": "stdout",
     "output_type": "stream",
     "text": [
      "2022-12-03 17:33:17> ==== import_raw_data ====\n"
     ]
    },
    {
     "name": "stderr",
     "output_type": "stream",
     "text": [
      "\n",
      "  0%|                                                                                            | 0/1 [00:00<?, ?it/s]"
     ]
    },
    {
     "name": "stdout",
     "output_type": "stream",
     "text": [
      "2022-12-03 17:33:17> Processing 200 files for step raw_conversion\n",
      "2022-12-03 17:33:17> AlphaPool was set to 24 processes. Setting max to 24.\n",
      "2022-12-03 17:34:50> Processing of F:/AP_Paper_Benchmark/PXD015087_Thermo\\Hela_P035210_BA1_S00_A00_R1.raw for step raw_conversion succeeded. 0.50 %\n"
     ]
    },
    {
     "name": "stderr",
     "output_type": "stream",
     "text": [
      "\r",
      "  0%|▍                                                                          | 0.005/1 [01:32<5:07:07, 18520.41s/it]"
     ]
    },
    {
     "name": "stdout",
     "output_type": "stream",
     "text": [
      "2022-12-03 17:34:50> Processing of F:/AP_Paper_Benchmark/PXD015087_Thermo\\Hela_P035210_BA1_S00_A00_R10.raw for step raw_conversion succeeded. 1.00 %\n"
     ]
    },
    {
     "name": "stderr",
     "output_type": "stream",
     "text": [
      "\r",
      "  1%|▊                                                                            | 0.01/1 [01:33<2:07:03, 7700.71s/it]"
     ]
    },
    {
     "name": "stdout",
     "output_type": "stream",
     "text": [
      "2022-12-03 17:34:50> Processing of F:/AP_Paper_Benchmark/PXD015087_Thermo\\Hela_P035210_BA1_S00_A00_R11.raw for step raw_conversion succeeded. 1.50 %\n",
      "2022-12-03 17:34:50> Processing of F:/AP_Paper_Benchmark/PXD015087_Thermo\\Hela_P035210_BA1_S00_A00_R12.raw for step raw_conversion succeeded. 2.00 %\n",
      "2022-12-03 17:34:50> Processing of F:/AP_Paper_Benchmark/PXD015087_Thermo\\Hela_P035210_BA1_S00_A00_R13.raw for step raw_conversion succeeded. 2.50 %\n",
      "2022-12-03 17:34:50> Processing of F:/AP_Paper_Benchmark/PXD015087_Thermo\\Hela_P035210_BA1_S00_A00_R14.raw for step raw_conversion succeeded. 3.00 %\n",
      "2022-12-03 17:34:50> Processing of F:/AP_Paper_Benchmark/PXD015087_Thermo\\Hela_P035210_BA1_S00_A00_R15.raw for step raw_conversion succeeded. 3.50 %\n",
      "2022-12-03 17:34:50> Processing of F:/AP_Paper_Benchmark/PXD015087_Thermo\\Hela_P035210_BA1_S00_A00_R16.raw for step raw_conversion succeeded. 4.00 %\n",
      "2022-12-03 17:34:51> Processing of F:/AP_Paper_Benchmark/PXD015087_Thermo\\Hela_P035210_BA1_S00_A00_R17.raw for step raw_conversion succeeded. 4.50 %\n"
     ]
    },
    {
     "name": "stderr",
     "output_type": "stream",
     "text": [
      "\r",
      "  4%|███▌                                                                          | 0.045/1 [01:33<17:54, 1124.81s/it]"
     ]
    },
    {
     "name": "stdout",
     "output_type": "stream",
     "text": [
      "2022-12-03 17:34:51> Processing of F:/AP_Paper_Benchmark/PXD015087_Thermo\\Hela_P035210_BA1_S00_A00_R18.raw for step raw_conversion succeeded. 5.00 %\n",
      "2022-12-03 17:34:51> Processing of F:/AP_Paper_Benchmark/PXD015087_Thermo\\Hela_P035210_BA1_S00_A00_R19.raw for step raw_conversion succeeded. 5.50 %\n",
      "2022-12-03 17:34:51> Processing of F:/AP_Paper_Benchmark/PXD015087_Thermo\\Hela_P035210_BA1_S00_A00_R2.raw for step raw_conversion succeeded. 6.00 %\n",
      "2022-12-03 17:34:51> Processing of F:/AP_Paper_Benchmark/PXD015087_Thermo\\Hela_P035210_BA1_S00_A00_R20.raw for step raw_conversion succeeded. 6.50 %\n",
      "2022-12-03 17:34:51> Processing of F:/AP_Paper_Benchmark/PXD015087_Thermo\\Hela_P035210_BA1_S00_A00_R3.raw for step raw_conversion succeeded. 7.00 %\n",
      "2022-12-03 17:34:51> Processing of F:/AP_Paper_Benchmark/PXD015087_Thermo\\Hela_P035210_BA1_S00_A00_R4.raw for step raw_conversion succeeded. 7.50 %\n",
      "2022-12-03 17:34:51> Processing of F:/AP_Paper_Benchmark/PXD015087_Thermo\\Hela_P035210_BA1_S00_A00_R5.raw for step raw_conversion succeeded. 8.00 %\n",
      "2022-12-03 17:34:51> Processing of F:/AP_Paper_Benchmark/PXD015087_Thermo\\Hela_P035210_BA1_S00_A00_R6.raw for step raw_conversion succeeded. 8.50 %\n",
      "2022-12-03 17:34:51> Processing of F:/AP_Paper_Benchmark/PXD015087_Thermo\\Hela_P035210_BA1_S00_A00_R7.raw for step raw_conversion succeeded. 9.00 %\n",
      "2022-12-03 17:34:51> Processing of F:/AP_Paper_Benchmark/PXD015087_Thermo\\Hela_P035210_BA1_S00_A00_R8.raw for step raw_conversion succeeded. 9.50 %\n",
      "2022-12-03 17:34:51> Processing of F:/AP_Paper_Benchmark/PXD015087_Thermo\\Hela_P035210_BA1_S00_A00_R9.raw for step raw_conversion succeeded. 10.00 %\n",
      "2022-12-03 17:34:53> Processing of F:/AP_Paper_Benchmark/PXD015087_Thermo\\Hela_P035211_BA1_S00_A00_R1.raw for step raw_conversion succeeded. 10.50 %\n"
     ]
    },
    {
     "name": "stderr",
     "output_type": "stream",
     "text": [
      "\r",
      " 10%|████████▎                                                                      | 0.105/1 [01:35<05:49, 390.96s/it]"
     ]
    },
    {
     "name": "stdout",
     "output_type": "stream",
     "text": [
      "2022-12-03 17:34:53> Processing of F:/AP_Paper_Benchmark/PXD015087_Thermo\\Hela_P035211_BA1_S00_A00_R10.raw for step raw_conversion succeeded. 11.00 %\n",
      "2022-12-03 17:34:53> Processing of F:/AP_Paper_Benchmark/PXD015087_Thermo\\Hela_P035211_BA1_S00_A00_R11.raw for step raw_conversion succeeded. 11.50 %\n"
     ]
    },
    {
     "name": "stderr",
     "output_type": "stream",
     "text": [
      "\r",
      " 12%|█████████                                                                      | 0.115/1 [01:36<05:03, 342.56s/it]"
     ]
    },
    {
     "name": "stdout",
     "output_type": "stream",
     "text": [
      "2022-12-03 17:34:53> Processing of F:/AP_Paper_Benchmark/PXD015087_Thermo\\Hela_P035211_BA1_S00_A00_R12.raw for step raw_conversion succeeded. 12.00 %\n",
      "2022-12-03 17:36:11> Processing of F:/AP_Paper_Benchmark/PXD015087_Thermo\\Hela_P035211_BA1_S00_A00_R13.raw for step raw_conversion succeeded. 12.50 %\n"
     ]
    },
    {
     "name": "stderr",
     "output_type": "stream",
     "text": [
      "\r",
      " 12%|█████████▊                                                                    | 0.125/1 [02:53<22:48, 1563.90s/it]"
     ]
    },
    {
     "name": "stdout",
     "output_type": "stream",
     "text": [
      "2022-12-03 17:36:11> Processing of F:/AP_Paper_Benchmark/PXD015087_Thermo\\Hela_P035211_BA1_S00_A00_R14.raw for step raw_conversion succeeded. 13.00 %\n"
     ]
    },
    {
     "name": "stderr",
     "output_type": "stream",
     "text": [
      "\r",
      " 13%|██████████▎                                                                    | 0.13/1 [02:53<20:22, 1405.43s/it]"
     ]
    },
    {
     "name": "stdout",
     "output_type": "stream",
     "text": [
      "2022-12-03 17:36:12> Processing of F:/AP_Paper_Benchmark/PXD015087_Thermo\\Hela_P035211_BA1_S00_A00_R15.raw for step raw_conversion succeeded. 13.50 %\n"
     ]
    },
    {
     "name": "stderr",
     "output_type": "stream",
     "text": [
      "\r",
      " 14%|██████████▌                                                                   | 0.135/1 [02:54<17:54, 1242.75s/it]"
     ]
    },
    {
     "name": "stdout",
     "output_type": "stream",
     "text": [
      "2022-12-03 17:36:12> Processing of F:/AP_Paper_Benchmark/PXD015087_Thermo\\Hela_P035211_BA1_S00_A00_R16.raw for step raw_conversion succeeded. 14.00 %\n",
      "2022-12-03 17:36:18> Processing of F:/AP_Paper_Benchmark/PXD015087_Thermo\\Hela_P035211_BA1_S00_A00_R17.raw for step raw_conversion succeeded. 14.50 %\n"
     ]
    },
    {
     "name": "stderr",
     "output_type": "stream",
     "text": [
      "\r",
      " 14%|███████████▎                                                                  | 0.145/1 [03:01<15:26, 1083.35s/it]"
     ]
    },
    {
     "name": "stdout",
     "output_type": "stream",
     "text": [
      "2022-12-03 17:36:18> Processing of F:/AP_Paper_Benchmark/PXD015087_Thermo\\Hela_P035211_BA1_S00_A00_R18.raw for step raw_conversion succeeded. 15.00 %\n",
      "2022-12-03 17:36:18> Processing of F:/AP_Paper_Benchmark/PXD015087_Thermo\\Hela_P035211_BA1_S00_A00_R19.raw for step raw_conversion succeeded. 15.50 %\n",
      "2022-12-03 17:36:18> Processing of F:/AP_Paper_Benchmark/PXD015087_Thermo\\Hela_P035211_BA1_S00_A00_R2.raw for step raw_conversion succeeded. 16.00 %\n",
      "2022-12-03 17:36:18> Processing of F:/AP_Paper_Benchmark/PXD015087_Thermo\\Hela_P035211_BA1_S00_A00_R20.raw for step raw_conversion succeeded. 16.50 %\n",
      "2022-12-03 17:36:18> Processing of F:/AP_Paper_Benchmark/PXD015087_Thermo\\Hela_P035211_BA1_S00_A00_R3.raw for step raw_conversion succeeded. 17.00 %\n",
      "2022-12-03 17:36:18> Processing of F:/AP_Paper_Benchmark/PXD015087_Thermo\\Hela_P035211_BA1_S00_A00_R4.raw for step raw_conversion succeeded. 17.50 %\n",
      "2022-12-03 17:36:18> Processing of F:/AP_Paper_Benchmark/PXD015087_Thermo\\Hela_P035211_BA1_S00_A00_R5.raw for step raw_conversion succeeded. 18.00 %\n",
      "2022-12-03 17:36:18> Processing of F:/AP_Paper_Benchmark/PXD015087_Thermo\\Hela_P035211_BA1_S00_A00_R6.raw for step raw_conversion succeeded. 18.50 %\n",
      "2022-12-03 17:36:18> Processing of F:/AP_Paper_Benchmark/PXD015087_Thermo\\Hela_P035211_BA1_S00_A00_R7.raw for step raw_conversion succeeded. 19.00 %\n",
      "2022-12-03 17:36:18> Processing of F:/AP_Paper_Benchmark/PXD015087_Thermo\\Hela_P035211_BA1_S00_A00_R8.raw for step raw_conversion succeeded. 19.50 %\n",
      "2022-12-03 17:36:18> Processing of F:/AP_Paper_Benchmark/PXD015087_Thermo\\Hela_P035211_BA1_S00_A00_R9.raw for step raw_conversion succeeded. 20.00 %\n",
      "2022-12-03 17:36:18> Processing of F:/AP_Paper_Benchmark/PXD015087_Thermo\\Hela_P035213_BA1_S00_A00_R1.raw for step raw_conversion succeeded. 20.50 %\n",
      "2022-12-03 17:36:18> Processing of F:/AP_Paper_Benchmark/PXD015087_Thermo\\Hela_P035213_BA1_S00_A00_R10.raw for step raw_conversion succeeded. 21.00 %\n",
      "2022-12-03 17:36:18> Processing of F:/AP_Paper_Benchmark/PXD015087_Thermo\\Hela_P035213_BA1_S00_A00_R11.raw for step raw_conversion succeeded. 21.50 %\n",
      "2022-12-03 17:36:18> Processing of F:/AP_Paper_Benchmark/PXD015087_Thermo\\Hela_P035213_BA1_S00_A00_R12.raw for step raw_conversion succeeded. 22.00 %\n",
      "2022-12-03 17:36:18> Processing of F:/AP_Paper_Benchmark/PXD015087_Thermo\\Hela_P035213_BA1_S00_A00_R13.raw for step raw_conversion succeeded. 22.50 %\n",
      "2022-12-03 17:36:18> Processing of F:/AP_Paper_Benchmark/PXD015087_Thermo\\Hela_P035213_BA1_S00_A00_R14.raw for step raw_conversion succeeded. 23.00 %\n",
      "2022-12-03 17:36:18> Processing of F:/AP_Paper_Benchmark/PXD015087_Thermo\\Hela_P035213_BA1_S00_A00_R15.raw for step raw_conversion succeeded. 23.50 %\n",
      "2022-12-03 17:36:18> Processing of F:/AP_Paper_Benchmark/PXD015087_Thermo\\Hela_P035213_BA1_S00_A00_R16.raw for step raw_conversion succeeded. 24.00 %\n",
      "2022-12-03 17:37:23> Processing of F:/AP_Paper_Benchmark/PXD015087_Thermo\\Hela_P035213_BA1_S00_A00_R17.raw for step raw_conversion succeeded. 24.50 %\n"
     ]
    },
    {
     "name": "stderr",
     "output_type": "stream",
     "text": [
      "\r",
      " 24%|███████████████████▎                                                           | 0.245/1 [04:06<09:18, 739.10s/it]"
     ]
    },
    {
     "name": "stdout",
     "output_type": "stream",
     "text": [
      "2022-12-03 17:37:29> Processing of F:/AP_Paper_Benchmark/PXD015087_Thermo\\Hela_P035213_BA1_S00_A00_R18.raw for step raw_conversion succeeded. 25.00 %\n"
     ]
    },
    {
     "name": "stderr",
     "output_type": "stream",
     "text": [
      "\r",
      " 25%|████████████████████                                                            | 0.25/1 [04:12<09:33, 764.02s/it]"
     ]
    },
    {
     "name": "stdout",
     "output_type": "stream",
     "text": [
      "2022-12-03 17:37:31> Processing of F:/AP_Paper_Benchmark/PXD015087_Thermo\\Hela_P035213_BA1_S00_A00_R19.raw for step raw_conversion succeeded. 25.50 %\n"
     ]
    },
    {
     "name": "stderr",
     "output_type": "stream",
     "text": [
      "\r",
      " 26%|████████████████████▏                                                          | 0.255/1 [04:13<09:04, 731.49s/it]"
     ]
    },
    {
     "name": "stdout",
     "output_type": "stream",
     "text": [
      "2022-12-03 17:37:33> Processing of F:/AP_Paper_Benchmark/PXD015087_Thermo\\Hela_P035213_BA1_S00_A00_R2.raw for step raw_conversion succeeded. 26.00 %\n"
     ]
    },
    {
     "name": "stderr",
     "output_type": "stream",
     "text": [
      "\r",
      " 26%|████████████████████▊                                                           | 0.26/1 [04:15<08:35, 696.24s/it]"
     ]
    },
    {
     "name": "stdout",
     "output_type": "stream",
     "text": [
      "2022-12-03 17:37:33> Processing of F:/AP_Paper_Benchmark/PXD015087_Thermo\\Hela_P035213_BA1_S00_A00_R20.raw for step raw_conversion succeeded. 26.50 %\n",
      "2022-12-03 17:37:33> Processing of F:/AP_Paper_Benchmark/PXD015087_Thermo\\Hela_P035213_BA1_S00_A00_R3.raw for step raw_conversion succeeded. 27.00 %\n",
      "2022-12-03 17:37:33> Processing of F:/AP_Paper_Benchmark/PXD015087_Thermo\\Hela_P035213_BA1_S00_A00_R4.raw for step raw_conversion succeeded. 27.50 %\n",
      "2022-12-03 17:37:33> Processing of F:/AP_Paper_Benchmark/PXD015087_Thermo\\Hela_P035213_BA1_S00_A00_R5.raw for step raw_conversion succeeded. 28.00 %\n",
      "2022-12-03 17:37:35> Processing of F:/AP_Paper_Benchmark/PXD015087_Thermo\\Hela_P035213_BA1_S00_A00_R6.raw for step raw_conversion succeeded. 28.50 %\n"
     ]
    },
    {
     "name": "stderr",
     "output_type": "stream",
     "text": [
      "\r",
      " 28%|██████████████████████▌                                                        | 0.285/1 [04:17<05:24, 453.20s/it]"
     ]
    },
    {
     "name": "stdout",
     "output_type": "stream",
     "text": [
      "2022-12-03 17:37:35> Processing of F:/AP_Paper_Benchmark/PXD015087_Thermo\\Hela_P035213_BA1_S00_A00_R7.raw for step raw_conversion succeeded. 29.00 %\n",
      "2022-12-03 17:37:35> Processing of F:/AP_Paper_Benchmark/PXD015087_Thermo\\Hela_P035213_BA1_S00_A00_R8.raw for step raw_conversion succeeded. 29.50 %\n",
      "2022-12-03 17:37:35> Processing of F:/AP_Paper_Benchmark/PXD015087_Thermo\\Hela_P035213_BA1_S00_A00_R9.raw for step raw_conversion succeeded. 30.00 %\n",
      "2022-12-03 17:37:35> Processing of F:/AP_Paper_Benchmark/PXD015087_Thermo\\Hela_P035214_BA1_S00_A00_R1.raw for step raw_conversion succeeded. 30.50 %\n",
      "2022-12-03 17:37:35> Processing of F:/AP_Paper_Benchmark/PXD015087_Thermo\\Hela_P035214_BA1_S00_A00_R10.raw for step raw_conversion succeeded. 31.00 %\n"
     ]
    },
    {
     "name": "stderr",
     "output_type": "stream",
     "text": [
      "\r",
      " 31%|████████████████████████▊                                                       | 0.31/1 [04:18<03:21, 292.65s/it]"
     ]
    },
    {
     "name": "stdout",
     "output_type": "stream",
     "text": [
      "2022-12-03 17:37:35> Processing of F:/AP_Paper_Benchmark/PXD015087_Thermo\\Hela_P035214_BA1_S00_A00_R11.raw for step raw_conversion succeeded. 31.50 %\n",
      "2022-12-03 17:37:35> Processing of F:/AP_Paper_Benchmark/PXD015087_Thermo\\Hela_P035214_BA1_S00_A00_R12.raw for step raw_conversion succeeded. 32.00 %\n",
      "2022-12-03 17:37:35> Processing of F:/AP_Paper_Benchmark/PXD015087_Thermo\\Hela_P035214_BA1_S00_A00_R13.raw for step raw_conversion succeeded. 32.50 %\n",
      "2022-12-03 17:37:36> Processing of F:/AP_Paper_Benchmark/PXD015087_Thermo\\Hela_P035214_BA1_S00_A00_R14.raw for step raw_conversion succeeded. 33.00 %\n"
     ]
    },
    {
     "name": "stderr",
     "output_type": "stream",
     "text": [
      "\r",
      " 33%|██████████████████████████▍                                                     | 0.33/1 [04:19<02:28, 221.25s/it]"
     ]
    },
    {
     "name": "stdout",
     "output_type": "stream",
     "text": [
      "2022-12-03 17:37:36> Processing of F:/AP_Paper_Benchmark/PXD015087_Thermo\\Hela_P035214_BA1_S00_A00_R15.raw for step raw_conversion succeeded. 33.50 %\n",
      "2022-12-03 17:37:37> Processing of F:/AP_Paper_Benchmark/PXD015087_Thermo\\Hela_P035214_BA1_S00_A00_R16.raw for step raw_conversion succeeded. 34.00 %\n"
     ]
    },
    {
     "name": "stderr",
     "output_type": "stream",
     "text": [
      "\r",
      " 34%|███████████████████████████▏                                                    | 0.34/1 [04:19<02:06, 192.03s/it]"
     ]
    },
    {
     "name": "stdout",
     "output_type": "stream",
     "text": [
      "2022-12-03 17:37:38> Processing of F:/AP_Paper_Benchmark/PXD015087_Thermo\\Hela_P035214_BA1_S00_A00_R17.raw for step raw_conversion succeeded. 34.50 %\n"
     ]
    },
    {
     "name": "stderr",
     "output_type": "stream",
     "text": [
      "\r",
      " 34%|███████████████████████████▎                                                   | 0.345/1 [04:21<02:15, 207.49s/it]"
     ]
    },
    {
     "name": "stdout",
     "output_type": "stream",
     "text": [
      "2022-12-03 17:37:38> Processing of F:/AP_Paper_Benchmark/PXD015087_Thermo\\Hela_P035214_BA1_S00_A00_R18.raw for step raw_conversion succeeded. 35.00 %\n",
      "2022-12-03 17:37:38> Processing of F:/AP_Paper_Benchmark/PXD015087_Thermo\\Hela_P035214_BA1_S00_A00_R19.raw for step raw_conversion succeeded. 35.50 %\n",
      "2022-12-03 17:37:38> Processing of F:/AP_Paper_Benchmark/PXD015087_Thermo\\Hela_P035214_BA1_S00_A00_R2.raw for step raw_conversion succeeded. 36.00 %\n",
      "2022-12-03 17:38:46> Processing of F:/AP_Paper_Benchmark/PXD015087_Thermo\\Hela_P035214_BA1_S00_A00_R20.raw for step raw_conversion succeeded. 36.50 %\n"
     ]
    },
    {
     "name": "stderr",
     "output_type": "stream",
     "text": [
      "\r",
      " 36%|████████████████████████████▍                                                 | 0.365/1 [05:28<15:11, 1434.72s/it]"
     ]
    },
    {
     "name": "stdout",
     "output_type": "stream",
     "text": [
      "2022-12-03 17:38:46> Processing of F:/AP_Paper_Benchmark/PXD015087_Thermo\\Hela_P035214_BA1_S00_A00_R3.raw for step raw_conversion succeeded. 37.00 %\n",
      "2022-12-03 17:38:46> Processing of F:/AP_Paper_Benchmark/PXD015087_Thermo\\Hela_P035214_BA1_S00_A00_R4.raw for step raw_conversion succeeded. 37.50 %\n"
     ]
    },
    {
     "name": "stderr",
     "output_type": "stream",
     "text": [
      "\r",
      " 38%|█████████████████████████████▎                                                | 0.375/1 [05:29<11:46, 1130.13s/it]"
     ]
    },
    {
     "name": "stdout",
     "output_type": "stream",
     "text": [
      "2022-12-03 17:38:46> Processing of F:/AP_Paper_Benchmark/PXD015087_Thermo\\Hela_P035214_BA1_S00_A00_R5.raw for step raw_conversion succeeded. 38.00 %\n",
      "2022-12-03 17:38:46> Processing of F:/AP_Paper_Benchmark/PXD015087_Thermo\\Hela_P035214_BA1_S00_A00_R6.raw for step raw_conversion succeeded. 38.50 %\n",
      "2022-12-03 17:38:49> Processing of F:/AP_Paper_Benchmark/PXD015087_Thermo\\Hela_P035214_BA1_S00_A00_R7.raw for step raw_conversion succeeded. 39.00 %\n"
     ]
    },
    {
     "name": "stderr",
     "output_type": "stream",
     "text": [
      "\r",
      " 39%|███████████████████████████████▏                                                | 0.39/1 [05:32<08:27, 832.64s/it]"
     ]
    },
    {
     "name": "stdout",
     "output_type": "stream",
     "text": [
      "2022-12-03 17:38:49> Processing of F:/AP_Paper_Benchmark/PXD015087_Thermo\\Hela_P035214_BA1_S00_A00_R8.raw for step raw_conversion succeeded. 39.50 %\n",
      "2022-12-03 17:38:49> Processing of F:/AP_Paper_Benchmark/PXD015087_Thermo\\Hela_P035214_BA1_S00_A00_R9.raw for step raw_conversion succeeded. 40.00 %\n"
     ]
    },
    {
     "name": "stderr",
     "output_type": "stream",
     "text": [
      "\r",
      " 40%|████████████████████████████████▍                                                | 0.4/1 [05:32<06:25, 642.36s/it]"
     ]
    },
    {
     "name": "stdout",
     "output_type": "stream",
     "text": [
      "2022-12-03 17:38:51> Processing of F:/AP_Paper_Benchmark/PXD015087_Thermo\\Hela_P035215_BA1_S00_A00_R1.raw for step raw_conversion succeeded. 40.50 %\n"
     ]
    },
    {
     "name": "stderr",
     "output_type": "stream",
     "text": [
      "\r",
      " 40%|███████████████████████████████▉                                               | 0.405/1 [05:34<06:03, 610.92s/it]"
     ]
    },
    {
     "name": "stdout",
     "output_type": "stream",
     "text": [
      "2022-12-03 17:38:51> Processing of F:/AP_Paper_Benchmark/PXD015087_Thermo\\Hela_P035215_BA1_S00_A00_R10.raw for step raw_conversion succeeded. 41.00 %\n",
      "2022-12-03 17:38:53> Processing of F:/AP_Paper_Benchmark/PXD015087_Thermo\\Hela_P035215_BA1_S00_A00_R11.raw for step raw_conversion succeeded. 41.50 %\n"
     ]
    },
    {
     "name": "stderr",
     "output_type": "stream",
     "text": [
      "\r",
      " 42%|████████████████████████████████▊                                              | 0.415/1 [05:36<04:44, 486.70s/it]"
     ]
    },
    {
     "name": "stdout",
     "output_type": "stream",
     "text": [
      "2022-12-03 17:38:53> Processing of F:/AP_Paper_Benchmark/PXD015087_Thermo\\Hela_P035215_BA1_S00_A00_R12.raw for step raw_conversion succeeded. 42.00 %\n",
      "2022-12-03 17:38:53> Processing of F:/AP_Paper_Benchmark/PXD015087_Thermo\\Hela_P035215_BA1_S00_A00_R13.raw for step raw_conversion succeeded. 42.50 %\n",
      "2022-12-03 17:38:53> Processing of F:/AP_Paper_Benchmark/PXD015087_Thermo\\Hela_P035215_BA1_S00_A00_R14.raw for step raw_conversion succeeded. 43.00 %\n",
      "2022-12-03 17:38:53> Processing of F:/AP_Paper_Benchmark/PXD015087_Thermo\\Hela_P035215_BA1_S00_A00_R15.raw for step raw_conversion succeeded. 43.50 %\n"
     ]
    },
    {
     "name": "stderr",
     "output_type": "stream",
     "text": [
      "\r",
      " 44%|██████████████████████████████████▎                                            | 0.435/1 [05:36<02:34, 273.09s/it]"
     ]
    },
    {
     "name": "stdout",
     "output_type": "stream",
     "text": [
      "2022-12-03 17:38:53> Processing of F:/AP_Paper_Benchmark/PXD015087_Thermo\\Hela_P035215_BA1_S00_A00_R16.raw for step raw_conversion succeeded. 44.00 %\n",
      "2022-12-03 17:38:55> Processing of F:/AP_Paper_Benchmark/PXD015087_Thermo\\Hela_P035215_BA1_S00_A00_R17.raw for step raw_conversion succeeded. 44.50 %\n"
     ]
    },
    {
     "name": "stderr",
     "output_type": "stream",
     "text": [
      "\r",
      " 44%|███████████████████████████████████▏                                           | 0.445/1 [05:37<02:10, 236.01s/it]"
     ]
    },
    {
     "name": "stdout",
     "output_type": "stream",
     "text": [
      "2022-12-03 17:38:57> Processing of F:/AP_Paper_Benchmark/PXD015087_Thermo\\Hela_P035215_BA1_S00_A00_R18.raw for step raw_conversion succeeded. 45.00 %\n"
     ]
    },
    {
     "name": "stderr",
     "output_type": "stream",
     "text": [
      "\r",
      " 45%|████████████████████████████████████                                            | 0.45/1 [05:39<02:29, 271.84s/it]"
     ]
    },
    {
     "name": "stdout",
     "output_type": "stream",
     "text": [
      "2022-12-03 17:38:57> Processing of F:/AP_Paper_Benchmark/PXD015087_Thermo\\Hela_P035215_BA1_S00_A00_R19.raw for step raw_conversion succeeded. 45.50 %\n",
      "2022-12-03 17:38:57> Processing of F:/AP_Paper_Benchmark/PXD015087_Thermo\\Hela_P035215_BA1_S00_A00_R2.raw for step raw_conversion succeeded. 46.00 %\n",
      "2022-12-03 17:38:57> Processing of F:/AP_Paper_Benchmark/PXD015087_Thermo\\Hela_P035215_BA1_S00_A00_R20.raw for step raw_conversion succeeded. 46.50 %\n",
      "2022-12-03 17:38:57> Processing of F:/AP_Paper_Benchmark/PXD015087_Thermo\\Hela_P035215_BA1_S00_A00_R3.raw for step raw_conversion succeeded. 47.00 %\n",
      "2022-12-03 17:38:57> Processing of F:/AP_Paper_Benchmark/PXD015087_Thermo\\Hela_P035215_BA1_S00_A00_R4.raw for step raw_conversion succeeded. 47.50 %\n",
      "2022-12-03 17:39:00> Processing of F:/AP_Paper_Benchmark/PXD015087_Thermo\\Hela_P035215_BA1_S00_A00_R5.raw for step raw_conversion succeeded. 48.00 %\n"
     ]
    },
    {
     "name": "stderr",
     "output_type": "stream",
     "text": [
      "\r",
      " 48%|██████████████████████████████████████▍                                         | 0.48/1 [05:42<01:29, 172.81s/it]"
     ]
    },
    {
     "name": "stdout",
     "output_type": "stream",
     "text": [
      "2022-12-03 17:40:05> Processing of F:/AP_Paper_Benchmark/PXD015087_Thermo\\Hela_P035215_BA1_S00_A00_R6.raw for step raw_conversion succeeded. 48.50 %\n"
     ]
    },
    {
     "name": "stderr",
     "output_type": "stream",
     "text": [
      "\r",
      " 48%|█████████████████████████████████████▊                                        | 0.485/1 [06:47<14:22, 1674.38s/it]"
     ]
    },
    {
     "name": "stdout",
     "output_type": "stream",
     "text": [
      "2022-12-03 17:40:05> Processing of F:/AP_Paper_Benchmark/PXD015087_Thermo\\Hela_P035215_BA1_S00_A00_R7.raw for step raw_conversion succeeded. 49.00 %\n"
     ]
    },
    {
     "name": "stderr",
     "output_type": "stream",
     "text": [
      "\r",
      " 49%|██████████████████████████████████████▋                                        | 0.49/1 [06:47<12:17, 1445.73s/it]"
     ]
    },
    {
     "name": "stdout",
     "output_type": "stream",
     "text": [
      "2022-12-03 17:40:05> Processing of F:/AP_Paper_Benchmark/PXD015087_Thermo\\Hela_P035215_BA1_S00_A00_R8.raw for step raw_conversion succeeded. 49.50 %\n",
      "2022-12-03 17:40:08> Processing of F:/AP_Paper_Benchmark/PXD015087_Thermo\\Hela_P035215_BA1_S00_A00_R9.raw for step raw_conversion succeeded. 50.00 %\n"
     ]
    },
    {
     "name": "stderr",
     "output_type": "stream",
     "text": [
      "\r",
      " 50%|████████████████████████████████████████                                        | 0.5/1 [06:51<09:23, 1126.34s/it]"
     ]
    },
    {
     "name": "stdout",
     "output_type": "stream",
     "text": [
      "2022-12-03 17:40:09> Processing of F:/AP_Paper_Benchmark/PXD015087_Thermo\\Hela_P035216_BA1_S00_A00_R1.raw for step raw_conversion succeeded. 50.50 %\n",
      "2022-12-03 17:40:10> Processing of F:/AP_Paper_Benchmark/PXD015087_Thermo\\Hela_P035216_BA1_S00_A00_R10.raw for step raw_conversion succeeded. 51.00 %\n"
     ]
    },
    {
     "name": "stderr",
     "output_type": "stream",
     "text": [
      "\r",
      " 51%|████████████████████████████████████████▊                                       | 0.51/1 [06:52<06:48, 834.20s/it]"
     ]
    },
    {
     "name": "stdout",
     "output_type": "stream",
     "text": [
      "2022-12-03 17:40:11> Processing of F:/AP_Paper_Benchmark/PXD015087_Thermo\\Hela_P035216_BA1_S00_A00_R11.raw for step raw_conversion succeeded. 51.50 %\n"
     ]
    },
    {
     "name": "stderr",
     "output_type": "stream",
     "text": [
      "\r",
      " 52%|████████████████████████████████████████▋                                      | 0.515/1 [06:54<06:00, 742.91s/it]"
     ]
    },
    {
     "name": "stdout",
     "output_type": "stream",
     "text": [
      "2022-12-03 17:40:11> Processing of F:/AP_Paper_Benchmark/PXD015087_Thermo\\Hela_P035216_BA1_S00_A00_R12.raw for step raw_conversion succeeded. 52.00 %\n",
      "2022-12-03 17:40:11> Processing of F:/AP_Paper_Benchmark/PXD015087_Thermo\\Hela_P035216_BA1_S00_A00_R13.raw for step raw_conversion succeeded. 52.50 %\n",
      "2022-12-03 17:40:13> Processing of F:/AP_Paper_Benchmark/PXD015087_Thermo\\Hela_P035216_BA1_S00_A00_R14.raw for step raw_conversion succeeded. 53.00 %\n"
     ]
    },
    {
     "name": "stderr",
     "output_type": "stream",
     "text": [
      "\r",
      " 53%|██████████████████████████████████████████▍                                     | 0.53/1 [06:56<03:43, 475.98s/it]"
     ]
    },
    {
     "name": "stdout",
     "output_type": "stream",
     "text": [
      "2022-12-03 17:40:13> Processing of F:/AP_Paper_Benchmark/PXD015087_Thermo\\Hela_P035216_BA1_S00_A00_R15.raw for step raw_conversion succeeded. 53.50 %\n",
      "2022-12-03 17:40:13> Processing of F:/AP_Paper_Benchmark/PXD015087_Thermo\\Hela_P035216_BA1_S00_A00_R16.raw for step raw_conversion succeeded. 54.00 %\n"
     ]
    },
    {
     "name": "stderr",
     "output_type": "stream",
     "text": [
      "\r",
      " 54%|███████████████████████████████████████████▏                                    | 0.54/1 [06:56<02:40, 348.10s/it]"
     ]
    },
    {
     "name": "stdout",
     "output_type": "stream",
     "text": [
      "2022-12-03 17:40:13> Processing of F:/AP_Paper_Benchmark/PXD015087_Thermo\\Hela_P035216_BA1_S00_A00_R17.raw for step raw_conversion succeeded. 54.50 %\n",
      "2022-12-03 17:40:13> Processing of F:/AP_Paper_Benchmark/PXD015087_Thermo\\Hela_P035216_BA1_S00_A00_R18.raw for step raw_conversion succeeded. 55.00 %\n",
      "2022-12-03 17:40:13> Processing of F:/AP_Paper_Benchmark/PXD015087_Thermo\\Hela_P035216_BA1_S00_A00_R19.raw for step raw_conversion succeeded. 55.50 %\n",
      "2022-12-03 17:40:13> Processing of F:/AP_Paper_Benchmark/PXD015087_Thermo\\Hela_P035216_BA1_S00_A00_R2.raw for step raw_conversion succeeded. 56.00 %\n",
      "2022-12-03 17:40:14> Processing of F:/AP_Paper_Benchmark/PXD015087_Thermo\\Hela_P035216_BA1_S00_A00_R20.raw for step raw_conversion succeeded. 56.50 %\n"
     ]
    },
    {
     "name": "stderr",
     "output_type": "stream",
     "text": [
      "\r",
      " 56%|████████████████████████████████████████████▋                                  | 0.565/1 [06:56<01:17, 178.66s/it]"
     ]
    },
    {
     "name": "stdout",
     "output_type": "stream",
     "text": [
      "2022-12-03 17:40:14> Processing of F:/AP_Paper_Benchmark/PXD015087_Thermo\\Hela_P035216_BA1_S00_A00_R3.raw for step raw_conversion succeeded. 57.00 %\n",
      "2022-12-03 17:40:16> Processing of F:/AP_Paper_Benchmark/PXD015087_Thermo\\Hela_P035216_BA1_S00_A00_R4.raw for step raw_conversion succeeded. 57.50 %\n"
     ]
    },
    {
     "name": "stderr",
     "output_type": "stream",
     "text": [
      "\r",
      " 57%|█████████████████████████████████████████████▍                                 | 0.575/1 [06:59<01:21, 191.51s/it]"
     ]
    },
    {
     "name": "stdout",
     "output_type": "stream",
     "text": [
      "2022-12-03 17:40:18> Processing of F:/AP_Paper_Benchmark/PXD015087_Thermo\\Hela_P035216_BA1_S00_A00_R5.raw for step raw_conversion succeeded. 58.00 %\n"
     ]
    },
    {
     "name": "stderr",
     "output_type": "stream",
     "text": [
      "\r",
      " 58%|██████████████████████████████████████████████▍                                 | 0.58/1 [07:01<01:31, 218.28s/it]"
     ]
    },
    {
     "name": "stdout",
     "output_type": "stream",
     "text": [
      "2022-12-03 17:40:19> Processing of F:/AP_Paper_Benchmark/PXD015087_Thermo\\Hela_P035216_BA1_S00_A00_R6.raw for step raw_conversion succeeded. 58.50 %\n"
     ]
    },
    {
     "name": "stderr",
     "output_type": "stream",
     "text": [
      "\r",
      " 58%|██████████████████████████████████████████████▏                                | 0.585/1 [07:01<01:26, 208.17s/it]"
     ]
    },
    {
     "name": "stdout",
     "output_type": "stream",
     "text": [
      "2022-12-03 17:40:19> Processing of F:/AP_Paper_Benchmark/PXD015087_Thermo\\Hela_P035216_BA1_S00_A00_R7.raw for step raw_conversion succeeded. 59.00 %\n",
      "2022-12-03 17:40:19> Processing of F:/AP_Paper_Benchmark/PXD015087_Thermo\\Hela_P035216_BA1_S00_A00_R8.raw for step raw_conversion succeeded. 59.50 %\n",
      "2022-12-03 17:40:19> Processing of F:/AP_Paper_Benchmark/PXD015087_Thermo\\Hela_P035216_BA1_S00_A00_R9.raw for step raw_conversion succeeded. 60.00 %\n",
      "2022-12-03 17:41:24> Processing of F:/AP_Paper_Benchmark/PXD015087_Thermo\\Hela_P035217_BA1_S00_A00_R1.raw for step raw_conversion succeeded. 60.50 %\n"
     ]
    },
    {
     "name": "stderr",
     "output_type": "stream",
     "text": [
      "\r",
      " 60%|███████████████████████████████████████████████▏                              | 0.605/1 [08:07<11:09, 1695.51s/it]"
     ]
    },
    {
     "name": "stdout",
     "output_type": "stream",
     "text": [
      "2022-12-03 17:41:24> Processing of F:/AP_Paper_Benchmark/PXD015087_Thermo\\Hela_P035217_BA1_S00_A00_R10.raw for step raw_conversion succeeded. 61.00 %\n",
      "2022-12-03 17:41:25> Processing of F:/AP_Paper_Benchmark/PXD015087_Thermo\\Hela_P035217_BA1_S00_A00_R11.raw for step raw_conversion succeeded. 61.50 %\n"
     ]
    },
    {
     "name": "stderr",
     "output_type": "stream",
     "text": [
      "\r",
      " 62%|███████████████████████████████████████████████▉                              | 0.615/1 [08:08<08:14, 1283.40s/it]"
     ]
    },
    {
     "name": "stdout",
     "output_type": "stream",
     "text": [
      "2022-12-03 17:41:27> Processing of F:/AP_Paper_Benchmark/PXD015087_Thermo\\Hela_P035217_BA1_S00_A00_R12.raw for step raw_conversion succeeded. 62.00 %\n"
     ]
    },
    {
     "name": "stderr",
     "output_type": "stream",
     "text": [
      "\r",
      " 62%|████████████████████████████████████████████████▉                              | 0.62/1 [08:09<07:12, 1139.06s/it]"
     ]
    },
    {
     "name": "stdout",
     "output_type": "stream",
     "text": [
      "2022-12-03 17:41:31> Processing of F:/AP_Paper_Benchmark/PXD015087_Thermo\\Hela_P035217_BA1_S00_A00_R13.raw for step raw_conversion succeeded. 62.50 %\n"
     ]
    },
    {
     "name": "stderr",
     "output_type": "stream",
     "text": [
      "\r",
      " 62%|████████████████████████████████████████████████▊                             | 0.625/1 [08:14<06:49, 1092.50s/it]"
     ]
    },
    {
     "name": "stdout",
     "output_type": "stream",
     "text": [
      "2022-12-03 17:41:31> Processing of F:/AP_Paper_Benchmark/PXD015087_Thermo\\Hela_P035217_BA1_S00_A00_R14.raw for step raw_conversion succeeded. 63.00 %\n",
      "2022-12-03 17:41:31> Processing of F:/AP_Paper_Benchmark/PXD015087_Thermo\\Hela_P035217_BA1_S00_A00_R15.raw for step raw_conversion succeeded. 63.50 %\n",
      "2022-12-03 17:41:31> Processing of F:/AP_Paper_Benchmark/PXD015087_Thermo\\Hela_P035217_BA1_S00_A00_R16.raw for step raw_conversion succeeded. 64.00 %\n",
      "2022-12-03 17:41:31> Processing of F:/AP_Paper_Benchmark/PXD015087_Thermo\\Hela_P035217_BA1_S00_A00_R17.raw for step raw_conversion succeeded. 64.50 %\n",
      "2022-12-03 17:41:31> Processing of F:/AP_Paper_Benchmark/PXD015087_Thermo\\Hela_P035217_BA1_S00_A00_R18.raw for step raw_conversion succeeded. 65.00 %\n",
      "2022-12-03 17:41:32> Processing of F:/AP_Paper_Benchmark/PXD015087_Thermo\\Hela_P035217_BA1_S00_A00_R19.raw for step raw_conversion succeeded. 65.50 %\n",
      "2022-12-03 17:41:32> Processing of F:/AP_Paper_Benchmark/PXD015087_Thermo\\Hela_P035217_BA1_S00_A00_R2.raw for step raw_conversion succeeded. 66.00 %\n"
     ]
    },
    {
     "name": "stderr",
     "output_type": "stream",
     "text": [
      "\r",
      " 66%|████████████████████████████████████████████████████▊                           | 0.66/1 [08:15<02:16, 400.75s/it]"
     ]
    },
    {
     "name": "stdout",
     "output_type": "stream",
     "text": [
      "2022-12-03 17:41:32> Processing of F:/AP_Paper_Benchmark/PXD015087_Thermo\\Hela_P035217_BA1_S00_A00_R20.raw for step raw_conversion succeeded. 66.50 %\n"
     ]
    },
    {
     "name": "stderr",
     "output_type": "stream",
     "text": [
      "\r",
      " 66%|████████████████████████████████████████████████████▌                          | 0.665/1 [08:15<02:00, 359.76s/it]"
     ]
    },
    {
     "name": "stdout",
     "output_type": "stream",
     "text": [
      "2022-12-03 17:41:32> Processing of F:/AP_Paper_Benchmark/PXD015087_Thermo\\Hela_P035217_BA1_S00_A00_R21.raw for step raw_conversion succeeded. 67.00 %\n",
      "2022-12-03 17:41:32> Processing of F:/AP_Paper_Benchmark/PXD015087_Thermo\\Hela_P035217_BA1_S00_A00_R3.raw for step raw_conversion succeeded. 67.50 %\n",
      "2022-12-03 17:41:32> Processing of F:/AP_Paper_Benchmark/PXD015087_Thermo\\Hela_P035217_BA1_S00_A00_R5.raw for step raw_conversion succeeded. 68.00 %\n",
      "2022-12-03 17:41:36> Processing of F:/AP_Paper_Benchmark/PXD015087_Thermo\\Hela_P035217_BA1_S00_A00_R6.raw for step raw_conversion succeeded. 68.50 %\n"
     ]
    },
    {
     "name": "stderr",
     "output_type": "stream",
     "text": [
      "\r",
      " 68%|██████████████████████████████████████████████████████                         | 0.685/1 [08:19<01:31, 289.91s/it]"
     ]
    },
    {
     "name": "stdout",
     "output_type": "stream",
     "text": [
      "2022-12-03 17:41:38> Processing of F:/AP_Paper_Benchmark/PXD015087_Thermo\\Hela_P035217_BA1_S00_A00_R7.raw for step raw_conversion succeeded. 69.00 %\n"
     ]
    },
    {
     "name": "stderr",
     "output_type": "stream",
     "text": [
      "\r",
      " 69%|███████████████████████████████████████████████████████▏                        | 0.69/1 [08:20<01:32, 298.43s/it]"
     ]
    },
    {
     "name": "stdout",
     "output_type": "stream",
     "text": [
      "2022-12-03 17:41:39> Processing of F:/AP_Paper_Benchmark/PXD015087_Thermo\\Hela_P035217_BA1_S00_A00_R8.raw for step raw_conversion succeeded. 69.50 %\n"
     ]
    },
    {
     "name": "stderr",
     "output_type": "stream",
     "text": [
      "\r",
      " 70%|██████████████████████████████████████████████████████▉                        | 0.695/1 [08:21<01:27, 285.90s/it]"
     ]
    },
    {
     "name": "stdout",
     "output_type": "stream",
     "text": [
      "2022-12-03 17:41:39> Processing of F:/AP_Paper_Benchmark/PXD015087_Thermo\\Hela_P035217_BA1_S00_A00_R9.raw for step raw_conversion succeeded. 70.00 %\n",
      "2022-12-03 17:41:39> Processing of F:/AP_Paper_Benchmark/PXD015087_Thermo\\Hela_P035218_BA1_S00_A00_R1.raw for step raw_conversion succeeded. 70.50 %\n"
     ]
    },
    {
     "name": "stderr",
     "output_type": "stream",
     "text": [
      "\r",
      " 70%|███████████████████████████████████████████████████████▋                       | 0.705/1 [08:22<00:59, 203.32s/it]"
     ]
    },
    {
     "name": "stdout",
     "output_type": "stream",
     "text": [
      "2022-12-03 17:41:39> Processing of F:/AP_Paper_Benchmark/PXD015087_Thermo\\Hela_P035218_BA1_S00_A00_R10.raw for step raw_conversion succeeded. 71.00 %\n",
      "2022-12-03 17:41:40> Processing of F:/AP_Paper_Benchmark/PXD015087_Thermo\\Hela_P035218_BA1_S00_A00_R11.raw for step raw_conversion succeeded. 71.50 %\n"
     ]
    },
    {
     "name": "stderr",
     "output_type": "stream",
     "text": [
      "\r",
      " 72%|████████████████████████████████████████████████████████▍                      | 0.715/1 [08:23<00:50, 177.85s/it]"
     ]
    },
    {
     "name": "stdout",
     "output_type": "stream",
     "text": [
      "2022-12-03 17:41:40> Processing of F:/AP_Paper_Benchmark/PXD015087_Thermo\\Hela_P035218_BA1_S00_A00_R12.raw for step raw_conversion succeeded. 72.00 %\n",
      "2022-12-03 17:42:45> Processing of F:/AP_Paper_Benchmark/PXD015087_Thermo\\Hela_P035218_BA1_S00_A00_R13.raw for step raw_conversion succeeded. 72.50 %\n"
     ]
    },
    {
     "name": "stderr",
     "output_type": "stream",
     "text": [
      "\r",
      " 72%|████████████████████████████████████████████████████████▌                     | 0.725/1 [09:27<09:25, 2057.29s/it]"
     ]
    },
    {
     "name": "stdout",
     "output_type": "stream",
     "text": [
      "2022-12-03 17:42:45> Processing of F:/AP_Paper_Benchmark/PXD015087_Thermo\\Hela_P035218_BA1_S00_A00_R14.raw for step raw_conversion succeeded. 73.00 %\n",
      "2022-12-03 17:42:45> Processing of F:/AP_Paper_Benchmark/PXD015087_Thermo\\Hela_P035218_BA1_S00_A00_R15.raw for step raw_conversion succeeded. 73.50 %\n",
      "2022-12-03 17:42:47> Processing of F:/AP_Paper_Benchmark/PXD015087_Thermo\\Hela_P035218_BA1_S00_A00_R16.raw for step raw_conversion succeeded. 74.00 %\n"
     ]
    },
    {
     "name": "stderr",
     "output_type": "stream",
     "text": [
      "\r",
      " 74%|██████████████████████████████████████████████████████████▍                    | 0.74/1 [09:29<05:38, 1303.73s/it]"
     ]
    },
    {
     "name": "stdout",
     "output_type": "stream",
     "text": [
      "2022-12-03 17:42:49> Processing of F:/AP_Paper_Benchmark/PXD015087_Thermo\\Hela_P035218_BA1_S00_A00_R17.raw for step raw_conversion succeeded. 74.50 %\n"
     ]
    },
    {
     "name": "stderr",
     "output_type": "stream",
     "text": [
      "\r",
      " 74%|██████████████████████████████████████████████████████████                    | 0.745/1 [09:31<04:57, 1165.54s/it]"
     ]
    },
    {
     "name": "stdout",
     "output_type": "stream",
     "text": [
      "2022-12-03 17:42:49> Processing of F:/AP_Paper_Benchmark/PXD015087_Thermo\\Hela_P035218_BA1_S00_A00_R18.raw for step raw_conversion succeeded. 75.00 %\n",
      "2022-12-03 17:42:49> Processing of F:/AP_Paper_Benchmark/PXD015087_Thermo\\Hela_P035218_BA1_S00_A00_R19.raw for step raw_conversion succeeded. 75.50 %\n",
      "2022-12-03 17:42:49> Processing of F:/AP_Paper_Benchmark/PXD015087_Thermo\\Hela_P035218_BA1_S00_A00_R2.raw for step raw_conversion succeeded. 76.00 %\n",
      "2022-12-03 17:42:50> Processing of F:/AP_Paper_Benchmark/PXD015087_Thermo\\Hela_P035218_BA1_S00_A00_R20.raw for step raw_conversion succeeded. 76.50 %\n"
     ]
    },
    {
     "name": "stderr",
     "output_type": "stream",
     "text": [
      "\r",
      " 76%|████████████████████████████████████████████████████████████▍                  | 0.765/1 [09:33<02:32, 647.65s/it]"
     ]
    },
    {
     "name": "stdout",
     "output_type": "stream",
     "text": [
      "2022-12-03 17:42:50> Processing of F:/AP_Paper_Benchmark/PXD015087_Thermo\\Hela_P035218_BA1_S00_A00_R3.raw for step raw_conversion succeeded. 77.00 %\n",
      "2022-12-03 17:42:50> Processing of F:/AP_Paper_Benchmark/PXD015087_Thermo\\Hela_P035218_BA1_S00_A00_R4.raw for step raw_conversion succeeded. 77.50 %\n",
      "2022-12-03 17:42:50> Processing of F:/AP_Paper_Benchmark/PXD015087_Thermo\\Hela_P035218_BA1_S00_A00_R5.raw for step raw_conversion succeeded. 78.00 %\n",
      "2022-12-03 17:42:50> Processing of F:/AP_Paper_Benchmark/PXD015087_Thermo\\Hela_P035218_BA1_S00_A00_R6.raw for step raw_conversion succeeded. 78.50 %\n",
      "2022-12-03 17:42:50> Processing of F:/AP_Paper_Benchmark/PXD015087_Thermo\\Hela_P035218_BA1_S00_A00_R7.raw for step raw_conversion succeeded. 79.00 %\n",
      "2022-12-03 17:42:51> Processing of F:/AP_Paper_Benchmark/PXD015087_Thermo\\Hela_P035218_BA1_S00_A00_R8.raw for step raw_conversion succeeded. 79.50 %\n"
     ]
    },
    {
     "name": "stderr",
     "output_type": "stream",
     "text": [
      "\r",
      " 80%|██████████████████████████████████████████████████████████████▊                | 0.795/1 [09:34<01:09, 340.29s/it]"
     ]
    },
    {
     "name": "stdout",
     "output_type": "stream",
     "text": [
      "2022-12-03 17:42:51> Processing of F:/AP_Paper_Benchmark/PXD015087_Thermo\\Hela_P035218_BA1_S00_A00_R9.raw for step raw_conversion succeeded. 80.00 %\n",
      "2022-12-03 17:42:51> Processing of F:/AP_Paper_Benchmark/PXD015087_Thermo\\Hela_P035219_BA1_S00_A00_R1.raw for step raw_conversion succeeded. 80.50 %\n",
      "2022-12-03 17:42:59> Processing of F:/AP_Paper_Benchmark/PXD015087_Thermo\\Hela_P035219_BA1_S00_A00_R10.raw for step raw_conversion succeeded. 81.00 %\n"
     ]
    },
    {
     "name": "stderr",
     "output_type": "stream",
     "text": [
      "\r",
      " 81%|████████████████████████████████████████████████████████████████▊               | 0.81/1 [09:41<01:13, 388.06s/it]"
     ]
    },
    {
     "name": "stdout",
     "output_type": "stream",
     "text": [
      "2022-12-03 17:42:59> Processing of F:/AP_Paper_Benchmark/PXD015087_Thermo\\Hela_P035219_BA1_S00_A00_R11.raw for step raw_conversion succeeded. 81.50 %\n",
      "2022-12-03 17:42:59> Processing of F:/AP_Paper_Benchmark/PXD015087_Thermo\\Hela_P035219_BA1_S00_A00_R12.raw for step raw_conversion succeeded. 82.00 %\n",
      "2022-12-03 17:42:59> Processing of F:/AP_Paper_Benchmark/PXD015087_Thermo\\Hela_P035219_BA1_S00_A00_R13.raw for step raw_conversion succeeded. 82.50 %\n",
      "2022-12-03 17:42:59> Processing of F:/AP_Paper_Benchmark/PXD015087_Thermo\\Hela_P035219_BA1_S00_A00_R14.raw for step raw_conversion succeeded. 83.00 %\n",
      "2022-12-03 17:42:59> Processing of F:/AP_Paper_Benchmark/PXD015087_Thermo\\Hela_P035219_BA1_S00_A00_R15.raw for step raw_conversion succeeded. 83.50 %\n",
      "2022-12-03 17:42:59> Processing of F:/AP_Paper_Benchmark/PXD015087_Thermo\\Hela_P035219_BA1_S00_A00_R16.raw for step raw_conversion succeeded. 84.00 %\n",
      "2022-12-03 17:43:59> Processing of F:/AP_Paper_Benchmark/PXD015087_Thermo\\Hela_P035219_BA1_S00_A00_R17.raw for step raw_conversion succeeded. 84.50 %\n"
     ]
    },
    {
     "name": "stderr",
     "output_type": "stream",
     "text": [
      "\r",
      " 84%|█████████████████████████████████████████████████████████████████▉            | 0.845/1 [10:42<02:36, 1010.73s/it]"
     ]
    },
    {
     "name": "stdout",
     "output_type": "stream",
     "text": [
      "2022-12-03 17:44:07> Processing of F:/AP_Paper_Benchmark/PXD015087_Thermo\\Hela_P035219_BA1_S00_A00_R18.raw for step raw_conversion succeeded. 85.00 %\n"
     ]
    },
    {
     "name": "stderr",
     "output_type": "stream",
     "text": [
      "\r",
      " 85%|███████████████████████████████████████████████████████████████████▏           | 0.85/1 [10:49<02:38, 1059.87s/it]"
     ]
    },
    {
     "name": "stdout",
     "output_type": "stream",
     "text": [
      "2022-12-03 17:44:07> Processing of F:/AP_Paper_Benchmark/PXD015087_Thermo\\Hela_P035219_BA1_S00_A00_R19.raw for step raw_conversion succeeded. 85.50 %\n",
      "2022-12-03 17:44:07> Processing of F:/AP_Paper_Benchmark/PXD015087_Thermo\\Hela_P035219_BA1_S00_A00_R2.raw for step raw_conversion succeeded. 86.00 %\n",
      "2022-12-03 17:44:07> Processing of F:/AP_Paper_Benchmark/PXD015087_Thermo\\Hela_P035219_BA1_S00_A00_R20.raw for step raw_conversion succeeded. 86.50 %\n",
      "2022-12-03 17:44:07> Processing of F:/AP_Paper_Benchmark/PXD015087_Thermo\\Hela_P035219_BA1_S00_A00_R3.raw for step raw_conversion succeeded. 87.00 %\n",
      "2022-12-03 17:44:07> Processing of F:/AP_Paper_Benchmark/PXD015087_Thermo\\Hela_P035219_BA1_S00_A00_R4.raw for step raw_conversion succeeded. 87.50 %\n",
      "2022-12-03 17:44:07> Processing of F:/AP_Paper_Benchmark/PXD015087_Thermo\\Hela_P035219_BA1_S00_A00_R5.raw for step raw_conversion succeeded. 88.00 %\n",
      "2022-12-03 17:44:10> Processing of F:/AP_Paper_Benchmark/PXD015087_Thermo\\Hela_P035219_BA1_S00_A00_R6.raw for step raw_conversion succeeded. 88.50 %\n"
     ]
    },
    {
     "name": "stderr",
     "output_type": "stream",
     "text": [
      "\r",
      " 88%|█████████████████████████████████████████████████████████████████████▉         | 0.885/1 [10:52<01:09, 605.34s/it]"
     ]
    },
    {
     "name": "stdout",
     "output_type": "stream",
     "text": [
      "2022-12-03 17:44:10> Processing of F:/AP_Paper_Benchmark/PXD015087_Thermo\\Hela_P035219_BA1_S00_A00_R7.raw for step raw_conversion succeeded. 89.00 %\n",
      "2022-12-03 17:44:10> Processing of F:/AP_Paper_Benchmark/PXD015087_Thermo\\Hela_P035219_BA1_S00_A00_R8.raw for step raw_conversion succeeded. 89.50 %\n",
      "2022-12-03 17:44:10> Processing of F:/AP_Paper_Benchmark/PXD015087_Thermo\\Hela_P035219_BA1_S00_A00_R9.raw for step raw_conversion succeeded. 90.00 %\n"
     ]
    },
    {
     "name": "stderr",
     "output_type": "stream",
     "text": [
      "\r",
      " 90%|████████████████████████████████████████████████████████████████████████▉        | 0.9/1 [10:53<00:47, 475.28s/it]"
     ]
    },
    {
     "name": "stdout",
     "output_type": "stream",
     "text": [
      "2022-12-03 17:44:10> Processing of F:/AP_Paper_Benchmark/PXD015087_Thermo\\March_Hela_P035212_BA1_S00_A00_R1.raw for step raw_conversion succeeded. 90.50 %\n",
      "2022-12-03 17:44:10> Processing of F:/AP_Paper_Benchmark/PXD015087_Thermo\\March_Hela_P035212_BA1_S00_A00_R10.raw for step raw_conversion succeeded. 91.00 %\n",
      "2022-12-03 17:44:10> Processing of F:/AP_Paper_Benchmark/PXD015087_Thermo\\March_Hela_P035212_BA1_S00_A00_R11.raw for step raw_conversion succeeded. 91.50 %\n",
      "2022-12-03 17:44:10> Processing of F:/AP_Paper_Benchmark/PXD015087_Thermo\\March_Hela_P035212_BA1_S00_A00_R12.raw for step raw_conversion succeeded. 92.00 %\n",
      "2022-12-03 17:44:10> Processing of F:/AP_Paper_Benchmark/PXD015087_Thermo\\March_Hela_P035212_BA1_S00_A00_R13.raw for step raw_conversion succeeded. 92.50 %\n",
      "2022-12-03 17:44:10> Processing of F:/AP_Paper_Benchmark/PXD015087_Thermo\\March_Hela_P035212_BA1_S00_A00_R14.raw for step raw_conversion succeeded. 93.00 %\n",
      "2022-12-03 17:44:15> Processing of F:/AP_Paper_Benchmark/PXD015087_Thermo\\March_Hela_P035212_BA1_S00_A00_R15.raw for step raw_conversion succeeded. 93.50 %\n"
     ]
    },
    {
     "name": "stderr",
     "output_type": "stream",
     "text": [
      "\r",
      " 94%|█████████████████████████████████████████████████████████████████████████▊     | 0.935/1 [10:58<00:21, 332.70s/it]"
     ]
    },
    {
     "name": "stdout",
     "output_type": "stream",
     "text": [
      "2022-12-03 17:44:17> Processing of F:/AP_Paper_Benchmark/PXD015087_Thermo\\March_Hela_P035212_BA1_S00_A00_R16.raw for step raw_conversion succeeded. 94.00 %\n"
     ]
    },
    {
     "name": "stderr",
     "output_type": "stream",
     "text": [
      "\r",
      " 94%|███████████████████████████████████████████████████████████████████████████▏    | 0.94/1 [10:59<00:19, 328.01s/it]"
     ]
    },
    {
     "name": "stdout",
     "output_type": "stream",
     "text": [
      "2022-12-03 17:44:17> Processing of F:/AP_Paper_Benchmark/PXD015087_Thermo\\March_Hela_P035212_BA1_S00_A00_R17.raw for step raw_conversion succeeded. 94.50 %\n",
      "2022-12-03 17:44:17> Processing of F:/AP_Paper_Benchmark/PXD015087_Thermo\\March_Hela_P035212_BA1_S00_A00_R18.raw for step raw_conversion succeeded. 95.00 %\n",
      "2022-12-03 17:44:17> Processing of F:/AP_Paper_Benchmark/PXD015087_Thermo\\March_Hela_P035212_BA1_S00_A00_R19.raw for step raw_conversion succeeded. 95.50 %\n"
     ]
    },
    {
     "name": "stderr",
     "output_type": "stream",
     "text": [
      "\r",
      " 96%|███████████████████████████████████████████████████████████████████████████▍   | 0.955/1 [11:00<00:11, 257.80s/it]"
     ]
    },
    {
     "name": "stdout",
     "output_type": "stream",
     "text": [
      "2022-12-03 17:44:17> Processing of F:/AP_Paper_Benchmark/PXD015087_Thermo\\March_Hela_P035212_BA1_S00_A00_R2.raw for step raw_conversion succeeded. 96.00 %\n",
      "2022-12-03 17:44:54> Processing of F:/AP_Paper_Benchmark/PXD015087_Thermo\\March_Hela_P035212_BA1_S00_A00_R20.raw for step raw_conversion succeeded. 96.50 %\n"
     ]
    },
    {
     "name": "stderr",
     "output_type": "stream",
     "text": [
      "\r",
      " 96%|████████████████████████████████████████████████████████████████████████████▏  | 0.965/1 [11:37<00:32, 929.53s/it]"
     ]
    },
    {
     "name": "stdout",
     "output_type": "stream",
     "text": [
      "2022-12-03 17:44:55> Processing of F:/AP_Paper_Benchmark/PXD015087_Thermo\\March_Hela_P035212_BA1_S00_A00_R3.raw for step raw_conversion succeeded. 97.00 %\n"
     ]
    },
    {
     "name": "stderr",
     "output_type": "stream",
     "text": [
      "\r",
      " 97%|█████████████████████████████████████████████████████████████████████████████▌  | 0.97/1 [11:37<00:24, 831.00s/it]"
     ]
    },
    {
     "name": "stdout",
     "output_type": "stream",
     "text": [
      "2022-12-03 17:44:55> Processing of F:/AP_Paper_Benchmark/PXD015087_Thermo\\March_Hela_P035212_BA1_S00_A00_R4.raw for step raw_conversion succeeded. 97.50 %\n"
     ]
    },
    {
     "name": "stderr",
     "output_type": "stream",
     "text": [
      "\r",
      " 98%|█████████████████████████████████████████████████████████████████████████████  | 0.975/1 [11:38<00:18, 724.73s/it]"
     ]
    },
    {
     "name": "stdout",
     "output_type": "stream",
     "text": [
      "2022-12-03 17:44:57> Processing of F:/AP_Paper_Benchmark/PXD015087_Thermo\\March_Hela_P035212_BA1_S00_A00_R5.raw for step raw_conversion succeeded. 98.00 %\n"
     ]
    },
    {
     "name": "stderr",
     "output_type": "stream",
     "text": [
      "\r",
      " 98%|██████████████████████████████████████████████████████████████████████████████▍ | 0.98/1 [11:39<00:12, 647.00s/it]"
     ]
    },
    {
     "name": "stdout",
     "output_type": "stream",
     "text": [
      "2022-12-03 17:44:57> Processing of F:/AP_Paper_Benchmark/PXD015087_Thermo\\March_Hela_P035212_BA1_S00_A00_R6.raw for step raw_conversion succeeded. 98.50 %\n",
      "2022-12-03 17:44:57> Processing of F:/AP_Paper_Benchmark/PXD015087_Thermo\\March_Hela_P035212_BA1_S00_A00_R7.raw for step raw_conversion succeeded. 99.00 %\n",
      "2022-12-03 17:44:58> Processing of F:/AP_Paper_Benchmark/PXD015087_Thermo\\March_Hela_P035212_BA1_S00_A00_R8.raw for step raw_conversion succeeded. 99.50 %\n"
     ]
    },
    {
     "name": "stderr",
     "output_type": "stream",
     "text": [
      "\r",
      "100%|██████████████████████████████████████████████████████████████████████████████▌| 0.995/1 [11:40<00:02, 400.23s/it]"
     ]
    },
    {
     "name": "stdout",
     "output_type": "stream",
     "text": [
      "2022-12-03 17:44:58> Processing of F:/AP_Paper_Benchmark/PXD015087_Thermo\\March_Hela_P035212_BA1_S00_A00_R9.raw for step raw_conversion succeeded. 100.00 %\n"
     ]
    },
    {
     "name": "stderr",
     "output_type": "stream",
     "text": [
      "\r",
      "100%|█████████████████████████████████████████████████████████████████████████████████| 1.0/1 [11:41<00:00, 701.34s/it]"
     ]
    },
    {
     "name": "stdout",
     "output_type": "stream",
     "text": [
      "2022-12-03 17:44:58> ==== feature_finding ====\n"
     ]
    },
    {
     "name": "stderr",
     "output_type": "stream",
     "text": [
      "\n",
      "  0%|                                                                                            | 0/1 [00:00<?, ?it/s]"
     ]
    },
    {
     "name": "stdout",
     "output_type": "stream",
     "text": [
      "2022-12-03 17:45:02> Processing 200 files for step find_features\n",
      "2022-12-03 17:45:02> Setting Process limit to 14\n",
      "2022-12-03 17:45:02> AlphaPool was set to 14 processes. Setting max to 14.\n",
      "2022-12-03 17:51:34> Processing of F:/AP_Paper_Benchmark/PXD015087_Thermo\\Hela_P035210_BA1_S00_A00_R1.raw for step find_features succeeded. 0.50 %\n"
     ]
    },
    {
     "name": "stderr",
     "output_type": "stream",
     "text": [
      "\r",
      "  0%|▎                                                                         | 0.005/1 [06:31<21:38:27, 78298.60s/it]"
     ]
    },
    {
     "name": "stdout",
     "output_type": "stream",
     "text": [
      "2022-12-03 17:51:41> Processing of F:/AP_Paper_Benchmark/PXD015087_Thermo\\Hela_P035210_BA1_S00_A00_R10.raw for step find_features succeeded. 1.00 %\n"
     ]
    },
    {
     "name": "stderr",
     "output_type": "stream",
     "text": [
      "\r",
      "  1%|▊                                                                           | 0.01/1 [06:39<9:06:37, 33128.68s/it]"
     ]
    },
    {
     "name": "stdout",
     "output_type": "stream",
     "text": [
      "2022-12-03 17:51:41> Processing of F:/AP_Paper_Benchmark/PXD015087_Thermo\\Hela_P035210_BA1_S00_A00_R11.raw for step find_features succeeded. 1.50 %\n",
      "2022-12-03 17:51:48> Processing of F:/AP_Paper_Benchmark/PXD015087_Thermo\\Hela_P035210_BA1_S00_A00_R12.raw for step find_features succeeded. 2.00 %\n"
     ]
    },
    {
     "name": "stderr",
     "output_type": "stream",
     "text": [
      "\r",
      "  2%|█▌                                                                          | 0.02/1 [06:45<3:28:29, 12764.85s/it]"
     ]
    },
    {
     "name": "stdout",
     "output_type": "stream",
     "text": [
      "2022-12-03 17:51:48> Processing of F:/AP_Paper_Benchmark/PXD015087_Thermo\\Hela_P035210_BA1_S00_A00_R13.raw for step find_features succeeded. 2.50 %\n",
      "2022-12-03 17:51:48> Processing of F:/AP_Paper_Benchmark/PXD015087_Thermo\\Hela_P035210_BA1_S00_A00_R14.raw for step find_features succeeded. 3.00 %\n",
      "2022-12-03 17:51:48> Processing of F:/AP_Paper_Benchmark/PXD015087_Thermo\\Hela_P035210_BA1_S00_A00_R15.raw for step find_features succeeded. 3.50 %\n",
      "2022-12-03 17:51:48> Processing of F:/AP_Paper_Benchmark/PXD015087_Thermo\\Hela_P035210_BA1_S00_A00_R16.raw for step find_features succeeded. 4.00 %\n",
      "2022-12-03 17:53:01> Processing of F:/AP_Paper_Benchmark/PXD015087_Thermo\\Hela_P035210_BA1_S00_A00_R17.raw for step find_features succeeded. 4.50 %\n"
     ]
    },
    {
     "name": "stderr",
     "output_type": "stream",
     "text": [
      "\r",
      "  4%|███▍                                                                        | 0.045/1 [07:58<1:35:03, 5971.83s/it]"
     ]
    },
    {
     "name": "stdout",
     "output_type": "stream",
     "text": [
      "2022-12-03 17:53:01> Processing of F:/AP_Paper_Benchmark/PXD015087_Thermo\\Hela_P035210_BA1_S00_A00_R18.raw for step find_features succeeded. 5.00 %\n",
      "2022-12-03 17:53:01> Processing of F:/AP_Paper_Benchmark/PXD015087_Thermo\\Hela_P035210_BA1_S00_A00_R19.raw for step find_features succeeded. 5.50 %\n",
      "2022-12-03 17:53:01> Processing of F:/AP_Paper_Benchmark/PXD015087_Thermo\\Hela_P035210_BA1_S00_A00_R2.raw for step find_features succeeded. 6.00 %\n",
      "2022-12-03 17:53:01> Processing of F:/AP_Paper_Benchmark/PXD015087_Thermo\\Hela_P035210_BA1_S00_A00_R20.raw for step find_features succeeded. 6.50 %\n",
      "2022-12-03 17:53:01> Processing of F:/AP_Paper_Benchmark/PXD015087_Thermo\\Hela_P035210_BA1_S00_A00_R3.raw for step find_features succeeded. 7.00 %\n",
      "2022-12-03 18:01:04> Processing of F:/AP_Paper_Benchmark/PXD015087_Thermo\\Hela_P035210_BA1_S00_A00_R4.raw for step find_features succeeded. 7.50 %\n"
     ]
    },
    {
     "name": "stderr",
     "output_type": "stream",
     "text": [
      "\r",
      "  8%|█████▋                                                                     | 0.075/1 [16:01<2:56:36, 11455.99s/it]"
     ]
    },
    {
     "name": "stdout",
     "output_type": "stream",
     "text": [
      "2022-12-03 18:01:04> Processing of F:/AP_Paper_Benchmark/PXD015087_Thermo\\Hela_P035210_BA1_S00_A00_R5.raw for step find_features succeeded. 8.00 %\n",
      "2022-12-03 18:01:19> Processing of F:/AP_Paper_Benchmark/PXD015087_Thermo\\Hela_P035210_BA1_S00_A00_R6.raw for step find_features succeeded. 8.50 %\n"
     ]
    },
    {
     "name": "stderr",
     "output_type": "stream",
     "text": [
      "\r",
      "  8%|██████▍                                                                     | 0.085/1 [16:16<2:23:39, 9420.14s/it]"
     ]
    },
    {
     "name": "stdout",
     "output_type": "stream",
     "text": [
      "2022-12-03 18:01:25> Processing of F:/AP_Paper_Benchmark/PXD015087_Thermo\\Hela_P035210_BA1_S00_A00_R7.raw for step find_features succeeded. 9.00 %\n"
     ]
    },
    {
     "name": "stderr",
     "output_type": "stream",
     "text": [
      "\r",
      "  9%|██████▉                                                                      | 0.09/1 [16:22<2:06:48, 8361.47s/it]"
     ]
    },
    {
     "name": "stdout",
     "output_type": "stream",
     "text": [
      "2022-12-03 18:01:57> Processing of F:/AP_Paper_Benchmark/PXD015087_Thermo\\Hela_P035210_BA1_S00_A00_R8.raw for step find_features succeeded. 9.50 %\n"
     ]
    },
    {
     "name": "stderr",
     "output_type": "stream",
     "text": [
      "\r",
      " 10%|███████▏                                                                    | 0.095/1 [16:54<2:01:43, 8070.68s/it]"
     ]
    },
    {
     "name": "stdout",
     "output_type": "stream",
     "text": [
      "2022-12-03 18:01:57> Processing of F:/AP_Paper_Benchmark/PXD015087_Thermo\\Hela_P035210_BA1_S00_A00_R9.raw for step find_features succeeded. 10.00 %\n",
      "2022-12-03 18:01:57> Processing of F:/AP_Paper_Benchmark/PXD015087_Thermo\\Hela_P035211_BA1_S00_A00_R1.raw for step find_features succeeded. 10.50 %\n",
      "2022-12-03 18:01:57> Processing of F:/AP_Paper_Benchmark/PXD015087_Thermo\\Hela_P035211_BA1_S00_A00_R10.raw for step find_features succeeded. 11.00 %\n",
      "2022-12-03 18:02:42> Processing of F:/AP_Paper_Benchmark/PXD015087_Thermo\\Hela_P035211_BA1_S00_A00_R11.raw for step find_features succeeded. 11.50 %\n"
     ]
    },
    {
     "name": "stderr",
     "output_type": "stream",
     "text": [
      "\r",
      " 12%|████████▋                                                                   | 0.115/1 [17:40<1:18:50, 5345.04s/it]"
     ]
    },
    {
     "name": "stdout",
     "output_type": "stream",
     "text": [
      "2022-12-03 18:02:42> Processing of F:/AP_Paper_Benchmark/PXD015087_Thermo\\Hela_P035211_BA1_S00_A00_R12.raw for step find_features succeeded. 12.00 %\n",
      "2022-12-03 18:02:42> Processing of F:/AP_Paper_Benchmark/PXD015087_Thermo\\Hela_P035211_BA1_S00_A00_R13.raw for step find_features succeeded. 12.50 %\n",
      "2022-12-03 18:02:42> Processing of F:/AP_Paper_Benchmark/PXD015087_Thermo\\Hela_P035211_BA1_S00_A00_R14.raw for step find_features succeeded. 13.00 %\n",
      "2022-12-03 18:02:42> Processing of F:/AP_Paper_Benchmark/PXD015087_Thermo\\Hela_P035211_BA1_S00_A00_R15.raw for step find_features succeeded. 13.50 %\n",
      "2022-12-03 18:05:58> Processing of F:/AP_Paper_Benchmark/PXD015087_Thermo\\Hela_P035211_BA1_S00_A00_R16.raw for step find_features succeeded. 14.00 %\n"
     ]
    },
    {
     "name": "stderr",
     "output_type": "stream",
     "text": [
      "\r",
      " 14%|██████████▊                                                                  | 0.14/1 [20:56<1:32:59, 6487.35s/it]"
     ]
    },
    {
     "name": "stdout",
     "output_type": "stream",
     "text": [
      "2022-12-03 18:11:27> Processing of F:/AP_Paper_Benchmark/PXD015087_Thermo\\Hela_P035211_BA1_S00_A00_R17.raw for step find_features succeeded. 14.50 %\n"
     ]
    },
    {
     "name": "stderr",
     "output_type": "stream",
     "text": [
      "\r",
      " 14%|██████████▉                                                                | 0.145/1 [26:24<3:09:39, 13309.67s/it]"
     ]
    },
    {
     "name": "stdout",
     "output_type": "stream",
     "text": [
      "2022-12-03 18:11:30> Processing of F:/AP_Paper_Benchmark/PXD015087_Thermo\\Hela_P035211_BA1_S00_A00_R18.raw for step find_features succeeded. 15.00 %\n"
     ]
    },
    {
     "name": "stderr",
     "output_type": "stream",
     "text": [
      "\r",
      " 15%|███████████▍                                                                | 0.15/1 [26:28<2:43:13, 11521.82s/it]"
     ]
    },
    {
     "name": "stdout",
     "output_type": "stream",
     "text": [
      "2022-12-03 18:11:54> Processing of F:/AP_Paper_Benchmark/PXD015087_Thermo\\Hela_P035211_BA1_S00_A00_R19.raw for step find_features succeeded. 15.50 %\n"
     ]
    },
    {
     "name": "stderr",
     "output_type": "stream",
     "text": [
      "\r",
      " 16%|███████████▋                                                               | 0.155/1 [26:51<2:26:09, 10377.89s/it]"
     ]
    },
    {
     "name": "stdout",
     "output_type": "stream",
     "text": [
      "2022-12-03 18:11:58> Processing of F:/AP_Paper_Benchmark/PXD015087_Thermo\\Hela_P035211_BA1_S00_A00_R2.raw for step find_features succeeded. 16.00 %\n"
     ]
    },
    {
     "name": "stderr",
     "output_type": "stream",
     "text": [
      "\r",
      " 16%|████████████▎                                                                | 0.16/1 [26:55<1:59:09, 8511.60s/it]"
     ]
    },
    {
     "name": "stdout",
     "output_type": "stream",
     "text": [
      "2022-12-03 18:11:58> Processing of F:/AP_Paper_Benchmark/PXD015087_Thermo\\Hela_P035211_BA1_S00_A00_R20.raw for step find_features succeeded. 16.50 %\n",
      "2022-12-03 18:11:58> Processing of F:/AP_Paper_Benchmark/PXD015087_Thermo\\Hela_P035211_BA1_S00_A00_R3.raw for step find_features succeeded. 17.00 %\n",
      "2022-12-03 18:11:58> Processing of F:/AP_Paper_Benchmark/PXD015087_Thermo\\Hela_P035211_BA1_S00_A00_R4.raw for step find_features succeeded. 17.50 %\n",
      "2022-12-03 18:11:59> Processing of F:/AP_Paper_Benchmark/PXD015087_Thermo\\Hela_P035211_BA1_S00_A00_R5.raw for step find_features succeeded. 18.00 %\n"
     ]
    },
    {
     "name": "stderr",
     "output_type": "stream",
     "text": [
      "\r",
      " 18%|██████████████▏                                                                | 0.18/1 [26:56<55:36, 4068.33s/it]"
     ]
    },
    {
     "name": "stdout",
     "output_type": "stream",
     "text": [
      "2022-12-03 18:11:59> Processing of F:/AP_Paper_Benchmark/PXD015087_Thermo\\Hela_P035211_BA1_S00_A00_R6.raw for step find_features succeeded. 18.50 %\n",
      "2022-12-03 18:12:03> Processing of F:/AP_Paper_Benchmark/PXD015087_Thermo\\Hela_P035211_BA1_S00_A00_R7.raw for step find_features succeeded. 19.00 %\n"
     ]
    },
    {
     "name": "stderr",
     "output_type": "stream",
     "text": [
      "\r",
      " 19%|███████████████                                                                | 0.19/1 [27:00<41:33, 3078.05s/it]"
     ]
    },
    {
     "name": "stdout",
     "output_type": "stream",
     "text": [
      "2022-12-03 18:12:31> Processing of F:/AP_Paper_Benchmark/PXD015087_Thermo\\Hela_P035211_BA1_S00_A00_R8.raw for step find_features succeeded. 19.50 %\n"
     ]
    },
    {
     "name": "stderr",
     "output_type": "stream",
     "text": [
      "\r",
      " 20%|███████████████▏                                                              | 0.195/1 [27:28<46:46, 3486.51s/it]"
     ]
    },
    {
     "name": "stdout",
     "output_type": "stream",
     "text": [
      "2022-12-03 18:15:13> Processing of F:/AP_Paper_Benchmark/PXD015087_Thermo\\Hela_P035211_BA1_S00_A00_R9.raw for step find_features succeeded. 20.00 %\n"
     ]
    },
    {
     "name": "stderr",
     "output_type": "stream",
     "text": [
      "\r",
      " 20%|███████████████▌                                                              | 0.2/1 [30:10<1:59:08, 8935.84s/it]"
     ]
    },
    {
     "name": "stdout",
     "output_type": "stream",
     "text": [
      "2022-12-03 18:15:13> Processing of F:/AP_Paper_Benchmark/PXD015087_Thermo\\Hela_P035213_BA1_S00_A00_R1.raw for step find_features succeeded. 20.50 %\n",
      "2022-12-03 18:17:58> Processing of F:/AP_Paper_Benchmark/PXD015087_Thermo\\Hela_P035213_BA1_S00_A00_R10.raw for step find_features succeeded. 21.00 %\n"
     ]
    },
    {
     "name": "stderr",
     "output_type": "stream",
     "text": [
      "\r",
      " 21%|███████████████▉                                                            | 0.21/1 [32:55<2:32:48, 11605.43s/it]"
     ]
    },
    {
     "name": "stdout",
     "output_type": "stream",
     "text": [
      "2022-12-03 18:19:46> Processing of F:/AP_Paper_Benchmark/PXD015087_Thermo\\Hela_P035213_BA1_S00_A00_R11.raw for step find_features succeeded. 21.50 %\n"
     ]
    },
    {
     "name": "stderr",
     "output_type": "stream",
     "text": [
      "\r",
      " 22%|████████████████▏                                                          | 0.215/1 [34:43<2:57:50, 13592.37s/it]"
     ]
    },
    {
     "name": "stdout",
     "output_type": "stream",
     "text": [
      "2022-12-03 18:19:46> Processing of F:/AP_Paper_Benchmark/PXD015087_Thermo\\Hela_P035213_BA1_S00_A00_R12.raw for step find_features succeeded. 22.00 %\n",
      "2022-12-03 18:20:12> Processing of F:/AP_Paper_Benchmark/PXD015087_Thermo\\Hela_P035213_BA1_S00_A00_R13.raw for step find_features succeeded. 22.50 %\n"
     ]
    },
    {
     "name": "stderr",
     "output_type": "stream",
     "text": [
      "\r",
      " 22%|█████████████████                                                           | 0.225/1 [35:09<2:04:04, 9605.79s/it]"
     ]
    },
    {
     "name": "stdout",
     "output_type": "stream",
     "text": [
      "2022-12-03 18:22:10> Processing of F:/AP_Paper_Benchmark/PXD015087_Thermo\\Hela_P035213_BA1_S00_A00_R14.raw for step find_features succeeded. 23.00 %\n"
     ]
    },
    {
     "name": "stderr",
     "output_type": "stream",
     "text": [
      "\r",
      " 23%|█████████████████▍                                                          | 0.23/1 [37:08<2:40:25, 12501.11s/it]"
     ]
    },
    {
     "name": "stdout",
     "output_type": "stream",
     "text": [
      "2022-12-03 18:22:10> Processing of F:/AP_Paper_Benchmark/PXD015087_Thermo\\Hela_P035213_BA1_S00_A00_R15.raw for step find_features succeeded. 23.50 %\n",
      "2022-12-03 18:23:04> Processing of F:/AP_Paper_Benchmark/PXD015087_Thermo\\Hela_P035213_BA1_S00_A00_R16.raw for step find_features succeeded. 24.00 %\n"
     ]
    },
    {
     "name": "stderr",
     "output_type": "stream",
     "text": [
      "\r",
      " 24%|██████████████████▍                                                          | 0.24/1 [38:02<2:05:01, 9870.83s/it]"
     ]
    },
    {
     "name": "stdout",
     "output_type": "stream",
     "text": [
      "2022-12-03 18:23:07> Processing of F:/AP_Paper_Benchmark/PXD015087_Thermo\\Hela_P035213_BA1_S00_A00_R17.raw for step find_features succeeded. 24.50 %\n"
     ]
    },
    {
     "name": "stderr",
     "output_type": "stream",
     "text": [
      "\r",
      " 24%|██████████████████▌                                                         | 0.245/1 [38:04<1:39:28, 7905.73s/it]"
     ]
    },
    {
     "name": "stdout",
     "output_type": "stream",
     "text": [
      "2022-12-03 18:24:03> Processing of F:/AP_Paper_Benchmark/PXD015087_Thermo\\Hela_P035213_BA1_S00_A00_R18.raw for step find_features succeeded. 25.00 %\n"
     ]
    },
    {
     "name": "stderr",
     "output_type": "stream",
     "text": [
      "\r",
      " 25%|███████████████████▎                                                         | 0.25/1 [39:00<1:48:19, 8665.54s/it]"
     ]
    },
    {
     "name": "stdout",
     "output_type": "stream",
     "text": [
      "2022-12-03 18:24:03> Processing of F:/AP_Paper_Benchmark/PXD015087_Thermo\\Hela_P035213_BA1_S00_A00_R19.raw for step find_features succeeded. 25.50 %\n",
      "2022-12-03 18:24:03> Processing of F:/AP_Paper_Benchmark/PXD015087_Thermo\\Hela_P035213_BA1_S00_A00_R2.raw for step find_features succeeded. 26.00 %\n",
      "2022-12-03 18:24:59> Processing of F:/AP_Paper_Benchmark/PXD015087_Thermo\\Hela_P035213_BA1_S00_A00_R20.raw for step find_features succeeded. 26.50 %\n"
     ]
    },
    {
     "name": "stderr",
     "output_type": "stream",
     "text": [
      "\r",
      " 26%|████████████████████▏                                                       | 0.265/1 [39:56<1:16:05, 6211.91s/it]"
     ]
    },
    {
     "name": "stdout",
     "output_type": "stream",
     "text": [
      "2022-12-03 18:24:59> Processing of F:/AP_Paper_Benchmark/PXD015087_Thermo\\Hela_P035213_BA1_S00_A00_R3.raw for step find_features succeeded. 27.00 %\n",
      "2022-12-03 18:26:18> Processing of F:/AP_Paper_Benchmark/PXD015087_Thermo\\Hela_P035213_BA1_S00_A00_R4.raw for step find_features succeeded. 27.50 %\n"
     ]
    },
    {
     "name": "stderr",
     "output_type": "stream",
     "text": [
      "\r",
      " 28%|████████████████████▉                                                       | 0.275/1 [41:15<1:21:34, 6750.91s/it]"
     ]
    },
    {
     "name": "stdout",
     "output_type": "stream",
     "text": [
      "2022-12-03 18:27:58> Processing of F:/AP_Paper_Benchmark/PXD015087_Thermo\\Hela_P035213_BA1_S00_A00_R5.raw for step find_features succeeded. 28.00 %\n"
     ]
    },
    {
     "name": "stderr",
     "output_type": "stream",
     "text": [
      "\r",
      " 28%|█████████████████████▌                                                       | 0.28/1 [42:56<1:51:02, 9254.15s/it]"
     ]
    },
    {
     "name": "stdout",
     "output_type": "stream",
     "text": [
      "2022-12-03 18:29:49> Processing of F:/AP_Paper_Benchmark/PXD015087_Thermo\\Hela_P035213_BA1_S00_A00_R6.raw for step find_features succeeded. 28.50 %\n"
     ]
    },
    {
     "name": "stderr",
     "output_type": "stream",
     "text": [
      "\r",
      " 28%|█████████████████████▎                                                     | 0.285/1 [44:47<2:22:41, 11974.66s/it]"
     ]
    },
    {
     "name": "stdout",
     "output_type": "stream",
     "text": [
      "2022-12-03 18:29:49> Processing of F:/AP_Paper_Benchmark/PXD015087_Thermo\\Hela_P035213_BA1_S00_A00_R7.raw for step find_features succeeded. 29.00 %\n",
      "2022-12-03 18:30:43> Processing of F:/AP_Paper_Benchmark/PXD015087_Thermo\\Hela_P035213_BA1_S00_A00_R8.raw for step find_features succeeded. 29.50 %\n"
     ]
    },
    {
     "name": "stderr",
     "output_type": "stream",
     "text": [
      "\r",
      " 30%|██████████████████████▍                                                     | 0.295/1 [45:40<1:51:27, 9485.84s/it]"
     ]
    },
    {
     "name": "stdout",
     "output_type": "stream",
     "text": [
      "2022-12-03 18:33:44> Processing of F:/AP_Paper_Benchmark/PXD015087_Thermo\\Hela_P035213_BA1_S00_A00_R9.raw for step find_features succeeded. 30.00 %\n"
     ]
    },
    {
     "name": "stderr",
     "output_type": "stream",
     "text": [
      "\r",
      " 30%|███████████████████████                                                      | 0.3/1 [48:41<2:56:41, 15144.53s/it]"
     ]
    },
    {
     "name": "stdout",
     "output_type": "stream",
     "text": [
      "2022-12-03 18:33:45> Processing of F:/AP_Paper_Benchmark/PXD015087_Thermo\\Hela_P035214_BA1_S00_A00_R1.raw for step find_features succeeded. 30.50 %\n"
     ]
    },
    {
     "name": "stderr",
     "output_type": "stream",
     "text": [
      "\r",
      " 30%|██████████████████████▉                                                    | 0.305/1 [48:43<2:15:28, 11696.21s/it]"
     ]
    },
    {
     "name": "stdout",
     "output_type": "stream",
     "text": [
      "2022-12-03 18:35:05> Processing of F:/AP_Paper_Benchmark/PXD015087_Thermo\\Hela_P035214_BA1_S00_A00_R10.raw for step find_features succeeded. 31.00 %\n"
     ]
    },
    {
     "name": "stderr",
     "output_type": "stream",
     "text": [
      "\r",
      " 31%|███████████████████████▌                                                    | 0.31/1 [50:03<2:26:53, 12772.70s/it]"
     ]
    },
    {
     "name": "stdout",
     "output_type": "stream",
     "text": [
      "2022-12-03 18:35:05> Processing of F:/AP_Paper_Benchmark/PXD015087_Thermo\\Hela_P035214_BA1_S00_A00_R11.raw for step find_features succeeded. 31.50 %\n",
      "2022-12-03 18:35:49> Processing of F:/AP_Paper_Benchmark/PXD015087_Thermo\\Hela_P035214_BA1_S00_A00_R12.raw for step find_features succeeded. 32.00 %\n"
     ]
    },
    {
     "name": "stderr",
     "output_type": "stream",
     "text": [
      "\r",
      " 32%|████████████████████████▋                                                    | 0.32/1 [50:46<1:44:50, 9251.31s/it]"
     ]
    },
    {
     "name": "stdout",
     "output_type": "stream",
     "text": [
      "2022-12-03 18:36:33> Processing of F:/AP_Paper_Benchmark/PXD015087_Thermo\\Hela_P035214_BA1_S00_A00_R13.raw for step find_features succeeded. 32.50 %\n"
     ]
    },
    {
     "name": "stderr",
     "output_type": "stream",
     "text": [
      "\r",
      " 32%|████████████████████████▋                                                   | 0.325/1 [51:31<1:43:22, 9188.76s/it]"
     ]
    },
    {
     "name": "stdout",
     "output_type": "stream",
     "text": [
      "2022-12-03 18:36:33> Processing of F:/AP_Paper_Benchmark/PXD015087_Thermo\\Hela_P035214_BA1_S00_A00_R14.raw for step find_features succeeded. 33.00 %\n",
      "2022-12-03 18:36:35> Processing of F:/AP_Paper_Benchmark/PXD015087_Thermo\\Hela_P035214_BA1_S00_A00_R15.raw for step find_features succeeded. 33.50 %\n"
     ]
    },
    {
     "name": "stderr",
     "output_type": "stream",
     "text": [
      "\r",
      " 34%|█████████████████████████▍                                                  | 0.335/1 [51:32<1:02:12, 5612.48s/it]"
     ]
    },
    {
     "name": "stdout",
     "output_type": "stream",
     "text": [
      "2022-12-03 18:37:43> Processing of F:/AP_Paper_Benchmark/PXD015087_Thermo\\Hela_P035214_BA1_S00_A00_R16.raw for step find_features succeeded. 34.00 %\n"
     ]
    },
    {
     "name": "stderr",
     "output_type": "stream",
     "text": [
      "\r",
      " 34%|██████████████████████████▏                                                  | 0.34/1 [52:41<1:21:24, 7400.99s/it]"
     ]
    },
    {
     "name": "stdout",
     "output_type": "stream",
     "text": [
      "2022-12-03 18:38:01> Processing of F:/AP_Paper_Benchmark/PXD015087_Thermo\\Hela_P035214_BA1_S00_A00_R17.raw for step find_features succeeded. 34.50 %\n"
     ]
    },
    {
     "name": "stderr",
     "output_type": "stream",
     "text": [
      "\r",
      " 34%|██████████████████████████▏                                                 | 0.345/1 [52:58<1:10:31, 6460.21s/it]"
     ]
    },
    {
     "name": "stdout",
     "output_type": "stream",
     "text": [
      "2022-12-03 18:38:51> Processing of F:/AP_Paper_Benchmark/PXD015087_Thermo\\Hela_P035214_BA1_S00_A00_R18.raw for step find_features succeeded. 35.00 %\n"
     ]
    },
    {
     "name": "stderr",
     "output_type": "stream",
     "text": [
      "\r",
      " 35%|██████████████████████████▉                                                  | 0.35/1 [53:48<1:19:51, 7371.63s/it]"
     ]
    },
    {
     "name": "stdout",
     "output_type": "stream",
     "text": [
      "2022-12-03 18:38:51> Processing of F:/AP_Paper_Benchmark/PXD015087_Thermo\\Hela_P035214_BA1_S00_A00_R19.raw for step find_features succeeded. 35.50 %\n",
      "2022-12-03 18:40:15> Processing of F:/AP_Paper_Benchmark/PXD015087_Thermo\\Hela_P035214_BA1_S00_A00_R2.raw for step find_features succeeded. 36.00 %\n"
     ]
    },
    {
     "name": "stderr",
     "output_type": "stream",
     "text": [
      "\r",
      " 36%|███████████████████████████▋                                                 | 0.36/1 [55:12<1:23:09, 7795.79s/it]"
     ]
    },
    {
     "name": "stdout",
     "output_type": "stream",
     "text": [
      "2022-12-03 18:42:44> Processing of F:/AP_Paper_Benchmark/PXD015087_Thermo\\Hela_P035214_BA1_S00_A00_R20.raw for step find_features succeeded. 36.50 %\n"
     ]
    },
    {
     "name": "stderr",
     "output_type": "stream",
     "text": [
      "\r",
      " 36%|███████████████████████████▍                                               | 0.365/1 [57:41<2:16:26, 12891.99s/it]"
     ]
    },
    {
     "name": "stdout",
     "output_type": "stream",
     "text": [
      "2022-12-03 18:45:06> Processing of F:/AP_Paper_Benchmark/PXD015087_Thermo\\Hela_P035214_BA1_S00_A00_R3.raw for step find_features succeeded. 37.00 %\n"
     ]
    },
    {
     "name": "stderr",
     "output_type": "stream",
     "text": [
      "\r",
      " 37%|███████████████████████████▍                                              | 0.37/1 [1:00:03<2:55:43, 16735.76s/it]"
     ]
    },
    {
     "name": "stdout",
     "output_type": "stream",
     "text": [
      "2022-12-03 18:45:06> Processing of F:/AP_Paper_Benchmark/PXD015087_Thermo\\Hela_P035214_BA1_S00_A00_R4.raw for step find_features succeeded. 37.50 %\n",
      "2022-12-03 18:46:11> Processing of F:/AP_Paper_Benchmark/PXD015087_Thermo\\Hela_P035214_BA1_S00_A00_R5.raw for step find_features succeeded. 38.00 %\n"
     ]
    },
    {
     "name": "stderr",
     "output_type": "stream",
     "text": [
      "\r",
      " 38%|████████████████████████████                                              | 0.38/1 [1:01:09<2:09:11, 12502.68s/it]"
     ]
    },
    {
     "name": "stdout",
     "output_type": "stream",
     "text": [
      "2022-12-03 18:46:12> Processing of F:/AP_Paper_Benchmark/PXD015087_Thermo\\Hela_P035214_BA1_S00_A00_R6.raw for step find_features succeeded. 38.50 %\n"
     ]
    },
    {
     "name": "stderr",
     "output_type": "stream",
     "text": [
      "\r",
      " 38%|████████████████████████████▍                                             | 0.385/1 [1:01:09<1:39:13, 9680.70s/it]"
     ]
    },
    {
     "name": "stdout",
     "output_type": "stream",
     "text": [
      "2022-12-03 18:46:50> Processing of F:/AP_Paper_Benchmark/PXD015087_Thermo\\Hela_P035214_BA1_S00_A00_R7.raw for step find_features succeeded. 39.00 %\n"
     ]
    },
    {
     "name": "stderr",
     "output_type": "stream",
     "text": [
      "\r",
      " 39%|█████████████████████████████▎                                             | 0.39/1 [1:01:48<1:33:19, 9178.88s/it]"
     ]
    },
    {
     "name": "stdout",
     "output_type": "stream",
     "text": [
      "2022-12-03 18:47:08> Processing of F:/AP_Paper_Benchmark/PXD015087_Thermo\\Hela_P035214_BA1_S00_A00_R8.raw for step find_features succeeded. 39.50 %\n"
     ]
    },
    {
     "name": "stderr",
     "output_type": "stream",
     "text": [
      "\r",
      " 40%|█████████████████████████████▏                                            | 0.395/1 [1:02:05<1:17:49, 7718.43s/it]"
     ]
    },
    {
     "name": "stdout",
     "output_type": "stream",
     "text": [
      "2022-12-03 18:47:12> Processing of F:/AP_Paper_Benchmark/PXD015087_Thermo\\Hela_P035214_BA1_S00_A00_R9.raw for step find_features succeeded. 40.00 %\n"
     ]
    },
    {
     "name": "stderr",
     "output_type": "stream",
     "text": [
      "\r",
      " 40%|███████████████████████████████▏                                              | 0.4/1 [1:02:10<58:34, 5857.12s/it]"
     ]
    },
    {
     "name": "stdout",
     "output_type": "stream",
     "text": [
      "2022-12-03 18:47:37> Processing of F:/AP_Paper_Benchmark/PXD015087_Thermo\\Hela_P035215_BA1_S00_A00_R1.raw for step find_features succeeded. 40.50 %\n"
     ]
    },
    {
     "name": "stderr",
     "output_type": "stream",
     "text": [
      "\r",
      " 40%|██████████████████████████████▊                                             | 0.405/1 [1:02:35<55:36, 5607.98s/it]"
     ]
    },
    {
     "name": "stdout",
     "output_type": "stream",
     "text": [
      "2022-12-03 18:48:02> Processing of F:/AP_Paper_Benchmark/PXD015087_Thermo\\Hela_P035215_BA1_S00_A00_R10.raw for step find_features succeeded. 41.00 %\n"
     ]
    },
    {
     "name": "stderr",
     "output_type": "stream",
     "text": [
      "\r",
      " 41%|███████████████████████████████▌                                             | 0.41/1 [1:03:00<53:28, 5437.65s/it]"
     ]
    },
    {
     "name": "stdout",
     "output_type": "stream",
     "text": [
      "2022-12-03 18:48:25> Processing of F:/AP_Paper_Benchmark/PXD015087_Thermo\\Hela_P035215_BA1_S00_A00_R11.raw for step find_features succeeded. 41.50 %\n"
     ]
    },
    {
     "name": "stderr",
     "output_type": "stream",
     "text": [
      "\r",
      " 42%|███████████████████████████████▌                                            | 0.415/1 [1:03:22<50:26, 5172.90s/it]"
     ]
    },
    {
     "name": "stdout",
     "output_type": "stream",
     "text": [
      "2022-12-03 18:49:00> Processing of F:/AP_Paper_Benchmark/PXD015087_Thermo\\Hela_P035215_BA1_S00_A00_R12.raw for step find_features succeeded. 42.00 %\n"
     ]
    },
    {
     "name": "stderr",
     "output_type": "stream",
     "text": [
      "\r",
      " 42%|████████████████████████████████▎                                            | 0.42/1 [1:03:58<55:31, 5744.77s/it]"
     ]
    },
    {
     "name": "stdout",
     "output_type": "stream",
     "text": [
      "2022-12-03 18:50:04> Processing of F:/AP_Paper_Benchmark/PXD015087_Thermo\\Hela_P035215_BA1_S00_A00_R13.raw for step find_features succeeded. 42.50 %\n"
     ]
    },
    {
     "name": "stderr",
     "output_type": "stream",
     "text": [
      "\r",
      " 42%|███████████████████████████████▍                                          | 0.425/1 [1:05:01<1:14:35, 7783.82s/it]"
     ]
    },
    {
     "name": "stdout",
     "output_type": "stream",
     "text": [
      "2022-12-03 18:53:28> Processing of F:/AP_Paper_Benchmark/PXD015087_Thermo\\Hela_P035215_BA1_S00_A00_R14.raw for step find_features succeeded. 43.00 %\n"
     ]
    },
    {
     "name": "stderr",
     "output_type": "stream",
     "text": [
      "\r",
      " 43%|███████████████████████████████▊                                          | 0.43/1 [1:08:25<2:46:51, 17563.75s/it]"
     ]
    },
    {
     "name": "stdout",
     "output_type": "stream",
     "text": [
      "2022-12-03 18:53:28> Processing of F:/AP_Paper_Benchmark/PXD015087_Thermo\\Hela_P035215_BA1_S00_A00_R15.raw for step find_features succeeded. 43.50 %\n",
      "2022-12-03 18:56:32> Processing of F:/AP_Paper_Benchmark/PXD015087_Thermo\\Hela_P035215_BA1_S00_A00_R16.raw for step find_features succeeded. 44.00 %\n"
     ]
    },
    {
     "name": "stderr",
     "output_type": "stream",
     "text": [
      "\r",
      " 44%|████████████████████████████████▌                                         | 0.44/1 [1:11:30<2:47:47, 17978.04s/it]"
     ]
    },
    {
     "name": "stdout",
     "output_type": "stream",
     "text": [
      "2022-12-03 18:56:32> Processing of F:/AP_Paper_Benchmark/PXD015087_Thermo\\Hela_P035215_BA1_S00_A00_R17.raw for step find_features succeeded. 44.50 %\n",
      "2022-12-03 18:57:30> Processing of F:/AP_Paper_Benchmark/PXD015087_Thermo\\Hela_P035215_BA1_S00_A00_R18.raw for step find_features succeeded. 45.00 %\n"
     ]
    },
    {
     "name": "stderr",
     "output_type": "stream",
     "text": [
      "\r",
      " 45%|█████████████████████████████████▎                                        | 0.45/1 [1:12:27<2:00:24, 13136.07s/it]"
     ]
    },
    {
     "name": "stdout",
     "output_type": "stream",
     "text": [
      "2022-12-03 18:57:30> Processing of F:/AP_Paper_Benchmark/PXD015087_Thermo\\Hela_P035215_BA1_S00_A00_R19.raw for step find_features succeeded. 45.50 %\n",
      "2022-12-03 18:58:12> Processing of F:/AP_Paper_Benchmark/PXD015087_Thermo\\Hela_P035215_BA1_S00_A00_R2.raw for step find_features succeeded. 46.00 %\n"
     ]
    },
    {
     "name": "stderr",
     "output_type": "stream",
     "text": [
      "\r",
      " 46%|██████████████████████████████████▌                                        | 0.46/1 [1:13:09<1:29:10, 9908.21s/it]"
     ]
    },
    {
     "name": "stdout",
     "output_type": "stream",
     "text": [
      "2022-12-03 18:58:24> Processing of F:/AP_Paper_Benchmark/PXD015087_Thermo\\Hela_P035215_BA1_S00_A00_R20.raw for step find_features succeeded. 46.50 %\n"
     ]
    },
    {
     "name": "stderr",
     "output_type": "stream",
     "text": [
      "\r",
      " 46%|██████████████████████████████████▍                                       | 0.465/1 [1:13:22<1:14:47, 8387.04s/it]"
     ]
    },
    {
     "name": "stdout",
     "output_type": "stream",
     "text": [
      "2022-12-03 18:59:08> Processing of F:/AP_Paper_Benchmark/PXD015087_Thermo\\Hela_P035215_BA1_S00_A00_R3.raw for step find_features succeeded. 47.00 %\n"
     ]
    },
    {
     "name": "stderr",
     "output_type": "stream",
     "text": [
      "\r",
      " 47%|███████████████████████████████████▎                                       | 0.47/1 [1:14:06<1:14:59, 8490.09s/it]"
     ]
    },
    {
     "name": "stdout",
     "output_type": "stream",
     "text": [
      "2022-12-03 18:59:21> Processing of F:/AP_Paper_Benchmark/PXD015087_Thermo\\Hela_P035215_BA1_S00_A00_R4.raw for step find_features succeeded. 47.50 %\n"
     ]
    },
    {
     "name": "stderr",
     "output_type": "stream",
     "text": [
      "\r",
      " 48%|███████████████████████████████████▏                                      | 0.475/1 [1:14:19<1:01:39, 7046.88s/it]"
     ]
    },
    {
     "name": "stdout",
     "output_type": "stream",
     "text": [
      "2022-12-03 18:59:21> Processing of F:/AP_Paper_Benchmark/PXD015087_Thermo\\Hela_P035215_BA1_S00_A00_R5.raw for step find_features succeeded. 48.00 %\n",
      "2022-12-03 19:00:34> Processing of F:/AP_Paper_Benchmark/PXD015087_Thermo\\Hela_P035215_BA1_S00_A00_R6.raw for step find_features succeeded. 48.50 %\n"
     ]
    },
    {
     "name": "stderr",
     "output_type": "stream",
     "text": [
      "\r",
      " 48%|███████████████████████████████████▉                                      | 0.485/1 [1:15:31<1:01:06, 7119.20s/it]"
     ]
    },
    {
     "name": "stdout",
     "output_type": "stream",
     "text": [
      "2022-12-03 19:00:34> Processing of F:/AP_Paper_Benchmark/PXD015087_Thermo\\Hela_P035215_BA1_S00_A00_R7.raw for step find_features succeeded. 49.00 %\n",
      "2022-12-03 19:00:46> Processing of F:/AP_Paper_Benchmark/PXD015087_Thermo\\Hela_P035215_BA1_S00_A00_R8.raw for step find_features succeeded. 49.50 %\n"
     ]
    },
    {
     "name": "stderr",
     "output_type": "stream",
     "text": [
      "\r",
      " 50%|█████████████████████████████████████▌                                      | 0.495/1 [1:15:43<41:30, 4931.16s/it]"
     ]
    },
    {
     "name": "stdout",
     "output_type": "stream",
     "text": [
      "2022-12-03 19:04:27> Processing of F:/AP_Paper_Benchmark/PXD015087_Thermo\\Hela_P035215_BA1_S00_A00_R9.raw for step find_features succeeded. 50.00 %\n"
     ]
    },
    {
     "name": "stderr",
     "output_type": "stream",
     "text": [
      "\r",
      " 50%|█████████████████████████████████████▌                                     | 0.5/1 [1:19:25<1:49:45, 13170.93s/it]"
     ]
    },
    {
     "name": "stdout",
     "output_type": "stream",
     "text": [
      "2022-12-03 19:04:27> Processing of F:/AP_Paper_Benchmark/PXD015087_Thermo\\Hela_P035216_BA1_S00_A00_R1.raw for step find_features succeeded. 50.50 %\n",
      "2022-12-03 19:06:55> Processing of F:/AP_Paper_Benchmark/PXD015087_Thermo\\Hela_P035216_BA1_S00_A00_R10.raw for step find_features succeeded. 51.00 %\n"
     ]
    },
    {
     "name": "stderr",
     "output_type": "stream",
     "text": [
      "\r",
      " 51%|█████████████████████████████████████▋                                    | 0.51/1 [1:21:52<1:52:25, 13766.18s/it]"
     ]
    },
    {
     "name": "stdout",
     "output_type": "stream",
     "text": [
      "2022-12-03 19:07:22> Processing of F:/AP_Paper_Benchmark/PXD015087_Thermo\\Hela_P035216_BA1_S00_A00_R11.raw for step find_features succeeded. 51.50 %\n"
     ]
    },
    {
     "name": "stderr",
     "output_type": "stream",
     "text": [
      "\r",
      " 52%|█████████████████████████████████████▌                                   | 0.515/1 [1:22:20<1:37:10, 12022.03s/it]"
     ]
    },
    {
     "name": "stdout",
     "output_type": "stream",
     "text": [
      "2022-12-03 19:08:00> Processing of F:/AP_Paper_Benchmark/PXD015087_Thermo\\Hela_P035216_BA1_S00_A00_R12.raw for step find_features succeeded. 52.00 %\n"
     ]
    },
    {
     "name": "stderr",
     "output_type": "stream",
     "text": [
      "\r",
      " 52%|██████████████████████████████████████▍                                   | 0.52/1 [1:22:57<1:27:40, 10960.34s/it]"
     ]
    },
    {
     "name": "stdout",
     "output_type": "stream",
     "text": [
      "2022-12-03 19:08:01> Processing of F:/AP_Paper_Benchmark/PXD015087_Thermo\\Hela_P035216_BA1_S00_A00_R13.raw for step find_features succeeded. 52.50 %\n"
     ]
    },
    {
     "name": "stderr",
     "output_type": "stream",
     "text": [
      "\r",
      " 52%|██████████████████████████████████████▊                                   | 0.525/1 [1:22:59<1:05:52, 8321.60s/it]"
     ]
    },
    {
     "name": "stdout",
     "output_type": "stream",
     "text": [
      "2022-12-03 19:08:14> Processing of F:/AP_Paper_Benchmark/PXD015087_Thermo\\Hela_P035216_BA1_S00_A00_R14.raw for step find_features succeeded. 53.00 %\n"
     ]
    },
    {
     "name": "stderr",
     "output_type": "stream",
     "text": [
      "\r",
      " 53%|████████████████████████████████████████▊                                    | 0.53/1 [1:23:11<53:19, 6807.77s/it]"
     ]
    },
    {
     "name": "stdout",
     "output_type": "stream",
     "text": [
      "2022-12-03 19:08:55> Processing of F:/AP_Paper_Benchmark/PXD015087_Thermo\\Hela_P035216_BA1_S00_A00_R15.raw for step find_features succeeded. 53.50 %\n"
     ]
    },
    {
     "name": "stderr",
     "output_type": "stream",
     "text": [
      "\r",
      " 54%|████████████████████████████████████████▋                                   | 0.535/1 [1:23:52<55:35, 7173.13s/it]"
     ]
    },
    {
     "name": "stdout",
     "output_type": "stream",
     "text": [
      "2022-12-03 19:10:20> Processing of F:/AP_Paper_Benchmark/PXD015087_Thermo\\Hela_P035216_BA1_S00_A00_R16.raw for step find_features succeeded. 54.00 %\n"
     ]
    },
    {
     "name": "stderr",
     "output_type": "stream",
     "text": [
      "\r",
      " 54%|████████████████████████████████████████▌                                  | 0.54/1 [1:25:18<1:16:22, 9962.84s/it]"
     ]
    },
    {
     "name": "stdout",
     "output_type": "stream",
     "text": [
      "2022-12-03 19:10:20> Processing of F:/AP_Paper_Benchmark/PXD015087_Thermo\\Hela_P035216_BA1_S00_A00_R17.raw for step find_features succeeded. 54.50 %\n",
      "2022-12-03 19:10:20> Processing of F:/AP_Paper_Benchmark/PXD015087_Thermo\\Hela_P035216_BA1_S00_A00_R18.raw for step find_features succeeded. 55.00 %\n",
      "2022-12-03 19:10:36> Processing of F:/AP_Paper_Benchmark/PXD015087_Thermo\\Hela_P035216_BA1_S00_A00_R19.raw for step find_features succeeded. 55.50 %\n"
     ]
    },
    {
     "name": "stderr",
     "output_type": "stream",
     "text": [
      "\r",
      " 56%|██████████████████████████████████████████▏                                 | 0.555/1 [1:25:33<37:40, 5078.76s/it]"
     ]
    },
    {
     "name": "stdout",
     "output_type": "stream",
     "text": [
      "2022-12-03 19:14:10> Processing of F:/AP_Paper_Benchmark/PXD015087_Thermo\\Hela_P035216_BA1_S00_A00_R2.raw for step find_features succeeded. 56.00 %\n"
     ]
    },
    {
     "name": "stderr",
     "output_type": "stream",
     "text": [
      "\r",
      " 56%|█████████████████████████████████████████▍                                | 0.56/1 [1:29:07<1:34:23, 12870.70s/it]"
     ]
    },
    {
     "name": "stdout",
     "output_type": "stream",
     "text": [
      "2022-12-03 19:14:10> Processing of F:/AP_Paper_Benchmark/PXD015087_Thermo\\Hela_P035216_BA1_S00_A00_R20.raw for step find_features succeeded. 56.50 %\n",
      "2022-12-03 19:17:12> Processing of F:/AP_Paper_Benchmark/PXD015087_Thermo\\Hela_P035216_BA1_S00_A00_R3.raw for step find_features succeeded. 57.00 %\n"
     ]
    },
    {
     "name": "stderr",
     "output_type": "stream",
     "text": [
      "\r",
      " 57%|██████████████████████████████████████████▏                               | 0.57/1 [1:32:09<1:46:17, 14830.27s/it]"
     ]
    },
    {
     "name": "stdout",
     "output_type": "stream",
     "text": [
      "2022-12-03 19:17:12> Processing of F:/AP_Paper_Benchmark/PXD015087_Thermo\\Hela_P035216_BA1_S00_A00_R4.raw for step find_features succeeded. 57.50 %\n",
      "2022-12-03 19:18:43> Processing of F:/AP_Paper_Benchmark/PXD015087_Thermo\\Hela_P035216_BA1_S00_A00_R5.raw for step find_features succeeded. 58.00 %\n"
     ]
    },
    {
     "name": "stderr",
     "output_type": "stream",
     "text": [
      "\r",
      " 58%|██████████████████████████████████████████▉                               | 0.58/1 [1:33:41<1:30:05, 12871.22s/it]"
     ]
    },
    {
     "name": "stdout",
     "output_type": "stream",
     "text": [
      "2022-12-03 19:18:43> Processing of F:/AP_Paper_Benchmark/PXD015087_Thermo\\Hela_P035216_BA1_S00_A00_R6.raw for step find_features succeeded. 58.50 %\n",
      "2022-12-03 19:19:14> Processing of F:/AP_Paper_Benchmark/PXD015087_Thermo\\Hela_P035216_BA1_S00_A00_R7.raw for step find_features succeeded. 59.00 %\n"
     ]
    },
    {
     "name": "stderr",
     "output_type": "stream",
     "text": [
      "\r",
      " 59%|████████████████████████████████████████████▎                              | 0.59/1 [1:34:11<1:05:47, 9628.07s/it]"
     ]
    },
    {
     "name": "stdout",
     "output_type": "stream",
     "text": [
      "2022-12-03 19:19:14> Processing of F:/AP_Paper_Benchmark/PXD015087_Thermo\\Hela_P035216_BA1_S00_A00_R8.raw for step find_features succeeded. 59.50 %\n",
      "2022-12-03 19:19:30> Processing of F:/AP_Paper_Benchmark/PXD015087_Thermo\\Hela_P035216_BA1_S00_A00_R9.raw for step find_features succeeded. 60.00 %\n"
     ]
    },
    {
     "name": "stderr",
     "output_type": "stream",
     "text": [
      "\r",
      " 60%|██████████████████████████████████████████████▊                               | 0.6/1 [1:34:27<47:01, 7054.12s/it]"
     ]
    },
    {
     "name": "stdout",
     "output_type": "stream",
     "text": [
      "2022-12-03 19:19:35> Processing of F:/AP_Paper_Benchmark/PXD015087_Thermo\\Hela_P035217_BA1_S00_A00_R1.raw for step find_features succeeded. 60.50 %\n"
     ]
    },
    {
     "name": "stderr",
     "output_type": "stream",
     "text": [
      "\r",
      " 60%|█████████████████████████████████████████████▉                              | 0.605/1 [1:34:32<38:55, 5913.14s/it]"
     ]
    },
    {
     "name": "stdout",
     "output_type": "stream",
     "text": [
      "2022-12-03 19:20:51> Processing of F:/AP_Paper_Benchmark/PXD015087_Thermo\\Hela_P035217_BA1_S00_A00_R10.raw for step find_features succeeded. 61.00 %\n"
     ]
    },
    {
     "name": "stderr",
     "output_type": "stream",
     "text": [
      "\r",
      " 61%|██████████████████████████████████████████████▉                              | 0.61/1 [1:35:48<51:12, 7877.56s/it]"
     ]
    },
    {
     "name": "stdout",
     "output_type": "stream",
     "text": [
      "2022-12-03 19:20:51> Processing of F:/AP_Paper_Benchmark/PXD015087_Thermo\\Hela_P035217_BA1_S00_A00_R11.raw for step find_features succeeded. 61.50 %\n",
      "2022-12-03 19:21:28> Processing of F:/AP_Paper_Benchmark/PXD015087_Thermo\\Hela_P035217_BA1_S00_A00_R12.raw for step find_features succeeded. 62.00 %\n"
     ]
    },
    {
     "name": "stderr",
     "output_type": "stream",
     "text": [
      "\r",
      " 62%|███████████████████████████████████████████████▋                             | 0.62/1 [1:36:25<39:58, 6312.62s/it]"
     ]
    },
    {
     "name": "stdout",
     "output_type": "stream",
     "text": [
      "2022-12-03 19:21:44> Processing of F:/AP_Paper_Benchmark/PXD015087_Thermo\\Hela_P035217_BA1_S00_A00_R13.raw for step find_features succeeded. 62.50 %\n"
     ]
    },
    {
     "name": "stderr",
     "output_type": "stream",
     "text": [
      "\r",
      " 62%|███████████████████████████████████████████████▌                            | 0.625/1 [1:36:41<35:17, 5646.45s/it]"
     ]
    },
    {
     "name": "stdout",
     "output_type": "stream",
     "text": [
      "2022-12-03 19:25:09> Processing of F:/AP_Paper_Benchmark/PXD015087_Thermo\\Hela_P035217_BA1_S00_A00_R14.raw for step find_features succeeded. 63.00 %\n"
     ]
    },
    {
     "name": "stderr",
     "output_type": "stream",
     "text": [
      "\r",
      " 63%|██████████████████████████████████████████████▌                           | 0.63/1 [1:40:07<1:25:31, 13867.63s/it]"
     ]
    },
    {
     "name": "stdout",
     "output_type": "stream",
     "text": [
      "2022-12-03 19:25:51> Processing of F:/AP_Paper_Benchmark/PXD015087_Thermo\\Hela_P035217_BA1_S00_A00_R15.raw for step find_features succeeded. 63.50 %\n"
     ]
    },
    {
     "name": "stderr",
     "output_type": "stream",
     "text": [
      "\r",
      " 64%|██████████████████████████████████████████████▎                          | 0.635/1 [1:40:49<1:16:01, 12497.85s/it]"
     ]
    },
    {
     "name": "stdout",
     "output_type": "stream",
     "text": [
      "2022-12-03 19:28:53> Processing of F:/AP_Paper_Benchmark/PXD015087_Thermo\\Hela_P035217_BA1_S00_A00_R16.raw for step find_features succeeded. 64.00 %\n"
     ]
    },
    {
     "name": "stderr",
     "output_type": "stream",
     "text": [
      "\r",
      " 64%|███████████████████████████████████████████████▎                          | 0.64/1 [1:43:51<1:52:37, 18771.02s/it]"
     ]
    },
    {
     "name": "stdout",
     "output_type": "stream",
     "text": [
      "2022-12-03 19:29:00> Processing of F:/AP_Paper_Benchmark/PXD015087_Thermo\\Hela_P035217_BA1_S00_A00_R17.raw for step find_features succeeded. 64.50 %\n"
     ]
    },
    {
     "name": "stderr",
     "output_type": "stream",
     "text": [
      "\r",
      " 64%|███████████████████████████████████████████████                          | 0.645/1 [1:43:57<1:22:49, 13999.34s/it]"
     ]
    },
    {
     "name": "stdout",
     "output_type": "stream",
     "text": [
      "2022-12-03 19:29:35> Processing of F:/AP_Paper_Benchmark/PXD015087_Thermo\\Hela_P035217_BA1_S00_A00_R18.raw for step find_features succeeded. 65.00 %\n"
     ]
    },
    {
     "name": "stderr",
     "output_type": "stream",
     "text": [
      "\r",
      " 65%|████████████████████████████████████████████████                          | 0.65/1 [1:44:33<1:10:25, 12073.17s/it]"
     ]
    },
    {
     "name": "stdout",
     "output_type": "stream",
     "text": [
      "2022-12-03 19:31:07> Processing of F:/AP_Paper_Benchmark/PXD015087_Thermo\\Hela_P035217_BA1_S00_A00_R19.raw for step find_features succeeded. 65.50 %\n"
     ]
    },
    {
     "name": "stderr",
     "output_type": "stream",
     "text": [
      "\r",
      " 66%|███████████████████████████████████████████████▊                         | 0.655/1 [1:46:04<1:19:41, 13858.63s/it]"
     ]
    },
    {
     "name": "stdout",
     "output_type": "stream",
     "text": [
      "2022-12-03 19:31:07> Processing of F:/AP_Paper_Benchmark/PXD015087_Thermo\\Hela_P035217_BA1_S00_A00_R2.raw for step find_features succeeded. 66.00 %\n",
      "2022-12-03 19:31:07> Processing of F:/AP_Paper_Benchmark/PXD015087_Thermo\\Hela_P035217_BA1_S00_A00_R20.raw for step find_features succeeded. 66.50 %\n",
      "2022-12-03 19:32:12> Processing of F:/AP_Paper_Benchmark/PXD015087_Thermo\\Hela_P035217_BA1_S00_A00_R21.raw for step find_features succeeded. 67.00 %\n"
     ]
    },
    {
     "name": "stderr",
     "output_type": "stream",
     "text": [
      "\r",
      " 67%|███████████████████████████████████████████████████▌                         | 0.67/1 [1:47:10<47:30, 8638.66s/it]"
     ]
    },
    {
     "name": "stdout",
     "output_type": "stream",
     "text": [
      "2022-12-03 19:32:12> Processing of F:/AP_Paper_Benchmark/PXD015087_Thermo\\Hela_P035217_BA1_S00_A00_R3.raw for step find_features succeeded. 67.50 %\n",
      "2022-12-03 19:32:29> Processing of F:/AP_Paper_Benchmark/PXD015087_Thermo\\Hela_P035217_BA1_S00_A00_R5.raw for step find_features succeeded. 68.00 %\n"
     ]
    },
    {
     "name": "stderr",
     "output_type": "stream",
     "text": [
      "\r",
      " 68%|████████████████████████████████████████████████████▎                        | 0.68/1 [1:47:27<33:19, 6249.81s/it]"
     ]
    },
    {
     "name": "stdout",
     "output_type": "stream",
     "text": [
      "2022-12-03 19:32:58> Processing of F:/AP_Paper_Benchmark/PXD015087_Thermo\\Hela_P035217_BA1_S00_A00_R6.raw for step find_features succeeded. 68.50 %\n"
     ]
    },
    {
     "name": "stderr",
     "output_type": "stream",
     "text": [
      "\r",
      " 68%|████████████████████████████████████████████████████                        | 0.685/1 [1:47:56<32:21, 6163.73s/it]"
     ]
    },
    {
     "name": "stdout",
     "output_type": "stream",
     "text": [
      "2022-12-03 19:34:27> Processing of F:/AP_Paper_Benchmark/PXD015087_Thermo\\Hela_P035217_BA1_S00_A00_R7.raw for step find_features succeeded. 69.00 %\n"
     ]
    },
    {
     "name": "stderr",
     "output_type": "stream",
     "text": [
      "\r",
      " 69%|█████████████████████████████████████████████████████▏                       | 0.69/1 [1:49:25<45:04, 8723.78s/it]"
     ]
    },
    {
     "name": "stdout",
     "output_type": "stream",
     "text": [
      "2022-12-03 19:34:27> Processing of F:/AP_Paper_Benchmark/PXD015087_Thermo\\Hela_P035217_BA1_S00_A00_R8.raw for step find_features succeeded. 69.50 %\n",
      "2022-12-03 19:36:53> Processing of F:/AP_Paper_Benchmark/PXD015087_Thermo\\Hela_P035217_BA1_S00_A00_R9.raw for step find_features succeeded. 70.00 %\n"
     ]
    },
    {
     "name": "stderr",
     "output_type": "stream",
     "text": [
      "\r",
      " 70%|█████████████████████████████████████████████████████▉                       | 0.7/1 [1:51:51<54:53, 10977.84s/it]"
     ]
    },
    {
     "name": "stdout",
     "output_type": "stream",
     "text": [
      "2022-12-03 19:37:57> Processing of F:/AP_Paper_Benchmark/PXD015087_Thermo\\Hela_P035218_BA1_S00_A00_R1.raw for step find_features succeeded. 70.50 %\n"
     ]
    },
    {
     "name": "stderr",
     "output_type": "stream",
     "text": [
      "\r",
      " 70%|████████████████████████████████████████████████████▉                      | 0.705/1 [1:52:54<55:49, 11353.10s/it]"
     ]
    },
    {
     "name": "stdout",
     "output_type": "stream",
     "text": [
      "2022-12-03 19:40:03> Processing of F:/AP_Paper_Benchmark/PXD015087_Thermo\\Hela_P035218_BA1_S00_A00_R10.raw for step find_features succeeded. 71.00 %\n"
     ]
    },
    {
     "name": "stderr",
     "output_type": "stream",
     "text": [
      "\r",
      " 71%|████████████████████████████████████████████████████▌                     | 0.71/1 [1:55:00<1:10:39, 14618.56s/it]"
     ]
    },
    {
     "name": "stdout",
     "output_type": "stream",
     "text": [
      "2022-12-03 19:40:31> Processing of F:/AP_Paper_Benchmark/PXD015087_Thermo\\Hela_P035218_BA1_S00_A00_R11.raw for step find_features succeeded. 71.50 %\n"
     ]
    },
    {
     "name": "stderr",
     "output_type": "stream",
     "text": [
      "\r",
      " 72%|█████████████████████████████████████████████████████▋                     | 0.715/1 [1:55:29<58:47, 12378.34s/it]"
     ]
    },
    {
     "name": "stdout",
     "output_type": "stream",
     "text": [
      "2022-12-03 19:41:50> Processing of F:/AP_Paper_Benchmark/PXD015087_Thermo\\Hela_P035218_BA1_S00_A00_R12.raw for step find_features succeeded. 72.00 %\n"
     ]
    },
    {
     "name": "stderr",
     "output_type": "stream",
     "text": [
      "\r",
      " 72%|█████████████████████████████████████████████████████▎                    | 0.72/1 [1:56:47<1:01:54, 13266.65s/it]"
     ]
    },
    {
     "name": "stdout",
     "output_type": "stream",
     "text": [
      "2022-12-03 19:42:33> Processing of F:/AP_Paper_Benchmark/PXD015087_Thermo\\Hela_P035218_BA1_S00_A00_R13.raw for step find_features succeeded. 72.50 %\n"
     ]
    },
    {
     "name": "stderr",
     "output_type": "stream",
     "text": [
      "\r",
      " 72%|██████████████████████████████████████████████████████▍                    | 0.725/1 [1:57:30<54:56, 11987.06s/it]"
     ]
    },
    {
     "name": "stdout",
     "output_type": "stream",
     "text": [
      "2022-12-03 19:42:44> Processing of F:/AP_Paper_Benchmark/PXD015087_Thermo\\Hela_P035218_BA1_S00_A00_R14.raw for step find_features succeeded. 73.00 %\n"
     ]
    },
    {
     "name": "stderr",
     "output_type": "stream",
     "text": [
      "\r",
      " 73%|████████████████████████████████████████████████████████▏                    | 0.73/1 [1:57:42<41:38, 9253.62s/it]"
     ]
    },
    {
     "name": "stdout",
     "output_type": "stream",
     "text": [
      "2022-12-03 19:42:48> Processing of F:/AP_Paper_Benchmark/PXD015087_Thermo\\Hela_P035218_BA1_S00_A00_R15.raw for step find_features succeeded. 73.50 %\n"
     ]
    },
    {
     "name": "stderr",
     "output_type": "stream",
     "text": [
      "\r",
      " 74%|███████████████████████████████████████████████████████▊                    | 0.735/1 [1:57:45<29:58, 6788.36s/it]"
     ]
    },
    {
     "name": "stdout",
     "output_type": "stream",
     "text": [
      "2022-12-03 19:42:48> Processing of F:/AP_Paper_Benchmark/PXD015087_Thermo\\Hela_P035218_BA1_S00_A00_R16.raw for step find_features succeeded. 74.00 %\n",
      "2022-12-03 19:44:08> Processing of F:/AP_Paper_Benchmark/PXD015087_Thermo\\Hela_P035218_BA1_S00_A00_R17.raw for step find_features succeeded. 74.50 %\n"
     ]
    },
    {
     "name": "stderr",
     "output_type": "stream",
     "text": [
      "\r",
      " 74%|████████████████████████████████████████████████████████▌                   | 0.745/1 [1:59:05<31:10, 7336.40s/it]"
     ]
    },
    {
     "name": "stdout",
     "output_type": "stream",
     "text": [
      "2022-12-03 19:44:10> Processing of F:/AP_Paper_Benchmark/PXD015087_Thermo\\Hela_P035218_BA1_S00_A00_R18.raw for step find_features succeeded. 75.00 %\n"
     ]
    },
    {
     "name": "stderr",
     "output_type": "stream",
     "text": [
      "\r",
      " 75%|█████████████████████████████████████████████████████████▊                   | 0.75/1 [1:59:07<23:32, 5649.35s/it]"
     ]
    },
    {
     "name": "stdout",
     "output_type": "stream",
     "text": [
      "2022-12-03 19:44:45> Processing of F:/AP_Paper_Benchmark/PXD015087_Thermo\\Hela_P035218_BA1_S00_A00_R19.raw for step find_features succeeded. 75.50 %\n"
     ]
    },
    {
     "name": "stderr",
     "output_type": "stream",
     "text": [
      "\r",
      " 76%|█████████████████████████████████████████████████████████▍                  | 0.755/1 [1:59:42<24:25, 5982.13s/it]"
     ]
    },
    {
     "name": "stdout",
     "output_type": "stream",
     "text": [
      "2022-12-03 19:45:07> Processing of F:/AP_Paper_Benchmark/PXD015087_Thermo\\Hela_P035218_BA1_S00_A00_R2.raw for step find_features succeeded. 76.00 %\n"
     ]
    },
    {
     "name": "stderr",
     "output_type": "stream",
     "text": [
      "\r",
      " 76%|██████████████████████████████████████████████████████████▌                  | 0.76/1 [2:00:05<22:22, 5593.73s/it]"
     ]
    },
    {
     "name": "stdout",
     "output_type": "stream",
     "text": [
      "2022-12-03 19:46:54> Processing of F:/AP_Paper_Benchmark/PXD015087_Thermo\\Hela_P035218_BA1_S00_A00_R20.raw for step find_features succeeded. 76.50 %\n"
     ]
    },
    {
     "name": "stderr",
     "output_type": "stream",
     "text": [
      "\r",
      " 76%|██████████████████████████████████████████████████████████▏                 | 0.765/1 [2:01:51<39:00, 9960.77s/it]"
     ]
    },
    {
     "name": "stdout",
     "output_type": "stream",
     "text": [
      "2022-12-03 19:47:37> Processing of F:/AP_Paper_Benchmark/PXD015087_Thermo\\Hela_P035218_BA1_S00_A00_R3.raw for step find_features succeeded. 77.00 %\n"
     ]
    },
    {
     "name": "stderr",
     "output_type": "stream",
     "text": [
      "\r",
      " 77%|███████████████████████████████████████████████████████████▎                 | 0.77/1 [2:02:34<36:45, 9591.01s/it]"
     ]
    },
    {
     "name": "stdout",
     "output_type": "stream",
     "text": [
      "2022-12-03 19:48:43> Processing of F:/AP_Paper_Benchmark/PXD015087_Thermo\\Hela_P035218_BA1_S00_A00_R4.raw for step find_features succeeded. 77.50 %\n"
     ]
    },
    {
     "name": "stderr",
     "output_type": "stream",
     "text": [
      "\r",
      " 78%|██████████████████████████████████████████████████████████▏                | 0.775/1 [2:03:40<39:47, 10612.86s/it]"
     ]
    },
    {
     "name": "stdout",
     "output_type": "stream",
     "text": [
      "2022-12-03 19:50:13> Processing of F:/AP_Paper_Benchmark/PXD015087_Thermo\\Hela_P035218_BA1_S00_A00_R5.raw for step find_features succeeded. 78.00 %\n"
     ]
    },
    {
     "name": "stderr",
     "output_type": "stream",
     "text": [
      "\r",
      " 78%|███████████████████████████████████████████████████████████▎                | 0.78/1 [2:05:10<46:50, 12777.25s/it]"
     ]
    },
    {
     "name": "stdout",
     "output_type": "stream",
     "text": [
      "2022-12-03 19:50:38> Processing of F:/AP_Paper_Benchmark/PXD015087_Thermo\\Hela_P035218_BA1_S00_A00_R6.raw for step find_features succeeded. 78.50 %\n"
     ]
    },
    {
     "name": "stderr",
     "output_type": "stream",
     "text": [
      "\r",
      " 78%|██████████████████████████████████████████████████████████▉                | 0.785/1 [2:05:36<37:42, 10522.34s/it]"
     ]
    },
    {
     "name": "stdout",
     "output_type": "stream",
     "text": [
      "2022-12-03 19:53:29> Processing of F:/AP_Paper_Benchmark/PXD015087_Thermo\\Hela_P035218_BA1_S00_A00_R7.raw for step find_features succeeded. 79.00 %\n"
     ]
    },
    {
     "name": "stderr",
     "output_type": "stream",
     "text": [
      "\r",
      " 79%|██████████████████████████████████████████████████████████▍               | 0.79/1 [2:08:27<1:01:18, 17517.64s/it]"
     ]
    },
    {
     "name": "stdout",
     "output_type": "stream",
     "text": [
      "2022-12-03 19:53:29> Processing of F:/AP_Paper_Benchmark/PXD015087_Thermo\\Hela_P035218_BA1_S00_A00_R8.raw for step find_features succeeded. 79.50 %\n",
      "2022-12-03 19:53:47> Processing of F:/AP_Paper_Benchmark/PXD015087_Thermo\\Hela_P035218_BA1_S00_A00_R9.raw for step find_features succeeded. 80.00 %\n"
     ]
    },
    {
     "name": "stderr",
     "output_type": "stream",
     "text": [
      "\r",
      " 80%|█████████████████████████████████████████████████████████████▌               | 0.8/1 [2:08:44<34:18, 10294.04s/it]"
     ]
    },
    {
     "name": "stdout",
     "output_type": "stream",
     "text": [
      "2022-12-03 19:55:08> Processing of F:/AP_Paper_Benchmark/PXD015087_Thermo\\Hela_P035219_BA1_S00_A00_R1.raw for step find_features succeeded. 80.50 %\n"
     ]
    },
    {
     "name": "stderr",
     "output_type": "stream",
     "text": [
      "\r",
      " 80%|████████████████████████████████████████████████████████████▍              | 0.805/1 [2:10:05<38:13, 11763.03s/it]"
     ]
    },
    {
     "name": "stdout",
     "output_type": "stream",
     "text": [
      "2022-12-03 19:55:08> Processing of F:/AP_Paper_Benchmark/PXD015087_Thermo\\Hela_P035219_BA1_S00_A00_R10.raw for step find_features succeeded. 81.00 %\n",
      "2022-12-03 19:56:53> Processing of F:/AP_Paper_Benchmark/PXD015087_Thermo\\Hela_P035219_BA1_S00_A00_R11.raw for step find_features succeeded. 81.50 %\n"
     ]
    },
    {
     "name": "stderr",
     "output_type": "stream",
     "text": [
      "\r",
      " 82%|█████████████████████████████████████████████████████████████              | 0.815/1 [2:11:50<34:39, 11239.21s/it]"
     ]
    },
    {
     "name": "stdout",
     "output_type": "stream",
     "text": [
      "2022-12-03 19:57:00> Processing of F:/AP_Paper_Benchmark/PXD015087_Thermo\\Hela_P035219_BA1_S00_A00_R12.raw for step find_features succeeded. 82.00 %\n"
     ]
    },
    {
     "name": "stderr",
     "output_type": "stream",
     "text": [
      "\r",
      " 82%|███████████████████████████████████████████████████████████████▏             | 0.82/1 [2:11:58<27:03, 9018.00s/it]"
     ]
    },
    {
     "name": "stdout",
     "output_type": "stream",
     "text": [
      "2022-12-03 19:58:33> Processing of F:/AP_Paper_Benchmark/PXD015087_Thermo\\Hela_P035219_BA1_S00_A00_R13.raw for step find_features succeeded. 82.50 %\n"
     ]
    },
    {
     "name": "stderr",
     "output_type": "stream",
     "text": [
      "\r",
      " 82%|█████████████████████████████████████████████████████████████▉             | 0.825/1 [2:13:31<33:07, 11358.73s/it]"
     ]
    },
    {
     "name": "stdout",
     "output_type": "stream",
     "text": [
      "2022-12-03 19:58:48> Processing of F:/AP_Paper_Benchmark/PXD015087_Thermo\\Hela_P035219_BA1_S00_A00_R14.raw for step find_features succeeded. 83.00 %\n"
     ]
    },
    {
     "name": "stderr",
     "output_type": "stream",
     "text": [
      "\r",
      " 83%|███████████████████████████████████████████████████████████████▉             | 0.83/1 [2:13:45<25:56, 9154.96s/it]"
     ]
    },
    {
     "name": "stdout",
     "output_type": "stream",
     "text": [
      "2022-12-03 19:59:53> Processing of F:/AP_Paper_Benchmark/PXD015087_Thermo\\Hela_P035219_BA1_S00_A00_R15.raw for step find_features succeeded. 83.50 %\n"
     ]
    },
    {
     "name": "stderr",
     "output_type": "stream",
     "text": [
      "\r",
      " 84%|██████████████████████████████████████████████████████████████▋            | 0.835/1 [2:14:50<28:05, 10214.82s/it]"
     ]
    },
    {
     "name": "stdout",
     "output_type": "stream",
     "text": [
      "2022-12-03 20:00:14> Processing of F:/AP_Paper_Benchmark/PXD015087_Thermo\\Hela_P035219_BA1_S00_A00_R16.raw for step find_features succeeded. 84.00 %\n"
     ]
    },
    {
     "name": "stderr",
     "output_type": "stream",
     "text": [
      "\r",
      " 84%|████████████████████████████████████████████████████████████████▋            | 0.84/1 [2:15:12<22:48, 8554.06s/it]"
     ]
    },
    {
     "name": "stdout",
     "output_type": "stream",
     "text": [
      "2022-12-03 20:01:35> Processing of F:/AP_Paper_Benchmark/PXD015087_Thermo\\Hela_P035219_BA1_S00_A00_R17.raw for step find_features succeeded. 84.50 %\n"
     ]
    },
    {
     "name": "stderr",
     "output_type": "stream",
     "text": [
      "\r",
      " 84%|███████████████████████████████████████████████████████████████▍           | 0.845/1 [2:16:32<27:40, 10710.95s/it]"
     ]
    },
    {
     "name": "stdout",
     "output_type": "stream",
     "text": [
      "2022-12-03 20:02:19> Processing of F:/AP_Paper_Benchmark/PXD015087_Thermo\\Hela_P035219_BA1_S00_A00_R18.raw for step find_features succeeded. 85.00 %\n"
     ]
    },
    {
     "name": "stderr",
     "output_type": "stream",
     "text": [
      "\r",
      " 85%|████████████████████████████████████████████████████████████████▌           | 0.85/1 [2:17:16<25:23, 10158.33s/it]"
     ]
    },
    {
     "name": "stdout",
     "output_type": "stream",
     "text": [
      "2022-12-03 20:02:19> Processing of F:/AP_Paper_Benchmark/PXD015087_Thermo\\Hela_P035219_BA1_S00_A00_R19.raw for step find_features succeeded. 85.50 %\n",
      "2022-12-03 20:03:49> Processing of F:/AP_Paper_Benchmark/PXD015087_Thermo\\Hela_P035219_BA1_S00_A00_R2.raw for step find_features succeeded. 86.00 %\n"
     ]
    },
    {
     "name": "stderr",
     "output_type": "stream",
     "text": [
      "\r",
      " 86%|██████████████████████████████████████████████████████████████████▏          | 0.86/1 [2:18:46<22:29, 9640.32s/it]"
     ]
    },
    {
     "name": "stdout",
     "output_type": "stream",
     "text": [
      "2022-12-03 20:05:32> Processing of F:/AP_Paper_Benchmark/PXD015087_Thermo\\Hela_P035219_BA1_S00_A00_R20.raw for step find_features succeeded. 86.50 %\n"
     ]
    },
    {
     "name": "stderr",
     "output_type": "stream",
     "text": [
      "\r",
      " 86%|████████████████████████████████████████████████████████████████▉          | 0.865/1 [2:20:30<27:44, 12332.29s/it]"
     ]
    },
    {
     "name": "stdout",
     "output_type": "stream",
     "text": [
      "2022-12-03 20:05:39> Processing of F:/AP_Paper_Benchmark/PXD015087_Thermo\\Hela_P035219_BA1_S00_A00_R3.raw for step find_features succeeded. 87.00 %\n"
     ]
    },
    {
     "name": "stderr",
     "output_type": "stream",
     "text": [
      "\r",
      " 87%|██████████████████████████████████████████████████████████████████▉          | 0.87/1 [2:20:37<20:36, 9510.21s/it]"
     ]
    },
    {
     "name": "stdout",
     "output_type": "stream",
     "text": [
      "2022-12-03 20:06:13> Processing of F:/AP_Paper_Benchmark/PXD015087_Thermo\\Hela_P035219_BA1_S00_A00_R4.raw for step find_features succeeded. 87.50 %\n"
     ]
    },
    {
     "name": "stderr",
     "output_type": "stream",
     "text": [
      "\r",
      " 88%|██████████████████████████████████████████████████████████████████▌         | 0.875/1 [2:21:11<18:15, 8764.71s/it]"
     ]
    },
    {
     "name": "stdout",
     "output_type": "stream",
     "text": [
      "2022-12-03 20:06:29> Processing of F:/AP_Paper_Benchmark/PXD015087_Thermo\\Hela_P035219_BA1_S00_A00_R5.raw for step find_features succeeded. 88.00 %\n"
     ]
    },
    {
     "name": "stderr",
     "output_type": "stream",
     "text": [
      "\r",
      " 88%|███████████████████████████████████████████████████████████████████▊         | 0.88/1 [2:21:27<14:28, 7236.92s/it]"
     ]
    },
    {
     "name": "stdout",
     "output_type": "stream",
     "text": [
      "2022-12-03 20:09:01> Processing of F:/AP_Paper_Benchmark/PXD015087_Thermo\\Hela_P035219_BA1_S00_A00_R6.raw for step find_features succeeded. 88.50 %\n"
     ]
    },
    {
     "name": "stderr",
     "output_type": "stream",
     "text": [
      "\r",
      " 88%|██████████████████████████████████████████████████████████████████▍        | 0.885/1 [2:23:59<26:29, 13822.44s/it]"
     ]
    },
    {
     "name": "stdout",
     "output_type": "stream",
     "text": [
      "2022-12-03 20:09:45> Processing of F:/AP_Paper_Benchmark/PXD015087_Thermo\\Hela_P035219_BA1_S00_A00_R7.raw for step find_features succeeded. 89.00 %\n"
     ]
    },
    {
     "name": "stderr",
     "output_type": "stream",
     "text": [
      "\r",
      " 89%|███████████████████████████████████████████████████████████████████▋        | 0.89/1 [2:24:42<22:35, 12318.28s/it]"
     ]
    },
    {
     "name": "stdout",
     "output_type": "stream",
     "text": [
      "2022-12-03 20:10:32> Processing of F:/AP_Paper_Benchmark/PXD015087_Thermo\\Hela_P035219_BA1_S00_A00_R8.raw for step find_features succeeded. 89.50 %\n"
     ]
    },
    {
     "name": "stderr",
     "output_type": "stream",
     "text": [
      "\r",
      " 90%|███████████████████████████████████████████████████████████████████▏       | 0.895/1 [2:25:30<20:09, 11515.14s/it]"
     ]
    },
    {
     "name": "stdout",
     "output_type": "stream",
     "text": [
      "2022-12-03 20:11:39> Processing of F:/AP_Paper_Benchmark/PXD015087_Thermo\\Hela_P035219_BA1_S00_A00_R9.raw for step find_features succeeded. 90.00 %\n"
     ]
    },
    {
     "name": "stderr",
     "output_type": "stream",
     "text": [
      "\r",
      " 90%|█████████████████████████████████████████████████████████████████████▎       | 0.9/1 [2:26:36<20:04, 12049.85s/it]"
     ]
    },
    {
     "name": "stdout",
     "output_type": "stream",
     "text": [
      "2022-12-03 20:12:40> Processing of F:/AP_Paper_Benchmark/PXD015087_Thermo\\March_Hela_P035212_BA1_S00_A00_R1.raw for step find_features succeeded. 90.50 %\n"
     ]
    },
    {
     "name": "stderr",
     "output_type": "stream",
     "text": [
      "\r",
      " 90%|███████████████████████████████████████████████████████████████████▉       | 0.905/1 [2:27:37<19:06, 12073.56s/it]"
     ]
    },
    {
     "name": "stdout",
     "output_type": "stream",
     "text": [
      "2022-12-03 20:12:44> Processing of F:/AP_Paper_Benchmark/PXD015087_Thermo\\March_Hela_P035212_BA1_S00_A00_R10.raw for step find_features succeeded. 91.00 %\n"
     ]
    },
    {
     "name": "stderr",
     "output_type": "stream",
     "text": [
      "\r",
      " 91%|██████████████████████████████████████████████████████████████████████       | 0.91/1 [2:27:41<13:04, 8719.88s/it]"
     ]
    },
    {
     "name": "stdout",
     "output_type": "stream",
     "text": [
      "2022-12-03 20:13:43> Processing of F:/AP_Paper_Benchmark/PXD015087_Thermo\\March_Hela_P035212_BA1_S00_A00_R11.raw for step find_features succeeded. 91.50 %\n"
     ]
    },
    {
     "name": "stderr",
     "output_type": "stream",
     "text": [
      "\r",
      " 92%|█████████████████████████████████████████████████████████████████████▌      | 0.915/1 [2:28:40<13:39, 9639.87s/it]"
     ]
    },
    {
     "name": "stdout",
     "output_type": "stream",
     "text": [
      "2022-12-03 20:14:52> Processing of F:/AP_Paper_Benchmark/PXD015087_Thermo\\March_Hela_P035212_BA1_S00_A00_R12.raw for step find_features succeeded. 92.00 %\n"
     ]
    },
    {
     "name": "stderr",
     "output_type": "stream",
     "text": [
      "\r",
      " 92%|█████████████████████████████████████████████████████████████████████▉      | 0.92/1 [2:29:49<14:30, 10886.98s/it]"
     ]
    },
    {
     "name": "stdout",
     "output_type": "stream",
     "text": [
      "2022-12-03 20:15:28> Processing of F:/AP_Paper_Benchmark/PXD015087_Thermo\\March_Hela_P035212_BA1_S00_A00_R13.raw for step find_features succeeded. 92.50 %\n"
     ]
    },
    {
     "name": "stderr",
     "output_type": "stream",
     "text": [
      "\r",
      " 92%|██████████████████████████████████████████████████████████████████████▎     | 0.925/1 [2:30:25<12:13, 9779.63s/it]"
     ]
    },
    {
     "name": "stdout",
     "output_type": "stream",
     "text": [
      "2022-12-03 20:16:09> Processing of F:/AP_Paper_Benchmark/PXD015087_Thermo\\March_Hela_P035212_BA1_S00_A00_R14.raw for step find_features succeeded. 93.00 %\n"
     ]
    },
    {
     "name": "stderr",
     "output_type": "stream",
     "text": [
      "\r",
      " 93%|███████████████████████████████████████████████████████████████████████▌     | 0.93/1 [2:31:06<10:52, 9326.95s/it]"
     ]
    },
    {
     "name": "stdout",
     "output_type": "stream",
     "text": [
      "2022-12-03 20:17:23> Processing of F:/AP_Paper_Benchmark/PXD015087_Thermo\\March_Hela_P035212_BA1_S00_A00_R15.raw for step find_features succeeded. 93.50 %\n"
     ]
    },
    {
     "name": "stderr",
     "output_type": "stream",
     "text": [
      "\r",
      " 94%|██████████████████████████████████████████████████████████████████████▏    | 0.935/1 [2:32:20<11:52, 10964.61s/it]"
     ]
    },
    {
     "name": "stdout",
     "output_type": "stream",
     "text": [
      "2022-12-03 20:17:32> Processing of F:/AP_Paper_Benchmark/PXD015087_Thermo\\March_Hela_P035212_BA1_S00_A00_R16.raw for step find_features succeeded. 94.00 %\n"
     ]
    },
    {
     "name": "stderr",
     "output_type": "stream",
     "text": [
      "\r",
      " 94%|████████████████████████████████████████████████████████████████████████▍    | 0.94/1 [2:32:29<08:12, 8212.63s/it]"
     ]
    },
    {
     "name": "stdout",
     "output_type": "stream",
     "text": [
      "2022-12-03 20:18:48> Processing of F:/AP_Paper_Benchmark/PXD015087_Thermo\\March_Hela_P035212_BA1_S00_A00_R17.raw for step find_features succeeded. 94.50 %\n"
     ]
    },
    {
     "name": "stderr",
     "output_type": "stream",
     "text": [
      "\r",
      " 94%|██████████████████████████████████████████████████████████████████████▉    | 0.945/1 [2:33:45<09:27, 10319.88s/it]"
     ]
    },
    {
     "name": "stdout",
     "output_type": "stream",
     "text": [
      "2022-12-03 20:19:22> Processing of F:/AP_Paper_Benchmark/PXD015087_Thermo\\March_Hela_P035212_BA1_S00_A00_R18.raw for step find_features succeeded. 95.00 %\n"
     ]
    },
    {
     "name": "stderr",
     "output_type": "stream",
     "text": [
      "\r",
      " 95%|█████████████████████████████████████████████████████████████████████████▏   | 0.95/1 [2:34:19<07:42, 9248.43s/it]"
     ]
    },
    {
     "name": "stdout",
     "output_type": "stream",
     "text": [
      "2022-12-03 20:21:10> Processing of F:/AP_Paper_Benchmark/PXD015087_Thermo\\March_Hela_P035212_BA1_S00_A00_R19.raw for step find_features succeeded. 95.50 %\n"
     ]
    },
    {
     "name": "stderr",
     "output_type": "stream",
     "text": [
      "\r",
      " 96%|███████████████████████████████████████████████████████████████████████▋   | 0.955/1 [2:36:07<09:43, 12964.18s/it]"
     ]
    },
    {
     "name": "stdout",
     "output_type": "stream",
     "text": [
      "2022-12-03 20:21:18> Processing of F:/AP_Paper_Benchmark/PXD015087_Thermo\\March_Hela_P035212_BA1_S00_A00_R2.raw for step find_features succeeded. 96.00 %\n"
     ]
    },
    {
     "name": "stderr",
     "output_type": "stream",
     "text": [
      "\r",
      " 96%|█████████████████████████████████████████████████████████████████████████▉   | 0.96/1 [2:36:15<06:22, 9553.57s/it]"
     ]
    },
    {
     "name": "stdout",
     "output_type": "stream",
     "text": [
      "2022-12-03 20:21:44> Processing of F:/AP_Paper_Benchmark/PXD015087_Thermo\\March_Hela_P035212_BA1_S00_A00_R20.raw for step find_features succeeded. 96.50 %\n"
     ]
    },
    {
     "name": "stderr",
     "output_type": "stream",
     "text": [
      "\r",
      " 96%|█████████████████████████████████████████████████████████████████████████▎  | 0.965/1 [2:36:41<04:47, 8226.74s/it]"
     ]
    },
    {
     "name": "stdout",
     "output_type": "stream",
     "text": [
      "2022-12-03 20:21:44> Processing of F:/AP_Paper_Benchmark/PXD015087_Thermo\\March_Hela_P035212_BA1_S00_A00_R3.raw for step find_features succeeded. 97.00 %\n",
      "2022-12-03 20:22:00> Processing of F:/AP_Paper_Benchmark/PXD015087_Thermo\\March_Hela_P035212_BA1_S00_A00_R4.raw for step find_features succeeded. 97.50 %\n"
     ]
    },
    {
     "name": "stderr",
     "output_type": "stream",
     "text": [
      "\r",
      " 98%|██████████████████████████████████████████████████████████████████████████  | 0.975/1 [2:36:57<02:09, 5178.13s/it]"
     ]
    },
    {
     "name": "stdout",
     "output_type": "stream",
     "text": [
      "2022-12-03 20:22:01> Processing of F:/AP_Paper_Benchmark/PXD015087_Thermo\\March_Hela_P035212_BA1_S00_A00_R5.raw for step find_features succeeded. 98.00 %\n"
     ]
    },
    {
     "name": "stderr",
     "output_type": "stream",
     "text": [
      "\r",
      " 98%|███████████████████████████████████████████████████████████████████████████▍ | 0.98/1 [2:36:58<01:18, 3929.66s/it]"
     ]
    },
    {
     "name": "stdout",
     "output_type": "stream",
     "text": [
      "2022-12-03 20:22:13> Processing of F:/AP_Paper_Benchmark/PXD015087_Thermo\\March_Hela_P035212_BA1_S00_A00_R6.raw for step find_features succeeded. 98.50 %\n"
     ]
    },
    {
     "name": "stderr",
     "output_type": "stream",
     "text": [
      "\r",
      " 98%|██████████████████████████████████████████████████████████████████████████▊ | 0.985/1 [2:37:10<00:52, 3527.84s/it]"
     ]
    },
    {
     "name": "stdout",
     "output_type": "stream",
     "text": [
      "2022-12-03 20:22:20> Processing of F:/AP_Paper_Benchmark/PXD015087_Thermo\\March_Hela_P035212_BA1_S00_A00_R7.raw for step find_features succeeded. 99.00 %\n"
     ]
    },
    {
     "name": "stderr",
     "output_type": "stream",
     "text": [
      "\r",
      " 99%|████████████████████████████████████████████████████████████████████████████▏| 0.99/1 [2:37:18<00:29, 2986.57s/it]"
     ]
    },
    {
     "name": "stdout",
     "output_type": "stream",
     "text": [
      "2022-12-03 20:22:23> Processing of F:/AP_Paper_Benchmark/PXD015087_Thermo\\March_Hela_P035212_BA1_S00_A00_R8.raw for step find_features succeeded. 99.50 %\n"
     ]
    },
    {
     "name": "stderr",
     "output_type": "stream",
     "text": [
      "\r",
      "100%|███████████████████████████████████████████████████████████████████████████▌| 0.995/1 [2:37:20<00:11, 2298.47s/it]"
     ]
    },
    {
     "name": "stdout",
     "output_type": "stream",
     "text": [
      "2022-12-03 20:22:43> Processing of F:/AP_Paper_Benchmark/PXD015087_Thermo\\March_Hela_P035212_BA1_S00_A00_R9.raw for step find_features succeeded. 100.00 %\n"
     ]
    },
    {
     "name": "stderr",
     "output_type": "stream",
     "text": [
      "100%|██████████████████████████████████████████████████████████████████████████████| 1.0/1 [2:37:40<00:00, 9460.81s/it]"
     ]
    },
    {
     "name": "stdout",
     "output_type": "stream",
     "text": [
      "2022-12-03 20:22:43> ==== search_data ====\n"
     ]
    },
    {
     "name": "stderr",
     "output_type": "stream",
     "text": [
      "\n",
      "  0%|                                                                                            | 0/1 [00:00<?, ?it/s]"
     ]
    },
    {
     "name": "stdout",
     "output_type": "stream",
     "text": [
      "2022-12-03 20:22:43> Starting first search.\n",
      "2022-12-03 20:22:43> Processing 200 files for step search_db\n",
      "2022-12-03 20:22:43> Searching. Setting Process limit to 14.\n",
      "2022-12-03 20:22:43> AlphaPool was set to 14 processes. Setting max to 14.\n",
      "2022-12-03 20:24:01> Processing of F:/AP_Paper_Benchmark/PXD015087_Thermo\\Hela_P035210_BA1_S00_A00_R1.raw for step search_db succeeded. 0.50 %\n"
     ]
    },
    {
     "name": "stderr",
     "output_type": "stream",
     "text": [
      "\r",
      "  0%|▍                                                                          | 0.005/1 [01:17<4:17:21, 15518.60s/it]"
     ]
    },
    {
     "name": "stdout",
     "output_type": "stream",
     "text": [
      "2022-12-03 20:24:02> Processing of F:/AP_Paper_Benchmark/PXD015087_Thermo\\Hela_P035210_BA1_S00_A00_R10.raw for step search_db succeeded. 1.00 %\n"
     ]
    },
    {
     "name": "stderr",
     "output_type": "stream",
     "text": [
      "\r",
      "  1%|▊                                                                            | 0.01/1 [01:19<1:48:38, 6584.18s/it]"
     ]
    },
    {
     "name": "stdout",
     "output_type": "stream",
     "text": [
      "2022-12-03 20:24:02> Processing of F:/AP_Paper_Benchmark/PXD015087_Thermo\\Hela_P035210_BA1_S00_A00_R11.raw for step search_db succeeded. 1.50 %\n",
      "2022-12-03 20:24:02> Processing of F:/AP_Paper_Benchmark/PXD015087_Thermo\\Hela_P035210_BA1_S00_A00_R12.raw for step search_db succeeded. 2.00 %\n",
      "2022-12-03 20:24:02> Processing of F:/AP_Paper_Benchmark/PXD015087_Thermo\\Hela_P035210_BA1_S00_A00_R13.raw for step search_db succeeded. 2.50 %\n",
      "2022-12-03 20:24:02> Processing of F:/AP_Paper_Benchmark/PXD015087_Thermo\\Hela_P035210_BA1_S00_A00_R14.raw for step search_db succeeded. 3.00 %\n",
      "2022-12-03 20:24:02> Processing of F:/AP_Paper_Benchmark/PXD015087_Thermo\\Hela_P035210_BA1_S00_A00_R15.raw for step search_db succeeded. 3.50 %\n",
      "2022-12-03 20:24:02> Processing of F:/AP_Paper_Benchmark/PXD015087_Thermo\\Hela_P035210_BA1_S00_A00_R16.raw for step search_db succeeded. 4.00 %\n"
     ]
    },
    {
     "name": "stderr",
     "output_type": "stream",
     "text": [
      "\r",
      "  4%|███▏                                                                           | 0.04/1 [01:19<17:30, 1094.28s/it]"
     ]
    },
    {
     "name": "stdout",
     "output_type": "stream",
     "text": [
      "2022-12-03 20:24:02> Processing of F:/AP_Paper_Benchmark/PXD015087_Thermo\\Hela_P035210_BA1_S00_A00_R17.raw for step search_db succeeded. 4.50 %\n",
      "2022-12-03 20:24:03> Processing of F:/AP_Paper_Benchmark/PXD015087_Thermo\\Hela_P035210_BA1_S00_A00_R18.raw for step search_db succeeded. 5.00 %\n",
      "2022-12-03 20:24:03> Processing of F:/AP_Paper_Benchmark/PXD015087_Thermo\\Hela_P035210_BA1_S00_A00_R19.raw for step search_db succeeded. 5.50 %\n"
     ]
    },
    {
     "name": "stderr",
     "output_type": "stream",
     "text": [
      "\r",
      "  6%|████▎                                                                          | 0.055/1 [01:19<10:57, 695.92s/it]"
     ]
    },
    {
     "name": "stdout",
     "output_type": "stream",
     "text": [
      "2022-12-03 20:24:03> Processing of F:/AP_Paper_Benchmark/PXD015087_Thermo\\Hela_P035210_BA1_S00_A00_R2.raw for step search_db succeeded. 6.00 %\n",
      "2022-12-03 20:24:03> Processing of F:/AP_Paper_Benchmark/PXD015087_Thermo\\Hela_P035210_BA1_S00_A00_R20.raw for step search_db succeeded. 6.50 %\n",
      "2022-12-03 20:24:03> Processing of F:/AP_Paper_Benchmark/PXD015087_Thermo\\Hela_P035210_BA1_S00_A00_R3.raw for step search_db succeeded. 7.00 %\n",
      "2022-12-03 20:24:53> Processing of F:/AP_Paper_Benchmark/PXD015087_Thermo\\Hela_P035210_BA1_S00_A00_R4.raw for step search_db succeeded. 7.50 %\n"
     ]
    },
    {
     "name": "stderr",
     "output_type": "stream",
     "text": [
      "\r",
      "  8%|█████▊                                                                        | 0.075/1 [02:09<22:14, 1442.29s/it]"
     ]
    },
    {
     "name": "stdout",
     "output_type": "stream",
     "text": [
      "2022-12-03 20:24:53> Processing of F:/AP_Paper_Benchmark/PXD015087_Thermo\\Hela_P035210_BA1_S00_A00_R5.raw for step search_db succeeded. 8.00 %\n"
     ]
    },
    {
     "name": "stderr",
     "output_type": "stream",
     "text": [
      "\r",
      "  8%|██████▎                                                                        | 0.08/1 [02:09<19:23, 1264.48s/it]"
     ]
    },
    {
     "name": "stdout",
     "output_type": "stream",
     "text": [
      "2022-12-03 20:24:53> Processing of F:/AP_Paper_Benchmark/PXD015087_Thermo\\Hela_P035210_BA1_S00_A00_R6.raw for step search_db succeeded. 8.50 %\n",
      "2022-12-03 20:24:55> Processing of F:/AP_Paper_Benchmark/PXD015087_Thermo\\Hela_P035210_BA1_S00_A00_R7.raw for step search_db succeeded. 9.00 %\n"
     ]
    },
    {
     "name": "stderr",
     "output_type": "stream",
     "text": [
      "\r",
      "  9%|███████▏                                                                        | 0.09/1 [02:12<15:01, 991.18s/it]"
     ]
    },
    {
     "name": "stdout",
     "output_type": "stream",
     "text": [
      "2022-12-03 20:24:55> Processing of F:/AP_Paper_Benchmark/PXD015087_Thermo\\Hela_P035210_BA1_S00_A00_R8.raw for step search_db succeeded. 9.50 %\n",
      "2022-12-03 20:24:55> Processing of F:/AP_Paper_Benchmark/PXD015087_Thermo\\Hela_P035210_BA1_S00_A00_R9.raw for step search_db succeeded. 10.00 %\n",
      "2022-12-03 20:24:56> Processing of F:/AP_Paper_Benchmark/PXD015087_Thermo\\Hela_P035211_BA1_S00_A00_R1.raw for step search_db succeeded. 10.50 %\n"
     ]
    },
    {
     "name": "stderr",
     "output_type": "stream",
     "text": [
      "\r",
      " 10%|████████▎                                                                      | 0.105/1 [02:13<09:36, 643.68s/it]"
     ]
    },
    {
     "name": "stdout",
     "output_type": "stream",
     "text": [
      "2022-12-03 20:24:59> Processing of F:/AP_Paper_Benchmark/PXD015087_Thermo\\Hela_P035211_BA1_S00_A00_R10.raw for step search_db succeeded. 11.00 %\n"
     ]
    },
    {
     "name": "stderr",
     "output_type": "stream",
     "text": [
      "\r",
      " 11%|████████▊                                                                       | 0.11/1 [02:16<09:27, 638.00s/it]"
     ]
    },
    {
     "name": "stdout",
     "output_type": "stream",
     "text": [
      "2022-12-03 20:24:59> Processing of F:/AP_Paper_Benchmark/PXD015087_Thermo\\Hela_P035211_BA1_S00_A00_R11.raw for step search_db succeeded. 11.50 %\n",
      "2022-12-03 20:24:59> Processing of F:/AP_Paper_Benchmark/PXD015087_Thermo\\Hela_P035211_BA1_S00_A00_R12.raw for step search_db succeeded. 12.00 %\n",
      "2022-12-03 20:24:59> Processing of F:/AP_Paper_Benchmark/PXD015087_Thermo\\Hela_P035211_BA1_S00_A00_R13.raw for step search_db succeeded. 12.50 %\n",
      "2022-12-03 20:24:59> Processing of F:/AP_Paper_Benchmark/PXD015087_Thermo\\Hela_P035211_BA1_S00_A00_R14.raw for step search_db succeeded. 13.00 %\n",
      "2022-12-03 20:24:59> Processing of F:/AP_Paper_Benchmark/PXD015087_Thermo\\Hela_P035211_BA1_S00_A00_R15.raw for step search_db succeeded. 13.50 %\n",
      "2022-12-03 20:24:59> Processing of F:/AP_Paper_Benchmark/PXD015087_Thermo\\Hela_P035211_BA1_S00_A00_R16.raw for step search_db succeeded. 14.00 %\n",
      "2022-12-03 20:25:41> Processing of F:/AP_Paper_Benchmark/PXD015087_Thermo\\Hela_P035211_BA1_S00_A00_R17.raw for step search_db succeeded. 14.50 %\n"
     ]
    },
    {
     "name": "stderr",
     "output_type": "stream",
     "text": [
      "\r",
      " 14%|███████████▍                                                                   | 0.145/1 [02:58<13:51, 972.98s/it]"
     ]
    },
    {
     "name": "stdout",
     "output_type": "stream",
     "text": [
      "2022-12-03 20:25:43> Processing of F:/AP_Paper_Benchmark/PXD015087_Thermo\\Hela_P035211_BA1_S00_A00_R18.raw for step search_db succeeded. 15.00 %\n"
     ]
    },
    {
     "name": "stderr",
     "output_type": "stream",
     "text": [
      "\r",
      " 15%|████████████                                                                    | 0.15/1 [02:59<12:51, 907.78s/it]"
     ]
    },
    {
     "name": "stdout",
     "output_type": "stream",
     "text": [
      "2022-12-03 20:25:44> Processing of F:/AP_Paper_Benchmark/PXD015087_Thermo\\Hela_P035211_BA1_S00_A00_R19.raw for step search_db succeeded. 15.50 %\n"
     ]
    },
    {
     "name": "stderr",
     "output_type": "stream",
     "text": [
      "\r",
      " 16%|████████████▏                                                                  | 0.155/1 [03:00<11:20, 805.32s/it]"
     ]
    },
    {
     "name": "stdout",
     "output_type": "stream",
     "text": [
      "2022-12-03 20:25:45> Processing of F:/AP_Paper_Benchmark/PXD015087_Thermo\\Hela_P035211_BA1_S00_A00_R2.raw for step search_db succeeded. 16.00 %\n"
     ]
    },
    {
     "name": "stderr",
     "output_type": "stream",
     "text": [
      "\r",
      " 16%|████████████▊                                                                   | 0.16/1 [03:02<10:16, 734.06s/it]"
     ]
    },
    {
     "name": "stdout",
     "output_type": "stream",
     "text": [
      "2022-12-03 20:25:45> Processing of F:/AP_Paper_Benchmark/PXD015087_Thermo\\Hela_P035211_BA1_S00_A00_R20.raw for step search_db succeeded. 16.50 %\n",
      "2022-12-03 20:25:48> Processing of F:/AP_Paper_Benchmark/PXD015087_Thermo\\Hela_P035211_BA1_S00_A00_R3.raw for step search_db succeeded. 17.00 %\n"
     ]
    },
    {
     "name": "stderr",
     "output_type": "stream",
     "text": [
      "\r",
      " 17%|█████████████▌                                                                  | 0.17/1 [03:05<08:04, 583.66s/it]"
     ]
    },
    {
     "name": "stdout",
     "output_type": "stream",
     "text": [
      "2022-12-03 20:25:49> Processing of F:/AP_Paper_Benchmark/PXD015087_Thermo\\Hela_P035211_BA1_S00_A00_R4.raw for step search_db succeeded. 17.50 %\n"
     ]
    },
    {
     "name": "stderr",
     "output_type": "stream",
     "text": [
      "\r",
      " 18%|█████████████▊                                                                 | 0.175/1 [03:06<07:01, 510.51s/it]"
     ]
    },
    {
     "name": "stdout",
     "output_type": "stream",
     "text": [
      "2022-12-03 20:25:50> Processing of F:/AP_Paper_Benchmark/PXD015087_Thermo\\Hela_P035211_BA1_S00_A00_R5.raw for step search_db succeeded. 18.00 %\n"
     ]
    },
    {
     "name": "stderr",
     "output_type": "stream",
     "text": [
      "\r",
      " 18%|██████████████▍                                                                 | 0.18/1 [03:07<06:05, 446.29s/it]"
     ]
    },
    {
     "name": "stdout",
     "output_type": "stream",
     "text": [
      "2022-12-03 20:25:51> Processing of F:/AP_Paper_Benchmark/PXD015087_Thermo\\Hela_P035211_BA1_S00_A00_R6.raw for step search_db succeeded. 18.50 %\n"
     ]
    },
    {
     "name": "stderr",
     "output_type": "stream",
     "text": [
      "\r",
      " 18%|██████████████▌                                                                | 0.185/1 [03:08<05:32, 408.02s/it]"
     ]
    },
    {
     "name": "stdout",
     "output_type": "stream",
     "text": [
      "2022-12-03 20:25:52> Processing of F:/AP_Paper_Benchmark/PXD015087_Thermo\\Hela_P035211_BA1_S00_A00_R7.raw for step search_db succeeded. 19.00 %\n"
     ]
    },
    {
     "name": "stderr",
     "output_type": "stream",
     "text": [
      "\r",
      " 19%|███████████████▏                                                                | 0.19/1 [03:09<04:55, 364.36s/it]"
     ]
    },
    {
     "name": "stdout",
     "output_type": "stream",
     "text": [
      "2022-12-03 20:25:52> Processing of F:/AP_Paper_Benchmark/PXD015087_Thermo\\Hela_P035211_BA1_S00_A00_R8.raw for step search_db succeeded. 19.50 %\n",
      "2022-12-03 20:25:53> Processing of F:/AP_Paper_Benchmark/PXD015087_Thermo\\Hela_P035211_BA1_S00_A00_R9.raw for step search_db succeeded. 20.00 %\n"
     ]
    },
    {
     "name": "stderr",
     "output_type": "stream",
     "text": [
      "\r",
      " 20%|████████████████▏                                                                | 0.2/1 [03:10<03:23, 253.88s/it]"
     ]
    },
    {
     "name": "stdout",
     "output_type": "stream",
     "text": [
      "2022-12-03 20:25:53> Processing of F:/AP_Paper_Benchmark/PXD015087_Thermo\\Hela_P035213_BA1_S00_A00_R1.raw for step search_db succeeded. 20.50 %\n",
      "2022-12-03 20:25:53> Processing of F:/AP_Paper_Benchmark/PXD015087_Thermo\\Hela_P035213_BA1_S00_A00_R10.raw for step search_db succeeded. 21.00 %\n",
      "2022-12-03 20:26:31> Processing of F:/AP_Paper_Benchmark/PXD015087_Thermo\\Hela_P035213_BA1_S00_A00_R11.raw for step search_db succeeded. 21.50 %\n"
     ]
    },
    {
     "name": "stderr",
     "output_type": "stream",
     "text": [
      "\r",
      " 22%|████████████████▊                                                             | 0.215/1 [03:48<17:10, 1312.83s/it]"
     ]
    },
    {
     "name": "stdout",
     "output_type": "stream",
     "text": [
      "2022-12-03 20:26:32> Processing of F:/AP_Paper_Benchmark/PXD015087_Thermo\\Hela_P035213_BA1_S00_A00_R12.raw for step search_db succeeded. 22.00 %\n"
     ]
    },
    {
     "name": "stderr",
     "output_type": "stream",
     "text": [
      "\r",
      " 22%|█████████████████▍                                                             | 0.22/1 [03:48<14:09, 1088.74s/it]"
     ]
    },
    {
     "name": "stdout",
     "output_type": "stream",
     "text": [
      "2022-12-03 20:26:34> Processing of F:/AP_Paper_Benchmark/PXD015087_Thermo\\Hela_P035213_BA1_S00_A00_R13.raw for step search_db succeeded. 22.50 %\n"
     ]
    },
    {
     "name": "stderr",
     "output_type": "stream",
     "text": [
      "\r",
      " 22%|█████████████████▊                                                             | 0.225/1 [03:50<12:23, 959.46s/it]"
     ]
    },
    {
     "name": "stdout",
     "output_type": "stream",
     "text": [
      "2022-12-03 20:26:34> Processing of F:/AP_Paper_Benchmark/PXD015087_Thermo\\Hela_P035213_BA1_S00_A00_R14.raw for step search_db succeeded. 23.00 %\n",
      "2022-12-03 20:26:34> Processing of F:/AP_Paper_Benchmark/PXD015087_Thermo\\Hela_P035213_BA1_S00_A00_R15.raw for step search_db succeeded. 23.50 %\n"
     ]
    },
    {
     "name": "stderr",
     "output_type": "stream",
     "text": [
      "\r",
      " 24%|██████████████████▌                                                            | 0.235/1 [03:51<07:46, 609.22s/it]"
     ]
    },
    {
     "name": "stdout",
     "output_type": "stream",
     "text": [
      "2022-12-03 20:26:35> Processing of F:/AP_Paper_Benchmark/PXD015087_Thermo\\Hela_P035213_BA1_S00_A00_R16.raw for step search_db succeeded. 24.00 %\n"
     ]
    },
    {
     "name": "stderr",
     "output_type": "stream",
     "text": [
      "\r",
      " 24%|███████████████████▏                                                            | 0.24/1 [03:52<06:52, 543.18s/it]"
     ]
    },
    {
     "name": "stdout",
     "output_type": "stream",
     "text": [
      "2022-12-03 20:26:35> Processing of F:/AP_Paper_Benchmark/PXD015087_Thermo\\Hela_P035213_BA1_S00_A00_R17.raw for step search_db succeeded. 24.50 %\n",
      "2022-12-03 20:26:37> Processing of F:/AP_Paper_Benchmark/PXD015087_Thermo\\Hela_P035213_BA1_S00_A00_R18.raw for step search_db succeeded. 25.00 %\n"
     ]
    },
    {
     "name": "stderr",
     "output_type": "stream",
     "text": [
      "\r",
      " 25%|████████████████████                                                            | 0.25/1 [03:53<04:51, 388.76s/it]"
     ]
    },
    {
     "name": "stdout",
     "output_type": "stream",
     "text": [
      "2022-12-03 20:26:38> Processing of F:/AP_Paper_Benchmark/PXD015087_Thermo\\Hela_P035213_BA1_S00_A00_R19.raw for step search_db succeeded. 25.50 %\n"
     ]
    },
    {
     "name": "stderr",
     "output_type": "stream",
     "text": [
      "\r",
      " 26%|████████████████████▏                                                          | 0.255/1 [03:54<04:15, 342.65s/it]"
     ]
    },
    {
     "name": "stdout",
     "output_type": "stream",
     "text": [
      "2022-12-03 20:26:38> Processing of F:/AP_Paper_Benchmark/PXD015087_Thermo\\Hela_P035213_BA1_S00_A00_R2.raw for step search_db succeeded. 26.00 %\n"
     ]
    },
    {
     "name": "stderr",
     "output_type": "stream",
     "text": [
      "\r",
      " 26%|████████████████████▊                                                           | 0.26/1 [03:54<03:19, 269.00s/it]"
     ]
    },
    {
     "name": "stdout",
     "output_type": "stream",
     "text": [
      "2022-12-03 20:26:38> Processing of F:/AP_Paper_Benchmark/PXD015087_Thermo\\Hela_P035213_BA1_S00_A00_R20.raw for step search_db succeeded. 26.50 %\n",
      "2022-12-03 20:26:39> Processing of F:/AP_Paper_Benchmark/PXD015087_Thermo\\Hela_P035213_BA1_S00_A00_R3.raw for step search_db succeeded. 27.00 %\n"
     ]
    },
    {
     "name": "stderr",
     "output_type": "stream",
     "text": [
      "\r",
      " 27%|█████████████████████▌                                                          | 0.27/1 [03:56<02:35, 212.42s/it]"
     ]
    },
    {
     "name": "stdout",
     "output_type": "stream",
     "text": [
      "2022-12-03 20:26:41> Processing of F:/AP_Paper_Benchmark/PXD015087_Thermo\\Hela_P035213_BA1_S00_A00_R4.raw for step search_db succeeded. 27.50 %\n"
     ]
    },
    {
     "name": "stderr",
     "output_type": "stream",
     "text": [
      "\r",
      " 28%|█████████████████████▋                                                         | 0.275/1 [03:57<02:51, 236.58s/it]"
     ]
    },
    {
     "name": "stdout",
     "output_type": "stream",
     "text": [
      "2022-12-03 20:26:42> Processing of F:/AP_Paper_Benchmark/PXD015087_Thermo\\Hela_P035213_BA1_S00_A00_R5.raw for step search_db succeeded. 28.00 %\n"
     ]
    },
    {
     "name": "stderr",
     "output_type": "stream",
     "text": [
      "\r",
      " 28%|██████████████████████▍                                                         | 0.28/1 [03:58<02:40, 223.37s/it]"
     ]
    },
    {
     "name": "stdout",
     "output_type": "stream",
     "text": [
      "2022-12-03 20:27:21> Processing of F:/AP_Paper_Benchmark/PXD015087_Thermo\\Hela_P035213_BA1_S00_A00_R6.raw for step search_db succeeded. 28.50 %\n"
     ]
    },
    {
     "name": "stderr",
     "output_type": "stream",
     "text": [
      "\r",
      " 28%|██████████████████████▏                                                       | 0.285/1 [04:37<25:52, 2170.97s/it]"
     ]
    },
    {
     "name": "stdout",
     "output_type": "stream",
     "text": [
      "2022-12-03 20:27:22> Processing of F:/AP_Paper_Benchmark/PXD015087_Thermo\\Hela_P035213_BA1_S00_A00_R7.raw for step search_db succeeded. 29.00 %\n"
     ]
    },
    {
     "name": "stderr",
     "output_type": "stream",
     "text": [
      "\r",
      " 29%|██████████████████████▉                                                        | 0.29/1 [04:39<19:36, 1656.70s/it]"
     ]
    },
    {
     "name": "stdout",
     "output_type": "stream",
     "text": [
      "2022-12-03 20:27:22> Processing of F:/AP_Paper_Benchmark/PXD015087_Thermo\\Hela_P035213_BA1_S00_A00_R8.raw for step search_db succeeded. 29.50 %\n"
     ]
    },
    {
     "name": "stderr",
     "output_type": "stream",
     "text": [
      "\r",
      " 30%|███████████████████████                                                       | 0.295/1 [04:39<14:16, 1214.30s/it]"
     ]
    },
    {
     "name": "stdout",
     "output_type": "stream",
     "text": [
      "2022-12-03 20:27:25> Processing of F:/AP_Paper_Benchmark/PXD015087_Thermo\\Hela_P035213_BA1_S00_A00_R9.raw for step search_db succeeded. 30.00 %\n"
     ]
    },
    {
     "name": "stderr",
     "output_type": "stream",
     "text": [
      "\r",
      " 30%|████████████████████████                                                        | 0.3/1 [04:42<12:08, 1041.04s/it]"
     ]
    },
    {
     "name": "stdout",
     "output_type": "stream",
     "text": [
      "2022-12-03 20:27:26> Processing of F:/AP_Paper_Benchmark/PXD015087_Thermo\\Hela_P035214_BA1_S00_A00_R1.raw for step search_db succeeded. 30.50 %\n"
     ]
    },
    {
     "name": "stderr",
     "output_type": "stream",
     "text": [
      "\r",
      " 30%|████████████████████████                                                       | 0.305/1 [04:43<09:14, 798.43s/it]"
     ]
    },
    {
     "name": "stdout",
     "output_type": "stream",
     "text": [
      "2022-12-03 20:27:27> Processing of F:/AP_Paper_Benchmark/PXD015087_Thermo\\Hela_P035214_BA1_S00_A00_R10.raw for step search_db succeeded. 31.00 %\n"
     ]
    },
    {
     "name": "stderr",
     "output_type": "stream",
     "text": [
      "\r",
      " 31%|████████████████████████▊                                                       | 0.31/1 [04:43<06:52, 597.77s/it]"
     ]
    },
    {
     "name": "stdout",
     "output_type": "stream",
     "text": [
      "2022-12-03 20:27:27> Processing of F:/AP_Paper_Benchmark/PXD015087_Thermo\\Hela_P035214_BA1_S00_A00_R11.raw for step search_db succeeded. 31.50 %\n",
      "2022-12-03 20:27:31> Processing of F:/AP_Paper_Benchmark/PXD015087_Thermo\\Hela_P035214_BA1_S00_A00_R12.raw for step search_db succeeded. 32.00 %\n"
     ]
    },
    {
     "name": "stderr",
     "output_type": "stream",
     "text": [
      "\r",
      " 32%|█████████████████████████▌                                                      | 0.32/1 [04:48<06:01, 531.63s/it]"
     ]
    },
    {
     "name": "stdout",
     "output_type": "stream",
     "text": [
      "2022-12-03 20:27:31> Processing of F:/AP_Paper_Benchmark/PXD015087_Thermo\\Hela_P035214_BA1_S00_A00_R13.raw for step search_db succeeded. 32.50 %\n",
      "2022-12-03 20:27:31> Processing of F:/AP_Paper_Benchmark/PXD015087_Thermo\\Hela_P035214_BA1_S00_A00_R14.raw for step search_db succeeded. 33.00 %\n",
      "2022-12-03 20:27:31> Processing of F:/AP_Paper_Benchmark/PXD015087_Thermo\\Hela_P035214_BA1_S00_A00_R15.raw for step search_db succeeded. 33.50 %\n",
      "2022-12-03 20:27:31> Processing of F:/AP_Paper_Benchmark/PXD015087_Thermo\\Hela_P035214_BA1_S00_A00_R16.raw for step search_db succeeded. 34.00 %\n",
      "2022-12-03 20:27:31> Processing of F:/AP_Paper_Benchmark/PXD015087_Thermo\\Hela_P035214_BA1_S00_A00_R17.raw for step search_db succeeded. 34.50 %\n",
      "2022-12-03 20:27:31> Processing of F:/AP_Paper_Benchmark/PXD015087_Thermo\\Hela_P035214_BA1_S00_A00_R18.raw for step search_db succeeded. 35.00 %\n",
      "2022-12-03 20:28:11> Processing of F:/AP_Paper_Benchmark/PXD015087_Thermo\\Hela_P035214_BA1_S00_A00_R19.raw for step search_db succeeded. 35.50 %\n"
     ]
    },
    {
     "name": "stderr",
     "output_type": "stream",
     "text": [
      "\r",
      " 36%|████████████████████████████                                                   | 0.355/1 [05:28<10:12, 950.16s/it]"
     ]
    },
    {
     "name": "stdout",
     "output_type": "stream",
     "text": [
      "2022-12-03 20:28:12> Processing of F:/AP_Paper_Benchmark/PXD015087_Thermo\\Hela_P035214_BA1_S00_A00_R2.raw for step search_db succeeded. 36.00 %\n"
     ]
    },
    {
     "name": "stderr",
     "output_type": "stream",
     "text": [
      "\r",
      " 36%|████████████████████████████▊                                                   | 0.36/1 [05:28<09:01, 846.73s/it]"
     ]
    },
    {
     "name": "stdout",
     "output_type": "stream",
     "text": [
      "2022-12-03 20:28:12> Processing of F:/AP_Paper_Benchmark/PXD015087_Thermo\\Hela_P035214_BA1_S00_A00_R20.raw for step search_db succeeded. 36.50 %\n",
      "2022-12-03 20:28:12> Processing of F:/AP_Paper_Benchmark/PXD015087_Thermo\\Hela_P035214_BA1_S00_A00_R3.raw for step search_db succeeded. 37.00 %\n"
     ]
    },
    {
     "name": "stderr",
     "output_type": "stream",
     "text": [
      "\r",
      " 37%|█████████████████████████████▌                                                  | 0.37/1 [05:29<06:40, 635.36s/it]"
     ]
    },
    {
     "name": "stdout",
     "output_type": "stream",
     "text": [
      "2022-12-03 20:28:18> Processing of F:/AP_Paper_Benchmark/PXD015087_Thermo\\Hela_P035214_BA1_S00_A00_R4.raw for step search_db succeeded. 37.50 %\n"
     ]
    },
    {
     "name": "stderr",
     "output_type": "stream",
     "text": [
      "\r",
      " 38%|█████████████████████████████▋                                                 | 0.375/1 [05:35<07:31, 722.48s/it]"
     ]
    },
    {
     "name": "stdout",
     "output_type": "stream",
     "text": [
      "2022-12-03 20:28:18> Processing of F:/AP_Paper_Benchmark/PXD015087_Thermo\\Hela_P035214_BA1_S00_A00_R5.raw for step search_db succeeded. 38.00 %\n",
      "2022-12-03 20:28:18> Processing of F:/AP_Paper_Benchmark/PXD015087_Thermo\\Hela_P035214_BA1_S00_A00_R6.raw for step search_db succeeded. 38.50 %\n",
      "2022-12-03 20:28:19> Processing of F:/AP_Paper_Benchmark/PXD015087_Thermo\\Hela_P035214_BA1_S00_A00_R7.raw for step search_db succeeded. 39.00 %\n"
     ]
    },
    {
     "name": "stderr",
     "output_type": "stream",
     "text": [
      "\r",
      " 39%|███████████████████████████████▏                                                | 0.39/1 [05:35<04:31, 445.88s/it]"
     ]
    },
    {
     "name": "stdout",
     "output_type": "stream",
     "text": [
      "2022-12-03 20:28:19> Processing of F:/AP_Paper_Benchmark/PXD015087_Thermo\\Hela_P035214_BA1_S00_A00_R8.raw for step search_db succeeded. 39.50 %\n",
      "2022-12-03 20:28:22> Processing of F:/AP_Paper_Benchmark/PXD015087_Thermo\\Hela_P035214_BA1_S00_A00_R9.raw for step search_db succeeded. 40.00 %\n"
     ]
    },
    {
     "name": "stderr",
     "output_type": "stream",
     "text": [
      "\r",
      " 40%|████████████████████████████████▍                                                | 0.4/1 [05:39<04:11, 418.85s/it]"
     ]
    },
    {
     "name": "stdout",
     "output_type": "stream",
     "text": [
      "2022-12-03 20:28:22> Processing of F:/AP_Paper_Benchmark/PXD015087_Thermo\\Hela_P035215_BA1_S00_A00_R1.raw for step search_db succeeded. 40.50 %\n",
      "2022-12-03 20:28:22> Processing of F:/AP_Paper_Benchmark/PXD015087_Thermo\\Hela_P035215_BA1_S00_A00_R10.raw for step search_db succeeded. 41.00 %\n",
      "2022-12-03 20:28:22> Processing of F:/AP_Paper_Benchmark/PXD015087_Thermo\\Hela_P035215_BA1_S00_A00_R11.raw for step search_db succeeded. 41.50 %\n",
      "2022-12-03 20:28:22> Processing of F:/AP_Paper_Benchmark/PXD015087_Thermo\\Hela_P035215_BA1_S00_A00_R12.raw for step search_db succeeded. 42.00 %\n",
      "2022-12-03 20:28:58> Processing of F:/AP_Paper_Benchmark/PXD015087_Thermo\\Hela_P035215_BA1_S00_A00_R13.raw for step search_db succeeded. 42.50 %\n"
     ]
    },
    {
     "name": "stderr",
     "output_type": "stream",
     "text": [
      "\r",
      " 42%|█████████████████████████████████▌                                             | 0.425/1 [06:14<08:47, 916.81s/it]"
     ]
    },
    {
     "name": "stdout",
     "output_type": "stream",
     "text": [
      "2022-12-03 20:28:58> Processing of F:/AP_Paper_Benchmark/PXD015087_Thermo\\Hela_P035215_BA1_S00_A00_R14.raw for step search_db succeeded. 43.00 %\n"
     ]
    },
    {
     "name": "stderr",
     "output_type": "stream",
     "text": [
      "\r",
      " 43%|██████████████████████████████████▍                                             | 0.43/1 [06:15<07:43, 813.93s/it]"
     ]
    },
    {
     "name": "stdout",
     "output_type": "stream",
     "text": [
      "2022-12-03 20:28:58> Processing of F:/AP_Paper_Benchmark/PXD015087_Thermo\\Hela_P035215_BA1_S00_A00_R15.raw for step search_db succeeded. 43.50 %\n",
      "2022-12-03 20:28:58> Processing of F:/AP_Paper_Benchmark/PXD015087_Thermo\\Hela_P035215_BA1_S00_A00_R16.raw for step search_db succeeded. 44.00 %\n",
      "2022-12-03 20:28:58> Processing of F:/AP_Paper_Benchmark/PXD015087_Thermo\\Hela_P035215_BA1_S00_A00_R17.raw for step search_db succeeded. 44.50 %\n",
      "2022-12-03 20:29:00> Processing of F:/AP_Paper_Benchmark/PXD015087_Thermo\\Hela_P035215_BA1_S00_A00_R18.raw for step search_db succeeded. 45.00 %\n"
     ]
    },
    {
     "name": "stderr",
     "output_type": "stream",
     "text": [
      "\r",
      " 45%|████████████████████████████████████                                            | 0.45/1 [06:17<04:47, 523.32s/it]"
     ]
    },
    {
     "name": "stdout",
     "output_type": "stream",
     "text": [
      "2022-12-03 20:29:02> Processing of F:/AP_Paper_Benchmark/PXD015087_Thermo\\Hela_P035215_BA1_S00_A00_R19.raw for step search_db succeeded. 45.50 %\n"
     ]
    },
    {
     "name": "stderr",
     "output_type": "stream",
     "text": [
      "\r",
      " 46%|███████████████████████████████████▉                                           | 0.455/1 [06:18<04:29, 494.24s/it]"
     ]
    },
    {
     "name": "stdout",
     "output_type": "stream",
     "text": [
      "2022-12-03 20:29:02> Processing of F:/AP_Paper_Benchmark/PXD015087_Thermo\\Hela_P035215_BA1_S00_A00_R2.raw for step search_db succeeded. 46.00 %\n"
     ]
    },
    {
     "name": "stderr",
     "output_type": "stream",
     "text": [
      "\r",
      " 46%|████████████████████████████████████▊                                           | 0.46/1 [06:19<03:53, 432.71s/it]"
     ]
    },
    {
     "name": "stdout",
     "output_type": "stream",
     "text": [
      "2022-12-03 20:29:03> Processing of F:/AP_Paper_Benchmark/PXD015087_Thermo\\Hela_P035215_BA1_S00_A00_R20.raw for step search_db succeeded. 46.50 %\n"
     ]
    },
    {
     "name": "stderr",
     "output_type": "stream",
     "text": [
      "\r",
      " 46%|████████████████████████████████████▋                                          | 0.465/1 [06:19<03:15, 364.58s/it]"
     ]
    },
    {
     "name": "stdout",
     "output_type": "stream",
     "text": [
      "2022-12-03 20:29:03> Processing of F:/AP_Paper_Benchmark/PXD015087_Thermo\\Hela_P035215_BA1_S00_A00_R3.raw for step search_db succeeded. 47.00 %\n",
      "2022-12-03 20:29:04> Processing of F:/AP_Paper_Benchmark/PXD015087_Thermo\\Hela_P035215_BA1_S00_A00_R4.raw for step search_db succeeded. 47.50 %\n"
     ]
    },
    {
     "name": "stderr",
     "output_type": "stream",
     "text": [
      "\r",
      " 48%|█████████████████████████████████████▌                                         | 0.475/1 [06:21<02:38, 301.97s/it]"
     ]
    },
    {
     "name": "stdout",
     "output_type": "stream",
     "text": [
      "2022-12-03 20:29:04> Processing of F:/AP_Paper_Benchmark/PXD015087_Thermo\\Hela_P035215_BA1_S00_A00_R5.raw for step search_db succeeded. 48.00 %\n",
      "2022-12-03 20:29:04> Processing of F:/AP_Paper_Benchmark/PXD015087_Thermo\\Hela_P035215_BA1_S00_A00_R6.raw for step search_db succeeded. 48.50 %\n",
      "2022-12-03 20:29:05> Processing of F:/AP_Paper_Benchmark/PXD015087_Thermo\\Hela_P035215_BA1_S00_A00_R7.raw for step search_db succeeded. 49.00 %\n"
     ]
    },
    {
     "name": "stderr",
     "output_type": "stream",
     "text": [
      "\r",
      " 49%|███████████████████████████████████████▏                                        | 0.49/1 [06:22<01:40, 197.92s/it]"
     ]
    },
    {
     "name": "stdout",
     "output_type": "stream",
     "text": [
      "2022-12-03 20:29:43> Processing of F:/AP_Paper_Benchmark/PXD015087_Thermo\\Hela_P035215_BA1_S00_A00_R8.raw for step search_db succeeded. 49.50 %\n"
     ]
    },
    {
     "name": "stderr",
     "output_type": "stream",
     "text": [
      "\r",
      " 50%|██████████████████████████████████████▌                                       | 0.495/1 [07:00<12:11, 1448.17s/it]"
     ]
    },
    {
     "name": "stdout",
     "output_type": "stream",
     "text": [
      "2022-12-03 20:29:43> Processing of F:/AP_Paper_Benchmark/PXD015087_Thermo\\Hela_P035215_BA1_S00_A00_R9.raw for step search_db succeeded. 50.00 %\n",
      "2022-12-03 20:29:47> Processing of F:/AP_Paper_Benchmark/PXD015087_Thermo\\Hela_P035216_BA1_S00_A00_R1.raw for step search_db succeeded. 50.50 %\n"
     ]
    },
    {
     "name": "stderr",
     "output_type": "stream",
     "text": [
      "\r",
      " 50%|███████████████████████████████████████▍                                      | 0.505/1 [07:03<08:58, 1088.03s/it]"
     ]
    },
    {
     "name": "stdout",
     "output_type": "stream",
     "text": [
      "2022-12-03 20:29:47> Processing of F:/AP_Paper_Benchmark/PXD015087_Thermo\\Hela_P035216_BA1_S00_A00_R10.raw for step search_db succeeded. 51.00 %\n",
      "2022-12-03 20:29:48> Processing of F:/AP_Paper_Benchmark/PXD015087_Thermo\\Hela_P035216_BA1_S00_A00_R11.raw for step search_db succeeded. 51.50 %\n"
     ]
    },
    {
     "name": "stderr",
     "output_type": "stream",
     "text": [
      "\r",
      " 52%|████████████████████████████████████████▋                                      | 0.515/1 [07:05<06:23, 790.18s/it]"
     ]
    },
    {
     "name": "stdout",
     "output_type": "stream",
     "text": [
      "2022-12-03 20:29:49> Processing of F:/AP_Paper_Benchmark/PXD015087_Thermo\\Hela_P035216_BA1_S00_A00_R12.raw for step search_db succeeded. 52.00 %\n"
     ]
    },
    {
     "name": "stderr",
     "output_type": "stream",
     "text": [
      "\r",
      " 52%|█████████████████████████████████████████▌                                      | 0.52/1 [07:06<05:27, 681.35s/it]"
     ]
    },
    {
     "name": "stdout",
     "output_type": "stream",
     "text": [
      "2022-12-03 20:29:49> Processing of F:/AP_Paper_Benchmark/PXD015087_Thermo\\Hela_P035216_BA1_S00_A00_R13.raw for step search_db succeeded. 52.50 %\n",
      "2022-12-03 20:29:49> Processing of F:/AP_Paper_Benchmark/PXD015087_Thermo\\Hela_P035216_BA1_S00_A00_R14.raw for step search_db succeeded. 53.00 %\n"
     ]
    },
    {
     "name": "stderr",
     "output_type": "stream",
     "text": [
      "\r",
      " 53%|██████████████████████████████████████████▍                                     | 0.53/1 [07:06<03:32, 451.12s/it]"
     ]
    },
    {
     "name": "stdout",
     "output_type": "stream",
     "text": [
      "2022-12-03 20:29:50> Processing of F:/AP_Paper_Benchmark/PXD015087_Thermo\\Hela_P035216_BA1_S00_A00_R15.raw for step search_db succeeded. 53.50 %\n"
     ]
    },
    {
     "name": "stderr",
     "output_type": "stream",
     "text": [
      "\r",
      " 54%|██████████████████████████████████████████▎                                    | 0.535/1 [07:07<03:03, 394.36s/it]"
     ]
    },
    {
     "name": "stdout",
     "output_type": "stream",
     "text": [
      "2022-12-03 20:29:50> Processing of F:/AP_Paper_Benchmark/PXD015087_Thermo\\Hela_P035216_BA1_S00_A00_R16.raw for step search_db succeeded. 54.00 %\n",
      "2022-12-03 20:29:51> Processing of F:/AP_Paper_Benchmark/PXD015087_Thermo\\Hela_P035216_BA1_S00_A00_R17.raw for step search_db succeeded. 54.50 %\n"
     ]
    },
    {
     "name": "stderr",
     "output_type": "stream",
     "text": [
      "\r",
      " 55%|███████████████████████████████████████████                                    | 0.545/1 [07:08<02:09, 284.50s/it]"
     ]
    },
    {
     "name": "stdout",
     "output_type": "stream",
     "text": [
      "2022-12-03 20:29:52> Processing of F:/AP_Paper_Benchmark/PXD015087_Thermo\\Hela_P035216_BA1_S00_A00_R18.raw for step search_db succeeded. 55.00 %\n"
     ]
    },
    {
     "name": "stderr",
     "output_type": "stream",
     "text": [
      "\r",
      " 55%|████████████████████████████████████████████                                    | 0.55/1 [07:09<01:57, 261.43s/it]"
     ]
    },
    {
     "name": "stdout",
     "output_type": "stream",
     "text": [
      "2022-12-03 20:29:52> Processing of F:/AP_Paper_Benchmark/PXD015087_Thermo\\Hela_P035216_BA1_S00_A00_R19.raw for step search_db succeeded. 55.50 %\n",
      "2022-12-03 20:29:53> Processing of F:/AP_Paper_Benchmark/PXD015087_Thermo\\Hela_P035216_BA1_S00_A00_R2.raw for step search_db succeeded. 56.00 %\n"
     ]
    },
    {
     "name": "stderr",
     "output_type": "stream",
     "text": [
      "\r",
      " 56%|████████████████████████████████████████████▊                                   | 0.56/1 [07:09<01:23, 190.69s/it]"
     ]
    },
    {
     "name": "stdout",
     "output_type": "stream",
     "text": [
      "2022-12-03 20:30:31> Processing of F:/AP_Paper_Benchmark/PXD015087_Thermo\\Hela_P035216_BA1_S00_A00_R20.raw for step search_db succeeded. 56.50 %\n"
     ]
    },
    {
     "name": "stderr",
     "output_type": "stream",
     "text": [
      "\r",
      " 56%|████████████████████████████████████████████                                  | 0.565/1 [07:48<12:40, 1747.81s/it]"
     ]
    },
    {
     "name": "stdout",
     "output_type": "stream",
     "text": [
      "2022-12-03 20:30:32> Processing of F:/AP_Paper_Benchmark/PXD015087_Thermo\\Hela_P035216_BA1_S00_A00_R3.raw for step search_db succeeded. 57.00 %\n"
     ]
    },
    {
     "name": "stderr",
     "output_type": "stream",
     "text": [
      "\r",
      " 57%|█████████████████████████████████████████████                                  | 0.57/1 [07:49<10:00, 1396.27s/it]"
     ]
    },
    {
     "name": "stdout",
     "output_type": "stream",
     "text": [
      "2022-12-03 20:30:35> Processing of F:/AP_Paper_Benchmark/PXD015087_Thermo\\Hela_P035216_BA1_S00_A00_R4.raw for step search_db succeeded. 57.50 %\n"
     ]
    },
    {
     "name": "stderr",
     "output_type": "stream",
     "text": [
      "\r",
      " 57%|████████████████████████████████████████████▊                                 | 0.575/1 [07:52<08:27, 1194.42s/it]"
     ]
    },
    {
     "name": "stdout",
     "output_type": "stream",
     "text": [
      "2022-12-03 20:30:35> Processing of F:/AP_Paper_Benchmark/PXD015087_Thermo\\Hela_P035216_BA1_S00_A00_R5.raw for step search_db succeeded. 58.00 %\n",
      "2022-12-03 20:30:35> Processing of F:/AP_Paper_Benchmark/PXD015087_Thermo\\Hela_P035216_BA1_S00_A00_R6.raw for step search_db succeeded. 58.50 %\n"
     ]
    },
    {
     "name": "stderr",
     "output_type": "stream",
     "text": [
      "\r",
      " 58%|██████████████████████████████████████████████▏                                | 0.585/1 [07:52<04:57, 716.24s/it]"
     ]
    },
    {
     "name": "stdout",
     "output_type": "stream",
     "text": [
      "2022-12-03 20:30:41> Processing of F:/AP_Paper_Benchmark/PXD015087_Thermo\\Hela_P035216_BA1_S00_A00_R7.raw for step search_db succeeded. 59.00 %\n"
     ]
    },
    {
     "name": "stderr",
     "output_type": "stream",
     "text": [
      "\r",
      " 59%|███████████████████████████████████████████████▏                                | 0.59/1 [07:57<05:24, 792.39s/it]"
     ]
    },
    {
     "name": "stdout",
     "output_type": "stream",
     "text": [
      "2022-12-03 20:30:41> Processing of F:/AP_Paper_Benchmark/PXD015087_Thermo\\Hela_P035216_BA1_S00_A00_R8.raw for step search_db succeeded. 59.50 %\n",
      "2022-12-03 20:30:41> Processing of F:/AP_Paper_Benchmark/PXD015087_Thermo\\Hela_P035216_BA1_S00_A00_R9.raw for step search_db succeeded. 60.00 %\n",
      "2022-12-03 20:30:41> Processing of F:/AP_Paper_Benchmark/PXD015087_Thermo\\Hela_P035217_BA1_S00_A00_R1.raw for step search_db succeeded. 60.50 %\n",
      "2022-12-03 20:30:41> Processing of F:/AP_Paper_Benchmark/PXD015087_Thermo\\Hela_P035217_BA1_S00_A00_R10.raw for step search_db succeeded. 61.00 %\n",
      "2022-12-03 20:30:41> Processing of F:/AP_Paper_Benchmark/PXD015087_Thermo\\Hela_P035217_BA1_S00_A00_R11.raw for step search_db succeeded. 61.50 %\n",
      "2022-12-03 20:30:41> Processing of F:/AP_Paper_Benchmark/PXD015087_Thermo\\Hela_P035217_BA1_S00_A00_R12.raw for step search_db succeeded. 62.00 %\n",
      "2022-12-03 20:30:41> Processing of F:/AP_Paper_Benchmark/PXD015087_Thermo\\Hela_P035217_BA1_S00_A00_R13.raw for step search_db succeeded. 62.50 %\n",
      "2022-12-03 20:30:41> Processing of F:/AP_Paper_Benchmark/PXD015087_Thermo\\Hela_P035217_BA1_S00_A00_R14.raw for step search_db succeeded. 63.00 %\n",
      "2022-12-03 20:31:17> Processing of F:/AP_Paper_Benchmark/PXD015087_Thermo\\Hela_P035217_BA1_S00_A00_R15.raw for step search_db succeeded. 63.50 %\n"
     ]
    },
    {
     "name": "stderr",
     "output_type": "stream",
     "text": [
      "\r",
      " 64%|██████████████████████████████████████████████████▏                            | 0.635/1 [08:34<04:53, 804.11s/it]"
     ]
    },
    {
     "name": "stdout",
     "output_type": "stream",
     "text": [
      "2022-12-03 20:31:17> Processing of F:/AP_Paper_Benchmark/PXD015087_Thermo\\Hela_P035217_BA1_S00_A00_R16.raw for step search_db succeeded. 64.00 %\n"
     ]
    },
    {
     "name": "stderr",
     "output_type": "stream",
     "text": [
      "\r",
      " 64%|███████████████████████████████████████████████████▏                            | 0.64/1 [08:34<04:21, 726.04s/it]"
     ]
    },
    {
     "name": "stdout",
     "output_type": "stream",
     "text": [
      "2022-12-03 20:31:18> Processing of F:/AP_Paper_Benchmark/PXD015087_Thermo\\Hela_P035217_BA1_S00_A00_R17.raw for step search_db succeeded. 64.50 %\n"
     ]
    },
    {
     "name": "stderr",
     "output_type": "stream",
     "text": [
      "\r",
      " 64%|██████████████████████████████████████████████████▉                            | 0.645/1 [08:34<03:48, 642.70s/it]"
     ]
    },
    {
     "name": "stdout",
     "output_type": "stream",
     "text": [
      "2022-12-03 20:31:18> Processing of F:/AP_Paper_Benchmark/PXD015087_Thermo\\Hela_P035217_BA1_S00_A00_R18.raw for step search_db succeeded. 65.00 %\n"
     ]
    },
    {
     "name": "stderr",
     "output_type": "stream",
     "text": [
      "\r",
      " 65%|████████████████████████████████████████████████████                            | 0.65/1 [08:35<03:12, 550.71s/it]"
     ]
    },
    {
     "name": "stdout",
     "output_type": "stream",
     "text": [
      "2022-12-03 20:31:18> Processing of F:/AP_Paper_Benchmark/PXD015087_Thermo\\Hela_P035217_BA1_S00_A00_R19.raw for step search_db succeeded. 65.50 %\n"
     ]
    },
    {
     "name": "stderr",
     "output_type": "stream",
     "text": [
      "\r",
      " 66%|███████████████████████████████████████████████████▋                           | 0.655/1 [08:35<02:40, 465.29s/it]"
     ]
    },
    {
     "name": "stdout",
     "output_type": "stream",
     "text": [
      "2022-12-03 20:31:21> Processing of F:/AP_Paper_Benchmark/PXD015087_Thermo\\Hela_P035217_BA1_S00_A00_R2.raw for step search_db succeeded. 66.00 %\n"
     ]
    },
    {
     "name": "stderr",
     "output_type": "stream",
     "text": [
      "\r",
      " 66%|████████████████████████████████████████████████████▊                           | 0.66/1 [08:37<02:34, 455.28s/it]"
     ]
    },
    {
     "name": "stdout",
     "output_type": "stream",
     "text": [
      "2022-12-03 20:31:22> Processing of F:/AP_Paper_Benchmark/PXD015087_Thermo\\Hela_P035217_BA1_S00_A00_R20.raw for step search_db succeeded. 66.50 %\n"
     ]
    },
    {
     "name": "stderr",
     "output_type": "stream",
     "text": [
      "\r",
      " 66%|████████████████████████████████████████████████████▌                          | 0.665/1 [08:38<02:15, 404.71s/it]"
     ]
    },
    {
     "name": "stdout",
     "output_type": "stream",
     "text": [
      "2022-12-03 20:31:22> Processing of F:/AP_Paper_Benchmark/PXD015087_Thermo\\Hela_P035217_BA1_S00_A00_R21.raw for step search_db succeeded. 67.00 %\n",
      "2022-12-03 20:31:24> Processing of F:/AP_Paper_Benchmark/PXD015087_Thermo\\Hela_P035217_BA1_S00_A00_R3.raw for step search_db succeeded. 67.50 %\n"
     ]
    },
    {
     "name": "stderr",
     "output_type": "stream",
     "text": [
      "\r",
      " 68%|█████████████████████████████████████████████████████▎                         | 0.675/1 [08:40<01:44, 320.35s/it]"
     ]
    },
    {
     "name": "stdout",
     "output_type": "stream",
     "text": [
      "2022-12-03 20:31:24> Processing of F:/AP_Paper_Benchmark/PXD015087_Thermo\\Hela_P035217_BA1_S00_A00_R5.raw for step search_db succeeded. 68.00 %\n",
      "2022-12-03 20:31:25> Processing of F:/AP_Paper_Benchmark/PXD015087_Thermo\\Hela_P035217_BA1_S00_A00_R6.raw for step search_db succeeded. 68.50 %\n"
     ]
    },
    {
     "name": "stderr",
     "output_type": "stream",
     "text": [
      "\r",
      " 68%|██████████████████████████████████████████████████████                         | 0.685/1 [08:41<01:15, 239.77s/it]"
     ]
    },
    {
     "name": "stdout",
     "output_type": "stream",
     "text": [
      "2022-12-03 20:31:25> Processing of F:/AP_Paper_Benchmark/PXD015087_Thermo\\Hela_P035217_BA1_S00_A00_R7.raw for step search_db succeeded. 69.00 %\n",
      "2022-12-03 20:31:25> Processing of F:/AP_Paper_Benchmark/PXD015087_Thermo\\Hela_P035217_BA1_S00_A00_R8.raw for step search_db succeeded. 69.50 %\n",
      "2022-12-03 20:31:25> Processing of F:/AP_Paper_Benchmark/PXD015087_Thermo\\Hela_P035217_BA1_S00_A00_R9.raw for step search_db succeeded. 70.00 %\n",
      "2022-12-03 20:32:03> Processing of F:/AP_Paper_Benchmark/PXD015087_Thermo\\Hela_P035218_BA1_S00_A00_R1.raw for step search_db succeeded. 70.50 %\n"
     ]
    },
    {
     "name": "stderr",
     "output_type": "stream",
     "text": [
      "\r",
      " 70%|██████████████████████████████████████████████████████▉                       | 0.705/1 [09:19<05:21, 1088.91s/it]"
     ]
    },
    {
     "name": "stdout",
     "output_type": "stream",
     "text": [
      "2022-12-03 20:32:05> Processing of F:/AP_Paper_Benchmark/PXD015087_Thermo\\Hela_P035218_BA1_S00_A00_R10.raw for step search_db succeeded. 71.00 %\n"
     ]
    },
    {
     "name": "stderr",
     "output_type": "stream",
     "text": [
      "\r",
      " 71%|████████████████████████████████████████████████████████▊                       | 0.71/1 [09:21<04:42, 975.07s/it]"
     ]
    },
    {
     "name": "stdout",
     "output_type": "stream",
     "text": [
      "2022-12-03 20:32:05> Processing of F:/AP_Paper_Benchmark/PXD015087_Thermo\\Hela_P035218_BA1_S00_A00_R11.raw for step search_db succeeded. 71.50 %\n",
      "2022-12-03 20:32:06> Processing of F:/AP_Paper_Benchmark/PXD015087_Thermo\\Hela_P035218_BA1_S00_A00_R12.raw for step search_db succeeded. 72.00 %\n"
     ]
    },
    {
     "name": "stderr",
     "output_type": "stream",
     "text": [
      "\r",
      " 72%|█████████████████████████████████████████████████████████▌                      | 0.72/1 [09:23<03:23, 725.79s/it]"
     ]
    },
    {
     "name": "stdout",
     "output_type": "stream",
     "text": [
      "2022-12-03 20:32:06> Processing of F:/AP_Paper_Benchmark/PXD015087_Thermo\\Hela_P035218_BA1_S00_A00_R13.raw for step search_db succeeded. 72.50 %\n"
     ]
    },
    {
     "name": "stderr",
     "output_type": "stream",
     "text": [
      "\r",
      " 72%|█████████████████████████████████████████████████████████▎                     | 0.725/1 [09:23<02:45, 603.59s/it]"
     ]
    },
    {
     "name": "stdout",
     "output_type": "stream",
     "text": [
      "2022-12-03 20:32:07> Processing of F:/AP_Paper_Benchmark/PXD015087_Thermo\\Hela_P035218_BA1_S00_A00_R14.raw for step search_db succeeded. 73.00 %\n"
     ]
    },
    {
     "name": "stderr",
     "output_type": "stream",
     "text": [
      "\r",
      " 73%|██████████████████████████████████████████████████████████▍                     | 0.73/1 [09:24<02:15, 503.34s/it]"
     ]
    },
    {
     "name": "stdout",
     "output_type": "stream",
     "text": [
      "2022-12-03 20:32:08> Processing of F:/AP_Paper_Benchmark/PXD015087_Thermo\\Hela_P035218_BA1_S00_A00_R15.raw for step search_db succeeded. 73.50 %\n"
     ]
    },
    {
     "name": "stderr",
     "output_type": "stream",
     "text": [
      "\r",
      " 74%|██████████████████████████████████████████████████████████                     | 0.735/1 [09:24<01:50, 418.13s/it]"
     ]
    },
    {
     "name": "stdout",
     "output_type": "stream",
     "text": [
      "2022-12-03 20:32:08> Processing of F:/AP_Paper_Benchmark/PXD015087_Thermo\\Hela_P035218_BA1_S00_A00_R16.raw for step search_db succeeded. 74.00 %\n",
      "2022-12-03 20:32:08> Processing of F:/AP_Paper_Benchmark/PXD015087_Thermo\\Hela_P035218_BA1_S00_A00_R17.raw for step search_db succeeded. 74.50 %\n"
     ]
    },
    {
     "name": "stderr",
     "output_type": "stream",
     "text": [
      "\r",
      " 74%|██████████████████████████████████████████████████████████▊                    | 0.745/1 [09:25<01:14, 291.14s/it]"
     ]
    },
    {
     "name": "stdout",
     "output_type": "stream",
     "text": [
      "2022-12-03 20:32:11> Processing of F:/AP_Paper_Benchmark/PXD015087_Thermo\\Hela_P035218_BA1_S00_A00_R18.raw for step search_db succeeded. 75.00 %\n"
     ]
    },
    {
     "name": "stderr",
     "output_type": "stream",
     "text": [
      "\r",
      " 75%|████████████████████████████████████████████████████████████                    | 0.75/1 [09:28<01:25, 343.52s/it]"
     ]
    },
    {
     "name": "stdout",
     "output_type": "stream",
     "text": [
      "2022-12-03 20:32:11> Processing of F:/AP_Paper_Benchmark/PXD015087_Thermo\\Hela_P035218_BA1_S00_A00_R19.raw for step search_db succeeded. 75.50 %\n",
      "2022-12-03 20:32:11> Processing of F:/AP_Paper_Benchmark/PXD015087_Thermo\\Hela_P035218_BA1_S00_A00_R2.raw for step search_db succeeded. 76.00 %\n",
      "2022-12-03 20:32:11> Processing of F:/AP_Paper_Benchmark/PXD015087_Thermo\\Hela_P035218_BA1_S00_A00_R20.raw for step search_db succeeded. 76.50 %\n",
      "2022-12-03 20:32:12> Processing of F:/AP_Paper_Benchmark/PXD015087_Thermo\\Hela_P035218_BA1_S00_A00_R3.raw for step search_db succeeded. 77.00 %\n"
     ]
    },
    {
     "name": "stderr",
     "output_type": "stream",
     "text": [
      "\r",
      " 77%|█████████████████████████████████████████████████████████████▌                  | 0.77/1 [09:28<00:37, 164.54s/it]"
     ]
    },
    {
     "name": "stdout",
     "output_type": "stream",
     "text": [
      "2022-12-03 20:32:48> Processing of F:/AP_Paper_Benchmark/PXD015087_Thermo\\Hela_P035218_BA1_S00_A00_R4.raw for step search_db succeeded. 77.50 %\n"
     ]
    },
    {
     "name": "stderr",
     "output_type": "stream",
     "text": [
      "\r",
      " 78%|████████████████████████████████████████████████████████████▍                 | 0.775/1 [10:04<05:00, 1335.18s/it]"
     ]
    },
    {
     "name": "stdout",
     "output_type": "stream",
     "text": [
      "2022-12-03 20:32:48> Processing of F:/AP_Paper_Benchmark/PXD015087_Thermo\\Hela_P035218_BA1_S00_A00_R5.raw for step search_db succeeded. 78.00 %\n",
      "2022-12-03 20:32:49> Processing of F:/AP_Paper_Benchmark/PXD015087_Thermo\\Hela_P035218_BA1_S00_A00_R6.raw for step search_db succeeded. 78.50 %\n"
     ]
    },
    {
     "name": "stderr",
     "output_type": "stream",
     "text": [
      "\r",
      " 78%|██████████████████████████████████████████████████████████████                 | 0.785/1 [10:05<03:20, 930.29s/it]"
     ]
    },
    {
     "name": "stdout",
     "output_type": "stream",
     "text": [
      "2022-12-03 20:32:52> Processing of F:/AP_Paper_Benchmark/PXD015087_Thermo\\Hela_P035218_BA1_S00_A00_R7.raw for step search_db succeeded. 79.00 %\n"
     ]
    },
    {
     "name": "stderr",
     "output_type": "stream",
     "text": [
      "\r",
      " 79%|███████████████████████████████████████████████████████████████▏                | 0.79/1 [10:08<03:02, 869.80s/it]"
     ]
    },
    {
     "name": "stdout",
     "output_type": "stream",
     "text": [
      "2022-12-03 20:32:52> Processing of F:/AP_Paper_Benchmark/PXD015087_Thermo\\Hela_P035218_BA1_S00_A00_R8.raw for step search_db succeeded. 79.50 %\n",
      "2022-12-03 20:32:52> Processing of F:/AP_Paper_Benchmark/PXD015087_Thermo\\Hela_P035218_BA1_S00_A00_R9.raw for step search_db succeeded. 80.00 %\n",
      "2022-12-03 20:32:52> Processing of F:/AP_Paper_Benchmark/PXD015087_Thermo\\Hela_P035219_BA1_S00_A00_R1.raw for step search_db succeeded. 80.50 %\n",
      "2022-12-03 20:32:53> Processing of F:/AP_Paper_Benchmark/PXD015087_Thermo\\Hela_P035219_BA1_S00_A00_R10.raw for step search_db succeeded. 81.00 %\n"
     ]
    },
    {
     "name": "stderr",
     "output_type": "stream",
     "text": [
      "\r",
      " 81%|████████████████████████████████████████████████████████████████▊               | 0.81/1 [10:09<01:26, 454.42s/it]"
     ]
    },
    {
     "name": "stdout",
     "output_type": "stream",
     "text": [
      "2022-12-03 20:32:53> Processing of F:/AP_Paper_Benchmark/PXD015087_Thermo\\Hela_P035219_BA1_S00_A00_R11.raw for step search_db succeeded. 81.50 %\n",
      "2022-12-03 20:32:53> Processing of F:/AP_Paper_Benchmark/PXD015087_Thermo\\Hela_P035219_BA1_S00_A00_R12.raw for step search_db succeeded. 82.00 %\n",
      "2022-12-03 20:32:53> Processing of F:/AP_Paper_Benchmark/PXD015087_Thermo\\Hela_P035219_BA1_S00_A00_R13.raw for step search_db succeeded. 82.50 %\n",
      "2022-12-03 20:32:53> Processing of F:/AP_Paper_Benchmark/PXD015087_Thermo\\Hela_P035219_BA1_S00_A00_R14.raw for step search_db succeeded. 83.00 %\n"
     ]
    },
    {
     "name": "stderr",
     "output_type": "stream",
     "text": [
      "\r",
      " 83%|██████████████████████████████████████████████████████████████████▍             | 0.83/1 [10:10<00:45, 268.46s/it]"
     ]
    },
    {
     "name": "stdout",
     "output_type": "stream",
     "text": [
      "2022-12-03 20:32:54> Processing of F:/AP_Paper_Benchmark/PXD015087_Thermo\\Hela_P035219_BA1_S00_A00_R15.raw for step search_db succeeded. 83.50 %\n"
     ]
    },
    {
     "name": "stderr",
     "output_type": "stream",
     "text": [
      "\r",
      " 84%|█████████████████████████████████████████████████████████████████▉             | 0.835/1 [10:11<00:43, 261.01s/it]"
     ]
    },
    {
     "name": "stdout",
     "output_type": "stream",
     "text": [
      "2022-12-03 20:32:54> Processing of F:/AP_Paper_Benchmark/PXD015087_Thermo\\Hela_P035219_BA1_S00_A00_R16.raw for step search_db succeeded. 84.00 %\n"
     ]
    },
    {
     "name": "stderr",
     "output_type": "stream",
     "text": [
      "\r",
      " 84%|███████████████████████████████████████████████████████████████████▏            | 0.84/1 [10:11<00:36, 225.16s/it]"
     ]
    },
    {
     "name": "stdout",
     "output_type": "stream",
     "text": [
      "2022-12-03 20:33:31> Processing of F:/AP_Paper_Benchmark/PXD015087_Thermo\\Hela_P035219_BA1_S00_A00_R17.raw for step search_db succeeded. 84.50 %\n"
     ]
    },
    {
     "name": "stderr",
     "output_type": "stream",
     "text": [
      "\r",
      " 84%|█████████████████████████████████████████████████████████████████▉            | 0.845/1 [10:48<03:57, 1534.11s/it]"
     ]
    },
    {
     "name": "stdout",
     "output_type": "stream",
     "text": [
      "2022-12-03 20:33:31> Processing of F:/AP_Paper_Benchmark/PXD015087_Thermo\\Hela_P035219_BA1_S00_A00_R18.raw for step search_db succeeded. 85.00 %\n",
      "2022-12-03 20:33:31> Processing of F:/AP_Paper_Benchmark/PXD015087_Thermo\\Hela_P035219_BA1_S00_A00_R19.raw for step search_db succeeded. 85.50 %\n"
     ]
    },
    {
     "name": "stderr",
     "output_type": "stream",
     "text": [
      "\r",
      " 86%|██████████████████████████████████████████████████████████████████▋           | 0.855/1 [10:48<02:27, 1020.46s/it]"
     ]
    },
    {
     "name": "stdout",
     "output_type": "stream",
     "text": [
      "2022-12-03 20:33:33> Processing of F:/AP_Paper_Benchmark/PXD015087_Thermo\\Hela_P035219_BA1_S00_A00_R2.raw for step search_db succeeded. 86.00 %\n"
     ]
    },
    {
     "name": "stderr",
     "output_type": "stream",
     "text": [
      "\r",
      " 86%|████████████████████████████████████████████████████████████████████▊           | 0.86/1 [10:49<02:01, 871.13s/it]"
     ]
    },
    {
     "name": "stdout",
     "output_type": "stream",
     "text": [
      "2022-12-03 20:33:34> Processing of F:/AP_Paper_Benchmark/PXD015087_Thermo\\Hela_P035219_BA1_S00_A00_R20.raw for step search_db succeeded. 86.50 %\n"
     ]
    },
    {
     "name": "stderr",
     "output_type": "stream",
     "text": [
      "\r",
      " 86%|████████████████████████████████████████████████████████████████████▎          | 0.865/1 [10:51<01:40, 745.87s/it]"
     ]
    },
    {
     "name": "stdout",
     "output_type": "stream",
     "text": [
      "2022-12-03 20:33:34> Processing of F:/AP_Paper_Benchmark/PXD015087_Thermo\\Hela_P035219_BA1_S00_A00_R3.raw for step search_db succeeded. 87.00 %\n",
      "2022-12-03 20:33:36> Processing of F:/AP_Paper_Benchmark/PXD015087_Thermo\\Hela_P035219_BA1_S00_A00_R4.raw for step search_db succeeded. 87.50 %\n"
     ]
    },
    {
     "name": "stderr",
     "output_type": "stream",
     "text": [
      "\r",
      " 88%|█████████████████████████████████████████████████████████████████████▏         | 0.875/1 [10:53<01:07, 538.51s/it]"
     ]
    },
    {
     "name": "stdout",
     "output_type": "stream",
     "text": [
      "2022-12-03 20:33:37> Processing of F:/AP_Paper_Benchmark/PXD015087_Thermo\\Hela_P035219_BA1_S00_A00_R5.raw for step search_db succeeded. 88.00 %\n"
     ]
    },
    {
     "name": "stderr",
     "output_type": "stream",
     "text": [
      "\r",
      " 88%|██████████████████████████████████████████████████████████████████████▍         | 0.88/1 [10:53<00:52, 437.00s/it]"
     ]
    },
    {
     "name": "stdout",
     "output_type": "stream",
     "text": [
      "2022-12-03 20:33:37> Processing of F:/AP_Paper_Benchmark/PXD015087_Thermo\\Hela_P035219_BA1_S00_A00_R6.raw for step search_db succeeded. 88.50 %\n",
      "2022-12-03 20:33:37> Processing of F:/AP_Paper_Benchmark/PXD015087_Thermo\\Hela_P035219_BA1_S00_A00_R7.raw for step search_db succeeded. 89.00 %\n",
      "2022-12-03 20:33:37> Processing of F:/AP_Paper_Benchmark/PXD015087_Thermo\\Hela_P035219_BA1_S00_A00_R8.raw for step search_db succeeded. 89.50 %\n"
     ]
    },
    {
     "name": "stderr",
     "output_type": "stream",
     "text": [
      "\r",
      " 90%|██████████████████████████████████████████████████████████████████████▋        | 0.895/1 [10:54<00:24, 232.96s/it]"
     ]
    },
    {
     "name": "stdout",
     "output_type": "stream",
     "text": [
      "2022-12-03 20:33:38> Processing of F:/AP_Paper_Benchmark/PXD015087_Thermo\\Hela_P035219_BA1_S00_A00_R9.raw for step search_db succeeded. 90.00 %\n"
     ]
    },
    {
     "name": "stderr",
     "output_type": "stream",
     "text": [
      "\r",
      " 90%|████████████████████████████████████████████████████████████████████████▉        | 0.9/1 [10:54<00:22, 222.98s/it]"
     ]
    },
    {
     "name": "stdout",
     "output_type": "stream",
     "text": [
      "2022-12-03 20:33:38> Processing of F:/AP_Paper_Benchmark/PXD015087_Thermo\\March_Hela_P035212_BA1_S00_A00_R1.raw for step search_db succeeded. 90.50 %\n",
      "2022-12-03 20:33:38> Processing of F:/AP_Paper_Benchmark/PXD015087_Thermo\\March_Hela_P035212_BA1_S00_A00_R10.raw for step search_db succeeded. 91.00 %\n",
      "2022-12-03 20:34:07> Processing of F:/AP_Paper_Benchmark/PXD015087_Thermo\\March_Hela_P035212_BA1_S00_A00_R11.raw for step search_db succeeded. 91.50 %\n"
     ]
    },
    {
     "name": "stderr",
     "output_type": "stream",
     "text": [
      "\r",
      " 92%|████████████████████████████████████████████████████████████████████████▎      | 0.915/1 [11:24<01:24, 993.39s/it]"
     ]
    },
    {
     "name": "stdout",
     "output_type": "stream",
     "text": [
      "2022-12-03 20:34:08> Processing of F:/AP_Paper_Benchmark/PXD015087_Thermo\\March_Hela_P035212_BA1_S00_A00_R12.raw for step search_db succeeded. 92.00 %\n"
     ]
    },
    {
     "name": "stderr",
     "output_type": "stream",
     "text": [
      "\r",
      " 92%|█████████████████████████████████████████████████████████████████████████▌      | 0.92/1 [11:24<01:06, 832.34s/it]"
     ]
    },
    {
     "name": "stdout",
     "output_type": "stream",
     "text": [
      "2022-12-03 20:34:08> Processing of F:/AP_Paper_Benchmark/PXD015087_Thermo\\March_Hela_P035212_BA1_S00_A00_R13.raw for step search_db succeeded. 92.50 %\n",
      "2022-12-03 20:34:08> Processing of F:/AP_Paper_Benchmark/PXD015087_Thermo\\March_Hela_P035212_BA1_S00_A00_R14.raw for step search_db succeeded. 93.00 %\n"
     ]
    },
    {
     "name": "stderr",
     "output_type": "stream",
     "text": [
      "\r",
      " 93%|██████████████████████████████████████████████████████████████████████████▍     | 0.93/1 [11:25<00:40, 581.16s/it]"
     ]
    },
    {
     "name": "stdout",
     "output_type": "stream",
     "text": [
      "2022-12-03 20:34:08> Processing of F:/AP_Paper_Benchmark/PXD015087_Thermo\\March_Hela_P035212_BA1_S00_A00_R15.raw for step search_db succeeded. 93.50 %\n",
      "2022-12-03 20:34:09> Processing of F:/AP_Paper_Benchmark/PXD015087_Thermo\\March_Hela_P035212_BA1_S00_A00_R16.raw for step search_db succeeded. 94.00 %\n"
     ]
    },
    {
     "name": "stderr",
     "output_type": "stream",
     "text": [
      "\r",
      " 94%|███████████████████████████████████████████████████████████████████████████▏    | 0.94/1 [11:26<00:25, 431.32s/it]"
     ]
    },
    {
     "name": "stdout",
     "output_type": "stream",
     "text": [
      "2022-12-03 20:34:10> Processing of F:/AP_Paper_Benchmark/PXD015087_Thermo\\March_Hela_P035212_BA1_S00_A00_R17.raw for step search_db succeeded. 94.50 %\n"
     ]
    },
    {
     "name": "stderr",
     "output_type": "stream",
     "text": [
      "\r",
      " 94%|██████████████████████████████████████████████████████████████████████████▋    | 0.945/1 [11:26<00:19, 357.80s/it]"
     ]
    },
    {
     "name": "stdout",
     "output_type": "stream",
     "text": [
      "2022-12-03 20:34:10> Processing of F:/AP_Paper_Benchmark/PXD015087_Thermo\\March_Hela_P035212_BA1_S00_A00_R18.raw for step search_db succeeded. 95.00 %\n",
      "2022-12-03 20:34:10> Processing of F:/AP_Paper_Benchmark/PXD015087_Thermo\\March_Hela_P035212_BA1_S00_A00_R19.raw for step search_db succeeded. 95.50 %\n",
      "2022-12-03 20:34:11> Processing of F:/AP_Paper_Benchmark/PXD015087_Thermo\\March_Hela_P035212_BA1_S00_A00_R2.raw for step search_db succeeded. 96.00 %\n"
     ]
    },
    {
     "name": "stderr",
     "output_type": "stream",
     "text": [
      "\r",
      " 96%|████████████████████████████████████████████████████████████████████████████▊   | 0.96/1 [11:28<00:09, 239.28s/it]"
     ]
    },
    {
     "name": "stdout",
     "output_type": "stream",
     "text": [
      "2022-12-03 20:34:11> Processing of F:/AP_Paper_Benchmark/PXD015087_Thermo\\March_Hela_P035212_BA1_S00_A00_R20.raw for step search_db succeeded. 96.50 %\n",
      "2022-12-03 20:34:12> Processing of F:/AP_Paper_Benchmark/PXD015087_Thermo\\March_Hela_P035212_BA1_S00_A00_R3.raw for step search_db succeeded. 97.00 %\n"
     ]
    },
    {
     "name": "stderr",
     "output_type": "stream",
     "text": [
      "\r",
      " 97%|█████████████████████████████████████████████████████████████████████████████▌  | 0.97/1 [11:28<00:05, 182.13s/it]"
     ]
    },
    {
     "name": "stdout",
     "output_type": "stream",
     "text": [
      "2022-12-03 20:34:12> Processing of F:/AP_Paper_Benchmark/PXD015087_Thermo\\March_Hela_P035212_BA1_S00_A00_R4.raw for step search_db succeeded. 97.50 %\n",
      "2022-12-03 20:34:12> Processing of F:/AP_Paper_Benchmark/PXD015087_Thermo\\March_Hela_P035212_BA1_S00_A00_R5.raw for step search_db succeeded. 98.00 %\n",
      "2022-12-03 20:34:27> Processing of F:/AP_Paper_Benchmark/PXD015087_Thermo\\March_Hela_P035212_BA1_S00_A00_R6.raw for step search_db succeeded. 98.50 %\n"
     ]
    },
    {
     "name": "stderr",
     "output_type": "stream",
     "text": [
      "\r",
      " 98%|█████████████████████████████████████████████████████████████████████████████▊ | 0.985/1 [11:44<00:07, 523.08s/it]"
     ]
    },
    {
     "name": "stdout",
     "output_type": "stream",
     "text": [
      "2022-12-03 20:34:29> Processing of F:/AP_Paper_Benchmark/PXD015087_Thermo\\March_Hela_P035212_BA1_S00_A00_R7.raw for step search_db succeeded. 99.00 %\n"
     ]
    },
    {
     "name": "stderr",
     "output_type": "stream",
     "text": [
      "\r",
      " 99%|███████████████████████████████████████████████████████████████████████████████▏| 0.99/1 [11:45<00:04, 478.33s/it]"
     ]
    },
    {
     "name": "stdout",
     "output_type": "stream",
     "text": [
      "2022-12-03 20:34:29> Processing of F:/AP_Paper_Benchmark/PXD015087_Thermo\\March_Hela_P035212_BA1_S00_A00_R8.raw for step search_db succeeded. 99.50 %\n",
      "2022-12-03 20:34:29> Processing of F:/AP_Paper_Benchmark/PXD015087_Thermo\\March_Hela_P035212_BA1_S00_A00_R9.raw for step search_db succeeded. 100.00 %\n",
      "2022-12-03 20:34:50> First search complete.\n"
     ]
    },
    {
     "name": "stderr",
     "output_type": "stream",
     "text": [
      "\r",
      "100%|█████████████████████████████████████████████████████████████████████████████████| 1.0/1 [12:07<00:00, 727.17s/it]"
     ]
    },
    {
     "name": "stdout",
     "output_type": "stream",
     "text": [
      "2022-12-03 20:34:50> ==== recalibrate_data ====\n"
     ]
    },
    {
     "name": "stderr",
     "output_type": "stream",
     "text": [
      "\n",
      "  0%|                                                                                            | 0/1 [00:00<?, ?it/s]"
     ]
    },
    {
     "name": "stdout",
     "output_type": "stream",
     "text": [
      "2022-12-03 20:34:50> Processing 200 files for step calibrate_hdf\n",
      "2022-12-03 20:34:50> AlphaPool was set to 24 processes. Setting max to 24.\n",
      "2022-12-03 20:36:23> Processing of F:/AP_Paper_Benchmark/PXD015087_Thermo\\Hela_P035210_BA1_S00_A00_R1.raw for step calibrate_hdf succeeded. 0.50 %\n"
     ]
    },
    {
     "name": "stderr",
     "output_type": "stream",
     "text": [
      "\r",
      "  0%|▍                                                                          | 0.005/1 [01:32<5:05:51, 18443.55s/it]"
     ]
    },
    {
     "name": "stdout",
     "output_type": "stream",
     "text": [
      "2022-12-03 20:36:25> Processing of F:/AP_Paper_Benchmark/PXD015087_Thermo\\Hela_P035210_BA1_S00_A00_R10.raw for step calibrate_hdf succeeded. 1.00 %\n"
     ]
    },
    {
     "name": "stderr",
     "output_type": "stream",
     "text": [
      "\r",
      "  1%|▊                                                                            | 0.01/1 [01:34<2:09:21, 7839.56s/it]"
     ]
    },
    {
     "name": "stdout",
     "output_type": "stream",
     "text": [
      "2022-12-03 20:36:25> Processing of F:/AP_Paper_Benchmark/PXD015087_Thermo\\Hela_P035210_BA1_S00_A00_R11.raw for step calibrate_hdf succeeded. 1.50 %\n",
      "2022-12-03 20:36:25> Processing of F:/AP_Paper_Benchmark/PXD015087_Thermo\\Hela_P035210_BA1_S00_A00_R12.raw for step calibrate_hdf succeeded. 2.00 %\n",
      "2022-12-03 20:36:25> Processing of F:/AP_Paper_Benchmark/PXD015087_Thermo\\Hela_P035210_BA1_S00_A00_R13.raw for step calibrate_hdf succeeded. 2.50 %\n",
      "2022-12-03 20:36:25> Processing of F:/AP_Paper_Benchmark/PXD015087_Thermo\\Hela_P035210_BA1_S00_A00_R14.raw for step calibrate_hdf succeeded. 3.00 %\n",
      "2022-12-03 20:36:26> Processing of F:/AP_Paper_Benchmark/PXD015087_Thermo\\Hela_P035210_BA1_S00_A00_R15.raw for step calibrate_hdf succeeded. 3.50 %\n"
     ]
    },
    {
     "name": "stderr",
     "output_type": "stream",
     "text": [
      "\r",
      "  4%|██▋                                                                           | 0.035/1 [01:35<24:59, 1554.25s/it]"
     ]
    },
    {
     "name": "stdout",
     "output_type": "stream",
     "text": [
      "2022-12-03 20:36:26> Processing of F:/AP_Paper_Benchmark/PXD015087_Thermo\\Hela_P035210_BA1_S00_A00_R16.raw for step calibrate_hdf succeeded. 4.00 %\n",
      "2022-12-03 20:36:26> Processing of F:/AP_Paper_Benchmark/PXD015087_Thermo\\Hela_P035210_BA1_S00_A00_R17.raw for step calibrate_hdf succeeded. 4.50 %\n",
      "2022-12-03 20:36:26> Processing of F:/AP_Paper_Benchmark/PXD015087_Thermo\\Hela_P035210_BA1_S00_A00_R18.raw for step calibrate_hdf succeeded. 5.00 %\n",
      "2022-12-03 20:36:26> Processing of F:/AP_Paper_Benchmark/PXD015087_Thermo\\Hela_P035210_BA1_S00_A00_R19.raw for step calibrate_hdf succeeded. 5.50 %\n",
      "2022-12-03 20:36:26> Processing of F:/AP_Paper_Benchmark/PXD015087_Thermo\\Hela_P035210_BA1_S00_A00_R2.raw for step calibrate_hdf succeeded. 6.00 %\n",
      "2022-12-03 20:36:26> Processing of F:/AP_Paper_Benchmark/PXD015087_Thermo\\Hela_P035210_BA1_S00_A00_R20.raw for step calibrate_hdf succeeded. 6.50 %\n",
      "2022-12-03 20:36:26> Processing of F:/AP_Paper_Benchmark/PXD015087_Thermo\\Hela_P035210_BA1_S00_A00_R3.raw for step calibrate_hdf succeeded. 7.00 %\n",
      "2022-12-03 20:36:26> Processing of F:/AP_Paper_Benchmark/PXD015087_Thermo\\Hela_P035210_BA1_S00_A00_R4.raw for step calibrate_hdf succeeded. 7.50 %\n",
      "2022-12-03 20:36:26> Processing of F:/AP_Paper_Benchmark/PXD015087_Thermo\\Hela_P035210_BA1_S00_A00_R5.raw for step calibrate_hdf succeeded. 8.00 %\n",
      "2022-12-03 20:36:26> Processing of F:/AP_Paper_Benchmark/PXD015087_Thermo\\Hela_P035210_BA1_S00_A00_R6.raw for step calibrate_hdf succeeded. 8.50 %\n",
      "2022-12-03 20:36:26> Processing of F:/AP_Paper_Benchmark/PXD015087_Thermo\\Hela_P035210_BA1_S00_A00_R7.raw for step calibrate_hdf succeeded. 9.00 %\n",
      "2022-12-03 20:36:26> Processing of F:/AP_Paper_Benchmark/PXD015087_Thermo\\Hela_P035210_BA1_S00_A00_R8.raw for step calibrate_hdf succeeded. 9.50 %\n",
      "2022-12-03 20:36:26> Processing of F:/AP_Paper_Benchmark/PXD015087_Thermo\\Hela_P035210_BA1_S00_A00_R9.raw for step calibrate_hdf succeeded. 10.00 %\n",
      "2022-12-03 20:36:30> Processing of F:/AP_Paper_Benchmark/PXD015087_Thermo\\Hela_P035211_BA1_S00_A00_R1.raw for step calibrate_hdf succeeded. 10.50 %\n"
     ]
    },
    {
     "name": "stderr",
     "output_type": "stream",
     "text": [
      "\r",
      " 10%|████████▎                                                                      | 0.105/1 [01:39<06:05, 408.00s/it]"
     ]
    },
    {
     "name": "stdout",
     "output_type": "stream",
     "text": [
      "2022-12-03 20:36:30> Processing of F:/AP_Paper_Benchmark/PXD015087_Thermo\\Hela_P035211_BA1_S00_A00_R10.raw for step calibrate_hdf succeeded. 11.00 %\n",
      "2022-12-03 20:36:30> Processing of F:/AP_Paper_Benchmark/PXD015087_Thermo\\Hela_P035211_BA1_S00_A00_R11.raw for step calibrate_hdf succeeded. 11.50 %\n"
     ]
    },
    {
     "name": "stderr",
     "output_type": "stream",
     "text": [
      "\r",
      " 12%|█████████                                                                      | 0.115/1 [01:39<05:14, 354.97s/it]"
     ]
    },
    {
     "name": "stdout",
     "output_type": "stream",
     "text": [
      "2022-12-03 20:36:30> Processing of F:/AP_Paper_Benchmark/PXD015087_Thermo\\Hela_P035211_BA1_S00_A00_R12.raw for step calibrate_hdf succeeded. 12.00 %\n",
      "2022-12-03 20:37:41> Processing of F:/AP_Paper_Benchmark/PXD015087_Thermo\\Hela_P035211_BA1_S00_A00_R13.raw for step calibrate_hdf succeeded. 12.50 %\n"
     ]
    },
    {
     "name": "stderr",
     "output_type": "stream",
     "text": [
      "\r",
      " 12%|█████████▊                                                                    | 0.125/1 [02:51<21:09, 1450.80s/it]"
     ]
    },
    {
     "name": "stdout",
     "output_type": "stream",
     "text": [
      "2022-12-03 20:37:41> Processing of F:/AP_Paper_Benchmark/PXD015087_Thermo\\Hela_P035211_BA1_S00_A00_R14.raw for step calibrate_hdf succeeded. 13.00 %\n",
      "2022-12-03 20:37:41> Processing of F:/AP_Paper_Benchmark/PXD015087_Thermo\\Hela_P035211_BA1_S00_A00_R15.raw for step calibrate_hdf succeeded. 13.50 %\n",
      "2022-12-03 20:37:41> Processing of F:/AP_Paper_Benchmark/PXD015087_Thermo\\Hela_P035211_BA1_S00_A00_R16.raw for step calibrate_hdf succeeded. 14.00 %\n",
      "2022-12-03 20:37:41> Processing of F:/AP_Paper_Benchmark/PXD015087_Thermo\\Hela_P035211_BA1_S00_A00_R17.raw for step calibrate_hdf succeeded. 14.50 %\n",
      "2022-12-03 20:37:41> Processing of F:/AP_Paper_Benchmark/PXD015087_Thermo\\Hela_P035211_BA1_S00_A00_R18.raw for step calibrate_hdf succeeded. 15.00 %\n",
      "2022-12-03 20:37:41> Processing of F:/AP_Paper_Benchmark/PXD015087_Thermo\\Hela_P035211_BA1_S00_A00_R19.raw for step calibrate_hdf succeeded. 15.50 %\n",
      "2022-12-03 20:37:47> Processing of F:/AP_Paper_Benchmark/PXD015087_Thermo\\Hela_P035211_BA1_S00_A00_R2.raw for step calibrate_hdf succeeded. 16.00 %\n"
     ]
    },
    {
     "name": "stderr",
     "output_type": "stream",
     "text": [
      "\r",
      " 16%|████████████▊                                                                   | 0.16/1 [02:56<12:13, 873.58s/it]"
     ]
    },
    {
     "name": "stdout",
     "output_type": "stream",
     "text": [
      "2022-12-03 20:37:47> Processing of F:/AP_Paper_Benchmark/PXD015087_Thermo\\Hela_P035211_BA1_S00_A00_R20.raw for step calibrate_hdf succeeded. 16.50 %\n",
      "2022-12-03 20:37:48> Processing of F:/AP_Paper_Benchmark/PXD015087_Thermo\\Hela_P035211_BA1_S00_A00_R3.raw for step calibrate_hdf succeeded. 17.00 %\n"
     ]
    },
    {
     "name": "stderr",
     "output_type": "stream",
     "text": [
      "\r",
      " 17%|█████████████▌                                                                  | 0.17/1 [02:57<10:23, 750.80s/it]"
     ]
    },
    {
     "name": "stdout",
     "output_type": "stream",
     "text": [
      "2022-12-03 20:37:48> Processing of F:/AP_Paper_Benchmark/PXD015087_Thermo\\Hela_P035211_BA1_S00_A00_R4.raw for step calibrate_hdf succeeded. 17.50 %\n",
      "2022-12-03 20:37:49> Processing of F:/AP_Paper_Benchmark/PXD015087_Thermo\\Hela_P035211_BA1_S00_A00_R5.raw for step calibrate_hdf succeeded. 18.00 %\n"
     ]
    },
    {
     "name": "stderr",
     "output_type": "stream",
     "text": [
      "\r",
      " 18%|██████████████▍                                                                 | 0.18/1 [02:58<08:41, 635.70s/it]"
     ]
    },
    {
     "name": "stdout",
     "output_type": "stream",
     "text": [
      "2022-12-03 20:37:49> Processing of F:/AP_Paper_Benchmark/PXD015087_Thermo\\Hela_P035211_BA1_S00_A00_R6.raw for step calibrate_hdf succeeded. 18.50 %\n",
      "2022-12-03 20:37:49> Processing of F:/AP_Paper_Benchmark/PXD015087_Thermo\\Hela_P035211_BA1_S00_A00_R7.raw for step calibrate_hdf succeeded. 19.00 %\n",
      "2022-12-03 20:37:49> Processing of F:/AP_Paper_Benchmark/PXD015087_Thermo\\Hela_P035211_BA1_S00_A00_R8.raw for step calibrate_hdf succeeded. 19.50 %\n"
     ]
    },
    {
     "name": "stderr",
     "output_type": "stream",
     "text": [
      "\r",
      " 20%|███████████████▍                                                               | 0.195/1 [02:58<06:11, 460.97s/it]"
     ]
    },
    {
     "name": "stdout",
     "output_type": "stream",
     "text": [
      "2022-12-03 20:37:49> Processing of F:/AP_Paper_Benchmark/PXD015087_Thermo\\Hela_P035211_BA1_S00_A00_R9.raw for step calibrate_hdf succeeded. 20.00 %\n",
      "2022-12-03 20:37:49> Processing of F:/AP_Paper_Benchmark/PXD015087_Thermo\\Hela_P035213_BA1_S00_A00_R1.raw for step calibrate_hdf succeeded. 20.50 %\n",
      "2022-12-03 20:37:49> Processing of F:/AP_Paper_Benchmark/PXD015087_Thermo\\Hela_P035213_BA1_S00_A00_R10.raw for step calibrate_hdf succeeded. 21.00 %\n",
      "2022-12-03 20:37:49> Processing of F:/AP_Paper_Benchmark/PXD015087_Thermo\\Hela_P035213_BA1_S00_A00_R11.raw for step calibrate_hdf succeeded. 21.50 %\n",
      "2022-12-03 20:37:49> Processing of F:/AP_Paper_Benchmark/PXD015087_Thermo\\Hela_P035213_BA1_S00_A00_R12.raw for step calibrate_hdf succeeded. 22.00 %\n",
      "2022-12-03 20:37:49> Processing of F:/AP_Paper_Benchmark/PXD015087_Thermo\\Hela_P035213_BA1_S00_A00_R13.raw for step calibrate_hdf succeeded. 22.50 %\n",
      "2022-12-03 20:37:49> Processing of F:/AP_Paper_Benchmark/PXD015087_Thermo\\Hela_P035213_BA1_S00_A00_R14.raw for step calibrate_hdf succeeded. 23.00 %\n",
      "2022-12-03 20:37:49> Processing of F:/AP_Paper_Benchmark/PXD015087_Thermo\\Hela_P035213_BA1_S00_A00_R15.raw for step calibrate_hdf succeeded. 23.50 %\n",
      "2022-12-03 20:37:49> Processing of F:/AP_Paper_Benchmark/PXD015087_Thermo\\Hela_P035213_BA1_S00_A00_R16.raw for step calibrate_hdf succeeded. 24.00 %\n",
      "2022-12-03 20:38:50> Processing of F:/AP_Paper_Benchmark/PXD015087_Thermo\\Hela_P035213_BA1_S00_A00_R17.raw for step calibrate_hdf succeeded. 24.50 %\n"
     ]
    },
    {
     "name": "stderr",
     "output_type": "stream",
     "text": [
      "\r",
      " 24%|███████████████████▎                                                           | 0.245/1 [03:59<11:13, 892.05s/it]"
     ]
    },
    {
     "name": "stdout",
     "output_type": "stream",
     "text": [
      "2022-12-03 20:38:50> Processing of F:/AP_Paper_Benchmark/PXD015087_Thermo\\Hela_P035213_BA1_S00_A00_R18.raw for step calibrate_hdf succeeded. 25.00 %\n",
      "2022-12-03 20:38:50> Processing of F:/AP_Paper_Benchmark/PXD015087_Thermo\\Hela_P035213_BA1_S00_A00_R19.raw for step calibrate_hdf succeeded. 25.50 %\n",
      "2022-12-03 20:38:59> Processing of F:/AP_Paper_Benchmark/PXD015087_Thermo\\Hela_P035213_BA1_S00_A00_R2.raw for step calibrate_hdf succeeded. 26.00 %\n"
     ]
    },
    {
     "name": "stderr",
     "output_type": "stream",
     "text": [
      "\r",
      " 26%|████████████████████▊                                                           | 0.26/1 [04:08<10:15, 832.07s/it]"
     ]
    },
    {
     "name": "stdout",
     "output_type": "stream",
     "text": [
      "2022-12-03 20:38:59> Processing of F:/AP_Paper_Benchmark/PXD015087_Thermo\\Hela_P035213_BA1_S00_A00_R20.raw for step calibrate_hdf succeeded. 26.50 %\n",
      "2022-12-03 20:38:59> Processing of F:/AP_Paper_Benchmark/PXD015087_Thermo\\Hela_P035213_BA1_S00_A00_R3.raw for step calibrate_hdf succeeded. 27.00 %\n",
      "2022-12-03 20:39:00> Processing of F:/AP_Paper_Benchmark/PXD015087_Thermo\\Hela_P035213_BA1_S00_A00_R4.raw for step calibrate_hdf succeeded. 27.50 %\n"
     ]
    },
    {
     "name": "stderr",
     "output_type": "stream",
     "text": [
      "\r",
      " 28%|█████████████████████▋                                                         | 0.275/1 [04:09<08:01, 664.24s/it]"
     ]
    },
    {
     "name": "stdout",
     "output_type": "stream",
     "text": [
      "2022-12-03 20:39:00> Processing of F:/AP_Paper_Benchmark/PXD015087_Thermo\\Hela_P035213_BA1_S00_A00_R5.raw for step calibrate_hdf succeeded. 28.00 %\n",
      "2022-12-03 20:39:00> Processing of F:/AP_Paper_Benchmark/PXD015087_Thermo\\Hela_P035213_BA1_S00_A00_R6.raw for step calibrate_hdf succeeded. 28.50 %\n",
      "2022-12-03 20:39:00> Processing of F:/AP_Paper_Benchmark/PXD015087_Thermo\\Hela_P035213_BA1_S00_A00_R7.raw for step calibrate_hdf succeeded. 29.00 %\n",
      "2022-12-03 20:39:00> Processing of F:/AP_Paper_Benchmark/PXD015087_Thermo\\Hela_P035213_BA1_S00_A00_R8.raw for step calibrate_hdf succeeded. 29.50 %\n",
      "2022-12-03 20:39:00> Processing of F:/AP_Paper_Benchmark/PXD015087_Thermo\\Hela_P035213_BA1_S00_A00_R9.raw for step calibrate_hdf succeeded. 30.00 %\n",
      "2022-12-03 20:39:06> Processing of F:/AP_Paper_Benchmark/PXD015087_Thermo\\Hela_P035214_BA1_S00_A00_R1.raw for step calibrate_hdf succeeded. 30.50 %\n"
     ]
    },
    {
     "name": "stderr",
     "output_type": "stream",
     "text": [
      "\r",
      " 30%|████████████████████████                                                       | 0.305/1 [04:15<05:37, 485.22s/it]"
     ]
    },
    {
     "name": "stdout",
     "output_type": "stream",
     "text": [
      "2022-12-03 20:39:06> Processing of F:/AP_Paper_Benchmark/PXD015087_Thermo\\Hela_P035214_BA1_S00_A00_R10.raw for step calibrate_hdf succeeded. 31.00 %\n",
      "2022-12-03 20:39:06> Processing of F:/AP_Paper_Benchmark/PXD015087_Thermo\\Hela_P035214_BA1_S00_A00_R11.raw for step calibrate_hdf succeeded. 31.50 %\n",
      "2022-12-03 20:39:08> Processing of F:/AP_Paper_Benchmark/PXD015087_Thermo\\Hela_P035214_BA1_S00_A00_R12.raw for step calibrate_hdf succeeded. 32.00 %\n"
     ]
    },
    {
     "name": "stderr",
     "output_type": "stream",
     "text": [
      "\r",
      " 32%|█████████████████████████▌                                                      | 0.32/1 [04:17<04:40, 412.15s/it]"
     ]
    },
    {
     "name": "stdout",
     "output_type": "stream",
     "text": [
      "2022-12-03 20:39:08> Processing of F:/AP_Paper_Benchmark/PXD015087_Thermo\\Hela_P035214_BA1_S00_A00_R13.raw for step calibrate_hdf succeeded. 32.50 %\n"
     ]
    },
    {
     "name": "stderr",
     "output_type": "stream",
     "text": [
      "\r",
      " 32%|█████████████████████████▋                                                     | 0.325/1 [04:17<04:14, 377.72s/it]"
     ]
    },
    {
     "name": "stdout",
     "output_type": "stream",
     "text": [
      "2022-12-03 20:39:09> Processing of F:/AP_Paper_Benchmark/PXD015087_Thermo\\Hela_P035214_BA1_S00_A00_R14.raw for step calibrate_hdf succeeded. 33.00 %\n"
     ]
    },
    {
     "name": "stderr",
     "output_type": "stream",
     "text": [
      "\r",
      " 33%|██████████████████████████▍                                                     | 0.33/1 [04:18<03:59, 357.82s/it]"
     ]
    },
    {
     "name": "stdout",
     "output_type": "stream",
     "text": [
      "2022-12-03 20:39:09> Processing of F:/AP_Paper_Benchmark/PXD015087_Thermo\\Hela_P035214_BA1_S00_A00_R15.raw for step calibrate_hdf succeeded. 33.50 %\n",
      "2022-12-03 20:39:09> Processing of F:/AP_Paper_Benchmark/PXD015087_Thermo\\Hela_P035214_BA1_S00_A00_R16.raw for step calibrate_hdf succeeded. 34.00 %\n",
      "2022-12-03 20:39:09> Processing of F:/AP_Paper_Benchmark/PXD015087_Thermo\\Hela_P035214_BA1_S00_A00_R17.raw for step calibrate_hdf succeeded. 34.50 %\n",
      "2022-12-03 20:39:09> Processing of F:/AP_Paper_Benchmark/PXD015087_Thermo\\Hela_P035214_BA1_S00_A00_R18.raw for step calibrate_hdf succeeded. 35.00 %\n",
      "2022-12-03 20:39:09> Processing of F:/AP_Paper_Benchmark/PXD015087_Thermo\\Hela_P035214_BA1_S00_A00_R19.raw for step calibrate_hdf succeeded. 35.50 %\n",
      "2022-12-03 20:39:13> Processing of F:/AP_Paper_Benchmark/PXD015087_Thermo\\Hela_P035214_BA1_S00_A00_R2.raw for step calibrate_hdf succeeded. 36.00 %\n"
     ]
    },
    {
     "name": "stderr",
     "output_type": "stream",
     "text": [
      "\r",
      " 36%|████████████████████████████▊                                                   | 0.36/1 [04:22<02:31, 236.72s/it]"
     ]
    },
    {
     "name": "stdout",
     "output_type": "stream",
     "text": [
      "2022-12-03 20:40:05> Processing of F:/AP_Paper_Benchmark/PXD015087_Thermo\\Hela_P035214_BA1_S00_A00_R20.raw for step calibrate_hdf succeeded. 36.50 %\n"
     ]
    },
    {
     "name": "stderr",
     "output_type": "stream",
     "text": [
      "\r",
      " 36%|████████████████████████████▍                                                 | 0.365/1 [05:14<14:01, 1324.97s/it]"
     ]
    },
    {
     "name": "stdout",
     "output_type": "stream",
     "text": [
      "2022-12-03 20:40:13> Processing of F:/AP_Paper_Benchmark/PXD015087_Thermo\\Hela_P035214_BA1_S00_A00_R3.raw for step calibrate_hdf succeeded. 37.00 %\n"
     ]
    },
    {
     "name": "stderr",
     "output_type": "stream",
     "text": [
      "\r",
      " 37%|█████████████████████████████▏                                                 | 0.37/1 [05:22<14:14, 1357.09s/it]"
     ]
    },
    {
     "name": "stdout",
     "output_type": "stream",
     "text": [
      "2022-12-03 20:40:14> Processing of F:/AP_Paper_Benchmark/PXD015087_Thermo\\Hela_P035214_BA1_S00_A00_R4.raw for step calibrate_hdf succeeded. 37.50 %\n"
     ]
    },
    {
     "name": "stderr",
     "output_type": "stream",
     "text": [
      "\r",
      " 38%|█████████████████████████████▎                                                | 0.375/1 [05:23<12:14, 1175.55s/it]"
     ]
    },
    {
     "name": "stdout",
     "output_type": "stream",
     "text": [
      "2022-12-03 20:40:14> Processing of F:/AP_Paper_Benchmark/PXD015087_Thermo\\Hela_P035214_BA1_S00_A00_R5.raw for step calibrate_hdf succeeded. 38.00 %\n"
     ]
    },
    {
     "name": "stderr",
     "output_type": "stream",
     "text": [
      "\r",
      " 38%|██████████████████████████████▍                                                 | 0.38/1 [05:23<09:58, 965.14s/it]"
     ]
    },
    {
     "name": "stdout",
     "output_type": "stream",
     "text": [
      "2022-12-03 20:40:14> Processing of F:/AP_Paper_Benchmark/PXD015087_Thermo\\Hela_P035214_BA1_S00_A00_R6.raw for step calibrate_hdf succeeded. 38.50 %\n",
      "2022-12-03 20:40:20> Processing of F:/AP_Paper_Benchmark/PXD015087_Thermo\\Hela_P035214_BA1_S00_A00_R7.raw for step calibrate_hdf succeeded. 39.00 %\n"
     ]
    },
    {
     "name": "stderr",
     "output_type": "stream",
     "text": [
      "\r",
      " 39%|███████████████████████████████▏                                                | 0.39/1 [05:29<08:31, 839.32s/it]"
     ]
    },
    {
     "name": "stdout",
     "output_type": "stream",
     "text": [
      "2022-12-03 20:40:21> Processing of F:/AP_Paper_Benchmark/PXD015087_Thermo\\Hela_P035214_BA1_S00_A00_R8.raw for step calibrate_hdf succeeded. 39.50 %\n"
     ]
    },
    {
     "name": "stderr",
     "output_type": "stream",
     "text": [
      "\r",
      " 40%|███████████████████████████████▏                                               | 0.395/1 [05:30<07:22, 731.77s/it]"
     ]
    },
    {
     "name": "stdout",
     "output_type": "stream",
     "text": [
      "2022-12-03 20:40:21> Processing of F:/AP_Paper_Benchmark/PXD015087_Thermo\\Hela_P035214_BA1_S00_A00_R9.raw for step calibrate_hdf succeeded. 40.00 %\n",
      "2022-12-03 20:40:21> Processing of F:/AP_Paper_Benchmark/PXD015087_Thermo\\Hela_P035215_BA1_S00_A00_R1.raw for step calibrate_hdf succeeded. 40.50 %\n",
      "2022-12-03 20:40:21> Processing of F:/AP_Paper_Benchmark/PXD015087_Thermo\\Hela_P035215_BA1_S00_A00_R10.raw for step calibrate_hdf succeeded. 41.00 %\n",
      "2022-12-03 20:40:21> Processing of F:/AP_Paper_Benchmark/PXD015087_Thermo\\Hela_P035215_BA1_S00_A00_R11.raw for step calibrate_hdf succeeded. 41.50 %\n",
      "2022-12-03 20:40:21> Processing of F:/AP_Paper_Benchmark/PXD015087_Thermo\\Hela_P035215_BA1_S00_A00_R12.raw for step calibrate_hdf succeeded. 42.00 %\n",
      "2022-12-03 20:40:21> Processing of F:/AP_Paper_Benchmark/PXD015087_Thermo\\Hela_P035215_BA1_S00_A00_R13.raw for step calibrate_hdf succeeded. 42.50 %\n",
      "2022-12-03 20:40:21> Processing of F:/AP_Paper_Benchmark/PXD015087_Thermo\\Hela_P035215_BA1_S00_A00_R14.raw for step calibrate_hdf succeeded. 43.00 %\n",
      "2022-12-03 20:40:21> Processing of F:/AP_Paper_Benchmark/PXD015087_Thermo\\Hela_P035215_BA1_S00_A00_R15.raw for step calibrate_hdf succeeded. 43.50 %\n",
      "2022-12-03 20:40:21> Processing of F:/AP_Paper_Benchmark/PXD015087_Thermo\\Hela_P035215_BA1_S00_A00_R16.raw for step calibrate_hdf succeeded. 44.00 %\n",
      "2022-12-03 20:40:21> Processing of F:/AP_Paper_Benchmark/PXD015087_Thermo\\Hela_P035215_BA1_S00_A00_R17.raw for step calibrate_hdf succeeded. 44.50 %\n",
      "2022-12-03 20:40:21> Processing of F:/AP_Paper_Benchmark/PXD015087_Thermo\\Hela_P035215_BA1_S00_A00_R18.raw for step calibrate_hdf succeeded. 45.00 %\n",
      "2022-12-03 20:40:21> Processing of F:/AP_Paper_Benchmark/PXD015087_Thermo\\Hela_P035215_BA1_S00_A00_R19.raw for step calibrate_hdf succeeded. 45.50 %\n",
      "2022-12-03 20:40:21> Processing of F:/AP_Paper_Benchmark/PXD015087_Thermo\\Hela_P035215_BA1_S00_A00_R2.raw for step calibrate_hdf succeeded. 46.00 %\n",
      "2022-12-03 20:40:21> Processing of F:/AP_Paper_Benchmark/PXD015087_Thermo\\Hela_P035215_BA1_S00_A00_R20.raw for step calibrate_hdf succeeded. 46.50 %\n",
      "2022-12-03 20:40:21> Processing of F:/AP_Paper_Benchmark/PXD015087_Thermo\\Hela_P035215_BA1_S00_A00_R3.raw for step calibrate_hdf succeeded. 47.00 %\n",
      "2022-12-03 20:40:21> Processing of F:/AP_Paper_Benchmark/PXD015087_Thermo\\Hela_P035215_BA1_S00_A00_R4.raw for step calibrate_hdf succeeded. 47.50 %\n",
      "2022-12-03 20:40:21> Processing of F:/AP_Paper_Benchmark/PXD015087_Thermo\\Hela_P035215_BA1_S00_A00_R5.raw for step calibrate_hdf succeeded. 48.00 %\n",
      "2022-12-03 20:40:59> Processing of F:/AP_Paper_Benchmark/PXD015087_Thermo\\Hela_P035215_BA1_S00_A00_R6.raw for step calibrate_hdf succeeded. 48.50 %\n"
     ]
    },
    {
     "name": "stderr",
     "output_type": "stream",
     "text": [
      "\r",
      " 48%|██████████████████████████████████████▎                                        | 0.485/1 [06:08<03:59, 464.87s/it]"
     ]
    },
    {
     "name": "stdout",
     "output_type": "stream",
     "text": [
      "2022-12-03 20:40:59> Processing of F:/AP_Paper_Benchmark/PXD015087_Thermo\\Hela_P035215_BA1_S00_A00_R7.raw for step calibrate_hdf succeeded. 49.00 %\n",
      "2022-12-03 20:40:59> Processing of F:/AP_Paper_Benchmark/PXD015087_Thermo\\Hela_P035215_BA1_S00_A00_R8.raw for step calibrate_hdf succeeded. 49.50 %\n",
      "2022-12-03 20:41:01> Processing of F:/AP_Paper_Benchmark/PXD015087_Thermo\\Hela_P035215_BA1_S00_A00_R9.raw for step calibrate_hdf succeeded. 50.00 %\n"
     ]
    },
    {
     "name": "stderr",
     "output_type": "stream",
     "text": [
      "\r",
      " 50%|████████████████████████████████████████▌                                        | 0.5/1 [06:10<03:28, 417.71s/it]"
     ]
    },
    {
     "name": "stdout",
     "output_type": "stream",
     "text": [
      "2022-12-03 20:41:12> Processing of F:/AP_Paper_Benchmark/PXD015087_Thermo\\Hela_P035216_BA1_S00_A00_R1.raw for step calibrate_hdf succeeded. 50.50 %\n"
     ]
    },
    {
     "name": "stderr",
     "output_type": "stream",
     "text": [
      "\r",
      " 50%|███████████████████████████████████████▉                                       | 0.505/1 [06:21<04:26, 538.84s/it]"
     ]
    },
    {
     "name": "stdout",
     "output_type": "stream",
     "text": [
      "2022-12-03 20:41:13> Processing of F:/AP_Paper_Benchmark/PXD015087_Thermo\\Hela_P035216_BA1_S00_A00_R10.raw for step calibrate_hdf succeeded. 51.00 %\n"
     ]
    },
    {
     "name": "stderr",
     "output_type": "stream",
     "text": [
      "\r",
      " 51%|████████████████████████████████████████▊                                       | 0.51/1 [06:22<04:07, 506.10s/it]"
     ]
    },
    {
     "name": "stdout",
     "output_type": "stream",
     "text": [
      "2022-12-03 20:41:13> Processing of F:/AP_Paper_Benchmark/PXD015087_Thermo\\Hela_P035216_BA1_S00_A00_R11.raw for step calibrate_hdf succeeded. 51.50 %\n"
     ]
    },
    {
     "name": "stderr",
     "output_type": "stream",
     "text": [
      "\r",
      " 52%|████████████████████████████████████████▋                                      | 0.515/1 [06:22<03:41, 457.47s/it]"
     ]
    },
    {
     "name": "stdout",
     "output_type": "stream",
     "text": [
      "2022-12-03 20:41:20> Processing of F:/AP_Paper_Benchmark/PXD015087_Thermo\\Hela_P035216_BA1_S00_A00_R12.raw for step calibrate_hdf succeeded. 52.00 %\n"
     ]
    },
    {
     "name": "stderr",
     "output_type": "stream",
     "text": [
      "\r",
      " 52%|█████████████████████████████████████████▌                                      | 0.52/1 [06:29<04:46, 597.56s/it]"
     ]
    },
    {
     "name": "stdout",
     "output_type": "stream",
     "text": [
      "2022-12-03 20:41:20> Processing of F:/AP_Paper_Benchmark/PXD015087_Thermo\\Hela_P035216_BA1_S00_A00_R13.raw for step calibrate_hdf succeeded. 52.50 %\n",
      "2022-12-03 20:41:22> Processing of F:/AP_Paper_Benchmark/PXD015087_Thermo\\Hela_P035216_BA1_S00_A00_R14.raw for step calibrate_hdf succeeded. 53.00 %\n"
     ]
    },
    {
     "name": "stderr",
     "output_type": "stream",
     "text": [
      "\r",
      " 53%|██████████████████████████████████████████▍                                     | 0.53/1 [06:31<03:43, 476.40s/it]"
     ]
    },
    {
     "name": "stdout",
     "output_type": "stream",
     "text": [
      "2022-12-03 20:41:22> Processing of F:/AP_Paper_Benchmark/PXD015087_Thermo\\Hela_P035216_BA1_S00_A00_R15.raw for step calibrate_hdf succeeded. 53.50 %\n",
      "2022-12-03 20:41:23> Processing of F:/AP_Paper_Benchmark/PXD015087_Thermo\\Hela_P035216_BA1_S00_A00_R16.raw for step calibrate_hdf succeeded. 54.00 %\n"
     ]
    },
    {
     "name": "stderr",
     "output_type": "stream",
     "text": [
      "\r",
      " 54%|███████████████████████████████████████████▏                                    | 0.54/1 [06:32<02:51, 373.22s/it]"
     ]
    },
    {
     "name": "stdout",
     "output_type": "stream",
     "text": [
      "2022-12-03 20:41:24> Processing of F:/AP_Paper_Benchmark/PXD015087_Thermo\\Hela_P035216_BA1_S00_A00_R17.raw for step calibrate_hdf succeeded. 54.50 %\n"
     ]
    },
    {
     "name": "stderr",
     "output_type": "stream",
     "text": [
      "\r",
      " 55%|███████████████████████████████████████████                                    | 0.545/1 [06:33<02:33, 338.00s/it]"
     ]
    },
    {
     "name": "stdout",
     "output_type": "stream",
     "text": [
      "2022-12-03 20:41:24> Processing of F:/AP_Paper_Benchmark/PXD015087_Thermo\\Hela_P035216_BA1_S00_A00_R18.raw for step calibrate_hdf succeeded. 55.00 %\n",
      "2022-12-03 20:41:25> Processing of F:/AP_Paper_Benchmark/PXD015087_Thermo\\Hela_P035216_BA1_S00_A00_R19.raw for step calibrate_hdf succeeded. 55.50 %\n"
     ]
    },
    {
     "name": "stderr",
     "output_type": "stream",
     "text": [
      "\r",
      " 56%|███████████████████████████████████████████▊                                   | 0.555/1 [06:34<01:52, 253.07s/it]"
     ]
    },
    {
     "name": "stdout",
     "output_type": "stream",
     "text": [
      "2022-12-03 20:41:26> Processing of F:/AP_Paper_Benchmark/PXD015087_Thermo\\Hela_P035216_BA1_S00_A00_R2.raw for step calibrate_hdf succeeded. 56.00 %\n"
     ]
    },
    {
     "name": "stderr",
     "output_type": "stream",
     "text": [
      "\r",
      " 56%|████████████████████████████████████████████▊                                   | 0.56/1 [06:35<01:51, 252.79s/it]"
     ]
    },
    {
     "name": "stdout",
     "output_type": "stream",
     "text": [
      "2022-12-03 20:41:26> Processing of F:/AP_Paper_Benchmark/PXD015087_Thermo\\Hela_P035216_BA1_S00_A00_R20.raw for step calibrate_hdf succeeded. 56.50 %\n",
      "2022-12-03 20:41:32> Processing of F:/AP_Paper_Benchmark/PXD015087_Thermo\\Hela_P035216_BA1_S00_A00_R3.raw for step calibrate_hdf succeeded. 57.00 %\n"
     ]
    },
    {
     "name": "stderr",
     "output_type": "stream",
     "text": [
      "\r",
      " 57%|█████████████████████████████████████████████▌                                  | 0.57/1 [06:41<02:34, 358.42s/it]"
     ]
    },
    {
     "name": "stdout",
     "output_type": "stream",
     "text": [
      "2022-12-03 20:41:32> Processing of F:/AP_Paper_Benchmark/PXD015087_Thermo\\Hela_P035216_BA1_S00_A00_R4.raw for step calibrate_hdf succeeded. 57.50 %\n",
      "2022-12-03 20:41:32> Processing of F:/AP_Paper_Benchmark/PXD015087_Thermo\\Hela_P035216_BA1_S00_A00_R5.raw for step calibrate_hdf succeeded. 58.00 %\n",
      "2022-12-03 20:41:32> Processing of F:/AP_Paper_Benchmark/PXD015087_Thermo\\Hela_P035216_BA1_S00_A00_R6.raw for step calibrate_hdf succeeded. 58.50 %\n",
      "2022-12-03 20:41:32> Processing of F:/AP_Paper_Benchmark/PXD015087_Thermo\\Hela_P035216_BA1_S00_A00_R7.raw for step calibrate_hdf succeeded. 59.00 %\n",
      "2022-12-03 20:41:33> Processing of F:/AP_Paper_Benchmark/PXD015087_Thermo\\Hela_P035216_BA1_S00_A00_R8.raw for step calibrate_hdf succeeded. 59.50 %\n"
     ]
    },
    {
     "name": "stderr",
     "output_type": "stream",
     "text": [
      "\r",
      " 60%|███████████████████████████████████████████████                                | 0.595/1 [06:43<01:20, 197.77s/it]"
     ]
    },
    {
     "name": "stdout",
     "output_type": "stream",
     "text": [
      "2022-12-03 20:41:36> Processing of F:/AP_Paper_Benchmark/PXD015087_Thermo\\Hela_P035216_BA1_S00_A00_R9.raw for step calibrate_hdf succeeded. 60.00 %\n"
     ]
    },
    {
     "name": "stderr",
     "output_type": "stream",
     "text": [
      "\r",
      " 60%|████████████████████████████████████████████████▌                                | 0.6/1 [06:45<01:37, 243.50s/it]"
     ]
    },
    {
     "name": "stdout",
     "output_type": "stream",
     "text": [
      "2022-12-03 20:41:57> Processing of F:/AP_Paper_Benchmark/PXD015087_Thermo\\Hela_P035217_BA1_S00_A00_R1.raw for step calibrate_hdf succeeded. 60.50 %\n"
     ]
    },
    {
     "name": "stderr",
     "output_type": "stream",
     "text": [
      "\r",
      " 60%|███████████████████████████████████████████████▊                               | 0.605/1 [07:06<05:49, 885.46s/it]"
     ]
    },
    {
     "name": "stdout",
     "output_type": "stream",
     "text": [
      "2022-12-03 20:42:05> Processing of F:/AP_Paper_Benchmark/PXD015087_Thermo\\Hela_P035217_BA1_S00_A00_R10.raw for step calibrate_hdf succeeded. 61.00 %\n"
     ]
    },
    {
     "name": "stderr",
     "output_type": "stream",
     "text": [
      "\r",
      " 61%|████████████████████████████████████████████████▏                              | 0.61/1 [07:14<06:32, 1006.19s/it]"
     ]
    },
    {
     "name": "stdout",
     "output_type": "stream",
     "text": [
      "2022-12-03 20:42:05> Processing of F:/AP_Paper_Benchmark/PXD015087_Thermo\\Hela_P035217_BA1_S00_A00_R11.raw for step calibrate_hdf succeeded. 61.50 %\n",
      "2022-12-03 20:42:08> Processing of F:/AP_Paper_Benchmark/PXD015087_Thermo\\Hela_P035217_BA1_S00_A00_R12.raw for step calibrate_hdf succeeded. 62.00 %\n"
     ]
    },
    {
     "name": "stderr",
     "output_type": "stream",
     "text": [
      "\r",
      " 62%|█████████████████████████████████████████████████▌                              | 0.62/1 [07:17<04:56, 780.61s/it]"
     ]
    },
    {
     "name": "stdout",
     "output_type": "stream",
     "text": [
      "2022-12-03 20:42:16> Processing of F:/AP_Paper_Benchmark/PXD015087_Thermo\\Hela_P035217_BA1_S00_A00_R13.raw for step calibrate_hdf succeeded. 62.50 %\n"
     ]
    },
    {
     "name": "stderr",
     "output_type": "stream",
     "text": [
      "\r",
      " 62%|█████████████████████████████████████████████████▍                             | 0.625/1 [07:25<05:48, 929.06s/it]"
     ]
    },
    {
     "name": "stdout",
     "output_type": "stream",
     "text": [
      "2022-12-03 20:42:18> Processing of F:/AP_Paper_Benchmark/PXD015087_Thermo\\Hela_P035217_BA1_S00_A00_R14.raw for step calibrate_hdf succeeded. 63.00 %\n"
     ]
    },
    {
     "name": "stderr",
     "output_type": "stream",
     "text": [
      "\r",
      " 63%|██████████████████████████████████████████████████▍                             | 0.63/1 [07:27<04:58, 807.24s/it]"
     ]
    },
    {
     "name": "stdout",
     "output_type": "stream",
     "text": [
      "2022-12-03 20:42:20> Processing of F:/AP_Paper_Benchmark/PXD015087_Thermo\\Hela_P035217_BA1_S00_A00_R15.raw for step calibrate_hdf succeeded. 63.50 %\n"
     ]
    },
    {
     "name": "stderr",
     "output_type": "stream",
     "text": [
      "\r",
      " 64%|██████████████████████████████████████████████████▏                            | 0.635/1 [07:29<04:21, 716.22s/it]"
     ]
    },
    {
     "name": "stdout",
     "output_type": "stream",
     "text": [
      "2022-12-03 20:42:26> Processing of F:/AP_Paper_Benchmark/PXD015087_Thermo\\Hela_P035217_BA1_S00_A00_R16.raw for step calibrate_hdf succeeded. 64.00 %\n"
     ]
    },
    {
     "name": "stderr",
     "output_type": "stream",
     "text": [
      "\r",
      " 64%|███████████████████████████████████████████████████▏                            | 0.64/1 [07:36<05:14, 873.84s/it]"
     ]
    },
    {
     "name": "stdout",
     "output_type": "stream",
     "text": [
      "2022-12-03 20:42:27> Processing of F:/AP_Paper_Benchmark/PXD015087_Thermo\\Hela_P035217_BA1_S00_A00_R17.raw for step calibrate_hdf succeeded. 64.50 %\n"
     ]
    },
    {
     "name": "stderr",
     "output_type": "stream",
     "text": [
      "\r",
      " 64%|██████████████████████████████████████████████████▉                            | 0.645/1 [07:36<03:59, 674.15s/it]"
     ]
    },
    {
     "name": "stdout",
     "output_type": "stream",
     "text": [
      "2022-12-03 20:42:27> Processing of F:/AP_Paper_Benchmark/PXD015087_Thermo\\Hela_P035217_BA1_S00_A00_R18.raw for step calibrate_hdf succeeded. 65.00 %\n",
      "2022-12-03 20:42:27> Processing of F:/AP_Paper_Benchmark/PXD015087_Thermo\\Hela_P035217_BA1_S00_A00_R19.raw for step calibrate_hdf succeeded. 65.50 %\n",
      "2022-12-03 20:42:30> Processing of F:/AP_Paper_Benchmark/PXD015087_Thermo\\Hela_P035217_BA1_S00_A00_R2.raw for step calibrate_hdf succeeded. 66.00 %\n"
     ]
    },
    {
     "name": "stderr",
     "output_type": "stream",
     "text": [
      "\r",
      " 66%|████████████████████████████████████████████████████▊                           | 0.66/1 [07:39<02:20, 412.24s/it]"
     ]
    },
    {
     "name": "stdout",
     "output_type": "stream",
     "text": [
      "2022-12-03 20:42:30> Processing of F:/AP_Paper_Benchmark/PXD015087_Thermo\\Hela_P035217_BA1_S00_A00_R20.raw for step calibrate_hdf succeeded. 66.50 %\n",
      "2022-12-03 20:42:30> Processing of F:/AP_Paper_Benchmark/PXD015087_Thermo\\Hela_P035217_BA1_S00_A00_R21.raw for step calibrate_hdf succeeded. 67.00 %\n",
      "2022-12-03 20:42:31> Processing of F:/AP_Paper_Benchmark/PXD015087_Thermo\\Hela_P035217_BA1_S00_A00_R3.raw for step calibrate_hdf succeeded. 67.50 %\n"
     ]
    },
    {
     "name": "stderr",
     "output_type": "stream",
     "text": [
      "\r",
      " 68%|█████████████████████████████████████████████████████▎                         | 0.675/1 [07:40<01:26, 265.65s/it]"
     ]
    },
    {
     "name": "stdout",
     "output_type": "stream",
     "text": [
      "2022-12-03 20:42:32> Processing of F:/AP_Paper_Benchmark/PXD015087_Thermo\\Hela_P035217_BA1_S00_A00_R5.raw for step calibrate_hdf succeeded. 68.00 %\n"
     ]
    },
    {
     "name": "stderr",
     "output_type": "stream",
     "text": [
      "\r",
      " 68%|██████████████████████████████████████████████████████▍                         | 0.68/1 [07:41<01:25, 266.34s/it]"
     ]
    },
    {
     "name": "stdout",
     "output_type": "stream",
     "text": [
      "2022-12-03 20:42:33> Processing of F:/AP_Paper_Benchmark/PXD015087_Thermo\\Hela_P035217_BA1_S00_A00_R6.raw for step calibrate_hdf succeeded. 68.50 %\n"
     ]
    },
    {
     "name": "stderr",
     "output_type": "stream",
     "text": [
      "\r",
      " 68%|██████████████████████████████████████████████████████                         | 0.685/1 [07:42<01:20, 256.64s/it]"
     ]
    },
    {
     "name": "stdout",
     "output_type": "stream",
     "text": [
      "2022-12-03 20:42:35> Processing of F:/AP_Paper_Benchmark/PXD015087_Thermo\\Hela_P035217_BA1_S00_A00_R7.raw for step calibrate_hdf succeeded. 69.00 %\n"
     ]
    },
    {
     "name": "stderr",
     "output_type": "stream",
     "text": [
      "\r",
      " 69%|███████████████████████████████████████████████████████▏                        | 0.69/1 [07:44<01:24, 271.07s/it]"
     ]
    },
    {
     "name": "stdout",
     "output_type": "stream",
     "text": [
      "2022-12-03 20:42:36> Processing of F:/AP_Paper_Benchmark/PXD015087_Thermo\\Hela_P035217_BA1_S00_A00_R8.raw for step calibrate_hdf succeeded. 69.50 %\n"
     ]
    },
    {
     "name": "stderr",
     "output_type": "stream",
     "text": [
      "\r",
      " 70%|██████████████████████████████████████████████████████▉                        | 0.695/1 [07:45<01:12, 237.12s/it]"
     ]
    },
    {
     "name": "stdout",
     "output_type": "stream",
     "text": [
      "2022-12-03 20:42:36> Processing of F:/AP_Paper_Benchmark/PXD015087_Thermo\\Hela_P035217_BA1_S00_A00_R9.raw for step calibrate_hdf succeeded. 70.00 %\n",
      "2022-12-03 20:42:37> Processing of F:/AP_Paper_Benchmark/PXD015087_Thermo\\Hela_P035218_BA1_S00_A00_R1.raw for step calibrate_hdf succeeded. 70.50 %\n"
     ]
    },
    {
     "name": "stderr",
     "output_type": "stream",
     "text": [
      "\r",
      " 70%|███████████████████████████████████████████████████████▋                       | 0.705/1 [07:46<00:55, 189.67s/it]"
     ]
    },
    {
     "name": "stdout",
     "output_type": "stream",
     "text": [
      "2022-12-03 20:42:41> Processing of F:/AP_Paper_Benchmark/PXD015087_Thermo\\Hela_P035218_BA1_S00_A00_R10.raw for step calibrate_hdf succeeded. 71.00 %\n"
     ]
    },
    {
     "name": "stderr",
     "output_type": "stream",
     "text": [
      "\r",
      " 71%|████████████████████████████████████████████████████████▊                       | 0.71/1 [07:50<01:33, 323.18s/it]"
     ]
    },
    {
     "name": "stdout",
     "output_type": "stream",
     "text": [
      "2022-12-03 20:42:41> Processing of F:/AP_Paper_Benchmark/PXD015087_Thermo\\Hela_P035218_BA1_S00_A00_R11.raw for step calibrate_hdf succeeded. 71.50 %\n"
     ]
    },
    {
     "name": "stderr",
     "output_type": "stream",
     "text": [
      "\r",
      " 72%|████████████████████████████████████████████████████████▍                      | 0.715/1 [07:50<01:12, 252.76s/it]"
     ]
    },
    {
     "name": "stdout",
     "output_type": "stream",
     "text": [
      "2022-12-03 20:42:42> Processing of F:/AP_Paper_Benchmark/PXD015087_Thermo\\Hela_P035218_BA1_S00_A00_R12.raw for step calibrate_hdf succeeded. 72.00 %\n"
     ]
    },
    {
     "name": "stderr",
     "output_type": "stream",
     "text": [
      "\r",
      " 72%|█████████████████████████████████████████████████████████▌                      | 0.72/1 [07:51<01:10, 252.11s/it]"
     ]
    },
    {
     "name": "stdout",
     "output_type": "stream",
     "text": [
      "2022-12-03 20:43:01> Processing of F:/AP_Paper_Benchmark/PXD015087_Thermo\\Hela_P035218_BA1_S00_A00_R13.raw for step calibrate_hdf succeeded. 72.50 %\n"
     ]
    },
    {
     "name": "stderr",
     "output_type": "stream",
     "text": [
      "\r",
      " 72%|████████████████████████████████████████████████████████▌                     | 0.725/1 [08:10<05:33, 1211.46s/it]"
     ]
    },
    {
     "name": "stdout",
     "output_type": "stream",
     "text": [
      "2022-12-03 20:43:08> Processing of F:/AP_Paper_Benchmark/PXD015087_Thermo\\Hela_P035218_BA1_S00_A00_R14.raw for step calibrate_hdf succeeded. 73.00 %\n"
     ]
    },
    {
     "name": "stderr",
     "output_type": "stream",
     "text": [
      "\r",
      " 73%|█████████████████████████████████████████████████████████▋                     | 0.73/1 [08:17<05:40, 1261.11s/it]"
     ]
    },
    {
     "name": "stdout",
     "output_type": "stream",
     "text": [
      "2022-12-03 20:43:11> Processing of F:/AP_Paper_Benchmark/PXD015087_Thermo\\Hela_P035218_BA1_S00_A00_R15.raw for step calibrate_hdf succeeded. 73.50 %\n"
     ]
    },
    {
     "name": "stderr",
     "output_type": "stream",
     "text": [
      "\r",
      " 74%|█████████████████████████████████████████████████████████▎                    | 0.735/1 [08:20<04:44, 1075.34s/it]"
     ]
    },
    {
     "name": "stdout",
     "output_type": "stream",
     "text": [
      "2022-12-03 20:43:16> Processing of F:/AP_Paper_Benchmark/PXD015087_Thermo\\Hela_P035218_BA1_S00_A00_R16.raw for step calibrate_hdf succeeded. 74.00 %\n"
     ]
    },
    {
     "name": "stderr",
     "output_type": "stream",
     "text": [
      "\r",
      " 74%|██████████████████████████████████████████████████████████▍                    | 0.74/1 [08:25<04:22, 1011.35s/it]"
     ]
    },
    {
     "name": "stdout",
     "output_type": "stream",
     "text": [
      "2022-12-03 20:43:23> Processing of F:/AP_Paper_Benchmark/PXD015087_Thermo\\Hela_P035218_BA1_S00_A00_R17.raw for step calibrate_hdf succeeded. 74.50 %\n"
     ]
    },
    {
     "name": "stderr",
     "output_type": "stream",
     "text": [
      "\r",
      " 74%|██████████████████████████████████████████████████████████                    | 0.745/1 [08:32<04:50, 1137.31s/it]"
     ]
    },
    {
     "name": "stdout",
     "output_type": "stream",
     "text": [
      "2022-12-03 20:43:25> Processing of F:/AP_Paper_Benchmark/PXD015087_Thermo\\Hela_P035218_BA1_S00_A00_R18.raw for step calibrate_hdf succeeded. 75.00 %\n"
     ]
    },
    {
     "name": "stderr",
     "output_type": "stream",
     "text": [
      "\r",
      " 75%|████████████████████████████████████████████████████████████                    | 0.75/1 [08:34<03:46, 907.81s/it]"
     ]
    },
    {
     "name": "stdout",
     "output_type": "stream",
     "text": [
      "2022-12-03 20:43:26> Processing of F:/AP_Paper_Benchmark/PXD015087_Thermo\\Hela_P035218_BA1_S00_A00_R19.raw for step calibrate_hdf succeeded. 75.50 %\n"
     ]
    },
    {
     "name": "stderr",
     "output_type": "stream",
     "text": [
      "\r",
      " 76%|███████████████████████████████████████████████████████████▋                   | 0.755/1 [08:35<02:52, 704.65s/it]"
     ]
    },
    {
     "name": "stdout",
     "output_type": "stream",
     "text": [
      "2022-12-03 20:43:30> Processing of F:/AP_Paper_Benchmark/PXD015087_Thermo\\Hela_P035218_BA1_S00_A00_R2.raw for step calibrate_hdf succeeded. 76.00 %\n"
     ]
    },
    {
     "name": "stderr",
     "output_type": "stream",
     "text": [
      "\r",
      " 76%|████████████████████████████████████████████████████████████▊                   | 0.76/1 [08:39<02:58, 743.86s/it]"
     ]
    },
    {
     "name": "stdout",
     "output_type": "stream",
     "text": [
      "2022-12-03 20:43:30> Processing of F:/AP_Paper_Benchmark/PXD015087_Thermo\\Hela_P035218_BA1_S00_A00_R20.raw for step calibrate_hdf succeeded. 76.50 %\n",
      "2022-12-03 20:43:30> Processing of F:/AP_Paper_Benchmark/PXD015087_Thermo\\Hela_P035218_BA1_S00_A00_R3.raw for step calibrate_hdf succeeded. 77.00 %\n",
      "2022-12-03 20:43:30> Processing of F:/AP_Paper_Benchmark/PXD015087_Thermo\\Hela_P035218_BA1_S00_A00_R4.raw for step calibrate_hdf succeeded. 77.50 %\n",
      "2022-12-03 20:43:32> Processing of F:/AP_Paper_Benchmark/PXD015087_Thermo\\Hela_P035218_BA1_S00_A00_R5.raw for step calibrate_hdf succeeded. 78.00 %\n"
     ]
    },
    {
     "name": "stderr",
     "output_type": "stream",
     "text": [
      "\r",
      " 78%|██████████████████████████████████████████████████████████████▍                 | 0.78/1 [08:41<01:17, 352.00s/it]"
     ]
    },
    {
     "name": "stdout",
     "output_type": "stream",
     "text": [
      "2022-12-03 20:43:32> Processing of F:/AP_Paper_Benchmark/PXD015087_Thermo\\Hela_P035218_BA1_S00_A00_R6.raw for step calibrate_hdf succeeded. 78.50 %\n",
      "2022-12-03 20:43:35> Processing of F:/AP_Paper_Benchmark/PXD015087_Thermo\\Hela_P035218_BA1_S00_A00_R7.raw for step calibrate_hdf succeeded. 79.00 %\n"
     ]
    },
    {
     "name": "stderr",
     "output_type": "stream",
     "text": [
      "\r",
      " 79%|███████████████████████████████████████████████████████████████▏                | 0.79/1 [08:44<01:09, 333.08s/it]"
     ]
    },
    {
     "name": "stdout",
     "output_type": "stream",
     "text": [
      "2022-12-03 20:43:37> Processing of F:/AP_Paper_Benchmark/PXD015087_Thermo\\Hela_P035218_BA1_S00_A00_R8.raw for step calibrate_hdf succeeded. 79.50 %\n"
     ]
    },
    {
     "name": "stderr",
     "output_type": "stream",
     "text": [
      "\r",
      " 80%|██████████████████████████████████████████████████████████████▊                | 0.795/1 [08:46<01:08, 332.23s/it]"
     ]
    },
    {
     "name": "stdout",
     "output_type": "stream",
     "text": [
      "2022-12-03 20:43:37> Processing of F:/AP_Paper_Benchmark/PXD015087_Thermo\\Hela_P035218_BA1_S00_A00_R9.raw for step calibrate_hdf succeeded. 80.00 %\n",
      "2022-12-03 20:43:37> Processing of F:/AP_Paper_Benchmark/PXD015087_Thermo\\Hela_P035219_BA1_S00_A00_R1.raw for step calibrate_hdf succeeded. 80.50 %\n",
      "2022-12-03 20:43:37> Processing of F:/AP_Paper_Benchmark/PXD015087_Thermo\\Hela_P035219_BA1_S00_A00_R10.raw for step calibrate_hdf succeeded. 81.00 %\n",
      "2022-12-03 20:43:37> Processing of F:/AP_Paper_Benchmark/PXD015087_Thermo\\Hela_P035219_BA1_S00_A00_R11.raw for step calibrate_hdf succeeded. 81.50 %\n",
      "2022-12-03 20:43:37> Processing of F:/AP_Paper_Benchmark/PXD015087_Thermo\\Hela_P035219_BA1_S00_A00_R12.raw for step calibrate_hdf succeeded. 82.00 %\n",
      "2022-12-03 20:43:37> Processing of F:/AP_Paper_Benchmark/PXD015087_Thermo\\Hela_P035219_BA1_S00_A00_R13.raw for step calibrate_hdf succeeded. 82.50 %\n",
      "2022-12-03 20:43:37> Processing of F:/AP_Paper_Benchmark/PXD015087_Thermo\\Hela_P035219_BA1_S00_A00_R14.raw for step calibrate_hdf succeeded. 83.00 %\n",
      "2022-12-03 20:43:37> Processing of F:/AP_Paper_Benchmark/PXD015087_Thermo\\Hela_P035219_BA1_S00_A00_R15.raw for step calibrate_hdf succeeded. 83.50 %\n",
      "2022-12-03 20:43:37> Processing of F:/AP_Paper_Benchmark/PXD015087_Thermo\\Hela_P035219_BA1_S00_A00_R16.raw for step calibrate_hdf succeeded. 84.00 %\n",
      "2022-12-03 20:43:56> Processing of F:/AP_Paper_Benchmark/PXD015087_Thermo\\Hela_P035219_BA1_S00_A00_R17.raw for step calibrate_hdf succeeded. 84.50 %\n"
     ]
    },
    {
     "name": "stderr",
     "output_type": "stream",
     "text": [
      "\r",
      " 84%|██████████████████████████████████████████████████████████████████▊            | 0.845/1 [09:05<00:56, 364.34s/it]"
     ]
    },
    {
     "name": "stdout",
     "output_type": "stream",
     "text": [
      "2022-12-03 20:44:05> Processing of F:/AP_Paper_Benchmark/PXD015087_Thermo\\Hela_P035219_BA1_S00_A00_R18.raw for step calibrate_hdf succeeded. 85.00 %\n"
     ]
    },
    {
     "name": "stderr",
     "output_type": "stream",
     "text": [
      "\r",
      " 85%|████████████████████████████████████████████████████████████████████            | 0.85/1 [09:14<01:15, 503.40s/it]"
     ]
    },
    {
     "name": "stdout",
     "output_type": "stream",
     "text": [
      "2022-12-03 20:44:08> Processing of F:/AP_Paper_Benchmark/PXD015087_Thermo\\Hela_P035219_BA1_S00_A00_R19.raw for step calibrate_hdf succeeded. 85.50 %\n"
     ]
    },
    {
     "name": "stderr",
     "output_type": "stream",
     "text": [
      "\r",
      " 86%|███████████████████████████████████████████████████████████████████▌           | 0.855/1 [09:17<01:13, 510.28s/it]"
     ]
    },
    {
     "name": "stdout",
     "output_type": "stream",
     "text": [
      "2022-12-03 20:44:11> Processing of F:/AP_Paper_Benchmark/PXD015087_Thermo\\Hela_P035219_BA1_S00_A00_R2.raw for step calibrate_hdf succeeded. 86.00 %\n"
     ]
    },
    {
     "name": "stderr",
     "output_type": "stream",
     "text": [
      "\r",
      " 86%|████████████████████████████████████████████████████████████████████▊           | 0.86/1 [09:20<01:13, 523.50s/it]"
     ]
    },
    {
     "name": "stdout",
     "output_type": "stream",
     "text": [
      "2022-12-03 20:44:17> Processing of F:/AP_Paper_Benchmark/PXD015087_Thermo\\Hela_P035219_BA1_S00_A00_R20.raw for step calibrate_hdf succeeded. 86.50 %\n"
     ]
    },
    {
     "name": "stderr",
     "output_type": "stream",
     "text": [
      "\r",
      " 86%|████████████████████████████████████████████████████████████████████▎          | 0.865/1 [09:26<01:27, 650.63s/it]"
     ]
    },
    {
     "name": "stdout",
     "output_type": "stream",
     "text": [
      "2022-12-03 20:44:20> Processing of F:/AP_Paper_Benchmark/PXD015087_Thermo\\Hela_P035219_BA1_S00_A00_R3.raw for step calibrate_hdf succeeded. 87.00 %\n"
     ]
    },
    {
     "name": "stderr",
     "output_type": "stream",
     "text": [
      "\r",
      " 87%|█████████████████████████████████████████████████████████████████████▌          | 0.87/1 [09:29<01:21, 628.73s/it]"
     ]
    },
    {
     "name": "stdout",
     "output_type": "stream",
     "text": [
      "2022-12-03 20:44:20> Processing of F:/AP_Paper_Benchmark/PXD015087_Thermo\\Hela_P035219_BA1_S00_A00_R4.raw for step calibrate_hdf succeeded. 87.50 %\n",
      "2022-12-03 20:44:20> Processing of F:/AP_Paper_Benchmark/PXD015087_Thermo\\Hela_P035219_BA1_S00_A00_R5.raw for step calibrate_hdf succeeded. 88.00 %\n"
     ]
    },
    {
     "name": "stderr",
     "output_type": "stream",
     "text": [
      "\r",
      " 88%|██████████████████████████████████████████████████████████████████████▍         | 0.88/1 [09:29<00:50, 421.20s/it]"
     ]
    },
    {
     "name": "stdout",
     "output_type": "stream",
     "text": [
      "2022-12-03 20:44:20> Processing of F:/AP_Paper_Benchmark/PXD015087_Thermo\\Hela_P035219_BA1_S00_A00_R6.raw for step calibrate_hdf succeeded. 88.50 %\n",
      "2022-12-03 20:44:20> Processing of F:/AP_Paper_Benchmark/PXD015087_Thermo\\Hela_P035219_BA1_S00_A00_R7.raw for step calibrate_hdf succeeded. 89.00 %\n",
      "2022-12-03 20:44:22> Processing of F:/AP_Paper_Benchmark/PXD015087_Thermo\\Hela_P035219_BA1_S00_A00_R8.raw for step calibrate_hdf succeeded. 89.50 %\n"
     ]
    },
    {
     "name": "stderr",
     "output_type": "stream",
     "text": [
      "\r",
      " 90%|██████████████████████████████████████████████████████████████████████▋        | 0.895/1 [09:31<00:31, 299.45s/it]"
     ]
    },
    {
     "name": "stdout",
     "output_type": "stream",
     "text": [
      "2022-12-03 20:44:22> Processing of F:/AP_Paper_Benchmark/PXD015087_Thermo\\Hela_P035219_BA1_S00_A00_R9.raw for step calibrate_hdf succeeded. 90.00 %\n",
      "2022-12-03 20:44:22> Processing of F:/AP_Paper_Benchmark/PXD015087_Thermo\\March_Hela_P035212_BA1_S00_A00_R1.raw for step calibrate_hdf succeeded. 90.50 %\n",
      "2022-12-03 20:44:22> Processing of F:/AP_Paper_Benchmark/PXD015087_Thermo\\March_Hela_P035212_BA1_S00_A00_R10.raw for step calibrate_hdf succeeded. 91.00 %\n",
      "2022-12-03 20:44:22> Processing of F:/AP_Paper_Benchmark/PXD015087_Thermo\\March_Hela_P035212_BA1_S00_A00_R11.raw for step calibrate_hdf succeeded. 91.50 %\n",
      "2022-12-03 20:44:22> Processing of F:/AP_Paper_Benchmark/PXD015087_Thermo\\March_Hela_P035212_BA1_S00_A00_R12.raw for step calibrate_hdf succeeded. 92.00 %\n",
      "2022-12-03 20:44:22> Processing of F:/AP_Paper_Benchmark/PXD015087_Thermo\\March_Hela_P035212_BA1_S00_A00_R13.raw for step calibrate_hdf succeeded. 92.50 %\n",
      "2022-12-03 20:44:22> Processing of F:/AP_Paper_Benchmark/PXD015087_Thermo\\March_Hela_P035212_BA1_S00_A00_R14.raw for step calibrate_hdf succeeded. 93.00 %\n",
      "2022-12-03 20:44:22> Processing of F:/AP_Paper_Benchmark/PXD015087_Thermo\\March_Hela_P035212_BA1_S00_A00_R15.raw for step calibrate_hdf succeeded. 93.50 %\n",
      "2022-12-03 20:44:22> Processing of F:/AP_Paper_Benchmark/PXD015087_Thermo\\March_Hela_P035212_BA1_S00_A00_R16.raw for step calibrate_hdf succeeded. 94.00 %\n",
      "2022-12-03 20:44:22> Processing of F:/AP_Paper_Benchmark/PXD015087_Thermo\\March_Hela_P035212_BA1_S00_A00_R17.raw for step calibrate_hdf succeeded. 94.50 %\n",
      "2022-12-03 20:44:22> Processing of F:/AP_Paper_Benchmark/PXD015087_Thermo\\March_Hela_P035212_BA1_S00_A00_R18.raw for step calibrate_hdf succeeded. 95.00 %\n",
      "2022-12-03 20:44:22> Processing of F:/AP_Paper_Benchmark/PXD015087_Thermo\\March_Hela_P035212_BA1_S00_A00_R19.raw for step calibrate_hdf succeeded. 95.50 %\n",
      "2022-12-03 20:44:22> Processing of F:/AP_Paper_Benchmark/PXD015087_Thermo\\March_Hela_P035212_BA1_S00_A00_R2.raw for step calibrate_hdf succeeded. 96.00 %\n",
      "2022-12-03 20:44:22> Processing of F:/AP_Paper_Benchmark/PXD015087_Thermo\\March_Hela_P035212_BA1_S00_A00_R20.raw for step calibrate_hdf succeeded. 96.50 %\n",
      "2022-12-03 20:44:23> Processing of F:/AP_Paper_Benchmark/PXD015087_Thermo\\March_Hela_P035212_BA1_S00_A00_R3.raw for step calibrate_hdf succeeded. 97.00 %\n"
     ]
    },
    {
     "name": "stderr",
     "output_type": "stream",
     "text": [
      "\r",
      " 97%|██████████████████████████████████████████████████████████████████████████████▌  | 0.97/1 [09:32<00:02, 80.17s/it]"
     ]
    },
    {
     "name": "stdout",
     "output_type": "stream",
     "text": [
      "2022-12-03 20:44:23> Processing of F:/AP_Paper_Benchmark/PXD015087_Thermo\\March_Hela_P035212_BA1_S00_A00_R4.raw for step calibrate_hdf succeeded. 97.50 %\n",
      "2022-12-03 20:44:23> Processing of F:/AP_Paper_Benchmark/PXD015087_Thermo\\March_Hela_P035212_BA1_S00_A00_R5.raw for step calibrate_hdf succeeded. 98.00 %\n",
      "2022-12-03 20:44:24> Processing of F:/AP_Paper_Benchmark/PXD015087_Thermo\\March_Hela_P035212_BA1_S00_A00_R6.raw for step calibrate_hdf succeeded. 98.50 %\n"
     ]
    },
    {
     "name": "stderr",
     "output_type": "stream",
     "text": [
      "\r",
      " 98%|██████████████████████████████████████████████████████████████████████████████▊ | 0.985/1 [09:33<00:01, 76.42s/it]"
     ]
    },
    {
     "name": "stdout",
     "output_type": "stream",
     "text": [
      "2022-12-03 20:44:24> Processing of F:/AP_Paper_Benchmark/PXD015087_Thermo\\March_Hela_P035212_BA1_S00_A00_R7.raw for step calibrate_hdf succeeded. 99.00 %\n"
     ]
    },
    {
     "name": "stderr",
     "output_type": "stream",
     "text": [
      "\r",
      " 99%|████████████████████████████████████████████████████████████████████████████████▏| 0.99/1 [09:33<00:00, 73.83s/it]"
     ]
    },
    {
     "name": "stdout",
     "output_type": "stream",
     "text": [
      "2022-12-03 20:44:25> Processing of F:/AP_Paper_Benchmark/PXD015087_Thermo\\March_Hela_P035212_BA1_S00_A00_R8.raw for step calibrate_hdf succeeded. 99.50 %\n"
     ]
    },
    {
     "name": "stderr",
     "output_type": "stream",
     "text": [
      "\r",
      "100%|███████████████████████████████████████████████████████████████████████████████▌| 0.995/1 [09:34<00:00, 72.78s/it]"
     ]
    },
    {
     "name": "stdout",
     "output_type": "stream",
     "text": [
      "2022-12-03 20:44:26> Processing of F:/AP_Paper_Benchmark/PXD015087_Thermo\\March_Hela_P035212_BA1_S00_A00_R9.raw for step calibrate_hdf succeeded. 100.00 %\n"
     ]
    },
    {
     "name": "stderr",
     "output_type": "stream",
     "text": [
      "100%|█████████████████████████████████████████████████████████████████████████████████| 1.0/1 [09:36<00:00, 576.31s/it]"
     ]
    },
    {
     "name": "stdout",
     "output_type": "stream",
     "text": [
      "2022-12-03 20:44:27> ==== search_data ====\n"
     ]
    },
    {
     "name": "stderr",
     "output_type": "stream",
     "text": [
      "\n",
      "  0%|                                                                                            | 0/1 [00:00<?, ?it/s]"
     ]
    },
    {
     "name": "stdout",
     "output_type": "stream",
     "text": [
      "2022-12-03 20:44:27> Starting second search with DB.\n",
      "2022-12-03 20:44:27> Processing 200 files for step search_db\n",
      "2022-12-03 20:44:27> Searching. Setting Process limit to 14.\n",
      "2022-12-03 20:44:27> AlphaPool was set to 14 processes. Setting max to 14.\n",
      "2022-12-03 20:45:02> Processing of F:/AP_Paper_Benchmark/PXD015087_Thermo\\Hela_P035210_BA1_S00_A00_R1.raw for step search_db succeeded. 0.50 %\n"
     ]
    },
    {
     "name": "stderr",
     "output_type": "stream",
     "text": [
      "\r",
      "  0%|▍                                                                           | 0.005/1 [00:34<1:55:49, 6984.33s/it]"
     ]
    },
    {
     "name": "stdout",
     "output_type": "stream",
     "text": [
      "2022-12-03 20:45:02> Processing of F:/AP_Paper_Benchmark/PXD015087_Thermo\\Hela_P035210_BA1_S00_A00_R10.raw for step search_db succeeded. 1.00 %\n",
      "2022-12-03 20:45:02> Processing of F:/AP_Paper_Benchmark/PXD015087_Thermo\\Hela_P035210_BA1_S00_A00_R11.raw for step search_db succeeded. 1.50 %\n",
      "2022-12-03 20:45:02> Processing of F:/AP_Paper_Benchmark/PXD015087_Thermo\\Hela_P035210_BA1_S00_A00_R12.raw for step search_db succeeded. 2.00 %\n"
     ]
    },
    {
     "name": "stderr",
     "output_type": "stream",
     "text": [
      "\r",
      "  2%|█▌                                                                             | 0.02/1 [00:35<22:06, 1353.61s/it]"
     ]
    },
    {
     "name": "stdout",
     "output_type": "stream",
     "text": [
      "2022-12-03 20:45:03> Processing of F:/AP_Paper_Benchmark/PXD015087_Thermo\\Hela_P035210_BA1_S00_A00_R13.raw for step search_db succeeded. 2.50 %\n"
     ]
    },
    {
     "name": "stderr",
     "output_type": "stream",
     "text": [
      "\r",
      "  2%|█▉                                                                            | 0.025/1 [00:36<16:28, 1014.03s/it]"
     ]
    },
    {
     "name": "stdout",
     "output_type": "stream",
     "text": [
      "2022-12-03 20:45:03> Processing of F:/AP_Paper_Benchmark/PXD015087_Thermo\\Hela_P035210_BA1_S00_A00_R14.raw for step search_db succeeded. 3.00 %\n",
      "2022-12-03 20:45:03> Processing of F:/AP_Paper_Benchmark/PXD015087_Thermo\\Hela_P035210_BA1_S00_A00_R15.raw for step search_db succeeded. 3.50 %\n",
      "2022-12-03 20:45:03> Processing of F:/AP_Paper_Benchmark/PXD015087_Thermo\\Hela_P035210_BA1_S00_A00_R16.raw for step search_db succeeded. 4.00 %\n",
      "2022-12-03 20:45:03> Processing of F:/AP_Paper_Benchmark/PXD015087_Thermo\\Hela_P035210_BA1_S00_A00_R17.raw for step search_db succeeded. 4.50 %\n",
      "2022-12-03 20:45:03> Processing of F:/AP_Paper_Benchmark/PXD015087_Thermo\\Hela_P035210_BA1_S00_A00_R18.raw for step search_db succeeded. 5.00 %\n",
      "2022-12-03 20:45:03> Processing of F:/AP_Paper_Benchmark/PXD015087_Thermo\\Hela_P035210_BA1_S00_A00_R19.raw for step search_db succeeded. 5.50 %\n",
      "2022-12-03 20:45:03> Processing of F:/AP_Paper_Benchmark/PXD015087_Thermo\\Hela_P035210_BA1_S00_A00_R2.raw for step search_db succeeded. 6.00 %\n",
      "2022-12-03 20:45:03> Processing of F:/AP_Paper_Benchmark/PXD015087_Thermo\\Hela_P035210_BA1_S00_A00_R20.raw for step search_db succeeded. 6.50 %\n",
      "2022-12-03 20:45:03> Processing of F:/AP_Paper_Benchmark/PXD015087_Thermo\\Hela_P035210_BA1_S00_A00_R3.raw for step search_db succeeded. 7.00 %\n"
     ]
    },
    {
     "name": "stderr",
     "output_type": "stream",
     "text": [
      "\r",
      "  7%|█████▌                                                                          | 0.07/1 [00:36<03:31, 227.14s/it]"
     ]
    },
    {
     "name": "stdout",
     "output_type": "stream",
     "text": [
      "2022-12-03 20:45:16> Processing of F:/AP_Paper_Benchmark/PXD015087_Thermo\\Hela_P035210_BA1_S00_A00_R4.raw for step search_db succeeded. 7.50 %\n",
      "2022-12-03 20:45:18> Processing of F:/AP_Paper_Benchmark/PXD015087_Thermo\\Hela_P035210_BA1_S00_A00_R5.raw for step search_db succeeded. 8.00 %\n"
     ]
    },
    {
     "name": "stderr",
     "output_type": "stream",
     "text": [
      "\r",
      "  8%|██████▍                                                                         | 0.08/1 [00:50<07:09, 466.92s/it]"
     ]
    },
    {
     "name": "stdout",
     "output_type": "stream",
     "text": [
      "2022-12-03 20:45:18> Processing of F:/AP_Paper_Benchmark/PXD015087_Thermo\\Hela_P035210_BA1_S00_A00_R6.raw for step search_db succeeded. 8.50 %\n",
      "2022-12-03 20:45:19> Processing of F:/AP_Paper_Benchmark/PXD015087_Thermo\\Hela_P035210_BA1_S00_A00_R7.raw for step search_db succeeded. 9.00 %\n"
     ]
    },
    {
     "name": "stderr",
     "output_type": "stream",
     "text": [
      "\r",
      "  9%|███████▏                                                                        | 0.09/1 [00:52<06:00, 396.00s/it]"
     ]
    },
    {
     "name": "stdout",
     "output_type": "stream",
     "text": [
      "2022-12-03 20:45:19> Processing of F:/AP_Paper_Benchmark/PXD015087_Thermo\\Hela_P035210_BA1_S00_A00_R8.raw for step search_db succeeded. 9.50 %\n",
      "2022-12-03 20:45:21> Processing of F:/AP_Paper_Benchmark/PXD015087_Thermo\\Hela_P035210_BA1_S00_A00_R9.raw for step search_db succeeded. 10.00 %\n"
     ]
    },
    {
     "name": "stderr",
     "output_type": "stream",
     "text": [
      "\r",
      " 10%|████████                                                                         | 0.1/1 [00:54<05:08, 342.84s/it]"
     ]
    },
    {
     "name": "stdout",
     "output_type": "stream",
     "text": [
      "2022-12-03 20:45:22> Processing of F:/AP_Paper_Benchmark/PXD015087_Thermo\\Hela_P035211_BA1_S00_A00_R1.raw for step search_db succeeded. 10.50 %\n"
     ]
    },
    {
     "name": "stderr",
     "output_type": "stream",
     "text": [
      "\r",
      " 10%|████████▎                                                                      | 0.105/1 [00:54<04:44, 317.43s/it]"
     ]
    },
    {
     "name": "stdout",
     "output_type": "stream",
     "text": [
      "2022-12-03 20:45:22> Processing of F:/AP_Paper_Benchmark/PXD015087_Thermo\\Hela_P035211_BA1_S00_A00_R10.raw for step search_db succeeded. 11.00 %\n",
      "2022-12-03 20:45:22> Processing of F:/AP_Paper_Benchmark/PXD015087_Thermo\\Hela_P035211_BA1_S00_A00_R11.raw for step search_db succeeded. 11.50 %\n"
     ]
    },
    {
     "name": "stderr",
     "output_type": "stream",
     "text": [
      "\r",
      " 12%|█████████                                                                      | 0.115/1 [00:55<03:20, 226.78s/it]"
     ]
    },
    {
     "name": "stdout",
     "output_type": "stream",
     "text": [
      "2022-12-03 20:45:22> Processing of F:/AP_Paper_Benchmark/PXD015087_Thermo\\Hela_P035211_BA1_S00_A00_R12.raw for step search_db succeeded. 12.00 %\n",
      "2022-12-03 20:45:22> Processing of F:/AP_Paper_Benchmark/PXD015087_Thermo\\Hela_P035211_BA1_S00_A00_R13.raw for step search_db succeeded. 12.50 %\n",
      "2022-12-03 20:45:22> Processing of F:/AP_Paper_Benchmark/PXD015087_Thermo\\Hela_P035211_BA1_S00_A00_R14.raw for step search_db succeeded. 13.00 %\n",
      "2022-12-03 20:45:22> Processing of F:/AP_Paper_Benchmark/PXD015087_Thermo\\Hela_P035211_BA1_S00_A00_R15.raw for step search_db succeeded. 13.50 %\n",
      "2022-12-03 20:45:22> Processing of F:/AP_Paper_Benchmark/PXD015087_Thermo\\Hela_P035211_BA1_S00_A00_R16.raw for step search_db succeeded. 14.00 %\n",
      "2022-12-03 20:45:34> Processing of F:/AP_Paper_Benchmark/PXD015087_Thermo\\Hela_P035211_BA1_S00_A00_R17.raw for step search_db succeeded. 14.50 %\n"
     ]
    },
    {
     "name": "stderr",
     "output_type": "stream",
     "text": [
      "\r",
      " 14%|███████████▍                                                                   | 0.145/1 [01:07<04:44, 332.44s/it]"
     ]
    },
    {
     "name": "stdout",
     "output_type": "stream",
     "text": [
      "2022-12-03 20:45:35> Processing of F:/AP_Paper_Benchmark/PXD015087_Thermo\\Hela_P035211_BA1_S00_A00_R18.raw for step search_db succeeded. 15.00 %\n"
     ]
    },
    {
     "name": "stderr",
     "output_type": "stream",
     "text": [
      "\r",
      " 15%|████████████                                                                    | 0.15/1 [01:08<04:25, 312.56s/it]"
     ]
    },
    {
     "name": "stdout",
     "output_type": "stream",
     "text": [
      "2022-12-03 20:45:35> Processing of F:/AP_Paper_Benchmark/PXD015087_Thermo\\Hela_P035211_BA1_S00_A00_R19.raw for step search_db succeeded. 15.50 %\n"
     ]
    },
    {
     "name": "stderr",
     "output_type": "stream",
     "text": [
      "\r",
      " 16%|████████████▏                                                                  | 0.155/1 [01:08<03:48, 270.58s/it]"
     ]
    },
    {
     "name": "stdout",
     "output_type": "stream",
     "text": [
      "2022-12-03 20:45:36> Processing of F:/AP_Paper_Benchmark/PXD015087_Thermo\\Hela_P035211_BA1_S00_A00_R2.raw for step search_db succeeded. 16.00 %\n"
     ]
    },
    {
     "name": "stderr",
     "output_type": "stream",
     "text": [
      "\r",
      " 16%|████████████▊                                                                   | 0.16/1 [01:09<03:42, 265.00s/it]"
     ]
    },
    {
     "name": "stdout",
     "output_type": "stream",
     "text": [
      "2022-12-03 20:45:36> Processing of F:/AP_Paper_Benchmark/PXD015087_Thermo\\Hela_P035211_BA1_S00_A00_R20.raw for step search_db succeeded. 16.50 %\n",
      "2022-12-03 20:45:38> Processing of F:/AP_Paper_Benchmark/PXD015087_Thermo\\Hela_P035211_BA1_S00_A00_R3.raw for step search_db succeeded. 17.00 %\n"
     ]
    },
    {
     "name": "stderr",
     "output_type": "stream",
     "text": [
      "\r",
      " 17%|█████████████▌                                                                  | 0.17/1 [01:11<03:09, 228.81s/it]"
     ]
    },
    {
     "name": "stdout",
     "output_type": "stream",
     "text": [
      "2022-12-03 20:45:39> Processing of F:/AP_Paper_Benchmark/PXD015087_Thermo\\Hela_P035211_BA1_S00_A00_R4.raw for step search_db succeeded. 17.50 %\n"
     ]
    },
    {
     "name": "stderr",
     "output_type": "stream",
     "text": [
      "\r",
      " 18%|█████████████▊                                                                 | 0.175/1 [01:12<03:19, 241.90s/it]"
     ]
    },
    {
     "name": "stdout",
     "output_type": "stream",
     "text": [
      "2022-12-03 20:45:39> Processing of F:/AP_Paper_Benchmark/PXD015087_Thermo\\Hela_P035211_BA1_S00_A00_R5.raw for step search_db succeeded. 18.00 %\n",
      "2022-12-03 20:45:41> Processing of F:/AP_Paper_Benchmark/PXD015087_Thermo\\Hela_P035211_BA1_S00_A00_R6.raw for step search_db succeeded. 18.50 %\n"
     ]
    },
    {
     "name": "stderr",
     "output_type": "stream",
     "text": [
      "\r",
      " 18%|██████████████▌                                                                | 0.185/1 [01:14<03:02, 224.16s/it]"
     ]
    },
    {
     "name": "stdout",
     "output_type": "stream",
     "text": [
      "2022-12-03 20:45:41> Processing of F:/AP_Paper_Benchmark/PXD015087_Thermo\\Hela_P035211_BA1_S00_A00_R7.raw for step search_db succeeded. 19.00 %\n",
      "2022-12-03 20:45:41> Processing of F:/AP_Paper_Benchmark/PXD015087_Thermo\\Hela_P035211_BA1_S00_A00_R8.raw for step search_db succeeded. 19.50 %\n",
      "2022-12-03 20:45:41> Processing of F:/AP_Paper_Benchmark/PXD015087_Thermo\\Hela_P035211_BA1_S00_A00_R9.raw for step search_db succeeded. 20.00 %\n",
      "2022-12-03 20:45:41> Processing of F:/AP_Paper_Benchmark/PXD015087_Thermo\\Hela_P035213_BA1_S00_A00_R1.raw for step search_db succeeded. 20.50 %\n",
      "2022-12-03 20:45:41> Processing of F:/AP_Paper_Benchmark/PXD015087_Thermo\\Hela_P035213_BA1_S00_A00_R10.raw for step search_db succeeded. 21.00 %\n",
      "2022-12-03 20:45:54> Processing of F:/AP_Paper_Benchmark/PXD015087_Thermo\\Hela_P035213_BA1_S00_A00_R11.raw for step search_db succeeded. 21.50 %\n"
     ]
    },
    {
     "name": "stderr",
     "output_type": "stream",
     "text": [
      "\r",
      " 22%|████████████████▉                                                              | 0.215/1 [01:27<04:26, 339.98s/it]"
     ]
    },
    {
     "name": "stdout",
     "output_type": "stream",
     "text": [
      "2022-12-03 20:45:54> Processing of F:/AP_Paper_Benchmark/PXD015087_Thermo\\Hela_P035213_BA1_S00_A00_R12.raw for step search_db succeeded. 22.00 %\n",
      "2022-12-03 20:45:54> Processing of F:/AP_Paper_Benchmark/PXD015087_Thermo\\Hela_P035213_BA1_S00_A00_R13.raw for step search_db succeeded. 22.50 %\n",
      "2022-12-03 20:45:54> Processing of F:/AP_Paper_Benchmark/PXD015087_Thermo\\Hela_P035213_BA1_S00_A00_R14.raw for step search_db succeeded. 23.00 %\n"
     ]
    },
    {
     "name": "stderr",
     "output_type": "stream",
     "text": [
      "\r",
      " 23%|██████████████████▍                                                             | 0.23/1 [01:27<03:06, 242.16s/it]"
     ]
    },
    {
     "name": "stdout",
     "output_type": "stream",
     "text": [
      "2022-12-03 20:45:54> Processing of F:/AP_Paper_Benchmark/PXD015087_Thermo\\Hela_P035213_BA1_S00_A00_R15.raw for step search_db succeeded. 23.50 %\n"
     ]
    },
    {
     "name": "stderr",
     "output_type": "stream",
     "text": [
      "\r",
      " 24%|██████████████████▌                                                            | 0.235/1 [01:27<02:48, 219.87s/it]"
     ]
    },
    {
     "name": "stdout",
     "output_type": "stream",
     "text": [
      "2022-12-03 20:45:55> Processing of F:/AP_Paper_Benchmark/PXD015087_Thermo\\Hela_P035213_BA1_S00_A00_R16.raw for step search_db succeeded. 24.00 %\n"
     ]
    },
    {
     "name": "stderr",
     "output_type": "stream",
     "text": [
      "\r",
      " 24%|███████████████████▏                                                            | 0.24/1 [01:27<02:26, 192.11s/it]"
     ]
    },
    {
     "name": "stdout",
     "output_type": "stream",
     "text": [
      "2022-12-03 20:45:57> Processing of F:/AP_Paper_Benchmark/PXD015087_Thermo\\Hela_P035213_BA1_S00_A00_R17.raw for step search_db succeeded. 24.50 %\n"
     ]
    },
    {
     "name": "stderr",
     "output_type": "stream",
     "text": [
      "\r",
      " 24%|███████████████████▎                                                           | 0.245/1 [01:30<03:04, 243.90s/it]"
     ]
    },
    {
     "name": "stdout",
     "output_type": "stream",
     "text": [
      "2022-12-03 20:45:57> Processing of F:/AP_Paper_Benchmark/PXD015087_Thermo\\Hela_P035213_BA1_S00_A00_R18.raw for step search_db succeeded. 25.00 %\n"
     ]
    },
    {
     "name": "stderr",
     "output_type": "stream",
     "text": [
      "\r",
      " 25%|████████████████████                                                            | 0.25/1 [01:30<02:36, 208.01s/it]"
     ]
    },
    {
     "name": "stdout",
     "output_type": "stream",
     "text": [
      "2022-12-03 20:45:58> Processing of F:/AP_Paper_Benchmark/PXD015087_Thermo\\Hela_P035213_BA1_S00_A00_R19.raw for step search_db succeeded. 25.50 %\n"
     ]
    },
    {
     "name": "stderr",
     "output_type": "stream",
     "text": [
      "\r",
      " 26%|████████████████████▏                                                          | 0.255/1 [01:31<02:25, 195.71s/it]"
     ]
    },
    {
     "name": "stdout",
     "output_type": "stream",
     "text": [
      "2022-12-03 20:45:58> Processing of F:/AP_Paper_Benchmark/PXD015087_Thermo\\Hela_P035213_BA1_S00_A00_R2.raw for step search_db succeeded. 26.00 %\n",
      "2022-12-03 20:45:58> Processing of F:/AP_Paper_Benchmark/PXD015087_Thermo\\Hela_P035213_BA1_S00_A00_R20.raw for step search_db succeeded. 26.50 %\n"
     ]
    },
    {
     "name": "stderr",
     "output_type": "stream",
     "text": [
      "\r",
      " 26%|████████████████████▉                                                          | 0.265/1 [01:31<01:31, 125.13s/it]"
     ]
    },
    {
     "name": "stdout",
     "output_type": "stream",
     "text": [
      "2022-12-03 20:46:00> Processing of F:/AP_Paper_Benchmark/PXD015087_Thermo\\Hela_P035213_BA1_S00_A00_R3.raw for step search_db succeeded. 27.00 %\n"
     ]
    },
    {
     "name": "stderr",
     "output_type": "stream",
     "text": [
      "\r",
      " 27%|█████████████████████▌                                                          | 0.27/1 [01:32<01:57, 161.16s/it]"
     ]
    },
    {
     "name": "stdout",
     "output_type": "stream",
     "text": [
      "2022-12-03 20:46:00> Processing of F:/AP_Paper_Benchmark/PXD015087_Thermo\\Hela_P035213_BA1_S00_A00_R4.raw for step search_db succeeded. 27.50 %\n",
      "2022-12-03 20:46:00> Processing of F:/AP_Paper_Benchmark/PXD015087_Thermo\\Hela_P035213_BA1_S00_A00_R5.raw for step search_db succeeded. 28.00 %\n",
      "2022-12-03 20:46:11> Processing of F:/AP_Paper_Benchmark/PXD015087_Thermo\\Hela_P035213_BA1_S00_A00_R6.raw for step search_db succeeded. 28.50 %\n"
     ]
    },
    {
     "name": "stderr",
     "output_type": "stream",
     "text": [
      "\r",
      " 28%|██████████████████████▌                                                        | 0.285/1 [01:43<05:14, 439.51s/it]"
     ]
    },
    {
     "name": "stdout",
     "output_type": "stream",
     "text": [
      "2022-12-03 20:46:11> Processing of F:/AP_Paper_Benchmark/PXD015087_Thermo\\Hela_P035213_BA1_S00_A00_R7.raw for step search_db succeeded. 29.00 %\n"
     ]
    },
    {
     "name": "stderr",
     "output_type": "stream",
     "text": [
      "\r",
      " 29%|███████████████████████▏                                                        | 0.29/1 [01:44<04:21, 367.87s/it]"
     ]
    },
    {
     "name": "stdout",
     "output_type": "stream",
     "text": [
      "2022-12-03 20:46:12> Processing of F:/AP_Paper_Benchmark/PXD015087_Thermo\\Hela_P035213_BA1_S00_A00_R8.raw for step search_db succeeded. 29.50 %\n"
     ]
    },
    {
     "name": "stderr",
     "output_type": "stream",
     "text": [
      "\r",
      " 30%|███████████████████████▎                                                       | 0.295/1 [01:44<03:43, 316.82s/it]"
     ]
    },
    {
     "name": "stdout",
     "output_type": "stream",
     "text": [
      "2022-12-03 20:46:13> Processing of F:/AP_Paper_Benchmark/PXD015087_Thermo\\Hela_P035213_BA1_S00_A00_R9.raw for step search_db succeeded. 30.00 %\n"
     ]
    },
    {
     "name": "stderr",
     "output_type": "stream",
     "text": [
      "\r",
      " 30%|████████████████████████▎                                                        | 0.3/1 [01:46<03:35, 307.51s/it]"
     ]
    },
    {
     "name": "stdout",
     "output_type": "stream",
     "text": [
      "2022-12-03 20:46:13> Processing of F:/AP_Paper_Benchmark/PXD015087_Thermo\\Hela_P035214_BA1_S00_A00_R1.raw for step search_db succeeded. 30.50 %\n",
      "2022-12-03 20:46:13> Processing of F:/AP_Paper_Benchmark/PXD015087_Thermo\\Hela_P035214_BA1_S00_A00_R10.raw for step search_db succeeded. 31.00 %\n",
      "2022-12-03 20:46:14> Processing of F:/AP_Paper_Benchmark/PXD015087_Thermo\\Hela_P035214_BA1_S00_A00_R11.raw for step search_db succeeded. 31.50 %\n"
     ]
    },
    {
     "name": "stderr",
     "output_type": "stream",
     "text": [
      "\r",
      " 32%|████████████████████████▉                                                      | 0.315/1 [01:46<02:02, 179.04s/it]"
     ]
    },
    {
     "name": "stdout",
     "output_type": "stream",
     "text": [
      "2022-12-03 20:46:16> Processing of F:/AP_Paper_Benchmark/PXD015087_Thermo\\Hela_P035214_BA1_S00_A00_R12.raw for step search_db succeeded. 32.00 %\n"
     ]
    },
    {
     "name": "stderr",
     "output_type": "stream",
     "text": [
      "\r",
      " 32%|█████████████████████████▌                                                      | 0.32/1 [01:48<02:29, 220.16s/it]"
     ]
    },
    {
     "name": "stdout",
     "output_type": "stream",
     "text": [
      "2022-12-03 20:46:16> Processing of F:/AP_Paper_Benchmark/PXD015087_Thermo\\Hela_P035214_BA1_S00_A00_R13.raw for step search_db succeeded. 32.50 %\n"
     ]
    },
    {
     "name": "stderr",
     "output_type": "stream",
     "text": [
      "\r",
      " 32%|█████████████████████████▋                                                     | 0.325/1 [01:49<02:08, 190.14s/it]"
     ]
    },
    {
     "name": "stdout",
     "output_type": "stream",
     "text": [
      "2022-12-03 20:46:16> Processing of F:/AP_Paper_Benchmark/PXD015087_Thermo\\Hela_P035214_BA1_S00_A00_R14.raw for step search_db succeeded. 33.00 %\n",
      "2022-12-03 20:46:16> Processing of F:/AP_Paper_Benchmark/PXD015087_Thermo\\Hela_P035214_BA1_S00_A00_R15.raw for step search_db succeeded. 33.50 %\n",
      "2022-12-03 20:46:16> Processing of F:/AP_Paper_Benchmark/PXD015087_Thermo\\Hela_P035214_BA1_S00_A00_R16.raw for step search_db succeeded. 34.00 %\n"
     ]
    },
    {
     "name": "stderr",
     "output_type": "stream",
     "text": [
      "\r",
      " 34%|███████████████████████████▏                                                    | 0.34/1 [01:49<01:08, 104.10s/it]"
     ]
    },
    {
     "name": "stdout",
     "output_type": "stream",
     "text": [
      "2022-12-03 20:46:16> Processing of F:/AP_Paper_Benchmark/PXD015087_Thermo\\Hela_P035214_BA1_S00_A00_R17.raw for step search_db succeeded. 34.50 %\n",
      "2022-12-03 20:46:16> Processing of F:/AP_Paper_Benchmark/PXD015087_Thermo\\Hela_P035214_BA1_S00_A00_R18.raw for step search_db succeeded. 35.00 %\n",
      "2022-12-03 20:46:29> Processing of F:/AP_Paper_Benchmark/PXD015087_Thermo\\Hela_P035214_BA1_S00_A00_R19.raw for step search_db succeeded. 35.50 %\n"
     ]
    },
    {
     "name": "stderr",
     "output_type": "stream",
     "text": [
      "\r",
      " 36%|████████████████████████████                                                   | 0.355/1 [02:01<04:17, 399.38s/it]"
     ]
    },
    {
     "name": "stdout",
     "output_type": "stream",
     "text": [
      "2022-12-03 20:46:30> Processing of F:/AP_Paper_Benchmark/PXD015087_Thermo\\Hela_P035214_BA1_S00_A00_R2.raw for step search_db succeeded. 36.00 %\n"
     ]
    },
    {
     "name": "stderr",
     "output_type": "stream",
     "text": [
      "\r",
      " 36%|████████████████████████████▊                                                   | 0.36/1 [02:02<03:51, 362.03s/it]"
     ]
    },
    {
     "name": "stdout",
     "output_type": "stream",
     "text": [
      "2022-12-03 20:46:31> Processing of F:/AP_Paper_Benchmark/PXD015087_Thermo\\Hela_P035214_BA1_S00_A00_R20.raw for step search_db succeeded. 36.50 %\n"
     ]
    },
    {
     "name": "stderr",
     "output_type": "stream",
     "text": [
      "\r",
      " 36%|████████████████████████████▊                                                  | 0.365/1 [02:03<03:29, 330.68s/it]"
     ]
    },
    {
     "name": "stdout",
     "output_type": "stream",
     "text": [
      "2022-12-03 20:46:31> Processing of F:/AP_Paper_Benchmark/PXD015087_Thermo\\Hela_P035214_BA1_S00_A00_R3.raw for step search_db succeeded. 37.00 %\n"
     ]
    },
    {
     "name": "stderr",
     "output_type": "stream",
     "text": [
      "\r",
      " 37%|█████████████████████████████▌                                                  | 0.37/1 [02:04<02:55, 278.12s/it]"
     ]
    },
    {
     "name": "stdout",
     "output_type": "stream",
     "text": [
      "2022-12-03 20:46:31> Processing of F:/AP_Paper_Benchmark/PXD015087_Thermo\\Hela_P035214_BA1_S00_A00_R4.raw for step search_db succeeded. 37.50 %\n"
     ]
    },
    {
     "name": "stderr",
     "output_type": "stream",
     "text": [
      "\r",
      " 38%|█████████████████████████████▋                                                 | 0.375/1 [02:04<02:21, 225.73s/it]"
     ]
    },
    {
     "name": "stdout",
     "output_type": "stream",
     "text": [
      "2022-12-03 20:46:31> Processing of F:/AP_Paper_Benchmark/PXD015087_Thermo\\Hela_P035214_BA1_S00_A00_R5.raw for step search_db succeeded. 38.00 %\n",
      "2022-12-03 20:46:32> Processing of F:/AP_Paper_Benchmark/PXD015087_Thermo\\Hela_P035214_BA1_S00_A00_R6.raw for step search_db succeeded. 38.50 %\n"
     ]
    },
    {
     "name": "stderr",
     "output_type": "stream",
     "text": [
      "\r",
      " 38%|██████████████████████████████▍                                                | 0.385/1 [02:05<01:51, 180.68s/it]"
     ]
    },
    {
     "name": "stdout",
     "output_type": "stream",
     "text": [
      "2022-12-03 20:46:34> Processing of F:/AP_Paper_Benchmark/PXD015087_Thermo\\Hela_P035214_BA1_S00_A00_R7.raw for step search_db succeeded. 39.00 %\n"
     ]
    },
    {
     "name": "stderr",
     "output_type": "stream",
     "text": [
      "\r",
      " 39%|███████████████████████████████▏                                                | 0.39/1 [02:07<02:10, 214.26s/it]"
     ]
    },
    {
     "name": "stdout",
     "output_type": "stream",
     "text": [
      "2022-12-03 20:46:34> Processing of F:/AP_Paper_Benchmark/PXD015087_Thermo\\Hela_P035214_BA1_S00_A00_R8.raw for step search_db succeeded. 39.50 %\n",
      "2022-12-03 20:46:35> Processing of F:/AP_Paper_Benchmark/PXD015087_Thermo\\Hela_P035214_BA1_S00_A00_R9.raw for step search_db succeeded. 40.00 %\n"
     ]
    },
    {
     "name": "stderr",
     "output_type": "stream",
     "text": [
      "\r",
      " 40%|████████████████████████████████▍                                                | 0.4/1 [02:08<01:50, 183.63s/it]"
     ]
    },
    {
     "name": "stdout",
     "output_type": "stream",
     "text": [
      "2022-12-03 20:46:35> Processing of F:/AP_Paper_Benchmark/PXD015087_Thermo\\Hela_P035215_BA1_S00_A00_R1.raw for step search_db succeeded. 40.50 %\n",
      "2022-12-03 20:46:35> Processing of F:/AP_Paper_Benchmark/PXD015087_Thermo\\Hela_P035215_BA1_S00_A00_R10.raw for step search_db succeeded. 41.00 %\n",
      "2022-12-03 20:46:35> Processing of F:/AP_Paper_Benchmark/PXD015087_Thermo\\Hela_P035215_BA1_S00_A00_R11.raw for step search_db succeeded. 41.50 %\n",
      "2022-12-03 20:46:35> Processing of F:/AP_Paper_Benchmark/PXD015087_Thermo\\Hela_P035215_BA1_S00_A00_R12.raw for step search_db succeeded. 42.00 %\n",
      "2022-12-03 20:46:45> Processing of F:/AP_Paper_Benchmark/PXD015087_Thermo\\Hela_P035215_BA1_S00_A00_R13.raw for step search_db succeeded. 42.50 %\n"
     ]
    },
    {
     "name": "stderr",
     "output_type": "stream",
     "text": [
      "\r",
      " 42%|█████████████████████████████████▌                                             | 0.425/1 [02:18<02:57, 308.87s/it]"
     ]
    },
    {
     "name": "stdout",
     "output_type": "stream",
     "text": [
      "2022-12-03 20:46:45> Processing of F:/AP_Paper_Benchmark/PXD015087_Thermo\\Hela_P035215_BA1_S00_A00_R14.raw for step search_db succeeded. 43.00 %\n",
      "2022-12-03 20:46:47> Processing of F:/AP_Paper_Benchmark/PXD015087_Thermo\\Hela_P035215_BA1_S00_A00_R15.raw for step search_db succeeded. 43.50 %\n"
     ]
    },
    {
     "name": "stderr",
     "output_type": "stream",
     "text": [
      "\r",
      " 44%|██████████████████████████████████▎                                            | 0.435/1 [02:19<02:28, 262.80s/it]"
     ]
    },
    {
     "name": "stdout",
     "output_type": "stream",
     "text": [
      "2022-12-03 20:46:47> Processing of F:/AP_Paper_Benchmark/PXD015087_Thermo\\Hela_P035215_BA1_S00_A00_R16.raw for step search_db succeeded. 44.00 %\n"
     ]
    },
    {
     "name": "stderr",
     "output_type": "stream",
     "text": [
      "\r",
      " 44%|███████████████████████████████████▏                                            | 0.44/1 [02:20<02:17, 245.78s/it]"
     ]
    },
    {
     "name": "stdout",
     "output_type": "stream",
     "text": [
      "2022-12-03 20:46:48> Processing of F:/AP_Paper_Benchmark/PXD015087_Thermo\\Hela_P035215_BA1_S00_A00_R17.raw for step search_db succeeded. 44.50 %\n"
     ]
    },
    {
     "name": "stderr",
     "output_type": "stream",
     "text": [
      "\r",
      " 44%|███████████████████████████████████▏                                           | 0.445/1 [02:20<01:56, 210.11s/it]"
     ]
    },
    {
     "name": "stdout",
     "output_type": "stream",
     "text": [
      "2022-12-03 20:46:48> Processing of F:/AP_Paper_Benchmark/PXD015087_Thermo\\Hela_P035215_BA1_S00_A00_R18.raw for step search_db succeeded. 45.00 %\n",
      "2022-12-03 20:46:48> Processing of F:/AP_Paper_Benchmark/PXD015087_Thermo\\Hela_P035215_BA1_S00_A00_R19.raw for step search_db succeeded. 45.50 %\n"
     ]
    },
    {
     "name": "stderr",
     "output_type": "stream",
     "text": [
      "\r",
      " 46%|███████████████████████████████████▉                                           | 0.455/1 [02:21<01:25, 157.02s/it]"
     ]
    },
    {
     "name": "stdout",
     "output_type": "stream",
     "text": [
      "2022-12-03 20:46:48> Processing of F:/AP_Paper_Benchmark/PXD015087_Thermo\\Hela_P035215_BA1_S00_A00_R2.raw for step search_db succeeded. 46.00 %\n"
     ]
    },
    {
     "name": "stderr",
     "output_type": "stream",
     "text": [
      "\r",
      " 46%|████████████████████████████████████▊                                           | 0.46/1 [02:21<01:14, 137.82s/it]"
     ]
    },
    {
     "name": "stdout",
     "output_type": "stream",
     "text": [
      "2022-12-03 20:46:51> Processing of F:/AP_Paper_Benchmark/PXD015087_Thermo\\Hela_P035215_BA1_S00_A00_R20.raw for step search_db succeeded. 46.50 %\n"
     ]
    },
    {
     "name": "stderr",
     "output_type": "stream",
     "text": [
      "\r",
      " 46%|████████████████████████████████████▋                                          | 0.465/1 [02:24<01:54, 214.75s/it]"
     ]
    },
    {
     "name": "stdout",
     "output_type": "stream",
     "text": [
      "2022-12-03 20:46:51> Processing of F:/AP_Paper_Benchmark/PXD015087_Thermo\\Hela_P035215_BA1_S00_A00_R3.raw for step search_db succeeded. 47.00 %\n",
      "2022-12-03 20:46:51> Processing of F:/AP_Paper_Benchmark/PXD015087_Thermo\\Hela_P035215_BA1_S00_A00_R4.raw for step search_db succeeded. 47.50 %\n",
      "2022-12-03 20:46:51> Processing of F:/AP_Paper_Benchmark/PXD015087_Thermo\\Hela_P035215_BA1_S00_A00_R5.raw for step search_db succeeded. 48.00 %\n",
      "2022-12-03 20:46:51> Processing of F:/AP_Paper_Benchmark/PXD015087_Thermo\\Hela_P035215_BA1_S00_A00_R6.raw for step search_db succeeded. 48.50 %\n",
      "2022-12-03 20:46:51> Processing of F:/AP_Paper_Benchmark/PXD015087_Thermo\\Hela_P035215_BA1_S00_A00_R7.raw for step search_db succeeded. 49.00 %\n"
     ]
    },
    {
     "name": "stderr",
     "output_type": "stream",
     "text": [
      "\r",
      " 49%|███████████████████████████████████████▋                                         | 0.49/1 [02:24<00:45, 88.62s/it]"
     ]
    },
    {
     "name": "stdout",
     "output_type": "stream",
     "text": [
      "2022-12-03 20:47:02> Processing of F:/AP_Paper_Benchmark/PXD015087_Thermo\\Hela_P035215_BA1_S00_A00_R8.raw for step search_db succeeded. 49.50 %\n"
     ]
    },
    {
     "name": "stderr",
     "output_type": "stream",
     "text": [
      "\r",
      " 50%|███████████████████████████████████████                                        | 0.495/1 [02:35<03:24, 404.07s/it]"
     ]
    },
    {
     "name": "stdout",
     "output_type": "stream",
     "text": [
      "2022-12-03 20:47:02> Processing of F:/AP_Paper_Benchmark/PXD015087_Thermo\\Hela_P035215_BA1_S00_A00_R9.raw for step search_db succeeded. 50.00 %\n",
      "2022-12-03 20:47:03> Processing of F:/AP_Paper_Benchmark/PXD015087_Thermo\\Hela_P035216_BA1_S00_A00_R1.raw for step search_db succeeded. 50.50 %\n"
     ]
    },
    {
     "name": "stderr",
     "output_type": "stream",
     "text": [
      "\r",
      " 50%|███████████████████████████████████████▉                                       | 0.505/1 [02:36<02:33, 310.06s/it]"
     ]
    },
    {
     "name": "stdout",
     "output_type": "stream",
     "text": [
      "2022-12-03 20:47:04> Processing of F:/AP_Paper_Benchmark/PXD015087_Thermo\\Hela_P035216_BA1_S00_A00_R10.raw for step search_db succeeded. 51.00 %\n"
     ]
    },
    {
     "name": "stderr",
     "output_type": "stream",
     "text": [
      "\r",
      " 51%|████████████████████████████████████████▊                                       | 0.51/1 [02:37<02:26, 298.10s/it]"
     ]
    },
    {
     "name": "stdout",
     "output_type": "stream",
     "text": [
      "2022-12-03 20:47:04> Processing of F:/AP_Paper_Benchmark/PXD015087_Thermo\\Hela_P035216_BA1_S00_A00_R11.raw for step search_db succeeded. 51.50 %\n"
     ]
    },
    {
     "name": "stderr",
     "output_type": "stream",
     "text": [
      "\r",
      " 52%|████████████████████████████████████████▋                                      | 0.515/1 [02:37<01:58, 245.33s/it]"
     ]
    },
    {
     "name": "stdout",
     "output_type": "stream",
     "text": [
      "2022-12-03 20:47:04> Processing of F:/AP_Paper_Benchmark/PXD015087_Thermo\\Hela_P035216_BA1_S00_A00_R12.raw for step search_db succeeded. 52.00 %\n",
      "2022-12-03 20:47:06> Processing of F:/AP_Paper_Benchmark/PXD015087_Thermo\\Hela_P035216_BA1_S00_A00_R13.raw for step search_db succeeded. 52.50 %\n"
     ]
    },
    {
     "name": "stderr",
     "output_type": "stream",
     "text": [
      "\r",
      " 52%|█████████████████████████████████████████▍                                     | 0.525/1 [02:38<01:33, 197.67s/it]"
     ]
    },
    {
     "name": "stdout",
     "output_type": "stream",
     "text": [
      "2022-12-03 20:47:06> Processing of F:/AP_Paper_Benchmark/PXD015087_Thermo\\Hela_P035216_BA1_S00_A00_R14.raw for step search_db succeeded. 53.00 %\n",
      "2022-12-03 20:47:08> Processing of F:/AP_Paper_Benchmark/PXD015087_Thermo\\Hela_P035216_BA1_S00_A00_R15.raw for step search_db succeeded. 53.50 %\n"
     ]
    },
    {
     "name": "stderr",
     "output_type": "stream",
     "text": [
      "\r",
      " 54%|██████████████████████████████████████████▎                                    | 0.535/1 [02:41<01:44, 223.87s/it]"
     ]
    },
    {
     "name": "stdout",
     "output_type": "stream",
     "text": [
      "2022-12-03 20:47:08> Processing of F:/AP_Paper_Benchmark/PXD015087_Thermo\\Hela_P035216_BA1_S00_A00_R16.raw for step search_db succeeded. 54.00 %\n",
      "2022-12-03 20:47:09> Processing of F:/AP_Paper_Benchmark/PXD015087_Thermo\\Hela_P035216_BA1_S00_A00_R17.raw for step search_db succeeded. 54.50 %\n"
     ]
    },
    {
     "name": "stderr",
     "output_type": "stream",
     "text": [
      "\r",
      " 55%|███████████████████████████████████████████                                    | 0.545/1 [02:41<01:12, 158.44s/it]"
     ]
    },
    {
     "name": "stdout",
     "output_type": "stream",
     "text": [
      "2022-12-03 20:47:09> Processing of F:/AP_Paper_Benchmark/PXD015087_Thermo\\Hela_P035216_BA1_S00_A00_R18.raw for step search_db succeeded. 55.00 %\n",
      "2022-12-03 20:47:09> Processing of F:/AP_Paper_Benchmark/PXD015087_Thermo\\Hela_P035216_BA1_S00_A00_R19.raw for step search_db succeeded. 55.50 %\n",
      "2022-12-03 20:47:09> Processing of F:/AP_Paper_Benchmark/PXD015087_Thermo\\Hela_P035216_BA1_S00_A00_R2.raw for step search_db succeeded. 56.00 %\n",
      "2022-12-03 20:47:19> Processing of F:/AP_Paper_Benchmark/PXD015087_Thermo\\Hela_P035216_BA1_S00_A00_R20.raw for step search_db succeeded. 56.50 %\n"
     ]
    },
    {
     "name": "stderr",
     "output_type": "stream",
     "text": [
      "\r",
      " 56%|████████████████████████████████████████████▋                                  | 0.565/1 [02:52<02:24, 333.07s/it]"
     ]
    },
    {
     "name": "stdout",
     "output_type": "stream",
     "text": [
      "2022-12-03 20:47:19> Processing of F:/AP_Paper_Benchmark/PXD015087_Thermo\\Hela_P035216_BA1_S00_A00_R3.raw for step search_db succeeded. 57.00 %\n"
     ]
    },
    {
     "name": "stderr",
     "output_type": "stream",
     "text": [
      "\r",
      " 57%|█████████████████████████████████████████████▌                                  | 0.57/1 [02:52<02:08, 297.93s/it]"
     ]
    },
    {
     "name": "stdout",
     "output_type": "stream",
     "text": [
      "2022-12-03 20:47:19> Processing of F:/AP_Paper_Benchmark/PXD015087_Thermo\\Hela_P035216_BA1_S00_A00_R4.raw for step search_db succeeded. 57.50 %\n",
      "2022-12-03 20:47:20> Processing of F:/AP_Paper_Benchmark/PXD015087_Thermo\\Hela_P035216_BA1_S00_A00_R5.raw for step search_db succeeded. 58.00 %\n"
     ]
    },
    {
     "name": "stderr",
     "output_type": "stream",
     "text": [
      "\r",
      " 58%|██████████████████████████████████████████████▍                                 | 0.58/1 [02:53<01:39, 235.77s/it]"
     ]
    },
    {
     "name": "stdout",
     "output_type": "stream",
     "text": [
      "2022-12-03 20:47:21> Processing of F:/AP_Paper_Benchmark/PXD015087_Thermo\\Hela_P035216_BA1_S00_A00_R6.raw for step search_db succeeded. 58.50 %\n"
     ]
    },
    {
     "name": "stderr",
     "output_type": "stream",
     "text": [
      "\r",
      " 58%|██████████████████████████████████████████████▏                                | 0.585/1 [02:53<01:25, 205.52s/it]"
     ]
    },
    {
     "name": "stdout",
     "output_type": "stream",
     "text": [
      "2022-12-03 20:47:21> Processing of F:/AP_Paper_Benchmark/PXD015087_Thermo\\Hela_P035216_BA1_S00_A00_R7.raw for step search_db succeeded. 59.00 %\n",
      "2022-12-03 20:47:22> Processing of F:/AP_Paper_Benchmark/PXD015087_Thermo\\Hela_P035216_BA1_S00_A00_R8.raw for step search_db succeeded. 59.50 %\n"
     ]
    },
    {
     "name": "stderr",
     "output_type": "stream",
     "text": [
      "\r",
      " 60%|███████████████████████████████████████████████                                | 0.595/1 [02:54<01:10, 173.18s/it]"
     ]
    },
    {
     "name": "stdout",
     "output_type": "stream",
     "text": [
      "2022-12-03 20:47:22> Processing of F:/AP_Paper_Benchmark/PXD015087_Thermo\\Hela_P035216_BA1_S00_A00_R9.raw for step search_db succeeded. 60.00 %\n"
     ]
    },
    {
     "name": "stderr",
     "output_type": "stream",
     "text": [
      "\r",
      " 60%|████████████████████████████████████████████████▌                                | 0.6/1 [02:55<00:59, 149.20s/it]"
     ]
    },
    {
     "name": "stdout",
     "output_type": "stream",
     "text": [
      "2022-12-03 20:47:24> Processing of F:/AP_Paper_Benchmark/PXD015087_Thermo\\Hela_P035217_BA1_S00_A00_R1.raw for step search_db succeeded. 60.50 %\n"
     ]
    },
    {
     "name": "stderr",
     "output_type": "stream",
     "text": [
      "\r",
      " 60%|███████████████████████████████████████████████▊                               | 0.605/1 [02:56<01:16, 194.91s/it]"
     ]
    },
    {
     "name": "stdout",
     "output_type": "stream",
     "text": [
      "2022-12-03 20:47:24> Processing of F:/AP_Paper_Benchmark/PXD015087_Thermo\\Hela_P035217_BA1_S00_A00_R10.raw for step search_db succeeded. 61.00 %\n"
     ]
    },
    {
     "name": "stderr",
     "output_type": "stream",
     "text": [
      "\r",
      " 61%|████████████████████████████████████████████████▊                               | 0.61/1 [02:57<01:07, 174.16s/it]"
     ]
    },
    {
     "name": "stdout",
     "output_type": "stream",
     "text": [
      "2022-12-03 20:47:24> Processing of F:/AP_Paper_Benchmark/PXD015087_Thermo\\Hela_P035217_BA1_S00_A00_R11.raw for step search_db succeeded. 61.50 %\n",
      "2022-12-03 20:47:24> Processing of F:/AP_Paper_Benchmark/PXD015087_Thermo\\Hela_P035217_BA1_S00_A00_R12.raw for step search_db succeeded. 62.00 %\n",
      "2022-12-03 20:47:24> Processing of F:/AP_Paper_Benchmark/PXD015087_Thermo\\Hela_P035217_BA1_S00_A00_R13.raw for step search_db succeeded. 62.50 %\n"
     ]
    },
    {
     "name": "stderr",
     "output_type": "stream",
     "text": [
      "\r",
      " 62%|██████████████████████████████████████████████████                              | 0.625/1 [02:57<00:35, 94.80s/it]"
     ]
    },
    {
     "name": "stdout",
     "output_type": "stream",
     "text": [
      "2022-12-03 20:47:25> Processing of F:/AP_Paper_Benchmark/PXD015087_Thermo\\Hela_P035217_BA1_S00_A00_R14.raw for step search_db succeeded. 63.00 %\n",
      "2022-12-03 20:47:36> Processing of F:/AP_Paper_Benchmark/PXD015087_Thermo\\Hela_P035217_BA1_S00_A00_R15.raw for step search_db succeeded. 63.50 %\n"
     ]
    },
    {
     "name": "stderr",
     "output_type": "stream",
     "text": [
      "\r",
      " 64%|██████████████████████████████████████████████████▏                            | 0.635/1 [03:09<02:41, 443.12s/it]"
     ]
    },
    {
     "name": "stdout",
     "output_type": "stream",
     "text": [
      "2022-12-03 20:47:36> Processing of F:/AP_Paper_Benchmark/PXD015087_Thermo\\Hela_P035217_BA1_S00_A00_R16.raw for step search_db succeeded. 64.00 %\n",
      "2022-12-03 20:47:36> Processing of F:/AP_Paper_Benchmark/PXD015087_Thermo\\Hela_P035217_BA1_S00_A00_R17.raw for step search_db succeeded. 64.50 %\n"
     ]
    },
    {
     "name": "stderr",
     "output_type": "stream",
     "text": [
      "\r",
      " 64%|██████████████████████████████████████████████████▉                            | 0.645/1 [03:09<01:48, 306.57s/it]"
     ]
    },
    {
     "name": "stdout",
     "output_type": "stream",
     "text": [
      "2022-12-03 20:47:36> Processing of F:/AP_Paper_Benchmark/PXD015087_Thermo\\Hela_P035217_BA1_S00_A00_R18.raw for step search_db succeeded. 65.00 %\n"
     ]
    },
    {
     "name": "stderr",
     "output_type": "stream",
     "text": [
      "\r",
      " 65%|████████████████████████████████████████████████████                            | 0.65/1 [03:09<01:29, 254.62s/it]"
     ]
    },
    {
     "name": "stdout",
     "output_type": "stream",
     "text": [
      "2022-12-03 20:47:36> Processing of F:/AP_Paper_Benchmark/PXD015087_Thermo\\Hela_P035217_BA1_S00_A00_R19.raw for step search_db succeeded. 65.50 %\n",
      "2022-12-03 20:47:36> Processing of F:/AP_Paper_Benchmark/PXD015087_Thermo\\Hela_P035217_BA1_S00_A00_R2.raw for step search_db succeeded. 66.00 %\n",
      "2022-12-03 20:47:37> Processing of F:/AP_Paper_Benchmark/PXD015087_Thermo\\Hela_P035217_BA1_S00_A00_R20.raw for step search_db succeeded. 66.50 %\n"
     ]
    },
    {
     "name": "stderr",
     "output_type": "stream",
     "text": [
      "\r",
      " 66%|████████████████████████████████████████████████████▌                          | 0.665/1 [03:10<00:54, 162.16s/it]"
     ]
    },
    {
     "name": "stdout",
     "output_type": "stream",
     "text": [
      "2022-12-03 20:47:37> Processing of F:/AP_Paper_Benchmark/PXD015087_Thermo\\Hela_P035217_BA1_S00_A00_R21.raw for step search_db succeeded. 67.00 %\n",
      "2022-12-03 20:47:38> Processing of F:/AP_Paper_Benchmark/PXD015087_Thermo\\Hela_P035217_BA1_S00_A00_R3.raw for step search_db succeeded. 67.50 %\n"
     ]
    },
    {
     "name": "stderr",
     "output_type": "stream",
     "text": [
      "\r",
      " 68%|█████████████████████████████████████████████████████▎                         | 0.675/1 [03:11<00:49, 152.08s/it]"
     ]
    },
    {
     "name": "stdout",
     "output_type": "stream",
     "text": [
      "2022-12-03 20:47:38> Processing of F:/AP_Paper_Benchmark/PXD015087_Thermo\\Hela_P035217_BA1_S00_A00_R5.raw for step search_db succeeded. 68.00 %\n",
      "2022-12-03 20:47:39> Processing of F:/AP_Paper_Benchmark/PXD015087_Thermo\\Hela_P035217_BA1_S00_A00_R6.raw for step search_db succeeded. 68.50 %\n"
     ]
    },
    {
     "name": "stderr",
     "output_type": "stream",
     "text": [
      "\r",
      " 68%|██████████████████████████████████████████████████████                         | 0.685/1 [03:12<00:43, 139.53s/it]"
     ]
    },
    {
     "name": "stdout",
     "output_type": "stream",
     "text": [
      "2022-12-03 20:47:39> Processing of F:/AP_Paper_Benchmark/PXD015087_Thermo\\Hela_P035217_BA1_S00_A00_R7.raw for step search_db succeeded. 69.00 %\n",
      "2022-12-03 20:47:39> Processing of F:/AP_Paper_Benchmark/PXD015087_Thermo\\Hela_P035217_BA1_S00_A00_R8.raw for step search_db succeeded. 69.50 %\n",
      "2022-12-03 20:47:40> Processing of F:/AP_Paper_Benchmark/PXD015087_Thermo\\Hela_P035217_BA1_S00_A00_R9.raw for step search_db succeeded. 70.00 %\n"
     ]
    },
    {
     "name": "stderr",
     "output_type": "stream",
     "text": [
      "\r",
      " 70%|█████████████████████████████████████████████████████████▍                        | 0.7/1 [03:13<00:28, 94.65s/it]"
     ]
    },
    {
     "name": "stdout",
     "output_type": "stream",
     "text": [
      "2022-12-03 20:47:52> Processing of F:/AP_Paper_Benchmark/PXD015087_Thermo\\Hela_P035218_BA1_S00_A00_R1.raw for step search_db succeeded. 70.50 %\n"
     ]
    },
    {
     "name": "stderr",
     "output_type": "stream",
     "text": [
      "\r",
      " 70%|███████████████████████████████████████████████████████▋                       | 0.705/1 [03:25<02:17, 467.02s/it]"
     ]
    },
    {
     "name": "stdout",
     "output_type": "stream",
     "text": [
      "2022-12-03 20:47:52> Processing of F:/AP_Paper_Benchmark/PXD015087_Thermo\\Hela_P035218_BA1_S00_A00_R10.raw for step search_db succeeded. 71.00 %\n",
      "2022-12-03 20:47:52> Processing of F:/AP_Paper_Benchmark/PXD015087_Thermo\\Hela_P035218_BA1_S00_A00_R11.raw for step search_db succeeded. 71.50 %\n",
      "2022-12-03 20:47:52> Processing of F:/AP_Paper_Benchmark/PXD015087_Thermo\\Hela_P035218_BA1_S00_A00_R12.raw for step search_db succeeded. 72.00 %\n",
      "2022-12-03 20:47:53> Processing of F:/AP_Paper_Benchmark/PXD015087_Thermo\\Hela_P035218_BA1_S00_A00_R13.raw for step search_db succeeded. 72.50 %\n"
     ]
    },
    {
     "name": "stderr",
     "output_type": "stream",
     "text": [
      "\r",
      " 72%|█████████████████████████████████████████████████████████▎                     | 0.725/1 [03:26<01:15, 275.25s/it]"
     ]
    },
    {
     "name": "stdout",
     "output_type": "stream",
     "text": [
      "2022-12-03 20:47:53> Processing of F:/AP_Paper_Benchmark/PXD015087_Thermo\\Hela_P035218_BA1_S00_A00_R14.raw for step search_db succeeded. 73.00 %\n",
      "2022-12-03 20:47:53> Processing of F:/AP_Paper_Benchmark/PXD015087_Thermo\\Hela_P035218_BA1_S00_A00_R15.raw for step search_db succeeded. 73.50 %\n",
      "2022-12-03 20:47:53> Processing of F:/AP_Paper_Benchmark/PXD015087_Thermo\\Hela_P035218_BA1_S00_A00_R16.raw for step search_db succeeded. 74.00 %\n",
      "2022-12-03 20:47:54> Processing of F:/AP_Paper_Benchmark/PXD015087_Thermo\\Hela_P035218_BA1_S00_A00_R17.raw for step search_db succeeded. 74.50 %\n"
     ]
    },
    {
     "name": "stderr",
     "output_type": "stream",
     "text": [
      "\r",
      " 74%|██████████████████████████████████████████████████████████▊                    | 0.745/1 [03:26<00:43, 168.74s/it]"
     ]
    },
    {
     "name": "stdout",
     "output_type": "stream",
     "text": [
      "2022-12-03 20:47:54> Processing of F:/AP_Paper_Benchmark/PXD015087_Thermo\\Hela_P035218_BA1_S00_A00_R18.raw for step search_db succeeded. 75.00 %\n"
     ]
    },
    {
     "name": "stderr",
     "output_type": "stream",
     "text": [
      "\r",
      " 75%|████████████████████████████████████████████████████████████                    | 0.75/1 [03:27<00:38, 155.32s/it]"
     ]
    },
    {
     "name": "stdout",
     "output_type": "stream",
     "text": [
      "2022-12-03 20:47:56> Processing of F:/AP_Paper_Benchmark/PXD015087_Thermo\\Hela_P035218_BA1_S00_A00_R19.raw for step search_db succeeded. 75.50 %\n"
     ]
    },
    {
     "name": "stderr",
     "output_type": "stream",
     "text": [
      "\r",
      " 76%|███████████████████████████████████████████████████████████▋                   | 0.755/1 [03:29<00:46, 188.58s/it]"
     ]
    },
    {
     "name": "stdout",
     "output_type": "stream",
     "text": [
      "2022-12-03 20:47:56> Processing of F:/AP_Paper_Benchmark/PXD015087_Thermo\\Hela_P035218_BA1_S00_A00_R2.raw for step search_db succeeded. 76.00 %\n",
      "2022-12-03 20:47:56> Processing of F:/AP_Paper_Benchmark/PXD015087_Thermo\\Hela_P035218_BA1_S00_A00_R20.raw for step search_db succeeded. 76.50 %\n",
      "2022-12-03 20:47:56> Processing of F:/AP_Paper_Benchmark/PXD015087_Thermo\\Hela_P035218_BA1_S00_A00_R3.raw for step search_db succeeded. 77.00 %\n",
      "2022-12-03 20:48:08> Processing of F:/AP_Paper_Benchmark/PXD015087_Thermo\\Hela_P035218_BA1_S00_A00_R4.raw for step search_db succeeded. 77.50 %\n"
     ]
    },
    {
     "name": "stderr",
     "output_type": "stream",
     "text": [
      "\r",
      " 78%|█████████████████████████████████████████████████████████████▏                 | 0.775/1 [03:41<01:27, 388.19s/it]"
     ]
    },
    {
     "name": "stdout",
     "output_type": "stream",
     "text": [
      "2022-12-03 20:48:08> Processing of F:/AP_Paper_Benchmark/PXD015087_Thermo\\Hela_P035218_BA1_S00_A00_R5.raw for step search_db succeeded. 78.00 %\n"
     ]
    },
    {
     "name": "stderr",
     "output_type": "stream",
     "text": [
      "\r",
      " 78%|██████████████████████████████████████████████████████████████▍                 | 0.78/1 [03:41<01:15, 342.10s/it]"
     ]
    },
    {
     "name": "stdout",
     "output_type": "stream",
     "text": [
      "2022-12-03 20:48:09> Processing of F:/AP_Paper_Benchmark/PXD015087_Thermo\\Hela_P035218_BA1_S00_A00_R6.raw for step search_db succeeded. 78.50 %\n"
     ]
    },
    {
     "name": "stderr",
     "output_type": "stream",
     "text": [
      "\r",
      " 78%|██████████████████████████████████████████████████████████████                 | 0.785/1 [03:42<01:03, 296.33s/it]"
     ]
    },
    {
     "name": "stdout",
     "output_type": "stream",
     "text": [
      "2022-12-03 20:48:09> Processing of F:/AP_Paper_Benchmark/PXD015087_Thermo\\Hela_P035218_BA1_S00_A00_R7.raw for step search_db succeeded. 79.00 %\n",
      "2022-12-03 20:48:09> Processing of F:/AP_Paper_Benchmark/PXD015087_Thermo\\Hela_P035218_BA1_S00_A00_R8.raw for step search_db succeeded. 79.50 %\n"
     ]
    },
    {
     "name": "stderr",
     "output_type": "stream",
     "text": [
      "\r",
      " 80%|██████████████████████████████████████████████████████████████▊                | 0.795/1 [03:42<00:43, 210.94s/it]"
     ]
    },
    {
     "name": "stdout",
     "output_type": "stream",
     "text": [
      "2022-12-03 20:48:09> Processing of F:/AP_Paper_Benchmark/PXD015087_Thermo\\Hela_P035218_BA1_S00_A00_R9.raw for step search_db succeeded. 80.00 %\n",
      "2022-12-03 20:48:09> Processing of F:/AP_Paper_Benchmark/PXD015087_Thermo\\Hela_P035219_BA1_S00_A00_R1.raw for step search_db succeeded. 80.50 %\n",
      "2022-12-03 20:48:09> Processing of F:/AP_Paper_Benchmark/PXD015087_Thermo\\Hela_P035219_BA1_S00_A00_R10.raw for step search_db succeeded. 81.00 %\n"
     ]
    },
    {
     "name": "stderr",
     "output_type": "stream",
     "text": [
      "\r",
      " 81%|████████████████████████████████████████████████████████████████▊               | 0.81/1 [03:42<00:24, 127.53s/it]"
     ]
    },
    {
     "name": "stdout",
     "output_type": "stream",
     "text": [
      "2022-12-03 20:48:10> Processing of F:/AP_Paper_Benchmark/PXD015087_Thermo\\Hela_P035219_BA1_S00_A00_R11.raw for step search_db succeeded. 81.50 %\n",
      "2022-12-03 20:48:10> Processing of F:/AP_Paper_Benchmark/PXD015087_Thermo\\Hela_P035219_BA1_S00_A00_R12.raw for step search_db succeeded. 82.00 %\n"
     ]
    },
    {
     "name": "stderr",
     "output_type": "stream",
     "text": [
      "\r",
      " 82%|██████████████████████████████████████████████████████████████████▍              | 0.82/1 [03:42<00:17, 96.74s/it]"
     ]
    },
    {
     "name": "stdout",
     "output_type": "stream",
     "text": [
      "2022-12-03 20:48:10> Processing of F:/AP_Paper_Benchmark/PXD015087_Thermo\\Hela_P035219_BA1_S00_A00_R13.raw for step search_db succeeded. 82.50 %\n",
      "2022-12-03 20:48:11> Processing of F:/AP_Paper_Benchmark/PXD015087_Thermo\\Hela_P035219_BA1_S00_A00_R14.raw for step search_db succeeded. 83.00 %\n"
     ]
    },
    {
     "name": "stderr",
     "output_type": "stream",
     "text": [
      "\r",
      " 83%|██████████████████████████████████████████████████████████████████▍             | 0.83/1 [03:43<00:17, 104.54s/it]"
     ]
    },
    {
     "name": "stdout",
     "output_type": "stream",
     "text": [
      "2022-12-03 20:48:11> Processing of F:/AP_Paper_Benchmark/PXD015087_Thermo\\Hela_P035219_BA1_S00_A00_R15.raw for step search_db succeeded. 83.50 %\n",
      "2022-12-03 20:48:11> Processing of F:/AP_Paper_Benchmark/PXD015087_Thermo\\Hela_P035219_BA1_S00_A00_R16.raw for step search_db succeeded. 84.00 %\n",
      "2022-12-03 20:48:24> Processing of F:/AP_Paper_Benchmark/PXD015087_Thermo\\Hela_P035219_BA1_S00_A00_R17.raw for step search_db succeeded. 84.50 %\n"
     ]
    },
    {
     "name": "stderr",
     "output_type": "stream",
     "text": [
      "\r",
      " 84%|██████████████████████████████████████████████████████████████████▊            | 0.845/1 [03:57<01:01, 397.26s/it]"
     ]
    },
    {
     "name": "stdout",
     "output_type": "stream",
     "text": [
      "2022-12-03 20:48:24> Processing of F:/AP_Paper_Benchmark/PXD015087_Thermo\\Hela_P035219_BA1_S00_A00_R18.raw for step search_db succeeded. 85.00 %\n",
      "2022-12-03 20:48:26> Processing of F:/AP_Paper_Benchmark/PXD015087_Thermo\\Hela_P035219_BA1_S00_A00_R19.raw for step search_db succeeded. 85.50 %\n"
     ]
    },
    {
     "name": "stderr",
     "output_type": "stream",
     "text": [
      "\r",
      " 86%|███████████████████████████████████████████████████████████████████▌           | 0.855/1 [03:59<00:50, 350.26s/it]"
     ]
    },
    {
     "name": "stdout",
     "output_type": "stream",
     "text": [
      "2022-12-03 20:48:26> Processing of F:/AP_Paper_Benchmark/PXD015087_Thermo\\Hela_P035219_BA1_S00_A00_R2.raw for step search_db succeeded. 86.00 %\n",
      "2022-12-03 20:48:26> Processing of F:/AP_Paper_Benchmark/PXD015087_Thermo\\Hela_P035219_BA1_S00_A00_R20.raw for step search_db succeeded. 86.50 %\n",
      "2022-12-03 20:48:26> Processing of F:/AP_Paper_Benchmark/PXD015087_Thermo\\Hela_P035219_BA1_S00_A00_R3.raw for step search_db succeeded. 87.00 %\n",
      "2022-12-03 20:48:26> Processing of F:/AP_Paper_Benchmark/PXD015087_Thermo\\Hela_P035219_BA1_S00_A00_R4.raw for step search_db succeeded. 87.50 %\n",
      "2022-12-03 20:48:26> Processing of F:/AP_Paper_Benchmark/PXD015087_Thermo\\Hela_P035219_BA1_S00_A00_R5.raw for step search_db succeeded. 88.00 %\n",
      "2022-12-03 20:48:26> Processing of F:/AP_Paper_Benchmark/PXD015087_Thermo\\Hela_P035219_BA1_S00_A00_R6.raw for step search_db succeeded. 88.50 %\n",
      "2022-12-03 20:48:26> Processing of F:/AP_Paper_Benchmark/PXD015087_Thermo\\Hela_P035219_BA1_S00_A00_R7.raw for step search_db succeeded. 89.00 %\n",
      "2022-12-03 20:48:26> Processing of F:/AP_Paper_Benchmark/PXD015087_Thermo\\Hela_P035219_BA1_S00_A00_R8.raw for step search_db succeeded. 89.50 %\n"
     ]
    },
    {
     "name": "stderr",
     "output_type": "stream",
     "text": [
      "\r",
      " 90%|██████████████████████████████████████████████████████████████████████▋        | 0.895/1 [03:59<00:15, 145.36s/it]"
     ]
    },
    {
     "name": "stdout",
     "output_type": "stream",
     "text": [
      "2022-12-03 20:48:26> Processing of F:/AP_Paper_Benchmark/PXD015087_Thermo\\Hela_P035219_BA1_S00_A00_R9.raw for step search_db succeeded. 90.00 %\n",
      "2022-12-03 20:48:26> Processing of F:/AP_Paper_Benchmark/PXD015087_Thermo\\March_Hela_P035212_BA1_S00_A00_R1.raw for step search_db succeeded. 90.50 %\n",
      "2022-12-03 20:48:26> Processing of F:/AP_Paper_Benchmark/PXD015087_Thermo\\March_Hela_P035212_BA1_S00_A00_R10.raw for step search_db succeeded. 91.00 %\n",
      "2022-12-03 20:48:37> Processing of F:/AP_Paper_Benchmark/PXD015087_Thermo\\March_Hela_P035212_BA1_S00_A00_R11.raw for step search_db succeeded. 91.50 %\n"
     ]
    },
    {
     "name": "stderr",
     "output_type": "stream",
     "text": [
      "\r",
      " 92%|████████████████████████████████████████████████████████████████████████▎      | 0.915/1 [04:10<00:22, 261.75s/it]"
     ]
    },
    {
     "name": "stdout",
     "output_type": "stream",
     "text": [
      "2022-12-03 20:48:37> Processing of F:/AP_Paper_Benchmark/PXD015087_Thermo\\March_Hela_P035212_BA1_S00_A00_R12.raw for step search_db succeeded. 92.00 %\n",
      "2022-12-03 20:48:37> Processing of F:/AP_Paper_Benchmark/PXD015087_Thermo\\March_Hela_P035212_BA1_S00_A00_R13.raw for step search_db succeeded. 92.50 %\n",
      "2022-12-03 20:48:37> Processing of F:/AP_Paper_Benchmark/PXD015087_Thermo\\March_Hela_P035212_BA1_S00_A00_R14.raw for step search_db succeeded. 93.00 %\n"
     ]
    },
    {
     "name": "stderr",
     "output_type": "stream",
     "text": [
      "\r",
      " 93%|██████████████████████████████████████████████████████████████████████████▍     | 0.93/1 [04:10<00:14, 204.13s/it]"
     ]
    },
    {
     "name": "stdout",
     "output_type": "stream",
     "text": [
      "2022-12-03 20:48:39> Processing of F:/AP_Paper_Benchmark/PXD015087_Thermo\\March_Hela_P035212_BA1_S00_A00_R15.raw for step search_db succeeded. 93.50 %\n"
     ]
    },
    {
     "name": "stderr",
     "output_type": "stream",
     "text": [
      "\r",
      " 94%|█████████████████████████████████████████████████████████████████████████▊     | 0.935/1 [04:12<00:13, 215.36s/it]"
     ]
    },
    {
     "name": "stdout",
     "output_type": "stream",
     "text": [
      "2022-12-03 20:48:39> Processing of F:/AP_Paper_Benchmark/PXD015087_Thermo\\March_Hela_P035212_BA1_S00_A00_R16.raw for step search_db succeeded. 94.00 %\n",
      "2022-12-03 20:48:39> Processing of F:/AP_Paper_Benchmark/PXD015087_Thermo\\March_Hela_P035212_BA1_S00_A00_R17.raw for step search_db succeeded. 94.50 %\n"
     ]
    },
    {
     "name": "stderr",
     "output_type": "stream",
     "text": [
      "\r",
      " 94%|██████████████████████████████████████████████████████████████████████████▋    | 0.945/1 [04:12<00:09, 170.16s/it]"
     ]
    },
    {
     "name": "stdout",
     "output_type": "stream",
     "text": [
      "2022-12-03 20:48:39> Processing of F:/AP_Paper_Benchmark/PXD015087_Thermo\\March_Hela_P035212_BA1_S00_A00_R18.raw for step search_db succeeded. 95.00 %\n",
      "2022-12-03 20:48:40> Processing of F:/AP_Paper_Benchmark/PXD015087_Thermo\\March_Hela_P035212_BA1_S00_A00_R19.raw for step search_db succeeded. 95.50 %\n"
     ]
    },
    {
     "name": "stderr",
     "output_type": "stream",
     "text": [
      "\r",
      " 96%|███████████████████████████████████████████████████████████████████████████▍   | 0.955/1 [04:13<00:07, 157.90s/it]"
     ]
    },
    {
     "name": "stdout",
     "output_type": "stream",
     "text": [
      "2022-12-03 20:48:40> Processing of F:/AP_Paper_Benchmark/PXD015087_Thermo\\March_Hela_P035212_BA1_S00_A00_R2.raw for step search_db succeeded. 96.00 %\n",
      "2022-12-03 20:48:40> Processing of F:/AP_Paper_Benchmark/PXD015087_Thermo\\March_Hela_P035212_BA1_S00_A00_R20.raw for step search_db succeeded. 96.50 %\n",
      "2022-12-03 20:48:40> Processing of F:/AP_Paper_Benchmark/PXD015087_Thermo\\March_Hela_P035212_BA1_S00_A00_R3.raw for step search_db succeeded. 97.00 %\n",
      "2022-12-03 20:48:40> Processing of F:/AP_Paper_Benchmark/PXD015087_Thermo\\March_Hela_P035212_BA1_S00_A00_R4.raw for step search_db succeeded. 97.50 %\n",
      "2022-12-03 20:48:41> Processing of F:/AP_Paper_Benchmark/PXD015087_Thermo\\March_Hela_P035212_BA1_S00_A00_R5.raw for step search_db succeeded. 98.00 %\n",
      "2022-12-03 20:48:46> Processing of F:/AP_Paper_Benchmark/PXD015087_Thermo\\March_Hela_P035212_BA1_S00_A00_R6.raw for step search_db succeeded. 98.50 %\n"
     ]
    },
    {
     "name": "stderr",
     "output_type": "stream",
     "text": [
      "\r",
      " 98%|█████████████████████████████████████████████████████████████████████████████▊ | 0.985/1 [04:19<00:02, 169.41s/it]"
     ]
    },
    {
     "name": "stdout",
     "output_type": "stream",
     "text": [
      "2022-12-03 20:48:47> Processing of F:/AP_Paper_Benchmark/PXD015087_Thermo\\March_Hela_P035212_BA1_S00_A00_R7.raw for step search_db succeeded. 99.00 %\n"
     ]
    },
    {
     "name": "stderr",
     "output_type": "stream",
     "text": [
      "\r",
      " 99%|███████████████████████████████████████████████████████████████████████████████▏| 0.99/1 [04:20<00:01, 176.66s/it]"
     ]
    },
    {
     "name": "stdout",
     "output_type": "stream",
     "text": [
      "2022-12-03 20:48:47> Processing of F:/AP_Paper_Benchmark/PXD015087_Thermo\\March_Hela_P035212_BA1_S00_A00_R8.raw for step search_db succeeded. 99.50 %\n"
     ]
    },
    {
     "name": "stderr",
     "output_type": "stream",
     "text": [
      "\r",
      "100%|██████████████████████████████████████████████████████████████████████████████▌| 0.995/1 [04:20<00:00, 156.89s/it]"
     ]
    },
    {
     "name": "stdout",
     "output_type": "stream",
     "text": [
      "2022-12-03 20:48:47> Processing of F:/AP_Paper_Benchmark/PXD015087_Thermo\\March_Hela_P035212_BA1_S00_A00_R9.raw for step search_db succeeded. 100.00 %\n",
      "2022-12-03 20:49:08> Second search complete.\n"
     ]
    },
    {
     "name": "stderr",
     "output_type": "stream",
     "text": [
      "100%|█████████████████████████████████████████████████████████████████████████████████| 1.0/1 [04:41<00:00, 281.60s/it]\n"
     ]
    },
    {
     "name": "stdout",
     "output_type": "stream",
     "text": [
      "2022-12-03 20:49:09> ==== score ====\n"
     ]
    },
    {
     "name": "stderr",
     "output_type": "stream",
     "text": [
      "\r",
      "  0%|                                                                                            | 0/1 [00:00<?, ?it/s]"
     ]
    },
    {
     "name": "stdout",
     "output_type": "stream",
     "text": [
      "2022-12-03 20:49:09> Processing 200 files for step score_hdf\n",
      "2022-12-03 20:49:09> AlphaPool was set to 24 processes. Setting max to 24.\n",
      "2022-12-03 20:49:52> Processing of F:/AP_Paper_Benchmark/PXD015087_Thermo\\Hela_P035210_BA1_S00_A00_R1.raw for step score_hdf succeeded. 0.50 %\n"
     ]
    },
    {
     "name": "stderr",
     "output_type": "stream",
     "text": [
      "\r",
      "  0%|▍                                                                           | 0.005/1 [00:43<2:23:13, 8636.38s/it]"
     ]
    },
    {
     "name": "stdout",
     "output_type": "stream",
     "text": [
      "2022-12-03 20:49:52> Processing of F:/AP_Paper_Benchmark/PXD015087_Thermo\\Hela_P035210_BA1_S00_A00_R10.raw for step score_hdf succeeded. 1.00 %\n",
      "2022-12-03 20:49:52> Processing of F:/AP_Paper_Benchmark/PXD015087_Thermo\\Hela_P035210_BA1_S00_A00_R11.raw for step score_hdf succeeded. 1.50 %\n",
      "2022-12-03 20:49:52> Processing of F:/AP_Paper_Benchmark/PXD015087_Thermo\\Hela_P035210_BA1_S00_A00_R12.raw for step score_hdf succeeded. 2.00 %\n",
      "2022-12-03 20:49:52> Processing of F:/AP_Paper_Benchmark/PXD015087_Thermo\\Hela_P035210_BA1_S00_A00_R13.raw for step score_hdf succeeded. 2.50 %\n",
      "2022-12-03 20:49:52> Processing of F:/AP_Paper_Benchmark/PXD015087_Thermo\\Hela_P035210_BA1_S00_A00_R14.raw for step score_hdf succeeded. 3.00 %\n",
      "2022-12-03 20:49:53> Processing of F:/AP_Paper_Benchmark/PXD015087_Thermo\\Hela_P035210_BA1_S00_A00_R15.raw for step score_hdf succeeded. 3.50 %\n"
     ]
    },
    {
     "name": "stderr",
     "output_type": "stream",
     "text": [
      "\r",
      "  4%|██▊                                                                            | 0.035/1 [00:43<14:34, 906.27s/it]"
     ]
    },
    {
     "name": "stdout",
     "output_type": "stream",
     "text": [
      "2022-12-03 20:49:53> Processing of F:/AP_Paper_Benchmark/PXD015087_Thermo\\Hela_P035210_BA1_S00_A00_R16.raw for step score_hdf succeeded. 4.00 %\n",
      "2022-12-03 20:49:53> Processing of F:/AP_Paper_Benchmark/PXD015087_Thermo\\Hela_P035210_BA1_S00_A00_R17.raw for step score_hdf succeeded. 4.50 %\n",
      "2022-12-03 20:49:53> Processing of F:/AP_Paper_Benchmark/PXD015087_Thermo\\Hela_P035210_BA1_S00_A00_R18.raw for step score_hdf succeeded. 5.00 %\n",
      "2022-12-03 20:49:53> Processing of F:/AP_Paper_Benchmark/PXD015087_Thermo\\Hela_P035210_BA1_S00_A00_R19.raw for step score_hdf succeeded. 5.50 %\n",
      "2022-12-03 20:49:53> Processing of F:/AP_Paper_Benchmark/PXD015087_Thermo\\Hela_P035210_BA1_S00_A00_R2.raw for step score_hdf succeeded. 6.00 %\n",
      "2022-12-03 20:49:53> Processing of F:/AP_Paper_Benchmark/PXD015087_Thermo\\Hela_P035210_BA1_S00_A00_R20.raw for step score_hdf succeeded. 6.50 %\n",
      "2022-12-03 20:49:53> Processing of F:/AP_Paper_Benchmark/PXD015087_Thermo\\Hela_P035210_BA1_S00_A00_R3.raw for step score_hdf succeeded. 7.00 %\n",
      "2022-12-03 20:49:53> Processing of F:/AP_Paper_Benchmark/PXD015087_Thermo\\Hela_P035210_BA1_S00_A00_R4.raw for step score_hdf succeeded. 7.50 %\n",
      "2022-12-03 20:49:53> Processing of F:/AP_Paper_Benchmark/PXD015087_Thermo\\Hela_P035210_BA1_S00_A00_R5.raw for step score_hdf succeeded. 8.00 %\n",
      "2022-12-03 20:49:53> Processing of F:/AP_Paper_Benchmark/PXD015087_Thermo\\Hela_P035210_BA1_S00_A00_R6.raw for step score_hdf succeeded. 8.50 %\n",
      "2022-12-03 20:49:53> Processing of F:/AP_Paper_Benchmark/PXD015087_Thermo\\Hela_P035210_BA1_S00_A00_R7.raw for step score_hdf succeeded. 9.00 %\n",
      "2022-12-03 20:49:53> Processing of F:/AP_Paper_Benchmark/PXD015087_Thermo\\Hela_P035210_BA1_S00_A00_R8.raw for step score_hdf succeeded. 9.50 %\n",
      "2022-12-03 20:49:53> Processing of F:/AP_Paper_Benchmark/PXD015087_Thermo\\Hela_P035210_BA1_S00_A00_R9.raw for step score_hdf succeeded. 10.00 %\n",
      "2022-12-03 20:49:53> Processing of F:/AP_Paper_Benchmark/PXD015087_Thermo\\Hela_P035211_BA1_S00_A00_R1.raw for step score_hdf succeeded. 10.50 %\n",
      "2022-12-03 20:49:53> Processing of F:/AP_Paper_Benchmark/PXD015087_Thermo\\Hela_P035211_BA1_S00_A00_R10.raw for step score_hdf succeeded. 11.00 %\n",
      "2022-12-03 20:49:53> Processing of F:/AP_Paper_Benchmark/PXD015087_Thermo\\Hela_P035211_BA1_S00_A00_R11.raw for step score_hdf succeeded. 11.50 %\n"
     ]
    },
    {
     "name": "stderr",
     "output_type": "stream",
     "text": [
      "\r",
      " 12%|█████████                                                                      | 0.115/1 [00:43<03:06, 210.98s/it]"
     ]
    },
    {
     "name": "stdout",
     "output_type": "stream",
     "text": [
      "2022-12-03 20:49:53> Processing of F:/AP_Paper_Benchmark/PXD015087_Thermo\\Hela_P035211_BA1_S00_A00_R12.raw for step score_hdf succeeded. 12.00 %\n",
      "2022-12-03 20:50:21> Processing of F:/AP_Paper_Benchmark/PXD015087_Thermo\\Hela_P035211_BA1_S00_A00_R13.raw for step score_hdf succeeded. 12.50 %\n",
      "2022-12-03 20:50:21> Processing of F:/AP_Paper_Benchmark/PXD015087_Thermo\\Hela_P035211_BA1_S00_A00_R14.raw for step score_hdf succeeded. 13.00 %\n",
      "2022-12-03 20:50:21> Processing of F:/AP_Paper_Benchmark/PXD015087_Thermo\\Hela_P035211_BA1_S00_A00_R15.raw for step score_hdf succeeded. 13.50 %\n"
     ]
    },
    {
     "name": "stderr",
     "output_type": "stream",
     "text": [
      "\r",
      " 14%|██████████▋                                                                    | 0.135/1 [01:12<06:47, 471.23s/it]"
     ]
    },
    {
     "name": "stdout",
     "output_type": "stream",
     "text": [
      "2022-12-03 20:50:21> Processing of F:/AP_Paper_Benchmark/PXD015087_Thermo\\Hela_P035211_BA1_S00_A00_R16.raw for step score_hdf succeeded. 14.00 %\n",
      "2022-12-03 20:50:21> Processing of F:/AP_Paper_Benchmark/PXD015087_Thermo\\Hela_P035211_BA1_S00_A00_R17.raw for step score_hdf succeeded. 14.50 %\n",
      "2022-12-03 20:50:21> Processing of F:/AP_Paper_Benchmark/PXD015087_Thermo\\Hela_P035211_BA1_S00_A00_R18.raw for step score_hdf succeeded. 15.00 %\n",
      "2022-12-03 20:50:21> Processing of F:/AP_Paper_Benchmark/PXD015087_Thermo\\Hela_P035211_BA1_S00_A00_R19.raw for step score_hdf succeeded. 15.50 %\n",
      "2022-12-03 20:50:22> Processing of F:/AP_Paper_Benchmark/PXD015087_Thermo\\Hela_P035211_BA1_S00_A00_R2.raw for step score_hdf succeeded. 16.00 %\n"
     ]
    },
    {
     "name": "stderr",
     "output_type": "stream",
     "text": [
      "\r",
      " 16%|████████████▊                                                                   | 0.16/1 [01:13<04:54, 350.34s/it]"
     ]
    },
    {
     "name": "stdout",
     "output_type": "stream",
     "text": [
      "2022-12-03 20:50:22> Processing of F:/AP_Paper_Benchmark/PXD015087_Thermo\\Hela_P035211_BA1_S00_A00_R20.raw for step score_hdf succeeded. 16.50 %\n",
      "2022-12-03 20:50:24> Processing of F:/AP_Paper_Benchmark/PXD015087_Thermo\\Hela_P035211_BA1_S00_A00_R3.raw for step score_hdf succeeded. 17.00 %\n",
      "2022-12-03 20:50:24> Processing of F:/AP_Paper_Benchmark/PXD015087_Thermo\\Hela_P035211_BA1_S00_A00_R4.raw for step score_hdf succeeded. 17.50 %\n"
     ]
    },
    {
     "name": "stderr",
     "output_type": "stream",
     "text": [
      "\r",
      " 18%|█████████████▊                                                                 | 0.175/1 [01:14<04:08, 300.88s/it]"
     ]
    },
    {
     "name": "stdout",
     "output_type": "stream",
     "text": [
      "2022-12-03 20:50:24> Processing of F:/AP_Paper_Benchmark/PXD015087_Thermo\\Hela_P035211_BA1_S00_A00_R5.raw for step score_hdf succeeded. 18.00 %\n",
      "2022-12-03 20:50:24> Processing of F:/AP_Paper_Benchmark/PXD015087_Thermo\\Hela_P035211_BA1_S00_A00_R6.raw for step score_hdf succeeded. 18.50 %\n"
     ]
    },
    {
     "name": "stderr",
     "output_type": "stream",
     "text": [
      "\r",
      " 18%|██████████████▌                                                                | 0.185/1 [01:14<03:30, 258.72s/it]"
     ]
    },
    {
     "name": "stdout",
     "output_type": "stream",
     "text": [
      "2022-12-03 20:50:24> Processing of F:/AP_Paper_Benchmark/PXD015087_Thermo\\Hela_P035211_BA1_S00_A00_R7.raw for step score_hdf succeeded. 19.00 %\n",
      "2022-12-03 20:50:24> Processing of F:/AP_Paper_Benchmark/PXD015087_Thermo\\Hela_P035211_BA1_S00_A00_R8.raw for step score_hdf succeeded. 19.50 %\n",
      "2022-12-03 20:50:24> Processing of F:/AP_Paper_Benchmark/PXD015087_Thermo\\Hela_P035211_BA1_S00_A00_R9.raw for step score_hdf succeeded. 20.00 %\n",
      "2022-12-03 20:50:24> Processing of F:/AP_Paper_Benchmark/PXD015087_Thermo\\Hela_P035213_BA1_S00_A00_R1.raw for step score_hdf succeeded. 20.50 %\n",
      "2022-12-03 20:50:24> Processing of F:/AP_Paper_Benchmark/PXD015087_Thermo\\Hela_P035213_BA1_S00_A00_R10.raw for step score_hdf succeeded. 21.00 %\n",
      "2022-12-03 20:50:24> Processing of F:/AP_Paper_Benchmark/PXD015087_Thermo\\Hela_P035213_BA1_S00_A00_R11.raw for step score_hdf succeeded. 21.50 %\n",
      "2022-12-03 20:50:24> Processing of F:/AP_Paper_Benchmark/PXD015087_Thermo\\Hela_P035213_BA1_S00_A00_R12.raw for step score_hdf succeeded. 22.00 %\n",
      "2022-12-03 20:50:24> Processing of F:/AP_Paper_Benchmark/PXD015087_Thermo\\Hela_P035213_BA1_S00_A00_R13.raw for step score_hdf succeeded. 22.50 %\n",
      "2022-12-03 20:50:24> Processing of F:/AP_Paper_Benchmark/PXD015087_Thermo\\Hela_P035213_BA1_S00_A00_R14.raw for step score_hdf succeeded. 23.00 %\n",
      "2022-12-03 20:50:24> Processing of F:/AP_Paper_Benchmark/PXD015087_Thermo\\Hela_P035213_BA1_S00_A00_R15.raw for step score_hdf succeeded. 23.50 %\n",
      "2022-12-03 20:50:24> Processing of F:/AP_Paper_Benchmark/PXD015087_Thermo\\Hela_P035213_BA1_S00_A00_R16.raw for step score_hdf succeeded. 24.00 %\n",
      "2022-12-03 20:50:49> Processing of F:/AP_Paper_Benchmark/PXD015087_Thermo\\Hela_P035213_BA1_S00_A00_R17.raw for step score_hdf succeeded. 24.50 %\n"
     ]
    },
    {
     "name": "stderr",
     "output_type": "stream",
     "text": [
      "\r",
      " 24%|███████████████████▎                                                           | 0.245/1 [01:39<04:22, 347.07s/it]"
     ]
    },
    {
     "name": "stdout",
     "output_type": "stream",
     "text": [
      "2022-12-03 20:50:49> Processing of F:/AP_Paper_Benchmark/PXD015087_Thermo\\Hela_P035213_BA1_S00_A00_R18.raw for step score_hdf succeeded. 25.00 %\n"
     ]
    },
    {
     "name": "stderr",
     "output_type": "stream",
     "text": [
      "\r",
      " 25%|████████████████████                                                            | 0.25/1 [01:40<04:07, 330.13s/it]"
     ]
    },
    {
     "name": "stdout",
     "output_type": "stream",
     "text": [
      "2022-12-03 20:50:50> Processing of F:/AP_Paper_Benchmark/PXD015087_Thermo\\Hela_P035213_BA1_S00_A00_R19.raw for step score_hdf succeeded. 25.50 %\n"
     ]
    },
    {
     "name": "stderr",
     "output_type": "stream",
     "text": [
      "\r",
      " 26%|████████████████████▏                                                          | 0.255/1 [01:41<03:58, 320.37s/it]"
     ]
    },
    {
     "name": "stdout",
     "output_type": "stream",
     "text": [
      "2022-12-03 20:50:50> Processing of F:/AP_Paper_Benchmark/PXD015087_Thermo\\Hela_P035213_BA1_S00_A00_R2.raw for step score_hdf succeeded. 26.00 %\n",
      "2022-12-03 20:50:51> Processing of F:/AP_Paper_Benchmark/PXD015087_Thermo\\Hela_P035213_BA1_S00_A00_R20.raw for step score_hdf succeeded. 26.50 %\n"
     ]
    },
    {
     "name": "stderr",
     "output_type": "stream",
     "text": [
      "\r",
      " 26%|████████████████████▉                                                          | 0.265/1 [01:41<03:13, 263.21s/it]"
     ]
    },
    {
     "name": "stdout",
     "output_type": "stream",
     "text": [
      "2022-12-03 20:50:52> Processing of F:/AP_Paper_Benchmark/PXD015087_Thermo\\Hela_P035213_BA1_S00_A00_R3.raw for step score_hdf succeeded. 27.00 %\n"
     ]
    },
    {
     "name": "stderr",
     "output_type": "stream",
     "text": [
      "\r",
      " 27%|█████████████████████▌                                                          | 0.27/1 [01:42<03:15, 268.09s/it]"
     ]
    },
    {
     "name": "stdout",
     "output_type": "stream",
     "text": [
      "2022-12-03 20:50:52> Processing of F:/AP_Paper_Benchmark/PXD015087_Thermo\\Hela_P035213_BA1_S00_A00_R4.raw for step score_hdf succeeded. 27.50 %\n",
      "2022-12-03 20:50:52> Processing of F:/AP_Paper_Benchmark/PXD015087_Thermo\\Hela_P035213_BA1_S00_A00_R5.raw for step score_hdf succeeded. 28.00 %\n",
      "2022-12-03 20:50:52> Processing of F:/AP_Paper_Benchmark/PXD015087_Thermo\\Hela_P035213_BA1_S00_A00_R6.raw for step score_hdf succeeded. 28.50 %\n"
     ]
    },
    {
     "name": "stderr",
     "output_type": "stream",
     "text": [
      "\r",
      " 28%|██████████████████████▌                                                        | 0.285/1 [01:42<02:08, 179.63s/it]"
     ]
    },
    {
     "name": "stdout",
     "output_type": "stream",
     "text": [
      "2022-12-03 20:50:52> Processing of F:/AP_Paper_Benchmark/PXD015087_Thermo\\Hela_P035213_BA1_S00_A00_R7.raw for step score_hdf succeeded. 29.00 %\n",
      "2022-12-03 20:50:54> Processing of F:/AP_Paper_Benchmark/PXD015087_Thermo\\Hela_P035213_BA1_S00_A00_R8.raw for step score_hdf succeeded. 29.50 %\n"
     ]
    },
    {
     "name": "stderr",
     "output_type": "stream",
     "text": [
      "\r",
      " 30%|███████████████████████▎                                                       | 0.295/1 [01:44<02:02, 174.24s/it]"
     ]
    },
    {
     "name": "stdout",
     "output_type": "stream",
     "text": [
      "2022-12-03 20:50:54> Processing of F:/AP_Paper_Benchmark/PXD015087_Thermo\\Hela_P035213_BA1_S00_A00_R9.raw for step score_hdf succeeded. 30.00 %\n"
     ]
    },
    {
     "name": "stderr",
     "output_type": "stream",
     "text": [
      "\r",
      " 30%|████████████████████████▎                                                        | 0.3/1 [01:45<01:54, 163.03s/it]"
     ]
    },
    {
     "name": "stdout",
     "output_type": "stream",
     "text": [
      "2022-12-03 20:50:54> Processing of F:/AP_Paper_Benchmark/PXD015087_Thermo\\Hela_P035214_BA1_S00_A00_R1.raw for step score_hdf succeeded. 30.50 %\n",
      "2022-12-03 20:50:54> Processing of F:/AP_Paper_Benchmark/PXD015087_Thermo\\Hela_P035214_BA1_S00_A00_R10.raw for step score_hdf succeeded. 31.00 %\n",
      "2022-12-03 20:50:54> Processing of F:/AP_Paper_Benchmark/PXD015087_Thermo\\Hela_P035214_BA1_S00_A00_R11.raw for step score_hdf succeeded. 31.50 %\n",
      "2022-12-03 20:50:54> Processing of F:/AP_Paper_Benchmark/PXD015087_Thermo\\Hela_P035214_BA1_S00_A00_R12.raw for step score_hdf succeeded. 32.00 %\n",
      "2022-12-03 20:50:54> Processing of F:/AP_Paper_Benchmark/PXD015087_Thermo\\Hela_P035214_BA1_S00_A00_R13.raw for step score_hdf succeeded. 32.50 %\n",
      "2022-12-03 20:50:54> Processing of F:/AP_Paper_Benchmark/PXD015087_Thermo\\Hela_P035214_BA1_S00_A00_R14.raw for step score_hdf succeeded. 33.00 %\n",
      "2022-12-03 20:50:54> Processing of F:/AP_Paper_Benchmark/PXD015087_Thermo\\Hela_P035214_BA1_S00_A00_R15.raw for step score_hdf succeeded. 33.50 %\n"
     ]
    },
    {
     "name": "stderr",
     "output_type": "stream",
     "text": [
      "\r",
      " 34%|██████████████████████████▊                                                     | 0.335/1 [01:45<00:44, 67.33s/it]"
     ]
    },
    {
     "name": "stdout",
     "output_type": "stream",
     "text": [
      "2022-12-03 20:50:54> Processing of F:/AP_Paper_Benchmark/PXD015087_Thermo\\Hela_P035214_BA1_S00_A00_R16.raw for step score_hdf succeeded. 34.00 %\n",
      "2022-12-03 20:50:54> Processing of F:/AP_Paper_Benchmark/PXD015087_Thermo\\Hela_P035214_BA1_S00_A00_R17.raw for step score_hdf succeeded. 34.50 %\n",
      "2022-12-03 20:50:54> Processing of F:/AP_Paper_Benchmark/PXD015087_Thermo\\Hela_P035214_BA1_S00_A00_R18.raw for step score_hdf succeeded. 35.00 %\n",
      "2022-12-03 20:50:54> Processing of F:/AP_Paper_Benchmark/PXD015087_Thermo\\Hela_P035214_BA1_S00_A00_R19.raw for step score_hdf succeeded. 35.50 %\n",
      "2022-12-03 20:50:54> Processing of F:/AP_Paper_Benchmark/PXD015087_Thermo\\Hela_P035214_BA1_S00_A00_R2.raw for step score_hdf succeeded. 36.00 %\n",
      "2022-12-03 20:51:19> Processing of F:/AP_Paper_Benchmark/PXD015087_Thermo\\Hela_P035214_BA1_S00_A00_R20.raw for step score_hdf succeeded. 36.50 %\n"
     ]
    },
    {
     "name": "stderr",
     "output_type": "stream",
     "text": [
      "\r",
      " 36%|████████████████████████████▊                                                  | 0.365/1 [02:09<04:05, 386.44s/it]"
     ]
    },
    {
     "name": "stdout",
     "output_type": "stream",
     "text": [
      "2022-12-03 20:51:20> Processing of F:/AP_Paper_Benchmark/PXD015087_Thermo\\Hela_P035214_BA1_S00_A00_R3.raw for step score_hdf succeeded. 37.00 %\n"
     ]
    },
    {
     "name": "stderr",
     "output_type": "stream",
     "text": [
      "\r",
      " 37%|█████████████████████████████▌                                                  | 0.37/1 [02:10<03:47, 361.57s/it]"
     ]
    },
    {
     "name": "stdout",
     "output_type": "stream",
     "text": [
      "2022-12-03 20:51:20> Processing of F:/AP_Paper_Benchmark/PXD015087_Thermo\\Hela_P035214_BA1_S00_A00_R4.raw for step score_hdf succeeded. 37.50 %\n",
      "2022-12-03 20:51:22> Processing of F:/AP_Paper_Benchmark/PXD015087_Thermo\\Hela_P035214_BA1_S00_A00_R5.raw for step score_hdf succeeded. 38.00 %\n"
     ]
    },
    {
     "name": "stderr",
     "output_type": "stream",
     "text": [
      "\r",
      " 38%|██████████████████████████████▍                                                 | 0.38/1 [02:12<03:26, 333.77s/it]"
     ]
    },
    {
     "name": "stdout",
     "output_type": "stream",
     "text": [
      "2022-12-03 20:51:22> Processing of F:/AP_Paper_Benchmark/PXD015087_Thermo\\Hela_P035214_BA1_S00_A00_R6.raw for step score_hdf succeeded. 38.50 %\n",
      "2022-12-03 20:51:23> Processing of F:/AP_Paper_Benchmark/PXD015087_Thermo\\Hela_P035214_BA1_S00_A00_R7.raw for step score_hdf succeeded. 39.00 %\n"
     ]
    },
    {
     "name": "stderr",
     "output_type": "stream",
     "text": [
      "\r",
      " 39%|███████████████████████████████▏                                                | 0.39/1 [02:13<02:47, 274.72s/it]"
     ]
    },
    {
     "name": "stdout",
     "output_type": "stream",
     "text": [
      "2022-12-03 20:51:23> Processing of F:/AP_Paper_Benchmark/PXD015087_Thermo\\Hela_P035214_BA1_S00_A00_R8.raw for step score_hdf succeeded. 39.50 %\n",
      "2022-12-03 20:51:23> Processing of F:/AP_Paper_Benchmark/PXD015087_Thermo\\Hela_P035214_BA1_S00_A00_R9.raw for step score_hdf succeeded. 40.00 %\n"
     ]
    },
    {
     "name": "stderr",
     "output_type": "stream",
     "text": [
      "\r",
      " 40%|████████████████████████████████▍                                                | 0.4/1 [02:13<02:11, 219.56s/it]"
     ]
    },
    {
     "name": "stdout",
     "output_type": "stream",
     "text": [
      "2022-12-03 20:51:23> Processing of F:/AP_Paper_Benchmark/PXD015087_Thermo\\Hela_P035215_BA1_S00_A00_R1.raw for step score_hdf succeeded. 40.50 %\n",
      "2022-12-03 20:51:23> Processing of F:/AP_Paper_Benchmark/PXD015087_Thermo\\Hela_P035215_BA1_S00_A00_R10.raw for step score_hdf succeeded. 41.00 %\n",
      "2022-12-03 20:51:23> Processing of F:/AP_Paper_Benchmark/PXD015087_Thermo\\Hela_P035215_BA1_S00_A00_R11.raw for step score_hdf succeeded. 41.50 %\n",
      "2022-12-03 20:51:23> Processing of F:/AP_Paper_Benchmark/PXD015087_Thermo\\Hela_P035215_BA1_S00_A00_R12.raw for step score_hdf succeeded. 42.00 %\n",
      "2022-12-03 20:51:23> Processing of F:/AP_Paper_Benchmark/PXD015087_Thermo\\Hela_P035215_BA1_S00_A00_R13.raw for step score_hdf succeeded. 42.50 %\n",
      "2022-12-03 20:51:23> Processing of F:/AP_Paper_Benchmark/PXD015087_Thermo\\Hela_P035215_BA1_S00_A00_R14.raw for step score_hdf succeeded. 43.00 %\n",
      "2022-12-03 20:51:23> Processing of F:/AP_Paper_Benchmark/PXD015087_Thermo\\Hela_P035215_BA1_S00_A00_R15.raw for step score_hdf succeeded. 43.50 %\n",
      "2022-12-03 20:51:23> Processing of F:/AP_Paper_Benchmark/PXD015087_Thermo\\Hela_P035215_BA1_S00_A00_R16.raw for step score_hdf succeeded. 44.00 %\n",
      "2022-12-03 20:51:23> Processing of F:/AP_Paper_Benchmark/PXD015087_Thermo\\Hela_P035215_BA1_S00_A00_R17.raw for step score_hdf succeeded. 44.50 %\n",
      "2022-12-03 20:51:23> Processing of F:/AP_Paper_Benchmark/PXD015087_Thermo\\Hela_P035215_BA1_S00_A00_R18.raw for step score_hdf succeeded. 45.00 %\n",
      "2022-12-03 20:51:23> Processing of F:/AP_Paper_Benchmark/PXD015087_Thermo\\Hela_P035215_BA1_S00_A00_R19.raw for step score_hdf succeeded. 45.50 %\n",
      "2022-12-03 20:51:23> Processing of F:/AP_Paper_Benchmark/PXD015087_Thermo\\Hela_P035215_BA1_S00_A00_R2.raw for step score_hdf succeeded. 46.00 %\n",
      "2022-12-03 20:51:23> Processing of F:/AP_Paper_Benchmark/PXD015087_Thermo\\Hela_P035215_BA1_S00_A00_R20.raw for step score_hdf succeeded. 46.50 %\n",
      "2022-12-03 20:51:23> Processing of F:/AP_Paper_Benchmark/PXD015087_Thermo\\Hela_P035215_BA1_S00_A00_R3.raw for step score_hdf succeeded. 47.00 %\n",
      "2022-12-03 20:51:23> Processing of F:/AP_Paper_Benchmark/PXD015087_Thermo\\Hela_P035215_BA1_S00_A00_R4.raw for step score_hdf succeeded. 47.50 %\n",
      "2022-12-03 20:51:23> Processing of F:/AP_Paper_Benchmark/PXD015087_Thermo\\Hela_P035215_BA1_S00_A00_R5.raw for step score_hdf succeeded. 48.00 %\n",
      "2022-12-03 20:51:45> Processing of F:/AP_Paper_Benchmark/PXD015087_Thermo\\Hela_P035215_BA1_S00_A00_R6.raw for step score_hdf succeeded. 48.50 %\n"
     ]
    },
    {
     "name": "stderr",
     "output_type": "stream",
     "text": [
      "\r",
      " 48%|██████████████████████████████████████▎                                        | 0.485/1 [02:35<02:06, 245.09s/it]"
     ]
    },
    {
     "name": "stdout",
     "output_type": "stream",
     "text": [
      "2022-12-03 20:51:45> Processing of F:/AP_Paper_Benchmark/PXD015087_Thermo\\Hela_P035215_BA1_S00_A00_R7.raw for step score_hdf succeeded. 49.00 %\n",
      "2022-12-03 20:51:45> Processing of F:/AP_Paper_Benchmark/PXD015087_Thermo\\Hela_P035215_BA1_S00_A00_R8.raw for step score_hdf succeeded. 49.50 %\n"
     ]
    },
    {
     "name": "stderr",
     "output_type": "stream",
     "text": [
      "\r",
      " 50%|███████████████████████████████████████                                        | 0.495/1 [02:35<01:51, 220.94s/it]"
     ]
    },
    {
     "name": "stdout",
     "output_type": "stream",
     "text": [
      "2022-12-03 20:51:45> Processing of F:/AP_Paper_Benchmark/PXD015087_Thermo\\Hela_P035215_BA1_S00_A00_R9.raw for step score_hdf succeeded. 50.00 %\n",
      "2022-12-03 20:51:48> Processing of F:/AP_Paper_Benchmark/PXD015087_Thermo\\Hela_P035216_BA1_S00_A00_R1.raw for step score_hdf succeeded. 50.50 %\n"
     ]
    },
    {
     "name": "stderr",
     "output_type": "stream",
     "text": [
      "\r",
      " 50%|███████████████████████████████████████▉                                       | 0.505/1 [02:38<01:56, 234.82s/it]"
     ]
    },
    {
     "name": "stdout",
     "output_type": "stream",
     "text": [
      "2022-12-03 20:51:48> Processing of F:/AP_Paper_Benchmark/PXD015087_Thermo\\Hela_P035216_BA1_S00_A00_R10.raw for step score_hdf succeeded. 51.00 %\n",
      "2022-12-03 20:51:48> Processing of F:/AP_Paper_Benchmark/PXD015087_Thermo\\Hela_P035216_BA1_S00_A00_R11.raw for step score_hdf succeeded. 51.50 %\n",
      "2022-12-03 20:51:48> Processing of F:/AP_Paper_Benchmark/PXD015087_Thermo\\Hela_P035216_BA1_S00_A00_R12.raw for step score_hdf succeeded. 52.00 %\n",
      "2022-12-03 20:51:48> Processing of F:/AP_Paper_Benchmark/PXD015087_Thermo\\Hela_P035216_BA1_S00_A00_R13.raw for step score_hdf succeeded. 52.50 %\n"
     ]
    },
    {
     "name": "stderr",
     "output_type": "stream",
     "text": [
      "\r",
      " 52%|█████████████████████████████████████████▍                                     | 0.525/1 [02:39<01:20, 169.92s/it]"
     ]
    },
    {
     "name": "stdout",
     "output_type": "stream",
     "text": [
      "2022-12-03 20:51:48> Processing of F:/AP_Paper_Benchmark/PXD015087_Thermo\\Hela_P035216_BA1_S00_A00_R14.raw for step score_hdf succeeded. 53.00 %\n",
      "2022-12-03 20:51:48> Processing of F:/AP_Paper_Benchmark/PXD015087_Thermo\\Hela_P035216_BA1_S00_A00_R15.raw for step score_hdf succeeded. 53.50 %\n",
      "2022-12-03 20:51:48> Processing of F:/AP_Paper_Benchmark/PXD015087_Thermo\\Hela_P035216_BA1_S00_A00_R16.raw for step score_hdf succeeded. 54.00 %\n",
      "2022-12-03 20:51:48> Processing of F:/AP_Paper_Benchmark/PXD015087_Thermo\\Hela_P035216_BA1_S00_A00_R17.raw for step score_hdf succeeded. 54.50 %\n",
      "2022-12-03 20:51:48> Processing of F:/AP_Paper_Benchmark/PXD015087_Thermo\\Hela_P035216_BA1_S00_A00_R18.raw for step score_hdf succeeded. 55.00 %\n",
      "2022-12-03 20:51:48> Processing of F:/AP_Paper_Benchmark/PXD015087_Thermo\\Hela_P035216_BA1_S00_A00_R19.raw for step score_hdf succeeded. 55.50 %\n",
      "2022-12-03 20:51:49> Processing of F:/AP_Paper_Benchmark/PXD015087_Thermo\\Hela_P035216_BA1_S00_A00_R2.raw for step score_hdf succeeded. 56.00 %\n"
     ]
    },
    {
     "name": "stderr",
     "output_type": "stream",
     "text": [
      "\r",
      " 56%|████████████████████████████████████████████▊                                   | 0.56/1 [02:39<00:46, 105.64s/it]"
     ]
    },
    {
     "name": "stdout",
     "output_type": "stream",
     "text": [
      "2022-12-03 20:51:49> Processing of F:/AP_Paper_Benchmark/PXD015087_Thermo\\Hela_P035216_BA1_S00_A00_R20.raw for step score_hdf succeeded. 56.50 %\n",
      "2022-12-03 20:51:49> Processing of F:/AP_Paper_Benchmark/PXD015087_Thermo\\Hela_P035216_BA1_S00_A00_R3.raw for step score_hdf succeeded. 57.00 %\n"
     ]
    },
    {
     "name": "stderr",
     "output_type": "stream",
     "text": [
      "\r",
      " 57%|██████████████████████████████████████████████▏                                  | 0.57/1 [02:39<00:41, 95.49s/it]"
     ]
    },
    {
     "name": "stdout",
     "output_type": "stream",
     "text": [
      "2022-12-03 20:51:50> Processing of F:/AP_Paper_Benchmark/PXD015087_Thermo\\Hela_P035216_BA1_S00_A00_R4.raw for step score_hdf succeeded. 57.50 %\n",
      "2022-12-03 20:51:50> Processing of F:/AP_Paper_Benchmark/PXD015087_Thermo\\Hela_P035216_BA1_S00_A00_R5.raw for step score_hdf succeeded. 58.00 %\n"
     ]
    },
    {
     "name": "stderr",
     "output_type": "stream",
     "text": [
      "\r",
      " 58%|██████████████████████████████████████████████▉                                  | 0.58/1 [02:41<00:41, 99.98s/it]"
     ]
    },
    {
     "name": "stdout",
     "output_type": "stream",
     "text": [
      "2022-12-03 20:51:51> Processing of F:/AP_Paper_Benchmark/PXD015087_Thermo\\Hela_P035216_BA1_S00_A00_R6.raw for step score_hdf succeeded. 58.50 %\n"
     ]
    },
    {
     "name": "stderr",
     "output_type": "stream",
     "text": [
      "\r",
      " 58%|██████████████████████████████████████████████▏                                | 0.585/1 [02:41<00:41, 100.48s/it]"
     ]
    },
    {
     "name": "stdout",
     "output_type": "stream",
     "text": [
      "2022-12-03 20:51:51> Processing of F:/AP_Paper_Benchmark/PXD015087_Thermo\\Hela_P035216_BA1_S00_A00_R7.raw for step score_hdf succeeded. 59.00 %\n"
     ]
    },
    {
     "name": "stderr",
     "output_type": "stream",
     "text": [
      "\r",
      " 59%|███████████████████████████████████████████████▊                                 | 0.59/1 [02:42<00:40, 99.41s/it]"
     ]
    },
    {
     "name": "stdout",
     "output_type": "stream",
     "text": [
      "2022-12-03 20:51:52> Processing of F:/AP_Paper_Benchmark/PXD015087_Thermo\\Hela_P035216_BA1_S00_A00_R8.raw for step score_hdf succeeded. 59.50 %\n"
     ]
    },
    {
     "name": "stderr",
     "output_type": "stream",
     "text": [
      "\r",
      " 60%|███████████████████████████████████████████████▌                                | 0.595/1 [02:42<00:36, 89.54s/it]"
     ]
    },
    {
     "name": "stdout",
     "output_type": "stream",
     "text": [
      "2022-12-03 20:51:52> Processing of F:/AP_Paper_Benchmark/PXD015087_Thermo\\Hela_P035216_BA1_S00_A00_R9.raw for step score_hdf succeeded. 60.00 %\n"
     ]
    },
    {
     "name": "stderr",
     "output_type": "stream",
     "text": [
      "\r",
      " 60%|█████████████████████████████████████████████████▏                                | 0.6/1 [02:42<00:38, 96.05s/it]"
     ]
    },
    {
     "name": "stdout",
     "output_type": "stream",
     "text": [
      "2022-12-03 20:52:10> Processing of F:/AP_Paper_Benchmark/PXD015087_Thermo\\Hela_P035217_BA1_S00_A00_R1.raw for step score_hdf succeeded. 60.50 %\n"
     ]
    },
    {
     "name": "stderr",
     "output_type": "stream",
     "text": [
      "\r",
      " 60%|███████████████████████████████████████████████▊                               | 0.605/1 [03:00<05:28, 830.71s/it]"
     ]
    },
    {
     "name": "stdout",
     "output_type": "stream",
     "text": [
      "2022-12-03 20:52:11> Processing of F:/AP_Paper_Benchmark/PXD015087_Thermo\\Hela_P035217_BA1_S00_A00_R10.raw for step score_hdf succeeded. 61.00 %\n"
     ]
    },
    {
     "name": "stderr",
     "output_type": "stream",
     "text": [
      "\r",
      " 61%|████████████████████████████████████████████████▊                               | 0.61/1 [03:01<04:22, 673.65s/it]"
     ]
    },
    {
     "name": "stdout",
     "output_type": "stream",
     "text": [
      "2022-12-03 20:52:12> Processing of F:/AP_Paper_Benchmark/PXD015087_Thermo\\Hela_P035217_BA1_S00_A00_R11.raw for step score_hdf succeeded. 61.50 %\n"
     ]
    },
    {
     "name": "stderr",
     "output_type": "stream",
     "text": [
      "\r",
      " 62%|████████████████████████████████████████████████▌                              | 0.615/1 [03:02<03:31, 549.14s/it]"
     ]
    },
    {
     "name": "stdout",
     "output_type": "stream",
     "text": [
      "2022-12-03 20:52:12> Processing of F:/AP_Paper_Benchmark/PXD015087_Thermo\\Hela_P035217_BA1_S00_A00_R12.raw for step score_hdf succeeded. 62.00 %\n"
     ]
    },
    {
     "name": "stderr",
     "output_type": "stream",
     "text": [
      "\r",
      " 62%|█████████████████████████████████████████████████▌                              | 0.62/1 [03:02<02:42, 426.81s/it]"
     ]
    },
    {
     "name": "stdout",
     "output_type": "stream",
     "text": [
      "2022-12-03 20:52:13> Processing of F:/AP_Paper_Benchmark/PXD015087_Thermo\\Hela_P035217_BA1_S00_A00_R13.raw for step score_hdf succeeded. 62.50 %\n"
     ]
    },
    {
     "name": "stderr",
     "output_type": "stream",
     "text": [
      "\r",
      " 62%|█████████████████████████████████████████████████▍                             | 0.625/1 [03:04<02:20, 374.49s/it]"
     ]
    },
    {
     "name": "stdout",
     "output_type": "stream",
     "text": [
      "2022-12-03 20:52:14> Processing of F:/AP_Paper_Benchmark/PXD015087_Thermo\\Hela_P035217_BA1_S00_A00_R14.raw for step score_hdf succeeded. 63.00 %\n"
     ]
    },
    {
     "name": "stderr",
     "output_type": "stream",
     "text": [
      "\r",
      " 63%|██████████████████████████████████████████████████▍                             | 0.63/1 [03:04<01:45, 284.34s/it]"
     ]
    },
    {
     "name": "stdout",
     "output_type": "stream",
     "text": [
      "2022-12-03 20:52:14> Processing of F:/AP_Paper_Benchmark/PXD015087_Thermo\\Hela_P035217_BA1_S00_A00_R15.raw for step score_hdf succeeded. 63.50 %\n"
     ]
    },
    {
     "name": "stderr",
     "output_type": "stream",
     "text": [
      "\r",
      " 64%|██████████████████████████████████████████████████▏                            | 0.635/1 [03:04<01:27, 239.84s/it]"
     ]
    },
    {
     "name": "stdout",
     "output_type": "stream",
     "text": [
      "2022-12-03 20:52:14> Processing of F:/AP_Paper_Benchmark/PXD015087_Thermo\\Hela_P035217_BA1_S00_A00_R16.raw for step score_hdf succeeded. 64.00 %\n"
     ]
    },
    {
     "name": "stderr",
     "output_type": "stream",
     "text": [
      "\r",
      " 64%|███████████████████████████████████████████████████▏                            | 0.64/1 [03:05<01:06, 186.05s/it]"
     ]
    },
    {
     "name": "stdout",
     "output_type": "stream",
     "text": [
      "2022-12-03 20:52:14> Processing of F:/AP_Paper_Benchmark/PXD015087_Thermo\\Hela_P035217_BA1_S00_A00_R17.raw for step score_hdf succeeded. 64.50 %\n",
      "2022-12-03 20:52:14> Processing of F:/AP_Paper_Benchmark/PXD015087_Thermo\\Hela_P035217_BA1_S00_A00_R18.raw for step score_hdf succeeded. 65.00 %\n",
      "2022-12-03 20:52:14> Processing of F:/AP_Paper_Benchmark/PXD015087_Thermo\\Hela_P035217_BA1_S00_A00_R19.raw for step score_hdf succeeded. 65.50 %\n",
      "2022-12-03 20:52:14> Processing of F:/AP_Paper_Benchmark/PXD015087_Thermo\\Hela_P035217_BA1_S00_A00_R2.raw for step score_hdf succeeded. 66.00 %\n",
      "2022-12-03 20:52:15> Processing of F:/AP_Paper_Benchmark/PXD015087_Thermo\\Hela_P035217_BA1_S00_A00_R20.raw for step score_hdf succeeded. 66.50 %\n"
     ]
    },
    {
     "name": "stderr",
     "output_type": "stream",
     "text": [
      "\r",
      " 66%|█████████████████████████████████████████████████████▏                          | 0.665/1 [03:06<00:27, 83.37s/it]"
     ]
    },
    {
     "name": "stdout",
     "output_type": "stream",
     "text": [
      "2022-12-03 20:52:15> Processing of F:/AP_Paper_Benchmark/PXD015087_Thermo\\Hela_P035217_BA1_S00_A00_R21.raw for step score_hdf succeeded. 67.00 %\n",
      "2022-12-03 20:52:15> Processing of F:/AP_Paper_Benchmark/PXD015087_Thermo\\Hela_P035217_BA1_S00_A00_R3.raw for step score_hdf succeeded. 67.50 %\n",
      "2022-12-03 20:52:15> Processing of F:/AP_Paper_Benchmark/PXD015087_Thermo\\Hela_P035217_BA1_S00_A00_R5.raw for step score_hdf succeeded. 68.00 %\n",
      "2022-12-03 20:52:16> Processing of F:/AP_Paper_Benchmark/PXD015087_Thermo\\Hela_P035217_BA1_S00_A00_R6.raw for step score_hdf succeeded. 68.50 %\n"
     ]
    },
    {
     "name": "stderr",
     "output_type": "stream",
     "text": [
      "\r",
      " 68%|██████████████████████████████████████████████████████▊                         | 0.685/1 [03:06<00:20, 63.67s/it]"
     ]
    },
    {
     "name": "stdout",
     "output_type": "stream",
     "text": [
      "2022-12-03 20:52:16> Processing of F:/AP_Paper_Benchmark/PXD015087_Thermo\\Hela_P035217_BA1_S00_A00_R7.raw for step score_hdf succeeded. 69.00 %\n",
      "2022-12-03 20:52:16> Processing of F:/AP_Paper_Benchmark/PXD015087_Thermo\\Hela_P035217_BA1_S00_A00_R8.raw for step score_hdf succeeded. 69.50 %\n",
      "2022-12-03 20:52:17> Processing of F:/AP_Paper_Benchmark/PXD015087_Thermo\\Hela_P035217_BA1_S00_A00_R9.raw for step score_hdf succeeded. 70.00 %\n"
     ]
    },
    {
     "name": "stderr",
     "output_type": "stream",
     "text": [
      "\r",
      " 70%|█████████████████████████████████████████████████████████▍                        | 0.7/1 [03:08<00:20, 69.22s/it]"
     ]
    },
    {
     "name": "stdout",
     "output_type": "stream",
     "text": [
      "2022-12-03 20:52:18> Processing of F:/AP_Paper_Benchmark/PXD015087_Thermo\\Hela_P035218_BA1_S00_A00_R1.raw for step score_hdf succeeded. 70.50 %\n"
     ]
    },
    {
     "name": "stderr",
     "output_type": "stream",
     "text": [
      "\r",
      " 70%|████████████████████████████████████████████████████████▍                       | 0.705/1 [03:08<00:21, 72.61s/it]"
     ]
    },
    {
     "name": "stdout",
     "output_type": "stream",
     "text": [
      "2022-12-03 20:52:18> Processing of F:/AP_Paper_Benchmark/PXD015087_Thermo\\Hela_P035218_BA1_S00_A00_R10.raw for step score_hdf succeeded. 71.00 %\n"
     ]
    },
    {
     "name": "stderr",
     "output_type": "stream",
     "text": [
      "\r",
      " 71%|█████████████████████████████████████████████████████████▌                       | 0.71/1 [03:08<00:20, 71.69s/it]"
     ]
    },
    {
     "name": "stdout",
     "output_type": "stream",
     "text": [
      "2022-12-03 20:52:19> Processing of F:/AP_Paper_Benchmark/PXD015087_Thermo\\Hela_P035218_BA1_S00_A00_R11.raw for step score_hdf succeeded. 71.50 %\n"
     ]
    },
    {
     "name": "stderr",
     "output_type": "stream",
     "text": [
      "\r",
      " 72%|█████████████████████████████████████████████████████████▏                      | 0.715/1 [03:09<00:25, 90.00s/it]"
     ]
    },
    {
     "name": "stdout",
     "output_type": "stream",
     "text": [
      "2022-12-03 20:52:20> Processing of F:/AP_Paper_Benchmark/PXD015087_Thermo\\Hela_P035218_BA1_S00_A00_R12.raw for step score_hdf succeeded. 72.00 %\n"
     ]
    },
    {
     "name": "stderr",
     "output_type": "stream",
     "text": [
      "\r",
      " 72%|█████████████████████████████████████████████████████████▌                      | 0.72/1 [03:10<00:29, 106.79s/it]"
     ]
    },
    {
     "name": "stdout",
     "output_type": "stream",
     "text": [
      "2022-12-03 20:52:31> Processing of F:/AP_Paper_Benchmark/PXD015087_Thermo\\Hela_P035218_BA1_S00_A00_R13.raw for step score_hdf succeeded. 72.50 %\n"
     ]
    },
    {
     "name": "stderr",
     "output_type": "stream",
     "text": [
      "\r",
      " 72%|█████████████████████████████████████████████████████████▎                     | 0.725/1 [03:21<02:38, 576.17s/it]"
     ]
    },
    {
     "name": "stdout",
     "output_type": "stream",
     "text": [
      "2022-12-03 20:52:31> Processing of F:/AP_Paper_Benchmark/PXD015087_Thermo\\Hela_P035218_BA1_S00_A00_R14.raw for step score_hdf succeeded. 73.00 %\n"
     ]
    },
    {
     "name": "stderr",
     "output_type": "stream",
     "text": [
      "\r",
      " 73%|██████████████████████████████████████████████████████████▍                     | 0.73/1 [03:21<02:02, 454.31s/it]"
     ]
    },
    {
     "name": "stdout",
     "output_type": "stream",
     "text": [
      "2022-12-03 20:52:31> Processing of F:/AP_Paper_Benchmark/PXD015087_Thermo\\Hela_P035218_BA1_S00_A00_R15.raw for step score_hdf succeeded. 73.50 %\n",
      "2022-12-03 20:52:31> Processing of F:/AP_Paper_Benchmark/PXD015087_Thermo\\Hela_P035218_BA1_S00_A00_R16.raw for step score_hdf succeeded. 74.00 %\n"
     ]
    },
    {
     "name": "stderr",
     "output_type": "stream",
     "text": [
      "\r",
      " 74%|███████████████████████████████████████████████████████████▏                    | 0.74/1 [03:22<01:14, 285.12s/it]"
     ]
    },
    {
     "name": "stdout",
     "output_type": "stream",
     "text": [
      "2022-12-03 20:52:32> Processing of F:/AP_Paper_Benchmark/PXD015087_Thermo\\Hela_P035218_BA1_S00_A00_R17.raw for step score_hdf succeeded. 74.50 %\n"
     ]
    },
    {
     "name": "stderr",
     "output_type": "stream",
     "text": [
      "\r",
      " 74%|██████████████████████████████████████████████████████████▊                    | 0.745/1 [03:22<01:00, 237.07s/it]"
     ]
    },
    {
     "name": "stdout",
     "output_type": "stream",
     "text": [
      "2022-12-03 20:52:37> Processing of F:/AP_Paper_Benchmark/PXD015087_Thermo\\Hela_P035218_BA1_S00_A00_R18.raw for step score_hdf succeeded. 75.00 %\n"
     ]
    },
    {
     "name": "stderr",
     "output_type": "stream",
     "text": [
      "\r",
      " 75%|████████████████████████████████████████████████████████████                    | 0.75/1 [03:27<01:44, 418.90s/it]"
     ]
    },
    {
     "name": "stdout",
     "output_type": "stream",
     "text": [
      "2022-12-03 20:52:38> Processing of F:/AP_Paper_Benchmark/PXD015087_Thermo\\Hela_P035218_BA1_S00_A00_R19.raw for step score_hdf succeeded. 75.50 %\n"
     ]
    },
    {
     "name": "stderr",
     "output_type": "stream",
     "text": [
      "\r",
      " 76%|███████████████████████████████████████████████████████████▋                   | 0.755/1 [03:28<01:30, 371.24s/it]"
     ]
    },
    {
     "name": "stdout",
     "output_type": "stream",
     "text": [
      "2022-12-03 20:52:38> Processing of F:/AP_Paper_Benchmark/PXD015087_Thermo\\Hela_P035218_BA1_S00_A00_R2.raw for step score_hdf succeeded. 76.00 %\n"
     ]
    },
    {
     "name": "stderr",
     "output_type": "stream",
     "text": [
      "\r",
      " 76%|████████████████████████████████████████████████████████████▊                   | 0.76/1 [03:28<01:08, 284.37s/it]"
     ]
    },
    {
     "name": "stdout",
     "output_type": "stream",
     "text": [
      "2022-12-03 20:52:39> Processing of F:/AP_Paper_Benchmark/PXD015087_Thermo\\Hela_P035218_BA1_S00_A00_R20.raw for step score_hdf succeeded. 76.50 %\n"
     ]
    },
    {
     "name": "stderr",
     "output_type": "stream",
     "text": [
      "\r",
      " 76%|████████████████████████████████████████████████████████████▍                  | 0.765/1 [03:29<00:55, 237.03s/it]"
     ]
    },
    {
     "name": "stdout",
     "output_type": "stream",
     "text": [
      "2022-12-03 20:52:39> Processing of F:/AP_Paper_Benchmark/PXD015087_Thermo\\Hela_P035218_BA1_S00_A00_R3.raw for step score_hdf succeeded. 77.00 %\n"
     ]
    },
    {
     "name": "stderr",
     "output_type": "stream",
     "text": [
      "\r",
      " 77%|█████████████████████████████████████████████████████████████▌                  | 0.77/1 [03:29<00:43, 189.35s/it]"
     ]
    },
    {
     "name": "stdout",
     "output_type": "stream",
     "text": [
      "2022-12-03 20:52:41> Processing of F:/AP_Paper_Benchmark/PXD015087_Thermo\\Hela_P035218_BA1_S00_A00_R4.raw for step score_hdf succeeded. 77.50 %\n"
     ]
    },
    {
     "name": "stderr",
     "output_type": "stream",
     "text": [
      "\r",
      " 78%|█████████████████████████████████████████████████████████████▏                 | 0.775/1 [03:31<00:49, 218.66s/it]"
     ]
    },
    {
     "name": "stdout",
     "output_type": "stream",
     "text": [
      "2022-12-03 20:52:41> Processing of F:/AP_Paper_Benchmark/PXD015087_Thermo\\Hela_P035218_BA1_S00_A00_R5.raw for step score_hdf succeeded. 78.00 %\n",
      "2022-12-03 20:52:41> Processing of F:/AP_Paper_Benchmark/PXD015087_Thermo\\Hela_P035218_BA1_S00_A00_R6.raw for step score_hdf succeeded. 78.50 %\n",
      "2022-12-03 20:52:42> Processing of F:/AP_Paper_Benchmark/PXD015087_Thermo\\Hela_P035218_BA1_S00_A00_R7.raw for step score_hdf succeeded. 79.00 %\n"
     ]
    },
    {
     "name": "stderr",
     "output_type": "stream",
     "text": [
      "\r",
      " 79%|███████████████████████████████████████████████████████████████▏                | 0.79/1 [03:32<00:31, 150.33s/it]"
     ]
    },
    {
     "name": "stdout",
     "output_type": "stream",
     "text": [
      "2022-12-03 20:52:42> Processing of F:/AP_Paper_Benchmark/PXD015087_Thermo\\Hela_P035218_BA1_S00_A00_R8.raw for step score_hdf succeeded. 79.50 %\n",
      "2022-12-03 20:52:42> Processing of F:/AP_Paper_Benchmark/PXD015087_Thermo\\Hela_P035218_BA1_S00_A00_R9.raw for step score_hdf succeeded. 80.00 %\n",
      "2022-12-03 20:52:42> Processing of F:/AP_Paper_Benchmark/PXD015087_Thermo\\Hela_P035219_BA1_S00_A00_R1.raw for step score_hdf succeeded. 80.50 %\n",
      "2022-12-03 20:52:42> Processing of F:/AP_Paper_Benchmark/PXD015087_Thermo\\Hela_P035219_BA1_S00_A00_R10.raw for step score_hdf succeeded. 81.00 %\n",
      "2022-12-03 20:52:42> Processing of F:/AP_Paper_Benchmark/PXD015087_Thermo\\Hela_P035219_BA1_S00_A00_R11.raw for step score_hdf succeeded. 81.50 %\n",
      "2022-12-03 20:52:42> Processing of F:/AP_Paper_Benchmark/PXD015087_Thermo\\Hela_P035219_BA1_S00_A00_R12.raw for step score_hdf succeeded. 82.00 %\n",
      "2022-12-03 20:52:42> Processing of F:/AP_Paper_Benchmark/PXD015087_Thermo\\Hela_P035219_BA1_S00_A00_R13.raw for step score_hdf succeeded. 82.50 %\n",
      "2022-12-03 20:52:42> Processing of F:/AP_Paper_Benchmark/PXD015087_Thermo\\Hela_P035219_BA1_S00_A00_R14.raw for step score_hdf succeeded. 83.00 %\n",
      "2022-12-03 20:52:42> Processing of F:/AP_Paper_Benchmark/PXD015087_Thermo\\Hela_P035219_BA1_S00_A00_R15.raw for step score_hdf succeeded. 83.50 %\n",
      "2022-12-03 20:52:42> Processing of F:/AP_Paper_Benchmark/PXD015087_Thermo\\Hela_P035219_BA1_S00_A00_R16.raw for step score_hdf succeeded. 84.00 %\n",
      "2022-12-03 20:52:42> Processing of F:/AP_Paper_Benchmark/PXD015087_Thermo\\Hela_P035219_BA1_S00_A00_R17.raw for step score_hdf succeeded. 84.50 %\n",
      "2022-12-03 20:52:42> Processing of F:/AP_Paper_Benchmark/PXD015087_Thermo\\Hela_P035219_BA1_S00_A00_R18.raw for step score_hdf succeeded. 85.00 %\n",
      "2022-12-03 20:52:42> Processing of F:/AP_Paper_Benchmark/PXD015087_Thermo\\Hela_P035219_BA1_S00_A00_R19.raw for step score_hdf succeeded. 85.50 %\n",
      "2022-12-03 20:52:44> Processing of F:/AP_Paper_Benchmark/PXD015087_Thermo\\Hela_P035219_BA1_S00_A00_R2.raw for step score_hdf succeeded. 86.00 %\n"
     ]
    },
    {
     "name": "stderr",
     "output_type": "stream",
     "text": [
      "\r",
      " 86%|█████████████████████████████████████████████████████████████████████▋           | 0.86/1 [03:34<00:07, 50.59s/it]"
     ]
    },
    {
     "name": "stdout",
     "output_type": "stream",
     "text": [
      "2022-12-03 20:52:44> Processing of F:/AP_Paper_Benchmark/PXD015087_Thermo\\Hela_P035219_BA1_S00_A00_R20.raw for step score_hdf succeeded. 86.50 %\n",
      "2022-12-03 20:52:44> Processing of F:/AP_Paper_Benchmark/PXD015087_Thermo\\Hela_P035219_BA1_S00_A00_R3.raw for step score_hdf succeeded. 87.00 %\n",
      "2022-12-03 20:52:44> Processing of F:/AP_Paper_Benchmark/PXD015087_Thermo\\Hela_P035219_BA1_S00_A00_R4.raw for step score_hdf succeeded. 87.50 %\n"
     ]
    },
    {
     "name": "stderr",
     "output_type": "stream",
     "text": [
      "\r",
      " 88%|██████████████████████████████████████████████████████████████████████          | 0.875/1 [03:34<00:05, 43.76s/it]"
     ]
    },
    {
     "name": "stdout",
     "output_type": "stream",
     "text": [
      "2022-12-03 20:52:45> Processing of F:/AP_Paper_Benchmark/PXD015087_Thermo\\Hela_P035219_BA1_S00_A00_R5.raw for step score_hdf succeeded. 88.00 %\n"
     ]
    },
    {
     "name": "stderr",
     "output_type": "stream",
     "text": [
      "\r",
      " 88%|███████████████████████████████████████████████████████████████████████▎         | 0.88/1 [03:35<00:06, 52.31s/it]"
     ]
    },
    {
     "name": "stdout",
     "output_type": "stream",
     "text": [
      "2022-12-03 20:52:45> Processing of F:/AP_Paper_Benchmark/PXD015087_Thermo\\Hela_P035219_BA1_S00_A00_R6.raw for step score_hdf succeeded. 88.50 %\n",
      "2022-12-03 20:52:45> Processing of F:/AP_Paper_Benchmark/PXD015087_Thermo\\Hela_P035219_BA1_S00_A00_R7.raw for step score_hdf succeeded. 89.00 %\n"
     ]
    },
    {
     "name": "stderr",
     "output_type": "stream",
     "text": [
      "\r",
      " 89%|████████████████████████████████████████████████████████████████████████         | 0.89/1 [03:35<00:05, 47.18s/it]"
     ]
    },
    {
     "name": "stdout",
     "output_type": "stream",
     "text": [
      "2022-12-03 20:52:45> Processing of F:/AP_Paper_Benchmark/PXD015087_Thermo\\Hela_P035219_BA1_S00_A00_R8.raw for step score_hdf succeeded. 89.50 %\n",
      "2022-12-03 20:52:45> Processing of F:/AP_Paper_Benchmark/PXD015087_Thermo\\Hela_P035219_BA1_S00_A00_R9.raw for step score_hdf succeeded. 90.00 %\n"
     ]
    },
    {
     "name": "stderr",
     "output_type": "stream",
     "text": [
      "\r",
      " 90%|█████████████████████████████████████████████████████████████████████████▊        | 0.9/1 [03:35<00:04, 41.99s/it]"
     ]
    },
    {
     "name": "stdout",
     "output_type": "stream",
     "text": [
      "2022-12-03 20:52:45> Processing of F:/AP_Paper_Benchmark/PXD015087_Thermo\\March_Hela_P035212_BA1_S00_A00_R1.raw for step score_hdf succeeded. 90.50 %\n",
      "2022-12-03 20:52:45> Processing of F:/AP_Paper_Benchmark/PXD015087_Thermo\\March_Hela_P035212_BA1_S00_A00_R10.raw for step score_hdf succeeded. 91.00 %\n",
      "2022-12-03 20:52:45> Processing of F:/AP_Paper_Benchmark/PXD015087_Thermo\\March_Hela_P035212_BA1_S00_A00_R11.raw for step score_hdf succeeded. 91.50 %\n",
      "2022-12-03 20:52:45> Processing of F:/AP_Paper_Benchmark/PXD015087_Thermo\\March_Hela_P035212_BA1_S00_A00_R12.raw for step score_hdf succeeded. 92.00 %\n",
      "2022-12-03 20:52:45> Processing of F:/AP_Paper_Benchmark/PXD015087_Thermo\\March_Hela_P035212_BA1_S00_A00_R13.raw for step score_hdf succeeded. 92.50 %\n",
      "2022-12-03 20:52:45> Processing of F:/AP_Paper_Benchmark/PXD015087_Thermo\\March_Hela_P035212_BA1_S00_A00_R14.raw for step score_hdf succeeded. 93.00 %\n",
      "2022-12-03 20:52:45> Processing of F:/AP_Paper_Benchmark/PXD015087_Thermo\\March_Hela_P035212_BA1_S00_A00_R15.raw for step score_hdf succeeded. 93.50 %\n"
     ]
    },
    {
     "name": "stderr",
     "output_type": "stream",
     "text": [
      "\r",
      " 94%|██████████████████████████████████████████████████████████████████████████▊     | 0.935/1 [03:35<00:01, 22.36s/it]"
     ]
    },
    {
     "name": "stdout",
     "output_type": "stream",
     "text": [
      "2022-12-03 20:52:46> Processing of F:/AP_Paper_Benchmark/PXD015087_Thermo\\March_Hela_P035212_BA1_S00_A00_R16.raw for step score_hdf succeeded. 94.00 %\n",
      "2022-12-03 20:52:46> Processing of F:/AP_Paper_Benchmark/PXD015087_Thermo\\March_Hela_P035212_BA1_S00_A00_R17.raw for step score_hdf succeeded. 94.50 %\n"
     ]
    },
    {
     "name": "stderr",
     "output_type": "stream",
     "text": [
      "\r",
      " 94%|███████████████████████████████████████████████████████████████████████████▌    | 0.945/1 [03:36<00:01, 32.33s/it]"
     ]
    },
    {
     "name": "stdout",
     "output_type": "stream",
     "text": [
      "2022-12-03 20:52:46> Processing of F:/AP_Paper_Benchmark/PXD015087_Thermo\\March_Hela_P035212_BA1_S00_A00_R18.raw for step score_hdf succeeded. 95.00 %\n",
      "2022-12-03 20:52:46> Processing of F:/AP_Paper_Benchmark/PXD015087_Thermo\\March_Hela_P035212_BA1_S00_A00_R19.raw for step score_hdf succeeded. 95.50 %\n"
     ]
    },
    {
     "name": "stderr",
     "output_type": "stream",
     "text": [
      "\r",
      " 96%|████████████████████████████████████████████████████████████████████████████▍   | 0.955/1 [03:37<00:01, 34.91s/it]"
     ]
    },
    {
     "name": "stdout",
     "output_type": "stream",
     "text": [
      "2022-12-03 20:52:47> Processing of F:/AP_Paper_Benchmark/PXD015087_Thermo\\March_Hela_P035212_BA1_S00_A00_R2.raw for step score_hdf succeeded. 96.00 %\n",
      "2022-12-03 20:52:47> Processing of F:/AP_Paper_Benchmark/PXD015087_Thermo\\March_Hela_P035212_BA1_S00_A00_R20.raw for step score_hdf succeeded. 96.50 %\n"
     ]
    },
    {
     "name": "stderr",
     "output_type": "stream",
     "text": [
      "\r",
      " 96%|█████████████████████████████████████████████████████████████████████████████▏  | 0.965/1 [03:37<00:01, 31.21s/it]"
     ]
    },
    {
     "name": "stdout",
     "output_type": "stream",
     "text": [
      "2022-12-03 20:52:47> Processing of F:/AP_Paper_Benchmark/PXD015087_Thermo\\March_Hela_P035212_BA1_S00_A00_R3.raw for step score_hdf succeeded. 97.00 %\n",
      "2022-12-03 20:52:47> Processing of F:/AP_Paper_Benchmark/PXD015087_Thermo\\March_Hela_P035212_BA1_S00_A00_R4.raw for step score_hdf succeeded. 97.50 %\n"
     ]
    },
    {
     "name": "stderr",
     "output_type": "stream",
     "text": [
      "\r",
      " 98%|██████████████████████████████████████████████████████████████████████████████  | 0.975/1 [03:37<00:00, 37.11s/it]"
     ]
    },
    {
     "name": "stdout",
     "output_type": "stream",
     "text": [
      "2022-12-03 20:52:47> Processing of F:/AP_Paper_Benchmark/PXD015087_Thermo\\March_Hela_P035212_BA1_S00_A00_R5.raw for step score_hdf succeeded. 98.00 %\n",
      "2022-12-03 20:52:47> Processing of F:/AP_Paper_Benchmark/PXD015087_Thermo\\March_Hela_P035212_BA1_S00_A00_R6.raw for step score_hdf succeeded. 98.50 %\n"
     ]
    },
    {
     "name": "stderr",
     "output_type": "stream",
     "text": [
      "\r",
      " 98%|██████████████████████████████████████████████████████████████████████████████▊ | 0.985/1 [03:38<00:00, 36.15s/it]"
     ]
    },
    {
     "name": "stdout",
     "output_type": "stream",
     "text": [
      "2022-12-03 20:52:48> Processing of F:/AP_Paper_Benchmark/PXD015087_Thermo\\March_Hela_P035212_BA1_S00_A00_R7.raw for step score_hdf succeeded. 99.00 %\n",
      "2022-12-03 20:52:48> Processing of F:/AP_Paper_Benchmark/PXD015087_Thermo\\March_Hela_P035212_BA1_S00_A00_R8.raw for step score_hdf succeeded. 99.50 %\n"
     ]
    },
    {
     "name": "stderr",
     "output_type": "stream",
     "text": [
      "\r",
      "100%|███████████████████████████████████████████████████████████████████████████████▌| 0.995/1 [03:38<00:00, 29.16s/it]"
     ]
    },
    {
     "name": "stdout",
     "output_type": "stream",
     "text": [
      "2022-12-03 20:52:48> Processing of F:/AP_Paper_Benchmark/PXD015087_Thermo\\March_Hela_P035212_BA1_S00_A00_R9.raw for step score_hdf succeeded. 100.00 %\n"
     ]
    },
    {
     "name": "stderr",
     "output_type": "stream",
     "text": [
      "\r",
      "100%|█████████████████████████████████████████████████████████████████████████████████| 1.0/1 [03:38<00:00, 218.62s/it]"
     ]
    },
    {
     "name": "stdout",
     "output_type": "stream",
     "text": [
      "2022-12-03 20:52:48> ==== align ====\n",
      "2022-12-03 20:52:48> cache info: iteration 0 items 1 size 2025.8 kB\n"
     ]
    },
    {
     "name": "stderr",
     "output_type": "stream",
     "text": [
      "\n"
     ]
    },
    {
     "name": "stdout",
     "output_type": "stream",
     "text": [
      "2022-12-03 20:52:48> cache info: iteration 0 items 2 size 4102.7 kB\n",
      "2022-12-03 20:53:04> cache info: iteration 100 items 102 size 209033.4 kB\n",
      "2022-12-03 21:00:42> Total deviation before calibration {'mz': 0.030586936190767734, 'rt': 1320.5854370055556}\n",
      "2022-12-03 21:00:42> Mean deviation before calibration {'mz': 1.5370319693853133e-06, 'rt': 0.06636107723646008}\n",
      "2022-12-03 21:00:42> Solving equation system with 60 jobs.\n",
      "2022-12-03 21:00:43> Regression score is 0.9972587625848299\n",
      "2022-12-03 21:00:43> Solving equation system complete.\n",
      "2022-12-03 21:00:43> Applying offset\n",
      "2022-12-03 21:00:43> Saving F:/AP_Paper_Benchmark/PXD015087_Thermo\\Hela_P035210_BA1_S00_A00_R1.ms_data.hdf - peptide_fdr.\n",
      "2022-12-03 21:00:43> Saving F:/AP_Paper_Benchmark/PXD015087_Thermo\\Hela_P035210_BA1_S00_A00_R1.ms_data.hdf - feature_table.\n",
      "2022-12-03 21:00:43> Saving F:/AP_Paper_Benchmark/PXD015087_Thermo\\Hela_P035210_BA1_S00_A00_R10.ms_data.hdf - peptide_fdr.\n",
      "2022-12-03 21:00:44> Saving F:/AP_Paper_Benchmark/PXD015087_Thermo\\Hela_P035210_BA1_S00_A00_R10.ms_data.hdf - feature_table.\n",
      "2022-12-03 21:00:44> Saving F:/AP_Paper_Benchmark/PXD015087_Thermo\\Hela_P035210_BA1_S00_A00_R11.ms_data.hdf - peptide_fdr.\n",
      "2022-12-03 21:00:45> Saving F:/AP_Paper_Benchmark/PXD015087_Thermo\\Hela_P035210_BA1_S00_A00_R11.ms_data.hdf - feature_table.\n",
      "2022-12-03 21:00:45> Saving F:/AP_Paper_Benchmark/PXD015087_Thermo\\Hela_P035210_BA1_S00_A00_R12.ms_data.hdf - peptide_fdr.\n",
      "2022-12-03 21:00:45> Saving F:/AP_Paper_Benchmark/PXD015087_Thermo\\Hela_P035210_BA1_S00_A00_R12.ms_data.hdf - feature_table.\n",
      "2022-12-03 21:00:45> Saving F:/AP_Paper_Benchmark/PXD015087_Thermo\\Hela_P035210_BA1_S00_A00_R13.ms_data.hdf - peptide_fdr.\n",
      "2022-12-03 21:00:46> Saving F:/AP_Paper_Benchmark/PXD015087_Thermo\\Hela_P035210_BA1_S00_A00_R13.ms_data.hdf - feature_table.\n",
      "2022-12-03 21:00:46> Saving F:/AP_Paper_Benchmark/PXD015087_Thermo\\Hela_P035210_BA1_S00_A00_R14.ms_data.hdf - peptide_fdr.\n",
      "2022-12-03 21:00:47> Saving F:/AP_Paper_Benchmark/PXD015087_Thermo\\Hela_P035210_BA1_S00_A00_R14.ms_data.hdf - feature_table.\n",
      "2022-12-03 21:00:47> Saving F:/AP_Paper_Benchmark/PXD015087_Thermo\\Hela_P035210_BA1_S00_A00_R15.ms_data.hdf - peptide_fdr.\n",
      "2022-12-03 21:00:47> Saving F:/AP_Paper_Benchmark/PXD015087_Thermo\\Hela_P035210_BA1_S00_A00_R15.ms_data.hdf - feature_table.\n",
      "2022-12-03 21:00:47> Saving F:/AP_Paper_Benchmark/PXD015087_Thermo\\Hela_P035210_BA1_S00_A00_R16.ms_data.hdf - peptide_fdr.\n",
      "2022-12-03 21:00:48> Saving F:/AP_Paper_Benchmark/PXD015087_Thermo\\Hela_P035210_BA1_S00_A00_R16.ms_data.hdf - feature_table.\n",
      "2022-12-03 21:00:48> Saving F:/AP_Paper_Benchmark/PXD015087_Thermo\\Hela_P035210_BA1_S00_A00_R17.ms_data.hdf - peptide_fdr.\n",
      "2022-12-03 21:00:49> Saving F:/AP_Paper_Benchmark/PXD015087_Thermo\\Hela_P035210_BA1_S00_A00_R17.ms_data.hdf - feature_table.\n",
      "2022-12-03 21:00:49> Saving F:/AP_Paper_Benchmark/PXD015087_Thermo\\Hela_P035210_BA1_S00_A00_R18.ms_data.hdf - peptide_fdr.\n",
      "2022-12-03 21:00:49> Saving F:/AP_Paper_Benchmark/PXD015087_Thermo\\Hela_P035210_BA1_S00_A00_R18.ms_data.hdf - feature_table.\n",
      "2022-12-03 21:00:49> Saving F:/AP_Paper_Benchmark/PXD015087_Thermo\\Hela_P035210_BA1_S00_A00_R19.ms_data.hdf - peptide_fdr.\n",
      "2022-12-03 21:00:50> Saving F:/AP_Paper_Benchmark/PXD015087_Thermo\\Hela_P035210_BA1_S00_A00_R19.ms_data.hdf - feature_table.\n",
      "2022-12-03 21:00:50> Saving F:/AP_Paper_Benchmark/PXD015087_Thermo\\Hela_P035210_BA1_S00_A00_R2.ms_data.hdf - peptide_fdr.\n",
      "2022-12-03 21:00:50> Saving F:/AP_Paper_Benchmark/PXD015087_Thermo\\Hela_P035210_BA1_S00_A00_R2.ms_data.hdf - feature_table.\n",
      "2022-12-03 21:00:51> Saving F:/AP_Paper_Benchmark/PXD015087_Thermo\\Hela_P035210_BA1_S00_A00_R20.ms_data.hdf - peptide_fdr.\n",
      "2022-12-03 21:00:51> Saving F:/AP_Paper_Benchmark/PXD015087_Thermo\\Hela_P035210_BA1_S00_A00_R20.ms_data.hdf - feature_table.\n",
      "2022-12-03 21:00:51> Saving F:/AP_Paper_Benchmark/PXD015087_Thermo\\Hela_P035210_BA1_S00_A00_R3.ms_data.hdf - peptide_fdr.\n",
      "2022-12-03 21:00:52> Saving F:/AP_Paper_Benchmark/PXD015087_Thermo\\Hela_P035210_BA1_S00_A00_R3.ms_data.hdf - feature_table.\n",
      "2022-12-03 21:00:52> Saving F:/AP_Paper_Benchmark/PXD015087_Thermo\\Hela_P035210_BA1_S00_A00_R4.ms_data.hdf - peptide_fdr.\n",
      "2022-12-03 21:00:53> Saving F:/AP_Paper_Benchmark/PXD015087_Thermo\\Hela_P035210_BA1_S00_A00_R4.ms_data.hdf - feature_table.\n",
      "2022-12-03 21:00:53> Saving F:/AP_Paper_Benchmark/PXD015087_Thermo\\Hela_P035210_BA1_S00_A00_R5.ms_data.hdf - peptide_fdr.\n",
      "2022-12-03 21:00:54> Saving F:/AP_Paper_Benchmark/PXD015087_Thermo\\Hela_P035210_BA1_S00_A00_R5.ms_data.hdf - feature_table.\n",
      "2022-12-03 21:00:54> Saving F:/AP_Paper_Benchmark/PXD015087_Thermo\\Hela_P035210_BA1_S00_A00_R6.ms_data.hdf - peptide_fdr.\n",
      "2022-12-03 21:00:54> Saving F:/AP_Paper_Benchmark/PXD015087_Thermo\\Hela_P035210_BA1_S00_A00_R6.ms_data.hdf - feature_table.\n",
      "2022-12-03 21:00:55> Saving F:/AP_Paper_Benchmark/PXD015087_Thermo\\Hela_P035210_BA1_S00_A00_R7.ms_data.hdf - peptide_fdr.\n",
      "2022-12-03 21:00:55> Saving F:/AP_Paper_Benchmark/PXD015087_Thermo\\Hela_P035210_BA1_S00_A00_R7.ms_data.hdf - feature_table.\n",
      "2022-12-03 21:00:55> Saving F:/AP_Paper_Benchmark/PXD015087_Thermo\\Hela_P035210_BA1_S00_A00_R8.ms_data.hdf - peptide_fdr.\n",
      "2022-12-03 21:00:56> Saving F:/AP_Paper_Benchmark/PXD015087_Thermo\\Hela_P035210_BA1_S00_A00_R8.ms_data.hdf - feature_table.\n",
      "2022-12-03 21:00:56> Saving F:/AP_Paper_Benchmark/PXD015087_Thermo\\Hela_P035210_BA1_S00_A00_R9.ms_data.hdf - peptide_fdr.\n",
      "2022-12-03 21:00:56> Saving F:/AP_Paper_Benchmark/PXD015087_Thermo\\Hela_P035210_BA1_S00_A00_R9.ms_data.hdf - feature_table.\n",
      "2022-12-03 21:00:57> Saving F:/AP_Paper_Benchmark/PXD015087_Thermo\\Hela_P035211_BA1_S00_A00_R1.ms_data.hdf - peptide_fdr.\n",
      "2022-12-03 21:00:57> Saving F:/AP_Paper_Benchmark/PXD015087_Thermo\\Hela_P035211_BA1_S00_A00_R1.ms_data.hdf - feature_table.\n",
      "2022-12-03 21:00:57> Saving F:/AP_Paper_Benchmark/PXD015087_Thermo\\Hela_P035211_BA1_S00_A00_R10.ms_data.hdf - peptide_fdr.\n",
      "2022-12-03 21:00:58> Saving F:/AP_Paper_Benchmark/PXD015087_Thermo\\Hela_P035211_BA1_S00_A00_R10.ms_data.hdf - feature_table.\n",
      "2022-12-03 21:00:58> Saving F:/AP_Paper_Benchmark/PXD015087_Thermo\\Hela_P035211_BA1_S00_A00_R11.ms_data.hdf - peptide_fdr.\n",
      "2022-12-03 21:00:58> Saving F:/AP_Paper_Benchmark/PXD015087_Thermo\\Hela_P035211_BA1_S00_A00_R11.ms_data.hdf - feature_table.\n",
      "2022-12-03 21:00:59> Saving F:/AP_Paper_Benchmark/PXD015087_Thermo\\Hela_P035211_BA1_S00_A00_R12.ms_data.hdf - peptide_fdr.\n",
      "2022-12-03 21:00:59> Saving F:/AP_Paper_Benchmark/PXD015087_Thermo\\Hela_P035211_BA1_S00_A00_R12.ms_data.hdf - feature_table.\n",
      "2022-12-03 21:00:59> Saving F:/AP_Paper_Benchmark/PXD015087_Thermo\\Hela_P035211_BA1_S00_A00_R13.ms_data.hdf - peptide_fdr.\n",
      "2022-12-03 21:01:00> Saving F:/AP_Paper_Benchmark/PXD015087_Thermo\\Hela_P035211_BA1_S00_A00_R13.ms_data.hdf - feature_table.\n",
      "2022-12-03 21:01:00> Saving F:/AP_Paper_Benchmark/PXD015087_Thermo\\Hela_P035211_BA1_S00_A00_R14.ms_data.hdf - peptide_fdr.\n",
      "2022-12-03 21:01:00> Saving F:/AP_Paper_Benchmark/PXD015087_Thermo\\Hela_P035211_BA1_S00_A00_R14.ms_data.hdf - feature_table.\n",
      "2022-12-03 21:01:00> Saving F:/AP_Paper_Benchmark/PXD015087_Thermo\\Hela_P035211_BA1_S00_A00_R15.ms_data.hdf - peptide_fdr.\n",
      "2022-12-03 21:01:01> Saving F:/AP_Paper_Benchmark/PXD015087_Thermo\\Hela_P035211_BA1_S00_A00_R15.ms_data.hdf - feature_table.\n",
      "2022-12-03 21:01:01> Saving F:/AP_Paper_Benchmark/PXD015087_Thermo\\Hela_P035211_BA1_S00_A00_R16.ms_data.hdf - peptide_fdr.\n",
      "2022-12-03 21:01:01> Saving F:/AP_Paper_Benchmark/PXD015087_Thermo\\Hela_P035211_BA1_S00_A00_R16.ms_data.hdf - feature_table.\n",
      "2022-12-03 21:01:02> Saving F:/AP_Paper_Benchmark/PXD015087_Thermo\\Hela_P035211_BA1_S00_A00_R17.ms_data.hdf - peptide_fdr.\n",
      "2022-12-03 21:01:02> Saving F:/AP_Paper_Benchmark/PXD015087_Thermo\\Hela_P035211_BA1_S00_A00_R17.ms_data.hdf - feature_table.\n",
      "2022-12-03 21:01:02> Saving F:/AP_Paper_Benchmark/PXD015087_Thermo\\Hela_P035211_BA1_S00_A00_R18.ms_data.hdf - peptide_fdr.\n",
      "2022-12-03 21:01:03> Saving F:/AP_Paper_Benchmark/PXD015087_Thermo\\Hela_P035211_BA1_S00_A00_R18.ms_data.hdf - feature_table.\n",
      "2022-12-03 21:01:03> Saving F:/AP_Paper_Benchmark/PXD015087_Thermo\\Hela_P035211_BA1_S00_A00_R19.ms_data.hdf - peptide_fdr.\n",
      "2022-12-03 21:01:03> Saving F:/AP_Paper_Benchmark/PXD015087_Thermo\\Hela_P035211_BA1_S00_A00_R19.ms_data.hdf - feature_table.\n"
     ]
    },
    {
     "name": "stdout",
     "output_type": "stream",
     "text": [
      "2022-12-03 21:01:04> Saving F:/AP_Paper_Benchmark/PXD015087_Thermo\\Hela_P035211_BA1_S00_A00_R2.ms_data.hdf - peptide_fdr.\n",
      "2022-12-03 21:01:04> Saving F:/AP_Paper_Benchmark/PXD015087_Thermo\\Hela_P035211_BA1_S00_A00_R2.ms_data.hdf - feature_table.\n",
      "2022-12-03 21:01:04> Saving F:/AP_Paper_Benchmark/PXD015087_Thermo\\Hela_P035211_BA1_S00_A00_R20.ms_data.hdf - peptide_fdr.\n",
      "2022-12-03 21:01:05> Saving F:/AP_Paper_Benchmark/PXD015087_Thermo\\Hela_P035211_BA1_S00_A00_R20.ms_data.hdf - feature_table.\n",
      "2022-12-03 21:01:05> Saving F:/AP_Paper_Benchmark/PXD015087_Thermo\\Hela_P035211_BA1_S00_A00_R3.ms_data.hdf - peptide_fdr.\n",
      "2022-12-03 21:01:05> Saving F:/AP_Paper_Benchmark/PXD015087_Thermo\\Hela_P035211_BA1_S00_A00_R3.ms_data.hdf - feature_table.\n",
      "2022-12-03 21:01:05> Saving F:/AP_Paper_Benchmark/PXD015087_Thermo\\Hela_P035211_BA1_S00_A00_R4.ms_data.hdf - peptide_fdr.\n",
      "2022-12-03 21:01:06> Saving F:/AP_Paper_Benchmark/PXD015087_Thermo\\Hela_P035211_BA1_S00_A00_R4.ms_data.hdf - feature_table.\n",
      "2022-12-03 21:01:06> Saving F:/AP_Paper_Benchmark/PXD015087_Thermo\\Hela_P035211_BA1_S00_A00_R5.ms_data.hdf - peptide_fdr.\n",
      "2022-12-03 21:01:06> Saving F:/AP_Paper_Benchmark/PXD015087_Thermo\\Hela_P035211_BA1_S00_A00_R5.ms_data.hdf - feature_table.\n",
      "2022-12-03 21:01:07> Saving F:/AP_Paper_Benchmark/PXD015087_Thermo\\Hela_P035211_BA1_S00_A00_R6.ms_data.hdf - peptide_fdr.\n",
      "2022-12-03 21:01:07> Saving F:/AP_Paper_Benchmark/PXD015087_Thermo\\Hela_P035211_BA1_S00_A00_R6.ms_data.hdf - feature_table.\n",
      "2022-12-03 21:01:07> Saving F:/AP_Paper_Benchmark/PXD015087_Thermo\\Hela_P035211_BA1_S00_A00_R7.ms_data.hdf - peptide_fdr.\n",
      "2022-12-03 21:01:08> Saving F:/AP_Paper_Benchmark/PXD015087_Thermo\\Hela_P035211_BA1_S00_A00_R7.ms_data.hdf - feature_table.\n",
      "2022-12-03 21:01:08> Saving F:/AP_Paper_Benchmark/PXD015087_Thermo\\Hela_P035211_BA1_S00_A00_R8.ms_data.hdf - peptide_fdr.\n",
      "2022-12-03 21:01:08> Saving F:/AP_Paper_Benchmark/PXD015087_Thermo\\Hela_P035211_BA1_S00_A00_R8.ms_data.hdf - feature_table.\n",
      "2022-12-03 21:01:09> Saving F:/AP_Paper_Benchmark/PXD015087_Thermo\\Hela_P035211_BA1_S00_A00_R9.ms_data.hdf - peptide_fdr.\n",
      "2022-12-03 21:01:09> Saving F:/AP_Paper_Benchmark/PXD015087_Thermo\\Hela_P035211_BA1_S00_A00_R9.ms_data.hdf - feature_table.\n",
      "2022-12-03 21:01:09> Saving F:/AP_Paper_Benchmark/PXD015087_Thermo\\Hela_P035213_BA1_S00_A00_R1.ms_data.hdf - peptide_fdr.\n",
      "2022-12-03 21:01:10> Saving F:/AP_Paper_Benchmark/PXD015087_Thermo\\Hela_P035213_BA1_S00_A00_R1.ms_data.hdf - feature_table.\n",
      "2022-12-03 21:01:10> Saving F:/AP_Paper_Benchmark/PXD015087_Thermo\\Hela_P035213_BA1_S00_A00_R10.ms_data.hdf - peptide_fdr.\n",
      "2022-12-03 21:01:10> Saving F:/AP_Paper_Benchmark/PXD015087_Thermo\\Hela_P035213_BA1_S00_A00_R10.ms_data.hdf - feature_table.\n",
      "2022-12-03 21:01:11> Saving F:/AP_Paper_Benchmark/PXD015087_Thermo\\Hela_P035213_BA1_S00_A00_R11.ms_data.hdf - peptide_fdr.\n",
      "2022-12-03 21:01:11> Saving F:/AP_Paper_Benchmark/PXD015087_Thermo\\Hela_P035213_BA1_S00_A00_R11.ms_data.hdf - feature_table.\n",
      "2022-12-03 21:01:11> Saving F:/AP_Paper_Benchmark/PXD015087_Thermo\\Hela_P035213_BA1_S00_A00_R12.ms_data.hdf - peptide_fdr.\n",
      "2022-12-03 21:01:12> Saving F:/AP_Paper_Benchmark/PXD015087_Thermo\\Hela_P035213_BA1_S00_A00_R12.ms_data.hdf - feature_table.\n",
      "2022-12-03 21:01:12> Saving F:/AP_Paper_Benchmark/PXD015087_Thermo\\Hela_P035213_BA1_S00_A00_R13.ms_data.hdf - peptide_fdr.\n",
      "2022-12-03 21:01:12> Saving F:/AP_Paper_Benchmark/PXD015087_Thermo\\Hela_P035213_BA1_S00_A00_R13.ms_data.hdf - feature_table.\n",
      "2022-12-03 21:01:12> Saving F:/AP_Paper_Benchmark/PXD015087_Thermo\\Hela_P035213_BA1_S00_A00_R14.ms_data.hdf - peptide_fdr.\n",
      "2022-12-03 21:01:13> Saving F:/AP_Paper_Benchmark/PXD015087_Thermo\\Hela_P035213_BA1_S00_A00_R14.ms_data.hdf - feature_table.\n",
      "2022-12-03 21:01:13> Saving F:/AP_Paper_Benchmark/PXD015087_Thermo\\Hela_P035213_BA1_S00_A00_R15.ms_data.hdf - peptide_fdr.\n",
      "2022-12-03 21:01:13> Saving F:/AP_Paper_Benchmark/PXD015087_Thermo\\Hela_P035213_BA1_S00_A00_R15.ms_data.hdf - feature_table.\n",
      "2022-12-03 21:01:14> Saving F:/AP_Paper_Benchmark/PXD015087_Thermo\\Hela_P035213_BA1_S00_A00_R16.ms_data.hdf - peptide_fdr.\n",
      "2022-12-03 21:01:14> Saving F:/AP_Paper_Benchmark/PXD015087_Thermo\\Hela_P035213_BA1_S00_A00_R16.ms_data.hdf - feature_table.\n",
      "2022-12-03 21:01:14> Saving F:/AP_Paper_Benchmark/PXD015087_Thermo\\Hela_P035213_BA1_S00_A00_R17.ms_data.hdf - peptide_fdr.\n",
      "2022-12-03 21:01:15> Saving F:/AP_Paper_Benchmark/PXD015087_Thermo\\Hela_P035213_BA1_S00_A00_R17.ms_data.hdf - feature_table.\n",
      "2022-12-03 21:01:15> Saving F:/AP_Paper_Benchmark/PXD015087_Thermo\\Hela_P035213_BA1_S00_A00_R18.ms_data.hdf - peptide_fdr.\n",
      "2022-12-03 21:01:15> Saving F:/AP_Paper_Benchmark/PXD015087_Thermo\\Hela_P035213_BA1_S00_A00_R18.ms_data.hdf - feature_table.\n",
      "2022-12-03 21:01:16> Saving F:/AP_Paper_Benchmark/PXD015087_Thermo\\Hela_P035213_BA1_S00_A00_R19.ms_data.hdf - peptide_fdr.\n",
      "2022-12-03 21:01:16> Saving F:/AP_Paper_Benchmark/PXD015087_Thermo\\Hela_P035213_BA1_S00_A00_R19.ms_data.hdf - feature_table.\n",
      "2022-12-03 21:01:16> Saving F:/AP_Paper_Benchmark/PXD015087_Thermo\\Hela_P035213_BA1_S00_A00_R2.ms_data.hdf - peptide_fdr.\n",
      "2022-12-03 21:01:17> Saving F:/AP_Paper_Benchmark/PXD015087_Thermo\\Hela_P035213_BA1_S00_A00_R2.ms_data.hdf - feature_table.\n",
      "2022-12-03 21:01:17> Saving F:/AP_Paper_Benchmark/PXD015087_Thermo\\Hela_P035213_BA1_S00_A00_R20.ms_data.hdf - peptide_fdr.\n",
      "2022-12-03 21:01:18> Saving F:/AP_Paper_Benchmark/PXD015087_Thermo\\Hela_P035213_BA1_S00_A00_R20.ms_data.hdf - feature_table.\n",
      "2022-12-03 21:01:18> Saving F:/AP_Paper_Benchmark/PXD015087_Thermo\\Hela_P035213_BA1_S00_A00_R3.ms_data.hdf - peptide_fdr.\n",
      "2022-12-03 21:01:18> Saving F:/AP_Paper_Benchmark/PXD015087_Thermo\\Hela_P035213_BA1_S00_A00_R3.ms_data.hdf - feature_table.\n",
      "2022-12-03 21:01:19> Saving F:/AP_Paper_Benchmark/PXD015087_Thermo\\Hela_P035213_BA1_S00_A00_R4.ms_data.hdf - peptide_fdr.\n",
      "2022-12-03 21:01:19> Saving F:/AP_Paper_Benchmark/PXD015087_Thermo\\Hela_P035213_BA1_S00_A00_R4.ms_data.hdf - feature_table.\n",
      "2022-12-03 21:01:19> Saving F:/AP_Paper_Benchmark/PXD015087_Thermo\\Hela_P035213_BA1_S00_A00_R5.ms_data.hdf - peptide_fdr.\n",
      "2022-12-03 21:01:20> Saving F:/AP_Paper_Benchmark/PXD015087_Thermo\\Hela_P035213_BA1_S00_A00_R5.ms_data.hdf - feature_table.\n",
      "2022-12-03 21:01:20> Saving F:/AP_Paper_Benchmark/PXD015087_Thermo\\Hela_P035213_BA1_S00_A00_R6.ms_data.hdf - peptide_fdr.\n",
      "2022-12-03 21:01:20> Saving F:/AP_Paper_Benchmark/PXD015087_Thermo\\Hela_P035213_BA1_S00_A00_R6.ms_data.hdf - feature_table.\n",
      "2022-12-03 21:01:21> Saving F:/AP_Paper_Benchmark/PXD015087_Thermo\\Hela_P035213_BA1_S00_A00_R7.ms_data.hdf - peptide_fdr.\n",
      "2022-12-03 21:01:21> Saving F:/AP_Paper_Benchmark/PXD015087_Thermo\\Hela_P035213_BA1_S00_A00_R7.ms_data.hdf - feature_table.\n",
      "2022-12-03 21:01:21> Saving F:/AP_Paper_Benchmark/PXD015087_Thermo\\Hela_P035213_BA1_S00_A00_R8.ms_data.hdf - peptide_fdr.\n",
      "2022-12-03 21:01:22> Saving F:/AP_Paper_Benchmark/PXD015087_Thermo\\Hela_P035213_BA1_S00_A00_R8.ms_data.hdf - feature_table.\n",
      "2022-12-03 21:01:22> Saving F:/AP_Paper_Benchmark/PXD015087_Thermo\\Hela_P035213_BA1_S00_A00_R9.ms_data.hdf - peptide_fdr.\n",
      "2022-12-03 21:01:22> Saving F:/AP_Paper_Benchmark/PXD015087_Thermo\\Hela_P035213_BA1_S00_A00_R9.ms_data.hdf - feature_table.\n",
      "2022-12-03 21:01:23> Saving F:/AP_Paper_Benchmark/PXD015087_Thermo\\Hela_P035214_BA1_S00_A00_R1.ms_data.hdf - peptide_fdr.\n",
      "2022-12-03 21:01:23> Saving F:/AP_Paper_Benchmark/PXD015087_Thermo\\Hela_P035214_BA1_S00_A00_R1.ms_data.hdf - feature_table.\n",
      "2022-12-03 21:01:23> Saving F:/AP_Paper_Benchmark/PXD015087_Thermo\\Hela_P035214_BA1_S00_A00_R10.ms_data.hdf - peptide_fdr.\n",
      "2022-12-03 21:01:24> Saving F:/AP_Paper_Benchmark/PXD015087_Thermo\\Hela_P035214_BA1_S00_A00_R10.ms_data.hdf - feature_table.\n",
      "2022-12-03 21:01:24> Saving F:/AP_Paper_Benchmark/PXD015087_Thermo\\Hela_P035214_BA1_S00_A00_R11.ms_data.hdf - peptide_fdr.\n",
      "2022-12-03 21:01:24> Saving F:/AP_Paper_Benchmark/PXD015087_Thermo\\Hela_P035214_BA1_S00_A00_R11.ms_data.hdf - feature_table.\n",
      "2022-12-03 21:01:25> Saving F:/AP_Paper_Benchmark/PXD015087_Thermo\\Hela_P035214_BA1_S00_A00_R12.ms_data.hdf - peptide_fdr.\n",
      "2022-12-03 21:01:25> Saving F:/AP_Paper_Benchmark/PXD015087_Thermo\\Hela_P035214_BA1_S00_A00_R12.ms_data.hdf - feature_table.\n",
      "2022-12-03 21:01:25> Saving F:/AP_Paper_Benchmark/PXD015087_Thermo\\Hela_P035214_BA1_S00_A00_R13.ms_data.hdf - peptide_fdr.\n"
     ]
    },
    {
     "name": "stdout",
     "output_type": "stream",
     "text": [
      "2022-12-03 21:01:26> Saving F:/AP_Paper_Benchmark/PXD015087_Thermo\\Hela_P035214_BA1_S00_A00_R13.ms_data.hdf - feature_table.\n",
      "2022-12-03 21:01:26> Saving F:/AP_Paper_Benchmark/PXD015087_Thermo\\Hela_P035214_BA1_S00_A00_R14.ms_data.hdf - peptide_fdr.\n",
      "2022-12-03 21:01:26> Saving F:/AP_Paper_Benchmark/PXD015087_Thermo\\Hela_P035214_BA1_S00_A00_R14.ms_data.hdf - feature_table.\n",
      "2022-12-03 21:01:27> Saving F:/AP_Paper_Benchmark/PXD015087_Thermo\\Hela_P035214_BA1_S00_A00_R15.ms_data.hdf - peptide_fdr.\n",
      "2022-12-03 21:01:27> Saving F:/AP_Paper_Benchmark/PXD015087_Thermo\\Hela_P035214_BA1_S00_A00_R15.ms_data.hdf - feature_table.\n",
      "2022-12-03 21:01:27> Saving F:/AP_Paper_Benchmark/PXD015087_Thermo\\Hela_P035214_BA1_S00_A00_R16.ms_data.hdf - peptide_fdr.\n",
      "2022-12-03 21:01:28> Saving F:/AP_Paper_Benchmark/PXD015087_Thermo\\Hela_P035214_BA1_S00_A00_R16.ms_data.hdf - feature_table.\n",
      "2022-12-03 21:01:28> Saving F:/AP_Paper_Benchmark/PXD015087_Thermo\\Hela_P035214_BA1_S00_A00_R17.ms_data.hdf - peptide_fdr.\n",
      "2022-12-03 21:01:29> Saving F:/AP_Paper_Benchmark/PXD015087_Thermo\\Hela_P035214_BA1_S00_A00_R17.ms_data.hdf - feature_table.\n",
      "2022-12-03 21:01:29> Saving F:/AP_Paper_Benchmark/PXD015087_Thermo\\Hela_P035214_BA1_S00_A00_R18.ms_data.hdf - peptide_fdr.\n",
      "2022-12-03 21:01:29> Saving F:/AP_Paper_Benchmark/PXD015087_Thermo\\Hela_P035214_BA1_S00_A00_R18.ms_data.hdf - feature_table.\n",
      "2022-12-03 21:01:29> Saving F:/AP_Paper_Benchmark/PXD015087_Thermo\\Hela_P035214_BA1_S00_A00_R19.ms_data.hdf - peptide_fdr.\n",
      "2022-12-03 21:01:30> Saving F:/AP_Paper_Benchmark/PXD015087_Thermo\\Hela_P035214_BA1_S00_A00_R19.ms_data.hdf - feature_table.\n",
      "2022-12-03 21:01:30> Saving F:/AP_Paper_Benchmark/PXD015087_Thermo\\Hela_P035214_BA1_S00_A00_R2.ms_data.hdf - peptide_fdr.\n",
      "2022-12-03 21:01:31> Saving F:/AP_Paper_Benchmark/PXD015087_Thermo\\Hela_P035214_BA1_S00_A00_R2.ms_data.hdf - feature_table.\n",
      "2022-12-03 21:01:31> Saving F:/AP_Paper_Benchmark/PXD015087_Thermo\\Hela_P035214_BA1_S00_A00_R20.ms_data.hdf - peptide_fdr.\n",
      "2022-12-03 21:01:31> Saving F:/AP_Paper_Benchmark/PXD015087_Thermo\\Hela_P035214_BA1_S00_A00_R20.ms_data.hdf - feature_table.\n",
      "2022-12-03 21:01:32> Saving F:/AP_Paper_Benchmark/PXD015087_Thermo\\Hela_P035214_BA1_S00_A00_R3.ms_data.hdf - peptide_fdr.\n",
      "2022-12-03 21:01:32> Saving F:/AP_Paper_Benchmark/PXD015087_Thermo\\Hela_P035214_BA1_S00_A00_R3.ms_data.hdf - feature_table.\n",
      "2022-12-03 21:01:32> Saving F:/AP_Paper_Benchmark/PXD015087_Thermo\\Hela_P035214_BA1_S00_A00_R4.ms_data.hdf - peptide_fdr.\n",
      "2022-12-03 21:01:33> Saving F:/AP_Paper_Benchmark/PXD015087_Thermo\\Hela_P035214_BA1_S00_A00_R4.ms_data.hdf - feature_table.\n",
      "2022-12-03 21:01:33> Saving F:/AP_Paper_Benchmark/PXD015087_Thermo\\Hela_P035214_BA1_S00_A00_R5.ms_data.hdf - peptide_fdr.\n",
      "2022-12-03 21:01:33> Saving F:/AP_Paper_Benchmark/PXD015087_Thermo\\Hela_P035214_BA1_S00_A00_R5.ms_data.hdf - feature_table.\n",
      "2022-12-03 21:01:34> Saving F:/AP_Paper_Benchmark/PXD015087_Thermo\\Hela_P035214_BA1_S00_A00_R6.ms_data.hdf - peptide_fdr.\n",
      "2022-12-03 21:01:34> Saving F:/AP_Paper_Benchmark/PXD015087_Thermo\\Hela_P035214_BA1_S00_A00_R6.ms_data.hdf - feature_table.\n",
      "2022-12-03 21:01:34> Saving F:/AP_Paper_Benchmark/PXD015087_Thermo\\Hela_P035214_BA1_S00_A00_R7.ms_data.hdf - peptide_fdr.\n",
      "2022-12-03 21:01:35> Saving F:/AP_Paper_Benchmark/PXD015087_Thermo\\Hela_P035214_BA1_S00_A00_R7.ms_data.hdf - feature_table.\n",
      "2022-12-03 21:01:35> Saving F:/AP_Paper_Benchmark/PXD015087_Thermo\\Hela_P035214_BA1_S00_A00_R8.ms_data.hdf - peptide_fdr.\n",
      "2022-12-03 21:01:35> Saving F:/AP_Paper_Benchmark/PXD015087_Thermo\\Hela_P035214_BA1_S00_A00_R8.ms_data.hdf - feature_table.\n",
      "2022-12-03 21:01:36> Saving F:/AP_Paper_Benchmark/PXD015087_Thermo\\Hela_P035214_BA1_S00_A00_R9.ms_data.hdf - peptide_fdr.\n",
      "2022-12-03 21:01:36> Saving F:/AP_Paper_Benchmark/PXD015087_Thermo\\Hela_P035214_BA1_S00_A00_R9.ms_data.hdf - feature_table.\n",
      "2022-12-03 21:01:36> Saving F:/AP_Paper_Benchmark/PXD015087_Thermo\\Hela_P035215_BA1_S00_A00_R1.ms_data.hdf - peptide_fdr.\n",
      "2022-12-03 21:01:37> Saving F:/AP_Paper_Benchmark/PXD015087_Thermo\\Hela_P035215_BA1_S00_A00_R1.ms_data.hdf - feature_table.\n",
      "2022-12-03 21:01:37> Saving F:/AP_Paper_Benchmark/PXD015087_Thermo\\Hela_P035215_BA1_S00_A00_R10.ms_data.hdf - peptide_fdr.\n",
      "2022-12-03 21:01:37> Saving F:/AP_Paper_Benchmark/PXD015087_Thermo\\Hela_P035215_BA1_S00_A00_R10.ms_data.hdf - feature_table.\n",
      "2022-12-03 21:01:38> Saving F:/AP_Paper_Benchmark/PXD015087_Thermo\\Hela_P035215_BA1_S00_A00_R11.ms_data.hdf - peptide_fdr.\n",
      "2022-12-03 21:01:38> Saving F:/AP_Paper_Benchmark/PXD015087_Thermo\\Hela_P035215_BA1_S00_A00_R11.ms_data.hdf - feature_table.\n",
      "2022-12-03 21:01:38> Saving F:/AP_Paper_Benchmark/PXD015087_Thermo\\Hela_P035215_BA1_S00_A00_R12.ms_data.hdf - peptide_fdr.\n",
      "2022-12-03 21:01:39> Saving F:/AP_Paper_Benchmark/PXD015087_Thermo\\Hela_P035215_BA1_S00_A00_R12.ms_data.hdf - feature_table.\n",
      "2022-12-03 21:01:39> Saving F:/AP_Paper_Benchmark/PXD015087_Thermo\\Hela_P035215_BA1_S00_A00_R13.ms_data.hdf - peptide_fdr.\n",
      "2022-12-03 21:01:39> Saving F:/AP_Paper_Benchmark/PXD015087_Thermo\\Hela_P035215_BA1_S00_A00_R13.ms_data.hdf - feature_table.\n",
      "2022-12-03 21:01:40> Saving F:/AP_Paper_Benchmark/PXD015087_Thermo\\Hela_P035215_BA1_S00_A00_R14.ms_data.hdf - peptide_fdr.\n",
      "2022-12-03 21:01:40> Saving F:/AP_Paper_Benchmark/PXD015087_Thermo\\Hela_P035215_BA1_S00_A00_R14.ms_data.hdf - feature_table.\n",
      "2022-12-03 21:01:40> Saving F:/AP_Paper_Benchmark/PXD015087_Thermo\\Hela_P035215_BA1_S00_A00_R15.ms_data.hdf - peptide_fdr.\n",
      "2022-12-03 21:01:41> Saving F:/AP_Paper_Benchmark/PXD015087_Thermo\\Hela_P035215_BA1_S00_A00_R15.ms_data.hdf - feature_table.\n",
      "2022-12-03 21:01:41> Saving F:/AP_Paper_Benchmark/PXD015087_Thermo\\Hela_P035215_BA1_S00_A00_R16.ms_data.hdf - peptide_fdr.\n",
      "2022-12-03 21:01:41> Saving F:/AP_Paper_Benchmark/PXD015087_Thermo\\Hela_P035215_BA1_S00_A00_R16.ms_data.hdf - feature_table.\n",
      "2022-12-03 21:01:42> Saving F:/AP_Paper_Benchmark/PXD015087_Thermo\\Hela_P035215_BA1_S00_A00_R17.ms_data.hdf - peptide_fdr.\n",
      "2022-12-03 21:01:42> Saving F:/AP_Paper_Benchmark/PXD015087_Thermo\\Hela_P035215_BA1_S00_A00_R17.ms_data.hdf - feature_table.\n",
      "2022-12-03 21:01:42> Saving F:/AP_Paper_Benchmark/PXD015087_Thermo\\Hela_P035215_BA1_S00_A00_R18.ms_data.hdf - peptide_fdr.\n",
      "2022-12-03 21:01:43> Saving F:/AP_Paper_Benchmark/PXD015087_Thermo\\Hela_P035215_BA1_S00_A00_R18.ms_data.hdf - feature_table.\n",
      "2022-12-03 21:01:43> Saving F:/AP_Paper_Benchmark/PXD015087_Thermo\\Hela_P035215_BA1_S00_A00_R19.ms_data.hdf - peptide_fdr.\n",
      "2022-12-03 21:01:43> Saving F:/AP_Paper_Benchmark/PXD015087_Thermo\\Hela_P035215_BA1_S00_A00_R19.ms_data.hdf - feature_table.\n",
      "2022-12-03 21:01:44> Saving F:/AP_Paper_Benchmark/PXD015087_Thermo\\Hela_P035215_BA1_S00_A00_R2.ms_data.hdf - peptide_fdr.\n",
      "2022-12-03 21:01:44> Saving F:/AP_Paper_Benchmark/PXD015087_Thermo\\Hela_P035215_BA1_S00_A00_R2.ms_data.hdf - feature_table.\n",
      "2022-12-03 21:01:44> Saving F:/AP_Paper_Benchmark/PXD015087_Thermo\\Hela_P035215_BA1_S00_A00_R20.ms_data.hdf - peptide_fdr.\n",
      "2022-12-03 21:01:45> Saving F:/AP_Paper_Benchmark/PXD015087_Thermo\\Hela_P035215_BA1_S00_A00_R20.ms_data.hdf - feature_table.\n",
      "2022-12-03 21:01:45> Saving F:/AP_Paper_Benchmark/PXD015087_Thermo\\Hela_P035215_BA1_S00_A00_R3.ms_data.hdf - peptide_fdr.\n",
      "2022-12-03 21:01:45> Saving F:/AP_Paper_Benchmark/PXD015087_Thermo\\Hela_P035215_BA1_S00_A00_R3.ms_data.hdf - feature_table.\n",
      "2022-12-03 21:01:46> Saving F:/AP_Paper_Benchmark/PXD015087_Thermo\\Hela_P035215_BA1_S00_A00_R4.ms_data.hdf - peptide_fdr.\n",
      "2022-12-03 21:01:46> Saving F:/AP_Paper_Benchmark/PXD015087_Thermo\\Hela_P035215_BA1_S00_A00_R4.ms_data.hdf - feature_table.\n",
      "2022-12-03 21:01:46> Saving F:/AP_Paper_Benchmark/PXD015087_Thermo\\Hela_P035215_BA1_S00_A00_R5.ms_data.hdf - peptide_fdr.\n",
      "2022-12-03 21:01:47> Saving F:/AP_Paper_Benchmark/PXD015087_Thermo\\Hela_P035215_BA1_S00_A00_R5.ms_data.hdf - feature_table.\n",
      "2022-12-03 21:01:47> Saving F:/AP_Paper_Benchmark/PXD015087_Thermo\\Hela_P035215_BA1_S00_A00_R6.ms_data.hdf - peptide_fdr.\n",
      "2022-12-03 21:01:47> Saving F:/AP_Paper_Benchmark/PXD015087_Thermo\\Hela_P035215_BA1_S00_A00_R6.ms_data.hdf - feature_table.\n",
      "2022-12-03 21:01:48> Saving F:/AP_Paper_Benchmark/PXD015087_Thermo\\Hela_P035215_BA1_S00_A00_R7.ms_data.hdf - peptide_fdr.\n",
      "2022-12-03 21:01:48> Saving F:/AP_Paper_Benchmark/PXD015087_Thermo\\Hela_P035215_BA1_S00_A00_R7.ms_data.hdf - feature_table.\n"
     ]
    },
    {
     "name": "stdout",
     "output_type": "stream",
     "text": [
      "2022-12-03 21:01:48> Saving F:/AP_Paper_Benchmark/PXD015087_Thermo\\Hela_P035215_BA1_S00_A00_R8.ms_data.hdf - peptide_fdr.\n",
      "2022-12-03 21:01:49> Saving F:/AP_Paper_Benchmark/PXD015087_Thermo\\Hela_P035215_BA1_S00_A00_R8.ms_data.hdf - feature_table.\n",
      "2022-12-03 21:01:49> Saving F:/AP_Paper_Benchmark/PXD015087_Thermo\\Hela_P035215_BA1_S00_A00_R9.ms_data.hdf - peptide_fdr.\n",
      "2022-12-03 21:01:49> Saving F:/AP_Paper_Benchmark/PXD015087_Thermo\\Hela_P035215_BA1_S00_A00_R9.ms_data.hdf - feature_table.\n",
      "2022-12-03 21:01:50> Saving F:/AP_Paper_Benchmark/PXD015087_Thermo\\Hela_P035216_BA1_S00_A00_R1.ms_data.hdf - peptide_fdr.\n",
      "2022-12-03 21:01:50> Saving F:/AP_Paper_Benchmark/PXD015087_Thermo\\Hela_P035216_BA1_S00_A00_R1.ms_data.hdf - feature_table.\n",
      "2022-12-03 21:01:50> Saving F:/AP_Paper_Benchmark/PXD015087_Thermo\\Hela_P035216_BA1_S00_A00_R10.ms_data.hdf - peptide_fdr.\n",
      "2022-12-03 21:01:51> Saving F:/AP_Paper_Benchmark/PXD015087_Thermo\\Hela_P035216_BA1_S00_A00_R10.ms_data.hdf - feature_table.\n",
      "2022-12-03 21:01:51> Saving F:/AP_Paper_Benchmark/PXD015087_Thermo\\Hela_P035216_BA1_S00_A00_R11.ms_data.hdf - peptide_fdr.\n",
      "2022-12-03 21:01:51> Saving F:/AP_Paper_Benchmark/PXD015087_Thermo\\Hela_P035216_BA1_S00_A00_R11.ms_data.hdf - feature_table.\n",
      "2022-12-03 21:01:52> Saving F:/AP_Paper_Benchmark/PXD015087_Thermo\\Hela_P035216_BA1_S00_A00_R12.ms_data.hdf - peptide_fdr.\n",
      "2022-12-03 21:01:52> Saving F:/AP_Paper_Benchmark/PXD015087_Thermo\\Hela_P035216_BA1_S00_A00_R12.ms_data.hdf - feature_table.\n",
      "2022-12-03 21:01:52> Saving F:/AP_Paper_Benchmark/PXD015087_Thermo\\Hela_P035216_BA1_S00_A00_R13.ms_data.hdf - peptide_fdr.\n",
      "2022-12-03 21:01:53> Saving F:/AP_Paper_Benchmark/PXD015087_Thermo\\Hela_P035216_BA1_S00_A00_R13.ms_data.hdf - feature_table.\n",
      "2022-12-03 21:01:53> Saving F:/AP_Paper_Benchmark/PXD015087_Thermo\\Hela_P035216_BA1_S00_A00_R14.ms_data.hdf - peptide_fdr.\n",
      "2022-12-03 21:01:54> Saving F:/AP_Paper_Benchmark/PXD015087_Thermo\\Hela_P035216_BA1_S00_A00_R14.ms_data.hdf - feature_table.\n",
      "2022-12-03 21:01:54> Saving F:/AP_Paper_Benchmark/PXD015087_Thermo\\Hela_P035216_BA1_S00_A00_R15.ms_data.hdf - peptide_fdr.\n",
      "2022-12-03 21:01:54> Saving F:/AP_Paper_Benchmark/PXD015087_Thermo\\Hela_P035216_BA1_S00_A00_R15.ms_data.hdf - feature_table.\n",
      "2022-12-03 21:01:55> Saving F:/AP_Paper_Benchmark/PXD015087_Thermo\\Hela_P035216_BA1_S00_A00_R16.ms_data.hdf - peptide_fdr.\n",
      "2022-12-03 21:01:55> Saving F:/AP_Paper_Benchmark/PXD015087_Thermo\\Hela_P035216_BA1_S00_A00_R16.ms_data.hdf - feature_table.\n",
      "2022-12-03 21:01:55> Saving F:/AP_Paper_Benchmark/PXD015087_Thermo\\Hela_P035216_BA1_S00_A00_R17.ms_data.hdf - peptide_fdr.\n",
      "2022-12-03 21:01:56> Saving F:/AP_Paper_Benchmark/PXD015087_Thermo\\Hela_P035216_BA1_S00_A00_R17.ms_data.hdf - feature_table.\n",
      "2022-12-03 21:01:56> Saving F:/AP_Paper_Benchmark/PXD015087_Thermo\\Hela_P035216_BA1_S00_A00_R18.ms_data.hdf - peptide_fdr.\n",
      "2022-12-03 21:01:56> Saving F:/AP_Paper_Benchmark/PXD015087_Thermo\\Hela_P035216_BA1_S00_A00_R18.ms_data.hdf - feature_table.\n",
      "2022-12-03 21:01:57> Saving F:/AP_Paper_Benchmark/PXD015087_Thermo\\Hela_P035216_BA1_S00_A00_R19.ms_data.hdf - peptide_fdr.\n",
      "2022-12-03 21:01:57> Saving F:/AP_Paper_Benchmark/PXD015087_Thermo\\Hela_P035216_BA1_S00_A00_R19.ms_data.hdf - feature_table.\n",
      "2022-12-03 21:01:57> Saving F:/AP_Paper_Benchmark/PXD015087_Thermo\\Hela_P035216_BA1_S00_A00_R2.ms_data.hdf - peptide_fdr.\n",
      "2022-12-03 21:01:58> Saving F:/AP_Paper_Benchmark/PXD015087_Thermo\\Hela_P035216_BA1_S00_A00_R2.ms_data.hdf - feature_table.\n",
      "2022-12-03 21:01:58> Saving F:/AP_Paper_Benchmark/PXD015087_Thermo\\Hela_P035216_BA1_S00_A00_R20.ms_data.hdf - peptide_fdr.\n",
      "2022-12-03 21:01:58> Saving F:/AP_Paper_Benchmark/PXD015087_Thermo\\Hela_P035216_BA1_S00_A00_R20.ms_data.hdf - feature_table.\n",
      "2022-12-03 21:01:59> Saving F:/AP_Paper_Benchmark/PXD015087_Thermo\\Hela_P035216_BA1_S00_A00_R3.ms_data.hdf - peptide_fdr.\n",
      "2022-12-03 21:01:59> Saving F:/AP_Paper_Benchmark/PXD015087_Thermo\\Hela_P035216_BA1_S00_A00_R3.ms_data.hdf - feature_table.\n",
      "2022-12-03 21:01:59> Saving F:/AP_Paper_Benchmark/PXD015087_Thermo\\Hela_P035216_BA1_S00_A00_R4.ms_data.hdf - peptide_fdr.\n",
      "2022-12-03 21:02:00> Saving F:/AP_Paper_Benchmark/PXD015087_Thermo\\Hela_P035216_BA1_S00_A00_R4.ms_data.hdf - feature_table.\n",
      "2022-12-03 21:02:00> Saving F:/AP_Paper_Benchmark/PXD015087_Thermo\\Hela_P035216_BA1_S00_A00_R5.ms_data.hdf - peptide_fdr.\n",
      "2022-12-03 21:02:00> Saving F:/AP_Paper_Benchmark/PXD015087_Thermo\\Hela_P035216_BA1_S00_A00_R5.ms_data.hdf - feature_table.\n",
      "2022-12-03 21:02:01> Saving F:/AP_Paper_Benchmark/PXD015087_Thermo\\Hela_P035216_BA1_S00_A00_R6.ms_data.hdf - peptide_fdr.\n",
      "2022-12-03 21:02:01> Saving F:/AP_Paper_Benchmark/PXD015087_Thermo\\Hela_P035216_BA1_S00_A00_R6.ms_data.hdf - feature_table.\n",
      "2022-12-03 21:02:01> Saving F:/AP_Paper_Benchmark/PXD015087_Thermo\\Hela_P035216_BA1_S00_A00_R7.ms_data.hdf - peptide_fdr.\n",
      "2022-12-03 21:02:02> Saving F:/AP_Paper_Benchmark/PXD015087_Thermo\\Hela_P035216_BA1_S00_A00_R7.ms_data.hdf - feature_table.\n",
      "2022-12-03 21:02:02> Saving F:/AP_Paper_Benchmark/PXD015087_Thermo\\Hela_P035216_BA1_S00_A00_R8.ms_data.hdf - peptide_fdr.\n",
      "2022-12-03 21:02:02> Saving F:/AP_Paper_Benchmark/PXD015087_Thermo\\Hela_P035216_BA1_S00_A00_R8.ms_data.hdf - feature_table.\n",
      "2022-12-03 21:02:03> Saving F:/AP_Paper_Benchmark/PXD015087_Thermo\\Hela_P035216_BA1_S00_A00_R9.ms_data.hdf - peptide_fdr.\n",
      "2022-12-03 21:02:03> Saving F:/AP_Paper_Benchmark/PXD015087_Thermo\\Hela_P035216_BA1_S00_A00_R9.ms_data.hdf - feature_table.\n",
      "2022-12-03 21:02:03> Saving F:/AP_Paper_Benchmark/PXD015087_Thermo\\Hela_P035217_BA1_S00_A00_R1.ms_data.hdf - peptide_fdr.\n",
      "2022-12-03 21:02:04> Saving F:/AP_Paper_Benchmark/PXD015087_Thermo\\Hela_P035217_BA1_S00_A00_R1.ms_data.hdf - feature_table.\n",
      "2022-12-03 21:02:04> Saving F:/AP_Paper_Benchmark/PXD015087_Thermo\\Hela_P035217_BA1_S00_A00_R10.ms_data.hdf - peptide_fdr.\n",
      "2022-12-03 21:02:04> Saving F:/AP_Paper_Benchmark/PXD015087_Thermo\\Hela_P035217_BA1_S00_A00_R10.ms_data.hdf - feature_table.\n",
      "2022-12-03 21:02:05> Saving F:/AP_Paper_Benchmark/PXD015087_Thermo\\Hela_P035217_BA1_S00_A00_R11.ms_data.hdf - peptide_fdr.\n",
      "2022-12-03 21:02:05> Saving F:/AP_Paper_Benchmark/PXD015087_Thermo\\Hela_P035217_BA1_S00_A00_R11.ms_data.hdf - feature_table.\n",
      "2022-12-03 21:02:05> Saving F:/AP_Paper_Benchmark/PXD015087_Thermo\\Hela_P035217_BA1_S00_A00_R12.ms_data.hdf - peptide_fdr.\n",
      "2022-12-03 21:02:06> Saving F:/AP_Paper_Benchmark/PXD015087_Thermo\\Hela_P035217_BA1_S00_A00_R12.ms_data.hdf - feature_table.\n",
      "2022-12-03 21:02:06> Saving F:/AP_Paper_Benchmark/PXD015087_Thermo\\Hela_P035217_BA1_S00_A00_R13.ms_data.hdf - peptide_fdr.\n",
      "2022-12-03 21:02:06> Saving F:/AP_Paper_Benchmark/PXD015087_Thermo\\Hela_P035217_BA1_S00_A00_R13.ms_data.hdf - feature_table.\n",
      "2022-12-03 21:02:07> Saving F:/AP_Paper_Benchmark/PXD015087_Thermo\\Hela_P035217_BA1_S00_A00_R14.ms_data.hdf - peptide_fdr.\n",
      "2022-12-03 21:02:07> Saving F:/AP_Paper_Benchmark/PXD015087_Thermo\\Hela_P035217_BA1_S00_A00_R14.ms_data.hdf - feature_table.\n",
      "2022-12-03 21:02:07> Saving F:/AP_Paper_Benchmark/PXD015087_Thermo\\Hela_P035217_BA1_S00_A00_R15.ms_data.hdf - peptide_fdr.\n",
      "2022-12-03 21:02:08> Saving F:/AP_Paper_Benchmark/PXD015087_Thermo\\Hela_P035217_BA1_S00_A00_R15.ms_data.hdf - feature_table.\n",
      "2022-12-03 21:02:08> Saving F:/AP_Paper_Benchmark/PXD015087_Thermo\\Hela_P035217_BA1_S00_A00_R16.ms_data.hdf - peptide_fdr.\n",
      "2022-12-03 21:02:08> Saving F:/AP_Paper_Benchmark/PXD015087_Thermo\\Hela_P035217_BA1_S00_A00_R16.ms_data.hdf - feature_table.\n",
      "2022-12-03 21:02:09> Saving F:/AP_Paper_Benchmark/PXD015087_Thermo\\Hela_P035217_BA1_S00_A00_R17.ms_data.hdf - peptide_fdr.\n",
      "2022-12-03 21:02:09> Saving F:/AP_Paper_Benchmark/PXD015087_Thermo\\Hela_P035217_BA1_S00_A00_R17.ms_data.hdf - feature_table.\n",
      "2022-12-03 21:02:09> Saving F:/AP_Paper_Benchmark/PXD015087_Thermo\\Hela_P035217_BA1_S00_A00_R18.ms_data.hdf - peptide_fdr.\n",
      "2022-12-03 21:02:10> Saving F:/AP_Paper_Benchmark/PXD015087_Thermo\\Hela_P035217_BA1_S00_A00_R18.ms_data.hdf - feature_table.\n",
      "2022-12-03 21:02:10> Saving F:/AP_Paper_Benchmark/PXD015087_Thermo\\Hela_P035217_BA1_S00_A00_R19.ms_data.hdf - peptide_fdr.\n",
      "2022-12-03 21:02:10> Saving F:/AP_Paper_Benchmark/PXD015087_Thermo\\Hela_P035217_BA1_S00_A00_R19.ms_data.hdf - feature_table.\n",
      "2022-12-03 21:02:11> Saving F:/AP_Paper_Benchmark/PXD015087_Thermo\\Hela_P035217_BA1_S00_A00_R2.ms_data.hdf - peptide_fdr.\n"
     ]
    },
    {
     "name": "stdout",
     "output_type": "stream",
     "text": [
      "2022-12-03 21:02:11> Saving F:/AP_Paper_Benchmark/PXD015087_Thermo\\Hela_P035217_BA1_S00_A00_R2.ms_data.hdf - feature_table.\n",
      "2022-12-03 21:02:11> Saving F:/AP_Paper_Benchmark/PXD015087_Thermo\\Hela_P035217_BA1_S00_A00_R20.ms_data.hdf - peptide_fdr.\n",
      "2022-12-03 21:02:12> Saving F:/AP_Paper_Benchmark/PXD015087_Thermo\\Hela_P035217_BA1_S00_A00_R20.ms_data.hdf - feature_table.\n",
      "2022-12-03 21:02:12> Saving F:/AP_Paper_Benchmark/PXD015087_Thermo\\Hela_P035217_BA1_S00_A00_R21.ms_data.hdf - peptide_fdr.\n",
      "2022-12-03 21:02:12> Saving F:/AP_Paper_Benchmark/PXD015087_Thermo\\Hela_P035217_BA1_S00_A00_R21.ms_data.hdf - feature_table.\n",
      "2022-12-03 21:02:13> Saving F:/AP_Paper_Benchmark/PXD015087_Thermo\\Hela_P035217_BA1_S00_A00_R3.ms_data.hdf - peptide_fdr.\n",
      "2022-12-03 21:02:13> Saving F:/AP_Paper_Benchmark/PXD015087_Thermo\\Hela_P035217_BA1_S00_A00_R3.ms_data.hdf - feature_table.\n",
      "2022-12-03 21:02:13> Saving F:/AP_Paper_Benchmark/PXD015087_Thermo\\Hela_P035217_BA1_S00_A00_R5.ms_data.hdf - peptide_fdr.\n",
      "2022-12-03 21:02:14> Saving F:/AP_Paper_Benchmark/PXD015087_Thermo\\Hela_P035217_BA1_S00_A00_R5.ms_data.hdf - feature_table.\n",
      "2022-12-03 21:02:14> Saving F:/AP_Paper_Benchmark/PXD015087_Thermo\\Hela_P035217_BA1_S00_A00_R6.ms_data.hdf - peptide_fdr.\n",
      "2022-12-03 21:02:14> Saving F:/AP_Paper_Benchmark/PXD015087_Thermo\\Hela_P035217_BA1_S00_A00_R6.ms_data.hdf - feature_table.\n",
      "2022-12-03 21:02:15> Saving F:/AP_Paper_Benchmark/PXD015087_Thermo\\Hela_P035217_BA1_S00_A00_R7.ms_data.hdf - peptide_fdr.\n",
      "2022-12-03 21:02:15> Saving F:/AP_Paper_Benchmark/PXD015087_Thermo\\Hela_P035217_BA1_S00_A00_R7.ms_data.hdf - feature_table.\n",
      "2022-12-03 21:02:15> Saving F:/AP_Paper_Benchmark/PXD015087_Thermo\\Hela_P035217_BA1_S00_A00_R8.ms_data.hdf - peptide_fdr.\n",
      "2022-12-03 21:02:16> Saving F:/AP_Paper_Benchmark/PXD015087_Thermo\\Hela_P035217_BA1_S00_A00_R8.ms_data.hdf - feature_table.\n",
      "2022-12-03 21:02:16> Saving F:/AP_Paper_Benchmark/PXD015087_Thermo\\Hela_P035217_BA1_S00_A00_R9.ms_data.hdf - peptide_fdr.\n",
      "2022-12-03 21:02:16> Saving F:/AP_Paper_Benchmark/PXD015087_Thermo\\Hela_P035217_BA1_S00_A00_R9.ms_data.hdf - feature_table.\n",
      "2022-12-03 21:02:17> Saving F:/AP_Paper_Benchmark/PXD015087_Thermo\\Hela_P035218_BA1_S00_A00_R1.ms_data.hdf - peptide_fdr.\n",
      "2022-12-03 21:02:17> Saving F:/AP_Paper_Benchmark/PXD015087_Thermo\\Hela_P035218_BA1_S00_A00_R1.ms_data.hdf - feature_table.\n",
      "2022-12-03 21:02:17> Saving F:/AP_Paper_Benchmark/PXD015087_Thermo\\Hela_P035218_BA1_S00_A00_R10.ms_data.hdf - peptide_fdr.\n",
      "2022-12-03 21:02:18> Saving F:/AP_Paper_Benchmark/PXD015087_Thermo\\Hela_P035218_BA1_S00_A00_R10.ms_data.hdf - feature_table.\n",
      "2022-12-03 21:02:18> Saving F:/AP_Paper_Benchmark/PXD015087_Thermo\\Hela_P035218_BA1_S00_A00_R11.ms_data.hdf - peptide_fdr.\n",
      "2022-12-03 21:02:18> Saving F:/AP_Paper_Benchmark/PXD015087_Thermo\\Hela_P035218_BA1_S00_A00_R11.ms_data.hdf - feature_table.\n",
      "2022-12-03 21:02:18> Saving F:/AP_Paper_Benchmark/PXD015087_Thermo\\Hela_P035218_BA1_S00_A00_R12.ms_data.hdf - peptide_fdr.\n",
      "2022-12-03 21:02:19> Saving F:/AP_Paper_Benchmark/PXD015087_Thermo\\Hela_P035218_BA1_S00_A00_R12.ms_data.hdf - feature_table.\n",
      "2022-12-03 21:02:19> Saving F:/AP_Paper_Benchmark/PXD015087_Thermo\\Hela_P035218_BA1_S00_A00_R13.ms_data.hdf - peptide_fdr.\n",
      "2022-12-03 21:02:20> Saving F:/AP_Paper_Benchmark/PXD015087_Thermo\\Hela_P035218_BA1_S00_A00_R13.ms_data.hdf - feature_table.\n",
      "2022-12-03 21:02:20> Saving F:/AP_Paper_Benchmark/PXD015087_Thermo\\Hela_P035218_BA1_S00_A00_R14.ms_data.hdf - peptide_fdr.\n",
      "2022-12-03 21:02:20> Saving F:/AP_Paper_Benchmark/PXD015087_Thermo\\Hela_P035218_BA1_S00_A00_R14.ms_data.hdf - feature_table.\n",
      "2022-12-03 21:02:20> Saving F:/AP_Paper_Benchmark/PXD015087_Thermo\\Hela_P035218_BA1_S00_A00_R15.ms_data.hdf - peptide_fdr.\n",
      "2022-12-03 21:02:21> Saving F:/AP_Paper_Benchmark/PXD015087_Thermo\\Hela_P035218_BA1_S00_A00_R15.ms_data.hdf - feature_table.\n",
      "2022-12-03 21:02:21> Saving F:/AP_Paper_Benchmark/PXD015087_Thermo\\Hela_P035218_BA1_S00_A00_R16.ms_data.hdf - peptide_fdr.\n",
      "2022-12-03 21:02:21> Saving F:/AP_Paper_Benchmark/PXD015087_Thermo\\Hela_P035218_BA1_S00_A00_R16.ms_data.hdf - feature_table.\n",
      "2022-12-03 21:02:22> Saving F:/AP_Paper_Benchmark/PXD015087_Thermo\\Hela_P035218_BA1_S00_A00_R17.ms_data.hdf - peptide_fdr.\n",
      "2022-12-03 21:02:22> Saving F:/AP_Paper_Benchmark/PXD015087_Thermo\\Hela_P035218_BA1_S00_A00_R17.ms_data.hdf - feature_table.\n",
      "2022-12-03 21:02:22> Saving F:/AP_Paper_Benchmark/PXD015087_Thermo\\Hela_P035218_BA1_S00_A00_R18.ms_data.hdf - peptide_fdr.\n",
      "2022-12-03 21:02:23> Saving F:/AP_Paper_Benchmark/PXD015087_Thermo\\Hela_P035218_BA1_S00_A00_R18.ms_data.hdf - feature_table.\n",
      "2022-12-03 21:02:23> Saving F:/AP_Paper_Benchmark/PXD015087_Thermo\\Hela_P035218_BA1_S00_A00_R19.ms_data.hdf - peptide_fdr.\n",
      "2022-12-03 21:02:24> Saving F:/AP_Paper_Benchmark/PXD015087_Thermo\\Hela_P035218_BA1_S00_A00_R19.ms_data.hdf - feature_table.\n",
      "2022-12-03 21:02:24> Saving F:/AP_Paper_Benchmark/PXD015087_Thermo\\Hela_P035218_BA1_S00_A00_R2.ms_data.hdf - peptide_fdr.\n",
      "2022-12-03 21:02:24> Saving F:/AP_Paper_Benchmark/PXD015087_Thermo\\Hela_P035218_BA1_S00_A00_R2.ms_data.hdf - feature_table.\n",
      "2022-12-03 21:02:25> Saving F:/AP_Paper_Benchmark/PXD015087_Thermo\\Hela_P035218_BA1_S00_A00_R20.ms_data.hdf - peptide_fdr.\n",
      "2022-12-03 21:02:25> Saving F:/AP_Paper_Benchmark/PXD015087_Thermo\\Hela_P035218_BA1_S00_A00_R20.ms_data.hdf - feature_table.\n",
      "2022-12-03 21:02:25> Saving F:/AP_Paper_Benchmark/PXD015087_Thermo\\Hela_P035218_BA1_S00_A00_R3.ms_data.hdf - peptide_fdr.\n",
      "2022-12-03 21:02:26> Saving F:/AP_Paper_Benchmark/PXD015087_Thermo\\Hela_P035218_BA1_S00_A00_R3.ms_data.hdf - feature_table.\n",
      "2022-12-03 21:02:26> Saving F:/AP_Paper_Benchmark/PXD015087_Thermo\\Hela_P035218_BA1_S00_A00_R4.ms_data.hdf - peptide_fdr.\n",
      "2022-12-03 21:02:26> Saving F:/AP_Paper_Benchmark/PXD015087_Thermo\\Hela_P035218_BA1_S00_A00_R4.ms_data.hdf - feature_table.\n",
      "2022-12-03 21:02:27> Saving F:/AP_Paper_Benchmark/PXD015087_Thermo\\Hela_P035218_BA1_S00_A00_R5.ms_data.hdf - peptide_fdr.\n",
      "2022-12-03 21:02:27> Saving F:/AP_Paper_Benchmark/PXD015087_Thermo\\Hela_P035218_BA1_S00_A00_R5.ms_data.hdf - feature_table.\n",
      "2022-12-03 21:02:27> Saving F:/AP_Paper_Benchmark/PXD015087_Thermo\\Hela_P035218_BA1_S00_A00_R6.ms_data.hdf - peptide_fdr.\n",
      "2022-12-03 21:02:28> Saving F:/AP_Paper_Benchmark/PXD015087_Thermo\\Hela_P035218_BA1_S00_A00_R6.ms_data.hdf - feature_table.\n",
      "2022-12-03 21:02:28> Saving F:/AP_Paper_Benchmark/PXD015087_Thermo\\Hela_P035218_BA1_S00_A00_R7.ms_data.hdf - peptide_fdr.\n",
      "2022-12-03 21:02:28> Saving F:/AP_Paper_Benchmark/PXD015087_Thermo\\Hela_P035218_BA1_S00_A00_R7.ms_data.hdf - feature_table.\n",
      "2022-12-03 21:02:28> Saving F:/AP_Paper_Benchmark/PXD015087_Thermo\\Hela_P035218_BA1_S00_A00_R8.ms_data.hdf - peptide_fdr.\n",
      "2022-12-03 21:02:29> Saving F:/AP_Paper_Benchmark/PXD015087_Thermo\\Hela_P035218_BA1_S00_A00_R8.ms_data.hdf - feature_table.\n",
      "2022-12-03 21:02:29> Saving F:/AP_Paper_Benchmark/PXD015087_Thermo\\Hela_P035218_BA1_S00_A00_R9.ms_data.hdf - peptide_fdr.\n",
      "2022-12-03 21:02:29> Saving F:/AP_Paper_Benchmark/PXD015087_Thermo\\Hela_P035218_BA1_S00_A00_R9.ms_data.hdf - feature_table.\n",
      "2022-12-03 21:02:30> Saving F:/AP_Paper_Benchmark/PXD015087_Thermo\\Hela_P035219_BA1_S00_A00_R1.ms_data.hdf - peptide_fdr.\n",
      "2022-12-03 21:02:30> Saving F:/AP_Paper_Benchmark/PXD015087_Thermo\\Hela_P035219_BA1_S00_A00_R1.ms_data.hdf - feature_table.\n",
      "2022-12-03 21:02:31> Saving F:/AP_Paper_Benchmark/PXD015087_Thermo\\Hela_P035219_BA1_S00_A00_R10.ms_data.hdf - peptide_fdr.\n",
      "2022-12-03 21:02:31> Saving F:/AP_Paper_Benchmark/PXD015087_Thermo\\Hela_P035219_BA1_S00_A00_R10.ms_data.hdf - feature_table.\n",
      "2022-12-03 21:02:31> Saving F:/AP_Paper_Benchmark/PXD015087_Thermo\\Hela_P035219_BA1_S00_A00_R11.ms_data.hdf - peptide_fdr.\n",
      "2022-12-03 21:02:32> Saving F:/AP_Paper_Benchmark/PXD015087_Thermo\\Hela_P035219_BA1_S00_A00_R11.ms_data.hdf - feature_table.\n",
      "2022-12-03 21:02:32> Saving F:/AP_Paper_Benchmark/PXD015087_Thermo\\Hela_P035219_BA1_S00_A00_R12.ms_data.hdf - peptide_fdr.\n",
      "2022-12-03 21:02:32> Saving F:/AP_Paper_Benchmark/PXD015087_Thermo\\Hela_P035219_BA1_S00_A00_R12.ms_data.hdf - feature_table.\n",
      "2022-12-03 21:02:32> Saving F:/AP_Paper_Benchmark/PXD015087_Thermo\\Hela_P035219_BA1_S00_A00_R13.ms_data.hdf - peptide_fdr.\n",
      "2022-12-03 21:02:33> Saving F:/AP_Paper_Benchmark/PXD015087_Thermo\\Hela_P035219_BA1_S00_A00_R13.ms_data.hdf - feature_table.\n"
     ]
    },
    {
     "name": "stdout",
     "output_type": "stream",
     "text": [
      "2022-12-03 21:02:33> Saving F:/AP_Paper_Benchmark/PXD015087_Thermo\\Hela_P035219_BA1_S00_A00_R14.ms_data.hdf - peptide_fdr.\n",
      "2022-12-03 21:02:33> Saving F:/AP_Paper_Benchmark/PXD015087_Thermo\\Hela_P035219_BA1_S00_A00_R14.ms_data.hdf - feature_table.\n",
      "2022-12-03 21:02:34> Saving F:/AP_Paper_Benchmark/PXD015087_Thermo\\Hela_P035219_BA1_S00_A00_R15.ms_data.hdf - peptide_fdr.\n",
      "2022-12-03 21:02:34> Saving F:/AP_Paper_Benchmark/PXD015087_Thermo\\Hela_P035219_BA1_S00_A00_R15.ms_data.hdf - feature_table.\n",
      "2022-12-03 21:02:34> Saving F:/AP_Paper_Benchmark/PXD015087_Thermo\\Hela_P035219_BA1_S00_A00_R16.ms_data.hdf - peptide_fdr.\n",
      "2022-12-03 21:02:35> Saving F:/AP_Paper_Benchmark/PXD015087_Thermo\\Hela_P035219_BA1_S00_A00_R16.ms_data.hdf - feature_table.\n",
      "2022-12-03 21:02:35> Saving F:/AP_Paper_Benchmark/PXD015087_Thermo\\Hela_P035219_BA1_S00_A00_R17.ms_data.hdf - peptide_fdr.\n",
      "2022-12-03 21:02:35> Saving F:/AP_Paper_Benchmark/PXD015087_Thermo\\Hela_P035219_BA1_S00_A00_R17.ms_data.hdf - feature_table.\n",
      "2022-12-03 21:02:36> Saving F:/AP_Paper_Benchmark/PXD015087_Thermo\\Hela_P035219_BA1_S00_A00_R18.ms_data.hdf - peptide_fdr.\n",
      "2022-12-03 21:02:36> Saving F:/AP_Paper_Benchmark/PXD015087_Thermo\\Hela_P035219_BA1_S00_A00_R18.ms_data.hdf - feature_table.\n",
      "2022-12-03 21:02:36> Saving F:/AP_Paper_Benchmark/PXD015087_Thermo\\Hela_P035219_BA1_S00_A00_R19.ms_data.hdf - peptide_fdr.\n",
      "2022-12-03 21:02:37> Saving F:/AP_Paper_Benchmark/PXD015087_Thermo\\Hela_P035219_BA1_S00_A00_R19.ms_data.hdf - feature_table.\n",
      "2022-12-03 21:02:37> Saving F:/AP_Paper_Benchmark/PXD015087_Thermo\\Hela_P035219_BA1_S00_A00_R2.ms_data.hdf - peptide_fdr.\n",
      "2022-12-03 21:02:37> Saving F:/AP_Paper_Benchmark/PXD015087_Thermo\\Hela_P035219_BA1_S00_A00_R2.ms_data.hdf - feature_table.\n",
      "2022-12-03 21:02:38> Saving F:/AP_Paper_Benchmark/PXD015087_Thermo\\Hela_P035219_BA1_S00_A00_R20.ms_data.hdf - peptide_fdr.\n",
      "2022-12-03 21:02:38> Saving F:/AP_Paper_Benchmark/PXD015087_Thermo\\Hela_P035219_BA1_S00_A00_R20.ms_data.hdf - feature_table.\n",
      "2022-12-03 21:02:38> Saving F:/AP_Paper_Benchmark/PXD015087_Thermo\\Hela_P035219_BA1_S00_A00_R3.ms_data.hdf - peptide_fdr.\n",
      "2022-12-03 21:02:38> Saving F:/AP_Paper_Benchmark/PXD015087_Thermo\\Hela_P035219_BA1_S00_A00_R3.ms_data.hdf - feature_table.\n",
      "2022-12-03 21:02:39> Saving F:/AP_Paper_Benchmark/PXD015087_Thermo\\Hela_P035219_BA1_S00_A00_R4.ms_data.hdf - peptide_fdr.\n",
      "2022-12-03 21:02:39> Saving F:/AP_Paper_Benchmark/PXD015087_Thermo\\Hela_P035219_BA1_S00_A00_R4.ms_data.hdf - feature_table.\n",
      "2022-12-03 21:02:39> Saving F:/AP_Paper_Benchmark/PXD015087_Thermo\\Hela_P035219_BA1_S00_A00_R5.ms_data.hdf - peptide_fdr.\n",
      "2022-12-03 21:02:40> Saving F:/AP_Paper_Benchmark/PXD015087_Thermo\\Hela_P035219_BA1_S00_A00_R5.ms_data.hdf - feature_table.\n",
      "2022-12-03 21:02:40> Saving F:/AP_Paper_Benchmark/PXD015087_Thermo\\Hela_P035219_BA1_S00_A00_R6.ms_data.hdf - peptide_fdr.\n",
      "2022-12-03 21:02:40> Saving F:/AP_Paper_Benchmark/PXD015087_Thermo\\Hela_P035219_BA1_S00_A00_R6.ms_data.hdf - feature_table.\n",
      "2022-12-03 21:02:40> Saving F:/AP_Paper_Benchmark/PXD015087_Thermo\\Hela_P035219_BA1_S00_A00_R7.ms_data.hdf - peptide_fdr.\n",
      "2022-12-03 21:02:41> Saving F:/AP_Paper_Benchmark/PXD015087_Thermo\\Hela_P035219_BA1_S00_A00_R7.ms_data.hdf - feature_table.\n",
      "2022-12-03 21:02:41> Saving F:/AP_Paper_Benchmark/PXD015087_Thermo\\Hela_P035219_BA1_S00_A00_R8.ms_data.hdf - peptide_fdr.\n",
      "2022-12-03 21:02:42> Saving F:/AP_Paper_Benchmark/PXD015087_Thermo\\Hela_P035219_BA1_S00_A00_R8.ms_data.hdf - feature_table.\n",
      "2022-12-03 21:02:42> Saving F:/AP_Paper_Benchmark/PXD015087_Thermo\\Hela_P035219_BA1_S00_A00_R9.ms_data.hdf - peptide_fdr.\n",
      "2022-12-03 21:02:42> Saving F:/AP_Paper_Benchmark/PXD015087_Thermo\\Hela_P035219_BA1_S00_A00_R9.ms_data.hdf - feature_table.\n",
      "2022-12-03 21:02:42> Saving F:/AP_Paper_Benchmark/PXD015087_Thermo\\March_Hela_P035212_BA1_S00_A00_R1.ms_data.hdf - peptide_fdr.\n",
      "2022-12-03 21:02:43> Saving F:/AP_Paper_Benchmark/PXD015087_Thermo\\March_Hela_P035212_BA1_S00_A00_R1.ms_data.hdf - feature_table.\n",
      "2022-12-03 21:02:43> Saving F:/AP_Paper_Benchmark/PXD015087_Thermo\\March_Hela_P035212_BA1_S00_A00_R10.ms_data.hdf - peptide_fdr.\n",
      "2022-12-03 21:02:43> Saving F:/AP_Paper_Benchmark/PXD015087_Thermo\\March_Hela_P035212_BA1_S00_A00_R10.ms_data.hdf - feature_table.\n",
      "2022-12-03 21:02:43> Saving F:/AP_Paper_Benchmark/PXD015087_Thermo\\March_Hela_P035212_BA1_S00_A00_R11.ms_data.hdf - peptide_fdr.\n",
      "2022-12-03 21:02:44> Saving F:/AP_Paper_Benchmark/PXD015087_Thermo\\March_Hela_P035212_BA1_S00_A00_R11.ms_data.hdf - feature_table.\n",
      "2022-12-03 21:02:44> Saving F:/AP_Paper_Benchmark/PXD015087_Thermo\\March_Hela_P035212_BA1_S00_A00_R12.ms_data.hdf - peptide_fdr.\n",
      "2022-12-03 21:02:44> Saving F:/AP_Paper_Benchmark/PXD015087_Thermo\\March_Hela_P035212_BA1_S00_A00_R12.ms_data.hdf - feature_table.\n",
      "2022-12-03 21:02:44> Saving F:/AP_Paper_Benchmark/PXD015087_Thermo\\March_Hela_P035212_BA1_S00_A00_R13.ms_data.hdf - peptide_fdr.\n",
      "2022-12-03 21:02:45> Saving F:/AP_Paper_Benchmark/PXD015087_Thermo\\March_Hela_P035212_BA1_S00_A00_R13.ms_data.hdf - feature_table.\n",
      "2022-12-03 21:02:45> Saving F:/AP_Paper_Benchmark/PXD015087_Thermo\\March_Hela_P035212_BA1_S00_A00_R14.ms_data.hdf - peptide_fdr.\n",
      "2022-12-03 21:02:45> Saving F:/AP_Paper_Benchmark/PXD015087_Thermo\\March_Hela_P035212_BA1_S00_A00_R14.ms_data.hdf - feature_table.\n",
      "2022-12-03 21:02:45> Saving F:/AP_Paper_Benchmark/PXD015087_Thermo\\March_Hela_P035212_BA1_S00_A00_R15.ms_data.hdf - peptide_fdr.\n",
      "2022-12-03 21:02:46> Saving F:/AP_Paper_Benchmark/PXD015087_Thermo\\March_Hela_P035212_BA1_S00_A00_R15.ms_data.hdf - feature_table.\n",
      "2022-12-03 21:02:46> Saving F:/AP_Paper_Benchmark/PXD015087_Thermo\\March_Hela_P035212_BA1_S00_A00_R16.ms_data.hdf - peptide_fdr.\n",
      "2022-12-03 21:02:46> Saving F:/AP_Paper_Benchmark/PXD015087_Thermo\\March_Hela_P035212_BA1_S00_A00_R16.ms_data.hdf - feature_table.\n",
      "2022-12-03 21:02:46> Saving F:/AP_Paper_Benchmark/PXD015087_Thermo\\March_Hela_P035212_BA1_S00_A00_R17.ms_data.hdf - peptide_fdr.\n",
      "2022-12-03 21:02:47> Saving F:/AP_Paper_Benchmark/PXD015087_Thermo\\March_Hela_P035212_BA1_S00_A00_R17.ms_data.hdf - feature_table.\n",
      "2022-12-03 21:02:47> Saving F:/AP_Paper_Benchmark/PXD015087_Thermo\\March_Hela_P035212_BA1_S00_A00_R18.ms_data.hdf - peptide_fdr.\n",
      "2022-12-03 21:02:47> Saving F:/AP_Paper_Benchmark/PXD015087_Thermo\\March_Hela_P035212_BA1_S00_A00_R18.ms_data.hdf - feature_table.\n",
      "2022-12-03 21:02:47> Saving F:/AP_Paper_Benchmark/PXD015087_Thermo\\March_Hela_P035212_BA1_S00_A00_R19.ms_data.hdf - peptide_fdr.\n",
      "2022-12-03 21:02:48> Saving F:/AP_Paper_Benchmark/PXD015087_Thermo\\March_Hela_P035212_BA1_S00_A00_R19.ms_data.hdf - feature_table.\n",
      "2022-12-03 21:02:48> Saving F:/AP_Paper_Benchmark/PXD015087_Thermo\\March_Hela_P035212_BA1_S00_A00_R2.ms_data.hdf - peptide_fdr.\n",
      "2022-12-03 21:02:48> Saving F:/AP_Paper_Benchmark/PXD015087_Thermo\\March_Hela_P035212_BA1_S00_A00_R2.ms_data.hdf - feature_table.\n",
      "2022-12-03 21:02:49> Saving F:/AP_Paper_Benchmark/PXD015087_Thermo\\March_Hela_P035212_BA1_S00_A00_R20.ms_data.hdf - peptide_fdr.\n",
      "2022-12-03 21:02:49> Saving F:/AP_Paper_Benchmark/PXD015087_Thermo\\March_Hela_P035212_BA1_S00_A00_R20.ms_data.hdf - feature_table.\n",
      "2022-12-03 21:02:49> Saving F:/AP_Paper_Benchmark/PXD015087_Thermo\\March_Hela_P035212_BA1_S00_A00_R3.ms_data.hdf - peptide_fdr.\n",
      "2022-12-03 21:02:49> Saving F:/AP_Paper_Benchmark/PXD015087_Thermo\\March_Hela_P035212_BA1_S00_A00_R3.ms_data.hdf - feature_table.\n",
      "2022-12-03 21:02:49> Saving F:/AP_Paper_Benchmark/PXD015087_Thermo\\March_Hela_P035212_BA1_S00_A00_R4.ms_data.hdf - peptide_fdr.\n",
      "2022-12-03 21:02:50> Saving F:/AP_Paper_Benchmark/PXD015087_Thermo\\March_Hela_P035212_BA1_S00_A00_R4.ms_data.hdf - feature_table.\n",
      "2022-12-03 21:02:50> Saving F:/AP_Paper_Benchmark/PXD015087_Thermo\\March_Hela_P035212_BA1_S00_A00_R5.ms_data.hdf - peptide_fdr.\n",
      "2022-12-03 21:02:50> Saving F:/AP_Paper_Benchmark/PXD015087_Thermo\\March_Hela_P035212_BA1_S00_A00_R5.ms_data.hdf - feature_table.\n",
      "2022-12-03 21:02:50> Saving F:/AP_Paper_Benchmark/PXD015087_Thermo\\March_Hela_P035212_BA1_S00_A00_R6.ms_data.hdf - peptide_fdr.\n",
      "2022-12-03 21:02:51> Saving F:/AP_Paper_Benchmark/PXD015087_Thermo\\March_Hela_P035212_BA1_S00_A00_R6.ms_data.hdf - feature_table.\n",
      "2022-12-03 21:02:51> Saving F:/AP_Paper_Benchmark/PXD015087_Thermo\\March_Hela_P035212_BA1_S00_A00_R7.ms_data.hdf - peptide_fdr.\n"
     ]
    },
    {
     "name": "stdout",
     "output_type": "stream",
     "text": [
      "2022-12-03 21:02:51> Saving F:/AP_Paper_Benchmark/PXD015087_Thermo\\March_Hela_P035212_BA1_S00_A00_R7.ms_data.hdf - feature_table.\n",
      "2022-12-03 21:02:51> Saving F:/AP_Paper_Benchmark/PXD015087_Thermo\\March_Hela_P035212_BA1_S00_A00_R8.ms_data.hdf - peptide_fdr.\n",
      "2022-12-03 21:02:52> Saving F:/AP_Paper_Benchmark/PXD015087_Thermo\\March_Hela_P035212_BA1_S00_A00_R8.ms_data.hdf - feature_table.\n",
      "2022-12-03 21:02:52> Saving F:/AP_Paper_Benchmark/PXD015087_Thermo\\March_Hela_P035212_BA1_S00_A00_R9.ms_data.hdf - peptide_fdr.\n",
      "2022-12-03 21:02:52> Saving F:/AP_Paper_Benchmark/PXD015087_Thermo\\March_Hela_P035212_BA1_S00_A00_R9.ms_data.hdf - feature_table.\n",
      "2022-12-03 21:02:53> cache info: iteration 0 items 1 size 2025.8 kB\n",
      "2022-12-03 21:02:53> cache info: iteration 0 items 2 size 4102.7 kB\n",
      "2022-12-03 21:03:10> cache info: iteration 100 items 102 size 209033.4 kB\n",
      "2022-12-03 21:11:04> Total deviation after calibration {'mz': 0.02974072846074662, 'rt': 1312.215635992051}\n",
      "2022-12-03 21:11:04> Mean deviation after calibration {'mz': 1.4945089678767145e-06, 'rt': 0.06594048422070607}\n",
      "2022-12-03 21:11:04> Change (after/before) total deviation {'mz': 0.9723343415390349, 'rt': 0.9936620526177516}\n",
      "2022-12-03 21:11:04> Change (after/before) mean deviation {'mz': 0.9723343415390349, 'rt': 0.9936620526177516}\n",
      "2022-12-03 21:11:04> ==== match ====\n",
      "2022-12-03 21:11:04> Matching datasets.\n",
      "2022-12-03 21:11:04> A total of 1 matching groups set.\n",
      "2022-12-03 21:11:33> A total of 4,229,378 peptides for matching in peptide_fdr.\n",
      "2022-12-03 21:11:33> Matching group 0 with a tolerance of 0.\n",
      "2022-12-03 21:11:33> Matching from 200 files to 200 files.\n",
      "2022-12-03 21:11:33> Matching from ['Hela_P035210_BA1_S00_A00_R1', 'Hela_P035210_BA1_S00_A00_R10', 'Hela_P035210_BA1_S00_A00_R11', 'Hela_P035210_BA1_S00_A00_R12', 'Hela_P035210_BA1_S00_A00_R13', 'Hela_P035210_BA1_S00_A00_R14', 'Hela_P035210_BA1_S00_A00_R15', 'Hela_P035210_BA1_S00_A00_R16', 'Hela_P035210_BA1_S00_A00_R17', 'Hela_P035210_BA1_S00_A00_R18', 'Hela_P035210_BA1_S00_A00_R19', 'Hela_P035210_BA1_S00_A00_R2', 'Hela_P035210_BA1_S00_A00_R20', 'Hela_P035210_BA1_S00_A00_R3', 'Hela_P035210_BA1_S00_A00_R4', 'Hela_P035210_BA1_S00_A00_R5', 'Hela_P035210_BA1_S00_A00_R6', 'Hela_P035210_BA1_S00_A00_R7', 'Hela_P035210_BA1_S00_A00_R8', 'Hela_P035210_BA1_S00_A00_R9', 'Hela_P035211_BA1_S00_A00_R1', 'Hela_P035211_BA1_S00_A00_R10', 'Hela_P035211_BA1_S00_A00_R11', 'Hela_P035211_BA1_S00_A00_R12', 'Hela_P035211_BA1_S00_A00_R13', 'Hela_P035211_BA1_S00_A00_R14', 'Hela_P035211_BA1_S00_A00_R15', 'Hela_P035211_BA1_S00_A00_R16', 'Hela_P035211_BA1_S00_A00_R17', 'Hela_P035211_BA1_S00_A00_R18', 'Hela_P035211_BA1_S00_A00_R19', 'Hela_P035211_BA1_S00_A00_R2', 'Hela_P035211_BA1_S00_A00_R20', 'Hela_P035211_BA1_S00_A00_R3', 'Hela_P035211_BA1_S00_A00_R4', 'Hela_P035211_BA1_S00_A00_R5', 'Hela_P035211_BA1_S00_A00_R6', 'Hela_P035211_BA1_S00_A00_R7', 'Hela_P035211_BA1_S00_A00_R8', 'Hela_P035211_BA1_S00_A00_R9', 'Hela_P035213_BA1_S00_A00_R1', 'Hela_P035213_BA1_S00_A00_R10', 'Hela_P035213_BA1_S00_A00_R11', 'Hela_P035213_BA1_S00_A00_R12', 'Hela_P035213_BA1_S00_A00_R13', 'Hela_P035213_BA1_S00_A00_R14', 'Hela_P035213_BA1_S00_A00_R15', 'Hela_P035213_BA1_S00_A00_R16', 'Hela_P035213_BA1_S00_A00_R17', 'Hela_P035213_BA1_S00_A00_R18', 'Hela_P035213_BA1_S00_A00_R19', 'Hela_P035213_BA1_S00_A00_R2', 'Hela_P035213_BA1_S00_A00_R20', 'Hela_P035213_BA1_S00_A00_R3', 'Hela_P035213_BA1_S00_A00_R4', 'Hela_P035213_BA1_S00_A00_R5', 'Hela_P035213_BA1_S00_A00_R6', 'Hela_P035213_BA1_S00_A00_R7', 'Hela_P035213_BA1_S00_A00_R8', 'Hela_P035213_BA1_S00_A00_R9', 'Hela_P035214_BA1_S00_A00_R1', 'Hela_P035214_BA1_S00_A00_R10', 'Hela_P035214_BA1_S00_A00_R11', 'Hela_P035214_BA1_S00_A00_R12', 'Hela_P035214_BA1_S00_A00_R13', 'Hela_P035214_BA1_S00_A00_R14', 'Hela_P035214_BA1_S00_A00_R15', 'Hela_P035214_BA1_S00_A00_R16', 'Hela_P035214_BA1_S00_A00_R17', 'Hela_P035214_BA1_S00_A00_R18', 'Hela_P035214_BA1_S00_A00_R19', 'Hela_P035214_BA1_S00_A00_R2', 'Hela_P035214_BA1_S00_A00_R20', 'Hela_P035214_BA1_S00_A00_R3', 'Hela_P035214_BA1_S00_A00_R4', 'Hela_P035214_BA1_S00_A00_R5', 'Hela_P035214_BA1_S00_A00_R6', 'Hela_P035214_BA1_S00_A00_R7', 'Hela_P035214_BA1_S00_A00_R8', 'Hela_P035214_BA1_S00_A00_R9', 'Hela_P035215_BA1_S00_A00_R1', 'Hela_P035215_BA1_S00_A00_R10', 'Hela_P035215_BA1_S00_A00_R11', 'Hela_P035215_BA1_S00_A00_R12', 'Hela_P035215_BA1_S00_A00_R13', 'Hela_P035215_BA1_S00_A00_R14', 'Hela_P035215_BA1_S00_A00_R15', 'Hela_P035215_BA1_S00_A00_R16', 'Hela_P035215_BA1_S00_A00_R17', 'Hela_P035215_BA1_S00_A00_R18', 'Hela_P035215_BA1_S00_A00_R19', 'Hela_P035215_BA1_S00_A00_R2', 'Hela_P035215_BA1_S00_A00_R20', 'Hela_P035215_BA1_S00_A00_R3', 'Hela_P035215_BA1_S00_A00_R4', 'Hela_P035215_BA1_S00_A00_R5', 'Hela_P035215_BA1_S00_A00_R6', 'Hela_P035215_BA1_S00_A00_R7', 'Hela_P035215_BA1_S00_A00_R8', 'Hela_P035215_BA1_S00_A00_R9', 'Hela_P035216_BA1_S00_A00_R1', 'Hela_P035216_BA1_S00_A00_R10', 'Hela_P035216_BA1_S00_A00_R11', 'Hela_P035216_BA1_S00_A00_R12', 'Hela_P035216_BA1_S00_A00_R13', 'Hela_P035216_BA1_S00_A00_R14', 'Hela_P035216_BA1_S00_A00_R15', 'Hela_P035216_BA1_S00_A00_R16', 'Hela_P035216_BA1_S00_A00_R17', 'Hela_P035216_BA1_S00_A00_R18', 'Hela_P035216_BA1_S00_A00_R19', 'Hela_P035216_BA1_S00_A00_R2', 'Hela_P035216_BA1_S00_A00_R20', 'Hela_P035216_BA1_S00_A00_R3', 'Hela_P035216_BA1_S00_A00_R4', 'Hela_P035216_BA1_S00_A00_R5', 'Hela_P035216_BA1_S00_A00_R6', 'Hela_P035216_BA1_S00_A00_R7', 'Hela_P035216_BA1_S00_A00_R8', 'Hela_P035216_BA1_S00_A00_R9', 'Hela_P035217_BA1_S00_A00_R1', 'Hela_P035217_BA1_S00_A00_R10', 'Hela_P035217_BA1_S00_A00_R11', 'Hela_P035217_BA1_S00_A00_R12', 'Hela_P035217_BA1_S00_A00_R13', 'Hela_P035217_BA1_S00_A00_R14', 'Hela_P035217_BA1_S00_A00_R15', 'Hela_P035217_BA1_S00_A00_R16', 'Hela_P035217_BA1_S00_A00_R17', 'Hela_P035217_BA1_S00_A00_R18', 'Hela_P035217_BA1_S00_A00_R19', 'Hela_P035217_BA1_S00_A00_R2', 'Hela_P035217_BA1_S00_A00_R20', 'Hela_P035217_BA1_S00_A00_R21', 'Hela_P035217_BA1_S00_A00_R3', 'Hela_P035217_BA1_S00_A00_R5', 'Hela_P035217_BA1_S00_A00_R6', 'Hela_P035217_BA1_S00_A00_R7', 'Hela_P035217_BA1_S00_A00_R8', 'Hela_P035217_BA1_S00_A00_R9', 'Hela_P035218_BA1_S00_A00_R1', 'Hela_P035218_BA1_S00_A00_R10', 'Hela_P035218_BA1_S00_A00_R11', 'Hela_P035218_BA1_S00_A00_R12', 'Hela_P035218_BA1_S00_A00_R13', 'Hela_P035218_BA1_S00_A00_R14', 'Hela_P035218_BA1_S00_A00_R15', 'Hela_P035218_BA1_S00_A00_R16', 'Hela_P035218_BA1_S00_A00_R17', 'Hela_P035218_BA1_S00_A00_R18', 'Hela_P035218_BA1_S00_A00_R19', 'Hela_P035218_BA1_S00_A00_R2', 'Hela_P035218_BA1_S00_A00_R20', 'Hela_P035218_BA1_S00_A00_R3', 'Hela_P035218_BA1_S00_A00_R4', 'Hela_P035218_BA1_S00_A00_R5', 'Hela_P035218_BA1_S00_A00_R6', 'Hela_P035218_BA1_S00_A00_R7', 'Hela_P035218_BA1_S00_A00_R8', 'Hela_P035218_BA1_S00_A00_R9', 'Hela_P035219_BA1_S00_A00_R1', 'Hela_P035219_BA1_S00_A00_R10', 'Hela_P035219_BA1_S00_A00_R11', 'Hela_P035219_BA1_S00_A00_R12', 'Hela_P035219_BA1_S00_A00_R13', 'Hela_P035219_BA1_S00_A00_R14', 'Hela_P035219_BA1_S00_A00_R15', 'Hela_P035219_BA1_S00_A00_R16', 'Hela_P035219_BA1_S00_A00_R17', 'Hela_P035219_BA1_S00_A00_R18', 'Hela_P035219_BA1_S00_A00_R19', 'Hela_P035219_BA1_S00_A00_R2', 'Hela_P035219_BA1_S00_A00_R20', 'Hela_P035219_BA1_S00_A00_R3', 'Hela_P035219_BA1_S00_A00_R4', 'Hela_P035219_BA1_S00_A00_R5', 'Hela_P035219_BA1_S00_A00_R6', 'Hela_P035219_BA1_S00_A00_R7', 'Hela_P035219_BA1_S00_A00_R8', 'Hela_P035219_BA1_S00_A00_R9', 'March_Hela_P035212_BA1_S00_A00_R1', 'March_Hela_P035212_BA1_S00_A00_R10', 'March_Hela_P035212_BA1_S00_A00_R11', 'March_Hela_P035212_BA1_S00_A00_R12', 'March_Hela_P035212_BA1_S00_A00_R13', 'March_Hela_P035212_BA1_S00_A00_R14', 'March_Hela_P035212_BA1_S00_A00_R15', 'March_Hela_P035212_BA1_S00_A00_R16', 'March_Hela_P035212_BA1_S00_A00_R17', 'March_Hela_P035212_BA1_S00_A00_R18', 'March_Hela_P035212_BA1_S00_A00_R19', 'March_Hela_P035212_BA1_S00_A00_R2', 'March_Hela_P035212_BA1_S00_A00_R20', 'March_Hela_P035212_BA1_S00_A00_R3', 'March_Hela_P035212_BA1_S00_A00_R4', 'March_Hela_P035212_BA1_S00_A00_R5', 'March_Hela_P035212_BA1_S00_A00_R6', 'March_Hela_P035212_BA1_S00_A00_R7', 'March_Hela_P035212_BA1_S00_A00_R8', 'March_Hela_P035212_BA1_S00_A00_R9'] to ['Hela_P035210_BA1_S00_A00_R1', 'Hela_P035210_BA1_S00_A00_R10', 'Hela_P035210_BA1_S00_A00_R11', 'Hela_P035210_BA1_S00_A00_R12', 'Hela_P035210_BA1_S00_A00_R13', 'Hela_P035210_BA1_S00_A00_R14', 'Hela_P035210_BA1_S00_A00_R15', 'Hela_P035210_BA1_S00_A00_R16', 'Hela_P035210_BA1_S00_A00_R17', 'Hela_P035210_BA1_S00_A00_R18', 'Hela_P035210_BA1_S00_A00_R19', 'Hela_P035210_BA1_S00_A00_R2', 'Hela_P035210_BA1_S00_A00_R20', 'Hela_P035210_BA1_S00_A00_R3', 'Hela_P035210_BA1_S00_A00_R4', 'Hela_P035210_BA1_S00_A00_R5', 'Hela_P035210_BA1_S00_A00_R6', 'Hela_P035210_BA1_S00_A00_R7', 'Hela_P035210_BA1_S00_A00_R8', 'Hela_P035210_BA1_S00_A00_R9', 'Hela_P035211_BA1_S00_A00_R1', 'Hela_P035211_BA1_S00_A00_R10', 'Hela_P035211_BA1_S00_A00_R11', 'Hela_P035211_BA1_S00_A00_R12', 'Hela_P035211_BA1_S00_A00_R13', 'Hela_P035211_BA1_S00_A00_R14', 'Hela_P035211_BA1_S00_A00_R15', 'Hela_P035211_BA1_S00_A00_R16', 'Hela_P035211_BA1_S00_A00_R17', 'Hela_P035211_BA1_S00_A00_R18', 'Hela_P035211_BA1_S00_A00_R19', 'Hela_P035211_BA1_S00_A00_R2', 'Hela_P035211_BA1_S00_A00_R20', 'Hela_P035211_BA1_S00_A00_R3', 'Hela_P035211_BA1_S00_A00_R4', 'Hela_P035211_BA1_S00_A00_R5', 'Hela_P035211_BA1_S00_A00_R6', 'Hela_P035211_BA1_S00_A00_R7', 'Hela_P035211_BA1_S00_A00_R8', 'Hela_P035211_BA1_S00_A00_R9', 'Hela_P035213_BA1_S00_A00_R1', 'Hela_P035213_BA1_S00_A00_R10', 'Hela_P035213_BA1_S00_A00_R11', 'Hela_P035213_BA1_S00_A00_R12', 'Hela_P035213_BA1_S00_A00_R13', 'Hela_P035213_BA1_S00_A00_R14', 'Hela_P035213_BA1_S00_A00_R15', 'Hela_P035213_BA1_S00_A00_R16', 'Hela_P035213_BA1_S00_A00_R17', 'Hela_P035213_BA1_S00_A00_R18', 'Hela_P035213_BA1_S00_A00_R19', 'Hela_P035213_BA1_S00_A00_R2', 'Hela_P035213_BA1_S00_A00_R20', 'Hela_P035213_BA1_S00_A00_R3', 'Hela_P035213_BA1_S00_A00_R4', 'Hela_P035213_BA1_S00_A00_R5', 'Hela_P035213_BA1_S00_A00_R6', 'Hela_P035213_BA1_S00_A00_R7', 'Hela_P035213_BA1_S00_A00_R8', 'Hela_P035213_BA1_S00_A00_R9', 'Hela_P035214_BA1_S00_A00_R1', 'Hela_P035214_BA1_S00_A00_R10', 'Hela_P035214_BA1_S00_A00_R11', 'Hela_P035214_BA1_S00_A00_R12', 'Hela_P035214_BA1_S00_A00_R13', 'Hela_P035214_BA1_S00_A00_R14', 'Hela_P035214_BA1_S00_A00_R15', 'Hela_P035214_BA1_S00_A00_R16', 'Hela_P035214_BA1_S00_A00_R17', 'Hela_P035214_BA1_S00_A00_R18', 'Hela_P035214_BA1_S00_A00_R19', 'Hela_P035214_BA1_S00_A00_R2', 'Hela_P035214_BA1_S00_A00_R20', 'Hela_P035214_BA1_S00_A00_R3', 'Hela_P035214_BA1_S00_A00_R4', 'Hela_P035214_BA1_S00_A00_R5', 'Hela_P035214_BA1_S00_A00_R6', 'Hela_P035214_BA1_S00_A00_R7', 'Hela_P035214_BA1_S00_A00_R8', 'Hela_P035214_BA1_S00_A00_R9', 'Hela_P035215_BA1_S00_A00_R1', 'Hela_P035215_BA1_S00_A00_R10', 'Hela_P035215_BA1_S00_A00_R11', 'Hela_P035215_BA1_S00_A00_R12', 'Hela_P035215_BA1_S00_A00_R13', 'Hela_P035215_BA1_S00_A00_R14', 'Hela_P035215_BA1_S00_A00_R15', 'Hela_P035215_BA1_S00_A00_R16', 'Hela_P035215_BA1_S00_A00_R17', 'Hela_P035215_BA1_S00_A00_R18', 'Hela_P035215_BA1_S00_A00_R19', 'Hela_P035215_BA1_S00_A00_R2', 'Hela_P035215_BA1_S00_A00_R20', 'Hela_P035215_BA1_S00_A00_R3', 'Hela_P035215_BA1_S00_A00_R4', 'Hela_P035215_BA1_S00_A00_R5', 'Hela_P035215_BA1_S00_A00_R6', 'Hela_P035215_BA1_S00_A00_R7', 'Hela_P035215_BA1_S00_A00_R8', 'Hela_P035215_BA1_S00_A00_R9', 'Hela_P035216_BA1_S00_A00_R1', 'Hela_P035216_BA1_S00_A00_R10', 'Hela_P035216_BA1_S00_A00_R11', 'Hela_P035216_BA1_S00_A00_R12', 'Hela_P035216_BA1_S00_A00_R13', 'Hela_P035216_BA1_S00_A00_R14', 'Hela_P035216_BA1_S00_A00_R15', 'Hela_P035216_BA1_S00_A00_R16', 'Hela_P035216_BA1_S00_A00_R17', 'Hela_P035216_BA1_S00_A00_R18', 'Hela_P035216_BA1_S00_A00_R19', 'Hela_P035216_BA1_S00_A00_R2', 'Hela_P035216_BA1_S00_A00_R20', 'Hela_P035216_BA1_S00_A00_R3', 'Hela_P035216_BA1_S00_A00_R4', 'Hela_P035216_BA1_S00_A00_R5', 'Hela_P035216_BA1_S00_A00_R6', 'Hela_P035216_BA1_S00_A00_R7', 'Hela_P035216_BA1_S00_A00_R8', 'Hela_P035216_BA1_S00_A00_R9', 'Hela_P035217_BA1_S00_A00_R1', 'Hela_P035217_BA1_S00_A00_R10', 'Hela_P035217_BA1_S00_A00_R11', 'Hela_P035217_BA1_S00_A00_R12', 'Hela_P035217_BA1_S00_A00_R13', 'Hela_P035217_BA1_S00_A00_R14', 'Hela_P035217_BA1_S00_A00_R15', 'Hela_P035217_BA1_S00_A00_R16', 'Hela_P035217_BA1_S00_A00_R17', 'Hela_P035217_BA1_S00_A00_R18', 'Hela_P035217_BA1_S00_A00_R19', 'Hela_P035217_BA1_S00_A00_R2', 'Hela_P035217_BA1_S00_A00_R20', 'Hela_P035217_BA1_S00_A00_R21', 'Hela_P035217_BA1_S00_A00_R3', 'Hela_P035217_BA1_S00_A00_R5', 'Hela_P035217_BA1_S00_A00_R6', 'Hela_P035217_BA1_S00_A00_R7', 'Hela_P035217_BA1_S00_A00_R8', 'Hela_P035217_BA1_S00_A00_R9', 'Hela_P035218_BA1_S00_A00_R1', 'Hela_P035218_BA1_S00_A00_R10', 'Hela_P035218_BA1_S00_A00_R11', 'Hela_P035218_BA1_S00_A00_R12', 'Hela_P035218_BA1_S00_A00_R13', 'Hela_P035218_BA1_S00_A00_R14', 'Hela_P035218_BA1_S00_A00_R15', 'Hela_P035218_BA1_S00_A00_R16', 'Hela_P035218_BA1_S00_A00_R17', 'Hela_P035218_BA1_S00_A00_R18', 'Hela_P035218_BA1_S00_A00_R19', 'Hela_P035218_BA1_S00_A00_R2', 'Hela_P035218_BA1_S00_A00_R20', 'Hela_P035218_BA1_S00_A00_R3', 'Hela_P035218_BA1_S00_A00_R4', 'Hela_P035218_BA1_S00_A00_R5', 'Hela_P035218_BA1_S00_A00_R6', 'Hela_P035218_BA1_S00_A00_R7', 'Hela_P035218_BA1_S00_A00_R8', 'Hela_P035218_BA1_S00_A00_R9', 'Hela_P035219_BA1_S00_A00_R1', 'Hela_P035219_BA1_S00_A00_R10', 'Hela_P035219_BA1_S00_A00_R11', 'Hela_P035219_BA1_S00_A00_R12', 'Hela_P035219_BA1_S00_A00_R13', 'Hela_P035219_BA1_S00_A00_R14', 'Hela_P035219_BA1_S00_A00_R15', 'Hela_P035219_BA1_S00_A00_R16', 'Hela_P035219_BA1_S00_A00_R17', 'Hela_P035219_BA1_S00_A00_R18', 'Hela_P035219_BA1_S00_A00_R19', 'Hela_P035219_BA1_S00_A00_R2', 'Hela_P035219_BA1_S00_A00_R20', 'Hela_P035219_BA1_S00_A00_R3', 'Hela_P035219_BA1_S00_A00_R4', 'Hela_P035219_BA1_S00_A00_R5', 'Hela_P035219_BA1_S00_A00_R6', 'Hela_P035219_BA1_S00_A00_R7', 'Hela_P035219_BA1_S00_A00_R8', 'Hela_P035219_BA1_S00_A00_R9', 'March_Hela_P035212_BA1_S00_A00_R1', 'March_Hela_P035212_BA1_S00_A00_R10', 'March_Hela_P035212_BA1_S00_A00_R11', 'March_Hela_P035212_BA1_S00_A00_R12', 'March_Hela_P035212_BA1_S00_A00_R13', 'March_Hela_P035212_BA1_S00_A00_R14', 'March_Hela_P035212_BA1_S00_A00_R15', 'March_Hela_P035212_BA1_S00_A00_R16', 'March_Hela_P035212_BA1_S00_A00_R17', 'March_Hela_P035212_BA1_S00_A00_R18', 'March_Hela_P035212_BA1_S00_A00_R19', 'March_Hela_P035212_BA1_S00_A00_R2', 'March_Hela_P035212_BA1_S00_A00_R20', 'March_Hela_P035212_BA1_S00_A00_R3', 'March_Hela_P035212_BA1_S00_A00_R4', 'March_Hela_P035212_BA1_S00_A00_R5', 'March_Hela_P035212_BA1_S00_A00_R6', 'March_Hela_P035212_BA1_S00_A00_R7', 'March_Hela_P035212_BA1_S00_A00_R8', 'March_Hela_P035212_BA1_S00_A00_R9'].\n"
     ]
    },
    {
     "name": "stdout",
     "output_type": "stream",
     "text": [
      "2022-12-03 21:11:55> Trying to match file F:/AP_Paper_Benchmark/PXD015087_Thermo\\Hela_P035210_BA1_S00_A00_R1.ms_data.hdf with database of 42,272 unidentified candidates\n",
      "2022-12-03 21:11:55> 13,370 possible features for matching based on distance of 3\n",
      "2022-12-03 21:12:05> 6,279 possible features for matching based on probability of 0.05\n",
      "2022-12-03 21:12:05> Saving F:/AP_Paper_Benchmark/PXD015087_Thermo\\Hela_P035210_BA1_S00_A00_R1.ms_data.hdf - peptide_fdr.\n",
      "2022-12-03 21:12:06> Trying to match file F:/AP_Paper_Benchmark/PXD015087_Thermo\\Hela_P035210_BA1_S00_A00_R10.ms_data.hdf with database of 41,683 unidentified candidates\n",
      "2022-12-03 21:12:06> 13,490 possible features for matching based on distance of 3\n",
      "2022-12-03 21:12:16> 5,457 possible features for matching based on probability of 0.05\n",
      "2022-12-03 21:12:16> Saving F:/AP_Paper_Benchmark/PXD015087_Thermo\\Hela_P035210_BA1_S00_A00_R10.ms_data.hdf - peptide_fdr.\n",
      "2022-12-03 21:12:17> Trying to match file F:/AP_Paper_Benchmark/PXD015087_Thermo\\Hela_P035210_BA1_S00_A00_R11.ms_data.hdf with database of 41,944 unidentified candidates\n",
      "2022-12-03 21:12:17> 14,571 possible features for matching based on distance of 3\n",
      "2022-12-03 21:12:28> 6,820 possible features for matching based on probability of 0.05\n",
      "2022-12-03 21:12:28> Saving F:/AP_Paper_Benchmark/PXD015087_Thermo\\Hela_P035210_BA1_S00_A00_R11.ms_data.hdf - peptide_fdr.\n",
      "2022-12-03 21:12:29> Trying to match file F:/AP_Paper_Benchmark/PXD015087_Thermo\\Hela_P035210_BA1_S00_A00_R12.ms_data.hdf with database of 41,933 unidentified candidates\n",
      "2022-12-03 21:12:29> 15,142 possible features for matching based on distance of 3\n",
      "2022-12-03 21:12:41> 7,834 possible features for matching based on probability of 0.05\n",
      "2022-12-03 21:12:41> Saving F:/AP_Paper_Benchmark/PXD015087_Thermo\\Hela_P035210_BA1_S00_A00_R12.ms_data.hdf - peptide_fdr.\n",
      "2022-12-03 21:12:42> Trying to match file F:/AP_Paper_Benchmark/PXD015087_Thermo\\Hela_P035210_BA1_S00_A00_R13.ms_data.hdf with database of 41,505 unidentified candidates\n",
      "2022-12-03 21:12:42> 15,386 possible features for matching based on distance of 3\n",
      "2022-12-03 21:12:54> 8,168 possible features for matching based on probability of 0.05\n",
      "2022-12-03 21:12:54> Saving F:/AP_Paper_Benchmark/PXD015087_Thermo\\Hela_P035210_BA1_S00_A00_R13.ms_data.hdf - peptide_fdr.\n",
      "2022-12-03 21:12:55> Trying to match file F:/AP_Paper_Benchmark/PXD015087_Thermo\\Hela_P035210_BA1_S00_A00_R14.ms_data.hdf with database of 42,234 unidentified candidates\n",
      "2022-12-03 21:12:55> 15,254 possible features for matching based on distance of 3\n",
      "2022-12-03 21:13:07> 7,266 possible features for matching based on probability of 0.05\n",
      "2022-12-03 21:13:07> Saving F:/AP_Paper_Benchmark/PXD015087_Thermo\\Hela_P035210_BA1_S00_A00_R14.ms_data.hdf - peptide_fdr.\n",
      "2022-12-03 21:13:07> Trying to match file F:/AP_Paper_Benchmark/PXD015087_Thermo\\Hela_P035210_BA1_S00_A00_R15.ms_data.hdf with database of 41,893 unidentified candidates\n",
      "2022-12-03 21:13:08> 14,980 possible features for matching based on distance of 3\n",
      "2022-12-03 21:13:19> 7,154 possible features for matching based on probability of 0.05\n",
      "2022-12-03 21:13:19> Saving F:/AP_Paper_Benchmark/PXD015087_Thermo\\Hela_P035210_BA1_S00_A00_R15.ms_data.hdf - peptide_fdr.\n",
      "2022-12-03 21:13:20> Trying to match file F:/AP_Paper_Benchmark/PXD015087_Thermo\\Hela_P035210_BA1_S00_A00_R16.ms_data.hdf with database of 42,175 unidentified candidates\n",
      "2022-12-03 21:13:20> 17,205 possible features for matching based on distance of 3\n",
      "2022-12-03 21:13:34> 8,916 possible features for matching based on probability of 0.05\n",
      "2022-12-03 21:13:34> Saving F:/AP_Paper_Benchmark/PXD015087_Thermo\\Hela_P035210_BA1_S00_A00_R16.ms_data.hdf - peptide_fdr.\n",
      "2022-12-03 21:13:34> Trying to match file F:/AP_Paper_Benchmark/PXD015087_Thermo\\Hela_P035210_BA1_S00_A00_R17.ms_data.hdf with database of 42,093 unidentified candidates\n",
      "2022-12-03 21:13:35> 16,242 possible features for matching based on distance of 3\n",
      "2022-12-03 21:13:47> 8,299 possible features for matching based on probability of 0.05\n",
      "2022-12-03 21:13:47> Saving F:/AP_Paper_Benchmark/PXD015087_Thermo\\Hela_P035210_BA1_S00_A00_R17.ms_data.hdf - peptide_fdr.\n",
      "2022-12-03 21:13:48> Trying to match file F:/AP_Paper_Benchmark/PXD015087_Thermo\\Hela_P035210_BA1_S00_A00_R18.ms_data.hdf with database of 41,938 unidentified candidates\n",
      "2022-12-03 21:13:48> 13,364 possible features for matching based on distance of 3\n",
      "2022-12-03 21:13:58> 5,350 possible features for matching based on probability of 0.05\n",
      "2022-12-03 21:13:58> Saving F:/AP_Paper_Benchmark/PXD015087_Thermo\\Hela_P035210_BA1_S00_A00_R18.ms_data.hdf - peptide_fdr.\n",
      "2022-12-03 21:13:59> Trying to match file F:/AP_Paper_Benchmark/PXD015087_Thermo\\Hela_P035210_BA1_S00_A00_R19.ms_data.hdf with database of 42,139 unidentified candidates\n",
      "2022-12-03 21:13:59> 10,280 possible features for matching based on distance of 3\n",
      "2022-12-03 21:14:07> 2,421 possible features for matching based on probability of 0.05\n",
      "2022-12-03 21:14:07> Saving F:/AP_Paper_Benchmark/PXD015087_Thermo\\Hela_P035210_BA1_S00_A00_R19.ms_data.hdf - peptide_fdr.\n",
      "2022-12-03 21:14:08> Trying to match file F:/AP_Paper_Benchmark/PXD015087_Thermo\\Hela_P035210_BA1_S00_A00_R2.ms_data.hdf with database of 41,793 unidentified candidates\n",
      "2022-12-03 21:14:08> 13,322 possible features for matching based on distance of 3\n",
      "2022-12-03 21:14:18> 6,068 possible features for matching based on probability of 0.05\n",
      "2022-12-03 21:14:18> Saving F:/AP_Paper_Benchmark/PXD015087_Thermo\\Hela_P035210_BA1_S00_A00_R2.ms_data.hdf - peptide_fdr.\n",
      "2022-12-03 21:14:19> Trying to match file F:/AP_Paper_Benchmark/PXD015087_Thermo\\Hela_P035210_BA1_S00_A00_R20.ms_data.hdf with database of 42,408 unidentified candidates\n",
      "2022-12-03 21:14:19> 10,647 possible features for matching based on distance of 3\n",
      "2022-12-03 21:14:27> 2,090 possible features for matching based on probability of 0.05\n",
      "2022-12-03 21:14:27> Saving F:/AP_Paper_Benchmark/PXD015087_Thermo\\Hela_P035210_BA1_S00_A00_R20.ms_data.hdf - peptide_fdr.\n",
      "2022-12-03 21:14:28> Trying to match file F:/AP_Paper_Benchmark/PXD015087_Thermo\\Hela_P035210_BA1_S00_A00_R3.ms_data.hdf with database of 41,626 unidentified candidates\n",
      "2022-12-03 21:14:28> 12,424 possible features for matching based on distance of 3\n",
      "2022-12-03 21:14:38> 4,353 possible features for matching based on probability of 0.05\n",
      "2022-12-03 21:14:38> Saving F:/AP_Paper_Benchmark/PXD015087_Thermo\\Hela_P035210_BA1_S00_A00_R3.ms_data.hdf - peptide_fdr.\n",
      "2022-12-03 21:14:38> Trying to match file F:/AP_Paper_Benchmark/PXD015087_Thermo\\Hela_P035210_BA1_S00_A00_R4.ms_data.hdf with database of 42,116 unidentified candidates\n",
      "2022-12-03 21:14:39> 13,525 possible features for matching based on distance of 3\n",
      "2022-12-03 21:14:49> 4,913 possible features for matching based on probability of 0.05\n",
      "2022-12-03 21:14:49> Saving F:/AP_Paper_Benchmark/PXD015087_Thermo\\Hela_P035210_BA1_S00_A00_R4.ms_data.hdf - peptide_fdr.\n",
      "2022-12-03 21:14:49> Trying to match file F:/AP_Paper_Benchmark/PXD015087_Thermo\\Hela_P035210_BA1_S00_A00_R5.ms_data.hdf with database of 42,133 unidentified candidates\n",
      "2022-12-03 21:14:50> 14,249 possible features for matching based on distance of 3\n",
      "2022-12-03 21:15:01> 5,895 possible features for matching based on probability of 0.05\n",
      "2022-12-03 21:15:01> Saving F:/AP_Paper_Benchmark/PXD015087_Thermo\\Hela_P035210_BA1_S00_A00_R5.ms_data.hdf - peptide_fdr.\n",
      "2022-12-03 21:15:01> Trying to match file F:/AP_Paper_Benchmark/PXD015087_Thermo\\Hela_P035210_BA1_S00_A00_R6.ms_data.hdf with database of 41,932 unidentified candidates\n",
      "2022-12-03 21:15:02> 15,151 possible features for matching based on distance of 3\n",
      "2022-12-03 21:15:13> 6,860 possible features for matching based on probability of 0.05\n",
      "2022-12-03 21:15:13> Saving F:/AP_Paper_Benchmark/PXD015087_Thermo\\Hela_P035210_BA1_S00_A00_R6.ms_data.hdf - peptide_fdr.\n",
      "2022-12-03 21:15:14> Trying to match file F:/AP_Paper_Benchmark/PXD015087_Thermo\\Hela_P035210_BA1_S00_A00_R7.ms_data.hdf with database of 41,769 unidentified candidates\n",
      "2022-12-03 21:15:14> 14,039 possible features for matching based on distance of 3\n",
      "2022-12-03 21:15:25> 6,212 possible features for matching based on probability of 0.05\n",
      "2022-12-03 21:15:25> Saving F:/AP_Paper_Benchmark/PXD015087_Thermo\\Hela_P035210_BA1_S00_A00_R7.ms_data.hdf - peptide_fdr.\n"
     ]
    },
    {
     "name": "stdout",
     "output_type": "stream",
     "text": [
      "2022-12-03 21:15:26> Trying to match file F:/AP_Paper_Benchmark/PXD015087_Thermo\\Hela_P035210_BA1_S00_A00_R8.ms_data.hdf with database of 42,067 unidentified candidates\n",
      "2022-12-03 21:15:26> 13,257 possible features for matching based on distance of 3\n",
      "2022-12-03 21:15:36> 5,555 possible features for matching based on probability of 0.05\n",
      "2022-12-03 21:15:36> Saving F:/AP_Paper_Benchmark/PXD015087_Thermo\\Hela_P035210_BA1_S00_A00_R8.ms_data.hdf - peptide_fdr.\n",
      "2022-12-03 21:15:37> Trying to match file F:/AP_Paper_Benchmark/PXD015087_Thermo\\Hela_P035210_BA1_S00_A00_R9.ms_data.hdf with database of 41,942 unidentified candidates\n",
      "2022-12-03 21:15:37> 24,683 possible features for matching based on distance of 3\n",
      "2022-12-03 21:15:57> 6,671 possible features for matching based on probability of 0.05\n",
      "2022-12-03 21:15:57> Saving F:/AP_Paper_Benchmark/PXD015087_Thermo\\Hela_P035210_BA1_S00_A00_R9.ms_data.hdf - peptide_fdr.\n",
      "2022-12-03 21:15:58> Trying to match file F:/AP_Paper_Benchmark/PXD015087_Thermo\\Hela_P035211_BA1_S00_A00_R1.ms_data.hdf with database of 40,278 unidentified candidates\n",
      "2022-12-03 21:15:58> 22,916 possible features for matching based on distance of 3\n",
      "2022-12-03 21:16:16> 8,760 possible features for matching based on probability of 0.05\n",
      "2022-12-03 21:16:16> Saving F:/AP_Paper_Benchmark/PXD015087_Thermo\\Hela_P035211_BA1_S00_A00_R1.ms_data.hdf - peptide_fdr.\n",
      "2022-12-03 21:16:17> Trying to match file F:/AP_Paper_Benchmark/PXD015087_Thermo\\Hela_P035211_BA1_S00_A00_R10.ms_data.hdf with database of 40,721 unidentified candidates\n",
      "2022-12-03 21:16:17> 23,386 possible features for matching based on distance of 3\n",
      "2022-12-03 21:16:36> 9,763 possible features for matching based on probability of 0.05\n",
      "2022-12-03 21:16:36> Saving F:/AP_Paper_Benchmark/PXD015087_Thermo\\Hela_P035211_BA1_S00_A00_R10.ms_data.hdf - peptide_fdr.\n",
      "2022-12-03 21:16:37> Trying to match file F:/AP_Paper_Benchmark/PXD015087_Thermo\\Hela_P035211_BA1_S00_A00_R11.ms_data.hdf with database of 41,027 unidentified candidates\n",
      "2022-12-03 21:16:37> 24,015 possible features for matching based on distance of 3\n",
      "2022-12-03 21:16:56> 10,644 possible features for matching based on probability of 0.05\n",
      "2022-12-03 21:16:56> Saving F:/AP_Paper_Benchmark/PXD015087_Thermo\\Hela_P035211_BA1_S00_A00_R11.ms_data.hdf - peptide_fdr.\n",
      "2022-12-03 21:16:57> Trying to match file F:/AP_Paper_Benchmark/PXD015087_Thermo\\Hela_P035211_BA1_S00_A00_R12.ms_data.hdf with database of 41,183 unidentified candidates\n",
      "2022-12-03 21:16:57> 24,415 possible features for matching based on distance of 3\n",
      "2022-12-03 21:17:17> 11,462 possible features for matching based on probability of 0.05\n",
      "2022-12-03 21:17:17> Saving F:/AP_Paper_Benchmark/PXD015087_Thermo\\Hela_P035211_BA1_S00_A00_R12.ms_data.hdf - peptide_fdr.\n",
      "2022-12-03 21:17:17> Trying to match file F:/AP_Paper_Benchmark/PXD015087_Thermo\\Hela_P035211_BA1_S00_A00_R13.ms_data.hdf with database of 41,486 unidentified candidates\n",
      "2022-12-03 21:17:18> 25,003 possible features for matching based on distance of 3\n",
      "2022-12-03 21:17:38> 10,845 possible features for matching based on probability of 0.05\n",
      "2022-12-03 21:17:38> Saving F:/AP_Paper_Benchmark/PXD015087_Thermo\\Hela_P035211_BA1_S00_A00_R13.ms_data.hdf - peptide_fdr.\n",
      "2022-12-03 21:17:38> Trying to match file F:/AP_Paper_Benchmark/PXD015087_Thermo\\Hela_P035211_BA1_S00_A00_R14.ms_data.hdf with database of 41,941 unidentified candidates\n",
      "2022-12-03 21:17:39> 24,732 possible features for matching based on distance of 3\n",
      "2022-12-03 21:17:59> 10,860 possible features for matching based on probability of 0.05\n",
      "2022-12-03 21:17:59> Saving F:/AP_Paper_Benchmark/PXD015087_Thermo\\Hela_P035211_BA1_S00_A00_R14.ms_data.hdf - peptide_fdr.\n",
      "2022-12-03 21:17:59> Trying to match file F:/AP_Paper_Benchmark/PXD015087_Thermo\\Hela_P035211_BA1_S00_A00_R15.ms_data.hdf with database of 42,234 unidentified candidates\n",
      "2022-12-03 21:17:59> 24,843 possible features for matching based on distance of 3\n",
      "2022-12-03 21:18:19> 10,593 possible features for matching based on probability of 0.05\n",
      "2022-12-03 21:18:19> Saving F:/AP_Paper_Benchmark/PXD015087_Thermo\\Hela_P035211_BA1_S00_A00_R15.ms_data.hdf - peptide_fdr.\n",
      "2022-12-03 21:18:20> Trying to match file F:/AP_Paper_Benchmark/PXD015087_Thermo\\Hela_P035211_BA1_S00_A00_R16.ms_data.hdf with database of 42,204 unidentified candidates\n",
      "2022-12-03 21:18:20> 26,135 possible features for matching based on distance of 3\n",
      "2022-12-03 21:18:41> 11,854 possible features for matching based on probability of 0.05\n",
      "2022-12-03 21:18:41> Saving F:/AP_Paper_Benchmark/PXD015087_Thermo\\Hela_P035211_BA1_S00_A00_R16.ms_data.hdf - peptide_fdr.\n",
      "2022-12-03 21:18:42> Trying to match file F:/AP_Paper_Benchmark/PXD015087_Thermo\\Hela_P035211_BA1_S00_A00_R17.ms_data.hdf with database of 42,305 unidentified candidates\n",
      "2022-12-03 21:18:42> 27,037 possible features for matching based on distance of 3\n",
      "2022-12-03 21:19:04> 14,342 possible features for matching based on probability of 0.05\n",
      "2022-12-03 21:19:04> Saving F:/AP_Paper_Benchmark/PXD015087_Thermo\\Hela_P035211_BA1_S00_A00_R17.ms_data.hdf - peptide_fdr.\n",
      "2022-12-03 21:19:05> Trying to match file F:/AP_Paper_Benchmark/PXD015087_Thermo\\Hela_P035211_BA1_S00_A00_R18.ms_data.hdf with database of 42,483 unidentified candidates\n",
      "2022-12-03 21:19:05> 26,695 possible features for matching based on distance of 3\n",
      "2022-12-03 21:19:27> 13,396 possible features for matching based on probability of 0.05\n",
      "2022-12-03 21:19:27> Saving F:/AP_Paper_Benchmark/PXD015087_Thermo\\Hela_P035211_BA1_S00_A00_R18.ms_data.hdf - peptide_fdr.\n",
      "2022-12-03 21:19:27> Trying to match file F:/AP_Paper_Benchmark/PXD015087_Thermo\\Hela_P035211_BA1_S00_A00_R19.ms_data.hdf with database of 42,761 unidentified candidates\n",
      "2022-12-03 21:19:28> 25,169 possible features for matching based on distance of 3\n",
      "2022-12-03 21:19:47> 8,931 possible features for matching based on probability of 0.05\n",
      "2022-12-03 21:19:48> Saving F:/AP_Paper_Benchmark/PXD015087_Thermo\\Hela_P035211_BA1_S00_A00_R19.ms_data.hdf - peptide_fdr.\n",
      "2022-12-03 21:19:48> Trying to match file F:/AP_Paper_Benchmark/PXD015087_Thermo\\Hela_P035211_BA1_S00_A00_R2.ms_data.hdf with database of 40,330 unidentified candidates\n",
      "2022-12-03 21:19:48> 25,044 possible features for matching based on distance of 3\n",
      "2022-12-03 21:20:08> 13,306 possible features for matching based on probability of 0.05\n",
      "2022-12-03 21:20:08> Saving F:/AP_Paper_Benchmark/PXD015087_Thermo\\Hela_P035211_BA1_S00_A00_R2.ms_data.hdf - peptide_fdr.\n",
      "2022-12-03 21:20:09> Trying to match file F:/AP_Paper_Benchmark/PXD015087_Thermo\\Hela_P035211_BA1_S00_A00_R20.ms_data.hdf with database of 44,343 unidentified candidates\n",
      "2022-12-03 21:20:09> 24,756 possible features for matching based on distance of 3\n",
      "2022-12-03 21:20:29> 10,953 possible features for matching based on probability of 0.05\n",
      "2022-12-03 21:20:29> Saving F:/AP_Paper_Benchmark/PXD015087_Thermo\\Hela_P035211_BA1_S00_A00_R20.ms_data.hdf - peptide_fdr.\n",
      "2022-12-03 21:20:30> Trying to match file F:/AP_Paper_Benchmark/PXD015087_Thermo\\Hela_P035211_BA1_S00_A00_R3.ms_data.hdf with database of 40,328 unidentified candidates\n",
      "2022-12-03 21:20:30> 23,725 possible features for matching based on distance of 3\n",
      "2022-12-03 21:20:49> 10,374 possible features for matching based on probability of 0.05\n",
      "2022-12-03 21:20:49> Saving F:/AP_Paper_Benchmark/PXD015087_Thermo\\Hela_P035211_BA1_S00_A00_R3.ms_data.hdf - peptide_fdr.\n",
      "2022-12-03 21:20:50> Trying to match file F:/AP_Paper_Benchmark/PXD015087_Thermo\\Hela_P035211_BA1_S00_A00_R4.ms_data.hdf with database of 40,039 unidentified candidates\n",
      "2022-12-03 21:20:50> 23,193 possible features for matching based on distance of 3\n",
      "2022-12-03 21:21:08> 8,697 possible features for matching based on probability of 0.05\n",
      "2022-12-03 21:21:08> Saving F:/AP_Paper_Benchmark/PXD015087_Thermo\\Hela_P035211_BA1_S00_A00_R4.ms_data.hdf - peptide_fdr.\n",
      "2022-12-03 21:21:09> Trying to match file F:/AP_Paper_Benchmark/PXD015087_Thermo\\Hela_P035211_BA1_S00_A00_R5.ms_data.hdf with database of 40,125 unidentified candidates\n",
      "2022-12-03 21:21:09> 22,956 possible features for matching based on distance of 3\n",
      "2022-12-03 21:21:27> 9,159 possible features for matching based on probability of 0.05\n",
      "2022-12-03 21:21:27> Saving F:/AP_Paper_Benchmark/PXD015087_Thermo\\Hela_P035211_BA1_S00_A00_R5.ms_data.hdf - peptide_fdr.\n"
     ]
    },
    {
     "name": "stdout",
     "output_type": "stream",
     "text": [
      "2022-12-03 21:21:28> Trying to match file F:/AP_Paper_Benchmark/PXD015087_Thermo\\Hela_P035211_BA1_S00_A00_R6.ms_data.hdf with database of 40,144 unidentified candidates\n",
      "2022-12-03 21:21:28> 23,223 possible features for matching based on distance of 3\n",
      "2022-12-03 21:21:47> 10,294 possible features for matching based on probability of 0.05\n",
      "2022-12-03 21:21:47> Saving F:/AP_Paper_Benchmark/PXD015087_Thermo\\Hela_P035211_BA1_S00_A00_R6.ms_data.hdf - peptide_fdr.\n",
      "2022-12-03 21:21:48> Trying to match file F:/AP_Paper_Benchmark/PXD015087_Thermo\\Hela_P035211_BA1_S00_A00_R7.ms_data.hdf with database of 40,393 unidentified candidates\n",
      "2022-12-03 21:21:48> 23,707 possible features for matching based on distance of 3\n",
      "2022-12-03 21:22:07> 10,331 possible features for matching based on probability of 0.05\n",
      "2022-12-03 21:22:07> Saving F:/AP_Paper_Benchmark/PXD015087_Thermo\\Hela_P035211_BA1_S00_A00_R7.ms_data.hdf - peptide_fdr.\n",
      "2022-12-03 21:22:07> Trying to match file F:/AP_Paper_Benchmark/PXD015087_Thermo\\Hela_P035211_BA1_S00_A00_R8.ms_data.hdf with database of 40,450 unidentified candidates\n",
      "2022-12-03 21:22:08> 22,289 possible features for matching based on distance of 3\n",
      "2022-12-03 21:22:26> 9,595 possible features for matching based on probability of 0.05\n",
      "2022-12-03 21:22:26> Saving F:/AP_Paper_Benchmark/PXD015087_Thermo\\Hela_P035211_BA1_S00_A00_R8.ms_data.hdf - peptide_fdr.\n",
      "2022-12-03 21:22:26> Trying to match file F:/AP_Paper_Benchmark/PXD015087_Thermo\\Hela_P035211_BA1_S00_A00_R9.ms_data.hdf with database of 40,394 unidentified candidates\n",
      "2022-12-03 21:22:27> 25,021 possible features for matching based on distance of 3\n",
      "2022-12-03 21:22:47> 11,921 possible features for matching based on probability of 0.05\n",
      "2022-12-03 21:22:47> Saving F:/AP_Paper_Benchmark/PXD015087_Thermo\\Hela_P035211_BA1_S00_A00_R9.ms_data.hdf - peptide_fdr.\n",
      "2022-12-03 21:22:47> Trying to match file F:/AP_Paper_Benchmark/PXD015087_Thermo\\Hela_P035213_BA1_S00_A00_R1.ms_data.hdf with database of 41,090 unidentified candidates\n",
      "2022-12-03 21:22:48> 25,541 possible features for matching based on distance of 3\n",
      "2022-12-03 21:23:08> 15,855 possible features for matching based on probability of 0.05\n",
      "2022-12-03 21:23:08> Saving F:/AP_Paper_Benchmark/PXD015087_Thermo\\Hela_P035213_BA1_S00_A00_R1.ms_data.hdf - peptide_fdr.\n",
      "2022-12-03 21:23:09> Trying to match file F:/AP_Paper_Benchmark/PXD015087_Thermo\\Hela_P035213_BA1_S00_A00_R10.ms_data.hdf with database of 40,853 unidentified candidates\n",
      "2022-12-03 21:23:09> 25,644 possible features for matching based on distance of 3\n",
      "2022-12-03 21:23:30> 15,655 possible features for matching based on probability of 0.05\n",
      "2022-12-03 21:23:30> Saving F:/AP_Paper_Benchmark/PXD015087_Thermo\\Hela_P035213_BA1_S00_A00_R10.ms_data.hdf - peptide_fdr.\n",
      "2022-12-03 21:23:31> Trying to match file F:/AP_Paper_Benchmark/PXD015087_Thermo\\Hela_P035213_BA1_S00_A00_R11.ms_data.hdf with database of 40,633 unidentified candidates\n",
      "2022-12-03 21:23:31> 25,476 possible features for matching based on distance of 3\n",
      "2022-12-03 21:23:51> 15,365 possible features for matching based on probability of 0.05\n",
      "2022-12-03 21:23:51> Saving F:/AP_Paper_Benchmark/PXD015087_Thermo\\Hela_P035213_BA1_S00_A00_R11.ms_data.hdf - peptide_fdr.\n",
      "2022-12-03 21:23:52> Trying to match file F:/AP_Paper_Benchmark/PXD015087_Thermo\\Hela_P035213_BA1_S00_A00_R12.ms_data.hdf with database of 40,865 unidentified candidates\n",
      "2022-12-03 21:23:52> 25,433 possible features for matching based on distance of 3\n",
      "2022-12-03 21:24:13> 14,326 possible features for matching based on probability of 0.05\n",
      "2022-12-03 21:24:13> Saving F:/AP_Paper_Benchmark/PXD015087_Thermo\\Hela_P035213_BA1_S00_A00_R12.ms_data.hdf - peptide_fdr.\n",
      "2022-12-03 21:24:13> Trying to match file F:/AP_Paper_Benchmark/PXD015087_Thermo\\Hela_P035213_BA1_S00_A00_R13.ms_data.hdf with database of 40,981 unidentified candidates\n",
      "2022-12-03 21:24:14> 26,031 possible features for matching based on distance of 3\n",
      "2022-12-03 21:24:35> 17,021 possible features for matching based on probability of 0.05\n",
      "2022-12-03 21:24:35> Saving F:/AP_Paper_Benchmark/PXD015087_Thermo\\Hela_P035213_BA1_S00_A00_R13.ms_data.hdf - peptide_fdr.\n",
      "2022-12-03 21:24:35> Trying to match file F:/AP_Paper_Benchmark/PXD015087_Thermo\\Hela_P035213_BA1_S00_A00_R14.ms_data.hdf with database of 41,076 unidentified candidates\n",
      "2022-12-03 21:24:36> 26,209 possible features for matching based on distance of 3\n",
      "2022-12-03 21:24:57> 16,745 possible features for matching based on probability of 0.05\n",
      "2022-12-03 21:24:57> Saving F:/AP_Paper_Benchmark/PXD015087_Thermo\\Hela_P035213_BA1_S00_A00_R14.ms_data.hdf - peptide_fdr.\n",
      "2022-12-03 21:24:57> Trying to match file F:/AP_Paper_Benchmark/PXD015087_Thermo\\Hela_P035213_BA1_S00_A00_R15.ms_data.hdf with database of 41,064 unidentified candidates\n",
      "2022-12-03 21:24:58> 26,151 possible features for matching based on distance of 3\n",
      "2022-12-03 21:25:19> 16,100 possible features for matching based on probability of 0.05\n",
      "2022-12-03 21:25:19> Saving F:/AP_Paper_Benchmark/PXD015087_Thermo\\Hela_P035213_BA1_S00_A00_R15.ms_data.hdf - peptide_fdr.\n",
      "2022-12-03 21:25:19> Trying to match file F:/AP_Paper_Benchmark/PXD015087_Thermo\\Hela_P035213_BA1_S00_A00_R16.ms_data.hdf with database of 40,506 unidentified candidates\n",
      "2022-12-03 21:25:20> 25,664 possible features for matching based on distance of 3\n",
      "2022-12-03 21:25:40> 17,114 possible features for matching based on probability of 0.05\n",
      "2022-12-03 21:25:41> Saving F:/AP_Paper_Benchmark/PXD015087_Thermo\\Hela_P035213_BA1_S00_A00_R16.ms_data.hdf - peptide_fdr.\n",
      "2022-12-03 21:25:41> Trying to match file F:/AP_Paper_Benchmark/PXD015087_Thermo\\Hela_P035213_BA1_S00_A00_R17.ms_data.hdf with database of 41,142 unidentified candidates\n",
      "2022-12-03 21:25:42> 26,203 possible features for matching based on distance of 3\n",
      "2022-12-03 21:26:03> 16,656 possible features for matching based on probability of 0.05\n",
      "2022-12-03 21:26:03> Saving F:/AP_Paper_Benchmark/PXD015087_Thermo\\Hela_P035213_BA1_S00_A00_R17.ms_data.hdf - peptide_fdr.\n",
      "2022-12-03 21:26:03> Trying to match file F:/AP_Paper_Benchmark/PXD015087_Thermo\\Hela_P035213_BA1_S00_A00_R18.ms_data.hdf with database of 40,885 unidentified candidates\n",
      "2022-12-03 21:26:04> 25,631 possible features for matching based on distance of 3\n",
      "2022-12-03 21:26:24> 14,818 possible features for matching based on probability of 0.05\n",
      "2022-12-03 21:26:24> Saving F:/AP_Paper_Benchmark/PXD015087_Thermo\\Hela_P035213_BA1_S00_A00_R18.ms_data.hdf - peptide_fdr.\n",
      "2022-12-03 21:26:25> Trying to match file F:/AP_Paper_Benchmark/PXD015087_Thermo\\Hela_P035213_BA1_S00_A00_R19.ms_data.hdf with database of 41,061 unidentified candidates\n",
      "2022-12-03 21:26:26> 26,271 possible features for matching based on distance of 3\n",
      "2022-12-03 21:26:47> 16,917 possible features for matching based on probability of 0.05\n",
      "2022-12-03 21:26:47> Saving F:/AP_Paper_Benchmark/PXD015087_Thermo\\Hela_P035213_BA1_S00_A00_R19.ms_data.hdf - peptide_fdr.\n",
      "2022-12-03 21:26:48> Trying to match file F:/AP_Paper_Benchmark/PXD015087_Thermo\\Hela_P035213_BA1_S00_A00_R2.ms_data.hdf with database of 40,691 unidentified candidates\n",
      "2022-12-03 21:26:48> 25,580 possible features for matching based on distance of 3\n",
      "2022-12-03 21:27:08> 13,980 possible features for matching based on probability of 0.05\n",
      "2022-12-03 21:27:08> Saving F:/AP_Paper_Benchmark/PXD015087_Thermo\\Hela_P035213_BA1_S00_A00_R2.ms_data.hdf - peptide_fdr.\n",
      "2022-12-03 21:27:09> Trying to match file F:/AP_Paper_Benchmark/PXD015087_Thermo\\Hela_P035213_BA1_S00_A00_R20.ms_data.hdf with database of 41,399 unidentified candidates\n",
      "2022-12-03 21:27:09> 26,600 possible features for matching based on distance of 3\n",
      "2022-12-03 21:27:31> 16,184 possible features for matching based on probability of 0.05\n",
      "2022-12-03 21:27:31> Saving F:/AP_Paper_Benchmark/PXD015087_Thermo\\Hela_P035213_BA1_S00_A00_R20.ms_data.hdf - peptide_fdr.\n",
      "2022-12-03 21:27:31> Trying to match file F:/AP_Paper_Benchmark/PXD015087_Thermo\\Hela_P035213_BA1_S00_A00_R3.ms_data.hdf with database of 40,261 unidentified candidates\n",
      "2022-12-03 21:27:32> 25,557 possible features for matching based on distance of 3\n",
      "2022-12-03 21:27:52> 17,123 possible features for matching based on probability of 0.05\n"
     ]
    },
    {
     "name": "stdout",
     "output_type": "stream",
     "text": [
      "2022-12-03 21:27:52> Saving F:/AP_Paper_Benchmark/PXD015087_Thermo\\Hela_P035213_BA1_S00_A00_R3.ms_data.hdf - peptide_fdr.\n",
      "2022-12-03 21:27:53> Trying to match file F:/AP_Paper_Benchmark/PXD015087_Thermo\\Hela_P035213_BA1_S00_A00_R4.ms_data.hdf with database of 40,439 unidentified candidates\n",
      "2022-12-03 21:27:53> 25,361 possible features for matching based on distance of 3\n",
      "2022-12-03 21:28:14> 16,197 possible features for matching based on probability of 0.05\n",
      "2022-12-03 21:28:15> Saving F:/AP_Paper_Benchmark/PXD015087_Thermo\\Hela_P035213_BA1_S00_A00_R4.ms_data.hdf - peptide_fdr.\n",
      "2022-12-03 21:28:15> Trying to match file F:/AP_Paper_Benchmark/PXD015087_Thermo\\Hela_P035213_BA1_S00_A00_R5.ms_data.hdf with database of 40,562 unidentified candidates\n",
      "2022-12-03 21:28:15> 25,185 possible features for matching based on distance of 3\n",
      "2022-12-03 21:28:36> 13,780 possible features for matching based on probability of 0.05\n",
      "2022-12-03 21:28:36> Saving F:/AP_Paper_Benchmark/PXD015087_Thermo\\Hela_P035213_BA1_S00_A00_R5.ms_data.hdf - peptide_fdr.\n",
      "2022-12-03 21:28:36> Trying to match file F:/AP_Paper_Benchmark/PXD015087_Thermo\\Hela_P035213_BA1_S00_A00_R6.ms_data.hdf with database of 40,445 unidentified candidates\n",
      "2022-12-03 21:28:37> 25,058 possible features for matching based on distance of 3\n",
      "2022-12-03 21:28:57> 14,016 possible features for matching based on probability of 0.05\n",
      "2022-12-03 21:28:57> Saving F:/AP_Paper_Benchmark/PXD015087_Thermo\\Hela_P035213_BA1_S00_A00_R6.ms_data.hdf - peptide_fdr.\n",
      "2022-12-03 21:28:57> Trying to match file F:/AP_Paper_Benchmark/PXD015087_Thermo\\Hela_P035213_BA1_S00_A00_R7.ms_data.hdf with database of 40,848 unidentified candidates\n",
      "2022-12-03 21:28:58> 25,376 possible features for matching based on distance of 3\n",
      "2022-12-03 21:29:18> 14,051 possible features for matching based on probability of 0.05\n",
      "2022-12-03 21:29:18> Saving F:/AP_Paper_Benchmark/PXD015087_Thermo\\Hela_P035213_BA1_S00_A00_R7.ms_data.hdf - peptide_fdr.\n",
      "2022-12-03 21:29:19> Trying to match file F:/AP_Paper_Benchmark/PXD015087_Thermo\\Hela_P035213_BA1_S00_A00_R8.ms_data.hdf with database of 40,512 unidentified candidates\n",
      "2022-12-03 21:29:19> 25,383 possible features for matching based on distance of 3\n",
      "2022-12-03 21:29:39> 16,274 possible features for matching based on probability of 0.05\n",
      "2022-12-03 21:29:39> Saving F:/AP_Paper_Benchmark/PXD015087_Thermo\\Hela_P035213_BA1_S00_A00_R8.ms_data.hdf - peptide_fdr.\n",
      "2022-12-03 21:29:40> Trying to match file F:/AP_Paper_Benchmark/PXD015087_Thermo\\Hela_P035213_BA1_S00_A00_R9.ms_data.hdf with database of 40,519 unidentified candidates\n",
      "2022-12-03 21:29:40> 24,816 possible features for matching based on distance of 3\n",
      "2022-12-03 21:30:01> 16,763 possible features for matching based on probability of 0.05\n",
      "2022-12-03 21:30:01> Saving F:/AP_Paper_Benchmark/PXD015087_Thermo\\Hela_P035213_BA1_S00_A00_R9.ms_data.hdf - peptide_fdr.\n",
      "2022-12-03 21:30:01> Trying to match file F:/AP_Paper_Benchmark/PXD015087_Thermo\\Hela_P035214_BA1_S00_A00_R1.ms_data.hdf with database of 40,212 unidentified candidates\n",
      "2022-12-03 21:30:02> 24,159 possible features for matching based on distance of 3\n",
      "2022-12-03 21:30:21> 17,377 possible features for matching based on probability of 0.05\n",
      "2022-12-03 21:30:21> Saving F:/AP_Paper_Benchmark/PXD015087_Thermo\\Hela_P035214_BA1_S00_A00_R1.ms_data.hdf - peptide_fdr.\n",
      "2022-12-03 21:30:22> Trying to match file F:/AP_Paper_Benchmark/PXD015087_Thermo\\Hela_P035214_BA1_S00_A00_R10.ms_data.hdf with database of 40,482 unidentified candidates\n",
      "2022-12-03 21:30:22> 23,653 possible features for matching based on distance of 3\n",
      "2022-12-03 21:30:42> 15,724 possible features for matching based on probability of 0.05\n",
      "2022-12-03 21:30:42> Saving F:/AP_Paper_Benchmark/PXD015087_Thermo\\Hela_P035214_BA1_S00_A00_R10.ms_data.hdf - peptide_fdr.\n",
      "2022-12-03 21:30:42> Trying to match file F:/AP_Paper_Benchmark/PXD015087_Thermo\\Hela_P035214_BA1_S00_A00_R11.ms_data.hdf with database of 43,523 unidentified candidates\n",
      "2022-12-03 21:30:43> 18,381 possible features for matching based on distance of 3\n",
      "2022-12-03 21:30:57> 10,161 possible features for matching based on probability of 0.05\n",
      "2022-12-03 21:30:57> Saving F:/AP_Paper_Benchmark/PXD015087_Thermo\\Hela_P035214_BA1_S00_A00_R11.ms_data.hdf - peptide_fdr.\n",
      "2022-12-03 21:30:58> Trying to match file F:/AP_Paper_Benchmark/PXD015087_Thermo\\Hela_P035214_BA1_S00_A00_R12.ms_data.hdf with database of 40,511 unidentified candidates\n",
      "2022-12-03 21:30:58> 24,667 possible features for matching based on distance of 3\n",
      "2022-12-03 21:31:18> 17,875 possible features for matching based on probability of 0.05\n",
      "2022-12-03 21:31:18> Saving F:/AP_Paper_Benchmark/PXD015087_Thermo\\Hela_P035214_BA1_S00_A00_R12.ms_data.hdf - peptide_fdr.\n",
      "2022-12-03 21:31:19> Trying to match file F:/AP_Paper_Benchmark/PXD015087_Thermo\\Hela_P035214_BA1_S00_A00_R13.ms_data.hdf with database of 40,351 unidentified candidates\n",
      "2022-12-03 21:31:19> 24,916 possible features for matching based on distance of 3\n",
      "2022-12-03 21:31:39> 17,581 possible features for matching based on probability of 0.05\n",
      "2022-12-03 21:31:39> Saving F:/AP_Paper_Benchmark/PXD015087_Thermo\\Hela_P035214_BA1_S00_A00_R13.ms_data.hdf - peptide_fdr.\n",
      "2022-12-03 21:31:40> Trying to match file F:/AP_Paper_Benchmark/PXD015087_Thermo\\Hela_P035214_BA1_S00_A00_R14.ms_data.hdf with database of 40,629 unidentified candidates\n",
      "2022-12-03 21:31:40> 24,820 possible features for matching based on distance of 3\n",
      "2022-12-03 21:32:00> 17,547 possible features for matching based on probability of 0.05\n",
      "2022-12-03 21:32:00> Saving F:/AP_Paper_Benchmark/PXD015087_Thermo\\Hela_P035214_BA1_S00_A00_R14.ms_data.hdf - peptide_fdr.\n",
      "2022-12-03 21:32:01> Trying to match file F:/AP_Paper_Benchmark/PXD015087_Thermo\\Hela_P035214_BA1_S00_A00_R15.ms_data.hdf with database of 40,428 unidentified candidates\n",
      "2022-12-03 21:32:01> 24,244 possible features for matching based on distance of 3\n",
      "2022-12-03 21:32:21> 17,112 possible features for matching based on probability of 0.05\n",
      "2022-12-03 21:32:21> Saving F:/AP_Paper_Benchmark/PXD015087_Thermo\\Hela_P035214_BA1_S00_A00_R15.ms_data.hdf - peptide_fdr.\n",
      "2022-12-03 21:32:22> Trying to match file F:/AP_Paper_Benchmark/PXD015087_Thermo\\Hela_P035214_BA1_S00_A00_R16.ms_data.hdf with database of 41,140 unidentified candidates\n",
      "2022-12-03 21:32:22> 25,937 possible features for matching based on distance of 3\n",
      "2022-12-03 21:32:43> 18,603 possible features for matching based on probability of 0.05\n",
      "2022-12-03 21:32:43> Saving F:/AP_Paper_Benchmark/PXD015087_Thermo\\Hela_P035214_BA1_S00_A00_R16.ms_data.hdf - peptide_fdr.\n",
      "2022-12-03 21:32:44> Trying to match file F:/AP_Paper_Benchmark/PXD015087_Thermo\\Hela_P035214_BA1_S00_A00_R17.ms_data.hdf with database of 40,872 unidentified candidates\n",
      "2022-12-03 21:32:44> 25,155 possible features for matching based on distance of 3\n",
      "2022-12-03 21:33:05> 18,209 possible features for matching based on probability of 0.05\n",
      "2022-12-03 21:33:05> Saving F:/AP_Paper_Benchmark/PXD015087_Thermo\\Hela_P035214_BA1_S00_A00_R17.ms_data.hdf - peptide_fdr.\n",
      "2022-12-03 21:33:05> Trying to match file F:/AP_Paper_Benchmark/PXD015087_Thermo\\Hela_P035214_BA1_S00_A00_R18.ms_data.hdf with database of 40,917 unidentified candidates\n",
      "2022-12-03 21:33:06> 25,928 possible features for matching based on distance of 3\n",
      "2022-12-03 21:33:26> 18,614 possible features for matching based on probability of 0.05\n",
      "2022-12-03 21:33:27> Saving F:/AP_Paper_Benchmark/PXD015087_Thermo\\Hela_P035214_BA1_S00_A00_R18.ms_data.hdf - peptide_fdr.\n",
      "2022-12-03 21:33:27> Trying to match file F:/AP_Paper_Benchmark/PXD015087_Thermo\\Hela_P035214_BA1_S00_A00_R19.ms_data.hdf with database of 40,895 unidentified candidates\n",
      "2022-12-03 21:33:27> 25,608 possible features for matching based on distance of 3\n",
      "2022-12-03 21:33:48> 18,526 possible features for matching based on probability of 0.05\n",
      "2022-12-03 21:33:48> Saving F:/AP_Paper_Benchmark/PXD015087_Thermo\\Hela_P035214_BA1_S00_A00_R19.ms_data.hdf - peptide_fdr.\n",
      "2022-12-03 21:33:49> Trying to match file F:/AP_Paper_Benchmark/PXD015087_Thermo\\Hela_P035214_BA1_S00_A00_R2.ms_data.hdf with database of 40,407 unidentified candidates\n",
      "2022-12-03 21:33:49> 24,719 possible features for matching based on distance of 3\n"
     ]
    },
    {
     "name": "stdout",
     "output_type": "stream",
     "text": [
      "2022-12-03 21:34:09> 17,750 possible features for matching based on probability of 0.05\n",
      "2022-12-03 21:34:09> Saving F:/AP_Paper_Benchmark/PXD015087_Thermo\\Hela_P035214_BA1_S00_A00_R2.ms_data.hdf - peptide_fdr.\n",
      "2022-12-03 21:34:10> Trying to match file F:/AP_Paper_Benchmark/PXD015087_Thermo\\Hela_P035214_BA1_S00_A00_R20.ms_data.hdf with database of 41,157 unidentified candidates\n",
      "2022-12-03 21:34:10> 25,809 possible features for matching based on distance of 3\n",
      "2022-12-03 21:34:31> 18,603 possible features for matching based on probability of 0.05\n",
      "2022-12-03 21:34:31> Saving F:/AP_Paper_Benchmark/PXD015087_Thermo\\Hela_P035214_BA1_S00_A00_R20.ms_data.hdf - peptide_fdr.\n",
      "2022-12-03 21:34:32> Trying to match file F:/AP_Paper_Benchmark/PXD015087_Thermo\\Hela_P035214_BA1_S00_A00_R3.ms_data.hdf with database of 40,275 unidentified candidates\n",
      "2022-12-03 21:34:32> 24,755 possible features for matching based on distance of 3\n",
      "2022-12-03 21:34:52> 17,667 possible features for matching based on probability of 0.05\n",
      "2022-12-03 21:34:53> Saving F:/AP_Paper_Benchmark/PXD015087_Thermo\\Hela_P035214_BA1_S00_A00_R3.ms_data.hdf - peptide_fdr.\n",
      "2022-12-03 21:34:53> Trying to match file F:/AP_Paper_Benchmark/PXD015087_Thermo\\Hela_P035214_BA1_S00_A00_R4.ms_data.hdf with database of 40,317 unidentified candidates\n",
      "2022-12-03 21:34:54> 24,984 possible features for matching based on distance of 3\n",
      "2022-12-03 21:35:14> 17,865 possible features for matching based on probability of 0.05\n",
      "2022-12-03 21:35:14> Saving F:/AP_Paper_Benchmark/PXD015087_Thermo\\Hela_P035214_BA1_S00_A00_R4.ms_data.hdf - peptide_fdr.\n",
      "2022-12-03 21:35:14> Trying to match file F:/AP_Paper_Benchmark/PXD015087_Thermo\\Hela_P035214_BA1_S00_A00_R5.ms_data.hdf with database of 40,015 unidentified candidates\n",
      "2022-12-03 21:35:15> 24,740 possible features for matching based on distance of 3\n",
      "2022-12-03 21:35:35> 17,116 possible features for matching based on probability of 0.05\n",
      "2022-12-03 21:35:35> Saving F:/AP_Paper_Benchmark/PXD015087_Thermo\\Hela_P035214_BA1_S00_A00_R5.ms_data.hdf - peptide_fdr.\n",
      "2022-12-03 21:35:35> Trying to match file F:/AP_Paper_Benchmark/PXD015087_Thermo\\Hela_P035214_BA1_S00_A00_R6.ms_data.hdf with database of 40,355 unidentified candidates\n",
      "2022-12-03 21:35:36> 25,464 possible features for matching based on distance of 3\n",
      "2022-12-03 21:35:56> 17,909 possible features for matching based on probability of 0.05\n",
      "2022-12-03 21:35:56> Saving F:/AP_Paper_Benchmark/PXD015087_Thermo\\Hela_P035214_BA1_S00_A00_R6.ms_data.hdf - peptide_fdr.\n",
      "2022-12-03 21:35:57> Trying to match file F:/AP_Paper_Benchmark/PXD015087_Thermo\\Hela_P035214_BA1_S00_A00_R7.ms_data.hdf with database of 39,969 unidentified candidates\n",
      "2022-12-03 21:35:57> 24,874 possible features for matching based on distance of 3\n",
      "2022-12-03 21:36:17> 17,872 possible features for matching based on probability of 0.05\n",
      "2022-12-03 21:36:17> Saving F:/AP_Paper_Benchmark/PXD015087_Thermo\\Hela_P035214_BA1_S00_A00_R7.ms_data.hdf - peptide_fdr.\n",
      "2022-12-03 21:36:18> Trying to match file F:/AP_Paper_Benchmark/PXD015087_Thermo\\Hela_P035214_BA1_S00_A00_R8.ms_data.hdf with database of 40,350 unidentified candidates\n",
      "2022-12-03 21:36:18> 25,358 possible features for matching based on distance of 3\n",
      "2022-12-03 21:36:39> 18,288 possible features for matching based on probability of 0.05\n",
      "2022-12-03 21:36:39> Saving F:/AP_Paper_Benchmark/PXD015087_Thermo\\Hela_P035214_BA1_S00_A00_R8.ms_data.hdf - peptide_fdr.\n",
      "2022-12-03 21:36:39> Trying to match file F:/AP_Paper_Benchmark/PXD015087_Thermo\\Hela_P035214_BA1_S00_A00_R9.ms_data.hdf with database of 40,206 unidentified candidates\n",
      "2022-12-03 21:36:40> 26,192 possible features for matching based on distance of 3\n",
      "2022-12-03 21:37:01> 18,686 possible features for matching based on probability of 0.05\n",
      "2022-12-03 21:37:01> Saving F:/AP_Paper_Benchmark/PXD015087_Thermo\\Hela_P035214_BA1_S00_A00_R9.ms_data.hdf - peptide_fdr.\n",
      "2022-12-03 21:37:02> Trying to match file F:/AP_Paper_Benchmark/PXD015087_Thermo\\Hela_P035215_BA1_S00_A00_R1.ms_data.hdf with database of 44,588 unidentified candidates\n",
      "2022-12-03 21:37:02> 30,332 possible features for matching based on distance of 3\n",
      "2022-12-03 21:37:27> 21,543 possible features for matching based on probability of 0.05\n",
      "2022-12-03 21:37:27> Saving F:/AP_Paper_Benchmark/PXD015087_Thermo\\Hela_P035215_BA1_S00_A00_R1.ms_data.hdf - peptide_fdr.\n",
      "2022-12-03 21:37:28> Trying to match file F:/AP_Paper_Benchmark/PXD015087_Thermo\\Hela_P035215_BA1_S00_A00_R10.ms_data.hdf with database of 44,998 unidentified candidates\n",
      "2022-12-03 21:37:28> 30,665 possible features for matching based on distance of 3\n",
      "2022-12-03 21:37:54> 22,060 possible features for matching based on probability of 0.05\n",
      "2022-12-03 21:37:54> Saving F:/AP_Paper_Benchmark/PXD015087_Thermo\\Hela_P035215_BA1_S00_A00_R10.ms_data.hdf - peptide_fdr.\n",
      "2022-12-03 21:37:54> Trying to match file F:/AP_Paper_Benchmark/PXD015087_Thermo\\Hela_P035215_BA1_S00_A00_R11.ms_data.hdf with database of 45,598 unidentified candidates\n",
      "2022-12-03 21:37:55> 31,090 possible features for matching based on distance of 3\n",
      "2022-12-03 21:38:20> 22,331 possible features for matching based on probability of 0.05\n",
      "2022-12-03 21:38:20> Saving F:/AP_Paper_Benchmark/PXD015087_Thermo\\Hela_P035215_BA1_S00_A00_R11.ms_data.hdf - peptide_fdr.\n",
      "2022-12-03 21:38:21> Trying to match file F:/AP_Paper_Benchmark/PXD015087_Thermo\\Hela_P035215_BA1_S00_A00_R12.ms_data.hdf with database of 45,214 unidentified candidates\n",
      "2022-12-03 21:38:21> 31,189 possible features for matching based on distance of 3\n",
      "2022-12-03 21:38:47> 23,006 possible features for matching based on probability of 0.05\n",
      "2022-12-03 21:38:47> Saving F:/AP_Paper_Benchmark/PXD015087_Thermo\\Hela_P035215_BA1_S00_A00_R12.ms_data.hdf - peptide_fdr.\n",
      "2022-12-03 21:38:48> Trying to match file F:/AP_Paper_Benchmark/PXD015087_Thermo\\Hela_P035215_BA1_S00_A00_R13.ms_data.hdf with database of 45,287 unidentified candidates\n",
      "2022-12-03 21:38:48> 31,245 possible features for matching based on distance of 3\n",
      "2022-12-03 21:39:14> 23,166 possible features for matching based on probability of 0.05\n",
      "2022-12-03 21:39:14> Saving F:/AP_Paper_Benchmark/PXD015087_Thermo\\Hela_P035215_BA1_S00_A00_R13.ms_data.hdf - peptide_fdr.\n",
      "2022-12-03 21:39:15> Trying to match file F:/AP_Paper_Benchmark/PXD015087_Thermo\\Hela_P035215_BA1_S00_A00_R14.ms_data.hdf with database of 45,408 unidentified candidates\n",
      "2022-12-03 21:39:15> 31,385 possible features for matching based on distance of 3\n",
      "2022-12-03 21:39:41> 23,492 possible features for matching based on probability of 0.05\n",
      "2022-12-03 21:39:41> Saving F:/AP_Paper_Benchmark/PXD015087_Thermo\\Hela_P035215_BA1_S00_A00_R14.ms_data.hdf - peptide_fdr.\n",
      "2022-12-03 21:39:42> Trying to match file F:/AP_Paper_Benchmark/PXD015087_Thermo\\Hela_P035215_BA1_S00_A00_R15.ms_data.hdf with database of 45,455 unidentified candidates\n",
      "2022-12-03 21:39:42> 31,147 possible features for matching based on distance of 3\n",
      "2022-12-03 21:40:08> 22,658 possible features for matching based on probability of 0.05\n",
      "2022-12-03 21:40:08> Saving F:/AP_Paper_Benchmark/PXD015087_Thermo\\Hela_P035215_BA1_S00_A00_R15.ms_data.hdf - peptide_fdr.\n",
      "2022-12-03 21:40:09> Trying to match file F:/AP_Paper_Benchmark/PXD015087_Thermo\\Hela_P035215_BA1_S00_A00_R16.ms_data.hdf with database of 45,396 unidentified candidates\n",
      "2022-12-03 21:40:09> 31,500 possible features for matching based on distance of 3\n",
      "2022-12-03 21:40:35> 23,542 possible features for matching based on probability of 0.05\n",
      "2022-12-03 21:40:36> Saving F:/AP_Paper_Benchmark/PXD015087_Thermo\\Hela_P035215_BA1_S00_A00_R16.ms_data.hdf - peptide_fdr.\n",
      "2022-12-03 21:40:36> Trying to match file F:/AP_Paper_Benchmark/PXD015087_Thermo\\Hela_P035215_BA1_S00_A00_R17.ms_data.hdf with database of 45,437 unidentified candidates\n",
      "2022-12-03 21:40:37> 31,443 possible features for matching based on distance of 3\n",
      "2022-12-03 21:41:03> 23,213 possible features for matching based on probability of 0.05\n",
      "2022-12-03 21:41:03> Saving F:/AP_Paper_Benchmark/PXD015087_Thermo\\Hela_P035215_BA1_S00_A00_R17.ms_data.hdf - peptide_fdr.\n",
      "2022-12-03 21:41:03> Trying to match file F:/AP_Paper_Benchmark/PXD015087_Thermo\\Hela_P035215_BA1_S00_A00_R18.ms_data.hdf with database of 45,670 unidentified candidates\n"
     ]
    },
    {
     "name": "stdout",
     "output_type": "stream",
     "text": [
      "2022-12-03 21:41:04> 31,781 possible features for matching based on distance of 3\n",
      "2022-12-03 21:41:30> 23,771 possible features for matching based on probability of 0.05\n",
      "2022-12-03 21:41:30> Saving F:/AP_Paper_Benchmark/PXD015087_Thermo\\Hela_P035215_BA1_S00_A00_R18.ms_data.hdf - peptide_fdr.\n",
      "2022-12-03 21:41:31> Trying to match file F:/AP_Paper_Benchmark/PXD015087_Thermo\\Hela_P035215_BA1_S00_A00_R19.ms_data.hdf with database of 45,808 unidentified candidates\n",
      "2022-12-03 21:41:31> 31,886 possible features for matching based on distance of 3\n",
      "2022-12-03 21:41:58> 23,932 possible features for matching based on probability of 0.05\n",
      "2022-12-03 21:41:58> Saving F:/AP_Paper_Benchmark/PXD015087_Thermo\\Hela_P035215_BA1_S00_A00_R19.ms_data.hdf - peptide_fdr.\n",
      "2022-12-03 21:41:58> Trying to match file F:/AP_Paper_Benchmark/PXD015087_Thermo\\Hela_P035215_BA1_S00_A00_R2.ms_data.hdf with database of 45,301 unidentified candidates\n",
      "2022-12-03 21:41:59> 31,397 possible features for matching based on distance of 3\n",
      "2022-12-03 21:42:24> 23,346 possible features for matching based on probability of 0.05\n",
      "2022-12-03 21:42:25> Saving F:/AP_Paper_Benchmark/PXD015087_Thermo\\Hela_P035215_BA1_S00_A00_R2.ms_data.hdf - peptide_fdr.\n",
      "2022-12-03 21:42:25> Trying to match file F:/AP_Paper_Benchmark/PXD015087_Thermo\\Hela_P035215_BA1_S00_A00_R20.ms_data.hdf with database of 45,922 unidentified candidates\n",
      "2022-12-03 21:42:25> 31,708 possible features for matching based on distance of 3\n",
      "2022-12-03 21:42:51> 21,605 possible features for matching based on probability of 0.05\n",
      "2022-12-03 21:42:52> Saving F:/AP_Paper_Benchmark/PXD015087_Thermo\\Hela_P035215_BA1_S00_A00_R20.ms_data.hdf - peptide_fdr.\n",
      "2022-12-03 21:42:52> Trying to match file F:/AP_Paper_Benchmark/PXD015087_Thermo\\Hela_P035215_BA1_S00_A00_R3.ms_data.hdf with database of 45,059 unidentified candidates\n",
      "2022-12-03 21:42:53> 30,660 possible features for matching based on distance of 3\n",
      "2022-12-03 21:43:18> 20,850 possible features for matching based on probability of 0.05\n",
      "2022-12-03 21:43:18> Saving F:/AP_Paper_Benchmark/PXD015087_Thermo\\Hela_P035215_BA1_S00_A00_R3.ms_data.hdf - peptide_fdr.\n",
      "2022-12-03 21:43:19> Trying to match file F:/AP_Paper_Benchmark/PXD015087_Thermo\\Hela_P035215_BA1_S00_A00_R4.ms_data.hdf with database of 45,039 unidentified candidates\n",
      "2022-12-03 21:43:19> 29,962 possible features for matching based on distance of 3\n",
      "2022-12-03 21:43:44> 17,465 possible features for matching based on probability of 0.05\n",
      "2022-12-03 21:43:44> Saving F:/AP_Paper_Benchmark/PXD015087_Thermo\\Hela_P035215_BA1_S00_A00_R4.ms_data.hdf - peptide_fdr.\n",
      "2022-12-03 21:43:44> Trying to match file F:/AP_Paper_Benchmark/PXD015087_Thermo\\Hela_P035215_BA1_S00_A00_R5.ms_data.hdf with database of 45,298 unidentified candidates\n",
      "2022-12-03 21:43:45> 30,789 possible features for matching based on distance of 3\n",
      "2022-12-03 21:44:10> 20,234 possible features for matching based on probability of 0.05\n",
      "2022-12-03 21:44:10> Saving F:/AP_Paper_Benchmark/PXD015087_Thermo\\Hela_P035215_BA1_S00_A00_R5.ms_data.hdf - peptide_fdr.\n",
      "2022-12-03 21:44:10> Trying to match file F:/AP_Paper_Benchmark/PXD015087_Thermo\\Hela_P035215_BA1_S00_A00_R6.ms_data.hdf with database of 45,054 unidentified candidates\n",
      "2022-12-03 21:44:11> 30,386 possible features for matching based on distance of 3\n",
      "2022-12-03 21:44:36> 19,471 possible features for matching based on probability of 0.05\n",
      "2022-12-03 21:44:36> Saving F:/AP_Paper_Benchmark/PXD015087_Thermo\\Hela_P035215_BA1_S00_A00_R6.ms_data.hdf - peptide_fdr.\n",
      "2022-12-03 21:44:37> Trying to match file F:/AP_Paper_Benchmark/PXD015087_Thermo\\Hela_P035215_BA1_S00_A00_R7.ms_data.hdf with database of 45,018 unidentified candidates\n",
      "2022-12-03 21:44:37> 30,462 possible features for matching based on distance of 3\n",
      "2022-12-03 21:45:02> 19,771 possible features for matching based on probability of 0.05\n",
      "2022-12-03 21:45:02> Saving F:/AP_Paper_Benchmark/PXD015087_Thermo\\Hela_P035215_BA1_S00_A00_R7.ms_data.hdf - peptide_fdr.\n",
      "2022-12-03 21:45:03> Trying to match file F:/AP_Paper_Benchmark/PXD015087_Thermo\\Hela_P035215_BA1_S00_A00_R8.ms_data.hdf with database of 44,998 unidentified candidates\n",
      "2022-12-03 21:45:03> 30,750 possible features for matching based on distance of 3\n",
      "2022-12-03 21:45:28> 22,233 possible features for matching based on probability of 0.05\n",
      "2022-12-03 21:45:28> Saving F:/AP_Paper_Benchmark/PXD015087_Thermo\\Hela_P035215_BA1_S00_A00_R8.ms_data.hdf - peptide_fdr.\n",
      "2022-12-03 21:45:29> Trying to match file F:/AP_Paper_Benchmark/PXD015087_Thermo\\Hela_P035215_BA1_S00_A00_R9.ms_data.hdf with database of 45,222 unidentified candidates\n",
      "2022-12-03 21:45:29> 31,205 possible features for matching based on distance of 3\n",
      "2022-12-03 21:45:55> 12,523 possible features for matching based on probability of 0.05\n",
      "2022-12-03 21:45:55> Saving F:/AP_Paper_Benchmark/PXD015087_Thermo\\Hela_P035215_BA1_S00_A00_R9.ms_data.hdf - peptide_fdr.\n",
      "2022-12-03 21:45:56> Trying to match file F:/AP_Paper_Benchmark/PXD015087_Thermo\\Hela_P035216_BA1_S00_A00_R1.ms_data.hdf with database of 42,198 unidentified candidates\n",
      "2022-12-03 21:45:56> 28,066 possible features for matching based on distance of 3\n",
      "2022-12-03 21:46:19> 19,477 possible features for matching based on probability of 0.05\n",
      "2022-12-03 21:46:19> Saving F:/AP_Paper_Benchmark/PXD015087_Thermo\\Hela_P035216_BA1_S00_A00_R1.ms_data.hdf - peptide_fdr.\n",
      "2022-12-03 21:46:20> Trying to match file F:/AP_Paper_Benchmark/PXD015087_Thermo\\Hela_P035216_BA1_S00_A00_R10.ms_data.hdf with database of 42,280 unidentified candidates\n",
      "2022-12-03 21:46:20> 28,074 possible features for matching based on distance of 3\n",
      "2022-12-03 21:46:43> 20,082 possible features for matching based on probability of 0.05\n",
      "2022-12-03 21:46:43> Saving F:/AP_Paper_Benchmark/PXD015087_Thermo\\Hela_P035216_BA1_S00_A00_R10.ms_data.hdf - peptide_fdr.\n",
      "2022-12-03 21:46:44> Trying to match file F:/AP_Paper_Benchmark/PXD015087_Thermo\\Hela_P035216_BA1_S00_A00_R11.ms_data.hdf with database of 42,786 unidentified candidates\n",
      "2022-12-03 21:46:44> 28,536 possible features for matching based on distance of 3\n",
      "2022-12-03 21:47:08> 20,620 possible features for matching based on probability of 0.05\n",
      "2022-12-03 21:47:08> Saving F:/AP_Paper_Benchmark/PXD015087_Thermo\\Hela_P035216_BA1_S00_A00_R11.ms_data.hdf - peptide_fdr.\n",
      "2022-12-03 21:47:09> Trying to match file F:/AP_Paper_Benchmark/PXD015087_Thermo\\Hela_P035216_BA1_S00_A00_R12.ms_data.hdf with database of 42,661 unidentified candidates\n",
      "2022-12-03 21:47:09> 28,298 possible features for matching based on distance of 3\n",
      "2022-12-03 21:47:32> 20,392 possible features for matching based on probability of 0.05\n",
      "2022-12-03 21:47:32> Saving F:/AP_Paper_Benchmark/PXD015087_Thermo\\Hela_P035216_BA1_S00_A00_R12.ms_data.hdf - peptide_fdr.\n",
      "2022-12-03 21:47:33> Trying to match file F:/AP_Paper_Benchmark/PXD015087_Thermo\\Hela_P035216_BA1_S00_A00_R13.ms_data.hdf with database of 42,835 unidentified candidates\n",
      "2022-12-03 21:47:33> 28,354 possible features for matching based on distance of 3\n",
      "2022-12-03 21:47:57> 20,445 possible features for matching based on probability of 0.05\n",
      "2022-12-03 21:47:57> Saving F:/AP_Paper_Benchmark/PXD015087_Thermo\\Hela_P035216_BA1_S00_A00_R13.ms_data.hdf - peptide_fdr.\n",
      "2022-12-03 21:47:57> Trying to match file F:/AP_Paper_Benchmark/PXD015087_Thermo\\Hela_P035216_BA1_S00_A00_R14.ms_data.hdf with database of 42,595 unidentified candidates\n",
      "2022-12-03 21:47:58> 28,356 possible features for matching based on distance of 3\n",
      "2022-12-03 21:48:21> 20,479 possible features for matching based on probability of 0.05\n",
      "2022-12-03 21:48:21> Saving F:/AP_Paper_Benchmark/PXD015087_Thermo\\Hela_P035216_BA1_S00_A00_R14.ms_data.hdf - peptide_fdr.\n",
      "2022-12-03 21:48:22> Trying to match file F:/AP_Paper_Benchmark/PXD015087_Thermo\\Hela_P035216_BA1_S00_A00_R15.ms_data.hdf with database of 42,939 unidentified candidates\n",
      "2022-12-03 21:48:22> 28,765 possible features for matching based on distance of 3\n",
      "2022-12-03 21:48:46> 20,733 possible features for matching based on probability of 0.05\n",
      "2022-12-03 21:48:46> Saving F:/AP_Paper_Benchmark/PXD015087_Thermo\\Hela_P035216_BA1_S00_A00_R15.ms_data.hdf - peptide_fdr.\n",
      "2022-12-03 21:48:46> Trying to match file F:/AP_Paper_Benchmark/PXD015087_Thermo\\Hela_P035216_BA1_S00_A00_R16.ms_data.hdf with database of 42,866 unidentified candidates\n"
     ]
    },
    {
     "name": "stdout",
     "output_type": "stream",
     "text": [
      "2022-12-03 21:48:47> 28,554 possible features for matching based on distance of 3\n",
      "2022-12-03 21:49:10> 20,642 possible features for matching based on probability of 0.05\n",
      "2022-12-03 21:49:11> Saving F:/AP_Paper_Benchmark/PXD015087_Thermo\\Hela_P035216_BA1_S00_A00_R16.ms_data.hdf - peptide_fdr.\n",
      "2022-12-03 21:49:11> Trying to match file F:/AP_Paper_Benchmark/PXD015087_Thermo\\Hela_P035216_BA1_S00_A00_R17.ms_data.hdf with database of 42,935 unidentified candidates\n",
      "2022-12-03 21:49:12> 28,379 possible features for matching based on distance of 3\n",
      "2022-12-03 21:49:35> 20,243 possible features for matching based on probability of 0.05\n",
      "2022-12-03 21:49:35> Saving F:/AP_Paper_Benchmark/PXD015087_Thermo\\Hela_P035216_BA1_S00_A00_R17.ms_data.hdf - peptide_fdr.\n",
      "2022-12-03 21:49:35> Trying to match file F:/AP_Paper_Benchmark/PXD015087_Thermo\\Hela_P035216_BA1_S00_A00_R18.ms_data.hdf with database of 42,826 unidentified candidates\n",
      "2022-12-03 21:49:36> 28,524 possible features for matching based on distance of 3\n",
      "2022-12-03 21:49:59> 20,245 possible features for matching based on probability of 0.05\n",
      "2022-12-03 21:49:59> Saving F:/AP_Paper_Benchmark/PXD015087_Thermo\\Hela_P035216_BA1_S00_A00_R18.ms_data.hdf - peptide_fdr.\n",
      "2022-12-03 21:50:00> Trying to match file F:/AP_Paper_Benchmark/PXD015087_Thermo\\Hela_P035216_BA1_S00_A00_R19.ms_data.hdf with database of 43,115 unidentified candidates\n",
      "2022-12-03 21:50:00> 28,944 possible features for matching based on distance of 3\n",
      "2022-12-03 21:50:24> 17,732 possible features for matching based on probability of 0.05\n",
      "2022-12-03 21:50:24> Saving F:/AP_Paper_Benchmark/PXD015087_Thermo\\Hela_P035216_BA1_S00_A00_R19.ms_data.hdf - peptide_fdr.\n",
      "2022-12-03 21:50:25> Trying to match file F:/AP_Paper_Benchmark/PXD015087_Thermo\\Hela_P035216_BA1_S00_A00_R2.ms_data.hdf with database of 42,726 unidentified candidates\n",
      "2022-12-03 21:50:25> 28,759 possible features for matching based on distance of 3\n",
      "2022-12-03 21:50:49> 20,692 possible features for matching based on probability of 0.05\n",
      "2022-12-03 21:50:49> Saving F:/AP_Paper_Benchmark/PXD015087_Thermo\\Hela_P035216_BA1_S00_A00_R2.ms_data.hdf - peptide_fdr.\n",
      "2022-12-03 21:50:50> Trying to match file F:/AP_Paper_Benchmark/PXD015087_Thermo\\Hela_P035216_BA1_S00_A00_R20.ms_data.hdf with database of 43,367 unidentified candidates\n",
      "2022-12-03 21:50:50> 29,274 possible features for matching based on distance of 3\n",
      "2022-12-03 21:51:14> 19,662 possible features for matching based on probability of 0.05\n",
      "2022-12-03 21:51:14> Saving F:/AP_Paper_Benchmark/PXD015087_Thermo\\Hela_P035216_BA1_S00_A00_R20.ms_data.hdf - peptide_fdr.\n",
      "2022-12-03 21:51:15> Trying to match file F:/AP_Paper_Benchmark/PXD015087_Thermo\\Hela_P035216_BA1_S00_A00_R3.ms_data.hdf with database of 42,323 unidentified candidates\n",
      "2022-12-03 21:51:16> 27,135 possible features for matching based on distance of 3\n",
      "2022-12-03 21:51:38> 14,308 possible features for matching based on probability of 0.05\n",
      "2022-12-03 21:51:38> Saving F:/AP_Paper_Benchmark/PXD015087_Thermo\\Hela_P035216_BA1_S00_A00_R3.ms_data.hdf - peptide_fdr.\n",
      "2022-12-03 21:51:39> Trying to match file F:/AP_Paper_Benchmark/PXD015087_Thermo\\Hela_P035216_BA1_S00_A00_R4.ms_data.hdf with database of 42,942 unidentified candidates\n",
      "2022-12-03 21:51:39> 27,967 possible features for matching based on distance of 3\n",
      "2022-12-03 21:52:02> 19,289 possible features for matching based on probability of 0.05\n",
      "2022-12-03 21:52:03> Saving F:/AP_Paper_Benchmark/PXD015087_Thermo\\Hela_P035216_BA1_S00_A00_R4.ms_data.hdf - peptide_fdr.\n",
      "2022-12-03 21:52:03> Trying to match file F:/AP_Paper_Benchmark/PXD015087_Thermo\\Hela_P035216_BA1_S00_A00_R5.ms_data.hdf with database of 42,730 unidentified candidates\n",
      "2022-12-03 21:52:04> 27,937 possible features for matching based on distance of 3\n",
      "2022-12-03 21:52:26> 19,428 possible features for matching based on probability of 0.05\n",
      "2022-12-03 21:52:27> Saving F:/AP_Paper_Benchmark/PXD015087_Thermo\\Hela_P035216_BA1_S00_A00_R5.ms_data.hdf - peptide_fdr.\n",
      "2022-12-03 21:52:27> Trying to match file F:/AP_Paper_Benchmark/PXD015087_Thermo\\Hela_P035216_BA1_S00_A00_R6.ms_data.hdf with database of 42,493 unidentified candidates\n",
      "2022-12-03 21:52:28> 27,888 possible features for matching based on distance of 3\n",
      "2022-12-03 21:52:51> 19,783 possible features for matching based on probability of 0.05\n",
      "2022-12-03 21:52:51> Saving F:/AP_Paper_Benchmark/PXD015087_Thermo\\Hela_P035216_BA1_S00_A00_R6.ms_data.hdf - peptide_fdr.\n",
      "2022-12-03 21:52:51> Trying to match file F:/AP_Paper_Benchmark/PXD015087_Thermo\\Hela_P035216_BA1_S00_A00_R7.ms_data.hdf with database of 42,559 unidentified candidates\n",
      "2022-12-03 21:52:52> 27,940 possible features for matching based on distance of 3\n",
      "2022-12-03 21:53:15> 19,970 possible features for matching based on probability of 0.05\n",
      "2022-12-03 21:53:15> Saving F:/AP_Paper_Benchmark/PXD015087_Thermo\\Hela_P035216_BA1_S00_A00_R7.ms_data.hdf - peptide_fdr.\n",
      "2022-12-03 21:53:15> Trying to match file F:/AP_Paper_Benchmark/PXD015087_Thermo\\Hela_P035216_BA1_S00_A00_R8.ms_data.hdf with database of 42,381 unidentified candidates\n",
      "2022-12-03 21:53:16> 27,994 possible features for matching based on distance of 3\n",
      "2022-12-03 21:53:38> 20,133 possible features for matching based on probability of 0.05\n",
      "2022-12-03 21:53:39> Saving F:/AP_Paper_Benchmark/PXD015087_Thermo\\Hela_P035216_BA1_S00_A00_R8.ms_data.hdf - peptide_fdr.\n",
      "2022-12-03 21:53:39> Trying to match file F:/AP_Paper_Benchmark/PXD015087_Thermo\\Hela_P035216_BA1_S00_A00_R9.ms_data.hdf with database of 42,360 unidentified candidates\n",
      "2022-12-03 21:53:39> 28,443 possible features for matching based on distance of 3\n",
      "2022-12-03 21:54:03> 19,699 possible features for matching based on probability of 0.05\n",
      "2022-12-03 21:54:03> Saving F:/AP_Paper_Benchmark/PXD015087_Thermo\\Hela_P035216_BA1_S00_A00_R9.ms_data.hdf - peptide_fdr.\n",
      "2022-12-03 21:54:03> Trying to match file F:/AP_Paper_Benchmark/PXD015087_Thermo\\Hela_P035217_BA1_S00_A00_R1.ms_data.hdf with database of 45,510 unidentified candidates\n",
      "2022-12-03 21:54:04> 31,056 possible features for matching based on distance of 3\n",
      "2022-12-03 21:54:29> 19,807 possible features for matching based on probability of 0.05\n",
      "2022-12-03 21:54:29> Saving F:/AP_Paper_Benchmark/PXD015087_Thermo\\Hela_P035217_BA1_S00_A00_R1.ms_data.hdf - peptide_fdr.\n",
      "2022-12-03 21:54:29> Trying to match file F:/AP_Paper_Benchmark/PXD015087_Thermo\\Hela_P035217_BA1_S00_A00_R10.ms_data.hdf with database of 45,012 unidentified candidates\n",
      "2022-12-03 21:54:30> 30,312 possible features for matching based on distance of 3\n",
      "2022-12-03 21:54:54> 20,088 possible features for matching based on probability of 0.05\n",
      "2022-12-03 21:54:54> Saving F:/AP_Paper_Benchmark/PXD015087_Thermo\\Hela_P035217_BA1_S00_A00_R10.ms_data.hdf - peptide_fdr.\n",
      "2022-12-03 21:54:55> Trying to match file F:/AP_Paper_Benchmark/PXD015087_Thermo\\Hela_P035217_BA1_S00_A00_R11.ms_data.hdf with database of 45,046 unidentified candidates\n",
      "2022-12-03 21:54:55> 30,394 possible features for matching based on distance of 3\n",
      "2022-12-03 21:55:20> 21,166 possible features for matching based on probability of 0.05\n",
      "2022-12-03 21:55:20> Saving F:/AP_Paper_Benchmark/PXD015087_Thermo\\Hela_P035217_BA1_S00_A00_R11.ms_data.hdf - peptide_fdr.\n",
      "2022-12-03 21:55:21> Trying to match file F:/AP_Paper_Benchmark/PXD015087_Thermo\\Hela_P035217_BA1_S00_A00_R12.ms_data.hdf with database of 44,631 unidentified candidates\n",
      "2022-12-03 21:55:21> 30,387 possible features for matching based on distance of 3\n",
      "2022-12-03 21:55:46> 21,033 possible features for matching based on probability of 0.05\n",
      "2022-12-03 21:55:46> Saving F:/AP_Paper_Benchmark/PXD015087_Thermo\\Hela_P035217_BA1_S00_A00_R12.ms_data.hdf - peptide_fdr.\n",
      "2022-12-03 21:55:47> Trying to match file F:/AP_Paper_Benchmark/PXD015087_Thermo\\Hela_P035217_BA1_S00_A00_R13.ms_data.hdf with database of 44,990 unidentified candidates\n",
      "2022-12-03 21:55:47> 30,495 possible features for matching based on distance of 3\n",
      "2022-12-03 21:56:12> 20,805 possible features for matching based on probability of 0.05\n",
      "2022-12-03 21:56:12> Saving F:/AP_Paper_Benchmark/PXD015087_Thermo\\Hela_P035217_BA1_S00_A00_R13.ms_data.hdf - peptide_fdr.\n",
      "2022-12-03 21:56:12> Trying to match file F:/AP_Paper_Benchmark/PXD015087_Thermo\\Hela_P035217_BA1_S00_A00_R14.ms_data.hdf with database of 45,193 unidentified candidates\n"
     ]
    },
    {
     "name": "stdout",
     "output_type": "stream",
     "text": [
      "2022-12-03 21:56:13> 30,512 possible features for matching based on distance of 3\n",
      "2022-12-03 21:56:38> 19,714 possible features for matching based on probability of 0.05\n",
      "2022-12-03 21:56:38> Saving F:/AP_Paper_Benchmark/PXD015087_Thermo\\Hela_P035217_BA1_S00_A00_R14.ms_data.hdf - peptide_fdr.\n",
      "2022-12-03 21:56:39> Trying to match file F:/AP_Paper_Benchmark/PXD015087_Thermo\\Hela_P035217_BA1_S00_A00_R15.ms_data.hdf with database of 44,801 unidentified candidates\n",
      "2022-12-03 21:56:39> 30,348 possible features for matching based on distance of 3\n",
      "2022-12-03 21:57:04> 21,261 possible features for matching based on probability of 0.05\n",
      "2022-12-03 21:57:04> Saving F:/AP_Paper_Benchmark/PXD015087_Thermo\\Hela_P035217_BA1_S00_A00_R15.ms_data.hdf - peptide_fdr.\n",
      "2022-12-03 21:57:04> Trying to match file F:/AP_Paper_Benchmark/PXD015087_Thermo\\Hela_P035217_BA1_S00_A00_R16.ms_data.hdf with database of 44,953 unidentified candidates\n",
      "2022-12-03 21:57:05> 30,537 possible features for matching based on distance of 3\n",
      "2022-12-03 21:57:29> 20,861 possible features for matching based on probability of 0.05\n",
      "2022-12-03 21:57:29> Saving F:/AP_Paper_Benchmark/PXD015087_Thermo\\Hela_P035217_BA1_S00_A00_R16.ms_data.hdf - peptide_fdr.\n",
      "2022-12-03 21:57:30> Trying to match file F:/AP_Paper_Benchmark/PXD015087_Thermo\\Hela_P035217_BA1_S00_A00_R17.ms_data.hdf with database of 44,946 unidentified candidates\n",
      "2022-12-03 21:57:30> 30,707 possible features for matching based on distance of 3\n",
      "2022-12-03 21:57:55> 21,819 possible features for matching based on probability of 0.05\n",
      "2022-12-03 21:57:55> Saving F:/AP_Paper_Benchmark/PXD015087_Thermo\\Hela_P035217_BA1_S00_A00_R17.ms_data.hdf - peptide_fdr.\n",
      "2022-12-03 21:57:56> Trying to match file F:/AP_Paper_Benchmark/PXD015087_Thermo\\Hela_P035217_BA1_S00_A00_R18.ms_data.hdf with database of 45,218 unidentified candidates\n",
      "2022-12-03 21:57:56> 30,646 possible features for matching based on distance of 3\n",
      "2022-12-03 21:58:21> 20,111 possible features for matching based on probability of 0.05\n",
      "2022-12-03 21:58:21> Saving F:/AP_Paper_Benchmark/PXD015087_Thermo\\Hela_P035217_BA1_S00_A00_R18.ms_data.hdf - peptide_fdr.\n",
      "2022-12-03 21:58:22> Trying to match file F:/AP_Paper_Benchmark/PXD015087_Thermo\\Hela_P035217_BA1_S00_A00_R19.ms_data.hdf with database of 45,031 unidentified candidates\n",
      "2022-12-03 21:58:22> 30,893 possible features for matching based on distance of 3\n",
      "2022-12-03 21:58:47> 21,527 possible features for matching based on probability of 0.05\n",
      "2022-12-03 21:58:47> Saving F:/AP_Paper_Benchmark/PXD015087_Thermo\\Hela_P035217_BA1_S00_A00_R19.ms_data.hdf - peptide_fdr.\n",
      "2022-12-03 21:58:48> Trying to match file F:/AP_Paper_Benchmark/PXD015087_Thermo\\Hela_P035217_BA1_S00_A00_R2.ms_data.hdf with database of 44,933 unidentified candidates\n",
      "2022-12-03 21:58:48> 31,025 possible features for matching based on distance of 3\n",
      "2022-12-03 21:59:14> 20,558 possible features for matching based on probability of 0.05\n",
      "2022-12-03 21:59:14> Saving F:/AP_Paper_Benchmark/PXD015087_Thermo\\Hela_P035217_BA1_S00_A00_R2.ms_data.hdf - peptide_fdr.\n",
      "2022-12-03 21:59:14> Trying to match file F:/AP_Paper_Benchmark/PXD015087_Thermo\\Hela_P035217_BA1_S00_A00_R20.ms_data.hdf with database of 45,108 unidentified candidates\n",
      "2022-12-03 21:59:15> 30,589 possible features for matching based on distance of 3\n",
      "2022-12-03 21:59:40> 21,753 possible features for matching based on probability of 0.05\n",
      "2022-12-03 21:59:40> Saving F:/AP_Paper_Benchmark/PXD015087_Thermo\\Hela_P035217_BA1_S00_A00_R20.ms_data.hdf - peptide_fdr.\n",
      "2022-12-03 21:59:40> Trying to match file F:/AP_Paper_Benchmark/PXD015087_Thermo\\Hela_P035217_BA1_S00_A00_R21.ms_data.hdf with database of 45,344 unidentified candidates\n",
      "2022-12-03 21:59:41> 31,188 possible features for matching based on distance of 3\n",
      "2022-12-03 22:00:06> 20,107 possible features for matching based on probability of 0.05\n",
      "2022-12-03 22:00:06> Saving F:/AP_Paper_Benchmark/PXD015087_Thermo\\Hela_P035217_BA1_S00_A00_R21.ms_data.hdf - peptide_fdr.\n",
      "2022-12-03 22:00:07> Trying to match file F:/AP_Paper_Benchmark/PXD015087_Thermo\\Hela_P035217_BA1_S00_A00_R3.ms_data.hdf with database of 45,170 unidentified candidates\n",
      "2022-12-03 22:00:07> 31,440 possible features for matching based on distance of 3\n",
      "2022-12-03 22:00:33> 22,773 possible features for matching based on probability of 0.05\n",
      "2022-12-03 22:00:33> Saving F:/AP_Paper_Benchmark/PXD015087_Thermo\\Hela_P035217_BA1_S00_A00_R3.ms_data.hdf - peptide_fdr.\n",
      "2022-12-03 22:00:34> Trying to match file F:/AP_Paper_Benchmark/PXD015087_Thermo\\Hela_P035217_BA1_S00_A00_R5.ms_data.hdf with database of 44,816 unidentified candidates\n",
      "2022-12-03 22:00:34> 23,047 possible features for matching based on distance of 3\n",
      "2022-12-03 22:00:53> 1,358 possible features for matching based on probability of 0.05\n",
      "2022-12-03 22:00:53> Saving F:/AP_Paper_Benchmark/PXD015087_Thermo\\Hela_P035217_BA1_S00_A00_R5.ms_data.hdf - peptide_fdr.\n",
      "2022-12-03 22:00:53> Trying to match file F:/AP_Paper_Benchmark/PXD015087_Thermo\\Hela_P035217_BA1_S00_A00_R6.ms_data.hdf with database of 44,995 unidentified candidates\n",
      "2022-12-03 22:00:54> 27,399 possible features for matching based on distance of 3\n",
      "2022-12-03 22:01:16> 12,189 possible features for matching based on probability of 0.05\n",
      "2022-12-03 22:01:16> Saving F:/AP_Paper_Benchmark/PXD015087_Thermo\\Hela_P035217_BA1_S00_A00_R6.ms_data.hdf - peptide_fdr.\n",
      "2022-12-03 22:01:17> Trying to match file F:/AP_Paper_Benchmark/PXD015087_Thermo\\Hela_P035217_BA1_S00_A00_R7.ms_data.hdf with database of 45,004 unidentified candidates\n",
      "2022-12-03 22:01:17> 29,560 possible features for matching based on distance of 3\n",
      "2022-12-03 22:01:41> 18,263 possible features for matching based on probability of 0.05\n",
      "2022-12-03 22:01:41> Saving F:/AP_Paper_Benchmark/PXD015087_Thermo\\Hela_P035217_BA1_S00_A00_R7.ms_data.hdf - peptide_fdr.\n",
      "2022-12-03 22:01:42> Trying to match file F:/AP_Paper_Benchmark/PXD015087_Thermo\\Hela_P035217_BA1_S00_A00_R8.ms_data.hdf with database of 45,175 unidentified candidates\n",
      "2022-12-03 22:01:42> 29,847 possible features for matching based on distance of 3\n",
      "2022-12-03 22:02:07> 17,465 possible features for matching based on probability of 0.05\n",
      "2022-12-03 22:02:07> Saving F:/AP_Paper_Benchmark/PXD015087_Thermo\\Hela_P035217_BA1_S00_A00_R8.ms_data.hdf - peptide_fdr.\n",
      "2022-12-03 22:02:07> Trying to match file F:/AP_Paper_Benchmark/PXD015087_Thermo\\Hela_P035217_BA1_S00_A00_R9.ms_data.hdf with database of 44,816 unidentified candidates\n",
      "2022-12-03 22:02:08> 29,336 possible features for matching based on distance of 3\n",
      "2022-12-03 22:02:32> 17,306 possible features for matching based on probability of 0.05\n",
      "2022-12-03 22:02:32> Saving F:/AP_Paper_Benchmark/PXD015087_Thermo\\Hela_P035217_BA1_S00_A00_R9.ms_data.hdf - peptide_fdr.\n",
      "2022-12-03 22:02:32> Trying to match file F:/AP_Paper_Benchmark/PXD015087_Thermo\\Hela_P035218_BA1_S00_A00_R1.ms_data.hdf with database of 44,672 unidentified candidates\n",
      "2022-12-03 22:02:33> 28,676 possible features for matching based on distance of 3\n",
      "2022-12-03 22:02:56> 13,969 possible features for matching based on probability of 0.05\n",
      "2022-12-03 22:02:56> Saving F:/AP_Paper_Benchmark/PXD015087_Thermo\\Hela_P035218_BA1_S00_A00_R1.ms_data.hdf - peptide_fdr.\n",
      "2022-12-03 22:02:57> Trying to match file F:/AP_Paper_Benchmark/PXD015087_Thermo\\Hela_P035218_BA1_S00_A00_R10.ms_data.hdf with database of 44,680 unidentified candidates\n",
      "2022-12-03 22:02:57> 28,332 possible features for matching based on distance of 3\n",
      "2022-12-03 22:03:20> 12,102 possible features for matching based on probability of 0.05\n",
      "2022-12-03 22:03:20> Saving F:/AP_Paper_Benchmark/PXD015087_Thermo\\Hela_P035218_BA1_S00_A00_R10.ms_data.hdf - peptide_fdr.\n",
      "2022-12-03 22:03:21> Trying to match file F:/AP_Paper_Benchmark/PXD015087_Thermo\\Hela_P035218_BA1_S00_A00_R11.ms_data.hdf with database of 44,781 unidentified candidates\n",
      "2022-12-03 22:03:21> 28,233 possible features for matching based on distance of 3\n",
      "2022-12-03 22:03:44> 11,815 possible features for matching based on probability of 0.05\n",
      "2022-12-03 22:03:44> Saving F:/AP_Paper_Benchmark/PXD015087_Thermo\\Hela_P035218_BA1_S00_A00_R11.ms_data.hdf - peptide_fdr.\n",
      "2022-12-03 22:03:45> Trying to match file F:/AP_Paper_Benchmark/PXD015087_Thermo\\Hela_P035218_BA1_S00_A00_R12.ms_data.hdf with database of 44,325 unidentified candidates\n"
     ]
    },
    {
     "name": "stdout",
     "output_type": "stream",
     "text": [
      "2022-12-03 22:03:45> 26,910 possible features for matching based on distance of 3\n",
      "2022-12-03 22:04:07> 8,583 possible features for matching based on probability of 0.05\n",
      "2022-12-03 22:04:07> Saving F:/AP_Paper_Benchmark/PXD015087_Thermo\\Hela_P035218_BA1_S00_A00_R12.ms_data.hdf - peptide_fdr.\n",
      "2022-12-03 22:04:07> Trying to match file F:/AP_Paper_Benchmark/PXD015087_Thermo\\Hela_P035218_BA1_S00_A00_R13.ms_data.hdf with database of 44,507 unidentified candidates\n",
      "2022-12-03 22:04:08> 27,404 possible features for matching based on distance of 3\n",
      "2022-12-03 22:04:30> 10,278 possible features for matching based on probability of 0.05\n",
      "2022-12-03 22:04:30> Saving F:/AP_Paper_Benchmark/PXD015087_Thermo\\Hela_P035218_BA1_S00_A00_R13.ms_data.hdf - peptide_fdr.\n",
      "2022-12-03 22:04:31> Trying to match file F:/AP_Paper_Benchmark/PXD015087_Thermo\\Hela_P035218_BA1_S00_A00_R14.ms_data.hdf with database of 44,769 unidentified candidates\n",
      "2022-12-03 22:04:31> 28,397 possible features for matching based on distance of 3\n",
      "2022-12-03 22:04:54> 14,515 possible features for matching based on probability of 0.05\n",
      "2022-12-03 22:04:54> Saving F:/AP_Paper_Benchmark/PXD015087_Thermo\\Hela_P035218_BA1_S00_A00_R14.ms_data.hdf - peptide_fdr.\n",
      "2022-12-03 22:04:55> Trying to match file F:/AP_Paper_Benchmark/PXD015087_Thermo\\Hela_P035218_BA1_S00_A00_R15.ms_data.hdf with database of 44,349 unidentified candidates\n",
      "2022-12-03 22:04:55> 27,771 possible features for matching based on distance of 3\n",
      "2022-12-03 22:05:18> 12,632 possible features for matching based on probability of 0.05\n",
      "2022-12-03 22:05:18> Saving F:/AP_Paper_Benchmark/PXD015087_Thermo\\Hela_P035218_BA1_S00_A00_R15.ms_data.hdf - peptide_fdr.\n",
      "2022-12-03 22:05:18> Trying to match file F:/AP_Paper_Benchmark/PXD015087_Thermo\\Hela_P035218_BA1_S00_A00_R16.ms_data.hdf with database of 44,477 unidentified candidates\n",
      "2022-12-03 22:05:19> 27,512 possible features for matching based on distance of 3\n",
      "2022-12-03 22:05:41> 10,641 possible features for matching based on probability of 0.05\n",
      "2022-12-03 22:05:41> Saving F:/AP_Paper_Benchmark/PXD015087_Thermo\\Hela_P035218_BA1_S00_A00_R16.ms_data.hdf - peptide_fdr.\n",
      "2022-12-03 22:05:42> Trying to match file F:/AP_Paper_Benchmark/PXD015087_Thermo\\Hela_P035218_BA1_S00_A00_R17.ms_data.hdf with database of 44,511 unidentified candidates\n",
      "2022-12-03 22:05:42> 27,217 possible features for matching based on distance of 3\n",
      "2022-12-03 22:06:04> 10,038 possible features for matching based on probability of 0.05\n",
      "2022-12-03 22:06:04> Saving F:/AP_Paper_Benchmark/PXD015087_Thermo\\Hela_P035218_BA1_S00_A00_R17.ms_data.hdf - peptide_fdr.\n",
      "2022-12-03 22:06:05> Trying to match file F:/AP_Paper_Benchmark/PXD015087_Thermo\\Hela_P035218_BA1_S00_A00_R18.ms_data.hdf with database of 44,621 unidentified candidates\n",
      "2022-12-03 22:06:05> 28,807 possible features for matching based on distance of 3\n",
      "2022-12-03 22:06:29> 16,689 possible features for matching based on probability of 0.05\n",
      "2022-12-03 22:06:29> Saving F:/AP_Paper_Benchmark/PXD015087_Thermo\\Hela_P035218_BA1_S00_A00_R18.ms_data.hdf - peptide_fdr.\n",
      "2022-12-03 22:06:29> Trying to match file F:/AP_Paper_Benchmark/PXD015087_Thermo\\Hela_P035218_BA1_S00_A00_R19.ms_data.hdf with database of 44,329 unidentified candidates\n",
      "2022-12-03 22:06:30> 28,298 possible features for matching based on distance of 3\n",
      "2022-12-03 22:06:53> 14,332 possible features for matching based on probability of 0.05\n",
      "2022-12-03 22:06:53> Saving F:/AP_Paper_Benchmark/PXD015087_Thermo\\Hela_P035218_BA1_S00_A00_R19.ms_data.hdf - peptide_fdr.\n",
      "2022-12-03 22:06:53> Trying to match file F:/AP_Paper_Benchmark/PXD015087_Thermo\\Hela_P035218_BA1_S00_A00_R2.ms_data.hdf with database of 44,814 unidentified candidates\n",
      "2022-12-03 22:06:54> 28,601 possible features for matching based on distance of 3\n",
      "2022-12-03 22:07:17> 13,259 possible features for matching based on probability of 0.05\n",
      "2022-12-03 22:07:17> Saving F:/AP_Paper_Benchmark/PXD015087_Thermo\\Hela_P035218_BA1_S00_A00_R2.ms_data.hdf - peptide_fdr.\n",
      "2022-12-03 22:07:18> Trying to match file F:/AP_Paper_Benchmark/PXD015087_Thermo\\Hela_P035218_BA1_S00_A00_R20.ms_data.hdf with database of 44,973 unidentified candidates\n",
      "2022-12-03 22:07:18> 29,406 possible features for matching based on distance of 3\n",
      "2022-12-03 22:07:43> 18,366 possible features for matching based on probability of 0.05\n",
      "2022-12-03 22:07:43> Saving F:/AP_Paper_Benchmark/PXD015087_Thermo\\Hela_P035218_BA1_S00_A00_R20.ms_data.hdf - peptide_fdr.\n",
      "2022-12-03 22:07:43> Trying to match file F:/AP_Paper_Benchmark/PXD015087_Thermo\\Hela_P035218_BA1_S00_A00_R3.ms_data.hdf with database of 44,697 unidentified candidates\n",
      "2022-12-03 22:07:44> 28,986 possible features for matching based on distance of 3\n",
      "2022-12-03 22:08:07> 15,167 possible features for matching based on probability of 0.05\n",
      "2022-12-03 22:08:08> Saving F:/AP_Paper_Benchmark/PXD015087_Thermo\\Hela_P035218_BA1_S00_A00_R3.ms_data.hdf - peptide_fdr.\n",
      "2022-12-03 22:08:08> Trying to match file F:/AP_Paper_Benchmark/PXD015087_Thermo\\Hela_P035218_BA1_S00_A00_R4.ms_data.hdf with database of 44,575 unidentified candidates\n",
      "2022-12-03 22:08:08> 28,758 possible features for matching based on distance of 3\n",
      "2022-12-03 22:08:32> 15,841 possible features for matching based on probability of 0.05\n",
      "2022-12-03 22:08:32> Saving F:/AP_Paper_Benchmark/PXD015087_Thermo\\Hela_P035218_BA1_S00_A00_R4.ms_data.hdf - peptide_fdr.\n",
      "2022-12-03 22:08:33> Trying to match file F:/AP_Paper_Benchmark/PXD015087_Thermo\\Hela_P035218_BA1_S00_A00_R5.ms_data.hdf with database of 45,262 unidentified candidates\n",
      "2022-12-03 22:08:33> 29,578 possible features for matching based on distance of 3\n",
      "2022-12-03 22:08:57> 16,378 possible features for matching based on probability of 0.05\n",
      "2022-12-03 22:08:57> Saving F:/AP_Paper_Benchmark/PXD015087_Thermo\\Hela_P035218_BA1_S00_A00_R5.ms_data.hdf - peptide_fdr.\n",
      "2022-12-03 22:08:58> Trying to match file F:/AP_Paper_Benchmark/PXD015087_Thermo\\Hela_P035218_BA1_S00_A00_R6.ms_data.hdf with database of 44,878 unidentified candidates\n",
      "2022-12-03 22:08:58> 29,078 possible features for matching based on distance of 3\n",
      "2022-12-03 22:09:22> 14,933 possible features for matching based on probability of 0.05\n",
      "2022-12-03 22:09:22> Saving F:/AP_Paper_Benchmark/PXD015087_Thermo\\Hela_P035218_BA1_S00_A00_R6.ms_data.hdf - peptide_fdr.\n",
      "2022-12-03 22:09:23> Trying to match file F:/AP_Paper_Benchmark/PXD015087_Thermo\\Hela_P035218_BA1_S00_A00_R7.ms_data.hdf with database of 44,335 unidentified candidates\n",
      "2022-12-03 22:09:23> 28,236 possible features for matching based on distance of 3\n",
      "2022-12-03 22:09:47> 13,198 possible features for matching based on probability of 0.05\n",
      "2022-12-03 22:09:47> Saving F:/AP_Paper_Benchmark/PXD015087_Thermo\\Hela_P035218_BA1_S00_A00_R7.ms_data.hdf - peptide_fdr.\n",
      "2022-12-03 22:09:47> Trying to match file F:/AP_Paper_Benchmark/PXD015087_Thermo\\Hela_P035218_BA1_S00_A00_R8.ms_data.hdf with database of 44,793 unidentified candidates\n",
      "2022-12-03 22:09:48> 29,019 possible features for matching based on distance of 3\n",
      "2022-12-03 22:10:12> 16,576 possible features for matching based on probability of 0.05\n",
      "2022-12-03 22:10:12> Saving F:/AP_Paper_Benchmark/PXD015087_Thermo\\Hela_P035218_BA1_S00_A00_R8.ms_data.hdf - peptide_fdr.\n",
      "2022-12-03 22:10:13> Trying to match file F:/AP_Paper_Benchmark/PXD015087_Thermo\\Hela_P035218_BA1_S00_A00_R9.ms_data.hdf with database of 45,009 unidentified candidates\n",
      "2022-12-03 22:10:13> 29,397 possible features for matching based on distance of 3\n",
      "2022-12-03 22:10:37> 15,573 possible features for matching based on probability of 0.05\n",
      "2022-12-03 22:10:37> Saving F:/AP_Paper_Benchmark/PXD015087_Thermo\\Hela_P035218_BA1_S00_A00_R9.ms_data.hdf - peptide_fdr.\n",
      "2022-12-03 22:10:38> Trying to match file F:/AP_Paper_Benchmark/PXD015087_Thermo\\Hela_P035219_BA1_S00_A00_R1.ms_data.hdf with database of 47,214 unidentified candidates\n",
      "2022-12-03 22:10:38> 31,438 possible features for matching based on distance of 3\n",
      "2022-12-03 22:11:04> 14,452 possible features for matching based on probability of 0.05\n",
      "2022-12-03 22:11:04> Saving F:/AP_Paper_Benchmark/PXD015087_Thermo\\Hela_P035219_BA1_S00_A00_R1.ms_data.hdf - peptide_fdr.\n",
      "2022-12-03 22:11:05> Trying to match file F:/AP_Paper_Benchmark/PXD015087_Thermo\\Hela_P035219_BA1_S00_A00_R10.ms_data.hdf with database of 47,645 unidentified candidates\n"
     ]
    },
    {
     "name": "stdout",
     "output_type": "stream",
     "text": [
      "2022-12-03 22:11:05> 31,477 possible features for matching based on distance of 3\n",
      "2022-12-03 22:11:32> 14,465 possible features for matching based on probability of 0.05\n",
      "2022-12-03 22:11:32> Saving F:/AP_Paper_Benchmark/PXD015087_Thermo\\Hela_P035219_BA1_S00_A00_R10.ms_data.hdf - peptide_fdr.\n",
      "2022-12-03 22:11:32> Trying to match file F:/AP_Paper_Benchmark/PXD015087_Thermo\\Hela_P035219_BA1_S00_A00_R11.ms_data.hdf with database of 47,554 unidentified candidates\n",
      "2022-12-03 22:11:33> 31,135 possible features for matching based on distance of 3\n",
      "2022-12-03 22:11:58> 13,605 possible features for matching based on probability of 0.05\n",
      "2022-12-03 22:11:58> Saving F:/AP_Paper_Benchmark/PXD015087_Thermo\\Hela_P035219_BA1_S00_A00_R11.ms_data.hdf - peptide_fdr.\n",
      "2022-12-03 22:11:59> Trying to match file F:/AP_Paper_Benchmark/PXD015087_Thermo\\Hela_P035219_BA1_S00_A00_R12.ms_data.hdf with database of 47,373 unidentified candidates\n",
      "2022-12-03 22:11:59> 30,149 possible features for matching based on distance of 3\n",
      "2022-12-03 22:12:24> 10,096 possible features for matching based on probability of 0.05\n",
      "2022-12-03 22:12:24> Saving F:/AP_Paper_Benchmark/PXD015087_Thermo\\Hela_P035219_BA1_S00_A00_R12.ms_data.hdf - peptide_fdr.\n",
      "2022-12-03 22:12:24> Trying to match file F:/AP_Paper_Benchmark/PXD015087_Thermo\\Hela_P035219_BA1_S00_A00_R13.ms_data.hdf with database of 47,410 unidentified candidates\n",
      "2022-12-03 22:12:25> 30,310 possible features for matching based on distance of 3\n",
      "2022-12-03 22:12:50> 10,143 possible features for matching based on probability of 0.05\n",
      "2022-12-03 22:12:50> Saving F:/AP_Paper_Benchmark/PXD015087_Thermo\\Hela_P035219_BA1_S00_A00_R13.ms_data.hdf - peptide_fdr.\n",
      "2022-12-03 22:12:50> Trying to match file F:/AP_Paper_Benchmark/PXD015087_Thermo\\Hela_P035219_BA1_S00_A00_R14.ms_data.hdf with database of 47,521 unidentified candidates\n",
      "2022-12-03 22:12:51> 26,900 possible features for matching based on distance of 3\n",
      "2022-12-03 22:13:13> 4,039 possible features for matching based on probability of 0.05\n",
      "2022-12-03 22:13:13> Saving F:/AP_Paper_Benchmark/PXD015087_Thermo\\Hela_P035219_BA1_S00_A00_R14.ms_data.hdf - peptide_fdr.\n",
      "2022-12-03 22:13:14> Trying to match file F:/AP_Paper_Benchmark/PXD015087_Thermo\\Hela_P035219_BA1_S00_A00_R15.ms_data.hdf with database of 47,208 unidentified candidates\n",
      "2022-12-03 22:13:14> 29,542 possible features for matching based on distance of 3\n",
      "2022-12-03 22:13:39> 9,853 possible features for matching based on probability of 0.05\n",
      "2022-12-03 22:13:39> Saving F:/AP_Paper_Benchmark/PXD015087_Thermo\\Hela_P035219_BA1_S00_A00_R15.ms_data.hdf - peptide_fdr.\n",
      "2022-12-03 22:13:39> Trying to match file F:/AP_Paper_Benchmark/PXD015087_Thermo\\Hela_P035219_BA1_S00_A00_R16.ms_data.hdf with database of 47,701 unidentified candidates\n",
      "2022-12-03 22:13:40> 30,912 possible features for matching based on distance of 3\n",
      "2022-12-03 22:14:05> 11,262 possible features for matching based on probability of 0.05\n",
      "2022-12-03 22:14:06> Saving F:/AP_Paper_Benchmark/PXD015087_Thermo\\Hela_P035219_BA1_S00_A00_R16.ms_data.hdf - peptide_fdr.\n",
      "2022-12-03 22:14:06> Trying to match file F:/AP_Paper_Benchmark/PXD015087_Thermo\\Hela_P035219_BA1_S00_A00_R17.ms_data.hdf with database of 47,848 unidentified candidates\n",
      "2022-12-03 22:14:06> 30,571 possible features for matching based on distance of 3\n",
      "2022-12-03 22:14:32> 9,801 possible features for matching based on probability of 0.05\n",
      "2022-12-03 22:14:32> Saving F:/AP_Paper_Benchmark/PXD015087_Thermo\\Hela_P035219_BA1_S00_A00_R17.ms_data.hdf - peptide_fdr.\n",
      "2022-12-03 22:14:32> Trying to match file F:/AP_Paper_Benchmark/PXD015087_Thermo\\Hela_P035219_BA1_S00_A00_R18.ms_data.hdf with database of 47,203 unidentified candidates\n",
      "2022-12-03 22:14:33> 29,479 possible features for matching based on distance of 3\n",
      "2022-12-03 22:14:57> 8,360 possible features for matching based on probability of 0.05\n",
      "2022-12-03 22:14:57> Saving F:/AP_Paper_Benchmark/PXD015087_Thermo\\Hela_P035219_BA1_S00_A00_R18.ms_data.hdf - peptide_fdr.\n",
      "2022-12-03 22:14:58> Trying to match file F:/AP_Paper_Benchmark/PXD015087_Thermo\\Hela_P035219_BA1_S00_A00_R19.ms_data.hdf with database of 47,714 unidentified candidates\n",
      "2022-12-03 22:14:58> 31,992 possible features for matching based on distance of 3\n",
      "2022-12-03 22:15:25> 18,097 possible features for matching based on probability of 0.05\n",
      "2022-12-03 22:15:25> Saving F:/AP_Paper_Benchmark/PXD015087_Thermo\\Hela_P035219_BA1_S00_A00_R19.ms_data.hdf - peptide_fdr.\n",
      "2022-12-03 22:15:25> Trying to match file F:/AP_Paper_Benchmark/PXD015087_Thermo\\Hela_P035219_BA1_S00_A00_R2.ms_data.hdf with database of 47,419 unidentified candidates\n",
      "2022-12-03 22:15:26> 30,651 possible features for matching based on distance of 3\n",
      "2022-12-03 22:15:51> 8,138 possible features for matching based on probability of 0.05\n",
      "2022-12-03 22:15:51> Saving F:/AP_Paper_Benchmark/PXD015087_Thermo\\Hela_P035219_BA1_S00_A00_R2.ms_data.hdf - peptide_fdr.\n",
      "2022-12-03 22:15:52> Trying to match file F:/AP_Paper_Benchmark/PXD015087_Thermo\\Hela_P035219_BA1_S00_A00_R20.ms_data.hdf with database of 47,759 unidentified candidates\n",
      "2022-12-03 22:15:52> 32,032 possible features for matching based on distance of 3\n",
      "2022-12-03 22:16:19> 19,685 possible features for matching based on probability of 0.05\n",
      "2022-12-03 22:16:19> Saving F:/AP_Paper_Benchmark/PXD015087_Thermo\\Hela_P035219_BA1_S00_A00_R20.ms_data.hdf - peptide_fdr.\n",
      "2022-12-03 22:16:20> Trying to match file F:/AP_Paper_Benchmark/PXD015087_Thermo\\Hela_P035219_BA1_S00_A00_R3.ms_data.hdf with database of 47,220 unidentified candidates\n",
      "2022-12-03 22:16:20> 32,071 possible features for matching based on distance of 3\n",
      "2022-12-03 22:16:47> 20,920 possible features for matching based on probability of 0.05\n",
      "2022-12-03 22:16:47> Saving F:/AP_Paper_Benchmark/PXD015087_Thermo\\Hela_P035219_BA1_S00_A00_R3.ms_data.hdf - peptide_fdr.\n",
      "2022-12-03 22:16:48> Trying to match file F:/AP_Paper_Benchmark/PXD015087_Thermo\\Hela_P035219_BA1_S00_A00_R4.ms_data.hdf with database of 47,444 unidentified candidates\n",
      "2022-12-03 22:16:48> 31,411 possible features for matching based on distance of 3\n",
      "2022-12-03 22:17:15> 13,874 possible features for matching based on probability of 0.05\n",
      "2022-12-03 22:17:15> Saving F:/AP_Paper_Benchmark/PXD015087_Thermo\\Hela_P035219_BA1_S00_A00_R4.ms_data.hdf - peptide_fdr.\n",
      "2022-12-03 22:17:15> Trying to match file F:/AP_Paper_Benchmark/PXD015087_Thermo\\Hela_P035219_BA1_S00_A00_R5.ms_data.hdf with database of 47,165 unidentified candidates\n",
      "2022-12-03 22:17:16> 31,409 possible features for matching based on distance of 3\n",
      "2022-12-03 22:17:42> 16,496 possible features for matching based on probability of 0.05\n",
      "2022-12-03 22:17:42> Saving F:/AP_Paper_Benchmark/PXD015087_Thermo\\Hela_P035219_BA1_S00_A00_R5.ms_data.hdf - peptide_fdr.\n",
      "2022-12-03 22:17:42> Trying to match file F:/AP_Paper_Benchmark/PXD015087_Thermo\\Hela_P035219_BA1_S00_A00_R6.ms_data.hdf with database of 47,531 unidentified candidates\n",
      "2022-12-03 22:17:43> 31,836 possible features for matching based on distance of 3\n",
      "2022-12-03 22:18:09> 17,315 possible features for matching based on probability of 0.05\n",
      "2022-12-03 22:18:09> Saving F:/AP_Paper_Benchmark/PXD015087_Thermo\\Hela_P035219_BA1_S00_A00_R6.ms_data.hdf - peptide_fdr.\n",
      "2022-12-03 22:18:10> Trying to match file F:/AP_Paper_Benchmark/PXD015087_Thermo\\Hela_P035219_BA1_S00_A00_R7.ms_data.hdf with database of 47,424 unidentified candidates\n",
      "2022-12-03 22:18:10> 31,745 possible features for matching based on distance of 3\n",
      "2022-12-03 22:18:37> 17,640 possible features for matching based on probability of 0.05\n",
      "2022-12-03 22:18:37> Saving F:/AP_Paper_Benchmark/PXD015087_Thermo\\Hela_P035219_BA1_S00_A00_R7.ms_data.hdf - peptide_fdr.\n",
      "2022-12-03 22:18:38> Trying to match file F:/AP_Paper_Benchmark/PXD015087_Thermo\\Hela_P035219_BA1_S00_A00_R8.ms_data.hdf with database of 47,427 unidentified candidates\n",
      "2022-12-03 22:18:38> 31,051 possible features for matching based on distance of 3\n",
      "2022-12-03 22:19:04> 11,823 possible features for matching based on probability of 0.05\n",
      "2022-12-03 22:19:04> Saving F:/AP_Paper_Benchmark/PXD015087_Thermo\\Hela_P035219_BA1_S00_A00_R8.ms_data.hdf - peptide_fdr.\n",
      "2022-12-03 22:19:04> Trying to match file F:/AP_Paper_Benchmark/PXD015087_Thermo\\Hela_P035219_BA1_S00_A00_R9.ms_data.hdf with database of 47,943 unidentified candidates\n"
     ]
    },
    {
     "name": "stdout",
     "output_type": "stream",
     "text": [
      "2022-12-03 22:19:05> 32,820 possible features for matching based on distance of 3\n",
      "2022-12-03 22:19:32> 22,913 possible features for matching based on probability of 0.05\n",
      "2022-12-03 22:19:32> Saving F:/AP_Paper_Benchmark/PXD015087_Thermo\\Hela_P035219_BA1_S00_A00_R9.ms_data.hdf - peptide_fdr.\n",
      "2022-12-03 22:19:33> Trying to match file F:/AP_Paper_Benchmark/PXD015087_Thermo\\March_Hela_P035212_BA1_S00_A00_R1.ms_data.hdf with database of 57,264 unidentified candidates\n",
      "2022-12-03 22:19:33> 42,128 possible features for matching based on distance of 3\n",
      "2022-12-03 22:20:09> 31,790 possible features for matching based on probability of 0.05\n",
      "2022-12-03 22:20:10> Saving F:/AP_Paper_Benchmark/PXD015087_Thermo\\March_Hela_P035212_BA1_S00_A00_R1.ms_data.hdf - peptide_fdr.\n",
      "2022-12-03 22:20:10> Trying to match file F:/AP_Paper_Benchmark/PXD015087_Thermo\\March_Hela_P035212_BA1_S00_A00_R10.ms_data.hdf with database of 57,669 unidentified candidates\n",
      "2022-12-03 22:20:10> 42,140 possible features for matching based on distance of 3\n",
      "2022-12-03 22:20:47> 29,785 possible features for matching based on probability of 0.05\n",
      "2022-12-03 22:20:47> Saving F:/AP_Paper_Benchmark/PXD015087_Thermo\\March_Hela_P035212_BA1_S00_A00_R10.ms_data.hdf - peptide_fdr.\n",
      "2022-12-03 22:20:48> Trying to match file F:/AP_Paper_Benchmark/PXD015087_Thermo\\March_Hela_P035212_BA1_S00_A00_R11.ms_data.hdf with database of 57,384 unidentified candidates\n",
      "2022-12-03 22:20:48> 42,038 possible features for matching based on distance of 3\n",
      "2022-12-03 22:21:24> 31,404 possible features for matching based on probability of 0.05\n",
      "2022-12-03 22:21:24> Saving F:/AP_Paper_Benchmark/PXD015087_Thermo\\March_Hela_P035212_BA1_S00_A00_R11.ms_data.hdf - peptide_fdr.\n",
      "2022-12-03 22:21:25> Trying to match file F:/AP_Paper_Benchmark/PXD015087_Thermo\\March_Hela_P035212_BA1_S00_A00_R12.ms_data.hdf with database of 57,535 unidentified candidates\n",
      "2022-12-03 22:21:25> 41,909 possible features for matching based on distance of 3\n",
      "2022-12-03 22:22:02> 28,062 possible features for matching based on probability of 0.05\n",
      "2022-12-03 22:22:02> Saving F:/AP_Paper_Benchmark/PXD015087_Thermo\\March_Hela_P035212_BA1_S00_A00_R12.ms_data.hdf - peptide_fdr.\n",
      "2022-12-03 22:22:02> Trying to match file F:/AP_Paper_Benchmark/PXD015087_Thermo\\March_Hela_P035212_BA1_S00_A00_R13.ms_data.hdf with database of 58,009 unidentified candidates\n",
      "2022-12-03 22:22:03> 42,097 possible features for matching based on distance of 3\n",
      "2022-12-03 22:22:39> 28,014 possible features for matching based on probability of 0.05\n",
      "2022-12-03 22:22:39> Saving F:/AP_Paper_Benchmark/PXD015087_Thermo\\March_Hela_P035212_BA1_S00_A00_R13.ms_data.hdf - peptide_fdr.\n",
      "2022-12-03 22:22:40> Trying to match file F:/AP_Paper_Benchmark/PXD015087_Thermo\\March_Hela_P035212_BA1_S00_A00_R14.ms_data.hdf with database of 57,910 unidentified candidates\n",
      "2022-12-03 22:22:40> 41,425 possible features for matching based on distance of 3\n",
      "2022-12-03 22:23:16> 25,327 possible features for matching based on probability of 0.05\n",
      "2022-12-03 22:23:16> Saving F:/AP_Paper_Benchmark/PXD015087_Thermo\\March_Hela_P035212_BA1_S00_A00_R14.ms_data.hdf - peptide_fdr.\n",
      "2022-12-03 22:23:17> Trying to match file F:/AP_Paper_Benchmark/PXD015087_Thermo\\March_Hela_P035212_BA1_S00_A00_R15.ms_data.hdf with database of 57,754 unidentified candidates\n",
      "2022-12-03 22:23:17> 41,591 possible features for matching based on distance of 3\n",
      "2022-12-03 22:23:53> 27,076 possible features for matching based on probability of 0.05\n",
      "2022-12-03 22:23:53> Saving F:/AP_Paper_Benchmark/PXD015087_Thermo\\March_Hela_P035212_BA1_S00_A00_R15.ms_data.hdf - peptide_fdr.\n",
      "2022-12-03 22:23:54> Trying to match file F:/AP_Paper_Benchmark/PXD015087_Thermo\\March_Hela_P035212_BA1_S00_A00_R16.ms_data.hdf with database of 57,489 unidentified candidates\n",
      "2022-12-03 22:23:54> 41,123 possible features for matching based on distance of 3\n",
      "2022-12-03 22:24:30> 24,832 possible features for matching based on probability of 0.05\n",
      "2022-12-03 22:24:30> Saving F:/AP_Paper_Benchmark/PXD015087_Thermo\\March_Hela_P035212_BA1_S00_A00_R16.ms_data.hdf - peptide_fdr.\n",
      "2022-12-03 22:24:30> Trying to match file F:/AP_Paper_Benchmark/PXD015087_Thermo\\March_Hela_P035212_BA1_S00_A00_R17.ms_data.hdf with database of 57,758 unidentified candidates\n",
      "2022-12-03 22:24:31> 41,452 possible features for matching based on distance of 3\n",
      "2022-12-03 22:25:07> 26,091 possible features for matching based on probability of 0.05\n",
      "2022-12-03 22:25:07> Saving F:/AP_Paper_Benchmark/PXD015087_Thermo\\March_Hela_P035212_BA1_S00_A00_R17.ms_data.hdf - peptide_fdr.\n",
      "2022-12-03 22:25:07> Trying to match file F:/AP_Paper_Benchmark/PXD015087_Thermo\\March_Hela_P035212_BA1_S00_A00_R18.ms_data.hdf with database of 57,708 unidentified candidates\n",
      "2022-12-03 22:25:08> 41,570 possible features for matching based on distance of 3\n",
      "2022-12-03 22:25:44> 28,383 possible features for matching based on probability of 0.05\n",
      "2022-12-03 22:25:44> Saving F:/AP_Paper_Benchmark/PXD015087_Thermo\\March_Hela_P035212_BA1_S00_A00_R18.ms_data.hdf - peptide_fdr.\n",
      "2022-12-03 22:25:44> Trying to match file F:/AP_Paper_Benchmark/PXD015087_Thermo\\March_Hela_P035212_BA1_S00_A00_R19.ms_data.hdf with database of 57,531 unidentified candidates\n",
      "2022-12-03 22:25:45> 41,804 possible features for matching based on distance of 3\n",
      "2022-12-03 22:26:21> 30,578 possible features for matching based on probability of 0.05\n",
      "2022-12-03 22:26:21> Saving F:/AP_Paper_Benchmark/PXD015087_Thermo\\March_Hela_P035212_BA1_S00_A00_R19.ms_data.hdf - peptide_fdr.\n",
      "2022-12-03 22:26:21> Trying to match file F:/AP_Paper_Benchmark/PXD015087_Thermo\\March_Hela_P035212_BA1_S00_A00_R2.ms_data.hdf with database of 57,505 unidentified candidates\n",
      "2022-12-03 22:26:22> 41,477 possible features for matching based on distance of 3\n",
      "2022-12-03 22:26:58> 26,174 possible features for matching based on probability of 0.05\n",
      "2022-12-03 22:26:58> Saving F:/AP_Paper_Benchmark/PXD015087_Thermo\\March_Hela_P035212_BA1_S00_A00_R2.ms_data.hdf - peptide_fdr.\n",
      "2022-12-03 22:26:58> Trying to match file F:/AP_Paper_Benchmark/PXD015087_Thermo\\March_Hela_P035212_BA1_S00_A00_R20.ms_data.hdf with database of 57,701 unidentified candidates\n",
      "2022-12-03 22:26:59> 41,976 possible features for matching based on distance of 3\n",
      "2022-12-03 22:27:35> 31,398 possible features for matching based on probability of 0.05\n",
      "2022-12-03 22:27:35> Saving F:/AP_Paper_Benchmark/PXD015087_Thermo\\March_Hela_P035212_BA1_S00_A00_R20.ms_data.hdf - peptide_fdr.\n",
      "2022-12-03 22:27:36> Trying to match file F:/AP_Paper_Benchmark/PXD015087_Thermo\\March_Hela_P035212_BA1_S00_A00_R3.ms_data.hdf with database of 57,288 unidentified candidates\n",
      "2022-12-03 22:27:36> 41,904 possible features for matching based on distance of 3\n",
      "2022-12-03 22:28:13> 31,652 possible features for matching based on probability of 0.05\n",
      "2022-12-03 22:28:13> Saving F:/AP_Paper_Benchmark/PXD015087_Thermo\\March_Hela_P035212_BA1_S00_A00_R3.ms_data.hdf - peptide_fdr.\n",
      "2022-12-03 22:28:13> Trying to match file F:/AP_Paper_Benchmark/PXD015087_Thermo\\March_Hela_P035212_BA1_S00_A00_R4.ms_data.hdf with database of 57,348 unidentified candidates\n",
      "2022-12-03 22:28:14> 41,931 possible features for matching based on distance of 3\n",
      "2022-12-03 22:28:50> 31,390 possible features for matching based on probability of 0.05\n",
      "2022-12-03 22:28:50> Saving F:/AP_Paper_Benchmark/PXD015087_Thermo\\March_Hela_P035212_BA1_S00_A00_R4.ms_data.hdf - peptide_fdr.\n",
      "2022-12-03 22:28:50> Trying to match file F:/AP_Paper_Benchmark/PXD015087_Thermo\\March_Hela_P035212_BA1_S00_A00_R5.ms_data.hdf with database of 57,839 unidentified candidates\n",
      "2022-12-03 22:28:51> 42,120 possible features for matching based on distance of 3\n",
      "2022-12-03 22:29:27> 29,969 possible features for matching based on probability of 0.05\n",
      "2022-12-03 22:29:27> Saving F:/AP_Paper_Benchmark/PXD015087_Thermo\\March_Hela_P035212_BA1_S00_A00_R5.ms_data.hdf - peptide_fdr.\n",
      "2022-12-03 22:29:28> Trying to match file F:/AP_Paper_Benchmark/PXD015087_Thermo\\March_Hela_P035212_BA1_S00_A00_R6.ms_data.hdf with database of 57,785 unidentified candidates\n",
      "2022-12-03 22:29:28> 42,312 possible features for matching based on distance of 3\n",
      "2022-12-03 22:30:05> 31,260 possible features for matching based on probability of 0.05\n"
     ]
    },
    {
     "name": "stdout",
     "output_type": "stream",
     "text": [
      "2022-12-03 22:30:05> Saving F:/AP_Paper_Benchmark/PXD015087_Thermo\\March_Hela_P035212_BA1_S00_A00_R6.ms_data.hdf - peptide_fdr.\n",
      "2022-12-03 22:30:05> Trying to match file F:/AP_Paper_Benchmark/PXD015087_Thermo\\March_Hela_P035212_BA1_S00_A00_R7.ms_data.hdf with database of 57,632 unidentified candidates\n",
      "2022-12-03 22:30:06> 42,269 possible features for matching based on distance of 3\n",
      "2022-12-03 22:30:43> 32,588 possible features for matching based on probability of 0.05\n",
      "2022-12-03 22:30:43> Saving F:/AP_Paper_Benchmark/PXD015087_Thermo\\March_Hela_P035212_BA1_S00_A00_R7.ms_data.hdf - peptide_fdr.\n",
      "2022-12-03 22:30:43> Trying to match file F:/AP_Paper_Benchmark/PXD015087_Thermo\\March_Hela_P035212_BA1_S00_A00_R8.ms_data.hdf with database of 57,692 unidentified candidates\n",
      "2022-12-03 22:30:44> 42,154 possible features for matching based on distance of 3\n",
      "2022-12-03 22:31:20> 29,338 possible features for matching based on probability of 0.05\n",
      "2022-12-03 22:31:20> Saving F:/AP_Paper_Benchmark/PXD015087_Thermo\\March_Hela_P035212_BA1_S00_A00_R8.ms_data.hdf - peptide_fdr.\n",
      "2022-12-03 22:31:21> Trying to match file F:/AP_Paper_Benchmark/PXD015087_Thermo\\March_Hela_P035212_BA1_S00_A00_R9.ms_data.hdf with database of 57,899 unidentified candidates\n",
      "2022-12-03 22:31:21> 42,202 possible features for matching based on distance of 3\n",
      "2022-12-03 22:31:58> 30,248 possible features for matching based on probability of 0.05\n",
      "2022-12-03 22:31:58> Saving F:/AP_Paper_Benchmark/PXD015087_Thermo\\March_Hela_P035212_BA1_S00_A00_R9.ms_data.hdf - peptide_fdr.\n",
      "2022-12-03 22:31:58> Matching complete.\n",
      "2022-12-03 22:31:59> ==== isobaric_labeling ====\n",
      "2022-12-03 22:31:59> ==== protein_grouping ====\n"
     ]
    },
    {
     "name": "stderr",
     "output_type": "stream",
     "text": [
      "\r",
      "  0%|                                                                                            | 0/1 [00:00<?, ?it/s]"
     ]
    },
    {
     "name": "stdout",
     "output_type": "stream",
     "text": [
      "2022-12-03 22:31:59> Fasta dict with length 88,601, Pept dict with length 5,886,832\n",
      "2022-12-03 22:31:59> Extracting protein groups.\n"
     ]
    },
    {
     "name": "stderr",
     "output_type": "stream",
     "text": [
      "\n",
      "  0%|                                                                                            | 0/1 [00:00<?, ?it/s]\u001b[A\n"
     ]
    },
    {
     "name": "stdout",
     "output_type": "stream",
     "text": [
      "2022-12-03 22:33:06> A total of 12,336 unique and 40,053 shared peptides.\n",
      "2022-12-03 22:33:22> A total of 5285 ambigious proteins\n",
      "2022-12-03 22:33:24> A total of 1,825 unique and 3,613 shared peptides.\n",
      "2022-12-03 22:33:25> A total of 2796 ambigious proteins\n",
      "2022-12-03 22:34:36> Global FDR on protein_group\n",
      "2022-12-03 22:34:42> 4,392 target (43 decoy) of 12,034 PSMs. FDR 0.009791 for a cutoff of 0.89 (set FDR was 0.01).\n",
      "2022-12-03 22:34:42> Global FDR cutoff at 0.890.\n",
      "2022-12-03 22:35:24> FDR on proteins complete. For 0.01 FDR found 7,143,038 targets and 6,246 decoys. A total of 4,455 proteins found.\n",
      "2022-12-03 22:35:55> Saving complete.\n",
      "2022-12-03 22:35:58> Protein groups complete.\n"
     ]
    },
    {
     "name": "stderr",
     "output_type": "stream",
     "text": [
      "\r",
      "  0%|                                                                                            | 0/1 [03:59<?, ?it/s]"
     ]
    },
    {
     "name": "stdout",
     "output_type": "stream",
     "text": [
      "2022-12-03 22:35:58> ==== quantification ====\n",
      "2022-12-03 22:35:58> Reading protein_fdr for quantification.\n"
     ]
    },
    {
     "name": "stderr",
     "output_type": "stream",
     "text": [
      "\n"
     ]
    },
    {
     "name": "stdout",
     "output_type": "stream",
     "text": [
      "2022-12-03 22:36:16> Delayed Normalization.\n",
      "2022-12-03 22:36:20> Setting minimum occurence to 187.0\n",
      "2022-12-03 22:36:24> Delayed normalization with SLSQP on (1, 200, 12749)\n",
      "2022-12-03 23:03:30> Saving protein_groups after delayed normalization to combined_protein_fdr_dn\n",
      "2022-12-03 23:03:50> Complete.\n",
      "2022-12-03 23:03:50> Starting profile extraction.\n"
     ]
    },
    {
     "name": "stderr",
     "output_type": "stream",
     "text": [
      "\r",
      "  0%|                                                                                            | 0/1 [00:00<?, ?it/s]"
     ]
    },
    {
     "name": "stdout",
     "output_type": "stream",
     "text": [
      "2022-12-03 23:03:57> Preparing protein table for parallel processing.\n"
     ]
    },
    {
     "name": "stderr",
     "output_type": "stream",
     "text": [
      " 20%|████████████▉                                                    | 0.19973063973063973/1 [01:12<04:06, 308.53s/it]"
     ]
    },
    {
     "name": "stdout",
     "output_type": "stream",
     "text": [
      "2022-12-03 23:05:03> Starting protein extraction for 4455 proteins.\n",
      "2022-12-03 23:05:03> AlphaPool was set to 24 processes. Setting max to 24.\n"
     ]
    },
    {
     "name": "stderr",
     "output_type": "stream",
     "text": [
      " 59%|██████████████████████████████████████                           | 0.5864421997755331/1 [18:14<12:24, 1799.46s/it]"
     ]
    },
    {
     "name": "stdout",
     "output_type": "stream",
     "text": [
      "2022-12-03 23:22:05> LFQ profile extraction for protein sp|Q9UKT5-2|FBX4_HUMAN,tr|D6RAU6|D6RAU6_HUMAN,tr|D6RAJ6|D6RAJ6_HUMAN,tr|D6REP2|D6REP2_HUMAN,sp|Q9UKT5|FBX4_HUMAN did not converge. Setting to zero.\n"
     ]
    },
    {
     "name": "stderr",
     "output_type": "stream",
     "text": [
      " 89%|█████████████████████████████████████████████████████████▉       | 0.8909988776655444/1 [31:08<03:11, 1755.26s/it]"
     ]
    },
    {
     "name": "stdout",
     "output_type": "stream",
     "text": [
      "2022-12-03 23:34:59> LFQ profile extraction for protein sp|Q9BYC8|RM32_HUMAN did not converge. Setting to zero.\n"
     ]
    },
    {
     "name": "stderr",
     "output_type": "stream",
     "text": [
      " 91%|███████████████████████████████████████████████████████████▏     | 0.9114702581369247/1 [31:48<02:53, 1957.78s/it]"
     ]
    },
    {
     "name": "stdout",
     "output_type": "stream",
     "text": [
      "2022-12-03 23:35:39> LFQ profile extraction for protein sp|O43293|DAPK3_HUMAN did not converge. Setting to zero.\n"
     ]
    },
    {
     "name": "stderr",
     "output_type": "stream",
     "text": [
      "100%|███████████████████████████████████████████████████████████████▉| 0.9994612794612794/1 [33:46<00:05, 10405.85s/it]"
     ]
    },
    {
     "name": "stdout",
     "output_type": "stream",
     "text": [
      "2022-12-03 23:38:34> LFQ profile extraction for protein tr|Q5T0R1|Q5T0R1_HUMAN,tr|Q5T0R4|Q5T0R4_HUMAN,tr|Q5T0R5|Q5T0R5_HUMAN,tr|Q5T0R2|Q5T0R2_HUMAN,tr|Q5T0R3|Q5T0R3_HUMAN,tr|Q5T0R6|Q5T0R6_HUMAN,tr|Q5T0R7|Q5T0R7_HUMAN,sp|Q01518|CAP1_HUMAN did not converge. Setting to zero.\n",
      "2022-12-03 23:38:40> LFQ complete.\n",
      "2022-12-03 23:38:42> Extracting protein_summary\n",
      "2022-12-03 23:38:50> Saved protein_summary of length 4,455 saved to F:\\AP_Paper_Benchmark\\PXD015087_Thermo\\results_protein_summary.csv\n",
      "2022-12-03 23:38:50> Updating protein_fdr.\n",
      "2022-12-03 23:39:12> Exporting as csv.\n",
      "2022-12-03 23:45:29> Saved df of length 7,149,284 saved to F:\\AP_Paper_Benchmark\\PXD015087_Thermo\\results\n"
     ]
    },
    {
     "name": "stderr",
     "output_type": "stream",
     "text": [
      "\r",
      "100%|████████████████████████████████████████████████████████████████████████████████| 1.0/1 [41:40<00:00, 2500.72s/it]"
     ]
    },
    {
     "name": "stdout",
     "output_type": "stream",
     "text": [
      "2022-12-03 23:45:31> ==== export ====\n"
     ]
    },
    {
     "name": "stderr",
     "output_type": "stream",
     "text": [
      "\n"
     ]
    },
    {
     "name": "stdout",
     "output_type": "stream",
     "text": [
      "2022-12-03 23:48:59> Settings saved to F:\\AP_Paper_Benchmark\\PXD015087_Thermo\\results.yaml\n",
      "2022-12-03 23:48:59> Analysis complete.\n"
     ]
    }
   ],
   "source": [
    "from alphapept.settings import load_settings\n",
    "from alphapept.paths import DEFAULT_SETTINGS_PATH\n",
    "\n",
    "settings = load_settings(DEFAULT_SETTINGS_PATH)\n",
    "\n",
    "settings['experiment']['file_paths'] =  raw_files\n",
    "settings['experiment']['fasta_paths'] = fasta_files\n",
    "settings['workflow']['match'] = True\n",
    "    \n",
    "import alphapept.interface\n",
    "\n",
    "settings_ = alphapept.interface.run_complete_workflow(settings)"
   ]
  },
  {
   "cell_type": "code",
   "execution_count": 1,
   "id": "169ee767",
   "metadata": {},
   "outputs": [],
   "source": [
    "from alphapept.settings import load_settings\n",
    "import numpy as np\n",
    "import os\n",
    "\n",
    "dark_blue = '#17212b'\n",
    "light_blue = '#3dc5ef'\n",
    "teal= '#42dee1'\n",
    "green = '#6eecb9'\n",
    "yellow = '#eef5b3'\n",
    "hfont = {'fontname':'Arial', 'size':10}\n",
    "\n",
    "colors = [dark_blue, light_blue, teal, green, yellow]\n",
    "\n",
    "alpha = 1"
   ]
  },
  {
   "cell_type": "code",
   "execution_count": 2,
   "id": "2737f843",
   "metadata": {},
   "outputs": [],
   "source": [
    "settings_ = load_settings('F:/AP_Paper_Benchmark/PXD015087_Thermo/results.yaml')"
   ]
  },
  {
   "cell_type": "code",
   "execution_count": 3,
   "id": "f95fcc8d",
   "metadata": {},
   "outputs": [
    {
     "name": "stdout",
     "output_type": "stream",
     "text": [
      "Time per sample 1.89 min\n"
     ]
    }
   ],
   "source": [
    "time_per_sample = settings_['summary']['timing']['total (min)']/200\n",
    "print(f'Time per sample {time_per_sample:.2f} min')"
   ]
  },
  {
   "cell_type": "code",
   "execution_count": 4,
   "id": "6512ab0f",
   "metadata": {},
   "outputs": [],
   "source": [
    "import matplotlib.pyplot as plt"
   ]
  },
  {
   "cell_type": "code",
   "execution_count": 5,
   "id": "2a40331a",
   "metadata": {},
   "outputs": [],
   "source": [
    "timing_dict = {'create_database (min)': 5.338901722431183,\n",
    " 'total (min)': 381.0330451885859,\n",
    " 'import_raw_data (min)': 11.689080838362376,\n",
    " 'feature_finding (min)': 157.74164400895435,\n",
    " 'search_data (min)': 12.123464330037434,\n",
    " 'recalibrate_data (min)': 9.606876130898794,\n",
    " 'search_data_2 (min)': 4.70838178396225,\n",
    " 'score (min)': 3.6437254985173544,\n",
    " 'align (min)': 18.264753234386443,\n",
    " 'match (min)': 80.91842937072119,\n",
    " 'isobaric_labeling (min)': 0.0,\n",
    " 'protein_grouping (min)': 3.986000645160675,\n",
    " 'quantification (min)': 69.54206638336181,\n",
    " 'export (min)': 3.4693341771761577}"
   ]
  },
  {
   "cell_type": "code",
   "execution_count": 6,
   "id": "5042d63d",
   "metadata": {},
   "outputs": [],
   "source": [
    "steps = [_ for _ in settings_['summary']['timing'] if _ != 'total (min)']\n",
    "\n",
    "steps = [_ for _ in steps if settings_['summary']['timing'][_]> 0]\n",
    "\n",
    "vals = [settings_['summary']['timing'][_] for _ in steps]\n",
    "\n",
    "steps_ = [_[:-6].replace('_', ' ') for _ in steps]"
   ]
  },
  {
   "cell_type": "code",
   "execution_count": 7,
   "id": "f3a1ce58",
   "metadata": {},
   "outputs": [
    {
     "data": {
      "image/png": "[encoded data removed]",
      "text/plain": [
       "<Figure size 236.3x236.3 with 1 Axes>"
      ]
     },
     "metadata": {},
     "output_type": "display_data"
    }
   ],
   "source": [
    "\n",
    "plt.figure(figsize=(2.363,2.363)) #60x60\n",
    "\n",
    "plt.plot(steps_, np.cumsum(vals), '+', color=colors[1])\n",
    "plt.plot(steps_, np.cumsum(vals), color=colors[1])\n",
    "plt.xticks(rotation = 90)\n",
    "\n",
    "plt.xticks(**hfont)\n",
    "plt.yticks(**hfont)\n",
    "#plt.xlabel('Step')\n",
    "plt.ylabel('Time (min)')\n",
    "plt.axhline(settings_['summary']['timing']['total (min)'], color='k', linestyle=\":\")\n",
    "\n",
    "plt.yticks([60,120,180,240,300,360,420])\n",
    "plt.tight_layout()\n",
    "plt.savefig('figures/07_200_Timing.pdf')  \n",
    "\n",
    "plt.show()"
   ]
  },
  {
   "cell_type": "code",
   "execution_count": 8,
   "id": "c7163ca7",
   "metadata": {},
   "outputs": [],
   "source": [
    "import pandas as pd\n",
    "import numpy as np"
   ]
  },
  {
   "cell_type": "code",
   "execution_count": 9,
   "id": "f4141f4a",
   "metadata": {},
   "outputs": [],
   "source": [
    "x = pd.read_hdf(settings_['experiment']['results_path'],'protein_table')"
   ]
  },
  {
   "cell_type": "code",
   "execution_count": 10,
   "id": "2d20cfd4",
   "metadata": {},
   "outputs": [],
   "source": [
    "x = x.loc[[_ for _ in x.index if 'REV' not in _]]\n",
    "\n",
    "lfq = [_ for _ in x.columns if _.endswith('LFQ')]\n",
    "no_lfq = [_ for _ in x.columns if not _.endswith('LFQ')]\n",
    "group = ['_'.join(os.path.split(_)[1][0:-16].split('_')[:-1]) for _ in lfq]\n",
    "lookup_dict = dict(zip(lfq, group))"
   ]
  },
  {
   "cell_type": "code",
   "execution_count": 11,
   "id": "3e7ce670",
   "metadata": {},
   "outputs": [],
   "source": [
    "transposed = x[lfq].T\n",
    "frame = transposed.unstack().to_frame().reset_index()\n",
    "frame.columns = ['protein_group','filename','intensity']\n",
    "frame['group'] = frame['filename'].apply(lambda x: lookup_dict[x])\n",
    "frame = frame[~frame['intensity'].isna()]\n",
    "grouped_ap = frame.groupby('group')['protein_group'].nunique()"
   ]
  },
  {
   "cell_type": "code",
   "execution_count": 12,
   "id": "d2c347af",
   "metadata": {},
   "outputs": [],
   "source": [
    "cv_ap = x[lfq].std(axis=1) / x[lfq].mean(axis=1)\n",
    "cv_ap = cv_ap.sort_values()\n",
    "cv_ap = cv_ap[~cv_ap.isna()]"
   ]
  },
  {
   "cell_type": "code",
   "execution_count": 13,
   "id": "c6e3f749",
   "metadata": {},
   "outputs": [],
   "source": [
    "cv_ap_no = x[no_lfq].std(axis=1) / x[no_lfq].mean(axis=1)\n",
    "cv_ap_no = cv_ap_no.sort_values()\n",
    "cv_ap_no = cv_ap_no[~cv_ap_no.isna()]"
   ]
  },
  {
   "cell_type": "code",
   "execution_count": 14,
   "id": "5cfa4693",
   "metadata": {},
   "outputs": [],
   "source": [
    "map_ = {}\n",
    "\n",
    "map_['Hela_P035210'] = 1\n",
    "map_['Hela_P035211'] = 2\n",
    "map_['Hela_P035213'] = 3\n",
    "map_['Hela_P035214'] = 4\n",
    "map_['Hela_P035215'] = 5\n",
    "map_['Hela_P035216'] = 6\n",
    "map_['Hela_P035217'] = 7\n",
    "map_['Hela_P035218'] = 8\n",
    "map_['Hela_P035219'] = 9\n",
    "map_['March_Hela_P035212'] = 10"
   ]
  },
  {
   "cell_type": "code",
   "execution_count": 15,
   "id": "d2380044",
   "metadata": {},
   "outputs": [
    {
     "data": {
      "image/png": "[encoded data removed]",
      "text/plain": [
       "<Figure size 236.3x236.3 with 1 Axes>"
      ]
     },
     "metadata": {},
     "output_type": "display_data"
    },
    {
     "name": "stdout",
     "output_type": "stream",
     "text": [
      "4228.3\n"
     ]
    }
   ],
   "source": [
    "import matplotlib.pyplot as plt\n",
    "dark_blue = '#17212b'\n",
    "light_blue = '#3dc5ef'\n",
    "teal= '#42dee1'\n",
    "green = '#6eecb9'\n",
    "yellow = '#eef5b3'\n",
    "hfont = {'fontname':'Arial', 'size':10}\n",
    "\n",
    "colors = [dark_blue, light_blue, teal, green, yellow]\n",
    "\n",
    "alpha = 1\n",
    "\n",
    "plt.figure(figsize=(2.363,2.363)) #60x60\n",
    "plt.bar([map_[_] for _ in grouped_ap.index], grouped_ap, alpha=alpha, color = colors[1], label = 'AlphaPept', edgecolor='black')\n",
    "\n",
    "plt.xticks(**hfont)\n",
    "plt.yticks(**hfont)\n",
    "plt.xlabel('Cycle')\n",
    "plt.ylabel('Unique Protein Groups')\n",
    "plt.tight_layout()\n",
    "#plt.legend(loc='lower left')\n",
    "plt.xticks([1,2,3,4,5,6,7,8,9,10])\n",
    "plt.savefig('figures/07_200_ProteinGroups.pdf')  \n",
    "\n",
    "plt.show()\n",
    "\n",
    "print(grouped_ap.mean())"
   ]
  },
  {
   "cell_type": "code",
   "execution_count": 16,
   "id": "09b69864",
   "metadata": {},
   "outputs": [
    {
     "name": "stdout",
     "output_type": "stream",
     "text": [
      "LFQ 0.24293461567304603 no LFQ 0.07734205845135629\n"
     ]
    },
    {
     "data": {
      "image/png": "[encoded data removed]",
      "text/plain": [
       "<Figure size 236.3x236.3 with 1 Axes>"
      ]
     },
     "metadata": {},
     "output_type": "display_data"
    }
   ],
   "source": [
    "plt.figure(figsize=(2.363,2.363)) #60x60\n",
    "\n",
    "plt.plot(cv_ap*100, np.arange(len(cv_ap)), label='LFQ', color = colors[1])\n",
    "plt.plot(cv_ap_no*100, np.arange(len(cv_ap_no)), label='noLFQ', color = colors[0])\n",
    "\n",
    "plt.xlabel('CV (%)')\n",
    "plt.ylabel('Protein Groups')\n",
    "plt.tight_layout()\n",
    "plt.legend(loc='lower right')\n",
    "plt.axvline(np.median(cv_ap_no)*100, color=colors[0], linestyle=\":\")\n",
    "plt.axvline(np.median(cv_ap)*100, color=colors[1], linestyle=\":\")\n",
    "plt.xlim([0,60])\n",
    "plt.xticks([0,20,40,60])\n",
    "\n",
    "plt.savefig('figures/07_200_ProteinGroups_CV.pdf')  \n",
    "\n",
    "print(f\"LFQ {np.median(cv_ap_no)} no LFQ {np.median(cv_ap)}\")\n",
    "\n",
    "plt.show()"
   ]
  },
  {
   "cell_type": "code",
   "execution_count": 17,
   "id": "1809a98e",
   "metadata": {},
   "outputs": [],
   "source": [
    "y = pd.read_hdf(settings_['experiment']['results_path'],'protein_fdr')"
   ]
  },
  {
   "cell_type": "code",
   "execution_count": 18,
   "id": "1d5f2792",
   "metadata": {},
   "outputs": [],
   "source": [
    "y = y[~y['sequence'].str.contains('_decoy')]\n",
    "y['group'] = y['filename'].apply(lambda x : '_'.join(os.path.split(x)[1][0:-16].split('_')[:-1]))\n",
    "grouped_peptides_ap = y.groupby(['group'])['precursor'].nunique()\n",
    "grouped_peptides_ap.index = [map_[_[:-8]] for _ in grouped_peptides_ap.index]\n",
    "\n",
    "y_no_match = y[y['type'] != 'matched']\n",
    "\n",
    "grouped_peptides_ap_no_match = y_no_match.groupby(['group'])['precursor'].nunique()\n",
    "grouped_peptides_ap_no_match.index = [map_[_[:-8]] for _ in grouped_peptides_ap_no_match.index]"
   ]
  },
  {
   "cell_type": "code",
   "execution_count": 19,
   "id": "f0181ed6",
   "metadata": {},
   "outputs": [
    {
     "data": {
      "image/png": "[encoded data removed]",
      "text/plain": [
       "<Figure size 236.3x236.3 with 1 Axes>"
      ]
     },
     "metadata": {},
     "output_type": "display_data"
    },
    {
     "name": "stdout",
     "output_type": "stream",
     "text": [
      "47040.7\n",
      "8694.2\n",
      "Match ratio 28.99 %\n"
     ]
    }
   ],
   "source": [
    "import matplotlib.pyplot as plt\n",
    "\n",
    "match_ap = grouped_peptides_ap-grouped_peptides_ap_no_match\n",
    "\n",
    "dark_blue = '#17212b'\n",
    "light_blue = '#3dc5ef'\n",
    "teal= '#42dee1'\n",
    "green = '#6eecb9'\n",
    "yellow = '#eef5b3'\n",
    "hfont = {'fontname':'Arial', 'size':10}\n",
    "\n",
    "colors = [dark_blue, light_blue, teal, green, yellow]\n",
    "\n",
    "alpha = 0.8\n",
    "\n",
    "plt.figure(figsize=(2.363,2.363)) #60x60\n",
    "\n",
    "\n",
    "plt.bar(match_ap.index, match_ap, bottom=grouped_peptides_ap_no_match,  alpha = 0.5*alpha, color = colors[1], label='Matched', edgecolor='black')\n",
    "plt.bar(grouped_peptides_ap_no_match.index, grouped_peptides_ap_no_match,  alpha=alpha, color = colors[1], edgecolor='black')\n",
    "\n",
    "\n",
    "plt.xticks(**hfont)\n",
    "plt.yticks(**hfont)\n",
    "plt.xticks([1,2,3,4,5,6,7,8,9,10])\n",
    "plt.xlabel('Cycle')\n",
    "plt.ylabel('Unique Precursors')\n",
    "plt.tight_layout()\n",
    "plt.legend(loc='lower left')\n",
    "plt.savefig('figures/07_200_Precursor.pdf')  \n",
    "\n",
    "plt.show()\n",
    "\n",
    "print(grouped_peptides_ap.mean())\n",
    "print((grouped_peptides_ap-grouped_peptides_ap_no_match).mean())\n",
    "match_ratio = ((grouped_peptides_ap/grouped_peptides_ap_no_match).mean())\n",
    "print(f\"Match ratio {(match_ratio-1)*100:.2f} %\")"
   ]
  },
  {
   "cell_type": "markdown",
   "id": "d439cfd0",
   "metadata": {},
   "source": [
    "# MaxQuant Comparison"
   ]
  },
  {
   "cell_type": "code",
   "execution_count": 20,
   "id": "05feffbf",
   "metadata": {},
   "outputs": [
    {
     "name": "stdout",
     "output_type": "stream",
     "text": [
      "Import complete\n"
     ]
    }
   ],
   "source": [
    "import pandas as pd\n",
    "pgs = pd.read_csv('E:/kuester/HeLa/LongTermStressTest_Hela_200injections_txt/proteinGroups.txt', sep='\\t', low_memory=False)\n",
    "evidence = pd.read_csv('E:/kuester/HeLa/LongTermStressTest_Hela_200injections_txt/evidence.txt', sep='\\t', low_memory=False)\n",
    "\n",
    "print('Import complete')"
   ]
  },
  {
   "cell_type": "code",
   "execution_count": 21,
   "id": "4066397e",
   "metadata": {},
   "outputs": [
    {
     "name": "stdout",
     "output_type": "stream",
     "text": [
      "3849.4\n"
     ]
    }
   ],
   "source": [
    "pgs = pgs[pgs['Reverse'] != '+']\n",
    "\n",
    "lfq = [_ for _ in pgs.columns if 'LFQ' in _]\n",
    "nolfq = [_ for _ in pgs.columns if 'Intensity ' in _]\n",
    "\n",
    "group =[int(_[19:].split('_')[0]) for _ in lfq]\n",
    "lookup_dict = dict(zip(lfq, group))\n",
    "\n",
    "pgs = pgs.replace(0,np.nan)\n",
    "\n",
    "transposed = pgs[lfq].T\n",
    "transposed.columns = pgs['Protein IDs']\n",
    "frame = transposed.unstack().to_frame()\n",
    "frame = frame.reset_index(drop=False)\n",
    "frame.columns = ['protein_group','filename','intensity']\n",
    "frame['group'] = frame['filename'].apply(lambda x: lookup_dict[x])\n",
    "frame = frame[~frame['intensity'].isna()]\n",
    "grouped_mq = frame.groupby('group')['protein_group'].nunique()\n",
    "\n",
    "cv_mq = (pgs[lfq].std(axis=1)) / (pgs[lfq].mean(axis=1))\n",
    "cv_mq = cv_mq.sort_values()\n",
    "cv_mq = cv_mq[~cv_mq.isna()]\n",
    "\n",
    "cv_mq_no = (pgs[nolfq].std(axis=1)) / (pgs[nolfq].mean(axis=1))\n",
    "cv_mq_no = cv_mq_no.sort_values()\n",
    "cv_mq_no = cv_mq_no[~cv_mq_no.isna()]\n",
    "\n",
    "print(grouped_mq.mean())\n"
   ]
  },
  {
   "cell_type": "code",
   "execution_count": 33,
   "id": "fdfef91e",
   "metadata": {},
   "outputs": [
    {
     "name": "stdout",
     "output_type": "stream",
     "text": [
      "55585.3\n",
      "43517.9\n",
      "12067.4\n",
      "Match ratio 31.46 %\n"
     ]
    }
   ],
   "source": [
    "evidence = evidence[evidence['Reverse'] != '+']\n",
    "evidence['group'] = evidence['Raw file'].apply(lambda x: map_['_'.join(x.split('_')[:-4])])\n",
    "evidence['precursor'] = evidence['Modified sequence'] + evidence['Charge'].astype('str')\n",
    "\n",
    "grouped_peptides_mq = evidence.groupby(['group'])['precursor'].nunique()\n",
    "evidence_no_match = evidence[evidence['Type'] != 'MULTI-MATCH']\n",
    "grouped_peptides_mq_no_match = evidence_no_match.groupby(['group'])['precursor'].nunique()\n",
    "\n",
    "print(grouped_peptides_mq.mean())\n",
    "print(grouped_peptides_mq_no_match.mean())\n",
    "print((grouped_peptides_mq-grouped_peptides_mq_no_match).mean())\n",
    "\n",
    "match_ratio = ((grouped_peptides_mq/grouped_peptides_mq_no_match).mean())\n",
    "print(f\"Match ratio {(match_ratio-1)*100:.2f} %\")"
   ]
  },
  {
   "cell_type": "code",
   "execution_count": null,
   "id": "387e9b5d",
   "metadata": {},
   "outputs": [],
   "source": []
  }
 ],
 "metadata": {
  "kernelspec": {
   "display_name": "Python 3 (ipykernel)",
   "language": "python",
   "name": "python3"
  },
  "language_info": {
   "codemirror_mode": {
    "name": "ipython",
    "version": 3
   },
   "file_extension": ".py",
   "mimetype": "text/x-python",
   "name": "python",
   "nbconvert_exporter": "python",
   "pygments_lexer": "ipython3",
   "version": "3.8.15"
  }
 },
 "nbformat": 4,
 "nbformat_minor": 5
}
