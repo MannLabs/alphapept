{
 "cells": [
  {
   "cell_type": "markdown",
   "id": "4d1bcb4c",
   "metadata": {},
   "source": [
    "# Paper Figure 2: IO\n",
    "Raw file accession times and pyRawFileReader interface\n",
    "\n",
    "This notebook converts raw files and shows accesion times."
   ]
  },
  {
   "cell_type": "code",
   "execution_count": 1,
   "id": "bbc3d32e",
   "metadata": {},
   "outputs": [],
   "source": [
    "import os\n",
    "from test_files import get_files, prepare_test\n",
    "\n",
    "multiple_file_test = ['PXD006109_HeLa12_1.raw','PXD006109_HeLa12_2.raw','PXD006109_HeLa12_3.raw','PXD006109_HeLa2_1.raw','PXD006109_HeLa2_2.raw','PXD006109_HeLa2_3.raw']"
   ]
  },
  {
   "cell_type": "code",
   "execution_count": 2,
   "id": "77c5fc8d",
   "metadata": {},
   "outputs": [],
   "source": [
    "tmp_folder = 'F:/projects/alphapept/sandbox/temp'\n",
    "test_folder = 'fig2'"
   ]
  },
  {
   "cell_type": "code",
   "execution_count": 3,
   "id": "b1c48110",
   "metadata": {},
   "outputs": [
    {
     "name": "stdout",
     "output_type": "stream",
     "text": [
      "Windows-10-10.0.19044-SP0\n",
      "Intel64 Family 6 Model 85 Stepping 4, GenuineIntel\n"
     ]
    }
   ],
   "source": [
    "import platform\n",
    "\n",
    "print(platform.platform())\n",
    "print(platform.processor())\n"
   ]
  },
  {
   "cell_type": "code",
   "execution_count": 4,
   "id": "2daa33ee",
   "metadata": {},
   "outputs": [
    {
     "name": "stdout",
     "output_type": "stream",
     "text": [
      "Creating dir F:/projects/alphapept/sandbox/temp\\fig2.\n"
     ]
    }
   ],
   "source": [
    "get_files(tmp_folder, multiple_file_test)\n",
    "prepare_test(multiple_file_test, tmp_folder, test_folder)"
   ]
  },
  {
   "cell_type": "code",
   "execution_count": 5,
   "id": "f73e8eca",
   "metadata": {},
   "outputs": [
    {
     "name": "stdout",
     "output_type": "stream",
     "text": [
      "File size of 'F:/projects/alphapept/sandbox/temp\\fig2\\PXD006109_HeLa12_1.raw' = 1.567 GB\n"
     ]
    }
   ],
   "source": [
    "raw_path = os.path.join(os.path.join(tmp_folder, test_folder, multiple_file_test[0]))\n",
    "print(f\"File size of '{raw_path}' = {os.path.getsize(raw_path)/1024/1024/1024:.3f} GB\")"
   ]
  },
  {
   "cell_type": "markdown",
   "id": "98639075",
   "metadata": {},
   "source": [
    "## Interfacing files with pyRawFileReader"
   ]
  },
  {
   "cell_type": "code",
   "execution_count": 6,
   "id": "959082fb",
   "metadata": {},
   "outputs": [],
   "source": [
    "from alphapept.pyrawfilereader import RawFileReader\n",
    "rawFile = RawFileReader(raw_path)"
   ]
  },
  {
   "cell_type": "markdown",
   "id": "8504cd47",
   "metadata": {},
   "source": [
    "### Metadata"
   ]
  },
  {
   "cell_type": "code",
   "execution_count": 7,
   "id": "c2f9f5ad",
   "metadata": {
    "scrolled": false
   },
   "outputs": [
    {
     "name": "stdout",
     "output_type": "stream",
     "text": [
      "First scan: 1\n",
      "Last scan: 92650\n",
      "Total spectra: 92650\n",
      "Start time: 0.0032707386\n",
      "End time: 100.00126\n",
      "GetFileName:  F:\\projects\\alphapept\\sandbox\\temp\\fig2\\PXD006109_HeLa12_1.raw\n",
      "GetCreatorID:  thermo\n",
      "                            Method of Q Exactive HF\r\n",
      "\r\n",
      "OVERALL METHOD SETTINGS\r\n",
      "\r\n",
      "Global Settings\r\n",
      "Use lock masses                                                          off \r\n",
      "Lock mass injection                                                        ― \r\n",
      "Chrom. peak width (FWHM)                                                  15 s\r\n",
      "Time\r\n",
      "Method duration                                                       100.00 min\r\n",
      "Customized Tolerances (+/-)\r\n",
      "Lock Masses                                                                ― \r\n",
      "Inclusion                                                                  ― \r\n",
      "Exclusion                                                                  ― \r\n",
      "Neutral Loss                                                               ― \r\n",
      "Mass Tags                                                                  ― \r\n",
      "Dynamic Exclusion                                                          ― \r\n",
      "\r\n",
      "\r\n",
      "                                   Experiment\r\n",
      "\r\n",
      "FULL MS / DD-MS² (TOPN)\r\n",
      "General\r\n",
      "Runtime                                                             0 to 100 min\r\n",
      "Polarity                                                            Positive \r\n",
      "In-source CID                                                            0.0 eV\r\n",
      "Default charge state                                                       2 \r\n",
      "Inclusion                                                                  ― \r\n",
      "Exclusion                                                                  ― \r\n",
      "Tags                                                                       ― \r\n",
      "Full MS\r\n",
      "Microscans                                                                 1 \r\n",
      "Resolution                                                            60,000 \r\n",
      "AGC target                                                               3e6 \r\n",
      "Maximum IT                                                                25 ms\r\n",
      "Number of scan ranges                                                      1 \r\n",
      "Scan range                                                       300 to 1650 m/z\r\n",
      "Spectrum data type                                                   Profile \r\n",
      "dd-MS² / dd-SIM\r\n",
      "Microscans                                                                 1 \r\n",
      "Resolution                                                            15,000 \r\n",
      "AGC target                                                               1e5 \r\n",
      "Maximum IT                                                                25 ms\r\n",
      "Loop count                                                                15 \r\n",
      "MSX count                                                                  1 \r\n",
      "TopN                                                                      15 \r\n",
      "Isolation window                                                         1.4 m/z\r\n",
      "Isolation offset                                                         0.0 m/z\r\n",
      "Scan range                                                       200 to 2000 m/z\r\n",
      "Fixed first mass                                                           ― \r\n",
      "(N)CE / stepped (N)CE                                                nce: 27 \r\n",
      "Spectrum data type                                                   Profile \r\n",
      "dd Settings\r\n",
      "Minimum AGC target                                                    1.00e3 \r\n",
      "Intensity threshold                                                    4.0e4 \r\n",
      "Apex trigger                                                               ― \r\n",
      "Charge exclusion                                    unassigned, 1, 6 - 8, >8 \r\n",
      "Peptide match                                                      Preferred \r\n",
      "Exclude isotopes                                                          on \r\n",
      "Dynamic exclusion                                                       30.0 s\r\n",
      "If idle ..                                                do not pick others \r\n",
      "\r\n",
      "                                     Setup\r\n",
      "\r\n",
      "TUNEFILES\r\n",
      "General\r\n",
      "Switch Count  0\r\n",
      "Base Tunefile C:\\Xcalibur\\methods\\20170503_nESI.mstune\r\n",
      "\r\n",
      "CONTACT CLOSURE\r\n",
      "General\r\n",
      "Used            False \r\n",
      "Start in Closed  True \r\n",
      "Switch Count        0 \r\n",
      "\r\n",
      "SYRINGE\r\n",
      "General\r\n",
      "Used                  False \r\n",
      "Start in OFF           True \r\n",
      "Stop at end of run    False \r\n",
      "Switch Count              0 \r\n",
      "Pump setup\r\n",
      "Syringe type       Hamilton \r\n",
      "Flow rate             3.000 µL/min\r\n",
      "Inner diameter        2.303 mm\r\n",
      "Volume                  250 µL\r\n",
      "\r\n",
      "DIVERT VALVE A\r\n",
      "General\r\n",
      "Used         False \r\n",
      "Start in 1-2  True \r\n",
      "Switch Count     0 \r\n",
      "\r\n",
      "DIVERT VALVE B\r\n",
      "General\r\n",
      "Used         False \r\n",
      "Start in 1-2  True \r\n",
      "Switch Count     0 \r\n",
      "\r\n",
      "LOCK MASSES\r\n",
      "   (no entries)\r\n",
      "\r\n",
      "INCLUSION LIST\r\n",
      "   (no entries)\r\n",
      "\r\n",
      "EXCLUSION LIST\r\n",
      "   (no entries)\r\n",
      "\r\n",
      "NEUTRAL LOSSES\r\n",
      "   (no entries)\r\n",
      "\r\n",
      "MASS TAGS\r\n",
      "   (no entries)\r\n",
      "\n"
     ]
    }
   ],
   "source": [
    "print(f\"First scan: {rawFile.FirstSpectrumNumber}\")\n",
    "print(f\"Last scan: {rawFile.LastSpectrumNumber}\")\n",
    "print(f\"Total spectra: {rawFile.NumSpectra}\")\n",
    "print(f\"Start time: {rawFile.StartTime}\")\n",
    "print(f\"End time: {rawFile.EndTime}\")\n",
    "\n",
    "print(\"GetFileName: \", rawFile.GetFileName())\n",
    "print(\"GetCreatorID: \", rawFile.GetCreatorID())\n",
    "\n",
    "try:\n",
    "    print(rawFile.source.GetInstrumentMethod(1)) # Error on MacOS\n",
    "except:\n",
    "    print(\"Count not access instrument method on macOS\")"
   ]
  },
  {
   "cell_type": "markdown",
   "id": "84c4d48d",
   "metadata": {},
   "source": [
    "### Accessing a single scan"
   ]
  },
  {
   "cell_type": "code",
   "execution_count": 8,
   "id": "7526a2f7",
   "metadata": {},
   "outputs": [
    {
     "name": "stdout",
     "output_type": "stream",
     "text": [
      "GetMSOrderForScanNum:  2\n",
      "GetScanEventForScanNum:  FTMS + p NSI d Full ms2 650.2769@hcd27.00 [89.6667-1345.0000]\n",
      "GetNumberOfSourceFragmentsFromScanNum:  1\n",
      "GetSourceFragmentValueFromScanNum:  0.0\n",
      "GetIsolationWidthForScanNum:  1.399999976158142\n",
      "GetCollisionEnergyForScanNum:  27.0\n",
      "GetActivationTypeForScanNum:  HCD\n",
      "GetPrecursorMassForScanNum:  650.2769165039062\n",
      "GetPrecursorRangeForScanNum:  (0.0, 0.0)\n",
      "GetMassAnalyzerTypeForScanNum:  None\n",
      "GetNumberOfMassCalibratorsFromScanNum:  5\n",
      "GetMassCalibrationValueFromScanNum:  0.0\n",
      "GetFirstSpectrumNumber:  1\n",
      "GetLastSpectrumNumber:  92650\n",
      "IsProfileScanForScanNum:  True\n",
      "IsCentroidScanForScanNum:  False\n",
      "RTFromScanNum:  14.874491\n",
      "ScanNumFromRT:  23811\n",
      "RTInSecondsFromScanNum:  892.46946\n",
      "ScanNumFromRTInSeconds:  209\n",
      "GetNumberOfMSOrdersFromScanNum:  1\n",
      "GetBasePeakForScanNum:  (650.3439919, 242916.78)\n"
     ]
    }
   ],
   "source": [
    "scanNumber = 10000\n",
    "print(\"GetMSOrderForScanNum: \", rawFile.GetMSOrderForScanNum(scanNumber))\n",
    "print(\"GetScanEventForScanNum: \", rawFile.GetScanEventStringForScanNum(scanNumber))\n",
    "print(\"GetNumberOfSourceFragmentsFromScanNum: \", rawFile.GetNumberOfSourceFragmentsFromScanNum(scanNumber))\n",
    "if rawFile.GetNumberOfSourceFragmentsFromScanNum(scanNumber) > 0:\n",
    "    print(\"GetSourceFragmentValueFromScanNum: \", rawFile.GetSourceFragmentValueFromScanNum(scanNumber, 0))\n",
    "if rawFile.GetMSOrderForScanNum(scanNumber) > 1:\n",
    "    print(\"GetIsolationWidthForScanNum: \", rawFile.GetIsolationWidthForScanNum(scanNumber))\n",
    "    print(\"GetCollisionEnergyForScanNum: \", rawFile.GetCollisionEnergyForScanNum(scanNumber))\n",
    "    print(\"GetActivationTypeForScanNum: \", rawFile.GetActivationTypeForScanNum(scanNumber))\n",
    "    print(\"GetPrecursorMassForScanNum: \", rawFile.GetPrecursorMassForScanNum(scanNumber))\n",
    "    print(\"GetPrecursorRangeForScanNum: \", rawFile.GetPrecursorRangeForScanNum(scanNumber))\n",
    "print(\"GetMassAnalyzerTypeForScanNum: \", rawFile.GetMassAnalyzerTypeForScanNum(scanNumber))\n",
    "print(\"GetNumberOfMassCalibratorsFromScanNum: \", rawFile.GetNumberOfMassCalibratorsFromScanNum(scanNumber))\n",
    "print(\"GetMassCalibrationValueFromScanNum: \", rawFile.GetMassCalibrationValueFromScanNum(scanNumber, 0))\n",
    "print(\"GetFirstSpectrumNumber: \", rawFile.GetFirstSpectrumNumber())\n",
    "print(\"GetLastSpectrumNumber: \", rawFile.GetLastSpectrumNumber())\n",
    "print(\"IsProfileScanForScanNum: \", rawFile.IsProfileScanForScanNum(scanNumber))\n",
    "print(\"IsCentroidScanForScanNum: \", rawFile.IsCentroidScanForScanNum(scanNumber))\n",
    "\n",
    "print(\"RTFromScanNum: \", rawFile.RTFromScanNum(scanNumber))\n",
    "print(\"ScanNumFromRT: \", rawFile.ScanNumFromRT(30))\n",
    "print(\"RTInSecondsFromScanNum: \", rawFile.RTInSecondsFromScanNum(scanNumber))\n",
    "print(\"ScanNumFromRTInSeconds: \", rawFile.ScanNumFromRTInSeconds(30))\n",
    "\n",
    "print(\"GetNumberOfMSOrdersFromScanNum: \", rawFile.GetNumberOfMSOrdersFromScanNum(scanNumber))\n",
    "print(\"GetBasePeakForScanNum: \", rawFile.GetBasePeakForScanNum(scanNumber))"
   ]
  },
  {
   "cell_type": "code",
   "execution_count": 9,
   "id": "274ebbd7",
   "metadata": {},
   "outputs": [
    {
     "name": "stdout",
     "output_type": "stream",
     "text": [
      "GetTrailerExtraForScanNum:  {'Multiple Injection:': 'h ', 'Multi Inject Info:': 'IT=25 ', 'AGC:': 'On', 'Micro Scan Count:': '1', 'Scan Segment:': '1', 'Scan Event:': '2', 'Master Index:': '1', 'Charge State:': '2', 'Monoisotopic M/Z:': '0.0000', 'Ion Injection Time (ms):': '25.000', 'Max. Ion Time (ms):': '25.00', 'FT Resolution:': '15000', 'MS2 Isolation Width:': '1.40', 'MS2 Isolation Offset:': '0.00', 'AGC Target:': '100000', 'HCD Energy:': '27.00', 'Analyzer Temperature:': '25.57', '=== Mass Calibration: ===:': '', 'Conversion Parameter B:': '211751921.7967', 'Conversion Parameter C:': '-52128889.3883', 'Temperature Comp. (ppm):': '-0.65', 'RF Comp. (ppm):': '0.00', 'Space Charge Comp. (ppm):': '-0.02', 'Resolution Comp. (ppm):': '0.04', 'Number of Lock Masses:': '0', 'Lock Mass #1 (m/z):': '0.0000', 'Lock Mass #2 (m/z):': '0.0000', 'Lock Mass #3 (m/z):': '0.0000', 'LM Search Window (ppm):': '0.0', 'LM Search Window (mmu):': '0.0', 'Number of LM Found:': '0', 'Last Locking (sec):': '0.0', 'LM m/z-Correction (ppm):': '0.00', '=== Ion Optics Settings: ===:': '', 'S-Lens RF Level:': '60.00', 'S-Lens Voltage (V):': '21.00', 'Skimmer Voltage (V):': '15.00', 'Inject Flatapole Offset (V):': '5.00', 'Bent Flatapole DC (V):': '2.00', 'MP2 and MP3 RF (V):': '487.00', 'Gate Lens Voltage (V):': '1.63', 'C-Trap RF (V):': '900.0', '====  Diagnostic Data:  ====:': '', 'Intens Comp Factor:': '0.5737', 'Res. Dep. Intens:': '1.520', 'CTCD NumF:': '0', 'CTCD Comp:': '1.150', 'CTCD ScScr:': '0.000', 'RawOvFtT:': '42848.5', 'PhiSDM State:': 'Off', 'PhiSDM Windows:': '', 'PhiSDM Iterations:': '50', 'PhiSDM Fidelity:': '1.00', 'LC FWHM parameter:': '15.0', 'Rod:': '0', 'PS Inj. Time (ms):': '0.160', 'AGC PS Mode:': '-7', 'AGC PS Diag:': '0', 'HCD Energy eV:': '31.603', 'AGC Fill:': '0.27', 'Injection t0:': '0.000', 't0 FLP:': '0.00', 'Access Id:': '0', 'Analog Input 1 (V):': '0.000', 'Analog Input 2 (V):': '0.000', 'Custom V1.20170327 for QuadClean:': ''}\n"
     ]
    }
   ],
   "source": [
    "print(\"GetTrailerExtraForScanNum: \", rawFile.GetTrailerExtraForScanNum(scanNumber))"
   ]
  },
  {
   "cell_type": "code",
   "execution_count": 10,
   "id": "ffa2fccf",
   "metadata": {},
   "outputs": [
    {
     "name": "stdout",
     "output_type": "stream",
     "text": [
      "masses [ 101.07131958  106.05017853  106.28302765  110.07151031  129.10220337\n",
      "  136.07565308  147.11235046  156.07362366  169.09700012  187.10772705\n",
      "  193.97605896  204.1350708   207.01774597  215.10255432  219.13264465\n",
      "  230.07609558  266.12301636  272.17062378  273.1736145   323.42163086\n",
      "  329.14291382  343.15542603  345.10177612  365.19311523  390.13040161\n",
      "  392.23382568  395.16445923  444.16860962  474.1545105   484.24813843\n",
      "  509.20657349  583.75164795  613.29223633  622.28826904  632.30969238\n",
      "  638.24108887  649.81646729  650.34399414  651.30206299  727.33856201\n",
      "  753.27416992  838.36077881  854.28295898  856.37255859  866.37121582\n",
      "  867.32226562  953.36047363  954.36053467  971.39764404  982.33898926\n",
      " 1068.40710449 1085.43310547 1086.44177246 1095.43969727 1183.45373535\n",
      " 1200.46228027 1201.4708252 ]\n",
      "intensities [  9817.5234375   20783.8203125    5325.89306641  26432.38085938\n",
      "  12011.63378906   6990.6484375   21516.33398438   4777.22949219\n",
      "  30521.54882812  53889.47265625   4654.40478516   6607.00585938\n",
      "   9254.515625    72776.7421875    7564.57373047  18845.546875\n",
      "   6431.42724609  27104.33789062   7464.96044922   5389.84570312\n",
      "   5572.21142578   5476.63525391   5597.46337891   6571.93408203\n",
      "   9228.83203125   5640.94042969   6412.34667969   5985.51953125\n",
      "   5881.46533203  27507.0078125   10499.47167969   5387.63427734\n",
      "   6458.88378906   5390.37890625  27279.05664062   6193.71337891\n",
      "  54275.44140625 242916.78125      5127.47607422  10713.08984375\n",
      "   5443.06005859   5285.78320312   5130.95507812  10652.89746094\n",
      "   6234.07568359  24037.16992188   6024.48583984   5788.38085938\n",
      "  20914.16992188  20802.88671875   8172.31787109  26426.18554688\n",
      "  10036.21972656   8012.46630859   9885.30078125  30333.58789062\n",
      "   9747.12792969]\n"
     ]
    },
    {
     "data": {
      "image/png": "[encoded data removed]",
      "text/plain": [
       "<Figure size 1000x500 with 1 Axes>"
      ]
     },
     "metadata": {},
     "output_type": "display_data"
    }
   ],
   "source": [
    "import matplotlib.pyplot as plt\n",
    "\n",
    "masses, intens = rawFile.GetCentroidMassListFromScanNum(scanNumber)\n",
    "\n",
    "print(f'masses {masses}')\n",
    "print(f'intensities {intens}')\n",
    "\n",
    "plt.figure(figsize=(10,5))\n",
    "plt.vlines(masses, intens, 0)\n",
    "plt.title(f'scanNumber {scanNumber}')\n",
    "plt.show()"
   ]
  },
  {
   "cell_type": "markdown",
   "id": "9ccf92d0",
   "metadata": {},
   "source": [
    "### Loading file to RAM"
   ]
  },
  {
   "cell_type": "code",
   "execution_count": 11,
   "id": "0a498121",
   "metadata": {},
   "outputs": [],
   "source": [
    "import time\n",
    "\n",
    "from alphapept.io import load_thermo_raw\n",
    "from alphapept.interface import import_raw_data\n",
    "\n",
    "time_list = []\n",
    "\n",
    "\n",
    "def ram_test():\n",
    "    start_time = time.perf_counter()\n",
    "    _ = load_thermo_raw(raw_path, n_most_abundant = 1000)\n",
    "    end_time = time.perf_counter()\n",
    "    _size = os.path.getsize(raw_path)/1024/1024/1024\n",
    "    _time = end_time-start_time\n",
    "    time_list.append([f'RAW to RAM (N=1, {_size:.1f}GB)', _time])\n",
    "    print(f\"Converting all raw files into HDF takes {end_time-start_time:.3f} seconds ({(end_time-start_time)/60:.3f} minutes)\")"
   ]
  },
  {
   "cell_type": "markdown",
   "id": "d9475f2d",
   "metadata": {},
   "source": [
    "### Loading using AlphaPept"
   ]
  },
  {
   "cell_type": "code",
   "execution_count": 12,
   "id": "742bf4e2",
   "metadata": {},
   "outputs": [],
   "source": [
    "def print_data_info(settings):\n",
    "    total_size = 0\n",
    "    print(f\"{len(settings['experiment']['file_paths'])} raw files\")\n",
    "    for raw_path in settings['experiment']['file_paths']:\n",
    "        _size = os.path.getsize(raw_path)/1024/1024/1024\n",
    "        total_size += _size\n",
    "        print(f\"File size of '{raw_path}' = {_size:.3f} GB\")\n",
    "    print(f'Total size = {total_size:.3f} GB')\n",
    "    return total_size\n"
   ]
  },
  {
   "cell_type": "code",
   "execution_count": 13,
   "id": "8442e2fb",
   "metadata": {},
   "outputs": [],
   "source": [
    "def load_alphapept():\n",
    "    settings = {}\n",
    "    settings['experiment'] = {}\n",
    "    settings['experiment']['file_paths'] = []\n",
    "    settings['general'] = {}\n",
    "    settings['general']['n_processes'] = 1\n",
    "    settings['raw'] = {}\n",
    "    settings['raw']['n_most_abundant'] = 1000\n",
    "\n",
    "    settings['experiment']['file_paths'] = []\n",
    "    settings['experiment']['file_paths'].append(raw_path)\n",
    "\n",
    "    try:\n",
    "        os.remove(raw_path[:-3]+'ms_data.hdf')\n",
    "    except:\n",
    "        pass\n",
    "\n",
    "    start_time = time.perf_counter()\n",
    "    import_raw_data(settings, settings_parsed=True)\n",
    "    end_time = time.perf_counter()\n",
    "    _size = print_data_info(settings)\n",
    "    _time = end_time-start_time\n",
    "    time_list.append([f'RAW to HDF (N=1, {_size:.1f}GB)', _time])\n",
    "    print(f\"Converting all raw files into HDF takes {end_time-start_time:.3f} seconds ({(end_time-start_time)/60:.3f} minutes)\")"
   ]
  },
  {
   "cell_type": "code",
   "execution_count": 14,
   "id": "c9665c88",
   "metadata": {},
   "outputs": [],
   "source": [
    "import alphapept.io\n",
    "\n",
    "def load_hdf(hdf_file):\n",
    "    start_time = time.perf_counter()\n",
    "    _reader = alphapept.io.MS_Data_File(hdf_file)\n",
    "    query_data = _reader.read_DDA_query_data()\n",
    "    end_time = time.perf_counter()\n",
    "    _size = os.path.getsize(hdf_file[:-len('ms_data.hdf')]+'raw')/1024/1024/1024\n",
    "    _time = end_time-start_time\n",
    "    time_list.append([f'HDF to RAM (N=1, {_size:.1f}GB)', _time])\n",
    "    print(f\"Loading {hdf_file} takes {end_time-start_time:.3f} seconds ({(end_time-start_time)/60:.3f} minutes)\")\n",
    "    return query_data\n",
    "\n",
    "\n",
    "def test_load_hdf():\n",
    "    _ = load_hdf(raw_path[:-3]+'ms_data.hdf')"
   ]
  },
  {
   "cell_type": "markdown",
   "id": "31259d9c",
   "metadata": {},
   "source": [
    "### Parallelized version"
   ]
  },
  {
   "cell_type": "markdown",
   "id": "6ca2eb50",
   "metadata": {},
   "source": [
    "#### Single Core"
   ]
  },
  {
   "cell_type": "code",
   "execution_count": 15,
   "id": "f66e6928",
   "metadata": {},
   "outputs": [],
   "source": [
    "def test_single_core():\n",
    "    settings = {}\n",
    "    settings['experiment'] = {}\n",
    "    settings['experiment']['file_paths'] = []\n",
    "    settings['general'] = {}\n",
    "    settings['general']['n_processes'] = 1\n",
    "    settings['raw'] = {}\n",
    "    settings['raw']['n_most_abundant'] = 1000\n",
    "\n",
    "    settings['experiment']['file_paths'] = []\n",
    "    for raw in multiple_file_test:\n",
    "        settings['experiment']['file_paths'].append(os.path.join(os.path.join(tmp_folder, test_folder, raw)))\n",
    "\n",
    "    cpu = 1\n",
    "    settings['general']['n_processes'] = cpu\n",
    "    for raw in settings['experiment']['file_paths']:\n",
    "        try:\n",
    "            os.remove(raw[:-4]+'.ms_data.hdf')\n",
    "        except:\n",
    "            pass\n",
    "\n",
    "\n",
    "    start_time = time.perf_counter()\n",
    "    import_raw_data(settings, settings_parsed=True)\n",
    "    end_time = time.perf_counter()\n",
    "    _size = print_data_info(settings)\n",
    "    _time = end_time-start_time\n",
    "    N = len(settings['experiment']['file_paths'])\n",
    "    time_list.append([f'RAW to HDF (N={N}, {_size:.1f}GB, CPU={cpu})', _time])\n",
    "    print(f\"Converting all raw files into HDF takes {end_time-start_time:.3f} seconds ({(end_time-start_time)/60:.3f} minutes)\")"
   ]
  },
  {
   "cell_type": "markdown",
   "id": "b6811d08",
   "metadata": {},
   "source": [
    "#### Multicore"
   ]
  },
  {
   "cell_type": "code",
   "execution_count": 16,
   "id": "71b96066",
   "metadata": {},
   "outputs": [],
   "source": [
    "def test_multicore():\n",
    "    settings = {}\n",
    "    settings['experiment'] = {}\n",
    "    settings['experiment']['file_paths'] = []\n",
    "    settings['general'] = {}\n",
    "    settings['general']['n_processes'] = 1\n",
    "    settings['raw'] = {}\n",
    "    settings['raw']['n_most_abundant'] = 1000\n",
    "\n",
    "    settings['experiment']['file_paths'] = []\n",
    "    for raw in multiple_file_test:\n",
    "        settings['experiment']['file_paths'].append(os.path.join(os.path.join(tmp_folder, test_folder, raw)))\n",
    "\n",
    "    \n",
    "    cpu = 6\n",
    "    settings['general']['n_processes'] = cpu\n",
    "    for raw in settings['experiment']['file_paths']:\n",
    "        try:\n",
    "            os.remove(raw[:-4]+'.ms_data.hdf')\n",
    "        except:\n",
    "            pass\n",
    "\n",
    "    start_time = time.perf_counter()\n",
    "    import_raw_data(settings, settings_parsed=True)\n",
    "    end_time = time.perf_counter()\n",
    "    _size = print_data_info(settings)\n",
    "    _time = end_time-start_time\n",
    "    N = len(settings['experiment']['file_paths'])\n",
    "    time_list.append([f'RAW to HDF (N={N}, {_size:.1f}GB, CPU={cpu})', _time])\n",
    "    print(f\"Converting all raw files into HDF takes {end_time-start_time:.3f} seconds ({(end_time-start_time)/60:.3f} minutes)\")"
   ]
  },
  {
   "cell_type": "code",
   "execution_count": 17,
   "id": "fd7e4542",
   "metadata": {},
   "outputs": [
    {
     "name": "stdout",
     "output_type": "stream",
     "text": [
      "Converting all raw files into HDF takes 62.746 seconds (1.046 minutes)\n",
      "2022-12-01 15:02:54> Logging to C:\\Users\\admin\\alphapept\\logs\\log_20221201150254.txt.\n",
      "2022-12-01 15:02:54> Code location f:\\projects\\alphapept\\alphapept\n",
      "2022-12-01 15:02:54> Python location C:\\Users\\admin\\.conda\\envs\\alphapept\\python.exe\n"
     ]
    },
    {
     "name": "stderr",
     "output_type": "stream",
     "text": [
      "\r",
      "  0%|                                                                                            | 0/1 [00:00<?, ?it/s]"
     ]
    },
    {
     "name": "stdout",
     "output_type": "stream",
     "text": [
      "2022-12-01 15:02:54> Processing 1 files for step raw_conversion\n",
      "2022-12-01 15:02:54> File F:/projects/alphapept/sandbox/temp\\fig2\\PXD006109_HeLa12_1 has extension .raw - converting from Thermo.\n",
      "2022-12-01 15:03:56> File conversion complete. Extracted 82,848 precursors.\n",
      "2022-12-01 15:03:57> File conversion of file F:/projects/alphapept/sandbox/temp\\fig2\\PXD006109_HeLa12_1.raw complete.\n"
     ]
    },
    {
     "name": "stderr",
     "output_type": "stream",
     "text": [
      "\r",
      "  0%|                                                                                            | 0/1 [01:03<?, ?it/s]"
     ]
    },
    {
     "name": "stdout",
     "output_type": "stream",
     "text": [
      "1 raw files\n",
      "File size of 'F:/projects/alphapept/sandbox/temp\\fig2\\PXD006109_HeLa12_1.raw' = 1.567 GB\n",
      "Total size = 1.567 GB\n",
      "Converting all raw files into HDF takes 63.460 seconds (1.058 minutes)\n",
      "Loading F:/projects/alphapept/sandbox/temp\\fig2\\PXD006109_HeLa12_1.ms_data.hdf takes 0.185 seconds (0.003 minutes)\n"
     ]
    },
    {
     "name": "stderr",
     "output_type": "stream",
     "text": [
      "\n"
     ]
    },
    {
     "name": "stdout",
     "output_type": "stream",
     "text": [
      "2022-12-01 15:03:57> Logging to C:\\Users\\admin\\alphapept\\logs\\log_20221201150357.txt.\n",
      "2022-12-01 15:03:57> Code location f:\\projects\\alphapept\\alphapept\n",
      "2022-12-01 15:03:57> Python location C:\\Users\\admin\\.conda\\envs\\alphapept\\python.exe\n"
     ]
    },
    {
     "name": "stderr",
     "output_type": "stream",
     "text": [
      "\r",
      "  0%|                                                                                            | 0/1 [00:00<?, ?it/s]"
     ]
    },
    {
     "name": "stdout",
     "output_type": "stream",
     "text": [
      "2022-12-01 15:03:57> Processing 6 files for step raw_conversion\n",
      "2022-12-01 15:03:57> AlphaPool was set to 1 processes. Setting max to 1.\n",
      "2022-12-01 15:05:11> Processing of F:/projects/alphapept/sandbox/temp\\fig2\\PXD006109_HeLa12_1.raw for step raw_conversion succeeded. 16.67 %\n"
     ]
    },
    {
     "name": "stderr",
     "output_type": "stream",
     "text": [
      "\r",
      " 17%|██████████▊                                                      | 0.16666666666666666/1 [01:13<06:09, 443.50s/it]"
     ]
    },
    {
     "name": "stdout",
     "output_type": "stream",
     "text": [
      "2022-12-01 15:06:12> Processing of F:/projects/alphapept/sandbox/temp\\fig2\\PXD006109_HeLa12_2.raw for step raw_conversion succeeded. 33.33 %\n"
     ]
    },
    {
     "name": "stderr",
     "output_type": "stream",
     "text": [
      "\r",
      " 33%|██████████████████████                                            | 0.3333333333333333/1 [02:14<04:23, 395.28s/it]"
     ]
    },
    {
     "name": "stdout",
     "output_type": "stream",
     "text": [
      "2022-12-01 15:07:13> Processing of F:/projects/alphapept/sandbox/temp\\fig2\\PXD006109_HeLa12_3.raw for step raw_conversion succeeded. 50.00 %\n"
     ]
    },
    {
     "name": "stderr",
     "output_type": "stream",
     "text": [
      "\r",
      " 50%|████████████████████████████████████████▌                                        | 0.5/1 [03:15<03:11, 382.30s/it]"
     ]
    },
    {
     "name": "stdout",
     "output_type": "stream",
     "text": [
      "2022-12-01 15:08:12> Processing of F:/projects/alphapept/sandbox/temp\\fig2\\PXD006109_HeLa2_1.raw for step raw_conversion succeeded. 66.67 %\n"
     ]
    },
    {
     "name": "stderr",
     "output_type": "stream",
     "text": [
      "\r",
      " 67%|████████████████████████████████████████████                      | 0.6666666666666666/1 [04:15<02:04, 372.80s/it]"
     ]
    },
    {
     "name": "stdout",
     "output_type": "stream",
     "text": [
      "2022-12-01 15:09:10> Processing of F:/projects/alphapept/sandbox/temp\\fig2\\PXD006109_HeLa2_2.raw for step raw_conversion succeeded. 83.33 %\n"
     ]
    },
    {
     "name": "stderr",
     "output_type": "stream",
     "text": [
      "\r",
      " 83%|███████████████████████████████████████████████████████           | 0.8333333333333334/1 [05:13<01:00, 363.84s/it]"
     ]
    },
    {
     "name": "stdout",
     "output_type": "stream",
     "text": [
      "2022-12-01 15:10:08> Processing of F:/projects/alphapept/sandbox/temp\\fig2\\PXD006109_HeLa2_3.raw for step raw_conversion succeeded. 100.00 %\n"
     ]
    },
    {
     "name": "stderr",
     "output_type": "stream",
     "text": [
      "100%|█████████████████████████████████████████████████████████████████████████████████| 1.0/1 [06:11<00:00, 371.08s/it]"
     ]
    },
    {
     "name": "stdout",
     "output_type": "stream",
     "text": [
      "6 raw files\n",
      "File size of 'F:/projects/alphapept/sandbox/temp\\fig2\\PXD006109_HeLa12_1.raw' = 1.567 GB\n",
      "File size of 'F:/projects/alphapept/sandbox/temp\\fig2\\PXD006109_HeLa12_2.raw' = 1.503 GB\n",
      "File size of 'F:/projects/alphapept/sandbox/temp\\fig2\\PXD006109_HeLa12_3.raw' = 1.511 GB\n",
      "File size of 'F:/projects/alphapept/sandbox/temp\\fig2\\PXD006109_HeLa2_1.raw' = 1.608 GB\n",
      "File size of 'F:/projects/alphapept/sandbox/temp\\fig2\\PXD006109_HeLa2_2.raw' = 1.510 GB\n",
      "File size of 'F:/projects/alphapept/sandbox/temp\\fig2\\PXD006109_HeLa2_3.raw' = 1.515 GB\n",
      "Total size = 9.214 GB\n",
      "Converting all raw files into HDF takes 371.086 seconds (6.185 minutes)\n"
     ]
    },
    {
     "name": "stderr",
     "output_type": "stream",
     "text": [
      "\n"
     ]
    },
    {
     "name": "stdout",
     "output_type": "stream",
     "text": [
      "2022-12-01 15:10:09> Logging to C:\\Users\\admin\\alphapept\\logs\\log_20221201151009.txt.\n",
      "2022-12-01 15:10:09> Code location f:\\projects\\alphapept\\alphapept\n",
      "2022-12-01 15:10:09> Python location C:\\Users\\admin\\.conda\\envs\\alphapept\\python.exe\n"
     ]
    },
    {
     "name": "stderr",
     "output_type": "stream",
     "text": [
      "\r",
      "  0%|                                                                                            | 0/1 [00:00<?, ?it/s]"
     ]
    },
    {
     "name": "stdout",
     "output_type": "stream",
     "text": [
      "2022-12-01 15:10:09> Processing 6 files for step raw_conversion\n",
      "2022-12-01 15:10:09> AlphaPool was set to 6 processes. Setting max to 6.\n",
      "2022-12-01 15:11:24> Processing of F:/projects/alphapept/sandbox/temp\\fig2\\PXD006109_HeLa12_1.raw for step raw_conversion succeeded. 16.67 %\n"
     ]
    },
    {
     "name": "stderr",
     "output_type": "stream",
     "text": [
      "\r",
      " 17%|██████████▊                                                      | 0.16666666666666666/1 [01:15<06:19, 455.18s/it]"
     ]
    },
    {
     "name": "stdout",
     "output_type": "stream",
     "text": [
      "2022-12-01 15:11:24> Processing of F:/projects/alphapept/sandbox/temp\\fig2\\PXD006109_HeLa12_2.raw for step raw_conversion succeeded. 33.33 %\n",
      "2022-12-01 15:11:24> Processing of F:/projects/alphapept/sandbox/temp\\fig2\\PXD006109_HeLa12_3.raw for step raw_conversion succeeded. 50.00 %\n",
      "2022-12-01 15:11:25> Processing of F:/projects/alphapept/sandbox/temp\\fig2\\PXD006109_HeLa2_1.raw for step raw_conversion succeeded. 66.67 %\n"
     ]
    },
    {
     "name": "stderr",
     "output_type": "stream",
     "text": [
      "\r",
      " 67%|████████████████████████████████████████████▋                      | 0.6666666666666666/1 [01:16<00:29, 87.69s/it]"
     ]
    },
    {
     "name": "stdout",
     "output_type": "stream",
     "text": [
      "2022-12-01 15:11:25> Processing of F:/projects/alphapept/sandbox/temp\\fig2\\PXD006109_HeLa2_2.raw for step raw_conversion succeeded. 83.33 %\n",
      "2022-12-01 15:11:25> Processing of F:/projects/alphapept/sandbox/temp\\fig2\\PXD006109_HeLa2_3.raw for step raw_conversion succeeded. 100.00 %\n"
     ]
    },
    {
     "name": "stderr",
     "output_type": "stream",
     "text": [
      "100%|██████████████████████████████████████████████████████████████████████████████████| 1.0/1 [01:17<00:00, 77.04s/it]\n"
     ]
    },
    {
     "name": "stdout",
     "output_type": "stream",
     "text": [
      "6 raw files\n",
      "File size of 'F:/projects/alphapept/sandbox/temp\\fig2\\PXD006109_HeLa12_1.raw' = 1.567 GB\n",
      "File size of 'F:/projects/alphapept/sandbox/temp\\fig2\\PXD006109_HeLa12_2.raw' = 1.503 GB\n",
      "File size of 'F:/projects/alphapept/sandbox/temp\\fig2\\PXD006109_HeLa12_3.raw' = 1.511 GB\n",
      "File size of 'F:/projects/alphapept/sandbox/temp\\fig2\\PXD006109_HeLa2_1.raw' = 1.608 GB\n",
      "File size of 'F:/projects/alphapept/sandbox/temp\\fig2\\PXD006109_HeLa2_2.raw' = 1.510 GB\n",
      "File size of 'F:/projects/alphapept/sandbox/temp\\fig2\\PXD006109_HeLa2_3.raw' = 1.515 GB\n",
      "Total size = 9.214 GB\n",
      "Converting all raw files into HDF takes 77.062 seconds (1.284 minutes)\n",
      "Converting all raw files into HDF takes 59.500 seconds (0.992 minutes)\n",
      "2022-12-01 15:12:25> Logging to C:\\Users\\admin\\alphapept\\logs\\log_20221201151225.txt.\n",
      "2022-12-01 15:12:25> Code location f:\\projects\\alphapept\\alphapept\n",
      "2022-12-01 15:12:25> Python location C:\\Users\\admin\\.conda\\envs\\alphapept\\python.exe\n"
     ]
    },
    {
     "name": "stderr",
     "output_type": "stream",
     "text": [
      "\r",
      "  0%|                                                                                            | 0/1 [00:00<?, ?it/s]"
     ]
    },
    {
     "name": "stdout",
     "output_type": "stream",
     "text": [
      "2022-12-01 15:12:25> Processing 1 files for step raw_conversion\n",
      "2022-12-01 15:12:25> File F:/projects/alphapept/sandbox/temp\\fig2\\PXD006109_HeLa12_1 has extension .raw - converting from Thermo.\n",
      "2022-12-01 15:13:26> File conversion complete. Extracted 82,848 precursors.\n",
      "2022-12-01 15:13:27> File conversion of file F:/projects/alphapept/sandbox/temp\\fig2\\PXD006109_HeLa12_1.raw complete.\n"
     ]
    },
    {
     "name": "stderr",
     "output_type": "stream",
     "text": [
      "\r",
      "  0%|                                                                                            | 0/1 [01:01<?, ?it/s]"
     ]
    },
    {
     "name": "stdout",
     "output_type": "stream",
     "text": [
      "1 raw files\n",
      "File size of 'F:/projects/alphapept/sandbox/temp\\fig2\\PXD006109_HeLa12_1.raw' = 1.567 GB\n",
      "Total size = 1.567 GB\n",
      "Converting all raw files into HDF takes 61.693 seconds (1.028 minutes)\n",
      "Loading F:/projects/alphapept/sandbox/temp\\fig2\\PXD006109_HeLa12_1.ms_data.hdf takes 0.185 seconds (0.003 minutes)\n"
     ]
    },
    {
     "name": "stderr",
     "output_type": "stream",
     "text": [
      "\n"
     ]
    },
    {
     "name": "stdout",
     "output_type": "stream",
     "text": [
      "2022-12-01 15:13:27> Logging to C:\\Users\\admin\\alphapept\\logs\\log_20221201151327.txt.\n",
      "2022-12-01 15:13:27> Code location f:\\projects\\alphapept\\alphapept\n",
      "2022-12-01 15:13:27> Python location C:\\Users\\admin\\.conda\\envs\\alphapept\\python.exe\n"
     ]
    },
    {
     "name": "stderr",
     "output_type": "stream",
     "text": [
      "\r",
      "  0%|                                                                                            | 0/1 [00:00<?, ?it/s]"
     ]
    },
    {
     "name": "stdout",
     "output_type": "stream",
     "text": [
      "2022-12-01 15:13:27> Processing 6 files for step raw_conversion\n",
      "2022-12-01 15:13:27> AlphaPool was set to 1 processes. Setting max to 1.\n",
      "2022-12-01 15:14:37> Processing of F:/projects/alphapept/sandbox/temp\\fig2\\PXD006109_HeLa12_1.raw for step raw_conversion succeeded. 16.67 %\n"
     ]
    },
    {
     "name": "stderr",
     "output_type": "stream",
     "text": [
      "\r",
      " 17%|██████████▊                                                      | 0.16666666666666666/1 [01:09<05:49, 419.98s/it]"
     ]
    },
    {
     "name": "stdout",
     "output_type": "stream",
     "text": [
      "2022-12-01 15:15:35> Processing of F:/projects/alphapept/sandbox/temp\\fig2\\PXD006109_HeLa12_2.raw for step raw_conversion succeeded. 33.33 %\n"
     ]
    },
    {
     "name": "stderr",
     "output_type": "stream",
     "text": [
      "\r",
      " 33%|██████████████████████                                            | 0.3333333333333333/1 [02:07<04:10, 376.14s/it]"
     ]
    },
    {
     "name": "stdout",
     "output_type": "stream",
     "text": [
      "2022-12-01 15:16:34> Processing of F:/projects/alphapept/sandbox/temp\\fig2\\PXD006109_HeLa12_3.raw for step raw_conversion succeeded. 50.00 %\n"
     ]
    },
    {
     "name": "stderr",
     "output_type": "stream",
     "text": [
      "\r",
      " 50%|████████████████████████████████████████▌                                        | 0.5/1 [03:06<03:02, 365.72s/it]"
     ]
    },
    {
     "name": "stdout",
     "output_type": "stream",
     "text": [
      "2022-12-01 15:17:37> Processing of F:/projects/alphapept/sandbox/temp\\fig2\\PXD006109_HeLa2_1.raw for step raw_conversion succeeded. 66.67 %\n"
     ]
    },
    {
     "name": "stderr",
     "output_type": "stream",
     "text": [
      "\r",
      " 67%|████████████████████████████████████████████                      | 0.6666666666666666/1 [04:09<02:03, 370.80s/it]"
     ]
    },
    {
     "name": "stdout",
     "output_type": "stream",
     "text": [
      "2022-12-01 15:18:38> Processing of F:/projects/alphapept/sandbox/temp\\fig2\\PXD006109_HeLa2_2.raw for step raw_conversion succeeded. 83.33 %\n"
     ]
    },
    {
     "name": "stderr",
     "output_type": "stream",
     "text": [
      "\r",
      " 83%|███████████████████████████████████████████████████████           | 0.8333333333333334/1 [05:10<01:01, 369.55s/it]"
     ]
    },
    {
     "name": "stdout",
     "output_type": "stream",
     "text": [
      "2022-12-01 15:19:40> Processing of F:/projects/alphapept/sandbox/temp\\fig2\\PXD006109_HeLa2_3.raw for step raw_conversion succeeded. 100.00 %\n"
     ]
    },
    {
     "name": "stderr",
     "output_type": "stream",
     "text": [
      "100%|█████████████████████████████████████████████████████████████████████████████████| 1.0/1 [06:12<00:00, 372.95s/it]"
     ]
    },
    {
     "name": "stdout",
     "output_type": "stream",
     "text": [
      "6 raw files\n",
      "File size of 'F:/projects/alphapept/sandbox/temp\\fig2\\PXD006109_HeLa12_1.raw' = 1.567 GB\n",
      "File size of 'F:/projects/alphapept/sandbox/temp\\fig2\\PXD006109_HeLa12_2.raw' = 1.503 GB\n",
      "File size of 'F:/projects/alphapept/sandbox/temp\\fig2\\PXD006109_HeLa12_3.raw' = 1.511 GB\n",
      "File size of 'F:/projects/alphapept/sandbox/temp\\fig2\\PXD006109_HeLa2_1.raw' = 1.608 GB\n",
      "File size of 'F:/projects/alphapept/sandbox/temp\\fig2\\PXD006109_HeLa2_2.raw' = 1.510 GB\n",
      "File size of 'F:/projects/alphapept/sandbox/temp\\fig2\\PXD006109_HeLa2_3.raw' = 1.515 GB\n",
      "Total size = 9.214 GB\n",
      "Converting all raw files into HDF takes 372.971 seconds (6.216 minutes)\n"
     ]
    },
    {
     "name": "stderr",
     "output_type": "stream",
     "text": [
      "\n"
     ]
    },
    {
     "name": "stdout",
     "output_type": "stream",
     "text": [
      "2022-12-01 15:19:41> Logging to C:\\Users\\admin\\alphapept\\logs\\log_20221201151941.txt.\n",
      "2022-12-01 15:19:41> Code location f:\\projects\\alphapept\\alphapept\n",
      "2022-12-01 15:19:41> Python location C:\\Users\\admin\\.conda\\envs\\alphapept\\python.exe\n"
     ]
    },
    {
     "name": "stderr",
     "output_type": "stream",
     "text": [
      "\r",
      "  0%|                                                                                            | 0/1 [00:00<?, ?it/s]"
     ]
    },
    {
     "name": "stdout",
     "output_type": "stream",
     "text": [
      "2022-12-01 15:19:41> Processing 6 files for step raw_conversion\n",
      "2022-12-01 15:19:41> AlphaPool was set to 6 processes. Setting max to 6.\n",
      "2022-12-01 15:20:56> Processing of F:/projects/alphapept/sandbox/temp\\fig2\\PXD006109_HeLa12_1.raw for step raw_conversion succeeded. 16.67 %\n"
     ]
    },
    {
     "name": "stderr",
     "output_type": "stream",
     "text": [
      "\r",
      " 17%|██████████▊                                                      | 0.16666666666666666/1 [01:15<06:17, 453.48s/it]"
     ]
    },
    {
     "name": "stdout",
     "output_type": "stream",
     "text": [
      "2022-12-01 15:20:56> Processing of F:/projects/alphapept/sandbox/temp\\fig2\\PXD006109_HeLa12_2.raw for step raw_conversion succeeded. 33.33 %\n",
      "2022-12-01 15:20:56> Processing of F:/projects/alphapept/sandbox/temp\\fig2\\PXD006109_HeLa12_3.raw for step raw_conversion succeeded. 50.00 %\n",
      "2022-12-01 15:20:57> Processing of F:/projects/alphapept/sandbox/temp\\fig2\\PXD006109_HeLa2_1.raw for step raw_conversion succeeded. 66.67 %\n"
     ]
    },
    {
     "name": "stderr",
     "output_type": "stream",
     "text": [
      "\r",
      " 67%|████████████████████████████████████████████▋                      | 0.6666666666666666/1 [01:16<00:29, 87.67s/it]"
     ]
    },
    {
     "name": "stdout",
     "output_type": "stream",
     "text": [
      "2022-12-01 15:20:57> Processing of F:/projects/alphapept/sandbox/temp\\fig2\\PXD006109_HeLa2_2.raw for step raw_conversion succeeded. 83.33 %\n",
      "2022-12-01 15:20:57> Processing of F:/projects/alphapept/sandbox/temp\\fig2\\PXD006109_HeLa2_3.raw for step raw_conversion succeeded. 100.00 %\n"
     ]
    },
    {
     "name": "stderr",
     "output_type": "stream",
     "text": [
      "100%|██████████████████████████████████████████████████████████████████████████████████| 1.0/1 [01:16<00:00, 76.95s/it]\n"
     ]
    },
    {
     "name": "stdout",
     "output_type": "stream",
     "text": [
      "6 raw files\n",
      "File size of 'F:/projects/alphapept/sandbox/temp\\fig2\\PXD006109_HeLa12_1.raw' = 1.567 GB\n",
      "File size of 'F:/projects/alphapept/sandbox/temp\\fig2\\PXD006109_HeLa12_2.raw' = 1.503 GB\n",
      "File size of 'F:/projects/alphapept/sandbox/temp\\fig2\\PXD006109_HeLa12_3.raw' = 1.511 GB\n",
      "File size of 'F:/projects/alphapept/sandbox/temp\\fig2\\PXD006109_HeLa2_1.raw' = 1.608 GB\n",
      "File size of 'F:/projects/alphapept/sandbox/temp\\fig2\\PXD006109_HeLa2_2.raw' = 1.510 GB\n",
      "File size of 'F:/projects/alphapept/sandbox/temp\\fig2\\PXD006109_HeLa2_3.raw' = 1.515 GB\n",
      "Total size = 9.214 GB\n",
      "Converting all raw files into HDF takes 76.952 seconds (1.283 minutes)\n",
      "Converting all raw files into HDF takes 60.440 seconds (1.007 minutes)\n",
      "2022-12-01 15:21:58> Logging to C:\\Users\\admin\\alphapept\\logs\\log_20221201152158.txt.\n",
      "2022-12-01 15:21:58> Code location f:\\projects\\alphapept\\alphapept\n",
      "2022-12-01 15:21:58> Python location C:\\Users\\admin\\.conda\\envs\\alphapept\\python.exe\n"
     ]
    },
    {
     "name": "stderr",
     "output_type": "stream",
     "text": [
      "\r",
      "  0%|                                                                                            | 0/1 [00:00<?, ?it/s]"
     ]
    },
    {
     "name": "stdout",
     "output_type": "stream",
     "text": [
      "2022-12-01 15:21:58> Processing 1 files for step raw_conversion\n",
      "2022-12-01 15:21:58> File F:/projects/alphapept/sandbox/temp\\fig2\\PXD006109_HeLa12_1 has extension .raw - converting from Thermo.\n",
      "2022-12-01 15:22:58> File conversion complete. Extracted 82,848 precursors.\n",
      "2022-12-01 15:22:59> File conversion of file F:/projects/alphapept/sandbox/temp\\fig2\\PXD006109_HeLa12_1.raw complete.\n"
     ]
    },
    {
     "name": "stderr",
     "output_type": "stream",
     "text": [
      "\r",
      "  0%|                                                                                            | 0/1 [01:00<?, ?it/s]"
     ]
    },
    {
     "name": "stdout",
     "output_type": "stream",
     "text": [
      "1 raw files\n",
      "File size of 'F:/projects/alphapept/sandbox/temp\\fig2\\PXD006109_HeLa12_1.raw' = 1.567 GB\n",
      "Total size = 1.567 GB\n",
      "Converting all raw files into HDF takes 60.565 seconds (1.009 minutes)\n",
      "Loading F:/projects/alphapept/sandbox/temp\\fig2\\PXD006109_HeLa12_1.ms_data.hdf takes 0.180 seconds (0.003 minutes)\n"
     ]
    },
    {
     "name": "stderr",
     "output_type": "stream",
     "text": [
      "\n"
     ]
    },
    {
     "name": "stdout",
     "output_type": "stream",
     "text": [
      "2022-12-01 15:22:59> Logging to C:\\Users\\admin\\alphapept\\logs\\log_20221201152259.txt.\n",
      "2022-12-01 15:22:59> Code location f:\\projects\\alphapept\\alphapept\n",
      "2022-12-01 15:22:59> Python location C:\\Users\\admin\\.conda\\envs\\alphapept\\python.exe\n"
     ]
    },
    {
     "name": "stderr",
     "output_type": "stream",
     "text": [
      "\r",
      "  0%|                                                                                            | 0/1 [00:00<?, ?it/s]"
     ]
    },
    {
     "name": "stdout",
     "output_type": "stream",
     "text": [
      "2022-12-01 15:22:59> Processing 6 files for step raw_conversion\n",
      "2022-12-01 15:22:59> AlphaPool was set to 1 processes. Setting max to 1.\n",
      "2022-12-01 15:24:09> Processing of F:/projects/alphapept/sandbox/temp\\fig2\\PXD006109_HeLa12_1.raw for step raw_conversion succeeded. 16.67 %\n"
     ]
    },
    {
     "name": "stderr",
     "output_type": "stream",
     "text": [
      "\r",
      " 17%|██████████▊                                                      | 0.16666666666666666/1 [01:10<05:50, 420.87s/it]"
     ]
    },
    {
     "name": "stdout",
     "output_type": "stream",
     "text": [
      "2022-12-01 15:25:11> Processing of F:/projects/alphapept/sandbox/temp\\fig2\\PXD006109_HeLa12_2.raw for step raw_conversion succeeded. 33.33 %\n"
     ]
    },
    {
     "name": "stderr",
     "output_type": "stream",
     "text": [
      "\r",
      " 33%|██████████████████████                                            | 0.3333333333333333/1 [02:11<04:19, 389.44s/it]"
     ]
    },
    {
     "name": "stdout",
     "output_type": "stream",
     "text": [
      "2022-12-01 15:26:12> Processing of F:/projects/alphapept/sandbox/temp\\fig2\\PXD006109_HeLa12_3.raw for step raw_conversion succeeded. 50.00 %\n"
     ]
    },
    {
     "name": "stderr",
     "output_type": "stream",
     "text": [
      "\r",
      " 50%|████████████████████████████████████████▌                                        | 0.5/1 [03:12<03:09, 379.12s/it]"
     ]
    },
    {
     "name": "stdout",
     "output_type": "stream",
     "text": [
      "2022-12-01 15:27:15> Processing of F:/projects/alphapept/sandbox/temp\\fig2\\PXD006109_HeLa2_1.raw for step raw_conversion succeeded. 66.67 %\n"
     ]
    },
    {
     "name": "stderr",
     "output_type": "stream",
     "text": [
      "\r",
      " 67%|████████████████████████████████████████████                      | 0.6666666666666666/1 [04:16<02:06, 380.22s/it]"
     ]
    },
    {
     "name": "stdout",
     "output_type": "stream",
     "text": [
      "2022-12-01 15:28:14> Processing of F:/projects/alphapept/sandbox/temp\\fig2\\PXD006109_HeLa2_2.raw for step raw_conversion succeeded. 83.33 %\n"
     ]
    },
    {
     "name": "stderr",
     "output_type": "stream",
     "text": [
      "\r",
      " 83%|███████████████████████████████████████████████████████           | 0.8333333333333334/1 [05:14<01:01, 369.61s/it]"
     ]
    },
    {
     "name": "stdout",
     "output_type": "stream",
     "text": [
      "2022-12-01 15:29:14> Processing of F:/projects/alphapept/sandbox/temp\\fig2\\PXD006109_HeLa2_3.raw for step raw_conversion succeeded. 100.00 %\n"
     ]
    },
    {
     "name": "stderr",
     "output_type": "stream",
     "text": [
      "100%|█████████████████████████████████████████████████████████████████████████████████| 1.0/1 [06:14<00:00, 374.50s/it]"
     ]
    },
    {
     "name": "stdout",
     "output_type": "stream",
     "text": [
      "6 raw files\n",
      "File size of 'F:/projects/alphapept/sandbox/temp\\fig2\\PXD006109_HeLa12_1.raw' = 1.567 GB\n",
      "File size of 'F:/projects/alphapept/sandbox/temp\\fig2\\PXD006109_HeLa12_2.raw' = 1.503 GB\n",
      "File size of 'F:/projects/alphapept/sandbox/temp\\fig2\\PXD006109_HeLa12_3.raw' = 1.511 GB\n",
      "File size of 'F:/projects/alphapept/sandbox/temp\\fig2\\PXD006109_HeLa2_1.raw' = 1.608 GB\n",
      "File size of 'F:/projects/alphapept/sandbox/temp\\fig2\\PXD006109_HeLa2_2.raw' = 1.510 GB\n",
      "File size of 'F:/projects/alphapept/sandbox/temp\\fig2\\PXD006109_HeLa2_3.raw' = 1.515 GB\n",
      "Total size = 9.214 GB\n",
      "Converting all raw files into HDF takes 374.511 seconds (6.242 minutes)\n"
     ]
    },
    {
     "name": "stderr",
     "output_type": "stream",
     "text": [
      "\n"
     ]
    },
    {
     "name": "stdout",
     "output_type": "stream",
     "text": [
      "2022-12-01 15:29:14> Logging to C:\\Users\\admin\\alphapept\\logs\\log_20221201152914.txt.\n",
      "2022-12-01 15:29:14> Code location f:\\projects\\alphapept\\alphapept\n",
      "2022-12-01 15:29:14> Python location C:\\Users\\admin\\.conda\\envs\\alphapept\\python.exe\n"
     ]
    },
    {
     "name": "stderr",
     "output_type": "stream",
     "text": [
      "\r",
      "  0%|                                                                                            | 0/1 [00:00<?, ?it/s]"
     ]
    },
    {
     "name": "stdout",
     "output_type": "stream",
     "text": [
      "2022-12-01 15:29:14> Processing 6 files for step raw_conversion\n",
      "2022-12-01 15:29:14> AlphaPool was set to 6 processes. Setting max to 6.\n",
      "2022-12-01 15:30:29> Processing of F:/projects/alphapept/sandbox/temp\\fig2\\PXD006109_HeLa12_1.raw for step raw_conversion succeeded. 16.67 %\n"
     ]
    },
    {
     "name": "stderr",
     "output_type": "stream",
     "text": [
      "\r",
      " 17%|██████████▊                                                      | 0.16666666666666666/1 [01:15<06:17, 452.70s/it]"
     ]
    },
    {
     "name": "stdout",
     "output_type": "stream",
     "text": [
      "2022-12-01 15:30:29> Processing of F:/projects/alphapept/sandbox/temp\\fig2\\PXD006109_HeLa12_2.raw for step raw_conversion succeeded. 33.33 %\n",
      "2022-12-01 15:30:29> Processing of F:/projects/alphapept/sandbox/temp\\fig2\\PXD006109_HeLa12_3.raw for step raw_conversion succeeded. 50.00 %\n",
      "2022-12-01 15:30:30> Processing of F:/projects/alphapept/sandbox/temp\\fig2\\PXD006109_HeLa2_1.raw for step raw_conversion succeeded. 66.67 %\n"
     ]
    },
    {
     "name": "stderr",
     "output_type": "stream",
     "text": [
      "\r",
      " 67%|████████████████████████████████████████████▋                      | 0.6666666666666666/1 [01:15<00:28, 86.41s/it]"
     ]
    },
    {
     "name": "stdout",
     "output_type": "stream",
     "text": [
      "2022-12-01 15:30:30> Processing of F:/projects/alphapept/sandbox/temp\\fig2\\PXD006109_HeLa2_2.raw for step raw_conversion succeeded. 83.33 %\n",
      "2022-12-01 15:30:30> Processing of F:/projects/alphapept/sandbox/temp\\fig2\\PXD006109_HeLa2_3.raw for step raw_conversion succeeded. 100.00 %\n"
     ]
    },
    {
     "name": "stderr",
     "output_type": "stream",
     "text": [
      "\r",
      "100%|██████████████████████████████████████████████████████████████████████████████████| 1.0/1 [01:16<00:00, 76.15s/it]"
     ]
    },
    {
     "name": "stdout",
     "output_type": "stream",
     "text": [
      "6 raw files\n",
      "File size of 'F:/projects/alphapept/sandbox/temp\\fig2\\PXD006109_HeLa12_1.raw' = 1.567 GB\n",
      "File size of 'F:/projects/alphapept/sandbox/temp\\fig2\\PXD006109_HeLa12_2.raw' = 1.503 GB\n",
      "File size of 'F:/projects/alphapept/sandbox/temp\\fig2\\PXD006109_HeLa12_3.raw' = 1.511 GB\n",
      "File size of 'F:/projects/alphapept/sandbox/temp\\fig2\\PXD006109_HeLa2_1.raw' = 1.608 GB\n",
      "File size of 'F:/projects/alphapept/sandbox/temp\\fig2\\PXD006109_HeLa2_2.raw' = 1.510 GB\n",
      "File size of 'F:/projects/alphapept/sandbox/temp\\fig2\\PXD006109_HeLa2_3.raw' = 1.515 GB\n",
      "Total size = 9.214 GB\n",
      "Converting all raw files into HDF takes 76.170 seconds (1.269 minutes)\n"
     ]
    },
    {
     "name": "stderr",
     "output_type": "stream",
     "text": [
      "\n"
     ]
    }
   ],
   "source": [
    "## Test multiple times\n",
    "time_list = []\n",
    "\n",
    "for i in range(3):\n",
    "    ram_test()\n",
    "    load_alphapept()\n",
    "    test_load_hdf()\n",
    "    test_single_core()\n",
    "    test_multicore()\n",
    "    \n",
    "    \n",
    "    "
   ]
  },
  {
   "cell_type": "code",
   "execution_count": 21,
   "id": "b41a31e2",
   "metadata": {},
   "outputs": [
    {
     "data": {
      "text/plain": [
       "[['RAW to RAM (N=1, 1.6GB)', 62.74609279999999],\n",
       " ['RAW to HDF (N=1, 1.6GB)', 63.4602869],\n",
       " ['HDF to RAM (N=1, 1.6GB)', 0.18468599999999924],\n",
       " ['RAW to HDF (N=6, 9.2GB, CPU=1)', 371.08645129999996],\n",
       " ['RAW to HDF (N=6, 9.2GB, CPU=6)', 77.06162919999997],\n",
       " ['RAW to RAM (N=1, 1.6GB)', 59.50022350000006],\n",
       " ['RAW to HDF (N=1, 1.6GB)', 61.69251159999999],\n",
       " ['HDF to RAM (N=1, 1.6GB)', 0.18453169999997954],\n",
       " ['RAW to HDF (N=6, 9.2GB, CPU=1)', 372.97060380000005],\n",
       " ['RAW to HDF (N=6, 9.2GB, CPU=6)', 76.95220369999993],\n",
       " ['RAW to RAM (N=1, 1.6GB)', 60.44044830000007],\n",
       " ['RAW to HDF (N=1, 1.6GB)', 60.564533700000084],\n",
       " ['HDF to RAM (N=1, 1.6GB)', 0.18033600000012484],\n",
       " ['RAW to HDF (N=6, 9.2GB, CPU=1)', 374.51091670000005],\n",
       " ['RAW to HDF (N=6, 9.2GB, CPU=6)', 76.1696922000001]]"
      ]
     },
     "execution_count": 21,
     "metadata": {},
     "output_type": "execute_result"
    }
   ],
   "source": [
    "time_list"
   ]
  },
  {
   "cell_type": "code",
   "execution_count": 22,
   "id": "cf46b635",
   "metadata": {},
   "outputs": [],
   "source": [
    "time_list = [['RAW to RAM (N=1, 1.6GB)', 62.74609279999999],\n",
    " ['RAW to HDF (N=1, 1.6GB)', 63.4602869],\n",
    " ['HDF to RAM (N=1, 1.6GB)', 0.18468599999999924],\n",
    " ['RAW to HDF (N=6, 9.2GB, CPU=1)', 371.08645129999996],\n",
    " ['RAW to HDF (N=6, 9.2GB, CPU=6)', 77.06162919999997],\n",
    " ['RAW to RAM (N=1, 1.6GB)', 59.50022350000006],\n",
    " ['RAW to HDF (N=1, 1.6GB)', 61.69251159999999],\n",
    " ['HDF to RAM (N=1, 1.6GB)', 0.18453169999997954],\n",
    " ['RAW to HDF (N=6, 9.2GB, CPU=1)', 372.97060380000005],\n",
    " ['RAW to HDF (N=6, 9.2GB, CPU=6)', 76.95220369999993],\n",
    " ['RAW to RAM (N=1, 1.6GB)', 60.44044830000007],\n",
    " ['RAW to HDF (N=1, 1.6GB)', 60.564533700000084],\n",
    " ['HDF to RAM (N=1, 1.6GB)', 0.18033600000012484],\n",
    " ['RAW to HDF (N=6, 9.2GB, CPU=1)', 374.51091670000005],\n",
    " ['RAW to HDF (N=6, 9.2GB, CPU=6)', 76.1696922000001]]"
   ]
  },
  {
   "cell_type": "code",
   "execution_count": 23,
   "id": "278b9e6e",
   "metadata": {},
   "outputs": [],
   "source": [
    "import pandas as pd\n",
    "df = pd.DataFrame(time_list)"
   ]
  },
  {
   "cell_type": "code",
   "execution_count": 24,
   "id": "5bc0dbe0",
   "metadata": {},
   "outputs": [],
   "source": [
    "mean_ = df.groupby(0).mean()\n",
    "std_ = df.groupby(0).std()\n",
    "\n",
    "mean_ = mean_.loc[[_[0] for _ in time_list[:5]]]\n",
    "std_ = std_.loc[[_[0] for _ in time_list[:5]]]"
   ]
  },
  {
   "cell_type": "code",
   "execution_count": 25,
   "id": "0a473868",
   "metadata": {
    "scrolled": false
   },
   "outputs": [
    {
     "name": "stderr",
     "output_type": "stream",
     "text": [
      "C:\\Users\\admin\\AppData\\Local\\Temp\\ipykernel_9372\\2883549938.py:34: UserWarning: Attempted to set non-positive left xlim on a log-scaled axis.\n",
      "Invalid limit will be ignored.\n",
      "  plt.xlim([0, 0.5*1e4])\n"
     ]
    },
    {
     "data": {
      "image/png": "[encoded data removed]",
      "text/plain": [
       "<Figure size 394x236.3 with 1 Axes>"
      ]
     },
     "metadata": {},
     "output_type": "display_data"
    }
   ],
   "source": [
    "import matplotlib.pyplot as plt\n",
    "import numpy as np\n",
    "\n",
    "dark_blue = '#17212b'\n",
    "light_blue = '#3dc5ef'\n",
    "teal= '#42dee1'\n",
    "green = '#6eecb9'\n",
    "yellow = '#eef5b3'\n",
    "\n",
    "\n",
    "time_used = mean_.values.flatten()\n",
    "time_std = std_.values.flatten()\n",
    "\n",
    "labels = mean_.index.tolist()\n",
    "\n",
    "hfont = {'fontname':'Arial', 'size':10}\n",
    "plt.figure(figsize=(3.94,2.363)) #100x60\n",
    "height=0.5\n",
    "ind = list(range(len(labels)))[::-1]\n",
    "\n",
    "text = ['Raw to memory', 'Raw to hdf', 'Hdf to memory',  'Raw to hdf (6 files, 1 core)',  'Raw to hdf (6 fles, 6 cores)']\n",
    "\n",
    "for i, t in zip(ind, time_used):\n",
    "    plt.text(t*1.5, i, f'{t:.1f}', **hfont, va='center')\n",
    "\n",
    "plt.barh(ind[:3], time_used[:3], height, color =light_blue, xerr = time_std[:3], linewidth=1, edgecolor='black')\n",
    "plt.barh(ind[3], time_used[3], height, color =teal, xerr = time_std[3], linewidth=1, edgecolor='black')\n",
    "plt.barh(ind[4], time_used[4], height, color =green, xerr = time_std[4], linewidth=1, edgecolor='black')\n",
    "\n",
    "plt.yticks(ind, text, **hfont)\n",
    "plt.xticks(**hfont)\n",
    "\n",
    "plt.xscale('log')\n",
    "plt.xlim([0, 0.5*1e4])\n",
    "plt.xticks([0.1, 1e0, 1e1, 1e2 , 1e3])\n",
    "plt.xlabel('Time (seconds)', **hfont)\n",
    "plt.tight_layout()\n",
    "plt.savefig('./figures/02_io.pdf')  \n",
    "plt.show()"
   ]
  },
  {
   "cell_type": "code",
   "execution_count": 26,
   "id": "9d0071e3",
   "metadata": {},
   "outputs": [
    {
     "data": {
      "text/html": [
       "<div>\n",
       "<style scoped>\n",
       "    .dataframe tbody tr th:only-of-type {\n",
       "        vertical-align: middle;\n",
       "    }\n",
       "\n",
       "    .dataframe tbody tr th {\n",
       "        vertical-align: top;\n",
       "    }\n",
       "\n",
       "    .dataframe thead th {\n",
       "        text-align: right;\n",
       "    }\n",
       "</style>\n",
       "<table border=\"1\" class=\"dataframe\">\n",
       "  <thead>\n",
       "    <tr style=\"text-align: right;\">\n",
       "      <th></th>\n",
       "      <th>1</th>\n",
       "    </tr>\n",
       "    <tr>\n",
       "      <th>0</th>\n",
       "      <th></th>\n",
       "    </tr>\n",
       "  </thead>\n",
       "  <tbody>\n",
       "    <tr>\n",
       "      <th>RAW to RAM (N=1, 1.6GB)</th>\n",
       "      <td>1.670114</td>\n",
       "    </tr>\n",
       "    <tr>\n",
       "      <th>RAW to HDF (N=1, 1.6GB)</th>\n",
       "      <td>1.459609</td>\n",
       "    </tr>\n",
       "    <tr>\n",
       "      <th>HDF to RAM (N=1, 1.6GB)</th>\n",
       "      <td>0.002468</td>\n",
       "    </tr>\n",
       "    <tr>\n",
       "      <th>RAW to HDF (N=6, 9.2GB, CPU=1)</th>\n",
       "      <td>1.715107</td>\n",
       "    </tr>\n",
       "    <tr>\n",
       "      <th>RAW to HDF (N=6, 9.2GB, CPU=6)</th>\n",
       "      <td>0.486458</td>\n",
       "    </tr>\n",
       "  </tbody>\n",
       "</table>\n",
       "</div>"
      ],
      "text/plain": [
       "                                       1\n",
       "0                                       \n",
       "RAW to RAM (N=1, 1.6GB)         1.670114\n",
       "RAW to HDF (N=1, 1.6GB)         1.459609\n",
       "HDF to RAM (N=1, 1.6GB)         0.002468\n",
       "RAW to HDF (N=6, 9.2GB, CPU=1)  1.715107\n",
       "RAW to HDF (N=6, 9.2GB, CPU=6)  0.486458"
      ]
     },
     "metadata": {},
     "output_type": "display_data"
    },
    {
     "data": {
      "text/html": [
       "<div>\n",
       "<style scoped>\n",
       "    .dataframe tbody tr th:only-of-type {\n",
       "        vertical-align: middle;\n",
       "    }\n",
       "\n",
       "    .dataframe tbody tr th {\n",
       "        vertical-align: top;\n",
       "    }\n",
       "\n",
       "    .dataframe thead th {\n",
       "        text-align: right;\n",
       "    }\n",
       "</style>\n",
       "<table border=\"1\" class=\"dataframe\">\n",
       "  <thead>\n",
       "    <tr style=\"text-align: right;\">\n",
       "      <th></th>\n",
       "      <th>1</th>\n",
       "    </tr>\n",
       "    <tr>\n",
       "      <th>0</th>\n",
       "      <th></th>\n",
       "    </tr>\n",
       "  </thead>\n",
       "  <tbody>\n",
       "    <tr>\n",
       "      <th>RAW to RAM (N=1, 1.6GB)</th>\n",
       "      <td>60.895588</td>\n",
       "    </tr>\n",
       "    <tr>\n",
       "      <th>RAW to HDF (N=1, 1.6GB)</th>\n",
       "      <td>61.905777</td>\n",
       "    </tr>\n",
       "    <tr>\n",
       "      <th>HDF to RAM (N=1, 1.6GB)</th>\n",
       "      <td>0.183185</td>\n",
       "    </tr>\n",
       "    <tr>\n",
       "      <th>RAW to HDF (N=6, 9.2GB, CPU=1)</th>\n",
       "      <td>372.855991</td>\n",
       "    </tr>\n",
       "    <tr>\n",
       "      <th>RAW to HDF (N=6, 9.2GB, CPU=6)</th>\n",
       "      <td>76.727842</td>\n",
       "    </tr>\n",
       "  </tbody>\n",
       "</table>\n",
       "</div>"
      ],
      "text/plain": [
       "                                         1\n",
       "0                                         \n",
       "RAW to RAM (N=1, 1.6GB)          60.895588\n",
       "RAW to HDF (N=1, 1.6GB)          61.905777\n",
       "HDF to RAM (N=1, 1.6GB)           0.183185\n",
       "RAW to HDF (N=6, 9.2GB, CPU=1)  372.855991\n",
       "RAW to HDF (N=6, 9.2GB, CPU=6)   76.727842"
      ]
     },
     "metadata": {},
     "output_type": "display_data"
    }
   ],
   "source": [
    "display(std_)\n",
    "display(mean_)"
   ]
  },
  {
   "cell_type": "code",
   "execution_count": null,
   "id": "704e135c",
   "metadata": {},
   "outputs": [],
   "source": []
  }
 ],
 "metadata": {
  "kernelspec": {
   "display_name": "Python 3 (ipykernel)",
   "language": "python",
   "name": "python3"
  },
  "language_info": {
   "codemirror_mode": {
    "name": "ipython",
    "version": 3
   },
   "file_extension": ".py",
   "mimetype": "text/x-python",
   "name": "python",
   "nbconvert_exporter": "python",
   "pygments_lexer": "ipython3",
   "version": "3.8.13"
  },
  "toc": {
   "base_numbering": 1,
   "nav_menu": {},
   "number_sections": true,
   "sideBar": true,
   "skip_h1_title": false,
   "title_cell": "Table of Contents",
   "title_sidebar": "Contents",
   "toc_cell": false,
   "toc_position": {},
   "toc_section_display": true,
   "toc_window_display": false
  }
 },
 "nbformat": 4,
 "nbformat_minor": 5
}
