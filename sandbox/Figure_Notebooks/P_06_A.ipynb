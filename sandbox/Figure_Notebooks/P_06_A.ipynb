{
 "cells": [
  {
   "cell_type": "code",
   "execution_count": 1,
   "id": "decf4ed9",
   "metadata": {
    "scrolled": false
   },
   "outputs": [
    {
     "name": "stderr",
     "output_type": "stream",
     "text": [
      "\r",
      "  0%|                                                                                          | 0/200 [00:00<?, ?it/s]"
     ]
    },
    {
     "name": "stdout",
     "output_type": "stream",
     "text": [
      "Residuals are not finite in the initial point.\n",
      "Residuals are not finite in the initial point.\n",
      "Residuals are not finite in the initial point.\n",
      "Residuals are not finite in the initial point.\n",
      "Residuals are not finite in the initial point.\n",
      "Residuals are not finite in the initial point.\n",
      "Residuals are not finite in the initial point.\n",
      "Residuals are not finite in the initial point.\n",
      "Residuals are not finite in the initial point.\n"
     ]
    },
    {
     "name": "stderr",
     "output_type": "stream",
     "text": [
      "\r",
      "  0%|▍                                                                                 | 1/200 [00:15<50:17, 15.16s/it]"
     ]
    },
    {
     "name": "stdout",
     "output_type": "stream",
     "text": [
      "Residuals are not finite in the initial point.\n",
      "Residuals are not finite in the initial point.\n",
      "Residuals are not finite in the initial point.\n",
      "Residuals are not finite in the initial point.\n",
      "Residuals are not finite in the initial point.\n",
      "Residuals are not finite in the initial point.\n",
      "Residuals are not finite in the initial point.\n"
     ]
    },
    {
     "name": "stderr",
     "output_type": "stream",
     "text": [
      "\r",
      "  1%|▊                                                                                 | 2/200 [00:26<42:35, 12.91s/it]"
     ]
    },
    {
     "name": "stdout",
     "output_type": "stream",
     "text": [
      "Residuals are not finite in the initial point.\n",
      "Residuals are not finite in the initial point.\n",
      "Residuals are not finite in the initial point.\n",
      "Residuals are not finite in the initial point.\n",
      "Residuals are not finite in the initial point.\n",
      "Residuals are not finite in the initial point.\n",
      "Residuals are not finite in the initial point.\n",
      "Residuals are not finite in the initial point.\n"
     ]
    },
    {
     "name": "stderr",
     "output_type": "stream",
     "text": [
      "\r",
      "  2%|█▏                                                                                | 3/200 [00:37<39:51, 12.14s/it]"
     ]
    },
    {
     "name": "stdout",
     "output_type": "stream",
     "text": [
      "Residuals are not finite in the initial point.\n",
      "Residuals are not finite in the initial point.\n",
      "Residuals are not finite in the initial point.\n",
      "Residuals are not finite in the initial point.\n",
      "Residuals are not finite in the initial point.\n"
     ]
    },
    {
     "name": "stderr",
     "output_type": "stream",
     "text": [
      "\r",
      "  2%|█▋                                                                                | 4/200 [00:50<40:19, 12.34s/it]"
     ]
    },
    {
     "name": "stdout",
     "output_type": "stream",
     "text": [
      "Residuals are not finite in the initial point.\n",
      "Residuals are not finite in the initial point.\n",
      "Residuals are not finite in the initial point.\n",
      "Residuals are not finite in the initial point.\n",
      "Residuals are not finite in the initial point.\n"
     ]
    },
    {
     "name": "stderr",
     "output_type": "stream",
     "text": [
      "\r",
      "  2%|██                                                                                | 5/200 [01:02<39:16, 12.09s/it]"
     ]
    },
    {
     "name": "stdout",
     "output_type": "stream",
     "text": [
      "Residuals are not finite in the initial point.\n",
      "Residuals are not finite in the initial point.\n",
      "Residuals are not finite in the initial point.\n",
      "Residuals are not finite in the initial point.\n",
      "Residuals are not finite in the initial point.\n",
      "Residuals are not finite in the initial point.\n",
      "Residuals are not finite in the initial point.\n"
     ]
    },
    {
     "name": "stderr",
     "output_type": "stream",
     "text": [
      "\r",
      "  3%|██▍                                                                               | 6/200 [01:13<38:17, 11.84s/it]"
     ]
    },
    {
     "name": "stdout",
     "output_type": "stream",
     "text": [
      "Residuals are not finite in the initial point.\n",
      "Residuals are not finite in the initial point.\n",
      "Residuals are not finite in the initial point.\n",
      "Residuals are not finite in the initial point.\n",
      "Residuals are not finite in the initial point.\n",
      "Residuals are not finite in the initial point.\n"
     ]
    },
    {
     "name": "stderr",
     "output_type": "stream",
     "text": [
      "\r",
      "  4%|██▊                                                                               | 7/200 [01:24<37:11, 11.56s/it]"
     ]
    },
    {
     "name": "stdout",
     "output_type": "stream",
     "text": [
      "Residuals are not finite in the initial point.\n",
      "Residuals are not finite in the initial point.\n",
      "Residuals are not finite in the initial point.\n",
      "Residuals are not finite in the initial point.\n",
      "Residuals are not finite in the initial point.\n"
     ]
    },
    {
     "name": "stderr",
     "output_type": "stream",
     "text": [
      "\r",
      "  4%|███▎                                                                              | 8/200 [01:35<36:28, 11.40s/it]"
     ]
    },
    {
     "name": "stdout",
     "output_type": "stream",
     "text": [
      "Residuals are not finite in the initial point.\n",
      "Residuals are not finite in the initial point.\n",
      "Residuals are not finite in the initial point.\n",
      "Residuals are not finite in the initial point.\n",
      "Residuals are not finite in the initial point.\n",
      "Residuals are not finite in the initial point.\n",
      "Residuals are not finite in the initial point.\n",
      "Residuals are not finite in the initial point.\n"
     ]
    },
    {
     "name": "stderr",
     "output_type": "stream",
     "text": [
      "\r",
      "  4%|███▋                                                                              | 9/200 [01:47<37:22, 11.74s/it]"
     ]
    },
    {
     "name": "stdout",
     "output_type": "stream",
     "text": [
      "Residuals are not finite in the initial point.\n",
      "Residuals are not finite in the initial point.\n",
      "Residuals are not finite in the initial point.\n",
      "Residuals are not finite in the initial point.\n",
      "Residuals are not finite in the initial point.\n",
      "Residuals are not finite in the initial point.\n",
      "Residuals are not finite in the initial point.\n"
     ]
    },
    {
     "name": "stderr",
     "output_type": "stream",
     "text": [
      "\r",
      "  5%|████                                                                             | 10/200 [01:59<37:05, 11.72s/it]"
     ]
    },
    {
     "name": "stdout",
     "output_type": "stream",
     "text": [
      "Residuals are not finite in the initial point.\n",
      "Residuals are not finite in the initial point.\n",
      "Residuals are not finite in the initial point.\n",
      "Residuals are not finite in the initial point.\n",
      "Residuals are not finite in the initial point.\n",
      "Residuals are not finite in the initial point.\n",
      "Residuals are not finite in the initial point.\n"
     ]
    },
    {
     "name": "stderr",
     "output_type": "stream",
     "text": [
      "\r",
      "  6%|████▍                                                                            | 11/200 [02:12<37:47, 12.00s/it]"
     ]
    },
    {
     "name": "stdout",
     "output_type": "stream",
     "text": [
      "Residuals are not finite in the initial point.\n",
      "Residuals are not finite in the initial point.\n",
      "Residuals are not finite in the initial point.\n",
      "Residuals are not finite in the initial point.\n",
      "Residuals are not finite in the initial point.\n",
      "Residuals are not finite in the initial point.\n",
      "Residuals are not finite in the initial point.\n",
      "Residuals are not finite in the initial point.\n",
      "Residuals are not finite in the initial point.\n"
     ]
    },
    {
     "name": "stderr",
     "output_type": "stream",
     "text": [
      "\r",
      "  6%|████▊                                                                            | 12/200 [02:23<36:47, 11.74s/it]"
     ]
    },
    {
     "name": "stdout",
     "output_type": "stream",
     "text": [
      "Residuals are not finite in the initial point.\n",
      "Residuals are not finite in the initial point.\n",
      "Residuals are not finite in the initial point.\n",
      "Residuals are not finite in the initial point.\n",
      "Residuals are not finite in the initial point.\n"
     ]
    },
    {
     "name": "stderr",
     "output_type": "stream",
     "text": [
      "\r",
      "  6%|█████▎                                                                           | 13/200 [02:34<35:42, 11.46s/it]"
     ]
    },
    {
     "name": "stdout",
     "output_type": "stream",
     "text": [
      "Residuals are not finite in the initial point.\n",
      "Residuals are not finite in the initial point.\n",
      "Residuals are not finite in the initial point.\n",
      "Residuals are not finite in the initial point.\n",
      "Residuals are not finite in the initial point.\n",
      "Residuals are not finite in the initial point.\n",
      "Residuals are not finite in the initial point.\n",
      "Residuals are not finite in the initial point.\n",
      "Residuals are not finite in the initial point.\n"
     ]
    },
    {
     "name": "stderr",
     "output_type": "stream",
     "text": [
      "\r",
      "  7%|█████▋                                                                           | 14/200 [02:46<36:23, 11.74s/it]"
     ]
    },
    {
     "name": "stdout",
     "output_type": "stream",
     "text": [
      "Residuals are not finite in the initial point.\n",
      "Residuals are not finite in the initial point.\n",
      "Residuals are not finite in the initial point.\n",
      "Residuals are not finite in the initial point.\n",
      "Residuals are not finite in the initial point.\n",
      "Residuals are not finite in the initial point.\n",
      "Residuals are not finite in the initial point.\n",
      "Residuals are not finite in the initial point.\n",
      "Residuals are not finite in the initial point.\n"
     ]
    },
    {
     "name": "stderr",
     "output_type": "stream",
     "text": [
      "\r",
      "  8%|██████                                                                           | 15/200 [02:57<35:25, 11.49s/it]"
     ]
    },
    {
     "name": "stdout",
     "output_type": "stream",
     "text": [
      "Residuals are not finite in the initial point.\n",
      "Residuals are not finite in the initial point.\n",
      "Residuals are not finite in the initial point.\n",
      "Residuals are not finite in the initial point.\n",
      "Residuals are not finite in the initial point.\n",
      "Residuals are not finite in the initial point.\n"
     ]
    },
    {
     "name": "stderr",
     "output_type": "stream",
     "text": [
      "\r",
      "  8%|██████▍                                                                          | 16/200 [03:09<35:39, 11.63s/it]"
     ]
    },
    {
     "name": "stdout",
     "output_type": "stream",
     "text": [
      "Residuals are not finite in the initial point.\n",
      "Residuals are not finite in the initial point.\n",
      "Residuals are not finite in the initial point.\n",
      "Residuals are not finite in the initial point.\n",
      "Residuals are not finite in the initial point.\n",
      "Residuals are not finite in the initial point.\n",
      "Residuals are not finite in the initial point.\n",
      "Residuals are not finite in the initial point.\n"
     ]
    },
    {
     "name": "stderr",
     "output_type": "stream",
     "text": [
      "\r",
      "  8%|██████▉                                                                          | 17/200 [03:21<35:31, 11.65s/it]"
     ]
    },
    {
     "name": "stdout",
     "output_type": "stream",
     "text": [
      "Residuals are not finite in the initial point.\n",
      "Residuals are not finite in the initial point.\n",
      "Residuals are not finite in the initial point.\n",
      "Residuals are not finite in the initial point.\n"
     ]
    },
    {
     "name": "stderr",
     "output_type": "stream",
     "text": [
      "\r",
      "  9%|███████▎                                                                         | 18/200 [03:32<34:43, 11.45s/it]"
     ]
    },
    {
     "name": "stdout",
     "output_type": "stream",
     "text": [
      "Residuals are not finite in the initial point.\n",
      "Residuals are not finite in the initial point.\n",
      "Residuals are not finite in the initial point.\n",
      "Residuals are not finite in the initial point.\n",
      "Residuals are not finite in the initial point.\n",
      "Residuals are not finite in the initial point.\n",
      "Residuals are not finite in the initial point.\n",
      "Residuals are not finite in the initial point.\n",
      "Residuals are not finite in the initial point.\n",
      "Residuals are not finite in the initial point.\n"
     ]
    },
    {
     "name": "stderr",
     "output_type": "stream",
     "text": [
      "\r",
      " 10%|███████▋                                                                         | 19/200 [03:44<35:32, 11.78s/it]"
     ]
    },
    {
     "name": "stdout",
     "output_type": "stream",
     "text": [
      "Residuals are not finite in the initial point.\n",
      "Residuals are not finite in the initial point.\n",
      "Residuals are not finite in the initial point.\n",
      "Residuals are not finite in the initial point.\n",
      "Residuals are not finite in the initial point.\n",
      "Residuals are not finite in the initial point.\n",
      "Residuals are not finite in the initial point.\n",
      "Residuals are not finite in the initial point.\n",
      "Residuals are not finite in the initial point.\n"
     ]
    },
    {
     "name": "stderr",
     "output_type": "stream",
     "text": [
      "\r",
      " 10%|████████                                                                         | 20/200 [03:56<35:40, 11.89s/it]"
     ]
    },
    {
     "name": "stdout",
     "output_type": "stream",
     "text": [
      "Residuals are not finite in the initial point.\n",
      "Residuals are not finite in the initial point.\n",
      "Residuals are not finite in the initial point.\n",
      "Residuals are not finite in the initial point.\n",
      "Residuals are not finite in the initial point.\n"
     ]
    },
    {
     "name": "stderr",
     "output_type": "stream",
     "text": [
      "\r",
      " 10%|████████▌                                                                        | 21/200 [04:08<35:11, 11.80s/it]"
     ]
    },
    {
     "name": "stdout",
     "output_type": "stream",
     "text": [
      "Residuals are not finite in the initial point.\n",
      "Residuals are not finite in the initial point.\n",
      "Residuals are not finite in the initial point.\n",
      "Residuals are not finite in the initial point.\n",
      "Residuals are not finite in the initial point.\n",
      "Residuals are not finite in the initial point.\n",
      "Residuals are not finite in the initial point.\n"
     ]
    },
    {
     "name": "stderr",
     "output_type": "stream",
     "text": [
      "\r",
      " 11%|████████▉                                                                        | 22/200 [04:21<36:09, 12.19s/it]"
     ]
    },
    {
     "name": "stdout",
     "output_type": "stream",
     "text": [
      "Residuals are not finite in the initial point.\n",
      "Residuals are not finite in the initial point.\n",
      "Residuals are not finite in the initial point.\n",
      "Residuals are not finite in the initial point.\n",
      "Residuals are not finite in the initial point.\n",
      "Residuals are not finite in the initial point.\n",
      "Residuals are not finite in the initial point.\n",
      "Residuals are not finite in the initial point.\n"
     ]
    },
    {
     "name": "stderr",
     "output_type": "stream",
     "text": [
      "\r",
      " 12%|█████████▎                                                                       | 23/200 [04:33<35:58, 12.19s/it]"
     ]
    },
    {
     "name": "stdout",
     "output_type": "stream",
     "text": [
      "Residuals are not finite in the initial point.\n",
      "Residuals are not finite in the initial point.\n",
      "Residuals are not finite in the initial point.\n",
      "Residuals are not finite in the initial point.\n",
      "Residuals are not finite in the initial point.\n",
      "Residuals are not finite in the initial point.\n",
      "Residuals are not finite in the initial point.\n"
     ]
    },
    {
     "name": "stderr",
     "output_type": "stream",
     "text": [
      "\r",
      " 12%|█████████▋                                                                       | 24/200 [04:45<35:01, 11.94s/it]"
     ]
    },
    {
     "name": "stdout",
     "output_type": "stream",
     "text": [
      "Residuals are not finite in the initial point.\n",
      "Residuals are not finite in the initial point.\n",
      "Residuals are not finite in the initial point.\n",
      "Residuals are not finite in the initial point.\n",
      "Residuals are not finite in the initial point.\n",
      "Residuals are not finite in the initial point.\n",
      "Residuals are not finite in the initial point.\n"
     ]
    },
    {
     "name": "stderr",
     "output_type": "stream",
     "text": [
      "\r",
      " 12%|██████████▏                                                                      | 25/200 [04:57<35:08, 12.05s/it]"
     ]
    },
    {
     "name": "stdout",
     "output_type": "stream",
     "text": [
      "Residuals are not finite in the initial point.\n",
      "Residuals are not finite in the initial point.\n",
      "Residuals are not finite in the initial point.\n",
      "Residuals are not finite in the initial point.\n",
      "Residuals are not finite in the initial point.\n",
      "Residuals are not finite in the initial point.\n",
      "Residuals are not finite in the initial point.\n",
      "Residuals are not finite in the initial point.\n"
     ]
    },
    {
     "name": "stderr",
     "output_type": "stream",
     "text": [
      "\r",
      " 13%|██████████▌                                                                      | 26/200 [05:08<34:36, 11.94s/it]"
     ]
    },
    {
     "name": "stdout",
     "output_type": "stream",
     "text": [
      "Residuals are not finite in the initial point.\n",
      "Residuals are not finite in the initial point.\n",
      "Residuals are not finite in the initial point.\n",
      "Residuals are not finite in the initial point.\n",
      "Residuals are not finite in the initial point.\n",
      "Residuals are not finite in the initial point.\n"
     ]
    },
    {
     "name": "stderr",
     "output_type": "stream",
     "text": [
      "\r",
      " 14%|██████████▉                                                                      | 27/200 [05:20<34:13, 11.87s/it]"
     ]
    },
    {
     "name": "stdout",
     "output_type": "stream",
     "text": [
      "Residuals are not finite in the initial point.\n",
      "Residuals are not finite in the initial point.\n",
      "Residuals are not finite in the initial point.\n",
      "Residuals are not finite in the initial point.\n",
      "Residuals are not finite in the initial point.\n",
      "Residuals are not finite in the initial point.\n",
      "Residuals are not finite in the initial point.\n"
     ]
    },
    {
     "name": "stderr",
     "output_type": "stream",
     "text": [
      "\r",
      " 14%|███████████▎                                                                     | 28/200 [05:32<33:59, 11.86s/it]"
     ]
    },
    {
     "name": "stdout",
     "output_type": "stream",
     "text": [
      "Residuals are not finite in the initial point.\n",
      "Residuals are not finite in the initial point.\n",
      "Residuals are not finite in the initial point.\n",
      "Residuals are not finite in the initial point.\n",
      "Residuals are not finite in the initial point.\n",
      "Residuals are not finite in the initial point.\n"
     ]
    },
    {
     "name": "stderr",
     "output_type": "stream",
     "text": [
      "\r",
      " 14%|███████████▋                                                                     | 29/200 [05:44<34:02, 11.95s/it]"
     ]
    },
    {
     "name": "stdout",
     "output_type": "stream",
     "text": [
      "Residuals are not finite in the initial point.\n",
      "Residuals are not finite in the initial point.\n",
      "Residuals are not finite in the initial point.\n",
      "Residuals are not finite in the initial point.\n",
      "Residuals are not finite in the initial point.\n",
      "Residuals are not finite in the initial point.\n",
      "Residuals are not finite in the initial point.\n"
     ]
    },
    {
     "name": "stderr",
     "output_type": "stream",
     "text": [
      "\r",
      " 15%|████████████▏                                                                    | 30/200 [05:56<33:52, 11.95s/it]"
     ]
    },
    {
     "name": "stdout",
     "output_type": "stream",
     "text": [
      "Residuals are not finite in the initial point.\n",
      "Residuals are not finite in the initial point.\n",
      "Residuals are not finite in the initial point.\n",
      "Residuals are not finite in the initial point.\n",
      "Residuals are not finite in the initial point.\n",
      "Residuals are not finite in the initial point.\n",
      "Residuals are not finite in the initial point.\n",
      "Residuals are not finite in the initial point.\n"
     ]
    },
    {
     "name": "stderr",
     "output_type": "stream",
     "text": [
      "\r",
      " 16%|████████████▌                                                                    | 31/200 [06:08<33:20, 11.84s/it]"
     ]
    },
    {
     "name": "stdout",
     "output_type": "stream",
     "text": [
      "Residuals are not finite in the initial point.\n",
      "Residuals are not finite in the initial point.\n",
      "Residuals are not finite in the initial point.\n",
      "Residuals are not finite in the initial point.\n",
      "Residuals are not finite in the initial point.\n",
      "Residuals are not finite in the initial point.\n",
      "Residuals are not finite in the initial point.\n",
      "Residuals are not finite in the initial point.\n"
     ]
    },
    {
     "name": "stderr",
     "output_type": "stream",
     "text": [
      "\r",
      " 16%|████████████▉                                                                    | 32/200 [06:19<32:37, 11.65s/it]"
     ]
    },
    {
     "name": "stdout",
     "output_type": "stream",
     "text": [
      "Residuals are not finite in the initial point.\n",
      "Residuals are not finite in the initial point.\n",
      "Residuals are not finite in the initial point.\n",
      "Residuals are not finite in the initial point.\n",
      "Residuals are not finite in the initial point.\n",
      "Residuals are not finite in the initial point.\n",
      "Residuals are not finite in the initial point.\n"
     ]
    },
    {
     "name": "stderr",
     "output_type": "stream",
     "text": [
      "\r",
      " 16%|█████████████▎                                                                   | 33/200 [06:31<32:30, 11.68s/it]"
     ]
    },
    {
     "name": "stdout",
     "output_type": "stream",
     "text": [
      "Residuals are not finite in the initial point.\n",
      "Residuals are not finite in the initial point.\n",
      "Residuals are not finite in the initial point.\n",
      "Residuals are not finite in the initial point.\n",
      "Residuals are not finite in the initial point.\n",
      "Residuals are not finite in the initial point.\n",
      "Residuals are not finite in the initial point.\n"
     ]
    },
    {
     "name": "stderr",
     "output_type": "stream",
     "text": [
      "\r",
      " 17%|█████████████▊                                                                   | 34/200 [06:42<31:55, 11.54s/it]"
     ]
    },
    {
     "name": "stdout",
     "output_type": "stream",
     "text": [
      "Residuals are not finite in the initial point.\n",
      "Residuals are not finite in the initial point.\n",
      "Residuals are not finite in the initial point.\n"
     ]
    },
    {
     "name": "stderr",
     "output_type": "stream",
     "text": [
      "\r",
      " 18%|██████████████▏                                                                  | 35/200 [06:53<31:29, 11.45s/it]"
     ]
    },
    {
     "name": "stdout",
     "output_type": "stream",
     "text": [
      "Residuals are not finite in the initial point.\n",
      "Residuals are not finite in the initial point.\n",
      "Residuals are not finite in the initial point.\n",
      "Residuals are not finite in the initial point.\n",
      "Residuals are not finite in the initial point.\n",
      "Residuals are not finite in the initial point.\n"
     ]
    },
    {
     "name": "stderr",
     "output_type": "stream",
     "text": [
      "\r",
      " 18%|██████████████▌                                                                  | 36/200 [07:05<31:27, 11.51s/it]"
     ]
    },
    {
     "name": "stdout",
     "output_type": "stream",
     "text": [
      "Residuals are not finite in the initial point.\n",
      "Residuals are not finite in the initial point.\n",
      "Residuals are not finite in the initial point.\n",
      "Residuals are not finite in the initial point.\n",
      "Residuals are not finite in the initial point.\n",
      "Residuals are not finite in the initial point.\n",
      "Residuals are not finite in the initial point.\n",
      "Residuals are not finite in the initial point.\n",
      "Residuals are not finite in the initial point.\n"
     ]
    },
    {
     "name": "stderr",
     "output_type": "stream",
     "text": [
      "\r",
      " 18%|██████████████▉                                                                  | 37/200 [07:17<32:03, 11.80s/it]"
     ]
    },
    {
     "name": "stdout",
     "output_type": "stream",
     "text": [
      "Residuals are not finite in the initial point.\n",
      "Residuals are not finite in the initial point.\n",
      "Residuals are not finite in the initial point.\n",
      "Residuals are not finite in the initial point.\n",
      "Residuals are not finite in the initial point.\n",
      "Residuals are not finite in the initial point.\n"
     ]
    },
    {
     "name": "stderr",
     "output_type": "stream",
     "text": [
      "\r",
      " 19%|███████████████▍                                                                 | 38/200 [07:29<31:38, 11.72s/it]"
     ]
    },
    {
     "name": "stdout",
     "output_type": "stream",
     "text": [
      "Residuals are not finite in the initial point.\n",
      "Residuals are not finite in the initial point.\n",
      "Residuals are not finite in the initial point.\n",
      "Residuals are not finite in the initial point.\n",
      "Residuals are not finite in the initial point.\n",
      "Residuals are not finite in the initial point.\n",
      "Residuals are not finite in the initial point.\n",
      "Residuals are not finite in the initial point.\n"
     ]
    },
    {
     "name": "stderr",
     "output_type": "stream",
     "text": [
      "\r",
      " 20%|███████████████▊                                                                 | 39/200 [07:40<31:00, 11.55s/it]"
     ]
    },
    {
     "name": "stdout",
     "output_type": "stream",
     "text": [
      "Residuals are not finite in the initial point.\n",
      "Residuals are not finite in the initial point.\n",
      "Residuals are not finite in the initial point.\n",
      "Residuals are not finite in the initial point.\n",
      "Residuals are not finite in the initial point.\n",
      "Residuals are not finite in the initial point.\n",
      "Residuals are not finite in the initial point.\n"
     ]
    },
    {
     "name": "stderr",
     "output_type": "stream",
     "text": [
      "\r",
      " 20%|████████████████▏                                                                | 40/200 [07:51<30:35, 11.47s/it]"
     ]
    },
    {
     "name": "stdout",
     "output_type": "stream",
     "text": [
      "Residuals are not finite in the initial point.\n",
      "Residuals are not finite in the initial point.\n",
      "Residuals are not finite in the initial point.\n",
      "Residuals are not finite in the initial point.\n",
      "Residuals are not finite in the initial point.\n",
      "Residuals are not finite in the initial point.\n",
      "Residuals are not finite in the initial point.\n"
     ]
    },
    {
     "name": "stderr",
     "output_type": "stream",
     "text": [
      "\r",
      " 20%|████████████████▌                                                                | 41/200 [08:03<31:00, 11.70s/it]"
     ]
    },
    {
     "name": "stdout",
     "output_type": "stream",
     "text": [
      "Residuals are not finite in the initial point.\n",
      "Residuals are not finite in the initial point.\n",
      "Residuals are not finite in the initial point.\n",
      "Residuals are not finite in the initial point.\n",
      "Residuals are not finite in the initial point.\n",
      "Residuals are not finite in the initial point.\n"
     ]
    },
    {
     "name": "stderr",
     "output_type": "stream",
     "text": [
      "\r",
      " 21%|█████████████████                                                                | 42/200 [08:15<30:40, 11.65s/it]"
     ]
    },
    {
     "name": "stdout",
     "output_type": "stream",
     "text": [
      "Residuals are not finite in the initial point.\n",
      "Residuals are not finite in the initial point.\n",
      "Residuals are not finite in the initial point.\n",
      "Residuals are not finite in the initial point.\n",
      "Residuals are not finite in the initial point.\n",
      "Residuals are not finite in the initial point.\n",
      "Residuals are not finite in the initial point.\n",
      "Residuals are not finite in the initial point.\n",
      "Residuals are not finite in the initial point.\n"
     ]
    },
    {
     "name": "stderr",
     "output_type": "stream",
     "text": [
      "\r",
      " 22%|█████████████████▍                                                               | 43/200 [08:26<30:20, 11.60s/it]"
     ]
    },
    {
     "name": "stdout",
     "output_type": "stream",
     "text": [
      "Residuals are not finite in the initial point.\n",
      "Residuals are not finite in the initial point.\n",
      "Residuals are not finite in the initial point.\n",
      "Residuals are not finite in the initial point.\n",
      "Residuals are not finite in the initial point.\n",
      "Residuals are not finite in the initial point.\n"
     ]
    },
    {
     "name": "stderr",
     "output_type": "stream",
     "text": [
      "\r",
      " 22%|█████████████████▊                                                               | 44/200 [08:38<29:58, 11.53s/it]"
     ]
    },
    {
     "name": "stdout",
     "output_type": "stream",
     "text": [
      "Residuals are not finite in the initial point.\n",
      "Residuals are not finite in the initial point.\n",
      "Residuals are not finite in the initial point.\n",
      "Residuals are not finite in the initial point.\n",
      "Residuals are not finite in the initial point.\n",
      "Residuals are not finite in the initial point.\n",
      "Residuals are not finite in the initial point.\n",
      "Residuals are not finite in the initial point.\n",
      "Residuals are not finite in the initial point.\n",
      "Residuals are not finite in the initial point.\n"
     ]
    },
    {
     "name": "stderr",
     "output_type": "stream",
     "text": [
      "\r",
      " 22%|██████████████████▏                                                              | 45/200 [08:50<30:13, 11.70s/it]"
     ]
    },
    {
     "name": "stdout",
     "output_type": "stream",
     "text": [
      "Residuals are not finite in the initial point.\n",
      "Residuals are not finite in the initial point.\n",
      "Residuals are not finite in the initial point.\n",
      "Residuals are not finite in the initial point.\n",
      "Residuals are not finite in the initial point.\n",
      "Residuals are not finite in the initial point.\n",
      "Residuals are not finite in the initial point.\n",
      "Residuals are not finite in the initial point.\n",
      "Residuals are not finite in the initial point.\n"
     ]
    },
    {
     "name": "stderr",
     "output_type": "stream",
     "text": [
      "\r",
      " 23%|██████████████████▋                                                              | 46/200 [09:01<29:24, 11.46s/it]"
     ]
    },
    {
     "name": "stdout",
     "output_type": "stream",
     "text": [
      "Residuals are not finite in the initial point.\n",
      "Residuals are not finite in the initial point.\n",
      "Residuals are not finite in the initial point.\n",
      "Residuals are not finite in the initial point.\n",
      "Residuals are not finite in the initial point.\n",
      "Residuals are not finite in the initial point.\n",
      "Residuals are not finite in the initial point.\n",
      "Residuals are not finite in the initial point.\n",
      "Residuals are not finite in the initial point.\n"
     ]
    },
    {
     "name": "stderr",
     "output_type": "stream",
     "text": [
      "\r",
      " 24%|███████████████████                                                              | 47/200 [09:13<29:22, 11.52s/it]"
     ]
    },
    {
     "name": "stdout",
     "output_type": "stream",
     "text": [
      "Residuals are not finite in the initial point.\n",
      "Residuals are not finite in the initial point.\n",
      "Residuals are not finite in the initial point.\n",
      "Residuals are not finite in the initial point.\n",
      "Residuals are not finite in the initial point.\n",
      "Residuals are not finite in the initial point.\n",
      "Residuals are not finite in the initial point.\n",
      "Residuals are not finite in the initial point.\n"
     ]
    },
    {
     "name": "stderr",
     "output_type": "stream",
     "text": [
      "\r",
      " 24%|███████████████████▍                                                             | 48/200 [09:26<30:40, 12.11s/it]"
     ]
    },
    {
     "name": "stdout",
     "output_type": "stream",
     "text": [
      "Residuals are not finite in the initial point.\n",
      "Residuals are not finite in the initial point.\n",
      "Residuals are not finite in the initial point.\n",
      "Residuals are not finite in the initial point.\n",
      "Residuals are not finite in the initial point.\n"
     ]
    },
    {
     "name": "stderr",
     "output_type": "stream",
     "text": [
      "\r",
      " 24%|███████████████████▊                                                             | 49/200 [09:39<30:51, 12.26s/it]"
     ]
    },
    {
     "name": "stdout",
     "output_type": "stream",
     "text": [
      "Residuals are not finite in the initial point.\n",
      "Residuals are not finite in the initial point.\n",
      "Residuals are not finite in the initial point.\n",
      "Residuals are not finite in the initial point.\n",
      "Residuals are not finite in the initial point.\n",
      "Residuals are not finite in the initial point.\n",
      "Residuals are not finite in the initial point.\n",
      "Residuals are not finite in the initial point.\n",
      "Residuals are not finite in the initial point.\n",
      "Residuals are not finite in the initial point.\n",
      "Residuals are not finite in the initial point.\n",
      "Residuals are not finite in the initial point.\n"
     ]
    },
    {
     "name": "stderr",
     "output_type": "stream",
     "text": [
      "\r",
      " 25%|████████████████████▎                                                            | 50/200 [09:50<30:08, 12.06s/it]"
     ]
    },
    {
     "name": "stdout",
     "output_type": "stream",
     "text": [
      "Residuals are not finite in the initial point.\n",
      "Residuals are not finite in the initial point.\n",
      "Residuals are not finite in the initial point.\n",
      "Residuals are not finite in the initial point.\n",
      "Residuals are not finite in the initial point.\n",
      "Residuals are not finite in the initial point.\n",
      "Residuals are not finite in the initial point.\n",
      "Residuals are not finite in the initial point.\n",
      "Residuals are not finite in the initial point.\n"
     ]
    },
    {
     "name": "stderr",
     "output_type": "stream",
     "text": [
      "\r",
      " 26%|████████████████████▋                                                            | 51/200 [10:01<29:12, 11.76s/it]"
     ]
    },
    {
     "name": "stdout",
     "output_type": "stream",
     "text": [
      "Residuals are not finite in the initial point.\n",
      "Residuals are not finite in the initial point.\n",
      "Residuals are not finite in the initial point.\n",
      "Residuals are not finite in the initial point.\n",
      "Residuals are not finite in the initial point.\n",
      "Residuals are not finite in the initial point.\n",
      "Residuals are not finite in the initial point.\n",
      "Residuals are not finite in the initial point.\n"
     ]
    },
    {
     "name": "stderr",
     "output_type": "stream",
     "text": [
      "\r",
      " 26%|█████████████████████                                                            | 52/200 [10:14<29:44, 12.06s/it]"
     ]
    },
    {
     "name": "stdout",
     "output_type": "stream",
     "text": [
      "Residuals are not finite in the initial point.\n",
      "Residuals are not finite in the initial point.\n",
      "Residuals are not finite in the initial point.\n",
      "Residuals are not finite in the initial point.\n",
      "Residuals are not finite in the initial point.\n",
      "Residuals are not finite in the initial point.\n",
      "Residuals are not finite in the initial point.\n",
      "Residuals are not finite in the initial point.\n"
     ]
    },
    {
     "name": "stderr",
     "output_type": "stream",
     "text": [
      "\r",
      " 26%|█████████████████████▍                                                           | 53/200 [10:26<29:51, 12.19s/it]"
     ]
    },
    {
     "name": "stdout",
     "output_type": "stream",
     "text": [
      "Residuals are not finite in the initial point.\n",
      "Residuals are not finite in the initial point.\n",
      "Residuals are not finite in the initial point.\n",
      "Residuals are not finite in the initial point.\n",
      "Residuals are not finite in the initial point.\n",
      "Residuals are not finite in the initial point.\n",
      "Residuals are not finite in the initial point.\n",
      "Residuals are not finite in the initial point.\n"
     ]
    },
    {
     "name": "stderr",
     "output_type": "stream",
     "text": [
      "\r",
      " 27%|█████████████████████▊                                                           | 54/200 [10:38<29:19, 12.05s/it]"
     ]
    },
    {
     "name": "stdout",
     "output_type": "stream",
     "text": [
      "Residuals are not finite in the initial point.\n",
      "Residuals are not finite in the initial point.\n",
      "Residuals are not finite in the initial point.\n",
      "Residuals are not finite in the initial point.\n",
      "Residuals are not finite in the initial point.\n",
      "Residuals are not finite in the initial point.\n",
      "Residuals are not finite in the initial point.\n",
      "Residuals are not finite in the initial point.\n"
     ]
    },
    {
     "name": "stderr",
     "output_type": "stream",
     "text": [
      "\r",
      " 28%|██████████████████████▎                                                          | 55/200 [10:50<28:45, 11.90s/it]"
     ]
    },
    {
     "name": "stdout",
     "output_type": "stream",
     "text": [
      "Residuals are not finite in the initial point.\n",
      "Residuals are not finite in the initial point.\n",
      "Residuals are not finite in the initial point.\n",
      "Residuals are not finite in the initial point.\n",
      "Residuals are not finite in the initial point.\n",
      "Residuals are not finite in the initial point.\n"
     ]
    },
    {
     "name": "stderr",
     "output_type": "stream",
     "text": [
      "\r",
      " 28%|██████████████████████▋                                                          | 56/200 [11:01<28:13, 11.76s/it]"
     ]
    },
    {
     "name": "stdout",
     "output_type": "stream",
     "text": [
      "Residuals are not finite in the initial point.\n",
      "Residuals are not finite in the initial point.\n",
      "Residuals are not finite in the initial point.\n",
      "Residuals are not finite in the initial point.\n",
      "Residuals are not finite in the initial point.\n",
      "Residuals are not finite in the initial point.\n",
      "Residuals are not finite in the initial point.\n",
      "Residuals are not finite in the initial point.\n",
      "Residuals are not finite in the initial point.\n",
      "Residuals are not finite in the initial point.\n"
     ]
    },
    {
     "name": "stderr",
     "output_type": "stream",
     "text": [
      "\r",
      " 28%|███████████████████████                                                          | 57/200 [11:13<28:05, 11.79s/it]"
     ]
    },
    {
     "name": "stdout",
     "output_type": "stream",
     "text": [
      "Residuals are not finite in the initial point.\n",
      "Residuals are not finite in the initial point.\n",
      "Residuals are not finite in the initial point.\n",
      "Residuals are not finite in the initial point.\n",
      "Residuals are not finite in the initial point.\n",
      "Residuals are not finite in the initial point.\n",
      "Residuals are not finite in the initial point.\n",
      "Residuals are not finite in the initial point.\n",
      "Residuals are not finite in the initial point.\n"
     ]
    },
    {
     "name": "stderr",
     "output_type": "stream",
     "text": [
      "\r",
      " 29%|███████████████████████▍                                                         | 58/200 [11:24<27:30, 11.63s/it]"
     ]
    },
    {
     "name": "stdout",
     "output_type": "stream",
     "text": [
      "Residuals are not finite in the initial point.\n",
      "Residuals are not finite in the initial point.\n",
      "Residuals are not finite in the initial point.\n",
      "Residuals are not finite in the initial point.\n",
      "Residuals are not finite in the initial point.\n",
      "Residuals are not finite in the initial point.\n",
      "Residuals are not finite in the initial point.\n"
     ]
    },
    {
     "name": "stderr",
     "output_type": "stream",
     "text": [
      "\r",
      " 30%|███████████████████████▉                                                         | 59/200 [11:36<27:12, 11.58s/it]"
     ]
    },
    {
     "name": "stdout",
     "output_type": "stream",
     "text": [
      "Residuals are not finite in the initial point.\n",
      "Residuals are not finite in the initial point.\n",
      "Residuals are not finite in the initial point.\n",
      "Residuals are not finite in the initial point.\n",
      "Residuals are not finite in the initial point.\n",
      "Residuals are not finite in the initial point.\n"
     ]
    },
    {
     "name": "stderr",
     "output_type": "stream",
     "text": [
      "\r",
      " 30%|████████████████████████▎                                                        | 60/200 [11:47<26:50, 11.51s/it]"
     ]
    },
    {
     "name": "stdout",
     "output_type": "stream",
     "text": [
      "Residuals are not finite in the initial point.\n",
      "Residuals are not finite in the initial point.\n",
      "Residuals are not finite in the initial point.\n",
      "Residuals are not finite in the initial point.\n",
      "Residuals are not finite in the initial point.\n",
      "Residuals are not finite in the initial point.\n",
      "Residuals are not finite in the initial point.\n",
      "Residuals are not finite in the initial point.\n",
      "Residuals are not finite in the initial point.\n"
     ]
    },
    {
     "name": "stderr",
     "output_type": "stream",
     "text": [
      "\r",
      " 30%|████████████████████████▋                                                        | 61/200 [11:59<26:51, 11.59s/it]"
     ]
    },
    {
     "name": "stdout",
     "output_type": "stream",
     "text": [
      "Residuals are not finite in the initial point.\n",
      "Residuals are not finite in the initial point.\n",
      "Residuals are not finite in the initial point.\n",
      "Residuals are not finite in the initial point.\n",
      "Residuals are not finite in the initial point.\n",
      "Residuals are not finite in the initial point.\n",
      "Residuals are not finite in the initial point.\n",
      "Residuals are not finite in the initial point.\n",
      "Residuals are not finite in the initial point.\n"
     ]
    },
    {
     "name": "stderr",
     "output_type": "stream",
     "text": [
      "\r",
      " 31%|█████████████████████████                                                        | 62/200 [12:11<26:55, 11.70s/it]"
     ]
    },
    {
     "name": "stdout",
     "output_type": "stream",
     "text": [
      "Residuals are not finite in the initial point.\n",
      "Residuals are not finite in the initial point.\n",
      "Residuals are not finite in the initial point.\n",
      "Residuals are not finite in the initial point.\n",
      "Residuals are not finite in the initial point.\n",
      "Residuals are not finite in the initial point.\n"
     ]
    },
    {
     "name": "stderr",
     "output_type": "stream",
     "text": [
      "\r",
      " 32%|█████████████████████████▌                                                       | 63/200 [12:22<26:36, 11.66s/it]"
     ]
    },
    {
     "name": "stdout",
     "output_type": "stream",
     "text": [
      "Residuals are not finite in the initial point.\n",
      "Residuals are not finite in the initial point.\n",
      "Residuals are not finite in the initial point.\n",
      "Residuals are not finite in the initial point.\n",
      "Residuals are not finite in the initial point.\n",
      "Residuals are not finite in the initial point.\n",
      "Residuals are not finite in the initial point.\n",
      "Residuals are not finite in the initial point.\n"
     ]
    },
    {
     "name": "stderr",
     "output_type": "stream",
     "text": [
      "\r",
      " 32%|█████████████████████████▉                                                       | 64/200 [12:34<26:22, 11.64s/it]"
     ]
    },
    {
     "name": "stdout",
     "output_type": "stream",
     "text": [
      "Residuals are not finite in the initial point.\n",
      "Residuals are not finite in the initial point.\n",
      "Residuals are not finite in the initial point.\n",
      "Residuals are not finite in the initial point.\n",
      "Residuals are not finite in the initial point.\n",
      "Residuals are not finite in the initial point.\n",
      "Residuals are not finite in the initial point.\n",
      "Residuals are not finite in the initial point.\n"
     ]
    },
    {
     "name": "stderr",
     "output_type": "stream",
     "text": [
      "\r",
      " 32%|██████████████████████████▎                                                      | 65/200 [12:45<25:48, 11.47s/it]"
     ]
    },
    {
     "name": "stdout",
     "output_type": "stream",
     "text": [
      "Residuals are not finite in the initial point.\n",
      "Residuals are not finite in the initial point.\n",
      "Residuals are not finite in the initial point.\n",
      "Residuals are not finite in the initial point.\n",
      "Residuals are not finite in the initial point.\n",
      "Residuals are not finite in the initial point.\n",
      "Residuals are not finite in the initial point.\n",
      "Residuals are not finite in the initial point.\n",
      "Residuals are not finite in the initial point.\n"
     ]
    },
    {
     "name": "stderr",
     "output_type": "stream",
     "text": [
      "\r",
      " 33%|██████████████████████████▋                                                      | 66/200 [12:57<25:35, 11.46s/it]"
     ]
    },
    {
     "name": "stdout",
     "output_type": "stream",
     "text": [
      "Residuals are not finite in the initial point.\n",
      "Residuals are not finite in the initial point.\n",
      "Residuals are not finite in the initial point.\n",
      "Residuals are not finite in the initial point.\n",
      "Residuals are not finite in the initial point.\n",
      "Residuals are not finite in the initial point.\n"
     ]
    },
    {
     "name": "stderr",
     "output_type": "stream",
     "text": [
      "\r",
      " 34%|███████████████████████████▏                                                     | 67/200 [13:09<25:51, 11.67s/it]"
     ]
    },
    {
     "name": "stdout",
     "output_type": "stream",
     "text": [
      "Residuals are not finite in the initial point.\n",
      "Residuals are not finite in the initial point.\n",
      "Residuals are not finite in the initial point.\n",
      "Residuals are not finite in the initial point.\n",
      "Residuals are not finite in the initial point.\n",
      "Residuals are not finite in the initial point.\n",
      "Residuals are not finite in the initial point.\n"
     ]
    },
    {
     "name": "stderr",
     "output_type": "stream",
     "text": [
      "\r",
      " 34%|███████████████████████████▌                                                     | 68/200 [13:21<26:05, 11.86s/it]"
     ]
    },
    {
     "name": "stdout",
     "output_type": "stream",
     "text": [
      "Residuals are not finite in the initial point.\n",
      "Residuals are not finite in the initial point.\n",
      "Residuals are not finite in the initial point.\n",
      "Residuals are not finite in the initial point.\n",
      "Residuals are not finite in the initial point.\n",
      "Residuals are not finite in the initial point.\n",
      "Residuals are not finite in the initial point.\n",
      "Residuals are not finite in the initial point.\n"
     ]
    },
    {
     "name": "stderr",
     "output_type": "stream",
     "text": [
      "\r",
      " 34%|███████████████████████████▉                                                     | 69/200 [13:32<25:37, 11.73s/it]"
     ]
    },
    {
     "name": "stdout",
     "output_type": "stream",
     "text": [
      "Residuals are not finite in the initial point.\n",
      "Residuals are not finite in the initial point.\n",
      "Residuals are not finite in the initial point.\n",
      "Residuals are not finite in the initial point.\n",
      "Residuals are not finite in the initial point.\n",
      "Residuals are not finite in the initial point.\n",
      "Residuals are not finite in the initial point.\n"
     ]
    },
    {
     "name": "stderr",
     "output_type": "stream",
     "text": [
      "\r",
      " 35%|████████████████████████████▎                                                    | 70/200 [13:44<25:15, 11.66s/it]"
     ]
    },
    {
     "name": "stdout",
     "output_type": "stream",
     "text": [
      "Residuals are not finite in the initial point.\n",
      "Residuals are not finite in the initial point.\n",
      "Residuals are not finite in the initial point.\n",
      "Residuals are not finite in the initial point.\n",
      "Residuals are not finite in the initial point.\n",
      "Residuals are not finite in the initial point.\n"
     ]
    },
    {
     "name": "stderr",
     "output_type": "stream",
     "text": [
      "\r",
      " 36%|████████████████████████████▊                                                    | 71/200 [13:57<25:50, 12.02s/it]"
     ]
    },
    {
     "name": "stdout",
     "output_type": "stream",
     "text": [
      "Residuals are not finite in the initial point.\n",
      "Residuals are not finite in the initial point.\n",
      "Residuals are not finite in the initial point.\n",
      "Residuals are not finite in the initial point.\n",
      "Residuals are not finite in the initial point.\n",
      "Residuals are not finite in the initial point.\n"
     ]
    },
    {
     "name": "stderr",
     "output_type": "stream",
     "text": [
      "\r",
      " 36%|█████████████████████████████▏                                                   | 72/200 [14:09<25:36, 12.00s/it]"
     ]
    },
    {
     "name": "stdout",
     "output_type": "stream",
     "text": [
      "Residuals are not finite in the initial point.\n",
      "Residuals are not finite in the initial point.\n",
      "Residuals are not finite in the initial point.\n",
      "Residuals are not finite in the initial point.\n",
      "Residuals are not finite in the initial point.\n",
      "Residuals are not finite in the initial point.\n",
      "Residuals are not finite in the initial point.\n"
     ]
    },
    {
     "name": "stderr",
     "output_type": "stream",
     "text": [
      "\r",
      " 36%|█████████████████████████████▌                                                   | 73/200 [14:20<24:44, 11.69s/it]"
     ]
    },
    {
     "name": "stdout",
     "output_type": "stream",
     "text": [
      "Residuals are not finite in the initial point.\n",
      "Residuals are not finite in the initial point.\n",
      "Residuals are not finite in the initial point.\n",
      "Residuals are not finite in the initial point.\n",
      "Residuals are not finite in the initial point.\n",
      "Residuals are not finite in the initial point.\n",
      "Residuals are not finite in the initial point.\n",
      "Residuals are not finite in the initial point.\n",
      "Residuals are not finite in the initial point.\n",
      "Residuals are not finite in the initial point.\n",
      "Residuals are not finite in the initial point.\n"
     ]
    },
    {
     "name": "stderr",
     "output_type": "stream",
     "text": [
      "\r",
      " 37%|█████████████████████████████▉                                                   | 74/200 [14:31<24:36, 11.72s/it]"
     ]
    },
    {
     "name": "stdout",
     "output_type": "stream",
     "text": [
      "Residuals are not finite in the initial point.\n",
      "Residuals are not finite in the initial point.\n",
      "Residuals are not finite in the initial point.\n",
      "Residuals are not finite in the initial point.\n",
      "Residuals are not finite in the initial point.\n",
      "Residuals are not finite in the initial point.\n"
     ]
    },
    {
     "name": "stderr",
     "output_type": "stream",
     "text": [
      "\r",
      " 38%|██████████████████████████████▍                                                  | 75/200 [14:43<24:29, 11.76s/it]"
     ]
    },
    {
     "name": "stdout",
     "output_type": "stream",
     "text": [
      "Residuals are not finite in the initial point.\n",
      "Residuals are not finite in the initial point.\n",
      "Residuals are not finite in the initial point.\n",
      "Residuals are not finite in the initial point.\n",
      "Residuals are not finite in the initial point.\n",
      "Residuals are not finite in the initial point.\n",
      "Residuals are not finite in the initial point.\n",
      "Residuals are not finite in the initial point.\n"
     ]
    },
    {
     "name": "stderr",
     "output_type": "stream",
     "text": [
      "\r",
      " 38%|██████████████████████████████▊                                                  | 76/200 [14:55<24:02, 11.64s/it]"
     ]
    },
    {
     "name": "stdout",
     "output_type": "stream",
     "text": [
      "Residuals are not finite in the initial point.\n",
      "Residuals are not finite in the initial point.\n",
      "Residuals are not finite in the initial point.\n",
      "Residuals are not finite in the initial point.\n",
      "Residuals are not finite in the initial point.\n",
      "Residuals are not finite in the initial point.\n",
      "Residuals are not finite in the initial point.\n"
     ]
    },
    {
     "name": "stderr",
     "output_type": "stream",
     "text": [
      "\r",
      " 38%|███████████████████████████████▏                                                 | 77/200 [15:06<23:39, 11.54s/it]"
     ]
    },
    {
     "name": "stdout",
     "output_type": "stream",
     "text": [
      "Residuals are not finite in the initial point.\n",
      "Residuals are not finite in the initial point.\n",
      "Residuals are not finite in the initial point.\n",
      "Residuals are not finite in the initial point.\n",
      "Residuals are not finite in the initial point.\n",
      "Residuals are not finite in the initial point.\n",
      "Residuals are not finite in the initial point.\n",
      "Residuals are not finite in the initial point.\n",
      "Residuals are not finite in the initial point.\n",
      "Residuals are not finite in the initial point.\n",
      "Residuals are not finite in the initial point.\n"
     ]
    },
    {
     "name": "stderr",
     "output_type": "stream",
     "text": [
      "\r",
      " 39%|███████████████████████████████▌                                                 | 78/200 [15:17<23:09, 11.39s/it]"
     ]
    },
    {
     "name": "stdout",
     "output_type": "stream",
     "text": [
      "Residuals are not finite in the initial point.\n",
      "Residuals are not finite in the initial point.\n",
      "Residuals are not finite in the initial point.\n",
      "Residuals are not finite in the initial point.\n",
      "Residuals are not finite in the initial point.\n",
      "Residuals are not finite in the initial point.\n",
      "Residuals are not finite in the initial point.\n",
      "Residuals are not finite in the initial point.\n"
     ]
    },
    {
     "name": "stderr",
     "output_type": "stream",
     "text": [
      "\r",
      " 40%|███████████████████████████████▉                                                 | 79/200 [15:30<23:37, 11.72s/it]"
     ]
    },
    {
     "name": "stdout",
     "output_type": "stream",
     "text": [
      "Residuals are not finite in the initial point.\n",
      "Residuals are not finite in the initial point.\n",
      "Residuals are not finite in the initial point.\n",
      "Residuals are not finite in the initial point.\n",
      "Residuals are not finite in the initial point.\n",
      "Residuals are not finite in the initial point.\n",
      "Residuals are not finite in the initial point.\n"
     ]
    },
    {
     "name": "stderr",
     "output_type": "stream",
     "text": [
      "\r",
      " 40%|████████████████████████████████▍                                                | 80/200 [15:41<23:32, 11.77s/it]"
     ]
    },
    {
     "name": "stdout",
     "output_type": "stream",
     "text": [
      "Residuals are not finite in the initial point.\n",
      "Residuals are not finite in the initial point.\n",
      "Residuals are not finite in the initial point.\n",
      "Residuals are not finite in the initial point.\n",
      "Residuals are not finite in the initial point.\n",
      "Residuals are not finite in the initial point.\n",
      "Residuals are not finite in the initial point.\n",
      "Residuals are not finite in the initial point.\n",
      "Residuals are not finite in the initial point.\n"
     ]
    },
    {
     "name": "stderr",
     "output_type": "stream",
     "text": [
      "\r",
      " 40%|████████████████████████████████▊                                                | 81/200 [15:53<23:24, 11.80s/it]"
     ]
    },
    {
     "name": "stdout",
     "output_type": "stream",
     "text": [
      "Residuals are not finite in the initial point.\n",
      "Residuals are not finite in the initial point.\n",
      "Residuals are not finite in the initial point.\n",
      "Residuals are not finite in the initial point.\n",
      "Residuals are not finite in the initial point.\n",
      "Residuals are not finite in the initial point.\n",
      "Residuals are not finite in the initial point.\n"
     ]
    },
    {
     "name": "stderr",
     "output_type": "stream",
     "text": [
      "\r",
      " 41%|█████████████████████████████████▏                                               | 82/200 [16:05<22:53, 11.64s/it]"
     ]
    },
    {
     "name": "stdout",
     "output_type": "stream",
     "text": [
      "Residuals are not finite in the initial point.\n",
      "Residuals are not finite in the initial point.\n",
      "Residuals are not finite in the initial point.\n",
      "Residuals are not finite in the initial point.\n",
      "Residuals are not finite in the initial point.\n",
      "Residuals are not finite in the initial point.\n",
      "Residuals are not finite in the initial point.\n",
      "Residuals are not finite in the initial point.\n",
      "Residuals are not finite in the initial point.\n"
     ]
    },
    {
     "name": "stderr",
     "output_type": "stream",
     "text": [
      "\r",
      " 42%|█████████████████████████████████▌                                               | 83/200 [16:16<22:37, 11.60s/it]"
     ]
    },
    {
     "name": "stdout",
     "output_type": "stream",
     "text": [
      "Residuals are not finite in the initial point.\n",
      "Residuals are not finite in the initial point.\n",
      "Residuals are not finite in the initial point.\n",
      "Residuals are not finite in the initial point.\n",
      "Residuals are not finite in the initial point.\n",
      "Residuals are not finite in the initial point.\n",
      "Residuals are not finite in the initial point.\n"
     ]
    },
    {
     "name": "stderr",
     "output_type": "stream",
     "text": [
      "\r",
      " 42%|██████████████████████████████████                                               | 84/200 [16:28<22:48, 11.80s/it]"
     ]
    },
    {
     "name": "stdout",
     "output_type": "stream",
     "text": [
      "Residuals are not finite in the initial point.\n",
      "Residuals are not finite in the initial point.\n",
      "Residuals are not finite in the initial point.\n",
      "Residuals are not finite in the initial point.\n",
      "Residuals are not finite in the initial point.\n",
      "Residuals are not finite in the initial point.\n",
      "Residuals are not finite in the initial point.\n",
      "Residuals are not finite in the initial point.\n",
      "Residuals are not finite in the initial point.\n",
      "Residuals are not finite in the initial point.\n"
     ]
    },
    {
     "name": "stderr",
     "output_type": "stream",
     "text": [
      "\r",
      " 42%|██████████████████████████████████▍                                              | 85/200 [16:40<22:44, 11.86s/it]"
     ]
    },
    {
     "name": "stdout",
     "output_type": "stream",
     "text": [
      "Residuals are not finite in the initial point.\n",
      "Residuals are not finite in the initial point.\n",
      "Residuals are not finite in the initial point.\n",
      "Residuals are not finite in the initial point.\n",
      "Residuals are not finite in the initial point.\n"
     ]
    },
    {
     "name": "stderr",
     "output_type": "stream",
     "text": [
      "\r",
      " 43%|██████████████████████████████████▊                                              | 86/200 [16:53<22:43, 11.96s/it]"
     ]
    },
    {
     "name": "stdout",
     "output_type": "stream",
     "text": [
      "Residuals are not finite in the initial point.\n",
      "Residuals are not finite in the initial point.\n",
      "Residuals are not finite in the initial point.\n",
      "Residuals are not finite in the initial point.\n",
      "Residuals are not finite in the initial point.\n",
      "Residuals are not finite in the initial point.\n",
      "Residuals are not finite in the initial point.\n",
      "Residuals are not finite in the initial point.\n",
      "Residuals are not finite in the initial point.\n",
      "Residuals are not finite in the initial point.\n"
     ]
    },
    {
     "name": "stderr",
     "output_type": "stream",
     "text": [
      "\r",
      " 44%|███████████████████████████████████▏                                             | 87/200 [17:04<22:08, 11.76s/it]"
     ]
    },
    {
     "name": "stdout",
     "output_type": "stream",
     "text": [
      "Residuals are not finite in the initial point.\n",
      "Residuals are not finite in the initial point.\n",
      "Residuals are not finite in the initial point.\n",
      "Residuals are not finite in the initial point.\n",
      "Residuals are not finite in the initial point.\n",
      "Residuals are not finite in the initial point.\n",
      "Residuals are not finite in the initial point.\n",
      "Residuals are not finite in the initial point.\n",
      "Residuals are not finite in the initial point.\n"
     ]
    },
    {
     "name": "stderr",
     "output_type": "stream",
     "text": [
      "\r",
      " 44%|███████████████████████████████████▋                                             | 88/200 [17:15<21:36, 11.58s/it]"
     ]
    },
    {
     "name": "stdout",
     "output_type": "stream",
     "text": [
      "Residuals are not finite in the initial point.\n",
      "Residuals are not finite in the initial point.\n",
      "Residuals are not finite in the initial point.\n",
      "Residuals are not finite in the initial point.\n",
      "Residuals are not finite in the initial point.\n",
      "Residuals are not finite in the initial point.\n"
     ]
    },
    {
     "name": "stderr",
     "output_type": "stream",
     "text": [
      "\r",
      " 44%|████████████████████████████████████                                             | 89/200 [17:27<21:53, 11.83s/it]"
     ]
    },
    {
     "name": "stdout",
     "output_type": "stream",
     "text": [
      "Residuals are not finite in the initial point.\n",
      "Residuals are not finite in the initial point.\n",
      "Residuals are not finite in the initial point.\n",
      "Residuals are not finite in the initial point.\n",
      "Residuals are not finite in the initial point.\n",
      "Residuals are not finite in the initial point.\n",
      "Residuals are not finite in the initial point.\n",
      "Residuals are not finite in the initial point.\n",
      "Residuals are not finite in the initial point.\n",
      "Residuals are not finite in the initial point.\n"
     ]
    },
    {
     "name": "stderr",
     "output_type": "stream",
     "text": [
      "\r",
      " 45%|████████████████████████████████████▍                                            | 90/200 [17:39<21:26, 11.70s/it]"
     ]
    },
    {
     "name": "stdout",
     "output_type": "stream",
     "text": [
      "Residuals are not finite in the initial point.\n",
      "Residuals are not finite in the initial point.\n",
      "Residuals are not finite in the initial point.\n",
      "Residuals are not finite in the initial point.\n",
      "Residuals are not finite in the initial point.\n",
      "Residuals are not finite in the initial point.\n",
      "Residuals are not finite in the initial point.\n",
      "Residuals are not finite in the initial point.\n",
      "Residuals are not finite in the initial point.\n"
     ]
    },
    {
     "name": "stderr",
     "output_type": "stream",
     "text": [
      "\r",
      " 46%|████████████████████████████████████▊                                            | 91/200 [17:50<21:10, 11.66s/it]"
     ]
    },
    {
     "name": "stdout",
     "output_type": "stream",
     "text": [
      "Residuals are not finite in the initial point.\n",
      "Residuals are not finite in the initial point.\n",
      "Residuals are not finite in the initial point.\n",
      "Residuals are not finite in the initial point.\n",
      "Residuals are not finite in the initial point.\n",
      "Residuals are not finite in the initial point.\n",
      "Residuals are not finite in the initial point.\n",
      "Residuals are not finite in the initial point.\n",
      "Residuals are not finite in the initial point.\n"
     ]
    },
    {
     "name": "stderr",
     "output_type": "stream",
     "text": [
      "\r",
      " 46%|█████████████████████████████████████▎                                           | 92/200 [18:01<20:38, 11.46s/it]"
     ]
    },
    {
     "name": "stdout",
     "output_type": "stream",
     "text": [
      "Residuals are not finite in the initial point.\n",
      "Residuals are not finite in the initial point.\n",
      "Residuals are not finite in the initial point.\n",
      "Residuals are not finite in the initial point.\n",
      "Residuals are not finite in the initial point.\n",
      "Residuals are not finite in the initial point.\n",
      "Residuals are not finite in the initial point.\n",
      "Residuals are not finite in the initial point.\n",
      "Residuals are not finite in the initial point.\n"
     ]
    },
    {
     "name": "stderr",
     "output_type": "stream",
     "text": [
      "\r",
      " 46%|█████████████████████████████████████▋                                           | 93/200 [18:12<20:11, 11.33s/it]"
     ]
    },
    {
     "name": "stdout",
     "output_type": "stream",
     "text": [
      "Residuals are not finite in the initial point.\n",
      "Residuals are not finite in the initial point.\n",
      "Residuals are not finite in the initial point.\n",
      "Residuals are not finite in the initial point.\n",
      "Residuals are not finite in the initial point.\n",
      "Residuals are not finite in the initial point.\n",
      "Residuals are not finite in the initial point.\n",
      "Residuals are not finite in the initial point.\n",
      "Residuals are not finite in the initial point.\n"
     ]
    },
    {
     "name": "stderr",
     "output_type": "stream",
     "text": [
      "\r",
      " 47%|██████████████████████████████████████                                           | 94/200 [18:25<20:43, 11.73s/it]"
     ]
    },
    {
     "name": "stdout",
     "output_type": "stream",
     "text": [
      "Residuals are not finite in the initial point.\n",
      "Residuals are not finite in the initial point.\n",
      "Residuals are not finite in the initial point.\n",
      "Residuals are not finite in the initial point.\n",
      "Residuals are not finite in the initial point.\n",
      "Residuals are not finite in the initial point.\n",
      "Residuals are not finite in the initial point.\n"
     ]
    },
    {
     "name": "stderr",
     "output_type": "stream",
     "text": [
      "\r",
      " 48%|██████████████████████████████████████▍                                          | 95/200 [18:35<19:52, 11.35s/it]"
     ]
    },
    {
     "name": "stdout",
     "output_type": "stream",
     "text": [
      "Residuals are not finite in the initial point.\n",
      "Residuals are not finite in the initial point.\n",
      "Residuals are not finite in the initial point.\n",
      "Residuals are not finite in the initial point.\n",
      "Residuals are not finite in the initial point.\n",
      "Residuals are not finite in the initial point.\n",
      "Residuals are not finite in the initial point.\n"
     ]
    },
    {
     "name": "stderr",
     "output_type": "stream",
     "text": [
      "\r",
      " 48%|██████████████████████████████████████▉                                          | 96/200 [18:47<19:36, 11.31s/it]"
     ]
    },
    {
     "name": "stdout",
     "output_type": "stream",
     "text": [
      "Residuals are not finite in the initial point.\n",
      "Residuals are not finite in the initial point.\n",
      "Residuals are not finite in the initial point.\n",
      "Residuals are not finite in the initial point.\n",
      "Residuals are not finite in the initial point.\n",
      "Residuals are not finite in the initial point.\n",
      "Residuals are not finite in the initial point.\n"
     ]
    },
    {
     "name": "stderr",
     "output_type": "stream",
     "text": [
      "\r",
      " 48%|███████████████████████████████████████▎                                         | 97/200 [18:59<19:47, 11.53s/it]"
     ]
    },
    {
     "name": "stdout",
     "output_type": "stream",
     "text": [
      "Residuals are not finite in the initial point.\n",
      "Residuals are not finite in the initial point.\n",
      "Residuals are not finite in the initial point.\n",
      "Residuals are not finite in the initial point.\n",
      "Residuals are not finite in the initial point.\n",
      "Residuals are not finite in the initial point.\n",
      "Residuals are not finite in the initial point.\n",
      "Residuals are not finite in the initial point.\n",
      "Residuals are not finite in the initial point.\n"
     ]
    },
    {
     "name": "stderr",
     "output_type": "stream",
     "text": [
      "\r",
      " 49%|███████████████████████████████████████▋                                         | 98/200 [19:10<19:31, 11.48s/it]"
     ]
    },
    {
     "name": "stdout",
     "output_type": "stream",
     "text": [
      "Residuals are not finite in the initial point.\n",
      "Residuals are not finite in the initial point.\n",
      "Residuals are not finite in the initial point.\n",
      "Residuals are not finite in the initial point.\n",
      "Residuals are not finite in the initial point.\n",
      "Residuals are not finite in the initial point.\n",
      "Residuals are not finite in the initial point.\n",
      "Residuals are not finite in the initial point.\n"
     ]
    },
    {
     "name": "stderr",
     "output_type": "stream",
     "text": [
      "\r",
      " 50%|████████████████████████████████████████                                         | 99/200 [19:22<19:20, 11.49s/it]"
     ]
    },
    {
     "name": "stdout",
     "output_type": "stream",
     "text": [
      "Residuals are not finite in the initial point.\n",
      "Residuals are not finite in the initial point.\n",
      "Residuals are not finite in the initial point.\n",
      "Residuals are not finite in the initial point.\n",
      "Residuals are not finite in the initial point.\n",
      "Residuals are not finite in the initial point.\n",
      "Residuals are not finite in the initial point.\n"
     ]
    },
    {
     "name": "stderr",
     "output_type": "stream",
     "text": [
      "\r",
      " 50%|████████████████████████████████████████                                        | 100/200 [19:34<19:26, 11.66s/it]"
     ]
    },
    {
     "name": "stdout",
     "output_type": "stream",
     "text": [
      "Residuals are not finite in the initial point.\n",
      "Residuals are not finite in the initial point.\n",
      "Residuals are not finite in the initial point.\n",
      "Residuals are not finite in the initial point.\n",
      "Residuals are not finite in the initial point.\n",
      "Residuals are not finite in the initial point.\n"
     ]
    },
    {
     "name": "stderr",
     "output_type": "stream",
     "text": [
      "\r",
      " 50%|████████████████████████████████████████▍                                       | 101/200 [19:44<18:37, 11.29s/it]"
     ]
    },
    {
     "name": "stdout",
     "output_type": "stream",
     "text": [
      "Residuals are not finite in the initial point.\n",
      "Residuals are not finite in the initial point.\n",
      "Residuals are not finite in the initial point.\n",
      "Residuals are not finite in the initial point.\n",
      "Residuals are not finite in the initial point.\n",
      "Residuals are not finite in the initial point.\n"
     ]
    },
    {
     "name": "stderr",
     "output_type": "stream",
     "text": [
      "\r",
      " 51%|████████████████████████████████████████▊                                       | 102/200 [19:56<18:47, 11.50s/it]"
     ]
    },
    {
     "name": "stdout",
     "output_type": "stream",
     "text": [
      "Residuals are not finite in the initial point.\n",
      "Residuals are not finite in the initial point.\n",
      "Residuals are not finite in the initial point.\n",
      "Residuals are not finite in the initial point.\n",
      "Residuals are not finite in the initial point.\n",
      "Residuals are not finite in the initial point.\n"
     ]
    },
    {
     "name": "stderr",
     "output_type": "stream",
     "text": [
      "\r",
      " 52%|█████████████████████████████████████████▏                                      | 103/200 [20:08<18:37, 11.52s/it]"
     ]
    },
    {
     "name": "stdout",
     "output_type": "stream",
     "text": [
      "Residuals are not finite in the initial point.\n",
      "Residuals are not finite in the initial point.\n",
      "Residuals are not finite in the initial point.\n",
      "Residuals are not finite in the initial point.\n",
      "Residuals are not finite in the initial point.\n",
      "Residuals are not finite in the initial point.\n",
      "Residuals are not finite in the initial point.\n",
      "Residuals are not finite in the initial point.\n"
     ]
    },
    {
     "name": "stderr",
     "output_type": "stream",
     "text": [
      "\r",
      " 52%|█████████████████████████████████████████▌                                      | 104/200 [20:19<18:12, 11.38s/it]"
     ]
    },
    {
     "name": "stdout",
     "output_type": "stream",
     "text": [
      "Residuals are not finite in the initial point.\n",
      "Residuals are not finite in the initial point.\n",
      "Residuals are not finite in the initial point.\n",
      "Residuals are not finite in the initial point.\n",
      "Residuals are not finite in the initial point.\n",
      "Residuals are not finite in the initial point.\n",
      "Residuals are not finite in the initial point.\n",
      "Residuals are not finite in the initial point.\n",
      "Residuals are not finite in the initial point.\n"
     ]
    },
    {
     "name": "stderr",
     "output_type": "stream",
     "text": [
      "\r",
      " 52%|██████████████████████████████████████████                                      | 105/200 [20:30<17:46, 11.23s/it]"
     ]
    },
    {
     "name": "stdout",
     "output_type": "stream",
     "text": [
      "Residuals are not finite in the initial point.\n",
      "Residuals are not finite in the initial point.\n",
      "Residuals are not finite in the initial point.\n",
      "Residuals are not finite in the initial point.\n",
      "Residuals are not finite in the initial point.\n",
      "Residuals are not finite in the initial point.\n",
      "Residuals are not finite in the initial point.\n",
      "Residuals are not finite in the initial point.\n",
      "Residuals are not finite in the initial point.\n",
      "Residuals are not finite in the initial point.\n"
     ]
    },
    {
     "name": "stderr",
     "output_type": "stream",
     "text": [
      "\r",
      " 53%|██████████████████████████████████████████▍                                     | 106/200 [20:42<18:00, 11.49s/it]"
     ]
    },
    {
     "name": "stdout",
     "output_type": "stream",
     "text": [
      "Residuals are not finite in the initial point.\n",
      "Residuals are not finite in the initial point.\n",
      "Residuals are not finite in the initial point.\n",
      "Residuals are not finite in the initial point.\n",
      "Residuals are not finite in the initial point.\n",
      "Residuals are not finite in the initial point.\n",
      "Residuals are not finite in the initial point.\n",
      "Residuals are not finite in the initial point.\n"
     ]
    },
    {
     "name": "stderr",
     "output_type": "stream",
     "text": [
      "\r",
      " 54%|██████████████████████████████████████████▊                                     | 107/200 [20:54<17:58, 11.60s/it]"
     ]
    },
    {
     "name": "stdout",
     "output_type": "stream",
     "text": [
      "Residuals are not finite in the initial point.\n",
      "Residuals are not finite in the initial point.\n",
      "Residuals are not finite in the initial point.\n",
      "Residuals are not finite in the initial point.\n",
      "Residuals are not finite in the initial point.\n",
      "Residuals are not finite in the initial point.\n",
      "Residuals are not finite in the initial point.\n"
     ]
    },
    {
     "name": "stderr",
     "output_type": "stream",
     "text": [
      "\r",
      " 54%|███████████████████████████████████████████▏                                    | 108/200 [21:04<17:21, 11.32s/it]"
     ]
    },
    {
     "name": "stdout",
     "output_type": "stream",
     "text": [
      "Residuals are not finite in the initial point.\n",
      "Residuals are not finite in the initial point.\n",
      "Residuals are not finite in the initial point.\n",
      "Residuals are not finite in the initial point.\n",
      "Residuals are not finite in the initial point.\n",
      "Residuals are not finite in the initial point.\n",
      "Residuals are not finite in the initial point.\n",
      "Residuals are not finite in the initial point.\n",
      "Residuals are not finite in the initial point.\n"
     ]
    },
    {
     "name": "stderr",
     "output_type": "stream",
     "text": [
      "\r",
      " 55%|███████████████████████████████████████████▌                                    | 109/200 [21:15<16:49, 11.09s/it]"
     ]
    },
    {
     "name": "stdout",
     "output_type": "stream",
     "text": [
      "Residuals are not finite in the initial point.\n",
      "Residuals are not finite in the initial point.\n",
      "Residuals are not finite in the initial point.\n",
      "Residuals are not finite in the initial point.\n",
      "Residuals are not finite in the initial point.\n",
      "Residuals are not finite in the initial point.\n",
      "Residuals are not finite in the initial point.\n"
     ]
    },
    {
     "name": "stderr",
     "output_type": "stream",
     "text": [
      "\r",
      " 55%|████████████████████████████████████████████                                    | 110/200 [21:25<16:20, 10.89s/it]"
     ]
    },
    {
     "name": "stdout",
     "output_type": "stream",
     "text": [
      "Residuals are not finite in the initial point.\n",
      "Residuals are not finite in the initial point.\n",
      "Residuals are not finite in the initial point.\n",
      "Residuals are not finite in the initial point.\n",
      "Residuals are not finite in the initial point.\n",
      "Residuals are not finite in the initial point.\n",
      "Residuals are not finite in the initial point.\n",
      "Residuals are not finite in the initial point.\n",
      "Residuals are not finite in the initial point.\n"
     ]
    },
    {
     "name": "stderr",
     "output_type": "stream",
     "text": [
      "\r",
      " 56%|████████████████████████████████████████████▍                                   | 111/200 [21:37<16:20, 11.01s/it]"
     ]
    },
    {
     "name": "stdout",
     "output_type": "stream",
     "text": [
      "Residuals are not finite in the initial point.\n",
      "Residuals are not finite in the initial point.\n",
      "Residuals are not finite in the initial point.\n",
      "Residuals are not finite in the initial point.\n",
      "Residuals are not finite in the initial point.\n",
      "Residuals are not finite in the initial point.\n"
     ]
    },
    {
     "name": "stderr",
     "output_type": "stream",
     "text": [
      "\r",
      " 56%|████████████████████████████████████████████▊                                   | 112/200 [21:48<16:32, 11.28s/it]"
     ]
    },
    {
     "name": "stdout",
     "output_type": "stream",
     "text": [
      "Residuals are not finite in the initial point.\n",
      "Residuals are not finite in the initial point.\n",
      "Residuals are not finite in the initial point.\n",
      "Residuals are not finite in the initial point.\n",
      "Residuals are not finite in the initial point.\n",
      "Residuals are not finite in the initial point.\n",
      "Residuals are not finite in the initial point.\n"
     ]
    },
    {
     "name": "stderr",
     "output_type": "stream",
     "text": [
      "\r",
      " 56%|█████████████████████████████████████████████▏                                  | 113/200 [22:00<16:36, 11.45s/it]"
     ]
    },
    {
     "name": "stdout",
     "output_type": "stream",
     "text": [
      "Residuals are not finite in the initial point.\n",
      "Residuals are not finite in the initial point.\n",
      "Residuals are not finite in the initial point.\n",
      "Residuals are not finite in the initial point.\n",
      "Residuals are not finite in the initial point.\n",
      "Residuals are not finite in the initial point.\n",
      "Residuals are not finite in the initial point.\n",
      "Residuals are not finite in the initial point.\n",
      "Residuals are not finite in the initial point.\n",
      "Residuals are not finite in the initial point.\n"
     ]
    },
    {
     "name": "stderr",
     "output_type": "stream",
     "text": [
      "\r",
      " 57%|█████████████████████████████████████████████▌                                  | 114/200 [22:13<16:49, 11.74s/it]"
     ]
    },
    {
     "name": "stdout",
     "output_type": "stream",
     "text": [
      "Residuals are not finite in the initial point.\n",
      "Residuals are not finite in the initial point.\n",
      "Residuals are not finite in the initial point.\n",
      "Residuals are not finite in the initial point.\n",
      "Residuals are not finite in the initial point.\n",
      "Residuals are not finite in the initial point.\n",
      "Residuals are not finite in the initial point.\n",
      "Residuals are not finite in the initial point.\n"
     ]
    },
    {
     "name": "stderr",
     "output_type": "stream",
     "text": [
      "\r",
      " 57%|██████████████████████████████████████████████                                  | 115/200 [22:24<16:36, 11.73s/it]"
     ]
    },
    {
     "name": "stdout",
     "output_type": "stream",
     "text": [
      "Residuals are not finite in the initial point.\n",
      "Residuals are not finite in the initial point.\n",
      "Residuals are not finite in the initial point.\n",
      "Residuals are not finite in the initial point.\n",
      "Residuals are not finite in the initial point.\n",
      "Residuals are not finite in the initial point.\n",
      "Residuals are not finite in the initial point.\n",
      "Residuals are not finite in the initial point.\n"
     ]
    },
    {
     "name": "stderr",
     "output_type": "stream",
     "text": [
      "\r",
      " 58%|██████████████████████████████████████████████▍                                 | 116/200 [22:36<16:10, 11.55s/it]"
     ]
    },
    {
     "name": "stdout",
     "output_type": "stream",
     "text": [
      "Residuals are not finite in the initial point.\n",
      "Residuals are not finite in the initial point.\n",
      "Residuals are not finite in the initial point.\n",
      "Residuals are not finite in the initial point.\n",
      "Residuals are not finite in the initial point.\n",
      "Residuals are not finite in the initial point.\n",
      "Residuals are not finite in the initial point.\n"
     ]
    },
    {
     "name": "stderr",
     "output_type": "stream",
     "text": [
      "\r",
      " 58%|██████████████████████████████████████████████▊                                 | 117/200 [22:47<16:04, 11.62s/it]"
     ]
    },
    {
     "name": "stdout",
     "output_type": "stream",
     "text": [
      "Residuals are not finite in the initial point.\n",
      "Residuals are not finite in the initial point.\n",
      "Residuals are not finite in the initial point.\n",
      "Residuals are not finite in the initial point.\n",
      "Residuals are not finite in the initial point.\n",
      "Residuals are not finite in the initial point.\n",
      "Residuals are not finite in the initial point.\n",
      "Residuals are not finite in the initial point.\n"
     ]
    },
    {
     "name": "stderr",
     "output_type": "stream",
     "text": [
      "\r",
      " 59%|███████████████████████████████████████████████▏                                | 118/200 [22:59<15:56, 11.67s/it]"
     ]
    },
    {
     "name": "stdout",
     "output_type": "stream",
     "text": [
      "Residuals are not finite in the initial point.\n",
      "Residuals are not finite in the initial point.\n",
      "Residuals are not finite in the initial point.\n",
      "Residuals are not finite in the initial point.\n",
      "Residuals are not finite in the initial point.\n",
      "Residuals are not finite in the initial point.\n",
      "Residuals are not finite in the initial point.\n",
      "Residuals are not finite in the initial point.\n",
      "Residuals are not finite in the initial point.\n",
      "Residuals are not finite in the initial point.\n",
      "Residuals are not finite in the initial point.\n"
     ]
    },
    {
     "name": "stderr",
     "output_type": "stream",
     "text": [
      "\r",
      " 60%|███████████████████████████████████████████████▌                                | 119/200 [23:10<15:28, 11.46s/it]"
     ]
    },
    {
     "name": "stdout",
     "output_type": "stream",
     "text": [
      "Residuals are not finite in the initial point.\n",
      "Residuals are not finite in the initial point.\n",
      "Residuals are not finite in the initial point.\n",
      "Residuals are not finite in the initial point.\n",
      "Residuals are not finite in the initial point.\n",
      "Residuals are not finite in the initial point.\n",
      "Residuals are not finite in the initial point.\n",
      "Residuals are not finite in the initial point.\n"
     ]
    },
    {
     "name": "stderr",
     "output_type": "stream",
     "text": [
      "\r",
      " 60%|████████████████████████████████████████████████                                | 120/200 [23:22<15:25, 11.57s/it]"
     ]
    },
    {
     "name": "stdout",
     "output_type": "stream",
     "text": [
      "Residuals are not finite in the initial point.\n",
      "Residuals are not finite in the initial point.\n",
      "Residuals are not finite in the initial point.\n",
      "Residuals are not finite in the initial point.\n",
      "Residuals are not finite in the initial point.\n",
      "Residuals are not finite in the initial point.\n",
      "Residuals are not finite in the initial point.\n",
      "Residuals are not finite in the initial point.\n",
      "Residuals are not finite in the initial point.\n"
     ]
    },
    {
     "name": "stderr",
     "output_type": "stream",
     "text": [
      "\r",
      " 60%|████████████████████████████████████████████████▍                               | 121/200 [23:34<15:32, 11.81s/it]"
     ]
    },
    {
     "name": "stdout",
     "output_type": "stream",
     "text": [
      "Residuals are not finite in the initial point.\n",
      "Residuals are not finite in the initial point.\n",
      "Residuals are not finite in the initial point.\n",
      "Residuals are not finite in the initial point.\n",
      "Residuals are not finite in the initial point.\n",
      "Residuals are not finite in the initial point.\n",
      "Residuals are not finite in the initial point.\n",
      "Residuals are not finite in the initial point.\n"
     ]
    },
    {
     "name": "stderr",
     "output_type": "stream",
     "text": [
      "\r",
      " 61%|████████████████████████████████████████████████▊                               | 122/200 [23:45<15:02, 11.58s/it]"
     ]
    },
    {
     "name": "stdout",
     "output_type": "stream",
     "text": [
      "Residuals are not finite in the initial point.\n",
      "Residuals are not finite in the initial point.\n",
      "Residuals are not finite in the initial point.\n",
      "Residuals are not finite in the initial point.\n",
      "Residuals are not finite in the initial point.\n",
      "Residuals are not finite in the initial point.\n",
      "Residuals are not finite in the initial point.\n",
      "Residuals are not finite in the initial point.\n",
      "Residuals are not finite in the initial point.\n",
      "Residuals are not finite in the initial point.\n",
      "Residuals are not finite in the initial point.\n"
     ]
    },
    {
     "name": "stderr",
     "output_type": "stream",
     "text": [
      "\r",
      " 62%|█████████████████████████████████████████████████▏                              | 123/200 [23:57<15:04, 11.75s/it]"
     ]
    },
    {
     "name": "stdout",
     "output_type": "stream",
     "text": [
      "Residuals are not finite in the initial point.\n",
      "Residuals are not finite in the initial point.\n",
      "Residuals are not finite in the initial point.\n",
      "Residuals are not finite in the initial point.\n",
      "Residuals are not finite in the initial point.\n",
      "Residuals are not finite in the initial point.\n",
      "Residuals are not finite in the initial point.\n"
     ]
    },
    {
     "name": "stderr",
     "output_type": "stream",
     "text": [
      "\r",
      " 62%|█████████████████████████████████████████████████▌                              | 124/200 [24:10<15:15, 12.05s/it]"
     ]
    },
    {
     "name": "stdout",
     "output_type": "stream",
     "text": [
      "Residuals are not finite in the initial point.\n",
      "Residuals are not finite in the initial point.\n",
      "Residuals are not finite in the initial point.\n",
      "Residuals are not finite in the initial point.\n",
      "Residuals are not finite in the initial point.\n",
      "Residuals are not finite in the initial point.\n",
      "Residuals are not finite in the initial point.\n"
     ]
    },
    {
     "name": "stderr",
     "output_type": "stream",
     "text": [
      "\r",
      " 62%|██████████████████████████████████████████████████                              | 125/200 [24:22<14:57, 11.97s/it]"
     ]
    },
    {
     "name": "stdout",
     "output_type": "stream",
     "text": [
      "Residuals are not finite in the initial point.\n",
      "Residuals are not finite in the initial point.\n",
      "Residuals are not finite in the initial point.\n",
      "Residuals are not finite in the initial point.\n",
      "Residuals are not finite in the initial point.\n",
      "Residuals are not finite in the initial point.\n",
      "Residuals are not finite in the initial point.\n"
     ]
    },
    {
     "name": "stderr",
     "output_type": "stream",
     "text": [
      "\r",
      " 63%|██████████████████████████████████████████████████▍                             | 126/200 [24:33<14:17, 11.59s/it]"
     ]
    },
    {
     "name": "stdout",
     "output_type": "stream",
     "text": [
      "Residuals are not finite in the initial point.\n",
      "Residuals are not finite in the initial point.\n",
      "Residuals are not finite in the initial point.\n",
      "Residuals are not finite in the initial point.\n",
      "Residuals are not finite in the initial point.\n",
      "Residuals are not finite in the initial point.\n",
      "Residuals are not finite in the initial point.\n"
     ]
    },
    {
     "name": "stderr",
     "output_type": "stream",
     "text": [
      "\r",
      " 64%|██████████████████████████████████████████████████▊                             | 127/200 [24:44<14:11, 11.66s/it]"
     ]
    },
    {
     "name": "stdout",
     "output_type": "stream",
     "text": [
      "Residuals are not finite in the initial point.\n",
      "Residuals are not finite in the initial point.\n",
      "Residuals are not finite in the initial point.\n",
      "Residuals are not finite in the initial point.\n",
      "Residuals are not finite in the initial point.\n",
      "Residuals are not finite in the initial point.\n",
      "Residuals are not finite in the initial point.\n"
     ]
    },
    {
     "name": "stderr",
     "output_type": "stream",
     "text": [
      "\r",
      " 64%|███████████████████████████████████████████████████▏                            | 128/200 [24:57<14:10, 11.81s/it]"
     ]
    },
    {
     "name": "stdout",
     "output_type": "stream",
     "text": [
      "Residuals are not finite in the initial point.\n",
      "Residuals are not finite in the initial point.\n",
      "Residuals are not finite in the initial point.\n",
      "Residuals are not finite in the initial point.\n",
      "Residuals are not finite in the initial point.\n",
      "Residuals are not finite in the initial point.\n",
      "Residuals are not finite in the initial point.\n"
     ]
    },
    {
     "name": "stderr",
     "output_type": "stream",
     "text": [
      "\r",
      " 64%|███████████████████████████████████████████████████▌                            | 129/200 [25:10<14:23, 12.17s/it]"
     ]
    },
    {
     "name": "stdout",
     "output_type": "stream",
     "text": [
      "Residuals are not finite in the initial point.\n",
      "Residuals are not finite in the initial point.\n",
      "Residuals are not finite in the initial point.\n",
      "Residuals are not finite in the initial point.\n",
      "Residuals are not finite in the initial point.\n",
      "Residuals are not finite in the initial point.\n",
      "Residuals are not finite in the initial point.\n",
      "Residuals are not finite in the initial point.\n",
      "Residuals are not finite in the initial point.\n",
      "Residuals are not finite in the initial point.\n"
     ]
    },
    {
     "name": "stderr",
     "output_type": "stream",
     "text": [
      "\r",
      " 65%|████████████████████████████████████████████████████                            | 130/200 [25:22<14:10, 12.16s/it]"
     ]
    },
    {
     "name": "stdout",
     "output_type": "stream",
     "text": [
      "Residuals are not finite in the initial point.\n",
      "Residuals are not finite in the initial point.\n",
      "Residuals are not finite in the initial point.\n",
      "Residuals are not finite in the initial point.\n",
      "Residuals are not finite in the initial point.\n",
      "Residuals are not finite in the initial point.\n",
      "Residuals are not finite in the initial point.\n",
      "Residuals are not finite in the initial point.\n",
      "Residuals are not finite in the initial point.\n"
     ]
    },
    {
     "name": "stderr",
     "output_type": "stream",
     "text": [
      "\r",
      " 66%|████████████████████████████████████████████████████▍                           | 131/200 [25:32<13:23, 11.65s/it]"
     ]
    },
    {
     "name": "stdout",
     "output_type": "stream",
     "text": [
      "Residuals are not finite in the initial point.\n",
      "Residuals are not finite in the initial point.\n",
      "Residuals are not finite in the initial point.\n",
      "Residuals are not finite in the initial point.\n",
      "Residuals are not finite in the initial point.\n",
      "Residuals are not finite in the initial point.\n",
      "Residuals are not finite in the initial point.\n",
      "Residuals are not finite in the initial point.\n"
     ]
    },
    {
     "name": "stderr",
     "output_type": "stream",
     "text": [
      "\r",
      " 66%|████████████████████████████████████████████████████▊                           | 132/200 [25:44<13:21, 11.79s/it]"
     ]
    },
    {
     "name": "stdout",
     "output_type": "stream",
     "text": [
      "Residuals are not finite in the initial point.\n",
      "Residuals are not finite in the initial point.\n",
      "Residuals are not finite in the initial point.\n",
      "Residuals are not finite in the initial point.\n",
      "Residuals are not finite in the initial point.\n",
      "Residuals are not finite in the initial point.\n",
      "Residuals are not finite in the initial point.\n",
      "Residuals are not finite in the initial point.\n",
      "Residuals are not finite in the initial point.\n"
     ]
    },
    {
     "name": "stderr",
     "output_type": "stream",
     "text": [
      "\r",
      " 66%|█████████████████████████████████████████████████████▏                          | 133/200 [25:57<13:20, 11.95s/it]"
     ]
    },
    {
     "name": "stdout",
     "output_type": "stream",
     "text": [
      "Residuals are not finite in the initial point.\n",
      "Residuals are not finite in the initial point.\n",
      "Residuals are not finite in the initial point.\n",
      "Residuals are not finite in the initial point.\n",
      "Residuals are not finite in the initial point.\n",
      "Residuals are not finite in the initial point.\n",
      "Residuals are not finite in the initial point.\n"
     ]
    },
    {
     "name": "stderr",
     "output_type": "stream",
     "text": [
      "\r",
      " 67%|█████████████████████████████████████████████████████▌                          | 134/200 [26:08<12:59, 11.81s/it]"
     ]
    },
    {
     "name": "stdout",
     "output_type": "stream",
     "text": [
      "Residuals are not finite in the initial point.\n",
      "Residuals are not finite in the initial point.\n",
      "Residuals are not finite in the initial point.\n",
      "Residuals are not finite in the initial point.\n"
     ]
    },
    {
     "name": "stderr",
     "output_type": "stream",
     "text": [
      "\r",
      " 68%|██████████████████████████████████████████████████████                          | 135/200 [26:19<12:32, 11.57s/it]"
     ]
    },
    {
     "name": "stdout",
     "output_type": "stream",
     "text": [
      "Residuals are not finite in the initial point.\n",
      "Residuals are not finite in the initial point.\n",
      "Residuals are not finite in the initial point.\n",
      "Residuals are not finite in the initial point.\n",
      "Residuals are not finite in the initial point.\n",
      "Residuals are not finite in the initial point.\n",
      "Residuals are not finite in the initial point.\n",
      "Residuals are not finite in the initial point.\n",
      "Residuals are not finite in the initial point.\n"
     ]
    },
    {
     "name": "stderr",
     "output_type": "stream",
     "text": [
      "\r",
      " 68%|██████████████████████████████████████████████████████▍                         | 136/200 [26:30<12:13, 11.46s/it]"
     ]
    },
    {
     "name": "stdout",
     "output_type": "stream",
     "text": [
      "Residuals are not finite in the initial point.\n",
      "Residuals are not finite in the initial point.\n",
      "Residuals are not finite in the initial point.\n",
      "Residuals are not finite in the initial point.\n",
      "Residuals are not finite in the initial point.\n"
     ]
    },
    {
     "name": "stderr",
     "output_type": "stream",
     "text": [
      "\r",
      " 68%|██████████████████████████████████████████████████████▊                         | 137/200 [26:43<12:16, 11.69s/it]"
     ]
    },
    {
     "name": "stdout",
     "output_type": "stream",
     "text": [
      "Residuals are not finite in the initial point.\n",
      "Residuals are not finite in the initial point.\n",
      "Residuals are not finite in the initial point.\n",
      "Residuals are not finite in the initial point.\n",
      "Residuals are not finite in the initial point.\n",
      "Residuals are not finite in the initial point.\n",
      "Residuals are not finite in the initial point.\n"
     ]
    },
    {
     "name": "stderr",
     "output_type": "stream",
     "text": [
      "\r",
      " 69%|███████████████████████████████████████████████████████▏                        | 138/200 [26:54<11:54, 11.52s/it]"
     ]
    },
    {
     "name": "stdout",
     "output_type": "stream",
     "text": [
      "Residuals are not finite in the initial point.\n",
      "Residuals are not finite in the initial point.\n",
      "Residuals are not finite in the initial point.\n",
      "Residuals are not finite in the initial point.\n",
      "Residuals are not finite in the initial point.\n",
      "Residuals are not finite in the initial point.\n",
      "Residuals are not finite in the initial point.\n",
      "Residuals are not finite in the initial point.\n"
     ]
    },
    {
     "name": "stderr",
     "output_type": "stream",
     "text": [
      "\r",
      " 70%|███████████████████████████████████████████████████████▌                        | 139/200 [27:05<11:45, 11.56s/it]"
     ]
    },
    {
     "name": "stdout",
     "output_type": "stream",
     "text": [
      "Residuals are not finite in the initial point.\n",
      "Residuals are not finite in the initial point.\n",
      "Residuals are not finite in the initial point.\n",
      "Residuals are not finite in the initial point.\n",
      "Residuals are not finite in the initial point.\n",
      "Residuals are not finite in the initial point.\n",
      "Residuals are not finite in the initial point.\n",
      "Residuals are not finite in the initial point.\n",
      "Residuals are not finite in the initial point.\n"
     ]
    },
    {
     "name": "stderr",
     "output_type": "stream",
     "text": [
      "\r",
      " 70%|████████████████████████████████████████████████████████                        | 140/200 [27:18<11:51, 11.87s/it]"
     ]
    },
    {
     "name": "stdout",
     "output_type": "stream",
     "text": [
      "Residuals are not finite in the initial point.\n",
      "Residuals are not finite in the initial point.\n",
      "Residuals are not finite in the initial point.\n",
      "Residuals are not finite in the initial point.\n",
      "Residuals are not finite in the initial point.\n",
      "Residuals are not finite in the initial point.\n",
      "Residuals are not finite in the initial point.\n"
     ]
    },
    {
     "name": "stderr",
     "output_type": "stream",
     "text": [
      "\r",
      " 70%|████████████████████████████████████████████████████████▍                       | 141/200 [27:30<11:42, 11.91s/it]"
     ]
    },
    {
     "name": "stdout",
     "output_type": "stream",
     "text": [
      "Residuals are not finite in the initial point.\n",
      "Residuals are not finite in the initial point.\n",
      "Residuals are not finite in the initial point.\n",
      "Residuals are not finite in the initial point.\n",
      "Residuals are not finite in the initial point.\n",
      "Residuals are not finite in the initial point.\n",
      "Residuals are not finite in the initial point.\n",
      "Residuals are not finite in the initial point.\n",
      "Residuals are not finite in the initial point.\n"
     ]
    },
    {
     "name": "stderr",
     "output_type": "stream",
     "text": [
      "\r",
      " 71%|████████████████████████████████████████████████████████▊                       | 142/200 [27:41<11:20, 11.73s/it]"
     ]
    },
    {
     "name": "stdout",
     "output_type": "stream",
     "text": [
      "Residuals are not finite in the initial point.\n",
      "Residuals are not finite in the initial point.\n",
      "Residuals are not finite in the initial point.\n",
      "Residuals are not finite in the initial point.\n",
      "Residuals are not finite in the initial point.\n",
      "Residuals are not finite in the initial point.\n",
      "Residuals are not finite in the initial point.\n",
      "Residuals are not finite in the initial point.\n"
     ]
    },
    {
     "name": "stderr",
     "output_type": "stream",
     "text": [
      "\r",
      " 72%|█████████████████████████████████████████████████████████▏                      | 143/200 [27:53<11:12, 11.79s/it]"
     ]
    },
    {
     "name": "stdout",
     "output_type": "stream",
     "text": [
      "Residuals are not finite in the initial point.\n",
      "Residuals are not finite in the initial point.\n",
      "Residuals are not finite in the initial point.\n",
      "Residuals are not finite in the initial point.\n",
      "Residuals are not finite in the initial point.\n",
      "Residuals are not finite in the initial point.\n",
      "Residuals are not finite in the initial point.\n"
     ]
    },
    {
     "name": "stderr",
     "output_type": "stream",
     "text": [
      "\r",
      " 72%|█████████████████████████████████████████████████████████▌                      | 144/200 [28:04<10:45, 11.53s/it]"
     ]
    },
    {
     "name": "stdout",
     "output_type": "stream",
     "text": [
      "Residuals are not finite in the initial point.\n",
      "Residuals are not finite in the initial point.\n",
      "Residuals are not finite in the initial point.\n",
      "Residuals are not finite in the initial point.\n",
      "Residuals are not finite in the initial point.\n",
      "Residuals are not finite in the initial point.\n",
      "Residuals are not finite in the initial point.\n",
      "Residuals are not finite in the initial point.\n",
      "Residuals are not finite in the initial point.\n",
      "Residuals are not finite in the initial point.\n",
      "Residuals are not finite in the initial point.\n"
     ]
    },
    {
     "name": "stderr",
     "output_type": "stream",
     "text": [
      "\r",
      " 72%|██████████████████████████████████████████████████████████                      | 145/200 [28:17<10:48, 11.80s/it]"
     ]
    },
    {
     "name": "stdout",
     "output_type": "stream",
     "text": [
      "Residuals are not finite in the initial point.\n",
      "Residuals are not finite in the initial point.\n",
      "Residuals are not finite in the initial point.\n",
      "Residuals are not finite in the initial point.\n",
      "Residuals are not finite in the initial point.\n",
      "Residuals are not finite in the initial point.\n",
      "Residuals are not finite in the initial point.\n",
      "Residuals are not finite in the initial point.\n"
     ]
    },
    {
     "name": "stderr",
     "output_type": "stream",
     "text": [
      "\r",
      " 73%|██████████████████████████████████████████████████████████▍                     | 146/200 [28:28<10:39, 11.84s/it]"
     ]
    },
    {
     "name": "stdout",
     "output_type": "stream",
     "text": [
      "Residuals are not finite in the initial point.\n",
      "Residuals are not finite in the initial point.\n",
      "Residuals are not finite in the initial point.\n",
      "Residuals are not finite in the initial point.\n",
      "Residuals are not finite in the initial point.\n",
      "Residuals are not finite in the initial point.\n",
      "Residuals are not finite in the initial point.\n",
      "Residuals are not finite in the initial point.\n"
     ]
    },
    {
     "name": "stderr",
     "output_type": "stream",
     "text": [
      "\r",
      " 74%|██████████████████████████████████████████████████████████▊                     | 147/200 [28:40<10:28, 11.86s/it]"
     ]
    },
    {
     "name": "stdout",
     "output_type": "stream",
     "text": [
      "Residuals are not finite in the initial point.\n",
      "Residuals are not finite in the initial point.\n",
      "Residuals are not finite in the initial point.\n",
      "Residuals are not finite in the initial point.\n",
      "Residuals are not finite in the initial point.\n",
      "Residuals are not finite in the initial point.\n"
     ]
    },
    {
     "name": "stderr",
     "output_type": "stream",
     "text": [
      "\r",
      " 74%|███████████████████████████████████████████████████████████▏                    | 148/200 [28:51<09:56, 11.48s/it]"
     ]
    },
    {
     "name": "stdout",
     "output_type": "stream",
     "text": [
      "Residuals are not finite in the initial point.\n",
      "Residuals are not finite in the initial point.\n",
      "Residuals are not finite in the initial point.\n",
      "Residuals are not finite in the initial point.\n",
      "Residuals are not finite in the initial point.\n",
      "Residuals are not finite in the initial point.\n",
      "Residuals are not finite in the initial point.\n",
      "Residuals are not finite in the initial point.\n"
     ]
    },
    {
     "name": "stderr",
     "output_type": "stream",
     "text": [
      "\r",
      " 74%|███████████████████████████████████████████████████████████▌                    | 149/200 [29:04<10:08, 11.93s/it]"
     ]
    },
    {
     "name": "stdout",
     "output_type": "stream",
     "text": [
      "Residuals are not finite in the initial point.\n",
      "Residuals are not finite in the initial point.\n",
      "Residuals are not finite in the initial point.\n",
      "Residuals are not finite in the initial point.\n",
      "Residuals are not finite in the initial point.\n",
      "Residuals are not finite in the initial point.\n",
      "Residuals are not finite in the initial point.\n",
      "Residuals are not finite in the initial point.\n",
      "Residuals are not finite in the initial point.\n",
      "Residuals are not finite in the initial point.\n"
     ]
    },
    {
     "name": "stderr",
     "output_type": "stream",
     "text": [
      "\r",
      " 75%|████████████████████████████████████████████████████████████                    | 150/200 [29:16<09:58, 11.97s/it]"
     ]
    },
    {
     "name": "stdout",
     "output_type": "stream",
     "text": [
      "Residuals are not finite in the initial point.\n",
      "Residuals are not finite in the initial point.\n",
      "Residuals are not finite in the initial point.\n",
      "Residuals are not finite in the initial point.\n",
      "Residuals are not finite in the initial point.\n",
      "Residuals are not finite in the initial point.\n",
      "Residuals are not finite in the initial point.\n"
     ]
    },
    {
     "name": "stderr",
     "output_type": "stream",
     "text": [
      "\r",
      " 76%|████████████████████████████████████████████████████████████▍                   | 151/200 [29:28<09:43, 11.91s/it]"
     ]
    },
    {
     "name": "stdout",
     "output_type": "stream",
     "text": [
      "Residuals are not finite in the initial point.\n",
      "Residuals are not finite in the initial point.\n",
      "Residuals are not finite in the initial point.\n",
      "Residuals are not finite in the initial point.\n",
      "Residuals are not finite in the initial point.\n",
      "Residuals are not finite in the initial point.\n",
      "Residuals are not finite in the initial point.\n",
      "Residuals are not finite in the initial point.\n"
     ]
    },
    {
     "name": "stderr",
     "output_type": "stream",
     "text": [
      "\r",
      " 76%|████████████████████████████████████████████████████████████▊                   | 152/200 [29:40<09:33, 11.94s/it]"
     ]
    },
    {
     "name": "stdout",
     "output_type": "stream",
     "text": [
      "Residuals are not finite in the initial point.\n",
      "Residuals are not finite in the initial point.\n",
      "Residuals are not finite in the initial point.\n",
      "Residuals are not finite in the initial point.\n",
      "Residuals are not finite in the initial point.\n",
      "Residuals are not finite in the initial point.\n"
     ]
    },
    {
     "name": "stderr",
     "output_type": "stream",
     "text": [
      "\r",
      " 76%|█████████████████████████████████████████████████████████████▏                  | 153/200 [29:52<09:27, 12.07s/it]"
     ]
    },
    {
     "name": "stdout",
     "output_type": "stream",
     "text": [
      "Residuals are not finite in the initial point.\n",
      "Residuals are not finite in the initial point.\n",
      "Residuals are not finite in the initial point.\n",
      "Residuals are not finite in the initial point.\n",
      "Residuals are not finite in the initial point.\n"
     ]
    },
    {
     "name": "stderr",
     "output_type": "stream",
     "text": [
      "\r",
      " 77%|█████████████████████████████████████████████████████████████▌                  | 154/200 [30:05<09:23, 12.25s/it]"
     ]
    },
    {
     "name": "stdout",
     "output_type": "stream",
     "text": [
      "Residuals are not finite in the initial point.\n",
      "Residuals are not finite in the initial point.\n",
      "Residuals are not finite in the initial point.\n",
      "Residuals are not finite in the initial point.\n",
      "Residuals are not finite in the initial point.\n",
      "Residuals are not finite in the initial point.\n",
      "Residuals are not finite in the initial point.\n",
      "Residuals are not finite in the initial point.\n",
      "Residuals are not finite in the initial point.\n"
     ]
    },
    {
     "name": "stderr",
     "output_type": "stream",
     "text": [
      "\r",
      " 78%|██████████████████████████████████████████████████████████████                  | 155/200 [30:17<09:06, 12.14s/it]"
     ]
    },
    {
     "name": "stdout",
     "output_type": "stream",
     "text": [
      "Residuals are not finite in the initial point.\n",
      "Residuals are not finite in the initial point.\n",
      "Residuals are not finite in the initial point.\n",
      "Residuals are not finite in the initial point.\n",
      "Residuals are not finite in the initial point.\n",
      "Residuals are not finite in the initial point.\n",
      "Residuals are not finite in the initial point.\n"
     ]
    },
    {
     "name": "stderr",
     "output_type": "stream",
     "text": [
      "\r",
      " 78%|██████████████████████████████████████████████████████████████▍                 | 156/200 [30:30<09:04, 12.37s/it]"
     ]
    },
    {
     "name": "stdout",
     "output_type": "stream",
     "text": [
      "Residuals are not finite in the initial point.\n",
      "Residuals are not finite in the initial point.\n",
      "Residuals are not finite in the initial point.\n",
      "Residuals are not finite in the initial point.\n",
      "Residuals are not finite in the initial point.\n",
      "Residuals are not finite in the initial point.\n",
      "Residuals are not finite in the initial point.\n"
     ]
    },
    {
     "name": "stderr",
     "output_type": "stream",
     "text": [
      "\r",
      " 78%|██████████████████████████████████████████████████████████████▊                 | 157/200 [30:40<08:26, 11.78s/it]"
     ]
    },
    {
     "name": "stdout",
     "output_type": "stream",
     "text": [
      "Residuals are not finite in the initial point.\n",
      "Residuals are not finite in the initial point.\n",
      "Residuals are not finite in the initial point.\n",
      "Residuals are not finite in the initial point.\n",
      "Residuals are not finite in the initial point.\n",
      "Residuals are not finite in the initial point.\n",
      "Residuals are not finite in the initial point.\n"
     ]
    },
    {
     "name": "stderr",
     "output_type": "stream",
     "text": [
      "\r",
      " 79%|███████████████████████████████████████████████████████████████▏                | 158/200 [30:52<08:16, 11.82s/it]"
     ]
    },
    {
     "name": "stdout",
     "output_type": "stream",
     "text": [
      "Residuals are not finite in the initial point.\n",
      "Residuals are not finite in the initial point.\n",
      "Residuals are not finite in the initial point.\n",
      "Residuals are not finite in the initial point.\n",
      "Residuals are not finite in the initial point.\n",
      "Residuals are not finite in the initial point.\n",
      "Residuals are not finite in the initial point.\n",
      "Residuals are not finite in the initial point.\n"
     ]
    },
    {
     "name": "stderr",
     "output_type": "stream",
     "text": [
      "\r",
      " 80%|███████████████████████████████████████████████████████████████▌                | 159/200 [31:04<08:03, 11.80s/it]"
     ]
    },
    {
     "name": "stdout",
     "output_type": "stream",
     "text": [
      "Residuals are not finite in the initial point.\n",
      "Residuals are not finite in the initial point.\n",
      "Residuals are not finite in the initial point.\n",
      "Residuals are not finite in the initial point.\n",
      "Residuals are not finite in the initial point.\n",
      "Residuals are not finite in the initial point.\n",
      "Residuals are not finite in the initial point.\n",
      "Residuals are not finite in the initial point.\n"
     ]
    },
    {
     "name": "stderr",
     "output_type": "stream",
     "text": [
      "\r",
      " 80%|████████████████████████████████████████████████████████████████                | 160/200 [31:16<08:00, 12.01s/it]"
     ]
    },
    {
     "name": "stdout",
     "output_type": "stream",
     "text": [
      "Residuals are not finite in the initial point.\n",
      "Residuals are not finite in the initial point.\n",
      "Residuals are not finite in the initial point.\n",
      "Residuals are not finite in the initial point.\n",
      "Residuals are not finite in the initial point.\n"
     ]
    },
    {
     "name": "stderr",
     "output_type": "stream",
     "text": [
      "\r",
      " 80%|████████████████████████████████████████████████████████████████▍               | 161/200 [31:28<07:50, 12.07s/it]"
     ]
    },
    {
     "name": "stdout",
     "output_type": "stream",
     "text": [
      "Residuals are not finite in the initial point.\n",
      "Residuals are not finite in the initial point.\n",
      "Residuals are not finite in the initial point.\n",
      "Residuals are not finite in the initial point.\n",
      "Residuals are not finite in the initial point.\n"
     ]
    },
    {
     "name": "stderr",
     "output_type": "stream",
     "text": [
      "\r",
      " 81%|████████████████████████████████████████████████████████████████▊               | 162/200 [31:40<07:30, 11.86s/it]"
     ]
    },
    {
     "name": "stdout",
     "output_type": "stream",
     "text": [
      "Residuals are not finite in the initial point.\n",
      "Residuals are not finite in the initial point.\n",
      "Residuals are not finite in the initial point.\n"
     ]
    },
    {
     "name": "stderr",
     "output_type": "stream",
     "text": [
      "\r",
      " 82%|█████████████████████████████████████████████████████████████████▏              | 163/200 [31:51<07:11, 11.66s/it]"
     ]
    },
    {
     "name": "stdout",
     "output_type": "stream",
     "text": [
      "Residuals are not finite in the initial point.\n",
      "Residuals are not finite in the initial point.\n",
      "Residuals are not finite in the initial point.\n",
      "Residuals are not finite in the initial point.\n",
      "Residuals are not finite in the initial point.\n",
      "Residuals are not finite in the initial point.\n",
      "Residuals are not finite in the initial point.\n"
     ]
    },
    {
     "name": "stderr",
     "output_type": "stream",
     "text": [
      "\r",
      " 82%|█████████████████████████████████████████████████████████████████▌              | 164/200 [32:03<07:02, 11.73s/it]"
     ]
    },
    {
     "name": "stdout",
     "output_type": "stream",
     "text": [
      "Residuals are not finite in the initial point.\n",
      "Residuals are not finite in the initial point.\n",
      "Residuals are not finite in the initial point.\n",
      "Residuals are not finite in the initial point.\n",
      "Residuals are not finite in the initial point.\n",
      "Residuals are not finite in the initial point.\n"
     ]
    },
    {
     "name": "stderr",
     "output_type": "stream",
     "text": [
      "\r",
      " 82%|██████████████████████████████████████████████████████████████████              | 165/200 [32:17<07:14, 12.41s/it]"
     ]
    },
    {
     "name": "stdout",
     "output_type": "stream",
     "text": [
      "Residuals are not finite in the initial point.\n",
      "Residuals are not finite in the initial point.\n",
      "Residuals are not finite in the initial point.\n",
      "Residuals are not finite in the initial point.\n",
      "Residuals are not finite in the initial point.\n",
      "Residuals are not finite in the initial point.\n",
      "Residuals are not finite in the initial point.\n",
      "Residuals are not finite in the initial point.\n"
     ]
    },
    {
     "name": "stderr",
     "output_type": "stream",
     "text": [
      "\r",
      " 83%|██████████████████████████████████████████████████████████████████▍             | 166/200 [32:28<06:53, 12.18s/it]"
     ]
    },
    {
     "name": "stdout",
     "output_type": "stream",
     "text": [
      "Residuals are not finite in the initial point.\n",
      "Residuals are not finite in the initial point.\n",
      "Residuals are not finite in the initial point.\n",
      "Residuals are not finite in the initial point.\n",
      "Residuals are not finite in the initial point.\n",
      "Residuals are not finite in the initial point.\n",
      "Residuals are not finite in the initial point.\n"
     ]
    },
    {
     "name": "stderr",
     "output_type": "stream",
     "text": [
      "\r",
      " 84%|██████████████████████████████████████████████████████████████████▊             | 167/200 [32:40<06:36, 12.02s/it]"
     ]
    },
    {
     "name": "stdout",
     "output_type": "stream",
     "text": [
      "Residuals are not finite in the initial point.\n",
      "Residuals are not finite in the initial point.\n",
      "Residuals are not finite in the initial point.\n",
      "Residuals are not finite in the initial point.\n",
      "Residuals are not finite in the initial point.\n",
      "Residuals are not finite in the initial point.\n",
      "Residuals are not finite in the initial point.\n"
     ]
    },
    {
     "name": "stderr",
     "output_type": "stream",
     "text": [
      "\r",
      " 84%|███████████████████████████████████████████████████████████████████▏            | 168/200 [32:52<06:26, 12.07s/it]"
     ]
    },
    {
     "name": "stdout",
     "output_type": "stream",
     "text": [
      "Residuals are not finite in the initial point.\n",
      "Residuals are not finite in the initial point.\n",
      "Residuals are not finite in the initial point.\n",
      "Residuals are not finite in the initial point.\n",
      "Residuals are not finite in the initial point.\n",
      "Residuals are not finite in the initial point.\n",
      "Residuals are not finite in the initial point.\n",
      "Residuals are not finite in the initial point.\n"
     ]
    },
    {
     "name": "stderr",
     "output_type": "stream",
     "text": [
      "\r",
      " 84%|███████████████████████████████████████████████████████████████████▌            | 169/200 [33:04<06:13, 12.04s/it]"
     ]
    },
    {
     "name": "stdout",
     "output_type": "stream",
     "text": [
      "Residuals are not finite in the initial point.\n",
      "Residuals are not finite in the initial point.\n",
      "Residuals are not finite in the initial point.\n",
      "Residuals are not finite in the initial point.\n",
      "Residuals are not finite in the initial point.\n",
      "Residuals are not finite in the initial point.\n",
      "Residuals are not finite in the initial point.\n"
     ]
    },
    {
     "name": "stderr",
     "output_type": "stream",
     "text": [
      "\r",
      " 85%|████████████████████████████████████████████████████████████████████            | 170/200 [33:16<06:00, 12.00s/it]"
     ]
    },
    {
     "name": "stdout",
     "output_type": "stream",
     "text": [
      "Residuals are not finite in the initial point.\n",
      "Residuals are not finite in the initial point.\n",
      "Residuals are not finite in the initial point.\n",
      "Residuals are not finite in the initial point.\n",
      "Residuals are not finite in the initial point.\n",
      "Residuals are not finite in the initial point.\n",
      "Residuals are not finite in the initial point.\n",
      "Residuals are not finite in the initial point.\n",
      "Residuals are not finite in the initial point.\n",
      "Residuals are not finite in the initial point.\n"
     ]
    },
    {
     "name": "stderr",
     "output_type": "stream",
     "text": [
      "\r",
      " 86%|████████████████████████████████████████████████████████████████████▍           | 171/200 [33:29<05:52, 12.14s/it]"
     ]
    },
    {
     "name": "stdout",
     "output_type": "stream",
     "text": [
      "Residuals are not finite in the initial point.\n",
      "Residuals are not finite in the initial point.\n",
      "Residuals are not finite in the initial point.\n",
      "Residuals are not finite in the initial point.\n",
      "Residuals are not finite in the initial point.\n",
      "Residuals are not finite in the initial point.\n",
      "Residuals are not finite in the initial point.\n"
     ]
    },
    {
     "name": "stderr",
     "output_type": "stream",
     "text": [
      "\r",
      " 86%|████████████████████████████████████████████████████████████████████▊           | 172/200 [33:40<05:35, 11.99s/it]"
     ]
    },
    {
     "name": "stdout",
     "output_type": "stream",
     "text": [
      "Residuals are not finite in the initial point.\n",
      "Residuals are not finite in the initial point.\n",
      "Residuals are not finite in the initial point.\n",
      "Residuals are not finite in the initial point.\n",
      "Residuals are not finite in the initial point.\n",
      "Residuals are not finite in the initial point.\n",
      "Residuals are not finite in the initial point.\n",
      "Residuals are not finite in the initial point.\n"
     ]
    },
    {
     "name": "stderr",
     "output_type": "stream",
     "text": [
      "\r",
      " 86%|█████████████████████████████████████████████████████████████████████▏          | 173/200 [33:52<05:21, 11.91s/it]"
     ]
    },
    {
     "name": "stdout",
     "output_type": "stream",
     "text": [
      "Residuals are not finite in the initial point.\n",
      "Residuals are not finite in the initial point.\n",
      "Residuals are not finite in the initial point.\n",
      "Residuals are not finite in the initial point.\n",
      "Residuals are not finite in the initial point.\n",
      "Residuals are not finite in the initial point.\n",
      "Residuals are not finite in the initial point.\n",
      "Residuals are not finite in the initial point.\n",
      "Residuals are not finite in the initial point.\n",
      "Residuals are not finite in the initial point.\n"
     ]
    },
    {
     "name": "stderr",
     "output_type": "stream",
     "text": [
      "\r",
      " 87%|█████████████████████████████████████████████████████████████████████▌          | 174/200 [34:04<05:11, 11.99s/it]"
     ]
    },
    {
     "name": "stdout",
     "output_type": "stream",
     "text": [
      "Residuals are not finite in the initial point.\n",
      "Residuals are not finite in the initial point.\n",
      "Residuals are not finite in the initial point.\n",
      "Residuals are not finite in the initial point.\n",
      "Residuals are not finite in the initial point.\n",
      "Residuals are not finite in the initial point.\n"
     ]
    },
    {
     "name": "stderr",
     "output_type": "stream",
     "text": [
      "\r",
      " 88%|██████████████████████████████████████████████████████████████████████          | 175/200 [34:15<04:53, 11.73s/it]"
     ]
    },
    {
     "name": "stdout",
     "output_type": "stream",
     "text": [
      "Residuals are not finite in the initial point.\n",
      "Residuals are not finite in the initial point.\n",
      "Residuals are not finite in the initial point.\n",
      "Residuals are not finite in the initial point.\n",
      "Residuals are not finite in the initial point.\n",
      "Residuals are not finite in the initial point.\n",
      "Residuals are not finite in the initial point.\n",
      "Residuals are not finite in the initial point.\n",
      "Residuals are not finite in the initial point.\n"
     ]
    },
    {
     "name": "stderr",
     "output_type": "stream",
     "text": [
      "\r",
      " 88%|██████████████████████████████████████████████████████████████████████▍         | 176/200 [34:27<04:42, 11.78s/it]"
     ]
    },
    {
     "name": "stdout",
     "output_type": "stream",
     "text": [
      "Residuals are not finite in the initial point.\n",
      "Residuals are not finite in the initial point.\n",
      "Residuals are not finite in the initial point.\n",
      "Residuals are not finite in the initial point.\n",
      "Residuals are not finite in the initial point.\n",
      "Residuals are not finite in the initial point.\n",
      "Residuals are not finite in the initial point.\n",
      "Residuals are not finite in the initial point.\n",
      "Residuals are not finite in the initial point.\n"
     ]
    },
    {
     "name": "stderr",
     "output_type": "stream",
     "text": [
      "\r",
      " 88%|██████████████████████████████████████████████████████████████████████▊         | 177/200 [34:39<04:29, 11.74s/it]"
     ]
    },
    {
     "name": "stdout",
     "output_type": "stream",
     "text": [
      "Residuals are not finite in the initial point.\n",
      "Residuals are not finite in the initial point.\n",
      "Residuals are not finite in the initial point.\n",
      "Residuals are not finite in the initial point.\n",
      "Residuals are not finite in the initial point.\n",
      "Residuals are not finite in the initial point.\n"
     ]
    },
    {
     "name": "stderr",
     "output_type": "stream",
     "text": [
      "\r",
      " 89%|███████████████████████████████████████████████████████████████████████▏        | 178/200 [34:51<04:19, 11.79s/it]"
     ]
    },
    {
     "name": "stdout",
     "output_type": "stream",
     "text": [
      "Residuals are not finite in the initial point.\n",
      "Residuals are not finite in the initial point.\n",
      "Residuals are not finite in the initial point.\n"
     ]
    },
    {
     "name": "stderr",
     "output_type": "stream",
     "text": [
      "\r",
      " 90%|███████████████████████████████████████████████████████████████████████▌        | 179/200 [35:02<04:03, 11.57s/it]"
     ]
    },
    {
     "name": "stdout",
     "output_type": "stream",
     "text": [
      "Residuals are not finite in the initial point.\n",
      "Residuals are not finite in the initial point.\n",
      "Residuals are not finite in the initial point.\n",
      "Residuals are not finite in the initial point.\n",
      "Residuals are not finite in the initial point.\n",
      "Residuals are not finite in the initial point.\n",
      "Residuals are not finite in the initial point.\n"
     ]
    },
    {
     "name": "stderr",
     "output_type": "stream",
     "text": [
      "\r",
      " 90%|████████████████████████████████████████████████████████████████████████        | 180/200 [35:13<03:51, 11.57s/it]"
     ]
    },
    {
     "name": "stdout",
     "output_type": "stream",
     "text": [
      "Residuals are not finite in the initial point.\n",
      "Residuals are not finite in the initial point.\n",
      "Residuals are not finite in the initial point.\n",
      "Residuals are not finite in the initial point.\n",
      "Residuals are not finite in the initial point.\n",
      "Residuals are not finite in the initial point.\n",
      "Residuals are not finite in the initial point.\n",
      "Residuals are not finite in the initial point.\n"
     ]
    },
    {
     "name": "stderr",
     "output_type": "stream",
     "text": [
      "\r",
      " 90%|████████████████████████████████████████████████████████████████████████▍       | 181/200 [35:24<03:35, 11.35s/it]"
     ]
    },
    {
     "name": "stdout",
     "output_type": "stream",
     "text": [
      "Residuals are not finite in the initial point.\n",
      "Residuals are not finite in the initial point.\n",
      "Residuals are not finite in the initial point.\n",
      "Residuals are not finite in the initial point.\n",
      "Residuals are not finite in the initial point.\n",
      "Residuals are not finite in the initial point.\n",
      "Residuals are not finite in the initial point.\n",
      "Residuals are not finite in the initial point.\n"
     ]
    },
    {
     "name": "stderr",
     "output_type": "stream",
     "text": [
      "\r",
      " 91%|████████████████████████████████████████████████████████████████████████▊       | 182/200 [35:36<03:27, 11.51s/it]"
     ]
    },
    {
     "name": "stdout",
     "output_type": "stream",
     "text": [
      "Residuals are not finite in the initial point.\n",
      "Residuals are not finite in the initial point.\n",
      "Residuals are not finite in the initial point.\n",
      "Residuals are not finite in the initial point.\n",
      "Residuals are not finite in the initial point.\n",
      "Residuals are not finite in the initial point.\n"
     ]
    },
    {
     "name": "stderr",
     "output_type": "stream",
     "text": [
      "\r",
      " 92%|█████████████████████████████████████████████████████████████████████████▏      | 183/200 [35:48<03:18, 11.67s/it]"
     ]
    },
    {
     "name": "stdout",
     "output_type": "stream",
     "text": [
      "Residuals are not finite in the initial point.\n",
      "Residuals are not finite in the initial point.\n",
      "Residuals are not finite in the initial point.\n",
      "Residuals are not finite in the initial point.\n",
      "Residuals are not finite in the initial point.\n",
      "Residuals are not finite in the initial point.\n",
      "Residuals are not finite in the initial point.\n"
     ]
    },
    {
     "name": "stderr",
     "output_type": "stream",
     "text": [
      "\r",
      " 92%|█████████████████████████████████████████████████████████████████████████▌      | 184/200 [36:00<03:06, 11.67s/it]"
     ]
    },
    {
     "name": "stdout",
     "output_type": "stream",
     "text": [
      "Residuals are not finite in the initial point.\n",
      "Residuals are not finite in the initial point.\n",
      "Residuals are not finite in the initial point.\n",
      "Residuals are not finite in the initial point.\n",
      "Residuals are not finite in the initial point.\n"
     ]
    },
    {
     "name": "stderr",
     "output_type": "stream",
     "text": [
      "\r",
      " 92%|██████████████████████████████████████████████████████████████████████████      | 185/200 [36:12<02:57, 11.85s/it]"
     ]
    },
    {
     "name": "stdout",
     "output_type": "stream",
     "text": [
      "Residuals are not finite in the initial point.\n",
      "Residuals are not finite in the initial point.\n",
      "Residuals are not finite in the initial point.\n",
      "Residuals are not finite in the initial point.\n",
      "Residuals are not finite in the initial point.\n",
      "Residuals are not finite in the initial point.\n"
     ]
    },
    {
     "name": "stderr",
     "output_type": "stream",
     "text": [
      "\r",
      " 93%|██████████████████████████████████████████████████████████████████████████▍     | 186/200 [36:23<02:40, 11.48s/it]"
     ]
    },
    {
     "name": "stdout",
     "output_type": "stream",
     "text": [
      "Residuals are not finite in the initial point.\n",
      "Residuals are not finite in the initial point.\n",
      "Residuals are not finite in the initial point.\n",
      "Residuals are not finite in the initial point.\n",
      "Residuals are not finite in the initial point.\n",
      "Residuals are not finite in the initial point.\n",
      "Residuals are not finite in the initial point.\n",
      "Residuals are not finite in the initial point.\n",
      "Residuals are not finite in the initial point.\n"
     ]
    },
    {
     "name": "stderr",
     "output_type": "stream",
     "text": [
      "\r",
      " 94%|██████████████████████████████████████████████████████████████████████████▊     | 187/200 [36:34<02:27, 11.38s/it]"
     ]
    },
    {
     "name": "stdout",
     "output_type": "stream",
     "text": [
      "Residuals are not finite in the initial point.\n",
      "Residuals are not finite in the initial point.\n",
      "Residuals are not finite in the initial point.\n",
      "Residuals are not finite in the initial point.\n",
      "Residuals are not finite in the initial point.\n",
      "Residuals are not finite in the initial point.\n"
     ]
    },
    {
     "name": "stderr",
     "output_type": "stream",
     "text": [
      "\r",
      " 94%|███████████████████████████████████████████████████████████████████████████▏    | 188/200 [36:45<02:17, 11.42s/it]"
     ]
    },
    {
     "name": "stdout",
     "output_type": "stream",
     "text": [
      "Residuals are not finite in the initial point.\n",
      "Residuals are not finite in the initial point.\n",
      "Residuals are not finite in the initial point.\n",
      "Residuals are not finite in the initial point.\n",
      "Residuals are not finite in the initial point.\n",
      "Residuals are not finite in the initial point.\n",
      "Residuals are not finite in the initial point.\n",
      "Residuals are not finite in the initial point.\n",
      "Residuals are not finite in the initial point.\n",
      "Residuals are not finite in the initial point.\n"
     ]
    },
    {
     "name": "stderr",
     "output_type": "stream",
     "text": [
      "\r",
      " 94%|███████████████████████████████████████████████████████████████████████████▌    | 189/200 [36:56<02:04, 11.30s/it]"
     ]
    },
    {
     "name": "stdout",
     "output_type": "stream",
     "text": [
      "Residuals are not finite in the initial point.\n",
      "Residuals are not finite in the initial point.\n",
      "Residuals are not finite in the initial point.\n",
      "Residuals are not finite in the initial point.\n",
      "Residuals are not finite in the initial point.\n",
      "Residuals are not finite in the initial point.\n",
      "Residuals are not finite in the initial point.\n",
      "Residuals are not finite in the initial point.\n"
     ]
    },
    {
     "name": "stderr",
     "output_type": "stream",
     "text": [
      "\r",
      " 95%|████████████████████████████████████████████████████████████████████████████    | 190/200 [37:09<01:56, 11.69s/it]"
     ]
    },
    {
     "name": "stdout",
     "output_type": "stream",
     "text": [
      "Residuals are not finite in the initial point.\n",
      "Residuals are not finite in the initial point.\n",
      "Residuals are not finite in the initial point.\n",
      "Residuals are not finite in the initial point.\n",
      "Residuals are not finite in the initial point.\n",
      "Residuals are not finite in the initial point.\n",
      "Residuals are not finite in the initial point.\n",
      "Residuals are not finite in the initial point.\n"
     ]
    },
    {
     "name": "stderr",
     "output_type": "stream",
     "text": [
      "\r",
      " 96%|████████████████████████████████████████████████████████████████████████████▍   | 191/200 [37:22<01:48, 12.03s/it]"
     ]
    },
    {
     "name": "stdout",
     "output_type": "stream",
     "text": [
      "Residuals are not finite in the initial point.\n",
      "Residuals are not finite in the initial point.\n",
      "Residuals are not finite in the initial point.\n",
      "Residuals are not finite in the initial point.\n",
      "Residuals are not finite in the initial point.\n",
      "Residuals are not finite in the initial point.\n",
      "Residuals are not finite in the initial point.\n",
      "Residuals are not finite in the initial point.\n",
      "Residuals are not finite in the initial point.\n",
      "Residuals are not finite in the initial point.\n"
     ]
    },
    {
     "name": "stderr",
     "output_type": "stream",
     "text": [
      "\r",
      " 96%|████████████████████████████████████████████████████████████████████████████▊   | 192/200 [37:33<01:33, 11.74s/it]"
     ]
    },
    {
     "name": "stdout",
     "output_type": "stream",
     "text": [
      "Residuals are not finite in the initial point.\n",
      "Residuals are not finite in the initial point.\n",
      "Residuals are not finite in the initial point.\n",
      "Residuals are not finite in the initial point.\n",
      "Residuals are not finite in the initial point.\n",
      "Residuals are not finite in the initial point.\n",
      "Residuals are not finite in the initial point.\n",
      "Residuals are not finite in the initial point.\n"
     ]
    },
    {
     "name": "stderr",
     "output_type": "stream",
     "text": [
      "\r",
      " 96%|█████████████████████████████████████████████████████████████████████████████▏  | 193/200 [37:45<01:22, 11.79s/it]"
     ]
    },
    {
     "name": "stdout",
     "output_type": "stream",
     "text": [
      "Residuals are not finite in the initial point.\n",
      "Residuals are not finite in the initial point.\n",
      "Residuals are not finite in the initial point.\n",
      "Residuals are not finite in the initial point.\n",
      "Residuals are not finite in the initial point.\n",
      "Residuals are not finite in the initial point.\n"
     ]
    },
    {
     "name": "stderr",
     "output_type": "stream",
     "text": [
      "\r",
      " 97%|█████████████████████████████████████████████████████████████████████████████▌  | 194/200 [37:56<01:09, 11.54s/it]"
     ]
    },
    {
     "name": "stdout",
     "output_type": "stream",
     "text": [
      "Residuals are not finite in the initial point.\n",
      "Residuals are not finite in the initial point.\n",
      "Residuals are not finite in the initial point.\n",
      "Residuals are not finite in the initial point.\n",
      "Residuals are not finite in the initial point.\n",
      "Residuals are not finite in the initial point.\n",
      "Residuals are not finite in the initial point.\n",
      "Residuals are not finite in the initial point.\n"
     ]
    },
    {
     "name": "stderr",
     "output_type": "stream",
     "text": [
      "\r",
      " 98%|██████████████████████████████████████████████████████████████████████████████  | 195/200 [38:07<00:56, 11.37s/it]"
     ]
    },
    {
     "name": "stdout",
     "output_type": "stream",
     "text": [
      "Residuals are not finite in the initial point.\n",
      "Residuals are not finite in the initial point.\n",
      "Residuals are not finite in the initial point.\n",
      "Residuals are not finite in the initial point.\n",
      "Residuals are not finite in the initial point.\n",
      "Residuals are not finite in the initial point.\n",
      "Residuals are not finite in the initial point.\n",
      "Residuals are not finite in the initial point.\n"
     ]
    },
    {
     "name": "stderr",
     "output_type": "stream",
     "text": [
      "\r",
      " 98%|██████████████████████████████████████████████████████████████████████████████▍ | 196/200 [38:18<00:45, 11.32s/it]"
     ]
    },
    {
     "name": "stdout",
     "output_type": "stream",
     "text": [
      "Residuals are not finite in the initial point.\n",
      "Residuals are not finite in the initial point.\n",
      "Residuals are not finite in the initial point.\n",
      "Residuals are not finite in the initial point.\n",
      "Residuals are not finite in the initial point.\n",
      "Residuals are not finite in the initial point.\n",
      "Residuals are not finite in the initial point.\n",
      "Residuals are not finite in the initial point.\n",
      "Residuals are not finite in the initial point.\n",
      "Residuals are not finite in the initial point.\n",
      "Residuals are not finite in the initial point.\n"
     ]
    },
    {
     "name": "stderr",
     "output_type": "stream",
     "text": [
      "\r",
      " 98%|██████████████████████████████████████████████████████████████████████████████▊ | 197/200 [38:30<00:34, 11.65s/it]"
     ]
    },
    {
     "name": "stdout",
     "output_type": "stream",
     "text": [
      "Residuals are not finite in the initial point.\n",
      "Residuals are not finite in the initial point.\n",
      "Residuals are not finite in the initial point.\n",
      "Residuals are not finite in the initial point.\n",
      "Residuals are not finite in the initial point.\n",
      "Residuals are not finite in the initial point.\n",
      "Residuals are not finite in the initial point.\n",
      "Residuals are not finite in the initial point.\n"
     ]
    },
    {
     "name": "stderr",
     "output_type": "stream",
     "text": [
      "\r",
      " 99%|███████████████████████████████████████████████████████████████████████████████▏| 198/200 [38:42<00:23, 11.60s/it]"
     ]
    },
    {
     "name": "stdout",
     "output_type": "stream",
     "text": [
      "Residuals are not finite in the initial point.\n",
      "Residuals are not finite in the initial point.\n",
      "Residuals are not finite in the initial point.\n",
      "Residuals are not finite in the initial point.\n",
      "Residuals are not finite in the initial point.\n",
      "Residuals are not finite in the initial point.\n",
      "Residuals are not finite in the initial point.\n",
      "Residuals are not finite in the initial point.\n",
      "Residuals are not finite in the initial point.\n"
     ]
    },
    {
     "name": "stderr",
     "output_type": "stream",
     "text": [
      "\r",
      "100%|███████████████████████████████████████████████████████████████████████████████▌| 199/200 [38:54<00:11, 11.64s/it]"
     ]
    },
    {
     "name": "stdout",
     "output_type": "stream",
     "text": [
      "Residuals are not finite in the initial point.\n",
      "Residuals are not finite in the initial point.\n",
      "Residuals are not finite in the initial point.\n",
      "Residuals are not finite in the initial point.\n",
      "Residuals are not finite in the initial point.\n",
      "Residuals are not finite in the initial point.\n",
      "Residuals are not finite in the initial point.\n",
      "Residuals are not finite in the initial point.\n",
      "Residuals are not finite in the initial point.\n"
     ]
    },
    {
     "name": "stderr",
     "output_type": "stream",
     "text": [
      "100%|████████████████████████████████████████████████████████████████████████████████| 200/200 [39:06<00:00, 11.73s/it]\n"
     ]
    }
   ],
   "source": [
    "import alphapept.quantification\n",
    "from tqdm import tqdm as tqdm\n",
    "import numpy as np\n",
    "import pandas as pd\n",
    "\n",
    "from itertools import combinations\n",
    "from numba.typed import List\n",
    "from time import time\n",
    "from tqdm import tqdm\n",
    "\n",
    "import alphapept.quantification\n",
    "\n",
    "n_samples = 20\n",
    "\n",
    "column_combinations = List()\n",
    "[column_combinations.append(_) for _ in combinations(range(n_samples), 2)]\n",
    "\n",
    "\n",
    "\n",
    "results = []\n",
    "for run in tqdm(range(200)):\n",
    "    for n_sequences in range(2,20):\n",
    "    \n",
    "        signal, sample, ground_truth = alphapept.quantification.generate_dummy_data(n_sequences, n_samples)\n",
    "        ratios = alphapept.quantification.get_protein_ratios(signal.values, column_combinations)\n",
    "\n",
    "        for method in ['L-BFGS-B', 'SLSQP', 'Powell','trf']:\n",
    "            error = False\n",
    "            start = time()\n",
    "            \n",
    "            try:\n",
    "                solution, success = alphapept.quantification.solve_profile(ratios, method)\n",
    "                \n",
    "                if not success:\n",
    "                    solution = np.zeros(ratios.shape[0])\n",
    "            except Exception as e:\n",
    "                print(e)\n",
    "                error = True\n",
    "                solution = np.zeros(ratios.shape[0])\n",
    "               \n",
    "            mape = np.mean(np.abs((solution-ground_truth)/ground_truth))\n",
    "                    \n",
    "            end = time()\n",
    "\n",
    "            time_elapsed_s = (end-start)\n",
    "\n",
    "            results.append((method, time_elapsed_s, mape, error, success, n_sequences, run))\n",
    "    \n",
    "result_df = pd.DataFrame(results, columns=['Method', 'Time Elapsed (s)', 'Mean absolute percentage error', 'Errors', 'Success', 'Sequences', 'Run'])\n"
   ]
  },
  {
   "cell_type": "code",
   "execution_count": 28,
   "id": "75764471",
   "metadata": {},
   "outputs": [
    {
     "data": {
      "text/plain": [
       "[('L-BFGS-B', 1.0849995613098145, 1.0, False, False, 2, 0),\n",
       " ('SLSQP', 0.0, 1.0, False, False, 2, 0),\n",
       " ('Powell', 0.6248574256896973, 1.0, False, False, 2, 0),\n",
       " ('trf', 0.0, 1.0, True, False, 2, 0),\n",
       " ('L-BFGS-B', 0.015623331069946289, 1.0, False, False, 3, 0),\n",
       " ('SLSQP', 0.0, 1.0, False, False, 3, 0),\n",
       " ('Powell', 0.6053788661956787, 1.0, False, False, 3, 0),\n",
       " ('trf', 0.0, 1.0, True, False, 3, 0),\n",
       " ('L-BFGS-B', 0.015623807907104492, 1.0, False, False, 4, 0),\n",
       " ('SLSQP', 0.0, 1.0, False, False, 4, 0),\n",
       " ('Powell', 0.643690824508667, 1.0, False, False, 4, 0),\n",
       " ('trf', 0.0, 1.0, True, False, 4, 0),\n",
       " ('L-BFGS-B', 0.01562047004699707, 1.0, False, False, 5, 0),\n",
       " ('SLSQP', 0.0, 1.0, False, False, 5, 0),\n",
       " ('Powell', 0.6582000255584717, 1.0, False, False, 5, 0),\n",
       " ('trf', 0.0, 1.0, True, False, 5, 0),\n",
       " ('L-BFGS-B', 0.015625, 1.0, False, False, 6, 0),\n",
       " ('SLSQP', 0.0, 1.0, False, False, 6, 0),\n",
       " ('Powell', 0.6425378322601318, 1.0, False, False, 6, 0),\n",
       " ('trf', 0.0, 1.0, True, False, 6, 0),\n",
       " ('L-BFGS-B', 0.0, 1.0, False, False, 7, 0),\n",
       " ('SLSQP', 0.0, 1.0, False, False, 7, 0),\n",
       " ('Powell', 0.6581902503967285, 1.0, False, False, 7, 0),\n",
       " ('trf', 0.0, 1.0, True, False, 7, 0),\n",
       " ('L-BFGS-B', 0.015619754791259766, 1.0, False, False, 8, 0),\n",
       " ('SLSQP', 0.0, 1.0, False, False, 8, 0),\n",
       " ('Powell', 0.6425561904907227, 1.0, False, False, 8, 0),\n",
       " ('trf', 0.0, 1.0, True, False, 8, 0),\n",
       " ('L-BFGS-B', 0.0, 1.0, False, False, 9, 0),\n",
       " ('SLSQP', 0.0, 1.0, False, False, 9, 0),\n",
       " ('Powell', 0.6582934856414795, 1.0, False, False, 9, 0),\n",
       " ('trf', 0.0, 1.0, True, False, 9, 0),\n",
       " ('L-BFGS-B', 0.01562190055847168, 1.0, False, False, 10, 0),\n",
       " ('SLSQP', 0.0, 1.0, False, False, 10, 0),\n",
       " ('Powell', 0.6434206962585449, 1.0, False, False, 10, 0),\n",
       " ('trf', 0.0, 1.0, True, False, 10, 0),\n",
       " ('L-BFGS-B', 0.12497234344482422, 0.014872469214558098, False, True, 11, 0),\n",
       " ('SLSQP', 0.031243085861206055, 0.01487780815523928, False, True, 11, 0),\n",
       " ('Powell', 0.18747830390930176, 0.014873499665922049, False, True, 11, 0),\n",
       " ('trf', 0.564572811126709, 0.01481760067701307, False, True, 11, 0),\n",
       " ('L-BFGS-B', 0.031243085861206055, 0.012626837464144156, False, True, 12, 0),\n",
       " ('SLSQP', 0.015622377395629883, 0.012630523827139226, False, True, 12, 0),\n",
       " ('Powell', 0.12496757507324219, 0.012635772012299804, False, True, 12, 0),\n",
       " ('trf', 0.40616273880004883, 0.012612556223115115, False, True, 12, 0),\n",
       " ('L-BFGS-B', 0.06247735023498535, 0.01139537900345038, False, True, 13, 0),\n",
       " ('SLSQP', 0.031245946884155273, 0.011398308558212139, False, True, 13, 0),\n",
       " ('Powell', 0.14058923721313477, 0.011399316914751125, False, True, 13, 0),\n",
       " ('trf', 0.5779964923858643, 0.011364096376894468, False, True, 13, 0),\n",
       " ('L-BFGS-B', 0.15620994567871094, 0.010315565554371213, False, True, 14, 0),\n",
       " ('SLSQP', 0.015623092651367188, 0.010329321994116274, False, True, 14, 0),\n",
       " ('Powell', 0.17183232307434082, 0.010289197244284898, False, True, 14, 0),\n",
       " ('trf', 0.640474796295166, 0.01029248783700973, False, True, 14, 0),\n",
       " ('L-BFGS-B', 0.1405935287475586, 0.007364585658387398, False, True, 15, 0),\n",
       " ('SLSQP', 0.031240224838256836, 0.007407549659371587, False, True, 15, 0),\n",
       " ('Powell', 0.2030792236328125, 0.007369109927855497, False, True, 15, 0),\n",
       " ('trf', 0.6717183589935303, 0.0072968296422808165, False, True, 15, 0),\n",
       " ('L-BFGS-B', 0.031243562698364258, 0.017056995933638235, False, True, 16, 0),\n",
       " ('SLSQP', 0.015619754791259766, 0.01705199389080637, False, True, 16, 0),\n",
       " ('Powell', 0.15621495246887207, 0.0168196695144737, False, True, 16, 0),\n",
       " ('trf', 0.2958831787109375, 0.02025627831813657, False, True, 16, 0),\n",
       " ('L-BFGS-B', 0.18741321563720703, 0.01320787933540823, False, True, 17, 0),\n",
       " ('SLSQP', 0.031241655349731445, 0.013211423379689355, False, True, 17, 0),\n",
       " ('Powell', 0.18742632865905762, 0.012996090993969759, False, True, 17, 0),\n",
       " ('trf', 0.2656090259552002, 0.04360349289613459, False, True, 17, 0),\n",
       " ('L-BFGS-B', 0.15621590614318848, 0.006948701336120841, False, True, 18, 0),\n",
       " ('SLSQP', 0.015629053115844727, 0.006942241926142377, False, True, 18, 0),\n",
       " ('Powell', 0.18744778633117676, 0.006986267912939026, False, True, 18, 0),\n",
       " ('trf', 0.07810497283935547, 0.1340405834674684, False, True, 18, 0),\n",
       " ('L-BFGS-B', 0.03125286102294922, 0.007645707600263486, False, True, 19, 0),\n",
       " ('SLSQP', 0.031230688095092773, 0.007659674342989482, False, True, 19, 0),\n",
       " ('Powell', 0.2030782699584961, 0.0076445533913225535, False, True, 19, 0),\n",
       " ('trf', 0.4061558246612549, 0.007627616294145906, False, True, 19, 0),\n",
       " ('L-BFGS-B', 0.01562356948852539, 1.0, False, False, 2, 1),\n",
       " ('SLSQP', 0.0, 1.0, False, False, 2, 1),\n",
       " ('Powell', 0.6447117328643799, 1.0, False, False, 2, 1),\n",
       " ('trf', 0.0, 1.0, True, False, 2, 1),\n",
       " ('L-BFGS-B', 0.015619277954101562, 1.0, False, False, 3, 1),\n",
       " ('SLSQP', 0.0, 1.0, False, False, 3, 1),\n",
       " ('Powell', 0.6730401515960693, 1.0, False, False, 3, 1),\n",
       " ('trf', 0.0, 1.0, True, False, 3, 1),\n",
       " ('L-BFGS-B', 0.015622854232788086, 1.0, False, False, 4, 1),\n",
       " ('SLSQP', 0.0, 1.0, False, False, 4, 1),\n",
       " ('Powell', 0.6435000896453857, 1.0, False, False, 4, 1),\n",
       " ('trf', 0.0, 1.0, True, False, 4, 1),\n",
       " ('L-BFGS-B', 0.04686403274536133, 0.013525465596238523, False, True, 5, 1),\n",
       " ('SLSQP', 0.015619754791259766, 0.01353106860846542, False, True, 5, 1),\n",
       " ('Powell', 0.12497091293334961, 0.013663034723690964, False, True, 5, 1),\n",
       " ('trf', 0.33004045486450195, 0.014664668844769298, False, True, 5, 1),\n",
       " ('L-BFGS-B', 0.031243085861206055, 0.013178230962897771, False, True, 6, 1),\n",
       " ('SLSQP', 0.031242847442626953, 0.013189505961456825, False, True, 6, 1),\n",
       " ('Powell', 0.1405928134918213, 0.013160816664270315, False, True, 6, 1),\n",
       " ('trf', 0.21869611740112305, 0.013168180063540933, False, True, 6, 1),\n",
       " ('L-BFGS-B', 0.015623807907104492, 1.0, False, False, 7, 1),\n",
       " ('SLSQP', 0.0, 1.0, False, False, 7, 1),\n",
       " ('Powell', 0.6560947895050049, 1.0, False, False, 7, 1),\n",
       " ('trf', 0.0, 1.0, True, False, 7, 1),\n",
       " ('L-BFGS-B', 0.0, 1.0, False, False, 8, 1),\n",
       " ('SLSQP', 0.0, 1.0, False, False, 8, 1),\n",
       " ('Powell', 0.6581990718841553, 1.0, False, False, 8, 1),\n",
       " ('trf', 0.0, 1.0, True, False, 8, 1),\n",
       " ('L-BFGS-B', 0.1093599796295166, 0.01169791168517517, False, True, 9, 1),\n",
       " ('SLSQP', 0.04685854911804199, 0.011708898737388555, False, True, 9, 1),\n",
       " ('Powell', 0.15621113777160645, 0.011715619106115878, False, True, 9, 1),\n",
       " ('trf', 0.03357362747192383, 0.28124431955878915, False, True, 9, 1),\n",
       " ('L-BFGS-B', 0.015619754791259766, 1.0, False, False, 10, 1),\n",
       " ('SLSQP', 0.0, 1.0, False, False, 10, 1),\n",
       " ('Powell', 0.6590588092803955, 1.0, False, False, 10, 1),\n",
       " ('trf', 0.0, 1.0, True, False, 10, 1),\n",
       " ('L-BFGS-B', 0.0624852180480957, 0.013306073017802417, False, True, 11, 1),\n",
       " ('SLSQP', 0.015622138977050781, 0.013319329869880128, False, True, 11, 1),\n",
       " ('Powell', 0.1093587875366211, 0.012685963914584477, False, True, 11, 1),\n",
       " ('trf', 0.5941598415374756, 0.01170408655763447, False, True, 11, 1),\n",
       " ('L-BFGS-B', 0.06248331069946289, 0.01211523868343009, False, True, 12, 1),\n",
       " ('SLSQP', 0.0156252384185791, 0.012117785526731534, False, True, 12, 1),\n",
       " ('Powell', 0.1874544620513916, 0.01215130987390705, False, True, 12, 1),\n",
       " ('trf', 0.6560955047607422, 0.0112445498951831, False, True, 12, 1),\n",
       " ('L-BFGS-B', 0.015630006790161133, 1.0, False, False, 13, 1),\n",
       " ('SLSQP', 0.0, 1.0, False, False, 13, 1),\n",
       " ('Powell', 0.6404678821563721, 1.0, False, False, 13, 1),\n",
       " ('trf', 0.0, 1.0, True, False, 13, 1),\n",
       " ('L-BFGS-B', 0.031246185302734375, 0.010606895010488959, False, True, 14, 1),\n",
       " ('SLSQP', 0.015618324279785156, 0.010607207677623394, False, True, 14, 1),\n",
       " ('Powell', 0.124969482421875, 0.009838807879382508, False, True, 14, 1),\n",
       " ('trf', 0.2515602111816406, 0.015082304593885506, False, True, 14, 1),\n",
       " ('L-BFGS-B', 0.10934996604919434, 0.02328106496130848, False, True, 15, 1),\n",
       " ('SLSQP', 0.031242847442626953, 0.02326639763579525, False, True, 15, 1),\n",
       " ('Powell', 0.15621352195739746, 0.024973290385292352, False, True, 15, 1),\n",
       " ('trf', 0.09372806549072266, 0.09069182184890853, False, True, 15, 1),\n",
       " ('L-BFGS-B', 0.23431968688964844, 0.011475193477312117, False, True, 16, 1),\n",
       " ('SLSQP', 0.031241893768310547, 0.011499932369995315, False, True, 16, 1),\n",
       " ('Powell', 0.18747234344482422, 0.01070303243168639, False, True, 16, 1),\n",
       " ('trf', 0.0781095027923584, 0.7124536856026318, False, True, 16, 1),\n",
       " ('L-BFGS-B', 0.15619564056396484, 0.014273535778364276, False, True, 17, 1),\n",
       " ('SLSQP', 0.03124070167541504, 0.014276486119249763, False, True, 17, 1),\n",
       " ('Powell', 0.15624642372131348, 0.014278972924888538, False, True, 17, 1),\n",
       " ('trf', 0.2499098777770996, 0.02048612992631127, False, True, 17, 1),\n",
       " ('L-BFGS-B', 0.04686141014099121, 0.013912292868176981, False, True, 18, 1),\n",
       " ('SLSQP', 0.031243085861206055, 0.01390180165508123, False, True, 18, 1),\n",
       " ('Powell', 0.12497186660766602, 0.014483318376931889, False, True, 18, 1),\n",
       " ('trf', 0.5623705387115479, 0.009872210747332463, False, True, 18, 1),\n",
       " ('L-BFGS-B', 0.10934638977050781, 0.008852268834324975, False, True, 19, 1),\n",
       " ('SLSQP', 0.015622138977050781, 0.008859737190255706, False, True, 19, 1),\n",
       " ('Powell', 0.1249699592590332, 0.00919288389905428, False, True, 19, 1),\n",
       " ('trf', 0.7029683589935303, 0.009460623286188028, False, True, 19, 1),\n",
       " ('L-BFGS-B', 0.015619754791259766, 1.0, False, False, 2, 2),\n",
       " ('SLSQP', 0.0, 1.0, False, False, 2, 2),\n",
       " ('Powell', 0.6581368446350098, 1.0, False, False, 2, 2),\n",
       " ('trf', 0.0, 1.0, True, False, 2, 2),\n",
       " ('L-BFGS-B', 0.0, 1.0, False, False, 3, 2),\n",
       " ('SLSQP', 0.0, 1.0, False, False, 3, 2),\n",
       " ('Powell', 0.6894309520721436, 1.0, False, False, 3, 2),\n",
       " ('trf', 0.0, 1.0, True, False, 3, 2),\n",
       " ('L-BFGS-B', 0.0, 1.0, False, False, 4, 2),\n",
       " ('SLSQP', 0.01562190055847168, 1.0, False, False, 4, 2),\n",
       " ('Powell', 0.6426362991333008, 1.0, False, False, 4, 2),\n",
       " ('trf', 0.0, 1.0, True, False, 4, 2),\n",
       " ('L-BFGS-B', 0.015603303909301758, 1.0, False, False, 5, 2),\n",
       " ('SLSQP', 0.0, 1.0, False, False, 5, 2),\n",
       " ('Powell', 0.659294843673706, 1.0, False, False, 5, 2),\n",
       " ('trf', 0.0, 1.0, True, False, 5, 2),\n",
       " ('L-BFGS-B', 0.0, 1.0, False, False, 6, 2),\n",
       " ('SLSQP', 0.0, 1.0, False, False, 6, 2),\n",
       " ('Powell', 0.6584947109222412, 1.0, False, False, 6, 2),\n",
       " ('trf', 0.0, 1.0, True, False, 6, 2),\n",
       " ('L-BFGS-B', 0.03123021125793457, 0.01884959032266242, False, True, 7, 2),\n",
       " ('SLSQP', 0.015623331069946289, 0.018856105625143338, False, True, 7, 2),\n",
       " ('Powell', 0.10934758186340332, 0.01884605288142272, False, True, 7, 2),\n",
       " ('trf', 0.22411370277404785, 0.018863706648480038, False, True, 7, 2),\n",
       " ('L-BFGS-B', 0.0, 1.0, False, False, 8, 2),\n",
       " ('SLSQP', 0.0, 1.0, False, False, 8, 2),\n",
       " ('Powell', 0.6404738426208496, 1.0, False, False, 8, 2),\n",
       " ('trf', 0.0, 1.0, True, False, 8, 2),\n",
       " ('L-BFGS-B', 0.015624761581420898, 1.0, False, False, 9, 2),\n",
       " ('SLSQP', 0.0, 1.0, False, False, 9, 2),\n",
       " ('Powell', 0.6409435272216797, 1.0, False, False, 9, 2),\n",
       " ('trf', 0.0, 1.0, True, False, 9, 2),\n",
       " ('L-BFGS-B', 0.015627384185791016, 1.0, False, False, 10, 2),\n",
       " ('SLSQP', 0.0, 1.0, False, False, 10, 2),\n",
       " ('Powell', 0.6577119827270508, 1.0, False, False, 10, 2),\n",
       " ('trf', 0.0, 1.0, True, False, 10, 2),\n",
       " ('L-BFGS-B', 0.031293630599975586, 0.013617460097501, False, True, 11, 2),\n",
       " ('SLSQP', 0.015570402145385742, 0.013624150370815597, False, True, 11, 2),\n",
       " ('Powell', 0.17183709144592285, 0.013615986189454244, False, True, 11, 2),\n",
       " ('trf', 0.23681116104125977, 0.013616772392677686, False, True, 11, 2),\n",
       " ('L-BFGS-B', 0.062482595443725586, 0.014398973791080311, False, True, 12, 2),\n",
       " ('SLSQP', 0.01562356948852539, 0.014403353091807989, False, True, 12, 2),\n",
       " ('Powell', 0.1405932903289795, 0.014393102490454454, False, True, 12, 2),\n",
       " ('trf', 0.46863818168640137, 0.01447453508082304, False, True, 12, 2),\n",
       " ('L-BFGS-B', 0.06248188018798828, 0.014636086009116261, False, True, 13, 2),\n",
       " ('SLSQP', 0.015623331069946289, 0.014644235844068926, False, True, 13, 2),\n",
       " ('Powell', 0.20308923721313477, 0.014651736184265162, False, True, 13, 2),\n",
       " ('trf', 0.578019380569458, 0.01456538968086243, False, True, 13, 2),\n",
       " ('L-BFGS-B', 0.062442779541015625, 0.01439474183898674, False, True, 14, 2),\n",
       " ('SLSQP', 0.031244516372680664, 0.014390310339402657, False, True, 14, 2),\n",
       " ('Powell', 0.10934948921203613, 0.015271539827827404, False, True, 14, 2),\n",
       " ('trf', 0.6248550415039062, 0.0126532748944617, False, True, 14, 2),\n",
       " ('L-BFGS-B', 0.03124237060546875, 0.01965373365157197, False, True, 15, 2),\n",
       " ('SLSQP', 0.015619039535522461, 0.019622508220865427, False, True, 15, 2),\n",
       " ('Powell', 0.10935258865356445, 0.021313089568567388, False, True, 15, 2),\n",
       " ('trf', 0.32981371879577637, 0.012987590671418298, False, True, 15, 2),\n",
       " ('L-BFGS-B', 0.09373092651367188, 0.011527317892481693, False, True, 16, 2),\n",
       " ('SLSQP', 0.031237125396728516, 0.011525903636049037, False, True, 16, 2),\n",
       " ('Powell', 0.09372806549072266, 0.01176584703580727, False, True, 16, 2),\n",
       " ('trf', 0.6873378753662109, 0.011586281924164034, False, True, 16, 2),\n",
       " ('L-BFGS-B', 0.15621590614318848, 0.013772270624106894, False, True, 17, 2),\n",
       " ('SLSQP', 0.015621662139892578, 0.013787156736920797, False, True, 17, 2),\n",
       " ('Powell', 0.15621376037597656, 0.01379128331043937, False, True, 17, 2),\n",
       " ('trf', 0.10935497283935547, 0.23507396228948335, False, True, 17, 2),\n",
       " ('L-BFGS-B', 0.1718277931213379, 0.009519528625336221, False, True, 18, 2),\n",
       " ('SLSQP', 0.031244277954101562, 0.009536642578219252, False, True, 18, 2),\n",
       " ('Powell', 0.12497329711914062, 0.01072544475629074, False, True, 18, 2),\n",
       " ('trf', 0.1406097412109375, 0.01245889000055508, False, True, 18, 2),\n",
       " ('L-BFGS-B', 0.015597820281982422, 0.011245046794402008, False, True, 19, 2),\n",
       " ('SLSQP', 0.0156252384185791, 0.011253842224322408, False, True, 19, 2),\n",
       " ('Powell', 0.10934829711914062, 0.011265267166652118, False, True, 19, 2),\n",
       " ('trf', 0.1874561309814453, 0.011279474254346894, False, True, 19, 2),\n",
       " ('L-BFGS-B', 0.0, 1.0, False, False, 2, 3),\n",
       " ('SLSQP', 0.015623092651367188, 1.0, False, False, 2, 3),\n",
       " ('Powell', 0.642284631729126, 1.0, False, False, 2, 3),\n",
       " ('trf', 0.0, 1.0, True, False, 2, 3),\n",
       " ('L-BFGS-B', 0.0, 1.0, False, False, 3, 3),\n",
       " ('SLSQP', 0.0, 1.0, False, False, 3, 3),\n",
       " ('Powell', 0.6741666793823242, 1.0, False, False, 3, 3),\n",
       " ('trf', 0.0, 1.0, True, False, 3, 3),\n",
       " ('L-BFGS-B', 0.015627145767211914, 1.0, False, False, 4, 3),\n",
       " ('SLSQP', 0.0, 1.0, False, False, 4, 3),\n",
       " ('Powell', 0.6425693035125732, 1.0, False, False, 4, 3),\n",
       " ('trf', 0.0, 1.0, True, False, 4, 3),\n",
       " ('L-BFGS-B', 0.14057564735412598, 0.020485918537334263, False, True, 5, 3),\n",
       " ('SLSQP', 0.015626192092895508, 0.020492299477221403, False, True, 5, 3),\n",
       " ('Powell', 0.12497353553771973, 0.020560386863334588, False, True, 5, 3),\n",
       " ('trf', 0.1581254005432129, 0.13942866415020633, False, True, 5, 3),\n",
       " ('L-BFGS-B', 0.01561880111694336, 1.0, False, False, 6, 3),\n",
       " ('SLSQP', 0.0, 1.0, False, False, 6, 3),\n",
       " ('Powell', 0.6404938697814941, 1.0, False, False, 6, 3),\n",
       " ('trf', 0.0, 1.0, True, False, 6, 3),\n",
       " ('L-BFGS-B', 0.06247067451477051, 0.024233749655811255, False, True, 7, 3),\n",
       " ('SLSQP', 0.031243324279785156, 0.024243980420324548, False, True, 7, 3),\n",
       " ('Powell', 0.10934782028198242, 0.02420193455921754, False, True, 7, 3),\n",
       " ('trf', 0.5325024127960205, 0.02430461657145257, False, True, 7, 3),\n",
       " ('L-BFGS-B', 0.06248736381530762, 0.012761020424975636, False, True, 8, 3),\n",
       " ('SLSQP', 0.031243324279785156, 0.012761165556095255, False, True, 8, 3),\n",
       " ('Powell', 0.18745708465576172, 0.012571206032208715, False, True, 8, 3),\n",
       " ('trf', 0.5155031681060791, 0.014010676808345756, False, True, 8, 3),\n",
       " ('L-BFGS-B', 0.015623092651367188, 1.0, False, False, 9, 3),\n",
       " ('SLSQP', 0.0, 1.0, False, False, 9, 3),\n",
       " ('Powell', 0.6560962200164795, 1.0, False, False, 9, 3),\n",
       " ('trf', 0.0, 1.0, True, False, 9, 3),\n",
       " ('L-BFGS-B', 0.07810640335083008, 0.011056368033152592, False, True, 10, 3),\n",
       " ('SLSQP', 0.031241416931152344, 0.01105969780538477, False, True, 10, 3),\n",
       " ('Powell', 0.1405959129333496, 0.011084065604510815, False, True, 10, 3),\n",
       " ('trf', 0.5809385776519775, 0.01084047938940004, False, True, 10, 3),\n",
       " ('L-BFGS-B', 0.062476396560668945, 0.009725691150037075, False, True, 11, 3),\n",
       " ('SLSQP', 0.03124380111694336, 0.009732825445016451, False, True, 11, 3),\n",
       " ('Powell', 0.23432374000549316, 0.009709229522845201, False, True, 11, 3),\n",
       " ('trf', 0.4373950958251953, 0.009629052896024679, False, True, 11, 3),\n",
       " ('L-BFGS-B', 0.15621185302734375, 0.012586347549866442, False, True, 12, 3),\n",
       " ('SLSQP', 0.031246185302734375, 0.01257379138433273, False, True, 12, 3),\n",
       " ('Powell', 0.09372568130493164, 0.012619834446416133, False, True, 12, 3),\n",
       " ('trf', 0.6229302883148193, 0.012544685983545347, False, True, 12, 3),\n",
       " ('L-BFGS-B', 0.09372425079345703, 0.0085979706293407, False, True, 13, 3),\n",
       " ('SLSQP', 0.015624523162841797, 0.008593756531466098, False, True, 13, 3),\n",
       " ('Powell', 0.21869826316833496, 0.008487992128441998, False, True, 13, 3),\n",
       " ('trf', 0.5779881477355957, 0.009208265225031757, False, True, 13, 3),\n",
       " ('L-BFGS-B', 0.03124523162841797, 0.01295856612625015, False, True, 14, 3),\n",
       " ('SLSQP', 0.015621185302734375, 0.01295128219041015, False, True, 14, 3),\n",
       " ('Powell', 0.1405930519104004, 0.012946184731616305, False, True, 14, 3),\n",
       " ('trf', 0.29680514335632324, 0.01296354273990207, False, True, 14, 3),\n",
       " ('L-BFGS-B', 0.06248331069946289, 0.008411273371827477, False, True, 15, 3),\n",
       " ('SLSQP', 0.015625715255737305, 0.008420128986232282, False, True, 15, 3),\n",
       " ('Powell', 0.16755056381225586, 0.009499852957103276, False, True, 15, 3),\n",
       " ('trf', 0.49770355224609375, 0.006989209376117686, False, True, 15, 3),\n",
       " ('L-BFGS-B', 0.04685401916503906, 0.013348808481092479, False, True, 16, 3),\n",
       " ('SLSQP', 0.015620231628417969, 0.013352774525293324, False, True, 16, 3),\n",
       " ('Powell', 0.17183589935302734, 0.015439226803899567, False, True, 16, 3),\n",
       " ('trf', 0.5467631816864014, 0.010414965717093522, False, True, 16, 3),\n",
       " ('L-BFGS-B', 0.04684925079345703, 0.008452698074851923, False, True, 17, 3),\n",
       " ('SLSQP', 0.015623092651367188, 0.00846440051594272, False, True, 17, 3),\n",
       " ('Powell', 0.17183780670166016, 0.008457526938514589, False, True, 17, 3),\n",
       " ('trf', 0.3749051094055176, 0.008437367989161587, False, True, 17, 3),\n",
       " ('L-BFGS-B', 0.09372949600219727, 0.014472270044230448, False, True, 18, 3),\n",
       " ('SLSQP', 0.015622615814208984, 0.014435711381095413, False, True, 18, 3),\n",
       " ('Powell', 0.1405954360961914, 0.014454360263904795, False, True, 18, 3),\n",
       " ('trf', 0.4373915195465088, 0.014541846877739286, False, True, 18, 3),\n",
       " ('L-BFGS-B', 0.0, 1.0, False, False, 19, 3),\n",
       " ('SLSQP', 0.0, 1.0, False, False, 19, 3),\n",
       " ('Powell', 0.640477180480957, 1.0, False, False, 19, 3),\n",
       " ('trf', 0.0, 1.0, True, False, 19, 3),\n",
       " ('L-BFGS-B', 0.015621662139892578, 1.0, False, False, 2, 4),\n",
       " ('SLSQP', 0.0, 1.0, False, False, 2, 4),\n",
       " ('Powell', 0.6614353656768799, 1.0, False, False, 2, 4),\n",
       " ('trf', 0.0, 1.0, True, False, 2, 4),\n",
       " ('L-BFGS-B', 0.0, 1.0, False, False, 3, 4),\n",
       " ('SLSQP', 0.0, 1.0, False, False, 3, 4),\n",
       " ('Powell', 0.6571660041809082, 1.0, False, False, 3, 4),\n",
       " ('trf', 0.0, 1.0, True, False, 3, 4),\n",
       " ('L-BFGS-B', 0.015629053115844727, 1.0, False, False, 4, 4),\n",
       " ('SLSQP', 0.0, 1.0, False, False, 4, 4),\n",
       " ('Powell', 0.6741495132446289, 1.0, False, False, 4, 4),\n",
       " ('trf', 0.0, 1.0, True, False, 4, 4),\n",
       " ('L-BFGS-B', 0.1405632495880127, 0.014687892454300164, False, True, 5, 4),\n",
       " ('SLSQP', 0.015614986419677734, 0.014657494495166951, False, True, 5, 4),\n",
       " ('Powell', 0.12499022483825684, 0.01471682996194176, False, True, 5, 4),\n",
       " ('trf', 0.14249467849731445, 0.06419218149692449, False, True, 5, 4),\n",
       " ('L-BFGS-B', 0.0, 1.0, False, False, 6, 4),\n",
       " ('SLSQP', 0.0, 1.0, False, False, 6, 4),\n",
       " ('Powell', 0.6404757499694824, 1.0, False, False, 6, 4),\n",
       " ('trf', 0.0, 1.0, True, False, 6, 4),\n",
       " ('L-BFGS-B', 0.06245613098144531, 0.014384681026307567, False, True, 7, 4),\n",
       " ('SLSQP', 0.015631914138793945, 0.014382163918201116, False, True, 7, 4),\n",
       " ('Powell', 0.1718287467956543, 0.014396768922045094, False, True, 7, 4),\n",
       " ('trf', 0.45435047149658203, 0.014377897532805337, False, True, 7, 4),\n",
       " ('L-BFGS-B', 0.04686450958251953, 0.011588970068717699, False, True, 8, 4),\n",
       " ('SLSQP', 0.03124260902404785, 0.011590190747418228, False, True, 8, 4),\n",
       " ('Powell', 0.17185544967651367, 0.011820079992375325, False, True, 8, 4),\n",
       " ('trf', 0.546729326248169, 0.013496576983889072, False, True, 8, 4),\n",
       " ('L-BFGS-B', 0.10934877395629883, 0.01488573006378457, False, True, 9, 4),\n",
       " ('SLSQP', 0.03124070167541504, 0.01488612719796437, False, True, 9, 4),\n",
       " ('Powell', 0.1405956745147705, 0.014580457175738975, False, True, 9, 4),\n",
       " ('trf', 0.3905365467071533, 0.01573187399290548, False, True, 9, 4),\n",
       " ('L-BFGS-B', 0.06247973442077637, 0.013151438851715597, False, True, 10, 4),\n",
       " ('SLSQP', 0.03124237060546875, 0.013158475009601798, False, True, 10, 4),\n",
       " ('Powell', 0.13280344009399414, 0.013154586765368315, False, True, 10, 4),\n",
       " ('trf', 0.5635502338409424, 0.013084119026911678, False, True, 10, 4),\n",
       " ('L-BFGS-B', 0.031245946884155273, 0.011624995609088033, False, True, 11, 4),\n",
       " ('SLSQP', 0.015619754791259766, 0.011625295552679316, False, True, 11, 4),\n",
       " ('Powell', 0.09372615814208984, 0.0118334116423722, False, True, 11, 4),\n",
       " ('trf', 0.18745803833007812, 0.010265660383222802, False, True, 11, 4),\n",
       " ('L-BFGS-B', 0.15621542930603027, 0.010987585537461039, False, True, 12, 4),\n",
       " ('SLSQP', 0.01562047004699707, 0.010986992728009827, False, True, 12, 4),\n",
       " ('Powell', 0.10935068130493164, 0.010965266906683932, False, True, 12, 4),\n",
       " ('trf', 0.5779883861541748, 0.010904024589531377, False, True, 12, 4),\n",
       " ('L-BFGS-B', 0.28118205070495605, 0.010159437670963495, False, True, 13, 4),\n",
       " ('SLSQP', 0.031245946884155273, 0.010150960654625684, False, True, 13, 4),\n",
       " ('Powell', 0.23431634902954102, 0.010176417649114563, False, True, 13, 4),\n",
       " ('trf', 0.12498092651367188, 0.38841352257433676, False, True, 13, 4),\n",
       " ('L-BFGS-B', 0.015614509582519531, 0.009227173024911235, False, True, 14, 4),\n",
       " ('SLSQP', 0.03125, 0.00921948102802349, False, True, 14, 4),\n",
       " ('Powell', 0.10934257507324219, 0.010243115063155284, False, True, 14, 4),\n",
       " ('trf', 0.23431873321533203, 0.009083454053183228, False, True, 14, 4),\n",
       " ('L-BFGS-B', 0.062485694885253906, 0.014790449906153053, False, True, 15, 4),\n",
       " ('SLSQP', 0.031241655349731445, 0.014759985986954582, False, True, 15, 4),\n",
       " ('Powell', 0.2030775547027588, 0.014809852283725283, False, True, 15, 4),\n",
       " ('trf', 0.37491369247436523, 0.014810086354964641, False, True, 15, 4),\n",
       " ('L-BFGS-B', 0.04686403274536133, 0.029353394435946804, False, True, 16, 4),\n",
       " ('SLSQP', 0.015621185302734375, 0.029347208599179435, False, True, 16, 4),\n",
       " ('Powell', 0.10934734344482422, 0.029403372646844405, False, True, 16, 4),\n",
       " ('trf', 0.4530215263366699, 0.02928132710606953, False, True, 16, 4),\n",
       " ('L-BFGS-B', 0.015626907348632812, 0.025597768871184486, False, True, 17, 4),\n",
       " ('SLSQP', 0.031235456466674805, 0.025593564933088907, False, True, 17, 4),\n",
       " ('Powell', 0.15621495246887207, 0.025074859963034497, False, True, 17, 4),\n",
       " ('trf', 0.5623683929443359, 0.02687054865080348, False, True, 17, 4),\n",
       " ('L-BFGS-B', 0.046866416931152344, 0.013330269200070017, False, True, 18, 4),\n",
       " ('SLSQP', 0.015618324279785156, 0.013343557102677197, False, True, 18, 4),\n",
       " ('Powell', 0.14059138298034668, 0.013334568696290081, False, True, 18, 4),\n",
       " ('trf', 0.48426032066345215, 0.013795612124381263, False, True, 18, 4),\n",
       " ('L-BFGS-B', 0.031247615814208984, 0.010253889555134092, False, True, 19, 4),\n",
       " ('SLSQP', 0.031239032745361328, 0.010253085301530839, False, True, 19, 4),\n",
       " ('Powell', 0.203078031539917, 0.010250841433086055, False, True, 19, 4),\n",
       " ('trf', 0.2968440055847168, 0.010241368167515474, False, True, 19, 4),\n",
       " ('L-BFGS-B', 0.015602350234985352, 1.0, False, False, 2, 5),\n",
       " ('SLSQP', 0.0, 1.0, False, False, 2, 5),\n",
       " ('Powell', 0.6748909950256348, 1.0, False, False, 2, 5),\n",
       " ('trf', 0.0, 1.0, True, False, 2, 5),\n",
       " ('L-BFGS-B', 0.015624761581420898, 1.0, False, False, 3, 5),\n",
       " ('SLSQP', 0.0, 1.0, False, False, 3, 5),\n",
       " ('Powell', 0.681603193283081, 1.0, False, False, 3, 5),\n",
       " ('trf', 0.0, 1.0, True, False, 3, 5),\n",
       " ('L-BFGS-B', 0.015625953674316406, 1.0, False, False, 4, 5),\n",
       " ('SLSQP', 0.0, 1.0, False, False, 4, 5),\n",
       " ('Powell', 0.6426758766174316, 1.0, False, False, 4, 5),\n",
       " ('trf', 0.0, 1.0, True, False, 4, 5),\n",
       " ('L-BFGS-B', 0.15621185302734375, 0.037337565362717554, False, True, 5, 5),\n",
       " ('SLSQP', 0.03124094009399414, 0.03735220515617976, False, True, 5, 5),\n",
       " ('Powell', 0.18746304512023926, 0.039574270282671895, False, True, 5, 5),\n",
       " ('trf', 0.17420458793640137, 0.1366779820491888, False, True, 5, 5),\n",
       " ('L-BFGS-B', 0.015619754791259766, 1.0, False, False, 6, 5),\n",
       " ('SLSQP', 0.0, 1.0, False, False, 6, 5),\n",
       " ('Powell', 0.6560988426208496, 1.0, False, False, 6, 5),\n",
       " ('trf', 0.0, 1.0, True, False, 6, 5),\n",
       " ('L-BFGS-B', 0.10934996604919434, 0.011357227555852825, False, True, 7, 5),\n",
       " ('SLSQP', 0.031266212463378906, 0.011354050088181746, False, True, 7, 5),\n",
       " ('Powell', 0.15619254112243652, 0.011352092629697124, False, True, 7, 5),\n",
       " ('trf', 0.438643217086792, 0.01136801872385522, False, True, 7, 5),\n",
       " ('L-BFGS-B', 0.015621662139892578, 1.0, False, False, 8, 5),\n",
       " ('SLSQP', 0.0, 1.0, False, False, 8, 5),\n",
       " ('Powell', 0.6560962200164795, 1.0, False, False, 8, 5),\n",
       " ('trf', 0.0, 1.0, True, False, 8, 5),\n",
       " ('L-BFGS-B', 0.0624847412109375, 0.012509061580404582, False, True, 9, 5),\n",
       " ('SLSQP', 0.031244516372680664, 0.012522732720127805, False, True, 9, 5),\n",
       " ('Powell', 0.1718449592590332, 0.01252664095721796, False, True, 9, 5),\n",
       " ('trf', 0.2680065631866455, 0.012485967667179066, False, True, 9, 5),\n",
       " ('L-BFGS-B', 0.031227827072143555, 0.011578527506942344, False, True, 10, 5),\n",
       " ('SLSQP', 0.015620231628417969, 0.011588722943217066, False, True, 10, 5),\n",
       " ('Powell', 0.2499401569366455, 0.011551682212777054, False, True, 10, 5),\n",
       " ('trf', 0.21873736381530762, 0.011742005204437519, False, True, 10, 5),\n",
       " ('L-BFGS-B', 0.01558375358581543, 0.015139521676032367, False, True, 11, 5),\n",
       " ('SLSQP', 0.015624046325683594, 0.015139681130975493, False, True, 11, 5),\n",
       " ('Powell', 0.21869850158691406, 0.015219419572393625, False, True, 11, 5),\n",
       " ('trf', 0.2655630111694336, 0.0182219304983851, False, True, 11, 5),\n",
       " ('L-BFGS-B', 0.031241416931152344, 0.013106223443959921, False, True, 12, 5),\n",
       " ('SLSQP', 0.015620946884155273, 0.013092089224607611, False, True, 12, 5),\n",
       " ('Powell', 0.15621376037597656, 0.012976512712950023, False, True, 12, 5),\n",
       " ('trf', 0.4686546325683594, 0.013226548432744647, False, True, 12, 5),\n",
       " ('L-BFGS-B', 0.04687070846557617, 0.011741004887495727, False, True, 13, 5),\n",
       " ('SLSQP', 0.015602350234985352, 0.011727234164428686, False, True, 13, 5),\n",
       " ('Powell', 0.15621399879455566, 0.011504617400840206, False, True, 13, 5),\n",
       " ('trf', 0.43741345405578613, 0.013010783942460418, False, True, 13, 5),\n",
       " ('L-BFGS-B', 0.015604019165039062, 1.0, False, False, 14, 5),\n",
       " ('SLSQP', 0.0, 1.0, False, False, 14, 5),\n",
       " ('Powell', 0.6404740810394287, 1.0, False, False, 14, 5),\n",
       " ('trf', 0.0, 1.0, True, False, 14, 5),\n",
       " ('L-BFGS-B', 0.031245946884155273, 0.014000435237653356, False, True, 15, 5),\n",
       " ('SLSQP', 0.015620231628417969, 0.013981144028369114, False, True, 15, 5),\n",
       " ('Powell', 0.10934662818908691, 0.014680622391726303, False, True, 15, 5),\n",
       " ('trf', 0.3781559467315674, 0.008908704894386606, False, True, 15, 5),\n",
       " ('L-BFGS-B', 0.24994134902954102, 0.010005025816092535, False, True, 16, 5),\n",
       " ('SLSQP', 0.015619039535522461, 1.3738149797395125, False, True, 16, 5),\n",
       " ('Powell', 0.2655653953552246, 0.011450279995579103, False, True, 16, 5),\n",
       " ('trf', 0.1249699592590332, 0.701496917328625, False, True, 16, 5),\n",
       " ('L-BFGS-B', 0.03124070167541504, 0.009169989831753727, False, True, 17, 5),\n",
       " ('SLSQP', 0.015625, 0.009146839364081664, False, True, 17, 5),\n",
       " ('Powell', 0.10934638977050781, 0.009144187286499116, False, True, 17, 5),\n",
       " ('trf', 0.2811868190765381, 0.009145588927038541, False, True, 17, 5),\n",
       " ('L-BFGS-B', 0.0, 1.0, False, False, 18, 5),\n",
       " ('SLSQP', 0.0, 1.0, False, False, 18, 5),\n",
       " ('Powell', 0.640477180480957, 1.0, False, False, 18, 5),\n",
       " ('trf', 0.0, 1.0, True, False, 18, 5),\n",
       " ('L-BFGS-B', 0.031241655349731445, 0.010711590367382107, False, True, 19, 5),\n",
       " ('SLSQP', 0.015619039535522461, 0.010708202215360372, False, True, 19, 5),\n",
       " ('Powell', 0.20308160781860352, 0.0119328150757107, False, True, 19, 5),\n",
       " ('trf', 0.6273531913757324, 0.00952496046509615, False, True, 19, 5),\n",
       " ('L-BFGS-B', 0.015626192092895508, 1.0, False, False, 2, 6),\n",
       " ('SLSQP', 0.0, 1.0, False, False, 2, 6),\n",
       " ('Powell', 0.6522963047027588, 1.0, False, False, 2, 6),\n",
       " ('trf', 0.0, 1.0, True, False, 2, 6),\n",
       " ('L-BFGS-B', 0.03129887580871582, 0.015486504711579654, False, True, 3, 6),\n",
       " ('SLSQP', 0.015621423721313477, 0.015489467696237722, False, True, 3, 6),\n",
       " ('Powell', 0.17183566093444824, 0.01572884975480319, False, True, 3, 6),\n",
       " ('trf', 0.24295330047607422, 0.015261325651465702, False, True, 3, 6),\n",
       " ('L-BFGS-B', 0.01562047004699707, 1.0, False, False, 4, 6),\n",
       " ('SLSQP', 0.0, 1.0, False, False, 4, 6),\n",
       " ('Powell', 0.6404776573181152, 1.0, False, False, 4, 6),\n",
       " ('trf', 0.0, 1.0, True, False, 4, 6),\n",
       " ('L-BFGS-B', 0.07810473442077637, 0.011917234219329375, False, True, 5, 6),\n",
       " ('SLSQP', 0.015621423721313477, 0.011911618739353973, False, True, 5, 6),\n",
       " ('Powell', 0.10935044288635254, 0.011943690385653757, False, True, 5, 6),\n",
       " ('trf', 0.6272389888763428, 0.011881867046877598, False, True, 5, 6),\n",
       " ('L-BFGS-B', 0.0624849796295166, 0.014933317236197188, False, True, 6, 6),\n",
       " ('SLSQP', 0.015658855438232422, 0.014935744102625659, False, True, 6, 6),\n",
       " ('Powell', 0.12493586540222168, 0.014939065031695084, False, True, 6, 6),\n",
       " ('trf', 0.5936100482940674, 0.014919327117058323, False, True, 6, 6),\n",
       " ('L-BFGS-B', 0.015621423721313477, 1.0, False, False, 7, 6),\n",
       " ('SLSQP', 0.0, 1.0, False, False, 7, 6),\n",
       " ('Powell', 0.6404764652252197, 1.0, False, False, 7, 6),\n",
       " ('trf', 0.0, 1.0, True, False, 7, 6),\n",
       " ('L-BFGS-B', 0.015622854232788086, 1.0, False, False, 8, 6),\n",
       " ('SLSQP', 0.0, 1.0, False, False, 8, 6),\n",
       " ('Powell', 0.6593689918518066, 1.0, False, False, 8, 6),\n",
       " ('trf', 0.0, 1.0, True, False, 8, 6),\n",
       " ('L-BFGS-B', 0.015624046325683594, 1.0, False, False, 9, 6),\n",
       " ('SLSQP', 0.0, 1.0, False, False, 9, 6),\n",
       " ('Powell', 0.6582608222961426, 1.0, False, False, 9, 6),\n",
       " ('trf', 0.0, 1.0, True, False, 9, 6),\n",
       " ('L-BFGS-B', 0.03124713897705078, 0.01740054425164906, False, True, 10, 6),\n",
       " ('SLSQP', 0.015624761581420898, 0.017420925250117035, False, True, 10, 6),\n",
       " ('Powell', 0.0937204360961914, 0.019439864768684527, False, True, 10, 6),\n",
       " ('trf', 0.40939903259277344, 0.011435669025954031, False, True, 10, 6),\n",
       " ('L-BFGS-B', 0.12497258186340332, 0.0189120863045857, False, True, 11, 6),\n",
       " ('SLSQP', 0.015618085861206055, 0.018895730948689158, False, True, 11, 6),\n",
       " ('Powell', 0.10935258865356445, 0.0189569593996369, False, True, 11, 6),\n",
       " ('trf', 0.17183184623718262, 0.1379709367482508, False, True, 11, 6),\n",
       " ('L-BFGS-B', 0.0, 1.0, False, False, 12, 6),\n",
       " ('SLSQP', 0.0, 1.0, False, False, 12, 6),\n",
       " ('Powell', 0.6404736042022705, 1.0, False, False, 12, 6),\n",
       " ('trf', 0.0, 1.0, True, False, 12, 6),\n",
       " ('L-BFGS-B', 0.015624284744262695, 0.015684062267345263, False, True, 13, 6),\n",
       " ('SLSQP', 0.03123927116394043, 0.01568485689449043, False, True, 13, 6),\n",
       " ('Powell', 0.10935449600219727, 0.015687480142001522, False, True, 13, 6),\n",
       " ('trf', 0.25118517875671387, 0.01565641524063711, False, True, 13, 6),\n",
       " ('L-BFGS-B', 0.04686307907104492, 0.0106905789421171, False, True, 14, 6),\n",
       " ('SLSQP', 0.015622377395629883, 0.010694961250548893, False, True, 14, 6),\n",
       " ('Powell', 0.17185211181640625, 0.010677732683762273, False, True, 14, 6),\n",
       " ('trf', 0.28116369247436523, 0.010688823469815012, False, True, 14, 6),\n",
       " ('L-BFGS-B', 0.04686427116394043, 0.015159538749418371, False, True, 15, 6),\n",
       " ('SLSQP', 0.015621662139892578, 0.015177566408143656, False, True, 15, 6),\n",
       " ('Powell', 0.09373116493225098, 0.015149404685997691, False, True, 15, 6),\n",
       " ('trf', 0.28118324279785156, 0.015137671131300939, False, True, 15, 6),\n",
       " ('L-BFGS-B', 0.15621113777160645, 0.009222573477086314, False, True, 16, 6),\n",
       " ('SLSQP', 0.03125405311584473, 0.009216569803778715, False, True, 16, 6),\n",
       " ('Powell', 0.17182493209838867, 0.00922498659614863, False, True, 16, 6),\n",
       " ('trf', 0.4686417579650879, 0.009205474926002623, False, True, 16, 6),\n",
       " ('L-BFGS-B', 0.34368133544921875, 1.0, False, False, 17, 6),\n",
       " ('SLSQP', 0.015607833862304688, 0.011606093656227681, False, True, 17, 6),\n",
       " ('Powell', 0.15621280670166016, 0.011714844001619217, False, True, 17, 6),\n",
       " ('trf', 0.3280482292175293, 0.17554305837814047, False, True, 17, 6),\n",
       " ('L-BFGS-B', 0.031244993209838867, 0.01621889451161751, False, True, 18, 6),\n",
       " ('SLSQP', 0.01561880111694336, 0.01621736842009123, False, True, 18, 6),\n",
       " ('Powell', 0.12497401237487793, 0.016744197011866118, False, True, 18, 6),\n",
       " ('trf', 0.24993896484375, 0.013598152051176116, False, True, 18, 6),\n",
       " ('L-BFGS-B', 0.03124403953552246, 0.008838737544609482, False, True, 19, 6),\n",
       " ('SLSQP', 0.015619754791259766, 0.008842521581375586, False, True, 19, 6),\n",
       " ('Powell', 0.15621495246887207, 0.008696149071256822, False, True, 19, 6),\n",
       " ('trf', 0.281203031539917, 0.009026258271177087, False, True, 19, 6),\n",
       " ('L-BFGS-B', 0.015606403350830078, 1.0, False, False, 2, 7),\n",
       " ('SLSQP', 0.0, 1.0, False, False, 2, 7),\n",
       " ('Powell', 0.5803134441375732, 1.0, False, False, 2, 7),\n",
       " ('trf', 0.0, 1.0, True, False, 2, 7),\n",
       " ('L-BFGS-B', 0.0, 1.0, False, False, 3, 7),\n",
       " ('SLSQP', 0.01562643051147461, 1.0, False, False, 3, 7),\n",
       " ('Powell', 0.658358097076416, 1.0, False, False, 3, 7),\n",
       " ('trf', 0.0, 1.0, True, False, 3, 7),\n",
       " ('L-BFGS-B', 0.015624284744262695, 1.0, False, False, 4, 7),\n",
       " ('SLSQP', 0.0, 1.0, False, False, 4, 7),\n",
       " ('Powell', 0.5959744453430176, 1.0, False, False, 4, 7),\n",
       " ('trf', 0.0, 1.0, True, False, 4, 7),\n",
       " ('L-BFGS-B', 0.03124713897705078, 0.018055910894763504, False, True, 5, 7),\n",
       " ('SLSQP', 0.015623807907104492, 0.018068774988007155, False, True, 5, 7),\n",
       " ('Powell', 0.1093449592590332, 0.018063866518466108, False, True, 5, 7),\n",
       " ('trf', 0.26761770248413086, 0.018061857460646875, False, True, 5, 7),\n",
       " ('L-BFGS-B', 0.015619754791259766, 1.0, False, False, 6, 7),\n",
       " ('SLSQP', 0.0, 1.0, False, False, 6, 7),\n",
       " ('Powell', 0.6248559951782227, 1.0, False, False, 6, 7),\n",
       " ('trf', 0.0, 1.0, True, False, 6, 7),\n",
       " ('L-BFGS-B', 0.06246542930603027, 0.011830246966803548, False, True, 7, 7),\n",
       " ('SLSQP', 0.015620231628417969, 0.011823552806345984, False, True, 7, 7),\n",
       " ('Powell', 0.1874523162841797, 0.011823709753141978, False, True, 7, 7),\n",
       " ('trf', 0.46994614601135254, 0.01186494055944717, False, True, 7, 7),\n",
       " ('L-BFGS-B', 0.031237363815307617, 0.01557790547778522, False, True, 8, 7),\n",
       " ('SLSQP', 0.015619754791259766, 0.015580895815643115, False, True, 8, 7),\n",
       " ('Powell', 0.1405947208404541, 0.015874687139580727, False, True, 8, 7),\n",
       " ('trf', 0.2499408721923828, 0.01587064358769704, False, True, 8, 7),\n",
       " ('L-BFGS-B', 0.03124213218688965, 0.020057820447284665, False, True, 9, 7),\n",
       " ('SLSQP', 0.03124094009399414, 0.02005780723421577, False, True, 9, 7),\n",
       " ('Powell', 0.18745970726013184, 0.02002934487573513, False, True, 9, 7),\n",
       " ('trf', 0.3280467987060547, 0.021777270626637424, False, True, 9, 7),\n",
       " ('L-BFGS-B', 0.0, 1.0, False, False, 10, 7),\n",
       " ('SLSQP', 0.0, 1.0, False, False, 10, 7),\n",
       " ('Powell', 0.6560978889465332, 1.0, False, False, 10, 7),\n",
       " ('trf', 0.0, 1.0, True, False, 10, 7),\n",
       " ('L-BFGS-B', 0.015622615814208984, 0.011662666929252651, False, True, 11, 7),\n",
       " ('SLSQP', 0.031238555908203125, 0.011660755966107942, False, True, 11, 7),\n",
       " ('Powell', 0.15621638298034668, 0.01164703702658772, False, True, 11, 7),\n",
       " ('trf', 0.2524988651275635, 0.013956698289316078, False, True, 11, 7),\n",
       " ('L-BFGS-B', 0.031232595443725586, 0.011596038807330162, False, True, 12, 7),\n",
       " ('SLSQP', 0.031243324279785156, 0.011590815628091581, False, True, 12, 7),\n",
       " ('Powell', 0.15621328353881836, 0.011822843745718839, False, True, 12, 7),\n",
       " ('trf', 0.5779898166656494, 0.011363818461535462, False, True, 12, 7),\n",
       " ('L-BFGS-B', 0.10934710502624512, 0.018063886211520233, False, True, 13, 7),\n",
       " ('SLSQP', 0.031244277954101562, 0.01800379262756507, False, True, 13, 7),\n",
       " ('Powell', 0.15621376037597656, 0.018020773797930385, False, True, 13, 7),\n",
       " ('trf', 0.312424898147583, 0.017997349253176493, False, True, 13, 7),\n",
       " ('L-BFGS-B', 0.09372973442077637, 0.01576061912898558, False, True, 14, 7),\n",
       " ('SLSQP', 0.015619754791259766, 0.01575839603155111, False, True, 14, 7),\n",
       " ('Powell', 0.18745684623718262, 0.015780772613474003, False, True, 14, 7),\n",
       " ('trf', 0.5311355590820312, 0.015055919274108074, False, True, 14, 7),\n",
       " ('L-BFGS-B', 0.031232595443725586, 0.01605902388611437, False, True, 15, 7),\n",
       " ('SLSQP', 0.03124547004699707, 0.016054981555606227, False, True, 15, 7),\n",
       " ('Powell', 0.10934615135192871, 0.015202642049778923, False, True, 15, 7),\n",
       " ('trf', 0.42180967330932617, 0.0222626501580586, False, True, 15, 7),\n",
       " ('L-BFGS-B', 0.04683399200439453, 0.0265248211646668, False, True, 16, 7),\n",
       " ('SLSQP', 0.03123927116394043, 0.02651787426163075, False, True, 16, 7),\n",
       " ('Powell', 0.15621638298034668, 0.026503882348287055, False, True, 16, 7),\n",
       " ('trf', 0.3436703681945801, 0.026029345909276656, False, True, 16, 7),\n",
       " ('L-BFGS-B', 0.031241416931152344, 0.01201943903061584, False, True, 17, 7),\n",
       " ('SLSQP', 0.015622377395629883, 0.01202000730541761, False, True, 17, 7),\n",
       " ('Powell', 0.14059138298034668, 0.012129094410050126, False, True, 17, 7),\n",
       " ('trf', 0.1874556541442871, 0.012340963850444758, False, True, 17, 7),\n",
       " ('L-BFGS-B', 0.15621209144592285, 0.014557955550300442, False, True, 18, 7),\n",
       " ('SLSQP', 0.031243085861206055, 0.014574177038512246, False, True, 18, 7),\n",
       " ('Powell', 0.1718587875366211, 0.014611183739214611, False, True, 18, 7),\n",
       " ('trf', 0.34364795684814453, 0.014540398338632512, False, True, 18, 7),\n",
       " ('L-BFGS-B', 0.04686284065246582, 0.01156243190723919, False, True, 19, 7),\n",
       " ('SLSQP', 0.015622377395629883, 0.011555908712536334, False, True, 19, 7),\n",
       " ('Powell', 0.09372830390930176, 0.011670659387685271, False, True, 19, 7),\n",
       " ('trf', 0.5810937881469727, 0.011608722951903449, False, True, 19, 7),\n",
       " ('L-BFGS-B', 0.0, 1.0, False, False, 2, 8),\n",
       " ('SLSQP', 0.015626192092895508, 1.0, False, False, 2, 8),\n",
       " ('Powell', 0.6422021389007568, 1.0, False, False, 2, 8),\n",
       " ('trf', 0.0, 1.0, True, False, 2, 8),\n",
       " ('L-BFGS-B', 0.0, 1.0, False, False, 3, 8),\n",
       " ('SLSQP', 0.015619039535522461, 1.0, False, False, 3, 8),\n",
       " ('Powell', 0.6591157913208008, 1.0, False, False, 3, 8),\n",
       " ('trf', 0.0, 1.0, True, False, 3, 8),\n",
       " ('L-BFGS-B', 0.015625, 1.0, False, False, 4, 8),\n",
       " ('SLSQP', 0.0, 1.0, False, False, 4, 8),\n",
       " ('Powell', 0.6583147048950195, 1.0, False, False, 4, 8),\n",
       " ('trf', 0.0, 1.0, True, False, 4, 8),\n",
       " ('L-BFGS-B', 0.015627622604370117, 1.0, False, False, 5, 8),\n",
       " ('SLSQP', 0.0, 1.0, False, False, 5, 8),\n",
       " ('Powell', 0.6579327583312988, 1.0, False, False, 5, 8),\n",
       " ('trf', 0.0, 1.0, True, False, 5, 8),\n",
       " ('L-BFGS-B', 0.015598058700561523, 1.0, False, False, 6, 8),\n",
       " ('SLSQP', 0.0, 1.0, False, False, 6, 8),\n",
       " ('Powell', 0.642768144607544, 1.0, False, False, 6, 8),\n",
       " ('trf', 0.0, 1.0, True, False, 6, 8),\n",
       " ('L-BFGS-B', 0.0, 1.0, False, False, 7, 8),\n",
       " ('SLSQP', 0.0, 1.0, False, False, 7, 8),\n",
       " ('Powell', 0.658128023147583, 1.0, False, False, 7, 8),\n",
       " ('trf', 0.0, 1.0, True, False, 7, 8),\n",
       " ('L-BFGS-B', 0.01562643051147461, 1.0, False, False, 8, 8),\n",
       " ('SLSQP', 0.0, 1.0, False, False, 8, 8),\n",
       " ('Powell', 0.6588115692138672, 1.0, False, False, 8, 8),\n",
       " ('trf', 0.0, 1.0, True, False, 8, 8),\n",
       " ('L-BFGS-B', 0.04686570167541504, 0.012128219740584636, False, True, 9, 8),\n",
       " ('SLSQP', 0.015621185302734375, 0.012134272532416964, False, True, 9, 8),\n",
       " ('Powell', 0.1405932903289795, 0.012121154934354485, False, True, 9, 8),\n",
       " ('trf', 0.674044132232666, 0.011930857420402476, False, True, 9, 8),\n",
       " ('L-BFGS-B', 0.09368705749511719, 0.01288520443817033, False, True, 10, 8),\n",
       " ('SLSQP', 0.015621423721313477, 0.01287930424968416, False, True, 10, 8),\n",
       " ('Powell', 0.12497949600219727, 0.012888082514908462, False, True, 10, 8),\n",
       " ('trf', 0.5623576641082764, 0.012841136056842417, False, True, 10, 8),\n",
       " ('L-BFGS-B', 0.031244277954101562, 0.013894352896548733, False, True, 11, 8),\n",
       " ('SLSQP', 0.015620231628417969, 0.013885338069498942, False, True, 11, 8),\n",
       " ('Powell', 0.17183709144592285, 0.013891715675737723, False, True, 11, 8),\n",
       " ('trf', 0.1874535083770752, 0.013900494524807521, False, True, 11, 8),\n",
       " ('L-BFGS-B', 0.0, 1.0, False, False, 12, 8),\n",
       " ('SLSQP', 0.0, 1.0, False, False, 12, 8),\n",
       " ('Powell', 0.6404769420623779, 1.0, False, False, 12, 8),\n",
       " ('trf', 0.015629053115844727, 1.0, True, False, 12, 8),\n",
       " ('L-BFGS-B', 0.04685688018798828, 0.01549262827422658, False, True, 13, 8),\n",
       " ('SLSQP', 0.015621423721313477, 0.015513504706101078, False, True, 13, 8),\n",
       " ('Powell', 0.15621447563171387, 0.015532901307841138, False, True, 13, 8),\n",
       " ('trf', 0.501246452331543, 0.015542193784652788, False, True, 13, 8),\n",
       " ('L-BFGS-B', 0.07810711860656738, 0.007860009095655793, False, True, 14, 8),\n",
       " ('SLSQP', 0.01562190055847168, 0.007868244688086012, False, True, 14, 8),\n",
       " ('Powell', 0.21869707107543945, 0.007879967437110419, False, True, 14, 8),\n",
       " ('trf', 0.4686431884765625, 0.007883899150763792, False, True, 14, 8),\n",
       " ('L-BFGS-B', 0.23431730270385742, 0.013844833360164696, False, True, 15, 8),\n",
       " ('SLSQP', 0.031243085861206055, 0.013758191081853452, False, True, 15, 8),\n",
       " ('Powell', 0.1405947208404541, 0.017364727553700148, False, True, 15, 8),\n",
       " ('trf', 0.17183423042297363, 0.6323420476764451, False, True, 15, 8),\n",
       " ('L-BFGS-B', 0.031239986419677734, 0.015395851848114098, False, True, 16, 8),\n",
       " ('SLSQP', 0.03124237060546875, 0.015391090087159253, False, True, 16, 8),\n",
       " ('Powell', 0.12497305870056152, 0.015585060073726528, False, True, 16, 8),\n",
       " ('trf', 0.5467483997344971, 0.014176675834567724, False, True, 16, 8),\n",
       " ('L-BFGS-B', 0.34366822242736816, 1.0, False, False, 17, 8),\n",
       " ('SLSQP', 0.015657424926757812, 5.994630932770478, False, True, 17, 8),\n",
       " ('Powell', 0.14055776596069336, 0.016983158096411464, False, True, 17, 8),\n",
       " ('trf', 0.04687356948852539, 0.4241643372479956, False, True, 17, 8),\n",
       " ('L-BFGS-B', 0.03123331069946289, 0.008788173724803481, False, True, 18, 8),\n",
       " ('SLSQP', 0.015619754791259766, 0.00878290953295084, False, True, 18, 8),\n",
       " ('Powell', 0.12497878074645996, 0.008927324165875997, False, True, 18, 8),\n",
       " ('trf', 0.5467369556427002, 0.008276925690963144, False, True, 18, 8),\n",
       " ('L-BFGS-B', 0.06248736381530762, 0.018674347841303247, False, True, 19, 8),\n",
       " ('SLSQP', 0.03126859664916992, 0.018667829785053516, False, True, 19, 8),\n",
       " ('Powell', 0.09370303153991699, 0.018663906255704275, False, True, 19, 8),\n",
       " ('trf', 0.812309741973877, 0.018757552751785637, False, True, 19, 8),\n",
       " ('L-BFGS-B', 0.0, 1.0, False, False, 2, 9),\n",
       " ('SLSQP', 0.0, 1.0, False, False, 2, 9),\n",
       " ('Powell', 0.6740055084228516, 1.0, False, False, 2, 9),\n",
       " ('trf', 0.0, 1.0, True, False, 2, 9),\n",
       " ('L-BFGS-B', 0.0, 1.0, False, False, 3, 9),\n",
       " ('SLSQP', 0.0156252384185791, 1.0, False, False, 3, 9),\n",
       " ('Powell', 0.6890792846679688, 1.0, False, False, 3, 9),\n",
       " ('trf', 0.0, 1.0, True, False, 3, 9),\n",
       " ('L-BFGS-B', 0.0, 1.0, False, False, 4, 9),\n",
       " ('SLSQP', 0.0, 1.0, False, False, 4, 9),\n",
       " ('Powell', 0.6737823486328125, 1.0, False, False, 4, 9),\n",
       " ('trf', 0.0, 1.0, True, False, 4, 9),\n",
       " ('L-BFGS-B', 0.015641212463378906, 1.0, False, False, 5, 9),\n",
       " ('SLSQP', 0.0, 1.0, False, False, 5, 9),\n",
       " ('Powell', 0.6426010131835938, 1.0, False, False, 5, 9),\n",
       " ('trf', 0.0, 1.0, True, False, 5, 9),\n",
       " ('L-BFGS-B', 0.0, 1.0, False, False, 6, 9),\n",
       " ('SLSQP', 0.0, 1.0, False, False, 6, 9),\n",
       " ('Powell', 0.6580932140350342, 1.0, False, False, 6, 9),\n",
       " ('trf', 0.0, 1.0, True, False, 6, 9),\n",
       " ('L-BFGS-B', 0.0, 1.0, False, False, 7, 9),\n",
       " ('SLSQP', 0.0, 1.0, False, False, 7, 9),\n",
       " ('Powell', 0.674018383026123, 1.0, False, False, 7, 9),\n",
       " ('trf', 0.0, 1.0, True, False, 7, 9),\n",
       " ('L-BFGS-B', 0.3624308109283447, 1.0, False, False, 8, 9),\n",
       " ('SLSQP', 0.0139617919921875, 0.8779006228211316, False, True, 8, 9),\n",
       " ('Powell', 0.1732945442199707, 0.014855021131082455, False, True, 8, 9),\n",
       " ('trf', 0.10935020446777344, 3.744310784087522, False, True, 8, 9),\n",
       " ('L-BFGS-B', 0.015622854232788086, 0.01478050185080113, False, True, 9, 9),\n",
       " ('SLSQP', 0.015619039535522461, 0.01476813307778862, False, True, 9, 9),\n",
       " ('Powell', 0.18745899200439453, 0.015348822979702859, False, True, 9, 9),\n",
       " ('trf', 0.3905630111694336, 0.01291674241483185, False, True, 9, 9),\n",
       " ('L-BFGS-B', 0.031168222427368164, 0.010115101250546715, False, True, 10, 9),\n",
       " ('SLSQP', 0.01568889617919922, 0.010112912817168598, False, True, 10, 9),\n",
       " ('Powell', 0.18743562698364258, 0.010201260833339377, False, True, 10, 9),\n",
       " ('trf', 0.14060044288635254, 0.010113710727952214, False, True, 10, 9),\n",
       " ('L-BFGS-B', 0.0780951976776123, 0.01243636866590454, False, True, 11, 9),\n",
       " ('SLSQP', 0.0156252384185791, 0.012439268056947363, False, True, 11, 9),\n",
       " ('Powell', 0.15620875358581543, 0.012664592701250112, False, True, 11, 9),\n",
       " ('trf', 0.49988603591918945, 0.012727999231681409, False, True, 11, 9),\n",
       " ('L-BFGS-B', 0.03124213218688965, 0.012981888557757152, False, True, 12, 9),\n",
       " ('SLSQP', 0.015619277954101562, 0.012984198314117585, False, True, 12, 9),\n",
       " ('Powell', 0.17183732986450195, 0.012934150393241084, False, True, 12, 9),\n",
       " ('trf', 0.42177367210388184, 0.016654395180030875, False, True, 12, 9),\n",
       " ('L-BFGS-B', 0.09372806549072266, 0.010690021939636878, False, True, 13, 9),\n",
       " ('SLSQP', 0.015623092651367188, 0.010688151030753055, False, True, 13, 9),\n",
       " ('Powell', 0.15621161460876465, 0.010323748115196995, False, True, 13, 9),\n",
       " ('trf', 0.6248536109924316, 0.013679955688404364, False, True, 13, 9),\n",
       " ('L-BFGS-B', 0.01562190055847168, 1.0, False, False, 14, 9),\n",
       " ('SLSQP', 0.0, 1.0, False, False, 14, 9),\n",
       " ('Powell', 0.6404752731323242, 1.0, False, False, 14, 9),\n",
       " ('trf', 0.0, 1.0, True, False, 14, 9),\n",
       " ('L-BFGS-B', 0.24994564056396484, 0.009961734670451158, False, True, 15, 9),\n",
       " ('SLSQP', 0.046866416931152344, 0.009959673978276585, False, True, 15, 9),\n",
       " ('Powell', 0.22094106674194336, 0.009945441819222675, False, True, 15, 9),\n",
       " ('trf', 0.10934853553771973, 0.2697174876190388, False, True, 15, 9),\n",
       " ('L-BFGS-B', 0.12497973442077637, 0.010247469169060384, False, True, 16, 9),\n",
       " ('SLSQP', 0.03123784065246582, 0.010265422540037936, False, True, 16, 9),\n",
       " ('Powell', 0.14060568809509277, 0.01011251768333112, False, True, 16, 9),\n",
       " ('trf', 0.04684805870056152, 0.3870500497764462, False, True, 16, 9),\n",
       " ('L-BFGS-B', 0.03125786781311035, 0.010253626127294099, False, True, 17, 9),\n",
       " ('SLSQP', 0.015605926513671875, 0.010254071924418306, False, True, 17, 9),\n",
       " ('Powell', 0.20307588577270508, 0.010253400566435995, False, True, 17, 9),\n",
       " ('trf', 0.24994158744812012, 0.010255476686210591, False, True, 17, 9),\n",
       " ('L-BFGS-B', 0.12497162818908691, 0.014416185029368552, False, True, 18, 9),\n",
       " ('SLSQP', 0.015622138977050781, 0.014422581536843768, False, True, 18, 9),\n",
       " ('Powell', 0.15621113777160645, 0.018705542700261927, False, True, 18, 9),\n",
       " ('trf', 0.35929322242736816, 0.09402270136674076, False, True, 18, 9),\n",
       " ('L-BFGS-B', 0.09372830390930176, 0.021576039458957114, False, True, 19, 9),\n",
       " ('SLSQP', 0.031248807907104492, 0.021607102597122122, False, True, 19, 9),\n",
       " ('Powell', 0.18744874000549316, 0.021569105834701827, False, True, 19, 9),\n",
       " ('trf', 0.562370777130127, 0.021688075750748374, False, True, 19, 9),\n",
       " ('L-BFGS-B', 0.015623092651367188, 1.0, False, False, 2, 10),\n",
       " ('SLSQP', 0.0, 1.0, False, False, 2, 10),\n",
       " ('Powell', 0.6428205966949463, 1.0, False, False, 2, 10),\n",
       " ('trf', 0.0, 1.0, True, False, 2, 10),\n",
       " ('L-BFGS-B', 0.015624284744262695, 1.0, False, False, 3, 10),\n",
       " ('SLSQP', 0.0, 1.0, False, False, 3, 10),\n",
       " ('Powell', 0.6112170219421387, 1.0, False, False, 3, 10),\n",
       " ('trf', 0.0, 1.0, True, False, 3, 10),\n",
       " ('L-BFGS-B', 0.01562047004699707, 1.0, False, False, 4, 10),\n",
       " ('SLSQP', 0.0, 1.0, False, False, 4, 10),\n",
       " ('Powell', 0.6426544189453125, 1.0, False, False, 4, 10),\n",
       " ('trf', 0.0, 1.0, True, False, 4, 10),\n",
       " ('L-BFGS-B', 0.015612125396728516, 1.0, False, False, 5, 10),\n",
       " ('SLSQP', 0.0, 1.0, False, False, 5, 10),\n",
       " ('Powell', 0.6582493782043457, 1.0, False, False, 5, 10),\n",
       " ('trf', 0.0, 1.0, True, False, 5, 10),\n",
       " ('L-BFGS-B', 0.015624523162841797, 1.0, False, False, 6, 10),\n",
       " ('SLSQP', 0.0, 1.0, False, False, 6, 10),\n",
       " ('Powell', 0.6425991058349609, 1.0, False, False, 6, 10),\n",
       " ('trf', 0.0, 1.0, True, False, 6, 10),\n",
       " ('L-BFGS-B', 0.12497377395629883, 0.020500445720856995, False, True, 7, 10),\n",
       " ('SLSQP', 0.031239748001098633, 0.020543296726877314, False, True, 7, 10),\n",
       " ('Powell', 0.12497377395629883, 0.020478204990813438, False, True, 7, 10),\n",
       " ('trf', 0.6425766944885254, 0.02027617652905472, False, True, 7, 10),\n",
       " ('L-BFGS-B', 0.015623807907104492, 1.0, False, False, 8, 10),\n",
       " ('SLSQP', 0.0, 1.0, False, False, 8, 10),\n",
       " ('Powell', 0.6404726505279541, 1.0, False, False, 8, 10),\n",
       " ('trf', 0.0, 1.0, True, False, 8, 10),\n",
       " ('L-BFGS-B', 0.0, 1.0, False, False, 9, 10),\n",
       " ('SLSQP', 0.0, 1.0, False, False, 9, 10),\n",
       " ('Powell', 0.6588447093963623, 1.0, False, False, 9, 10),\n",
       " ('trf', 0.0, 1.0, True, False, 9, 10),\n",
       " ('L-BFGS-B', 0.031241416931152344, 0.015346791874598606, False, True, 10, 10),\n",
       " ('SLSQP', 0.01562047004699707, 0.015315868525841927, False, True, 10, 10),\n",
       " ('Powell', 0.14059042930603027, 0.01535017419028549, False, True, 10, 10),\n",
       " ('trf', 0.22077560424804688, 0.01533605426993125, False, True, 10, 10),\n",
       " ('L-BFGS-B', 0.20308613777160645, 0.014758524458802833, False, True, 11, 10),\n",
       " ('SLSQP', 0.031235456466674805, 0.014779808423630886, False, True, 11, 10),\n",
       " ('Powell', 0.1249697208404541, 0.014630853175152813, False, True, 11, 10),\n",
       " ('trf', 0.15621352195739746, 0.2676694997247425, False, True, 11, 10),\n",
       " ('L-BFGS-B', 0.18745756149291992, 0.01295121569444351, False, True, 12, 10),\n",
       " ('SLSQP', 0.031241893768310547, 0.012960275397033172, False, True, 12, 10),\n",
       " ('Powell', 0.1405935287475586, 0.0126088728574426, False, True, 12, 10),\n",
       " ('trf', 0.10934853553771973, 0.23701871875763478, False, True, 12, 10),\n",
       " ('L-BFGS-B', 0.24994254112243652, 0.01019563217877411, False, True, 13, 10),\n",
       " ('SLSQP', 0.031242847442626953, 0.010179158020005444, False, True, 13, 10),\n",
       " ('Powell', 0.124969482421875, 0.010220167196011548, False, True, 13, 10),\n",
       " ('trf', 0.1249699592590332, 0.37617268875948456, False, True, 13, 10),\n",
       " ('L-BFGS-B', 0.20308494567871094, 0.022436558347181397, False, True, 14, 10),\n",
       " ('SLSQP', 0.03123784065246582, 0.022457656997921304, False, True, 14, 10),\n",
       " ('Powell', 0.2030797004699707, 0.0224574401527975, False, True, 14, 10),\n",
       " ('trf', 1.4371592998504639, 1.0, False, False, 14, 10),\n",
       " ('L-BFGS-B', 0.21870803833007812, 0.01546381033578648, False, True, 15, 10),\n",
       " ('SLSQP', 0.031236648559570312, 0.015485236230089613, False, True, 15, 10),\n",
       " ('Powell', 0.15621042251586914, 0.015470604355518804, False, True, 15, 10),\n",
       " ('trf', 0.0781087875366211, 0.3679515460674706, False, True, 15, 10),\n",
       " ('L-BFGS-B', 0.04686474800109863, 0.012799474605352783, False, True, 16, 10),\n",
       " ('SLSQP', 0.015623331069946289, 0.012811872361322554, False, True, 16, 10),\n",
       " ('Powell', 0.17183184623718262, 0.012784500927095715, False, True, 16, 10),\n",
       " ('trf', 0.35929346084594727, 0.012808322415674395, False, True, 16, 10),\n",
       " ('L-BFGS-B', 0.14058828353881836, 0.01812792471970527, False, True, 17, 10),\n",
       " ('SLSQP', 0.031247854232788086, 0.01812430842340688, False, True, 17, 10),\n",
       " ('Powell', 0.18747997283935547, 0.0181480622213124, False, True, 17, 10),\n",
       " ('trf', 0.5310981273651123, 0.01767980846300181, False, True, 17, 10),\n",
       " ('L-BFGS-B', 0.06248784065246582, 0.01107608149290852, False, True, 18, 10),\n",
       " ('SLSQP', 0.015619039535522461, 0.011074176928103427, False, True, 18, 10),\n",
       " ('Powell', 0.18745779991149902, 0.011095331679939069, False, True, 18, 10),\n",
       " ('trf', 0.562373161315918, 0.011042065724563791, False, True, 18, 10),\n",
       " ('L-BFGS-B', 0.04685854911804199, 0.01765512150979085, False, True, 19, 10),\n",
       " ('SLSQP', 0.015620946884155273, 0.017654996554714635, False, True, 19, 10),\n",
       " ('Powell', 0.12497782707214355, 0.01764919735226615, False, True, 19, 10),\n",
       " ('trf', 0.34366321563720703, 0.017684451174832833, False, True, 19, 10),\n",
       " ('L-BFGS-B', 0.01563239097595215, 1.0, False, False, 2, 11),\n",
       " ('SLSQP', 0.0, 1.0, False, False, 2, 11),\n",
       " ('Powell', 0.6420333385467529, 1.0, False, False, 2, 11),\n",
       " ('trf', 0.0, 1.0, True, False, 2, 11),\n",
       " ('L-BFGS-B', 0.015627622604370117, 1.0, False, False, 3, 11),\n",
       " ('SLSQP', 0.0, 1.0, False, False, 3, 11),\n",
       " ('Powell', 0.6593093872070312, 1.0, False, False, 3, 11),\n",
       " ('trf', 0.0, 1.0, True, False, 3, 11),\n",
       " ('L-BFGS-B', 0.015625, 1.0, False, False, 4, 11),\n",
       " ('SLSQP', 0.0, 1.0, False, False, 4, 11),\n",
       " ('Powell', 0.6517956256866455, 1.0, False, False, 4, 11),\n",
       " ('trf', 0.0, 1.0, True, False, 4, 11),\n",
       " ('L-BFGS-B', 0.015634775161743164, 1.0, False, False, 5, 11),\n",
       " ('SLSQP', 0.0, 1.0, False, False, 5, 11),\n",
       " ('Powell', 0.659109354019165, 1.0, False, False, 5, 11),\n",
       " ('trf', 0.0, 1.0, True, False, 5, 11),\n",
       " ('L-BFGS-B', 0.015615463256835938, 1.0, False, False, 6, 11),\n",
       " ('SLSQP', 0.0, 1.0, False, False, 6, 11),\n",
       " ('Powell', 0.6446995735168457, 1.0, False, False, 6, 11),\n",
       " ('trf', 0.0, 1.0, True, False, 6, 11),\n",
       " ('L-BFGS-B', 0.015620946884155273, 1.0, False, False, 7, 11),\n",
       " ('SLSQP', 0.0, 1.0, False, False, 7, 11),\n",
       " ('Powell', 0.6424627304077148, 1.0, False, False, 7, 11),\n",
       " ('trf', 0.0, 1.0, True, False, 7, 11),\n",
       " ('L-BFGS-B', 0.0, 1.0, False, False, 8, 11),\n",
       " ('SLSQP', 0.0, 1.0, False, False, 8, 11),\n",
       " ('Powell', 0.5963141918182373, 1.0, False, False, 8, 11),\n",
       " ('trf', 0.0, 1.0, True, False, 8, 11),\n",
       " ('L-BFGS-B', 0.04686474800109863, 0.01418055207768655, False, True, 9, 11),\n",
       " ('SLSQP', 0.015617609024047852, 0.014183179074892546, False, True, 9, 11),\n",
       " ('Powell', 0.10935139656066895, 0.014183277729032856, False, True, 9, 11),\n",
       " ('trf', 0.2359611988067627, 0.014183337506828337, False, True, 9, 11),\n",
       " ('L-BFGS-B', 0.06247377395629883, 0.020846237700726005, False, True, 10, 11),\n",
       " ('SLSQP', 0.015620231628417969, 0.020842929270279777, False, True, 10, 11),\n",
       " ('Powell', 0.15621328353881836, 0.02084801486398532, False, True, 10, 11),\n",
       " ('trf', 0.40619945526123047, 0.02085044819602975, False, True, 10, 11),\n",
       " ('L-BFGS-B', 0.03120136260986328, 0.012026169335807604, False, True, 11, 11),\n",
       " ('SLSQP', 0.015616416931152344, 0.012024766046223224, False, True, 11, 11),\n",
       " ('Powell', 0.12497115135192871, 0.012033923322949955, False, True, 11, 11),\n",
       " ('trf', 0.23432207107543945, 0.012025498085892091, False, True, 11, 11),\n",
       " ('L-BFGS-B', 0.0, 1.0, False, False, 12, 11),\n",
       " ('SLSQP', 0.015619516372680664, 1.0, False, False, 12, 11),\n",
       " ('Powell', 0.6404762268066406, 1.0, False, False, 12, 11),\n",
       " ('trf', 0.0, 1.0, True, False, 12, 11),\n",
       " ('L-BFGS-B', 0.0, 1.0, False, False, 13, 11),\n",
       " ('SLSQP', 0.0, 1.0, False, False, 13, 11),\n",
       " ('Powell', 0.6589944362640381, 1.0, False, False, 13, 11),\n",
       " ('trf', 0.0, 1.0, True, False, 13, 11),\n",
       " ('L-BFGS-B', 0.09372997283935547, 0.015313776017617192, False, True, 14, 11),\n",
       " ('SLSQP', 0.04686689376831055, 0.015342942773842119, False, True, 14, 11),\n",
       " ('Powell', 0.14058995246887207, 0.015344294143579148, False, True, 14, 11),\n",
       " ('trf', 0.42310118675231934, 0.014979286463965513, False, True, 14, 11),\n",
       " ('L-BFGS-B', 0.09372830390930176, 0.009683240307665599, False, True, 15, 11),\n",
       " ('SLSQP', 0.015622854232788086, 0.009690823284506609, False, True, 15, 11),\n",
       " ('Powell', 0.14059019088745117, 0.009674226927342, False, True, 15, 11),\n",
       " ('trf', 0.5155060291290283, 0.009679826912986467, False, True, 15, 11),\n",
       " ('L-BFGS-B', 0.203078031539917, 0.008524133333837102, False, True, 16, 11),\n",
       " ('SLSQP', 0.01562190055847168, 0.008543730965904116, False, True, 16, 11),\n",
       " ('Powell', 0.20307612419128418, 0.008531788565561166, False, True, 16, 11),\n",
       " ('trf', 0.15621447563171387, 0.07782913078730665, False, True, 16, 11),\n",
       " ('L-BFGS-B', 0.031258583068847656, 0.013935205276062807, False, True, 17, 11),\n",
       " ('SLSQP', 0.03122568130493164, 0.013925333120351413, False, True, 17, 11),\n",
       " ('Powell', 0.124969482421875, 0.013946974907075907, False, True, 17, 11),\n",
       " ('trf', 0.28121113777160645, 0.013941166873670557, False, True, 17, 11),\n",
       " ('L-BFGS-B', 0.06246304512023926, 0.01949155547059509, False, True, 18, 11),\n",
       " ('SLSQP', 0.031238317489624023, 0.019480333984846693, False, True, 18, 11),\n",
       " ('Powell', 0.14059734344482422, 0.01883669287989607, False, True, 18, 11),\n",
       " ('trf', 0.46863627433776855, 0.018686353456574628, False, True, 18, 11),\n",
       " ('L-BFGS-B', 0.04686474800109863, 0.020436516147570104, False, True, 19, 11),\n",
       " ('SLSQP', 0.03124213218688965, 0.0204292026908633, False, True, 19, 11),\n",
       " ('Powell', 0.14059758186340332, 0.020429799253537967, False, True, 19, 11),\n",
       " ('trf', 0.34366559982299805, 0.020465804091550643, False, True, 19, 11),\n",
       " ('L-BFGS-B', 0.015631914138793945, 1.0, False, False, 2, 12),\n",
       " ('SLSQP', 0.0, 1.0, False, False, 2, 12),\n",
       " ('Powell', 0.6756143569946289, 1.0, False, False, 2, 12),\n",
       " ('trf', 0.0, 1.0, True, False, 2, 12),\n",
       " ('L-BFGS-B', 0.015624046325683594, 1.0, False, False, 3, 12),\n",
       " ('SLSQP', 0.0, 1.0, False, False, 3, 12),\n",
       " ('Powell', 0.6425514221191406, 1.0, False, False, 3, 12),\n",
       " ('trf', 0.0, 1.0, True, False, 3, 12),\n",
       " ('L-BFGS-B', 0.015625, 1.0, False, False, 4, 12),\n",
       " ('SLSQP', 0.0, 1.0, False, False, 4, 12),\n",
       " ('Powell', 0.6432607173919678, 1.0, False, False, 4, 12),\n",
       " ('trf', 0.0, 1.0, True, False, 4, 12),\n",
       " ('L-BFGS-B', 0.015605688095092773, 1.0, False, False, 5, 12),\n",
       " ('SLSQP', 0.0, 1.0, False, False, 5, 12),\n",
       " ('Powell', 0.6114981174468994, 1.0, False, False, 5, 12),\n",
       " ('trf', 0.0, 1.0, True, False, 5, 12),\n",
       " ('L-BFGS-B', 0.0, 1.0, False, False, 6, 12),\n",
       " ('SLSQP', 0.015627145767211914, 1.0, False, False, 6, 12),\n",
       " ('Powell', 0.6421389579772949, 1.0, False, False, 6, 12),\n",
       " ('trf', 0.0, 1.0, True, False, 6, 12),\n",
       " ('L-BFGS-B', 0.3213071823120117, 0.040115582568195696, False, True, 7, 12),\n",
       " ('SLSQP', 0.02410721778869629, 0.04027315019805998, False, True, 7, 12),\n",
       " ('Powell', 0.10939550399780273, 0.04016308148019247, False, True, 7, 12),\n",
       " ('trf', 0.15621685981750488, 0.6569452061450167, False, True, 7, 12),\n",
       " ('L-BFGS-B', 0.34368205070495605, 1.0, False, False, 8, 12),\n",
       " ('SLSQP', 0.0, 1.8961657179277354, False, True, 8, 12),\n",
       " ('Powell', 0.10933589935302734, 0.04834969737625889, False, True, 8, 12),\n",
       " ('trf', 0.07810711860656738, 0.30800859427503774, False, True, 8, 12),\n",
       " ('L-BFGS-B', 0.17183589935302734, 0.027039082771598676, False, True, 9, 12),\n",
       " ('SLSQP', 0.031240224838256836, 0.02707059249696674, False, True, 9, 12),\n",
       " ('Powell', 0.10934948921203613, 0.030205669232137293, False, True, 9, 12),\n",
       " ('trf', 0.1405947208404541, 0.13360093228567874, False, True, 9, 12),\n",
       " ('L-BFGS-B', 0.031241416931152344, 0.012276157940725296, False, True, 10, 12),\n",
       " ('SLSQP', 0.01562190055847168, 0.01228077450445693, False, True, 10, 12),\n",
       " ('Powell', 0.12497091293334961, 0.012274148797945606, False, True, 10, 12),\n",
       " ('trf', 0.24996471405029297, 0.01226903269634797, False, True, 10, 12),\n",
       " ('L-BFGS-B', 0.062460899353027344, 0.010653296303667282, False, True, 11, 12),\n",
       " ('SLSQP', 0.03124260902404785, 0.010646637914091575, False, True, 11, 12),\n",
       " ('Powell', 0.1249687671661377, 0.010255278672628175, False, True, 11, 12),\n",
       " ('trf', 0.5311374664306641, 0.013379542791296602, False, True, 11, 12),\n",
       " ('L-BFGS-B', 0.046852827072143555, 0.013086151601844138, False, True, 12, 12),\n",
       " ('SLSQP', 0.01562356948852539, 0.013116898690714234, False, True, 12, 12),\n",
       " ('Powell', 0.12496829032897949, 0.012500933608266623, False, True, 12, 12),\n",
       " ('trf', 0.5311710834503174, 0.012374874010798429, False, True, 12, 12),\n",
       " ('L-BFGS-B', 0.10930490493774414, 0.013124309805511025, False, True, 13, 12),\n",
       " ('SLSQP', 0.03124690055847168, 0.013116151329391928, False, True, 13, 12),\n",
       " ('Powell', 0.10936522483825684, 0.013138029585447358, False, True, 13, 12),\n",
       " ('trf', 0.4373788833618164, 0.013081741978431982, False, True, 13, 12),\n",
       " ('L-BFGS-B', 0.24994158744812012, 0.008709464275480682, False, True, 14, 12),\n",
       " ('SLSQP', 0.03124403953552246, 0.00874503631108173, False, True, 14, 12),\n",
       " ('Powell', 0.09372782707214355, 0.008707652817823638, False, True, 14, 12),\n",
       " ('trf', 0.046861886978149414, 1.1766093465133785, False, True, 14, 12),\n",
       " ('L-BFGS-B', 0.1405942440032959, 0.008894588652250582, False, True, 15, 12),\n",
       " ('SLSQP', 0.015619039535522461, 0.43512526370153504, False, True, 15, 12),\n",
       " ('Powell', 0.12497234344482422, 0.008596039438723838, False, True, 15, 12),\n",
       " ('trf', 0.10935068130493164, 0.20561886322834658, False, True, 15, 12),\n",
       " ('L-BFGS-B', 0.062482595443725586, 0.007440106310833083, False, True, 16, 12),\n",
       " ('SLSQP', 0.03124403953552246, 0.007433765157347394, False, True, 16, 12),\n",
       " ('Powell', 0.17185139656066895, 0.007457661216994105, False, True, 16, 12),\n",
       " ('trf', 0.46862292289733887, 0.007460918360324762, False, True, 16, 12),\n",
       " ('L-BFGS-B', 0.04686927795410156, 0.01160699424197609, False, True, 17, 12),\n",
       " ('SLSQP', 0.015616893768310547, 0.01160218361389649, False, True, 17, 12),\n",
       " ('Powell', 0.09373235702514648, 0.011633925032585986, False, True, 17, 12),\n",
       " ('trf', 0.3749122619628906, 0.011925584422964007, False, True, 17, 12),\n",
       " ('L-BFGS-B', 0.015619754791259766, 0.00968190395121535, False, True, 18, 12),\n",
       " ('SLSQP', 0.015619754791259766, 0.009673003284259563, False, True, 18, 12),\n",
       " ('Powell', 0.10935163497924805, 0.00967954024057913, False, True, 18, 12),\n",
       " ('trf', 0.17183613777160645, 0.009685664991142259, False, True, 18, 12),\n",
       " ('L-BFGS-B', 0.06248068809509277, 0.006408016430312362, False, True, 19, 12),\n",
       " ('SLSQP', 0.031241178512573242, 0.006420569892446122, False, True, 19, 12),\n",
       " ('Powell', 0.12497115135192871, 0.006202924138953696, False, True, 19, 12),\n",
       " ('trf', 0.7342450618743896, 0.006814564392800521, False, True, 19, 12),\n",
       " ('L-BFGS-B', 0.015590667724609375, 1.0, False, False, 2, 13),\n",
       " ('SLSQP', 0.0, 1.0, False, False, 2, 13),\n",
       " ('Powell', 0.6449413299560547, 1.0, False, False, 2, 13),\n",
       " ('trf', 0.0, 1.0, True, False, 2, 13),\n",
       " ('L-BFGS-B', 0.0, 1.0, False, False, 3, 13),\n",
       " ('SLSQP', 0.0156252384185791, 1.0, False, False, 3, 13),\n",
       " ('Powell', 0.6920337677001953, 1.0, False, False, 3, 13),\n",
       " ('trf', 0.0, 1.0, True, False, 3, 13),\n",
       " ('L-BFGS-B', 0.01562356948852539, 1.0, False, False, 4, 13),\n",
       " ('SLSQP', 0.0, 1.0, False, False, 4, 13),\n",
       " ('Powell', 0.657893180847168, 1.0, False, False, 4, 13),\n",
       " ('trf', 0.0, 1.0, True, False, 4, 13),\n",
       " ('L-BFGS-B', 0.015625715255737305, 0.022111483179948148, False, True, 5, 13),\n",
       " ('SLSQP', 0.031239748001098633, 0.022102491821967784, False, True, 5, 13),\n",
       " ('Powell', 0.09372639656066895, 0.022105230737746433, False, True, 5, 13),\n",
       " ('trf', 0.269028902053833, 0.022086015518922898, False, True, 5, 13),\n",
       " ('L-BFGS-B', 0.015620708465576172, 1.0, False, False, 6, 13),\n",
       " ('SLSQP', 0.0, 1.0, False, False, 6, 13),\n",
       " ('Powell', 0.6560971736907959, 1.0, False, False, 6, 13),\n",
       " ('trf', 0.0, 1.0, True, False, 6, 13),\n",
       " ('L-BFGS-B', 0.09372711181640625, 0.036805678409702614, False, True, 7, 13),\n",
       " ('SLSQP', 0.031241178512573242, 0.03680879369652722, False, True, 7, 13),\n",
       " ('Powell', 0.14059972763061523, 0.03703854060772631, False, True, 7, 13),\n",
       " ('trf', 0.5481522083282471, 0.03831521452373442, False, True, 7, 13),\n",
       " ('L-BFGS-B', 0.0, 1.0, False, False, 8, 13),\n",
       " ('SLSQP', 0.0, 1.0, False, False, 8, 13),\n",
       " ('Powell', 0.6404738426208496, 1.0, False, False, 8, 13),\n",
       " ('trf', 0.0, 1.0, True, False, 8, 13),\n",
       " ('L-BFGS-B', 0.0156252384185791, 1.0, False, False, 9, 13),\n",
       " ('SLSQP', 0.0, 1.0, False, False, 9, 13),\n",
       " ('Powell', 0.658165454864502, 1.0, False, False, 9, 13),\n",
       " ('trf', 0.0, 1.0, True, False, 9, 13),\n",
       " ('L-BFGS-B', 0.0, 1.0, False, False, 10, 13),\n",
       " ('SLSQP', 0.0, 1.0, False, False, 10, 13),\n",
       " ('Powell', 0.658440351486206, 1.0, False, False, 10, 13),\n",
       " ('trf', 0.0, 1.0, True, False, 10, 13),\n",
       " ('L-BFGS-B', 0.12496662139892578, 0.011451100090909874, False, True, 11, 13),\n",
       " ('SLSQP', 0.015622854232788086, 0.011447651476149807, False, True, 11, 13),\n",
       " ('Powell', 0.14059042930603027, 0.011460127860528252, False, True, 11, 13),\n",
       " ('trf', 0.6112949848175049, 0.011381105348853893, False, True, 11, 13),\n",
       " ('L-BFGS-B', 0.10935163497924805, 0.01263781826526302, False, True, 12, 13),\n",
       " ('SLSQP', 0.015633821487426758, 0.01264273301230685, False, True, 12, 13),\n",
       " ('Powell', 0.17182159423828125, 0.012556407502486275, False, True, 12, 13),\n",
       " ('trf', 0.5467865467071533, 0.012604399819286117, False, True, 12, 13),\n",
       " ('L-BFGS-B', 0.0, 1.0, False, False, 13, 13),\n",
       " ('SLSQP', 0.0, 1.0, False, False, 13, 13),\n",
       " ('Powell', 0.6560573577880859, 1.0, False, False, 13, 13),\n",
       " ('trf', 0.0, 1.0, True, False, 13, 13),\n",
       " ('L-BFGS-B', 0.015625953674316406, 1.0, False, False, 14, 13),\n",
       " ('SLSQP', 0.0, 1.0, False, False, 14, 13),\n",
       " ('Powell', 0.6421689987182617, 1.0, False, False, 14, 13),\n",
       " ('trf', 0.0, 1.0, True, False, 14, 13),\n",
       " ('L-BFGS-B', 0.031241178512573242, 0.028904228910276657, False, True, 15, 13),\n",
       " ('SLSQP', 0.03125286102294922, 0.028882768398431635, False, True, 15, 13),\n",
       " ('Powell', 0.14058232307434082, 0.028922038460913395, False, True, 15, 13),\n",
       " ('trf', 0.4082369804382324, 0.028943301957132322, False, True, 15, 13),\n",
       " ('L-BFGS-B', 0.04684901237487793, 0.01907725111466279, False, True, 16, 13),\n",
       " ('SLSQP', 0.031244277954101562, 0.019031361669302718, False, True, 16, 13),\n",
       " ('Powell', 0.1405935287475586, 0.019084537635701226, False, True, 16, 13),\n",
       " ('trf', 0.5779902935028076, 0.019122142309981178, False, True, 16, 13),\n",
       " ('L-BFGS-B', 0.04686331748962402, 0.012689956772205729, False, True, 17, 13),\n",
       " ('SLSQP', 0.015619993209838867, 0.012689247000553617, False, True, 17, 13),\n",
       " ('Powell', 0.10935020446777344, 0.012489293304340147, False, True, 17, 13),\n",
       " ('trf', 0.3749120235443115, 0.01322839716579043, False, True, 17, 13),\n",
       " ...]"
      ]
     },
     "execution_count": 28,
     "metadata": {},
     "output_type": "execute_result"
    }
   ],
   "source": [
    "results"
   ]
  },
  {
   "cell_type": "code",
   "execution_count": 29,
   "id": "ffc03aeb",
   "metadata": {},
   "outputs": [],
   "source": [
    "result_df['Error relative to mean'] = result_df['Mean absolute percentage error'] / result_df.groupby(['Sequences','Run'])['Mean absolute percentage error'].transform(np.mean)\n",
    "result_df_ = result_df[result_df[\"Success\"]]\n",
    "\n",
    "grouped_mean = result_df_.groupby(['Method']).mean().reset_index()\n",
    "\n",
    "grouped_std = result_df_.groupby(['Method']).std().reset_index()\n",
    "grouped_cnt = result_df_.groupby(['Method']).count().reset_index()"
   ]
  },
  {
   "cell_type": "code",
   "execution_count": 35,
   "id": "3825e1f7",
   "metadata": {
    "scrolled": true
   },
   "outputs": [
    {
     "data": {
      "text/plain": [
       "<Figure size 170.136x170.136 with 0 Axes>"
      ]
     },
     "metadata": {},
     "output_type": "display_data"
    },
    {
     "data": {
      "image/png": "[encoded data removed]",
      "text/plain": [
       "<Figure size 510.408x170.136 with 3 Axes>"
      ]
     },
     "metadata": {
      "needs_background": "light"
     },
     "output_type": "display_data"
    }
   ],
   "source": [
    "import matplotlib.pyplot as plt\n",
    "\n",
    "dark_blue = '#17212b'\n",
    "light_blue = '#3dc5ef'\n",
    "teal= '#42dee1'\n",
    "green = '#6eecb9'\n",
    "yellow = '#eef5b3'\n",
    "\n",
    "colors = [light_blue, teal, green, yellow]\n",
    "\n",
    "hfont = {'fontname':'Arial', 'size':10}\n",
    "plt.figure(figsize=(2.363,2.363)) #60x60\n",
    "\n",
    "fig, (ax1, ax2, ax3) = plt.subplots(1, 3, figsize=(2.363*3,2.363))\n",
    "\n",
    "ax1.barh(grouped_mean['Method'], grouped_mean['Time Elapsed (s)'], color = colors)\n",
    "\n",
    "ax1.set_xlabel('Time (s)', **hfont)\n",
    "\n",
    "ax2.barh(grouped_mean['Method'], grouped_mean['Error relative to mean'], xerr = grouped_std['Error relative to mean'].values, color = colors)\n",
    "\n",
    "ax2.set_xlabel('Error to mean', **hfont)\n",
    "\n",
    "ax3.barh(grouped_mean['Method'], (1-grouped_cnt['Success']/max(grouped_cnt['Success']))*100 , color = colors)\n",
    "\n",
    "ax3.set_xlabel('Failures (%)', **hfont)\n",
    "\n",
    "ax2.set_yticks([])\n",
    "ax3.set_yticks([])\n",
    "\n",
    "plt.tight_layout()\n",
    "plt.savefig('./figures/06_A.pdf')\n",
    "plt.show()\n"
   ]
  },
  {
   "cell_type": "code",
   "execution_count": 31,
   "id": "a0b52029",
   "metadata": {},
   "outputs": [
    {
     "data": {
      "text/plain": [
       "17.53167638384423"
      ]
     },
     "execution_count": 31,
     "metadata": {},
     "output_type": "execute_result"
    }
   ],
   "source": [
    "grouped_mean.iloc[3]['Time Elapsed (s)'] / grouped_mean.iloc[2]['Time Elapsed (s)']"
   ]
  },
  {
   "cell_type": "code",
   "execution_count": 32,
   "id": "f5ac5b32",
   "metadata": {},
   "outputs": [
    {
     "data": {
      "text/plain": [
       "0    0.958654\n",
       "1    1.000000\n",
       "2    1.000000\n",
       "3    0.997596\n",
       "Name: Success, dtype: float64"
      ]
     },
     "execution_count": 32,
     "metadata": {},
     "output_type": "execute_result"
    }
   ],
   "source": [
    "grouped_cnt['Success']/max(grouped_cnt['Success'])"
   ]
  },
  {
   "cell_type": "code",
   "execution_count": 33,
   "id": "ab066f62",
   "metadata": {},
   "outputs": [
    {
     "data": {
      "text/html": [
       "<div>\n",
       "<style scoped>\n",
       "    .dataframe tbody tr th:only-of-type {\n",
       "        vertical-align: middle;\n",
       "    }\n",
       "\n",
       "    .dataframe tbody tr th {\n",
       "        vertical-align: top;\n",
       "    }\n",
       "\n",
       "    .dataframe thead th {\n",
       "        text-align: right;\n",
       "    }\n",
       "</style>\n",
       "<table border=\"1\" class=\"dataframe\">\n",
       "  <thead>\n",
       "    <tr style=\"text-align: right;\">\n",
       "      <th></th>\n",
       "      <th>Method</th>\n",
       "      <th>Time Elapsed (s)</th>\n",
       "      <th>Mean absolute percentage error</th>\n",
       "      <th>Errors</th>\n",
       "      <th>Success</th>\n",
       "      <th>Sequences</th>\n",
       "      <th>Run</th>\n",
       "      <th>Error relative to mean</th>\n",
       "    </tr>\n",
       "  </thead>\n",
       "  <tbody>\n",
       "    <tr>\n",
       "      <th>0</th>\n",
       "      <td>L-BFGS-B</td>\n",
       "      <td>1994</td>\n",
       "      <td>1994</td>\n",
       "      <td>1994</td>\n",
       "      <td>1994</td>\n",
       "      <td>1994</td>\n",
       "      <td>1994</td>\n",
       "      <td>1994</td>\n",
       "    </tr>\n",
       "    <tr>\n",
       "      <th>1</th>\n",
       "      <td>Powell</td>\n",
       "      <td>2080</td>\n",
       "      <td>2080</td>\n",
       "      <td>2080</td>\n",
       "      <td>2080</td>\n",
       "      <td>2080</td>\n",
       "      <td>2080</td>\n",
       "      <td>2080</td>\n",
       "    </tr>\n",
       "    <tr>\n",
       "      <th>2</th>\n",
       "      <td>SLSQP</td>\n",
       "      <td>2080</td>\n",
       "      <td>2080</td>\n",
       "      <td>2080</td>\n",
       "      <td>2080</td>\n",
       "      <td>2080</td>\n",
       "      <td>2080</td>\n",
       "      <td>2080</td>\n",
       "    </tr>\n",
       "    <tr>\n",
       "      <th>3</th>\n",
       "      <td>trf</td>\n",
       "      <td>2075</td>\n",
       "      <td>2075</td>\n",
       "      <td>2075</td>\n",
       "      <td>2075</td>\n",
       "      <td>2075</td>\n",
       "      <td>2075</td>\n",
       "      <td>2075</td>\n",
       "    </tr>\n",
       "  </tbody>\n",
       "</table>\n",
       "</div>"
      ],
      "text/plain": [
       "     Method  Time Elapsed (s)  Mean absolute percentage error  Errors  \\\n",
       "0  L-BFGS-B              1994                            1994    1994   \n",
       "1    Powell              2080                            2080    2080   \n",
       "2     SLSQP              2080                            2080    2080   \n",
       "3       trf              2075                            2075    2075   \n",
       "\n",
       "   Success  Sequences   Run  Error relative to mean  \n",
       "0     1994       1994  1994                    1994  \n",
       "1     2080       2080  2080                    2080  \n",
       "2     2080       2080  2080                    2080  \n",
       "3     2075       2075  2075                    2075  "
      ]
     },
     "execution_count": 33,
     "metadata": {},
     "output_type": "execute_result"
    }
   ],
   "source": [
    "grouped_cnt"
   ]
  }
 ],
 "metadata": {
  "kernelspec": {
   "display_name": "Python [conda env:.conda-alphapept] *",
   "language": "python",
   "name": "conda-env-.conda-alphapept-py"
  },
  "language_info": {
   "codemirror_mode": {
    "name": "ipython",
    "version": 3
   },
   "file_extension": ".py",
   "mimetype": "text/x-python",
   "name": "python",
   "nbconvert_exporter": "python",
   "pygments_lexer": "ipython3",
   "version": "3.8.10"
  },
  "toc": {
   "base_numbering": 1,
   "nav_menu": {},
   "number_sections": true,
   "sideBar": true,
   "skip_h1_title": false,
   "title_cell": "Table of Contents",
   "title_sidebar": "Contents",
   "toc_cell": false,
   "toc_position": {},
   "toc_section_display": true,
   "toc_window_display": false
  }
 },
 "nbformat": 4,
 "nbformat_minor": 5
}
