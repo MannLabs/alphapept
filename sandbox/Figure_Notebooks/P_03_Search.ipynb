{
 "cells": [
  {
   "cell_type": "markdown",
   "id": "4d1bcb4c",
   "metadata": {},
   "source": [
    "# Paper Figure 4: Search\n",
    "\n",
    "This notebook uses GPU, so please run in an environment with CUDA installed.\n"
   ]
  },
  {
   "cell_type": "code",
   "execution_count": 1,
   "id": "0517e216",
   "metadata": {},
   "outputs": [],
   "source": [
    "import os\n",
    "from test_files import get_files, prepare_test\n",
    "\n",
    "files = ['thermo_HeLa.raw', 'human.fasta']"
   ]
  },
  {
   "cell_type": "code",
   "execution_count": 2,
   "id": "bccea5d2",
   "metadata": {},
   "outputs": [
    {
     "name": "stdout",
     "output_type": "stream",
     "text": [
      "Wed Jul 19 16:50:01 2023       \n",
      "+---------------------------------------------------------------------------------------+\n",
      "| NVIDIA-SMI 536.25                 Driver Version: 536.25       CUDA Version: 12.2     |\n",
      "|-----------------------------------------+----------------------+----------------------+\n",
      "| GPU  Name                     TCC/WDDM  | Bus-Id        Disp.A | Volatile Uncorr. ECC |\n",
      "| Fan  Temp   Perf          Pwr:Usage/Cap |         Memory-Usage | GPU-Util  Compute M. |\n",
      "|                                         |                      |               MIG M. |\n",
      "|=========================================+======================+======================|\n",
      "|   0  NVIDIA GeForce RTX 2080 Ti   WDDM  | 00000000:65:00.0 Off |                  N/A |\n",
      "| 30%   32C    P8              24W / 250W |   3911MiB / 11264MiB |      1%      Default |\n",
      "|                                         |                      |                  N/A |\n",
      "+-----------------------------------------+----------------------+----------------------+\n",
      "                                                                                         \n",
      "+---------------------------------------------------------------------------------------+\n",
      "| Processes:                                                                            |\n",
      "|  GPU   GI   CI        PID   Type   Process name                            GPU Memory |\n",
      "|        ID   ID                                                             Usage      |\n",
      "|=======================================================================================|\n",
      "|    0   N/A  N/A      1668    C+G   ...cal\\Microsoft\\OneDrive\\OneDrive.exe    N/A      |\n",
      "|    0   N/A  N/A      4420    C+G   ...03.0_x64__8wekyb3d8bbwe\\Cortana.exe    N/A      |\n",
      "|    0   N/A  N/A      7264    C+G   ..._8wekyb3d8bbwe\\Microsoft.Photos.exe    N/A      |\n",
      "|    0   N/A  N/A      7436      C   ...iniconda3\\envs\\alphapept\\python.exe    N/A      |\n",
      "|    0   N/A  N/A      8040    C+G   ...ekyb3d8bbwe\\PhoneExperienceHost.exe    N/A      |\n",
      "|    0   N/A  N/A      8308    C+G   ....Search_cw5n1h2txyewy\\SearchApp.exe    N/A      |\n",
      "|    0   N/A  N/A      8732    C+G   C:\\Windows\\explorer.exe                   N/A      |\n",
      "|    0   N/A  N/A      9264    C+G   ...2txyewy\\StartMenuExperienceHost.exe    N/A      |\n",
      "|    0   N/A  N/A      9644    C+G   ....Search_cw5n1h2txyewy\\SearchApp.exe    N/A      |\n",
      "|    0   N/A  N/A     10320    C+G   ...1.0_x64__8wekyb3d8bbwe\\Video.UI.exe    N/A      |\n",
      "|    0   N/A  N/A     10512    C+G   ...5n1h2txyewy\\ShellExperienceHost.exe    N/A      |\n",
      "|    0   N/A  N/A     10640    C+G   ...CBS_cw5n1h2txyewy\\TextInputHost.exe    N/A      |\n",
      "|    0   N/A  N/A     11428    C+G   ...m Files\\Mozilla Firefox\\firefox.exe    N/A      |\n",
      "|    0   N/A  N/A     13188    C+G   ...m Files\\Mozilla Firefox\\firefox.exe    N/A      |\n",
      "+---------------------------------------------------------------------------------------+\n"
     ]
    }
   ],
   "source": [
    "!nvidia-smi"
   ]
  },
  {
   "cell_type": "code",
   "execution_count": 3,
   "id": "58a4e68f",
   "metadata": {},
   "outputs": [
    {
     "name": "stdout",
     "output_type": "stream",
     "text": [
      "8.3.0\n"
     ]
    }
   ],
   "source": [
    "import cupy\n",
    "print(cupy.__version__)"
   ]
  },
  {
   "cell_type": "code",
   "execution_count": 4,
   "id": "aac19294",
   "metadata": {},
   "outputs": [],
   "source": [
    "tmp_folder = 'F:/projects/alphapept/sandbox/temp'\n",
    "test_folder = 'fig3'"
   ]
  },
  {
   "cell_type": "code",
   "execution_count": 5,
   "id": "4797996f",
   "metadata": {},
   "outputs": [
    {
     "name": "stdout",
     "output_type": "stream",
     "text": [
      "Creating dir F:/projects/alphapept/sandbox/temp\\fig4.\n"
     ]
    }
   ],
   "source": [
    "get_files(tmp_folder, files)\n",
    "prepare_test(files, tmp_folder, test_folder)"
   ]
  },
  {
   "cell_type": "markdown",
   "id": "1e1c65bb",
   "metadata": {},
   "source": [
    "## Convert raw and find features"
   ]
  },
  {
   "cell_type": "code",
   "execution_count": 6,
   "id": "f344b5ae",
   "metadata": {},
   "outputs": [
    {
     "name": "stdout",
     "output_type": "stream",
     "text": [
      "2023-07-19 16:50:11> Logging to C:\\Users\\admin\\alphapept\\logs\\log_20230719165011.txt.\n",
      "2023-07-19 16:50:11> Code location f:\\projects\\alphapept\\alphapept\n",
      "2023-07-19 16:50:11> Python location C:\\ProgramData\\Miniconda3\\envs\\alphapept\\python.exe\n",
      "2023-07-19 16:50:11> Platform information:\n",
      "2023-07-19 16:50:11> system     - Windows\n",
      "2023-07-19 16:50:11> release    - 10\n",
      "2023-07-19 16:50:11> version    - 10.0.19044\n",
      "2023-07-19 16:50:11> machine    - AMD64\n",
      "2023-07-19 16:50:11> processor  - Intel64 Family 6 Model 85 Stepping 4, GenuineIntel\n",
      "2023-07-19 16:50:11> cpu count  - 24\n",
      "2023-07-19 16:50:11> ram memory - 115.9/127.7 Gb (available/total)\n",
      "2023-07-19 16:50:11> processor  - Intel64 Family 6 Model 85 Stepping 4, GenuineIntel\n",
      "2023-07-19 16:50:11> Python information:\n",
      "2023-07-19 16:50:11> SQLAlchemy                    - 1.4.39\n",
      "2023-07-19 16:50:11> alphapept                     - 0.5.0\n",
      "2023-07-19 16:50:11> alpharaw                      - 0.1.0\n",
      "2023-07-19 16:50:11> alphatims                     - 1.0.7\n",
      "2023-07-19 16:50:11> biopython                     - 1.79\n",
      "2023-07-19 16:50:11> bumpversion                   - 0.6.0\n",
      "2023-07-19 16:50:11> bumpversion>                  - \n",
      "2023-07-19 16:50:11> click                         - 8.1.3\n",
      "2023-07-19 16:50:11> click>                        - \n",
      "2023-07-19 16:50:11> fastcore                      - 1.5.29\n",
      "2023-07-19 16:50:11> h5py                          - 3.7.0\n",
      "2023-07-19 16:50:11> jupyter                       - 1.0.0\n",
      "2023-07-19 16:50:11> jupyter>                      - \n",
      "2023-07-19 16:50:11> jupyter_contrib_nbextensions  - \n",
      "2023-07-19 16:50:11> jupyter_contrib_nbextensions> - \n",
      "2023-07-19 16:50:11> matplotlib                    - 3.7.1\n",
      "2023-07-19 16:50:11> nbdev                         - 2.3.12\n",
      "2023-07-19 16:50:11> nbdev>                        - \n",
      "2023-07-19 16:50:11> networkx                      - 2.8.6\n",
      "2023-07-19 16:50:11> numba                         - 0.55.2\n",
      "2023-07-19 16:50:11> numpy                         - 1.20.3\n",
      "2023-07-19 16:50:11> pandas                        - 1.4.3\n",
      "2023-07-19 16:50:11> plotly_express                - 0.4.1\n",
      "2023-07-19 16:50:11> psutil                        - 5.9.0\n",
      "2023-07-19 16:50:11> pyinstaller                   - \n",
      "2023-07-19 16:50:11> pyteomics                     - 4.5.5\n",
      "2023-07-19 16:50:11> python                        - 3.8.16\n",
      "2023-07-19 16:50:11> pythonnet>                    - \n",
      "2023-07-19 16:50:11> pywin32>                      - \n",
      "2023-07-19 16:50:11> pyyaml                        - 6.0\n",
      "2023-07-19 16:50:11> scikit-learn                  - 1.1.2\n",
      "2023-07-19 16:50:11> scipy                         - 1.8.1\n",
      "2023-07-19 16:50:11> streamlit                     - 1.20.0\n",
      "2023-07-19 16:50:11> streamlit>                    - \n",
      "2023-07-19 16:50:11> tables                        - 3.6.1\n",
      "2023-07-19 16:50:11> tqdm                          - 4.64.0\n",
      "2023-07-19 16:50:11> twine                         - \n",
      "2023-07-19 16:50:11> twine>                        - \n",
      "2023-07-19 16:50:11> watchdog                      - 2.3.0\n",
      "2023-07-19 16:50:11> wget                          - 3.2\n",
      "2023-07-19 16:50:11> \n",
      "2023-07-19 16:50:11> Check for settings not completely implemented yet.\n",
      "2023-07-19 16:50:11> Size check:\n",
      "2023-07-19 16:50:11> Size of job (raw files) 3.05 Gb\n",
      "2023-07-19 16:50:11> Required disk space for F: - 3.05 Gb, Available 394.09 Gb OK.\n",
      "2023-07-19 16:50:11> \n",
      "2023-07-19 16:50:11> Workflow Settings:\n",
      "2023-07-19 16:50:11> align              - False\n",
      "2023-07-19 16:50:11> continue_runs      - False\n",
      "2023-07-19 16:50:11> create_database    - True\n",
      "2023-07-19 16:50:11> find_features      - True\n",
      "2023-07-19 16:50:11> import_raw_data    - True\n",
      "2023-07-19 16:50:11> lfq_quantification - True\n",
      "2023-07-19 16:50:11> match              - False\n",
      "2023-07-19 16:50:11> recalibrate_data   - True\n",
      "2023-07-19 16:50:11> search_data        - True\n",
      "2023-07-19 16:50:11> \n",
      "2023-07-19 16:50:11> Checking if files exist.\n",
      "2023-07-19 16:50:11> FASTA Files have a total size of 12.971 Mb\n",
      "2023-07-19 16:50:11> Results path was not set. Setting to F:\\projects\\alphapept\\sandbox\\temp\\fig4\\results.hdf\n",
      "2023-07-19 16:50:11> Shortnames not set. Setting to filename.\n",
      "2023-07-19 16:50:11> Sample group not set. Setting to shortname.\n",
      "2023-07-19 16:50:11> Fraction not set. Setting to 1.\n",
      "2023-07-19 16:50:11> Database path F:/projects/alphapept/sandbox/temp\\fig4\\database.hdf is not a file.\n",
      "2023-07-19 16:50:11> Found FASTA file F:/projects/alphapept/sandbox/temp\\fig4\\human.fasta with size 12.97 Mb.\n",
      "2023-07-19 16:50:11> Creating a new database from FASTA.\n"
     ]
    },
    {
     "name": "stderr",
     "output_type": "stream",
     "text": [
      "\r",
      "  0%|                                                                                            | 0/1 [00:00<?, ?it/s]"
     ]
    },
    {
     "name": "stdout",
     "output_type": "stream",
     "text": [
      "2023-07-19 16:50:12> FASTA contains 20,365 entries.\n"
     ]
    },
    {
     "name": "stderr",
     "output_type": "stream",
     "text": [
      "100%|██████████████████████████████████████████████████████████████████████████████████| 1.0/1 [01:48<00:00, 23.38s/it]"
     ]
    },
    {
     "name": "stdout",
     "output_type": "stream",
     "text": [
      "2023-07-19 16:52:11> Digested 20,365 proteins and generated 5,107,804 spectra\n",
      "2023-07-19 16:52:57> Database saved to F:/projects/alphapept/sandbox/temp\\fig4\\database.hdf. Filesize of database is 1.96 GB\n"
     ]
    },
    {
     "name": "stderr",
     "output_type": "stream",
     "text": [
      "100%|█████████████████████████████████████████████████████████████████████████████████| 1.0/1 [02:46<00:00, 166.15s/it]\n"
     ]
    },
    {
     "name": "stdout",
     "output_type": "stream",
     "text": [
      "2023-07-19 16:53:05> Logging to C:\\Users\\admin\\alphapept\\logs\\log_20230719165305.txt.\n",
      "2023-07-19 16:53:05> Code location f:\\projects\\alphapept\\alphapept\n",
      "2023-07-19 16:53:05> Python location C:\\ProgramData\\Miniconda3\\envs\\alphapept\\python.exe\n",
      "2023-07-19 16:53:05> Platform information:\n",
      "2023-07-19 16:53:05> system     - Windows\n",
      "2023-07-19 16:53:05> release    - 10\n",
      "2023-07-19 16:53:05> version    - 10.0.19044\n",
      "2023-07-19 16:53:05> machine    - AMD64\n",
      "2023-07-19 16:53:05> processor  - Intel64 Family 6 Model 85 Stepping 4, GenuineIntel\n",
      "2023-07-19 16:53:05> cpu count  - 24\n",
      "2023-07-19 16:53:05> ram memory - 116.4/127.7 Gb (available/total)\n",
      "2023-07-19 16:53:05> processor  - Intel64 Family 6 Model 85 Stepping 4, GenuineIntel\n",
      "2023-07-19 16:53:05> Python information:\n",
      "2023-07-19 16:53:05> SQLAlchemy                    - 1.4.39\n",
      "2023-07-19 16:53:05> alphapept                     - 0.5.0\n",
      "2023-07-19 16:53:05> alpharaw                      - 0.1.0\n",
      "2023-07-19 16:53:05> alphatims                     - 1.0.7\n",
      "2023-07-19 16:53:05> biopython                     - 1.79\n",
      "2023-07-19 16:53:05> bumpversion                   - 0.6.0\n",
      "2023-07-19 16:53:05> bumpversion>                  - \n",
      "2023-07-19 16:53:05> click                         - 8.1.3\n",
      "2023-07-19 16:53:05> click>                        - \n",
      "2023-07-19 16:53:05> fastcore                      - 1.5.29\n",
      "2023-07-19 16:53:05> h5py                          - 3.7.0\n",
      "2023-07-19 16:53:05> jupyter                       - 1.0.0\n",
      "2023-07-19 16:53:05> jupyter>                      - \n",
      "2023-07-19 16:53:05> jupyter_contrib_nbextensions  - \n",
      "2023-07-19 16:53:05> jupyter_contrib_nbextensions> - \n",
      "2023-07-19 16:53:05> matplotlib                    - 3.7.1\n",
      "2023-07-19 16:53:05> nbdev                         - 2.3.12\n",
      "2023-07-19 16:53:05> nbdev>                        - \n",
      "2023-07-19 16:53:05> networkx                      - 2.8.6\n",
      "2023-07-19 16:53:05> numba                         - 0.55.2\n",
      "2023-07-19 16:53:05> numpy                         - 1.20.3\n",
      "2023-07-19 16:53:05> pandas                        - 1.4.3\n",
      "2023-07-19 16:53:05> plotly_express                - 0.4.1\n",
      "2023-07-19 16:53:05> psutil                        - 5.9.0\n",
      "2023-07-19 16:53:05> pyinstaller                   - \n",
      "2023-07-19 16:53:05> pyteomics                     - 4.5.5\n",
      "2023-07-19 16:53:05> python                        - 3.8.16\n",
      "2023-07-19 16:53:05> pythonnet>                    - \n",
      "2023-07-19 16:53:05> pywin32>                      - \n",
      "2023-07-19 16:53:05> pyyaml                        - 6.0\n",
      "2023-07-19 16:53:05> scikit-learn                  - 1.1.2\n",
      "2023-07-19 16:53:05> scipy                         - 1.8.1\n",
      "2023-07-19 16:53:05> streamlit                     - 1.20.0\n",
      "2023-07-19 16:53:05> streamlit>                    - \n",
      "2023-07-19 16:53:05> tables                        - 3.6.1\n",
      "2023-07-19 16:53:05> tqdm                          - 4.64.0\n",
      "2023-07-19 16:53:05> twine                         - \n",
      "2023-07-19 16:53:05> twine>                        - \n",
      "2023-07-19 16:53:05> watchdog                      - 2.3.0\n",
      "2023-07-19 16:53:05> wget                          - 3.2\n",
      "2023-07-19 16:53:05> \n",
      "2023-07-19 16:53:05> Check for settings not completely implemented yet.\n",
      "2023-07-19 16:53:05> Size check:\n",
      "2023-07-19 16:53:05> Size of job (raw files) 3.05 Gb\n",
      "2023-07-19 16:53:05> Required disk space for F: - 3.05 Gb, Available 392.13 Gb OK.\n",
      "2023-07-19 16:53:05> \n",
      "2023-07-19 16:53:05> Workflow Settings:\n",
      "2023-07-19 16:53:05> align              - False\n",
      "2023-07-19 16:53:05> continue_runs      - False\n",
      "2023-07-19 16:53:05> create_database    - True\n",
      "2023-07-19 16:53:05> find_features      - True\n",
      "2023-07-19 16:53:05> import_raw_data    - True\n",
      "2023-07-19 16:53:05> lfq_quantification - True\n",
      "2023-07-19 16:53:05> match              - False\n",
      "2023-07-19 16:53:05> recalibrate_data   - True\n",
      "2023-07-19 16:53:05> search_data        - True\n",
      "2023-07-19 16:53:05> \n",
      "2023-07-19 16:53:05> Checking if files exist.\n",
      "2023-07-19 16:53:05> FASTA Files have a total size of 12.971 Mb\n"
     ]
    },
    {
     "name": "stderr",
     "output_type": "stream",
     "text": [
      "\r",
      "  0%|                                                                                            | 0/1 [00:00<?, ?it/s]"
     ]
    },
    {
     "name": "stdout",
     "output_type": "stream",
     "text": [
      "2023-07-19 16:53:05> Processing 1 files for step raw_conversion\n",
      "2023-07-19 16:53:05> File F:/projects/alphapept/sandbox/temp\\fig4\\thermo_HeLa has extension .raw - converting from Thermo.\n",
      "2023-07-19 16:55:08> File conversion complete. Extracted 120,226 precursors.\n",
      "2023-07-19 16:55:09> File conversion of file F:/projects/alphapept/sandbox/temp\\fig4\\thermo_HeLa.raw complete.\n"
     ]
    },
    {
     "name": "stderr",
     "output_type": "stream",
     "text": [
      "\r",
      "  0%|                                                                                            | 0/1 [02:03<?, ?it/s]"
     ]
    },
    {
     "name": "stdout",
     "output_type": "stream",
     "text": [
      "2023-07-19 16:55:09> Logging to C:\\Users\\admin\\alphapept\\logs\\log_20230719165509.txt.\n",
      "2023-07-19 16:55:09> Code location f:\\projects\\alphapept\\alphapept\n",
      "2023-07-19 16:55:09> Python location C:\\ProgramData\\Miniconda3\\envs\\alphapept\\python.exe\n",
      "2023-07-19 16:55:09> Platform information:\n",
      "2023-07-19 16:55:09> system     - Windows\n",
      "2023-07-19 16:55:09> release    - 10\n",
      "2023-07-19 16:55:09> version    - 10.0.19044\n",
      "2023-07-19 16:55:09> machine    - AMD64\n",
      "2023-07-19 16:55:09> processor  - Intel64 Family 6 Model 85 Stepping 4, GenuineIntel\n",
      "2023-07-19 16:55:09> cpu count  - 24\n",
      "2023-07-19 16:55:09> ram memory - 115.0/127.7 Gb (available/total)\n",
      "2023-07-19 16:55:09> processor  - Intel64 Family 6 Model 85 Stepping 4, GenuineIntel\n"
     ]
    },
    {
     "name": "stderr",
     "output_type": "stream",
     "text": [
      "\n"
     ]
    },
    {
     "name": "stdout",
     "output_type": "stream",
     "text": [
      "2023-07-19 16:55:10> Python information:\n",
      "2023-07-19 16:55:10> SQLAlchemy                    - 1.4.39\n",
      "2023-07-19 16:55:10> alphapept                     - 0.5.0\n",
      "2023-07-19 16:55:10> alpharaw                      - 0.1.0\n",
      "2023-07-19 16:55:10> alphatims                     - 1.0.7\n",
      "2023-07-19 16:55:10> biopython                     - 1.79\n",
      "2023-07-19 16:55:10> bumpversion                   - 0.6.0\n",
      "2023-07-19 16:55:10> bumpversion>                  - \n",
      "2023-07-19 16:55:10> click                         - 8.1.3\n",
      "2023-07-19 16:55:10> click>                        - \n",
      "2023-07-19 16:55:10> fastcore                      - 1.5.29\n",
      "2023-07-19 16:55:10> h5py                          - 3.7.0\n",
      "2023-07-19 16:55:10> jupyter                       - 1.0.0\n",
      "2023-07-19 16:55:10> jupyter>                      - \n",
      "2023-07-19 16:55:10> jupyter_contrib_nbextensions  - \n",
      "2023-07-19 16:55:10> jupyter_contrib_nbextensions> - \n",
      "2023-07-19 16:55:10> matplotlib                    - 3.7.1\n",
      "2023-07-19 16:55:10> nbdev                         - 2.3.12\n",
      "2023-07-19 16:55:10> nbdev>                        - \n",
      "2023-07-19 16:55:10> networkx                      - 2.8.6\n",
      "2023-07-19 16:55:10> numba                         - 0.55.2\n",
      "2023-07-19 16:55:10> numpy                         - 1.20.3\n",
      "2023-07-19 16:55:10> pandas                        - 1.4.3\n",
      "2023-07-19 16:55:10> plotly_express                - 0.4.1\n",
      "2023-07-19 16:55:10> psutil                        - 5.9.0\n",
      "2023-07-19 16:55:10> pyinstaller                   - \n",
      "2023-07-19 16:55:10> pyteomics                     - 4.5.5\n",
      "2023-07-19 16:55:10> python                        - 3.8.16\n",
      "2023-07-19 16:55:10> pythonnet>                    - \n",
      "2023-07-19 16:55:10> pywin32>                      - \n",
      "2023-07-19 16:55:10> pyyaml                        - 6.0\n",
      "2023-07-19 16:55:10> scikit-learn                  - 1.1.2\n",
      "2023-07-19 16:55:10> scipy                         - 1.8.1\n",
      "2023-07-19 16:55:10> streamlit                     - 1.20.0\n",
      "2023-07-19 16:55:10> streamlit>                    - \n",
      "2023-07-19 16:55:10> tables                        - 3.6.1\n",
      "2023-07-19 16:55:10> tqdm                          - 4.64.0\n",
      "2023-07-19 16:55:10> twine                         - \n",
      "2023-07-19 16:55:10> twine>                        - \n",
      "2023-07-19 16:55:10> watchdog                      - 2.3.0\n",
      "2023-07-19 16:55:10> wget                          - 3.2\n",
      "2023-07-19 16:55:10> \n",
      "2023-07-19 16:55:10> Check for settings not completely implemented yet.\n",
      "2023-07-19 16:55:10> Size check:\n",
      "2023-07-19 16:55:10> Size of job (raw files) 3.05 Gb\n",
      "2023-07-19 16:55:10> Required disk space for F: - 3.05 Gb, Available 391.37 Gb OK.\n",
      "2023-07-19 16:55:10> \n",
      "2023-07-19 16:55:10> Workflow Settings:\n",
      "2023-07-19 16:55:10> align              - False\n",
      "2023-07-19 16:55:10> continue_runs      - False\n",
      "2023-07-19 16:55:10> create_database    - True\n",
      "2023-07-19 16:55:10> find_features      - True\n",
      "2023-07-19 16:55:10> import_raw_data    - True\n",
      "2023-07-19 16:55:10> lfq_quantification - True\n",
      "2023-07-19 16:55:10> match              - False\n",
      "2023-07-19 16:55:10> recalibrate_data   - True\n",
      "2023-07-19 16:55:10> search_data        - True\n",
      "2023-07-19 16:55:10> \n",
      "2023-07-19 16:55:10> Checking if files exist.\n",
      "2023-07-19 16:55:10> FASTA Files have a total size of 12.971 Mb\n"
     ]
    },
    {
     "name": "stderr",
     "output_type": "stream",
     "text": [
      "\r",
      "  0%|                                                                                            | 0/1 [00:00<?, ?it/s]"
     ]
    },
    {
     "name": "stdout",
     "output_type": "stream",
     "text": [
      "2023-07-19 16:55:12> Processing 1 files for step find_features\n",
      "2023-07-19 16:55:12> No *.hdf file with features found for F:/projects/alphapept/sandbox/temp\\fig4\\thermo_HeLa.ms_data.hdf. Adding to feature finding list.\n",
      "2023-07-19 16:55:12> Feature finding on F:/projects/alphapept/sandbox/temp\\fig4\\thermo_HeLa.raw\n",
      "2023-07-19 16:55:12> Hill extraction with centroid_tol 8 and max_gap 2\n",
      "2023-07-19 16:55:16> Number of hills 1,105,353, len = 17.35\n",
      "2023-07-19 16:55:16> Repeating hill extraction with centroid_tol 5.87\n",
      "2023-07-19 16:55:18> Number of hills 1,227,331, len = 19.44\n",
      "2023-07-19 16:55:21> After duplicate removal of hills 1,025,845\n",
      "2023-07-19 16:55:35> After split hill_ptrs 1,207,373\n",
      "2023-07-19 16:55:37> After filter hill_ptrs 1,188,406\n",
      "2023-07-19 16:57:32> Extracting hill stats complete\n",
      "2023-07-19 16:57:45> Found 184,383 pre isotope patterns.\n",
      "2023-07-19 16:58:41> Extracted 198,500 isotope patterns.\n",
      "2023-07-19 16:58:53> Report complete.\n",
      "2023-07-19 16:58:53> Matching features to query data.\n",
      "2023-07-19 16:58:55> Saving feature table.\n",
      "2023-07-19 16:58:55> Feature table saved to F:/projects/alphapept/sandbox/temp\\fig4\\thermo_HeLa.ms_data.hdf\n",
      "2023-07-19 16:58:55> Saving features.\n",
      "2023-07-19 16:58:55> Feature finding of file F:/projects/alphapept/sandbox/temp\\fig4\\thermo_HeLa.raw complete.\n"
     ]
    },
    {
     "name": "stderr",
     "output_type": "stream",
     "text": [
      "  0%|                                                                                            | 0/1 [03:42<?, ?it/s]\n"
     ]
    }
   ],
   "source": [
    "import alphapept.settings\n",
    "import alphapept.paths\n",
    "import alphapept.interface\n",
    "import alphapept.fasta\n",
    "\n",
    "test_folder = os.path.join(tmp_folder, test_folder)\n",
    "\n",
    "file_name = os.path.join(test_folder, files[0])\n",
    "settings = alphapept.settings.load_settings(alphapept.paths.DEFAULT_SETTINGS_PATH)\n",
    "settings['experiment']['file_paths'] = [file_name]\n",
    "settings['experiment']['fasta_paths'] = [os.path.join(test_folder, files[1])]\n",
    "settings['experiment']['database_path'] = os.path.join(test_folder, 'database.hdf')\n",
    "\n",
    "settings_ = alphapept.interface.create_database(settings)\n",
    "settings_ = alphapept.interface.import_raw_data(settings)\n",
    "settings_ = alphapept.interface.feature_finding(settings)\n",
    "base, ext = os.path.splitext(file_name)"
   ]
  },
  {
   "cell_type": "code",
   "execution_count": 7,
   "id": "f20fabcf",
   "metadata": {},
   "outputs": [
    {
     "name": "stdout",
     "output_type": "stream",
     "text": [
      "2023-07-19 16:58:55> Calibrating fragments\n"
     ]
    },
    {
     "name": "stderr",
     "output_type": "stream",
     "text": [
      "C:\\ProgramData\\Miniconda3\\envs\\alphapept\\lib\\site-packages\\numpy\\core\\fromnumeric.py:3474: RuntimeWarning: Mean of empty slice.\n",
      "  return _methods._mean(a, axis=axis, dtype=dtype,\n",
      "C:\\ProgramData\\Miniconda3\\envs\\alphapept\\lib\\site-packages\\numpy\\core\\_methods.py:189: RuntimeWarning: invalid value encountered in double_scalars\n",
      "  ret = ret.dtype.type(ret / rcount)\n"
     ]
    }
   ],
   "source": [
    "ms_file_ = alphapept.io.MS_Data_File(f\"{base}.ms_data.hdf\", is_read_only=True)\n",
    "query_data = ms_file_.read_DDA_query_data()\n",
    "\n",
    "query_data = ms_file_.read_DDA_query_data(\n",
    "    calibrated_fragments=True,\n",
    "    database_file_name=settings['experiment']['database_path']\n",
    ")\n",
    "\n",
    "db_data = alphapept.fasta.read_database(settings['experiment']['database_path'])\n",
    "features = ms_file_.read(dataset_name=\"features\")"
   ]
  },
  {
   "cell_type": "code",
   "execution_count": 8,
   "id": "625376ff",
   "metadata": {
    "scrolled": false
   },
   "outputs": [
    {
     "name": "stdout",
     "output_type": "stream",
     "text": [
      "2023-07-19 16:59:22> Performing search on 246,847 query and 5,107,804 db entries with frag_tol = 50.00 and prec_tol = 20.00.\n",
      "2023-07-19 17:00:37> Found 1,209,083 psms.\n",
      "Time elapsed 77.43661856651306, found 1,209,083\n",
      "2023-07-19 17:00:38> Performing search on 246,847 query and 5,107,804 db entries with frag_tol = 50.00 and prec_tol = 20.00.\n",
      "2023-07-19 17:00:47> Found 1,209,083 psms.\n",
      "Time elapsed 9.291632652282715, found 1,209,083\n",
      "2023-07-19 17:00:47> Performing search on 246,847 query and 5,107,804 db entries with frag_tol = 50.00 and prec_tol = 20.00.\n",
      "2023-07-19 17:02:06> Found 1,209,083 psms.\n",
      "Time elapsed 79.70707726478577, found 1,209,083\n",
      "2023-07-19 17:02:07> Performing search on 246,847 query and 5,107,804 db entries with frag_tol = 50.00 and prec_tol = 20.00.\n",
      "2023-07-20 03:24:58> Found 1,209,083 psms.\n",
      "Time elapsed 37371.274493932724, found 1,209,083\n"
     ]
    }
   ],
   "source": [
    "import alphapept.search\n",
    "from time import time\n",
    "import importlib\n",
    "\n",
    "timing_dict = {}\n",
    "for mode in ['cuda','numba-multithread','numba','python']:\n",
    "\n",
    "    alphapept.performance.set_compilation_mode(mode)\n",
    "\n",
    "    importlib.reload(alphapept.search)\n",
    "    start = time()\n",
    "    psms, num_specs_compared = alphapept.search.get_psms(query_data, db_data, features, **settings[\"search\"])\n",
    "    end = time()\n",
    "\n",
    "    print(f\"Time elapsed {end-start}, found {len(psms):,}\")\n",
    "    \n",
    "    \n",
    "    timing_dict[mode] = end-start"
   ]
  },
  {
   "cell_type": "code",
   "execution_count": 1,
   "id": "9985dee1",
   "metadata": {},
   "outputs": [],
   "source": [
    "timing_dict = {'cuda':77.43661856651306,\n",
    " 'numba-multithread':  9.291632652282715,\n",
    " 'numba': 79.70707726478577,\n",
    " 'python': 37371.274493932724}"
   ]
  },
  {
   "cell_type": "code",
   "execution_count": 2,
   "id": "776bb44b",
   "metadata": {},
   "outputs": [
    {
     "name": "stderr",
     "output_type": "stream",
     "text": [
      "C:\\Users\\admin\\AppData\\Local\\Temp\\ipykernel_704\\645782630.py:38: UserWarning: Attempt to set non-positive xlim on a log-scaled axis will be ignored.\n",
      "  plt.xlim([0, 100000])\n"
     ]
    },
    {
     "data": {
      "image/png": "[encoded data removed]",
      "text/plain": [
       "<Figure size 236.3x236.3 with 1 Axes>"
      ]
     },
     "metadata": {},
     "output_type": "display_data"
    }
   ],
   "source": [
    "import matplotlib.pyplot as plt\n",
    "import numpy as np\n",
    "import pandas as pd\n",
    "import matplotlib\n",
    "\n",
    "dark_blue = '#17212b'\n",
    "light_blue = '#3dc5ef'\n",
    "teal= '#42dee1'\n",
    "green = '#6eecb9'\n",
    "yellow = '#eef5b3'\n",
    "\n",
    "colors = [light_blue, teal, green, yellow]\n",
    "data = pd.DataFrame(timing_dict.values(), index = timing_dict.keys())\n",
    "data = data.sort_values(0)\n",
    "\n",
    "hfont = {'fontname':'Arial', 'size':10}\n",
    "plt.figure(figsize=(2.363,2.363)) #60x60\n",
    "\n",
    "\n",
    "python_time = timing_dict['python']/60/60\n",
    "text = [f'Python ({python_time:.1f} h)', f\"Numba ({timing_dict['numba']:.1f} s)\", f\"CuPy ({timing_dict['cuda']:.1f} s)\", f\"Numba, threaded ({timing_dict['numba-multithread']:.1f} s)\"]\n",
    "\n",
    "height=0.5\n",
    "\n",
    "for i in range(len(data)): \n",
    "    t = data.iloc[i][0]\n",
    "    plt.barh(i, t, height, color = colors[i], linewidth=1, edgecolor='black')\n",
    "    \n",
    "    if i == 3:\n",
    "        plt.text(t/1000, i, text[::-1][i], **hfont, va='center')\n",
    "    else:\n",
    "        plt.text(t*1.2, i, text[::-1][i], **hfont, va='center')\n",
    "\n",
    "plt.yticks(range(len(data)), data.index, **hfont)\n",
    "plt.xticks(**hfont)\n",
    "\n",
    "plt.xscale('log')\n",
    "plt.xlim([0, 100000])\n",
    "plt.xlabel('Time (seconds)', **hfont)\n",
    "\n",
    "ax = plt.gca()\n",
    "ax.set_yticklabels([])\n",
    "plt.xticks([1e1, 1e2 , 1e3, 1e4, 1e5])\n",
    "\n",
    "plt.tight_layout()\n",
    "plt.savefig('./figures/03_search.pdf')  \n",
    "plt.show()"
   ]
  }
 ],
 "metadata": {
  "kernelspec": {
   "display_name": "Python 3 (ipykernel)",
   "language": "python",
   "name": "python3"
  },
  "language_info": {
   "codemirror_mode": {
    "name": "ipython",
    "version": 3
   },
   "file_extension": ".py",
   "mimetype": "text/x-python",
   "name": "python",
   "nbconvert_exporter": "python",
   "pygments_lexer": "ipython3",
   "version": "3.8.16"
  },
  "toc": {
   "base_numbering": 1,
   "nav_menu": {},
   "number_sections": true,
   "sideBar": true,
   "skip_h1_title": false,
   "title_cell": "Table of Contents",
   "title_sidebar": "Contents",
   "toc_cell": false,
   "toc_position": {},
   "toc_section_display": true,
   "toc_window_display": false
  }
 },
 "nbformat": 4,
 "nbformat_minor": 5
}
