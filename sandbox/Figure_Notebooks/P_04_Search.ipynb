{
 "cells": [
  {
   "cell_type": "markdown",
   "id": "4d1bcb4c",
   "metadata": {},
   "source": [
    "# Paper Figure 4: Search\n",
    "\n",
    "This notebook uses GPU, so please run in an environment with CUDA installed.\n"
   ]
  },
  {
   "cell_type": "code",
   "execution_count": 1,
   "id": "0517e216",
   "metadata": {},
   "outputs": [],
   "source": [
    "import os\n",
    "from test_files import get_files, prepare_test\n",
    "\n",
    "files = ['thermo_HeLa.raw', 'human.fasta']"
   ]
  },
  {
   "cell_type": "code",
   "execution_count": 2,
   "id": "bccea5d2",
   "metadata": {},
   "outputs": [
    {
     "name": "stdout",
     "output_type": "stream",
     "text": [
      "Fri Dec  2 17:41:56 2022       \n",
      "+-----------------------------------------------------------------------------+\n",
      "| NVIDIA-SMI 516.94       Driver Version: 516.94       CUDA Version: 11.7     |\n",
      "|-------------------------------+----------------------+----------------------+\n",
      "| GPU  Name            TCC/WDDM | Bus-Id        Disp.A | Volatile Uncorr. ECC |\n",
      "| Fan  Temp  Perf  Pwr:Usage/Cap|         Memory-Usage | GPU-Util  Compute M. |\n",
      "|                               |                      |               MIG M. |\n",
      "|===============================+======================+======================|\n",
      "|   0  NVIDIA GeForce ... WDDM  | 00000000:65:00.0 Off |                  N/A |\n",
      "| 30%   33C    P8    22W / 250W |    964MiB / 11264MiB |      4%      Default |\n",
      "|                               |                      |                  N/A |\n",
      "+-------------------------------+----------------------+----------------------+\n",
      "                                                                               \n",
      "+-----------------------------------------------------------------------------+\n",
      "| Processes:                                                                  |\n",
      "|  GPU   GI   CI        PID   Type   Process name                  GPU Memory |\n",
      "|        ID   ID                                                   Usage      |\n",
      "|=============================================================================|\n",
      "|    0   N/A  N/A      7044    C+G   ...e\\PhoneExperienceHost.exe    N/A      |\n",
      "|    0   N/A  N/A      7096    C+G   ...wekyb3d8bbwe\\Video.UI.exe    N/A      |\n",
      "|    0   N/A  N/A      8912    C+G   C:\\Windows\\explorer.exe         N/A      |\n",
      "|    0   N/A  N/A      9344    C+G   ...artMenuExperienceHost.exe    N/A      |\n",
      "|    0   N/A  N/A      9880    C+G   ...8bbwe\\Microsoft.Notes.exe    N/A      |\n",
      "|    0   N/A  N/A     10652    C+G   ...5n1h2txyewy\\SearchApp.exe    N/A      |\n",
      "|    0   N/A  N/A     11396    C+G   ...8wekyb3d8bbwe\\Cortana.exe    N/A      |\n",
      "|    0   N/A  N/A     11608    C+G   ...y\\ShellExperienceHost.exe    N/A      |\n",
      "|    0   N/A  N/A     11936    C+G   ...zilla Firefox\\firefox.exe    N/A      |\n",
      "|    0   N/A  N/A     12404    C+G   ...2txyewy\\TextInputHost.exe    N/A      |\n",
      "|    0   N/A  N/A     13444    C+G   ...ge\\Application\\msedge.exe    N/A      |\n",
      "|    0   N/A  N/A     13632    C+G   ...bbwe\\Microsoft.Photos.exe    N/A      |\n",
      "|    0   N/A  N/A     14232    C+G   ...\\atom\\app-1.63.1\\atom.exe    N/A      |\n",
      "|    0   N/A  N/A     17464    C+G   ...icrosoft VS Code\\Code.exe    N/A      |\n",
      "|    0   N/A  N/A     18208    C+G   ...418.62\\msedgewebview2.exe    N/A      |\n",
      "|    0   N/A  N/A     19200    C+G   ...zilla Firefox\\firefox.exe    N/A      |\n",
      "+-----------------------------------------------------------------------------+\n"
     ]
    }
   ],
   "source": [
    "!nvidia-smi"
   ]
  },
  {
   "cell_type": "code",
   "execution_count": 3,
   "id": "aac19294",
   "metadata": {},
   "outputs": [],
   "source": [
    "tmp_folder = 'F:/projects/alphapept/sandbox/temp'\n",
    "test_folder = 'fig4'"
   ]
  },
  {
   "cell_type": "code",
   "execution_count": 4,
   "id": "4797996f",
   "metadata": {},
   "outputs": [
    {
     "name": "stdout",
     "output_type": "stream",
     "text": [
      "Creating dir F:/projects/alphapept/sandbox/temp\\fig4.\n"
     ]
    }
   ],
   "source": [
    "get_files(tmp_folder, files)\n",
    "prepare_test(files, tmp_folder, test_folder)"
   ]
  },
  {
   "cell_type": "markdown",
   "id": "1e1c65bb",
   "metadata": {},
   "source": [
    "## Convert raw and find features"
   ]
  },
  {
   "cell_type": "code",
   "execution_count": 5,
   "id": "f344b5ae",
   "metadata": {},
   "outputs": [
    {
     "name": "stderr",
     "output_type": "stream",
     "text": [
      "C:\\Users\\admin\\.conda\\envs\\alphapept-gpu\\lib\\site-packages\\cupy\\_environment.py:213: UserWarning: CUDA path could not be detected. Set CUDA_PATH environment variable if CuPy fails to load.\n",
      "  warnings.warn(\n"
     ]
    },
    {
     "name": "stdout",
     "output_type": "stream",
     "text": [
      "2022-12-02 17:42:08> Logging to C:\\Users\\admin\\alphapept\\logs\\log_20221202174208.txt.\n",
      "2022-12-02 17:42:08> Code location f:\\projects\\alphapept\\alphapept\n",
      "2022-12-02 17:42:08> Python location C:\\Users\\admin\\.conda\\envs\\alphapept-gpu\\python.exe\n",
      "2022-12-02 17:42:08> Platform information:\n",
      "2022-12-02 17:42:08> system     - Windows\n",
      "2022-12-02 17:42:08> release    - 10\n",
      "2022-12-02 17:42:08> version    - 10.0.19044\n",
      "2022-12-02 17:42:08> machine    - AMD64\n",
      "2022-12-02 17:42:08> processor  - Intel64 Family 6 Model 85 Stepping 4, GenuineIntel\n",
      "2022-12-02 17:42:08> cpu count  - 24\n",
      "2022-12-02 17:42:08> ram memory - 104.7/127.7 Gb (available/total)\n",
      "2022-12-02 17:42:08> processor  - Intel64 Family 6 Model 85 Stepping 4, GenuineIntel\n",
      "2022-12-02 17:42:08> Python information:\n",
      "2022-12-02 17:42:08> SQLAlchemy                    - 1.4.44\n",
      "2022-12-02 17:42:08> alphapept                     - 0.4.9\n",
      "2022-12-02 17:42:08> biopython                     - 1.80\n",
      "2022-12-02 17:42:08> bumpversion                   - \n",
      "2022-12-02 17:42:08> bumpversion>                  - \n",
      "2022-12-02 17:42:08> click                         - 8.1.3\n",
      "2022-12-02 17:42:08> click>                        - \n",
      "2022-12-02 17:42:08> fastcore                      - 1.5.27\n",
      "2022-12-02 17:42:08> h5py                          - 3.7.0\n",
      "2022-12-02 17:42:08> jupyter                       - 1.0.0\n",
      "2022-12-02 17:42:08> jupyter>                      - \n",
      "2022-12-02 17:42:08> jupyter_contrib_nbextensions  - \n",
      "2022-12-02 17:42:08> jupyter_contrib_nbextensions> - \n",
      "2022-12-02 17:42:08> matplotlib                    - 3.6.2\n",
      "2022-12-02 17:42:08> nbdev                         - \n",
      "2022-12-02 17:42:08> nbdev>                        - \n",
      "2022-12-02 17:42:08> networkx                      - 2.8.8\n",
      "2022-12-02 17:42:08> numba                         - 0.56.3\n",
      "2022-12-02 17:42:08> numpy                         - 1.21.5\n",
      "2022-12-02 17:42:08> pandas                        - 1.5.1\n",
      "2022-12-02 17:42:08> plotly_express                - \n",
      "2022-12-02 17:42:08> psutil                        - 5.9.0\n",
      "2022-12-02 17:42:08> pyinstaller                   - \n",
      "2022-12-02 17:42:08> pyteomics                     - 4.5.6\n",
      "2022-12-02 17:42:08> python                        - 3.8.15\n",
      "2022-12-02 17:42:08> pythonnet                     - 2.5.2\n",
      "2022-12-02 17:42:08> pywin32                       - 225\n",
      "2022-12-02 17:42:08> pyyaml                        - 6.0\n",
      "2022-12-02 17:42:08> scikit-learn                  - 1.1.3\n",
      "2022-12-02 17:42:08> scipy                         - 1.9.3\n",
      "2022-12-02 17:42:08> streamlit                     - \n",
      "2022-12-02 17:42:08> streamlit-aggrid              - \n",
      "2022-12-02 17:42:08> streamlit>                    - \n",
      "2022-12-02 17:42:08> tables                        - 3.6.1\n",
      "2022-12-02 17:42:08> tqdm                          - 4.64.1\n",
      "2022-12-02 17:42:08> twine                         - \n",
      "2022-12-02 17:42:08> twine>                        - \n",
      "2022-12-02 17:42:08> watchdog                      - \n",
      "2022-12-02 17:42:08> wget                          - 3.2\n",
      "2022-12-02 17:42:08> \n",
      "2022-12-02 17:42:08> Check for settings not completely implemented yet.\n",
      "2022-12-02 17:42:08> Size check:\n",
      "2022-12-02 17:42:08> Size of job (raw files) 3.05 Gb\n",
      "2022-12-02 17:42:08> Required disk space for F: - 3.05 Gb, Available 441.17 Gb OK.\n",
      "2022-12-02 17:42:08> \n",
      "2022-12-02 17:42:08> Workflow Settings:\n",
      "2022-12-02 17:42:08> align              - False\n",
      "2022-12-02 17:42:08> continue_runs      - False\n",
      "2022-12-02 17:42:08> create_database    - True\n",
      "2022-12-02 17:42:08> find_features      - True\n",
      "2022-12-02 17:42:08> import_raw_data    - True\n",
      "2022-12-02 17:42:08> lfq_quantification - True\n",
      "2022-12-02 17:42:08> match              - False\n",
      "2022-12-02 17:42:08> recalibrate_data   - True\n",
      "2022-12-02 17:42:08> search_data        - True\n",
      "2022-12-02 17:42:08> \n",
      "2022-12-02 17:42:08> Checking if files exist.\n",
      "2022-12-02 17:42:08> FASTA Files have a total size of 12.971 Mb\n",
      "2022-12-02 17:42:08> Results path was not set. Setting to F:\\projects\\alphapept\\sandbox\\temp\\fig4\\results.hdf\n",
      "2022-12-02 17:42:08> Shortnames not set. Setting to filename.\n",
      "2022-12-02 17:42:08> Sample group not set. Setting to shortname.\n",
      "2022-12-02 17:42:08> Fraction not set. Setting to 1.\n",
      "2022-12-02 17:42:08> Database path F:/projects/alphapept/sandbox/temp\\fig4\\database.hdf is not a file.\n",
      "2022-12-02 17:42:08> Found FASTA file F:/projects/alphapept/sandbox/temp\\fig4\\human.fasta with size 12.97 Mb.\n",
      "2022-12-02 17:42:08> Creating a new database from FASTA.\n"
     ]
    },
    {
     "name": "stderr",
     "output_type": "stream",
     "text": [
      "\r",
      "  0%|                                                                                            | 0/1 [00:00<?, ?it/s]"
     ]
    },
    {
     "name": "stdout",
     "output_type": "stream",
     "text": [
      "2022-12-02 17:42:09> FASTA contains 20,365 entries.\n"
     ]
    },
    {
     "name": "stderr",
     "output_type": "stream",
     "text": [
      "100%|██████████████████████████████████████████████████████████████████████████████████| 1.0/1 [01:44<00:00, 28.09s/it]"
     ]
    },
    {
     "name": "stdout",
     "output_type": "stream",
     "text": [
      "2022-12-02 17:44:03> Digested 20,365 proteins and generated 5,045,760 spectra\n",
      "2022-12-02 17:44:49> Database saved to F:/projects/alphapept/sandbox/temp\\fig4\\database.hdf. Filesize of database is 1.93 GB\n"
     ]
    },
    {
     "name": "stderr",
     "output_type": "stream",
     "text": [
      "100%|█████████████████████████████████████████████████████████████████████████████████| 1.0/1 [02:41<00:00, 161.11s/it]\n"
     ]
    },
    {
     "name": "stdout",
     "output_type": "stream",
     "text": [
      "2022-12-02 17:44:56> Logging to C:\\Users\\admin\\alphapept\\logs\\log_20221202174456.txt.\n",
      "2022-12-02 17:44:56> Code location f:\\projects\\alphapept\\alphapept\n",
      "2022-12-02 17:44:56> Python location C:\\Users\\admin\\.conda\\envs\\alphapept-gpu\\python.exe\n",
      "2022-12-02 17:44:56> Platform information:\n",
      "2022-12-02 17:44:56> system     - Windows\n",
      "2022-12-02 17:44:56> release    - 10\n",
      "2022-12-02 17:44:56> version    - 10.0.19044\n",
      "2022-12-02 17:44:56> machine    - AMD64\n",
      "2022-12-02 17:44:56> processor  - Intel64 Family 6 Model 85 Stepping 4, GenuineIntel\n",
      "2022-12-02 17:44:56> cpu count  - 24\n",
      "2022-12-02 17:44:56> ram memory - 105.3/127.7 Gb (available/total)\n",
      "2022-12-02 17:44:56> processor  - Intel64 Family 6 Model 85 Stepping 4, GenuineIntel\n",
      "2022-12-02 17:44:56> Python information:\n",
      "2022-12-02 17:44:56> SQLAlchemy                    - 1.4.44\n",
      "2022-12-02 17:44:56> alphapept                     - 0.4.9\n",
      "2022-12-02 17:44:56> biopython                     - 1.80\n",
      "2022-12-02 17:44:56> bumpversion                   - \n",
      "2022-12-02 17:44:56> bumpversion>                  - \n",
      "2022-12-02 17:44:56> click                         - 8.1.3\n",
      "2022-12-02 17:44:56> click>                        - \n",
      "2022-12-02 17:44:56> fastcore                      - 1.5.27\n",
      "2022-12-02 17:44:56> h5py                          - 3.7.0\n",
      "2022-12-02 17:44:56> jupyter                       - 1.0.0\n",
      "2022-12-02 17:44:56> jupyter>                      - \n",
      "2022-12-02 17:44:56> jupyter_contrib_nbextensions  - \n",
      "2022-12-02 17:44:56> jupyter_contrib_nbextensions> - \n",
      "2022-12-02 17:44:56> matplotlib                    - 3.6.2\n",
      "2022-12-02 17:44:56> nbdev                         - \n",
      "2022-12-02 17:44:56> nbdev>                        - \n",
      "2022-12-02 17:44:56> networkx                      - 2.8.8\n",
      "2022-12-02 17:44:56> numba                         - 0.56.3\n",
      "2022-12-02 17:44:56> numpy                         - 1.21.5\n",
      "2022-12-02 17:44:56> pandas                        - 1.5.1\n",
      "2022-12-02 17:44:56> plotly_express                - \n",
      "2022-12-02 17:44:56> psutil                        - 5.9.0\n",
      "2022-12-02 17:44:56> pyinstaller                   - \n",
      "2022-12-02 17:44:56> pyteomics                     - 4.5.6\n",
      "2022-12-02 17:44:56> python                        - 3.8.15\n",
      "2022-12-02 17:44:56> pythonnet                     - 2.5.2\n",
      "2022-12-02 17:44:56> pywin32                       - 225\n",
      "2022-12-02 17:44:56> pyyaml                        - 6.0\n",
      "2022-12-02 17:44:56> scikit-learn                  - 1.1.3\n",
      "2022-12-02 17:44:56> scipy                         - 1.9.3\n",
      "2022-12-02 17:44:56> streamlit                     - \n",
      "2022-12-02 17:44:56> streamlit-aggrid              - \n",
      "2022-12-02 17:44:56> streamlit>                    - \n",
      "2022-12-02 17:44:56> tables                        - 3.6.1\n",
      "2022-12-02 17:44:56> tqdm                          - 4.64.1\n",
      "2022-12-02 17:44:56> twine                         - \n",
      "2022-12-02 17:44:56> twine>                        - \n",
      "2022-12-02 17:44:56> watchdog                      - \n",
      "2022-12-02 17:44:56> wget                          - 3.2\n",
      "2022-12-02 17:44:56> \n",
      "2022-12-02 17:44:56> Check for settings not completely implemented yet.\n",
      "2022-12-02 17:44:56> Size check:\n",
      "2022-12-02 17:44:56> Size of job (raw files) 3.05 Gb\n",
      "2022-12-02 17:44:56> Required disk space for F: - 3.05 Gb, Available 439.24 Gb OK.\n",
      "2022-12-02 17:44:56> \n",
      "2022-12-02 17:44:56> Workflow Settings:\n",
      "2022-12-02 17:44:56> align              - False\n",
      "2022-12-02 17:44:56> continue_runs      - False\n",
      "2022-12-02 17:44:56> create_database    - True\n",
      "2022-12-02 17:44:56> find_features      - True\n",
      "2022-12-02 17:44:56> import_raw_data    - True\n",
      "2022-12-02 17:44:56> lfq_quantification - True\n",
      "2022-12-02 17:44:56> match              - False\n",
      "2022-12-02 17:44:56> recalibrate_data   - True\n",
      "2022-12-02 17:44:56> search_data        - True\n",
      "2022-12-02 17:44:56> \n",
      "2022-12-02 17:44:56> Checking if files exist.\n",
      "2022-12-02 17:44:56> FASTA Files have a total size of 12.971 Mb\n"
     ]
    },
    {
     "name": "stderr",
     "output_type": "stream",
     "text": [
      "\r",
      "  0%|                                                                                            | 0/1 [00:00<?, ?it/s]"
     ]
    },
    {
     "name": "stdout",
     "output_type": "stream",
     "text": [
      "2022-12-02 17:44:56> Processing 1 files for step raw_conversion\n",
      "2022-12-02 17:44:56> File F:/projects/alphapept/sandbox/temp\\fig4\\thermo_HeLa has extension .raw - converting from Thermo.\n",
      "2022-12-02 17:46:58> File conversion complete. Extracted 120,226 precursors.\n",
      "2022-12-02 17:47:00> File conversion of file F:/projects/alphapept/sandbox/temp\\fig4\\thermo_HeLa.raw complete.\n"
     ]
    },
    {
     "name": "stderr",
     "output_type": "stream",
     "text": [
      "\r",
      "  0%|                                                                                            | 0/1 [02:03<?, ?it/s]"
     ]
    },
    {
     "name": "stdout",
     "output_type": "stream",
     "text": [
      "2022-12-02 17:47:00> Logging to C:\\Users\\admin\\alphapept\\logs\\log_20221202174700.txt.\n",
      "2022-12-02 17:47:00> Code location f:\\projects\\alphapept\\alphapept\n",
      "2022-12-02 17:47:00> Python location C:\\Users\\admin\\.conda\\envs\\alphapept-gpu\\python.exe\n",
      "2022-12-02 17:47:00> Platform information:\n",
      "2022-12-02 17:47:00> system     - Windows\n",
      "2022-12-02 17:47:00> release    - 10\n",
      "2022-12-02 17:47:00> version    - 10.0.19044\n",
      "2022-12-02 17:47:00> machine    - AMD64\n",
      "2022-12-02 17:47:00> processor  - Intel64 Family 6 Model 85 Stepping 4, GenuineIntel\n",
      "2022-12-02 17:47:00> cpu count  - 24\n",
      "2022-12-02 17:47:00> ram memory - 104.2/127.7 Gb (available/total)\n",
      "2022-12-02 17:47:00> processor  - Intel64 Family 6 Model 85 Stepping 4, GenuineIntel\n",
      "2022-12-02 17:47:00> Python information:\n",
      "2022-12-02 17:47:00> SQLAlchemy                    - 1.4.44\n",
      "2022-12-02 17:47:00> alphapept                     - 0.4.9\n",
      "2022-12-02 17:47:00> biopython                     - 1.80\n",
      "2022-12-02 17:47:00> bumpversion                   - \n",
      "2022-12-02 17:47:00> bumpversion>                  - \n",
      "2022-12-02 17:47:00> click                         - 8.1.3\n",
      "2022-12-02 17:47:00> click>                        - \n",
      "2022-12-02 17:47:00> fastcore                      - 1.5.27\n",
      "2022-12-02 17:47:00> h5py                          - 3.7.0\n",
      "2022-12-02 17:47:00> jupyter                       - 1.0.0\n",
      "2022-12-02 17:47:00> jupyter>                      - \n",
      "2022-12-02 17:47:00> jupyter_contrib_nbextensions  - \n",
      "2022-12-02 17:47:00> jupyter_contrib_nbextensions> - \n",
      "2022-12-02 17:47:00> matplotlib                    - 3.6.2\n",
      "2022-12-02 17:47:00> nbdev                         - \n",
      "2022-12-02 17:47:00> nbdev>                        - \n",
      "2022-12-02 17:47:00> networkx                      - 2.8.8\n",
      "2022-12-02 17:47:00> numba                         - 0.56.3\n",
      "2022-12-02 17:47:00> numpy                         - 1.21.5\n",
      "2022-12-02 17:47:00> pandas                        - 1.5.1\n",
      "2022-12-02 17:47:00> plotly_express                - \n",
      "2022-12-02 17:47:00> psutil                        - 5.9.0\n",
      "2022-12-02 17:47:00> pyinstaller                   - \n",
      "2022-12-02 17:47:00> pyteomics                     - 4.5.6\n",
      "2022-12-02 17:47:00> python                        - 3.8.15\n",
      "2022-12-02 17:47:00> pythonnet                     - 2.5.2\n",
      "2022-12-02 17:47:00> pywin32                       - 225\n",
      "2022-12-02 17:47:00> pyyaml                        - 6.0\n",
      "2022-12-02 17:47:00> scikit-learn                  - 1.1.3\n",
      "2022-12-02 17:47:00> scipy                         - 1.9.3\n",
      "2022-12-02 17:47:00> streamlit                     - \n",
      "2022-12-02 17:47:00> streamlit-aggrid              - \n",
      "2022-12-02 17:47:00> streamlit>                    - \n",
      "2022-12-02 17:47:00> tables                        - 3.6.1\n",
      "2022-12-02 17:47:00> tqdm                          - 4.64.1\n",
      "2022-12-02 17:47:00> twine                         - \n",
      "2022-12-02 17:47:00> twine>                        - \n",
      "2022-12-02 17:47:00> watchdog                      - \n",
      "2022-12-02 17:47:00> wget                          - 3.2\n",
      "2022-12-02 17:47:00> \n",
      "2022-12-02 17:47:00> Check for settings not completely implemented yet.\n",
      "2022-12-02 17:47:00> Size check:\n",
      "2022-12-02 17:47:00> Size of job (raw files) 3.05 Gb\n",
      "2022-12-02 17:47:00> Required disk space for F: - 3.05 Gb, Available 438.48 Gb OK.\n",
      "2022-12-02 17:47:00> \n",
      "2022-12-02 17:47:00> Workflow Settings:\n",
      "2022-12-02 17:47:00> align              - False\n",
      "2022-12-02 17:47:00> continue_runs      - False\n",
      "2022-12-02 17:47:00> create_database    - True\n",
      "2022-12-02 17:47:00> find_features      - True\n",
      "2022-12-02 17:47:00> import_raw_data    - True\n",
      "2022-12-02 17:47:00> lfq_quantification - True\n",
      "2022-12-02 17:47:00> match              - False\n",
      "2022-12-02 17:47:00> recalibrate_data   - True\n",
      "2022-12-02 17:47:00> search_data        - True\n",
      "2022-12-02 17:47:00> \n",
      "2022-12-02 17:47:00> Checking if files exist.\n",
      "2022-12-02 17:47:00> FASTA Files have a total size of 12.971 Mb\n"
     ]
    },
    {
     "name": "stderr",
     "output_type": "stream",
     "text": [
      "\n",
      "  0%|                                                                                            | 0/1 [00:00<?, ?it/s]"
     ]
    },
    {
     "name": "stdout",
     "output_type": "stream",
     "text": [
      "2022-12-02 17:47:04> Processing 1 files for step find_features\n",
      "2022-12-02 17:47:04> No *.hdf file with features found for F:/projects/alphapept/sandbox/temp\\fig4\\thermo_HeLa.ms_data.hdf. Adding to feature finding list.\n",
      "2022-12-02 17:47:04> Feature finding on F:/projects/alphapept/sandbox/temp\\fig4\\thermo_HeLa.raw\n",
      "2022-12-02 17:47:04> Hill extraction with centroid_tol 8 and max_gap 2\n",
      "2022-12-02 17:47:07> Number of hills 1,105,353, len = 17.35\n",
      "2022-12-02 17:47:07> Repeating hill extraction with centroid_tol 5.87\n",
      "2022-12-02 17:47:08> Number of hills 1,227,331, len = 19.44\n",
      "2022-12-02 17:47:11> After duplicate removal of hills 1,025,845\n",
      "2022-12-02 17:47:26> After split hill_ptrs 1,207,373\n",
      "2022-12-02 17:47:27> After filter hill_ptrs 1,188,406\n",
      "2022-12-02 17:49:35> Extracting hill stats complete\n",
      "2022-12-02 17:49:46> Found 184,383 pre isotope patterns.\n",
      "2022-12-02 17:50:43> Extracted 198,500 isotope patterns.\n",
      "2022-12-02 17:50:56> Report complete.\n",
      "2022-12-02 17:50:56> Matching features to query data.\n",
      "2022-12-02 17:50:58> Saving feature table.\n",
      "2022-12-02 17:50:58> Feature table saved to F:/projects/alphapept/sandbox/temp\\fig4\\thermo_HeLa.ms_data.hdf\n",
      "2022-12-02 17:50:58> Saving features.\n",
      "2022-12-02 17:50:58> Feature finding of file F:/projects/alphapept/sandbox/temp\\fig4\\thermo_HeLa.raw complete.\n"
     ]
    },
    {
     "name": "stderr",
     "output_type": "stream",
     "text": [
      "  0%|                                                                                            | 0/1 [03:53<?, ?it/s]\n"
     ]
    }
   ],
   "source": [
    "import alphapept.settings\n",
    "import alphapept.paths\n",
    "import alphapept.interface\n",
    "import alphapept.fasta\n",
    "\n",
    "test_folder = os.path.join(tmp_folder, test_folder)\n",
    "\n",
    "file_name = os.path.join(test_folder, files[0])\n",
    "settings = alphapept.settings.load_settings(alphapept.paths.DEFAULT_SETTINGS_PATH)\n",
    "settings['experiment']['file_paths'] = [file_name]\n",
    "settings['experiment']['fasta_paths'] = [os.path.join(test_folder, files[1])]\n",
    "settings['experiment']['database_path'] = os.path.join(test_folder, 'database.hdf')\n",
    "\n",
    "settings_ = alphapept.interface.create_database(settings)\n",
    "settings_ = alphapept.interface.import_raw_data(settings)\n",
    "settings_ = alphapept.interface.feature_finding(settings)\n",
    "base, ext = os.path.splitext(file_name)"
   ]
  },
  {
   "cell_type": "code",
   "execution_count": 6,
   "id": "f20fabcf",
   "metadata": {},
   "outputs": [
    {
     "name": "stdout",
     "output_type": "stream",
     "text": [
      "2022-12-02 17:50:58> Calibrating fragments\n"
     ]
    },
    {
     "name": "stderr",
     "output_type": "stream",
     "text": [
      "C:\\Users\\admin\\.conda\\envs\\alphapept-gpu\\lib\\site-packages\\numpy\\core\\fromnumeric.py:3440: RuntimeWarning: Mean of empty slice.\n",
      "  return _methods._mean(a, axis=axis, dtype=dtype,\n",
      "C:\\Users\\admin\\.conda\\envs\\alphapept-gpu\\lib\\site-packages\\numpy\\core\\_methods.py:189: RuntimeWarning: invalid value encountered in double_scalars\n",
      "  ret = ret.dtype.type(ret / rcount)\n"
     ]
    }
   ],
   "source": [
    "ms_file_ = alphapept.io.MS_Data_File(f\"{base}.ms_data.hdf\", is_read_only=True)\n",
    "query_data = ms_file_.read_DDA_query_data()\n",
    "\n",
    "query_data = ms_file_.read_DDA_query_data(\n",
    "    calibrated_fragments=True,\n",
    "    database_file_name=settings['experiment']['database_path']\n",
    ")\n",
    "\n",
    "db_data = alphapept.fasta.read_database(settings['experiment']['database_path'])\n",
    "features = ms_file_.read(dataset_name=\"features\")"
   ]
  },
  {
   "cell_type": "code",
   "execution_count": 7,
   "id": "625376ff",
   "metadata": {
    "scrolled": false
   },
   "outputs": [
    {
     "name": "stdout",
     "output_type": "stream",
     "text": [
      "2022-12-02 17:51:26> Performing search on 246,847 query and 5,045,760 db entries with frag_tol = 50.00 and prec_tol = 20.00.\n",
      "2022-12-02 17:52:34> Found 716,858 psms.\n",
      "Time elapsed 69.99804043769836, found 716,858\n",
      "2022-12-02 17:52:35> Performing search on 246,847 query and 5,045,760 db entries with frag_tol = 50.00 and prec_tol = 20.00.\n",
      "2022-12-02 17:52:43> Found 716,858 psms.\n",
      "Time elapsed 8.867462873458862, found 716,858\n",
      "2022-12-02 17:52:44> Performing search on 246,847 query and 5,045,760 db entries with frag_tol = 50.00 and prec_tol = 20.00.\n",
      "2022-12-02 17:54:08> Found 716,858 psms.\n",
      "Time elapsed 85.32107424736023, found 716,858\n",
      "2022-12-02 17:54:09> Performing search on 246,847 query and 5,045,760 db entries with frag_tol = 50.00 and prec_tol = 20.00.\n",
      "2022-12-03 04:59:55> Found 716,858 psms.\n",
      "Time elapsed 39947.20718955994, found 716,858\n"
     ]
    }
   ],
   "source": [
    "import alphapept.search\n",
    "from time import time\n",
    "import importlib\n",
    "\n",
    "timing_dict = {}\n",
    "for mode in ['cuda','numba-multithread','numba','python']:\n",
    "\n",
    "    alphapept.performance.set_compilation_mode(mode)\n",
    "\n",
    "    importlib.reload(alphapept.search)\n",
    "    start = time()\n",
    "    psms, num_specs_compared = alphapept.search.get_psms(query_data, db_data, features, **settings[\"search\"])\n",
    "    end = time()\n",
    "\n",
    "    print(f\"Time elapsed {end-start}, found {len(psms):,}\")\n",
    "    \n",
    "    \n",
    "    timing_dict[mode] = end-start"
   ]
  },
  {
   "cell_type": "code",
   "execution_count": 13,
   "id": "9985dee1",
   "metadata": {},
   "outputs": [],
   "source": [
    "timing_dict = {'cuda':69.99804043769836,\n",
    " 'numba-multithread': 8.867462873458862,\n",
    " 'numba': 85.32107424736023,\n",
    " 'python': 39947.20718955994}"
   ]
  },
  {
   "cell_type": "code",
   "execution_count": 15,
   "id": "776bb44b",
   "metadata": {},
   "outputs": [
    {
     "name": "stderr",
     "output_type": "stream",
     "text": [
      "C:\\Users\\admin\\AppData\\Local\\Temp\\ipykernel_16000\\669414651.py:38: UserWarning: Attempt to set non-positive xlim on a log-scaled axis will be ignored.\n",
      "  plt.xlim([0, 100000])\n"
     ]
    },
    {
     "data": {
      "image/png": "[encoded data removed]",
      "text/plain": [
       "<Figure size 236.3x236.3 with 1 Axes>"
      ]
     },
     "metadata": {},
     "output_type": "display_data"
    }
   ],
   "source": [
    "import matplotlib.pyplot as plt\n",
    "import numpy as np\n",
    "import pandas as pd\n",
    "import matplotlib\n",
    "\n",
    "dark_blue = '#17212b'\n",
    "light_blue = '#3dc5ef'\n",
    "teal= '#42dee1'\n",
    "green = '#6eecb9'\n",
    "yellow = '#eef5b3'\n",
    "\n",
    "colors = [light_blue, teal, green, yellow]\n",
    "data = pd.DataFrame(timing_dict.values(), index = timing_dict.keys())\n",
    "data = data.sort_values(0)\n",
    "\n",
    "hfont = {'fontname':'Arial', 'size':10}\n",
    "plt.figure(figsize=(2.363,2.363)) #60x60\n",
    "\n",
    "\n",
    "python_time = timing_dict['python']/60/60\n",
    "text = [f'Python ({python_time:.1f} h)', f\"Numba ({timing_dict['numba']:.1f} s)\", f\"CuPy ({timing_dict['cuda']:.1f} s)\", f\"Numba, threaded ({timing_dict['numba-multithread']:.1f} s)\"]\n",
    "\n",
    "height=0.5\n",
    "\n",
    "for i in range(len(data)): \n",
    "    t = data.iloc[i][0]\n",
    "    plt.barh(i, t, height, color = colors[i], linewidth=1, edgecolor='black')\n",
    "    \n",
    "    if i == 3:\n",
    "        plt.text(t/1000, i, text[::-1][i], **hfont, va='center')\n",
    "    else:\n",
    "        plt.text(t*1.2, i, text[::-1][i], **hfont, va='center')\n",
    "\n",
    "plt.yticks(range(len(data)), data.index, **hfont)\n",
    "plt.xticks(**hfont)\n",
    "\n",
    "plt.xscale('log')\n",
    "plt.xlim([0, 100000])\n",
    "plt.xlabel('Time (seconds)', **hfont)\n",
    "\n",
    "ax = plt.gca()\n",
    "ax.set_yticklabels([])\n",
    "plt.xticks([1e1, 1e2 , 1e3, 1e4, 1e5])\n",
    "\n",
    "plt.tight_layout()\n",
    "plt.savefig('./figures/04_search.pdf')  \n",
    "plt.show()"
   ]
  }
 ],
 "metadata": {
  "kernelspec": {
   "display_name": "Python 3 (ipykernel)",
   "language": "python",
   "name": "python3"
  },
  "language_info": {
   "codemirror_mode": {
    "name": "ipython",
    "version": 3
   },
   "file_extension": ".py",
   "mimetype": "text/x-python",
   "name": "python",
   "nbconvert_exporter": "python",
   "pygments_lexer": "ipython3",
   "version": "3.8.15"
  },
  "toc": {
   "base_numbering": 1,
   "nav_menu": {},
   "number_sections": true,
   "sideBar": true,
   "skip_h1_title": false,
   "title_cell": "Table of Contents",
   "title_sidebar": "Contents",
   "toc_cell": false,
   "toc_position": {},
   "toc_section_display": true,
   "toc_window_display": false
  }
 },
 "nbformat": 4,
 "nbformat_minor": 5
}
