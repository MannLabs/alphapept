{
 "cells": [
  {
   "cell_type": "markdown",
   "id": "4d1bcb4c",
   "metadata": {},
   "source": [
    "# Paper Figure 4: Search\n",
    "\n",
    "This notebook uses GPU, so please run in an environment with CUDA installed.\n"
   ]
  },
  {
   "cell_type": "code",
   "execution_count": 1,
   "id": "0517e216",
   "metadata": {},
   "outputs": [],
   "source": [
    "import os\n",
    "from test_files import get_files, prepare_test\n",
    "\n",
    "files = ['thermo_HeLa.raw', 'human.fasta']"
   ]
  },
  {
   "cell_type": "code",
   "execution_count": 2,
   "id": "bccea5d2",
   "metadata": {},
   "outputs": [
    {
     "name": "stdout",
     "output_type": "stream",
     "text": [
      "nvcc: NVIDIA (R) Cuda compiler driver\n",
      "Copyright (c) 2005-2020 NVIDIA Corporation\n",
      "Built on Thu_Jun_11_22:26:48_Pacific_Daylight_Time_2020\n",
      "Cuda compilation tools, release 11.0, V11.0.194\n",
      "Build cuda_11.0_bu.relgpu_drvr445TC445_37.28540450_0\n"
     ]
    }
   ],
   "source": [
    "!nvcc --version"
   ]
  },
  {
   "cell_type": "code",
   "execution_count": 3,
   "id": "aac19294",
   "metadata": {},
   "outputs": [],
   "source": [
    "tmp_folder = os.path.join(os.getcwd(),'temp/')\n",
    "test_folder = 'fig4'"
   ]
  },
  {
   "cell_type": "code",
   "execution_count": 4,
   "id": "4797996f",
   "metadata": {},
   "outputs": [
    {
     "name": "stdout",
     "output_type": "stream",
     "text": [
      "Creating dir F:\\alphapept\\sandbox\\temp/fig4.\n"
     ]
    }
   ],
   "source": [
    "get_files(tmp_folder, files)\n",
    "prepare_test(files, tmp_folder, test_folder)"
   ]
  },
  {
   "cell_type": "markdown",
   "id": "1e1c65bb",
   "metadata": {},
   "source": [
    "## Convert raw and find features"
   ]
  },
  {
   "cell_type": "code",
   "execution_count": 5,
   "id": "f344b5ae",
   "metadata": {},
   "outputs": [
    {
     "name": "stdout",
     "output_type": "stream",
     "text": [
      "2021-06-06 18:09:32> Logging to C:\\Users\\admin\\alphapept\\logs\\log_20210606180933.txt.\n",
      "2021-06-06 18:09:32> Platform information:\n",
      "2021-06-06 18:09:32> system     - Windows\n",
      "2021-06-06 18:09:32> release    - 10\n",
      "2021-06-06 18:09:32> version    - 10.0.18363\n",
      "2021-06-06 18:09:33> machine    - AMD64\n",
      "2021-06-06 18:09:33> processor  - Intel64 Family 6 Model 85 Stepping 4, GenuineIntel\n",
      "2021-06-06 18:09:33> cpu count  - 24\n",
      "2021-06-06 18:09:33> ram memory - 122.3/127.7 Gb (available/total)\n",
      "2021-06-06 18:09:33> \n",
      "2021-06-06 18:09:33> Python information:\n",
      "2021-06-06 18:09:33> SQLAlchemy     - 1.3.22\n",
      "2021-06-06 18:09:33> alphapept      - 0.3.26\n",
      "2021-06-06 18:09:33> biopython      - 1.78\n",
      "2021-06-06 18:09:33> click          - 7.1.2\n",
      "2021-06-06 18:09:33> comtypes       - 1.1.7\n",
      "2021-06-06 18:09:33> fastcore       - 1.3.5\n",
      "2021-06-06 18:09:33> h5py           - 3.1.0\n",
      "2021-06-06 18:09:33> lxml           - 4.6.2\n",
      "2021-06-06 18:09:33> matplotlib     - 3.3.3\n",
      "2021-06-06 18:09:33> nbdev          - 1.1.4\n",
      "2021-06-06 18:09:33> networkx       - 2.5\n",
      "2021-06-06 18:09:33> numba          - 0.52.0\n",
      "2021-06-06 18:09:33> numpy          - 1.19.4\n",
      "2021-06-06 18:09:33> pandas         - 1.2.1\n",
      "2021-06-06 18:09:33> plotly_express - 0.4.0\n",
      "2021-06-06 18:09:33> psutil         - 5.8.0\n",
      "2021-06-06 18:09:33> pyteomics      - 4.4.2\n",
      "2021-06-06 18:09:33> python         - 3.8.10\n",
      "2021-06-06 18:09:33> pythonnet      - 2.5.1\n",
      "2021-06-06 18:09:33> pywin32        - 225\n",
      "2021-06-06 18:09:33> pyyaml         - 5.3.1\n",
      "2021-06-06 18:09:33> scikit-learn   - 0.23.2\n",
      "2021-06-06 18:09:33> scipy          - 1.6.0\n",
      "2021-06-06 18:09:33> seaborn        - 0.11.1\n",
      "2021-06-06 18:09:33> streamlit      - 0.80.0\n",
      "2021-06-06 18:09:33> tables         - 3.6.1\n",
      "2021-06-06 18:09:33> tqdm           - 4.56.0\n",
      "2021-06-06 18:09:33> watchdog       - 2.1.0\n",
      "2021-06-06 18:09:33> wget           - 3.2\n",
      "2021-06-06 18:09:33> \n",
      "2021-06-06 18:09:33> Check for settings not completely implemented yet.\n",
      "2021-06-06 18:09:33> Checking if files exist.\n",
      "2021-06-06 18:09:33> Results path was not set. Setting to F:\\alphapept\\sandbox\\temp\\fig4\\results.hdf\n",
      "2021-06-06 18:09:33> Shortnames not set. Setting to filename.\n",
      "2021-06-06 18:09:33> Database path F:\\alphapept\\sandbox\\temp/fig4\\database.hdf is not a file.\n",
      "2021-06-06 18:09:33> Found FASTA file F:\\alphapept\\sandbox\\temp/fig4\\human.fasta with size 12.97 Mb.\n",
      "2021-06-06 18:09:33> Creating a new database from FASTA.\n"
     ]
    },
    {
     "name": "stderr",
     "output_type": "stream",
     "text": [
      "\r",
      "  0%|                                                                                            | 0/1 [00:00<?, ?it/s]"
     ]
    },
    {
     "name": "stdout",
     "output_type": "stream",
     "text": [
      "2021-06-06 18:09:34> FASTA contains 20,365 entries.\n"
     ]
    },
    {
     "name": "stderr",
     "output_type": "stream",
     "text": [
      "100%|██████████████████████████████████████████████████████████████████████████████████| 1.0/1 [01:42<00:00, 26.83s/it]"
     ]
    },
    {
     "name": "stdout",
     "output_type": "stream",
     "text": [
      "2021-06-06 18:11:26> Digested 20,365 proteins and generated 5,337,590 spectra\n",
      "2021-06-06 18:12:14> Database saved to F:\\alphapept\\sandbox\\temp/fig4\\database.hdf. Filesize of database is 1.99 GB\n",
      "2021-06-06 18:12:21> Logging to C:\\Users\\admin\\alphapept\\logs\\log_20210606181221.txt.\n",
      "2021-06-06 18:12:21> Platform information:\n",
      "2021-06-06 18:12:21> system     - Windows\n",
      "2021-06-06 18:12:21> release    - 10\n",
      "2021-06-06 18:12:21> version    - 10.0.18363\n",
      "2021-06-06 18:12:21> machine    - AMD64\n",
      "2021-06-06 18:12:21> processor  - Intel64 Family 6 Model 85 Stepping 4, GenuineIntel\n",
      "2021-06-06 18:12:21> cpu count  - 24\n",
      "2021-06-06 18:12:21> ram memory - 122.5/127.7 Gb (available/total)\n",
      "2021-06-06 18:12:21> \n",
      "2021-06-06 18:12:22> Python information:\n",
      "2021-06-06 18:12:22> SQLAlchemy     - 1.3.22\n",
      "2021-06-06 18:12:22> alphapept      - 0.3.26\n",
      "2021-06-06 18:12:22> biopython      - 1.78\n",
      "2021-06-06 18:12:22> click          - 7.1.2\n",
      "2021-06-06 18:12:22> comtypes       - 1.1.7\n",
      "2021-06-06 18:12:22> fastcore       - 1.3.5\n",
      "2021-06-06 18:12:22> h5py           - 3.1.0\n",
      "2021-06-06 18:12:22> lxml           - 4.6.2\n",
      "2021-06-06 18:12:22> matplotlib     - 3.3.3\n",
      "2021-06-06 18:12:22> nbdev          - 1.1.4\n",
      "2021-06-06 18:12:22> networkx       - 2.5\n",
      "2021-06-06 18:12:22> numba          - 0.52.0\n",
      "2021-06-06 18:12:22> numpy          - 1.19.4\n",
      "2021-06-06 18:12:22> pandas         - 1.2.1\n",
      "2021-06-06 18:12:22> plotly_express - 0.4.0\n",
      "2021-06-06 18:12:22> psutil         - 5.8.0\n",
      "2021-06-06 18:12:22> pyteomics      - 4.4.2\n",
      "2021-06-06 18:12:22> python         - 3.8.10\n",
      "2021-06-06 18:12:22> pythonnet      - 2.5.1\n",
      "2021-06-06 18:12:22> pywin32        - 225\n",
      "2021-06-06 18:12:22> pyyaml         - 5.3.1\n",
      "2021-06-06 18:12:22> scikit-learn   - 0.23.2\n",
      "2021-06-06 18:12:22> scipy          - 1.6.0\n",
      "2021-06-06 18:12:22> seaborn        - 0.11.1\n",
      "2021-06-06 18:12:22> streamlit      - 0.80.0\n",
      "2021-06-06 18:12:22> tables         - 3.6.1\n",
      "2021-06-06 18:12:22> tqdm           - 4.56.0\n",
      "2021-06-06 18:12:22> watchdog       - 2.1.0\n",
      "2021-06-06 18:12:22> wget           - 3.2\n",
      "2021-06-06 18:12:22> \n",
      "2021-06-06 18:12:22> Check for settings not completely implemented yet.\n",
      "2021-06-06 18:12:22> Checking if files exist.\n"
     ]
    },
    {
     "name": "stderr",
     "output_type": "stream",
     "text": [
      "\n",
      "  0%|                                                                                            | 0/1 [00:00<?, ?it/s]\u001b[A"
     ]
    },
    {
     "name": "stdout",
     "output_type": "stream",
     "text": [
      "2021-06-06 18:12:22> Processing 1 files for step raw_conversion\n",
      "2021-06-06 18:12:22> File F:\\alphapept\\sandbox\\temp/fig4\\thermo_HeLa has extension .raw - converting from Thermo.\n",
      "2021-06-06 18:14:32> File conversion complete. Extracted 120,226 precursors.\n",
      "2021-06-06 18:14:34> File conversion of file F:\\alphapept\\sandbox\\temp/fig4\\thermo_HeLa.raw complete.\n",
      "2021-06-06 18:14:34> Logging to C:\\Users\\admin\\alphapept\\logs\\log_20210606181434.txt.\n",
      "2021-06-06 18:14:34> Platform information:\n",
      "2021-06-06 18:14:34> system     - Windows\n",
      "2021-06-06 18:14:34> release    - 10\n",
      "2021-06-06 18:14:34> version    - 10.0.18363\n",
      "2021-06-06 18:14:34> machine    - AMD64\n",
      "2021-06-06 18:14:34> processor  - Intel64 Family 6 Model 85 Stepping 4, GenuineIntel\n",
      "2021-06-06 18:14:34> cpu count  - 24\n",
      "2021-06-06 18:14:34> ram memory - 121.5/127.7 Gb (available/total)\n",
      "2021-06-06 18:14:34> \n",
      "2021-06-06 18:14:34> Python information:\n",
      "2021-06-06 18:14:34> SQLAlchemy     - 1.3.22\n",
      "2021-06-06 18:14:34> alphapept      - 0.3.26\n",
      "2021-06-06 18:14:34> biopython      - 1.78\n",
      "2021-06-06 18:14:34> click          - 7.1.2\n",
      "2021-06-06 18:14:34> comtypes       - 1.1.7\n",
      "2021-06-06 18:14:34> fastcore       - 1.3.5\n",
      "2021-06-06 18:14:34> h5py           - 3.1.0\n",
      "2021-06-06 18:14:34> lxml           - 4.6.2\n",
      "2021-06-06 18:14:34> matplotlib     - 3.3.3\n",
      "2021-06-06 18:14:34> nbdev          - 1.1.4\n",
      "2021-06-06 18:14:34> networkx       - 2.5\n",
      "2021-06-06 18:14:34> numba          - 0.52.0\n",
      "2021-06-06 18:14:34> numpy          - 1.19.4\n",
      "2021-06-06 18:14:34> pandas         - 1.2.1\n",
      "2021-06-06 18:14:34> plotly_express - 0.4.0\n",
      "2021-06-06 18:14:34> psutil         - 5.8.0\n",
      "2021-06-06 18:14:34> pyteomics      - 4.4.2\n",
      "2021-06-06 18:14:34> python         - 3.8.10\n",
      "2021-06-06 18:14:34> pythonnet      - 2.5.1\n",
      "2021-06-06 18:14:34> pywin32        - 225\n",
      "2021-06-06 18:14:34> pyyaml         - 5.3.1\n",
      "2021-06-06 18:14:34> scikit-learn   - 0.23.2\n",
      "2021-06-06 18:14:34> scipy          - 1.6.0\n",
      "2021-06-06 18:14:34> seaborn        - 0.11.1\n",
      "2021-06-06 18:14:34> streamlit      - 0.80.0\n",
      "2021-06-06 18:14:34> tables         - 3.6.1\n",
      "2021-06-06 18:14:34> tqdm           - 4.56.0\n",
      "2021-06-06 18:14:34> watchdog       - 2.1.0\n",
      "2021-06-06 18:14:34> wget           - 3.2\n",
      "2021-06-06 18:14:34> \n",
      "2021-06-06 18:14:34> Check for settings not completely implemented yet.\n",
      "2021-06-06 18:14:34> Checking if files exist.\n",
      "2021-06-06 18:14:34> init\n"
     ]
    },
    {
     "name": "stderr",
     "output_type": "stream",
     "text": [
      "\n",
      "\n",
      "  0%|                                                                                            | 0/1 [00:00<?, ?it/s]\u001b[A\u001b[A"
     ]
    },
    {
     "name": "stdout",
     "output_type": "stream",
     "text": [
      "2021-06-06 18:14:40> Processing 1 files for step find_features\n",
      "2021-06-06 18:14:40> No *.hdf file with features found for F:\\alphapept\\sandbox\\temp/fig4\\thermo_HeLa.ms_data.hdf. Adding to feature finding list.\n",
      "2021-06-06 18:14:41> Feature finding on F:\\alphapept\\sandbox\\temp/fig4\\thermo_HeLa.raw\n",
      "2021-06-06 18:14:41> Hill extraction with centroid_tol 8 and max_gap 2\n",
      "2021-06-06 18:14:44> Number of hills 1,105,353, len = 17.35\n",
      "2021-06-06 18:14:44> Repeating hill extraction with centroid_tol 5.87\n"
     ]
    },
    {
     "name": "stderr",
     "output_type": "stream",
     "text": [
      "100%|█████████████████████████████████████████████████████████████████████████████████| 1.0/1 [05:11<00:00, 311.34s/it]\n",
      "  0%|                                                                                            | 0/1 [02:22<?, ?it/s]\n"
     ]
    },
    {
     "name": "stdout",
     "output_type": "stream",
     "text": [
      "2021-06-06 18:14:46> Number of hills 1,227,331, len = 19.44\n",
      "2021-06-06 18:15:12> After split hill_ptrs 1,635,903\n",
      "2021-06-06 18:15:14> After filter hill_ptrs 1,585,989\n",
      "2021-06-06 18:18:27> Extracting hill stats complete\n",
      "2021-06-06 18:18:51> Found 190,099 pre isotope patterns.\n",
      "2021-06-06 18:22:11> Extracted 232,755 isotope patterns.\n",
      "2021-06-06 18:22:20> Report complete.\n",
      "2021-06-06 18:22:20> Note: NumExpr detected 24 cores but \"NUMEXPR_MAX_THREADS\" not set, so enforcing safe limit of 8.\n",
      "2021-06-06 18:22:20> NumExpr defaulting to 8 threads.\n",
      "2021-06-06 18:22:20> Matching features to query data.\n",
      "2021-06-06 18:22:22> Saving feature table.\n",
      "2021-06-06 18:22:22> Feature table saved to F:\\alphapept\\sandbox\\temp/fig4\\thermo_HeLa.ms_data.hdf\n",
      "2021-06-06 18:22:22> Saving features.\n",
      "2021-06-06 18:22:23> Feature finding of file F:\\alphapept\\sandbox\\temp/fig4\\thermo_HeLa.raw complete.\n"
     ]
    }
   ],
   "source": [
    "import alphapept.settings\n",
    "import alphapept.paths\n",
    "import alphapept.interface\n",
    "import alphapept.fasta\n",
    "\n",
    "test_folder = os.path.join(tmp_folder, test_folder)\n",
    "\n",
    "file_name = os.path.join(test_folder, files[0])\n",
    "settings = alphapept.settings.load_settings(alphapept.paths.DEFAULT_SETTINGS_PATH)\n",
    "settings['experiment']['file_paths'] = [file_name]\n",
    "settings['experiment']['fasta_paths'] = [os.path.join(test_folder, files[1])]\n",
    "settings['experiment']['database_path'] = os.path.join(test_folder, 'database.hdf')\n",
    "\n",
    "settings_ = alphapept.interface.create_database(settings)\n",
    "settings_ = alphapept.interface.import_raw_data(settings)\n",
    "settings_ = alphapept.interface.feature_finding(settings)\n",
    "base, ext = os.path.splitext(file_name)"
   ]
  },
  {
   "cell_type": "code",
   "execution_count": 6,
   "id": "f20fabcf",
   "metadata": {},
   "outputs": [
    {
     "name": "stdout",
     "output_type": "stream",
     "text": [
      "2021-06-06 18:22:24> Calibrating fragments\n"
     ]
    },
    {
     "name": "stderr",
     "output_type": "stream",
     "text": [
      "C:\\Users\\admin\\.conda\\envs\\alphapept_gpu\\lib\\site-packages\\numpy\\core\\fromnumeric.py:3372: RuntimeWarning: Mean of empty slice.\n",
      "  return _methods._mean(a, axis=axis, dtype=dtype,\n",
      "C:\\Users\\admin\\.conda\\envs\\alphapept_gpu\\lib\\site-packages\\numpy\\core\\_methods.py:170: RuntimeWarning: invalid value encountered in double_scalars\n",
      "  ret = ret.dtype.type(ret / rcount)\n",
      "  0%|                                                                                            | 0/1 [07:59<?, ?it/s]\n"
     ]
    }
   ],
   "source": [
    "ms_file_ = alphapept.io.MS_Data_File(f\"{base}.ms_data.hdf\", is_read_only=True)\n",
    "query_data = ms_file_.read_DDA_query_data()\n",
    "\n",
    "query_data = ms_file_.read_DDA_query_data(\n",
    "    calibrated_fragments=True,\n",
    "    database_file_name=settings['experiment']['database_path']\n",
    ")\n",
    "\n",
    "db_data = alphapept.fasta.read_database(settings['experiment']['database_path'])\n",
    "features = ms_file_.read(dataset_name=\"features\")"
   ]
  },
  {
   "cell_type": "code",
   "execution_count": 7,
   "id": "625376ff",
   "metadata": {
    "scrolled": false
   },
   "outputs": [
    {
     "name": "stdout",
     "output_type": "stream",
     "text": [
      "2021-06-06 18:22:56> Performing search on 260,709 query and 5,337,590 db entries with frag_tol = 30.00 and prec_tol = 30.00.\n",
      "2021-06-06 18:24:39> Found 647,114 psms.\n",
      "Time elapsed 104.90830993652344, found 647,114\n",
      "2021-06-06 18:24:40> Performing search on 260,709 query and 5,337,590 db entries with frag_tol = 30.00 and prec_tol = 30.00.\n",
      "2021-06-06 18:24:51> Found 647,114 psms.\n",
      "Time elapsed 12.823620080947876, found 647,114\n",
      "2021-06-06 18:24:53> Performing search on 260,709 query and 5,337,590 db entries with frag_tol = 30.00 and prec_tol = 30.00.\n",
      "2021-06-06 18:26:57> Found 647,114 psms.\n",
      "Time elapsed 125.81679391860962, found 647,114\n",
      "2021-06-06 18:26:58> Performing search on 260,709 query and 5,337,590 db entries with frag_tol = 30.00 and prec_tol = 30.00.\n",
      "2021-06-07 17:44:03> Found 647,114 psms.\n",
      "Time elapsed 83825.712246418, found 647,114\n"
     ]
    }
   ],
   "source": [
    "import alphapept.search\n",
    "from time import time\n",
    "import importlib\n",
    "\n",
    "timing_dict = {}\n",
    "for mode in ['cuda','numba-multithread','numba','python']:\n",
    "\n",
    "    alphapept.performance.set_compilation_mode(mode)\n",
    "\n",
    "    importlib.reload(alphapept.search)\n",
    "    start = time()\n",
    "    psms, num_specs_compared = alphapept.search.get_psms(query_data, db_data, features, **settings[\"search\"])\n",
    "    end = time()\n",
    "\n",
    "    print(f\"Time elapsed {end-start}, found {len(psms):,}\")\n",
    "    \n",
    "    \n",
    "    timing_dict[mode] = end-start"
   ]
  },
  {
   "cell_type": "code",
   "execution_count": 1,
   "id": "9985dee1",
   "metadata": {},
   "outputs": [],
   "source": [
    "timing_dict = {'cuda': 104.90830993652344,\n",
    " 'numba-multithread': 12.823620080947876,\n",
    " 'numba': 125.81679391860962,\n",
    " 'python': 83825.712246418}"
   ]
  },
  {
   "cell_type": "code",
   "execution_count": 2,
   "id": "776bb44b",
   "metadata": {},
   "outputs": [
    {
     "name": "stderr",
     "output_type": "stream",
     "text": [
      "C:\\Users\\admin\\AppData\\Local\\Temp/ipykernel_16816/2714091246.py:38: UserWarning: Attempted to set non-positive left xlim on a log-scaled axis.\n",
      "Invalid limit will be ignored.\n",
      "  plt.xlim([0, 100000])\n"
     ]
    },
    {
     "data": {
      "image/png": "[encoded data removed]",
      "text/plain": [
       "<Figure size 170.136x170.136 with 1 Axes>"
      ]
     },
     "metadata": {
      "needs_background": "light"
     },
     "output_type": "display_data"
    }
   ],
   "source": [
    "import matplotlib.pyplot as plt\n",
    "import numpy as np\n",
    "import pandas as pd\n",
    "import matplotlib\n",
    "\n",
    "dark_blue = '#17212b'\n",
    "light_blue = '#3dc5ef'\n",
    "teal= '#42dee1'\n",
    "green = '#6eecb9'\n",
    "yellow = '#eef5b3'\n",
    "\n",
    "colors = [light_blue, teal, green, yellow]\n",
    "data = pd.DataFrame(timing_dict.values(), index = timing_dict.keys())\n",
    "data = data.sort_values(0)\n",
    "\n",
    "hfont = {'fontname':'Arial', 'size':10}\n",
    "plt.figure(figsize=(2.363,2.363)) #60x60\n",
    "\n",
    "\n",
    "python_time = timing_dict['python']/60/60\n",
    "text = [f'Python ({python_time:.1f} h)', f\"Numba ({timing_dict['numba']:.1f} s)\", f\"Cuda ({timing_dict['cuda']:.1f} s)\", f\"Numba, threaded ({timing_dict['numba-multithread']:.1f} s)\"]\n",
    "\n",
    "height=0.5\n",
    "\n",
    "for i in range(len(data)): \n",
    "    t = data.iloc[i][0]\n",
    "    plt.barh(i, t, height, color = colors[i], linewidth=1, edgecolor='black')\n",
    "    \n",
    "    if i == 3:\n",
    "        plt.text(t/1000, i, text[::-1][i], **hfont, va='center')\n",
    "    else:\n",
    "        plt.text(t*1.2, i, text[::-1][i], **hfont, va='center')\n",
    "\n",
    "plt.yticks(range(len(data)), data.index, **hfont)\n",
    "plt.xticks(**hfont)\n",
    "\n",
    "plt.xscale('log')\n",
    "plt.xlim([0, 100000])\n",
    "plt.xlabel('Time (seconds)', **hfont)\n",
    "\n",
    "ax = plt.gca()\n",
    "ax.set_yticklabels([])\n",
    "plt.xticks([1e1, 1e2 , 1e3, 1e4, 1e5])\n",
    "\n",
    "plt.tight_layout()\n",
    "plt.savefig('./figures/04_search.pdf')  \n",
    "plt.show()"
   ]
  }
 ],
 "metadata": {
  "kernelspec": {
   "display_name": "Python [conda env:.conda-alphapept] *",
   "language": "python",
   "name": "conda-env-.conda-alphapept-py"
  },
  "language_info": {
   "codemirror_mode": {
    "name": "ipython",
    "version": 3
   },
   "file_extension": ".py",
   "mimetype": "text/x-python",
   "name": "python",
   "nbconvert_exporter": "python",
   "pygments_lexer": "ipython3",
   "version": "3.8.10"
  },
  "toc": {
   "base_numbering": 1,
   "nav_menu": {},
   "number_sections": true,
   "sideBar": true,
   "skip_h1_title": false,
   "title_cell": "Table of Contents",
   "title_sidebar": "Contents",
   "toc_cell": false,
   "toc_position": {},
   "toc_section_display": true,
   "toc_window_display": false
  }
 },
 "nbformat": 4,
 "nbformat_minor": 5
}
