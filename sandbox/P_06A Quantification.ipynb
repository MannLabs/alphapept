{
 "cells": [
  {
   "cell_type": "markdown",
   "id": "4d1bcb4c",
   "metadata": {},
   "source": [
    "# Paper Figure 6: Quantification\n",
    "\n",
    "Additional run \n"
   ]
  },
  {
   "cell_type": "code",
   "execution_count": 1,
   "id": "fca27d35",
   "metadata": {},
   "outputs": [],
   "source": [
    "import os\n",
    "from test_files import get_files, prepare_test\n",
    "\n",
    "tmp_folder = os.path.join(os.getcwd(),'temp/')\n",
    "test_folder = 'fig6'"
   ]
  },
  {
   "cell_type": "code",
   "execution_count": 56,
   "id": "ca30730e",
   "metadata": {},
   "outputs": [],
   "source": [
    "import pandas as pd\n",
    "ref = pd.read_hdf('E:/benchmark/PXD006109/Shotgun/results.hdf', 'protein_table')"
   ]
  },
  {
   "cell_type": "code",
   "execution_count": 57,
   "id": "a5977dd3",
   "metadata": {},
   "outputs": [],
   "source": [
    "species = []\n",
    "for _ in ref.index:\n",
    "    \n",
    "    if 'HUM' in _:\n",
    "        species.append('Homo sapiens')\n",
    "        \n",
    "    elif 'ECO' in _:\n",
    "        species.append('Escherichia coli')\n",
    "        \n",
    "    else:\n",
    "        species.append('X')"
   ]
  },
  {
   "cell_type": "code",
   "execution_count": 58,
   "id": "a49e80f0",
   "metadata": {},
   "outputs": [],
   "source": [
    "import numpy as np\n",
    "ref['Species'] = species\n",
    "df_= ref.copy()\n",
    "ds = [_ for _ in df_.columns if '_LFQ' in _]\n",
    "base_columns = [_ for _ in ds if 'HeLa2' in _]\n",
    "ratio_columns = [_ for _ in ds if 'HeLa12' in _]\n",
    "to_plot = pd.DataFrame()\n",
    "to_plot['Species'] = df_['Species']\n",
    "to_plot['base'] = df_[base_columns].median(axis=1)\n",
    "to_plot['ratio'] = df_[ratio_columns].median(axis=1)\n",
    "to_plot['base_cnt'] = df_[base_columns].notna().sum(axis=1)\n",
    "to_plot['ratio_cnt'] = df_[ratio_columns].notna().sum(axis=1)\n",
    "to_plot['ratio_'] = np.log2(to_plot['base'] / to_plot['ratio'])\n",
    "to_plot['sum_'] = np.log2(to_plot['ratio'])\n",
    "valid_ap = to_plot.query(f'ratio_cnt >= 2 and base_cnt >=2')"
   ]
  },
  {
   "cell_type": "code",
   "execution_count": 59,
   "id": "c4241d93",
   "metadata": {},
   "outputs": [],
   "source": [
    "def get_species(valid):\n",
    "\n",
    "    homo = valid[valid['Species'] == 'Homo sapiens']\n",
    "    e_coli = valid[valid['Species'] == 'Escherichia coli']\n",
    "    \n",
    "    return homo, e_coli"
   ]
  },
  {
   "cell_type": "code",
   "execution_count": 60,
   "id": "b27b5aa9",
   "metadata": {},
   "outputs": [],
   "source": [
    "homo_mq, e_coli_mq = get_species(valid_ap)"
   ]
  },
  {
   "cell_type": "code",
   "execution_count": 61,
   "id": "44b21939",
   "metadata": {},
   "outputs": [
    {
     "name": "stdout",
     "output_type": "stream",
     "text": [
      "Homo 0.27\n",
      "Ecoli 0.46\n"
     ]
    },
    {
     "data": {
      "image/png": "[encoded data removed]",
      "text/plain": [
       "<Figure size 170.136x170.136 with 1 Axes>"
      ]
     },
     "metadata": {
      "needs_background": "light"
     },
     "output_type": "display_data"
    }
   ],
   "source": [
    "from matplotlib.ticker import FormatStrFormatter\n",
    "import matplotlib.pyplot as plt\n",
    "\n",
    "hfont = {'fontname':'Arial', 'size':10}\n",
    "\n",
    "dark_blue = '#17212b'\n",
    "light_blue = '#3dc5ef'\n",
    "teal= '#42dee1'\n",
    "green = '#6eecb9'\n",
    "yellow = '#eef5b3'\n",
    "\n",
    "plt.figure(figsize=(2.363,2.363)) #60x60\n",
    "plt.plot(homo_mq['ratio_'], homo_mq['sum_'], '.', alpha=0.5, color = light_blue, markersize=1)\n",
    "plt.plot(e_coli_mq['ratio_'], e_coli_mq['sum_'], '.', alpha=0.5, color = dark_blue, markersize=1)\n",
    "\n",
    "mean_ = homo_mq['ratio_'].mean()\n",
    "std_ = homo_mq['ratio_'].std()\n",
    "plt.axvline(mean_, color = 'k', linewidth=0.5)\n",
    "plt.axvline(mean_+std_, linestyle=':', color='k', linewidth=0.5)\n",
    "plt.axvline(mean_-std_,  linestyle=':', color='k', linewidth=0.5)\n",
    "\n",
    "print(f'Homo {std_:.2f}')\n",
    "plt.text(-2.5, 34, f'Homo \\n{len(homo_mq):,}\\nStd \\n{std_:.2f}', **hfont)\n",
    "\n",
    "mean_ = e_coli_mq['ratio_'].mean()\n",
    "std_ = e_coli_mq['ratio_'].std()\n",
    "plt.axvline(mean_, color = 'k', linewidth=0.5)\n",
    "plt.axvline(mean_+std_, linestyle=':', color='k', linewidth=0.5)\n",
    "plt.axvline(mean_-std_,  linestyle=':', color='k', linewidth=0.5)\n",
    "\n",
    "print(f'Ecoli {std_:.2f}')\n",
    "\n",
    "plt.text(2.5, 34, f'E. coli\\n{len(e_coli_mq):,} \\nStd \\n{std_:.2f}', **hfont)\n",
    "\n",
    "plt.xlim([-3, 5])\n",
    "plt.ylim([25, 40])\n",
    "ax = plt.gca()\n",
    "\n",
    "ax.yaxis.set_major_formatter(FormatStrFormatter('%.0f'))\n",
    "plt.xlabel('Ratio', **hfont)\n",
    "plt.ylabel('Sum', **hfont)\n",
    "plt.title('AlphaPept LFQ', **hfont)\n",
    "plt.tight_layout()\n",
    "plt.xticks([-3,-2,-1,0,1,2,3,4,5])\n",
    "plt.savefig('figures/06_ap_full.pdf')\n",
    "plt.show()"
   ]
  },
  {
   "cell_type": "code",
   "execution_count": null,
   "id": "b5c9358a",
   "metadata": {},
   "outputs": [],
   "source": []
  }
 ],
 "metadata": {
  "kernelspec": {
   "display_name": "Python [conda env:.conda-alphapept] *",
   "language": "python",
   "name": "conda-env-.conda-alphapept-py"
  },
  "language_info": {
   "codemirror_mode": {
    "name": "ipython",
    "version": 3
   },
   "file_extension": ".py",
   "mimetype": "text/x-python",
   "name": "python",
   "nbconvert_exporter": "python",
   "pygments_lexer": "ipython3",
   "version": "3.8.8"
  },
  "toc": {
   "base_numbering": 1,
   "nav_menu": {},
   "number_sections": true,
   "sideBar": true,
   "skip_h1_title": false,
   "title_cell": "Table of Contents",
   "title_sidebar": "Contents",
   "toc_cell": false,
   "toc_position": {},
   "toc_section_display": true,
   "toc_window_display": false
  }
 },
 "nbformat": 4,
 "nbformat_minor": 5
}
