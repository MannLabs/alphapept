{
 "cells": [
  {
   "cell_type": "markdown",
   "id": "4d1bcb4c",
   "metadata": {},
   "source": [
    "# Paper Figure 6: Quantification\n",
    "\n"
   ]
  },
  {
   "cell_type": "code",
   "execution_count": 1,
   "id": "fca27d35",
   "metadata": {},
   "outputs": [],
   "source": [
    "import os\n",
    "from test_files import get_files, prepare_test\n",
    "\n",
    "tmp_folder = os.path.join(os.getcwd(),'temp/')\n",
    "test_folder = 'fig6'"
   ]
  },
  {
   "cell_type": "code",
   "execution_count": 2,
   "id": "ba5e2883",
   "metadata": {},
   "outputs": [
    {
     "name": "stdout",
     "output_type": "stream",
     "text": [
      "Creating dir F:\\alphapept\\sandbox\\temp/fig6.\n"
     ]
    }
   ],
   "source": [
    "files = []\n",
    "get_files(tmp_folder, files)\n",
    "prepare_test(files, tmp_folder, test_folder)"
   ]
  },
  {
   "cell_type": "code",
   "execution_count": 3,
   "id": "bb1f5700",
   "metadata": {},
   "outputs": [],
   "source": [
    "evidence_path = 'F:/alphapept/external_test_files/PXD006109/evidence.txt'\n",
    "protein_group_path = 'F:/alphapept/external_test_files/PXD006109/proteinGroups.txt'"
   ]
  },
  {
   "cell_type": "code",
   "execution_count": null,
   "id": "5886da4f",
   "metadata": {},
   "outputs": [
    {
     "name": "stderr",
     "output_type": "stream",
     "text": [
      "C:\\Users\\admin\\.conda\\envs\\alphapept\\lib\\site-packages\\IPython\\core\\interactiveshell.py:3361: DtypeWarning: Columns (52,53,61) have mixed types.Specify dtype option on import or set low_memory=False.\n",
      "  if (await self.run_code(code, result,  async_=asy)):\n",
      "C:\\Users\\admin\\.conda\\envs\\alphapept\\lib\\site-packages\\IPython\\core\\interactiveshell.py:3361: DtypeWarning: Columns (120,121) have mixed types.Specify dtype option on import or set low_memory=False.\n",
      "  if (await self.run_code(code, result,  async_=asy)):\n"
     ]
    }
   ],
   "source": [
    "from alphapept.quantification import protein_profile_parallel_mq\n",
    "import test_helper\n",
    "import pandas as pd\n",
    "\n",
    "pt = protein_profile_parallel_mq(evidence_path, protein_group_path)"
   ]
  },
  {
   "cell_type": "code",
   "execution_count": null,
   "id": "99c67d12",
   "metadata": {},
   "outputs": [],
   "source": [
    "import numpy as np\n",
    "df_ = pt.copy()\n",
    "\n",
    "ds = [_ for _ in df_.columns if 'LFQ' in _]\n",
    "base_columns = [_ for _ in ds if 'HeLa2' in _]\n",
    "ratio_columns = [_ for _ in ds if 'HeLa12' in _]   \n",
    "to_plot = pd.DataFrame()\n",
    "ref[base_columns] = df_[base_columns].replace(0, np.nan)\n",
    "ref[ratio_columns] = df_[ratio_columns].replace(0, np.nan)\n",
    "to_plot['Species'] = df_['Species']\n",
    "to_plot['base'] = df_[base_columns].median(axis=1)\n",
    "to_plot['ratio'] = df_[ratio_columns].median(axis=1)\n",
    "to_plot['base_cnt'] = df_[base_columns].notna().sum(axis=1)\n",
    "to_plot['ratio_cnt'] = df_[ratio_columns].notna().sum(axis=1)\n",
    "to_plot['ratio_'] = np.log2(to_plot['base'] / to_plot['ratio'])\n",
    "to_plot['sum_'] = np.log2(to_plot['ratio'])\n",
    "valid_ap = to_plot.query(f'ratio_cnt >= 2 and base_cnt >=2')"
   ]
  },
  {
   "cell_type": "code",
   "execution_count": null,
   "id": "61d54833",
   "metadata": {},
   "outputs": [],
   "source": [
    "df_= ref.copy()\n",
    "ds = [_ for _ in df_.columns if 'LFQ intensity' in _]\n",
    "base_columns = [_ for _ in ds if '02' in _]\n",
    "ratio_columns = [_ for _ in ds if '12' in _]\n",
    "to_plot = pd.DataFrame()\n",
    "ref[base_columns] = df_[base_columns].replace(0, np.nan)\n",
    "ref[ratio_columns] = df_[ratio_columns].replace(0, np.nan)\n",
    "to_plot['Species'] = df_['Species']\n",
    "to_plot['base'] = df_[base_columns].median(axis=1)\n",
    "to_plot['ratio'] = df_[ratio_columns].median(axis=1)\n",
    "to_plot['base_cnt'] = df_[base_columns].notna().sum(axis=1)\n",
    "to_plot['ratio_cnt'] = df_[ratio_columns].notna().sum(axis=1)\n",
    "to_plot['ratio_'] = np.log2(to_plot['base'] / to_plot['ratio'])\n",
    "to_plot['sum_'] = np.log2(to_plot['ratio'])\n",
    "valid_mq = to_plot.query(f'ratio_cnt >= 2 and base_cnt >=2')"
   ]
  },
  {
   "cell_type": "code",
   "execution_count": null,
   "id": "c4241d93",
   "metadata": {},
   "outputs": [],
   "source": [
    "def get_species(valid):\n",
    "\n",
    "    homo = valid[valid['Species'] == 'Homo sapiens']\n",
    "    e_coli = valid[valid['Species'] == 'Escherichia coli']\n",
    "    \n",
    "    return homo, e_coli"
   ]
  },
  {
   "cell_type": "code",
   "execution_count": null,
   "id": "b27b5aa9",
   "metadata": {},
   "outputs": [],
   "source": [
    "homo_mq, e_coli_mq = get_species(valid_mq)\n",
    "homo_ap, e_coli_ap = get_species(valid_ap)"
   ]
  },
  {
   "cell_type": "code",
   "execution_count": null,
   "id": "19180f82",
   "metadata": {},
   "outputs": [],
   "source": [
    "from matplotlib.ticker import FormatStrFormatter\n",
    "\n",
    "hfont = {'fontname':'Arial', 'size':10}\n",
    "\n",
    "dark_blue = '#17212b'\n",
    "light_blue = '#3dc5ef'\n",
    "teal= '#42dee1'\n",
    "green = '#6eecb9'\n",
    "yellow = '#eef5b3'\n",
    "\n",
    "plt.figure(figsize=(2.363,2.363)) #60x60\n",
    "plt.plot(homo_mq['ratio_'], homo_mq['sum_'], '.', alpha=0.5, color = light_blue, markersize=1)\n",
    "plt.plot(e_coli_mq['ratio_'], e_coli_mq['sum_'], '.', alpha=0.5, color = dark_blue, markersize=1)\n",
    "\n",
    "mean_ = homo_mq['ratio_'].mean()\n",
    "std_ = homo_mq['ratio_'].std()\n",
    "plt.axvline(mean_, color = 'k', linewidth=0.5)\n",
    "plt.axvline(mean_+std_, linestyle=':', color='k', linewidth=0.5)\n",
    "plt.axvline(mean_-std_,  linestyle=':', color='k', linewidth=0.5)\n",
    "\n",
    "print(f'Homo {std_:.2f}')\n",
    "plt.text(-2.5, 34, f'Homo \\nStd \\n{std_:.2f}', **hfont)\n",
    "\n",
    "mean_ = e_coli_mq['ratio_'].mean()\n",
    "std_ = e_coli_mq['ratio_'].std()\n",
    "plt.axvline(mean_, color = 'k', linewidth=0.5)\n",
    "plt.axvline(mean_+std_, linestyle=':', color='k', linewidth=0.5)\n",
    "plt.axvline(mean_-std_,  linestyle=':', color='k', linewidth=0.5)\n",
    "\n",
    "print(f'Ecoli {std_:.2f}')\n",
    "\n",
    "plt.text(2.5, 34, f'E. coli \\nStd \\n{std_:.2f}', **hfont)\n",
    "\n",
    "plt.xlim([-3, 5])\n",
    "plt.ylim([20, 40])\n",
    "\n",
    "ax.yaxis.set_major_formatter(FormatStrFormatter('%.0f'))\n",
    "plt.xlabel('Ratio', **hfont)\n",
    "plt.ylabel('Sum', **hfont)\n",
    "plt.title('MaxQuant LFQ', **hfont)\n",
    "plt.tight_layout()\n",
    "plt.xticks([-3,-2,-1,0,1,2,3,4,5])\n",
    "plt.savefig('p_05_mq.pdf')\n",
    "plt.show()\n",
    "\n",
    "plt.figure(figsize=(2.363,2.363)) #60x60\n",
    "plt.plot(homo_ap['ratio_'], homo_ap['sum_'], '.', alpha=0.5, color = light_blue, markersize=1)\n",
    "plt.plot(e_coli_ap['ratio_'], e_coli_ap['sum_'], '.', alpha=0.5, color = dark_blue, markersize=1)\n",
    "\n",
    "\n",
    "\n",
    "mean_ = homo_ap['ratio_'].mean()\n",
    "std_ = homo_ap['ratio_'].std()\n",
    "plt.axvline(mean_, color = 'k', linewidth=0.5)\n",
    "plt.axvline(mean_+std_, linestyle=':', color='k', linewidth=0.5)\n",
    "plt.axvline(mean_-std_,  linestyle=':', color='k', linewidth=0.5)\n",
    "\n",
    "plt.text(-2.5, 34, f'Homo \\nStd \\n{std_:.2f}', **hfont)\n",
    "\n",
    "print(f'Std {std_:.2f}')\n",
    "\n",
    "mean_ = e_coli_ap['ratio_'].mean()\n",
    "std_ = e_coli_ap['ratio_'].std()\n",
    "plt.axvline(mean_, color = 'k', linewidth=0.5)\n",
    "plt.axvline(mean_+std_, linestyle=':', color='k', linewidth=0.5)\n",
    "plt.axvline(mean_-std_,  linestyle=':', color='k', linewidth=0.5)\n",
    "\n",
    "print(f'Ecoli {std_:.2f}')\n",
    "\n",
    "plt.text(2.5, 34, f'E. coli \\nStd \\n{std_:.2f}', **hfont)\n",
    "\n",
    "\n",
    "plt.xlim([-3, 5])\n",
    "plt.ylim([20, 40])\n",
    "\n",
    "ax.yaxis.set_major_formatter(FormatStrFormatter('%.0f'))\n",
    "plt.xlabel('Ratio', **hfont)\n",
    "plt.ylabel('Sum', **hfont)\n",
    "plt.title('AlphaPept LFQ', **hfont)\n",
    "plt.tight_layout()\n",
    "plt.xticks([-3,-2,-1,0,1,2,3,4,5])\n",
    "plt.savefig('p_05_ap.pdf')\n",
    "plt.show()"
   ]
  },
  {
   "cell_type": "code",
   "execution_count": null,
   "id": "f384ff0c",
   "metadata": {},
   "outputs": [],
   "source": [
    "from itertools import combinations\n",
    "from numba.typed import List\n",
    "\n",
    "import alphapept.quantification\n",
    "\n",
    "n_sequences = 10\n",
    "n_samples = 6\n",
    "\n",
    "column_combinations = List()\n",
    "[column_combinations.append(_) for _ in combinations(range(n_samples), 2)]\n",
    "\n",
    "methods = {'L-FBGS-B':alphapept.quantification.solve_profile_LFBGSB, 'SLSQP':alphapept.quantification.solve_profile_SLSQP, 'trf':alphapept.quantification.solve_profile_trf}\n",
    "results = []\n",
    "\n",
    "for run in range(20):\n",
    "    signal, sample, ground_truth = alphapept.quantification.generate_dummy_data(n_sequences, n_samples)\n",
    "    ratios = alphapept.quantification.get_protein_ratios(signal.values, column_combinations)\n",
    "\n",
    "    for method in methods.keys():\n",
    "        error = False\n",
    "        start = time()\n",
    "        try:\n",
    "            solution, success = methods[method](ratios)\n",
    "            mape = np.mean(np.abs((solution-ground_truth)/ground_truth))\n",
    "        except:\n",
    "            error = True\n",
    "            mape = np.nan\n",
    "            \n",
    "        \n",
    "        end = time()\n",
    "\n",
    "        time_elapsed_s = (end-start)\n",
    "\n",
    "        results.append((method, time_elapsed_s, mape, error, success))\n",
    "    \n",
    "result_df = pd.DataFrame(results, columns=['Method', 'Time Elapsed (s)', 'Mean absolute percentage error', 'Errors', 'Success'])\n",
    "\n",
    "result_df.groupby('Method').mean()"
   ]
  },
  {
   "cell_type": "code",
   "execution_count": null,
   "id": "80145e61",
   "metadata": {},
   "outputs": [],
   "source": []
  }
 ],
 "metadata": {
  "kernelspec": {
   "display_name": "Python [conda env:.conda-alphapept] *",
   "language": "python",
   "name": "conda-env-.conda-alphapept-py"
  },
  "language_info": {
   "codemirror_mode": {
    "name": "ipython",
    "version": 3
   },
   "file_extension": ".py",
   "mimetype": "text/x-python",
   "name": "python",
   "nbconvert_exporter": "python",
   "pygments_lexer": "ipython3",
   "version": "3.8.8"
  },
  "toc": {
   "base_numbering": 1,
   "nav_menu": {},
   "number_sections": true,
   "sideBar": true,
   "skip_h1_title": false,
   "title_cell": "Table of Contents",
   "title_sidebar": "Contents",
   "toc_cell": false,
   "toc_position": {},
   "toc_section_display": true,
   "toc_window_display": false
  }
 },
 "nbformat": 4,
 "nbformat_minor": 5
}
