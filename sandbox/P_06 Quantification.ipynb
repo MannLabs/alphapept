{
 "cells": [
  {
   "cell_type": "markdown",
   "id": "4d1bcb4c",
   "metadata": {},
   "source": [
    "# Paper Figure 6: Quantification\n",
    "\n"
   ]
  },
  {
   "cell_type": "code",
   "execution_count": 1,
   "id": "fca27d35",
   "metadata": {},
   "outputs": [],
   "source": [
    "import os\n",
    "from test_files import get_files, prepare_test\n",
    "\n",
    "tmp_folder = os.path.join(os.getcwd(),'temp/')\n",
    "test_folder = 'fig6'"
   ]
  },
  {
   "cell_type": "code",
   "execution_count": 2,
   "id": "ba5e2883",
   "metadata": {},
   "outputs": [
    {
     "name": "stdout",
     "output_type": "stream",
     "text": [
      "Creating dir F:\\alphapept\\sandbox\\temp/fig6.\n"
     ]
    }
   ],
   "source": [
    "files = []\n",
    "get_files(tmp_folder, files)\n",
    "prepare_test(files, tmp_folder, test_folder)"
   ]
  },
  {
   "cell_type": "code",
   "execution_count": 3,
   "id": "bb1f5700",
   "metadata": {},
   "outputs": [],
   "source": [
    "evidence_path = 'F:/alphapept/external_test_files/PXD006109/evidence.txt'\n",
    "protein_group_path = 'F:/alphapept/external_test_files/PXD006109/proteinGroups.txt'"
   ]
  },
  {
   "cell_type": "code",
   "execution_count": 4,
   "id": "5886da4f",
   "metadata": {},
   "outputs": [
    {
     "name": "stderr",
     "output_type": "stream",
     "text": [
      "C:\\Users\\admin\\.conda\\envs\\alphapept\\lib\\site-packages\\IPython\\core\\interactiveshell.py:3361: DtypeWarning: Columns (52,53,61) have mixed types.Specify dtype option on import or set low_memory=False.\n",
      "  if (await self.run_code(code, result,  async_=asy)):\n",
      "C:\\Users\\admin\\.conda\\envs\\alphapept\\lib\\site-packages\\IPython\\core\\interactiveshell.py:3361: DtypeWarning: Columns (120,121) have mixed types.Specify dtype option on import or set low_memory=False.\n",
      "  if (await self.run_code(code, result,  async_=asy)):\n",
      "C:\\Users\\admin\\.conda\\envs\\alphapept\\lib\\site-packages\\scipy\\optimize\\optimize.py:282: RuntimeWarning: Values in x were outside bounds during a minimize step, clipping to bounds\n",
      "  warnings.warn(\"Values in x were outside bounds during a \"\n",
      "C:\\Users\\admin\\.conda\\envs\\alphapept\\lib\\site-packages\\IPython\\core\\interactiveshell.py:3169: DtypeWarning: Columns (120,121) have mixed types.Specify dtype option on import or set low_memory=False.\n",
      "  has_raised = await self.run_ast_nodes(code_ast.body, cell_name,\n"
     ]
    }
   ],
   "source": [
    "from alphapept.quantification import protein_profile_parallel_mq\n",
    "import test_helper\n",
    "import pandas as pd\n",
    "import numpy as np\n",
    "\n",
    "pt = protein_profile_parallel_mq(evidence_path, protein_group_path)\n",
    "\n",
    "ref = pd.read_csv(protein_group_path, sep='\\t')\n",
    "\n",
    "ref = ref.replace(0, np.nan)"
   ]
  },
  {
   "cell_type": "code",
   "execution_count": 5,
   "id": "61d54833",
   "metadata": {},
   "outputs": [],
   "source": [
    "df_= ref.copy()\n",
    "ds = [_ for _ in df_.columns if 'LFQ intensity' in _]\n",
    "base_columns = [_ for _ in ds if '02' in _]\n",
    "ratio_columns = [_ for _ in ds if '12' in _]\n",
    "to_plot = pd.DataFrame()\n",
    "to_plot['Species'] = df_['Species']\n",
    "to_plot['base'] = df_[base_columns].median(axis=1)\n",
    "to_plot['ratio'] = df_[ratio_columns].median(axis=1)\n",
    "to_plot['base_cnt'] = df_[base_columns].notna().sum(axis=1)\n",
    "to_plot['ratio_cnt'] = df_[ratio_columns].notna().sum(axis=1)\n",
    "to_plot['ratio_'] = np.log2(to_plot['base'] / to_plot['ratio'])\n",
    "to_plot['sum_'] = np.log2(to_plot['ratio'])\n",
    "valid_mq = to_plot.query(f'ratio_cnt >= 2 and base_cnt >=2')"
   ]
  },
  {
   "cell_type": "code",
   "execution_count": 6,
   "id": "fc88fa7b",
   "metadata": {},
   "outputs": [],
   "source": [
    "lookup_dict = dict(zip(ref['Protein IDs'].values, ref['Species'].values))"
   ]
  },
  {
   "cell_type": "code",
   "execution_count": 7,
   "id": "8ba647cd",
   "metadata": {},
   "outputs": [],
   "source": [
    "import numpy as np\n",
    "df_ = pt.copy()\n",
    "df_['Species'] = [lookup_dict[_] for _ in df_.index]\n",
    "\n",
    "ds = [_ for _ in df_.columns if 'LFQ' in _]\n",
    "base_columns = [_ for _ in ds if 'HeLa2' in _]\n",
    "ratio_columns = [_ for _ in ds if 'HeLa12' in _]   \n",
    "to_plot = pd.DataFrame()\n",
    "to_plot['Species'] = df_['Species']\n",
    "to_plot['base'] = df_[base_columns].median(axis=1)\n",
    "to_plot['ratio'] = df_[ratio_columns].median(axis=1)\n",
    "to_plot['base_cnt'] = df_[base_columns].notna().sum(axis=1)\n",
    "to_plot['ratio_cnt'] = df_[ratio_columns].notna().sum(axis=1)\n",
    "to_plot['ratio_'] = np.log2(to_plot['base'] / to_plot['ratio'])\n",
    "to_plot['sum_'] = np.log2(to_plot['ratio'])\n",
    "valid_ap = to_plot.query(f'ratio_cnt >= 2 and base_cnt >=2')"
   ]
  },
  {
   "cell_type": "code",
   "execution_count": 8,
   "id": "c4241d93",
   "metadata": {},
   "outputs": [],
   "source": [
    "def get_species(valid):\n",
    "\n",
    "    homo = valid[valid['Species'] == 'Homo sapiens']\n",
    "    e_coli = valid[valid['Species'] == 'Escherichia coli']\n",
    "    \n",
    "    return homo, e_coli"
   ]
  },
  {
   "cell_type": "code",
   "execution_count": 9,
   "id": "b27b5aa9",
   "metadata": {},
   "outputs": [],
   "source": [
    "homo_mq, e_coli_mq = get_species(valid_mq)\n",
    "homo_ap, e_coli_ap = get_species(valid_ap)"
   ]
  },
  {
   "cell_type": "code",
   "execution_count": 14,
   "id": "44b21939",
   "metadata": {},
   "outputs": [
    {
     "name": "stdout",
     "output_type": "stream",
     "text": [
      "Homo 0.32\n",
      "Ecoli 0.65\n"
     ]
    },
    {
     "data": {
      "image/png": "[encoded data removed]",
      "text/plain": [
       "<Figure size 170.136x170.136 with 1 Axes>"
      ]
     },
     "metadata": {
      "needs_background": "light"
     },
     "output_type": "display_data"
    }
   ],
   "source": [
    "from matplotlib.ticker import FormatStrFormatter\n",
    "import matplotlib.pyplot as plt\n",
    "\n",
    "hfont = {'fontname':'Arial', 'size':10}\n",
    "\n",
    "dark_blue = '#17212b'\n",
    "light_blue = '#3dc5ef'\n",
    "teal= '#42dee1'\n",
    "green = '#6eecb9'\n",
    "yellow = '#eef5b3'\n",
    "\n",
    "plt.figure(figsize=(2.363,2.363)) #60x60\n",
    "plt.plot(homo_mq['ratio_'], homo_mq['sum_'], '.', alpha=0.5, color = light_blue, markersize=1)\n",
    "plt.plot(e_coli_mq['ratio_'], e_coli_mq['sum_'], '.', alpha=0.5, color = dark_blue, markersize=1)\n",
    "\n",
    "mean_ = homo_mq['ratio_'].mean()\n",
    "std_ = homo_mq['ratio_'].std()\n",
    "plt.axvline(mean_, color = 'k', linewidth=0.5)\n",
    "plt.axvline(mean_+std_, linestyle=':', color='k', linewidth=0.5)\n",
    "plt.axvline(mean_-std_,  linestyle=':', color='k', linewidth=0.5)\n",
    "\n",
    "print(f'Homo {std_:.2f}')\n",
    "plt.text(-2.5, 34, f'Homo \\nStd \\n{std_:.2f}', **hfont)\n",
    "\n",
    "mean_ = e_coli_mq['ratio_'].mean()\n",
    "std_ = e_coli_mq['ratio_'].std()\n",
    "plt.axvline(mean_, color = 'k', linewidth=0.5)\n",
    "plt.axvline(mean_+std_, linestyle=':', color='k', linewidth=0.5)\n",
    "plt.axvline(mean_-std_,  linestyle=':', color='k', linewidth=0.5)\n",
    "\n",
    "print(f'Ecoli {std_:.2f}')\n",
    "\n",
    "plt.text(2.5, 34, f'E. coli \\nStd \\n{std_:.2f}', **hfont)\n",
    "\n",
    "plt.xlim([-3, 5])\n",
    "plt.ylim([20, 40])\n",
    "ax = plt.gca()\n",
    "\n",
    "ax.yaxis.set_major_formatter(FormatStrFormatter('%.0f'))\n",
    "plt.xlabel('Ratio', **hfont)\n",
    "plt.ylabel('Sum', **hfont)\n",
    "plt.title('MaxQuant LFQ', **hfont)\n",
    "plt.tight_layout()\n",
    "plt.xticks([-3,-2,-1,0,1,2,3,4,5])\n",
    "plt.savefig('figures/06_mq.pdf')\n",
    "plt.show()"
   ]
  },
  {
   "cell_type": "code",
   "execution_count": 15,
   "id": "19180f82",
   "metadata": {},
   "outputs": [
    {
     "name": "stdout",
     "output_type": "stream",
     "text": [
      "Std 0.31\n",
      "Ecoli 0.53\n"
     ]
    },
    {
     "data": {
      "image/png": "[encoded data removed]",
      "text/plain": [
       "<Figure size 170.136x170.136 with 1 Axes>"
      ]
     },
     "metadata": {
      "needs_background": "light"
     },
     "output_type": "display_data"
    }
   ],
   "source": [
    "plt.figure(figsize=(2.363,2.363)) #60x60\n",
    "plt.plot(homo_ap['ratio_'], homo_ap['sum_'], '.', alpha=0.5, color = light_blue, markersize=1)\n",
    "plt.plot(e_coli_ap['ratio_'], e_coli_ap['sum_'], '.', alpha=0.5, color = dark_blue, markersize=1)\n",
    "\n",
    "mean_ = homo_ap['ratio_'].mean()\n",
    "std_ = homo_ap['ratio_'].std()\n",
    "plt.axvline(mean_, color = 'k', linewidth=0.5)\n",
    "plt.axvline(mean_+std_, linestyle=':', color='k', linewidth=0.5)\n",
    "plt.axvline(mean_-std_,  linestyle=':', color='k', linewidth=0.5)\n",
    "\n",
    "plt.text(-2.5, 34, f'Homo \\nStd \\n{std_:.2f}', **hfont)\n",
    "\n",
    "print(f'Std {std_:.2f}')\n",
    "\n",
    "mean_ = e_coli_ap['ratio_'].mean()\n",
    "std_ = e_coli_ap['ratio_'].std()\n",
    "plt.axvline(mean_, color = 'k', linewidth=0.5)\n",
    "plt.axvline(mean_+std_, linestyle=':', color='k', linewidth=0.5)\n",
    "plt.axvline(mean_-std_,  linestyle=':', color='k', linewidth=0.5)\n",
    "\n",
    "print(f'Ecoli {std_:.2f}')\n",
    "\n",
    "plt.text(2.5, 34, f'E. coli \\nStd \\n{std_:.2f}', **hfont)\n",
    "\n",
    "\n",
    "plt.xlim([-3, 5])\n",
    "plt.ylim([20, 40])\n",
    "ax = plt.gca()\n",
    "\n",
    "ax.yaxis.set_major_formatter(FormatStrFormatter('%.0f'))\n",
    "plt.xlabel('Ratio', **hfont)\n",
    "plt.ylabel('Sum', **hfont)\n",
    "plt.title('AlphaPept LFQ', **hfont)\n",
    "plt.tight_layout()\n",
    "plt.xticks([-3,-2,-1,0,1,2,3,4,5])\n",
    "plt.savefig('figures/06_ap.pdf')\n",
    "plt.show()"
   ]
  },
  {
   "cell_type": "code",
   "execution_count": null,
   "id": "decf4ed9",
   "metadata": {},
   "outputs": [],
   "source": [
    "import alphapept.quantification\n",
    "from tqdm import tqdm as tqdm\n",
    "import numpy as np\n",
    "import pandas as pd\n",
    "\n",
    "from itertools import combinations\n",
    "from numba.typed import List\n",
    "from time import time\n",
    "from tqdm import tqdm\n",
    "\n",
    "import alphapept.quantification\n",
    "\n",
    "n_samples = 20\n",
    "\n",
    "column_combinations = List()\n",
    "[column_combinations.append(_) for _ in combinations(range(n_samples), 2)]\n",
    "\n",
    "\n",
    "\n",
    "results = []\n",
    "for run in tqdm(range(200)):\n",
    "    for n_sequences in range(2,20):\n",
    "    \n",
    "        signal, sample, ground_truth = alphapept.quantification.generate_dummy_data(n_sequences, n_samples)\n",
    "        ratios = alphapept.quantification.get_protein_ratios(signal.values, column_combinations)\n",
    "\n",
    "        for method in ['L-BFGS-B', 'SLSQP', 'Powell','trf']:\n",
    "            error = False\n",
    "            start = time()\n",
    "            \n",
    "            try:\n",
    "                solution, success = alphapept.quantification.solve_profile(ratios, method)\n",
    "                \n",
    "                if not success:\n",
    "                    solution = np.zeros(ratios.shape[0])\n",
    "            except Exception as e:\n",
    "                print(e)\n",
    "                error = True\n",
    "                solution = np.zeros(ratios.shape[0])\n",
    "               \n",
    "            mape = np.mean(np.abs((solution-ground_truth)/ground_truth))\n",
    "                    \n",
    "            end = time()\n",
    "\n",
    "            time_elapsed_s = (end-start)\n",
    "\n",
    "            results.append((method, time_elapsed_s, mape, error, success, n_sequences, run))\n",
    "    \n",
    "result_df = pd.DataFrame(results, columns=['Method', 'Time Elapsed (s)', 'Mean absolute percentage error', 'Errors', 'Success', 'Sequences', 'Run'])\n"
   ]
  },
  {
   "cell_type": "code",
   "execution_count": null,
   "id": "ffc03aeb",
   "metadata": {},
   "outputs": [],
   "source": [
    "result_df['Error relative to mean'] = result_df['Mean absolute percentage error'] / result_df.groupby(['Sequences','Run'])['Mean absolute percentage error'].transform(np.mean)\n",
    "result_df_ = result_df[result_df[\"Success\"]]\n",
    "\n",
    "grouped_mean = result_df_.groupby(['Method']).mean().reset_index()\n",
    "\n",
    "grouped_std = result_df_.groupby(['Method']).std().reset_index()\n",
    "grouped_cnt = result_df_.groupby(['Method']).count().reset_index()"
   ]
  },
  {
   "cell_type": "code",
   "execution_count": null,
   "id": "3825e1f7",
   "metadata": {
    "scrolled": true
   },
   "outputs": [],
   "source": [
    "dark_blue = '#17212b'\n",
    "light_blue = '#3dc5ef'\n",
    "teal= '#42dee1'\n",
    "green = '#6eecb9'\n",
    "yellow = '#eef5b3'\n",
    "\n",
    "colors = [light_blue, teal, green, yellow]\n",
    "\n",
    "hfont = {'fontname':'Arial', 'size':10}\n",
    "plt.figure(figsize=(2.363,2.363)) #60x60\n",
    "\n",
    "fig, (ax1, ax2, ax3) = plt.subplots(1, 3, figsize=(2.363*3,2.363))\n",
    "\n",
    "ax1.barh(grouped_mean['Method'], grouped_mean['Time Elapsed (s)'], color = colors)\n",
    "\n",
    "ax1.set_xlabel('Time (s)', **hfont)\n",
    "\n",
    "ax2.barh(grouped_mean['Method'], grouped_mean['Error relative to mean'], xerr = grouped_std['Error relative to mean'].values, color = colors)\n",
    "\n",
    "ax2.set_xlabel('Error to mean', **hfont)\n",
    "\n",
    "ax3.barh(grouped_mean['Method'], grouped_cnt['Success']/max(grouped_cnt['Success']), color = colors)\n",
    "\n",
    "ax3.set_xlabel('Success', **hfont)\n",
    "\n",
    "ax2.set_yticks([])\n",
    "ax3.set_yticks([])\n",
    "#plt.suptitle('Optimizer comparison', **hfont)\n",
    "\n",
    "plt.tight_layout()\n",
    "plt.savefig('figures/06_comparsion.pdf')\n",
    "plt.show()\n"
   ]
  },
  {
   "cell_type": "code",
   "execution_count": null,
   "id": "a0b52029",
   "metadata": {},
   "outputs": [],
   "source": [
    "grouped_mean.iloc[3]['Time Elapsed (s)'] / grouped_mean.iloc[2]['Time Elapsed (s)']"
   ]
  },
  {
   "cell_type": "code",
   "execution_count": null,
   "id": "f5ac5b32",
   "metadata": {},
   "outputs": [],
   "source": [
    "grouped_cnt['Success']/max(grouped_cnt['Success'])"
   ]
  },
  {
   "cell_type": "code",
   "execution_count": null,
   "id": "ab066f62",
   "metadata": {},
   "outputs": [],
   "source": [
    "grouped_mean"
   ]
  }
 ],
 "metadata": {
  "kernelspec": {
   "display_name": "Python [conda env:.conda-alphapept] *",
   "language": "python",
   "name": "conda-env-.conda-alphapept-py"
  },
  "language_info": {
   "codemirror_mode": {
    "name": "ipython",
    "version": 3
   },
   "file_extension": ".py",
   "mimetype": "text/x-python",
   "name": "python",
   "nbconvert_exporter": "python",
   "pygments_lexer": "ipython3",
   "version": "3.8.8"
  },
  "toc": {
   "base_numbering": 1,
   "nav_menu": {},
   "number_sections": true,
   "sideBar": true,
   "skip_h1_title": false,
   "title_cell": "Table of Contents",
   "title_sidebar": "Contents",
   "toc_cell": false,
   "toc_position": {},
   "toc_section_display": true,
   "toc_window_display": false
  }
 },
 "nbformat": 4,
 "nbformat_minor": 5
}
