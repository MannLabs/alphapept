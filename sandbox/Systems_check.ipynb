{
 "cells": [
  {
   "cell_type": "markdown",
   "metadata": {},
   "source": [
    "# AlphaPept Systems Check\n",
    "\n",
    "This notebook will run several tests and compare the performance to MaxQuant. Depending on the machine, this can take several hours.\n",
    "Each run is called via the `test_ci.py` script, which downloads files to a temporary folder which can be specified in this file.\n",
    "\n",
    "This notebook requires the `matplotlib_venn` (`!pip install matplotlib_venn`) package."
   ]
  },
  {
   "cell_type": "markdown",
   "metadata": {},
   "source": [
    "## Reference Data\n",
    "\n",
    "Download MaxQuant reference files. Referance MaxQuant data from `PXD006109` and `PXD010012` were taken from the paper, the others were analyzed with `MaxQuant_1.6.14`, default settings w/o second peptides and provided with the given contaminants file."
   ]
  },
  {
   "cell_type": "code",
   "execution_count": null,
   "metadata": {},
   "outputs": [],
   "source": [
    "import os\n",
    "import sys\n",
    "sys.path.append(os.path.join(\"..\"))\n",
    "import test_ci\n",
    "from test_ci import config_test_paths\n",
    "\n",
    "try:\n",
    "    import wget\n",
    "except ImportError:\n",
    "    !pip install wget\n",
    "    import wget\n",
    "    \n",
    "FILE_DICT = {}\n",
    "#FILE_DICT['PXD006109_ref.txt'] = 'https://datashare.biochem.mpg.de/s/1E2G1IwgcgdsCHC/download' #OLD MQ FILES\n",
    "#FILE_DICT['PXD006109_ref_evd.txt'] = 'https://datashare.biochem.mpg.de/s/Fn2uxeYNL60JSd3/download'\n",
    "\n",
    "#FILE_DICT['PXD006109_ref.txt'] = 'https://datashare.biochem.mpg.de/s/vMNferEoSoROJbb/download' #AP Files\n",
    "#FILE_DICT['PXD006109_ref_evd.txt'] = 'https://datashare.biochem.mpg.de/s/KLBotZbodMByigh/download'\n",
    "\n",
    "FILE_DICT['PXD006109_ref.txt'] = 'https://datashare.biochem.mpg.de/s/fLhxQ8mVb29x9xH/download'\n",
    "FILE_DICT['PXD006109_ref_evd.txt'] = 'https://datashare.biochem.mpg.de/s/BkMMHPregCQgKLg/download'\n",
    "FILE_DICT['PXD010012_ref.txt'] = 'https://datashare.biochem.mpg.de/s/ps226k7Fme1K0jf/download'\n",
    "FILE_DICT['PXD010012_ref_evd.txt'] = 'https://datashare.biochem.mpg.de/s/pyhKMrytjdDU2sX/download'\n",
    "FILE_DICT['bruker_HeLa_evd.txt'] = 'https://datashare.biochem.mpg.de/s/fRcoGuwlcbH2SBJ/download'\n",
    "FILE_DICT['thermo_HeLa_evd.txt'] = 'https://datashare.biochem.mpg.de/s/p4Omj9K5hHmSoDl/download'\n",
    "\n",
    "FILE_DICT['PXD015087_ref.txt'] = 'https://datashare.biochem.mpg.de/s/GIdgji3408UvS07/download'\n",
    "FILE_DICT['PXD015087_ref_evd.txt'] = 'https://datashare.biochem.mpg.de/s/eMuNLE2yjNbmiSi/download'\n",
    "FILE_DICT['PXD015087_ref_evd_singlerun.txt'] = 'https://datashare.biochem.mpg.de/s/0QxM7eR7VDg1rFK/download'\n",
    "\n",
    "tmp_folder = os.path.join(os.getcwd(),'temp/')\n",
    "\n",
    "BASE_DIR = os.path.join(tmp_folder , 'test_files') # Storarge location for test files\n",
    "TEST_DIR = os.path.join(tmp_folder,'test_temp')\n",
    "ARCHIVE_DIR = os.path.join(tmp_folder,  os.path.sep, 'test_archive', os.path.sep)\n",
    "\n",
    "MONGODB_USER = 'github_actions'\n",
    "MONGODB_URL = 'ci.yue0n.mongodb.net/'\n",
    "\n",
    "if not os.path.isdir(tmp_folder):\n",
    "    os.mkdir(tmp_folder)\n",
    "\n",
    "test_ci.config_test_paths(BASE_DIR, TEST_DIR, ARCHIVE_DIR, MONGODB_USER, MONGODB_URL)\n",
    "\n",
    "\n",
    "for file in FILE_DICT:\n",
    "    target = os.path.join(tmp_folder, file)\n",
    "    if not os.path.isfile(target):\n",
    "        wget.download(FILE_DICT[file], target)\n",
    "        \n",
    "software_1 = 'AlphaPept'\n",
    "software_2 = 'MaxQuant'"
   ]
  },
  {
   "cell_type": "markdown",
   "metadata": {},
   "source": [
    "## Single Files\n",
    "\n",
    "Compare to the single HeLa test files"
   ]
  },
  {
   "cell_type": "code",
   "execution_count": null,
   "metadata": {
    "scrolled": false
   },
   "outputs": [],
   "source": [
    "%run -i ../test_ci.py $tmp_folder thermo_irt"
   ]
  },
  {
   "cell_type": "markdown",
   "metadata": {},
   "source": [
    "### Thermo HeLa"
   ]
  },
  {
   "cell_type": "code",
   "execution_count": null,
   "metadata": {
    "scrolled": false
   },
   "outputs": [],
   "source": [
    "%run -i ../test_ci.py $tmp_folder thermo_hela"
   ]
  },
  {
   "cell_type": "code",
   "execution_count": null,
   "metadata": {},
   "outputs": [],
   "source": [
    "try:\n",
    "    import matplotlib_venn\n",
    "except ModuleNotFoundError:\n",
    "    !pip install matplotlib_venn\n",
    "    import matplotlib_venn"
   ]
  },
  {
   "cell_type": "code",
   "execution_count": null,
   "metadata": {
    "scrolled": false
   },
   "outputs": [],
   "source": [
    "from test_helper import prepare_files, compare_field, compare_populations, compare_intensities, protein_rank\n",
    "import os\n",
    "\n",
    "\n",
    "df1, df2 = prepare_files(os.path.join(TEST_DIR,'results.hdf'), os.path.join(tmp_folder,'thermo_HeLa_evd.txt'))\n",
    "for field in ['charge','protein','precursor']:\n",
    "    compare_field(df1, df2, software_1, software_2, field)\n",
    "    \n",
    "for field in ['protein','sequence','precursor']:\n",
    "    compare_populations(df1, df2, software_1, software_2, field)\n",
    "    \n",
    "compare_intensities(df1, df2,software_1, software_2)\n",
    "\n",
    "protein_rank(df1, df2,software_1, software_2)"
   ]
  },
  {
   "cell_type": "markdown",
   "metadata": {},
   "source": [
    "### Calling custom steps of the pipeline\n",
    "\n",
    "Work with already processed results and call individual steps"
   ]
  },
  {
   "cell_type": "code",
   "execution_count": null,
   "metadata": {
    "scrolled": false
   },
   "outputs": [],
   "source": [
    "import alphapept.io\n",
    "from alphapept.score import get_ML_features, filter_with_ML, filter_with_x_tandem, cut_global_fdr, train_RF\n",
    "\n",
    "ms_file = alphapept.io.MS_Data_File(os.path.join(TEST_DIR,'thermo_HeLa.ms_data.hdf'))\n",
    "\n",
    "df = ms_file.read(dataset_name='second_search')\n",
    "df = get_ML_features(df)\n",
    "\n",
    "print('--- ML ---')\n",
    "cv, features = train_RF(df, plot=True)\n",
    "df = filter_with_ML(df, cv, features = features)\n",
    "df = cut_global_fdr(df, analyte_level='precursor',  plot=True)\n",
    "\n",
    "print('--- x! ---')\n",
    "df = filter_with_x_tandem(df)\n",
    "df = cut_global_fdr(df, analyte_level='precursor',  plot=True)"
   ]
  },
  {
   "cell_type": "markdown",
   "metadata": {},
   "source": [
    "## Fractions\n",
    "\n",
    "### Running a single fraction\n",
    "In this section, we want to explicitly check, if fractionated samples are correctly handled in terms of FDR and Quantification. For this, we initially check how much we find in a single fractionated sample, as compared to Maxquant.\n"
   ]
  },
  {
   "cell_type": "code",
   "execution_count": null,
   "metadata": {},
   "outputs": [],
   "source": [
    "%run -i ../test_ci.py $tmp_folder thermo_singlefrac"
   ]
  },
  {
   "cell_type": "code",
   "execution_count": null,
   "metadata": {},
   "outputs": [],
   "source": [
    "#compare with evidence \n",
    "from test_helper import prepare_files, compare_field, compare_populations, compare_intensities, protein_rank\n",
    "import os\n",
    "import alphapept.io\n",
    "import pandas as pd\n",
    "\n",
    "#ap_full_df = alphapept.io.MS_Data_File(os.path.join(TEST_DIR,'Hela_P035210_BA1_S00_A00_R1.ms_data.hdf')).read(dataset_name='peptide_fdr')\n",
    "\n",
    "df1, df2 = prepare_files(os.path.join(TEST_DIR,'results.hdf'), os.path.join(tmp_folder,'PXD015087_ref_evd_singlerun.txt'))\n",
    "\n",
    "for field in ['charge','protein','precursor']:\n",
    "    compare_field(df1, df2, software_1, software_2, field)\n",
    "    \n",
    "for field in ['protein','sequence','precursor']:\n",
    "    compare_populations(df1, df2, software_1, software_2, field)\n",
    "    \n",
    "compare_intensities(df1, df2,software_1, software_2)\n",
    "\n",
    "protein_rank(df1, df2,software_1, software_2)"
   ]
  },
  {
   "cell_type": "markdown",
   "metadata": {},
   "source": [
    "### Running Multiple fractions\n",
    "Above, we have seen that a single fraction is quite similar to Maxquant, with slightly fewer hits for AP. We now want to check, if this also translates to multiple fractions\n"
   ]
  },
  {
   "cell_type": "code",
   "execution_count": null,
   "metadata": {},
   "outputs": [],
   "source": [
    "%run -i ../test_ci.py $tmp_folder PXD015087"
   ]
  },
  {
   "cell_type": "code",
   "execution_count": null,
   "metadata": {
    "scrolled": false
   },
   "outputs": [],
   "source": [
    "\n",
    "#compare with evidence \n",
    "from test_helper import prepare_files, compare_field, compare_populations, compare_intensities, protein_rank\n",
    "import os\n",
    "import alphapept.io\n",
    "import pandas as pd\n",
    "\n",
    "#ap_full_df = alphapept.io.MS_Data_File(os.path.join(TEST_DIR,'Hela_P035210_BA1_S00_A00_R1.ms_data.hdf')).read(dataset_name='peptide_fdr')\n",
    "\n",
    "df1, df2 = prepare_files(os.path.join(TEST_DIR,'results.hdf'), os.path.join(tmp_folder,'PXD015087_ref_evd.txt'))\n",
    "\n",
    "for field in ['charge','protein','precursor']:\n",
    "    compare_field(df1, df2, software_1, software_2, field)\n",
    "    \n",
    "for field in ['protein','sequence','precursor']:\n",
    "    compare_populations(df1, df2, software_1, software_2, field)\n",
    "    \n",
    "compare_intensities(df1, df2,software_1, software_2)\n",
    "\n",
    "protein_rank(df1, df2,software_1, software_2)"
   ]
  },
  {
   "cell_type": "markdown",
   "metadata": {},
   "source": [
    "### Running Multiple fractions\n",
    "Above, we have seen that a single fraction is quite similar to Maxquant, with slightly fewer hits for AP. We now want to check, if this also translates to multiple fractions"
   ]
  },
  {
   "cell_type": "code",
   "execution_count": null,
   "metadata": {},
   "outputs": [],
   "source": [
    "%run -i ../test_ci.py $tmp_folder PXD015087"
   ]
  },
  {
   "cell_type": "code",
   "execution_count": null,
   "metadata": {},
   "outputs": [],
   "source": [
    "#compare with evidence \n",
    "from test_helper import prepare_files, compare_field, compare_populations, compare_intensities, protein_rank\n",
    "import os\n",
    "import alphapept.io\n",
    "import pandas as pd\n",
    "\n",
    "#ap_full_df = alphapept.io.MS_Data_File(os.path.join(TEST_DIR,'Hela_P035210_BA1_S00_A00_R1.ms_data.hdf')).read(dataset_name='peptide_fdr')\n",
    "\n",
    "df1, df2 = prepare_files(os.path.join(TEST_DIR,'results.hdf'), os.path.join(tmp_folder,'PXD015087_ref_evd.txt'))\n",
    "\n",
    "display(df1)\n",
    "display(df2)\n",
    "for field in ['charge','protein','precursor']:\n",
    "    compare_field(df1, df2, software_1, software_2, field)\n",
    "    \n",
    "for field in ['protein','sequence','precursor']:\n",
    "    compare_populations(df1, df2, software_1, software_2, field)\n",
    "    \n",
    "compare_intensities(df1, df2,software_1, software_2)\n",
    "\n",
    "protein_rank(df1, df2,software_1, software_2)"
   ]
  },
  {
   "cell_type": "markdown",
   "metadata": {},
   "source": [
    "# Quantification Test\n",
    "\n",
    "This notebook will run `PXD006109` and `PXD010012` and compare the quantificaiton performance."
   ]
  },
  {
   "cell_type": "markdown",
   "metadata": {},
   "source": [
    "## PXD006109"
   ]
  },
  {
   "cell_type": "code",
   "execution_count": null,
   "metadata": {
    "scrolled": false
   },
   "outputs": [],
   "source": [
    "%run -i ../test_ci.py $tmp_folder PXD006109 \n",
    "#test_ci.main(runtype=\"PXD006109\", new_files=False)"
   ]
  },
  {
   "cell_type": "code",
   "execution_count": null,
   "metadata": {
    "scrolled": false
   },
   "outputs": [],
   "source": [
    "from test_helper import get_plot_df, add_species_column\n",
    "import matplotlib.pyplot as plt\n",
    "import numpy as np\n",
    "import pandas as pd\n",
    "import os\n",
    "\n",
    "fig, axes = plt.subplots(2, 2, figsize=(14,14), sharex=True,sharey=True)\n",
    "\n",
    "ref = pd.read_csv(os.path.join(tmp_folder,'PXD006109_ref.txt'), sep='\\t') \n",
    "no_rev_cont = [(x[0]!=\"+\") & (x[1] !=\"+\") for x in ref[[\"Reverse\",\"Potential contaminant\"]].values]\n",
    "ref = ref[no_rev_cont]\n",
    "add_species_column(ref)\n",
    "ref['Species'] = ref['Species'].replace(np.nan, \"X\")\n",
    "\n",
    "for j, _ in enumerate(['noLFQ','LFQ']):\n",
    "    if _ == 'LFQ':\n",
    "        x = 'LFQ i'\n",
    "    else:\n",
    "        x = 'I'\n",
    "        \n",
    "    base_columns = [f\"{x}ntensity Shotgun_02-01_{i}\" for i in range(1,4)]\n",
    "    ratio_columns = [f\"{x}ntensity Shotgun_12-01_{i}\" for i in range(1,4)]\n",
    "\n",
    "    id_ = 'MaxQuant ' +_+' PXD006109 (Thermo)'\n",
    "    get_plot_df(ref, base_columns, ratio_columns, axes[0,j], id_)\n",
    "\n",
    "\n",
    "path = os.path.join(TEST_DIR, 'results.hdf') #TEST_DIR as set in test_ci.py\n",
    "ref = pd.read_hdf(path, 'protein_table')\n",
    "ref.columns = [os.path.split(_)[1].replace('.ms_data.hdf','') for _ in ref.columns]\n",
    "\n",
    "\n",
    "species = []\n",
    "for _ in ref.index:\n",
    "    if 'HUMAN' in _:\n",
    "        species.append('Homo sapiens')\n",
    "    elif 'ECO' in _:\n",
    "        species.append('Escherichia coli')\n",
    "    else:\n",
    "        species.append('X')\n",
    "        \n",
    "ref['Species'] = species\n",
    "\n",
    "for j, _ in enumerate(['noLFQ','LFQ']):\n",
    "    if _ == 'LFQ':\n",
    "        x = '_LFQ'\n",
    "    else:\n",
    "        x = ''\n",
    "        \n",
    "    base_columns = [f\"PXD006109_HeLa2_{i}{x}\" for i in range(1,4)]\n",
    "    ratio_columns = [f\"PXD006109_HeLa12_{i}{x}\" for i in range(1,4)]\n",
    "\n",
    "    id_ = 'AlphaPept ' +_+' PXD006109 (Thermo)'\n",
    "    get_plot_df(ref, base_columns, ratio_columns, axes[1,j], id_)\n",
    "\n",
    "plt.show()"
   ]
  },
  {
   "cell_type": "markdown",
   "metadata": {},
   "source": [
    "## CV plot"
   ]
  },
  {
   "cell_type": "code",
   "execution_count": null,
   "metadata": {},
   "outputs": [],
   "source": [
    "bins = np.linspace(0,1,100)\n",
    "\n",
    "fig, axes = plt.subplots(2, 2, figsize=(14,14), sharex=True,sharey=True)\n",
    "\n",
    "ref = pd.read_csv(os.path.join(tmp_folder,'PXD006109_ref.txt'), sep='\\t') \n",
    "no_rev_cont = [(x[0]!=\"+\") & (x[1] !=\"+\") for x in ref[[\"Reverse\",\"Potential contaminant\"]].values]\n",
    "ref = ref[no_rev_cont]\n",
    "add_species_column(ref)\n",
    "ref['Species'] = ref['Species'].replace(np.nan, \"X\")\n",
    "\n",
    "for j, _ in enumerate(['noLFQ','LFQ']):\n",
    "    if _ == 'LFQ':\n",
    "        x = 'LFQ i'\n",
    "    else:\n",
    "        x = 'I'\n",
    "        \n",
    "    base_columns = [f\"{x}ntensity Shotgun_02-01_{i}\" for i in range(1,4)]\n",
    "    ratio_columns = [f\"{x}ntensity Shotgun_12-01_{i}\" for i in range(1,4)]\n",
    "\n",
    "    id_ = 'MaxQuant ' +_+' PXD006109 (Thermo)'\n",
    "    \n",
    "    cv = np.nanstd(ref[base_columns + ratio_columns], axis=1) / np.nanmean(ref[base_columns + ratio_columns], axis=1)\n",
    "\n",
    "    axes[0,j].hist(cv, bins = bins, label = id_, alpha = 0.5)\n",
    "    axes[0,j].set_title(f'{id_} \\nMedian CV {np.nanmedian(cv):.3f}')\n",
    "\n",
    "path = os.path.join(TEST_DIR,'results.hdf') #TEST_DIR as set in test_ci.py\n",
    "ref = pd.read_hdf(path, 'protein_table')\n",
    "ref.columns = [os.path.split(_)[1].replace('.ms_data.hdf','') for _ in ref.columns]\n",
    "\n",
    "species = []\n",
    "for _ in ref.index:\n",
    "    if 'HUMAN' in _:\n",
    "        species.append('Homo sapiens')\n",
    "    elif 'ECO' in _:\n",
    "        species.append('Escherichia coli')\n",
    "    else:\n",
    "        species.append('X')\n",
    "        \n",
    "ref['Species'] = species\n",
    "\n",
    "for j, _ in enumerate(['noLFQ','LFQ']):\n",
    "    if _ == 'LFQ':\n",
    "        x = '_LFQ'\n",
    "    else:\n",
    "        x = ''\n",
    "        \n",
    "    base_columns = [f\"PXD006109_HeLa2_{i}{x}\" for i in range(1,4)]\n",
    "    ratio_columns = [f\"PXD006109_HeLa12_{i}{x}\" for i in range(1,4)]\n",
    "\n",
    "    id_ = 'AlphaPept ' +_+' PXD006109 (Thermo)'\n",
    "    cv = np.nanstd(ref[base_columns + ratio_columns], axis=1) / np.nanmean(ref[base_columns + ratio_columns], axis=1)\n",
    "\n",
    "    axes[1,j].hist(cv, bins = bins, label = id_, alpha = 0.5)\n",
    "    axes[1,j].set_title(f'{id_} \\nMedian CV {np.nanmedian(cv):.3f}')\n",
    "\n",
    "plt.show()"
   ]
  },
  {
   "cell_type": "markdown",
   "metadata": {},
   "source": [
    "## Algorithm Test\n",
    "\n",
    "Test performance of LFQ algorithm on MaxQuant evidence file."
   ]
  },
  {
   "cell_type": "code",
   "execution_count": null,
   "metadata": {},
   "outputs": [],
   "source": [
    "try: \n",
    "    import ipywidgets\n",
    "except ModuleNotFoundError:\n",
    "    !pip install ipywidgets"
   ]
  },
  {
   "cell_type": "code",
   "execution_count": null,
   "metadata": {
    "scrolled": false
   },
   "outputs": [],
   "source": [
    "from alphapept.quantification import protein_profile_parallel_mq\n",
    "import test_helper\n",
    "import pandas as pd\n",
    "\n",
    "\n",
    "evidence_path = os.path.join(tmp_folder,'PXD006109_ref_evd.txt')\n",
    "protein_group_path = os.path.join(tmp_folder,'PXD006109_ref.txt')\n",
    "\n",
    "pt = protein_profile_parallel_mq(evidence_path, protein_group_path)\n",
    "\n",
    "ref = pd.read_csv(protein_group_path, sep='\\t')\n",
    "test_helper.add_species_column(ref)\n",
    "species_dict = pd.Series(ref['Species'].values, index=ref['Protein IDs']).to_dict()\n",
    "pt['Species'] = [species_dict[_] for _ in pt.index]\n",
    "\n",
    "\n",
    "pre_lfq = [_ for _ in pt.columns if not _.endswith('_LFQ')]\n",
    "lfq = [_ for _ in pt.columns if _.endswith('_LFQ')]\n",
    "\n",
    "test_id = 'PXD006109'\n",
    "\n",
    "fig, axes = plt.subplots(1, 2, figsize=(14,7), sharex=True,sharey=True)\n",
    "\n",
    "ids = [f'{software_2} {test_id}', f'{software_1} on {software_2} {test_id}']\n",
    "\n",
    "for i, ds in enumerate([pre_lfq, lfq]):\n",
    "\n",
    "    base_columns = [_ for _ in ds if 'HeLa2' in _]\n",
    "    ratio_columns = [_ for _ in ds if 'HeLa12' in _]\n",
    "    test_helper.get_plot_df(pt, base_columns, ratio_columns, axes[i], ids[i])"
   ]
  },
  {
   "cell_type": "markdown",
   "metadata": {},
   "source": [
    "## Normalization Checks"
   ]
  },
  {
   "cell_type": "markdown",
   "metadata": {},
   "source": [
    "### Check only the delayed normalization part"
   ]
  },
  {
   "cell_type": "code",
   "execution_count": null,
   "metadata": {
    "scrolled": false
   },
   "outputs": [],
   "source": [
    "import itertools\n",
    "import pandas as pd\n",
    "import matplotlib.pyplot as plt\n",
    "import numpy as np\n",
    "import test_helper\n",
    "from alphapept.quantification import delayed_normalization\n",
    "\n",
    "\n",
    "def visualize_normalization(simulated_df, axis, value = \"Intensity\",show_per_colpair = True):\n",
    "    \n",
    "    shortnames = df[\"filename\"].unique()\n",
    "    df[\"namefrac\"] = [f\"{n}_{f}\" for n,f in zip(simulated_df[\"filename\"], simulated_df[\"fraction\"])]\n",
    "    simulated_reformat = pd.pivot_table(simulated_df, values=value, columns=\"namefrac\" ,index=[\"protein_group\", \"precursor\" ])\n",
    "    \n",
    "    for namepair in itertools.combinations(shortnames, 2):\n",
    "        cols1 = [x for x in simulated_reformat.columns if namepair[0] in x]\n",
    "        cols2 = [x for x in simulated_reformat.columns if namepair[1] in x]\n",
    "        for colpair in itertools.product(cols1, cols2):\n",
    "            fcs = np.log2(simulated_reformat[colpair[0]]) - np.log2(simulated_reformat[colpair[1]])\n",
    "            axis.hist(fcs, histtype = 'step', bins = 50, label = f\"{colpair}\", density = True)\n",
    "            axis.set_xlim(-5, 5)\n",
    "\n",
    "samplenames = [\"A1\", \"A2\",\"B1\"]\n",
    "fractions = [3, 2, 3]\n",
    "\n",
    "ntests = 7\n",
    "fig, axes = plt.subplots(nrows = 7, ncols = 2, figsize=(14,7), sharex=True,sharey=True)\n",
    "count_axis = 0\n",
    "axes[0][0].set_title(\"before norm\")\n",
    "axes[-1][0].set_xlabel('log2 ratio')\n",
    "axes[0][1].set_title(\"after norm\")\n",
    "axes[-1][1].set_xlabel('log2 ratio')\n",
    "for _ in range(ntests):\n",
    "    df = test_helper.simulate_biased_peptides(5000, samplenames, fractions)\n",
    "    df_del, normed = delayed_normalization(df, field ='Intensity')\n",
    "    visualize_normalization(df, axes[count_axis][0],value = \"Intensity\", show_per_colpair = False)\n",
    "    visualize_normalization(df_del, axes[count_axis][1],value = \"Intensity_dn\", show_per_colpair = False)\n",
    "    count_axis+=1"
   ]
  },
  {
   "cell_type": "markdown",
   "metadata": {},
   "source": [
    "### Check delayed normalization + protein intensity estimation"
   ]
  },
  {
   "cell_type": "code",
   "execution_count": null,
   "metadata": {},
   "outputs": [],
   "source": [
    "from alphapept.quantification import delayed_normalization, protein_profile_parallel\n",
    "import test_helper\n",
    "import pandas as pd\n",
    "import matplotlib.pyplot as plt\n",
    "import itertools\n",
    "\n",
    "samplenames = [\"A1\", \"A2\", \"B1\"]\n",
    "fractions = [1, 1, 1]\n",
    "test_id = 'PXD006109'\n",
    "\n",
    "df = test_helper.simulate_biased_peptides(20000, samplenames, fractions)\n",
    "df, normed = delayed_normalization(df, field ='Intensity')\n",
    "\n",
    "fields = ['Intensity', 'Intensity_dn']\n",
    "tests = ['noLFQ', 'LFQ']\n",
    "\n",
    "fig, axes = plt.subplots(2, 2, figsize=(14,14), sharex=True, sharey=True)\n",
    "\n",
    "for j, field in  enumerate(fields):\n",
    "    \n",
    "    pt = protein_profile_parallel(df, minimum_ratios=1, field=field)\n",
    "    pt['Species'] = [\"Homo sapiens\" for x in range(len(pt.index))]\n",
    "    \n",
    "    pre_lfq = [_ for _ in pt.columns if not _.endswith('_LFQ')]\n",
    "    lfq = [_ for _ in pt.columns if _.endswith('_LFQ')]\n",
    "    \n",
    "    for i, cols in enumerate([pre_lfq, lfq]):\n",
    "        \n",
    "        ax = axes[i, j]\n",
    "        samplepairs = itertools.product([x for x in cols if \"A\" in x ], [x for x in cols if \"B\" in x ])\n",
    "        \n",
    "        for pair in samplepairs:\n",
    "            \n",
    "            base_columns = [pair[0]]\n",
    "            ratio_columns = [pair[1]]\n",
    "            test_helper.get_plot_df(pt, base_columns, ratio_columns, ax, f\"{fields[j]} {tests[i]}\", valid_filter = False)\n",
    "            \n",
    "            ax.get_legend().remove()\n",
    " \n",
    "plt.show()"
   ]
  },
  {
   "cell_type": "markdown",
   "metadata": {},
   "source": [
    "### Bruker HeLa"
   ]
  },
  {
   "cell_type": "code",
   "execution_count": null,
   "metadata": {},
   "outputs": [],
   "source": [
    "%run -i ../test_ci.py $tmp_folder bruker_hela"
   ]
  },
  {
   "cell_type": "code",
   "execution_count": null,
   "metadata": {
    "scrolled": false
   },
   "outputs": [],
   "source": [
    "from test_helper import prepare_files, compare_field, compare_populations, compare_intensities, protein_rank\n",
    "\n",
    "df1, df2 = prepare_files(os.path.join(TEST_DIR, \"results.hdf\"), os.path.join(tmp_folder,'bruker_HeLa_evd.txt'))\n",
    "for field in ['charge','protein','precursor']:\n",
    "    compare_field(df1, df2, software_1, software_2, field)\n",
    "    \n",
    "for field in ['protein','sequence','precursor']:\n",
    "    compare_populations(df1, df2, software_1, software_2, field)\n",
    "    \n",
    "compare_intensities(df1, df2,software_1, software_2)\n",
    "\n",
    "protein_rank(df1, df2,software_1, software_2)"
   ]
  },
  {
   "cell_type": "markdown",
   "metadata": {},
   "source": [
    "## PXD010012"
   ]
  },
  {
   "cell_type": "code",
   "execution_count": null,
   "metadata": {
    "scrolled": false
   },
   "outputs": [],
   "source": [
    "%run -i ../test_ci.py $tmp_folder PXD010012"
   ]
  },
  {
   "cell_type": "code",
   "execution_count": null,
   "metadata": {},
   "outputs": [],
   "source": [
    "from test_helper import get_plot_df\n",
    "import matplotlib.pyplot as plt\n",
    "import seaborn as sns\n",
    "import os\n",
    "\n",
    "fig, axes = plt.subplots(2, 2, figsize=(14,14), sharex=True,sharey=True)\n",
    "\n",
    "ref = pd.read_csv(os.path.join(tmp_folder,'PXD010012_ref.txt'), sep='\\t') \n",
    "\n",
    "for j, _ in enumerate(['noLFQ','LFQ']):\n",
    "    if _ == 'LFQ':\n",
    "        x = 'LFQ i'\n",
    "    else:\n",
    "        x = 'I'\n",
    "        \n",
    "    base_columns = [f\"{x}ntensity Base_{i}\" for i in range(1,6)]\n",
    "    ratio_columns = [f\"{x}ntensity Ratio_{i}\" for i in range(1,6)]\n",
    "\n",
    "    id_ = 'MaxQuant ' +_+' PXD010012 (Bruker)'\n",
    "    get_plot_df(ref, base_columns, ratio_columns, axes[0,j], id_)\n",
    "\n",
    "\n",
    "path = os.path.join(TEST_DIR, \"results.hdf\") #TEST_DIR as set in test_ci.py\n",
    "ref = pd.read_hdf(path, 'protein_table')\n",
    "ref.columns = [os.path.split(_)[1].replace('.ms_data.hdf','') for _ in ref.columns]\n",
    "\n",
    "species = []\n",
    "for _ in ref.index:\n",
    "    if 'HUMAN' in _:\n",
    "        species.append('Homo sapiens')\n",
    "    elif 'ECO' in _:\n",
    "        species.append('Escherichia coli')\n",
    "    else:\n",
    "        species.append('X')\n",
    "        \n",
    "ref['Species'] = species\n",
    "\n",
    "for j, _ in enumerate(['noLFQ','LFQ']):\n",
    "    if _ == 'LFQ':\n",
    "        x = '_LFQ'\n",
    "    else:\n",
    "        x = ''\n",
    "        \n",
    "    base_columns = [f\"PXD010012_CT_{i}_C1_01_Base{x}\" for i in range(1,4)]\n",
    "    ratio_columns = [f\"PXD010012_CT_{i}_C2_01_Ratio{x}\" for i in range(1,4)]\n",
    "\n",
    "    id_ = 'AlphaPept ' +_+' PXD010012 (Bruker)'\n",
    "    get_plot_df(ref, base_columns, ratio_columns, axes[1,j], id_)\n",
    "\n",
    "plt.show()"
   ]
  },
  {
   "cell_type": "code",
   "execution_count": null,
   "metadata": {},
   "outputs": [],
   "source": [
    "from alphapept.quantification import protein_profile_parallel_mq\n",
    "from test_helper import get_plot_df\n",
    "\n",
    "evidence_path = os.path.join(tmp_folder,'PXD010012_ref_evd.txt')\n",
    "protein_group_path = os.path.join(tmp_folder,'PXD010012_ref.txt')\n",
    "\n",
    "pt = protein_profile_parallel_mq(evidence_path, protein_group_path)\n",
    "\n",
    "ref = pd.read_csv(protein_group_path, sep='\\t')\n",
    "species_dict = pd.Series(ref['Species'].values, index=ref['Protein IDs']).to_dict()\n",
    "pt['Species'] = [species_dict[_] for _ in pt.index]\n",
    "\n",
    "\n",
    "pre_lfq = [_ for _ in pt.columns if not _.endswith('_LFQ')]\n",
    "lfq = [_ for _ in pt.columns if _.endswith('_LFQ')]\n",
    "\n",
    "test_id = 'PXD010012'\n",
    "\n",
    "fig, axes = plt.subplots(1, 2, figsize=(14,7), sharex=True,sharey=True)\n",
    "\n",
    "ids = [f'{software_2} {test_id}', f'{software_1} on {software_2} {test_id}']\n",
    "\n",
    "for i, ds in enumerate([pre_lfq, lfq]):\n",
    "\n",
    "    base_columns = [_ for _ in ds if 'Base' in _]\n",
    "    ratio_columns = [_ for _ in ds if 'Ratio' in _]\n",
    "    get_plot_df(pt, base_columns, ratio_columns, axes[i], ids[i])"
   ]
  },
  {
   "cell_type": "markdown",
   "metadata": {},
   "source": [
    "### Large Fasta"
   ]
  },
  {
   "cell_type": "code",
   "execution_count": null,
   "metadata": {
    "scrolled": false
   },
   "outputs": [],
   "source": [
    "%run -i ../test_ci.py $tmp_folder thermo_hela_large_fasta"
   ]
  },
  {
   "cell_type": "markdown",
   "metadata": {},
   "source": [
    "### Many modifications"
   ]
  },
  {
   "cell_type": "code",
   "execution_count": null,
   "metadata": {},
   "outputs": [],
   "source": [
    "%run -i ../test_ci.py $tmp_folder thermo_hela_modifications"
   ]
  }
 ],
 "metadata": {
  "interpreter": {
   "hash": "0d1a865ab268bf462a4b81b3f68bcb6d62cce5caa08e94e3178d6c541c738611"
  },
  "kernelspec": {
   "display_name": "Python [conda env:alphapept] *",
   "language": "python",
   "name": "conda-env-alphapept-py"
  },
  "language_info": {
   "codemirror_mode": {
    "name": "ipython",
    "version": 3
   },
   "file_extension": ".py",
   "mimetype": "text/x-python",
   "name": "python",
   "nbconvert_exporter": "python",
   "pygments_lexer": "ipython3",
   "version": "3.8.11"
  },
  "toc": {
   "base_numbering": 1,
   "nav_menu": {},
   "number_sections": true,
   "sideBar": true,
   "skip_h1_title": false,
   "title_cell": "Table of Contents",
   "title_sidebar": "Contents",
   "toc_cell": false,
   "toc_position": {},
   "toc_section_display": true,
   "toc_window_display": false
  }
 },
 "nbformat": 4,
 "nbformat_minor": 4
}
