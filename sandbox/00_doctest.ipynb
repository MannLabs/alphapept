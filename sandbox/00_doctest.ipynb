{
 "cells": [
  {
   "cell_type": "markdown",
   "id": "2b16473f",
   "metadata": {},
   "source": [
    "# Doctest\n",
    "\n",
    "This is a test notebook for the documentation. Sometimes the creation of the automatic documentation fails as there are non-utf-8 characters. A common mistake is the use of a fancy quote \"’\" instead of \"'\"."
   ]
  },
  {
   "cell_type": "code",
   "execution_count": 1,
   "id": "aa031397",
   "metadata": {},
   "outputs": [],
   "source": [
    "import os"
   ]
  },
  {
   "cell_type": "code",
   "execution_count": 2,
   "id": "05c54aa9",
   "metadata": {},
   "outputs": [],
   "source": [
    "ipynb_path = os.path.dirname(os.path.realpath(\"__file__\"))\n",
    "doc_path = os.path.join(ipynb_path, os.pardir, 'docs')\n",
    "\n",
    "html_files = [_ for _ in os.listdir(doc_path) if _.endswith('.html')]"
   ]
  },
  {
   "cell_type": "code",
   "execution_count": 3,
   "id": "9a624992",
   "metadata": {},
   "outputs": [],
   "source": [
    "for file in html_files:\n",
    "    \n",
    "    myfile = open(os.path.join(doc_path, file), encoding='utf-8')\n",
    "    \n",
    "    try:\n",
    "        for idx, l in enumerate(myfile):\n",
    "            pass\n",
    "        \n",
    "    except Exception as e:\n",
    "        print(f'Exception in file {file}. After line {idx}: {l}')\n",
    "        print(e)\n",
    "        \n",
    "        myfile = open(os.path.join(doc_path, file), encoding='cp1252')\n",
    "        f = open(os.path.join(doc_path, file), \"w\", encoding='utf-8')\n",
    "        f.write(myfile.read())\n",
    "        f.close()"
   ]
  }
 ],
 "metadata": {
  "kernelspec": {
   "display_name": "Python 3 (ipykernel)",
   "language": "python",
   "name": "python3"
  },
  "language_info": {
   "codemirror_mode": {
    "name": "ipython",
    "version": 3
   },
   "file_extension": ".py",
   "mimetype": "text/x-python",
   "name": "python",
   "nbconvert_exporter": "python",
   "pygments_lexer": "ipython3",
   "version": "3.8.16"
  }
 },
 "nbformat": 4,
 "nbformat_minor": 5
}
