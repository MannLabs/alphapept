{
 "cells": [
  {
   "cell_type": "markdown",
   "metadata": {},
   "source": [
    "# AlphaPept Timing Check\n",
    "\n",
    "This notebook will run several testfiles and test the timing."
   ]
  },
  {
   "cell_type": "code",
   "execution_count": null,
   "metadata": {},
   "outputs": [],
   "source": [
    "import os\n",
    "import alphapept.settings\n",
    "import sys\n",
    "sys.path.append(os.path.join(\"..\"))\n",
    "import test_ci\n",
    "\n",
    "try:\n",
    "    import wget\n",
    "except ImportError:\n",
    "    !pip install wget\n",
    "    import wget\n",
    "    \n",
    "tmp_folder = os.path.join(os.getcwd(),'temp/')\n",
    "\n",
    "\n",
    "BASE_DIR = os.path.join(tmp_folder , 'test_files/') # Storarge location for test files\n",
    "TEST_DIR = os.path.join(tmp_folder, 'test_temp/')\n",
    "ARCHIVE_DIR = os.path.join(tmp_folder, ' test_archive/')\n",
    "\n",
    "MONGODB_USER = ''\n",
    "MONGODB_URL = ''\n",
    "\n",
    "if not os.path.isdir(tmp_folder):\n",
    "    os.mkdir(tmp_folder)\n",
    "\n",
    "test_ci.config_test_paths(BASE_DIR, TEST_DIR, ARCHIVE_DIR, MONGODB_USER, MONGODB_URL)\n",
    "\n",
    "timing_check = {}\n",
    "\n",
    "def get_timings():\n",
    "    settings = alphapept.settings.load_settings(os.getcwd() + '/temp/test_temp/results.yaml')\n",
    "\n",
    "    total = settings['summary']['timing']['total (min)']\n",
    "    total_no_db = total - settings['summary']['timing']['create_database (min)']\n",
    "    total_no_db_ff_raw = total_no_db - settings['summary']['timing']['feature_finding (min)'] - settings['summary']['timing']['import_raw_data (min)'] \n",
    "    \n",
    "    return total, total_no_db, total_no_db_ff_raw"
   ]
  },
  {
   "cell_type": "markdown",
   "metadata": {},
   "source": [
    "## Single Files\n",
    "\n",
    "Compare to the single HeLa test files"
   ]
  },
  {
   "cell_type": "markdown",
   "metadata": {},
   "source": [
    "### Thermo IRT"
   ]
  },
  {
   "cell_type": "code",
   "execution_count": null,
   "metadata": {
    "scrolled": false
   },
   "outputs": [],
   "source": [
    "%run -i ../test_ci.py $tmp_folder thermo_irt\n",
    "\n",
    "try:\n",
    "    timing_check['thermo_irt'] = get_timings()\n",
    "except Exception as e:\n",
    "    pass"
   ]
  },
  {
   "cell_type": "markdown",
   "metadata": {},
   "source": [
    "### Thermo HeLa"
   ]
  },
  {
   "cell_type": "code",
   "execution_count": null,
   "metadata": {
    "scrolled": false
   },
   "outputs": [],
   "source": [
    "%run -i ../test_ci.py $tmp_folder thermo_hela\n",
    "\n",
    "\n",
    "try:\n",
    "    timing_check['thermo_hela'] = get_timings()\n",
    "except Exception as e:\n",
    "    pass"
   ]
  },
  {
   "cell_type": "markdown",
   "metadata": {},
   "source": [
    "## PXD006109"
   ]
  },
  {
   "cell_type": "code",
   "execution_count": null,
   "metadata": {
    "scrolled": false
   },
   "outputs": [],
   "source": [
    "%run -i ../test_ci.py $tmp_folder PXD006109 \n",
    "\n",
    "try:\n",
    "    timing_check['PXD006109'] = get_timings()\n",
    "except Exception as e:\n",
    "    pass"
   ]
  },
  {
   "cell_type": "markdown",
   "metadata": {},
   "source": [
    "## Bruker HeLa"
   ]
  },
  {
   "cell_type": "code",
   "execution_count": null,
   "metadata": {},
   "outputs": [],
   "source": [
    "%run -i ../test_ci.py $tmp_folder bruker_hela\n",
    "\n",
    "try:\n",
    "    timing_check['bruker_hela'] = get_timings()\n",
    "except Exception as e:\n",
    "    pass"
   ]
  },
  {
   "cell_type": "markdown",
   "metadata": {},
   "source": [
    "## PXD010012"
   ]
  },
  {
   "cell_type": "code",
   "execution_count": null,
   "metadata": {
    "scrolled": false
   },
   "outputs": [],
   "source": [
    "%run -i ../test_ci.py $tmp_folder PXD010012\n",
    "\n",
    "try:\n",
    "    timing_check['PXD010012'] = get_timings()\n",
    "except Exception as e:\n",
    "    pass"
   ]
  },
  {
   "cell_type": "code",
   "execution_count": null,
   "metadata": {},
   "outputs": [],
   "source": [
    "timing_check"
   ]
  },
  {
   "cell_type": "code",
   "execution_count": null,
   "metadata": {},
   "outputs": [],
   "source": [
    "df = pd.DataFrame(timing_check).T\n",
    "\n",
    "df.columns = ['Full', 'Precomputed database', 'Precomputed database, feature finding and raw import']\n",
    "display(df)"
   ]
  }
 ],
 "metadata": {
  "kernelspec": {
   "display_name": "Python 3",
   "language": "python",
   "name": "python3"
  },
  "language_info": {
   "codemirror_mode": {
    "name": "ipython",
    "version": 3
   },
   "file_extension": ".py",
   "mimetype": "text/x-python",
   "name": "python",
   "nbconvert_exporter": "python",
   "pygments_lexer": "ipython3",
   "version": "3.8.10"
  },
  "toc": {
   "base_numbering": 1,
   "nav_menu": {},
   "number_sections": true,
   "sideBar": true,
   "skip_h1_title": false,
   "title_cell": "Table of Contents",
   "title_sidebar": "Contents",
   "toc_cell": false,
   "toc_position": {},
   "toc_section_display": true,
   "toc_window_display": false
  }
 },
 "nbformat": 4,
 "nbformat_minor": 4
}
