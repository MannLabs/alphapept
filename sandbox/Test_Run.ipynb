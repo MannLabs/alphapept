{
 "cells": [
  {
   "cell_type": "markdown",
   "metadata": {},
   "source": [
    "# AlphaPept Test Runs and Visualization Examples\n",
    "\n",
    "This notebooks is intended to show how a HeLa File can be processed."
   ]
  },
  {
   "cell_type": "markdown",
   "metadata": {},
   "source": [
    "## Download Test Data"
   ]
  },
  {
   "cell_type": "code",
   "execution_count": 1,
   "metadata": {},
   "outputs": [],
   "source": [
    "import os\n",
    "try:\n",
    "    import wget\n",
    "except ModuleNotFoundError:\n",
    "    !pip install wget\n",
    "    import wget\n",
    "    \n",
    "FILE_DICT = {}\n",
    "FILE_DICT['thermo_IRT.raw'] = 'https://datashare.biochem.mpg.de/s/GpXsATZtMwgQoQt/download'\n",
    "FILE_DICT['IRT_fasta.fasta'] = 'https://datashare.biochem.mpg.de/s/p8Qu3KolzbSiCHH/download'\n",
    "\n",
    "tmp_folder = os.path.join(os.getcwd(),'/temp_test_run')\n",
    "\n",
    "if not os.path.isdir(tmp_folder):\n",
    "    os.mkdir(tmp_folder)\n",
    "    \n",
    "for file in FILE_DICT:\n",
    "    target = os.path.join(tmp_folder, file)\n",
    "    if not os.path.isfile(target):\n",
    "        wget.download(FILE_DICT[file], target)"
   ]
  },
  {
   "cell_type": "markdown",
   "metadata": {},
   "source": [
    "## Test Run"
   ]
  },
  {
   "cell_type": "code",
   "execution_count": 2,
   "metadata": {
    "scrolled": false
   },
   "outputs": [
    {
     "name": "stdout",
     "output_type": "stream",
     "text": [
      "2021-05-28 11:37:46> Logging to C:\\Users\\admin\\alphapept\\logs\\log_20210528113746.txt.\n",
      "2021-05-28 11:37:46> Platform information:\n",
      "2021-05-28 11:37:46> system     - Windows\n",
      "2021-05-28 11:37:46> release    - 10\n",
      "2021-05-28 11:37:46> version    - 10.0.18362\n",
      "2021-05-28 11:37:46> machine    - AMD64\n",
      "2021-05-28 11:37:46> processor  - Intel64 Family 6 Model 85 Stepping 4, GenuineIntel\n",
      "2021-05-28 11:37:46> cpu count  - 24\n",
      "2021-05-28 11:37:46> ram memory - 88.7/127.7 Gb (available/total)\n",
      "2021-05-28 11:37:46> \n",
      "2021-05-28 11:37:46> Python information:\n",
      "2021-05-28 11:37:46> SQLAlchemy     - 1.3.22\n",
      "2021-05-28 11:37:46> alphapept      - 0.3.23\n",
      "2021-05-28 11:37:46> biopython      - 1.78\n",
      "2021-05-28 11:37:46> click          - 7.1.2\n",
      "2021-05-28 11:37:46> comtypes       - 1.1.7\n",
      "2021-05-28 11:37:46> fastcore       - 1.3.5\n",
      "2021-05-28 11:37:46> h5py           - 3.2.1\n",
      "2021-05-28 11:37:46> lxml           - 4.6.2\n",
      "2021-05-28 11:37:46> matplotlib     - 3.3.3\n",
      "2021-05-28 11:37:46> nbdev          - 1.1.5\n",
      "2021-05-28 11:37:46> networkx       - 2.5\n",
      "2021-05-28 11:37:46> numba          - 0.53.1\n",
      "2021-05-28 11:37:46> numpy          - 1.19.4\n",
      "2021-05-28 11:37:46> pandas         - 1.2.1\n",
      "2021-05-28 11:37:46> plotly_express - 0.4.0\n",
      "2021-05-28 11:37:46> psutil         - 5.8.0\n",
      "2021-05-28 11:37:46> python         - 3.8.8\n",
      "2021-05-28 11:37:46> pythonnet      - 2.5.1\n",
      "2021-05-28 11:37:46> pyyaml         - 5.3.1\n",
      "2021-05-28 11:37:46> scikit-learn   - 0.23.2\n",
      "2021-05-28 11:37:46> scipy          - 1.6.0\n",
      "2021-05-28 11:37:46> seaborn        - 0.11.1\n",
      "2021-05-28 11:37:46> streamlit      - 0.80.0\n",
      "2021-05-28 11:37:46> tables         - 3.6.1\n",
      "2021-05-28 11:37:46> tqdm           - 4.59.0\n",
      "2021-05-28 11:37:46> watchdog       - 2.1.0\n",
      "2021-05-28 11:37:46> \n",
      "2021-05-28 11:37:46> Check for settings not completely implemented yet.\n",
      "2021-05-28 11:37:46> Checking if files exist.\n",
      "2021-05-28 11:37:46> Results path was not set. Setting to F:\\temp_test_run\\results.hdf\n",
      "2021-05-28 11:37:46> Shortnames not set. Setting to filename.\n",
      "2021-05-28 11:37:46> No database path set and save_db option checked. Using default path F:\\temp_test_run\\database.hdf\n",
      "2021-05-28 11:37:46> Deleted F:/temp_test_run\\thermo_IRT.ms_data.hdf\n",
      "2021-05-28 11:37:46> Workflow has 11 steps\n",
      "2021-05-28 11:37:46> Database path set and exists. Using F:\\temp_test_run\\database.hdf as database.\n"
     ]
    },
    {
     "name": "stderr",
     "output_type": "stream",
     "text": [
      "\r",
      "  0%|                                                                                            | 0/1 [00:00<?, ?it/s]"
     ]
    },
    {
     "name": "stdout",
     "output_type": "stream",
     "text": [
      "2021-05-28 11:37:46> Processing 1 files for step raw_conversion\n",
      "2021-05-28 11:37:46> File F:/temp_test_run\\thermo_IRT has extension .raw - converting from Thermo.\n",
      "2021-05-28 11:37:49> File conversion complete. Extracted 2,603 precursors.\n",
      "2021-05-28 11:37:50> File conversion of file F:/temp_test_run\\thermo_IRT.raw complete.\n",
      "2021-05-28 11:37:50> init\n"
     ]
    },
    {
     "name": "stderr",
     "output_type": "stream",
     "text": [
      "  0%|                                                                                            | 0/1 [00:03<?, ?it/s]\n",
      "  0%|                                                                                            | 0/1 [00:00<?, ?it/s]"
     ]
    },
    {
     "name": "stdout",
     "output_type": "stream",
     "text": [
      "2021-05-28 11:37:51> Processing 1 files for step find_features\n",
      "2021-05-28 11:37:51> No *.hdf file with features found for F:/temp_test_run\\thermo_IRT.ms_data.hdf. Adding to feature finding list.\n",
      "2021-05-28 11:37:51> Feature finding on F:/temp_test_run\\thermo_IRT.raw\n",
      "2021-05-28 11:37:54> Number of hills 45,516, len = 20.18\n",
      "2021-05-28 11:37:54> Repeating hill extraction with ppm_tol 5.10\n",
      "2021-05-28 11:37:55> Number of hills 52,919, len = 21.29\n",
      "2021-05-28 11:38:00> After split hill_ptrs 79,545\n",
      "2021-05-28 11:38:01> After filter hill_ptrs 77,220\n",
      "2021-05-28 11:38:14> Extracting hill stats complete\n",
      "2021-05-28 11:38:17> Found 7,527 pre isotope patterns.\n",
      "2021-05-28 11:38:29> Extracted 7,135 isotope patterns.\n",
      "2021-05-28 11:38:36> Report complete.\n",
      "2021-05-28 11:38:36> Note: NumExpr detected 24 cores but \"NUMEXPR_MAX_THREADS\" not set, so enforcing safe limit of 8.\n",
      "2021-05-28 11:38:36> NumExpr defaulting to 8 threads.\n",
      "2021-05-28 11:38:36> Matching features to query data.\n",
      "2021-05-28 11:38:36> Saving feature table.\n",
      "2021-05-28 11:38:36> Feature table saved to F:/temp_test_run\\thermo_IRT.ms_data.hdf\n",
      "2021-05-28 11:38:36> Saving features.\n",
      "2021-05-28 11:38:36> Feature finding of file F:/temp_test_run\\thermo_IRT.raw complete.\n"
     ]
    },
    {
     "name": "stderr",
     "output_type": "stream",
     "text": [
      "\n",
      "  0%|                                                                                            | 0/1 [00:00<?, ?it/s]\u001b[A"
     ]
    },
    {
     "name": "stdout",
     "output_type": "stream",
     "text": [
      "2021-05-28 11:38:36> Starting first search.\n",
      "2021-05-28 11:38:36> Processing 1 files for step search_db\n",
      "2021-05-28 11:38:36> Calibrating fragments\n"
     ]
    },
    {
     "name": "stderr",
     "output_type": "stream",
     "text": [
      "\r",
      "  0%|                                                                                            | 0/1 [00:46<?, ?it/s]"
     ]
    },
    {
     "name": "stdout",
     "output_type": "stream",
     "text": [
      "2021-05-28 11:38:38> Performing search on 1,505 query and 44 db entries with m_tol = 30.00 and m_offset = 30.00.\n"
     ]
    },
    {
     "name": "stderr",
     "output_type": "stream",
     "text": [
      "\n"
     ]
    },
    {
     "name": "stdout",
     "output_type": "stream",
     "text": [
      "2021-05-28 11:38:41> Compared 114 spectra and found 21 psms.\n",
      "2021-05-28 11:38:41> Extracting columns for scoring.\n",
      "2021-05-28 11:38:46> Extracted columns from 21 spectra.\n",
      "2021-05-28 11:38:46> Saving first_search results to F:/temp_test_run\\thermo_IRT.ms_data.hdf\n",
      "2021-05-28 11:38:46> Search of file F:/temp_test_run\\thermo_IRT.raw complete.\n",
      "2021-05-28 11:38:46> First search complete.\n"
     ]
    },
    {
     "name": "stderr",
     "output_type": "stream",
     "text": [
      "\r",
      "  0%|                                                                                            | 0/1 [00:00<?, ?it/s]"
     ]
    },
    {
     "name": "stdout",
     "output_type": "stream",
     "text": [
      "2021-05-28 11:38:46> Processing 1 files for step calibrate_hdf\n",
      "2021-05-28 11:38:46> Scoring using X-Tandem\n",
      "2021-05-28 11:38:46> Last q_value 0.000 of dataset is smaller than fdr_level 0.010\n",
      "2021-05-28 11:38:46> 11 target (0 decoy) of 11 PSMs. fdr 0.000000 for a cutoff of 18.50 (set fdr was 0.01)\n",
      "2021-05-28 11:38:46> Not enough data points present. Skipping recalibration.\n",
      "2021-05-28 11:38:46> Calibration of file F:/temp_test_run\\thermo_IRT.ms_data.hdf complete.\n",
      "2021-05-28 11:38:46> Calibrating fragments\n",
      "2021-05-28 11:38:46> Median fragment offset 1.97 - std 17.61 ppm\n"
     ]
    },
    {
     "name": "stderr",
     "output_type": "stream",
     "text": [
      "\n",
      "\n",
      "  0%|                                                                                            | 0/1 [00:00<?, ?it/s]\u001b[A\u001b[A"
     ]
    },
    {
     "name": "stdout",
     "output_type": "stream",
     "text": [
      "2021-05-28 11:38:46> Starting second search with DB.\n",
      "2021-05-28 11:38:46> Processing 1 files for step search_db\n",
      "2021-05-28 11:38:46> Found calibrated m_offset with value 7.94\n",
      "2021-05-28 11:38:46> Performing search on 1,505 query and 44 db entries with m_tol = 30.00 and m_offset = 7.94.\n",
      "2021-05-28 11:38:46> Compared 108 spectra and found 16 psms.\n",
      "2021-05-28 11:38:46> Extracting columns for scoring.\n",
      "2021-05-28 11:38:46> Extracted columns from 16 spectra.\n",
      "2021-05-28 11:38:46> Saving second_search results to F:/temp_test_run\\thermo_IRT.ms_data.hdf\n",
      "2021-05-28 11:38:46> Search of file F:/temp_test_run\\thermo_IRT.raw complete.\n",
      "2021-05-28 11:38:47> Second search complete.\n"
     ]
    },
    {
     "name": "stderr",
     "output_type": "stream",
     "text": [
      "\n",
      "\n",
      "\n",
      "  0%|                                                                                            | 0/1 [00:00<?, ?it/s]\u001b[A\u001b[A\u001b[A"
     ]
    },
    {
     "name": "stdout",
     "output_type": "stream",
     "text": [
      "2021-05-28 11:38:47> Processing 1 files for step score_hdf\n",
      "2021-05-28 11:38:47> Found second search psms for scoring.\n",
      "2021-05-28 11:38:47> Last q_value 0.000 of dataset is smaller than fdr_level 0.100\n",
      "2021-05-28 11:38:47> 10 target (0 decoy) of 10 PSMs. fdr 0.000000 for a cutoff of 16.39 (set fdr was 0.1)\n",
      "2021-05-28 11:38:47> The total number of available decoys is lower than the initial set of high scoring targets.\n",
      "2021-05-28 11:38:47> ML failed. Defaulting to x_tandem score\n",
      "2021-05-28 11:38:47> There are fewer high scoring targets or decoys than required by 'min_train'.\n",
      "2021-05-28 11:38:47> Filter df with x_tandem score\n",
      "2021-05-28 11:38:47> Global FDR on precursor\n",
      "2021-05-28 11:38:47> Last q_value 0.000 of dataset is smaller than fdr_level 0.010\n",
      "2021-05-28 11:38:47> 10 target (0 decoy) of 10 PSMs. fdr 0.000000 for a cutoff of 16.39 (set fdr was 0.01)\n",
      "2021-05-28 11:38:47> FDR on peptides complete. For 0.01 FDR found 10 targets and 0 decoys.\n",
      "2021-05-28 11:38:47> Extracting ions\n",
      "2021-05-28 11:38:47> Extracting ions complete.\n",
      "2021-05-28 11:38:47> Scoring of file F:/temp_test_run\\thermo_IRT.ms_data.hdf complete.\n",
      "2021-05-28 11:38:47> Only 1 dataset present. Skipping alignment.\n"
     ]
    },
    {
     "name": "stderr",
     "output_type": "stream",
     "text": [
      "\n",
      "\n",
      "\n",
      "\n",
      "  0%|                                                                                            | 0/1 [00:00<?, ?it/s]\u001b[A\u001b[A\u001b[A\u001b[A"
     ]
    },
    {
     "name": "stdout",
     "output_type": "stream",
     "text": [
      "2021-05-28 11:38:47> Fasta dict with length 1, Pept dict with length 44\n",
      "2021-05-28 11:38:47> Extracting protein groups.\n"
     ]
    },
    {
     "name": "stderr",
     "output_type": "stream",
     "text": [
      "\n",
      "\n",
      "\n",
      "\n",
      "\n",
      "  0%|                                                                                            | 0/1 [00:00<?, ?it/s]\u001b[A\u001b[A\u001b[A\u001b[A\u001b[A"
     ]
    },
    {
     "name": "stdout",
     "output_type": "stream",
     "text": [
      "2021-05-28 11:38:47> A total of 10 unique and 0 shared peptides.\n",
      "2021-05-28 11:38:47> A total of 0 ambigious proteins\n",
      "2021-05-28 11:38:47> A total of 0 unique and 0 shared peptides.\n",
      "2021-05-28 11:38:47> A total of 0 ambigious proteins\n",
      "2021-05-28 11:38:47> Global FDR on protein\n",
      "2021-05-28 11:38:47> Last q_value 0.000 of dataset is smaller than fdr_level 0.010\n",
      "2021-05-28 11:38:47> 1 target (0 decoy) of 1 PSMs. fdr 0.000000 for a cutoff of 42.12 (set fdr was 0.01)\n",
      "2021-05-28 11:38:47> FDR on proteins complete. For 0.01 FDR found 10 targets and 0 decoys. A total of 1 proteins found.\n"
     ]
    },
    {
     "name": "stderr",
     "output_type": "stream",
     "text": [
      "\n",
      "C:\\Users\\admin\\.conda\\envs\\alphapept\\lib\\site-packages\\pandas\\core\\generic.py:2605: PerformanceWarning: \n",
      "your performance may suffer as PyTables will pickle object types that it cannot\n",
      "map directly to c-types [inferred_type->mixed-integer,key->block5_values] [items->Index(['ion_int', 'ion_types', 'naked_sequence', 'precursor', 'sequence',\n",
      "       'filename', 'shortname', 'protein', 'protein_group', 'razor',\n",
      "       'protein_idx'],\n",
      "      dtype='object')]\n",
      "\n",
      "  pytables.to_hdf(\n"
     ]
    },
    {
     "name": "stdout",
     "output_type": "stream",
     "text": [
      "2021-05-28 11:38:47> Saving complete.\n",
      "2021-05-28 11:38:47> Protein groups complete.\n"
     ]
    },
    {
     "name": "stderr",
     "output_type": "stream",
     "text": [
      "\r",
      "  0%|                                                                                            | 0/1 [00:00<?, ?it/s]"
     ]
    },
    {
     "name": "stdout",
     "output_type": "stream",
     "text": [
      "2021-05-28 11:38:47> Complete. \n",
      "2021-05-28 11:38:47> Starting profile extraction.\n"
     ]
    },
    {
     "name": "stderr",
     "output_type": "stream",
     "text": [
      "\n",
      "\n",
      "\n",
      "\n",
      "\n",
      "  0%|                                                                                            | 0/1 [00:00<?, ?it/s]\u001b[A\u001b[A\u001b[A\u001b[A"
     ]
    },
    {
     "name": "stdout",
     "output_type": "stream",
     "text": [
      "2021-05-28 11:38:47> LFQ complete.\n",
      "2021-05-28 11:38:47> Exporting as csv.\n",
      "2021-05-28 11:38:47> Saved df of length 10 saved to F:\\temp_test_run\\results\n"
     ]
    },
    {
     "name": "stderr",
     "output_type": "stream",
     "text": [
      "\r",
      "100%|████████████████████████████████████████████████████████████████████████████████████| 1/1 [00:00<00:00, 13.50it/s]"
     ]
    },
    {
     "name": "stdout",
     "output_type": "stream",
     "text": [
      "2021-05-28 11:38:47> Settings saved to F:\\temp_test_run\\results.yaml\n"
     ]
    },
    {
     "name": "stderr",
     "output_type": "stream",
     "text": [
      "\n"
     ]
    },
    {
     "name": "stdout",
     "output_type": "stream",
     "text": [
      "2021-05-28 11:38:47> Analysis complete.\n"
     ]
    }
   ],
   "source": [
    "from alphapept.settings import load_settings\n",
    "from alphapept.paths import DEFAULT_SETTINGS_PATH\n",
    "\n",
    "settings = load_settings(DEFAULT_SETTINGS_PATH)\n",
    "\n",
    "settings['experiment']['file_paths'] =  [os.path.join(tmp_folder, 'thermo_IRT.raw')]\n",
    "settings['experiment']['fasta_paths'] = [os.path.join(tmp_folder, 'IRT_fasta.fasta')]\n",
    "    \n",
    "import alphapept.interface\n",
    "\n",
    "settings_ = alphapept.interface.run_complete_workflow(settings)"
   ]
  },
  {
   "cell_type": "markdown",
   "metadata": {},
   "source": [
    "## Basic file access\n",
    "\n",
    "Files can be read via the alphapept.io class and displayed as pandas dataframe"
   ]
  },
  {
   "cell_type": "code",
   "execution_count": 3,
   "metadata": {},
   "outputs": [
    {
     "name": "stdout",
     "output_type": "stream",
     "text": [
      "['Raw', 'corrected_fragment_mzs', 'feature_table', 'features', 'first_search', 'ions', 'peptide_fdr', 'second_search']\n"
     ]
    },
    {
     "data": {
      "text/html": [
       "<div>\n",
       "<style scoped>\n",
       "    .dataframe tbody tr th:only-of-type {\n",
       "        vertical-align: middle;\n",
       "    }\n",
       "\n",
       "    .dataframe tbody tr th {\n",
       "        vertical-align: top;\n",
       "    }\n",
       "\n",
       "    .dataframe thead th {\n",
       "        text-align: right;\n",
       "    }\n",
       "</style>\n",
       "<table border=\"1\" class=\"dataframe\">\n",
       "  <thead>\n",
       "    <tr style=\"text-align: right;\">\n",
       "      <th></th>\n",
       "      <th>abs_delta_m_ppm</th>\n",
       "      <th>b-H2O_hits</th>\n",
       "      <th>b-NH3_hits</th>\n",
       "      <th>b_hits</th>\n",
       "      <th>charge</th>\n",
       "      <th>db_idx</th>\n",
       "      <th>decoy</th>\n",
       "      <th>decoys_cum</th>\n",
       "      <th>delta_m</th>\n",
       "      <th>delta_m_ppm</th>\n",
       "      <th>...</th>\n",
       "      <th>score_precursor</th>\n",
       "      <th>sequence</th>\n",
       "      <th>target</th>\n",
       "      <th>target_cum</th>\n",
       "      <th>target_precursor</th>\n",
       "      <th>total_int</th>\n",
       "      <th>x_tandem</th>\n",
       "      <th>y-H2O_hits</th>\n",
       "      <th>y-NH3_hits</th>\n",
       "      <th>y_hits</th>\n",
       "    </tr>\n",
       "  </thead>\n",
       "  <tbody>\n",
       "    <tr>\n",
       "      <th>0</th>\n",
       "      <td>13.925655</td>\n",
       "      <td>1</td>\n",
       "      <td>1</td>\n",
       "      <td>4</td>\n",
       "      <td>2</td>\n",
       "      <td>1</td>\n",
       "      <td>False</td>\n",
       "      <td>0</td>\n",
       "      <td>-0.005221</td>\n",
       "      <td>-13.925655</td>\n",
       "      <td>...</td>\n",
       "      <td>27.325765</td>\n",
       "      <td>LGGNEQVTR</td>\n",
       "      <td>True</td>\n",
       "      <td>5</td>\n",
       "      <td>True</td>\n",
       "      <td>1135309</td>\n",
       "      <td>27.325765</td>\n",
       "      <td>2</td>\n",
       "      <td>3</td>\n",
       "      <td>8</td>\n",
       "    </tr>\n",
       "    <tr>\n",
       "      <th>1</th>\n",
       "      <td>19.156921</td>\n",
       "      <td>3</td>\n",
       "      <td>0</td>\n",
       "      <td>0</td>\n",
       "      <td>2</td>\n",
       "      <td>2</td>\n",
       "      <td>False</td>\n",
       "      <td>0</td>\n",
       "      <td>-0.008431</td>\n",
       "      <td>-19.156921</td>\n",
       "      <td>...</td>\n",
       "      <td>24.488608</td>\n",
       "      <td>aLGGNEQVTR</td>\n",
       "      <td>True</td>\n",
       "      <td>7</td>\n",
       "      <td>True</td>\n",
       "      <td>1782257</td>\n",
       "      <td>24.488608</td>\n",
       "      <td>2</td>\n",
       "      <td>3</td>\n",
       "      <td>8</td>\n",
       "    </tr>\n",
       "    <tr>\n",
       "      <th>2</th>\n",
       "      <td>10.360454</td>\n",
       "      <td>0</td>\n",
       "      <td>0</td>\n",
       "      <td>1</td>\n",
       "      <td>2</td>\n",
       "      <td>5</td>\n",
       "      <td>False</td>\n",
       "      <td>0</td>\n",
       "      <td>-0.005515</td>\n",
       "      <td>-10.360454</td>\n",
       "      <td>...</td>\n",
       "      <td>19.171766</td>\n",
       "      <td>YILAGVENSK</td>\n",
       "      <td>True</td>\n",
       "      <td>9</td>\n",
       "      <td>True</td>\n",
       "      <td>656009</td>\n",
       "      <td>19.171766</td>\n",
       "      <td>2</td>\n",
       "      <td>2</td>\n",
       "      <td>6</td>\n",
       "    </tr>\n",
       "    <tr>\n",
       "      <th>3</th>\n",
       "      <td>19.206347</td>\n",
       "      <td>3</td>\n",
       "      <td>1</td>\n",
       "      <td>6</td>\n",
       "      <td>2</td>\n",
       "      <td>11</td>\n",
       "      <td>False</td>\n",
       "      <td>0</td>\n",
       "      <td>0.007429</td>\n",
       "      <td>19.206347</td>\n",
       "      <td>...</td>\n",
       "      <td>42.116865</td>\n",
       "      <td>GAGSSEPVTGLDAK</td>\n",
       "      <td>True</td>\n",
       "      <td>1</td>\n",
       "      <td>True</td>\n",
       "      <td>11149388</td>\n",
       "      <td>42.116865</td>\n",
       "      <td>6</td>\n",
       "      <td>2</td>\n",
       "      <td>12</td>\n",
       "    </tr>\n",
       "    <tr>\n",
       "      <th>4</th>\n",
       "      <td>22.286386</td>\n",
       "      <td>1</td>\n",
       "      <td>0</td>\n",
       "      <td>4</td>\n",
       "      <td>2</td>\n",
       "      <td>12</td>\n",
       "      <td>False</td>\n",
       "      <td>0</td>\n",
       "      <td>0.009110</td>\n",
       "      <td>22.286386</td>\n",
       "      <td>...</td>\n",
       "      <td>27.291946</td>\n",
       "      <td>TPVISGGPYEYR</td>\n",
       "      <td>True</td>\n",
       "      <td>6</td>\n",
       "      <td>True</td>\n",
       "      <td>1205069</td>\n",
       "      <td>27.291946</td>\n",
       "      <td>0</td>\n",
       "      <td>0</td>\n",
       "      <td>8</td>\n",
       "    </tr>\n",
       "  </tbody>\n",
       "</table>\n",
       "<p>5 rows × 60 columns</p>\n",
       "</div>"
      ],
      "text/plain": [
       "   abs_delta_m_ppm  b-H2O_hits  b-NH3_hits  b_hits  charge  db_idx  decoy  \\\n",
       "0        13.925655           1           1       4       2       1  False   \n",
       "1        19.156921           3           0       0       2       2  False   \n",
       "2        10.360454           0           0       1       2       5  False   \n",
       "3        19.206347           3           1       6       2      11  False   \n",
       "4        22.286386           1           0       4       2      12  False   \n",
       "\n",
       "   decoys_cum   delta_m  delta_m_ppm  ...  score_precursor        sequence  \\\n",
       "0           0 -0.005221   -13.925655  ...        27.325765       LGGNEQVTR   \n",
       "1           0 -0.008431   -19.156921  ...        24.488608      aLGGNEQVTR   \n",
       "2           0 -0.005515   -10.360454  ...        19.171766      YILAGVENSK   \n",
       "3           0  0.007429    19.206347  ...        42.116865  GAGSSEPVTGLDAK   \n",
       "4           0  0.009110    22.286386  ...        27.291946    TPVISGGPYEYR   \n",
       "\n",
       "   target  target_cum  target_precursor  total_int   x_tandem  y-H2O_hits  \\\n",
       "0    True           5              True    1135309  27.325765           2   \n",
       "1    True           7              True    1782257  24.488608           2   \n",
       "2    True           9              True     656009  19.171766           2   \n",
       "3    True           1              True   11149388  42.116865           6   \n",
       "4    True           6              True    1205069  27.291946           0   \n",
       "\n",
       "   y-NH3_hits  y_hits  \n",
       "0           3       8  \n",
       "1           3       8  \n",
       "2           2       6  \n",
       "3           2      12  \n",
       "4           0       8  \n",
       "\n",
       "[5 rows x 60 columns]"
      ]
     },
     "execution_count": 3,
     "metadata": {},
     "output_type": "execute_result"
    }
   ],
   "source": [
    "import alphapept.io\n",
    "\n",
    "_ = settings['experiment']['file_paths'][0]\n",
    "base, ext = os.path.splitext(_)\n",
    "\n",
    "ms_file = alphapept.io.MS_Data_File(base+'.ms_data.hdf')\n",
    "\n",
    "print(ms_file.read())\n",
    "\n",
    "df = ms_file.read(dataset_name='peptide_fdr')\n",
    "\n",
    "df.head()"
   ]
  },
  {
   "cell_type": "markdown",
   "metadata": {},
   "source": [
    "## MS2 Spectrum\n",
    "\n",
    "Visualize PSMS"
   ]
  },
  {
   "cell_type": "code",
   "execution_count": 4,
   "metadata": {},
   "outputs": [
    {
     "name": "stdout",
     "output_type": "stream",
     "text": [
      " Plotting PSMS for LGGNEQVTR_2\n"
     ]
    },
    {
     "data": {
      "image/png": "[encoded data removed]",
      "text/plain": [
       "<Figure size 1080x360 with 1 Axes>"
      ]
     },
     "metadata": {
      "needs_background": "light"
     },
     "output_type": "display_data"
    },
    {
     "name": "stdout",
     "output_type": "stream",
     "text": [
      " Plotting PSMS for aLGGNEQVTR_2\n"
     ]
    },
    {
     "data": {
      "image/png": "[encoded data removed]",
      "text/plain": [
       "<Figure size 1080x360 with 1 Axes>"
      ]
     },
     "metadata": {
      "needs_background": "light"
     },
     "output_type": "display_data"
    },
    {
     "name": "stdout",
     "output_type": "stream",
     "text": [
      " Plotting PSMS for YILAGVENSK_2\n"
     ]
    },
    {
     "data": {
      "image/png": "[encoded data removed]",
      "text/plain": [
       "<Figure size 1080x360 with 1 Axes>"
      ]
     },
     "metadata": {
      "needs_background": "light"
     },
     "output_type": "display_data"
    }
   ],
   "source": [
    "try:\n",
    "    import matplotlib.pyplot as plt\n",
    "except ModuleNotFoundError:\n",
    "    !pip install matplotlib\n",
    "    import matplotlib.pyplot as plt\n",
    "\n",
    "def plot_psms(precursor, ms_file):\n",
    "\n",
    "    df = ms_file.read(dataset_name='peptide_fdr')\n",
    "    \n",
    "    ion_dict = {}\n",
    "    ion_dict[0] = ''\n",
    "    ion_dict[1] = '-H20'\n",
    "    ion_dict[2] = '-NH3'\n",
    "\n",
    "    spectrum = df[df['precursor'] == precursor].iloc[0]\n",
    "    start = spectrum['ion_idx']\n",
    "    end = spectrum['n_ions'] + start\n",
    "\n",
    "    query_data = ms_file.read_DDA_query_data()\n",
    "    ions = ms_file.read(dataset_name=\"ions\")\n",
    "\n",
    "    ion = [('b'+str(int(_))).replace('b-','y') for _ in ions.iloc[start:end]['ion_index']]\n",
    "    losses = [ion_dict[int(_)] for _ in ions.iloc[start:end]['ion_type']]\n",
    "    ion = [a+b for a,b in zip(ion, losses)]\n",
    "    ints = ions.iloc[start:end]['ion_int'].astype('int').values\n",
    "    masses = ions.iloc[start:end]['ion_mass'].astype('float').values\n",
    "    ion_type = ions.iloc[start:end]['ion_type'].abs().values\n",
    "\n",
    "    query_idx = spectrum['raw_idx']\n",
    "\n",
    "    query_indices = query_data[\"indices_ms2\"]\n",
    "    query_charges = query_data['charge2']\n",
    "    query_frags = query_data['mass_list_ms2']\n",
    "    query_ints = query_data['int_list_ms2']\n",
    "\n",
    "    query_idx_start = query_indices[query_idx]\n",
    "    query_idx_end = query_indices[query_idx + 1]\n",
    "    query_frag = query_frags[query_idx_start:query_idx_end]\n",
    "    query_int = query_ints[query_idx_start:query_idx_end]\n",
    "\n",
    "    ax = plt.figure(figsize=(15, 5))\n",
    "\n",
    "    plt.vlines(query_frag, 0, query_int, \"k\", label=\"Query\", alpha=0.5)\n",
    "\n",
    "    plt.vlines(masses, ints, max(query_int)*(1+0.1*ion_type), \"k\", label=\"Hits\", alpha=0.5, linestyle=':')\n",
    "\n",
    "    plt.vlines(masses, 0, ints, \"r\", label=\"Hits\", alpha=0.5)\n",
    "\n",
    "    for i in range(len(masses)):\n",
    "        plt.text(masses[i], (1+0.1*ion_type[i])*max(query_int), ion[i])\n",
    "\n",
    "    figure_title = f\"{spectrum['precursor']} - b-hits {spectrum['b_hits']}, y-hits {spectrum['y_hits']}, matched int {spectrum['matched_int_ratio']*100:.2f} %\"\n",
    "\n",
    "    plt.xlabel(\"m/z\")\n",
    "    plt.ylabel('Intensity')\n",
    "    plt.ylim([0, (1+0.1*max(ion_type)+0.1)*max(query_int)])\n",
    "    plt.legend()\n",
    "    plt.title(figure_title)\n",
    "    plt.show()\n",
    "    \n",
    "    \n",
    "for index in range(3):\n",
    "    precursor = df['precursor'].iloc[index]\n",
    "    print(f\" Plotting PSMS for {precursor}\")\n",
    "    plot_psms(precursor, ms_file)"
   ]
  }
 ],
 "metadata": {
  "kernelspec": {
   "display_name": "Python [conda env:.conda-alphapept] *",
   "language": "python",
   "name": "conda-env-.conda-alphapept-py"
  },
  "language_info": {
   "codemirror_mode": {
    "name": "ipython",
    "version": 3
   },
   "file_extension": ".py",
   "mimetype": "text/x-python",
   "name": "python",
   "nbconvert_exporter": "python",
   "pygments_lexer": "ipython3",
   "version": "3.8.8"
  },
  "toc": {
   "base_numbering": 1,
   "nav_menu": {},
   "number_sections": true,
   "sideBar": true,
   "skip_h1_title": false,
   "title_cell": "Table of Contents",
   "title_sidebar": "Contents",
   "toc_cell": false,
   "toc_position": {},
   "toc_section_display": true,
   "toc_window_display": false
  }
 },
 "nbformat": 4,
 "nbformat_minor": 4
}
