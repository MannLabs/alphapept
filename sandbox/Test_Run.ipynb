{
 "cells": [
  {
   "cell_type": "markdown",
   "metadata": {},
   "source": [
    "# AlphaPept Test Runs and Visualization Examples\n",
    "\n",
    "This notebooks is intended to show how a IRT File can be processed."
   ]
  },
  {
   "cell_type": "markdown",
   "metadata": {},
   "source": [
    "## Download Test Data"
   ]
  },
  {
   "cell_type": "code",
   "execution_count": 1,
   "metadata": {},
   "outputs": [],
   "source": [
    "import os\n",
    "try:\n",
    "    import wget\n",
    "except ModuleNotFoundError:\n",
    "    !pip install wget\n",
    "    import wget\n",
    "    \n",
    "FILE_DICT = {}\n",
    "FILE_DICT['thermo_IRT.raw'] = 'https://datashare.biochem.mpg.de/s/GpXsATZtMwgQoQt/download'\n",
    "FILE_DICT['IRT_fasta.fasta'] = 'https://datashare.biochem.mpg.de/s/p8Qu3KolzbSiCHH/download'\n",
    "\n",
    "tmp_folder = os.path.join(os.getcwd(),'/temp_test_run')\n",
    "\n",
    "if not os.path.isdir(tmp_folder):\n",
    "    os.mkdir(tmp_folder)\n",
    "    \n",
    "for file in FILE_DICT:\n",
    "    target = os.path.join(tmp_folder, file)\n",
    "    if not os.path.isfile(target):\n",
    "        wget.download(FILE_DICT[file], target)"
   ]
  },
  {
   "cell_type": "markdown",
   "metadata": {},
   "source": [
    "## Test Run"
   ]
  },
  {
   "cell_type": "code",
   "execution_count": 2,
   "metadata": {
    "scrolled": false
   },
   "outputs": [
    {
     "name": "stdout",
     "output_type": "stream",
     "text": [
      "2022-04-23 22:33:11> Logging to C:\\Users\\admin\\alphapept\\logs\\log_20220423223311.txt.\n",
      "2022-04-23 22:33:11> Platform information:\n",
      "2022-04-23 22:33:11> system     - Windows\n",
      "2022-04-23 22:33:11> release    - 10\n",
      "2022-04-23 22:33:11> version    - 10.0.19044\n",
      "2022-04-23 22:33:11> machine    - AMD64\n",
      "2022-04-23 22:33:11> processor  - Intel64 Family 6 Model 85 Stepping 4, GenuineIntel\n",
      "2022-04-23 22:33:11> cpu count  - 24\n",
      "2022-04-23 22:33:11> ram memory - 121.7/127.7 Gb (available/total)\n",
      "2022-04-23 22:33:11> \n",
      "2022-04-23 22:33:11> Python information:\n",
      "2022-04-23 22:33:11> SQLAlchemy                   - 1.4.35\n",
      "2022-04-23 22:33:11> alphapept                    - 0.4.5\n",
      "2022-04-23 22:33:11> biopython                    - 1.78\n",
      "2022-04-23 22:33:11> bumpversion                  - \n",
      "2022-04-23 22:33:11> click                        - 8.0.4\n",
      "2022-04-23 22:33:11> fastcore                     - 1.4.2\n",
      "2022-04-23 22:33:11> h5py                         - 3.6.0\n",
      "2022-04-23 22:33:11> jupyter                      - 1.0.0\n",
      "2022-04-23 22:33:11> jupyter-contrib-nbextensions - \n",
      "2022-04-23 22:33:11> matplotlib                   - 3.5.1\n",
      "2022-04-23 22:33:11> nbdev                        - 1.2.5\n",
      "2022-04-23 22:33:11> networkx                     - 2.8\n",
      "2022-04-23 22:33:11> numba                        - 0.54.0\n",
      "2022-04-23 22:33:11> numpy                        - 1.20.3\n",
      "2022-04-23 22:33:11> pandas                       - 1.4.2\n",
      "2022-04-23 22:33:11> plotly-express               - 0.4.1\n",
      "2022-04-23 22:33:11> psutil                       - 5.8.0\n",
      "2022-04-23 22:33:11> pyinstaller                  - \n",
      "2022-04-23 22:33:11> pyteomics                    - 4.5.3\n",
      "2022-04-23 22:33:11> python                       - 3.8.13\n",
      "2022-04-23 22:33:11> pythonnet                    - 2.5.2\n",
      "2022-04-23 22:33:11> pywin32                      - 225\n",
      "2022-04-23 22:33:11> pyyaml                       - 6.0\n",
      "2022-04-23 22:33:11> scikit-learn                 - 1.0.2\n",
      "2022-04-23 22:33:11> scipy                        - 1.8.0\n",
      "2022-04-23 22:33:11> streamlit                    - 1.8.1\n",
      "2022-04-23 22:33:11> streamlit-aggrid             - 0.2.3.post2\n",
      "2022-04-23 22:33:11> tables                       - 3.6.1\n",
      "2022-04-23 22:33:11> tqdm                         - 4.64.0\n",
      "2022-04-23 22:33:11> twine                        - \n",
      "2022-04-23 22:33:11> watchdog                     - 2.1.5\n",
      "2022-04-23 22:33:11> wget                         - 3.2\n",
      "2022-04-23 22:33:11> \n",
      "2022-04-23 22:33:11> Check for settings not completely implemented yet.\n",
      "2022-04-23 22:33:11> Checking if files exist.\n",
      "2022-04-23 22:33:11> FASTA Files have a total size of 0.000 Mb\n",
      "2022-04-23 22:33:11> Results path was not set. Setting to F:\\temp_test_run\\results.hdf\n",
      "2022-04-23 22:33:11> Shortnames not set. Setting to filename.\n",
      "2022-04-23 22:33:11> Sample group not set. Setting to shortname.\n",
      "2022-04-23 22:33:11> Fraction not set. Setting to 1.\n",
      "2022-04-23 22:33:11> No database path set and save_db option checked. Using default path F:\\temp_test_run\\database.hdf\n",
      "2022-04-23 22:33:11> Deleted F:/temp_test_run\\thermo_IRT.ms_data.hdf\n",
      "2022-04-23 22:33:11> Workflow has 11 steps\n",
      "2022-04-23 22:33:11> ==== create_database ====\n",
      "2022-04-23 22:33:12> Database path set and exists. Using F:\\temp_test_run\\database.hdf as database.\n",
      "2022-04-23 22:33:12> ==== import_raw_data ====\n"
     ]
    },
    {
     "name": "stderr",
     "output_type": "stream",
     "text": [
      "\r",
      "  0%|                                                                                            | 0/1 [00:00<?, ?it/s]"
     ]
    },
    {
     "name": "stdout",
     "output_type": "stream",
     "text": [
      "2022-04-23 22:33:12> Processing 1 files for step raw_conversion\n",
      "2022-04-23 22:33:12> File F:/temp_test_run\\thermo_IRT has extension .raw - converting from Thermo.\n",
      "2022-04-23 22:33:15> File conversion complete. Extracted 2,603 precursors.\n",
      "2022-04-23 22:33:15> File conversion of file F:/temp_test_run\\thermo_IRT.raw complete.\n"
     ]
    },
    {
     "name": "stderr",
     "output_type": "stream",
     "text": [
      "\r",
      "  0%|                                                                                            | 0/1 [00:03<?, ?it/s]"
     ]
    },
    {
     "name": "stdout",
     "output_type": "stream",
     "text": [
      "2022-04-23 22:33:15> ==== feature_finding ====\n"
     ]
    },
    {
     "name": "stderr",
     "output_type": "stream",
     "text": [
      "\n",
      "  0%|                                                                                            | 0/1 [00:00<?, ?it/s]"
     ]
    },
    {
     "name": "stdout",
     "output_type": "stream",
     "text": [
      "2022-04-23 22:33:17> Processing 1 files for step find_features\n",
      "2022-04-23 22:33:18> No *.hdf file with features found for F:/temp_test_run\\thermo_IRT.ms_data.hdf. Adding to feature finding list.\n",
      "2022-04-23 22:33:18> Feature finding on F:/temp_test_run\\thermo_IRT.raw\n",
      "2022-04-23 22:33:18> Hill extraction with centroid_tol 8 and max_gap 2\n",
      "2022-04-23 22:33:21> Number of hills 45,516, len = 20.18\n",
      "2022-04-23 22:33:21> Repeating hill extraction with centroid_tol 5.10\n",
      "2022-04-23 22:33:22> Number of hills 52,919, len = 21.29\n",
      "2022-04-23 22:33:25> After duplicate removal of hills 43,950\n",
      "2022-04-23 22:33:32> After split hill_ptrs 61,693\n",
      "2022-04-23 22:33:34> After filter hill_ptrs 60,175\n",
      "2022-04-23 22:33:47> Extracting hill stats complete\n",
      "2022-04-23 22:33:49> Found 7,045 pre isotope patterns.\n",
      "2022-04-23 22:34:07> Extracted 6,459 isotope patterns.\n",
      "2022-04-23 22:34:17> Report complete.\n",
      "2022-04-23 22:34:17> Matching features to query data.\n",
      "2022-04-23 22:34:17> Saving feature table.\n",
      "2022-04-23 22:34:17> Feature table saved to F:/temp_test_run\\thermo_IRT.ms_data.hdf\n",
      "2022-04-23 22:34:17> Saving features.\n",
      "2022-04-23 22:34:17> Feature finding of file F:/temp_test_run\\thermo_IRT.raw complete.\n"
     ]
    },
    {
     "name": "stderr",
     "output_type": "stream",
     "text": [
      "\r",
      "  0%|                                                                                            | 0/1 [00:59<?, ?it/s]"
     ]
    },
    {
     "name": "stdout",
     "output_type": "stream",
     "text": [
      "2022-04-23 22:34:17> ==== search_data ====\n"
     ]
    },
    {
     "name": "stderr",
     "output_type": "stream",
     "text": [
      "\n",
      "  0%|                                                                                            | 0/1 [00:00<?, ?it/s]"
     ]
    },
    {
     "name": "stdout",
     "output_type": "stream",
     "text": [
      "2022-04-23 22:34:17> Starting first search.\n",
      "2022-04-23 22:34:17> Processing 1 files for step search_db\n",
      "2022-04-23 22:34:17> Calibrating fragments\n",
      "2022-04-23 22:34:22> Performing search on 2,986 query and 5,045,760 db entries with frag_tol = 30.00 and prec_tol = 30.00.\n",
      "2022-04-23 22:34:24> Found 66 psms.\n",
      "2022-04-23 22:34:24> Extracting columns for scoring.\n",
      "2022-04-23 22:34:34> Extracted columns from 66 spectra.\n",
      "2022-04-23 22:34:34> Saving first_search results to F:/temp_test_run\\thermo_IRT.ms_data.hdf\n",
      "2022-04-23 22:34:35> Search of file F:/temp_test_run\\thermo_IRT.raw complete.\n",
      "2022-04-23 22:34:50> First search complete.\n"
     ]
    },
    {
     "name": "stderr",
     "output_type": "stream",
     "text": [
      "\r",
      "  0%|                                                                                            | 0/1 [00:32<?, ?it/s]"
     ]
    },
    {
     "name": "stdout",
     "output_type": "stream",
     "text": [
      "2022-04-23 22:34:50> ==== recalibrate_data ====\n"
     ]
    },
    {
     "name": "stderr",
     "output_type": "stream",
     "text": [
      "\n",
      "  0%|                                                                                            | 0/1 [00:00<?, ?it/s]"
     ]
    },
    {
     "name": "stdout",
     "output_type": "stream",
     "text": [
      "2022-04-23 22:34:50> Processing 1 files for step calibrate_hdf\n",
      "2022-04-23 22:34:50> Recalibrating file F:/temp_test_run\\thermo_IRT.raw.\n",
      "2022-04-23 22:34:50> Scoring using X-Tandem\n",
      "2022-04-23 22:34:50> 2 target (0 decoy) of 42 PSMs. fdr 0.000000 for a cutoff of 23.74 (set fdr was 0.01)\n",
      "2022-04-23 22:34:50> Precursor mass calibration for file F:/temp_test_run\\thermo_IRT.raw.\n",
      "2022-04-23 22:34:50> Not enough data points present. Skipping recalibration.\n",
      "2022-04-23 22:34:50> Precursor calibration of file F:/temp_test_run\\thermo_IRT.ms_data.hdf complete.\n",
      "2022-04-23 22:34:50> Starting fragment calibration.\n",
      "2022-04-23 22:34:50> Calibrating fragments with neighbors\n",
      "2022-04-23 22:34:50> Scoring using X-Tandem\n",
      "2022-04-23 22:34:50> 2 target (0 decoy) of 42 PSMs. fdr 0.000000 for a cutoff of 23.74 (set fdr was 0.01)\n",
      "2022-04-23 22:34:50> Minimum hits for fragments before score 7.04.\n",
      "2022-04-23 22:34:50> Minimum hits for fragments after score 10.45.\n",
      "2022-04-23 22:34:50> Not enough datapoints 26 for fragment calibration. Minimum is set to 400. Skipping fragment calibration.\n",
      "2022-04-23 22:34:50> Fragment calibration of file F:/temp_test_run\\thermo_IRT.ms_data.hdf complete.\n"
     ]
    },
    {
     "name": "stderr",
     "output_type": "stream",
     "text": [
      "\r",
      "  0%|                                                                                            | 0/1 [00:00<?, ?it/s]"
     ]
    },
    {
     "name": "stdout",
     "output_type": "stream",
     "text": [
      "2022-04-23 22:34:50> ==== search_data ====\n"
     ]
    },
    {
     "name": "stderr",
     "output_type": "stream",
     "text": [
      "\n",
      "  0%|                                                                                            | 0/1 [00:00<?, ?it/s]"
     ]
    },
    {
     "name": "stdout",
     "output_type": "stream",
     "text": [
      "2022-04-23 22:34:50> Starting second search with DB.\n",
      "2022-04-23 22:34:50> Processing 1 files for step search_db\n",
      "2022-04-23 22:34:50> Found calibrated prec_tol with value 4.39\n",
      "2022-04-23 22:34:50> 'Dataset estimated_max_fragment_ppm does not exist for group / of <HDF_File F:\\\\temp_test_run\\\\thermo_IRT.ms_data.hdf>.'\n",
      "2022-04-23 22:34:51> Performing search on 2,986 query and 5,045,760 db entries with frag_tol = 30.00 and prec_tol = 4.39.\n",
      "2022-04-23 22:34:51> Found 12 psms.\n",
      "2022-04-23 22:34:51> Extracting columns for scoring.\n",
      "2022-04-23 22:34:54> Extracted columns from 12 spectra.\n",
      "2022-04-23 22:34:54> Saving second_search results to F:/temp_test_run\\thermo_IRT.ms_data.hdf\n",
      "2022-04-23 22:34:55> Search of file F:/temp_test_run\\thermo_IRT.raw complete.\n",
      "2022-04-23 22:35:09> Second search complete.\n"
     ]
    },
    {
     "name": "stderr",
     "output_type": "stream",
     "text": [
      "\r",
      "  0%|                                                                                            | 0/1 [00:18<?, ?it/s]"
     ]
    },
    {
     "name": "stdout",
     "output_type": "stream",
     "text": [
      "2022-04-23 22:35:09> ==== score ====\n"
     ]
    },
    {
     "name": "stderr",
     "output_type": "stream",
     "text": [
      "\n",
      "  0%|                                                                                            | 0/1 [00:00<?, ?it/s]"
     ]
    },
    {
     "name": "stdout",
     "output_type": "stream",
     "text": [
      "2022-04-23 22:35:09> Processing 1 files for step score_hdf\n",
      "2022-04-23 22:35:09> Calling score_hdf\n",
      "2022-04-23 22:35:09> Found second search psms for scoring.\n",
      "2022-04-23 22:35:10> 4 target (0 decoy) of 11 PSMs. fdr 0.000000 for a cutoff of 20.22 (set fdr was 0.1)\n",
      "2022-04-23 22:35:10> ML failed. Defaulting to x_tandem score\n",
      "2022-04-23 22:35:10> There are fewer high scoring targets or decoys than required by 'min_train'.\n",
      "2022-04-23 22:35:10> Converting x_tandem score to probabilities\n",
      "2022-04-23 22:35:10> 4 target (0 decoy) of 12 PSMs. fdr 0.000000 for a cutoff of 0.75 (set fdr was 0.01)\n",
      "2022-04-23 22:35:10> Saving identifications to ms_data file.\n",
      "2022-04-23 22:35:10> Saving identifications to ms_data file complete.\n",
      "2022-04-23 22:35:10> Saving identifications to csv file complete.\n",
      "2022-04-23 22:35:10> Filter df with custom score\n",
      "2022-04-23 22:35:10> Global FDR on precursor\n",
      "2022-04-23 22:35:10> 4 target (0 decoy) of 11 PSMs. fdr 0.000000 for a cutoff of 0.75 (set fdr was 0.01)\n",
      "2022-04-23 22:35:10> Global FDR cutoff at 0.75.\n",
      "2022-04-23 22:35:10> FDR on peptides complete. For 0.01 FDR found 4 targets and 0 decoys.\n",
      "2022-04-23 22:35:10> Extracting fragment_ions\n",
      "2022-04-23 22:35:10> Extracting fragment_ions complete.\n",
      "2022-04-23 22:35:11> Scoring of files F:/temp_test_run\\thermo_IRT.raw complete.\n"
     ]
    },
    {
     "name": "stderr",
     "output_type": "stream",
     "text": [
      "\r",
      "  0%|                                                                                            | 0/1 [00:01<?, ?it/s]"
     ]
    },
    {
     "name": "stdout",
     "output_type": "stream",
     "text": [
      "2022-04-23 22:35:11> ==== isobaric_labeling ====\n",
      "2022-04-23 22:35:11> ==== protein_grouping ====\n"
     ]
    },
    {
     "name": "stderr",
     "output_type": "stream",
     "text": [
      "\n",
      "  0%|                                                                                            | 0/1 [00:00<?, ?it/s]"
     ]
    },
    {
     "name": "stdout",
     "output_type": "stream",
     "text": [
      "2022-04-23 22:35:11> Fasta dict with length 20,365, Pept dict with length 5,045,764\n",
      "2022-04-23 22:35:11> Extracting protein groups.\n"
     ]
    },
    {
     "name": "stderr",
     "output_type": "stream",
     "text": [
      "\n",
      "  0%|                                                                                            | 0/1 [00:00<?, ?it/s]\u001b[A"
     ]
    },
    {
     "name": "stdout",
     "output_type": "stream",
     "text": [
      "2022-04-23 22:35:11> A total of 3 unique and 1 shared peptides.\n",
      "2022-04-23 22:35:11> A total of 1 ambigious proteins\n",
      "2022-04-23 22:35:11> A total of 0 unique and 0 shared peptides.\n",
      "2022-04-23 22:35:11> A total of 0 ambigious proteins\n"
     ]
    },
    {
     "name": "stderr",
     "output_type": "stream",
     "text": [
      "\n"
     ]
    },
    {
     "name": "stdout",
     "output_type": "stream",
     "text": [
      "2022-04-23 22:35:11> Global FDR on protein_group\n",
      "2022-04-23 22:35:11> Last q_value 0.000 of dataset is smaller than fdr_level 0.010\n",
      "2022-04-23 22:35:11> 4 target (0 decoy) of 4 PSMs. fdr 0.000000 for a cutoff of 0.75 (set fdr was 0.01)\n",
      "2022-04-23 22:35:11> Global FDR cutoff at 0.75.\n",
      "2022-04-23 22:35:11> FDR on proteins complete. For 0.01 FDR found 4 targets and 0 decoys. A total of 4 proteins found.\n",
      "2022-04-23 22:35:12> Saving complete.\n",
      "2022-04-23 22:35:12> Protein groups complete.\n",
      "2022-04-23 22:35:12> ==== quantification ====\n",
      "2022-04-23 22:35:12> Reading protein_fdr for quantification.\n"
     ]
    },
    {
     "name": "stderr",
     "output_type": "stream",
     "text": [
      "C:\\Users\\admin\\.conda\\envs\\alphapept\\lib\\site-packages\\alphapept\\score.py:786: FutureWarning: The frame.append method is deprecated and will be removed from pandas in a future version. Use pandas.concat instead.\n",
      "  protein_groups = protein_targets.append(protein_decoys)\n",
      "C:\\Users\\admin\\.conda\\envs\\alphapept\\lib\\site-packages\\alphapept\\score.py:1006: PerformanceWarning: \n",
      "your performance may suffer as PyTables will pickle object types that it cannot\n",
      "map directly to c-types [inferred_type->mixed-integer,key->block5_values] [items->Index(['fragment_ion_int', 'fragment_ion_type', 'precursor', 'sequence',\n",
      "       'sequence_naked', 'filename', 'shortname', 'sample_group', 'protein',\n",
      "       'protein_group', 'razor', 'protein_idx', 'n_possible_proteins'],\n",
      "      dtype='object')]\n",
      "\n",
      "  df_pg.to_hdf(\n",
      "\r",
      "  0%|                                                                                            | 0/1 [00:00<?, ?it/s]"
     ]
    },
    {
     "name": "stdout",
     "output_type": "stream",
     "text": [
      "2022-04-23 22:35:12> Saving protein_groups after delayed normalization to combined_protein_fdr_dn\n"
     ]
    },
    {
     "name": "stderr",
     "output_type": "stream",
     "text": [
      "\n",
      "C:\\Users\\admin\\.conda\\envs\\alphapept\\lib\\site-packages\\alphapept\\interface.py:762: PerformanceWarning: \n",
      "your performance may suffer as PyTables will pickle object types that it cannot\n",
      "map directly to c-types [inferred_type->mixed-integer,key->block5_values] [items->Index(['fragment_ion_int', 'fragment_ion_type', 'precursor', 'sequence',\n",
      "       'sequence_naked', 'filename', 'shortname', 'sample_group', 'protein',\n",
      "       'protein_group', 'razor', 'protein_idx', 'n_possible_proteins'],\n",
      "      dtype='object')]\n",
      "\n",
      "  df.to_hdf(\n"
     ]
    },
    {
     "name": "stdout",
     "output_type": "stream",
     "text": [
      "2022-04-23 22:35:12> Complete.\n",
      "2022-04-23 22:35:12> Starting profile extraction.\n"
     ]
    },
    {
     "name": "stderr",
     "output_type": "stream",
     "text": [
      "\r",
      "  0%|                                                                                            | 0/1 [00:00<?, ?it/s]"
     ]
    },
    {
     "name": "stdout",
     "output_type": "stream",
     "text": [
      "2022-04-23 22:35:12> LFQ complete.\n",
      "2022-04-23 22:35:12> Extracting protein_summary\n",
      "2022-04-23 22:35:12> Saved protein_summary of length 4 saved to F:\\temp_test_run\\results_protein_summary.csv\n",
      "2022-04-23 22:35:12> Updating protein_fdr.\n",
      "2022-04-23 22:35:12> Exporting as csv.\n",
      "2022-04-23 22:35:12> Saved df of length 4 saved to F:\\temp_test_run\\results\n",
      "2022-04-23 22:35:12> ==== export ====\n"
     ]
    },
    {
     "name": "stderr",
     "output_type": "stream",
     "text": [
      "C:\\Users\\admin\\.conda\\envs\\alphapept\\lib\\site-packages\\alphapept\\interface.py:823: PerformanceWarning: \n",
      "your performance may suffer as PyTables will pickle object types that it cannot\n",
      "map directly to c-types [inferred_type->mixed-integer,key->block5_values] [items->Index(['fragment_ion_int', 'fragment_ion_type', 'precursor', 'sequence',\n",
      "       'sequence_naked', 'filename', 'shortname', 'sample_group', 'protein',\n",
      "       'protein_group', 'razor', 'protein_idx', 'n_possible_proteins'],\n",
      "      dtype='object')]\n",
      "\n",
      "  df.to_hdf(\n",
      "100%|████████████████████████████████████████████████████████████████████████████████████| 1/1 [00:00<00:00,  7.95it/s]\n"
     ]
    },
    {
     "name": "stdout",
     "output_type": "stream",
     "text": [
      "2022-04-23 22:35:12> Settings saved to F:\\temp_test_run\\results.yaml\n",
      "2022-04-23 22:35:12> Analysis complete.\n"
     ]
    }
   ],
   "source": [
    "from alphapept.settings import load_settings\n",
    "from alphapept.paths import DEFAULT_SETTINGS_PATH\n",
    "\n",
    "settings = load_settings(DEFAULT_SETTINGS_PATH)\n",
    "\n",
    "settings['experiment']['file_paths'] =  [os.path.join(tmp_folder, 'thermo_IRT.raw')]\n",
    "settings['experiment']['fasta_paths'] = [os.path.join(tmp_folder, 'IRT_fasta.fasta')]\n",
    "    \n",
    "import alphapept.interface\n",
    "\n",
    "settings_ = alphapept.interface.run_complete_workflow(settings)"
   ]
  },
  {
   "cell_type": "markdown",
   "metadata": {},
   "source": [
    "## Basic file access\n",
    "\n",
    "Files can be read via the alphapept.io class and displayed as pandas dataframe"
   ]
  },
  {
   "cell_type": "code",
   "execution_count": 3,
   "metadata": {},
   "outputs": [
    {
     "name": "stdout",
     "output_type": "stream",
     "text": [
      "['Raw', 'corrected_fragment_mzs', 'feature_cluster_mapping', 'feature_table', 'feature_table_idx', 'features', 'first_search', 'fragment_ions', 'identifications', 'peptide_fdr', 'second_search']\n"
     ]
    },
    {
     "data": {
      "text/html": [
       "<div>\n",
       "<style scoped>\n",
       "    .dataframe tbody tr th:only-of-type {\n",
       "        vertical-align: middle;\n",
       "    }\n",
       "\n",
       "    .dataframe tbody tr th {\n",
       "        vertical-align: top;\n",
       "    }\n",
       "\n",
       "    .dataframe thead th {\n",
       "        text-align: right;\n",
       "    }\n",
       "</style>\n",
       "<table border=\"1\" class=\"dataframe\">\n",
       "  <thead>\n",
       "    <tr style=\"text-align: right;\">\n",
       "      <th></th>\n",
       "      <th>charge</th>\n",
       "      <th>db_idx</th>\n",
       "      <th>decoy</th>\n",
       "      <th>decoys_cum</th>\n",
       "      <th>delta_m</th>\n",
       "      <th>delta_m_ppm</th>\n",
       "      <th>delta_m_ppm_abs</th>\n",
       "      <th>fdr</th>\n",
       "      <th>feature_idx</th>\n",
       "      <th>fragment_ion_idx</th>\n",
       "      <th>...</th>\n",
       "      <th>scan_no</th>\n",
       "      <th>score</th>\n",
       "      <th>score_precursor</th>\n",
       "      <th>score_rank</th>\n",
       "      <th>sequence</th>\n",
       "      <th>sequence_naked</th>\n",
       "      <th>target</th>\n",
       "      <th>target_cum</th>\n",
       "      <th>target_precursor</th>\n",
       "      <th>x_tandem</th>\n",
       "    </tr>\n",
       "  </thead>\n",
       "  <tbody>\n",
       "    <tr>\n",
       "      <th>0</th>\n",
       "      <td>2.0</td>\n",
       "      <td>228181</td>\n",
       "      <td>False</td>\n",
       "      <td>0</td>\n",
       "      <td>-0.003695</td>\n",
       "      <td>-9.449076</td>\n",
       "      <td>9.449076</td>\n",
       "      <td>0.0</td>\n",
       "      <td>411</td>\n",
       "      <td>9</td>\n",
       "      <td>...</td>\n",
       "      <td>407</td>\n",
       "      <td>0.833333</td>\n",
       "      <td>0.833333</td>\n",
       "      <td>1</td>\n",
       "      <td>LGGGGDLGAR</td>\n",
       "      <td>LGGGGDLGAR</td>\n",
       "      <td>True</td>\n",
       "      <td>3</td>\n",
       "      <td>True</td>\n",
       "      <td>20.534272</td>\n",
       "    </tr>\n",
       "    <tr>\n",
       "      <th>1</th>\n",
       "      <td>3.0</td>\n",
       "      <td>956935</td>\n",
       "      <td>False</td>\n",
       "      <td>0</td>\n",
       "      <td>-0.006627</td>\n",
       "      <td>-19.767757</td>\n",
       "      <td>19.767757</td>\n",
       "      <td>0.0</td>\n",
       "      <td>1674</td>\n",
       "      <td>76</td>\n",
       "      <td>...</td>\n",
       "      <td>994</td>\n",
       "      <td>0.750000</td>\n",
       "      <td>0.750000</td>\n",
       "      <td>1</td>\n",
       "      <td>VVAGVANALAHK</td>\n",
       "      <td>VVAGVANALAHK</td>\n",
       "      <td>True</td>\n",
       "      <td>4</td>\n",
       "      <td>True</td>\n",
       "      <td>20.220867</td>\n",
       "    </tr>\n",
       "    <tr>\n",
       "      <th>2</th>\n",
       "      <td>2.0</td>\n",
       "      <td>1221756</td>\n",
       "      <td>False</td>\n",
       "      <td>0</td>\n",
       "      <td>0.009118</td>\n",
       "      <td>19.781723</td>\n",
       "      <td>19.781723</td>\n",
       "      <td>0.0</td>\n",
       "      <td>1992</td>\n",
       "      <td>87</td>\n",
       "      <td>...</td>\n",
       "      <td>2636</td>\n",
       "      <td>1.000000</td>\n",
       "      <td>1.000000</td>\n",
       "      <td>1</td>\n",
       "      <td>FLASVSTVLTSK</td>\n",
       "      <td>FLASVSTVLTSK</td>\n",
       "      <td>True</td>\n",
       "      <td>1</td>\n",
       "      <td>True</td>\n",
       "      <td>23.789697</td>\n",
       "    </tr>\n",
       "    <tr>\n",
       "      <th>3</th>\n",
       "      <td>2.0</td>\n",
       "      <td>612098</td>\n",
       "      <td>False</td>\n",
       "      <td>0</td>\n",
       "      <td>-0.002142</td>\n",
       "      <td>-6.454076</td>\n",
       "      <td>6.454076</td>\n",
       "      <td>0.0</td>\n",
       "      <td>1586</td>\n",
       "      <td>39</td>\n",
       "      <td>...</td>\n",
       "      <td>650</td>\n",
       "      <td>0.916667</td>\n",
       "      <td>0.916667</td>\n",
       "      <td>1</td>\n",
       "      <td>GLSATVTGGQK</td>\n",
       "      <td>GLSATVTGGQK</td>\n",
       "      <td>True</td>\n",
       "      <td>2</td>\n",
       "      <td>True</td>\n",
       "      <td>23.735165</td>\n",
       "    </tr>\n",
       "  </tbody>\n",
       "</table>\n",
       "<p>4 rows × 59 columns</p>\n",
       "</div>"
      ],
      "text/plain": [
       "   charge   db_idx  decoy  decoys_cum   delta_m  delta_m_ppm  delta_m_ppm_abs  \\\n",
       "0     2.0   228181  False           0 -0.003695    -9.449076         9.449076   \n",
       "1     3.0   956935  False           0 -0.006627   -19.767757        19.767757   \n",
       "2     2.0  1221756  False           0  0.009118    19.781723        19.781723   \n",
       "3     2.0   612098  False           0 -0.002142    -6.454076         6.454076   \n",
       "\n",
       "   fdr  feature_idx  fragment_ion_idx  ... scan_no     score  score_precursor  \\\n",
       "0  0.0          411                 9  ...     407  0.833333         0.833333   \n",
       "1  0.0         1674                76  ...     994  0.750000         0.750000   \n",
       "2  0.0         1992                87  ...    2636  1.000000         1.000000   \n",
       "3  0.0         1586                39  ...     650  0.916667         0.916667   \n",
       "\n",
       "   score_rank      sequence  sequence_naked  target  target_cum  \\\n",
       "0           1    LGGGGDLGAR      LGGGGDLGAR    True           3   \n",
       "1           1  VVAGVANALAHK    VVAGVANALAHK    True           4   \n",
       "2           1  FLASVSTVLTSK    FLASVSTVLTSK    True           1   \n",
       "3           1   GLSATVTGGQK     GLSATVTGGQK    True           2   \n",
       "\n",
       "   target_precursor   x_tandem  \n",
       "0              True  20.534272  \n",
       "1              True  20.220867  \n",
       "2              True  23.789697  \n",
       "3              True  23.735165  \n",
       "\n",
       "[4 rows x 59 columns]"
      ]
     },
     "execution_count": 3,
     "metadata": {},
     "output_type": "execute_result"
    }
   ],
   "source": [
    "import alphapept.io\n",
    "\n",
    "_ = settings['experiment']['file_paths'][0]\n",
    "base, ext = os.path.splitext(_)\n",
    "\n",
    "ms_file = alphapept.io.MS_Data_File(base+'.ms_data.hdf')\n",
    "\n",
    "print(ms_file.read())\n",
    "\n",
    "df = ms_file.read(dataset_name='peptide_fdr')\n",
    "\n",
    "df.head()"
   ]
  },
  {
   "cell_type": "markdown",
   "metadata": {},
   "source": [
    "## MS2 Spectrum\n",
    "\n",
    "Visualize PSMS"
   ]
  },
  {
   "cell_type": "code",
   "execution_count": 4,
   "metadata": {},
   "outputs": [
    {
     "name": "stdout",
     "output_type": "stream",
     "text": [
      " Plotting PSMS for LGGGGDLGAR_2\n"
     ]
    },
    {
     "data": {
      "image/png": "[encoded data removed]",
      "text/plain": [
       "<Figure size 1080x360 with 1 Axes>"
      ]
     },
     "metadata": {
      "needs_background": "light"
     },
     "output_type": "display_data"
    },
    {
     "name": "stdout",
     "output_type": "stream",
     "text": [
      " Plotting PSMS for VVAGVANALAHK_3\n"
     ]
    },
    {
     "data": {
      "image/png": "[encoded data removed]",
      "text/plain": [
       "<Figure size 1080x360 with 1 Axes>"
      ]
     },
     "metadata": {
      "needs_background": "light"
     },
     "output_type": "display_data"
    },
    {
     "name": "stdout",
     "output_type": "stream",
     "text": [
      " Plotting PSMS for FLASVSTVLTSK_2\n"
     ]
    },
    {
     "data": {
      "image/png": "[encoded data removed]",
      "text/plain": [
       "<Figure size 1080x360 with 1 Axes>"
      ]
     },
     "metadata": {
      "needs_background": "light"
     },
     "output_type": "display_data"
    }
   ],
   "source": [
    "try:\n",
    "    import matplotlib.pyplot as plt\n",
    "except ModuleNotFoundError:\n",
    "    !pip install matplotlib\n",
    "    import matplotlib.pyplot as plt\n",
    "\n",
    "def plot_psms(precursor, ms_file):\n",
    "\n",
    "    df = ms_file.read(dataset_name='peptide_fdr')\n",
    "    \n",
    "    ion_dict = {}\n",
    "    ion_dict[0] = ''\n",
    "    ion_dict[1] = '-H20'\n",
    "    ion_dict[2] = '-NH3'\n",
    "\n",
    "    spectrum = df[df['precursor'] == precursor].iloc[0]\n",
    "    start = spectrum['fragment_ion_idx']\n",
    "    end = spectrum['n_fragments_matched'] + start\n",
    "\n",
    "    query_data = ms_file.read_DDA_query_data()\n",
    "    ions = ms_file.read(dataset_name=\"fragment_ions\")\n",
    "\n",
    "    ion = [('b'+str(int(_))).replace('b-','y') for _ in ions.iloc[start:end]['ion_index']]\n",
    "    losses = [ion_dict[int(_)] for _ in ions.iloc[start:end]['fragment_ion_type']]\n",
    "    ion = [a+b for a,b in zip(ion, losses)]\n",
    "    ints = ions.iloc[start:end]['fragment_ion_int'].astype('int').values\n",
    "    masses = ions.iloc[start:end]['fragment_ion_mass'].astype('float').values\n",
    "    ion_type = ions.iloc[start:end]['fragment_ion_type'].abs().values\n",
    "\n",
    "    query_idx = spectrum['raw_idx']\n",
    "\n",
    "    query_indices = query_data[\"indices_ms2\"]\n",
    "    query_charges = query_data['charge2']\n",
    "    query_frags = query_data['mass_list_ms2']\n",
    "    query_ints = query_data['int_list_ms2']\n",
    "\n",
    "    query_idx_start = query_indices[query_idx]\n",
    "    query_idx_end = query_indices[query_idx + 1]\n",
    "    query_frag = query_frags[query_idx_start:query_idx_end]\n",
    "    query_int = query_ints[query_idx_start:query_idx_end]\n",
    "\n",
    "    ax = plt.figure(figsize=(15, 5))\n",
    "\n",
    "    plt.vlines(query_frag, 0, query_int, \"k\", label=\"Query\", alpha=0.5)\n",
    "\n",
    "    plt.vlines(masses, ints, max(query_int)*(1+0.1*ion_type), \"k\", alpha=0.5, linestyle=':')\n",
    "\n",
    "    plt.vlines(masses, 0, ints, \"r\", label=\"Hits\", alpha=0.5)\n",
    "\n",
    "    for i in range(len(masses)):\n",
    "        plt.text(masses[i], (1+0.1*ion_type[i])*max(query_int), ion[i], rotation=45)\n",
    "\n",
    "    figure_title = f\"{spectrum['precursor']} - b-hits {spectrum['hits_b']}, y-hits {spectrum['hits_y']}, matched int {spectrum['fragments_matched_int_ratio']*100:.2f} %\"\n",
    "\n",
    "    plt.xlabel(\"m/z\")\n",
    "    plt.ylabel('Intensity')\n",
    "    plt.ylim([0, (1+0.2*max(ion_type)+0.1)*max(query_int)])\n",
    "    plt.legend()\n",
    "    plt.title(figure_title)\n",
    "    plt.show()\n",
    "    \n",
    "    \n",
    "for index in range(3):\n",
    "    precursor = df['precursor'].iloc[index]\n",
    "    print(f\" Plotting PSMS for {precursor}\")\n",
    "    plot_psms(precursor, ms_file)"
   ]
  },
  {
   "cell_type": "markdown",
   "metadata": {},
   "source": [
    "## MS1 Cluster Annotation\n",
    "\n",
    "We add additional information from feature finding to the results dataframe, e.g. the intensities of each ms1 peak in the isotope pattern."
   ]
  },
  {
   "cell_type": "code",
   "execution_count": 5,
   "metadata": {},
   "outputs": [
    {
     "data": {
      "text/html": [
       "<div>\n",
       "<style scoped>\n",
       "    .dataframe tbody tr th:only-of-type {\n",
       "        vertical-align: middle;\n",
       "    }\n",
       "\n",
       "    .dataframe tbody tr th {\n",
       "        vertical-align: top;\n",
       "    }\n",
       "\n",
       "    .dataframe thead th {\n",
       "        text-align: right;\n",
       "    }\n",
       "</style>\n",
       "<table border=\"1\" class=\"dataframe\">\n",
       "  <thead>\n",
       "    <tr style=\"text-align: right;\">\n",
       "      <th></th>\n",
       "      <th>delta_m</th>\n",
       "      <th>feature_id</th>\n",
       "      <th>int_area</th>\n",
       "      <th>int_sum</th>\n",
       "      <th>mz_average</th>\n",
       "      <th>rt_max</th>\n",
       "      <th>rt_min</th>\n",
       "    </tr>\n",
       "  </thead>\n",
       "  <tbody>\n",
       "    <tr>\n",
       "      <th>0</th>\n",
       "      <td>0.000036</td>\n",
       "      <td>0</td>\n",
       "      <td>798250.449363</td>\n",
       "      <td>214627482.0</td>\n",
       "      <td>502.531047</td>\n",
       "      <td>3.944738</td>\n",
       "      <td>3.554484</td>\n",
       "    </tr>\n",
       "    <tr>\n",
       "      <th>1</th>\n",
       "      <td>0.000035</td>\n",
       "      <td>0</td>\n",
       "      <td>990777.061024</td>\n",
       "      <td>179895124.0</td>\n",
       "      <td>502.865319</td>\n",
       "      <td>4.046092</td>\n",
       "      <td>3.558843</td>\n",
       "    </tr>\n",
       "    <tr>\n",
       "      <th>2</th>\n",
       "      <td>0.000049</td>\n",
       "      <td>0</td>\n",
       "      <td>52814.116257</td>\n",
       "      <td>76070616.0</td>\n",
       "      <td>503.199507</td>\n",
       "      <td>3.852766</td>\n",
       "      <td>3.571734</td>\n",
       "    </tr>\n",
       "    <tr>\n",
       "      <th>3</th>\n",
       "      <td>0.000024</td>\n",
       "      <td>0</td>\n",
       "      <td>401169.609614</td>\n",
       "      <td>60845570.0</td>\n",
       "      <td>503.533679</td>\n",
       "      <td>3.880534</td>\n",
       "      <td>3.563944</td>\n",
       "    </tr>\n",
       "    <tr>\n",
       "      <th>4</th>\n",
       "      <td>0.000067</td>\n",
       "      <td>0</td>\n",
       "      <td>506193.819236</td>\n",
       "      <td>33896542.0</td>\n",
       "      <td>503.867499</td>\n",
       "      <td>3.940195</td>\n",
       "      <td>3.593494</td>\n",
       "    </tr>\n",
       "  </tbody>\n",
       "</table>\n",
       "</div>"
      ],
      "text/plain": [
       "    delta_m  feature_id       int_area      int_sum  mz_average    rt_max  \\\n",
       "0  0.000036           0  798250.449363  214627482.0  502.531047  3.944738   \n",
       "1  0.000035           0  990777.061024  179895124.0  502.865319  4.046092   \n",
       "2  0.000049           0   52814.116257   76070616.0  503.199507  3.852766   \n",
       "3  0.000024           0  401169.609614   60845570.0  503.533679  3.880534   \n",
       "4  0.000067           0  506193.819236   33896542.0  503.867499  3.940195   \n",
       "\n",
       "     rt_min  \n",
       "0  3.554484  \n",
       "1  3.558843  \n",
       "2  3.571734  \n",
       "3  3.563944  \n",
       "4  3.593494  "
      ]
     },
     "metadata": {},
     "output_type": "display_data"
    },
    {
     "data": {
      "text/html": [
       "<div>\n",
       "<style scoped>\n",
       "    .dataframe tbody tr th:only-of-type {\n",
       "        vertical-align: middle;\n",
       "    }\n",
       "\n",
       "    .dataframe tbody tr th {\n",
       "        vertical-align: top;\n",
       "    }\n",
       "\n",
       "    .dataframe thead th {\n",
       "        text-align: right;\n",
       "    }\n",
       "</style>\n",
       "<table border=\"1\" class=\"dataframe\">\n",
       "  <thead>\n",
       "    <tr style=\"text-align: right;\">\n",
       "      <th></th>\n",
       "      <th>sequence</th>\n",
       "      <th>ms1_int_sum</th>\n",
       "      <th>isotope_mzs</th>\n",
       "      <th>isotope_ints</th>\n",
       "    </tr>\n",
       "  </thead>\n",
       "  <tbody>\n",
       "    <tr>\n",
       "      <th>0</th>\n",
       "      <td>LGGGGDLGAR</td>\n",
       "      <td>2.868931e+08</td>\n",
       "      <td>[436.73372317527816, 437.2351573299738, 437.73...</td>\n",
       "      <td>[42105367.0, 17780929.0, 5142316.0, 915274.0, ...</td>\n",
       "    </tr>\n",
       "    <tr>\n",
       "      <th>1</th>\n",
       "      <td>VVAGVANALAHK</td>\n",
       "      <td>4.185693e+07</td>\n",
       "      <td>[383.89642449622215, 384.2308924492123, 384.56...</td>\n",
       "      <td>[2110360.0, 1324969.0, 440667.0]</td>\n",
       "    </tr>\n",
       "    <tr>\n",
       "      <th>2</th>\n",
       "      <td>FLASVSTVLTSK</td>\n",
       "      <td>3.574684e+07</td>\n",
       "      <td>[626.8627053714234, 627.3643907872828, 627.866...</td>\n",
       "      <td>[7054460.0, 5353604.0, 1414458.0]</td>\n",
       "    </tr>\n",
       "    <tr>\n",
       "      <th>3</th>\n",
       "      <td>GLSATVTGGQK</td>\n",
       "      <td>3.401187e+07</td>\n",
       "      <td>[509.78076489289543, 510.2829142906923, 510.78...</td>\n",
       "      <td>[4022154.0, 2004348.0, 476489.0]</td>\n",
       "    </tr>\n",
       "  </tbody>\n",
       "</table>\n",
       "</div>"
      ],
      "text/plain": [
       "       sequence   ms1_int_sum  \\\n",
       "0    LGGGGDLGAR  2.868931e+08   \n",
       "1  VVAGVANALAHK  4.185693e+07   \n",
       "2  FLASVSTVLTSK  3.574684e+07   \n",
       "3   GLSATVTGGQK  3.401187e+07   \n",
       "\n",
       "                                         isotope_mzs  \\\n",
       "0  [436.73372317527816, 437.2351573299738, 437.73...   \n",
       "1  [383.89642449622215, 384.2308924492123, 384.56...   \n",
       "2  [626.8627053714234, 627.3643907872828, 627.866...   \n",
       "3  [509.78076489289543, 510.2829142906923, 510.78...   \n",
       "\n",
       "                                        isotope_ints  \n",
       "0  [42105367.0, 17780929.0, 5142316.0, 915274.0, ...  \n",
       "1                   [2110360.0, 1324969.0, 440667.0]  \n",
       "2                  [7054460.0, 5353604.0, 1414458.0]  \n",
       "3                   [4022154.0, 2004348.0, 476489.0]  "
      ]
     },
     "metadata": {},
     "output_type": "display_data"
    }
   ],
   "source": [
    "feature_mapping = ms_file.read(dataset_name='feature_cluster_mapping')\n",
    "display(feature_mapping.head())\n",
    "feature_table = ms_file.read(dataset_name='feature_table')\n",
    "feature_table['isotope_mzs'] = feature_mapping.groupby('feature_id')['mz_average'].apply(list)\n",
    "feature_table['isotope_ints'] = feature_mapping.groupby('feature_id')['int_sum'].apply(list)\n",
    "\n",
    "df[['isotope_mzs','isotope_ints']] = feature_table.loc[df['feature_idx'].tolist()][['isotope_mzs','isotope_ints']].values\n",
    "\n",
    "display(df[['sequence','ms1_int_sum','isotope_mzs','isotope_ints']])"
   ]
  }
 ],
 "metadata": {
  "kernelspec": {
   "display_name": "Python 3 (ipykernel)",
   "language": "python",
   "name": "python3"
  },
  "language_info": {
   "codemirror_mode": {
    "name": "ipython",
    "version": 3
   },
   "file_extension": ".py",
   "mimetype": "text/x-python",
   "name": "python",
   "nbconvert_exporter": "python",
   "pygments_lexer": "ipython3",
   "version": "3.8.13"
  },
  "toc": {
   "base_numbering": 1,
   "nav_menu": {},
   "number_sections": true,
   "sideBar": true,
   "skip_h1_title": false,
   "title_cell": "Table of Contents",
   "title_sidebar": "Contents",
   "toc_cell": false,
   "toc_position": {},
   "toc_section_display": true,
   "toc_window_display": false
  }
 },
 "nbformat": 4,
 "nbformat_minor": 4
}
