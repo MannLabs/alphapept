{
 "cells": [
  {
   "cell_type": "markdown",
   "metadata": {},
   "source": [
    "# AlphaPept Test Runs and Visualization Examples\n",
    "\n",
    "This notebooks is intended to show how a IRT File can be processed."
   ]
  },
  {
   "cell_type": "markdown",
   "metadata": {},
   "source": [
    "## Download Test Data"
   ]
  },
  {
   "cell_type": "code",
   "execution_count": 1,
   "metadata": {},
   "outputs": [],
   "source": [
    "import os\n",
    "try:\n",
    "    import wget\n",
    "except ModuleNotFoundError:\n",
    "    !pip install wget\n",
    "    import wget\n",
    "    \n",
    "FILE_DICT = {}\n",
    "FILE_DICT['thermo_IRT.raw'] = 'https://datashare.biochem.mpg.de/s/GpXsATZtMwgQoQt/download'\n",
    "FILE_DICT['IRT_fasta.fasta'] = 'https://datashare.biochem.mpg.de/s/p8Qu3KolzbSiCHH/download'\n",
    "\n",
    "tmp_folder = os.path.join(os.getcwd(),'/temp_test_run')\n",
    "\n",
    "if not os.path.isdir(tmp_folder):\n",
    "    os.mkdir(tmp_folder)\n",
    "    \n",
    "for file in FILE_DICT:\n",
    "    target = os.path.join(tmp_folder, file)\n",
    "    if not os.path.isfile(target):\n",
    "        wget.download(FILE_DICT[file], target)"
   ]
  },
  {
   "cell_type": "markdown",
   "metadata": {},
   "source": [
    "## Test Run"
   ]
  },
  {
   "cell_type": "code",
   "execution_count": 2,
   "metadata": {
    "scrolled": false
   },
   "outputs": [
    {
     "name": "stdout",
     "output_type": "stream",
     "text": [
      "2022-08-16 17:29:28> Logging to C:\\Users\\admin\\alphapept\\logs\\log_20220816172928.txt.\n",
      "2022-08-16 17:29:28> Code location f:\\projects\\alphapept\\alphapept\n",
      "2022-08-16 17:29:28> Python location C:\\Users\\admin\\.conda\\envs\\alphapept\\python.exe\n",
      "2022-08-16 17:29:28> Platform information:\n",
      "2022-08-16 17:29:28> system     - Windows\n",
      "2022-08-16 17:29:28> release    - 10\n",
      "2022-08-16 17:29:28> version    - 10.0.19044\n",
      "2022-08-16 17:29:28> machine    - AMD64\n",
      "2022-08-16 17:29:28> processor  - Intel64 Family 6 Model 85 Stepping 4, GenuineIntel\n",
      "2022-08-16 17:29:28> cpu count  - 24\n",
      "2022-08-16 17:29:28> ram memory - 118.2/127.7 Gb (available/total)\n",
      "2022-08-16 17:29:28> processor  - Intel64 Family 6 Model 85 Stepping 4, GenuineIntel\n",
      "2022-08-16 17:29:28> Python information:\n",
      "2022-08-16 17:29:28> SQLAlchemy                    - 1.4.35\n",
      "2022-08-16 17:29:28> alphapept                     - 0.4.8\n",
      "2022-08-16 17:29:28> biopython                     - 1.79\n",
      "2022-08-16 17:29:28> bumpversion                   - \n",
      "2022-08-16 17:29:28> bumpversion>                  - \n",
      "2022-08-16 17:29:28> click                         - 8.0.4\n",
      "2022-08-16 17:29:28> click>                        - \n",
      "2022-08-16 17:29:28> fastcore                      - 1.4.2\n",
      "2022-08-16 17:29:28> h5py                          - 3.6.0\n",
      "2022-08-16 17:29:28> jupyter                       - 1.0.0\n",
      "2022-08-16 17:29:28> jupyter>                      - \n",
      "2022-08-16 17:29:28> jupyter_contrib_nbextensions  - \n",
      "2022-08-16 17:29:28> jupyter_contrib_nbextensions> - \n",
      "2022-08-16 17:29:28> matplotlib                    - 3.5.1\n",
      "2022-08-16 17:29:28> nbdev                         - 1.2.8\n",
      "2022-08-16 17:29:28> nbdev>                        - \n",
      "2022-08-16 17:29:28> networkx                      - 2.8\n",
      "2022-08-16 17:29:28> numba                         - 0.55.1\n",
      "2022-08-16 17:29:28> numpy                         - 1.20.3\n",
      "2022-08-16 17:29:28> pandas                        - 1.4.2\n",
      "2022-08-16 17:29:28> plotly_express                - 0.4.1\n",
      "2022-08-16 17:29:28> psutil                        - 5.9.0\n",
      "2022-08-16 17:29:28> pyinstaller                   - \n",
      "2022-08-16 17:29:28> pyteomics                     - 4.5.3\n",
      "2022-08-16 17:29:28> python                        - 3.8.13\n",
      "2022-08-16 17:29:28> pythonnet                     - 2.5.2\n",
      "2022-08-16 17:29:28> pywin32                       - 225\n",
      "2022-08-16 17:29:28> pyyaml                        - 6.0\n",
      "2022-08-16 17:29:28> scikit-learn                  - 1.0.2\n",
      "2022-08-16 17:29:28> scipy                         - 1.8.0\n",
      "2022-08-16 17:29:28> streamlit                     - 1.10.0\n",
      "2022-08-16 17:29:28> streamlit-aggrid              - 0.2.3.post2\n",
      "2022-08-16 17:29:28> streamlit<                    - \n",
      "2022-08-16 17:29:28> tables                        - 3.6.1\n",
      "2022-08-16 17:29:28> tqdm                          - 4.64.0\n",
      "2022-08-16 17:29:28> twine                         - \n",
      "2022-08-16 17:29:28> twine>                        - \n",
      "2022-08-16 17:29:28> watchdog                      - 2.1.7\n",
      "2022-08-16 17:29:28> wget                          - 3.2\n",
      "2022-08-16 17:29:28> \n",
      "2022-08-16 17:29:28> Check for settings not completely implemented yet.\n",
      "2022-08-16 17:29:28> Size check:\n",
      "2022-08-16 17:29:28> Size of job (raw files) 0.07 Gb\n",
      "2022-08-16 17:29:28> Required disk space for F: - 0.07 Gb, Available 315.62 Gb OK.\n",
      "2022-08-16 17:29:28> \n",
      "2022-08-16 17:29:28> Workflow Settings:\n",
      "2022-08-16 17:29:28> align              - False\n",
      "2022-08-16 17:29:28> continue_runs      - False\n",
      "2022-08-16 17:29:28> create_database    - True\n",
      "2022-08-16 17:29:28> find_features      - True\n",
      "2022-08-16 17:29:28> import_raw_data    - True\n",
      "2022-08-16 17:29:28> lfq_quantification - True\n",
      "2022-08-16 17:29:28> match              - False\n",
      "2022-08-16 17:29:28> recalibrate_data   - True\n",
      "2022-08-16 17:29:28> search_data        - True\n",
      "2022-08-16 17:29:28> \n",
      "2022-08-16 17:29:29> Checking if files exist.\n",
      "2022-08-16 17:29:29> FASTA Files have a total size of 0.000 Mb\n",
      "2022-08-16 17:29:29> Results path was not set. Setting to F:\\temp_test_run\\results.hdf\n",
      "2022-08-16 17:29:29> Shortnames not set. Setting to filename.\n",
      "2022-08-16 17:29:29> Sample group not set. Setting to shortname.\n",
      "2022-08-16 17:29:29> Fraction not set. Setting to 1.\n",
      "2022-08-16 17:29:29> No database path set and save_db option checked. Using default path F:\\temp_test_run\\database.hdf\n",
      "2022-08-16 17:29:29> Deleted F:/temp_test_run\\thermo_IRT.ms_data.hdf\n",
      "2022-08-16 17:29:29> Workflow has 11 steps\n",
      "2022-08-16 17:29:29> ==== create_database ====\n",
      "2022-08-16 17:29:29> Database path set and exists. Using F:\\temp_test_run\\database.hdf as database.\n",
      "2022-08-16 17:29:29> ==== import_raw_data ====\n"
     ]
    },
    {
     "name": "stderr",
     "output_type": "stream",
     "text": [
      "\r",
      "  0%|                                                                                            | 0/1 [00:00<?, ?it/s]"
     ]
    },
    {
     "name": "stdout",
     "output_type": "stream",
     "text": [
      "2022-08-16 17:29:29> Processing 1 files for step raw_conversion\n",
      "2022-08-16 17:29:29> File F:/temp_test_run\\thermo_IRT has extension .raw - converting from Thermo.\n",
      "2022-08-16 17:29:33> File conversion complete. Extracted 2,603 precursors.\n",
      "2022-08-16 17:29:33> File conversion of file F:/temp_test_run\\thermo_IRT.raw complete.\n"
     ]
    },
    {
     "name": "stderr",
     "output_type": "stream",
     "text": [
      "\r",
      "  0%|                                                                                            | 0/1 [00:04<?, ?it/s]"
     ]
    },
    {
     "name": "stdout",
     "output_type": "stream",
     "text": [
      "2022-08-16 17:29:33> ==== feature_finding ====\n"
     ]
    },
    {
     "name": "stderr",
     "output_type": "stream",
     "text": [
      "\n",
      "  0%|                                                                                            | 0/1 [00:00<?, ?it/s]"
     ]
    },
    {
     "name": "stdout",
     "output_type": "stream",
     "text": [
      "2022-08-16 17:29:36> Processing 1 files for step find_features\n",
      "2022-08-16 17:29:36> No *.hdf file with features found for F:/temp_test_run\\thermo_IRT.ms_data.hdf. Adding to feature finding list.\n",
      "2022-08-16 17:29:36> Feature finding on F:/temp_test_run\\thermo_IRT.raw\n",
      "2022-08-16 17:29:36> Hill extraction with centroid_tol 8 and max_gap 2\n",
      "2022-08-16 17:29:39> Number of hills 45,516, len = 20.18\n",
      "2022-08-16 17:29:39> Repeating hill extraction with centroid_tol 5.10\n",
      "2022-08-16 17:29:40> Number of hills 52,919, len = 21.29\n",
      "2022-08-16 17:29:42> After duplicate removal of hills 43,950\n",
      "2022-08-16 17:29:48> After split hill_ptrs 61,693\n",
      "2022-08-16 17:29:49> After filter hill_ptrs 60,175\n",
      "2022-08-16 17:30:01> Extracting hill stats complete\n",
      "2022-08-16 17:30:03> Found 7,045 pre isotope patterns.\n",
      "2022-08-16 17:30:19> Extracted 6,428 isotope patterns.\n",
      "2022-08-16 17:30:27> Report complete.\n",
      "2022-08-16 17:30:27> Matching features to query data.\n",
      "2022-08-16 17:30:27> Saving feature table.\n",
      "2022-08-16 17:30:28> Feature table saved to F:/temp_test_run\\thermo_IRT.ms_data.hdf\n",
      "2022-08-16 17:30:28> Saving features.\n",
      "2022-08-16 17:30:28> Feature finding of file F:/temp_test_run\\thermo_IRT.raw complete.\n"
     ]
    },
    {
     "name": "stderr",
     "output_type": "stream",
     "text": [
      "\r",
      "  0%|                                                                                            | 0/1 [00:51<?, ?it/s]"
     ]
    },
    {
     "name": "stdout",
     "output_type": "stream",
     "text": [
      "2022-08-16 17:30:28> ==== search_data ====\n"
     ]
    },
    {
     "name": "stderr",
     "output_type": "stream",
     "text": [
      "\n",
      "  0%|                                                                                            | 0/1 [00:00<?, ?it/s]"
     ]
    },
    {
     "name": "stdout",
     "output_type": "stream",
     "text": [
      "2022-08-16 17:30:28> Starting first search.\n",
      "2022-08-16 17:30:28> Processing 1 files for step search_db\n",
      "2022-08-16 17:30:28> Calibrating fragments\n",
      "2022-08-16 17:30:29> Performing search on 2,969 query and 44 db entries with frag_tol = 60.00 and prec_tol = 30.00.\n",
      "2022-08-16 17:30:31> Found 18 psms.\n",
      "2022-08-16 17:30:31> Extracting columns for scoring.\n",
      "2022-08-16 17:30:36> Extracted columns from 18 spectra.\n",
      "2022-08-16 17:30:36> Saving first_search results to F:/temp_test_run\\thermo_IRT.ms_data.hdf\n",
      "2022-08-16 17:30:37> Search of file F:/temp_test_run\\thermo_IRT.raw complete.\n",
      "2022-08-16 17:30:37> First search complete.\n"
     ]
    },
    {
     "name": "stderr",
     "output_type": "stream",
     "text": [
      "\r",
      "  0%|                                                                                            | 0/1 [00:09<?, ?it/s]"
     ]
    },
    {
     "name": "stdout",
     "output_type": "stream",
     "text": [
      "2022-08-16 17:30:37> ==== recalibrate_data ====\n"
     ]
    },
    {
     "name": "stderr",
     "output_type": "stream",
     "text": [
      "\n",
      "  0%|                                                                                            | 0/1 [00:00<?, ?it/s]"
     ]
    },
    {
     "name": "stdout",
     "output_type": "stream",
     "text": [
      "2022-08-16 17:30:37> Processing 1 files for step calibrate_hdf\n",
      "2022-08-16 17:30:37> Recalibrating file F:/temp_test_run\\thermo_IRT.raw.\n",
      "2022-08-16 17:30:37> Scoring using generic score\n",
      "2022-08-16 17:30:37> Last q_value 0.000 of dataset is smaller than fdr_level 0.010\n",
      "2022-08-16 17:30:37> 10 target (0 decoy) of 10 PSMs. FDR 0.000000 for a cutoff of 10.17 (set FDR was 0.01).\n",
      "2022-08-16 17:30:37> Precursor mass calibration for file F:/temp_test_run\\thermo_IRT.raw.\n",
      "2022-08-16 17:30:37> Not enough data points present. Skipping recalibration.\n",
      "2022-08-16 17:30:37> Precursor calibration of file F:/temp_test_run\\thermo_IRT.ms_data.hdf complete.\n",
      "2022-08-16 17:30:37> Starting fragment calibration.\n",
      "2022-08-16 17:30:37> Calibrating fragments with neighbors\n",
      "2022-08-16 17:30:37> Scoring using generic score\n",
      "2022-08-16 17:30:37> Last q_value 0.000 of dataset is smaller than fdr_level 0.010\n",
      "2022-08-16 17:30:37> 10 target (0 decoy) of 10 PSMs. FDR 0.000000 for a cutoff of 10.17 (set FDR was 0.01).\n",
      "2022-08-16 17:30:37> Minimum hits for fragments before score 7.40.\n",
      "2022-08-16 17:30:37> Minimum hits for fragments after score 8.34.\n",
      "2022-08-16 17:30:37> Not enough datapoints 105 for fragment calibration. Minimum is set to 400. Skipping fragment calibration.\n",
      "2022-08-16 17:30:37> Fragment calibration of file F:/temp_test_run\\thermo_IRT.ms_data.hdf complete.\n"
     ]
    },
    {
     "name": "stderr",
     "output_type": "stream",
     "text": [
      "\r",
      "  0%|                                                                                            | 0/1 [00:00<?, ?it/s]"
     ]
    },
    {
     "name": "stdout",
     "output_type": "stream",
     "text": [
      "2022-08-16 17:30:37> ==== search_data ====\n"
     ]
    },
    {
     "name": "stderr",
     "output_type": "stream",
     "text": [
      "\n",
      "  0%|                                                                                            | 0/1 [00:00<?, ?it/s]"
     ]
    },
    {
     "name": "stdout",
     "output_type": "stream",
     "text": [
      "2022-08-16 17:30:37> Starting second search with DB.\n",
      "2022-08-16 17:30:37> Processing 1 files for step search_db\n",
      "2022-08-16 17:30:37> Found calibrated prec_tol with value 8.43\n",
      "2022-08-16 17:30:37> 'Dataset estimated_max_fragment_ppm does not exist for group / of <HDF_File F:\\\\temp_test_run\\\\thermo_IRT.ms_data.hdf>.'\n",
      "2022-08-16 17:30:37> Performing search on 2,969 query and 44 db entries with frag_tol = 60.00 and prec_tol = 8.43.\n",
      "2022-08-16 17:30:37> Found 17 psms.\n",
      "2022-08-16 17:30:37> Extracting columns for scoring.\n",
      "2022-08-16 17:30:37> Extracted columns from 17 spectra.\n",
      "2022-08-16 17:30:37> Saving second_search results to F:/temp_test_run\\thermo_IRT.ms_data.hdf\n",
      "2022-08-16 17:30:38> Search of file F:/temp_test_run\\thermo_IRT.raw complete.\n",
      "2022-08-16 17:30:38> Second search complete.\n"
     ]
    },
    {
     "name": "stderr",
     "output_type": "stream",
     "text": [
      "\r",
      "  0%|                                                                                            | 0/1 [00:00<?, ?it/s]"
     ]
    },
    {
     "name": "stdout",
     "output_type": "stream",
     "text": [
      "2022-08-16 17:30:38> ==== score ====\n"
     ]
    },
    {
     "name": "stderr",
     "output_type": "stream",
     "text": [
      "\n",
      "  0%|                                                                                            | 0/1 [00:00<?, ?it/s]"
     ]
    },
    {
     "name": "stdout",
     "output_type": "stream",
     "text": [
      "2022-08-16 17:30:38> Processing 1 files for step score_hdf\n",
      "2022-08-16 17:30:38> Calling score_hdf\n",
      "2022-08-16 17:30:38> Found second search psms for scoring.\n",
      "2022-08-16 17:30:38> Last q_value 0.000 of dataset is smaller than fdr_level 0.100\n",
      "2022-08-16 17:30:38> 10 target (0 decoy) of 10 PSMs. FDR 0.000000 for a cutoff of 20.10 (set FDR was 0.1).\n",
      "2022-08-16 17:30:38> The total number of available decoys is lower than the initial set of high scoring targets.\n",
      "2022-08-16 17:30:38> ML failed. Defaulting to x_tandem score\n",
      "2022-08-16 17:30:38> There are fewer high scoring targets or decoys than required by 'min_train'.\n",
      "2022-08-16 17:30:38> Converting x_tandem score to probabilities\n",
      "2022-08-16 17:30:38> Last q_value 0.000 of dataset is smaller than fdr_level 0.010\n",
      "2022-08-16 17:30:38> 16 target (0 decoy) of 16 PSMs. FDR 0.000000 for a cutoff of 0.06 (set FDR was 0.01).\n",
      "2022-08-16 17:30:38> Saving identifications to ms_data file.\n",
      "2022-08-16 17:30:39> Saving identifications to ms_data file complete.\n",
      "2022-08-16 17:30:39> Saving identifications to csv file complete.\n",
      "2022-08-16 17:30:39> Filter df with custom score\n",
      "2022-08-16 17:30:39> Global FDR on precursor\n",
      "2022-08-16 17:30:39> Last q_value 0.000 of dataset is smaller than fdr_level 0.010\n",
      "2022-08-16 17:30:39> 10 target (0 decoy) of 10 PSMs. FDR 0.000000 for a cutoff of 0.18 (set FDR was 0.01).\n",
      "2022-08-16 17:30:39> Global FDR cutoff at 0.176.\n",
      "2022-08-16 17:30:39> FDR on peptides complete. For 0.01 FDR found 10 targets and 0 decoys.\n",
      "2022-08-16 17:30:39> Extracting fragment_ions\n",
      "2022-08-16 17:30:39> Extracting fragment_ions complete.\n",
      "2022-08-16 17:30:39> Exporting peptide_fdr on F:/temp_test_run\\thermo_IRT.raw.\n",
      "2022-08-16 17:30:39> Scoring of files F:/temp_test_run\\thermo_IRT.raw complete.\n"
     ]
    },
    {
     "name": "stderr",
     "output_type": "stream",
     "text": [
      "\r",
      "  0%|                                                                                            | 0/1 [00:01<?, ?it/s]"
     ]
    },
    {
     "name": "stdout",
     "output_type": "stream",
     "text": [
      "2022-08-16 17:30:39> ==== isobaric_labeling ====\n",
      "2022-08-16 17:30:39> ==== protein_grouping ====\n"
     ]
    },
    {
     "name": "stderr",
     "output_type": "stream",
     "text": [
      "\n",
      "  0%|                                                                                            | 0/1 [00:00<?, ?it/s]"
     ]
    },
    {
     "name": "stdout",
     "output_type": "stream",
     "text": [
      "2022-08-16 17:30:39> Fasta dict with length 1, Pept dict with length 44\n",
      "2022-08-16 17:30:39> Extracting protein groups.\n"
     ]
    },
    {
     "name": "stderr",
     "output_type": "stream",
     "text": [
      "\n",
      "  0%|                                                                                            | 0/1 [00:00<?, ?it/s]\u001b[A\n"
     ]
    },
    {
     "name": "stdout",
     "output_type": "stream",
     "text": [
      "2022-08-16 17:30:40> A total of 7 unique and 0 shared peptides.\n",
      "2022-08-16 17:30:40> A total of 0 ambigious proteins\n",
      "2022-08-16 17:30:40> A total of 0 unique and 0 shared peptides.\n",
      "2022-08-16 17:30:40> A total of 0 ambigious proteins\n",
      "2022-08-16 17:30:40> Global FDR on protein_group\n",
      "2022-08-16 17:30:40> Last q_value 0.000 of dataset is smaller than fdr_level 0.010\n",
      "2022-08-16 17:30:40> 1 target (0 decoy) of 1 PSMs. FDR 0.000000 for a cutoff of 1.00 (set FDR was 0.01).\n",
      "2022-08-16 17:30:40> Global FDR cutoff at 1.000.\n",
      "2022-08-16 17:30:40> FDR on proteins complete. For 0.01 FDR found 10 targets and 0 decoys. A total of 1 proteins found.\n",
      "2022-08-16 17:30:40> Saving complete.\n",
      "2022-08-16 17:30:40> Protein groups complete.\n",
      "2022-08-16 17:30:40> ==== quantification ====\n"
     ]
    },
    {
     "name": "stderr",
     "output_type": "stream",
     "text": [
      "\r",
      "  0%|                                                                                            | 0/1 [00:01<?, ?it/s]"
     ]
    },
    {
     "name": "stdout",
     "output_type": "stream",
     "text": [
      "2022-08-16 17:30:40> Reading protein_fdr for quantification.\n",
      "2022-08-16 17:30:40> Saving protein_groups after delayed normalization to combined_protein_fdr_dn\n",
      "2022-08-16 17:30:40> Complete.\n",
      "2022-08-16 17:30:40> Starting profile extraction.\n"
     ]
    },
    {
     "name": "stderr",
     "output_type": "stream",
     "text": [
      "\n",
      "  0%|                                                                                            | 0/1 [00:00<?, ?it/s]"
     ]
    },
    {
     "name": "stdout",
     "output_type": "stream",
     "text": [
      "2022-08-16 17:30:41> LFQ complete.\n",
      "2022-08-16 17:30:41> Extracting protein_summary\n",
      "2022-08-16 17:30:41> Saved protein_summary of length 1 saved to F:\\temp_test_run\\results_protein_summary.csv\n",
      "2022-08-16 17:30:41> Updating protein_fdr.\n",
      "2022-08-16 17:30:41> Exporting as csv.\n",
      "2022-08-16 17:30:41> Saved df of length 10 saved to F:\\temp_test_run\\results\n",
      "2022-08-16 17:30:41> ==== export ====\n"
     ]
    },
    {
     "name": "stderr",
     "output_type": "stream",
     "text": [
      "\r",
      "100%|████████████████████████████████████████████████████████████████████████████████████| 1/1 [00:00<00:00,  3.99it/s]"
     ]
    },
    {
     "name": "stdout",
     "output_type": "stream",
     "text": [
      "2022-08-16 17:30:41> Settings saved to F:\\temp_test_run\\results.yaml\n",
      "2022-08-16 17:30:41> Analysis complete.\n"
     ]
    },
    {
     "name": "stderr",
     "output_type": "stream",
     "text": [
      "\n"
     ]
    }
   ],
   "source": [
    "from alphapept.settings import load_settings\n",
    "from alphapept.paths import DEFAULT_SETTINGS_PATH\n",
    "\n",
    "settings = load_settings(DEFAULT_SETTINGS_PATH)\n",
    "\n",
    "settings['experiment']['file_paths'] =  [os.path.join(tmp_folder, 'thermo_IRT.raw')]\n",
    "settings['experiment']['fasta_paths'] = [os.path.join(tmp_folder, 'IRT_fasta.fasta')]\n",
    "    \n",
    "import alphapept.interface\n",
    "\n",
    "settings_ = alphapept.interface.run_complete_workflow(settings)"
   ]
  },
  {
   "cell_type": "markdown",
   "metadata": {},
   "source": [
    "## Basic file access\n",
    "\n",
    "Files can be read via the alphapept.io class and displayed as pandas dataframe"
   ]
  },
  {
   "cell_type": "code",
   "execution_count": 3,
   "metadata": {},
   "outputs": [
    {
     "name": "stdout",
     "output_type": "stream",
     "text": [
      "['Raw', 'corrected_fragment_mzs', 'feature_cluster_mapping', 'feature_table', 'feature_table_idx', 'features', 'first_search', 'fragment_ions', 'identifications', 'peptide_fdr', 'second_search']\n"
     ]
    },
    {
     "data": {
      "text/html": [
       "<div>\n",
       "<style scoped>\n",
       "    .dataframe tbody tr th:only-of-type {\n",
       "        vertical-align: middle;\n",
       "    }\n",
       "\n",
       "    .dataframe tbody tr th {\n",
       "        vertical-align: top;\n",
       "    }\n",
       "\n",
       "    .dataframe thead th {\n",
       "        text-align: right;\n",
       "    }\n",
       "</style>\n",
       "<table border=\"1\" class=\"dataframe\">\n",
       "  <thead>\n",
       "    <tr style=\"text-align: right;\">\n",
       "      <th></th>\n",
       "      <th>charge</th>\n",
       "      <th>db_idx</th>\n",
       "      <th>decoy</th>\n",
       "      <th>decoys_cum</th>\n",
       "      <th>delta_m</th>\n",
       "      <th>delta_m_ppm</th>\n",
       "      <th>delta_m_ppm_abs</th>\n",
       "      <th>fdr</th>\n",
       "      <th>feature_idx</th>\n",
       "      <th>fragment_ion_idx</th>\n",
       "      <th>...</th>\n",
       "      <th>scan_no</th>\n",
       "      <th>score</th>\n",
       "      <th>score_precursor</th>\n",
       "      <th>score_rank</th>\n",
       "      <th>sequence</th>\n",
       "      <th>sequence_naked</th>\n",
       "      <th>target</th>\n",
       "      <th>target_cum</th>\n",
       "      <th>target_precursor</th>\n",
       "      <th>x_tandem</th>\n",
       "    </tr>\n",
       "  </thead>\n",
       "  <tbody>\n",
       "    <tr>\n",
       "      <th>0</th>\n",
       "      <td>2.0</td>\n",
       "      <td>2</td>\n",
       "      <td>False</td>\n",
       "      <td>0</td>\n",
       "      <td>-0.010010</td>\n",
       "      <td>-24.163145</td>\n",
       "      <td>24.163145</td>\n",
       "      <td>0.0</td>\n",
       "      <td>788</td>\n",
       "      <td>0</td>\n",
       "      <td>...</td>\n",
       "      <td>502</td>\n",
       "      <td>0.588235</td>\n",
       "      <td>0.588235</td>\n",
       "      <td>1</td>\n",
       "      <td>aLGGNEQVTR</td>\n",
       "      <td>LGGNEQVTR</td>\n",
       "      <td>True</td>\n",
       "      <td>7</td>\n",
       "      <td>True</td>\n",
       "      <td>24.488608</td>\n",
       "    </tr>\n",
       "    <tr>\n",
       "      <th>1</th>\n",
       "      <td>2.0</td>\n",
       "      <td>5</td>\n",
       "      <td>False</td>\n",
       "      <td>0</td>\n",
       "      <td>-0.004608</td>\n",
       "      <td>-9.847274</td>\n",
       "      <td>9.847274</td>\n",
       "      <td>0.0</td>\n",
       "      <td>2214</td>\n",
       "      <td>45</td>\n",
       "      <td>...</td>\n",
       "      <td>3195</td>\n",
       "      <td>0.176471</td>\n",
       "      <td>0.176471</td>\n",
       "      <td>1</td>\n",
       "      <td>YILAGVENSK</td>\n",
       "      <td>YILAGVENSK</td>\n",
       "      <td>True</td>\n",
       "      <td>10</td>\n",
       "      <td>True</td>\n",
       "      <td>20.098690</td>\n",
       "    </tr>\n",
       "    <tr>\n",
       "      <th>2</th>\n",
       "      <td>2.0</td>\n",
       "      <td>11</td>\n",
       "      <td>False</td>\n",
       "      <td>0</td>\n",
       "      <td>0.011160</td>\n",
       "      <td>29.780113</td>\n",
       "      <td>29.780113</td>\n",
       "      <td>0.0</td>\n",
       "      <td>4136</td>\n",
       "      <td>64</td>\n",
       "      <td>...</td>\n",
       "      <td>2308</td>\n",
       "      <td>1.000000</td>\n",
       "      <td>1.000000</td>\n",
       "      <td>1</td>\n",
       "      <td>GAGSSEPVTGLDAK</td>\n",
       "      <td>GAGSSEPVTGLDAK</td>\n",
       "      <td>True</td>\n",
       "      <td>1</td>\n",
       "      <td>True</td>\n",
       "      <td>44.082809</td>\n",
       "    </tr>\n",
       "    <tr>\n",
       "      <th>3</th>\n",
       "      <td>2.0</td>\n",
       "      <td>15</td>\n",
       "      <td>False</td>\n",
       "      <td>0</td>\n",
       "      <td>-0.015810</td>\n",
       "      <td>-36.432690</td>\n",
       "      <td>36.432690</td>\n",
       "      <td>0.0</td>\n",
       "      <td>433</td>\n",
       "      <td>135</td>\n",
       "      <td>...</td>\n",
       "      <td>1150</td>\n",
       "      <td>0.941176</td>\n",
       "      <td>0.941176</td>\n",
       "      <td>1</td>\n",
       "      <td>VEATFGVDESNAK</td>\n",
       "      <td>VEATFGVDESNAK</td>\n",
       "      <td>True</td>\n",
       "      <td>2</td>\n",
       "      <td>True</td>\n",
       "      <td>42.721045</td>\n",
       "    </tr>\n",
       "    <tr>\n",
       "      <th>4</th>\n",
       "      <td>3.0</td>\n",
       "      <td>17</td>\n",
       "      <td>False</td>\n",
       "      <td>0</td>\n",
       "      <td>0.000253</td>\n",
       "      <td>0.851631</td>\n",
       "      <td>0.851631</td>\n",
       "      <td>0.0</td>\n",
       "      <td>3828</td>\n",
       "      <td>167</td>\n",
       "      <td>...</td>\n",
       "      <td>1409</td>\n",
       "      <td>0.294118</td>\n",
       "      <td>0.294118</td>\n",
       "      <td>1</td>\n",
       "      <td>TPVITGAPYEYR</td>\n",
       "      <td>TPVITGAPYEYR</td>\n",
       "      <td>True</td>\n",
       "      <td>9</td>\n",
       "      <td>True</td>\n",
       "      <td>20.184031</td>\n",
       "    </tr>\n",
       "  </tbody>\n",
       "</table>\n",
       "<p>5 rows × 62 columns</p>\n",
       "</div>"
      ],
      "text/plain": [
       "   charge  db_idx  decoy  decoys_cum   delta_m  delta_m_ppm  delta_m_ppm_abs  \\\n",
       "0     2.0       2  False           0 -0.010010   -24.163145        24.163145   \n",
       "1     2.0       5  False           0 -0.004608    -9.847274         9.847274   \n",
       "2     2.0      11  False           0  0.011160    29.780113        29.780113   \n",
       "3     2.0      15  False           0 -0.015810   -36.432690        36.432690   \n",
       "4     3.0      17  False           0  0.000253     0.851631         0.851631   \n",
       "\n",
       "   fdr  feature_idx  fragment_ion_idx  ... scan_no     score  score_precursor  \\\n",
       "0  0.0          788                 0  ...     502  0.588235         0.588235   \n",
       "1  0.0         2214                45  ...    3195  0.176471         0.176471   \n",
       "2  0.0         4136                64  ...    2308  1.000000         1.000000   \n",
       "3  0.0          433               135  ...    1150  0.941176         0.941176   \n",
       "4  0.0         3828               167  ...    1409  0.294118         0.294118   \n",
       "\n",
       "   score_rank        sequence  sequence_naked  target  target_cum  \\\n",
       "0           1      aLGGNEQVTR       LGGNEQVTR    True           7   \n",
       "1           1      YILAGVENSK      YILAGVENSK    True          10   \n",
       "2           1  GAGSSEPVTGLDAK  GAGSSEPVTGLDAK    True           1   \n",
       "3           1   VEATFGVDESNAK   VEATFGVDESNAK    True           2   \n",
       "4           1    TPVITGAPYEYR    TPVITGAPYEYR    True           9   \n",
       "\n",
       "   target_precursor   x_tandem  \n",
       "0              True  24.488608  \n",
       "1              True  20.098690  \n",
       "2              True  44.082809  \n",
       "3              True  42.721045  \n",
       "4              True  20.184031  \n",
       "\n",
       "[5 rows x 62 columns]"
      ]
     },
     "execution_count": 3,
     "metadata": {},
     "output_type": "execute_result"
    }
   ],
   "source": [
    "import alphapept.io\n",
    "\n",
    "_ = settings['experiment']['file_paths'][0]\n",
    "base, ext = os.path.splitext(_)\n",
    "\n",
    "ms_file = alphapept.io.MS_Data_File(base+'.ms_data.hdf')\n",
    "\n",
    "print(ms_file.read())\n",
    "\n",
    "df = ms_file.read(dataset_name='peptide_fdr')\n",
    "\n",
    "df.head()"
   ]
  },
  {
   "cell_type": "markdown",
   "metadata": {},
   "source": [
    "## MS2 Spectrum\n",
    "\n",
    "Visualize PSMS"
   ]
  },
  {
   "cell_type": "code",
   "execution_count": 4,
   "metadata": {},
   "outputs": [
    {
     "name": "stdout",
     "output_type": "stream",
     "text": [
      " Plotting PSMS for aLGGNEQVTR_2\n"
     ]
    },
    {
     "data": {
      "image/png": "[encoded data removed]",
      "text/plain": [
       "<Figure size 1080x360 with 1 Axes>"
      ]
     },
     "metadata": {
      "needs_background": "light"
     },
     "output_type": "display_data"
    },
    {
     "name": "stdout",
     "output_type": "stream",
     "text": [
      " Plotting PSMS for YILAGVENSK_2\n"
     ]
    },
    {
     "data": {
      "image/png": "[encoded data removed]",
      "text/plain": [
       "<Figure size 1080x360 with 1 Axes>"
      ]
     },
     "metadata": {
      "needs_background": "light"
     },
     "output_type": "display_data"
    },
    {
     "name": "stdout",
     "output_type": "stream",
     "text": [
      " Plotting PSMS for GAGSSEPVTGLDAK_2\n"
     ]
    },
    {
     "data": {
      "image/png": "[encoded data removed]",
      "text/plain": [
       "<Figure size 1080x360 with 1 Axes>"
      ]
     },
     "metadata": {
      "needs_background": "light"
     },
     "output_type": "display_data"
    }
   ],
   "source": [
    "try:\n",
    "    import matplotlib.pyplot as plt\n",
    "except ModuleNotFoundError:\n",
    "    !pip install matplotlib\n",
    "    import matplotlib.pyplot as plt\n",
    "\n",
    "def plot_psms(precursor, ms_file):\n",
    "\n",
    "    df = ms_file.read(dataset_name='peptide_fdr')\n",
    "    \n",
    "    ion_dict = {}\n",
    "    ion_dict[0] = ''\n",
    "    ion_dict[1] = '-H20'\n",
    "    ion_dict[2] = '-NH3'\n",
    "\n",
    "    spectrum = df[df['precursor'] == precursor].iloc[0]\n",
    "    start = spectrum['fragment_ion_idx']\n",
    "    end = spectrum['n_fragments_matched'] + start\n",
    "\n",
    "    query_data = ms_file.read_DDA_query_data()\n",
    "    ions = ms_file.read(dataset_name=\"fragment_ions\")\n",
    "\n",
    "    ion = [('b'+str(int(_))).replace('b-','y') for _ in ions.iloc[start:end]['ion_index']]\n",
    "    losses = [ion_dict[int(_)] for _ in ions.iloc[start:end]['fragment_ion_type']]\n",
    "    ion = [a+b for a,b in zip(ion, losses)]\n",
    "    ints = ions.iloc[start:end]['fragment_ion_int'].astype('int').values\n",
    "    masses = ions.iloc[start:end]['fragment_ion_mass'].astype('float').values\n",
    "    ion_type = ions.iloc[start:end]['fragment_ion_type'].abs().values\n",
    "\n",
    "    query_idx = spectrum['raw_idx']\n",
    "\n",
    "    query_indices = query_data[\"indices_ms2\"]\n",
    "    query_charges = query_data['charge2']\n",
    "    query_frags = query_data['mass_list_ms2']\n",
    "    query_ints = query_data['int_list_ms2']\n",
    "\n",
    "    query_idx_start = query_indices[query_idx]\n",
    "    query_idx_end = query_indices[query_idx + 1]\n",
    "    query_frag = query_frags[query_idx_start:query_idx_end]\n",
    "    query_int = query_ints[query_idx_start:query_idx_end]\n",
    "\n",
    "    ax = plt.figure(figsize=(15, 5))\n",
    "\n",
    "    plt.vlines(query_frag, 0, query_int, \"k\", label=\"Query\", alpha=0.5)\n",
    "\n",
    "    plt.vlines(masses, ints, max(query_int)*(1+0.1*ion_type), \"k\", alpha=0.5, linestyle=':')\n",
    "\n",
    "    plt.vlines(masses, 0, ints, \"r\", label=\"Hits\", alpha=0.5)\n",
    "\n",
    "    for i in range(len(masses)):\n",
    "        plt.text(masses[i], (1+0.1*ion_type[i])*max(query_int), ion[i], rotation=45)\n",
    "\n",
    "    figure_title = f\"{spectrum['precursor']} - b-hits {spectrum['hits_b']}, y-hits {spectrum['hits_y']}, matched int {spectrum['fragments_matched_int_ratio']*100:.2f} %\"\n",
    "\n",
    "    plt.xlabel(\"m/z\")\n",
    "    plt.ylabel('Intensity')\n",
    "    plt.ylim([0, (1+0.2*max(ion_type)+0.1)*max(query_int)])\n",
    "    plt.legend()\n",
    "    plt.title(figure_title)\n",
    "    plt.show()\n",
    "    \n",
    "    \n",
    "for index in range(3):\n",
    "    precursor = df['precursor'].iloc[index]\n",
    "    print(f\" Plotting PSMS for {precursor}\")\n",
    "    plot_psms(precursor, ms_file)"
   ]
  },
  {
   "cell_type": "markdown",
   "metadata": {},
   "source": [
    "## MS1 Cluster Annotation\n",
    "\n",
    "We add additional information from feature finding to the results dataframe, e.g. the intensities of each ms1 peak in the isotope pattern."
   ]
  },
  {
   "cell_type": "code",
   "execution_count": 5,
   "metadata": {},
   "outputs": [
    {
     "data": {
      "text/html": [
       "<div>\n",
       "<style scoped>\n",
       "    .dataframe tbody tr th:only-of-type {\n",
       "        vertical-align: middle;\n",
       "    }\n",
       "\n",
       "    .dataframe tbody tr th {\n",
       "        vertical-align: top;\n",
       "    }\n",
       "\n",
       "    .dataframe thead th {\n",
       "        text-align: right;\n",
       "    }\n",
       "</style>\n",
       "<table border=\"1\" class=\"dataframe\">\n",
       "  <thead>\n",
       "    <tr style=\"text-align: right;\">\n",
       "      <th></th>\n",
       "      <th>delta_m</th>\n",
       "      <th>feature_id</th>\n",
       "      <th>int_area</th>\n",
       "      <th>int_sum</th>\n",
       "      <th>mz_average</th>\n",
       "      <th>rt_max</th>\n",
       "      <th>rt_min</th>\n",
       "    </tr>\n",
       "  </thead>\n",
       "  <tbody>\n",
       "    <tr>\n",
       "      <th>0</th>\n",
       "      <td>0.000036</td>\n",
       "      <td>0</td>\n",
       "      <td>27822352.0</td>\n",
       "      <td>1.587311e+06</td>\n",
       "      <td>502.531047</td>\n",
       "      <td>3.944738</td>\n",
       "      <td>3.554484</td>\n",
       "    </tr>\n",
       "    <tr>\n",
       "      <th>1</th>\n",
       "      <td>0.000035</td>\n",
       "      <td>0</td>\n",
       "      <td>24784830.0</td>\n",
       "      <td>1.322329e+06</td>\n",
       "      <td>502.865319</td>\n",
       "      <td>4.046092</td>\n",
       "      <td>3.558843</td>\n",
       "    </tr>\n",
       "    <tr>\n",
       "      <th>2</th>\n",
       "      <td>0.000049</td>\n",
       "      <td>0</td>\n",
       "      <td>11709788.0</td>\n",
       "      <td>5.794037e+05</td>\n",
       "      <td>503.199507</td>\n",
       "      <td>3.852766</td>\n",
       "      <td>3.571734</td>\n",
       "    </tr>\n",
       "    <tr>\n",
       "      <th>3</th>\n",
       "      <td>0.000024</td>\n",
       "      <td>0</td>\n",
       "      <td>7539783.0</td>\n",
       "      <td>4.583391e+05</td>\n",
       "      <td>503.533679</td>\n",
       "      <td>3.880534</td>\n",
       "      <td>3.563944</td>\n",
       "    </tr>\n",
       "    <tr>\n",
       "      <th>4</th>\n",
       "      <td>0.000067</td>\n",
       "      <td>0</td>\n",
       "      <td>3973159.0</td>\n",
       "      <td>2.497231e+05</td>\n",
       "      <td>503.867499</td>\n",
       "      <td>3.940195</td>\n",
       "      <td>3.593494</td>\n",
       "    </tr>\n",
       "  </tbody>\n",
       "</table>\n",
       "</div>"
      ],
      "text/plain": [
       "    delta_m  feature_id    int_area       int_sum  mz_average    rt_max  \\\n",
       "0  0.000036           0  27822352.0  1.587311e+06  502.531047  3.944738   \n",
       "1  0.000035           0  24784830.0  1.322329e+06  502.865319  4.046092   \n",
       "2  0.000049           0  11709788.0  5.794037e+05  503.199507  3.852766   \n",
       "3  0.000024           0   7539783.0  4.583391e+05  503.533679  3.880534   \n",
       "4  0.000067           0   3973159.0  2.497231e+05  503.867499  3.940195   \n",
       "\n",
       "     rt_min  \n",
       "0  3.554484  \n",
       "1  3.558843  \n",
       "2  3.571734  \n",
       "3  3.563944  \n",
       "4  3.593494  "
      ]
     },
     "metadata": {},
     "output_type": "display_data"
    },
    {
     "data": {
      "text/html": [
       "<div>\n",
       "<style scoped>\n",
       "    .dataframe tbody tr th:only-of-type {\n",
       "        vertical-align: middle;\n",
       "    }\n",
       "\n",
       "    .dataframe tbody tr th {\n",
       "        vertical-align: top;\n",
       "    }\n",
       "\n",
       "    .dataframe thead th {\n",
       "        text-align: right;\n",
       "    }\n",
       "</style>\n",
       "<table border=\"1\" class=\"dataframe\">\n",
       "  <thead>\n",
       "    <tr style=\"text-align: right;\">\n",
       "      <th></th>\n",
       "      <th>sequence</th>\n",
       "      <th>ms1_int_max_apex</th>\n",
       "      <th>isotope_mzs</th>\n",
       "      <th>isotope_ints</th>\n",
       "    </tr>\n",
       "  </thead>\n",
       "  <tbody>\n",
       "    <tr>\n",
       "      <th>0</th>\n",
       "      <td>aLGGNEQVTR</td>\n",
       "      <td>3116723.0</td>\n",
       "      <td>[508.2620453037451, 508.76385718420187, 509.26...</td>\n",
       "      <td>[122902.31421169222, 67981.91934427808, 19639....</td>\n",
       "    </tr>\n",
       "    <tr>\n",
       "      <th>1</th>\n",
       "      <td>YILAGVENSK</td>\n",
       "      <td>1873333.0</td>\n",
       "      <td>[547.3000377721302, 547.801014261477, 548.3029...</td>\n",
       "      <td>[500206.3273492577, 126970.09700456857, 32436....</td>\n",
       "    </tr>\n",
       "    <tr>\n",
       "      <th>2</th>\n",
       "      <td>GAGSSEPVTGLDAK</td>\n",
       "      <td>14920207.0</td>\n",
       "      <td>[644.8238768765993, 645.3252663024551]</td>\n",
       "      <td>[3591206.385207564, 2340883.194958115]</td>\n",
       "    </tr>\n",
       "    <tr>\n",
       "      <th>3</th>\n",
       "      <td>VEATFGVDESNAK</td>\n",
       "      <td>717901824.0</td>\n",
       "      <td>[683.8288464436114, 684.3301703290708, 684.831...</td>\n",
       "      <td>[29633220.149333637, 20944366.153576445, 85788...</td>\n",
       "    </tr>\n",
       "    <tr>\n",
       "      <th>4</th>\n",
       "      <td>TPVITGAPYEYR</td>\n",
       "      <td>581179.0</td>\n",
       "      <td>[456.2393179848759, 456.57367692381195]</td>\n",
       "      <td>[16555.861197835045, 8144.0085287391685]</td>\n",
       "    </tr>\n",
       "    <tr>\n",
       "      <th>5</th>\n",
       "      <td>TPVITGAPYEYR</td>\n",
       "      <td>743694.0</td>\n",
       "      <td>[683.8576315351023, 684.3592700250589, 684.863...</td>\n",
       "      <td>[259008.45116678617, 123117.70168668813, 40977...</td>\n",
       "    </tr>\n",
       "    <tr>\n",
       "      <th>6</th>\n",
       "      <td>DGLDAASYYAPVR</td>\n",
       "      <td>34798644.0</td>\n",
       "      <td>[466.5618217691148, 466.8961812583818, 467.230...</td>\n",
       "      <td>[1975915.366381876, 1343307.032678022, 622426....</td>\n",
       "    </tr>\n",
       "    <tr>\n",
       "      <th>7</th>\n",
       "      <td>DGLDAASYYAPVR</td>\n",
       "      <td>14679496.0</td>\n",
       "      <td>[1397.6713570137658, 1398.6742593698127, 1399....</td>\n",
       "      <td>[502686.32771732, 416060.9306901697, 160572.18...</td>\n",
       "    </tr>\n",
       "    <tr>\n",
       "      <th>8</th>\n",
       "      <td>DGLDAASYYAPVR</td>\n",
       "      <td>273945.0</td>\n",
       "      <td>[699.3398555012627, 699.8412961795319, 700.343...</td>\n",
       "      <td>[21436.73082860898, 14266.718852849786, 7992.1...</td>\n",
       "    </tr>\n",
       "    <tr>\n",
       "      <th>9</th>\n",
       "      <td>LFLQFGAQGSPFLK</td>\n",
       "      <td>2966084.0</td>\n",
       "      <td>[776.9329540391475, 777.4344396642488, 777.935...</td>\n",
       "      <td>[67298.72161451865, 62887.1785876662, 29836.25...</td>\n",
       "    </tr>\n",
       "  </tbody>\n",
       "</table>\n",
       "</div>"
      ],
      "text/plain": [
       "         sequence  ms1_int_max_apex  \\\n",
       "0      aLGGNEQVTR         3116723.0   \n",
       "1      YILAGVENSK         1873333.0   \n",
       "2  GAGSSEPVTGLDAK        14920207.0   \n",
       "3   VEATFGVDESNAK       717901824.0   \n",
       "4    TPVITGAPYEYR          581179.0   \n",
       "5    TPVITGAPYEYR          743694.0   \n",
       "6   DGLDAASYYAPVR        34798644.0   \n",
       "7   DGLDAASYYAPVR        14679496.0   \n",
       "8   DGLDAASYYAPVR          273945.0   \n",
       "9  LFLQFGAQGSPFLK         2966084.0   \n",
       "\n",
       "                                         isotope_mzs  \\\n",
       "0  [508.2620453037451, 508.76385718420187, 509.26...   \n",
       "1  [547.3000377721302, 547.801014261477, 548.3029...   \n",
       "2             [644.8238768765993, 645.3252663024551]   \n",
       "3  [683.8288464436114, 684.3301703290708, 684.831...   \n",
       "4            [456.2393179848759, 456.57367692381195]   \n",
       "5  [683.8576315351023, 684.3592700250589, 684.863...   \n",
       "6  [466.5618217691148, 466.8961812583818, 467.230...   \n",
       "7  [1397.6713570137658, 1398.6742593698127, 1399....   \n",
       "8  [699.3398555012627, 699.8412961795319, 700.343...   \n",
       "9  [776.9329540391475, 777.4344396642488, 777.935...   \n",
       "\n",
       "                                        isotope_ints  \n",
       "0  [122902.31421169222, 67981.91934427808, 19639....  \n",
       "1  [500206.3273492577, 126970.09700456857, 32436....  \n",
       "2             [3591206.385207564, 2340883.194958115]  \n",
       "3  [29633220.149333637, 20944366.153576445, 85788...  \n",
       "4           [16555.861197835045, 8144.0085287391685]  \n",
       "5  [259008.45116678617, 123117.70168668813, 40977...  \n",
       "6  [1975915.366381876, 1343307.032678022, 622426....  \n",
       "7  [502686.32771732, 416060.9306901697, 160572.18...  \n",
       "8  [21436.73082860898, 14266.718852849786, 7992.1...  \n",
       "9  [67298.72161451865, 62887.1785876662, 29836.25...  "
      ]
     },
     "metadata": {},
     "output_type": "display_data"
    }
   ],
   "source": [
    "feature_mapping = ms_file.read(dataset_name='feature_cluster_mapping')\n",
    "display(feature_mapping.head())\n",
    "feature_table = ms_file.read(dataset_name='feature_table')\n",
    "feature_table['isotope_mzs'] = feature_mapping.groupby('feature_id')['mz_average'].apply(list)\n",
    "feature_table['isotope_ints'] = feature_mapping.groupby('feature_id')['int_sum'].apply(list)\n",
    "\n",
    "df[['isotope_mzs','isotope_ints']] = feature_table.loc[df['feature_idx'].tolist()][['isotope_mzs','isotope_ints']].values\n",
    "\n",
    "display(df[['sequence','ms1_int_max_apex','isotope_mzs','isotope_ints']])"
   ]
  }
 ],
 "metadata": {
  "kernelspec": {
   "display_name": "Python 3 (ipykernel)",
   "language": "python",
   "name": "python3"
  },
  "language_info": {
   "codemirror_mode": {
    "name": "ipython",
    "version": 3
   },
   "file_extension": ".py",
   "mimetype": "text/x-python",
   "name": "python",
   "nbconvert_exporter": "python",
   "pygments_lexer": "ipython3",
   "version": "3.8.13"
  },
  "toc": {
   "base_numbering": 1,
   "nav_menu": {},
   "number_sections": true,
   "sideBar": true,
   "skip_h1_title": false,
   "title_cell": "Table of Contents",
   "title_sidebar": "Contents",
   "toc_cell": false,
   "toc_position": {},
   "toc_section_display": true,
   "toc_window_display": false
  },
  "vscode": {
   "interpreter": {
    "hash": "93e8bb4087408aec42fcdf4393a67f3ce091943157b7a43e15b454dcb1ee1235"
   }
  }
 },
 "nbformat": 4,
 "nbformat_minor": 4
}
