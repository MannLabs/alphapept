{
 "cells": [
  {
   "cell_type": "markdown",
   "metadata": {},
   "source": [
    "# AlphaPept Test Runs and Visualization Examples\n",
    "\n",
    "This notebooks is intended to show how a HeLa File can be processed."
   ]
  },
  {
   "cell_type": "markdown",
   "metadata": {},
   "source": [
    "## Download Test Data"
   ]
  },
  {
   "cell_type": "code",
   "execution_count": 1,
   "metadata": {},
   "outputs": [],
   "source": [
    "import os\n",
    "try:\n",
    "    import wget\n",
    "except ModuleNotFoundError:\n",
    "    !pip install wget\n",
    "    import wget\n",
    "    \n",
    "FILE_DICT = {}\n",
    "FILE_DICT['thermo_IRT.raw'] = 'https://datashare.biochem.mpg.de/s/GpXsATZtMwgQoQt/download'\n",
    "FILE_DICT['IRT_fasta.fasta'] = 'https://datashare.biochem.mpg.de/s/p8Qu3KolzbSiCHH/download'\n",
    "\n",
    "tmp_folder = os.path.join(os.getcwd(),'/temp')\n",
    "\n",
    "if not os.path.isdir(tmp_folder):\n",
    "    os.mkdir(tmp_folder)\n",
    "    \n",
    "for file in FILE_DICT:\n",
    "    target = os.path.join(tmp_folder, file)\n",
    "    if not os.path.isfile(target):\n",
    "        wget.download(FILE_DICT[file], target)"
   ]
  },
  {
   "cell_type": "markdown",
   "metadata": {},
   "source": [
    "## Test Run"
   ]
  },
  {
   "cell_type": "code",
   "execution_count": 2,
   "metadata": {},
   "outputs": [
    {
     "name": "stdout",
     "output_type": "stream",
     "text": [
      "2021-05-03 15:22:23> Logging to C:\\Users\\admin\\alphapept\\logs\\log_20210503152223.txt.\n",
      "2021-05-03 15:22:23> Platform information:\n",
      "2021-05-03 15:22:23> system     - Windows\n",
      "2021-05-03 15:22:23> release    - 10\n",
      "2021-05-03 15:22:23> version    - 10.0.18362\n",
      "2021-05-03 15:22:23> machine    - AMD64\n",
      "2021-05-03 15:22:23> processor  - Intel64 Family 6 Model 85 Stepping 4, GenuineIntel\n",
      "2021-05-03 15:22:23> cpu count  - 24\n",
      "2021-05-03 15:22:23> ram memory - 115.4/127.7 Gb (available/total)\n",
      "2021-05-03 15:22:23> \n",
      "2021-05-03 15:22:23> Python information:\n",
      "2021-05-03 15:22:23> PyQt5             - 5.15.2\n",
      "2021-05-03 15:22:23> SQLAlchemy        - 1.3.22\n",
      "2021-05-03 15:22:23> alphapept         - 0.3.19-dev0\n",
      "2021-05-03 15:22:23> biopython         - 1.78\n",
      "2021-05-03 15:22:23> click             - 7.1.2\n",
      "2021-05-03 15:22:23> comtypes          - 1.1.7\n",
      "2021-05-03 15:22:23> fastcore          - 1.3.5\n",
      "2021-05-03 15:22:23> h5py              - 3.1.0\n",
      "2021-05-03 15:22:23> lxml              - 4.6.2\n",
      "2021-05-03 15:22:23> matplotlib        - 3.3.3\n",
      "2021-05-03 15:22:23> nbdev             - 1.1.5\n",
      "2021-05-03 15:22:23> networkx          - 2.5\n",
      "2021-05-03 15:22:23> numba             - 0.52.0\n",
      "2021-05-03 15:22:23> numpy             - 1.19.4\n",
      "2021-05-03 15:22:23> pandas            - 1.2.1\n",
      "2021-05-03 15:22:23> psutil            - 5.8.0\n",
      "2021-05-03 15:22:23> python            - 3.8.8\n",
      "2021-05-03 15:22:23> pythonnet         - 2.5.1\n",
      "2021-05-03 15:22:23> pyyaml            - 5.3.1\n",
      "2021-05-03 15:22:23> qdarkstyle        - 2.8.1\n",
      "2021-05-03 15:22:23> qroundprogressbar - 1.0.0\n",
      "2021-05-03 15:22:23> scikit-learn      - 0.23.2\n",
      "2021-05-03 15:22:23> scipy             - 1.6.0\n",
      "2021-05-03 15:22:23> seaborn           - 0.11.1\n",
      "2021-05-03 15:22:23> tables            - 3.6.1\n",
      "2021-05-03 15:22:23> tqdm              - 4.56.0\n",
      "2021-05-03 15:22:23> \n",
      "2021-05-03 15:22:23> Check for settings not completely implemented yet.\n",
      "2021-05-03 15:22:23> Checking if files exist.\n",
      "2021-05-03 15:22:23> Results path was not set. Setting to F:\\temp\\results.hdf\n",
      "2021-05-03 15:22:23> Shortnames not set. Setting to filename.\n",
      "2021-05-03 15:22:23> No database path set and save_db option checked. Using default path F:\\temp\\database.hdf\n",
      "2021-05-03 15:22:23> Deleted {filename}\n",
      "2021-05-03 15:22:23> Workflow has 10 steps\n",
      "2021-05-03 15:22:24> Database path set and exists. Using F:\\temp\\database.hdf as database.\n"
     ]
    },
    {
     "name": "stderr",
     "output_type": "stream",
     "text": [
      "\r",
      "  0%|                                                                                            | 0/1 [00:00<?, ?it/s]"
     ]
    },
    {
     "name": "stdout",
     "output_type": "stream",
     "text": [
      "2021-05-03 15:22:24> Processing 1 files for step raw_conversion\n",
      "2021-05-03 15:22:24> File F:/temp\\thermo_IRT has extension .raw - converting from Thermo.\n",
      "2021-05-03 15:22:27> File conversion complete. Extracted 2,603 precursors.\n",
      "2021-05-03 15:22:27> File conversion of file F:/temp\\thermo_IRT.raw complete.\n",
      "2021-05-03 15:22:27> init\n"
     ]
    },
    {
     "name": "stderr",
     "output_type": "stream",
     "text": [
      "  0%|                                                                                            | 0/1 [00:05<?, ?it/s]\n",
      "  0%|                                                                                            | 0/1 [00:00<?, ?it/s]"
     ]
    },
    {
     "name": "stdout",
     "output_type": "stream",
     "text": [
      "2021-05-03 15:22:29> Processing 1 files for step find_features\n",
      "2021-05-03 15:22:29> No *.hdf file with features found for F:/temp\\thermo_IRT.ms_data.hdf. Adding to feature finding list.\n",
      "2021-05-03 15:22:29> Feature finding on F:/temp\\thermo_IRT.raw\n",
      "2021-05-03 15:22:31> Number of hills 45,516, len = 20.18\n",
      "2021-05-03 15:22:31> Repeating hill extraction with ppm_tol 5.10\n",
      "2021-05-03 15:22:32> Number of hills 52,919, len = 21.29\n",
      "2021-05-03 15:22:37> After split hill_ptrs 79,545\n",
      "2021-05-03 15:22:38> After filter hill_ptrs 77,220\n",
      "2021-05-03 15:22:52> Extracting hill stats complete\n",
      "2021-05-03 15:22:54> Found 7,527 pre isotope patterns.\n",
      "2021-05-03 15:23:09> Extracted 7,578 isotope patterns.\n",
      "2021-05-03 15:23:16> Report complete.\n",
      "2021-05-03 15:23:16> Matching features to query data.\n",
      "2021-05-03 15:23:16> Note: NumExpr detected 24 cores but \"NUMEXPR_MAX_THREADS\" not set, so enforcing safe limit of 8.\n",
      "2021-05-03 15:23:16> NumExpr defaulting to 8 threads.\n",
      "2021-05-03 15:23:16> Saving feature table.\n",
      "2021-05-03 15:23:16> Feature table saved to F:/temp\\thermo_IRT.ms_data.hdf\n",
      "2021-05-03 15:23:16> Saving features.\n",
      "2021-05-03 15:23:16> Feature finding of file F:/temp\\thermo_IRT.raw complete.\n"
     ]
    },
    {
     "name": "stderr",
     "output_type": "stream",
     "text": [
      "\n",
      "  0%|                                                                                            | 0/1 [00:00<?, ?it/s]\u001b[A"
     ]
    },
    {
     "name": "stdout",
     "output_type": "stream",
     "text": [
      "2021-05-03 15:23:16> Starting first search.\n",
      "2021-05-03 15:23:16> Processing 1 files for step search_db\n",
      "2021-05-03 15:23:16> Calibrating fragments\n",
      "2021-05-03 15:23:17> Performing search on 1,533 query and 40 db entries with m_tol = 30.00 and m_offset = 30.00.\n"
     ]
    },
    {
     "name": "stderr",
     "output_type": "stream",
     "text": [
      "  0%|                                                                                            | 0/1 [00:49<?, ?it/s]\n"
     ]
    },
    {
     "name": "stdout",
     "output_type": "stream",
     "text": [
      "2021-05-03 15:23:21> Compared 128 spectra and found 27 psms.\n",
      "2021-05-03 15:23:21> Extracting columns for scoring.\n",
      "2021-05-03 15:23:27> Extracted columns from 27 spectra.\n",
      "2021-05-03 15:23:27> Saving first_search results to F:/temp\\thermo_IRT.ms_data.hdf\n",
      "2021-05-03 15:23:27> Search of file F:/temp\\thermo_IRT.raw complete.\n",
      "2021-05-03 15:23:27> First search complete.\n"
     ]
    },
    {
     "name": "stderr",
     "output_type": "stream",
     "text": [
      "\r",
      "  0%|                                                                                            | 0/1 [00:00<?, ?it/s]"
     ]
    },
    {
     "name": "stdout",
     "output_type": "stream",
     "text": [
      "2021-05-03 15:23:27> Processing 1 files for step calibrate_hdf\n",
      "2021-05-03 15:23:27> Scoring using X-Tandem\n",
      "2021-05-03 15:23:27> Last q_value 0.000 of dataset is smaller than fdr_level 0.010\n",
      "2021-05-03 15:23:27> 11 target (0 decoy) of 11 PSMs. fdr 0.000000 for a cutoff of 16.81 (set fdr was 0.01)\n",
      "2021-05-03 15:23:27> Not enough data points present. Skipping recalibration.\n",
      "2021-05-03 15:23:27> Calibration of file F:/temp\\thermo_IRT.ms_data.hdf complete.\n",
      "2021-05-03 15:23:27> Calibrating fragments\n",
      "2021-05-03 15:23:27> Median fragment offset 10.91 - std 13.28 ppm\n"
     ]
    },
    {
     "name": "stderr",
     "output_type": "stream",
     "text": [
      "\n",
      "\n",
      "  0%|                                                                                            | 0/1 [00:00<?, ?it/s]\u001b[A\u001b[A"
     ]
    },
    {
     "name": "stdout",
     "output_type": "stream",
     "text": [
      "2021-05-03 15:23:27> Starting second search with DB.\n",
      "2021-05-03 15:23:27> Processing 1 files for step search_db\n",
      "2021-05-03 15:23:27> Found calibrated m_offset with value 11.01\n",
      "2021-05-03 15:23:27> Performing search on 1,533 query and 40 db entries with m_tol = 30.00 and m_offset = 11.01.\n",
      "2021-05-03 15:23:27> Compared 128 spectra and found 24 psms.\n",
      "2021-05-03 15:23:27> Extracting columns for scoring.\n",
      "2021-05-03 15:23:27> Extracted columns from 24 spectra.\n",
      "2021-05-03 15:23:27> Saving second_search results to F:/temp\\thermo_IRT.ms_data.hdf\n",
      "2021-05-03 15:23:27> Search of file F:/temp\\thermo_IRT.raw complete.\n",
      "2021-05-03 15:23:27> Second search complete.\n"
     ]
    },
    {
     "name": "stderr",
     "output_type": "stream",
     "text": [
      "\n",
      "\n",
      "\n",
      "  0%|                                                                                            | 0/1 [00:00<?, ?it/s]\u001b[A\u001b[A\u001b[A"
     ]
    },
    {
     "name": "stdout",
     "output_type": "stream",
     "text": [
      "2021-05-03 15:23:27> Processing 1 files for step score_hdf\n",
      "2021-05-03 15:23:27> Found second search psms for scoring.\n",
      "2021-05-03 15:23:28> Last q_value 0.000 of dataset is smaller than fdr_level 0.100\n",
      "2021-05-03 15:23:28> 11 target (0 decoy) of 11 PSMs. fdr 0.000000 for a cutoff of 18.09 (set fdr was 0.1)\n",
      "2021-05-03 15:23:28> The total number of available decoys is lower than the initial set of high scoring targets.\n",
      "2021-05-03 15:23:28> ML failed. Defaulting to x_tandem score\n",
      "2021-05-03 15:23:28> There are fewer high scoring targets or decoys than required by 'min_train'.\n",
      "2021-05-03 15:23:28> Filter df with x_tandem score\n",
      "2021-05-03 15:23:28> Global FDR on precursor\n",
      "2021-05-03 15:23:28> Last q_value 0.000 of dataset is smaller than fdr_level 0.010\n",
      "2021-05-03 15:23:28> 8 target (0 decoy) of 8 PSMs. fdr 0.000000 for a cutoff of 18.09 (set fdr was 0.01)\n",
      "2021-05-03 15:23:28> FDR on peptides complete. For 0.01 FDR found 11 targets and 0 decoys.\n",
      "2021-05-03 15:23:28> Scoring of file F:/temp\\thermo_IRT.ms_data.hdf complete.\n",
      "2021-05-03 15:23:28> Fasta dict with length 1, Pept dict with length 40\n",
      "2021-05-03 15:23:28> Extracting protein groups.\n"
     ]
    },
    {
     "name": "stderr",
     "output_type": "stream",
     "text": [
      "\n",
      "\n",
      "\n",
      "\n",
      "  0%|                                                                                            | 0/1 [00:00<?, ?it/s]\u001b[A\u001b[A\u001b[A\u001b[A"
     ]
    },
    {
     "name": "stdout",
     "output_type": "stream",
     "text": [
      "2021-05-03 15:23:28> A total of 1 proteins with unique PSMs found\n",
      "2021-05-03 15:23:28> A total of 0 ambigious proteins\n",
      "2021-05-03 15:23:28> A total of 0 proteins with unique PSMs found\n",
      "2021-05-03 15:23:28> A total of 0 ambigious proteins\n",
      "2021-05-03 15:23:28> Global FDR on protein\n",
      "2021-05-03 15:23:28> Last q_value 0.000 of dataset is smaller than fdr_level 0.010\n",
      "2021-05-03 15:23:28> 1 target (0 decoy) of 1 PSMs. fdr 0.000000 for a cutoff of 42.12 (set fdr was 0.01)\n",
      "2021-05-03 15:23:28> FDR on proteins complete. For 0.01 FDR found 11 targets and 0 decoys. A total of 1 proteins found.\n",
      "2021-05-03 15:23:28> Extracting ions\n",
      "2021-05-03 15:23:28> Extracting ions complete.\n",
      "2021-05-03 15:23:28> Saving complete.\n",
      "2021-05-03 15:23:28> Protein groups complete.\n",
      "2021-05-03 15:23:28> Only 1 dataset present. Skipping alignment.\n",
      "2021-05-03 15:23:28> Assembling dataframe.\n",
      "2021-05-03 15:23:28> Assembly complete.\n",
      "2021-05-03 15:23:28> Complete. \n",
      "2021-05-03 15:23:28> Starting profile extraction.\n"
     ]
    },
    {
     "name": "stderr",
     "output_type": "stream",
     "text": [
      "\n",
      "\n",
      "\n",
      "\n",
      "\n",
      "  0%|                                                                                            | 0/1 [00:00<?, ?it/s]\u001b[A\u001b[A\u001b[A\u001b[A\u001b[A"
     ]
    },
    {
     "name": "stdout",
     "output_type": "stream",
     "text": [
      "2021-05-03 15:23:28> LFQ complete.\n",
      "2021-05-03 15:23:28> Exporting as csv.\n",
      "2021-05-03 15:23:28> Saved df of length 11 saved to F:\\temp\\results\n",
      "2021-05-03 15:23:29> Settings saved to F:\\temp\\results.yaml\n",
      "2021-05-03 15:23:29> Analysis complete.\n"
     ]
    }
   ],
   "source": [
    "from alphapept.settings import load_settings\n",
    "from alphapept.paths import DEFAULT_SETTINGS as settings\n",
    "\n",
    "settings['experiment']['file_paths'] =  [os.path.join(tmp_folder, 'thermo_IRT.raw')]\n",
    "settings['experiment']['fasta_paths'] = [os.path.join(tmp_folder, 'IRT_fasta.fasta')]\n",
    "    \n",
    "import alphapept.interface\n",
    "\n",
    "settings_ = alphapept.interface.run_complete_workflow(settings)"
   ]
  },
  {
   "cell_type": "markdown",
   "metadata": {},
   "source": [
    "## Basic file access\n",
    "\n",
    "Files can be read via the alphapept.io class and displayed as pandas dataframe"
   ]
  },
  {
   "cell_type": "code",
   "execution_count": 3,
   "metadata": {},
   "outputs": [
    {
     "name": "stdout",
     "output_type": "stream",
     "text": [
      "['Raw', 'corrected_fragment_mzs', 'feature_table', 'features', 'first_search', 'ions', 'peptide_fdr', 'protein_fdr', 'second_search']\n"
     ]
    },
    {
     "data": {
      "text/html": [
       "<div>\n",
       "<style scoped>\n",
       "    .dataframe tbody tr th:only-of-type {\n",
       "        vertical-align: middle;\n",
       "    }\n",
       "\n",
       "    .dataframe tbody tr th {\n",
       "        vertical-align: top;\n",
       "    }\n",
       "\n",
       "    .dataframe thead th {\n",
       "        text-align: right;\n",
       "    }\n",
       "</style>\n",
       "<table border=\"1\" class=\"dataframe\">\n",
       "  <thead>\n",
       "    <tr style=\"text-align: right;\">\n",
       "      <th></th>\n",
       "      <th>abs_delta_m_ppm</th>\n",
       "      <th>b-H2O_hits</th>\n",
       "      <th>b-NH3_hits</th>\n",
       "      <th>b_hits</th>\n",
       "      <th>charge</th>\n",
       "      <th>db_idx</th>\n",
       "      <th>decoy</th>\n",
       "      <th>decoys_cum</th>\n",
       "      <th>decoys_cum_protein</th>\n",
       "      <th>delta_m</th>\n",
       "      <th>...</th>\n",
       "      <th>target</th>\n",
       "      <th>target_cum</th>\n",
       "      <th>target_cum_protein</th>\n",
       "      <th>target_precursor</th>\n",
       "      <th>target_protein</th>\n",
       "      <th>total_int</th>\n",
       "      <th>x_tandem</th>\n",
       "      <th>y-H2O_hits</th>\n",
       "      <th>y-NH3_hits</th>\n",
       "      <th>y_hits</th>\n",
       "    </tr>\n",
       "  </thead>\n",
       "  <tbody>\n",
       "    <tr>\n",
       "      <th>0</th>\n",
       "      <td>8.414643</td>\n",
       "      <td>0</td>\n",
       "      <td>0</td>\n",
       "      <td>3</td>\n",
       "      <td>2</td>\n",
       "      <td>0</td>\n",
       "      <td>False</td>\n",
       "      <td>0</td>\n",
       "      <td>0</td>\n",
       "      <td>-0.003156</td>\n",
       "      <td>...</td>\n",
       "      <td>True</td>\n",
       "      <td>4</td>\n",
       "      <td>1</td>\n",
       "      <td>True</td>\n",
       "      <td>True</td>\n",
       "      <td>641633</td>\n",
       "      <td>25.415767</td>\n",
       "      <td>1</td>\n",
       "      <td>2</td>\n",
       "      <td>8</td>\n",
       "    </tr>\n",
       "    <tr>\n",
       "      <th>1</th>\n",
       "      <td>0.972251</td>\n",
       "      <td>0</td>\n",
       "      <td>1</td>\n",
       "      <td>2</td>\n",
       "      <td>2</td>\n",
       "      <td>2</td>\n",
       "      <td>False</td>\n",
       "      <td>0</td>\n",
       "      <td>0</td>\n",
       "      <td>-0.000351</td>\n",
       "      <td>...</td>\n",
       "      <td>True</td>\n",
       "      <td>8</td>\n",
       "      <td>1</td>\n",
       "      <td>True</td>\n",
       "      <td>True</td>\n",
       "      <td>635629</td>\n",
       "      <td>18.091496</td>\n",
       "      <td>0</td>\n",
       "      <td>0</td>\n",
       "      <td>5</td>\n",
       "    </tr>\n",
       "    <tr>\n",
       "      <th>2</th>\n",
       "      <td>2.986360</td>\n",
       "      <td>3</td>\n",
       "      <td>2</td>\n",
       "      <td>6</td>\n",
       "      <td>2</td>\n",
       "      <td>9</td>\n",
       "      <td>False</td>\n",
       "      <td>0</td>\n",
       "      <td>0</td>\n",
       "      <td>-0.001072</td>\n",
       "      <td>...</td>\n",
       "      <td>True</td>\n",
       "      <td>1</td>\n",
       "      <td>1</td>\n",
       "      <td>True</td>\n",
       "      <td>True</td>\n",
       "      <td>11149388</td>\n",
       "      <td>42.123869</td>\n",
       "      <td>6</td>\n",
       "      <td>3</td>\n",
       "      <td>12</td>\n",
       "    </tr>\n",
       "    <tr>\n",
       "      <th>3</th>\n",
       "      <td>19.885189</td>\n",
       "      <td>0</td>\n",
       "      <td>0</td>\n",
       "      <td>3</td>\n",
       "      <td>3</td>\n",
       "      <td>13</td>\n",
       "      <td>False</td>\n",
       "      <td>0</td>\n",
       "      <td>0</td>\n",
       "      <td>0.009802</td>\n",
       "      <td>...</td>\n",
       "      <td>True</td>\n",
       "      <td>7</td>\n",
       "      <td>1</td>\n",
       "      <td>True</td>\n",
       "      <td>True</td>\n",
       "      <td>1404850</td>\n",
       "      <td>18.537535</td>\n",
       "      <td>1</td>\n",
       "      <td>0</td>\n",
       "      <td>5</td>\n",
       "    </tr>\n",
       "    <tr>\n",
       "      <th>4</th>\n",
       "      <td>10.337601</td>\n",
       "      <td>1</td>\n",
       "      <td>0</td>\n",
       "      <td>4</td>\n",
       "      <td>2</td>\n",
       "      <td>13</td>\n",
       "      <td>False</td>\n",
       "      <td>0</td>\n",
       "      <td>0</td>\n",
       "      <td>0.004405</td>\n",
       "      <td>...</td>\n",
       "      <td>True</td>\n",
       "      <td>2</td>\n",
       "      <td>1</td>\n",
       "      <td>True</td>\n",
       "      <td>True</td>\n",
       "      <td>7453017</td>\n",
       "      <td>37.531887</td>\n",
       "      <td>7</td>\n",
       "      <td>3</td>\n",
       "      <td>12</td>\n",
       "    </tr>\n",
       "  </tbody>\n",
       "</table>\n",
       "<p>5 rows × 68 columns</p>\n",
       "</div>"
      ],
      "text/plain": [
       "   abs_delta_m_ppm  b-H2O_hits  b-NH3_hits  b_hits  charge  db_idx  decoy  \\\n",
       "0         8.414643           0           0       3       2       0  False   \n",
       "1         0.972251           0           1       2       2       2  False   \n",
       "2         2.986360           3           2       6       2       9  False   \n",
       "3        19.885189           0           0       3       3      13  False   \n",
       "4        10.337601           1           0       4       2      13  False   \n",
       "\n",
       "   decoys_cum  decoys_cum_protein   delta_m  ...  target  target_cum  \\\n",
       "0           0                   0 -0.003156  ...    True           4   \n",
       "1           0                   0 -0.000351  ...    True           8   \n",
       "2           0                   0 -0.001072  ...    True           1   \n",
       "3           0                   0  0.009802  ...    True           7   \n",
       "4           0                   0  0.004405  ...    True           2   \n",
       "\n",
       "   target_cum_protein  target_precursor  target_protein  total_int   x_tandem  \\\n",
       "0                   1              True            True     641633  25.415767   \n",
       "1                   1              True            True     635629  18.091496   \n",
       "2                   1              True            True   11149388  42.123869   \n",
       "3                   1              True            True    1404850  18.537535   \n",
       "4                   1              True            True    7453017  37.531887   \n",
       "\n",
       "   y-H2O_hits  y-NH3_hits  y_hits  \n",
       "0           1           2       8  \n",
       "1           0           0       5  \n",
       "2           6           3      12  \n",
       "3           1           0       5  \n",
       "4           7           3      12  \n",
       "\n",
       "[5 rows x 68 columns]"
      ]
     },
     "execution_count": 3,
     "metadata": {},
     "output_type": "execute_result"
    }
   ],
   "source": [
    "import alphapept.io\n",
    "\n",
    "_ = settings['experiment']['file_paths'][0]\n",
    "base, ext = os.path.splitext(_)\n",
    "\n",
    "ms_file = alphapept.io.MS_Data_File(base+'.ms_data.hdf')\n",
    "\n",
    "print(ms_file.read())\n",
    "\n",
    "df = ms_file.read(dataset_name='protein_fdr')\n",
    "\n",
    "df.head()"
   ]
  },
  {
   "cell_type": "markdown",
   "metadata": {},
   "source": [
    "## MS2 Spectrum\n",
    "\n",
    "Visualize PSMS"
   ]
  },
  {
   "cell_type": "code",
   "execution_count": 4,
   "metadata": {},
   "outputs": [
    {
     "name": "stderr",
     "output_type": "stream",
     "text": [
      "\r",
      "100%|████████████████████████████████████████████████████████████████████████████████████| 1/1 [00:00<00:00,  4.96it/s]"
     ]
    },
    {
     "name": "stdout",
     "output_type": "stream",
     "text": [
      " Plotting PSMS for LGGNEQVTR_2\n"
     ]
    },
    {
     "name": "stderr",
     "output_type": "stream",
     "text": [
      "\n"
     ]
    },
    {
     "data": {
      "image/png": "[encoded data removed]",
      "text/plain": [
       "<Figure size 1080x360 with 1 Axes>"
      ]
     },
     "metadata": {
      "needs_background": "light"
     },
     "output_type": "display_data"
    },
    {
     "name": "stdout",
     "output_type": "stream",
     "text": [
      " Plotting PSMS for YILAGVENSK_2\n"
     ]
    },
    {
     "data": {
      "image/png": "[encoded data removed]",
      "text/plain": [
       "<Figure size 1080x360 with 1 Axes>"
      ]
     },
     "metadata": {
      "needs_background": "light"
     },
     "output_type": "display_data"
    },
    {
     "name": "stdout",
     "output_type": "stream",
     "text": [
      " Plotting PSMS for GAGSSEPVTGLDAK_2\n"
     ]
    },
    {
     "data": {
      "image/png": "[encoded data removed]",
      "text/plain": [
       "<Figure size 1080x360 with 1 Axes>"
      ]
     },
     "metadata": {
      "needs_background": "light"
     },
     "output_type": "display_data"
    }
   ],
   "source": [
    "try:\n",
    "    import matplotlib.pyplot as plt\n",
    "except ModuleNotFoundError:\n",
    "    !pip install matplotlib\n",
    "    import matplotlib.pyplot as plt\n",
    "\n",
    "def plot_psms(precursor, ms_file):\n",
    "\n",
    "    df = ms_file.read(dataset_name='protein_fdr')\n",
    "    \n",
    "    ion_dict = {}\n",
    "    ion_dict[0] = ''\n",
    "    ion_dict[1] = '-H20'\n",
    "    ion_dict[2] = '-NH3'\n",
    "\n",
    "    spectrum = df[df['precursor'] == precursor].iloc[0]\n",
    "    start = spectrum['ion_idx']\n",
    "    end = spectrum['n_ions'] + start\n",
    "\n",
    "    query_data = ms_file.read_DDA_query_data()\n",
    "    ions = ms_file.read(dataset_name=\"ions\")\n",
    "\n",
    "    ion = [('b'+str(int(_))).replace('b-','y') for _ in ions.iloc[start:end]['ion_index']]\n",
    "    losses = [ion_dict[int(_)] for _ in ions.iloc[start:end]['ion_type']]\n",
    "    ion = [a+b for a,b in zip(ion, losses)]\n",
    "    ints = ions.iloc[start:end]['ion_int'].astype('int').values\n",
    "    masses = ions.iloc[start:end]['ion_mass'].astype('float').values\n",
    "    ion_type = ions.iloc[start:end]['ion_type'].abs().values\n",
    "\n",
    "    query_idx = spectrum['raw_idx']\n",
    "\n",
    "    query_indices = query_data[\"indices_ms2\"]\n",
    "    query_charges = query_data['charge2']\n",
    "    query_frags = query_data['mass_list_ms2']\n",
    "    query_ints = query_data['int_list_ms2']\n",
    "\n",
    "    query_idx_start = query_indices[query_idx]\n",
    "    query_idx_end = query_indices[query_idx + 1]\n",
    "    query_frag = query_frags[query_idx_start:query_idx_end]\n",
    "    query_int = query_ints[query_idx_start:query_idx_end]\n",
    "\n",
    "    ax = plt.figure(figsize=(15, 5))\n",
    "\n",
    "    plt.vlines(query_frag, 0, query_int, \"k\", label=\"Query\", alpha=0.5)\n",
    "\n",
    "    plt.vlines(masses, ints, max(query_int)*(1+0.1*ion_type), \"k\", label=\"Hits\", alpha=0.5, linestyle=':')\n",
    "\n",
    "    plt.vlines(masses, 0, ints, \"r\", label=\"Hits\", alpha=0.5)\n",
    "\n",
    "    for i in range(len(masses)):\n",
    "        plt.text(masses[i], (1+0.1*ion_type[i])*max(query_int), ion[i])\n",
    "\n",
    "    figure_title = f\"{spectrum['precursor']} - b-hits {spectrum['b_hits']}, y-hits {spectrum['y_hits']}, matched int {spectrum['matched_int_ratio']*100:.2f} %\"\n",
    "\n",
    "    plt.xlabel(\"m/z\")\n",
    "    plt.ylabel('Intensity')\n",
    "    plt.ylim([0, (1+0.1*max(ion_type)+0.1)*max(query_int)])\n",
    "    plt.legend()\n",
    "    plt.title(figure_title)\n",
    "    plt.show()\n",
    "    \n",
    "    \n",
    "for index in range(3):\n",
    "    precursor = df['precursor'].iloc[index]\n",
    "    print(f\" Plotting PSMS for {precursor}\")\n",
    "    plot_psms(precursor, ms_file)"
   ]
  }
 ],
 "metadata": {
  "kernelspec": {
   "display_name": "Python [conda env:alphapept]",
   "language": "python",
   "name": "conda-env-alphapept-py"
  },
  "language_info": {
   "codemirror_mode": {
    "name": "ipython",
    "version": 3
   },
   "file_extension": ".py",
   "mimetype": "text/x-python",
   "name": "python",
   "nbconvert_exporter": "python",
   "pygments_lexer": "ipython3",
   "version": "3.8.8"
  },
  "toc": {
   "base_numbering": 1,
   "nav_menu": {},
   "number_sections": true,
   "sideBar": true,
   "skip_h1_title": false,
   "title_cell": "Table of Contents",
   "title_sidebar": "Contents",
   "toc_cell": false,
   "toc_position": {},
   "toc_section_display": true,
   "toc_window_display": false
  }
 },
 "nbformat": 4,
 "nbformat_minor": 4
}
