{
 "cells": [
  {
   "cell_type": "markdown",
   "metadata": {},
   "source": [
    "# Runner\n",
    "\n",
    "This notebook shows how to perform a AlphaPept run."
   ]
  },
  {
   "cell_type": "code",
   "execution_count": 1,
   "metadata": {},
   "outputs": [],
   "source": [
    "from time import time\n",
    "%load_ext autoreload\n",
    "%autoreload 2"
   ]
  },
  {
   "cell_type": "markdown",
   "metadata": {},
   "source": [
    "## Logger"
   ]
  },
  {
   "cell_type": "code",
   "execution_count": 2,
   "metadata": {},
   "outputs": [],
   "source": [
    "import sys\n",
    "import logging\n",
    "# Create logger\n",
    "logger = logging.getLogger()\n",
    "logger.setLevel(logging.INFO)\n",
    "\n",
    "# Create STDERR handler\n",
    "handler = logging.StreamHandler(sys.stderr)\n",
    "# ch.setLevel(logging.DEBUG)\n",
    "\n",
    "# Create formatter and add it to the handler\n",
    "formatter = logging.Formatter('%(asctime)s %(levelname)-s - %(message)s', \"%Y-%m-%d %H:%M:%S\")\n",
    "handler.setFormatter(formatter)\n",
    "\n",
    "# Set STDERR handler as the only handler \n",
    "logger.handlers = [handler]"
   ]
  },
  {
   "cell_type": "code",
   "execution_count": 3,
   "metadata": {},
   "outputs": [],
   "source": [
    "from time import time\n",
    "import numpy as np\n",
    "from alphapept.runner import alpha_runner\n",
    "from tqdm.notebook import tqdm as tqdm\n",
    "\n",
    "from alphapept.settings import load_settings\n",
    "\n",
    "if False:\n",
    "\n",
    "    settings = load_settings('default_settings.yaml')\n",
    "\n",
    "    settings['fasta']['library_path'] = 'F:/rawdata/zz.database/uniprot_Human_reviewed_March_2019_manual.npz'\n",
    "    settings['fasta']['fasta_path'] = 'F:/rawdata/zz.database/uniprot_Human_reviewed_March_2019_manual.fasta'\n",
    "    settings['fasta']['contaminants_path'] = 'F:/projects/alphapept/contaminants.fasta'\n",
    "\n",
    "    settings['raw']['raw_path_npz'] = 'F:/rawdata/04_hela_testrun/20190402_QX1_SeVW_MA_HeLa_500ng_LC11.npz'\n",
    "    settings['raw']['raw_path'] = 'F:/rawdata/04_hela_testrun/20190402_QX1_SeVW_MA_HeLa_500ng_LC11.raw'\n",
    "\n",
    "    settings['quantification']['max_lfq'] = False\n",
    "    settings['misc']['match_between_runs'] = False\n",
    "\n",
    "    with tqdm(total=100, desc='Current Progress', unit='%') as current_pbar:\n",
    "        with tqdm(total=100, desc='Overall Progress', unit='%') as overall_pbar:\n",
    "\n",
    "            def current_progress(current):\n",
    "                to_update = np.round(current*100-current_pbar.n, 2)\n",
    "                current_pbar.update(to_update)\n",
    "\n",
    "            def overall_progress(current):\n",
    "                to_update = np.round(current-overall_pbar.n, 2)\n",
    "                overall_pbar.update(to_update)\n",
    "\n",
    "            df, features = alpha_runner(settings, overall_progress = overall_progress, current_progress = current_progress, CURRENT_TASK = print)\n"
   ]
  }
 ],
 "metadata": {
  "kernelspec": {
   "display_name": "Python [conda env:alphap] *",
   "language": "python",
   "name": "conda-env-alphap-py"
  },
  "language_info": {
   "codemirror_mode": {
    "name": "ipython",
    "version": 3
   },
   "file_extension": ".py",
   "mimetype": "text/x-python",
   "name": "python",
   "nbconvert_exporter": "python",
   "pygments_lexer": "ipython3",
   "version": "3.8.1"
  }
 },
 "nbformat": 4,
 "nbformat_minor": 2
}
