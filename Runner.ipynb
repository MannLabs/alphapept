{
 "cells": [
  {
   "cell_type": "markdown",
   "metadata": {},
   "source": [
    "# Runner\n",
    "\n",
    "This notebook shows how to perform a AlphaPept run within Jupyter Notebook.\n",
    "Load default settings and adjust file paths."
   ]
  },
  {
   "cell_type": "code",
   "execution_count": 1,
   "metadata": {},
   "outputs": [
    {
     "name": "stdout",
     "output_type": "stream",
     "text": [
      "2020-09-14 09:40:48 INFO - Currently 103.39 GB of memory available.\n",
      "2020-09-14 09:40:48 INFO - System information: uname_result(system='Windows', node='PCMANN338', release='10', version='10.0.18362', machine='AMD64', processor='Intel64 Family 6 Model 85 Stepping 4, GenuineIntel')\n",
      "2020-09-14 09:40:48 INFO - Python version 3.8.5 | packaged by conda-forge | (default, Aug 29 2020, 00:43:28) [MSC v.1916 64 bit (AMD64)]\n",
      "2020-09-14 09:40:48 INFO - Numba version 0.48.0\n",
      "2020-09-14 09:40:48 INFO - Check for settings not completely implemented yet.\n",
      "2020-09-14 09:40:48 INFO - Checking CPU settings.\n",
      "2020-09-14 09:40:48 INFO - Setting number of processes to 24.\n",
      "2020-09-14 09:40:48 INFO - Checking if files exist.\n",
      "2020-09-14 09:40:48 INFO - Results path was not set. Setting to F:\\rawdata\\04_hela_testrun\\results.hdf\n",
      "2020-09-14 09:40:48 INFO - Shortnames not set. Setting to filename.\n",
      "2020-09-14 09:40:48 INFO - No database path set and save_db option checked. Using default path F:\\rawdata\\04_hela_testrun\\database.npz\n",
      "2020-09-14 09:40:48 INFO - Database path F:\\rawdata\\04_hela_testrun\\database.npz is not a file.\n",
      "2020-09-14 09:40:48 INFO - Found FASTA file F:/rawdata/zz.database/uniprot_Human_reviewed_March_2019_manual.fasta with size 13.00 Mb.\n",
      "2020-09-14 09:40:48 INFO - Creating a new database from FASTA.\n"
     ]
    },
    {
     "name": "stderr",
     "output_type": "stream",
     "text": [
      "100%|██████████████████████████████████████████████████████████████████████████████████| 1.0/1 [03:26<00:00, 28.73s/it]"
     ]
    },
    {
     "name": "stdout",
     "output_type": "stream",
     "text": [
      "2020-09-14 09:44:25 INFO - Digested 20,418 proteins and generated 5,259,712 spectra\n"
     ]
    },
    {
     "name": "stderr",
     "output_type": "stream",
     "text": [
      "F:\\projects\\alphapept\\alphapept\\fasta.py:772: VisibleDeprecationWarning: Creating an ndarray from ragged nested sequences (which is a list-or-tuple of lists-or-tuples-or ndarrays with different lengths or shapes) is deprecated. If you meant to do this, you must specify 'dtype=object' when creating the ndarray\n",
      "  to_save[\"fragmasses\"] = list_to_numpy_f32(np.array(fragmasses)[sortindex])\n",
      "F:\\projects\\alphapept\\alphapept\\fasta.py:773: VisibleDeprecationWarning: Creating an ndarray from ragged nested sequences (which is a list-or-tuple of lists-or-tuples-or ndarrays with different lengths or shapes) is deprecated. If you meant to do this, you must specify 'dtype=object' when creating the ndarray\n",
      "  to_save[\"fragtypes\"] = list_to_numpy_f32(np.array(fragtypes)[sortindex])\n"
     ]
    },
    {
     "name": "stdout",
     "output_type": "stream",
     "text": [
      "2020-09-14 09:45:07 INFO - Database saved to F:\\rawdata\\04_hela_testrun\\database.npz. Filesize of database is 3.26 GB\n",
      "2020-09-14 09:45:07 INFO - No *.ms_data.hdf file found for F:/rawdata/04_hela_testrun/20190402_QX1_SeVW_MA_HeLa_500ng_LC11.raw. Adding to conversion list.\n",
      "2020-09-14 09:45:07 INFO - Starting file conversion.\n"
     ]
    },
    {
     "name": "stderr",
     "output_type": "stream",
     "text": [
      "\n",
      "100%|█████████████████████████████████████████████████████████████████████████████████| 1.0/1 [04:18<00:00, 258.65s/it]\u001b[A"
     ]
    },
    {
     "name": "stdout",
     "output_type": "stream",
     "text": [
      "2020-09-14 09:45:07 INFO - File F:/rawdata/04_hela_testrun/20190402_QX1_SeVW_MA_HeLa_500ng_LC11 has extension .raw - converting from Thermo.\n"
     ]
    },
    {
     "name": "stderr",
     "output_type": "stream",
     "text": [
      "\n"
     ]
    },
    {
     "name": "stdout",
     "output_type": "stream",
     "text": [
      "2020-09-14 09:47:43 INFO - File conversion complete. Extracted 120226 precursors.\n"
     ]
    },
    {
     "name": "stderr",
     "output_type": "stream",
     "text": [
      "F:\\projects\\alphapept\\alphapept\\io.py:414: VisibleDeprecationWarning: Creating an ndarray from ragged nested sequences (which is a list-or-tuple of lists-or-tuples-or ndarrays with different lengths or shapes) is deprecated. If you meant to do this, you must specify 'dtype=object' when creating the ndarray\n",
      "  query_data[\"mass_list_ms1\"] = np.array(mass_list_ms1)\n",
      "F:\\projects\\alphapept\\alphapept\\io.py:415: VisibleDeprecationWarning: Creating an ndarray from ragged nested sequences (which is a list-or-tuple of lists-or-tuples-or ndarrays with different lengths or shapes) is deprecated. If you meant to do this, you must specify 'dtype=object' when creating the ndarray\n",
      "  query_data[\"int_list_ms1\"] = np.array(int_list_ms1)\n"
     ]
    },
    {
     "name": "stdout",
     "output_type": "stream",
     "text": [
      "2020-09-14 09:47:45 INFO - File conversion complete.\n",
      "2020-09-14 09:47:45 INFO - Note: NumExpr detected 24 cores but \"NUMEXPR_MAX_THREADS\" not set, so enforcing safe limit of 8.\n",
      "2020-09-14 09:47:45 INFO - NumExpr defaulting to 8 threads.\n",
      "2020-09-14 09:47:45 INFO - Found *.hdf with features for F:/rawdata/04_hela_testrun/20190402_QX1_SeVW_MA_HeLa_500ng_LC11.raw\n",
      "2020-09-14 09:47:45 INFO - Starting first search with DB.\n"
     ]
    },
    {
     "name": "stderr",
     "output_type": "stream",
     "text": [
      "  0%|                                                                                            | 0/1 [02:38<?, ?it/s]\n"
     ]
    },
    {
     "name": "stdout",
     "output_type": "stream",
     "text": [
      "2020-09-14 09:47:48 INFO - Performing search on 120,226 query and 5,259,712 db entries with m_tol = 20 and m_offset = 10.\n",
      "2020-09-14 09:48:06 INFO - Compared 29,942,506 spectra and found 241,196 psms.\n",
      "2020-09-14 09:48:06 INFO - Extracting columns for scoring.\n",
      "2020-09-14 09:49:00 INFO - Extracted columns from 241,196 spectra.\n",
      "2020-09-14 09:49:00 INFO - Saving first_search results to F:/rawdata/04_hela_testrun/20190402_QX1_SeVW_MA_HeLa_500ng_LC11.hdf\n",
      "2020-09-14 09:49:10 INFO - First search complete.\n",
      "2020-09-14 09:49:10 INFO - Performing recalibration.\n"
     ]
    },
    {
     "name": "stderr",
     "output_type": "stream",
     "text": [
      "\n",
      "  0%|                                                                                            | 0/1 [01:25<?, ?it/s]\u001b[A\n",
      "\n",
      "100%|█████████████████████████████████████████████████████████████████████████████████| 1.0/1 [03:55<00:00, 235.16s/it]\u001b[A"
     ]
    },
    {
     "name": "stdout",
     "output_type": "stream",
     "text": [
      "2020-09-14 09:53:06 INFO - Recalibration complete.\n",
      "2020-09-14 09:53:06 INFO - Starting second search with DB.\n"
     ]
    },
    {
     "name": "stderr",
     "output_type": "stream",
     "text": [
      "100%|█████████████████████████████████████████████████████████████████████████████████| 1.0/1 [03:55<00:00, 235.26s/it]"
     ]
    },
    {
     "name": "stdout",
     "output_type": "stream",
     "text": [
      "2020-09-14 09:53:06 INFO - Found calibrated m_offset with value 2.7122979156672455\n"
     ]
    },
    {
     "name": "stderr",
     "output_type": "stream",
     "text": [
      "\n"
     ]
    },
    {
     "name": "stdout",
     "output_type": "stream",
     "text": [
      "2020-09-14 09:53:08 INFO - Performing search on 120,226 query and 5,259,712 db entries with m_tol = 20 and m_offset = 2.7122979156672455.\n",
      "2020-09-14 09:53:13 INFO - Compared 8,900,776 spectra and found 130,870 psms.\n",
      "2020-09-14 09:53:13 INFO - Extracting columns for scoring.\n",
      "2020-09-14 09:53:32 INFO - Extracted columns from 130,870 spectra.\n",
      "2020-09-14 09:53:33 INFO - Saving second_search results to F:/rawdata/04_hela_testrun/20190402_QX1_SeVW_MA_HeLa_500ng_LC11.hdf\n",
      "2020-09-14 09:53:43 INFO - Second search complete.\n"
     ]
    },
    {
     "name": "stderr",
     "output_type": "stream",
     "text": [
      "\n",
      "  0%|                                                                                            | 0/1 [00:37<?, ?it/s]\u001b[A"
     ]
    },
    {
     "name": "stdout",
     "output_type": "stream",
     "text": [
      "2020-09-14 09:53:44 INFO - Found second search psms for scoring.\n"
     ]
    },
    {
     "name": "stderr",
     "output_type": "stream",
     "text": [
      "\n"
     ]
    },
    {
     "name": "stdout",
     "output_type": "stream",
     "text": [
      "2020-09-14 09:53:46 INFO - Filter df with x_tandem score\n",
      "2020-09-14 09:53:47 INFO - Global FDR on precursor\n",
      "2020-09-14 09:53:47 INFO - 48,104 target (481 decoy) of 64370 PSM. fdr 0.009999 for a cutoff of 22.56 \n",
      "2020-09-14 09:53:47 INFO - FDR on peptides complete. For 0.01 FDR found 48,104 targets and 481 decoys.\n",
      "2020-09-14 09:53:47 INFO - Scoring complete.\n",
      "2020-09-14 09:53:47 INFO - Extracting protein groups.\n"
     ]
    },
    {
     "name": "stderr",
     "output_type": "stream",
     "text": [
      "  0%|                                                                                            | 0/1 [00:04<?, ?it/s]\n"
     ]
    },
    {
     "name": "stdout",
     "output_type": "stream",
     "text": [
      "2020-09-14 09:53:51 INFO - A total of 6,070 proteins with unique PSMs found\n",
      "2020-09-14 09:53:51 INFO - A total of 680 ambigious proteins\n"
     ]
    },
    {
     "name": "stderr",
     "output_type": "stream",
     "text": [
      "F:\\projects\\alphapept\\alphapept\\score.py:458: VisibleDeprecationWarning: Creating an ndarray from ragged nested sequences (which is a list-or-tuple of lists-or-tuples-or ndarrays with different lengths or shapes) is deprecated. If you meant to do this, you must specify 'dtype=object' when creating the ndarray\n",
      "  connected_groups = np.array([list(c) for c in sorted(nx.connected_components(G), key=len, reverse=True)])\n"
     ]
    },
    {
     "name": "stdout",
     "output_type": "stream",
     "text": [
      "2020-09-14 09:54:08 INFO - A total of 439 proteins with unique PSMs found\n",
      "2020-09-14 09:54:08 INFO - A total of 19 ambigious proteins\n"
     ]
    },
    {
     "name": "stderr",
     "output_type": "stream",
     "text": [
      "F:\\projects\\alphapept\\alphapept\\score.py:458: VisibleDeprecationWarning: Creating an ndarray from ragged nested sequences (which is a list-or-tuple of lists-or-tuples-or ndarrays with different lengths or shapes) is deprecated. If you meant to do this, you must specify 'dtype=object' when creating the ndarray\n",
      "  connected_groups = np.array([list(c) for c in sorted(nx.connected_components(G), key=len, reverse=True)])\n"
     ]
    },
    {
     "name": "stdout",
     "output_type": "stream",
     "text": [
      "2020-09-14 09:54:08 INFO - Global FDR on protein\n",
      "2020-09-14 09:54:08 INFO - 5,526 target (55 decoy) of 6647 PSM. fdr 0.009953 for a cutoff of 25.90 \n",
      "2020-09-14 09:54:08 INFO - FDR on proteins complete. For 0.01 FDR found 47,337 targets and 65 decoys. A total of 5,555 proteins found.\n",
      "2020-09-14 09:54:08 INFO - Protein groups complete\n",
      "2020-09-14 09:54:08 INFO - Assembling dataframe.\n",
      "2020-09-14 09:54:09 INFO - Assembly complete.\n",
      "2020-09-14 09:54:09 INFO - Settings saved to F:\\rawdata\\04_hela_testrun\\results.yaml\n",
      "2020-09-14 09:54:09 INFO - Complete\n"
     ]
    },
    {
     "name": "stderr",
     "output_type": "stream",
     "text": [
      "  0%|                                                                                            | 0/1 [00:21<?, ?it/s]\n"
     ]
    }
   ],
   "source": [
    "from alphapept.runner import run_alphapept\n",
    "from alphapept.settings import load_settings\n",
    "\n",
    "if False:\n",
    "    settings = load_settings('default_settings.yaml')\n",
    "    settings['experiment']['file_paths'] = ['F:/rawdata/04_hela_testrun/20190402_QX1_SeVW_MA_HeLa_500ng_LC11.raw']\n",
    "    settings['fasta']['fasta_paths'] = ['F:/rawdata/zz.database/uniprot_Human_reviewed_March_2019_manual.fasta']\n",
    "    \n",
    "    run_alphapept(settings)"
   ]
  }
 ],
 "metadata": {
  "kernelspec": {
   "display_name": "Python [conda env:.conda-alphapept] *",
   "language": "python",
   "name": "conda-env-.conda-alphapept-py"
  },
  "language_info": {
   "codemirror_mode": {
    "name": "ipython",
    "version": 3
   },
   "file_extension": ".py",
   "mimetype": "text/x-python",
   "name": "python",
   "nbconvert_exporter": "python",
   "pygments_lexer": "ipython3",
   "version": "3.8.5"
  },
  "toc": {
   "base_numbering": 1,
   "nav_menu": {},
   "number_sections": true,
   "sideBar": true,
   "skip_h1_title": false,
   "title_cell": "Table of Contents",
   "title_sidebar": "Contents",
   "toc_cell": false,
   "toc_position": {},
   "toc_section_display": true,
   "toc_window_display": false
  }
 },
 "nbformat": 4,
 "nbformat_minor": 2
}
