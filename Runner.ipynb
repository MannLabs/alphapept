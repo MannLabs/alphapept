{
 "cells": [
  {
   "cell_type": "markdown",
   "metadata": {},
   "source": [
    "# Runner\n",
    "\n",
    "This notebook shows how to perform a AlphaPept run."
   ]
  },
  {
   "cell_type": "code",
   "execution_count": 1,
   "metadata": {},
   "outputs": [],
   "source": [
    "from time import time\n",
    "%load_ext autoreload\n",
    "%autoreload 2"
   ]
  },
  {
   "cell_type": "markdown",
   "metadata": {},
   "source": [
    "## Logger"
   ]
  },
  {
   "cell_type": "code",
   "execution_count": 2,
   "metadata": {},
   "outputs": [],
   "source": [
    "import sys\n",
    "import logging\n",
    "# Create logger\n",
    "logger = logging.getLogger()\n",
    "logger.setLevel(logging.INFO)\n",
    "\n",
    "# Create STDERR handler\n",
    "handler = logging.StreamHandler(sys.stderr)\n",
    "# ch.setLevel(logging.DEBUG)\n",
    "\n",
    "# Create formatter and add it to the handler\n",
    "formatter = logging.Formatter('%(asctime)s %(levelname)-s - %(message)s', \"%Y-%m-%d %H:%M:%S\")\n",
    "handler.setFormatter(formatter)\n",
    "\n",
    "# Set STDERR handler as the only handler \n",
    "logger.handlers = [handler]"
   ]
  },
  {
   "cell_type": "code",
   "execution_count": 3,
   "metadata": {},
   "outputs": [
    {
     "name": "stderr",
     "output_type": "stream",
     "text": [
      "Current Progress:   0%|                                                                         | 0/100 [00:00<?, ?%/s]\n",
      "Overall Progress:   0%|                                                                         | 0/100 [00:00<?, ?%/s]\u001b[A\n",
      "Current Progress:   0%|                                                                         | 0/100 [00:00<?, ?%/s]\n"
     ]
    }
   ],
   "source": [
    "from time import time\n",
    "import numpy as np\n",
    "from alphapept.runner import alpha_runner\n",
    "from tqdm import tqdm as tqdm\n",
    "\n",
    "\n",
    "from alphapept.settings import load_settings\n",
    "\n",
    "settings = load_settings('default_settings.yaml')\n",
    "   \n",
    "with tqdm(total=100, desc='Current Progress', unit='%') as current_pbar:\n",
    "    with tqdm(total=100, desc='Overall Progress', unit='%') as overall_pbar:\n",
    "\n",
    "        def current_progress(current):\n",
    "            to_update = np.round(current*100-current_pbar.n, 2)\n",
    "            current_pbar.update(to_update)\n",
    "\n",
    "        def overall_progress(current):\n",
    "            to_update = np.round(current-overall_pbar.n, 2)\n",
    "            overall_pbar.update(to_update)\n",
    "\n",
    "            df, features = alpha_runner(settings, overall_progress = overall_progress, current_progress = current_progress, CURRENT_TASK = print)\n"
   ]
  },
  {
   "cell_type": "code",
   "execution_count": null,
   "metadata": {},
   "outputs": [],
   "source": []
  }
 ],
 "metadata": {
  "kernelspec": {
   "display_name": "Python [conda env:alphap] *",
   "language": "python",
   "name": "conda-env-alphap-py"
  },
  "language_info": {
   "codemirror_mode": {
    "name": "ipython",
    "version": 3
   },
   "file_extension": ".py",
   "mimetype": "text/x-python",
   "name": "python",
   "nbconvert_exporter": "python",
   "pygments_lexer": "ipython3",
   "version": "3.8.1"
  }
 },
 "nbformat": 4,
 "nbformat_minor": 2
}
