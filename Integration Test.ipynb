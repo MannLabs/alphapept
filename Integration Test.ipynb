{
 "cells": [
  {
   "cell_type": "markdown",
   "metadata": {},
   "source": [
    "# Integration Test\n",
    "\n",
    "Calls AlphaPept for various files / settings and see if they work / how they perform."
   ]
  },
  {
   "cell_type": "code",
   "execution_count": 1,
   "metadata": {},
   "outputs": [],
   "source": [
    "from time import time\n",
    "%load_ext autoreload\n",
    "%autoreload 2"
   ]
  },
  {
   "cell_type": "markdown",
   "metadata": {},
   "source": [
    "## Logger"
   ]
  },
  {
   "cell_type": "code",
   "execution_count": 2,
   "metadata": {},
   "outputs": [],
   "source": [
    "import sys\n",
    "import logging\n",
    "# Create logger\n",
    "logger = logging.getLogger()\n",
    "logger.setLevel(logging.INFO)\n",
    "\n",
    "# Create STDERR handler\n",
    "handler = logging.StreamHandler(sys.stderr)\n",
    "# ch.setLevel(logging.DEBUG)\n",
    "\n",
    "# Create formatter and add it to the handler\n",
    "formatter = logging.Formatter('%(asctime)s %(levelname)-s - %(message)s', \"%Y-%m-%d %H:%M:%S\")\n",
    "handler.setFormatter(formatter)\n",
    "\n",
    "# Set STDERR handler as the only handler \n",
    "logger.handlers = [handler]"
   ]
  },
  {
   "cell_type": "markdown",
   "metadata": {},
   "source": [
    "## Integration Tests\n",
    "\n",
    "Read folder `integration_test` and see what files we have."
   ]
  },
  {
   "cell_type": "code",
   "execution_count": 3,
   "metadata": {},
   "outputs": [
    {
     "name": "stdout",
     "output_type": "stream",
     "text": [
      "File not recognized: 20190402_QX1_SeVW_MA_HeLa_500ng_LC11.npz\n",
      "Found thermo file: 20190402_QX1_SeVW_MA_HeLa_500ng_LC11.raw\n",
      "File not recognized: 20190402_QX1_SeVW_MA_HeLa_500ng_LC11_ap.csv\n",
      "File not recognized: 20190402_QX1_SeVW_MA_HeLa_500ng_LC11_ap.yaml\n",
      "Found bruker file: 20191209_TIMS05_QC_ADB_AfterSRIGUpgrade_200ng_03_A1_1_1428.d\n",
      "File not recognized: 20191209_TIMS05_QC_ADB_AfterSRIGUpgrade_200ng_03_A1_1_1428.npz\n",
      "File not recognized: 20191209_TIMS05_QC_ADB_AfterSRIGUpgrade_200ng_03_A1_1_1428_ap.csv\n",
      "File not recognized: 20191209_TIMS05_QC_ADB_AfterSRIGUpgrade_200ng_03_A1_1_1428_ap.yaml\n",
      "Found fasta file: F:\\projects\\alphapept\\integration_test\\uniprot_Human_reviewed_March_2019_manual.fasta\n",
      "File not recognized: uniprot_Human_reviewed_March_2019_manual.npz\n"
     ]
    }
   ],
   "source": [
    "import os\n",
    "\n",
    "test_dir = './integration_test/'\n",
    "\n",
    "files = os.listdir('./integration_test/')\n",
    "\n",
    "raw_files = None\n",
    "fasta_file = None\n",
    "\n",
    "for file in files:\n",
    "    base, ext = os.path.splitext(file)\n",
    "    \n",
    "    if ext == '.fasta':\n",
    "        fasta_file = os.path.abspath(os.path.join(test_dir, file))\n",
    "        print('Found fasta file: {}'.format(fasta_file))\n",
    "    elif ext == '.raw':\n",
    "        if not raw_files:\n",
    "            raw_files = []\n",
    "            raw_files.append(os.path.abspath(os.path.join(test_dir, file)))\n",
    "        else:\n",
    "            raw_files.append(os.path.abspath(os.path.join(test_dir, file)))\n",
    "        print('Found thermo file: {}'.format(file))\n",
    "    elif ext == '.d':\n",
    "        if not raw_files:\n",
    "            raw_files = []\n",
    "            raw_files.append(os.path.abspath(os.path.join(test_dir, file)))\n",
    "        else:\n",
    "            raw_files.append(os.path.abspath(os.path.join(test_dir, file)))\n",
    "        print('Found bruker file: {}'.format(file))\n",
    "    else:\n",
    "        print('File not recognized: {}'.format(file))\n",
    "        \n",
    "        \n",
    "#Todo: Later combine files that might belong together (i.e. in folder, or of same type)"
   ]
  },
  {
   "cell_type": "markdown",
   "metadata": {},
   "source": [
    "## Load settings and create default settings"
   ]
  },
  {
   "cell_type": "code",
   "execution_count": 4,
   "metadata": {},
   "outputs": [],
   "source": [
    "from alphapept.settings import load_settings\n",
    "\n",
    "default_settings = load_settings('default_settings.yaml')\n",
    "\n",
    "def return_bool_settings(settings):\n",
    "    \"\"\"\n",
    "    Extract all settings that are of boolean type\n",
    "    \"\"\"\n",
    "\n",
    "    boolean_settings = []\n",
    "\n",
    "    for category in settings.keys():\n",
    "\n",
    "        temp_settings = {}\n",
    "\n",
    "        for key in settings[category].keys():\n",
    "\n",
    "            setting = settings[category][key]\n",
    "            if type(setting) == bool:  \n",
    "                boolean_settings.append((category, key, setting))\n",
    "                \n",
    "\n",
    "    return boolean_settings\n",
    "\n",
    "# Deactivate maxlfq and match between runs in the default case as they are not implemented\n",
    "# Also deactivete library creation\n",
    "# Otherwise: Activate all functions and deactivate to test\n",
    "\n",
    "default_settings['quantification']['max_lfq'] = False\n",
    "default_settings['misc']['match_between_runs'] = False\n",
    "default_settings['general']['create_library'] = False\n",
    "\n",
    "#Fill with paths from above \n",
    "default_settings['fasta']['fasta_path'] = 'F:/projects/alphapept/integration_test/uniprot_Human_reviewed_March_2019_manual.fasta'\n",
    "default_settings['fasta']['contaminants_path'] = 'F:/projects/alphapept/contaminants.fasta'\n",
    "\n",
    "boolean_settings = return_bool_settings(default_settings)"
   ]
  },
  {
   "cell_type": "markdown",
   "metadata": {},
   "source": [
    "## IO Tests"
   ]
  },
  {
   "cell_type": "code",
   "execution_count": 5,
   "metadata": {},
   "outputs": [
    {
     "name": "stdout",
     "output_type": "stream",
     "text": [
      "IO test with 4 runs created.\n"
     ]
    }
   ],
   "source": [
    "import copy \n",
    "\n",
    "test_cases = []\n",
    "\n",
    "#File conversion tests: Convert to AlphaPept NPZ container, Create library\n",
    "\n",
    "for file in raw_files:\n",
    "    for check in [True, False]:\n",
    "        \n",
    "        test_case = copy.deepcopy(default_settings)\n",
    "        \n",
    "        test_case['raw']['raw_path'] = file\n",
    "        \n",
    "        base, ext = os.path.splitext(test_case[\"raw\"][\"raw_path\"])\n",
    "    \n",
    "        if ext == '.raw':\n",
    "            datatype='thermo'\n",
    "        elif ext == '.d':\n",
    "            datatype='bruker'\n",
    "        else:\n",
    "            raise NotImplementedError('File extension {} not understood.'.format(ext))\n",
    "\n",
    "        #Adjust boundaries for thermo file\n",
    "\n",
    "        if datatype =='bruker':\n",
    "            test_case['search']['m_offset'] = 50\n",
    "            test_case['search']['m_tol'] = 50\n",
    "        \n",
    "        if check:\n",
    "            test_case['raw']['convert_raw'] = True\n",
    "            test_case['general']['create_library'] = True\n",
    "        \n",
    "        else:\n",
    "            raw_path_npz = os.path.splitext(file)[0] + '.npz'\n",
    "            test_case['raw']['raw_path_npz'] = raw_path_npz\n",
    "            test_case['fasta']['library_path'] = os.path.splitext(test_case['fasta']['fasta_path'])[0] + '.npz'\n",
    "            test_case['general']['create_library'] = False\n",
    "            test_case['raw']['convert_raw'] = False\n",
    "               \n",
    "        test_cases.append(test_case)\n",
    "        \n",
    "print('IO test with {} runs created.'.format(len(test_cases)))       "
   ]
  },
  {
   "cell_type": "markdown",
   "metadata": {},
   "source": [
    "## Module Integration tests"
   ]
  },
  {
   "cell_type": "code",
   "execution_count": 6,
   "metadata": {},
   "outputs": [
    {
     "name": "stdout",
     "output_type": "stream",
     "text": [
      "Integration test with 12 runs created.\n"
     ]
    }
   ],
   "source": [
    "for file in raw_files:\n",
    "    \n",
    "    for flags in boolean_settings:\n",
    "        cat, key, val = flags\n",
    "        \n",
    "        if key not in ['convert_raw','create_library','parallel','ppm']:\n",
    "            \n",
    "            test_case = copy.deepcopy(default_settings)\n",
    "            \n",
    "            test_case['raw']['raw_path'] = file\n",
    "            test_case['raw']['convert_raw'] = False\n",
    "            test_case['raw']['raw_path_npz'] = os.path.splitext(file)[0] + '.npz'\n",
    "            test_case['fasta']['library_path'] = os.path.splitext(test_case['fasta']['fasta_path'])[0] + '.npz'\n",
    "            test_case[cat][key] = not val \n",
    "\n",
    "            base, ext = os.path.splitext(test_case[\"raw\"][\"raw_path\"])\n",
    "    \n",
    "            if ext == '.raw':\n",
    "                datatype='thermo'\n",
    "            elif ext == '.d':\n",
    "                datatype='bruker'\n",
    "            else:\n",
    "                raise NotImplementedError('File extension {} not understood.'.format(ext))\n",
    "            \n",
    "            #Adjust boundaries for thermo file\n",
    "            \n",
    "            if datatype =='bruker':\n",
    "                test_case['search']['m_offset'] = 50\n",
    "                test_case['search']['m_tol'] = 50\n",
    "\n",
    "            test_cases.append(test_case)\n",
    "            \n",
    "print('Integration test with {} runs created.'.format(len(test_cases)))"
   ]
  },
  {
   "cell_type": "markdown",
   "metadata": {},
   "source": [
    "## Check wheter all boolean flags are considered"
   ]
  },
  {
   "cell_type": "code",
   "execution_count": 7,
   "metadata": {},
   "outputs": [
    {
     "name": "stdout",
     "output_type": "stream",
     "text": [
      "Test coverage looks good.\n"
     ]
    }
   ],
   "source": [
    "import numpy as np\n",
    "\n",
    "test_check = []\n",
    "\n",
    "for test_case in test_cases:\n",
    "    \n",
    "    test_check.append(tuple([_[2] for _ in return_bool_settings(test_case)]))\n",
    "    \n",
    "import pandas as pd\n",
    "\n",
    "columns = [_[1] for _ in return_bool_settings(test_case)]\n",
    "#columns.extend(['n_proteins', 'n_sequences', 'n_sequence_charges', 'time_minutes', 'error'])\n",
    "test_summary = pd.DataFrame(test_check, columns = columns)\n",
    "\n",
    "# Check that all options are true at least once\n",
    "test_summary_check = np.sum(test_summary)\n",
    "not_tested = test_summary.columns[(test_summary_check==0)]\n",
    "\n",
    "if len(not_tested) > 0:\n",
    "    print('Error. The following options are never tested {}.'.format([_ for _ in not_tested]))\n",
    "    raise\n",
    "else:\n",
    "    print('Test coverage looks good.')"
   ]
  },
  {
   "cell_type": "code",
   "execution_count": 9,
   "metadata": {},
   "outputs": [],
   "source": [
    "from time import time\n",
    "import numpy as np\n",
    "from alphapept.runner import alpha_runner\n",
    "\n",
    "def run_test(settings):\n",
    "    \"\"\"\n",
    "    Run a test with certain settings\n",
    "    \"\"\"\n",
    "\n",
    "    \n",
    "    def dummy(input):\n",
    "        pass\n",
    "    \n",
    "    with tqdm(total=100, desc='Current Progress', unit='%') as current_pbar:\n",
    "        with tqdm(total=100, desc='Overall Progress', unit='%') as overall_pbar:\n",
    "\n",
    "            def current_progress(current):\n",
    "                to_update = np.round(current*100-current_pbar.n, 2)\n",
    "                current_pbar.update(to_update)\n",
    "\n",
    "            def overall_progress(current):\n",
    "                to_update = np.round(current-overall_pbar.n, 2)\n",
    "                overall_pbar.update(to_update)\n",
    "                \n",
    "                \n",
    "            start = time()\n",
    "            try:\n",
    "                df, features = alpha_runner(settings, overall_progress = overall_progress, current_progress = current_progress, CURRENT_TASK = dummy)\n",
    "                error = False\n",
    "            except Exception as e:\n",
    "                print('Experienced the following exception:')\n",
    "                print('-'*100)\n",
    "                print(e)\n",
    "                print('-'*100)\n",
    "                df = None\n",
    "                error = True\n",
    "                \n",
    "            end = time()\n",
    "            \n",
    "            \n",
    "    if df is not None:\n",
    "        n_proteins = len(set(df['protein']))\n",
    "        n_sequences = len(set(df['sequence']))\n",
    "        n_sequence_charges = len(set(df['sequence'] + df['charge'].astype('int').astype('str')))\n",
    "    else:\n",
    "        n_proteins = np.nan\n",
    "        n_sequences = np.nan\n",
    "        n_sequence_charges = np.nan      \n",
    "    \n",
    "    time_minutes = (end-start)/60\n",
    "    \n",
    "    return (n_proteins, n_sequences, n_sequence_charges, time_minutes, error)"
   ]
  },
  {
   "cell_type": "code",
   "execution_count": 10,
   "metadata": {
    "scrolled": false
   },
   "outputs": [
    {
     "data": {
      "application/vnd.jupyter.widget-view+json": {
       "model_id": "ea60f4c489724dcf952a4d1940d45b75",
       "version_major": 2,
       "version_minor": 0
      },
      "text/plain": [
       "HBox(children=(FloatProgress(value=0.0, max=12.0), HTML(value='')))"
      ]
     },
     "metadata": {},
     "output_type": "display_data"
    },
    {
     "data": {
      "application/vnd.jupyter.widget-view+json": {
       "model_id": "fb3573cd89d04b2694e294ecf29cbd5d",
       "version_major": 2,
       "version_minor": 0
      },
      "text/plain": [
       "HBox(children=(FloatProgress(value=0.0, description='Current Progress', style=ProgressStyle(description_width=…"
      ]
     },
     "metadata": {},
     "output_type": "display_data"
    },
    {
     "data": {
      "application/vnd.jupyter.widget-view+json": {
       "model_id": "873131944351426abfe769382c373e73",
       "version_major": 2,
       "version_minor": 0
      },
      "text/plain": [
       "HBox(children=(FloatProgress(value=0.0, description='Overall Progress', style=ProgressStyle(description_width=…"
      ]
     },
     "metadata": {},
     "output_type": "display_data"
    },
    {
     "name": "stderr",
     "output_type": "stream",
     "text": [
      "2020-05-07 18:55:53 INFO - Checking raw path F:\\projects\\alphapept\\integration_test\\20190402_QX1_SeVW_MA_HeLa_500ng_LC11.raw.\n",
      "2020-05-07 18:55:53 INFO - Found raw but no NPZ present. Performing conversion step.\n",
      "2020-05-07 18:55:53 INFO - Raw path okay.\n",
      "2020-05-07 18:55:53 INFO - Checking library path.\n",
      "2020-05-07 18:55:53 INFO - No NPZ for library present. Creating library from FASTA.\n",
      "2020-05-07 18:55:53 INFO - Library path okay.\n",
      "2020-05-07 18:57:20 INFO - Digested 20,664 proteins and generated 5,289,587 peptides\n",
      "2020-05-07 18:59:30 INFO - Generated 5,289,587 spectra\n",
      "2020-05-07 19:00:08 INFO - Database saved to F:/projects/alphapept/integration_test/uniprot_Human_reviewed_March_2019_manual.npz. Filesize 3.28 Gb\n",
      "2020-05-07 19:00:08 INFO - Imported existing <module 'comtypes.gen' from 'C:\\\\ProgramData\\\\Anaconda3\\\\envs\\\\alphap\\\\lib\\\\site-packages\\\\comtypes\\\\gen\\\\__init__.py'>\n",
      "2020-05-07 19:00:08 INFO - Using writeable comtypes cache directory: 'C:\\ProgramData\\Anaconda3\\envs\\alphap\\lib\\site-packages\\comtypes\\gen'\n",
      "2020-05-07 19:01:50 INFO - Raw file(s) saved to ['F:\\\\projects\\\\alphapept\\\\integration_test\\\\20190402_QX1_SeVW_MA_HeLa_500ng_LC11.npz']\n",
      "2020-05-07 19:01:50 INFO - Finding Features\n",
      "2020-05-07 19:01:50 INFO - Fature Finding for Thermo\n",
      "2020-05-07 19:02:10 INFO - Loaded 13,230 centroids.\n",
      "C:\\ProgramData\\Anaconda3\\envs\\alphap\\lib\\site-packages\\numba\\ir_utils.py:2041: NumbaPendingDeprecationWarning: \u001b[1m\n",
      "Encountered the use of a type that is scheduled for deprecation: type 'reflected list' found for argument 'centroids' of function 'connect_centroids_forward'.\n",
      "\n",
      "For more information visit http://numba.pydata.org/numba-doc/latest/reference/deprecation.html#deprecation-of-reflection-for-list-and-set-types\n",
      "\u001b[1m\n",
      "File \"alphapept\\feature_finding.py\", line 190:\u001b[0m\n",
      "\u001b[1m@njit\n",
      "\u001b[1mdef connect_centroids_forward(centroids, max_centroids, max_gap, ppm_tol):\n",
      "\u001b[0m\u001b[1m^\u001b[0m\u001b[0m\n",
      "\u001b[0m\n",
      "  warnings.warn(NumbaPendingDeprecationWarning(msg, loc=loc))\n",
      "C:\\ProgramData\\Anaconda3\\envs\\alphap\\lib\\site-packages\\numba\\ir_utils.py:2041: NumbaPendingDeprecationWarning: \u001b[1m\n",
      "Encountered the use of a type that is scheduled for deprecation: type 'reflected list' found for argument 'centroids' of function 'connect_centroids_backward'.\n",
      "\n",
      "For more information visit http://numba.pydata.org/numba-doc/latest/reference/deprecation.html#deprecation-of-reflection-for-list-and-set-types\n",
      "\u001b[1m\n",
      "File \"alphapept\\feature_finding.py\", line 233:\u001b[0m\n",
      "\u001b[1m@njit\n",
      "\u001b[1mdef connect_centroids_backward(centroids, max_centroids, max_gap, ppm_tol):\n",
      "\u001b[0m\u001b[1m^\u001b[0m\u001b[0m\n",
      "\u001b[0m\n",
      "  warnings.warn(NumbaPendingDeprecationWarning(msg, loc=loc))\n",
      "2020-05-07 19:07:27 INFO - A total of 992,051 hills extracted. Average hill length 16.04\n",
      "2020-05-07 19:08:59 INFO - Split 992,051 hills into 1,239,960 hills\n",
      "2020-05-07 19:09:27 INFO - Filtered 1,239,960 hills. Remaining 1,221,467 hills\n",
      "C:\\ProgramData\\Anaconda3\\envs\\alphap\\lib\\site-packages\\numba\\ir_utils.py:2041: NumbaPendingDeprecationWarning: \u001b[1m\n",
      "Encountered the use of a type that is scheduled for deprecation: type 'reflected list' found for argument 'hill_data' of function 'get_hill_data_numba'.\n",
      "\n",
      "For more information visit http://numba.pydata.org/numba-doc/latest/reference/deprecation.html#deprecation-of-reflection-for-list-and-set-types\n",
      "\u001b[1m\n",
      "File \"alphapept\\feature_finding.py\", line 582:\u001b[0m\n",
      "\u001b[1m@njit\n",
      "\u001b[1mdef get_hill_data_numba(hill_data):\n",
      "\u001b[0m\u001b[1m^\u001b[0m\u001b[0m\n",
      "\u001b[0m\n",
      "  warnings.warn(NumbaPendingDeprecationWarning(msg, loc=loc))\n",
      "2020-05-07 19:13:17 INFO - Extracting hill stats complete\n",
      "2020-05-07 19:14:44 INFO - Found 200028 pre isotope patterns.\n",
      "2020-05-07 19:16:49 INFO - Extracted 218778 isotope patterns.\n",
      "2020-05-07 19:17:32 INFO - Report complete.\n",
      "F:\\projects\\alphapept\\alphapept\\feature_finding.py:1520: RuntimeWarning: divide by zero encountered in log\n",
      "  query_mz = np.log(query_data['mono_mzs2'])*1e6/ppm_range\n",
      "2020-05-07 19:17:33 INFO - Note: NumExpr detected 24 cores but \"NUMEXPR_MAX_THREADS\" not set, so enforcing safe limit of 8.\n",
      "2020-05-07 19:17:33 INFO - NumExpr defaulting to 8 threads.\n",
      "2020-05-07 19:17:54 INFO - First search complete. Compared 26,240,017 spectra and found 149,081 psms.\n",
      "2020-05-07 19:18:24 INFO - Extracted columns for 149,081 psms.\n",
      "2020-05-07 19:18:25 INFO - Scoring complete. For 0.01 FDR found 52,273 targets and 522 decoys.\n",
      "2020-05-07 19:18:25 INFO - Precursor Offset (PPM) is -3.25 (mean), 3.07 (std)\n",
      "2020-05-07 19:18:58 INFO - Calibration complete. Precursor Offset (PPM) is -0.01 (mean), 1.30 (std)\n",
      "2020-05-07 19:18:58 INFO - Adjusting search bound to 3.91 ppm.\n",
      "2020-05-07 19:19:08 INFO - Second search complete. Compared 11,198,583 spectra and found 104,640 psms.\n",
      "2020-05-07 19:19:27 INFO - Extracted columns for 104,640 psms.\n",
      "2020-05-07 19:19:28 INFO - Scoring peptides complete. For 0.01 FDR found 51,350 targets and 440 decoys.\n",
      "2020-05-07 19:21:04 INFO - Scoring proteins complete. For 0.01 FDR found 49,652 targets and 78 decoys. A total of 5,884 proteins found.\n",
      "2020-05-07 19:21:06 INFO - Saved to F:\\projects\\alphapept\\integration_test\\20190402_QX1_SeVW_MA_HeLa_500ng_LC11_ap.csv\n",
      "2020-05-07 19:21:06 INFO - Settings saved to F:\\projects\\alphapept\\integration_test\\20190402_QX1_SeVW_MA_HeLa_500ng_LC11_ap.yaml\n"
     ]
    },
    {
     "name": "stdout",
     "output_type": "stream",
     "text": [
      "\n",
      "\n"
     ]
    },
    {
     "data": {
      "application/vnd.jupyter.widget-view+json": {
       "model_id": "9015c0fc4a6f4864ba1297c72322b110",
       "version_major": 2,
       "version_minor": 0
      },
      "text/plain": [
       "HBox(children=(FloatProgress(value=0.0, description='Current Progress', style=ProgressStyle(description_width=…"
      ]
     },
     "metadata": {},
     "output_type": "display_data"
    },
    {
     "data": {
      "application/vnd.jupyter.widget-view+json": {
       "model_id": "ac0c66ea052040d9b75571e56d72048f",
       "version_major": 2,
       "version_minor": 0
      },
      "text/plain": [
       "HBox(children=(FloatProgress(value=0.0, description='Overall Progress', style=ProgressStyle(description_width=…"
      ]
     },
     "metadata": {},
     "output_type": "display_data"
    },
    {
     "name": "stderr",
     "output_type": "stream",
     "text": [
      "2020-05-07 19:21:24 INFO - Checking raw path F:\\projects\\alphapept\\integration_test\\20190402_QX1_SeVW_MA_HeLa_500ng_LC11.raw.\n",
      "2020-05-07 19:21:24 INFO - NPZ for raw file present. Skipping conversion step.\n",
      "2020-05-07 19:21:24 INFO - Raw path okay.\n",
      "2020-05-07 19:21:24 INFO - Checking library path.\n",
      "2020-05-07 19:21:24 INFO - NPZ for library file present.\n",
      "2020-05-07 19:21:24 INFO - Library path okay.\n",
      "2020-05-07 19:21:24 INFO - Finding Features\n",
      "2020-05-07 19:21:24 INFO - Fature Finding for Thermo\n",
      "2020-05-07 19:21:45 INFO - Loaded 13,230 centroids.\n",
      "2020-05-07 19:27:18 INFO - A total of 992,051 hills extracted. Average hill length 16.04\n",
      "2020-05-07 19:28:48 INFO - Split 992,051 hills into 1,239,960 hills\n",
      "2020-05-07 19:29:16 INFO - Filtered 1,239,960 hills. Remaining 1,221,467 hills\n",
      "2020-05-07 19:33:12 INFO - Extracting hill stats complete\n",
      "2020-05-07 19:34:40 INFO - Found 200044 pre isotope patterns.\n",
      "2020-05-07 19:36:30 INFO - Extracted 218781 isotope patterns.\n",
      "2020-05-07 19:37:14 INFO - Report complete.\n",
      "F:\\projects\\alphapept\\alphapept\\feature_finding.py:1520: RuntimeWarning: divide by zero encountered in log\n",
      "  query_mz = np.log(query_data['mono_mzs2'])*1e6/ppm_range\n",
      "2020-05-07 19:37:32 INFO - First search complete. Compared 26,236,092 spectra and found 149,024 psms.\n",
      "2020-05-07 19:37:59 INFO - Extracted columns for 149,024 psms.\n",
      "2020-05-07 19:38:00 INFO - Scoring complete. For 0.01 FDR found 52,261 targets and 522 decoys.\n",
      "2020-05-07 19:38:00 INFO - Precursor Offset (PPM) is -3.25 (mean), 3.07 (std)\n",
      "2020-05-07 19:38:31 INFO - Calibration complete. Precursor Offset (PPM) is -0.01 (mean), 1.30 (std)\n",
      "2020-05-07 19:38:31 INFO - Adjusting search bound to 3.91 ppm.\n",
      "2020-05-07 19:38:40 INFO - Second search complete. Compared 11,192,012 spectra and found 104,588 psms.\n",
      "2020-05-07 19:39:02 INFO - Extracted columns for 104,588 psms.\n",
      "2020-05-07 19:39:03 INFO - Scoring peptides complete. For 0.01 FDR found 51,338 targets and 440 decoys.\n",
      "2020-05-07 19:40:08 INFO - Scoring proteins complete. For 0.01 FDR found 49,641 targets and 78 decoys. A total of 5,883 proteins found.\n",
      "2020-05-07 19:40:09 INFO - Saved to F:\\projects\\alphapept\\integration_test\\20190402_QX1_SeVW_MA_HeLa_500ng_LC11_ap.csv\n",
      "2020-05-07 19:40:09 INFO - Settings saved to F:\\projects\\alphapept\\integration_test\\20190402_QX1_SeVW_MA_HeLa_500ng_LC11_ap.yaml\n"
     ]
    },
    {
     "name": "stdout",
     "output_type": "stream",
     "text": [
      "\n",
      "\n"
     ]
    },
    {
     "data": {
      "application/vnd.jupyter.widget-view+json": {
       "model_id": "3cf7a8ec10b843c0a0f42056ef89ef26",
       "version_major": 2,
       "version_minor": 0
      },
      "text/plain": [
       "HBox(children=(FloatProgress(value=0.0, description='Current Progress', style=ProgressStyle(description_width=…"
      ]
     },
     "metadata": {},
     "output_type": "display_data"
    },
    {
     "data": {
      "application/vnd.jupyter.widget-view+json": {
       "model_id": "3e54bc83115a4484802db812de6916f1",
       "version_major": 2,
       "version_minor": 0
      },
      "text/plain": [
       "HBox(children=(FloatProgress(value=0.0, description='Overall Progress', style=ProgressStyle(description_width=…"
      ]
     },
     "metadata": {},
     "output_type": "display_data"
    },
    {
     "name": "stderr",
     "output_type": "stream",
     "text": [
      "2020-05-07 19:40:18 INFO - Checking raw path F:\\projects\\alphapept\\integration_test\\20191209_TIMS05_QC_ADB_AfterSRIGUpgrade_200ng_03_A1_1_1428.d.\n",
      "2020-05-07 19:40:18 INFO - Found raw but no NPZ present. Performing conversion step.\n",
      "2020-05-07 19:40:18 INFO - Raw path okay.\n",
      "2020-05-07 19:40:18 INFO - Checking library path.\n",
      "2020-05-07 19:40:18 INFO - No NPZ for library present. Creating library from FASTA.\n",
      "2020-05-07 19:40:18 INFO - Library path okay.\n",
      "2020-05-07 19:41:35 INFO - Digested 20,664 proteins and generated 5,289,587 peptides\n",
      "2020-05-07 19:43:45 INFO - Generated 5,289,587 spectra\n",
      "2020-05-07 19:44:23 INFO - Database saved to F:/projects/alphapept/integration_test/uniprot_Human_reviewed_March_2019_manual.npz. Filesize 3.28 Gb\n",
      "2020-05-07 20:13:36 INFO - Raw file(s) saved to ['F:\\\\projects\\\\alphapept\\\\integration_test\\\\20191209_TIMS05_QC_ADB_AfterSRIGUpgrade_200ng_03_A1_1_1428.npz']\n",
      "2020-05-07 20:13:36 INFO - Finding Features\n",
      "2020-05-07 20:13:36 INFO - Fature Finding for Bruker\n",
      "2020-05-07 20:13:37 INFO - Extracted 261,930 features.\n",
      "2020-05-07 20:16:48 INFO - First search complete. Compared 356,163,285 spectra and found 1,947,349 psms.\n",
      "2020-05-07 20:18:43 INFO - Extracted columns for 1,947,349 psms.\n",
      "2020-05-07 20:18:50 INFO - Scoring complete. For 0.01 FDR found 137,748 targets and 1,377 decoys.\n",
      "2020-05-07 20:18:50 INFO - Precursor Offset (PPM) is -16.85 (mean), 7.23 (std)\n",
      "2020-05-07 20:20:06 INFO - Calibration complete. Precursor Offset (PPM) is -0.02 (mean), 2.58 (std)\n",
      "2020-05-07 20:20:06 INFO - Adjusting search bound to 7.73 ppm.\n",
      "2020-05-07 20:20:47 INFO - Second search complete. Compared 67,990,167 spectra and found 520,992 psms.\n",
      "2020-05-07 20:21:31 INFO - Extracted columns for 520,992 psms.\n",
      "2020-05-07 20:21:33 INFO - Scoring peptides complete. For 0.01 FDR found 150,862 targets and 981 decoys.\n",
      "2020-05-07 20:23:30 INFO - Scoring proteins complete. For 0.01 FDR found 149,220 targets and 168 decoys. A total of 6,389 proteins found.\n",
      "2020-05-07 20:23:35 INFO - Saved to F:\\projects\\alphapept\\integration_test\\20191209_TIMS05_QC_ADB_AfterSRIGUpgrade_200ng_03_A1_1_1428_ap.csv\n",
      "2020-05-07 20:23:35 INFO - Settings saved to F:\\projects\\alphapept\\integration_test\\20191209_TIMS05_QC_ADB_AfterSRIGUpgrade_200ng_03_A1_1_1428_ap.yaml\n"
     ]
    },
    {
     "name": "stdout",
     "output_type": "stream",
     "text": [
      "\n",
      "\n"
     ]
    },
    {
     "data": {
      "application/vnd.jupyter.widget-view+json": {
       "model_id": "4dcf24ce372e473194f7047d10a3ad29",
       "version_major": 2,
       "version_minor": 0
      },
      "text/plain": [
       "HBox(children=(FloatProgress(value=0.0, description='Current Progress', style=ProgressStyle(description_width=…"
      ]
     },
     "metadata": {},
     "output_type": "display_data"
    },
    {
     "data": {
      "application/vnd.jupyter.widget-view+json": {
       "model_id": "c134cd268a144d9a92ef6b373c7cd452",
       "version_major": 2,
       "version_minor": 0
      },
      "text/plain": [
       "HBox(children=(FloatProgress(value=0.0, description='Overall Progress', style=ProgressStyle(description_width=…"
      ]
     },
     "metadata": {},
     "output_type": "display_data"
    },
    {
     "name": "stderr",
     "output_type": "stream",
     "text": [
      "2020-05-07 20:23:43 INFO - Checking raw path F:\\projects\\alphapept\\integration_test\\20191209_TIMS05_QC_ADB_AfterSRIGUpgrade_200ng_03_A1_1_1428.d.\n",
      "2020-05-07 20:23:43 INFO - NPZ for raw file present. Skipping conversion step.\n",
      "2020-05-07 20:23:43 INFO - Raw path okay.\n",
      "2020-05-07 20:23:43 INFO - Checking library path.\n",
      "2020-05-07 20:23:43 INFO - NPZ for library file present.\n",
      "2020-05-07 20:23:43 INFO - Library path okay.\n",
      "2020-05-07 20:23:43 INFO - Finding Features\n",
      "2020-05-07 20:23:43 INFO - Fature Finding for Bruker\n",
      "2020-05-07 20:23:45 INFO - Extracted 261,930 features.\n",
      "2020-05-07 20:26:49 INFO - First search complete. Compared 356,163,285 spectra and found 1,947,349 psms.\n",
      "2020-05-07 20:28:43 INFO - Extracted columns for 1,947,349 psms.\n",
      "2020-05-07 20:28:50 INFO - Scoring complete. For 0.01 FDR found 137,748 targets and 1,377 decoys.\n",
      "2020-05-07 20:28:50 INFO - Precursor Offset (PPM) is -16.85 (mean), 7.23 (std)\n",
      "2020-05-07 20:29:55 INFO - Calibration complete. Precursor Offset (PPM) is -0.02 (mean), 2.58 (std)\n",
      "2020-05-07 20:29:55 INFO - Adjusting search bound to 7.73 ppm.\n",
      "2020-05-07 20:30:33 INFO - Second search complete. Compared 67,990,167 spectra and found 520,992 psms.\n",
      "2020-05-07 20:31:10 INFO - Extracted columns for 520,992 psms.\n",
      "2020-05-07 20:31:13 INFO - Scoring peptides complete. For 0.01 FDR found 150,862 targets and 981 decoys.\n",
      "2020-05-07 20:31:59 INFO - Scoring proteins complete. For 0.01 FDR found 149,220 targets and 168 decoys. A total of 6,389 proteins found.\n",
      "2020-05-07 20:32:03 INFO - Saved to F:\\projects\\alphapept\\integration_test\\20191209_TIMS05_QC_ADB_AfterSRIGUpgrade_200ng_03_A1_1_1428_ap.csv\n",
      "2020-05-07 20:32:03 INFO - Settings saved to F:\\projects\\alphapept\\integration_test\\20191209_TIMS05_QC_ADB_AfterSRIGUpgrade_200ng_03_A1_1_1428_ap.yaml\n"
     ]
    },
    {
     "name": "stdout",
     "output_type": "stream",
     "text": [
      "\n",
      "\n"
     ]
    },
    {
     "data": {
      "application/vnd.jupyter.widget-view+json": {
       "model_id": "480fe667f5cb454cb498ef9242a37aa2",
       "version_major": 2,
       "version_minor": 0
      },
      "text/plain": [
       "HBox(children=(FloatProgress(value=0.0, description='Current Progress', style=ProgressStyle(description_width=…"
      ]
     },
     "metadata": {},
     "output_type": "display_data"
    },
    {
     "data": {
      "application/vnd.jupyter.widget-view+json": {
       "model_id": "a2012ed10afa47eda708f58f46e5ba60",
       "version_major": 2,
       "version_minor": 0
      },
      "text/plain": [
       "HBox(children=(FloatProgress(value=0.0, description='Overall Progress', style=ProgressStyle(description_width=…"
      ]
     },
     "metadata": {},
     "output_type": "display_data"
    },
    {
     "name": "stderr",
     "output_type": "stream",
     "text": [
      "2020-05-07 20:32:03 INFO - Checking raw path F:\\projects\\alphapept\\integration_test\\20190402_QX1_SeVW_MA_HeLa_500ng_LC11.raw.\n",
      "2020-05-07 20:32:03 INFO - NPZ for raw file present. Skipping conversion step.\n",
      "2020-05-07 20:32:03 INFO - Raw path okay.\n",
      "2020-05-07 20:32:03 INFO - Checking library path.\n",
      "2020-05-07 20:32:03 INFO - NPZ for library file present.\n",
      "2020-05-07 20:32:03 INFO - Library path okay.\n",
      "2020-05-07 20:32:03 INFO - Using Features from raw data\n",
      "2020-05-07 20:32:21 INFO - First search complete. Compared 30,099,867 spectra and found 175,590 psms.\n",
      "2020-05-07 20:32:38 INFO - Extracted columns for 175,590 psms.\n",
      "2020-05-07 20:32:38 INFO - Scoring complete. For 0.01 FDR found 62,370 targets and 623 decoys.\n",
      "2020-05-07 20:32:38 INFO - Precursor Offset (PPM) is -0.24 (mean), 2.48 (std)\n",
      "2020-05-07 20:33:38 INFO - Calibration complete. Precursor Offset (PPM) is 0.00 (mean), 0.84 (std)\n",
      "2020-05-07 20:33:38 INFO - Adjusting search bound to 2.52 ppm.\n",
      "2020-05-07 20:33:45 INFO - Second search complete. Compared 8,367,706 spectra and found 107,054 psms.\n",
      "2020-05-07 20:33:58 INFO - Extracted columns for 107,054 psms.\n",
      "2020-05-07 20:33:59 INFO - Scoring peptides complete. For 0.01 FDR found 60,929 targets and 522 decoys.\n",
      "2020-05-07 20:34:44 INFO - Scoring proteins complete. For 0.01 FDR found 59,021 targets and 75 decoys. A total of 6,208 proteins found.\n",
      "2020-05-07 20:34:45 INFO - Saved to F:\\projects\\alphapept\\integration_test\\20190402_QX1_SeVW_MA_HeLa_500ng_LC11_ap.csv\n",
      "2020-05-07 20:34:45 INFO - Settings saved to F:\\projects\\alphapept\\integration_test\\20190402_QX1_SeVW_MA_HeLa_500ng_LC11_ap.yaml\n"
     ]
    },
    {
     "name": "stdout",
     "output_type": "stream",
     "text": [
      "\n",
      "\n"
     ]
    },
    {
     "data": {
      "application/vnd.jupyter.widget-view+json": {
       "model_id": "e1e500cf746b48b5bdc5d6b1d6b84515",
       "version_major": 2,
       "version_minor": 0
      },
      "text/plain": [
       "HBox(children=(FloatProgress(value=0.0, description='Current Progress', style=ProgressStyle(description_width=…"
      ]
     },
     "metadata": {},
     "output_type": "display_data"
    },
    {
     "data": {
      "application/vnd.jupyter.widget-view+json": {
       "model_id": "5b466dc2e2bf47d391f99d9aa16c2776",
       "version_major": 2,
       "version_minor": 0
      },
      "text/plain": [
       "HBox(children=(FloatProgress(value=0.0, description='Overall Progress', style=ProgressStyle(description_width=…"
      ]
     },
     "metadata": {},
     "output_type": "display_data"
    },
    {
     "name": "stderr",
     "output_type": "stream",
     "text": [
      "2020-05-07 20:34:45 INFO - Checking raw path F:\\projects\\alphapept\\integration_test\\20190402_QX1_SeVW_MA_HeLa_500ng_LC11.raw.\n",
      "2020-05-07 20:34:45 INFO - NPZ for raw file present. Skipping conversion step.\n",
      "2020-05-07 20:34:45 INFO - Raw path okay.\n",
      "2020-05-07 20:34:45 INFO - Checking library path.\n",
      "2020-05-07 20:34:45 INFO - NPZ for library file present.\n",
      "2020-05-07 20:34:45 INFO - Library path okay.\n",
      "2020-05-07 20:34:45 INFO - Finding Features\n",
      "2020-05-07 20:34:45 INFO - Fature Finding for Thermo\n",
      "2020-05-07 20:34:56 INFO - Loaded 13,230 centroids.\n",
      "2020-05-07 20:40:33 INFO - A total of 992,051 hills extracted. Average hill length 16.04\n",
      "2020-05-07 20:42:05 INFO - Split 992,051 hills into 1,239,960 hills\n",
      "2020-05-07 20:42:34 INFO - Filtered 1,239,960 hills. Remaining 1,221,467 hills\n",
      "2020-05-07 20:46:35 INFO - Extracting hill stats complete\n",
      "2020-05-07 20:48:03 INFO - Found 200048 pre isotope patterns.\n",
      "2020-05-07 20:49:54 INFO - Extracted 218799 isotope patterns.\n",
      "2020-05-07 20:50:38 INFO - Report complete.\n",
      "F:\\projects\\alphapept\\alphapept\\feature_finding.py:1520: RuntimeWarning: divide by zero encountered in log\n",
      "  query_mz = np.log(query_data['mono_mzs2'])*1e6/ppm_range\n",
      "2020-05-07 20:50:55 INFO - First search complete. Compared 26,233,375 spectra and found 148,969 psms.\n",
      "2020-05-07 20:51:24 INFO - Extracted columns for 148,969 psms.\n",
      "2020-05-07 20:51:25 INFO - Scoring complete. For 0.01 FDR found 52,254 targets and 522 decoys.\n",
      "2020-05-07 20:51:25 INFO - Precursor Offset (PPM) is -3.25 (mean), 3.07 (std)\n",
      "2020-05-07 20:51:54 INFO - Calibration complete. Precursor Offset (PPM) is -0.01 (mean), 1.30 (std)\n",
      "2020-05-07 20:51:54 INFO - Adjusting search bound to 3.91 ppm.\n",
      "2020-05-07 20:52:02 INFO - Second search complete. Compared 11,192,945 spectra and found 104,576 psms.\n",
      "2020-05-07 20:52:22 INFO - Extracted columns for 104,576 psms.\n",
      "2020-05-07 20:52:22 INFO - Scoring peptides complete. For 0.01 FDR found 51,334 targets and 440 decoys.\n",
      "2020-05-07 20:53:17 INFO - Scoring proteins complete. For 0.01 FDR found 49,633 targets and 78 decoys. A total of 5,882 proteins found.\n"
     ]
    },
    {
     "name": "stdout",
     "output_type": "stream",
     "text": [
      "Experienced the following exception:\n",
      "----------------------------------------------------------------------------------------------------\n",
      "Match beween runs not implemented yet.\n",
      "----------------------------------------------------------------------------------------------------\n",
      "\n",
      "\n"
     ]
    },
    {
     "data": {
      "application/vnd.jupyter.widget-view+json": {
       "model_id": "8d227ce9ff894f6c81d261281f272bbc",
       "version_major": 2,
       "version_minor": 0
      },
      "text/plain": [
       "HBox(children=(FloatProgress(value=0.0, description='Current Progress', style=ProgressStyle(description_width=…"
      ]
     },
     "metadata": {},
     "output_type": "display_data"
    },
    {
     "data": {
      "application/vnd.jupyter.widget-view+json": {
       "model_id": "4075ed615be34a8398f2314c984a4676",
       "version_major": 2,
       "version_minor": 0
      },
      "text/plain": [
       "HBox(children=(FloatProgress(value=0.0, description='Overall Progress', style=ProgressStyle(description_width=…"
      ]
     },
     "metadata": {},
     "output_type": "display_data"
    },
    {
     "name": "stderr",
     "output_type": "stream",
     "text": [
      "2020-05-07 20:53:26 INFO - Checking raw path F:\\projects\\alphapept\\integration_test\\20190402_QX1_SeVW_MA_HeLa_500ng_LC11.raw.\n",
      "2020-05-07 20:53:26 INFO - NPZ for raw file present. Skipping conversion step.\n",
      "2020-05-07 20:53:26 INFO - Raw path okay.\n",
      "2020-05-07 20:53:26 INFO - Checking library path.\n",
      "2020-05-07 20:53:26 INFO - NPZ for library file present.\n",
      "2020-05-07 20:53:26 INFO - Library path okay.\n",
      "2020-05-07 20:53:26 INFO - Finding Features\n",
      "2020-05-07 20:53:26 INFO - Fature Finding for Thermo\n",
      "2020-05-07 20:53:37 INFO - Loaded 13,230 centroids.\n",
      "2020-05-07 20:59:19 INFO - A total of 992,051 hills extracted. Average hill length 16.04\n",
      "2020-05-07 21:00:51 INFO - Split 992,051 hills into 1,239,960 hills\n",
      "2020-05-07 21:01:19 INFO - Filtered 1,239,960 hills. Remaining 1,221,467 hills\n",
      "2020-05-07 21:05:08 INFO - Extracting hill stats complete\n",
      "2020-05-07 21:06:36 INFO - Found 200048 pre isotope patterns.\n",
      "2020-05-07 21:08:27 INFO - Extracted 218774 isotope patterns.\n",
      "2020-05-07 21:09:11 INFO - Report complete.\n",
      "F:\\projects\\alphapept\\alphapept\\feature_finding.py:1520: RuntimeWarning: divide by zero encountered in log\n",
      "  query_mz = np.log(query_data['mono_mzs2'])*1e6/ppm_range\n",
      "2020-05-07 21:09:29 INFO - First search complete. Compared 26,232,709 spectra and found 149,066 psms.\n",
      "2020-05-07 21:09:58 INFO - Extracted columns for 149,066 psms.\n",
      "2020-05-07 21:09:59 INFO - Scoring complete. For 0.01 FDR found 52,255 targets and 522 decoys.\n",
      "2020-05-07 21:09:59 INFO - Precursor Offset (PPM) is -3.25 (mean), 3.07 (std)\n",
      "2020-05-07 21:10:29 INFO - Calibration complete. Precursor Offset (PPM) is -0.01 (mean), 1.30 (std)\n",
      "2020-05-07 21:10:29 INFO - Adjusting search bound to 3.91 ppm.\n",
      "2020-05-07 21:10:37 INFO - Second search complete. Compared 11,191,407 spectra and found 104,622 psms.\n",
      "2020-05-07 21:10:57 INFO - Extracted columns for 104,622 psms.\n",
      "2020-05-07 21:10:58 INFO - Scoring peptides complete. For 0.01 FDR found 51,338 targets and 440 decoys.\n",
      "2020-05-07 21:11:55 INFO - Scoring proteins complete. For 0.01 FDR found 49,634 targets and 78 decoys. A total of 5,880 proteins found.\n"
     ]
    },
    {
     "name": "stdout",
     "output_type": "stream",
     "text": [
      "Experienced the following exception:\n",
      "----------------------------------------------------------------------------------------------------\n",
      "MaxLFQ not implemented yet.\n",
      "----------------------------------------------------------------------------------------------------\n",
      "\n",
      "\n"
     ]
    },
    {
     "data": {
      "application/vnd.jupyter.widget-view+json": {
       "model_id": "092d7949d6d145d784bee2bf618b7501",
       "version_major": 2,
       "version_minor": 0
      },
      "text/plain": [
       "HBox(children=(FloatProgress(value=0.0, description='Current Progress', style=ProgressStyle(description_width=…"
      ]
     },
     "metadata": {},
     "output_type": "display_data"
    },
    {
     "data": {
      "application/vnd.jupyter.widget-view+json": {
       "model_id": "b18ae12a333a43fdbc7d2f0d5589761b",
       "version_major": 2,
       "version_minor": 0
      },
      "text/plain": [
       "HBox(children=(FloatProgress(value=0.0, description='Overall Progress', style=ProgressStyle(description_width=…"
      ]
     },
     "metadata": {},
     "output_type": "display_data"
    },
    {
     "name": "stderr",
     "output_type": "stream",
     "text": [
      "2020-05-07 21:12:04 INFO - Checking raw path F:\\projects\\alphapept\\integration_test\\20190402_QX1_SeVW_MA_HeLa_500ng_LC11.raw.\n",
      "2020-05-07 21:12:04 INFO - NPZ for raw file present. Skipping conversion step.\n",
      "2020-05-07 21:12:04 INFO - Raw path okay.\n",
      "2020-05-07 21:12:04 INFO - Checking library path.\n",
      "2020-05-07 21:12:04 INFO - NPZ for library file present.\n",
      "2020-05-07 21:12:04 INFO - Library path okay.\n",
      "2020-05-07 21:12:04 INFO - Finding Features\n",
      "2020-05-07 21:12:04 INFO - Fature Finding for Thermo\n",
      "2020-05-07 21:12:15 INFO - Loaded 13,230 centroids.\n",
      "2020-05-07 21:17:52 INFO - A total of 992,051 hills extracted. Average hill length 16.04\n",
      "2020-05-07 21:19:24 INFO - Split 992,051 hills into 1,239,960 hills\n",
      "2020-05-07 21:19:52 INFO - Filtered 1,239,960 hills. Remaining 1,221,467 hills\n",
      "2020-05-07 21:23:42 INFO - Extracting hill stats complete\n",
      "2020-05-07 21:25:10 INFO - Found 200034 pre isotope patterns.\n",
      "2020-05-07 21:27:01 INFO - Extracted 218797 isotope patterns.\n",
      "2020-05-07 21:27:44 INFO - Report complete.\n",
      "F:\\projects\\alphapept\\alphapept\\feature_finding.py:1520: RuntimeWarning: divide by zero encountered in log\n",
      "  query_mz = np.log(query_data['mono_mzs2'])*1e6/ppm_range\n",
      "2020-05-07 21:28:01 INFO - First search complete. Compared 26,234,587 spectra and found 149,038 psms.\n",
      "2020-05-07 21:28:31 INFO - Extracted columns for 149,038 psms.\n",
      "2020-05-07 21:28:32 INFO - Scoring peptides complete. For 0.01 FDR found 52,130 targets and 445 decoys.\n",
      "2020-05-07 21:29:29 INFO - Scoring proteins complete. For 0.01 FDR found 50,390 targets and 71 decoys. A total of 5,823 proteins found.\n",
      "2020-05-07 21:29:31 INFO - Saved to F:\\projects\\alphapept\\integration_test\\20190402_QX1_SeVW_MA_HeLa_500ng_LC11_ap.csv\n",
      "2020-05-07 21:29:31 INFO - Settings saved to F:\\projects\\alphapept\\integration_test\\20190402_QX1_SeVW_MA_HeLa_500ng_LC11_ap.yaml\n"
     ]
    },
    {
     "name": "stdout",
     "output_type": "stream",
     "text": [
      "\n",
      "\n"
     ]
    },
    {
     "data": {
      "application/vnd.jupyter.widget-view+json": {
       "model_id": "eeaca3d498f745bdb7089b0276063a20",
       "version_major": 2,
       "version_minor": 0
      },
      "text/plain": [
       "HBox(children=(FloatProgress(value=0.0, description='Current Progress', style=ProgressStyle(description_width=…"
      ]
     },
     "metadata": {},
     "output_type": "display_data"
    },
    {
     "data": {
      "application/vnd.jupyter.widget-view+json": {
       "model_id": "b0ca4c7f9f454cf6984dd64f6ceade77",
       "version_major": 2,
       "version_minor": 0
      },
      "text/plain": [
       "HBox(children=(FloatProgress(value=0.0, description='Overall Progress', style=ProgressStyle(description_width=…"
      ]
     },
     "metadata": {},
     "output_type": "display_data"
    },
    {
     "name": "stderr",
     "output_type": "stream",
     "text": [
      "2020-05-07 21:29:39 INFO - Checking raw path F:\\projects\\alphapept\\integration_test\\20191209_TIMS05_QC_ADB_AfterSRIGUpgrade_200ng_03_A1_1_1428.d.\n",
      "2020-05-07 21:29:39 INFO - NPZ for raw file present. Skipping conversion step.\n",
      "2020-05-07 21:29:39 INFO - Raw path okay.\n",
      "2020-05-07 21:29:39 INFO - Checking library path.\n",
      "2020-05-07 21:29:39 INFO - NPZ for library file present.\n",
      "2020-05-07 21:29:39 INFO - Library path okay.\n",
      "2020-05-07 21:29:39 INFO - Using Features from raw data\n",
      "2020-05-07 21:32:07 INFO - First search complete. Compared 288,703,312 spectra and found 1,458,316 psms.\n",
      "2020-05-07 21:33:24 INFO - Extracted columns for 1,458,316 psms.\n",
      "2020-05-07 21:33:28 INFO - Scoring complete. For 0.01 FDR found 98,637 targets and 986 decoys.\n",
      "2020-05-07 21:33:28 INFO - Precursor Offset (PPM) is -16.49 (mean), 7.87 (std)\n",
      "2020-05-07 21:37:11 INFO - Calibration complete. Precursor Offset (PPM) is -0.01 (mean), 1.64 (std)\n",
      "2020-05-07 21:37:11 INFO - Adjusting search bound to 4.92 ppm.\n",
      "2020-05-07 21:37:32 INFO - Second search complete. Compared 35,547,571 spectra and found 297,523 psms.\n",
      "2020-05-07 21:37:55 INFO - Extracted columns for 297,523 psms.\n",
      "2020-05-07 21:37:57 INFO - Scoring peptides complete. For 0.01 FDR found 109,927 targets and 711 decoys.\n",
      "2020-05-07 21:38:47 INFO - Scoring proteins complete. For 0.01 FDR found 108,549 targets and 105 decoys. A total of 6,430 proteins found.\n",
      "2020-05-07 21:38:50 INFO - Saved to F:\\projects\\alphapept\\integration_test\\20191209_TIMS05_QC_ADB_AfterSRIGUpgrade_200ng_03_A1_1_1428_ap.csv\n",
      "2020-05-07 21:38:50 INFO - Settings saved to F:\\projects\\alphapept\\integration_test\\20191209_TIMS05_QC_ADB_AfterSRIGUpgrade_200ng_03_A1_1_1428_ap.yaml\n"
     ]
    },
    {
     "name": "stdout",
     "output_type": "stream",
     "text": [
      "\n",
      "\n"
     ]
    },
    {
     "data": {
      "application/vnd.jupyter.widget-view+json": {
       "model_id": "4010744412a545ce898857bc17f9ee84",
       "version_major": 2,
       "version_minor": 0
      },
      "text/plain": [
       "HBox(children=(FloatProgress(value=0.0, description='Current Progress', style=ProgressStyle(description_width=…"
      ]
     },
     "metadata": {},
     "output_type": "display_data"
    },
    {
     "data": {
      "application/vnd.jupyter.widget-view+json": {
       "model_id": "d2f38b0aef794e46835f37018b0ca706",
       "version_major": 2,
       "version_minor": 0
      },
      "text/plain": [
       "HBox(children=(FloatProgress(value=0.0, description='Overall Progress', style=ProgressStyle(description_width=…"
      ]
     },
     "metadata": {},
     "output_type": "display_data"
    },
    {
     "name": "stderr",
     "output_type": "stream",
     "text": [
      "2020-05-07 21:38:50 INFO - Checking raw path F:\\projects\\alphapept\\integration_test\\20191209_TIMS05_QC_ADB_AfterSRIGUpgrade_200ng_03_A1_1_1428.d.\n",
      "2020-05-07 21:38:50 INFO - NPZ for raw file present. Skipping conversion step.\n",
      "2020-05-07 21:38:50 INFO - Raw path okay.\n",
      "2020-05-07 21:38:50 INFO - Checking library path.\n",
      "2020-05-07 21:38:50 INFO - NPZ for library file present.\n",
      "2020-05-07 21:38:50 INFO - Library path okay.\n",
      "2020-05-07 21:38:50 INFO - Finding Features\n",
      "2020-05-07 21:38:50 INFO - Fature Finding for Bruker\n",
      "2020-05-07 21:38:52 INFO - Extracted 261,930 features.\n",
      "2020-05-07 21:41:54 INFO - First search complete. Compared 356,163,285 spectra and found 1,947,349 psms.\n",
      "2020-05-07 21:43:46 INFO - Extracted columns for 1,947,349 psms.\n",
      "2020-05-07 21:43:53 INFO - Scoring complete. For 0.01 FDR found 137,748 targets and 1,377 decoys.\n",
      "2020-05-07 21:43:53 INFO - Precursor Offset (PPM) is -16.85 (mean), 7.23 (std)\n",
      "2020-05-07 21:44:57 INFO - Calibration complete. Precursor Offset (PPM) is -0.02 (mean), 2.58 (std)\n",
      "2020-05-07 21:44:57 INFO - Adjusting search bound to 7.73 ppm.\n",
      "2020-05-07 21:45:35 INFO - Second search complete. Compared 67,990,167 spectra and found 520,992 psms.\n",
      "2020-05-07 21:46:14 INFO - Extracted columns for 520,992 psms.\n",
      "2020-05-07 21:46:17 INFO - Scoring peptides complete. For 0.01 FDR found 150,862 targets and 981 decoys.\n",
      "2020-05-07 21:47:06 INFO - Scoring proteins complete. For 0.01 FDR found 149,220 targets and 168 decoys. A total of 6,389 proteins found.\n"
     ]
    },
    {
     "name": "stdout",
     "output_type": "stream",
     "text": [
      "Experienced the following exception:\n",
      "----------------------------------------------------------------------------------------------------\n",
      "Match beween runs not implemented yet.\n",
      "----------------------------------------------------------------------------------------------------\n",
      "\n",
      "\n"
     ]
    },
    {
     "data": {
      "application/vnd.jupyter.widget-view+json": {
       "model_id": "cb89f55fab1d4ede89be0e506622b9a1",
       "version_major": 2,
       "version_minor": 0
      },
      "text/plain": [
       "HBox(children=(FloatProgress(value=0.0, description='Current Progress', style=ProgressStyle(description_width=…"
      ]
     },
     "metadata": {},
     "output_type": "display_data"
    },
    {
     "data": {
      "application/vnd.jupyter.widget-view+json": {
       "model_id": "751f25cce87845e58a4c75c5211dba8e",
       "version_major": 2,
       "version_minor": 0
      },
      "text/plain": [
       "HBox(children=(FloatProgress(value=0.0, description='Overall Progress', style=ProgressStyle(description_width=…"
      ]
     },
     "metadata": {},
     "output_type": "display_data"
    },
    {
     "name": "stderr",
     "output_type": "stream",
     "text": [
      "2020-05-07 21:47:06 INFO - Checking raw path F:\\projects\\alphapept\\integration_test\\20191209_TIMS05_QC_ADB_AfterSRIGUpgrade_200ng_03_A1_1_1428.d.\n",
      "2020-05-07 21:47:06 INFO - NPZ for raw file present. Skipping conversion step.\n",
      "2020-05-07 21:47:06 INFO - Raw path okay.\n",
      "2020-05-07 21:47:06 INFO - Checking library path.\n",
      "2020-05-07 21:47:06 INFO - NPZ for library file present.\n",
      "2020-05-07 21:47:06 INFO - Library path okay.\n",
      "2020-05-07 21:47:06 INFO - Finding Features\n",
      "2020-05-07 21:47:06 INFO - Fature Finding for Bruker\n",
      "2020-05-07 21:47:08 INFO - Extracted 261,930 features.\n",
      "2020-05-07 21:50:10 INFO - First search complete. Compared 356,163,285 spectra and found 1,947,349 psms.\n",
      "2020-05-07 21:52:04 INFO - Extracted columns for 1,947,349 psms.\n",
      "2020-05-07 21:52:10 INFO - Scoring complete. For 0.01 FDR found 137,748 targets and 1,377 decoys.\n",
      "2020-05-07 21:52:10 INFO - Precursor Offset (PPM) is -16.85 (mean), 7.23 (std)\n",
      "2020-05-07 21:53:15 INFO - Calibration complete. Precursor Offset (PPM) is -0.02 (mean), 2.58 (std)\n",
      "2020-05-07 21:53:15 INFO - Adjusting search bound to 7.73 ppm.\n",
      "2020-05-07 21:53:53 INFO - Second search complete. Compared 67,990,167 spectra and found 520,992 psms.\n",
      "2020-05-07 21:54:30 INFO - Extracted columns for 520,992 psms.\n",
      "2020-05-07 21:54:33 INFO - Scoring peptides complete. For 0.01 FDR found 150,862 targets and 981 decoys.\n",
      "2020-05-07 21:55:21 INFO - Scoring proteins complete. For 0.01 FDR found 149,220 targets and 168 decoys. A total of 6,389 proteins found.\n"
     ]
    },
    {
     "name": "stdout",
     "output_type": "stream",
     "text": [
      "Experienced the following exception:\n",
      "----------------------------------------------------------------------------------------------------\n",
      "MaxLFQ not implemented yet.\n",
      "----------------------------------------------------------------------------------------------------\n",
      "\n",
      "\n"
     ]
    },
    {
     "data": {
      "application/vnd.jupyter.widget-view+json": {
       "model_id": "5c09cb514a944c16875361921bfd68a0",
       "version_major": 2,
       "version_minor": 0
      },
      "text/plain": [
       "HBox(children=(FloatProgress(value=0.0, description='Current Progress', style=ProgressStyle(description_width=…"
      ]
     },
     "metadata": {},
     "output_type": "display_data"
    },
    {
     "data": {
      "application/vnd.jupyter.widget-view+json": {
       "model_id": "38da8d74ae094e9886a132353b785618",
       "version_major": 2,
       "version_minor": 0
      },
      "text/plain": [
       "HBox(children=(FloatProgress(value=0.0, description='Overall Progress', style=ProgressStyle(description_width=…"
      ]
     },
     "metadata": {},
     "output_type": "display_data"
    },
    {
     "name": "stderr",
     "output_type": "stream",
     "text": [
      "2020-05-07 21:55:21 INFO - Checking raw path F:\\projects\\alphapept\\integration_test\\20191209_TIMS05_QC_ADB_AfterSRIGUpgrade_200ng_03_A1_1_1428.d.\n",
      "2020-05-07 21:55:21 INFO - NPZ for raw file present. Skipping conversion step.\n",
      "2020-05-07 21:55:21 INFO - Raw path okay.\n",
      "2020-05-07 21:55:21 INFO - Checking library path.\n",
      "2020-05-07 21:55:21 INFO - NPZ for library file present.\n",
      "2020-05-07 21:55:21 INFO - Library path okay.\n",
      "2020-05-07 21:55:21 INFO - Finding Features\n",
      "2020-05-07 21:55:21 INFO - Fature Finding for Bruker\n",
      "2020-05-07 21:55:23 INFO - Extracted 261,930 features.\n",
      "2020-05-07 21:58:25 INFO - First search complete. Compared 356,163,285 spectra and found 1,947,349 psms.\n",
      "2020-05-07 22:00:18 INFO - Extracted columns for 1,947,349 psms.\n",
      "2020-05-07 22:00:25 INFO - Scoring peptides complete. For 0.01 FDR found 151,359 targets and 1,030 decoys.\n",
      "2020-05-07 22:01:11 INFO - Scoring proteins complete. For 0.01 FDR found 149,562 targets and 168 decoys. A total of 6,299 proteins found.\n",
      "2020-05-07 22:01:15 INFO - Saved to F:\\projects\\alphapept\\integration_test\\20191209_TIMS05_QC_ADB_AfterSRIGUpgrade_200ng_03_A1_1_1428_ap.csv\n",
      "2020-05-07 22:01:15 INFO - Settings saved to F:\\projects\\alphapept\\integration_test\\20191209_TIMS05_QC_ADB_AfterSRIGUpgrade_200ng_03_A1_1_1428_ap.yaml\n"
     ]
    },
    {
     "name": "stdout",
     "output_type": "stream",
     "text": [
      "\n",
      "\n",
      "\n",
      "Integration test complete. Time elapsed 3.09 hours\n",
      "Complete\n"
     ]
    }
   ],
   "source": [
    "if False:\n",
    "    import pandas as pd\n",
    "    from tqdm.notebook import tqdm as tqdm\n",
    "\n",
    "    report = []\n",
    "    start = time()\n",
    "    for test_case in tqdm(test_cases):\n",
    "\n",
    "        report.append(tuple([_[2] for _ in return_bool_settings(test_case)]) + run_test(test_case))\n",
    "\n",
    "    end = time()\n",
    "\n",
    "    import pandas as pd\n",
    "\n",
    "    print('Integration test complete. Time elapsed {:.2f} hours'.format((end-start)/60/60))\n",
    "\n",
    "    columns = [_[1] for _ in return_bool_settings(test_case)]\n",
    "    columns.extend(['n_proteins', 'n_sequences', 'n_sequence_charges', 'time_minutes', 'error'])\n",
    "\n",
    "    print('Complete')\n",
    "    pd.DataFrame(report, columns = columns)"
   ]
  },
  {
   "cell_type": "code",
   "execution_count": 11,
   "metadata": {},
   "outputs": [
    {
     "data": {
      "text/html": [
       "<div>\n",
       "<style scoped>\n",
       "    .dataframe tbody tr th:only-of-type {\n",
       "        vertical-align: middle;\n",
       "    }\n",
       "\n",
       "    .dataframe tbody tr th {\n",
       "        vertical-align: top;\n",
       "    }\n",
       "\n",
       "    .dataframe thead th {\n",
       "        text-align: right;\n",
       "    }\n",
       "</style>\n",
       "<table border=\"1\" class=\"dataframe\">\n",
       "  <thead>\n",
       "    <tr style=\"text-align: right;\">\n",
       "      <th></th>\n",
       "      <th>convert_raw</th>\n",
       "      <th>create_library</th>\n",
       "      <th>find_features</th>\n",
       "      <th>parallel</th>\n",
       "      <th>ppm</th>\n",
       "      <th>match_between_runs</th>\n",
       "      <th>max_lfq</th>\n",
       "      <th>convert_raw</th>\n",
       "      <th>calibrate</th>\n",
       "      <th>parallel</th>\n",
       "      <th>ppm</th>\n",
       "      <th>n_proteins</th>\n",
       "      <th>n_sequences</th>\n",
       "      <th>n_sequence_charges</th>\n",
       "      <th>time_minutes</th>\n",
       "      <th>error</th>\n",
       "    </tr>\n",
       "  </thead>\n",
       "  <tbody>\n",
       "    <tr>\n",
       "      <th>0</th>\n",
       "      <td>True</td>\n",
       "      <td>True</td>\n",
       "      <td>True</td>\n",
       "      <td>True</td>\n",
       "      <td>True</td>\n",
       "      <td>False</td>\n",
       "      <td>False</td>\n",
       "      <td>True</td>\n",
       "      <td>True</td>\n",
       "      <td>True</td>\n",
       "      <td>True</td>\n",
       "      <td>5884.0</td>\n",
       "      <td>38046.0</td>\n",
       "      <td>43494.0</td>\n",
       "      <td>25.570921</td>\n",
       "      <td>False</td>\n",
       "    </tr>\n",
       "    <tr>\n",
       "      <th>1</th>\n",
       "      <td>True</td>\n",
       "      <td>False</td>\n",
       "      <td>True</td>\n",
       "      <td>True</td>\n",
       "      <td>True</td>\n",
       "      <td>False</td>\n",
       "      <td>False</td>\n",
       "      <td>False</td>\n",
       "      <td>True</td>\n",
       "      <td>True</td>\n",
       "      <td>True</td>\n",
       "      <td>5883.0</td>\n",
       "      <td>38043.0</td>\n",
       "      <td>43489.0</td>\n",
       "      <td>18.903161</td>\n",
       "      <td>False</td>\n",
       "    </tr>\n",
       "    <tr>\n",
       "      <th>2</th>\n",
       "      <td>True</td>\n",
       "      <td>True</td>\n",
       "      <td>True</td>\n",
       "      <td>True</td>\n",
       "      <td>True</td>\n",
       "      <td>False</td>\n",
       "      <td>False</td>\n",
       "      <td>True</td>\n",
       "      <td>True</td>\n",
       "      <td>True</td>\n",
       "      <td>True</td>\n",
       "      <td>6389.0</td>\n",
       "      <td>55061.0</td>\n",
       "      <td>68114.0</td>\n",
       "      <td>43.418143</td>\n",
       "      <td>False</td>\n",
       "    </tr>\n",
       "    <tr>\n",
       "      <th>3</th>\n",
       "      <td>True</td>\n",
       "      <td>False</td>\n",
       "      <td>True</td>\n",
       "      <td>True</td>\n",
       "      <td>True</td>\n",
       "      <td>False</td>\n",
       "      <td>False</td>\n",
       "      <td>False</td>\n",
       "      <td>True</td>\n",
       "      <td>True</td>\n",
       "      <td>True</td>\n",
       "      <td>6389.0</td>\n",
       "      <td>55061.0</td>\n",
       "      <td>68114.0</td>\n",
       "      <td>8.332379</td>\n",
       "      <td>False</td>\n",
       "    </tr>\n",
       "    <tr>\n",
       "      <th>4</th>\n",
       "      <td>True</td>\n",
       "      <td>False</td>\n",
       "      <td>False</td>\n",
       "      <td>True</td>\n",
       "      <td>True</td>\n",
       "      <td>False</td>\n",
       "      <td>False</td>\n",
       "      <td>False</td>\n",
       "      <td>True</td>\n",
       "      <td>True</td>\n",
       "      <td>True</td>\n",
       "      <td>6208.0</td>\n",
       "      <td>47703.0</td>\n",
       "      <td>55667.0</td>\n",
       "      <td>2.698864</td>\n",
       "      <td>False</td>\n",
       "    </tr>\n",
       "    <tr>\n",
       "      <th>5</th>\n",
       "      <td>True</td>\n",
       "      <td>False</td>\n",
       "      <td>True</td>\n",
       "      <td>True</td>\n",
       "      <td>True</td>\n",
       "      <td>True</td>\n",
       "      <td>False</td>\n",
       "      <td>False</td>\n",
       "      <td>True</td>\n",
       "      <td>True</td>\n",
       "      <td>True</td>\n",
       "      <td>NaN</td>\n",
       "      <td>NaN</td>\n",
       "      <td>NaN</td>\n",
       "      <td>18.673922</td>\n",
       "      <td>True</td>\n",
       "    </tr>\n",
       "    <tr>\n",
       "      <th>6</th>\n",
       "      <td>True</td>\n",
       "      <td>False</td>\n",
       "      <td>True</td>\n",
       "      <td>True</td>\n",
       "      <td>True</td>\n",
       "      <td>False</td>\n",
       "      <td>True</td>\n",
       "      <td>False</td>\n",
       "      <td>True</td>\n",
       "      <td>True</td>\n",
       "      <td>True</td>\n",
       "      <td>NaN</td>\n",
       "      <td>NaN</td>\n",
       "      <td>NaN</td>\n",
       "      <td>18.629323</td>\n",
       "      <td>True</td>\n",
       "    </tr>\n",
       "    <tr>\n",
       "      <th>7</th>\n",
       "      <td>True</td>\n",
       "      <td>False</td>\n",
       "      <td>True</td>\n",
       "      <td>True</td>\n",
       "      <td>True</td>\n",
       "      <td>False</td>\n",
       "      <td>False</td>\n",
       "      <td>False</td>\n",
       "      <td>False</td>\n",
       "      <td>True</td>\n",
       "      <td>True</td>\n",
       "      <td>5823.0</td>\n",
       "      <td>37991.0</td>\n",
       "      <td>43546.0</td>\n",
       "      <td>17.582534</td>\n",
       "      <td>False</td>\n",
       "    </tr>\n",
       "    <tr>\n",
       "      <th>8</th>\n",
       "      <td>True</td>\n",
       "      <td>False</td>\n",
       "      <td>False</td>\n",
       "      <td>True</td>\n",
       "      <td>True</td>\n",
       "      <td>False</td>\n",
       "      <td>False</td>\n",
       "      <td>False</td>\n",
       "      <td>True</td>\n",
       "      <td>True</td>\n",
       "      <td>True</td>\n",
       "      <td>6430.0</td>\n",
       "      <td>57739.0</td>\n",
       "      <td>68990.0</td>\n",
       "      <td>9.181147</td>\n",
       "      <td>False</td>\n",
       "    </tr>\n",
       "    <tr>\n",
       "      <th>9</th>\n",
       "      <td>True</td>\n",
       "      <td>False</td>\n",
       "      <td>True</td>\n",
       "      <td>True</td>\n",
       "      <td>True</td>\n",
       "      <td>True</td>\n",
       "      <td>False</td>\n",
       "      <td>False</td>\n",
       "      <td>True</td>\n",
       "      <td>True</td>\n",
       "      <td>True</td>\n",
       "      <td>NaN</td>\n",
       "      <td>NaN</td>\n",
       "      <td>NaN</td>\n",
       "      <td>8.268159</td>\n",
       "      <td>True</td>\n",
       "    </tr>\n",
       "    <tr>\n",
       "      <th>10</th>\n",
       "      <td>True</td>\n",
       "      <td>False</td>\n",
       "      <td>True</td>\n",
       "      <td>True</td>\n",
       "      <td>True</td>\n",
       "      <td>False</td>\n",
       "      <td>True</td>\n",
       "      <td>False</td>\n",
       "      <td>True</td>\n",
       "      <td>True</td>\n",
       "      <td>True</td>\n",
       "      <td>NaN</td>\n",
       "      <td>NaN</td>\n",
       "      <td>NaN</td>\n",
       "      <td>8.255987</td>\n",
       "      <td>True</td>\n",
       "    </tr>\n",
       "    <tr>\n",
       "      <th>11</th>\n",
       "      <td>True</td>\n",
       "      <td>False</td>\n",
       "      <td>True</td>\n",
       "      <td>True</td>\n",
       "      <td>True</td>\n",
       "      <td>False</td>\n",
       "      <td>False</td>\n",
       "      <td>False</td>\n",
       "      <td>False</td>\n",
       "      <td>True</td>\n",
       "      <td>True</td>\n",
       "      <td>6299.0</td>\n",
       "      <td>52255.0</td>\n",
       "      <td>65397.0</td>\n",
       "      <td>5.898562</td>\n",
       "      <td>False</td>\n",
       "    </tr>\n",
       "  </tbody>\n",
       "</table>\n",
       "</div>"
      ],
      "text/plain": [
       "    convert_raw  create_library  find_features  parallel   ppm  \\\n",
       "0          True            True           True      True  True   \n",
       "1          True           False           True      True  True   \n",
       "2          True            True           True      True  True   \n",
       "3          True           False           True      True  True   \n",
       "4          True           False          False      True  True   \n",
       "5          True           False           True      True  True   \n",
       "6          True           False           True      True  True   \n",
       "7          True           False           True      True  True   \n",
       "8          True           False          False      True  True   \n",
       "9          True           False           True      True  True   \n",
       "10         True           False           True      True  True   \n",
       "11         True           False           True      True  True   \n",
       "\n",
       "    match_between_runs  max_lfq  convert_raw  calibrate  parallel   ppm  \\\n",
       "0                False    False         True       True      True  True   \n",
       "1                False    False        False       True      True  True   \n",
       "2                False    False         True       True      True  True   \n",
       "3                False    False        False       True      True  True   \n",
       "4                False    False        False       True      True  True   \n",
       "5                 True    False        False       True      True  True   \n",
       "6                False     True        False       True      True  True   \n",
       "7                False    False        False      False      True  True   \n",
       "8                False    False        False       True      True  True   \n",
       "9                 True    False        False       True      True  True   \n",
       "10               False     True        False       True      True  True   \n",
       "11               False    False        False      False      True  True   \n",
       "\n",
       "    n_proteins  n_sequences  n_sequence_charges  time_minutes  error  \n",
       "0       5884.0      38046.0             43494.0     25.570921  False  \n",
       "1       5883.0      38043.0             43489.0     18.903161  False  \n",
       "2       6389.0      55061.0             68114.0     43.418143  False  \n",
       "3       6389.0      55061.0             68114.0      8.332379  False  \n",
       "4       6208.0      47703.0             55667.0      2.698864  False  \n",
       "5          NaN          NaN                 NaN     18.673922   True  \n",
       "6          NaN          NaN                 NaN     18.629323   True  \n",
       "7       5823.0      37991.0             43546.0     17.582534  False  \n",
       "8       6430.0      57739.0             68990.0      9.181147  False  \n",
       "9          NaN          NaN                 NaN      8.268159   True  \n",
       "10         NaN          NaN                 NaN      8.255987   True  \n",
       "11      6299.0      52255.0             65397.0      5.898562  False  "
      ]
     },
     "execution_count": 11,
     "metadata": {},
     "output_type": "execute_result"
    }
   ],
   "source": [
    "pd.DataFrame(report, columns = columns)"
   ]
  }
 ],
 "metadata": {
  "kernelspec": {
   "display_name": "Python [conda env:alphap] *",
   "language": "python",
   "name": "conda-env-alphap-py"
  },
  "language_info": {
   "codemirror_mode": {
    "name": "ipython",
    "version": 3
   },
   "file_extension": ".py",
   "mimetype": "text/x-python",
   "name": "python",
   "nbconvert_exporter": "python",
   "pygments_lexer": "ipython3",
   "version": "3.8.1"
  }
 },
 "nbformat": 4,
 "nbformat_minor": 2
}
