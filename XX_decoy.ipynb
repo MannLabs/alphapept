{
 "cells": [
  {
   "cell_type": "markdown",
   "metadata": {},
   "source": [
    "# Decoy Strategy\n",
    "\n",
    "This notebook compares different decoy strategies."
   ]
  },
  {
   "cell_type": "code",
   "execution_count": 1,
   "metadata": {},
   "outputs": [],
   "source": [
    "from alphapept.runner import run_alphapept\n",
    "from alphapept.settings import load_settings\n",
    "\n",
    "settings = load_settings('F:/projects/alphapept/default_settings.yaml')"
   ]
  },
  {
   "cell_type": "markdown",
   "metadata": {},
   "source": [
    "## Default"
   ]
  },
  {
   "cell_type": "code",
   "execution_count": 2,
   "metadata": {},
   "outputs": [
    {
     "name": "stdout",
     "output_type": "stream",
     "text": [
      "2020-10-31 17:17:36 INFO - Currently 113.41 GB of memory available.\n",
      "2020-10-31 17:17:36 INFO - System information: uname_result(system='Windows', node='PCMANN338', release='10', version='10.0.18362', machine='AMD64', processor='Intel64 Family 6 Model 85 Stepping 4, GenuineIntel')\n",
      "2020-10-31 17:17:36 INFO - Python version 3.8.5 | packaged by conda-forge | (default, Aug 29 2020, 00:43:28) [MSC v.1916 64 bit (AMD64)]\n",
      "2020-10-31 17:17:36 INFO - Numba version 0.51.2\n",
      "2020-10-31 17:17:36 INFO - Check for settings not completely implemented yet.\n",
      "2020-10-31 17:17:36 INFO - Checking CPU settings.\n",
      "2020-10-31 17:17:36 INFO - Setting number of processes to 24.\n",
      "2020-10-31 17:17:36 INFO - Checking if files exist.\n",
      "2020-10-31 17:17:36 INFO - Results path was not set. Setting to E:\\benchmark\\thermo_bug\\6\\results.hdf\n",
      "2020-10-31 17:17:36 INFO - Shortnames not set. Setting to filename.\n",
      "2020-10-31 17:17:36 INFO - Database path E:\\benchmark\\thermo_bug\\5\\database_01.hdf is not a file.\n",
      "2020-10-31 17:17:36 INFO - Found FASTA file E:/benchmark/contaminants.fasta with size 0.15 Mb.\n",
      "2020-10-31 17:17:36 INFO - Found FASTA file E:/benchmark/fasta/human.fasta with size 12.97 Mb.\n",
      "2020-10-31 17:17:36 INFO - Creating a new database from FASTA.\n"
     ]
    },
    {
     "name": "stderr",
     "output_type": "stream",
     "text": [
      "100%|██████████████████████████████████████████████████████████████████████████████████| 1.0/1 [01:13<00:00, 28.46s/it]"
     ]
    },
    {
     "name": "stdout",
     "output_type": "stream",
     "text": [
      "2020-10-31 17:19:00 INFO - Digested 20,611 proteins and generated 5,290,778 spectra\n",
      "2020-10-31 17:20:08 INFO - Database saved to E:\\benchmark\\thermo_bug\\5\\database_01.hdf. Filesize of database is 2.75 GB\n",
      "2020-10-31 17:20:08 INFO - Found *.ms_data.hdf file for E:/benchmark/thermo_bug/6/HeLa_500ng.raw\n",
      "2020-10-31 17:20:08 INFO - Found *.hdf with features for E:/benchmark/thermo_bug/6/HeLa_500ng.raw\n",
      "2020-10-31 17:20:08 INFO - Starting first search with DB.\n"
     ]
    },
    {
     "name": "stderr",
     "output_type": "stream",
     "text": [
      "\n",
      "100%|█████████████████████████████████████████████████████████████████████████████████| 1.0/1 [02:39<00:00, 159.18s/it]\u001b[A\n"
     ]
    },
    {
     "name": "stdout",
     "output_type": "stream",
     "text": [
      "2020-10-31 17:20:24 INFO - Performing search on 120,226 query and 5,290,778 db entries with m_tol = 20 and m_offset = 10.\n",
      "2020-10-31 17:20:43 INFO - Compared 30,935,282 spectra and found 163,807 psms.\n",
      "2020-10-31 17:20:44 INFO - Extracting columns for scoring.\n",
      "2020-10-31 17:21:25 INFO - Extracted columns from 163,807 spectra.\n",
      "2020-10-31 17:21:25 INFO - Saving first_search results to <HDF_File E:\\benchmark\\thermo_bug\\6\\HeLa_500ng.ms_data.hdf>\n",
      "2020-10-31 17:21:41 INFO - First search complete.\n",
      "2020-10-31 17:21:41 INFO - Performing recalibration.\n"
     ]
    },
    {
     "name": "stderr",
     "output_type": "stream",
     "text": [
      "100%|█████████████████████████████████████████████████████████████████████████████████| 1.0/1 [04:02<00:00, 242.93s/it]"
     ]
    },
    {
     "name": "stdout",
     "output_type": "stream",
     "text": [
      "2020-10-31 17:25:44 INFO - Recalibration complete.\n",
      "2020-10-31 17:25:44 INFO - Starting second search with DB.\n"
     ]
    },
    {
     "name": "stderr",
     "output_type": "stream",
     "text": [
      "\n",
      "\n",
      "  0%|                                                                                            | 0/1 [00:00<?, ?it/s]\u001b[A\u001b[A"
     ]
    },
    {
     "name": "stdout",
     "output_type": "stream",
     "text": [
      "2020-10-31 17:25:44 INFO - Found calibrated m_offset with value 2.9522004309459966\n"
     ]
    },
    {
     "name": "stderr",
     "output_type": "stream",
     "text": [
      "100%|█████████████████████████████████████████████████████████████████████████████████| 1.0/1 [04:06<00:00, 246.31s/it]\n",
      "  0%|                                                                                            | 0/1 [05:42<?, ?it/s]\n"
     ]
    },
    {
     "name": "stdout",
     "output_type": "stream",
     "text": [
      "2020-10-31 17:26:00 INFO - Performing search on 120,226 query and 5,290,778 db entries with m_tol = 20 and m_offset = 2.9522004309459966.\n",
      "2020-10-31 17:26:05 INFO - Compared 9,929,530 spectra and found 106,111 psms.\n",
      "2020-10-31 17:26:05 INFO - Extracting columns for scoring.\n",
      "2020-10-31 17:26:19 INFO - Extracted columns from 106,111 spectra.\n",
      "2020-10-31 17:26:19 INFO - Saving second_search results to <HDF_File E:\\benchmark\\thermo_bug\\6\\HeLa_500ng.ms_data.hdf>\n",
      "2020-10-31 17:26:34 INFO - Second search complete.\n"
     ]
    },
    {
     "name": "stderr",
     "output_type": "stream",
     "text": [
      "\r",
      "  0%|                                                                                            | 0/1 [00:00<?, ?it/s]"
     ]
    },
    {
     "name": "stdout",
     "output_type": "stream",
     "text": [
      "2020-10-31 17:26:34 INFO - Found second search psms for scoring.\n",
      "2020-10-31 17:26:34 INFO - Note: NumExpr detected 24 cores but \"NUMEXPR_MAX_THREADS\" not set, so enforcing safe limit of 8.\n",
      "2020-10-31 17:26:34 INFO - NumExpr defaulting to 8 threads.\n",
      "2020-10-31 17:26:36 INFO - Filter df with x_tandem score\n",
      "2020-10-31 17:26:36 INFO - Global FDR on precursor\n",
      "2020-10-31 17:26:37 INFO - 55,998 target (559 decoy) of 62305 PSM. fdr 0.009982 for a cutoff of 20.09 \n",
      "2020-10-31 17:26:37 INFO - FDR on peptides complete. For 0.01 FDR found 55,998 targets and 559 decoys.\n",
      "2020-10-31 17:26:37 INFO - Scoring complete.\n",
      "2020-10-31 17:26:37 INFO - Extracting protein groups.\n"
     ]
    },
    {
     "name": "stderr",
     "output_type": "stream",
     "text": [
      "\n",
      "  0%|                                                                                            | 0/1 [00:00<?, ?it/s]\u001b[A"
     ]
    },
    {
     "name": "stdout",
     "output_type": "stream",
     "text": [
      "2020-10-31 17:26:41 INFO - A total of 7,238 proteins with unique PSMs found\n",
      "2020-10-31 17:26:41 INFO - A total of 855 ambigious proteins\n",
      "2020-10-31 17:27:08 INFO - A total of 506 proteins with unique PSMs found\n",
      "2020-10-31 17:27:08 INFO - A total of 30 ambigious proteins\n",
      "2020-10-31 17:27:08 INFO - Global FDR on protein\n",
      "2020-10-31 17:27:08 INFO - 5,919 target (59 decoy) of 7935 PSM. fdr 0.009968 for a cutoff of 23.52 \n",
      "2020-10-31 17:27:11 INFO - FDR on proteins complete. For 0.01 FDR found 54,244 targets and 65 decoys. A total of 5,949 proteins found.\n",
      "2020-10-31 17:27:11 INFO - Protein groups complete.\n",
      "2020-10-31 17:27:11 INFO - Assembling dataframe.\n",
      "2020-10-31 17:27:12 INFO - Assembly complete.\n",
      "2020-10-31 17:27:12 INFO - Settings saved to E:\\benchmark\\thermo_bug\\6\\results.yaml\n",
      "2020-10-31 17:27:12 INFO - Analysis complete.\n"
     ]
    }
   ],
   "source": [
    "settings['experiment']['file_paths'] = ['E:/benchmark/thermo_bug/6/HeLa_500ng.raw']\n",
    "settings['experiment']['shortnames'] = []\n",
    "settings['fasta']['fasta_paths'] =['E:/benchmark/contaminants.fasta',\n",
    "   'E:/benchmark/fasta/human.fasta']\n",
    "\n",
    "settings['fasta']['database_path'] = 'E:\\\\benchmark\\\\thermo_bug\\\\5\\\\database_01.hdf'\n",
    "\n",
    "settings_ = run_alphapept(settings)"
   ]
  },
  {
   "cell_type": "markdown",
   "metadata": {},
   "source": [
    "## Pseudo Reverse"
   ]
  },
  {
   "cell_type": "code",
   "execution_count": 3,
   "metadata": {
    "scrolled": false
   },
   "outputs": [
    {
     "name": "stdout",
     "output_type": "stream",
     "text": [
      "2020-10-31 17:27:19 INFO - Currently 111.23 GB of memory available.\n",
      "2020-10-31 17:27:19 INFO - System information: uname_result(system='Windows', node='PCMANN338', release='10', version='10.0.18362', machine='AMD64', processor='Intel64 Family 6 Model 85 Stepping 4, GenuineIntel')\n",
      "2020-10-31 17:27:19 INFO - Python version 3.8.5 | packaged by conda-forge | (default, Aug 29 2020, 00:43:28) [MSC v.1916 64 bit (AMD64)]\n",
      "2020-10-31 17:27:19 INFO - Numba version 0.51.2\n",
      "2020-10-31 17:27:19 INFO - Check for settings not completely implemented yet.\n",
      "2020-10-31 17:27:19 INFO - Checking CPU settings.\n",
      "2020-10-31 17:27:19 INFO - Checking if files exist.\n",
      "2020-10-31 17:27:19 INFO - Database path E:\\benchmark\\thermo_bug\\5\\database_02.hdf is not a file.\n",
      "2020-10-31 17:27:19 INFO - Found FASTA file E:/benchmark/contaminants.fasta with size 0.15 Mb.\n",
      "2020-10-31 17:27:19 INFO - Found FASTA file E:/benchmark/fasta/human.fasta with size 12.97 Mb.\n",
      "2020-10-31 17:27:19 INFO - Creating a new database from FASTA.\n"
     ]
    },
    {
     "name": "stderr",
     "output_type": "stream",
     "text": [
      "\n",
      "\n",
      "\n",
      "  0%|                                                                                            | 0/1 [00:00<?, ?it/s]\u001b[A\u001b[A\u001b[A\n",
      "\n",
      "\n",
      "  5%|███                                                             | 0.047619047619047616/1 [00:40<13:36, 857.52s/it]\u001b[A\u001b[A\u001b[A\n",
      "\n",
      "\n",
      " 10%|██████▏                                                          | 0.09523809523809523/1 [00:48<09:46, 648.09s/it]\u001b[A\u001b[A\u001b[A\n",
      "\n",
      "\n",
      "  0%|                                                                                            | 0/1 [02:26<?, ?it/s]\u001b[A\u001b[A\u001b[A\n",
      "  0%|                                                                                            | 0/1 [01:36<?, ?it/s]\n",
      "  0%|                                                                                            | 0/1 [01:33<?, ?it/s]\n",
      "\n",
      "\n",
      "\n",
      " 19%|████████████▍                                                    | 0.19047619047619047/1 [00:51<04:29, 332.79s/it]\u001b[A\u001b[A\u001b[A\n",
      "\n",
      "\n",
      " 24%|███████████████▍                                                 | 0.23809523809523808/1 [00:52<03:04, 241.69s/it]\u001b[A\u001b[A\u001b[A\n",
      "\n",
      "\n",
      " 29%|██████████████████▊                                               | 0.2857142857142857/1 [00:54<02:07, 178.45s/it]\u001b[A\u001b[A\u001b[A\n",
      "\n",
      "\n",
      " 33%|██████████████████████                                            | 0.3333333333333333/1 [00:55<01:28, 132.14s/it]\u001b[A\u001b[A\u001b[A\n",
      "\n",
      "\n",
      " 38%|████████████████████████▊                                        | 0.38095238095238093/1 [00:56<01:03, 102.45s/it]\u001b[A\u001b[A\u001b[A\n",
      "\n",
      "\n",
      " 43%|████████████████████████████▎                                     | 0.42857142857142855/1 [00:57<00:44, 78.75s/it]\u001b[A\u001b[A\u001b[A\n",
      "\n",
      "\n",
      " 48%|███████████████████████████████▍                                  | 0.47619047619047616/1 [00:59<00:34, 65.66s/it]\u001b[A\u001b[A\u001b[A\n",
      "\n",
      "\n",
      " 52%|███████████████████████████████████                                | 0.5238095238095238/1 [01:00<00:25, 53.26s/it]\u001b[A\u001b[A\u001b[A\n",
      "\n",
      "\n",
      " 57%|██████████████████████████████████████▎                            | 0.5714285714285714/1 [01:01<00:19, 44.66s/it]\u001b[A\u001b[A\u001b[A\n",
      "\n",
      "\n",
      " 62%|█████████████████████████████████████████▍                         | 0.6190476190476191/1 [01:03<00:16, 42.31s/it]\u001b[A\u001b[A\u001b[A\n",
      "\n",
      "\n",
      " 67%|████████████████████████████████████████████▋                      | 0.6666666666666666/1 [01:04<00:12, 37.10s/it]\u001b[A\u001b[A\u001b[A\n",
      "\n",
      "\n",
      " 71%|███████████████████████████████████████████████▊                   | 0.7142857142857143/1 [01:06<00:09, 33.65s/it]\u001b[A\u001b[A\u001b[A\n",
      "\n",
      "\n",
      " 76%|███████████████████████████████████████████████████                | 0.7619047619047619/1 [01:07<00:08, 35.37s/it]\u001b[A\u001b[A\u001b[A\n",
      "\n",
      "\n",
      " 81%|██████████████████████████████████████████████████████▏            | 0.8095238095238095/1 [01:09<00:06, 32.45s/it]\u001b[A\u001b[A\u001b[A\n",
      "\n",
      "\n",
      " 86%|█████████████████████████████████████████████████████████▍         | 0.8571428571428571/1 [01:10<00:04, 30.55s/it]\u001b[A\u001b[A\u001b[A\n",
      "\n",
      "\n",
      " 90%|████████████████████████████████████████████████████████████▌      | 0.9047619047619048/1 [01:11<00:02, 29.05s/it]\u001b[A\u001b[A\u001b[A\n",
      "\n",
      "\n",
      " 95%|███████████████████████████████████████████████████████████████▊   | 0.9523809523809523/1 [01:13<00:01, 33.45s/it]\u001b[A\u001b[A\u001b[A\n",
      "\n",
      "\n",
      "100%|██████████████████████████████████████████████████████████████████████████████████| 1.0/1 [01:15<00:00, 31.59s/it]\u001b[A\u001b[A\u001b[A"
     ]
    },
    {
     "name": "stdout",
     "output_type": "stream",
     "text": [
      "2020-10-31 17:28:45 INFO - Digested 20,611 proteins and generated 5,290,778 spectra\n",
      "2020-10-31 17:29:57 INFO - Database saved to E:\\benchmark\\thermo_bug\\5\\database_02.hdf. Filesize of database is 2.75 GB\n",
      "2020-10-31 17:29:57 INFO - Found *.ms_data.hdf file for E:/benchmark/thermo_bug/6/HeLa_500ng.raw\n",
      "2020-10-31 17:29:57 INFO - Found *.hdf with features for E:/benchmark/thermo_bug/6/HeLa_500ng.raw\n",
      "2020-10-31 17:29:57 INFO - Starting first search with DB.\n"
     ]
    },
    {
     "name": "stderr",
     "output_type": "stream",
     "text": [
      "100%|█████████████████████████████████████████████████████████████████████████████████| 1.0/1 [02:45<00:00, 165.84s/it]\n"
     ]
    },
    {
     "name": "stdout",
     "output_type": "stream",
     "text": [
      "2020-10-31 17:30:12 INFO - Performing search on 120,226 query and 5,290,778 db entries with m_tol = 20 and m_offset = 10.\n",
      "2020-10-31 17:30:27 INFO - Compared 30,935,282 spectra and found 220,583 psms.\n",
      "2020-10-31 17:30:27 INFO - Extracting columns for scoring.\n",
      "2020-10-31 17:30:51 INFO - Extracted columns from 220,583 spectra.\n",
      "2020-10-31 17:30:51 INFO - Saving first_search results to <HDF_File E:\\benchmark\\thermo_bug\\6\\HeLa_500ng.ms_data.hdf>\n",
      "2020-10-31 17:31:07 INFO - First search complete.\n",
      "2020-10-31 17:31:07 INFO - Performing recalibration.\n"
     ]
    },
    {
     "name": "stderr",
     "output_type": "stream",
     "text": [
      "\n",
      "  0%|                                                                                            | 0/1 [00:00<?, ?it/s]\u001b[A\n",
      "100%|█████████████████████████████████████████████████████████████████████████████████| 1.0/1 [03:54<00:00, 234.36s/it]\u001b[A"
     ]
    },
    {
     "name": "stdout",
     "output_type": "stream",
     "text": [
      "2020-10-31 17:35:02 INFO - Recalibration complete.\n",
      "2020-10-31 17:35:02 INFO - Starting second search with DB.\n"
     ]
    },
    {
     "name": "stderr",
     "output_type": "stream",
     "text": [
      "\n",
      "\n",
      "  0%|                                                                                            | 0/1 [00:00<?, ?it/s]\u001b[A\u001b[A"
     ]
    },
    {
     "name": "stdout",
     "output_type": "stream",
     "text": [
      "2020-10-31 17:35:02 INFO - Found calibrated m_offset with value 2.6661710476807663\n"
     ]
    },
    {
     "name": "stderr",
     "output_type": "stream",
     "text": [
      "100%|█████████████████████████████████████████████████████████████████████████████████| 1.0/1 [03:57<00:00, 237.90s/it]\n",
      "  0%|                                                                                            | 0/1 [05:12<?, ?it/s]\n"
     ]
    },
    {
     "name": "stdout",
     "output_type": "stream",
     "text": [
      "2020-10-31 17:35:18 INFO - Performing search on 120,226 query and 5,290,778 db entries with m_tol = 20 and m_offset = 2.6661710476807663.\n",
      "2020-10-31 17:35:22 INFO - Compared 9,035,950 spectra and found 123,553 psms.\n",
      "2020-10-31 17:35:22 INFO - Extracting columns for scoring.\n",
      "2020-10-31 17:35:38 INFO - Extracted columns from 123,553 spectra.\n",
      "2020-10-31 17:35:38 INFO - Saving second_search results to <HDF_File E:\\benchmark\\thermo_bug\\6\\HeLa_500ng.ms_data.hdf>\n",
      "2020-10-31 17:35:53 INFO - Second search complete.\n"
     ]
    },
    {
     "name": "stderr",
     "output_type": "stream",
     "text": [
      "\r",
      "  0%|                                                                                            | 0/1 [00:00<?, ?it/s]"
     ]
    },
    {
     "name": "stdout",
     "output_type": "stream",
     "text": [
      "2020-10-31 17:35:53 INFO - Found second search psms for scoring.\n",
      "2020-10-31 17:35:55 INFO - Filter df with x_tandem score\n",
      "2020-10-31 17:35:56 INFO - Global FDR on precursor\n",
      "2020-10-31 17:35:56 INFO - 47,606 target (476 decoy) of 63071 PSM. fdr 0.009999 for a cutoff of 22.34 \n",
      "2020-10-31 17:35:56 INFO - FDR on peptides complete. For 0.01 FDR found 47,606 targets and 476 decoys.\n",
      "2020-10-31 17:35:56 INFO - Scoring complete.\n",
      "2020-10-31 17:35:56 INFO - Extracting protein groups.\n"
     ]
    },
    {
     "name": "stderr",
     "output_type": "stream",
     "text": [
      "\n",
      "  0%|                                                                                            | 0/1 [00:04<?, ?it/s]\u001b[A\n"
     ]
    },
    {
     "name": "stdout",
     "output_type": "stream",
     "text": [
      "2020-10-31 17:36:00 INFO - A total of 6,049 proteins with unique PSMs found\n",
      "2020-10-31 17:36:00 INFO - A total of 686 ambigious proteins\n",
      "2020-10-31 17:36:23 INFO - A total of 432 proteins with unique PSMs found\n",
      "2020-10-31 17:36:23 INFO - A total of 26 ambigious proteins\n",
      "2020-10-31 17:36:24 INFO - Global FDR on protein\n",
      "2020-10-31 17:36:24 INFO - 5,537 target (55 decoy) of 6620 PSM. fdr 0.009933 for a cutoff of 25.44 \n",
      "2020-10-31 17:36:26 INFO - FDR on proteins complete. For 0.01 FDR found 46,886 targets and 61 decoys. A total of 5,563 proteins found.\n",
      "2020-10-31 17:36:26 INFO - Protein groups complete.\n",
      "2020-10-31 17:36:26 INFO - Assembling dataframe.\n",
      "2020-10-31 17:36:27 INFO - Assembly complete.\n",
      "2020-10-31 17:36:27 INFO - Settings saved to E:\\benchmark\\thermo_bug\\6\\results.yaml\n",
      "2020-10-31 17:36:27 INFO - Analysis complete.\n"
     ]
    }
   ],
   "source": [
    "settings['fasta']['database_path'] = 'E:\\\\benchmark\\\\thermo_bug\\\\5\\\\database_02.hdf'\n",
    "settings['fasta']['pseudo_reverse'] = True\n",
    "\n",
    "settings_ = run_alphapept(settings)"
   ]
  },
  {
   "cell_type": "markdown",
   "metadata": {},
   "source": [
    "## Swap "
   ]
  },
  {
   "cell_type": "code",
   "execution_count": 4,
   "metadata": {},
   "outputs": [
    {
     "name": "stdout",
     "output_type": "stream",
     "text": [
      "2020-10-31 17:36:35 INFO - Currently 111.21 GB of memory available.\n",
      "2020-10-31 17:36:35 INFO - System information: uname_result(system='Windows', node='PCMANN338', release='10', version='10.0.18362', machine='AMD64', processor='Intel64 Family 6 Model 85 Stepping 4, GenuineIntel')\n",
      "2020-10-31 17:36:35 INFO - Python version 3.8.5 | packaged by conda-forge | (default, Aug 29 2020, 00:43:28) [MSC v.1916 64 bit (AMD64)]\n",
      "2020-10-31 17:36:35 INFO - Numba version 0.51.2\n",
      "2020-10-31 17:36:35 INFO - Check for settings not completely implemented yet.\n",
      "2020-10-31 17:36:35 INFO - Checking CPU settings.\n",
      "2020-10-31 17:36:35 INFO - Checking if files exist.\n",
      "2020-10-31 17:36:35 INFO - Database path E:\\benchmark\\thermo_bug\\5\\database_03.hdf is not a file.\n",
      "2020-10-31 17:36:35 INFO - Found FASTA file E:/benchmark/contaminants.fasta with size 0.15 Mb.\n",
      "2020-10-31 17:36:35 INFO - Found FASTA file E:/benchmark/fasta/human.fasta with size 12.97 Mb.\n",
      "2020-10-31 17:36:35 INFO - Creating a new database from FASTA.\n"
     ]
    },
    {
     "name": "stderr",
     "output_type": "stream",
     "text": [
      "  0%|                                                                                            | 0/1 [02:24<?, ?it/s]\n",
      "  0%|                                                                                            | 0/1 [01:29<?, ?it/s]\n",
      "100%|██████████████████████████████████████████████████████████████████████████████████| 1.0/1 [01:13<00:00, 29.55s/it]"
     ]
    },
    {
     "name": "stdout",
     "output_type": "stream",
     "text": [
      "2020-10-31 17:38:00 INFO - Digested 20,611 proteins and generated 5,290,778 spectra\n",
      "2020-10-31 17:39:09 INFO - Database saved to E:\\benchmark\\thermo_bug\\5\\database_03.hdf. Filesize of database is 2.75 GB\n",
      "2020-10-31 17:39:09 INFO - Found *.ms_data.hdf file for E:/benchmark/thermo_bug/6/HeLa_500ng.raw\n",
      "2020-10-31 17:39:09 INFO - Found *.hdf with features for E:/benchmark/thermo_bug/6/HeLa_500ng.raw\n",
      "2020-10-31 17:39:09 INFO - Starting first search with DB.\n"
     ]
    },
    {
     "name": "stderr",
     "output_type": "stream",
     "text": [
      "\n",
      "100%|█████████████████████████████████████████████████████████████████████████████████| 1.0/1 [02:41<00:00, 161.85s/it]\u001b[A\n"
     ]
    },
    {
     "name": "stdout",
     "output_type": "stream",
     "text": [
      "2020-10-31 17:39:25 INFO - Performing search on 120,226 query and 5,290,778 db entries with m_tol = 20 and m_offset = 10.\n",
      "2020-10-31 17:39:40 INFO - Compared 30,935,282 spectra and found 220,583 psms.\n",
      "2020-10-31 17:39:40 INFO - Extracting columns for scoring.\n",
      "2020-10-31 17:40:03 INFO - Extracted columns from 220,583 spectra.\n",
      "2020-10-31 17:40:03 INFO - Saving first_search results to <HDF_File E:\\benchmark\\thermo_bug\\6\\HeLa_500ng.ms_data.hdf>\n",
      "2020-10-31 17:40:20 INFO - First search complete.\n",
      "2020-10-31 17:40:20 INFO - Performing recalibration.\n"
     ]
    },
    {
     "name": "stderr",
     "output_type": "stream",
     "text": [
      "100%|█████████████████████████████████████████████████████████████████████████████████| 1.0/1 [04:26<00:00, 266.63s/it]"
     ]
    },
    {
     "name": "stdout",
     "output_type": "stream",
     "text": [
      "2020-10-31 17:44:46 INFO - Recalibration complete.\n",
      "2020-10-31 17:44:46 INFO - Starting second search with DB.\n"
     ]
    },
    {
     "name": "stderr",
     "output_type": "stream",
     "text": [
      "\n",
      "\n",
      "  0%|                                                                                            | 0/1 [00:00<?, ?it/s]\u001b[A\u001b[A"
     ]
    },
    {
     "name": "stdout",
     "output_type": "stream",
     "text": [
      "2020-10-31 17:44:46 INFO - Found calibrated m_offset with value 2.6661710476807663\n"
     ]
    },
    {
     "name": "stderr",
     "output_type": "stream",
     "text": [
      "100%|█████████████████████████████████████████████████████████████████████████████████| 1.0/1 [04:30<00:00, 270.20s/it]\n",
      "  0%|                                                                                            | 0/1 [05:45<?, ?it/s]\n"
     ]
    },
    {
     "name": "stdout",
     "output_type": "stream",
     "text": [
      "2020-10-31 17:45:01 INFO - Performing search on 120,226 query and 5,290,778 db entries with m_tol = 20 and m_offset = 2.6661710476807663.\n",
      "2020-10-31 17:45:06 INFO - Compared 9,035,950 spectra and found 123,553 psms.\n",
      "2020-10-31 17:45:06 INFO - Extracting columns for scoring.\n",
      "2020-10-31 17:45:22 INFO - Extracted columns from 123,553 spectra.\n",
      "2020-10-31 17:45:22 INFO - Saving second_search results to <HDF_File E:\\benchmark\\thermo_bug\\6\\HeLa_500ng.ms_data.hdf>\n",
      "2020-10-31 17:45:38 INFO - Second search complete.\n"
     ]
    },
    {
     "name": "stderr",
     "output_type": "stream",
     "text": [
      "\r",
      "  0%|                                                                                            | 0/1 [00:00<?, ?it/s]"
     ]
    },
    {
     "name": "stdout",
     "output_type": "stream",
     "text": [
      "2020-10-31 17:45:38 INFO - Found second search psms for scoring.\n",
      "2020-10-31 17:45:41 INFO - Filter df with x_tandem score\n",
      "2020-10-31 17:45:41 INFO - Global FDR on precursor\n",
      "2020-10-31 17:45:41 INFO - 47,606 target (476 decoy) of 63071 PSM. fdr 0.009999 for a cutoff of 22.34 \n",
      "2020-10-31 17:45:42 INFO - FDR on peptides complete. For 0.01 FDR found 47,606 targets and 476 decoys.\n",
      "2020-10-31 17:45:42 INFO - Scoring complete.\n",
      "2020-10-31 17:45:42 INFO - Extracting protein groups.\n"
     ]
    },
    {
     "name": "stderr",
     "output_type": "stream",
     "text": [
      "\n",
      "  0%|                                                                                            | 0/1 [00:04<?, ?it/s]\u001b[A\n"
     ]
    },
    {
     "name": "stdout",
     "output_type": "stream",
     "text": [
      "2020-10-31 17:45:45 INFO - A total of 6,049 proteins with unique PSMs found\n",
      "2020-10-31 17:45:45 INFO - A total of 686 ambigious proteins\n",
      "2020-10-31 17:46:09 INFO - A total of 432 proteins with unique PSMs found\n",
      "2020-10-31 17:46:09 INFO - A total of 26 ambigious proteins\n",
      "2020-10-31 17:46:10 INFO - Global FDR on protein\n",
      "2020-10-31 17:46:10 INFO - 5,537 target (55 decoy) of 6620 PSM. fdr 0.009933 for a cutoff of 25.44 \n",
      "2020-10-31 17:46:12 INFO - FDR on proteins complete. For 0.01 FDR found 46,886 targets and 61 decoys. A total of 5,563 proteins found.\n",
      "2020-10-31 17:46:12 INFO - Protein groups complete.\n",
      "2020-10-31 17:46:12 INFO - Assembling dataframe.\n",
      "2020-10-31 17:46:13 INFO - Assembly complete.\n",
      "2020-10-31 17:46:13 INFO - Settings saved to E:\\benchmark\\thermo_bug\\6\\results.yaml\n",
      "2020-10-31 17:46:13 INFO - Analysis complete.\n"
     ]
    }
   ],
   "source": [
    "settings['fasta']['database_path'] = 'E:\\\\benchmark\\\\thermo_bug\\\\5\\\\database_03.hdf'\n",
    "settings['fasta']['swap_AL'] = True\n",
    "settings['fasta']['swap_KR'] = True\n",
    "\n",
    "settings_ = run_alphapept(settings)"
   ]
  }
 ],
 "metadata": {
  "kernelspec": {
   "display_name": "Python [conda env:.conda-alphapept] *",
   "language": "python",
   "name": "conda-env-.conda-alphapept-py"
  },
  "language_info": {
   "codemirror_mode": {
    "name": "ipython",
    "version": 3
   },
   "file_extension": ".py",
   "mimetype": "text/x-python",
   "name": "python",
   "nbconvert_exporter": "python",
   "pygments_lexer": "ipython3",
   "version": "3.8.5"
  },
  "toc": {
   "base_numbering": 1,
   "nav_menu": {},
   "number_sections": true,
   "sideBar": true,
   "skip_h1_title": false,
   "title_cell": "Table of Contents",
   "title_sidebar": "Contents",
   "toc_cell": false,
   "toc_position": {},
   "toc_section_display": true,
   "toc_window_display": false
  }
 },
 "nbformat": 4,
 "nbformat_minor": 4
}
